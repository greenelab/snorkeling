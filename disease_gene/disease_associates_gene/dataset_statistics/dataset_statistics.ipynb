{
 "cells": [
  {
   "cell_type": "markdown",
   "metadata": {},
   "source": [
    "# Dataset Statistics for Disease Gene Sentences"
   ]
  },
  {
   "cell_type": "markdown",
   "metadata": {},
   "source": [
    "This notebook is designed to show statistics on the data extracted from pubmed. The following cells below here are needed to set up the environment."
   ]
  },
  {
   "cell_type": "code",
   "execution_count": 1,
   "metadata": {
    "ExecuteTime": {
     "end_time": "2019-03-14T18:08:46.943676Z",
     "start_time": "2019-03-14T18:08:46.429699Z"
    }
   },
   "outputs": [],
   "source": [
    "%load_ext autoreload\n",
    "%autoreload 2\n",
    "%matplotlib inline\n",
    "\n",
    "from collections import Counter\n",
    "from itertools import product\n",
    "import os\n",
    "import pickle\n",
    "import sys\n",
    "\n",
    "sys.path.append(os.path.abspath('../../../modules'))\n",
    "\n",
    "import pandas as pd\n",
    "import matplotlib.pyplot as plt\n",
    "from matplotlib_venn import venn2\n",
    "import seaborn as sns\n",
    "from tqdm import tqdm_notebook\n",
    "\n",
    "sns.set(rc={'figure.figsize':(12,6), \"font.size\":17})"
   ]
  },
  {
   "cell_type": "code",
   "execution_count": 2,
   "metadata": {
    "ExecuteTime": {
     "end_time": "2019-03-14T18:08:47.151996Z",
     "start_time": "2019-03-14T18:08:46.945254Z"
    }
   },
   "outputs": [],
   "source": [
    "#Set up the environment\n",
    "username = \"danich1\"\n",
    "password = \"snorkel\"\n",
    "dbname = \"pubmeddb\"\n",
    "\n",
    "#Path subject to change for different os\n",
    "database_str = \"postgresql+psycopg2://{}:{}@/{}?host=/var/run/postgresql\".format(username, password, dbname)\n",
    "os.environ['SNORKELDB'] = database_str\n",
    "\n",
    "from snorkel import SnorkelSession\n",
    "session = SnorkelSession()"
   ]
  },
  {
   "cell_type": "code",
   "execution_count": 3,
   "metadata": {
    "ExecuteTime": {
     "end_time": "2019-03-14T18:08:47.170604Z",
     "start_time": "2019-03-14T18:08:47.153397Z"
    }
   },
   "outputs": [],
   "source": [
    "from snorkel.models import candidate_subclass, Candidate\n",
    "DiseaseGene = candidate_subclass('DiseaseGene', ['Disease', 'Gene'])"
   ]
  },
  {
   "cell_type": "code",
   "execution_count": 4,
   "metadata": {
    "ExecuteTime": {
     "end_time": "2019-03-14T18:08:47.197999Z",
     "start_time": "2019-03-14T18:08:47.172281Z"
    }
   },
   "outputs": [],
   "source": [
    "from utils.notebook_utils.dataframe_helper import write_candidates_to_excel"
   ]
  },
  {
   "cell_type": "markdown",
   "metadata": {},
   "source": [
    "# Read Full Sentence Table"
   ]
  },
  {
   "cell_type": "markdown",
   "metadata": {},
   "source": [
    "The cells below will read every sentence that contains a gene and disease entity from the sentence table in our postgres database. For time sake majority of the data has already been processed and save as files mentioned below."
   ]
  },
  {
   "cell_type": "code",
   "execution_count": 5,
   "metadata": {
    "ExecuteTime": {
     "end_time": "2019-01-10T20:09:14.453504Z",
     "start_time": "2019-01-10T19:51:20.557975Z"
    }
   },
   "outputs": [
    {
     "data": {
      "text/html": [
       "<div>\n",
       "<style scoped>\n",
       "    .dataframe tbody tr th:only-of-type {\n",
       "        vertical-align: middle;\n",
       "    }\n",
       "\n",
       "    .dataframe tbody tr th {\n",
       "        vertical-align: top;\n",
       "    }\n",
       "\n",
       "    .dataframe thead th {\n",
       "        text-align: right;\n",
       "    }\n",
       "</style>\n",
       "<table border=\"1\" class=\"dataframe\">\n",
       "  <thead>\n",
       "    <tr style=\"text-align: right;\">\n",
       "      <th></th>\n",
       "      <th>sentence_id</th>\n",
       "      <th>text</th>\n",
       "      <th>sen_length</th>\n",
       "      <th>entity_types</th>\n",
       "    </tr>\n",
       "  </thead>\n",
       "  <tbody>\n",
       "    <tr>\n",
       "      <th>0</th>\n",
       "      <td>50306</td>\n",
       "      <td>[Chronorogical changes in activities of variou...</td>\n",
       "      <td>28</td>\n",
       "      <td>[O, O, O, O, O, O, O, O, O, Gene, O, O, O, O, ...</td>\n",
       "    </tr>\n",
       "    <tr>\n",
       "      <th>1</th>\n",
       "      <td>50312</td>\n",
       "      <td>[Prophylaxis of immediate and delayed reaction...</td>\n",
       "      <td>18</td>\n",
       "      <td>[O, O, O, O, O, O, O, O, O, O, Disease, Diseas...</td>\n",
       "    </tr>\n",
       "  </tbody>\n",
       "</table>\n",
       "</div>"
      ],
      "text/plain": [
       "   sentence_id                                               text  sen_length  \\\n",
       "0        50306  [Chronorogical changes in activities of variou...          28   \n",
       "1        50312  [Prophylaxis of immediate and delayed reaction...          18   \n",
       "\n",
       "                                        entity_types  \n",
       "0  [O, O, O, O, O, O, O, O, O, Gene, O, O, O, O, ...  \n",
       "1  [O, O, O, O, O, O, O, O, O, O, Disease, Diseas...  "
      ]
     },
     "execution_count": 5,
     "metadata": {},
     "output_type": "execute_result"
    }
   ],
   "source": [
    "sql= '''\n",
    "select id as sentence_id, text, (\n",
    "    char_length(regexp_replace(CAST(words AS TEXT), '[\\u0080-\\u00ff]', '', 'g')) - \n",
    "    char_length(regexp_replace(regexp_replace(CAST(words AS TEXT), '[\\u0080-\\u00ff]', '', 'g'), ',', '','g'))\n",
    ") as sen_length, entity_types \n",
    "from sentence \n",
    "where entity_types::text like '%%Gene%%' or entity_types::text like '%%Disease%%';\n",
    "'''\n",
    "sentence_df = pd.read_sql(sql, database_str)\n",
    "sentence_df.head(2)"
   ]
  },
  {
   "cell_type": "code",
   "execution_count": 8,
   "metadata": {
    "ExecuteTime": {
     "end_time": "2019-01-10T20:45:30.762141Z",
     "start_time": "2019-01-10T20:09:59.550967Z"
    }
   },
   "outputs": [
    {
     "data": {
      "application/vnd.jupyter.widget-view+json": {
       "model_id": "393c9d3667f64cf78bc52f9de8e6432f",
       "version_major": 2,
       "version_minor": 0
      },
      "text/html": [
       "<p>Failed to display Jupyter Widget of type <code>HBox</code>.</p>\n",
       "<p>\n",
       "  If you're reading this message in the Jupyter Notebook or JupyterLab Notebook, it may mean\n",
       "  that the widgets JavaScript is still loading. If this message persists, it\n",
       "  likely means that the widgets JavaScript library is either not installed or\n",
       "  not enabled. See the <a href=\"https://ipywidgets.readthedocs.io/en/stable/user_install.html\">Jupyter\n",
       "  Widgets Documentation</a> for setup instructions.\n",
       "</p>\n",
       "<p>\n",
       "  If you're reading this message in another frontend (for example, a static\n",
       "  rendering on GitHub or <a href=\"https://nbviewer.jupyter.org/\">NBViewer</a>),\n",
       "  it may mean that your frontend doesn't currently support widgets.\n",
       "</p>\n"
      ],
      "text/plain": [
       "HBox(children=(IntProgress(value=1, bar_style='info', max=1), HTML(value='')))"
      ]
     },
     "metadata": {},
     "output_type": "display_data"
    },
    {
     "name": "stdout",
     "output_type": "stream",
     "text": [
      "\n"
     ]
    },
    {
     "data": {
      "text/html": [
       "<div>\n",
       "<style scoped>\n",
       "    .dataframe tbody tr th:only-of-type {\n",
       "        vertical-align: middle;\n",
       "    }\n",
       "\n",
       "    .dataframe tbody tr th {\n",
       "        vertical-align: top;\n",
       "    }\n",
       "\n",
       "    .dataframe thead th {\n",
       "        text-align: right;\n",
       "    }\n",
       "</style>\n",
       "<table border=\"1\" class=\"dataframe\">\n",
       "  <thead>\n",
       "    <tr style=\"text-align: right;\">\n",
       "      <th></th>\n",
       "      <th>compound</th>\n",
       "      <th>disease</th>\n",
       "      <th>gene</th>\n",
       "      <th>sentence_id</th>\n",
       "    </tr>\n",
       "  </thead>\n",
       "  <tbody>\n",
       "    <tr>\n",
       "      <th>0</th>\n",
       "      <td>0.0</td>\n",
       "      <td>0.0</td>\n",
       "      <td>1.0</td>\n",
       "      <td>50306</td>\n",
       "    </tr>\n",
       "    <tr>\n",
       "      <th>1</th>\n",
       "      <td>0.0</td>\n",
       "      <td>1.0</td>\n",
       "      <td>0.0</td>\n",
       "      <td>50312</td>\n",
       "    </tr>\n",
       "  </tbody>\n",
       "</table>\n",
       "</div>"
      ],
      "text/plain": [
       "   compound  disease  gene  sentence_id\n",
       "0       0.0      0.0   1.0        50306\n",
       "1       0.0      1.0   0.0        50312"
      ]
     },
     "execution_count": 8,
     "metadata": {},
     "output_type": "execute_result"
    }
   ],
   "source": [
    "entity_data = []\n",
    "tagging_error_ids = set({})\n",
    "\n",
    "#skip tagging error\n",
    "skip_tag_error = False\n",
    "for index, row in tqdm_notebook(sentence_df.iterrows()):\n",
    "    \n",
    "    #create dictionay for mapping entity types\n",
    "    entity_mapper = {\"sentence_id\": row['sentence_id']}\n",
    "    \n",
    "    #Keep track of previous entity\n",
    "    previous_entity = 'o'\n",
    "    \n",
    "    #For all entitys in a given sentence decide what is tagged\n",
    "    for entity in row['entity_types']:\n",
    "        entity = entity.lower()\n",
    "\n",
    "        #Non-O tag\n",
    "        if entity != 'o' and previous_entity =='o':\n",
    "            #If entity not seen before instanciate it\n",
    "            if entity not in entity_mapper:\n",
    "                entity_mapper[entity] =0\n",
    "            entity_mapper[entity] += 1\n",
    "\n",
    "        # If previous tag was non-O and the current tag does not equal previous\n",
    "        # Then tagging error. e.x. Disease, Gene, Disease instead of Disease, O, Disease\n",
    "        elif entity != previous_entity and entity != 'o':\n",
    "            tagging_error_ids.add(row['sentence_id'])\n",
    "            skip_tag_error = True\n",
    "            break\n",
    "\n",
    "        previous_entity = entity\n",
    "    \n",
    "    # Do not add errors to dataframe\n",
    "    # They will be thrown out\n",
    "    if not skip_tag_error:\n",
    "        entity_data.append(entity_mapper)\n",
    "\n",
    "    skip_tag_error=False\n",
    "    \n",
    "entity_stats_df = pd.DataFrame.from_dict(entity_data).fillna(0)\n",
    "entity_stats_df.head(2)"
   ]
  },
  {
   "cell_type": "code",
   "execution_count": 9,
   "metadata": {
    "ExecuteTime": {
     "end_time": "2019-01-10T20:45:32.453917Z",
     "start_time": "2019-01-10T20:45:30.764011Z"
    }
   },
   "outputs": [
    {
     "data": {
      "text/plain": [
       "0    50639\n",
       "1    50719\n",
       "dtype: int64"
      ]
     },
     "execution_count": 9,
     "metadata": {},
     "output_type": "execute_result"
    }
   ],
   "source": [
    "tagging_error_df = pd.Series(sorted(list(tagging_error_ids)))\n",
    "tagging_error_df.to_csv(\"data/tagging_error_ids.tsv.xz\", sep=\"\\t\",  index=False, compression=\"xz\")\n",
    "tagging_error_df.head(2)"
   ]
  },
  {
   "cell_type": "code",
   "execution_count": 14,
   "metadata": {
    "ExecuteTime": {
     "end_time": "2019-01-10T21:45:32.145678Z",
     "start_time": "2019-01-10T21:45:32.072906Z"
    }
   },
   "outputs": [
    {
     "name": "stdout",
     "output_type": "stream",
     "text": [
      "Total Number of IOB Tagging Errors: 284297. Percentage of sentences affected: 1.14\n"
     ]
    }
   ],
   "source": [
    "print(\n",
    "    \"Total Number of IOB Tagging Errors: {}. Percentage of sentences affected: {:.2f}\".format(\n",
    "        tagging_error_df.shape[0],\n",
    "        100*tagging_error_df.shape[0]/sentence_df.shape[0]\n",
    "    )\n",
    ")"
   ]
  },
  {
   "cell_type": "code",
   "execution_count": 13,
   "metadata": {
    "ExecuteTime": {
     "end_time": "2019-01-10T21:45:32.070653Z",
     "start_time": "2019-01-10T20:50:30.498758Z"
    }
   },
   "outputs": [],
   "source": [
    "header = [\"sentence_id\", \"text\", \"sen_length\"]\n",
    "sentence_df[header].to_csv(\"data/sentence_stats.tsv.xz\", sep=\"\\t\", index=False, compression=\"xz\")\n",
    "entity_stats_df.to_csv(\"data/entity_stats.tsv.xz\", sep=\"\\t\",  index=False, compression=\"xz\")"
   ]
  },
  {
   "cell_type": "markdown",
   "metadata": {},
   "source": [
    "# Sentence Counts and Statistics"
   ]
  },
  {
   "cell_type": "markdown",
   "metadata": {},
   "source": [
    "Below is the block of code that contains information about the full distribution of sentences tied to each candidate pair. Multiple sentences can contain more than one co-occuring pair, which results in some sentences being counted more than once."
   ]
  },
  {
   "cell_type": "markdown",
   "metadata": {},
   "source": [
    "## Load and Merge DataFrames"
   ]
  },
  {
   "cell_type": "code",
   "execution_count": 5,
   "metadata": {
    "ExecuteTime": {
     "end_time": "2019-03-14T18:09:03.663002Z",
     "start_time": "2019-03-14T18:08:53.937421Z"
    }
   },
   "outputs": [
    {
     "name": "stderr",
     "output_type": "stream",
     "text": [
      "/home/danich1/anaconda2/envs/snorkeling/lib/python3.6/site-packages/IPython/core/interactiveshell.py:2785: DtypeWarning: Columns (4) have mixed types. Specify dtype option on import or set low_memory=False.\n",
      "  interactivity=interactivity, compiler=compiler, result=result)\n"
     ]
    },
    {
     "data": {
      "text/html": [
       "<div>\n",
       "<style scoped>\n",
       "    .dataframe tbody tr th:only-of-type {\n",
       "        vertical-align: middle;\n",
       "    }\n",
       "\n",
       "    .dataframe tbody tr th {\n",
       "        vertical-align: top;\n",
       "    }\n",
       "\n",
       "    .dataframe thead th {\n",
       "        text-align: right;\n",
       "    }\n",
       "</style>\n",
       "<table border=\"1\" class=\"dataframe\">\n",
       "  <thead>\n",
       "    <tr style=\"text-align: right;\">\n",
       "      <th></th>\n",
       "      <th>entrez_gene_id</th>\n",
       "      <th>gene_symbol</th>\n",
       "      <th>doid_id</th>\n",
       "      <th>doid_name</th>\n",
       "      <th>sources</th>\n",
       "      <th>hetionet</th>\n",
       "      <th>n_sentences</th>\n",
       "      <th>has_sentence</th>\n",
       "      <th>partition_rank</th>\n",
       "      <th>split</th>\n",
       "    </tr>\n",
       "  </thead>\n",
       "  <tbody>\n",
       "    <tr>\n",
       "      <th>0</th>\n",
       "      <td>1</td>\n",
       "      <td>A1BG</td>\n",
       "      <td>DOID:2531</td>\n",
       "      <td>hematologic cancer</td>\n",
       "      <td>NaN</td>\n",
       "      <td>0</td>\n",
       "      <td>8</td>\n",
       "      <td>1</td>\n",
       "      <td>0.85860</td>\n",
       "      <td>1</td>\n",
       "    </tr>\n",
       "    <tr>\n",
       "      <th>1</th>\n",
       "      <td>1</td>\n",
       "      <td>A1BG</td>\n",
       "      <td>DOID:1319</td>\n",
       "      <td>brain cancer</td>\n",
       "      <td>NaN</td>\n",
       "      <td>0</td>\n",
       "      <td>0</td>\n",
       "      <td>0</td>\n",
       "      <td>0.36785</td>\n",
       "      <td>0</td>\n",
       "    </tr>\n",
       "  </tbody>\n",
       "</table>\n",
       "</div>"
      ],
      "text/plain": [
       "   entrez_gene_id gene_symbol    doid_id           doid_name sources  \\\n",
       "0               1        A1BG  DOID:2531  hematologic cancer     NaN   \n",
       "1               1        A1BG  DOID:1319        brain cancer     NaN   \n",
       "\n",
       "   hetionet  n_sentences  has_sentence  partition_rank  split  \n",
       "0         0            8             1         0.85860      1  \n",
       "1         0            0             0         0.36785      0  "
      ]
     },
     "execution_count": 5,
     "metadata": {},
     "output_type": "execute_result"
    }
   ],
   "source": [
    "entity_level_df = pd.read_csv(\"../disease_gene_pairs_association.csv.xz\")\n",
    "entity_level_df.head(2)"
   ]
  },
  {
   "cell_type": "code",
   "execution_count": 6,
   "metadata": {
    "ExecuteTime": {
     "end_time": "2019-03-14T18:09:15.345877Z",
     "start_time": "2019-03-14T18:09:03.664597Z"
    }
   },
   "outputs": [
    {
     "data": {
      "text/html": [
       "<div>\n",
       "<style scoped>\n",
       "    .dataframe tbody tr th:only-of-type {\n",
       "        vertical-align: middle;\n",
       "    }\n",
       "\n",
       "    .dataframe tbody tr th {\n",
       "        vertical-align: top;\n",
       "    }\n",
       "\n",
       "    .dataframe thead th {\n",
       "        text-align: right;\n",
       "    }\n",
       "</style>\n",
       "<table border=\"1\" class=\"dataframe\">\n",
       "  <thead>\n",
       "    <tr style=\"text-align: right;\">\n",
       "      <th></th>\n",
       "      <th>compound</th>\n",
       "      <th>disease</th>\n",
       "      <th>gene</th>\n",
       "      <th>sentence_id</th>\n",
       "    </tr>\n",
       "  </thead>\n",
       "  <tbody>\n",
       "    <tr>\n",
       "      <th>0</th>\n",
       "      <td>0.0</td>\n",
       "      <td>0.0</td>\n",
       "      <td>1.0</td>\n",
       "      <td>50306</td>\n",
       "    </tr>\n",
       "    <tr>\n",
       "      <th>1</th>\n",
       "      <td>0.0</td>\n",
       "      <td>1.0</td>\n",
       "      <td>0.0</td>\n",
       "      <td>50312</td>\n",
       "    </tr>\n",
       "  </tbody>\n",
       "</table>\n",
       "</div>"
      ],
      "text/plain": [
       "   compound  disease  gene  sentence_id\n",
       "0       0.0      0.0   1.0        50306\n",
       "1       0.0      1.0   0.0        50312"
      ]
     },
     "execution_count": 6,
     "metadata": {},
     "output_type": "execute_result"
    }
   ],
   "source": [
    "entity_stats_df = pd.read_table(\"data/entity_stats.tsv.xz\")\n",
    "entity_stats_df.head(2)"
   ]
  },
  {
   "cell_type": "code",
   "execution_count": 7,
   "metadata": {
    "ExecuteTime": {
     "end_time": "2019-03-14T18:11:01.828881Z",
     "start_time": "2019-03-14T18:09:15.347506Z"
    }
   },
   "outputs": [
    {
     "data": {
      "text/html": [
       "<div>\n",
       "<style scoped>\n",
       "    .dataframe tbody tr th:only-of-type {\n",
       "        vertical-align: middle;\n",
       "    }\n",
       "\n",
       "    .dataframe tbody tr th {\n",
       "        vertical-align: top;\n",
       "    }\n",
       "\n",
       "    .dataframe thead th {\n",
       "        text-align: right;\n",
       "    }\n",
       "</style>\n",
       "<table border=\"1\" class=\"dataframe\">\n",
       "  <thead>\n",
       "    <tr style=\"text-align: right;\">\n",
       "      <th></th>\n",
       "      <th>sentence_id</th>\n",
       "      <th>text</th>\n",
       "      <th>sen_length</th>\n",
       "    </tr>\n",
       "  </thead>\n",
       "  <tbody>\n",
       "    <tr>\n",
       "      <th>0</th>\n",
       "      <td>50306</td>\n",
       "      <td>[Chronorogical changes in activities of variou...</td>\n",
       "      <td>28</td>\n",
       "    </tr>\n",
       "    <tr>\n",
       "      <th>1</th>\n",
       "      <td>50312</td>\n",
       "      <td>[Prophylaxis of immediate and delayed reaction...</td>\n",
       "      <td>18</td>\n",
       "    </tr>\n",
       "  </tbody>\n",
       "</table>\n",
       "</div>"
      ],
      "text/plain": [
       "   sentence_id                                               text  sen_length\n",
       "0        50306  [Chronorogical changes in activities of variou...          28\n",
       "1        50312  [Prophylaxis of immediate and delayed reaction...          18"
      ]
     },
     "execution_count": 7,
     "metadata": {},
     "output_type": "execute_result"
    }
   ],
   "source": [
    "sentence_count_df = pd.read_table(\"data/sentence_stats.tsv.xz\")\n",
    "sentence_count_df.head(2)"
   ]
  },
  {
   "cell_type": "code",
   "execution_count": 8,
   "metadata": {
    "ExecuteTime": {
     "end_time": "2019-03-14T18:11:01.846488Z",
     "start_time": "2019-03-14T18:11:01.830759Z"
    }
   },
   "outputs": [],
   "source": [
    "sentence_sql = '''\n",
    "select cand_id, \"Disease_cid\", \"Gene_cid\", sentence_id from (\n",
    "select disease_gene.id as \"cand_id\", disease_gene.\"Disease_id\",  disease_gene.\"Disease_cid\", disease_gene.\"Gene_cid\", candidate.split from disease_gene \n",
    "inner join candidate on disease_gene.id=candidate.id \n",
    "where split={}\n",
    ") as candidate_splits inner join span on candidate_splits.\"Disease_id\"=span.id;\n",
    "'''"
   ]
  },
  {
   "cell_type": "code",
   "execution_count": 9,
   "metadata": {
    "ExecuteTime": {
     "end_time": "2019-03-14T18:11:25.366372Z",
     "start_time": "2019-03-14T18:11:01.848249Z"
    }
   },
   "outputs": [
    {
     "data": {
      "text/html": [
       "<div>\n",
       "<style scoped>\n",
       "    .dataframe tbody tr th:only-of-type {\n",
       "        vertical-align: middle;\n",
       "    }\n",
       "\n",
       "    .dataframe tbody tr th {\n",
       "        vertical-align: top;\n",
       "    }\n",
       "\n",
       "    .dataframe thead th {\n",
       "        text-align: right;\n",
       "    }\n",
       "</style>\n",
       "<table border=\"1\" class=\"dataframe\">\n",
       "  <thead>\n",
       "    <tr style=\"text-align: right;\">\n",
       "      <th></th>\n",
       "      <th>cand_id</th>\n",
       "      <th>Disease_cid</th>\n",
       "      <th>Gene_cid</th>\n",
       "      <th>sentence_id</th>\n",
       "    </tr>\n",
       "  </thead>\n",
       "  <tbody>\n",
       "    <tr>\n",
       "      <th>0</th>\n",
       "      <td>21584</td>\n",
       "      <td>DOID:5408</td>\n",
       "      <td>5741</td>\n",
       "      <td>528427</td>\n",
       "    </tr>\n",
       "    <tr>\n",
       "      <th>1</th>\n",
       "      <td>21658</td>\n",
       "      <td>DOID:2355</td>\n",
       "      <td>3105</td>\n",
       "      <td>93123</td>\n",
       "    </tr>\n",
       "  </tbody>\n",
       "</table>\n",
       "</div>"
      ],
      "text/plain": [
       "   cand_id Disease_cid Gene_cid  sentence_id\n",
       "0    21584   DOID:5408     5741       528427\n",
       "1    21658   DOID:2355     3105        93123"
      ]
     },
     "execution_count": 9,
     "metadata": {},
     "output_type": "execute_result"
    }
   ],
   "source": [
    "train_candidate_df = pd.read_sql(sentence_sql.format(0), database_str)\n",
    "train_candidate_df.head(2)"
   ]
  },
  {
   "cell_type": "code",
   "execution_count": 10,
   "metadata": {
    "ExecuteTime": {
     "end_time": "2019-03-14T18:11:37.843357Z",
     "start_time": "2019-03-14T18:11:25.368777Z"
    }
   },
   "outputs": [],
   "source": [
    "dev_candidate_df = pd.read_sql(sentence_sql.format(1), database_str)\n",
    "test_candidate_df = pd.read_sql(sentence_sql.format(2), database_str)"
   ]
  },
  {
   "cell_type": "code",
   "execution_count": 11,
   "metadata": {
    "ExecuteTime": {
     "end_time": "2019-03-14T18:11:37.861347Z",
     "start_time": "2019-03-14T18:11:37.844649Z"
    }
   },
   "outputs": [],
   "source": [
    "clean_up_df = lambda x: (\n",
    "        entity_stats_df\n",
    "        .merge(sentence_count_df, on=\"sentence_id\")\n",
    "        .merge(x, on=\"sentence_id\")\n",
    "        .rename(index=str, columns={\n",
    "            \"disease\":\"disease_mention_count\", \n",
    "            \"gene\":\"gene_mention_count\", \n",
    "            \"compound\":\"compound_mention_count\",\n",
    "            \"cand_id\": \"candidate_id\",\n",
    "            \"Disease_cid\": \"doid_id\",\n",
    "            \"Gene_cid\": \"entrez_gene_id\"\n",
    "        })\n",
    "        .astype({\"entrez_gene_id\": int})\n",
    "    )"
   ]
  },
  {
   "cell_type": "code",
   "execution_count": 12,
   "metadata": {
    "ExecuteTime": {
     "end_time": "2019-03-14T18:11:54.835283Z",
     "start_time": "2019-03-14T18:11:37.863072Z"
    }
   },
   "outputs": [
    {
     "data": {
      "text/html": [
       "<div>\n",
       "<style scoped>\n",
       "    .dataframe tbody tr th:only-of-type {\n",
       "        vertical-align: middle;\n",
       "    }\n",
       "\n",
       "    .dataframe tbody tr th {\n",
       "        vertical-align: top;\n",
       "    }\n",
       "\n",
       "    .dataframe thead th {\n",
       "        text-align: right;\n",
       "    }\n",
       "</style>\n",
       "<table border=\"1\" class=\"dataframe\">\n",
       "  <thead>\n",
       "    <tr style=\"text-align: right;\">\n",
       "      <th></th>\n",
       "      <th>compound_mention_count</th>\n",
       "      <th>disease_mention_count</th>\n",
       "      <th>gene_mention_count</th>\n",
       "      <th>sentence_id</th>\n",
       "      <th>text</th>\n",
       "      <th>sen_length</th>\n",
       "      <th>candidate_id</th>\n",
       "      <th>doid_id</th>\n",
       "      <th>entrez_gene_id</th>\n",
       "    </tr>\n",
       "  </thead>\n",
       "  <tbody>\n",
       "    <tr>\n",
       "      <th>0</th>\n",
       "      <td>0.0</td>\n",
       "      <td>1.0</td>\n",
       "      <td>1.0</td>\n",
       "      <td>50638</td>\n",
       "      <td>Thyrotropin response to thyrotropin-releasing ...</td>\n",
       "      <td>16</td>\n",
       "      <td>22250</td>\n",
       "      <td>DOID:1595</td>\n",
       "      <td>7200</td>\n",
       "    </tr>\n",
       "    <tr>\n",
       "      <th>1</th>\n",
       "      <td>0.0</td>\n",
       "      <td>1.0</td>\n",
       "      <td>2.0</td>\n",
       "      <td>51109</td>\n",
       "      <td>The levels of CA-B and CA-C were determined in...</td>\n",
       "      <td>29</td>\n",
       "      <td>22455</td>\n",
       "      <td>DOID:1459</td>\n",
       "      <td>760</td>\n",
       "    </tr>\n",
       "  </tbody>\n",
       "</table>\n",
       "</div>"
      ],
      "text/plain": [
       "   compound_mention_count  disease_mention_count  gene_mention_count  \\\n",
       "0                     0.0                    1.0                 1.0   \n",
       "1                     0.0                    1.0                 2.0   \n",
       "\n",
       "   sentence_id                                               text  sen_length  \\\n",
       "0        50638  Thyrotropin response to thyrotropin-releasing ...          16   \n",
       "1        51109  The levels of CA-B and CA-C were determined in...          29   \n",
       "\n",
       "   candidate_id    doid_id  entrez_gene_id  \n",
       "0         22250  DOID:1595            7200  \n",
       "1         22455  DOID:1459             760  "
      ]
     },
     "execution_count": 12,
     "metadata": {},
     "output_type": "execute_result"
    }
   ],
   "source": [
    "train_candidate_df = clean_up_df(train_candidate_df)\n",
    "train_candidate_df.head(2)"
   ]
  },
  {
   "cell_type": "code",
   "execution_count": 13,
   "metadata": {
    "ExecuteTime": {
     "end_time": "2019-03-14T18:12:23.853545Z",
     "start_time": "2019-03-14T18:11:54.836667Z"
    }
   },
   "outputs": [],
   "source": [
    "dev_candidate_df = clean_up_df(dev_candidate_df)\n",
    "test_candidate_df = clean_up_df(test_candidate_df)"
   ]
  },
  {
   "cell_type": "code",
   "execution_count": 14,
   "metadata": {
    "ExecuteTime": {
     "end_time": "2019-03-14T18:12:25.423423Z",
     "start_time": "2019-03-14T18:12:23.855060Z"
    }
   },
   "outputs": [
    {
     "data": {
      "text/html": [
       "<div>\n",
       "<style scoped>\n",
       "    .dataframe tbody tr th:only-of-type {\n",
       "        vertical-align: middle;\n",
       "    }\n",
       "\n",
       "    .dataframe tbody tr th {\n",
       "        vertical-align: top;\n",
       "    }\n",
       "\n",
       "    .dataframe thead th {\n",
       "        text-align: right;\n",
       "    }\n",
       "</style>\n",
       "<table border=\"1\" class=\"dataframe\">\n",
       "  <thead>\n",
       "    <tr style=\"text-align: right;\">\n",
       "      <th></th>\n",
       "      <th>entrez_gene_id</th>\n",
       "      <th>gene_symbol</th>\n",
       "      <th>doid_id</th>\n",
       "      <th>doid_name</th>\n",
       "      <th>sources</th>\n",
       "      <th>hetionet</th>\n",
       "      <th>n_sentences</th>\n",
       "      <th>has_sentence</th>\n",
       "      <th>partition_rank</th>\n",
       "      <th>split</th>\n",
       "      <th>compound_mention_count</th>\n",
       "      <th>disease_mention_count</th>\n",
       "      <th>gene_mention_count</th>\n",
       "      <th>sentence_id</th>\n",
       "      <th>text</th>\n",
       "      <th>sen_length</th>\n",
       "      <th>candidate_id</th>\n",
       "    </tr>\n",
       "  </thead>\n",
       "  <tbody>\n",
       "    <tr>\n",
       "      <th>0</th>\n",
       "      <td>1</td>\n",
       "      <td>A1BG</td>\n",
       "      <td>DOID:1324</td>\n",
       "      <td>lung cancer</td>\n",
       "      <td>NaN</td>\n",
       "      <td>0</td>\n",
       "      <td>2</td>\n",
       "      <td>1</td>\n",
       "      <td>0.15465</td>\n",
       "      <td>0</td>\n",
       "      <td>0.0</td>\n",
       "      <td>1.0</td>\n",
       "      <td>2.0</td>\n",
       "      <td>78840952</td>\n",
       "      <td>We revealed that A1BG and LRG1 were overexpres...</td>\n",
       "      <td>30</td>\n",
       "      <td>26725291</td>\n",
       "    </tr>\n",
       "    <tr>\n",
       "      <th>1</th>\n",
       "      <td>1</td>\n",
       "      <td>A1BG</td>\n",
       "      <td>DOID:1324</td>\n",
       "      <td>lung cancer</td>\n",
       "      <td>NaN</td>\n",
       "      <td>0</td>\n",
       "      <td>2</td>\n",
       "      <td>1</td>\n",
       "      <td>0.15465</td>\n",
       "      <td>0</td>\n",
       "      <td>0.0</td>\n",
       "      <td>1.0</td>\n",
       "      <td>1.0</td>\n",
       "      <td>86234572</td>\n",
       "      <td>METHODS: HEK293 cells expressing specific indi...</td>\n",
       "      <td>53</td>\n",
       "      <td>29874761</td>\n",
       "    </tr>\n",
       "  </tbody>\n",
       "</table>\n",
       "</div>"
      ],
      "text/plain": [
       "   entrez_gene_id gene_symbol    doid_id    doid_name sources  hetionet  \\\n",
       "0               1        A1BG  DOID:1324  lung cancer     NaN         0   \n",
       "1               1        A1BG  DOID:1324  lung cancer     NaN         0   \n",
       "\n",
       "   n_sentences  has_sentence  partition_rank  split  compound_mention_count  \\\n",
       "0            2             1         0.15465      0                     0.0   \n",
       "1            2             1         0.15465      0                     0.0   \n",
       "\n",
       "   disease_mention_count  gene_mention_count  sentence_id  \\\n",
       "0                    1.0                 2.0     78840952   \n",
       "1                    1.0                 1.0     86234572   \n",
       "\n",
       "                                                text  sen_length  candidate_id  \n",
       "0  We revealed that A1BG and LRG1 were overexpres...          30      26725291  \n",
       "1  METHODS: HEK293 cells expressing specific indi...          53      29874761  "
      ]
     },
     "execution_count": 14,
     "metadata": {},
     "output_type": "execute_result"
    }
   ],
   "source": [
    "training_set_df = (\n",
    "    entity_level_df\n",
    "    .query(\"split==0&has_sentence==1\")\n",
    "    .merge(\n",
    "        train_candidate_df, \n",
    "        on=[\"entrez_gene_id\", \"doid_id\"]\n",
    "    )\n",
    ")\n",
    "training_set_df.head(2)"
   ]
  },
  {
   "cell_type": "code",
   "execution_count": 15,
   "metadata": {
    "ExecuteTime": {
     "end_time": "2019-03-14T18:12:26.060241Z",
     "start_time": "2019-03-14T18:12:25.425052Z"
    }
   },
   "outputs": [],
   "source": [
    "dev_set_df = (\n",
    "    entity_level_df\n",
    "    .query(\"split==1&has_sentence==1\")\n",
    "    .merge(\n",
    "        dev_candidate_df, \n",
    "        on=[\"entrez_gene_id\", \"doid_id\"]\n",
    "    )\n",
    ")\n",
    "\n",
    "test_set_df = (\n",
    "    entity_level_df\n",
    "    .query(\"split==2&has_sentence==1\")\n",
    "    .merge(\n",
    "        test_candidate_df, \n",
    "        on=[\"entrez_gene_id\", \"doid_id\"]\n",
    "    )\n",
    ")"
   ]
  },
  {
   "cell_type": "code",
   "execution_count": 16,
   "metadata": {
    "ExecuteTime": {
     "end_time": "2019-03-14T18:12:28.772285Z",
     "start_time": "2019-03-14T18:12:26.061689Z"
    }
   },
   "outputs": [],
   "source": [
    "total_candidates_df = (\n",
    "    training_set_df\n",
    "    .append(dev_set_df)\n",
    "    .append(test_set_df)\n",
    ")"
   ]
  },
  {
   "cell_type": "markdown",
   "metadata": {},
   "source": [
    "## Distribution of Sentence Length"
   ]
  },
  {
   "cell_type": "code",
   "execution_count": 17,
   "metadata": {
    "ExecuteTime": {
     "end_time": "2019-03-14T18:12:29.626804Z",
     "start_time": "2019-03-14T18:12:28.773832Z"
    }
   },
   "outputs": [
    {
     "name": "stderr",
     "output_type": "stream",
     "text": [
      "/home/danich1/anaconda2/envs/snorkeling/lib/python3.6/site-packages/scipy/stats/stats.py:1713: FutureWarning: Using a non-tuple sequence for multidimensional indexing is deprecated; use `arr[tuple(seq)]` instead of `arr[seq]`. In the future this will be interpreted as an array index, `arr[np.array(seq)]`, which will result either in an error or a different result.\n",
      "  return np.add.reduce(sorted[indexer] * weights, axis=axis) / sumval\n"
     ]
    },
    {
     "data": {
      "text/plain": [
       "<matplotlib.axes._subplots.AxesSubplot at 0x7f49a20509b0>"
      ]
     },
     "execution_count": 17,
     "metadata": {},
     "output_type": "execute_result"
    },
    {
     "data": {
      "image/png": "[encoded data removed]",
      "text/plain": [
       "<matplotlib.figure.Figure at 0x7f49a2020cc0>"
      ]
     },
     "metadata": {},
     "output_type": "display_data"
    }
   ],
   "source": [
    "sns.distplot(total_candidates_df[\"sen_length\"], rug=False)"
   ]
  },
  {
   "cell_type": "code",
   "execution_count": 18,
   "metadata": {
    "ExecuteTime": {
     "end_time": "2019-03-14T18:12:29.850282Z",
     "start_time": "2019-03-14T18:12:29.628227Z"
    }
   },
   "outputs": [
    {
     "data": {
      "text/plain": [
       "count    3563272\n",
       "mean          37\n",
       "std           23\n",
       "min            3\n",
       "25%           23\n",
       "50%           33\n",
       "75%           46\n",
       "max         1120\n",
       "Name: sen_length, dtype: int64"
      ]
     },
     "execution_count": 18,
     "metadata": {},
     "output_type": "execute_result"
    }
   ],
   "source": [
    "total_candidates_df[\"sen_length\"].describe().astype(int)"
   ]
  },
  {
   "cell_type": "markdown",
   "metadata": {},
   "source": [
    "Something seems fishy about this distribution. The number of words (tokens) for a given sentence is in the thousands range. Intuitively, that doesn't make sense, since the average number of words for a given sentence is 37. Possible reason for this abnormality is a parsing error. Lets take a look at this 1120 word sentence."
   ]
  },
  {
   "cell_type": "code",
   "execution_count": 19,
   "metadata": {
    "ExecuteTime": {
     "end_time": "2019-03-14T18:12:30.653244Z",
     "start_time": "2019-03-14T18:12:29.852327Z"
    }
   },
   "outputs": [
    {
     "data": {
      "text/plain": [
       "'Pooled analysis of (R)-[11C]-verapamil PET data from two European centresM Bauer, M Feldmann, R Karch, W Wadsak, M Zeitlinger, MJ Koepp, M-C Asselin, E Pataraia, O LangerA13 In-vitro and in-vivo characterization of [18F]FE@SNAP and derivatives for the visualization of the melanin concentrating hormone receptor 1M Zeilinger, C Philippe, M Dumanic, F Pichler, J Pilz, M Hacker, W Wadsak, M MitterhauserA14 Reducing time in quality control leads to higher specific radioactivity of short-lived radiotracersL Nics, B Steiner, M Hacker, M Mitterhauser, W WadsakA15 In vitro 11C-erlotinib binding experiments in cancer cell lines with epidermal growth factor receptor mutationsA Traxl, Thomas Wanek, Kushtrim Kryeziu, Severin Mairinger, Johann Stanek, Walter Berger, Claudia Kuntner, Oliver LangerA16 7-[11C]methyl-6-bromopurine, a PET tracer to measure brain Mrp1 function: radiosynthesis and first PET evaluation in miceS Mairinger, T Wanek, A Traxl, M Krohn, J Stanek, T Filip, M Sauberer, C Kuntner, J Pahnke, O LangerA17 18F labeled azidoglucose derivatives as \"click\" agents for pretargeted PET imagingD Svatunek, C Denk, M Wilkovitsch, T Wanek, T Filip, C Kuntner-Hannes, J Fr  hlich, H MikulaA18 Bioorthogonal tools for PET imaging: development of radiolabeled 1,2,4,5-TetrazinesC Denk, D Svatunek, T Wanek, S Mairinger, J Stanek, T Filip, J Fr  hlich, H Mikula, C Kuntner-HannesA19 Preclinical evaluation of [18F]FE@SUPPY- a new PET-tracer for oncologyT Balber, J Singer, J Fazekas, C Rami-Mark, N Berroter  n-Infante, E Jensen-Jarolim, W Wadsak, M Hacker, H Viernstein, M MitterhauserA20 Investigation of Small [18F]-Fluoroalkylazides for Rapid Radiolabeling and In Vivo Click ChemistryC Denk, D Svatunek, B Sohr, H Mikula, J Fr  hlich, T Wanek, C Kuntner-Hannes, T FilipA21 Microfluidic 68Ga-radiolabeling of PSMA-HBED-CC using a flow-through reactorS Pfaff, C Philippe, M Mitterhauser, M Hartenbach, M Hacker, W WadsakA22 Influence of 24-nor-ursodeoxycholic acid on hepatic disposition of [18F]ciprofloxacin measured with positron emission tomographyT Wanek, E Halilbasic, M Visentin, S Mairinger, B Stieger, C Kuntner, M Trauner, O LangerA23 Automated 18F-flumazenil production using chemically resistant disposable cassettesP Lam, M Aistleitner, R Eichinger, C ArtnerA24 Similarities and differences in the synthesis and quality control of 177Lu-DOTA-TATE, 177Lu -HA-DOTA-TATE and 177Lu-DOTA-PSMA (PSMA-617)H Eidherr, C Vraka, A Haug, M Mitterhauser, L Nics, M Hartenbach, M Hacker, W WadsakA25 68Ga- and 177Lu-labelling of PSMA-617H Kvaternik, R M  ller, D Hausberger, C Zink, RM AignerA26 Radiolabelling of liposomes with 67Ga and biodistribution studies after administration by an aerosol inhalation systemU Coss  o, M Asensio, A Montes, S Akhtar, Y te Welscher, R van Nostrum, V G  mez-Vallejo, J LlopA27 Fully automated quantification of DaTscan SPECT: Integration of age and gender differencesF VandeVyver, T Barclay, N Lippens, M TrochA28 Lesion-to-background ratio in co-registered 18F-FET PET/MR imaging - is it a valuable tool to differentiate between low grade and high grade brain tumor?L Hehenwarter, B Egger, J Holzmannhofer, M Rodrigues-Radischat, C PirichA29 [11C]-methionine PET in gliomas - a retrospective data analysis of 166 patientsN P  tsch, I Rausch, D Wilhelm, M Weber, J Furtner, G Karanikas, A W  hrer, M Mitterhauser, M Hacker, T Traub-WeidingerA30 18F-Fluorocholine versus 18F-Fluorodeoxyglucose for PET/CT imaging in patients with relapsed or progressive multiple myeloma: a pilot studyT Cassou-Mounat, S Balogova, V Nataf, M Calzada, V Huchet, K Kerrou, J-Y Devaux, M Mohty, L Garderet, J-N TalbotA31 Prognostic benefit of additional SPECT/CT in sentinel lymph node mapping of breast cancer patientsS Stanzel, G Pregartner, T Schwarz, V Bjelic-Radisic, B Liegl-Atzwanger, R AignerA32 Evaluation of diagnostic value of TOF-18F-FDG PET/CT in patients with suspected pancreatic cancerS Stanzel, F Quehenberger, RM AignerA33 New quantification method for diagnosis of primary hyperpatahyroidism lesions and differential diagnosis vs thyropid nodular disease in dynamic scintigraphyA Koljevi   Markovi  , Milica Jankovi  , V Miler Jerkovi  , M Paska  , G Pupi  , R D  odi  , D Popovi  A34 A rare case of diffuse pancreatic involvement in patient with merkel cell carcinoma detected by 18F-FDGMC Fornito, D FamiliariA35 TSH-stimulated 18F-FDG PET/CT in the diagnosis of recurrent/metastatic radioiodine-negative differentiated thyroid carcinomas in patients with various thyroglobuline levelsP Koranda, H Polzerov  , I Metelkov  , L Henzlov  , R Form  nek, E Buri  nkov  , M Kam  nekA36 Breast Dose from lactation following I131 treatmentWH Thomson, C LewisA37 A new concept for performing SeHCAT studies with the gamma cameraWH Thomson, J O\\'Brien, G James, A NotghiA38 Whole body F-18-FDG-PET and tuberculosis: sensitivity compared to x-ray-CTH Huber, I Stelzm  ller, R Wunn, M Mandl, F Fellner, B Lamprecht, M GabrielA39 Emerging role 18F-FDG PET-CT in the diagnosis and follow-up of the infection in heartware ventricular assist system (HVAD)MC Fornito, G LeonardiA40 Validation of Poisson resampling softwareWH Thomson, J O\\'Brien, G JamesA41 Protection of PET nuclear medicine personnel: problems in satisfying dose limit requirementsJ Hudzietzov  , J Sabol, M F  l  p.'"
      ]
     },
     "execution_count": 19,
     "metadata": {},
     "output_type": "execute_result"
    }
   ],
   "source": [
    "total_candidates_df.query(\"sen_length==1120\").iloc[0][\"text\"]"
   ]
  },
  {
   "cell_type": "markdown",
   "metadata": {},
   "source": [
    "The above suspicion was correct. This is a parsing error where the list of authors are combined with the title of their work for a winter symposium. The following can be found at this id link: [27090254](https://www.ncbi.nlm.nih.gov/pubmed/27090254). The goal here is to take these parsing errors into account and determine an optimal cutoff point for these sentences. Using common statsitic rules any point that is greater than two standard deviations away from the mean will be removed."
   ]
  },
  {
   "cell_type": "code",
   "execution_count": 20,
   "metadata": {
    "ExecuteTime": {
     "end_time": "2019-03-14T18:12:31.903787Z",
     "start_time": "2019-03-14T18:12:30.654947Z"
    }
   },
   "outputs": [
    {
     "name": "stderr",
     "output_type": "stream",
     "text": [
      "/home/danich1/anaconda2/envs/snorkeling/lib/python3.6/site-packages/scipy/stats/stats.py:1713: FutureWarning: Using a non-tuple sequence for multidimensional indexing is deprecated; use `arr[tuple(seq)]` instead of `arr[seq]`. In the future this will be interpreted as an array index, `arr[np.array(seq)]`, which will result either in an error or a different result.\n",
      "  return np.add.reduce(sorted[indexer] * weights, axis=axis) / sumval\n"
     ]
    },
    {
     "data": {
      "text/plain": [
       "<matplotlib.axes._subplots.AxesSubplot at 0x7f49a31c1710>"
      ]
     },
     "execution_count": 20,
     "metadata": {},
     "output_type": "execute_result"
    },
    {
     "data": {
      "image/png": "[encoded data removed]",
      "text/plain": [
       "<matplotlib.figure.Figure at 0x7f49a3423f98>"
      ]
     },
     "metadata": {},
     "output_type": "display_data"
    }
   ],
   "source": [
    "sns.distplot(total_candidates_df.query(\"sen_length < 83+1\")[\"sen_length\"], rug=False)"
   ]
  },
  {
   "cell_type": "code",
   "execution_count": 21,
   "metadata": {
    "ExecuteTime": {
     "end_time": "2019-03-14T18:12:32.565030Z",
     "start_time": "2019-03-14T18:12:31.910805Z"
    }
   },
   "outputs": [
    {
     "data": {
      "text/plain": [
       "count    3429890\n",
       "mean          34\n",
       "std           15\n",
       "min            3\n",
       "25%           23\n",
       "50%           32\n",
       "75%           44\n",
       "max           83\n",
       "Name: sen_length, dtype: int64"
      ]
     },
     "execution_count": 21,
     "metadata": {},
     "output_type": "execute_result"
    }
   ],
   "source": [
    "total_candidates_df.query(\"sen_length < 83+1\")[\"sen_length\"].describe().astype(int)"
   ]
  },
  {
   "cell_type": "markdown",
   "metadata": {},
   "source": [
    "This distribution looks a bit more reasonable compared to the above distribution. After filtering out the outliers, we still have a pleathora of sentences on the order of 3.6 million. (removed 146841 sentences)."
   ]
  },
  {
   "cell_type": "code",
   "execution_count": 22,
   "metadata": {
    "ExecuteTime": {
     "end_time": "2019-03-14T18:12:40.660508Z",
     "start_time": "2019-03-14T18:12:32.568711Z"
    }
   },
   "outputs": [
    {
     "name": "stdout",
     "output_type": "stream",
     "text": [
      "Total number of unique candidates before filter: 156954\n",
      "Total number of unique candidates after filter: 153162\n",
      "Total number of unique candidates being thrown out: 3792\n"
     ]
    }
   ],
   "source": [
    "before_filter = set([tuple(line) for line in total_candidates_df[[\"entrez_gene_id\", \"doid_id\"]].values])\n",
    "after_filter = set([tuple(line) for line in total_candidates_df.query(\"sen_length < 83+1\")[[\"entrez_gene_id\", \"doid_id\"]].values])\n",
    "print(\n",
    "    \"Total number of unique candidates before filter: {}\".format(\n",
    "        total_candidates_df[[\"entrez_gene_id\", \"doid_id\"]].drop_duplicates().shape[0]\n",
    "    )\n",
    ")\n",
    "print(\n",
    "    \"Total number of unique candidates after filter: {}\".format(\n",
    "        total_candidates_df.query(\"sen_length < 83+1\")[[\"entrez_gene_id\", \"doid_id\"]].drop_duplicates().shape[0]\n",
    "    )\n",
    ")\n",
    "print(\"Total number of unique candidates being thrown out: {}\".format(len(before_filter.difference(after_filter))))"
   ]
  },
  {
   "cell_type": "code",
   "execution_count": 23,
   "metadata": {
    "ExecuteTime": {
     "end_time": "2019-03-14T18:12:41.013173Z",
     "start_time": "2019-03-14T18:12:40.662367Z"
    }
   },
   "outputs": [],
   "source": [
    "filtered_total_candidates_df = total_candidates_df.query(\"sen_length < 83+1\")"
   ]
  },
  {
   "cell_type": "code",
   "execution_count": 24,
   "metadata": {
    "ExecuteTime": {
     "end_time": "2019-03-14T18:12:42.981847Z",
     "start_time": "2019-03-14T18:12:41.014775Z"
    }
   },
   "outputs": [
    {
     "data": {
      "text/plain": [
       "Text(0.5,1,'# of Unique Sentences in Entire Dataset with Co-Mention Pair in/not in hetionet')"
      ]
     },
     "execution_count": 24,
     "metadata": {},
     "output_type": "execute_result"
    },
    {
     "data": {
      "image/png": "[encoded data removed]",
      "text/plain": [
       "<matplotlib.figure.Figure at 0x7f49abc6a390>"
      ]
     },
     "metadata": {},
     "output_type": "display_data"
    }
   ],
   "source": [
    "ids =filtered_total_candidates_df.query(\"hetionet==1\").sentence_id.values\n",
    "venn2(\n",
    "    [\n",
    "        set(filtered_total_candidates_df.query(\"hetionet==0&sentence_id not in @ids\").sentence_id),\n",
    "        set(filtered_total_candidates_df.query(\"hetionet==1\").sentence_id)\n",
    "    ], set_labels=[\"Not In Hetionet\", \"In Hetionet\"])\n",
    "plt.title(\"# of Unique Sentences in Entire Dataset with Co-Mention Pair in/not in hetionet\")"
   ]
  },
  {
   "cell_type": "markdown",
   "metadata": {},
   "source": [
    "# Co-occuring Mentions Sentence Stats"
   ]
  },
  {
   "cell_type": "markdown",
   "metadata": {},
   "source": [
    "This next block contains a visualization about the number of mentions a sentence may contain."
   ]
  },
  {
   "cell_type": "code",
   "execution_count": 56,
   "metadata": {
    "ExecuteTime": {
     "end_time": "2019-01-11T01:16:33.059966Z",
     "start_time": "2019-01-11T01:16:32.372620Z"
    }
   },
   "outputs": [
    {
     "data": {
      "text/plain": [
       "Text(0.5,1,'Mention Distribution of Entire Dataset')"
      ]
     },
     "execution_count": 56,
     "metadata": {},
     "output_type": "execute_result"
    },
    {
     "data": {
      "image/png": "[encoded data removed]",
      "text/plain": [
       "<matplotlib.figure.Figure at 0x7f63d27433c8>"
      ]
     },
     "metadata": {},
     "output_type": "display_data"
    }
   ],
   "source": [
    "ax = sns.scatterplot(\n",
    "    x=\"disease_mention_count\", \n",
    "    y=\"gene_mention_count\", \n",
    "    data=\n",
    "    (\n",
    "        filtered_total_candidates_df\n",
    "        .drop_duplicates(\"sentence_id\")\n",
    "        .groupby([\"disease_mention_count\", \"gene_mention_count\"]).size()\n",
    "        .reset_index()\n",
    "        .rename(index=str, columns={0:\"size\"})\n",
    "        .assign(natural_log_size= lambda x: pd.np.log(x['size']))\n",
    "    ),\n",
    "    hue=\"natural_log_size\",\n",
    "    palette='viridis'\n",
    ")\n",
    "ax.set_title(\"Mention Distribution of Entire Dataset\")"
   ]
  },
  {
   "cell_type": "markdown",
   "metadata": {},
   "source": [
    "In the above graph every point is group of possible mention counts sentences could contain. For example one group has sentences containing one gene mention and one disease mention (indicated in the bottom left in yellow). Overall this graph is acceptable in terms of the spread between mentions; however, when getting ready to train the deep learning models one has to make sure the algorithm can detect which co-mention pair the candidate is referring to."
   ]
  },
  {
   "cell_type": "markdown",
   "metadata": {},
   "source": [
    "# Subsampled Set Distributions"
   ]
  },
  {
   "cell_type": "markdown",
   "metadata": {},
   "source": [
    "Take a look at the stratification for each train/dev/test set."
   ]
  },
  {
   "cell_type": "markdown",
   "metadata": {},
   "source": [
    "## Training Set"
   ]
  },
  {
   "cell_type": "markdown",
   "metadata": {},
   "source": [
    "Here the training set covers majority of the characterisitics are the entire dataset. This isn't surprising because a stratified sort was used to allocate candidates."
   ]
  },
  {
   "cell_type": "code",
   "execution_count": 57,
   "metadata": {
    "ExecuteTime": {
     "end_time": "2019-01-11T01:16:47.201796Z",
     "start_time": "2019-01-11T01:16:46.474929Z"
    },
    "scrolled": true
   },
   "outputs": [
    {
     "data": {
      "text/plain": [
       "Text(0.5,1,'Distribution of Sentences in Subsampled Training Set')"
      ]
     },
     "execution_count": 57,
     "metadata": {},
     "output_type": "execute_result"
    },
    {
     "data": {
      "image/png": "[encoded data removed]",
      "text/plain": [
       "<matplotlib.figure.Figure at 0x7f63d2692160>"
      ]
     },
     "metadata": {},
     "output_type": "display_data"
    }
   ],
   "source": [
    "ax = sns.scatterplot(\n",
    "    x=\"disease_mention_count\", \n",
    "    y=\"gene_mention_count\", \n",
    "    data=\n",
    "    (\n",
    "        filtered_total_candidates_df\n",
    "        .query(\"split==0\")\n",
    "        .drop_duplicates(\"sentence_id\")\n",
    "        .groupby([\"disease_mention_count\", \"gene_mention_count\"]).size()\n",
    "        .reset_index()\n",
    "        .rename(index=str, columns={0:\"size\"})\n",
    "        .assign(natural_log_size= lambda x: pd.np.log(x['size']))\n",
    "    ),\n",
    "    hue=\"natural_log_size\",\n",
    "    palette='viridis'\n",
    ")\n",
    "ax.set_title(\"Distribution of Sentences in Entire Training Set\")"
   ]
  },
  {
   "cell_type": "markdown",
   "metadata": {},
   "source": [
    "## Dev Set"
   ]
  },
  {
   "cell_type": "markdown",
   "metadata": {},
   "source": [
    "This block contains information on the development set (aka tuning set)."
   ]
  },
  {
   "cell_type": "code",
   "execution_count": 58,
   "metadata": {
    "ExecuteTime": {
     "end_time": "2019-01-11T01:16:52.849865Z",
     "start_time": "2019-01-11T01:16:52.494151Z"
    }
   },
   "outputs": [
    {
     "data": {
      "text/plain": [
       "Text(0.5,1,'Sentence Distribution of Total Dev Dataset')"
      ]
     },
     "execution_count": 58,
     "metadata": {},
     "output_type": "execute_result"
    },
    {
     "data": {
      "image/png": "[encoded data removed]",
      "text/plain": [
       "<matplotlib.figure.Figure at 0x7f63d25eef60>"
      ]
     },
     "metadata": {},
     "output_type": "display_data"
    }
   ],
   "source": [
    "ax = sns.scatterplot(\n",
    "    x=\"disease_mention_count\", \n",
    "    y=\"gene_mention_count\", \n",
    "    data=\n",
    "    (\n",
    "        filtered_total_candidates_df\n",
    "        .query(\"split==1\")\n",
    "        .drop_duplicates(\"sentence_id\")\n",
    "        .groupby([\"disease_mention_count\", \"gene_mention_count\"]).size()\n",
    "        .reset_index()\n",
    "        .rename(index=str, columns={0:\"size\"})\n",
    "        .assign(natural_log_size= lambda x: pd.np.log(x['size']))\n",
    "    ),\n",
    "    hue=\"natural_log_size\",\n",
    "    palette='viridis'\n",
    ")\n",
    "ax.set_title(\"Sentence Distribution of Total Dev Dataset\")"
   ]
  },
  {
   "cell_type": "code",
   "execution_count": 59,
   "metadata": {
    "ExecuteTime": {
     "end_time": "2019-01-11T01:17:15.179408Z",
     "start_time": "2019-01-11T01:17:13.896377Z"
    }
   },
   "outputs": [],
   "source": [
    "dev_dataset_df = pd.read_excel(\"sentence_labels_dev.xlsx\").query(\"curated_dsh.notnull()\")"
   ]
  },
  {
   "cell_type": "code",
   "execution_count": 60,
   "metadata": {
    "ExecuteTime": {
     "end_time": "2019-01-11T01:17:15.328433Z",
     "start_time": "2019-01-11T01:17:15.180836Z"
    }
   },
   "outputs": [
    {
     "name": "stdout",
     "output_type": "stream",
     "text": [
      "Total number of positives (1) and negatives (0): \n",
      "0.0    421\n",
      "1.0    271\n",
      "Name: curated_dsh, dtype: int64\n"
     ]
    }
   ],
   "source": [
    "dev_candidates_stats_df = (\n",
    "    filtered_total_candidates_df\n",
    "    .query(\"split==1\")\n",
    "    .merge(dev_dataset_df[[\"candidate_id\", \"curated_dsh\"]], on=\"candidate_id\")\n",
    ")\n",
    "print(\"Total number of positives (1) and negatives (0): \\n{}\".format(dev_candidates_stats_df.curated_dsh.value_counts()))"
   ]
  },
  {
   "cell_type": "code",
   "execution_count": 62,
   "metadata": {
    "ExecuteTime": {
     "end_time": "2019-01-11T01:17:24.829898Z",
     "start_time": "2019-01-11T01:17:24.639683Z"
    }
   },
   "outputs": [
    {
     "data": {
      "text/plain": [
       "Text(0.5,1,'Sentence Distribution of Hand Labeled Dev Dataset')"
      ]
     },
     "execution_count": 62,
     "metadata": {},
     "output_type": "execute_result"
    },
    {
     "data": {
      "image/png": "[encoded data removed]",
      "text/plain": [
       "<matplotlib.figure.Figure at 0x7f63d31ad588>"
      ]
     },
     "metadata": {},
     "output_type": "display_data"
    }
   ],
   "source": [
    "ax = sns.scatterplot(\n",
    "    x=\"disease_mention_count\", \n",
    "    y=\"gene_mention_count\", \n",
    "    data=\n",
    "    (\n",
    "        dev_candidates_stats_df\n",
    "        .drop_duplicates(\"sentence_id\")\n",
    "        .groupby([\"disease_mention_count\", \"gene_mention_count\"]).size()\n",
    "        .reset_index()\n",
    "        .rename(index=str, columns={0:\"size\"})\n",
    "        .assign(natural_log_size= lambda x: pd.np.log(x['size']))\n",
    "    ),\n",
    "    hue=\"natural_log_size\",\n",
    "    palette='viridis'\n",
    ")\n",
    "ax.set_title(\"Sentence Distribution of Hand Labeled Dev Dataset\")"
   ]
  },
  {
   "cell_type": "code",
   "execution_count": 63,
   "metadata": {
    "ExecuteTime": {
     "end_time": "2019-01-11T01:17:26.982323Z",
     "start_time": "2019-01-11T01:17:26.800439Z"
    }
   },
   "outputs": [
    {
     "name": "stderr",
     "output_type": "stream",
     "text": [
      "/home/danich1/anaconda2/envs/snorkeling/lib/python3.6/site-packages/scipy/stats/stats.py:1713: FutureWarning: Using a non-tuple sequence for multidimensional indexing is deprecated; use `arr[tuple(seq)]` instead of `arr[seq]`. In the future this will be interpreted as an array index, `arr[np.array(seq)]`, which will result either in an error or a different result.\n",
      "  return np.add.reduce(sorted[indexer] * weights, axis=axis) / sumval\n"
     ]
    },
    {
     "data": {
      "text/plain": [
       "<matplotlib.axes._subplots.AxesSubplot at 0x7f63d3069c50>"
      ]
     },
     "execution_count": 63,
     "metadata": {},
     "output_type": "execute_result"
    },
    {
     "data": {
      "image/png": "[encoded data removed]",
      "text/plain": [
       "<matplotlib.figure.Figure at 0x7f63d31a1278>"
      ]
     },
     "metadata": {},
     "output_type": "display_data"
    }
   ],
   "source": [
    "sns.distplot(dev_candidates_stats_df[\"sen_length\"], rug=False)"
   ]
  },
  {
   "cell_type": "markdown",
   "metadata": {},
   "source": [
    "## Test Set"
   ]
  },
  {
   "cell_type": "code",
   "execution_count": 64,
   "metadata": {
    "ExecuteTime": {
     "end_time": "2019-01-11T01:17:32.277257Z",
     "start_time": "2019-01-11T01:17:32.012182Z"
    }
   },
   "outputs": [
    {
     "data": {
      "text/plain": [
       "Text(0.5,1,'Sentence Distribution of Total Test Dataset')"
      ]
     },
     "execution_count": 64,
     "metadata": {},
     "output_type": "execute_result"
    },
    {
     "data": {
      "image/png": "[encoded data removed]",
      "text/plain": [
       "<matplotlib.figure.Figure at 0x7f63b6fd9d30>"
      ]
     },
     "metadata": {},
     "output_type": "display_data"
    }
   ],
   "source": [
    "ax = sns.scatterplot(\n",
    "    x=\"disease_mention_count\", \n",
    "    y=\"gene_mention_count\", \n",
    "    data=\n",
    "    (\n",
    "        filtered_total_candidates_df\n",
    "        .query(\"split==2\")\n",
    "        .drop_duplicates(\"sentence_id\")\n",
    "        .groupby([\"disease_mention_count\", \"gene_mention_count\"]).size()\n",
    "        .reset_index()\n",
    "        .rename(index=str, columns={0:\"size\"})\n",
    "        .assign(natural_log_size= lambda x: pd.np.log(x['size']))\n",
    "    ),\n",
    "    hue=\"natural_log_size\",\n",
    "    palette='viridis'\n",
    ")\n",
    "ax.set_title(\"Sentence Distribution of Total Test Dataset\")"
   ]
  },
  {
   "cell_type": "code",
   "execution_count": 65,
   "metadata": {
    "ExecuteTime": {
     "end_time": "2019-01-11T01:17:39.866711Z",
     "start_time": "2019-01-11T01:17:39.111820Z"
    }
   },
   "outputs": [],
   "source": [
    "test_dataset_df = pd.read_excel(\"sentence_labels_test.xlsx\").query(\"curated_dsh.notnull()\")"
   ]
  },
  {
   "cell_type": "code",
   "execution_count": 66,
   "metadata": {
    "ExecuteTime": {
     "end_time": "2019-01-11T01:17:39.943226Z",
     "start_time": "2019-01-11T01:17:39.868412Z"
    }
   },
   "outputs": [
    {
     "name": "stdout",
     "output_type": "stream",
     "text": [
      "Total number of positives (1) and negatives (0): \n",
      "0.0    574\n",
      "1.0    335\n",
      "Name: curated_dsh, dtype: int64\n"
     ]
    }
   ],
   "source": [
    "test_candidates_stats_df = (\n",
    "    filtered_total_candidates_df\n",
    "    .query(\"split==2\")\n",
    "    .merge(test_dataset_df[[\"candidate_id\", \"curated_dsh\"]], on=\"candidate_id\")\n",
    ")\n",
    "print(\"Total number of positives (1) and negatives (0): \\n{}\".format(test_candidates_stats_df.curated_dsh.value_counts()))"
   ]
  },
  {
   "cell_type": "code",
   "execution_count": 118,
   "metadata": {
    "ExecuteTime": {
     "end_time": "2019-01-11T15:36:39.934035Z",
     "start_time": "2019-01-11T15:36:39.735260Z"
    }
   },
   "outputs": [
    {
     "data": {
      "text/plain": [
       "Text(0.5,1,'Sentence Distribution of Hand Labeled Test Dataset')"
      ]
     },
     "execution_count": 118,
     "metadata": {},
     "output_type": "execute_result"
    },
    {
     "data": {
      "image/png": "[encoded data removed]",
      "text/plain": [
       "<matplotlib.figure.Figure at 0x7f63aad0bef0>"
      ]
     },
     "metadata": {},
     "output_type": "display_data"
    }
   ],
   "source": [
    "ax = sns.scatterplot(\n",
    "    x=\"disease_mention_count\", \n",
    "    y=\"gene_mention_count\", \n",
    "    data=\n",
    "    (\n",
    "        test_candidates_stats_df\n",
    "        .drop_duplicates(\"sentence_id\")\n",
    "        .groupby([\"disease_mention_count\", \"gene_mention_count\"]).size()\n",
    "        .reset_index()\n",
    "        .rename(index=str, columns={0:\"size\"})\n",
    "        .assign(natural_log_size= lambda x: pd.np.log(x['size']))\n",
    "    ),\n",
    "    hue=\"natural_log_size\",\n",
    "    palette='viridis'\n",
    ")\n",
    "ax.set_title(\"Sentence Distribution of Hand Labeled Test Dataset\")"
   ]
  },
  {
   "cell_type": "code",
   "execution_count": 68,
   "metadata": {
    "ExecuteTime": {
     "end_time": "2019-01-11T01:17:40.300949Z",
     "start_time": "2019-01-11T01:17:40.126446Z"
    }
   },
   "outputs": [
    {
     "name": "stderr",
     "output_type": "stream",
     "text": [
      "/home/danich1/anaconda2/envs/snorkeling/lib/python3.6/site-packages/scipy/stats/stats.py:1713: FutureWarning: Using a non-tuple sequence for multidimensional indexing is deprecated; use `arr[tuple(seq)]` instead of `arr[seq]`. In the future this will be interpreted as an array index, `arr[np.array(seq)]`, which will result either in an error or a different result.\n",
      "  return np.add.reduce(sorted[indexer] * weights, axis=axis) / sumval\n"
     ]
    },
    {
     "data": {
      "text/plain": [
       "<matplotlib.axes._subplots.AxesSubplot at 0x7f63d3191208>"
      ]
     },
     "execution_count": 68,
     "metadata": {},
     "output_type": "execute_result"
    },
    {
     "data": {
      "image/png": "[encoded data removed]",
      "text/plain": [
       "<matplotlib.figure.Figure at 0x7f63de825e48>"
      ]
     },
     "metadata": {},
     "output_type": "display_data"
    }
   ],
   "source": [
    "sns.distplot(test_candidates_stats_df[\"sen_length\"], rug=False)"
   ]
  },
  {
   "cell_type": "markdown",
   "metadata": {},
   "source": [
    "In conclusion, the optimal cutoff point in this case would be: **84** tokens/words or smaller depending on algorithm performance. Another important lesson is to analyze one's dataset before undergoing the journey of training a deep learning model. Sentence length is an important factor, when it comes to filtering out the dataset. If ignored, a significant amount of problems will arise. For example, when training a long short term memory network (LSTM), sequence length dictates how many steps the LSTM needs to traverse in order to ultimately calculate the probability of a sentence mentioning a relationship. If the LSTM were to be fed a sentence that contains 1120 words, then the network has 1120 steps to parse through. This takes a significant amount of time (~34 hours+). Plus during backpropogation, the gradient will become very small that the network cannot learn anything useful ([Backpropogation through time](https://en.wikipedia.org/wiki/Backpropagation_through_time)). "
   ]
  }
 ],
 "metadata": {
  "kernelspec": {
   "display_name": "Python [conda env:snorkeling]",
   "language": "python",
   "name": "conda-env-snorkeling-py"
  },
  "language_info": {
   "codemirror_mode": {
    "name": "ipython",
    "version": 3
   },
   "file_extension": ".py",
   "mimetype": "text/x-python",
   "name": "python",
   "nbconvert_exporter": "python",
   "pygments_lexer": "ipython3",
   "version": "3.6.4"
  }
 },
 "nbformat": 4,
 "nbformat_minor": 2
}
