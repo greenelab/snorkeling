{
 "cells": [
  {
   "cell_type": "markdown",
   "metadata": {},
   "source": [
    "# Dataset Statistics for Disease Gene Sentences"
   ]
  },
  {
   "cell_type": "markdown",
   "metadata": {},
   "source": [
    "This notebook is designed to show statistics on the data extracted from pubmed. The following cells below here are needed to set up the environment."
   ]
  },
  {
   "cell_type": "code",
   "execution_count": 1,
   "metadata": {
    "ExecuteTime": {
     "end_time": "2020-01-16T15:37:01.292748Z",
     "start_time": "2020-01-16T15:37:00.635646Z"
    }
   },
   "outputs": [],
   "source": [
    "%load_ext autoreload\n",
    "%autoreload 2\n",
    "%matplotlib inline\n",
    "\n",
    "from collections import Counter\n",
    "from itertools import product\n",
    "import os\n",
    "import pickle\n",
    "import sys\n",
    "\n",
    "sys.path.append(os.path.abspath('../../../modules'))\n",
    "\n",
    "import pandas as pd\n",
    "import matplotlib.pyplot as plt\n",
    "import seaborn as sns\n",
    "from tqdm import tqdm_notebook\n",
    "\n",
    "sns.set(rc={'figure.figsize':(12,6), \"font.size\":17})"
   ]
  },
  {
   "cell_type": "code",
   "execution_count": 2,
   "metadata": {
    "ExecuteTime": {
     "end_time": "2020-01-16T15:37:01.467717Z",
     "start_time": "2020-01-16T15:37:01.294355Z"
    }
   },
   "outputs": [],
   "source": [
    "#Set up the environment\n",
    "username = \"danich1\"\n",
    "password = \"snorkel\"\n",
    "dbname = \"pubmeddb\"\n",
    "\n",
    "#Path subject to change for different os\n",
    "database_str = \"postgresql+psycopg2://{}:{}@/{}?host=/var/run/postgresql\".format(username, password, dbname)\n",
    "os.environ['SNORKELDB'] = database_str\n",
    "\n",
    "from snorkel import SnorkelSession\n",
    "session = SnorkelSession()"
   ]
  },
  {
   "cell_type": "code",
   "execution_count": 3,
   "metadata": {
    "ExecuteTime": {
     "end_time": "2020-01-16T15:37:01.486178Z",
     "start_time": "2020-01-16T15:37:01.469201Z"
    }
   },
   "outputs": [],
   "source": [
    "from snorkel.models import candidate_subclass, Candidate\n",
    "DiseaseGene = candidate_subclass('DiseaseGene', ['Disease', 'Gene'])"
   ]
  },
  {
   "cell_type": "code",
   "execution_count": 4,
   "metadata": {
    "ExecuteTime": {
     "end_time": "2020-01-16T15:37:01.617636Z",
     "start_time": "2020-01-16T15:37:01.487879Z"
    }
   },
   "outputs": [],
   "source": [
    "from utils.notebook_utils.dataframe_helper import write_candidates_to_excel, make_sentence_df"
   ]
  },
  {
   "cell_type": "markdown",
   "metadata": {},
   "source": [
    "## Load and Merge DataFrames"
   ]
  },
  {
   "cell_type": "code",
   "execution_count": 5,
   "metadata": {
    "ExecuteTime": {
     "end_time": "2020-01-16T15:37:10.055586Z",
     "start_time": "2020-01-16T15:37:01.619194Z"
    }
   },
   "outputs": [
    {
     "name": "stderr",
     "output_type": "stream",
     "text": [
      "/home/danich1/.local/lib/python3.6/site-packages/IPython/core/interactiveshell.py:3058: DtypeWarning: Columns (4) have mixed types. Specify dtype option on import or set low_memory=False.\n",
      "  interactivity=interactivity, compiler=compiler, result=result)\n"
     ]
    },
    {
     "data": {
      "text/html": [
       "<div>\n",
       "<style scoped>\n",
       "    .dataframe tbody tr th:only-of-type {\n",
       "        vertical-align: middle;\n",
       "    }\n",
       "\n",
       "    .dataframe tbody tr th {\n",
       "        vertical-align: top;\n",
       "    }\n",
       "\n",
       "    .dataframe thead th {\n",
       "        text-align: right;\n",
       "    }\n",
       "</style>\n",
       "<table border=\"1\" class=\"dataframe\">\n",
       "  <thead>\n",
       "    <tr style=\"text-align: right;\">\n",
       "      <th></th>\n",
       "      <th>entrez_gene_id</th>\n",
       "      <th>gene_symbol</th>\n",
       "      <th>doid_id</th>\n",
       "      <th>doid_name</th>\n",
       "      <th>sources</th>\n",
       "      <th>hetionet</th>\n",
       "      <th>n_sentences</th>\n",
       "      <th>has_sentence</th>\n",
       "      <th>partition_rank</th>\n",
       "      <th>split</th>\n",
       "    </tr>\n",
       "  </thead>\n",
       "  <tbody>\n",
       "    <tr>\n",
       "      <th>0</th>\n",
       "      <td>1</td>\n",
       "      <td>A1BG</td>\n",
       "      <td>DOID:2531</td>\n",
       "      <td>hematologic cancer</td>\n",
       "      <td>NaN</td>\n",
       "      <td>0</td>\n",
       "      <td>8</td>\n",
       "      <td>1</td>\n",
       "      <td>0.85860</td>\n",
       "      <td>1</td>\n",
       "    </tr>\n",
       "    <tr>\n",
       "      <th>1</th>\n",
       "      <td>1</td>\n",
       "      <td>A1BG</td>\n",
       "      <td>DOID:1319</td>\n",
       "      <td>brain cancer</td>\n",
       "      <td>NaN</td>\n",
       "      <td>0</td>\n",
       "      <td>0</td>\n",
       "      <td>0</td>\n",
       "      <td>0.36785</td>\n",
       "      <td>0</td>\n",
       "    </tr>\n",
       "  </tbody>\n",
       "</table>\n",
       "</div>"
      ],
      "text/plain": [
       "   entrez_gene_id gene_symbol    doid_id           doid_name sources  \\\n",
       "0               1        A1BG  DOID:2531  hematologic cancer     NaN   \n",
       "1               1        A1BG  DOID:1319        brain cancer     NaN   \n",
       "\n",
       "   hetionet  n_sentences  has_sentence  partition_rank  split  \n",
       "0         0            8             1         0.85860      1  \n",
       "1         0            0             0         0.36785      0  "
      ]
     },
     "execution_count": 5,
     "metadata": {},
     "output_type": "execute_result"
    }
   ],
   "source": [
    "edge_level_df = pd.read_csv(\"input/disease_associates_gene.tsv.xz\", sep=\"\\t\")\n",
    "edge_level_df.head(2)"
   ]
  },
  {
   "cell_type": "code",
   "execution_count": 6,
   "metadata": {
    "ExecuteTime": {
     "end_time": "2020-01-16T16:07:45.180579Z",
     "start_time": "2020-01-16T15:37:10.057394Z"
    }
   },
   "outputs": [
    {
     "data": {
      "text/html": [
       "<div>\n",
       "<style scoped>\n",
       "    .dataframe tbody tr th:only-of-type {\n",
       "        vertical-align: middle;\n",
       "    }\n",
       "\n",
       "    .dataframe tbody tr th {\n",
       "        vertical-align: top;\n",
       "    }\n",
       "\n",
       "    .dataframe thead th {\n",
       "        text-align: right;\n",
       "    }\n",
       "</style>\n",
       "<table border=\"1\" class=\"dataframe\">\n",
       "  <thead>\n",
       "    <tr style=\"text-align: right;\">\n",
       "      <th></th>\n",
       "      <th>candidate_id</th>\n",
       "      <th>doid_id</th>\n",
       "      <th>entrez_gene_id</th>\n",
       "      <th>sentence_id</th>\n",
       "      <th>text</th>\n",
       "      <th>sen_length</th>\n",
       "    </tr>\n",
       "  </thead>\n",
       "  <tbody>\n",
       "    <tr>\n",
       "      <th>0</th>\n",
       "      <td>21425</td>\n",
       "      <td>DOID:3393</td>\n",
       "      <td>26</td>\n",
       "      <td>50532</td>\n",
       "      <td>Serum histaminase in acute myocardial infarction.</td>\n",
       "      <td>7</td>\n",
       "    </tr>\n",
       "    <tr>\n",
       "      <th>1</th>\n",
       "      <td>22250</td>\n",
       "      <td>DOID:1595</td>\n",
       "      <td>7200</td>\n",
       "      <td>50638</td>\n",
       "      <td>Thyrotropin response to thyrotropin-releasing ...</td>\n",
       "      <td>17</td>\n",
       "    </tr>\n",
       "  </tbody>\n",
       "</table>\n",
       "</div>"
      ],
      "text/plain": [
       "   candidate_id    doid_id entrez_gene_id  sentence_id  \\\n",
       "0         21425  DOID:3393             26        50532   \n",
       "1         22250  DOID:1595           7200        50638   \n",
       "\n",
       "                                                text  sen_length  \n",
       "0  Serum histaminase in acute myocardial infarction.           7  \n",
       "1  Thyrotropin response to thyrotropin-releasing ...          17  "
      ]
     },
     "execution_count": 6,
     "metadata": {},
     "output_type": "execute_result"
    }
   ],
   "source": [
    "sql='''\n",
    "select cand_id as candidate_id, doid_id, entrez_gene_id, sentence_id, text, array_length(words, 1) as sen_length from (\n",
    "    select cand_id, \"Disease_cid\" as doid_id, \"Gene_cid\" as entrez_gene_id, sentence_id from \n",
    "    (\n",
    "        select disease_gene.id as \"cand_id\", disease_gene.\"Disease_id\",  disease_gene.\"Disease_cid\", \n",
    "        disease_gene.\"Gene_cid\", candidate.split \n",
    "        from disease_gene \n",
    "        inner join candidate on disease_gene.id=candidate.id \n",
    "    ) \n",
    "    as candidate_splits inner join span on candidate_splits.\"Disease_id\"=span.id\n",
    ") as candidate_sen inner join sentence on candidate_sen.sentence_id=sentence.id\n",
    "'''\n",
    "candidate_sentence_df = pd.read_sql(sql, database_str).astype({\"entrez_gene_id\": int})\n",
    "candidate_sentence_df.head(2)"
   ]
  },
  {
   "cell_type": "code",
   "execution_count": 10,
   "metadata": {
    "ExecuteTime": {
     "end_time": "2020-01-16T16:11:55.092762Z",
     "start_time": "2020-01-16T16:11:51.825386Z"
    }
   },
   "outputs": [
    {
     "data": {
      "text/html": [
       "<div>\n",
       "<style scoped>\n",
       "    .dataframe tbody tr th:only-of-type {\n",
       "        vertical-align: middle;\n",
       "    }\n",
       "\n",
       "    .dataframe tbody tr th {\n",
       "        vertical-align: top;\n",
       "    }\n",
       "\n",
       "    .dataframe thead th {\n",
       "        text-align: right;\n",
       "    }\n",
       "</style>\n",
       "<table border=\"1\" class=\"dataframe\">\n",
       "  <thead>\n",
       "    <tr style=\"text-align: right;\">\n",
       "      <th></th>\n",
       "      <th>entrez_gene_id</th>\n",
       "      <th>gene_symbol</th>\n",
       "      <th>doid_id</th>\n",
       "      <th>doid_name</th>\n",
       "      <th>sources</th>\n",
       "      <th>hetionet</th>\n",
       "      <th>n_sentences</th>\n",
       "      <th>has_sentence</th>\n",
       "      <th>partition_rank</th>\n",
       "      <th>split</th>\n",
       "      <th>candidate_id</th>\n",
       "      <th>sentence_id</th>\n",
       "      <th>text</th>\n",
       "      <th>sen_length</th>\n",
       "    </tr>\n",
       "  </thead>\n",
       "  <tbody>\n",
       "    <tr>\n",
       "      <th>0</th>\n",
       "      <td>1</td>\n",
       "      <td>A1BG</td>\n",
       "      <td>DOID:2531</td>\n",
       "      <td>hematologic cancer</td>\n",
       "      <td>NaN</td>\n",
       "      <td>0</td>\n",
       "      <td>8</td>\n",
       "      <td>1</td>\n",
       "      <td>0.8586</td>\n",
       "      <td>1</td>\n",
       "      <td>176680</td>\n",
       "      <td>2129459</td>\n",
       "      <td>The number of H antigen sites per single red c...</td>\n",
       "      <td>159</td>\n",
       "    </tr>\n",
       "    <tr>\n",
       "      <th>1</th>\n",
       "      <td>1</td>\n",
       "      <td>A1BG</td>\n",
       "      <td>DOID:2531</td>\n",
       "      <td>hematologic cancer</td>\n",
       "      <td>NaN</td>\n",
       "      <td>0</td>\n",
       "      <td>8</td>\n",
       "      <td>1</td>\n",
       "      <td>0.8586</td>\n",
       "      <td>1</td>\n",
       "      <td>176670</td>\n",
       "      <td>2129459</td>\n",
       "      <td>The number of H antigen sites per single red c...</td>\n",
       "      <td>159</td>\n",
       "    </tr>\n",
       "  </tbody>\n",
       "</table>\n",
       "</div>"
      ],
      "text/plain": [
       "   entrez_gene_id gene_symbol    doid_id           doid_name sources  \\\n",
       "0               1        A1BG  DOID:2531  hematologic cancer     NaN   \n",
       "1               1        A1BG  DOID:2531  hematologic cancer     NaN   \n",
       "\n",
       "   hetionet  n_sentences  has_sentence  partition_rank  split  candidate_id  \\\n",
       "0         0            8             1          0.8586      1        176680   \n",
       "1         0            8             1          0.8586      1        176670   \n",
       "\n",
       "   sentence_id                                               text  sen_length  \n",
       "0      2129459  The number of H antigen sites per single red c...         159  \n",
       "1      2129459  The number of H antigen sites per single red c...         159  "
      ]
     },
     "execution_count": 10,
     "metadata": {},
     "output_type": "execute_result"
    }
   ],
   "source": [
    "total_candidates_df= (\n",
    "    edge_level_df\n",
    "    .merge(candidate_sentence_df, on=[\"doid_id\", \"entrez_gene_id\"])\n",
    ")\n",
    "total_candidates_df.head(2)"
   ]
  },
  {
   "cell_type": "code",
   "execution_count": 11,
   "metadata": {
    "ExecuteTime": {
     "end_time": "2020-01-16T16:13:16.273256Z",
     "start_time": "2020-01-16T16:12:23.307648Z"
    }
   },
   "outputs": [
    {
     "data": {
      "application/vnd.jupyter.widget-view+json": {
       "model_id": "ab48dd054d7748f5ad53a3a26916010d",
       "version_major": 2,
       "version_minor": 0
      },
      "text/plain": [
       "HBox(children=(FloatProgress(value=0.0, max=10000.0), HTML(value='')))"
      ]
     },
     "metadata": {},
     "output_type": "display_data"
    },
    {
     "name": "stdout",
     "output_type": "stream",
     "text": [
      "\n"
     ]
    },
    {
     "data": {
      "text/html": [
       "<div>\n",
       "<style scoped>\n",
       "    .dataframe tbody tr th:only-of-type {\n",
       "        vertical-align: middle;\n",
       "    }\n",
       "\n",
       "    .dataframe tbody tr th {\n",
       "        vertical-align: top;\n",
       "    }\n",
       "\n",
       "    .dataframe thead th {\n",
       "        text-align: right;\n",
       "    }\n",
       "</style>\n",
       "<table border=\"1\" class=\"dataframe\">\n",
       "  <thead>\n",
       "    <tr style=\"text-align: right;\">\n",
       "      <th></th>\n",
       "      <th>candidate_id</th>\n",
       "      <th>disease</th>\n",
       "      <th>gene</th>\n",
       "      <th>doid_id</th>\n",
       "      <th>entrez_gene_id</th>\n",
       "      <th>sentence</th>\n",
       "    </tr>\n",
       "  </thead>\n",
       "  <tbody>\n",
       "    <tr>\n",
       "      <th>0</th>\n",
       "      <td>21693</td>\n",
       "      <td>chronic myelogenous leukemia</td>\n",
       "      <td>Ph1</td>\n",
       "      <td>DOID:2531</td>\n",
       "      <td>189</td>\n",
       "      <td>of 72 patients with ~~[[1 chronic myelogenous ...</td>\n",
       "    </tr>\n",
       "    <tr>\n",
       "      <th>1</th>\n",
       "      <td>21911</td>\n",
       "      <td>ankylosing spondylitis</td>\n",
       "      <td>HLA B27</td>\n",
       "      <td>DOID:7147</td>\n",
       "      <td>3106</td>\n",
       "      <td>this confirms the strong association of ~~[[2 ...</td>\n",
       "    </tr>\n",
       "  </tbody>\n",
       "</table>\n",
       "</div>"
      ],
      "text/plain": [
       "   candidate_id                       disease     gene    doid_id  \\\n",
       "0         21693  chronic myelogenous leukemia      Ph1  DOID:2531   \n",
       "1         21911        ankylosing spondylitis  HLA B27  DOID:7147   \n",
       "\n",
       "  entrez_gene_id                                           sentence  \n",
       "0            189  of 72 patients with ~~[[1 chronic myelogenous ...  \n",
       "1           3106  this confirms the strong association of ~~[[2 ...  "
      ]
     },
     "execution_count": 11,
     "metadata": {},
     "output_type": "execute_result"
    }
   ],
   "source": [
    "dev_candidates = (\n",
    "    session\n",
    "    .query(DiseaseGene)\n",
    "    .filter(\n",
    "        DiseaseGene.id.in_(\n",
    "            total_candidates_df\n",
    "            .query(\"split==1\")\n",
    "            .sample(10000, random_state=100)\n",
    "            .candidate_id\n",
    "            .tolist()\n",
    "        )\n",
    "    )\n",
    "    .all()\n",
    ")\n",
    "dev_df = make_sentence_df(dev_candidates)\n",
    "dev_df.head(2)"
   ]
  },
  {
   "cell_type": "code",
   "execution_count": 12,
   "metadata": {
    "ExecuteTime": {
     "end_time": "2020-01-16T16:14:05.340267Z",
     "start_time": "2020-01-16T16:13:17.492969Z"
    }
   },
   "outputs": [
    {
     "data": {
      "application/vnd.jupyter.widget-view+json": {
       "model_id": "fa53d4be07904bafbe0162f6de5d97d9",
       "version_major": 2,
       "version_minor": 0
      },
      "text/plain": [
       "HBox(children=(FloatProgress(value=0.0, max=10000.0), HTML(value='')))"
      ]
     },
     "metadata": {},
     "output_type": "display_data"
    },
    {
     "name": "stdout",
     "output_type": "stream",
     "text": [
      "\n"
     ]
    },
    {
     "data": {
      "text/html": [
       "<div>\n",
       "<style scoped>\n",
       "    .dataframe tbody tr th:only-of-type {\n",
       "        vertical-align: middle;\n",
       "    }\n",
       "\n",
       "    .dataframe tbody tr th {\n",
       "        vertical-align: top;\n",
       "    }\n",
       "\n",
       "    .dataframe thead th {\n",
       "        text-align: right;\n",
       "    }\n",
       "</style>\n",
       "<table border=\"1\" class=\"dataframe\">\n",
       "  <thead>\n",
       "    <tr style=\"text-align: right;\">\n",
       "      <th></th>\n",
       "      <th>candidate_id</th>\n",
       "      <th>disease</th>\n",
       "      <th>gene</th>\n",
       "      <th>doid_id</th>\n",
       "      <th>entrez_gene_id</th>\n",
       "      <th>sentence</th>\n",
       "    </tr>\n",
       "  </thead>\n",
       "  <tbody>\n",
       "    <tr>\n",
       "      <th>0</th>\n",
       "      <td>23308</td>\n",
       "      <td>astrocytomas</td>\n",
       "      <td>GFAP</td>\n",
       "      <td>DOID:3070</td>\n",
       "      <td>2670</td>\n",
       "      <td>on the basis of studies utilizing antibody to ...</td>\n",
       "    </tr>\n",
       "    <tr>\n",
       "      <th>1</th>\n",
       "      <td>25248</td>\n",
       "      <td>HCC</td>\n",
       "      <td>(</td>\n",
       "      <td>DOID:3571</td>\n",
       "      <td>6360</td>\n",
       "      <td>of the latter , 45 were hepatocellular carcino...</td>\n",
       "    </tr>\n",
       "  </tbody>\n",
       "</table>\n",
       "</div>"
      ],
      "text/plain": [
       "   candidate_id       disease  gene    doid_id entrez_gene_id  \\\n",
       "0         23308  astrocytomas  GFAP  DOID:3070           2670   \n",
       "1         25248           HCC     (  DOID:3571           6360   \n",
       "\n",
       "                                            sentence  \n",
       "0  on the basis of studies utilizing antibody to ...  \n",
       "1  of the latter , 45 were hepatocellular carcino...  "
      ]
     },
     "execution_count": 12,
     "metadata": {},
     "output_type": "execute_result"
    }
   ],
   "source": [
    "test_candidates = (\n",
    "    session\n",
    "    .query(DiseaseGene)\n",
    "    .filter(\n",
    "        DiseaseGene.id.in_(\n",
    "            total_candidates_df\n",
    "            .query(\"split==2\")\n",
    "            .sample(10000, random_state=120)\n",
    "            .candidate_id\n",
    "            .tolist()\n",
    "        )\n",
    "    )\n",
    "    .all()\n",
    ")\n",
    "test_df = make_sentence_df(test_candidates)\n",
    "test_df.head(2)"
   ]
  },
  {
   "cell_type": "code",
   "execution_count": 13,
   "metadata": {
    "ExecuteTime": {
     "end_time": "2020-01-16T16:14:07.638744Z",
     "start_time": "2020-01-16T16:14:07.625476Z"
    }
   },
   "outputs": [],
   "source": [
    "#write_candidates_to_excel(dev_df, \"../data/sentences/sentence_labels_dev.xlsx\")\n",
    "#write_candidates_to_excel(test_df, \"../data/sentences/sentence_labels_test.xlsx\")"
   ]
  },
  {
   "cell_type": "markdown",
   "metadata": {},
   "source": [
    "## Distribution of Sentence Length"
   ]
  },
  {
   "cell_type": "code",
   "execution_count": 14,
   "metadata": {
    "ExecuteTime": {
     "end_time": "2020-01-16T16:14:11.788649Z",
     "start_time": "2020-01-16T16:14:09.911788Z"
    }
   },
   "outputs": [
    {
     "data": {
      "text/plain": [
       "<matplotlib.axes._subplots.AxesSubplot at 0x7fbbb9c10320>"
      ]
     },
     "execution_count": 14,
     "metadata": {},
     "output_type": "execute_result"
    },
    {
     "data": {
      "image/png": "[encoded data removed]",
      "text/plain": [
       "<Figure size 432x288 with 1 Axes>"
      ]
     },
     "metadata": {
      "needs_background": "light"
     },
     "output_type": "display_data"
    }
   ],
   "source": [
    "sns.distplot(total_candidates_df[\"sen_length\"], rug=False)"
   ]
  },
  {
   "cell_type": "code",
   "execution_count": 15,
   "metadata": {
    "ExecuteTime": {
     "end_time": "2020-01-16T16:14:14.200925Z",
     "start_time": "2020-01-16T16:14:14.095310Z"
    }
   },
   "outputs": [
    {
     "data": {
      "text/plain": [
       "count    3830118\n",
       "mean          37\n",
       "std           21\n",
       "min            3\n",
       "25%           24\n",
       "50%           33\n",
       "75%           45\n",
       "max          957\n",
       "Name: sen_length, dtype: int64"
      ]
     },
     "execution_count": 15,
     "metadata": {},
     "output_type": "execute_result"
    }
   ],
   "source": [
    "total_candidates_df[\"sen_length\"].describe().astype(int)"
   ]
  },
  {
   "cell_type": "markdown",
   "metadata": {},
   "source": [
    "Something seems fishy about this distribution. The number of words (tokens) for a given sentence is in the thousands range. Intuitively, that doesn't make sense, since the average number of words for a given sentence is 37. Possible reason for this abnormality is a parsing error. Lets take a look at this 1120 word sentence."
   ]
  },
  {
   "cell_type": "code",
   "execution_count": 16,
   "metadata": {
    "ExecuteTime": {
     "end_time": "2020-01-16T16:15:10.796175Z",
     "start_time": "2020-01-16T16:15:10.742349Z"
    }
   },
   "outputs": [
    {
     "data": {
      "text/plain": [
       "'Pooled analysis of (R)-[11C]-verapamil PET data from two European centresM Bauer, M Feldmann, R Karch, W Wadsak, M Zeitlinger, MJ Koepp, M-C Asselin, E Pataraia, O LangerA13 In-vitro and in-vivo characterization of [18F]FE@SNAP and derivatives for the visualization of the melanin concentrating hormone receptor 1M Zeilinger, C Philippe, M Dumanic, F Pichler, J Pilz, M Hacker, W Wadsak, M MitterhauserA14 Reducing time in quality control leads to higher specific radioactivity of short-lived radiotracersL Nics, B Steiner, M Hacker, M Mitterhauser, W WadsakA15 In vitro 11C-erlotinib binding experiments in cancer cell lines with epidermal growth factor receptor mutationsA Traxl, Thomas Wanek, Kushtrim Kryeziu, Severin Mairinger, Johann Stanek, Walter Berger, Claudia Kuntner, Oliver LangerA16 7-[11C]methyl-6-bromopurine, a PET tracer to measure brain Mrp1 function: radiosynthesis and first PET evaluation in miceS Mairinger, T Wanek, A Traxl, M Krohn, J Stanek, T Filip, M Sauberer, C Kuntner, J Pahnke, O LangerA17 18F labeled azidoglucose derivatives as \"click\" agents for pretargeted PET imagingD Svatunek, C Denk, M Wilkovitsch, T Wanek, T Filip, C Kuntner-Hannes, J Fr  hlich, H MikulaA18 Bioorthogonal tools for PET imaging: development of radiolabeled 1,2,4,5-TetrazinesC Denk, D Svatunek, T Wanek, S Mairinger, J Stanek, T Filip, J Fr  hlich, H Mikula, C Kuntner-HannesA19 Preclinical evaluation of [18F]FE@SUPPY- a new PET-tracer for oncologyT Balber, J Singer, J Fazekas, C Rami-Mark, N Berroter  n-Infante, E Jensen-Jarolim, W Wadsak, M Hacker, H Viernstein, M MitterhauserA20 Investigation of Small [18F]-Fluoroalkylazides for Rapid Radiolabeling and In Vivo Click ChemistryC Denk, D Svatunek, B Sohr, H Mikula, J Fr  hlich, T Wanek, C Kuntner-Hannes, T FilipA21 Microfluidic 68Ga-radiolabeling of PSMA-HBED-CC using a flow-through reactorS Pfaff, C Philippe, M Mitterhauser, M Hartenbach, M Hacker, W WadsakA22 Influence of 24-nor-ursodeoxycholic acid on hepatic disposition of [18F]ciprofloxacin measured with positron emission tomographyT Wanek, E Halilbasic, M Visentin, S Mairinger, B Stieger, C Kuntner, M Trauner, O LangerA23 Automated 18F-flumazenil production using chemically resistant disposable cassettesP Lam, M Aistleitner, R Eichinger, C ArtnerA24 Similarities and differences in the synthesis and quality control of 177Lu-DOTA-TATE, 177Lu -HA-DOTA-TATE and 177Lu-DOTA-PSMA (PSMA-617)H Eidherr, C Vraka, A Haug, M Mitterhauser, L Nics, M Hartenbach, M Hacker, W WadsakA25 68Ga- and 177Lu-labelling of PSMA-617H Kvaternik, R M  ller, D Hausberger, C Zink, RM AignerA26 Radiolabelling of liposomes with 67Ga and biodistribution studies after administration by an aerosol inhalation systemU Coss  o, M Asensio, A Montes, S Akhtar, Y te Welscher, R van Nostrum, V G  mez-Vallejo, J LlopA27 Fully automated quantification of DaTscan SPECT: Integration of age and gender differencesF VandeVyver, T Barclay, N Lippens, M TrochA28 Lesion-to-background ratio in co-registered 18F-FET PET/MR imaging - is it a valuable tool to differentiate between low grade and high grade brain tumor?L Hehenwarter, B Egger, J Holzmannhofer, M Rodrigues-Radischat, C PirichA29 [11C]-methionine PET in gliomas - a retrospective data analysis of 166 patientsN P  tsch, I Rausch, D Wilhelm, M Weber, J Furtner, G Karanikas, A W  hrer, M Mitterhauser, M Hacker, T Traub-WeidingerA30 18F-Fluorocholine versus 18F-Fluorodeoxyglucose for PET/CT imaging in patients with relapsed or progressive multiple myeloma: a pilot studyT Cassou-Mounat, S Balogova, V Nataf, M Calzada, V Huchet, K Kerrou, J-Y Devaux, M Mohty, L Garderet, J-N TalbotA31 Prognostic benefit of additional SPECT/CT in sentinel lymph node mapping of breast cancer patientsS Stanzel, G Pregartner, T Schwarz, V Bjelic-Radisic, B Liegl-Atzwanger, R AignerA32 Evaluation of diagnostic value of TOF-18F-FDG PET/CT in patients with suspected pancreatic cancerS Stanzel, F Quehenberger, RM AignerA33 New quantification method for diagnosis of primary hyperpatahyroidism lesions and differential diagnosis vs thyropid nodular disease in dynamic scintigraphyA Koljevi   Markovi  , Milica Jankovi  , V Miler Jerkovi  , M Paska  , G Pupi  , R D  odi  , D Popovi  A34 A rare case of diffuse pancreatic involvement in patient with merkel cell carcinoma detected by 18F-FDGMC Fornito, D FamiliariA35 TSH-stimulated 18F-FDG PET/CT in the diagnosis of recurrent/metastatic radioiodine-negative differentiated thyroid carcinomas in patients with various thyroglobuline levelsP Koranda, H Polzerov  , I Metelkov  , L Henzlov  , R Form  nek, E Buri  nkov  , M Kam  nekA36 Breast Dose from lactation following I131 treatmentWH Thomson, C LewisA37 A new concept for performing SeHCAT studies with the gamma cameraWH Thomson, J O\\'Brien, G James, A NotghiA38 Whole body F-18-FDG-PET and tuberculosis: sensitivity compared to x-ray-CTH Huber, I Stelzm  ller, R Wunn, M Mandl, F Fellner, B Lamprecht, M GabrielA39 Emerging role 18F-FDG PET-CT in the diagnosis and follow-up of the infection in heartware ventricular assist system (HVAD)MC Fornito, G LeonardiA40 Validation of Poisson resampling softwareWH Thomson, J O\\'Brien, G JamesA41 Protection of PET nuclear medicine personnel: problems in satisfying dose limit requirementsJ Hudzietzov  , J Sabol, M F  l  p.'"
      ]
     },
     "execution_count": 16,
     "metadata": {},
     "output_type": "execute_result"
    }
   ],
   "source": [
    "total_candidates_df.query(\"sen_length==957\").iloc[0][\"text\"]"
   ]
  },
  {
   "cell_type": "markdown",
   "metadata": {},
   "source": [
    "The above suspicion was correct. This is a parsing error where the list of authors are combined with the title of their work for a winter symposium. The following can be found at this id link: [27090254](https://www.ncbi.nlm.nih.gov/pubmed/27090254). The goal here is to take these parsing errors into account and determine an optimal cutoff point for these sentences. Using common statsitic rules any point that is greater than two standard deviations away from the mean will be removed."
   ]
  },
  {
   "cell_type": "code",
   "execution_count": 17,
   "metadata": {
    "ExecuteTime": {
     "end_time": "2020-01-16T16:15:24.616030Z",
     "start_time": "2020-01-16T16:15:23.254616Z"
    }
   },
   "outputs": [
    {
     "data": {
      "text/plain": [
       "<matplotlib.axes._subplots.AxesSubplot at 0x7fbb792600f0>"
      ]
     },
     "execution_count": 17,
     "metadata": {},
     "output_type": "execute_result"
    },
    {
     "data": {
      "image/png": "[encoded data removed]",
      "text/plain": [
       "<Figure size 432x288 with 1 Axes>"
      ]
     },
     "metadata": {
      "needs_background": "light"
     },
     "output_type": "display_data"
    }
   ],
   "source": [
    "sns.distplot(total_candidates_df.query(\"sen_length < 83+1\")[\"sen_length\"], rug=False)"
   ]
  },
  {
   "cell_type": "code",
   "execution_count": 18,
   "metadata": {
    "ExecuteTime": {
     "end_time": "2020-01-16T16:15:27.453614Z",
     "start_time": "2020-01-16T16:15:26.958712Z"
    }
   },
   "outputs": [
    {
     "data": {
      "text/plain": [
       "count    3712064\n",
       "mean          34\n",
       "std           15\n",
       "min            3\n",
       "25%           23\n",
       "50%           32\n",
       "75%           43\n",
       "max           83\n",
       "Name: sen_length, dtype: int64"
      ]
     },
     "execution_count": 18,
     "metadata": {},
     "output_type": "execute_result"
    }
   ],
   "source": [
    "total_candidates_df.query(\"sen_length < 83+1\")[\"sen_length\"].describe().astype(int)"
   ]
  },
  {
   "cell_type": "markdown",
   "metadata": {},
   "source": [
    "This distribution looks a bit more reasonable compared to the above distribution. After filtering out the outliers, we still have a pleathora of sentences on the order of 3.6 million. (removed 146841 sentences)."
   ]
  },
  {
   "cell_type": "code",
   "execution_count": 24,
   "metadata": {
    "ExecuteTime": {
     "end_time": "2020-01-16T16:23:01.131324Z",
     "start_time": "2020-01-16T16:16:33.017453Z"
    }
   },
   "outputs": [],
   "source": [
    "total_candidates_df.to_csv(\"output/all_dag_candidates.tsv.xz\", sep=\"\\t\", compression=\"xz\", index=False)"
   ]
  },
  {
   "cell_type": "markdown",
   "metadata": {},
   "source": [
    "In conclusion, the optimal cutoff point in this case would be: **84** tokens/words or smaller depending on algorithm performance. Another important lesson is to analyze one's dataset before undergoing the journey of training a deep learning model. Sentence length is an important factor, when it comes to filtering out the dataset. If ignored, a significant amount of problems will arise. For example, when training a long short term memory network (LSTM), sequence length dictates how many steps the LSTM needs to traverse in order to ultimately calculate the probability of a sentence mentioning a relationship. If the LSTM were to be fed a sentence that contains 1120 words, then the network has 1120 steps to parse through. This takes a significant amount of time (~34 hours+). Plus during backpropogation, the gradient will become very small that the network cannot learn anything useful ([Backpropogation through time](https://en.wikipedia.org/wiki/Backpropagation_through_time)). "
   ]
  }
 ],
 "metadata": {
  "kernelspec": {
   "display_name": "Python [conda env:snorkel_db]",
   "language": "python",
   "name": "conda-env-snorkel_db-py"
  },
  "language_info": {
   "codemirror_mode": {
    "name": "ipython",
    "version": 3
   },
   "file_extension": ".py",
   "mimetype": "text/x-python",
   "name": "python",
   "nbconvert_exporter": "python",
   "pygments_lexer": "ipython3",
   "version": "3.6.0"
  },
  "toc": {
   "base_numbering": 1,
   "nav_menu": {},
   "number_sections": true,
   "sideBar": true,
   "skip_h1_title": false,
   "title_cell": "Table of Contents",
   "title_sidebar": "Contents",
   "toc_cell": false,
   "toc_position": {},
   "toc_section_display": true,
   "toc_window_display": false
  },
  "varInspector": {
   "cols": {
    "lenName": 16,
    "lenType": 16,
    "lenVar": 40
   },
   "kernels_config": {
    "python": {
     "delete_cmd_postfix": "",
     "delete_cmd_prefix": "del ",
     "library": "var_list.py",
     "varRefreshCmd": "print(var_dic_list())"
    },
    "r": {
     "delete_cmd_postfix": ") ",
     "delete_cmd_prefix": "rm(",
     "library": "var_list.r",
     "varRefreshCmd": "cat(var_dic_list()) "
    }
   },
   "types_to_exclude": [
    "module",
    "function",
    "builtin_function_or_method",
    "instance",
    "_Feature"
   ],
   "window_display": false
  }
 },
 "nbformat": 4,
 "nbformat_minor": 2
}
