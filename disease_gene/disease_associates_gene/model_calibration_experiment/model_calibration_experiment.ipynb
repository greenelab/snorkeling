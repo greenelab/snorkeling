{
 "cells": [
  {
   "cell_type": "code",
   "execution_count": 1,
   "metadata": {
    "ExecuteTime": {
     "end_time": "2019-07-29T18:20:58.617011Z",
     "start_time": "2019-07-29T18:20:57.733977Z"
    }
   },
   "outputs": [],
   "source": [
    "%load_ext autoreload\n",
    "%autoreload 2\n",
    "%matplotlib inline\n",
    "\n",
    "from collections import defaultdict\n",
    "import os\n",
    "import pickle\n",
    "import sys\n",
    "\n",
    "sys.path.append(os.path.abspath('../../../modules'))\n",
    "\n",
    "import matplotlib.pyplot as plt\n",
    "import pandas as pd\n",
    "import seaborn as sns\n",
    "from tqdm import tqdm_notebook\n",
    "\n",
    "from utils.notebook_utils.dataframe_helper import load_candidate_dataframes, mark_sentence"
   ]
  },
  {
   "cell_type": "code",
   "execution_count": 2,
   "metadata": {
    "ExecuteTime": {
     "end_time": "2019-07-29T18:20:58.842930Z",
     "start_time": "2019-07-29T18:20:58.623387Z"
    }
   },
   "outputs": [],
   "source": [
    "#Set up the environment\n",
    "username = \"danich1\"\n",
    "password = \"snorkel\"\n",
    "dbname = \"pubmeddb\"\n",
    "\n",
    "#Path subject to change for different os\n",
    "database_str = \"postgresql+psycopg2://{}:{}@/{}?host=/var/run/postgresql\".format(username, password, dbname)\n",
    "os.environ['SNORKELDB'] = database_str\n",
    "\n",
    "from snorkel import SnorkelSession\n",
    "session = SnorkelSession()"
   ]
  },
  {
   "cell_type": "code",
   "execution_count": 3,
   "metadata": {
    "ExecuteTime": {
     "end_time": "2019-07-29T18:20:59.339961Z",
     "start_time": "2019-07-29T18:20:58.844353Z"
    }
   },
   "outputs": [],
   "source": [
    "from snorkel.learning.pytorch.rnn.utils import candidate_to_tokens\n",
    "from snorkel.models import Candidate, candidate_subclass"
   ]
  },
  {
   "cell_type": "code",
   "execution_count": 4,
   "metadata": {
    "ExecuteTime": {
     "end_time": "2019-07-29T18:20:59.384744Z",
     "start_time": "2019-07-29T18:20:59.341364Z"
    }
   },
   "outputs": [],
   "source": [
    "DiseaseGene = candidate_subclass('DiseaseGene', ['Disease', 'Gene'])"
   ]
  },
  {
   "cell_type": "code",
   "execution_count": 5,
   "metadata": {
    "ExecuteTime": {
     "end_time": "2019-07-29T18:20:59.424391Z",
     "start_time": "2019-07-29T18:20:59.390220Z"
    }
   },
   "outputs": [],
   "source": [
    "def tag_sentence(x):\n",
    "    candidates=(\n",
    "        session\n",
    "        .query(DiseaseGene)\n",
    "        .filter(DiseaseGene.id.in_(x.candidate_id.astype(int).tolist()))\n",
    "        .all()\n",
    "    )\n",
    "    tagged_sen=[\n",
    "         \" \".join(\n",
    "             mark_sentence(\n",
    "                candidate_to_tokens(cand), \n",
    "                [\n",
    "                        (cand[0].get_word_start(), cand[0].get_word_end(), 1),\n",
    "                        (cand[1].get_word_start(), cand[1].get_word_end(), 2)\n",
    "                ]\n",
    "            )\n",
    "         )\n",
    "        for cand in candidates\n",
    "    ]\n",
    "\n",
    "    return tagged_sen"
   ]
  },
  {
   "cell_type": "code",
   "execution_count": 6,
   "metadata": {
    "ExecuteTime": {
     "end_time": "2019-07-29T18:20:59.447664Z",
     "start_time": "2019-07-29T18:20:59.425935Z"
    }
   },
   "outputs": [],
   "source": [
    "spreadsheet_names = {\n",
    "    'train': '../data/sentences/sentence_labels_train.xlsx',\n",
    "    'dev': '../data/sentences/sentence_labels_dev.xlsx',\n",
    "    'test': '../data/sentences/sentence_labels_test.xlsx'\n",
    "}"
   ]
  },
  {
   "cell_type": "code",
   "execution_count": 7,
   "metadata": {
    "ExecuteTime": {
     "end_time": "2019-07-29T18:21:02.286096Z",
     "start_time": "2019-07-29T18:20:59.450407Z"
    }
   },
   "outputs": [
    {
     "name": "stdout",
     "output_type": "stream",
     "text": [
      "Size of train set: 300\n",
      "Size of dev set: 1000\n",
      "Size of test set: 1000\n"
     ]
    }
   ],
   "source": [
    "candidate_dfs = {\n",
    "    key:load_candidate_dataframes(spreadsheet_names[key], \"curated_dsh\")\n",
    "    for key in spreadsheet_names\n",
    "}\n",
    "\n",
    "for key in candidate_dfs:\n",
    "    print(\"Size of {} set: {}\".format(key, candidate_dfs[key].shape[0]))"
   ]
  },
  {
   "cell_type": "code",
   "execution_count": 8,
   "metadata": {
    "ExecuteTime": {
     "end_time": "2019-07-29T18:21:02.347495Z",
     "start_time": "2019-07-29T18:21:02.287942Z"
    }
   },
   "outputs": [
    {
     "data": {
      "text/html": [
       "<div>\n",
       "<style scoped>\n",
       "    .dataframe tbody tr th:only-of-type {\n",
       "        vertical-align: middle;\n",
       "    }\n",
       "\n",
       "    .dataframe tbody tr th {\n",
       "        vertical-align: top;\n",
       "    }\n",
       "\n",
       "    .dataframe thead th {\n",
       "        text-align: right;\n",
       "    }\n",
       "</style>\n",
       "<table border=\"1\" class=\"dataframe\">\n",
       "  <thead>\n",
       "    <tr style=\"text-align: right;\">\n",
       "      <th></th>\n",
       "      <th>model_predictions</th>\n",
       "      <th>candidate_id</th>\n",
       "    </tr>\n",
       "  </thead>\n",
       "  <tbody>\n",
       "    <tr>\n",
       "      <th>0</th>\n",
       "      <td>0.829591</td>\n",
       "      <td>21841</td>\n",
       "    </tr>\n",
       "    <tr>\n",
       "      <th>1</th>\n",
       "      <td>0.704084</td>\n",
       "      <td>82680</td>\n",
       "    </tr>\n",
       "  </tbody>\n",
       "</table>\n",
       "</div>"
      ],
      "text/plain": [
       "   model_predictions  candidate_id\n",
       "0           0.829591         21841\n",
       "1           0.704084         82680"
      ]
     },
     "execution_count": 8,
     "metadata": {},
     "output_type": "execute_result"
    }
   ],
   "source": [
    "dev_predictions_df = pd.read_table(\"results/before_100_sampled_lfs.tsv_dev.tsv\")\n",
    "dev_predictions_df.columns = [\"model_predictions\", \"candidate_id\"]\n",
    "dev_predictions_df.head(2)"
   ]
  },
  {
   "cell_type": "code",
   "execution_count": 9,
   "metadata": {
    "ExecuteTime": {
     "end_time": "2019-07-29T18:21:02.406641Z",
     "start_time": "2019-07-29T18:21:02.348901Z"
    }
   },
   "outputs": [
    {
     "data": {
      "text/html": [
       "<div>\n",
       "<style scoped>\n",
       "    .dataframe tbody tr th:only-of-type {\n",
       "        vertical-align: middle;\n",
       "    }\n",
       "\n",
       "    .dataframe tbody tr th {\n",
       "        vertical-align: top;\n",
       "    }\n",
       "\n",
       "    .dataframe thead th {\n",
       "        text-align: right;\n",
       "    }\n",
       "</style>\n",
       "<table border=\"1\" class=\"dataframe\">\n",
       "  <thead>\n",
       "    <tr style=\"text-align: right;\">\n",
       "      <th></th>\n",
       "      <th>curated_dsh</th>\n",
       "      <th>model_predictions</th>\n",
       "      <th>candidate_id</th>\n",
       "    </tr>\n",
       "  </thead>\n",
       "  <tbody>\n",
       "    <tr>\n",
       "      <th>0</th>\n",
       "      <td>1.0</td>\n",
       "      <td>0.83</td>\n",
       "      <td>21841</td>\n",
       "    </tr>\n",
       "    <tr>\n",
       "      <th>1</th>\n",
       "      <td>0.0</td>\n",
       "      <td>0.70</td>\n",
       "      <td>82680</td>\n",
       "    </tr>\n",
       "  </tbody>\n",
       "</table>\n",
       "</div>"
      ],
      "text/plain": [
       "   curated_dsh  model_predictions  candidate_id\n",
       "0          1.0               0.83         21841\n",
       "1          0.0               0.70         82680"
      ]
     },
     "execution_count": 9,
     "metadata": {},
     "output_type": "execute_result"
    }
   ],
   "source": [
    "model_predictions_df = (\n",
    "    candidate_dfs['dev']\n",
    "    .merge(dev_predictions_df)\n",
    "    [[\"curated_dsh\", \"model_predictions\", \"candidate_id\"]]\n",
    "    .round(2)\n",
    ")\n",
    "model_predictions_df.head(2)"
   ]
  },
  {
   "cell_type": "code",
   "execution_count": 10,
   "metadata": {
    "ExecuteTime": {
     "end_time": "2019-07-29T18:21:02.458750Z",
     "start_time": "2019-07-29T18:21:02.408378Z"
    }
   },
   "outputs": [
    {
     "data": {
      "text/html": [
       "<div>\n",
       "<style scoped>\n",
       "    .dataframe tbody tr th:only-of-type {\n",
       "        vertical-align: middle;\n",
       "    }\n",
       "\n",
       "    .dataframe tbody tr th {\n",
       "        vertical-align: top;\n",
       "    }\n",
       "\n",
       "    .dataframe thead th {\n",
       "        text-align: right;\n",
       "    }\n",
       "</style>\n",
       "<table border=\"1\" class=\"dataframe\">\n",
       "  <thead>\n",
       "    <tr style=\"text-align: right;\">\n",
       "      <th></th>\n",
       "      <th>candidate_id</th>\n",
       "      <th>model_predictions_after</th>\n",
       "    </tr>\n",
       "  </thead>\n",
       "  <tbody>\n",
       "    <tr>\n",
       "      <th>0</th>\n",
       "      <td>21841</td>\n",
       "      <td>0.581059</td>\n",
       "    </tr>\n",
       "    <tr>\n",
       "      <th>1</th>\n",
       "      <td>82680</td>\n",
       "      <td>0.544670</td>\n",
       "    </tr>\n",
       "  </tbody>\n",
       "</table>\n",
       "</div>"
      ],
      "text/plain": [
       "   candidate_id  model_predictions_after\n",
       "0         21841                 0.581059\n",
       "1         82680                 0.544670"
      ]
     },
     "execution_count": 10,
     "metadata": {},
     "output_type": "execute_result"
    }
   ],
   "source": [
    "dev_all_predictions_df = pd.read_table(\"results/after_100_sampled_lfs.tsv_dev.tsv\")\n",
    "dev_all_predictions_df.columns = [\"candidate_id\", \"model_predictions_after\"]\n",
    "dev_all_predictions_df.head(2)"
   ]
  },
  {
   "cell_type": "code",
   "execution_count": 11,
   "metadata": {
    "ExecuteTime": {
     "end_time": "2019-07-29T18:21:30.993954Z",
     "start_time": "2019-07-29T18:21:02.461730Z"
    }
   },
   "outputs": [
    {
     "data": {
      "text/html": [
       "<div>\n",
       "<style scoped>\n",
       "    .dataframe tbody tr th:only-of-type {\n",
       "        vertical-align: middle;\n",
       "    }\n",
       "\n",
       "    .dataframe tbody tr th {\n",
       "        vertical-align: top;\n",
       "    }\n",
       "\n",
       "    .dataframe thead th {\n",
       "        text-align: right;\n",
       "    }\n",
       "</style>\n",
       "<table border=\"1\" class=\"dataframe\">\n",
       "  <thead>\n",
       "    <tr style=\"text-align: right;\">\n",
       "      <th></th>\n",
       "      <th>entrez_gene_id</th>\n",
       "      <th>gene_symbol</th>\n",
       "      <th>doid_id</th>\n",
       "      <th>doid_name</th>\n",
       "      <th>sources</th>\n",
       "      <th>hetionet</th>\n",
       "      <th>n_sentences</th>\n",
       "      <th>has_sentence</th>\n",
       "      <th>partition_rank</th>\n",
       "      <th>split</th>\n",
       "      <th>compound_mention_count</th>\n",
       "      <th>disease_mention_count</th>\n",
       "      <th>gene_mention_count</th>\n",
       "      <th>sentence_id</th>\n",
       "      <th>text</th>\n",
       "      <th>sen_length</th>\n",
       "      <th>candidate_id</th>\n",
       "    </tr>\n",
       "  </thead>\n",
       "  <tbody>\n",
       "    <tr>\n",
       "      <th>0</th>\n",
       "      <td>1</td>\n",
       "      <td>A1BG</td>\n",
       "      <td>DOID:2531</td>\n",
       "      <td>hematologic cancer</td>\n",
       "      <td>NaN</td>\n",
       "      <td>0</td>\n",
       "      <td>8</td>\n",
       "      <td>1</td>\n",
       "      <td>0.8586</td>\n",
       "      <td>1</td>\n",
       "      <td>0.0</td>\n",
       "      <td>1.0</td>\n",
       "      <td>3.0</td>\n",
       "      <td>2129459</td>\n",
       "      <td>The number of H antigen sites per single red c...</td>\n",
       "      <td>172</td>\n",
       "      <td>176680</td>\n",
       "    </tr>\n",
       "    <tr>\n",
       "      <th>1</th>\n",
       "      <td>1</td>\n",
       "      <td>A1BG</td>\n",
       "      <td>DOID:2531</td>\n",
       "      <td>hematologic cancer</td>\n",
       "      <td>NaN</td>\n",
       "      <td>0</td>\n",
       "      <td>8</td>\n",
       "      <td>1</td>\n",
       "      <td>0.8586</td>\n",
       "      <td>1</td>\n",
       "      <td>0.0</td>\n",
       "      <td>1.0</td>\n",
       "      <td>3.0</td>\n",
       "      <td>2129459</td>\n",
       "      <td>The number of H antigen sites per single red c...</td>\n",
       "      <td>172</td>\n",
       "      <td>176675</td>\n",
       "    </tr>\n",
       "  </tbody>\n",
       "</table>\n",
       "</div>"
      ],
      "text/plain": [
       "   entrez_gene_id gene_symbol    doid_id           doid_name sources  \\\n",
       "0               1        A1BG  DOID:2531  hematologic cancer     NaN   \n",
       "1               1        A1BG  DOID:2531  hematologic cancer     NaN   \n",
       "\n",
       "   hetionet  n_sentences  has_sentence  partition_rank  split  \\\n",
       "0         0            8             1          0.8586      1   \n",
       "1         0            8             1          0.8586      1   \n",
       "\n",
       "   compound_mention_count  disease_mention_count  gene_mention_count  \\\n",
       "0                     0.0                    1.0                 3.0   \n",
       "1                     0.0                    1.0                 3.0   \n",
       "\n",
       "   sentence_id                                               text  sen_length  \\\n",
       "0      2129459  The number of H antigen sites per single red c...         172   \n",
       "1      2129459  The number of H antigen sites per single red c...         172   \n",
       "\n",
       "   candidate_id  \n",
       "0        176680  \n",
       "1        176675  "
      ]
     },
     "execution_count": 11,
     "metadata": {},
     "output_type": "execute_result"
    }
   ],
   "source": [
    "total_candidates_df = pd.read_csv(\"../dataset_statistics/results/all_dag_map.tsv.xz\", sep=\"\\t\")\n",
    "total_candidates_df.head(2)"
   ]
  },
  {
   "cell_type": "code",
   "execution_count": 12,
   "metadata": {
    "ExecuteTime": {
     "end_time": "2019-07-29T18:21:37.874341Z",
     "start_time": "2019-07-29T18:21:30.998741Z"
    }
   },
   "outputs": [
    {
     "data": {
      "text/html": [
       "<div>\n",
       "<style scoped>\n",
       "    .dataframe tbody tr th:only-of-type {\n",
       "        vertical-align: middle;\n",
       "    }\n",
       "\n",
       "    .dataframe tbody tr th {\n",
       "        vertical-align: top;\n",
       "    }\n",
       "\n",
       "    .dataframe thead th {\n",
       "        text-align: right;\n",
       "    }\n",
       "</style>\n",
       "<table border=\"1\" class=\"dataframe\">\n",
       "  <thead>\n",
       "    <tr style=\"text-align: right;\">\n",
       "      <th></th>\n",
       "      <th>doid_name</th>\n",
       "      <th>gene_symbol</th>\n",
       "      <th>text</th>\n",
       "      <th>candidate_id</th>\n",
       "      <th>model_predictions</th>\n",
       "      <th>model_predictions_after</th>\n",
       "    </tr>\n",
       "  </thead>\n",
       "  <tbody>\n",
       "    <tr>\n",
       "      <th>115</th>\n",
       "      <td>hematologic cancer</td>\n",
       "      <td>C7</td>\n",
       "      <td>serum antibody responses to four haemophilus i...</td>\n",
       "      <td>908730</td>\n",
       "      <td>0.001527</td>\n",
       "      <td>0.207535</td>\n",
       "    </tr>\n",
       "    <tr>\n",
       "      <th>607</th>\n",
       "      <td>hepatitis B</td>\n",
       "      <td>PKD2</td>\n",
       "      <td>conversely , a significant enhancement of acti...</td>\n",
       "      <td>2027448</td>\n",
       "      <td>0.002017</td>\n",
       "      <td>0.217155</td>\n",
       "    </tr>\n",
       "  </tbody>\n",
       "</table>\n",
       "</div>"
      ],
      "text/plain": [
       "              doid_name gene_symbol  \\\n",
       "115  hematologic cancer          C7   \n",
       "607         hepatitis B        PKD2   \n",
       "\n",
       "                                                  text  candidate_id  \\\n",
       "115  serum antibody responses to four haemophilus i...        908730   \n",
       "607  conversely , a significant enhancement of acti...       2027448   \n",
       "\n",
       "     model_predictions  model_predictions_after  \n",
       "115           0.001527                 0.207535  \n",
       "607           0.002017                 0.217155  "
      ]
     },
     "execution_count": 12,
     "metadata": {},
     "output_type": "execute_result"
    }
   ],
   "source": [
    "confidence_score_df = (\n",
    "    total_candidates_df\n",
    "    [[\"doid_name\", \"gene_symbol\", \"text\", \"candidate_id\"]]\n",
    "    .merge(dev_predictions_df, on=\"candidate_id\")\n",
    "    .merge(dev_all_predictions_df, on=\"candidate_id\")\n",
    "    .sort_values(\"candidate_id\")\n",
    "    .assign(text=lambda x: tag_sentence(x))\n",
    "    .sort_values(\"model_predictions_after\")\n",
    ")\n",
    "confidence_score_df.head(2)"
   ]
  },
  {
   "cell_type": "code",
   "execution_count": 13,
   "metadata": {
    "ExecuteTime": {
     "end_time": "2019-07-29T18:21:37.923975Z",
     "start_time": "2019-07-29T18:21:37.879917Z"
    }
   },
   "outputs": [],
   "source": [
    "(\n",
    "    confidence_score_df\n",
    "    .head(10)\n",
    "    .sort_values(\"model_predictions_after\", ascending=False)\n",
    "    .drop(\"candidate_id\", axis=1)\n",
    "    .round(3)\n",
    "    .to_csv(\"results/bottom_ten_high_confidence_scores.tsv\", sep=\"\\t\", index=False)\n",
    ")"
   ]
  },
  {
   "cell_type": "code",
   "execution_count": 14,
   "metadata": {
    "ExecuteTime": {
     "end_time": "2019-07-29T18:21:37.973170Z",
     "start_time": "2019-07-29T18:21:37.930918Z"
    }
   },
   "outputs": [],
   "source": [
    "(\n",
    "    confidence_score_df\n",
    "    .tail(10)\n",
    "    .sort_values(\"model_predictions_after\", ascending=False)\n",
    "    .drop(\"candidate_id\", axis=1)\n",
    "    .round(3)\n",
    "    .to_csv(\"results/top_ten_high_confidence_scores.tsv\", sep=\"\\t\", index=False)\n",
    ")"
   ]
  },
  {
   "cell_type": "code",
   "execution_count": 15,
   "metadata": {
    "ExecuteTime": {
     "end_time": "2019-07-29T18:21:38.040129Z",
     "start_time": "2019-07-29T18:21:37.978332Z"
    }
   },
   "outputs": [
    {
     "data": {
      "text/html": [
       "<div>\n",
       "<style scoped>\n",
       "    .dataframe tbody tr th:only-of-type {\n",
       "        vertical-align: middle;\n",
       "    }\n",
       "\n",
       "    .dataframe tbody tr th {\n",
       "        vertical-align: top;\n",
       "    }\n",
       "\n",
       "    .dataframe thead th {\n",
       "        text-align: right;\n",
       "    }\n",
       "</style>\n",
       "<table border=\"1\" class=\"dataframe\">\n",
       "  <thead>\n",
       "    <tr style=\"text-align: right;\">\n",
       "      <th></th>\n",
       "      <th>curated_dsh</th>\n",
       "      <th>model_predictions</th>\n",
       "    </tr>\n",
       "  </thead>\n",
       "  <tbody>\n",
       "    <tr>\n",
       "      <th>0</th>\n",
       "      <td>1.0</td>\n",
       "      <td>0.58</td>\n",
       "    </tr>\n",
       "    <tr>\n",
       "      <th>1</th>\n",
       "      <td>0.0</td>\n",
       "      <td>0.54</td>\n",
       "    </tr>\n",
       "  </tbody>\n",
       "</table>\n",
       "</div>"
      ],
      "text/plain": [
       "   curated_dsh  model_predictions\n",
       "0          1.0               0.58\n",
       "1          0.0               0.54"
      ]
     },
     "execution_count": 15,
     "metadata": {},
     "output_type": "execute_result"
    }
   ],
   "source": [
    "model_all_predictions_df = (\n",
    "    candidate_dfs['dev']\n",
    "    .merge(dev_all_predictions_df.rename(index=str, columns={\"model_predictions_after\":\"model_predictions\"}))\n",
    "    [[\"curated_dsh\", \"model_predictions\"]]\n",
    "    .round(2)\n",
    ")\n",
    "model_all_predictions_df.head(2)"
   ]
  },
  {
   "cell_type": "code",
   "execution_count": 16,
   "metadata": {
    "ExecuteTime": {
     "end_time": "2019-07-29T18:21:38.473741Z",
     "start_time": "2019-07-29T18:21:38.045736Z"
    }
   },
   "outputs": [
    {
     "data": {
      "text/plain": [
       "<matplotlib.legend.Legend at 0x7fbfe04ed080>"
      ]
     },
     "execution_count": 16,
     "metadata": {},
     "output_type": "execute_result"
    },
    {
     "data": {
      "image/png": "[encoded data removed]",
      "text/plain": [
       "<matplotlib.figure.Figure at 0x7fbfe056bc50>"
      ]
     },
     "metadata": {},
     "output_type": "display_data"
    }
   ],
   "source": [
    "from sklearn.calibration import calibration_curve\n",
    "cnn_y, cnn_x = calibration_curve(model_predictions_df.curated_dsh, model_predictions_df.model_predictions, n_bins=10)\n",
    "all_cnn_y, all_cnn_x = calibration_curve(model_predictions_df.curated_dsh, model_all_predictions_df.model_predictions, n_bins=10)\n",
    "\n",
    "plt.plot(cnn_x, cnn_y, marker='o', label=\"Before Calibration\")\n",
    "plt.plot(all_cnn_x, all_cnn_y, marker='o', label=\"After Calibration\")\n",
    "plt.plot([0,1], [0,1], color='black', linestyle='--', label=\"Perfectly Calibrated\")\n",
    "\n",
    "plt.xlabel(\"Predicted\")\n",
    "plt.ylabel(\"Actual\")\n",
    "plt.legend()"
   ]
  }
 ],
 "metadata": {
  "kernelspec": {
   "display_name": "Python [conda env:snorkeling]",
   "language": "python",
   "name": "conda-env-snorkeling-py"
  },
  "language_info": {
   "codemirror_mode": {
    "name": "ipython",
    "version": 3
   },
   "file_extension": ".py",
   "mimetype": "text/x-python",
   "name": "python",
   "nbconvert_exporter": "python",
   "pygments_lexer": "ipython3",
   "version": "3.6.4"
  }
 },
 "nbformat": 4,
 "nbformat_minor": 2
}
