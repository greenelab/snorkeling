{
 "cells": [
  {
   "cell_type": "markdown",
   "metadata": {},
   "source": [
    "# Predicting Disease Associate Genes Relationship (Part 1)"
   ]
  },
  {
   "cell_type": "markdown",
   "metadata": {},
   "source": [
    "This notebook is designed to begin the process of predicting the disease associates gene (DaG) relationship. The first step this notebook takes is labeling our training sentences (split = 0) using our hand crafted label functions. Following the labeling process, the next step is to train a generative model to estimate the true training label ($\\hat{Y}$) given the output of our label functions. From there the last step is to train word embedding vectors using facebook's [FastText](https://fasttext.cc/). These word embedding vectors will be used to train the discriminator models in the suceeding notebook."
   ]
  },
  {
   "cell_type": "markdown",
   "metadata": {},
   "source": [
    "## Set up the environment"
   ]
  },
  {
   "cell_type": "code",
   "execution_count": 1,
   "metadata": {
    "ExecuteTime": {
     "end_time": "2019-01-25T16:38:56.885570Z",
     "start_time": "2019-01-25T16:38:56.337389Z"
    }
   },
   "outputs": [],
   "source": [
    "%load_ext autoreload\n",
    "%autoreload 2\n",
    "%matplotlib inline\n",
    "\n",
    "from collections import defaultdict\n",
    "import os\n",
    "import pickle\n",
    "import sys\n",
    "\n",
    "sys.path.append(os.path.abspath('../../../modules'))\n",
    "\n",
    "import matplotlib.pyplot as plt\n",
    "import pandas as pd\n",
    "from sklearn.metrics import roc_curve, auc, f1_score, precision_recall_curve\n",
    "from tqdm import tqdm_notebook"
   ]
  },
  {
   "cell_type": "code",
   "execution_count": 2,
   "metadata": {
    "ExecuteTime": {
     "end_time": "2019-01-25T16:38:57.080118Z",
     "start_time": "2019-01-25T16:38:56.887313Z"
    }
   },
   "outputs": [],
   "source": [
    "#Set up the environment\n",
    "username = \"danich1\"\n",
    "password = \"snorkel\"\n",
    "dbname = \"pubmeddb\"\n",
    "\n",
    "#Path subject to change for different os\n",
    "database_str = \"postgresql+psycopg2://{}:{}@/{}?host=/var/run/postgresql\".format(username, password, dbname)\n",
    "os.environ['SNORKELDB'] = database_str\n",
    "\n",
    "from snorkel import SnorkelSession\n",
    "session = SnorkelSession()"
   ]
  },
  {
   "cell_type": "code",
   "execution_count": 3,
   "metadata": {
    "ExecuteTime": {
     "end_time": "2019-01-25T16:40:17.751295Z",
     "start_time": "2019-01-25T16:38:57.081706Z"
    }
   },
   "outputs": [],
   "source": [
    "from snorkel.learning.pytorch.rnn.rnn_base import mark_sentence\n",
    "from snorkel.learning.pytorch.rnn.utils import candidate_to_tokens\n",
    "from snorkel.models import Candidate, candidate_subclass\n",
    "\n",
    "from metal.label_model import LabelModel\n",
    "from metal.utils import plusminus_to_categorical\n",
    "\n",
    "from gensim.models import FastText\n",
    "from gensim.models import KeyedVectors\n",
    "\n",
    "from utils.notebook_utils.label_matrix_helper import label_candidates, get_auc_significant_stats\n",
    "from utils.notebook_utils.dataframe_helper import load_candidate_dataframes\n",
    "from utils.notebook_utils.plot_helper import plot_curve, plot_label_matrix_heatmap\n",
    "\n",
    "sys.path.append(os.path.abspath('data/label_functions'))\n",
    "from disease_gene_lf_multitask import DG_LFS"
   ]
  },
  {
   "cell_type": "code",
   "execution_count": 4,
   "metadata": {
    "ExecuteTime": {
     "end_time": "2019-01-25T16:40:17.780787Z",
     "start_time": "2019-01-25T16:40:17.752963Z"
    }
   },
   "outputs": [],
   "source": [
    "DiseaseGene = candidate_subclass('DiseaseGene', ['Disease', 'Gene'])"
   ]
  },
  {
   "cell_type": "code",
   "execution_count": 5,
   "metadata": {
    "ExecuteTime": {
     "end_time": "2019-01-25T16:40:17.843507Z",
     "start_time": "2019-01-25T16:40:17.782347Z"
    }
   },
   "outputs": [],
   "source": [
    "quick_load = True"
   ]
  },
  {
   "cell_type": "markdown",
   "metadata": {},
   "source": [
    "## Load the Data and Label the  Sentences"
   ]
  },
  {
   "cell_type": "markdown",
   "metadata": {},
   "source": [
    "This block of code is designed to label the sentences using our label functions. All the sentences are located in our postgres database that is store locally on the lab machine. The labeling process is defined as follows: Given a candidate id use the sqlalchemy library to extract a candidate object. Take the object and pass it through a series of label functions that will output a 1, -1 or 0 depending on the rule set. Lastly take this output and form a sparse matrix that the generative model will use. Since these steps are pretty linear, we parallelized this process using python's multithreading library. Even then labeling a set of ~600000 sentences takes about 3 hours."
   ]
  },
  {
   "cell_type": "code",
   "execution_count": 6,
   "metadata": {
    "ExecuteTime": {
     "end_time": "2019-01-25T16:40:35.872915Z",
     "start_time": "2019-01-25T16:40:17.848196Z"
    }
   },
   "outputs": [
    {
     "data": {
      "text/html": [
       "<div>\n",
       "<style scoped>\n",
       "    .dataframe tbody tr th:only-of-type {\n",
       "        vertical-align: middle;\n",
       "    }\n",
       "\n",
       "    .dataframe tbody tr th {\n",
       "        vertical-align: top;\n",
       "    }\n",
       "\n",
       "    .dataframe thead th {\n",
       "        text-align: right;\n",
       "    }\n",
       "</style>\n",
       "<table border=\"1\" class=\"dataframe\">\n",
       "  <thead>\n",
       "    <tr style=\"text-align: right;\">\n",
       "      <th></th>\n",
       "      <th>entrez_gene_id</th>\n",
       "      <th>gene_symbol</th>\n",
       "      <th>doid_id</th>\n",
       "      <th>doid_name</th>\n",
       "      <th>split</th>\n",
       "      <th>compound_mention_count</th>\n",
       "      <th>disease_mention_count</th>\n",
       "      <th>gene_mention_count</th>\n",
       "      <th>sentence_id</th>\n",
       "      <th>text</th>\n",
       "      <th>sen_length</th>\n",
       "      <th>candidate_id</th>\n",
       "    </tr>\n",
       "  </thead>\n",
       "  <tbody>\n",
       "    <tr>\n",
       "      <th>0</th>\n",
       "      <td>1</td>\n",
       "      <td>A1BG</td>\n",
       "      <td>DOID:1324</td>\n",
       "      <td>lung cancer</td>\n",
       "      <td>0</td>\n",
       "      <td>0.0</td>\n",
       "      <td>1.0</td>\n",
       "      <td>2.0</td>\n",
       "      <td>78840952</td>\n",
       "      <td>We revealed that A1BG and LRG1 were overexpres...</td>\n",
       "      <td>30</td>\n",
       "      <td>26725291</td>\n",
       "    </tr>\n",
       "    <tr>\n",
       "      <th>1</th>\n",
       "      <td>1</td>\n",
       "      <td>A1BG</td>\n",
       "      <td>DOID:1324</td>\n",
       "      <td>lung cancer</td>\n",
       "      <td>0</td>\n",
       "      <td>0.0</td>\n",
       "      <td>1.0</td>\n",
       "      <td>1.0</td>\n",
       "      <td>86234572</td>\n",
       "      <td>METHODS: HEK293 cells expressing specific indi...</td>\n",
       "      <td>53</td>\n",
       "      <td>29874761</td>\n",
       "    </tr>\n",
       "  </tbody>\n",
       "</table>\n",
       "</div>"
      ],
      "text/plain": [
       "   entrez_gene_id gene_symbol    doid_id    doid_name  split  \\\n",
       "0               1        A1BG  DOID:1324  lung cancer      0   \n",
       "1               1        A1BG  DOID:1324  lung cancer      0   \n",
       "\n",
       "   compound_mention_count  disease_mention_count  gene_mention_count  \\\n",
       "0                     0.0                    1.0                 2.0   \n",
       "1                     0.0                    1.0                 1.0   \n",
       "\n",
       "   sentence_id                                               text  sen_length  \\\n",
       "0     78840952  We revealed that A1BG and LRG1 were overexpres...          30   \n",
       "1     86234572  METHODS: HEK293 cells expressing specific indi...          53   \n",
       "\n",
       "   candidate_id  \n",
       "0      26725291  \n",
       "1      29874761  "
      ]
     },
     "execution_count": 6,
     "metadata": {},
     "output_type": "execute_result"
    }
   ],
   "source": [
    "total_candidates_df = pd.read_table(\"../dataset_statistics/data/all_dg_candidates_map.tsv.xz\")\n",
    "total_candidates_df.head(2)"
   ]
  },
  {
   "cell_type": "code",
   "execution_count": 7,
   "metadata": {
    "ExecuteTime": {
     "end_time": "2019-01-25T16:40:35.897877Z",
     "start_time": "2019-01-25T16:40:35.874777Z"
    }
   },
   "outputs": [],
   "source": [
    "spreadsheet_names = {\n",
    "    'dev': 'data/sentences/sentence_labels_dev.xlsx',\n",
    "    'test': 'data/sentences/sentence_labels_test.xlsx'\n",
    "}"
   ]
  },
  {
   "cell_type": "code",
   "execution_count": 8,
   "metadata": {
    "ExecuteTime": {
     "end_time": "2019-01-25T16:40:37.567358Z",
     "start_time": "2019-01-25T16:40:35.899435Z"
    }
   },
   "outputs": [
    {
     "name": "stdout",
     "output_type": "stream",
     "text": [
      "Size of dev set: 1000\n",
      "Size of test set: 1000\n"
     ]
    }
   ],
   "source": [
    "candidate_dfs = {\n",
    "    key:load_candidate_dataframes(spreadsheet_names[key])\n",
    "    for key in spreadsheet_names\n",
    "}\n",
    "\n",
    "for key in candidate_dfs:\n",
    "    print(\"Size of {} set: {}\".format(key, candidate_dfs[key].shape[0]))"
   ]
  },
  {
   "cell_type": "code",
   "execution_count": 9,
   "metadata": {
    "ExecuteTime": {
     "end_time": "2019-01-25T16:40:37.595751Z",
     "start_time": "2019-01-25T16:40:37.569349Z"
    }
   },
   "outputs": [],
   "source": [
    "#Save data for cluster\n",
    "(\n",
    "    candidate_dfs['dev'][[\"candidate_id\", \"curated_dsh\"]]\n",
    "    .to_csv(\"single_task_data/dev_labels.tsv\", index=False, sep=\"\\t\")\n",
    ")"
   ]
  },
  {
   "cell_type": "code",
   "execution_count": 10,
   "metadata": {
    "ExecuteTime": {
     "end_time": "2019-01-25T16:40:37.621857Z",
     "start_time": "2019-01-25T16:40:37.597190Z"
    }
   },
   "outputs": [],
   "source": [
    "lfs = list(DG_LFS[\"DaG\"].values())\n",
    "lf_names = list(DG_LFS[\"DaG\"].keys())"
   ]
  },
  {
   "cell_type": "code",
   "execution_count": 11,
   "metadata": {
    "ExecuteTime": {
     "end_time": "2019-01-25T16:40:37.647166Z",
     "start_time": "2019-01-25T16:40:37.623268Z"
    }
   },
   "outputs": [],
   "source": [
    "if not quick_load:\n",
    "    label_matricies = {\n",
    "        'train':label_candidates(\n",
    "            session, \n",
    "            (\n",
    "                total_candidates_df\n",
    "                .query(\"split==0&disease_mention_count==1&gene_mention_count==1\")\n",
    "                .candidate_id\n",
    "                .values\n",
    "                .tolist()\n",
    "            ),\n",
    "            lfs, \n",
    "            lf_names,\n",
    "            num_threads=10,\n",
    "            batch_size=50000,\n",
    "            multitask=False\n",
    "        )\n",
    "    }"
   ]
  },
  {
   "cell_type": "code",
   "execution_count": null,
   "metadata": {},
   "outputs": [],
   "source": [
    "if not quick_load:\n",
    "    # Check to make sure the label functions match up with the candidate objects\n",
    "    ids=label_matricies['train'].candidate_id.head(5).tolist()\n",
    "    candidate_list = session.query(DiseaseGene).filter(DiseaseGene.id.in_(ids)).all()\n",
    "    for candidate in tqdm_notebook(candidate_list):\n",
    "        correct_output = list(map(lambda fn: fn(candidate), lfs))\n",
    "        test_output = label_matricies['train'].query(\"candidate_id==@candidate.id\").fillna(0).values.tolist()[0]\n",
    "        for pair in zip(correct_output, test_output[:-1]):\n",
    "            assert pair[0] == pair[1]"
   ]
  },
  {
   "cell_type": "code",
   "execution_count": 12,
   "metadata": {
    "ExecuteTime": {
     "end_time": "2019-01-25T16:40:37.672611Z",
     "start_time": "2019-01-25T16:40:37.648828Z"
    }
   },
   "outputs": [],
   "source": [
    "if not quick_load:\n",
    "    label_matricies.update({\n",
    "        key:label_candidates(\n",
    "            session, \n",
    "            candidate_dfs[key]['candidate_id'].values.tolist(),\n",
    "            lfs, \n",
    "            lf_names,\n",
    "            num_threads=10,\n",
    "            batch_size=50000,\n",
    "            multitask=False\n",
    "        )\n",
    "        for key in candidate_dfs\n",
    "    })"
   ]
  },
  {
   "cell_type": "code",
   "execution_count": 13,
   "metadata": {
    "ExecuteTime": {
     "end_time": "2019-01-25T16:40:38.489412Z",
     "start_time": "2019-01-25T16:40:37.674153Z"
    }
   },
   "outputs": [],
   "source": [
    "# Save the label matricies to a file for future loading/error analysis\n",
    "if not quick_load:\n",
    "    (\n",
    "        label_matricies['train']\n",
    "        .sort_values(\"candidate_id\")\n",
    "        .to_csv(\"single_task_data/train_sparse_matrix.tsv\", sep=\"\\t\", index=False)\n",
    "    )\n",
    "    (\n",
    "        label_matricies['dev']\n",
    "        .sort_values(\"candidate_id\")\n",
    "        .to_csv(\"single_task_data/dev_sparse_matrix.tsv\", sep=\"\\t\", index=False)\n",
    "    )\n",
    "    (\n",
    "        label_matricies['test']\n",
    "        .sort_values(\"candidate_id\")\n",
    "        .to_csv(\"single_task_data/test_sparse_matrix.tsv\", sep=\"\\t\", index=False)\n",
    "    )\n",
    "# Quick load the label matricies\n",
    "else:\n",
    "    label_destinations = {\n",
    "        'train':\"single_task_data/train_sparse_matrix.tsv\",\n",
    "        'dev':\"single_task_data/dev_sparse_matrix.tsv\",\n",
    "        'test':\"single_task_data/test_sparse_matrix.tsv\"\n",
    "    }\n",
    "    label_matricies = {\n",
    "        key:pd.read_table(label_destinations[key]).to_sparse()\n",
    "        for key in label_destinations\n",
    "    }"
   ]
  },
  {
   "cell_type": "code",
   "execution_count": 14,
   "metadata": {
    "ExecuteTime": {
     "end_time": "2019-01-25T16:40:40.099781Z",
     "start_time": "2019-01-25T16:40:38.490878Z"
    },
    "scrolled": true
   },
   "outputs": [
    {
     "name": "stdout",
     "output_type": "stream",
     "text": [
      "Could not find kwarg \"K\" in destination dict.\n"
     ]
    }
   ],
   "source": [
    "# Important Note Snorkel Metal uses a different coding scheme\n",
    "# than the label functions output. (2 for negative instead of -1).\n",
    "# This step corrects this problem by converting -1s to 2\n",
    "correct_L = plusminus_to_categorical(\n",
    "    label_matricies['train']\n",
    "    .sort_values(\"candidate_id\")\n",
    "    .drop(\"candidate_id\", axis=1)\n",
    "    .to_coo()\n",
    "    .toarray()\n",
    ")\n",
    "correct_L_dev = plusminus_to_categorical(\n",
    "    label_matricies['dev']\n",
    "    .sort_values(\"candidate_id\")\n",
    "    .drop(\"candidate_id\", axis=1)\n",
    "    .to_coo()\n",
    "    .toarray()\n",
    ")\n",
    "correct_L_test = plusminus_to_categorical(\n",
    "    label_matricies['test']\n",
    "    .sort_values(\"candidate_id\")\n",
    "    .drop(\"candidate_id\", axis=1)\n",
    "    .to_coo()\n",
    "    .toarray()\n",
    ")\n",
    "\n",
    "label_model = LabelModel(K=2)"
   ]
  },
  {
   "cell_type": "markdown",
   "metadata": {},
   "source": [
    "## Begin Training the Generative Model"
   ]
  },
  {
   "cell_type": "markdown",
   "metadata": {},
   "source": [
    "In this section, we are going to train a generative model. This model is designed to estimate the best class a training point belongs to given a set of label functions ($P(\\hat{Y} \\mid \\lambda_{1\\ldots n})$). This is accomplished by estimating a parameter called mu, which is the probability of a label function emitting a 1 or 2 given the true class. ($P(\\lambda_{j} = y | Y=y)$). Once mu is estimated, the final step is to use mu and calculate the above probability ($P(\\hat{Y} \\mid \\lambda_{1\\ldots n})$). We found the optimial model using a grid search. The hyperparameter we are tuning is the l2 norm and we set a grid starting from 0.01 all the way to 1. Luckily, the generative model is pretty fast to train so navigating this search space is pretty trivial."
   ]
  },
  {
   "cell_type": "code",
   "execution_count": 15,
   "metadata": {
    "ExecuteTime": {
     "end_time": "2019-01-25T16:40:40.124293Z",
     "start_time": "2019-01-25T16:40:40.101121Z"
    }
   },
   "outputs": [],
   "source": [
    "regularization_grid = pd.np.round(pd.np.linspace(0.01, 1, num=15), 2)"
   ]
  },
  {
   "cell_type": "code",
   "execution_count": 16,
   "metadata": {
    "ExecuteTime": {
     "end_time": "2019-01-25T16:40:58.928212Z",
     "start_time": "2019-01-25T16:40:40.125792Z"
    },
    "scrolled": true
   },
   "outputs": [
    {
     "data": {
      "application/vnd.jupyter.widget-view+json": {
       "model_id": "7852c10f40074bb3bb757f4d02e6111f",
       "version_major": 2,
       "version_minor": 0
      },
      "text/html": [
       "<p>Failed to display Jupyter Widget of type <code>HBox</code>.</p>\n",
       "<p>\n",
       "  If you're reading this message in the Jupyter Notebook or JupyterLab Notebook, it may mean\n",
       "  that the widgets JavaScript is still loading. If this message persists, it\n",
       "  likely means that the widgets JavaScript library is either not installed or\n",
       "  not enabled. See the <a href=\"https://ipywidgets.readthedocs.io/en/stable/user_install.html\">Jupyter\n",
       "  Widgets Documentation</a> for setup instructions.\n",
       "</p>\n",
       "<p>\n",
       "  If you're reading this message in another frontend (for example, a static\n",
       "  rendering on GitHub or <a href=\"https://nbviewer.jupyter.org/\">NBViewer</a>),\n",
       "  it may mean that your frontend doesn't currently support widgets.\n",
       "</p>\n"
      ],
      "text/plain": [
       "HBox(children=(IntProgress(value=0, max=15), HTML(value='')))"
      ]
     },
     "metadata": {},
     "output_type": "display_data"
    },
    {
     "name": "stdout",
     "output_type": "stream",
     "text": [
      "Computing O...\n",
      "Estimating \\mu...\n",
      "[E:0]\tTrain Loss: 3.792\n",
      "[E:200]\tTrain Loss: 0.209\n",
      "[E:400]\tTrain Loss: 0.209\n",
      "[E:600]\tTrain Loss: 0.209\n",
      "[E:800]\tTrain Loss: 0.209\n",
      "[E:999]\tTrain Loss: 0.209\n",
      "Finished Training\n",
      "Computing O...\n",
      "Estimating \\mu...\n",
      "[E:0]\tTrain Loss: 2.944\n",
      "[E:200]\tTrain Loss: 0.223\n",
      "[E:400]\tTrain Loss: 0.223\n",
      "[E:600]\tTrain Loss: 0.223\n",
      "[E:800]\tTrain Loss: 0.223\n",
      "[E:999]\tTrain Loss: 0.223\n",
      "Finished Training\n",
      "Computing O...\n",
      "Estimating \\mu...\n",
      "[E:0]\tTrain Loss: 5.086\n",
      "[E:200]\tTrain Loss: 0.255\n",
      "[E:400]\tTrain Loss: 0.255\n",
      "[E:600]\tTrain Loss: 0.255\n",
      "[E:800]\tTrain Loss: 0.255\n",
      "[E:999]\tTrain Loss: 0.255\n",
      "Finished Training\n",
      "Computing O...\n",
      "Estimating \\mu...\n",
      "[E:0]\tTrain Loss: 3.500\n",
      "[E:200]\tTrain Loss: 0.301\n",
      "[E:400]\tTrain Loss: 0.301\n",
      "[E:600]\tTrain Loss: 0.301\n",
      "[E:800]\tTrain Loss: 0.301\n",
      "[E:999]\tTrain Loss: 0.301\n",
      "Finished Training\n",
      "Computing O...\n",
      "Estimating \\mu...\n",
      "[E:0]\tTrain Loss: 5.288\n",
      "[E:200]\tTrain Loss: 0.358\n",
      "[E:400]\tTrain Loss: 0.358\n",
      "[E:600]\tTrain Loss: 0.358\n",
      "[E:800]\tTrain Loss: 0.358\n",
      "[E:999]\tTrain Loss: 0.358\n",
      "Finished Training\n",
      "Computing O...\n",
      "Estimating \\mu...\n",
      "[E:0]\tTrain Loss: 3.149\n",
      "[E:200]\tTrain Loss: 0.419\n",
      "[E:400]\tTrain Loss: 0.419\n",
      "[E:600]\tTrain Loss: 0.419\n",
      "[E:800]\tTrain Loss: 0.419\n",
      "[E:999]\tTrain Loss: 0.419\n",
      "Finished Training\n",
      "Computing O...\n",
      "Estimating \\mu...\n",
      "[E:0]\tTrain Loss: 4.369\n",
      "[E:200]\tTrain Loss: 0.479\n",
      "[E:400]\tTrain Loss: 0.479\n",
      "[E:600]\tTrain Loss: 0.479\n",
      "[E:800]\tTrain Loss: 0.479\n",
      "[E:999]\tTrain Loss: 0.479\n",
      "Finished Training\n",
      "Computing O...\n",
      "Estimating \\mu...\n",
      "[E:0]\tTrain Loss: 5.337\n",
      "[E:200]\tTrain Loss: 0.536\n",
      "[E:400]\tTrain Loss: 0.536\n",
      "[E:600]\tTrain Loss: 0.536\n",
      "[E:800]\tTrain Loss: 0.536\n",
      "[E:999]\tTrain Loss: 0.536\n",
      "Finished Training\n",
      "Computing O...\n",
      "Estimating \\mu...\n",
      "[E:0]\tTrain Loss: 7.165\n",
      "[E:200]\tTrain Loss: 0.599\n",
      "[E:400]\tTrain Loss: 0.599\n",
      "[E:600]\tTrain Loss: 0.599\n",
      "[E:800]\tTrain Loss: 0.599\n",
      "[E:999]\tTrain Loss: 0.599\n",
      "Finished Training\n",
      "Computing O...\n",
      "Estimating \\mu...\n",
      "[E:0]\tTrain Loss: 5.466\n",
      "[E:200]\tTrain Loss: 0.654\n",
      "[E:400]\tTrain Loss: 0.654\n",
      "[E:600]\tTrain Loss: 0.654\n",
      "[E:800]\tTrain Loss: 0.654\n",
      "[E:999]\tTrain Loss: 0.654\n",
      "Finished Training\n",
      "Computing O...\n",
      "Estimating \\mu...\n",
      "[E:0]\tTrain Loss: 6.183\n",
      "[E:200]\tTrain Loss: 0.711\n",
      "[E:400]\tTrain Loss: 0.711\n",
      "[E:600]\tTrain Loss: 0.711\n",
      "[E:800]\tTrain Loss: 0.711\n",
      "[E:999]\tTrain Loss: 0.711\n",
      "Finished Training\n",
      "Computing O...\n",
      "Estimating \\mu...\n",
      "[E:0]\tTrain Loss: 4.890\n",
      "[E:200]\tTrain Loss: 0.769\n",
      "[E:400]\tTrain Loss: 0.769\n",
      "[E:600]\tTrain Loss: 0.769\n",
      "[E:800]\tTrain Loss: 0.769\n",
      "[E:999]\tTrain Loss: 0.769\n",
      "Finished Training\n",
      "Computing O...\n",
      "Estimating \\mu...\n",
      "[E:0]\tTrain Loss: 2.985\n",
      "[E:200]\tTrain Loss: 0.828\n",
      "[E:400]\tTrain Loss: 0.828\n",
      "[E:600]\tTrain Loss: 0.828\n",
      "[E:800]\tTrain Loss: 0.828\n",
      "[E:999]\tTrain Loss: 0.828\n",
      "Finished Training\n",
      "Computing O...\n",
      "Estimating \\mu...\n",
      "[E:0]\tTrain Loss: 2.804\n",
      "[E:200]\tTrain Loss: 0.886\n",
      "[E:400]\tTrain Loss: 0.886\n",
      "[E:600]\tTrain Loss: 0.886\n",
      "[E:800]\tTrain Loss: 0.886\n",
      "[E:999]\tTrain Loss: 0.886\n",
      "Finished Training\n",
      "Computing O...\n",
      "Estimating \\mu...\n",
      "[E:0]\tTrain Loss: 8.605\n",
      "[E:200]\tTrain Loss: 0.944\n",
      "[E:400]\tTrain Loss: 0.944\n",
      "[E:600]\tTrain Loss: 0.944\n",
      "[E:800]\tTrain Loss: 0.944\n",
      "[E:999]\tTrain Loss: 0.944\n",
      "Finished Training\n",
      "\n"
     ]
    }
   ],
   "source": [
    "grid_results = {}\n",
    "for param in tqdm_notebook(regularization_grid):\n",
    "    label_model.train_model(correct_L, n_epochs=1000, print_every=200, seed=100, lr=0.01, l2=param)\n",
    "    grid_results[str(param)] = label_model.predict_proba(correct_L_dev)"
   ]
  },
  {
   "cell_type": "code",
   "execution_count": 17,
   "metadata": {
    "ExecuteTime": {
     "end_time": "2019-01-25T16:40:58.978275Z",
     "start_time": "2019-01-25T16:40:58.929909Z"
    }
   },
   "outputs": [],
   "source": [
    "auc_results = defaultdict(list)\n",
    "f1_results = defaultdict(list)\n",
    "\n",
    "for key in grid_results:\n",
    "    precision, recall, _ = precision_recall_curve(candidate_dfs['dev']['curated_dsh'].values, grid_results[key][:,0])\n",
    "    auc_results[key].append(auc(recall, precision))\n",
    "    f1_results[key].append(f1_score(candidate_dfs['dev']['curated_dsh'].fillna(0), list(map(lambda x: 1 if x > 0.5 else 0, grid_results[key][:,0]))))\n",
    "auc_df = pd.DataFrame.from_dict(auc_results)\n",
    "f1_df = pd.DataFrame.from_dict(f1_results)"
   ]
  },
  {
   "cell_type": "code",
   "execution_count": 18,
   "metadata": {
    "ExecuteTime": {
     "end_time": "2019-01-25T16:40:59.005516Z",
     "start_time": "2019-01-25T16:40:58.979736Z"
    },
    "scrolled": true
   },
   "outputs": [
    {
     "data": {
      "text/html": [
       "<div>\n",
       "<style scoped>\n",
       "    .dataframe tbody tr th:only-of-type {\n",
       "        vertical-align: middle;\n",
       "    }\n",
       "\n",
       "    .dataframe tbody tr th {\n",
       "        vertical-align: top;\n",
       "    }\n",
       "\n",
       "    .dataframe thead th {\n",
       "        text-align: right;\n",
       "    }\n",
       "</style>\n",
       "<table border=\"1\" class=\"dataframe\">\n",
       "  <thead>\n",
       "    <tr style=\"text-align: right;\">\n",
       "      <th></th>\n",
       "      <th>0</th>\n",
       "    </tr>\n",
       "  </thead>\n",
       "  <tbody>\n",
       "    <tr>\n",
       "      <th>0.22</th>\n",
       "      <td>0.610543</td>\n",
       "    </tr>\n",
       "    <tr>\n",
       "      <th>0.08</th>\n",
       "      <td>0.605779</td>\n",
       "    </tr>\n",
       "    <tr>\n",
       "      <th>0.01</th>\n",
       "      <td>0.605261</td>\n",
       "    </tr>\n",
       "    <tr>\n",
       "      <th>0.15</th>\n",
       "      <td>0.602868</td>\n",
       "    </tr>\n",
       "    <tr>\n",
       "      <th>0.29</th>\n",
       "      <td>0.599077</td>\n",
       "    </tr>\n",
       "  </tbody>\n",
       "</table>\n",
       "</div>"
      ],
      "text/plain": [
       "             0\n",
       "0.22  0.610543\n",
       "0.08  0.605779\n",
       "0.01  0.605261\n",
       "0.15  0.602868\n",
       "0.29  0.599077"
      ]
     },
     "execution_count": 18,
     "metadata": {},
     "output_type": "execute_result"
    }
   ],
   "source": [
    "auc_df.transpose().sort_values(0, ascending=False).head(5)"
   ]
  },
  {
   "cell_type": "code",
   "execution_count": 19,
   "metadata": {
    "ExecuteTime": {
     "end_time": "2019-01-25T16:40:59.041229Z",
     "start_time": "2019-01-25T16:40:59.007172Z"
    },
    "scrolled": false
   },
   "outputs": [
    {
     "data": {
      "text/html": [
       "<div>\n",
       "<style scoped>\n",
       "    .dataframe tbody tr th:only-of-type {\n",
       "        vertical-align: middle;\n",
       "    }\n",
       "\n",
       "    .dataframe tbody tr th {\n",
       "        vertical-align: top;\n",
       "    }\n",
       "\n",
       "    .dataframe thead th {\n",
       "        text-align: right;\n",
       "    }\n",
       "</style>\n",
       "<table border=\"1\" class=\"dataframe\">\n",
       "  <thead>\n",
       "    <tr style=\"text-align: right;\">\n",
       "      <th></th>\n",
       "      <th>0</th>\n",
       "    </tr>\n",
       "  </thead>\n",
       "  <tbody>\n",
       "    <tr>\n",
       "      <th>0.43</th>\n",
       "      <td>0.586724</td>\n",
       "    </tr>\n",
       "    <tr>\n",
       "      <th>0.5</th>\n",
       "      <td>0.583170</td>\n",
       "    </tr>\n",
       "    <tr>\n",
       "      <th>0.36</th>\n",
       "      <td>0.582547</td>\n",
       "    </tr>\n",
       "    <tr>\n",
       "      <th>0.58</th>\n",
       "      <td>0.580952</td>\n",
       "    </tr>\n",
       "    <tr>\n",
       "      <th>0.86</th>\n",
       "      <td>0.580340</td>\n",
       "    </tr>\n",
       "  </tbody>\n",
       "</table>\n",
       "</div>"
      ],
      "text/plain": [
       "             0\n",
       "0.43  0.586724\n",
       "0.5   0.583170\n",
       "0.36  0.582547\n",
       "0.58  0.580952\n",
       "0.86  0.580340"
      ]
     },
     "execution_count": 19,
     "metadata": {},
     "output_type": "execute_result"
    }
   ],
   "source": [
    "f1_df.transpose().sort_values(0, ascending=False).head(5)"
   ]
  },
  {
   "cell_type": "code",
   "execution_count": 20,
   "metadata": {
    "ExecuteTime": {
     "end_time": "2019-01-25T16:40:59.488584Z",
     "start_time": "2019-01-25T16:40:59.042548Z"
    }
   },
   "outputs": [
    {
     "data": {
      "text/plain": [
       "<matplotlib.legend.Legend at 0x7f50195fc240>"
      ]
     },
     "execution_count": 20,
     "metadata": {},
     "output_type": "execute_result"
    },
    {
     "data": {
      "image/png": "[encoded data removed]",
      "text/plain": [
       "<matplotlib.figure.Figure at 0x7f5019e5b390>"
      ]
     },
     "metadata": {},
     "output_type": "display_data"
    }
   ],
   "source": [
    "plt.figure(figsize=(20,6))\n",
    "plt.plot(list(auc_df.transpose().index), auc_df.transpose()[0],\"bo-\", label=\"DaG\", )\n",
    "plt.legend()"
   ]
  },
  {
   "cell_type": "code",
   "execution_count": 21,
   "metadata": {
    "ExecuteTime": {
     "end_time": "2019-01-25T16:40:59.774846Z",
     "start_time": "2019-01-25T16:40:59.490473Z"
    }
   },
   "outputs": [
    {
     "data": {
      "text/plain": [
       "<matplotlib.legend.Legend at 0x7f5019eccd30>"
      ]
     },
     "execution_count": 21,
     "metadata": {},
     "output_type": "execute_result"
    },
    {
     "data": {
      "image/png": "[encoded data removed]",
      "text/plain": [
       "<matplotlib.figure.Figure at 0x7f5019eea160>"
      ]
     },
     "metadata": {},
     "output_type": "display_data"
    }
   ],
   "source": [
    "plt.figure(figsize=(20,6))\n",
    "plt.plot(list(f1_df.transpose().index), f1_df.transpose()[0],\"bo-\", label=\"DaG\", )\n",
    "plt.legend()"
   ]
  },
  {
   "cell_type": "markdown",
   "metadata": {},
   "source": [
    "These two graphs are interesting, because it defeats the intuition that a higher area under the precision-recall curve imples a higher f1 score. If one looks at the first graph the optmial area under the curve is at 0.22, but in F1 space the optimal point is 0.43. To get a better idea behind this, we will plot the actual precision recall curves below."
   ]
  },
  {
   "cell_type": "code",
   "execution_count": 22,
   "metadata": {
    "ExecuteTime": {
     "end_time": "2019-01-25T16:40:59.817665Z",
     "start_time": "2019-01-25T16:40:59.776469Z"
    }
   },
   "outputs": [
    {
     "data": {
      "text/html": [
       "<div>\n",
       "<style scoped>\n",
       "    .dataframe tbody tr th:only-of-type {\n",
       "        vertical-align: middle;\n",
       "    }\n",
       "\n",
       "    .dataframe tbody tr th {\n",
       "        vertical-align: top;\n",
       "    }\n",
       "\n",
       "    .dataframe thead th {\n",
       "        text-align: right;\n",
       "    }\n",
       "</style>\n",
       "<table border=\"1\" class=\"dataframe\">\n",
       "  <thead>\n",
       "    <tr style=\"text-align: right;\">\n",
       "      <th></th>\n",
       "      <th>0.01</th>\n",
       "      <th>0.08</th>\n",
       "      <th>0.15</th>\n",
       "      <th>0.22</th>\n",
       "      <th>0.29</th>\n",
       "      <th>0.36</th>\n",
       "      <th>0.43</th>\n",
       "      <th>0.5</th>\n",
       "      <th>0.58</th>\n",
       "      <th>0.65</th>\n",
       "      <th>0.72</th>\n",
       "      <th>0.79</th>\n",
       "      <th>0.86</th>\n",
       "      <th>0.93</th>\n",
       "      <th>1.0</th>\n",
       "    </tr>\n",
       "  </thead>\n",
       "  <tbody>\n",
       "    <tr>\n",
       "      <th>0</th>\n",
       "      <td>0.999318</td>\n",
       "      <td>0.999361</td>\n",
       "      <td>0.999450</td>\n",
       "      <td>0.999553</td>\n",
       "      <td>0.999650</td>\n",
       "      <td>0.999733</td>\n",
       "      <td>0.999794</td>\n",
       "      <td>0.999837</td>\n",
       "      <td>0.999736</td>\n",
       "      <td>0.999591</td>\n",
       "      <td>0.999524</td>\n",
       "      <td>0.999399</td>\n",
       "      <td>0.999314</td>\n",
       "      <td>0.999273</td>\n",
       "      <td>0.999266</td>\n",
       "    </tr>\n",
       "    <tr>\n",
       "      <th>1</th>\n",
       "      <td>0.064438</td>\n",
       "      <td>0.075640</td>\n",
       "      <td>0.110014</td>\n",
       "      <td>0.187059</td>\n",
       "      <td>0.344342</td>\n",
       "      <td>0.595992</td>\n",
       "      <td>0.831405</td>\n",
       "      <td>0.939963</td>\n",
       "      <td>0.970928</td>\n",
       "      <td>0.978909</td>\n",
       "      <td>0.982754</td>\n",
       "      <td>0.985148</td>\n",
       "      <td>0.986877</td>\n",
       "      <td>0.988263</td>\n",
       "      <td>0.989444</td>\n",
       "    </tr>\n",
       "  </tbody>\n",
       "</table>\n",
       "</div>"
      ],
      "text/plain": [
       "       0.01      0.08      0.15      0.22      0.29      0.36      0.43  \\\n",
       "0  0.999318  0.999361  0.999450  0.999553  0.999650  0.999733  0.999794   \n",
       "1  0.064438  0.075640  0.110014  0.187059  0.344342  0.595992  0.831405   \n",
       "\n",
       "        0.5      0.58      0.65      0.72      0.79      0.86      0.93  \\\n",
       "0  0.999837  0.999736  0.999591  0.999524  0.999399  0.999314  0.999273   \n",
       "1  0.939963  0.970928  0.978909  0.982754  0.985148  0.986877  0.988263   \n",
       "\n",
       "        1.0  \n",
       "0  0.999266  \n",
       "1  0.989444  "
      ]
     },
     "execution_count": 22,
     "metadata": {},
     "output_type": "execute_result"
    }
   ],
   "source": [
    "dev_predictions_df = pd.DataFrame.from_dict({key: grid_results[key][:,0] for key in grid_results})\n",
    "dev_predictions_df.head(2)"
   ]
  },
  {
   "cell_type": "code",
   "execution_count": 23,
   "metadata": {
    "ExecuteTime": {
     "end_time": "2019-01-25T16:41:00.124464Z",
     "start_time": "2019-01-25T16:40:59.819128Z"
    },
    "scrolled": false
   },
   "outputs": [
    {
     "data": {
      "image/png": "[encoded data removed]",
      "text/plain": [
       "<matplotlib.figure.Figure at 0x7f5019f88198>"
      ]
     },
     "metadata": {},
     "output_type": "display_data"
    }
   ],
   "source": [
    "aucs=plot_curve(\n",
    "    dev_predictions_df[[\"0.15\", \"0.22\",\"0.29\", \"0.36\", \"0.43\"]],\n",
    "    candidate_dfs['dev'].curated_dsh, \n",
    "    plot_title=\"Tune Set PRC\", \n",
    "    metric=\"PR\", model_type=\"curve\"\n",
    ")"
   ]
  },
  {
   "cell_type": "code",
   "execution_count": 24,
   "metadata": {
    "ExecuteTime": {
     "end_time": "2019-01-25T16:41:00.491139Z",
     "start_time": "2019-01-25T16:41:00.126059Z"
    }
   },
   "outputs": [
    {
     "data": {
      "image/png": "[encoded data removed]",
      "text/plain": [
       "<matplotlib.figure.Figure at 0x7f50196bb438>"
      ]
     },
     "metadata": {},
     "output_type": "display_data"
    }
   ],
   "source": [
    "aucs=plot_curve(\n",
    "    dev_predictions_df[[\"0.15\", \"0.22\",\"0.29\", \"0.36\", \"0.43\"]],\n",
    "    candidate_dfs['dev'].curated_dsh, \n",
    "    plot_title=\"Tune Set ROC\", \n",
    "    metric=\"ROC\", \n",
    "    model_type=\"curve\"\n",
    ")"
   ]
  },
  {
   "cell_type": "code",
   "execution_count": 25,
   "metadata": {
    "ExecuteTime": {
     "end_time": "2019-01-25T16:41:00.533338Z",
     "start_time": "2019-01-25T16:41:00.495279Z"
    }
   },
   "outputs": [
    {
     "name": "stdout",
     "output_type": "stream",
     "text": [
      "mu: 120198.000000, sigma: 4478.061299\n"
     ]
    },
    {
     "data": {
      "text/html": [
       "<div>\n",
       "<style scoped>\n",
       "    .dataframe tbody tr th:only-of-type {\n",
       "        vertical-align: middle;\n",
       "    }\n",
       "\n",
       "    .dataframe tbody tr th {\n",
       "        vertical-align: top;\n",
       "    }\n",
       "\n",
       "    .dataframe thead th {\n",
       "        text-align: right;\n",
       "    }\n",
       "</style>\n",
       "<table border=\"1\" class=\"dataframe\">\n",
       "  <thead>\n",
       "    <tr style=\"text-align: right;\">\n",
       "      <th></th>\n",
       "      <th>auroc</th>\n",
       "      <th>u</th>\n",
       "      <th>z_u</th>\n",
       "      <th>p_value</th>\n",
       "    </tr>\n",
       "  </thead>\n",
       "  <tbody>\n",
       "    <tr>\n",
       "      <th>0.15</th>\n",
       "      <td>0.708417</td>\n",
       "      <td>170300.5</td>\n",
       "      <td>11.188435</td>\n",
       "      <td>2.322790e-29</td>\n",
       "    </tr>\n",
       "    <tr>\n",
       "      <th>0.22</th>\n",
       "      <td>0.715330</td>\n",
       "      <td>171962.5</td>\n",
       "      <td>11.559578</td>\n",
       "      <td>3.301615e-31</td>\n",
       "    </tr>\n",
       "    <tr>\n",
       "      <th>0.29</th>\n",
       "      <td>0.707017</td>\n",
       "      <td>169964.0</td>\n",
       "      <td>11.113291</td>\n",
       "      <td>5.405007e-29</td>\n",
       "    </tr>\n",
       "    <tr>\n",
       "      <th>0.36</th>\n",
       "      <td>0.693782</td>\n",
       "      <td>166782.5</td>\n",
       "      <td>10.402828</td>\n",
       "      <td>1.203415e-25</td>\n",
       "    </tr>\n",
       "    <tr>\n",
       "      <th>0.43</th>\n",
       "      <td>0.677561</td>\n",
       "      <td>162883.0</td>\n",
       "      <td>9.532027</td>\n",
       "      <td>7.712103e-22</td>\n",
       "    </tr>\n",
       "  </tbody>\n",
       "</table>\n",
       "</div>"
      ],
      "text/plain": [
       "         auroc         u        z_u       p_value\n",
       "0.15  0.708417  170300.5  11.188435  2.322790e-29\n",
       "0.22  0.715330  171962.5  11.559578  3.301615e-31\n",
       "0.29  0.707017  169964.0  11.113291  5.405007e-29\n",
       "0.36  0.693782  166782.5  10.402828  1.203415e-25\n",
       "0.43  0.677561  162883.0   9.532027  7.712103e-22"
      ]
     },
     "execution_count": 25,
     "metadata": {},
     "output_type": "execute_result"
    }
   ],
   "source": [
    "#Get Statistical Significance against ROCs\n",
    "get_auc_significant_stats(\n",
    "    candidate_dfs['dev'],\n",
    "    aucs\n",
    ")"
   ]
  },
  {
   "cell_type": "markdown",
   "metadata": {},
   "source": [
    "These curves were ploted zooming in on 0.22 and nearby points. These plots say that the best value for the l2 norm is 0.22. In the precision recall plot, the beginning shows the 0.22 model dominating the other models; however, when the thresholds starts to relax performance starts to become on par with the other models. This trend is different in the ROC curve where the 0.22 model maintains good performance, while the other models start to diverge when the threshold starts to decrease. By adding p-values towards the rocs, it shows that 0.22 is the most significant in comparison. Based on the evidence above I would argue that 0.22 is the best hyperparameter for this model."
   ]
  },
  {
   "cell_type": "code",
   "execution_count": 31,
   "metadata": {
    "ExecuteTime": {
     "end_time": "2019-01-25T02:08:20.794853Z",
     "start_time": "2019-01-25T02:08:20.759059Z"
    }
   },
   "outputs": [],
   "source": [
    "(\n",
    "    dev_predictions_df[['0.22']]\n",
    "    .rename(\n",
    "        index=str, \n",
    "        columns={\n",
    "            \"0.22\":\"gen_model\"\n",
    "        }\n",
    "    )\n",
    "    .assign(candidate_id=label_matricies['dev'].candidate_id.sort_values().values)\n",
    "    .to_csv(\"single_task_data/gen_model_dev_set_pred.tsv\", sep='\\t', index=False)\n",
    ")"
   ]
  },
  {
   "cell_type": "code",
   "execution_count": 32,
   "metadata": {
    "ExecuteTime": {
     "end_time": "2019-01-25T02:08:26.089962Z",
     "start_time": "2019-01-25T02:08:25.097391Z"
    }
   },
   "outputs": [
    {
     "name": "stdout",
     "output_type": "stream",
     "text": [
      "Computing O...\n",
      "Estimating \\mu...\n",
      "[E:0]\tTrain Loss: 2.784\n",
      "[E:200]\tTrain Loss: 0.301\n",
      "[E:400]\tTrain Loss: 0.301\n",
      "[E:600]\tTrain Loss: 0.301\n",
      "[E:800]\tTrain Loss: 0.301\n",
      "[E:999]\tTrain Loss: 0.301\n",
      "Finished Training\n"
     ]
    }
   ],
   "source": [
    "label_model.train_model(correct_L, n_epochs=1000, print_every=200, seed=100, lr=0.01, l2=0.22)\n",
    "predictions = label_model.predict_proba(correct_L_test)"
   ]
  },
  {
   "cell_type": "code",
   "execution_count": 33,
   "metadata": {
    "ExecuteTime": {
     "end_time": "2019-01-25T02:08:29.989464Z",
     "start_time": "2019-01-25T02:08:29.959824Z"
    }
   },
   "outputs": [
    {
     "data": {
      "text/html": [
       "<div>\n",
       "<style scoped>\n",
       "    .dataframe tbody tr th:only-of-type {\n",
       "        vertical-align: middle;\n",
       "    }\n",
       "\n",
       "    .dataframe tbody tr th {\n",
       "        vertical-align: top;\n",
       "    }\n",
       "\n",
       "    .dataframe thead th {\n",
       "        text-align: right;\n",
       "    }\n",
       "</style>\n",
       "<table border=\"1\" class=\"dataframe\">\n",
       "  <thead>\n",
       "    <tr style=\"text-align: right;\">\n",
       "      <th></th>\n",
       "      <th>Best Model (l2:0.22)</th>\n",
       "    </tr>\n",
       "  </thead>\n",
       "  <tbody>\n",
       "    <tr>\n",
       "      <th>0</th>\n",
       "      <td>0.039794</td>\n",
       "    </tr>\n",
       "    <tr>\n",
       "      <th>1</th>\n",
       "      <td>0.145750</td>\n",
       "    </tr>\n",
       "  </tbody>\n",
       "</table>\n",
       "</div>"
      ],
      "text/plain": [
       "   Best Model (l2:0.22)\n",
       "0              0.039794\n",
       "1              0.145750"
      ]
     },
     "execution_count": 33,
     "metadata": {},
     "output_type": "execute_result"
    }
   ],
   "source": [
    "test_predictions_df = pd.DataFrame(predictions[:,0], columns=[\"Best Model (l2:0.22)\"])\n",
    "test_predictions_df.head(2)"
   ]
  },
  {
   "cell_type": "code",
   "execution_count": 34,
   "metadata": {
    "ExecuteTime": {
     "end_time": "2019-01-25T02:08:34.620085Z",
     "start_time": "2019-01-25T02:08:34.587407Z"
    }
   },
   "outputs": [],
   "source": [
    "(\n",
    "    test_predictions_df\n",
    "    .rename(\n",
    "        index=str, \n",
    "        columns={\n",
    "            \"Best Model (l2:0.22)\":\"gen_model\"\n",
    "        }\n",
    "    )\n",
    "    .assign(candidate_id=label_matricies['test'].candidate_id.sort_values().values)\n",
    "    .to_csv(\"single_task_data/gen_model_test_set_pred.tsv\", sep='\\t', index=False)\n",
    ")"
   ]
  },
  {
   "cell_type": "code",
   "execution_count": 35,
   "metadata": {
    "ExecuteTime": {
     "end_time": "2019-01-25T02:08:39.060186Z",
     "start_time": "2019-01-25T02:08:38.816638Z"
    }
   },
   "outputs": [
    {
     "data": {
      "image/png": "[encoded data removed]",
      "text/plain": [
       "<matplotlib.figure.Figure at 0x7fabe37c1da0>"
      ]
     },
     "metadata": {},
     "output_type": "display_data"
    }
   ],
   "source": [
    "aucs=plot_curve(test_predictions_df,\n",
    "           candidate_dfs['test'].curated_dsh, plot_title=\"Test PRC\", metric=\"PR\", model_type=\"curve\")"
   ]
  },
  {
   "cell_type": "code",
   "execution_count": 36,
   "metadata": {
    "ExecuteTime": {
     "end_time": "2019-01-25T02:08:42.810950Z",
     "start_time": "2019-01-25T02:08:42.589506Z"
    },
    "scrolled": false
   },
   "outputs": [
    {
     "data": {
      "image/png": "[encoded data removed]",
      "text/plain": [
       "<matplotlib.figure.Figure at 0x7faba5a7ab38>"
      ]
     },
     "metadata": {},
     "output_type": "display_data"
    }
   ],
   "source": [
    "aucs=plot_curve(pd.DataFrame(predictions[:,0], columns=[\"Best Model (l2:0.93)\"]),\n",
    "           candidate_dfs['test'].curated_dsh, plot_title=\"Test ROC\", metric=\"ROC\", model_type=\"curve\")"
   ]
  },
  {
   "cell_type": "code",
   "execution_count": 37,
   "metadata": {
    "ExecuteTime": {
     "end_time": "2019-01-25T02:09:08.467462Z",
     "start_time": "2019-01-25T02:09:05.155098Z"
    }
   },
   "outputs": [
    {
     "data": {
      "text/html": [
       "<div>\n",
       "<style scoped>\n",
       "    .dataframe tbody tr th:only-of-type {\n",
       "        vertical-align: middle;\n",
       "    }\n",
       "\n",
       "    .dataframe tbody tr th {\n",
       "        vertical-align: top;\n",
       "    }\n",
       "\n",
       "    .dataframe thead th {\n",
       "        text-align: right;\n",
       "    }\n",
       "</style>\n",
       "<table border=\"1\" class=\"dataframe\">\n",
       "  <thead>\n",
       "    <tr style=\"text-align: right;\">\n",
       "      <th></th>\n",
       "      <th>pos_class_marginal</th>\n",
       "      <th>neg_class_marginal</th>\n",
       "      <th>candidate_id</th>\n",
       "    </tr>\n",
       "  </thead>\n",
       "  <tbody>\n",
       "    <tr>\n",
       "      <th>0</th>\n",
       "      <td>0.181399</td>\n",
       "      <td>0.818601</td>\n",
       "      <td>21422</td>\n",
       "    </tr>\n",
       "    <tr>\n",
       "      <th>1</th>\n",
       "      <td>0.094911</td>\n",
       "      <td>0.905089</td>\n",
       "      <td>21427</td>\n",
       "    </tr>\n",
       "  </tbody>\n",
       "</table>\n",
       "</div>"
      ],
      "text/plain": [
       "   pos_class_marginal  neg_class_marginal  candidate_id\n",
       "0            0.181399            0.818601         21422\n",
       "1            0.094911            0.905089         21427"
      ]
     },
     "execution_count": 37,
     "metadata": {},
     "output_type": "execute_result"
    }
   ],
   "source": [
    "training_marginals_df = pd.DataFrame(\n",
    "    label_model.predict_proba(correct_L), \n",
    "    columns=[\"pos_class_marginal\", \"neg_class_marginal\"]\n",
    ")\n",
    "training_marginals_df['candidate_id'] = (\n",
    "    total_candidates_df\n",
    "    .query(\"split==0&disease_mention_count==1&gene_mention_count==1\")\n",
    "    .candidate_id\n",
    "    .sort_values()\n",
    "    .values\n",
    ")\n",
    "training_marginals_df.to_csv(\"single_task_data/training_marginals.tsv\", sep=\"\\t\", index=False)\n",
    "training_marginals_df.head(2)"
   ]
  },
  {
   "cell_type": "markdown",
   "metadata": {},
   "source": [
    "# Word Vectors"
   ]
  },
  {
   "cell_type": "markdown",
   "metadata": {},
   "source": [
    "This notebook block contains word vectors to be used for the deep learning models. Using facebook's fasttext model, we trained a skipgram model using the sentences in the training set. Each word vector contains 300 dimensions. A validation check for these word embeddings is produced below with the top ten most similar words for diabetes."
   ]
  },
  {
   "cell_type": "code",
   "execution_count": 32,
   "metadata": {
    "ExecuteTime": {
     "end_time": "2019-01-25T17:13:11.177592Z",
     "start_time": "2019-01-25T17:12:59.760913Z"
    }
   },
   "outputs": [],
   "source": [
    "if os.path.isfile(\"single_task_data/training_word_vectors.bin\"):\n",
    "    model = KeyedVectors.load_word2vec_format(\"single_task_data/training_word_vectors.bin\")\n",
    "#Train a fasttext model\n",
    "else:\n",
    "    model = FastText(words_to_embed, window=2, negative=10, iter=50, sg=1, workers=4, alpha=0.005, size=300, seed=100)\n",
    "    (\n",
    "    model\n",
    "    .wv\n",
    "    .save_word2vec_format(\n",
    "        \"single_task_data/training_word_vectors.bin\", \n",
    "        fvocab=\"single_task_data/training_word_vocab.txt\", \n",
    "        binary=False\n",
    "        )\n",
    "    )"
   ]
  },
  {
   "cell_type": "code",
   "execution_count": 33,
   "metadata": {
    "ExecuteTime": {
     "end_time": "2019-01-25T17:13:11.288286Z",
     "start_time": "2019-01-25T17:13:11.179091Z"
    },
    "scrolled": true
   },
   "outputs": [
    {
     "name": "stderr",
     "output_type": "stream",
     "text": [
      "/home/danich1/anaconda2/envs/snorkeling/lib/python3.6/site-packages/gensim/matutils.py:737: FutureWarning: Conversion of the second argument of issubdtype from `int` to `np.signedinteger` is deprecated. In future, it will be treated as `np.int64 == np.dtype(int).type`.\n",
      "  if np.issubdtype(vec.dtype, np.int):\n"
     ]
    },
    {
     "data": {
      "text/plain": [
       "[('pre-diabetes', 0.8766809105873108),\n",
       " ('prediabetes', 0.8696415424346924),\n",
       " ('mellitus', 0.7737096548080444),\n",
       " ('diabetics', 0.7734858989715576),\n",
       " ('diabetes-related', 0.7379483580589294),\n",
       " ('diabetic', 0.7280935049057007),\n",
       " ('obese/diabetic', 0.6865474581718445),\n",
       " ('diabetes-associated', 0.6775882244110107),\n",
       " ('prediabetics', 0.6699253916740417),\n",
       " ('t2dm', 0.6697803139686584)]"
      ]
     },
     "execution_count": 33,
     "metadata": {},
     "output_type": "execute_result"
    }
   ],
   "source": [
    "model.most_similar(\"diabetes\")"
   ]
  },
  {
   "cell_type": "code",
   "execution_count": 34,
   "metadata": {
    "ExecuteTime": {
     "end_time": "2019-01-25T17:13:11.854715Z",
     "start_time": "2019-01-25T17:13:11.289633Z"
    }
   },
   "outputs": [
    {
     "data": {
      "text/html": [
       "<div>\n",
       "<style scoped>\n",
       "    .dataframe tbody tr th:only-of-type {\n",
       "        vertical-align: middle;\n",
       "    }\n",
       "\n",
       "    .dataframe tbody tr th {\n",
       "        vertical-align: top;\n",
       "    }\n",
       "\n",
       "    .dataframe thead th {\n",
       "        text-align: right;\n",
       "    }\n",
       "</style>\n",
       "<table border=\"1\" class=\"dataframe\">\n",
       "  <thead>\n",
       "    <tr style=\"text-align: right;\">\n",
       "      <th></th>\n",
       "      <th>word</th>\n",
       "      <th>index</th>\n",
       "    </tr>\n",
       "  </thead>\n",
       "  <tbody>\n",
       "    <tr>\n",
       "      <th>0</th>\n",
       "      <td>of</td>\n",
       "      <td>2</td>\n",
       "    </tr>\n",
       "    <tr>\n",
       "      <th>1</th>\n",
       "      <td>~~[[2</td>\n",
       "      <td>3</td>\n",
       "    </tr>\n",
       "  </tbody>\n",
       "</table>\n",
       "</div>"
      ],
      "text/plain": [
       "    word  index\n",
       "0     of      2\n",
       "1  ~~[[2      3"
      ]
     },
     "execution_count": 34,
     "metadata": {},
     "output_type": "execute_result"
    }
   ],
   "source": [
    "word_dict_df = pd.DataFrame(\n",
    "    [(word,idx) for idx, word in enumerate(model.vocab.keys(), 2)], \n",
    "    columns=[\"word\", \"index\"]\n",
    ")\n",
    "word_dict_df = word_dict_df.append({\"word\":'*unknown*', \"index\":1}, ignore_index=True)\n",
    "word_dict_df.to_csv(\"single_task_data/word_dictionary.tsv.xz\", compression=\"xz\", sep=\"\\t\", index=False)\n",
    "word_dict = {word:index for word, index in word_dict_df[[\"word\", \"index\"]].values}\n",
    "word_dict_df.head(2)"
   ]
  },
  {
   "cell_type": "code",
   "execution_count": 35,
   "metadata": {
    "ExecuteTime": {
     "end_time": "2019-01-25T17:13:11.879483Z",
     "start_time": "2019-01-25T17:13:11.856378Z"
    }
   },
   "outputs": [],
   "source": [
    "def embed_word_to_index(cand):\n",
    "    return [word_dict[word] if word in word_dict else 1 for word in cand]"
   ]
  },
  {
   "cell_type": "code",
   "execution_count": 36,
   "metadata": {
    "ExecuteTime": {
     "end_time": "2019-01-25T17:13:11.906530Z",
     "start_time": "2019-01-25T17:13:11.881110Z"
    }
   },
   "outputs": [],
   "source": [
    "def generate_embedded_df(candidates):\n",
    "    words_to_embed = [\n",
    "        (\n",
    "        mark_sentence(\n",
    "            candidate_to_tokens(cand), \n",
    "            [\n",
    "                    (cand[0].get_word_start(), cand[0].get_word_end(), 1),\n",
    "                    (cand[1].get_word_start(), cand[1].get_word_end(), 2)\n",
    "            ]\n",
    "        ), cand.id)\n",
    "        for cand in tqdm_notebook(candidates)\n",
    "    ]\n",
    "    embed_df = pd.DataFrame(list(map(lambda x: embed_word_to_index(x[0]), words_to_embed)))\n",
    "    embed_df['candidate_id'] = list(map(lambda x: x[1], words_to_embed))\n",
    "    embed_df['sen_length'] = list(map(lambda x: len(x[0]), words_to_embed))\n",
    "    return embed_df"
   ]
  },
  {
   "cell_type": "code",
   "execution_count": 64,
   "metadata": {
    "ExecuteTime": {
     "end_time": "2019-01-25T17:22:24.387287Z",
     "start_time": "2019-01-25T17:22:24.160577Z"
    }
   },
   "outputs": [
    {
     "data": {
      "application/vnd.jupyter.widget-view+json": {
       "model_id": "f13f092c3dd74deb890349f3e603b5af",
       "version_major": 2,
       "version_minor": 0
      },
      "text/html": [
       "<p>Failed to display Jupyter Widget of type <code>HBox</code>.</p>\n",
       "<p>\n",
       "  If you're reading this message in the Jupyter Notebook or JupyterLab Notebook, it may mean\n",
       "  that the widgets JavaScript is still loading. If this message persists, it\n",
       "  likely means that the widgets JavaScript library is either not installed or\n",
       "  not enabled. See the <a href=\"https://ipywidgets.readthedocs.io/en/stable/user_install.html\">Jupyter\n",
       "  Widgets Documentation</a> for setup instructions.\n",
       "</p>\n",
       "<p>\n",
       "  If you're reading this message in another frontend (for example, a static\n",
       "  rendering on GitHub or <a href=\"https://nbviewer.jupyter.org/\">NBViewer</a>),\n",
       "  it may mean that your frontend doesn't currently support widgets.\n",
       "</p>\n"
      ],
      "text/plain": [
       "HBox(children=(IntProgress(value=0, max=5), HTML(value='')))"
      ]
     },
     "metadata": {},
     "output_type": "display_data"
    },
    {
     "name": "stdout",
     "output_type": "stream",
     "text": [
      "\n"
     ]
    },
    {
     "data": {
      "application/vnd.jupyter.widget-view+json": {
       "model_id": "f4e5c99ea3a24a3ca9ea617622a89a2d",
       "version_major": 2,
       "version_minor": 0
      },
      "text/html": [
       "<p>Failed to display Jupyter Widget of type <code>HBox</code>.</p>\n",
       "<p>\n",
       "  If you're reading this message in the Jupyter Notebook or JupyterLab Notebook, it may mean\n",
       "  that the widgets JavaScript is still loading. If this message persists, it\n",
       "  likely means that the widgets JavaScript library is either not installed or\n",
       "  not enabled. See the <a href=\"https://ipywidgets.readthedocs.io/en/stable/user_install.html\">Jupyter\n",
       "  Widgets Documentation</a> for setup instructions.\n",
       "</p>\n",
       "<p>\n",
       "  If you're reading this message in another frontend (for example, a static\n",
       "  rendering on GitHub or <a href=\"https://nbviewer.jupyter.org/\">NBViewer</a>),\n",
       "  it may mean that your frontend doesn't currently support widgets.\n",
       "</p>\n"
      ],
      "text/plain": [
       "HBox(children=(IntProgress(value=0, max=5), HTML(value='')))"
      ]
     },
     "metadata": {},
     "output_type": "display_data"
    },
    {
     "name": "stdout",
     "output_type": "stream",
     "text": [
      "\n"
     ]
    }
   ],
   "source": [
    "# Code to validate that the embedded rows align with the candidates\n",
    "candidate_query = (\n",
    "    total_candidates_df\n",
    "    .query(\"split==0&disease_mention_count==1&gene_mention_count==1\")\n",
    "    .head(5)\n",
    "    .candidate_id\n",
    "    .astype(int)\n",
    "    .tolist()\n",
    ")\n",
    "# Get the candidates\n",
    "candidates = session.query(DiseaseGene).filter(DiseaseGene.id.in_(candidate_query)).all()\n",
    "\n",
    "# Generate the correct output for each word\n",
    "correct_words_to_embed=[\n",
    "        (\n",
    "        mark_sentence(\n",
    "            candidate_to_tokens(cand), \n",
    "            [\n",
    "                    (cand[0].get_word_start(), cand[0].get_word_end(), 1),\n",
    "                    (cand[1].get_word_start(), cand[1].get_word_end(), 2)\n",
    "            ]\n",
    "        ), cand.id)\n",
    "        for cand in tqdm_notebook(candidates)\n",
    "    ]\n",
    "\n",
    "correct_embedded_words = list(map(lambda x: (embed_word_to_index(x[0]), x[1]), correct_words_to_embed))                            \n",
    "embedded_train = generate_embedded_df(candidates)\n",
    "\n",
    "# Confirm the dataframe contains the correct rows for each candidate\n",
    "for words in correct_embedded_words:\n",
    "    test_query = embedded_train.query(\"candidate_id==@words[1]\").fillna(0).values.tolist()[0][:-2]\n",
    "    for pair in zip(words[0], [col for col in test_query if col != 0]):\n",
    "        assert pair[0] == pair[1]"
   ]
  },
  {
   "cell_type": "code",
   "execution_count": 44,
   "metadata": {
    "ExecuteTime": {
     "end_time": "2019-01-25T02:57:33.313019Z",
     "start_time": "2019-01-25T02:10:20.659663Z"
    }
   },
   "outputs": [
    {
     "data": {
      "application/vnd.jupyter.widget-view+json": {
       "model_id": "e4552e701ee44b3bbb4f8ccce834d93e",
       "version_major": 2,
       "version_minor": 0
      },
      "text/html": [
       "<p>Failed to display Jupyter Widget of type <code>HBox</code>.</p>\n",
       "<p>\n",
       "  If you're reading this message in the Jupyter Notebook or JupyterLab Notebook, it may mean\n",
       "  that the widgets JavaScript is still loading. If this message persists, it\n",
       "  likely means that the widgets JavaScript library is either not installed or\n",
       "  not enabled. See the <a href=\"https://ipywidgets.readthedocs.io/en/stable/user_install.html\">Jupyter\n",
       "  Widgets Documentation</a> for setup instructions.\n",
       "</p>\n",
       "<p>\n",
       "  If you're reading this message in another frontend (for example, a static\n",
       "  rendering on GitHub or <a href=\"https://nbviewer.jupyter.org/\">NBViewer</a>),\n",
       "  it may mean that your frontend doesn't currently support widgets.\n",
       "</p>\n"
      ],
      "text/plain": [
       "HBox(children=(IntProgress(value=0, max=658603), HTML(value='')))"
      ]
     },
     "metadata": {},
     "output_type": "display_data"
    },
    {
     "name": "stdout",
     "output_type": "stream",
     "text": [
      "\n"
     ]
    },
    {
     "data": {
      "text/html": [
       "<div>\n",
       "<style scoped>\n",
       "    .dataframe tbody tr th:only-of-type {\n",
       "        vertical-align: middle;\n",
       "    }\n",
       "\n",
       "    .dataframe tbody tr th {\n",
       "        vertical-align: top;\n",
       "    }\n",
       "\n",
       "    .dataframe thead th {\n",
       "        text-align: right;\n",
       "    }\n",
       "</style>\n",
       "<table border=\"1\" class=\"dataframe\">\n",
       "  <thead>\n",
       "    <tr style=\"text-align: right;\">\n",
       "      <th></th>\n",
       "      <th>0</th>\n",
       "      <th>1</th>\n",
       "      <th>2</th>\n",
       "      <th>3</th>\n",
       "      <th>4</th>\n",
       "      <th>5</th>\n",
       "      <th>6</th>\n",
       "      <th>7</th>\n",
       "      <th>8</th>\n",
       "      <th>9</th>\n",
       "      <th>...</th>\n",
       "      <th>80</th>\n",
       "      <th>81</th>\n",
       "      <th>82</th>\n",
       "      <th>83</th>\n",
       "      <th>84</th>\n",
       "      <th>85</th>\n",
       "      <th>86</th>\n",
       "      <th>87</th>\n",
       "      <th>candidate_id</th>\n",
       "      <th>sen_length</th>\n",
       "    </tr>\n",
       "  </thead>\n",
       "  <tbody>\n",
       "    <tr>\n",
       "      <th>0</th>\n",
       "      <td>64</td>\n",
       "      <td>3</td>\n",
       "      <td>6078</td>\n",
       "      <td>4</td>\n",
       "      <td>16215</td>\n",
       "      <td>17</td>\n",
       "      <td>12</td>\n",
       "      <td>459</td>\n",
       "      <td>5.0</td>\n",
       "      <td>377.0</td>\n",
       "      <td>...</td>\n",
       "      <td>NaN</td>\n",
       "      <td>NaN</td>\n",
       "      <td>NaN</td>\n",
       "      <td>NaN</td>\n",
       "      <td>NaN</td>\n",
       "      <td>NaN</td>\n",
       "      <td>NaN</td>\n",
       "      <td>NaN</td>\n",
       "      <td>33113153</td>\n",
       "      <td>30</td>\n",
       "    </tr>\n",
       "    <tr>\n",
       "      <th>1</th>\n",
       "      <td>55</td>\n",
       "      <td>117</td>\n",
       "      <td>294</td>\n",
       "      <td>22</td>\n",
       "      <td>3</td>\n",
       "      <td>3256</td>\n",
       "      <td>4</td>\n",
       "      <td>11</td>\n",
       "      <td>89.0</td>\n",
       "      <td>3483.0</td>\n",
       "      <td>...</td>\n",
       "      <td>NaN</td>\n",
       "      <td>NaN</td>\n",
       "      <td>NaN</td>\n",
       "      <td>NaN</td>\n",
       "      <td>NaN</td>\n",
       "      <td>NaN</td>\n",
       "      <td>NaN</td>\n",
       "      <td>NaN</td>\n",
       "      <td>21468</td>\n",
       "      <td>44</td>\n",
       "    </tr>\n",
       "  </tbody>\n",
       "</table>\n",
       "<p>2 rows × 90 columns</p>\n",
       "</div>"
      ],
      "text/plain": [
       "    0    1     2   3      4     5   6    7     8       9     ...      80  81  \\\n",
       "0  64    3  6078   4  16215    17  12  459   5.0   377.0     ...     NaN NaN   \n",
       "1  55  117   294  22      3  3256   4   11  89.0  3483.0     ...     NaN NaN   \n",
       "\n",
       "   82  83  84  85  86  87  candidate_id  sen_length  \n",
       "0 NaN NaN NaN NaN NaN NaN      33113153          30  \n",
       "1 NaN NaN NaN NaN NaN NaN         21468          44  \n",
       "\n",
       "[2 rows x 90 columns]"
      ]
     },
     "execution_count": 44,
     "metadata": {},
     "output_type": "execute_result"
    }
   ],
   "source": [
    "training_data_df = generate_embedded_df(\n",
    "    session\n",
    "    .query(DiseaseGene)\n",
    "    .filter(DiseaseGene.id.in_(\n",
    "        total_candidates_df\n",
    "        .query(\"split==0&disease_mention_count==1&gene_mention_count==1\")\n",
    "        .candidate_id\n",
    "        .astype(int)\n",
    "        .tolist()\n",
    "    ))\n",
    "    .all()\n",
    ")\n",
    "training_data_df.to_csv(\"single_task_data/training_dataframe.tsv.xz\", sep=\"\\t\", compression=\"xz\", index=False)\n",
    "training_data_df.head(2)"
   ]
  },
  {
   "cell_type": "code",
   "execution_count": 45,
   "metadata": {
    "ExecuteTime": {
     "end_time": "2019-01-25T02:57:38.713208Z",
     "start_time": "2019-01-25T02:57:33.314967Z"
    }
   },
   "outputs": [
    {
     "data": {
      "application/vnd.jupyter.widget-view+json": {
       "model_id": "3b85bf59346d4b4697e4c2f543d41c69",
       "version_major": 2,
       "version_minor": 0
      },
      "text/html": [
       "<p>Failed to display Jupyter Widget of type <code>HBox</code>.</p>\n",
       "<p>\n",
       "  If you're reading this message in the Jupyter Notebook or JupyterLab Notebook, it may mean\n",
       "  that the widgets JavaScript is still loading. If this message persists, it\n",
       "  likely means that the widgets JavaScript library is either not installed or\n",
       "  not enabled. See the <a href=\"https://ipywidgets.readthedocs.io/en/stable/user_install.html\">Jupyter\n",
       "  Widgets Documentation</a> for setup instructions.\n",
       "</p>\n",
       "<p>\n",
       "  If you're reading this message in another frontend (for example, a static\n",
       "  rendering on GitHub or <a href=\"https://nbviewer.jupyter.org/\">NBViewer</a>),\n",
       "  it may mean that your frontend doesn't currently support widgets.\n",
       "</p>\n"
      ],
      "text/plain": [
       "HBox(children=(IntProgress(value=0, max=1000), HTML(value='')))"
      ]
     },
     "metadata": {},
     "output_type": "display_data"
    },
    {
     "name": "stdout",
     "output_type": "stream",
     "text": [
      "\n"
     ]
    },
    {
     "data": {
      "text/html": [
       "<div>\n",
       "<style scoped>\n",
       "    .dataframe tbody tr th:only-of-type {\n",
       "        vertical-align: middle;\n",
       "    }\n",
       "\n",
       "    .dataframe tbody tr th {\n",
       "        vertical-align: top;\n",
       "    }\n",
       "\n",
       "    .dataframe thead th {\n",
       "        text-align: right;\n",
       "    }\n",
       "</style>\n",
       "<table border=\"1\" class=\"dataframe\">\n",
       "  <thead>\n",
       "    <tr style=\"text-align: right;\">\n",
       "      <th></th>\n",
       "      <th>0</th>\n",
       "      <th>1</th>\n",
       "      <th>2</th>\n",
       "      <th>3</th>\n",
       "      <th>4</th>\n",
       "      <th>5</th>\n",
       "      <th>6</th>\n",
       "      <th>7</th>\n",
       "      <th>8</th>\n",
       "      <th>9</th>\n",
       "      <th>...</th>\n",
       "      <th>184</th>\n",
       "      <th>185</th>\n",
       "      <th>186</th>\n",
       "      <th>187</th>\n",
       "      <th>188</th>\n",
       "      <th>189</th>\n",
       "      <th>190</th>\n",
       "      <th>191</th>\n",
       "      <th>candidate_id</th>\n",
       "      <th>sen_length</th>\n",
       "    </tr>\n",
       "  </thead>\n",
       "  <tbody>\n",
       "    <tr>\n",
       "      <th>0</th>\n",
       "      <td>9</td>\n",
       "      <td>529</td>\n",
       "      <td>2</td>\n",
       "      <td>2963</td>\n",
       "      <td>72</td>\n",
       "      <td>26</td>\n",
       "      <td>9</td>\n",
       "      <td>14475</td>\n",
       "      <td>436</td>\n",
       "      <td>10</td>\n",
       "      <td>...</td>\n",
       "      <td>NaN</td>\n",
       "      <td>NaN</td>\n",
       "      <td>NaN</td>\n",
       "      <td>NaN</td>\n",
       "      <td>NaN</td>\n",
       "      <td>NaN</td>\n",
       "      <td>NaN</td>\n",
       "      <td>NaN</td>\n",
       "      <td>21841</td>\n",
       "      <td>63</td>\n",
       "    </tr>\n",
       "    <tr>\n",
       "      <th>1</th>\n",
       "      <td>15</td>\n",
       "      <td>36</td>\n",
       "      <td>21</td>\n",
       "      <td>2051</td>\n",
       "      <td>10</td>\n",
       "      <td>8</td>\n",
       "      <td>1</td>\n",
       "      <td>12</td>\n",
       "      <td>394</td>\n",
       "      <td>32771</td>\n",
       "      <td>...</td>\n",
       "      <td>NaN</td>\n",
       "      <td>NaN</td>\n",
       "      <td>NaN</td>\n",
       "      <td>NaN</td>\n",
       "      <td>NaN</td>\n",
       "      <td>NaN</td>\n",
       "      <td>NaN</td>\n",
       "      <td>NaN</td>\n",
       "      <td>82680</td>\n",
       "      <td>72</td>\n",
       "    </tr>\n",
       "  </tbody>\n",
       "</table>\n",
       "<p>2 rows × 194 columns</p>\n",
       "</div>"
      ],
      "text/plain": [
       "    0    1   2     3   4   5  6      7    8      9     ...      184  185  186  \\\n",
       "0   9  529   2  2963  72  26  9  14475  436     10     ...      NaN  NaN  NaN   \n",
       "1  15   36  21  2051  10   8  1     12  394  32771     ...      NaN  NaN  NaN   \n",
       "\n",
       "   187  188  189  190  191  candidate_id  sen_length  \n",
       "0  NaN  NaN  NaN  NaN  NaN         21841          63  \n",
       "1  NaN  NaN  NaN  NaN  NaN         82680          72  \n",
       "\n",
       "[2 rows x 194 columns]"
      ]
     },
     "execution_count": 45,
     "metadata": {},
     "output_type": "execute_result"
    }
   ],
   "source": [
    "dev_data_df = generate_embedded_df(\n",
    "    session\n",
    "    .query(DiseaseGene)\n",
    "    .filter(DiseaseGene.id.in_(\n",
    "        candidate_dfs['dev']['candidate_id']\n",
    "        .values\n",
    "        .tolist()\n",
    "    ))\n",
    "    .all()\n",
    ")\n",
    "dev_data_df.to_csv(\"single_task_data/dev_dataframe.tsv.xz\", sep=\"\\t\", compression=\"xz\", index=False)\n",
    "dev_data_df.head(2)"
   ]
  },
  {
   "cell_type": "code",
   "execution_count": 46,
   "metadata": {
    "ExecuteTime": {
     "end_time": "2019-01-25T02:57:43.802661Z",
     "start_time": "2019-01-25T02:57:38.714739Z"
    }
   },
   "outputs": [
    {
     "data": {
      "application/vnd.jupyter.widget-view+json": {
       "model_id": "fba0d50677d84d27a95202d6f9580b23",
       "version_major": 2,
       "version_minor": 0
      },
      "text/html": [
       "<p>Failed to display Jupyter Widget of type <code>HBox</code>.</p>\n",
       "<p>\n",
       "  If you're reading this message in the Jupyter Notebook or JupyterLab Notebook, it may mean\n",
       "  that the widgets JavaScript is still loading. If this message persists, it\n",
       "  likely means that the widgets JavaScript library is either not installed or\n",
       "  not enabled. See the <a href=\"https://ipywidgets.readthedocs.io/en/stable/user_install.html\">Jupyter\n",
       "  Widgets Documentation</a> for setup instructions.\n",
       "</p>\n",
       "<p>\n",
       "  If you're reading this message in another frontend (for example, a static\n",
       "  rendering on GitHub or <a href=\"https://nbviewer.jupyter.org/\">NBViewer</a>),\n",
       "  it may mean that your frontend doesn't currently support widgets.\n",
       "</p>\n"
      ],
      "text/plain": [
       "HBox(children=(IntProgress(value=0, max=1000), HTML(value='')))"
      ]
     },
     "metadata": {},
     "output_type": "display_data"
    },
    {
     "name": "stdout",
     "output_type": "stream",
     "text": [
      "\n"
     ]
    },
    {
     "data": {
      "text/html": [
       "<div>\n",
       "<style scoped>\n",
       "    .dataframe tbody tr th:only-of-type {\n",
       "        vertical-align: middle;\n",
       "    }\n",
       "\n",
       "    .dataframe tbody tr th {\n",
       "        vertical-align: top;\n",
       "    }\n",
       "\n",
       "    .dataframe thead th {\n",
       "        text-align: right;\n",
       "    }\n",
       "</style>\n",
       "<table border=\"1\" class=\"dataframe\">\n",
       "  <thead>\n",
       "    <tr style=\"text-align: right;\">\n",
       "      <th></th>\n",
       "      <th>0</th>\n",
       "      <th>1</th>\n",
       "      <th>2</th>\n",
       "      <th>3</th>\n",
       "      <th>4</th>\n",
       "      <th>5</th>\n",
       "      <th>6</th>\n",
       "      <th>7</th>\n",
       "      <th>8</th>\n",
       "      <th>9</th>\n",
       "      <th>...</th>\n",
       "      <th>159</th>\n",
       "      <th>160</th>\n",
       "      <th>161</th>\n",
       "      <th>162</th>\n",
       "      <th>163</th>\n",
       "      <th>164</th>\n",
       "      <th>165</th>\n",
       "      <th>166</th>\n",
       "      <th>candidate_id</th>\n",
       "      <th>sen_length</th>\n",
       "    </tr>\n",
       "  </thead>\n",
       "  <tbody>\n",
       "    <tr>\n",
       "      <th>0</th>\n",
       "      <td>3914</td>\n",
       "      <td>192</td>\n",
       "      <td>8</td>\n",
       "      <td>15</td>\n",
       "      <td>10719</td>\n",
       "      <td>10</td>\n",
       "      <td>7465</td>\n",
       "      <td>1016</td>\n",
       "      <td>142</td>\n",
       "      <td>2</td>\n",
       "      <td>...</td>\n",
       "      <td>NaN</td>\n",
       "      <td>NaN</td>\n",
       "      <td>NaN</td>\n",
       "      <td>NaN</td>\n",
       "      <td>NaN</td>\n",
       "      <td>NaN</td>\n",
       "      <td>NaN</td>\n",
       "      <td>NaN</td>\n",
       "      <td>23356</td>\n",
       "      <td>50</td>\n",
       "    </tr>\n",
       "    <tr>\n",
       "      <th>1</th>\n",
       "      <td>9</td>\n",
       "      <td>584</td>\n",
       "      <td>20</td>\n",
       "      <td>3</td>\n",
       "      <td>22521</td>\n",
       "      <td>4</td>\n",
       "      <td>28</td>\n",
       "      <td>66</td>\n",
       "      <td>94</td>\n",
       "      <td>8</td>\n",
       "      <td>...</td>\n",
       "      <td>NaN</td>\n",
       "      <td>NaN</td>\n",
       "      <td>NaN</td>\n",
       "      <td>NaN</td>\n",
       "      <td>NaN</td>\n",
       "      <td>NaN</td>\n",
       "      <td>NaN</td>\n",
       "      <td>NaN</td>\n",
       "      <td>23367</td>\n",
       "      <td>22</td>\n",
       "    </tr>\n",
       "  </tbody>\n",
       "</table>\n",
       "<p>2 rows × 169 columns</p>\n",
       "</div>"
      ],
      "text/plain": [
       "      0    1   2   3      4   5     6     7    8  9     ...      159  160  \\\n",
       "0  3914  192   8  15  10719  10  7465  1016  142  2     ...      NaN  NaN   \n",
       "1     9  584  20   3  22521   4    28    66   94  8     ...      NaN  NaN   \n",
       "\n",
       "   161  162  163  164  165  166  candidate_id  sen_length  \n",
       "0  NaN  NaN  NaN  NaN  NaN  NaN         23356          50  \n",
       "1  NaN  NaN  NaN  NaN  NaN  NaN         23367          22  \n",
       "\n",
       "[2 rows x 169 columns]"
      ]
     },
     "execution_count": 46,
     "metadata": {},
     "output_type": "execute_result"
    }
   ],
   "source": [
    "test_data_df = generate_embedded_df(\n",
    "    session\n",
    "    .query(DiseaseGene)\n",
    "    .filter(DiseaseGene.id.in_(\n",
    "        candidate_dfs['test']['candidate_id']\n",
    "        .values\n",
    "        .tolist()\n",
    "    ))\n",
    "    .all()\n",
    ")\n",
    "test_data_df.to_csv(\"single_task_data/test_dataframe.tsv.xz\", sep=\"\\t\", compression=\"xz\", index=False)\n",
    "test_data_df.head(2)"
   ]
  }
 ],
 "metadata": {
  "kernelspec": {
   "display_name": "Python [conda env:snorkeling]",
   "language": "python",
   "name": "conda-env-snorkeling-py"
  },
  "language_info": {
   "codemirror_mode": {
    "name": "ipython",
    "version": 3
   },
   "file_extension": ".py",
   "mimetype": "text/x-python",
   "name": "python",
   "nbconvert_exporter": "python",
   "pygments_lexer": "ipython3",
   "version": "3.6.4"
  }
 },
 "nbformat": 4,
 "nbformat_minor": 2
}
