{
 "cells": [
  {
   "cell_type": "markdown",
   "metadata": {},
   "source": [
    "# Discriminator Model Benchmarking"
   ]
  },
  {
   "cell_type": "markdown",
   "metadata": {},
   "source": [
    "The goal here is to find the best discriminator model for predicting disease associates gene (DaG) relationships. The few models tested in this are: bag of words, Doc2CecC 500k randomly sampled iterations, Doc2VecC all disease gene sentences, and a unidirectional long short term memory network (LSTM). The underlying hypothesis is that **The LSTM will be the best model in predicting DaG associations.**"
   ]
  },
  {
   "cell_type": "markdown",
   "metadata": {
    "ExecuteTime": {
     "end_time": "2018-09-24T15:19:58.734751Z",
     "start_time": "2018-09-24T15:19:58.720699Z"
    }
   },
   "source": [
    "## Set up The Environment"
   ]
  },
  {
   "cell_type": "code",
   "execution_count": 1,
   "metadata": {
    "ExecuteTime": {
     "end_time": "2018-10-03T15:48:42.708090Z",
     "start_time": "2018-10-03T15:48:42.195142Z"
    }
   },
   "outputs": [],
   "source": [
    "%load_ext autoreload\n",
    "%autoreload 2\n",
    "%matplotlib inline\n",
    "\n",
    "import glob\n",
    "from itertools import product\n",
    "import pickle\n",
    "import os\n",
    "import sys\n",
    "\n",
    "sys.path.append(os.path.abspath('../../../modules'))\n",
    "\n",
    "import pandas as pd\n",
    "from sklearn.feature_extraction.text import CountVectorizer\n",
    "from sklearn.linear_model import LogisticRegression\n",
    "from tqdm import tqdm_notebook"
   ]
  },
  {
   "cell_type": "code",
   "execution_count": 2,
   "metadata": {
    "ExecuteTime": {
     "end_time": "2018-10-03T15:48:42.880734Z",
     "start_time": "2018-10-03T15:48:42.709751Z"
    }
   },
   "outputs": [],
   "source": [
    "#Set up the environment\n",
    "username = \"danich1\"\n",
    "password = \"snorkel\"\n",
    "dbname = \"pubmeddb\"\n",
    "\n",
    "#Path subject to change for different os\n",
    "database_str = \"postgresql+psycopg2://{}:{}@/{}?host=/var/run/postgresql\".format(username, password, dbname)\n",
    "os.environ['SNORKELDB'] = database_str\n",
    "\n",
    "from snorkel import SnorkelSession\n",
    "session = SnorkelSession()"
   ]
  },
  {
   "cell_type": "code",
   "execution_count": 3,
   "metadata": {
    "ExecuteTime": {
     "end_time": "2018-10-03T15:49:42.474227Z",
     "start_time": "2018-10-03T15:48:42.884861Z"
    }
   },
   "outputs": [],
   "source": [
    "from snorkel.annotations import LabelAnnotator\n",
    "from snorkel.learning.structure import DependencySelector\n",
    "from snorkel.learning.pytorch.rnn import LSTM\n",
    "from snorkel.models import candidate_subclass, Candidate\n",
    "\n",
    "from utils.label_functions import DG_LFS\n",
    "\n",
    "from utils.notebook_utils.dataframe_helper import load_candidate_dataframes\n",
    "from utils.notebook_utils.doc2vec_helper import get_candidate_objects, execute_doc2vec, write_sentences_to_file, run_grid_search\n",
    "from utils.notebook_utils.label_matrix_helper import label_candidates, make_cids_query, get_auc_significant_stats\n",
    "from utils.notebook_utils.train_model_helper import train_generative_model\n",
    "from utils.notebook_utils.plot_helper import plot_curve"
   ]
  },
  {
   "cell_type": "code",
   "execution_count": 4,
   "metadata": {
    "ExecuteTime": {
     "end_time": "2018-10-03T15:49:42.497242Z",
     "start_time": "2018-10-03T15:49:42.476685Z"
    }
   },
   "outputs": [],
   "source": [
    "DiseaseGene = candidate_subclass('DiseaseGene', ['Disease', 'Gene'])"
   ]
  },
  {
   "cell_type": "code",
   "execution_count": 5,
   "metadata": {
    "ExecuteTime": {
     "end_time": "2018-10-03T15:49:42.515143Z",
     "start_time": "2018-10-03T15:49:42.498688Z"
    }
   },
   "outputs": [],
   "source": [
    "quick_load = True"
   ]
  },
  {
   "cell_type": "markdown",
   "metadata": {},
   "source": [
    "# Get Estimated Training Labels"
   ]
  },
  {
   "cell_type": "markdown",
   "metadata": {},
   "source": [
    "From the work in the [previous notebook](gen_model_benchmarking.ipynb), we determined that the best parameters for the generative model are: 0.4 reg_param, 100 burnin interations and 100 epochs for training. Using this information, we trained the generative model to get the estimated training labels show in the historgram below."
   ]
  },
  {
   "cell_type": "code",
   "execution_count": 6,
   "metadata": {
    "ExecuteTime": {
     "end_time": "2018-10-03T15:49:42.533101Z",
     "start_time": "2018-10-03T15:49:42.516536Z"
    }
   },
   "outputs": [],
   "source": [
    "spreadsheet_names = {\n",
    "    'train': '../../sentence_labels_train.xlsx',\n",
    "    'dev': '../../sentence_labels_train_dev.xlsx',\n",
    "    'test': '../../sentence_labels_dev.xlsx'\n",
    "}"
   ]
  },
  {
   "cell_type": "code",
   "execution_count": 7,
   "metadata": {
    "ExecuteTime": {
     "end_time": "2018-10-03T15:49:47.347460Z",
     "start_time": "2018-10-03T15:49:42.535275Z"
    }
   },
   "outputs": [
    {
     "name": "stdout",
     "output_type": "stream",
     "text": [
      "Size of train set: 50000\n",
      "Size of dev set: 60\n",
      "Size of test set: 210\n"
     ]
    }
   ],
   "source": [
    "candidate_dfs = {\n",
    "    key:load_candidate_dataframes(spreadsheet_names[key])\n",
    "    for key in spreadsheet_names\n",
    "}\n",
    "\n",
    "for key in candidate_dfs:\n",
    "    print(\"Size of {} set: {}\".format(key, candidate_dfs[key].shape[0]))"
   ]
  },
  {
   "cell_type": "code",
   "execution_count": 8,
   "metadata": {
    "ExecuteTime": {
     "end_time": "2018-10-03T15:49:50.687013Z",
     "start_time": "2018-10-03T15:49:47.349028Z"
    }
   },
   "outputs": [],
   "source": [
    "label_functions = (\n",
    "    list(DG_LFS[\"DaG_DB\"].values()) + \n",
    "    list(DG_LFS[\"DaG_TEXT\"].values())\n",
    ") \n",
    "\n",
    "if quick_load:\n",
    "    labeler = LabelAnnotator(lfs=[])\n",
    "\n",
    "    label_matricies = {\n",
    "        key:labeler.load_matrix(session, cids_query=make_cids_query(session, candidate_dfs[key]))\n",
    "        for key in candidate_dfs\n",
    "    }\n",
    "\n",
    "else:\n",
    "    labeler = LabelAnnotator(lfs=label_functions)\n",
    "\n",
    "    label_matricies = {\n",
    "        key:label_candidates(\n",
    "            labeler, \n",
    "            cids_query=make_cids_query(session, candidate_dfs[key]),\n",
    "            label_functions=label_functions,\n",
    "            apply_existing=(key!='train')\n",
    "        )\n",
    "        for key in candidate_dfs\n",
    "    }"
   ]
  },
  {
   "cell_type": "code",
   "execution_count": 9,
   "metadata": {
    "ExecuteTime": {
     "end_time": "2018-10-03T15:59:41.384296Z",
     "start_time": "2018-10-03T15:49:50.688471Z"
    }
   },
   "outputs": [
    {
     "name": "stdout",
     "output_type": "stream",
     "text": [
      "Inferred cardinality: 2\n"
     ]
    }
   ],
   "source": [
    "gen_model = train_generative_model(\n",
    "        label_matricies['train'],\n",
    "        burn_in=100,\n",
    "        epochs=100,\n",
    "        reg_param=0.401,\n",
    "        step_size=1/label_matricies['train'].shape[0],\n",
    "        deps=DependencySelector().select(label_matricies['train']),\n",
    "        lf_propensity=True\n",
    "    )\n",
    "training_prob_labels = gen_model.marginals(label_matricies['train'])\n",
    "training_labels = list(map(lambda x: 1 if x > 0.5 else 0, training_prob_labels))"
   ]
  },
  {
   "cell_type": "code",
   "execution_count": 10,
   "metadata": {
    "ExecuteTime": {
     "end_time": "2018-10-03T15:59:41.535203Z",
     "start_time": "2018-10-03T15:59:41.385969Z"
    }
   },
   "outputs": [
    {
     "data": {
      "text/plain": [
       "(array([  8217.,   5883.,   3482.,   1530.,   1851.,    971.,   3814.,\n",
       "          2197.,   6473.,  15582.]),\n",
       " array([  2.23059322e-04,   1.00200591e-01,   2.00178122e-01,\n",
       "          3.00155653e-01,   4.00133184e-01,   5.00110715e-01,\n",
       "          6.00088247e-01,   7.00065778e-01,   8.00043309e-01,\n",
       "          9.00020840e-01,   9.99998372e-01]),\n",
       " <a list of 10 Patch objects>)"
      ]
     },
     "execution_count": 10,
     "metadata": {},
     "output_type": "execute_result"
    },
    {
     "data": {
      "image/png": "[encoded data removed]",
      "text/plain": [
       "<matplotlib.figure.Figure at 0x7f4d934e5f60>"
      ]
     },
     "metadata": {},
     "output_type": "display_data"
    }
   ],
   "source": [
    "import matplotlib.pyplot as plt\n",
    "plt.hist(training_prob_labels)"
   ]
  },
  {
   "cell_type": "markdown",
   "metadata": {},
   "source": [
    "Based on this graph more than half of the data is receiving a positive label. Hard to tell if this is correct; however, based on some prior experience this seems to be incorrectly skewed towards the positive side. "
   ]
  },
  {
   "cell_type": "markdown",
   "metadata": {},
   "source": [
    "## Discriminator Models"
   ]
  },
  {
   "cell_type": "markdown",
   "metadata": {},
   "source": [
    "As mentioned above here we train various discriminator models to determine which model can best predict DaG sentences through noisy labels."
   ]
  },
  {
   "cell_type": "markdown",
   "metadata": {},
   "source": [
    "### Bag of Words Model"
   ]
  },
  {
   "cell_type": "code",
   "execution_count": 11,
   "metadata": {
    "ExecuteTime": {
     "end_time": "2018-10-03T15:59:42.781330Z",
     "start_time": "2018-10-03T15:59:41.537396Z"
    }
   },
   "outputs": [],
   "source": [
    "vectorizer = CountVectorizer()\n",
    "X = vectorizer.fit_transform(\n",
    "    candidate_dfs['train'].sentence.values\n",
    ")\n",
    "dev_X = vectorizer.transform(candidate_dfs['dev'].sentence.values)\n",
    "test_X = vectorizer.transform(candidate_dfs['test'].sentence.values)"
   ]
  },
  {
   "cell_type": "code",
   "execution_count": 12,
   "metadata": {
    "ExecuteTime": {
     "end_time": "2018-10-03T16:15:34.922059Z",
     "start_time": "2018-10-03T15:59:42.782883Z"
    }
   },
   "outputs": [],
   "source": [
    "bow_model = run_grid_search(LogisticRegression(), X,  {'C':pd.np.linspace(1e-6,5, num=20)}, training_labels)"
   ]
  },
  {
   "cell_type": "code",
   "execution_count": 13,
   "metadata": {
    "ExecuteTime": {
     "end_time": "2018-10-03T16:15:35.046105Z",
     "start_time": "2018-10-03T16:15:34.923339Z"
    }
   },
   "outputs": [
    {
     "data": {
      "text/plain": [
       "[<matplotlib.lines.Line2D at 0x7f4d6379cd30>]"
      ]
     },
     "execution_count": 13,
     "metadata": {},
     "output_type": "execute_result"
    },
    {
     "data": {
      "image/png": "[encoded data removed]",
      "text/plain": [
       "<matplotlib.figure.Figure at 0x7f4d63525f98>"
      ]
     },
     "metadata": {},
     "output_type": "display_data"
    }
   ],
   "source": [
    "plt.plot(pd.np.linspace(1e-6,5, num=20), bow_model.cv_results_['mean_train_score'])"
   ]
  },
  {
   "cell_type": "markdown",
   "metadata": {},
   "source": [
    "### Doc2VecC"
   ]
  },
  {
   "cell_type": "markdown",
   "metadata": {},
   "source": [
    "This model comes from this [paper](https://arxiv.org/pdf/1707.02377.pdf), which is builds off of popular sentence/document embedding algorithms. Through their use of corruption, which involves removing words from a document to generate embeddings, the authors were able to achieve significant speed boosts and results. \n",
    "Majority of the steps to embed these sentences are located in this script [here](../../generate_doc2vec_sentences.py). Shown below are results after feeding these embeddings into the logistic regression algorithm. "
   ]
  },
  {
   "cell_type": "markdown",
   "metadata": {},
   "source": [
    "#### Doc2VecC 500k Subsample Experiment"
   ]
  },
  {
   "cell_type": "code",
   "execution_count": 14,
   "metadata": {
    "ExecuteTime": {
     "end_time": "2018-10-03T16:15:35.066533Z",
     "start_time": "2018-10-03T16:15:35.047706Z"
    }
   },
   "outputs": [],
   "source": [
    "files = zip(\n",
    "    glob.glob('../../doc2vec/doc_vectors/train_doc_vectors_500k_subset_*.txt'),\n",
    "    glob.glob('../../doc2vec/doc_vectors/dev_doc_vectors_500k_subset_*.txt'),\n",
    "    glob.glob('../../doc2vec/doc_vectors/test_doc_vectors_500k_subset_*.txt')\n",
    ")\n",
    "\n",
    "doc2vec_500k_dev_marginals_df = pd.DataFrame()\n",
    "doc2vec_500k_test_marginals_df = pd.DataFrame()"
   ]
  },
  {
   "cell_type": "code",
   "execution_count": 15,
   "metadata": {
    "ExecuteTime": {
     "end_time": "2018-10-03T16:43:22.448081Z",
     "start_time": "2018-10-03T16:15:35.067754Z"
    }
   },
   "outputs": [
    {
     "data": {
      "application/vnd.jupyter.widget-view+json": {
       "model_id": "1d8bd76dd4fa4a31be447346132d3382",
       "version_major": 2,
       "version_minor": 0
      },
      "text/html": [
       "<p>Failed to display Jupyter Widget of type <code>HBox</code>.</p>\n",
       "<p>\n",
       "  If you're reading this message in the Jupyter Notebook or JupyterLab Notebook, it may mean\n",
       "  that the widgets JavaScript is still loading. If this message persists, it\n",
       "  likely means that the widgets JavaScript library is either not installed or\n",
       "  not enabled. See the <a href=\"https://ipywidgets.readthedocs.io/en/stable/user_install.html\">Jupyter\n",
       "  Widgets Documentation</a> for setup instructions.\n",
       "</p>\n",
       "<p>\n",
       "  If you're reading this message in another frontend (for example, a static\n",
       "  rendering on GitHub or <a href=\"https://nbviewer.jupyter.org/\">NBViewer</a>),\n",
       "  it may mean that your frontend doesn't currently support widgets.\n",
       "</p>\n"
      ],
      "text/plain": [
       "HBox(children=(IntProgress(value=1, bar_style='info', max=1), HTML(value='')))"
      ]
     },
     "metadata": {},
     "output_type": "display_data"
    },
    {
     "name": "stdout",
     "output_type": "stream",
     "text": [
      "\n"
     ]
    }
   ],
   "source": [
    "for index, data in tqdm_notebook(enumerate(files)):\n",
    "    doc2vec_train = pd.read_table(data[0], header=None, sep=\" \")\n",
    "    doc2vec_train = doc2vec_train.values[:-1, :-1]\n",
    "    \n",
    "    doc2vec_dev = pd.read_table(data[1], header=None, sep=\" \")\n",
    "    doc2vec_dev = doc2vec_dev.values[:-1, :-1]\n",
    "    \n",
    "    doc2vec_test = pd.read_table(data[2], header=None, sep=\" \")\n",
    "    doc2vec_test = doc2vec_test.values[:-1, :-1]\n",
    "    \n",
    "    model = run_grid_search(LogisticRegression(), doc2vec_train,  \n",
    "                            {'C':pd.np.linspace(1e-6, 5, num=4)}, training_labels)\n",
    "\n",
    "    doc2vec_500k_dev_marginals_df['subset_{}'.format(index)] = model.predict_proba(doc2vec_dev)[:,1]\n",
    "    doc2vec_500k_test_marginals_df['subset_{}'.format(index)] = model.predict_proba(doc2vec_test)[:,1]"
   ]
  },
  {
   "cell_type": "code",
   "execution_count": 17,
   "metadata": {
    "ExecuteTime": {
     "end_time": "2018-10-03T16:43:37.339332Z",
     "start_time": "2018-10-03T16:43:37.042251Z"
    },
    "scrolled": true
   },
   "outputs": [
    {
     "data": {
      "image/png": "[encoded data removed]",
      "text/plain": [
       "<matplotlib.figure.Figure at 0x7f4d63552048>"
      ]
     },
     "metadata": {},
     "output_type": "display_data"
    }
   ],
   "source": [
    "model_aucs=plot_curve(doc2vec_500k_dev_marginals_df, candidate_dfs['dev'].curated_dsh,\n",
    "                      figsize=(20,6), model_type=\"scatterplot\")"
   ]
  },
  {
   "cell_type": "code",
   "execution_count": 18,
   "metadata": {
    "ExecuteTime": {
     "end_time": "2018-10-03T16:43:39.594678Z",
     "start_time": "2018-10-03T16:43:39.567745Z"
    }
   },
   "outputs": [
    {
     "data": {
      "text/html": [
       "<div>\n",
       "<style scoped>\n",
       "    .dataframe tbody tr th:only-of-type {\n",
       "        vertical-align: middle;\n",
       "    }\n",
       "\n",
       "    .dataframe tbody tr th {\n",
       "        vertical-align: top;\n",
       "    }\n",
       "\n",
       "    .dataframe thead th {\n",
       "        text-align: right;\n",
       "    }\n",
       "</style>\n",
       "<table border=\"1\" class=\"dataframe\">\n",
       "  <thead>\n",
       "    <tr style=\"text-align: right;\">\n",
       "      <th></th>\n",
       "      <th>0</th>\n",
       "    </tr>\n",
       "  </thead>\n",
       "  <tbody>\n",
       "    <tr>\n",
       "      <th>count</th>\n",
       "      <td>10.000000</td>\n",
       "    </tr>\n",
       "    <tr>\n",
       "      <th>mean</th>\n",
       "      <td>0.594312</td>\n",
       "    </tr>\n",
       "    <tr>\n",
       "      <th>std</th>\n",
       "      <td>0.098417</td>\n",
       "    </tr>\n",
       "    <tr>\n",
       "      <th>min</th>\n",
       "      <td>0.444444</td>\n",
       "    </tr>\n",
       "    <tr>\n",
       "      <th>25%</th>\n",
       "      <td>0.520172</td>\n",
       "    </tr>\n",
       "    <tr>\n",
       "      <th>50%</th>\n",
       "      <td>0.605820</td>\n",
       "    </tr>\n",
       "    <tr>\n",
       "      <th>75%</th>\n",
       "      <td>0.645833</td>\n",
       "    </tr>\n",
       "    <tr>\n",
       "      <th>max</th>\n",
       "      <td>0.750000</td>\n",
       "    </tr>\n",
       "  </tbody>\n",
       "</table>\n",
       "</div>"
      ],
      "text/plain": [
       "               0\n",
       "count  10.000000\n",
       "mean    0.594312\n",
       "std     0.098417\n",
       "min     0.444444\n",
       "25%     0.520172\n",
       "50%     0.605820\n",
       "75%     0.645833\n",
       "max     0.750000"
      ]
     },
     "execution_count": 18,
     "metadata": {},
     "output_type": "execute_result"
    }
   ],
   "source": [
    "doc2vec_subset_df = pd.DataFrame.from_dict(model_aucs, orient='index')\n",
    "doc2vec_subset_df.describe()"
   ]
  },
  {
   "cell_type": "markdown",
   "metadata": {},
   "source": [
    "#### Doc2Vec All D-G Sentences"
   ]
  },
  {
   "cell_type": "code",
   "execution_count": 19,
   "metadata": {
    "ExecuteTime": {
     "end_time": "2018-10-03T16:43:48.330189Z",
     "start_time": "2018-10-03T16:43:44.850843Z"
    }
   },
   "outputs": [],
   "source": [
    "doc2vec_X_all_DG = pd.read_table(\"../../doc2vec/doc_vectors/train_doc_vectors_all_dg.txt\",\n",
    "                             compression=None, header=None, sep=\" \")\n",
    "doc2vec_X_all_DG = doc2vec_X_all_DG.values[:-1,:-1]\n",
    "\n",
    "doc2vec_dev_X_all_DG = pd.read_table(\"../../doc2vec/doc_vectors/dev_doc_vectors_all_dg.txt\",\n",
    "                             compression=None, header=None, sep=\" \")\n",
    "doc2vec_dev_X_all_DG = doc2vec_dev_X_all_DG.values[:-1,:-1]\n",
    "\n",
    "doc2vec_test_X_all_DG = pd.read_table(\"../../doc2vec/doc_vectors/test_doc_vectors_all_dg.txt\",\n",
    "                             compression=None, header=None, sep=\" \")\n",
    "doc2vec_test_X_all_DG = doc2vec_test_X_all_DG.values[:-1,:-1]"
   ]
  },
  {
   "cell_type": "code",
   "execution_count": 20,
   "metadata": {
    "ExecuteTime": {
     "end_time": "2018-10-03T16:57:09.367991Z",
     "start_time": "2018-10-03T16:43:48.331826Z"
    }
   },
   "outputs": [],
   "source": [
    "doc2vec_all_pubmed_model = run_grid_search(LogisticRegression(), doc2vec_X_all_DG,  \n",
    "                                           {'C':pd.np.linspace(1e-6, 1, num=20)}, training_labels)"
   ]
  },
  {
   "cell_type": "code",
   "execution_count": 21,
   "metadata": {
    "ExecuteTime": {
     "end_time": "2018-10-03T16:57:09.496229Z",
     "start_time": "2018-10-03T16:57:09.369226Z"
    }
   },
   "outputs": [
    {
     "data": {
      "text/plain": [
       "[<matplotlib.lines.Line2D at 0x7f4d62b1e6d8>]"
      ]
     },
     "execution_count": 21,
     "metadata": {},
     "output_type": "execute_result"
    },
    {
     "data": {
      "image/png": "[encoded data removed]",
      "text/plain": [
       "<matplotlib.figure.Figure at 0x7f4d633f5f60>"
      ]
     },
     "metadata": {},
     "output_type": "display_data"
    }
   ],
   "source": [
    "plt.plot(pd.np.linspace(1e-6, 1, num=20), doc2vec_all_pubmed_model.cv_results_['mean_train_score'])"
   ]
  },
  {
   "cell_type": "markdown",
   "metadata": {},
   "source": [
    "### LSTM "
   ]
  },
  {
   "cell_type": "markdown",
   "metadata": {},
   "source": [
    "Here is the LSTM network uses the pytorch library. Because of the needed calculations, this whole sections gets ported onto penn's gpu cluster. Utilizing about 4 gpus this network takes less than a few hours to run depending on the embedding size."
   ]
  },
  {
   "cell_type": "markdown",
   "metadata": {},
   "source": [
    "#### Train LSTM on GPU"
   ]
  },
  {
   "cell_type": "code",
   "execution_count": null,
   "metadata": {},
   "outputs": [],
   "source": [
    "lstm = LSTM()\n",
    "cand_objs = get_candidate_objects(session, candidate_dfs)\n",
    "X = lstm._preprocess_data(cand_objs['train'], extend=True)\n",
    "dev_X = lstm.preprocess_data(cand_objs['dev'], extend=False)\n",
    "test_X = lstm.preprocess_data(cand_objs['test'], extend=False)"
   ]
  },
  {
   "cell_type": "code",
   "execution_count": null,
   "metadata": {},
   "outputs": [],
   "source": [
    "pickle.dump(X, open('../../lstm_cluster/train_matrix.pkl', 'wb'))\n",
    "pickle.dump(X, open('../../lstm_cluster/dev_matrix.pkl', 'wb'))\n",
    "pickle.dump(X, open('../../lstm_cluster/test_matrix.pkl', 'wb'))\n",
    "pickle.dump(lstm, open('../../lstm_cluster/model.pkl', 'wb'))\n",
    "pickle.dump(training_labels, open('../../lstm_cluster/train_labels.pkl', 'wb'))\n",
    "pickle.dump(candidate_dfs['dev'].curated_dsh.astype(int).tolist(), open('../../lstm_cluster/dev_labels.pkl', 'wb'))"
   ]
  },
  {
   "cell_type": "markdown",
   "metadata": {},
   "source": [
    "### Look at LSTM Results"
   ]
  },
  {
   "cell_type": "code",
   "execution_count": 22,
   "metadata": {
    "ExecuteTime": {
     "end_time": "2018-10-03T16:57:09.515562Z",
     "start_time": "2018-10-03T16:57:09.497843Z"
    }
   },
   "outputs": [],
   "source": [
    "dev_marginals = pickle.load(open('../../lstm_cluster/dev_lstm_marginals.pkl', 'rb'))\n",
    "test_marginals = pickle.load(open('../../lstm_cluster/test_lstm_marginals.pkl', 'rb'))"
   ]
  },
  {
   "cell_type": "code",
   "execution_count": 23,
   "metadata": {
    "ExecuteTime": {
     "end_time": "2018-10-03T16:57:09.540932Z",
     "start_time": "2018-10-03T16:57:09.517997Z"
    }
   },
   "outputs": [],
   "source": [
    "lstm_dev_marginals_df = pd.DataFrame.from_dict(dev_marginals)\n",
    "lstm_test_marginals_df = pd.DataFrame.from_dict(test_marginals)"
   ]
  },
  {
   "cell_type": "code",
   "execution_count": 24,
   "metadata": {
    "ExecuteTime": {
     "end_time": "2018-10-03T16:57:09.835460Z",
     "start_time": "2018-10-03T16:57:09.543028Z"
    }
   },
   "outputs": [
    {
     "data": {
      "image/png": "[encoded data removed]",
      "text/plain": [
       "<matplotlib.figure.Figure at 0x7f4d62b3d400>"
      ]
     },
     "metadata": {},
     "output_type": "display_data"
    }
   ],
   "source": [
    "model_aucs = plot_curve(lstm_dev_marginals_df, candidate_dfs['dev'].curated_dsh, model_type='heatmap',\n",
    "                           y_label=\"Embedding Dim\", x_label=\"Hidden Dim\", metric=\"ROC\")"
   ]
  },
  {
   "cell_type": "code",
   "execution_count": 25,
   "metadata": {
    "ExecuteTime": {
     "end_time": "2018-10-03T16:57:09.876323Z",
     "start_time": "2018-10-03T16:57:09.837080Z"
    }
   },
   "outputs": [
    {
     "name": "stdout",
     "output_type": "stream",
     "text": [
      "mu: 378.000000, sigma: 61.991935\n"
     ]
    },
    {
     "data": {
      "text/html": [
       "<div>\n",
       "<style scoped>\n",
       "    .dataframe tbody tr th:only-of-type {\n",
       "        vertical-align: middle;\n",
       "    }\n",
       "\n",
       "    .dataframe tbody tr th {\n",
       "        vertical-align: top;\n",
       "    }\n",
       "\n",
       "    .dataframe thead th {\n",
       "        text-align: right;\n",
       "    }\n",
       "</style>\n",
       "<table border=\"1\" class=\"dataframe\">\n",
       "  <thead>\n",
       "    <tr style=\"text-align: right;\">\n",
       "      <th></th>\n",
       "      <th>auroc</th>\n",
       "      <th>u</th>\n",
       "      <th>z_u</th>\n",
       "      <th>p_value</th>\n",
       "    </tr>\n",
       "  </thead>\n",
       "  <tbody>\n",
       "    <tr>\n",
       "      <th>1250,1000</th>\n",
       "      <td>0.738095</td>\n",
       "      <td>558.0</td>\n",
       "      <td>2.903604</td>\n",
       "      <td>0.001844</td>\n",
       "    </tr>\n",
       "    <tr>\n",
       "      <th>1250,250</th>\n",
       "      <td>0.711640</td>\n",
       "      <td>538.0</td>\n",
       "      <td>2.580981</td>\n",
       "      <td>0.004926</td>\n",
       "    </tr>\n",
       "    <tr>\n",
       "      <th>1000,1250</th>\n",
       "      <td>0.695767</td>\n",
       "      <td>526.0</td>\n",
       "      <td>2.387407</td>\n",
       "      <td>0.008484</td>\n",
       "    </tr>\n",
       "    <tr>\n",
       "      <th>1000,250</th>\n",
       "      <td>0.695767</td>\n",
       "      <td>526.0</td>\n",
       "      <td>2.387407</td>\n",
       "      <td>0.008484</td>\n",
       "    </tr>\n",
       "    <tr>\n",
       "      <th>750,750</th>\n",
       "      <td>0.694444</td>\n",
       "      <td>525.0</td>\n",
       "      <td>2.371276</td>\n",
       "      <td>0.008863</td>\n",
       "    </tr>\n",
       "    <tr>\n",
       "      <th>750,1000</th>\n",
       "      <td>0.694444</td>\n",
       "      <td>525.0</td>\n",
       "      <td>2.371276</td>\n",
       "      <td>0.008863</td>\n",
       "    </tr>\n",
       "    <tr>\n",
       "      <th>250,250</th>\n",
       "      <td>0.693122</td>\n",
       "      <td>524.0</td>\n",
       "      <td>2.355145</td>\n",
       "      <td>0.009258</td>\n",
       "    </tr>\n",
       "    <tr>\n",
       "      <th>1000,500</th>\n",
       "      <td>0.683862</td>\n",
       "      <td>517.0</td>\n",
       "      <td>2.242227</td>\n",
       "      <td>0.012473</td>\n",
       "    </tr>\n",
       "    <tr>\n",
       "      <th>1000,1500</th>\n",
       "      <td>0.683862</td>\n",
       "      <td>517.0</td>\n",
       "      <td>2.242227</td>\n",
       "      <td>0.012473</td>\n",
       "    </tr>\n",
       "    <tr>\n",
       "      <th>500,1000</th>\n",
       "      <td>0.679894</td>\n",
       "      <td>514.0</td>\n",
       "      <td>2.193834</td>\n",
       "      <td>0.014124</td>\n",
       "    </tr>\n",
       "    <tr>\n",
       "      <th>750,500</th>\n",
       "      <td>0.677249</td>\n",
       "      <td>512.0</td>\n",
       "      <td>2.161572</td>\n",
       "      <td>0.015326</td>\n",
       "    </tr>\n",
       "    <tr>\n",
       "      <th>750,250</th>\n",
       "      <td>0.677249</td>\n",
       "      <td>512.0</td>\n",
       "      <td>2.161572</td>\n",
       "      <td>0.015326</td>\n",
       "    </tr>\n",
       "    <tr>\n",
       "      <th>250,750</th>\n",
       "      <td>0.677249</td>\n",
       "      <td>512.0</td>\n",
       "      <td>2.161572</td>\n",
       "      <td>0.015326</td>\n",
       "    </tr>\n",
       "    <tr>\n",
       "      <th>1000,2500</th>\n",
       "      <td>0.677249</td>\n",
       "      <td>512.0</td>\n",
       "      <td>2.161572</td>\n",
       "      <td>0.015326</td>\n",
       "    </tr>\n",
       "    <tr>\n",
       "      <th>1250,500</th>\n",
       "      <td>0.674603</td>\n",
       "      <td>510.0</td>\n",
       "      <td>2.129309</td>\n",
       "      <td>0.016614</td>\n",
       "    </tr>\n",
       "    <tr>\n",
       "      <th>500,2250</th>\n",
       "      <td>0.673280</td>\n",
       "      <td>509.0</td>\n",
       "      <td>2.113178</td>\n",
       "      <td>0.017293</td>\n",
       "    </tr>\n",
       "    <tr>\n",
       "      <th>500,500</th>\n",
       "      <td>0.671958</td>\n",
       "      <td>508.0</td>\n",
       "      <td>2.097047</td>\n",
       "      <td>0.017995</td>\n",
       "    </tr>\n",
       "    <tr>\n",
       "      <th>1000,2250</th>\n",
       "      <td>0.670635</td>\n",
       "      <td>507.0</td>\n",
       "      <td>2.080916</td>\n",
       "      <td>0.018721</td>\n",
       "    </tr>\n",
       "    <tr>\n",
       "      <th>250,1250</th>\n",
       "      <td>0.669312</td>\n",
       "      <td>506.0</td>\n",
       "      <td>2.064785</td>\n",
       "      <td>0.019472</td>\n",
       "    </tr>\n",
       "    <tr>\n",
       "      <th>500,750</th>\n",
       "      <td>0.666667</td>\n",
       "      <td>504.0</td>\n",
       "      <td>2.032522</td>\n",
       "      <td>0.021050</td>\n",
       "    </tr>\n",
       "    <tr>\n",
       "      <th>1000,1000</th>\n",
       "      <td>0.664021</td>\n",
       "      <td>502.0</td>\n",
       "      <td>2.000260</td>\n",
       "      <td>0.022736</td>\n",
       "    </tr>\n",
       "    <tr>\n",
       "      <th>500,250</th>\n",
       "      <td>0.658730</td>\n",
       "      <td>498.0</td>\n",
       "      <td>1.935736</td>\n",
       "      <td>0.026450</td>\n",
       "    </tr>\n",
       "    <tr>\n",
       "      <th>750,2000</th>\n",
       "      <td>0.657407</td>\n",
       "      <td>497.0</td>\n",
       "      <td>1.919605</td>\n",
       "      <td>0.027454</td>\n",
       "    </tr>\n",
       "    <tr>\n",
       "      <th>1000,2000</th>\n",
       "      <td>0.653439</td>\n",
       "      <td>494.0</td>\n",
       "      <td>1.871211</td>\n",
       "      <td>0.030658</td>\n",
       "    </tr>\n",
       "    <tr>\n",
       "      <th>1250,1250</th>\n",
       "      <td>0.652116</td>\n",
       "      <td>493.0</td>\n",
       "      <td>1.855080</td>\n",
       "      <td>0.031792</td>\n",
       "    </tr>\n",
       "    <tr>\n",
       "      <th>250,2000</th>\n",
       "      <td>0.652116</td>\n",
       "      <td>493.0</td>\n",
       "      <td>1.855080</td>\n",
       "      <td>0.031792</td>\n",
       "    </tr>\n",
       "    <tr>\n",
       "      <th>250,1750</th>\n",
       "      <td>0.650794</td>\n",
       "      <td>492.0</td>\n",
       "      <td>1.838949</td>\n",
       "      <td>0.032961</td>\n",
       "    </tr>\n",
       "    <tr>\n",
       "      <th>750,2500</th>\n",
       "      <td>0.650794</td>\n",
       "      <td>492.0</td>\n",
       "      <td>1.838949</td>\n",
       "      <td>0.032961</td>\n",
       "    </tr>\n",
       "    <tr>\n",
       "      <th>500,2000</th>\n",
       "      <td>0.648148</td>\n",
       "      <td>490.0</td>\n",
       "      <td>1.806687</td>\n",
       "      <td>0.035406</td>\n",
       "    </tr>\n",
       "    <tr>\n",
       "      <th>1000,750</th>\n",
       "      <td>0.646825</td>\n",
       "      <td>489.0</td>\n",
       "      <td>1.790555</td>\n",
       "      <td>0.036682</td>\n",
       "    </tr>\n",
       "    <tr>\n",
       "      <th>500,1250</th>\n",
       "      <td>0.646825</td>\n",
       "      <td>489.0</td>\n",
       "      <td>1.790555</td>\n",
       "      <td>0.036682</td>\n",
       "    </tr>\n",
       "    <tr>\n",
       "      <th>1000,1750</th>\n",
       "      <td>0.644180</td>\n",
       "      <td>487.0</td>\n",
       "      <td>1.758293</td>\n",
       "      <td>0.039349</td>\n",
       "    </tr>\n",
       "    <tr>\n",
       "      <th>250,1500</th>\n",
       "      <td>0.644180</td>\n",
       "      <td>487.0</td>\n",
       "      <td>1.758293</td>\n",
       "      <td>0.039349</td>\n",
       "    </tr>\n",
       "    <tr>\n",
       "      <th>250,1000</th>\n",
       "      <td>0.640212</td>\n",
       "      <td>484.0</td>\n",
       "      <td>1.709900</td>\n",
       "      <td>0.043642</td>\n",
       "    </tr>\n",
       "    <tr>\n",
       "      <th>750,2250</th>\n",
       "      <td>0.640212</td>\n",
       "      <td>484.0</td>\n",
       "      <td>1.709900</td>\n",
       "      <td>0.043642</td>\n",
       "    </tr>\n",
       "    <tr>\n",
       "      <th>1250,750</th>\n",
       "      <td>0.637566</td>\n",
       "      <td>482.0</td>\n",
       "      <td>1.677638</td>\n",
       "      <td>0.046709</td>\n",
       "    </tr>\n",
       "    <tr>\n",
       "      <th>250,500</th>\n",
       "      <td>0.636243</td>\n",
       "      <td>481.0</td>\n",
       "      <td>1.661506</td>\n",
       "      <td>0.048306</td>\n",
       "    </tr>\n",
       "    <tr>\n",
       "      <th>500,1750</th>\n",
       "      <td>0.629630</td>\n",
       "      <td>476.0</td>\n",
       "      <td>1.580851</td>\n",
       "      <td>0.056956</td>\n",
       "    </tr>\n",
       "    <tr>\n",
       "      <th>750,1250</th>\n",
       "      <td>0.629630</td>\n",
       "      <td>476.0</td>\n",
       "      <td>1.580851</td>\n",
       "      <td>0.056956</td>\n",
       "    </tr>\n",
       "    <tr>\n",
       "      <th>1250,1500</th>\n",
       "      <td>0.620370</td>\n",
       "      <td>469.0</td>\n",
       "      <td>1.467933</td>\n",
       "      <td>0.071061</td>\n",
       "    </tr>\n",
       "    <tr>\n",
       "      <th>500,1500</th>\n",
       "      <td>0.619048</td>\n",
       "      <td>468.0</td>\n",
       "      <td>1.451802</td>\n",
       "      <td>0.073278</td>\n",
       "    </tr>\n",
       "    <tr>\n",
       "      <th>250,2500</th>\n",
       "      <td>0.609788</td>\n",
       "      <td>461.0</td>\n",
       "      <td>1.338884</td>\n",
       "      <td>0.090304</td>\n",
       "    </tr>\n",
       "    <tr>\n",
       "      <th>250,2250</th>\n",
       "      <td>0.608466</td>\n",
       "      <td>460.0</td>\n",
       "      <td>1.322753</td>\n",
       "      <td>0.092959</td>\n",
       "    </tr>\n",
       "    <tr>\n",
       "      <th>500,2500</th>\n",
       "      <td>0.605820</td>\n",
       "      <td>458.0</td>\n",
       "      <td>1.290490</td>\n",
       "      <td>0.098440</td>\n",
       "    </tr>\n",
       "    <tr>\n",
       "      <th>750,1500</th>\n",
       "      <td>0.603175</td>\n",
       "      <td>456.0</td>\n",
       "      <td>1.258228</td>\n",
       "      <td>0.104155</td>\n",
       "    </tr>\n",
       "    <tr>\n",
       "      <th>750,1750</th>\n",
       "      <td>0.597884</td>\n",
       "      <td>452.0</td>\n",
       "      <td>1.193704</td>\n",
       "      <td>0.116297</td>\n",
       "    </tr>\n",
       "  </tbody>\n",
       "</table>\n",
       "</div>"
      ],
      "text/plain": [
       "              auroc      u       z_u   p_value\n",
       "1250,1000  0.738095  558.0  2.903604  0.001844\n",
       "1250,250   0.711640  538.0  2.580981  0.004926\n",
       "1000,1250  0.695767  526.0  2.387407  0.008484\n",
       "1000,250   0.695767  526.0  2.387407  0.008484\n",
       "750,750    0.694444  525.0  2.371276  0.008863\n",
       "750,1000   0.694444  525.0  2.371276  0.008863\n",
       "250,250    0.693122  524.0  2.355145  0.009258\n",
       "1000,500   0.683862  517.0  2.242227  0.012473\n",
       "1000,1500  0.683862  517.0  2.242227  0.012473\n",
       "500,1000   0.679894  514.0  2.193834  0.014124\n",
       "750,500    0.677249  512.0  2.161572  0.015326\n",
       "750,250    0.677249  512.0  2.161572  0.015326\n",
       "250,750    0.677249  512.0  2.161572  0.015326\n",
       "1000,2500  0.677249  512.0  2.161572  0.015326\n",
       "1250,500   0.674603  510.0  2.129309  0.016614\n",
       "500,2250   0.673280  509.0  2.113178  0.017293\n",
       "500,500    0.671958  508.0  2.097047  0.017995\n",
       "1000,2250  0.670635  507.0  2.080916  0.018721\n",
       "250,1250   0.669312  506.0  2.064785  0.019472\n",
       "500,750    0.666667  504.0  2.032522  0.021050\n",
       "1000,1000  0.664021  502.0  2.000260  0.022736\n",
       "500,250    0.658730  498.0  1.935736  0.026450\n",
       "750,2000   0.657407  497.0  1.919605  0.027454\n",
       "1000,2000  0.653439  494.0  1.871211  0.030658\n",
       "1250,1250  0.652116  493.0  1.855080  0.031792\n",
       "250,2000   0.652116  493.0  1.855080  0.031792\n",
       "250,1750   0.650794  492.0  1.838949  0.032961\n",
       "750,2500   0.650794  492.0  1.838949  0.032961\n",
       "500,2000   0.648148  490.0  1.806687  0.035406\n",
       "1000,750   0.646825  489.0  1.790555  0.036682\n",
       "500,1250   0.646825  489.0  1.790555  0.036682\n",
       "1000,1750  0.644180  487.0  1.758293  0.039349\n",
       "250,1500   0.644180  487.0  1.758293  0.039349\n",
       "250,1000   0.640212  484.0  1.709900  0.043642\n",
       "750,2250   0.640212  484.0  1.709900  0.043642\n",
       "1250,750   0.637566  482.0  1.677638  0.046709\n",
       "250,500    0.636243  481.0  1.661506  0.048306\n",
       "500,1750   0.629630  476.0  1.580851  0.056956\n",
       "750,1250   0.629630  476.0  1.580851  0.056956\n",
       "1250,1500  0.620370  469.0  1.467933  0.071061\n",
       "500,1500   0.619048  468.0  1.451802  0.073278\n",
       "250,2500   0.609788  461.0  1.338884  0.090304\n",
       "250,2250   0.608466  460.0  1.322753  0.092959\n",
       "500,2500   0.605820  458.0  1.290490  0.098440\n",
       "750,1500   0.603175  456.0  1.258228  0.104155\n",
       "750,1750   0.597884  452.0  1.193704  0.116297"
      ]
     },
     "execution_count": 25,
     "metadata": {},
     "output_type": "execute_result"
    }
   ],
   "source": [
    "ci_auc_stats_df = get_auc_significant_stats(candidate_dfs['dev'], model_aucs).sort_values('auroc', ascending=False)\n",
    "ci_auc_stats_df"
   ]
  },
  {
   "cell_type": "code",
   "execution_count": 26,
   "metadata": {
    "ExecuteTime": {
     "end_time": "2018-10-03T16:57:10.132750Z",
     "start_time": "2018-10-03T16:57:09.877803Z"
    }
   },
   "outputs": [
    {
     "data": {
      "image/png": "[encoded data removed]",
      "text/plain": [
       "<matplotlib.figure.Figure at 0x7f4d62abf5f8>"
      ]
     },
     "metadata": {},
     "output_type": "display_data"
    }
   ],
   "source": [
    "model_aucs = plot_curve(lstm_dev_marginals_df, candidate_dfs['dev'].curated_dsh, model_type='heatmap',\n",
    "                           y_label=\"Embedding Dim\", x_label=\"Hidden Dim\", metric=\"PR\")"
   ]
  },
  {
   "cell_type": "markdown",
   "metadata": {},
   "source": [
    "### Let's see how the models compare with each other"
   ]
  },
  {
   "cell_type": "code",
   "execution_count": 27,
   "metadata": {
    "ExecuteTime": {
     "end_time": "2018-10-03T16:57:10.231575Z",
     "start_time": "2018-10-03T16:57:10.134119Z"
    }
   },
   "outputs": [
    {
     "data": {
      "text/html": [
       "<div>\n",
       "<style scoped>\n",
       "    .dataframe tbody tr th:only-of-type {\n",
       "        vertical-align: middle;\n",
       "    }\n",
       "\n",
       "    .dataframe tbody tr th {\n",
       "        vertical-align: top;\n",
       "    }\n",
       "\n",
       "    .dataframe thead th {\n",
       "        text-align: right;\n",
       "    }\n",
       "</style>\n",
       "<table border=\"1\" class=\"dataframe\">\n",
       "  <thead>\n",
       "    <tr style=\"text-align: right;\">\n",
       "      <th></th>\n",
       "      <th>Gen_Model</th>\n",
       "      <th>Bag_of_Words</th>\n",
       "      <th>Doc2Vec 500k</th>\n",
       "      <th>Doc2Vec All DG</th>\n",
       "      <th>LSTM</th>\n",
       "    </tr>\n",
       "  </thead>\n",
       "  <tbody>\n",
       "    <tr>\n",
       "      <th>0</th>\n",
       "      <td>0.928628</td>\n",
       "      <td>0.446128</td>\n",
       "      <td>0.467801</td>\n",
       "      <td>0.441075</td>\n",
       "      <td>0.811478</td>\n",
       "    </tr>\n",
       "    <tr>\n",
       "      <th>1</th>\n",
       "      <td>0.998287</td>\n",
       "      <td>0.928191</td>\n",
       "      <td>0.715638</td>\n",
       "      <td>0.696511</td>\n",
       "      <td>0.998257</td>\n",
       "    </tr>\n",
       "  </tbody>\n",
       "</table>\n",
       "</div>"
      ],
      "text/plain": [
       "   Gen_Model  Bag_of_Words  Doc2Vec 500k  Doc2Vec All DG      LSTM\n",
       "0   0.928628      0.446128      0.467801        0.441075  0.811478\n",
       "1   0.998287      0.928191      0.715638        0.696511  0.998257"
      ]
     },
     "execution_count": 27,
     "metadata": {},
     "output_type": "execute_result"
    }
   ],
   "source": [
    "dev_marginals_df = pd.DataFrame(\n",
    "    pd.np.array([\n",
    "        gen_model.marginals(label_matricies['dev']),\n",
    "        bow_model.predict_proba(dev_X)[:,1], \n",
    "        doc2vec_500k_dev_marginals_df['subset_2'],\n",
    "        doc2vec_all_pubmed_model.predict_proba(doc2vec_dev_X_all_DG)[:,1],\n",
    "        lstm_dev_marginals_df['1250,1000'].tolist()\n",
    "    ]).T, \n",
    "    columns=['Gen_Model', 'Bag_of_Words', 'Doc2Vec 500k', 'Doc2Vec All DG', 'LSTM']\n",
    ")\n",
    "dev_marginals_df.head(2)"
   ]
  },
  {
   "cell_type": "code",
   "execution_count": 28,
   "metadata": {
    "ExecuteTime": {
     "end_time": "2018-10-03T16:57:10.457747Z",
     "start_time": "2018-10-03T16:57:10.232939Z"
    }
   },
   "outputs": [
    {
     "data": {
      "image/png": "[encoded data removed]",
      "text/plain": [
       "<matplotlib.figure.Figure at 0x7f4d62b13fd0>"
      ]
     },
     "metadata": {},
     "output_type": "display_data"
    }
   ],
   "source": [
    "model_aucs = plot_curve(\n",
    "    dev_marginals_df, candidate_dfs['dev'].curated_dsh, \n",
    "    plot_title=\"Dev ROC\", model_type='curve', \n",
    "    figsize=(10,6), metric=\"ROC\"\n",
    ")"
   ]
  },
  {
   "cell_type": "code",
   "execution_count": 29,
   "metadata": {
    "ExecuteTime": {
     "end_time": "2018-10-03T16:57:10.485809Z",
     "start_time": "2018-10-03T16:57:10.459323Z"
    }
   },
   "outputs": [
    {
     "name": "stdout",
     "output_type": "stream",
     "text": [
      "mu: 378.000000, sigma: 61.991935\n"
     ]
    },
    {
     "data": {
      "text/html": [
       "<div>\n",
       "<style scoped>\n",
       "    .dataframe tbody tr th:only-of-type {\n",
       "        vertical-align: middle;\n",
       "    }\n",
       "\n",
       "    .dataframe tbody tr th {\n",
       "        vertical-align: top;\n",
       "    }\n",
       "\n",
       "    .dataframe thead th {\n",
       "        text-align: right;\n",
       "    }\n",
       "</style>\n",
       "<table border=\"1\" class=\"dataframe\">\n",
       "  <thead>\n",
       "    <tr style=\"text-align: right;\">\n",
       "      <th></th>\n",
       "      <th>auroc</th>\n",
       "      <th>u</th>\n",
       "      <th>z_u</th>\n",
       "      <th>p_value</th>\n",
       "    </tr>\n",
       "  </thead>\n",
       "  <tbody>\n",
       "    <tr>\n",
       "      <th>Gen_Model</th>\n",
       "      <td>0.584656</td>\n",
       "      <td>442.0</td>\n",
       "      <td>1.032392</td>\n",
       "      <td>0.150944</td>\n",
       "    </tr>\n",
       "    <tr>\n",
       "      <th>Bag_of_Words</th>\n",
       "      <td>0.611111</td>\n",
       "      <td>462.0</td>\n",
       "      <td>1.355015</td>\n",
       "      <td>0.087706</td>\n",
       "    </tr>\n",
       "    <tr>\n",
       "      <th>Doc2Vec 500k</th>\n",
       "      <td>0.750000</td>\n",
       "      <td>567.0</td>\n",
       "      <td>3.048784</td>\n",
       "      <td>0.001149</td>\n",
       "    </tr>\n",
       "    <tr>\n",
       "      <th>Doc2Vec All DG</th>\n",
       "      <td>0.555556</td>\n",
       "      <td>420.0</td>\n",
       "      <td>0.677507</td>\n",
       "      <td>0.249042</td>\n",
       "    </tr>\n",
       "    <tr>\n",
       "      <th>LSTM</th>\n",
       "      <td>0.738095</td>\n",
       "      <td>558.0</td>\n",
       "      <td>2.903604</td>\n",
       "      <td>0.001844</td>\n",
       "    </tr>\n",
       "  </tbody>\n",
       "</table>\n",
       "</div>"
      ],
      "text/plain": [
       "                   auroc      u       z_u   p_value\n",
       "Gen_Model       0.584656  442.0  1.032392  0.150944\n",
       "Bag_of_Words    0.611111  462.0  1.355015  0.087706\n",
       "Doc2Vec 500k    0.750000  567.0  3.048784  0.001149\n",
       "Doc2Vec All DG  0.555556  420.0  0.677507  0.249042\n",
       "LSTM            0.738095  558.0  2.903604  0.001844"
      ]
     },
     "execution_count": 29,
     "metadata": {},
     "output_type": "execute_result"
    }
   ],
   "source": [
    "get_auc_significant_stats(candidate_dfs['dev'], model_aucs)"
   ]
  },
  {
   "cell_type": "code",
   "execution_count": 30,
   "metadata": {
    "ExecuteTime": {
     "end_time": "2018-10-03T16:57:10.729697Z",
     "start_time": "2018-10-03T16:57:10.487272Z"
    }
   },
   "outputs": [
    {
     "data": {
      "text/html": [
       "<div>\n",
       "<style scoped>\n",
       "    .dataframe tbody tr th:only-of-type {\n",
       "        vertical-align: middle;\n",
       "    }\n",
       "\n",
       "    .dataframe tbody tr th {\n",
       "        vertical-align: top;\n",
       "    }\n",
       "\n",
       "    .dataframe thead th {\n",
       "        text-align: right;\n",
       "    }\n",
       "</style>\n",
       "<table border=\"1\" class=\"dataframe\">\n",
       "  <thead>\n",
       "    <tr style=\"text-align: right;\">\n",
       "      <th></th>\n",
       "      <th>Gen_Model</th>\n",
       "      <th>Bag_of_Words</th>\n",
       "      <th>Doc2Vec 500k</th>\n",
       "      <th>Doc2Vec All DG</th>\n",
       "      <th>LSTM</th>\n",
       "    </tr>\n",
       "  </thead>\n",
       "  <tbody>\n",
       "    <tr>\n",
       "      <th>0</th>\n",
       "      <td>0.984119</td>\n",
       "      <td>0.990336</td>\n",
       "      <td>0.558263</td>\n",
       "      <td>0.711989</td>\n",
       "      <td>0.995710</td>\n",
       "    </tr>\n",
       "    <tr>\n",
       "      <th>1</th>\n",
       "      <td>0.846896</td>\n",
       "      <td>0.899538</td>\n",
       "      <td>0.848081</td>\n",
       "      <td>0.476156</td>\n",
       "      <td>0.928504</td>\n",
       "    </tr>\n",
       "  </tbody>\n",
       "</table>\n",
       "</div>"
      ],
      "text/plain": [
       "   Gen_Model  Bag_of_Words  Doc2Vec 500k  Doc2Vec All DG      LSTM\n",
       "0   0.984119      0.990336      0.558263        0.711989  0.995710\n",
       "1   0.846896      0.899538      0.848081        0.476156  0.928504"
      ]
     },
     "execution_count": 30,
     "metadata": {},
     "output_type": "execute_result"
    }
   ],
   "source": [
    "test_marginals_df = pd.DataFrame(\n",
    "    pd.np.array([\n",
    "        gen_model.marginals(label_matricies['test']),\n",
    "        bow_model.best_estimator_.predict_proba(test_X)[:,1],\n",
    "        doc2vec_500k_test_marginals_df['subset_2'],\n",
    "        doc2vec_all_pubmed_model.best_estimator_.predict_proba(doc2vec_test_X_all_DG)[:,1],\n",
    "        lstm_test_marginals_df['1250,1000'].tolist()\n",
    "    ]).T, \n",
    "    columns=['Gen_Model', 'Bag_of_Words', 'Doc2Vec 500k', 'Doc2Vec All DG', 'LSTM']\n",
    ")\n",
    "test_marginals_df.head(2)"
   ]
  },
  {
   "cell_type": "code",
   "execution_count": 31,
   "metadata": {
    "ExecuteTime": {
     "end_time": "2018-10-03T16:57:10.956979Z",
     "start_time": "2018-10-03T16:57:10.731004Z"
    }
   },
   "outputs": [
    {
     "data": {
      "image/png": "[encoded data removed]",
      "text/plain": [
       "<matplotlib.figure.Figure at 0x7f4d62a609b0>"
      ]
     },
     "metadata": {},
     "output_type": "display_data"
    }
   ],
   "source": [
    "model_aucs = plot_curve(\n",
    "    test_marginals_df, candidate_dfs['test'].curated_dsh, \n",
    "    plot_title=\"Test ROC\", model_type='curve', \n",
    "    figsize=(10,6), metric=\"ROC\"\n",
    ")"
   ]
  },
  {
   "cell_type": "code",
   "execution_count": 32,
   "metadata": {
    "ExecuteTime": {
     "end_time": "2018-10-03T16:57:10.985035Z",
     "start_time": "2018-10-03T16:57:10.958323Z"
    }
   },
   "outputs": [
    {
     "name": "stdout",
     "output_type": "stream",
     "text": [
      "mu: 5224.500000, sigma: 428.635335\n"
     ]
    },
    {
     "data": {
      "text/html": [
       "<div>\n",
       "<style scoped>\n",
       "    .dataframe tbody tr th:only-of-type {\n",
       "        vertical-align: middle;\n",
       "    }\n",
       "\n",
       "    .dataframe tbody tr th {\n",
       "        vertical-align: top;\n",
       "    }\n",
       "\n",
       "    .dataframe thead th {\n",
       "        text-align: right;\n",
       "    }\n",
       "</style>\n",
       "<table border=\"1\" class=\"dataframe\">\n",
       "  <thead>\n",
       "    <tr style=\"text-align: right;\">\n",
       "      <th></th>\n",
       "      <th>auroc</th>\n",
       "      <th>u</th>\n",
       "      <th>z_u</th>\n",
       "      <th>p_value</th>\n",
       "    </tr>\n",
       "  </thead>\n",
       "  <tbody>\n",
       "    <tr>\n",
       "      <th>Gen_Model</th>\n",
       "      <td>0.637621</td>\n",
       "      <td>6662.5</td>\n",
       "      <td>3.354833</td>\n",
       "      <td>0.000397</td>\n",
       "    </tr>\n",
       "    <tr>\n",
       "      <th>Bag_of_Words</th>\n",
       "      <td>0.636042</td>\n",
       "      <td>6646.0</td>\n",
       "      <td>3.316339</td>\n",
       "      <td>0.000456</td>\n",
       "    </tr>\n",
       "    <tr>\n",
       "      <th>Doc2Vec 500k</th>\n",
       "      <td>0.569624</td>\n",
       "      <td>5952.0</td>\n",
       "      <td>1.697247</td>\n",
       "      <td>0.044825</td>\n",
       "    </tr>\n",
       "    <tr>\n",
       "      <th>Doc2Vec All DG</th>\n",
       "      <td>0.603024</td>\n",
       "      <td>6301.0</td>\n",
       "      <td>2.511459</td>\n",
       "      <td>0.006012</td>\n",
       "    </tr>\n",
       "    <tr>\n",
       "      <th>LSTM</th>\n",
       "      <td>0.615178</td>\n",
       "      <td>6428.0</td>\n",
       "      <td>2.807748</td>\n",
       "      <td>0.002494</td>\n",
       "    </tr>\n",
       "  </tbody>\n",
       "</table>\n",
       "</div>"
      ],
      "text/plain": [
       "                   auroc       u       z_u   p_value\n",
       "Gen_Model       0.637621  6662.5  3.354833  0.000397\n",
       "Bag_of_Words    0.636042  6646.0  3.316339  0.000456\n",
       "Doc2Vec 500k    0.569624  5952.0  1.697247  0.044825\n",
       "Doc2Vec All DG  0.603024  6301.0  2.511459  0.006012\n",
       "LSTM            0.615178  6428.0  2.807748  0.002494"
      ]
     },
     "execution_count": 32,
     "metadata": {},
     "output_type": "execute_result"
    }
   ],
   "source": [
    "get_auc_significant_stats(candidate_dfs['test'], model_aucs)"
   ]
  },
  {
   "cell_type": "code",
   "execution_count": 33,
   "metadata": {
    "ExecuteTime": {
     "end_time": "2018-10-03T16:57:11.212468Z",
     "start_time": "2018-10-03T16:57:10.986528Z"
    }
   },
   "outputs": [
    {
     "data": {
      "image/png": "[encoded data removed]",
      "text/plain": [
       "<matplotlib.figure.Figure at 0x7f4d629c5a20>"
      ]
     },
     "metadata": {},
     "output_type": "display_data"
    }
   ],
   "source": [
    "model_aucs = plot_curve(\n",
    "    test_marginals_df, candidate_dfs['test'].curated_dsh, \n",
    "    plot_title=\"Test PRC\", model_type='curve', \n",
    "    figsize=(10,6), metric=\"PR\"\n",
    ")"
   ]
  }
 ],
 "metadata": {
  "kernelspec": {
   "display_name": "Python [conda env:snorkeling]",
   "language": "python",
   "name": "conda-env-snorkeling-py"
  },
  "language_info": {
   "codemirror_mode": {
    "name": "ipython",
    "version": 3
   },
   "file_extension": ".py",
   "mimetype": "text/x-python",
   "name": "python",
   "nbconvert_exporter": "python",
   "pygments_lexer": "ipython3",
   "version": "3.6.4"
  }
 },
 "nbformat": 4,
 "nbformat_minor": 2
}
