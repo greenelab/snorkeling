{
 "cells": [
  {
   "cell_type": "markdown",
   "metadata": {},
   "source": [
    "# CoCoScore Implementation"
   ]
  },
  {
   "cell_type": "markdown",
   "metadata": {},
   "source": [
    "This notebook consists of implementing the [CoCoScore](https://www.biorxiv.org/content/10.1101/444398v1) literature model for comparison. We report performance as area under the precision recall curve (AUPR) and area under the receiver operating curve (AUROC). In both cases the greater the area the better the model is."
   ]
  },
  {
   "cell_type": "code",
   "execution_count": 1,
   "metadata": {
    "ExecuteTime": {
     "end_time": "2020-01-17T20:11:18.961494Z",
     "start_time": "2020-01-17T20:11:18.360408Z"
    }
   },
   "outputs": [],
   "source": [
    "%load_ext autoreload\n",
    "%autoreload 2\n",
    "%matplotlib inline\n",
    "\n",
    "from collections import defaultdict\n",
    "import os\n",
    "import sys\n",
    "\n",
    "sys.path.append(os.path.abspath('../../../../modules'))\n",
    "\n",
    "import pandas as pd\n",
    "import matplotlib.pyplot as plt\n",
    "from sklearn.metrics import roc_curve, auc, f1_score, precision_recall_curve, accuracy_score, confusion_matrix\n",
    "from tqdm import tqdm_notebook"
   ]
  },
  {
   "cell_type": "code",
   "execution_count": 2,
   "metadata": {
    "ExecuteTime": {
     "end_time": "2020-01-17T20:11:18.974901Z",
     "start_time": "2020-01-17T20:11:18.962920Z"
    }
   },
   "outputs": [],
   "source": [
    "from utils.notebook_utils.dataframe_helper import load_candidate_dataframes"
   ]
  },
  {
   "cell_type": "code",
   "execution_count": 3,
   "metadata": {
    "ExecuteTime": {
     "end_time": "2020-01-17T20:11:40.017485Z",
     "start_time": "2020-01-17T20:11:18.976575Z"
    }
   },
   "outputs": [
    {
     "data": {
      "text/html": [
       "<div>\n",
       "<style scoped>\n",
       "    .dataframe tbody tr th:only-of-type {\n",
       "        vertical-align: middle;\n",
       "    }\n",
       "\n",
       "    .dataframe tbody tr th {\n",
       "        vertical-align: top;\n",
       "    }\n",
       "\n",
       "    .dataframe thead th {\n",
       "        text-align: right;\n",
       "    }\n",
       "</style>\n",
       "<table border=\"1\" class=\"dataframe\">\n",
       "  <thead>\n",
       "    <tr style=\"text-align: right;\">\n",
       "      <th></th>\n",
       "      <th>entrez_gene_id</th>\n",
       "      <th>gene_symbol</th>\n",
       "      <th>doid_id</th>\n",
       "      <th>doid_name</th>\n",
       "      <th>sources</th>\n",
       "      <th>hetionet</th>\n",
       "      <th>n_sentences</th>\n",
       "      <th>has_sentence</th>\n",
       "      <th>partition_rank</th>\n",
       "      <th>split</th>\n",
       "      <th>candidate_id</th>\n",
       "      <th>sentence_id</th>\n",
       "      <th>text</th>\n",
       "      <th>sen_length</th>\n",
       "    </tr>\n",
       "  </thead>\n",
       "  <tbody>\n",
       "    <tr>\n",
       "      <th>0</th>\n",
       "      <td>1</td>\n",
       "      <td>A1BG</td>\n",
       "      <td>DOID:2531</td>\n",
       "      <td>hematologic cancer</td>\n",
       "      <td>NaN</td>\n",
       "      <td>0</td>\n",
       "      <td>8</td>\n",
       "      <td>1</td>\n",
       "      <td>0.8586</td>\n",
       "      <td>1</td>\n",
       "      <td>176680</td>\n",
       "      <td>2129459</td>\n",
       "      <td>The number of H antigen sites per single red c...</td>\n",
       "      <td>159</td>\n",
       "    </tr>\n",
       "    <tr>\n",
       "      <th>1</th>\n",
       "      <td>1</td>\n",
       "      <td>A1BG</td>\n",
       "      <td>DOID:2531</td>\n",
       "      <td>hematologic cancer</td>\n",
       "      <td>NaN</td>\n",
       "      <td>0</td>\n",
       "      <td>8</td>\n",
       "      <td>1</td>\n",
       "      <td>0.8586</td>\n",
       "      <td>1</td>\n",
       "      <td>176670</td>\n",
       "      <td>2129459</td>\n",
       "      <td>The number of H antigen sites per single red c...</td>\n",
       "      <td>159</td>\n",
       "    </tr>\n",
       "  </tbody>\n",
       "</table>\n",
       "</div>"
      ],
      "text/plain": [
       "   entrez_gene_id gene_symbol    doid_id           doid_name sources  \\\n",
       "0               1        A1BG  DOID:2531  hematologic cancer     NaN   \n",
       "1               1        A1BG  DOID:2531  hematologic cancer     NaN   \n",
       "\n",
       "   hetionet  n_sentences  has_sentence  partition_rank  split  candidate_id  \\\n",
       "0         0            8             1          0.8586      1        176680   \n",
       "1         0            8             1          0.8586      1        176670   \n",
       "\n",
       "   sentence_id                                               text  sen_length  \n",
       "0      2129459  The number of H antigen sites per single red c...         159  \n",
       "1      2129459  The number of H antigen sites per single red c...         159  "
      ]
     },
     "execution_count": 3,
     "metadata": {},
     "output_type": "execute_result"
    }
   ],
   "source": [
    "total_candidates_df = pd.read_csv(\"input/all_dag_candidates.tsv.xz\", sep=\"\\t\")\n",
    "total_candidates_df.head(2)"
   ]
  },
  {
   "cell_type": "code",
   "execution_count": 4,
   "metadata": {
    "ExecuteTime": {
     "end_time": "2020-01-17T20:11:40.031673Z",
     "start_time": "2020-01-17T20:11:40.019786Z"
    }
   },
   "outputs": [],
   "source": [
    "spreadsheet_names = {\n",
    "    'train': '../../data/sentences/sentence_labels_train.xlsx',\n",
    "    'dev': '../../data/sentences/sentence_labels_dev.xlsx',\n",
    "    'test': '../../data/sentences/sentence_labels_test.xlsx'\n",
    "}"
   ]
  },
  {
   "cell_type": "code",
   "execution_count": 5,
   "metadata": {
    "ExecuteTime": {
     "end_time": "2020-01-17T20:11:41.505881Z",
     "start_time": "2020-01-17T20:11:40.032869Z"
    }
   },
   "outputs": [
    {
     "name": "stdout",
     "output_type": "stream",
     "text": [
      "Size of train set: 300\n",
      "Size of dev set: 1000\n",
      "Size of test set: 1000\n"
     ]
    }
   ],
   "source": [
    "candidate_dfs = {\n",
    "    key:load_candidate_dataframes(spreadsheet_names[key], \"curated_dsh\")\n",
    "    for key in spreadsheet_names\n",
    "}\n",
    "\n",
    "for key in candidate_dfs:\n",
    "    print(\"Size of {} set: {}\".format(key, candidate_dfs[key].shape[0]))"
   ]
  },
  {
   "cell_type": "code",
   "execution_count": 6,
   "metadata": {
    "ExecuteTime": {
     "end_time": "2020-01-17T20:11:41.857986Z",
     "start_time": "2020-01-17T20:11:41.507389Z"
    }
   },
   "outputs": [
    {
     "data": {
      "text/html": [
       "<div>\n",
       "<style scoped>\n",
       "    .dataframe tbody tr th:only-of-type {\n",
       "        vertical-align: middle;\n",
       "    }\n",
       "\n",
       "    .dataframe tbody tr th {\n",
       "        vertical-align: top;\n",
       "    }\n",
       "\n",
       "    .dataframe thead th {\n",
       "        text-align: right;\n",
       "    }\n",
       "</style>\n",
       "<table border=\"1\" class=\"dataframe\">\n",
       "  <thead>\n",
       "    <tr style=\"text-align: right;\">\n",
       "      <th></th>\n",
       "      <th>0:0,1,2,3,4,5,6</th>\n",
       "      <th>candidate_id</th>\n",
       "    </tr>\n",
       "  </thead>\n",
       "  <tbody>\n",
       "    <tr>\n",
       "      <th>0</th>\n",
       "      <td>0.063069</td>\n",
       "      <td>21422</td>\n",
       "    </tr>\n",
       "    <tr>\n",
       "      <th>1</th>\n",
       "      <td>0.998302</td>\n",
       "      <td>21427</td>\n",
       "    </tr>\n",
       "  </tbody>\n",
       "</table>\n",
       "</div>"
      ],
      "text/plain": [
       "   0:0,1,2,3,4,5,6  candidate_id\n",
       "0         0.063069         21422\n",
       "1         0.998302         21427"
      ]
     },
     "execution_count": 6,
     "metadata": {},
     "output_type": "execute_result"
    }
   ],
   "source": [
    "distant_supervision_marginals = pd.read_csv(\"input/baseline_sampled.tsv.xz\", sep=\"\\t\")\n",
    "distant_supervision_marginals.head(2)"
   ]
  },
  {
   "cell_type": "code",
   "execution_count": 7,
   "metadata": {
    "ExecuteTime": {
     "end_time": "2020-01-17T20:12:17.000359Z",
     "start_time": "2020-01-17T20:11:41.859374Z"
    }
   },
   "outputs": [
    {
     "data": {
      "text/html": [
       "<div>\n",
       "<style scoped>\n",
       "    .dataframe tbody tr th:only-of-type {\n",
       "        vertical-align: middle;\n",
       "    }\n",
       "\n",
       "    .dataframe tbody tr th {\n",
       "        vertical-align: top;\n",
       "    }\n",
       "\n",
       "    .dataframe thead th {\n",
       "        text-align: right;\n",
       "    }\n",
       "</style>\n",
       "<table border=\"1\" class=\"dataframe\">\n",
       "  <thead>\n",
       "    <tr style=\"text-align: right;\">\n",
       "      <th></th>\n",
       "      <th>0</th>\n",
       "      <th>1</th>\n",
       "      <th>2</th>\n",
       "      <th>3</th>\n",
       "      <th>4</th>\n",
       "      <th>5</th>\n",
       "      <th>6</th>\n",
       "      <th>7</th>\n",
       "      <th>8</th>\n",
       "      <th>9</th>\n",
       "      <th>...</th>\n",
       "      <th>52</th>\n",
       "      <th>53</th>\n",
       "      <th>54</th>\n",
       "      <th>55</th>\n",
       "      <th>56</th>\n",
       "      <th>57</th>\n",
       "      <th>58</th>\n",
       "      <th>59</th>\n",
       "      <th>candidate_id</th>\n",
       "      <th>sen_length</th>\n",
       "    </tr>\n",
       "  </thead>\n",
       "  <tbody>\n",
       "    <tr>\n",
       "      <th>0</th>\n",
       "      <td>30</td>\n",
       "      <td>2451</td>\n",
       "      <td>3</td>\n",
       "      <td>8</td>\n",
       "      <td>2552</td>\n",
       "      <td>1130</td>\n",
       "      <td>8</td>\n",
       "      <td>564</td>\n",
       "      <td>3.0</td>\n",
       "      <td>3873.0</td>\n",
       "      <td>...</td>\n",
       "      <td>0.0</td>\n",
       "      <td>0.0</td>\n",
       "      <td>0.0</td>\n",
       "      <td>0.0</td>\n",
       "      <td>0.0</td>\n",
       "      <td>0.0</td>\n",
       "      <td>0.0</td>\n",
       "      <td>0.0</td>\n",
       "      <td>21421</td>\n",
       "      <td>43</td>\n",
       "    </tr>\n",
       "    <tr>\n",
       "      <th>1</th>\n",
       "      <td>8</td>\n",
       "      <td>3102</td>\n",
       "      <td>3</td>\n",
       "      <td>4</td>\n",
       "      <td>277</td>\n",
       "      <td>6</td>\n",
       "      <td>1364</td>\n",
       "      <td>202</td>\n",
       "      <td>203.0</td>\n",
       "      <td>8057.0</td>\n",
       "      <td>...</td>\n",
       "      <td>0.0</td>\n",
       "      <td>0.0</td>\n",
       "      <td>0.0</td>\n",
       "      <td>0.0</td>\n",
       "      <td>0.0</td>\n",
       "      <td>0.0</td>\n",
       "      <td>0.0</td>\n",
       "      <td>0.0</td>\n",
       "      <td>21422</td>\n",
       "      <td>18</td>\n",
       "    </tr>\n",
       "  </tbody>\n",
       "</table>\n",
       "<p>2 rows × 62 columns</p>\n",
       "</div>"
      ],
      "text/plain": [
       "    0     1  2  3     4     5     6    7      8       9  ...   52   53   54  \\\n",
       "0  30  2451  3  8  2552  1130     8  564    3.0  3873.0  ...  0.0  0.0  0.0   \n",
       "1   8  3102  3  4   277     6  1364  202  203.0  8057.0  ...  0.0  0.0  0.0   \n",
       "\n",
       "    55   56   57   58   59  candidate_id  sen_length  \n",
       "0  0.0  0.0  0.0  0.0  0.0         21421          43  \n",
       "1  0.0  0.0  0.0  0.0  0.0         21422          18  \n",
       "\n",
       "[2 rows x 62 columns]"
      ]
     },
     "execution_count": 7,
     "metadata": {},
     "output_type": "execute_result"
    }
   ],
   "source": [
    "all_embedded_dg_df = pd.read_csv(\"input/all_embedded_dg_sentences.tsv.xz\", sep=\"\\t\")\n",
    "all_embedded_dg_df.head(2)"
   ]
  },
  {
   "cell_type": "code",
   "execution_count": 8,
   "metadata": {
    "ExecuteTime": {
     "end_time": "2020-01-17T20:12:17.109850Z",
     "start_time": "2020-01-17T20:12:17.002458Z"
    }
   },
   "outputs": [
    {
     "data": {
      "text/html": [
       "<div>\n",
       "<style scoped>\n",
       "    .dataframe tbody tr th:only-of-type {\n",
       "        vertical-align: middle;\n",
       "    }\n",
       "\n",
       "    .dataframe tbody tr th {\n",
       "        vertical-align: top;\n",
       "    }\n",
       "\n",
       "    .dataframe thead th {\n",
       "        text-align: right;\n",
       "    }\n",
       "</style>\n",
       "<table border=\"1\" class=\"dataframe\">\n",
       "  <thead>\n",
       "    <tr style=\"text-align: right;\">\n",
       "      <th></th>\n",
       "      <th>word</th>\n",
       "      <th>index</th>\n",
       "    </tr>\n",
       "  </thead>\n",
       "  <tbody>\n",
       "    <tr>\n",
       "      <th>0</th>\n",
       "      <td>overexpression</td>\n",
       "      <td>2</td>\n",
       "    </tr>\n",
       "    <tr>\n",
       "      <th>1</th>\n",
       "      <td>of</td>\n",
       "      <td>3</td>\n",
       "    </tr>\n",
       "    <tr>\n",
       "      <th>2</th>\n",
       "      <td>~~[[2</td>\n",
       "      <td>4</td>\n",
       "    </tr>\n",
       "    <tr>\n",
       "      <th>3</th>\n",
       "      <td>shp1</td>\n",
       "      <td>5</td>\n",
       "    </tr>\n",
       "    <tr>\n",
       "      <th>4</th>\n",
       "      <td>2]]~~</td>\n",
       "      <td>6</td>\n",
       "    </tr>\n",
       "  </tbody>\n",
       "</table>\n",
       "</div>"
      ],
      "text/plain": [
       "             word  index\n",
       "0  overexpression      2\n",
       "1              of      3\n",
       "2           ~~[[2      4\n",
       "3            shp1      5\n",
       "4           2]]~~      6"
      ]
     },
     "execution_count": 8,
     "metadata": {},
     "output_type": "execute_result"
    }
   ],
   "source": [
    "word_dict = pd.read_csv(\"input/disease_associates_gene_word_dict.tsv\", sep=\"\\t\").assign(index=lambda x: x.index + 2)\n",
    "word_dict.head()"
   ]
  },
  {
   "cell_type": "code",
   "execution_count": 11,
   "metadata": {
    "ExecuteTime": {
     "end_time": "2020-01-17T20:13:50.394730Z",
     "start_time": "2020-01-17T20:13:50.173585Z"
    }
   },
   "outputs": [],
   "source": [
    "reverse_word_dict = dict(zip(word_dict['index'].values.tolist(), word_dict.word))\n",
    "\n",
    "train_marginal_dict = dict(zip(\n",
    "    distant_supervision_marginals.candidate_id, \n",
    "    distant_supervision_marginals[distant_supervision_marginals.columns[0]]\n",
    "))\n",
    "\n",
    "tune_marginal_dict = dict(zip(\n",
    "    candidate_dfs['dev'].candidate_id.values,\n",
    "    candidate_dfs['dev'].curated_dsh.values\n",
    "))\n",
    "\n",
    "\n",
    "test_marginal_dict = dict(zip(\n",
    "    candidate_dfs['test'].candidate_id.values,\n",
    "    candidate_dfs['test'].curated_dsh.values\n",
    "))"
   ]
  },
  {
   "cell_type": "code",
   "execution_count": 12,
   "metadata": {
    "ExecuteTime": {
     "end_time": "2020-01-17T20:30:14.274797Z",
     "start_time": "2020-01-17T20:14:07.583515Z"
    }
   },
   "outputs": [
    {
     "name": "stderr",
     "output_type": "stream",
     "text": [
      "/home/danich1/.local/lib/python3.6/site-packages/ipykernel_launcher.py:12: TqdmDeprecationWarning: This function will be removed in tqdm==5.0.0\n",
      "Please use `tqdm.notebook.tqdm` instead of `tqdm.tqdm_notebook`\n",
      "  if sys.path[0] == '':\n"
     ]
    },
    {
     "data": {
      "application/vnd.jupyter.widget-view+json": {
       "model_id": "1eb9622bb6da40a3b77bde59de08e6c4",
       "version_major": 2,
       "version_minor": 0
      },
      "text/plain": [
       "HBox(children=(IntProgress(value=1, bar_style='info', max=1), HTML(value='')))"
      ]
     },
     "metadata": {},
     "output_type": "display_data"
    },
    {
     "name": "stdout",
     "output_type": "stream",
     "text": [
      "3129733\n",
      "3213766\n",
      "3228428\n",
      "3286544\n",
      "3321817\n",
      "3440104\n",
      "3474638\n",
      "3579193\n",
      "3680330\n",
      "3698151\n",
      "3701848\n",
      "\n"
     ]
    }
   ],
   "source": [
    "data_rows = []\n",
    "entity_one_start = word_dict.query(\"word=='~~[[1'\")['index'].values[0]\n",
    "entity_one_end = word_dict.query(\"word=='1]]~~'\")['index'].values[0]\n",
    "\n",
    "entity_two_start = word_dict.query(\"word=='~~[[2'\")['index'].values[0]\n",
    "entity_two_end = word_dict.query(\"word=='2]]~~'\")['index'].values[0]\n",
    "\n",
    "with open(\"output/optimization_data/training.txt\", \"w\") as train:\n",
    "    with open(\"output/optimization_data/tune.txt\", \"w\") as tune:\n",
    "        with open(\"output/optimization_data/test.txt\", \"w\") as test:\n",
    "            with open(\"output/all_dg_sentences.txt\", \"w\") as all_sen:\n",
    "                for idx, sen_df in tqdm_notebook(all_embedded_dg_df.iterrows()):\n",
    "                    sen = sen_df.iloc[:-2].tolist()\n",
    "                    try:\n",
    "                        # remove entity mentions for coco_score\n",
    "                        del sen[sen.index(entity_one_start): sen.index(entity_one_end)+1]\n",
    "                        del sen[sen.index(entity_two_start): sen.index(entity_two_end)+1]\n",
    "\n",
    "                        embedded_sen = list(map(\n",
    "                            lambda x: reverse_word_dict[x] if x in reverse_word_dict else \"UNK\" if x == 1 else \"\",\n",
    "                            sen\n",
    "                        ))\n",
    "\n",
    "                        cand_id = int(sen_df.iloc[-2])\n",
    "                        if cand_id in train_marginal_dict:\n",
    "                            train.write(\n",
    "                                f\"__label__{'1' if train_marginal_dict[cand_id]> 0.5 else '0'}\\t\" +\n",
    "                                \"\\t\".join(embedded_sen)+ \n",
    "                                \"\\n\"\n",
    "                            )\n",
    "                        if cand_id in tune_marginal_dict:\n",
    "                            tune.write(\n",
    "                                f\"__label__{int(tune_marginal_dict[cand_id])}\\t\" +\n",
    "                                \"\\t\".join(embedded_sen)+ \n",
    "                                \"\\n\"\n",
    "                            )\n",
    "                        if cand_id in test_marginal_dict:\n",
    "                            test.write(\n",
    "                                f\"__label__{int(test_marginal_dict[cand_id])}\\t\" +\n",
    "                                \"\\t\".join(embedded_sen)+ \n",
    "                                \"\\n\"\n",
    "                            )\n",
    "\n",
    "                        all_sen.write(\n",
    "                                f\"__label__{cand_id}\\t\" +\n",
    "                                \"\\t\".join(embedded_sen) + \n",
    "                                \"\\n\"\n",
    "                            )\n",
    "\n",
    "                    except ValueError:\n",
    "                        print(idx)\n"
   ]
  },
  {
   "cell_type": "code",
   "execution_count": 13,
   "metadata": {
    "ExecuteTime": {
     "end_time": "2020-01-17T20:34:42.619747Z",
     "start_time": "2020-01-17T20:31:45.383829Z"
    }
   },
   "outputs": [
    {
     "data": {
      "text/plain": [
       "0"
      ]
     },
     "execution_count": 13,
     "metadata": {},
     "output_type": "execute_result"
    }
   ],
   "source": [
    "os.system(\n",
    "    \"../../../../../fastText/fasttext supervised \" + \n",
    "    \"-input output/optimization_data/training.txt -output output/dag_model \" +\n",
    "    \"-lr 0.005 -epoch 50 -dim 300 -wordNgrams 2\" \n",
    ")\n",
    "\n",
    "os.system(\n",
    "    \"../../../../../fastText/fasttext predict-prob \"+\n",
    "    \"output/dag_model.bin output/optimization_data/tune.txt \"+\n",
    "    \" > output/optimized_predictions/tune_predictions.tsv\"\n",
    ")\n",
    "\n",
    "os.system(\n",
    "    \"../../../../../fastText/fasttext predict-prob \"+\n",
    "    \"output/dag_model.bin output/optimization_data/test.txt \"+\n",
    "    \" > output/optimized_predictions/test_predictions.tsv\"\n",
    ")"
   ]
  },
  {
   "cell_type": "code",
   "execution_count": 14,
   "metadata": {
    "ExecuteTime": {
     "end_time": "2020-01-17T20:34:44.583420Z",
     "start_time": "2020-01-17T20:34:44.564915Z"
    }
   },
   "outputs": [
    {
     "data": {
      "text/plain": [
       "0.5138218447856373"
      ]
     },
     "execution_count": 14,
     "metadata": {},
     "output_type": "execute_result"
    }
   ],
   "source": [
    "tune_df = (\n",
    "    pd.read_csv(\n",
    "        'output/optimized_predictions/tune_predictions.tsv', \n",
    "        header=None, sep=\" \", \n",
    "        names=[\"label\", \"pred\"]\n",
    "    )\n",
    "    .assign(label=lambda x: x.label.apply(lambda sen: sen[-1]))\n",
    ")\n",
    "\n",
    "precision, recall, _ = precision_recall_curve(\n",
    "    tune_df.label.astype(int).values,\n",
    "    1-tune_df.pred.values\n",
    ")\n",
    "auc(recall, precision)"
   ]
  },
  {
   "cell_type": "code",
   "execution_count": 15,
   "metadata": {
    "ExecuteTime": {
     "end_time": "2020-01-17T20:34:46.718086Z",
     "start_time": "2020-01-17T20:34:46.584603Z"
    }
   },
   "outputs": [
    {
     "data": {
      "text/plain": [
       "[<matplotlib.lines.Line2D at 0x7f9f5f51e8d0>]"
      ]
     },
     "execution_count": 15,
     "metadata": {},
     "output_type": "execute_result"
    },
    {
     "data": {
      "image/png": "[encoded data removed]",
      "text/plain": [
       "<Figure size 432x288 with 1 Axes>"
      ]
     },
     "metadata": {
      "needs_background": "light"
     },
     "output_type": "display_data"
    }
   ],
   "source": [
    "plt.plot(recall, precision)"
   ]
  },
  {
   "cell_type": "code",
   "execution_count": 16,
   "metadata": {
    "ExecuteTime": {
     "end_time": "2020-01-17T20:34:48.819521Z",
     "start_time": "2020-01-17T20:34:48.805988Z"
    }
   },
   "outputs": [
    {
     "data": {
      "text/plain": [
       "0.5561735377911848"
      ]
     },
     "execution_count": 16,
     "metadata": {},
     "output_type": "execute_result"
    }
   ],
   "source": [
    "fpr, tpr, _ = roc_curve(\n",
    "    tune_df.label.astype(int).values,\n",
    "    1-tune_df.pred.values\n",
    ")\n",
    "auc(fpr, tpr)"
   ]
  },
  {
   "cell_type": "code",
   "execution_count": 17,
   "metadata": {
    "ExecuteTime": {
     "end_time": "2020-01-17T20:34:51.045093Z",
     "start_time": "2020-01-17T20:34:50.909594Z"
    }
   },
   "outputs": [
    {
     "data": {
      "text/plain": [
       "[<matplotlib.lines.Line2D at 0x7f9f60398c18>]"
      ]
     },
     "execution_count": 17,
     "metadata": {},
     "output_type": "execute_result"
    },
    {
     "data": {
      "image/png": "[encoded data removed]",
      "text/plain": [
       "<Figure size 432x288 with 1 Axes>"
      ]
     },
     "metadata": {
      "needs_background": "light"
     },
     "output_type": "display_data"
    }
   ],
   "source": [
    "plt.plot(fpr, tpr)"
   ]
  },
  {
   "cell_type": "code",
   "execution_count": 18,
   "metadata": {
    "ExecuteTime": {
     "end_time": "2020-01-17T20:35:41.020994Z",
     "start_time": "2020-01-17T20:34:53.101952Z"
    }
   },
   "outputs": [
    {
     "data": {
      "text/plain": [
       "0"
      ]
     },
     "execution_count": 18,
     "metadata": {},
     "output_type": "execute_result"
    }
   ],
   "source": [
    "os.system(\n",
    "    \"../../../../../fastText/fasttext predict-prob \"+\n",
    "    \"output/dag_model.bin output/all_dg_sentences.txt \"+\n",
    "    \"> output/all_dg_sentences_predictions.tsv\"\n",
    ")"
   ]
  },
  {
   "cell_type": "code",
   "execution_count": 21,
   "metadata": {
    "ExecuteTime": {
     "end_time": "2020-01-17T20:35:59.810678Z",
     "start_time": "2020-01-17T20:35:57.601911Z"
    }
   },
   "outputs": [
    {
     "data": {
      "text/html": [
       "<div>\n",
       "<style scoped>\n",
       "    .dataframe tbody tr th:only-of-type {\n",
       "        vertical-align: middle;\n",
       "    }\n",
       "\n",
       "    .dataframe tbody tr th {\n",
       "        vertical-align: top;\n",
       "    }\n",
       "\n",
       "    .dataframe thead th {\n",
       "        text-align: right;\n",
       "    }\n",
       "</style>\n",
       "<table border=\"1\" class=\"dataframe\">\n",
       "  <thead>\n",
       "    <tr style=\"text-align: right;\">\n",
       "      <th></th>\n",
       "      <th>label</th>\n",
       "      <th>coco_pred</th>\n",
       "      <th>candidate_id</th>\n",
       "    </tr>\n",
       "  </thead>\n",
       "  <tbody>\n",
       "    <tr>\n",
       "      <th>0</th>\n",
       "      <td>__label__0</td>\n",
       "      <td>0.442621</td>\n",
       "      <td>21421</td>\n",
       "    </tr>\n",
       "    <tr>\n",
       "      <th>1</th>\n",
       "      <td>__label__0</td>\n",
       "      <td>0.046653</td>\n",
       "      <td>21422</td>\n",
       "    </tr>\n",
       "  </tbody>\n",
       "</table>\n",
       "</div>"
      ],
      "text/plain": [
       "        label  coco_pred  candidate_id\n",
       "0  __label__0   0.442621         21421\n",
       "1  __label__0   0.046653         21422"
      ]
     },
     "execution_count": 21,
     "metadata": {},
     "output_type": "execute_result"
    }
   ],
   "source": [
    "predictions_df = (\n",
    "    pd.read_csv(\n",
    "        \"output/all_dg_sentences_predictions.tsv\", \n",
    "        header=None, sep=\" \",\n",
    "        names=[\"label\", \"coco_pred\"]\n",
    "    )\n",
    "    .assign(\n",
    "        candidate_id=(\n",
    "            all_embedded_dg_df\n",
    "            .drop([\n",
    "                3129733,3213766,3228428,3286544,\n",
    "                3321817,3440104,3474638,3579193,\n",
    "                3680330,3698151,3701848]\n",
    "            )\n",
    "            .candidate_id\n",
    "            .values\n",
    "            .tolist()\n",
    "        )\n",
    "    )\n",
    "    .assign(coco_pred=lambda x: 1 - x.coco_pred)\n",
    "    .assign(coco_pred=lambda x: x.coco_pred.clip(0,1) + 1e-5)\n",
    ")\n",
    "predictions_df.head(2)"
   ]
  },
  {
   "cell_type": "code",
   "execution_count": 22,
   "metadata": {
    "ExecuteTime": {
     "end_time": "2020-01-17T20:36:04.992996Z",
     "start_time": "2020-01-17T20:36:03.560287Z"
    }
   },
   "outputs": [
    {
     "data": {
      "text/html": [
       "<div>\n",
       "<style scoped>\n",
       "    .dataframe tbody tr th:only-of-type {\n",
       "        vertical-align: middle;\n",
       "    }\n",
       "\n",
       "    .dataframe tbody tr th {\n",
       "        vertical-align: top;\n",
       "    }\n",
       "\n",
       "    .dataframe thead th {\n",
       "        text-align: right;\n",
       "    }\n",
       "</style>\n",
       "<table border=\"1\" class=\"dataframe\">\n",
       "  <thead>\n",
       "    <tr style=\"text-align: right;\">\n",
       "      <th></th>\n",
       "      <th>doid_id</th>\n",
       "      <th>entrez_gene_id</th>\n",
       "      <th>candidate_id</th>\n",
       "      <th>coco_pred</th>\n",
       "    </tr>\n",
       "  </thead>\n",
       "  <tbody>\n",
       "    <tr>\n",
       "      <th>0</th>\n",
       "      <td>DOID:2531</td>\n",
       "      <td>1</td>\n",
       "      <td>1843691</td>\n",
       "      <td>0.459594</td>\n",
       "    </tr>\n",
       "    <tr>\n",
       "      <th>1</th>\n",
       "      <td>DOID:2531</td>\n",
       "      <td>1</td>\n",
       "      <td>2106410</td>\n",
       "      <td>0.256847</td>\n",
       "    </tr>\n",
       "  </tbody>\n",
       "</table>\n",
       "</div>"
      ],
      "text/plain": [
       "     doid_id  entrez_gene_id  candidate_id  coco_pred\n",
       "0  DOID:2531               1       1843691   0.459594\n",
       "1  DOID:2531               1       2106410   0.256847"
      ]
     },
     "execution_count": 22,
     "metadata": {},
     "output_type": "execute_result"
    }
   ],
   "source": [
    "final_pred_df = (\n",
    "    total_candidates_df\n",
    "    [[\"doid_id\", \"entrez_gene_id\", \"candidate_id\"]]\n",
    "    .merge(predictions_df[[\"coco_pred\", \"candidate_id\"]])\n",
    ")\n",
    "final_pred_df.head(2)"
   ]
  },
  {
   "cell_type": "code",
   "execution_count": 23,
   "metadata": {
    "ExecuteTime": {
     "end_time": "2020-01-17T20:36:05.264240Z",
     "start_time": "2020-01-17T20:36:04.994980Z"
    }
   },
   "outputs": [
    {
     "data": {
      "text/html": [
       "<div>\n",
       "<style scoped>\n",
       "    .dataframe tbody tr th:only-of-type {\n",
       "        vertical-align: middle;\n",
       "    }\n",
       "\n",
       "    .dataframe tbody tr th {\n",
       "        vertical-align: top;\n",
       "    }\n",
       "\n",
       "    .dataframe thead th {\n",
       "        text-align: right;\n",
       "    }\n",
       "</style>\n",
       "<table border=\"1\" class=\"dataframe\">\n",
       "  <thead>\n",
       "    <tr style=\"text-align: right;\">\n",
       "      <th></th>\n",
       "      <th>doid_id</th>\n",
       "      <th>entrez_gene_id</th>\n",
       "      <th>coco_pred</th>\n",
       "    </tr>\n",
       "  </thead>\n",
       "  <tbody>\n",
       "    <tr>\n",
       "      <th>0</th>\n",
       "      <td>DOID:0050156</td>\n",
       "      <td>2</td>\n",
       "      <td>0.096369</td>\n",
       "    </tr>\n",
       "    <tr>\n",
       "      <th>1</th>\n",
       "      <td>DOID:0050156</td>\n",
       "      <td>16</td>\n",
       "      <td>1.103194</td>\n",
       "    </tr>\n",
       "  </tbody>\n",
       "</table>\n",
       "</div>"
      ],
      "text/plain": [
       "        doid_id  entrez_gene_id  coco_pred\n",
       "0  DOID:0050156               2   0.096369\n",
       "1  DOID:0050156              16   1.103194"
      ]
     },
     "execution_count": 23,
     "metadata": {},
     "output_type": "execute_result"
    }
   ],
   "source": [
    "added_scores_df = (\n",
    "    final_pred_df\n",
    "    .groupby([\"doid_id\", \"entrez_gene_id\"])\n",
    "    .aggregate({\"coco_pred\": 'sum'})\n",
    "    .reset_index()\n",
    ")\n",
    "added_scores_df.head(2)"
   ]
  },
  {
   "cell_type": "code",
   "execution_count": 26,
   "metadata": {
    "ExecuteTime": {
     "end_time": "2020-01-17T20:36:46.457186Z",
     "start_time": "2020-01-17T20:36:40.698065Z"
    }
   },
   "outputs": [
    {
     "data": {
      "text/html": [
       "<div>\n",
       "<style scoped>\n",
       "    .dataframe tbody tr th:only-of-type {\n",
       "        vertical-align: middle;\n",
       "    }\n",
       "\n",
       "    .dataframe tbody tr th {\n",
       "        vertical-align: top;\n",
       "    }\n",
       "\n",
       "    .dataframe thead th {\n",
       "        text-align: right;\n",
       "    }\n",
       "</style>\n",
       "<table border=\"1\" class=\"dataframe\">\n",
       "  <thead>\n",
       "    <tr style=\"text-align: right;\">\n",
       "      <th></th>\n",
       "      <th>doid_id</th>\n",
       "      <th>entrez_gene_id</th>\n",
       "      <th>coco_pred</th>\n",
       "      <th>final_score</th>\n",
       "    </tr>\n",
       "  </thead>\n",
       "  <tbody>\n",
       "    <tr>\n",
       "      <th>0</th>\n",
       "      <td>DOID:0050156</td>\n",
       "      <td>2</td>\n",
       "      <td>0.096369</td>\n",
       "      <td>0.112354</td>\n",
       "    </tr>\n",
       "    <tr>\n",
       "      <th>1</th>\n",
       "      <td>DOID:0050156</td>\n",
       "      <td>16</td>\n",
       "      <td>1.103194</td>\n",
       "      <td>8.867530</td>\n",
       "    </tr>\n",
       "  </tbody>\n",
       "</table>\n",
       "</div>"
      ],
      "text/plain": [
       "        doid_id  entrez_gene_id  coco_pred  final_score\n",
       "0  DOID:0050156               2   0.096369     0.112354\n",
       "1  DOID:0050156              16   1.103194     8.867530"
      ]
     },
     "execution_count": 26,
     "metadata": {},
     "output_type": "execute_result"
    }
   ],
   "source": [
    "total_score = added_scores_df.coco_pred.sum()\n",
    "disease_scores = added_scores_df.groupby(\"doid_id\").agg({\"coco_pred\":\"sum\"}).reset_index()\n",
    "disease_scores = dict(zip(disease_scores.doid_id, disease_scores.coco_pred))\n",
    "gene_scores = added_scores_df.groupby(\"entrez_gene_id\").agg({\"coco_pred\":\"sum\"}).reset_index()\n",
    "gene_scores = dict(zip(gene_scores.entrez_gene_id, gene_scores.coco_pred))\n",
    "\n",
    "alpha=0.65\n",
    "\n",
    "final_scores_df = added_scores_df.assign(\n",
    "    final_score=(\n",
    "        added_scores_df.apply(\n",
    "            lambda x: pd.np.exp(\n",
    "                    alpha*pd.np.log(x['coco_pred']) + (1-alpha)*(\n",
    "                    pd.np.log(x['coco_pred']) + pd.np.log(total_score) - \n",
    "                    pd.np.log(disease_scores[x['doid_id']]) - pd.np.log(gene_scores[x['entrez_gene_id']])\n",
    "                )\n",
    "            ), \n",
    "            axis=1\n",
    "        )\n",
    "    )\n",
    ")\n",
    "final_scores_df.head(2)"
   ]
  },
  {
   "cell_type": "code",
   "execution_count": 27,
   "metadata": {
    "ExecuteTime": {
     "end_time": "2020-01-17T20:36:49.298610Z",
     "start_time": "2020-01-17T20:36:48.561408Z"
    }
   },
   "outputs": [
    {
     "data": {
      "text/html": [
       "<div>\n",
       "<style scoped>\n",
       "    .dataframe tbody tr th:only-of-type {\n",
       "        vertical-align: middle;\n",
       "    }\n",
       "\n",
       "    .dataframe tbody tr th {\n",
       "        vertical-align: top;\n",
       "    }\n",
       "\n",
       "    .dataframe thead th {\n",
       "        text-align: right;\n",
       "    }\n",
       "</style>\n",
       "<table border=\"1\" class=\"dataframe\">\n",
       "  <thead>\n",
       "    <tr style=\"text-align: right;\">\n",
       "      <th></th>\n",
       "      <th>doid_id</th>\n",
       "      <th>entrez_gene_id</th>\n",
       "      <th>coco_pred</th>\n",
       "      <th>final_score</th>\n",
       "      <th>hetionet</th>\n",
       "    </tr>\n",
       "  </thead>\n",
       "  <tbody>\n",
       "    <tr>\n",
       "      <th>0</th>\n",
       "      <td>DOID:0050156</td>\n",
       "      <td>2</td>\n",
       "      <td>0.096369</td>\n",
       "      <td>0.112354</td>\n",
       "      <td>0</td>\n",
       "    </tr>\n",
       "    <tr>\n",
       "      <th>2</th>\n",
       "      <td>DOID:0050156</td>\n",
       "      <td>16</td>\n",
       "      <td>1.103194</td>\n",
       "      <td>8.867530</td>\n",
       "      <td>0</td>\n",
       "    </tr>\n",
       "  </tbody>\n",
       "</table>\n",
       "</div>"
      ],
      "text/plain": [
       "        doid_id  entrez_gene_id  coco_pred  final_score  hetionet\n",
       "0  DOID:0050156               2   0.096369     0.112354         0\n",
       "2  DOID:0050156              16   1.103194     8.867530         0"
      ]
     },
     "execution_count": 27,
     "metadata": {},
     "output_type": "execute_result"
    }
   ],
   "source": [
    "score_with_labels_df = (\n",
    "    final_scores_df\n",
    "    .merge(\n",
    "        total_candidates_df[[\"entrez_gene_id\", \"doid_id\", \"hetionet\"]],\n",
    "        on=[\"entrez_gene_id\", \"doid_id\"]\n",
    "    )\n",
    "    .drop_duplicates()\n",
    ")\n",
    "score_with_labels_df.head(2)"
   ]
  },
  {
   "cell_type": "code",
   "execution_count": 28,
   "metadata": {
    "ExecuteTime": {
     "end_time": "2020-01-17T20:36:51.964946Z",
     "start_time": "2020-01-17T20:36:51.415333Z"
    }
   },
   "outputs": [],
   "source": [
    "(\n",
    "    score_with_labels_df\n",
    "    .drop(\"coco_pred\", axis=1)\n",
    "    .rename({\"final_score\": \"coco_score\"})\n",
    "    .to_csv(\"output/dg_edge_prediction_cocoscore.tsv\", sep=\"\\t\", index=False)\n",
    ")"
   ]
  },
  {
   "cell_type": "code",
   "execution_count": 29,
   "metadata": {
    "ExecuteTime": {
     "end_time": "2020-01-17T20:36:54.089741Z",
     "start_time": "2020-01-17T20:36:54.031463Z"
    }
   },
   "outputs": [
    {
     "name": "stdout",
     "output_type": "stream",
     "text": [
      "0.825075467995092\n",
      "0.4414667737189867\n"
     ]
    }
   ],
   "source": [
    "fpr, tpr, _ = roc_curve(score_with_labels_df.hetionet, score_with_labels_df.final_score)\n",
    "print(auc(fpr, tpr))\n",
    "\n",
    "precision, recall, _ = precision_recall_curve(score_with_labels_df.hetionet, score_with_labels_df.final_score)\n",
    "print(auc(recall, precision))"
   ]
  }
 ],
 "metadata": {
  "kernelspec": {
   "display_name": "Python [conda env:snorkeling]",
   "language": "python",
   "name": "conda-env-snorkeling-py"
  },
  "language_info": {
   "codemirror_mode": {
    "name": "ipython",
    "version": 3
   },
   "file_extension": ".py",
   "mimetype": "text/x-python",
   "name": "python",
   "nbconvert_exporter": "python",
   "pygments_lexer": "ipython3",
   "version": "3.6.7"
  },
  "toc": {
   "base_numbering": 1,
   "nav_menu": {},
   "number_sections": true,
   "sideBar": true,
   "skip_h1_title": false,
   "title_cell": "Table of Contents",
   "title_sidebar": "Contents",
   "toc_cell": false,
   "toc_position": {},
   "toc_section_display": true,
   "toc_window_display": false
  },
  "varInspector": {
   "cols": {
    "lenName": 16,
    "lenType": 16,
    "lenVar": 40
   },
   "kernels_config": {
    "python": {
     "delete_cmd_postfix": "",
     "delete_cmd_prefix": "del ",
     "library": "var_list.py",
     "varRefreshCmd": "print(var_dic_list())"
    },
    "r": {
     "delete_cmd_postfix": ") ",
     "delete_cmd_prefix": "rm(",
     "library": "var_list.r",
     "varRefreshCmd": "cat(var_dic_list()) "
    }
   },
   "types_to_exclude": [
    "module",
    "function",
    "builtin_function_or_method",
    "instance",
    "_Feature"
   ],
   "window_display": false
  }
 },
 "nbformat": 4,
 "nbformat_minor": 2
}
