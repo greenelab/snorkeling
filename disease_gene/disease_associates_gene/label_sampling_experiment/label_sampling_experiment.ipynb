{
 "cells": [
  {
   "cell_type": "markdown",
   "metadata": {},
   "source": [
    "# Using Labels from Different Relation Types to Predict Disease Associates Gene Sentences"
   ]
  },
  {
   "cell_type": "markdown",
   "metadata": {},
   "source": [
    "This notebook is designed to predict the disease associates gene (DaG) relation. The first step in this process is to load our pre-labeled annotation matricies (train, dev, and test). These matriceis contain sentences as the rows and the label function output as the columns (features). The working hypothesis here is there are shared information (i.e. similar keywords, same kind of sentence structure) between different relations, which in turn should aid in predicting disease associates gene relations. \n",
    "\n",
    "After loading the matricies, the next step is to train a generative model that will estimate the likelihood of the positive class: $P(\\hat{Y}=1 \\mid \\text{label functions})$. The generative model does this by estimating the parameter $\\mu$. This parameter represents the probability of a label function given the true class: $ P(\\text{label function={0,1,2}} \\mid Y={1 (+) / 0 (-)})$. Once $\\mu$ has been estimated, calculating the likelihood becomes: $P(\\hat{Y}=1 \\mid \\text{label functions}) = (\\prod_{i=1}^{N} P(\\text{label function}_{i} = 1 \\mid \\text{Y} = 1)) * P(Y = 1)$\n",
    "\n",
    "Note: This process doesn't involve any sentence context, so the only information used here are categorical output."
   ]
  },
  {
   "cell_type": "markdown",
   "metadata": {},
   "source": [
    "## Set up the environment and load the data"
   ]
  },
  {
   "cell_type": "code",
   "execution_count": 1,
   "metadata": {
    "ExecuteTime": {
     "end_time": "2019-11-05T21:25:32.555412Z",
     "start_time": "2019-11-05T21:25:31.424051Z"
    }
   },
   "outputs": [],
   "source": [
    "%load_ext autoreload\n",
    "%autoreload 2\n",
    "%matplotlib inline\n",
    "\n",
    "import glob\n",
    "import sys\n",
    "import os\n",
    "sys.path.append(os.path.abspath('../../../modules'))\n",
    "\n",
    "import pandas as pd\n",
    "from sklearn.metrics import (\n",
    "    precision_recall_curve, \n",
    "    precision_recall_fscore_support, \n",
    "    confusion_matrix, \n",
    "    auc, roc_curve, \n",
    "    average_precision_score\n",
    ")\n",
    "from utils.notebook_utils.train_model_helper import (\n",
    "    get_model_performance, \n",
    "    train_model_random_lfs, \n",
    "    sample_lfs\n",
    ")\n",
    "from utils.notebook_utils.dataframe_helper import load_candidate_dataframes\n",
    "\n",
    "import plotnine\n",
    "import seaborn as sns\n",
    "import logging\n",
    "\n",
    "logging.basicConfig(filename='logs.log', level='INFO')"
   ]
  },
  {
   "cell_type": "code",
   "execution_count": 2,
   "metadata": {
    "ExecuteTime": {
     "end_time": "2019-11-05T21:25:36.003907Z",
     "start_time": "2019-11-05T21:25:32.556685Z"
    }
   },
   "outputs": [],
   "source": [
    "label_destinations = {\n",
    "    'train':\"../data/label_matricies/train_sparse_matrix.tsv.xz\",\n",
    "    'dev':\"../data/label_matricies/dev_sparse_matrix.tsv.xz\",\n",
    "    'test':\"../data/label_matricies/test_sparse_matrix.tsv.xz\"\n",
    "}\n",
    "label_matricies = {\n",
    "    key:pd.read_csv(label_destinations[key], sep=\"\\t\").to_sparse()\n",
    "    for key in label_destinations\n",
    "}"
   ]
  },
  {
   "cell_type": "code",
   "execution_count": 36,
   "metadata": {
    "ExecuteTime": {
     "end_time": "2019-11-08T17:48:19.316719Z",
     "start_time": "2019-11-08T17:48:18.736270Z"
    }
   },
   "outputs": [],
   "source": [
    "# Majority of this code was using snorkel metal\n",
    "# Metal use the following encoding for class representation: 0 - abstain, 1 - positive, class 2 - negative class\n",
    "# Upgraded snorkel changed their encoding to be: -1 - abstain, 0 - negative class, 1 - positive class\n",
    "# To save time I'm just converting the label matricies to match the new coding scheme\n",
    "label_matricies['train'] = label_matricies['train'].fillna(-2).to_dense().replace({-1:0, -2:-1})\n",
    "label_matricies['dev'] = label_matricies['dev'].fillna(-2).to_dense().replace({-1:0, -2:-1})\n",
    "label_matricies['test'] = label_matricies['test'].fillna(-2).to_dense().replace({-1:0, -2:-1})"
   ]
  },
  {
   "cell_type": "code",
   "execution_count": 4,
   "metadata": {
    "ExecuteTime": {
     "end_time": "2019-11-05T21:25:45.766261Z",
     "start_time": "2019-11-05T21:25:45.650280Z"
    }
   },
   "outputs": [],
   "source": [
    "correct_L = label_matricies['train'].drop(\"candidate_id\", axis=1).to_numpy()\n",
    "correct_L_dev = label_matricies['dev'].drop(\"candidate_id\", axis=1).to_numpy()\n",
    "correct_L_test = label_matricies['test'].drop(\"candidate_id\", axis=1).to_numpy()"
   ]
  },
  {
   "cell_type": "code",
   "execution_count": 5,
   "metadata": {
    "ExecuteTime": {
     "end_time": "2019-11-05T21:25:45.784350Z",
     "start_time": "2019-11-05T21:25:45.767377Z"
    }
   },
   "outputs": [],
   "source": [
    "spreadsheet_names = {\n",
    "    #'train': 'data/sentences/sentence_labels_train.xlsx',\n",
    "    'dev': '../data/sentences/sentence_labels_dev.xlsx',\n",
    "    'test': '../data/sentences/sentence_labels_test.xlsx'\n",
    "}"
   ]
  },
  {
   "cell_type": "code",
   "execution_count": 6,
   "metadata": {
    "ExecuteTime": {
     "end_time": "2019-11-05T21:25:47.789368Z",
     "start_time": "2019-11-05T21:25:45.785692Z"
    },
    "scrolled": true
   },
   "outputs": [
    {
     "name": "stdout",
     "output_type": "stream",
     "text": [
      "Size of dev set: 1000\n",
      "Size of test set: 1000\n"
     ]
    }
   ],
   "source": [
    "candidate_dfs = {\n",
    "    key:load_candidate_dataframes(spreadsheet_names[key], \"curated_dsh\")\n",
    "    for key in spreadsheet_names\n",
    "}\n",
    "\n",
    "for key in candidate_dfs:\n",
    "    print(\"Size of {} set: {}\".format(key, candidate_dfs[key].shape[0]))"
   ]
  },
  {
   "cell_type": "markdown",
   "metadata": {},
   "source": [
    "## Train the baseline"
   ]
  },
  {
   "cell_type": "markdown",
   "metadata": {},
   "source": [
    "The baseline model for this experiment is the generative model trained on databases alone (distant supervision). A common solution towards the lack of labels problem is to use databases to effectively label sentences. The caveat is the approach doesn't take sentence context into account, which results in high recall but low precision of targeted relations. By training this model we expect that performance will be modest (~0.5 +/- 0.1 AUROC)."
   ]
  },
  {
   "cell_type": "code",
   "execution_count": 7,
   "metadata": {
    "ExecuteTime": {
     "end_time": "2019-11-05T21:25:52.422369Z",
     "start_time": "2019-11-05T21:25:47.790905Z"
    }
   },
   "outputs": [
    {
     "data": {
      "application/vnd.jupyter.widget-view+json": {
       "model_id": "09d8fdda24be45e58e7f94ac0bb771f9",
       "version_major": 2,
       "version_minor": 0
      },
      "text/plain": [
       "HBox(children=(IntProgress(value=1, bar_style='info', max=1), HTML(value='')))"
      ]
     },
     "metadata": {},
     "output_type": "display_data"
    },
    {
     "name": "stdout",
     "output_type": "stream",
     "text": [
      "\n"
     ]
    }
   ],
   "source": [
    "baseline_index = list(range(0,7))\n",
    "train_grid_results, dev_grid_results, test_grid_results, models = (\n",
    "    train_model_random_lfs(\n",
    "        [baseline_index], correct_L, \n",
    "        correct_L_dev, candidate_dfs['dev'].curated_dsh, correct_L_test, \n",
    "        pd.np.round(pd.np.linspace(0.01, 5, num=5), 2)\n",
    "    )\n",
    ")"
   ]
  },
  {
   "cell_type": "code",
   "execution_count": 8,
   "metadata": {
    "ExecuteTime": {
     "end_time": "2019-11-05T21:26:05.136245Z",
     "start_time": "2019-11-05T21:25:52.424449Z"
    }
   },
   "outputs": [],
   "source": [
    "(\n",
    "    pd.DataFrame({\n",
    "        key:train_grid_results[key][:,1] \n",
    "        for key in train_grid_results\n",
    "    })\n",
    "    .assign(candidate_id=label_matricies['train'].candidate_id.values)\n",
    "    .to_csv(f\"output/DaG/marginals/baseline_sampled.tsv.xz\", compression=\"xz\", sep=\"\\t\", index=False)\n",
    ")"
   ]
  },
  {
   "cell_type": "code",
   "execution_count": 9,
   "metadata": {
    "ExecuteTime": {
     "end_time": "2019-11-05T21:26:05.163742Z",
     "start_time": "2019-11-05T21:26:05.137779Z"
    }
   },
   "outputs": [
    {
     "data": {
      "text/html": [
       "<div>\n",
       "<style scoped>\n",
       "    .dataframe tbody tr th:only-of-type {\n",
       "        vertical-align: middle;\n",
       "    }\n",
       "\n",
       "    .dataframe tbody tr th {\n",
       "        vertical-align: top;\n",
       "    }\n",
       "\n",
       "    .dataframe thead th {\n",
       "        text-align: right;\n",
       "    }\n",
       "</style>\n",
       "<table border=\"1\" class=\"dataframe\">\n",
       "  <thead>\n",
       "    <tr style=\"text-align: right;\">\n",
       "      <th></th>\n",
       "      <th>aupr</th>\n",
       "      <th>auroc</th>\n",
       "      <th>lf_num</th>\n",
       "      <th>lf_sample</th>\n",
       "    </tr>\n",
       "  </thead>\n",
       "  <tbody>\n",
       "    <tr>\n",
       "      <th>0</th>\n",
       "      <td>0.42281</td>\n",
       "      <td>0.49407</td>\n",
       "      <td>0</td>\n",
       "      <td>0:0,1,2,3,4,5,6</td>\n",
       "    </tr>\n",
       "  </tbody>\n",
       "</table>\n",
       "</div>"
      ],
      "text/plain": [
       "      aupr    auroc  lf_num        lf_sample\n",
       "0  0.42281  0.49407       0  0:0,1,2,3,4,5,6"
      ]
     },
     "execution_count": 9,
     "metadata": {},
     "output_type": "execute_result"
    }
   ],
   "source": [
    "dev_baseline_df = get_model_performance(candidate_dfs['dev'].curated_dsh, dev_grid_results, num_lfs=0)\n",
    "dev_baseline_df.head(2)"
   ]
  },
  {
   "cell_type": "code",
   "execution_count": 10,
   "metadata": {
    "ExecuteTime": {
     "end_time": "2019-11-05T21:26:05.225872Z",
     "start_time": "2019-11-05T21:26:05.165233Z"
    }
   },
   "outputs": [
    {
     "data": {
      "text/html": [
       "<div>\n",
       "<style scoped>\n",
       "    .dataframe tbody tr th:only-of-type {\n",
       "        vertical-align: middle;\n",
       "    }\n",
       "\n",
       "    .dataframe tbody tr th {\n",
       "        vertical-align: top;\n",
       "    }\n",
       "\n",
       "    .dataframe thead th {\n",
       "        text-align: right;\n",
       "    }\n",
       "</style>\n",
       "<table border=\"1\" class=\"dataframe\">\n",
       "  <thead>\n",
       "    <tr style=\"text-align: right;\">\n",
       "      <th></th>\n",
       "      <th>aupr</th>\n",
       "      <th>auroc</th>\n",
       "      <th>lf_num</th>\n",
       "      <th>lf_sample</th>\n",
       "    </tr>\n",
       "  </thead>\n",
       "  <tbody>\n",
       "    <tr>\n",
       "      <th>0</th>\n",
       "      <td>0.434471</td>\n",
       "      <td>0.571414</td>\n",
       "      <td>0</td>\n",
       "      <td>0:0,1,2,3,4,5,6</td>\n",
       "    </tr>\n",
       "  </tbody>\n",
       "</table>\n",
       "</div>"
      ],
      "text/plain": [
       "       aupr     auroc  lf_num        lf_sample\n",
       "0  0.434471  0.571414       0  0:0,1,2,3,4,5,6"
      ]
     },
     "execution_count": 10,
     "metadata": {},
     "output_type": "execute_result"
    }
   ],
   "source": [
    "test_baseline_df = get_model_performance(candidate_dfs['test'].curated_dsh, test_grid_results, num_lfs=0)\n",
    "test_baseline_df.head(2)"
   ]
  },
  {
   "cell_type": "markdown",
   "metadata": {
    "ExecuteTime": {
     "end_time": "2019-10-11T18:40:30.516087Z",
     "start_time": "2019-10-11T18:40:30.495488Z"
    }
   },
   "source": [
    "# Disease Associates Gene Sources Predicts Disease Associates Gene Sentences"
   ]
  },
  {
   "cell_type": "markdown",
   "metadata": {},
   "source": [
    "Here we are using label functions, designed to predict the Disease Associates Gene relation, to predict Disease Associates Gene sentences. To estimate the performance boost over the baseline model, we implement a label function sampling appoach. The sampling approach works as follows: \n",
    "1. randomly sample X amount of label functions that are not within the database category\n",
    "2. incorporate the sampled label functions with the database label functions\n",
    "3. train the generative model on the combined resources\n",
    "4. use the generative model to predict the tuning set and test set\n",
    "5. Report performance in terms of AUROC and AUPR\n",
    "6. repeat the above process 50 times for each sample size (1, 6, 11, 16, all).\n",
    "\n",
    "Given that these label functions are designed to predict the given relation, we expect that adding more label functions will increase in performance. This means that auroc when sampling 1 label function should be greater than the auroc of the baseline. This trend should continue when sampling 6, 11, 16 and then all of the label functions."
   ]
  },
  {
   "cell_type": "code",
   "execution_count": 11,
   "metadata": {
    "ExecuteTime": {
     "end_time": "2019-11-05T21:26:05.266612Z",
     "start_time": "2019-11-05T21:26:05.226877Z"
    }
   },
   "outputs": [],
   "source": [
    "dag_start = 7\n",
    "dag_end = 37\n",
    "\n",
    "#Spaced out number of sampels including total\n",
    "size_of_samples = [1,6,11,16,dag_end-dag_start]\n",
    "number_of_samples = 50\n",
    "dag_lf_range = range(dag_start, dag_end)"
   ]
  },
  {
   "cell_type": "code",
   "execution_count": 12,
   "metadata": {
    "ExecuteTime": {
     "end_time": "2019-11-05T21:26:05.322627Z",
     "start_time": "2019-11-05T21:26:05.268156Z"
    }
   },
   "outputs": [],
   "source": [
    "sampled_lfs_dict = {\n",
    "    sample_size:(\n",
    "        sample_lfs(\n",
    "            list(dag_lf_range),\n",
    "            len(list(dag_lf_range)), \n",
    "            sample_size, \n",
    "            number_of_samples, \n",
    "            random_state=100\n",
    "        )\n",
    "    )\n",
    "    for sample_size in size_of_samples\n",
    "}"
   ]
  },
  {
   "cell_type": "code",
   "execution_count": 13,
   "metadata": {
    "ExecuteTime": {
     "end_time": "2019-11-05T22:10:25.558108Z",
     "start_time": "2019-11-05T21:26:05.324030Z"
    }
   },
   "outputs": [
    {
     "data": {
      "application/vnd.jupyter.widget-view+json": {
       "model_id": "a29a675501894cf99edce27f2ec0297c",
       "version_major": 2,
       "version_minor": 0
      },
      "text/plain": [
       "HBox(children=(IntProgress(value=1, bar_style='info', max=1), HTML(value='')))"
      ]
     },
     "metadata": {},
     "output_type": "display_data"
    },
    {
     "name": "stdout",
     "output_type": "stream",
     "text": [
      "\n"
     ]
    },
    {
     "data": {
      "application/vnd.jupyter.widget-view+json": {
       "model_id": "1ce4b7cb707b4a6d9132d387feb07182",
       "version_major": 2,
       "version_minor": 0
      },
      "text/plain": [
       "HBox(children=(IntProgress(value=1, bar_style='info', max=1), HTML(value='')))"
      ]
     },
     "metadata": {},
     "output_type": "display_data"
    },
    {
     "name": "stdout",
     "output_type": "stream",
     "text": [
      "\n"
     ]
    },
    {
     "data": {
      "application/vnd.jupyter.widget-view+json": {
       "model_id": "185781d4f98241ea9b0144080e982fb1",
       "version_major": 2,
       "version_minor": 0
      },
      "text/plain": [
       "HBox(children=(IntProgress(value=1, bar_style='info', max=1), HTML(value='')))"
      ]
     },
     "metadata": {},
     "output_type": "display_data"
    },
    {
     "name": "stdout",
     "output_type": "stream",
     "text": [
      "\n"
     ]
    },
    {
     "data": {
      "application/vnd.jupyter.widget-view+json": {
       "model_id": "f682017c2f554e9ea56690f5545c7254",
       "version_major": 2,
       "version_minor": 0
      },
      "text/plain": [
       "HBox(children=(IntProgress(value=1, bar_style='info', max=1), HTML(value='')))"
      ]
     },
     "metadata": {},
     "output_type": "display_data"
    },
    {
     "name": "stdout",
     "output_type": "stream",
     "text": [
      "\n"
     ]
    },
    {
     "data": {
      "application/vnd.jupyter.widget-view+json": {
       "model_id": "1291d94bd7c54da088fb990a00efb347",
       "version_major": 2,
       "version_minor": 0
      },
      "text/plain": [
       "HBox(children=(IntProgress(value=1, bar_style='info', max=1), HTML(value='')))"
      ]
     },
     "metadata": {},
     "output_type": "display_data"
    },
    {
     "name": "stdout",
     "output_type": "stream",
     "text": [
      "\n"
     ]
    }
   ],
   "source": [
    "dev_records = []\n",
    "test_records = []\n",
    "for num_lf in sampled_lfs_dict:\n",
    "    train_grid_results, dev_grid_results, test_grid_results, models = (\n",
    "        train_model_random_lfs(\n",
    "            [baseline_index + sample for sample in sampled_lfs_dict[num_lf]],\n",
    "            correct_L, correct_L_dev, candidate_dfs['dev'].curated_dsh,\n",
    "            correct_L_test, pd.np.round(pd.np.linspace(0.01, 5, num=5), 2)\n",
    "        )\n",
    "    )\n",
    "    \n",
    "    (\n",
    "        pd.DataFrame({key:train_grid_results[key][:,1] for key in train_grid_results})\n",
    "        .assign(candidate_id=label_matricies['train'].candidate_id.values)\n",
    "        .to_csv(f\"output/DaG/marginals/{num_lf}_sampled_train.tsv.xz\", compression=\"xz\", index=False, sep=\"\\t\")\n",
    "    )\n",
    "    (\n",
    "        pd.DataFrame({key:dev_grid_results[key][:,1] for key in dev_grid_results})\n",
    "        .to_csv(f\"output/DaG/marginals/{num_lf}_sampled_dev.tsv\", index=False, sep=\"\\t\")\n",
    "    )\n",
    "    (\n",
    "        pd.DataFrame({key:test_grid_results[key][:,1] for key in test_grid_results})\n",
    "        .to_csv(f\"output/DaG/marginals/{num_lf}_sampled_test.tsv\", index=False, sep=\"\\t\")\n",
    "    )\n",
    "    \n",
    "    (\n",
    "        pd.DataFrame({key:models[key].get_weights() for key in models})\n",
    "        .to_csv(f\"output/DaG/weights/{num_lf}_sampled_weights.tsv\", index=False, sep=\"\\t\")\n",
    "    )\n",
    "    \n",
    "    dev_records.append(get_model_performance(candidate_dfs['dev'].curated_dsh, dev_grid_results, num_lf))\n",
    "    test_records.append(get_model_performance(candidate_dfs['test'].curated_dsh, test_grid_results, num_lf))"
   ]
  },
  {
   "cell_type": "code",
   "execution_count": 14,
   "metadata": {
    "ExecuteTime": {
     "end_time": "2019-11-05T22:10:25.585051Z",
     "start_time": "2019-11-05T22:10:25.559305Z"
    }
   },
   "outputs": [
    {
     "data": {
      "text/html": [
       "<div>\n",
       "<style scoped>\n",
       "    .dataframe tbody tr th:only-of-type {\n",
       "        vertical-align: middle;\n",
       "    }\n",
       "\n",
       "    .dataframe tbody tr th {\n",
       "        vertical-align: top;\n",
       "    }\n",
       "\n",
       "    .dataframe thead th {\n",
       "        text-align: right;\n",
       "    }\n",
       "</style>\n",
       "<table border=\"1\" class=\"dataframe\">\n",
       "  <thead>\n",
       "    <tr style=\"text-align: right;\">\n",
       "      <th></th>\n",
       "      <th>aupr</th>\n",
       "      <th>auroc</th>\n",
       "      <th>lf_num</th>\n",
       "      <th>lf_sample</th>\n",
       "    </tr>\n",
       "  </thead>\n",
       "  <tbody>\n",
       "    <tr>\n",
       "      <th>0</th>\n",
       "      <td>0.422810</td>\n",
       "      <td>0.494070</td>\n",
       "      <td>0</td>\n",
       "      <td>0:0,1,2,3,4,5,6</td>\n",
       "    </tr>\n",
       "    <tr>\n",
       "      <th>1</th>\n",
       "      <td>0.425031</td>\n",
       "      <td>0.495031</td>\n",
       "      <td>1</td>\n",
       "      <td>0:0,1,2,3,4,5,6,22</td>\n",
       "    </tr>\n",
       "  </tbody>\n",
       "</table>\n",
       "</div>"
      ],
      "text/plain": [
       "       aupr     auroc  lf_num           lf_sample\n",
       "0  0.422810  0.494070       0     0:0,1,2,3,4,5,6\n",
       "1  0.425031  0.495031       1  0:0,1,2,3,4,5,6,22"
      ]
     },
     "execution_count": 14,
     "metadata": {},
     "output_type": "execute_result"
    }
   ],
   "source": [
    "dev_full_results_df = pd.concat([dev_baseline_df] + dev_records).reset_index(drop=True)\n",
    "dev_full_results_df.to_csv(\"output/DaG/results/dev_sampled_results.tsv\", index=False, sep=\"\\t\")\n",
    "dev_full_results_df.head(2)"
   ]
  },
  {
   "cell_type": "code",
   "execution_count": 43,
   "metadata": {
    "ExecuteTime": {
     "end_time": "2019-11-08T18:30:24.359668Z",
     "start_time": "2019-11-08T18:30:24.083862Z"
    }
   },
   "outputs": [
    {
     "data": {
      "text/plain": [
       "<matplotlib.axes._subplots.AxesSubplot at 0x7f877ce6c7b8>"
      ]
     },
     "execution_count": 43,
     "metadata": {},
     "output_type": "execute_result"
    },
    {
     "data": {
      "image/png": "[encoded data removed]",
      "text/plain": [
       "<Figure size 432x288 with 1 Axes>"
      ]
     },
     "metadata": {
      "needs_background": "light"
     },
     "output_type": "display_data"
    }
   ],
   "source": [
    "sns.pointplot(x='lf_num', y='auroc', data=dev_full_results_df)"
   ]
  },
  {
   "cell_type": "code",
   "execution_count": 44,
   "metadata": {
    "ExecuteTime": {
     "end_time": "2019-11-08T18:30:24.654919Z",
     "start_time": "2019-11-08T18:30:24.361763Z"
    },
    "scrolled": true
   },
   "outputs": [
    {
     "data": {
      "text/plain": [
       "<matplotlib.axes._subplots.AxesSubplot at 0x7f877cc55ba8>"
      ]
     },
     "execution_count": 44,
     "metadata": {},
     "output_type": "execute_result"
    },
    {
     "data": {
      "image/png": "[encoded data removed]",
      "text/plain": [
       "<Figure size 432x288 with 1 Axes>"
      ]
     },
     "metadata": {
      "needs_background": "light"
     },
     "output_type": "display_data"
    }
   ],
   "source": [
    "sns.pointplot(x='lf_num', y='aupr', data=dev_full_results_df)"
   ]
  },
  {
   "cell_type": "code",
   "execution_count": 15,
   "metadata": {
    "ExecuteTime": {
     "end_time": "2019-11-05T22:10:25.661595Z",
     "start_time": "2019-11-05T22:10:25.586463Z"
    }
   },
   "outputs": [
    {
     "data": {
      "text/html": [
       "<div>\n",
       "<style scoped>\n",
       "    .dataframe tbody tr th:only-of-type {\n",
       "        vertical-align: middle;\n",
       "    }\n",
       "\n",
       "    .dataframe tbody tr th {\n",
       "        vertical-align: top;\n",
       "    }\n",
       "\n",
       "    .dataframe thead th {\n",
       "        text-align: right;\n",
       "    }\n",
       "</style>\n",
       "<table border=\"1\" class=\"dataframe\">\n",
       "  <thead>\n",
       "    <tr style=\"text-align: right;\">\n",
       "      <th></th>\n",
       "      <th>aupr</th>\n",
       "      <th>auroc</th>\n",
       "      <th>lf_num</th>\n",
       "      <th>lf_sample</th>\n",
       "    </tr>\n",
       "  </thead>\n",
       "  <tbody>\n",
       "    <tr>\n",
       "      <th>0</th>\n",
       "      <td>0.434471</td>\n",
       "      <td>0.571414</td>\n",
       "      <td>0</td>\n",
       "      <td>0:0,1,2,3,4,5,6</td>\n",
       "    </tr>\n",
       "    <tr>\n",
       "      <th>1</th>\n",
       "      <td>0.435350</td>\n",
       "      <td>0.573275</td>\n",
       "      <td>1</td>\n",
       "      <td>0:0,1,2,3,4,5,6,22</td>\n",
       "    </tr>\n",
       "  </tbody>\n",
       "</table>\n",
       "</div>"
      ],
      "text/plain": [
       "       aupr     auroc  lf_num           lf_sample\n",
       "0  0.434471  0.571414       0     0:0,1,2,3,4,5,6\n",
       "1  0.435350  0.573275       1  0:0,1,2,3,4,5,6,22"
      ]
     },
     "execution_count": 15,
     "metadata": {},
     "output_type": "execute_result"
    }
   ],
   "source": [
    "test_full_results_df = pd.concat([test_baseline_df] + test_records).reset_index(drop=True)\n",
    "test_full_results_df.to_csv(\"output/DaG/results/test_sampled_results.tsv\", index=False, sep=\"\\t\")\n",
    "test_full_results_df.head(2)"
   ]
  },
  {
   "cell_type": "code",
   "execution_count": 45,
   "metadata": {
    "ExecuteTime": {
     "end_time": "2019-11-08T18:30:27.596431Z",
     "start_time": "2019-11-08T18:30:27.321502Z"
    }
   },
   "outputs": [
    {
     "data": {
      "text/plain": [
       "<matplotlib.axes._subplots.AxesSubplot at 0x7f877cb6abe0>"
      ]
     },
     "execution_count": 45,
     "metadata": {},
     "output_type": "execute_result"
    },
    {
     "data": {
      "image/png": "[encoded data removed]",
      "text/plain": [
       "<Figure size 432x288 with 1 Axes>"
      ]
     },
     "metadata": {
      "needs_background": "light"
     },
     "output_type": "display_data"
    }
   ],
   "source": [
    "sns.pointplot(x='lf_num', y='auroc', data=test_full_results_df)"
   ]
  },
  {
   "cell_type": "code",
   "execution_count": 46,
   "metadata": {
    "ExecuteTime": {
     "end_time": "2019-11-08T18:30:27.960216Z",
     "start_time": "2019-11-08T18:30:27.598510Z"
    }
   },
   "outputs": [
    {
     "data": {
      "text/plain": [
       "<matplotlib.axes._subplots.AxesSubplot at 0x7f877cd1f1d0>"
      ]
     },
     "execution_count": 46,
     "metadata": {},
     "output_type": "execute_result"
    },
    {
     "data": {
      "image/png": "[encoded data removed]",
      "text/plain": [
       "<Figure size 432x288 with 1 Axes>"
      ]
     },
     "metadata": {
      "needs_background": "light"
     },
     "output_type": "display_data"
    }
   ],
   "source": [
    "sns.pointplot(x='lf_num', y='aupr', data=dev_full_results_df)"
   ]
  },
  {
   "cell_type": "markdown",
   "metadata": {
    "ExecuteTime": {
     "end_time": "2019-10-11T18:40:30.516087Z",
     "start_time": "2019-10-11T18:40:30.495488Z"
    }
   },
   "source": [
    "# Compound Treats Disease Sources Predicts Disease Associates Gene Sentences"
   ]
  },
  {
   "cell_type": "markdown",
   "metadata": {},
   "source": [
    "Here we are using label functions, designed to predict the Compond treats Disease relation, to predict Disease Associates Gene sentences. To estimate the performance boost over the baseline model, we implement a label function sampling appoach. The sampling approach works as follows: \n",
    "1. randomly sample X amount of label functions that are not within the database category\n",
    "2. incorporate the sampled label functions with the database label functions\n",
    "3. train the generative model on the combined resources\n",
    "4. use the generative model to predict the tuning set and test set\n",
    "5. Report performance in terms of AUROC and AUPR\n",
    "6. repeat the above process 50 times for each sample size (1, 6, 11, 16, all).\n",
    "\n",
    "Given that these label functions are not designed to predict the given relation, we expect that adding more label functions will decrease in performance. This means that auroc when sampling 1 label function should be less than the auroc of the baseline. This trend should continue when sampling 6, 11, 16 and then all of the label functions."
   ]
  },
  {
   "cell_type": "code",
   "execution_count": 16,
   "metadata": {
    "ExecuteTime": {
     "end_time": "2019-11-05T22:10:25.723100Z",
     "start_time": "2019-11-05T22:10:25.662788Z"
    }
   },
   "outputs": [],
   "source": [
    "ctd_start = 37\n",
    "ctd_end = 59\n",
    "\n",
    "#Spaced out number of sampels including total\n",
    "size_of_samples = [1,6,11,16,ctd_end-ctd_start]\n",
    "number_of_samples = 50\n",
    "ctd_lf_range = range(ctd_start, ctd_end)"
   ]
  },
  {
   "cell_type": "code",
   "execution_count": 17,
   "metadata": {
    "ExecuteTime": {
     "end_time": "2019-11-05T22:10:25.819534Z",
     "start_time": "2019-11-05T22:10:25.727376Z"
    }
   },
   "outputs": [],
   "source": [
    "sampled_lfs_dict = {\n",
    "    sample_size:(\n",
    "        sample_lfs(\n",
    "            list(ctd_lf_range),\n",
    "            len(list(ctd_lf_range)), \n",
    "            sample_size, \n",
    "            number_of_samples, \n",
    "            random_state=100\n",
    "        )\n",
    "    )\n",
    "    for sample_size in size_of_samples\n",
    "}"
   ]
  },
  {
   "cell_type": "code",
   "execution_count": 18,
   "metadata": {
    "ExecuteTime": {
     "end_time": "2019-11-05T22:46:24.737396Z",
     "start_time": "2019-11-05T22:10:25.823848Z"
    }
   },
   "outputs": [
    {
     "data": {
      "application/vnd.jupyter.widget-view+json": {
       "model_id": "c4fb4296e22a477ebee36994b4e09ac6",
       "version_major": 2,
       "version_minor": 0
      },
      "text/plain": [
       "HBox(children=(IntProgress(value=1, bar_style='info', max=1), HTML(value='')))"
      ]
     },
     "metadata": {},
     "output_type": "display_data"
    },
    {
     "name": "stdout",
     "output_type": "stream",
     "text": [
      "\n"
     ]
    },
    {
     "name": "stderr",
     "output_type": "stream",
     "text": [
      "/home/danich1/anaconda2/envs/snorkel_advanced/lib/python3.6/site-packages/snorkel/labeling/model/label_model.py:358: RuntimeWarning: divide by zero encountered in true_divide\n",
      "  return np.clip(accs / self.coverage, 1e-6, 1.0)\n"
     ]
    },
    {
     "data": {
      "application/vnd.jupyter.widget-view+json": {
       "model_id": "d0acfed2fef9438cafbf2612bf49a83d",
       "version_major": 2,
       "version_minor": 0
      },
      "text/plain": [
       "HBox(children=(IntProgress(value=1, bar_style='info', max=1), HTML(value='')))"
      ]
     },
     "metadata": {},
     "output_type": "display_data"
    },
    {
     "name": "stdout",
     "output_type": "stream",
     "text": [
      "\n"
     ]
    },
    {
     "name": "stderr",
     "output_type": "stream",
     "text": [
      "/home/danich1/anaconda2/envs/snorkel_advanced/lib/python3.6/site-packages/snorkel/labeling/model/label_model.py:358: RuntimeWarning: divide by zero encountered in true_divide\n",
      "  return np.clip(accs / self.coverage, 1e-6, 1.0)\n"
     ]
    },
    {
     "data": {
      "application/vnd.jupyter.widget-view+json": {
       "model_id": "ec54ac156c1442919246602d67a34fe0",
       "version_major": 2,
       "version_minor": 0
      },
      "text/plain": [
       "HBox(children=(IntProgress(value=1, bar_style='info', max=1), HTML(value='')))"
      ]
     },
     "metadata": {},
     "output_type": "display_data"
    },
    {
     "name": "stdout",
     "output_type": "stream",
     "text": [
      "\n"
     ]
    },
    {
     "name": "stderr",
     "output_type": "stream",
     "text": [
      "/home/danich1/anaconda2/envs/snorkel_advanced/lib/python3.6/site-packages/snorkel/labeling/model/label_model.py:358: RuntimeWarning: divide by zero encountered in true_divide\n",
      "  return np.clip(accs / self.coverage, 1e-6, 1.0)\n"
     ]
    },
    {
     "data": {
      "application/vnd.jupyter.widget-view+json": {
       "model_id": "f09e890439844570bdf0ef4ad03413cf",
       "version_major": 2,
       "version_minor": 0
      },
      "text/plain": [
       "HBox(children=(IntProgress(value=1, bar_style='info', max=1), HTML(value='')))"
      ]
     },
     "metadata": {},
     "output_type": "display_data"
    },
    {
     "name": "stdout",
     "output_type": "stream",
     "text": [
      "\n"
     ]
    },
    {
     "name": "stderr",
     "output_type": "stream",
     "text": [
      "/home/danich1/anaconda2/envs/snorkel_advanced/lib/python3.6/site-packages/snorkel/labeling/model/label_model.py:358: RuntimeWarning: divide by zero encountered in true_divide\n",
      "  return np.clip(accs / self.coverage, 1e-6, 1.0)\n"
     ]
    },
    {
     "data": {
      "application/vnd.jupyter.widget-view+json": {
       "model_id": "8d3c72c316674053bdaa8a8b7ef791f8",
       "version_major": 2,
       "version_minor": 0
      },
      "text/plain": [
       "HBox(children=(IntProgress(value=1, bar_style='info', max=1), HTML(value='')))"
      ]
     },
     "metadata": {},
     "output_type": "display_data"
    },
    {
     "name": "stdout",
     "output_type": "stream",
     "text": [
      "\n"
     ]
    },
    {
     "name": "stderr",
     "output_type": "stream",
     "text": [
      "/home/danich1/anaconda2/envs/snorkel_advanced/lib/python3.6/site-packages/snorkel/labeling/model/label_model.py:358: RuntimeWarning: divide by zero encountered in true_divide\n",
      "  return np.clip(accs / self.coverage, 1e-6, 1.0)\n"
     ]
    }
   ],
   "source": [
    "dev_records = []\n",
    "test_records = []\n",
    "for num_lf in sampled_lfs_dict:\n",
    "    train_grid_results, dev_grid_results, test_grid_results, models = (\n",
    "        train_model_random_lfs(\n",
    "            [baseline_index + sample for sample in sampled_lfs_dict[num_lf]],\n",
    "            correct_L, correct_L_dev, candidate_dfs['dev'].curated_dsh, \n",
    "            correct_L_test,pd.np.round(pd.np.linspace(0.01, 5, num=5), 2)\n",
    "        )\n",
    "    )\n",
    "    \n",
    "    (\n",
    "        pd.DataFrame({key:train_grid_results[key][:,1] for key in train_grid_results})\n",
    "        .assign(candidate_id=label_matricies['train'].candidate_id.values)\n",
    "        .to_csv(f\"output/CtD/marginals/{num_lf}_sampled_train.tsv.xz\", compression=\"xz\", index=False, sep=\"\\t\")\n",
    "    )\n",
    "    (\n",
    "        pd.DataFrame({key:dev_grid_results[key][:,1] for key in dev_grid_results})\n",
    "        .to_csv(f\"output/CtD/marginals/{num_lf}_sampled_dev.tsv\", index=False, sep=\"\\t\")\n",
    "    )\n",
    "    (\n",
    "        pd.DataFrame({key:test_grid_results[key][:,1] for key in test_grid_results})\n",
    "        .to_csv(f\"output/CtD/marginals/{num_lf}_sampled_test.tsv\", index=False, sep=\"\\t\")\n",
    "    )\n",
    "    \n",
    "    (\n",
    "        pd.DataFrame({key:models[key].get_weights() for key in models})\n",
    "        .to_csv(f\"output/CtD/weights/{num_lf}_sampled_weights.tsv\", index=False, sep=\"\\t\")\n",
    "    )\n",
    "    \n",
    "    dev_records.append(get_model_performance(candidate_dfs['dev'].curated_dsh, dev_grid_results, num_lf))\n",
    "    test_records.append(get_model_performance(candidate_dfs['test'].curated_dsh, test_grid_results, num_lf))"
   ]
  },
  {
   "cell_type": "code",
   "execution_count": 19,
   "metadata": {
    "ExecuteTime": {
     "end_time": "2019-11-05T22:46:24.763595Z",
     "start_time": "2019-11-05T22:46:24.739104Z"
    }
   },
   "outputs": [
    {
     "data": {
      "text/html": [
       "<div>\n",
       "<style scoped>\n",
       "    .dataframe tbody tr th:only-of-type {\n",
       "        vertical-align: middle;\n",
       "    }\n",
       "\n",
       "    .dataframe tbody tr th {\n",
       "        vertical-align: top;\n",
       "    }\n",
       "\n",
       "    .dataframe thead th {\n",
       "        text-align: right;\n",
       "    }\n",
       "</style>\n",
       "<table border=\"1\" class=\"dataframe\">\n",
       "  <thead>\n",
       "    <tr style=\"text-align: right;\">\n",
       "      <th></th>\n",
       "      <th>aupr</th>\n",
       "      <th>auroc</th>\n",
       "      <th>lf_num</th>\n",
       "      <th>lf_sample</th>\n",
       "    </tr>\n",
       "  </thead>\n",
       "  <tbody>\n",
       "    <tr>\n",
       "      <th>0</th>\n",
       "      <td>0.422810</td>\n",
       "      <td>0.494070</td>\n",
       "      <td>0</td>\n",
       "      <td>0:0,1,2,3,4,5,6</td>\n",
       "    </tr>\n",
       "    <tr>\n",
       "      <th>1</th>\n",
       "      <td>0.427865</td>\n",
       "      <td>0.499052</td>\n",
       "      <td>1</td>\n",
       "      <td>0:0,1,2,3,4,5,6,51</td>\n",
       "    </tr>\n",
       "  </tbody>\n",
       "</table>\n",
       "</div>"
      ],
      "text/plain": [
       "       aupr     auroc  lf_num           lf_sample\n",
       "0  0.422810  0.494070       0     0:0,1,2,3,4,5,6\n",
       "1  0.427865  0.499052       1  0:0,1,2,3,4,5,6,51"
      ]
     },
     "execution_count": 19,
     "metadata": {},
     "output_type": "execute_result"
    }
   ],
   "source": [
    "dev_full_results_df = pd.concat([dev_baseline_df] + dev_records).reset_index(drop=True)\n",
    "dev_full_results_df.to_csv(\"output/CtD/results/dev_sampled_results.tsv\", index=False, sep=\"\\t\")\n",
    "dev_full_results_df.head(2)"
   ]
  },
  {
   "cell_type": "code",
   "execution_count": 48,
   "metadata": {
    "ExecuteTime": {
     "end_time": "2019-11-08T18:32:46.926969Z",
     "start_time": "2019-11-08T18:32:46.646902Z"
    }
   },
   "outputs": [
    {
     "data": {
      "text/plain": [
       "<matplotlib.axes._subplots.AxesSubplot at 0x7f877c1f44a8>"
      ]
     },
     "execution_count": 48,
     "metadata": {},
     "output_type": "execute_result"
    },
    {
     "data": {
      "image/png": "[encoded data removed]",
      "text/plain": [
       "<Figure size 432x288 with 1 Axes>"
      ]
     },
     "metadata": {
      "needs_background": "light"
     },
     "output_type": "display_data"
    }
   ],
   "source": [
    "sns.pointplot(x='lf_num', y='auroc', data=dev_full_results_df)"
   ]
  },
  {
   "cell_type": "code",
   "execution_count": 49,
   "metadata": {
    "ExecuteTime": {
     "end_time": "2019-11-08T18:32:47.212872Z",
     "start_time": "2019-11-08T18:32:46.928470Z"
    },
    "scrolled": true
   },
   "outputs": [
    {
     "data": {
      "text/plain": [
       "<matplotlib.axes._subplots.AxesSubplot at 0x7f877c1c2278>"
      ]
     },
     "execution_count": 49,
     "metadata": {},
     "output_type": "execute_result"
    },
    {
     "data": {
      "image/png": "[encoded data removed]",
      "text/plain": [
       "<Figure size 432x288 with 1 Axes>"
      ]
     },
     "metadata": {
      "needs_background": "light"
     },
     "output_type": "display_data"
    }
   ],
   "source": [
    "sns.pointplot(x='lf_num', y='aupr', data=dev_full_results_df)"
   ]
  },
  {
   "cell_type": "code",
   "execution_count": 20,
   "metadata": {
    "ExecuteTime": {
     "end_time": "2019-11-05T22:46:24.933764Z",
     "start_time": "2019-11-05T22:46:24.764886Z"
    }
   },
   "outputs": [
    {
     "data": {
      "text/html": [
       "<div>\n",
       "<style scoped>\n",
       "    .dataframe tbody tr th:only-of-type {\n",
       "        vertical-align: middle;\n",
       "    }\n",
       "\n",
       "    .dataframe tbody tr th {\n",
       "        vertical-align: top;\n",
       "    }\n",
       "\n",
       "    .dataframe thead th {\n",
       "        text-align: right;\n",
       "    }\n",
       "</style>\n",
       "<table border=\"1\" class=\"dataframe\">\n",
       "  <thead>\n",
       "    <tr style=\"text-align: right;\">\n",
       "      <th></th>\n",
       "      <th>aupr</th>\n",
       "      <th>auroc</th>\n",
       "      <th>lf_num</th>\n",
       "      <th>lf_sample</th>\n",
       "    </tr>\n",
       "  </thead>\n",
       "  <tbody>\n",
       "    <tr>\n",
       "      <th>0</th>\n",
       "      <td>0.434471</td>\n",
       "      <td>0.571414</td>\n",
       "      <td>0</td>\n",
       "      <td>0:0,1,2,3,4,5,6</td>\n",
       "    </tr>\n",
       "    <tr>\n",
       "      <th>1</th>\n",
       "      <td>0.437383</td>\n",
       "      <td>0.575685</td>\n",
       "      <td>1</td>\n",
       "      <td>0:0,1,2,3,4,5,6,51</td>\n",
       "    </tr>\n",
       "  </tbody>\n",
       "</table>\n",
       "</div>"
      ],
      "text/plain": [
       "       aupr     auroc  lf_num           lf_sample\n",
       "0  0.434471  0.571414       0     0:0,1,2,3,4,5,6\n",
       "1  0.437383  0.575685       1  0:0,1,2,3,4,5,6,51"
      ]
     },
     "execution_count": 20,
     "metadata": {},
     "output_type": "execute_result"
    }
   ],
   "source": [
    "test_full_results_df = pd.concat([test_baseline_df] + test_records).reset_index(drop=True)\n",
    "test_full_results_df.to_csv(\"output/CtD/results/test_sampled_results.tsv\", index=False, sep=\"\\t\")\n",
    "test_full_results_df.head(2)"
   ]
  },
  {
   "cell_type": "code",
   "execution_count": 50,
   "metadata": {
    "ExecuteTime": {
     "end_time": "2019-11-08T18:32:46.926969Z",
     "start_time": "2019-11-08T18:32:46.646902Z"
    }
   },
   "outputs": [
    {
     "data": {
      "text/plain": [
       "<matplotlib.axes._subplots.AxesSubplot at 0x7f877c0cffd0>"
      ]
     },
     "execution_count": 50,
     "metadata": {},
     "output_type": "execute_result"
    },
    {
     "data": {
      "image/png": "[encoded data removed]",
      "text/plain": [
       "<Figure size 432x288 with 1 Axes>"
      ]
     },
     "metadata": {
      "needs_background": "light"
     },
     "output_type": "display_data"
    }
   ],
   "source": [
    "sns.pointplot(x='lf_num', y='auroc', data=test_full_results_df)"
   ]
  },
  {
   "cell_type": "code",
   "execution_count": 51,
   "metadata": {
    "ExecuteTime": {
     "end_time": "2019-11-08T18:32:47.212872Z",
     "start_time": "2019-11-08T18:32:46.928470Z"
    },
    "scrolled": true
   },
   "outputs": [
    {
     "data": {
      "text/plain": [
       "<matplotlib.axes._subplots.AxesSubplot at 0x7f877c0b06a0>"
      ]
     },
     "execution_count": 51,
     "metadata": {},
     "output_type": "execute_result"
    },
    {
     "data": {
      "image/png": "[encoded data removed]",
      "text/plain": [
       "<Figure size 432x288 with 1 Axes>"
      ]
     },
     "metadata": {
      "needs_background": "light"
     },
     "output_type": "display_data"
    }
   ],
   "source": [
    "sns.pointplot(x='lf_num', y='aupr', data=test_full_results_df)"
   ]
  },
  {
   "cell_type": "markdown",
   "metadata": {
    "ExecuteTime": {
     "end_time": "2019-10-11T18:40:30.516087Z",
     "start_time": "2019-10-11T18:40:30.495488Z"
    }
   },
   "source": [
    "# Compound Binds Gene Sources Predicts Disease Associates Gene Sentences"
   ]
  },
  {
   "cell_type": "markdown",
   "metadata": {},
   "source": [
    "Here we are using label functions, designed to predict the Compond binds Gene relation, to predict Disease Associates Gene sentences. To estimate the performance boost over the baseline model, we implement a label function sampling appoach. The sampling approach works as follows: \n",
    "1. randomly sample X amount of label functions that are not within the database category\n",
    "2. incorporate the sampled label functions with the database label functions\n",
    "3. train the generative model on the combined resources\n",
    "4. use the generative model to predict the tuning set and test set\n",
    "5. Report performance in terms of AUROC and AUPR\n",
    "6. repeat the above process 50 times for each sample size (1, 6, 11, 16, all).\n",
    "\n",
    "Given that these label functions are not designed to predict the given relation, we expect that adding more label functions will decrease in performance. This means that auroc when sampling 1 label function should be less than the auroc of the baseline. This trend should continue when sampling 6, 11, 16 and then all of the label functions."
   ]
  },
  {
   "cell_type": "code",
   "execution_count": 21,
   "metadata": {
    "ExecuteTime": {
     "end_time": "2019-11-05T22:46:24.975675Z",
     "start_time": "2019-11-05T22:46:24.936289Z"
    }
   },
   "outputs": [],
   "source": [
    "cbg_start = 59\n",
    "cbg_end = 79\n",
    "\n",
    "#Spaced out number of sampels including total\n",
    "size_of_samples = [1,6,11,16,cbg_end-cbg_start]\n",
    "number_of_samples = 50\n",
    "cbg_lf_range = range(cbg_start, cbg_end)"
   ]
  },
  {
   "cell_type": "code",
   "execution_count": 22,
   "metadata": {
    "ExecuteTime": {
     "end_time": "2019-11-05T22:46:25.035870Z",
     "start_time": "2019-11-05T22:46:24.976991Z"
    }
   },
   "outputs": [],
   "source": [
    "sampled_lfs_dict = {\n",
    "    sample_size:(\n",
    "        sample_lfs(\n",
    "            list(cbg_lf_range),\n",
    "            len(list(cbg_lf_range)), \n",
    "            sample_size, \n",
    "            number_of_samples, \n",
    "            random_state=100\n",
    "        )\n",
    "    )\n",
    "    for sample_size in size_of_samples\n",
    "}"
   ]
  },
  {
   "cell_type": "code",
   "execution_count": 23,
   "metadata": {
    "ExecuteTime": {
     "end_time": "2019-11-05T23:22:40.818331Z",
     "start_time": "2019-11-05T22:46:25.045075Z"
    }
   },
   "outputs": [
    {
     "data": {
      "application/vnd.jupyter.widget-view+json": {
       "model_id": "9b567af849e043dab3db9c8a6aac002d",
       "version_major": 2,
       "version_minor": 0
      },
      "text/plain": [
       "HBox(children=(IntProgress(value=1, bar_style='info', max=1), HTML(value='')))"
      ]
     },
     "metadata": {},
     "output_type": "display_data"
    },
    {
     "name": "stdout",
     "output_type": "stream",
     "text": [
      "\n"
     ]
    },
    {
     "data": {
      "application/vnd.jupyter.widget-view+json": {
       "model_id": "0760d99cf71f4743b1b426b5467d881d",
       "version_major": 2,
       "version_minor": 0
      },
      "text/plain": [
       "HBox(children=(IntProgress(value=1, bar_style='info', max=1), HTML(value='')))"
      ]
     },
     "metadata": {},
     "output_type": "display_data"
    },
    {
     "name": "stdout",
     "output_type": "stream",
     "text": [
      "\n"
     ]
    },
    {
     "data": {
      "application/vnd.jupyter.widget-view+json": {
       "model_id": "3cdcb9176246468d911c8d260064d366",
       "version_major": 2,
       "version_minor": 0
      },
      "text/plain": [
       "HBox(children=(IntProgress(value=1, bar_style='info', max=1), HTML(value='')))"
      ]
     },
     "metadata": {},
     "output_type": "display_data"
    },
    {
     "name": "stdout",
     "output_type": "stream",
     "text": [
      "\n"
     ]
    },
    {
     "data": {
      "application/vnd.jupyter.widget-view+json": {
       "model_id": "47dc3b69497c44c090e20d756f75da3a",
       "version_major": 2,
       "version_minor": 0
      },
      "text/plain": [
       "HBox(children=(IntProgress(value=1, bar_style='info', max=1), HTML(value='')))"
      ]
     },
     "metadata": {},
     "output_type": "display_data"
    },
    {
     "name": "stdout",
     "output_type": "stream",
     "text": [
      "\n"
     ]
    },
    {
     "data": {
      "application/vnd.jupyter.widget-view+json": {
       "model_id": "04799d7c2eb74d1699feff5c489bc001",
       "version_major": 2,
       "version_minor": 0
      },
      "text/plain": [
       "HBox(children=(IntProgress(value=1, bar_style='info', max=1), HTML(value='')))"
      ]
     },
     "metadata": {},
     "output_type": "display_data"
    },
    {
     "name": "stdout",
     "output_type": "stream",
     "text": [
      "\n"
     ]
    }
   ],
   "source": [
    "dev_records = []\n",
    "test_records = []\n",
    "for num_lf in sampled_lfs_dict:\n",
    "    train_grid_results, dev_grid_results, test_grid_results, models = (\n",
    "        train_model_random_lfs(\n",
    "            [baseline_index + sample for sample in sampled_lfs_dict[num_lf]],\n",
    "            correct_L, correct_L_dev, candidate_dfs['dev'].curated_dsh,\n",
    "            correct_L_test,pd.np.round(pd.np.linspace(0.01, 5, num=5), 2)\n",
    "        )\n",
    "    )\n",
    "    \n",
    "    (\n",
    "        pd.DataFrame({key:train_grid_results[key][:,1] for key in train_grid_results})\n",
    "        .assign(candidate_id=label_matricies['train'].candidate_id.values)\n",
    "        .to_csv(f\"output/CbG/marginals/{num_lf}_sampled_train.tsv.xz\", compression=\"xz\", index=False, sep=\"\\t\")\n",
    "    )\n",
    "    (\n",
    "        pd.DataFrame({key:dev_grid_results[key][:,1] for key in dev_grid_results})\n",
    "        .to_csv(f\"output/CbG/marginals/{num_lf}_sampled_dev.tsv\", index=False, sep=\"\\t\")\n",
    "    )\n",
    "    (\n",
    "        pd.DataFrame({key:test_grid_results[key][:,1] for key in test_grid_results})\n",
    "        .to_csv(f\"output/CbG/marginals/{num_lf}_sampled_test.tsv\", index=False, sep=\"\\t\")\n",
    "    )\n",
    "    \n",
    "    (\n",
    "        pd.DataFrame({key:models[key].get_weights() for key in models})\n",
    "        .to_csv(f\"output/CbG/weights/{num_lf}_sampled_weights.tsv\", index=False, sep=\"\\t\")\n",
    "    )\n",
    "    \n",
    "    dev_records.append(get_model_performance(candidate_dfs['dev'].curated_dsh, dev_grid_results, num_lf))\n",
    "    test_records.append(get_model_performance(candidate_dfs['test'].curated_dsh, test_grid_results, num_lf))"
   ]
  },
  {
   "cell_type": "code",
   "execution_count": 24,
   "metadata": {
    "ExecuteTime": {
     "end_time": "2019-11-05T23:22:40.845113Z",
     "start_time": "2019-11-05T23:22:40.819742Z"
    }
   },
   "outputs": [
    {
     "data": {
      "text/html": [
       "<div>\n",
       "<style scoped>\n",
       "    .dataframe tbody tr th:only-of-type {\n",
       "        vertical-align: middle;\n",
       "    }\n",
       "\n",
       "    .dataframe tbody tr th {\n",
       "        vertical-align: top;\n",
       "    }\n",
       "\n",
       "    .dataframe thead th {\n",
       "        text-align: right;\n",
       "    }\n",
       "</style>\n",
       "<table border=\"1\" class=\"dataframe\">\n",
       "  <thead>\n",
       "    <tr style=\"text-align: right;\">\n",
       "      <th></th>\n",
       "      <th>aupr</th>\n",
       "      <th>auroc</th>\n",
       "      <th>lf_num</th>\n",
       "      <th>lf_sample</th>\n",
       "    </tr>\n",
       "  </thead>\n",
       "  <tbody>\n",
       "    <tr>\n",
       "      <th>0</th>\n",
       "      <td>0.422810</td>\n",
       "      <td>0.494070</td>\n",
       "      <td>0</td>\n",
       "      <td>0:0,1,2,3,4,5,6</td>\n",
       "    </tr>\n",
       "    <tr>\n",
       "      <th>1</th>\n",
       "      <td>0.427398</td>\n",
       "      <td>0.506084</td>\n",
       "      <td>1</td>\n",
       "      <td>0:0,1,2,3,4,5,6,63</td>\n",
       "    </tr>\n",
       "  </tbody>\n",
       "</table>\n",
       "</div>"
      ],
      "text/plain": [
       "       aupr     auroc  lf_num           lf_sample\n",
       "0  0.422810  0.494070       0     0:0,1,2,3,4,5,6\n",
       "1  0.427398  0.506084       1  0:0,1,2,3,4,5,6,63"
      ]
     },
     "execution_count": 24,
     "metadata": {},
     "output_type": "execute_result"
    }
   ],
   "source": [
    "dev_full_results_df = pd.concat([dev_baseline_df] + dev_records).reset_index(drop=True)\n",
    "dev_full_results_df.to_csv(\"output/CbG/results/dev_sampled_results.tsv\", index=False, sep=\"\\t\")\n",
    "dev_full_results_df.head(2)"
   ]
  },
  {
   "cell_type": "code",
   "execution_count": 53,
   "metadata": {
    "ExecuteTime": {
     "end_time": "2019-11-08T18:32:46.926969Z",
     "start_time": "2019-11-08T18:32:46.646902Z"
    }
   },
   "outputs": [
    {
     "data": {
      "text/plain": [
       "<matplotlib.axes._subplots.AxesSubplot at 0x7f877c079be0>"
      ]
     },
     "execution_count": 53,
     "metadata": {},
     "output_type": "execute_result"
    },
    {
     "data": {
      "image/png": "[encoded data removed]",
      "text/plain": [
       "<Figure size 432x288 with 1 Axes>"
      ]
     },
     "metadata": {
      "needs_background": "light"
     },
     "output_type": "display_data"
    }
   ],
   "source": [
    "sns.pointplot(x='lf_num', y='auroc', data=dev_full_results_df)"
   ]
  },
  {
   "cell_type": "code",
   "execution_count": 54,
   "metadata": {
    "ExecuteTime": {
     "end_time": "2019-11-08T18:32:47.212872Z",
     "start_time": "2019-11-08T18:32:46.928470Z"
    },
    "scrolled": true
   },
   "outputs": [
    {
     "data": {
      "text/plain": [
       "<matplotlib.axes._subplots.AxesSubplot at 0x7f876f6e6ef0>"
      ]
     },
     "execution_count": 54,
     "metadata": {},
     "output_type": "execute_result"
    },
    {
     "data": {
      "image/png": "[encoded data removed]",
      "text/plain": [
       "<Figure size 432x288 with 1 Axes>"
      ]
     },
     "metadata": {
      "needs_background": "light"
     },
     "output_type": "display_data"
    }
   ],
   "source": [
    "sns.pointplot(x='lf_num', y='aupr', data=dev_full_results_df)"
   ]
  },
  {
   "cell_type": "code",
   "execution_count": 25,
   "metadata": {
    "ExecuteTime": {
     "end_time": "2019-11-05T23:22:40.917712Z",
     "start_time": "2019-11-05T23:22:40.846279Z"
    }
   },
   "outputs": [
    {
     "data": {
      "text/html": [
       "<div>\n",
       "<style scoped>\n",
       "    .dataframe tbody tr th:only-of-type {\n",
       "        vertical-align: middle;\n",
       "    }\n",
       "\n",
       "    .dataframe tbody tr th {\n",
       "        vertical-align: top;\n",
       "    }\n",
       "\n",
       "    .dataframe thead th {\n",
       "        text-align: right;\n",
       "    }\n",
       "</style>\n",
       "<table border=\"1\" class=\"dataframe\">\n",
       "  <thead>\n",
       "    <tr style=\"text-align: right;\">\n",
       "      <th></th>\n",
       "      <th>aupr</th>\n",
       "      <th>auroc</th>\n",
       "      <th>lf_num</th>\n",
       "      <th>lf_sample</th>\n",
       "    </tr>\n",
       "  </thead>\n",
       "  <tbody>\n",
       "    <tr>\n",
       "      <th>0</th>\n",
       "      <td>0.434471</td>\n",
       "      <td>0.571414</td>\n",
       "      <td>0</td>\n",
       "      <td>0:0,1,2,3,4,5,6</td>\n",
       "    </tr>\n",
       "    <tr>\n",
       "      <th>1</th>\n",
       "      <td>0.445820</td>\n",
       "      <td>0.586655</td>\n",
       "      <td>1</td>\n",
       "      <td>0:0,1,2,3,4,5,6,63</td>\n",
       "    </tr>\n",
       "  </tbody>\n",
       "</table>\n",
       "</div>"
      ],
      "text/plain": [
       "       aupr     auroc  lf_num           lf_sample\n",
       "0  0.434471  0.571414       0     0:0,1,2,3,4,5,6\n",
       "1  0.445820  0.586655       1  0:0,1,2,3,4,5,6,63"
      ]
     },
     "execution_count": 25,
     "metadata": {},
     "output_type": "execute_result"
    }
   ],
   "source": [
    "test_full_results_df = pd.concat([test_baseline_df] + test_records).reset_index(drop=True)\n",
    "test_full_results_df.to_csv(\"output/CbG/results/test_sampled_results.tsv\", index=False, sep=\"\\t\")\n",
    "test_full_results_df.head(2)"
   ]
  },
  {
   "cell_type": "code",
   "execution_count": 55,
   "metadata": {
    "ExecuteTime": {
     "end_time": "2019-11-08T18:32:46.926969Z",
     "start_time": "2019-11-08T18:32:46.646902Z"
    }
   },
   "outputs": [
    {
     "data": {
      "text/plain": [
       "<matplotlib.axes._subplots.AxesSubplot at 0x7f876f6c6780>"
      ]
     },
     "execution_count": 55,
     "metadata": {},
     "output_type": "execute_result"
    },
    {
     "data": {
      "image/png": "[encoded data removed]",
      "text/plain": [
       "<Figure size 432x288 with 1 Axes>"
      ]
     },
     "metadata": {
      "needs_background": "light"
     },
     "output_type": "display_data"
    }
   ],
   "source": [
    "sns.pointplot(x='lf_num', y='auroc', data=test_full_results_df)"
   ]
  },
  {
   "cell_type": "code",
   "execution_count": 56,
   "metadata": {
    "ExecuteTime": {
     "end_time": "2019-11-08T18:32:47.212872Z",
     "start_time": "2019-11-08T18:32:46.928470Z"
    },
    "scrolled": false
   },
   "outputs": [
    {
     "data": {
      "text/plain": [
       "<matplotlib.axes._subplots.AxesSubplot at 0x7f876f652e10>"
      ]
     },
     "execution_count": 56,
     "metadata": {},
     "output_type": "execute_result"
    },
    {
     "data": {
      "image/png": "[encoded data removed]",
      "text/plain": [
       "<Figure size 432x288 with 1 Axes>"
      ]
     },
     "metadata": {
      "needs_background": "light"
     },
     "output_type": "display_data"
    }
   ],
   "source": [
    "sns.pointplot(x='lf_num', y='aupr', data=test_full_results_df)"
   ]
  },
  {
   "cell_type": "markdown",
   "metadata": {
    "ExecuteTime": {
     "end_time": "2019-10-11T18:40:30.516087Z",
     "start_time": "2019-10-11T18:40:30.495488Z"
    }
   },
   "source": [
    "# Gene Interacts Gene Sources Predicts Disease Associates Gene Sentences"
   ]
  },
  {
   "cell_type": "markdown",
   "metadata": {},
   "source": [
    "Here we are using label functions, designed to predict the Gene interacts Gene relation, to predict Disease Associates Gene sentences. To estimate the performance boost over the baseline model, we implement a label function sampling appoach. The sampling approach works as follows: \n",
    "1. randomly sample X amount of label functions that are not within the database category\n",
    "2. incorporate the sampled label functions with the database label functions\n",
    "3. train the generative model on the combined resources\n",
    "4. use the generative model to predict the tuning set and test set\n",
    "5. Report performance in terms of AUROC and AUPR\n",
    "6. repeat the above process 50 times for each sample size (1, 6, 11, 16, all).\n",
    "\n",
    "Given that these label functions are not designed to predict the given relation, we expect that adding more label functions will decrease in performance. This means that auroc when sampling 1 label function should be less than the auroc of the baseline. This trend should continue when sampling 6, 11, 16 and then all of the label functions."
   ]
  },
  {
   "cell_type": "code",
   "execution_count": 26,
   "metadata": {
    "ExecuteTime": {
     "end_time": "2019-11-05T23:22:40.941931Z",
     "start_time": "2019-11-05T23:22:40.918935Z"
    }
   },
   "outputs": [],
   "source": [
    "gig_start = 79\n",
    "gig_end = 107\n",
    "\n",
    "#Spaced out number of sampels including total\n",
    "size_of_samples = [1,6,11,16,gig_end-gig_start]\n",
    "number_of_samples = 50\n",
    "gig_lf_range = range(gig_start, gig_end)"
   ]
  },
  {
   "cell_type": "code",
   "execution_count": 27,
   "metadata": {
    "ExecuteTime": {
     "end_time": "2019-11-05T23:22:40.998709Z",
     "start_time": "2019-11-05T23:22:40.943022Z"
    }
   },
   "outputs": [],
   "source": [
    "sampled_lfs_dict = {\n",
    "    sample_size:(\n",
    "        sample_lfs(\n",
    "            list(gig_lf_range),\n",
    "            len(list(gig_lf_range)), \n",
    "            sample_size, \n",
    "            number_of_samples, \n",
    "            random_state=100\n",
    "        )\n",
    "    )\n",
    "    for sample_size in size_of_samples\n",
    "}"
   ]
  },
  {
   "cell_type": "code",
   "execution_count": 28,
   "metadata": {
    "ExecuteTime": {
     "end_time": "2019-11-05T23:59:26.412356Z",
     "start_time": "2019-11-05T23:22:41.000165Z"
    }
   },
   "outputs": [
    {
     "data": {
      "application/vnd.jupyter.widget-view+json": {
       "model_id": "acd2680b8a6341c89c2e6db24e89ef9f",
       "version_major": 2,
       "version_minor": 0
      },
      "text/plain": [
       "HBox(children=(IntProgress(value=1, bar_style='info', max=1), HTML(value='')))"
      ]
     },
     "metadata": {},
     "output_type": "display_data"
    },
    {
     "name": "stdout",
     "output_type": "stream",
     "text": [
      "\n"
     ]
    },
    {
     "data": {
      "application/vnd.jupyter.widget-view+json": {
       "model_id": "16461e517e3840019474d51f0d13eb95",
       "version_major": 2,
       "version_minor": 0
      },
      "text/plain": [
       "HBox(children=(IntProgress(value=1, bar_style='info', max=1), HTML(value='')))"
      ]
     },
     "metadata": {},
     "output_type": "display_data"
    },
    {
     "name": "stdout",
     "output_type": "stream",
     "text": [
      "\n"
     ]
    },
    {
     "data": {
      "application/vnd.jupyter.widget-view+json": {
       "model_id": "37fc58c4a3764c92b176ede707a9a4b4",
       "version_major": 2,
       "version_minor": 0
      },
      "text/plain": [
       "HBox(children=(IntProgress(value=1, bar_style='info', max=1), HTML(value='')))"
      ]
     },
     "metadata": {},
     "output_type": "display_data"
    },
    {
     "name": "stdout",
     "output_type": "stream",
     "text": [
      "\n"
     ]
    },
    {
     "data": {
      "application/vnd.jupyter.widget-view+json": {
       "model_id": "6374fcc35e5e448eb8a177422a62d297",
       "version_major": 2,
       "version_minor": 0
      },
      "text/plain": [
       "HBox(children=(IntProgress(value=1, bar_style='info', max=1), HTML(value='')))"
      ]
     },
     "metadata": {},
     "output_type": "display_data"
    },
    {
     "name": "stdout",
     "output_type": "stream",
     "text": [
      "\n"
     ]
    },
    {
     "data": {
      "application/vnd.jupyter.widget-view+json": {
       "model_id": "db1395dc53be48e3b928d59e4adc412e",
       "version_major": 2,
       "version_minor": 0
      },
      "text/plain": [
       "HBox(children=(IntProgress(value=1, bar_style='info', max=1), HTML(value='')))"
      ]
     },
     "metadata": {},
     "output_type": "display_data"
    },
    {
     "name": "stdout",
     "output_type": "stream",
     "text": [
      "\n"
     ]
    }
   ],
   "source": [
    "dev_records = []\n",
    "test_records = []\n",
    "for num_lf in sampled_lfs_dict:\n",
    "    train_grid_results, dev_grid_results, test_grid_results, models = (\n",
    "        train_model_random_lfs(\n",
    "            [baseline_index + sample for sample in sampled_lfs_dict[num_lf]], \n",
    "            correct_L, correct_L_dev, candidate_dfs['dev'].curated_dsh, \n",
    "            correct_L_test, pd.np.round(pd.np.linspace(0.01, 5, num=5), 2)\n",
    "        )\n",
    "    )\n",
    "    \n",
    "    (\n",
    "        pd.DataFrame({key:train_grid_results[key][:,1] for key in train_grid_results})\n",
    "        .assign(candidate_id=label_matricies['train'].candidate_id.values)\n",
    "        .to_csv(f\"output/GiG/marginals/{num_lf}_sampled_train.tsv.xz\", compression=\"xz\", sep=\"\\t\", index=False)\n",
    "    )\n",
    "    (\n",
    "        pd.DataFrame({key:dev_grid_results[key][:,1] for key in dev_grid_results})\n",
    "        .to_csv(f\"output/GiG/marginals/{num_lf}_sampled_dev.tsv\", sep=\"\\t\", index=False)\n",
    "    )\n",
    "    (\n",
    "        pd.DataFrame({key:test_grid_results[key][:,1] for key in test_grid_results})\n",
    "        .to_csv(f\"output/GiG/marginals/{num_lf}_sampled_test.tsv\", sep=\"\\t\", index=False)\n",
    "    )\n",
    "    \n",
    "    (\n",
    "        pd.DataFrame({key:models[key].get_weights() for key in models})\n",
    "        .to_csv(f\"output/GiG/weights/{num_lf}_sampled_weights.tsv\", sep=\"\\t\", index=False)\n",
    "    )\n",
    "    \n",
    "    dev_records.append(get_model_performance(candidate_dfs['dev'].curated_dsh, dev_grid_results, num_lf))\n",
    "    test_records.append(get_model_performance(candidate_dfs['test'].curated_dsh, test_grid_results, num_lf))"
   ]
  },
  {
   "cell_type": "code",
   "execution_count": 29,
   "metadata": {
    "ExecuteTime": {
     "end_time": "2019-11-05T23:59:26.439029Z",
     "start_time": "2019-11-05T23:59:26.413587Z"
    }
   },
   "outputs": [
    {
     "data": {
      "text/html": [
       "<div>\n",
       "<style scoped>\n",
       "    .dataframe tbody tr th:only-of-type {\n",
       "        vertical-align: middle;\n",
       "    }\n",
       "\n",
       "    .dataframe tbody tr th {\n",
       "        vertical-align: top;\n",
       "    }\n",
       "\n",
       "    .dataframe thead th {\n",
       "        text-align: right;\n",
       "    }\n",
       "</style>\n",
       "<table border=\"1\" class=\"dataframe\">\n",
       "  <thead>\n",
       "    <tr style=\"text-align: right;\">\n",
       "      <th></th>\n",
       "      <th>aupr</th>\n",
       "      <th>auroc</th>\n",
       "      <th>lf_num</th>\n",
       "      <th>lf_sample</th>\n",
       "    </tr>\n",
       "  </thead>\n",
       "  <tbody>\n",
       "    <tr>\n",
       "      <th>0</th>\n",
       "      <td>0.42281</td>\n",
       "      <td>0.494070</td>\n",
       "      <td>0</td>\n",
       "      <td>0:0,1,2,3,4,5,6</td>\n",
       "    </tr>\n",
       "    <tr>\n",
       "      <th>1</th>\n",
       "      <td>0.43348</td>\n",
       "      <td>0.506976</td>\n",
       "      <td>1</td>\n",
       "      <td>0:0,1,2,3,4,5,6,93</td>\n",
       "    </tr>\n",
       "  </tbody>\n",
       "</table>\n",
       "</div>"
      ],
      "text/plain": [
       "      aupr     auroc  lf_num           lf_sample\n",
       "0  0.42281  0.494070       0     0:0,1,2,3,4,5,6\n",
       "1  0.43348  0.506976       1  0:0,1,2,3,4,5,6,93"
      ]
     },
     "execution_count": 29,
     "metadata": {},
     "output_type": "execute_result"
    }
   ],
   "source": [
    "dev_full_results_df = pd.concat([dev_baseline_df] + dev_records).reset_index(drop=True)\n",
    "dev_full_results_df.to_csv(\"output/GiG/results/dev_sampled_results.tsv\", index=False, sep=\"\\t\")\n",
    "dev_full_results_df.head(2)"
   ]
  },
  {
   "cell_type": "code",
   "execution_count": 59,
   "metadata": {
    "ExecuteTime": {
     "end_time": "2019-11-08T18:32:46.926969Z",
     "start_time": "2019-11-08T18:32:46.646902Z"
    }
   },
   "outputs": [
    {
     "data": {
      "text/plain": [
       "<matplotlib.axes._subplots.AxesSubplot at 0x7f876f5b4710>"
      ]
     },
     "execution_count": 59,
     "metadata": {},
     "output_type": "execute_result"
    },
    {
     "data": {
      "image/png": "[encoded data removed]",
      "text/plain": [
       "<Figure size 432x288 with 1 Axes>"
      ]
     },
     "metadata": {
      "needs_background": "light"
     },
     "output_type": "display_data"
    }
   ],
   "source": [
    "sns.pointplot(x='lf_num', y='auroc', data=dev_full_results_df)"
   ]
  },
  {
   "cell_type": "code",
   "execution_count": 60,
   "metadata": {
    "ExecuteTime": {
     "end_time": "2019-11-08T18:32:47.212872Z",
     "start_time": "2019-11-08T18:32:46.928470Z"
    },
    "scrolled": true
   },
   "outputs": [
    {
     "data": {
      "text/plain": [
       "<matplotlib.axes._subplots.AxesSubplot at 0x7f876f533ac8>"
      ]
     },
     "execution_count": 60,
     "metadata": {},
     "output_type": "execute_result"
    },
    {
     "data": {
      "image/png": "[encoded data removed]",
      "text/plain": [
       "<Figure size 432x288 with 1 Axes>"
      ]
     },
     "metadata": {
      "needs_background": "light"
     },
     "output_type": "display_data"
    }
   ],
   "source": [
    "sns.pointplot(x='lf_num', y='aupr', data=dev_full_results_df)"
   ]
  },
  {
   "cell_type": "code",
   "execution_count": 30,
   "metadata": {
    "ExecuteTime": {
     "end_time": "2019-11-05T23:59:26.525630Z",
     "start_time": "2019-11-05T23:59:26.440373Z"
    }
   },
   "outputs": [
    {
     "data": {
      "text/html": [
       "<div>\n",
       "<style scoped>\n",
       "    .dataframe tbody tr th:only-of-type {\n",
       "        vertical-align: middle;\n",
       "    }\n",
       "\n",
       "    .dataframe tbody tr th {\n",
       "        vertical-align: top;\n",
       "    }\n",
       "\n",
       "    .dataframe thead th {\n",
       "        text-align: right;\n",
       "    }\n",
       "</style>\n",
       "<table border=\"1\" class=\"dataframe\">\n",
       "  <thead>\n",
       "    <tr style=\"text-align: right;\">\n",
       "      <th></th>\n",
       "      <th>aupr</th>\n",
       "      <th>auroc</th>\n",
       "      <th>lf_num</th>\n",
       "      <th>lf_sample</th>\n",
       "    </tr>\n",
       "  </thead>\n",
       "  <tbody>\n",
       "    <tr>\n",
       "      <th>0</th>\n",
       "      <td>0.434471</td>\n",
       "      <td>0.571414</td>\n",
       "      <td>0</td>\n",
       "      <td>0:0,1,2,3,4,5,6</td>\n",
       "    </tr>\n",
       "    <tr>\n",
       "      <th>1</th>\n",
       "      <td>0.426106</td>\n",
       "      <td>0.569963</td>\n",
       "      <td>1</td>\n",
       "      <td>0:0,1,2,3,4,5,6,93</td>\n",
       "    </tr>\n",
       "  </tbody>\n",
       "</table>\n",
       "</div>"
      ],
      "text/plain": [
       "       aupr     auroc  lf_num           lf_sample\n",
       "0  0.434471  0.571414       0     0:0,1,2,3,4,5,6\n",
       "1  0.426106  0.569963       1  0:0,1,2,3,4,5,6,93"
      ]
     },
     "execution_count": 30,
     "metadata": {},
     "output_type": "execute_result"
    }
   ],
   "source": [
    "test_full_results_df = pd.concat([test_baseline_df] + test_records).reset_index(drop=True)\n",
    "test_full_results_df.to_csv(\"output/GiG/results/test_sampled_results.tsv\", index=False, sep=\"\\t\")\n",
    "test_full_results_df.head(2)"
   ]
  },
  {
   "cell_type": "code",
   "execution_count": 61,
   "metadata": {
    "ExecuteTime": {
     "end_time": "2019-11-08T18:32:46.926969Z",
     "start_time": "2019-11-08T18:32:46.646902Z"
    }
   },
   "outputs": [
    {
     "data": {
      "text/plain": [
       "<matplotlib.axes._subplots.AxesSubplot at 0x7f876f4c04e0>"
      ]
     },
     "execution_count": 61,
     "metadata": {},
     "output_type": "execute_result"
    },
    {
     "data": {
      "image/png": "[encoded data removed]",
      "text/plain": [
       "<Figure size 432x288 with 1 Axes>"
      ]
     },
     "metadata": {
      "needs_background": "light"
     },
     "output_type": "display_data"
    }
   ],
   "source": [
    "sns.pointplot(x='lf_num', y='auroc', data=test_full_results_df)"
   ]
  },
  {
   "cell_type": "code",
   "execution_count": 62,
   "metadata": {
    "ExecuteTime": {
     "end_time": "2019-11-08T18:32:47.212872Z",
     "start_time": "2019-11-08T18:32:46.928470Z"
    },
    "scrolled": true
   },
   "outputs": [
    {
     "data": {
      "text/plain": [
       "<matplotlib.axes._subplots.AxesSubplot at 0x7f876f4932b0>"
      ]
     },
     "execution_count": 62,
     "metadata": {},
     "output_type": "execute_result"
    },
    {
     "data": {
      "image/png": "[encoded data removed]",
      "text/plain": [
       "<Figure size 432x288 with 1 Axes>"
      ]
     },
     "metadata": {
      "needs_background": "light"
     },
     "output_type": "display_data"
    }
   ],
   "source": [
    "sns.pointplot(x='lf_num', y='aupr', data=test_full_results_df)"
   ]
  },
  {
   "cell_type": "markdown",
   "metadata": {
    "ExecuteTime": {
     "end_time": "2019-10-11T18:40:30.516087Z",
     "start_time": "2019-10-11T18:40:30.495488Z"
    }
   },
   "source": [
    "# All Sources Predicts Gene Interacts Gene Sentences"
   ]
  },
  {
   "cell_type": "markdown",
   "metadata": {},
   "source": [
    "Here we are using every hand constructed label function to predict Disease Associates Gene sentences. To estimate the performance boost over the baseline model, we implement a label function sampling appoach. The sampling approach works as follows: \n",
    "1. randomly sample X amount of label functions that are not within the database category\n",
    "2. incorporate the sampled label functions with the database label functions\n",
    "3. train the generative model on the combined resources\n",
    "4. use the generative model to predict the tuning set and test set\n",
    "5. Report performance in terms of AUROC and AUPR\n",
    "6. repeat the above process 50 times for each sample size (1, 33, 65, 97, all).\n",
    "\n",
    "Given that some of these label functions are used to predict the given relation, we expect that adding more label functions might slightly increase performance. This means that auroc when sampling 1 label function should be higher than the auroc of the baseline; however, at 33, 65, 97 the auroc should start to decrease as we are adding more irrelevant label functions towards the baseline model."
   ]
  },
  {
   "cell_type": "code",
   "execution_count": 31,
   "metadata": {
    "ExecuteTime": {
     "end_time": "2019-11-05T23:59:26.545256Z",
     "start_time": "2019-11-05T23:59:26.527706Z"
    }
   },
   "outputs": [],
   "source": [
    "all_start = 7\n",
    "all_end = 107\n",
    "\n",
    "#Spaced out number of sampels including total\n",
    "size_of_samples = [1,33,65,97,all_end-all_start]\n",
    "number_of_samples = 50\n",
    "cbg_lf_range = range(all_start, all_end)"
   ]
  },
  {
   "cell_type": "code",
   "execution_count": 32,
   "metadata": {
    "ExecuteTime": {
     "end_time": "2019-11-05T23:59:26.570848Z",
     "start_time": "2019-11-05T23:59:26.546385Z"
    }
   },
   "outputs": [],
   "source": [
    "sampled_lfs_dict = {\n",
    "    sample_size:(\n",
    "        sample_lfs(\n",
    "            list(cbg_lf_range),\n",
    "            len(list(cbg_lf_range)), \n",
    "            sample_size, \n",
    "            number_of_samples, \n",
    "            random_state=100\n",
    "        )\n",
    "    )\n",
    "    for sample_size in size_of_samples\n",
    "}"
   ]
  },
  {
   "cell_type": "code",
   "execution_count": 33,
   "metadata": {
    "ExecuteTime": {
     "end_time": "2019-11-06T01:40:45.038175Z",
     "start_time": "2019-11-05T23:59:26.572062Z"
    }
   },
   "outputs": [
    {
     "data": {
      "application/vnd.jupyter.widget-view+json": {
       "model_id": "78722187fb484357bb3fbc6e08b76847",
       "version_major": 2,
       "version_minor": 0
      },
      "text/plain": [
       "HBox(children=(IntProgress(value=1, bar_style='info', max=1), HTML(value='')))"
      ]
     },
     "metadata": {},
     "output_type": "display_data"
    },
    {
     "name": "stdout",
     "output_type": "stream",
     "text": [
      "\n"
     ]
    },
    {
     "data": {
      "application/vnd.jupyter.widget-view+json": {
       "model_id": "b9b8d1cb55fc450689bb3ef3d2f292df",
       "version_major": 2,
       "version_minor": 0
      },
      "text/plain": [
       "HBox(children=(IntProgress(value=1, bar_style='info', max=1), HTML(value='')))"
      ]
     },
     "metadata": {},
     "output_type": "display_data"
    },
    {
     "name": "stdout",
     "output_type": "stream",
     "text": [
      "\n"
     ]
    },
    {
     "name": "stderr",
     "output_type": "stream",
     "text": [
      "/home/danich1/anaconda2/envs/snorkel_advanced/lib/python3.6/site-packages/snorkel/labeling/model/label_model.py:358: RuntimeWarning: divide by zero encountered in true_divide\n",
      "  return np.clip(accs / self.coverage, 1e-6, 1.0)\n"
     ]
    },
    {
     "data": {
      "application/vnd.jupyter.widget-view+json": {
       "model_id": "932f75e21dc24ec4961963ec83a933f6",
       "version_major": 2,
       "version_minor": 0
      },
      "text/plain": [
       "HBox(children=(IntProgress(value=1, bar_style='info', max=1), HTML(value='')))"
      ]
     },
     "metadata": {},
     "output_type": "display_data"
    },
    {
     "name": "stdout",
     "output_type": "stream",
     "text": [
      "\n"
     ]
    },
    {
     "name": "stderr",
     "output_type": "stream",
     "text": [
      "/home/danich1/anaconda2/envs/snorkel_advanced/lib/python3.6/site-packages/snorkel/labeling/model/label_model.py:358: RuntimeWarning: divide by zero encountered in true_divide\n",
      "  return np.clip(accs / self.coverage, 1e-6, 1.0)\n"
     ]
    },
    {
     "data": {
      "application/vnd.jupyter.widget-view+json": {
       "model_id": "c0b606dccd38496d8d96d7d67326f478",
       "version_major": 2,
       "version_minor": 0
      },
      "text/plain": [
       "HBox(children=(IntProgress(value=1, bar_style='info', max=1), HTML(value='')))"
      ]
     },
     "metadata": {},
     "output_type": "display_data"
    },
    {
     "name": "stdout",
     "output_type": "stream",
     "text": [
      "\n"
     ]
    },
    {
     "name": "stderr",
     "output_type": "stream",
     "text": [
      "/home/danich1/anaconda2/envs/snorkel_advanced/lib/python3.6/site-packages/snorkel/labeling/model/label_model.py:358: RuntimeWarning: divide by zero encountered in true_divide\n",
      "  return np.clip(accs / self.coverage, 1e-6, 1.0)\n"
     ]
    },
    {
     "data": {
      "application/vnd.jupyter.widget-view+json": {
       "model_id": "b2272fd409114e029f9b2c95ee11f45a",
       "version_major": 2,
       "version_minor": 0
      },
      "text/plain": [
       "HBox(children=(IntProgress(value=1, bar_style='info', max=1), HTML(value='')))"
      ]
     },
     "metadata": {},
     "output_type": "display_data"
    },
    {
     "name": "stdout",
     "output_type": "stream",
     "text": [
      "\n"
     ]
    },
    {
     "name": "stderr",
     "output_type": "stream",
     "text": [
      "/home/danich1/anaconda2/envs/snorkel_advanced/lib/python3.6/site-packages/snorkel/labeling/model/label_model.py:358: RuntimeWarning: divide by zero encountered in true_divide\n",
      "  return np.clip(accs / self.coverage, 1e-6, 1.0)\n"
     ]
    }
   ],
   "source": [
    "dev_records = []\n",
    "test_records = []\n",
    "for num_lf in sampled_lfs_dict:\n",
    "    train_grid_results, dev_grid_results, test_grid_results, models = (\n",
    "        train_model_random_lfs(\n",
    "            [baseline_index + sample for sample in sampled_lfs_dict[num_lf]],\n",
    "            correct_L, correct_L_dev, candidate_dfs['dev'].curated_dsh,\n",
    "            correct_L_test, pd.np.round(pd.np.linspace(0.01, 5, num=5), 2)\n",
    "        )\n",
    "    )\n",
    "    \n",
    "    (\n",
    "        pd.DataFrame({key:train_grid_results[key][:,1] for key in train_grid_results})\n",
    "        .assign(candidate_id=label_matricies['train'].candidate_id.values)\n",
    "        .to_csv(f\"output/all/marginals/{num_lf}_sampled_train.tsv.xz\", compression=\"xz\", index=False, sep=\"\\t\")\n",
    "    )\n",
    "    (\n",
    "        pd.DataFrame({key:dev_grid_results[key][:,1] for key in dev_grid_results})\n",
    "        .to_csv(f\"output/all/marginals/{num_lf}_sampled_dev.tsv\", index=False, sep=\"\\t\")\n",
    "    )\n",
    "    (\n",
    "        pd.DataFrame({key:test_grid_results[key][:,1] for key in test_grid_results})\n",
    "        .to_csv(f\"output/all/marginals/{num_lf}_sampled_test.tsv\", index=False, sep=\"\\t\")\n",
    "    )\n",
    "    \n",
    "    (\n",
    "        pd.DataFrame({key:models[key].get_weights() for key in models})\n",
    "        .to_csv(f\"output/all/weights/{num_lf}_sampled_weights.tsv\", index=False, sep=\"\\t\")\n",
    "    )\n",
    "    \n",
    "    dev_records.append(get_model_performance(candidate_dfs['dev'].curated_dsh, dev_grid_results, num_lf))\n",
    "    test_records.append(get_model_performance(candidate_dfs['test'].curated_dsh, test_grid_results, num_lf))"
   ]
  },
  {
   "cell_type": "code",
   "execution_count": 34,
   "metadata": {
    "ExecuteTime": {
     "end_time": "2019-11-06T01:40:45.063520Z",
     "start_time": "2019-11-06T01:40:45.039374Z"
    }
   },
   "outputs": [
    {
     "data": {
      "text/html": [
       "<div>\n",
       "<style scoped>\n",
       "    .dataframe tbody tr th:only-of-type {\n",
       "        vertical-align: middle;\n",
       "    }\n",
       "\n",
       "    .dataframe tbody tr th {\n",
       "        vertical-align: top;\n",
       "    }\n",
       "\n",
       "    .dataframe thead th {\n",
       "        text-align: right;\n",
       "    }\n",
       "</style>\n",
       "<table border=\"1\" class=\"dataframe\">\n",
       "  <thead>\n",
       "    <tr style=\"text-align: right;\">\n",
       "      <th></th>\n",
       "      <th>aupr</th>\n",
       "      <th>auroc</th>\n",
       "      <th>lf_num</th>\n",
       "      <th>lf_sample</th>\n",
       "    </tr>\n",
       "  </thead>\n",
       "  <tbody>\n",
       "    <tr>\n",
       "      <th>0</th>\n",
       "      <td>0.422810</td>\n",
       "      <td>0.494070</td>\n",
       "      <td>0</td>\n",
       "      <td>0:0,1,2,3,4,5,6</td>\n",
       "    </tr>\n",
       "    <tr>\n",
       "      <th>1</th>\n",
       "      <td>0.417631</td>\n",
       "      <td>0.493003</td>\n",
       "      <td>1</td>\n",
       "      <td>0:0,1,2,3,4,5,6,57</td>\n",
       "    </tr>\n",
       "  </tbody>\n",
       "</table>\n",
       "</div>"
      ],
      "text/plain": [
       "       aupr     auroc  lf_num           lf_sample\n",
       "0  0.422810  0.494070       0     0:0,1,2,3,4,5,6\n",
       "1  0.417631  0.493003       1  0:0,1,2,3,4,5,6,57"
      ]
     },
     "execution_count": 34,
     "metadata": {},
     "output_type": "execute_result"
    }
   ],
   "source": [
    "dev_full_results_df = pd.concat([dev_baseline_df] + dev_records).reset_index(drop=True)\n",
    "dev_full_results_df.to_csv(\"output/all/results/dev_sampled_results.tsv\", index=False, sep=\"\\t\")\n",
    "dev_full_results_df.head(2)"
   ]
  },
  {
   "cell_type": "code",
   "execution_count": 38,
   "metadata": {
    "ExecuteTime": {
     "end_time": "2019-11-08T18:29:36.047061Z",
     "start_time": "2019-11-08T18:29:35.780826Z"
    }
   },
   "outputs": [
    {
     "data": {
      "text/plain": [
       "<matplotlib.axes._subplots.AxesSubplot at 0x7f877cb0e390>"
      ]
     },
     "execution_count": 38,
     "metadata": {},
     "output_type": "execute_result"
    },
    {
     "data": {
      "image/png": "[encoded data removed]",
      "text/plain": [
       "<Figure size 432x288 with 1 Axes>"
      ]
     },
     "metadata": {
      "needs_background": "light"
     },
     "output_type": "display_data"
    }
   ],
   "source": [
    "sns.pointplot(x='lf_num', y='auroc', data=dev_full_results_df)"
   ]
  },
  {
   "cell_type": "code",
   "execution_count": 39,
   "metadata": {
    "ExecuteTime": {
     "end_time": "2019-11-08T18:29:36.322898Z",
     "start_time": "2019-11-08T18:29:36.048512Z"
    }
   },
   "outputs": [
    {
     "data": {
      "text/plain": [
       "<matplotlib.axes._subplots.AxesSubplot at 0x7f877cf1c630>"
      ]
     },
     "execution_count": 39,
     "metadata": {},
     "output_type": "execute_result"
    },
    {
     "data": {
      "image/png": "[encoded data removed]",
      "text/plain": [
       "<Figure size 432x288 with 1 Axes>"
      ]
     },
     "metadata": {
      "needs_background": "light"
     },
     "output_type": "display_data"
    }
   ],
   "source": [
    "sns.pointplot(x='lf_num', y='aupr', data=dev_full_results_df)"
   ]
  },
  {
   "cell_type": "code",
   "execution_count": 35,
   "metadata": {
    "ExecuteTime": {
     "end_time": "2019-11-06T01:40:45.153041Z",
     "start_time": "2019-11-06T01:40:45.064872Z"
    }
   },
   "outputs": [
    {
     "data": {
      "text/html": [
       "<div>\n",
       "<style scoped>\n",
       "    .dataframe tbody tr th:only-of-type {\n",
       "        vertical-align: middle;\n",
       "    }\n",
       "\n",
       "    .dataframe tbody tr th {\n",
       "        vertical-align: top;\n",
       "    }\n",
       "\n",
       "    .dataframe thead th {\n",
       "        text-align: right;\n",
       "    }\n",
       "</style>\n",
       "<table border=\"1\" class=\"dataframe\">\n",
       "  <thead>\n",
       "    <tr style=\"text-align: right;\">\n",
       "      <th></th>\n",
       "      <th>aupr</th>\n",
       "      <th>auroc</th>\n",
       "      <th>lf_num</th>\n",
       "      <th>lf_sample</th>\n",
       "    </tr>\n",
       "  </thead>\n",
       "  <tbody>\n",
       "    <tr>\n",
       "      <th>0</th>\n",
       "      <td>0.434471</td>\n",
       "      <td>0.571414</td>\n",
       "      <td>0</td>\n",
       "      <td>0:0,1,2,3,4,5,6</td>\n",
       "    </tr>\n",
       "    <tr>\n",
       "      <th>1</th>\n",
       "      <td>0.435860</td>\n",
       "      <td>0.569570</td>\n",
       "      <td>1</td>\n",
       "      <td>0:0,1,2,3,4,5,6,57</td>\n",
       "    </tr>\n",
       "  </tbody>\n",
       "</table>\n",
       "</div>"
      ],
      "text/plain": [
       "       aupr     auroc  lf_num           lf_sample\n",
       "0  0.434471  0.571414       0     0:0,1,2,3,4,5,6\n",
       "1  0.435860  0.569570       1  0:0,1,2,3,4,5,6,57"
      ]
     },
     "execution_count": 35,
     "metadata": {},
     "output_type": "execute_result"
    }
   ],
   "source": [
    "test_full_results_df = pd.concat([test_baseline_df] + test_records).reset_index(drop=True)\n",
    "test_full_results_df.to_csv(\"output/all/results/test_sampled_results.tsv\", index=False, sep=\"\\t\")\n",
    "test_full_results_df.head(2)"
   ]
  },
  {
   "cell_type": "code",
   "execution_count": 40,
   "metadata": {
    "ExecuteTime": {
     "end_time": "2019-11-08T18:29:36.047061Z",
     "start_time": "2019-11-08T18:29:35.780826Z"
    }
   },
   "outputs": [
    {
     "data": {
      "text/plain": [
       "<matplotlib.axes._subplots.AxesSubplot at 0x7f877cf94f98>"
      ]
     },
     "execution_count": 40,
     "metadata": {},
     "output_type": "execute_result"
    },
    {
     "data": {
      "image/png": "[encoded data removed]",
      "text/plain": [
       "<Figure size 432x288 with 1 Axes>"
      ]
     },
     "metadata": {
      "needs_background": "light"
     },
     "output_type": "display_data"
    }
   ],
   "source": [
    "sns.pointplot(x='lf_num', y='auroc', data=test_full_results_df)"
   ]
  },
  {
   "cell_type": "code",
   "execution_count": 41,
   "metadata": {
    "ExecuteTime": {
     "end_time": "2019-11-08T18:29:36.322898Z",
     "start_time": "2019-11-08T18:29:36.048512Z"
    },
    "scrolled": true
   },
   "outputs": [
    {
     "data": {
      "text/plain": [
       "<matplotlib.axes._subplots.AxesSubplot at 0x7f878404ad30>"
      ]
     },
     "execution_count": 41,
     "metadata": {},
     "output_type": "execute_result"
    },
    {
     "data": {
      "image/png": "[encoded data removed]",
      "text/plain": [
       "<Figure size 432x288 with 1 Axes>"
      ]
     },
     "metadata": {
      "needs_background": "light"
     },
     "output_type": "display_data"
    }
   ],
   "source": [
    "sns.pointplot(x='lf_num', y='aupr', data=test_full_results_df)"
   ]
  }
 ],
 "metadata": {
  "kernelspec": {
   "display_name": "Python [conda env:snorkel_advanced]",
   "language": "python",
   "name": "conda-env-snorkel_advanced-py"
  },
  "language_info": {
   "codemirror_mode": {
    "name": "ipython",
    "version": 3
   },
   "file_extension": ".py",
   "mimetype": "text/x-python",
   "name": "python",
   "nbconvert_exporter": "python",
   "pygments_lexer": "ipython3",
   "version": "3.6.7"
  }
 },
 "nbformat": 4,
 "nbformat_minor": 2
}
