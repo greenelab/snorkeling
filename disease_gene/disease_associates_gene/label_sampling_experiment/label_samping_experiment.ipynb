{
 "cells": [
  {
   "cell_type": "markdown",
   "metadata": {},
   "source": [
    "# Using Labels from Different Relation Types to Predict Disease Associates Gene Sentences"
   ]
  },
  {
   "cell_type": "markdown",
   "metadata": {},
   "source": [
    "This notebook is designed to predict the disease associates gene (DaG) relation. The first step in this process is to label our train, dev, and test sentences (split = 0,1,2). We will label these sentences using all of our handcrafted label functions. The working hypothesis here is there are shared information between different relations, which in turn should aid in predicting disease associates gene relations. After the labeling process, the next step is to train a generative model that will estimate the likelihood of the positive class ($\\hat{Y}$) given our annotated label matrix. **Note**: This process doesn't involve any sentence context, so the only information used here are categorical output."
   ]
  },
  {
   "cell_type": "markdown",
   "metadata": {},
   "source": [
    "## Set up the environment"
   ]
  },
  {
   "cell_type": "code",
   "execution_count": 1,
   "metadata": {
    "ExecuteTime": {
     "end_time": "2019-05-19T21:46:07.582007Z",
     "start_time": "2019-05-19T21:46:06.743007Z"
    }
   },
   "outputs": [],
   "source": [
    "%load_ext autoreload\n",
    "%autoreload 2\n",
    "%matplotlib inline\n",
    "\n",
    "from collections import defaultdict\n",
    "import os\n",
    "import pickle\n",
    "import sys\n",
    "\n",
    "sys.path.append(os.path.abspath('../../../modules'))\n",
    "\n",
    "# Bayesian Optimization\n",
    "from hyperopt import fmin, hp, tpe, Trials\n",
    "\n",
    "import operator\n",
    "from itertools import chain\n",
    "import matplotlib.pyplot as plt\n",
    "import pandas as pd\n",
    "import seaborn as sns\n",
    "from scipy import sparse\n",
    "from sklearn.metrics import roc_curve, auc, f1_score, precision_recall_curve, accuracy_score, confusion_matrix\n",
    "from tqdm import tqdm_notebook"
   ]
  },
  {
   "cell_type": "code",
   "execution_count": 2,
   "metadata": {
    "ExecuteTime": {
     "end_time": "2019-05-19T21:46:07.807839Z",
     "start_time": "2019-05-19T21:46:07.583633Z"
    }
   },
   "outputs": [],
   "source": [
    "#Set up the environment\n",
    "username = \"danich1\"\n",
    "password = \"snorkel\"\n",
    "dbname = \"pubmeddb\"\n",
    "\n",
    "#Path subject to change for different os\n",
    "database_str = \"postgresql+psycopg2://{}:{}@/{}?host=/var/run/postgresql\".format(username, password, dbname)\n",
    "os.environ['SNORKELDB'] = database_str\n",
    "\n",
    "from snorkel import SnorkelSession\n",
    "session = SnorkelSession()"
   ]
  },
  {
   "cell_type": "code",
   "execution_count": 3,
   "metadata": {
    "ExecuteTime": {
     "end_time": "2019-05-19T21:50:58.420215Z",
     "start_time": "2019-05-19T21:46:07.809238Z"
    }
   },
   "outputs": [
    {
     "name": "stderr",
     "output_type": "stream",
     "text": [
      "/home/danich1/anaconda2/envs/snorkeling/lib/python3.6/site-packages/IPython/core/interactiveshell.py:2903: DtypeWarning: Columns (3) have mixed types. Specify dtype option on import or set low_memory=False.\n",
      "  if self.run_code(code, result):\n"
     ]
    }
   ],
   "source": [
    "from snorkel.learning.pytorch.rnn.rnn_base import mark_sentence\n",
    "from snorkel.learning.pytorch.rnn.utils import candidate_to_tokens\n",
    "from snorkel.models import Candidate, candidate_subclass\n",
    "\n",
    "from metal.analysis import lf_summary\n",
    "from metal.label_model import LabelModel\n",
    "from metal.utils import plusminus_to_categorical\n",
    "\n",
    "from gensim.models import FastText\n",
    "from gensim.models import KeyedVectors\n",
    "\n",
    "from utils.notebook_utils.label_matrix_helper import label_candidates, get_auc_significant_stats\n",
    "from utils.notebook_utils.dataframe_helper import load_candidate_dataframes, generate_results_df\n",
    "from utils.notebook_utils.plot_helper import plot_curve, plot_label_matrix_heatmap\n",
    "from utils.notebook_utils.train_model_helper import (\n",
    "    train_baseline_model,\n",
    "    run_random_additional_lfs\n",
    ")\n",
    "\n",
    "sys.path.append(os.path.abspath('data/label_functions'))\n",
    "sys.path.append(os.path.abspath('../../../compound_disease/compound_treats_disease/single_task/data/label_functions'))\n",
    "sys.path.append(os.path.abspath('../../../compound_gene/compound_binds_gene/single_task/data/label_functions'))\n",
    "sys.path.append(os.path.abspath('../../../gene_gene/gene_interacts_gene/single_task/data/label_functions'))\n",
    "from disease_gene_lfs import DG_LFS\n",
    "from compound_disease_lf import CD_LFS\n",
    "from compound_gene_lf import CG_LFS\n",
    "from gene_gene_lf import GG_LFS"
   ]
  },
  {
   "cell_type": "code",
   "execution_count": 4,
   "metadata": {
    "ExecuteTime": {
     "end_time": "2019-05-19T21:50:58.451989Z",
     "start_time": "2019-05-19T21:50:58.421678Z"
    }
   },
   "outputs": [],
   "source": [
    "DiseaseGene = candidate_subclass('DiseaseGene', ['Disease', 'Gene'])"
   ]
  },
  {
   "cell_type": "code",
   "execution_count": 5,
   "metadata": {
    "ExecuteTime": {
     "end_time": "2019-05-19T21:50:58.486927Z",
     "start_time": "2019-05-19T21:50:58.453300Z"
    }
   },
   "outputs": [],
   "source": [
    "quick_load = True"
   ]
  },
  {
   "cell_type": "markdown",
   "metadata": {},
   "source": [
    "## Load the Data and Label the  Sentences"
   ]
  },
  {
   "cell_type": "markdown",
   "metadata": {},
   "source": [
    "This block of code is designed to label the sentences using our label functions. All the sentences are located in our postgres database that is store locally on the lab machine. The labeling process is defined as follows: Given a candidate id, we use the sqlalchemy library to extract a candidate object. Using this object and we pass it through a series of label functions that will output a 1 (positive), -1 (negative) or 0 (abstain) depending on the rule set. Lastly, we aggregate the output of these functions into a sparse matrix that the generative model will use. Since these steps are pretty linear, we parallelized this process using python's multithreading library. Despite the optimization, this process can still take greater than 3 hours to label a set of ~600000 sentences."
   ]
  },
  {
   "cell_type": "code",
   "execution_count": 6,
   "metadata": {
    "ExecuteTime": {
     "end_time": "2019-05-19T21:51:18.047437Z",
     "start_time": "2019-05-19T21:50:58.488293Z"
    },
    "scrolled": true
   },
   "outputs": [
    {
     "data": {
      "text/html": [
       "<div>\n",
       "<style scoped>\n",
       "    .dataframe tbody tr th:only-of-type {\n",
       "        vertical-align: middle;\n",
       "    }\n",
       "\n",
       "    .dataframe tbody tr th {\n",
       "        vertical-align: top;\n",
       "    }\n",
       "\n",
       "    .dataframe thead th {\n",
       "        text-align: right;\n",
       "    }\n",
       "</style>\n",
       "<table border=\"1\" class=\"dataframe\">\n",
       "  <thead>\n",
       "    <tr style=\"text-align: right;\">\n",
       "      <th></th>\n",
       "      <th>entrez_gene_id</th>\n",
       "      <th>gene_symbol</th>\n",
       "      <th>doid_id</th>\n",
       "      <th>doid_name</th>\n",
       "      <th>sources</th>\n",
       "      <th>hetionet</th>\n",
       "      <th>n_sentences</th>\n",
       "      <th>has_sentence</th>\n",
       "      <th>partition_rank</th>\n",
       "      <th>split</th>\n",
       "      <th>compound_mention_count</th>\n",
       "      <th>disease_mention_count</th>\n",
       "      <th>gene_mention_count</th>\n",
       "      <th>sentence_id</th>\n",
       "      <th>text</th>\n",
       "      <th>sen_length</th>\n",
       "      <th>candidate_id</th>\n",
       "    </tr>\n",
       "  </thead>\n",
       "  <tbody>\n",
       "    <tr>\n",
       "      <th>0</th>\n",
       "      <td>1</td>\n",
       "      <td>A1BG</td>\n",
       "      <td>DOID:1324</td>\n",
       "      <td>lung cancer</td>\n",
       "      <td>NaN</td>\n",
       "      <td>0</td>\n",
       "      <td>2</td>\n",
       "      <td>1</td>\n",
       "      <td>0.15465</td>\n",
       "      <td>0</td>\n",
       "      <td>0.0</td>\n",
       "      <td>1.0</td>\n",
       "      <td>2.0</td>\n",
       "      <td>78840952</td>\n",
       "      <td>We revealed that A1BG and LRG1 were overexpres...</td>\n",
       "      <td>30</td>\n",
       "      <td>26725291</td>\n",
       "    </tr>\n",
       "    <tr>\n",
       "      <th>1</th>\n",
       "      <td>1</td>\n",
       "      <td>A1BG</td>\n",
       "      <td>DOID:1324</td>\n",
       "      <td>lung cancer</td>\n",
       "      <td>NaN</td>\n",
       "      <td>0</td>\n",
       "      <td>2</td>\n",
       "      <td>1</td>\n",
       "      <td>0.15465</td>\n",
       "      <td>0</td>\n",
       "      <td>0.0</td>\n",
       "      <td>1.0</td>\n",
       "      <td>1.0</td>\n",
       "      <td>86234572</td>\n",
       "      <td>METHODS: HEK293 cells expressing specific indi...</td>\n",
       "      <td>53</td>\n",
       "      <td>29874761</td>\n",
       "    </tr>\n",
       "  </tbody>\n",
       "</table>\n",
       "</div>"
      ],
      "text/plain": [
       "   entrez_gene_id gene_symbol    doid_id    doid_name sources  hetionet  \\\n",
       "0               1        A1BG  DOID:1324  lung cancer     NaN         0   \n",
       "1               1        A1BG  DOID:1324  lung cancer     NaN         0   \n",
       "\n",
       "   n_sentences  has_sentence  partition_rank  split  compound_mention_count  \\\n",
       "0            2             1         0.15465      0                     0.0   \n",
       "1            2             1         0.15465      0                     0.0   \n",
       "\n",
       "   disease_mention_count  gene_mention_count  sentence_id  \\\n",
       "0                    1.0                 2.0     78840952   \n",
       "1                    1.0                 1.0     86234572   \n",
       "\n",
       "                                                text  sen_length  candidate_id  \n",
       "0  We revealed that A1BG and LRG1 were overexpres...          30      26725291  \n",
       "1  METHODS: HEK293 cells expressing specific indi...          53      29874761  "
      ]
     },
     "execution_count": 6,
     "metadata": {},
     "output_type": "execute_result"
    }
   ],
   "source": [
    "total_candidates_df = pd.read_table(\"../dataset_statistics/data/all_dg_candidates_map.tsv.xz\")\n",
    "total_candidates_df.head(2)"
   ]
  },
  {
   "cell_type": "code",
   "execution_count": 7,
   "metadata": {
    "ExecuteTime": {
     "end_time": "2019-05-19T21:51:18.073692Z",
     "start_time": "2019-05-19T21:51:18.048942Z"
    }
   },
   "outputs": [],
   "source": [
    "spreadsheet_names = {\n",
    "    'train': 'data/sentences/sentence_labels_train.xlsx',\n",
    "    'dev': 'data/sentences/sentence_labels_dev.xlsx',\n",
    "    'test': 'data/sentences/sentence_labels_test.xlsx'\n",
    "}"
   ]
  },
  {
   "cell_type": "code",
   "execution_count": 8,
   "metadata": {
    "ExecuteTime": {
     "end_time": "2019-05-19T21:51:24.130700Z",
     "start_time": "2019-05-19T21:51:18.075005Z"
    }
   },
   "outputs": [
    {
     "name": "stdout",
     "output_type": "stream",
     "text": [
      "Size of train set: 300\n",
      "Size of dev set: 1000\n",
      "Size of test set: 1000\n"
     ]
    }
   ],
   "source": [
    "candidate_dfs = {\n",
    "    key:load_candidate_dataframes(spreadsheet_names[key], \"curated_dsh\")\n",
    "    for key in spreadsheet_names\n",
    "}\n",
    "\n",
    "for key in candidate_dfs:\n",
    "    print(\"Size of {} set: {}\".format(key, candidate_dfs[key].shape[0]))"
   ]
  },
  {
   "cell_type": "code",
   "execution_count": 9,
   "metadata": {
    "ExecuteTime": {
     "end_time": "2019-05-19T21:51:24.159367Z",
     "start_time": "2019-05-19T21:51:24.131966Z"
    }
   },
   "outputs": [],
   "source": [
    "lfs = (\n",
    "    list(DG_LFS[\"DaG\"].values()) + \n",
    "    list(CD_LFS[\"CtD\"].values())[3:25] + \n",
    "    list(CG_LFS[\"CbG\"].values())[9:29] + \n",
    "    list(GG_LFS[\"GiG\"].values())[9:37]\n",
    ")\n",
    "\n",
    "lf_names = (\n",
    "    list(DG_LFS[\"DaG\"].keys()) + \n",
    "    list(CD_LFS[\"CtD\"].keys())[3:25] + \n",
    "    list(CG_LFS[\"CbG\"].keys())[9:29] + \n",
    "    list(GG_LFS[\"GiG\"].keys())[9:37]\n",
    ")"
   ]
  },
  {
   "cell_type": "code",
   "execution_count": 10,
   "metadata": {
    "ExecuteTime": {
     "end_time": "2019-05-19T21:51:24.186945Z",
     "start_time": "2019-05-19T21:51:24.160840Z"
    }
   },
   "outputs": [],
   "source": [
    "if not quick_load:\n",
    "    label_matricies = {\n",
    "        'train':label_candidates(\n",
    "            session, \n",
    "            (\n",
    "                total_candidates_df\n",
    "                .query(\"split==0&disease_mention_count==1&gene_mention_count==1\")\n",
    "                .candidate_id\n",
    "                .values\n",
    "                .tolist()\n",
    "            ),\n",
    "            lfs, \n",
    "            lf_names,\n",
    "            num_threads=10,\n",
    "            batch_size=50000,\n",
    "            multitask=False\n",
    "        )\n",
    "    }"
   ]
  },
  {
   "cell_type": "code",
   "execution_count": 11,
   "metadata": {
    "ExecuteTime": {
     "end_time": "2019-05-19T21:51:24.213920Z",
     "start_time": "2019-05-19T21:51:24.188250Z"
    }
   },
   "outputs": [],
   "source": [
    "if not quick_load:\n",
    "    label_matricies.update({\n",
    "        key:label_candidates(\n",
    "            session, \n",
    "            candidate_dfs[key]['candidate_id'].values.tolist(),\n",
    "            lfs, \n",
    "            lf_names,\n",
    "            num_threads=10,\n",
    "            batch_size=50000,\n",
    "            multitask=False\n",
    "        )\n",
    "        for key in candidate_dfs if key != \"train\"\n",
    "    })"
   ]
  },
  {
   "cell_type": "code",
   "execution_count": 12,
   "metadata": {
    "ExecuteTime": {
     "end_time": "2019-05-19T21:51:27.670846Z",
     "start_time": "2019-05-19T21:51:24.215235Z"
    }
   },
   "outputs": [],
   "source": [
    "# Save the label matricies to a file for future loading/error analysis\n",
    "if not quick_load:\n",
    "    (\n",
    "        label_matricies['train']\n",
    "        .sort_values(\"candidate_id\")\n",
    "        .to_csv(\"data/train_sparse_matrix.tsv\", sep=\"\\t\", index=False)\n",
    "    )\n",
    "    (\n",
    "        label_matricies['dev']\n",
    "        .sort_values(\"candidate_id\")\n",
    "        .to_csv(\"data/dev_sparse_matrix.tsv\", sep=\"\\t\", index=False)\n",
    "    )\n",
    "    (\n",
    "        label_matricies['test']\n",
    "        .sort_values(\"candidate_id\")\n",
    "        .to_csv(\"data/test_sparse_matrix.tsv\", sep=\"\\t\", index=False)\n",
    "    )\n",
    "# Quick load the label matricies\n",
    "else:\n",
    "    label_destinations = {\n",
    "        'train':\"data/train_sparse_matrix.tsv.xz\",\n",
    "        'dev':\"data/dev_sparse_matrix.tsv.xz\",\n",
    "        'test':\"data/test_sparse_matrix.tsv.xz\"\n",
    "    }\n",
    "    label_matricies = {\n",
    "        key:pd.read_table(label_destinations[key]).to_sparse()\n",
    "        for key in label_destinations\n",
    "    }"
   ]
  },
  {
   "cell_type": "code",
   "execution_count": 13,
   "metadata": {
    "ExecuteTime": {
     "end_time": "2019-05-19T21:51:37.474956Z",
     "start_time": "2019-05-19T21:51:27.672113Z"
    },
    "scrolled": true
   },
   "outputs": [],
   "source": [
    "# Important Note Snorkel Metal uses a different coding scheme\n",
    "# than the label functions output. (2 for negative instead of -1).\n",
    "# This step corrects this problem by converting -1s to 2\n",
    "\n",
    "train_ids = label_matricies['train'].candidate_id.isin(candidate_dfs['train'].candidate_id)\n",
    "\n",
    "correct_L = plusminus_to_categorical(\n",
    "    label_matricies['train']\n",
    "    [train_ids == False]\n",
    "    .sort_values(\"candidate_id\")\n",
    "    .drop(\"candidate_id\", axis=1)\n",
    "    .to_coo()\n",
    "    .toarray()\n",
    "    .astype(int)\n",
    ")\n",
    "\n",
    "correct_L_train = plusminus_to_categorical(\n",
    "    label_matricies['train']\n",
    "    [train_ids]\n",
    "    .sort_values(\"candidate_id\")\n",
    "    .drop(\"candidate_id\", axis=1)\n",
    "    .to_coo()\n",
    "    .toarray()\n",
    "    .astype(int)\n",
    ")\n",
    "\n",
    "correct_L_dev = plusminus_to_categorical(\n",
    "    label_matricies['dev']\n",
    "    .sort_values(\"candidate_id\")\n",
    "    .drop(\"candidate_id\", axis=1)\n",
    "    .to_coo()\n",
    "    .toarray()\n",
    "    .astype(int)\n",
    ")\n",
    "\n",
    "correct_L_test = plusminus_to_categorical(\n",
    "    label_matricies['test']\n",
    "    .sort_values(\"candidate_id\")\n",
    "    .drop(\"candidate_id\", axis=1)\n",
    "    .to_coo()\n",
    "    .toarray()\n",
    "    .astype(int)\n",
    ")"
   ]
  },
  {
   "cell_type": "code",
   "execution_count": 14,
   "metadata": {
    "ExecuteTime": {
     "end_time": "2019-05-19T21:51:44.508289Z",
     "start_time": "2019-05-19T21:51:37.476412Z"
    }
   },
   "outputs": [
    {
     "data": {
      "text/html": [
       "<div>\n",
       "<style scoped>\n",
       "    .dataframe tbody tr th:only-of-type {\n",
       "        vertical-align: middle;\n",
       "    }\n",
       "\n",
       "    .dataframe tbody tr th {\n",
       "        vertical-align: top;\n",
       "    }\n",
       "\n",
       "    .dataframe thead th {\n",
       "        text-align: right;\n",
       "    }\n",
       "</style>\n",
       "<table border=\"1\" class=\"dataframe\">\n",
       "  <thead>\n",
       "    <tr style=\"text-align: right;\">\n",
       "      <th></th>\n",
       "      <th>j</th>\n",
       "      <th>Polarity</th>\n",
       "      <th>Coverage</th>\n",
       "      <th>Overlaps</th>\n",
       "      <th>Conflicts</th>\n",
       "    </tr>\n",
       "  </thead>\n",
       "  <tbody>\n",
       "    <tr>\n",
       "      <th>LF_HETNET_DISEASES</th>\n",
       "      <td>0</td>\n",
       "      <td>1</td>\n",
       "      <td>0.377796</td>\n",
       "      <td>0.377796</td>\n",
       "      <td>0.377773</td>\n",
       "    </tr>\n",
       "    <tr>\n",
       "      <th>LF_HETNET_DOAF</th>\n",
       "      <td>1</td>\n",
       "      <td>1</td>\n",
       "      <td>0.172167</td>\n",
       "      <td>0.172167</td>\n",
       "      <td>0.172150</td>\n",
       "    </tr>\n",
       "    <tr>\n",
       "      <th>LF_HETNET_DisGeNET</th>\n",
       "      <td>2</td>\n",
       "      <td>1</td>\n",
       "      <td>0.341884</td>\n",
       "      <td>0.341884</td>\n",
       "      <td>0.341867</td>\n",
       "    </tr>\n",
       "    <tr>\n",
       "      <th>LF_HETNET_GWAS</th>\n",
       "      <td>3</td>\n",
       "      <td>1</td>\n",
       "      <td>0.043169</td>\n",
       "      <td>0.043169</td>\n",
       "      <td>0.043166</td>\n",
       "    </tr>\n",
       "    <tr>\n",
       "      <th>LF_HETNET_DaG_ABSENT</th>\n",
       "      <td>4</td>\n",
       "      <td>2</td>\n",
       "      <td>0.510950</td>\n",
       "      <td>0.510950</td>\n",
       "      <td>0.505026</td>\n",
       "    </tr>\n",
       "    <tr>\n",
       "      <th>LF_DG_CHECK_GENE_TAG</th>\n",
       "      <td>5</td>\n",
       "      <td>2</td>\n",
       "      <td>0.239507</td>\n",
       "      <td>0.239507</td>\n",
       "      <td>0.238009</td>\n",
       "    </tr>\n",
       "    <tr>\n",
       "      <th>LF_DG_CHECK_DISEASE_TAG</th>\n",
       "      <td>6</td>\n",
       "      <td>2</td>\n",
       "      <td>0.375809</td>\n",
       "      <td>0.375809</td>\n",
       "      <td>0.373368</td>\n",
       "    </tr>\n",
       "    <tr>\n",
       "      <th>LF_DG_IS_BIOMARKER</th>\n",
       "      <td>7</td>\n",
       "      <td>1</td>\n",
       "      <td>0.165450</td>\n",
       "      <td>0.165450</td>\n",
       "      <td>0.165439</td>\n",
       "    </tr>\n",
       "    <tr>\n",
       "      <th>LF_DaG_ASSOCIATION</th>\n",
       "      <td>8</td>\n",
       "      <td>1</td>\n",
       "      <td>0.234983</td>\n",
       "      <td>0.234983</td>\n",
       "      <td>0.234965</td>\n",
       "    </tr>\n",
       "    <tr>\n",
       "      <th>LF_DaG_WEAK_ASSOCIATION</th>\n",
       "      <td>9</td>\n",
       "      <td>1</td>\n",
       "      <td>0.008549</td>\n",
       "      <td>0.008549</td>\n",
       "      <td>0.008549</td>\n",
       "    </tr>\n",
       "    <tr>\n",
       "      <th>LF_DaG_NO_ASSOCIATION</th>\n",
       "      <td>10</td>\n",
       "      <td>2</td>\n",
       "      <td>0.017120</td>\n",
       "      <td>0.017120</td>\n",
       "      <td>0.017023</td>\n",
       "    </tr>\n",
       "    <tr>\n",
       "      <th>LF_DaG_CELLULAR_ACTIVITY</th>\n",
       "      <td>11</td>\n",
       "      <td>1</td>\n",
       "      <td>0.019651</td>\n",
       "      <td>0.019651</td>\n",
       "      <td>0.019643</td>\n",
       "    </tr>\n",
       "    <tr>\n",
       "      <th>LF_DaG_DISEASE_SAMPLE</th>\n",
       "      <td>12</td>\n",
       "      <td>1</td>\n",
       "      <td>0.611477</td>\n",
       "      <td>0.611477</td>\n",
       "      <td>0.611463</td>\n",
       "    </tr>\n",
       "    <tr>\n",
       "      <th>LF_DG_METHOD_DESC</th>\n",
       "      <td>13</td>\n",
       "      <td>2</td>\n",
       "      <td>0.136460</td>\n",
       "      <td>0.136460</td>\n",
       "      <td>0.135555</td>\n",
       "    </tr>\n",
       "    <tr>\n",
       "      <th>LF_DG_TITLE</th>\n",
       "      <td>14</td>\n",
       "      <td>2</td>\n",
       "      <td>0.041466</td>\n",
       "      <td>0.041466</td>\n",
       "      <td>0.041220</td>\n",
       "    </tr>\n",
       "    <tr>\n",
       "      <th>LF_DG_GENETIC_ABNORMALITIES</th>\n",
       "      <td>15</td>\n",
       "      <td>1</td>\n",
       "      <td>0.068955</td>\n",
       "      <td>0.068955</td>\n",
       "      <td>0.068953</td>\n",
       "    </tr>\n",
       "    <tr>\n",
       "      <th>LF_DG_DIAGNOSIS</th>\n",
       "      <td>16</td>\n",
       "      <td>1</td>\n",
       "      <td>0.019243</td>\n",
       "      <td>0.019243</td>\n",
       "      <td>0.019243</td>\n",
       "    </tr>\n",
       "    <tr>\n",
       "      <th>LF_DG_PATIENT_WITH</th>\n",
       "      <td>17</td>\n",
       "      <td>1</td>\n",
       "      <td>0.100340</td>\n",
       "      <td>0.100340</td>\n",
       "      <td>0.100335</td>\n",
       "    </tr>\n",
       "    <tr>\n",
       "      <th>LF_DG_CONCLUSION_TITLE</th>\n",
       "      <td>18</td>\n",
       "      <td>1</td>\n",
       "      <td>0.024797</td>\n",
       "      <td>0.024797</td>\n",
       "      <td>0.024797</td>\n",
       "    </tr>\n",
       "    <tr>\n",
       "      <th>LF_DaG_NO_CONCLUSION</th>\n",
       "      <td>19</td>\n",
       "      <td>2</td>\n",
       "      <td>0.691836</td>\n",
       "      <td>0.691836</td>\n",
       "      <td>0.686006</td>\n",
       "    </tr>\n",
       "    <tr>\n",
       "      <th>LF_DaG_CONCLUSION</th>\n",
       "      <td>20</td>\n",
       "      <td>[1, 2]</td>\n",
       "      <td>0.309856</td>\n",
       "      <td>0.309856</td>\n",
       "      <td>0.309730</td>\n",
       "    </tr>\n",
       "    <tr>\n",
       "      <th>LF_DG_DISTANCE_SHORT</th>\n",
       "      <td>21</td>\n",
       "      <td>2</td>\n",
       "      <td>0.149799</td>\n",
       "      <td>0.149799</td>\n",
       "      <td>0.143949</td>\n",
       "    </tr>\n",
       "    <tr>\n",
       "      <th>LF_DG_DISTANCE_LONG</th>\n",
       "      <td>22</td>\n",
       "      <td>2</td>\n",
       "      <td>0.000983</td>\n",
       "      <td>0.000983</td>\n",
       "      <td>0.000908</td>\n",
       "    </tr>\n",
       "    <tr>\n",
       "      <th>LF_DG_ALLOWED_DISTANCE</th>\n",
       "      <td>23</td>\n",
       "      <td>1</td>\n",
       "      <td>0.849218</td>\n",
       "      <td>0.849218</td>\n",
       "      <td>0.849190</td>\n",
       "    </tr>\n",
       "    <tr>\n",
       "      <th>LF_DG_NO_VERB</th>\n",
       "      <td>24</td>\n",
       "      <td>2</td>\n",
       "      <td>0.144005</td>\n",
       "      <td>0.144005</td>\n",
       "      <td>0.142568</td>\n",
       "    </tr>\n",
       "    <tr>\n",
       "      <th>LF_DG_MULTIPLE_ENTITIES</th>\n",
       "      <td>25</td>\n",
       "      <td>2</td>\n",
       "      <td>0.084880</td>\n",
       "      <td>0.084880</td>\n",
       "      <td>0.084660</td>\n",
       "    </tr>\n",
       "    <tr>\n",
       "      <th>LF_DG_CONTEXT_SWITCH</th>\n",
       "      <td>26</td>\n",
       "      <td>2</td>\n",
       "      <td>0.009189</td>\n",
       "      <td>0.009189</td>\n",
       "      <td>0.009186</td>\n",
       "    </tr>\n",
       "    <tr>\n",
       "      <th>LF_DG_BICLUSTER_CASUAL_MUTATIONS</th>\n",
       "      <td>27</td>\n",
       "      <td>1</td>\n",
       "      <td>0.223405</td>\n",
       "      <td>0.223405</td>\n",
       "      <td>0.223399</td>\n",
       "    </tr>\n",
       "    <tr>\n",
       "      <th>LF_DG_BICLUSTER_MUTATIONS</th>\n",
       "      <td>28</td>\n",
       "      <td>1</td>\n",
       "      <td>0.207040</td>\n",
       "      <td>0.207040</td>\n",
       "      <td>0.207040</td>\n",
       "    </tr>\n",
       "    <tr>\n",
       "      <th>LF_DG_BICLUSTER_DRUG_TARGETS</th>\n",
       "      <td>29</td>\n",
       "      <td>1</td>\n",
       "      <td>0.231150</td>\n",
       "      <td>0.231150</td>\n",
       "      <td>0.231146</td>\n",
       "    </tr>\n",
       "    <tr>\n",
       "      <th>...</th>\n",
       "      <td>...</td>\n",
       "      <td>...</td>\n",
       "      <td>...</td>\n",
       "      <td>...</td>\n",
       "      <td>...</td>\n",
       "    </tr>\n",
       "    <tr>\n",
       "      <th>LF_CG_BICLUSTER_AFF_EXPRESSION</th>\n",
       "      <td>77</td>\n",
       "      <td>1</td>\n",
       "      <td>0.028046</td>\n",
       "      <td>0.028046</td>\n",
       "      <td>0.028046</td>\n",
       "    </tr>\n",
       "    <tr>\n",
       "      <th>LF_CG_BICLUSTER_INHIBITS</th>\n",
       "      <td>78</td>\n",
       "      <td>1</td>\n",
       "      <td>0.015824</td>\n",
       "      <td>0.015824</td>\n",
       "      <td>0.015824</td>\n",
       "    </tr>\n",
       "    <tr>\n",
       "      <th>LF_GiG_BINDING_IDENTIFICATIONS</th>\n",
       "      <td>79</td>\n",
       "      <td>1</td>\n",
       "      <td>0.010691</td>\n",
       "      <td>0.010691</td>\n",
       "      <td>0.010690</td>\n",
       "    </tr>\n",
       "    <tr>\n",
       "      <th>LF_GiG_CELL_IDENTIFICATIONS</th>\n",
       "      <td>80</td>\n",
       "      <td>2</td>\n",
       "      <td>0.332235</td>\n",
       "      <td>0.332235</td>\n",
       "      <td>0.330264</td>\n",
       "    </tr>\n",
       "    <tr>\n",
       "      <th>LF_GiG_COMPOUND_IDENTIFICATIONS</th>\n",
       "      <td>81</td>\n",
       "      <td>2</td>\n",
       "      <td>0.033914</td>\n",
       "      <td>0.033914</td>\n",
       "      <td>0.033908</td>\n",
       "    </tr>\n",
       "    <tr>\n",
       "      <th>LF_GiG_UPREGULATES</th>\n",
       "      <td>82</td>\n",
       "      <td>2</td>\n",
       "      <td>0.013731</td>\n",
       "      <td>0.013731</td>\n",
       "      <td>0.013728</td>\n",
       "    </tr>\n",
       "    <tr>\n",
       "      <th>LF_GiG_DOWNREGULATES</th>\n",
       "      <td>83</td>\n",
       "      <td>2</td>\n",
       "      <td>0.007671</td>\n",
       "      <td>0.007671</td>\n",
       "      <td>0.007658</td>\n",
       "    </tr>\n",
       "    <tr>\n",
       "      <th>LF_GiG_REGULATION</th>\n",
       "      <td>84</td>\n",
       "      <td>2</td>\n",
       "      <td>0.022973</td>\n",
       "      <td>0.022973</td>\n",
       "      <td>0.022953</td>\n",
       "    </tr>\n",
       "    <tr>\n",
       "      <th>LF_GiG_ASSOCIATION</th>\n",
       "      <td>85</td>\n",
       "      <td>2</td>\n",
       "      <td>0.053933</td>\n",
       "      <td>0.053933</td>\n",
       "      <td>0.053899</td>\n",
       "    </tr>\n",
       "    <tr>\n",
       "      <th>LF_GiG_BOUND_IDENTIFIERS</th>\n",
       "      <td>86</td>\n",
       "      <td>1</td>\n",
       "      <td>0.030439</td>\n",
       "      <td>0.030439</td>\n",
       "      <td>0.030425</td>\n",
       "    </tr>\n",
       "    <tr>\n",
       "      <th>LF_GiG_GENE_IDENTIFIERS</th>\n",
       "      <td>87</td>\n",
       "      <td>1</td>\n",
       "      <td>0.156847</td>\n",
       "      <td>0.156847</td>\n",
       "      <td>0.156834</td>\n",
       "    </tr>\n",
       "    <tr>\n",
       "      <th>LF_GiG_GENE_ADJECTIVE</th>\n",
       "      <td>88</td>\n",
       "      <td>2</td>\n",
       "      <td>0.003372</td>\n",
       "      <td>0.003372</td>\n",
       "      <td>0.003360</td>\n",
       "    </tr>\n",
       "    <tr>\n",
       "      <th>LF_GiG_DIAGNOSIS_IDENTIFIERS</th>\n",
       "      <td>89</td>\n",
       "      <td>2</td>\n",
       "      <td>0.004908</td>\n",
       "      <td>0.004908</td>\n",
       "      <td>0.004908</td>\n",
       "    </tr>\n",
       "    <tr>\n",
       "      <th>LF_GiG_METHOD_DESC</th>\n",
       "      <td>90</td>\n",
       "      <td>2</td>\n",
       "      <td>0.016701</td>\n",
       "      <td>0.016701</td>\n",
       "      <td>0.016609</td>\n",
       "    </tr>\n",
       "    <tr>\n",
       "      <th>LF_GiG_PARENTHESIS</th>\n",
       "      <td>91</td>\n",
       "      <td>2</td>\n",
       "      <td>0.003515</td>\n",
       "      <td>0.003515</td>\n",
       "      <td>0.003003</td>\n",
       "    </tr>\n",
       "    <tr>\n",
       "      <th>LF_GG_IN_SERIES</th>\n",
       "      <td>92</td>\n",
       "      <td>2</td>\n",
       "      <td>0.074750</td>\n",
       "      <td>0.074750</td>\n",
       "      <td>0.074335</td>\n",
       "    </tr>\n",
       "    <tr>\n",
       "      <th>LF_GiG_NO_CONCLUSION</th>\n",
       "      <td>93</td>\n",
       "      <td>2</td>\n",
       "      <td>0.877743</td>\n",
       "      <td>0.877743</td>\n",
       "      <td>0.871828</td>\n",
       "    </tr>\n",
       "    <tr>\n",
       "      <th>LF_GiG_CONCLUSION</th>\n",
       "      <td>94</td>\n",
       "      <td>[1, 2]</td>\n",
       "      <td>0.122257</td>\n",
       "      <td>0.122257</td>\n",
       "      <td>0.122219</td>\n",
       "    </tr>\n",
       "    <tr>\n",
       "      <th>LF_GG_DISTANCE_SHORT</th>\n",
       "      <td>95</td>\n",
       "      <td>2</td>\n",
       "      <td>0.063797</td>\n",
       "      <td>0.063797</td>\n",
       "      <td>0.057947</td>\n",
       "    </tr>\n",
       "    <tr>\n",
       "      <th>LF_GG_DISTANCE_LONG</th>\n",
       "      <td>96</td>\n",
       "      <td>2</td>\n",
       "      <td>0.030905</td>\n",
       "      <td>0.030905</td>\n",
       "      <td>0.030831</td>\n",
       "    </tr>\n",
       "    <tr>\n",
       "      <th>LF_GG_ALLOWED_DISTANCE</th>\n",
       "      <td>97</td>\n",
       "      <td>1</td>\n",
       "      <td>0.905297</td>\n",
       "      <td>0.905297</td>\n",
       "      <td>0.905269</td>\n",
       "    </tr>\n",
       "    <tr>\n",
       "      <th>LF_GG_NO_VERB</th>\n",
       "      <td>98</td>\n",
       "      <td>2</td>\n",
       "      <td>0.144005</td>\n",
       "      <td>0.144005</td>\n",
       "      <td>0.142568</td>\n",
       "    </tr>\n",
       "    <tr>\n",
       "      <th>LF_GG_BICLUSTER_BINDING</th>\n",
       "      <td>99</td>\n",
       "      <td>1</td>\n",
       "      <td>0.007205</td>\n",
       "      <td>0.007205</td>\n",
       "      <td>0.007205</td>\n",
       "    </tr>\n",
       "    <tr>\n",
       "      <th>LF_GG_BICLUSTER_ENHANCES</th>\n",
       "      <td>100</td>\n",
       "      <td>1</td>\n",
       "      <td>0.004291</td>\n",
       "      <td>0.004291</td>\n",
       "      <td>0.004291</td>\n",
       "    </tr>\n",
       "    <tr>\n",
       "      <th>LF_GG_BICLUSTER_ACTIVATES</th>\n",
       "      <td>101</td>\n",
       "      <td>1</td>\n",
       "      <td>0.006632</td>\n",
       "      <td>0.006632</td>\n",
       "      <td>0.006632</td>\n",
       "    </tr>\n",
       "    <tr>\n",
       "      <th>LF_GG_BICLUSTER_AFFECTS_EXPRESSION</th>\n",
       "      <td>102</td>\n",
       "      <td>1</td>\n",
       "      <td>0.005121</td>\n",
       "      <td>0.005121</td>\n",
       "      <td>0.005121</td>\n",
       "    </tr>\n",
       "    <tr>\n",
       "      <th>LF_GG_BICLUSTER_INCREASES_EXPRESSION</th>\n",
       "      <td>103</td>\n",
       "      <td>2</td>\n",
       "      <td>0.006717</td>\n",
       "      <td>0.006717</td>\n",
       "      <td>0.006714</td>\n",
       "    </tr>\n",
       "    <tr>\n",
       "      <th>LF_GG_BICLUSTER_SIGNALING</th>\n",
       "      <td>104</td>\n",
       "      <td>1</td>\n",
       "      <td>0.006413</td>\n",
       "      <td>0.006413</td>\n",
       "      <td>0.006413</td>\n",
       "    </tr>\n",
       "    <tr>\n",
       "      <th>LF_GG_BICLUSTER_IDENTICAL_PROTEIN</th>\n",
       "      <td>105</td>\n",
       "      <td>2</td>\n",
       "      <td>0.005662</td>\n",
       "      <td>0.005662</td>\n",
       "      <td>0.005662</td>\n",
       "    </tr>\n",
       "    <tr>\n",
       "      <th>LF_GG_BICLUSTER_CELL_PRODUCTION</th>\n",
       "      <td>106</td>\n",
       "      <td>2</td>\n",
       "      <td>0.006588</td>\n",
       "      <td>0.006588</td>\n",
       "      <td>0.006584</td>\n",
       "    </tr>\n",
       "  </tbody>\n",
       "</table>\n",
       "<p>107 rows × 5 columns</p>\n",
       "</div>"
      ],
      "text/plain": [
       "                                        j Polarity  Coverage  Overlaps  \\\n",
       "LF_HETNET_DISEASES                      0        1  0.377796  0.377796   \n",
       "LF_HETNET_DOAF                          1        1  0.172167  0.172167   \n",
       "LF_HETNET_DisGeNET                      2        1  0.341884  0.341884   \n",
       "LF_HETNET_GWAS                          3        1  0.043169  0.043169   \n",
       "LF_HETNET_DaG_ABSENT                    4        2  0.510950  0.510950   \n",
       "LF_DG_CHECK_GENE_TAG                    5        2  0.239507  0.239507   \n",
       "LF_DG_CHECK_DISEASE_TAG                 6        2  0.375809  0.375809   \n",
       "LF_DG_IS_BIOMARKER                      7        1  0.165450  0.165450   \n",
       "LF_DaG_ASSOCIATION                      8        1  0.234983  0.234983   \n",
       "LF_DaG_WEAK_ASSOCIATION                 9        1  0.008549  0.008549   \n",
       "LF_DaG_NO_ASSOCIATION                  10        2  0.017120  0.017120   \n",
       "LF_DaG_CELLULAR_ACTIVITY               11        1  0.019651  0.019651   \n",
       "LF_DaG_DISEASE_SAMPLE                  12        1  0.611477  0.611477   \n",
       "LF_DG_METHOD_DESC                      13        2  0.136460  0.136460   \n",
       "LF_DG_TITLE                            14        2  0.041466  0.041466   \n",
       "LF_DG_GENETIC_ABNORMALITIES            15        1  0.068955  0.068955   \n",
       "LF_DG_DIAGNOSIS                        16        1  0.019243  0.019243   \n",
       "LF_DG_PATIENT_WITH                     17        1  0.100340  0.100340   \n",
       "LF_DG_CONCLUSION_TITLE                 18        1  0.024797  0.024797   \n",
       "LF_DaG_NO_CONCLUSION                   19        2  0.691836  0.691836   \n",
       "LF_DaG_CONCLUSION                      20   [1, 2]  0.309856  0.309856   \n",
       "LF_DG_DISTANCE_SHORT                   21        2  0.149799  0.149799   \n",
       "LF_DG_DISTANCE_LONG                    22        2  0.000983  0.000983   \n",
       "LF_DG_ALLOWED_DISTANCE                 23        1  0.849218  0.849218   \n",
       "LF_DG_NO_VERB                          24        2  0.144005  0.144005   \n",
       "LF_DG_MULTIPLE_ENTITIES                25        2  0.084880  0.084880   \n",
       "LF_DG_CONTEXT_SWITCH                   26        2  0.009189  0.009189   \n",
       "LF_DG_BICLUSTER_CASUAL_MUTATIONS       27        1  0.223405  0.223405   \n",
       "LF_DG_BICLUSTER_MUTATIONS              28        1  0.207040  0.207040   \n",
       "LF_DG_BICLUSTER_DRUG_TARGETS           29        1  0.231150  0.231150   \n",
       "...                                   ...      ...       ...       ...   \n",
       "LF_CG_BICLUSTER_AFF_EXPRESSION         77        1  0.028046  0.028046   \n",
       "LF_CG_BICLUSTER_INHIBITS               78        1  0.015824  0.015824   \n",
       "LF_GiG_BINDING_IDENTIFICATIONS         79        1  0.010691  0.010691   \n",
       "LF_GiG_CELL_IDENTIFICATIONS            80        2  0.332235  0.332235   \n",
       "LF_GiG_COMPOUND_IDENTIFICATIONS        81        2  0.033914  0.033914   \n",
       "LF_GiG_UPREGULATES                     82        2  0.013731  0.013731   \n",
       "LF_GiG_DOWNREGULATES                   83        2  0.007671  0.007671   \n",
       "LF_GiG_REGULATION                      84        2  0.022973  0.022973   \n",
       "LF_GiG_ASSOCIATION                     85        2  0.053933  0.053933   \n",
       "LF_GiG_BOUND_IDENTIFIERS               86        1  0.030439  0.030439   \n",
       "LF_GiG_GENE_IDENTIFIERS                87        1  0.156847  0.156847   \n",
       "LF_GiG_GENE_ADJECTIVE                  88        2  0.003372  0.003372   \n",
       "LF_GiG_DIAGNOSIS_IDENTIFIERS           89        2  0.004908  0.004908   \n",
       "LF_GiG_METHOD_DESC                     90        2  0.016701  0.016701   \n",
       "LF_GiG_PARENTHESIS                     91        2  0.003515  0.003515   \n",
       "LF_GG_IN_SERIES                        92        2  0.074750  0.074750   \n",
       "LF_GiG_NO_CONCLUSION                   93        2  0.877743  0.877743   \n",
       "LF_GiG_CONCLUSION                      94   [1, 2]  0.122257  0.122257   \n",
       "LF_GG_DISTANCE_SHORT                   95        2  0.063797  0.063797   \n",
       "LF_GG_DISTANCE_LONG                    96        2  0.030905  0.030905   \n",
       "LF_GG_ALLOWED_DISTANCE                 97        1  0.905297  0.905297   \n",
       "LF_GG_NO_VERB                          98        2  0.144005  0.144005   \n",
       "LF_GG_BICLUSTER_BINDING                99        1  0.007205  0.007205   \n",
       "LF_GG_BICLUSTER_ENHANCES              100        1  0.004291  0.004291   \n",
       "LF_GG_BICLUSTER_ACTIVATES             101        1  0.006632  0.006632   \n",
       "LF_GG_BICLUSTER_AFFECTS_EXPRESSION    102        1  0.005121  0.005121   \n",
       "LF_GG_BICLUSTER_INCREASES_EXPRESSION  103        2  0.006717  0.006717   \n",
       "LF_GG_BICLUSTER_SIGNALING             104        1  0.006413  0.006413   \n",
       "LF_GG_BICLUSTER_IDENTICAL_PROTEIN     105        2  0.005662  0.005662   \n",
       "LF_GG_BICLUSTER_CELL_PRODUCTION       106        2  0.006588  0.006588   \n",
       "\n",
       "                                      Conflicts  \n",
       "LF_HETNET_DISEASES                     0.377773  \n",
       "LF_HETNET_DOAF                         0.172150  \n",
       "LF_HETNET_DisGeNET                     0.341867  \n",
       "LF_HETNET_GWAS                         0.043166  \n",
       "LF_HETNET_DaG_ABSENT                   0.505026  \n",
       "LF_DG_CHECK_GENE_TAG                   0.238009  \n",
       "LF_DG_CHECK_DISEASE_TAG                0.373368  \n",
       "LF_DG_IS_BIOMARKER                     0.165439  \n",
       "LF_DaG_ASSOCIATION                     0.234965  \n",
       "LF_DaG_WEAK_ASSOCIATION                0.008549  \n",
       "LF_DaG_NO_ASSOCIATION                  0.017023  \n",
       "LF_DaG_CELLULAR_ACTIVITY               0.019643  \n",
       "LF_DaG_DISEASE_SAMPLE                  0.611463  \n",
       "LF_DG_METHOD_DESC                      0.135555  \n",
       "LF_DG_TITLE                            0.041220  \n",
       "LF_DG_GENETIC_ABNORMALITIES            0.068953  \n",
       "LF_DG_DIAGNOSIS                        0.019243  \n",
       "LF_DG_PATIENT_WITH                     0.100335  \n",
       "LF_DG_CONCLUSION_TITLE                 0.024797  \n",
       "LF_DaG_NO_CONCLUSION                   0.686006  \n",
       "LF_DaG_CONCLUSION                      0.309730  \n",
       "LF_DG_DISTANCE_SHORT                   0.143949  \n",
       "LF_DG_DISTANCE_LONG                    0.000908  \n",
       "LF_DG_ALLOWED_DISTANCE                 0.849190  \n",
       "LF_DG_NO_VERB                          0.142568  \n",
       "LF_DG_MULTIPLE_ENTITIES                0.084660  \n",
       "LF_DG_CONTEXT_SWITCH                   0.009186  \n",
       "LF_DG_BICLUSTER_CASUAL_MUTATIONS       0.223399  \n",
       "LF_DG_BICLUSTER_MUTATIONS              0.207040  \n",
       "LF_DG_BICLUSTER_DRUG_TARGETS           0.231146  \n",
       "...                                         ...  \n",
       "LF_CG_BICLUSTER_AFF_EXPRESSION         0.028046  \n",
       "LF_CG_BICLUSTER_INHIBITS               0.015824  \n",
       "LF_GiG_BINDING_IDENTIFICATIONS         0.010690  \n",
       "LF_GiG_CELL_IDENTIFICATIONS            0.330264  \n",
       "LF_GiG_COMPOUND_IDENTIFICATIONS        0.033908  \n",
       "LF_GiG_UPREGULATES                     0.013728  \n",
       "LF_GiG_DOWNREGULATES                   0.007658  \n",
       "LF_GiG_REGULATION                      0.022953  \n",
       "LF_GiG_ASSOCIATION                     0.053899  \n",
       "LF_GiG_BOUND_IDENTIFIERS               0.030425  \n",
       "LF_GiG_GENE_IDENTIFIERS                0.156834  \n",
       "LF_GiG_GENE_ADJECTIVE                  0.003360  \n",
       "LF_GiG_DIAGNOSIS_IDENTIFIERS           0.004908  \n",
       "LF_GiG_METHOD_DESC                     0.016609  \n",
       "LF_GiG_PARENTHESIS                     0.003003  \n",
       "LF_GG_IN_SERIES                        0.074335  \n",
       "LF_GiG_NO_CONCLUSION                   0.871828  \n",
       "LF_GiG_CONCLUSION                      0.122219  \n",
       "LF_GG_DISTANCE_SHORT                   0.057947  \n",
       "LF_GG_DISTANCE_LONG                    0.030831  \n",
       "LF_GG_ALLOWED_DISTANCE                 0.905269  \n",
       "LF_GG_NO_VERB                          0.142568  \n",
       "LF_GG_BICLUSTER_BINDING                0.007205  \n",
       "LF_GG_BICLUSTER_ENHANCES               0.004291  \n",
       "LF_GG_BICLUSTER_ACTIVATES              0.006632  \n",
       "LF_GG_BICLUSTER_AFFECTS_EXPRESSION     0.005121  \n",
       "LF_GG_BICLUSTER_INCREASES_EXPRESSION   0.006714  \n",
       "LF_GG_BICLUSTER_SIGNALING              0.006413  \n",
       "LF_GG_BICLUSTER_IDENTICAL_PROTEIN      0.005662  \n",
       "LF_GG_BICLUSTER_CELL_PRODUCTION        0.006584  \n",
       "\n",
       "[107 rows x 5 columns]"
      ]
     },
     "execution_count": 14,
     "metadata": {},
     "output_type": "execute_result"
    }
   ],
   "source": [
    "lf_summary(\n",
    "    sparse.coo_matrix(\n",
    "        correct_L\n",
    "    )\n",
    "    .tocsr(), \n",
    "    lf_names=lf_names\n",
    ")"
   ]
  },
  {
   "cell_type": "code",
   "execution_count": 15,
   "metadata": {
    "ExecuteTime": {
     "end_time": "2019-05-19T21:51:44.651527Z",
     "start_time": "2019-05-19T21:51:44.509586Z"
    },
    "scrolled": false
   },
   "outputs": [
    {
     "name": "stderr",
     "output_type": "stream",
     "text": [
      "/home/danich1/Documents/metal/metal/analysis.py:131: RuntimeWarning: invalid value encountered in true_divide\n",
      "  return 0.5 * (X.sum(axis=0) / (L != 0).sum(axis=0) + 1)\n"
     ]
    },
    {
     "data": {
      "text/html": [
       "<div>\n",
       "<style scoped>\n",
       "    .dataframe tbody tr th:only-of-type {\n",
       "        vertical-align: middle;\n",
       "    }\n",
       "\n",
       "    .dataframe tbody tr th {\n",
       "        vertical-align: top;\n",
       "    }\n",
       "\n",
       "    .dataframe thead th {\n",
       "        text-align: right;\n",
       "    }\n",
       "</style>\n",
       "<table border=\"1\" class=\"dataframe\">\n",
       "  <thead>\n",
       "    <tr style=\"text-align: right;\">\n",
       "      <th></th>\n",
       "      <th>j</th>\n",
       "      <th>Polarity</th>\n",
       "      <th>Coverage</th>\n",
       "      <th>Overlaps</th>\n",
       "      <th>Conflicts</th>\n",
       "      <th>Correct</th>\n",
       "      <th>Incorrect</th>\n",
       "      <th>Emp. Acc.</th>\n",
       "    </tr>\n",
       "  </thead>\n",
       "  <tbody>\n",
       "    <tr>\n",
       "      <th>LF_HETNET_DISEASES</th>\n",
       "      <td>0</td>\n",
       "      <td>1</td>\n",
       "      <td>0.432</td>\n",
       "      <td>0.432</td>\n",
       "      <td>0.432</td>\n",
       "      <td>164</td>\n",
       "      <td>268</td>\n",
       "      <td>0.379630</td>\n",
       "    </tr>\n",
       "    <tr>\n",
       "      <th>LF_HETNET_DOAF</th>\n",
       "      <td>1</td>\n",
       "      <td>1</td>\n",
       "      <td>0.206</td>\n",
       "      <td>0.206</td>\n",
       "      <td>0.206</td>\n",
       "      <td>80</td>\n",
       "      <td>126</td>\n",
       "      <td>0.388350</td>\n",
       "    </tr>\n",
       "    <tr>\n",
       "      <th>LF_HETNET_DisGeNET</th>\n",
       "      <td>2</td>\n",
       "      <td>1</td>\n",
       "      <td>0.388</td>\n",
       "      <td>0.388</td>\n",
       "      <td>0.388</td>\n",
       "      <td>144</td>\n",
       "      <td>244</td>\n",
       "      <td>0.371134</td>\n",
       "    </tr>\n",
       "    <tr>\n",
       "      <th>LF_HETNET_GWAS</th>\n",
       "      <td>3</td>\n",
       "      <td>1</td>\n",
       "      <td>0.050</td>\n",
       "      <td>0.050</td>\n",
       "      <td>0.050</td>\n",
       "      <td>24</td>\n",
       "      <td>26</td>\n",
       "      <td>0.480000</td>\n",
       "    </tr>\n",
       "    <tr>\n",
       "      <th>LF_HETNET_DaG_ABSENT</th>\n",
       "      <td>4</td>\n",
       "      <td>2</td>\n",
       "      <td>0.459</td>\n",
       "      <td>0.459</td>\n",
       "      <td>0.454</td>\n",
       "      <td>270</td>\n",
       "      <td>189</td>\n",
       "      <td>0.588235</td>\n",
       "    </tr>\n",
       "    <tr>\n",
       "      <th>LF_DG_CHECK_GENE_TAG</th>\n",
       "      <td>5</td>\n",
       "      <td>2</td>\n",
       "      <td>0.265</td>\n",
       "      <td>0.265</td>\n",
       "      <td>0.264</td>\n",
       "      <td>174</td>\n",
       "      <td>91</td>\n",
       "      <td>0.656604</td>\n",
       "    </tr>\n",
       "    <tr>\n",
       "      <th>LF_DG_CHECK_DISEASE_TAG</th>\n",
       "      <td>6</td>\n",
       "      <td>2</td>\n",
       "      <td>0.344</td>\n",
       "      <td>0.344</td>\n",
       "      <td>0.343</td>\n",
       "      <td>218</td>\n",
       "      <td>126</td>\n",
       "      <td>0.633721</td>\n",
       "    </tr>\n",
       "    <tr>\n",
       "      <th>LF_DG_IS_BIOMARKER</th>\n",
       "      <td>7</td>\n",
       "      <td>1</td>\n",
       "      <td>0.167</td>\n",
       "      <td>0.167</td>\n",
       "      <td>0.167</td>\n",
       "      <td>119</td>\n",
       "      <td>48</td>\n",
       "      <td>0.712575</td>\n",
       "    </tr>\n",
       "    <tr>\n",
       "      <th>LF_DaG_ASSOCIATION</th>\n",
       "      <td>8</td>\n",
       "      <td>1</td>\n",
       "      <td>0.258</td>\n",
       "      <td>0.258</td>\n",
       "      <td>0.258</td>\n",
       "      <td>178</td>\n",
       "      <td>80</td>\n",
       "      <td>0.689922</td>\n",
       "    </tr>\n",
       "    <tr>\n",
       "      <th>LF_DaG_WEAK_ASSOCIATION</th>\n",
       "      <td>9</td>\n",
       "      <td>1</td>\n",
       "      <td>0.022</td>\n",
       "      <td>0.022</td>\n",
       "      <td>0.022</td>\n",
       "      <td>13</td>\n",
       "      <td>9</td>\n",
       "      <td>0.590909</td>\n",
       "    </tr>\n",
       "    <tr>\n",
       "      <th>LF_DaG_NO_ASSOCIATION</th>\n",
       "      <td>10</td>\n",
       "      <td>2</td>\n",
       "      <td>0.028</td>\n",
       "      <td>0.028</td>\n",
       "      <td>0.028</td>\n",
       "      <td>23</td>\n",
       "      <td>5</td>\n",
       "      <td>0.821429</td>\n",
       "    </tr>\n",
       "    <tr>\n",
       "      <th>LF_DaG_CELLULAR_ACTIVITY</th>\n",
       "      <td>11</td>\n",
       "      <td>1</td>\n",
       "      <td>0.050</td>\n",
       "      <td>0.050</td>\n",
       "      <td>0.050</td>\n",
       "      <td>35</td>\n",
       "      <td>15</td>\n",
       "      <td>0.700000</td>\n",
       "    </tr>\n",
       "    <tr>\n",
       "      <th>LF_DaG_DISEASE_SAMPLE</th>\n",
       "      <td>12</td>\n",
       "      <td>1</td>\n",
       "      <td>0.643</td>\n",
       "      <td>0.643</td>\n",
       "      <td>0.643</td>\n",
       "      <td>242</td>\n",
       "      <td>401</td>\n",
       "      <td>0.376361</td>\n",
       "    </tr>\n",
       "    <tr>\n",
       "      <th>LF_DG_METHOD_DESC</th>\n",
       "      <td>13</td>\n",
       "      <td>2</td>\n",
       "      <td>0.214</td>\n",
       "      <td>0.214</td>\n",
       "      <td>0.211</td>\n",
       "      <td>206</td>\n",
       "      <td>8</td>\n",
       "      <td>0.962617</td>\n",
       "    </tr>\n",
       "    <tr>\n",
       "      <th>LF_DG_TITLE</th>\n",
       "      <td>14</td>\n",
       "      <td>2</td>\n",
       "      <td>0.044</td>\n",
       "      <td>0.044</td>\n",
       "      <td>0.044</td>\n",
       "      <td>34</td>\n",
       "      <td>10</td>\n",
       "      <td>0.772727</td>\n",
       "    </tr>\n",
       "    <tr>\n",
       "      <th>LF_DG_GENETIC_ABNORMALITIES</th>\n",
       "      <td>15</td>\n",
       "      <td>1</td>\n",
       "      <td>0.052</td>\n",
       "      <td>0.052</td>\n",
       "      <td>0.052</td>\n",
       "      <td>20</td>\n",
       "      <td>32</td>\n",
       "      <td>0.384615</td>\n",
       "    </tr>\n",
       "    <tr>\n",
       "      <th>LF_DG_DIAGNOSIS</th>\n",
       "      <td>16</td>\n",
       "      <td>1</td>\n",
       "      <td>0.025</td>\n",
       "      <td>0.025</td>\n",
       "      <td>0.025</td>\n",
       "      <td>12</td>\n",
       "      <td>13</td>\n",
       "      <td>0.480000</td>\n",
       "    </tr>\n",
       "    <tr>\n",
       "      <th>LF_DG_PATIENT_WITH</th>\n",
       "      <td>17</td>\n",
       "      <td>1</td>\n",
       "      <td>0.091</td>\n",
       "      <td>0.091</td>\n",
       "      <td>0.091</td>\n",
       "      <td>24</td>\n",
       "      <td>67</td>\n",
       "      <td>0.263736</td>\n",
       "    </tr>\n",
       "    <tr>\n",
       "      <th>LF_DG_CONCLUSION_TITLE</th>\n",
       "      <td>18</td>\n",
       "      <td>1</td>\n",
       "      <td>0.017</td>\n",
       "      <td>0.017</td>\n",
       "      <td>0.017</td>\n",
       "      <td>12</td>\n",
       "      <td>5</td>\n",
       "      <td>0.705882</td>\n",
       "    </tr>\n",
       "    <tr>\n",
       "      <th>LF_DaG_NO_CONCLUSION</th>\n",
       "      <td>19</td>\n",
       "      <td>2</td>\n",
       "      <td>0.789</td>\n",
       "      <td>0.789</td>\n",
       "      <td>0.784</td>\n",
       "      <td>539</td>\n",
       "      <td>250</td>\n",
       "      <td>0.683143</td>\n",
       "    </tr>\n",
       "    <tr>\n",
       "      <th>LF_DaG_CONCLUSION</th>\n",
       "      <td>20</td>\n",
       "      <td>[1, 2]</td>\n",
       "      <td>0.224</td>\n",
       "      <td>0.224</td>\n",
       "      <td>0.224</td>\n",
       "      <td>166</td>\n",
       "      <td>58</td>\n",
       "      <td>0.741071</td>\n",
       "    </tr>\n",
       "    <tr>\n",
       "      <th>LF_DG_DISTANCE_SHORT</th>\n",
       "      <td>21</td>\n",
       "      <td>2</td>\n",
       "      <td>0.120</td>\n",
       "      <td>0.120</td>\n",
       "      <td>0.118</td>\n",
       "      <td>89</td>\n",
       "      <td>31</td>\n",
       "      <td>0.741667</td>\n",
       "    </tr>\n",
       "    <tr>\n",
       "      <th>LF_DG_DISTANCE_LONG</th>\n",
       "      <td>22</td>\n",
       "      <td>2</td>\n",
       "      <td>0.013</td>\n",
       "      <td>0.013</td>\n",
       "      <td>0.010</td>\n",
       "      <td>10</td>\n",
       "      <td>3</td>\n",
       "      <td>0.769231</td>\n",
       "    </tr>\n",
       "    <tr>\n",
       "      <th>LF_DG_ALLOWED_DISTANCE</th>\n",
       "      <td>23</td>\n",
       "      <td>1</td>\n",
       "      <td>0.867</td>\n",
       "      <td>0.867</td>\n",
       "      <td>0.867</td>\n",
       "      <td>363</td>\n",
       "      <td>504</td>\n",
       "      <td>0.418685</td>\n",
       "    </tr>\n",
       "    <tr>\n",
       "      <th>LF_DG_NO_VERB</th>\n",
       "      <td>24</td>\n",
       "      <td>2</td>\n",
       "      <td>0.072</td>\n",
       "      <td>0.072</td>\n",
       "      <td>0.072</td>\n",
       "      <td>62</td>\n",
       "      <td>10</td>\n",
       "      <td>0.861111</td>\n",
       "    </tr>\n",
       "    <tr>\n",
       "      <th>LF_DG_MULTIPLE_ENTITIES</th>\n",
       "      <td>25</td>\n",
       "      <td>2</td>\n",
       "      <td>0.729</td>\n",
       "      <td>0.729</td>\n",
       "      <td>0.726</td>\n",
       "      <td>455</td>\n",
       "      <td>274</td>\n",
       "      <td>0.624143</td>\n",
       "    </tr>\n",
       "    <tr>\n",
       "      <th>LF_DG_CONTEXT_SWITCH</th>\n",
       "      <td>26</td>\n",
       "      <td>2</td>\n",
       "      <td>0.016</td>\n",
       "      <td>0.016</td>\n",
       "      <td>0.016</td>\n",
       "      <td>8</td>\n",
       "      <td>8</td>\n",
       "      <td>0.500000</td>\n",
       "    </tr>\n",
       "    <tr>\n",
       "      <th>LF_DG_BICLUSTER_CASUAL_MUTATIONS</th>\n",
       "      <td>27</td>\n",
       "      <td>1</td>\n",
       "      <td>0.275</td>\n",
       "      <td>0.275</td>\n",
       "      <td>0.275</td>\n",
       "      <td>130</td>\n",
       "      <td>145</td>\n",
       "      <td>0.472727</td>\n",
       "    </tr>\n",
       "    <tr>\n",
       "      <th>LF_DG_BICLUSTER_MUTATIONS</th>\n",
       "      <td>28</td>\n",
       "      <td>1</td>\n",
       "      <td>0.250</td>\n",
       "      <td>0.250</td>\n",
       "      <td>0.250</td>\n",
       "      <td>111</td>\n",
       "      <td>139</td>\n",
       "      <td>0.444000</td>\n",
       "    </tr>\n",
       "    <tr>\n",
       "      <th>LF_DG_BICLUSTER_DRUG_TARGETS</th>\n",
       "      <td>29</td>\n",
       "      <td>1</td>\n",
       "      <td>0.298</td>\n",
       "      <td>0.298</td>\n",
       "      <td>0.298</td>\n",
       "      <td>141</td>\n",
       "      <td>157</td>\n",
       "      <td>0.473154</td>\n",
       "    </tr>\n",
       "    <tr>\n",
       "      <th>...</th>\n",
       "      <td>...</td>\n",
       "      <td>...</td>\n",
       "      <td>...</td>\n",
       "      <td>...</td>\n",
       "      <td>...</td>\n",
       "      <td>...</td>\n",
       "      <td>...</td>\n",
       "      <td>...</td>\n",
       "    </tr>\n",
       "    <tr>\n",
       "      <th>LF_CG_BICLUSTER_AFF_EXPRESSION</th>\n",
       "      <td>77</td>\n",
       "      <td>1</td>\n",
       "      <td>0.032</td>\n",
       "      <td>0.032</td>\n",
       "      <td>0.032</td>\n",
       "      <td>10</td>\n",
       "      <td>22</td>\n",
       "      <td>0.312500</td>\n",
       "    </tr>\n",
       "    <tr>\n",
       "      <th>LF_CG_BICLUSTER_INHIBITS</th>\n",
       "      <td>78</td>\n",
       "      <td>1</td>\n",
       "      <td>0.015</td>\n",
       "      <td>0.015</td>\n",
       "      <td>0.015</td>\n",
       "      <td>4</td>\n",
       "      <td>11</td>\n",
       "      <td>0.266667</td>\n",
       "    </tr>\n",
       "    <tr>\n",
       "      <th>LF_GiG_BINDING_IDENTIFICATIONS</th>\n",
       "      <td>79</td>\n",
       "      <td>1</td>\n",
       "      <td>0.020</td>\n",
       "      <td>0.020</td>\n",
       "      <td>0.020</td>\n",
       "      <td>8</td>\n",
       "      <td>12</td>\n",
       "      <td>0.400000</td>\n",
       "    </tr>\n",
       "    <tr>\n",
       "      <th>LF_GiG_CELL_IDENTIFICATIONS</th>\n",
       "      <td>80</td>\n",
       "      <td>2</td>\n",
       "      <td>0.405</td>\n",
       "      <td>0.405</td>\n",
       "      <td>0.403</td>\n",
       "      <td>267</td>\n",
       "      <td>138</td>\n",
       "      <td>0.659259</td>\n",
       "    </tr>\n",
       "    <tr>\n",
       "      <th>LF_GiG_COMPOUND_IDENTIFICATIONS</th>\n",
       "      <td>81</td>\n",
       "      <td>2</td>\n",
       "      <td>0.016</td>\n",
       "      <td>0.016</td>\n",
       "      <td>0.016</td>\n",
       "      <td>11</td>\n",
       "      <td>5</td>\n",
       "      <td>0.687500</td>\n",
       "    </tr>\n",
       "    <tr>\n",
       "      <th>LF_GiG_UPREGULATES</th>\n",
       "      <td>82</td>\n",
       "      <td>2</td>\n",
       "      <td>0.017</td>\n",
       "      <td>0.017</td>\n",
       "      <td>0.017</td>\n",
       "      <td>7</td>\n",
       "      <td>10</td>\n",
       "      <td>0.411765</td>\n",
       "    </tr>\n",
       "    <tr>\n",
       "      <th>LF_GiG_DOWNREGULATES</th>\n",
       "      <td>83</td>\n",
       "      <td>2</td>\n",
       "      <td>0.006</td>\n",
       "      <td>0.006</td>\n",
       "      <td>0.006</td>\n",
       "      <td>3</td>\n",
       "      <td>3</td>\n",
       "      <td>0.500000</td>\n",
       "    </tr>\n",
       "    <tr>\n",
       "      <th>LF_GiG_REGULATION</th>\n",
       "      <td>84</td>\n",
       "      <td>2</td>\n",
       "      <td>0.024</td>\n",
       "      <td>0.024</td>\n",
       "      <td>0.024</td>\n",
       "      <td>11</td>\n",
       "      <td>13</td>\n",
       "      <td>0.458333</td>\n",
       "    </tr>\n",
       "    <tr>\n",
       "      <th>LF_GiG_ASSOCIATION</th>\n",
       "      <td>85</td>\n",
       "      <td>2</td>\n",
       "      <td>0.045</td>\n",
       "      <td>0.045</td>\n",
       "      <td>0.045</td>\n",
       "      <td>10</td>\n",
       "      <td>35</td>\n",
       "      <td>0.222222</td>\n",
       "    </tr>\n",
       "    <tr>\n",
       "      <th>LF_GiG_BOUND_IDENTIFIERS</th>\n",
       "      <td>86</td>\n",
       "      <td>1</td>\n",
       "      <td>0.045</td>\n",
       "      <td>0.045</td>\n",
       "      <td>0.045</td>\n",
       "      <td>16</td>\n",
       "      <td>29</td>\n",
       "      <td>0.355556</td>\n",
       "    </tr>\n",
       "    <tr>\n",
       "      <th>LF_GiG_GENE_IDENTIFIERS</th>\n",
       "      <td>87</td>\n",
       "      <td>1</td>\n",
       "      <td>0.165</td>\n",
       "      <td>0.165</td>\n",
       "      <td>0.165</td>\n",
       "      <td>66</td>\n",
       "      <td>99</td>\n",
       "      <td>0.400000</td>\n",
       "    </tr>\n",
       "    <tr>\n",
       "      <th>LF_GiG_GENE_ADJECTIVE</th>\n",
       "      <td>88</td>\n",
       "      <td>2</td>\n",
       "      <td>0.003</td>\n",
       "      <td>0.003</td>\n",
       "      <td>0.003</td>\n",
       "      <td>2</td>\n",
       "      <td>1</td>\n",
       "      <td>0.666667</td>\n",
       "    </tr>\n",
       "    <tr>\n",
       "      <th>LF_GiG_DIAGNOSIS_IDENTIFIERS</th>\n",
       "      <td>89</td>\n",
       "      <td>2</td>\n",
       "      <td>0.005</td>\n",
       "      <td>0.005</td>\n",
       "      <td>0.005</td>\n",
       "      <td>4</td>\n",
       "      <td>1</td>\n",
       "      <td>0.800000</td>\n",
       "    </tr>\n",
       "    <tr>\n",
       "      <th>LF_GiG_METHOD_DESC</th>\n",
       "      <td>90</td>\n",
       "      <td>2</td>\n",
       "      <td>0.019</td>\n",
       "      <td>0.019</td>\n",
       "      <td>0.019</td>\n",
       "      <td>18</td>\n",
       "      <td>1</td>\n",
       "      <td>0.947368</td>\n",
       "    </tr>\n",
       "    <tr>\n",
       "      <th>LF_GiG_PARENTHESIS</th>\n",
       "      <td>91</td>\n",
       "      <td>2</td>\n",
       "      <td>0.007</td>\n",
       "      <td>0.007</td>\n",
       "      <td>0.007</td>\n",
       "      <td>7</td>\n",
       "      <td>0</td>\n",
       "      <td>1.000000</td>\n",
       "    </tr>\n",
       "    <tr>\n",
       "      <th>LF_GG_IN_SERIES</th>\n",
       "      <td>92</td>\n",
       "      <td>2</td>\n",
       "      <td>0.164</td>\n",
       "      <td>0.164</td>\n",
       "      <td>0.163</td>\n",
       "      <td>120</td>\n",
       "      <td>44</td>\n",
       "      <td>0.731707</td>\n",
       "    </tr>\n",
       "    <tr>\n",
       "      <th>LF_GiG_NO_CONCLUSION</th>\n",
       "      <td>93</td>\n",
       "      <td>2</td>\n",
       "      <td>0.865</td>\n",
       "      <td>0.865</td>\n",
       "      <td>0.860</td>\n",
       "      <td>531</td>\n",
       "      <td>334</td>\n",
       "      <td>0.613873</td>\n",
       "    </tr>\n",
       "    <tr>\n",
       "      <th>LF_GiG_CONCLUSION</th>\n",
       "      <td>94</td>\n",
       "      <td>[1, 2]</td>\n",
       "      <td>0.135</td>\n",
       "      <td>0.135</td>\n",
       "      <td>0.135</td>\n",
       "      <td>60</td>\n",
       "      <td>75</td>\n",
       "      <td>0.444444</td>\n",
       "    </tr>\n",
       "    <tr>\n",
       "      <th>LF_GG_DISTANCE_SHORT</th>\n",
       "      <td>95</td>\n",
       "      <td>2</td>\n",
       "      <td>0.054</td>\n",
       "      <td>0.054</td>\n",
       "      <td>0.052</td>\n",
       "      <td>41</td>\n",
       "      <td>13</td>\n",
       "      <td>0.759259</td>\n",
       "    </tr>\n",
       "    <tr>\n",
       "      <th>LF_GG_DISTANCE_LONG</th>\n",
       "      <td>96</td>\n",
       "      <td>2</td>\n",
       "      <td>0.103</td>\n",
       "      <td>0.103</td>\n",
       "      <td>0.100</td>\n",
       "      <td>72</td>\n",
       "      <td>31</td>\n",
       "      <td>0.699029</td>\n",
       "    </tr>\n",
       "    <tr>\n",
       "      <th>LF_GG_ALLOWED_DISTANCE</th>\n",
       "      <td>97</td>\n",
       "      <td>1</td>\n",
       "      <td>0.843</td>\n",
       "      <td>0.843</td>\n",
       "      <td>0.843</td>\n",
       "      <td>353</td>\n",
       "      <td>490</td>\n",
       "      <td>0.418743</td>\n",
       "    </tr>\n",
       "    <tr>\n",
       "      <th>LF_GG_NO_VERB</th>\n",
       "      <td>98</td>\n",
       "      <td>2</td>\n",
       "      <td>0.072</td>\n",
       "      <td>0.072</td>\n",
       "      <td>0.072</td>\n",
       "      <td>62</td>\n",
       "      <td>10</td>\n",
       "      <td>0.861111</td>\n",
       "    </tr>\n",
       "    <tr>\n",
       "      <th>LF_GG_BICLUSTER_BINDING</th>\n",
       "      <td>99</td>\n",
       "      <td>1</td>\n",
       "      <td>0.104</td>\n",
       "      <td>0.104</td>\n",
       "      <td>0.104</td>\n",
       "      <td>39</td>\n",
       "      <td>65</td>\n",
       "      <td>0.375000</td>\n",
       "    </tr>\n",
       "    <tr>\n",
       "      <th>LF_GG_BICLUSTER_ENHANCES</th>\n",
       "      <td>100</td>\n",
       "      <td>1</td>\n",
       "      <td>0.071</td>\n",
       "      <td>0.071</td>\n",
       "      <td>0.071</td>\n",
       "      <td>27</td>\n",
       "      <td>44</td>\n",
       "      <td>0.380282</td>\n",
       "    </tr>\n",
       "    <tr>\n",
       "      <th>LF_GG_BICLUSTER_ACTIVATES</th>\n",
       "      <td>101</td>\n",
       "      <td>1</td>\n",
       "      <td>0.107</td>\n",
       "      <td>0.107</td>\n",
       "      <td>0.107</td>\n",
       "      <td>46</td>\n",
       "      <td>61</td>\n",
       "      <td>0.429907</td>\n",
       "    </tr>\n",
       "    <tr>\n",
       "      <th>LF_GG_BICLUSTER_AFFECTS_EXPRESSION</th>\n",
       "      <td>102</td>\n",
       "      <td>1</td>\n",
       "      <td>0.088</td>\n",
       "      <td>0.088</td>\n",
       "      <td>0.088</td>\n",
       "      <td>32</td>\n",
       "      <td>56</td>\n",
       "      <td>0.363636</td>\n",
       "    </tr>\n",
       "    <tr>\n",
       "      <th>LF_GG_BICLUSTER_INCREASES_EXPRESSION</th>\n",
       "      <td>103</td>\n",
       "      <td>2</td>\n",
       "      <td>0.099</td>\n",
       "      <td>0.099</td>\n",
       "      <td>0.099</td>\n",
       "      <td>60</td>\n",
       "      <td>39</td>\n",
       "      <td>0.606061</td>\n",
       "    </tr>\n",
       "    <tr>\n",
       "      <th>LF_GG_BICLUSTER_SIGNALING</th>\n",
       "      <td>104</td>\n",
       "      <td>1</td>\n",
       "      <td>0.097</td>\n",
       "      <td>0.097</td>\n",
       "      <td>0.097</td>\n",
       "      <td>38</td>\n",
       "      <td>59</td>\n",
       "      <td>0.391753</td>\n",
       "    </tr>\n",
       "    <tr>\n",
       "      <th>LF_GG_BICLUSTER_IDENTICAL_PROTEIN</th>\n",
       "      <td>105</td>\n",
       "      <td>2</td>\n",
       "      <td>0.091</td>\n",
       "      <td>0.091</td>\n",
       "      <td>0.091</td>\n",
       "      <td>53</td>\n",
       "      <td>38</td>\n",
       "      <td>0.582418</td>\n",
       "    </tr>\n",
       "    <tr>\n",
       "      <th>LF_GG_BICLUSTER_CELL_PRODUCTION</th>\n",
       "      <td>106</td>\n",
       "      <td>2</td>\n",
       "      <td>0.110</td>\n",
       "      <td>0.110</td>\n",
       "      <td>0.110</td>\n",
       "      <td>70</td>\n",
       "      <td>40</td>\n",
       "      <td>0.636364</td>\n",
       "    </tr>\n",
       "  </tbody>\n",
       "</table>\n",
       "<p>107 rows × 8 columns</p>\n",
       "</div>"
      ],
      "text/plain": [
       "                                        j Polarity  Coverage  Overlaps  \\\n",
       "LF_HETNET_DISEASES                      0        1     0.432     0.432   \n",
       "LF_HETNET_DOAF                          1        1     0.206     0.206   \n",
       "LF_HETNET_DisGeNET                      2        1     0.388     0.388   \n",
       "LF_HETNET_GWAS                          3        1     0.050     0.050   \n",
       "LF_HETNET_DaG_ABSENT                    4        2     0.459     0.459   \n",
       "LF_DG_CHECK_GENE_TAG                    5        2     0.265     0.265   \n",
       "LF_DG_CHECK_DISEASE_TAG                 6        2     0.344     0.344   \n",
       "LF_DG_IS_BIOMARKER                      7        1     0.167     0.167   \n",
       "LF_DaG_ASSOCIATION                      8        1     0.258     0.258   \n",
       "LF_DaG_WEAK_ASSOCIATION                 9        1     0.022     0.022   \n",
       "LF_DaG_NO_ASSOCIATION                  10        2     0.028     0.028   \n",
       "LF_DaG_CELLULAR_ACTIVITY               11        1     0.050     0.050   \n",
       "LF_DaG_DISEASE_SAMPLE                  12        1     0.643     0.643   \n",
       "LF_DG_METHOD_DESC                      13        2     0.214     0.214   \n",
       "LF_DG_TITLE                            14        2     0.044     0.044   \n",
       "LF_DG_GENETIC_ABNORMALITIES            15        1     0.052     0.052   \n",
       "LF_DG_DIAGNOSIS                        16        1     0.025     0.025   \n",
       "LF_DG_PATIENT_WITH                     17        1     0.091     0.091   \n",
       "LF_DG_CONCLUSION_TITLE                 18        1     0.017     0.017   \n",
       "LF_DaG_NO_CONCLUSION                   19        2     0.789     0.789   \n",
       "LF_DaG_CONCLUSION                      20   [1, 2]     0.224     0.224   \n",
       "LF_DG_DISTANCE_SHORT                   21        2     0.120     0.120   \n",
       "LF_DG_DISTANCE_LONG                    22        2     0.013     0.013   \n",
       "LF_DG_ALLOWED_DISTANCE                 23        1     0.867     0.867   \n",
       "LF_DG_NO_VERB                          24        2     0.072     0.072   \n",
       "LF_DG_MULTIPLE_ENTITIES                25        2     0.729     0.729   \n",
       "LF_DG_CONTEXT_SWITCH                   26        2     0.016     0.016   \n",
       "LF_DG_BICLUSTER_CASUAL_MUTATIONS       27        1     0.275     0.275   \n",
       "LF_DG_BICLUSTER_MUTATIONS              28        1     0.250     0.250   \n",
       "LF_DG_BICLUSTER_DRUG_TARGETS           29        1     0.298     0.298   \n",
       "...                                   ...      ...       ...       ...   \n",
       "LF_CG_BICLUSTER_AFF_EXPRESSION         77        1     0.032     0.032   \n",
       "LF_CG_BICLUSTER_INHIBITS               78        1     0.015     0.015   \n",
       "LF_GiG_BINDING_IDENTIFICATIONS         79        1     0.020     0.020   \n",
       "LF_GiG_CELL_IDENTIFICATIONS            80        2     0.405     0.405   \n",
       "LF_GiG_COMPOUND_IDENTIFICATIONS        81        2     0.016     0.016   \n",
       "LF_GiG_UPREGULATES                     82        2     0.017     0.017   \n",
       "LF_GiG_DOWNREGULATES                   83        2     0.006     0.006   \n",
       "LF_GiG_REGULATION                      84        2     0.024     0.024   \n",
       "LF_GiG_ASSOCIATION                     85        2     0.045     0.045   \n",
       "LF_GiG_BOUND_IDENTIFIERS               86        1     0.045     0.045   \n",
       "LF_GiG_GENE_IDENTIFIERS                87        1     0.165     0.165   \n",
       "LF_GiG_GENE_ADJECTIVE                  88        2     0.003     0.003   \n",
       "LF_GiG_DIAGNOSIS_IDENTIFIERS           89        2     0.005     0.005   \n",
       "LF_GiG_METHOD_DESC                     90        2     0.019     0.019   \n",
       "LF_GiG_PARENTHESIS                     91        2     0.007     0.007   \n",
       "LF_GG_IN_SERIES                        92        2     0.164     0.164   \n",
       "LF_GiG_NO_CONCLUSION                   93        2     0.865     0.865   \n",
       "LF_GiG_CONCLUSION                      94   [1, 2]     0.135     0.135   \n",
       "LF_GG_DISTANCE_SHORT                   95        2     0.054     0.054   \n",
       "LF_GG_DISTANCE_LONG                    96        2     0.103     0.103   \n",
       "LF_GG_ALLOWED_DISTANCE                 97        1     0.843     0.843   \n",
       "LF_GG_NO_VERB                          98        2     0.072     0.072   \n",
       "LF_GG_BICLUSTER_BINDING                99        1     0.104     0.104   \n",
       "LF_GG_BICLUSTER_ENHANCES              100        1     0.071     0.071   \n",
       "LF_GG_BICLUSTER_ACTIVATES             101        1     0.107     0.107   \n",
       "LF_GG_BICLUSTER_AFFECTS_EXPRESSION    102        1     0.088     0.088   \n",
       "LF_GG_BICLUSTER_INCREASES_EXPRESSION  103        2     0.099     0.099   \n",
       "LF_GG_BICLUSTER_SIGNALING             104        1     0.097     0.097   \n",
       "LF_GG_BICLUSTER_IDENTICAL_PROTEIN     105        2     0.091     0.091   \n",
       "LF_GG_BICLUSTER_CELL_PRODUCTION       106        2     0.110     0.110   \n",
       "\n",
       "                                      Conflicts  Correct  Incorrect  Emp. Acc.  \n",
       "LF_HETNET_DISEASES                        0.432      164        268   0.379630  \n",
       "LF_HETNET_DOAF                            0.206       80        126   0.388350  \n",
       "LF_HETNET_DisGeNET                        0.388      144        244   0.371134  \n",
       "LF_HETNET_GWAS                            0.050       24         26   0.480000  \n",
       "LF_HETNET_DaG_ABSENT                      0.454      270        189   0.588235  \n",
       "LF_DG_CHECK_GENE_TAG                      0.264      174         91   0.656604  \n",
       "LF_DG_CHECK_DISEASE_TAG                   0.343      218        126   0.633721  \n",
       "LF_DG_IS_BIOMARKER                        0.167      119         48   0.712575  \n",
       "LF_DaG_ASSOCIATION                        0.258      178         80   0.689922  \n",
       "LF_DaG_WEAK_ASSOCIATION                   0.022       13          9   0.590909  \n",
       "LF_DaG_NO_ASSOCIATION                     0.028       23          5   0.821429  \n",
       "LF_DaG_CELLULAR_ACTIVITY                  0.050       35         15   0.700000  \n",
       "LF_DaG_DISEASE_SAMPLE                     0.643      242        401   0.376361  \n",
       "LF_DG_METHOD_DESC                         0.211      206          8   0.962617  \n",
       "LF_DG_TITLE                               0.044       34         10   0.772727  \n",
       "LF_DG_GENETIC_ABNORMALITIES               0.052       20         32   0.384615  \n",
       "LF_DG_DIAGNOSIS                           0.025       12         13   0.480000  \n",
       "LF_DG_PATIENT_WITH                        0.091       24         67   0.263736  \n",
       "LF_DG_CONCLUSION_TITLE                    0.017       12          5   0.705882  \n",
       "LF_DaG_NO_CONCLUSION                      0.784      539        250   0.683143  \n",
       "LF_DaG_CONCLUSION                         0.224      166         58   0.741071  \n",
       "LF_DG_DISTANCE_SHORT                      0.118       89         31   0.741667  \n",
       "LF_DG_DISTANCE_LONG                       0.010       10          3   0.769231  \n",
       "LF_DG_ALLOWED_DISTANCE                    0.867      363        504   0.418685  \n",
       "LF_DG_NO_VERB                             0.072       62         10   0.861111  \n",
       "LF_DG_MULTIPLE_ENTITIES                   0.726      455        274   0.624143  \n",
       "LF_DG_CONTEXT_SWITCH                      0.016        8          8   0.500000  \n",
       "LF_DG_BICLUSTER_CASUAL_MUTATIONS          0.275      130        145   0.472727  \n",
       "LF_DG_BICLUSTER_MUTATIONS                 0.250      111        139   0.444000  \n",
       "LF_DG_BICLUSTER_DRUG_TARGETS              0.298      141        157   0.473154  \n",
       "...                                         ...      ...        ...        ...  \n",
       "LF_CG_BICLUSTER_AFF_EXPRESSION            0.032       10         22   0.312500  \n",
       "LF_CG_BICLUSTER_INHIBITS                  0.015        4         11   0.266667  \n",
       "LF_GiG_BINDING_IDENTIFICATIONS            0.020        8         12   0.400000  \n",
       "LF_GiG_CELL_IDENTIFICATIONS               0.403      267        138   0.659259  \n",
       "LF_GiG_COMPOUND_IDENTIFICATIONS           0.016       11          5   0.687500  \n",
       "LF_GiG_UPREGULATES                        0.017        7         10   0.411765  \n",
       "LF_GiG_DOWNREGULATES                      0.006        3          3   0.500000  \n",
       "LF_GiG_REGULATION                         0.024       11         13   0.458333  \n",
       "LF_GiG_ASSOCIATION                        0.045       10         35   0.222222  \n",
       "LF_GiG_BOUND_IDENTIFIERS                  0.045       16         29   0.355556  \n",
       "LF_GiG_GENE_IDENTIFIERS                   0.165       66         99   0.400000  \n",
       "LF_GiG_GENE_ADJECTIVE                     0.003        2          1   0.666667  \n",
       "LF_GiG_DIAGNOSIS_IDENTIFIERS              0.005        4          1   0.800000  \n",
       "LF_GiG_METHOD_DESC                        0.019       18          1   0.947368  \n",
       "LF_GiG_PARENTHESIS                        0.007        7          0   1.000000  \n",
       "LF_GG_IN_SERIES                           0.163      120         44   0.731707  \n",
       "LF_GiG_NO_CONCLUSION                      0.860      531        334   0.613873  \n",
       "LF_GiG_CONCLUSION                         0.135       60         75   0.444444  \n",
       "LF_GG_DISTANCE_SHORT                      0.052       41         13   0.759259  \n",
       "LF_GG_DISTANCE_LONG                       0.100       72         31   0.699029  \n",
       "LF_GG_ALLOWED_DISTANCE                    0.843      353        490   0.418743  \n",
       "LF_GG_NO_VERB                             0.072       62         10   0.861111  \n",
       "LF_GG_BICLUSTER_BINDING                   0.104       39         65   0.375000  \n",
       "LF_GG_BICLUSTER_ENHANCES                  0.071       27         44   0.380282  \n",
       "LF_GG_BICLUSTER_ACTIVATES                 0.107       46         61   0.429907  \n",
       "LF_GG_BICLUSTER_AFFECTS_EXPRESSION        0.088       32         56   0.363636  \n",
       "LF_GG_BICLUSTER_INCREASES_EXPRESSION      0.099       60         39   0.606061  \n",
       "LF_GG_BICLUSTER_SIGNALING                 0.097       38         59   0.391753  \n",
       "LF_GG_BICLUSTER_IDENTICAL_PROTEIN         0.091       53         38   0.582418  \n",
       "LF_GG_BICLUSTER_CELL_PRODUCTION           0.110       70         40   0.636364  \n",
       "\n",
       "[107 rows x 8 columns]"
      ]
     },
     "execution_count": 15,
     "metadata": {},
     "output_type": "execute_result"
    }
   ],
   "source": [
    "lf_summary(\n",
    "    sparse.coo_matrix(\n",
    "        correct_L_dev\n",
    "    )\n",
    "    .tocsr(), \n",
    "    lf_names=lf_names, \n",
    "    Y=candidate_dfs['dev'].curated_dsh.apply(lambda x: 1 if x> 0 else 2)\n",
    ")"
   ]
  },
  {
   "cell_type": "markdown",
   "metadata": {},
   "source": [
    "# Train Baseline Model"
   ]
  },
  {
   "cell_type": "markdown",
   "metadata": {},
   "source": [
    "This block trains the baseline model (Distant Supervision DaG databases) that will serve as a reference to compare against."
   ]
  },
  {
   "cell_type": "code",
   "execution_count": 16,
   "metadata": {
    "ExecuteTime": {
     "end_time": "2019-05-19T21:51:44.678739Z",
     "start_time": "2019-05-19T21:51:44.653026Z"
    }
   },
   "outputs": [],
   "source": [
    "ds_start = 0\n",
    "ds_end = 7\n",
    "regularization_grid = pd.np.round(pd.np.linspace(0.01, 5, num=5), 2)"
   ]
  },
  {
   "cell_type": "code",
   "execution_count": 17,
   "metadata": {
    "ExecuteTime": {
     "end_time": "2019-05-19T21:51:49.439869Z",
     "start_time": "2019-05-19T21:51:44.682071Z"
    }
   },
   "outputs": [],
   "source": [
    "dev_ds_grid, test_ds_grid = train_baseline_model(\n",
    "    correct_L, correct_L_dev, candidate_dfs['dev'].curated_dsh.values, \n",
    "    correct_L_test,\n",
    "    list(range(ds_start,ds_end+1)), regularization_grid,\n",
    "    train_marginal_dir=\"data/random_sampling/DaG/marginals/\",\n",
    ")\n",
    "\n",
    "dev_baseline_marginals = list(dev_ds_grid.values())[0][:,0]\n",
    "test_baseline_marginals = list(test_ds_grid.values())[0][:,0]\n",
    "\n",
    "dev_ds_grid = (\n",
    "    generate_results_df(\n",
    "        dev_ds_grid, \n",
    "        candidate_dfs['dev'].curated_dsh.values\n",
    "    )\n",
    "    .reset_index()\n",
    "    .rename(index=str, columns={0:\"AUPRC\", 1:\"AUROC\", \"index\":\"l2_param\"})\n",
    ")\n",
    "\n",
    "test_ds_grid = (\n",
    "    generate_results_df(\n",
    "        test_ds_grid, \n",
    "        candidate_dfs['test'].curated_dsh.values\n",
    "    )\n",
    "    .reset_index()\n",
    "    .rename(index=str, columns={0:\"AUPRC\", 1:\"AUROC\", \"index\":\"l2_param\"})\n",
    ")"
   ]
  },
  {
   "cell_type": "code",
   "execution_count": 18,
   "metadata": {
    "ExecuteTime": {
     "end_time": "2019-05-19T21:51:49.468299Z",
     "start_time": "2019-05-19T21:51:49.441141Z"
    }
   },
   "outputs": [],
   "source": [
    "best_param = dev_ds_grid.query(\"AUROC==AUROC.max()\").l2_param.values[0]\n",
    "dev_baseline=dev_ds_grid.query(\"l2_param==@best_param\").to_dict('records')\n",
    "dev_baseline[0].update({\"num_lfs\": 0})"
   ]
  },
  {
   "cell_type": "code",
   "execution_count": 19,
   "metadata": {
    "ExecuteTime": {
     "end_time": "2019-05-19T21:51:49.494738Z",
     "start_time": "2019-05-19T21:51:49.469626Z"
    }
   },
   "outputs": [],
   "source": [
    "test_baseline=test_ds_grid.query(\"l2_param==@best_param\").to_dict('records')\n",
    "test_baseline[0].update({\"num_lfs\": 0})"
   ]
  },
  {
   "cell_type": "code",
   "execution_count": 20,
   "metadata": {
    "ExecuteTime": {
     "end_time": "2019-05-19T21:51:49.520410Z",
     "start_time": "2019-05-19T21:51:49.495996Z"
    }
   },
   "outputs": [],
   "source": [
    "dev_baseline_marginals = list(zip(dev_baseline_marginals, candidate_dfs['dev'].curated_dsh.values))\n",
    "test_baseline_marginals = list(zip(test_baseline_marginals, candidate_dfs['test'].curated_dsh.values))"
   ]
  },
  {
   "cell_type": "code",
   "execution_count": 21,
   "metadata": {
    "ExecuteTime": {
     "end_time": "2019-05-19T21:51:49.546278Z",
     "start_time": "2019-05-19T21:51:49.521833Z"
    }
   },
   "outputs": [],
   "source": [
    "count_fraction_correct = lambda x: 1 if (x.marginals > 0.5 and x.label==1) or (x.marginals < 0.5 and x.label==0) else 0"
   ]
  },
  {
   "cell_type": "markdown",
   "metadata": {},
   "source": [
    "# Disease Associates Gene LFS Only"
   ]
  },
  {
   "cell_type": "markdown",
   "metadata": {},
   "source": [
    "This block is designed to determine how many label functions are needed to achieve decent results."
   ]
  },
  {
   "cell_type": "code",
   "execution_count": 22,
   "metadata": {
    "ExecuteTime": {
     "end_time": "2019-05-19T21:51:49.570840Z",
     "start_time": "2019-05-19T21:51:49.547623Z"
    }
   },
   "outputs": [],
   "source": [
    "num_of_samples = 50\n",
    "regularization_grid = pd.np.round(pd.np.linspace(0.01, 5, num=5), 2)"
   ]
  },
  {
   "cell_type": "code",
   "execution_count": 23,
   "metadata": {
    "ExecuteTime": {
     "end_time": "2019-05-19T22:39:34.010439Z",
     "start_time": "2019-05-19T21:51:49.572039Z"
    },
    "scrolled": false
   },
   "outputs": [
    {
     "data": {
      "application/vnd.jupyter.widget-view+json": {
       "model_id": "db79c6be51e941c38c0c98b09aa5371b",
       "version_major": 2,
       "version_minor": 0
      },
      "text/html": [
       "<p>Failed to display Jupyter Widget of type <code>HBox</code>.</p>\n",
       "<p>\n",
       "  If you're reading this message in the Jupyter Notebook or JupyterLab Notebook, it may mean\n",
       "  that the widgets JavaScript is still loading. If this message persists, it\n",
       "  likely means that the widgets JavaScript library is either not installed or\n",
       "  not enabled. See the <a href=\"https://ipywidgets.readthedocs.io/en/stable/user_install.html\">Jupyter\n",
       "  Widgets Documentation</a> for setup instructions.\n",
       "</p>\n",
       "<p>\n",
       "  If you're reading this message in another frontend (for example, a static\n",
       "  rendering on GitHub or <a href=\"https://nbviewer.jupyter.org/\">NBViewer</a>),\n",
       "  it may mean that your frontend doesn't currently support widgets.\n",
       "</p>\n"
      ],
      "text/plain": [
       "HBox(children=(IntProgress(value=1, bar_style='info', max=1), HTML(value='')))"
      ]
     },
     "metadata": {},
     "output_type": "display_data"
    },
    {
     "name": "stdout",
     "output_type": "stream",
     "text": [
      "\n"
     ]
    },
    {
     "data": {
      "application/vnd.jupyter.widget-view+json": {
       "model_id": "3ca10042218045b8ac0bfa601c72f3f6",
       "version_major": 2,
       "version_minor": 0
      },
      "text/html": [
       "<p>Failed to display Jupyter Widget of type <code>HBox</code>.</p>\n",
       "<p>\n",
       "  If you're reading this message in the Jupyter Notebook or JupyterLab Notebook, it may mean\n",
       "  that the widgets JavaScript is still loading. If this message persists, it\n",
       "  likely means that the widgets JavaScript library is either not installed or\n",
       "  not enabled. See the <a href=\"https://ipywidgets.readthedocs.io/en/stable/user_install.html\">Jupyter\n",
       "  Widgets Documentation</a> for setup instructions.\n",
       "</p>\n",
       "<p>\n",
       "  If you're reading this message in another frontend (for example, a static\n",
       "  rendering on GitHub or <a href=\"https://nbviewer.jupyter.org/\">NBViewer</a>),\n",
       "  it may mean that your frontend doesn't currently support widgets.\n",
       "</p>\n"
      ],
      "text/plain": [
       "HBox(children=(IntProgress(value=1, bar_style='info', max=1), HTML(value='')))"
      ]
     },
     "metadata": {},
     "output_type": "display_data"
    },
    {
     "name": "stdout",
     "output_type": "stream",
     "text": [
      "\n"
     ]
    },
    {
     "data": {
      "application/vnd.jupyter.widget-view+json": {
       "model_id": "a990ce598e984658a1077f05bd163552",
       "version_major": 2,
       "version_minor": 0
      },
      "text/html": [
       "<p>Failed to display Jupyter Widget of type <code>HBox</code>.</p>\n",
       "<p>\n",
       "  If you're reading this message in the Jupyter Notebook or JupyterLab Notebook, it may mean\n",
       "  that the widgets JavaScript is still loading. If this message persists, it\n",
       "  likely means that the widgets JavaScript library is either not installed or\n",
       "  not enabled. See the <a href=\"https://ipywidgets.readthedocs.io/en/stable/user_install.html\">Jupyter\n",
       "  Widgets Documentation</a> for setup instructions.\n",
       "</p>\n",
       "<p>\n",
       "  If you're reading this message in another frontend (for example, a static\n",
       "  rendering on GitHub or <a href=\"https://nbviewer.jupyter.org/\">NBViewer</a>),\n",
       "  it may mean that your frontend doesn't currently support widgets.\n",
       "</p>\n"
      ],
      "text/plain": [
       "HBox(children=(IntProgress(value=1, bar_style='info', max=1), HTML(value='')))"
      ]
     },
     "metadata": {},
     "output_type": "display_data"
    },
    {
     "name": "stdout",
     "output_type": "stream",
     "text": [
      "\n"
     ]
    },
    {
     "data": {
      "application/vnd.jupyter.widget-view+json": {
       "model_id": "d8890e70d18c4464860101dccca5d501",
       "version_major": 2,
       "version_minor": 0
      },
      "text/html": [
       "<p>Failed to display Jupyter Widget of type <code>HBox</code>.</p>\n",
       "<p>\n",
       "  If you're reading this message in the Jupyter Notebook or JupyterLab Notebook, it may mean\n",
       "  that the widgets JavaScript is still loading. If this message persists, it\n",
       "  likely means that the widgets JavaScript library is either not installed or\n",
       "  not enabled. See the <a href=\"https://ipywidgets.readthedocs.io/en/stable/user_install.html\">Jupyter\n",
       "  Widgets Documentation</a> for setup instructions.\n",
       "</p>\n",
       "<p>\n",
       "  If you're reading this message in another frontend (for example, a static\n",
       "  rendering on GitHub or <a href=\"https://nbviewer.jupyter.org/\">NBViewer</a>),\n",
       "  it may mean that your frontend doesn't currently support widgets.\n",
       "</p>\n"
      ],
      "text/plain": [
       "HBox(children=(IntProgress(value=1, bar_style='info', max=1), HTML(value='')))"
      ]
     },
     "metadata": {},
     "output_type": "display_data"
    },
    {
     "name": "stdout",
     "output_type": "stream",
     "text": [
      "\n"
     ]
    },
    {
     "data": {
      "application/vnd.jupyter.widget-view+json": {
       "model_id": "3b99d579981c45d9ab7efe5cc816831f",
       "version_major": 2,
       "version_minor": 0
      },
      "text/html": [
       "<p>Failed to display Jupyter Widget of type <code>HBox</code>.</p>\n",
       "<p>\n",
       "  If you're reading this message in the Jupyter Notebook or JupyterLab Notebook, it may mean\n",
       "  that the widgets JavaScript is still loading. If this message persists, it\n",
       "  likely means that the widgets JavaScript library is either not installed or\n",
       "  not enabled. See the <a href=\"https://ipywidgets.readthedocs.io/en/stable/user_install.html\">Jupyter\n",
       "  Widgets Documentation</a> for setup instructions.\n",
       "</p>\n",
       "<p>\n",
       "  If you're reading this message in another frontend (for example, a static\n",
       "  rendering on GitHub or <a href=\"https://nbviewer.jupyter.org/\">NBViewer</a>),\n",
       "  it may mean that your frontend doesn't currently support widgets.\n",
       "</p>\n"
      ],
      "text/plain": [
       "HBox(children=(IntProgress(value=1, bar_style='info', max=1), HTML(value='')))"
      ]
     },
     "metadata": {},
     "output_type": "display_data"
    },
    {
     "name": "stdout",
     "output_type": "stream",
     "text": [
      "\n"
     ]
    },
    {
     "data": {
      "application/vnd.jupyter.widget-view+json": {
       "model_id": "d42acfacfef3480090fef544048e20ec",
       "version_major": 2,
       "version_minor": 0
      },
      "text/html": [
       "<p>Failed to display Jupyter Widget of type <code>HBox</code>.</p>\n",
       "<p>\n",
       "  If you're reading this message in the Jupyter Notebook or JupyterLab Notebook, it may mean\n",
       "  that the widgets JavaScript is still loading. If this message persists, it\n",
       "  likely means that the widgets JavaScript library is either not installed or\n",
       "  not enabled. See the <a href=\"https://ipywidgets.readthedocs.io/en/stable/user_install.html\">Jupyter\n",
       "  Widgets Documentation</a> for setup instructions.\n",
       "</p>\n",
       "<p>\n",
       "  If you're reading this message in another frontend (for example, a static\n",
       "  rendering on GitHub or <a href=\"https://nbviewer.jupyter.org/\">NBViewer</a>),\n",
       "  it may mean that your frontend doesn't currently support widgets.\n",
       "</p>\n"
      ],
      "text/plain": [
       "HBox(children=(IntProgress(value=1, bar_style='info', max=1), HTML(value='')))"
      ]
     },
     "metadata": {},
     "output_type": "display_data"
    },
    {
     "name": "stdout",
     "output_type": "stream",
     "text": [
      "\n"
     ]
    },
    {
     "data": {
      "application/vnd.jupyter.widget-view+json": {
       "model_id": "013c0586df0a4751a09540bda5ba48bc",
       "version_major": 2,
       "version_minor": 0
      },
      "text/html": [
       "<p>Failed to display Jupyter Widget of type <code>HBox</code>.</p>\n",
       "<p>\n",
       "  If you're reading this message in the Jupyter Notebook or JupyterLab Notebook, it may mean\n",
       "  that the widgets JavaScript is still loading. If this message persists, it\n",
       "  likely means that the widgets JavaScript library is either not installed or\n",
       "  not enabled. See the <a href=\"https://ipywidgets.readthedocs.io/en/stable/user_install.html\">Jupyter\n",
       "  Widgets Documentation</a> for setup instructions.\n",
       "</p>\n",
       "<p>\n",
       "  If you're reading this message in another frontend (for example, a static\n",
       "  rendering on GitHub or <a href=\"https://nbviewer.jupyter.org/\">NBViewer</a>),\n",
       "  it may mean that your frontend doesn't currently support widgets.\n",
       "</p>\n"
      ],
      "text/plain": [
       "HBox(children=(IntProgress(value=1, bar_style='info', max=1), HTML(value='')))"
      ]
     },
     "metadata": {},
     "output_type": "display_data"
    },
    {
     "name": "stdout",
     "output_type": "stream",
     "text": [
      "\n"
     ]
    }
   ],
   "source": [
    "dev_dag_df = pd.DataFrame(dev_baseline)\n",
    "test_dag_df = pd.DataFrame(test_baseline)\n",
    "dev_dag_marginals_df = pd.DataFrame(dev_baseline_marginals, columns=[\"marginals\", \"label\"]).assign(num_lfs=0)\n",
    "test_dag_marginals_df = pd.DataFrame(test_baseline_marginals, columns=[\"marginals\", \"label\"]).assign(num_lfs=0)\n",
    "\n",
    "dag_start = ds_end\n",
    "dag_end = 37\n",
    "\n",
    "range_of_sample_sizes = (\n",
    "    list(range(1, correct_L[:,dag_start:dag_end].shape[1], 5)) +\n",
    "    [correct_L[:,dag_start:dag_end].shape[1]]\n",
    ")\n",
    "\n",
    "lf_sample_keeper, dev_results_df, test_results_df, dev_marginals_df, test_marginals_df = run_random_additional_lfs(\n",
    "    range_of_sample_sizes=range_of_sample_sizes, \n",
    "    range_of_lf_indicies = list(range(dag_start, dag_end+1)),\n",
    "    size_of_sample_pool=dag_end-dag_start,\n",
    "    num_of_samples=num_of_samples,\n",
    "    train=correct_L, \n",
    "    dev=correct_L_dev,\n",
    "    dev_labels=candidate_dfs['dev'].curated_dsh.values,\n",
    "    test=correct_L_test,\n",
    "    test_labels=candidate_dfs['test'].curated_dsh.values,\n",
    "    grid=regularization_grid,\n",
    "    label_matricies=label_matricies['train'][train_ids == False],\n",
    "    train_marginal_dir='data/random_sampling/DaG/marginals/',\n",
    "    ds_start=ds_start,\n",
    "    ds_end=ds_end,\n",
    ")\n",
    "\n",
    "dev_dag_df = dev_dag_df.append(dev_results_df, sort=True)\n",
    "test_dag_df = test_dag_df.append(test_results_df, sort=True)\n",
    "dev_dag_marginals_df = dev_dag_marginals_df.append(dev_marginals_df, sort=True)\n",
    "test_dag_marginals_df = test_dag_marginals_df.append(test_marginals_df, sort=True)"
   ]
  },
  {
   "cell_type": "code",
   "execution_count": 24,
   "metadata": {
    "ExecuteTime": {
     "end_time": "2019-05-19T22:39:46.074330Z",
     "start_time": "2019-05-19T22:39:34.011860Z"
    }
   },
   "outputs": [],
   "source": [
    "dev_dag_marginals_df = (\n",
    "     dev_dag_marginals_df\n",
    "     .assign(\n",
    "        frac_correct=(\n",
    "            dev_dag_marginals_df\n",
    "            .apply(count_fraction_correct,axis=1)\n",
    "            .values\n",
    "        )\n",
    "    )\n",
    "    .groupby([\"label\", \"num_lfs\"])[\"frac_correct\"]\n",
    "    .agg(pd.np.mean)\n",
    "    .reset_index(level=[\"label\", \"num_lfs\"])\n",
    ")"
   ]
  },
  {
   "cell_type": "code",
   "execution_count": 25,
   "metadata": {
    "ExecuteTime": {
     "end_time": "2019-05-19T22:39:58.046143Z",
     "start_time": "2019-05-19T22:39:46.076277Z"
    }
   },
   "outputs": [],
   "source": [
    "test_dag_marginals_df = (\n",
    "    test_dag_marginals_df\n",
    "    .assign(\n",
    "        frac_correct=(\n",
    "            test_dag_marginals_df\n",
    "            .apply(count_fraction_correct, axis=1)\n",
    "            .values\n",
    "        )\n",
    "    )\n",
    "    .groupby([\"label\", \"num_lfs\"])[\"frac_correct\"]\n",
    "    .agg(pd.np.mean)\n",
    "    .reset_index(level=[\"label\", \"num_lfs\"])\n",
    ")"
   ]
  },
  {
   "cell_type": "markdown",
   "metadata": {},
   "source": [
    "## Dev Set Performance (AUPRC, AUROC)"
   ]
  },
  {
   "cell_type": "code",
   "execution_count": 26,
   "metadata": {
    "ExecuteTime": {
     "end_time": "2019-05-19T22:39:58.517543Z",
     "start_time": "2019-05-19T22:39:58.047605Z"
    }
   },
   "outputs": [
    {
     "name": "stderr",
     "output_type": "stream",
     "text": [
      "/home/danich1/anaconda2/envs/snorkeling/lib/python3.6/site-packages/scipy/stats/stats.py:1713: FutureWarning: Using a non-tuple sequence for multidimensional indexing is deprecated; use `arr[tuple(seq)]` instead of `arr[seq]`. In the future this will be interpreted as an array index, `arr[np.array(seq)]`, which will result either in an error or a different result.\n",
      "  return np.add.reduce(sorted[indexer] * weights, axis=axis) / sumval\n"
     ]
    },
    {
     "data": {
      "text/plain": [
       "<matplotlib.axes._subplots.AxesSubplot at 0x7f5d4aa96b38>"
      ]
     },
     "execution_count": 26,
     "metadata": {},
     "output_type": "execute_result"
    },
    {
     "data": {
      "image/png": "[encoded data removed]",
      "text/plain": [
       "<matplotlib.figure.Figure at 0x7f5d6d6ba7f0>"
      ]
     },
     "metadata": {},
     "output_type": "display_data"
    }
   ],
   "source": [
    "fig, axs = plt.subplots(ncols=2, figsize=(10, 5))\n",
    "sns.pointplot(x=\"num_lfs\", y=\"AUPRC\", data=dev_dag_df, ax=axs[0])\n",
    "sns.pointplot(x=\"num_lfs\", y=\"AUROC\", data=dev_dag_df, ax=axs[1])"
   ]
  },
  {
   "cell_type": "code",
   "execution_count": 27,
   "metadata": {
    "ExecuteTime": {
     "end_time": "2019-05-19T22:39:58.714579Z",
     "start_time": "2019-05-19T22:39:58.520247Z"
    }
   },
   "outputs": [
    {
     "data": {
      "text/plain": [
       "<matplotlib.axes._subplots.AxesSubplot at 0x7f5d4a9d58d0>"
      ]
     },
     "execution_count": 27,
     "metadata": {},
     "output_type": "execute_result"
    },
    {
     "data": {
      "image/png": "[encoded data removed]",
      "text/plain": [
       "<matplotlib.figure.Figure at 0x7f5d6d6abb00>"
      ]
     },
     "metadata": {},
     "output_type": "display_data"
    }
   ],
   "source": [
    "sns.pointplot(x=\"num_lfs\", y=\"frac_correct\", data=dev_dag_marginals_df, hue=\"label\")"
   ]
  },
  {
   "cell_type": "markdown",
   "metadata": {},
   "source": [
    "## Test Set Performance (AUPRC, AUROC)"
   ]
  },
  {
   "cell_type": "code",
   "execution_count": 28,
   "metadata": {
    "ExecuteTime": {
     "end_time": "2019-05-19T22:39:59.175676Z",
     "start_time": "2019-05-19T22:39:58.715917Z"
    },
    "scrolled": false
   },
   "outputs": [
    {
     "name": "stderr",
     "output_type": "stream",
     "text": [
      "/home/danich1/anaconda2/envs/snorkeling/lib/python3.6/site-packages/scipy/stats/stats.py:1713: FutureWarning: Using a non-tuple sequence for multidimensional indexing is deprecated; use `arr[tuple(seq)]` instead of `arr[seq]`. In the future this will be interpreted as an array index, `arr[np.array(seq)]`, which will result either in an error or a different result.\n",
      "  return np.add.reduce(sorted[indexer] * weights, axis=axis) / sumval\n"
     ]
    },
    {
     "data": {
      "text/plain": [
       "<matplotlib.axes._subplots.AxesSubplot at 0x7f5d4a8e4f60>"
      ]
     },
     "execution_count": 28,
     "metadata": {},
     "output_type": "execute_result"
    },
    {
     "data": {
      "image/png": "[encoded data removed]",
      "text/plain": [
       "<matplotlib.figure.Figure at 0x7f5d894821d0>"
      ]
     },
     "metadata": {},
     "output_type": "display_data"
    }
   ],
   "source": [
    "fig, axs = plt.subplots(ncols=2, figsize=(10, 5))\n",
    "sns.pointplot(x=\"num_lfs\", y=\"AUPRC\", data=test_dag_df, ax=axs[0])\n",
    "sns.pointplot(x=\"num_lfs\", y=\"AUROC\", data=test_dag_df, ax=axs[1])"
   ]
  },
  {
   "cell_type": "code",
   "execution_count": 29,
   "metadata": {
    "ExecuteTime": {
     "end_time": "2019-05-19T22:39:59.369781Z",
     "start_time": "2019-05-19T22:39:59.176932Z"
    }
   },
   "outputs": [
    {
     "data": {
      "text/plain": [
       "<matplotlib.axes._subplots.AxesSubplot at 0x7f5d4a8c84a8>"
      ]
     },
     "execution_count": 29,
     "metadata": {},
     "output_type": "execute_result"
    },
    {
     "data": {
      "image/png": "[encoded data removed]",
      "text/plain": [
       "<matplotlib.figure.Figure at 0x7f5d4a874358>"
      ]
     },
     "metadata": {},
     "output_type": "display_data"
    }
   ],
   "source": [
    "sns.pointplot(x=\"num_lfs\", y=\"frac_correct\", data=test_dag_marginals_df, hue=\"label\")"
   ]
  },
  {
   "cell_type": "code",
   "execution_count": 30,
   "metadata": {
    "ExecuteTime": {
     "end_time": "2019-04-23T15:36:00.187089Z",
     "start_time": "2019-04-23T15:36:00.159122Z"
    }
   },
   "outputs": [],
   "source": [
    "dev_dag_df.to_csv(\n",
    "    \"data/random_sampling/DaG/results/dev_sampled_performance.tsv\", \n",
    "    index=False, sep=\"\\t\", float_format=\"%.5g\"\n",
    ")\n",
    "\n",
    "test_dag_df.to_csv(\n",
    "    \"data/random_sampling/DaG/results/test_sampled_performance.tsv\", \n",
    "    index=False, sep=\"\\t\", float_format=\"%.5g\"\n",
    ")"
   ]
  },
  {
   "cell_type": "code",
   "execution_count": 31,
   "metadata": {
    "ExecuteTime": {
     "end_time": "2019-04-23T15:36:00.231292Z",
     "start_time": "2019-04-23T15:36:00.188415Z"
    }
   },
   "outputs": [],
   "source": [
    "dev_dag_marginals_df.to_csv(\n",
    "    \"data/random_sampling/DaG/results/dev_sampled_marginals.tsv\", \n",
    "    index=False, sep=\"\\t\", float_format=\"%.5g\"\n",
    ")\n",
    "\n",
    "test_dag_marginals_df.to_csv(\n",
    "    \"data/random_sampling/DaG/results/test_sampled_marginals.tsv\", \n",
    "    index=False, sep=\"\\t\", float_format=\"%.5g\"\n",
    ")"
   ]
  },
  {
   "cell_type": "markdown",
   "metadata": {},
   "source": [
    "# Using Compound Treats Disease Label Functions to Predict Disease Associates Gene Relations"
   ]
  },
  {
   "cell_type": "markdown",
   "metadata": {},
   "source": [
    "This sections determines how well CtD label functions can predict the Disease Associates Gene Relations."
   ]
  },
  {
   "cell_type": "code",
   "execution_count": 32,
   "metadata": {
    "ExecuteTime": {
     "end_time": "2019-04-23T15:36:00.339683Z",
     "start_time": "2019-04-23T15:36:00.232694Z"
    }
   },
   "outputs": [],
   "source": [
    "num_of_samples = 50\n",
    "regularization_grid = pd.np.round(pd.np.linspace(0.01, 5, num=10), 2)"
   ]
  },
  {
   "cell_type": "code",
   "execution_count": 33,
   "metadata": {
    "ExecuteTime": {
     "end_time": "2019-04-23T16:40:09.246379Z",
     "start_time": "2019-04-23T15:36:00.345948Z"
    }
   },
   "outputs": [
    {
     "data": {
      "application/vnd.jupyter.widget-view+json": {
       "model_id": "7a78058d660549b2bb557d9eb93a05eb",
       "version_major": 2,
       "version_minor": 0
      },
      "text/html": [
       "<p>Failed to display Jupyter Widget of type <code>HBox</code>.</p>\n",
       "<p>\n",
       "  If you're reading this message in the Jupyter Notebook or JupyterLab Notebook, it may mean\n",
       "  that the widgets JavaScript is still loading. If this message persists, it\n",
       "  likely means that the widgets JavaScript library is either not installed or\n",
       "  not enabled. See the <a href=\"https://ipywidgets.readthedocs.io/en/stable/user_install.html\">Jupyter\n",
       "  Widgets Documentation</a> for setup instructions.\n",
       "</p>\n",
       "<p>\n",
       "  If you're reading this message in another frontend (for example, a static\n",
       "  rendering on GitHub or <a href=\"https://nbviewer.jupyter.org/\">NBViewer</a>),\n",
       "  it may mean that your frontend doesn't currently support widgets.\n",
       "</p>\n"
      ],
      "text/plain": [
       "HBox(children=(IntProgress(value=1, bar_style='info', max=1), HTML(value='')))"
      ]
     },
     "metadata": {},
     "output_type": "display_data"
    },
    {
     "name": "stdout",
     "output_type": "stream",
     "text": [
      "\n"
     ]
    },
    {
     "data": {
      "application/vnd.jupyter.widget-view+json": {
       "model_id": "b4326c08cc1846899e3ccc9036dc4a9d",
       "version_major": 2,
       "version_minor": 0
      },
      "text/html": [
       "<p>Failed to display Jupyter Widget of type <code>HBox</code>.</p>\n",
       "<p>\n",
       "  If you're reading this message in the Jupyter Notebook or JupyterLab Notebook, it may mean\n",
       "  that the widgets JavaScript is still loading. If this message persists, it\n",
       "  likely means that the widgets JavaScript library is either not installed or\n",
       "  not enabled. See the <a href=\"https://ipywidgets.readthedocs.io/en/stable/user_install.html\">Jupyter\n",
       "  Widgets Documentation</a> for setup instructions.\n",
       "</p>\n",
       "<p>\n",
       "  If you're reading this message in another frontend (for example, a static\n",
       "  rendering on GitHub or <a href=\"https://nbviewer.jupyter.org/\">NBViewer</a>),\n",
       "  it may mean that your frontend doesn't currently support widgets.\n",
       "</p>\n"
      ],
      "text/plain": [
       "HBox(children=(IntProgress(value=1, bar_style='info', max=1), HTML(value='')))"
      ]
     },
     "metadata": {},
     "output_type": "display_data"
    },
    {
     "name": "stdout",
     "output_type": "stream",
     "text": [
      "\n"
     ]
    },
    {
     "data": {
      "application/vnd.jupyter.widget-view+json": {
       "model_id": "2eb058eec8854493b9c186f86b85954f",
       "version_major": 2,
       "version_minor": 0
      },
      "text/html": [
       "<p>Failed to display Jupyter Widget of type <code>HBox</code>.</p>\n",
       "<p>\n",
       "  If you're reading this message in the Jupyter Notebook or JupyterLab Notebook, it may mean\n",
       "  that the widgets JavaScript is still loading. If this message persists, it\n",
       "  likely means that the widgets JavaScript library is either not installed or\n",
       "  not enabled. See the <a href=\"https://ipywidgets.readthedocs.io/en/stable/user_install.html\">Jupyter\n",
       "  Widgets Documentation</a> for setup instructions.\n",
       "</p>\n",
       "<p>\n",
       "  If you're reading this message in another frontend (for example, a static\n",
       "  rendering on GitHub or <a href=\"https://nbviewer.jupyter.org/\">NBViewer</a>),\n",
       "  it may mean that your frontend doesn't currently support widgets.\n",
       "</p>\n"
      ],
      "text/plain": [
       "HBox(children=(IntProgress(value=1, bar_style='info', max=1), HTML(value='')))"
      ]
     },
     "metadata": {},
     "output_type": "display_data"
    },
    {
     "name": "stdout",
     "output_type": "stream",
     "text": [
      "\n"
     ]
    },
    {
     "data": {
      "application/vnd.jupyter.widget-view+json": {
       "model_id": "3936852fab59484b8717c9dc67c5bf3e",
       "version_major": 2,
       "version_minor": 0
      },
      "text/html": [
       "<p>Failed to display Jupyter Widget of type <code>HBox</code>.</p>\n",
       "<p>\n",
       "  If you're reading this message in the Jupyter Notebook or JupyterLab Notebook, it may mean\n",
       "  that the widgets JavaScript is still loading. If this message persists, it\n",
       "  likely means that the widgets JavaScript library is either not installed or\n",
       "  not enabled. See the <a href=\"https://ipywidgets.readthedocs.io/en/stable/user_install.html\">Jupyter\n",
       "  Widgets Documentation</a> for setup instructions.\n",
       "</p>\n",
       "<p>\n",
       "  If you're reading this message in another frontend (for example, a static\n",
       "  rendering on GitHub or <a href=\"https://nbviewer.jupyter.org/\">NBViewer</a>),\n",
       "  it may mean that your frontend doesn't currently support widgets.\n",
       "</p>\n"
      ],
      "text/plain": [
       "HBox(children=(IntProgress(value=1, bar_style='info', max=1), HTML(value='')))"
      ]
     },
     "metadata": {},
     "output_type": "display_data"
    },
    {
     "name": "stdout",
     "output_type": "stream",
     "text": [
      "\n"
     ]
    },
    {
     "data": {
      "application/vnd.jupyter.widget-view+json": {
       "model_id": "73d081d492b14ea5bccf5b87d88825c2",
       "version_major": 2,
       "version_minor": 0
      },
      "text/html": [
       "<p>Failed to display Jupyter Widget of type <code>HBox</code>.</p>\n",
       "<p>\n",
       "  If you're reading this message in the Jupyter Notebook or JupyterLab Notebook, it may mean\n",
       "  that the widgets JavaScript is still loading. If this message persists, it\n",
       "  likely means that the widgets JavaScript library is either not installed or\n",
       "  not enabled. See the <a href=\"https://ipywidgets.readthedocs.io/en/stable/user_install.html\">Jupyter\n",
       "  Widgets Documentation</a> for setup instructions.\n",
       "</p>\n",
       "<p>\n",
       "  If you're reading this message in another frontend (for example, a static\n",
       "  rendering on GitHub or <a href=\"https://nbviewer.jupyter.org/\">NBViewer</a>),\n",
       "  it may mean that your frontend doesn't currently support widgets.\n",
       "</p>\n"
      ],
      "text/plain": [
       "HBox(children=(IntProgress(value=1, bar_style='info', max=1), HTML(value='')))"
      ]
     },
     "metadata": {},
     "output_type": "display_data"
    },
    {
     "name": "stdout",
     "output_type": "stream",
     "text": [
      "\n"
     ]
    },
    {
     "data": {
      "application/vnd.jupyter.widget-view+json": {
       "model_id": "6c32bca0da3f4bf8a4a2f088f9dd8c3b",
       "version_major": 2,
       "version_minor": 0
      },
      "text/html": [
       "<p>Failed to display Jupyter Widget of type <code>HBox</code>.</p>\n",
       "<p>\n",
       "  If you're reading this message in the Jupyter Notebook or JupyterLab Notebook, it may mean\n",
       "  that the widgets JavaScript is still loading. If this message persists, it\n",
       "  likely means that the widgets JavaScript library is either not installed or\n",
       "  not enabled. See the <a href=\"https://ipywidgets.readthedocs.io/en/stable/user_install.html\">Jupyter\n",
       "  Widgets Documentation</a> for setup instructions.\n",
       "</p>\n",
       "<p>\n",
       "  If you're reading this message in another frontend (for example, a static\n",
       "  rendering on GitHub or <a href=\"https://nbviewer.jupyter.org/\">NBViewer</a>),\n",
       "  it may mean that your frontend doesn't currently support widgets.\n",
       "</p>\n"
      ],
      "text/plain": [
       "HBox(children=(IntProgress(value=1, bar_style='info', max=1), HTML(value='')))"
      ]
     },
     "metadata": {},
     "output_type": "display_data"
    },
    {
     "name": "stdout",
     "output_type": "stream",
     "text": [
      "\n"
     ]
    }
   ],
   "source": [
    "dev_ctd_df = pd.DataFrame(dev_baseline)\n",
    "test_ctd_df = pd.DataFrame(test_baseline)\n",
    "dev_ctd_marginals_df = pd.DataFrame(dev_baseline_marginals, columns=[\"marginals\", \"label\"]).assign(num_lfs=0)\n",
    "test_ctd_marginals_df = pd.DataFrame(test_baseline_marginals, columns=[\"marginals\", \"label\"]).assign(num_lfs=0)\n",
    "\n",
    "ctd_start = 37\n",
    "ctd_end = 59\n",
    "\n",
    "range_of_sample_sizes = (\n",
    "    list(range(1, correct_L[:,ctd_start:ctd_end].shape[1], 5)) +\n",
    "    [correct_L[:,ctd_start:ctd_end].shape[1]]\n",
    ")\n",
    "\n",
    "lf_sample_keeper, dev_results_df, test_results_df, dev_marginals_df, test_marginals_df = run_random_additional_lfs(\n",
    "    range_of_sample_sizes=range_of_sample_sizes, \n",
    "    range_of_lf_indicies = list(range(ctd_start, ctd_end+1)),\n",
    "    size_of_sample_pool=ctd_end-ctd_start,\n",
    "    num_of_samples=num_of_samples,\n",
    "    train=correct_L, \n",
    "    dev=correct_L_dev,\n",
    "    dev_labels=candidate_dfs['dev'].curated_dsh.values,\n",
    "    test=correct_L_test,\n",
    "    test_labels=candidate_dfs['test'].curated_dsh.values,\n",
    "    grid=regularization_grid,\n",
    "    label_matricies=label_matricies['train'][train_ids == False],\n",
    "    train_marginal_dir='data/random_sampling/CtD/marginals/',\n",
    "    ds_start=ds_start,\n",
    "    ds_end=ds_end,\n",
    ")\n",
    "\n",
    "dev_ctd_df = dev_ctd_df.append(dev_results_df, sort=True)\n",
    "test_ctd_df = test_ctd_df.append(test_results_df, sort=True)\n",
    "dev_ctd_marginals_df = dev_ctd_marginals_df.append(dev_marginals_df, sort=True)\n",
    "test_ctd_marginals_df = test_ctd_marginals_df.append(test_marginals_df, sort=True)"
   ]
  },
  {
   "cell_type": "code",
   "execution_count": 34,
   "metadata": {
    "ExecuteTime": {
     "end_time": "2019-04-23T16:40:19.390798Z",
     "start_time": "2019-04-23T16:40:09.247968Z"
    }
   },
   "outputs": [],
   "source": [
    "dev_ctd_marginals_df = (\n",
    "     dev_ctd_marginals_df\n",
    "     .assign(\n",
    "        frac_correct=(\n",
    "            dev_ctd_marginals_df\n",
    "            .apply(count_fraction_correct,axis=1)\n",
    "            .values\n",
    "        )\n",
    "    )\n",
    "    .groupby([\"label\", \"num_lfs\"])[\"frac_correct\"]\n",
    "    .agg(pd.np.mean)\n",
    "    .reset_index(level=[\"label\", \"num_lfs\"])\n",
    " )"
   ]
  },
  {
   "cell_type": "code",
   "execution_count": 35,
   "metadata": {
    "ExecuteTime": {
     "end_time": "2019-04-23T16:40:29.489158Z",
     "start_time": "2019-04-23T16:40:19.392387Z"
    }
   },
   "outputs": [],
   "source": [
    "test_ctd_marginals_df = (\n",
    "    test_ctd_marginals_df\n",
    "    .assign(\n",
    "        frac_correct=(\n",
    "            test_ctd_marginals_df\n",
    "            .apply(count_fraction_correct, axis=1)\n",
    "            .values\n",
    "        )\n",
    "    )\n",
    "    .groupby([\"label\", \"num_lfs\"])[\"frac_correct\"]\n",
    "    .agg(pd.np.mean)\n",
    "    .reset_index(level=[\"label\", \"num_lfs\"])\n",
    ")"
   ]
  },
  {
   "cell_type": "markdown",
   "metadata": {},
   "source": [
    "## Dev Set Performance (AUPRC, AUROC)"
   ]
  },
  {
   "cell_type": "code",
   "execution_count": 36,
   "metadata": {
    "ExecuteTime": {
     "end_time": "2019-04-23T16:40:29.910746Z",
     "start_time": "2019-04-23T16:40:29.490592Z"
    }
   },
   "outputs": [
    {
     "name": "stderr",
     "output_type": "stream",
     "text": [
      "/home/danich1/anaconda2/envs/snorkeling/lib/python3.6/site-packages/scipy/stats/stats.py:1713: FutureWarning: Using a non-tuple sequence for multidimensional indexing is deprecated; use `arr[tuple(seq)]` instead of `arr[seq]`. In the future this will be interpreted as an array index, `arr[np.array(seq)]`, which will result either in an error or a different result.\n",
      "  return np.add.reduce(sorted[indexer] * weights, axis=axis) / sumval\n"
     ]
    },
    {
     "data": {
      "text/plain": [
       "<matplotlib.axes._subplots.AxesSubplot at 0x7fce35a19588>"
      ]
     },
     "execution_count": 36,
     "metadata": {},
     "output_type": "execute_result"
    },
    {
     "data": {
      "image/png": "[encoded data removed]",
      "text/plain": [
       "<matplotlib.figure.Figure at 0x7fce35528cc0>"
      ]
     },
     "metadata": {},
     "output_type": "display_data"
    }
   ],
   "source": [
    "fig, axs = plt.subplots(ncols=2, figsize=(10, 5))\n",
    "sns.pointplot(x=\"num_lfs\", y=\"AUPRC\", data=dev_ctd_df, ax=axs[0])\n",
    "sns.pointplot(x=\"num_lfs\", y=\"AUROC\", data=dev_ctd_df, ax=axs[1])"
   ]
  },
  {
   "cell_type": "code",
   "execution_count": 37,
   "metadata": {
    "ExecuteTime": {
     "end_time": "2019-04-23T16:40:30.106953Z",
     "start_time": "2019-04-23T16:40:29.917310Z"
    }
   },
   "outputs": [
    {
     "data": {
      "text/plain": [
       "<matplotlib.axes._subplots.AxesSubplot at 0x7fce3415b080>"
      ]
     },
     "execution_count": 37,
     "metadata": {},
     "output_type": "execute_result"
    },
    {
     "data": {
      "image/png": "[encoded data removed]",
      "text/plain": [
       "<matplotlib.figure.Figure at 0x7fce354dedd8>"
      ]
     },
     "metadata": {},
     "output_type": "display_data"
    }
   ],
   "source": [
    "sns.pointplot(x=\"num_lfs\", y=\"frac_correct\", data=dev_ctd_marginals_df, hue=\"label\")"
   ]
  },
  {
   "cell_type": "markdown",
   "metadata": {},
   "source": [
    "## Test Set Performance (AUPRC, AUROC)"
   ]
  },
  {
   "cell_type": "code",
   "execution_count": 38,
   "metadata": {
    "ExecuteTime": {
     "end_time": "2019-04-23T16:40:30.521385Z",
     "start_time": "2019-04-23T16:40:30.108455Z"
    }
   },
   "outputs": [
    {
     "name": "stderr",
     "output_type": "stream",
     "text": [
      "/home/danich1/anaconda2/envs/snorkeling/lib/python3.6/site-packages/scipy/stats/stats.py:1713: FutureWarning: Using a non-tuple sequence for multidimensional indexing is deprecated; use `arr[tuple(seq)]` instead of `arr[seq]`. In the future this will be interpreted as an array index, `arr[np.array(seq)]`, which will result either in an error or a different result.\n",
      "  return np.add.reduce(sorted[indexer] * weights, axis=axis) / sumval\n"
     ]
    },
    {
     "data": {
      "text/plain": [
       "<matplotlib.axes._subplots.AxesSubplot at 0x7fce34021940>"
      ]
     },
     "execution_count": 38,
     "metadata": {},
     "output_type": "execute_result"
    },
    {
     "data": {
      "image/png": "[encoded data removed]",
      "text/plain": [
       "<matplotlib.figure.Figure at 0x7fce3407a7f0>"
      ]
     },
     "metadata": {},
     "output_type": "display_data"
    }
   ],
   "source": [
    "fig, axs = plt.subplots(ncols=2, figsize=(10, 5))\n",
    "sns.pointplot(x=\"num_lfs\", y=\"AUPRC\", data=test_ctd_df, ax=axs[0])\n",
    "sns.pointplot(x=\"num_lfs\", y=\"AUROC\", data=test_ctd_df, ax=axs[1])"
   ]
  },
  {
   "cell_type": "code",
   "execution_count": 39,
   "metadata": {
    "ExecuteTime": {
     "end_time": "2019-04-23T16:40:30.715256Z",
     "start_time": "2019-04-23T16:40:30.522577Z"
    }
   },
   "outputs": [
    {
     "data": {
      "text/plain": [
       "<matplotlib.axes._subplots.AxesSubplot at 0x7fce340014e0>"
      ]
     },
     "execution_count": 39,
     "metadata": {},
     "output_type": "execute_result"
    },
    {
     "data": {
      "image/png": "[encoded data removed]",
      "text/plain": [
       "<matplotlib.figure.Figure at 0x7fce340084e0>"
      ]
     },
     "metadata": {},
     "output_type": "display_data"
    }
   ],
   "source": [
    "sns.pointplot(x=\"num_lfs\", y=\"frac_correct\", data=test_ctd_marginals_df, hue=\"label\")"
   ]
  },
  {
   "cell_type": "code",
   "execution_count": 40,
   "metadata": {
    "ExecuteTime": {
     "end_time": "2019-04-23T16:40:30.744017Z",
     "start_time": "2019-04-23T16:40:30.716797Z"
    }
   },
   "outputs": [],
   "source": [
    "dev_ctd_df.to_csv(\n",
    "    \"data/random_sampling/CtD/results/dev_sampled_performance.tsv\", \n",
    "    index=False, sep=\"\\t\", float_format=\"%.5g\"\n",
    ")\n",
    "\n",
    "test_ctd_df.to_csv(\n",
    "    \"data/random_sampling/CtD/results/test_sampled_performance.tsv\", \n",
    "    index=False, sep=\"\\t\", float_format=\"%.5g\"\n",
    ")"
   ]
  },
  {
   "cell_type": "code",
   "execution_count": 41,
   "metadata": {
    "ExecuteTime": {
     "end_time": "2019-04-23T16:40:30.812075Z",
     "start_time": "2019-04-23T16:40:30.745276Z"
    }
   },
   "outputs": [],
   "source": [
    "dev_ctd_marginals_df.to_csv(\n",
    "    \"data/random_sampling/CtD/results/dev_sampled_marginals.tsv\", \n",
    "    index=False, sep=\"\\t\", float_format=\"%.5g\"\n",
    ")\n",
    "\n",
    "test_ctd_marginals_df.to_csv(\n",
    "    \"data/random_sampling/CtD/results/test_sampled_marginals.tsv\", \n",
    "    index=False, sep=\"\\t\", float_format=\"%.5g\"\n",
    ")"
   ]
  },
  {
   "cell_type": "markdown",
   "metadata": {},
   "source": [
    "# Using Compound Binds Gene Label Functions to Predict Disease Associates Gene Relations"
   ]
  },
  {
   "cell_type": "markdown",
   "metadata": {},
   "source": [
    "This sections determines how well CbG label functions can predict Disease Gene Associations relations."
   ]
  },
  {
   "cell_type": "code",
   "execution_count": 42,
   "metadata": {
    "ExecuteTime": {
     "end_time": "2019-04-23T16:40:30.867045Z",
     "start_time": "2019-04-23T16:40:30.813492Z"
    }
   },
   "outputs": [],
   "source": [
    "num_of_samples = 50\n",
    "regularization_grid = pd.np.round(pd.np.linspace(0.01, 5, num=10), 2)"
   ]
  },
  {
   "cell_type": "code",
   "execution_count": 43,
   "metadata": {
    "ExecuteTime": {
     "end_time": "2019-04-23T17:30:05.375356Z",
     "start_time": "2019-04-23T16:40:30.869465Z"
    }
   },
   "outputs": [
    {
     "data": {
      "application/vnd.jupyter.widget-view+json": {
       "model_id": "3399a86bf0ca492bbd6879acd0512d24",
       "version_major": 2,
       "version_minor": 0
      },
      "text/html": [
       "<p>Failed to display Jupyter Widget of type <code>HBox</code>.</p>\n",
       "<p>\n",
       "  If you're reading this message in the Jupyter Notebook or JupyterLab Notebook, it may mean\n",
       "  that the widgets JavaScript is still loading. If this message persists, it\n",
       "  likely means that the widgets JavaScript library is either not installed or\n",
       "  not enabled. See the <a href=\"https://ipywidgets.readthedocs.io/en/stable/user_install.html\">Jupyter\n",
       "  Widgets Documentation</a> for setup instructions.\n",
       "</p>\n",
       "<p>\n",
       "  If you're reading this message in another frontend (for example, a static\n",
       "  rendering on GitHub or <a href=\"https://nbviewer.jupyter.org/\">NBViewer</a>),\n",
       "  it may mean that your frontend doesn't currently support widgets.\n",
       "</p>\n"
      ],
      "text/plain": [
       "HBox(children=(IntProgress(value=1, bar_style='info', max=1), HTML(value='')))"
      ]
     },
     "metadata": {},
     "output_type": "display_data"
    },
    {
     "name": "stdout",
     "output_type": "stream",
     "text": [
      "\n"
     ]
    },
    {
     "data": {
      "application/vnd.jupyter.widget-view+json": {
       "model_id": "e1a21e77507248d59d3d1f5811805c01",
       "version_major": 2,
       "version_minor": 0
      },
      "text/html": [
       "<p>Failed to display Jupyter Widget of type <code>HBox</code>.</p>\n",
       "<p>\n",
       "  If you're reading this message in the Jupyter Notebook or JupyterLab Notebook, it may mean\n",
       "  that the widgets JavaScript is still loading. If this message persists, it\n",
       "  likely means that the widgets JavaScript library is either not installed or\n",
       "  not enabled. See the <a href=\"https://ipywidgets.readthedocs.io/en/stable/user_install.html\">Jupyter\n",
       "  Widgets Documentation</a> for setup instructions.\n",
       "</p>\n",
       "<p>\n",
       "  If you're reading this message in another frontend (for example, a static\n",
       "  rendering on GitHub or <a href=\"https://nbviewer.jupyter.org/\">NBViewer</a>),\n",
       "  it may mean that your frontend doesn't currently support widgets.\n",
       "</p>\n"
      ],
      "text/plain": [
       "HBox(children=(IntProgress(value=1, bar_style='info', max=1), HTML(value='')))"
      ]
     },
     "metadata": {},
     "output_type": "display_data"
    },
    {
     "name": "stdout",
     "output_type": "stream",
     "text": [
      "\n"
     ]
    },
    {
     "data": {
      "application/vnd.jupyter.widget-view+json": {
       "model_id": "7a8ba8e4723047169ca977e547d16c3c",
       "version_major": 2,
       "version_minor": 0
      },
      "text/html": [
       "<p>Failed to display Jupyter Widget of type <code>HBox</code>.</p>\n",
       "<p>\n",
       "  If you're reading this message in the Jupyter Notebook or JupyterLab Notebook, it may mean\n",
       "  that the widgets JavaScript is still loading. If this message persists, it\n",
       "  likely means that the widgets JavaScript library is either not installed or\n",
       "  not enabled. See the <a href=\"https://ipywidgets.readthedocs.io/en/stable/user_install.html\">Jupyter\n",
       "  Widgets Documentation</a> for setup instructions.\n",
       "</p>\n",
       "<p>\n",
       "  If you're reading this message in another frontend (for example, a static\n",
       "  rendering on GitHub or <a href=\"https://nbviewer.jupyter.org/\">NBViewer</a>),\n",
       "  it may mean that your frontend doesn't currently support widgets.\n",
       "</p>\n"
      ],
      "text/plain": [
       "HBox(children=(IntProgress(value=1, bar_style='info', max=1), HTML(value='')))"
      ]
     },
     "metadata": {},
     "output_type": "display_data"
    },
    {
     "name": "stdout",
     "output_type": "stream",
     "text": [
      "\n"
     ]
    },
    {
     "data": {
      "application/vnd.jupyter.widget-view+json": {
       "model_id": "1c7899694de64a66956f8c23391605b6",
       "version_major": 2,
       "version_minor": 0
      },
      "text/html": [
       "<p>Failed to display Jupyter Widget of type <code>HBox</code>.</p>\n",
       "<p>\n",
       "  If you're reading this message in the Jupyter Notebook or JupyterLab Notebook, it may mean\n",
       "  that the widgets JavaScript is still loading. If this message persists, it\n",
       "  likely means that the widgets JavaScript library is either not installed or\n",
       "  not enabled. See the <a href=\"https://ipywidgets.readthedocs.io/en/stable/user_install.html\">Jupyter\n",
       "  Widgets Documentation</a> for setup instructions.\n",
       "</p>\n",
       "<p>\n",
       "  If you're reading this message in another frontend (for example, a static\n",
       "  rendering on GitHub or <a href=\"https://nbviewer.jupyter.org/\">NBViewer</a>),\n",
       "  it may mean that your frontend doesn't currently support widgets.\n",
       "</p>\n"
      ],
      "text/plain": [
       "HBox(children=(IntProgress(value=1, bar_style='info', max=1), HTML(value='')))"
      ]
     },
     "metadata": {},
     "output_type": "display_data"
    },
    {
     "name": "stdout",
     "output_type": "stream",
     "text": [
      "\n"
     ]
    },
    {
     "data": {
      "application/vnd.jupyter.widget-view+json": {
       "model_id": "4e1b2a38e12944319059d91b1261844e",
       "version_major": 2,
       "version_minor": 0
      },
      "text/html": [
       "<p>Failed to display Jupyter Widget of type <code>HBox</code>.</p>\n",
       "<p>\n",
       "  If you're reading this message in the Jupyter Notebook or JupyterLab Notebook, it may mean\n",
       "  that the widgets JavaScript is still loading. If this message persists, it\n",
       "  likely means that the widgets JavaScript library is either not installed or\n",
       "  not enabled. See the <a href=\"https://ipywidgets.readthedocs.io/en/stable/user_install.html\">Jupyter\n",
       "  Widgets Documentation</a> for setup instructions.\n",
       "</p>\n",
       "<p>\n",
       "  If you're reading this message in another frontend (for example, a static\n",
       "  rendering on GitHub or <a href=\"https://nbviewer.jupyter.org/\">NBViewer</a>),\n",
       "  it may mean that your frontend doesn't currently support widgets.\n",
       "</p>\n"
      ],
      "text/plain": [
       "HBox(children=(IntProgress(value=1, bar_style='info', max=1), HTML(value='')))"
      ]
     },
     "metadata": {},
     "output_type": "display_data"
    },
    {
     "name": "stdout",
     "output_type": "stream",
     "text": [
      "\n"
     ]
    }
   ],
   "source": [
    "dev_cbg_df = pd.DataFrame(dev_baseline)\n",
    "test_cbg_df = pd.DataFrame(test_baseline)\n",
    "dev_cbg_marginals_df = pd.DataFrame(dev_baseline_marginals, columns=[\"marginals\", \"label\"]).assign(num_lfs=0)\n",
    "test_cbg_marginals_df = pd.DataFrame(test_baseline_marginals, columns=[\"marginals\", \"label\"]).assign(num_lfs=0)\n",
    "\n",
    "cbg_start = 59\n",
    "cbg_end = 79\n",
    "\n",
    "range_of_sample_sizes = (\n",
    "    list(range(1, correct_L[:,cbg_start:cbg_end].shape[1], 5)) +\n",
    "    [correct_L[:,cbg_start:cbg_end].shape[1]]\n",
    ")\n",
    "\n",
    "lf_sample_keeper, dev_results_df, test_results_df, dev_marginals_df, test_marginals_df = run_random_additional_lfs(\n",
    "    range_of_sample_sizes=range_of_sample_sizes, \n",
    "    range_of_lf_indicies = list(range(cbg_start, cbg_end+1)),\n",
    "    size_of_sample_pool=cbg_end-cbg_start,\n",
    "    num_of_samples=num_of_samples,\n",
    "    train=correct_L, \n",
    "    dev=correct_L_dev,\n",
    "    dev_labels=candidate_dfs['dev'].curated_dsh.values,\n",
    "    test=correct_L_test,\n",
    "    test_labels=candidate_dfs['test'].curated_dsh.values,\n",
    "    grid=regularization_grid,\n",
    "    label_matricies=label_matricies['train'][train_ids == False],\n",
    "    train_marginal_dir='data/random_sampling/CbG/marginals/',\n",
    "    ds_start=ds_start,\n",
    "    ds_end=ds_end,\n",
    ")\n",
    "\n",
    "dev_cbg_df = dev_cbg_df.append(dev_results_df, sort=True)\n",
    "test_cbg_df = test_cbg_df.append(test_results_df, sort=True)\n",
    "dev_cbg_marginals_df = dev_cbg_marginals_df.append(dev_marginals_df, sort=True)\n",
    "test_cbg_marginals_df= test_cbg_marginals_df.append(test_marginals_df, sort=True)"
   ]
  },
  {
   "cell_type": "code",
   "execution_count": 44,
   "metadata": {
    "ExecuteTime": {
     "end_time": "2019-04-23T17:30:13.846490Z",
     "start_time": "2019-04-23T17:30:05.377014Z"
    }
   },
   "outputs": [],
   "source": [
    " dev_cbg_marginals_df = (\n",
    "     dev_cbg_marginals_df\n",
    "     .assign(\n",
    "        frac_correct=(\n",
    "            dev_cbg_marginals_df\n",
    "            .apply(count_fraction_correct,axis=1)\n",
    "            .values\n",
    "        )\n",
    "    )\n",
    "    .groupby([\"label\", \"num_lfs\"])[\"frac_correct\"]\n",
    "    .agg(pd.np.mean)\n",
    "    .reset_index(level=[\"label\", \"num_lfs\"])\n",
    " )"
   ]
  },
  {
   "cell_type": "code",
   "execution_count": 45,
   "metadata": {
    "ExecuteTime": {
     "end_time": "2019-04-23T17:30:22.362938Z",
     "start_time": "2019-04-23T17:30:13.848207Z"
    }
   },
   "outputs": [],
   "source": [
    "test_cbg_marginals_df = (\n",
    "    test_cbg_marginals_df\n",
    "    .assign(\n",
    "        frac_correct=(\n",
    "            test_cbg_marginals_df\n",
    "            .apply(count_fraction_correct, axis=1)\n",
    "            .values\n",
    "        )\n",
    "    )\n",
    "    .groupby([\"label\", \"num_lfs\"])[\"frac_correct\"]\n",
    "    .agg(pd.np.mean)\n",
    "    .reset_index(level=[\"label\", \"num_lfs\"])\n",
    ")"
   ]
  },
  {
   "cell_type": "markdown",
   "metadata": {},
   "source": [
    "## Dev Set Performance (AUPRC, AUROC)"
   ]
  },
  {
   "cell_type": "code",
   "execution_count": 46,
   "metadata": {
    "ExecuteTime": {
     "end_time": "2019-04-23T17:30:22.754959Z",
     "start_time": "2019-04-23T17:30:22.364469Z"
    }
   },
   "outputs": [
    {
     "name": "stderr",
     "output_type": "stream",
     "text": [
      "/home/danich1/anaconda2/envs/snorkeling/lib/python3.6/site-packages/scipy/stats/stats.py:1713: FutureWarning: Using a non-tuple sequence for multidimensional indexing is deprecated; use `arr[tuple(seq)]` instead of `arr[seq]`. In the future this will be interpreted as an array index, `arr[np.array(seq)]`, which will result either in an error or a different result.\n",
      "  return np.add.reduce(sorted[indexer] * weights, axis=axis) / sumval\n"
     ]
    },
    {
     "data": {
      "text/plain": [
       "<matplotlib.axes._subplots.AxesSubplot at 0x7fce352b0ac8>"
      ]
     },
     "execution_count": 46,
     "metadata": {},
     "output_type": "execute_result"
    },
    {
     "data": {
      "image/png": "[encoded data removed]",
      "text/plain": [
       "<matplotlib.figure.Figure at 0x7fce33eb86d8>"
      ]
     },
     "metadata": {},
     "output_type": "display_data"
    }
   ],
   "source": [
    "fig, axs = plt.subplots(ncols=2, figsize=(10, 5))\n",
    "sns.pointplot(x=\"num_lfs\", y=\"AUPRC\", data=dev_cbg_df, ax=axs[0])\n",
    "sns.pointplot(x=\"num_lfs\", y=\"AUROC\", data=dev_cbg_df, ax=axs[1])"
   ]
  },
  {
   "cell_type": "code",
   "execution_count": 47,
   "metadata": {
    "ExecuteTime": {
     "end_time": "2019-04-23T17:30:22.941226Z",
     "start_time": "2019-04-23T17:30:22.756353Z"
    }
   },
   "outputs": [
    {
     "data": {
      "text/plain": [
       "<matplotlib.axes._subplots.AxesSubplot at 0x7fce30aed2e8>"
      ]
     },
     "execution_count": 47,
     "metadata": {},
     "output_type": "execute_result"
    },
    {
     "data": {
      "image/png": "[encoded data removed]",
      "text/plain": [
       "<matplotlib.figure.Figure at 0x7fce30b81710>"
      ]
     },
     "metadata": {},
     "output_type": "display_data"
    }
   ],
   "source": [
    "sns.pointplot(x=\"num_lfs\", y=\"frac_correct\", data=dev_cbg_marginals_df, hue=\"label\")"
   ]
  },
  {
   "cell_type": "markdown",
   "metadata": {
    "ExecuteTime": {
     "end_time": "2019-04-17T14:55:57.274306Z",
     "start_time": "2019-04-17T14:55:57.269662Z"
    }
   },
   "source": [
    "## Test Set Performance (AUPRC, AUROC)"
   ]
  },
  {
   "cell_type": "code",
   "execution_count": 48,
   "metadata": {
    "ExecuteTime": {
     "end_time": "2019-04-23T17:30:23.331906Z",
     "start_time": "2019-04-23T17:30:22.944833Z"
    }
   },
   "outputs": [
    {
     "name": "stderr",
     "output_type": "stream",
     "text": [
      "/home/danich1/anaconda2/envs/snorkeling/lib/python3.6/site-packages/scipy/stats/stats.py:1713: FutureWarning: Using a non-tuple sequence for multidimensional indexing is deprecated; use `arr[tuple(seq)]` instead of `arr[seq]`. In the future this will be interpreted as an array index, `arr[np.array(seq)]`, which will result either in an error or a different result.\n",
      "  return np.add.reduce(sorted[indexer] * weights, axis=axis) / sumval\n"
     ]
    },
    {
     "data": {
      "text/plain": [
       "<matplotlib.axes._subplots.AxesSubplot at 0x7fce30a2d0f0>"
      ]
     },
     "execution_count": 48,
     "metadata": {},
     "output_type": "execute_result"
    },
    {
     "data": {
      "image/png": "[encoded data removed]",
      "text/plain": [
       "<matplotlib.figure.Figure at 0x7fce30a89128>"
      ]
     },
     "metadata": {},
     "output_type": "display_data"
    }
   ],
   "source": [
    "fig, axs = plt.subplots(ncols=2, figsize=(10, 5))\n",
    "sns.pointplot(x=\"num_lfs\", y=\"AUPRC\", data=test_cbg_df, ax=axs[0])\n",
    "sns.pointplot(x=\"num_lfs\", y=\"AUROC\", data=test_cbg_df, ax=axs[1])"
   ]
  },
  {
   "cell_type": "code",
   "execution_count": 49,
   "metadata": {
    "ExecuteTime": {
     "end_time": "2019-04-23T17:30:23.514408Z",
     "start_time": "2019-04-23T17:30:23.333099Z"
    }
   },
   "outputs": [
    {
     "data": {
      "text/plain": [
       "<matplotlib.axes._subplots.AxesSubplot at 0x7fce30a35ef0>"
      ]
     },
     "execution_count": 49,
     "metadata": {},
     "output_type": "execute_result"
    },
    {
     "data": {
      "image/png": "[encoded data removed]",
      "text/plain": [
       "<matplotlib.figure.Figure at 0x7fce30a12390>"
      ]
     },
     "metadata": {},
     "output_type": "display_data"
    }
   ],
   "source": [
    "sns.pointplot(x=\"num_lfs\", y=\"frac_correct\", data=test_cbg_marginals_df, hue=\"label\")"
   ]
  },
  {
   "cell_type": "code",
   "execution_count": 50,
   "metadata": {
    "ExecuteTime": {
     "end_time": "2019-04-23T17:30:23.542392Z",
     "start_time": "2019-04-23T17:30:23.515684Z"
    }
   },
   "outputs": [],
   "source": [
    "dev_cbg_df.to_csv(\n",
    "    \"data/random_sampling/CbG/results/dev_sampled_performance.tsv\", \n",
    "    index=False, sep=\"\\t\", float_format=\"%.5g\"\n",
    ")\n",
    "\n",
    "test_cbg_df.to_csv(\n",
    "    \"data/random_sampling/CbG/results/test_sampled_performance.tsv\", \n",
    "    index=False, sep=\"\\t\", float_format=\"%.5g\"\n",
    ")"
   ]
  },
  {
   "cell_type": "code",
   "execution_count": 51,
   "metadata": {
    "ExecuteTime": {
     "end_time": "2019-04-23T17:30:23.577700Z",
     "start_time": "2019-04-23T17:30:23.543606Z"
    }
   },
   "outputs": [],
   "source": [
    "dev_cbg_marginals_df.to_csv(\n",
    "    \"data/random_sampling/CbG/results/dev_sampled_marginals.tsv\", \n",
    "    index=False, sep=\"\\t\", float_format=\"%.5g\"\n",
    ")\n",
    "\n",
    "test_cbg_marginals_df.to_csv(\n",
    "    \"data/random_sampling/CbG/results/test_sampled_marginals.tsv\", \n",
    "    index=False, sep=\"\\t\", float_format=\"%.5g\"\n",
    ")"
   ]
  },
  {
   "cell_type": "markdown",
   "metadata": {},
   "source": [
    "# Using Gene Interacts Gene Label Functions to Predict Disease Associates Gene Relations"
   ]
  },
  {
   "cell_type": "markdown",
   "metadata": {},
   "source": [
    "This sections determines how well GiG label functions can predict Disease Gene Associations relations."
   ]
  },
  {
   "cell_type": "code",
   "execution_count": 52,
   "metadata": {
    "ExecuteTime": {
     "end_time": "2019-04-23T17:30:23.606036Z",
     "start_time": "2019-04-23T17:30:23.579178Z"
    }
   },
   "outputs": [],
   "source": [
    "num_of_samples = 50\n",
    "regularization_grid = pd.np.round(pd.np.linspace(0.01, 5, num=10), 2)"
   ]
  },
  {
   "cell_type": "code",
   "execution_count": 53,
   "metadata": {
    "ExecuteTime": {
     "end_time": "2019-04-23T18:51:13.845011Z",
     "start_time": "2019-04-23T17:30:23.607486Z"
    }
   },
   "outputs": [
    {
     "data": {
      "application/vnd.jupyter.widget-view+json": {
       "model_id": "9b39b3d43f7e415ba6ba4dd57bd1e4ca",
       "version_major": 2,
       "version_minor": 0
      },
      "text/html": [
       "<p>Failed to display Jupyter Widget of type <code>HBox</code>.</p>\n",
       "<p>\n",
       "  If you're reading this message in the Jupyter Notebook or JupyterLab Notebook, it may mean\n",
       "  that the widgets JavaScript is still loading. If this message persists, it\n",
       "  likely means that the widgets JavaScript library is either not installed or\n",
       "  not enabled. See the <a href=\"https://ipywidgets.readthedocs.io/en/stable/user_install.html\">Jupyter\n",
       "  Widgets Documentation</a> for setup instructions.\n",
       "</p>\n",
       "<p>\n",
       "  If you're reading this message in another frontend (for example, a static\n",
       "  rendering on GitHub or <a href=\"https://nbviewer.jupyter.org/\">NBViewer</a>),\n",
       "  it may mean that your frontend doesn't currently support widgets.\n",
       "</p>\n"
      ],
      "text/plain": [
       "HBox(children=(IntProgress(value=1, bar_style='info', max=1), HTML(value='')))"
      ]
     },
     "metadata": {},
     "output_type": "display_data"
    },
    {
     "name": "stdout",
     "output_type": "stream",
     "text": [
      "\n"
     ]
    },
    {
     "data": {
      "application/vnd.jupyter.widget-view+json": {
       "model_id": "754549f477ee4c26814a3ae2681b2000",
       "version_major": 2,
       "version_minor": 0
      },
      "text/html": [
       "<p>Failed to display Jupyter Widget of type <code>HBox</code>.</p>\n",
       "<p>\n",
       "  If you're reading this message in the Jupyter Notebook or JupyterLab Notebook, it may mean\n",
       "  that the widgets JavaScript is still loading. If this message persists, it\n",
       "  likely means that the widgets JavaScript library is either not installed or\n",
       "  not enabled. See the <a href=\"https://ipywidgets.readthedocs.io/en/stable/user_install.html\">Jupyter\n",
       "  Widgets Documentation</a> for setup instructions.\n",
       "</p>\n",
       "<p>\n",
       "  If you're reading this message in another frontend (for example, a static\n",
       "  rendering on GitHub or <a href=\"https://nbviewer.jupyter.org/\">NBViewer</a>),\n",
       "  it may mean that your frontend doesn't currently support widgets.\n",
       "</p>\n"
      ],
      "text/plain": [
       "HBox(children=(IntProgress(value=1, bar_style='info', max=1), HTML(value='')))"
      ]
     },
     "metadata": {},
     "output_type": "display_data"
    },
    {
     "name": "stdout",
     "output_type": "stream",
     "text": [
      "\n"
     ]
    },
    {
     "data": {
      "application/vnd.jupyter.widget-view+json": {
       "model_id": "16e4e82310ff48f984c58d972e1484d0",
       "version_major": 2,
       "version_minor": 0
      },
      "text/html": [
       "<p>Failed to display Jupyter Widget of type <code>HBox</code>.</p>\n",
       "<p>\n",
       "  If you're reading this message in the Jupyter Notebook or JupyterLab Notebook, it may mean\n",
       "  that the widgets JavaScript is still loading. If this message persists, it\n",
       "  likely means that the widgets JavaScript library is either not installed or\n",
       "  not enabled. See the <a href=\"https://ipywidgets.readthedocs.io/en/stable/user_install.html\">Jupyter\n",
       "  Widgets Documentation</a> for setup instructions.\n",
       "</p>\n",
       "<p>\n",
       "  If you're reading this message in another frontend (for example, a static\n",
       "  rendering on GitHub or <a href=\"https://nbviewer.jupyter.org/\">NBViewer</a>),\n",
       "  it may mean that your frontend doesn't currently support widgets.\n",
       "</p>\n"
      ],
      "text/plain": [
       "HBox(children=(IntProgress(value=1, bar_style='info', max=1), HTML(value='')))"
      ]
     },
     "metadata": {},
     "output_type": "display_data"
    },
    {
     "name": "stdout",
     "output_type": "stream",
     "text": [
      "\n"
     ]
    },
    {
     "data": {
      "application/vnd.jupyter.widget-view+json": {
       "model_id": "5eb13bfaa4944487ab52673896bd815e",
       "version_major": 2,
       "version_minor": 0
      },
      "text/html": [
       "<p>Failed to display Jupyter Widget of type <code>HBox</code>.</p>\n",
       "<p>\n",
       "  If you're reading this message in the Jupyter Notebook or JupyterLab Notebook, it may mean\n",
       "  that the widgets JavaScript is still loading. If this message persists, it\n",
       "  likely means that the widgets JavaScript library is either not installed or\n",
       "  not enabled. See the <a href=\"https://ipywidgets.readthedocs.io/en/stable/user_install.html\">Jupyter\n",
       "  Widgets Documentation</a> for setup instructions.\n",
       "</p>\n",
       "<p>\n",
       "  If you're reading this message in another frontend (for example, a static\n",
       "  rendering on GitHub or <a href=\"https://nbviewer.jupyter.org/\">NBViewer</a>),\n",
       "  it may mean that your frontend doesn't currently support widgets.\n",
       "</p>\n"
      ],
      "text/plain": [
       "HBox(children=(IntProgress(value=1, bar_style='info', max=1), HTML(value='')))"
      ]
     },
     "metadata": {},
     "output_type": "display_data"
    },
    {
     "name": "stdout",
     "output_type": "stream",
     "text": [
      "\n"
     ]
    },
    {
     "data": {
      "application/vnd.jupyter.widget-view+json": {
       "model_id": "01d63472adec4fc6a20f38b7dc723bb5",
       "version_major": 2,
       "version_minor": 0
      },
      "text/html": [
       "<p>Failed to display Jupyter Widget of type <code>HBox</code>.</p>\n",
       "<p>\n",
       "  If you're reading this message in the Jupyter Notebook or JupyterLab Notebook, it may mean\n",
       "  that the widgets JavaScript is still loading. If this message persists, it\n",
       "  likely means that the widgets JavaScript library is either not installed or\n",
       "  not enabled. See the <a href=\"https://ipywidgets.readthedocs.io/en/stable/user_install.html\">Jupyter\n",
       "  Widgets Documentation</a> for setup instructions.\n",
       "</p>\n",
       "<p>\n",
       "  If you're reading this message in another frontend (for example, a static\n",
       "  rendering on GitHub or <a href=\"https://nbviewer.jupyter.org/\">NBViewer</a>),\n",
       "  it may mean that your frontend doesn't currently support widgets.\n",
       "</p>\n"
      ],
      "text/plain": [
       "HBox(children=(IntProgress(value=1, bar_style='info', max=1), HTML(value='')))"
      ]
     },
     "metadata": {},
     "output_type": "display_data"
    },
    {
     "name": "stdout",
     "output_type": "stream",
     "text": [
      "\n"
     ]
    },
    {
     "data": {
      "application/vnd.jupyter.widget-view+json": {
       "model_id": "e2429d1652274ee4aa3726f68c92b5d3",
       "version_major": 2,
       "version_minor": 0
      },
      "text/html": [
       "<p>Failed to display Jupyter Widget of type <code>HBox</code>.</p>\n",
       "<p>\n",
       "  If you're reading this message in the Jupyter Notebook or JupyterLab Notebook, it may mean\n",
       "  that the widgets JavaScript is still loading. If this message persists, it\n",
       "  likely means that the widgets JavaScript library is either not installed or\n",
       "  not enabled. See the <a href=\"https://ipywidgets.readthedocs.io/en/stable/user_install.html\">Jupyter\n",
       "  Widgets Documentation</a> for setup instructions.\n",
       "</p>\n",
       "<p>\n",
       "  If you're reading this message in another frontend (for example, a static\n",
       "  rendering on GitHub or <a href=\"https://nbviewer.jupyter.org/\">NBViewer</a>),\n",
       "  it may mean that your frontend doesn't currently support widgets.\n",
       "</p>\n"
      ],
      "text/plain": [
       "HBox(children=(IntProgress(value=1, bar_style='info', max=1), HTML(value='')))"
      ]
     },
     "metadata": {},
     "output_type": "display_data"
    },
    {
     "name": "stdout",
     "output_type": "stream",
     "text": [
      "\n"
     ]
    },
    {
     "data": {
      "application/vnd.jupyter.widget-view+json": {
       "model_id": "c968739d9f2948a49550c88a6173208b",
       "version_major": 2,
       "version_minor": 0
      },
      "text/html": [
       "<p>Failed to display Jupyter Widget of type <code>HBox</code>.</p>\n",
       "<p>\n",
       "  If you're reading this message in the Jupyter Notebook or JupyterLab Notebook, it may mean\n",
       "  that the widgets JavaScript is still loading. If this message persists, it\n",
       "  likely means that the widgets JavaScript library is either not installed or\n",
       "  not enabled. See the <a href=\"https://ipywidgets.readthedocs.io/en/stable/user_install.html\">Jupyter\n",
       "  Widgets Documentation</a> for setup instructions.\n",
       "</p>\n",
       "<p>\n",
       "  If you're reading this message in another frontend (for example, a static\n",
       "  rendering on GitHub or <a href=\"https://nbviewer.jupyter.org/\">NBViewer</a>),\n",
       "  it may mean that your frontend doesn't currently support widgets.\n",
       "</p>\n"
      ],
      "text/plain": [
       "HBox(children=(IntProgress(value=1, bar_style='info', max=1), HTML(value='')))"
      ]
     },
     "metadata": {},
     "output_type": "display_data"
    },
    {
     "name": "stdout",
     "output_type": "stream",
     "text": [
      "\n"
     ]
    }
   ],
   "source": [
    "dev_gig_df = pd.DataFrame(dev_baseline)\n",
    "test_gig_df = pd.DataFrame(test_baseline)\n",
    "dev_gig_marginals_df = pd.DataFrame(dev_baseline_marginals, columns=[\"marginals\", \"label\"]).assign(num_lfs=0)\n",
    "test_gig_marginals_df = pd.DataFrame(test_baseline_marginals, columns=[\"marginals\", \"label\"]).assign(num_lfs=0)\n",
    "\n",
    "gig_start = 79\n",
    "gig_end = 106\n",
    "\n",
    "range_of_sample_sizes = (\n",
    "    list(range(1, correct_L[:, gig_start:gig_end].shape[1], 5)) +\n",
    "    [correct_L[:, gig_start:gig_end].shape[1]]\n",
    ")\n",
    "\n",
    "lf_sample_keeper, dev_results_df, test_results_df, dev_marginals_df, test_marginals_df = run_random_additional_lfs(\n",
    "    range_of_sample_sizes=range_of_sample_sizes, \n",
    "    range_of_lf_indicies = list(range(gig_start, gig_end+1)),\n",
    "    size_of_sample_pool=gig_end-gig_start,\n",
    "    num_of_samples=num_of_samples,\n",
    "    train=correct_L, \n",
    "    dev=correct_L_dev,\n",
    "    dev_labels=candidate_dfs['dev'].curated_dsh.values,\n",
    "    test=correct_L_test,\n",
    "    test_labels=candidate_dfs['test'].curated_dsh.values,\n",
    "    grid=regularization_grid,\n",
    "    label_matricies=label_matricies['train'][train_ids == False],\n",
    "    train_marginal_dir='data/random_sampling/GiG/marginals/',\n",
    "    ds_start=ds_start,\n",
    "    ds_end=ds_end,\n",
    ")\n",
    "\n",
    "dev_gig_df = dev_gig_df.append(dev_results_df, sort=True)\n",
    "test_gig_df = test_gig_df.append(test_results_df, sort=True)\n",
    "dev_gig_marginals_df = dev_gig_marginals_df.append(dev_marginals_df, sort=True)\n",
    "test_gig_marginals_df = test_gig_marginals_df.append(test_marginals_df, sort=True)"
   ]
  },
  {
   "cell_type": "code",
   "execution_count": 54,
   "metadata": {
    "ExecuteTime": {
     "end_time": "2019-04-23T18:51:25.646176Z",
     "start_time": "2019-04-23T18:51:13.846623Z"
    }
   },
   "outputs": [],
   "source": [
    "dev_gig_marginals_df = (\n",
    "     dev_gig_marginals_df\n",
    "     .assign(\n",
    "        frac_correct=(\n",
    "            dev_gig_marginals_df\n",
    "            .apply(count_fraction_correct,axis=1)\n",
    "            .values\n",
    "        )\n",
    "    )\n",
    "    .groupby([\"label\", \"num_lfs\"])[\"frac_correct\"]\n",
    "    .agg(pd.np.mean)\n",
    "    .reset_index(level=[\"label\", \"num_lfs\"])\n",
    " )"
   ]
  },
  {
   "cell_type": "code",
   "execution_count": 55,
   "metadata": {
    "ExecuteTime": {
     "end_time": "2019-04-23T18:51:37.517111Z",
     "start_time": "2019-04-23T18:51:25.647677Z"
    }
   },
   "outputs": [],
   "source": [
    "test_gig_marginals_df = (\n",
    "    test_gig_marginals_df\n",
    "    .assign(\n",
    "        frac_correct=(\n",
    "            test_gig_marginals_df\n",
    "            .apply(count_fraction_correct, axis=1)\n",
    "            .values\n",
    "        )\n",
    "    )\n",
    "    .groupby([\"label\", \"num_lfs\"])[\"frac_correct\"]\n",
    "    .agg(pd.np.mean)\n",
    "    .reset_index(level=[\"label\", \"num_lfs\"])\n",
    ")"
   ]
  },
  {
   "cell_type": "markdown",
   "metadata": {},
   "source": [
    "## Dev Set Performance (AUPRC, AUROC)"
   ]
  },
  {
   "cell_type": "code",
   "execution_count": 56,
   "metadata": {
    "ExecuteTime": {
     "end_time": "2019-04-23T18:51:37.971044Z",
     "start_time": "2019-04-23T18:51:37.520697Z"
    }
   },
   "outputs": [
    {
     "name": "stderr",
     "output_type": "stream",
     "text": [
      "/home/danich1/anaconda2/envs/snorkeling/lib/python3.6/site-packages/scipy/stats/stats.py:1713: FutureWarning: Using a non-tuple sequence for multidimensional indexing is deprecated; use `arr[tuple(seq)]` instead of `arr[seq]`. In the future this will be interpreted as an array index, `arr[np.array(seq)]`, which will result either in an error or a different result.\n",
      "  return np.add.reduce(sorted[indexer] * weights, axis=axis) / sumval\n"
     ]
    },
    {
     "data": {
      "text/plain": [
       "<matplotlib.axes._subplots.AxesSubplot at 0x7fce308d8e48>"
      ]
     },
     "execution_count": 56,
     "metadata": {},
     "output_type": "execute_result"
    },
    {
     "data": {
      "image/png": "[encoded data removed]",
      "text/plain": [
       "<matplotlib.figure.Figure at 0x7fce3092f2b0>"
      ]
     },
     "metadata": {},
     "output_type": "display_data"
    }
   ],
   "source": [
    "fig, axs = plt.subplots(ncols=2, figsize=(10, 5))\n",
    "sns.pointplot(x=\"num_lfs\", y=\"AUPRC\", data=dev_gig_df, ax=axs[0])\n",
    "sns.pointplot(x=\"num_lfs\", y=\"AUROC\", data=dev_gig_df, ax=axs[1])"
   ]
  },
  {
   "cell_type": "code",
   "execution_count": 57,
   "metadata": {
    "ExecuteTime": {
     "end_time": "2019-04-23T18:51:38.159232Z",
     "start_time": "2019-04-23T18:51:37.972248Z"
    }
   },
   "outputs": [
    {
     "data": {
      "text/plain": [
       "<matplotlib.axes._subplots.AxesSubplot at 0x7fce30a621d0>"
      ]
     },
     "execution_count": 57,
     "metadata": {},
     "output_type": "execute_result"
    },
    {
     "data": {
      "image/png": "[encoded data removed]",
      "text/plain": [
       "<matplotlib.figure.Figure at 0x7fce30a3a400>"
      ]
     },
     "metadata": {},
     "output_type": "display_data"
    }
   ],
   "source": [
    "sns.pointplot(x=\"num_lfs\", y=\"frac_correct\", data=dev_gig_marginals_df, hue=\"label\")"
   ]
  },
  {
   "cell_type": "markdown",
   "metadata": {},
   "source": [
    "## Test Set Performance (AUPRC, AUROC)"
   ]
  },
  {
   "cell_type": "code",
   "execution_count": 58,
   "metadata": {
    "ExecuteTime": {
     "end_time": "2019-04-23T18:51:38.611744Z",
     "start_time": "2019-04-23T18:51:38.161047Z"
    }
   },
   "outputs": [
    {
     "name": "stderr",
     "output_type": "stream",
     "text": [
      "/home/danich1/anaconda2/envs/snorkeling/lib/python3.6/site-packages/scipy/stats/stats.py:1713: FutureWarning: Using a non-tuple sequence for multidimensional indexing is deprecated; use `arr[tuple(seq)]` instead of `arr[seq]`. In the future this will be interpreted as an array index, `arr[np.array(seq)]`, which will result either in an error or a different result.\n",
      "  return np.add.reduce(sorted[indexer] * weights, axis=axis) / sumval\n"
     ]
    },
    {
     "data": {
      "text/plain": [
       "<matplotlib.axes._subplots.AxesSubplot at 0x7fce2ec9e5c0>"
      ]
     },
     "execution_count": 58,
     "metadata": {},
     "output_type": "execute_result"
    },
    {
     "data": {
      "image/png": "[encoded data removed]",
      "text/plain": [
       "<matplotlib.figure.Figure at 0x7fce30a55518>"
      ]
     },
     "metadata": {},
     "output_type": "display_data"
    }
   ],
   "source": [
    "fig, axs = plt.subplots(ncols=2, figsize=(10, 5))\n",
    "sns.pointplot(x=\"num_lfs\", y=\"AUPRC\", data=test_gig_df, ax=axs[0])\n",
    "sns.pointplot(x=\"num_lfs\", y=\"AUROC\", data=test_gig_df, ax=axs[1])"
   ]
  },
  {
   "cell_type": "code",
   "execution_count": 59,
   "metadata": {
    "ExecuteTime": {
     "end_time": "2019-04-23T18:51:38.798350Z",
     "start_time": "2019-04-23T18:51:38.613015Z"
    }
   },
   "outputs": [
    {
     "data": {
      "text/plain": [
       "<matplotlib.axes._subplots.AxesSubplot at 0x7fce2ecfe358>"
      ]
     },
     "execution_count": 59,
     "metadata": {},
     "output_type": "execute_result"
    },
    {
     "data": {
      "image/png": "[encoded data removed]",
      "text/plain": [
       "<matplotlib.figure.Figure at 0x7fce2ecb60b8>"
      ]
     },
     "metadata": {},
     "output_type": "display_data"
    }
   ],
   "source": [
    "sns.pointplot(x=\"num_lfs\", y=\"frac_correct\", data=test_gig_marginals_df, hue=\"label\")"
   ]
  },
  {
   "cell_type": "code",
   "execution_count": 60,
   "metadata": {
    "ExecuteTime": {
     "end_time": "2019-04-23T18:51:38.827507Z",
     "start_time": "2019-04-23T18:51:38.799833Z"
    }
   },
   "outputs": [],
   "source": [
    "dev_gig_df.to_csv(\n",
    "    \"data/random_sampling/GiG/results/dev_sampled_performance.tsv\", \n",
    "    index=False, sep=\"\\t\", float_format=\"%.5g\"\n",
    ")\n",
    "\n",
    "test_gig_df.to_csv(\n",
    "    \"data/random_sampling/GiG/results/test_sampled_performance.tsv\", \n",
    "    index=False, sep=\"\\t\", float_format=\"%.5g\"\n",
    ")"
   ]
  },
  {
   "cell_type": "code",
   "execution_count": 61,
   "metadata": {
    "ExecuteTime": {
     "end_time": "2019-04-23T18:51:38.871153Z",
     "start_time": "2019-04-23T18:51:38.828886Z"
    }
   },
   "outputs": [],
   "source": [
    "dev_gig_marginals_df.to_csv(\n",
    "    \"data/random_sampling/GiG/results/dev_sampled_marginals.tsv\", \n",
    "    index=False, sep=\"\\t\", float_format=\"%.5g\"\n",
    ")\n",
    "\n",
    "test_gig_marginals_df.to_csv(\n",
    "    \"data/random_sampling/GiG/results/test_sampled_marginals.tsv\", \n",
    "    index=False, sep=\"\\t\", float_format=\"%.5g\"\n",
    ")"
   ]
  },
  {
   "cell_type": "markdown",
   "metadata": {},
   "source": [
    "# All (DaG, GiG, CbG, CtD) Label Functions to Predict Disease Associates Gene Relations"
   ]
  },
  {
   "cell_type": "markdown",
   "metadata": {},
   "source": [
    "This section determines how well all label functions can predict Disease Associates Gene relations."
   ]
  },
  {
   "cell_type": "code",
   "execution_count": 62,
   "metadata": {
    "ExecuteTime": {
     "end_time": "2019-04-23T18:51:38.906660Z",
     "start_time": "2019-04-23T18:51:38.872640Z"
    }
   },
   "outputs": [],
   "source": [
    "num_of_samples = 50\n",
    "regularization_grid = pd.np.round(pd.np.linspace(0.01, 5, num=5), 2)"
   ]
  },
  {
   "cell_type": "code",
   "execution_count": 63,
   "metadata": {
    "ExecuteTime": {
     "end_time": "2019-04-23T23:08:23.361713Z",
     "start_time": "2019-04-23T18:51:38.908234Z"
    },
    "scrolled": false
   },
   "outputs": [
    {
     "data": {
      "application/vnd.jupyter.widget-view+json": {
       "model_id": "7fb0c7a2d89e4ccca8ee044fdcda3ba9",
       "version_major": 2,
       "version_minor": 0
      },
      "text/html": [
       "<p>Failed to display Jupyter Widget of type <code>HBox</code>.</p>\n",
       "<p>\n",
       "  If you're reading this message in the Jupyter Notebook or JupyterLab Notebook, it may mean\n",
       "  that the widgets JavaScript is still loading. If this message persists, it\n",
       "  likely means that the widgets JavaScript library is either not installed or\n",
       "  not enabled. See the <a href=\"https://ipywidgets.readthedocs.io/en/stable/user_install.html\">Jupyter\n",
       "  Widgets Documentation</a> for setup instructions.\n",
       "</p>\n",
       "<p>\n",
       "  If you're reading this message in another frontend (for example, a static\n",
       "  rendering on GitHub or <a href=\"https://nbviewer.jupyter.org/\">NBViewer</a>),\n",
       "  it may mean that your frontend doesn't currently support widgets.\n",
       "</p>\n"
      ],
      "text/plain": [
       "HBox(children=(IntProgress(value=1, bar_style='info', max=1), HTML(value='')))"
      ]
     },
     "metadata": {},
     "output_type": "display_data"
    },
    {
     "name": "stdout",
     "output_type": "stream",
     "text": [
      "\n"
     ]
    },
    {
     "data": {
      "application/vnd.jupyter.widget-view+json": {
       "model_id": "d7e28e382d3a466aba6c5d1b0d65e424",
       "version_major": 2,
       "version_minor": 0
      },
      "text/html": [
       "<p>Failed to display Jupyter Widget of type <code>HBox</code>.</p>\n",
       "<p>\n",
       "  If you're reading this message in the Jupyter Notebook or JupyterLab Notebook, it may mean\n",
       "  that the widgets JavaScript is still loading. If this message persists, it\n",
       "  likely means that the widgets JavaScript library is either not installed or\n",
       "  not enabled. See the <a href=\"https://ipywidgets.readthedocs.io/en/stable/user_install.html\">Jupyter\n",
       "  Widgets Documentation</a> for setup instructions.\n",
       "</p>\n",
       "<p>\n",
       "  If you're reading this message in another frontend (for example, a static\n",
       "  rendering on GitHub or <a href=\"https://nbviewer.jupyter.org/\">NBViewer</a>),\n",
       "  it may mean that your frontend doesn't currently support widgets.\n",
       "</p>\n"
      ],
      "text/plain": [
       "HBox(children=(IntProgress(value=1, bar_style='info', max=1), HTML(value='')))"
      ]
     },
     "metadata": {},
     "output_type": "display_data"
    },
    {
     "name": "stdout",
     "output_type": "stream",
     "text": [
      "\n"
     ]
    },
    {
     "data": {
      "application/vnd.jupyter.widget-view+json": {
       "model_id": "c030f63ed77943a5bce8bfa81705cb89",
       "version_major": 2,
       "version_minor": 0
      },
      "text/html": [
       "<p>Failed to display Jupyter Widget of type <code>HBox</code>.</p>\n",
       "<p>\n",
       "  If you're reading this message in the Jupyter Notebook or JupyterLab Notebook, it may mean\n",
       "  that the widgets JavaScript is still loading. If this message persists, it\n",
       "  likely means that the widgets JavaScript library is either not installed or\n",
       "  not enabled. See the <a href=\"https://ipywidgets.readthedocs.io/en/stable/user_install.html\">Jupyter\n",
       "  Widgets Documentation</a> for setup instructions.\n",
       "</p>\n",
       "<p>\n",
       "  If you're reading this message in another frontend (for example, a static\n",
       "  rendering on GitHub or <a href=\"https://nbviewer.jupyter.org/\">NBViewer</a>),\n",
       "  it may mean that your frontend doesn't currently support widgets.\n",
       "</p>\n"
      ],
      "text/plain": [
       "HBox(children=(IntProgress(value=1, bar_style='info', max=1), HTML(value='')))"
      ]
     },
     "metadata": {},
     "output_type": "display_data"
    },
    {
     "name": "stdout",
     "output_type": "stream",
     "text": [
      "\n"
     ]
    },
    {
     "data": {
      "application/vnd.jupyter.widget-view+json": {
       "model_id": "f187345a8c144063ae4eaa848acddfc3",
       "version_major": 2,
       "version_minor": 0
      },
      "text/html": [
       "<p>Failed to display Jupyter Widget of type <code>HBox</code>.</p>\n",
       "<p>\n",
       "  If you're reading this message in the Jupyter Notebook or JupyterLab Notebook, it may mean\n",
       "  that the widgets JavaScript is still loading. If this message persists, it\n",
       "  likely means that the widgets JavaScript library is either not installed or\n",
       "  not enabled. See the <a href=\"https://ipywidgets.readthedocs.io/en/stable/user_install.html\">Jupyter\n",
       "  Widgets Documentation</a> for setup instructions.\n",
       "</p>\n",
       "<p>\n",
       "  If you're reading this message in another frontend (for example, a static\n",
       "  rendering on GitHub or <a href=\"https://nbviewer.jupyter.org/\">NBViewer</a>),\n",
       "  it may mean that your frontend doesn't currently support widgets.\n",
       "</p>\n"
      ],
      "text/plain": [
       "HBox(children=(IntProgress(value=1, bar_style='info', max=1), HTML(value='')))"
      ]
     },
     "metadata": {},
     "output_type": "display_data"
    },
    {
     "name": "stdout",
     "output_type": "stream",
     "text": [
      "\n"
     ]
    },
    {
     "data": {
      "application/vnd.jupyter.widget-view+json": {
       "model_id": "e40c23f567fe4b0bbfe5d916772d7fa9",
       "version_major": 2,
       "version_minor": 0
      },
      "text/html": [
       "<p>Failed to display Jupyter Widget of type <code>HBox</code>.</p>\n",
       "<p>\n",
       "  If you're reading this message in the Jupyter Notebook or JupyterLab Notebook, it may mean\n",
       "  that the widgets JavaScript is still loading. If this message persists, it\n",
       "  likely means that the widgets JavaScript library is either not installed or\n",
       "  not enabled. See the <a href=\"https://ipywidgets.readthedocs.io/en/stable/user_install.html\">Jupyter\n",
       "  Widgets Documentation</a> for setup instructions.\n",
       "</p>\n",
       "<p>\n",
       "  If you're reading this message in another frontend (for example, a static\n",
       "  rendering on GitHub or <a href=\"https://nbviewer.jupyter.org/\">NBViewer</a>),\n",
       "  it may mean that your frontend doesn't currently support widgets.\n",
       "</p>\n"
      ],
      "text/plain": [
       "HBox(children=(IntProgress(value=1, bar_style='info', max=1), HTML(value='')))"
      ]
     },
     "metadata": {},
     "output_type": "display_data"
    },
    {
     "name": "stdout",
     "output_type": "stream",
     "text": [
      "\n"
     ]
    },
    {
     "data": {
      "application/vnd.jupyter.widget-view+json": {
       "model_id": "4cced5601eaa44db960be13a16ddb820",
       "version_major": 2,
       "version_minor": 0
      },
      "text/html": [
       "<p>Failed to display Jupyter Widget of type <code>HBox</code>.</p>\n",
       "<p>\n",
       "  If you're reading this message in the Jupyter Notebook or JupyterLab Notebook, it may mean\n",
       "  that the widgets JavaScript is still loading. If this message persists, it\n",
       "  likely means that the widgets JavaScript library is either not installed or\n",
       "  not enabled. See the <a href=\"https://ipywidgets.readthedocs.io/en/stable/user_install.html\">Jupyter\n",
       "  Widgets Documentation</a> for setup instructions.\n",
       "</p>\n",
       "<p>\n",
       "  If you're reading this message in another frontend (for example, a static\n",
       "  rendering on GitHub or <a href=\"https://nbviewer.jupyter.org/\">NBViewer</a>),\n",
       "  it may mean that your frontend doesn't currently support widgets.\n",
       "</p>\n"
      ],
      "text/plain": [
       "HBox(children=(IntProgress(value=1, bar_style='info', max=1), HTML(value='')))"
      ]
     },
     "metadata": {},
     "output_type": "display_data"
    },
    {
     "name": "stdout",
     "output_type": "stream",
     "text": [
      "\n"
     ]
    },
    {
     "data": {
      "application/vnd.jupyter.widget-view+json": {
       "model_id": "718f83a98f7c42859fd318e2f51ec776",
       "version_major": 2,
       "version_minor": 0
      },
      "text/html": [
       "<p>Failed to display Jupyter Widget of type <code>HBox</code>.</p>\n",
       "<p>\n",
       "  If you're reading this message in the Jupyter Notebook or JupyterLab Notebook, it may mean\n",
       "  that the widgets JavaScript is still loading. If this message persists, it\n",
       "  likely means that the widgets JavaScript library is either not installed or\n",
       "  not enabled. See the <a href=\"https://ipywidgets.readthedocs.io/en/stable/user_install.html\">Jupyter\n",
       "  Widgets Documentation</a> for setup instructions.\n",
       "</p>\n",
       "<p>\n",
       "  If you're reading this message in another frontend (for example, a static\n",
       "  rendering on GitHub or <a href=\"https://nbviewer.jupyter.org/\">NBViewer</a>),\n",
       "  it may mean that your frontend doesn't currently support widgets.\n",
       "</p>\n"
      ],
      "text/plain": [
       "HBox(children=(IntProgress(value=1, bar_style='info', max=1), HTML(value='')))"
      ]
     },
     "metadata": {},
     "output_type": "display_data"
    },
    {
     "name": "stdout",
     "output_type": "stream",
     "text": [
      "\n"
     ]
    },
    {
     "data": {
      "application/vnd.jupyter.widget-view+json": {
       "model_id": "e0b2d3cf1b2041289620c00fd67476a4",
       "version_major": 2,
       "version_minor": 0
      },
      "text/html": [
       "<p>Failed to display Jupyter Widget of type <code>HBox</code>.</p>\n",
       "<p>\n",
       "  If you're reading this message in the Jupyter Notebook or JupyterLab Notebook, it may mean\n",
       "  that the widgets JavaScript is still loading. If this message persists, it\n",
       "  likely means that the widgets JavaScript library is either not installed or\n",
       "  not enabled. See the <a href=\"https://ipywidgets.readthedocs.io/en/stable/user_install.html\">Jupyter\n",
       "  Widgets Documentation</a> for setup instructions.\n",
       "</p>\n",
       "<p>\n",
       "  If you're reading this message in another frontend (for example, a static\n",
       "  rendering on GitHub or <a href=\"https://nbviewer.jupyter.org/\">NBViewer</a>),\n",
       "  it may mean that your frontend doesn't currently support widgets.\n",
       "</p>\n"
      ],
      "text/plain": [
       "HBox(children=(IntProgress(value=1, bar_style='info', max=1), HTML(value='')))"
      ]
     },
     "metadata": {},
     "output_type": "display_data"
    },
    {
     "name": "stdout",
     "output_type": "stream",
     "text": [
      "\n"
     ]
    },
    {
     "data": {
      "application/vnd.jupyter.widget-view+json": {
       "model_id": "ac4e3a667b4c4e448e5c6392b045a453",
       "version_major": 2,
       "version_minor": 0
      },
      "text/html": [
       "<p>Failed to display Jupyter Widget of type <code>HBox</code>.</p>\n",
       "<p>\n",
       "  If you're reading this message in the Jupyter Notebook or JupyterLab Notebook, it may mean\n",
       "  that the widgets JavaScript is still loading. If this message persists, it\n",
       "  likely means that the widgets JavaScript library is either not installed or\n",
       "  not enabled. See the <a href=\"https://ipywidgets.readthedocs.io/en/stable/user_install.html\">Jupyter\n",
       "  Widgets Documentation</a> for setup instructions.\n",
       "</p>\n",
       "<p>\n",
       "  If you're reading this message in another frontend (for example, a static\n",
       "  rendering on GitHub or <a href=\"https://nbviewer.jupyter.org/\">NBViewer</a>),\n",
       "  it may mean that your frontend doesn't currently support widgets.\n",
       "</p>\n"
      ],
      "text/plain": [
       "HBox(children=(IntProgress(value=1, bar_style='info', max=1), HTML(value='')))"
      ]
     },
     "metadata": {},
     "output_type": "display_data"
    },
    {
     "name": "stdout",
     "output_type": "stream",
     "text": [
      "\n"
     ]
    },
    {
     "data": {
      "application/vnd.jupyter.widget-view+json": {
       "model_id": "b664fdffd37f4532a95aec16dec699c4",
       "version_major": 2,
       "version_minor": 0
      },
      "text/html": [
       "<p>Failed to display Jupyter Widget of type <code>HBox</code>.</p>\n",
       "<p>\n",
       "  If you're reading this message in the Jupyter Notebook or JupyterLab Notebook, it may mean\n",
       "  that the widgets JavaScript is still loading. If this message persists, it\n",
       "  likely means that the widgets JavaScript library is either not installed or\n",
       "  not enabled. See the <a href=\"https://ipywidgets.readthedocs.io/en/stable/user_install.html\">Jupyter\n",
       "  Widgets Documentation</a> for setup instructions.\n",
       "</p>\n",
       "<p>\n",
       "  If you're reading this message in another frontend (for example, a static\n",
       "  rendering on GitHub or <a href=\"https://nbviewer.jupyter.org/\">NBViewer</a>),\n",
       "  it may mean that your frontend doesn't currently support widgets.\n",
       "</p>\n"
      ],
      "text/plain": [
       "HBox(children=(IntProgress(value=1, bar_style='info', max=1), HTML(value='')))"
      ]
     },
     "metadata": {},
     "output_type": "display_data"
    },
    {
     "name": "stdout",
     "output_type": "stream",
     "text": [
      "\n"
     ]
    },
    {
     "data": {
      "application/vnd.jupyter.widget-view+json": {
       "model_id": "906de701f92c41e893d522f2ef101821",
       "version_major": 2,
       "version_minor": 0
      },
      "text/html": [
       "<p>Failed to display Jupyter Widget of type <code>HBox</code>.</p>\n",
       "<p>\n",
       "  If you're reading this message in the Jupyter Notebook or JupyterLab Notebook, it may mean\n",
       "  that the widgets JavaScript is still loading. If this message persists, it\n",
       "  likely means that the widgets JavaScript library is either not installed or\n",
       "  not enabled. See the <a href=\"https://ipywidgets.readthedocs.io/en/stable/user_install.html\">Jupyter\n",
       "  Widgets Documentation</a> for setup instructions.\n",
       "</p>\n",
       "<p>\n",
       "  If you're reading this message in another frontend (for example, a static\n",
       "  rendering on GitHub or <a href=\"https://nbviewer.jupyter.org/\">NBViewer</a>),\n",
       "  it may mean that your frontend doesn't currently support widgets.\n",
       "</p>\n"
      ],
      "text/plain": [
       "HBox(children=(IntProgress(value=1, bar_style='info', max=1), HTML(value='')))"
      ]
     },
     "metadata": {},
     "output_type": "display_data"
    },
    {
     "name": "stdout",
     "output_type": "stream",
     "text": [
      "\n"
     ]
    },
    {
     "data": {
      "application/vnd.jupyter.widget-view+json": {
       "model_id": "4fd1e74278274071a27bf9479d6f5a60",
       "version_major": 2,
       "version_minor": 0
      },
      "text/html": [
       "<p>Failed to display Jupyter Widget of type <code>HBox</code>.</p>\n",
       "<p>\n",
       "  If you're reading this message in the Jupyter Notebook or JupyterLab Notebook, it may mean\n",
       "  that the widgets JavaScript is still loading. If this message persists, it\n",
       "  likely means that the widgets JavaScript library is either not installed or\n",
       "  not enabled. See the <a href=\"https://ipywidgets.readthedocs.io/en/stable/user_install.html\">Jupyter\n",
       "  Widgets Documentation</a> for setup instructions.\n",
       "</p>\n",
       "<p>\n",
       "  If you're reading this message in another frontend (for example, a static\n",
       "  rendering on GitHub or <a href=\"https://nbviewer.jupyter.org/\">NBViewer</a>),\n",
       "  it may mean that your frontend doesn't currently support widgets.\n",
       "</p>\n"
      ],
      "text/plain": [
       "HBox(children=(IntProgress(value=1, bar_style='info', max=1), HTML(value='')))"
      ]
     },
     "metadata": {},
     "output_type": "display_data"
    },
    {
     "name": "stdout",
     "output_type": "stream",
     "text": [
      "\n"
     ]
    },
    {
     "data": {
      "application/vnd.jupyter.widget-view+json": {
       "model_id": "2c2c55e60f23469e817c502f600a33aa",
       "version_major": 2,
       "version_minor": 0
      },
      "text/html": [
       "<p>Failed to display Jupyter Widget of type <code>HBox</code>.</p>\n",
       "<p>\n",
       "  If you're reading this message in the Jupyter Notebook or JupyterLab Notebook, it may mean\n",
       "  that the widgets JavaScript is still loading. If this message persists, it\n",
       "  likely means that the widgets JavaScript library is either not installed or\n",
       "  not enabled. See the <a href=\"https://ipywidgets.readthedocs.io/en/stable/user_install.html\">Jupyter\n",
       "  Widgets Documentation</a> for setup instructions.\n",
       "</p>\n",
       "<p>\n",
       "  If you're reading this message in another frontend (for example, a static\n",
       "  rendering on GitHub or <a href=\"https://nbviewer.jupyter.org/\">NBViewer</a>),\n",
       "  it may mean that your frontend doesn't currently support widgets.\n",
       "</p>\n"
      ],
      "text/plain": [
       "HBox(children=(IntProgress(value=1, bar_style='info', max=1), HTML(value='')))"
      ]
     },
     "metadata": {},
     "output_type": "display_data"
    },
    {
     "name": "stdout",
     "output_type": "stream",
     "text": [
      "\n"
     ]
    },
    {
     "data": {
      "application/vnd.jupyter.widget-view+json": {
       "model_id": "186e105433ed4247bd4391402b5a50f6",
       "version_major": 2,
       "version_minor": 0
      },
      "text/html": [
       "<p>Failed to display Jupyter Widget of type <code>HBox</code>.</p>\n",
       "<p>\n",
       "  If you're reading this message in the Jupyter Notebook or JupyterLab Notebook, it may mean\n",
       "  that the widgets JavaScript is still loading. If this message persists, it\n",
       "  likely means that the widgets JavaScript library is either not installed or\n",
       "  not enabled. See the <a href=\"https://ipywidgets.readthedocs.io/en/stable/user_install.html\">Jupyter\n",
       "  Widgets Documentation</a> for setup instructions.\n",
       "</p>\n",
       "<p>\n",
       "  If you're reading this message in another frontend (for example, a static\n",
       "  rendering on GitHub or <a href=\"https://nbviewer.jupyter.org/\">NBViewer</a>),\n",
       "  it may mean that your frontend doesn't currently support widgets.\n",
       "</p>\n"
      ],
      "text/plain": [
       "HBox(children=(IntProgress(value=1, bar_style='info', max=1), HTML(value='')))"
      ]
     },
     "metadata": {},
     "output_type": "display_data"
    },
    {
     "name": "stdout",
     "output_type": "stream",
     "text": [
      "\n"
     ]
    },
    {
     "ename": "NameError",
     "evalue": "name 'dev_all_marginals_df' is not defined",
     "output_type": "error",
     "traceback": [
      "\u001b[0;31m---------------------------------------------------------------------------\u001b[0m",
      "\u001b[0;31mNameError\u001b[0m                                 Traceback (most recent call last)",
      "\u001b[0;32m<ipython-input-63-5489932d639d>\u001b[0m in \u001b[0;36m<module>\u001b[0;34m()\u001b[0m\n\u001b[1;32m     26\u001b[0m \u001b[0mall_dev_result_df\u001b[0m \u001b[0;34m=\u001b[0m \u001b[0mall_dev_result_df\u001b[0m\u001b[0;34m.\u001b[0m\u001b[0mappend\u001b[0m\u001b[0;34m(\u001b[0m\u001b[0mdev_results_df\u001b[0m\u001b[0;34m,\u001b[0m \u001b[0msort\u001b[0m\u001b[0;34m=\u001b[0m\u001b[0;32mTrue\u001b[0m\u001b[0;34m)\u001b[0m\u001b[0;34m\u001b[0m\u001b[0m\n\u001b[1;32m     27\u001b[0m \u001b[0mall_test_result_df\u001b[0m \u001b[0;34m=\u001b[0m \u001b[0mall_test_result_df\u001b[0m\u001b[0;34m.\u001b[0m\u001b[0mappend\u001b[0m\u001b[0;34m(\u001b[0m\u001b[0mtest_results_df\u001b[0m\u001b[0;34m,\u001b[0m \u001b[0msort\u001b[0m\u001b[0;34m=\u001b[0m\u001b[0;32mTrue\u001b[0m\u001b[0;34m)\u001b[0m\u001b[0;34m\u001b[0m\u001b[0m\n\u001b[0;32m---> 28\u001b[0;31m \u001b[0mdev_all_marginals_df\u001b[0m \u001b[0;34m=\u001b[0m \u001b[0mdev_all_marginals_df\u001b[0m\u001b[0;34m.\u001b[0m\u001b[0mappend\u001b[0m\u001b[0;34m(\u001b[0m\u001b[0mdev_marginals_df\u001b[0m\u001b[0;34m,\u001b[0m \u001b[0msort\u001b[0m\u001b[0;34m=\u001b[0m\u001b[0;32mTrue\u001b[0m\u001b[0;34m)\u001b[0m\u001b[0;34m\u001b[0m\u001b[0m\n\u001b[0m\u001b[1;32m     29\u001b[0m \u001b[0mtest_all_marginals_df\u001b[0m \u001b[0;34m=\u001b[0m \u001b[0mtest_all_marginals_df\u001b[0m\u001b[0;34m.\u001b[0m\u001b[0mappend\u001b[0m\u001b[0;34m(\u001b[0m\u001b[0mtest_marginals_df\u001b[0m\u001b[0;34m,\u001b[0m \u001b[0msort\u001b[0m\u001b[0;34m=\u001b[0m\u001b[0;32mTrue\u001b[0m\u001b[0;34m)\u001b[0m\u001b[0;34m\u001b[0m\u001b[0m\n",
      "\u001b[0;31mNameError\u001b[0m: name 'dev_all_marginals_df' is not defined"
     ]
    }
   ],
   "source": [
    "all_dev_result_df = pd.DataFrame(dev_baseline)\n",
    "all_test_result_df = pd.DataFrame(test_baseline)\n",
    "dev_all_marginals_df = pd.DataFrame(dev_baseline_marginals, columns=[\"marginals\", \"label\"]).assign(num_lfs=0)\n",
    "test_all_marginals_df = pd.DataFrame(test_baseline_marginals, columns=[\"marginals\", \"label\"]).assign(num_lfs=0)\n",
    "\n",
    "range_of_sample_sizes = (\n",
    "    list(range(1, correct_L[:,ds_end:].shape[1], 8)) +\n",
    "    [correct_L[:,ds_end:].shape[1]]\n",
    ")\n",
    "\n",
    "lf_sample_keeper, dev_results_df, test_results_df, dev_marginals_df, test_marginals_df = run_random_additional_lfs(\n",
    "    range_of_sample_sizes=range_of_sample_sizes, \n",
    "    range_of_lf_indicies = list(range(ds_end, correct_L.shape[1]+1)),\n",
    "    size_of_sample_pool=correct_L.shape[1]-ds_end,\n",
    "    num_of_samples=num_of_samples,\n",
    "    train=correct_L, \n",
    "    dev=correct_L_dev,\n",
    "    dev_labels=candidate_dfs['dev'].curated_dsh.values,\n",
    "    test=correct_L_test,\n",
    "    test_labels=candidate_dfs['test'].curated_dsh.values,\n",
    "    grid=regularization_grid,\n",
    "    label_matricies=label_matricies['train'][train_ids == False],\n",
    "    train_marginal_dir='data/random_sampling/all/',\n",
    "    ds_start=ds_start,\n",
    "    ds_end=ds_end,\n",
    ")\n",
    "\n",
    "all_dev_result_df = all_dev_result_df.append(dev_results_df, sort=True)\n",
    "all_test_result_df = all_test_result_df.append(test_results_df, sort=True)\n",
    "dev_all_marginals_df = dev_all_marginals_df.append(dev_marginals_df, sort=True)\n",
    "test_all_marginals_df = test_all_marginals_df.append(test_marginals_df, sort=True)"
   ]
  },
  {
   "cell_type": "code",
   "execution_count": 67,
   "metadata": {
    "ExecuteTime": {
     "end_time": "2019-04-23T23:40:02.141297Z",
     "start_time": "2019-04-23T23:39:39.043873Z"
    }
   },
   "outputs": [],
   "source": [
    "dev_all_marginals_df = (\n",
    "     dev_all_marginals_df\n",
    "     .assign(\n",
    "        frac_correct=(\n",
    "            dev_all_marginals_df\n",
    "            .apply(count_fraction_correct,axis=1)\n",
    "            .values\n",
    "        )\n",
    "    )\n",
    "    .groupby([\"label\", \"num_lfs\"])[\"frac_correct\"]\n",
    "    .agg(pd.np.mean)\n",
    "    .reset_index(level=[\"label\", \"num_lfs\"])\n",
    " )"
   ]
  },
  {
   "cell_type": "code",
   "execution_count": 68,
   "metadata": {
    "ExecuteTime": {
     "end_time": "2019-04-23T23:40:24.996639Z",
     "start_time": "2019-04-23T23:40:02.142646Z"
    }
   },
   "outputs": [],
   "source": [
    "test_all_marginals_df = (\n",
    "    test_all_marginals_df\n",
    "    .assign(\n",
    "        frac_correct=(\n",
    "            test_all_marginals_df\n",
    "            .apply(count_fraction_correct, axis=1)\n",
    "            .values\n",
    "        )\n",
    "    )\n",
    "    .groupby([\"label\", \"num_lfs\"])[\"frac_correct\"]\n",
    "    .agg(pd.np.mean)\n",
    "    .reset_index(level=[\"label\", \"num_lfs\"])\n",
    ")"
   ]
  },
  {
   "cell_type": "markdown",
   "metadata": {},
   "source": [
    "## Dev Set Performance (AUPRC, AUROC)"
   ]
  },
  {
   "cell_type": "code",
   "execution_count": 69,
   "metadata": {
    "ExecuteTime": {
     "end_time": "2019-04-23T23:40:39.581299Z",
     "start_time": "2019-04-23T23:40:38.898183Z"
    }
   },
   "outputs": [
    {
     "name": "stderr",
     "output_type": "stream",
     "text": [
      "/home/danich1/anaconda2/envs/snorkeling/lib/python3.6/site-packages/scipy/stats/stats.py:1713: FutureWarning: Using a non-tuple sequence for multidimensional indexing is deprecated; use `arr[tuple(seq)]` instead of `arr[seq]`. In the future this will be interpreted as an array index, `arr[np.array(seq)]`, which will result either in an error or a different result.\n",
      "  return np.add.reduce(sorted[indexer] * weights, axis=axis) / sumval\n"
     ]
    },
    {
     "data": {
      "text/plain": [
       "<matplotlib.axes._subplots.AxesSubplot at 0x7fce257668d0>"
      ]
     },
     "execution_count": 69,
     "metadata": {},
     "output_type": "execute_result"
    },
    {
     "data": {
      "image/png": "[encoded data removed]",
      "text/plain": [
       "<matplotlib.figure.Figure at 0x7fce2575a828>"
      ]
     },
     "metadata": {},
     "output_type": "display_data"
    }
   ],
   "source": [
    "fig, axs = plt.subplots(ncols=2, figsize=(10, 5))\n",
    "sns.pointplot(x=\"num_lfs\", y=\"AUPRC\", data=all_dev_result_df, ax=axs[0])\n",
    "sns.pointplot(x=\"num_lfs\", y=\"AUROC\", data=all_dev_result_df, ax=axs[1])"
   ]
  },
  {
   "cell_type": "code",
   "execution_count": 70,
   "metadata": {
    "ExecuteTime": {
     "end_time": "2019-04-23T23:40:39.822202Z",
     "start_time": "2019-04-23T23:40:39.582841Z"
    }
   },
   "outputs": [
    {
     "data": {
      "text/plain": [
       "<matplotlib.axes._subplots.AxesSubplot at 0x7fce256b59e8>"
      ]
     },
     "execution_count": 70,
     "metadata": {},
     "output_type": "execute_result"
    },
    {
     "data": {
      "image/png": "[encoded data removed]",
      "text/plain": [
       "<matplotlib.figure.Figure at 0x7fce2575add8>"
      ]
     },
     "metadata": {},
     "output_type": "display_data"
    }
   ],
   "source": [
    "sns.pointplot(x=\"num_lfs\", y=\"frac_correct\", data=dev_all_marginals_df, hue=\"label\")"
   ]
  },
  {
   "cell_type": "markdown",
   "metadata": {},
   "source": [
    "## Test Set Performance (AUPRC, AUROC)"
   ]
  },
  {
   "cell_type": "code",
   "execution_count": 71,
   "metadata": {
    "ExecuteTime": {
     "end_time": "2019-04-23T23:40:40.490412Z",
     "start_time": "2019-04-23T23:40:39.823919Z"
    }
   },
   "outputs": [
    {
     "name": "stderr",
     "output_type": "stream",
     "text": [
      "/home/danich1/anaconda2/envs/snorkeling/lib/python3.6/site-packages/scipy/stats/stats.py:1713: FutureWarning: Using a non-tuple sequence for multidimensional indexing is deprecated; use `arr[tuple(seq)]` instead of `arr[seq]`. In the future this will be interpreted as an array index, `arr[np.array(seq)]`, which will result either in an error or a different result.\n",
      "  return np.add.reduce(sorted[indexer] * weights, axis=axis) / sumval\n"
     ]
    },
    {
     "data": {
      "text/plain": [
       "<matplotlib.axes._subplots.AxesSubplot at 0x7fce255b40b8>"
      ]
     },
     "execution_count": 71,
     "metadata": {},
     "output_type": "execute_result"
    },
    {
     "data": {
      "image/png": "[encoded data removed]",
      "text/plain": [
       "<matplotlib.figure.Figure at 0x7fce256f2f60>"
      ]
     },
     "metadata": {},
     "output_type": "display_data"
    }
   ],
   "source": [
    "fig, axs = plt.subplots(ncols=2, figsize=(10, 5))\n",
    "sns.pointplot(x=\"num_lfs\", y=\"AUPRC\", data=all_test_result_df, ax=axs[0])\n",
    "sns.pointplot(x=\"num_lfs\", y=\"AUROC\", data=all_test_result_df, ax=axs[1])"
   ]
  },
  {
   "cell_type": "code",
   "execution_count": 72,
   "metadata": {
    "ExecuteTime": {
     "end_time": "2019-04-23T23:40:40.727150Z",
     "start_time": "2019-04-23T23:40:40.492235Z"
    }
   },
   "outputs": [
    {
     "data": {
      "text/plain": [
       "<matplotlib.axes._subplots.AxesSubplot at 0x7fce2548f9b0>"
      ]
     },
     "execution_count": 72,
     "metadata": {},
     "output_type": "execute_result"
    },
    {
     "data": {
      "image/png": "[encoded data removed]",
      "text/plain": [
       "<matplotlib.figure.Figure at 0x7fce254d2160>"
      ]
     },
     "metadata": {},
     "output_type": "display_data"
    }
   ],
   "source": [
    "sns.pointplot(x=\"num_lfs\", y=\"frac_correct\", data=test_all_marginals_df, hue=\"label\")"
   ]
  },
  {
   "cell_type": "code",
   "execution_count": 73,
   "metadata": {
    "ExecuteTime": {
     "end_time": "2019-04-23T23:40:40.758815Z",
     "start_time": "2019-04-23T23:40:40.728603Z"
    }
   },
   "outputs": [],
   "source": [
    "all_dev_result_df.to_csv(\n",
    "    \"data/random_sampling/all/dev_sampled_performance.tsv\", \n",
    "    index=False, sep=\"\\t\", float_format=\"%.5g\"\n",
    ")\n",
    "\n",
    "all_test_result_df.to_csv(\n",
    "    \"data/random_sampling/all/test_sampled_performance.tsv\", \n",
    "    index=False, sep=\"\\t\", float_format=\"%.5g\"\n",
    ")"
   ]
  },
  {
   "cell_type": "code",
   "execution_count": 74,
   "metadata": {
    "ExecuteTime": {
     "end_time": "2019-04-23T23:40:40.827058Z",
     "start_time": "2019-04-23T23:40:40.760180Z"
    }
   },
   "outputs": [],
   "source": [
    "dev_all_marginals_df.to_csv(\n",
    "    \"data/random_sampling/all/dev_sampled_marginals.tsv\", \n",
    "    index=False, sep=\"\\t\", float_format=\"%.5g\"\n",
    ")\n",
    "\n",
    "test_all_marginals_df.to_csv(\n",
    "    \"data/random_sampling/all/test_sampled_marginals.tsv\", \n",
    "    index=False, sep=\"\\t\", float_format=\"%.5g\"\n",
    ")"
   ]
  }
 ],
 "metadata": {
  "kernelspec": {
   "display_name": "Python [conda env:snorkeling]",
   "language": "python",
   "name": "conda-env-snorkeling-py"
  },
  "language_info": {
   "codemirror_mode": {
    "name": "ipython",
    "version": 3
   },
   "file_extension": ".py",
   "mimetype": "text/x-python",
   "name": "python",
   "nbconvert_exporter": "python",
   "pygments_lexer": "ipython3",
   "version": "3.6.4"
  }
 },
 "nbformat": 4,
 "nbformat_minor": 2
}
