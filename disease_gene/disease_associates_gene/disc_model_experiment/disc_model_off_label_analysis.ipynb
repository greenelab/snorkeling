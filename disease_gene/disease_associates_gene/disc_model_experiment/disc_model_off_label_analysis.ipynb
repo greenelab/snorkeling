{
 "cells": [
  {
   "cell_type": "markdown",
   "metadata": {},
   "source": [
    "# Discriminator Model for Off Label Generative Model"
   ]
  },
  {
   "cell_type": "markdown",
   "metadata": {},
   "source": [
    "Given that transferring label functions doesn't improve performance, this notebook is designed to confirm that training a discriminator model on labels from a off-relation trained generative model would **fail** to increase predictive performance. Generative model here was trained using Compound treats Disease label functions and the discrimintator model is designed to predict Disease associates Gene sentences. Performance is reported in area under the receiver operating curve (AUROC) and area under the precision recall curve (AUPR)."
   ]
  },
  {
   "cell_type": "code",
   "execution_count": 1,
   "metadata": {
    "ExecuteTime": {
     "end_time": "2019-12-13T19:23:32.914218Z",
     "start_time": "2019-12-13T19:23:32.206001Z"
    }
   },
   "outputs": [],
   "source": [
    "import glob\n",
    "import os\n",
    "import pandas as pd\n",
    "\n",
    "import seaborn as sns\n",
    "from sklearn.metrics import auc, precision_recall_curve, roc_curve"
   ]
  },
  {
   "cell_type": "markdown",
   "metadata": {},
   "source": [
    "# Tune Set"
   ]
  },
  {
   "cell_type": "code",
   "execution_count": 3,
   "metadata": {
    "ExecuteTime": {
     "end_time": "2019-12-13T19:24:21.226536Z",
     "start_time": "2019-12-13T19:24:21.213293Z"
    },
    "scrolled": true
   },
   "outputs": [
    {
     "data": {
      "text/html": [
       "<div>\n",
       "<style scoped>\n",
       "    .dataframe tbody tr th:only-of-type {\n",
       "        vertical-align: middle;\n",
       "    }\n",
       "\n",
       "    .dataframe tbody tr th {\n",
       "        vertical-align: top;\n",
       "    }\n",
       "\n",
       "    .dataframe thead th {\n",
       "        text-align: right;\n",
       "    }\n",
       "</style>\n",
       "<table border=\"1\" class=\"dataframe\">\n",
       "  <thead>\n",
       "    <tr style=\"text-align: right;\">\n",
       "      <th></th>\n",
       "      <th>candidate_id</th>\n",
       "      <th>curated_dsh</th>\n",
       "    </tr>\n",
       "  </thead>\n",
       "  <tbody>\n",
       "    <tr>\n",
       "      <th>0</th>\n",
       "      <td>21841</td>\n",
       "      <td>1.0</td>\n",
       "    </tr>\n",
       "    <tr>\n",
       "      <th>1</th>\n",
       "      <td>82680</td>\n",
       "      <td>0.0</td>\n",
       "    </tr>\n",
       "    <tr>\n",
       "      <th>2</th>\n",
       "      <td>177856</td>\n",
       "      <td>1.0</td>\n",
       "    </tr>\n",
       "    <tr>\n",
       "      <th>3</th>\n",
       "      <td>228511</td>\n",
       "      <td>1.0</td>\n",
       "    </tr>\n",
       "    <tr>\n",
       "      <th>4</th>\n",
       "      <td>235056</td>\n",
       "      <td>1.0</td>\n",
       "    </tr>\n",
       "  </tbody>\n",
       "</table>\n",
       "</div>"
      ],
      "text/plain": [
       "   candidate_id  curated_dsh\n",
       "0         21841          1.0\n",
       "1         82680          0.0\n",
       "2        177856          1.0\n",
       "3        228511          1.0\n",
       "4        235056          1.0"
      ]
     },
     "execution_count": 3,
     "metadata": {},
     "output_type": "execute_result"
    }
   ],
   "source": [
    "dev_labels = pd.read_csv(\"input/dag_dev_labels.tsv\", sep=\"\\t\")\n",
    "dev_labels.head()"
   ]
  },
  {
   "cell_type": "code",
   "execution_count": 4,
   "metadata": {
    "ExecuteTime": {
     "end_time": "2019-12-13T19:24:23.291953Z",
     "start_time": "2019-12-13T19:24:22.570219Z"
    },
    "scrolled": false
   },
   "outputs": [
    {
     "data": {
      "text/html": [
       "<div>\n",
       "<style scoped>\n",
       "    .dataframe tbody tr th:only-of-type {\n",
       "        vertical-align: middle;\n",
       "    }\n",
       "\n",
       "    .dataframe tbody tr th {\n",
       "        vertical-align: top;\n",
       "    }\n",
       "\n",
       "    .dataframe thead th {\n",
       "        text-align: right;\n",
       "    }\n",
       "</style>\n",
       "<table border=\"1\" class=\"dataframe\">\n",
       "  <thead>\n",
       "    <tr style=\"text-align: right;\">\n",
       "      <th></th>\n",
       "      <th>candidate_id</th>\n",
       "      <th>disease</th>\n",
       "      <th>gene</th>\n",
       "      <th>doid_id</th>\n",
       "      <th>entrez_gene_id</th>\n",
       "      <th>sentence_id</th>\n",
       "      <th>sentence</th>\n",
       "      <th>curated_dsh</th>\n",
       "      <th>notes_dsh</th>\n",
       "      <th>curated_dug</th>\n",
       "      <th>notes_dug</th>\n",
       "      <th>curated_ddg</th>\n",
       "      <th>notes_ddg</th>\n",
       "      <th>Unnamed: 13</th>\n",
       "    </tr>\n",
       "  </thead>\n",
       "  <tbody>\n",
       "    <tr>\n",
       "      <th>510</th>\n",
       "      <td>21841</td>\n",
       "      <td>hypertension</td>\n",
       "      <td>beta-hydroxylase</td>\n",
       "      <td>DOID:10763</td>\n",
       "      <td>1621</td>\n",
       "      <td>482597</td>\n",
       "      <td>the decrease of sympathetic activity by the be...</td>\n",
       "      <td>1.0</td>\n",
       "      <td>NaN</td>\n",
       "      <td>0.0</td>\n",
       "      <td>NaN</td>\n",
       "      <td>0.0</td>\n",
       "      <td>The drug decreases gene expression not the dis...</td>\n",
       "      <td>NaN</td>\n",
       "    </tr>\n",
       "    <tr>\n",
       "      <th>949</th>\n",
       "      <td>82680</td>\n",
       "      <td>AS)</td>\n",
       "      <td>HLA B27)</td>\n",
       "      <td>DOID:7147</td>\n",
       "      <td>3106</td>\n",
       "      <td>1291564</td>\n",
       "      <td>a study was made , in co-operation with severa...</td>\n",
       "      <td>0.0</td>\n",
       "      <td>NaN</td>\n",
       "      <td>0.0</td>\n",
       "      <td>NaN</td>\n",
       "      <td>0.0</td>\n",
       "      <td>NaN</td>\n",
       "      <td>NaN</td>\n",
       "    </tr>\n",
       "    <tr>\n",
       "      <th>567</th>\n",
       "      <td>177856</td>\n",
       "      <td>systemic lupus erythematosus</td>\n",
       "      <td>thrombin</td>\n",
       "      <td>DOID:9074</td>\n",
       "      <td>2147</td>\n",
       "      <td>2106040</td>\n",
       "      <td>it is thought to reflect increased ~~[[2 throm...</td>\n",
       "      <td>1.0</td>\n",
       "      <td>NaN</td>\n",
       "      <td>0.0</td>\n",
       "      <td>NaN</td>\n",
       "      <td>0.0</td>\n",
       "      <td>NaN</td>\n",
       "      <td>NaN</td>\n",
       "    </tr>\n",
       "    <tr>\n",
       "      <th>0</th>\n",
       "      <td>228511</td>\n",
       "      <td>AML</td>\n",
       "      <td>TNF alpha</td>\n",
       "      <td>DOID:2531</td>\n",
       "      <td>7124</td>\n",
       "      <td>3355574</td>\n",
       "      <td>however , addition of anti-tnf alpha ( every 7...</td>\n",
       "      <td>1.0</td>\n",
       "      <td>NaN</td>\n",
       "      <td>1.0</td>\n",
       "      <td>NaN</td>\n",
       "      <td>0.0</td>\n",
       "      <td>NaN</td>\n",
       "      <td>NaN</td>\n",
       "    </tr>\n",
       "    <tr>\n",
       "      <th>529</th>\n",
       "      <td>235056</td>\n",
       "      <td>major depression</td>\n",
       "      <td>5HT1A)</td>\n",
       "      <td>DOID:1595</td>\n",
       "      <td>3350</td>\n",
       "      <td>2946297</td>\n",
       "      <td>gepirone , a selective serotonin ( ~~[[2 5ht1a...</td>\n",
       "      <td>1.0</td>\n",
       "      <td>NaN</td>\n",
       "      <td>0.0</td>\n",
       "      <td>NaN</td>\n",
       "      <td>0.0</td>\n",
       "      <td>NaN</td>\n",
       "      <td>NaN</td>\n",
       "    </tr>\n",
       "  </tbody>\n",
       "</table>\n",
       "</div>"
      ],
      "text/plain": [
       "     candidate_id                       disease              gene     doid_id  \\\n",
       "510         21841                  hypertension  beta-hydroxylase  DOID:10763   \n",
       "949         82680                           AS)          HLA B27)   DOID:7147   \n",
       "567        177856  systemic lupus erythematosus          thrombin   DOID:9074   \n",
       "0          228511                           AML         TNF alpha   DOID:2531   \n",
       "529        235056              major depression            5HT1A)   DOID:1595   \n",
       "\n",
       "     entrez_gene_id  sentence_id  \\\n",
       "510            1621       482597   \n",
       "949            3106      1291564   \n",
       "567            2147      2106040   \n",
       "0              7124      3355574   \n",
       "529            3350      2946297   \n",
       "\n",
       "                                              sentence  curated_dsh notes_dsh  \\\n",
       "510  the decrease of sympathetic activity by the be...          1.0       NaN   \n",
       "949  a study was made , in co-operation with severa...          0.0       NaN   \n",
       "567  it is thought to reflect increased ~~[[2 throm...          1.0       NaN   \n",
       "0    however , addition of anti-tnf alpha ( every 7...          1.0       NaN   \n",
       "529  gepirone , a selective serotonin ( ~~[[2 5ht1a...          1.0       NaN   \n",
       "\n",
       "     curated_dug notes_dug  curated_ddg  \\\n",
       "510          0.0       NaN          0.0   \n",
       "949          0.0       NaN          0.0   \n",
       "567          0.0       NaN          0.0   \n",
       "0            1.0       NaN          0.0   \n",
       "529          0.0       NaN          0.0   \n",
       "\n",
       "                                             notes_ddg  Unnamed: 13  \n",
       "510  The drug decreases gene expression not the dis...          NaN  \n",
       "949                                                NaN          NaN  \n",
       "567                                                NaN          NaN  \n",
       "0                                                  NaN          NaN  \n",
       "529                                                NaN          NaN  "
      ]
     },
     "execution_count": 4,
     "metadata": {},
     "output_type": "execute_result"
    }
   ],
   "source": [
    "candidate_df = (\n",
    "    pd.read_excel(\"../data/sentences/sentence_labels_dev.xlsx\")\n",
    "    .sort_values(\"candidate_id\")\n",
    "    .query(\"curated_dsh.notnull()\")\n",
    ")\n",
    "candidate_df.head()"
   ]
  },
  {
   "cell_type": "code",
   "execution_count": 5,
   "metadata": {
    "ExecuteTime": {
     "end_time": "2019-12-13T19:24:32.614444Z",
     "start_time": "2019-12-13T19:24:32.609123Z"
    }
   },
   "outputs": [],
   "source": [
    "gen_model_results_dev_df = pd.read_csv(\n",
    "    \"../label_sampling_experiment/results/CtD/results/dev_sampled_results.tsv\", \n",
    "    sep=\"\\t\"\n",
    ")"
   ]
  },
  {
   "cell_type": "code",
   "execution_count": 7,
   "metadata": {
    "ExecuteTime": {
     "end_time": "2019-12-13T19:24:51.395607Z",
     "start_time": "2019-12-13T19:24:51.387763Z"
    }
   },
   "outputs": [],
   "source": [
    "disc_model_dict = {}\n",
    "disc_model_dict['22'] = (\n",
    "    pd.read_csv(f\"input/neg/22/tune.tsv\", sep=\"\\t\")\n",
    ")"
   ]
  },
  {
   "cell_type": "code",
   "execution_count": 8,
   "metadata": {
    "ExecuteTime": {
     "end_time": "2019-12-13T19:24:56.891053Z",
     "start_time": "2019-12-13T19:24:56.887753Z"
    }
   },
   "outputs": [],
   "source": [
    "def get_au_performance(predictions, gold_labels):\n",
    "    fpr, tpr, _ = roc_curve(\n",
    "        gold_labels,\n",
    "        predictions\n",
    "    )\n",
    "    \n",
    "    precision, recall, _ = precision_recall_curve(\n",
    "        gold_labels,\n",
    "        predictions\n",
    "    )\n",
    "    \n",
    "    return auc(fpr, tpr), auc(recall, precision)"
   ]
  },
  {
   "cell_type": "code",
   "execution_count": 15,
   "metadata": {
    "ExecuteTime": {
     "end_time": "2019-12-13T19:33:10.170108Z",
     "start_time": "2019-12-13T19:33:10.137284Z"
    }
   },
   "outputs": [],
   "source": [
    "records = []\n",
    "for sample in disc_model_dict:\n",
    "        for column in disc_model_dict[sample].drop(\"candidate_id\", axis=1).columns:\n",
    "            aucs = get_au_performance(\n",
    "                disc_model_dict[sample][column],\n",
    "                candidate_df\n",
    "                .query(f\"candidate_id in {disc_model_dict[sample].candidate_id.values.tolist()}\")\n",
    "                .curated_dsh\n",
    "                .values\n",
    "            )\n",
    "            records.append({\n",
    "                \"model\": \"disc_model\",\n",
    "                \"lf_num\": int(sample),\n",
    "                \"auroc\": aucs[0],\n",
    "                \"aupr\": aucs[1]\n",
    "            })\n",
    "\n",
    "dev_set_df = (\n",
    "    pd.DataFrame.from_records(records)\n",
    "    .append(\n",
    "        gen_model_results_dev_df\n",
    "        .drop(\"lf_sample\", axis=1)\n",
    "        .assign(model=\"gen_model\")\n",
    "    )\n",
    ")"
   ]
  },
  {
   "cell_type": "code",
   "execution_count": 16,
   "metadata": {
    "ExecuteTime": {
     "end_time": "2019-12-13T19:33:13.390424Z",
     "start_time": "2019-12-13T19:33:13.071565Z"
    }
   },
   "outputs": [
    {
     "name": "stdout",
     "output_type": "stream",
     "text": [
      "0\n",
      "nan\n",
      "1\n",
      "nan\n",
      "6\n",
      "nan\n",
      "11\n",
      "nan\n",
      "16\n",
      "nan\n",
      "22\n",
      "-0.027257857497186788\n"
     ]
    },
    {
     "data": {
      "image/png": "[encoded data removed]",
      "text/plain": [
       "<Figure size 432x288 with 1 Axes>"
      ]
     },
     "metadata": {
      "needs_background": "light"
     },
     "output_type": "display_data"
    }
   ],
   "source": [
    "ax = sns.pointplot(\n",
    "    x='lf_num', y='auroc',\n",
    "    hue='model',\n",
    "    data=dev_set_df,\n",
    "    sd='ci'\n",
    ")\n",
    "for x_spot, lf_num in enumerate(sorted(dev_set_df.lf_num.unique())):\n",
    "    print(lf_num)\n",
    "    print(\n",
    "        dev_set_df.query(f\"lf_num=={lf_num}&model=='disc_model'\").auroc.mean()-\n",
    "        dev_set_df.query(f\"lf_num=={lf_num}&model=='gen_model'\").auroc.mean()\n",
    "    )"
   ]
  },
  {
   "cell_type": "code",
   "execution_count": 17,
   "metadata": {
    "ExecuteTime": {
     "end_time": "2019-12-13T19:33:18.621014Z",
     "start_time": "2019-12-13T19:33:18.301623Z"
    }
   },
   "outputs": [
    {
     "name": "stdout",
     "output_type": "stream",
     "text": [
      "0\n",
      "nan\n",
      "1\n",
      "nan\n",
      "6\n",
      "nan\n",
      "11\n",
      "nan\n",
      "16\n",
      "nan\n",
      "22\n",
      "0.023346699182493158\n"
     ]
    },
    {
     "data": {
      "image/png": "[encoded data removed]",
      "text/plain": [
       "<Figure size 432x288 with 1 Axes>"
      ]
     },
     "metadata": {
      "needs_background": "light"
     },
     "output_type": "display_data"
    }
   ],
   "source": [
    "ax = sns.pointplot(\n",
    "    x='lf_num', y='aupr',\n",
    "    hue='model',\n",
    "    data=dev_set_df,\n",
    "    sd='ci'\n",
    ")\n",
    "for x_spot, lf_num in enumerate(sorted(dev_set_df.lf_num.unique())):\n",
    "    print(lf_num)\n",
    "    print(\n",
    "        dev_set_df.query(f\"lf_num=={lf_num}&model=='disc_model'\").aupr.mean()-\n",
    "        dev_set_df.query(f\"lf_num=={lf_num}&model=='gen_model'\").aupr.mean()\n",
    "    )"
   ]
  },
  {
   "cell_type": "markdown",
   "metadata": {},
   "source": [
    "# Test Set"
   ]
  },
  {
   "cell_type": "code",
   "execution_count": 18,
   "metadata": {
    "ExecuteTime": {
     "end_time": "2019-12-13T19:35:00.596908Z",
     "start_time": "2019-12-13T19:35:00.587832Z"
    },
    "scrolled": true
   },
   "outputs": [
    {
     "data": {
      "text/html": [
       "<div>\n",
       "<style scoped>\n",
       "    .dataframe tbody tr th:only-of-type {\n",
       "        vertical-align: middle;\n",
       "    }\n",
       "\n",
       "    .dataframe tbody tr th {\n",
       "        vertical-align: top;\n",
       "    }\n",
       "\n",
       "    .dataframe thead th {\n",
       "        text-align: right;\n",
       "    }\n",
       "</style>\n",
       "<table border=\"1\" class=\"dataframe\">\n",
       "  <thead>\n",
       "    <tr style=\"text-align: right;\">\n",
       "      <th></th>\n",
       "      <th>candidate_id</th>\n",
       "      <th>curated_dsh</th>\n",
       "    </tr>\n",
       "  </thead>\n",
       "  <tbody>\n",
       "    <tr>\n",
       "      <th>0</th>\n",
       "      <td>23356</td>\n",
       "      <td>0.0</td>\n",
       "    </tr>\n",
       "    <tr>\n",
       "      <th>1</th>\n",
       "      <td>23367</td>\n",
       "      <td>1.0</td>\n",
       "    </tr>\n",
       "    <tr>\n",
       "      <th>2</th>\n",
       "      <td>23820</td>\n",
       "      <td>1.0</td>\n",
       "    </tr>\n",
       "    <tr>\n",
       "      <th>3</th>\n",
       "      <td>24815</td>\n",
       "      <td>0.0</td>\n",
       "    </tr>\n",
       "    <tr>\n",
       "      <th>4</th>\n",
       "      <td>80484</td>\n",
       "      <td>0.0</td>\n",
       "    </tr>\n",
       "  </tbody>\n",
       "</table>\n",
       "</div>"
      ],
      "text/plain": [
       "   candidate_id  curated_dsh\n",
       "0         23356          0.0\n",
       "1         23367          1.0\n",
       "2         23820          1.0\n",
       "3         24815          0.0\n",
       "4         80484          0.0"
      ]
     },
     "execution_count": 18,
     "metadata": {},
     "output_type": "execute_result"
    }
   ],
   "source": [
    "test_labels = pd.read_csv(\"input/dag_test_labels.tsv\", sep=\"\\t\")\n",
    "test_labels.head()"
   ]
  },
  {
   "cell_type": "code",
   "execution_count": 19,
   "metadata": {
    "ExecuteTime": {
     "end_time": "2019-12-13T19:35:01.908333Z",
     "start_time": "2019-12-13T19:35:01.218761Z"
    },
    "scrolled": false
   },
   "outputs": [
    {
     "data": {
      "text/html": [
       "<div>\n",
       "<style scoped>\n",
       "    .dataframe tbody tr th:only-of-type {\n",
       "        vertical-align: middle;\n",
       "    }\n",
       "\n",
       "    .dataframe tbody tr th {\n",
       "        vertical-align: top;\n",
       "    }\n",
       "\n",
       "    .dataframe thead th {\n",
       "        text-align: right;\n",
       "    }\n",
       "</style>\n",
       "<table border=\"1\" class=\"dataframe\">\n",
       "  <thead>\n",
       "    <tr style=\"text-align: right;\">\n",
       "      <th></th>\n",
       "      <th>candidate_id</th>\n",
       "      <th>disease</th>\n",
       "      <th>gene</th>\n",
       "      <th>doid_id</th>\n",
       "      <th>entrez_gene_id</th>\n",
       "      <th>sentence</th>\n",
       "      <th>curated_dsh</th>\n",
       "      <th>notes_dsh</th>\n",
       "      <th>curated_dug</th>\n",
       "      <th>notes_dug</th>\n",
       "      <th>curated_ddg</th>\n",
       "      <th>notes_ddg</th>\n",
       "    </tr>\n",
       "  </thead>\n",
       "  <tbody>\n",
       "    <tr>\n",
       "      <th>0</th>\n",
       "      <td>23356</td>\n",
       "      <td>extrinsic asthma</td>\n",
       "      <td>ACTH)</td>\n",
       "      <td>DOID:2841</td>\n",
       "      <td>5443</td>\n",
       "      <td>hypothalamic-pituitary-adrenal function in a w...</td>\n",
       "      <td>0.0</td>\n",
       "      <td>NaN</td>\n",
       "      <td>0.0</td>\n",
       "      <td>NaN</td>\n",
       "      <td>0.0</td>\n",
       "      <td>NaN</td>\n",
       "    </tr>\n",
       "    <tr>\n",
       "      <th>1</th>\n",
       "      <td>23367</td>\n",
       "      <td>RA</td>\n",
       "      <td>GGTP</td>\n",
       "      <td>DOID:7148</td>\n",
       "      <td>92086</td>\n",
       "      <td>the values for ~~[[2 ggtp 2]]~~ were significa...</td>\n",
       "      <td>1.0</td>\n",
       "      <td>NaN</td>\n",
       "      <td>1.0</td>\n",
       "      <td>NaN</td>\n",
       "      <td>0.0</td>\n",
       "      <td>NaN</td>\n",
       "    </tr>\n",
       "    <tr>\n",
       "      <th>2</th>\n",
       "      <td>23820</td>\n",
       "      <td>hepatitis B</td>\n",
       "      <td>eAg)</td>\n",
       "      <td>DOID:2043</td>\n",
       "      <td>3756</td>\n",
       "      <td>a family of antigens , referred to collectivel...</td>\n",
       "      <td>1.0</td>\n",
       "      <td>NaN</td>\n",
       "      <td>0.0</td>\n",
       "      <td>NaN</td>\n",
       "      <td>0.0</td>\n",
       "      <td>NaN</td>\n",
       "    </tr>\n",
       "    <tr>\n",
       "      <th>3</th>\n",
       "      <td>24815</td>\n",
       "      <td>hepatoma</td>\n",
       "      <td>Mitochondrial ATPase</td>\n",
       "      <td>DOID:3571</td>\n",
       "      <td>514</td>\n",
       "      <td>~~[[2 mitochondrial atpase 2]]~~ activities of...</td>\n",
       "      <td>0.0</td>\n",
       "      <td>NaN</td>\n",
       "      <td>0.0</td>\n",
       "      <td>NaN</td>\n",
       "      <td>0.0</td>\n",
       "      <td>NaN</td>\n",
       "    </tr>\n",
       "    <tr>\n",
       "      <th>4</th>\n",
       "      <td>80484</td>\n",
       "      <td>hypertensive</td>\n",
       "      <td>fibrinogen</td>\n",
       "      <td>DOID:10763</td>\n",
       "      <td>2244</td>\n",
       "      <td>the blood pressure , the plasma renin activity...</td>\n",
       "      <td>0.0</td>\n",
       "      <td>NaN</td>\n",
       "      <td>0.0</td>\n",
       "      <td>NaN</td>\n",
       "      <td>0.0</td>\n",
       "      <td>NaN</td>\n",
       "    </tr>\n",
       "  </tbody>\n",
       "</table>\n",
       "</div>"
      ],
      "text/plain": [
       "   candidate_id           disease                  gene     doid_id  \\\n",
       "0         23356  extrinsic asthma                 ACTH)   DOID:2841   \n",
       "1         23367                RA                  GGTP   DOID:7148   \n",
       "2         23820       hepatitis B                  eAg)   DOID:2043   \n",
       "3         24815          hepatoma  Mitochondrial ATPase   DOID:3571   \n",
       "4         80484      hypertensive            fibrinogen  DOID:10763   \n",
       "\n",
       "   entrez_gene_id                                           sentence  \\\n",
       "0            5443  hypothalamic-pituitary-adrenal function in a w...   \n",
       "1           92086  the values for ~~[[2 ggtp 2]]~~ were significa...   \n",
       "2            3756  a family of antigens , referred to collectivel...   \n",
       "3             514  ~~[[2 mitochondrial atpase 2]]~~ activities of...   \n",
       "4            2244  the blood pressure , the plasma renin activity...   \n",
       "\n",
       "   curated_dsh notes_dsh  curated_dug notes_dug  curated_ddg notes_ddg  \n",
       "0          0.0       NaN          0.0       NaN          0.0       NaN  \n",
       "1          1.0       NaN          1.0       NaN          0.0       NaN  \n",
       "2          1.0       NaN          0.0       NaN          0.0       NaN  \n",
       "3          0.0       NaN          0.0       NaN          0.0       NaN  \n",
       "4          0.0       NaN          0.0       NaN          0.0       NaN  "
      ]
     },
     "execution_count": 19,
     "metadata": {},
     "output_type": "execute_result"
    }
   ],
   "source": [
    "candidate_df = (\n",
    "    pd.read_excel(\"../data/sentences/sentence_labels_test.xlsx\")\n",
    "    .sort_values(\"candidate_id\")\n",
    "    .query(\"curated_dsh.notnull()\")\n",
    ")\n",
    "candidate_df.head()"
   ]
  },
  {
   "cell_type": "code",
   "execution_count": 20,
   "metadata": {
    "ExecuteTime": {
     "end_time": "2019-12-13T19:35:02.092846Z",
     "start_time": "2019-12-13T19:35:02.087810Z"
    }
   },
   "outputs": [],
   "source": [
    "gen_model_results_test_df = pd.read_csv(\n",
    "    \"../label_sampling_experiment/results/CtD/results/test_sampled_results.tsv\", \n",
    "    sep=\"\\t\"\n",
    ")"
   ]
  },
  {
   "cell_type": "code",
   "execution_count": 22,
   "metadata": {
    "ExecuteTime": {
     "end_time": "2019-12-13T19:35:20.755289Z",
     "start_time": "2019-12-13T19:35:20.750167Z"
    }
   },
   "outputs": [],
   "source": [
    "disc_model_dict = {}\n",
    "\n",
    "disc_model_dict['22'] = (\n",
    "        pd.read_csv(f\"input/neg/22/test.tsv\", sep=\"\\t\")\n",
    ")"
   ]
  },
  {
   "cell_type": "code",
   "execution_count": 23,
   "metadata": {
    "ExecuteTime": {
     "end_time": "2019-12-13T19:35:21.661182Z",
     "start_time": "2019-12-13T19:35:21.633208Z"
    }
   },
   "outputs": [],
   "source": [
    "records = []\n",
    "for sample in disc_model_dict:\n",
    "        for column in disc_model_dict[sample].drop(\"candidate_id\", axis=1).columns:\n",
    "            aucs = get_au_performance(\n",
    "                disc_model_dict[sample][column],\n",
    "                candidate_df\n",
    "                .query(f\"candidate_id in {disc_model_dict[sample].candidate_id.values.tolist()}\")\n",
    "                .curated_dsh\n",
    "                .values\n",
    "            )\n",
    "            records.append({\n",
    "                \"model\": \"disc_model\",\n",
    "                \"lf_num\": int(sample),\n",
    "                \"auroc\": aucs[0],\n",
    "                \"aupr\": aucs[1]\n",
    "            })\n",
    "\n",
    "test_set_df = (\n",
    "    pd.DataFrame.from_records(records)\n",
    "    .append(\n",
    "        gen_model_results_test_df\n",
    "        .drop(\"lf_sample\", axis=1)\n",
    "        .assign(model=\"gen_model\")\n",
    "    )\n",
    ")"
   ]
  },
  {
   "cell_type": "code",
   "execution_count": 24,
   "metadata": {
    "ExecuteTime": {
     "end_time": "2019-12-13T19:35:25.005373Z",
     "start_time": "2019-12-13T19:35:24.699504Z"
    }
   },
   "outputs": [
    {
     "name": "stdout",
     "output_type": "stream",
     "text": [
      "0\n",
      "nan\n",
      "1\n",
      "nan\n",
      "6\n",
      "nan\n",
      "11\n",
      "nan\n",
      "16\n",
      "nan\n",
      "22\n",
      "-0.03128196498015412\n"
     ]
    },
    {
     "data": {
      "image/png": "[encoded data removed]",
      "text/plain": [
       "<Figure size 432x288 with 1 Axes>"
      ]
     },
     "metadata": {
      "needs_background": "light"
     },
     "output_type": "display_data"
    }
   ],
   "source": [
    "ax = sns.pointplot(\n",
    "    x='lf_num', y='auroc',\n",
    "    hue='model',\n",
    "    data=test_set_df,\n",
    "    sd='ci'\n",
    ")\n",
    "for x_spot, lf_num in enumerate(sorted(dev_set_df.lf_num.unique())):\n",
    "    print(lf_num)\n",
    "    print(\n",
    "        test_set_df.query(f\"lf_num=={lf_num}&model=='disc_model'\").auroc.mean()-\n",
    "        test_set_df.query(f\"lf_num=={lf_num}&model=='gen_model'\").auroc.mean()\n",
    "    )"
   ]
  },
  {
   "cell_type": "code",
   "execution_count": 25,
   "metadata": {
    "ExecuteTime": {
     "end_time": "2019-12-13T19:35:25.574150Z",
     "start_time": "2019-12-13T19:35:25.229120Z"
    }
   },
   "outputs": [
    {
     "name": "stdout",
     "output_type": "stream",
     "text": [
      "0\n",
      "nan\n",
      "1\n",
      "nan\n",
      "6\n",
      "nan\n",
      "11\n",
      "nan\n",
      "16\n",
      "nan\n",
      "22\n",
      "0.013031057111188016\n"
     ]
    },
    {
     "data": {
      "image/png": "[encoded data removed]",
      "text/plain": [
       "<Figure size 432x288 with 1 Axes>"
      ]
     },
     "metadata": {
      "needs_background": "light"
     },
     "output_type": "display_data"
    }
   ],
   "source": [
    "ax = sns.pointplot(\n",
    "    x='lf_num', y='aupr',\n",
    "    hue='model',\n",
    "    data=test_set_df,\n",
    "    sd='ci'\n",
    ")\n",
    "for x_spot, lf_num in enumerate(sorted(dev_set_df.lf_num.unique())):\n",
    "    print(lf_num)\n",
    "    print(\n",
    "        test_set_df.query(f\"lf_num=={lf_num}&model=='disc_model'\").aupr.mean()-\n",
    "        test_set_df.query(f\"lf_num=={lf_num}&model=='gen_model'\").aupr.mean()\n",
    "    )"
   ]
  }
 ],
 "metadata": {
  "kernelspec": {
   "display_name": "Python [conda env:snorkeling]",
   "language": "python",
   "name": "conda-env-snorkeling-py"
  },
  "language_info": {
   "codemirror_mode": {
    "name": "ipython",
    "version": 3
   },
   "file_extension": ".py",
   "mimetype": "text/x-python",
   "name": "python",
   "nbconvert_exporter": "python",
   "pygments_lexer": "ipython3",
   "version": "3.6.7"
  },
  "toc": {
   "base_numbering": 1,
   "nav_menu": {},
   "number_sections": true,
   "sideBar": true,
   "skip_h1_title": false,
   "title_cell": "Table of Contents",
   "title_sidebar": "Contents",
   "toc_cell": false,
   "toc_position": {},
   "toc_section_display": true,
   "toc_window_display": false
  },
  "varInspector": {
   "cols": {
    "lenName": 16,
    "lenType": 16,
    "lenVar": 40
   },
   "kernels_config": {
    "python": {
     "delete_cmd_postfix": "",
     "delete_cmd_prefix": "del ",
     "library": "var_list.py",
     "varRefreshCmd": "print(var_dic_list())"
    },
    "r": {
     "delete_cmd_postfix": ") ",
     "delete_cmd_prefix": "rm(",
     "library": "var_list.r",
     "varRefreshCmd": "cat(var_dic_list()) "
    }
   },
   "types_to_exclude": [
    "module",
    "function",
    "builtin_function_or_method",
    "instance",
    "_Feature"
   ],
   "window_display": false
  }
 },
 "nbformat": 4,
 "nbformat_minor": 2
}
