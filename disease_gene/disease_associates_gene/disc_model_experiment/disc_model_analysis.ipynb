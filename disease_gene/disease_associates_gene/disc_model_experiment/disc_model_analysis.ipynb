{
 "cells": [
  {
   "cell_type": "markdown",
   "metadata": {},
   "source": [
    "# Discriminator Model Performance"
   ]
  },
  {
   "cell_type": "markdown",
   "metadata": {},
   "source": [
    "This notebook is designed to analyze the discriminator model's performance. Once the generative model labels our data, the discriminator model takes those labels and improves on predictions. For this notebook we are using a generative model trained on Disease associates Gene label functions to predict Disease associates Gene sentences. Performance for each model is reported in area under the receiver operating curve (AUROC) and area under the precision recall curve (AUPR)."
   ]
  },
  {
   "cell_type": "code",
   "execution_count": 1,
   "metadata": {
    "ExecuteTime": {
     "end_time": "2019-12-12T18:15:53.760324Z",
     "start_time": "2019-12-12T18:15:52.841302Z"
    }
   },
   "outputs": [],
   "source": [
    "import glob\n",
    "import os\n",
    "import pandas as pd\n",
    "\n",
    "import seaborn as sns\n",
    "import plotnine as p9\n",
    "import scipy.stats as ss\n",
    "from sklearn.metrics import auc, precision_recall_curve, roc_curve, precision_recall_fscore_support"
   ]
  },
  {
   "cell_type": "markdown",
   "metadata": {},
   "source": [
    "# Tune Set"
   ]
  },
  {
   "cell_type": "markdown",
   "metadata": {},
   "source": [
    "## Performance of Disc model vs Gen model for each Label Sample"
   ]
  },
  {
   "cell_type": "code",
   "execution_count": 2,
   "metadata": {
    "ExecuteTime": {
     "end_time": "2019-12-12T18:15:53.774113Z",
     "start_time": "2019-12-12T18:15:53.761666Z"
    },
    "scrolled": true
   },
   "outputs": [
    {
     "data": {
      "text/html": [
       "<div>\n",
       "<style scoped>\n",
       "    .dataframe tbody tr th:only-of-type {\n",
       "        vertical-align: middle;\n",
       "    }\n",
       "\n",
       "    .dataframe tbody tr th {\n",
       "        vertical-align: top;\n",
       "    }\n",
       "\n",
       "    .dataframe thead th {\n",
       "        text-align: right;\n",
       "    }\n",
       "</style>\n",
       "<table border=\"1\" class=\"dataframe\">\n",
       "  <thead>\n",
       "    <tr style=\"text-align: right;\">\n",
       "      <th></th>\n",
       "      <th>candidate_id</th>\n",
       "      <th>curated_dsh</th>\n",
       "    </tr>\n",
       "  </thead>\n",
       "  <tbody>\n",
       "    <tr>\n",
       "      <th>0</th>\n",
       "      <td>21841</td>\n",
       "      <td>1.0</td>\n",
       "    </tr>\n",
       "    <tr>\n",
       "      <th>1</th>\n",
       "      <td>82680</td>\n",
       "      <td>0.0</td>\n",
       "    </tr>\n",
       "    <tr>\n",
       "      <th>2</th>\n",
       "      <td>177856</td>\n",
       "      <td>1.0</td>\n",
       "    </tr>\n",
       "    <tr>\n",
       "      <th>3</th>\n",
       "      <td>228511</td>\n",
       "      <td>1.0</td>\n",
       "    </tr>\n",
       "    <tr>\n",
       "      <th>4</th>\n",
       "      <td>235056</td>\n",
       "      <td>1.0</td>\n",
       "    </tr>\n",
       "  </tbody>\n",
       "</table>\n",
       "</div>"
      ],
      "text/plain": [
       "   candidate_id  curated_dsh\n",
       "0         21841          1.0\n",
       "1         82680          0.0\n",
       "2        177856          1.0\n",
       "3        228511          1.0\n",
       "4        235056          1.0"
      ]
     },
     "execution_count": 2,
     "metadata": {},
     "output_type": "execute_result"
    }
   ],
   "source": [
    "dev_labels = pd.read_csv(\"input/dag_dev_labels.tsv\", sep=\"\\t\")\n",
    "dev_labels.head()"
   ]
  },
  {
   "cell_type": "code",
   "execution_count": 3,
   "metadata": {
    "ExecuteTime": {
     "end_time": "2019-12-12T18:15:54.508344Z",
     "start_time": "2019-12-12T18:15:53.775473Z"
    },
    "scrolled": false
   },
   "outputs": [
    {
     "data": {
      "text/html": [
       "<div>\n",
       "<style scoped>\n",
       "    .dataframe tbody tr th:only-of-type {\n",
       "        vertical-align: middle;\n",
       "    }\n",
       "\n",
       "    .dataframe tbody tr th {\n",
       "        vertical-align: top;\n",
       "    }\n",
       "\n",
       "    .dataframe thead th {\n",
       "        text-align: right;\n",
       "    }\n",
       "</style>\n",
       "<table border=\"1\" class=\"dataframe\">\n",
       "  <thead>\n",
       "    <tr style=\"text-align: right;\">\n",
       "      <th></th>\n",
       "      <th>candidate_id</th>\n",
       "      <th>disease</th>\n",
       "      <th>gene</th>\n",
       "      <th>doid_id</th>\n",
       "      <th>entrez_gene_id</th>\n",
       "      <th>sentence_id</th>\n",
       "      <th>sentence</th>\n",
       "      <th>curated_dsh</th>\n",
       "      <th>notes_dsh</th>\n",
       "      <th>curated_dug</th>\n",
       "      <th>notes_dug</th>\n",
       "      <th>curated_ddg</th>\n",
       "      <th>notes_ddg</th>\n",
       "      <th>Unnamed: 13</th>\n",
       "    </tr>\n",
       "  </thead>\n",
       "  <tbody>\n",
       "    <tr>\n",
       "      <th>510</th>\n",
       "      <td>21841</td>\n",
       "      <td>hypertension</td>\n",
       "      <td>beta-hydroxylase</td>\n",
       "      <td>DOID:10763</td>\n",
       "      <td>1621</td>\n",
       "      <td>482597</td>\n",
       "      <td>the decrease of sympathetic activity by the be...</td>\n",
       "      <td>1.0</td>\n",
       "      <td>NaN</td>\n",
       "      <td>0.0</td>\n",
       "      <td>NaN</td>\n",
       "      <td>0.0</td>\n",
       "      <td>The drug decreases gene expression not the dis...</td>\n",
       "      <td>NaN</td>\n",
       "    </tr>\n",
       "    <tr>\n",
       "      <th>949</th>\n",
       "      <td>82680</td>\n",
       "      <td>AS)</td>\n",
       "      <td>HLA B27)</td>\n",
       "      <td>DOID:7147</td>\n",
       "      <td>3106</td>\n",
       "      <td>1291564</td>\n",
       "      <td>a study was made , in co-operation with severa...</td>\n",
       "      <td>0.0</td>\n",
       "      <td>NaN</td>\n",
       "      <td>0.0</td>\n",
       "      <td>NaN</td>\n",
       "      <td>0.0</td>\n",
       "      <td>NaN</td>\n",
       "      <td>NaN</td>\n",
       "    </tr>\n",
       "    <tr>\n",
       "      <th>567</th>\n",
       "      <td>177856</td>\n",
       "      <td>systemic lupus erythematosus</td>\n",
       "      <td>thrombin</td>\n",
       "      <td>DOID:9074</td>\n",
       "      <td>2147</td>\n",
       "      <td>2106040</td>\n",
       "      <td>it is thought to reflect increased ~~[[2 throm...</td>\n",
       "      <td>1.0</td>\n",
       "      <td>NaN</td>\n",
       "      <td>0.0</td>\n",
       "      <td>NaN</td>\n",
       "      <td>0.0</td>\n",
       "      <td>NaN</td>\n",
       "      <td>NaN</td>\n",
       "    </tr>\n",
       "    <tr>\n",
       "      <th>0</th>\n",
       "      <td>228511</td>\n",
       "      <td>AML</td>\n",
       "      <td>TNF alpha</td>\n",
       "      <td>DOID:2531</td>\n",
       "      <td>7124</td>\n",
       "      <td>3355574</td>\n",
       "      <td>however , addition of anti-tnf alpha ( every 7...</td>\n",
       "      <td>1.0</td>\n",
       "      <td>NaN</td>\n",
       "      <td>1.0</td>\n",
       "      <td>NaN</td>\n",
       "      <td>0.0</td>\n",
       "      <td>NaN</td>\n",
       "      <td>NaN</td>\n",
       "    </tr>\n",
       "    <tr>\n",
       "      <th>529</th>\n",
       "      <td>235056</td>\n",
       "      <td>major depression</td>\n",
       "      <td>5HT1A)</td>\n",
       "      <td>DOID:1595</td>\n",
       "      <td>3350</td>\n",
       "      <td>2946297</td>\n",
       "      <td>gepirone , a selective serotonin ( ~~[[2 5ht1a...</td>\n",
       "      <td>1.0</td>\n",
       "      <td>NaN</td>\n",
       "      <td>0.0</td>\n",
       "      <td>NaN</td>\n",
       "      <td>0.0</td>\n",
       "      <td>NaN</td>\n",
       "      <td>NaN</td>\n",
       "    </tr>\n",
       "  </tbody>\n",
       "</table>\n",
       "</div>"
      ],
      "text/plain": [
       "     candidate_id                       disease              gene     doid_id  \\\n",
       "510         21841                  hypertension  beta-hydroxylase  DOID:10763   \n",
       "949         82680                           AS)          HLA B27)   DOID:7147   \n",
       "567        177856  systemic lupus erythematosus          thrombin   DOID:9074   \n",
       "0          228511                           AML         TNF alpha   DOID:2531   \n",
       "529        235056              major depression            5HT1A)   DOID:1595   \n",
       "\n",
       "     entrez_gene_id  sentence_id  \\\n",
       "510            1621       482597   \n",
       "949            3106      1291564   \n",
       "567            2147      2106040   \n",
       "0              7124      3355574   \n",
       "529            3350      2946297   \n",
       "\n",
       "                                              sentence  curated_dsh notes_dsh  \\\n",
       "510  the decrease of sympathetic activity by the be...          1.0       NaN   \n",
       "949  a study was made , in co-operation with severa...          0.0       NaN   \n",
       "567  it is thought to reflect increased ~~[[2 throm...          1.0       NaN   \n",
       "0    however , addition of anti-tnf alpha ( every 7...          1.0       NaN   \n",
       "529  gepirone , a selective serotonin ( ~~[[2 5ht1a...          1.0       NaN   \n",
       "\n",
       "     curated_dug notes_dug  curated_ddg  \\\n",
       "510          0.0       NaN          0.0   \n",
       "949          0.0       NaN          0.0   \n",
       "567          0.0       NaN          0.0   \n",
       "0            1.0       NaN          0.0   \n",
       "529          0.0       NaN          0.0   \n",
       "\n",
       "                                             notes_ddg  Unnamed: 13  \n",
       "510  The drug decreases gene expression not the dis...          NaN  \n",
       "949                                                NaN          NaN  \n",
       "567                                                NaN          NaN  \n",
       "0                                                  NaN          NaN  \n",
       "529                                                NaN          NaN  "
      ]
     },
     "execution_count": 3,
     "metadata": {},
     "output_type": "execute_result"
    }
   ],
   "source": [
    "candidate_df = (\n",
    "    pd.read_excel(\"../data/sentences/sentence_labels_dev.xlsx\")\n",
    "    .sort_values(\"candidate_id\")\n",
    "    .query(\"curated_dsh.notnull()\")\n",
    ")\n",
    "candidate_df.head()"
   ]
  },
  {
   "cell_type": "code",
   "execution_count": 4,
   "metadata": {
    "ExecuteTime": {
     "end_time": "2019-12-12T18:15:54.516222Z",
     "start_time": "2019-12-12T18:15:54.510041Z"
    }
   },
   "outputs": [],
   "source": [
    "gen_model_results_dev_df = pd.read_csv(\n",
    "    \"../label_sampling_experiment/results/DaG/results/dev_sampled_results.tsv\", \n",
    "    sep=\"\\t\"\n",
    ")"
   ]
  },
  {
   "cell_type": "code",
   "execution_count": 5,
   "metadata": {
    "ExecuteTime": {
     "end_time": "2019-12-12T18:15:54.577068Z",
     "start_time": "2019-12-12T18:15:54.517591Z"
    }
   },
   "outputs": [],
   "source": [
    "disc_model_dict = {}\n",
    "\n",
    "for value in gen_model_results_dev_df.lf_num.unique():\n",
    "        \n",
    "    disc_model_dict[value] = (\n",
    "        pd.read_csv(f\"input/disc_model_run/{value}/tune.tsv\", sep=\"\\t\")\n",
    "    )"
   ]
  },
  {
   "cell_type": "code",
   "execution_count": 6,
   "metadata": {
    "ExecuteTime": {
     "end_time": "2019-12-12T18:15:54.581346Z",
     "start_time": "2019-12-12T18:15:54.578257Z"
    }
   },
   "outputs": [],
   "source": [
    "def get_au_performance(predictions, gold_labels):\n",
    "    fpr, tpr, _ = roc_curve(\n",
    "        gold_labels,\n",
    "        predictions\n",
    "    )\n",
    "    \n",
    "    precision, recall, _ = precision_recall_curve(\n",
    "        gold_labels,\n",
    "        predictions\n",
    "    )\n",
    "    \n",
    "    return auc(fpr, tpr), auc(recall, precision)"
   ]
  },
  {
   "cell_type": "code",
   "execution_count": 7,
   "metadata": {
    "ExecuteTime": {
     "end_time": "2019-12-12T18:15:57.193599Z",
     "start_time": "2019-12-12T18:15:54.582794Z"
    }
   },
   "outputs": [],
   "source": [
    "records = []\n",
    "for sample in disc_model_dict:\n",
    "        for column in disc_model_dict[sample].drop(\"candidate_id\", axis=1).columns:\n",
    "            aucs = get_au_performance(\n",
    "                disc_model_dict[sample][column], \n",
    "                candidate_df\n",
    "                .query(f\"candidate_id in {disc_model_dict[value].candidate_id.values.tolist()}\")\n",
    "                .curated_dsh\n",
    "                .values\n",
    "            )\n",
    "            records.append({\n",
    "                \"model\": \"disc_model\",\n",
    "                \"lf_num\": int(sample),\n",
    "                \"auroc\": aucs[0],\n",
    "                \"aupr\": aucs[1]\n",
    "            })\n",
    "\n",
    "dev_set_df = (\n",
    "    pd.DataFrame.from_records(records)\n",
    "    .append(\n",
    "        gen_model_results_dev_df\n",
    "        .drop(\"lf_sample\", axis=1)\n",
    "        .assign(model=\"gen_model\")\n",
    "    )\n",
    ")"
   ]
  },
  {
   "cell_type": "code",
   "execution_count": 8,
   "metadata": {
    "ExecuteTime": {
     "end_time": "2019-12-12T18:15:57.232255Z",
     "start_time": "2019-12-12T18:15:57.195608Z"
    }
   },
   "outputs": [
    {
     "data": {
      "text/html": [
       "<div>\n",
       "<style scoped>\n",
       "    .dataframe tbody tr th:only-of-type {\n",
       "        vertical-align: middle;\n",
       "    }\n",
       "\n",
       "    .dataframe tbody tr th {\n",
       "        vertical-align: top;\n",
       "    }\n",
       "\n",
       "    .dataframe thead th {\n",
       "        text-align: right;\n",
       "    }\n",
       "</style>\n",
       "<table border=\"1\" class=\"dataframe\">\n",
       "  <thead>\n",
       "    <tr style=\"text-align: right;\">\n",
       "      <th></th>\n",
       "      <th>lf_num</th>\n",
       "      <th>model</th>\n",
       "      <th>auroc_mean</th>\n",
       "      <th>auroc_std</th>\n",
       "      <th>aupr_mean</th>\n",
       "      <th>aupr_std</th>\n",
       "      <th>lf_num_len</th>\n",
       "      <th>auroc_upper</th>\n",
       "      <th>auroc_lower</th>\n",
       "      <th>aupr_upper</th>\n",
       "      <th>aupr_lower</th>\n",
       "    </tr>\n",
       "  </thead>\n",
       "  <tbody>\n",
       "    <tr>\n",
       "      <th>0</th>\n",
       "      <td>0</td>\n",
       "      <td>disc_model</td>\n",
       "      <td>0.488990</td>\n",
       "      <td>0.000000</td>\n",
       "      <td>0.441982</td>\n",
       "      <td>0.000000</td>\n",
       "      <td>1</td>\n",
       "      <td>0.488990</td>\n",
       "      <td>0.488990</td>\n",
       "      <td>0.441982</td>\n",
       "      <td>0.441982</td>\n",
       "    </tr>\n",
       "    <tr>\n",
       "      <th>1</th>\n",
       "      <td>0</td>\n",
       "      <td>gen_model</td>\n",
       "      <td>0.494070</td>\n",
       "      <td>0.000000</td>\n",
       "      <td>0.422810</td>\n",
       "      <td>0.000000</td>\n",
       "      <td>1</td>\n",
       "      <td>0.494070</td>\n",
       "      <td>0.494070</td>\n",
       "      <td>0.422810</td>\n",
       "      <td>0.422810</td>\n",
       "    </tr>\n",
       "    <tr>\n",
       "      <th>2</th>\n",
       "      <td>1</td>\n",
       "      <td>disc_model</td>\n",
       "      <td>0.544990</td>\n",
       "      <td>0.007937</td>\n",
       "      <td>0.454841</td>\n",
       "      <td>0.005863</td>\n",
       "      <td>50</td>\n",
       "      <td>0.547190</td>\n",
       "      <td>0.542790</td>\n",
       "      <td>0.456466</td>\n",
       "      <td>0.453216</td>\n",
       "    </tr>\n",
       "    <tr>\n",
       "      <th>3</th>\n",
       "      <td>1</td>\n",
       "      <td>gen_model</td>\n",
       "      <td>0.502480</td>\n",
       "      <td>0.010091</td>\n",
       "      <td>0.431385</td>\n",
       "      <td>0.010464</td>\n",
       "      <td>50</td>\n",
       "      <td>0.505277</td>\n",
       "      <td>0.499683</td>\n",
       "      <td>0.434285</td>\n",
       "      <td>0.428484</td>\n",
       "    </tr>\n",
       "    <tr>\n",
       "      <th>4</th>\n",
       "      <td>6</td>\n",
       "      <td>disc_model</td>\n",
       "      <td>0.590447</td>\n",
       "      <td>0.039985</td>\n",
       "      <td>0.513701</td>\n",
       "      <td>0.045574</td>\n",
       "      <td>50</td>\n",
       "      <td>0.601530</td>\n",
       "      <td>0.579364</td>\n",
       "      <td>0.526333</td>\n",
       "      <td>0.501069</td>\n",
       "    </tr>\n",
       "    <tr>\n",
       "      <th>5</th>\n",
       "      <td>6</td>\n",
       "      <td>gen_model</td>\n",
       "      <td>0.557170</td>\n",
       "      <td>0.026302</td>\n",
       "      <td>0.474297</td>\n",
       "      <td>0.028517</td>\n",
       "      <td>50</td>\n",
       "      <td>0.564461</td>\n",
       "      <td>0.549880</td>\n",
       "      <td>0.482201</td>\n",
       "      <td>0.466393</td>\n",
       "    </tr>\n",
       "    <tr>\n",
       "      <th>6</th>\n",
       "      <td>11</td>\n",
       "      <td>disc_model</td>\n",
       "      <td>0.643062</td>\n",
       "      <td>0.049617</td>\n",
       "      <td>0.572458</td>\n",
       "      <td>0.056580</td>\n",
       "      <td>50</td>\n",
       "      <td>0.656814</td>\n",
       "      <td>0.629309</td>\n",
       "      <td>0.588141</td>\n",
       "      <td>0.556775</td>\n",
       "    </tr>\n",
       "    <tr>\n",
       "      <th>7</th>\n",
       "      <td>11</td>\n",
       "      <td>gen_model</td>\n",
       "      <td>0.594267</td>\n",
       "      <td>0.030374</td>\n",
       "      <td>0.500662</td>\n",
       "      <td>0.031746</td>\n",
       "      <td>50</td>\n",
       "      <td>0.602686</td>\n",
       "      <td>0.585848</td>\n",
       "      <td>0.509462</td>\n",
       "      <td>0.491863</td>\n",
       "    </tr>\n",
       "    <tr>\n",
       "      <th>8</th>\n",
       "      <td>16</td>\n",
       "      <td>disc_model</td>\n",
       "      <td>0.680709</td>\n",
       "      <td>0.041371</td>\n",
       "      <td>0.611157</td>\n",
       "      <td>0.053273</td>\n",
       "      <td>50</td>\n",
       "      <td>0.692176</td>\n",
       "      <td>0.669242</td>\n",
       "      <td>0.625924</td>\n",
       "      <td>0.596391</td>\n",
       "    </tr>\n",
       "    <tr>\n",
       "      <th>9</th>\n",
       "      <td>16</td>\n",
       "      <td>gen_model</td>\n",
       "      <td>0.617423</td>\n",
       "      <td>0.028242</td>\n",
       "      <td>0.514108</td>\n",
       "      <td>0.029960</td>\n",
       "      <td>50</td>\n",
       "      <td>0.625251</td>\n",
       "      <td>0.609595</td>\n",
       "      <td>0.522412</td>\n",
       "      <td>0.505804</td>\n",
       "    </tr>\n",
       "    <tr>\n",
       "      <th>10</th>\n",
       "      <td>30</td>\n",
       "      <td>disc_model</td>\n",
       "      <td>0.736422</td>\n",
       "      <td>0.000000</td>\n",
       "      <td>0.674852</td>\n",
       "      <td>0.000000</td>\n",
       "      <td>1</td>\n",
       "      <td>0.736422</td>\n",
       "      <td>0.736422</td>\n",
       "      <td>0.674852</td>\n",
       "      <td>0.674852</td>\n",
       "    </tr>\n",
       "    <tr>\n",
       "      <th>11</th>\n",
       "      <td>30</td>\n",
       "      <td>gen_model</td>\n",
       "      <td>0.655800</td>\n",
       "      <td>0.000000</td>\n",
       "      <td>0.552674</td>\n",
       "      <td>0.000000</td>\n",
       "      <td>50</td>\n",
       "      <td>0.655800</td>\n",
       "      <td>0.655800</td>\n",
       "      <td>0.552674</td>\n",
       "      <td>0.552674</td>\n",
       "    </tr>\n",
       "  </tbody>\n",
       "</table>\n",
       "</div>"
      ],
      "text/plain": [
       "    lf_num       model  auroc_mean  auroc_std  aupr_mean  aupr_std  \\\n",
       "0        0  disc_model    0.488990   0.000000   0.441982  0.000000   \n",
       "1        0   gen_model    0.494070   0.000000   0.422810  0.000000   \n",
       "2        1  disc_model    0.544990   0.007937   0.454841  0.005863   \n",
       "3        1   gen_model    0.502480   0.010091   0.431385  0.010464   \n",
       "4        6  disc_model    0.590447   0.039985   0.513701  0.045574   \n",
       "5        6   gen_model    0.557170   0.026302   0.474297  0.028517   \n",
       "6       11  disc_model    0.643062   0.049617   0.572458  0.056580   \n",
       "7       11   gen_model    0.594267   0.030374   0.500662  0.031746   \n",
       "8       16  disc_model    0.680709   0.041371   0.611157  0.053273   \n",
       "9       16   gen_model    0.617423   0.028242   0.514108  0.029960   \n",
       "10      30  disc_model    0.736422   0.000000   0.674852  0.000000   \n",
       "11      30   gen_model    0.655800   0.000000   0.552674  0.000000   \n",
       "\n",
       "    lf_num_len  auroc_upper  auroc_lower  aupr_upper  aupr_lower  \n",
       "0            1     0.488990     0.488990    0.441982    0.441982  \n",
       "1            1     0.494070     0.494070    0.422810    0.422810  \n",
       "2           50     0.547190     0.542790    0.456466    0.453216  \n",
       "3           50     0.505277     0.499683    0.434285    0.428484  \n",
       "4           50     0.601530     0.579364    0.526333    0.501069  \n",
       "5           50     0.564461     0.549880    0.482201    0.466393  \n",
       "6           50     0.656814     0.629309    0.588141    0.556775  \n",
       "7           50     0.602686     0.585848    0.509462    0.491863  \n",
       "8           50     0.692176     0.669242    0.625924    0.596391  \n",
       "9           50     0.625251     0.609595    0.522412    0.505804  \n",
       "10           1     0.736422     0.736422    0.674852    0.674852  \n",
       "11          50     0.655800     0.655800    0.552674    0.552674  "
      ]
     },
     "execution_count": 8,
     "metadata": {},
     "output_type": "execute_result"
    }
   ],
   "source": [
    "dev_set_stats_df = (\n",
    "    dev_set_df\n",
    "    .groupby([\"lf_num\", \"model\"])\n",
    "    .agg({\n",
    "    \"auroc\": ['mean', 'std'],\n",
    "    \"aupr\": ['mean', 'std'],\n",
    "    \"lf_num\": len\n",
    "    })\n",
    "    .reset_index()\n",
    "    .fillna(0)\n",
    ")\n",
    "dev_set_stats_df.columns = [\n",
    "    \"_\".join(col) \n",
    "    if col[1] != '' and col[0] not in ['hetionet', 'gene_symbol', 'doid_name', 'split'] else col[0] \n",
    "    for col in dev_set_stats_df.columns.values\n",
    "]\n",
    "\n",
    "critical_val = ss.norm.ppf(0.975)\n",
    "\n",
    "dev_set_stats_df = (\n",
    "    dev_set_stats_df\n",
    "    .assign(\n",
    "        **{\n",
    "            'auroc_upper': lambda x: x.auroc_mean + (critical_val * x.auroc_std)/pd.np.sqrt(x.lf_num_len),\n",
    "            'auroc_lower': lambda x: x.auroc_mean - (critical_val * x.auroc_std)/pd.np.sqrt(x.lf_num_len),\n",
    "            'aupr_upper': lambda x: x.aupr_mean + (critical_val * x.aupr_std)/pd.np.sqrt(x.lf_num_len),\n",
    "            'aupr_lower':lambda x: x.aupr_mean - (critical_val * x.aupr_std)/pd.np.sqrt(x.lf_num_len)\n",
    "        }\n",
    "    )\n",
    ")\n",
    "dev_set_stats_df"
   ]
  },
  {
   "cell_type": "code",
   "execution_count": 9,
   "metadata": {
    "ExecuteTime": {
     "end_time": "2019-12-12T18:15:57.816168Z",
     "start_time": "2019-12-12T18:15:57.233973Z"
    }
   },
   "outputs": [
    {
     "name": "stderr",
     "output_type": "stream",
     "text": [
      "/home/danich1/anaconda3/envs/snorkeling/lib/python3.6/site-packages/plotnine/scales/scale.py:93: MatplotlibDeprecationWarning: \n",
      "The iterable function was deprecated in Matplotlib 3.1 and will be removed in 3.3. Use np.iterable instead.\n",
      "  if cbook.iterable(self.breaks) and cbook.iterable(self.labels):\n",
      "/home/danich1/anaconda3/envs/snorkeling/lib/python3.6/site-packages/plotnine/utils.py:553: MatplotlibDeprecationWarning: \n",
      "The iterable function was deprecated in Matplotlib 3.1 and will be removed in 3.3. Use np.iterable instead.\n",
      "  return cbook.iterable(var) and not is_string(var)\n"
     ]
    },
    {
     "data": {
      "image/png": "[encoded data removed]",
      "text/plain": [
       "<Figure size 640x480 with 1 Axes>"
      ]
     },
     "metadata": {},
     "output_type": "display_data"
    },
    {
     "data": {
      "text/plain": [
       "<ggplot: (8730953887208)>"
      ]
     },
     "execution_count": 9,
     "metadata": {},
     "output_type": "execute_result"
    }
   ],
   "source": [
    "(\n",
    "    p9.ggplot(dev_set_stats_df, p9.aes(x=\"factor(lf_num)\", y=\"auroc_mean\", color=\"model\"))\n",
    "    + p9.geom_point()\n",
    "    + p9.geom_line(p9.aes(group=\"model\"))\n",
    "    + p9.geom_errorbar(p9.aes(ymin=\"auroc_lower\", ymax=\"auroc_upper\", group=\"model\"))\n",
    "    + p9.theme_seaborn()\n",
    "    + p9.labs(\n",
    "        title= \"DaG Tune Set AUROC\",\n",
    "        color=\"Model\"\n",
    "    )\n",
    "    + p9.scale_color_manual({\n",
    "        \"disc_model\": \"blue\",\n",
    "        \"gen_model\": \"orange\"\n",
    "    })\n",
    "    + p9.scale_y_continuous(limits=[0.4, 0.75])\n",
    ")"
   ]
  },
  {
   "cell_type": "code",
   "execution_count": 10,
   "metadata": {
    "ExecuteTime": {
     "end_time": "2019-12-12T18:15:58.376671Z",
     "start_time": "2019-12-12T18:15:57.817636Z"
    }
   },
   "outputs": [
    {
     "name": "stderr",
     "output_type": "stream",
     "text": [
      "/home/danich1/anaconda3/envs/snorkeling/lib/python3.6/site-packages/plotnine/scales/scale.py:93: MatplotlibDeprecationWarning: \n",
      "The iterable function was deprecated in Matplotlib 3.1 and will be removed in 3.3. Use np.iterable instead.\n",
      "  if cbook.iterable(self.breaks) and cbook.iterable(self.labels):\n",
      "/home/danich1/anaconda3/envs/snorkeling/lib/python3.6/site-packages/plotnine/utils.py:553: MatplotlibDeprecationWarning: \n",
      "The iterable function was deprecated in Matplotlib 3.1 and will be removed in 3.3. Use np.iterable instead.\n",
      "  return cbook.iterable(var) and not is_string(var)\n"
     ]
    },
    {
     "data": {
      "image/png": "[encoded data removed]",
      "text/plain": [
       "<Figure size 640x480 with 1 Axes>"
      ]
     },
     "metadata": {},
     "output_type": "display_data"
    },
    {
     "data": {
      "text/plain": [
       "<ggplot: (-9223363305900921891)>"
      ]
     },
     "execution_count": 10,
     "metadata": {},
     "output_type": "execute_result"
    }
   ],
   "source": [
    "(\n",
    "    p9.ggplot(dev_set_stats_df, p9.aes(x=\"factor(lf_num)\", y=\"aupr_mean\", color=\"model\"))\n",
    "    + p9.geom_point()\n",
    "    + p9.geom_line(p9.aes(group=\"model\"))\n",
    "    + p9.geom_errorbar(p9.aes(ymin=\"aupr_lower\", ymax=\"aupr_upper\", group=\"model\"))\n",
    "    + p9.theme_seaborn()\n",
    "    + p9.labs(\n",
    "        title= \"DaG Tune Set AUPR\",\n",
    "        color=\"Model\"\n",
    "    )\n",
    "    + p9.scale_color_manual({\n",
    "        \"disc_model\": \"blue\",\n",
    "        \"gen_model\": \"orange\"\n",
    "    })\n",
    "    + p9.scale_y_continuous(limits=[0.4, 0.75])\n",
    ")"
   ]
  },
  {
   "cell_type": "code",
   "execution_count": 11,
   "metadata": {
    "ExecuteTime": {
     "end_time": "2019-12-12T18:15:58.384974Z",
     "start_time": "2019-12-12T18:15:58.378106Z"
    }
   },
   "outputs": [],
   "source": [
    "dev_set_df.to_csv(\"output/dev_set_disc_performance.tsv\", index=False, sep=\"\\t\")"
   ]
  },
  {
   "cell_type": "markdown",
   "metadata": {},
   "source": [
    "##  Precision-Recall Improvement over Generative Model"
   ]
  },
  {
   "cell_type": "code",
   "execution_count": 12,
   "metadata": {
    "ExecuteTime": {
     "end_time": "2019-12-12T18:15:58.555016Z",
     "start_time": "2019-12-12T18:15:58.386090Z"
    }
   },
   "outputs": [],
   "source": [
    "gen_predicton = (\n",
    "    pd.read_csv(\n",
    "        \"../label_sampling_experiment/results/DaG/marginals/tune/30_sampled_dev.tsv\",\n",
    "        sep=\"\\t\"\n",
    "    )\n",
    "    .assign(candidate_id=candidate_df.candidate_id.values.tolist())\n",
    "    .query(f\"candidate_id in {disc_model_dict[value].candidate_id.values.tolist()}\")\n",
    "    .iloc[:,0]\n",
    ")"
   ]
  },
  {
   "cell_type": "code",
   "execution_count": 13,
   "metadata": {
    "ExecuteTime": {
     "end_time": "2019-12-12T18:15:58.586197Z",
     "start_time": "2019-12-12T18:15:58.556159Z"
    }
   },
   "outputs": [],
   "source": [
    "disc_precision, disc_recall, _ = precision_recall_curve(\n",
    "    candidate_df\n",
    "    .query(f\"candidate_id in {disc_model_dict[value].candidate_id.values.tolist()}\")\n",
    "    .curated_dsh\n",
    "    .values, \n",
    "    disc_model_dict[30]['0']\n",
    ")\n",
    "\n",
    "gen_precision, gen_recall, _ = precision_recall_curve(\n",
    "    candidate_df\n",
    "    .query(f\"candidate_id in {disc_model_dict[value].candidate_id.values.tolist()}\")\n",
    "    .curated_dsh\n",
    "    .values,\n",
    "    gen_predicton\n",
    ")"
   ]
  },
  {
   "cell_type": "code",
   "execution_count": 14,
   "metadata": {
    "ExecuteTime": {
     "end_time": "2019-12-12T18:15:58.623831Z",
     "start_time": "2019-12-12T18:15:58.587665Z"
    }
   },
   "outputs": [],
   "source": [
    "pr_perform_df = (\n",
    "    pd.DataFrame(\n",
    "        {'precision':gen_precision, 'recall':gen_recall}\n",
    "    )\n",
    "    .assign(model='gen_model')\n",
    "    .append(\n",
    "        pd.DataFrame(\n",
    "            {'precision':disc_precision, 'recall':disc_recall}\n",
    "        )\n",
    "        .assign(model='disc_model')\n",
    "    )\n",
    ")"
   ]
  },
  {
   "cell_type": "code",
   "execution_count": 15,
   "metadata": {
    "ExecuteTime": {
     "end_time": "2019-12-12T18:15:59.132712Z",
     "start_time": "2019-12-12T18:15:58.627400Z"
    }
   },
   "outputs": [
    {
     "name": "stderr",
     "output_type": "stream",
     "text": [
      "/home/danich1/anaconda3/envs/snorkeling/lib/python3.6/site-packages/plotnine/scales/scale.py:93: MatplotlibDeprecationWarning: \n",
      "The iterable function was deprecated in Matplotlib 3.1 and will be removed in 3.3. Use np.iterable instead.\n",
      "  if cbook.iterable(self.breaks) and cbook.iterable(self.labels):\n",
      "/home/danich1/anaconda3/envs/snorkeling/lib/python3.6/site-packages/plotnine/utils.py:553: MatplotlibDeprecationWarning: \n",
      "The iterable function was deprecated in Matplotlib 3.1 and will be removed in 3.3. Use np.iterable instead.\n",
      "  return cbook.iterable(var) and not is_string(var)\n"
     ]
    },
    {
     "data": {
      "image/png": "[encoded data removed]",
      "text/plain": [
       "<Figure size 640x480 with 1 Axes>"
      ]
     },
     "metadata": {},
     "output_type": "display_data"
    },
    {
     "data": {
      "text/plain": [
       "<ggplot: (-9223363305900930104)>"
      ]
     },
     "execution_count": 15,
     "metadata": {},
     "output_type": "execute_result"
    }
   ],
   "source": [
    "(\n",
    "    p9.ggplot(pr_perform_df, p9.aes(x=\"recall\", y=\"precision\", color=\"factor(model)\")) +\n",
    "    p9.geom_point()+ \n",
    "    p9.geom_line() + \n",
    "    p9.labs(\n",
    "        title= \"Validation PR Curve\",\n",
    "        color=\"Model\"\n",
    "    )+\n",
    "    p9.scale_color_discrete(l=.4)+\n",
    "    p9.theme_seaborn()\n",
    ")"
   ]
  },
  {
   "cell_type": "code",
   "execution_count": 16,
   "metadata": {
    "ExecuteTime": {
     "end_time": "2019-12-12T18:15:59.153476Z",
     "start_time": "2019-12-12T18:15:59.134031Z"
    }
   },
   "outputs": [
    {
     "data": {
      "text/plain": [
       "(0.4784172661870504, 0.875, 0.6186046511627906, None)"
      ]
     },
     "execution_count": 16,
     "metadata": {},
     "output_type": "execute_result"
    }
   ],
   "source": [
    "precision_recall_fscore_support(\n",
    "    candidate_df\n",
    "    .query(f\"candidate_id in {disc_model_dict[value].candidate_id.values.tolist()}\")\n",
    "    .curated_dsh\n",
    "    .values, \n",
    "    gen_predicton.apply(lambda x: 1 if x > 0.5 else 0),\n",
    "    average='binary'\n",
    ")"
   ]
  },
  {
   "cell_type": "code",
   "execution_count": 17,
   "metadata": {
    "ExecuteTime": {
     "end_time": "2019-12-12T18:15:59.184934Z",
     "start_time": "2019-12-12T18:15:59.154552Z"
    }
   },
   "outputs": [
    {
     "data": {
      "text/plain": [
       "(0.48484848484848486, 0.8947368421052632, 0.6289017341040462, None)"
      ]
     },
     "execution_count": 17,
     "metadata": {},
     "output_type": "execute_result"
    }
   ],
   "source": [
    "precision_recall_fscore_support(\n",
    "    candidate_df\n",
    "    .query(f\"candidate_id in {disc_model_dict[value].candidate_id.values.tolist()}\")\n",
    "    .curated_dsh\n",
    "    .values, \n",
    "    disc_model_dict[30]['0'].apply(lambda x: 1 if x > 0.5 else 0),\n",
    "    average='binary'\n",
    ")"
   ]
  },
  {
   "cell_type": "code",
   "execution_count": 18,
   "metadata": {
    "ExecuteTime": {
     "end_time": "2019-12-12T18:15:59.194977Z",
     "start_time": "2019-12-12T18:15:59.186405Z"
    }
   },
   "outputs": [],
   "source": [
    "pr_perform_df.to_csv(\"output/dev_set_pr_performance.tsv\", sep=\"\\t\", index=False)"
   ]
  },
  {
   "cell_type": "markdown",
   "metadata": {},
   "source": [
    "# Test Set"
   ]
  },
  {
   "cell_type": "markdown",
   "metadata": {},
   "source": [
    "## Performance of Disc model vs Gen model for each Label Sample"
   ]
  },
  {
   "cell_type": "code",
   "execution_count": 19,
   "metadata": {
    "ExecuteTime": {
     "end_time": "2019-12-12T18:15:59.219797Z",
     "start_time": "2019-12-12T18:15:59.196586Z"
    },
    "scrolled": true
   },
   "outputs": [
    {
     "data": {
      "text/html": [
       "<div>\n",
       "<style scoped>\n",
       "    .dataframe tbody tr th:only-of-type {\n",
       "        vertical-align: middle;\n",
       "    }\n",
       "\n",
       "    .dataframe tbody tr th {\n",
       "        vertical-align: top;\n",
       "    }\n",
       "\n",
       "    .dataframe thead th {\n",
       "        text-align: right;\n",
       "    }\n",
       "</style>\n",
       "<table border=\"1\" class=\"dataframe\">\n",
       "  <thead>\n",
       "    <tr style=\"text-align: right;\">\n",
       "      <th></th>\n",
       "      <th>candidate_id</th>\n",
       "      <th>curated_dsh</th>\n",
       "    </tr>\n",
       "  </thead>\n",
       "  <tbody>\n",
       "    <tr>\n",
       "      <th>0</th>\n",
       "      <td>23356</td>\n",
       "      <td>0.0</td>\n",
       "    </tr>\n",
       "    <tr>\n",
       "      <th>1</th>\n",
       "      <td>23367</td>\n",
       "      <td>1.0</td>\n",
       "    </tr>\n",
       "    <tr>\n",
       "      <th>2</th>\n",
       "      <td>23820</td>\n",
       "      <td>1.0</td>\n",
       "    </tr>\n",
       "    <tr>\n",
       "      <th>3</th>\n",
       "      <td>24815</td>\n",
       "      <td>0.0</td>\n",
       "    </tr>\n",
       "    <tr>\n",
       "      <th>4</th>\n",
       "      <td>80484</td>\n",
       "      <td>0.0</td>\n",
       "    </tr>\n",
       "  </tbody>\n",
       "</table>\n",
       "</div>"
      ],
      "text/plain": [
       "   candidate_id  curated_dsh\n",
       "0         23356          0.0\n",
       "1         23367          1.0\n",
       "2         23820          1.0\n",
       "3         24815          0.0\n",
       "4         80484          0.0"
      ]
     },
     "execution_count": 19,
     "metadata": {},
     "output_type": "execute_result"
    }
   ],
   "source": [
    "test_labels = pd.read_csv(\"input/dag_test_labels.tsv\", sep=\"\\t\")\n",
    "test_labels.head()"
   ]
  },
  {
   "cell_type": "code",
   "execution_count": 20,
   "metadata": {
    "ExecuteTime": {
     "end_time": "2019-12-12T18:15:59.907489Z",
     "start_time": "2019-12-12T18:15:59.220947Z"
    },
    "scrolled": false
   },
   "outputs": [
    {
     "data": {
      "text/html": [
       "<div>\n",
       "<style scoped>\n",
       "    .dataframe tbody tr th:only-of-type {\n",
       "        vertical-align: middle;\n",
       "    }\n",
       "\n",
       "    .dataframe tbody tr th {\n",
       "        vertical-align: top;\n",
       "    }\n",
       "\n",
       "    .dataframe thead th {\n",
       "        text-align: right;\n",
       "    }\n",
       "</style>\n",
       "<table border=\"1\" class=\"dataframe\">\n",
       "  <thead>\n",
       "    <tr style=\"text-align: right;\">\n",
       "      <th></th>\n",
       "      <th>candidate_id</th>\n",
       "      <th>disease</th>\n",
       "      <th>gene</th>\n",
       "      <th>doid_id</th>\n",
       "      <th>entrez_gene_id</th>\n",
       "      <th>sentence</th>\n",
       "      <th>curated_dsh</th>\n",
       "      <th>notes_dsh</th>\n",
       "      <th>curated_dug</th>\n",
       "      <th>notes_dug</th>\n",
       "      <th>curated_ddg</th>\n",
       "      <th>notes_ddg</th>\n",
       "    </tr>\n",
       "  </thead>\n",
       "  <tbody>\n",
       "    <tr>\n",
       "      <th>0</th>\n",
       "      <td>23356</td>\n",
       "      <td>extrinsic asthma</td>\n",
       "      <td>ACTH)</td>\n",
       "      <td>DOID:2841</td>\n",
       "      <td>5443</td>\n",
       "      <td>hypothalamic-pituitary-adrenal function in a w...</td>\n",
       "      <td>0.0</td>\n",
       "      <td>NaN</td>\n",
       "      <td>0.0</td>\n",
       "      <td>NaN</td>\n",
       "      <td>0.0</td>\n",
       "      <td>NaN</td>\n",
       "    </tr>\n",
       "    <tr>\n",
       "      <th>1</th>\n",
       "      <td>23367</td>\n",
       "      <td>RA</td>\n",
       "      <td>GGTP</td>\n",
       "      <td>DOID:7148</td>\n",
       "      <td>92086</td>\n",
       "      <td>the values for ~~[[2 ggtp 2]]~~ were significa...</td>\n",
       "      <td>1.0</td>\n",
       "      <td>NaN</td>\n",
       "      <td>1.0</td>\n",
       "      <td>NaN</td>\n",
       "      <td>0.0</td>\n",
       "      <td>NaN</td>\n",
       "    </tr>\n",
       "    <tr>\n",
       "      <th>2</th>\n",
       "      <td>23820</td>\n",
       "      <td>hepatitis B</td>\n",
       "      <td>eAg)</td>\n",
       "      <td>DOID:2043</td>\n",
       "      <td>3756</td>\n",
       "      <td>a family of antigens , referred to collectivel...</td>\n",
       "      <td>1.0</td>\n",
       "      <td>NaN</td>\n",
       "      <td>0.0</td>\n",
       "      <td>NaN</td>\n",
       "      <td>0.0</td>\n",
       "      <td>NaN</td>\n",
       "    </tr>\n",
       "    <tr>\n",
       "      <th>3</th>\n",
       "      <td>24815</td>\n",
       "      <td>hepatoma</td>\n",
       "      <td>Mitochondrial ATPase</td>\n",
       "      <td>DOID:3571</td>\n",
       "      <td>514</td>\n",
       "      <td>~~[[2 mitochondrial atpase 2]]~~ activities of...</td>\n",
       "      <td>0.0</td>\n",
       "      <td>NaN</td>\n",
       "      <td>0.0</td>\n",
       "      <td>NaN</td>\n",
       "      <td>0.0</td>\n",
       "      <td>NaN</td>\n",
       "    </tr>\n",
       "    <tr>\n",
       "      <th>4</th>\n",
       "      <td>80484</td>\n",
       "      <td>hypertensive</td>\n",
       "      <td>fibrinogen</td>\n",
       "      <td>DOID:10763</td>\n",
       "      <td>2244</td>\n",
       "      <td>the blood pressure , the plasma renin activity...</td>\n",
       "      <td>0.0</td>\n",
       "      <td>NaN</td>\n",
       "      <td>0.0</td>\n",
       "      <td>NaN</td>\n",
       "      <td>0.0</td>\n",
       "      <td>NaN</td>\n",
       "    </tr>\n",
       "  </tbody>\n",
       "</table>\n",
       "</div>"
      ],
      "text/plain": [
       "   candidate_id           disease                  gene     doid_id  \\\n",
       "0         23356  extrinsic asthma                 ACTH)   DOID:2841   \n",
       "1         23367                RA                  GGTP   DOID:7148   \n",
       "2         23820       hepatitis B                  eAg)   DOID:2043   \n",
       "3         24815          hepatoma  Mitochondrial ATPase   DOID:3571   \n",
       "4         80484      hypertensive            fibrinogen  DOID:10763   \n",
       "\n",
       "   entrez_gene_id                                           sentence  \\\n",
       "0            5443  hypothalamic-pituitary-adrenal function in a w...   \n",
       "1           92086  the values for ~~[[2 ggtp 2]]~~ were significa...   \n",
       "2            3756  a family of antigens , referred to collectivel...   \n",
       "3             514  ~~[[2 mitochondrial atpase 2]]~~ activities of...   \n",
       "4            2244  the blood pressure , the plasma renin activity...   \n",
       "\n",
       "   curated_dsh notes_dsh  curated_dug notes_dug  curated_ddg notes_ddg  \n",
       "0          0.0       NaN          0.0       NaN          0.0       NaN  \n",
       "1          1.0       NaN          1.0       NaN          0.0       NaN  \n",
       "2          1.0       NaN          0.0       NaN          0.0       NaN  \n",
       "3          0.0       NaN          0.0       NaN          0.0       NaN  \n",
       "4          0.0       NaN          0.0       NaN          0.0       NaN  "
      ]
     },
     "execution_count": 20,
     "metadata": {},
     "output_type": "execute_result"
    }
   ],
   "source": [
    "candidate_df = (\n",
    "    pd.read_excel(\"../data/sentences/sentence_labels_test.xlsx\")\n",
    "    .sort_values(\"candidate_id\")\n",
    "    .query(\"curated_dsh.notnull()\")\n",
    ")\n",
    "candidate_df.head()"
   ]
  },
  {
   "cell_type": "code",
   "execution_count": 21,
   "metadata": {
    "ExecuteTime": {
     "end_time": "2019-12-12T18:15:59.914381Z",
     "start_time": "2019-12-12T18:15:59.908918Z"
    }
   },
   "outputs": [],
   "source": [
    "gen_model_results_test_df = pd.read_csv(\n",
    "    \"../label_sampling_experiment/results/DaG/results/test_sampled_results.tsv\", \n",
    "    sep=\"\\t\"\n",
    ")"
   ]
  },
  {
   "cell_type": "code",
   "execution_count": 22,
   "metadata": {
    "ExecuteTime": {
     "end_time": "2019-12-12T18:15:59.973327Z",
     "start_time": "2019-12-12T18:15:59.915563Z"
    }
   },
   "outputs": [],
   "source": [
    "disc_model_dict = {}\n",
    "\n",
    "for value in gen_model_results_test_df.lf_num.unique():\n",
    "\n",
    "    disc_model_dict[value] = (\n",
    "        pd.read_csv(f\"input/disc_model_run/{value}/test.tsv\", sep=\"\\t\")\n",
    "    )"
   ]
  },
  {
   "cell_type": "code",
   "execution_count": 23,
   "metadata": {
    "ExecuteTime": {
     "end_time": "2019-12-12T18:16:02.870291Z",
     "start_time": "2019-12-12T18:15:59.976900Z"
    }
   },
   "outputs": [],
   "source": [
    "records = []\n",
    "for sample in disc_model_dict:\n",
    "        for column in disc_model_dict[sample].drop(\"candidate_id\", axis=1).columns:\n",
    "            aucs = get_au_performance(\n",
    "                disc_model_dict[sample][column], \n",
    "                candidate_df\n",
    "                .query(f\"candidate_id in {disc_model_dict[value].candidate_id.values.tolist()}\")\n",
    "                .curated_dsh\n",
    "                .values\n",
    "            )\n",
    "            records.append({\n",
    "                \"model\": \"disc_model\",\n",
    "                \"lf_num\": int(sample),\n",
    "                \"auroc\": aucs[0],\n",
    "                \"aupr\": aucs[1]\n",
    "            })\n",
    "\n",
    "test_set_df = (\n",
    "    pd.DataFrame.from_records(records)\n",
    "    .append(\n",
    "        gen_model_results_test_df\n",
    "        .drop(\"lf_sample\", axis=1)\n",
    "        .assign(model=\"gen_model\")\n",
    "    )\n",
    ")"
   ]
  },
  {
   "cell_type": "code",
   "execution_count": 24,
   "metadata": {
    "ExecuteTime": {
     "end_time": "2019-12-12T18:16:02.908905Z",
     "start_time": "2019-12-12T18:16:02.872412Z"
    }
   },
   "outputs": [
    {
     "data": {
      "text/html": [
       "<div>\n",
       "<style scoped>\n",
       "    .dataframe tbody tr th:only-of-type {\n",
       "        vertical-align: middle;\n",
       "    }\n",
       "\n",
       "    .dataframe tbody tr th {\n",
       "        vertical-align: top;\n",
       "    }\n",
       "\n",
       "    .dataframe thead th {\n",
       "        text-align: right;\n",
       "    }\n",
       "</style>\n",
       "<table border=\"1\" class=\"dataframe\">\n",
       "  <thead>\n",
       "    <tr style=\"text-align: right;\">\n",
       "      <th></th>\n",
       "      <th>lf_num</th>\n",
       "      <th>model</th>\n",
       "      <th>auroc_mean</th>\n",
       "      <th>auroc_std</th>\n",
       "      <th>aupr_mean</th>\n",
       "      <th>aupr_std</th>\n",
       "      <th>lf_num_len</th>\n",
       "      <th>auroc_upper</th>\n",
       "      <th>auroc_lower</th>\n",
       "      <th>aupr_upper</th>\n",
       "      <th>aupr_lower</th>\n",
       "    </tr>\n",
       "  </thead>\n",
       "  <tbody>\n",
       "    <tr>\n",
       "      <th>0</th>\n",
       "      <td>0</td>\n",
       "      <td>disc_model</td>\n",
       "      <td>0.565748</td>\n",
       "      <td>0.000000</td>\n",
       "      <td>0.455269</td>\n",
       "      <td>0.000000</td>\n",
       "      <td>1</td>\n",
       "      <td>0.565748</td>\n",
       "      <td>0.565748</td>\n",
       "      <td>0.455269</td>\n",
       "      <td>0.455269</td>\n",
       "    </tr>\n",
       "    <tr>\n",
       "      <th>1</th>\n",
       "      <td>0</td>\n",
       "      <td>gen_model</td>\n",
       "      <td>0.571414</td>\n",
       "      <td>0.000000</td>\n",
       "      <td>0.434471</td>\n",
       "      <td>0.000000</td>\n",
       "      <td>1</td>\n",
       "      <td>0.571414</td>\n",
       "      <td>0.571414</td>\n",
       "      <td>0.434471</td>\n",
       "      <td>0.434471</td>\n",
       "    </tr>\n",
       "    <tr>\n",
       "      <th>2</th>\n",
       "      <td>1</td>\n",
       "      <td>disc_model</td>\n",
       "      <td>0.556329</td>\n",
       "      <td>0.005265</td>\n",
       "      <td>0.418315</td>\n",
       "      <td>0.009031</td>\n",
       "      <td>50</td>\n",
       "      <td>0.557789</td>\n",
       "      <td>0.554870</td>\n",
       "      <td>0.420818</td>\n",
       "      <td>0.415811</td>\n",
       "    </tr>\n",
       "    <tr>\n",
       "      <th>3</th>\n",
       "      <td>1</td>\n",
       "      <td>gen_model</td>\n",
       "      <td>0.573495</td>\n",
       "      <td>0.005757</td>\n",
       "      <td>0.433342</td>\n",
       "      <td>0.008444</td>\n",
       "      <td>50</td>\n",
       "      <td>0.575091</td>\n",
       "      <td>0.571900</td>\n",
       "      <td>0.435682</td>\n",
       "      <td>0.431001</td>\n",
       "    </tr>\n",
       "    <tr>\n",
       "      <th>4</th>\n",
       "      <td>6</td>\n",
       "      <td>disc_model</td>\n",
       "      <td>0.602681</td>\n",
       "      <td>0.028509</td>\n",
       "      <td>0.461379</td>\n",
       "      <td>0.027995</td>\n",
       "      <td>50</td>\n",
       "      <td>0.610584</td>\n",
       "      <td>0.594779</td>\n",
       "      <td>0.469138</td>\n",
       "      <td>0.453619</td>\n",
       "    </tr>\n",
       "    <tr>\n",
       "      <th>5</th>\n",
       "      <td>6</td>\n",
       "      <td>gen_model</td>\n",
       "      <td>0.586933</td>\n",
       "      <td>0.019953</td>\n",
       "      <td>0.442085</td>\n",
       "      <td>0.020246</td>\n",
       "      <td>50</td>\n",
       "      <td>0.592464</td>\n",
       "      <td>0.581402</td>\n",
       "      <td>0.447697</td>\n",
       "      <td>0.436473</td>\n",
       "    </tr>\n",
       "    <tr>\n",
       "      <th>6</th>\n",
       "      <td>11</td>\n",
       "      <td>disc_model</td>\n",
       "      <td>0.625183</td>\n",
       "      <td>0.028391</td>\n",
       "      <td>0.473549</td>\n",
       "      <td>0.029291</td>\n",
       "      <td>50</td>\n",
       "      <td>0.633052</td>\n",
       "      <td>0.617314</td>\n",
       "      <td>0.481667</td>\n",
       "      <td>0.465430</td>\n",
       "    </tr>\n",
       "    <tr>\n",
       "      <th>7</th>\n",
       "      <td>11</td>\n",
       "      <td>gen_model</td>\n",
       "      <td>0.596157</td>\n",
       "      <td>0.022813</td>\n",
       "      <td>0.443595</td>\n",
       "      <td>0.022454</td>\n",
       "      <td>50</td>\n",
       "      <td>0.602480</td>\n",
       "      <td>0.589833</td>\n",
       "      <td>0.449818</td>\n",
       "      <td>0.437371</td>\n",
       "    </tr>\n",
       "    <tr>\n",
       "      <th>8</th>\n",
       "      <td>16</td>\n",
       "      <td>disc_model</td>\n",
       "      <td>0.640360</td>\n",
       "      <td>0.025323</td>\n",
       "      <td>0.485647</td>\n",
       "      <td>0.027364</td>\n",
       "      <td>50</td>\n",
       "      <td>0.647379</td>\n",
       "      <td>0.633341</td>\n",
       "      <td>0.493232</td>\n",
       "      <td>0.478062</td>\n",
       "    </tr>\n",
       "    <tr>\n",
       "      <th>9</th>\n",
       "      <td>16</td>\n",
       "      <td>gen_model</td>\n",
       "      <td>0.602583</td>\n",
       "      <td>0.014914</td>\n",
       "      <td>0.440699</td>\n",
       "      <td>0.015235</td>\n",
       "      <td>50</td>\n",
       "      <td>0.606717</td>\n",
       "      <td>0.598449</td>\n",
       "      <td>0.444922</td>\n",
       "      <td>0.436477</td>\n",
       "    </tr>\n",
       "    <tr>\n",
       "      <th>10</th>\n",
       "      <td>30</td>\n",
       "      <td>disc_model</td>\n",
       "      <td>0.672920</td>\n",
       "      <td>0.000000</td>\n",
       "      <td>0.525871</td>\n",
       "      <td>0.000000</td>\n",
       "      <td>1</td>\n",
       "      <td>0.672920</td>\n",
       "      <td>0.672920</td>\n",
       "      <td>0.525871</td>\n",
       "      <td>0.525871</td>\n",
       "    </tr>\n",
       "    <tr>\n",
       "      <th>11</th>\n",
       "      <td>30</td>\n",
       "      <td>gen_model</td>\n",
       "      <td>0.620354</td>\n",
       "      <td>0.000000</td>\n",
       "      <td>0.445212</td>\n",
       "      <td>0.000000</td>\n",
       "      <td>50</td>\n",
       "      <td>0.620354</td>\n",
       "      <td>0.620354</td>\n",
       "      <td>0.445212</td>\n",
       "      <td>0.445212</td>\n",
       "    </tr>\n",
       "  </tbody>\n",
       "</table>\n",
       "</div>"
      ],
      "text/plain": [
       "    lf_num       model  auroc_mean  auroc_std  aupr_mean  aupr_std  \\\n",
       "0        0  disc_model    0.565748   0.000000   0.455269  0.000000   \n",
       "1        0   gen_model    0.571414   0.000000   0.434471  0.000000   \n",
       "2        1  disc_model    0.556329   0.005265   0.418315  0.009031   \n",
       "3        1   gen_model    0.573495   0.005757   0.433342  0.008444   \n",
       "4        6  disc_model    0.602681   0.028509   0.461379  0.027995   \n",
       "5        6   gen_model    0.586933   0.019953   0.442085  0.020246   \n",
       "6       11  disc_model    0.625183   0.028391   0.473549  0.029291   \n",
       "7       11   gen_model    0.596157   0.022813   0.443595  0.022454   \n",
       "8       16  disc_model    0.640360   0.025323   0.485647  0.027364   \n",
       "9       16   gen_model    0.602583   0.014914   0.440699  0.015235   \n",
       "10      30  disc_model    0.672920   0.000000   0.525871  0.000000   \n",
       "11      30   gen_model    0.620354   0.000000   0.445212  0.000000   \n",
       "\n",
       "    lf_num_len  auroc_upper  auroc_lower  aupr_upper  aupr_lower  \n",
       "0            1     0.565748     0.565748    0.455269    0.455269  \n",
       "1            1     0.571414     0.571414    0.434471    0.434471  \n",
       "2           50     0.557789     0.554870    0.420818    0.415811  \n",
       "3           50     0.575091     0.571900    0.435682    0.431001  \n",
       "4           50     0.610584     0.594779    0.469138    0.453619  \n",
       "5           50     0.592464     0.581402    0.447697    0.436473  \n",
       "6           50     0.633052     0.617314    0.481667    0.465430  \n",
       "7           50     0.602480     0.589833    0.449818    0.437371  \n",
       "8           50     0.647379     0.633341    0.493232    0.478062  \n",
       "9           50     0.606717     0.598449    0.444922    0.436477  \n",
       "10           1     0.672920     0.672920    0.525871    0.525871  \n",
       "11          50     0.620354     0.620354    0.445212    0.445212  "
      ]
     },
     "execution_count": 24,
     "metadata": {},
     "output_type": "execute_result"
    }
   ],
   "source": [
    "test_set_stats_df = (\n",
    "    test_set_df\n",
    "    .groupby([\"lf_num\", \"model\"])\n",
    "    .agg({\n",
    "    \"auroc\": ['mean', 'std'],\n",
    "    \"aupr\": ['mean', 'std'],\n",
    "    \"lf_num\": len\n",
    "    })\n",
    "    .reset_index()\n",
    "    .fillna(0)\n",
    ")\n",
    "test_set_stats_df.columns = [\n",
    "    \"_\".join(col) \n",
    "    if col[1] != '' and col[0] not in ['hetionet', 'gene_symbol', 'doid_name', 'split'] else col[0] \n",
    "    for col in test_set_stats_df.columns.values\n",
    "]\n",
    "\n",
    "critical_val = ss.norm.ppf(0.975)\n",
    "\n",
    "test_set_stats_df = (\n",
    "    test_set_stats_df\n",
    "    .assign(\n",
    "        **{\n",
    "            'auroc_upper': lambda x: x.auroc_mean + (critical_val * x.auroc_std)/pd.np.sqrt(x.lf_num_len),\n",
    "            'auroc_lower': lambda x: x.auroc_mean - (critical_val * x.auroc_std)/pd.np.sqrt(x.lf_num_len),\n",
    "            'aupr_upper': lambda x: x.aupr_mean + (critical_val * x.aupr_std)/pd.np.sqrt(x.lf_num_len),\n",
    "            'aupr_lower':lambda x: x.aupr_mean - (critical_val * x.aupr_std)/pd.np.sqrt(x.lf_num_len)\n",
    "        }\n",
    "    )\n",
    ")\n",
    "test_set_stats_df"
   ]
  },
  {
   "cell_type": "code",
   "execution_count": 25,
   "metadata": {
    "ExecuteTime": {
     "end_time": "2019-12-12T18:16:03.485520Z",
     "start_time": "2019-12-12T18:16:02.910598Z"
    }
   },
   "outputs": [
    {
     "name": "stderr",
     "output_type": "stream",
     "text": [
      "/home/danich1/anaconda3/envs/snorkeling/lib/python3.6/site-packages/plotnine/scales/scale.py:93: MatplotlibDeprecationWarning: \n",
      "The iterable function was deprecated in Matplotlib 3.1 and will be removed in 3.3. Use np.iterable instead.\n",
      "  if cbook.iterable(self.breaks) and cbook.iterable(self.labels):\n",
      "/home/danich1/anaconda3/envs/snorkeling/lib/python3.6/site-packages/plotnine/utils.py:553: MatplotlibDeprecationWarning: \n",
      "The iterable function was deprecated in Matplotlib 3.1 and will be removed in 3.3. Use np.iterable instead.\n",
      "  return cbook.iterable(var) and not is_string(var)\n"
     ]
    },
    {
     "data": {
      "image/png": "[encoded data removed]",
      "text/plain": [
       "<Figure size 640x480 with 1 Axes>"
      ]
     },
     "metadata": {},
     "output_type": "display_data"
    },
    {
     "data": {
      "text/plain": [
       "<ggplot: (-9223363305901186791)>"
      ]
     },
     "execution_count": 25,
     "metadata": {},
     "output_type": "execute_result"
    }
   ],
   "source": [
    "(\n",
    "    p9.ggplot(test_set_stats_df, p9.aes(x=\"factor(lf_num)\", y=\"auroc_mean\", color=\"model\"))\n",
    "    + p9.geom_point()\n",
    "    + p9.geom_line(p9.aes(group=\"model\"))\n",
    "    + p9.geom_errorbar(p9.aes(ymin=\"auroc_lower\", ymax=\"auroc_upper\", group=\"model\"))\n",
    "    + p9.theme_seaborn()\n",
    "    + p9.labs(\n",
    "        title= \"DaG Test Set AUROC\",\n",
    "        color=\"Model\"\n",
    "    )\n",
    "    + p9.scale_color_manual({\n",
    "        \"disc_model\": \"blue\",\n",
    "        \"gen_model\": \"orange\"\n",
    "    })\n",
    "    + p9.scale_y_continuous(limits=[0.5, 0.75])\n",
    ")"
   ]
  },
  {
   "cell_type": "code",
   "execution_count": 26,
   "metadata": {
    "ExecuteTime": {
     "end_time": "2019-12-12T18:16:04.056595Z",
     "start_time": "2019-12-12T18:16:03.486937Z"
    }
   },
   "outputs": [
    {
     "name": "stderr",
     "output_type": "stream",
     "text": [
      "/home/danich1/anaconda3/envs/snorkeling/lib/python3.6/site-packages/plotnine/scales/scale.py:93: MatplotlibDeprecationWarning: \n",
      "The iterable function was deprecated in Matplotlib 3.1 and will be removed in 3.3. Use np.iterable instead.\n",
      "  if cbook.iterable(self.breaks) and cbook.iterable(self.labels):\n",
      "/home/danich1/anaconda3/envs/snorkeling/lib/python3.6/site-packages/plotnine/utils.py:553: MatplotlibDeprecationWarning: \n",
      "The iterable function was deprecated in Matplotlib 3.1 and will be removed in 3.3. Use np.iterable instead.\n",
      "  return cbook.iterable(var) and not is_string(var)\n"
     ]
    },
    {
     "data": {
      "image/png": "[encoded data removed]",
      "text/plain": [
       "<Figure size 640x480 with 1 Axes>"
      ]
     },
     "metadata": {},
     "output_type": "display_data"
    },
    {
     "data": {
      "text/plain": [
       "<ggplot: (8730953588344)>"
      ]
     },
     "execution_count": 26,
     "metadata": {},
     "output_type": "execute_result"
    }
   ],
   "source": [
    "(\n",
    "    p9.ggplot(test_set_stats_df, p9.aes(x=\"factor(lf_num)\", y=\"aupr_mean\", color=\"model\"))\n",
    "    + p9.geom_point()\n",
    "    + p9.geom_line(p9.aes(group=\"model\"))\n",
    "    + p9.geom_errorbar(p9.aes(ymin=\"aupr_lower\", ymax=\"aupr_upper\", group=\"model\"))\n",
    "    + p9.theme_seaborn()\n",
    "    + p9.labs(\n",
    "        title= \"DaG Test Set AUPR\",\n",
    "        color=\"Model\"\n",
    "    )\n",
    "    + p9.scale_color_manual({\n",
    "        \"disc_model\": \"blue\",\n",
    "        \"gen_model\": \"orange\"\n",
    "    })\n",
    "    + p9.scale_y_continuous(limits=[0.4, 0.55])\n",
    ")"
   ]
  },
  {
   "cell_type": "code",
   "execution_count": 27,
   "metadata": {
    "ExecuteTime": {
     "end_time": "2019-12-12T18:16:04.073056Z",
     "start_time": "2019-12-12T18:16:04.058223Z"
    }
   },
   "outputs": [],
   "source": [
    "test_set_df.to_csv(\"output/test_set_disc_performance.tsv\", index=False, sep=\"\\t\")"
   ]
  },
  {
   "cell_type": "markdown",
   "metadata": {},
   "source": [
    "##  Precision-Recall Improvement over Generative Model"
   ]
  },
  {
   "cell_type": "code",
   "execution_count": 28,
   "metadata": {
    "ExecuteTime": {
     "end_time": "2019-12-12T18:16:04.247284Z",
     "start_time": "2019-12-12T18:16:04.074274Z"
    }
   },
   "outputs": [],
   "source": [
    "gen_predicton = (\n",
    "    pd.read_csv(\n",
    "        \"../label_sampling_experiment/results/DaG/marginals/test/30_sampled_test.tsv\",\n",
    "        sep=\"\\t\"\n",
    "    )\n",
    "    .assign(candidate_id=candidate_df.candidate_id.values.tolist())\n",
    "    .query(f\"candidate_id in {disc_model_dict[value].candidate_id.values.tolist()}\")\n",
    "    .iloc[:,0]\n",
    ")"
   ]
  },
  {
   "cell_type": "code",
   "execution_count": 29,
   "metadata": {
    "ExecuteTime": {
     "end_time": "2019-12-12T18:16:04.303829Z",
     "start_time": "2019-12-12T18:16:04.248537Z"
    }
   },
   "outputs": [],
   "source": [
    "disc_precision, disc_recall, _ = precision_recall_curve(\n",
    "    candidate_df\n",
    "    .query(f\"candidate_id in {disc_model_dict[value].candidate_id.values.tolist()}\")\n",
    "    .curated_dsh\n",
    "    .values, \n",
    "    disc_model_dict[30]['0']\n",
    ")\n",
    "\n",
    "gen_precision, gen_recall, _ = precision_recall_curve(\n",
    "    candidate_df\n",
    "    .query(f\"candidate_id in {disc_model_dict[value].candidate_id.values.tolist()}\")\n",
    "    .curated_dsh\n",
    "    .values,\n",
    "    gen_predicton\n",
    ")"
   ]
  },
  {
   "cell_type": "code",
   "execution_count": 30,
   "metadata": {
    "ExecuteTime": {
     "end_time": "2019-12-12T18:16:04.360231Z",
     "start_time": "2019-12-12T18:16:04.307216Z"
    }
   },
   "outputs": [],
   "source": [
    "pr_perform_df = (\n",
    "    pd.DataFrame(\n",
    "        {'precision':gen_precision, 'recall':gen_recall}\n",
    "    )\n",
    "    .assign(model='gen_model')\n",
    "    .append(\n",
    "        pd.DataFrame(\n",
    "            {'precision':disc_precision, 'recall':disc_recall}\n",
    "        )\n",
    "        .assign(model='disc_model')\n",
    "    )\n",
    ")"
   ]
  },
  {
   "cell_type": "code",
   "execution_count": 31,
   "metadata": {
    "ExecuteTime": {
     "end_time": "2019-12-12T18:16:04.933194Z",
     "start_time": "2019-12-12T18:16:04.363215Z"
    }
   },
   "outputs": [
    {
     "name": "stderr",
     "output_type": "stream",
     "text": [
      "/home/danich1/anaconda3/envs/snorkeling/lib/python3.6/site-packages/plotnine/scales/scale.py:93: MatplotlibDeprecationWarning: \n",
      "The iterable function was deprecated in Matplotlib 3.1 and will be removed in 3.3. Use np.iterable instead.\n",
      "  if cbook.iterable(self.breaks) and cbook.iterable(self.labels):\n",
      "/home/danich1/anaconda3/envs/snorkeling/lib/python3.6/site-packages/plotnine/utils.py:553: MatplotlibDeprecationWarning: \n",
      "The iterable function was deprecated in Matplotlib 3.1 and will be removed in 3.3. Use np.iterable instead.\n",
      "  return cbook.iterable(var) and not is_string(var)\n"
     ]
    },
    {
     "data": {
      "image/png": "[encoded data removed]",
      "text/plain": [
       "<Figure size 640x480 with 1 Axes>"
      ]
     },
     "metadata": {},
     "output_type": "display_data"
    },
    {
     "data": {
      "text/plain": [
       "<ggplot: (8730953459278)>"
      ]
     },
     "execution_count": 31,
     "metadata": {},
     "output_type": "execute_result"
    }
   ],
   "source": [
    "(\n",
    "    p9.ggplot(pr_perform_df, p9.aes(x=\"recall\", y=\"precision\", color=\"factor(model)\")) +\n",
    "    p9.geom_point()+ \n",
    "    p9.geom_line() + \n",
    "    p9.labs(\n",
    "        title= \"Test PR Curve\",\n",
    "        color=\"Model\"\n",
    "    )+\n",
    "    p9.scale_color_discrete(l=.4)+\n",
    "    p9.theme_seaborn()\n",
    ")"
   ]
  },
  {
   "cell_type": "code",
   "execution_count": 32,
   "metadata": {
    "ExecuteTime": {
     "end_time": "2019-12-12T18:16:04.957146Z",
     "start_time": "2019-12-12T18:16:04.934399Z"
    }
   },
   "outputs": [
    {
     "data": {
      "text/plain": [
       "(0.4540441176470588, 0.7791798107255521, 0.5737514518002322, None)"
      ]
     },
     "execution_count": 32,
     "metadata": {},
     "output_type": "execute_result"
    }
   ],
   "source": [
    "precision_recall_fscore_support(\n",
    "    candidate_df\n",
    "    .query(f\"candidate_id in {disc_model_dict[value].candidate_id.values.tolist()}\")\n",
    "    .curated_dsh\n",
    "    .values, \n",
    "    gen_predicton.apply(lambda x: 1 if x > 0.5 else 0),\n",
    "    average='binary'\n",
    ")"
   ]
  },
  {
   "cell_type": "code",
   "execution_count": 33,
   "metadata": {
    "ExecuteTime": {
     "end_time": "2019-12-12T18:16:04.998747Z",
     "start_time": "2019-12-12T18:16:04.958497Z"
    }
   },
   "outputs": [
    {
     "data": {
      "text/plain": [
       "(0.4833948339483395, 0.8264984227129337, 0.6100116414435389, None)"
      ]
     },
     "execution_count": 33,
     "metadata": {},
     "output_type": "execute_result"
    }
   ],
   "source": [
    "precision_recall_fscore_support(\n",
    "    candidate_df\n",
    "    .query(f\"candidate_id in {disc_model_dict[value].candidate_id.values.tolist()}\")\n",
    "    .curated_dsh\n",
    "    .values, \n",
    "    disc_model_dict[30]['0'].apply(lambda x: 1 if x > 0.5 else 0),\n",
    "    average='binary'\n",
    ")"
   ]
  },
  {
   "cell_type": "code",
   "execution_count": 34,
   "metadata": {
    "ExecuteTime": {
     "end_time": "2019-12-12T18:16:05.009070Z",
     "start_time": "2019-12-12T18:16:05.000406Z"
    }
   },
   "outputs": [],
   "source": [
    "pr_perform_df.to_csv(\"output/test_set_pr_performance.tsv\", sep=\"\\t\", index=False)"
   ]
  }
 ],
 "metadata": {
  "kernelspec": {
   "display_name": "Python [conda env:snorkeling]",
   "language": "python",
   "name": "conda-env-snorkeling-py"
  },
  "language_info": {
   "codemirror_mode": {
    "name": "ipython",
    "version": 3
   },
   "file_extension": ".py",
   "mimetype": "text/x-python",
   "name": "python",
   "nbconvert_exporter": "python",
   "pygments_lexer": "ipython3",
   "version": "3.6.7"
  },
  "toc": {
   "base_numbering": 1,
   "nav_menu": {},
   "number_sections": true,
   "sideBar": true,
   "skip_h1_title": false,
   "title_cell": "Table of Contents",
   "title_sidebar": "Contents",
   "toc_cell": false,
   "toc_position": {},
   "toc_section_display": true,
   "toc_window_display": false
  },
  "varInspector": {
   "cols": {
    "lenName": 16,
    "lenType": 16,
    "lenVar": 40
   },
   "kernels_config": {
    "python": {
     "delete_cmd_postfix": "",
     "delete_cmd_prefix": "del ",
     "library": "var_list.py",
     "varRefreshCmd": "print(var_dic_list())"
    },
    "r": {
     "delete_cmd_postfix": ") ",
     "delete_cmd_prefix": "rm(",
     "library": "var_list.r",
     "varRefreshCmd": "cat(var_dic_list()) "
    }
   },
   "types_to_exclude": [
    "module",
    "function",
    "builtin_function_or_method",
    "instance",
    "_Feature"
   ],
   "window_display": false
  }
 },
 "nbformat": 4,
 "nbformat_minor": 2
}
