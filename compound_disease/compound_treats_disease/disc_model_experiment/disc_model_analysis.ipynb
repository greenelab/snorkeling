{
 "cells": [
  {
   "cell_type": "markdown",
   "metadata": {},
   "source": [
    "# Discriminator Model Performance"
   ]
  },
  {
   "cell_type": "markdown",
   "metadata": {},
   "source": [
    "This notebook is designed to analyze the discriminator model's performance. Once the generative model labels our data, the discriminator model takes those labels and improves on predictions. For this notebook we are using a generative model trained on Compound treats Disease label functions to predict Compound treats Disease sentences. Performance for each model is reported in area under the receiver operating curve (AUROC) and area under the precision recall curve (AUPR)."
   ]
  },
  {
   "cell_type": "code",
   "execution_count": 1,
   "metadata": {
    "ExecuteTime": {
     "end_time": "2019-12-12T18:21:14.546197Z",
     "start_time": "2019-12-12T18:21:13.620005Z"
    }
   },
   "outputs": [],
   "source": [
    "import glob\n",
    "import os\n",
    "import pandas as pd\n",
    "\n",
    "import plotnine as p9\n",
    "import scipy.stats as ss\n",
    "from sklearn.metrics import auc, precision_recall_curve, roc_curve, precision_recall_fscore_support"
   ]
  },
  {
   "cell_type": "markdown",
   "metadata": {},
   "source": [
    "# Tune Set"
   ]
  },
  {
   "cell_type": "markdown",
   "metadata": {},
   "source": [
    "## Performance of Disc model vs Gen model for each Label Sample"
   ]
  },
  {
   "cell_type": "code",
   "execution_count": 2,
   "metadata": {
    "ExecuteTime": {
     "end_time": "2019-12-12T18:21:14.560796Z",
     "start_time": "2019-12-12T18:21:14.547471Z"
    },
    "scrolled": true
   },
   "outputs": [
    {
     "data": {
      "text/html": [
       "<div>\n",
       "<style scoped>\n",
       "    .dataframe tbody tr th:only-of-type {\n",
       "        vertical-align: middle;\n",
       "    }\n",
       "\n",
       "    .dataframe tbody tr th {\n",
       "        vertical-align: top;\n",
       "    }\n",
       "\n",
       "    .dataframe thead th {\n",
       "        text-align: right;\n",
       "    }\n",
       "</style>\n",
       "<table border=\"1\" class=\"dataframe\">\n",
       "  <thead>\n",
       "    <tr style=\"text-align: right;\">\n",
       "      <th></th>\n",
       "      <th>candidate_id</th>\n",
       "      <th>curated_ctd</th>\n",
       "    </tr>\n",
       "  </thead>\n",
       "  <tbody>\n",
       "    <tr>\n",
       "      <th>0</th>\n",
       "      <td>65897</td>\n",
       "      <td>0.0</td>\n",
       "    </tr>\n",
       "    <tr>\n",
       "      <th>1</th>\n",
       "      <td>65932</td>\n",
       "      <td>0.0</td>\n",
       "    </tr>\n",
       "    <tr>\n",
       "      <th>2</th>\n",
       "      <td>66091</td>\n",
       "      <td>0.0</td>\n",
       "    </tr>\n",
       "    <tr>\n",
       "      <th>3</th>\n",
       "      <td>66144</td>\n",
       "      <td>0.0</td>\n",
       "    </tr>\n",
       "    <tr>\n",
       "      <th>4</th>\n",
       "      <td>66388</td>\n",
       "      <td>0.0</td>\n",
       "    </tr>\n",
       "  </tbody>\n",
       "</table>\n",
       "</div>"
      ],
      "text/plain": [
       "   candidate_id  curated_ctd\n",
       "0         65897          0.0\n",
       "1         65932          0.0\n",
       "2         66091          0.0\n",
       "3         66144          0.0\n",
       "4         66388          0.0"
      ]
     },
     "execution_count": 2,
     "metadata": {},
     "output_type": "execute_result"
    }
   ],
   "source": [
    "dev_labels = pd.read_csv(\"input/ctd_dev_labels.tsv\", sep=\"\\t\")\n",
    "dev_labels.head()"
   ]
  },
  {
   "cell_type": "code",
   "execution_count": 3,
   "metadata": {
    "ExecuteTime": {
     "end_time": "2019-12-12T18:21:15.086518Z",
     "start_time": "2019-12-12T18:21:14.562286Z"
    },
    "scrolled": false
   },
   "outputs": [
    {
     "data": {
      "text/html": [
       "<div>\n",
       "<style scoped>\n",
       "    .dataframe tbody tr th:only-of-type {\n",
       "        vertical-align: middle;\n",
       "    }\n",
       "\n",
       "    .dataframe tbody tr th {\n",
       "        vertical-align: top;\n",
       "    }\n",
       "\n",
       "    .dataframe thead th {\n",
       "        text-align: right;\n",
       "    }\n",
       "</style>\n",
       "<table border=\"1\" class=\"dataframe\">\n",
       "  <thead>\n",
       "    <tr style=\"text-align: right;\">\n",
       "      <th></th>\n",
       "      <th>candidate_id</th>\n",
       "      <th>compound</th>\n",
       "      <th>disease</th>\n",
       "      <th>drugbank_id</th>\n",
       "      <th>doid_id</th>\n",
       "      <th>sentence</th>\n",
       "      <th>curated_ctd</th>\n",
       "      <th>notes_ctd</th>\n",
       "    </tr>\n",
       "  </thead>\n",
       "  <tbody>\n",
       "    <tr>\n",
       "      <th>0</th>\n",
       "      <td>65897</td>\n",
       "      <td>Imipramine</td>\n",
       "      <td>rheumatoid arthritis</td>\n",
       "      <td>DB00458</td>\n",
       "      <td>DOID:7148</td>\n",
       "      <td>~~[[1 imipramine 1]]~~ , ~~[[2 rheumatoid arth...</td>\n",
       "      <td>0.0</td>\n",
       "      <td>NaN</td>\n",
       "    </tr>\n",
       "    <tr>\n",
       "      <th>1</th>\n",
       "      <td>65932</td>\n",
       "      <td>tryptophan</td>\n",
       "      <td>Multiple Sclerosis</td>\n",
       "      <td>DB00150</td>\n",
       "      <td>DOID:2377</td>\n",
       "      <td>this brief report develops the ideas of some p...</td>\n",
       "      <td>0.0</td>\n",
       "      <td>sounds like side effects</td>\n",
       "    </tr>\n",
       "    <tr>\n",
       "      <th>2</th>\n",
       "      <td>66091</td>\n",
       "      <td>indomethacin</td>\n",
       "      <td>hypertensives</td>\n",
       "      <td>DB00328</td>\n",
       "      <td>DOID:10763</td>\n",
       "      <td>when compared to normals , essential ~~[[2 hyp...</td>\n",
       "      <td>0.0</td>\n",
       "      <td>NaN</td>\n",
       "    </tr>\n",
       "    <tr>\n",
       "      <th>3</th>\n",
       "      <td>66144</td>\n",
       "      <td>sulphasalazine</td>\n",
       "      <td>ulcerative colitis</td>\n",
       "      <td>DB00795</td>\n",
       "      <td>DOID:8577</td>\n",
       "      <td>patients with ~~[[2 ulcerative colitis 2]]~~ i...</td>\n",
       "      <td>0.0</td>\n",
       "      <td>NaN</td>\n",
       "    </tr>\n",
       "    <tr>\n",
       "      <th>4</th>\n",
       "      <td>66388</td>\n",
       "      <td>sulphasalazine</td>\n",
       "      <td>ulcerative colitis</td>\n",
       "      <td>DB00795</td>\n",
       "      <td>DOID:8577</td>\n",
       "      <td>the absorption , metabolism and excretion of ~...</td>\n",
       "      <td>0.0</td>\n",
       "      <td>NaN</td>\n",
       "    </tr>\n",
       "  </tbody>\n",
       "</table>\n",
       "</div>"
      ],
      "text/plain": [
       "   candidate_id        compound               disease drugbank_id     doid_id  \\\n",
       "0         65897      Imipramine  rheumatoid arthritis     DB00458   DOID:7148   \n",
       "1         65932      tryptophan    Multiple Sclerosis     DB00150   DOID:2377   \n",
       "2         66091    indomethacin         hypertensives     DB00328  DOID:10763   \n",
       "3         66144  sulphasalazine    ulcerative colitis     DB00795   DOID:8577   \n",
       "4         66388  sulphasalazine    ulcerative colitis     DB00795   DOID:8577   \n",
       "\n",
       "                                            sentence  curated_ctd  \\\n",
       "0  ~~[[1 imipramine 1]]~~ , ~~[[2 rheumatoid arth...          0.0   \n",
       "1  this brief report develops the ideas of some p...          0.0   \n",
       "2  when compared to normals , essential ~~[[2 hyp...          0.0   \n",
       "3  patients with ~~[[2 ulcerative colitis 2]]~~ i...          0.0   \n",
       "4  the absorption , metabolism and excretion of ~...          0.0   \n",
       "\n",
       "                  notes_ctd  \n",
       "0                       NaN  \n",
       "1  sounds like side effects  \n",
       "2                       NaN  \n",
       "3                       NaN  \n",
       "4                       NaN  "
      ]
     },
     "execution_count": 3,
     "metadata": {},
     "output_type": "execute_result"
    }
   ],
   "source": [
    "candidate_df = (\n",
    "    pd.read_excel(\"../data/sentences/sentence_labels_dev.xlsx\")\n",
    "    .sort_values(\"candidate_id\")\n",
    "    .query(\"curated_ctd.notnull()\")\n",
    ")\n",
    "candidate_df.head()"
   ]
  },
  {
   "cell_type": "code",
   "execution_count": 4,
   "metadata": {
    "ExecuteTime": {
     "end_time": "2019-12-12T18:21:15.093866Z",
     "start_time": "2019-12-12T18:21:15.088351Z"
    }
   },
   "outputs": [],
   "source": [
    "gen_model_results_dev_df = pd.read_csv(\n",
    "    \"../label_sampling_experiment/results/CtD/results/dev_sampled_results.tsv\", \n",
    "    sep=\"\\t\"\n",
    ")"
   ]
  },
  {
   "cell_type": "code",
   "execution_count": 5,
   "metadata": {
    "ExecuteTime": {
     "end_time": "2019-12-12T18:21:15.179557Z",
     "start_time": "2019-12-12T18:21:15.095213Z"
    }
   },
   "outputs": [],
   "source": [
    "disc_model_dict = {}\n",
    "\n",
    "for value in gen_model_results_dev_df.lf_num.unique():\n",
    "        \n",
    "    disc_model_dict[value] = (\n",
    "        pd.read_csv(f\"input/disc_model_run/{value}/tune.tsv\", sep=\"\\t\")\n",
    "    )"
   ]
  },
  {
   "cell_type": "code",
   "execution_count": 6,
   "metadata": {
    "ExecuteTime": {
     "end_time": "2019-12-12T18:21:15.210376Z",
     "start_time": "2019-12-12T18:21:15.180821Z"
    }
   },
   "outputs": [],
   "source": [
    "def get_au_performance(predictions, gold_labels):\n",
    "    fpr, tpr, _ = roc_curve(\n",
    "        gold_labels,\n",
    "        predictions\n",
    "    )\n",
    "    \n",
    "    precision, recall, _ = precision_recall_curve(\n",
    "        gold_labels,\n",
    "        predictions\n",
    "    )\n",
    "    \n",
    "    return auc(fpr, tpr), auc(recall, precision)"
   ]
  },
  {
   "cell_type": "code",
   "execution_count": 7,
   "metadata": {
    "ExecuteTime": {
     "end_time": "2019-12-12T18:21:17.057567Z",
     "start_time": "2019-12-12T18:21:15.211585Z"
    }
   },
   "outputs": [],
   "source": [
    "records = []\n",
    "for sample in disc_model_dict:\n",
    "        for column in disc_model_dict[sample].drop(\"candidate_id\", axis=1).columns:\n",
    "            aucs = get_au_performance(\n",
    "                disc_model_dict[sample][column], \n",
    "                candidate_df\n",
    "                .query(f\"candidate_id in {disc_model_dict[value].candidate_id.values.tolist()}\")\n",
    "                .curated_ctd\n",
    "                .values\n",
    "            )\n",
    "            records.append({\n",
    "                \"model\": \"disc_model\",\n",
    "                \"lf_num\": int(sample),\n",
    "                \"auroc\": aucs[0],\n",
    "                \"aupr\": aucs[1]\n",
    "            })\n",
    "\n",
    "dev_set_df = (\n",
    "    pd.DataFrame.from_records(records)\n",
    "    .append(\n",
    "        gen_model_results_dev_df\n",
    "        .drop(\"lf_sample\", axis=1)\n",
    "        .assign(model=\"gen_model\")\n",
    "    )\n",
    ")"
   ]
  },
  {
   "cell_type": "code",
   "execution_count": 8,
   "metadata": {
    "ExecuteTime": {
     "end_time": "2019-12-12T18:21:17.095525Z",
     "start_time": "2019-12-12T18:21:17.059501Z"
    }
   },
   "outputs": [
    {
     "data": {
      "text/html": [
       "<div>\n",
       "<style scoped>\n",
       "    .dataframe tbody tr th:only-of-type {\n",
       "        vertical-align: middle;\n",
       "    }\n",
       "\n",
       "    .dataframe tbody tr th {\n",
       "        vertical-align: top;\n",
       "    }\n",
       "\n",
       "    .dataframe thead th {\n",
       "        text-align: right;\n",
       "    }\n",
       "</style>\n",
       "<table border=\"1\" class=\"dataframe\">\n",
       "  <thead>\n",
       "    <tr style=\"text-align: right;\">\n",
       "      <th></th>\n",
       "      <th>lf_num</th>\n",
       "      <th>model</th>\n",
       "      <th>auroc_mean</th>\n",
       "      <th>auroc_std</th>\n",
       "      <th>aupr_mean</th>\n",
       "      <th>aupr_std</th>\n",
       "      <th>lf_num_len</th>\n",
       "      <th>auroc_upper</th>\n",
       "      <th>auroc_lower</th>\n",
       "      <th>aupr_upper</th>\n",
       "      <th>aupr_lower</th>\n",
       "    </tr>\n",
       "  </thead>\n",
       "  <tbody>\n",
       "    <tr>\n",
       "      <th>0</th>\n",
       "      <td>0</td>\n",
       "      <td>disc_model</td>\n",
       "      <td>0.719287</td>\n",
       "      <td>0.000000</td>\n",
       "      <td>0.331734</td>\n",
       "      <td>0.000000</td>\n",
       "      <td>1</td>\n",
       "      <td>0.719287</td>\n",
       "      <td>0.719287</td>\n",
       "      <td>0.331734</td>\n",
       "      <td>0.331734</td>\n",
       "    </tr>\n",
       "    <tr>\n",
       "      <th>1</th>\n",
       "      <td>0</td>\n",
       "      <td>gen_model</td>\n",
       "      <td>0.681995</td>\n",
       "      <td>0.000000</td>\n",
       "      <td>0.491901</td>\n",
       "      <td>0.000000</td>\n",
       "      <td>1</td>\n",
       "      <td>0.681995</td>\n",
       "      <td>0.681995</td>\n",
       "      <td>0.491901</td>\n",
       "      <td>0.491901</td>\n",
       "    </tr>\n",
       "    <tr>\n",
       "      <th>2</th>\n",
       "      <td>1</td>\n",
       "      <td>disc_model</td>\n",
       "      <td>0.726972</td>\n",
       "      <td>0.024005</td>\n",
       "      <td>0.359048</td>\n",
       "      <td>0.022986</td>\n",
       "      <td>50</td>\n",
       "      <td>0.733626</td>\n",
       "      <td>0.720318</td>\n",
       "      <td>0.365420</td>\n",
       "      <td>0.352677</td>\n",
       "    </tr>\n",
       "    <tr>\n",
       "      <th>3</th>\n",
       "      <td>1</td>\n",
       "      <td>gen_model</td>\n",
       "      <td>0.715703</td>\n",
       "      <td>0.041762</td>\n",
       "      <td>0.472581</td>\n",
       "      <td>0.059901</td>\n",
       "      <td>50</td>\n",
       "      <td>0.727279</td>\n",
       "      <td>0.704127</td>\n",
       "      <td>0.489185</td>\n",
       "      <td>0.455978</td>\n",
       "    </tr>\n",
       "    <tr>\n",
       "      <th>4</th>\n",
       "      <td>6</td>\n",
       "      <td>disc_model</td>\n",
       "      <td>0.779263</td>\n",
       "      <td>0.041241</td>\n",
       "      <td>0.442849</td>\n",
       "      <td>0.066110</td>\n",
       "      <td>50</td>\n",
       "      <td>0.790694</td>\n",
       "      <td>0.767831</td>\n",
       "      <td>0.461173</td>\n",
       "      <td>0.424524</td>\n",
       "    </tr>\n",
       "    <tr>\n",
       "      <th>5</th>\n",
       "      <td>6</td>\n",
       "      <td>gen_model</td>\n",
       "      <td>0.764198</td>\n",
       "      <td>0.047758</td>\n",
       "      <td>0.433273</td>\n",
       "      <td>0.068972</td>\n",
       "      <td>50</td>\n",
       "      <td>0.777435</td>\n",
       "      <td>0.750960</td>\n",
       "      <td>0.452390</td>\n",
       "      <td>0.414155</td>\n",
       "    </tr>\n",
       "    <tr>\n",
       "      <th>6</th>\n",
       "      <td>11</td>\n",
       "      <td>disc_model</td>\n",
       "      <td>0.821664</td>\n",
       "      <td>0.034093</td>\n",
       "      <td>0.521992</td>\n",
       "      <td>0.065250</td>\n",
       "      <td>50</td>\n",
       "      <td>0.831114</td>\n",
       "      <td>0.812214</td>\n",
       "      <td>0.540078</td>\n",
       "      <td>0.503906</td>\n",
       "    </tr>\n",
       "    <tr>\n",
       "      <th>7</th>\n",
       "      <td>11</td>\n",
       "      <td>gen_model</td>\n",
       "      <td>0.797896</td>\n",
       "      <td>0.036104</td>\n",
       "      <td>0.465717</td>\n",
       "      <td>0.074211</td>\n",
       "      <td>50</td>\n",
       "      <td>0.807903</td>\n",
       "      <td>0.787888</td>\n",
       "      <td>0.486287</td>\n",
       "      <td>0.445147</td>\n",
       "    </tr>\n",
       "    <tr>\n",
       "      <th>8</th>\n",
       "      <td>16</td>\n",
       "      <td>disc_model</td>\n",
       "      <td>0.852828</td>\n",
       "      <td>0.021023</td>\n",
       "      <td>0.590318</td>\n",
       "      <td>0.052030</td>\n",
       "      <td>50</td>\n",
       "      <td>0.858656</td>\n",
       "      <td>0.847001</td>\n",
       "      <td>0.604740</td>\n",
       "      <td>0.575896</td>\n",
       "    </tr>\n",
       "    <tr>\n",
       "      <th>9</th>\n",
       "      <td>16</td>\n",
       "      <td>gen_model</td>\n",
       "      <td>0.821603</td>\n",
       "      <td>0.024551</td>\n",
       "      <td>0.484469</td>\n",
       "      <td>0.044543</td>\n",
       "      <td>50</td>\n",
       "      <td>0.828408</td>\n",
       "      <td>0.814798</td>\n",
       "      <td>0.496815</td>\n",
       "      <td>0.472122</td>\n",
       "    </tr>\n",
       "    <tr>\n",
       "      <th>10</th>\n",
       "      <td>22</td>\n",
       "      <td>disc_model</td>\n",
       "      <td>0.874294</td>\n",
       "      <td>0.000000</td>\n",
       "      <td>0.647520</td>\n",
       "      <td>0.000000</td>\n",
       "      <td>1</td>\n",
       "      <td>0.874294</td>\n",
       "      <td>0.874294</td>\n",
       "      <td>0.647520</td>\n",
       "      <td>0.647520</td>\n",
       "    </tr>\n",
       "    <tr>\n",
       "      <th>11</th>\n",
       "      <td>22</td>\n",
       "      <td>gen_model</td>\n",
       "      <td>0.838335</td>\n",
       "      <td>0.000000</td>\n",
       "      <td>0.505030</td>\n",
       "      <td>0.000000</td>\n",
       "      <td>50</td>\n",
       "      <td>0.838335</td>\n",
       "      <td>0.838335</td>\n",
       "      <td>0.505030</td>\n",
       "      <td>0.505030</td>\n",
       "    </tr>\n",
       "  </tbody>\n",
       "</table>\n",
       "</div>"
      ],
      "text/plain": [
       "    lf_num       model  auroc_mean  auroc_std  aupr_mean  aupr_std  \\\n",
       "0        0  disc_model    0.719287   0.000000   0.331734  0.000000   \n",
       "1        0   gen_model    0.681995   0.000000   0.491901  0.000000   \n",
       "2        1  disc_model    0.726972   0.024005   0.359048  0.022986   \n",
       "3        1   gen_model    0.715703   0.041762   0.472581  0.059901   \n",
       "4        6  disc_model    0.779263   0.041241   0.442849  0.066110   \n",
       "5        6   gen_model    0.764198   0.047758   0.433273  0.068972   \n",
       "6       11  disc_model    0.821664   0.034093   0.521992  0.065250   \n",
       "7       11   gen_model    0.797896   0.036104   0.465717  0.074211   \n",
       "8       16  disc_model    0.852828   0.021023   0.590318  0.052030   \n",
       "9       16   gen_model    0.821603   0.024551   0.484469  0.044543   \n",
       "10      22  disc_model    0.874294   0.000000   0.647520  0.000000   \n",
       "11      22   gen_model    0.838335   0.000000   0.505030  0.000000   \n",
       "\n",
       "    lf_num_len  auroc_upper  auroc_lower  aupr_upper  aupr_lower  \n",
       "0            1     0.719287     0.719287    0.331734    0.331734  \n",
       "1            1     0.681995     0.681995    0.491901    0.491901  \n",
       "2           50     0.733626     0.720318    0.365420    0.352677  \n",
       "3           50     0.727279     0.704127    0.489185    0.455978  \n",
       "4           50     0.790694     0.767831    0.461173    0.424524  \n",
       "5           50     0.777435     0.750960    0.452390    0.414155  \n",
       "6           50     0.831114     0.812214    0.540078    0.503906  \n",
       "7           50     0.807903     0.787888    0.486287    0.445147  \n",
       "8           50     0.858656     0.847001    0.604740    0.575896  \n",
       "9           50     0.828408     0.814798    0.496815    0.472122  \n",
       "10           1     0.874294     0.874294    0.647520    0.647520  \n",
       "11          50     0.838335     0.838335    0.505030    0.505030  "
      ]
     },
     "execution_count": 8,
     "metadata": {},
     "output_type": "execute_result"
    }
   ],
   "source": [
    "dev_set_stats_df = (\n",
    "    dev_set_df\n",
    "    .groupby([\"lf_num\", \"model\"])\n",
    "    .agg({\n",
    "    \"auroc\": ['mean', 'std'],\n",
    "    \"aupr\": ['mean', 'std'],\n",
    "    \"lf_num\": len\n",
    "    })\n",
    "    .reset_index()\n",
    "    .fillna(0)\n",
    ")\n",
    "dev_set_stats_df.columns = [\n",
    "    \"_\".join(col) \n",
    "    if col[1] != '' and col[0] not in ['hetionet', 'gene_symbol', 'doid_name', 'split'] else col[0] \n",
    "    for col in dev_set_stats_df.columns.values\n",
    "]\n",
    "\n",
    "critical_val = ss.norm.ppf(0.975)\n",
    "\n",
    "dev_set_stats_df = (\n",
    "    dev_set_stats_df\n",
    "    .assign(\n",
    "        **{\n",
    "            'auroc_upper': lambda x: x.auroc_mean + (critical_val * x.auroc_std)/pd.np.sqrt(x.lf_num_len),\n",
    "            'auroc_lower': lambda x: x.auroc_mean - (critical_val * x.auroc_std)/pd.np.sqrt(x.lf_num_len),\n",
    "            'aupr_upper': lambda x: x.aupr_mean + (critical_val * x.aupr_std)/pd.np.sqrt(x.lf_num_len),\n",
    "            'aupr_lower':lambda x: x.aupr_mean - (critical_val * x.aupr_std)/pd.np.sqrt(x.lf_num_len)\n",
    "        }\n",
    "    )\n",
    ")\n",
    "dev_set_stats_df"
   ]
  },
  {
   "cell_type": "code",
   "execution_count": 9,
   "metadata": {
    "ExecuteTime": {
     "end_time": "2019-12-12T18:21:17.706244Z",
     "start_time": "2019-12-12T18:21:17.097402Z"
    }
   },
   "outputs": [
    {
     "name": "stderr",
     "output_type": "stream",
     "text": [
      "/home/danich1/anaconda3/envs/snorkeling/lib/python3.6/site-packages/plotnine/scales/scale.py:93: MatplotlibDeprecationWarning: \n",
      "The iterable function was deprecated in Matplotlib 3.1 and will be removed in 3.3. Use np.iterable instead.\n",
      "  if cbook.iterable(self.breaks) and cbook.iterable(self.labels):\n",
      "/home/danich1/anaconda3/envs/snorkeling/lib/python3.6/site-packages/plotnine/utils.py:553: MatplotlibDeprecationWarning: \n",
      "The iterable function was deprecated in Matplotlib 3.1 and will be removed in 3.3. Use np.iterable instead.\n",
      "  return cbook.iterable(var) and not is_string(var)\n"
     ]
    },
    {
     "data": {
      "image/png": "[encoded data removed]",
      "text/plain": [
       "<Figure size 640x480 with 1 Axes>"
      ]
     },
     "metadata": {},
     "output_type": "display_data"
    },
    {
     "data": {
      "text/plain": [
       "<ggplot: (8746347330575)>"
      ]
     },
     "execution_count": 9,
     "metadata": {},
     "output_type": "execute_result"
    }
   ],
   "source": [
    "(\n",
    "    p9.ggplot(dev_set_stats_df, p9.aes(x=\"factor(lf_num)\", y=\"auroc_mean\", color=\"model\"))\n",
    "    + p9.geom_point()\n",
    "    + p9.geom_line(p9.aes(group=\"model\"))\n",
    "    + p9.geom_errorbar(p9.aes(ymin=\"auroc_lower\", ymax=\"auroc_upper\", group=\"model\"))\n",
    "    + p9.theme_seaborn()\n",
    "    + p9.labs(\n",
    "        title= \"CtD Tune Set AUROC\",\n",
    "        color=\"Model\"\n",
    "    )\n",
    "    + p9.scale_color_manual({\n",
    "        \"disc_model\": \"blue\",\n",
    "        \"gen_model\": \"orange\"\n",
    "    })\n",
    ")"
   ]
  },
  {
   "cell_type": "code",
   "execution_count": 10,
   "metadata": {
    "ExecuteTime": {
     "end_time": "2019-12-12T18:21:18.283046Z",
     "start_time": "2019-12-12T18:21:17.707637Z"
    }
   },
   "outputs": [
    {
     "name": "stderr",
     "output_type": "stream",
     "text": [
      "/home/danich1/anaconda3/envs/snorkeling/lib/python3.6/site-packages/plotnine/scales/scale.py:93: MatplotlibDeprecationWarning: \n",
      "The iterable function was deprecated in Matplotlib 3.1 and will be removed in 3.3. Use np.iterable instead.\n",
      "  if cbook.iterable(self.breaks) and cbook.iterable(self.labels):\n",
      "/home/danich1/anaconda3/envs/snorkeling/lib/python3.6/site-packages/plotnine/utils.py:553: MatplotlibDeprecationWarning: \n",
      "The iterable function was deprecated in Matplotlib 3.1 and will be removed in 3.3. Use np.iterable instead.\n",
      "  return cbook.iterable(var) and not is_string(var)\n"
     ]
    },
    {
     "data": {
      "image/png": "[encoded data removed]",
      "text/plain": [
       "<Figure size 640x480 with 1 Axes>"
      ]
     },
     "metadata": {},
     "output_type": "display_data"
    },
    {
     "data": {
      "text/plain": [
       "<ggplot: (8746347302948)>"
      ]
     },
     "execution_count": 10,
     "metadata": {},
     "output_type": "execute_result"
    }
   ],
   "source": [
    "(\n",
    "    p9.ggplot(dev_set_stats_df, p9.aes(x=\"factor(lf_num)\", y=\"aupr_mean\", color=\"model\"))\n",
    "    + p9.geom_point()\n",
    "    + p9.geom_line(p9.aes(group=\"model\"))\n",
    "    + p9.geom_errorbar(p9.aes(ymin=\"aupr_lower\", ymax=\"aupr_upper\", group=\"model\"))\n",
    "    + p9.theme_seaborn()\n",
    "    + p9.labs(\n",
    "        title= \"CtD Tune Set AUPR\",\n",
    "        color=\"Model\"\n",
    "    )\n",
    "    + p9.scale_color_manual({\n",
    "        \"disc_model\": \"blue\",\n",
    "        \"gen_model\": \"orange\"\n",
    "    })\n",
    ")"
   ]
  },
  {
   "cell_type": "code",
   "execution_count": 11,
   "metadata": {
    "ExecuteTime": {
     "end_time": "2019-12-12T18:21:18.290630Z",
     "start_time": "2019-12-12T18:21:18.284478Z"
    }
   },
   "outputs": [],
   "source": [
    "dev_set_df.to_csv(\"output/dev_set_disc_performance.tsv\", sep=\"\\t\", index=False)"
   ]
  },
  {
   "cell_type": "markdown",
   "metadata": {},
   "source": [
    "##  Precision-Recall Improvement over Generative Model"
   ]
  },
  {
   "cell_type": "code",
   "execution_count": 12,
   "metadata": {
    "ExecuteTime": {
     "end_time": "2019-12-12T18:21:18.335208Z",
     "start_time": "2019-12-12T18:21:18.291771Z"
    }
   },
   "outputs": [],
   "source": [
    "gen_predicton = (\n",
    "    pd.read_csv(\n",
    "        \"../label_sampling_experiment/results/CtD/marginals/tune/22_sampled_dev.tsv\",\n",
    "        sep=\"\\t\"\n",
    "    )\n",
    "    .assign(candidate_id=candidate_df.candidate_id.values.tolist())\n",
    "    .query(f\"candidate_id in {disc_model_dict[value].candidate_id.values.tolist()}\")\n",
    "    .iloc[:,0]\n",
    ")"
   ]
  },
  {
   "cell_type": "code",
   "execution_count": 13,
   "metadata": {
    "ExecuteTime": {
     "end_time": "2019-12-12T18:21:18.361122Z",
     "start_time": "2019-12-12T18:21:18.337096Z"
    }
   },
   "outputs": [],
   "source": [
    "disc_precision, disc_recall, _ = precision_recall_curve(\n",
    "    candidate_df\n",
    "    .query(f\"candidate_id in {disc_model_dict[value].candidate_id.values.tolist()}\")\n",
    "    .curated_ctd\n",
    "    .values, \n",
    "    disc_model_dict[22]['0']\n",
    ")\n",
    "\n",
    "gen_precision, gen_recall, _ = precision_recall_curve(\n",
    "    candidate_df\n",
    "    .query(f\"candidate_id in {disc_model_dict[value].candidate_id.values.tolist()}\")\n",
    "    .curated_ctd\n",
    "    .values,\n",
    "    gen_predicton\n",
    ")"
   ]
  },
  {
   "cell_type": "code",
   "execution_count": 14,
   "metadata": {
    "ExecuteTime": {
     "end_time": "2019-12-12T18:21:18.392152Z",
     "start_time": "2019-12-12T18:21:18.362288Z"
    }
   },
   "outputs": [],
   "source": [
    "pr_perform_df = (\n",
    "    pd.DataFrame(\n",
    "        {'precision':gen_precision, 'recall':gen_recall}\n",
    "    )\n",
    "    .assign(model='gen_model')\n",
    "    .append(\n",
    "        pd.DataFrame(\n",
    "            {'precision':disc_precision, 'recall':disc_recall}\n",
    "        )\n",
    "        .assign(model='disc_model')\n",
    "    )\n",
    ")"
   ]
  },
  {
   "cell_type": "code",
   "execution_count": 15,
   "metadata": {
    "ExecuteTime": {
     "end_time": "2019-12-12T18:21:18.852604Z",
     "start_time": "2019-12-12T18:21:18.394399Z"
    }
   },
   "outputs": [
    {
     "name": "stderr",
     "output_type": "stream",
     "text": [
      "/home/danich1/anaconda3/envs/snorkeling/lib/python3.6/site-packages/plotnine/scales/scale.py:93: MatplotlibDeprecationWarning: \n",
      "The iterable function was deprecated in Matplotlib 3.1 and will be removed in 3.3. Use np.iterable instead.\n",
      "  if cbook.iterable(self.breaks) and cbook.iterable(self.labels):\n",
      "/home/danich1/anaconda3/envs/snorkeling/lib/python3.6/site-packages/plotnine/utils.py:553: MatplotlibDeprecationWarning: \n",
      "The iterable function was deprecated in Matplotlib 3.1 and will be removed in 3.3. Use np.iterable instead.\n",
      "  return cbook.iterable(var) and not is_string(var)\n"
     ]
    },
    {
     "data": {
      "image/png": "[encoded data removed]",
      "text/plain": [
       "<Figure size 640x480 with 1 Axes>"
      ]
     },
     "metadata": {},
     "output_type": "display_data"
    },
    {
     "data": {
      "text/plain": [
       "<ggplot: (8746345012579)>"
      ]
     },
     "execution_count": 15,
     "metadata": {},
     "output_type": "execute_result"
    }
   ],
   "source": [
    "(\n",
    "    p9.ggplot(pr_perform_df, p9.aes(x=\"recall\", y=\"precision\", color=\"factor(model)\")) +\n",
    "    p9.geom_point()+ \n",
    "    p9.geom_line() + \n",
    "    p9.labs(\n",
    "        title= \"Validation PR Curve\",\n",
    "        color=\"Model\"\n",
    "    )+\n",
    "    p9.scale_color_discrete(l=.4)+\n",
    "    p9.theme_seaborn()\n",
    ")"
   ]
  },
  {
   "cell_type": "code",
   "execution_count": 16,
   "metadata": {
    "ExecuteTime": {
     "end_time": "2019-12-12T18:21:18.871933Z",
     "start_time": "2019-12-12T18:21:18.856088Z"
    }
   },
   "outputs": [
    {
     "data": {
      "text/plain": [
       "(0.4068627450980392, 0.8829787234042553, 0.5570469798657718, None)"
      ]
     },
     "execution_count": 16,
     "metadata": {},
     "output_type": "execute_result"
    }
   ],
   "source": [
    "precision_recall_fscore_support(\n",
    "    candidate_df\n",
    "    .query(f\"candidate_id in {disc_model_dict[value].candidate_id.values.tolist()}\")\n",
    "    .curated_ctd\n",
    "    .values, \n",
    "    gen_predicton.apply(lambda x: 1 if x > 0.5 else 0),\n",
    "    average='binary'\n",
    ")"
   ]
  },
  {
   "cell_type": "code",
   "execution_count": 17,
   "metadata": {
    "ExecuteTime": {
     "end_time": "2019-12-12T18:21:18.898575Z",
     "start_time": "2019-12-12T18:21:18.873597Z"
    }
   },
   "outputs": [
    {
     "data": {
      "text/plain": [
       "(0.5298507462686567, 0.7553191489361702, 0.6228070175438597, None)"
      ]
     },
     "execution_count": 17,
     "metadata": {},
     "output_type": "execute_result"
    }
   ],
   "source": [
    "precision_recall_fscore_support(\n",
    "    candidate_df\n",
    "    .query(f\"candidate_id in {disc_model_dict[value].candidate_id.values.tolist()}\")\n",
    "    .curated_ctd\n",
    "    .values, \n",
    "    disc_model_dict[22]['0'].apply(lambda x: 1 if x > 0.5 else 0),\n",
    "    average='binary'\n",
    ")"
   ]
  },
  {
   "cell_type": "code",
   "execution_count": 18,
   "metadata": {
    "ExecuteTime": {
     "end_time": "2019-12-12T18:21:18.930940Z",
     "start_time": "2019-12-12T18:21:18.899801Z"
    }
   },
   "outputs": [],
   "source": [
    "pr_perform_df.to_csv(\"output/dev_set_pr_performance.tsv\", sep=\"\\t\", index=False)"
   ]
  },
  {
   "cell_type": "markdown",
   "metadata": {},
   "source": [
    "# Test Set"
   ]
  },
  {
   "cell_type": "markdown",
   "metadata": {},
   "source": [
    "## Performance of Disc model vs Gen model for each Label Sample"
   ]
  },
  {
   "cell_type": "code",
   "execution_count": 19,
   "metadata": {
    "ExecuteTime": {
     "end_time": "2019-12-12T18:21:18.988558Z",
     "start_time": "2019-12-12T18:21:18.932215Z"
    },
    "scrolled": true
   },
   "outputs": [
    {
     "data": {
      "text/html": [
       "<div>\n",
       "<style scoped>\n",
       "    .dataframe tbody tr th:only-of-type {\n",
       "        vertical-align: middle;\n",
       "    }\n",
       "\n",
       "    .dataframe tbody tr th {\n",
       "        vertical-align: top;\n",
       "    }\n",
       "\n",
       "    .dataframe thead th {\n",
       "        text-align: right;\n",
       "    }\n",
       "</style>\n",
       "<table border=\"1\" class=\"dataframe\">\n",
       "  <thead>\n",
       "    <tr style=\"text-align: right;\">\n",
       "      <th></th>\n",
       "      <th>candidate_id</th>\n",
       "      <th>curated_ctd</th>\n",
       "    </tr>\n",
       "  </thead>\n",
       "  <tbody>\n",
       "    <tr>\n",
       "      <th>0</th>\n",
       "      <td>65876</td>\n",
       "      <td>0.0</td>\n",
       "    </tr>\n",
       "    <tr>\n",
       "      <th>1</th>\n",
       "      <td>66250</td>\n",
       "      <td>0.0</td>\n",
       "    </tr>\n",
       "    <tr>\n",
       "      <th>2</th>\n",
       "      <td>66695</td>\n",
       "      <td>0.0</td>\n",
       "    </tr>\n",
       "    <tr>\n",
       "      <th>3</th>\n",
       "      <td>66719</td>\n",
       "      <td>0.0</td>\n",
       "    </tr>\n",
       "    <tr>\n",
       "      <th>4</th>\n",
       "      <td>67814</td>\n",
       "      <td>0.0</td>\n",
       "    </tr>\n",
       "  </tbody>\n",
       "</table>\n",
       "</div>"
      ],
      "text/plain": [
       "   candidate_id  curated_ctd\n",
       "0         65876          0.0\n",
       "1         66250          0.0\n",
       "2         66695          0.0\n",
       "3         66719          0.0\n",
       "4         67814          0.0"
      ]
     },
     "execution_count": 19,
     "metadata": {},
     "output_type": "execute_result"
    }
   ],
   "source": [
    "test_labels = pd.read_csv(\"input/ctd_test_labels.tsv\", sep=\"\\t\")\n",
    "test_labels.head()"
   ]
  },
  {
   "cell_type": "code",
   "execution_count": 20,
   "metadata": {
    "ExecuteTime": {
     "end_time": "2019-12-12T18:21:19.553151Z",
     "start_time": "2019-12-12T18:21:18.990266Z"
    },
    "scrolled": false
   },
   "outputs": [
    {
     "data": {
      "text/html": [
       "<div>\n",
       "<style scoped>\n",
       "    .dataframe tbody tr th:only-of-type {\n",
       "        vertical-align: middle;\n",
       "    }\n",
       "\n",
       "    .dataframe tbody tr th {\n",
       "        vertical-align: top;\n",
       "    }\n",
       "\n",
       "    .dataframe thead th {\n",
       "        text-align: right;\n",
       "    }\n",
       "</style>\n",
       "<table border=\"1\" class=\"dataframe\">\n",
       "  <thead>\n",
       "    <tr style=\"text-align: right;\">\n",
       "      <th></th>\n",
       "      <th>candidate_id</th>\n",
       "      <th>compound</th>\n",
       "      <th>disease</th>\n",
       "      <th>drugbank_id</th>\n",
       "      <th>doid_id</th>\n",
       "      <th>sentence</th>\n",
       "      <th>curated_ctd</th>\n",
       "      <th>notes_ctd</th>\n",
       "    </tr>\n",
       "  </thead>\n",
       "  <tbody>\n",
       "    <tr>\n",
       "      <th>0</th>\n",
       "      <td>65876</td>\n",
       "      <td>sucrose</td>\n",
       "      <td>mouse hepatitis virus</td>\n",
       "      <td>DB02772</td>\n",
       "      <td>DOID:2043</td>\n",
       "      <td>the rna of ~~[[2 mouse hepatitis virus 2]]~~ ,...</td>\n",
       "      <td>0.0</td>\n",
       "      <td>NaN</td>\n",
       "    </tr>\n",
       "    <tr>\n",
       "      <th>1</th>\n",
       "      <td>66250</td>\n",
       "      <td>phenylalanine</td>\n",
       "      <td>hepatoma</td>\n",
       "      <td>DB02556</td>\n",
       "      <td>DOID:3571</td>\n",
       "      <td>epigenetic activation of ~~[[1 phenylalanine 1...</td>\n",
       "      <td>0.0</td>\n",
       "      <td>NaN</td>\n",
       "    </tr>\n",
       "    <tr>\n",
       "      <th>2</th>\n",
       "      <td>66695</td>\n",
       "      <td>adenosine 5'-triphosphate</td>\n",
       "      <td>mastocytoma</td>\n",
       "      <td>DB00171</td>\n",
       "      <td>DOID:2531</td>\n",
       "      <td>the effect of the antileukemia drug , 4 ' - ( ...</td>\n",
       "      <td>0.0</td>\n",
       "      <td>NaN</td>\n",
       "    </tr>\n",
       "    <tr>\n",
       "      <th>3</th>\n",
       "      <td>66719</td>\n",
       "      <td>phenylalanine</td>\n",
       "      <td>hepatoma</td>\n",
       "      <td>DB02556</td>\n",
       "      <td>DOID:3571</td>\n",
       "      <td>analysis by double immunodiffusion showed that...</td>\n",
       "      <td>0.0</td>\n",
       "      <td>NaN</td>\n",
       "    </tr>\n",
       "    <tr>\n",
       "      <th>4</th>\n",
       "      <td>67814</td>\n",
       "      <td>phenylalanine</td>\n",
       "      <td>hepatoma</td>\n",
       "      <td>DB02556</td>\n",
       "      <td>DOID:3571</td>\n",
       "      <td>naturally-occurring and synthetic analogues of...</td>\n",
       "      <td>0.0</td>\n",
       "      <td>NaN</td>\n",
       "    </tr>\n",
       "  </tbody>\n",
       "</table>\n",
       "</div>"
      ],
      "text/plain": [
       "   candidate_id                   compound                disease drugbank_id  \\\n",
       "0         65876                    sucrose  mouse hepatitis virus     DB02772   \n",
       "1         66250              phenylalanine               hepatoma     DB02556   \n",
       "2         66695  adenosine 5'-triphosphate            mastocytoma     DB00171   \n",
       "3         66719              phenylalanine               hepatoma     DB02556   \n",
       "4         67814              phenylalanine               hepatoma     DB02556   \n",
       "\n",
       "     doid_id                                           sentence  curated_ctd  \\\n",
       "0  DOID:2043  the rna of ~~[[2 mouse hepatitis virus 2]]~~ ,...          0.0   \n",
       "1  DOID:3571  epigenetic activation of ~~[[1 phenylalanine 1...          0.0   \n",
       "2  DOID:2531  the effect of the antileukemia drug , 4 ' - ( ...          0.0   \n",
       "3  DOID:3571  analysis by double immunodiffusion showed that...          0.0   \n",
       "4  DOID:3571  naturally-occurring and synthetic analogues of...          0.0   \n",
       "\n",
       "  notes_ctd  \n",
       "0       NaN  \n",
       "1       NaN  \n",
       "2       NaN  \n",
       "3       NaN  \n",
       "4       NaN  "
      ]
     },
     "execution_count": 20,
     "metadata": {},
     "output_type": "execute_result"
    }
   ],
   "source": [
    "candidate_df = (\n",
    "    pd.read_excel(\"../data/sentences/sentence_labels_test.xlsx\")\n",
    "    .sort_values(\"candidate_id\")\n",
    "    .query(\"curated_ctd.notnull()\")\n",
    ")\n",
    "candidate_df.head()"
   ]
  },
  {
   "cell_type": "code",
   "execution_count": 21,
   "metadata": {
    "ExecuteTime": {
     "end_time": "2019-12-12T18:21:19.560214Z",
     "start_time": "2019-12-12T18:21:19.554986Z"
    }
   },
   "outputs": [],
   "source": [
    "gen_model_results_test_df = pd.read_csv(\n",
    "    \"../label_sampling_experiment/results/CtD/results/test_sampled_results.tsv\", \n",
    "    sep=\"\\t\"\n",
    ")"
   ]
  },
  {
   "cell_type": "code",
   "execution_count": 22,
   "metadata": {
    "ExecuteTime": {
     "end_time": "2019-12-12T18:21:19.624100Z",
     "start_time": "2019-12-12T18:21:19.561409Z"
    }
   },
   "outputs": [],
   "source": [
    "disc_model_dict = {}\n",
    "\n",
    "for value in gen_model_results_test_df.lf_num.unique():\n",
    "\n",
    "    disc_model_dict[value] = (\n",
    "        pd.read_csv(f\"input/disc_model_run/{value}/test.tsv\", sep=\"\\t\")\n",
    "    )"
   ]
  },
  {
   "cell_type": "code",
   "execution_count": 23,
   "metadata": {
    "ExecuteTime": {
     "end_time": "2019-12-12T18:21:21.559340Z",
     "start_time": "2019-12-12T18:21:19.627226Z"
    }
   },
   "outputs": [],
   "source": [
    "records = []\n",
    "for sample in disc_model_dict:\n",
    "        for column in disc_model_dict[sample].drop(\"candidate_id\", axis=1).columns:\n",
    "            aucs = get_au_performance(\n",
    "                disc_model_dict[sample][column], \n",
    "                candidate_df\n",
    "                .query(f\"candidate_id in {disc_model_dict[value].candidate_id.values.tolist()}\")\n",
    "                .curated_ctd\n",
    "                .values\n",
    "            )\n",
    "            records.append({\n",
    "                \"model\": \"disc_model\",\n",
    "                \"lf_num\": int(sample),\n",
    "                \"auroc\": aucs[0],\n",
    "                \"aupr\": aucs[1]\n",
    "            })\n",
    "\n",
    "test_set_df = (\n",
    "    pd.DataFrame.from_records(records)\n",
    "    .append(\n",
    "        gen_model_results_test_df\n",
    "        .drop(\"lf_sample\", axis=1)\n",
    "        .assign(model=\"gen_model\")\n",
    "    )\n",
    ")"
   ]
  },
  {
   "cell_type": "code",
   "execution_count": 24,
   "metadata": {
    "ExecuteTime": {
     "end_time": "2019-12-12T18:21:21.598687Z",
     "start_time": "2019-12-12T18:21:21.561235Z"
    }
   },
   "outputs": [
    {
     "data": {
      "text/html": [
       "<div>\n",
       "<style scoped>\n",
       "    .dataframe tbody tr th:only-of-type {\n",
       "        vertical-align: middle;\n",
       "    }\n",
       "\n",
       "    .dataframe tbody tr th {\n",
       "        vertical-align: top;\n",
       "    }\n",
       "\n",
       "    .dataframe thead th {\n",
       "        text-align: right;\n",
       "    }\n",
       "</style>\n",
       "<table border=\"1\" class=\"dataframe\">\n",
       "  <thead>\n",
       "    <tr style=\"text-align: right;\">\n",
       "      <th></th>\n",
       "      <th>lf_num</th>\n",
       "      <th>model</th>\n",
       "      <th>auroc_mean</th>\n",
       "      <th>auroc_std</th>\n",
       "      <th>aupr_mean</th>\n",
       "      <th>aupr_std</th>\n",
       "      <th>lf_num_len</th>\n",
       "      <th>auroc_upper</th>\n",
       "      <th>auroc_lower</th>\n",
       "      <th>aupr_upper</th>\n",
       "      <th>aupr_lower</th>\n",
       "    </tr>\n",
       "  </thead>\n",
       "  <tbody>\n",
       "    <tr>\n",
       "      <th>0</th>\n",
       "      <td>0</td>\n",
       "      <td>disc_model</td>\n",
       "      <td>0.719883</td>\n",
       "      <td>0.000000</td>\n",
       "      <td>0.402047</td>\n",
       "      <td>0.000000</td>\n",
       "      <td>1</td>\n",
       "      <td>0.719883</td>\n",
       "      <td>0.719883</td>\n",
       "      <td>0.402047</td>\n",
       "      <td>0.402047</td>\n",
       "    </tr>\n",
       "    <tr>\n",
       "      <th>1</th>\n",
       "      <td>0</td>\n",
       "      <td>gen_model</td>\n",
       "      <td>0.521712</td>\n",
       "      <td>0.000000</td>\n",
       "      <td>0.289713</td>\n",
       "      <td>0.000000</td>\n",
       "      <td>1</td>\n",
       "      <td>0.521712</td>\n",
       "      <td>0.521712</td>\n",
       "      <td>0.289713</td>\n",
       "      <td>0.289713</td>\n",
       "    </tr>\n",
       "    <tr>\n",
       "      <th>2</th>\n",
       "      <td>1</td>\n",
       "      <td>disc_model</td>\n",
       "      <td>0.716556</td>\n",
       "      <td>0.037368</td>\n",
       "      <td>0.390015</td>\n",
       "      <td>0.031176</td>\n",
       "      <td>50</td>\n",
       "      <td>0.726914</td>\n",
       "      <td>0.706198</td>\n",
       "      <td>0.398656</td>\n",
       "      <td>0.381373</td>\n",
       "    </tr>\n",
       "    <tr>\n",
       "      <th>3</th>\n",
       "      <td>1</td>\n",
       "      <td>gen_model</td>\n",
       "      <td>0.573961</td>\n",
       "      <td>0.046009</td>\n",
       "      <td>0.317025</td>\n",
       "      <td>0.042029</td>\n",
       "      <td>50</td>\n",
       "      <td>0.586714</td>\n",
       "      <td>0.561208</td>\n",
       "      <td>0.328675</td>\n",
       "      <td>0.305375</td>\n",
       "    </tr>\n",
       "    <tr>\n",
       "      <th>4</th>\n",
       "      <td>6</td>\n",
       "      <td>disc_model</td>\n",
       "      <td>0.747180</td>\n",
       "      <td>0.050095</td>\n",
       "      <td>0.446736</td>\n",
       "      <td>0.055768</td>\n",
       "      <td>50</td>\n",
       "      <td>0.761066</td>\n",
       "      <td>0.733295</td>\n",
       "      <td>0.462194</td>\n",
       "      <td>0.431278</td>\n",
       "    </tr>\n",
       "    <tr>\n",
       "      <th>5</th>\n",
       "      <td>6</td>\n",
       "      <td>gen_model</td>\n",
       "      <td>0.659184</td>\n",
       "      <td>0.057228</td>\n",
       "      <td>0.371175</td>\n",
       "      <td>0.053996</td>\n",
       "      <td>50</td>\n",
       "      <td>0.675047</td>\n",
       "      <td>0.643322</td>\n",
       "      <td>0.386142</td>\n",
       "      <td>0.356208</td>\n",
       "    </tr>\n",
       "    <tr>\n",
       "      <th>6</th>\n",
       "      <td>11</td>\n",
       "      <td>disc_model</td>\n",
       "      <td>0.766449</td>\n",
       "      <td>0.042373</td>\n",
       "      <td>0.501297</td>\n",
       "      <td>0.052608</td>\n",
       "      <td>50</td>\n",
       "      <td>0.778194</td>\n",
       "      <td>0.754704</td>\n",
       "      <td>0.515879</td>\n",
       "      <td>0.486715</td>\n",
       "    </tr>\n",
       "    <tr>\n",
       "      <th>7</th>\n",
       "      <td>11</td>\n",
       "      <td>gen_model</td>\n",
       "      <td>0.694896</td>\n",
       "      <td>0.043434</td>\n",
       "      <td>0.410273</td>\n",
       "      <td>0.052651</td>\n",
       "      <td>50</td>\n",
       "      <td>0.706935</td>\n",
       "      <td>0.682856</td>\n",
       "      <td>0.424866</td>\n",
       "      <td>0.395679</td>\n",
       "    </tr>\n",
       "    <tr>\n",
       "      <th>8</th>\n",
       "      <td>16</td>\n",
       "      <td>disc_model</td>\n",
       "      <td>0.782723</td>\n",
       "      <td>0.022177</td>\n",
       "      <td>0.534415</td>\n",
       "      <td>0.033761</td>\n",
       "      <td>50</td>\n",
       "      <td>0.788870</td>\n",
       "      <td>0.776576</td>\n",
       "      <td>0.543773</td>\n",
       "      <td>0.525057</td>\n",
       "    </tr>\n",
       "    <tr>\n",
       "      <th>9</th>\n",
       "      <td>16</td>\n",
       "      <td>gen_model</td>\n",
       "      <td>0.728845</td>\n",
       "      <td>0.021619</td>\n",
       "      <td>0.450136</td>\n",
       "      <td>0.031088</td>\n",
       "      <td>50</td>\n",
       "      <td>0.734837</td>\n",
       "      <td>0.722852</td>\n",
       "      <td>0.458753</td>\n",
       "      <td>0.441519</td>\n",
       "    </tr>\n",
       "    <tr>\n",
       "      <th>10</th>\n",
       "      <td>22</td>\n",
       "      <td>disc_model</td>\n",
       "      <td>0.819103</td>\n",
       "      <td>0.000000</td>\n",
       "      <td>0.581926</td>\n",
       "      <td>0.000000</td>\n",
       "      <td>1</td>\n",
       "      <td>0.819103</td>\n",
       "      <td>0.819103</td>\n",
       "      <td>0.581926</td>\n",
       "      <td>0.581926</td>\n",
       "    </tr>\n",
       "    <tr>\n",
       "      <th>11</th>\n",
       "      <td>22</td>\n",
       "      <td>gen_model</td>\n",
       "      <td>0.756374</td>\n",
       "      <td>0.000000</td>\n",
       "      <td>0.479912</td>\n",
       "      <td>0.000000</td>\n",
       "      <td>50</td>\n",
       "      <td>0.756374</td>\n",
       "      <td>0.756374</td>\n",
       "      <td>0.479912</td>\n",
       "      <td>0.479912</td>\n",
       "    </tr>\n",
       "  </tbody>\n",
       "</table>\n",
       "</div>"
      ],
      "text/plain": [
       "    lf_num       model  auroc_mean  auroc_std  aupr_mean  aupr_std  \\\n",
       "0        0  disc_model    0.719883   0.000000   0.402047  0.000000   \n",
       "1        0   gen_model    0.521712   0.000000   0.289713  0.000000   \n",
       "2        1  disc_model    0.716556   0.037368   0.390015  0.031176   \n",
       "3        1   gen_model    0.573961   0.046009   0.317025  0.042029   \n",
       "4        6  disc_model    0.747180   0.050095   0.446736  0.055768   \n",
       "5        6   gen_model    0.659184   0.057228   0.371175  0.053996   \n",
       "6       11  disc_model    0.766449   0.042373   0.501297  0.052608   \n",
       "7       11   gen_model    0.694896   0.043434   0.410273  0.052651   \n",
       "8       16  disc_model    0.782723   0.022177   0.534415  0.033761   \n",
       "9       16   gen_model    0.728845   0.021619   0.450136  0.031088   \n",
       "10      22  disc_model    0.819103   0.000000   0.581926  0.000000   \n",
       "11      22   gen_model    0.756374   0.000000   0.479912  0.000000   \n",
       "\n",
       "    lf_num_len  auroc_upper  auroc_lower  aupr_upper  aupr_lower  \n",
       "0            1     0.719883     0.719883    0.402047    0.402047  \n",
       "1            1     0.521712     0.521712    0.289713    0.289713  \n",
       "2           50     0.726914     0.706198    0.398656    0.381373  \n",
       "3           50     0.586714     0.561208    0.328675    0.305375  \n",
       "4           50     0.761066     0.733295    0.462194    0.431278  \n",
       "5           50     0.675047     0.643322    0.386142    0.356208  \n",
       "6           50     0.778194     0.754704    0.515879    0.486715  \n",
       "7           50     0.706935     0.682856    0.424866    0.395679  \n",
       "8           50     0.788870     0.776576    0.543773    0.525057  \n",
       "9           50     0.734837     0.722852    0.458753    0.441519  \n",
       "10           1     0.819103     0.819103    0.581926    0.581926  \n",
       "11          50     0.756374     0.756374    0.479912    0.479912  "
      ]
     },
     "execution_count": 24,
     "metadata": {},
     "output_type": "execute_result"
    }
   ],
   "source": [
    "test_set_stats_df = (\n",
    "    test_set_df\n",
    "    .groupby([\"lf_num\", \"model\"])\n",
    "    .agg({\n",
    "    \"auroc\": ['mean', 'std'],\n",
    "    \"aupr\": ['mean', 'std'],\n",
    "    \"lf_num\": len\n",
    "    })\n",
    "    .reset_index()\n",
    "    .fillna(0)\n",
    ")\n",
    "test_set_stats_df.columns = [\n",
    "    \"_\".join(col) \n",
    "    if col[1] != '' and col[0] not in ['hetionet', 'gene_symbol', 'doid_name', 'split'] else col[0] \n",
    "    for col in test_set_stats_df.columns.values\n",
    "]\n",
    "\n",
    "critical_val = ss.norm.ppf(0.975)\n",
    "\n",
    "test_set_stats_df = (\n",
    "    test_set_stats_df\n",
    "    .assign(\n",
    "        **{\n",
    "            'auroc_upper': lambda x: x.auroc_mean + (critical_val * x.auroc_std)/pd.np.sqrt(x.lf_num_len),\n",
    "            'auroc_lower': lambda x: x.auroc_mean - (critical_val * x.auroc_std)/pd.np.sqrt(x.lf_num_len),\n",
    "            'aupr_upper': lambda x: x.aupr_mean + (critical_val * x.aupr_std)/pd.np.sqrt(x.lf_num_len),\n",
    "            'aupr_lower':lambda x: x.aupr_mean - (critical_val * x.aupr_std)/pd.np.sqrt(x.lf_num_len)\n",
    "        }\n",
    "    )\n",
    ")\n",
    "test_set_stats_df"
   ]
  },
  {
   "cell_type": "code",
   "execution_count": 25,
   "metadata": {
    "ExecuteTime": {
     "end_time": "2019-12-12T18:21:22.176471Z",
     "start_time": "2019-12-12T18:21:21.599911Z"
    }
   },
   "outputs": [
    {
     "name": "stderr",
     "output_type": "stream",
     "text": [
      "/home/danich1/anaconda3/envs/snorkeling/lib/python3.6/site-packages/plotnine/scales/scale.py:93: MatplotlibDeprecationWarning: \n",
      "The iterable function was deprecated in Matplotlib 3.1 and will be removed in 3.3. Use np.iterable instead.\n",
      "  if cbook.iterable(self.breaks) and cbook.iterable(self.labels):\n",
      "/home/danich1/anaconda3/envs/snorkeling/lib/python3.6/site-packages/plotnine/utils.py:553: MatplotlibDeprecationWarning: \n",
      "The iterable function was deprecated in Matplotlib 3.1 and will be removed in 3.3. Use np.iterable instead.\n",
      "  return cbook.iterable(var) and not is_string(var)\n"
     ]
    },
    {
     "data": {
      "image/png": "[encoded data removed]",
      "text/plain": [
       "<Figure size 640x480 with 1 Axes>"
      ]
     },
     "metadata": {},
     "output_type": "display_data"
    },
    {
     "data": {
      "text/plain": [
       "<ggplot: (-9223363290510001050)>"
      ]
     },
     "execution_count": 25,
     "metadata": {},
     "output_type": "execute_result"
    }
   ],
   "source": [
    "(\n",
    "    p9.ggplot(test_set_stats_df, p9.aes(x=\"factor(lf_num)\", y=\"auroc_mean\", color=\"model\"))\n",
    "    + p9.geom_point()\n",
    "    + p9.geom_line(p9.aes(group=\"model\"))\n",
    "    + p9.geom_errorbar(p9.aes(ymin=\"auroc_lower\", ymax=\"auroc_upper\", group=\"model\"))\n",
    "    + p9.theme_seaborn()\n",
    "    + p9.labs(\n",
    "        title= \"CtD Test Set AUROC\",\n",
    "        color=\"Model\"\n",
    "    )\n",
    "    + p9.scale_color_manual({\n",
    "        \"disc_model\": \"blue\",\n",
    "        \"gen_model\": \"orange\"\n",
    "    })\n",
    ")"
   ]
  },
  {
   "cell_type": "code",
   "execution_count": 26,
   "metadata": {
    "ExecuteTime": {
     "end_time": "2019-12-12T18:21:22.748112Z",
     "start_time": "2019-12-12T18:21:22.178652Z"
    }
   },
   "outputs": [
    {
     "name": "stderr",
     "output_type": "stream",
     "text": [
      "/home/danich1/anaconda3/envs/snorkeling/lib/python3.6/site-packages/plotnine/scales/scale.py:93: MatplotlibDeprecationWarning: \n",
      "The iterable function was deprecated in Matplotlib 3.1 and will be removed in 3.3. Use np.iterable instead.\n",
      "  if cbook.iterable(self.breaks) and cbook.iterable(self.labels):\n",
      "/home/danich1/anaconda3/envs/snorkeling/lib/python3.6/site-packages/plotnine/utils.py:553: MatplotlibDeprecationWarning: \n",
      "The iterable function was deprecated in Matplotlib 3.1 and will be removed in 3.3. Use np.iterable instead.\n",
      "  return cbook.iterable(var) and not is_string(var)\n"
     ]
    },
    {
     "data": {
      "image/png": "[encoded data removed]",
      "text/plain": [
       "<Figure size 640x480 with 1 Axes>"
      ]
     },
     "metadata": {},
     "output_type": "display_data"
    },
    {
     "data": {
      "text/plain": [
       "<ggplot: (-9223363290509900740)>"
      ]
     },
     "execution_count": 26,
     "metadata": {},
     "output_type": "execute_result"
    }
   ],
   "source": [
    "(\n",
    "    p9.ggplot(test_set_stats_df, p9.aes(x=\"factor(lf_num)\", y=\"aupr_mean\", color=\"model\"))\n",
    "    + p9.geom_point()\n",
    "    + p9.geom_line(p9.aes(group=\"model\"))\n",
    "    + p9.geom_errorbar(p9.aes(ymin=\"aupr_lower\", ymax=\"aupr_upper\", group=\"model\"))\n",
    "    + p9.theme_seaborn()\n",
    "    + p9.labs(\n",
    "        title= \"CtD Test Set AUPR\",\n",
    "        color=\"Model\"\n",
    "    )\n",
    "    + p9.scale_color_manual({\n",
    "        \"disc_model\": \"blue\",\n",
    "        \"gen_model\": \"orange\"\n",
    "    })\n",
    ")"
   ]
  },
  {
   "cell_type": "code",
   "execution_count": 27,
   "metadata": {
    "ExecuteTime": {
     "end_time": "2019-12-12T18:21:22.755167Z",
     "start_time": "2019-12-12T18:21:22.749355Z"
    }
   },
   "outputs": [],
   "source": [
    "test_set_df.to_csv(\"output/test_set_disc_performance.tsv\", sep=\"\\t\", index=False)"
   ]
  },
  {
   "cell_type": "markdown",
   "metadata": {},
   "source": [
    "##  Precision-Recall Improvement over Generative Model"
   ]
  },
  {
   "cell_type": "code",
   "execution_count": 28,
   "metadata": {
    "ExecuteTime": {
     "end_time": "2019-12-12T18:21:22.893840Z",
     "start_time": "2019-12-12T18:21:22.756408Z"
    }
   },
   "outputs": [],
   "source": [
    "gen_predicton = (\n",
    "    pd.read_csv(\n",
    "        \"../label_sampling_experiment/results/CtD/marginals/test/22_sampled_test.tsv\",\n",
    "        sep=\"\\t\"\n",
    "    )\n",
    "    .assign(candidate_id=candidate_df.candidate_id.values.tolist())\n",
    "    .query(f\"candidate_id in {disc_model_dict[value].candidate_id.values.tolist()}\")\n",
    "    .iloc[:,0]\n",
    ")"
   ]
  },
  {
   "cell_type": "code",
   "execution_count": 29,
   "metadata": {
    "ExecuteTime": {
     "end_time": "2019-12-12T18:21:22.931168Z",
     "start_time": "2019-12-12T18:21:22.895135Z"
    }
   },
   "outputs": [],
   "source": [
    "disc_precision, disc_recall, _ = precision_recall_curve(\n",
    "    candidate_df\n",
    "    .query(f\"candidate_id in {disc_model_dict[value].candidate_id.values.tolist()}\")\n",
    "    .curated_ctd\n",
    "    .values, \n",
    "    disc_model_dict[22]['0']\n",
    ")\n",
    "\n",
    "gen_precision, gen_recall, _ = precision_recall_curve(\n",
    "    candidate_df\n",
    "    .query(f\"candidate_id in {disc_model_dict[value].candidate_id.values.tolist()}\")\n",
    "    .curated_ctd\n",
    "    .values,\n",
    "    gen_predicton\n",
    ")"
   ]
  },
  {
   "cell_type": "code",
   "execution_count": 30,
   "metadata": {
    "ExecuteTime": {
     "end_time": "2019-12-12T18:21:22.997634Z",
     "start_time": "2019-12-12T18:21:22.932309Z"
    }
   },
   "outputs": [],
   "source": [
    "pr_perform_df = (\n",
    "    pd.DataFrame(\n",
    "        {'precision':gen_precision, 'recall':gen_recall}\n",
    "    )\n",
    "    .assign(model='gen_model')\n",
    "    .append(\n",
    "        pd.DataFrame(\n",
    "            {'precision':disc_precision, 'recall':disc_recall}\n",
    "        )\n",
    "        .assign(model='disc_model')\n",
    "    )\n",
    ")"
   ]
  },
  {
   "cell_type": "code",
   "execution_count": 31,
   "metadata": {
    "ExecuteTime": {
     "end_time": "2019-12-12T18:21:23.446284Z",
     "start_time": "2019-12-12T18:21:23.002229Z"
    }
   },
   "outputs": [
    {
     "name": "stderr",
     "output_type": "stream",
     "text": [
      "/home/danich1/anaconda3/envs/snorkeling/lib/python3.6/site-packages/plotnine/scales/scale.py:93: MatplotlibDeprecationWarning: \n",
      "The iterable function was deprecated in Matplotlib 3.1 and will be removed in 3.3. Use np.iterable instead.\n",
      "  if cbook.iterable(self.breaks) and cbook.iterable(self.labels):\n",
      "/home/danich1/anaconda3/envs/snorkeling/lib/python3.6/site-packages/plotnine/utils.py:553: MatplotlibDeprecationWarning: \n",
      "The iterable function was deprecated in Matplotlib 3.1 and will be removed in 3.3. Use np.iterable instead.\n",
      "  return cbook.iterable(var) and not is_string(var)\n"
     ]
    },
    {
     "data": {
      "image/png": "[encoded data removed]",
      "text/plain": [
       "<Figure size 640x480 with 1 Axes>"
      ]
     },
     "metadata": {},
     "output_type": "display_data"
    },
    {
     "data": {
      "text/plain": [
       "<ggplot: (8746347617579)>"
      ]
     },
     "execution_count": 31,
     "metadata": {},
     "output_type": "execute_result"
    }
   ],
   "source": [
    "(\n",
    "    p9.ggplot(pr_perform_df, p9.aes(x=\"recall\", y=\"precision\", color=\"factor(model)\")) +\n",
    "    p9.geom_point()+ \n",
    "    p9.geom_line() + \n",
    "    p9.labs(\n",
    "        title= \"Test PR Curve\",\n",
    "        color=\"Model\"\n",
    "    )+\n",
    "    p9.scale_color_discrete(l=.4)+\n",
    "    p9.theme_seaborn()\n",
    ")"
   ]
  },
  {
   "cell_type": "code",
   "execution_count": 32,
   "metadata": {
    "ExecuteTime": {
     "end_time": "2019-12-12T18:21:23.467492Z",
     "start_time": "2019-12-12T18:21:23.447595Z"
    }
   },
   "outputs": [
    {
     "data": {
      "text/plain": [
       "(0.48120300751879697, 0.6095238095238096, 0.5378151260504201, None)"
      ]
     },
     "execution_count": 32,
     "metadata": {},
     "output_type": "execute_result"
    }
   ],
   "source": [
    "precision_recall_fscore_support(\n",
    "    candidate_df\n",
    "    .query(f\"candidate_id in {disc_model_dict[value].candidate_id.values.tolist()}\")\n",
    "    .curated_ctd\n",
    "    .values, \n",
    "    gen_predicton.apply(lambda x: 1 if x > 0.5 else 0),\n",
    "    average='binary'\n",
    ")"
   ]
  },
  {
   "cell_type": "code",
   "execution_count": 33,
   "metadata": {
    "ExecuteTime": {
     "end_time": "2019-12-12T18:21:23.496056Z",
     "start_time": "2019-12-12T18:21:23.468701Z"
    }
   },
   "outputs": [
    {
     "data": {
      "text/plain": [
       "(0.5866666666666667, 0.41904761904761906, 0.4888888888888889, None)"
      ]
     },
     "execution_count": 33,
     "metadata": {},
     "output_type": "execute_result"
    }
   ],
   "source": [
    "precision_recall_fscore_support(\n",
    "    candidate_df\n",
    "    .query(f\"candidate_id in {disc_model_dict[value].candidate_id.values.tolist()}\")\n",
    "    .curated_ctd\n",
    "    .values, \n",
    "    disc_model_dict[22]['0'].apply(lambda x: 1 if x > 0.5 else 0),\n",
    "    average='binary'\n",
    ")"
   ]
  },
  {
   "cell_type": "code",
   "execution_count": 34,
   "metadata": {
    "ExecuteTime": {
     "end_time": "2019-12-12T18:21:23.506193Z",
     "start_time": "2019-12-12T18:21:23.497327Z"
    }
   },
   "outputs": [],
   "source": [
    "pr_perform_df.to_csv(\"output/test_set_pr_performance.tsv\", sep=\"\\t\", index=False)"
   ]
  }
 ],
 "metadata": {
  "kernelspec": {
   "display_name": "Python [conda env:snorkeling]",
   "language": "python",
   "name": "conda-env-snorkeling-py"
  },
  "language_info": {
   "codemirror_mode": {
    "name": "ipython",
    "version": 3
   },
   "file_extension": ".py",
   "mimetype": "text/x-python",
   "name": "python",
   "nbconvert_exporter": "python",
   "pygments_lexer": "ipython3",
   "version": "3.6.7"
  },
  "toc": {
   "base_numbering": 1,
   "nav_menu": {},
   "number_sections": true,
   "sideBar": true,
   "skip_h1_title": false,
   "title_cell": "Table of Contents",
   "title_sidebar": "Contents",
   "toc_cell": false,
   "toc_position": {},
   "toc_section_display": true,
   "toc_window_display": false
  },
  "varInspector": {
   "cols": {
    "lenName": 16,
    "lenType": 16,
    "lenVar": 40
   },
   "kernels_config": {
    "python": {
     "delete_cmd_postfix": "",
     "delete_cmd_prefix": "del ",
     "library": "var_list.py",
     "varRefreshCmd": "print(var_dic_list())"
    },
    "r": {
     "delete_cmd_postfix": ") ",
     "delete_cmd_prefix": "rm(",
     "library": "var_list.r",
     "varRefreshCmd": "cat(var_dic_list()) "
    }
   },
   "types_to_exclude": [
    "module",
    "function",
    "builtin_function_or_method",
    "instance",
    "_Feature"
   ],
   "window_display": false
  }
 },
 "nbformat": 4,
 "nbformat_minor": 2
}
