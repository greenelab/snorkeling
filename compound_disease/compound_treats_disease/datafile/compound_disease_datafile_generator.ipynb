{
 "cells": [
  {
   "cell_type": "code",
   "execution_count": 1,
   "metadata": {
    "ExecuteTime": {
     "end_time": "2019-08-16T14:59:10.485952Z",
     "start_time": "2019-08-16T14:59:10.100488Z"
    }
   },
   "outputs": [],
   "source": [
    "%load_ext autoreload\n",
    "%autoreload 2\n",
    "%matplotlib inline\n",
    "\n",
    "from collections import Counter\n",
    "from itertools import product\n",
    "import os\n",
    "import pickle\n",
    "import sys\n",
    "\n",
    "import pandas as pd"
   ]
  },
  {
   "cell_type": "code",
   "execution_count": 2,
   "metadata": {
    "ExecuteTime": {
     "end_time": "2019-08-16T14:59:10.496919Z",
     "start_time": "2019-08-16T14:59:10.487498Z"
    }
   },
   "outputs": [],
   "source": [
    "#Set up the environment\n",
    "username = \"danich1\"\n",
    "password = \"snorkel\"\n",
    "dbname = \"pubmeddb\"\n",
    "\n",
    "#Path subject to change for different os\n",
    "database_str = \"postgresql+psycopg2://{}:{}@/{}?host=/var/run/postgresql\".format(username, password, dbname)"
   ]
  },
  {
   "cell_type": "code",
   "execution_count": 3,
   "metadata": {
    "ExecuteTime": {
     "end_time": "2019-08-16T14:59:10.507541Z",
     "start_time": "2019-08-16T14:59:10.498498Z"
    }
   },
   "outputs": [],
   "source": [
    "disease_url = 'https://raw.githubusercontent.com/dhimmel/disease-ontology/052ffcc960f5897a0575f5feff904ca84b7d2c1d/data/xrefs-prop-slim.tsv'\n",
    "compound_url = \"https://raw.githubusercontent.com/dhimmel/drugbank/7b94454b14a2fa4bb9387cb3b4b9924619cfbd3e/data/drugbank.tsv\"\n",
    "ctpd_url = \"https://raw.githubusercontent.com/dhimmel/indications/11d535ba0884ee56c3cd5756fdfb4985f313bd80/catalog/indications.tsv\""
   ]
  },
  {
   "cell_type": "code",
   "execution_count": 4,
   "metadata": {
    "ExecuteTime": {
     "end_time": "2019-08-16T14:59:10.533127Z",
     "start_time": "2019-08-16T14:59:10.508873Z"
    }
   },
   "outputs": [],
   "source": [
    "base_dir = os.path.join(os.path.dirname(os.getcwd()), 'compound_disease')"
   ]
  },
  {
   "cell_type": "code",
   "execution_count": 5,
   "metadata": {
    "ExecuteTime": {
     "end_time": "2019-08-16T14:59:10.703193Z",
     "start_time": "2019-08-16T14:59:10.539436Z"
    }
   },
   "outputs": [],
   "source": [
    "disease_ontology_df = (\n",
    "    pd.read_csv(disease_url, sep=\"\\t\")\n",
    "    .drop_duplicates([\"doid_code\", \"doid_name\"])\n",
    "    .rename(columns={'doid_code': 'doid_id'})\n",
    ")"
   ]
  },
  {
   "cell_type": "code",
   "execution_count": 6,
   "metadata": {
    "ExecuteTime": {
     "end_time": "2019-08-16T14:59:10.906269Z",
     "start_time": "2019-08-16T14:59:10.707305Z"
    }
   },
   "outputs": [
    {
     "data": {
      "text/html": [
       "<div>\n",
       "<style scoped>\n",
       "    .dataframe tbody tr th:only-of-type {\n",
       "        vertical-align: middle;\n",
       "    }\n",
       "\n",
       "    .dataframe tbody tr th {\n",
       "        vertical-align: top;\n",
       "    }\n",
       "\n",
       "    .dataframe thead th {\n",
       "        text-align: right;\n",
       "    }\n",
       "</style>\n",
       "<table border=\"1\" class=\"dataframe\">\n",
       "  <thead>\n",
       "    <tr style=\"text-align: right;\">\n",
       "      <th></th>\n",
       "      <th>drugbank_id</th>\n",
       "      <th>drug_name</th>\n",
       "      <th>type</th>\n",
       "      <th>groups</th>\n",
       "      <th>atc_codes</th>\n",
       "      <th>categories</th>\n",
       "      <th>inchikey</th>\n",
       "      <th>inchi</th>\n",
       "      <th>description</th>\n",
       "    </tr>\n",
       "  </thead>\n",
       "  <tbody>\n",
       "    <tr>\n",
       "      <th>0</th>\n",
       "      <td>DB00001</td>\n",
       "      <td>Lepirudin</td>\n",
       "      <td>biotech</td>\n",
       "      <td>approved</td>\n",
       "      <td>B01AE02</td>\n",
       "      <td>Antithrombins|Fibrinolytic Agents</td>\n",
       "      <td>NaN</td>\n",
       "      <td>NaN</td>\n",
       "      <td>Lepirudin is identical to natural hirudin exce...</td>\n",
       "    </tr>\n",
       "    <tr>\n",
       "      <th>1</th>\n",
       "      <td>DB00002</td>\n",
       "      <td>Cetuximab</td>\n",
       "      <td>biotech</td>\n",
       "      <td>approved</td>\n",
       "      <td>L01XC06</td>\n",
       "      <td>Antineoplastic Agents</td>\n",
       "      <td>NaN</td>\n",
       "      <td>NaN</td>\n",
       "      <td>Epidermal growth factor receptor binding FAB. ...</td>\n",
       "    </tr>\n",
       "  </tbody>\n",
       "</table>\n",
       "</div>"
      ],
      "text/plain": [
       "  drugbank_id  drug_name     type    groups atc_codes  \\\n",
       "0     DB00001  Lepirudin  biotech  approved   B01AE02   \n",
       "1     DB00002  Cetuximab  biotech  approved   L01XC06   \n",
       "\n",
       "                          categories inchikey inchi  \\\n",
       "0  Antithrombins|Fibrinolytic Agents      NaN   NaN   \n",
       "1              Antineoplastic Agents      NaN   NaN   \n",
       "\n",
       "                                         description  \n",
       "0  Lepirudin is identical to natural hirudin exce...  \n",
       "1  Epidermal growth factor receptor binding FAB. ...  "
      ]
     },
     "execution_count": 6,
     "metadata": {},
     "output_type": "execute_result"
    }
   ],
   "source": [
    "drugbank_df = (\n",
    "    pd.read_table(compound_url)\n",
    "    .rename(index=str, columns={'name':'drug_name'})\n",
    ")\n",
    "drugbank_df.head(2)"
   ]
  },
  {
   "cell_type": "code",
   "execution_count": 7,
   "metadata": {
    "ExecuteTime": {
     "end_time": "2019-08-16T14:59:10.959149Z",
     "start_time": "2019-08-16T14:59:10.908038Z"
    }
   },
   "outputs": [
    {
     "data": {
      "text/html": [
       "<div>\n",
       "<style scoped>\n",
       "    .dataframe tbody tr th:only-of-type {\n",
       "        vertical-align: middle;\n",
       "    }\n",
       "\n",
       "    .dataframe tbody tr th {\n",
       "        vertical-align: top;\n",
       "    }\n",
       "\n",
       "    .dataframe thead th {\n",
       "        text-align: right;\n",
       "    }\n",
       "</style>\n",
       "<table border=\"1\" class=\"dataframe\">\n",
       "  <thead>\n",
       "    <tr style=\"text-align: right;\">\n",
       "      <th></th>\n",
       "      <th>doid_id</th>\n",
       "      <th>drugbank_id</th>\n",
       "      <th>disease_name</th>\n",
       "      <th>drug_name</th>\n",
       "      <th>category</th>\n",
       "      <th>sources</th>\n",
       "    </tr>\n",
       "  </thead>\n",
       "  <tbody>\n",
       "    <tr>\n",
       "      <th>0</th>\n",
       "      <td>DOID:10652</td>\n",
       "      <td>DB00843</td>\n",
       "      <td>Alzheimer's disease</td>\n",
       "      <td>Donepezil</td>\n",
       "      <td>DM</td>\n",
       "      <td>pharmacotherapydb</td>\n",
       "    </tr>\n",
       "    <tr>\n",
       "      <th>1</th>\n",
       "      <td>DOID:10652</td>\n",
       "      <td>DB00674</td>\n",
       "      <td>Alzheimer's disease</td>\n",
       "      <td>Galantamine</td>\n",
       "      <td>DM</td>\n",
       "      <td>pharmacotherapydb</td>\n",
       "    </tr>\n",
       "  </tbody>\n",
       "</table>\n",
       "</div>"
      ],
      "text/plain": [
       "      doid_id drugbank_id         disease_name    drug_name category  \\\n",
       "0  DOID:10652     DB00843  Alzheimer's disease    Donepezil       DM   \n",
       "1  DOID:10652     DB00674  Alzheimer's disease  Galantamine       DM   \n",
       "\n",
       "             sources  \n",
       "0  pharmacotherapydb  \n",
       "1  pharmacotherapydb  "
      ]
     },
     "execution_count": 7,
     "metadata": {},
     "output_type": "execute_result"
    }
   ],
   "source": [
    "compound_treats_palliates_disease_df = (\n",
    "    pd.read_table(ctpd_url)\n",
    "    .assign(sources='pharmacotherapydb')\n",
    "    .drop([\"n_curators\", \"n_resources\"], axis=1)\n",
    "    .rename(index=str, columns={\"drug\": \"drug_name\", \"disease\":\"disease_name\"})\n",
    ")\n",
    "compound_treats_palliates_disease_df.head(2)"
   ]
  },
  {
   "cell_type": "code",
   "execution_count": 8,
   "metadata": {
    "ExecuteTime": {
     "end_time": "2019-08-16T14:59:16.157114Z",
     "start_time": "2019-08-16T14:59:10.960849Z"
    }
   },
   "outputs": [
    {
     "data": {
      "text/html": [
       "<div>\n",
       "<style scoped>\n",
       "    .dataframe tbody tr th:only-of-type {\n",
       "        vertical-align: middle;\n",
       "    }\n",
       "\n",
       "    .dataframe tbody tr th {\n",
       "        vertical-align: top;\n",
       "    }\n",
       "\n",
       "    .dataframe thead th {\n",
       "        text-align: right;\n",
       "    }\n",
       "</style>\n",
       "<table border=\"1\" class=\"dataframe\">\n",
       "  <thead>\n",
       "    <tr style=\"text-align: right;\">\n",
       "      <th></th>\n",
       "      <th>drugbank_id</th>\n",
       "      <th>doid_id</th>\n",
       "      <th>n_sentences</th>\n",
       "    </tr>\n",
       "  </thead>\n",
       "  <tbody>\n",
       "    <tr>\n",
       "      <th>0</th>\n",
       "      <td>DB00001</td>\n",
       "      <td>DOID:3393</td>\n",
       "      <td>10</td>\n",
       "    </tr>\n",
       "    <tr>\n",
       "      <th>1</th>\n",
       "      <td>DB00001</td>\n",
       "      <td>DOID:784</td>\n",
       "      <td>1</td>\n",
       "    </tr>\n",
       "  </tbody>\n",
       "</table>\n",
       "</div>"
      ],
      "text/plain": [
       "  drugbank_id    doid_id  n_sentences\n",
       "0     DB00001  DOID:3393           10\n",
       "1     DB00001   DOID:784            1"
      ]
     },
     "execution_count": 8,
     "metadata": {},
     "output_type": "execute_result"
    }
   ],
   "source": [
    "query = '''\n",
    "SELECT \"Compound_cid\" as drugbank_id, \"Disease_cid\" as doid_id, count(*) AS n_sentences\n",
    "FROM compound_disease\n",
    "GROUP BY \"Compound_cid\", \"Disease_cid\";\n",
    "'''\n",
    "compound_disease_sentence_df = pd.read_sql(query, database_str)\n",
    "compound_disease_sentence_df.head(2)"
   ]
  },
  {
   "cell_type": "code",
   "execution_count": 9,
   "metadata": {
    "ExecuteTime": {
     "end_time": "2019-08-16T14:59:16.209845Z",
     "start_time": "2019-08-16T14:59:16.158450Z"
    }
   },
   "outputs": [
    {
     "data": {
      "text/html": [
       "<div>\n",
       "<style scoped>\n",
       "    .dataframe tbody tr th:only-of-type {\n",
       "        vertical-align: middle;\n",
       "    }\n",
       "\n",
       "    .dataframe tbody tr th {\n",
       "        vertical-align: top;\n",
       "    }\n",
       "\n",
       "    .dataframe thead th {\n",
       "        text-align: right;\n",
       "    }\n",
       "</style>\n",
       "<table border=\"1\" class=\"dataframe\">\n",
       "  <thead>\n",
       "    <tr style=\"text-align: right;\">\n",
       "      <th></th>\n",
       "      <th>doid_id</th>\n",
       "      <th>drugbank_id</th>\n",
       "      <th>disease_name</th>\n",
       "      <th>drug_name</th>\n",
       "      <th>category</th>\n",
       "      <th>sources</th>\n",
       "      <th>n_sentences</th>\n",
       "      <th>hetionet</th>\n",
       "      <th>has_sentence</th>\n",
       "    </tr>\n",
       "  </thead>\n",
       "  <tbody>\n",
       "    <tr>\n",
       "      <th>0</th>\n",
       "      <td>DOID:10652</td>\n",
       "      <td>DB00843</td>\n",
       "      <td>Alzheimer's disease</td>\n",
       "      <td>Donepezil</td>\n",
       "      <td>DM</td>\n",
       "      <td>pharmacotherapydb</td>\n",
       "      <td>2771</td>\n",
       "      <td>1</td>\n",
       "      <td>1</td>\n",
       "    </tr>\n",
       "    <tr>\n",
       "      <th>1</th>\n",
       "      <td>DOID:10652</td>\n",
       "      <td>DB00674</td>\n",
       "      <td>Alzheimer's disease</td>\n",
       "      <td>Galantamine</td>\n",
       "      <td>DM</td>\n",
       "      <td>pharmacotherapydb</td>\n",
       "      <td>1309</td>\n",
       "      <td>1</td>\n",
       "      <td>1</td>\n",
       "    </tr>\n",
       "  </tbody>\n",
       "</table>\n",
       "</div>"
      ],
      "text/plain": [
       "      doid_id drugbank_id         disease_name    drug_name category  \\\n",
       "0  DOID:10652     DB00843  Alzheimer's disease    Donepezil       DM   \n",
       "1  DOID:10652     DB00674  Alzheimer's disease  Galantamine       DM   \n",
       "\n",
       "             sources  n_sentences  hetionet  has_sentence  \n",
       "0  pharmacotherapydb         2771         1             1  \n",
       "1  pharmacotherapydb         1309         1             1  "
      ]
     },
     "execution_count": 9,
     "metadata": {},
     "output_type": "execute_result"
    }
   ],
   "source": [
    "compound_treats_disease_df = (\n",
    "    compound_treats_palliates_disease_df\n",
    "    .query(\"category=='DM'\")\n",
    "    .merge(compound_disease_sentence_df, on=[\"drugbank_id\", \"doid_id\"], how=\"right\")\n",
    ")\n",
    "compound_treats_disease_df=(\n",
    "    compound_treats_disease_df\n",
    "    .assign(hetionet=compound_treats_disease_df.sources.notnull().astype(int))\n",
    "    .assign(has_sentence=(compound_treats_disease_df.n_sentences > 0).astype(int))\n",
    ")\n",
    "compound_treats_disease_df.head(2)"
   ]
  },
  {
   "cell_type": "code",
   "execution_count": 10,
   "metadata": {
    "ExecuteTime": {
     "end_time": "2019-08-16T14:59:16.256140Z",
     "start_time": "2019-08-16T14:59:16.211391Z"
    }
   },
   "outputs": [
    {
     "data": {
      "text/html": [
       "<div>\n",
       "<style scoped>\n",
       "    .dataframe tbody tr th:only-of-type {\n",
       "        vertical-align: middle;\n",
       "    }\n",
       "\n",
       "    .dataframe tbody tr th {\n",
       "        vertical-align: top;\n",
       "    }\n",
       "\n",
       "    .dataframe thead th {\n",
       "        text-align: right;\n",
       "    }\n",
       "</style>\n",
       "<table border=\"1\" class=\"dataframe\">\n",
       "  <thead>\n",
       "    <tr style=\"text-align: right;\">\n",
       "      <th></th>\n",
       "      <th>doid_id</th>\n",
       "      <th>drugbank_id</th>\n",
       "      <th>disease_name</th>\n",
       "      <th>drug_name</th>\n",
       "      <th>category</th>\n",
       "      <th>sources</th>\n",
       "      <th>n_sentences</th>\n",
       "      <th>hetionet</th>\n",
       "      <th>has_sentence</th>\n",
       "    </tr>\n",
       "  </thead>\n",
       "  <tbody>\n",
       "    <tr>\n",
       "      <th>0</th>\n",
       "      <td>DOID:10652</td>\n",
       "      <td>DB00245</td>\n",
       "      <td>Alzheimer's disease</td>\n",
       "      <td>Benzatropine</td>\n",
       "      <td>SYM</td>\n",
       "      <td>pharmacotherapydb</td>\n",
       "      <td>1</td>\n",
       "      <td>1</td>\n",
       "      <td>1</td>\n",
       "    </tr>\n",
       "    <tr>\n",
       "      <th>1</th>\n",
       "      <td>DOID:10652</td>\n",
       "      <td>DB00502</td>\n",
       "      <td>Alzheimer's disease</td>\n",
       "      <td>Haloperidol</td>\n",
       "      <td>SYM</td>\n",
       "      <td>pharmacotherapydb</td>\n",
       "      <td>57</td>\n",
       "      <td>1</td>\n",
       "      <td>1</td>\n",
       "    </tr>\n",
       "  </tbody>\n",
       "</table>\n",
       "</div>"
      ],
      "text/plain": [
       "      doid_id drugbank_id         disease_name     drug_name category  \\\n",
       "0  DOID:10652     DB00245  Alzheimer's disease  Benzatropine      SYM   \n",
       "1  DOID:10652     DB00502  Alzheimer's disease   Haloperidol      SYM   \n",
       "\n",
       "             sources  n_sentences  hetionet  has_sentence  \n",
       "0  pharmacotherapydb            1         1             1  \n",
       "1  pharmacotherapydb           57         1             1  "
      ]
     },
     "execution_count": 10,
     "metadata": {},
     "output_type": "execute_result"
    }
   ],
   "source": [
    "compound_palliates_disease_df = (\n",
    "    compound_treats_palliates_disease_df\n",
    "    .query(\"category=='SYM'\")\n",
    "    .merge(compound_disease_sentence_df, on=[\"drugbank_id\", \"doid_id\"], how=\"right\")\n",
    ")\n",
    "compound_palliates_disease_df=(\n",
    "    compound_palliates_disease_df\n",
    "    .assign(hetionet=compound_treats_disease_df.sources.notnull().astype(int))\n",
    "    .assign(has_sentence=(compound_treats_disease_df.n_sentences > 0).astype(int))\n",
    ")\n",
    "compound_palliates_disease_df.head(2)"
   ]
  },
  {
   "cell_type": "code",
   "execution_count": 11,
   "metadata": {
    "ExecuteTime": {
     "end_time": "2019-08-16T14:59:16.269722Z",
     "start_time": "2019-08-16T14:59:16.258031Z"
    }
   },
   "outputs": [],
   "source": [
    "def partitioner(df):\n",
    "    \"\"\"\n",
    "    This function creates a parition rank for the current dataset.\n",
    "    This algorithm assigns a rank [0-1) for each datapoint inside each group (outlined below):\n",
    "        1,1 -in hetionet and has sentences\n",
    "        1,0 - in hetionet and doesn't have sentences\n",
    "        0,1 - not in hetionet and does have sentences\n",
    "        0,0, - not in hetionet and doesn't have sentences\n",
    "        \n",
    "    This ranking will be used in the get split function to assign each datapoint \n",
    "    into its corresponding category (train, dev, test)\n",
    "    \"\"\"\n",
    "    partition_rank = pd.np.linspace(0, 1, num=len(df), endpoint=False)\n",
    "    pd.np.random.shuffle(partition_rank)\n",
    "    df['partition_rank'] = partition_rank\n",
    "    return df"
   ]
  },
  {
   "cell_type": "code",
   "execution_count": 12,
   "metadata": {
    "ExecuteTime": {
     "end_time": "2019-08-16T14:59:16.281963Z",
     "start_time": "2019-08-16T14:59:16.271049Z"
    }
   },
   "outputs": [],
   "source": [
    "def get_split(partition_rank, training=0.7, dev=0.2, test=0.1):\n",
    "    \"\"\"\n",
    "    This function partitions the data into training, dev, and test sets\n",
    "    The partitioning algorithm is as follows:\n",
    "        1. anything less than 0.7 goes into training and receives an appropiate label\n",
    "        2. If not less than 0.7 subtract 0.7 and see if the rank is less than 0.2 if not assign to dev\n",
    "        3. Lastly if the rank is greater than 0.9 (0.7+0.2) assign it to test set.\n",
    "        \n",
    "    return label that corresponds to appropiate dataset cateogories\n",
    "    \"\"\"\n",
    "    if partition_rank < training:\n",
    "        return 3\n",
    "    partition_rank -= training\n",
    "    if partition_rank < dev:\n",
    "        return 4\n",
    "    partition_rank -= dev\n",
    "    assert partition_rank <= test\n",
    "    return 5"
   ]
  },
  {
   "cell_type": "code",
   "execution_count": 13,
   "metadata": {
    "ExecuteTime": {
     "end_time": "2019-08-16T14:59:16.338583Z",
     "start_time": "2019-08-16T14:59:16.283309Z"
    }
   },
   "outputs": [
    {
     "data": {
      "text/html": [
       "<div>\n",
       "<style scoped>\n",
       "    .dataframe tbody tr th:only-of-type {\n",
       "        vertical-align: middle;\n",
       "    }\n",
       "\n",
       "    .dataframe tbody tr th {\n",
       "        vertical-align: top;\n",
       "    }\n",
       "\n",
       "    .dataframe thead th {\n",
       "        text-align: right;\n",
       "    }\n",
       "</style>\n",
       "<table border=\"1\" class=\"dataframe\">\n",
       "  <thead>\n",
       "    <tr style=\"text-align: right;\">\n",
       "      <th></th>\n",
       "      <th>doid_id</th>\n",
       "      <th>drugbank_id</th>\n",
       "      <th>disease_name</th>\n",
       "      <th>drug_name</th>\n",
       "      <th>category</th>\n",
       "      <th>sources</th>\n",
       "      <th>n_sentences</th>\n",
       "      <th>hetionet</th>\n",
       "      <th>has_sentence</th>\n",
       "      <th>partition_rank</th>\n",
       "    </tr>\n",
       "  </thead>\n",
       "  <tbody>\n",
       "    <tr>\n",
       "      <th>0</th>\n",
       "      <td>DOID:10652</td>\n",
       "      <td>DB00843</td>\n",
       "      <td>Alzheimer's disease</td>\n",
       "      <td>Donepezil</td>\n",
       "      <td>DM</td>\n",
       "      <td>pharmacotherapydb</td>\n",
       "      <td>2771</td>\n",
       "      <td>1</td>\n",
       "      <td>1</td>\n",
       "      <td>0.615160</td>\n",
       "    </tr>\n",
       "    <tr>\n",
       "      <th>1</th>\n",
       "      <td>DOID:10652</td>\n",
       "      <td>DB00674</td>\n",
       "      <td>Alzheimer's disease</td>\n",
       "      <td>Galantamine</td>\n",
       "      <td>DM</td>\n",
       "      <td>pharmacotherapydb</td>\n",
       "      <td>1309</td>\n",
       "      <td>1</td>\n",
       "      <td>1</td>\n",
       "      <td>0.447522</td>\n",
       "    </tr>\n",
       "  </tbody>\n",
       "</table>\n",
       "</div>"
      ],
      "text/plain": [
       "      doid_id drugbank_id         disease_name    drug_name category  \\\n",
       "0  DOID:10652     DB00843  Alzheimer's disease    Donepezil       DM   \n",
       "1  DOID:10652     DB00674  Alzheimer's disease  Galantamine       DM   \n",
       "\n",
       "             sources  n_sentences  hetionet  has_sentence  partition_rank  \n",
       "0  pharmacotherapydb         2771         1             1        0.615160  \n",
       "1  pharmacotherapydb         1309         1             1        0.447522  "
      ]
     },
     "execution_count": 13,
     "metadata": {},
     "output_type": "execute_result"
    }
   ],
   "source": [
    "pd.np.random.seed(100)\n",
    "ctd_map_df = compound_treats_disease_df.groupby(['hetionet', 'has_sentence']).apply(partitioner)\n",
    "ctd_map_df.head(2)"
   ]
  },
  {
   "cell_type": "code",
   "execution_count": 14,
   "metadata": {
    "ExecuteTime": {
     "end_time": "2019-08-16T14:59:16.368993Z",
     "start_time": "2019-08-16T14:59:16.339998Z"
    }
   },
   "outputs": [
    {
     "data": {
      "text/plain": [
       "3    33168\n",
       "4     9476\n",
       "5     4737\n",
       "Name: split, dtype: int64"
      ]
     },
     "execution_count": 14,
     "metadata": {},
     "output_type": "execute_result"
    }
   ],
   "source": [
    "ctd_map_df['split'] = ctd_map_df.partition_rank.map(get_split)\n",
    "ctd_map_df.split.value_counts()"
   ]
  },
  {
   "cell_type": "code",
   "execution_count": 15,
   "metadata": {
    "ExecuteTime": {
     "end_time": "2019-08-16T14:59:16.427925Z",
     "start_time": "2019-08-16T14:59:16.370993Z"
    }
   },
   "outputs": [
    {
     "data": {
      "text/plain": [
       "array(['pharmacotherapydb', nan], dtype=object)"
      ]
     },
     "execution_count": 15,
     "metadata": {},
     "output_type": "execute_result"
    }
   ],
   "source": [
    "ctd_map_df.sources.unique()"
   ]
  },
  {
   "cell_type": "code",
   "execution_count": 16,
   "metadata": {
    "ExecuteTime": {
     "end_time": "2019-08-16T14:59:16.532084Z",
     "start_time": "2019-08-16T14:59:16.442127Z"
    }
   },
   "outputs": [
    {
     "data": {
      "text/html": [
       "<div>\n",
       "<style scoped>\n",
       "    .dataframe tbody tr th:only-of-type {\n",
       "        vertical-align: middle;\n",
       "    }\n",
       "\n",
       "    .dataframe tbody tr th {\n",
       "        vertical-align: top;\n",
       "    }\n",
       "\n",
       "    .dataframe thead th {\n",
       "        text-align: right;\n",
       "    }\n",
       "</style>\n",
       "<table border=\"1\" class=\"dataframe\">\n",
       "  <thead>\n",
       "    <tr style=\"text-align: right;\">\n",
       "      <th></th>\n",
       "      <th>drugbank_id</th>\n",
       "      <th>drug_name</th>\n",
       "      <th>doid_id</th>\n",
       "      <th>disease_name</th>\n",
       "      <th>sources</th>\n",
       "      <th>n_sentences</th>\n",
       "      <th>hetionet</th>\n",
       "      <th>has_sentence</th>\n",
       "      <th>split</th>\n",
       "      <th>partition_rank</th>\n",
       "    </tr>\n",
       "  </thead>\n",
       "  <tbody>\n",
       "    <tr>\n",
       "      <th>0</th>\n",
       "      <td>DB00843</td>\n",
       "      <td>Donepezil</td>\n",
       "      <td>DOID:10652</td>\n",
       "      <td>Alzheimer's disease</td>\n",
       "      <td>pharmacotherapydb</td>\n",
       "      <td>2771</td>\n",
       "      <td>1</td>\n",
       "      <td>1</td>\n",
       "      <td>3</td>\n",
       "      <td>0.615160</td>\n",
       "    </tr>\n",
       "    <tr>\n",
       "      <th>1</th>\n",
       "      <td>DB00674</td>\n",
       "      <td>Galantamine</td>\n",
       "      <td>DOID:10652</td>\n",
       "      <td>Alzheimer's disease</td>\n",
       "      <td>pharmacotherapydb</td>\n",
       "      <td>1309</td>\n",
       "      <td>1</td>\n",
       "      <td>1</td>\n",
       "      <td>3</td>\n",
       "      <td>0.447522</td>\n",
       "    </tr>\n",
       "  </tbody>\n",
       "</table>\n",
       "</div>"
      ],
      "text/plain": [
       "  drugbank_id    drug_name     doid_id         disease_name  \\\n",
       "0     DB00843    Donepezil  DOID:10652  Alzheimer's disease   \n",
       "1     DB00674  Galantamine  DOID:10652  Alzheimer's disease   \n",
       "\n",
       "             sources  n_sentences  hetionet  has_sentence  split  \\\n",
       "0  pharmacotherapydb         2771         1             1      3   \n",
       "1  pharmacotherapydb         1309         1             1      3   \n",
       "\n",
       "   partition_rank  \n",
       "0        0.615160  \n",
       "1        0.447522  "
      ]
     },
     "execution_count": 16,
     "metadata": {},
     "output_type": "execute_result"
    }
   ],
   "source": [
    "ctd_map_df = ctd_map_df[[\n",
    "    \"drugbank_id\", \"drug_name\",\n",
    "    \"doid_id\", \"disease_name\",\n",
    "    \"sources\", \"n_sentences\",\n",
    "    \"hetionet\", \"has_sentence\",\n",
    "    \"split\", \"partition_rank\"\n",
    "]]\n",
    "ctd_map_df.head(2)"
   ]
  },
  {
   "cell_type": "code",
   "execution_count": 17,
   "metadata": {
    "ExecuteTime": {
     "end_time": "2019-08-16T14:59:17.844702Z",
     "start_time": "2019-08-16T14:59:16.535095Z"
    }
   },
   "outputs": [],
   "source": [
    "ctd_map_df.to_csv(\"results/compound_treats_disease.tsv.xz\", sep=\"\\t\", compression=\"xz\", index=False)"
   ]
  },
  {
   "cell_type": "code",
   "execution_count": 18,
   "metadata": {
    "ExecuteTime": {
     "end_time": "2019-08-16T14:59:17.883888Z",
     "start_time": "2019-08-16T14:59:17.846398Z"
    }
   },
   "outputs": [
    {
     "data": {
      "text/html": [
       "<div>\n",
       "<style scoped>\n",
       "    .dataframe tbody tr th:only-of-type {\n",
       "        vertical-align: middle;\n",
       "    }\n",
       "\n",
       "    .dataframe tbody tr th {\n",
       "        vertical-align: top;\n",
       "    }\n",
       "\n",
       "    .dataframe thead th {\n",
       "        text-align: right;\n",
       "    }\n",
       "</style>\n",
       "<table border=\"1\" class=\"dataframe\">\n",
       "  <thead>\n",
       "    <tr style=\"text-align: right;\">\n",
       "      <th></th>\n",
       "      <th>doid_id</th>\n",
       "      <th>drugbank_id</th>\n",
       "      <th>disease_name</th>\n",
       "      <th>drug_name</th>\n",
       "      <th>category</th>\n",
       "      <th>sources</th>\n",
       "      <th>n_sentences</th>\n",
       "      <th>hetionet</th>\n",
       "      <th>has_sentence</th>\n",
       "      <th>partition_rank</th>\n",
       "    </tr>\n",
       "  </thead>\n",
       "  <tbody>\n",
       "    <tr>\n",
       "      <th>0</th>\n",
       "      <td>DOID:10652</td>\n",
       "      <td>DB00245</td>\n",
       "      <td>Alzheimer's disease</td>\n",
       "      <td>Benzatropine</td>\n",
       "      <td>SYM</td>\n",
       "      <td>pharmacotherapydb</td>\n",
       "      <td>1</td>\n",
       "      <td>1</td>\n",
       "      <td>1</td>\n",
       "      <td>0.615160</td>\n",
       "    </tr>\n",
       "    <tr>\n",
       "      <th>1</th>\n",
       "      <td>DOID:10652</td>\n",
       "      <td>DB00502</td>\n",
       "      <td>Alzheimer's disease</td>\n",
       "      <td>Haloperidol</td>\n",
       "      <td>SYM</td>\n",
       "      <td>pharmacotherapydb</td>\n",
       "      <td>57</td>\n",
       "      <td>1</td>\n",
       "      <td>1</td>\n",
       "      <td>0.447522</td>\n",
       "    </tr>\n",
       "  </tbody>\n",
       "</table>\n",
       "</div>"
      ],
      "text/plain": [
       "      doid_id drugbank_id         disease_name     drug_name category  \\\n",
       "0  DOID:10652     DB00245  Alzheimer's disease  Benzatropine      SYM   \n",
       "1  DOID:10652     DB00502  Alzheimer's disease   Haloperidol      SYM   \n",
       "\n",
       "             sources  n_sentences  hetionet  has_sentence  partition_rank  \n",
       "0  pharmacotherapydb            1         1             1        0.615160  \n",
       "1  pharmacotherapydb           57         1             1        0.447522  "
      ]
     },
     "execution_count": 18,
     "metadata": {},
     "output_type": "execute_result"
    }
   ],
   "source": [
    "pd.np.random.seed(100)\n",
    "cpd_map_df = compound_palliates_disease_df.groupby(['hetionet', 'has_sentence']).apply(partitioner)\n",
    "cpd_map_df.head(2)"
   ]
  },
  {
   "cell_type": "code",
   "execution_count": 19,
   "metadata": {
    "ExecuteTime": {
     "end_time": "2019-08-16T14:59:17.915337Z",
     "start_time": "2019-08-16T14:59:17.885414Z"
    }
   },
   "outputs": [
    {
     "data": {
      "text/plain": [
       "3    33168\n",
       "4     9476\n",
       "5     4737\n",
       "Name: split, dtype: int64"
      ]
     },
     "execution_count": 19,
     "metadata": {},
     "output_type": "execute_result"
    }
   ],
   "source": [
    "cpd_map_df['split'] = cpd_map_df.partition_rank.map(get_split)\n",
    "cpd_map_df.split.value_counts()"
   ]
  },
  {
   "cell_type": "code",
   "execution_count": 20,
   "metadata": {
    "ExecuteTime": {
     "end_time": "2019-08-16T14:59:17.933779Z",
     "start_time": "2019-08-16T14:59:17.917084Z"
    }
   },
   "outputs": [
    {
     "data": {
      "text/plain": [
       "array(['pharmacotherapydb', nan], dtype=object)"
      ]
     },
     "execution_count": 20,
     "metadata": {},
     "output_type": "execute_result"
    }
   ],
   "source": [
    "cpd_map_df.sources.unique()"
   ]
  },
  {
   "cell_type": "code",
   "execution_count": 21,
   "metadata": {
    "ExecuteTime": {
     "end_time": "2019-08-16T14:59:17.960396Z",
     "start_time": "2019-08-16T14:59:17.936442Z"
    }
   },
   "outputs": [
    {
     "data": {
      "text/html": [
       "<div>\n",
       "<style scoped>\n",
       "    .dataframe tbody tr th:only-of-type {\n",
       "        vertical-align: middle;\n",
       "    }\n",
       "\n",
       "    .dataframe tbody tr th {\n",
       "        vertical-align: top;\n",
       "    }\n",
       "\n",
       "    .dataframe thead th {\n",
       "        text-align: right;\n",
       "    }\n",
       "</style>\n",
       "<table border=\"1\" class=\"dataframe\">\n",
       "  <thead>\n",
       "    <tr style=\"text-align: right;\">\n",
       "      <th></th>\n",
       "      <th>drugbank_id</th>\n",
       "      <th>drug_name</th>\n",
       "      <th>doid_id</th>\n",
       "      <th>disease_name</th>\n",
       "      <th>sources</th>\n",
       "      <th>n_sentences</th>\n",
       "      <th>hetionet</th>\n",
       "      <th>has_sentence</th>\n",
       "      <th>split</th>\n",
       "      <th>partition_rank</th>\n",
       "    </tr>\n",
       "  </thead>\n",
       "  <tbody>\n",
       "    <tr>\n",
       "      <th>0</th>\n",
       "      <td>DB00245</td>\n",
       "      <td>Benzatropine</td>\n",
       "      <td>DOID:10652</td>\n",
       "      <td>Alzheimer's disease</td>\n",
       "      <td>pharmacotherapydb</td>\n",
       "      <td>1</td>\n",
       "      <td>1</td>\n",
       "      <td>1</td>\n",
       "      <td>3</td>\n",
       "      <td>0.615160</td>\n",
       "    </tr>\n",
       "    <tr>\n",
       "      <th>1</th>\n",
       "      <td>DB00502</td>\n",
       "      <td>Haloperidol</td>\n",
       "      <td>DOID:10652</td>\n",
       "      <td>Alzheimer's disease</td>\n",
       "      <td>pharmacotherapydb</td>\n",
       "      <td>57</td>\n",
       "      <td>1</td>\n",
       "      <td>1</td>\n",
       "      <td>3</td>\n",
       "      <td>0.447522</td>\n",
       "    </tr>\n",
       "  </tbody>\n",
       "</table>\n",
       "</div>"
      ],
      "text/plain": [
       "  drugbank_id     drug_name     doid_id         disease_name  \\\n",
       "0     DB00245  Benzatropine  DOID:10652  Alzheimer's disease   \n",
       "1     DB00502   Haloperidol  DOID:10652  Alzheimer's disease   \n",
       "\n",
       "             sources  n_sentences  hetionet  has_sentence  split  \\\n",
       "0  pharmacotherapydb            1         1             1      3   \n",
       "1  pharmacotherapydb           57         1             1      3   \n",
       "\n",
       "   partition_rank  \n",
       "0        0.615160  \n",
       "1        0.447522  "
      ]
     },
     "execution_count": 21,
     "metadata": {},
     "output_type": "execute_result"
    }
   ],
   "source": [
    "cpd_map_df = cpd_map_df[[\n",
    "    \"drugbank_id\", \"drug_name\",\n",
    "    \"doid_id\", \"disease_name\",\n",
    "    \"sources\", \"n_sentences\",\n",
    "    \"hetionet\", \"has_sentence\",\n",
    "    \"split\", \"partition_rank\"\n",
    "]]\n",
    "cpd_map_df.head(2)"
   ]
  },
  {
   "cell_type": "code",
   "execution_count": 22,
   "metadata": {
    "ExecuteTime": {
     "end_time": "2019-08-16T14:59:19.194608Z",
     "start_time": "2019-08-16T14:59:17.962769Z"
    }
   },
   "outputs": [],
   "source": [
    "cpd_map_df.to_csv(\"results/compound_palliates_disease.tsv.xz\", sep=\"\\t\", compression=\"xz\", index=False)"
   ]
  }
 ],
 "metadata": {
  "kernelspec": {
   "display_name": "Python [conda env:snorkeling]",
   "language": "python",
   "name": "conda-env-snorkeling-py"
  },
  "language_info": {
   "codemirror_mode": {
    "name": "ipython",
    "version": 3
   },
   "file_extension": ".py",
   "mimetype": "text/x-python",
   "name": "python",
   "nbconvert_exporter": "python",
   "pygments_lexer": "ipython3",
   "version": "3.6.4"
  }
 },
 "nbformat": 4,
 "nbformat_minor": 2
}
