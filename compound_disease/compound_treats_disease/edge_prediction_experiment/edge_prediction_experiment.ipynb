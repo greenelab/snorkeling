{
 "cells": [
  {
   "cell_type": "markdown",
   "metadata": {},
   "source": [
    "# Compound Treats Disease Edge Prediction"
   ]
  },
  {
   "cell_type": "markdown",
   "metadata": {},
   "source": [
    "This notebook is designed to take the next step moving from predicted sentences to edge predictions. After training the discriminator model, each sentences contains a confidence score for the likelihood of mentioning a relationship. Multiple relationships contain multiple sentences, which makes establishing an edge unintuitive. Is taking the max score appropiate for determining existence of an edge? Does taking the mean of each relationship make more sense? The answer towards these questions are shown below."
   ]
  },
  {
   "cell_type": "code",
   "execution_count": 1,
   "metadata": {
    "ExecuteTime": {
     "end_time": "2019-07-21T21:20:18.783388Z",
     "start_time": "2019-07-21T21:20:18.196346Z"
    }
   },
   "outputs": [],
   "source": [
    "%load_ext autoreload\n",
    "%autoreload 2\n",
    "%matplotlib inline\n",
    "\n",
    "import pandas as pd\n",
    "from sklearn.metrics import precision_recall_curve, roc_curve, auc\n",
    "import matplotlib.pyplot as plt\n",
    "import seaborn as sns"
   ]
  },
  {
   "cell_type": "code",
   "execution_count": 2,
   "metadata": {
    "ExecuteTime": {
     "end_time": "2019-07-21T21:20:26.673907Z",
     "start_time": "2019-07-21T21:20:18.784888Z"
    }
   },
   "outputs": [
    {
     "name": "stderr",
     "output_type": "stream",
     "text": [
      "/home/danich1/anaconda2/envs/snorkeling/lib/python3.6/site-packages/IPython/core/interactiveshell.py:2785: DtypeWarning: Columns (3,6,7) have mixed types. Specify dtype option on import or set low_memory=False.\n",
      "  interactivity=interactivity, compiler=compiler, result=result)\n"
     ]
    },
    {
     "data": {
      "text/html": [
       "<div>\n",
       "<style scoped>\n",
       "    .dataframe tbody tr th:only-of-type {\n",
       "        vertical-align: middle;\n",
       "    }\n",
       "\n",
       "    .dataframe tbody tr th {\n",
       "        vertical-align: top;\n",
       "    }\n",
       "\n",
       "    .dataframe thead th {\n",
       "        text-align: right;\n",
       "    }\n",
       "</style>\n",
       "<table border=\"1\" class=\"dataframe\">\n",
       "  <thead>\n",
       "    <tr style=\"text-align: right;\">\n",
       "      <th></th>\n",
       "      <th>doid_id</th>\n",
       "      <th>doid_name</th>\n",
       "      <th>resource</th>\n",
       "      <th>resource_id</th>\n",
       "      <th>drugbank_id</th>\n",
       "      <th>drug_name</th>\n",
       "      <th>disease</th>\n",
       "      <th>sources</th>\n",
       "      <th>hetionet</th>\n",
       "      <th>n_sentences</th>\n",
       "      <th>has_sentence</th>\n",
       "      <th>partition_rank</th>\n",
       "      <th>split</th>\n",
       "      <th>compound_mention_count</th>\n",
       "      <th>disease_mention_count</th>\n",
       "      <th>gene_mention_count</th>\n",
       "      <th>sentence_id</th>\n",
       "      <th>text</th>\n",
       "      <th>sen_length</th>\n",
       "      <th>candidate_id</th>\n",
       "    </tr>\n",
       "  </thead>\n",
       "  <tbody>\n",
       "    <tr>\n",
       "      <th>795720</th>\n",
       "      <td>DOID:1826</td>\n",
       "      <td>epilepsy syndrome</td>\n",
       "      <td>EFO</td>\n",
       "      <td>474</td>\n",
       "      <td>DB00313</td>\n",
       "      <td>Valproic Acid</td>\n",
       "      <td>epilepsy syndrome</td>\n",
       "      <td>pharmacotherapydb</td>\n",
       "      <td>1</td>\n",
       "      <td>9402</td>\n",
       "      <td>1</td>\n",
       "      <td>0.44093</td>\n",
       "      <td>9</td>\n",
       "      <td>1.0</td>\n",
       "      <td>1.0</td>\n",
       "      <td>0.0</td>\n",
       "      <td>686471</td>\n",
       "      <td>The rectal route of administration was effecti...</td>\n",
       "      <td>20</td>\n",
       "      <td>65851</td>\n",
       "    </tr>\n",
       "    <tr>\n",
       "      <th>828935</th>\n",
       "      <td>DOID:1826</td>\n",
       "      <td>epilepsy syndrome</td>\n",
       "      <td>EFO</td>\n",
       "      <td>474</td>\n",
       "      <td>DB01068</td>\n",
       "      <td>Clonazepam</td>\n",
       "      <td>epilepsy syndrome</td>\n",
       "      <td>pharmacotherapydb</td>\n",
       "      <td>1</td>\n",
       "      <td>937</td>\n",
       "      <td>1</td>\n",
       "      <td>0.61045</td>\n",
       "      <td>9</td>\n",
       "      <td>1.0</td>\n",
       "      <td>2.0</td>\n",
       "      <td>0.0</td>\n",
       "      <td>87832</td>\n",
       "      <td>Since the clinical data have been equivocal in...</td>\n",
       "      <td>40</td>\n",
       "      <td>65854</td>\n",
       "    </tr>\n",
       "  </tbody>\n",
       "</table>\n",
       "</div>"
      ],
      "text/plain": [
       "          doid_id          doid_name resource resource_id drugbank_id  \\\n",
       "795720  DOID:1826  epilepsy syndrome      EFO         474     DB00313   \n",
       "828935  DOID:1826  epilepsy syndrome      EFO         474     DB01068   \n",
       "\n",
       "            drug_name            disease            sources  hetionet  \\\n",
       "795720  Valproic Acid  epilepsy syndrome  pharmacotherapydb         1   \n",
       "828935     Clonazepam  epilepsy syndrome  pharmacotherapydb         1   \n",
       "\n",
       "        n_sentences  has_sentence  partition_rank  split  \\\n",
       "795720         9402             1         0.44093      9   \n",
       "828935          937             1         0.61045      9   \n",
       "\n",
       "        compound_mention_count  disease_mention_count  gene_mention_count  \\\n",
       "795720                     1.0                    1.0                 0.0   \n",
       "828935                     1.0                    2.0                 0.0   \n",
       "\n",
       "        sentence_id                                               text  \\\n",
       "795720       686471  The rectal route of administration was effecti...   \n",
       "828935        87832  Since the clinical data have been equivocal in...   \n",
       "\n",
       "        sen_length  candidate_id  \n",
       "795720          20         65851  \n",
       "828935          40         65854  "
      ]
     },
     "execution_count": 2,
     "metadata": {},
     "output_type": "execute_result"
    }
   ],
   "source": [
    "total_candidates_df = (\n",
    "    pd\n",
    "    .read_table(\"../dataset_statistics/results/all_ctd_map.tsv.xz\")\n",
    "    .sort_values(\"candidate_id\")\n",
    ")\n",
    "total_candidates_df.head(2)"
   ]
  },
  {
   "cell_type": "code",
   "execution_count": 3,
   "metadata": {
    "ExecuteTime": {
     "end_time": "2019-07-21T21:20:26.950310Z",
     "start_time": "2019-07-21T21:20:26.675292Z"
    }
   },
   "outputs": [
    {
     "data": {
      "text/html": [
       "<div>\n",
       "<style scoped>\n",
       "    .dataframe tbody tr th:only-of-type {\n",
       "        vertical-align: middle;\n",
       "    }\n",
       "\n",
       "    .dataframe tbody tr th {\n",
       "        vertical-align: top;\n",
       "    }\n",
       "\n",
       "    .dataframe thead th {\n",
       "        text-align: right;\n",
       "    }\n",
       "</style>\n",
       "<table border=\"1\" class=\"dataframe\">\n",
       "  <thead>\n",
       "    <tr style=\"text-align: right;\">\n",
       "      <th></th>\n",
       "      <th>candidate_id</th>\n",
       "      <th>model_prediction</th>\n",
       "    </tr>\n",
       "  </thead>\n",
       "  <tbody>\n",
       "    <tr>\n",
       "      <th>0</th>\n",
       "      <td>65851</td>\n",
       "      <td>0.828019</td>\n",
       "    </tr>\n",
       "    <tr>\n",
       "      <th>1</th>\n",
       "      <td>65854</td>\n",
       "      <td>0.519115</td>\n",
       "    </tr>\n",
       "  </tbody>\n",
       "</table>\n",
       "</div>"
      ],
      "text/plain": [
       "   candidate_id  model_prediction\n",
       "0         65851          0.828019\n",
       "1         65854          0.519115"
      ]
     },
     "execution_count": 3,
     "metadata": {},
     "output_type": "execute_result"
    }
   ],
   "source": [
    "sentence_prediction_df = (\n",
    "    pd\n",
    "    .read_table(\"results/all_predicted_sentences.tsv\")\n",
    "    .sort_values(\"candidate_id\")\n",
    ")\n",
    "sentence_prediction_df.head(2)"
   ]
  },
  {
   "cell_type": "code",
   "execution_count": 4,
   "metadata": {
    "ExecuteTime": {
     "end_time": "2019-07-21T21:22:46.762727Z",
     "start_time": "2019-07-21T21:20:26.951883Z"
    }
   },
   "outputs": [
    {
     "data": {
      "text/html": [
       "<div>\n",
       "<style scoped>\n",
       "    .dataframe tbody tr th:only-of-type {\n",
       "        vertical-align: middle;\n",
       "    }\n",
       "\n",
       "    .dataframe tbody tr th {\n",
       "        vertical-align: top;\n",
       "    }\n",
       "\n",
       "    .dataframe thead th {\n",
       "        text-align: right;\n",
       "    }\n",
       "</style>\n",
       "<table border=\"1\" class=\"dataframe\">\n",
       "  <thead>\n",
       "    <tr style=\"text-align: right;\">\n",
       "      <th></th>\n",
       "      <th>doid_id</th>\n",
       "      <th>doid_name</th>\n",
       "      <th>drugbank_id</th>\n",
       "      <th>drug_name</th>\n",
       "      <th>text</th>\n",
       "      <th>hetionet</th>\n",
       "      <th>candidate_id</th>\n",
       "      <th>model_prediction</th>\n",
       "    </tr>\n",
       "  </thead>\n",
       "  <tbody>\n",
       "    <tr>\n",
       "      <th>0</th>\n",
       "      <td>DOID:1826</td>\n",
       "      <td>epilepsy syndrome</td>\n",
       "      <td>DB00313</td>\n",
       "      <td>Valproic Acid</td>\n",
       "      <td>The rectal route of administration was effecti...</td>\n",
       "      <td>1</td>\n",
       "      <td>65851</td>\n",
       "      <td>0.828019</td>\n",
       "    </tr>\n",
       "    <tr>\n",
       "      <th>1</th>\n",
       "      <td>DOID:1826</td>\n",
       "      <td>epilepsy syndrome</td>\n",
       "      <td>DB01068</td>\n",
       "      <td>Clonazepam</td>\n",
       "      <td>Since the clinical data have been equivocal in...</td>\n",
       "      <td>1</td>\n",
       "      <td>65854</td>\n",
       "      <td>0.519115</td>\n",
       "    </tr>\n",
       "  </tbody>\n",
       "</table>\n",
       "</div>"
      ],
      "text/plain": [
       "     doid_id          doid_name drugbank_id      drug_name  \\\n",
       "0  DOID:1826  epilepsy syndrome     DB00313  Valproic Acid   \n",
       "1  DOID:1826  epilepsy syndrome     DB01068     Clonazepam   \n",
       "\n",
       "                                                text  hetionet  candidate_id  \\\n",
       "0  The rectal route of administration was effecti...         1         65851   \n",
       "1  Since the clinical data have been equivocal in...         1         65854   \n",
       "\n",
       "   model_prediction  \n",
       "0          0.828019  \n",
       "1          0.519115  "
      ]
     },
     "execution_count": 4,
     "metadata": {},
     "output_type": "execute_result"
    }
   ],
   "source": [
    "# DataFrame that combines likelihood scores with each candidate sentence\n",
    "total_candidates_pred_df = (\n",
    "    total_candidates_df[[\n",
    "    \"doid_id\", \"doid_name\", \n",
    "    \"drugbank_id\", \"drug_name\", \n",
    "    \"text\", \"hetionet\",\n",
    "    \"candidate_id\"\n",
    "    ]]\n",
    "    .merge(sentence_prediction_df, on=\"candidate_id\")\n",
    ")\n",
    "total_candidates_pred_df.to_csv(\n",
    "    \"results/combined_predicted_ctd_sentences.tsv.xz\", \n",
    "    sep=\"\\t\", index=False, compression=\"xz\"\n",
    ")\n",
    "total_candidates_pred_df.head(2)"
   ]
  },
  {
   "cell_type": "code",
   "execution_count": 5,
   "metadata": {
    "ExecuteTime": {
     "end_time": "2019-07-14T19:21:36.234532Z",
     "start_time": "2019-07-14T19:21:35.921134Z"
    }
   },
   "outputs": [
    {
     "data": {
      "text/html": [
       "<div>\n",
       "<style scoped>\n",
       "    .dataframe tbody tr th:only-of-type {\n",
       "        vertical-align: middle;\n",
       "    }\n",
       "\n",
       "    .dataframe tbody tr th {\n",
       "        vertical-align: top;\n",
       "    }\n",
       "\n",
       "    .dataframe thead tr th {\n",
       "        text-align: left;\n",
       "    }\n",
       "</style>\n",
       "<table border=\"1\" class=\"dataframe\">\n",
       "  <thead>\n",
       "    <tr>\n",
       "      <th></th>\n",
       "      <th>doid_id</th>\n",
       "      <th>drugbank_id</th>\n",
       "      <th colspan=\"3\" halign=\"left\">model_prediction</th>\n",
       "      <th>hetionet</th>\n",
       "      <th>drug_name</th>\n",
       "      <th>doid_name</th>\n",
       "    </tr>\n",
       "    <tr>\n",
       "      <th></th>\n",
       "      <th></th>\n",
       "      <th></th>\n",
       "      <th>max</th>\n",
       "      <th>mean</th>\n",
       "      <th>median</th>\n",
       "      <th>max</th>\n",
       "      <th>first</th>\n",
       "      <th>first</th>\n",
       "    </tr>\n",
       "  </thead>\n",
       "  <tbody>\n",
       "    <tr>\n",
       "      <th>0</th>\n",
       "      <td>DOID:0050156</td>\n",
       "      <td>DB00104</td>\n",
       "      <td>0.647830</td>\n",
       "      <td>0.647830</td>\n",
       "      <td>0.64783</td>\n",
       "      <td>0</td>\n",
       "      <td>Octreotide</td>\n",
       "      <td>idiopathic pulmonary fibrosis</td>\n",
       "    </tr>\n",
       "    <tr>\n",
       "      <th>1</th>\n",
       "      <td>DOID:0050156</td>\n",
       "      <td>DB00129</td>\n",
       "      <td>0.409106</td>\n",
       "      <td>0.396282</td>\n",
       "      <td>0.40212</td>\n",
       "      <td>0</td>\n",
       "      <td>L-Ornithine</td>\n",
       "      <td>idiopathic pulmonary fibrosis</td>\n",
       "    </tr>\n",
       "  </tbody>\n",
       "</table>\n",
       "</div>"
      ],
      "text/plain": [
       "        doid_id drugbank_id model_prediction                    hetionet  \\\n",
       "                                         max      mean   median      max   \n",
       "0  DOID:0050156     DB00104         0.647830  0.647830  0.64783        0   \n",
       "1  DOID:0050156     DB00129         0.409106  0.396282  0.40212        0   \n",
       "\n",
       "     drug_name                      doid_name  \n",
       "         first                          first  \n",
       "0   Octreotide  idiopathic pulmonary fibrosis  \n",
       "1  L-Ornithine  idiopathic pulmonary fibrosis  "
      ]
     },
     "execution_count": 5,
     "metadata": {},
     "output_type": "execute_result"
    }
   ],
   "source": [
    "# DataFrame that groups disease and compound mentions together and takes\n",
    "# the max, median and mean of each group\n",
    "grouped_candidates_pred_df=(\n",
    "    total_candidates_pred_df\n",
    "    .groupby([\"doid_id\", \"drugbank_id\"], as_index=False)\n",
    "    .agg({\n",
    "        \"model_prediction\": ['max', 'mean', 'median'], \n",
    "        'hetionet': 'max',\n",
    "        \"drug_name\": 'first',\n",
    "        \"doid_name\": 'first'\n",
    "    })\n",
    ")\n",
    "grouped_candidates_pred_df.head(2)"
   ]
  },
  {
   "cell_type": "code",
   "execution_count": 6,
   "metadata": {
    "ExecuteTime": {
     "end_time": "2019-07-14T19:21:36.256983Z",
     "start_time": "2019-07-14T19:21:36.236177Z"
    }
   },
   "outputs": [
    {
     "data": {
      "text/html": [
       "<div>\n",
       "<style scoped>\n",
       "    .dataframe tbody tr th:only-of-type {\n",
       "        vertical-align: middle;\n",
       "    }\n",
       "\n",
       "    .dataframe tbody tr th {\n",
       "        vertical-align: top;\n",
       "    }\n",
       "\n",
       "    .dataframe thead th {\n",
       "        text-align: right;\n",
       "    }\n",
       "</style>\n",
       "<table border=\"1\" class=\"dataframe\">\n",
       "  <thead>\n",
       "    <tr style=\"text-align: right;\">\n",
       "      <th></th>\n",
       "      <th>doid_id</th>\n",
       "      <th>drugbank_id</th>\n",
       "      <th>model_prediction_max</th>\n",
       "      <th>model_prediction_mean</th>\n",
       "      <th>model_prediction_median</th>\n",
       "      <th>hetionet</th>\n",
       "      <th>drug_name</th>\n",
       "      <th>doid_name</th>\n",
       "    </tr>\n",
       "  </thead>\n",
       "  <tbody>\n",
       "    <tr>\n",
       "      <th>0</th>\n",
       "      <td>DOID:0050156</td>\n",
       "      <td>DB00104</td>\n",
       "      <td>0.647830</td>\n",
       "      <td>0.647830</td>\n",
       "      <td>0.64783</td>\n",
       "      <td>0</td>\n",
       "      <td>Octreotide</td>\n",
       "      <td>idiopathic pulmonary fibrosis</td>\n",
       "    </tr>\n",
       "    <tr>\n",
       "      <th>1</th>\n",
       "      <td>DOID:0050156</td>\n",
       "      <td>DB00129</td>\n",
       "      <td>0.409106</td>\n",
       "      <td>0.396282</td>\n",
       "      <td>0.40212</td>\n",
       "      <td>0</td>\n",
       "      <td>L-Ornithine</td>\n",
       "      <td>idiopathic pulmonary fibrosis</td>\n",
       "    </tr>\n",
       "  </tbody>\n",
       "</table>\n",
       "</div>"
      ],
      "text/plain": [
       "        doid_id drugbank_id  model_prediction_max  model_prediction_mean  \\\n",
       "0  DOID:0050156     DB00104              0.647830               0.647830   \n",
       "1  DOID:0050156     DB00129              0.409106               0.396282   \n",
       "\n",
       "   model_prediction_median  hetionet    drug_name  \\\n",
       "0                  0.64783         0   Octreotide   \n",
       "1                  0.40212         0  L-Ornithine   \n",
       "\n",
       "                       doid_name  \n",
       "0  idiopathic pulmonary fibrosis  \n",
       "1  idiopathic pulmonary fibrosis  "
      ]
     },
     "execution_count": 6,
     "metadata": {},
     "output_type": "execute_result"
    }
   ],
   "source": [
    "grouped_candidates_pred_df.columns = [\n",
    "    \"_\".join(col) \n",
    "    if col[1] != '' and col[0] not in ['hetionet', 'drug_name', 'doid_name'] else col[0] \n",
    "    for col in grouped_candidates_pred_df.columns.values\n",
    "]\n",
    "grouped_candidates_pred_df.head(2)"
   ]
  },
  {
   "cell_type": "code",
   "execution_count": 7,
   "metadata": {
    "ExecuteTime": {
     "end_time": "2019-07-14T19:21:37.256781Z",
     "start_time": "2019-07-14T19:21:36.258520Z"
    }
   },
   "outputs": [],
   "source": [
    "grouped_candidates_pred_df.to_csv(\n",
    "    \"results/combined_predicted_ctd_sentences.tsv.xz\", \n",
    "    index=False, sep=\"\\t\", compression=\"xz\"\n",
    ")"
   ]
  },
  {
   "cell_type": "code",
   "execution_count": 8,
   "metadata": {
    "ExecuteTime": {
     "end_time": "2019-07-14T19:21:37.272377Z",
     "start_time": "2019-07-14T19:21:37.258041Z"
    }
   },
   "outputs": [
    {
     "data": {
      "text/plain": [
       "0    23009\n",
       "1      437\n",
       "Name: hetionet, dtype: int64"
      ]
     },
     "execution_count": 8,
     "metadata": {},
     "output_type": "execute_result"
    }
   ],
   "source": [
    "grouped_candidates_pred_df.hetionet.value_counts()"
   ]
  },
  {
   "cell_type": "code",
   "execution_count": 9,
   "metadata": {
    "ExecuteTime": {
     "end_time": "2019-07-14T19:21:37.301020Z",
     "start_time": "2019-07-14T19:21:37.273817Z"
    }
   },
   "outputs": [],
   "source": [
    "performance_map = {}"
   ]
  },
  {
   "cell_type": "code",
   "execution_count": 10,
   "metadata": {
    "ExecuteTime": {
     "end_time": "2019-07-14T19:21:37.322592Z",
     "start_time": "2019-07-14T19:21:37.302664Z"
    }
   },
   "outputs": [],
   "source": [
    "precision, recall, pr_threshold = precision_recall_curve(\n",
    "    grouped_candidates_pred_df.hetionet, \n",
    "    grouped_candidates_pred_df.model_prediction_max,\n",
    ")\n",
    "\n",
    "fpr, tpr, roc_threshold = roc_curve(\n",
    "    grouped_candidates_pred_df.hetionet, \n",
    "    grouped_candidates_pred_df.model_prediction_max,\n",
    ")\n",
    "\n",
    "performance_map['max'] = {\n",
    "    \"precision\":precision, \"recall\":recall, \n",
    "    \"pr_threshold\":pr_threshold, \"false_pos\":fpr,\n",
    "    \"true_pos\":tpr, \"roc_threshold\":roc_threshold, \n",
    "}"
   ]
  },
  {
   "cell_type": "code",
   "execution_count": 11,
   "metadata": {
    "ExecuteTime": {
     "end_time": "2019-07-14T19:21:37.343466Z",
     "start_time": "2019-07-14T19:21:37.324080Z"
    }
   },
   "outputs": [],
   "source": [
    "precision, recall, pr_threshold = precision_recall_curve(\n",
    "    grouped_candidates_pred_df.hetionet, \n",
    "    grouped_candidates_pred_df.model_prediction_mean,\n",
    ")\n",
    "\n",
    "fpr, tpr, roc_threshold = roc_curve(\n",
    "    grouped_candidates_pred_df.hetionet, \n",
    "    grouped_candidates_pred_df.model_prediction_mean,\n",
    ")\n",
    "\n",
    "performance_map['mean'] = {\n",
    "    \"precision\":precision, \"recall\":recall, \n",
    "    \"pr_threshold\":pr_threshold, \"false_pos\":fpr,\n",
    "    \"true_pos\":tpr, \"roc_threshold\":roc_threshold, \n",
    "}"
   ]
  },
  {
   "cell_type": "code",
   "execution_count": 12,
   "metadata": {
    "ExecuteTime": {
     "end_time": "2019-07-14T19:21:37.371996Z",
     "start_time": "2019-07-14T19:21:37.344949Z"
    }
   },
   "outputs": [],
   "source": [
    "precision, recall, pr_threshold = precision_recall_curve(\n",
    "    grouped_candidates_pred_df.hetionet, \n",
    "    grouped_candidates_pred_df.model_prediction_median,\n",
    ")\n",
    "\n",
    "fpr, tpr, roc_threshold = roc_curve(\n",
    "    grouped_candidates_pred_df.hetionet, \n",
    "    grouped_candidates_pred_df.model_prediction_median,\n",
    ")\n",
    "\n",
    "performance_map['median'] = {\n",
    "    \"precision\":precision, \"recall\":recall, \n",
    "    \"pr_threshold\":pr_threshold, \"false_pos\":fpr,\n",
    "    \"true_pos\":tpr, \"roc_threshold\":roc_threshold, \n",
    "}"
   ]
  },
  {
   "cell_type": "code",
   "execution_count": 13,
   "metadata": {
    "ExecuteTime": {
     "end_time": "2019-07-14T19:21:37.681060Z",
     "start_time": "2019-07-14T19:21:37.373459Z"
    }
   },
   "outputs": [
    {
     "data": {
      "image/png": "[encoded data removed]",
      "text/plain": [
       "<matplotlib.figure.Figure at 0x7fdaea122c88>"
      ]
     },
     "metadata": {},
     "output_type": "display_data"
    }
   ],
   "source": [
    "for key in performance_map:\n",
    "    plt.plot(\n",
    "        performance_map[key]['false_pos'], \n",
    "        performance_map[key]['true_pos'], \n",
    "        label=f\"{key}:AUC ({auc(performance_map[key]['false_pos'], performance_map[key]['true_pos']):.3f})\"\n",
    "    )\n",
    "plt.plot([0,1], [0,1], linestyle='--', color='black')\n",
    "plt.legend()\n",
    "plt.show()"
   ]
  },
  {
   "cell_type": "code",
   "execution_count": 14,
   "metadata": {
    "ExecuteTime": {
     "end_time": "2019-07-14T19:21:37.703391Z",
     "start_time": "2019-07-14T19:21:37.682438Z"
    }
   },
   "outputs": [
    {
     "name": "stderr",
     "output_type": "stream",
     "text": [
      "/home/danich1/anaconda2/envs/snorkeling/lib/python3.6/site-packages/ipykernel/__main__.py:18: DeprecationWarning: \n",
      ".ix is deprecated. Please use\n",
      ".loc for label based indexing or\n",
      ".iloc for positional indexing\n",
      "\n",
      "See the documentation here:\n",
      "http://pandas.pydata.org/pandas-docs/stable/indexing.html#ix-indexer-is-deprecated\n"
     ]
    },
    {
     "data": {
      "text/plain": [
       "0.7737118000000001"
      ]
     },
     "execution_count": 14,
     "metadata": {},
     "output_type": "execute_result"
    }
   ],
   "source": [
    "# https://stackoverflow.com/questions/28719067/roc-curve-and-cut-off-point-python\n",
    "def Find_Optimal_Cutoff(target, predicted):\n",
    "    \"\"\" Find the optimal probability cutoff point for a classification model related to event rate\n",
    "    Parameters\n",
    "    ----------\n",
    "    target : Matrix with dependent or target data, where rows are observations\n",
    "\n",
    "    predicted : Matrix with predicted data, where rows are observations\n",
    "\n",
    "    Returns\n",
    "    -------     \n",
    "    list type, with optimal cutoff value\n",
    "\n",
    "    \"\"\"\n",
    "    fpr, tpr, threshold = roc_curve(target, predicted)\n",
    "    i = pd.np.arange(len(tpr)) \n",
    "    roc = pd.DataFrame({'tf' : pd.Series(tpr-(1-fpr), index=i), 'threshold' : pd.Series(threshold, index=i)})\n",
    "    roc_t = roc.ix[(roc.tf-0).abs().argsort()[:1]]\n",
    "\n",
    "    return list(roc_t['threshold']) \n",
    "roc_optimal = Find_Optimal_Cutoff(grouped_candidates_pred_df.hetionet.values, grouped_candidates_pred_df.model_prediction_max)[0]\n",
    "roc_optimal"
   ]
  },
  {
   "cell_type": "code",
   "execution_count": 15,
   "metadata": {
    "ExecuteTime": {
     "end_time": "2019-07-14T19:21:37.864396Z",
     "start_time": "2019-07-14T19:21:37.707775Z"
    }
   },
   "outputs": [
    {
     "data": {
      "image/png": "[encoded data removed]",
      "text/plain": [
       "<matplotlib.figure.Figure at 0x7fdaea122b70>"
      ]
     },
     "metadata": {},
     "output_type": "display_data"
    }
   ],
   "source": [
    "for key in performance_map:\n",
    "    plt.plot(\n",
    "        performance_map[key]['recall'], \n",
    "        performance_map[key]['precision'], \n",
    "        label=f\"{key}:AUC ({auc(performance_map[key]['recall'], performance_map[key]['precision']):.3f})\"\n",
    "    )\n",
    "\n",
    "plt.legend()\n",
    "plt.show()"
   ]
  },
  {
   "cell_type": "markdown",
   "metadata": {},
   "source": [
    "# Optimal PR-Cutoff"
   ]
  },
  {
   "cell_type": "code",
   "execution_count": 16,
   "metadata": {
    "ExecuteTime": {
     "end_time": "2019-07-14T19:21:37.896931Z",
     "start_time": "2019-07-14T19:21:37.868679Z"
    }
   },
   "outputs": [
    {
     "data": {
      "text/html": [
       "<div>\n",
       "<style scoped>\n",
       "    .dataframe tbody tr th:only-of-type {\n",
       "        vertical-align: middle;\n",
       "    }\n",
       "\n",
       "    .dataframe tbody tr th {\n",
       "        vertical-align: top;\n",
       "    }\n",
       "\n",
       "    .dataframe thead th {\n",
       "        text-align: right;\n",
       "    }\n",
       "</style>\n",
       "<table border=\"1\" class=\"dataframe\">\n",
       "  <thead>\n",
       "    <tr style=\"text-align: right;\">\n",
       "      <th></th>\n",
       "      <th>precision</th>\n",
       "      <th>recall</th>\n",
       "      <th>pr_threshold</th>\n",
       "    </tr>\n",
       "  </thead>\n",
       "  <tbody>\n",
       "    <tr>\n",
       "      <th>19179</th>\n",
       "      <td>1.000000</td>\n",
       "      <td>0.002288</td>\n",
       "      <td>0.972079</td>\n",
       "    </tr>\n",
       "    <tr>\n",
       "      <th>19162</th>\n",
       "      <td>0.888889</td>\n",
       "      <td>0.036613</td>\n",
       "      <td>0.956577</td>\n",
       "    </tr>\n",
       "  </tbody>\n",
       "</table>\n",
       "</div>"
      ],
      "text/plain": [
       "       precision    recall  pr_threshold\n",
       "19179   1.000000  0.002288      0.972079\n",
       "19162   0.888889  0.036613      0.956577"
      ]
     },
     "execution_count": 16,
     "metadata": {},
     "output_type": "execute_result"
    }
   ],
   "source": [
    "threshold_df = (\n",
    "    pd.DataFrame(\n",
    "        list(\n",
    "            zip(\n",
    "                performance_map['max']['precision'], \n",
    "                performance_map['max']['recall'], \n",
    "                performance_map['max']['pr_threshold']\n",
    "            )\n",
    "        ),\n",
    "        columns=[\"precision\", \"recall\", \"pr_threshold\"]\n",
    "    )\n",
    "    .sort_values(\"precision\", ascending=False)\n",
    ")\n",
    "threshold_df.head(2)"
   ]
  },
  {
   "cell_type": "code",
   "execution_count": 17,
   "metadata": {
    "ExecuteTime": {
     "end_time": "2019-07-14T19:21:38.180597Z",
     "start_time": "2019-07-14T19:21:37.898382Z"
    }
   },
   "outputs": [
    {
     "data": {
      "text/html": [
       "<div>\n",
       "<style scoped>\n",
       "    .dataframe tbody tr th:only-of-type {\n",
       "        vertical-align: middle;\n",
       "    }\n",
       "\n",
       "    .dataframe tbody tr th {\n",
       "        vertical-align: top;\n",
       "    }\n",
       "\n",
       "    .dataframe thead th {\n",
       "        text-align: right;\n",
       "    }\n",
       "</style>\n",
       "<table border=\"1\" class=\"dataframe\">\n",
       "  <thead>\n",
       "    <tr style=\"text-align: right;\">\n",
       "      <th></th>\n",
       "      <th>edges</th>\n",
       "      <th>in_hetionet</th>\n",
       "      <th>precision</th>\n",
       "      <th>sen_cutoff</th>\n",
       "    </tr>\n",
       "  </thead>\n",
       "  <tbody>\n",
       "    <tr>\n",
       "      <th>0</th>\n",
       "      <td>1</td>\n",
       "      <td>Existing</td>\n",
       "      <td>1.00</td>\n",
       "      <td>0.972079</td>\n",
       "    </tr>\n",
       "    <tr>\n",
       "      <th>1</th>\n",
       "      <td>1</td>\n",
       "      <td>Existing</td>\n",
       "      <td>0.89</td>\n",
       "      <td>0.972079</td>\n",
       "    </tr>\n",
       "    <tr>\n",
       "      <th>2</th>\n",
       "      <td>16</td>\n",
       "      <td>Existing</td>\n",
       "      <td>0.88</td>\n",
       "      <td>0.956577</td>\n",
       "    </tr>\n",
       "    <tr>\n",
       "      <th>3</th>\n",
       "      <td>2</td>\n",
       "      <td>Novel</td>\n",
       "      <td>0.88</td>\n",
       "      <td>0.956577</td>\n",
       "    </tr>\n",
       "    <tr>\n",
       "      <th>4</th>\n",
       "      <td>16</td>\n",
       "      <td>Existing</td>\n",
       "      <td>0.87</td>\n",
       "      <td>0.956577</td>\n",
       "    </tr>\n",
       "    <tr>\n",
       "      <th>5</th>\n",
       "      <td>2</td>\n",
       "      <td>Novel</td>\n",
       "      <td>0.87</td>\n",
       "      <td>0.956577</td>\n",
       "    </tr>\n",
       "    <tr>\n",
       "      <th>6</th>\n",
       "      <td>16</td>\n",
       "      <td>Existing</td>\n",
       "      <td>0.86</td>\n",
       "      <td>0.956577</td>\n",
       "    </tr>\n",
       "    <tr>\n",
       "      <th>7</th>\n",
       "      <td>2</td>\n",
       "      <td>Novel</td>\n",
       "      <td>0.86</td>\n",
       "      <td>0.956577</td>\n",
       "    </tr>\n",
       "    <tr>\n",
       "      <th>8</th>\n",
       "      <td>17</td>\n",
       "      <td>Existing</td>\n",
       "      <td>0.85</td>\n",
       "      <td>0.954868</td>\n",
       "    </tr>\n",
       "    <tr>\n",
       "      <th>9</th>\n",
       "      <td>3</td>\n",
       "      <td>Novel</td>\n",
       "      <td>0.85</td>\n",
       "      <td>0.954868</td>\n",
       "    </tr>\n",
       "  </tbody>\n",
       "</table>\n",
       "</div>"
      ],
      "text/plain": [
       "   edges in_hetionet  precision  sen_cutoff\n",
       "0      1    Existing       1.00    0.972079\n",
       "1      1    Existing       0.89    0.972079\n",
       "2     16    Existing       0.88    0.956577\n",
       "3      2       Novel       0.88    0.956577\n",
       "4     16    Existing       0.87    0.956577\n",
       "5      2       Novel       0.87    0.956577\n",
       "6     16    Existing       0.86    0.956577\n",
       "7      2       Novel       0.86    0.956577\n",
       "8     17    Existing       0.85    0.954868\n",
       "9      3       Novel       0.85    0.954868"
      ]
     },
     "execution_count": 17,
     "metadata": {},
     "output_type": "execute_result"
    }
   ],
   "source": [
    "#precision_thresholds = pd.np.linspace(0,1,num=5)\n",
    "precision_thresholds = threshold_df.round(2).drop_duplicates(\"precision\").precision.values\n",
    "\n",
    "# Add the lowest precision rather than\n",
    "# Keep it zero\n",
    "precision_thresholds = (\n",
    "    pd.np.where(\n",
    "        precision_thresholds==0, \n",
    "        threshold_df.precision.min(), \n",
    "        precision_thresholds\n",
    "    )\n",
    ")\n",
    "\n",
    "performance_records = []\n",
    "for precision_cutoff in precision_thresholds:\n",
    "\n",
    "    cutoff = (\n",
    "        threshold_df\n",
    "        .query(\"precision>=@precision_cutoff\")\n",
    "        .pr_threshold\n",
    "        .min()\n",
    "    )\n",
    "    \n",
    "    values_added = (\n",
    "        grouped_candidates_pred_df\n",
    "        .query(\"model_prediction_max >= @cutoff\")\n",
    "        .hetionet\n",
    "        .value_counts()\n",
    "    )\n",
    "    \n",
    "    series_keys = list(values_added.keys())\n",
    "    for key in series_keys:\n",
    "        performance_records.append(\n",
    "           {  \n",
    "               \"edges\": values_added[key], \n",
    "               \"in_hetionet\": \"Existing\" if key == 1 else \"Novel\", \n",
    "               \"precision\": precision_cutoff,\n",
    "               \"sen_cutoff\": cutoff\n",
    "           }\n",
    "        )\n",
    "   \n",
    "    \n",
    "edges_added_df = (\n",
    "    pd\n",
    "    .DataFrame\n",
    "    .from_records(performance_records)\n",
    ")\n",
    "edges_added_df.head(10)"
   ]
  },
  {
   "cell_type": "code",
   "execution_count": 18,
   "metadata": {
    "ExecuteTime": {
     "end_time": "2019-07-14T19:21:38.641619Z",
     "start_time": "2019-07-14T19:21:38.181896Z"
    }
   },
   "outputs": [
    {
     "data": {
      "text/plain": [
       "[None]"
      ]
     },
     "execution_count": 18,
     "metadata": {},
     "output_type": "execute_result"
    },
    {
     "data": {
      "image/png": "[encoded data removed]",
      "text/plain": [
       "<matplotlib.figure.Figure at 0x7fdaea0750b8>"
      ]
     },
     "metadata": {},
     "output_type": "display_data"
    }
   ],
   "source": [
    "ax = sns.scatterplot(x=\"precision\", y=\"edges\", hue=\"in_hetionet\", data=edges_added_df)\n",
    "ax.set(yscale=\"log\")"
   ]
  },
  {
   "cell_type": "code",
   "execution_count": 19,
   "metadata": {
    "ExecuteTime": {
     "end_time": "2019-07-14T19:21:38.659409Z",
     "start_time": "2019-07-14T19:21:38.645145Z"
    }
   },
   "outputs": [],
   "source": [
    "edges_added_df.to_csv(\"results/precision_ctd_edges_added.tsv\", index=False, sep=\"\\t\")"
   ]
  },
  {
   "cell_type": "markdown",
   "metadata": {},
   "source": [
    "# Optimal ROC Cutoff"
   ]
  },
  {
   "cell_type": "code",
   "execution_count": 20,
   "metadata": {
    "ExecuteTime": {
     "end_time": "2019-07-14T19:21:38.745187Z",
     "start_time": "2019-07-14T19:21:38.660783Z"
    }
   },
   "outputs": [
    {
     "data": {
      "text/plain": [
       "0    3142\n",
       "1     376\n",
       "Name: hetionet, dtype: int64"
      ]
     },
     "execution_count": 20,
     "metadata": {},
     "output_type": "execute_result"
    }
   ],
   "source": [
    "(\n",
    "    grouped_candidates_pred_df\n",
    "    .query(\"model_prediction_max > @roc_optimal\")\n",
    "    .sort_values(\"hetionet\")\n",
    "    .hetionet.value_counts()\n",
    ")"
   ]
  },
  {
   "cell_type": "code",
   "execution_count": 21,
   "metadata": {
    "ExecuteTime": {
     "end_time": "2019-07-14T19:21:38.842804Z",
     "start_time": "2019-07-14T19:21:38.746594Z"
    },
    "scrolled": false
   },
   "outputs": [
    {
     "data": {
      "text/html": [
       "<div>\n",
       "<style scoped>\n",
       "    .dataframe tbody tr th:only-of-type {\n",
       "        vertical-align: middle;\n",
       "    }\n",
       "\n",
       "    .dataframe tbody tr th {\n",
       "        vertical-align: top;\n",
       "    }\n",
       "\n",
       "    .dataframe thead th {\n",
       "        text-align: right;\n",
       "    }\n",
       "</style>\n",
       "<table border=\"1\" class=\"dataframe\">\n",
       "  <thead>\n",
       "    <tr style=\"text-align: right;\">\n",
       "      <th></th>\n",
       "      <th>doid_id</th>\n",
       "      <th>drugbank_id</th>\n",
       "      <th>model_prediction_max</th>\n",
       "      <th>model_prediction_mean</th>\n",
       "      <th>model_prediction_median</th>\n",
       "      <th>hetionet</th>\n",
       "      <th>drug_name</th>\n",
       "      <th>doid_name</th>\n",
       "    </tr>\n",
       "  </thead>\n",
       "  <tbody>\n",
       "    <tr>\n",
       "      <th>17102</th>\n",
       "      <td>DOID:3393</td>\n",
       "      <td>DB02032</td>\n",
       "      <td>0.970514</td>\n",
       "      <td>0.534645</td>\n",
       "      <td>0.499416</td>\n",
       "      <td>0</td>\n",
       "      <td>1-(3-Mercapto-2-Methyl-Propionyl)-Pyrrolidine-...</td>\n",
       "      <td>coronary artery disease</td>\n",
       "    </tr>\n",
       "    <tr>\n",
       "      <th>2112</th>\n",
       "      <td>DOID:10763</td>\n",
       "      <td>DB00328</td>\n",
       "      <td>0.962779</td>\n",
       "      <td>0.492992</td>\n",
       "      <td>0.468490</td>\n",
       "      <td>0</td>\n",
       "      <td>Indomethacin</td>\n",
       "      <td>hypertension</td>\n",
       "    </tr>\n",
       "    <tr>\n",
       "      <th>18834</th>\n",
       "      <td>DOID:5419</td>\n",
       "      <td>DB00734</td>\n",
       "      <td>0.955721</td>\n",
       "      <td>0.561866</td>\n",
       "      <td>0.532552</td>\n",
       "      <td>0</td>\n",
       "      <td>Risperidone</td>\n",
       "      <td>schizophrenia</td>\n",
       "    </tr>\n",
       "    <tr>\n",
       "      <th>2543</th>\n",
       "      <td>DOID:10763</td>\n",
       "      <td>DB02638</td>\n",
       "      <td>0.954637</td>\n",
       "      <td>0.534979</td>\n",
       "      <td>0.506213</td>\n",
       "      <td>0</td>\n",
       "      <td>Terlipressin</td>\n",
       "      <td>hypertension</td>\n",
       "    </tr>\n",
       "    <tr>\n",
       "      <th>2476</th>\n",
       "      <td>DOID:10763</td>\n",
       "      <td>DB01348</td>\n",
       "      <td>0.952796</td>\n",
       "      <td>0.569354</td>\n",
       "      <td>0.546653</td>\n",
       "      <td>0</td>\n",
       "      <td>Spirapril</td>\n",
       "      <td>hypertension</td>\n",
       "    </tr>\n",
       "    <tr>\n",
       "      <th>7675</th>\n",
       "      <td>DOID:1595</td>\n",
       "      <td>DB00472</td>\n",
       "      <td>0.950269</td>\n",
       "      <td>0.552200</td>\n",
       "      <td>0.520536</td>\n",
       "      <td>0</td>\n",
       "      <td>Fluoxetine</td>\n",
       "      <td>endogenous depression</td>\n",
       "    </tr>\n",
       "    <tr>\n",
       "      <th>20459</th>\n",
       "      <td>DOID:784</td>\n",
       "      <td>DB00678</td>\n",
       "      <td>0.949682</td>\n",
       "      <td>0.551981</td>\n",
       "      <td>0.519922</td>\n",
       "      <td>0</td>\n",
       "      <td>Losartan</td>\n",
       "      <td>chronic kidney failure</td>\n",
       "    </tr>\n",
       "    <tr>\n",
       "      <th>7588</th>\n",
       "      <td>DOID:1595</td>\n",
       "      <td>DB00215</td>\n",
       "      <td>0.948622</td>\n",
       "      <td>0.573915</td>\n",
       "      <td>0.543765</td>\n",
       "      <td>0</td>\n",
       "      <td>Citalopram</td>\n",
       "      <td>endogenous depression</td>\n",
       "    </tr>\n",
       "    <tr>\n",
       "      <th>9840</th>\n",
       "      <td>DOID:1826</td>\n",
       "      <td>DB00396</td>\n",
       "      <td>0.948301</td>\n",
       "      <td>0.472543</td>\n",
       "      <td>0.448503</td>\n",
       "      <td>0</td>\n",
       "      <td>Progesterone</td>\n",
       "      <td>epilepsy syndrome</td>\n",
       "    </tr>\n",
       "    <tr>\n",
       "      <th>2528</th>\n",
       "      <td>DOID:10763</td>\n",
       "      <td>DB02032</td>\n",
       "      <td>0.948208</td>\n",
       "      <td>0.525844</td>\n",
       "      <td>0.493684</td>\n",
       "      <td>0</td>\n",
       "      <td>1-(3-Mercapto-2-Methyl-Propionyl)-Pyrrolidine-...</td>\n",
       "      <td>hypertension</td>\n",
       "    </tr>\n",
       "  </tbody>\n",
       "</table>\n",
       "</div>"
      ],
      "text/plain": [
       "          doid_id drugbank_id  model_prediction_max  model_prediction_mean  \\\n",
       "17102   DOID:3393     DB02032              0.970514               0.534645   \n",
       "2112   DOID:10763     DB00328              0.962779               0.492992   \n",
       "18834   DOID:5419     DB00734              0.955721               0.561866   \n",
       "2543   DOID:10763     DB02638              0.954637               0.534979   \n",
       "2476   DOID:10763     DB01348              0.952796               0.569354   \n",
       "7675    DOID:1595     DB00472              0.950269               0.552200   \n",
       "20459    DOID:784     DB00678              0.949682               0.551981   \n",
       "7588    DOID:1595     DB00215              0.948622               0.573915   \n",
       "9840    DOID:1826     DB00396              0.948301               0.472543   \n",
       "2528   DOID:10763     DB02032              0.948208               0.525844   \n",
       "\n",
       "       model_prediction_median  hetionet  \\\n",
       "17102                 0.499416         0   \n",
       "2112                  0.468490         0   \n",
       "18834                 0.532552         0   \n",
       "2543                  0.506213         0   \n",
       "2476                  0.546653         0   \n",
       "7675                  0.520536         0   \n",
       "20459                 0.519922         0   \n",
       "7588                  0.543765         0   \n",
       "9840                  0.448503         0   \n",
       "2528                  0.493684         0   \n",
       "\n",
       "                                               drug_name  \\\n",
       "17102  1-(3-Mercapto-2-Methyl-Propionyl)-Pyrrolidine-...   \n",
       "2112                                        Indomethacin   \n",
       "18834                                        Risperidone   \n",
       "2543                                        Terlipressin   \n",
       "2476                                           Spirapril   \n",
       "7675                                          Fluoxetine   \n",
       "20459                                           Losartan   \n",
       "7588                                          Citalopram   \n",
       "9840                                        Progesterone   \n",
       "2528   1-(3-Mercapto-2-Methyl-Propionyl)-Pyrrolidine-...   \n",
       "\n",
       "                     doid_name  \n",
       "17102  coronary artery disease  \n",
       "2112              hypertension  \n",
       "18834            schizophrenia  \n",
       "2543              hypertension  \n",
       "2476              hypertension  \n",
       "7675     endogenous depression  \n",
       "20459   chronic kidney failure  \n",
       "7588     endogenous depression  \n",
       "9840         epilepsy syndrome  \n",
       "2528              hypertension  "
      ]
     },
     "execution_count": 21,
     "metadata": {},
     "output_type": "execute_result"
    }
   ],
   "source": [
    "(\n",
    "    grouped_candidates_pred_df\n",
    "    .query(\"model_prediction_max > @roc_optimal\")\n",
    "    .sort_values([\"hetionet\", \"model_prediction_max\"], ascending=[True, False])\n",
    "    .head(10)\n",
    ")"
   ]
  }
 ],
 "metadata": {
  "kernelspec": {
   "display_name": "Python [conda env:snorkeling]",
   "language": "python",
   "name": "conda-env-snorkeling-py"
  },
  "language_info": {
   "codemirror_mode": {
    "name": "ipython",
    "version": 3
   },
   "file_extension": ".py",
   "mimetype": "text/x-python",
   "name": "python",
   "nbconvert_exporter": "python",
   "pygments_lexer": "ipython3",
   "version": "3.6.4"
  }
 },
 "nbformat": 4,
 "nbformat_minor": 2
}
