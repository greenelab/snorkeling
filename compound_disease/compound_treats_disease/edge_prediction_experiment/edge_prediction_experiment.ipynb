{
 "cells": [
  {
   "cell_type": "markdown",
   "metadata": {},
   "source": [
    "# Compound Treats Disease Edge Prediction"
   ]
  },
  {
   "cell_type": "markdown",
   "metadata": {},
   "source": [
    "This notebook is designed to take the next step moving from predicted sentences to edge predictions. After training the discriminator model, each sentences contains a confidence score for the likelihood of mentioning a relationship. Multiple relationships contain multiple sentences, which makes establishing an edge unintuitive. Is taking the max score appropiate for determining existence of an edge? Does taking the mean of each relationship make more sense? The answer towards these questions are shown below."
   ]
  },
  {
   "cell_type": "code",
   "execution_count": 1,
   "metadata": {
    "ExecuteTime": {
     "end_time": "2020-01-06T18:43:26.093189Z",
     "start_time": "2020-01-06T18:43:25.151679Z"
    }
   },
   "outputs": [],
   "source": [
    "%load_ext autoreload\n",
    "%autoreload 2\n",
    "%matplotlib inline\n",
    "\n",
    "import pandas as pd\n",
    "from sklearn.metrics import precision_recall_curve, roc_curve, auc\n",
    "import matplotlib.pyplot as plt\n",
    "import seaborn as sns\n",
    "import plotnine as p9"
   ]
  },
  {
   "cell_type": "code",
   "execution_count": 2,
   "metadata": {
    "ExecuteTime": {
     "end_time": "2020-01-06T18:43:34.377623Z",
     "start_time": "2020-01-06T18:43:26.094461Z"
    }
   },
   "outputs": [
    {
     "name": "stderr",
     "output_type": "stream",
     "text": [
      "/home/danich1/.local/lib/python3.6/site-packages/IPython/core/interactiveshell.py:3058: DtypeWarning: Columns (3,6,7) have mixed types. Specify dtype option on import or set low_memory=False.\n",
      "  interactivity=interactivity, compiler=compiler, result=result)\n"
     ]
    },
    {
     "data": {
      "text/html": [
       "<div>\n",
       "<style scoped>\n",
       "    .dataframe tbody tr th:only-of-type {\n",
       "        vertical-align: middle;\n",
       "    }\n",
       "\n",
       "    .dataframe tbody tr th {\n",
       "        vertical-align: top;\n",
       "    }\n",
       "\n",
       "    .dataframe thead th {\n",
       "        text-align: right;\n",
       "    }\n",
       "</style>\n",
       "<table border=\"1\" class=\"dataframe\">\n",
       "  <thead>\n",
       "    <tr style=\"text-align: right;\">\n",
       "      <th></th>\n",
       "      <th>doid_id</th>\n",
       "      <th>doid_name</th>\n",
       "      <th>resource</th>\n",
       "      <th>resource_id</th>\n",
       "      <th>drugbank_id</th>\n",
       "      <th>drug_name</th>\n",
       "      <th>disease</th>\n",
       "      <th>sources</th>\n",
       "      <th>hetionet</th>\n",
       "      <th>n_sentences</th>\n",
       "      <th>has_sentence</th>\n",
       "      <th>partition_rank</th>\n",
       "      <th>split</th>\n",
       "      <th>compound_mention_count</th>\n",
       "      <th>disease_mention_count</th>\n",
       "      <th>gene_mention_count</th>\n",
       "      <th>sentence_id</th>\n",
       "      <th>text</th>\n",
       "      <th>sen_length</th>\n",
       "      <th>candidate_id</th>\n",
       "    </tr>\n",
       "  </thead>\n",
       "  <tbody>\n",
       "    <tr>\n",
       "      <th>795720</th>\n",
       "      <td>DOID:1826</td>\n",
       "      <td>epilepsy syndrome</td>\n",
       "      <td>EFO</td>\n",
       "      <td>474</td>\n",
       "      <td>DB00313</td>\n",
       "      <td>Valproic Acid</td>\n",
       "      <td>epilepsy syndrome</td>\n",
       "      <td>pharmacotherapydb</td>\n",
       "      <td>1</td>\n",
       "      <td>9402</td>\n",
       "      <td>1</td>\n",
       "      <td>0.44093</td>\n",
       "      <td>9</td>\n",
       "      <td>1.0</td>\n",
       "      <td>1.0</td>\n",
       "      <td>0.0</td>\n",
       "      <td>686471</td>\n",
       "      <td>The rectal route of administration was effecti...</td>\n",
       "      <td>20</td>\n",
       "      <td>65851</td>\n",
       "    </tr>\n",
       "    <tr>\n",
       "      <th>828935</th>\n",
       "      <td>DOID:1826</td>\n",
       "      <td>epilepsy syndrome</td>\n",
       "      <td>EFO</td>\n",
       "      <td>474</td>\n",
       "      <td>DB01068</td>\n",
       "      <td>Clonazepam</td>\n",
       "      <td>epilepsy syndrome</td>\n",
       "      <td>pharmacotherapydb</td>\n",
       "      <td>1</td>\n",
       "      <td>937</td>\n",
       "      <td>1</td>\n",
       "      <td>0.61045</td>\n",
       "      <td>9</td>\n",
       "      <td>1.0</td>\n",
       "      <td>2.0</td>\n",
       "      <td>0.0</td>\n",
       "      <td>87832</td>\n",
       "      <td>Since the clinical data have been equivocal in...</td>\n",
       "      <td>40</td>\n",
       "      <td>65854</td>\n",
       "    </tr>\n",
       "  </tbody>\n",
       "</table>\n",
       "</div>"
      ],
      "text/plain": [
       "          doid_id          doid_name resource resource_id drugbank_id  \\\n",
       "795720  DOID:1826  epilepsy syndrome      EFO         474     DB00313   \n",
       "828935  DOID:1826  epilepsy syndrome      EFO         474     DB01068   \n",
       "\n",
       "            drug_name            disease            sources  hetionet  \\\n",
       "795720  Valproic Acid  epilepsy syndrome  pharmacotherapydb         1   \n",
       "828935     Clonazepam  epilepsy syndrome  pharmacotherapydb         1   \n",
       "\n",
       "        n_sentences  has_sentence  partition_rank  split  \\\n",
       "795720         9402             1         0.44093      9   \n",
       "828935          937             1         0.61045      9   \n",
       "\n",
       "        compound_mention_count  disease_mention_count  gene_mention_count  \\\n",
       "795720                     1.0                    1.0                 0.0   \n",
       "828935                     1.0                    2.0                 0.0   \n",
       "\n",
       "        sentence_id                                               text  \\\n",
       "795720       686471  The rectal route of administration was effecti...   \n",
       "828935        87832  Since the clinical data have been equivocal in...   \n",
       "\n",
       "        sen_length  candidate_id  \n",
       "795720          20         65851  \n",
       "828935          40         65854  "
      ]
     },
     "execution_count": 2,
     "metadata": {},
     "output_type": "execute_result"
    }
   ],
   "source": [
    "total_candidates_df = (\n",
    "    pd\n",
    "    .read_csv(\"../dataset_statistics/results/all_ctd_map.tsv.xz\", sep=\"\\t\")\n",
    "    .sort_values(\"candidate_id\")\n",
    ")\n",
    "total_candidates_df.head(2)"
   ]
  },
  {
   "cell_type": "code",
   "execution_count": 3,
   "metadata": {
    "ExecuteTime": {
     "end_time": "2020-01-06T18:43:35.185970Z",
     "start_time": "2020-01-06T18:43:34.379284Z"
    }
   },
   "outputs": [
    {
     "data": {
      "text/html": [
       "<div>\n",
       "<style scoped>\n",
       "    .dataframe tbody tr th:only-of-type {\n",
       "        vertical-align: middle;\n",
       "    }\n",
       "\n",
       "    .dataframe tbody tr th {\n",
       "        vertical-align: top;\n",
       "    }\n",
       "\n",
       "    .dataframe thead th {\n",
       "        text-align: right;\n",
       "    }\n",
       "</style>\n",
       "<table border=\"1\" class=\"dataframe\">\n",
       "  <thead>\n",
       "    <tr style=\"text-align: right;\">\n",
       "      <th></th>\n",
       "      <th>candidate_id</th>\n",
       "      <th>pred</th>\n",
       "    </tr>\n",
       "  </thead>\n",
       "  <tbody>\n",
       "    <tr>\n",
       "      <th>650175</th>\n",
       "      <td>65851</td>\n",
       "      <td>0.963179</td>\n",
       "    </tr>\n",
       "    <tr>\n",
       "      <th>562154</th>\n",
       "      <td>65854</td>\n",
       "      <td>0.492458</td>\n",
       "    </tr>\n",
       "  </tbody>\n",
       "</table>\n",
       "</div>"
      ],
      "text/plain": [
       "        candidate_id      pred\n",
       "650175         65851  0.963179\n",
       "562154         65854  0.492458"
      ]
     },
     "execution_count": 3,
     "metadata": {},
     "output_type": "execute_result"
    }
   ],
   "source": [
    "sentence_prediction_df = (\n",
    "    pd\n",
    "    .read_csv(\"input/all_predicted_ctd_sentences.tsv.xz\", sep=\"\\t\")\n",
    "    .sort_values(\"candidate_id\")\n",
    ")\n",
    "sentence_prediction_df.head(2)"
   ]
  },
  {
   "cell_type": "code",
   "execution_count": 4,
   "metadata": {
    "ExecuteTime": {
     "end_time": "2020-01-06T18:43:35.520777Z",
     "start_time": "2020-01-06T18:43:35.189303Z"
    }
   },
   "outputs": [
    {
     "data": {
      "text/html": [
       "<div>\n",
       "<style scoped>\n",
       "    .dataframe tbody tr th:only-of-type {\n",
       "        vertical-align: middle;\n",
       "    }\n",
       "\n",
       "    .dataframe tbody tr th {\n",
       "        vertical-align: top;\n",
       "    }\n",
       "\n",
       "    .dataframe thead th {\n",
       "        text-align: right;\n",
       "    }\n",
       "</style>\n",
       "<table border=\"1\" class=\"dataframe\">\n",
       "  <thead>\n",
       "    <tr style=\"text-align: right;\">\n",
       "      <th></th>\n",
       "      <th>doid_id</th>\n",
       "      <th>doid_name</th>\n",
       "      <th>drugbank_id</th>\n",
       "      <th>drug_name</th>\n",
       "      <th>text</th>\n",
       "      <th>hetionet</th>\n",
       "      <th>candidate_id</th>\n",
       "      <th>split</th>\n",
       "      <th>pred</th>\n",
       "    </tr>\n",
       "  </thead>\n",
       "  <tbody>\n",
       "    <tr>\n",
       "      <th>0</th>\n",
       "      <td>DOID:1826</td>\n",
       "      <td>epilepsy syndrome</td>\n",
       "      <td>DB00313</td>\n",
       "      <td>Valproic Acid</td>\n",
       "      <td>The rectal route of administration was effecti...</td>\n",
       "      <td>1</td>\n",
       "      <td>65851</td>\n",
       "      <td>9</td>\n",
       "      <td>0.963179</td>\n",
       "    </tr>\n",
       "    <tr>\n",
       "      <th>1</th>\n",
       "      <td>DOID:1826</td>\n",
       "      <td>epilepsy syndrome</td>\n",
       "      <td>DB01068</td>\n",
       "      <td>Clonazepam</td>\n",
       "      <td>Since the clinical data have been equivocal in...</td>\n",
       "      <td>1</td>\n",
       "      <td>65854</td>\n",
       "      <td>9</td>\n",
       "      <td>0.492458</td>\n",
       "    </tr>\n",
       "  </tbody>\n",
       "</table>\n",
       "</div>"
      ],
      "text/plain": [
       "     doid_id          doid_name drugbank_id      drug_name  \\\n",
       "0  DOID:1826  epilepsy syndrome     DB00313  Valproic Acid   \n",
       "1  DOID:1826  epilepsy syndrome     DB01068     Clonazepam   \n",
       "\n",
       "                                                text  hetionet  candidate_id  \\\n",
       "0  The rectal route of administration was effecti...         1         65851   \n",
       "1  Since the clinical data have been equivocal in...         1         65854   \n",
       "\n",
       "   split      pred  \n",
       "0      9  0.963179  \n",
       "1      9  0.492458  "
      ]
     },
     "execution_count": 4,
     "metadata": {},
     "output_type": "execute_result"
    }
   ],
   "source": [
    "# DataFrame that combines likelihood scores with each candidate sentence\n",
    "total_candidates_pred_df = (\n",
    "    total_candidates_df[[\n",
    "    \"doid_id\", \"doid_name\", \n",
    "    \"drugbank_id\", \"drug_name\", \n",
    "    \"text\", \"hetionet\",\n",
    "    \"candidate_id\", \"split\"\n",
    "    ]]\n",
    "    .merge(sentence_prediction_df, on=\"candidate_id\")\n",
    ")\n",
    "\n",
    "total_candidates_pred_df.to_csv(\n",
    "    \"output/combined_predicted_ctd_sentences.tsv.xz\", \n",
    "    sep=\"\\t\", index=False, compression=\"xz\"\n",
    ")\n",
    "\n",
    "total_candidates_pred_df.head(2)"
   ]
  },
  {
   "cell_type": "code",
   "execution_count": 5,
   "metadata": {
    "ExecuteTime": {
     "end_time": "2020-01-06T18:43:35.816404Z",
     "start_time": "2020-01-06T18:43:35.522201Z"
    }
   },
   "outputs": [
    {
     "data": {
      "text/html": [
       "<div>\n",
       "<style scoped>\n",
       "    .dataframe tbody tr th:only-of-type {\n",
       "        vertical-align: middle;\n",
       "    }\n",
       "\n",
       "    .dataframe tbody tr th {\n",
       "        vertical-align: top;\n",
       "    }\n",
       "\n",
       "    .dataframe thead tr th {\n",
       "        text-align: left;\n",
       "    }\n",
       "</style>\n",
       "<table border=\"1\" class=\"dataframe\">\n",
       "  <thead>\n",
       "    <tr>\n",
       "      <th></th>\n",
       "      <th>doid_id</th>\n",
       "      <th>drugbank_id</th>\n",
       "      <th colspan=\"3\" halign=\"left\">pred</th>\n",
       "      <th>hetionet</th>\n",
       "      <th>drug_name</th>\n",
       "      <th>doid_name</th>\n",
       "      <th>split</th>\n",
       "    </tr>\n",
       "    <tr>\n",
       "      <th></th>\n",
       "      <th></th>\n",
       "      <th></th>\n",
       "      <th>max</th>\n",
       "      <th>mean</th>\n",
       "      <th>median</th>\n",
       "      <th>max</th>\n",
       "      <th>first</th>\n",
       "      <th>first</th>\n",
       "      <th>first</th>\n",
       "    </tr>\n",
       "  </thead>\n",
       "  <tbody>\n",
       "    <tr>\n",
       "      <th>0</th>\n",
       "      <td>DOID:0050156</td>\n",
       "      <td>DB00104</td>\n",
       "      <td>0.691620</td>\n",
       "      <td>0.691620</td>\n",
       "      <td>0.691620</td>\n",
       "      <td>0</td>\n",
       "      <td>Octreotide</td>\n",
       "      <td>idiopathic pulmonary fibrosis</td>\n",
       "      <td>9</td>\n",
       "    </tr>\n",
       "    <tr>\n",
       "      <th>1</th>\n",
       "      <td>DOID:0050156</td>\n",
       "      <td>DB00129</td>\n",
       "      <td>0.310866</td>\n",
       "      <td>0.259353</td>\n",
       "      <td>0.235935</td>\n",
       "      <td>0</td>\n",
       "      <td>L-Ornithine</td>\n",
       "      <td>idiopathic pulmonary fibrosis</td>\n",
       "      <td>9</td>\n",
       "    </tr>\n",
       "  </tbody>\n",
       "</table>\n",
       "</div>"
      ],
      "text/plain": [
       "        doid_id drugbank_id      pred                     hetionet  \\\n",
       "                                  max      mean    median      max   \n",
       "0  DOID:0050156     DB00104  0.691620  0.691620  0.691620        0   \n",
       "1  DOID:0050156     DB00129  0.310866  0.259353  0.235935        0   \n",
       "\n",
       "     drug_name                      doid_name split  \n",
       "         first                          first first  \n",
       "0   Octreotide  idiopathic pulmonary fibrosis     9  \n",
       "1  L-Ornithine  idiopathic pulmonary fibrosis     9  "
      ]
     },
     "execution_count": 5,
     "metadata": {},
     "output_type": "execute_result"
    }
   ],
   "source": [
    "# DataFrame that groups disease and compound mentions together and takes\n",
    "# the max, median and mean of each group\n",
    "grouped_candidates_pred_df=(\n",
    "    total_candidates_pred_df\n",
    "    .groupby([\"doid_id\", \"drugbank_id\"], as_index=False)\n",
    "    .agg({\n",
    "        \"pred\": ['max', 'mean', 'median'], \n",
    "        'hetionet': 'max',\n",
    "        \"drug_name\": 'first',\n",
    "        \"doid_name\": 'first',\n",
    "        \"split\": 'first'\n",
    "    })\n",
    ")\n",
    "grouped_candidates_pred_df.head(2)"
   ]
  },
  {
   "cell_type": "code",
   "execution_count": 6,
   "metadata": {
    "ExecuteTime": {
     "end_time": "2020-01-06T18:43:35.840465Z",
     "start_time": "2020-01-06T18:43:35.817841Z"
    }
   },
   "outputs": [
    {
     "data": {
      "text/html": [
       "<div>\n",
       "<style scoped>\n",
       "    .dataframe tbody tr th:only-of-type {\n",
       "        vertical-align: middle;\n",
       "    }\n",
       "\n",
       "    .dataframe tbody tr th {\n",
       "        vertical-align: top;\n",
       "    }\n",
       "\n",
       "    .dataframe thead th {\n",
       "        text-align: right;\n",
       "    }\n",
       "</style>\n",
       "<table border=\"1\" class=\"dataframe\">\n",
       "  <thead>\n",
       "    <tr style=\"text-align: right;\">\n",
       "      <th></th>\n",
       "      <th>doid_id</th>\n",
       "      <th>drugbank_id</th>\n",
       "      <th>pred_max</th>\n",
       "      <th>pred_mean</th>\n",
       "      <th>pred_median</th>\n",
       "      <th>hetionet</th>\n",
       "      <th>drug_name</th>\n",
       "      <th>doid_name</th>\n",
       "      <th>split</th>\n",
       "    </tr>\n",
       "  </thead>\n",
       "  <tbody>\n",
       "    <tr>\n",
       "      <th>0</th>\n",
       "      <td>DOID:0050156</td>\n",
       "      <td>DB00104</td>\n",
       "      <td>0.691620</td>\n",
       "      <td>0.691620</td>\n",
       "      <td>0.691620</td>\n",
       "      <td>0</td>\n",
       "      <td>Octreotide</td>\n",
       "      <td>idiopathic pulmonary fibrosis</td>\n",
       "      <td>9</td>\n",
       "    </tr>\n",
       "    <tr>\n",
       "      <th>1</th>\n",
       "      <td>DOID:0050156</td>\n",
       "      <td>DB00129</td>\n",
       "      <td>0.310866</td>\n",
       "      <td>0.259353</td>\n",
       "      <td>0.235935</td>\n",
       "      <td>0</td>\n",
       "      <td>L-Ornithine</td>\n",
       "      <td>idiopathic pulmonary fibrosis</td>\n",
       "      <td>9</td>\n",
       "    </tr>\n",
       "  </tbody>\n",
       "</table>\n",
       "</div>"
      ],
      "text/plain": [
       "        doid_id drugbank_id  pred_max  pred_mean  pred_median  hetionet  \\\n",
       "0  DOID:0050156     DB00104  0.691620   0.691620     0.691620         0   \n",
       "1  DOID:0050156     DB00129  0.310866   0.259353     0.235935         0   \n",
       "\n",
       "     drug_name                      doid_name  split  \n",
       "0   Octreotide  idiopathic pulmonary fibrosis      9  \n",
       "1  L-Ornithine  idiopathic pulmonary fibrosis      9  "
      ]
     },
     "execution_count": 6,
     "metadata": {},
     "output_type": "execute_result"
    }
   ],
   "source": [
    "grouped_candidates_pred_df.columns = [\n",
    "    \"_\".join(col) \n",
    "    if col[1] != '' and col[0] not in ['hetionet', 'drug_name', 'doid_name', 'split'] else col[0] \n",
    "    for col in grouped_candidates_pred_df.columns.values\n",
    "]\n",
    "\n",
    "grouped_candidates_pred_df.head(2)"
   ]
  },
  {
   "cell_type": "code",
   "execution_count": 7,
   "metadata": {
    "ExecuteTime": {
     "end_time": "2020-01-06T18:43:35.868208Z",
     "start_time": "2020-01-06T18:43:35.842862Z"
    }
   },
   "outputs": [
    {
     "data": {
      "text/html": [
       "<div>\n",
       "<style scoped>\n",
       "    .dataframe tbody tr th:only-of-type {\n",
       "        vertical-align: middle;\n",
       "    }\n",
       "\n",
       "    .dataframe tbody tr th {\n",
       "        vertical-align: top;\n",
       "    }\n",
       "\n",
       "    .dataframe thead th {\n",
       "        text-align: right;\n",
       "    }\n",
       "</style>\n",
       "<table border=\"1\" class=\"dataframe\">\n",
       "  <thead>\n",
       "    <tr style=\"text-align: right;\">\n",
       "      <th></th>\n",
       "      <th>doid_id</th>\n",
       "      <th>drugbank_id</th>\n",
       "      <th>pred_max</th>\n",
       "      <th>pred_mean</th>\n",
       "      <th>pred_median</th>\n",
       "      <th>hetionet</th>\n",
       "      <th>drug_name</th>\n",
       "      <th>doid_name</th>\n",
       "    </tr>\n",
       "  </thead>\n",
       "  <tbody>\n",
       "    <tr>\n",
       "      <th>56</th>\n",
       "      <td>DOID:0050156</td>\n",
       "      <td>DB01708</td>\n",
       "      <td>0.303522</td>\n",
       "      <td>0.247713</td>\n",
       "      <td>0.247492</td>\n",
       "      <td>0</td>\n",
       "      <td>Dehydroepiandrosterone</td>\n",
       "      <td>idiopathic pulmonary fibrosis</td>\n",
       "    </tr>\n",
       "    <tr>\n",
       "      <th>149</th>\n",
       "      <td>DOID:0050741</td>\n",
       "      <td>DB00145</td>\n",
       "      <td>0.641047</td>\n",
       "      <td>0.641047</td>\n",
       "      <td>0.641047</td>\n",
       "      <td>0</td>\n",
       "      <td>Glycine</td>\n",
       "      <td>alcohol dependence</td>\n",
       "    </tr>\n",
       "  </tbody>\n",
       "</table>\n",
       "</div>"
      ],
      "text/plain": [
       "          doid_id drugbank_id  pred_max  pred_mean  pred_median  hetionet  \\\n",
       "56   DOID:0050156     DB01708  0.303522   0.247713     0.247492         0   \n",
       "149  DOID:0050741     DB00145  0.641047   0.641047     0.641047         0   \n",
       "\n",
       "                  drug_name                      doid_name  \n",
       "56   Dehydroepiandrosterone  idiopathic pulmonary fibrosis  \n",
       "149                 Glycine             alcohol dependence  "
      ]
     },
     "execution_count": 7,
     "metadata": {},
     "output_type": "execute_result"
    }
   ],
   "source": [
    "grouped_candidates_pred_subset_df = (\n",
    "    grouped_candidates_pred_df\n",
    "    .query(\"split==11\")\n",
    "    .drop(\"split\", axis=1)\n",
    ")\n",
    "grouped_candidates_pred_subset_df.head(2)"
   ]
  },
  {
   "cell_type": "code",
   "execution_count": 8,
   "metadata": {
    "ExecuteTime": {
     "end_time": "2020-01-06T18:43:35.928098Z",
     "start_time": "2020-01-06T18:43:35.870414Z"
    }
   },
   "outputs": [
    {
     "data": {
      "text/plain": [
       "0    440\n",
       "1      7\n",
       "Name: hetionet, dtype: int64"
      ]
     },
     "execution_count": 8,
     "metadata": {},
     "output_type": "execute_result"
    }
   ],
   "source": [
    "grouped_candidates_pred_subset_df.hetionet.value_counts()"
   ]
  },
  {
   "cell_type": "markdown",
   "metadata": {},
   "source": [
    "# Best Sentence Representation Metric"
   ]
  },
  {
   "cell_type": "markdown",
   "metadata": {},
   "source": [
    "This section aims to answer the question: What metric (Mean, Max, Median) best predicts Hetionet Edges?"
   ]
  },
  {
   "cell_type": "code",
   "execution_count": 9,
   "metadata": {
    "ExecuteTime": {
     "end_time": "2020-01-06T18:43:36.017464Z",
     "start_time": "2020-01-06T18:43:35.930125Z"
    }
   },
   "outputs": [],
   "source": [
    "performance_map = {}"
   ]
  },
  {
   "cell_type": "code",
   "execution_count": 10,
   "metadata": {
    "ExecuteTime": {
     "end_time": "2020-01-06T18:43:36.114732Z",
     "start_time": "2020-01-06T18:43:36.021780Z"
    }
   },
   "outputs": [],
   "source": [
    "precision, recall, pr_threshold = precision_recall_curve(\n",
    "    grouped_candidates_pred_subset_df.hetionet, \n",
    "    grouped_candidates_pred_subset_df.pred_max,\n",
    ")\n",
    "\n",
    "fpr, tpr, roc_threshold = roc_curve(\n",
    "    grouped_candidates_pred_subset_df.hetionet, \n",
    "    grouped_candidates_pred_subset_df.pred_max,\n",
    ")\n",
    "\n",
    "performance_map['max'] = {\n",
    "    \"precision\":precision, \"recall\":recall, \n",
    "    \"pr_threshold\":pr_threshold, \"false_pos\":fpr,\n",
    "    \"true_pos\":tpr, \"roc_threshold\":roc_threshold, \n",
    "}"
   ]
  },
  {
   "cell_type": "code",
   "execution_count": 11,
   "metadata": {
    "ExecuteTime": {
     "end_time": "2020-01-06T18:43:36.153742Z",
     "start_time": "2020-01-06T18:43:36.119365Z"
    }
   },
   "outputs": [],
   "source": [
    "precision, recall, pr_threshold = precision_recall_curve(\n",
    "    grouped_candidates_pred_subset_df.hetionet, \n",
    "    grouped_candidates_pred_subset_df.pred_mean,\n",
    ")\n",
    "\n",
    "fpr, tpr, roc_threshold = roc_curve(\n",
    "    grouped_candidates_pred_subset_df.hetionet, \n",
    "    grouped_candidates_pred_subset_df.pred_mean,\n",
    ")\n",
    "\n",
    "performance_map['mean'] = {\n",
    "    \"precision\":precision, \"recall\":recall, \n",
    "    \"pr_threshold\":pr_threshold, \"false_pos\":fpr,\n",
    "    \"true_pos\":tpr, \"roc_threshold\":roc_threshold, \n",
    "}"
   ]
  },
  {
   "cell_type": "code",
   "execution_count": 12,
   "metadata": {
    "ExecuteTime": {
     "end_time": "2020-01-06T18:43:36.171617Z",
     "start_time": "2020-01-06T18:43:36.155150Z"
    }
   },
   "outputs": [],
   "source": [
    "precision, recall, pr_threshold = precision_recall_curve(\n",
    "    grouped_candidates_pred_subset_df.hetionet, \n",
    "    grouped_candidates_pred_subset_df.pred_median,\n",
    ")\n",
    "\n",
    "fpr, tpr, roc_threshold = roc_curve(\n",
    "    grouped_candidates_pred_subset_df.hetionet, \n",
    "    grouped_candidates_pred_subset_df.pred_median,\n",
    ")\n",
    "\n",
    "performance_map['median'] = {\n",
    "    \"precision\":precision, \"recall\":recall, \n",
    "    \"pr_threshold\":pr_threshold, \"false_pos\":fpr,\n",
    "    \"true_pos\":tpr, \"roc_threshold\":roc_threshold, \n",
    "}"
   ]
  },
  {
   "cell_type": "code",
   "execution_count": 13,
   "metadata": {
    "ExecuteTime": {
     "end_time": "2020-01-06T18:43:36.313401Z",
     "start_time": "2020-01-06T18:43:36.173064Z"
    }
   },
   "outputs": [
    {
     "data": {
      "image/png": "[encoded data removed]",
      "text/plain": [
       "<Figure size 432x288 with 1 Axes>"
      ]
     },
     "metadata": {
      "needs_background": "light"
     },
     "output_type": "display_data"
    }
   ],
   "source": [
    "for key in performance_map:\n",
    "    plt.plot(\n",
    "        performance_map[key]['false_pos'], \n",
    "        performance_map[key]['true_pos'], \n",
    "        label=f\"{key}:AUC ({auc(performance_map[key]['false_pos'], performance_map[key]['true_pos']):.3f})\"\n",
    "    )\n",
    "plt.plot([0,1], [0,1], linestyle='--', color='black')\n",
    "plt.legend()\n",
    "plt.show()"
   ]
  },
  {
   "cell_type": "code",
   "execution_count": 14,
   "metadata": {
    "ExecuteTime": {
     "end_time": "2020-01-06T18:43:36.446981Z",
     "start_time": "2020-01-06T18:43:36.314908Z"
    }
   },
   "outputs": [
    {
     "data": {
      "image/png": "[encoded data removed]",
      "text/plain": [
       "<Figure size 432x288 with 1 Axes>"
      ]
     },
     "metadata": {
      "needs_background": "light"
     },
     "output_type": "display_data"
    }
   ],
   "source": [
    "for key in performance_map:\n",
    "    plt.plot(\n",
    "        performance_map[key]['recall'], \n",
    "        performance_map[key]['precision'], \n",
    "        label=f\"{key}:AUC ({auc(performance_map[key]['recall'], performance_map[key]['precision']):.3f})\"\n",
    "    )\n",
    "\n",
    "plt.legend()\n",
    "plt.show()"
   ]
  },
  {
   "cell_type": "markdown",
   "metadata": {},
   "source": [
    "# Optimal Cutoff Using PR-Curve"
   ]
  },
  {
   "cell_type": "code",
   "execution_count": 15,
   "metadata": {
    "ExecuteTime": {
     "end_time": "2020-01-06T18:43:36.468670Z",
     "start_time": "2020-01-06T18:43:36.448293Z"
    }
   },
   "outputs": [
    {
     "data": {
      "text/html": [
       "<div>\n",
       "<style scoped>\n",
       "    .dataframe tbody tr th:only-of-type {\n",
       "        vertical-align: middle;\n",
       "    }\n",
       "\n",
       "    .dataframe tbody tr th {\n",
       "        vertical-align: top;\n",
       "    }\n",
       "\n",
       "    .dataframe thead th {\n",
       "        text-align: right;\n",
       "    }\n",
       "</style>\n",
       "<table border=\"1\" class=\"dataframe\">\n",
       "  <thead>\n",
       "    <tr style=\"text-align: right;\">\n",
       "      <th></th>\n",
       "      <th>precision</th>\n",
       "      <th>recall</th>\n",
       "      <th>pr_threshold</th>\n",
       "    </tr>\n",
       "  </thead>\n",
       "  <tbody>\n",
       "    <tr>\n",
       "      <th>152</th>\n",
       "      <td>1.0</td>\n",
       "      <td>0.142857</td>\n",
       "      <td>0.985271</td>\n",
       "    </tr>\n",
       "    <tr>\n",
       "      <th>151</th>\n",
       "      <td>1.0</td>\n",
       "      <td>0.285714</td>\n",
       "      <td>0.983058</td>\n",
       "    </tr>\n",
       "  </tbody>\n",
       "</table>\n",
       "</div>"
      ],
      "text/plain": [
       "     precision    recall  pr_threshold\n",
       "152        1.0  0.142857      0.985271\n",
       "151        1.0  0.285714      0.983058"
      ]
     },
     "execution_count": 15,
     "metadata": {},
     "output_type": "execute_result"
    }
   ],
   "source": [
    "threshold_df = (\n",
    "    pd.DataFrame(\n",
    "        list(\n",
    "            zip(\n",
    "                performance_map['max']['precision'], \n",
    "                performance_map['max']['recall'], \n",
    "                performance_map['max']['pr_threshold']\n",
    "            )\n",
    "        ),\n",
    "        columns=[\"precision\", \"recall\", \"pr_threshold\"]\n",
    "    )\n",
    "    .sort_values(\"precision\", ascending=False)\n",
    ")\n",
    "threshold_df.head(2)"
   ]
  },
  {
   "cell_type": "code",
   "execution_count": 16,
   "metadata": {
    "ExecuteTime": {
     "end_time": "2020-01-06T18:43:36.630835Z",
     "start_time": "2020-01-06T18:43:36.469893Z"
    }
   },
   "outputs": [
    {
     "data": {
      "text/html": [
       "<div>\n",
       "<style scoped>\n",
       "    .dataframe tbody tr th:only-of-type {\n",
       "        vertical-align: middle;\n",
       "    }\n",
       "\n",
       "    .dataframe tbody tr th {\n",
       "        vertical-align: top;\n",
       "    }\n",
       "\n",
       "    .dataframe thead th {\n",
       "        text-align: right;\n",
       "    }\n",
       "</style>\n",
       "<table border=\"1\" class=\"dataframe\">\n",
       "  <thead>\n",
       "    <tr style=\"text-align: right;\">\n",
       "      <th></th>\n",
       "      <th>edges</th>\n",
       "      <th>in_hetionet</th>\n",
       "      <th>precision</th>\n",
       "      <th>sen_cutoff</th>\n",
       "    </tr>\n",
       "  </thead>\n",
       "  <tbody>\n",
       "    <tr>\n",
       "      <th>0</th>\n",
       "      <td>3</td>\n",
       "      <td>Existing</td>\n",
       "      <td>1.00</td>\n",
       "      <td>0.982641</td>\n",
       "    </tr>\n",
       "    <tr>\n",
       "      <th>1</th>\n",
       "      <td>3</td>\n",
       "      <td>Existing</td>\n",
       "      <td>0.75</td>\n",
       "      <td>0.981844</td>\n",
       "    </tr>\n",
       "    <tr>\n",
       "      <th>2</th>\n",
       "      <td>1</td>\n",
       "      <td>Novel</td>\n",
       "      <td>0.75</td>\n",
       "      <td>0.981844</td>\n",
       "    </tr>\n",
       "    <tr>\n",
       "      <th>3</th>\n",
       "      <td>3</td>\n",
       "      <td>Existing</td>\n",
       "      <td>0.67</td>\n",
       "      <td>0.981844</td>\n",
       "    </tr>\n",
       "    <tr>\n",
       "      <th>4</th>\n",
       "      <td>1</td>\n",
       "      <td>Novel</td>\n",
       "      <td>0.67</td>\n",
       "      <td>0.981844</td>\n",
       "    </tr>\n",
       "    <tr>\n",
       "      <th>5</th>\n",
       "      <td>4</td>\n",
       "      <td>Existing</td>\n",
       "      <td>0.60</td>\n",
       "      <td>0.976413</td>\n",
       "    </tr>\n",
       "    <tr>\n",
       "      <th>6</th>\n",
       "      <td>2</td>\n",
       "      <td>Novel</td>\n",
       "      <td>0.60</td>\n",
       "      <td>0.976413</td>\n",
       "    </tr>\n",
       "    <tr>\n",
       "      <th>7</th>\n",
       "      <td>4</td>\n",
       "      <td>Existing</td>\n",
       "      <td>0.57</td>\n",
       "      <td>0.975945</td>\n",
       "    </tr>\n",
       "    <tr>\n",
       "      <th>8</th>\n",
       "      <td>3</td>\n",
       "      <td>Novel</td>\n",
       "      <td>0.57</td>\n",
       "      <td>0.975945</td>\n",
       "    </tr>\n",
       "    <tr>\n",
       "      <th>9</th>\n",
       "      <td>4</td>\n",
       "      <td>Existing</td>\n",
       "      <td>0.50</td>\n",
       "      <td>0.974425</td>\n",
       "    </tr>\n",
       "  </tbody>\n",
       "</table>\n",
       "</div>"
      ],
      "text/plain": [
       "   edges in_hetionet  precision  sen_cutoff\n",
       "0      3    Existing       1.00    0.982641\n",
       "1      3    Existing       0.75    0.981844\n",
       "2      1       Novel       0.75    0.981844\n",
       "3      3    Existing       0.67    0.981844\n",
       "4      1       Novel       0.67    0.981844\n",
       "5      4    Existing       0.60    0.976413\n",
       "6      2       Novel       0.60    0.976413\n",
       "7      4    Existing       0.57    0.975945\n",
       "8      3       Novel       0.57    0.975945\n",
       "9      4    Existing       0.50    0.974425"
      ]
     },
     "execution_count": 16,
     "metadata": {},
     "output_type": "execute_result"
    }
   ],
   "source": [
    "#precision_thresholds = pd.np.linspace(0,1,num=5)\n",
    "precision_thresholds = threshold_df.round(2).drop_duplicates(\"precision\").precision.values\n",
    "\n",
    "# Add the lowest precision rather than\n",
    "# Keep it zero\n",
    "precision_thresholds = (\n",
    "    pd.np.where(\n",
    "        precision_thresholds==0, \n",
    "        threshold_df.precision.min(), \n",
    "        precision_thresholds\n",
    "    )\n",
    ")\n",
    "\n",
    "performance_records = []\n",
    "for precision_cutoff in precision_thresholds:\n",
    "\n",
    "    cutoff = (\n",
    "        threshold_df\n",
    "        .query(\"precision>=@precision_cutoff\")\n",
    "        .pr_threshold\n",
    "        .min()\n",
    "    )\n",
    "    \n",
    "    values_added = (\n",
    "        grouped_candidates_pred_subset_df\n",
    "        .query(\"pred_max >= @cutoff\")\n",
    "        .hetionet\n",
    "        .value_counts()\n",
    "    )\n",
    "    \n",
    "    series_keys = list(values_added.keys())\n",
    "    for key in series_keys:\n",
    "        performance_records.append(\n",
    "           {  \n",
    "               \"edges\": values_added[key], \n",
    "               \"in_hetionet\": \"Existing\" if key == 1 else \"Novel\", \n",
    "               \"precision\": precision_cutoff,\n",
    "               \"sen_cutoff\": cutoff\n",
    "           }\n",
    "        )\n",
    "   \n",
    "    \n",
    "edges_added_df = (\n",
    "    pd\n",
    "    .DataFrame\n",
    "    .from_records(performance_records)\n",
    ")\n",
    "edges_added_df.head(10)"
   ]
  },
  {
   "cell_type": "code",
   "execution_count": 17,
   "metadata": {
    "ExecuteTime": {
     "end_time": "2020-01-06T18:43:37.076307Z",
     "start_time": "2020-01-06T18:43:36.632259Z"
    }
   },
   "outputs": [
    {
     "data": {
      "text/plain": [
       "[None]"
      ]
     },
     "execution_count": 17,
     "metadata": {},
     "output_type": "execute_result"
    },
    {
     "data": {
      "image/png": "[encoded data removed]",
      "text/plain": [
       "<Figure size 432x288 with 1 Axes>"
      ]
     },
     "metadata": {
      "needs_background": "light"
     },
     "output_type": "display_data"
    }
   ],
   "source": [
    "ax = sns.scatterplot(x=\"precision\", y=\"edges\", hue=\"in_hetionet\", data=edges_added_df)\n",
    "ax.set(yscale=\"log\")"
   ]
  },
  {
   "cell_type": "code",
   "execution_count": 18,
   "metadata": {
    "ExecuteTime": {
     "end_time": "2020-01-06T18:43:37.094099Z",
     "start_time": "2020-01-06T18:43:37.077921Z"
    }
   },
   "outputs": [],
   "source": [
    "edges_added_df.to_csv(\"output/precision_ctd_edges_added.tsv\", index=False, sep=\"\\t\")"
   ]
  },
  {
   "cell_type": "markdown",
   "metadata": {},
   "source": [
    "# Total Recalled Edges"
   ]
  },
  {
   "cell_type": "markdown",
   "metadata": {},
   "source": [
    "How many edges of hetionet can we recall using a cutoff score of 0.5?"
   ]
  },
  {
   "cell_type": "code",
   "execution_count": 19,
   "metadata": {
    "ExecuteTime": {
     "end_time": "2020-01-06T18:43:37.162058Z",
     "start_time": "2020-01-06T18:43:37.095321Z"
    }
   },
   "outputs": [
    {
     "data": {
      "text/html": [
       "<div>\n",
       "<style scoped>\n",
       "    .dataframe tbody tr th:only-of-type {\n",
       "        vertical-align: middle;\n",
       "    }\n",
       "\n",
       "    .dataframe tbody tr th {\n",
       "        vertical-align: top;\n",
       "    }\n",
       "\n",
       "    .dataframe thead th {\n",
       "        text-align: right;\n",
       "    }\n",
       "</style>\n",
       "<table border=\"1\" class=\"dataframe\">\n",
       "  <thead>\n",
       "    <tr style=\"text-align: right;\">\n",
       "      <th></th>\n",
       "      <th>edges</th>\n",
       "      <th>in_hetionet</th>\n",
       "      <th>recall</th>\n",
       "      <th>relation</th>\n",
       "      <th>total</th>\n",
       "    </tr>\n",
       "  </thead>\n",
       "  <tbody>\n",
       "    <tr>\n",
       "      <th>0</th>\n",
       "      <td>425</td>\n",
       "      <td>Existing</td>\n",
       "      <td>0.974771</td>\n",
       "      <td>CtD</td>\n",
       "      <td>436.0</td>\n",
       "    </tr>\n",
       "    <tr>\n",
       "      <th>1</th>\n",
       "      <td>11404</td>\n",
       "      <td>Novel</td>\n",
       "      <td>NaN</td>\n",
       "      <td>CtD</td>\n",
       "      <td>NaN</td>\n",
       "    </tr>\n",
       "  </tbody>\n",
       "</table>\n",
       "</div>"
      ],
      "text/plain": [
       "   edges in_hetionet    recall relation  total\n",
       "0    425    Existing  0.974771      CtD  436.0\n",
       "1  11404       Novel       NaN      CtD    NaN"
      ]
     },
     "execution_count": 19,
     "metadata": {},
     "output_type": "execute_result"
    }
   ],
   "source": [
    "datarows = []\n",
    "datarows.append({\n",
    "    \"recall\":(\n",
    "        grouped_candidates_pred_df\n",
    "        .query(\"pred_max > 0.5\")\n",
    "        .hetionet\n",
    "        .value_counts()[1] /\n",
    "        grouped_candidates_pred_df\n",
    "        .hetionet.\n",
    "        value_counts()[1]\n",
    "    ),\n",
    "    \"edges\":(\n",
    "        grouped_candidates_pred_df\n",
    "        .query(\"pred_max > 0.5\")\n",
    "        .hetionet\n",
    "        .value_counts()[1]\n",
    "    ),\n",
    "    \"in_hetionet\": \"Existing\",\n",
    "    \"total\": int(grouped_candidates_pred_df.hetionet.value_counts()[1]),\n",
    "    \"relation\":\"CtD\"\n",
    "})\n",
    "datarows.append({\n",
    "    \"edges\":(\n",
    "        grouped_candidates_pred_df\n",
    "        .query(\"pred_max > 0.5\")\n",
    "        .hetionet\n",
    "        .value_counts()[0]\n",
    "    ),\n",
    "    \"in_hetionet\": \"Novel\",\n",
    "    \"relation\":\"CtD\"\n",
    "})\n",
    "edges_df = pd.DataFrame.from_records(datarows)\n",
    "edges_df"
   ]
  },
  {
   "cell_type": "code",
   "execution_count": 20,
   "metadata": {
    "ExecuteTime": {
     "end_time": "2020-01-06T18:43:37.613357Z",
     "start_time": "2020-01-06T18:43:37.163547Z"
    }
   },
   "outputs": [
    {
     "name": "stderr",
     "output_type": "stream",
     "text": [
      "/home/danich1/anaconda3/envs/snorkeling/lib/python3.6/site-packages/plotnine/scales/scale.py:93: MatplotlibDeprecationWarning: \n",
      "The iterable function was deprecated in Matplotlib 3.1 and will be removed in 3.3. Use np.iterable instead.\n",
      "  if cbook.iterable(self.breaks) and cbook.iterable(self.labels):\n",
      "/home/danich1/anaconda3/envs/snorkeling/lib/python3.6/site-packages/plotnine/utils.py:553: MatplotlibDeprecationWarning: \n",
      "The iterable function was deprecated in Matplotlib 3.1 and will be removed in 3.3. Use np.iterable instead.\n",
      "  return cbook.iterable(var) and not is_string(var)\n"
     ]
    },
    {
     "data": {
      "image/png": "[encoded data removed]",
      "text/plain": [
       "<Figure size 640x480 with 1 Axes>"
      ]
     },
     "metadata": {
      "needs_background": "light"
     },
     "output_type": "display_data"
    },
    {
     "name": "stdout",
     "output_type": "stream",
     "text": [
      "<ggplot: (8792932623922)>\n"
     ]
    }
   ],
   "source": [
    "import math\n",
    "g = (\n",
    "    p9.ggplot(edges_df, p9.aes(x=\"relation\", y=\"edges\", fill=\"in_hetionet\"))\n",
    "    + p9.geom_col(position=\"dodge\")\n",
    "    + p9.geom_text(\n",
    "        p9.aes(\n",
    "            label=(\n",
    "                edges_df\n",
    "                .apply(\n",
    "                    lambda x: \n",
    "                    f\"{x['edges']} ({x['recall']*100:.0f}%)\" \n",
    "                    if not math.isnan(x['recall']) else \n",
    "                    f\"{x['edges']}\",\n",
    "                    axis=1\n",
    "                )\n",
    "            )\n",
    "        ),\n",
    "        position=p9.position_dodge(width=1),\n",
    "        size=9,\n",
    "        va=\"bottom\"\n",
    "    )\n",
    "    + p9.scale_y_log10()\n",
    "    + p9.theme(\n",
    "        axis_text_y=p9.element_blank(),\n",
    "        axis_ticks_major = p9.element_blank(),\n",
    "        rect=p9.element_blank()\n",
    "    )\n",
    ")\n",
    "print(g)"
   ]
  }
 ],
 "metadata": {
  "kernelspec": {
   "display_name": "Python [conda env:snorkeling]",
   "language": "python",
   "name": "conda-env-snorkeling-py"
  },
  "language_info": {
   "codemirror_mode": {
    "name": "ipython",
    "version": 3
   },
   "file_extension": ".py",
   "mimetype": "text/x-python",
   "name": "python",
   "nbconvert_exporter": "python",
   "pygments_lexer": "ipython3",
   "version": "3.6.7"
  },
  "toc": {
   "base_numbering": 1,
   "nav_menu": {},
   "number_sections": true,
   "sideBar": true,
   "skip_h1_title": false,
   "title_cell": "Table of Contents",
   "title_sidebar": "Contents",
   "toc_cell": false,
   "toc_position": {},
   "toc_section_display": true,
   "toc_window_display": false
  },
  "varInspector": {
   "cols": {
    "lenName": 16,
    "lenType": 16,
    "lenVar": 40
   },
   "kernels_config": {
    "python": {
     "delete_cmd_postfix": "",
     "delete_cmd_prefix": "del ",
     "library": "var_list.py",
     "varRefreshCmd": "print(var_dic_list())"
    },
    "r": {
     "delete_cmd_postfix": ") ",
     "delete_cmd_prefix": "rm(",
     "library": "var_list.r",
     "varRefreshCmd": "cat(var_dic_list()) "
    }
   },
   "types_to_exclude": [
    "module",
    "function",
    "builtin_function_or_method",
    "instance",
    "_Feature"
   ],
   "window_display": false
  }
 },
 "nbformat": 4,
 "nbformat_minor": 2
}
