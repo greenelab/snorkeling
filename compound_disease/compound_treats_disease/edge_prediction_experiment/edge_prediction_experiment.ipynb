{
 "cells": [
  {
   "cell_type": "markdown",
   "metadata": {},
   "source": [
    "# Compound Treats Disease Edge Prediction"
   ]
  },
  {
   "cell_type": "markdown",
   "metadata": {},
   "source": [
    "This notebook is designed to take the next step moving from predicted sentences to edge predictions. After training the discriminator model, each sentences contains a confidence score for the likelihood of mentioning a relationship. Multiple relationships contain multiple sentences, which makes establishing an edge unintuitive. Is taking the max score appropiate for determining existence of an edge? Does taking the mean of each relationship make more sense? The answer towards these questions are shown below."
   ]
  },
  {
   "cell_type": "code",
   "execution_count": 1,
   "metadata": {
    "ExecuteTime": {
     "end_time": "2019-07-25T17:27:24.190025Z",
     "start_time": "2019-07-25T17:27:23.582628Z"
    }
   },
   "outputs": [],
   "source": [
    "%load_ext autoreload\n",
    "%autoreload 2\n",
    "%matplotlib inline\n",
    "\n",
    "import pandas as pd\n",
    "from sklearn.metrics import precision_recall_curve, roc_curve, auc\n",
    "import matplotlib.pyplot as plt\n",
    "import seaborn as sns"
   ]
  },
  {
   "cell_type": "code",
   "execution_count": 2,
   "metadata": {
    "ExecuteTime": {
     "end_time": "2019-07-25T17:27:32.126220Z",
     "start_time": "2019-07-25T17:27:24.191854Z"
    }
   },
   "outputs": [
    {
     "name": "stderr",
     "output_type": "stream",
     "text": [
      "/home/danich1/anaconda2/envs/snorkeling/lib/python3.6/site-packages/IPython/core/interactiveshell.py:2785: DtypeWarning: Columns (3,6,7) have mixed types. Specify dtype option on import or set low_memory=False.\n",
      "  interactivity=interactivity, compiler=compiler, result=result)\n"
     ]
    },
    {
     "data": {
      "text/html": [
       "<div>\n",
       "<style scoped>\n",
       "    .dataframe tbody tr th:only-of-type {\n",
       "        vertical-align: middle;\n",
       "    }\n",
       "\n",
       "    .dataframe tbody tr th {\n",
       "        vertical-align: top;\n",
       "    }\n",
       "\n",
       "    .dataframe thead th {\n",
       "        text-align: right;\n",
       "    }\n",
       "</style>\n",
       "<table border=\"1\" class=\"dataframe\">\n",
       "  <thead>\n",
       "    <tr style=\"text-align: right;\">\n",
       "      <th></th>\n",
       "      <th>doid_id</th>\n",
       "      <th>doid_name</th>\n",
       "      <th>resource</th>\n",
       "      <th>resource_id</th>\n",
       "      <th>drugbank_id</th>\n",
       "      <th>drug_name</th>\n",
       "      <th>disease</th>\n",
       "      <th>sources</th>\n",
       "      <th>hetionet</th>\n",
       "      <th>n_sentences</th>\n",
       "      <th>has_sentence</th>\n",
       "      <th>partition_rank</th>\n",
       "      <th>split</th>\n",
       "      <th>compound_mention_count</th>\n",
       "      <th>disease_mention_count</th>\n",
       "      <th>gene_mention_count</th>\n",
       "      <th>sentence_id</th>\n",
       "      <th>text</th>\n",
       "      <th>sen_length</th>\n",
       "      <th>candidate_id</th>\n",
       "    </tr>\n",
       "  </thead>\n",
       "  <tbody>\n",
       "    <tr>\n",
       "      <th>795720</th>\n",
       "      <td>DOID:1826</td>\n",
       "      <td>epilepsy syndrome</td>\n",
       "      <td>EFO</td>\n",
       "      <td>474</td>\n",
       "      <td>DB00313</td>\n",
       "      <td>Valproic Acid</td>\n",
       "      <td>epilepsy syndrome</td>\n",
       "      <td>pharmacotherapydb</td>\n",
       "      <td>1</td>\n",
       "      <td>9402</td>\n",
       "      <td>1</td>\n",
       "      <td>0.44093</td>\n",
       "      <td>9</td>\n",
       "      <td>1.0</td>\n",
       "      <td>1.0</td>\n",
       "      <td>0.0</td>\n",
       "      <td>686471</td>\n",
       "      <td>The rectal route of administration was effecti...</td>\n",
       "      <td>20</td>\n",
       "      <td>65851</td>\n",
       "    </tr>\n",
       "    <tr>\n",
       "      <th>828935</th>\n",
       "      <td>DOID:1826</td>\n",
       "      <td>epilepsy syndrome</td>\n",
       "      <td>EFO</td>\n",
       "      <td>474</td>\n",
       "      <td>DB01068</td>\n",
       "      <td>Clonazepam</td>\n",
       "      <td>epilepsy syndrome</td>\n",
       "      <td>pharmacotherapydb</td>\n",
       "      <td>1</td>\n",
       "      <td>937</td>\n",
       "      <td>1</td>\n",
       "      <td>0.61045</td>\n",
       "      <td>9</td>\n",
       "      <td>1.0</td>\n",
       "      <td>2.0</td>\n",
       "      <td>0.0</td>\n",
       "      <td>87832</td>\n",
       "      <td>Since the clinical data have been equivocal in...</td>\n",
       "      <td>40</td>\n",
       "      <td>65854</td>\n",
       "    </tr>\n",
       "  </tbody>\n",
       "</table>\n",
       "</div>"
      ],
      "text/plain": [
       "          doid_id          doid_name resource resource_id drugbank_id  \\\n",
       "795720  DOID:1826  epilepsy syndrome      EFO         474     DB00313   \n",
       "828935  DOID:1826  epilepsy syndrome      EFO         474     DB01068   \n",
       "\n",
       "            drug_name            disease            sources  hetionet  \\\n",
       "795720  Valproic Acid  epilepsy syndrome  pharmacotherapydb         1   \n",
       "828935     Clonazepam  epilepsy syndrome  pharmacotherapydb         1   \n",
       "\n",
       "        n_sentences  has_sentence  partition_rank  split  \\\n",
       "795720         9402             1         0.44093      9   \n",
       "828935          937             1         0.61045      9   \n",
       "\n",
       "        compound_mention_count  disease_mention_count  gene_mention_count  \\\n",
       "795720                     1.0                    1.0                 0.0   \n",
       "828935                     1.0                    2.0                 0.0   \n",
       "\n",
       "        sentence_id                                               text  \\\n",
       "795720       686471  The rectal route of administration was effecti...   \n",
       "828935        87832  Since the clinical data have been equivocal in...   \n",
       "\n",
       "        sen_length  candidate_id  \n",
       "795720          20         65851  \n",
       "828935          40         65854  "
      ]
     },
     "execution_count": 2,
     "metadata": {},
     "output_type": "execute_result"
    }
   ],
   "source": [
    "total_candidates_df = (\n",
    "    pd\n",
    "    .read_table(\"../dataset_statistics/results/all_ctd_map.tsv.xz\")\n",
    "    .sort_values(\"candidate_id\")\n",
    ")\n",
    "total_candidates_df.head(2)"
   ]
  },
  {
   "cell_type": "code",
   "execution_count": 3,
   "metadata": {
    "ExecuteTime": {
     "end_time": "2019-07-25T17:27:32.410889Z",
     "start_time": "2019-07-25T17:27:32.127994Z"
    }
   },
   "outputs": [
    {
     "data": {
      "text/html": [
       "<div>\n",
       "<style scoped>\n",
       "    .dataframe tbody tr th:only-of-type {\n",
       "        vertical-align: middle;\n",
       "    }\n",
       "\n",
       "    .dataframe tbody tr th {\n",
       "        vertical-align: top;\n",
       "    }\n",
       "\n",
       "    .dataframe thead th {\n",
       "        text-align: right;\n",
       "    }\n",
       "</style>\n",
       "<table border=\"1\" class=\"dataframe\">\n",
       "  <thead>\n",
       "    <tr style=\"text-align: right;\">\n",
       "      <th></th>\n",
       "      <th>candidate_id</th>\n",
       "      <th>model_prediction</th>\n",
       "    </tr>\n",
       "  </thead>\n",
       "  <tbody>\n",
       "    <tr>\n",
       "      <th>0</th>\n",
       "      <td>65851</td>\n",
       "      <td>0.828019</td>\n",
       "    </tr>\n",
       "    <tr>\n",
       "      <th>1</th>\n",
       "      <td>65854</td>\n",
       "      <td>0.519115</td>\n",
       "    </tr>\n",
       "  </tbody>\n",
       "</table>\n",
       "</div>"
      ],
      "text/plain": [
       "   candidate_id  model_prediction\n",
       "0         65851          0.828019\n",
       "1         65854          0.519115"
      ]
     },
     "execution_count": 3,
     "metadata": {},
     "output_type": "execute_result"
    }
   ],
   "source": [
    "sentence_prediction_df = (\n",
    "    pd\n",
    "    .read_table(\"results/all_predicted_sentences.tsv\")\n",
    "    .sort_values(\"candidate_id\")\n",
    ")\n",
    "sentence_prediction_df.head(2)"
   ]
  },
  {
   "cell_type": "code",
   "execution_count": 4,
   "metadata": {
    "ExecuteTime": {
     "end_time": "2019-07-25T17:27:32.762374Z",
     "start_time": "2019-07-25T17:27:32.412902Z"
    }
   },
   "outputs": [
    {
     "data": {
      "text/html": [
       "<div>\n",
       "<style scoped>\n",
       "    .dataframe tbody tr th:only-of-type {\n",
       "        vertical-align: middle;\n",
       "    }\n",
       "\n",
       "    .dataframe tbody tr th {\n",
       "        vertical-align: top;\n",
       "    }\n",
       "\n",
       "    .dataframe thead th {\n",
       "        text-align: right;\n",
       "    }\n",
       "</style>\n",
       "<table border=\"1\" class=\"dataframe\">\n",
       "  <thead>\n",
       "    <tr style=\"text-align: right;\">\n",
       "      <th></th>\n",
       "      <th>doid_id</th>\n",
       "      <th>doid_name</th>\n",
       "      <th>drugbank_id</th>\n",
       "      <th>drug_name</th>\n",
       "      <th>text</th>\n",
       "      <th>hetionet</th>\n",
       "      <th>candidate_id</th>\n",
       "      <th>split</th>\n",
       "      <th>model_prediction</th>\n",
       "    </tr>\n",
       "  </thead>\n",
       "  <tbody>\n",
       "    <tr>\n",
       "      <th>0</th>\n",
       "      <td>DOID:1826</td>\n",
       "      <td>epilepsy syndrome</td>\n",
       "      <td>DB00313</td>\n",
       "      <td>Valproic Acid</td>\n",
       "      <td>The rectal route of administration was effecti...</td>\n",
       "      <td>1</td>\n",
       "      <td>65851</td>\n",
       "      <td>9</td>\n",
       "      <td>0.828019</td>\n",
       "    </tr>\n",
       "    <tr>\n",
       "      <th>1</th>\n",
       "      <td>DOID:1826</td>\n",
       "      <td>epilepsy syndrome</td>\n",
       "      <td>DB01068</td>\n",
       "      <td>Clonazepam</td>\n",
       "      <td>Since the clinical data have been equivocal in...</td>\n",
       "      <td>1</td>\n",
       "      <td>65854</td>\n",
       "      <td>9</td>\n",
       "      <td>0.519115</td>\n",
       "    </tr>\n",
       "  </tbody>\n",
       "</table>\n",
       "</div>"
      ],
      "text/plain": [
       "     doid_id          doid_name drugbank_id      drug_name  \\\n",
       "0  DOID:1826  epilepsy syndrome     DB00313  Valproic Acid   \n",
       "1  DOID:1826  epilepsy syndrome     DB01068     Clonazepam   \n",
       "\n",
       "                                                text  hetionet  candidate_id  \\\n",
       "0  The rectal route of administration was effecti...         1         65851   \n",
       "1  Since the clinical data have been equivocal in...         1         65854   \n",
       "\n",
       "   split  model_prediction  \n",
       "0      9          0.828019  \n",
       "1      9          0.519115  "
      ]
     },
     "execution_count": 4,
     "metadata": {},
     "output_type": "execute_result"
    }
   ],
   "source": [
    "# DataFrame that combines likelihood scores with each candidate sentence\n",
    "total_candidates_pred_df = (\n",
    "    total_candidates_df[[\n",
    "    \"doid_id\", \"doid_name\", \n",
    "    \"drugbank_id\", \"drug_name\", \n",
    "    \"text\", \"hetionet\",\n",
    "    \"candidate_id\", \"split\"\n",
    "    ]]\n",
    "    .merge(sentence_prediction_df, on=\"candidate_id\")\n",
    ")\n",
    "#total_candidates_pred_df.to_csv(\n",
    "#    \"results/combined_predicted_ctd_sentences.tsv.xz\", \n",
    "#    sep=\"\\t\", index=False, compression=\"xz\"\n",
    "#)\n",
    "total_candidates_pred_df.head(2)"
   ]
  },
  {
   "cell_type": "code",
   "execution_count": 5,
   "metadata": {
    "ExecuteTime": {
     "end_time": "2019-07-25T17:27:32.824046Z",
     "start_time": "2019-07-25T17:27:32.765426Z"
    }
   },
   "outputs": [
    {
     "data": {
      "text/html": [
       "<div>\n",
       "<style scoped>\n",
       "    .dataframe tbody tr th:only-of-type {\n",
       "        vertical-align: middle;\n",
       "    }\n",
       "\n",
       "    .dataframe tbody tr th {\n",
       "        vertical-align: top;\n",
       "    }\n",
       "\n",
       "    .dataframe thead tr th {\n",
       "        text-align: left;\n",
       "    }\n",
       "</style>\n",
       "<table border=\"1\" class=\"dataframe\">\n",
       "  <thead>\n",
       "    <tr>\n",
       "      <th></th>\n",
       "      <th>doid_id</th>\n",
       "      <th>drugbank_id</th>\n",
       "      <th colspan=\"3\" halign=\"left\">model_prediction</th>\n",
       "      <th>hetionet</th>\n",
       "      <th>drug_name</th>\n",
       "      <th>doid_name</th>\n",
       "    </tr>\n",
       "    <tr>\n",
       "      <th></th>\n",
       "      <th></th>\n",
       "      <th></th>\n",
       "      <th>max</th>\n",
       "      <th>mean</th>\n",
       "      <th>median</th>\n",
       "      <th>max</th>\n",
       "      <th>first</th>\n",
       "      <th>first</th>\n",
       "    </tr>\n",
       "  </thead>\n",
       "  <tbody>\n",
       "    <tr>\n",
       "      <th>0</th>\n",
       "      <td>DOID:0050156</td>\n",
       "      <td>DB01708</td>\n",
       "      <td>0.446686</td>\n",
       "      <td>0.405202</td>\n",
       "      <td>0.399735</td>\n",
       "      <td>0</td>\n",
       "      <td>Dehydroepiandrosterone</td>\n",
       "      <td>idiopathic pulmonary fibrosis</td>\n",
       "    </tr>\n",
       "    <tr>\n",
       "      <th>1</th>\n",
       "      <td>DOID:0050741</td>\n",
       "      <td>DB00145</td>\n",
       "      <td>0.671002</td>\n",
       "      <td>0.671002</td>\n",
       "      <td>0.671002</td>\n",
       "      <td>0</td>\n",
       "      <td>Glycine</td>\n",
       "      <td>alcohol dependence</td>\n",
       "    </tr>\n",
       "  </tbody>\n",
       "</table>\n",
       "</div>"
      ],
      "text/plain": [
       "        doid_id drugbank_id model_prediction                     hetionet  \\\n",
       "                                         max      mean    median      max   \n",
       "0  DOID:0050156     DB01708         0.446686  0.405202  0.399735        0   \n",
       "1  DOID:0050741     DB00145         0.671002  0.671002  0.671002        0   \n",
       "\n",
       "                drug_name                      doid_name  \n",
       "                    first                          first  \n",
       "0  Dehydroepiandrosterone  idiopathic pulmonary fibrosis  \n",
       "1                 Glycine             alcohol dependence  "
      ]
     },
     "execution_count": 5,
     "metadata": {},
     "output_type": "execute_result"
    }
   ],
   "source": [
    "# DataFrame that groups disease and compound mentions together and takes\n",
    "# the max, median and mean of each group\n",
    "grouped_candidates_pred_df=(\n",
    "    total_candidates_pred_df\n",
    "    .query(\"split==11\")\n",
    "    .groupby([\"doid_id\", \"drugbank_id\"], as_index=False)\n",
    "    .agg({\n",
    "        \"model_prediction\": ['max', 'mean', 'median'], \n",
    "        'hetionet': 'max',\n",
    "        \"drug_name\": 'first',\n",
    "        \"doid_name\": 'first'\n",
    "    })\n",
    ")\n",
    "grouped_candidates_pred_df.head(2)"
   ]
  },
  {
   "cell_type": "code",
   "execution_count": 6,
   "metadata": {
    "ExecuteTime": {
     "end_time": "2019-07-25T17:27:32.851635Z",
     "start_time": "2019-07-25T17:27:32.828930Z"
    }
   },
   "outputs": [
    {
     "data": {
      "text/html": [
       "<div>\n",
       "<style scoped>\n",
       "    .dataframe tbody tr th:only-of-type {\n",
       "        vertical-align: middle;\n",
       "    }\n",
       "\n",
       "    .dataframe tbody tr th {\n",
       "        vertical-align: top;\n",
       "    }\n",
       "\n",
       "    .dataframe thead th {\n",
       "        text-align: right;\n",
       "    }\n",
       "</style>\n",
       "<table border=\"1\" class=\"dataframe\">\n",
       "  <thead>\n",
       "    <tr style=\"text-align: right;\">\n",
       "      <th></th>\n",
       "      <th>doid_id</th>\n",
       "      <th>drugbank_id</th>\n",
       "      <th>model_prediction_max</th>\n",
       "      <th>model_prediction_mean</th>\n",
       "      <th>model_prediction_median</th>\n",
       "      <th>hetionet</th>\n",
       "      <th>drug_name</th>\n",
       "      <th>doid_name</th>\n",
       "    </tr>\n",
       "  </thead>\n",
       "  <tbody>\n",
       "    <tr>\n",
       "      <th>0</th>\n",
       "      <td>DOID:0050156</td>\n",
       "      <td>DB01708</td>\n",
       "      <td>0.446686</td>\n",
       "      <td>0.405202</td>\n",
       "      <td>0.399735</td>\n",
       "      <td>0</td>\n",
       "      <td>Dehydroepiandrosterone</td>\n",
       "      <td>idiopathic pulmonary fibrosis</td>\n",
       "    </tr>\n",
       "    <tr>\n",
       "      <th>1</th>\n",
       "      <td>DOID:0050741</td>\n",
       "      <td>DB00145</td>\n",
       "      <td>0.671002</td>\n",
       "      <td>0.671002</td>\n",
       "      <td>0.671002</td>\n",
       "      <td>0</td>\n",
       "      <td>Glycine</td>\n",
       "      <td>alcohol dependence</td>\n",
       "    </tr>\n",
       "  </tbody>\n",
       "</table>\n",
       "</div>"
      ],
      "text/plain": [
       "        doid_id drugbank_id  model_prediction_max  model_prediction_mean  \\\n",
       "0  DOID:0050156     DB01708              0.446686               0.405202   \n",
       "1  DOID:0050741     DB00145              0.671002               0.671002   \n",
       "\n",
       "   model_prediction_median  hetionet               drug_name  \\\n",
       "0                 0.399735         0  Dehydroepiandrosterone   \n",
       "1                 0.671002         0                 Glycine   \n",
       "\n",
       "                       doid_name  \n",
       "0  idiopathic pulmonary fibrosis  \n",
       "1             alcohol dependence  "
      ]
     },
     "execution_count": 6,
     "metadata": {},
     "output_type": "execute_result"
    }
   ],
   "source": [
    "grouped_candidates_pred_df.columns = [\n",
    "    \"_\".join(col) \n",
    "    if col[1] != '' and col[0] not in ['hetionet', 'drug_name', 'doid_name'] else col[0] \n",
    "    for col in grouped_candidates_pred_df.columns.values\n",
    "]\n",
    "grouped_candidates_pred_df.head(2)"
   ]
  },
  {
   "cell_type": "code",
   "execution_count": 7,
   "metadata": {
    "ExecuteTime": {
     "end_time": "2019-07-25T17:27:32.879211Z",
     "start_time": "2019-07-25T17:27:32.853037Z"
    }
   },
   "outputs": [
    {
     "data": {
      "text/plain": [
       "0    456\n",
       "1      7\n",
       "Name: hetionet, dtype: int64"
      ]
     },
     "execution_count": 7,
     "metadata": {},
     "output_type": "execute_result"
    }
   ],
   "source": [
    "grouped_candidates_pred_df.hetionet.value_counts()"
   ]
  },
  {
   "cell_type": "code",
   "execution_count": 8,
   "metadata": {
    "ExecuteTime": {
     "end_time": "2019-07-25T17:27:32.934352Z",
     "start_time": "2019-07-25T17:27:32.880837Z"
    }
   },
   "outputs": [],
   "source": [
    "performance_map = {}"
   ]
  },
  {
   "cell_type": "code",
   "execution_count": 9,
   "metadata": {
    "ExecuteTime": {
     "end_time": "2019-07-25T17:27:32.970946Z",
     "start_time": "2019-07-25T17:27:32.948687Z"
    }
   },
   "outputs": [],
   "source": [
    "precision, recall, pr_threshold = precision_recall_curve(\n",
    "    grouped_candidates_pred_df.hetionet, \n",
    "    grouped_candidates_pred_df.model_prediction_max,\n",
    ")\n",
    "\n",
    "fpr, tpr, roc_threshold = roc_curve(\n",
    "    grouped_candidates_pred_df.hetionet, \n",
    "    grouped_candidates_pred_df.model_prediction_max,\n",
    ")\n",
    "\n",
    "performance_map['max'] = {\n",
    "    \"precision\":precision, \"recall\":recall, \n",
    "    \"pr_threshold\":pr_threshold, \"false_pos\":fpr,\n",
    "    \"true_pos\":tpr, \"roc_threshold\":roc_threshold, \n",
    "}"
   ]
  },
  {
   "cell_type": "code",
   "execution_count": 10,
   "metadata": {
    "ExecuteTime": {
     "end_time": "2019-07-25T17:27:33.035057Z",
     "start_time": "2019-07-25T17:27:32.972951Z"
    }
   },
   "outputs": [],
   "source": [
    "precision, recall, pr_threshold = precision_recall_curve(\n",
    "    grouped_candidates_pred_df.hetionet, \n",
    "    grouped_candidates_pred_df.model_prediction_mean,\n",
    ")\n",
    "\n",
    "fpr, tpr, roc_threshold = roc_curve(\n",
    "    grouped_candidates_pred_df.hetionet, \n",
    "    grouped_candidates_pred_df.model_prediction_mean,\n",
    ")\n",
    "\n",
    "performance_map['mean'] = {\n",
    "    \"precision\":precision, \"recall\":recall, \n",
    "    \"pr_threshold\":pr_threshold, \"false_pos\":fpr,\n",
    "    \"true_pos\":tpr, \"roc_threshold\":roc_threshold, \n",
    "}"
   ]
  },
  {
   "cell_type": "code",
   "execution_count": 11,
   "metadata": {
    "ExecuteTime": {
     "end_time": "2019-07-25T17:27:33.136346Z",
     "start_time": "2019-07-25T17:27:33.038830Z"
    }
   },
   "outputs": [],
   "source": [
    "precision, recall, pr_threshold = precision_recall_curve(\n",
    "    grouped_candidates_pred_df.hetionet, \n",
    "    grouped_candidates_pred_df.model_prediction_median,\n",
    ")\n",
    "\n",
    "fpr, tpr, roc_threshold = roc_curve(\n",
    "    grouped_candidates_pred_df.hetionet, \n",
    "    grouped_candidates_pred_df.model_prediction_median,\n",
    ")\n",
    "\n",
    "performance_map['median'] = {\n",
    "    \"precision\":precision, \"recall\":recall, \n",
    "    \"pr_threshold\":pr_threshold, \"false_pos\":fpr,\n",
    "    \"true_pos\":tpr, \"roc_threshold\":roc_threshold, \n",
    "}"
   ]
  },
  {
   "cell_type": "code",
   "execution_count": 12,
   "metadata": {
    "ExecuteTime": {
     "end_time": "2019-07-25T17:27:33.345940Z",
     "start_time": "2019-07-25T17:27:33.142934Z"
    }
   },
   "outputs": [
    {
     "data": {
      "image/png": "[encoded data removed]",
      "text/plain": [
       "<matplotlib.figure.Figure at 0x7f88c72a2f60>"
      ]
     },
     "metadata": {},
     "output_type": "display_data"
    }
   ],
   "source": [
    "for key in performance_map:\n",
    "    plt.plot(\n",
    "        performance_map[key]['false_pos'], \n",
    "        performance_map[key]['true_pos'], \n",
    "        label=f\"{key}:AUC ({auc(performance_map[key]['false_pos'], performance_map[key]['true_pos']):.3f})\"\n",
    "    )\n",
    "plt.plot([0,1], [0,1], linestyle='--', color='black')\n",
    "plt.legend()\n",
    "plt.show()"
   ]
  },
  {
   "cell_type": "code",
   "execution_count": 13,
   "metadata": {
    "ExecuteTime": {
     "end_time": "2019-07-25T17:27:33.384988Z",
     "start_time": "2019-07-25T17:27:33.350864Z"
    }
   },
   "outputs": [
    {
     "name": "stderr",
     "output_type": "stream",
     "text": [
      "/home/danich1/anaconda2/envs/snorkeling/lib/python3.6/site-packages/ipykernel/__main__.py:18: DeprecationWarning: \n",
      ".ix is deprecated. Please use\n",
      ".loc for label based indexing or\n",
      ".iloc for positional indexing\n",
      "\n",
      "See the documentation here:\n",
      "http://pandas.pydata.org/pandas-docs/stable/indexing.html#ix-indexer-is-deprecated\n"
     ]
    },
    {
     "data": {
      "text/plain": [
       "0.8251173"
      ]
     },
     "execution_count": 13,
     "metadata": {},
     "output_type": "execute_result"
    }
   ],
   "source": [
    "# https://stackoverflow.com/questions/28719067/roc-curve-and-cut-off-point-python\n",
    "def Find_Optimal_Cutoff(target, predicted):\n",
    "    \"\"\" Find the optimal probability cutoff point for a classification model related to event rate\n",
    "    Parameters\n",
    "    ----------\n",
    "    target : Matrix with dependent or target data, where rows are observations\n",
    "\n",
    "    predicted : Matrix with predicted data, where rows are observations\n",
    "\n",
    "    Returns\n",
    "    -------     \n",
    "    list type, with optimal cutoff value\n",
    "\n",
    "    \"\"\"\n",
    "    fpr, tpr, threshold = roc_curve(target, predicted)\n",
    "    i = pd.np.arange(len(tpr)) \n",
    "    roc = pd.DataFrame({'tf' : pd.Series(tpr-(1-fpr), index=i), 'threshold' : pd.Series(threshold, index=i)})\n",
    "    roc_t = roc.ix[(roc.tf-0).abs().argsort()[:1]]\n",
    "\n",
    "    return list(roc_t['threshold']) \n",
    "roc_optimal = Find_Optimal_Cutoff(grouped_candidates_pred_df.hetionet.values, grouped_candidates_pred_df.model_prediction_max)[0]\n",
    "roc_optimal"
   ]
  },
  {
   "cell_type": "code",
   "execution_count": 14,
   "metadata": {
    "ExecuteTime": {
     "end_time": "2019-07-25T17:27:33.533351Z",
     "start_time": "2019-07-25T17:27:33.386622Z"
    }
   },
   "outputs": [
    {
     "data": {
      "image/png": "[encoded data removed]",
      "text/plain": [
       "<matplotlib.figure.Figure at 0x7f88c721f710>"
      ]
     },
     "metadata": {},
     "output_type": "display_data"
    }
   ],
   "source": [
    "for key in performance_map:\n",
    "    plt.plot(\n",
    "        performance_map[key]['recall'], \n",
    "        performance_map[key]['precision'], \n",
    "        label=f\"{key}:AUC ({auc(performance_map[key]['recall'], performance_map[key]['precision']):.3f})\"\n",
    "    )\n",
    "\n",
    "plt.legend()\n",
    "plt.show()"
   ]
  },
  {
   "cell_type": "markdown",
   "metadata": {},
   "source": [
    "# Optimal PR-Cutoff"
   ]
  },
  {
   "cell_type": "code",
   "execution_count": 15,
   "metadata": {
    "ExecuteTime": {
     "end_time": "2019-07-25T17:27:33.571749Z",
     "start_time": "2019-07-25T17:27:33.536780Z"
    }
   },
   "outputs": [
    {
     "data": {
      "text/html": [
       "<div>\n",
       "<style scoped>\n",
       "    .dataframe tbody tr th:only-of-type {\n",
       "        vertical-align: middle;\n",
       "    }\n",
       "\n",
       "    .dataframe tbody tr th {\n",
       "        vertical-align: top;\n",
       "    }\n",
       "\n",
       "    .dataframe thead th {\n",
       "        text-align: right;\n",
       "    }\n",
       "</style>\n",
       "<table border=\"1\" class=\"dataframe\">\n",
       "  <thead>\n",
       "    <tr style=\"text-align: right;\">\n",
       "      <th></th>\n",
       "      <th>precision</th>\n",
       "      <th>recall</th>\n",
       "      <th>pr_threshold</th>\n",
       "    </tr>\n",
       "  </thead>\n",
       "  <tbody>\n",
       "    <tr>\n",
       "      <th>170</th>\n",
       "      <td>1.0</td>\n",
       "      <td>0.142857</td>\n",
       "      <td>0.943395</td>\n",
       "    </tr>\n",
       "    <tr>\n",
       "      <th>169</th>\n",
       "      <td>1.0</td>\n",
       "      <td>0.285714</td>\n",
       "      <td>0.941801</td>\n",
       "    </tr>\n",
       "  </tbody>\n",
       "</table>\n",
       "</div>"
      ],
      "text/plain": [
       "     precision    recall  pr_threshold\n",
       "170        1.0  0.142857      0.943395\n",
       "169        1.0  0.285714      0.941801"
      ]
     },
     "execution_count": 15,
     "metadata": {},
     "output_type": "execute_result"
    }
   ],
   "source": [
    "threshold_df = (\n",
    "    pd.DataFrame(\n",
    "        list(\n",
    "            zip(\n",
    "                performance_map['max']['precision'], \n",
    "                performance_map['max']['recall'], \n",
    "                performance_map['max']['pr_threshold']\n",
    "            )\n",
    "        ),\n",
    "        columns=[\"precision\", \"recall\", \"pr_threshold\"]\n",
    "    )\n",
    "    .sort_values(\"precision\", ascending=False)\n",
    ")\n",
    "threshold_df.head(2)"
   ]
  },
  {
   "cell_type": "code",
   "execution_count": 16,
   "metadata": {
    "ExecuteTime": {
     "end_time": "2019-07-25T17:27:33.716023Z",
     "start_time": "2019-07-25T17:27:33.575763Z"
    }
   },
   "outputs": [
    {
     "data": {
      "text/html": [
       "<div>\n",
       "<style scoped>\n",
       "    .dataframe tbody tr th:only-of-type {\n",
       "        vertical-align: middle;\n",
       "    }\n",
       "\n",
       "    .dataframe tbody tr th {\n",
       "        vertical-align: top;\n",
       "    }\n",
       "\n",
       "    .dataframe thead th {\n",
       "        text-align: right;\n",
       "    }\n",
       "</style>\n",
       "<table border=\"1\" class=\"dataframe\">\n",
       "  <thead>\n",
       "    <tr style=\"text-align: right;\">\n",
       "      <th></th>\n",
       "      <th>edges</th>\n",
       "      <th>in_hetionet</th>\n",
       "      <th>precision</th>\n",
       "      <th>sen_cutoff</th>\n",
       "    </tr>\n",
       "  </thead>\n",
       "  <tbody>\n",
       "    <tr>\n",
       "      <th>0</th>\n",
       "      <td>2</td>\n",
       "      <td>Existing</td>\n",
       "      <td>1.00</td>\n",
       "      <td>0.941801</td>\n",
       "    </tr>\n",
       "    <tr>\n",
       "      <th>1</th>\n",
       "      <td>3</td>\n",
       "      <td>Existing</td>\n",
       "      <td>0.75</td>\n",
       "      <td>0.917839</td>\n",
       "    </tr>\n",
       "    <tr>\n",
       "      <th>2</th>\n",
       "      <td>1</td>\n",
       "      <td>Novel</td>\n",
       "      <td>0.75</td>\n",
       "      <td>0.917839</td>\n",
       "    </tr>\n",
       "    <tr>\n",
       "      <th>3</th>\n",
       "      <td>3</td>\n",
       "      <td>Existing</td>\n",
       "      <td>0.67</td>\n",
       "      <td>0.917839</td>\n",
       "    </tr>\n",
       "    <tr>\n",
       "      <th>4</th>\n",
       "      <td>1</td>\n",
       "      <td>Novel</td>\n",
       "      <td>0.67</td>\n",
       "      <td>0.917839</td>\n",
       "    </tr>\n",
       "    <tr>\n",
       "      <th>5</th>\n",
       "      <td>3</td>\n",
       "      <td>Existing</td>\n",
       "      <td>0.60</td>\n",
       "      <td>0.912641</td>\n",
       "    </tr>\n",
       "    <tr>\n",
       "      <th>6</th>\n",
       "      <td>2</td>\n",
       "      <td>Novel</td>\n",
       "      <td>0.60</td>\n",
       "      <td>0.912641</td>\n",
       "    </tr>\n",
       "    <tr>\n",
       "      <th>7</th>\n",
       "      <td>4</td>\n",
       "      <td>Existing</td>\n",
       "      <td>0.57</td>\n",
       "      <td>0.911065</td>\n",
       "    </tr>\n",
       "    <tr>\n",
       "      <th>8</th>\n",
       "      <td>3</td>\n",
       "      <td>Novel</td>\n",
       "      <td>0.57</td>\n",
       "      <td>0.911065</td>\n",
       "    </tr>\n",
       "    <tr>\n",
       "      <th>9</th>\n",
       "      <td>4</td>\n",
       "      <td>Existing</td>\n",
       "      <td>0.50</td>\n",
       "      <td>0.898460</td>\n",
       "    </tr>\n",
       "  </tbody>\n",
       "</table>\n",
       "</div>"
      ],
      "text/plain": [
       "   edges in_hetionet  precision  sen_cutoff\n",
       "0      2    Existing       1.00    0.941801\n",
       "1      3    Existing       0.75    0.917839\n",
       "2      1       Novel       0.75    0.917839\n",
       "3      3    Existing       0.67    0.917839\n",
       "4      1       Novel       0.67    0.917839\n",
       "5      3    Existing       0.60    0.912641\n",
       "6      2       Novel       0.60    0.912641\n",
       "7      4    Existing       0.57    0.911065\n",
       "8      3       Novel       0.57    0.911065\n",
       "9      4    Existing       0.50    0.898460"
      ]
     },
     "execution_count": 16,
     "metadata": {},
     "output_type": "execute_result"
    }
   ],
   "source": [
    "#precision_thresholds = pd.np.linspace(0,1,num=5)\n",
    "precision_thresholds = threshold_df.round(2).drop_duplicates(\"precision\").precision.values\n",
    "\n",
    "# Add the lowest precision rather than\n",
    "# Keep it zero\n",
    "precision_thresholds = (\n",
    "    pd.np.where(\n",
    "        precision_thresholds==0, \n",
    "        threshold_df.precision.min(), \n",
    "        precision_thresholds\n",
    "    )\n",
    ")\n",
    "\n",
    "performance_records = []\n",
    "for precision_cutoff in precision_thresholds:\n",
    "\n",
    "    cutoff = (\n",
    "        threshold_df\n",
    "        .query(\"precision>=@precision_cutoff\")\n",
    "        .pr_threshold\n",
    "        .min()\n",
    "    )\n",
    "    \n",
    "    values_added = (\n",
    "        grouped_candidates_pred_df\n",
    "        .query(\"model_prediction_max >= @cutoff\")\n",
    "        .hetionet\n",
    "        .value_counts()\n",
    "    )\n",
    "    \n",
    "    series_keys = list(values_added.keys())\n",
    "    for key in series_keys:\n",
    "        performance_records.append(\n",
    "           {  \n",
    "               \"edges\": values_added[key], \n",
    "               \"in_hetionet\": \"Existing\" if key == 1 else \"Novel\", \n",
    "               \"precision\": precision_cutoff,\n",
    "               \"sen_cutoff\": cutoff\n",
    "           }\n",
    "        )\n",
    "   \n",
    "    \n",
    "edges_added_df = (\n",
    "    pd\n",
    "    .DataFrame\n",
    "    .from_records(performance_records)\n",
    ")\n",
    "edges_added_df.head(10)"
   ]
  },
  {
   "cell_type": "code",
   "execution_count": 17,
   "metadata": {
    "ExecuteTime": {
     "end_time": "2019-07-25T17:27:34.122616Z",
     "start_time": "2019-07-25T17:27:33.717761Z"
    }
   },
   "outputs": [
    {
     "data": {
      "text/plain": [
       "[None]"
      ]
     },
     "execution_count": 17,
     "metadata": {},
     "output_type": "execute_result"
    },
    {
     "data": {
      "image/png": "[encoded data removed]",
      "text/plain": [
       "<matplotlib.figure.Figure at 0x7f88c715e240>"
      ]
     },
     "metadata": {},
     "output_type": "display_data"
    }
   ],
   "source": [
    "ax = sns.scatterplot(x=\"precision\", y=\"edges\", hue=\"in_hetionet\", data=edges_added_df)\n",
    "ax.set(yscale=\"log\")"
   ]
  },
  {
   "cell_type": "code",
   "execution_count": 18,
   "metadata": {
    "ExecuteTime": {
     "end_time": "2019-07-25T17:27:34.138369Z",
     "start_time": "2019-07-25T17:27:34.123945Z"
    }
   },
   "outputs": [],
   "source": [
    "edges_added_df.to_csv(\"results/precision_ctd_edges_added.tsv\", index=False, sep=\"\\t\")"
   ]
  },
  {
   "cell_type": "markdown",
   "metadata": {},
   "source": [
    "# Optimal ROC Cutoff"
   ]
  },
  {
   "cell_type": "code",
   "execution_count": 19,
   "metadata": {
    "ExecuteTime": {
     "end_time": "2019-07-25T17:27:34.173000Z",
     "start_time": "2019-07-25T17:27:34.140253Z"
    }
   },
   "outputs": [
    {
     "data": {
      "text/plain": [
       "0    38\n",
       "1     5\n",
       "Name: hetionet, dtype: int64"
      ]
     },
     "execution_count": 19,
     "metadata": {},
     "output_type": "execute_result"
    }
   ],
   "source": [
    "(\n",
    "    grouped_candidates_pred_df\n",
    "    .query(\"model_prediction_max > @roc_optimal\")\n",
    "    .sort_values(\"hetionet\")\n",
    "    .hetionet.value_counts()\n",
    ")"
   ]
  },
  {
   "cell_type": "code",
   "execution_count": 20,
   "metadata": {
    "ExecuteTime": {
     "end_time": "2019-07-25T17:27:34.219527Z",
     "start_time": "2019-07-25T17:27:34.174676Z"
    },
    "scrolled": false
   },
   "outputs": [
    {
     "data": {
      "text/html": [
       "<div>\n",
       "<style scoped>\n",
       "    .dataframe tbody tr th:only-of-type {\n",
       "        vertical-align: middle;\n",
       "    }\n",
       "\n",
       "    .dataframe tbody tr th {\n",
       "        vertical-align: top;\n",
       "    }\n",
       "\n",
       "    .dataframe thead th {\n",
       "        text-align: right;\n",
       "    }\n",
       "</style>\n",
       "<table border=\"1\" class=\"dataframe\">\n",
       "  <thead>\n",
       "    <tr style=\"text-align: right;\">\n",
       "      <th></th>\n",
       "      <th>doid_id</th>\n",
       "      <th>drugbank_id</th>\n",
       "      <th>model_prediction_max</th>\n",
       "      <th>model_prediction_mean</th>\n",
       "      <th>model_prediction_median</th>\n",
       "      <th>hetionet</th>\n",
       "      <th>drug_name</th>\n",
       "      <th>doid_name</th>\n",
       "    </tr>\n",
       "  </thead>\n",
       "  <tbody>\n",
       "    <tr>\n",
       "      <th>384</th>\n",
       "      <td>DOID:7148</td>\n",
       "      <td>DB00554</td>\n",
       "      <td>0.927799</td>\n",
       "      <td>0.571525</td>\n",
       "      <td>0.526885</td>\n",
       "      <td>0</td>\n",
       "      <td>Piroxicam</td>\n",
       "      <td>rheumatoid arthritis</td>\n",
       "    </tr>\n",
       "    <tr>\n",
       "      <th>151</th>\n",
       "      <td>DOID:1595</td>\n",
       "      <td>DB00234</td>\n",
       "      <td>0.912641</td>\n",
       "      <td>0.554114</td>\n",
       "      <td>0.522500</td>\n",
       "      <td>0</td>\n",
       "      <td>Reboxetine</td>\n",
       "      <td>endogenous depression</td>\n",
       "    </tr>\n",
       "    <tr>\n",
       "      <th>46</th>\n",
       "      <td>DOID:10763</td>\n",
       "      <td>DB00374</td>\n",
       "      <td>0.912544</td>\n",
       "      <td>0.562367</td>\n",
       "      <td>0.524710</td>\n",
       "      <td>0</td>\n",
       "      <td>Treprostinil</td>\n",
       "      <td>hypertension</td>\n",
       "    </tr>\n",
       "    <tr>\n",
       "      <th>28</th>\n",
       "      <td>DOID:10534</td>\n",
       "      <td>DB00571</td>\n",
       "      <td>0.898460</td>\n",
       "      <td>0.490078</td>\n",
       "      <td>0.471356</td>\n",
       "      <td>0</td>\n",
       "      <td>Propranolol</td>\n",
       "      <td>stomach cancer</td>\n",
       "    </tr>\n",
       "    <tr>\n",
       "      <th>3</th>\n",
       "      <td>DOID:0050741</td>\n",
       "      <td>DB00898</td>\n",
       "      <td>0.892434</td>\n",
       "      <td>0.412273</td>\n",
       "      <td>0.406770</td>\n",
       "      <td>0</td>\n",
       "      <td>Ethanol</td>\n",
       "      <td>alcohol dependence</td>\n",
       "    </tr>\n",
       "    <tr>\n",
       "      <th>379</th>\n",
       "      <td>DOID:7147</td>\n",
       "      <td>DB00586</td>\n",
       "      <td>0.892244</td>\n",
       "      <td>0.567481</td>\n",
       "      <td>0.538723</td>\n",
       "      <td>0</td>\n",
       "      <td>Diclofenac</td>\n",
       "      <td>ankylosing spondylitis</td>\n",
       "    </tr>\n",
       "    <tr>\n",
       "      <th>52</th>\n",
       "      <td>DOID:10763</td>\n",
       "      <td>DB00859</td>\n",
       "      <td>0.881820</td>\n",
       "      <td>0.548885</td>\n",
       "      <td>0.506215</td>\n",
       "      <td>0</td>\n",
       "      <td>Penicillamine</td>\n",
       "      <td>hypertension</td>\n",
       "    </tr>\n",
       "    <tr>\n",
       "      <th>204</th>\n",
       "      <td>DOID:1826</td>\n",
       "      <td>DB01181</td>\n",
       "      <td>0.881606</td>\n",
       "      <td>0.521353</td>\n",
       "      <td>0.477110</td>\n",
       "      <td>0</td>\n",
       "      <td>Ifosfamide</td>\n",
       "      <td>epilepsy syndrome</td>\n",
       "    </tr>\n",
       "    <tr>\n",
       "      <th>459</th>\n",
       "      <td>DOID:9970</td>\n",
       "      <td>DB01016</td>\n",
       "      <td>0.880070</td>\n",
       "      <td>0.511807</td>\n",
       "      <td>0.458982</td>\n",
       "      <td>0</td>\n",
       "      <td>Glyburide</td>\n",
       "      <td>obesity</td>\n",
       "    </tr>\n",
       "    <tr>\n",
       "      <th>405</th>\n",
       "      <td>DOID:8398</td>\n",
       "      <td>DB06204</td>\n",
       "      <td>0.880065</td>\n",
       "      <td>0.520666</td>\n",
       "      <td>0.492785</td>\n",
       "      <td>0</td>\n",
       "      <td>Tapentadol</td>\n",
       "      <td>osteoarthritis</td>\n",
       "    </tr>\n",
       "  </tbody>\n",
       "</table>\n",
       "</div>"
      ],
      "text/plain": [
       "          doid_id drugbank_id  model_prediction_max  model_prediction_mean  \\\n",
       "384     DOID:7148     DB00554              0.927799               0.571525   \n",
       "151     DOID:1595     DB00234              0.912641               0.554114   \n",
       "46     DOID:10763     DB00374              0.912544               0.562367   \n",
       "28     DOID:10534     DB00571              0.898460               0.490078   \n",
       "3    DOID:0050741     DB00898              0.892434               0.412273   \n",
       "379     DOID:7147     DB00586              0.892244               0.567481   \n",
       "52     DOID:10763     DB00859              0.881820               0.548885   \n",
       "204     DOID:1826     DB01181              0.881606               0.521353   \n",
       "459     DOID:9970     DB01016              0.880070               0.511807   \n",
       "405     DOID:8398     DB06204              0.880065               0.520666   \n",
       "\n",
       "     model_prediction_median  hetionet      drug_name               doid_name  \n",
       "384                 0.526885         0      Piroxicam    rheumatoid arthritis  \n",
       "151                 0.522500         0     Reboxetine   endogenous depression  \n",
       "46                  0.524710         0   Treprostinil            hypertension  \n",
       "28                  0.471356         0    Propranolol          stomach cancer  \n",
       "3                   0.406770         0        Ethanol      alcohol dependence  \n",
       "379                 0.538723         0     Diclofenac  ankylosing spondylitis  \n",
       "52                  0.506215         0  Penicillamine            hypertension  \n",
       "204                 0.477110         0     Ifosfamide       epilepsy syndrome  \n",
       "459                 0.458982         0      Glyburide                 obesity  \n",
       "405                 0.492785         0     Tapentadol          osteoarthritis  "
      ]
     },
     "execution_count": 20,
     "metadata": {},
     "output_type": "execute_result"
    }
   ],
   "source": [
    "(\n",
    "    grouped_candidates_pred_df\n",
    "    .query(\"model_prediction_max > @roc_optimal\")\n",
    "    .sort_values([\"hetionet\", \"model_prediction_max\"], ascending=[True, False])\n",
    "    .head(10)\n",
    ")"
   ]
  }
 ],
 "metadata": {
  "kernelspec": {
   "display_name": "Python [conda env:snorkeling]",
   "language": "python",
   "name": "conda-env-snorkeling-py"
  },
  "language_info": {
   "codemirror_mode": {
    "name": "ipython",
    "version": 3
   },
   "file_extension": ".py",
   "mimetype": "text/x-python",
   "name": "python",
   "nbconvert_exporter": "python",
   "pygments_lexer": "ipython3",
   "version": "3.6.4"
  }
 },
 "nbformat": 4,
 "nbformat_minor": 2
}
