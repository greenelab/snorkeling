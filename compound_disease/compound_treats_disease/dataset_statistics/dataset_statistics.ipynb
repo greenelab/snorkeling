{
 "cells": [
  {
   "cell_type": "markdown",
   "metadata": {},
   "source": [
    "# Dataset Statistics for Compound Disease Sentences"
   ]
  },
  {
   "cell_type": "markdown",
   "metadata": {},
   "source": [
    "This notebook is designed to show statistics on data extracted from pubmed. The following cells below here are needed to set up the environment."
   ]
  },
  {
   "cell_type": "code",
   "execution_count": 1,
   "metadata": {
    "ExecuteTime": {
     "end_time": "2019-03-14T18:01:47.692862Z",
     "start_time": "2019-03-14T18:01:47.186065Z"
    }
   },
   "outputs": [],
   "source": [
    "%load_ext autoreload\n",
    "%autoreload 2\n",
    "%matplotlib inline\n",
    "\n",
    "from collections import Counter\n",
    "from itertools import product\n",
    "import os\n",
    "import pickle\n",
    "import sys\n",
    "\n",
    "sys.path.append(os.path.abspath('../../../modules'))\n",
    "\n",
    "import pandas as pd\n",
    "import matplotlib.pyplot as plt\n",
    "from matplotlib_venn import venn2\n",
    "import seaborn as sns\n",
    "from tqdm import tqdm_notebook\n",
    "\n",
    "sns.set(rc={'figure.figsize':(12,6), \"font.size\":17})"
   ]
  },
  {
   "cell_type": "code",
   "execution_count": 2,
   "metadata": {
    "ExecuteTime": {
     "end_time": "2019-03-14T18:01:47.894561Z",
     "start_time": "2019-03-14T18:01:47.694325Z"
    }
   },
   "outputs": [],
   "source": [
    "#Set up the environment\n",
    "username = \"danich1\"\n",
    "password = \"snorkel\"\n",
    "dbname = \"pubmeddb\"\n",
    "\n",
    "#Path subject to change for different os\n",
    "database_str = \"postgresql+psycopg2://{}:{}@/{}?host=/var/run/postgresql\".format(username, password, dbname)\n",
    "os.environ['SNORKELDB'] = database_str\n",
    "\n",
    "from snorkel import SnorkelSession\n",
    "session = SnorkelSession()"
   ]
  },
  {
   "cell_type": "code",
   "execution_count": 3,
   "metadata": {
    "ExecuteTime": {
     "end_time": "2019-03-14T18:01:47.913111Z",
     "start_time": "2019-03-14T18:01:47.896373Z"
    }
   },
   "outputs": [],
   "source": [
    "from snorkel.models import candidate_subclass, Candidate\n",
    "CompoundDisease = candidate_subclass('CompoundDisease', ['Compound', 'Disease'])"
   ]
  },
  {
   "cell_type": "code",
   "execution_count": 4,
   "metadata": {
    "ExecuteTime": {
     "end_time": "2019-03-14T18:01:47.933124Z",
     "start_time": "2019-03-14T18:01:47.916720Z"
    }
   },
   "outputs": [],
   "source": [
    "from utils.notebook_utils.dataframe_helper import write_candidates_to_excel, make_sentence_df"
   ]
  },
  {
   "cell_type": "markdown",
   "metadata": {},
   "source": [
    "# Read Full Sentence Table"
   ]
  },
  {
   "cell_type": "markdown",
   "metadata": {},
   "source": [
    "The cells below will read every sentence that contains a compound and disease entity from the sentence table in our postgres database. Since this process can take a significant amount of time this section has already been executed."
   ]
  },
  {
   "cell_type": "code",
   "execution_count": 5,
   "metadata": {
    "ExecuteTime": {
     "end_time": "2019-03-06T17:54:18.820448Z",
     "start_time": "2019-03-06T17:30:28.783755Z"
    }
   },
   "outputs": [
    {
     "data": {
      "text/html": [
       "<div>\n",
       "<style scoped>\n",
       "    .dataframe tbody tr th:only-of-type {\n",
       "        vertical-align: middle;\n",
       "    }\n",
       "\n",
       "    .dataframe tbody tr th {\n",
       "        vertical-align: top;\n",
       "    }\n",
       "\n",
       "    .dataframe thead th {\n",
       "        text-align: right;\n",
       "    }\n",
       "</style>\n",
       "<table border=\"1\" class=\"dataframe\">\n",
       "  <thead>\n",
       "    <tr style=\"text-align: right;\">\n",
       "      <th></th>\n",
       "      <th>sentence_id</th>\n",
       "      <th>text</th>\n",
       "      <th>sen_length</th>\n",
       "      <th>entity_types</th>\n",
       "    </tr>\n",
       "  </thead>\n",
       "  <tbody>\n",
       "    <tr>\n",
       "      <th>0</th>\n",
       "      <td>50851791</td>\n",
       "      <td>BACKGROUND/AIMS: Characteristics of the intrah...</td>\n",
       "      <td>35</td>\n",
       "      <td>[O, O, O, O, O, O, O, O, O, O, O, O, Disease, ...</td>\n",
       "    </tr>\n",
       "    <tr>\n",
       "      <th>1</th>\n",
       "      <td>50851796</td>\n",
       "      <td>In this study we aimed to characterize the vir...</td>\n",
       "      <td>28</td>\n",
       "      <td>[O, O, O, O, O, O, O, O, O, Gene, O, O, O, O, ...</td>\n",
       "    </tr>\n",
       "  </tbody>\n",
       "</table>\n",
       "</div>"
      ],
      "text/plain": [
       "   sentence_id                                               text  sen_length  \\\n",
       "0     50851791  BACKGROUND/AIMS: Characteristics of the intrah...          35   \n",
       "1     50851796  In this study we aimed to characterize the vir...          28   \n",
       "\n",
       "                                        entity_types  \n",
       "0  [O, O, O, O, O, O, O, O, O, O, O, O, Disease, ...  \n",
       "1  [O, O, O, O, O, O, O, O, O, Gene, O, O, O, O, ...  "
      ]
     },
     "execution_count": 5,
     "metadata": {},
     "output_type": "execute_result"
    }
   ],
   "source": [
    "sql= '''\n",
    "select id as sentence_id, text, (\n",
    "    char_length(regexp_replace(CAST(words AS TEXT), '[\\u0080-\\u00ff]', '', 'g')) - \n",
    "    char_length(regexp_replace(regexp_replace(CAST(words AS TEXT), '[\\u0080-\\u00ff]', '', 'g'), ',', '','g'))\n",
    ") as sen_length, entity_types \n",
    "from sentence \n",
    "where entity_types::text like '%%Compound%%' or entity_types::text like '%%Disease%%';\n",
    "'''\n",
    "sentence_df = pd.read_sql(sql, database_str)\n",
    "sentence_df.head(2)"
   ]
  },
  {
   "cell_type": "code",
   "execution_count": 7,
   "metadata": {
    "ExecuteTime": {
     "end_time": "2019-03-06T18:37:21.907009Z",
     "start_time": "2019-03-06T17:54:42.650975Z"
    }
   },
   "outputs": [
    {
     "data": {
      "application/vnd.jupyter.widget-view+json": {
       "model_id": "6a88ad2cdee84cb881bbca94b8c82f8a",
       "version_major": 2,
       "version_minor": 0
      },
      "text/html": [
       "<p>Failed to display Jupyter Widget of type <code>HBox</code>.</p>\n",
       "<p>\n",
       "  If you're reading this message in the Jupyter Notebook or JupyterLab Notebook, it may mean\n",
       "  that the widgets JavaScript is still loading. If this message persists, it\n",
       "  likely means that the widgets JavaScript library is either not installed or\n",
       "  not enabled. See the <a href=\"https://ipywidgets.readthedocs.io/en/stable/user_install.html\">Jupyter\n",
       "  Widgets Documentation</a> for setup instructions.\n",
       "</p>\n",
       "<p>\n",
       "  If you're reading this message in another frontend (for example, a static\n",
       "  rendering on GitHub or <a href=\"https://nbviewer.jupyter.org/\">NBViewer</a>),\n",
       "  it may mean that your frontend doesn't currently support widgets.\n",
       "</p>\n"
      ],
      "text/plain": [
       "HBox(children=(IntProgress(value=1, bar_style='info', max=1), HTML(value='')))"
      ]
     },
     "metadata": {},
     "output_type": "display_data"
    },
    {
     "name": "stdout",
     "output_type": "stream",
     "text": [
      "\n"
     ]
    },
    {
     "data": {
      "text/html": [
       "<div>\n",
       "<style scoped>\n",
       "    .dataframe tbody tr th:only-of-type {\n",
       "        vertical-align: middle;\n",
       "    }\n",
       "\n",
       "    .dataframe tbody tr th {\n",
       "        vertical-align: top;\n",
       "    }\n",
       "\n",
       "    .dataframe thead th {\n",
       "        text-align: right;\n",
       "    }\n",
       "</style>\n",
       "<table border=\"1\" class=\"dataframe\">\n",
       "  <thead>\n",
       "    <tr style=\"text-align: right;\">\n",
       "      <th></th>\n",
       "      <th>compound</th>\n",
       "      <th>disease</th>\n",
       "      <th>gene</th>\n",
       "      <th>sentence_id</th>\n",
       "    </tr>\n",
       "  </thead>\n",
       "  <tbody>\n",
       "    <tr>\n",
       "      <th>0</th>\n",
       "      <td>0.0</td>\n",
       "      <td>1.0</td>\n",
       "      <td>0.0</td>\n",
       "      <td>50851791</td>\n",
       "    </tr>\n",
       "    <tr>\n",
       "      <th>1</th>\n",
       "      <td>0.0</td>\n",
       "      <td>1.0</td>\n",
       "      <td>1.0</td>\n",
       "      <td>50851796</td>\n",
       "    </tr>\n",
       "  </tbody>\n",
       "</table>\n",
       "</div>"
      ],
      "text/plain": [
       "   compound  disease  gene  sentence_id\n",
       "0       0.0      1.0   0.0     50851791\n",
       "1       0.0      1.0   1.0     50851796"
      ]
     },
     "execution_count": 7,
     "metadata": {},
     "output_type": "execute_result"
    }
   ],
   "source": [
    "entity_data = []\n",
    "tagging_error_ids = set({})\n",
    "\n",
    "#skip tagging error\n",
    "skip_tag_error = False\n",
    "for index, row in tqdm_notebook(sentence_df.iterrows()):\n",
    "    \n",
    "    #create dictionay for mapping entity types\n",
    "    entity_mapper = {\"sentence_id\": row['sentence_id']}\n",
    "    \n",
    "    #Keep track of previous entity\n",
    "    previous_entity = 'o'\n",
    "    \n",
    "    #For all entitys in a given sentence decide what is tagged\n",
    "    for entity in row['entity_types']:\n",
    "        entity = entity.lower()\n",
    "\n",
    "        #Non-O tag\n",
    "        if entity != 'o' and previous_entity =='o':\n",
    "            #If entity not seen before instanciate it\n",
    "            if entity not in entity_mapper:\n",
    "                entity_mapper[entity] =0\n",
    "            entity_mapper[entity] += 1\n",
    "\n",
    "        # If previous tag was non-O and the current tag does not equal previous\n",
    "        # Then tagging error. e.x. Disease, Gene, Disease instead of Disease, O, Disease\n",
    "        elif entity != previous_entity and entity != 'o':\n",
    "            tagging_error_ids.add(row['sentence_id'])\n",
    "            skip_tag_error = True\n",
    "            break\n",
    "\n",
    "        previous_entity = entity\n",
    "    \n",
    "    # Do not add errors to dataframe\n",
    "    # They will be thrown out\n",
    "    if not skip_tag_error:\n",
    "        entity_data.append(entity_mapper)\n",
    "\n",
    "    skip_tag_error=False\n",
    "    \n",
    "entity_stats_df = pd.DataFrame.from_dict(entity_data).fillna(0)\n",
    "entity_stats_df.head(2)"
   ]
  },
  {
   "cell_type": "code",
   "execution_count": 8,
   "metadata": {
    "ExecuteTime": {
     "end_time": "2019-03-06T18:37:23.970757Z",
     "start_time": "2019-03-06T18:37:21.928509Z"
    }
   },
   "outputs": [
    {
     "data": {
      "text/plain": [
       "0    50639\n",
       "1    50719\n",
       "dtype: int64"
      ]
     },
     "execution_count": 8,
     "metadata": {},
     "output_type": "execute_result"
    }
   ],
   "source": [
    "tagging_error_df = pd.Series(sorted(list(tagging_error_ids)))\n",
    "tagging_error_df.to_csv(\"data/tagging_error_ids.tsv.xz\", sep=\"\\t\",  index=False, compression=\"xz\")\n",
    "tagging_error_df.head(2)"
   ]
  },
  {
   "cell_type": "code",
   "execution_count": 9,
   "metadata": {
    "ExecuteTime": {
     "end_time": "2019-03-06T18:37:23.985923Z",
     "start_time": "2019-03-06T18:37:23.972515Z"
    }
   },
   "outputs": [
    {
     "name": "stdout",
     "output_type": "stream",
     "text": [
      "Total Number of IOB Tagging Errors: 284297. Percentage of sentences affected: 0.96\n"
     ]
    }
   ],
   "source": [
    "print(\n",
    "    \"Total Number of IOB Tagging Errors: {}. Percentage of sentences affected: {:.2f}\".format(\n",
    "        tagging_error_df.shape[0],\n",
    "        100*tagging_error_df.shape[0]/sentence_df.shape[0]\n",
    "    )\n",
    ")"
   ]
  },
  {
   "cell_type": "code",
   "execution_count": 10,
   "metadata": {
    "ExecuteTime": {
     "end_time": "2019-03-06T19:45:38.466458Z",
     "start_time": "2019-03-06T18:37:23.987822Z"
    }
   },
   "outputs": [],
   "source": [
    "header = [\"sentence_id\", \"text\", \"sen_length\"]\n",
    "sentence_df[header].to_csv(\"data/sentence_stats.tsv.xz\", sep=\"\\t\", index=False, compression=\"xz\")\n",
    "entity_stats_df.to_csv(\"data/entity_stats.tsv.xz\", sep=\"\\t\",  index=False, compression=\"xz\")"
   ]
  },
  {
   "cell_type": "markdown",
   "metadata": {},
   "source": [
    "# Sentence Counts and Statistics"
   ]
  },
  {
   "cell_type": "markdown",
   "metadata": {},
   "source": [
    "Below is the block of code that contains information about the full distribution of sentences tied to each candidate pair. Multiple sentences can contain more than one co-occuring pair, which results in some sentences being counted more than once."
   ]
  },
  {
   "cell_type": "markdown",
   "metadata": {},
   "source": [
    "## Load and Merge DataFrames"
   ]
  },
  {
   "cell_type": "code",
   "execution_count": 5,
   "metadata": {
    "ExecuteTime": {
     "end_time": "2019-03-14T18:02:02.068499Z",
     "start_time": "2019-03-14T18:02:00.027588Z"
    }
   },
   "outputs": [
    {
     "name": "stderr",
     "output_type": "stream",
     "text": [
      "/home/danich1/anaconda2/envs/snorkeling/lib/python3.6/site-packages/IPython/core/interactiveshell.py:2785: DtypeWarning: Columns (3) have mixed types. Specify dtype option on import or set low_memory=False.\n",
      "  interactivity=interactivity, compiler=compiler, result=result)\n"
     ]
    },
    {
     "data": {
      "text/html": [
       "<div>\n",
       "<style scoped>\n",
       "    .dataframe tbody tr th:only-of-type {\n",
       "        vertical-align: middle;\n",
       "    }\n",
       "\n",
       "    .dataframe tbody tr th {\n",
       "        vertical-align: top;\n",
       "    }\n",
       "\n",
       "    .dataframe thead th {\n",
       "        text-align: right;\n",
       "    }\n",
       "</style>\n",
       "<table border=\"1\" class=\"dataframe\">\n",
       "  <thead>\n",
       "    <tr style=\"text-align: right;\">\n",
       "      <th></th>\n",
       "      <th>doid_id</th>\n",
       "      <th>doid_name</th>\n",
       "      <th>resource</th>\n",
       "      <th>resource_id</th>\n",
       "      <th>drugbank_id</th>\n",
       "      <th>drug_name</th>\n",
       "      <th>disease</th>\n",
       "      <th>sources</th>\n",
       "      <th>hetionet</th>\n",
       "      <th>n_sentences</th>\n",
       "      <th>has_sentence</th>\n",
       "      <th>partition_rank</th>\n",
       "      <th>split</th>\n",
       "    </tr>\n",
       "  </thead>\n",
       "  <tbody>\n",
       "    <tr>\n",
       "      <th>0</th>\n",
       "      <td>DOID:2531</td>\n",
       "      <td>hematologic cancer</td>\n",
       "      <td>CSP</td>\n",
       "      <td>2004-1600</td>\n",
       "      <td>DB00001</td>\n",
       "      <td>Lepirudin</td>\n",
       "      <td>NaN</td>\n",
       "      <td>NaN</td>\n",
       "      <td>0</td>\n",
       "      <td>0</td>\n",
       "      <td>0</td>\n",
       "      <td>0.71127</td>\n",
       "      <td>10</td>\n",
       "    </tr>\n",
       "    <tr>\n",
       "      <th>1</th>\n",
       "      <td>DOID:2531</td>\n",
       "      <td>hematologic cancer</td>\n",
       "      <td>CSP</td>\n",
       "      <td>2004-1600</td>\n",
       "      <td>DB00002</td>\n",
       "      <td>Cetuximab</td>\n",
       "      <td>NaN</td>\n",
       "      <td>NaN</td>\n",
       "      <td>0</td>\n",
       "      <td>0</td>\n",
       "      <td>0</td>\n",
       "      <td>0.22452</td>\n",
       "      <td>9</td>\n",
       "    </tr>\n",
       "  </tbody>\n",
       "</table>\n",
       "</div>"
      ],
      "text/plain": [
       "     doid_id           doid_name resource resource_id drugbank_id  drug_name  \\\n",
       "0  DOID:2531  hematologic cancer      CSP   2004-1600     DB00001  Lepirudin   \n",
       "1  DOID:2531  hematologic cancer      CSP   2004-1600     DB00002  Cetuximab   \n",
       "\n",
       "  disease sources  hetionet  n_sentences  has_sentence  partition_rank  split  \n",
       "0     NaN     NaN         0            0             0         0.71127     10  \n",
       "1     NaN     NaN         0            0             0         0.22452      9  "
      ]
     },
     "execution_count": 5,
     "metadata": {},
     "output_type": "execute_result"
    }
   ],
   "source": [
    "entity_level_df = pd.read_table(\"../compound_treats_disease.tsv.xz\")\n",
    "entity_level_df.head(2)"
   ]
  },
  {
   "cell_type": "code",
   "execution_count": 6,
   "metadata": {
    "ExecuteTime": {
     "end_time": "2019-03-14T18:02:16.957673Z",
     "start_time": "2019-03-14T18:02:02.071712Z"
    }
   },
   "outputs": [
    {
     "data": {
      "text/html": [
       "<div>\n",
       "<style scoped>\n",
       "    .dataframe tbody tr th:only-of-type {\n",
       "        vertical-align: middle;\n",
       "    }\n",
       "\n",
       "    .dataframe tbody tr th {\n",
       "        vertical-align: top;\n",
       "    }\n",
       "\n",
       "    .dataframe thead th {\n",
       "        text-align: right;\n",
       "    }\n",
       "</style>\n",
       "<table border=\"1\" class=\"dataframe\">\n",
       "  <thead>\n",
       "    <tr style=\"text-align: right;\">\n",
       "      <th></th>\n",
       "      <th>compound</th>\n",
       "      <th>disease</th>\n",
       "      <th>gene</th>\n",
       "      <th>sentence_id</th>\n",
       "    </tr>\n",
       "  </thead>\n",
       "  <tbody>\n",
       "    <tr>\n",
       "      <th>0</th>\n",
       "      <td>0.0</td>\n",
       "      <td>1.0</td>\n",
       "      <td>0.0</td>\n",
       "      <td>50851791</td>\n",
       "    </tr>\n",
       "    <tr>\n",
       "      <th>1</th>\n",
       "      <td>0.0</td>\n",
       "      <td>1.0</td>\n",
       "      <td>1.0</td>\n",
       "      <td>50851796</td>\n",
       "    </tr>\n",
       "  </tbody>\n",
       "</table>\n",
       "</div>"
      ],
      "text/plain": [
       "   compound  disease  gene  sentence_id\n",
       "0       0.0      1.0   0.0     50851791\n",
       "1       0.0      1.0   1.0     50851796"
      ]
     },
     "execution_count": 6,
     "metadata": {},
     "output_type": "execute_result"
    }
   ],
   "source": [
    "entity_stats_df = pd.read_table(\"data/entity_stats.tsv.xz\")\n",
    "entity_stats_df.head(2)"
   ]
  },
  {
   "cell_type": "code",
   "execution_count": 7,
   "metadata": {
    "ExecuteTime": {
     "end_time": "2019-03-14T18:04:27.538546Z",
     "start_time": "2019-03-14T18:02:16.960216Z"
    }
   },
   "outputs": [
    {
     "data": {
      "text/html": [
       "<div>\n",
       "<style scoped>\n",
       "    .dataframe tbody tr th:only-of-type {\n",
       "        vertical-align: middle;\n",
       "    }\n",
       "\n",
       "    .dataframe tbody tr th {\n",
       "        vertical-align: top;\n",
       "    }\n",
       "\n",
       "    .dataframe thead th {\n",
       "        text-align: right;\n",
       "    }\n",
       "</style>\n",
       "<table border=\"1\" class=\"dataframe\">\n",
       "  <thead>\n",
       "    <tr style=\"text-align: right;\">\n",
       "      <th></th>\n",
       "      <th>sentence_id</th>\n",
       "      <th>text</th>\n",
       "      <th>sen_length</th>\n",
       "    </tr>\n",
       "  </thead>\n",
       "  <tbody>\n",
       "    <tr>\n",
       "      <th>0</th>\n",
       "      <td>50851791</td>\n",
       "      <td>BACKGROUND/AIMS: Characteristics of the intrah...</td>\n",
       "      <td>35</td>\n",
       "    </tr>\n",
       "    <tr>\n",
       "      <th>1</th>\n",
       "      <td>50851796</td>\n",
       "      <td>In this study we aimed to characterize the vir...</td>\n",
       "      <td>28</td>\n",
       "    </tr>\n",
       "  </tbody>\n",
       "</table>\n",
       "</div>"
      ],
      "text/plain": [
       "   sentence_id                                               text  sen_length\n",
       "0     50851791  BACKGROUND/AIMS: Characteristics of the intrah...          35\n",
       "1     50851796  In this study we aimed to characterize the vir...          28"
      ]
     },
     "execution_count": 7,
     "metadata": {},
     "output_type": "execute_result"
    }
   ],
   "source": [
    "sentence_count_df = pd.read_table(\"data/sentence_stats.tsv.xz\")\n",
    "sentence_count_df.head(2)"
   ]
  },
  {
   "cell_type": "code",
   "execution_count": 8,
   "metadata": {
    "ExecuteTime": {
     "end_time": "2019-03-14T18:04:27.553737Z",
     "start_time": "2019-03-14T18:04:27.540922Z"
    }
   },
   "outputs": [],
   "source": [
    "sentence_sql = '''\n",
    "select cand_id, \"Disease_cid\" as doid_id, \"Compound_cid\" as drugbank_id, sentence_id from (\n",
    "    select compound_disease.id as \"cand_id\", compound_disease.\"Disease_id\",\n",
    "    compound_disease.\"Disease_cid\", compound_disease.\"Compound_cid\", candidate.split from compound_disease \n",
    "    inner join candidate on compound_disease.id=candidate.id \n",
    "    where split={}\n",
    ") as candidate_splits inner join span on candidate_splits.\"Disease_id\"=span.id;\n",
    "'''"
   ]
  },
  {
   "cell_type": "code",
   "execution_count": 9,
   "metadata": {
    "ExecuteTime": {
     "end_time": "2019-03-14T18:04:45.808355Z",
     "start_time": "2019-03-14T18:04:27.555292Z"
    }
   },
   "outputs": [
    {
     "data": {
      "text/html": [
       "<div>\n",
       "<style scoped>\n",
       "    .dataframe tbody tr th:only-of-type {\n",
       "        vertical-align: middle;\n",
       "    }\n",
       "\n",
       "    .dataframe tbody tr th {\n",
       "        vertical-align: top;\n",
       "    }\n",
       "\n",
       "    .dataframe thead th {\n",
       "        text-align: right;\n",
       "    }\n",
       "</style>\n",
       "<table border=\"1\" class=\"dataframe\">\n",
       "  <thead>\n",
       "    <tr style=\"text-align: right;\">\n",
       "      <th></th>\n",
       "      <th>cand_id</th>\n",
       "      <th>doid_id</th>\n",
       "      <th>drugbank_id</th>\n",
       "      <th>sentence_id</th>\n",
       "    </tr>\n",
       "  </thead>\n",
       "  <tbody>\n",
       "    <tr>\n",
       "      <th>0</th>\n",
       "      <td>65991</td>\n",
       "      <td>DOID:2841</td>\n",
       "      <td>DB00571</td>\n",
       "      <td>626450</td>\n",
       "    </tr>\n",
       "    <tr>\n",
       "      <th>1</th>\n",
       "      <td>65915</td>\n",
       "      <td>DOID:1094</td>\n",
       "      <td>DB00988</td>\n",
       "      <td>165024</td>\n",
       "    </tr>\n",
       "  </tbody>\n",
       "</table>\n",
       "</div>"
      ],
      "text/plain": [
       "   cand_id    doid_id drugbank_id  sentence_id\n",
       "0    65991  DOID:2841     DB00571       626450\n",
       "1    65915  DOID:1094     DB00988       165024"
      ]
     },
     "execution_count": 9,
     "metadata": {},
     "output_type": "execute_result"
    }
   ],
   "source": [
    "train_candidate_df = pd.read_sql(sentence_sql.format(9), database_str)\n",
    "train_candidate_df.head(2)"
   ]
  },
  {
   "cell_type": "code",
   "execution_count": 10,
   "metadata": {
    "ExecuteTime": {
     "end_time": "2019-03-14T18:04:52.287909Z",
     "start_time": "2019-03-14T18:04:45.810153Z"
    }
   },
   "outputs": [],
   "source": [
    "dev_candidate_df = pd.read_sql(sentence_sql.format(10), database_str)\n",
    "test_candidate_df = pd.read_sql(sentence_sql.format(11), database_str)"
   ]
  },
  {
   "cell_type": "code",
   "execution_count": 11,
   "metadata": {
    "ExecuteTime": {
     "end_time": "2019-03-14T18:04:52.304927Z",
     "start_time": "2019-03-14T18:04:52.289553Z"
    }
   },
   "outputs": [],
   "source": [
    "clean_up_df = lambda x: (\n",
    "        entity_stats_df\n",
    "        .merge(sentence_count_df, on=\"sentence_id\")\n",
    "        .merge(x, on=\"sentence_id\")\n",
    "        .rename(index=str, columns={\n",
    "            \"disease\":\"disease_mention_count\", \n",
    "            \"gene\":\"gene_mention_count\", \n",
    "            \"compound\":\"compound_mention_count\",\n",
    "            \"cand_id\": \"candidate_id\"\n",
    "        })\n",
    "    )"
   ]
  },
  {
   "cell_type": "code",
   "execution_count": 12,
   "metadata": {
    "ExecuteTime": {
     "end_time": "2019-03-14T18:05:11.840336Z",
     "start_time": "2019-03-14T18:04:52.308798Z"
    }
   },
   "outputs": [
    {
     "data": {
      "text/html": [
       "<div>\n",
       "<style scoped>\n",
       "    .dataframe tbody tr th:only-of-type {\n",
       "        vertical-align: middle;\n",
       "    }\n",
       "\n",
       "    .dataframe tbody tr th {\n",
       "        vertical-align: top;\n",
       "    }\n",
       "\n",
       "    .dataframe thead th {\n",
       "        text-align: right;\n",
       "    }\n",
       "</style>\n",
       "<table border=\"1\" class=\"dataframe\">\n",
       "  <thead>\n",
       "    <tr style=\"text-align: right;\">\n",
       "      <th></th>\n",
       "      <th>compound_mention_count</th>\n",
       "      <th>disease_mention_count</th>\n",
       "      <th>gene_mention_count</th>\n",
       "      <th>sentence_id</th>\n",
       "      <th>text</th>\n",
       "      <th>sen_length</th>\n",
       "      <th>candidate_id</th>\n",
       "      <th>doid_id</th>\n",
       "      <th>drugbank_id</th>\n",
       "    </tr>\n",
       "  </thead>\n",
       "  <tbody>\n",
       "    <tr>\n",
       "      <th>0</th>\n",
       "      <td>1.0</td>\n",
       "      <td>1.0</td>\n",
       "      <td>0.0</td>\n",
       "      <td>50852811</td>\n",
       "      <td>Successful management of left main coronary ar...</td>\n",
       "      <td>16</td>\n",
       "      <td>14970692</td>\n",
       "      <td>DOID:3393</td>\n",
       "      <td>DB01229</td>\n",
       "    </tr>\n",
       "    <tr>\n",
       "      <th>1</th>\n",
       "      <td>1.0</td>\n",
       "      <td>1.0</td>\n",
       "      <td>1.0</td>\n",
       "      <td>50854827</td>\n",
       "      <td>Advanced breast cancer patients received high ...</td>\n",
       "      <td>30</td>\n",
       "      <td>14962693</td>\n",
       "      <td>DOID:1612</td>\n",
       "      <td>DB01248</td>\n",
       "    </tr>\n",
       "  </tbody>\n",
       "</table>\n",
       "</div>"
      ],
      "text/plain": [
       "   compound_mention_count  disease_mention_count  gene_mention_count  \\\n",
       "0                     1.0                    1.0                 0.0   \n",
       "1                     1.0                    1.0                 1.0   \n",
       "\n",
       "   sentence_id                                               text  sen_length  \\\n",
       "0     50852811  Successful management of left main coronary ar...          16   \n",
       "1     50854827  Advanced breast cancer patients received high ...          30   \n",
       "\n",
       "   candidate_id    doid_id drugbank_id  \n",
       "0      14970692  DOID:3393     DB01229  \n",
       "1      14962693  DOID:1612     DB01248  "
      ]
     },
     "execution_count": 12,
     "metadata": {},
     "output_type": "execute_result"
    }
   ],
   "source": [
    "train_candidate_df = clean_up_df(train_candidate_df)\n",
    "train_candidate_df.head(2)"
   ]
  },
  {
   "cell_type": "code",
   "execution_count": 13,
   "metadata": {
    "ExecuteTime": {
     "end_time": "2019-03-14T18:05:48.750784Z",
     "start_time": "2019-03-14T18:05:11.843184Z"
    }
   },
   "outputs": [],
   "source": [
    "dev_candidate_df = clean_up_df(dev_candidate_df)\n",
    "test_candidate_df = clean_up_df(test_candidate_df)"
   ]
  },
  {
   "cell_type": "code",
   "execution_count": 14,
   "metadata": {
    "ExecuteTime": {
     "end_time": "2019-03-14T18:05:49.624036Z",
     "start_time": "2019-03-14T18:05:48.752417Z"
    }
   },
   "outputs": [
    {
     "data": {
      "text/html": [
       "<div>\n",
       "<style scoped>\n",
       "    .dataframe tbody tr th:only-of-type {\n",
       "        vertical-align: middle;\n",
       "    }\n",
       "\n",
       "    .dataframe tbody tr th {\n",
       "        vertical-align: top;\n",
       "    }\n",
       "\n",
       "    .dataframe thead th {\n",
       "        text-align: right;\n",
       "    }\n",
       "</style>\n",
       "<table border=\"1\" class=\"dataframe\">\n",
       "  <thead>\n",
       "    <tr style=\"text-align: right;\">\n",
       "      <th></th>\n",
       "      <th>doid_id</th>\n",
       "      <th>doid_name</th>\n",
       "      <th>resource</th>\n",
       "      <th>resource_id</th>\n",
       "      <th>drugbank_id</th>\n",
       "      <th>drug_name</th>\n",
       "      <th>disease</th>\n",
       "      <th>sources</th>\n",
       "      <th>hetionet</th>\n",
       "      <th>n_sentences</th>\n",
       "      <th>has_sentence</th>\n",
       "      <th>partition_rank</th>\n",
       "      <th>split</th>\n",
       "      <th>compound_mention_count</th>\n",
       "      <th>disease_mention_count</th>\n",
       "      <th>gene_mention_count</th>\n",
       "      <th>sentence_id</th>\n",
       "      <th>text</th>\n",
       "      <th>sen_length</th>\n",
       "      <th>candidate_id</th>\n",
       "    </tr>\n",
       "  </thead>\n",
       "  <tbody>\n",
       "    <tr>\n",
       "      <th>0</th>\n",
       "      <td>DOID:2531</td>\n",
       "      <td>hematologic cancer</td>\n",
       "      <td>CSP</td>\n",
       "      <td>2004-1600</td>\n",
       "      <td>DB00007</td>\n",
       "      <td>Leuprolide</td>\n",
       "      <td>NaN</td>\n",
       "      <td>NaN</td>\n",
       "      <td>0</td>\n",
       "      <td>6</td>\n",
       "      <td>1</td>\n",
       "      <td>0.58699</td>\n",
       "      <td>9</td>\n",
       "      <td>1.0</td>\n",
       "      <td>1.0</td>\n",
       "      <td>0.0</td>\n",
       "      <td>77006168</td>\n",
       "      <td>Follicular mucinosis and mycosis-fungoides-lik...</td>\n",
       "      <td>16</td>\n",
       "      <td>26220260</td>\n",
       "    </tr>\n",
       "    <tr>\n",
       "      <th>1</th>\n",
       "      <td>DOID:2531</td>\n",
       "      <td>hematologic cancer</td>\n",
       "      <td>CSP</td>\n",
       "      <td>2004-1600</td>\n",
       "      <td>DB00007</td>\n",
       "      <td>Leuprolide</td>\n",
       "      <td>NaN</td>\n",
       "      <td>NaN</td>\n",
       "      <td>0</td>\n",
       "      <td>6</td>\n",
       "      <td>1</td>\n",
       "      <td>0.58699</td>\n",
       "      <td>9</td>\n",
       "      <td>1.0</td>\n",
       "      <td>1.0</td>\n",
       "      <td>0.0</td>\n",
       "      <td>77006178</td>\n",
       "      <td>We report an unusual case of disseminated urti...</td>\n",
       "      <td>35</td>\n",
       "      <td>26208290</td>\n",
       "    </tr>\n",
       "  </tbody>\n",
       "</table>\n",
       "</div>"
      ],
      "text/plain": [
       "     doid_id           doid_name resource resource_id drugbank_id   drug_name  \\\n",
       "0  DOID:2531  hematologic cancer      CSP   2004-1600     DB00007  Leuprolide   \n",
       "1  DOID:2531  hematologic cancer      CSP   2004-1600     DB00007  Leuprolide   \n",
       "\n",
       "  disease sources  hetionet  n_sentences  has_sentence  partition_rank  split  \\\n",
       "0     NaN     NaN         0            6             1         0.58699      9   \n",
       "1     NaN     NaN         0            6             1         0.58699      9   \n",
       "\n",
       "   compound_mention_count  disease_mention_count  gene_mention_count  \\\n",
       "0                     1.0                    1.0                 0.0   \n",
       "1                     1.0                    1.0                 0.0   \n",
       "\n",
       "   sentence_id                                               text  sen_length  \\\n",
       "0     77006168  Follicular mucinosis and mycosis-fungoides-lik...          16   \n",
       "1     77006178  We report an unusual case of disseminated urti...          35   \n",
       "\n",
       "   candidate_id  \n",
       "0      26220260  \n",
       "1      26208290  "
      ]
     },
     "execution_count": 14,
     "metadata": {},
     "output_type": "execute_result"
    }
   ],
   "source": [
    "training_set_df = (\n",
    "    entity_level_df\n",
    "    .query(\"split==9&has_sentence==1\")\n",
    "    .merge(\n",
    "        train_candidate_df, \n",
    "        on=[\"drugbank_id\", \"doid_id\"]\n",
    "    )\n",
    ")\n",
    "training_set_df.head(2)"
   ]
  },
  {
   "cell_type": "code",
   "execution_count": 15,
   "metadata": {
    "ExecuteTime": {
     "end_time": "2019-03-14T18:05:49.869541Z",
     "start_time": "2019-03-14T18:05:49.626056Z"
    }
   },
   "outputs": [],
   "source": [
    "dev_set_df = (\n",
    "    entity_level_df\n",
    "    .query(\"split==10&has_sentence==1\")\n",
    "    .merge(\n",
    "        dev_candidate_df, \n",
    "        on=[\"drugbank_id\", \"doid_id\"]\n",
    "    )\n",
    ")\n",
    "\n",
    "test_set_df = (\n",
    "    entity_level_df\n",
    "    .query(\"split==11&has_sentence==1\")\n",
    "    .merge(\n",
    "        test_candidate_df, \n",
    "        on=[\"drugbank_id\", \"doid_id\"]\n",
    "    )\n",
    ")"
   ]
  },
  {
   "cell_type": "code",
   "execution_count": 16,
   "metadata": {
    "ExecuteTime": {
     "end_time": "2019-03-14T18:05:51.830369Z",
     "start_time": "2019-03-14T18:05:49.871164Z"
    }
   },
   "outputs": [],
   "source": [
    "total_candidates_df = (\n",
    "    training_set_df\n",
    "    .append(dev_set_df)\n",
    "    .append(test_set_df)\n",
    "    .drop_duplicates(\"candidate_id\")\n",
    ")"
   ]
  },
  {
   "cell_type": "code",
   "execution_count": 17,
   "metadata": {
    "ExecuteTime": {
     "end_time": "2019-03-14T18:06:43.009862Z",
     "start_time": "2019-03-14T18:05:51.831841Z"
    }
   },
   "outputs": [
    {
     "data": {
      "application/vnd.jupyter.widget-view+json": {
       "model_id": "bff36c9dfa54456fb46a0288a4cba3c3",
       "version_major": 2,
       "version_minor": 0
      },
      "text/html": [
       "<p>Failed to display Jupyter Widget of type <code>HBox</code>.</p>\n",
       "<p>\n",
       "  If you're reading this message in the Jupyter Notebook or JupyterLab Notebook, it may mean\n",
       "  that the widgets JavaScript is still loading. If this message persists, it\n",
       "  likely means that the widgets JavaScript library is either not installed or\n",
       "  not enabled. See the <a href=\"https://ipywidgets.readthedocs.io/en/stable/user_install.html\">Jupyter\n",
       "  Widgets Documentation</a> for setup instructions.\n",
       "</p>\n",
       "<p>\n",
       "  If you're reading this message in another frontend (for example, a static\n",
       "  rendering on GitHub or <a href=\"https://nbviewer.jupyter.org/\">NBViewer</a>),\n",
       "  it may mean that your frontend doesn't currently support widgets.\n",
       "</p>\n"
      ],
      "text/plain": [
       "HBox(children=(IntProgress(value=0, max=10000), HTML(value='')))"
      ]
     },
     "metadata": {},
     "output_type": "display_data"
    },
    {
     "name": "stdout",
     "output_type": "stream",
     "text": [
      "\n"
     ]
    },
    {
     "data": {
      "text/html": [
       "<div>\n",
       "<style scoped>\n",
       "    .dataframe tbody tr th:only-of-type {\n",
       "        vertical-align: middle;\n",
       "    }\n",
       "\n",
       "    .dataframe tbody tr th {\n",
       "        vertical-align: top;\n",
       "    }\n",
       "\n",
       "    .dataframe thead th {\n",
       "        text-align: right;\n",
       "    }\n",
       "</style>\n",
       "<table border=\"1\" class=\"dataframe\">\n",
       "  <thead>\n",
       "    <tr style=\"text-align: right;\">\n",
       "      <th></th>\n",
       "      <th>candidate_id</th>\n",
       "      <th>compound</th>\n",
       "      <th>disease</th>\n",
       "      <th>drugbank_id</th>\n",
       "      <th>doid_id</th>\n",
       "      <th>sentence</th>\n",
       "    </tr>\n",
       "  </thead>\n",
       "  <tbody>\n",
       "    <tr>\n",
       "      <th>0</th>\n",
       "      <td>65887</td>\n",
       "      <td>sulpiride</td>\n",
       "      <td>masked depression</td>\n",
       "      <td>DB00391</td>\n",
       "      <td>DOID:1595</td>\n",
       "      <td>since headache can often represent the warning...</td>\n",
       "    </tr>\n",
       "    <tr>\n",
       "      <th>1</th>\n",
       "      <td>66144</td>\n",
       "      <td>sulphasalazine</td>\n",
       "      <td>ulcerative colitis</td>\n",
       "      <td>DB00795</td>\n",
       "      <td>DOID:8577</td>\n",
       "      <td>patients with ~~[[2 ulcerative colitis 2]]~~ i...</td>\n",
       "    </tr>\n",
       "  </tbody>\n",
       "</table>\n",
       "</div>"
      ],
      "text/plain": [
       "   candidate_id        compound             disease drugbank_id    doid_id  \\\n",
       "0         65887       sulpiride   masked depression     DB00391  DOID:1595   \n",
       "1         66144  sulphasalazine  ulcerative colitis     DB00795  DOID:8577   \n",
       "\n",
       "                                            sentence  \n",
       "0  since headache can often represent the warning...  \n",
       "1  patients with ~~[[2 ulcerative colitis 2]]~~ i...  "
      ]
     },
     "execution_count": 17,
     "metadata": {},
     "output_type": "execute_result"
    }
   ],
   "source": [
    "dev_candidates = (\n",
    "    session\n",
    "    .query(CompoundDisease)\n",
    "    .filter(\n",
    "        CompoundDisease.id.in_(\n",
    "            total_candidates_df\n",
    "            .query(\"split==10\")\n",
    "            .sample(10000, random_state=100)\n",
    "            .candidate_id\n",
    "            .tolist()\n",
    "        )\n",
    "    )\n",
    "    .all()\n",
    ")\n",
    "dev_df = make_sentence_df(dev_candidates)\n",
    "dev_df.head(2)"
   ]
  },
  {
   "cell_type": "code",
   "execution_count": 18,
   "metadata": {
    "ExecuteTime": {
     "end_time": "2019-03-14T18:07:28.980768Z",
     "start_time": "2019-03-14T18:06:43.011465Z"
    }
   },
   "outputs": [
    {
     "data": {
      "application/vnd.jupyter.widget-view+json": {
       "model_id": "d838f76d02674709ac690b34580ae7cb",
       "version_major": 2,
       "version_minor": 0
      },
      "text/html": [
       "<p>Failed to display Jupyter Widget of type <code>HBox</code>.</p>\n",
       "<p>\n",
       "  If you're reading this message in the Jupyter Notebook or JupyterLab Notebook, it may mean\n",
       "  that the widgets JavaScript is still loading. If this message persists, it\n",
       "  likely means that the widgets JavaScript library is either not installed or\n",
       "  not enabled. See the <a href=\"https://ipywidgets.readthedocs.io/en/stable/user_install.html\">Jupyter\n",
       "  Widgets Documentation</a> for setup instructions.\n",
       "</p>\n",
       "<p>\n",
       "  If you're reading this message in another frontend (for example, a static\n",
       "  rendering on GitHub or <a href=\"https://nbviewer.jupyter.org/\">NBViewer</a>),\n",
       "  it may mean that your frontend doesn't currently support widgets.\n",
       "</p>\n"
      ],
      "text/plain": [
       "HBox(children=(IntProgress(value=0, max=10000), HTML(value='')))"
      ]
     },
     "metadata": {},
     "output_type": "display_data"
    },
    {
     "name": "stdout",
     "output_type": "stream",
     "text": [
      "\n"
     ]
    },
    {
     "data": {
      "text/html": [
       "<div>\n",
       "<style scoped>\n",
       "    .dataframe tbody tr th:only-of-type {\n",
       "        vertical-align: middle;\n",
       "    }\n",
       "\n",
       "    .dataframe tbody tr th {\n",
       "        vertical-align: top;\n",
       "    }\n",
       "\n",
       "    .dataframe thead th {\n",
       "        text-align: right;\n",
       "    }\n",
       "</style>\n",
       "<table border=\"1\" class=\"dataframe\">\n",
       "  <thead>\n",
       "    <tr style=\"text-align: right;\">\n",
       "      <th></th>\n",
       "      <th>candidate_id</th>\n",
       "      <th>compound</th>\n",
       "      <th>disease</th>\n",
       "      <th>drugbank_id</th>\n",
       "      <th>doid_id</th>\n",
       "      <th>sentence</th>\n",
       "    </tr>\n",
       "  </thead>\n",
       "  <tbody>\n",
       "    <tr>\n",
       "      <th>0</th>\n",
       "      <td>65876</td>\n",
       "      <td>sucrose</td>\n",
       "      <td>mouse hepatitis virus</td>\n",
       "      <td>DB02772</td>\n",
       "      <td>DOID:2043</td>\n",
       "      <td>the rna of ~~[[2 mouse hepatitis virus 2]]~~ ,...</td>\n",
       "    </tr>\n",
       "    <tr>\n",
       "      <th>1</th>\n",
       "      <td>66250</td>\n",
       "      <td>phenylalanine</td>\n",
       "      <td>hepatoma</td>\n",
       "      <td>DB02556</td>\n",
       "      <td>DOID:3571</td>\n",
       "      <td>epigenetic activation of ~~[[1 phenylalanine 1...</td>\n",
       "    </tr>\n",
       "  </tbody>\n",
       "</table>\n",
       "</div>"
      ],
      "text/plain": [
       "   candidate_id       compound                disease drugbank_id    doid_id  \\\n",
       "0         65876        sucrose  mouse hepatitis virus     DB02772  DOID:2043   \n",
       "1         66250  phenylalanine               hepatoma     DB02556  DOID:3571   \n",
       "\n",
       "                                            sentence  \n",
       "0  the rna of ~~[[2 mouse hepatitis virus 2]]~~ ,...  \n",
       "1  epigenetic activation of ~~[[1 phenylalanine 1...  "
      ]
     },
     "execution_count": 18,
     "metadata": {},
     "output_type": "execute_result"
    }
   ],
   "source": [
    "test_candidates = (\n",
    "    session\n",
    "    .query(CompoundDisease)\n",
    "    .filter(\n",
    "        CompoundDisease.id.in_(\n",
    "            total_candidates_df\n",
    "            .query(\"split==11\")\n",
    "            # Black list ethanol, alcohol and alcohold dependence \n",
    "            # Samples too many sentences with the above entities\n",
    "            .query(\"drugbank_id!='DB00898'&doid_id!='DOID:0050741'\")\n",
    "            .sample(10000, random_state=120)\n",
    "            .candidate_id\n",
    "            .tolist()\n",
    "        )\n",
    "    )\n",
    "    .all()\n",
    ")\n",
    "test_df = make_sentence_df(test_candidates)\n",
    "test_df.head(2)"
   ]
  },
  {
   "cell_type": "code",
   "execution_count": 44,
   "metadata": {
    "ExecuteTime": {
     "end_time": "2019-03-06T20:01:22.113586Z",
     "start_time": "2019-03-06T20:01:18.557679Z"
    }
   },
   "outputs": [],
   "source": [
    "write_candidates_to_excel(dev_df, \"data/sentence_labels_dev.xlsx\")\n",
    "write_candidates_to_excel(test_df, \"data/sentence_labels_test.xlsx\")"
   ]
  },
  {
   "cell_type": "markdown",
   "metadata": {},
   "source": [
    "## Distribution of Sentence Length"
   ]
  },
  {
   "cell_type": "code",
   "execution_count": 19,
   "metadata": {
    "ExecuteTime": {
     "end_time": "2019-03-14T18:07:29.395354Z",
     "start_time": "2019-03-14T18:07:28.982988Z"
    }
   },
   "outputs": [
    {
     "name": "stderr",
     "output_type": "stream",
     "text": [
      "/home/danich1/anaconda2/envs/snorkeling/lib/python3.6/site-packages/scipy/stats/stats.py:1713: FutureWarning: Using a non-tuple sequence for multidimensional indexing is deprecated; use `arr[tuple(seq)]` instead of `arr[seq]`. In the future this will be interpreted as an array index, `arr[np.array(seq)]`, which will result either in an error or a different result.\n",
      "  return np.add.reduce(sorted[indexer] * weights, axis=axis) / sumval\n"
     ]
    },
    {
     "data": {
      "text/plain": [
       "<matplotlib.axes._subplots.AxesSubplot at 0x7f1e41e61208>"
      ]
     },
     "execution_count": 19,
     "metadata": {},
     "output_type": "execute_result"
    },
    {
     "data": {
      "image/png": "[encoded data removed]",
      "text/plain": [
       "<matplotlib.figure.Figure at 0x7f1eac87b0f0>"
      ]
     },
     "metadata": {},
     "output_type": "display_data"
    }
   ],
   "source": [
    "sns.distplot(total_candidates_df[\"sen_length\"], rug=False)"
   ]
  },
  {
   "cell_type": "code",
   "execution_count": 20,
   "metadata": {
    "ExecuteTime": {
     "end_time": "2019-03-14T18:07:29.484386Z",
     "start_time": "2019-03-14T18:07:29.397409Z"
    }
   },
   "outputs": [
    {
     "data": {
      "text/plain": [
       "count    1142991\n",
       "mean          36\n",
       "std           23\n",
       "min            3\n",
       "25%           22\n",
       "50%           32\n",
       "75%           45\n",
       "max          834\n",
       "Name: sen_length, dtype: int64"
      ]
     },
     "execution_count": 20,
     "metadata": {},
     "output_type": "execute_result"
    }
   ],
   "source": [
    "total_candidates_df[\"sen_length\"].describe().astype(int)"
   ]
  },
  {
   "cell_type": "markdown",
   "metadata": {},
   "source": [
    "Something seems fishy about this distribution. The number of words (tokens) for a given sentence is in the hundreds range. Intuitively, that doesn't make sense, since the average number of words for a given sentence is 36. Possible reason for this abnormality is a parsing error, so lets take a look at this 834 word sentence."
   ]
  },
  {
   "cell_type": "code",
   "execution_count": 21,
   "metadata": {
    "ExecuteTime": {
     "end_time": "2019-03-14T18:07:29.507459Z",
     "start_time": "2019-03-14T18:07:29.486150Z"
    }
   },
   "outputs": [
    {
     "data": {
      "text/plain": [
       "\"This issue focuses on the following selection of drugs: Abiraterone acetate, acyline, adalimumab, adenosine triphosphate, AEE-788, AIDSVAX gp120 B/B, AK-602, alefacept, alemtuzumab, alendronic acid sodium salt, alicaforsen sodium, alprazolam, amdoxovir, AMG-162, aminolevulinic acid hydrochloride, aminolevulinic acid methyl ester, aminophylline hydrate, anakinra, anecortave acetate, anti-CTLA-4 MAb, APC-8015, aripiprazole, aspirin, atazanavir sulfate, atomoxetine hydrochloride, atorvastatin calcium, atrasentan, AVE-5883, AZD-2171; Betamethasone dipropionate, bevacizumab, bimatoprost, biphasic human insulin (prb), bortezomib, BR-A-657, BRL-55730, budesonide, busulfan; Calcipotriol, calcipotriol/betamethasone dipropionate, calcium folinate, capecitabine, capravirine, carmustine, caspofungin acetate, cefdinir, certolizumab pegol, CG-53135, chlorambucil, ciclesonide, ciclosporin, cisplatin, clofarabine, clopidogrel hydrogensulfate, clozapine, co-trimoxazole, CP-122721, creatine, CY-2301, cyclophosphamide, cypher, cytarabine, cytolin; D0401, darbepoetin alfa, darifenacin hydrobromide, DASB, desipramine hydrochloride, desloratadine, desvenlafaxine succinate, dexamethasone, didanosine, diquafosol tetrasodium, docetaxel, doxorubicin hydrochloride, drotrecogin alfa (activated), duloxetine hydrochloride, dutasteride; Ecallantide, efalizumab, efavirenz, eletriptan, emtricitabine, enfuvirtide, enoxaparin sodium, estramustine phosphate sodium, etanercept, ethinylestradiol, etonogestrel, etonogestrel/ethinylestradiol, etoposide, exenatide; Famciclovir, fampridine, febuxostat, filgrastim, fludarabine phosphate, fluocinolone acetonide, fluorouracil, fluticasone propionate, fluvastatin sodium, fondaparinux sodium; Gaboxadol, gamma-hydroxybutyrate sodium, gefitinib, gelclair, gemcitabine, gemfibrozil, glibenclamide, glyminox; Haloperidol, heparin sodium, HPV 16/HPV 18 vaccine, human insulin, human insulin; Icatibant, imatinib mesylate, indium 111 (111In) ibritumomab tiuxetan, infliximab, INKP-100, iodine (I131) tositumomab, IoGen, ipratropium bromide, ixabepilone; L-870810, lamivudine, lapatinib, laquinimod, latanoprost, levonorgestrel, licochalcone a, liposomal doxorubicin, lopinavir, lopinavir/ritonavir, lorazepam, lovastatin; Maraviroc, maribavir, matuzumab, MDL-100907, melphalan, methotrexate, methylprednisolone, mitomycin, mitoxantrone hydrochloride, MK-0431, MN-001, MRKAd5 HIV-1 gag/pol/nef, MRKAd5gag, MVA.HIVA, MVA-BN Nef, MVA-Muc1-IL-2, mycophenolate mofetil; Nelfinavir mesilate, nesiritide, NSC-330507; Olanzapine, olmesartan medoxomil, omalizumab, oral insulin, osanetant; PA-457, paclitaxel, paroxetine, paroxetine hydrochloride, PCK-3145, PEG-filgrastim, peginterferon alfa-2a, peginterferon alfa-2b, perillyl alcohol, pexelizumab, pimecrolimus, pitavastatin calcium, porfiromycin, prasterone, prasugrel, pravastatin sodium, prednisone, pregabalin, prinomastat, PRO-2000, propofol, prostate cancer vaccine; Rasagiline mesilate, rhBMP-2/ACS, rhBMP-2/BCP, rhC1, ribavirin, rilpivirine, ritonavir, rituximab, Ro-26-9228, rosuvastatin calcium, rosuvastatin sodium, rubitecan; Selodenoson, simvastatin, sirolimus, sitaxsentan sodium, sorafenib, SS(dsFv)-PE38, St. John's Wort extract, stavudine; Tacrolimus, tadalafil, tafenoquine succinate, talaglumetad, tanomastat, taxus, tegaserod maleate, telithromycin, tempol, tenofovir, tenofovir disoproxil fumarate, testosterone enanthate, TH-9507, thalidomide, tigecycline, timolol maleate, tiotropium bromide, tipifarnib, torcetrapib, trabectedin, travoprost, travoprost/timolol, treprostinil sodium; Valdecoxib, vardenafil hydrochloride hydrate, varenicline, VEGF-2 gene therapy, venlafaxine hydrochloride, vildagliptin, vincristine sulfate, voriconazole, VRX-496, VX-385; Warfarin sodium; Ximelagatran; Yttrium 90 (90Y) ibritumomab tiuxetan; Zanolimumab, zidovudine.\""
      ]
     },
     "execution_count": 21,
     "metadata": {},
     "output_type": "execute_result"
    }
   ],
   "source": [
    "total_candidates_df.query(\"sen_length==834\").iloc[0][\"text\"]"
   ]
  },
  {
   "cell_type": "markdown",
   "metadata": {},
   "source": [
    "The above sentence shows that a long list of drugs that a issue will cover. This isn't helpful in our case, because we want to look at sentences that contain compounds and diseases; therefore, we should remove sentences of this nature by defining a cutoff score of 83 or less words."
   ]
  },
  {
   "cell_type": "code",
   "execution_count": 22,
   "metadata": {
    "ExecuteTime": {
     "end_time": "2019-03-14T18:07:30.084908Z",
     "start_time": "2019-03-14T18:07:29.509037Z"
    }
   },
   "outputs": [
    {
     "name": "stderr",
     "output_type": "stream",
     "text": [
      "/home/danich1/anaconda2/envs/snorkeling/lib/python3.6/site-packages/scipy/stats/stats.py:1713: FutureWarning: Using a non-tuple sequence for multidimensional indexing is deprecated; use `arr[tuple(seq)]` instead of `arr[seq]`. In the future this will be interpreted as an array index, `arr[np.array(seq)]`, which will result either in an error or a different result.\n",
      "  return np.add.reduce(sorted[indexer] * weights, axis=axis) / sumval\n"
     ]
    },
    {
     "data": {
      "text/plain": [
       "<matplotlib.axes._subplots.AxesSubplot at 0x7f1e3fb51cf8>"
      ]
     },
     "execution_count": 22,
     "metadata": {},
     "output_type": "execute_result"
    },
    {
     "data": {
      "image/png": "[encoded data removed]",
      "text/plain": [
       "<matplotlib.figure.Figure at 0x7f1e4074e518>"
      ]
     },
     "metadata": {},
     "output_type": "display_data"
    }
   ],
   "source": [
    "sns.distplot(total_candidates_df.query(\"sen_length < 83+1\")[\"sen_length\"], rug=False)"
   ]
  },
  {
   "cell_type": "code",
   "execution_count": 23,
   "metadata": {
    "ExecuteTime": {
     "end_time": "2019-03-14T18:07:30.333616Z",
     "start_time": "2019-03-14T18:07:30.086465Z"
    }
   },
   "outputs": [
    {
     "data": {
      "text/plain": [
       "count    1103140\n",
       "mean          33\n",
       "std           16\n",
       "min            3\n",
       "25%           21\n",
       "50%           31\n",
       "75%           43\n",
       "max           83\n",
       "Name: sen_length, dtype: int64"
      ]
     },
     "execution_count": 23,
     "metadata": {},
     "output_type": "execute_result"
    }
   ],
   "source": [
    "total_candidates_df.query(\"sen_length < 83+1\")[\"sen_length\"].describe().astype(int)"
   ]
  },
  {
   "cell_type": "markdown",
   "metadata": {},
   "source": [
    "This distribution looks a bit more reasonable compared to the above distribution. After filtering out the outliers, we still have a pleathora of sentences on the order of 1.1 million."
   ]
  },
  {
   "cell_type": "code",
   "execution_count": 24,
   "metadata": {
    "ExecuteTime": {
     "end_time": "2019-03-14T18:07:32.944432Z",
     "start_time": "2019-03-14T18:07:30.335207Z"
    }
   },
   "outputs": [
    {
     "name": "stdout",
     "output_type": "stream",
     "text": [
      "Total number of unique candidates before filter: 23446\n",
      "Total number of unique candidates after filter: 22937\n",
      "Total number of unique candidates being thrown out: 509\n"
     ]
    }
   ],
   "source": [
    "before_filter = set([tuple(line) for line in total_candidates_df[[\"drugbank_id\", \"doid_id\"]].values])\n",
    "after_filter = set([tuple(line) for line in total_candidates_df.query(\"sen_length < 83+1\")[[\"drugbank_id\", \"doid_id\"]].values])\n",
    "print(\n",
    "    \"Total number of unique candidates before filter: {}\".format(\n",
    "        total_candidates_df[[\"drugbank_id\", \"doid_id\"]].drop_duplicates().shape[0]\n",
    "    )\n",
    ")\n",
    "print(\n",
    "    \"Total number of unique candidates after filter: {}\".format(\n",
    "        total_candidates_df.query(\"sen_length < 83+1\")[[\"drugbank_id\", \"doid_id\"]].drop_duplicates().shape[0]\n",
    "    )\n",
    ")\n",
    "print(\"Total number of unique candidates being thrown out: {}\".format(len(before_filter.difference(after_filter))))"
   ]
  },
  {
   "cell_type": "code",
   "execution_count": 25,
   "metadata": {
    "ExecuteTime": {
     "end_time": "2019-03-14T18:07:33.095200Z",
     "start_time": "2019-03-14T18:07:32.947193Z"
    }
   },
   "outputs": [],
   "source": [
    "filtered_total_candidates_df = total_candidates_df.query(\"sen_length < 83+1\")"
   ]
  },
  {
   "cell_type": "code",
   "execution_count": 26,
   "metadata": {
    "ExecuteTime": {
     "end_time": "2019-03-14T18:07:33.791091Z",
     "start_time": "2019-03-14T18:07:33.096933Z"
    }
   },
   "outputs": [
    {
     "data": {
      "text/plain": [
       "Text(0.5,1,'# of Unique Sentences in Entire Dataset with Co-Mention Pair in/not in hetionet')"
      ]
     },
     "execution_count": 26,
     "metadata": {},
     "output_type": "execute_result"
    },
    {
     "data": {
      "image/png": "[encoded data removed]",
      "text/plain": [
       "<matplotlib.figure.Figure at 0x7f1e439ebd30>"
      ]
     },
     "metadata": {},
     "output_type": "display_data"
    }
   ],
   "source": [
    "ids =filtered_total_candidates_df.query(\"hetionet==1\").sentence_id.values\n",
    "venn2(\n",
    "    [\n",
    "        set(filtered_total_candidates_df.query(\"hetionet==0&sentence_id not in @ids\").sentence_id),\n",
    "        set(filtered_total_candidates_df.query(\"hetionet==1\").sentence_id)\n",
    "    ], set_labels=[\"Not In Hetionet\", \"In Hetionet\"])\n",
    "plt.title(\"# of Unique Sentences in Entire Dataset with Co-Mention Pair in/not in hetionet\")"
   ]
  },
  {
   "cell_type": "markdown",
   "metadata": {},
   "source": [
    "# Co-occuring Mentions Sentence Stats"
   ]
  },
  {
   "cell_type": "markdown",
   "metadata": {},
   "source": [
    "This next block contains a visualization about the number of mentions a sentence may contain."
   ]
  },
  {
   "cell_type": "code",
   "execution_count": 27,
   "metadata": {
    "ExecuteTime": {
     "end_time": "2019-03-11T18:04:43.426799Z",
     "start_time": "2019-03-11T18:04:43.037680Z"
    }
   },
   "outputs": [
    {
     "data": {
      "text/plain": [
       "Text(0.5,1,'Mention Distribution of Entire Dataset')"
      ]
     },
     "execution_count": 27,
     "metadata": {},
     "output_type": "execute_result"
    },
    {
     "data": {
      "image/png": "[encoded data removed]",
      "text/plain": [
       "<matplotlib.figure.Figure at 0x7f38be50c550>"
      ]
     },
     "metadata": {},
     "output_type": "display_data"
    }
   ],
   "source": [
    "ax = sns.scatterplot(\n",
    "    x=\"disease_mention_count\", \n",
    "    y=\"compound_mention_count\", \n",
    "    data=\n",
    "    (\n",
    "        filtered_total_candidates_df\n",
    "        .drop_duplicates(\"sentence_id\")\n",
    "        .groupby([\"disease_mention_count\", \"compound_mention_count\"]).size()\n",
    "        .reset_index()\n",
    "        .rename(index=str, columns={0:\"size\"})\n",
    "        .assign(natural_log_size= lambda x: pd.np.log(x['size']))\n",
    "    ),\n",
    "    hue=\"natural_log_size\",\n",
    "    palette='viridis'\n",
    ")\n",
    "ax.set_title(\"Mention Distribution of Entire Dataset\")"
   ]
  },
  {
   "cell_type": "markdown",
   "metadata": {},
   "source": [
    "In the above graph every point is group of possible mention counts a sentence could contain. For example one group has sentences containing one compound mention and one disease mention (indicated in the bottom left in yellow). Overall this graph is acceptable in terms of the spread between the number of mentions; however, when getting ready to train the deep learning models one has to make sure the algorithm can detect which co-mention pair a candidate is referring to."
   ]
  },
  {
   "cell_type": "markdown",
   "metadata": {},
   "source": [
    "# Subsampled Set Distributions"
   ]
  },
  {
   "cell_type": "markdown",
   "metadata": {},
   "source": [
    "Take a look at the stratification for each train/dev/test set."
   ]
  },
  {
   "cell_type": "markdown",
   "metadata": {},
   "source": [
    "## Training Set"
   ]
  },
  {
   "cell_type": "markdown",
   "metadata": {},
   "source": [
    "Here the training set covers majority of the characterisitics are the entire dataset. This isn't surprising because a stratified sort was used to allocate candidates."
   ]
  },
  {
   "cell_type": "code",
   "execution_count": 28,
   "metadata": {
    "ExecuteTime": {
     "end_time": "2019-03-11T18:04:43.928820Z",
     "start_time": "2019-03-11T18:04:43.428202Z"
    }
   },
   "outputs": [
    {
     "data": {
      "text/plain": [
       "Text(0.5,1,'Distribution of Sentences in Entire Training Set')"
      ]
     },
     "execution_count": 28,
     "metadata": {},
     "output_type": "execute_result"
    },
    {
     "data": {
      "image/png": "[encoded data removed]",
      "text/plain": [
       "<matplotlib.figure.Figure at 0x7f38c3217c18>"
      ]
     },
     "metadata": {},
     "output_type": "display_data"
    }
   ],
   "source": [
    "ax = sns.scatterplot(\n",
    "    x=\"disease_mention_count\", \n",
    "    y=\"compound_mention_count\", \n",
    "    data=\n",
    "    (\n",
    "        filtered_total_candidates_df\n",
    "        .query(\"split==9\")\n",
    "        .drop_duplicates(\"sentence_id\")\n",
    "        .groupby([\"disease_mention_count\", \"compound_mention_count\"]).size()\n",
    "        .reset_index()\n",
    "        .rename(index=str, columns={0:\"size\"})\n",
    "        .assign(natural_log_size= lambda x: pd.np.log(x['size']))\n",
    "    ),\n",
    "    hue=\"natural_log_size\",\n",
    "    palette='viridis'\n",
    ")\n",
    "ax.set_title(\"Distribution of Sentences in Entire Training Set\")"
   ]
  },
  {
   "cell_type": "markdown",
   "metadata": {},
   "source": [
    "## Dev Set"
   ]
  },
  {
   "cell_type": "markdown",
   "metadata": {},
   "source": [
    "This block contains information on the development set (aka tuning set)."
   ]
  },
  {
   "cell_type": "code",
   "execution_count": 29,
   "metadata": {
    "ExecuteTime": {
     "end_time": "2019-03-11T18:04:44.147294Z",
     "start_time": "2019-03-11T18:04:43.930324Z"
    }
   },
   "outputs": [
    {
     "data": {
      "text/plain": [
       "Text(0.5,1,'Sentence Distribution of Total Dev Dataset')"
      ]
     },
     "execution_count": 29,
     "metadata": {},
     "output_type": "execute_result"
    },
    {
     "data": {
      "image/png": "[encoded data removed]",
      "text/plain": [
       "<matplotlib.figure.Figure at 0x7f38be2748d0>"
      ]
     },
     "metadata": {},
     "output_type": "display_data"
    }
   ],
   "source": [
    "ax = sns.scatterplot(\n",
    "    x=\"disease_mention_count\", \n",
    "    y=\"compound_mention_count\", \n",
    "    data=\n",
    "    (\n",
    "        filtered_total_candidates_df\n",
    "        .query(\"split==10\")\n",
    "        .drop_duplicates(\"sentence_id\")\n",
    "        .groupby([\"disease_mention_count\", \"compound_mention_count\"]).size()\n",
    "        .reset_index()\n",
    "        .rename(index=str, columns={0:\"size\"})\n",
    "        .assign(natural_log_size= lambda x: pd.np.log(x['size']))\n",
    "    ),\n",
    "    hue=\"natural_log_size\",\n",
    "    palette='viridis'\n",
    ")\n",
    "ax.set_title(\"Sentence Distribution of Total Dev Dataset\")"
   ]
  },
  {
   "cell_type": "code",
   "execution_count": 30,
   "metadata": {
    "ExecuteTime": {
     "end_time": "2019-03-11T18:04:44.372753Z",
     "start_time": "2019-03-11T18:04:44.148691Z"
    }
   },
   "outputs": [
    {
     "name": "stderr",
     "output_type": "stream",
     "text": [
      "/home/danich1/anaconda2/envs/snorkeling/lib/python3.6/site-packages/scipy/stats/stats.py:1713: FutureWarning: Using a non-tuple sequence for multidimensional indexing is deprecated; use `arr[tuple(seq)]` instead of `arr[seq]`. In the future this will be interpreted as an array index, `arr[np.array(seq)]`, which will result either in an error or a different result.\n",
      "  return np.add.reduce(sorted[indexer] * weights, axis=axis) / sumval\n"
     ]
    },
    {
     "data": {
      "text/plain": [
       "<matplotlib.axes._subplots.AxesSubplot at 0x7f38bfe1dda0>"
      ]
     },
     "execution_count": 30,
     "metadata": {},
     "output_type": "execute_result"
    },
    {
     "data": {
      "image/png": "[encoded data removed]",
      "text/plain": [
       "<matplotlib.figure.Figure at 0x7f38c32265f8>"
      ]
     },
     "metadata": {},
     "output_type": "display_data"
    }
   ],
   "source": [
    "sns.distplot(filtered_total_candidates_df.query(\"split==10\")[\"sen_length\"], rug=False)"
   ]
  },
  {
   "cell_type": "markdown",
   "metadata": {},
   "source": [
    "## Test Set"
   ]
  },
  {
   "cell_type": "markdown",
   "metadata": {},
   "source": [
    "This block contains information on the test set."
   ]
  },
  {
   "cell_type": "code",
   "execution_count": 31,
   "metadata": {
    "ExecuteTime": {
     "end_time": "2019-03-11T18:04:44.588779Z",
     "start_time": "2019-03-11T18:04:44.375920Z"
    }
   },
   "outputs": [
    {
     "data": {
      "text/plain": [
       "Text(0.5,1,'Sentence Distribution of Total Test Dataset')"
      ]
     },
     "execution_count": 31,
     "metadata": {},
     "output_type": "execute_result"
    },
    {
     "data": {
      "image/png": "[encoded data removed]",
      "text/plain": [
       "<matplotlib.figure.Figure at 0x7f38bd5f9940>"
      ]
     },
     "metadata": {},
     "output_type": "display_data"
    }
   ],
   "source": [
    "ax = sns.scatterplot(\n",
    "    x=\"disease_mention_count\", \n",
    "    y=\"compound_mention_count\", \n",
    "    data=\n",
    "    (\n",
    "        filtered_total_candidates_df\n",
    "        .query(\"split==11\")\n",
    "        .drop_duplicates(\"sentence_id\")\n",
    "        .groupby([\"disease_mention_count\", \"compound_mention_count\"]).size()\n",
    "        .reset_index()\n",
    "        .rename(index=str, columns={0:\"size\"})\n",
    "        .assign(natural_log_size= lambda x: pd.np.log(x['size']))\n",
    "    ),\n",
    "    hue=\"natural_log_size\",\n",
    "    palette='viridis'\n",
    ")\n",
    "ax.set_title(\"Sentence Distribution of Total Test Dataset\")"
   ]
  },
  {
   "cell_type": "code",
   "execution_count": 32,
   "metadata": {
    "ExecuteTime": {
     "end_time": "2019-03-11T18:04:44.804430Z",
     "start_time": "2019-03-11T18:04:44.590276Z"
    }
   },
   "outputs": [
    {
     "name": "stderr",
     "output_type": "stream",
     "text": [
      "/home/danich1/anaconda2/envs/snorkeling/lib/python3.6/site-packages/scipy/stats/stats.py:1713: FutureWarning: Using a non-tuple sequence for multidimensional indexing is deprecated; use `arr[tuple(seq)]` instead of `arr[seq]`. In the future this will be interpreted as an array index, `arr[np.array(seq)]`, which will result either in an error or a different result.\n",
      "  return np.add.reduce(sorted[indexer] * weights, axis=axis) / sumval\n"
     ]
    },
    {
     "data": {
      "text/plain": [
       "<matplotlib.axes._subplots.AxesSubplot at 0x7f38c08c44a8>"
      ]
     },
     "execution_count": 32,
     "metadata": {},
     "output_type": "execute_result"
    },
    {
     "data": {
      "image/png": "[encoded data removed]",
      "text/plain": [
       "<matplotlib.figure.Figure at 0x7f38bde62160>"
      ]
     },
     "metadata": {},
     "output_type": "display_data"
    }
   ],
   "source": [
    "sns.distplot(filtered_total_candidates_df.query(\"split==11\")[\"sen_length\"], rug=False)"
   ]
  },
  {
   "cell_type": "markdown",
   "metadata": {},
   "source": [
    "In conclusion, the optimal cutoff point in this case would be: **84** tokens/words or smaller depending on algorithm performance. Another important lesson is to analyze one's dataset before undergoing the journey of training a deep learning model. Sentence length is an important factor, when it comes to filtering out the dataset. If ignored, a significant amount of problems will arise. For example, when training a long short term memory network (LSTM), sequence length dictates how many steps the LSTM needs to traverse in order to ultimately calculate the probability of a sentence mentioning a relationship. If the LSTM were to be fed a sentence that contains 834 words, then the network has 834 steps to parse through. This takes a significant amount of time (~20 hours+). Plus during backpropogation, the gradient will become very small that the network cannot learn anything useful ([Backpropogation through time](https://en.wikipedia.org/wiki/Backpropagation_through_time)). "
   ]
  }
 ],
 "metadata": {
  "kernelspec": {
   "display_name": "Python [conda env:snorkeling]",
   "language": "python",
   "name": "conda-env-snorkeling-py"
  },
  "language_info": {
   "codemirror_mode": {
    "name": "ipython",
    "version": 3
   },
   "file_extension": ".py",
   "mimetype": "text/x-python",
   "name": "python",
   "nbconvert_exporter": "python",
   "pygments_lexer": "ipython3",
   "version": "3.6.4"
  }
 },
 "nbformat": 4,
 "nbformat_minor": 2
}
