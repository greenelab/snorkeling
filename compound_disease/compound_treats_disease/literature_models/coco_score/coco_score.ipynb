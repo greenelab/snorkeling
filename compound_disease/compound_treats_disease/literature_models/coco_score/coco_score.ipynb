{
 "cells": [
  {
   "cell_type": "markdown",
   "metadata": {},
   "source": [
    "# CoCoScore Implementation"
   ]
  },
  {
   "cell_type": "markdown",
   "metadata": {},
   "source": [
    "This notebook consists of implementing the [CoCoScore](https://www.biorxiv.org/content/10.1101/444398v1) literature model for comparison. We report performance as area under the precision recall curve (AUPR) and area under the receiver operating curve (AUROC). In both cases the greater the area the better the model is."
   ]
  },
  {
   "cell_type": "code",
   "execution_count": 1,
   "metadata": {
    "ExecuteTime": {
     "end_time": "2020-01-17T18:38:40.781260Z",
     "start_time": "2020-01-17T18:38:39.879934Z"
    }
   },
   "outputs": [],
   "source": [
    "%load_ext autoreload\n",
    "%autoreload 2\n",
    "%matplotlib inline\n",
    "\n",
    "from collections import defaultdict\n",
    "import os\n",
    "import sys\n",
    "\n",
    "sys.path.append(os.path.abspath('../../../../modules'))\n",
    "\n",
    "import pandas as pd\n",
    "import matplotlib.pyplot as plt\n",
    "from sklearn.metrics import roc_curve, auc, f1_score, precision_recall_curve, accuracy_score, confusion_matrix\n",
    "from tqdm import tqdm_notebook"
   ]
  },
  {
   "cell_type": "code",
   "execution_count": 2,
   "metadata": {
    "ExecuteTime": {
     "end_time": "2020-01-17T18:38:40.994948Z",
     "start_time": "2020-01-17T18:38:40.782744Z"
    }
   },
   "outputs": [],
   "source": [
    "from utils.notebook_utils.dataframe_helper import load_candidate_dataframes"
   ]
  },
  {
   "cell_type": "code",
   "execution_count": 3,
   "metadata": {
    "ExecuteTime": {
     "end_time": "2020-01-17T18:38:55.335140Z",
     "start_time": "2020-01-17T18:38:40.996794Z"
    }
   },
   "outputs": [
    {
     "data": {
      "text/html": [
       "<div>\n",
       "<style scoped>\n",
       "    .dataframe tbody tr th:only-of-type {\n",
       "        vertical-align: middle;\n",
       "    }\n",
       "\n",
       "    .dataframe tbody tr th {\n",
       "        vertical-align: top;\n",
       "    }\n",
       "\n",
       "    .dataframe thead th {\n",
       "        text-align: right;\n",
       "    }\n",
       "</style>\n",
       "<table border=\"1\" class=\"dataframe\">\n",
       "  <thead>\n",
       "    <tr style=\"text-align: right;\">\n",
       "      <th></th>\n",
       "      <th>doid_id</th>\n",
       "      <th>doid_name</th>\n",
       "      <th>drugbank_id</th>\n",
       "      <th>drug_name</th>\n",
       "      <th>hetionet</th>\n",
       "      <th>n_sentences</th>\n",
       "      <th>has_sentence</th>\n",
       "      <th>partition_rank</th>\n",
       "      <th>split</th>\n",
       "      <th>candidate_id</th>\n",
       "      <th>sentence_id</th>\n",
       "      <th>text</th>\n",
       "      <th>sen_length</th>\n",
       "    </tr>\n",
       "  </thead>\n",
       "  <tbody>\n",
       "    <tr>\n",
       "      <th>2053869</th>\n",
       "      <td>DOID:1826</td>\n",
       "      <td>epilepsy syndrome</td>\n",
       "      <td>DB00313</td>\n",
       "      <td>Valproic Acid</td>\n",
       "      <td>1</td>\n",
       "      <td>9402</td>\n",
       "      <td>1</td>\n",
       "      <td>0.44093</td>\n",
       "      <td>9</td>\n",
       "      <td>65851</td>\n",
       "      <td>686471</td>\n",
       "      <td>The rectal route of administration was effecti...</td>\n",
       "      <td>21</td>\n",
       "    </tr>\n",
       "    <tr>\n",
       "      <th>796343</th>\n",
       "      <td>DOID:3571</td>\n",
       "      <td>liver cancer</td>\n",
       "      <td>DB00129</td>\n",
       "      <td>L-Ornithine</td>\n",
       "      <td>0</td>\n",
       "      <td>198</td>\n",
       "      <td>1</td>\n",
       "      <td>0.74806</td>\n",
       "      <td>10</td>\n",
       "      <td>65852</td>\n",
       "      <td>284568</td>\n",
       "      <td>The turnover rates of ornithine amino-transfer...</td>\n",
       "      <td>22</td>\n",
       "    </tr>\n",
       "  </tbody>\n",
       "</table>\n",
       "</div>"
      ],
      "text/plain": [
       "           doid_id          doid_name drugbank_id      drug_name  hetionet  \\\n",
       "2053869  DOID:1826  epilepsy syndrome     DB00313  Valproic Acid         1   \n",
       "796343   DOID:3571       liver cancer     DB00129    L-Ornithine         0   \n",
       "\n",
       "         n_sentences  has_sentence  partition_rank  split  candidate_id  \\\n",
       "2053869         9402             1         0.44093      9         65851   \n",
       "796343           198             1         0.74806     10         65852   \n",
       "\n",
       "         sentence_id                                               text  \\\n",
       "2053869       686471  The rectal route of administration was effecti...   \n",
       "796343        284568  The turnover rates of ornithine amino-transfer...   \n",
       "\n",
       "         sen_length  \n",
       "2053869          21  \n",
       "796343           22  "
      ]
     },
     "execution_count": 3,
     "metadata": {},
     "output_type": "execute_result"
    }
   ],
   "source": [
    "total_candidates_df = pd.read_csv(\"input/all_ctd_candidates.tsv.xz\", sep=\"\\t\").sort_values(\"candidate_id\")\n",
    "total_candidates_df.head(2)"
   ]
  },
  {
   "cell_type": "code",
   "execution_count": 4,
   "metadata": {
    "ExecuteTime": {
     "end_time": "2020-01-17T18:38:55.349735Z",
     "start_time": "2020-01-17T18:38:55.336695Z"
    }
   },
   "outputs": [],
   "source": [
    "spreadsheet_names = {\n",
    "    'dev': '../../data/sentences/sentence_labels_dev.xlsx',\n",
    "    'test': '../../data/sentences/sentence_labels_test.xlsx'\n",
    "}"
   ]
  },
  {
   "cell_type": "code",
   "execution_count": 5,
   "metadata": {
    "ExecuteTime": {
     "end_time": "2020-01-17T18:38:56.430252Z",
     "start_time": "2020-01-17T18:38:55.351095Z"
    }
   },
   "outputs": [
    {
     "name": "stdout",
     "output_type": "stream",
     "text": [
      "Size of dev set: 500\n",
      "Size of test set: 500\n"
     ]
    }
   ],
   "source": [
    "candidate_dfs = {\n",
    "    key:load_candidate_dataframes(spreadsheet_names[key], \"curated_ctd\")\n",
    "    for key in spreadsheet_names\n",
    "}\n",
    "\n",
    "for key in candidate_dfs:\n",
    "    print(\"Size of {} set: {}\".format(key, candidate_dfs[key].shape[0]))"
   ]
  },
  {
   "cell_type": "code",
   "execution_count": 6,
   "metadata": {
    "ExecuteTime": {
     "end_time": "2020-01-17T18:38:56.629477Z",
     "start_time": "2020-01-17T18:38:56.431616Z"
    }
   },
   "outputs": [
    {
     "data": {
      "text/html": [
       "<div>\n",
       "<style scoped>\n",
       "    .dataframe tbody tr th:only-of-type {\n",
       "        vertical-align: middle;\n",
       "    }\n",
       "\n",
       "    .dataframe tbody tr th {\n",
       "        vertical-align: top;\n",
       "    }\n",
       "\n",
       "    .dataframe thead th {\n",
       "        text-align: right;\n",
       "    }\n",
       "</style>\n",
       "<table border=\"1\" class=\"dataframe\">\n",
       "  <thead>\n",
       "    <tr style=\"text-align: right;\">\n",
       "      <th></th>\n",
       "      <th>0:0,1,2</th>\n",
       "      <th>candidate_id</th>\n",
       "    </tr>\n",
       "  </thead>\n",
       "  <tbody>\n",
       "    <tr>\n",
       "      <th>0</th>\n",
       "      <td>0.999999</td>\n",
       "      <td>65851</td>\n",
       "    </tr>\n",
       "    <tr>\n",
       "      <th>1</th>\n",
       "      <td>0.182980</td>\n",
       "      <td>65856</td>\n",
       "    </tr>\n",
       "  </tbody>\n",
       "</table>\n",
       "</div>"
      ],
      "text/plain": [
       "    0:0,1,2  candidate_id\n",
       "0  0.999999         65851\n",
       "1  0.182980         65856"
      ]
     },
     "execution_count": 6,
     "metadata": {},
     "output_type": "execute_result"
    }
   ],
   "source": [
    "distant_supervision_marginals = pd.read_csv(\"input/baseline_sampled.tsv.xz\", sep=\"\\t\")\n",
    "distant_supervision_marginals.head(2)"
   ]
  },
  {
   "cell_type": "code",
   "execution_count": 7,
   "metadata": {
    "ExecuteTime": {
     "end_time": "2020-01-17T18:39:11.543286Z",
     "start_time": "2020-01-17T18:38:56.630832Z"
    }
   },
   "outputs": [
    {
     "name": "stderr",
     "output_type": "stream",
     "text": [
      "/home/danich1/.local/lib/python3.6/site-packages/ipykernel_launcher.py:1: FutureWarning: read_table is deprecated, use read_csv instead, passing sep='\\t'.\n",
      "  \"\"\"Entry point for launching an IPython kernel.\n"
     ]
    },
    {
     "data": {
      "text/html": [
       "<div>\n",
       "<style scoped>\n",
       "    .dataframe tbody tr th:only-of-type {\n",
       "        vertical-align: middle;\n",
       "    }\n",
       "\n",
       "    .dataframe tbody tr th {\n",
       "        vertical-align: top;\n",
       "    }\n",
       "\n",
       "    .dataframe thead th {\n",
       "        text-align: right;\n",
       "    }\n",
       "</style>\n",
       "<table border=\"1\" class=\"dataframe\">\n",
       "  <thead>\n",
       "    <tr style=\"text-align: right;\">\n",
       "      <th></th>\n",
       "      <th>0</th>\n",
       "      <th>1</th>\n",
       "      <th>2</th>\n",
       "      <th>3</th>\n",
       "      <th>4</th>\n",
       "      <th>5</th>\n",
       "      <th>6</th>\n",
       "      <th>7</th>\n",
       "      <th>8</th>\n",
       "      <th>9</th>\n",
       "      <th>...</th>\n",
       "      <th>52</th>\n",
       "      <th>53</th>\n",
       "      <th>54</th>\n",
       "      <th>55</th>\n",
       "      <th>56</th>\n",
       "      <th>57</th>\n",
       "      <th>58</th>\n",
       "      <th>59</th>\n",
       "      <th>candidate_id</th>\n",
       "      <th>sen_length</th>\n",
       "    </tr>\n",
       "  </thead>\n",
       "  <tbody>\n",
       "    <tr>\n",
       "      <th>0</th>\n",
       "      <td>44</td>\n",
       "      <td>2</td>\n",
       "      <td>45</td>\n",
       "      <td>4</td>\n",
       "      <td>46</td>\n",
       "      <td>47</td>\n",
       "      <td>48</td>\n",
       "      <td>49</td>\n",
       "      <td>50.0</td>\n",
       "      <td>17.0</td>\n",
       "      <td>...</td>\n",
       "      <td>0.0</td>\n",
       "      <td>0.0</td>\n",
       "      <td>0.0</td>\n",
       "      <td>0.0</td>\n",
       "      <td>0.0</td>\n",
       "      <td>0.0</td>\n",
       "      <td>0.0</td>\n",
       "      <td>0.0</td>\n",
       "      <td>65956</td>\n",
       "      <td>38</td>\n",
       "    </tr>\n",
       "    <tr>\n",
       "      <th>1</th>\n",
       "      <td>17</td>\n",
       "      <td>70</td>\n",
       "      <td>19</td>\n",
       "      <td>49</td>\n",
       "      <td>71</td>\n",
       "      <td>72</td>\n",
       "      <td>73</td>\n",
       "      <td>74</td>\n",
       "      <td>75.0</td>\n",
       "      <td>76.0</td>\n",
       "      <td>...</td>\n",
       "      <td>0.0</td>\n",
       "      <td>0.0</td>\n",
       "      <td>0.0</td>\n",
       "      <td>0.0</td>\n",
       "      <td>0.0</td>\n",
       "      <td>0.0</td>\n",
       "      <td>0.0</td>\n",
       "      <td>0.0</td>\n",
       "      <td>65991</td>\n",
       "      <td>41</td>\n",
       "    </tr>\n",
       "  </tbody>\n",
       "</table>\n",
       "<p>2 rows × 62 columns</p>\n",
       "</div>"
      ],
      "text/plain": [
       "    0   1   2   3   4   5   6   7     8     9  ...   52   53   54   55   56  \\\n",
       "0  44   2  45   4  46  47  48  49  50.0  17.0  ...  0.0  0.0  0.0  0.0  0.0   \n",
       "1  17  70  19  49  71  72  73  74  75.0  76.0  ...  0.0  0.0  0.0  0.0  0.0   \n",
       "\n",
       "    57   58   59  candidate_id  sen_length  \n",
       "0  0.0  0.0  0.0         65956          38  \n",
       "1  0.0  0.0  0.0         65991          41  \n",
       "\n",
       "[2 rows x 62 columns]"
      ]
     },
     "execution_count": 7,
     "metadata": {},
     "output_type": "execute_result"
    }
   ],
   "source": [
    "all_embedded_cd_df = pd.read_csv(\"input/all_embedded_cd_sentences_fixed.tsv\", sep=\"\\t\")\n",
    "all_embedded_cd_df.head(2)"
   ]
  },
  {
   "cell_type": "code",
   "execution_count": 8,
   "metadata": {
    "ExecuteTime": {
     "end_time": "2020-01-17T18:39:11.608067Z",
     "start_time": "2020-01-17T18:39:11.545607Z"
    }
   },
   "outputs": [
    {
     "data": {
      "text/html": [
       "<div>\n",
       "<style scoped>\n",
       "    .dataframe tbody tr th:only-of-type {\n",
       "        vertical-align: middle;\n",
       "    }\n",
       "\n",
       "    .dataframe tbody tr th {\n",
       "        vertical-align: top;\n",
       "    }\n",
       "\n",
       "    .dataframe thead th {\n",
       "        text-align: right;\n",
       "    }\n",
       "</style>\n",
       "<table border=\"1\" class=\"dataframe\">\n",
       "  <thead>\n",
       "    <tr style=\"text-align: right;\">\n",
       "      <th></th>\n",
       "      <th>word</th>\n",
       "      <th>index</th>\n",
       "    </tr>\n",
       "  </thead>\n",
       "  <tbody>\n",
       "    <tr>\n",
       "      <th>0</th>\n",
       "      <td>~~[[1</td>\n",
       "      <td>2</td>\n",
       "    </tr>\n",
       "    <tr>\n",
       "      <th>1</th>\n",
       "      <td>dexamethasone</td>\n",
       "      <td>3</td>\n",
       "    </tr>\n",
       "    <tr>\n",
       "      <th>2</th>\n",
       "      <td>1]]~~</td>\n",
       "      <td>4</td>\n",
       "    </tr>\n",
       "    <tr>\n",
       "      <th>3</th>\n",
       "      <td>also</td>\n",
       "      <td>5</td>\n",
       "    </tr>\n",
       "    <tr>\n",
       "      <th>4</th>\n",
       "      <td>stimulates</td>\n",
       "      <td>6</td>\n",
       "    </tr>\n",
       "  </tbody>\n",
       "</table>\n",
       "</div>"
      ],
      "text/plain": [
       "            word  index\n",
       "0          ~~[[1      2\n",
       "1  dexamethasone      3\n",
       "2          1]]~~      4\n",
       "3           also      5\n",
       "4     stimulates      6"
      ]
     },
     "execution_count": 8,
     "metadata": {},
     "output_type": "execute_result"
    }
   ],
   "source": [
    "word_dict = pd.read_csv(\"input/compound_treats_disease_word_dict.tsv\", sep=\"\\t\").assign(index=lambda x: x.index + 2)\n",
    "word_dict.head()"
   ]
  },
  {
   "cell_type": "code",
   "execution_count": 9,
   "metadata": {
    "ExecuteTime": {
     "end_time": "2020-01-17T18:39:11.749991Z",
     "start_time": "2020-01-17T18:39:11.609837Z"
    }
   },
   "outputs": [],
   "source": [
    "reverse_word_dict = dict(zip(word_dict['index'].values.tolist(), word_dict.word))\n",
    "\n",
    "train_marginal_dict = dict(zip(\n",
    "    distant_supervision_marginals.candidate_id, \n",
    "    distant_supervision_marginals[distant_supervision_marginals.columns[0]]\n",
    "))\n",
    "\n",
    "tune_marginal_dict = dict(zip(\n",
    "    candidate_dfs['dev'].candidate_id.values,\n",
    "    candidate_dfs['dev'].curated_ctd.values\n",
    "))\n",
    "\n",
    "\n",
    "test_marginal_dict = dict(zip(\n",
    "    candidate_dfs['test'].candidate_id.values,\n",
    "    candidate_dfs['test'].curated_ctd.values\n",
    "))"
   ]
  },
  {
   "cell_type": "code",
   "execution_count": 11,
   "metadata": {
    "ExecuteTime": {
     "end_time": "2020-01-17T18:47:15.968570Z",
     "start_time": "2020-01-17T18:39:55.268698Z"
    }
   },
   "outputs": [
    {
     "name": "stderr",
     "output_type": "stream",
     "text": [
      "/home/danich1/.local/lib/python3.6/site-packages/ipykernel_launcher.py:12: TqdmDeprecationWarning: This function will be removed in tqdm==5.0.0\n",
      "Please use `tqdm.notebook.tqdm` instead of `tqdm.tqdm_notebook`\n",
      "  if sys.path[0] == '':\n"
     ]
    },
    {
     "data": {
      "application/vnd.jupyter.widget-view+json": {
       "model_id": "e99f0c5fff9e4fe2a32d1c558927eec6",
       "version_major": 2,
       "version_minor": 0
      },
      "text/plain": [
       "HBox(children=(IntProgress(value=1, bar_style='info', max=1), HTML(value='')))"
      ]
     },
     "metadata": {},
     "output_type": "display_data"
    },
    {
     "name": "stdout",
     "output_type": "stream",
     "text": [
      "1652505\n",
      "\n"
     ]
    }
   ],
   "source": [
    "data_rows = []\n",
    "entity_one_start = word_dict.query(\"word=='~~[[1'\")['index'].values[0]\n",
    "entity_one_end = word_dict.query(\"word=='1]]~~'\")['index'].values[0]\n",
    "\n",
    "entity_two_start = word_dict.query(\"word=='~~[[2'\")['index'].values[0]\n",
    "entity_two_end = word_dict.query(\"word=='2]]~~'\")['index'].values[0]\n",
    "\n",
    "\n",
    "with open(\"output/optimization_data/training.txt\", \"w\") as train:\n",
    "    with open(\"output/optimization_data/tune.txt\", \"w\") as tune:\n",
    "        with open(\"output/optimization_data/test.txt\", \"w\") as test:\n",
    "            with open(\"output/all_cd_sentences.txt\", \"w\") as all_sen:\n",
    "                for idx, sen_df in tqdm_notebook(all_embedded_cd_df.iterrows()):\n",
    "                    sen = sen_df.iloc[:-2].tolist()\n",
    "                    try:\n",
    "                        # remove entity mentions for coco_score\n",
    "                        del sen[sen.index(entity_one_start): sen.index(entity_one_end)+1]\n",
    "                        del sen[sen.index(entity_two_start): sen.index(entity_two_end)+1]\n",
    "\n",
    "                        embedded_sen = list(map(\n",
    "                            lambda x: reverse_word_dict[x] if x in reverse_word_dict else \"UNK\" if x == 1 else \"\",\n",
    "                            sen\n",
    "                        ))\n",
    "\n",
    "                        cand_id = int(sen_df.iloc[-2])\n",
    "                        if cand_id in train_marginal_dict:\n",
    "                            train.write(\n",
    "                                f\"__label__{'1' if train_marginal_dict[cand_id]> 0.5 else '0'}\\t\" +\n",
    "                                \"\\t\".join(embedded_sen)+ \n",
    "                                \"\\n\"\n",
    "                            )\n",
    "                        if cand_id in tune_marginal_dict:\n",
    "                            tune.write(\n",
    "                                f\"__label__{int(tune_marginal_dict[cand_id])}\\t\" +\n",
    "                                \"\\t\".join(embedded_sen)+ \n",
    "                                \"\\n\"\n",
    "                            )\n",
    "                        if cand_id in test_marginal_dict:\n",
    "                            test.write(\n",
    "                                f\"__label__{int(test_marginal_dict[cand_id])}\\t\" +\n",
    "                                \"\\t\".join(embedded_sen)+ \n",
    "                                \"\\n\"\n",
    "                            )\n",
    "\n",
    "                        all_sen.write(\n",
    "                                f\"__label__{cand_id}\\t\" +\n",
    "                                \"\\t\".join(embedded_sen) + \n",
    "                                \"\\n\"\n",
    "                            )\n",
    "\n",
    "                    except ValueError:\n",
    "                        print(idx)\n"
   ]
  },
  {
   "cell_type": "code",
   "execution_count": 12,
   "metadata": {
    "ExecuteTime": {
     "end_time": "2020-01-17T18:54:45.923545Z",
     "start_time": "2020-01-17T18:53:01.955299Z"
    }
   },
   "outputs": [
    {
     "data": {
      "text/plain": [
       "0"
      ]
     },
     "execution_count": 12,
     "metadata": {},
     "output_type": "execute_result"
    }
   ],
   "source": [
    "os.system(\n",
    "    \"../../../../../fastText/fasttext supervised \" + \n",
    "    \"-input output/optimization_data/training.txt -output output/ctd_model \" +\n",
    "    \"-lr 0.005 -epoch 50 -dim 300 -wordNgrams 2\" \n",
    ")\n",
    "\n",
    "os.system(\n",
    "    \"../../../../../fastText/fasttext predict-prob \"+\n",
    "    \"output/ctd_model.bin output/optimization_data/tune.txt \"+\n",
    "    \" > output/optimized_predictions/tune_predictions.tsv\"\n",
    ")\n",
    "\n",
    "os.system(\n",
    "    \"../../../../../fastText/fasttext predict-prob \"+\n",
    "    \"output/ctd_model.bin output/optimization_data/test.txt \"+\n",
    "    \" > output/optimized_predictions/test_predictions.tsv\"\n",
    ")"
   ]
  },
  {
   "cell_type": "code",
   "execution_count": 13,
   "metadata": {
    "ExecuteTime": {
     "end_time": "2020-01-17T18:54:47.867235Z",
     "start_time": "2020-01-17T18:54:47.846623Z"
    }
   },
   "outputs": [
    {
     "data": {
      "text/plain": [
       "0.46083814094631664"
      ]
     },
     "execution_count": 13,
     "metadata": {},
     "output_type": "execute_result"
    }
   ],
   "source": [
    "tune_df = (\n",
    "    pd.read_csv(\n",
    "        'output/optimized_predictions/tune_predictions.tsv', \n",
    "        header=None, sep=\" \", \n",
    "        names=[\"label\", \"pred\"]\n",
    "    )\n",
    "    .assign(label=lambda x: x.label.apply(lambda sen: sen[-1]))\n",
    ")\n",
    "\n",
    "precision, recall, _ = precision_recall_curve(\n",
    "    tune_df.label.astype(int).values,\n",
    "    1-tune_df.pred.values\n",
    ")\n",
    "auc(recall, precision)"
   ]
  },
  {
   "cell_type": "code",
   "execution_count": 14,
   "metadata": {
    "ExecuteTime": {
     "end_time": "2020-01-17T18:54:49.951988Z",
     "start_time": "2020-01-17T18:54:49.811126Z"
    }
   },
   "outputs": [
    {
     "data": {
      "text/plain": [
       "[<matplotlib.lines.Line2D at 0x7f7a07db6cf8>]"
      ]
     },
     "execution_count": 14,
     "metadata": {},
     "output_type": "execute_result"
    },
    {
     "data": {
      "image/png": "[encoded data removed]",
      "text/plain": [
       "<Figure size 432x288 with 1 Axes>"
      ]
     },
     "metadata": {
      "needs_background": "light"
     },
     "output_type": "display_data"
    }
   ],
   "source": [
    "plt.plot(recall, precision)"
   ]
  },
  {
   "cell_type": "code",
   "execution_count": 15,
   "metadata": {
    "ExecuteTime": {
     "end_time": "2020-01-17T18:54:51.937622Z",
     "start_time": "2020-01-17T18:54:51.921686Z"
    }
   },
   "outputs": [
    {
     "data": {
      "text/plain": [
       "0.795344506517691"
      ]
     },
     "execution_count": 15,
     "metadata": {},
     "output_type": "execute_result"
    }
   ],
   "source": [
    "fpr, tpr, _ = roc_curve(\n",
    "    tune_df.label.astype(int).values,\n",
    "    1-tune_df.pred.values\n",
    ")\n",
    "auc(fpr, tpr)"
   ]
  },
  {
   "cell_type": "code",
   "execution_count": 16,
   "metadata": {
    "ExecuteTime": {
     "end_time": "2020-01-17T18:54:52.113748Z",
     "start_time": "2020-01-17T18:54:51.939005Z"
    }
   },
   "outputs": [
    {
     "data": {
      "text/plain": [
       "[<matplotlib.lines.Line2D at 0x7f7a07d349e8>]"
      ]
     },
     "execution_count": 16,
     "metadata": {},
     "output_type": "execute_result"
    },
    {
     "data": {
      "image/png": "[encoded data removed]",
      "text/plain": [
       "<Figure size 432x288 with 1 Axes>"
      ]
     },
     "metadata": {
      "needs_background": "light"
     },
     "output_type": "display_data"
    }
   ],
   "source": [
    "plt.plot(fpr, tpr)"
   ]
  },
  {
   "cell_type": "code",
   "execution_count": 17,
   "metadata": {
    "ExecuteTime": {
     "end_time": "2020-01-17T18:55:18.230280Z",
     "start_time": "2020-01-17T18:54:52.115285Z"
    }
   },
   "outputs": [
    {
     "data": {
      "text/plain": [
       "0"
      ]
     },
     "execution_count": 17,
     "metadata": {},
     "output_type": "execute_result"
    }
   ],
   "source": [
    "os.system(\n",
    "    \"../../../../../fastText/fasttext predict-prob \"+\n",
    "    \"output/ctd_model.bin output/all_cd_sentences.txt \"+\n",
    "    \"> output/all_cd_sentences_predictions.tsv\"\n",
    ")"
   ]
  },
  {
   "cell_type": "code",
   "execution_count": 18,
   "metadata": {
    "ExecuteTime": {
     "end_time": "2020-01-17T18:55:19.277191Z",
     "start_time": "2020-01-17T18:55:18.232122Z"
    }
   },
   "outputs": [
    {
     "data": {
      "text/html": [
       "<div>\n",
       "<style scoped>\n",
       "    .dataframe tbody tr th:only-of-type {\n",
       "        vertical-align: middle;\n",
       "    }\n",
       "\n",
       "    .dataframe tbody tr th {\n",
       "        vertical-align: top;\n",
       "    }\n",
       "\n",
       "    .dataframe thead th {\n",
       "        text-align: right;\n",
       "    }\n",
       "</style>\n",
       "<table border=\"1\" class=\"dataframe\">\n",
       "  <thead>\n",
       "    <tr style=\"text-align: right;\">\n",
       "      <th></th>\n",
       "      <th>label</th>\n",
       "      <th>coco_pred</th>\n",
       "      <th>candidate_id</th>\n",
       "    </tr>\n",
       "  </thead>\n",
       "  <tbody>\n",
       "    <tr>\n",
       "      <th>0</th>\n",
       "      <td>__label__0</td>\n",
       "      <td>0.284164</td>\n",
       "      <td>65956</td>\n",
       "    </tr>\n",
       "    <tr>\n",
       "      <th>1</th>\n",
       "      <td>__label__0</td>\n",
       "      <td>0.109494</td>\n",
       "      <td>65991</td>\n",
       "    </tr>\n",
       "  </tbody>\n",
       "</table>\n",
       "</div>"
      ],
      "text/plain": [
       "        label  coco_pred  candidate_id\n",
       "0  __label__0   0.284164         65956\n",
       "1  __label__0   0.109494         65991"
      ]
     },
     "execution_count": 18,
     "metadata": {},
     "output_type": "execute_result"
    }
   ],
   "source": [
    "predictions_df = (\n",
    "    pd.read_csv(\n",
    "        \"output/all_cd_sentences_predictions.tsv\", \n",
    "        header=None, sep=\" \",\n",
    "        names=[\"label\", \"coco_pred\"]\n",
    "    )\n",
    "    .assign(candidate_id=all_embedded_cd_df.drop(1652505).candidate_id.values.tolist())\n",
    "    .assign(coco_pred=lambda x: 1 - x.coco_pred)\n",
    "    .assign(coco_pred=lambda x: x.coco_pred.clip(0,1) + 1e-5)\n",
    ")\n",
    "predictions_df.head(2)"
   ]
  },
  {
   "cell_type": "code",
   "execution_count": 19,
   "metadata": {
    "ExecuteTime": {
     "end_time": "2020-01-17T18:55:19.971347Z",
     "start_time": "2020-01-17T18:55:19.280566Z"
    }
   },
   "outputs": [
    {
     "data": {
      "text/html": [
       "<div>\n",
       "<style scoped>\n",
       "    .dataframe tbody tr th:only-of-type {\n",
       "        vertical-align: middle;\n",
       "    }\n",
       "\n",
       "    .dataframe tbody tr th {\n",
       "        vertical-align: top;\n",
       "    }\n",
       "\n",
       "    .dataframe thead th {\n",
       "        text-align: right;\n",
       "    }\n",
       "</style>\n",
       "<table border=\"1\" class=\"dataframe\">\n",
       "  <thead>\n",
       "    <tr style=\"text-align: right;\">\n",
       "      <th></th>\n",
       "      <th>doid_id</th>\n",
       "      <th>drugbank_id</th>\n",
       "      <th>candidate_id</th>\n",
       "      <th>coco_pred</th>\n",
       "    </tr>\n",
       "  </thead>\n",
       "  <tbody>\n",
       "    <tr>\n",
       "      <th>0</th>\n",
       "      <td>DOID:1826</td>\n",
       "      <td>DB00313</td>\n",
       "      <td>65851</td>\n",
       "      <td>0.140156</td>\n",
       "    </tr>\n",
       "    <tr>\n",
       "      <th>1</th>\n",
       "      <td>DOID:3571</td>\n",
       "      <td>DB00129</td>\n",
       "      <td>65852</td>\n",
       "      <td>0.003209</td>\n",
       "    </tr>\n",
       "  </tbody>\n",
       "</table>\n",
       "</div>"
      ],
      "text/plain": [
       "     doid_id drugbank_id  candidate_id  coco_pred\n",
       "0  DOID:1826     DB00313         65851   0.140156\n",
       "1  DOID:3571     DB00129         65852   0.003209"
      ]
     },
     "execution_count": 19,
     "metadata": {},
     "output_type": "execute_result"
    }
   ],
   "source": [
    "final_pred_df = (\n",
    "    total_candidates_df\n",
    "    [[\"doid_id\", \"drugbank_id\", \"candidate_id\"]]\n",
    "    .merge(predictions_df[[\"coco_pred\", \"candidate_id\"]])\n",
    ")\n",
    "final_pred_df.head(2)"
   ]
  },
  {
   "cell_type": "code",
   "execution_count": 20,
   "metadata": {
    "ExecuteTime": {
     "end_time": "2020-01-17T18:55:20.236647Z",
     "start_time": "2020-01-17T18:55:19.973570Z"
    }
   },
   "outputs": [
    {
     "data": {
      "text/html": [
       "<div>\n",
       "<style scoped>\n",
       "    .dataframe tbody tr th:only-of-type {\n",
       "        vertical-align: middle;\n",
       "    }\n",
       "\n",
       "    .dataframe tbody tr th {\n",
       "        vertical-align: top;\n",
       "    }\n",
       "\n",
       "    .dataframe thead th {\n",
       "        text-align: right;\n",
       "    }\n",
       "</style>\n",
       "<table border=\"1\" class=\"dataframe\">\n",
       "  <thead>\n",
       "    <tr style=\"text-align: right;\">\n",
       "      <th></th>\n",
       "      <th>doid_id</th>\n",
       "      <th>drugbank_id</th>\n",
       "      <th>coco_pred</th>\n",
       "    </tr>\n",
       "  </thead>\n",
       "  <tbody>\n",
       "    <tr>\n",
       "      <th>0</th>\n",
       "      <td>DOID:0050156</td>\n",
       "      <td>DB00091</td>\n",
       "      <td>6.864369</td>\n",
       "    </tr>\n",
       "    <tr>\n",
       "      <th>1</th>\n",
       "      <td>DOID:0050156</td>\n",
       "      <td>DB00104</td>\n",
       "      <td>0.113919</td>\n",
       "    </tr>\n",
       "  </tbody>\n",
       "</table>\n",
       "</div>"
      ],
      "text/plain": [
       "        doid_id drugbank_id  coco_pred\n",
       "0  DOID:0050156     DB00091   6.864369\n",
       "1  DOID:0050156     DB00104   0.113919"
      ]
     },
     "execution_count": 20,
     "metadata": {},
     "output_type": "execute_result"
    }
   ],
   "source": [
    "added_scores_df = (\n",
    "    final_pred_df\n",
    "    .groupby([\"doid_id\", \"drugbank_id\"])\n",
    "    .aggregate({\"coco_pred\": 'sum'})\n",
    "    .reset_index()\n",
    ")\n",
    "added_scores_df.head(2)"
   ]
  },
  {
   "cell_type": "code",
   "execution_count": 21,
   "metadata": {
    "ExecuteTime": {
     "end_time": "2020-01-17T18:55:21.858701Z",
     "start_time": "2020-01-17T18:55:20.238091Z"
    },
    "scrolled": true
   },
   "outputs": [
    {
     "data": {
      "text/html": [
       "<div>\n",
       "<style scoped>\n",
       "    .dataframe tbody tr th:only-of-type {\n",
       "        vertical-align: middle;\n",
       "    }\n",
       "\n",
       "    .dataframe tbody tr th {\n",
       "        vertical-align: top;\n",
       "    }\n",
       "\n",
       "    .dataframe thead th {\n",
       "        text-align: right;\n",
       "    }\n",
       "</style>\n",
       "<table border=\"1\" class=\"dataframe\">\n",
       "  <thead>\n",
       "    <tr style=\"text-align: right;\">\n",
       "      <th></th>\n",
       "      <th>doid_id</th>\n",
       "      <th>drugbank_id</th>\n",
       "      <th>coco_pred</th>\n",
       "      <th>final_score</th>\n",
       "    </tr>\n",
       "  </thead>\n",
       "  <tbody>\n",
       "    <tr>\n",
       "      <th>0</th>\n",
       "      <td>DOID:0050156</td>\n",
       "      <td>DB00091</td>\n",
       "      <td>6.864369</td>\n",
       "      <td>5.415513</td>\n",
       "    </tr>\n",
       "    <tr>\n",
       "      <th>1</th>\n",
       "      <td>DOID:0050156</td>\n",
       "      <td>DB00104</td>\n",
       "      <td>0.113919</td>\n",
       "      <td>0.192935</td>\n",
       "    </tr>\n",
       "  </tbody>\n",
       "</table>\n",
       "</div>"
      ],
      "text/plain": [
       "        doid_id drugbank_id  coco_pred  final_score\n",
       "0  DOID:0050156     DB00091   6.864369     5.415513\n",
       "1  DOID:0050156     DB00104   0.113919     0.192935"
      ]
     },
     "execution_count": 21,
     "metadata": {},
     "output_type": "execute_result"
    }
   ],
   "source": [
    "total_score = added_scores_df.coco_pred.sum()\n",
    "disease_scores = added_scores_df.groupby(\"doid_id\").agg({\"coco_pred\":\"sum\"}).reset_index()\n",
    "disease_scores = dict(zip(disease_scores.doid_id, disease_scores.coco_pred))\n",
    "drug_scores = added_scores_df.groupby(\"drugbank_id\").agg({\"coco_pred\":\"sum\"}).reset_index()\n",
    "drug_scores = dict(zip(drug_scores.drugbank_id, drug_scores.coco_pred))\n",
    "\n",
    "alpha=0.65\n",
    "\n",
    "final_scores_df = added_scores_df.assign(\n",
    "    final_score=(\n",
    "        added_scores_df.apply(\n",
    "            lambda x: pd.np.exp(\n",
    "                    alpha*pd.np.log(x['coco_pred']) + (1-alpha)*(\n",
    "                    pd.np.log(x['coco_pred']) + pd.np.log(total_score) - \n",
    "                    pd.np.log(disease_scores[x['doid_id']]) - pd.np.log(drug_scores[x['drugbank_id']])\n",
    "                )\n",
    "            ), \n",
    "            axis=1\n",
    "        )\n",
    "    )\n",
    ")\n",
    "final_scores_df.head(2)"
   ]
  },
  {
   "cell_type": "code",
   "execution_count": 22,
   "metadata": {
    "ExecuteTime": {
     "end_time": "2020-01-17T18:55:22.701228Z",
     "start_time": "2020-01-17T18:55:21.860133Z"
    }
   },
   "outputs": [
    {
     "data": {
      "text/html": [
       "<div>\n",
       "<style scoped>\n",
       "    .dataframe tbody tr th:only-of-type {\n",
       "        vertical-align: middle;\n",
       "    }\n",
       "\n",
       "    .dataframe tbody tr th {\n",
       "        vertical-align: top;\n",
       "    }\n",
       "\n",
       "    .dataframe thead th {\n",
       "        text-align: right;\n",
       "    }\n",
       "</style>\n",
       "<table border=\"1\" class=\"dataframe\">\n",
       "  <thead>\n",
       "    <tr style=\"text-align: right;\">\n",
       "      <th></th>\n",
       "      <th>doid_id</th>\n",
       "      <th>drugbank_id</th>\n",
       "      <th>coco_pred</th>\n",
       "      <th>final_score</th>\n",
       "      <th>hetionet</th>\n",
       "    </tr>\n",
       "  </thead>\n",
       "  <tbody>\n",
       "    <tr>\n",
       "      <th>0</th>\n",
       "      <td>DOID:0050156</td>\n",
       "      <td>DB00091</td>\n",
       "      <td>6.864369</td>\n",
       "      <td>5.415513</td>\n",
       "      <td>0</td>\n",
       "    </tr>\n",
       "    <tr>\n",
       "      <th>32</th>\n",
       "      <td>DOID:0050156</td>\n",
       "      <td>DB00104</td>\n",
       "      <td>0.113919</td>\n",
       "      <td>0.192935</td>\n",
       "      <td>0</td>\n",
       "    </tr>\n",
       "  </tbody>\n",
       "</table>\n",
       "</div>"
      ],
      "text/plain": [
       "         doid_id drugbank_id  coco_pred  final_score  hetionet\n",
       "0   DOID:0050156     DB00091   6.864369     5.415513         0\n",
       "32  DOID:0050156     DB00104   0.113919     0.192935         0"
      ]
     },
     "execution_count": 22,
     "metadata": {},
     "output_type": "execute_result"
    }
   ],
   "source": [
    "score_with_labels_df = (\n",
    "    final_scores_df\n",
    "    .merge(\n",
    "        total_candidates_df[[\"drugbank_id\", \"doid_id\", \"hetionet\"]],\n",
    "        on=[\"drugbank_id\", \"doid_id\"]\n",
    "    )\n",
    "    .drop_duplicates()\n",
    ")\n",
    "score_with_labels_df.head(2)"
   ]
  },
  {
   "cell_type": "code",
   "execution_count": 23,
   "metadata": {
    "ExecuteTime": {
     "end_time": "2020-01-17T18:55:22.850402Z",
     "start_time": "2020-01-17T18:55:22.702501Z"
    }
   },
   "outputs": [],
   "source": [
    "(\n",
    "    score_with_labels_df\n",
    "    .drop(\"coco_pred\", axis=1)\n",
    "    .rename({\"final_score\": \"coco_score\"})\n",
    "    .to_csv(\"output/cd_edge_prediction_cocoscore.tsv\", sep=\"\\t\", index=False)\n",
    ")"
   ]
  },
  {
   "cell_type": "code",
   "execution_count": 24,
   "metadata": {
    "ExecuteTime": {
     "end_time": "2020-01-17T18:55:22.878515Z",
     "start_time": "2020-01-17T18:55:22.851600Z"
    }
   },
   "outputs": [
    {
     "name": "stdout",
     "output_type": "stream",
     "text": [
      "0.9464183404114287\n",
      "0.4485336310313993\n"
     ]
    }
   ],
   "source": [
    "fpr, tpr, _ = roc_curve(score_with_labels_df.hetionet, score_with_labels_df.final_score)\n",
    "print(auc(fpr, tpr))\n",
    "\n",
    "precision, recall, _ = precision_recall_curve(score_with_labels_df.hetionet, score_with_labels_df.final_score)\n",
    "print(auc(recall, precision))"
   ]
  }
 ],
 "metadata": {
  "kernelspec": {
   "display_name": "Python [conda env:snorkeling]",
   "language": "python",
   "name": "conda-env-snorkeling-py"
  },
  "language_info": {
   "codemirror_mode": {
    "name": "ipython",
    "version": 3
   },
   "file_extension": ".py",
   "mimetype": "text/x-python",
   "name": "python",
   "nbconvert_exporter": "python",
   "pygments_lexer": "ipython3",
   "version": "3.6.7"
  },
  "toc": {
   "base_numbering": 1,
   "nav_menu": {},
   "number_sections": true,
   "sideBar": true,
   "skip_h1_title": false,
   "title_cell": "Table of Contents",
   "title_sidebar": "Contents",
   "toc_cell": false,
   "toc_position": {},
   "toc_section_display": true,
   "toc_window_display": false
  },
  "varInspector": {
   "cols": {
    "lenName": 16,
    "lenType": 16,
    "lenVar": 40
   },
   "kernels_config": {
    "python": {
     "delete_cmd_postfix": "",
     "delete_cmd_prefix": "del ",
     "library": "var_list.py",
     "varRefreshCmd": "print(var_dic_list())"
    },
    "r": {
     "delete_cmd_postfix": ") ",
     "delete_cmd_prefix": "rm(",
     "library": "var_list.r",
     "varRefreshCmd": "cat(var_dic_list()) "
    }
   },
   "types_to_exclude": [
    "module",
    "function",
    "builtin_function_or_method",
    "instance",
    "_Feature"
   ],
   "window_display": false
  }
 },
 "nbformat": 4,
 "nbformat_minor": 2
}
