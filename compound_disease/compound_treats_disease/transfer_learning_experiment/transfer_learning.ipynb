{
 "cells": [
  {
   "cell_type": "markdown",
   "metadata": {},
   "source": [
    "# Transfer Learning for Compound Treats Disease Relationship"
   ]
  },
  {
   "cell_type": "markdown",
   "metadata": {},
   "source": [
    "Based on previous experiments, the next step is to answer the question: Can label functions transfer between realtionship types? This notebook is designed to answer this question by testing the hypothesis: **Compound Binds Gene (CbG) label functions transfer better than Disease Associates Gene (DaG) functions when classifiying Compound Treats Disease sentences.** To test this hypothesis, we plan to train multiple generative models and measure each models performance in the form of Receiver Operative Cruves (ROC) and Precision-Recall Curves (PRCs) "
   ]
  },
  {
   "cell_type": "markdown",
   "metadata": {},
   "source": [
    "## Set up the Environment"
   ]
  },
  {
   "cell_type": "code",
   "execution_count": null,
   "metadata": {
    "ExecuteTime": {
     "end_time": "2018-11-07T19:18:26.135084Z",
     "start_time": "2018-11-07T19:18:25.818024Z"
    }
   },
   "outputs": [],
   "source": [
    "%load_ext autoreload\n",
    "%autoreload 2\n",
    "%matplotlib inline\n",
    "\n",
    "from collections import defaultdict\n",
    "import os\n",
    "import sys\n",
    "\n",
    "sys.path.append(os.path.abspath('../../../modules'))\n",
    "sys.path.append(os.path.abspath('data/label_functions/'))\n",
    "\n",
    "import pandas as pd\n",
    "from tqdm import tqdm_notebook"
   ]
  },
  {
   "cell_type": "code",
   "execution_count": null,
   "metadata": {
    "ExecuteTime": {
     "end_time": "2018-10-04T21:01:35.084422Z",
     "start_time": "2018-10-04T21:01:34.933209Z"
    }
   },
   "outputs": [],
   "source": [
    "#Set up the environment\n",
    "username = \"danich1\"\n",
    "password = \"snorkel\"\n",
    "dbname = \"pubmeddb\"\n",
    "\n",
    "#Path subject to change for different os\n",
    "database_str = \"postgresql+psycopg2://{}:{}@/{}?host=/var/run/postgresql\".format(username, password, dbname)\n",
    "os.environ['SNORKELDB'] = database_str\n",
    "\n",
    "from snorkel import SnorkelSession\n",
    "session = SnorkelSession()"
   ]
  },
  {
   "cell_type": "code",
   "execution_count": null,
   "metadata": {
    "ExecuteTime": {
     "end_time": "2018-11-07T19:24:13.469308Z",
     "start_time": "2018-11-07T19:24:13.438859Z"
    },
    "scrolled": true
   },
   "outputs": [],
   "source": [
    "from snorkel.annotations import LabelAnnotator\n",
    "from snorkel.models import candidate_subclass\n",
    "\n",
    "from metal.label_model import LabelModel\n",
    "\n",
    "from compound_disease_lf import CD_LFS\n",
    "from disease_gene_lf import DG_LFS\n",
    "from compound_gene_lf import CG_LFS\n",
    "from utils.notebook_utils.dataframe_helper import load_candidate_dataframes\n",
    "from utils.notebook_utils.label_matrix_helper import (\n",
    "    get_columns, label_candidates, get_auc_significant_stats\n",
    ")\n",
    "from utils.notebook_utils.plot_helper import plot_label_matrix_heatmap, plot_roc_curve, plot_generative_model_weights"
   ]
  },
  {
   "cell_type": "code",
   "execution_count": null,
   "metadata": {
    "ExecuteTime": {
     "end_time": "2018-11-07T19:18:43.987390Z",
     "start_time": "2018-11-07T19:18:43.387171Z"
    }
   },
   "outputs": [],
   "source": [
    "CompoundDisease = candidate_subclass('CompoundDisease', ['Compound', 'Disease'])"
   ]
  },
  {
   "cell_type": "code",
   "execution_count": null,
   "metadata": {
    "ExecuteTime": {
     "end_time": "2018-11-07T19:18:45.313653Z",
     "start_time": "2018-11-07T19:18:45.298692Z"
    }
   },
   "outputs": [],
   "source": [
    "quick_load = True"
   ]
  },
  {
   "cell_type": "markdown",
   "metadata": {},
   "source": [
    "## Load the Label Matrix"
   ]
  },
  {
   "cell_type": "markdown",
   "metadata": {},
   "source": [
    "Before we begin training the generative model, we need to load label matricies for each training/testing set. This process involves extracting annotations from the postgress database shared on this local machine. "
   ]
  },
  {
   "cell_type": "code",
   "execution_count": null,
   "metadata": {
    "ExecuteTime": {
     "end_time": "2018-11-07T19:19:55.068252Z",
     "start_time": "2018-11-07T19:19:03.531Z"
    }
   },
   "outputs": [],
   "source": [
    "spreadsheet_names = {\n",
    "    'train': 'data/sentence_labels_train.xlsx',\n",
    "    'dev': 'data/sentence_labels_train_dev.xlsx',\n",
    "    'test': 'data/sentence_labels_dev.xlsx'\n",
    "}"
   ]
  },
  {
   "cell_type": "code",
   "execution_count": null,
   "metadata": {
    "ExecuteTime": {
     "end_time": "2018-11-07T19:19:55.071459Z",
     "start_time": "2018-11-07T19:19:03.532Z"
    }
   },
   "outputs": [],
   "source": [
    "candidate_dfs = {\n",
    "    key:load_candidate_dataframes(spreadsheet_names[key])\n",
    "    for key in spreadsheet_names\n",
    "}\n",
    "\n",
    "for key in candidate_dfs:\n",
    "    print(\"Size of {} set: {}\".format(key, candidate_dfs[key].shape[0]))"
   ]
  },
  {
   "cell_type": "code",
   "execution_count": null,
   "metadata": {
    "ExecuteTime": {
     "end_time": "2018-10-04T21:03:18.071984Z",
     "start_time": "2018-10-04T21:03:12.137242Z"
    }
   },
   "outputs": [],
   "source": [
    "label_functions = (\n",
    "    list(CD_LFS['CtD_DB'].values()) + \n",
    "    list(CD_LFS['CtD_TEXT'].values()) + \n",
    "    list(CD_LFS['CD_BICLUSTER'].values()) + \n",
    "    list(CG_LFS[\"CbG_TEXT\"].values())+\n",
    "    list(DG_LFS[\"DaG_TEXT\"].values())\n",
    ") \n",
    "\n",
    "if quick_load:\n",
    "    label_matricies = pickle.load(open(\"data/label_matricies.pkl\", \"rb\"))\n",
    "\n",
    "else:\n",
    "    label_matricies = {\n",
    "        key:label_candidates(\n",
    "            session,\n",
    "            candidates_dfs[key]['candidate_id'],\n",
    "            label_functions,\n",
    "            num_threads=10,\n",
    "            batch_size=candidates_dfs[key]['candidate_id'].shape[0]\n",
    "        )\n",
    "        for key in candidate_dfs\n",
    "    }\n",
    "    \n",
    "    pickle.dump(label_matricies, open(\"data/label_matricies.pkl\", \"wb\"))"
   ]
  },
  {
   "cell_type": "code",
   "execution_count": null,
   "metadata": {
    "ExecuteTime": {
     "end_time": "2018-10-04T21:03:18.146936Z",
     "start_time": "2018-10-04T21:03:18.073544Z"
    }
   },
   "outputs": [],
   "source": [
    "lf_names = [\n",
    "    label_matricies['test'].get_key(session, index).name \n",
    "    for index in range(label_matricies['test'].shape[1])\n",
    "]"
   ]
  },
  {
   "cell_type": "markdown",
   "metadata": {},
   "source": [
    "## Observe Label Function Properties"
   ]
  },
  {
   "cell_type": "markdown",
   "metadata": {},
   "source": [
    "Before training the generative model, it is a good idea to observe label functions and their output. In the cells below we take a look at generated heatmaps and observe the underlying structure."
   ]
  },
  {
   "cell_type": "code",
   "execution_count": null,
   "metadata": {
    "ExecuteTime": {
     "end_time": "2018-10-04T21:03:18.900637Z",
     "start_time": "2018-10-04T21:03:18.148212Z"
    }
   },
   "outputs": [],
   "source": [
    "plot_label_matrix_heatmap(label_matricies['train'].T, \n",
    "                          yaxis_tick_labels=lf_names, \n",
    "                          figsize=(10,13))"
   ]
  },
  {
   "cell_type": "markdown",
   "metadata": {},
   "source": [
    "# Train Generative Model"
   ]
  },
  {
   "cell_type": "code",
   "execution_count": null,
   "metadata": {
    "ExecuteTime": {
     "end_time": "2018-10-04T21:03:18.925187Z",
     "start_time": "2018-10-04T21:03:18.902021Z"
    }
   },
   "outputs": [],
   "source": [
    "cd_db = get_columns(session, label_matricies['train'], CD_LFS, \"CtD_DB\")\n",
    "cd_text = get_columns(session, label_matricies['train'], CD_LFS, \"CtD_TEXT\")\n",
    "cd_bicluster = get_columns(session, label_matricies['train'], CD_LFS, \"CD_BICLUSTER\")\n",
    "cg_text = get_columns(session, label_matricies['train'], CG_LFS, \"CbG_TEXT\")\n",
    "dg_text = get_columns(session, label_matricies['train'], DG_LFS, \"DaG_TEXT\")"
   ]
  },
  {
   "cell_type": "code",
   "execution_count": null,
   "metadata": {
    "ExecuteTime": {
     "end_time": "2018-10-04T21:03:18.972718Z",
     "start_time": "2018-10-04T21:03:18.930525Z"
    }
   },
   "outputs": [],
   "source": [
    "# Dictionary specifying the different models \n",
    "# for this analysis\n",
    "model_dict = {\n",
    "    \"CtD_DB\": cd_db,\n",
    "    \"CtD_TEXT\": cd_text,\n",
    "    \"CD_BICLUSTER\": cd_bicluster,\n",
    "    \"CbG_TEXT\": cg_text,\n",
    "    \"DaG_TEXT\": dg_text,\n",
    "    \"CtD_DB_TEXT\": cd_db+cd_text,\n",
    "    \"CtD_ALL\": cd_db+cd_text+cd_bicluster,\n",
    "    \"All_the_jawns\": cd_db+cd_text+cd_bicluster+cg_text+dg_text\n",
    "}   "
   ]
  },
  {
   "cell_type": "code",
   "execution_count": null,
   "metadata": {
    "ExecuteTime": {
     "end_time": "2018-10-04T21:03:19.016842Z",
     "start_time": "2018-10-04T21:03:18.974495Z"
    }
   },
   "outputs": [],
   "source": [
    "L = label_matricies['train'].toarray()\n",
    "L[L < 0] = 2\n",
    "L_dev = label_matricies['dev'].toarray()\n",
    "L_dev[L_dev < 0] = 2\n",
    "L_test = label_matricies['test'].toarray()\n",
    "L_test[L_test < 0] = 2\n",
    "\n",
    "label_model = LabelModel(k=2, seed=100)"
   ]
  },
  {
   "cell_type": "code",
   "execution_count": null,
   "metadata": {
    "ExecuteTime": {
     "end_time": "2018-10-04T21:06:15.633330Z",
     "start_time": "2018-10-04T21:03:19.018269Z"
    },
    "scrolled": true
   },
   "outputs": [],
   "source": [
    "reg_param_grid = pd.np.round(pd.np.linspace(1e-1, 1, num=30), 3)\n",
    "grid_results = defaultdict(dict)\n",
    "for model in tqdm_notebook(model_dict):\n",
    "    for reg_param in reg_param_grid:\n",
    "        label_model.train(L[:, model_dict[model]], n_epochs=1000, verbose=False, lr=0.01, l2=reg_param)\n",
    "        grid_results[model][str(reg_param)] = label_model.predict_proba(L_dev[:, model_dict[model]])[:,0]"
   ]
  },
  {
   "cell_type": "code",
   "execution_count": null,
   "metadata": {
    "ExecuteTime": {
     "end_time": "2018-10-04T21:06:18.291982Z",
     "start_time": "2018-10-04T21:06:15.635281Z"
    },
    "scrolled": false
   },
   "outputs": [],
   "source": [
    "for model in grid_results:\n",
    "    model_aucs = plot_roc_curve(pd.DataFrame.from_dict(grid_results[model]), candidate_dfs['dev'].curated_dsh, \n",
    "                               figsize=(16,6), model_type='scatterplot', plot_title=model)"
   ]
  },
  {
   "cell_type": "code",
   "execution_count": null,
   "metadata": {
    "ExecuteTime": {
     "end_time": "2018-10-04T21:06:24.420436Z",
     "start_time": "2018-10-04T21:06:18.293445Z"
    }
   },
   "outputs": [],
   "source": [
    "best_params = {\n",
    "    \"CtD_DB\":0.1,\n",
    "    \"CtD_TEXT\": 0.4,\n",
    "    \"CD_BICLUSTER\": 0.1,\n",
    "    \"CbG_TEXT\": 0.193,\n",
    "    \"DaG_TEXT\":0.1,\n",
    "    \"CtD_DB_TEXT\": 0.3,\n",
    "    \"CtD_ALL\": 0.814,\n",
    "    \"All_the_jawns\": 0.146\n",
    "}\n",
    "final_dev_model = {}\n",
    "final_test_model = {}\n",
    "for model in tqdm_notebook(best_params):\n",
    "    label_model.train(L[:, model_dict[model]], n_epochs=1000, verbose=False, lr=0.01, l2=best_params[model])\n",
    "    final_dev_model[model] = label_model.predict_proba(L_dev[:, model_dict[model]])[:,0]\n",
    "    final_test_model[model] = label_model.predict_proba(L_test[:, model_dict[model]])[:,0]"
   ]
  },
  {
   "cell_type": "code",
   "execution_count": null,
   "metadata": {
    "ExecuteTime": {
     "end_time": "2018-10-04T21:06:24.448856Z",
     "start_time": "2018-10-04T21:06:24.422080Z"
    }
   },
   "outputs": [],
   "source": [
    "dev_marginals_df = pd.DataFrame.from_dict(final_dev_model)\n",
    "dev_marginals_df.head(2)"
   ]
  },
  {
   "cell_type": "code",
   "execution_count": null,
   "metadata": {
    "ExecuteTime": {
     "end_time": "2018-10-04T21:06:24.477114Z",
     "start_time": "2018-10-04T21:06:24.450268Z"
    }
   },
   "outputs": [],
   "source": [
    "test_marginals_df = pd.DataFrame.from_dict(final_test_model)\n",
    "test_marginals_df.head(2)"
   ]
  },
  {
   "cell_type": "code",
   "execution_count": null,
   "metadata": {
    "ExecuteTime": {
     "end_time": "2018-10-04T21:18:35.751992Z",
     "start_time": "2018-10-04T21:18:35.531249Z"
    }
   },
   "outputs": [],
   "source": [
    "model_aucs = plot_roc_curve(dev_marginals_df, candidate_dfs['dev'].curated_dsh, model_type='barplot',\n",
    "                           xlim=[0.4,0.8])"
   ]
  },
  {
   "cell_type": "code",
   "execution_count": null,
   "metadata": {
    "ExecuteTime": {
     "end_time": "2018-10-04T21:18:37.313959Z",
     "start_time": "2018-10-04T21:18:37.280785Z"
    }
   },
   "outputs": [],
   "source": [
    "get_auc_significant_stats(candidate_dfs['dev'], model_aucs)"
   ]
  },
  {
   "cell_type": "code",
   "execution_count": null,
   "metadata": {
    "ExecuteTime": {
     "end_time": "2018-10-04T21:18:39.255209Z",
     "start_time": "2018-10-04T21:18:39.043060Z"
    }
   },
   "outputs": [],
   "source": [
    "model_aucs = plot_roc_curve(test_marginals_df, candidate_dfs['test'].curated_dsh, model_type='barplot',\n",
    "                           xlim=[0.4,0.8])"
   ]
  },
  {
   "cell_type": "code",
   "execution_count": null,
   "metadata": {
    "ExecuteTime": {
     "end_time": "2018-10-04T21:18:40.832551Z",
     "start_time": "2018-10-04T21:18:40.803891Z"
    }
   },
   "outputs": [],
   "source": [
    "get_auc_significant_stats(candidate_dfs['test'], model_aucs)"
   ]
  }
 ],
 "metadata": {
  "kernelspec": {
   "display_name": "Python [conda env:snorkeling]",
   "language": "python",
   "name": "conda-env-snorkeling-py"
  },
  "language_info": {
   "codemirror_mode": {
    "name": "ipython",
    "version": 3
   },
   "file_extension": ".py",
   "mimetype": "text/x-python",
   "name": "python",
   "nbconvert_exporter": "python",
   "pygments_lexer": "ipython3",
   "version": "3.6.4"
  }
 },
 "nbformat": 4,
 "nbformat_minor": 2
}
