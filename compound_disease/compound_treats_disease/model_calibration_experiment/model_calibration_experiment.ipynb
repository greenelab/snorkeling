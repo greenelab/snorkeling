{
 "cells": [
  {
   "cell_type": "code",
   "execution_count": 1,
   "metadata": {
    "ExecuteTime": {
     "end_time": "2019-12-19T20:18:56.945371Z",
     "start_time": "2019-12-19T20:18:55.988536Z"
    }
   },
   "outputs": [],
   "source": [
    "%load_ext autoreload\n",
    "%autoreload 2\n",
    "%matplotlib inline\n",
    "\n",
    "from collections import defaultdict\n",
    "import os\n",
    "import pickle\n",
    "import sys\n",
    "\n",
    "sys.path.append(os.path.abspath('../../../modules'))\n",
    "\n",
    "import plotnine as p9\n",
    "import pandas as pd\n",
    "from tqdm import tqdm_notebook\n",
    "\n",
    "from utils.notebook_utils.dataframe_helper import load_candidate_dataframes, mark_sentence"
   ]
  },
  {
   "cell_type": "code",
   "execution_count": 2,
   "metadata": {
    "ExecuteTime": {
     "end_time": "2019-12-19T20:18:57.113725Z",
     "start_time": "2019-12-19T20:18:56.946759Z"
    }
   },
   "outputs": [],
   "source": [
    "#Set up the environment\n",
    "username = \"danich1\"\n",
    "password = \"snorkel\"\n",
    "dbname = \"pubmeddb\"\n",
    "\n",
    "#Path subject to change for different os\n",
    "database_str = \"postgresql+psycopg2://{}:{}@/{}?host=/var/run/postgresql\".format(username, password, dbname)\n",
    "os.environ['SNORKELDB'] = database_str\n",
    "\n",
    "from snorkel import SnorkelSession\n",
    "session = SnorkelSession()"
   ]
  },
  {
   "cell_type": "code",
   "execution_count": 3,
   "metadata": {
    "ExecuteTime": {
     "end_time": "2019-12-19T20:18:57.504686Z",
     "start_time": "2019-12-19T20:18:57.115473Z"
    }
   },
   "outputs": [],
   "source": [
    "from snorkel.learning.pytorch.rnn.utils import candidate_to_tokens\n",
    "from snorkel.models import Candidate, candidate_subclass"
   ]
  },
  {
   "cell_type": "code",
   "execution_count": 4,
   "metadata": {
    "ExecuteTime": {
     "end_time": "2019-12-19T20:18:57.528537Z",
     "start_time": "2019-12-19T20:18:57.506446Z"
    }
   },
   "outputs": [],
   "source": [
    "CompoundDisease = candidate_subclass('CompoundDisease', ['Compound', 'Disease'])"
   ]
  },
  {
   "cell_type": "code",
   "execution_count": 5,
   "metadata": {
    "ExecuteTime": {
     "end_time": "2019-12-19T20:18:57.620854Z",
     "start_time": "2019-12-19T20:18:57.529732Z"
    }
   },
   "outputs": [],
   "source": [
    "def tag_sentence(x):\n",
    "    candidates=(\n",
    "        session\n",
    "        .query(CompoundDisease)\n",
    "        .filter(CompoundDisease.id.in_(x.candidate_id.astype(int).tolist()))\n",
    "        .all()\n",
    "    )\n",
    "    tagged_sen=[\n",
    "         \" \".join(\n",
    "             mark_sentence(\n",
    "                candidate_to_tokens(cand), \n",
    "                [\n",
    "                        (cand[0].get_word_start(), cand[0].get_word_end(), 1),\n",
    "                        (cand[1].get_word_start(), cand[1].get_word_end(), 2)\n",
    "                ]\n",
    "            )\n",
    "         )\n",
    "        for cand in candidates\n",
    "    ]\n",
    "\n",
    "    return tagged_sen"
   ]
  },
  {
   "cell_type": "code",
   "execution_count": 6,
   "metadata": {
    "ExecuteTime": {
     "end_time": "2019-12-19T20:18:57.703295Z",
     "start_time": "2019-12-19T20:18:57.624836Z"
    }
   },
   "outputs": [],
   "source": [
    "spreadsheet_names = {\n",
    "    #'train': '../data/sentences/sentence_labels_train.xlsx',\n",
    "    'dev': '../data/sentences/sentence_labels_dev.xlsx',\n",
    "    'test': '../data/sentences/sentence_labels_test.xlsx'\n",
    "}"
   ]
  },
  {
   "cell_type": "code",
   "execution_count": 7,
   "metadata": {
    "ExecuteTime": {
     "end_time": "2019-12-19T20:18:59.556524Z",
     "start_time": "2019-12-19T20:18:57.704864Z"
    }
   },
   "outputs": [
    {
     "name": "stdout",
     "output_type": "stream",
     "text": [
      "Size of dev set: 500\n",
      "Size of test set: 500\n"
     ]
    }
   ],
   "source": [
    "candidate_dfs = {\n",
    "    key:load_candidate_dataframes(spreadsheet_names[key], \"curated_ctd\")\n",
    "    for key in spreadsheet_names\n",
    "}\n",
    "\n",
    "for key in candidate_dfs:\n",
    "    print(\"Size of {} set: {}\".format(key, candidate_dfs[key].shape[0]))"
   ]
  },
  {
   "cell_type": "code",
   "execution_count": 8,
   "metadata": {
    "ExecuteTime": {
     "end_time": "2019-12-19T20:18:59.588873Z",
     "start_time": "2019-12-19T20:18:59.558954Z"
    }
   },
   "outputs": [
    {
     "data": {
      "text/html": [
       "<div>\n",
       "<style scoped>\n",
       "    .dataframe tbody tr th:only-of-type {\n",
       "        vertical-align: middle;\n",
       "    }\n",
       "\n",
       "    .dataframe tbody tr th {\n",
       "        vertical-align: top;\n",
       "    }\n",
       "\n",
       "    .dataframe thead th {\n",
       "        text-align: right;\n",
       "    }\n",
       "</style>\n",
       "<table border=\"1\" class=\"dataframe\">\n",
       "  <thead>\n",
       "    <tr style=\"text-align: right;\">\n",
       "      <th></th>\n",
       "      <th>uncal</th>\n",
       "      <th>cal</th>\n",
       "      <th>candidate_id</th>\n",
       "    </tr>\n",
       "  </thead>\n",
       "  <tbody>\n",
       "    <tr>\n",
       "      <th>0</th>\n",
       "      <td>0.064725</td>\n",
       "      <td>0.181463</td>\n",
       "      <td>65897</td>\n",
       "    </tr>\n",
       "    <tr>\n",
       "      <th>1</th>\n",
       "      <td>0.152408</td>\n",
       "      <td>0.275308</td>\n",
       "      <td>65932</td>\n",
       "    </tr>\n",
       "  </tbody>\n",
       "</table>\n",
       "</div>"
      ],
      "text/plain": [
       "      uncal       cal  candidate_id\n",
       "0  0.064725  0.181463         65897\n",
       "1  0.152408  0.275308         65932"
      ]
     },
     "execution_count": 8,
     "metadata": {},
     "output_type": "execute_result"
    }
   ],
   "source": [
    "dev_predictions_df = pd.read_table(\"input/calibrated_tune.tsv\")\n",
    "dev_predictions_df.head(2)"
   ]
  },
  {
   "cell_type": "code",
   "execution_count": 9,
   "metadata": {
    "ExecuteTime": {
     "end_time": "2019-12-19T20:18:59.615397Z",
     "start_time": "2019-12-19T20:18:59.590630Z"
    }
   },
   "outputs": [
    {
     "data": {
      "text/html": [
       "<div>\n",
       "<style scoped>\n",
       "    .dataframe tbody tr th:only-of-type {\n",
       "        vertical-align: middle;\n",
       "    }\n",
       "\n",
       "    .dataframe tbody tr th {\n",
       "        vertical-align: top;\n",
       "    }\n",
       "\n",
       "    .dataframe thead th {\n",
       "        text-align: right;\n",
       "    }\n",
       "</style>\n",
       "<table border=\"1\" class=\"dataframe\">\n",
       "  <thead>\n",
       "    <tr style=\"text-align: right;\">\n",
       "      <th></th>\n",
       "      <th>candidate_id</th>\n",
       "      <th>curated_ctd</th>\n",
       "    </tr>\n",
       "  </thead>\n",
       "  <tbody>\n",
       "    <tr>\n",
       "      <th>0</th>\n",
       "      <td>65897</td>\n",
       "      <td>0.0</td>\n",
       "    </tr>\n",
       "    <tr>\n",
       "      <th>1</th>\n",
       "      <td>65932</td>\n",
       "      <td>0.0</td>\n",
       "    </tr>\n",
       "  </tbody>\n",
       "</table>\n",
       "</div>"
      ],
      "text/plain": [
       "   candidate_id  curated_ctd\n",
       "0         65897          0.0\n",
       "1         65932          0.0"
      ]
     },
     "execution_count": 9,
     "metadata": {},
     "output_type": "execute_result"
    }
   ],
   "source": [
    "dev_labels = pd.read_csv(\"../disc_model_experiment/input/ctd_dev_labels.tsv\", sep=\"\\t\")\n",
    "dev_labels.head(2)"
   ]
  },
  {
   "cell_type": "code",
   "execution_count": 10,
   "metadata": {
    "ExecuteTime": {
     "end_time": "2019-12-19T20:19:06.120699Z",
     "start_time": "2019-12-19T20:18:59.616613Z"
    }
   },
   "outputs": [
    {
     "name": "stderr",
     "output_type": "stream",
     "text": [
      "/home/danich1/.local/lib/python3.6/site-packages/IPython/core/interactiveshell.py:3058: DtypeWarning: Columns (3,6,7) have mixed types. Specify dtype option on import or set low_memory=False.\n",
      "  interactivity=interactivity, compiler=compiler, result=result)\n"
     ]
    },
    {
     "data": {
      "text/html": [
       "<div>\n",
       "<style scoped>\n",
       "    .dataframe tbody tr th:only-of-type {\n",
       "        vertical-align: middle;\n",
       "    }\n",
       "\n",
       "    .dataframe tbody tr th {\n",
       "        vertical-align: top;\n",
       "    }\n",
       "\n",
       "    .dataframe thead th {\n",
       "        text-align: right;\n",
       "    }\n",
       "</style>\n",
       "<table border=\"1\" class=\"dataframe\">\n",
       "  <thead>\n",
       "    <tr style=\"text-align: right;\">\n",
       "      <th></th>\n",
       "      <th>doid_id</th>\n",
       "      <th>doid_name</th>\n",
       "      <th>resource</th>\n",
       "      <th>resource_id</th>\n",
       "      <th>drugbank_id</th>\n",
       "      <th>drug_name</th>\n",
       "      <th>disease</th>\n",
       "      <th>sources</th>\n",
       "      <th>hetionet</th>\n",
       "      <th>n_sentences</th>\n",
       "      <th>has_sentence</th>\n",
       "      <th>partition_rank</th>\n",
       "      <th>split</th>\n",
       "      <th>compound_mention_count</th>\n",
       "      <th>disease_mention_count</th>\n",
       "      <th>gene_mention_count</th>\n",
       "      <th>sentence_id</th>\n",
       "      <th>text</th>\n",
       "      <th>sen_length</th>\n",
       "      <th>candidate_id</th>\n",
       "    </tr>\n",
       "  </thead>\n",
       "  <tbody>\n",
       "    <tr>\n",
       "      <th>0</th>\n",
       "      <td>DOID:2531</td>\n",
       "      <td>hematologic cancer</td>\n",
       "      <td>CSP</td>\n",
       "      <td>2004-1600</td>\n",
       "      <td>DB00007</td>\n",
       "      <td>Leuprolide</td>\n",
       "      <td>NaN</td>\n",
       "      <td>NaN</td>\n",
       "      <td>0</td>\n",
       "      <td>6</td>\n",
       "      <td>1</td>\n",
       "      <td>0.58699</td>\n",
       "      <td>9</td>\n",
       "      <td>1.0</td>\n",
       "      <td>1.0</td>\n",
       "      <td>0.0</td>\n",
       "      <td>77006168</td>\n",
       "      <td>Follicular mucinosis and mycosis-fungoides-lik...</td>\n",
       "      <td>16</td>\n",
       "      <td>26220260</td>\n",
       "    </tr>\n",
       "    <tr>\n",
       "      <th>1</th>\n",
       "      <td>DOID:2531</td>\n",
       "      <td>hematologic cancer</td>\n",
       "      <td>CSP</td>\n",
       "      <td>2004-1600</td>\n",
       "      <td>DB00007</td>\n",
       "      <td>Leuprolide</td>\n",
       "      <td>NaN</td>\n",
       "      <td>NaN</td>\n",
       "      <td>0</td>\n",
       "      <td>6</td>\n",
       "      <td>1</td>\n",
       "      <td>0.58699</td>\n",
       "      <td>9</td>\n",
       "      <td>1.0</td>\n",
       "      <td>1.0</td>\n",
       "      <td>0.0</td>\n",
       "      <td>77006178</td>\n",
       "      <td>We report an unusual case of disseminated urti...</td>\n",
       "      <td>35</td>\n",
       "      <td>26208290</td>\n",
       "    </tr>\n",
       "  </tbody>\n",
       "</table>\n",
       "</div>"
      ],
      "text/plain": [
       "     doid_id           doid_name resource resource_id drugbank_id   drug_name  \\\n",
       "0  DOID:2531  hematologic cancer      CSP   2004-1600     DB00007  Leuprolide   \n",
       "1  DOID:2531  hematologic cancer      CSP   2004-1600     DB00007  Leuprolide   \n",
       "\n",
       "  disease sources  hetionet  n_sentences  has_sentence  partition_rank  split  \\\n",
       "0     NaN     NaN         0            6             1         0.58699      9   \n",
       "1     NaN     NaN         0            6             1         0.58699      9   \n",
       "\n",
       "   compound_mention_count  disease_mention_count  gene_mention_count  \\\n",
       "0                     1.0                    1.0                 0.0   \n",
       "1                     1.0                    1.0                 0.0   \n",
       "\n",
       "   sentence_id                                               text  sen_length  \\\n",
       "0     77006168  Follicular mucinosis and mycosis-fungoides-lik...          16   \n",
       "1     77006178  We report an unusual case of disseminated urti...          35   \n",
       "\n",
       "   candidate_id  \n",
       "0      26220260  \n",
       "1      26208290  "
      ]
     },
     "execution_count": 10,
     "metadata": {},
     "output_type": "execute_result"
    }
   ],
   "source": [
    "total_candidates_df = pd.read_csv(\"../dataset_statistics/results/all_ctd_map.tsv.xz\", sep=\"\\t\")\n",
    "total_candidates_df.head(2)"
   ]
  },
  {
   "cell_type": "code",
   "execution_count": 11,
   "metadata": {
    "ExecuteTime": {
     "end_time": "2019-12-19T20:19:07.757098Z",
     "start_time": "2019-12-19T20:19:06.121954Z"
    }
   },
   "outputs": [
    {
     "data": {
      "text/html": [
       "<div>\n",
       "<style scoped>\n",
       "    .dataframe tbody tr th:only-of-type {\n",
       "        vertical-align: middle;\n",
       "    }\n",
       "\n",
       "    .dataframe tbody tr th {\n",
       "        vertical-align: top;\n",
       "    }\n",
       "\n",
       "    .dataframe thead th {\n",
       "        text-align: right;\n",
       "    }\n",
       "</style>\n",
       "<table border=\"1\" class=\"dataframe\">\n",
       "  <thead>\n",
       "    <tr style=\"text-align: right;\">\n",
       "      <th></th>\n",
       "      <th>drug_name</th>\n",
       "      <th>doid_name</th>\n",
       "      <th>text</th>\n",
       "      <th>candidate_id</th>\n",
       "      <th>uncal</th>\n",
       "      <th>cal</th>\n",
       "      <th>curated_ctd</th>\n",
       "    </tr>\n",
       "  </thead>\n",
       "  <tbody>\n",
       "    <tr>\n",
       "      <th>125</th>\n",
       "      <td>Sulfamethazine</td>\n",
       "      <td>multiple sclerosis</td>\n",
       "      <td>quantitation and confirmation of ~~[[1 sulfame...</td>\n",
       "      <td>892274</td>\n",
       "      <td>0.017236</td>\n",
       "      <td>0.092730</td>\n",
       "      <td>0.0</td>\n",
       "    </tr>\n",
       "    <tr>\n",
       "      <th>156</th>\n",
       "      <td>Creatine</td>\n",
       "      <td>coronary artery disease</td>\n",
       "      <td>the value of the electrocardiogram in assessin...</td>\n",
       "      <td>125474</td>\n",
       "      <td>0.021912</td>\n",
       "      <td>0.105017</td>\n",
       "      <td>0.0</td>\n",
       "    </tr>\n",
       "  </tbody>\n",
       "</table>\n",
       "</div>"
      ],
      "text/plain": [
       "          drug_name                doid_name  \\\n",
       "125  Sulfamethazine       multiple sclerosis   \n",
       "156        Creatine  coronary artery disease   \n",
       "\n",
       "                                                  text  candidate_id  \\\n",
       "125  quantitation and confirmation of ~~[[1 sulfame...        892274   \n",
       "156  the value of the electrocardiogram in assessin...        125474   \n",
       "\n",
       "        uncal       cal  curated_ctd  \n",
       "125  0.017236  0.092730          0.0  \n",
       "156  0.021912  0.105017          0.0  "
      ]
     },
     "execution_count": 11,
     "metadata": {},
     "output_type": "execute_result"
    }
   ],
   "source": [
    "confidence_score_df = (\n",
    "    total_candidates_df\n",
    "    [[\"drug_name\", \"doid_name\", \"text\", \"candidate_id\"]]\n",
    "    .merge(dev_predictions_df, on=\"candidate_id\")\n",
    "    .merge(dev_labels, on=\"candidate_id\")\n",
    "    .sort_values(\"candidate_id\")\n",
    "    .assign(text=lambda x: tag_sentence(x))\n",
    "    .sort_values(\"cal\")\n",
    ")\n",
    "confidence_score_df.head(2)"
   ]
  },
  {
   "cell_type": "code",
   "execution_count": 12,
   "metadata": {
    "ExecuteTime": {
     "end_time": "2019-12-19T20:19:07.782663Z",
     "start_time": "2019-12-19T20:19:07.758375Z"
    }
   },
   "outputs": [],
   "source": [
    "(\n",
    "    confidence_score_df\n",
    "    .head(10)\n",
    "    .sort_values(\"cal\", ascending=False)\n",
    "    .drop(\"candidate_id\", axis=1)\n",
    "    .round(3)\n",
    "    .to_csv(\"output/bottom_ten_high_confidence_scores.tsv\", sep=\"\\t\", index=False)\n",
    ")"
   ]
  },
  {
   "cell_type": "code",
   "execution_count": 13,
   "metadata": {
    "ExecuteTime": {
     "end_time": "2019-12-19T20:19:07.807879Z",
     "start_time": "2019-12-19T20:19:07.783846Z"
    }
   },
   "outputs": [],
   "source": [
    "(\n",
    "    confidence_score_df\n",
    "    .tail(10)\n",
    "    .sort_values(\"cal\", ascending=False)\n",
    "    .drop(\"candidate_id\", axis=1)\n",
    "    .round(3)\n",
    "    .to_csv(\"output/top_ten_high_confidence_scores.tsv\", sep=\"\\t\", index=False)\n",
    ")"
   ]
  },
  {
   "cell_type": "code",
   "execution_count": 14,
   "metadata": {
    "ExecuteTime": {
     "end_time": "2019-12-19T20:19:07.862791Z",
     "start_time": "2019-12-19T20:19:07.809078Z"
    }
   },
   "outputs": [],
   "source": [
    "from sklearn.calibration import calibration_curve\n",
    "cnn_y, cnn_x = calibration_curve(confidence_score_df.curated_ctd, confidence_score_df.uncal, n_bins=10)\n",
    "all_cnn_y, all_cnn_x = calibration_curve(confidence_score_df.curated_ctd, confidence_score_df.cal, n_bins=10)\n",
    "\n",
    "\n",
    "calibration_df = pd.DataFrame.from_records(\n",
    "    list(map(lambda x: {\"predicted\":x[0], \"actual\": x[1], \"model_calibration\":'before'}, zip(cnn_x, cnn_y)))\n",
    "    + list(map(lambda x: {\"predicted\":x[0], \"actual\": x[1], \"model_calibration\":'after'}, zip(all_cnn_x, all_cnn_y)))\n",
    ")\n",
    "calibration_df.to_csv(\"output/ctd_calibration.tsv\", sep=\"\\t\", index=False)"
   ]
  },
  {
   "cell_type": "code",
   "execution_count": 15,
   "metadata": {
    "ExecuteTime": {
     "end_time": "2019-12-19T20:19:08.291141Z",
     "start_time": "2019-12-19T20:19:07.863988Z"
    }
   },
   "outputs": [
    {
     "data": {
      "image/png": "[encoded data removed]",
      "text/plain": [
       "<Figure size 640x480 with 1 Axes>"
      ]
     },
     "metadata": {},
     "output_type": "display_data"
    },
    {
     "data": {
      "text/plain": [
       "<ggplot: (-9223363301144528654)>"
      ]
     },
     "execution_count": 15,
     "metadata": {},
     "output_type": "execute_result"
    }
   ],
   "source": [
    "(\n",
    "    p9.ggplot(calibration_df, p9.aes(x=\"predicted\", y=\"actual\", color=\"model_calibration\"))\n",
    "    + p9.geom_point()\n",
    "    + p9.geom_line(p9.aes(group=\"factor(model_calibration)\"))\n",
    "    + p9.geom_abline(intercept=0, slope=1, linetype='dashed')\n",
    "    + p9.scale_y_continuous(limits=[0,1])\n",
    "    + p9.scale_x_continuous(limits=[0,1])\n",
    "    + p9.theme_bw()\n",
    ")"
   ]
  }
 ],
 "metadata": {
  "kernelspec": {
   "display_name": "Python [conda env:snorkel_db]",
   "language": "python",
   "name": "conda-env-snorkel_db-py"
  },
  "language_info": {
   "codemirror_mode": {
    "name": "ipython",
    "version": 3
   },
   "file_extension": ".py",
   "mimetype": "text/x-python",
   "name": "python",
   "nbconvert_exporter": "python",
   "pygments_lexer": "ipython3",
   "version": "3.6.0"
  },
  "toc": {
   "base_numbering": 1,
   "nav_menu": {},
   "number_sections": true,
   "sideBar": true,
   "skip_h1_title": false,
   "title_cell": "Table of Contents",
   "title_sidebar": "Contents",
   "toc_cell": false,
   "toc_position": {},
   "toc_section_display": true,
   "toc_window_display": false
  },
  "varInspector": {
   "cols": {
    "lenName": 16,
    "lenType": 16,
    "lenVar": 40
   },
   "kernels_config": {
    "python": {
     "delete_cmd_postfix": "",
     "delete_cmd_prefix": "del ",
     "library": "var_list.py",
     "varRefreshCmd": "print(var_dic_list())"
    },
    "r": {
     "delete_cmd_postfix": ") ",
     "delete_cmd_prefix": "rm(",
     "library": "var_list.r",
     "varRefreshCmd": "cat(var_dic_list()) "
    }
   },
   "types_to_exclude": [
    "module",
    "function",
    "builtin_function_or_method",
    "instance",
    "_Feature"
   ],
   "window_display": false
  }
 },
 "nbformat": 4,
 "nbformat_minor": 2
}
