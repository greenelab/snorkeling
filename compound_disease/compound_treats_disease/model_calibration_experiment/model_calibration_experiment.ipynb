{
 "cells": [
  {
   "cell_type": "code",
   "execution_count": 1,
   "metadata": {
    "ExecuteTime": {
     "end_time": "2019-07-29T18:21:02.873246Z",
     "start_time": "2019-07-29T18:21:01.726866Z"
    }
   },
   "outputs": [],
   "source": [
    "%load_ext autoreload\n",
    "%autoreload 2\n",
    "%matplotlib inline\n",
    "\n",
    "from collections import defaultdict\n",
    "import os\n",
    "import pickle\n",
    "import sys\n",
    "\n",
    "sys.path.append(os.path.abspath('../../../modules'))\n",
    "\n",
    "import matplotlib.pyplot as plt\n",
    "import pandas as pd\n",
    "import seaborn as sns\n",
    "from tqdm import tqdm_notebook\n",
    "\n",
    "from utils.notebook_utils.dataframe_helper import load_candidate_dataframes, mark_sentence"
   ]
  },
  {
   "cell_type": "code",
   "execution_count": 2,
   "metadata": {
    "ExecuteTime": {
     "end_time": "2019-07-29T18:21:03.211769Z",
     "start_time": "2019-07-29T18:21:02.878934Z"
    }
   },
   "outputs": [],
   "source": [
    "#Set up the environment\n",
    "username = \"danich1\"\n",
    "password = \"snorkel\"\n",
    "dbname = \"pubmeddb\"\n",
    "\n",
    "#Path subject to change for different os\n",
    "database_str = \"postgresql+psycopg2://{}:{}@/{}?host=/var/run/postgresql\".format(username, password, dbname)\n",
    "os.environ['SNORKELDB'] = database_str\n",
    "\n",
    "from snorkel import SnorkelSession\n",
    "session = SnorkelSession()"
   ]
  },
  {
   "cell_type": "code",
   "execution_count": 3,
   "metadata": {
    "ExecuteTime": {
     "end_time": "2019-07-29T18:21:03.875976Z",
     "start_time": "2019-07-29T18:21:03.217542Z"
    }
   },
   "outputs": [],
   "source": [
    "from snorkel.learning.pytorch.rnn.utils import candidate_to_tokens\n",
    "from snorkel.models import Candidate, candidate_subclass"
   ]
  },
  {
   "cell_type": "code",
   "execution_count": 4,
   "metadata": {
    "ExecuteTime": {
     "end_time": "2019-07-29T18:21:03.926484Z",
     "start_time": "2019-07-29T18:21:03.878319Z"
    }
   },
   "outputs": [],
   "source": [
    "CompoundDisease = candidate_subclass('CompoundDisease', ['Compound', 'Disease'])"
   ]
  },
  {
   "cell_type": "code",
   "execution_count": 5,
   "metadata": {
    "ExecuteTime": {
     "end_time": "2019-07-29T18:21:03.961525Z",
     "start_time": "2019-07-29T18:21:03.927726Z"
    }
   },
   "outputs": [],
   "source": [
    "def tag_sentence(x):\n",
    "    candidates=(\n",
    "        session\n",
    "        .query(CompoundDisease)\n",
    "        .filter(CompoundDisease.id.in_(x.candidate_id.astype(int).tolist()))\n",
    "        .all()\n",
    "    )\n",
    "    tagged_sen=[\n",
    "         \" \".join(\n",
    "             mark_sentence(\n",
    "                candidate_to_tokens(cand), \n",
    "                [\n",
    "                        (cand[0].get_word_start(), cand[0].get_word_end(), 1),\n",
    "                        (cand[1].get_word_start(), cand[1].get_word_end(), 2)\n",
    "                ]\n",
    "            )\n",
    "         )\n",
    "        for cand in candidates\n",
    "    ]\n",
    "\n",
    "    return tagged_sen"
   ]
  },
  {
   "cell_type": "code",
   "execution_count": 6,
   "metadata": {
    "ExecuteTime": {
     "end_time": "2019-07-29T18:21:04.002810Z",
     "start_time": "2019-07-29T18:21:03.962799Z"
    }
   },
   "outputs": [],
   "source": [
    "spreadsheet_names = {\n",
    "    #'train': '../data/sentences/sentence_labels_train.xlsx',\n",
    "    'dev': '../data/sentences/sentence_labels_dev.xlsx',\n",
    "    'test': '../data/sentences/sentence_labels_test.xlsx'\n",
    "}"
   ]
  },
  {
   "cell_type": "code",
   "execution_count": 7,
   "metadata": {
    "ExecuteTime": {
     "end_time": "2019-07-29T18:21:06.376665Z",
     "start_time": "2019-07-29T18:21:04.004049Z"
    }
   },
   "outputs": [
    {
     "name": "stdout",
     "output_type": "stream",
     "text": [
      "Size of dev set: 500\n",
      "Size of test set: 500\n"
     ]
    }
   ],
   "source": [
    "candidate_dfs = {\n",
    "    key:load_candidate_dataframes(spreadsheet_names[key], \"curated_ctd\")\n",
    "    for key in spreadsheet_names\n",
    "}\n",
    "\n",
    "for key in candidate_dfs:\n",
    "    print(\"Size of {} set: {}\".format(key, candidate_dfs[key].shape[0]))"
   ]
  },
  {
   "cell_type": "code",
   "execution_count": 8,
   "metadata": {
    "ExecuteTime": {
     "end_time": "2019-07-29T18:21:06.423653Z",
     "start_time": "2019-07-29T18:21:06.381816Z"
    }
   },
   "outputs": [
    {
     "data": {
      "text/html": [
       "<div>\n",
       "<style scoped>\n",
       "    .dataframe tbody tr th:only-of-type {\n",
       "        vertical-align: middle;\n",
       "    }\n",
       "\n",
       "    .dataframe tbody tr th {\n",
       "        vertical-align: top;\n",
       "    }\n",
       "\n",
       "    .dataframe thead th {\n",
       "        text-align: right;\n",
       "    }\n",
       "</style>\n",
       "<table border=\"1\" class=\"dataframe\">\n",
       "  <thead>\n",
       "    <tr style=\"text-align: right;\">\n",
       "      <th></th>\n",
       "      <th>model_predictions</th>\n",
       "      <th>candidate_id</th>\n",
       "    </tr>\n",
       "  </thead>\n",
       "  <tbody>\n",
       "    <tr>\n",
       "      <th>0</th>\n",
       "      <td>0.217591</td>\n",
       "      <td>65897</td>\n",
       "    </tr>\n",
       "    <tr>\n",
       "      <th>1</th>\n",
       "      <td>0.117172</td>\n",
       "      <td>65932</td>\n",
       "    </tr>\n",
       "  </tbody>\n",
       "</table>\n",
       "</div>"
      ],
      "text/plain": [
       "   model_predictions  candidate_id\n",
       "0           0.217591         65897\n",
       "1           0.117172         65932"
      ]
     },
     "execution_count": 8,
     "metadata": {},
     "output_type": "execute_result"
    }
   ],
   "source": [
    "dev_predictions_df = pd.read_table(\"results/before_22_sampled_lfs.tsv_dev.tsv\")\n",
    "dev_predictions_df.columns = [\"model_predictions\", \"candidate_id\"]\n",
    "dev_predictions_df.head(2)"
   ]
  },
  {
   "cell_type": "code",
   "execution_count": 9,
   "metadata": {
    "ExecuteTime": {
     "end_time": "2019-07-29T18:21:06.487300Z",
     "start_time": "2019-07-29T18:21:06.440637Z"
    }
   },
   "outputs": [
    {
     "data": {
      "text/html": [
       "<div>\n",
       "<style scoped>\n",
       "    .dataframe tbody tr th:only-of-type {\n",
       "        vertical-align: middle;\n",
       "    }\n",
       "\n",
       "    .dataframe tbody tr th {\n",
       "        vertical-align: top;\n",
       "    }\n",
       "\n",
       "    .dataframe thead th {\n",
       "        text-align: right;\n",
       "    }\n",
       "</style>\n",
       "<table border=\"1\" class=\"dataframe\">\n",
       "  <thead>\n",
       "    <tr style=\"text-align: right;\">\n",
       "      <th></th>\n",
       "      <th>curated_ctd</th>\n",
       "      <th>model_predictions</th>\n",
       "      <th>candidate_id</th>\n",
       "    </tr>\n",
       "  </thead>\n",
       "  <tbody>\n",
       "    <tr>\n",
       "      <th>0</th>\n",
       "      <td>0.0</td>\n",
       "      <td>0.22</td>\n",
       "      <td>65897</td>\n",
       "    </tr>\n",
       "    <tr>\n",
       "      <th>1</th>\n",
       "      <td>0.0</td>\n",
       "      <td>0.12</td>\n",
       "      <td>65932</td>\n",
       "    </tr>\n",
       "  </tbody>\n",
       "</table>\n",
       "</div>"
      ],
      "text/plain": [
       "   curated_ctd  model_predictions  candidate_id\n",
       "0          0.0               0.22         65897\n",
       "1          0.0               0.12         65932"
      ]
     },
     "execution_count": 9,
     "metadata": {},
     "output_type": "execute_result"
    }
   ],
   "source": [
    "model_predictions_df = (\n",
    "    candidate_dfs['dev']\n",
    "    .merge(dev_predictions_df)\n",
    "    [[\"curated_ctd\", \"model_predictions\", \"candidate_id\"]]\n",
    "    .round(2)\n",
    ")\n",
    "model_predictions_df.head(2)"
   ]
  },
  {
   "cell_type": "code",
   "execution_count": 10,
   "metadata": {
    "ExecuteTime": {
     "end_time": "2019-07-29T18:21:06.536011Z",
     "start_time": "2019-07-29T18:21:06.490115Z"
    }
   },
   "outputs": [
    {
     "data": {
      "text/html": [
       "<div>\n",
       "<style scoped>\n",
       "    .dataframe tbody tr th:only-of-type {\n",
       "        vertical-align: middle;\n",
       "    }\n",
       "\n",
       "    .dataframe tbody tr th {\n",
       "        vertical-align: top;\n",
       "    }\n",
       "\n",
       "    .dataframe thead th {\n",
       "        text-align: right;\n",
       "    }\n",
       "</style>\n",
       "<table border=\"1\" class=\"dataframe\">\n",
       "  <thead>\n",
       "    <tr style=\"text-align: right;\">\n",
       "      <th></th>\n",
       "      <th>candidate_id</th>\n",
       "      <th>model_predictions_after</th>\n",
       "    </tr>\n",
       "  </thead>\n",
       "  <tbody>\n",
       "    <tr>\n",
       "      <th>0</th>\n",
       "      <td>65897</td>\n",
       "      <td>0.452902</td>\n",
       "    </tr>\n",
       "    <tr>\n",
       "      <th>1</th>\n",
       "      <td>65932</td>\n",
       "      <td>0.426005</td>\n",
       "    </tr>\n",
       "  </tbody>\n",
       "</table>\n",
       "</div>"
      ],
      "text/plain": [
       "   candidate_id  model_predictions_after\n",
       "0         65897                 0.452902\n",
       "1         65932                 0.426005"
      ]
     },
     "execution_count": 10,
     "metadata": {},
     "output_type": "execute_result"
    }
   ],
   "source": [
    "dev_all_predictions_df = pd.read_table(\"results/after_22_sampled_lfs.tsv_dev.tsv\")\n",
    "dev_all_predictions_df.columns = [\"candidate_id\", \"model_predictions_after\"]\n",
    "dev_all_predictions_df.head(2)"
   ]
  },
  {
   "cell_type": "code",
   "execution_count": 11,
   "metadata": {
    "ExecuteTime": {
     "end_time": "2019-07-29T18:21:19.273437Z",
     "start_time": "2019-07-29T18:21:06.537974Z"
    }
   },
   "outputs": [
    {
     "name": "stderr",
     "output_type": "stream",
     "text": [
      "/home/danich1/anaconda2/envs/snorkeling/lib/python3.6/site-packages/IPython/core/interactiveshell.py:2785: DtypeWarning: Columns (3,6,7) have mixed types. Specify dtype option on import or set low_memory=False.\n",
      "  interactivity=interactivity, compiler=compiler, result=result)\n"
     ]
    },
    {
     "data": {
      "text/html": [
       "<div>\n",
       "<style scoped>\n",
       "    .dataframe tbody tr th:only-of-type {\n",
       "        vertical-align: middle;\n",
       "    }\n",
       "\n",
       "    .dataframe tbody tr th {\n",
       "        vertical-align: top;\n",
       "    }\n",
       "\n",
       "    .dataframe thead th {\n",
       "        text-align: right;\n",
       "    }\n",
       "</style>\n",
       "<table border=\"1\" class=\"dataframe\">\n",
       "  <thead>\n",
       "    <tr style=\"text-align: right;\">\n",
       "      <th></th>\n",
       "      <th>doid_id</th>\n",
       "      <th>doid_name</th>\n",
       "      <th>resource</th>\n",
       "      <th>resource_id</th>\n",
       "      <th>drugbank_id</th>\n",
       "      <th>drug_name</th>\n",
       "      <th>disease</th>\n",
       "      <th>sources</th>\n",
       "      <th>hetionet</th>\n",
       "      <th>n_sentences</th>\n",
       "      <th>has_sentence</th>\n",
       "      <th>partition_rank</th>\n",
       "      <th>split</th>\n",
       "      <th>compound_mention_count</th>\n",
       "      <th>disease_mention_count</th>\n",
       "      <th>gene_mention_count</th>\n",
       "      <th>sentence_id</th>\n",
       "      <th>text</th>\n",
       "      <th>sen_length</th>\n",
       "      <th>candidate_id</th>\n",
       "    </tr>\n",
       "  </thead>\n",
       "  <tbody>\n",
       "    <tr>\n",
       "      <th>0</th>\n",
       "      <td>DOID:2531</td>\n",
       "      <td>hematologic cancer</td>\n",
       "      <td>CSP</td>\n",
       "      <td>2004-1600</td>\n",
       "      <td>DB00007</td>\n",
       "      <td>Leuprolide</td>\n",
       "      <td>NaN</td>\n",
       "      <td>NaN</td>\n",
       "      <td>0</td>\n",
       "      <td>6</td>\n",
       "      <td>1</td>\n",
       "      <td>0.58699</td>\n",
       "      <td>9</td>\n",
       "      <td>1.0</td>\n",
       "      <td>1.0</td>\n",
       "      <td>0.0</td>\n",
       "      <td>77006168</td>\n",
       "      <td>Follicular mucinosis and mycosis-fungoides-lik...</td>\n",
       "      <td>16</td>\n",
       "      <td>26220260</td>\n",
       "    </tr>\n",
       "    <tr>\n",
       "      <th>1</th>\n",
       "      <td>DOID:2531</td>\n",
       "      <td>hematologic cancer</td>\n",
       "      <td>CSP</td>\n",
       "      <td>2004-1600</td>\n",
       "      <td>DB00007</td>\n",
       "      <td>Leuprolide</td>\n",
       "      <td>NaN</td>\n",
       "      <td>NaN</td>\n",
       "      <td>0</td>\n",
       "      <td>6</td>\n",
       "      <td>1</td>\n",
       "      <td>0.58699</td>\n",
       "      <td>9</td>\n",
       "      <td>1.0</td>\n",
       "      <td>1.0</td>\n",
       "      <td>0.0</td>\n",
       "      <td>77006178</td>\n",
       "      <td>We report an unusual case of disseminated urti...</td>\n",
       "      <td>35</td>\n",
       "      <td>26208290</td>\n",
       "    </tr>\n",
       "  </tbody>\n",
       "</table>\n",
       "</div>"
      ],
      "text/plain": [
       "     doid_id           doid_name resource resource_id drugbank_id   drug_name  \\\n",
       "0  DOID:2531  hematologic cancer      CSP   2004-1600     DB00007  Leuprolide   \n",
       "1  DOID:2531  hematologic cancer      CSP   2004-1600     DB00007  Leuprolide   \n",
       "\n",
       "  disease sources  hetionet  n_sentences  has_sentence  partition_rank  split  \\\n",
       "0     NaN     NaN         0            6             1         0.58699      9   \n",
       "1     NaN     NaN         0            6             1         0.58699      9   \n",
       "\n",
       "   compound_mention_count  disease_mention_count  gene_mention_count  \\\n",
       "0                     1.0                    1.0                 0.0   \n",
       "1                     1.0                    1.0                 0.0   \n",
       "\n",
       "   sentence_id                                               text  sen_length  \\\n",
       "0     77006168  Follicular mucinosis and mycosis-fungoides-lik...          16   \n",
       "1     77006178  We report an unusual case of disseminated urti...          35   \n",
       "\n",
       "   candidate_id  \n",
       "0      26220260  \n",
       "1      26208290  "
      ]
     },
     "execution_count": 11,
     "metadata": {},
     "output_type": "execute_result"
    }
   ],
   "source": [
    "total_candidates_df = pd.read_csv(\"../dataset_statistics/results/all_ctd_map.tsv.xz\", sep=\"\\t\")\n",
    "total_candidates_df.head(2)"
   ]
  },
  {
   "cell_type": "code",
   "execution_count": 12,
   "metadata": {
    "ExecuteTime": {
     "end_time": "2019-07-29T18:21:23.022680Z",
     "start_time": "2019-07-29T18:21:19.275184Z"
    }
   },
   "outputs": [
    {
     "data": {
      "text/html": [
       "<div>\n",
       "<style scoped>\n",
       "    .dataframe tbody tr th:only-of-type {\n",
       "        vertical-align: middle;\n",
       "    }\n",
       "\n",
       "    .dataframe tbody tr th {\n",
       "        vertical-align: top;\n",
       "    }\n",
       "\n",
       "    .dataframe thead th {\n",
       "        text-align: right;\n",
       "    }\n",
       "</style>\n",
       "<table border=\"1\" class=\"dataframe\">\n",
       "  <thead>\n",
       "    <tr style=\"text-align: right;\">\n",
       "      <th></th>\n",
       "      <th>drug_name</th>\n",
       "      <th>doid_name</th>\n",
       "      <th>text</th>\n",
       "      <th>candidate_id</th>\n",
       "      <th>model_predictions</th>\n",
       "      <th>model_predictions_after</th>\n",
       "    </tr>\n",
       "  </thead>\n",
       "  <tbody>\n",
       "    <tr>\n",
       "      <th>223</th>\n",
       "      <td>Dobutamine</td>\n",
       "      <td>coronary artery disease</td>\n",
       "      <td>two-dimensional echocardiography can detect re...</td>\n",
       "      <td>650620</td>\n",
       "      <td>0.002075</td>\n",
       "      <td>0.286629</td>\n",
       "    </tr>\n",
       "    <tr>\n",
       "      <th>97</th>\n",
       "      <td>Cyclic Adenosine Monophosphate</td>\n",
       "      <td>ovarian cancer</td>\n",
       "      <td>the hormonal regulation of steroidogenesis and...</td>\n",
       "      <td>79453</td>\n",
       "      <td>0.002475</td>\n",
       "      <td>0.291989</td>\n",
       "    </tr>\n",
       "  </tbody>\n",
       "</table>\n",
       "</div>"
      ],
      "text/plain": [
       "                          drug_name                doid_name  \\\n",
       "223                      Dobutamine  coronary artery disease   \n",
       "97   Cyclic Adenosine Monophosphate           ovarian cancer   \n",
       "\n",
       "                                                  text  candidate_id  \\\n",
       "223  two-dimensional echocardiography can detect re...        650620   \n",
       "97   the hormonal regulation of steroidogenesis and...         79453   \n",
       "\n",
       "     model_predictions  model_predictions_after  \n",
       "223           0.002075                 0.286629  \n",
       "97            0.002475                 0.291989  "
      ]
     },
     "execution_count": 12,
     "metadata": {},
     "output_type": "execute_result"
    }
   ],
   "source": [
    "confidence_score_df = (\n",
    "    total_candidates_df\n",
    "    [[\"drug_name\", \"doid_name\", \"text\", \"candidate_id\"]]\n",
    "    .merge(dev_predictions_df, on=\"candidate_id\")\n",
    "    .merge(dev_all_predictions_df, on=\"candidate_id\")\n",
    "    .sort_values(\"candidate_id\")\n",
    "    .assign(text=lambda x: tag_sentence(x))\n",
    "    .sort_values(\"model_predictions_after\")\n",
    ")\n",
    "confidence_score_df.head(2)"
   ]
  },
  {
   "cell_type": "code",
   "execution_count": 13,
   "metadata": {
    "ExecuteTime": {
     "end_time": "2019-07-29T18:21:23.087774Z",
     "start_time": "2019-07-29T18:21:23.030605Z"
    }
   },
   "outputs": [],
   "source": [
    "(\n",
    "    confidence_score_df\n",
    "    .head(10)\n",
    "    .sort_values(\"model_predictions_after\", ascending=False)\n",
    "    .drop(\"candidate_id\", axis=1)\n",
    "    .round(3)\n",
    "    .to_csv(\"results/bottom_ten_high_confidence_scores.tsv\", sep=\"\\t\", index=False)\n",
    ")"
   ]
  },
  {
   "cell_type": "code",
   "execution_count": 14,
   "metadata": {
    "ExecuteTime": {
     "end_time": "2019-07-29T18:21:23.147370Z",
     "start_time": "2019-07-29T18:21:23.091853Z"
    }
   },
   "outputs": [],
   "source": [
    "(\n",
    "    confidence_score_df\n",
    "    .tail(10)\n",
    "    .sort_values(\"model_predictions_after\", ascending=False)\n",
    "    .drop(\"candidate_id\", axis=1)\n",
    "    .round(3)\n",
    "    .to_csv(\"results/top_ten_high_confidence_scores.tsv\", sep=\"\\t\", index=False)\n",
    ")"
   ]
  },
  {
   "cell_type": "code",
   "execution_count": 15,
   "metadata": {
    "ExecuteTime": {
     "end_time": "2019-07-29T18:21:23.219850Z",
     "start_time": "2019-07-29T18:21:23.148624Z"
    }
   },
   "outputs": [
    {
     "data": {
      "text/html": [
       "<div>\n",
       "<style scoped>\n",
       "    .dataframe tbody tr th:only-of-type {\n",
       "        vertical-align: middle;\n",
       "    }\n",
       "\n",
       "    .dataframe tbody tr th {\n",
       "        vertical-align: top;\n",
       "    }\n",
       "\n",
       "    .dataframe thead th {\n",
       "        text-align: right;\n",
       "    }\n",
       "</style>\n",
       "<table border=\"1\" class=\"dataframe\">\n",
       "  <thead>\n",
       "    <tr style=\"text-align: right;\">\n",
       "      <th></th>\n",
       "      <th>curated_ctd</th>\n",
       "      <th>model_predictions</th>\n",
       "    </tr>\n",
       "  </thead>\n",
       "  <tbody>\n",
       "    <tr>\n",
       "      <th>0</th>\n",
       "      <td>0.0</td>\n",
       "      <td>0.45</td>\n",
       "    </tr>\n",
       "    <tr>\n",
       "      <th>1</th>\n",
       "      <td>0.0</td>\n",
       "      <td>0.43</td>\n",
       "    </tr>\n",
       "  </tbody>\n",
       "</table>\n",
       "</div>"
      ],
      "text/plain": [
       "   curated_ctd  model_predictions\n",
       "0          0.0               0.45\n",
       "1          0.0               0.43"
      ]
     },
     "execution_count": 15,
     "metadata": {},
     "output_type": "execute_result"
    }
   ],
   "source": [
    "model_all_predictions_df = (\n",
    "    candidate_dfs['dev']\n",
    "    .merge(dev_all_predictions_df.rename(index=str, columns={\"model_predictions_after\":\"model_predictions\"}))\n",
    "    [[\"curated_ctd\", \"model_predictions\"]]\n",
    "    .round(2)\n",
    ")\n",
    "model_all_predictions_df.head(2)"
   ]
  },
  {
   "cell_type": "code",
   "execution_count": 16,
   "metadata": {
    "ExecuteTime": {
     "end_time": "2019-07-29T18:21:23.882708Z",
     "start_time": "2019-07-29T18:21:23.222991Z"
    }
   },
   "outputs": [
    {
     "data": {
      "text/plain": [
       "<matplotlib.legend.Legend at 0x7febc59b8240>"
      ]
     },
     "execution_count": 16,
     "metadata": {},
     "output_type": "execute_result"
    },
    {
     "data": {
      "image/png": "[encoded data removed]",
      "text/plain": [
       "<matplotlib.figure.Figure at 0x7febc5a2b4a8>"
      ]
     },
     "metadata": {},
     "output_type": "display_data"
    }
   ],
   "source": [
    "from sklearn.calibration import calibration_curve\n",
    "cnn_y, cnn_x = calibration_curve(model_predictions_df.curated_ctd, model_predictions_df.model_predictions, n_bins=10)\n",
    "all_cnn_y, all_cnn_x = calibration_curve(model_predictions_df.curated_ctd, model_all_predictions_df.model_predictions, n_bins=10)\n",
    "\n",
    "plt.plot(cnn_x, cnn_y, marker='o', label=\"Before Calibration\")\n",
    "plt.plot(all_cnn_x, all_cnn_y, marker='o', label=\"After Calibration\")\n",
    "\n",
    "plt.plot([0,1], [0,1], color='black', linestyle='--', label=\"Perfectly Calibrated\")\n",
    "plt.xlabel(\"Predicted\")\n",
    "plt.ylabel(\"Actual\")\n",
    "plt.legend()"
   ]
  }
 ],
 "metadata": {
  "kernelspec": {
   "display_name": "Python [conda env:snorkeling]",
   "language": "python",
   "name": "conda-env-snorkeling-py"
  },
  "language_info": {
   "codemirror_mode": {
    "name": "ipython",
    "version": 3
   },
   "file_extension": ".py",
   "mimetype": "text/x-python",
   "name": "python",
   "nbconvert_exporter": "python",
   "pygments_lexer": "ipython3",
   "version": "3.6.4"
  }
 },
 "nbformat": 4,
 "nbformat_minor": 2
}
