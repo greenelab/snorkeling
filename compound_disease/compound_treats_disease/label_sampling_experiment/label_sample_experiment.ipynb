{
 "cells": [
  {
   "cell_type": "markdown",
   "metadata": {},
   "source": [
    "# Using Labels from Different Relation Types to Predict Compound Treats Disease Sentences"
   ]
  },
  {
   "cell_type": "markdown",
   "metadata": {},
   "source": [
    "This notebook is designed to predict the compound treats disease (CtD) relation. The first step in this process is to label our train, dev, and test sentences (split = 9,10,11). We will label these sentences using all of our handcrafted label functions. The working hypothesis here is there are shared information between different relations, which in turn should aid in predicting the compound treats disease relation. After the labeling process, the next step is to train a generative model that will estimate the likelihood of the positive class ($\\hat{Y}$) given our annotated label matrix. **Note**: This process doesn't involve any sentence context, so the only information used here are categorical output."
   ]
  },
  {
   "cell_type": "markdown",
   "metadata": {},
   "source": [
    "## Set up the environment"
   ]
  },
  {
   "cell_type": "code",
   "execution_count": 1,
   "metadata": {
    "ExecuteTime": {
     "end_time": "2019-05-09T18:48:52.386717Z",
     "start_time": "2019-05-09T18:48:51.591519Z"
    }
   },
   "outputs": [],
   "source": [
    "%load_ext autoreload\n",
    "%autoreload 2\n",
    "%matplotlib inline\n",
    "\n",
    "from collections import defaultdict\n",
    "import os\n",
    "import pickle\n",
    "import sys\n",
    "\n",
    "sys.path.append(os.path.abspath('../../../modules'))\n",
    "\n",
    "# Bayesian Optimization\n",
    "from hyperopt import fmin, hp, tpe, Trials\n",
    "\n",
    "from itertools import chain\n",
    "import matplotlib.pyplot as plt\n",
    "import pandas as pd\n",
    "import seaborn as sns\n",
    "from scipy import sparse\n",
    "from sklearn.metrics import roc_curve, auc, f1_score, precision_recall_curve, accuracy_score\n",
    "from tqdm import tqdm_notebook"
   ]
  },
  {
   "cell_type": "code",
   "execution_count": 2,
   "metadata": {
    "ExecuteTime": {
     "end_time": "2019-05-09T18:48:52.596285Z",
     "start_time": "2019-05-09T18:48:52.388535Z"
    }
   },
   "outputs": [],
   "source": [
    "#Set up the environment\n",
    "username = \"danich1\"\n",
    "password = \"snorkel\"\n",
    "dbname = \"pubmeddb\"\n",
    "\n",
    "#Path subject to change for different os\n",
    "database_str = \"postgresql+psycopg2://{}:{}@/{}?host=/var/run/postgresql\".format(username, password, dbname)\n",
    "os.environ['SNORKELDB'] = database_str\n",
    "\n",
    "from snorkel import SnorkelSession\n",
    "session = SnorkelSession()"
   ]
  },
  {
   "cell_type": "code",
   "execution_count": 3,
   "metadata": {
    "ExecuteTime": {
     "end_time": "2019-05-09T18:53:38.994790Z",
     "start_time": "2019-05-09T18:48:52.597645Z"
    }
   },
   "outputs": [
    {
     "name": "stderr",
     "output_type": "stream",
     "text": [
      "/home/danich1/anaconda2/envs/snorkeling/lib/python3.6/site-packages/IPython/core/interactiveshell.py:2903: DtypeWarning: Columns (3) have mixed types. Specify dtype option on import or set low_memory=False.\n",
      "  if self.run_code(code, result):\n"
     ]
    }
   ],
   "source": [
    "from snorkel.learning.pytorch.rnn.rnn_base import mark_sentence\n",
    "from snorkel.learning.pytorch.rnn.utils import candidate_to_tokens\n",
    "from snorkel.models import Candidate, candidate_subclass\n",
    "\n",
    "from metal.analysis import lf_summary\n",
    "from metal.label_model import LabelModel\n",
    "from metal.utils import plusminus_to_categorical\n",
    "\n",
    "from gensim.models import FastText\n",
    "from gensim.models import KeyedVectors\n",
    "\n",
    "from utils.notebook_utils.label_matrix_helper import label_candidates, get_auc_significant_stats\n",
    "from utils.notebook_utils.dataframe_helper import load_candidate_dataframes, generate_results_df\n",
    "from utils.notebook_utils.plot_helper import plot_curve, plot_label_matrix_heatmap\n",
    "from utils.notebook_utils.train_model_helper import (\n",
    "    train_baseline_model,\n",
    "    run_random_additional_lfs\n",
    ")\n",
    "\n",
    "sys.path.append(os.path.abspath('data/label_functions'))\n",
    "sys.path.append(os.path.abspath('../../../disease_gene/disease_associates_gene/single_task/data/label_functions'))\n",
    "sys.path.append(os.path.abspath('../../../compound_gene/compound_binds_gene/single_task/data/label_functions'))\n",
    "sys.path.append(os.path.abspath('../../../gene_gene/gene_interacts_gene/single_task/data/label_functions'))\n",
    "from compound_disease_lf import CD_LFS\n",
    "from disease_gene_lfs import DG_LFS\n",
    "from compound_gene_lf import CG_LFS\n",
    "from gene_gene_lf import GG_LFS"
   ]
  },
  {
   "cell_type": "code",
   "execution_count": 4,
   "metadata": {
    "ExecuteTime": {
     "end_time": "2019-05-09T18:53:39.027621Z",
     "start_time": "2019-05-09T18:53:38.996451Z"
    }
   },
   "outputs": [],
   "source": [
    "CompoundDisease = candidate_subclass('CompoundDisease', ['Compound', 'Disease'])"
   ]
  },
  {
   "cell_type": "code",
   "execution_count": 5,
   "metadata": {
    "ExecuteTime": {
     "end_time": "2019-05-09T18:53:39.080037Z",
     "start_time": "2019-05-09T18:53:39.030659Z"
    }
   },
   "outputs": [],
   "source": [
    "quick_load = True"
   ]
  },
  {
   "cell_type": "markdown",
   "metadata": {},
   "source": [
    "## Load the Data and Label the  Sentences"
   ]
  },
  {
   "cell_type": "markdown",
   "metadata": {},
   "source": [
    "This block of code is designed to label the sentences using our label functions. All the sentences are located in our postgres database that is store locally on the lab machine. The labeling process is defined as follows: Given a candidate id, we use the sqlalchemy library to extract a candidate object. Using this object and we pass it through a series of label functions that will output a 1 (positive), -1 (negative) or 0 (abstain) depending on the rule set. Lastly we aggregate the output of these functions into a sparse matrix that the generative model will use. Since these steps are pretty linear, we parallelized this process using python's multithreading library. Despite the optimization, this process can still take about 3 hours to label a set of ~300000 sentences."
   ]
  },
  {
   "cell_type": "code",
   "execution_count": 6,
   "metadata": {
    "ExecuteTime": {
     "end_time": "2019-04-25T14:59:36.667433Z",
     "start_time": "2019-04-25T14:59:29.245878Z"
    },
    "scrolled": true
   },
   "outputs": [
    {
     "name": "stderr",
     "output_type": "stream",
     "text": [
      "/home/danich1/anaconda2/envs/snorkeling/lib/python3.6/site-packages/IPython/core/interactiveshell.py:2785: DtypeWarning: Columns (3,6,7) have mixed types. Specify dtype option on import or set low_memory=False.\n",
      "  interactivity=interactivity, compiler=compiler, result=result)\n"
     ]
    },
    {
     "data": {
      "text/html": [
       "<div>\n",
       "<style scoped>\n",
       "    .dataframe tbody tr th:only-of-type {\n",
       "        vertical-align: middle;\n",
       "    }\n",
       "\n",
       "    .dataframe tbody tr th {\n",
       "        vertical-align: top;\n",
       "    }\n",
       "\n",
       "    .dataframe thead th {\n",
       "        text-align: right;\n",
       "    }\n",
       "</style>\n",
       "<table border=\"1\" class=\"dataframe\">\n",
       "  <thead>\n",
       "    <tr style=\"text-align: right;\">\n",
       "      <th></th>\n",
       "      <th>doid_id</th>\n",
       "      <th>doid_name</th>\n",
       "      <th>resource</th>\n",
       "      <th>resource_id</th>\n",
       "      <th>drugbank_id</th>\n",
       "      <th>drug_name</th>\n",
       "      <th>disease</th>\n",
       "      <th>sources</th>\n",
       "      <th>hetionet</th>\n",
       "      <th>n_sentences</th>\n",
       "      <th>has_sentence</th>\n",
       "      <th>partition_rank</th>\n",
       "      <th>split</th>\n",
       "      <th>compound_mention_count</th>\n",
       "      <th>disease_mention_count</th>\n",
       "      <th>gene_mention_count</th>\n",
       "      <th>sentence_id</th>\n",
       "      <th>text</th>\n",
       "      <th>sen_length</th>\n",
       "      <th>candidate_id</th>\n",
       "    </tr>\n",
       "  </thead>\n",
       "  <tbody>\n",
       "    <tr>\n",
       "      <th>0</th>\n",
       "      <td>DOID:2531</td>\n",
       "      <td>hematologic cancer</td>\n",
       "      <td>CSP</td>\n",
       "      <td>2004-1600</td>\n",
       "      <td>DB00007</td>\n",
       "      <td>Leuprolide</td>\n",
       "      <td>NaN</td>\n",
       "      <td>NaN</td>\n",
       "      <td>0</td>\n",
       "      <td>6</td>\n",
       "      <td>1</td>\n",
       "      <td>0.58699</td>\n",
       "      <td>9</td>\n",
       "      <td>1.0</td>\n",
       "      <td>1.0</td>\n",
       "      <td>0.0</td>\n",
       "      <td>77006168</td>\n",
       "      <td>Follicular mucinosis and mycosis-fungoides-lik...</td>\n",
       "      <td>16</td>\n",
       "      <td>26220260</td>\n",
       "    </tr>\n",
       "    <tr>\n",
       "      <th>1</th>\n",
       "      <td>DOID:2531</td>\n",
       "      <td>hematologic cancer</td>\n",
       "      <td>CSP</td>\n",
       "      <td>2004-1600</td>\n",
       "      <td>DB00007</td>\n",
       "      <td>Leuprolide</td>\n",
       "      <td>NaN</td>\n",
       "      <td>NaN</td>\n",
       "      <td>0</td>\n",
       "      <td>6</td>\n",
       "      <td>1</td>\n",
       "      <td>0.58699</td>\n",
       "      <td>9</td>\n",
       "      <td>1.0</td>\n",
       "      <td>1.0</td>\n",
       "      <td>0.0</td>\n",
       "      <td>77006178</td>\n",
       "      <td>We report an unusual case of disseminated urti...</td>\n",
       "      <td>35</td>\n",
       "      <td>26208290</td>\n",
       "    </tr>\n",
       "  </tbody>\n",
       "</table>\n",
       "</div>"
      ],
      "text/plain": [
       "     doid_id           doid_name resource resource_id drugbank_id   drug_name  \\\n",
       "0  DOID:2531  hematologic cancer      CSP   2004-1600     DB00007  Leuprolide   \n",
       "1  DOID:2531  hematologic cancer      CSP   2004-1600     DB00007  Leuprolide   \n",
       "\n",
       "  disease sources  hetionet  n_sentences  has_sentence  partition_rank  split  \\\n",
       "0     NaN     NaN         0            6             1         0.58699      9   \n",
       "1     NaN     NaN         0            6             1         0.58699      9   \n",
       "\n",
       "   compound_mention_count  disease_mention_count  gene_mention_count  \\\n",
       "0                     1.0                    1.0                 0.0   \n",
       "1                     1.0                    1.0                 0.0   \n",
       "\n",
       "   sentence_id                                               text  sen_length  \\\n",
       "0     77006168  Follicular mucinosis and mycosis-fungoides-lik...          16   \n",
       "1     77006178  We report an unusual case of disseminated urti...          35   \n",
       "\n",
       "   candidate_id  \n",
       "0      26220260  \n",
       "1      26208290  "
      ]
     },
     "execution_count": 6,
     "metadata": {},
     "output_type": "execute_result"
    }
   ],
   "source": [
    "total_candidates_df = pd.read_table(\"../dataset_statistics/data/all_ctd_map.tsv.xz\")\n",
    "total_candidates_df.head(2)"
   ]
  },
  {
   "cell_type": "code",
   "execution_count": 7,
   "metadata": {
    "ExecuteTime": {
     "end_time": "2019-04-25T14:59:36.690608Z",
     "start_time": "2019-04-25T14:59:36.669053Z"
    }
   },
   "outputs": [],
   "source": [
    "spreadsheet_names = {\n",
    "    #'train': 'data/sentences/sentence_labels_train.xlsx',\n",
    "    'dev': 'data/sentences/sentence_labels_dev.xlsx',\n",
    "    'test': 'data/sentences/sentence_labels_test.xlsx'\n",
    "}"
   ]
  },
  {
   "cell_type": "code",
   "execution_count": 8,
   "metadata": {
    "ExecuteTime": {
     "end_time": "2019-04-25T14:59:39.972359Z",
     "start_time": "2019-04-25T14:59:36.693277Z"
    }
   },
   "outputs": [
    {
     "name": "stdout",
     "output_type": "stream",
     "text": [
      "Size of dev set: 500\n",
      "Size of test set: 500\n"
     ]
    }
   ],
   "source": [
    "candidate_dfs = {\n",
    "    key:load_candidate_dataframes(spreadsheet_names[key], \"curated_ctd\")\n",
    "    for key in spreadsheet_names\n",
    "}\n",
    "\n",
    "for key in candidate_dfs:\n",
    "    print(\"Size of {} set: {}\".format(key, candidate_dfs[key].shape[0]))"
   ]
  },
  {
   "cell_type": "code",
   "execution_count": 9,
   "metadata": {
    "ExecuteTime": {
     "end_time": "2019-04-25T14:59:39.997017Z",
     "start_time": "2019-04-25T14:59:39.973897Z"
    }
   },
   "outputs": [],
   "source": [
    "lfs = (\n",
    "    list(CD_LFS[\"CtD\"].values()) + \n",
    "    list(DG_LFS[\"DaG\"].values())[7:37] + \n",
    "    list(CG_LFS[\"CbG\"].values())[9:29] + \n",
    "    list(GG_LFS[\"GiG\"].values())[9:37]\n",
    ")\n",
    "lf_names = (\n",
    "    list(CD_LFS[\"CtD\"].keys()) + \n",
    "    list(DG_LFS[\"DaG\"].keys())[7:37] + \n",
    "    list(CG_LFS[\"CbG\"].keys())[9:29] + \n",
    "    list(GG_LFS[\"GiG\"].keys())[9:37]\n",
    ")"
   ]
  },
  {
   "cell_type": "code",
   "execution_count": 10,
   "metadata": {
    "ExecuteTime": {
     "end_time": "2019-04-25T14:59:40.042060Z",
     "start_time": "2019-04-25T14:59:39.998540Z"
    }
   },
   "outputs": [],
   "source": [
    "if not quick_load:\n",
    "    label_matricies = {\n",
    "        'train':label_candidates(\n",
    "            session, \n",
    "            (\n",
    "                total_candidates_df\n",
    "                .query(\"split==9&compound_mention_count==1&disease_mention_count==1\")\n",
    "                .candidate_id\n",
    "                .values\n",
    "                .tolist()\n",
    "            ),\n",
    "            lfs, \n",
    "            lf_names,\n",
    "            num_threads=10,\n",
    "            batch_size=50000,\n",
    "            multitask=False\n",
    "        )\n",
    "    }"
   ]
  },
  {
   "cell_type": "code",
   "execution_count": 11,
   "metadata": {
    "ExecuteTime": {
     "end_time": "2019-04-25T14:59:40.066950Z",
     "start_time": "2019-04-25T14:59:40.043490Z"
    }
   },
   "outputs": [],
   "source": [
    "if not quick_load:\n",
    "    label_matricies.update({\n",
    "        key:label_candidates(\n",
    "            session, \n",
    "            candidate_dfs[key]['candidate_id'].values.tolist(),\n",
    "            lfs, \n",
    "            lf_names,\n",
    "            num_threads=10,\n",
    "            batch_size=50000,\n",
    "            multitask=False\n",
    "        )\n",
    "        for key in candidate_dfs\n",
    "    })"
   ]
  },
  {
   "cell_type": "code",
   "execution_count": 12,
   "metadata": {
    "ExecuteTime": {
     "end_time": "2019-04-25T14:59:41.873764Z",
     "start_time": "2019-04-25T14:59:40.068485Z"
    }
   },
   "outputs": [],
   "source": [
    "# Save the label matricies to a file for future loading/error analysis\n",
    "if not quick_load:\n",
    "    (\n",
    "        label_matricies['train']\n",
    "        .sort_values(\"candidate_id\")\n",
    "        .to_csv(\"data/train_sparse_matrix.tsv.xz\", sep=\"\\t\", index=False, compression=\"xz\")\n",
    "    )\n",
    "    (\n",
    "        label_matricies['dev']\n",
    "        .sort_values(\"candidate_id\")\n",
    "        .to_csv(\"data/dev_sparse_matrix.tsv.xz\", sep=\"\\t\", index=False, compression=\"xz\")\n",
    "    )\n",
    "    (\n",
    "        label_matricies['test']\n",
    "        .sort_values(\"candidate_id\")\n",
    "        .to_csv(\"data/test_sparse_matrix.tsv.xz\", sep=\"\\t\", index=False, compression=\"xz\")\n",
    "    )\n",
    "# Quick load the label matricies\n",
    "else:\n",
    "    label_destinations = {\n",
    "        'train':\"data/train_sparse_matrix.tsv.xz\",\n",
    "        'dev':\"data/dev_sparse_matrix.tsv.xz\",\n",
    "        'test':\"data/test_sparse_matrix.tsv.xz\"\n",
    "    }\n",
    "    label_matricies = {\n",
    "        key:pd.read_table(label_destinations[key]).to_sparse()\n",
    "        for key in label_destinations\n",
    "    }"
   ]
  },
  {
   "cell_type": "code",
   "execution_count": 13,
   "metadata": {
    "ExecuteTime": {
     "end_time": "2019-04-25T14:59:44.691507Z",
     "start_time": "2019-04-25T14:59:41.875226Z"
    },
    "scrolled": true
   },
   "outputs": [],
   "source": [
    "# Important Note Snorkel Metal uses a different coding scheme\n",
    "# than the label functions output. (2 for negative instead of -1).\n",
    "# This step corrects this problem by converting -1s to 2\n",
    "\n",
    "correct_L = plusminus_to_categorical(\n",
    "    label_matricies['train']\n",
    "    .sort_values(\"candidate_id\")\n",
    "    .drop(\"candidate_id\", axis=1)\n",
    "    .to_coo()\n",
    "    .toarray()\n",
    "    .astype(int)\n",
    ")\n",
    "\n",
    "correct_L_dev = plusminus_to_categorical(\n",
    "    label_matricies['dev']\n",
    "    .sort_values(\"candidate_id\")\n",
    "    .drop(\"candidate_id\", axis=1)\n",
    "    .to_coo()\n",
    "    .toarray()\n",
    "    .astype(int)\n",
    ")\n",
    "\n",
    "correct_L_test = plusminus_to_categorical(\n",
    "    label_matricies['test']\n",
    "    .sort_values(\"candidate_id\")\n",
    "    .drop(\"candidate_id\", axis=1)\n",
    "    .to_coo()\n",
    "    .toarray()\n",
    "    .astype(int)\n",
    ")"
   ]
  },
  {
   "cell_type": "code",
   "execution_count": 14,
   "metadata": {
    "ExecuteTime": {
     "end_time": "2019-04-25T14:59:48.238621Z",
     "start_time": "2019-04-25T14:59:44.693285Z"
    }
   },
   "outputs": [
    {
     "data": {
      "text/html": [
       "<div>\n",
       "<style scoped>\n",
       "    .dataframe tbody tr th:only-of-type {\n",
       "        vertical-align: middle;\n",
       "    }\n",
       "\n",
       "    .dataframe tbody tr th {\n",
       "        vertical-align: top;\n",
       "    }\n",
       "\n",
       "    .dataframe thead th {\n",
       "        text-align: right;\n",
       "    }\n",
       "</style>\n",
       "<table border=\"1\" class=\"dataframe\">\n",
       "  <thead>\n",
       "    <tr style=\"text-align: right;\">\n",
       "      <th></th>\n",
       "      <th>j</th>\n",
       "      <th>Polarity</th>\n",
       "      <th>Coverage</th>\n",
       "      <th>Overlaps</th>\n",
       "      <th>Conflicts</th>\n",
       "    </tr>\n",
       "  </thead>\n",
       "  <tbody>\n",
       "    <tr>\n",
       "      <th>LF_HETNET_PHARMACOTHERAPYDB</th>\n",
       "      <td>0</td>\n",
       "      <td>1</td>\n",
       "      <td>0.278138</td>\n",
       "      <td>0.278138</td>\n",
       "      <td>0.278125</td>\n",
       "    </tr>\n",
       "    <tr>\n",
       "      <th>LF_HETNET_CD_ABSENT</th>\n",
       "      <td>1</td>\n",
       "      <td>2</td>\n",
       "      <td>0.721862</td>\n",
       "      <td>0.721862</td>\n",
       "      <td>0.704497</td>\n",
       "    </tr>\n",
       "    <tr>\n",
       "      <th>LF_CD_CHECK_DISEASE_TAG</th>\n",
       "      <td>2</td>\n",
       "      <td>2</td>\n",
       "      <td>0.375807</td>\n",
       "      <td>0.375807</td>\n",
       "      <td>0.368543</td>\n",
       "    </tr>\n",
       "    <tr>\n",
       "      <th>LF_CtD_TREATS</th>\n",
       "      <td>3</td>\n",
       "      <td>1</td>\n",
       "      <td>0.198667</td>\n",
       "      <td>0.198667</td>\n",
       "      <td>0.198657</td>\n",
       "    </tr>\n",
       "    <tr>\n",
       "      <th>LF_CD_CHECK_DEPRESSION_USAGE</th>\n",
       "      <td>4</td>\n",
       "      <td>2</td>\n",
       "      <td>0.005552</td>\n",
       "      <td>0.005552</td>\n",
       "      <td>0.005401</td>\n",
       "    </tr>\n",
       "    <tr>\n",
       "      <th>LF_CtD_WEAKLY_TREATS</th>\n",
       "      <td>5</td>\n",
       "      <td>1</td>\n",
       "      <td>0.131690</td>\n",
       "      <td>0.131690</td>\n",
       "      <td>0.131680</td>\n",
       "    </tr>\n",
       "    <tr>\n",
       "      <th>LF_CD_INCORRECT_COMPOUND</th>\n",
       "      <td>6</td>\n",
       "      <td>2</td>\n",
       "      <td>0.050382</td>\n",
       "      <td>0.050382</td>\n",
       "      <td>0.050317</td>\n",
       "    </tr>\n",
       "    <tr>\n",
       "      <th>LF_CtD_COMPOUND_INDICATION</th>\n",
       "      <td>7</td>\n",
       "      <td>1</td>\n",
       "      <td>0.013639</td>\n",
       "      <td>0.013639</td>\n",
       "      <td>0.013639</td>\n",
       "    </tr>\n",
       "    <tr>\n",
       "      <th>LF_CtD_TRIAL</th>\n",
       "      <td>8</td>\n",
       "      <td>1</td>\n",
       "      <td>0.060631</td>\n",
       "      <td>0.060631</td>\n",
       "      <td>0.060628</td>\n",
       "    </tr>\n",
       "    <tr>\n",
       "      <th>LF_CD_IN_SERIES</th>\n",
       "      <td>9</td>\n",
       "      <td>2</td>\n",
       "      <td>0.089374</td>\n",
       "      <td>0.089374</td>\n",
       "      <td>0.087839</td>\n",
       "    </tr>\n",
       "    <tr>\n",
       "      <th>LF_CD_METHOD_DESC</th>\n",
       "      <td>10</td>\n",
       "      <td>2</td>\n",
       "      <td>0.110199</td>\n",
       "      <td>0.110199</td>\n",
       "      <td>0.109031</td>\n",
       "    </tr>\n",
       "    <tr>\n",
       "      <th>LF_CD_TITLE</th>\n",
       "      <td>11</td>\n",
       "      <td>2</td>\n",
       "      <td>0.034410</td>\n",
       "      <td>0.034410</td>\n",
       "      <td>0.033879</td>\n",
       "    </tr>\n",
       "    <tr>\n",
       "      <th>LF_CtD_NO_CONCLUSION</th>\n",
       "      <td>12</td>\n",
       "      <td>2</td>\n",
       "      <td>0.743777</td>\n",
       "      <td>0.743777</td>\n",
       "      <td>0.726412</td>\n",
       "    </tr>\n",
       "    <tr>\n",
       "      <th>LF_CtD_CONCLUSION</th>\n",
       "      <td>13</td>\n",
       "      <td>1</td>\n",
       "      <td>0.256223</td>\n",
       "      <td>0.256223</td>\n",
       "      <td>0.256210</td>\n",
       "    </tr>\n",
       "    <tr>\n",
       "      <th>LF_CD_DISTANCE_SHORT</th>\n",
       "      <td>14</td>\n",
       "      <td>2</td>\n",
       "      <td>0.157137</td>\n",
       "      <td>0.157137</td>\n",
       "      <td>0.140297</td>\n",
       "    </tr>\n",
       "    <tr>\n",
       "      <th>LF_CD_DISTANCE_LONG</th>\n",
       "      <td>15</td>\n",
       "      <td>2</td>\n",
       "      <td>0.043513</td>\n",
       "      <td>0.043513</td>\n",
       "      <td>0.042988</td>\n",
       "    </tr>\n",
       "    <tr>\n",
       "      <th>LF_CD_ALLOWED_DISTANCE</th>\n",
       "      <td>16</td>\n",
       "      <td>1</td>\n",
       "      <td>0.799350</td>\n",
       "      <td>0.799350</td>\n",
       "      <td>0.799337</td>\n",
       "    </tr>\n",
       "    <tr>\n",
       "      <th>LF_CD_NO_VERB</th>\n",
       "      <td>17</td>\n",
       "      <td>2</td>\n",
       "      <td>0.159556</td>\n",
       "      <td>0.159556</td>\n",
       "      <td>0.152539</td>\n",
       "    </tr>\n",
       "    <tr>\n",
       "      <th>LF_CD_BICLUSTER_TREATMENT</th>\n",
       "      <td>18</td>\n",
       "      <td>1</td>\n",
       "      <td>0.372162</td>\n",
       "      <td>0.372162</td>\n",
       "      <td>0.372162</td>\n",
       "    </tr>\n",
       "    <tr>\n",
       "      <th>LF_CD_BICLUSTER_INHIBITS</th>\n",
       "      <td>19</td>\n",
       "      <td>1</td>\n",
       "      <td>0.313256</td>\n",
       "      <td>0.313256</td>\n",
       "      <td>0.313256</td>\n",
       "    </tr>\n",
       "    <tr>\n",
       "      <th>LF_CD_BICLUSTER_SIDE_EFFECT</th>\n",
       "      <td>20</td>\n",
       "      <td>2</td>\n",
       "      <td>0.304693</td>\n",
       "      <td>0.304693</td>\n",
       "      <td>0.304552</td>\n",
       "    </tr>\n",
       "    <tr>\n",
       "      <th>LF_CD_BICLUSTER_PREVENTS</th>\n",
       "      <td>21</td>\n",
       "      <td>1</td>\n",
       "      <td>0.319204</td>\n",
       "      <td>0.319204</td>\n",
       "      <td>0.319204</td>\n",
       "    </tr>\n",
       "    <tr>\n",
       "      <th>LF_CD_BICLUSTER_ALLEVIATES</th>\n",
       "      <td>22</td>\n",
       "      <td>2</td>\n",
       "      <td>0.296755</td>\n",
       "      <td>0.296755</td>\n",
       "      <td>0.296690</td>\n",
       "    </tr>\n",
       "    <tr>\n",
       "      <th>LF_CD_BICLUSTER_DISEASE_ROLE</th>\n",
       "      <td>23</td>\n",
       "      <td>1</td>\n",
       "      <td>0.276749</td>\n",
       "      <td>0.276749</td>\n",
       "      <td>0.276749</td>\n",
       "    </tr>\n",
       "    <tr>\n",
       "      <th>LF_CD_BICLUSTER_BIOMARKERS</th>\n",
       "      <td>24</td>\n",
       "      <td>1</td>\n",
       "      <td>0.255362</td>\n",
       "      <td>0.255362</td>\n",
       "      <td>0.255362</td>\n",
       "    </tr>\n",
       "    <tr>\n",
       "      <th>LF_DG_IS_BIOMARKER</th>\n",
       "      <td>25</td>\n",
       "      <td>1</td>\n",
       "      <td>0.060756</td>\n",
       "      <td>0.060756</td>\n",
       "      <td>0.060751</td>\n",
       "    </tr>\n",
       "    <tr>\n",
       "      <th>LF_DaG_ASSOCIATION</th>\n",
       "      <td>26</td>\n",
       "      <td>1</td>\n",
       "      <td>0.079151</td>\n",
       "      <td>0.079151</td>\n",
       "      <td>0.079141</td>\n",
       "    </tr>\n",
       "    <tr>\n",
       "      <th>LF_DaG_WEAK_ASSOCIATION</th>\n",
       "      <td>27</td>\n",
       "      <td>1</td>\n",
       "      <td>0.004735</td>\n",
       "      <td>0.004735</td>\n",
       "      <td>0.004735</td>\n",
       "    </tr>\n",
       "    <tr>\n",
       "      <th>LF_DaG_NO_ASSOCIATION</th>\n",
       "      <td>28</td>\n",
       "      <td>2</td>\n",
       "      <td>0.011029</td>\n",
       "      <td>0.011029</td>\n",
       "      <td>0.010899</td>\n",
       "    </tr>\n",
       "    <tr>\n",
       "      <th>LF_DaG_CELLULAR_ACTIVITY</th>\n",
       "      <td>29</td>\n",
       "      <td>1</td>\n",
       "      <td>0.018715</td>\n",
       "      <td>0.018715</td>\n",
       "      <td>0.018715</td>\n",
       "    </tr>\n",
       "    <tr>\n",
       "      <th>...</th>\n",
       "      <td>...</td>\n",
       "      <td>...</td>\n",
       "      <td>...</td>\n",
       "      <td>...</td>\n",
       "      <td>...</td>\n",
       "    </tr>\n",
       "    <tr>\n",
       "      <th>LF_CG_BICLUSTER_AFF_EXPRESSION</th>\n",
       "      <td>73</td>\n",
       "      <td>1</td>\n",
       "      <td>0.032143</td>\n",
       "      <td>0.032143</td>\n",
       "      <td>0.032143</td>\n",
       "    </tr>\n",
       "    <tr>\n",
       "      <th>LF_CG_BICLUSTER_INHIBITS</th>\n",
       "      <td>74</td>\n",
       "      <td>1</td>\n",
       "      <td>0.018491</td>\n",
       "      <td>0.018491</td>\n",
       "      <td>0.018491</td>\n",
       "    </tr>\n",
       "    <tr>\n",
       "      <th>LF_GiG_BINDING_IDENTIFICATIONS</th>\n",
       "      <td>75</td>\n",
       "      <td>1</td>\n",
       "      <td>0.010181</td>\n",
       "      <td>0.010181</td>\n",
       "      <td>0.010176</td>\n",
       "    </tr>\n",
       "    <tr>\n",
       "      <th>LF_GiG_CELL_IDENTIFICATIONS</th>\n",
       "      <td>76</td>\n",
       "      <td>2</td>\n",
       "      <td>0.248103</td>\n",
       "      <td>0.248103</td>\n",
       "      <td>0.245386</td>\n",
       "    </tr>\n",
       "    <tr>\n",
       "      <th>LF_GiG_COMPOUND_IDENTIFICATIONS</th>\n",
       "      <td>77</td>\n",
       "      <td>2</td>\n",
       "      <td>0.075022</td>\n",
       "      <td>0.075022</td>\n",
       "      <td>0.075019</td>\n",
       "    </tr>\n",
       "    <tr>\n",
       "      <th>LF_GiG_UPREGULATES</th>\n",
       "      <td>78</td>\n",
       "      <td>2</td>\n",
       "      <td>0.009304</td>\n",
       "      <td>0.009304</td>\n",
       "      <td>0.009286</td>\n",
       "    </tr>\n",
       "    <tr>\n",
       "      <th>LF_GiG_DOWNREGULATES</th>\n",
       "      <td>79</td>\n",
       "      <td>2</td>\n",
       "      <td>0.008394</td>\n",
       "      <td>0.008394</td>\n",
       "      <td>0.008282</td>\n",
       "    </tr>\n",
       "    <tr>\n",
       "      <th>LF_GiG_REGULATION</th>\n",
       "      <td>80</td>\n",
       "      <td>2</td>\n",
       "      <td>0.018562</td>\n",
       "      <td>0.018562</td>\n",
       "      <td>0.018426</td>\n",
       "    </tr>\n",
       "    <tr>\n",
       "      <th>LF_GiG_ASSOCIATION</th>\n",
       "      <td>81</td>\n",
       "      <td>2</td>\n",
       "      <td>0.025790</td>\n",
       "      <td>0.025790</td>\n",
       "      <td>0.025722</td>\n",
       "    </tr>\n",
       "    <tr>\n",
       "      <th>LF_GiG_BOUND_IDENTIFIERS</th>\n",
       "      <td>82</td>\n",
       "      <td>1</td>\n",
       "      <td>0.034139</td>\n",
       "      <td>0.034139</td>\n",
       "      <td>0.034134</td>\n",
       "    </tr>\n",
       "    <tr>\n",
       "      <th>LF_GiG_GENE_IDENTIFIERS</th>\n",
       "      <td>83</td>\n",
       "      <td>1</td>\n",
       "      <td>0.036200</td>\n",
       "      <td>0.036200</td>\n",
       "      <td>0.036197</td>\n",
       "    </tr>\n",
       "    <tr>\n",
       "      <th>LF_GiG_GENE_ADJECTIVE</th>\n",
       "      <td>84</td>\n",
       "      <td>2</td>\n",
       "      <td>0.001988</td>\n",
       "      <td>0.001988</td>\n",
       "      <td>0.001949</td>\n",
       "    </tr>\n",
       "    <tr>\n",
       "      <th>LF_GiG_DIAGNOSIS_IDENTIFIERS</th>\n",
       "      <td>85</td>\n",
       "      <td>2</td>\n",
       "      <td>0.001944</td>\n",
       "      <td>0.001944</td>\n",
       "      <td>0.001944</td>\n",
       "    </tr>\n",
       "    <tr>\n",
       "      <th>LF_GiG_METHOD_DESC</th>\n",
       "      <td>86</td>\n",
       "      <td>2</td>\n",
       "      <td>0.028529</td>\n",
       "      <td>0.028529</td>\n",
       "      <td>0.028134</td>\n",
       "    </tr>\n",
       "    <tr>\n",
       "      <th>LF_GiG_PARENTHESIS</th>\n",
       "      <td>87</td>\n",
       "      <td>2</td>\n",
       "      <td>0.001215</td>\n",
       "      <td>0.001215</td>\n",
       "      <td>0.000848</td>\n",
       "    </tr>\n",
       "    <tr>\n",
       "      <th>LF_GG_IN_SERIES</th>\n",
       "      <td>88</td>\n",
       "      <td>2</td>\n",
       "      <td>0.088822</td>\n",
       "      <td>0.088822</td>\n",
       "      <td>0.087292</td>\n",
       "    </tr>\n",
       "    <tr>\n",
       "      <th>LF_GiG_NO_CONCLUSION</th>\n",
       "      <td>89</td>\n",
       "      <td>2</td>\n",
       "      <td>0.945374</td>\n",
       "      <td>0.945374</td>\n",
       "      <td>0.928100</td>\n",
       "    </tr>\n",
       "    <tr>\n",
       "      <th>LF_GiG_CONCLUSION</th>\n",
       "      <td>90</td>\n",
       "      <td>[1, 2]</td>\n",
       "      <td>0.054626</td>\n",
       "      <td>0.054626</td>\n",
       "      <td>0.054522</td>\n",
       "    </tr>\n",
       "    <tr>\n",
       "      <th>LF_GG_DISTANCE_SHORT</th>\n",
       "      <td>91</td>\n",
       "      <td>2</td>\n",
       "      <td>0.070859</td>\n",
       "      <td>0.070859</td>\n",
       "      <td>0.054020</td>\n",
       "    </tr>\n",
       "    <tr>\n",
       "      <th>LF_GG_DISTANCE_LONG</th>\n",
       "      <td>92</td>\n",
       "      <td>2</td>\n",
       "      <td>0.043513</td>\n",
       "      <td>0.043513</td>\n",
       "      <td>0.042988</td>\n",
       "    </tr>\n",
       "    <tr>\n",
       "      <th>LF_GG_ALLOWED_DISTANCE</th>\n",
       "      <td>93</td>\n",
       "      <td>1</td>\n",
       "      <td>0.885628</td>\n",
       "      <td>0.885628</td>\n",
       "      <td>0.885615</td>\n",
       "    </tr>\n",
       "    <tr>\n",
       "      <th>LF_GG_NO_VERB</th>\n",
       "      <td>94</td>\n",
       "      <td>2</td>\n",
       "      <td>0.184446</td>\n",
       "      <td>0.184446</td>\n",
       "      <td>0.176585</td>\n",
       "    </tr>\n",
       "    <tr>\n",
       "      <th>LF_GG_BICLUSTER_BINDING</th>\n",
       "      <td>95</td>\n",
       "      <td>1</td>\n",
       "      <td>0.007730</td>\n",
       "      <td>0.007730</td>\n",
       "      <td>0.007730</td>\n",
       "    </tr>\n",
       "    <tr>\n",
       "      <th>LF_GG_BICLUSTER_ENHANCES</th>\n",
       "      <td>96</td>\n",
       "      <td>1</td>\n",
       "      <td>0.005435</td>\n",
       "      <td>0.005435</td>\n",
       "      <td>0.005435</td>\n",
       "    </tr>\n",
       "    <tr>\n",
       "      <th>LF_GG_BICLUSTER_ACTIVATES</th>\n",
       "      <td>97</td>\n",
       "      <td>1</td>\n",
       "      <td>0.007780</td>\n",
       "      <td>0.007780</td>\n",
       "      <td>0.007780</td>\n",
       "    </tr>\n",
       "    <tr>\n",
       "      <th>LF_GG_BICLUSTER_AFFECTS_EXPRESSION</th>\n",
       "      <td>98</td>\n",
       "      <td>1</td>\n",
       "      <td>0.006138</td>\n",
       "      <td>0.006138</td>\n",
       "      <td>0.006138</td>\n",
       "    </tr>\n",
       "    <tr>\n",
       "      <th>LF_GG_BICLUSTER_INCREASES_EXPRESSION</th>\n",
       "      <td>99</td>\n",
       "      <td>2</td>\n",
       "      <td>0.007121</td>\n",
       "      <td>0.007121</td>\n",
       "      <td>0.007121</td>\n",
       "    </tr>\n",
       "    <tr>\n",
       "      <th>LF_GG_BICLUSTER_SIGNALING</th>\n",
       "      <td>100</td>\n",
       "      <td>1</td>\n",
       "      <td>0.007538</td>\n",
       "      <td>0.007538</td>\n",
       "      <td>0.007538</td>\n",
       "    </tr>\n",
       "    <tr>\n",
       "      <th>LF_GG_BICLUSTER_IDENTICAL_PROTEIN</th>\n",
       "      <td>101</td>\n",
       "      <td>2</td>\n",
       "      <td>0.006874</td>\n",
       "      <td>0.006874</td>\n",
       "      <td>0.006874</td>\n",
       "    </tr>\n",
       "    <tr>\n",
       "      <th>LF_GG_BICLUSTER_CELL_PRODUCTION</th>\n",
       "      <td>102</td>\n",
       "      <td>2</td>\n",
       "      <td>0.007595</td>\n",
       "      <td>0.007595</td>\n",
       "      <td>0.007595</td>\n",
       "    </tr>\n",
       "  </tbody>\n",
       "</table>\n",
       "<p>103 rows × 5 columns</p>\n",
       "</div>"
      ],
      "text/plain": [
       "                                        j Polarity  Coverage  Overlaps  \\\n",
       "LF_HETNET_PHARMACOTHERAPYDB             0        1  0.278138  0.278138   \n",
       "LF_HETNET_CD_ABSENT                     1        2  0.721862  0.721862   \n",
       "LF_CD_CHECK_DISEASE_TAG                 2        2  0.375807  0.375807   \n",
       "LF_CtD_TREATS                           3        1  0.198667  0.198667   \n",
       "LF_CD_CHECK_DEPRESSION_USAGE            4        2  0.005552  0.005552   \n",
       "LF_CtD_WEAKLY_TREATS                    5        1  0.131690  0.131690   \n",
       "LF_CD_INCORRECT_COMPOUND                6        2  0.050382  0.050382   \n",
       "LF_CtD_COMPOUND_INDICATION              7        1  0.013639  0.013639   \n",
       "LF_CtD_TRIAL                            8        1  0.060631  0.060631   \n",
       "LF_CD_IN_SERIES                         9        2  0.089374  0.089374   \n",
       "LF_CD_METHOD_DESC                      10        2  0.110199  0.110199   \n",
       "LF_CD_TITLE                            11        2  0.034410  0.034410   \n",
       "LF_CtD_NO_CONCLUSION                   12        2  0.743777  0.743777   \n",
       "LF_CtD_CONCLUSION                      13        1  0.256223  0.256223   \n",
       "LF_CD_DISTANCE_SHORT                   14        2  0.157137  0.157137   \n",
       "LF_CD_DISTANCE_LONG                    15        2  0.043513  0.043513   \n",
       "LF_CD_ALLOWED_DISTANCE                 16        1  0.799350  0.799350   \n",
       "LF_CD_NO_VERB                          17        2  0.159556  0.159556   \n",
       "LF_CD_BICLUSTER_TREATMENT              18        1  0.372162  0.372162   \n",
       "LF_CD_BICLUSTER_INHIBITS               19        1  0.313256  0.313256   \n",
       "LF_CD_BICLUSTER_SIDE_EFFECT            20        2  0.304693  0.304693   \n",
       "LF_CD_BICLUSTER_PREVENTS               21        1  0.319204  0.319204   \n",
       "LF_CD_BICLUSTER_ALLEVIATES             22        2  0.296755  0.296755   \n",
       "LF_CD_BICLUSTER_DISEASE_ROLE           23        1  0.276749  0.276749   \n",
       "LF_CD_BICLUSTER_BIOMARKERS             24        1  0.255362  0.255362   \n",
       "LF_DG_IS_BIOMARKER                     25        1  0.060756  0.060756   \n",
       "LF_DaG_ASSOCIATION                     26        1  0.079151  0.079151   \n",
       "LF_DaG_WEAK_ASSOCIATION                27        1  0.004735  0.004735   \n",
       "LF_DaG_NO_ASSOCIATION                  28        2  0.011029  0.011029   \n",
       "LF_DaG_CELLULAR_ACTIVITY               29        1  0.018715  0.018715   \n",
       "...                                   ...      ...       ...       ...   \n",
       "LF_CG_BICLUSTER_AFF_EXPRESSION         73        1  0.032143  0.032143   \n",
       "LF_CG_BICLUSTER_INHIBITS               74        1  0.018491  0.018491   \n",
       "LF_GiG_BINDING_IDENTIFICATIONS         75        1  0.010181  0.010181   \n",
       "LF_GiG_CELL_IDENTIFICATIONS            76        2  0.248103  0.248103   \n",
       "LF_GiG_COMPOUND_IDENTIFICATIONS        77        2  0.075022  0.075022   \n",
       "LF_GiG_UPREGULATES                     78        2  0.009304  0.009304   \n",
       "LF_GiG_DOWNREGULATES                   79        2  0.008394  0.008394   \n",
       "LF_GiG_REGULATION                      80        2  0.018562  0.018562   \n",
       "LF_GiG_ASSOCIATION                     81        2  0.025790  0.025790   \n",
       "LF_GiG_BOUND_IDENTIFIERS               82        1  0.034139  0.034139   \n",
       "LF_GiG_GENE_IDENTIFIERS                83        1  0.036200  0.036200   \n",
       "LF_GiG_GENE_ADJECTIVE                  84        2  0.001988  0.001988   \n",
       "LF_GiG_DIAGNOSIS_IDENTIFIERS           85        2  0.001944  0.001944   \n",
       "LF_GiG_METHOD_DESC                     86        2  0.028529  0.028529   \n",
       "LF_GiG_PARENTHESIS                     87        2  0.001215  0.001215   \n",
       "LF_GG_IN_SERIES                        88        2  0.088822  0.088822   \n",
       "LF_GiG_NO_CONCLUSION                   89        2  0.945374  0.945374   \n",
       "LF_GiG_CONCLUSION                      90   [1, 2]  0.054626  0.054626   \n",
       "LF_GG_DISTANCE_SHORT                   91        2  0.070859  0.070859   \n",
       "LF_GG_DISTANCE_LONG                    92        2  0.043513  0.043513   \n",
       "LF_GG_ALLOWED_DISTANCE                 93        1  0.885628  0.885628   \n",
       "LF_GG_NO_VERB                          94        2  0.184446  0.184446   \n",
       "LF_GG_BICLUSTER_BINDING                95        1  0.007730  0.007730   \n",
       "LF_GG_BICLUSTER_ENHANCES               96        1  0.005435  0.005435   \n",
       "LF_GG_BICLUSTER_ACTIVATES              97        1  0.007780  0.007780   \n",
       "LF_GG_BICLUSTER_AFFECTS_EXPRESSION     98        1  0.006138  0.006138   \n",
       "LF_GG_BICLUSTER_INCREASES_EXPRESSION   99        2  0.007121  0.007121   \n",
       "LF_GG_BICLUSTER_SIGNALING             100        1  0.007538  0.007538   \n",
       "LF_GG_BICLUSTER_IDENTICAL_PROTEIN     101        2  0.006874  0.006874   \n",
       "LF_GG_BICLUSTER_CELL_PRODUCTION       102        2  0.007595  0.007595   \n",
       "\n",
       "                                      Conflicts  \n",
       "LF_HETNET_PHARMACOTHERAPYDB            0.278125  \n",
       "LF_HETNET_CD_ABSENT                    0.704497  \n",
       "LF_CD_CHECK_DISEASE_TAG                0.368543  \n",
       "LF_CtD_TREATS                          0.198657  \n",
       "LF_CD_CHECK_DEPRESSION_USAGE           0.005401  \n",
       "LF_CtD_WEAKLY_TREATS                   0.131680  \n",
       "LF_CD_INCORRECT_COMPOUND               0.050317  \n",
       "LF_CtD_COMPOUND_INDICATION             0.013639  \n",
       "LF_CtD_TRIAL                           0.060628  \n",
       "LF_CD_IN_SERIES                        0.087839  \n",
       "LF_CD_METHOD_DESC                      0.109031  \n",
       "LF_CD_TITLE                            0.033879  \n",
       "LF_CtD_NO_CONCLUSION                   0.726412  \n",
       "LF_CtD_CONCLUSION                      0.256210  \n",
       "LF_CD_DISTANCE_SHORT                   0.140297  \n",
       "LF_CD_DISTANCE_LONG                    0.042988  \n",
       "LF_CD_ALLOWED_DISTANCE                 0.799337  \n",
       "LF_CD_NO_VERB                          0.152539  \n",
       "LF_CD_BICLUSTER_TREATMENT              0.372162  \n",
       "LF_CD_BICLUSTER_INHIBITS               0.313256  \n",
       "LF_CD_BICLUSTER_SIDE_EFFECT            0.304552  \n",
       "LF_CD_BICLUSTER_PREVENTS               0.319204  \n",
       "LF_CD_BICLUSTER_ALLEVIATES             0.296690  \n",
       "LF_CD_BICLUSTER_DISEASE_ROLE           0.276749  \n",
       "LF_CD_BICLUSTER_BIOMARKERS             0.255362  \n",
       "LF_DG_IS_BIOMARKER                     0.060751  \n",
       "LF_DaG_ASSOCIATION                     0.079141  \n",
       "LF_DaG_WEAK_ASSOCIATION                0.004735  \n",
       "LF_DaG_NO_ASSOCIATION                  0.010899  \n",
       "LF_DaG_CELLULAR_ACTIVITY               0.018715  \n",
       "...                                         ...  \n",
       "LF_CG_BICLUSTER_AFF_EXPRESSION         0.032143  \n",
       "LF_CG_BICLUSTER_INHIBITS               0.018491  \n",
       "LF_GiG_BINDING_IDENTIFICATIONS         0.010176  \n",
       "LF_GiG_CELL_IDENTIFICATIONS            0.245386  \n",
       "LF_GiG_COMPOUND_IDENTIFICATIONS        0.075019  \n",
       "LF_GiG_UPREGULATES                     0.009286  \n",
       "LF_GiG_DOWNREGULATES                   0.008282  \n",
       "LF_GiG_REGULATION                      0.018426  \n",
       "LF_GiG_ASSOCIATION                     0.025722  \n",
       "LF_GiG_BOUND_IDENTIFIERS               0.034134  \n",
       "LF_GiG_GENE_IDENTIFIERS                0.036197  \n",
       "LF_GiG_GENE_ADJECTIVE                  0.001949  \n",
       "LF_GiG_DIAGNOSIS_IDENTIFIERS           0.001944  \n",
       "LF_GiG_METHOD_DESC                     0.028134  \n",
       "LF_GiG_PARENTHESIS                     0.000848  \n",
       "LF_GG_IN_SERIES                        0.087292  \n",
       "LF_GiG_NO_CONCLUSION                   0.928100  \n",
       "LF_GiG_CONCLUSION                      0.054522  \n",
       "LF_GG_DISTANCE_SHORT                   0.054020  \n",
       "LF_GG_DISTANCE_LONG                    0.042988  \n",
       "LF_GG_ALLOWED_DISTANCE                 0.885615  \n",
       "LF_GG_NO_VERB                          0.176585  \n",
       "LF_GG_BICLUSTER_BINDING                0.007730  \n",
       "LF_GG_BICLUSTER_ENHANCES               0.005435  \n",
       "LF_GG_BICLUSTER_ACTIVATES              0.007780  \n",
       "LF_GG_BICLUSTER_AFFECTS_EXPRESSION     0.006138  \n",
       "LF_GG_BICLUSTER_INCREASES_EXPRESSION   0.007121  \n",
       "LF_GG_BICLUSTER_SIGNALING              0.007538  \n",
       "LF_GG_BICLUSTER_IDENTICAL_PROTEIN      0.006874  \n",
       "LF_GG_BICLUSTER_CELL_PRODUCTION        0.007595  \n",
       "\n",
       "[103 rows x 5 columns]"
      ]
     },
     "execution_count": 14,
     "metadata": {},
     "output_type": "execute_result"
    }
   ],
   "source": [
    "lf_summary(\n",
    "    sparse.coo_matrix(\n",
    "        correct_L\n",
    "    )\n",
    "    .tocsr(), \n",
    "    lf_names=lf_names\n",
    ")"
   ]
  },
  {
   "cell_type": "code",
   "execution_count": 15,
   "metadata": {
    "ExecuteTime": {
     "end_time": "2019-04-25T14:59:48.340549Z",
     "start_time": "2019-04-25T14:59:48.240170Z"
    },
    "scrolled": false
   },
   "outputs": [
    {
     "name": "stderr",
     "output_type": "stream",
     "text": [
      "/home/danich1/Documents/metal/metal/analysis.py:131: RuntimeWarning: invalid value encountered in true_divide\n",
      "  return 0.5 * (X.sum(axis=0) / (L != 0).sum(axis=0) + 1)\n"
     ]
    },
    {
     "data": {
      "text/html": [
       "<div>\n",
       "<style scoped>\n",
       "    .dataframe tbody tr th:only-of-type {\n",
       "        vertical-align: middle;\n",
       "    }\n",
       "\n",
       "    .dataframe tbody tr th {\n",
       "        vertical-align: top;\n",
       "    }\n",
       "\n",
       "    .dataframe thead th {\n",
       "        text-align: right;\n",
       "    }\n",
       "</style>\n",
       "<table border=\"1\" class=\"dataframe\">\n",
       "  <thead>\n",
       "    <tr style=\"text-align: right;\">\n",
       "      <th></th>\n",
       "      <th>j</th>\n",
       "      <th>Polarity</th>\n",
       "      <th>Coverage</th>\n",
       "      <th>Overlaps</th>\n",
       "      <th>Conflicts</th>\n",
       "      <th>Correct</th>\n",
       "      <th>Incorrect</th>\n",
       "      <th>Emp. Acc.</th>\n",
       "    </tr>\n",
       "  </thead>\n",
       "  <tbody>\n",
       "    <tr>\n",
       "      <th>LF_HETNET_PHARMACOTHERAPYDB</th>\n",
       "      <td>0</td>\n",
       "      <td>1</td>\n",
       "      <td>0.302</td>\n",
       "      <td>0.302</td>\n",
       "      <td>0.302</td>\n",
       "      <td>57</td>\n",
       "      <td>94</td>\n",
       "      <td>0.377483</td>\n",
       "    </tr>\n",
       "    <tr>\n",
       "      <th>LF_HETNET_CD_ABSENT</th>\n",
       "      <td>1</td>\n",
       "      <td>2</td>\n",
       "      <td>0.698</td>\n",
       "      <td>0.698</td>\n",
       "      <td>0.676</td>\n",
       "      <td>310</td>\n",
       "      <td>39</td>\n",
       "      <td>0.888252</td>\n",
       "    </tr>\n",
       "    <tr>\n",
       "      <th>LF_CD_CHECK_DISEASE_TAG</th>\n",
       "      <td>2</td>\n",
       "      <td>2</td>\n",
       "      <td>0.386</td>\n",
       "      <td>0.386</td>\n",
       "      <td>0.382</td>\n",
       "      <td>165</td>\n",
       "      <td>28</td>\n",
       "      <td>0.854922</td>\n",
       "    </tr>\n",
       "    <tr>\n",
       "      <th>LF_CtD_TREATS</th>\n",
       "      <td>3</td>\n",
       "      <td>1</td>\n",
       "      <td>0.214</td>\n",
       "      <td>0.214</td>\n",
       "      <td>0.214</td>\n",
       "      <td>64</td>\n",
       "      <td>43</td>\n",
       "      <td>0.598131</td>\n",
       "    </tr>\n",
       "    <tr>\n",
       "      <th>LF_CD_CHECK_DEPRESSION_USAGE</th>\n",
       "      <td>4</td>\n",
       "      <td>2</td>\n",
       "      <td>0.006</td>\n",
       "      <td>0.006</td>\n",
       "      <td>0.006</td>\n",
       "      <td>3</td>\n",
       "      <td>0</td>\n",
       "      <td>1.000000</td>\n",
       "    </tr>\n",
       "    <tr>\n",
       "      <th>LF_CtD_WEAKLY_TREATS</th>\n",
       "      <td>5</td>\n",
       "      <td>1</td>\n",
       "      <td>0.126</td>\n",
       "      <td>0.126</td>\n",
       "      <td>0.126</td>\n",
       "      <td>41</td>\n",
       "      <td>22</td>\n",
       "      <td>0.650794</td>\n",
       "    </tr>\n",
       "    <tr>\n",
       "      <th>LF_CD_INCORRECT_COMPOUND</th>\n",
       "      <td>6</td>\n",
       "      <td>2</td>\n",
       "      <td>0.028</td>\n",
       "      <td>0.028</td>\n",
       "      <td>0.028</td>\n",
       "      <td>13</td>\n",
       "      <td>1</td>\n",
       "      <td>0.928571</td>\n",
       "    </tr>\n",
       "    <tr>\n",
       "      <th>LF_CtD_COMPOUND_INDICATION</th>\n",
       "      <td>7</td>\n",
       "      <td>1</td>\n",
       "      <td>0.010</td>\n",
       "      <td>0.010</td>\n",
       "      <td>0.010</td>\n",
       "      <td>2</td>\n",
       "      <td>3</td>\n",
       "      <td>0.400000</td>\n",
       "    </tr>\n",
       "    <tr>\n",
       "      <th>LF_CtD_TRIAL</th>\n",
       "      <td>8</td>\n",
       "      <td>1</td>\n",
       "      <td>0.086</td>\n",
       "      <td>0.086</td>\n",
       "      <td>0.086</td>\n",
       "      <td>9</td>\n",
       "      <td>34</td>\n",
       "      <td>0.209302</td>\n",
       "    </tr>\n",
       "    <tr>\n",
       "      <th>LF_CD_IN_SERIES</th>\n",
       "      <td>9</td>\n",
       "      <td>2</td>\n",
       "      <td>0.162</td>\n",
       "      <td>0.162</td>\n",
       "      <td>0.158</td>\n",
       "      <td>73</td>\n",
       "      <td>8</td>\n",
       "      <td>0.901235</td>\n",
       "    </tr>\n",
       "    <tr>\n",
       "      <th>LF_CD_METHOD_DESC</th>\n",
       "      <td>10</td>\n",
       "      <td>2</td>\n",
       "      <td>0.176</td>\n",
       "      <td>0.176</td>\n",
       "      <td>0.176</td>\n",
       "      <td>81</td>\n",
       "      <td>7</td>\n",
       "      <td>0.920455</td>\n",
       "    </tr>\n",
       "    <tr>\n",
       "      <th>LF_CD_TITLE</th>\n",
       "      <td>11</td>\n",
       "      <td>2</td>\n",
       "      <td>0.052</td>\n",
       "      <td>0.052</td>\n",
       "      <td>0.052</td>\n",
       "      <td>18</td>\n",
       "      <td>8</td>\n",
       "      <td>0.692308</td>\n",
       "    </tr>\n",
       "    <tr>\n",
       "      <th>LF_CtD_NO_CONCLUSION</th>\n",
       "      <td>12</td>\n",
       "      <td>2</td>\n",
       "      <td>0.754</td>\n",
       "      <td>0.754</td>\n",
       "      <td>0.732</td>\n",
       "      <td>347</td>\n",
       "      <td>30</td>\n",
       "      <td>0.920424</td>\n",
       "    </tr>\n",
       "    <tr>\n",
       "      <th>LF_CtD_CONCLUSION</th>\n",
       "      <td>13</td>\n",
       "      <td>1</td>\n",
       "      <td>0.246</td>\n",
       "      <td>0.246</td>\n",
       "      <td>0.246</td>\n",
       "      <td>66</td>\n",
       "      <td>57</td>\n",
       "      <td>0.536585</td>\n",
       "    </tr>\n",
       "    <tr>\n",
       "      <th>LF_CD_DISTANCE_SHORT</th>\n",
       "      <td>14</td>\n",
       "      <td>2</td>\n",
       "      <td>0.096</td>\n",
       "      <td>0.096</td>\n",
       "      <td>0.078</td>\n",
       "      <td>43</td>\n",
       "      <td>5</td>\n",
       "      <td>0.895833</td>\n",
       "    </tr>\n",
       "    <tr>\n",
       "      <th>LF_CD_DISTANCE_LONG</th>\n",
       "      <td>15</td>\n",
       "      <td>2</td>\n",
       "      <td>0.074</td>\n",
       "      <td>0.074</td>\n",
       "      <td>0.070</td>\n",
       "      <td>35</td>\n",
       "      <td>2</td>\n",
       "      <td>0.945946</td>\n",
       "    </tr>\n",
       "    <tr>\n",
       "      <th>LF_CD_ALLOWED_DISTANCE</th>\n",
       "      <td>16</td>\n",
       "      <td>1</td>\n",
       "      <td>0.830</td>\n",
       "      <td>0.830</td>\n",
       "      <td>0.830</td>\n",
       "      <td>89</td>\n",
       "      <td>326</td>\n",
       "      <td>0.214458</td>\n",
       "    </tr>\n",
       "    <tr>\n",
       "      <th>LF_CD_NO_VERB</th>\n",
       "      <td>17</td>\n",
       "      <td>2</td>\n",
       "      <td>0.190</td>\n",
       "      <td>0.190</td>\n",
       "      <td>0.180</td>\n",
       "      <td>72</td>\n",
       "      <td>23</td>\n",
       "      <td>0.757895</td>\n",
       "    </tr>\n",
       "    <tr>\n",
       "      <th>LF_CD_BICLUSTER_TREATMENT</th>\n",
       "      <td>18</td>\n",
       "      <td>1</td>\n",
       "      <td>0.408</td>\n",
       "      <td>0.408</td>\n",
       "      <td>0.408</td>\n",
       "      <td>56</td>\n",
       "      <td>148</td>\n",
       "      <td>0.274510</td>\n",
       "    </tr>\n",
       "    <tr>\n",
       "      <th>LF_CD_BICLUSTER_INHIBITS</th>\n",
       "      <td>19</td>\n",
       "      <td>1</td>\n",
       "      <td>0.314</td>\n",
       "      <td>0.314</td>\n",
       "      <td>0.314</td>\n",
       "      <td>43</td>\n",
       "      <td>114</td>\n",
       "      <td>0.273885</td>\n",
       "    </tr>\n",
       "    <tr>\n",
       "      <th>LF_CD_BICLUSTER_SIDE_EFFECT</th>\n",
       "      <td>20</td>\n",
       "      <td>2</td>\n",
       "      <td>0.308</td>\n",
       "      <td>0.308</td>\n",
       "      <td>0.308</td>\n",
       "      <td>116</td>\n",
       "      <td>38</td>\n",
       "      <td>0.753247</td>\n",
       "    </tr>\n",
       "    <tr>\n",
       "      <th>LF_CD_BICLUSTER_PREVENTS</th>\n",
       "      <td>21</td>\n",
       "      <td>1</td>\n",
       "      <td>0.330</td>\n",
       "      <td>0.330</td>\n",
       "      <td>0.330</td>\n",
       "      <td>41</td>\n",
       "      <td>124</td>\n",
       "      <td>0.248485</td>\n",
       "    </tr>\n",
       "    <tr>\n",
       "      <th>LF_CD_BICLUSTER_ALLEVIATES</th>\n",
       "      <td>22</td>\n",
       "      <td>2</td>\n",
       "      <td>0.294</td>\n",
       "      <td>0.294</td>\n",
       "      <td>0.294</td>\n",
       "      <td>110</td>\n",
       "      <td>37</td>\n",
       "      <td>0.748299</td>\n",
       "    </tr>\n",
       "    <tr>\n",
       "      <th>LF_CD_BICLUSTER_DISEASE_ROLE</th>\n",
       "      <td>23</td>\n",
       "      <td>1</td>\n",
       "      <td>0.258</td>\n",
       "      <td>0.258</td>\n",
       "      <td>0.258</td>\n",
       "      <td>30</td>\n",
       "      <td>99</td>\n",
       "      <td>0.232558</td>\n",
       "    </tr>\n",
       "    <tr>\n",
       "      <th>LF_CD_BICLUSTER_BIOMARKERS</th>\n",
       "      <td>24</td>\n",
       "      <td>1</td>\n",
       "      <td>0.260</td>\n",
       "      <td>0.260</td>\n",
       "      <td>0.260</td>\n",
       "      <td>32</td>\n",
       "      <td>98</td>\n",
       "      <td>0.246154</td>\n",
       "    </tr>\n",
       "    <tr>\n",
       "      <th>LF_DG_IS_BIOMARKER</th>\n",
       "      <td>25</td>\n",
       "      <td>1</td>\n",
       "      <td>0.050</td>\n",
       "      <td>0.050</td>\n",
       "      <td>0.050</td>\n",
       "      <td>1</td>\n",
       "      <td>24</td>\n",
       "      <td>0.040000</td>\n",
       "    </tr>\n",
       "    <tr>\n",
       "      <th>LF_DaG_ASSOCIATION</th>\n",
       "      <td>26</td>\n",
       "      <td>1</td>\n",
       "      <td>0.024</td>\n",
       "      <td>0.024</td>\n",
       "      <td>0.024</td>\n",
       "      <td>3</td>\n",
       "      <td>9</td>\n",
       "      <td>0.250000</td>\n",
       "    </tr>\n",
       "    <tr>\n",
       "      <th>LF_DaG_WEAK_ASSOCIATION</th>\n",
       "      <td>27</td>\n",
       "      <td>1</td>\n",
       "      <td>0.002</td>\n",
       "      <td>0.002</td>\n",
       "      <td>0.002</td>\n",
       "      <td>0</td>\n",
       "      <td>1</td>\n",
       "      <td>0.000000</td>\n",
       "    </tr>\n",
       "    <tr>\n",
       "      <th>LF_DaG_NO_ASSOCIATION</th>\n",
       "      <td>28</td>\n",
       "      <td>2</td>\n",
       "      <td>0.018</td>\n",
       "      <td>0.018</td>\n",
       "      <td>0.018</td>\n",
       "      <td>8</td>\n",
       "      <td>1</td>\n",
       "      <td>0.888889</td>\n",
       "    </tr>\n",
       "    <tr>\n",
       "      <th>LF_DaG_CELLULAR_ACTIVITY</th>\n",
       "      <td>29</td>\n",
       "      <td>1</td>\n",
       "      <td>0.028</td>\n",
       "      <td>0.028</td>\n",
       "      <td>0.028</td>\n",
       "      <td>0</td>\n",
       "      <td>14</td>\n",
       "      <td>0.000000</td>\n",
       "    </tr>\n",
       "    <tr>\n",
       "      <th>...</th>\n",
       "      <td>...</td>\n",
       "      <td>...</td>\n",
       "      <td>...</td>\n",
       "      <td>...</td>\n",
       "      <td>...</td>\n",
       "      <td>...</td>\n",
       "      <td>...</td>\n",
       "      <td>...</td>\n",
       "    </tr>\n",
       "    <tr>\n",
       "      <th>LF_CG_BICLUSTER_AFF_EXPRESSION</th>\n",
       "      <td>73</td>\n",
       "      <td>1</td>\n",
       "      <td>0.022</td>\n",
       "      <td>0.022</td>\n",
       "      <td>0.022</td>\n",
       "      <td>0</td>\n",
       "      <td>11</td>\n",
       "      <td>0.000000</td>\n",
       "    </tr>\n",
       "    <tr>\n",
       "      <th>LF_CG_BICLUSTER_INHIBITS</th>\n",
       "      <td>74</td>\n",
       "      <td>1</td>\n",
       "      <td>0.014</td>\n",
       "      <td>0.014</td>\n",
       "      <td>0.014</td>\n",
       "      <td>0</td>\n",
       "      <td>7</td>\n",
       "      <td>0.000000</td>\n",
       "    </tr>\n",
       "    <tr>\n",
       "      <th>LF_GiG_BINDING_IDENTIFICATIONS</th>\n",
       "      <td>75</td>\n",
       "      <td>1</td>\n",
       "      <td>0.004</td>\n",
       "      <td>0.004</td>\n",
       "      <td>0.004</td>\n",
       "      <td>0</td>\n",
       "      <td>2</td>\n",
       "      <td>0.000000</td>\n",
       "    </tr>\n",
       "    <tr>\n",
       "      <th>LF_GiG_CELL_IDENTIFICATIONS</th>\n",
       "      <td>76</td>\n",
       "      <td>2</td>\n",
       "      <td>0.196</td>\n",
       "      <td>0.196</td>\n",
       "      <td>0.194</td>\n",
       "      <td>83</td>\n",
       "      <td>15</td>\n",
       "      <td>0.846939</td>\n",
       "    </tr>\n",
       "    <tr>\n",
       "      <th>LF_GiG_COMPOUND_IDENTIFICATIONS</th>\n",
       "      <td>77</td>\n",
       "      <td>2</td>\n",
       "      <td>0.044</td>\n",
       "      <td>0.044</td>\n",
       "      <td>0.044</td>\n",
       "      <td>15</td>\n",
       "      <td>7</td>\n",
       "      <td>0.681818</td>\n",
       "    </tr>\n",
       "    <tr>\n",
       "      <th>LF_GiG_UPREGULATES</th>\n",
       "      <td>78</td>\n",
       "      <td>2</td>\n",
       "      <td>0.002</td>\n",
       "      <td>0.002</td>\n",
       "      <td>0.002</td>\n",
       "      <td>1</td>\n",
       "      <td>0</td>\n",
       "      <td>1.000000</td>\n",
       "    </tr>\n",
       "    <tr>\n",
       "      <th>LF_GiG_DOWNREGULATES</th>\n",
       "      <td>79</td>\n",
       "      <td>2</td>\n",
       "      <td>0.004</td>\n",
       "      <td>0.004</td>\n",
       "      <td>0.004</td>\n",
       "      <td>2</td>\n",
       "      <td>0</td>\n",
       "      <td>1.000000</td>\n",
       "    </tr>\n",
       "    <tr>\n",
       "      <th>LF_GiG_REGULATION</th>\n",
       "      <td>80</td>\n",
       "      <td>2</td>\n",
       "      <td>0.006</td>\n",
       "      <td>0.006</td>\n",
       "      <td>0.006</td>\n",
       "      <td>3</td>\n",
       "      <td>0</td>\n",
       "      <td>1.000000</td>\n",
       "    </tr>\n",
       "    <tr>\n",
       "      <th>LF_GiG_ASSOCIATION</th>\n",
       "      <td>81</td>\n",
       "      <td>2</td>\n",
       "      <td>0.004</td>\n",
       "      <td>0.004</td>\n",
       "      <td>0.004</td>\n",
       "      <td>2</td>\n",
       "      <td>0</td>\n",
       "      <td>1.000000</td>\n",
       "    </tr>\n",
       "    <tr>\n",
       "      <th>LF_GiG_BOUND_IDENTIFIERS</th>\n",
       "      <td>82</td>\n",
       "      <td>1</td>\n",
       "      <td>0.050</td>\n",
       "      <td>0.050</td>\n",
       "      <td>0.050</td>\n",
       "      <td>1</td>\n",
       "      <td>24</td>\n",
       "      <td>0.040000</td>\n",
       "    </tr>\n",
       "    <tr>\n",
       "      <th>LF_GiG_GENE_IDENTIFIERS</th>\n",
       "      <td>83</td>\n",
       "      <td>1</td>\n",
       "      <td>0.028</td>\n",
       "      <td>0.028</td>\n",
       "      <td>0.028</td>\n",
       "      <td>0</td>\n",
       "      <td>14</td>\n",
       "      <td>0.000000</td>\n",
       "    </tr>\n",
       "    <tr>\n",
       "      <th>LF_GiG_GENE_ADJECTIVE</th>\n",
       "      <td>84</td>\n",
       "      <td>[]</td>\n",
       "      <td>0.000</td>\n",
       "      <td>0.000</td>\n",
       "      <td>0.000</td>\n",
       "      <td>0</td>\n",
       "      <td>0</td>\n",
       "      <td>NaN</td>\n",
       "    </tr>\n",
       "    <tr>\n",
       "      <th>LF_GiG_DIAGNOSIS_IDENTIFIERS</th>\n",
       "      <td>85</td>\n",
       "      <td>2</td>\n",
       "      <td>0.016</td>\n",
       "      <td>0.016</td>\n",
       "      <td>0.016</td>\n",
       "      <td>8</td>\n",
       "      <td>0</td>\n",
       "      <td>1.000000</td>\n",
       "    </tr>\n",
       "    <tr>\n",
       "      <th>LF_GiG_METHOD_DESC</th>\n",
       "      <td>86</td>\n",
       "      <td>2</td>\n",
       "      <td>0.046</td>\n",
       "      <td>0.046</td>\n",
       "      <td>0.044</td>\n",
       "      <td>22</td>\n",
       "      <td>1</td>\n",
       "      <td>0.956522</td>\n",
       "    </tr>\n",
       "    <tr>\n",
       "      <th>LF_GiG_PARENTHESIS</th>\n",
       "      <td>87</td>\n",
       "      <td>2</td>\n",
       "      <td>0.002</td>\n",
       "      <td>0.002</td>\n",
       "      <td>0.002</td>\n",
       "      <td>1</td>\n",
       "      <td>0</td>\n",
       "      <td>1.000000</td>\n",
       "    </tr>\n",
       "    <tr>\n",
       "      <th>LF_GG_IN_SERIES</th>\n",
       "      <td>88</td>\n",
       "      <td>2</td>\n",
       "      <td>0.158</td>\n",
       "      <td>0.158</td>\n",
       "      <td>0.154</td>\n",
       "      <td>71</td>\n",
       "      <td>8</td>\n",
       "      <td>0.898734</td>\n",
       "    </tr>\n",
       "    <tr>\n",
       "      <th>LF_GiG_NO_CONCLUSION</th>\n",
       "      <td>89</td>\n",
       "      <td>2</td>\n",
       "      <td>0.952</td>\n",
       "      <td>0.952</td>\n",
       "      <td>0.930</td>\n",
       "      <td>380</td>\n",
       "      <td>96</td>\n",
       "      <td>0.798319</td>\n",
       "    </tr>\n",
       "    <tr>\n",
       "      <th>LF_GiG_CONCLUSION</th>\n",
       "      <td>90</td>\n",
       "      <td>[1, 2]</td>\n",
       "      <td>0.048</td>\n",
       "      <td>0.048</td>\n",
       "      <td>0.048</td>\n",
       "      <td>3</td>\n",
       "      <td>21</td>\n",
       "      <td>0.125000</td>\n",
       "    </tr>\n",
       "    <tr>\n",
       "      <th>LF_GG_DISTANCE_SHORT</th>\n",
       "      <td>91</td>\n",
       "      <td>2</td>\n",
       "      <td>0.050</td>\n",
       "      <td>0.050</td>\n",
       "      <td>0.032</td>\n",
       "      <td>24</td>\n",
       "      <td>1</td>\n",
       "      <td>0.960000</td>\n",
       "    </tr>\n",
       "    <tr>\n",
       "      <th>LF_GG_DISTANCE_LONG</th>\n",
       "      <td>92</td>\n",
       "      <td>2</td>\n",
       "      <td>0.074</td>\n",
       "      <td>0.074</td>\n",
       "      <td>0.070</td>\n",
       "      <td>35</td>\n",
       "      <td>2</td>\n",
       "      <td>0.945946</td>\n",
       "    </tr>\n",
       "    <tr>\n",
       "      <th>LF_GG_ALLOWED_DISTANCE</th>\n",
       "      <td>93</td>\n",
       "      <td>1</td>\n",
       "      <td>0.876</td>\n",
       "      <td>0.876</td>\n",
       "      <td>0.876</td>\n",
       "      <td>93</td>\n",
       "      <td>345</td>\n",
       "      <td>0.212329</td>\n",
       "    </tr>\n",
       "    <tr>\n",
       "      <th>LF_GG_NO_VERB</th>\n",
       "      <td>94</td>\n",
       "      <td>2</td>\n",
       "      <td>0.218</td>\n",
       "      <td>0.218</td>\n",
       "      <td>0.206</td>\n",
       "      <td>82</td>\n",
       "      <td>27</td>\n",
       "      <td>0.752294</td>\n",
       "    </tr>\n",
       "    <tr>\n",
       "      <th>LF_GG_BICLUSTER_BINDING</th>\n",
       "      <td>95</td>\n",
       "      <td>1</td>\n",
       "      <td>0.002</td>\n",
       "      <td>0.002</td>\n",
       "      <td>0.002</td>\n",
       "      <td>0</td>\n",
       "      <td>1</td>\n",
       "      <td>0.000000</td>\n",
       "    </tr>\n",
       "    <tr>\n",
       "      <th>LF_GG_BICLUSTER_ENHANCES</th>\n",
       "      <td>96</td>\n",
       "      <td>1</td>\n",
       "      <td>0.002</td>\n",
       "      <td>0.002</td>\n",
       "      <td>0.002</td>\n",
       "      <td>0</td>\n",
       "      <td>1</td>\n",
       "      <td>0.000000</td>\n",
       "    </tr>\n",
       "    <tr>\n",
       "      <th>LF_GG_BICLUSTER_ACTIVATES</th>\n",
       "      <td>97</td>\n",
       "      <td>1</td>\n",
       "      <td>0.002</td>\n",
       "      <td>0.002</td>\n",
       "      <td>0.002</td>\n",
       "      <td>0</td>\n",
       "      <td>1</td>\n",
       "      <td>0.000000</td>\n",
       "    </tr>\n",
       "    <tr>\n",
       "      <th>LF_GG_BICLUSTER_AFFECTS_EXPRESSION</th>\n",
       "      <td>98</td>\n",
       "      <td>1</td>\n",
       "      <td>0.002</td>\n",
       "      <td>0.002</td>\n",
       "      <td>0.002</td>\n",
       "      <td>0</td>\n",
       "      <td>1</td>\n",
       "      <td>0.000000</td>\n",
       "    </tr>\n",
       "    <tr>\n",
       "      <th>LF_GG_BICLUSTER_INCREASES_EXPRESSION</th>\n",
       "      <td>99</td>\n",
       "      <td>2</td>\n",
       "      <td>0.002</td>\n",
       "      <td>0.002</td>\n",
       "      <td>0.002</td>\n",
       "      <td>1</td>\n",
       "      <td>0</td>\n",
       "      <td>1.000000</td>\n",
       "    </tr>\n",
       "    <tr>\n",
       "      <th>LF_GG_BICLUSTER_SIGNALING</th>\n",
       "      <td>100</td>\n",
       "      <td>1</td>\n",
       "      <td>0.002</td>\n",
       "      <td>0.002</td>\n",
       "      <td>0.002</td>\n",
       "      <td>0</td>\n",
       "      <td>1</td>\n",
       "      <td>0.000000</td>\n",
       "    </tr>\n",
       "    <tr>\n",
       "      <th>LF_GG_BICLUSTER_IDENTICAL_PROTEIN</th>\n",
       "      <td>101</td>\n",
       "      <td>2</td>\n",
       "      <td>0.002</td>\n",
       "      <td>0.002</td>\n",
       "      <td>0.002</td>\n",
       "      <td>1</td>\n",
       "      <td>0</td>\n",
       "      <td>1.000000</td>\n",
       "    </tr>\n",
       "    <tr>\n",
       "      <th>LF_GG_BICLUSTER_CELL_PRODUCTION</th>\n",
       "      <td>102</td>\n",
       "      <td>2</td>\n",
       "      <td>0.004</td>\n",
       "      <td>0.004</td>\n",
       "      <td>0.004</td>\n",
       "      <td>2</td>\n",
       "      <td>0</td>\n",
       "      <td>1.000000</td>\n",
       "    </tr>\n",
       "  </tbody>\n",
       "</table>\n",
       "<p>103 rows × 8 columns</p>\n",
       "</div>"
      ],
      "text/plain": [
       "                                        j Polarity  Coverage  Overlaps  \\\n",
       "LF_HETNET_PHARMACOTHERAPYDB             0        1     0.302     0.302   \n",
       "LF_HETNET_CD_ABSENT                     1        2     0.698     0.698   \n",
       "LF_CD_CHECK_DISEASE_TAG                 2        2     0.386     0.386   \n",
       "LF_CtD_TREATS                           3        1     0.214     0.214   \n",
       "LF_CD_CHECK_DEPRESSION_USAGE            4        2     0.006     0.006   \n",
       "LF_CtD_WEAKLY_TREATS                    5        1     0.126     0.126   \n",
       "LF_CD_INCORRECT_COMPOUND                6        2     0.028     0.028   \n",
       "LF_CtD_COMPOUND_INDICATION              7        1     0.010     0.010   \n",
       "LF_CtD_TRIAL                            8        1     0.086     0.086   \n",
       "LF_CD_IN_SERIES                         9        2     0.162     0.162   \n",
       "LF_CD_METHOD_DESC                      10        2     0.176     0.176   \n",
       "LF_CD_TITLE                            11        2     0.052     0.052   \n",
       "LF_CtD_NO_CONCLUSION                   12        2     0.754     0.754   \n",
       "LF_CtD_CONCLUSION                      13        1     0.246     0.246   \n",
       "LF_CD_DISTANCE_SHORT                   14        2     0.096     0.096   \n",
       "LF_CD_DISTANCE_LONG                    15        2     0.074     0.074   \n",
       "LF_CD_ALLOWED_DISTANCE                 16        1     0.830     0.830   \n",
       "LF_CD_NO_VERB                          17        2     0.190     0.190   \n",
       "LF_CD_BICLUSTER_TREATMENT              18        1     0.408     0.408   \n",
       "LF_CD_BICLUSTER_INHIBITS               19        1     0.314     0.314   \n",
       "LF_CD_BICLUSTER_SIDE_EFFECT            20        2     0.308     0.308   \n",
       "LF_CD_BICLUSTER_PREVENTS               21        1     0.330     0.330   \n",
       "LF_CD_BICLUSTER_ALLEVIATES             22        2     0.294     0.294   \n",
       "LF_CD_BICLUSTER_DISEASE_ROLE           23        1     0.258     0.258   \n",
       "LF_CD_BICLUSTER_BIOMARKERS             24        1     0.260     0.260   \n",
       "LF_DG_IS_BIOMARKER                     25        1     0.050     0.050   \n",
       "LF_DaG_ASSOCIATION                     26        1     0.024     0.024   \n",
       "LF_DaG_WEAK_ASSOCIATION                27        1     0.002     0.002   \n",
       "LF_DaG_NO_ASSOCIATION                  28        2     0.018     0.018   \n",
       "LF_DaG_CELLULAR_ACTIVITY               29        1     0.028     0.028   \n",
       "...                                   ...      ...       ...       ...   \n",
       "LF_CG_BICLUSTER_AFF_EXPRESSION         73        1     0.022     0.022   \n",
       "LF_CG_BICLUSTER_INHIBITS               74        1     0.014     0.014   \n",
       "LF_GiG_BINDING_IDENTIFICATIONS         75        1     0.004     0.004   \n",
       "LF_GiG_CELL_IDENTIFICATIONS            76        2     0.196     0.196   \n",
       "LF_GiG_COMPOUND_IDENTIFICATIONS        77        2     0.044     0.044   \n",
       "LF_GiG_UPREGULATES                     78        2     0.002     0.002   \n",
       "LF_GiG_DOWNREGULATES                   79        2     0.004     0.004   \n",
       "LF_GiG_REGULATION                      80        2     0.006     0.006   \n",
       "LF_GiG_ASSOCIATION                     81        2     0.004     0.004   \n",
       "LF_GiG_BOUND_IDENTIFIERS               82        1     0.050     0.050   \n",
       "LF_GiG_GENE_IDENTIFIERS                83        1     0.028     0.028   \n",
       "LF_GiG_GENE_ADJECTIVE                  84       []     0.000     0.000   \n",
       "LF_GiG_DIAGNOSIS_IDENTIFIERS           85        2     0.016     0.016   \n",
       "LF_GiG_METHOD_DESC                     86        2     0.046     0.046   \n",
       "LF_GiG_PARENTHESIS                     87        2     0.002     0.002   \n",
       "LF_GG_IN_SERIES                        88        2     0.158     0.158   \n",
       "LF_GiG_NO_CONCLUSION                   89        2     0.952     0.952   \n",
       "LF_GiG_CONCLUSION                      90   [1, 2]     0.048     0.048   \n",
       "LF_GG_DISTANCE_SHORT                   91        2     0.050     0.050   \n",
       "LF_GG_DISTANCE_LONG                    92        2     0.074     0.074   \n",
       "LF_GG_ALLOWED_DISTANCE                 93        1     0.876     0.876   \n",
       "LF_GG_NO_VERB                          94        2     0.218     0.218   \n",
       "LF_GG_BICLUSTER_BINDING                95        1     0.002     0.002   \n",
       "LF_GG_BICLUSTER_ENHANCES               96        1     0.002     0.002   \n",
       "LF_GG_BICLUSTER_ACTIVATES              97        1     0.002     0.002   \n",
       "LF_GG_BICLUSTER_AFFECTS_EXPRESSION     98        1     0.002     0.002   \n",
       "LF_GG_BICLUSTER_INCREASES_EXPRESSION   99        2     0.002     0.002   \n",
       "LF_GG_BICLUSTER_SIGNALING             100        1     0.002     0.002   \n",
       "LF_GG_BICLUSTER_IDENTICAL_PROTEIN     101        2     0.002     0.002   \n",
       "LF_GG_BICLUSTER_CELL_PRODUCTION       102        2     0.004     0.004   \n",
       "\n",
       "                                      Conflicts  Correct  Incorrect  Emp. Acc.  \n",
       "LF_HETNET_PHARMACOTHERAPYDB               0.302       57         94   0.377483  \n",
       "LF_HETNET_CD_ABSENT                       0.676      310         39   0.888252  \n",
       "LF_CD_CHECK_DISEASE_TAG                   0.382      165         28   0.854922  \n",
       "LF_CtD_TREATS                             0.214       64         43   0.598131  \n",
       "LF_CD_CHECK_DEPRESSION_USAGE              0.006        3          0   1.000000  \n",
       "LF_CtD_WEAKLY_TREATS                      0.126       41         22   0.650794  \n",
       "LF_CD_INCORRECT_COMPOUND                  0.028       13          1   0.928571  \n",
       "LF_CtD_COMPOUND_INDICATION                0.010        2          3   0.400000  \n",
       "LF_CtD_TRIAL                              0.086        9         34   0.209302  \n",
       "LF_CD_IN_SERIES                           0.158       73          8   0.901235  \n",
       "LF_CD_METHOD_DESC                         0.176       81          7   0.920455  \n",
       "LF_CD_TITLE                               0.052       18          8   0.692308  \n",
       "LF_CtD_NO_CONCLUSION                      0.732      347         30   0.920424  \n",
       "LF_CtD_CONCLUSION                         0.246       66         57   0.536585  \n",
       "LF_CD_DISTANCE_SHORT                      0.078       43          5   0.895833  \n",
       "LF_CD_DISTANCE_LONG                       0.070       35          2   0.945946  \n",
       "LF_CD_ALLOWED_DISTANCE                    0.830       89        326   0.214458  \n",
       "LF_CD_NO_VERB                             0.180       72         23   0.757895  \n",
       "LF_CD_BICLUSTER_TREATMENT                 0.408       56        148   0.274510  \n",
       "LF_CD_BICLUSTER_INHIBITS                  0.314       43        114   0.273885  \n",
       "LF_CD_BICLUSTER_SIDE_EFFECT               0.308      116         38   0.753247  \n",
       "LF_CD_BICLUSTER_PREVENTS                  0.330       41        124   0.248485  \n",
       "LF_CD_BICLUSTER_ALLEVIATES                0.294      110         37   0.748299  \n",
       "LF_CD_BICLUSTER_DISEASE_ROLE              0.258       30         99   0.232558  \n",
       "LF_CD_BICLUSTER_BIOMARKERS                0.260       32         98   0.246154  \n",
       "LF_DG_IS_BIOMARKER                        0.050        1         24   0.040000  \n",
       "LF_DaG_ASSOCIATION                        0.024        3          9   0.250000  \n",
       "LF_DaG_WEAK_ASSOCIATION                   0.002        0          1   0.000000  \n",
       "LF_DaG_NO_ASSOCIATION                     0.018        8          1   0.888889  \n",
       "LF_DaG_CELLULAR_ACTIVITY                  0.028        0         14   0.000000  \n",
       "...                                         ...      ...        ...        ...  \n",
       "LF_CG_BICLUSTER_AFF_EXPRESSION            0.022        0         11   0.000000  \n",
       "LF_CG_BICLUSTER_INHIBITS                  0.014        0          7   0.000000  \n",
       "LF_GiG_BINDING_IDENTIFICATIONS            0.004        0          2   0.000000  \n",
       "LF_GiG_CELL_IDENTIFICATIONS               0.194       83         15   0.846939  \n",
       "LF_GiG_COMPOUND_IDENTIFICATIONS           0.044       15          7   0.681818  \n",
       "LF_GiG_UPREGULATES                        0.002        1          0   1.000000  \n",
       "LF_GiG_DOWNREGULATES                      0.004        2          0   1.000000  \n",
       "LF_GiG_REGULATION                         0.006        3          0   1.000000  \n",
       "LF_GiG_ASSOCIATION                        0.004        2          0   1.000000  \n",
       "LF_GiG_BOUND_IDENTIFIERS                  0.050        1         24   0.040000  \n",
       "LF_GiG_GENE_IDENTIFIERS                   0.028        0         14   0.000000  \n",
       "LF_GiG_GENE_ADJECTIVE                     0.000        0          0        NaN  \n",
       "LF_GiG_DIAGNOSIS_IDENTIFIERS              0.016        8          0   1.000000  \n",
       "LF_GiG_METHOD_DESC                        0.044       22          1   0.956522  \n",
       "LF_GiG_PARENTHESIS                        0.002        1          0   1.000000  \n",
       "LF_GG_IN_SERIES                           0.154       71          8   0.898734  \n",
       "LF_GiG_NO_CONCLUSION                      0.930      380         96   0.798319  \n",
       "LF_GiG_CONCLUSION                         0.048        3         21   0.125000  \n",
       "LF_GG_DISTANCE_SHORT                      0.032       24          1   0.960000  \n",
       "LF_GG_DISTANCE_LONG                       0.070       35          2   0.945946  \n",
       "LF_GG_ALLOWED_DISTANCE                    0.876       93        345   0.212329  \n",
       "LF_GG_NO_VERB                             0.206       82         27   0.752294  \n",
       "LF_GG_BICLUSTER_BINDING                   0.002        0          1   0.000000  \n",
       "LF_GG_BICLUSTER_ENHANCES                  0.002        0          1   0.000000  \n",
       "LF_GG_BICLUSTER_ACTIVATES                 0.002        0          1   0.000000  \n",
       "LF_GG_BICLUSTER_AFFECTS_EXPRESSION        0.002        0          1   0.000000  \n",
       "LF_GG_BICLUSTER_INCREASES_EXPRESSION      0.002        1          0   1.000000  \n",
       "LF_GG_BICLUSTER_SIGNALING                 0.002        0          1   0.000000  \n",
       "LF_GG_BICLUSTER_IDENTICAL_PROTEIN         0.002        1          0   1.000000  \n",
       "LF_GG_BICLUSTER_CELL_PRODUCTION           0.004        2          0   1.000000  \n",
       "\n",
       "[103 rows x 8 columns]"
      ]
     },
     "execution_count": 15,
     "metadata": {},
     "output_type": "execute_result"
    }
   ],
   "source": [
    "lf_summary(\n",
    "    sparse.coo_matrix(\n",
    "        correct_L_dev\n",
    "    )\n",
    "    .tocsr(), \n",
    "    lf_names=lf_names, \n",
    "    Y=candidate_dfs['dev'].curated_ctd.apply(lambda x: 1 if x> 0 else 2)\n",
    ")"
   ]
  },
  {
   "cell_type": "markdown",
   "metadata": {},
   "source": [
    "# Train Baseline Model"
   ]
  },
  {
   "cell_type": "markdown",
   "metadata": {},
   "source": [
    "This block trains the baseline model (Distant Supervision of CtD Databases) that will be used as a reference to compare against."
   ]
  },
  {
   "cell_type": "code",
   "execution_count": 16,
   "metadata": {
    "ExecuteTime": {
     "end_time": "2019-04-25T14:59:48.363966Z",
     "start_time": "2019-04-25T14:59:48.342176Z"
    }
   },
   "outputs": [],
   "source": [
    "ds_start = 0\n",
    "ds_end = 3\n",
    "regularization_grid = pd.np.round(pd.np.linspace(0.01, 5, num=5), 2)"
   ]
  },
  {
   "cell_type": "code",
   "execution_count": 17,
   "metadata": {
    "ExecuteTime": {
     "end_time": "2019-04-25T14:59:51.633010Z",
     "start_time": "2019-04-25T14:59:48.365485Z"
    }
   },
   "outputs": [],
   "source": [
    "dev_ds_grid, test_ds_grid = train_baseline_model(\n",
    "    correct_L, correct_L_dev, correct_L_test,\n",
    "    list(range(ds_start, ds_end)), regularization_grid\n",
    ")\n",
    "\n",
    "dev_baseline_marginals = list(dev_ds_grid.values())[0][:,0]\n",
    "test_baseline_marginals = list(test_ds_grid.values())[0][:,0]\n",
    "\n",
    "dev_ds_grid = (\n",
    "    generate_results_df(\n",
    "        dev_ds_grid, \n",
    "        candidate_dfs['dev'].curated_ctd.values\n",
    "    )\n",
    "    .reset_index()\n",
    "    .rename(index=str, columns={0:\"AUPRC\", 1:\"AUROC\", \"index\":\"l2_param\"})\n",
    ")\n",
    "\n",
    "test_ds_grid = (\n",
    "    generate_results_df(\n",
    "        test_ds_grid, \n",
    "        candidate_dfs['test'].curated_ctd.values\n",
    "    )\n",
    "    .reset_index()\n",
    "    .rename(index=str, columns={0:\"AUPRC\", 1:\"AUROC\", \"index\":\"l2_param\"})\n",
    ")"
   ]
  },
  {
   "cell_type": "code",
   "execution_count": 18,
   "metadata": {
    "ExecuteTime": {
     "end_time": "2019-04-25T14:59:51.659043Z",
     "start_time": "2019-04-25T14:59:51.634375Z"
    }
   },
   "outputs": [],
   "source": [
    "best_param = dev_ds_grid.query(\"AUROC==AUROC.max()\").l2_param.values[0]\n",
    "dev_baseline=dev_ds_grid.query(\"l2_param==@best_param\").to_dict('records')\n",
    "dev_baseline[0].update({\"num_lfs\": 0})"
   ]
  },
  {
   "cell_type": "code",
   "execution_count": 19,
   "metadata": {
    "ExecuteTime": {
     "end_time": "2019-04-25T14:59:51.692801Z",
     "start_time": "2019-04-25T14:59:51.660556Z"
    }
   },
   "outputs": [],
   "source": [
    "test_baseline=test_ds_grid.query(\"l2_param==@best_param\").to_dict('records')\n",
    "test_baseline[0].update({\"num_lfs\": 0})"
   ]
  },
  {
   "cell_type": "code",
   "execution_count": 20,
   "metadata": {
    "ExecuteTime": {
     "end_time": "2019-04-25T14:59:51.716645Z",
     "start_time": "2019-04-25T14:59:51.694310Z"
    }
   },
   "outputs": [],
   "source": [
    "dev_baseline_marginals = list(zip(dev_baseline_marginals, candidate_dfs['dev'].curated_ctd.values))\n",
    "test_baseline_marginals = list(zip(test_baseline_marginals, candidate_dfs['test'].curated_ctd.values))"
   ]
  },
  {
   "cell_type": "code",
   "execution_count": 21,
   "metadata": {
    "ExecuteTime": {
     "end_time": "2019-04-25T14:59:51.740569Z",
     "start_time": "2019-04-25T14:59:51.718007Z"
    }
   },
   "outputs": [],
   "source": [
    "count_fraction_correct = lambda x: 1 if (x.marginals > 0.5 and x.label==1) or (x.marginals < 0.5 and x.label==0) else 0"
   ]
  },
  {
   "cell_type": "markdown",
   "metadata": {},
   "source": [
    "# Compound Treats Disease LFS Only"
   ]
  },
  {
   "cell_type": "markdown",
   "metadata": {},
   "source": [
    "This block is designed to determine how many label functions are needed to achieve decent results."
   ]
  },
  {
   "cell_type": "code",
   "execution_count": 22,
   "metadata": {
    "ExecuteTime": {
     "end_time": "2019-04-25T14:59:51.764378Z",
     "start_time": "2019-04-25T14:59:51.741836Z"
    }
   },
   "outputs": [],
   "source": [
    "num_of_samples = 50\n",
    "regularization_grid = pd.np.round(pd.np.linspace(0.01, 5, num=5), 2)"
   ]
  },
  {
   "cell_type": "code",
   "execution_count": 23,
   "metadata": {
    "ExecuteTime": {
     "end_time": "2019-04-25T15:26:54.939899Z",
     "start_time": "2019-04-25T14:59:51.765786Z"
    },
    "scrolled": false
   },
   "outputs": [
    {
     "data": {
      "application/vnd.jupyter.widget-view+json": {
       "model_id": "88dce26ea19741b8884218783504479f",
       "version_major": 2,
       "version_minor": 0
      },
      "text/html": [
       "<p>Failed to display Jupyter Widget of type <code>HBox</code>.</p>\n",
       "<p>\n",
       "  If you're reading this message in the Jupyter Notebook or JupyterLab Notebook, it may mean\n",
       "  that the widgets JavaScript is still loading. If this message persists, it\n",
       "  likely means that the widgets JavaScript library is either not installed or\n",
       "  not enabled. See the <a href=\"https://ipywidgets.readthedocs.io/en/stable/user_install.html\">Jupyter\n",
       "  Widgets Documentation</a> for setup instructions.\n",
       "</p>\n",
       "<p>\n",
       "  If you're reading this message in another frontend (for example, a static\n",
       "  rendering on GitHub or <a href=\"https://nbviewer.jupyter.org/\">NBViewer</a>),\n",
       "  it may mean that your frontend doesn't currently support widgets.\n",
       "</p>\n"
      ],
      "text/plain": [
       "HBox(children=(IntProgress(value=1, bar_style='info', max=1), HTML(value='')))"
      ]
     },
     "metadata": {},
     "output_type": "display_data"
    },
    {
     "name": "stdout",
     "output_type": "stream",
     "text": [
      "\n"
     ]
    },
    {
     "data": {
      "application/vnd.jupyter.widget-view+json": {
       "model_id": "0cc3403d4cd54da6ba37eea2c8f13468",
       "version_major": 2,
       "version_minor": 0
      },
      "text/html": [
       "<p>Failed to display Jupyter Widget of type <code>HBox</code>.</p>\n",
       "<p>\n",
       "  If you're reading this message in the Jupyter Notebook or JupyterLab Notebook, it may mean\n",
       "  that the widgets JavaScript is still loading. If this message persists, it\n",
       "  likely means that the widgets JavaScript library is either not installed or\n",
       "  not enabled. See the <a href=\"https://ipywidgets.readthedocs.io/en/stable/user_install.html\">Jupyter\n",
       "  Widgets Documentation</a> for setup instructions.\n",
       "</p>\n",
       "<p>\n",
       "  If you're reading this message in another frontend (for example, a static\n",
       "  rendering on GitHub or <a href=\"https://nbviewer.jupyter.org/\">NBViewer</a>),\n",
       "  it may mean that your frontend doesn't currently support widgets.\n",
       "</p>\n"
      ],
      "text/plain": [
       "HBox(children=(IntProgress(value=1, bar_style='info', max=1), HTML(value='')))"
      ]
     },
     "metadata": {},
     "output_type": "display_data"
    },
    {
     "name": "stdout",
     "output_type": "stream",
     "text": [
      "\n"
     ]
    },
    {
     "data": {
      "application/vnd.jupyter.widget-view+json": {
       "model_id": "038eff09808e4770ab9d450969b44c1f",
       "version_major": 2,
       "version_minor": 0
      },
      "text/html": [
       "<p>Failed to display Jupyter Widget of type <code>HBox</code>.</p>\n",
       "<p>\n",
       "  If you're reading this message in the Jupyter Notebook or JupyterLab Notebook, it may mean\n",
       "  that the widgets JavaScript is still loading. If this message persists, it\n",
       "  likely means that the widgets JavaScript library is either not installed or\n",
       "  not enabled. See the <a href=\"https://ipywidgets.readthedocs.io/en/stable/user_install.html\">Jupyter\n",
       "  Widgets Documentation</a> for setup instructions.\n",
       "</p>\n",
       "<p>\n",
       "  If you're reading this message in another frontend (for example, a static\n",
       "  rendering on GitHub or <a href=\"https://nbviewer.jupyter.org/\">NBViewer</a>),\n",
       "  it may mean that your frontend doesn't currently support widgets.\n",
       "</p>\n"
      ],
      "text/plain": [
       "HBox(children=(IntProgress(value=1, bar_style='info', max=1), HTML(value='')))"
      ]
     },
     "metadata": {},
     "output_type": "display_data"
    },
    {
     "name": "stdout",
     "output_type": "stream",
     "text": [
      "\n"
     ]
    },
    {
     "data": {
      "application/vnd.jupyter.widget-view+json": {
       "model_id": "d5fdd47a67484f5d9a5cb7e07e8cbcec",
       "version_major": 2,
       "version_minor": 0
      },
      "text/html": [
       "<p>Failed to display Jupyter Widget of type <code>HBox</code>.</p>\n",
       "<p>\n",
       "  If you're reading this message in the Jupyter Notebook or JupyterLab Notebook, it may mean\n",
       "  that the widgets JavaScript is still loading. If this message persists, it\n",
       "  likely means that the widgets JavaScript library is either not installed or\n",
       "  not enabled. See the <a href=\"https://ipywidgets.readthedocs.io/en/stable/user_install.html\">Jupyter\n",
       "  Widgets Documentation</a> for setup instructions.\n",
       "</p>\n",
       "<p>\n",
       "  If you're reading this message in another frontend (for example, a static\n",
       "  rendering on GitHub or <a href=\"https://nbviewer.jupyter.org/\">NBViewer</a>),\n",
       "  it may mean that your frontend doesn't currently support widgets.\n",
       "</p>\n"
      ],
      "text/plain": [
       "HBox(children=(IntProgress(value=1, bar_style='info', max=1), HTML(value='')))"
      ]
     },
     "metadata": {},
     "output_type": "display_data"
    },
    {
     "name": "stdout",
     "output_type": "stream",
     "text": [
      "\n"
     ]
    },
    {
     "data": {
      "application/vnd.jupyter.widget-view+json": {
       "model_id": "cccc766e34d14af6a2d36dab625fa6c6",
       "version_major": 2,
       "version_minor": 0
      },
      "text/html": [
       "<p>Failed to display Jupyter Widget of type <code>HBox</code>.</p>\n",
       "<p>\n",
       "  If you're reading this message in the Jupyter Notebook or JupyterLab Notebook, it may mean\n",
       "  that the widgets JavaScript is still loading. If this message persists, it\n",
       "  likely means that the widgets JavaScript library is either not installed or\n",
       "  not enabled. See the <a href=\"https://ipywidgets.readthedocs.io/en/stable/user_install.html\">Jupyter\n",
       "  Widgets Documentation</a> for setup instructions.\n",
       "</p>\n",
       "<p>\n",
       "  If you're reading this message in another frontend (for example, a static\n",
       "  rendering on GitHub or <a href=\"https://nbviewer.jupyter.org/\">NBViewer</a>),\n",
       "  it may mean that your frontend doesn't currently support widgets.\n",
       "</p>\n"
      ],
      "text/plain": [
       "HBox(children=(IntProgress(value=1, bar_style='info', max=1), HTML(value='')))"
      ]
     },
     "metadata": {},
     "output_type": "display_data"
    },
    {
     "name": "stdout",
     "output_type": "stream",
     "text": [
      "\n"
     ]
    },
    {
     "data": {
      "application/vnd.jupyter.widget-view+json": {
       "model_id": "18c799bb614c407eb7f5a7908575dee7",
       "version_major": 2,
       "version_minor": 0
      },
      "text/html": [
       "<p>Failed to display Jupyter Widget of type <code>HBox</code>.</p>\n",
       "<p>\n",
       "  If you're reading this message in the Jupyter Notebook or JupyterLab Notebook, it may mean\n",
       "  that the widgets JavaScript is still loading. If this message persists, it\n",
       "  likely means that the widgets JavaScript library is either not installed or\n",
       "  not enabled. See the <a href=\"https://ipywidgets.readthedocs.io/en/stable/user_install.html\">Jupyter\n",
       "  Widgets Documentation</a> for setup instructions.\n",
       "</p>\n",
       "<p>\n",
       "  If you're reading this message in another frontend (for example, a static\n",
       "  rendering on GitHub or <a href=\"https://nbviewer.jupyter.org/\">NBViewer</a>),\n",
       "  it may mean that your frontend doesn't currently support widgets.\n",
       "</p>\n"
      ],
      "text/plain": [
       "HBox(children=(IntProgress(value=1, bar_style='info', max=1), HTML(value='')))"
      ]
     },
     "metadata": {},
     "output_type": "display_data"
    },
    {
     "name": "stdout",
     "output_type": "stream",
     "text": [
      "\n"
     ]
    }
   ],
   "source": [
    "dev_ctd_df = pd.DataFrame(dev_baseline)\n",
    "test_ctd_df = pd.DataFrame(test_baseline)\n",
    "dev_ctd_marginals_df = pd.DataFrame(dev_baseline_marginals, columns=[\"marginals\", \"label\"]).assign(num_lfs=0)\n",
    "test_ctd_marginals_df = pd.DataFrame(test_baseline_marginals, columns=[\"marginals\", \"label\"]).assign(num_lfs=0)\n",
    "\n",
    "ctd_start = ds_end\n",
    "ctd_end = 25\n",
    "\n",
    "range_of_sample_sizes = (\n",
    "    list(range(1, correct_L[:,ctd_start:ctd_end].shape[1], 5)) +\n",
    "    [correct_L[:,ctd_start:ctd_end].shape[1]]\n",
    ")\n",
    "\n",
    "lf_sample_keeper, dev_results_df, test_results_df, dev_marginals_df, test_marginals_df = run_random_additional_lfs(\n",
    "    range_of_sample_sizes=range_of_sample_sizes, \n",
    "    range_of_lf_indicies = list(range(ctd_start, ctd_end+1)),\n",
    "    size_of_sample_pool=ctd_end-ctd_start,\n",
    "    num_of_samples=num_of_samples,\n",
    "    train=correct_L, \n",
    "    dev=correct_L_dev,\n",
    "    dev_labels=candidate_dfs['dev'].curated_ctd.values,\n",
    "    test=correct_L_test,\n",
    "    test_labels=candidate_dfs['test'].curated_ctd.values,\n",
    "    grid=regularization_grid,\n",
    "    label_matricies=label_matricies['train'],\n",
    "    train_marginal_dir='data/random_sampling/CtD/marginals/',\n",
    "    ds_start=ds_start,\n",
    "    ds_end=ds_end,\n",
    ")\n",
    "\n",
    "dev_ctd_df = dev_ctd_df.append(dev_results_df, sort=True)\n",
    "test_ctd_df = test_ctd_df.append(test_results_df, sort=True)\n",
    "dev_ctd_marginals_df = dev_ctd_marginals_df.append(dev_marginals_df, sort=True)\n",
    "test_ctd_marginals_df = test_ctd_marginals_df.append(test_marginals_df, sort=True)"
   ]
  },
  {
   "cell_type": "code",
   "execution_count": 24,
   "metadata": {
    "ExecuteTime": {
     "end_time": "2019-04-25T15:27:00.351358Z",
     "start_time": "2019-04-25T15:26:54.941399Z"
    }
   },
   "outputs": [],
   "source": [
    "dev_ctd_marginals_df = (\n",
    "     dev_ctd_marginals_df\n",
    "     .assign(\n",
    "        frac_correct=(\n",
    "            dev_ctd_marginals_df\n",
    "            .apply(count_fraction_correct,axis=1)\n",
    "            .values\n",
    "        )\n",
    "    )\n",
    "    .groupby([\"label\", \"num_lfs\"])[\"frac_correct\"]\n",
    "    .agg(pd.np.mean)\n",
    "    .reset_index(level=[\"label\", \"num_lfs\"])\n",
    " )"
   ]
  },
  {
   "cell_type": "code",
   "execution_count": 25,
   "metadata": {
    "ExecuteTime": {
     "end_time": "2019-04-25T15:27:05.826844Z",
     "start_time": "2019-04-25T15:27:00.352835Z"
    }
   },
   "outputs": [],
   "source": [
    "test_ctd_marginals_df = (\n",
    "    test_ctd_marginals_df\n",
    "    .assign(\n",
    "        frac_correct=(\n",
    "            test_ctd_marginals_df\n",
    "            .apply(count_fraction_correct, axis=1)\n",
    "            .values\n",
    "        )\n",
    "    )\n",
    "    .groupby([\"label\", \"num_lfs\"])[\"frac_correct\"]\n",
    "    .agg(pd.np.mean)\n",
    "    .reset_index(level=[\"label\", \"num_lfs\"])\n",
    ")"
   ]
  },
  {
   "cell_type": "markdown",
   "metadata": {},
   "source": [
    "## Dev Set Performance (AUPRC, AUROC)"
   ]
  },
  {
   "cell_type": "code",
   "execution_count": 26,
   "metadata": {
    "ExecuteTime": {
     "end_time": "2019-04-25T15:27:06.252394Z",
     "start_time": "2019-04-25T15:27:05.828340Z"
    }
   },
   "outputs": [
    {
     "name": "stderr",
     "output_type": "stream",
     "text": [
      "/home/danich1/anaconda2/envs/snorkeling/lib/python3.6/site-packages/scipy/stats/stats.py:1713: FutureWarning: Using a non-tuple sequence for multidimensional indexing is deprecated; use `arr[tuple(seq)]` instead of `arr[seq]`. In the future this will be interpreted as an array index, `arr[np.array(seq)]`, which will result either in an error or a different result.\n",
      "  return np.add.reduce(sorted[indexer] * weights, axis=axis) / sumval\n"
     ]
    },
    {
     "data": {
      "text/plain": [
       "<matplotlib.axes._subplots.AxesSubplot at 0x7fc83545f828>"
      ]
     },
     "execution_count": 26,
     "metadata": {},
     "output_type": "execute_result"
    },
    {
     "data": {
      "image/png": "[encoded data removed]",
      "text/plain": [
       "<matplotlib.figure.Figure at 0x7fc822078908>"
      ]
     },
     "metadata": {},
     "output_type": "display_data"
    }
   ],
   "source": [
    "fig, axs = plt.subplots(ncols=2, figsize=(10, 5))\n",
    "sns.pointplot(x=\"num_lfs\", y=\"AUPRC\", data=dev_ctd_df, ax=axs[0])\n",
    "sns.pointplot(x=\"num_lfs\", y=\"AUROC\", data=dev_ctd_df, ax=axs[1])"
   ]
  },
  {
   "cell_type": "code",
   "execution_count": 27,
   "metadata": {
    "ExecuteTime": {
     "end_time": "2019-04-25T15:27:06.435432Z",
     "start_time": "2019-04-25T15:27:06.253827Z"
    }
   },
   "outputs": [
    {
     "data": {
      "text/plain": [
       "<matplotlib.axes._subplots.AxesSubplot at 0x7fc8b785b4e0>"
      ]
     },
     "execution_count": 27,
     "metadata": {},
     "output_type": "execute_result"
    },
    {
     "data": {
      "image/png": "[encoded data removed]",
      "text/plain": [
       "<matplotlib.figure.Figure at 0x7fc83510bdd8>"
      ]
     },
     "metadata": {},
     "output_type": "display_data"
    }
   ],
   "source": [
    "sns.pointplot(x=\"num_lfs\", y=\"frac_correct\", data=dev_ctd_marginals_df, hue=\"label\")"
   ]
  },
  {
   "cell_type": "markdown",
   "metadata": {},
   "source": [
    "## Test Set Performance (AUPRC, AUROC)"
   ]
  },
  {
   "cell_type": "code",
   "execution_count": 28,
   "metadata": {
    "ExecuteTime": {
     "end_time": "2019-04-25T15:27:06.854170Z",
     "start_time": "2019-04-25T15:27:06.436823Z"
    }
   },
   "outputs": [
    {
     "name": "stderr",
     "output_type": "stream",
     "text": [
      "/home/danich1/anaconda2/envs/snorkeling/lib/python3.6/site-packages/scipy/stats/stats.py:1713: FutureWarning: Using a non-tuple sequence for multidimensional indexing is deprecated; use `arr[tuple(seq)]` instead of `arr[seq]`. In the future this will be interpreted as an array index, `arr[np.array(seq)]`, which will result either in an error or a different result.\n",
      "  return np.add.reduce(sorted[indexer] * weights, axis=axis) / sumval\n"
     ]
    },
    {
     "data": {
      "text/plain": [
       "<matplotlib.axes._subplots.AxesSubplot at 0x7fc81b7c1f60>"
      ]
     },
     "execution_count": 28,
     "metadata": {},
     "output_type": "execute_result"
    },
    {
     "data": {
      "image/png": "[encoded data removed]",
      "text/plain": [
       "<matplotlib.figure.Figure at 0x7fc81b800da0>"
      ]
     },
     "metadata": {},
     "output_type": "display_data"
    }
   ],
   "source": [
    "fig, axs = plt.subplots(ncols=2, figsize=(10, 5))\n",
    "sns.pointplot(x=\"num_lfs\", y=\"AUPRC\", data=test_ctd_df, ax=axs[0])\n",
    "sns.pointplot(x=\"num_lfs\", y=\"AUROC\", data=test_ctd_df, ax=axs[1])"
   ]
  },
  {
   "cell_type": "code",
   "execution_count": 29,
   "metadata": {
    "ExecuteTime": {
     "end_time": "2019-04-25T15:27:07.038184Z",
     "start_time": "2019-04-25T15:27:06.855327Z"
    }
   },
   "outputs": [
    {
     "data": {
      "text/plain": [
       "<matplotlib.axes._subplots.AxesSubplot at 0x7fc822062898>"
      ]
     },
     "execution_count": 29,
     "metadata": {},
     "output_type": "execute_result"
    },
    {
     "data": {
      "image/png": "[encoded data removed]",
      "text/plain": [
       "<matplotlib.figure.Figure at 0x7fc81b8365c0>"
      ]
     },
     "metadata": {},
     "output_type": "display_data"
    }
   ],
   "source": [
    "sns.pointplot(x=\"num_lfs\", y=\"frac_correct\", data=test_ctd_marginals_df, hue=\"label\")"
   ]
  },
  {
   "cell_type": "code",
   "execution_count": 30,
   "metadata": {
    "ExecuteTime": {
     "end_time": "2019-04-25T15:27:07.067120Z",
     "start_time": "2019-04-25T15:27:07.039419Z"
    }
   },
   "outputs": [],
   "source": [
    "dev_ctd_df.to_csv(\n",
    "    \"data/random_sampling/CtD/results/dev_sampled_performance.tsv\", \n",
    "    index=False, sep=\"\\t\", float_format=\"%.5g\"\n",
    ")\n",
    "\n",
    "test_ctd_df.to_csv(\n",
    "    \"data/random_sampling/CtD/results/test_sampled_performance.tsv\", \n",
    "    index=False, sep=\"\\t\", float_format=\"%.5g\"\n",
    ")"
   ]
  },
  {
   "cell_type": "code",
   "execution_count": 31,
   "metadata": {
    "ExecuteTime": {
     "end_time": "2019-04-25T15:27:07.093479Z",
     "start_time": "2019-04-25T15:27:07.068363Z"
    }
   },
   "outputs": [],
   "source": [
    "dev_ctd_marginals_df.to_csv(\n",
    "    \"data/random_sampling/CtD/results/dev_sampled_marginals.tsv\", \n",
    "    index=False, sep=\"\\t\", float_format=\"%.5g\"\n",
    ")\n",
    "\n",
    "test_ctd_marginals_df.to_csv(\n",
    "    \"data/random_sampling/CtD/results/test_sampled_marginals.tsv\", \n",
    "    index=False, sep=\"\\t\", float_format=\"%.5g\"\n",
    ")"
   ]
  },
  {
   "cell_type": "markdown",
   "metadata": {},
   "source": [
    "# Using Disease Associates Gene Label Functions to Predict Compound Treats Disease Relations"
   ]
  },
  {
   "cell_type": "markdown",
   "metadata": {},
   "source": [
    "This section determines how well disease associates gene label functions predict compound treats disease relations."
   ]
  },
  {
   "cell_type": "code",
   "execution_count": 32,
   "metadata": {
    "ExecuteTime": {
     "end_time": "2019-04-25T15:27:07.123427Z",
     "start_time": "2019-04-25T15:27:07.094847Z"
    }
   },
   "outputs": [],
   "source": [
    "num_of_samples = 50\n",
    "regularization_grid = pd.np.round(pd.np.linspace(0.01, 5, num=10), 2)"
   ]
  },
  {
   "cell_type": "code",
   "execution_count": 33,
   "metadata": {
    "ExecuteTime": {
     "end_time": "2019-04-25T16:30:14.424604Z",
     "start_time": "2019-04-25T15:27:07.124879Z"
    }
   },
   "outputs": [
    {
     "data": {
      "application/vnd.jupyter.widget-view+json": {
       "model_id": "ae8f94bc8996400aa5567b7aab06fce1",
       "version_major": 2,
       "version_minor": 0
      },
      "text/html": [
       "<p>Failed to display Jupyter Widget of type <code>HBox</code>.</p>\n",
       "<p>\n",
       "  If you're reading this message in the Jupyter Notebook or JupyterLab Notebook, it may mean\n",
       "  that the widgets JavaScript is still loading. If this message persists, it\n",
       "  likely means that the widgets JavaScript library is either not installed or\n",
       "  not enabled. See the <a href=\"https://ipywidgets.readthedocs.io/en/stable/user_install.html\">Jupyter\n",
       "  Widgets Documentation</a> for setup instructions.\n",
       "</p>\n",
       "<p>\n",
       "  If you're reading this message in another frontend (for example, a static\n",
       "  rendering on GitHub or <a href=\"https://nbviewer.jupyter.org/\">NBViewer</a>),\n",
       "  it may mean that your frontend doesn't currently support widgets.\n",
       "</p>\n"
      ],
      "text/plain": [
       "HBox(children=(IntProgress(value=1, bar_style='info', max=1), HTML(value='')))"
      ]
     },
     "metadata": {},
     "output_type": "display_data"
    },
    {
     "name": "stdout",
     "output_type": "stream",
     "text": [
      "\n"
     ]
    },
    {
     "data": {
      "application/vnd.jupyter.widget-view+json": {
       "model_id": "f0ba2b5a66cc46b798d149c253f8212c",
       "version_major": 2,
       "version_minor": 0
      },
      "text/html": [
       "<p>Failed to display Jupyter Widget of type <code>HBox</code>.</p>\n",
       "<p>\n",
       "  If you're reading this message in the Jupyter Notebook or JupyterLab Notebook, it may mean\n",
       "  that the widgets JavaScript is still loading. If this message persists, it\n",
       "  likely means that the widgets JavaScript library is either not installed or\n",
       "  not enabled. See the <a href=\"https://ipywidgets.readthedocs.io/en/stable/user_install.html\">Jupyter\n",
       "  Widgets Documentation</a> for setup instructions.\n",
       "</p>\n",
       "<p>\n",
       "  If you're reading this message in another frontend (for example, a static\n",
       "  rendering on GitHub or <a href=\"https://nbviewer.jupyter.org/\">NBViewer</a>),\n",
       "  it may mean that your frontend doesn't currently support widgets.\n",
       "</p>\n"
      ],
      "text/plain": [
       "HBox(children=(IntProgress(value=1, bar_style='info', max=1), HTML(value='')))"
      ]
     },
     "metadata": {},
     "output_type": "display_data"
    },
    {
     "name": "stdout",
     "output_type": "stream",
     "text": [
      "\n"
     ]
    },
    {
     "data": {
      "application/vnd.jupyter.widget-view+json": {
       "model_id": "0af1fa5c3b6c441fa56844d3d3d873b4",
       "version_major": 2,
       "version_minor": 0
      },
      "text/html": [
       "<p>Failed to display Jupyter Widget of type <code>HBox</code>.</p>\n",
       "<p>\n",
       "  If you're reading this message in the Jupyter Notebook or JupyterLab Notebook, it may mean\n",
       "  that the widgets JavaScript is still loading. If this message persists, it\n",
       "  likely means that the widgets JavaScript library is either not installed or\n",
       "  not enabled. See the <a href=\"https://ipywidgets.readthedocs.io/en/stable/user_install.html\">Jupyter\n",
       "  Widgets Documentation</a> for setup instructions.\n",
       "</p>\n",
       "<p>\n",
       "  If you're reading this message in another frontend (for example, a static\n",
       "  rendering on GitHub or <a href=\"https://nbviewer.jupyter.org/\">NBViewer</a>),\n",
       "  it may mean that your frontend doesn't currently support widgets.\n",
       "</p>\n"
      ],
      "text/plain": [
       "HBox(children=(IntProgress(value=1, bar_style='info', max=1), HTML(value='')))"
      ]
     },
     "metadata": {},
     "output_type": "display_data"
    },
    {
     "name": "stdout",
     "output_type": "stream",
     "text": [
      "\n"
     ]
    },
    {
     "data": {
      "application/vnd.jupyter.widget-view+json": {
       "model_id": "ca32e2ad0abc439f910a54853420882a",
       "version_major": 2,
       "version_minor": 0
      },
      "text/html": [
       "<p>Failed to display Jupyter Widget of type <code>HBox</code>.</p>\n",
       "<p>\n",
       "  If you're reading this message in the Jupyter Notebook or JupyterLab Notebook, it may mean\n",
       "  that the widgets JavaScript is still loading. If this message persists, it\n",
       "  likely means that the widgets JavaScript library is either not installed or\n",
       "  not enabled. See the <a href=\"https://ipywidgets.readthedocs.io/en/stable/user_install.html\">Jupyter\n",
       "  Widgets Documentation</a> for setup instructions.\n",
       "</p>\n",
       "<p>\n",
       "  If you're reading this message in another frontend (for example, a static\n",
       "  rendering on GitHub or <a href=\"https://nbviewer.jupyter.org/\">NBViewer</a>),\n",
       "  it may mean that your frontend doesn't currently support widgets.\n",
       "</p>\n"
      ],
      "text/plain": [
       "HBox(children=(IntProgress(value=1, bar_style='info', max=1), HTML(value='')))"
      ]
     },
     "metadata": {},
     "output_type": "display_data"
    },
    {
     "name": "stdout",
     "output_type": "stream",
     "text": [
      "\n"
     ]
    },
    {
     "data": {
      "application/vnd.jupyter.widget-view+json": {
       "model_id": "f365685d2f3c4f7885026ef7ad55afbb",
       "version_major": 2,
       "version_minor": 0
      },
      "text/html": [
       "<p>Failed to display Jupyter Widget of type <code>HBox</code>.</p>\n",
       "<p>\n",
       "  If you're reading this message in the Jupyter Notebook or JupyterLab Notebook, it may mean\n",
       "  that the widgets JavaScript is still loading. If this message persists, it\n",
       "  likely means that the widgets JavaScript library is either not installed or\n",
       "  not enabled. See the <a href=\"https://ipywidgets.readthedocs.io/en/stable/user_install.html\">Jupyter\n",
       "  Widgets Documentation</a> for setup instructions.\n",
       "</p>\n",
       "<p>\n",
       "  If you're reading this message in another frontend (for example, a static\n",
       "  rendering on GitHub or <a href=\"https://nbviewer.jupyter.org/\">NBViewer</a>),\n",
       "  it may mean that your frontend doesn't currently support widgets.\n",
       "</p>\n"
      ],
      "text/plain": [
       "HBox(children=(IntProgress(value=1, bar_style='info', max=1), HTML(value='')))"
      ]
     },
     "metadata": {},
     "output_type": "display_data"
    },
    {
     "name": "stdout",
     "output_type": "stream",
     "text": [
      "\n"
     ]
    },
    {
     "data": {
      "application/vnd.jupyter.widget-view+json": {
       "model_id": "0726e6f29eea42ae9e3ebc10770241f8",
       "version_major": 2,
       "version_minor": 0
      },
      "text/html": [
       "<p>Failed to display Jupyter Widget of type <code>HBox</code>.</p>\n",
       "<p>\n",
       "  If you're reading this message in the Jupyter Notebook or JupyterLab Notebook, it may mean\n",
       "  that the widgets JavaScript is still loading. If this message persists, it\n",
       "  likely means that the widgets JavaScript library is either not installed or\n",
       "  not enabled. See the <a href=\"https://ipywidgets.readthedocs.io/en/stable/user_install.html\">Jupyter\n",
       "  Widgets Documentation</a> for setup instructions.\n",
       "</p>\n",
       "<p>\n",
       "  If you're reading this message in another frontend (for example, a static\n",
       "  rendering on GitHub or <a href=\"https://nbviewer.jupyter.org/\">NBViewer</a>),\n",
       "  it may mean that your frontend doesn't currently support widgets.\n",
       "</p>\n"
      ],
      "text/plain": [
       "HBox(children=(IntProgress(value=1, bar_style='info', max=1), HTML(value='')))"
      ]
     },
     "metadata": {},
     "output_type": "display_data"
    },
    {
     "name": "stdout",
     "output_type": "stream",
     "text": [
      "\n"
     ]
    },
    {
     "data": {
      "application/vnd.jupyter.widget-view+json": {
       "model_id": "2c41a0fec98f48d18feb93ff007de8cf",
       "version_major": 2,
       "version_minor": 0
      },
      "text/html": [
       "<p>Failed to display Jupyter Widget of type <code>HBox</code>.</p>\n",
       "<p>\n",
       "  If you're reading this message in the Jupyter Notebook or JupyterLab Notebook, it may mean\n",
       "  that the widgets JavaScript is still loading. If this message persists, it\n",
       "  likely means that the widgets JavaScript library is either not installed or\n",
       "  not enabled. See the <a href=\"https://ipywidgets.readthedocs.io/en/stable/user_install.html\">Jupyter\n",
       "  Widgets Documentation</a> for setup instructions.\n",
       "</p>\n",
       "<p>\n",
       "  If you're reading this message in another frontend (for example, a static\n",
       "  rendering on GitHub or <a href=\"https://nbviewer.jupyter.org/\">NBViewer</a>),\n",
       "  it may mean that your frontend doesn't currently support widgets.\n",
       "</p>\n"
      ],
      "text/plain": [
       "HBox(children=(IntProgress(value=1, bar_style='info', max=1), HTML(value='')))"
      ]
     },
     "metadata": {},
     "output_type": "display_data"
    },
    {
     "name": "stdout",
     "output_type": "stream",
     "text": [
      "\n"
     ]
    }
   ],
   "source": [
    "dev_dag_df = pd.DataFrame(dev_baseline)\n",
    "test_dag_df = pd.DataFrame(test_baseline)\n",
    "dev_dag_marginals_df = pd.DataFrame(dev_baseline_marginals, columns=[\"marginals\", \"label\"]).assign(num_lfs=0)\n",
    "test_dag_marginals_df = pd.DataFrame(test_baseline_marginals, columns=[\"marginals\", \"label\"]).assign(num_lfs=0)\n",
    "\n",
    "dag_start = 25\n",
    "dag_end = 55\n",
    "\n",
    "range_of_sample_sizes = (\n",
    "    list(range(1, correct_L[:,dag_start:dag_end].shape[1], 5)) +\n",
    "    [correct_L[:,dag_start:dag_end].shape[1]]\n",
    ")\n",
    "\n",
    "lf_sample_keeper, dev_results_df, test_results_df, dev_marginals_df, test_marginals_df = run_random_additional_lfs(\n",
    "    range_of_sample_sizes=range_of_sample_sizes, \n",
    "    range_of_lf_indicies = list(range(dag_start, dag_end+1)),\n",
    "    size_of_sample_pool=dag_end-dag_start,\n",
    "    num_of_samples=num_of_samples,\n",
    "    train=correct_L, \n",
    "    dev=correct_L_dev,\n",
    "    dev_labels=candidate_dfs['dev'].curated_ctd.values,\n",
    "    test=correct_L_test,\n",
    "    test_labels=candidate_dfs['test'].curated_ctd.values,\n",
    "    grid=regularization_grid,\n",
    "    label_matricies=label_matricies['train'],\n",
    "    train_marginal_dir='data/random_sampling/DaG/marginals/',\n",
    "    ds_start=ds_start,\n",
    "    ds_end=ds_end,\n",
    ")\n",
    "\n",
    "dev_dag_df = dev_dag_df.append(dev_results_df, sort=True)\n",
    "test_dag_df = test_dag_df.append(test_results_df, sort=True)\n",
    "dev_dag_marginals_df = dev_dag_marginals_df.append(dev_marginals_df, sort=True)\n",
    "test_dag_marginals_df = test_dag_marginals_df.append(test_marginals_df, sort=True)"
   ]
  },
  {
   "cell_type": "code",
   "execution_count": 34,
   "metadata": {
    "ExecuteTime": {
     "end_time": "2019-04-25T16:30:20.828651Z",
     "start_time": "2019-04-25T16:30:14.426186Z"
    }
   },
   "outputs": [],
   "source": [
    "dev_dag_marginals_df = (\n",
    "     dev_dag_marginals_df\n",
    "     .assign(\n",
    "        frac_correct=(\n",
    "            dev_dag_marginals_df\n",
    "            .apply(count_fraction_correct,axis=1)\n",
    "            .values\n",
    "        )\n",
    "    )\n",
    "    .groupby([\"label\", \"num_lfs\"])[\"frac_correct\"]\n",
    "    .agg(pd.np.mean)\n",
    "    .reset_index(level=[\"label\", \"num_lfs\"])\n",
    ")"
   ]
  },
  {
   "cell_type": "code",
   "execution_count": 35,
   "metadata": {
    "ExecuteTime": {
     "end_time": "2019-04-25T16:30:27.253853Z",
     "start_time": "2019-04-25T16:30:20.830195Z"
    }
   },
   "outputs": [],
   "source": [
    "test_dag_marginals_df = (\n",
    "    test_dag_marginals_df\n",
    "    .assign(\n",
    "        frac_correct=(\n",
    "            test_dag_marginals_df\n",
    "            .apply(count_fraction_correct, axis=1)\n",
    "            .values\n",
    "        )\n",
    "    )\n",
    "    .groupby([\"label\", \"num_lfs\"])[\"frac_correct\"]\n",
    "    .agg(pd.np.mean)\n",
    "    .reset_index(level=[\"label\", \"num_lfs\"])\n",
    ")"
   ]
  },
  {
   "cell_type": "markdown",
   "metadata": {},
   "source": [
    "## Dev Set Performance (AUPRC, AUROC)"
   ]
  },
  {
   "cell_type": "code",
   "execution_count": 36,
   "metadata": {
    "ExecuteTime": {
     "end_time": "2019-04-25T16:30:27.712698Z",
     "start_time": "2019-04-25T16:30:27.255381Z"
    }
   },
   "outputs": [
    {
     "name": "stderr",
     "output_type": "stream",
     "text": [
      "/home/danich1/anaconda2/envs/snorkeling/lib/python3.6/site-packages/scipy/stats/stats.py:1713: FutureWarning: Using a non-tuple sequence for multidimensional indexing is deprecated; use `arr[tuple(seq)]` instead of `arr[seq]`. In the future this will be interpreted as an array index, `arr[np.array(seq)]`, which will result either in an error or a different result.\n",
      "  return np.add.reduce(sorted[indexer] * weights, axis=axis) / sumval\n"
     ]
    },
    {
     "data": {
      "text/plain": [
       "<matplotlib.axes._subplots.AxesSubplot at 0x7fc813bf5048>"
      ]
     },
     "execution_count": 36,
     "metadata": {},
     "output_type": "execute_result"
    },
    {
     "data": {
      "image/png": "[encoded data removed]",
      "text/plain": [
       "<matplotlib.figure.Figure at 0x7fc81b7af710>"
      ]
     },
     "metadata": {},
     "output_type": "display_data"
    }
   ],
   "source": [
    "fig, axs = plt.subplots(ncols=2, figsize=(10, 5))\n",
    "sns.pointplot(x=\"num_lfs\", y=\"AUPRC\", data=dev_dag_df, ax=axs[0])\n",
    "sns.pointplot(x=\"num_lfs\", y=\"AUROC\", data=dev_dag_df, ax=axs[1])"
   ]
  },
  {
   "cell_type": "code",
   "execution_count": 37,
   "metadata": {
    "ExecuteTime": {
     "end_time": "2019-04-25T16:30:27.908619Z",
     "start_time": "2019-04-25T16:30:27.715624Z"
    }
   },
   "outputs": [
    {
     "data": {
      "text/plain": [
       "<matplotlib.axes._subplots.AxesSubplot at 0x7fc813b76a20>"
      ]
     },
     "execution_count": 37,
     "metadata": {},
     "output_type": "execute_result"
    },
    {
     "data": {
      "image/png": "[encoded data removed]",
      "text/plain": [
       "<matplotlib.figure.Figure at 0x7fc813ba4ba8>"
      ]
     },
     "metadata": {},
     "output_type": "display_data"
    }
   ],
   "source": [
    "sns.pointplot(x=\"num_lfs\", y=\"frac_correct\", data=dev_dag_marginals_df, hue=\"label\")"
   ]
  },
  {
   "cell_type": "markdown",
   "metadata": {},
   "source": [
    "## Test Set Performance (AUPRC, AUROC)"
   ]
  },
  {
   "cell_type": "code",
   "execution_count": 38,
   "metadata": {
    "ExecuteTime": {
     "end_time": "2019-04-25T16:30:28.361839Z",
     "start_time": "2019-04-25T16:30:27.911199Z"
    }
   },
   "outputs": [
    {
     "name": "stderr",
     "output_type": "stream",
     "text": [
      "/home/danich1/anaconda2/envs/snorkeling/lib/python3.6/site-packages/scipy/stats/stats.py:1713: FutureWarning: Using a non-tuple sequence for multidimensional indexing is deprecated; use `arr[tuple(seq)]` instead of `arr[seq]`. In the future this will be interpreted as an array index, `arr[np.array(seq)]`, which will result either in an error or a different result.\n",
      "  return np.add.reduce(sorted[indexer] * weights, axis=axis) / sumval\n"
     ]
    },
    {
     "data": {
      "text/plain": [
       "<matplotlib.axes._subplots.AxesSubplot at 0x7fc813a597b8>"
      ]
     },
     "execution_count": 38,
     "metadata": {},
     "output_type": "execute_result"
    },
    {
     "data": {
      "image/png": "[encoded data removed]",
      "text/plain": [
       "<matplotlib.figure.Figure at 0x7fc813b45b38>"
      ]
     },
     "metadata": {},
     "output_type": "display_data"
    }
   ],
   "source": [
    "fig, axs = plt.subplots(ncols=2, figsize=(10, 5))\n",
    "sns.pointplot(x=\"num_lfs\", y=\"AUPRC\", data=test_dag_df, ax=axs[0])\n",
    "sns.pointplot(x=\"num_lfs\", y=\"AUROC\", data=test_dag_df, ax=axs[1])"
   ]
  },
  {
   "cell_type": "code",
   "execution_count": 39,
   "metadata": {
    "ExecuteTime": {
     "end_time": "2019-04-25T16:30:28.552231Z",
     "start_time": "2019-04-25T16:30:28.363117Z"
    }
   },
   "outputs": [
    {
     "data": {
      "text/plain": [
       "<matplotlib.axes._subplots.AxesSubplot at 0x7fc813ae55f8>"
      ]
     },
     "execution_count": 39,
     "metadata": {},
     "output_type": "execute_result"
    },
    {
     "data": {
      "image/png": "[encoded data removed]",
      "text/plain": [
       "<matplotlib.figure.Figure at 0x7fc813a35198>"
      ]
     },
     "metadata": {},
     "output_type": "display_data"
    }
   ],
   "source": [
    "sns.pointplot(x=\"num_lfs\", y=\"frac_correct\", data=test_dag_marginals_df, hue=\"label\")"
   ]
  },
  {
   "cell_type": "code",
   "execution_count": 40,
   "metadata": {
    "ExecuteTime": {
     "end_time": "2019-04-25T16:30:28.581744Z",
     "start_time": "2019-04-25T16:30:28.553524Z"
    }
   },
   "outputs": [],
   "source": [
    "dev_dag_df.to_csv(\n",
    "    \"data/random_sampling/DaG/results/dev_sampled_performance.tsv\", \n",
    "    index=False, sep=\"\\t\", float_format=\"%.5g\"\n",
    ")\n",
    "\n",
    "test_dag_df.to_csv(\n",
    "    \"data/random_sampling/DaG/results/test_sampled_performance.tsv\", \n",
    "    index=False, sep=\"\\t\", float_format=\"%.5g\"\n",
    ")"
   ]
  },
  {
   "cell_type": "code",
   "execution_count": 41,
   "metadata": {
    "ExecuteTime": {
     "end_time": "2019-04-25T16:30:28.616505Z",
     "start_time": "2019-04-25T16:30:28.582968Z"
    }
   },
   "outputs": [],
   "source": [
    "dev_dag_marginals_df.to_csv(\n",
    "    \"data/random_sampling/DaG/results/dev_sampled_marginals.tsv\", \n",
    "    index=False, sep=\"\\t\", float_format=\"%.5g\"\n",
    ")\n",
    "\n",
    "test_dag_marginals_df.to_csv(\n",
    "    \"data/random_sampling/DaG/results/test_sampled_marginals.tsv\", \n",
    "    index=False, sep=\"\\t\", float_format=\"%.5g\"\n",
    ")"
   ]
  },
  {
   "cell_type": "markdown",
   "metadata": {},
   "source": [
    "# Using Compound Binds Gene Label Functions to Predict Compound Treats Disease Relations"
   ]
  },
  {
   "cell_type": "markdown",
   "metadata": {
    "ExecuteTime": {
     "end_time": "2019-04-16T15:39:46.707081Z",
     "start_time": "2019-04-16T15:39:46.693886Z"
    }
   },
   "source": [
    "This section determines how well compound binds gene label functions predict compound treats disease relations."
   ]
  },
  {
   "cell_type": "code",
   "execution_count": 42,
   "metadata": {
    "ExecuteTime": {
     "end_time": "2019-04-25T16:30:28.654399Z",
     "start_time": "2019-04-25T16:30:28.617946Z"
    }
   },
   "outputs": [],
   "source": [
    "num_of_samples = 50\n",
    "regularization_grid = pd.np.round(pd.np.linspace(0.01, 5, num=10), 2)"
   ]
  },
  {
   "cell_type": "code",
   "execution_count": 43,
   "metadata": {
    "ExecuteTime": {
     "end_time": "2019-04-25T17:07:57.934731Z",
     "start_time": "2019-04-25T16:30:28.657125Z"
    }
   },
   "outputs": [
    {
     "data": {
      "application/vnd.jupyter.widget-view+json": {
       "model_id": "bdf260b32ce443dbb978b10e08b4f94b",
       "version_major": 2,
       "version_minor": 0
      },
      "text/html": [
       "<p>Failed to display Jupyter Widget of type <code>HBox</code>.</p>\n",
       "<p>\n",
       "  If you're reading this message in the Jupyter Notebook or JupyterLab Notebook, it may mean\n",
       "  that the widgets JavaScript is still loading. If this message persists, it\n",
       "  likely means that the widgets JavaScript library is either not installed or\n",
       "  not enabled. See the <a href=\"https://ipywidgets.readthedocs.io/en/stable/user_install.html\">Jupyter\n",
       "  Widgets Documentation</a> for setup instructions.\n",
       "</p>\n",
       "<p>\n",
       "  If you're reading this message in another frontend (for example, a static\n",
       "  rendering on GitHub or <a href=\"https://nbviewer.jupyter.org/\">NBViewer</a>),\n",
       "  it may mean that your frontend doesn't currently support widgets.\n",
       "</p>\n"
      ],
      "text/plain": [
       "HBox(children=(IntProgress(value=1, bar_style='info', max=1), HTML(value='')))"
      ]
     },
     "metadata": {},
     "output_type": "display_data"
    },
    {
     "name": "stdout",
     "output_type": "stream",
     "text": [
      "\n"
     ]
    },
    {
     "data": {
      "application/vnd.jupyter.widget-view+json": {
       "model_id": "d1dd0dedbdeb4da4958b390b285207a9",
       "version_major": 2,
       "version_minor": 0
      },
      "text/html": [
       "<p>Failed to display Jupyter Widget of type <code>HBox</code>.</p>\n",
       "<p>\n",
       "  If you're reading this message in the Jupyter Notebook or JupyterLab Notebook, it may mean\n",
       "  that the widgets JavaScript is still loading. If this message persists, it\n",
       "  likely means that the widgets JavaScript library is either not installed or\n",
       "  not enabled. See the <a href=\"https://ipywidgets.readthedocs.io/en/stable/user_install.html\">Jupyter\n",
       "  Widgets Documentation</a> for setup instructions.\n",
       "</p>\n",
       "<p>\n",
       "  If you're reading this message in another frontend (for example, a static\n",
       "  rendering on GitHub or <a href=\"https://nbviewer.jupyter.org/\">NBViewer</a>),\n",
       "  it may mean that your frontend doesn't currently support widgets.\n",
       "</p>\n"
      ],
      "text/plain": [
       "HBox(children=(IntProgress(value=1, bar_style='info', max=1), HTML(value='')))"
      ]
     },
     "metadata": {},
     "output_type": "display_data"
    },
    {
     "name": "stdout",
     "output_type": "stream",
     "text": [
      "\n"
     ]
    },
    {
     "data": {
      "application/vnd.jupyter.widget-view+json": {
       "model_id": "ad0c38393d5443eaa1ad2b3f47b41c24",
       "version_major": 2,
       "version_minor": 0
      },
      "text/html": [
       "<p>Failed to display Jupyter Widget of type <code>HBox</code>.</p>\n",
       "<p>\n",
       "  If you're reading this message in the Jupyter Notebook or JupyterLab Notebook, it may mean\n",
       "  that the widgets JavaScript is still loading. If this message persists, it\n",
       "  likely means that the widgets JavaScript library is either not installed or\n",
       "  not enabled. See the <a href=\"https://ipywidgets.readthedocs.io/en/stable/user_install.html\">Jupyter\n",
       "  Widgets Documentation</a> for setup instructions.\n",
       "</p>\n",
       "<p>\n",
       "  If you're reading this message in another frontend (for example, a static\n",
       "  rendering on GitHub or <a href=\"https://nbviewer.jupyter.org/\">NBViewer</a>),\n",
       "  it may mean that your frontend doesn't currently support widgets.\n",
       "</p>\n"
      ],
      "text/plain": [
       "HBox(children=(IntProgress(value=1, bar_style='info', max=1), HTML(value='')))"
      ]
     },
     "metadata": {},
     "output_type": "display_data"
    },
    {
     "name": "stdout",
     "output_type": "stream",
     "text": [
      "\n"
     ]
    },
    {
     "data": {
      "application/vnd.jupyter.widget-view+json": {
       "model_id": "fe31156f958e4a27adf0468175cf2725",
       "version_major": 2,
       "version_minor": 0
      },
      "text/html": [
       "<p>Failed to display Jupyter Widget of type <code>HBox</code>.</p>\n",
       "<p>\n",
       "  If you're reading this message in the Jupyter Notebook or JupyterLab Notebook, it may mean\n",
       "  that the widgets JavaScript is still loading. If this message persists, it\n",
       "  likely means that the widgets JavaScript library is either not installed or\n",
       "  not enabled. See the <a href=\"https://ipywidgets.readthedocs.io/en/stable/user_install.html\">Jupyter\n",
       "  Widgets Documentation</a> for setup instructions.\n",
       "</p>\n",
       "<p>\n",
       "  If you're reading this message in another frontend (for example, a static\n",
       "  rendering on GitHub or <a href=\"https://nbviewer.jupyter.org/\">NBViewer</a>),\n",
       "  it may mean that your frontend doesn't currently support widgets.\n",
       "</p>\n"
      ],
      "text/plain": [
       "HBox(children=(IntProgress(value=1, bar_style='info', max=1), HTML(value='')))"
      ]
     },
     "metadata": {},
     "output_type": "display_data"
    },
    {
     "name": "stdout",
     "output_type": "stream",
     "text": [
      "\n"
     ]
    },
    {
     "data": {
      "application/vnd.jupyter.widget-view+json": {
       "model_id": "5b4a495843df4edfb28a2b191e01b9f9",
       "version_major": 2,
       "version_minor": 0
      },
      "text/html": [
       "<p>Failed to display Jupyter Widget of type <code>HBox</code>.</p>\n",
       "<p>\n",
       "  If you're reading this message in the Jupyter Notebook or JupyterLab Notebook, it may mean\n",
       "  that the widgets JavaScript is still loading. If this message persists, it\n",
       "  likely means that the widgets JavaScript library is either not installed or\n",
       "  not enabled. See the <a href=\"https://ipywidgets.readthedocs.io/en/stable/user_install.html\">Jupyter\n",
       "  Widgets Documentation</a> for setup instructions.\n",
       "</p>\n",
       "<p>\n",
       "  If you're reading this message in another frontend (for example, a static\n",
       "  rendering on GitHub or <a href=\"https://nbviewer.jupyter.org/\">NBViewer</a>),\n",
       "  it may mean that your frontend doesn't currently support widgets.\n",
       "</p>\n"
      ],
      "text/plain": [
       "HBox(children=(IntProgress(value=1, bar_style='info', max=1), HTML(value='')))"
      ]
     },
     "metadata": {},
     "output_type": "display_data"
    },
    {
     "name": "stdout",
     "output_type": "stream",
     "text": [
      "\n"
     ]
    }
   ],
   "source": [
    "dev_cbg_df = pd.DataFrame(dev_baseline)\n",
    "test_cbg_df = pd.DataFrame(test_baseline)\n",
    "dev_cbg_marginals_df = pd.DataFrame(dev_baseline_marginals, columns=[\"marginals\", \"label\"]).assign(num_lfs=0)\n",
    "test_cbg_marginals_df = pd.DataFrame(test_baseline_marginals, columns=[\"marginals\", \"label\"]).assign(num_lfs=0)\n",
    "\n",
    "cbg_start = 55\n",
    "cbg_end = 75\n",
    "\n",
    "range_of_sample_sizes = (\n",
    "    list(range(1, correct_L[:,cbg_start:cbg_end].shape[1], 5)) +\n",
    "    [correct_L[:,cbg_start:cbg_end].shape[1]]\n",
    ")\n",
    "\n",
    "lf_sample_keeper, dev_results_df, test_results_df, dev_marginals_df, test_marginals_df = run_random_additional_lfs(\n",
    "    range_of_sample_sizes=range_of_sample_sizes, \n",
    "    range_of_lf_indicies = list(range(cbg_start, cbg_end+1)),\n",
    "    size_of_sample_pool=cbg_end-cbg_start,\n",
    "    num_of_samples=num_of_samples,\n",
    "    train=correct_L, \n",
    "    dev=correct_L_dev,\n",
    "    dev_labels=candidate_dfs['dev'].curated_ctd.values,\n",
    "    test=correct_L_test,\n",
    "    test_labels=candidate_dfs['test'].curated_ctd.values,\n",
    "    grid=regularization_grid,\n",
    "    label_matricies=label_matricies['train'],\n",
    "    train_marginal_dir='data/random_sampling/CbG/marginals/',\n",
    "    ds_start=ds_start,\n",
    "    ds_end=ds_end,\n",
    ")\n",
    "\n",
    "dev_cbg_df = dev_cbg_df.append(dev_results_df, sort=True)\n",
    "test_cbg_df = test_cbg_df.append(test_results_df, sort=True)\n",
    "dev_cbg_marginals_df = dev_cbg_marginals_df.append(dev_marginals_df, sort=True)\n",
    "test_cbg_marginals_df= test_cbg_marginals_df.append(test_marginals_df, sort=True)"
   ]
  },
  {
   "cell_type": "code",
   "execution_count": 44,
   "metadata": {
    "ExecuteTime": {
     "end_time": "2019-04-25T17:08:02.567179Z",
     "start_time": "2019-04-25T17:07:57.936299Z"
    }
   },
   "outputs": [],
   "source": [
    "dev_cbg_marginals_df = (\n",
    "     dev_cbg_marginals_df\n",
    "     .assign(\n",
    "        frac_correct=(\n",
    "            dev_cbg_marginals_df\n",
    "            .apply(count_fraction_correct,axis=1)\n",
    "            .values\n",
    "        )\n",
    "    )\n",
    "    .groupby([\"label\", \"num_lfs\"])[\"frac_correct\"]\n",
    "    .agg(pd.np.mean)\n",
    "    .reset_index(level=[\"label\", \"num_lfs\"])\n",
    ")"
   ]
  },
  {
   "cell_type": "code",
   "execution_count": 45,
   "metadata": {
    "ExecuteTime": {
     "end_time": "2019-04-25T17:08:07.160022Z",
     "start_time": "2019-04-25T17:08:02.568669Z"
    }
   },
   "outputs": [],
   "source": [
    "test_cbg_marginals_df = (\n",
    "    test_cbg_marginals_df\n",
    "    .assign(\n",
    "        frac_correct=(\n",
    "            test_cbg_marginals_df\n",
    "            .apply(count_fraction_correct, axis=1)\n",
    "            .values\n",
    "        )\n",
    "    )\n",
    "    .groupby([\"label\", \"num_lfs\"])[\"frac_correct\"]\n",
    "    .agg(pd.np.mean)\n",
    "    .reset_index(level=[\"label\", \"num_lfs\"])\n",
    ")"
   ]
  },
  {
   "cell_type": "markdown",
   "metadata": {},
   "source": [
    "## Dev Set Performance (AUPRC, AUROC)"
   ]
  },
  {
   "cell_type": "code",
   "execution_count": 46,
   "metadata": {
    "ExecuteTime": {
     "end_time": "2019-04-25T17:08:07.547202Z",
     "start_time": "2019-04-25T17:08:07.161620Z"
    }
   },
   "outputs": [
    {
     "name": "stderr",
     "output_type": "stream",
     "text": [
      "/home/danich1/anaconda2/envs/snorkeling/lib/python3.6/site-packages/scipy/stats/stats.py:1713: FutureWarning: Using a non-tuple sequence for multidimensional indexing is deprecated; use `arr[tuple(seq)]` instead of `arr[seq]`. In the future this will be interpreted as an array index, `arr[np.array(seq)]`, which will result either in an error or a different result.\n",
      "  return np.add.reduce(sorted[indexer] * weights, axis=axis) / sumval\n"
     ]
    },
    {
     "data": {
      "text/plain": [
       "<matplotlib.axes._subplots.AxesSubplot at 0x7fc812640fd0>"
      ]
     },
     "execution_count": 46,
     "metadata": {},
     "output_type": "execute_result"
    },
    {
     "data": {
      "image/png": "[encoded data removed]",
      "text/plain": [
       "<matplotlib.figure.Figure at 0x7fc81397a748>"
      ]
     },
     "metadata": {},
     "output_type": "display_data"
    }
   ],
   "source": [
    "fig, axs = plt.subplots(ncols=2, figsize=(10, 5))\n",
    "sns.pointplot(x=\"num_lfs\", y=\"AUPRC\", data=dev_cbg_df, ax=axs[0])\n",
    "sns.pointplot(x=\"num_lfs\", y=\"AUROC\", data=dev_cbg_df, ax=axs[1])"
   ]
  },
  {
   "cell_type": "code",
   "execution_count": 47,
   "metadata": {
    "ExecuteTime": {
     "end_time": "2019-04-25T17:08:07.723209Z",
     "start_time": "2019-04-25T17:08:07.548478Z"
    }
   },
   "outputs": [
    {
     "data": {
      "text/plain": [
       "<matplotlib.axes._subplots.AxesSubplot at 0x7fc81267f668>"
      ]
     },
     "execution_count": 47,
     "metadata": {},
     "output_type": "execute_result"
    },
    {
     "data": {
      "image/png": "[encoded data removed]",
      "text/plain": [
       "<matplotlib.figure.Figure at 0x7fc8126ef4e0>"
      ]
     },
     "metadata": {},
     "output_type": "display_data"
    }
   ],
   "source": [
    "sns.pointplot(x=\"num_lfs\", y=\"frac_correct\", data=dev_cbg_marginals_df, hue=\"label\")"
   ]
  },
  {
   "cell_type": "markdown",
   "metadata": {},
   "source": [
    "## Test Set Performance (AUPRC, AUROC)"
   ]
  },
  {
   "cell_type": "code",
   "execution_count": 48,
   "metadata": {
    "ExecuteTime": {
     "end_time": "2019-04-25T17:08:08.126718Z",
     "start_time": "2019-04-25T17:08:07.725094Z"
    }
   },
   "outputs": [
    {
     "name": "stderr",
     "output_type": "stream",
     "text": [
      "/home/danich1/anaconda2/envs/snorkeling/lib/python3.6/site-packages/scipy/stats/stats.py:1713: FutureWarning: Using a non-tuple sequence for multidimensional indexing is deprecated; use `arr[tuple(seq)]` instead of `arr[seq]`. In the future this will be interpreted as an array index, `arr[np.array(seq)]`, which will result either in an error or a different result.\n",
      "  return np.add.reduce(sorted[indexer] * weights, axis=axis) / sumval\n"
     ]
    },
    {
     "data": {
      "text/plain": [
       "<matplotlib.axes._subplots.AxesSubplot at 0x7fc812519f28>"
      ]
     },
     "execution_count": 48,
     "metadata": {},
     "output_type": "execute_result"
    },
    {
     "data": {
      "image/png": "[encoded data removed]",
      "text/plain": [
       "<matplotlib.figure.Figure at 0x7fc812660ef0>"
      ]
     },
     "metadata": {},
     "output_type": "display_data"
    }
   ],
   "source": [
    "fig, axs = plt.subplots(ncols=2, figsize=(10, 5))\n",
    "sns.pointplot(x=\"num_lfs\", y=\"AUPRC\", data=test_cbg_df, ax=axs[0])\n",
    "sns.pointplot(x=\"num_lfs\", y=\"AUROC\", data=test_cbg_df, ax=axs[1])"
   ]
  },
  {
   "cell_type": "code",
   "execution_count": 49,
   "metadata": {
    "ExecuteTime": {
     "end_time": "2019-04-25T17:08:08.305027Z",
     "start_time": "2019-04-25T17:08:08.128005Z"
    }
   },
   "outputs": [
    {
     "data": {
      "text/plain": [
       "<matplotlib.axes._subplots.AxesSubplot at 0x7fc81253dcc0>"
      ]
     },
     "execution_count": 49,
     "metadata": {},
     "output_type": "execute_result"
    },
    {
     "data": {
      "image/png": "[encoded data removed]",
      "text/plain": [
       "<matplotlib.figure.Figure at 0x7fc812508518>"
      ]
     },
     "metadata": {},
     "output_type": "display_data"
    }
   ],
   "source": [
    "sns.pointplot(x=\"num_lfs\", y=\"frac_correct\", data=test_cbg_marginals_df, hue=\"label\")"
   ]
  },
  {
   "cell_type": "code",
   "execution_count": 50,
   "metadata": {
    "ExecuteTime": {
     "end_time": "2019-04-25T17:08:08.333669Z",
     "start_time": "2019-04-25T17:08:08.306305Z"
    }
   },
   "outputs": [],
   "source": [
    "dev_cbg_df.to_csv(\n",
    "    \"data/random_sampling/CbG/results/dev_sampled_performance.tsv\", \n",
    "    index=False, sep=\"\\t\", float_format=\"%.5g\"\n",
    ")\n",
    "\n",
    "test_cbg_df.to_csv(\n",
    "    \"data/random_sampling/CbG/results/test_sampled_performance.tsv\", \n",
    "    index=False, sep=\"\\t\", float_format=\"%.5g\"\n",
    ")"
   ]
  },
  {
   "cell_type": "code",
   "execution_count": 51,
   "metadata": {
    "ExecuteTime": {
     "end_time": "2019-04-25T17:08:08.385140Z",
     "start_time": "2019-04-25T17:08:08.334857Z"
    }
   },
   "outputs": [],
   "source": [
    "dev_cbg_marginals_df.to_csv(\n",
    "    \"data/random_sampling/CbG/results/dev_sampled_marginals.tsv\", \n",
    "    index=False, sep=\"\\t\", float_format=\"%.5g\"\n",
    ")\n",
    "\n",
    "test_cbg_marginals_df.to_csv(\n",
    "    \"data/random_sampling/CbG/results/test_sampled_marginals.tsv\", \n",
    "    index=False, sep=\"\\t\", float_format=\"%.5g\"\n",
    ")"
   ]
  },
  {
   "cell_type": "markdown",
   "metadata": {},
   "source": [
    "# Using Gene Interacts Gene Label Functions to Predict Compound Treats Disease Relations"
   ]
  },
  {
   "cell_type": "markdown",
   "metadata": {},
   "source": [
    "This section dermines how well gene interacts gene label functions can predict Compound Treats Disease Relations."
   ]
  },
  {
   "cell_type": "code",
   "execution_count": 52,
   "metadata": {
    "ExecuteTime": {
     "end_time": "2019-04-25T17:08:08.456899Z",
     "start_time": "2019-04-25T17:08:08.390857Z"
    }
   },
   "outputs": [],
   "source": [
    "num_of_samples = 50\n",
    "regularization_grid = pd.np.round(pd.np.linspace(0.01, 5, num=10), 2)"
   ]
  },
  {
   "cell_type": "code",
   "execution_count": 53,
   "metadata": {
    "ExecuteTime": {
     "end_time": "2019-04-25T18:09:57.239851Z",
     "start_time": "2019-04-25T17:08:08.458952Z"
    }
   },
   "outputs": [
    {
     "data": {
      "application/vnd.jupyter.widget-view+json": {
       "model_id": "686b4428c6d74b48837831f78496f8d3",
       "version_major": 2,
       "version_minor": 0
      },
      "text/html": [
       "<p>Failed to display Jupyter Widget of type <code>HBox</code>.</p>\n",
       "<p>\n",
       "  If you're reading this message in the Jupyter Notebook or JupyterLab Notebook, it may mean\n",
       "  that the widgets JavaScript is still loading. If this message persists, it\n",
       "  likely means that the widgets JavaScript library is either not installed or\n",
       "  not enabled. See the <a href=\"https://ipywidgets.readthedocs.io/en/stable/user_install.html\">Jupyter\n",
       "  Widgets Documentation</a> for setup instructions.\n",
       "</p>\n",
       "<p>\n",
       "  If you're reading this message in another frontend (for example, a static\n",
       "  rendering on GitHub or <a href=\"https://nbviewer.jupyter.org/\">NBViewer</a>),\n",
       "  it may mean that your frontend doesn't currently support widgets.\n",
       "</p>\n"
      ],
      "text/plain": [
       "HBox(children=(IntProgress(value=1, bar_style='info', max=1), HTML(value='')))"
      ]
     },
     "metadata": {},
     "output_type": "display_data"
    },
    {
     "name": "stdout",
     "output_type": "stream",
     "text": [
      "\n"
     ]
    },
    {
     "data": {
      "application/vnd.jupyter.widget-view+json": {
       "model_id": "6e093d3131cf4750a2cc818926a63b58",
       "version_major": 2,
       "version_minor": 0
      },
      "text/html": [
       "<p>Failed to display Jupyter Widget of type <code>HBox</code>.</p>\n",
       "<p>\n",
       "  If you're reading this message in the Jupyter Notebook or JupyterLab Notebook, it may mean\n",
       "  that the widgets JavaScript is still loading. If this message persists, it\n",
       "  likely means that the widgets JavaScript library is either not installed or\n",
       "  not enabled. See the <a href=\"https://ipywidgets.readthedocs.io/en/stable/user_install.html\">Jupyter\n",
       "  Widgets Documentation</a> for setup instructions.\n",
       "</p>\n",
       "<p>\n",
       "  If you're reading this message in another frontend (for example, a static\n",
       "  rendering on GitHub or <a href=\"https://nbviewer.jupyter.org/\">NBViewer</a>),\n",
       "  it may mean that your frontend doesn't currently support widgets.\n",
       "</p>\n"
      ],
      "text/plain": [
       "HBox(children=(IntProgress(value=1, bar_style='info', max=1), HTML(value='')))"
      ]
     },
     "metadata": {},
     "output_type": "display_data"
    },
    {
     "name": "stdout",
     "output_type": "stream",
     "text": [
      "\n"
     ]
    },
    {
     "data": {
      "application/vnd.jupyter.widget-view+json": {
       "model_id": "abdf7b1dacf149b08fdf0b2f7dc27955",
       "version_major": 2,
       "version_minor": 0
      },
      "text/html": [
       "<p>Failed to display Jupyter Widget of type <code>HBox</code>.</p>\n",
       "<p>\n",
       "  If you're reading this message in the Jupyter Notebook or JupyterLab Notebook, it may mean\n",
       "  that the widgets JavaScript is still loading. If this message persists, it\n",
       "  likely means that the widgets JavaScript library is either not installed or\n",
       "  not enabled. See the <a href=\"https://ipywidgets.readthedocs.io/en/stable/user_install.html\">Jupyter\n",
       "  Widgets Documentation</a> for setup instructions.\n",
       "</p>\n",
       "<p>\n",
       "  If you're reading this message in another frontend (for example, a static\n",
       "  rendering on GitHub or <a href=\"https://nbviewer.jupyter.org/\">NBViewer</a>),\n",
       "  it may mean that your frontend doesn't currently support widgets.\n",
       "</p>\n"
      ],
      "text/plain": [
       "HBox(children=(IntProgress(value=1, bar_style='info', max=1), HTML(value='')))"
      ]
     },
     "metadata": {},
     "output_type": "display_data"
    },
    {
     "name": "stdout",
     "output_type": "stream",
     "text": [
      "\n"
     ]
    },
    {
     "data": {
      "application/vnd.jupyter.widget-view+json": {
       "model_id": "b58418406dcc462ca2047ecff6c0a84d",
       "version_major": 2,
       "version_minor": 0
      },
      "text/html": [
       "<p>Failed to display Jupyter Widget of type <code>HBox</code>.</p>\n",
       "<p>\n",
       "  If you're reading this message in the Jupyter Notebook or JupyterLab Notebook, it may mean\n",
       "  that the widgets JavaScript is still loading. If this message persists, it\n",
       "  likely means that the widgets JavaScript library is either not installed or\n",
       "  not enabled. See the <a href=\"https://ipywidgets.readthedocs.io/en/stable/user_install.html\">Jupyter\n",
       "  Widgets Documentation</a> for setup instructions.\n",
       "</p>\n",
       "<p>\n",
       "  If you're reading this message in another frontend (for example, a static\n",
       "  rendering on GitHub or <a href=\"https://nbviewer.jupyter.org/\">NBViewer</a>),\n",
       "  it may mean that your frontend doesn't currently support widgets.\n",
       "</p>\n"
      ],
      "text/plain": [
       "HBox(children=(IntProgress(value=1, bar_style='info', max=1), HTML(value='')))"
      ]
     },
     "metadata": {},
     "output_type": "display_data"
    },
    {
     "name": "stdout",
     "output_type": "stream",
     "text": [
      "\n"
     ]
    },
    {
     "data": {
      "application/vnd.jupyter.widget-view+json": {
       "model_id": "cd1e4351ab2347a897d1095414fa605d",
       "version_major": 2,
       "version_minor": 0
      },
      "text/html": [
       "<p>Failed to display Jupyter Widget of type <code>HBox</code>.</p>\n",
       "<p>\n",
       "  If you're reading this message in the Jupyter Notebook or JupyterLab Notebook, it may mean\n",
       "  that the widgets JavaScript is still loading. If this message persists, it\n",
       "  likely means that the widgets JavaScript library is either not installed or\n",
       "  not enabled. See the <a href=\"https://ipywidgets.readthedocs.io/en/stable/user_install.html\">Jupyter\n",
       "  Widgets Documentation</a> for setup instructions.\n",
       "</p>\n",
       "<p>\n",
       "  If you're reading this message in another frontend (for example, a static\n",
       "  rendering on GitHub or <a href=\"https://nbviewer.jupyter.org/\">NBViewer</a>),\n",
       "  it may mean that your frontend doesn't currently support widgets.\n",
       "</p>\n"
      ],
      "text/plain": [
       "HBox(children=(IntProgress(value=1, bar_style='info', max=1), HTML(value='')))"
      ]
     },
     "metadata": {},
     "output_type": "display_data"
    },
    {
     "name": "stdout",
     "output_type": "stream",
     "text": [
      "\n"
     ]
    },
    {
     "data": {
      "application/vnd.jupyter.widget-view+json": {
       "model_id": "61a3125e4bc14903b48123405a066aba",
       "version_major": 2,
       "version_minor": 0
      },
      "text/html": [
       "<p>Failed to display Jupyter Widget of type <code>HBox</code>.</p>\n",
       "<p>\n",
       "  If you're reading this message in the Jupyter Notebook or JupyterLab Notebook, it may mean\n",
       "  that the widgets JavaScript is still loading. If this message persists, it\n",
       "  likely means that the widgets JavaScript library is either not installed or\n",
       "  not enabled. See the <a href=\"https://ipywidgets.readthedocs.io/en/stable/user_install.html\">Jupyter\n",
       "  Widgets Documentation</a> for setup instructions.\n",
       "</p>\n",
       "<p>\n",
       "  If you're reading this message in another frontend (for example, a static\n",
       "  rendering on GitHub or <a href=\"https://nbviewer.jupyter.org/\">NBViewer</a>),\n",
       "  it may mean that your frontend doesn't currently support widgets.\n",
       "</p>\n"
      ],
      "text/plain": [
       "HBox(children=(IntProgress(value=1, bar_style='info', max=1), HTML(value='')))"
      ]
     },
     "metadata": {},
     "output_type": "display_data"
    },
    {
     "name": "stdout",
     "output_type": "stream",
     "text": [
      "\n"
     ]
    },
    {
     "data": {
      "application/vnd.jupyter.widget-view+json": {
       "model_id": "7c36198f10d64fd18abdbaeeffa718b7",
       "version_major": 2,
       "version_minor": 0
      },
      "text/html": [
       "<p>Failed to display Jupyter Widget of type <code>HBox</code>.</p>\n",
       "<p>\n",
       "  If you're reading this message in the Jupyter Notebook or JupyterLab Notebook, it may mean\n",
       "  that the widgets JavaScript is still loading. If this message persists, it\n",
       "  likely means that the widgets JavaScript library is either not installed or\n",
       "  not enabled. See the <a href=\"https://ipywidgets.readthedocs.io/en/stable/user_install.html\">Jupyter\n",
       "  Widgets Documentation</a> for setup instructions.\n",
       "</p>\n",
       "<p>\n",
       "  If you're reading this message in another frontend (for example, a static\n",
       "  rendering on GitHub or <a href=\"https://nbviewer.jupyter.org/\">NBViewer</a>),\n",
       "  it may mean that your frontend doesn't currently support widgets.\n",
       "</p>\n"
      ],
      "text/plain": [
       "HBox(children=(IntProgress(value=1, bar_style='info', max=1), HTML(value='')))"
      ]
     },
     "metadata": {},
     "output_type": "display_data"
    },
    {
     "name": "stdout",
     "output_type": "stream",
     "text": [
      "\n"
     ]
    }
   ],
   "source": [
    "dev_gig_df = pd.DataFrame(dev_baseline)\n",
    "test_gig_df = pd.DataFrame(test_baseline)\n",
    "dev_gig_marginals_df = pd.DataFrame(dev_baseline_marginals, columns=[\"marginals\", \"label\"]).assign(num_lfs=0)\n",
    "test_gig_marginals_df = pd.DataFrame(test_baseline_marginals, columns=[\"marginals\", \"label\"]).assign(num_lfs=0)\n",
    "\n",
    "gig_start = 75\n",
    "gig_end = 103\n",
    "\n",
    "range_of_sample_sizes = (\n",
    "    list(range(1, correct_L[:,gig_start:gig_end].shape[1], 5)) +\n",
    "    [correct_L[:,gig_start:gig_end].shape[1]]\n",
    ")\n",
    "\n",
    "lf_sample_keeper, dev_results_df, test_results_df, dev_marginals_df, test_marginals_df= run_random_additional_lfs(\n",
    "    range_of_sample_sizes=range_of_sample_sizes, \n",
    "    range_of_lf_indicies = list(range(gig_start, gig_end+1)),\n",
    "    size_of_sample_pool=gig_end-gig_start,\n",
    "    num_of_samples=num_of_samples,\n",
    "    train=correct_L, \n",
    "    dev=correct_L_dev,\n",
    "    dev_labels=candidate_dfs['dev'].curated_ctd.values,\n",
    "    test=correct_L_test,\n",
    "    test_labels=candidate_dfs['test'].curated_ctd.values,\n",
    "    grid=regularization_grid,\n",
    "    label_matricies=label_matricies['train'],\n",
    "    train_marginal_dir='data/random_sampling/GiG/marginals/',\n",
    "    ds_start=ds_start,\n",
    "    ds_end=ds_end,\n",
    ")\n",
    "\n",
    "dev_gig_df = dev_gig_df.append(dev_results_df, sort=True)\n",
    "test_gig_df = test_gig_df.append(test_results_df, sort=True)\n",
    "dev_gig_marginals_df = dev_gig_marginals_df.append(dev_marginals_df, sort=True)\n",
    "test_gig_marginals_df = test_gig_marginals_df.append(test_marginals_df, sort=True)"
   ]
  },
  {
   "cell_type": "code",
   "execution_count": 54,
   "metadata": {
    "ExecuteTime": {
     "end_time": "2019-04-25T18:10:03.663682Z",
     "start_time": "2019-04-25T18:09:57.241349Z"
    }
   },
   "outputs": [],
   "source": [
    "dev_gig_marginals_df = (\n",
    "     dev_gig_marginals_df\n",
    "     .assign(\n",
    "        frac_correct=(\n",
    "            dev_gig_marginals_df\n",
    "            .apply(count_fraction_correct,axis=1)\n",
    "            .values\n",
    "        )\n",
    "    )\n",
    "    .groupby([\"label\", \"num_lfs\"])[\"frac_correct\"]\n",
    "    .agg(pd.np.mean)\n",
    "    .reset_index(level=[\"label\", \"num_lfs\"])\n",
    " )"
   ]
  },
  {
   "cell_type": "code",
   "execution_count": 55,
   "metadata": {
    "ExecuteTime": {
     "end_time": "2019-04-25T18:10:10.127646Z",
     "start_time": "2019-04-25T18:10:03.665212Z"
    }
   },
   "outputs": [],
   "source": [
    "test_gig_marginals_df = (\n",
    "    test_gig_marginals_df\n",
    "    .assign(\n",
    "        frac_correct=(\n",
    "            test_gig_marginals_df\n",
    "            .apply(count_fraction_correct, axis=1)\n",
    "            .values\n",
    "        )\n",
    "    )\n",
    "    .groupby([\"label\", \"num_lfs\"])[\"frac_correct\"]\n",
    "    .agg(pd.np.mean)\n",
    "    .reset_index(level=[\"label\", \"num_lfs\"])\n",
    ")"
   ]
  },
  {
   "cell_type": "markdown",
   "metadata": {},
   "source": [
    "## Dev Set Performance (AUPRC, AUROC)"
   ]
  },
  {
   "cell_type": "code",
   "execution_count": 56,
   "metadata": {
    "ExecuteTime": {
     "end_time": "2019-04-25T18:10:10.588272Z",
     "start_time": "2019-04-25T18:10:10.129240Z"
    }
   },
   "outputs": [
    {
     "name": "stderr",
     "output_type": "stream",
     "text": [
      "/home/danich1/anaconda2/envs/snorkeling/lib/python3.6/site-packages/scipy/stats/stats.py:1713: FutureWarning: Using a non-tuple sequence for multidimensional indexing is deprecated; use `arr[tuple(seq)]` instead of `arr[seq]`. In the future this will be interpreted as an array index, `arr[np.array(seq)]`, which will result either in an error or a different result.\n",
      "  return np.add.reduce(sorted[indexer] * weights, axis=axis) / sumval\n"
     ]
    },
    {
     "data": {
      "text/plain": [
       "<matplotlib.axes._subplots.AxesSubplot at 0x7fc8108c55f8>"
      ]
     },
     "execution_count": 56,
     "metadata": {},
     "output_type": "execute_result"
    },
    {
     "data": {
      "image/png": "[encoded data removed]",
      "text/plain": [
       "<matplotlib.figure.Figure at 0x7fc812436550>"
      ]
     },
     "metadata": {},
     "output_type": "display_data"
    }
   ],
   "source": [
    "fig, axs = plt.subplots(ncols=2, figsize=(10, 5))\n",
    "sns.pointplot(x=\"num_lfs\", y=\"AUPRC\", data=dev_gig_df, ax=axs[0])\n",
    "sns.pointplot(x=\"num_lfs\", y=\"AUROC\", data=dev_gig_df, ax=axs[1])"
   ]
  },
  {
   "cell_type": "code",
   "execution_count": 57,
   "metadata": {
    "ExecuteTime": {
     "end_time": "2019-04-25T18:10:10.788629Z",
     "start_time": "2019-04-25T18:10:10.591323Z"
    }
   },
   "outputs": [
    {
     "data": {
      "text/plain": [
       "<matplotlib.axes._subplots.AxesSubplot at 0x7fc812bf1cc0>"
      ]
     },
     "execution_count": 57,
     "metadata": {},
     "output_type": "execute_result"
    },
    {
     "data": {
      "image/png": "[encoded data removed]",
      "text/plain": [
       "<matplotlib.figure.Figure at 0x7fc810892550>"
      ]
     },
     "metadata": {},
     "output_type": "display_data"
    }
   ],
   "source": [
    "sns.pointplot(x=\"num_lfs\", y=\"frac_correct\", data=dev_gig_marginals_df, hue=\"label\")"
   ]
  },
  {
   "cell_type": "markdown",
   "metadata": {},
   "source": [
    "## Test Set Performance (AUPRC, AUROC)"
   ]
  },
  {
   "cell_type": "code",
   "execution_count": 58,
   "metadata": {
    "ExecuteTime": {
     "end_time": "2019-04-25T18:10:11.237166Z",
     "start_time": "2019-04-25T18:10:10.791581Z"
    }
   },
   "outputs": [
    {
     "name": "stderr",
     "output_type": "stream",
     "text": [
      "/home/danich1/anaconda2/envs/snorkeling/lib/python3.6/site-packages/scipy/stats/stats.py:1713: FutureWarning: Using a non-tuple sequence for multidimensional indexing is deprecated; use `arr[tuple(seq)]` instead of `arr[seq]`. In the future this will be interpreted as an array index, `arr[np.array(seq)]`, which will result either in an error or a different result.\n",
      "  return np.add.reduce(sorted[indexer] * weights, axis=axis) / sumval\n"
     ]
    },
    {
     "data": {
      "text/plain": [
       "<matplotlib.axes._subplots.AxesSubplot at 0x7fc8107b24a8>"
      ]
     },
     "execution_count": 58,
     "metadata": {},
     "output_type": "execute_result"
    },
    {
     "data": {
      "image/png": "[encoded data removed]",
      "text/plain": [
       "<matplotlib.figure.Figure at 0x7fc812461588>"
      ]
     },
     "metadata": {},
     "output_type": "display_data"
    }
   ],
   "source": [
    "fig, axs = plt.subplots(ncols=2, figsize=(10, 5))\n",
    "sns.pointplot(x=\"num_lfs\", y=\"AUPRC\", data=test_gig_df, ax=axs[0])\n",
    "sns.pointplot(x=\"num_lfs\", y=\"AUROC\", data=test_gig_df, ax=axs[1])"
   ]
  },
  {
   "cell_type": "code",
   "execution_count": 59,
   "metadata": {
    "ExecuteTime": {
     "end_time": "2019-04-25T18:10:11.426408Z",
     "start_time": "2019-04-25T18:10:11.238563Z"
    }
   },
   "outputs": [
    {
     "data": {
      "text/plain": [
       "<matplotlib.axes._subplots.AxesSubplot at 0x7fc81075a4e0>"
      ]
     },
     "execution_count": 59,
     "metadata": {},
     "output_type": "execute_result"
    },
    {
     "data": {
      "image/png": "[encoded data removed]",
      "text/plain": [
       "<matplotlib.figure.Figure at 0x7fc8107e4908>"
      ]
     },
     "metadata": {},
     "output_type": "display_data"
    }
   ],
   "source": [
    "sns.pointplot(x=\"num_lfs\", y=\"frac_correct\", data=test_gig_marginals_df, hue=\"label\")"
   ]
  },
  {
   "cell_type": "code",
   "execution_count": 60,
   "metadata": {
    "ExecuteTime": {
     "end_time": "2019-04-25T18:10:11.455287Z",
     "start_time": "2019-04-25T18:10:11.427807Z"
    }
   },
   "outputs": [],
   "source": [
    "dev_gig_df.to_csv(\n",
    "    \"data/random_sampling/GiG/results/dev_sampled_performance.tsv\", \n",
    "    index=False, sep=\"\\t\", float_format=\"%.5g\"\n",
    ")\n",
    "\n",
    "test_gig_df.to_csv(\n",
    "    \"data/random_sampling/GiG/results/test_sampled_performance.tsv\", \n",
    "    index=False, sep=\"\\t\", float_format=\"%.5g\"\n",
    ")"
   ]
  },
  {
   "cell_type": "code",
   "execution_count": 61,
   "metadata": {
    "ExecuteTime": {
     "end_time": "2019-04-25T18:10:11.498065Z",
     "start_time": "2019-04-25T18:10:11.456641Z"
    }
   },
   "outputs": [],
   "source": [
    "dev_gig_marginals_df.to_csv(\n",
    "    \"data/random_sampling/GiG/results/dev_sampled_marginals.tsv\", \n",
    "    index=False, sep=\"\\t\", float_format=\"%.5g\"\n",
    ")\n",
    "\n",
    "test_gig_marginals_df.to_csv(\n",
    "    \"data/random_sampling/GiG/results/test_sampled_marginals.tsv\", \n",
    "    index=False, sep=\"\\t\", float_format=\"%.5g\"\n",
    ")"
   ]
  },
  {
   "cell_type": "markdown",
   "metadata": {},
   "source": [
    "# All (DaG, GiG, CbG, CtD) Label Functions to Predict Compound Treats Disease Relations"
   ]
  },
  {
   "cell_type": "markdown",
   "metadata": {},
   "source": [
    "This section determines how well all label functions can predict the Compound Treats Disease Relation."
   ]
  },
  {
   "cell_type": "code",
   "execution_count": 62,
   "metadata": {
    "ExecuteTime": {
     "end_time": "2019-04-25T18:10:11.532110Z",
     "start_time": "2019-04-25T18:10:11.499566Z"
    }
   },
   "outputs": [],
   "source": [
    "num_of_samples = 50\n",
    "regularization_grid = pd.np.round(pd.np.linspace(0.01, 5, num=5), 2)"
   ]
  },
  {
   "cell_type": "code",
   "execution_count": 63,
   "metadata": {
    "ExecuteTime": {
     "end_time": "2019-04-25T21:26:42.910201Z",
     "start_time": "2019-04-25T18:10:11.533647Z"
    }
   },
   "outputs": [
    {
     "data": {
      "application/vnd.jupyter.widget-view+json": {
       "model_id": "3e5819b896d54b92af1d5f7596beafb4",
       "version_major": 2,
       "version_minor": 0
      },
      "text/html": [
       "<p>Failed to display Jupyter Widget of type <code>HBox</code>.</p>\n",
       "<p>\n",
       "  If you're reading this message in the Jupyter Notebook or JupyterLab Notebook, it may mean\n",
       "  that the widgets JavaScript is still loading. If this message persists, it\n",
       "  likely means that the widgets JavaScript library is either not installed or\n",
       "  not enabled. See the <a href=\"https://ipywidgets.readthedocs.io/en/stable/user_install.html\">Jupyter\n",
       "  Widgets Documentation</a> for setup instructions.\n",
       "</p>\n",
       "<p>\n",
       "  If you're reading this message in another frontend (for example, a static\n",
       "  rendering on GitHub or <a href=\"https://nbviewer.jupyter.org/\">NBViewer</a>),\n",
       "  it may mean that your frontend doesn't currently support widgets.\n",
       "</p>\n"
      ],
      "text/plain": [
       "HBox(children=(IntProgress(value=1, bar_style='info', max=1), HTML(value='')))"
      ]
     },
     "metadata": {},
     "output_type": "display_data"
    },
    {
     "name": "stdout",
     "output_type": "stream",
     "text": [
      "\n"
     ]
    },
    {
     "data": {
      "application/vnd.jupyter.widget-view+json": {
       "model_id": "356b66c346754a15ba9ab379682cc2c3",
       "version_major": 2,
       "version_minor": 0
      },
      "text/html": [
       "<p>Failed to display Jupyter Widget of type <code>HBox</code>.</p>\n",
       "<p>\n",
       "  If you're reading this message in the Jupyter Notebook or JupyterLab Notebook, it may mean\n",
       "  that the widgets JavaScript is still loading. If this message persists, it\n",
       "  likely means that the widgets JavaScript library is either not installed or\n",
       "  not enabled. See the <a href=\"https://ipywidgets.readthedocs.io/en/stable/user_install.html\">Jupyter\n",
       "  Widgets Documentation</a> for setup instructions.\n",
       "</p>\n",
       "<p>\n",
       "  If you're reading this message in another frontend (for example, a static\n",
       "  rendering on GitHub or <a href=\"https://nbviewer.jupyter.org/\">NBViewer</a>),\n",
       "  it may mean that your frontend doesn't currently support widgets.\n",
       "</p>\n"
      ],
      "text/plain": [
       "HBox(children=(IntProgress(value=1, bar_style='info', max=1), HTML(value='')))"
      ]
     },
     "metadata": {},
     "output_type": "display_data"
    },
    {
     "name": "stdout",
     "output_type": "stream",
     "text": [
      "\n"
     ]
    },
    {
     "data": {
      "application/vnd.jupyter.widget-view+json": {
       "model_id": "073d53f784254a239d0f1bbc3ccbfa0d",
       "version_major": 2,
       "version_minor": 0
      },
      "text/html": [
       "<p>Failed to display Jupyter Widget of type <code>HBox</code>.</p>\n",
       "<p>\n",
       "  If you're reading this message in the Jupyter Notebook or JupyterLab Notebook, it may mean\n",
       "  that the widgets JavaScript is still loading. If this message persists, it\n",
       "  likely means that the widgets JavaScript library is either not installed or\n",
       "  not enabled. See the <a href=\"https://ipywidgets.readthedocs.io/en/stable/user_install.html\">Jupyter\n",
       "  Widgets Documentation</a> for setup instructions.\n",
       "</p>\n",
       "<p>\n",
       "  If you're reading this message in another frontend (for example, a static\n",
       "  rendering on GitHub or <a href=\"https://nbviewer.jupyter.org/\">NBViewer</a>),\n",
       "  it may mean that your frontend doesn't currently support widgets.\n",
       "</p>\n"
      ],
      "text/plain": [
       "HBox(children=(IntProgress(value=1, bar_style='info', max=1), HTML(value='')))"
      ]
     },
     "metadata": {},
     "output_type": "display_data"
    },
    {
     "name": "stdout",
     "output_type": "stream",
     "text": [
      "\n"
     ]
    },
    {
     "data": {
      "application/vnd.jupyter.widget-view+json": {
       "model_id": "09d48a3ffead4c7eb051bba20f5549e0",
       "version_major": 2,
       "version_minor": 0
      },
      "text/html": [
       "<p>Failed to display Jupyter Widget of type <code>HBox</code>.</p>\n",
       "<p>\n",
       "  If you're reading this message in the Jupyter Notebook or JupyterLab Notebook, it may mean\n",
       "  that the widgets JavaScript is still loading. If this message persists, it\n",
       "  likely means that the widgets JavaScript library is either not installed or\n",
       "  not enabled. See the <a href=\"https://ipywidgets.readthedocs.io/en/stable/user_install.html\">Jupyter\n",
       "  Widgets Documentation</a> for setup instructions.\n",
       "</p>\n",
       "<p>\n",
       "  If you're reading this message in another frontend (for example, a static\n",
       "  rendering on GitHub or <a href=\"https://nbviewer.jupyter.org/\">NBViewer</a>),\n",
       "  it may mean that your frontend doesn't currently support widgets.\n",
       "</p>\n"
      ],
      "text/plain": [
       "HBox(children=(IntProgress(value=1, bar_style='info', max=1), HTML(value='')))"
      ]
     },
     "metadata": {},
     "output_type": "display_data"
    },
    {
     "name": "stdout",
     "output_type": "stream",
     "text": [
      "\n"
     ]
    },
    {
     "data": {
      "application/vnd.jupyter.widget-view+json": {
       "model_id": "e1ecbdf980c6400a9540e6b667f3c19c",
       "version_major": 2,
       "version_minor": 0
      },
      "text/html": [
       "<p>Failed to display Jupyter Widget of type <code>HBox</code>.</p>\n",
       "<p>\n",
       "  If you're reading this message in the Jupyter Notebook or JupyterLab Notebook, it may mean\n",
       "  that the widgets JavaScript is still loading. If this message persists, it\n",
       "  likely means that the widgets JavaScript library is either not installed or\n",
       "  not enabled. See the <a href=\"https://ipywidgets.readthedocs.io/en/stable/user_install.html\">Jupyter\n",
       "  Widgets Documentation</a> for setup instructions.\n",
       "</p>\n",
       "<p>\n",
       "  If you're reading this message in another frontend (for example, a static\n",
       "  rendering on GitHub or <a href=\"https://nbviewer.jupyter.org/\">NBViewer</a>),\n",
       "  it may mean that your frontend doesn't currently support widgets.\n",
       "</p>\n"
      ],
      "text/plain": [
       "HBox(children=(IntProgress(value=1, bar_style='info', max=1), HTML(value='')))"
      ]
     },
     "metadata": {},
     "output_type": "display_data"
    },
    {
     "name": "stdout",
     "output_type": "stream",
     "text": [
      "\n"
     ]
    },
    {
     "data": {
      "application/vnd.jupyter.widget-view+json": {
       "model_id": "775e21906d1a476f8d0947c6c274f551",
       "version_major": 2,
       "version_minor": 0
      },
      "text/html": [
       "<p>Failed to display Jupyter Widget of type <code>HBox</code>.</p>\n",
       "<p>\n",
       "  If you're reading this message in the Jupyter Notebook or JupyterLab Notebook, it may mean\n",
       "  that the widgets JavaScript is still loading. If this message persists, it\n",
       "  likely means that the widgets JavaScript library is either not installed or\n",
       "  not enabled. See the <a href=\"https://ipywidgets.readthedocs.io/en/stable/user_install.html\">Jupyter\n",
       "  Widgets Documentation</a> for setup instructions.\n",
       "</p>\n",
       "<p>\n",
       "  If you're reading this message in another frontend (for example, a static\n",
       "  rendering on GitHub or <a href=\"https://nbviewer.jupyter.org/\">NBViewer</a>),\n",
       "  it may mean that your frontend doesn't currently support widgets.\n",
       "</p>\n"
      ],
      "text/plain": [
       "HBox(children=(IntProgress(value=1, bar_style='info', max=1), HTML(value='')))"
      ]
     },
     "metadata": {},
     "output_type": "display_data"
    },
    {
     "name": "stdout",
     "output_type": "stream",
     "text": [
      "\n"
     ]
    },
    {
     "data": {
      "application/vnd.jupyter.widget-view+json": {
       "model_id": "f63be34d9c8c4a5db106f84609eb3c96",
       "version_major": 2,
       "version_minor": 0
      },
      "text/html": [
       "<p>Failed to display Jupyter Widget of type <code>HBox</code>.</p>\n",
       "<p>\n",
       "  If you're reading this message in the Jupyter Notebook or JupyterLab Notebook, it may mean\n",
       "  that the widgets JavaScript is still loading. If this message persists, it\n",
       "  likely means that the widgets JavaScript library is either not installed or\n",
       "  not enabled. See the <a href=\"https://ipywidgets.readthedocs.io/en/stable/user_install.html\">Jupyter\n",
       "  Widgets Documentation</a> for setup instructions.\n",
       "</p>\n",
       "<p>\n",
       "  If you're reading this message in another frontend (for example, a static\n",
       "  rendering on GitHub or <a href=\"https://nbviewer.jupyter.org/\">NBViewer</a>),\n",
       "  it may mean that your frontend doesn't currently support widgets.\n",
       "</p>\n"
      ],
      "text/plain": [
       "HBox(children=(IntProgress(value=1, bar_style='info', max=1), HTML(value='')))"
      ]
     },
     "metadata": {},
     "output_type": "display_data"
    },
    {
     "name": "stdout",
     "output_type": "stream",
     "text": [
      "\n"
     ]
    },
    {
     "data": {
      "application/vnd.jupyter.widget-view+json": {
       "model_id": "6e3afd79b8e74e49a4d98b35aa7fbf6d",
       "version_major": 2,
       "version_minor": 0
      },
      "text/html": [
       "<p>Failed to display Jupyter Widget of type <code>HBox</code>.</p>\n",
       "<p>\n",
       "  If you're reading this message in the Jupyter Notebook or JupyterLab Notebook, it may mean\n",
       "  that the widgets JavaScript is still loading. If this message persists, it\n",
       "  likely means that the widgets JavaScript library is either not installed or\n",
       "  not enabled. See the <a href=\"https://ipywidgets.readthedocs.io/en/stable/user_install.html\">Jupyter\n",
       "  Widgets Documentation</a> for setup instructions.\n",
       "</p>\n",
       "<p>\n",
       "  If you're reading this message in another frontend (for example, a static\n",
       "  rendering on GitHub or <a href=\"https://nbviewer.jupyter.org/\">NBViewer</a>),\n",
       "  it may mean that your frontend doesn't currently support widgets.\n",
       "</p>\n"
      ],
      "text/plain": [
       "HBox(children=(IntProgress(value=1, bar_style='info', max=1), HTML(value='')))"
      ]
     },
     "metadata": {},
     "output_type": "display_data"
    },
    {
     "name": "stdout",
     "output_type": "stream",
     "text": [
      "\n"
     ]
    },
    {
     "data": {
      "application/vnd.jupyter.widget-view+json": {
       "model_id": "52ad050e711946a8b64202824b0e6d73",
       "version_major": 2,
       "version_minor": 0
      },
      "text/html": [
       "<p>Failed to display Jupyter Widget of type <code>HBox</code>.</p>\n",
       "<p>\n",
       "  If you're reading this message in the Jupyter Notebook or JupyterLab Notebook, it may mean\n",
       "  that the widgets JavaScript is still loading. If this message persists, it\n",
       "  likely means that the widgets JavaScript library is either not installed or\n",
       "  not enabled. See the <a href=\"https://ipywidgets.readthedocs.io/en/stable/user_install.html\">Jupyter\n",
       "  Widgets Documentation</a> for setup instructions.\n",
       "</p>\n",
       "<p>\n",
       "  If you're reading this message in another frontend (for example, a static\n",
       "  rendering on GitHub or <a href=\"https://nbviewer.jupyter.org/\">NBViewer</a>),\n",
       "  it may mean that your frontend doesn't currently support widgets.\n",
       "</p>\n"
      ],
      "text/plain": [
       "HBox(children=(IntProgress(value=1, bar_style='info', max=1), HTML(value='')))"
      ]
     },
     "metadata": {},
     "output_type": "display_data"
    },
    {
     "name": "stdout",
     "output_type": "stream",
     "text": [
      "\n"
     ]
    },
    {
     "data": {
      "application/vnd.jupyter.widget-view+json": {
       "model_id": "e97ed3f9b1244dd0bc590e262a6406cc",
       "version_major": 2,
       "version_minor": 0
      },
      "text/html": [
       "<p>Failed to display Jupyter Widget of type <code>HBox</code>.</p>\n",
       "<p>\n",
       "  If you're reading this message in the Jupyter Notebook or JupyterLab Notebook, it may mean\n",
       "  that the widgets JavaScript is still loading. If this message persists, it\n",
       "  likely means that the widgets JavaScript library is either not installed or\n",
       "  not enabled. See the <a href=\"https://ipywidgets.readthedocs.io/en/stable/user_install.html\">Jupyter\n",
       "  Widgets Documentation</a> for setup instructions.\n",
       "</p>\n",
       "<p>\n",
       "  If you're reading this message in another frontend (for example, a static\n",
       "  rendering on GitHub or <a href=\"https://nbviewer.jupyter.org/\">NBViewer</a>),\n",
       "  it may mean that your frontend doesn't currently support widgets.\n",
       "</p>\n"
      ],
      "text/plain": [
       "HBox(children=(IntProgress(value=1, bar_style='info', max=1), HTML(value='')))"
      ]
     },
     "metadata": {},
     "output_type": "display_data"
    },
    {
     "name": "stdout",
     "output_type": "stream",
     "text": [
      "\n"
     ]
    },
    {
     "data": {
      "application/vnd.jupyter.widget-view+json": {
       "model_id": "7b9a95968e154424b87927f433cd7a0f",
       "version_major": 2,
       "version_minor": 0
      },
      "text/html": [
       "<p>Failed to display Jupyter Widget of type <code>HBox</code>.</p>\n",
       "<p>\n",
       "  If you're reading this message in the Jupyter Notebook or JupyterLab Notebook, it may mean\n",
       "  that the widgets JavaScript is still loading. If this message persists, it\n",
       "  likely means that the widgets JavaScript library is either not installed or\n",
       "  not enabled. See the <a href=\"https://ipywidgets.readthedocs.io/en/stable/user_install.html\">Jupyter\n",
       "  Widgets Documentation</a> for setup instructions.\n",
       "</p>\n",
       "<p>\n",
       "  If you're reading this message in another frontend (for example, a static\n",
       "  rendering on GitHub or <a href=\"https://nbviewer.jupyter.org/\">NBViewer</a>),\n",
       "  it may mean that your frontend doesn't currently support widgets.\n",
       "</p>\n"
      ],
      "text/plain": [
       "HBox(children=(IntProgress(value=1, bar_style='info', max=1), HTML(value='')))"
      ]
     },
     "metadata": {},
     "output_type": "display_data"
    },
    {
     "name": "stdout",
     "output_type": "stream",
     "text": [
      "\n"
     ]
    },
    {
     "data": {
      "application/vnd.jupyter.widget-view+json": {
       "model_id": "5c46f00bc3474268a039650504d98387",
       "version_major": 2,
       "version_minor": 0
      },
      "text/html": [
       "<p>Failed to display Jupyter Widget of type <code>HBox</code>.</p>\n",
       "<p>\n",
       "  If you're reading this message in the Jupyter Notebook or JupyterLab Notebook, it may mean\n",
       "  that the widgets JavaScript is still loading. If this message persists, it\n",
       "  likely means that the widgets JavaScript library is either not installed or\n",
       "  not enabled. See the <a href=\"https://ipywidgets.readthedocs.io/en/stable/user_install.html\">Jupyter\n",
       "  Widgets Documentation</a> for setup instructions.\n",
       "</p>\n",
       "<p>\n",
       "  If you're reading this message in another frontend (for example, a static\n",
       "  rendering on GitHub or <a href=\"https://nbviewer.jupyter.org/\">NBViewer</a>),\n",
       "  it may mean that your frontend doesn't currently support widgets.\n",
       "</p>\n"
      ],
      "text/plain": [
       "HBox(children=(IntProgress(value=1, bar_style='info', max=1), HTML(value='')))"
      ]
     },
     "metadata": {},
     "output_type": "display_data"
    },
    {
     "name": "stdout",
     "output_type": "stream",
     "text": [
      "\n"
     ]
    },
    {
     "data": {
      "application/vnd.jupyter.widget-view+json": {
       "model_id": "102f34f137e34ec1adb26ce45cd4f79e",
       "version_major": 2,
       "version_minor": 0
      },
      "text/html": [
       "<p>Failed to display Jupyter Widget of type <code>HBox</code>.</p>\n",
       "<p>\n",
       "  If you're reading this message in the Jupyter Notebook or JupyterLab Notebook, it may mean\n",
       "  that the widgets JavaScript is still loading. If this message persists, it\n",
       "  likely means that the widgets JavaScript library is either not installed or\n",
       "  not enabled. See the <a href=\"https://ipywidgets.readthedocs.io/en/stable/user_install.html\">Jupyter\n",
       "  Widgets Documentation</a> for setup instructions.\n",
       "</p>\n",
       "<p>\n",
       "  If you're reading this message in another frontend (for example, a static\n",
       "  rendering on GitHub or <a href=\"https://nbviewer.jupyter.org/\">NBViewer</a>),\n",
       "  it may mean that your frontend doesn't currently support widgets.\n",
       "</p>\n"
      ],
      "text/plain": [
       "HBox(children=(IntProgress(value=1, bar_style='info', max=1), HTML(value='')))"
      ]
     },
     "metadata": {},
     "output_type": "display_data"
    },
    {
     "name": "stdout",
     "output_type": "stream",
     "text": [
      "\n"
     ]
    },
    {
     "data": {
      "application/vnd.jupyter.widget-view+json": {
       "model_id": "ccc8be787fe34e429a6b08c674c18da3",
       "version_major": 2,
       "version_minor": 0
      },
      "text/html": [
       "<p>Failed to display Jupyter Widget of type <code>HBox</code>.</p>\n",
       "<p>\n",
       "  If you're reading this message in the Jupyter Notebook or JupyterLab Notebook, it may mean\n",
       "  that the widgets JavaScript is still loading. If this message persists, it\n",
       "  likely means that the widgets JavaScript library is either not installed or\n",
       "  not enabled. See the <a href=\"https://ipywidgets.readthedocs.io/en/stable/user_install.html\">Jupyter\n",
       "  Widgets Documentation</a> for setup instructions.\n",
       "</p>\n",
       "<p>\n",
       "  If you're reading this message in another frontend (for example, a static\n",
       "  rendering on GitHub or <a href=\"https://nbviewer.jupyter.org/\">NBViewer</a>),\n",
       "  it may mean that your frontend doesn't currently support widgets.\n",
       "</p>\n"
      ],
      "text/plain": [
       "HBox(children=(IntProgress(value=1, bar_style='info', max=1), HTML(value='')))"
      ]
     },
     "metadata": {},
     "output_type": "display_data"
    },
    {
     "name": "stdout",
     "output_type": "stream",
     "text": [
      "\n"
     ]
    }
   ],
   "source": [
    "all_dev_result_df = pd.DataFrame(dev_baseline)\n",
    "all_test_result_df = pd.DataFrame(test_baseline)\n",
    "dev_all_marginals_df = pd.DataFrame(dev_baseline_marginals, columns=[\"marginals\", \"label\"]).assign(num_lfs=0)\n",
    "test_all_marginals_df = pd.DataFrame(test_baseline_marginals, columns=[\"marginals\", \"label\"]).assign(num_lfs=0)\n",
    "\n",
    "range_of_sample_sizes = (\n",
    "    list(range(1, correct_L[:,ds_end:].shape[1], 8)) +\n",
    "    [correct_L[:,ds_end:].shape[1]]\n",
    ")\n",
    "\n",
    "lf_sample_keeper, dev_results_df, test_results_df, dev_marginals_df, test_marginals_df = run_random_additional_lfs(\n",
    "    range_of_sample_sizes=range_of_sample_sizes, \n",
    "    range_of_lf_indicies = list(range(ds_end, correct_L.shape[1]+1)),\n",
    "    size_of_sample_pool=correct_L.shape[1]-ds_end,\n",
    "    num_of_samples=num_of_samples,\n",
    "    train=correct_L, \n",
    "    dev=correct_L_dev,\n",
    "    dev_labels=candidate_dfs['dev'].curated_ctd.values,\n",
    "    test=correct_L_test,\n",
    "    test_labels=candidate_dfs['test'].curated_ctd.values,\n",
    "    grid=regularization_grid,\n",
    "    label_matricies=label_matricies['train'],\n",
    "    train_marginal_dir='data/random_sampling/all/marginals/',\n",
    "    ds_start=ds_start,\n",
    "    ds_end=ds_end,\n",
    ")\n",
    "\n",
    "all_dev_result_df = all_dev_result_df.append(dev_results_df, sort=True)\n",
    "all_test_result_df = all_test_result_df.append(test_results_df, sort=True)\n",
    "dev_all_marginals_df = dev_all_marginals_df.append(dev_marginals_df, sort=True)\n",
    "test_all_marginals_df = test_all_marginals_df.append(test_marginals_df, sort=True)"
   ]
  },
  {
   "cell_type": "code",
   "execution_count": 65,
   "metadata": {
    "ExecuteTime": {
     "end_time": "2019-04-25T22:26:21.496977Z",
     "start_time": "2019-04-25T22:26:08.818441Z"
    }
   },
   "outputs": [],
   "source": [
    "dev_all_marginals_df = (\n",
    "     dev_all_marginals_df\n",
    "     .assign(\n",
    "        frac_correct=(\n",
    "            dev_all_marginals_df\n",
    "            .apply(count_fraction_correct,axis=1)\n",
    "            .values\n",
    "        )\n",
    "    )\n",
    "    .groupby([\"label\", \"num_lfs\"])[\"frac_correct\"]\n",
    "    .agg(pd.np.mean)\n",
    "    .reset_index(level=[\"label\", \"num_lfs\"])\n",
    " )"
   ]
  },
  {
   "cell_type": "code",
   "execution_count": 67,
   "metadata": {
    "ExecuteTime": {
     "end_time": "2019-04-25T22:26:42.302824Z",
     "start_time": "2019-04-25T22:26:29.629510Z"
    }
   },
   "outputs": [],
   "source": [
    "test_all_marginals_df = (\n",
    "    test_all_marginals_df\n",
    "    .assign(\n",
    "        frac_correct=(\n",
    "            test_all_marginals_df\n",
    "            .apply(count_fraction_correct, axis=1)\n",
    "            .values\n",
    "        )\n",
    "    )\n",
    "    .groupby([\"label\", \"num_lfs\"])[\"frac_correct\"]\n",
    "    .agg(pd.np.mean)\n",
    "    .reset_index(level=[\"label\", \"num_lfs\"])\n",
    ")"
   ]
  },
  {
   "cell_type": "markdown",
   "metadata": {},
   "source": [
    "## Dev Set Performance (AUPRC, AUROC)"
   ]
  },
  {
   "cell_type": "code",
   "execution_count": 68,
   "metadata": {
    "ExecuteTime": {
     "end_time": "2019-04-25T22:26:45.061090Z",
     "start_time": "2019-04-25T22:26:42.304239Z"
    }
   },
   "outputs": [
    {
     "name": "stderr",
     "output_type": "stream",
     "text": [
      "/home/danich1/anaconda2/envs/snorkeling/lib/python3.6/site-packages/scipy/stats/stats.py:1713: FutureWarning: Using a non-tuple sequence for multidimensional indexing is deprecated; use `arr[tuple(seq)]` instead of `arr[seq]`. In the future this will be interpreted as an array index, `arr[np.array(seq)]`, which will result either in an error or a different result.\n",
      "  return np.add.reduce(sorted[indexer] * weights, axis=axis) / sumval\n"
     ]
    },
    {
     "data": {
      "text/plain": [
       "<matplotlib.axes._subplots.AxesSubplot at 0x7fc80e150278>"
      ]
     },
     "execution_count": 68,
     "metadata": {},
     "output_type": "execute_result"
    },
    {
     "data": {
      "image/png": "[encoded data removed]",
      "text/plain": [
       "<matplotlib.figure.Figure at 0x7fc810676048>"
      ]
     },
     "metadata": {},
     "output_type": "display_data"
    }
   ],
   "source": [
    "fig, axs = plt.subplots(ncols=2, figsize=(10, 5))\n",
    "sns.pointplot(x=\"num_lfs\", y=\"AUPRC\", data=all_dev_result_df, ax=axs[0])\n",
    "sns.pointplot(x=\"num_lfs\", y=\"AUROC\", data=all_dev_result_df, ax=axs[1])"
   ]
  },
  {
   "cell_type": "code",
   "execution_count": 69,
   "metadata": {
    "ExecuteTime": {
     "end_time": "2019-04-25T22:26:45.292375Z",
     "start_time": "2019-04-25T22:26:45.062618Z"
    }
   },
   "outputs": [
    {
     "data": {
      "text/plain": [
       "<matplotlib.axes._subplots.AxesSubplot at 0x7fc81070a630>"
      ]
     },
     "execution_count": 69,
     "metadata": {},
     "output_type": "execute_result"
    },
    {
     "data": {
      "image/png": "[encoded data removed]",
      "text/plain": [
       "<matplotlib.figure.Figure at 0x7fc80e1bec88>"
      ]
     },
     "metadata": {},
     "output_type": "display_data"
    }
   ],
   "source": [
    "sns.pointplot(x=\"num_lfs\", y=\"frac_correct\", data=dev_all_marginals_df, hue=\"label\")"
   ]
  },
  {
   "cell_type": "markdown",
   "metadata": {},
   "source": [
    "## Test Set Performance (AUPRC, AUROC)"
   ]
  },
  {
   "cell_type": "code",
   "execution_count": 70,
   "metadata": {
    "ExecuteTime": {
     "end_time": "2019-04-25T22:26:45.970456Z",
     "start_time": "2019-04-25T22:26:45.293679Z"
    }
   },
   "outputs": [
    {
     "name": "stderr",
     "output_type": "stream",
     "text": [
      "/home/danich1/anaconda2/envs/snorkeling/lib/python3.6/site-packages/scipy/stats/stats.py:1713: FutureWarning: Using a non-tuple sequence for multidimensional indexing is deprecated; use `arr[tuple(seq)]` instead of `arr[seq]`. In the future this will be interpreted as an array index, `arr[np.array(seq)]`, which will result either in an error or a different result.\n",
      "  return np.add.reduce(sorted[indexer] * weights, axis=axis) / sumval\n"
     ]
    },
    {
     "data": {
      "text/plain": [
       "<matplotlib.axes._subplots.AxesSubplot at 0x7fc80df945c0>"
      ]
     },
     "execution_count": 70,
     "metadata": {},
     "output_type": "execute_result"
    },
    {
     "data": {
      "image/png": "[encoded data removed]",
      "text/plain": [
       "<matplotlib.figure.Figure at 0x7fc80e0c3908>"
      ]
     },
     "metadata": {},
     "output_type": "display_data"
    }
   ],
   "source": [
    "fig, axs = plt.subplots(ncols=2, figsize=(10, 5))\n",
    "sns.pointplot(x=\"num_lfs\", y=\"AUPRC\", data=all_test_result_df, ax=axs[0])\n",
    "sns.pointplot(x=\"num_lfs\", y=\"AUROC\", data=all_test_result_df, ax=axs[1])"
   ]
  },
  {
   "cell_type": "code",
   "execution_count": 71,
   "metadata": {
    "ExecuteTime": {
     "end_time": "2019-04-25T22:26:46.198723Z",
     "start_time": "2019-04-25T22:26:45.972011Z"
    }
   },
   "outputs": [
    {
     "data": {
      "text/plain": [
       "<matplotlib.axes._subplots.AxesSubplot at 0x7fc80e0ebda0>"
      ]
     },
     "execution_count": 71,
     "metadata": {},
     "output_type": "execute_result"
    },
    {
     "data": {
      "image/png": "[encoded data removed]",
      "text/plain": [
       "<matplotlib.figure.Figure at 0x7fc80df48668>"
      ]
     },
     "metadata": {},
     "output_type": "display_data"
    }
   ],
   "source": [
    "sns.pointplot(x=\"num_lfs\", y=\"frac_correct\", data=test_all_marginals_df, hue=\"label\")"
   ]
  },
  {
   "cell_type": "code",
   "execution_count": 72,
   "metadata": {
    "ExecuteTime": {
     "end_time": "2019-04-25T22:26:46.230024Z",
     "start_time": "2019-04-25T22:26:46.199964Z"
    }
   },
   "outputs": [],
   "source": [
    "all_dev_result_df.to_csv(\n",
    "    \"data/random_sampling/all/dev_sampled_performance.tsv\", \n",
    "    index=False, sep=\"\\t\", float_format=\"%.5g\"\n",
    ")\n",
    "\n",
    "all_test_result_df.to_csv(\n",
    "    \"data/random_sampling/all/test_sampled_performance.tsv\", \n",
    "    index=False, sep=\"\\t\", float_format=\"%.5g\"\n",
    ")"
   ]
  },
  {
   "cell_type": "code",
   "execution_count": 73,
   "metadata": {
    "ExecuteTime": {
     "end_time": "2019-04-25T22:26:46.265001Z",
     "start_time": "2019-04-25T22:26:46.231319Z"
    }
   },
   "outputs": [],
   "source": [
    "dev_all_marginals_df.to_csv(\n",
    "    \"data/random_sampling/all/dev_sampled_marginals.tsv\", \n",
    "    index=False, sep=\"\\t\", float_format=\"%.5g\"\n",
    ")\n",
    "\n",
    "test_all_marginals_df.to_csv(\n",
    "    \"data/random_sampling/all/test_sampled_marginals.tsv\", \n",
    "    index=False, sep=\"\\t\", float_format=\"%.5g\"\n",
    ")"
   ]
  }
 ],
 "metadata": {
  "kernelspec": {
   "display_name": "Python [conda env:snorkeling]",
   "language": "python",
   "name": "conda-env-snorkeling-py"
  },
  "language_info": {
   "codemirror_mode": {
    "name": "ipython",
    "version": 3
   },
   "file_extension": ".py",
   "mimetype": "text/x-python",
   "name": "python",
   "nbconvert_exporter": "python",
   "pygments_lexer": "ipython3",
   "version": "3.6.4"
  }
 },
 "nbformat": 4,
 "nbformat_minor": 2
}
