{
 "cells": [
  {
   "cell_type": "markdown",
   "metadata": {
    "ExecuteTime": {
     "end_time": "2019-11-08T18:38:13.571730Z",
     "start_time": "2019-11-08T18:38:13.552500Z"
    }
   },
   "source": [
    "# Using Labels from Different Relation Types to Predict Compound Treats Disease Sentences"
   ]
  },
  {
   "cell_type": "markdown",
   "metadata": {},
   "source": [
    "This notebook is designed to predict the compound treats disease (CtD) relation. The first step in this process is to load our pre-labeled annotation matricies (train, dev, and test). These matriceis contain sentences as the rows and the label function output as the columns (features). The working hypothesis here is there are shared information (i.e. similar keywords, same kind of sentence structure) between different relations, which in turn should aid in predicting disease associates gene relations. \n",
    "\n",
    "After loading the matricies, the next step is to train a generative model that will estimate the likelihood of the positive class: $P(\\hat{Y}=1 \\mid \\text{label functions})$. The generative model does this by estimating the parameter $\\mu$. This parameter represents the probability of a label function given the true class: $ P(\\text{label function={0,1,2}} \\mid Y={1 (+) / 0 (-)})$. Once $\\mu$ has been estimated, calculating the likelihood becomes: $P(\\hat{Y}=1 \\mid \\text{label functions}) = (\\prod_{i=1}^{N} P(\\text{label function}_{i} = 1 \\mid \\text{Y} = 1)) * P(Y = 1)$\n",
    "\n",
    "Note: This process doesn't involve any sentence context, so the only information used here are categorical output."
   ]
  },
  {
   "cell_type": "code",
   "execution_count": 1,
   "metadata": {
    "ExecuteTime": {
     "end_time": "2019-11-06T05:50:23.146981Z",
     "start_time": "2019-11-06T05:50:22.065877Z"
    }
   },
   "outputs": [],
   "source": [
    "%load_ext autoreload\n",
    "%autoreload 2\n",
    "%matplotlib inline\n",
    "\n",
    "import glob\n",
    "import sys\n",
    "import os\n",
    "sys.path.append(os.path.abspath('../../../modules'))\n",
    "\n",
    "import pandas as pd\n",
    "from sklearn.metrics import (\n",
    "    precision_recall_curve, \n",
    "    precision_recall_fscore_support, \n",
    "    confusion_matrix, \n",
    "    auc, roc_curve, \n",
    "    average_precision_score\n",
    ")\n",
    "from utils.notebook_utils.train_model_helper import get_model_performance, train_model_random_lfs, sample_lfs\n",
    "from utils.notebook_utils.dataframe_helper import load_candidate_dataframes\n",
    "\n",
    "import plotnine\n",
    "import seaborn as sns\n",
    "import logging\n",
    "\n",
    "logging.basicConfig(filename='logs.log', level='INFO')"
   ]
  },
  {
   "cell_type": "code",
   "execution_count": 2,
   "metadata": {
    "ExecuteTime": {
     "end_time": "2019-11-06T05:50:25.095810Z",
     "start_time": "2019-11-06T05:50:23.148450Z"
    }
   },
   "outputs": [],
   "source": [
    "label_destinations = {\n",
    "    'train':\"../data/label_matricies/train_sparse_matrix.tsv.xz\",\n",
    "    'dev':\"../data/label_matricies/dev_sparse_matrix.tsv.xz\",\n",
    "    'test':\"../data/label_matricies/test_sparse_matrix.tsv.xz\"\n",
    "}\n",
    "label_matricies = {\n",
    "    key:pd.read_csv(label_destinations[key], sep=\"\\t\").to_sparse()\n",
    "    for key in label_destinations\n",
    "}"
   ]
  },
  {
   "cell_type": "code",
   "execution_count": 3,
   "metadata": {
    "ExecuteTime": {
     "end_time": "2019-11-06T05:50:30.419121Z",
     "start_time": "2019-11-06T05:50:25.097367Z"
    }
   },
   "outputs": [],
   "source": [
    "label_matricies['train'] = label_matricies['train'].fillna(-2).to_dense().replace({-1:0, -2:-1})\n",
    "label_matricies['dev'] = label_matricies['dev'].fillna(-2).to_dense().replace({-1:0, -2:-1})\n",
    "label_matricies['test'] = label_matricies['test'].fillna(-2).to_dense().replace({-1:0, -2:-1})"
   ]
  },
  {
   "cell_type": "code",
   "execution_count": 4,
   "metadata": {
    "ExecuteTime": {
     "end_time": "2019-11-06T05:50:30.475687Z",
     "start_time": "2019-11-06T05:50:30.420587Z"
    }
   },
   "outputs": [],
   "source": [
    "correct_L = label_matricies['train'].drop(\"candidate_id\", axis=1).to_numpy()\n",
    "correct_L_dev = label_matricies['dev'].drop(\"candidate_id\", axis=1).to_numpy()\n",
    "correct_L_test = label_matricies['test'].drop(\"candidate_id\", axis=1).to_numpy()"
   ]
  },
  {
   "cell_type": "code",
   "execution_count": 5,
   "metadata": {
    "ExecuteTime": {
     "end_time": "2019-11-06T05:50:30.533191Z",
     "start_time": "2019-11-06T05:50:30.476880Z"
    }
   },
   "outputs": [],
   "source": [
    "spreadsheet_names = {\n",
    "    #'train': 'data/sentences/sentence_labels_train.xlsx',\n",
    "    'dev': '../data/sentences/sentence_labels_dev.xlsx',\n",
    "    'test': '../data/sentences/sentence_labels_test.xlsx'\n",
    "}"
   ]
  },
  {
   "cell_type": "code",
   "execution_count": 6,
   "metadata": {
    "ExecuteTime": {
     "end_time": "2019-11-06T05:50:32.028810Z",
     "start_time": "2019-11-06T05:50:30.537637Z"
    },
    "scrolled": true
   },
   "outputs": [
    {
     "name": "stdout",
     "output_type": "stream",
     "text": [
      "Size of dev set: 500\n",
      "Size of test set: 500\n"
     ]
    }
   ],
   "source": [
    "candidate_dfs = {\n",
    "    key:load_candidate_dataframes(spreadsheet_names[key], \"curated_ctd\")\n",
    "    for key in spreadsheet_names\n",
    "}\n",
    "\n",
    "for key in candidate_dfs:\n",
    "    print(\"Size of {} set: {}\".format(key, candidate_dfs[key].shape[0]))"
   ]
  },
  {
   "cell_type": "code",
   "execution_count": 7,
   "metadata": {
    "ExecuteTime": {
     "end_time": "2019-11-06T05:50:35.817845Z",
     "start_time": "2019-11-06T05:50:32.030271Z"
    }
   },
   "outputs": [
    {
     "data": {
      "application/vnd.jupyter.widget-view+json": {
       "model_id": "cd37099cd8f44c57a73472670e027b8d",
       "version_major": 2,
       "version_minor": 0
      },
      "text/plain": [
       "HBox(children=(IntProgress(value=1, bar_style='info', max=1), HTML(value='')))"
      ]
     },
     "metadata": {},
     "output_type": "display_data"
    },
    {
     "name": "stdout",
     "output_type": "stream",
     "text": [
      "\n"
     ]
    }
   ],
   "source": [
    "baseline_index = list(range(0,3))\n",
    "train_grid_results, dev_grid_results, test_grid_results, models = (\n",
    "    train_model_random_lfs(\n",
    "        [baseline_index], correct_L, \n",
    "        correct_L_dev, candidate_dfs['dev'].curated_ctd, correct_L_test, \n",
    "        pd.np.round(pd.np.linspace(0.01, 5, num=5), 2)\n",
    "    )\n",
    ")"
   ]
  },
  {
   "cell_type": "code",
   "execution_count": 8,
   "metadata": {
    "ExecuteTime": {
     "end_time": "2019-11-06T05:50:37.117587Z",
     "start_time": "2019-11-06T05:50:35.819536Z"
    }
   },
   "outputs": [],
   "source": [
    "(\n",
    "    pd.DataFrame({key:train_grid_results[key][:,1] for key in train_grid_results})\n",
    "    .assign(candidate_id=label_matricies['train'].candidate_id.values)\n",
    "    .to_csv(f\"results/CtD/marginals/baseline_sampled.tsv.xz\", compression=\"xz\", sep=\"\\t\", index=False)\n",
    ")"
   ]
  },
  {
   "cell_type": "code",
   "execution_count": 9,
   "metadata": {
    "ExecuteTime": {
     "end_time": "2019-11-06T05:50:37.143609Z",
     "start_time": "2019-11-06T05:50:37.119079Z"
    }
   },
   "outputs": [
    {
     "data": {
      "text/html": [
       "<div>\n",
       "<style scoped>\n",
       "    .dataframe tbody tr th:only-of-type {\n",
       "        vertical-align: middle;\n",
       "    }\n",
       "\n",
       "    .dataframe tbody tr th {\n",
       "        vertical-align: top;\n",
       "    }\n",
       "\n",
       "    .dataframe thead th {\n",
       "        text-align: right;\n",
       "    }\n",
       "</style>\n",
       "<table border=\"1\" class=\"dataframe\">\n",
       "  <thead>\n",
       "    <tr style=\"text-align: right;\">\n",
       "      <th></th>\n",
       "      <th>aupr</th>\n",
       "      <th>auroc</th>\n",
       "      <th>lf_num</th>\n",
       "      <th>lf_sample</th>\n",
       "    </tr>\n",
       "  </thead>\n",
       "  <tbody>\n",
       "    <tr>\n",
       "      <th>0</th>\n",
       "      <td>0.491901</td>\n",
       "      <td>0.681995</td>\n",
       "      <td>0</td>\n",
       "      <td>0:0,1,2</td>\n",
       "    </tr>\n",
       "  </tbody>\n",
       "</table>\n",
       "</div>"
      ],
      "text/plain": [
       "       aupr     auroc  lf_num lf_sample\n",
       "0  0.491901  0.681995       0   0:0,1,2"
      ]
     },
     "execution_count": 9,
     "metadata": {},
     "output_type": "execute_result"
    }
   ],
   "source": [
    "dev_baseline_df = get_model_performance(candidate_dfs['dev'].curated_ctd, dev_grid_results, 0)\n",
    "dev_baseline_df.head(2)"
   ]
  },
  {
   "cell_type": "code",
   "execution_count": 10,
   "metadata": {
    "ExecuteTime": {
     "end_time": "2019-11-06T05:50:37.193299Z",
     "start_time": "2019-11-06T05:50:37.144857Z"
    }
   },
   "outputs": [
    {
     "data": {
      "text/html": [
       "<div>\n",
       "<style scoped>\n",
       "    .dataframe tbody tr th:only-of-type {\n",
       "        vertical-align: middle;\n",
       "    }\n",
       "\n",
       "    .dataframe tbody tr th {\n",
       "        vertical-align: top;\n",
       "    }\n",
       "\n",
       "    .dataframe thead th {\n",
       "        text-align: right;\n",
       "    }\n",
       "</style>\n",
       "<table border=\"1\" class=\"dataframe\">\n",
       "  <thead>\n",
       "    <tr style=\"text-align: right;\">\n",
       "      <th></th>\n",
       "      <th>aupr</th>\n",
       "      <th>auroc</th>\n",
       "      <th>lf_num</th>\n",
       "      <th>lf_sample</th>\n",
       "    </tr>\n",
       "  </thead>\n",
       "  <tbody>\n",
       "    <tr>\n",
       "      <th>0</th>\n",
       "      <td>0.289713</td>\n",
       "      <td>0.521712</td>\n",
       "      <td>0</td>\n",
       "      <td>0:0,1,2</td>\n",
       "    </tr>\n",
       "  </tbody>\n",
       "</table>\n",
       "</div>"
      ],
      "text/plain": [
       "       aupr     auroc  lf_num lf_sample\n",
       "0  0.289713  0.521712       0   0:0,1,2"
      ]
     },
     "execution_count": 10,
     "metadata": {},
     "output_type": "execute_result"
    }
   ],
   "source": [
    "test_baseline_df = get_model_performance(candidate_dfs['test'].curated_ctd, test_grid_results, 0)\n",
    "test_baseline_df.head(2)"
   ]
  },
  {
   "cell_type": "markdown",
   "metadata": {
    "ExecuteTime": {
     "end_time": "2019-10-11T18:40:30.516087Z",
     "start_time": "2019-10-11T18:40:30.495488Z"
    }
   },
   "source": [
    "# Compound Treats Disease Sources Predicts Compound Treats Disease Sentences"
   ]
  },
  {
   "cell_type": "markdown",
   "metadata": {},
   "source": [
    "Here we are using label functions, designed to predict the Compound treats Disease relation, to predict Compound treats Disease sentences. To estimate the performance boost over the baseline model, we implement a label function sampling appoach. The sampling approach works as follows: \n",
    "1. randomly sample X amount of label functions that are not within the database category\n",
    "2. incorporate the sampled label functions with the database label functions\n",
    "3. train the generative model on the combined resources\n",
    "4. use the generative model to predict the tuning set and test set\n",
    "5. Report performance in terms of AUROC and AUPR\n",
    "6. repeat the above process 50 times for each sample size (1, 6, 11, 16, all).\n",
    "\n",
    "Given that these label functions are designed to predict the given relation, we expect that adding more label functions will increase in performance. This means that auroc when sampling 1 label function should be greater than the auroc of the baseline. This trend should continue when sampling 6, 11, 16 and then all of the label functions."
   ]
  },
  {
   "cell_type": "code",
   "execution_count": 11,
   "metadata": {
    "ExecuteTime": {
     "end_time": "2019-11-06T05:50:37.221691Z",
     "start_time": "2019-11-06T05:50:37.194415Z"
    }
   },
   "outputs": [],
   "source": [
    "ctd_start = 3\n",
    "ctd_end = 25\n",
    "\n",
    "#Spaced out number of sampels including total\n",
    "size_of_samples = [1,6,11,16,ctd_end-ctd_start]\n",
    "number_of_samples = 50\n",
    "ctd_lf_range = range(ctd_start, ctd_end)"
   ]
  },
  {
   "cell_type": "code",
   "execution_count": 12,
   "metadata": {
    "ExecuteTime": {
     "end_time": "2019-11-06T05:50:37.257378Z",
     "start_time": "2019-11-06T05:50:37.222769Z"
    }
   },
   "outputs": [],
   "source": [
    "sampled_lfs_dict = {\n",
    "    sample_size:(\n",
    "        sample_lfs(\n",
    "            list(ctd_lf_range),\n",
    "            len(list(ctd_lf_range)), \n",
    "            sample_size, \n",
    "            number_of_samples, \n",
    "            random_state=100\n",
    "        )\n",
    "    )\n",
    "    for sample_size in size_of_samples\n",
    "}"
   ]
  },
  {
   "cell_type": "code",
   "execution_count": 13,
   "metadata": {
    "ExecuteTime": {
     "end_time": "2019-11-06T06:16:43.521990Z",
     "start_time": "2019-11-06T05:50:37.258668Z"
    }
   },
   "outputs": [
    {
     "data": {
      "application/vnd.jupyter.widget-view+json": {
       "model_id": "0a179572656e40c292e96742375ab953",
       "version_major": 2,
       "version_minor": 0
      },
      "text/plain": [
       "HBox(children=(IntProgress(value=1, bar_style='info', max=1), HTML(value='')))"
      ]
     },
     "metadata": {},
     "output_type": "display_data"
    },
    {
     "name": "stdout",
     "output_type": "stream",
     "text": [
      "\n"
     ]
    },
    {
     "data": {
      "application/vnd.jupyter.widget-view+json": {
       "model_id": "506f2a1aeb9c4712bc9d008169758add",
       "version_major": 2,
       "version_minor": 0
      },
      "text/plain": [
       "HBox(children=(IntProgress(value=1, bar_style='info', max=1), HTML(value='')))"
      ]
     },
     "metadata": {},
     "output_type": "display_data"
    },
    {
     "name": "stdout",
     "output_type": "stream",
     "text": [
      "\n"
     ]
    },
    {
     "data": {
      "application/vnd.jupyter.widget-view+json": {
       "model_id": "78b9e82fcb78416da876a26feb6ab0da",
       "version_major": 2,
       "version_minor": 0
      },
      "text/plain": [
       "HBox(children=(IntProgress(value=1, bar_style='info', max=1), HTML(value='')))"
      ]
     },
     "metadata": {},
     "output_type": "display_data"
    },
    {
     "name": "stdout",
     "output_type": "stream",
     "text": [
      "\n"
     ]
    },
    {
     "data": {
      "application/vnd.jupyter.widget-view+json": {
       "model_id": "5133982587884f1787c9ea66ce5b8905",
       "version_major": 2,
       "version_minor": 0
      },
      "text/plain": [
       "HBox(children=(IntProgress(value=1, bar_style='info', max=1), HTML(value='')))"
      ]
     },
     "metadata": {},
     "output_type": "display_data"
    },
    {
     "name": "stdout",
     "output_type": "stream",
     "text": [
      "\n"
     ]
    },
    {
     "data": {
      "application/vnd.jupyter.widget-view+json": {
       "model_id": "f00f18e74e274f42abc90012778bd981",
       "version_major": 2,
       "version_minor": 0
      },
      "text/plain": [
       "HBox(children=(IntProgress(value=1, bar_style='info', max=1), HTML(value='')))"
      ]
     },
     "metadata": {},
     "output_type": "display_data"
    },
    {
     "name": "stdout",
     "output_type": "stream",
     "text": [
      "\n"
     ]
    }
   ],
   "source": [
    "dev_records = []\n",
    "test_records = []\n",
    "for num_lf in sampled_lfs_dict:\n",
    "    train_grid_results, dev_grid_results, test_grid_results, models = (\n",
    "        train_model_random_lfs(\n",
    "            [baseline_index + sample for sample in sampled_lfs_dict[num_lf]],\n",
    "            correct_L, correct_L_dev, candidate_dfs['dev'].curated_ctd, \n",
    "            correct_L_test,pd.np.round(pd.np.linspace(0.01, 5, num=5), 2)\n",
    "        )\n",
    "    )\n",
    "    \n",
    "    (\n",
    "        pd.DataFrame({key:train_grid_results[key][:,1] for key in train_grid_results})\n",
    "        .assign(candidate_id=label_matricies['train'].candidate_id.values)\n",
    "        .to_csv(f\"results/CtD/marginals/{num_lf}_sampled_train.tsv.xz\", compression=\"xz\", index=False, sep=\"\\t\")\n",
    "    )\n",
    "    (\n",
    "        pd.DataFrame({key:dev_grid_results[key][:,1] for key in dev_grid_results})\n",
    "        .to_csv(f\"results/CtD/marginals/{num_lf}_sampled_dev.tsv\", index=False, sep=\"\\t\")\n",
    "    )\n",
    "    (\n",
    "        pd.DataFrame({key:test_grid_results[key][:,1] for key in test_grid_results})\n",
    "        .to_csv(f\"results/CtD/marginals/{num_lf}_sampled_test.tsv\", index=False, sep=\"\\t\")\n",
    "    )\n",
    "    \n",
    "    (\n",
    "        pd.DataFrame({key:models[key].get_weights() for key in models})\n",
    "        .to_csv(f\"results/CtD/weights/{num_lf}_sampled_weights.tsv\", index=False, sep=\"\\t\")\n",
    "    )\n",
    "    \n",
    "    dev_records.append(get_model_performance(candidate_dfs['dev'].curated_ctd, dev_grid_results, num_lf))\n",
    "    test_records.append(get_model_performance(candidate_dfs['test'].curated_ctd, test_grid_results, num_lf))"
   ]
  },
  {
   "cell_type": "code",
   "execution_count": 14,
   "metadata": {
    "ExecuteTime": {
     "end_time": "2019-11-06T06:16:43.547350Z",
     "start_time": "2019-11-06T06:16:43.523344Z"
    }
   },
   "outputs": [
    {
     "data": {
      "text/html": [
       "<div>\n",
       "<style scoped>\n",
       "    .dataframe tbody tr th:only-of-type {\n",
       "        vertical-align: middle;\n",
       "    }\n",
       "\n",
       "    .dataframe tbody tr th {\n",
       "        vertical-align: top;\n",
       "    }\n",
       "\n",
       "    .dataframe thead th {\n",
       "        text-align: right;\n",
       "    }\n",
       "</style>\n",
       "<table border=\"1\" class=\"dataframe\">\n",
       "  <thead>\n",
       "    <tr style=\"text-align: right;\">\n",
       "      <th></th>\n",
       "      <th>aupr</th>\n",
       "      <th>auroc</th>\n",
       "      <th>lf_num</th>\n",
       "      <th>lf_sample</th>\n",
       "    </tr>\n",
       "  </thead>\n",
       "  <tbody>\n",
       "    <tr>\n",
       "      <th>0</th>\n",
       "      <td>0.491901</td>\n",
       "      <td>0.681995</td>\n",
       "      <td>0</td>\n",
       "      <td>0:0,1,2</td>\n",
       "    </tr>\n",
       "    <tr>\n",
       "      <th>1</th>\n",
       "      <td>0.403564</td>\n",
       "      <td>0.689705</td>\n",
       "      <td>1</td>\n",
       "      <td>0:0,1,2,17</td>\n",
       "    </tr>\n",
       "  </tbody>\n",
       "</table>\n",
       "</div>"
      ],
      "text/plain": [
       "       aupr     auroc  lf_num   lf_sample\n",
       "0  0.491901  0.681995       0     0:0,1,2\n",
       "1  0.403564  0.689705       1  0:0,1,2,17"
      ]
     },
     "execution_count": 14,
     "metadata": {},
     "output_type": "execute_result"
    }
   ],
   "source": [
    "dev_full_results_df = pd.concat([dev_baseline_df] + dev_records).reset_index(drop=True)\n",
    "dev_full_results_df.to_csv(\"results/CtD/results/dev_sampled_results.tsv\", index=False, sep=\"\\t\")\n",
    "dev_full_results_df.head(2)"
   ]
  },
  {
   "cell_type": "code",
   "execution_count": 59,
   "metadata": {
    "ExecuteTime": {
     "end_time": "2019-11-11T15:17:12.490849Z",
     "start_time": "2019-11-11T15:17:12.222857Z"
    }
   },
   "outputs": [
    {
     "data": {
      "text/plain": [
       "<matplotlib.axes._subplots.AxesSubplot at 0x7fbb28b238d0>"
      ]
     },
     "execution_count": 59,
     "metadata": {},
     "output_type": "execute_result"
    },
    {
     "data": {
      "image/png": "[encoded data removed]",
      "text/plain": [
       "<Figure size 432x288 with 1 Axes>"
      ]
     },
     "metadata": {
      "needs_background": "light"
     },
     "output_type": "display_data"
    }
   ],
   "source": [
    "sns.pointplot(x='lf_num', y='auroc', data=dev_full_results_df)"
   ]
  },
  {
   "cell_type": "code",
   "execution_count": 60,
   "metadata": {
    "ExecuteTime": {
     "end_time": "2019-11-11T15:17:12.779633Z",
     "start_time": "2019-11-11T15:17:12.492526Z"
    }
   },
   "outputs": [
    {
     "data": {
      "text/plain": [
       "<matplotlib.axes._subplots.AxesSubplot at 0x7fbb28a7d3c8>"
      ]
     },
     "execution_count": 60,
     "metadata": {},
     "output_type": "execute_result"
    },
    {
     "data": {
      "image/png": "[encoded data removed]",
      "text/plain": [
       "<Figure size 432x288 with 1 Axes>"
      ]
     },
     "metadata": {
      "needs_background": "light"
     },
     "output_type": "display_data"
    }
   ],
   "source": [
    "sns.pointplot(x='lf_num', y='aupr', data=dev_full_results_df)"
   ]
  },
  {
   "cell_type": "code",
   "execution_count": 15,
   "metadata": {
    "ExecuteTime": {
     "end_time": "2019-11-06T06:16:43.656275Z",
     "start_time": "2019-11-06T06:16:43.548407Z"
    }
   },
   "outputs": [
    {
     "data": {
      "text/html": [
       "<div>\n",
       "<style scoped>\n",
       "    .dataframe tbody tr th:only-of-type {\n",
       "        vertical-align: middle;\n",
       "    }\n",
       "\n",
       "    .dataframe tbody tr th {\n",
       "        vertical-align: top;\n",
       "    }\n",
       "\n",
       "    .dataframe thead th {\n",
       "        text-align: right;\n",
       "    }\n",
       "</style>\n",
       "<table border=\"1\" class=\"dataframe\">\n",
       "  <thead>\n",
       "    <tr style=\"text-align: right;\">\n",
       "      <th></th>\n",
       "      <th>aupr</th>\n",
       "      <th>auroc</th>\n",
       "      <th>lf_num</th>\n",
       "      <th>lf_sample</th>\n",
       "    </tr>\n",
       "  </thead>\n",
       "  <tbody>\n",
       "    <tr>\n",
       "      <th>0</th>\n",
       "      <td>0.289713</td>\n",
       "      <td>0.521712</td>\n",
       "      <td>0</td>\n",
       "      <td>0:0,1,2</td>\n",
       "    </tr>\n",
       "    <tr>\n",
       "      <th>1</th>\n",
       "      <td>0.299367</td>\n",
       "      <td>0.566481</td>\n",
       "      <td>1</td>\n",
       "      <td>0:0,1,2,17</td>\n",
       "    </tr>\n",
       "  </tbody>\n",
       "</table>\n",
       "</div>"
      ],
      "text/plain": [
       "       aupr     auroc  lf_num   lf_sample\n",
       "0  0.289713  0.521712       0     0:0,1,2\n",
       "1  0.299367  0.566481       1  0:0,1,2,17"
      ]
     },
     "execution_count": 15,
     "metadata": {},
     "output_type": "execute_result"
    }
   ],
   "source": [
    "test_full_results_df = pd.concat([test_baseline_df] + test_records).reset_index(drop=True)\n",
    "test_full_results_df.to_csv(\"results/CtD/results/test_sampled_results.tsv\", index=False, sep=\"\\t\")\n",
    "test_full_results_df.head(2)"
   ]
  },
  {
   "cell_type": "code",
   "execution_count": 61,
   "metadata": {
    "ExecuteTime": {
     "end_time": "2019-11-11T15:17:12.490849Z",
     "start_time": "2019-11-11T15:17:12.222857Z"
    }
   },
   "outputs": [
    {
     "data": {
      "text/plain": [
       "<matplotlib.axes._subplots.AxesSubplot at 0x7fbb28a22208>"
      ]
     },
     "execution_count": 61,
     "metadata": {},
     "output_type": "execute_result"
    },
    {
     "data": {
      "image/png": "[encoded data removed]",
      "text/plain": [
       "<Figure size 432x288 with 1 Axes>"
      ]
     },
     "metadata": {
      "needs_background": "light"
     },
     "output_type": "display_data"
    }
   ],
   "source": [
    "sns.pointplot(x='lf_num', y='auroc', data=test_full_results_df)"
   ]
  },
  {
   "cell_type": "code",
   "execution_count": 62,
   "metadata": {
    "ExecuteTime": {
     "end_time": "2019-11-11T15:17:12.779633Z",
     "start_time": "2019-11-11T15:17:12.492526Z"
    }
   },
   "outputs": [
    {
     "data": {
      "text/plain": [
       "<matplotlib.axes._subplots.AxesSubplot at 0x7fbb289f3780>"
      ]
     },
     "execution_count": 62,
     "metadata": {},
     "output_type": "execute_result"
    },
    {
     "data": {
      "image/png": "[encoded data removed]",
      "text/plain": [
       "<Figure size 432x288 with 1 Axes>"
      ]
     },
     "metadata": {
      "needs_background": "light"
     },
     "output_type": "display_data"
    }
   ],
   "source": [
    "sns.pointplot(x='lf_num', y='aupr', data=test_full_results_df)"
   ]
  },
  {
   "cell_type": "markdown",
   "metadata": {
    "ExecuteTime": {
     "end_time": "2019-10-11T18:40:30.516087Z",
     "start_time": "2019-10-11T18:40:30.495488Z"
    }
   },
   "source": [
    "# Disease Associates Gene Sources Predicts Compound Treats Disease Sentences"
   ]
  },
  {
   "cell_type": "markdown",
   "metadata": {},
   "source": [
    "Here we are using label functions, designed to predict the Disease associates Gene relation, to predict Compound treats Disease sentences. To estimate the performance boost over the baseline model, we implement a label function sampling appoach. The sampling approach works as follows: \n",
    "1. randomly sample X amount of label functions that are not within the database category\n",
    "2. incorporate the sampled label functions with the database label functions\n",
    "3. train the generative model on the combined resources\n",
    "4. use the generative model to predict the tuning set and test set\n",
    "5. Report performance in terms of AUROC and AUPR\n",
    "6. repeat the above process 50 times for each sample size (1, 6, 11, 16, all).\n",
    "\n",
    "Given that these label functions are not designed to predict the given relation, we expect that adding more label functions will decrease in performance. This means that auroc when sampling 1 label function should be less than the auroc of the baseline. This trend should continue when sampling 6, 11, 16 and then all of the label functions."
   ]
  },
  {
   "cell_type": "code",
   "execution_count": 16,
   "metadata": {
    "ExecuteTime": {
     "end_time": "2019-11-06T06:16:43.722662Z",
     "start_time": "2019-11-06T06:16:43.657511Z"
    }
   },
   "outputs": [],
   "source": [
    "dag_start = 25\n",
    "dag_end = 55\n",
    "\n",
    "#Spaced out number of sampels including total\n",
    "size_of_samples = [1,6,11,16,dag_end-dag_start]\n",
    "number_of_samples = 50\n",
    "dag_lf_range = range(dag_start, dag_end)"
   ]
  },
  {
   "cell_type": "code",
   "execution_count": 17,
   "metadata": {
    "ExecuteTime": {
     "end_time": "2019-11-06T06:16:43.818794Z",
     "start_time": "2019-11-06T06:16:43.723884Z"
    }
   },
   "outputs": [],
   "source": [
    "sampled_lfs_dict = {\n",
    "    sample_size:(\n",
    "        sample_lfs(\n",
    "            list(dag_lf_range),\n",
    "            len(list(dag_lf_range)), \n",
    "            sample_size, \n",
    "            number_of_samples, \n",
    "            random_state=100\n",
    "        )\n",
    "    )\n",
    "    for sample_size in size_of_samples\n",
    "}"
   ]
  },
  {
   "cell_type": "code",
   "execution_count": 18,
   "metadata": {
    "ExecuteTime": {
     "end_time": "2019-11-06T06:42:16.095286Z",
     "start_time": "2019-11-06T06:16:43.823333Z"
    }
   },
   "outputs": [
    {
     "data": {
      "application/vnd.jupyter.widget-view+json": {
       "model_id": "7ba4a4e6786d4ed2aae2d0d846717b9e",
       "version_major": 2,
       "version_minor": 0
      },
      "text/plain": [
       "HBox(children=(IntProgress(value=1, bar_style='info', max=1), HTML(value='')))"
      ]
     },
     "metadata": {},
     "output_type": "display_data"
    },
    {
     "name": "stdout",
     "output_type": "stream",
     "text": [
      "\n"
     ]
    },
    {
     "data": {
      "application/vnd.jupyter.widget-view+json": {
       "model_id": "9a1147c3abc5453e840582853268c6d5",
       "version_major": 2,
       "version_minor": 0
      },
      "text/plain": [
       "HBox(children=(IntProgress(value=1, bar_style='info', max=1), HTML(value='')))"
      ]
     },
     "metadata": {},
     "output_type": "display_data"
    },
    {
     "name": "stdout",
     "output_type": "stream",
     "text": [
      "\n"
     ]
    },
    {
     "data": {
      "application/vnd.jupyter.widget-view+json": {
       "model_id": "a12093739cf34684aff02cf1e1b2d9c9",
       "version_major": 2,
       "version_minor": 0
      },
      "text/plain": [
       "HBox(children=(IntProgress(value=1, bar_style='info', max=1), HTML(value='')))"
      ]
     },
     "metadata": {},
     "output_type": "display_data"
    },
    {
     "name": "stdout",
     "output_type": "stream",
     "text": [
      "\n"
     ]
    },
    {
     "data": {
      "application/vnd.jupyter.widget-view+json": {
       "model_id": "9a64c42a4dde45489aa77101a04cad13",
       "version_major": 2,
       "version_minor": 0
      },
      "text/plain": [
       "HBox(children=(IntProgress(value=1, bar_style='info', max=1), HTML(value='')))"
      ]
     },
     "metadata": {},
     "output_type": "display_data"
    },
    {
     "name": "stdout",
     "output_type": "stream",
     "text": [
      "\n"
     ]
    },
    {
     "data": {
      "application/vnd.jupyter.widget-view+json": {
       "model_id": "6881d4a116ff450bb4edfce207a93122",
       "version_major": 2,
       "version_minor": 0
      },
      "text/plain": [
       "HBox(children=(IntProgress(value=1, bar_style='info', max=1), HTML(value='')))"
      ]
     },
     "metadata": {},
     "output_type": "display_data"
    },
    {
     "name": "stdout",
     "output_type": "stream",
     "text": [
      "\n"
     ]
    }
   ],
   "source": [
    "dev_records = []\n",
    "test_records = []\n",
    "for num_lf in sampled_lfs_dict:\n",
    "    train_grid_results, dev_grid_results, test_grid_results, models = (\n",
    "        train_model_random_lfs(\n",
    "            [baseline_index + sample for sample in sampled_lfs_dict[num_lf]],\n",
    "            correct_L, correct_L_dev, candidate_dfs['dev'].curated_ctd,\n",
    "            correct_L_test, pd.np.round(pd.np.linspace(0.01, 5, num=5), 2)\n",
    "        )\n",
    "    )\n",
    "    \n",
    "    (\n",
    "        pd.DataFrame({key:train_grid_results[key][:,1] for key in train_grid_results})\n",
    "        .assign(candidate_id=label_matricies['train'].candidate_id.values)\n",
    "        .to_csv(f\"results/DaG/marginals/{num_lf}_sampled_train.tsv.xz\", compression=\"xz\", index=False, sep=\"\\t\")\n",
    "    )\n",
    "    (\n",
    "        pd.DataFrame({key:dev_grid_results[key][:,1] for key in dev_grid_results})\n",
    "        .to_csv(f\"results/DaG/marginals/{num_lf}_sampled_dev.tsv\", index=False, sep=\"\\t\")\n",
    "    )\n",
    "    (\n",
    "        pd.DataFrame({key:test_grid_results[key][:,1] for key in test_grid_results})\n",
    "        .to_csv(f\"results/DaG/marginals/{num_lf}_sampled_test.tsv\", index=False, sep=\"\\t\")\n",
    "    )\n",
    "    \n",
    "    (\n",
    "        pd.DataFrame({key:models[key].get_weights() for key in models})\n",
    "        .to_csv(f\"results/DaG/weights/{num_lf}_sampled_weights.tsv\", index=False, sep=\"\\t\")\n",
    "    )\n",
    "    \n",
    "    dev_records.append(get_model_performance(candidate_dfs['dev'].curated_ctd, dev_grid_results, num_lf))\n",
    "    test_records.append(get_model_performance(candidate_dfs['test'].curated_ctd, test_grid_results, num_lf))"
   ]
  },
  {
   "cell_type": "code",
   "execution_count": 19,
   "metadata": {
    "ExecuteTime": {
     "end_time": "2019-11-06T06:42:16.120377Z",
     "start_time": "2019-11-06T06:42:16.096565Z"
    }
   },
   "outputs": [
    {
     "data": {
      "text/html": [
       "<div>\n",
       "<style scoped>\n",
       "    .dataframe tbody tr th:only-of-type {\n",
       "        vertical-align: middle;\n",
       "    }\n",
       "\n",
       "    .dataframe tbody tr th {\n",
       "        vertical-align: top;\n",
       "    }\n",
       "\n",
       "    .dataframe thead th {\n",
       "        text-align: right;\n",
       "    }\n",
       "</style>\n",
       "<table border=\"1\" class=\"dataframe\">\n",
       "  <thead>\n",
       "    <tr style=\"text-align: right;\">\n",
       "      <th></th>\n",
       "      <th>aupr</th>\n",
       "      <th>auroc</th>\n",
       "      <th>lf_num</th>\n",
       "      <th>lf_sample</th>\n",
       "    </tr>\n",
       "  </thead>\n",
       "  <tbody>\n",
       "    <tr>\n",
       "      <th>0</th>\n",
       "      <td>0.491901</td>\n",
       "      <td>0.681995</td>\n",
       "      <td>0</td>\n",
       "      <td>0:0,1,2</td>\n",
       "    </tr>\n",
       "    <tr>\n",
       "      <th>1</th>\n",
       "      <td>0.492823</td>\n",
       "      <td>0.685979</td>\n",
       "      <td>1</td>\n",
       "      <td>0:0,1,2,40</td>\n",
       "    </tr>\n",
       "  </tbody>\n",
       "</table>\n",
       "</div>"
      ],
      "text/plain": [
       "       aupr     auroc  lf_num   lf_sample\n",
       "0  0.491901  0.681995       0     0:0,1,2\n",
       "1  0.492823  0.685979       1  0:0,1,2,40"
      ]
     },
     "execution_count": 19,
     "metadata": {},
     "output_type": "execute_result"
    }
   ],
   "source": [
    "dev_full_results_df = pd.concat([dev_baseline_df] + dev_records).reset_index(drop=True)\n",
    "dev_full_results_df.to_csv(\"results/DaG/results/dev_sampled_results.tsv\", index=False, sep=\"\\t\")\n",
    "dev_full_results_df.head(2)"
   ]
  },
  {
   "cell_type": "code",
   "execution_count": 54,
   "metadata": {
    "ExecuteTime": {
     "end_time": "2019-11-11T15:17:12.490849Z",
     "start_time": "2019-11-11T15:17:12.222857Z"
    }
   },
   "outputs": [
    {
     "data": {
      "text/plain": [
       "<matplotlib.axes._subplots.AxesSubplot at 0x7fbb28cf7dd8>"
      ]
     },
     "execution_count": 54,
     "metadata": {},
     "output_type": "execute_result"
    },
    {
     "data": {
      "image/png": "[encoded data removed]",
      "text/plain": [
       "<Figure size 432x288 with 1 Axes>"
      ]
     },
     "metadata": {
      "needs_background": "light"
     },
     "output_type": "display_data"
    }
   ],
   "source": [
    "sns.pointplot(x='lf_num', y='auroc', data=dev_full_results_df)"
   ]
  },
  {
   "cell_type": "code",
   "execution_count": 55,
   "metadata": {
    "ExecuteTime": {
     "end_time": "2019-11-11T15:17:12.779633Z",
     "start_time": "2019-11-11T15:17:12.492526Z"
    }
   },
   "outputs": [
    {
     "data": {
      "text/plain": [
       "<matplotlib.axes._subplots.AxesSubplot at 0x7fbb28c3b5f8>"
      ]
     },
     "execution_count": 55,
     "metadata": {},
     "output_type": "execute_result"
    },
    {
     "data": {
      "image/png": "[encoded data removed]",
      "text/plain": [
       "<Figure size 432x288 with 1 Axes>"
      ]
     },
     "metadata": {
      "needs_background": "light"
     },
     "output_type": "display_data"
    }
   ],
   "source": [
    "sns.pointplot(x='lf_num', y='aupr', data=dev_full_results_df)"
   ]
  },
  {
   "cell_type": "code",
   "execution_count": 20,
   "metadata": {
    "ExecuteTime": {
     "end_time": "2019-11-06T06:42:16.267677Z",
     "start_time": "2019-11-06T06:42:16.121481Z"
    }
   },
   "outputs": [
    {
     "data": {
      "text/html": [
       "<div>\n",
       "<style scoped>\n",
       "    .dataframe tbody tr th:only-of-type {\n",
       "        vertical-align: middle;\n",
       "    }\n",
       "\n",
       "    .dataframe tbody tr th {\n",
       "        vertical-align: top;\n",
       "    }\n",
       "\n",
       "    .dataframe thead th {\n",
       "        text-align: right;\n",
       "    }\n",
       "</style>\n",
       "<table border=\"1\" class=\"dataframe\">\n",
       "  <thead>\n",
       "    <tr style=\"text-align: right;\">\n",
       "      <th></th>\n",
       "      <th>aupr</th>\n",
       "      <th>auroc</th>\n",
       "      <th>lf_num</th>\n",
       "      <th>lf_sample</th>\n",
       "    </tr>\n",
       "  </thead>\n",
       "  <tbody>\n",
       "    <tr>\n",
       "      <th>0</th>\n",
       "      <td>0.289713</td>\n",
       "      <td>0.521712</td>\n",
       "      <td>0</td>\n",
       "      <td>0:0,1,2</td>\n",
       "    </tr>\n",
       "    <tr>\n",
       "      <th>1</th>\n",
       "      <td>0.286203</td>\n",
       "      <td>0.514612</td>\n",
       "      <td>1</td>\n",
       "      <td>0:0,1,2,40</td>\n",
       "    </tr>\n",
       "  </tbody>\n",
       "</table>\n",
       "</div>"
      ],
      "text/plain": [
       "       aupr     auroc  lf_num   lf_sample\n",
       "0  0.289713  0.521712       0     0:0,1,2\n",
       "1  0.286203  0.514612       1  0:0,1,2,40"
      ]
     },
     "execution_count": 20,
     "metadata": {},
     "output_type": "execute_result"
    }
   ],
   "source": [
    "test_full_results_df = pd.concat([test_baseline_df] + test_records).reset_index(drop=True)\n",
    "test_full_results_df.to_csv(\"results/DaG/results/test_sampled_results.tsv\", index=False, sep=\"\\t\")\n",
    "test_full_results_df.head(2)"
   ]
  },
  {
   "cell_type": "code",
   "execution_count": 56,
   "metadata": {
    "ExecuteTime": {
     "end_time": "2019-11-11T15:17:12.490849Z",
     "start_time": "2019-11-11T15:17:12.222857Z"
    }
   },
   "outputs": [
    {
     "data": {
      "text/plain": [
       "<matplotlib.axes._subplots.AxesSubplot at 0x7fbb28bbcba8>"
      ]
     },
     "execution_count": 56,
     "metadata": {},
     "output_type": "execute_result"
    },
    {
     "data": {
      "image/png": "[encoded data removed]",
      "text/plain": [
       "<Figure size 432x288 with 1 Axes>"
      ]
     },
     "metadata": {
      "needs_background": "light"
     },
     "output_type": "display_data"
    }
   ],
   "source": [
    "sns.pointplot(x='lf_num', y='auroc', data=test_full_results_df)"
   ]
  },
  {
   "cell_type": "code",
   "execution_count": 57,
   "metadata": {
    "ExecuteTime": {
     "end_time": "2019-11-11T15:17:12.779633Z",
     "start_time": "2019-11-11T15:17:12.492526Z"
    }
   },
   "outputs": [
    {
     "data": {
      "text/plain": [
       "<matplotlib.axes._subplots.AxesSubplot at 0x7fbb28b489e8>"
      ]
     },
     "execution_count": 57,
     "metadata": {},
     "output_type": "execute_result"
    },
    {
     "data": {
      "image/png": "[encoded data removed]",
      "text/plain": [
       "<Figure size 432x288 with 1 Axes>"
      ]
     },
     "metadata": {
      "needs_background": "light"
     },
     "output_type": "display_data"
    }
   ],
   "source": [
    "sns.pointplot(x='lf_num', y='aupr', data=test_full_results_df)"
   ]
  },
  {
   "cell_type": "markdown",
   "metadata": {
    "ExecuteTime": {
     "end_time": "2019-10-11T18:40:30.516087Z",
     "start_time": "2019-10-11T18:40:30.495488Z"
    }
   },
   "source": [
    "# Compound Binds Gene Sources Predicts Compound Treats Disease Sentences"
   ]
  },
  {
   "cell_type": "markdown",
   "metadata": {},
   "source": [
    "Here we are using label functions, designed to predict the Compound binds Gene relation, to predict Compound treats Disease sentences. To estimate the performance boost over the baseline model, we implement a label function sampling appoach. The sampling approach works as follows: \n",
    "1. randomly sample X amount of label functions that are not within the database category\n",
    "2. incorporate the sampled label functions with the database label functions\n",
    "3. train the generative model on the combined resources\n",
    "4. use the generative model to predict the tuning set and test set\n",
    "5. Report performance in terms of AUROC and AUPR\n",
    "6. repeat the above process 50 times for each sample size (1, 6, 11, 16, all).\n",
    "\n",
    "Given that these label functions are not designed to predict the given relation, we expect that adding more label functions will decrease in performance. This means that auroc when sampling 1 label function should be less than the auroc of the baseline. This trend should continue when sampling 6, 11, 16 and then all of the label functions."
   ]
  },
  {
   "cell_type": "code",
   "execution_count": 21,
   "metadata": {
    "ExecuteTime": {
     "end_time": "2019-11-06T06:42:16.339202Z",
     "start_time": "2019-11-06T06:42:16.272157Z"
    }
   },
   "outputs": [],
   "source": [
    "cbg_start = 55\n",
    "cbg_end = 75\n",
    "\n",
    "#Spaced out number of sampels including total\n",
    "size_of_samples = [1,6,11,16,cbg_end-cbg_start]\n",
    "number_of_samples = 50\n",
    "cbg_lf_range = range(cbg_start, cbg_end)"
   ]
  },
  {
   "cell_type": "code",
   "execution_count": 22,
   "metadata": {
    "ExecuteTime": {
     "end_time": "2019-11-06T06:42:16.416341Z",
     "start_time": "2019-11-06T06:42:16.341194Z"
    }
   },
   "outputs": [],
   "source": [
    "sampled_lfs_dict = {\n",
    "    sample_size:(\n",
    "        sample_lfs(\n",
    "            list(cbg_lf_range),\n",
    "            len(list(cbg_lf_range)), \n",
    "            sample_size, \n",
    "            number_of_samples, \n",
    "            random_state=100\n",
    "        )\n",
    "    )\n",
    "    for sample_size in size_of_samples\n",
    "}"
   ]
  },
  {
   "cell_type": "code",
   "execution_count": 23,
   "metadata": {
    "ExecuteTime": {
     "end_time": "2019-11-06T07:06:20.462034Z",
     "start_time": "2019-11-06T06:42:16.425286Z"
    },
    "scrolled": false
   },
   "outputs": [
    {
     "data": {
      "application/vnd.jupyter.widget-view+json": {
       "model_id": "2e3517124d4149d79a849e1e6b067f7b",
       "version_major": 2,
       "version_minor": 0
      },
      "text/plain": [
       "HBox(children=(IntProgress(value=1, bar_style='info', max=1), HTML(value='')))"
      ]
     },
     "metadata": {},
     "output_type": "display_data"
    },
    {
     "name": "stdout",
     "output_type": "stream",
     "text": [
      "\n"
     ]
    },
    {
     "data": {
      "application/vnd.jupyter.widget-view+json": {
       "model_id": "6d19ec39748949e184f53a2c3c5e439d",
       "version_major": 2,
       "version_minor": 0
      },
      "text/plain": [
       "HBox(children=(IntProgress(value=1, bar_style='info', max=1), HTML(value='')))"
      ]
     },
     "metadata": {},
     "output_type": "display_data"
    },
    {
     "name": "stdout",
     "output_type": "stream",
     "text": [
      "\n"
     ]
    },
    {
     "data": {
      "application/vnd.jupyter.widget-view+json": {
       "model_id": "38a1c28be4ec44c3b31a33a9a34304a6",
       "version_major": 2,
       "version_minor": 0
      },
      "text/plain": [
       "HBox(children=(IntProgress(value=1, bar_style='info', max=1), HTML(value='')))"
      ]
     },
     "metadata": {},
     "output_type": "display_data"
    },
    {
     "name": "stdout",
     "output_type": "stream",
     "text": [
      "\n"
     ]
    },
    {
     "data": {
      "application/vnd.jupyter.widget-view+json": {
       "model_id": "57ef374c105447d7b5ed65e996815f23",
       "version_major": 2,
       "version_minor": 0
      },
      "text/plain": [
       "HBox(children=(IntProgress(value=1, bar_style='info', max=1), HTML(value='')))"
      ]
     },
     "metadata": {},
     "output_type": "display_data"
    },
    {
     "name": "stdout",
     "output_type": "stream",
     "text": [
      "\n"
     ]
    },
    {
     "data": {
      "application/vnd.jupyter.widget-view+json": {
       "model_id": "e52657059e8649e2a4ef661d0cb1ea7e",
       "version_major": 2,
       "version_minor": 0
      },
      "text/plain": [
       "HBox(children=(IntProgress(value=1, bar_style='info', max=1), HTML(value='')))"
      ]
     },
     "metadata": {},
     "output_type": "display_data"
    },
    {
     "name": "stdout",
     "output_type": "stream",
     "text": [
      "\n"
     ]
    }
   ],
   "source": [
    "dev_records = []\n",
    "test_records = []\n",
    "for num_lf in sampled_lfs_dict:\n",
    "    train_grid_results, dev_grid_results, test_grid_results, models = (\n",
    "        train_model_random_lfs(\n",
    "            [baseline_index + sample for sample in sampled_lfs_dict[num_lf]],\n",
    "            correct_L, correct_L_dev, candidate_dfs['dev'].curated_ctd,\n",
    "            correct_L_test,pd.np.round(pd.np.linspace(0.01, 5, num=5), 2)\n",
    "        )\n",
    "    )\n",
    "    \n",
    "    (\n",
    "        pd.DataFrame({key:train_grid_results[key][:,1] for key in train_grid_results})\n",
    "        .assign(candidate_id=label_matricies['train'].candidate_id.values)\n",
    "        .to_csv(f\"results/CbG/marginals/{num_lf}_sampled_train.tsv.xz\", compression=\"xz\", index=False, sep=\"\\t\")\n",
    "    )\n",
    "    (\n",
    "        pd.DataFrame({key:dev_grid_results[key][:,1] for key in dev_grid_results})\n",
    "        .to_csv(f\"results/CbG/marginals/{num_lf}_sampled_dev.tsv\", index=False, sep=\"\\t\")\n",
    "    )\n",
    "    (\n",
    "        pd.DataFrame({key:test_grid_results[key][:,1] for key in test_grid_results})\n",
    "        .to_csv(f\"results/CbG/marginals/{num_lf}_sampled_test.tsv\", index=False, sep=\"\\t\")\n",
    "    )\n",
    "    \n",
    "    (\n",
    "        pd.DataFrame({key:models[key].get_weights() for key in models})\n",
    "        .to_csv(f\"results/CbG/weights/{num_lf}_sampled_weights.tsv\", index=False, sep=\"\\t\")\n",
    "    )\n",
    "    \n",
    "    dev_records.append(get_model_performance(candidate_dfs['dev'].curated_ctd, dev_grid_results, num_lf))\n",
    "    test_records.append(get_model_performance(candidate_dfs['test'].curated_ctd, test_grid_results, num_lf))"
   ]
  },
  {
   "cell_type": "code",
   "execution_count": 24,
   "metadata": {
    "ExecuteTime": {
     "end_time": "2019-11-06T07:06:20.487555Z",
     "start_time": "2019-11-06T07:06:20.463446Z"
    }
   },
   "outputs": [
    {
     "data": {
      "text/html": [
       "<div>\n",
       "<style scoped>\n",
       "    .dataframe tbody tr th:only-of-type {\n",
       "        vertical-align: middle;\n",
       "    }\n",
       "\n",
       "    .dataframe tbody tr th {\n",
       "        vertical-align: top;\n",
       "    }\n",
       "\n",
       "    .dataframe thead th {\n",
       "        text-align: right;\n",
       "    }\n",
       "</style>\n",
       "<table border=\"1\" class=\"dataframe\">\n",
       "  <thead>\n",
       "    <tr style=\"text-align: right;\">\n",
       "      <th></th>\n",
       "      <th>aupr</th>\n",
       "      <th>auroc</th>\n",
       "      <th>lf_num</th>\n",
       "      <th>lf_sample</th>\n",
       "    </tr>\n",
       "  </thead>\n",
       "  <tbody>\n",
       "    <tr>\n",
       "      <th>0</th>\n",
       "      <td>0.491901</td>\n",
       "      <td>0.681995</td>\n",
       "      <td>0</td>\n",
       "      <td>0:0,1,2</td>\n",
       "    </tr>\n",
       "    <tr>\n",
       "      <th>1</th>\n",
       "      <td>0.496022</td>\n",
       "      <td>0.709880</td>\n",
       "      <td>1</td>\n",
       "      <td>0:0,1,2,59</td>\n",
       "    </tr>\n",
       "  </tbody>\n",
       "</table>\n",
       "</div>"
      ],
      "text/plain": [
       "       aupr     auroc  lf_num   lf_sample\n",
       "0  0.491901  0.681995       0     0:0,1,2\n",
       "1  0.496022  0.709880       1  0:0,1,2,59"
      ]
     },
     "execution_count": 24,
     "metadata": {},
     "output_type": "execute_result"
    }
   ],
   "source": [
    "dev_full_results_df = pd.concat([dev_baseline_df] + dev_records).reset_index(drop=True)\n",
    "dev_full_results_df.to_csv(\"results/CbG/results/dev_sampled_results.tsv\", index=False, sep=\"\\t\")\n",
    "dev_full_results_df.head(2)"
   ]
  },
  {
   "cell_type": "code",
   "execution_count": 49,
   "metadata": {
    "ExecuteTime": {
     "end_time": "2019-11-11T15:17:12.490849Z",
     "start_time": "2019-11-11T15:17:12.222857Z"
    }
   },
   "outputs": [
    {
     "data": {
      "text/plain": [
       "<matplotlib.axes._subplots.AxesSubplot at 0x7fbb28f0cdd8>"
      ]
     },
     "execution_count": 49,
     "metadata": {},
     "output_type": "execute_result"
    },
    {
     "data": {
      "image/png": "[encoded data removed]",
      "text/plain": [
       "<Figure size 432x288 with 1 Axes>"
      ]
     },
     "metadata": {
      "needs_background": "light"
     },
     "output_type": "display_data"
    }
   ],
   "source": [
    "sns.pointplot(x='lf_num', y='auroc', data=dev_full_results_df)"
   ]
  },
  {
   "cell_type": "code",
   "execution_count": 50,
   "metadata": {
    "ExecuteTime": {
     "end_time": "2019-11-11T15:17:12.779633Z",
     "start_time": "2019-11-11T15:17:12.492526Z"
    }
   },
   "outputs": [
    {
     "data": {
      "text/plain": [
       "<matplotlib.axes._subplots.AxesSubplot at 0x7fbb28e12780>"
      ]
     },
     "execution_count": 50,
     "metadata": {},
     "output_type": "execute_result"
    },
    {
     "data": {
      "image/png": "[encoded data removed]",
      "text/plain": [
       "<Figure size 432x288 with 1 Axes>"
      ]
     },
     "metadata": {
      "needs_background": "light"
     },
     "output_type": "display_data"
    }
   ],
   "source": [
    "sns.pointplot(x='lf_num', y='aupr', data=dev_full_results_df)"
   ]
  },
  {
   "cell_type": "code",
   "execution_count": 25,
   "metadata": {
    "ExecuteTime": {
     "end_time": "2019-11-06T07:06:20.642740Z",
     "start_time": "2019-11-06T07:06:20.488734Z"
    }
   },
   "outputs": [
    {
     "data": {
      "text/html": [
       "<div>\n",
       "<style scoped>\n",
       "    .dataframe tbody tr th:only-of-type {\n",
       "        vertical-align: middle;\n",
       "    }\n",
       "\n",
       "    .dataframe tbody tr th {\n",
       "        vertical-align: top;\n",
       "    }\n",
       "\n",
       "    .dataframe thead th {\n",
       "        text-align: right;\n",
       "    }\n",
       "</style>\n",
       "<table border=\"1\" class=\"dataframe\">\n",
       "  <thead>\n",
       "    <tr style=\"text-align: right;\">\n",
       "      <th></th>\n",
       "      <th>aupr</th>\n",
       "      <th>auroc</th>\n",
       "      <th>lf_num</th>\n",
       "      <th>lf_sample</th>\n",
       "    </tr>\n",
       "  </thead>\n",
       "  <tbody>\n",
       "    <tr>\n",
       "      <th>0</th>\n",
       "      <td>0.289713</td>\n",
       "      <td>0.521712</td>\n",
       "      <td>0</td>\n",
       "      <td>0:0,1,2</td>\n",
       "    </tr>\n",
       "    <tr>\n",
       "      <th>1</th>\n",
       "      <td>0.293653</td>\n",
       "      <td>0.563466</td>\n",
       "      <td>1</td>\n",
       "      <td>0:0,1,2,59</td>\n",
       "    </tr>\n",
       "  </tbody>\n",
       "</table>\n",
       "</div>"
      ],
      "text/plain": [
       "       aupr     auroc  lf_num   lf_sample\n",
       "0  0.289713  0.521712       0     0:0,1,2\n",
       "1  0.293653  0.563466       1  0:0,1,2,59"
      ]
     },
     "execution_count": 25,
     "metadata": {},
     "output_type": "execute_result"
    }
   ],
   "source": [
    "test_full_results_df = pd.concat([test_baseline_df] + test_records).reset_index(drop=True)\n",
    "test_full_results_df.to_csv(\"results/CbG/results/test_sampled_results.tsv\", index=False, sep=\"\\t\")\n",
    "test_full_results_df.head(2)"
   ]
  },
  {
   "cell_type": "code",
   "execution_count": 51,
   "metadata": {
    "ExecuteTime": {
     "end_time": "2019-11-11T15:17:12.490849Z",
     "start_time": "2019-11-11T15:17:12.222857Z"
    },
    "scrolled": true
   },
   "outputs": [
    {
     "data": {
      "text/plain": [
       "<matplotlib.axes._subplots.AxesSubplot at 0x7fbb28d89208>"
      ]
     },
     "execution_count": 51,
     "metadata": {},
     "output_type": "execute_result"
    },
    {
     "data": {
      "image/png": "[encoded data removed]",
      "text/plain": [
       "<Figure size 432x288 with 1 Axes>"
      ]
     },
     "metadata": {
      "needs_background": "light"
     },
     "output_type": "display_data"
    }
   ],
   "source": [
    "sns.pointplot(x='lf_num', y='auroc', data=test_full_results_df)"
   ]
  },
  {
   "cell_type": "code",
   "execution_count": 52,
   "metadata": {
    "ExecuteTime": {
     "end_time": "2019-11-11T15:17:12.779633Z",
     "start_time": "2019-11-11T15:17:12.492526Z"
    }
   },
   "outputs": [
    {
     "data": {
      "text/plain": [
       "<matplotlib.axes._subplots.AxesSubplot at 0x7fbb28d5f3c8>"
      ]
     },
     "execution_count": 52,
     "metadata": {},
     "output_type": "execute_result"
    },
    {
     "data": {
      "image/png": "[encoded data removed]",
      "text/plain": [
       "<Figure size 432x288 with 1 Axes>"
      ]
     },
     "metadata": {
      "needs_background": "light"
     },
     "output_type": "display_data"
    }
   ],
   "source": [
    "sns.pointplot(x='lf_num', y='aupr', data=test_full_results_df)"
   ]
  },
  {
   "cell_type": "markdown",
   "metadata": {
    "ExecuteTime": {
     "end_time": "2019-10-11T18:40:30.516087Z",
     "start_time": "2019-10-11T18:40:30.495488Z"
    }
   },
   "source": [
    "# Gene Interacts Gene Sources Predicts Compound Treats Disease Sentences"
   ]
  },
  {
   "cell_type": "markdown",
   "metadata": {},
   "source": [
    "Here we are using label functions, designed to predict the Gene inteacts Gene relation, to predict Compound treats Disease sentences. To estimate the performance boost over the baseline model, we implement a label function sampling appoach. The sampling approach works as follows: \n",
    "1. randomly sample X amount of label functions that are not within the database category\n",
    "2. incorporate the sampled label functions with the database label functions\n",
    "3. train the generative model on the combined resources\n",
    "4. use the generative model to predict the tuning set and test set\n",
    "5. Report performance in terms of AUROC and AUPR\n",
    "6. repeat the above process 50 times for each sample size (1, 6, 11, 16, all).\n",
    "\n",
    "Given that these label functions are not designed to predict the given relation, we expect that adding more label functions will decrease in performance. This means that auroc when sampling 1 label function should be less than the auroc of the baseline. This trend should continue when sampling 6, 11, 16 and then all of the label functions."
   ]
  },
  {
   "cell_type": "code",
   "execution_count": 26,
   "metadata": {
    "ExecuteTime": {
     "end_time": "2019-11-06T07:06:20.692857Z",
     "start_time": "2019-11-06T07:06:20.646331Z"
    }
   },
   "outputs": [],
   "source": [
    "gig_start = 75\n",
    "gig_end = 103\n",
    "\n",
    "#Spaced out number of sampels including total\n",
    "size_of_samples = [1,6,11,16,gig_end-gig_start]\n",
    "number_of_samples = 50\n",
    "gig_lf_range = range(gig_start, gig_end)"
   ]
  },
  {
   "cell_type": "code",
   "execution_count": 27,
   "metadata": {
    "ExecuteTime": {
     "end_time": "2019-11-06T07:06:20.784826Z",
     "start_time": "2019-11-06T07:06:20.693973Z"
    }
   },
   "outputs": [],
   "source": [
    "sampled_lfs_dict = {\n",
    "    sample_size:(\n",
    "        sample_lfs(\n",
    "            list(gig_lf_range),\n",
    "            len(list(gig_lf_range)), \n",
    "            sample_size, \n",
    "            number_of_samples, \n",
    "            random_state=100\n",
    "        )\n",
    "    )\n",
    "    for sample_size in size_of_samples\n",
    "}"
   ]
  },
  {
   "cell_type": "code",
   "execution_count": 28,
   "metadata": {
    "ExecuteTime": {
     "end_time": "2019-11-06T07:30:53.750417Z",
     "start_time": "2019-11-06T07:06:20.786359Z"
    }
   },
   "outputs": [
    {
     "data": {
      "application/vnd.jupyter.widget-view+json": {
       "model_id": "48d135b72853453c8324fb1b18ed0606",
       "version_major": 2,
       "version_minor": 0
      },
      "text/plain": [
       "HBox(children=(IntProgress(value=1, bar_style='info', max=1), HTML(value='')))"
      ]
     },
     "metadata": {},
     "output_type": "display_data"
    },
    {
     "name": "stdout",
     "output_type": "stream",
     "text": [
      "\n"
     ]
    },
    {
     "data": {
      "application/vnd.jupyter.widget-view+json": {
       "model_id": "9b6cace642c14c988db6c990c09cc803",
       "version_major": 2,
       "version_minor": 0
      },
      "text/plain": [
       "HBox(children=(IntProgress(value=1, bar_style='info', max=1), HTML(value='')))"
      ]
     },
     "metadata": {},
     "output_type": "display_data"
    },
    {
     "name": "stdout",
     "output_type": "stream",
     "text": [
      "\n"
     ]
    },
    {
     "data": {
      "application/vnd.jupyter.widget-view+json": {
       "model_id": "c3ecad27c4de45e0a13a4448d0d9b0a3",
       "version_major": 2,
       "version_minor": 0
      },
      "text/plain": [
       "HBox(children=(IntProgress(value=1, bar_style='info', max=1), HTML(value='')))"
      ]
     },
     "metadata": {},
     "output_type": "display_data"
    },
    {
     "name": "stdout",
     "output_type": "stream",
     "text": [
      "\n"
     ]
    },
    {
     "data": {
      "application/vnd.jupyter.widget-view+json": {
       "model_id": "43f0ab278a8646cda99810434c5e7ed6",
       "version_major": 2,
       "version_minor": 0
      },
      "text/plain": [
       "HBox(children=(IntProgress(value=1, bar_style='info', max=1), HTML(value='')))"
      ]
     },
     "metadata": {},
     "output_type": "display_data"
    },
    {
     "name": "stdout",
     "output_type": "stream",
     "text": [
      "\n"
     ]
    },
    {
     "data": {
      "application/vnd.jupyter.widget-view+json": {
       "model_id": "64aad978376144a6a5f23fa7b5dacf44",
       "version_major": 2,
       "version_minor": 0
      },
      "text/plain": [
       "HBox(children=(IntProgress(value=1, bar_style='info', max=1), HTML(value='')))"
      ]
     },
     "metadata": {},
     "output_type": "display_data"
    },
    {
     "name": "stdout",
     "output_type": "stream",
     "text": [
      "\n"
     ]
    }
   ],
   "source": [
    "dev_records = []\n",
    "test_records = []\n",
    "for num_lf in sampled_lfs_dict:\n",
    "    train_grid_results, dev_grid_results, test_grid_results, models = (\n",
    "        train_model_random_lfs(\n",
    "            [baseline_index + sample for sample in sampled_lfs_dict[num_lf]], \n",
    "            correct_L, correct_L_dev, candidate_dfs['dev'].curated_ctd, \n",
    "            correct_L_test, pd.np.round(pd.np.linspace(0.01, 5, num=5), 2)\n",
    "        )\n",
    "    )\n",
    "    \n",
    "    (\n",
    "        pd.DataFrame({key:train_grid_results[key][:,1] for key in train_grid_results})\n",
    "        .assign(candidate_id=label_matricies['train'].candidate_id.values)\n",
    "        .to_csv(f\"results/GiG/marginals/{num_lf}_sampled_train.tsv.xz\", compression=\"xz\", sep=\"\\t\", index=False)\n",
    "    )\n",
    "    (\n",
    "        pd.DataFrame({key:dev_grid_results[key][:,1] for key in dev_grid_results})\n",
    "        .to_csv(f\"results/GiG/marginals/{num_lf}_sampled_dev.tsv\", sep=\"\\t\", index=False)\n",
    "    )\n",
    "    (\n",
    "        pd.DataFrame({key:test_grid_results[key][:,1] for key in test_grid_results})\n",
    "        .to_csv(f\"results/GiG/marginals/{num_lf}_sampled_test.tsv\", sep=\"\\t\", index=False)\n",
    "    )\n",
    "    \n",
    "    (\n",
    "        pd.DataFrame({key:models[key].get_weights() for key in models})\n",
    "        .to_csv(f\"results/GiG/weights/{num_lf}_sampled_weights.tsv\", sep=\"\\t\", index=False)\n",
    "    )\n",
    "    \n",
    "    dev_records.append(get_model_performance(candidate_dfs['dev'].curated_ctd, dev_grid_results, num_lf))\n",
    "    test_records.append(get_model_performance(candidate_dfs['test'].curated_ctd, test_grid_results, num_lf))"
   ]
  },
  {
   "cell_type": "code",
   "execution_count": 29,
   "metadata": {
    "ExecuteTime": {
     "end_time": "2019-11-06T07:30:53.776833Z",
     "start_time": "2019-11-06T07:30:53.751554Z"
    }
   },
   "outputs": [
    {
     "data": {
      "text/html": [
       "<div>\n",
       "<style scoped>\n",
       "    .dataframe tbody tr th:only-of-type {\n",
       "        vertical-align: middle;\n",
       "    }\n",
       "\n",
       "    .dataframe tbody tr th {\n",
       "        vertical-align: top;\n",
       "    }\n",
       "\n",
       "    .dataframe thead th {\n",
       "        text-align: right;\n",
       "    }\n",
       "</style>\n",
       "<table border=\"1\" class=\"dataframe\">\n",
       "  <thead>\n",
       "    <tr style=\"text-align: right;\">\n",
       "      <th></th>\n",
       "      <th>aupr</th>\n",
       "      <th>auroc</th>\n",
       "      <th>lf_num</th>\n",
       "      <th>lf_sample</th>\n",
       "    </tr>\n",
       "  </thead>\n",
       "  <tbody>\n",
       "    <tr>\n",
       "      <th>0</th>\n",
       "      <td>0.491901</td>\n",
       "      <td>0.681995</td>\n",
       "      <td>0</td>\n",
       "      <td>0:0,1,2</td>\n",
       "    </tr>\n",
       "    <tr>\n",
       "      <th>1</th>\n",
       "      <td>0.495726</td>\n",
       "      <td>0.689150</td>\n",
       "      <td>1</td>\n",
       "      <td>0:0,1,2,89</td>\n",
       "    </tr>\n",
       "  </tbody>\n",
       "</table>\n",
       "</div>"
      ],
      "text/plain": [
       "       aupr     auroc  lf_num   lf_sample\n",
       "0  0.491901  0.681995       0     0:0,1,2\n",
       "1  0.495726  0.689150       1  0:0,1,2,89"
      ]
     },
     "execution_count": 29,
     "metadata": {},
     "output_type": "execute_result"
    }
   ],
   "source": [
    "dev_full_results_df = pd.concat([dev_baseline_df] + dev_records).reset_index(drop=True)\n",
    "dev_full_results_df.to_csv(\"results/GiG/results/dev_sampled_results.tsv\", index=False, sep=\"\\t\")\n",
    "dev_full_results_df.head(2)"
   ]
  },
  {
   "cell_type": "code",
   "execution_count": 44,
   "metadata": {
    "ExecuteTime": {
     "end_time": "2019-11-11T15:17:12.490849Z",
     "start_time": "2019-11-11T15:17:12.222857Z"
    }
   },
   "outputs": [
    {
     "data": {
      "text/plain": [
       "<matplotlib.axes._subplots.AxesSubplot at 0x7fbb17e79c18>"
      ]
     },
     "execution_count": 44,
     "metadata": {},
     "output_type": "execute_result"
    },
    {
     "data": {
      "image/png": "[encoded data removed]",
      "text/plain": [
       "<Figure size 432x288 with 1 Axes>"
      ]
     },
     "metadata": {
      "needs_background": "light"
     },
     "output_type": "display_data"
    }
   ],
   "source": [
    "sns.pointplot(x='lf_num', y='auroc', data=dev_full_results_df)"
   ]
  },
  {
   "cell_type": "code",
   "execution_count": 45,
   "metadata": {
    "ExecuteTime": {
     "end_time": "2019-11-11T15:17:12.779633Z",
     "start_time": "2019-11-11T15:17:12.492526Z"
    }
   },
   "outputs": [
    {
     "data": {
      "text/plain": [
       "<matplotlib.axes._subplots.AxesSubplot at 0x7fbb17dcb9b0>"
      ]
     },
     "execution_count": 45,
     "metadata": {},
     "output_type": "execute_result"
    },
    {
     "data": {
      "image/png": "[encoded data removed]",
      "text/plain": [
       "<Figure size 432x288 with 1 Axes>"
      ]
     },
     "metadata": {
      "needs_background": "light"
     },
     "output_type": "display_data"
    }
   ],
   "source": [
    "sns.pointplot(x='lf_num', y='aupr', data=dev_full_results_df)"
   ]
  },
  {
   "cell_type": "code",
   "execution_count": 30,
   "metadata": {
    "ExecuteTime": {
     "end_time": "2019-11-06T07:30:53.931694Z",
     "start_time": "2019-11-06T07:30:53.778151Z"
    }
   },
   "outputs": [
    {
     "data": {
      "text/html": [
       "<div>\n",
       "<style scoped>\n",
       "    .dataframe tbody tr th:only-of-type {\n",
       "        vertical-align: middle;\n",
       "    }\n",
       "\n",
       "    .dataframe tbody tr th {\n",
       "        vertical-align: top;\n",
       "    }\n",
       "\n",
       "    .dataframe thead th {\n",
       "        text-align: right;\n",
       "    }\n",
       "</style>\n",
       "<table border=\"1\" class=\"dataframe\">\n",
       "  <thead>\n",
       "    <tr style=\"text-align: right;\">\n",
       "      <th></th>\n",
       "      <th>aupr</th>\n",
       "      <th>auroc</th>\n",
       "      <th>lf_num</th>\n",
       "      <th>lf_sample</th>\n",
       "    </tr>\n",
       "  </thead>\n",
       "  <tbody>\n",
       "    <tr>\n",
       "      <th>0</th>\n",
       "      <td>0.289713</td>\n",
       "      <td>0.521712</td>\n",
       "      <td>0</td>\n",
       "      <td>0:0,1,2</td>\n",
       "    </tr>\n",
       "    <tr>\n",
       "      <th>1</th>\n",
       "      <td>0.292926</td>\n",
       "      <td>0.532147</td>\n",
       "      <td>1</td>\n",
       "      <td>0:0,1,2,89</td>\n",
       "    </tr>\n",
       "  </tbody>\n",
       "</table>\n",
       "</div>"
      ],
      "text/plain": [
       "       aupr     auroc  lf_num   lf_sample\n",
       "0  0.289713  0.521712       0     0:0,1,2\n",
       "1  0.292926  0.532147       1  0:0,1,2,89"
      ]
     },
     "execution_count": 30,
     "metadata": {},
     "output_type": "execute_result"
    }
   ],
   "source": [
    "test_full_results_df = pd.concat([test_baseline_df] + test_records).reset_index(drop=True)\n",
    "test_full_results_df.to_csv(\"results/GiG/results/test_sampled_results.tsv\", index=False, sep=\"\\t\")\n",
    "test_full_results_df.head(2)"
   ]
  },
  {
   "cell_type": "code",
   "execution_count": 46,
   "metadata": {
    "ExecuteTime": {
     "end_time": "2019-11-11T15:17:12.490849Z",
     "start_time": "2019-11-11T15:17:12.222857Z"
    }
   },
   "outputs": [
    {
     "data": {
      "text/plain": [
       "<matplotlib.axes._subplots.AxesSubplot at 0x7fbb2a26ef60>"
      ]
     },
     "execution_count": 46,
     "metadata": {},
     "output_type": "execute_result"
    },
    {
     "data": {
      "image/png": "[encoded data removed]",
      "text/plain": [
       "<Figure size 432x288 with 1 Axes>"
      ]
     },
     "metadata": {
      "needs_background": "light"
     },
     "output_type": "display_data"
    }
   ],
   "source": [
    "sns.pointplot(x='lf_num', y='auroc', data=test_full_results_df)"
   ]
  },
  {
   "cell_type": "code",
   "execution_count": 47,
   "metadata": {
    "ExecuteTime": {
     "end_time": "2019-11-11T15:17:12.779633Z",
     "start_time": "2019-11-11T15:17:12.492526Z"
    }
   },
   "outputs": [
    {
     "data": {
      "text/plain": [
       "<matplotlib.axes._subplots.AxesSubplot at 0x7fbb28f16240>"
      ]
     },
     "execution_count": 47,
     "metadata": {},
     "output_type": "execute_result"
    },
    {
     "data": {
      "image/png": "[encoded data removed]",
      "text/plain": [
       "<Figure size 432x288 with 1 Axes>"
      ]
     },
     "metadata": {
      "needs_background": "light"
     },
     "output_type": "display_data"
    }
   ],
   "source": [
    "sns.pointplot(x='lf_num', y='aupr', data=test_full_results_df)"
   ]
  },
  {
   "cell_type": "markdown",
   "metadata": {
    "ExecuteTime": {
     "end_time": "2019-10-11T18:40:30.516087Z",
     "start_time": "2019-10-11T18:40:30.495488Z"
    }
   },
   "source": [
    "# All Sources Predicts Compound Treats Disease Sentences"
   ]
  },
  {
   "cell_type": "markdown",
   "metadata": {},
   "source": [
    "Here we are using every hand constructed label function to predict Compound treats Disease sentences. To estimate the performance boost over the baseline model, we implement a label function sampling appoach. The sampling approach works as follows: \n",
    "1. randomly sample X amount of label functions that are not within the database category\n",
    "2. incorporate the sampled label functions with the database label functions\n",
    "3. train the generative model on the combined resources\n",
    "4. use the generative model to predict the tuning set and test set\n",
    "5. Report performance in terms of AUROC and AUPR\n",
    "6. repeat the above process 50 times for each sample size (1, 33, 65, 97, all).\n",
    "\n",
    "Given that some of these label functions are used to predict the given relation, we expect that adding more label functions might slightly increase performance. This means that auroc when sampling 1 label function should be higher than the auroc of the baseline; however, at 33, 65, 97 the auroc should start to decrease as we are adding more irrelevant label functions towards the baseline model."
   ]
  },
  {
   "cell_type": "code",
   "execution_count": 31,
   "metadata": {
    "ExecuteTime": {
     "end_time": "2019-11-06T07:30:53.965793Z",
     "start_time": "2019-11-06T07:30:53.933265Z"
    }
   },
   "outputs": [],
   "source": [
    "all_start = 3\n",
    "all_end = 103\n",
    "\n",
    "#Spaced out number of sampels including total\n",
    "size_of_samples = [1,33,65,97,all_end-all_start]\n",
    "number_of_samples = 50\n",
    "cbg_lf_range = range(all_start, all_end)"
   ]
  },
  {
   "cell_type": "code",
   "execution_count": 32,
   "metadata": {
    "ExecuteTime": {
     "end_time": "2019-11-06T07:30:53.997358Z",
     "start_time": "2019-11-06T07:30:53.966902Z"
    }
   },
   "outputs": [],
   "source": [
    "sampled_lfs_dict = {\n",
    "    sample_size:(\n",
    "        sample_lfs(\n",
    "            list(cbg_lf_range),\n",
    "            len(list(cbg_lf_range)), \n",
    "            sample_size, \n",
    "            number_of_samples, \n",
    "            random_state=100\n",
    "        )\n",
    "    )\n",
    "    for sample_size in size_of_samples\n",
    "}"
   ]
  },
  {
   "cell_type": "code",
   "execution_count": 33,
   "metadata": {
    "ExecuteTime": {
     "end_time": "2019-11-06T08:40:14.646497Z",
     "start_time": "2019-11-06T07:30:53.998518Z"
    }
   },
   "outputs": [
    {
     "data": {
      "application/vnd.jupyter.widget-view+json": {
       "model_id": "7944b939714849f6b896ca51ebcfcd54",
       "version_major": 2,
       "version_minor": 0
      },
      "text/plain": [
       "HBox(children=(IntProgress(value=1, bar_style='info', max=1), HTML(value='')))"
      ]
     },
     "metadata": {},
     "output_type": "display_data"
    },
    {
     "name": "stdout",
     "output_type": "stream",
     "text": [
      "\n"
     ]
    },
    {
     "data": {
      "application/vnd.jupyter.widget-view+json": {
       "model_id": "cb68a960f82846fb894df14c525f7cee",
       "version_major": 2,
       "version_minor": 0
      },
      "text/plain": [
       "HBox(children=(IntProgress(value=1, bar_style='info', max=1), HTML(value='')))"
      ]
     },
     "metadata": {},
     "output_type": "display_data"
    },
    {
     "name": "stdout",
     "output_type": "stream",
     "text": [
      "\n"
     ]
    },
    {
     "data": {
      "application/vnd.jupyter.widget-view+json": {
       "model_id": "ccfe9413343640aeb0634a29fa0f98f0",
       "version_major": 2,
       "version_minor": 0
      },
      "text/plain": [
       "HBox(children=(IntProgress(value=1, bar_style='info', max=1), HTML(value='')))"
      ]
     },
     "metadata": {},
     "output_type": "display_data"
    },
    {
     "name": "stdout",
     "output_type": "stream",
     "text": [
      "\n"
     ]
    },
    {
     "data": {
      "application/vnd.jupyter.widget-view+json": {
       "model_id": "45da5b09af2d453d9b3cb604c0a25386",
       "version_major": 2,
       "version_minor": 0
      },
      "text/plain": [
       "HBox(children=(IntProgress(value=1, bar_style='info', max=1), HTML(value='')))"
      ]
     },
     "metadata": {},
     "output_type": "display_data"
    },
    {
     "name": "stdout",
     "output_type": "stream",
     "text": [
      "\n"
     ]
    },
    {
     "data": {
      "application/vnd.jupyter.widget-view+json": {
       "model_id": "5beaa7db932c47c4bf267f1078a5f102",
       "version_major": 2,
       "version_minor": 0
      },
      "text/plain": [
       "HBox(children=(IntProgress(value=1, bar_style='info', max=1), HTML(value='')))"
      ]
     },
     "metadata": {},
     "output_type": "display_data"
    },
    {
     "name": "stdout",
     "output_type": "stream",
     "text": [
      "\n"
     ]
    }
   ],
   "source": [
    "dev_records = []\n",
    "test_records = []\n",
    "for num_lf in sampled_lfs_dict:\n",
    "    train_grid_results, dev_grid_results, test_grid_results, models = (\n",
    "        train_model_random_lfs(\n",
    "            [baseline_index + sample for sample in sampled_lfs_dict[num_lf]],\n",
    "            correct_L, correct_L_dev, candidate_dfs['dev'].curated_ctd,\n",
    "            correct_L_test, pd.np.round(pd.np.linspace(0.01, 5, num=5), 2)\n",
    "        )\n",
    "    )\n",
    "    \n",
    "    (\n",
    "        pd.DataFrame({key:train_grid_results[key][:,1] for key in train_grid_results})\n",
    "        .assign(candidate_id=label_matricies['train'].candidate_id.values)\n",
    "        .to_csv(f\"results/all/marginals/{num_lf}_sampled_train.tsv.xz\", compression=\"xz\", index=False, sep=\"\\t\")\n",
    "    )\n",
    "    (\n",
    "        pd.DataFrame({key:dev_grid_results[key][:,1] for key in dev_grid_results})\n",
    "        .to_csv(f\"results/all/marginals/{num_lf}_sampled_dev.tsv\", index=False, sep=\"\\t\")\n",
    "    )\n",
    "    (\n",
    "        pd.DataFrame({key:test_grid_results[key][:,1] for key in test_grid_results})\n",
    "        .to_csv(f\"results/all/marginals/{num_lf}_sampled_test.tsv\", index=False, sep=\"\\t\")\n",
    "    )\n",
    "    \n",
    "    (\n",
    "        pd.DataFrame({key:models[key].get_weights() for key in models})\n",
    "        .to_csv(f\"results/all/weights/{num_lf}_sampled_weights.tsv\", index=False, sep=\"\\t\")\n",
    "    )\n",
    "    \n",
    "    dev_records.append(get_model_performance(candidate_dfs['dev'].curated_ctd, dev_grid_results, num_lf))\n",
    "    test_records.append(get_model_performance(candidate_dfs['test'].curated_ctd, test_grid_results, num_lf))"
   ]
  },
  {
   "cell_type": "code",
   "execution_count": 34,
   "metadata": {
    "ExecuteTime": {
     "end_time": "2019-11-06T08:40:14.672558Z",
     "start_time": "2019-11-06T08:40:14.647678Z"
    }
   },
   "outputs": [
    {
     "data": {
      "text/html": [
       "<div>\n",
       "<style scoped>\n",
       "    .dataframe tbody tr th:only-of-type {\n",
       "        vertical-align: middle;\n",
       "    }\n",
       "\n",
       "    .dataframe tbody tr th {\n",
       "        vertical-align: top;\n",
       "    }\n",
       "\n",
       "    .dataframe thead th {\n",
       "        text-align: right;\n",
       "    }\n",
       "</style>\n",
       "<table border=\"1\" class=\"dataframe\">\n",
       "  <thead>\n",
       "    <tr style=\"text-align: right;\">\n",
       "      <th></th>\n",
       "      <th>aupr</th>\n",
       "      <th>auroc</th>\n",
       "      <th>lf_num</th>\n",
       "      <th>lf_sample</th>\n",
       "    </tr>\n",
       "  </thead>\n",
       "  <tbody>\n",
       "    <tr>\n",
       "      <th>0</th>\n",
       "      <td>0.491901</td>\n",
       "      <td>0.681995</td>\n",
       "      <td>0</td>\n",
       "      <td>0:0,1,2</td>\n",
       "    </tr>\n",
       "    <tr>\n",
       "      <th>1</th>\n",
       "      <td>0.240820</td>\n",
       "      <td>0.679481</td>\n",
       "      <td>1</td>\n",
       "      <td>0:0,1,2,53</td>\n",
       "    </tr>\n",
       "  </tbody>\n",
       "</table>\n",
       "</div>"
      ],
      "text/plain": [
       "       aupr     auroc  lf_num   lf_sample\n",
       "0  0.491901  0.681995       0     0:0,1,2\n",
       "1  0.240820  0.679481       1  0:0,1,2,53"
      ]
     },
     "execution_count": 34,
     "metadata": {},
     "output_type": "execute_result"
    }
   ],
   "source": [
    "dev_full_results_df = pd.concat([dev_baseline_df] + dev_records).reset_index(drop=True)\n",
    "dev_full_results_df.to_csv(\"results/all/results/dev_sampled_results.tsv\", index=False, sep=\"\\t\")\n",
    "dev_full_results_df.head(2)"
   ]
  },
  {
   "cell_type": "code",
   "execution_count": 41,
   "metadata": {
    "ExecuteTime": {
     "end_time": "2019-11-11T14:58:38.917952Z",
     "start_time": "2019-11-11T14:58:38.626443Z"
    }
   },
   "outputs": [
    {
     "data": {
      "text/plain": [
       "<matplotlib.axes._subplots.AxesSubplot at 0x7fbb17e2af60>"
      ]
     },
     "execution_count": 41,
     "metadata": {},
     "output_type": "execute_result"
    },
    {
     "data": {
      "image/png": "[encoded data removed]",
      "text/plain": [
       "<Figure size 432x288 with 1 Axes>"
      ]
     },
     "metadata": {
      "needs_background": "light"
     },
     "output_type": "display_data"
    }
   ],
   "source": [
    "sns.pointplot(x='lf_num', y='auroc', data=dev_full_results_df)"
   ]
  },
  {
   "cell_type": "code",
   "execution_count": 42,
   "metadata": {
    "ExecuteTime": {
     "end_time": "2019-11-11T14:58:39.272694Z",
     "start_time": "2019-11-11T14:58:38.919500Z"
    }
   },
   "outputs": [
    {
     "data": {
      "text/plain": [
       "<matplotlib.axes._subplots.AxesSubplot at 0x7fbb2a121b70>"
      ]
     },
     "execution_count": 42,
     "metadata": {},
     "output_type": "execute_result"
    },
    {
     "data": {
      "image/png": "[encoded data removed]",
      "text/plain": [
       "<Figure size 432x288 with 1 Axes>"
      ]
     },
     "metadata": {
      "needs_background": "light"
     },
     "output_type": "display_data"
    }
   ],
   "source": [
    "sns.pointplot(x='lf_num', y='aupr', data=dev_full_results_df)"
   ]
  },
  {
   "cell_type": "code",
   "execution_count": 35,
   "metadata": {
    "ExecuteTime": {
     "end_time": "2019-11-06T08:40:14.792810Z",
     "start_time": "2019-11-06T08:40:14.673740Z"
    }
   },
   "outputs": [
    {
     "data": {
      "text/html": [
       "<div>\n",
       "<style scoped>\n",
       "    .dataframe tbody tr th:only-of-type {\n",
       "        vertical-align: middle;\n",
       "    }\n",
       "\n",
       "    .dataframe tbody tr th {\n",
       "        vertical-align: top;\n",
       "    }\n",
       "\n",
       "    .dataframe thead th {\n",
       "        text-align: right;\n",
       "    }\n",
       "</style>\n",
       "<table border=\"1\" class=\"dataframe\">\n",
       "  <thead>\n",
       "    <tr style=\"text-align: right;\">\n",
       "      <th></th>\n",
       "      <th>aupr</th>\n",
       "      <th>auroc</th>\n",
       "      <th>lf_num</th>\n",
       "      <th>lf_sample</th>\n",
       "    </tr>\n",
       "  </thead>\n",
       "  <tbody>\n",
       "    <tr>\n",
       "      <th>0</th>\n",
       "      <td>0.289713</td>\n",
       "      <td>0.521712</td>\n",
       "      <td>0</td>\n",
       "      <td>0:0,1,2</td>\n",
       "    </tr>\n",
       "    <tr>\n",
       "      <th>1</th>\n",
       "      <td>0.285343</td>\n",
       "      <td>0.518594</td>\n",
       "      <td>1</td>\n",
       "      <td>0:0,1,2,53</td>\n",
       "    </tr>\n",
       "  </tbody>\n",
       "</table>\n",
       "</div>"
      ],
      "text/plain": [
       "       aupr     auroc  lf_num   lf_sample\n",
       "0  0.289713  0.521712       0     0:0,1,2\n",
       "1  0.285343  0.518594       1  0:0,1,2,53"
      ]
     },
     "execution_count": 35,
     "metadata": {},
     "output_type": "execute_result"
    }
   ],
   "source": [
    "test_full_results_df = pd.concat([test_baseline_df] + test_records).reset_index(drop=True)\n",
    "test_full_results_df.to_csv(\"results/all/results/test_sampled_results.tsv\", index=False, sep=\"\\t\")\n",
    "test_full_results_df.head(2)"
   ]
  },
  {
   "cell_type": "code",
   "execution_count": 39,
   "metadata": {
    "ExecuteTime": {
     "end_time": "2019-11-11T14:57:59.405909Z",
     "start_time": "2019-11-11T14:57:59.119390Z"
    }
   },
   "outputs": [
    {
     "data": {
      "text/plain": [
       "<matplotlib.axes._subplots.AxesSubplot at 0x7fbb2a0e6d68>"
      ]
     },
     "execution_count": 39,
     "metadata": {},
     "output_type": "execute_result"
    },
    {
     "data": {
      "image/png": "[encoded data removed]",
      "text/plain": [
       "<Figure size 432x288 with 1 Axes>"
      ]
     },
     "metadata": {
      "needs_background": "light"
     },
     "output_type": "display_data"
    }
   ],
   "source": [
    "sns.pointplot(x='lf_num', y='auroc', data=test_full_results_df)"
   ]
  },
  {
   "cell_type": "code",
   "execution_count": 40,
   "metadata": {
    "ExecuteTime": {
     "end_time": "2019-11-11T14:58:00.031168Z",
     "start_time": "2019-11-11T14:57:59.749229Z"
    }
   },
   "outputs": [
    {
     "data": {
      "text/plain": [
       "<matplotlib.axes._subplots.AxesSubplot at 0x7fbb2a316f28>"
      ]
     },
     "execution_count": 40,
     "metadata": {},
     "output_type": "execute_result"
    },
    {
     "data": {
      "image/png": "[encoded data removed]",
      "text/plain": [
       "<Figure size 432x288 with 1 Axes>"
      ]
     },
     "metadata": {
      "needs_background": "light"
     },
     "output_type": "display_data"
    }
   ],
   "source": [
    "sns.pointplot(x='lf_num', y='aupr', data=test_full_results_df)"
   ]
  }
 ],
 "metadata": {
  "kernelspec": {
   "display_name": "Python [conda env:snorkel_advanced]",
   "language": "python",
   "name": "conda-env-snorkel_advanced-py"
  },
  "language_info": {
   "codemirror_mode": {
    "name": "ipython",
    "version": 3
   },
   "file_extension": ".py",
   "mimetype": "text/x-python",
   "name": "python",
   "nbconvert_exporter": "python",
   "pygments_lexer": "ipython3",
   "version": "3.6.7"
  }
 },
 "nbformat": 4,
 "nbformat_minor": 2
}
