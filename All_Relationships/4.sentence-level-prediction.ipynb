{
 "cells": [
  {
   "cell_type": "markdown",
   "metadata": {},
   "source": [
    "# Train the Discriminator for Candidate Classification on the Sentence Level"
   ]
  },
  {
   "cell_type": "markdown",
   "metadata": {},
   "source": [
    "This notebook is designed to train the following machine learning models: Long Short Term Memory Network (LSTM), [Doc2Vec](https://arxiv.org/pdf/1707.02377.pdf) with Logitstic Regression, and [Bag of Words](https://en.wikipedia.org/wiki/Bag-of-words_model) with Logistic Regrssion. "
   ]
  },
  {
   "cell_type": "markdown",
   "metadata": {},
   "source": [
    "## MUST RUN AT THE START OF EVERYTHING"
   ]
  },
  {
   "cell_type": "markdown",
   "metadata": {},
   "source": [
    "Set up the database for data extraction and load the Candidate subclass for the algorithms below"
   ]
  },
  {
   "cell_type": "code",
   "execution_count": null,
   "metadata": {},
   "outputs": [],
   "source": [
    "%load_ext autoreload\n",
    "%autoreload 2\n",
    "%matplotlib inline\n",
    "\n",
    "import csv\n",
    "import subprocess\n",
    "import os\n",
    "\n",
    "import numpy as np\n",
    "import pandas as pd\n",
    "import tqdm\n",
    "from sklearn.feature_extraction.text import CountVectorizer\n",
    "from sklearn.linear_model import LogisticRegression\n",
    "from sklearn.model_selection import GridSearchCV\n",
    "from sklearn.dummy import DummyClassifier\n",
    "from sklearn.metrics import roc_curve, auc, precision_recall_curve"
   ]
  },
  {
   "cell_type": "code",
   "execution_count": null,
   "metadata": {},
   "outputs": [],
   "source": [
    "#Set up the environment\n",
    "username = \"danich1\"\n",
    "password = \"snorkel\"\n",
    "dbname = \"pubmeddb\"\n",
    "\n",
    "#Path subject to change for different os\n",
    "database_str = \"postgresql+psycopg2://{}:{}@/{}?host=/var/run/postgresql\".format(username, password, dbname)\n",
    "os.environ['SNORKELDB'] = database_str\n",
    "\n",
    "from snorkel import SnorkelSession\n",
    "session = SnorkelSession()"
   ]
  },
  {
   "cell_type": "code",
   "execution_count": null,
   "metadata": {},
   "outputs": [],
   "source": [
    "import sys\n",
    "sys.path.append('/home/danich1/Documents/snorkeling/snorkel/treedlib/treedlib')"
   ]
  },
  {
   "cell_type": "code",
   "execution_count": null,
   "metadata": {},
   "outputs": [],
   "source": [
    "from snorkel.annotations import LabelAnnotator, load_marginals\n",
    "from snorkel.annotations import load_gold_labels\n",
    "from snorkel.learning.pytorch import LSTM\n",
    "from snorkel.models import Candidate, FeatureKey, candidate_subclass"
   ]
  },
  {
   "cell_type": "code",
   "execution_count": null,
   "metadata": {},
   "outputs": [],
   "source": [
    "edge_type = \"dg\""
   ]
  },
  {
   "cell_type": "code",
   "execution_count": null,
   "metadata": {},
   "outputs": [],
   "source": [
    "if edge_type == \"dg\":\n",
    "    DiseaseGene = candidate_subclass('DiseaseGene', ['Disease', 'Gene'])\n",
    "elif edge_type == \"gg\":\n",
    "    GeneGene = candidate_subclass('GeneGene', ['Gene1', 'Gene2'])\n",
    "elif edge_type == \"cg\":\n",
    "    CompoundGene = candidate_subclass('CompoundGene', ['Compound', 'Gene'])\n",
    "elif edge_type == \"cd\":\n",
    "    CompoundDisease = candidate_subclass('CompoundDisease', ['Compound', 'Disease'])\n",
    "else:\n",
    "    print(\"Please pick a valid edge type\")"
   ]
  },
  {
   "cell_type": "markdown",
   "metadata": {},
   "source": [
    "# Load The Data"
   ]
  },
  {
   "cell_type": "markdown",
   "metadata": {},
   "source": [
    "Here we load the sentences from the training and development set respectively. Both come from excel files that are on the repository as we speak."
   ]
  },
  {
   "cell_type": "code",
   "execution_count": null,
   "metadata": {
    "scrolled": true
   },
   "outputs": [],
   "source": [
    "train_sentences_df = pd.read_excel(\"data/sentence-labels.xlsx\")\n",
    "train_sentences_df.head(2)"
   ]
  },
  {
   "cell_type": "code",
   "execution_count": null,
   "metadata": {},
   "outputs": [],
   "source": [
    "dev_sentences_df = pd.read_excel(\"data/sentence-labels-dev.xlsx\")\n",
    "dev_sentences_df = dev_sentences_df[dev_sentences_df.curated_dsh.notnull()]\n",
    "dev_sentences_df.head(2)"
   ]
  },
  {
   "cell_type": "markdown",
   "metadata": {},
   "source": [
    "## Train a LSTM Disc Model"
   ]
  },
  {
   "cell_type": "markdown",
   "metadata": {},
   "source": [
    "This block of code trains an LSTM. An LSTM is a special type of recurrent nerual network that retains a memory of past values over period of time. ([more explaination here](http://colah.github.io/posts/2015-08-Understanding-LSTMs/)). Snorkel is in the process of switching to pytorch, which will allow the following code to run on a cpu with no memory issues at all."
   ]
  },
  {
   "cell_type": "code",
   "execution_count": null,
   "metadata": {},
   "outputs": [],
   "source": [
    "train_candidate_ids = train_sentences_df.candidate_id.astype(int).tolist()\n",
    "dev_candidate_ids = dev_sentences_df.candidate_id.astype(int).tolist()"
   ]
  },
  {
   "cell_type": "code",
   "execution_count": null,
   "metadata": {},
   "outputs": [],
   "source": [
    "train_cands = (\n",
    "    session\n",
    "    .query(Candidate)\n",
    "    .filter(Candidate.id.in_(train_candidate_ids))\n",
    "    .all() \n",
    ")\n",
    "\n",
    "dev_cands = (\n",
    "    session\n",
    "    .query(Candidate)\n",
    "    .filter(Candidate.id.in_(dev_candidate_ids))\n",
    "    .all() \n",
    ")"
   ]
  },
  {
   "cell_type": "code",
   "execution_count": null,
   "metadata": {},
   "outputs": [],
   "source": [
    "train_kwargs = {\n",
    "    'lr':            0.01,\n",
    "    'embedding_dim': 500,\n",
    "    'hidden_dim':    500,\n",
    "    'n_epochs':      10,\n",
    "    'dropout':       0.10,\n",
    "    'seed':          1701,\n",
    "    'batch_size':    500\n",
    "}\n",
    "\n",
    "lstm = LSTM(n_threads=None)"
   ]
  },
  {
   "cell_type": "code",
   "execution_count": null,
   "metadata": {},
   "outputs": [],
   "source": [
    "%time lstm.train(train_cands, train_sentences_df.head(100).label.values, **train_kwargs)"
   ]
  },
  {
   "cell_type": "code",
   "execution_count": null,
   "metadata": {},
   "outputs": [],
   "source": [
    "dev_marginals = lstm.marginals(dev_cands)"
   ]
  },
  {
   "cell_type": "markdown",
   "metadata": {},
   "source": [
    "# GPU RUN"
   ]
  },
  {
   "cell_type": "markdown",
   "metadata": {},
   "source": [
    "In order to use the gpu, all the data and code is exported to files in order to run it on the University of Pennsylvania's cluster."
   ]
  },
  {
   "cell_type": "code",
   "execution_count": null,
   "metadata": {},
   "outputs": [],
   "source": [
    "X = lstm._preprocess_data(train_cands, extend=True)\n",
    "dev_X = lstm._preprocess_data(dev_cands, extend=False)"
   ]
  },
  {
   "cell_type": "code",
   "execution_count": null,
   "metadata": {},
   "outputs": [],
   "source": [
    "train_sentences_df['data_str'] = [\",\".join(map(str,x)) for x in X]\n",
    "train_sentences_df[[\"candidate_id\", \"data_str\", \"label\"]].to_csv(\"data/lstm/train_data.tsv\", sep=\"\\t\", index=False)"
   ]
  },
  {
   "cell_type": "code",
   "execution_count": null,
   "metadata": {},
   "outputs": [],
   "source": [
    "dev_sentences_df['data_str'] = [\",\".join(map(str,x)) for x in dev_X]\n",
    "dev_sentences_df[[\"candidate_id\", \"data_str\", \"curated_dsh\"]].to_csv(\"data/lstm/dev_data.tsv\", sep=\"\\t\", index=False)"
   ]
  },
  {
   "cell_type": "code",
   "execution_count": null,
   "metadata": {},
   "outputs": [],
   "source": [
    "(\n",
    "    pd.DataFrame\n",
    "    .from_dict(lstm.word_dict.d, orient='index')\n",
    "    .reset_index()\n",
    "    .rename(index=str, columns={'index':'key', 0:'ix'})\n",
    ").to_csv(\"data/lstm/train_word_dict.tsv\", sep=\"\\t\", index=False)"
   ]
  },
  {
   "cell_type": "markdown",
   "metadata": {},
   "source": [
    "# Doc2VecC"
   ]
  },
  {
   "cell_type": "markdown",
   "metadata": {},
   "source": [
    "This block of code runs the doc2vec model, which is a model that converts sentences into a single dense vector. These vectors can be used in a popular machine learning model like logistic regression. The code below sets up the data for the doc2vec algorithm to run."
   ]
  },
  {
   "cell_type": "markdown",
   "metadata": {},
   "source": [
    "### Generate Data to be Embedded"
   ]
  },
  {
   "cell_type": "code",
   "execution_count": null,
   "metadata": {},
   "outputs": [],
   "source": [
    "train_candidate_ids = train_sentences_df.candidate_id.astype(int).tolist()\n",
    "dev_candidate_ids = (\n",
    "    dev_sentences_df[dev_sentences_df.curated_dsh.notnull()]\n",
    "    .candidate_id\n",
    "    .astype(int)\n",
    "    .tolist()\n",
    ")"
   ]
  },
  {
   "cell_type": "code",
   "execution_count": null,
   "metadata": {},
   "outputs": [],
   "source": [
    "train_cands = (\n",
    "    session\n",
    "    .query(Candidate)\n",
    "    .filter(Candidate.id.in_(train_candidate_ids))\n",
    "    .all() \n",
    ")\n",
    "\n",
    "dev_cands = (\n",
    "    session\n",
    "    .query(Candidate)\n",
    "    .filter(Candidate.id.in_(dev_candidate_ids))\n",
    "    .all() \n",
    ")"
   ]
  },
  {
   "cell_type": "code",
   "execution_count": null,
   "metadata": {},
   "outputs": [],
   "source": [
    "with open(\"data/doc2vec/train_data.txt\", \"w\") as f:\n",
    "    for c in tqdm.tqdm(train_cands):\n",
    "        f.write(c.get_parent().text + \"\\n\")\n",
    "\n",
    "with open(\"data/doc2vec/dev_data_labeled.txt\", \"w\") as f:\n",
    "    for c in tqdm.tqdm(dev_cands):\n",
    "        f.write(c.get_parent().text + \"\\n\")"
   ]
  },
  {
   "cell_type": "code",
   "execution_count": null,
   "metadata": {},
   "outputs": [],
   "source": [
    "dev_df = pd.read_excel(\"data/sentence-labels-dev.xlsx\")\n",
    "dev_df = dev_df[dev_df.curated_dsh.isnull()]\n",
    "dev_df.head(2)"
   ]
  },
  {
   "cell_type": "code",
   "execution_count": null,
   "metadata": {},
   "outputs": [],
   "source": [
    "target_ids = dev_df.candidate_id.astype(int).tolist()"
   ]
  },
  {
   "cell_type": "code",
   "execution_count": null,
   "metadata": {},
   "outputs": [],
   "source": [
    "with open(\"data/doc2vec/dev_data_non_labeled.txt\", \"w\") as f:\n",
    "    for c in tqdm.tqdm(session.query(Candidate).filter(Candidate.id.in_(target_ids)).all()):\n",
    "        f.write(c.get_parent().text + \"\\n\")"
   ]
  },
  {
   "cell_type": "markdown",
   "metadata": {},
   "source": [
    "### Generate Data to Train On"
   ]
  },
  {
   "cell_type": "code",
   "execution_count": null,
   "metadata": {},
   "outputs": [],
   "source": [
    "sql = '''\n",
    "SELECT * from candidate\n",
    "WHERE split = 0 and type='disease_gene'\n",
    "ORDER BY RANDOM()\n",
    "LIMIT 500000;\n",
    "'''\n",
    "target_cids = [x[0] for x in session.execute(sql)]"
   ]
  },
  {
   "cell_type": "code",
   "execution_count": null,
   "metadata": {},
   "outputs": [],
   "source": [
    "offset = 0\n",
    "with open(\"data/doc2vec/train_data_500k.txt\", \"w\") as f:\n",
    "    while True:\n",
    "        cands = session.query(Candidate).filter(Candidate.id.in_(target_cids)).offset(offset).limit(50000).all()\n",
    "        \n",
    "        if len(cands) == 0:\n",
    "            break\n",
    "            \n",
    "        for c in tqdm.tqdm(cands):\n",
    "            f.write(c.get_parent().text + \"\\n\")\n",
    "        \n",
    "        offset += 50000"
   ]
  },
  {
   "cell_type": "markdown",
   "metadata": {},
   "source": [
    "### Run Doc2Vec"
   ]
  },
  {
   "cell_type": "markdown",
   "metadata": {},
   "source": [
    "When runnning doc2vec, make sure the first cell has finished running before starting the second. Subprocess creates a new process so both programs would be running simultaneously. As a result everything will slow down significantly. The submodule might not be compiled. If that is the case run this command: \n",
    "```bash\n",
    "gcc doc2vecc.c -o doc2vecc -lm -pthread -O3 -march=native -funroll-loops\n",
    "```"
   ]
  },
  {
   "cell_type": "code",
   "execution_count": null,
   "metadata": {},
   "outputs": [],
   "source": [
    "command = [\n",
    "    '../iclr2017/doc2vecc',\n",
    "    '-train', 'data/doc2vec/train_data_500k.txt',\n",
    "    '-output', 'data/doc2vec/doc_vectors/train_doc_vectors_500k.txt',\n",
    "    '-cbow', '1',\n",
    "    '-size', '500',\n",
    "    '-negative', '5',\n",
    "    '-hs', '0',\n",
    "    '-threads', '5',\n",
    "    '-binary', '0',\n",
    "    '-iter', '30',\n",
    "    '-test', 'data/doc2vec/train_data.txt',\n",
    "    '-save-vocab', 'data/doc2vec/train_data_vocab_500k.txt'\n",
    "]\n",
    "subprocess.Popen(command)"
   ]
  },
  {
   "cell_type": "code",
   "execution_count": null,
   "metadata": {},
   "outputs": [],
   "source": [
    "command = [\n",
    "    '../iclr2017/doc2vecc',\n",
    "    '-train', 'data/doc2vec/train_data_500k.txt',\n",
    "    '-output', 'data/doc2vec/doc_vectors/dev_doc_vectors_non_labeled_500k.txt',\n",
    "    '-cbow', '1',\n",
    "    '-size', '500',\n",
    "    '-negative', '5',\n",
    "    '-hs', '0',\n",
    "    '-threads', '5',\n",
    "    '-binary', '0',\n",
    "    '-iter', '30',\n",
    "    '-test', 'data/doc2vec/dev_data_non_labeled.txt',\n",
    "    '-read-vocab', 'data/doc2vec/train_data_vocab_500k.txt'\n",
    "]\n",
    "subprocess.Popen(command)"
   ]
  },
  {
   "cell_type": "markdown",
   "metadata": {},
   "source": [
    "# Train Sparse Logistic Regression Disc Model"
   ]
  },
  {
   "cell_type": "markdown",
   "metadata": {},
   "source": [
    "Here we train an SLR. To find the optimal hyperparameter settings this code uses a [random search](http://scikit-learn.org/stable/modules/grid_search.html) instead of iterating over all possible combinations of parameters. After the final model has been found, it is saved in the checkpoints folder to be loaded in the [next notebook](5.data-analysis.ipynb). Furthermore, the weights for the final model are output into a text file to be analyzed as well."
   ]
  },
  {
   "cell_type": "code",
   "execution_count": null,
   "metadata": {},
   "outputs": [],
   "source": [
    "doc2vec_X = np.loadtxt(\"data/doc2vec/doc_vectors/train_doc_vectors.txt\")\n",
    "doc2vec_X = doc2vec_X[:-1, :]\n",
    "doc2vec_dev_X = np.loadtxt(\"data/doc2vec/doc_vectors/dev_doc_vectors.txt\")\n",
    "doc2vec_dev_X = doc2vec_dev_X[:-1, :]"
   ]
  },
  {
   "cell_type": "code",
   "execution_count": null,
   "metadata": {},
   "outputs": [],
   "source": [
    "doc2vec_X_500k = np.loadtxt(\"data/doc2vec/doc_vectors/train_doc_vectors_500k.txt\")\n",
    "doc2vec_X_500k = doc2vec_X_500k[:-1,:]\n",
    "doc2vec_dev_X_500k = np.loadtxt(\"data/doc2vec/doc_vectors/dev_doc_vectors_500k.txt\")\n",
    "doc2vec_dev_X_500k = doc2vec_dev_X_500k[:-1, :]"
   ]
  },
  {
   "cell_type": "code",
   "execution_count": null,
   "metadata": {},
   "outputs": [],
   "source": [
    "doc2vec_X_all = np.loadtxt(\"data/doc2vec/doc_vectors/train_doc_vectors_all.txt\")\n",
    "doc2vec_X_all= doc2vec_X_all[:-1,:]\n",
    "doc2vec_dev_X_all = np.loadtxt(\"data/doc2vec/doc_vectors/dev_doc_vectors_all.txt\")\n",
    "doc2vec_dev_X_all = doc2vec_dev_X_all[:-1, :]"
   ]
  },
  {
   "cell_type": "code",
   "execution_count": null,
   "metadata": {},
   "outputs": [],
   "source": [
    "vectorizer = CountVectorizer()\n",
    "X = vectorizer.fit_transform(\n",
    "    train_sentences_df.sentence.values\n",
    ")\n",
    "dev_X = vectorizer.transform(dev_sentences_df.sentence.values)"
   ]
  },
  {
   "cell_type": "code",
   "execution_count": null,
   "metadata": {},
   "outputs": [],
   "source": [
    "data = [\n",
    "    X,\n",
    "    doc2vec_X,\n",
    "    doc2vec_X_500k,\n",
    "    doc2vec_X_all\n",
    "]\n",
    "\n",
    "labels = [\n",
    "    train_sentences_df.label.apply(lambda x: 1 if x > 0.5 else 0)\n",
    "    for i in range(len(data))\n",
    "]\n",
    "\n",
    "model_labels = [\n",
    "    \"Bag-Of-Words\",\n",
    "    \"Doc2Vec 50k\",\n",
    "    \"Doc2Vec 500k\",\n",
    "    \"Doc2Vec All\"\n",
    "]\n",
    "    \n",
    "lr_grids = [\n",
    "    {'C':np.linspace(1,100, num=4)}\n",
    "    for i in range(len(data))\n",
    "]\n",
    "\n",
    "final_models = []"
   ]
  },
  {
   "cell_type": "code",
   "execution_count": null,
   "metadata": {},
   "outputs": [],
   "source": [
    "lr_model = LogisticRegression()"
   ]
  },
  {
   "cell_type": "code",
   "execution_count": null,
   "metadata": {
    "scrolled": true
   },
   "outputs": [],
   "source": [
    "%%time\n",
    "for train_data, grid, y_labels in zip(data, lr_grids, labels):\n",
    "    fit_model = GridSearchCV(lr_model, \n",
    "                         grid, cv=10, n_jobs=3, \n",
    "                         verbose=1, scoring='roc_auc', return_train_score=True)\n",
    "    fit_model.fit(train_data, y_labels)\n",
    "    final_models.append(fit_model)"
   ]
  },
  {
   "cell_type": "code",
   "execution_count": null,
   "metadata": {},
   "outputs": [],
   "source": [
    "import matplotlib.pyplot as plt\n",
    "for model, model_label in zip(final_models, model_labels):\n",
    "    lr_result = pd.DataFrame(model.cv_results_)\n",
    "    plt.plot(lr_result[\"param_C\"], lr_result[\"mean_test_score\"], label=model_label)\n",
    "plt.legend()\n",
    "plt.xlabel(\"C (regularization parameter)\")\n",
    "plt.ylabel(\"Mean Test Score\")\n",
    "plt.title(\"BOW Training CV (10-fold)\")"
   ]
  },
  {
   "cell_type": "code",
   "execution_count": null,
   "metadata": {},
   "outputs": [],
   "source": [
    "lr_marginals = []\n",
    "for model, test_data in zip(final_models, [dev_X, doc2vec_dev_X, doc2vec_dev_X_500k, doc2vec_dev_X_all]):\n",
    "    lr_marginals.append(model.best_estimator_.predict_proba(test_data)[:,1])"
   ]
  },
  {
   "cell_type": "code",
   "execution_count": null,
   "metadata": {},
   "outputs": [],
   "source": [
    "marginals_df = (\n",
    "    pd.DataFrame(lr_marginals)\n",
    "    .transpose()\n",
    "    .rename(index=str, columns={0:'Bag of Words', 1: 'Doc2Vec 50k', 2:'Doc2Vec 500k', 3:'Doc2Vec All'})\n",
    ")\n",
    "marginals_df.head(2)"
   ]
  },
  {
   "cell_type": "code",
   "execution_count": null,
   "metadata": {},
   "outputs": [],
   "source": [
    "marginals_df.to_csv('data/disc_model_marginals.tsv', index=False, sep='\\t')"
   ]
  }
 ],
 "metadata": {
  "anaconda-cloud": {},
  "kernelspec": {
   "display_name": "Python [conda env:torchling]",
   "language": "python",
   "name": "conda-env-torchling-py"
  },
  "language_info": {
   "codemirror_mode": {
    "name": "ipython",
    "version": 3
   },
   "file_extension": ".py",
   "mimetype": "text/x-python",
   "name": "python",
   "nbconvert_exporter": "python",
   "pygments_lexer": "ipython3",
   "version": "3.6.5"
  }
 },
 "nbformat": 4,
 "nbformat_minor": 2
}
