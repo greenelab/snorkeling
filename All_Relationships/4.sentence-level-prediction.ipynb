{
 "cells": [
  {
   "cell_type": "markdown",
   "metadata": {},
   "source": [
    "# Train the Discriminator for Candidate Classification on the Sentence Level"
   ]
  },
  {
   "cell_type": "markdown",
   "metadata": {},
   "source": [
    "This notebook is designed to train ML algorithms: Long Short Term Memory Neural Net (LSTM) and SparseLogisticRegression (SLR) for candidate classification. "
   ]
  },
  {
   "cell_type": "markdown",
   "metadata": {},
   "source": [
    "## MUST RUN AT THE START OF EVERYTHING"
   ]
  },
  {
   "cell_type": "markdown",
   "metadata": {},
   "source": [
    "Set up the database for data extraction and load the Candidate subclass for the algorithms below"
   ]
  },
  {
   "cell_type": "code",
   "execution_count": null,
   "metadata": {},
   "outputs": [],
   "source": [
    "%load_ext autoreload\n",
    "%autoreload 2\n",
    "%matplotlib inline\n",
    "\n",
    "import csv\n",
    "import os\n",
    "\n",
    "import numpy as np\n",
    "import pandas as pd\n",
    "import tqdm\n",
    "from sklearn.feature_extraction.text import CountVectorizer\n",
    "from sklearn.linear_model import LogisticRegression, SGDClassifier\n",
    "from sklearn.model_selection import GridSearchCV\n",
    "from sklearn.dummy import DummyClassifier"
   ]
  },
  {
   "cell_type": "code",
   "execution_count": null,
   "metadata": {},
   "outputs": [],
   "source": [
    "#Set up the environment\n",
    "username = \"danich1\"\n",
    "password = \"snorkel\"\n",
    "dbname = \"pubmeddb\"\n",
    "\n",
    "#Path subject to change for different os\n",
    "database_str = \"postgresql+psycopg2://{}:{}@/{}?host=/var/run/postgresql\".format(username, password, dbname)\n",
    "os.environ['SNORKELDB'] = database_str\n",
    "\n",
    "from snorkel import SnorkelSession\n",
    "session = SnorkelSession()"
   ]
  },
  {
   "cell_type": "code",
   "execution_count": null,
   "metadata": {},
   "outputs": [],
   "source": [
    "from snorkel.annotations import FeatureAnnotator, LabelAnnotator, load_marginals\n",
    "from snorkel.annotations import load_gold_labels\n",
    "from snorkel.learning import SparseLogisticRegression\n",
    "from snorkel.learning.disc_models.rnn import reRNN\n",
    "from snorkel.learning.utils import RandomSearch\n",
    "from snorkel.models import Candidate, FeatureKey, candidate_subclass"
   ]
  },
  {
   "cell_type": "code",
   "execution_count": null,
   "metadata": {},
   "outputs": [],
   "source": [
    "edge_type = \"dg\""
   ]
  },
  {
   "cell_type": "code",
   "execution_count": null,
   "metadata": {},
   "outputs": [],
   "source": [
    "if edge_type == \"dg\":\n",
    "    DiseaseGene = candidate_subclass('DiseaseGene', ['Disease', 'Gene'])\n",
    "elif edge_type == \"gg\":\n",
    "    GeneGene = candidate_subclass('GeneGene', ['Gene1', 'Gene2'])\n",
    "elif edge_type == \"cg\":\n",
    "    CompoundGene = candidate_subclass('CompoundGene', ['Compound', 'Gene'])\n",
    "elif edge_type == \"cd\":\n",
    "    CompoundDisease = candidate_subclass('CompoundDisease', ['Compound', 'Disease'])\n",
    "else:\n",
    "    print(\"Please pick a valid edge type\")"
   ]
  },
  {
   "cell_type": "markdown",
   "metadata": {},
   "source": [
    "# Load preprocessed data "
   ]
  },
  {
   "cell_type": "markdown",
   "metadata": {},
   "source": [
    "This code will automatically load our labels and features that were generated in the [previous notebook](2.data-labeler.ipynb). "
   ]
  },
  {
   "cell_type": "code",
   "execution_count": null,
   "metadata": {},
   "outputs": [],
   "source": [
    "%%time\n",
    "labeler = LabelAnnotator(lfs=[])\n",
    "\n",
    "L_train = labeler.load_matrix(session, split=0)\n",
    "L_dev = labeler.load_matrix(session, split=1)\n",
    "L_test = labeler.load_matrix(session, split=2)"
   ]
  },
  {
   "cell_type": "code",
   "execution_count": null,
   "metadata": {},
   "outputs": [],
   "source": [
    "print \"Total Data Shape:\"\n",
    "print L_train.shape\n",
    "print L_dev.shape\n",
    "print L_test.shape\n",
    "print"
   ]
  },
  {
   "cell_type": "code",
   "execution_count": null,
   "metadata": {
    "scrolled": true
   },
   "outputs": [],
   "source": [
    "%%time\n",
    "featurizer = FeatureAnnotator()\n",
    "\n",
    "F_train = featurizer.load_matrix(session, split=0)\n",
    "F_dev = featurizer.load_matrix(session, split=1)\n",
    "F_test = featurizer.load_matrix(session, split=2)"
   ]
  },
  {
   "cell_type": "code",
   "execution_count": null,
   "metadata": {},
   "outputs": [],
   "source": [
    "print \"Total Data Shape:\"\n",
    "print F_train.shape\n",
    "print F_dev.shape\n",
    "print F_test.shape\n",
    "print"
   ]
  },
  {
   "cell_type": "markdown",
   "metadata": {},
   "source": [
    "# Train Sparse Logistic Regression Disc Model"
   ]
  },
  {
   "cell_type": "markdown",
   "metadata": {},
   "source": [
    "Here we train an SLR. To find the optimal hyperparameter settings this code uses a [random search](http://scikit-learn.org/stable/modules/grid_search.html) instead of iterating over all possible combinations of parameters. After the final model has been found, it is saved in the checkpoints folder to be loaded in the [next notebook](5.data-analysis.ipynb). Furthermore, the weights for the final model are output into a text file to be analyzed as well."
   ]
  },
  {
   "cell_type": "code",
   "execution_count": null,
   "metadata": {},
   "outputs": [],
   "source": [
    "L_gold_dev = load_gold_labels(session, annotator_name='danich1', split=1)\n",
    "L_gold_train = load_gold_labels(session, annotator_name='danich1', split=0)"
   ]
  },
  {
   "cell_type": "code",
   "execution_count": null,
   "metadata": {},
   "outputs": [],
   "source": [
    "annotated_cands_train_ids = list(map(lambda x: L_gold_train.row_index[x],  L_gold_train.nonzero()[0]))\n",
    "annotated_cands_dev_ids = list(map(lambda x: L_gold_dev.row_index[x],L_gold_dev.nonzero()[0]))"
   ]
  },
  {
   "cell_type": "code",
   "execution_count": null,
   "metadata": {},
   "outputs": [],
   "source": [
    "labeler = LabelAnnotator(lfs=[])\n",
    "cids = session.query(Candidate.id).filter(Candidate.id.in_(annotated_cands_train_ids))\n",
    "L_train = labeler.load_matrix(session,cids_query=cids)"
   ]
  },
  {
   "cell_type": "code",
   "execution_count": null,
   "metadata": {},
   "outputs": [],
   "source": [
    "words = pd.read_csv(\"vanilla_lstm/lstm_disease_gene_holdout/train_word_dict.csv\")\n",
    "train_data = pd.read_csv(\"vanilla_lstm/lstm_disease_gene_holdout/train_candidates_to_ids.csv\")\n",
    "dev_data = pd.read_csv(\"vanilla_lstm/lstm_disease_gene_holdout/dev_candidates_to_ids.csv\")\n",
    "#test_data = pd.read_csv(\"vanilla_lstm/lstm_disease_gene_holdout/test_candidates_to_ids.csv\")\n",
    "\n",
    "human_cur_labels = list(L_gold_train[L_gold_train != 0].toarray()[0])\n",
    "sen_het_labels = np.loadtxt(\"vanilla_lstm/lstm_disease_gene_holdout/subsampled/train_marginals_subsampled.txt\")\n",
    "sen_het_labels = list(map(lambda x: 1 if x > 0.5 else -1, sen_het_labels))"
   ]
  },
  {
   "cell_type": "code",
   "execution_count": null,
   "metadata": {},
   "outputs": [],
   "source": [
    "vectorizer = CountVectorizer(vocabulary=words[\"Key\"].drop_duplicates())\n",
    "X = vectorizer.fit_transform(train_data.query(\"id in @annotated_cands_train_ids\").sort_values(\"id\")[\"sentence\"].values)\n",
    "dev_X = vectorizer.transform(dev_data.query(\"id in @annotated_cands_dev_ids\").sort_values(\"id\")[\"sentence\"].values)\n",
    "#test_X = vectorizer.transform(test_data[\"sentence\"].values)"
   ]
  },
  {
   "cell_type": "code",
   "execution_count": null,
   "metadata": {},
   "outputs": [],
   "source": [
    "lr_model = LogisticRegression()\n",
    "labels = [\n",
    "    human_cur_labels,\n",
    "    sen_het_labels\n",
    "]\n",
    "\n",
    "model_labels = [\n",
    "    \"hand_LR\", \n",
    "    \"all_LF_LR\"\n",
    "]\n",
    "    \n",
    "lr_grids = [\n",
    "    {'C':np.linspace(1,10, num=100)} for _ in range(len(labels))\n",
    "]\n",
    "final_models = []"
   ]
  },
  {
   "cell_type": "code",
   "execution_count": null,
   "metadata": {
    "scrolled": true
   },
   "outputs": [],
   "source": [
    "%%time\n",
    "for grid, y_labels in zip(lr_grids, labels):\n",
    "    fit_model = GridSearchCV(lr_model, \n",
    "                         grid, cv=10, n_jobs=3, \n",
    "                         verbose=1, scoring='roc_auc', return_train_score=True)\n",
    "    fit_model.fit(X, y_labels)\n",
    "    final_models.append(fit_model)"
   ]
  },
  {
   "cell_type": "code",
   "execution_count": null,
   "metadata": {},
   "outputs": [],
   "source": [
    "print(len(final_models))"
   ]
  },
  {
   "cell_type": "code",
   "execution_count": null,
   "metadata": {},
   "outputs": [],
   "source": [
    "import matplotlib.pyplot as plt\n",
    "for model, model_label in zip(final_models, model_labels):\n",
    "    lr_result = pd.DataFrame(model.cv_results_)\n",
    "    plt.plot(lr_result[\"param_C\"], lr_result[\"mean_test_score\"], label=model_label)\n",
    "plt.legend()\n",
    "plt.xlabel(\"C (regularization parameter)\")\n",
    "plt.ylabel(\"Mean Test Score\")\n",
    "plt.title(\"BOW Training CV (10-fold)\")"
   ]
  },
  {
   "cell_type": "code",
   "execution_count": null,
   "metadata": {
    "scrolled": true
   },
   "outputs": [],
   "source": [
    "for i, label in zip(range(len(final_models)), model_labels):\n",
    "    lr_weights = pd.DataFrame(list(zip(final_models[i].best_estimator_.coef_[0], vectorizer.get_feature_names())), columns=[\"Weight\", \"Feature\"])\n",
    "    print(label)\n",
    "    print(lr_weights.sort_values(\"Weight\", ascending=False).head(10))\n",
    "    print()"
   ]
  },
  {
   "cell_type": "code",
   "execution_count": null,
   "metadata": {},
   "outputs": [],
   "source": [
    "lr_marginals = []\n",
    "for model in final_models:\n",
    "    lr_marginals.append(model.best_estimator_.predict_proba(dev_X)[:,1])"
   ]
  },
  {
   "cell_type": "code",
   "execution_count": null,
   "metadata": {},
   "outputs": [],
   "source": [
    "print(pd.Series(final_models[0].best_estimator_.predict(dev_X)).value_counts())\n",
    "print()\n",
    "print(pd.Series(final_models[1].best_estimator_.predict(dev_X)).value_counts())\n",
    "print()"
   ]
  },
  {
   "cell_type": "code",
   "execution_count": null,
   "metadata": {},
   "outputs": [],
   "source": [
    "for marginal, model_label in zip(lr_marginals,model_labels):\n",
    "    filename = \"vanilla_lstm/lstm_disease_gene_holdout/subsampled/lf_marginals/{}_dev_marginals.csv\".format(model_label)\n",
    "    pd.DataFrame(marginal,\n",
    "             columns=[\"LR_Marginals\"]\n",
    "        ).to_csv(filename, index=False)"
   ]
  },
  {
   "cell_type": "markdown",
   "metadata": {},
   "source": [
    "# DO NOT RUN  BELOW"
   ]
  },
  {
   "cell_type": "markdown",
   "metadata": {},
   "source": [
    "## Train a LSTM Disc Model"
   ]
  },
  {
   "cell_type": "markdown",
   "metadata": {},
   "source": [
    "This block of code trains an LSTM. An LSTM is a special type of recurrent nerual network that retains a memory of past values over period of time. ([Further explaination here](http://colah.github.io/posts/2015-08-Understanding-LSTMs/)). The problem with the code below is that sqlalchemy runs into an out of memory error on my computer during the preprocessing step. As a consequence we have to resort loading this data onto University of Pennsylvania's Performance Computing Cluster. The data that gets preprocessed is exported to a text file and then get shipped towards the cluster."
   ]
  },
  {
   "cell_type": "code",
   "execution_count": null,
   "metadata": {},
   "outputs": [],
   "source": [
    "directory = 'vanilla_lstm/lstm_disease_gene_holdout/subsampled'"
   ]
  },
  {
   "cell_type": "code",
   "execution_count": null,
   "metadata": {},
   "outputs": [],
   "source": [
    "%time train_marginals = load_marginals(session, split=0)\n",
    "np.savetxt(\"{}/train_marginals\".format(directory), train_marginals)"
   ]
  },
  {
   "cell_type": "code",
   "execution_count": null,
   "metadata": {},
   "outputs": [],
   "source": [
    "def read_word_dict(filename):\n",
    "    \"\"\"\n",
    "     Read a CSV into a dictionary using the Key column (as string) and Value column (as int).\n",
    "    Keywords:\n",
    "    fielname - name of the file to read\n",
    "    \"\"\"\n",
    "    data = {}\n",
    "    with open(filename, 'r') as f:\n",
    "        input_file = csv.DictReader(f)\n",
    "        for row in tqdm.tqdm(input_file):\n",
    "            data[row['Key']] = int(row['Value'])\n",
    "    return data"
   ]
  },
  {
   "cell_type": "code",
   "execution_count": null,
   "metadata": {
    "scrolled": true
   },
   "outputs": [],
   "source": [
    "%%time\n",
    "from snorkel.learning.disc_models.rnn.utils import SymbolTable\n",
    "\n",
    "\"\"\"\n",
    "train_kwargs = {\n",
    "    'lr':         0.001,\n",
    "    'dim':        100,\n",
    "    'n_epochs':   10,\n",
    "    'dropout':    0.5,\n",
    "    'print_freq': 1,\n",
    "    'max_sentence_length': 1000,\n",
    "}\n",
    "\"\"\"\n",
    "word_dict = read_word_dict(\"vanilla_lstm/lstm_disease_gene_holdout/train_word_dict.csv\")\n",
    "lstm = reRNN(seed=100, n_threads=4)\n",
    "lstm.word_dict = SymbolTable()\n",
    "lstm.word_dict.d = word_dict\n",
    "#lstm.train(train_cands, train_marginals[0:10], X_dev=dev_cands, Y_dev=L_dev[0:10], **train_kwargs)"
   ]
  },
  {
   "cell_type": "markdown",
   "metadata": {},
   "source": [
    "### Write the Training data to an External File"
   ]
  },
  {
   "cell_type": "code",
   "execution_count": null,
   "metadata": {
    "scrolled": true
   },
   "outputs": [],
   "source": [
    "%%time\n",
    "field_names = [\n",
    "    \"disease_id\", \"disease_name\",\n",
    "    \"disease_char_start\", \"disease_char_end\",\n",
    "    \"gene_id\", \"gene_name\",\n",
    "    \"gene_char_start\", \"gene_char_end\",\n",
    "    \"sentence\", \"pubmed\"\n",
    "]\n",
    "chunksize = 100000\n",
    "start = 0\n",
    "\n",
    "with open('{}/train_candidates_ends.csv'.format(directory), 'w') as g:\n",
    "    with open(\"{}/train_candidates_offsets.csv\".format(directory), \"w\") as f:\n",
    "        with open(\"{}/train_candidates_sentences.csv\".format(directory), \"w\") as h:\n",
    "            output = csv.writer(f)\n",
    "            writer = csv.DictWriter(h, fieldnames=field_names)\n",
    "            writer.writeheader()\n",
    "\n",
    "            while True:\n",
    "                train_cands = (\n",
    "                        session\n",
    "                        .query(DiseaseGene)\n",
    "                        .filter(DiseaseGene.split == 0)\n",
    "                        .order_by(DiseaseGene.id)\n",
    "                        .limit(chunksize)\n",
    "                        .offset(start)\n",
    "                        .all()\n",
    "                )\n",
    "\n",
    "                if not train_cands:\n",
    "                    break\n",
    "\n",
    "                for c in tqdm.tqdm(train_cands):\n",
    "                    data, ends = lstm._preprocess_data([c], extend=True)\n",
    "                    output.writerow(data[0])\n",
    "                    g.write(\"{}\\n\".format(ends[0]))\n",
    "\n",
    "                    row = {\n",
    "                    \"disease_id\": c.Disease_cid,\"disease_name\":c[0].get_span(),\n",
    "                    \"disease_char_start\":c[0].char_start, \"disease_char_end\": c[0].char_end, \n",
    "                    \"gene_id\": c.Gene_cid, \"gene_name\":c[1].get_span(), \n",
    "                    \"gene_char_start\":c[1].char_start, \"gene_char_end\":c[1].char_end, \n",
    "                    \"sentence\": c.get_parent().text, \"pubmed\": c.get_parent().get_parent().name\n",
    "                    }\n",
    "\n",
    "                    writer.writerow(row)\n",
    "\n",
    "                start += chunksize"
   ]
  },
  {
   "cell_type": "markdown",
   "metadata": {},
   "source": [
    "### Save the word dictionary to an External File"
   ]
  },
  {
   "cell_type": "code",
   "execution_count": null,
   "metadata": {},
   "outputs": [],
   "source": [
    "%%time\n",
    "with open(\"{}/train_word_dict.csv\".format(directory), 'w') as f:\n",
    "    output = csv.DictWriter(f, fieldnames=[\"Key\", \"Value\"])\n",
    "    output.writeheader()\n",
    "    for key in tqdm.tqdm(lstm.word_dict.d):\n",
    "        output.writerow({'Key':key, 'Value': lstm.word_dict.d[key]})"
   ]
  },
  {
   "cell_type": "markdown",
   "metadata": {},
   "source": [
    "### Save the Development Candidates to an External File"
   ]
  },
  {
   "cell_type": "code",
   "execution_count": null,
   "metadata": {},
   "outputs": [],
   "source": [
    "dev_cands = (\n",
    "    session\n",
    "    .query(DiseaseGene)\n",
    "    .filter(DiseaseGene.id.in_(list(map(int,train_data.sort_values(\"id\")[\"id\"].values))))\n",
    "    .all()\n",
    ")\n",
    "dev_cand_labels = pd.read_csv(\"stratified_data/train_set.csv\")\n",
    "hetnet_set = set(map(tuple,dev_cand_labels[dev_cand_labels[\"hetnet\"] == 1][[\"disease_id\", \"gene_id\"]].values))"
   ]
  },
  {
   "cell_type": "code",
   "execution_count": null,
   "metadata": {},
   "outputs": [],
   "source": [
    "dev_cands = (\n",
    "    session\n",
    "    .query(DiseaseGene)\n",
    "    .filter(DiseaseGene.id.in_(annotated_cands))\n",
    "    .all()\n",
    ")\n",
    "dev_cand_labels = pd.read_csv(\"stratified_data/dev_set.csv\")\n",
    "hetnet_set = set(map(tuple,dev_cand_labels[dev_cand_labels[\"hetnet\"] == 1][[\"disease_id\", \"gene_id\"]].values))"
   ]
  },
  {
   "cell_type": "code",
   "execution_count": null,
   "metadata": {},
   "outputs": [],
   "source": [
    "dev_cands = (\n",
    "        session\n",
    "        .query(DiseaseGene)\n",
    "        .filter(DiseaseGene.split == 1)\n",
    "        .order_by(DiseaseGene.id)\n",
    "        .all()\n",
    ")\n",
    "\n",
    "dev_cand_labels = pd.read_csv(\"stratified_data/dev_set.csv\")\n",
    "hetnet_set = set(map(tuple,dev_cand_labels[dev_cand_labels[\"hetnet\"] == 1][[\"disease_id\", \"gene_id\"]].values))"
   ]
  },
  {
   "cell_type": "code",
   "execution_count": null,
   "metadata": {},
   "outputs": [],
   "source": [
    "%%time\n",
    "field_names = [\n",
    "    \"disease_id\", \"disease_name\",\n",
    "    \"disease_char_start\", \"disease_char_end\",\n",
    "    \"gene_id\", \"gene_name\",\n",
    "    \"gene_char_start\", \"gene_char_end\",\n",
    "    \"sentence\", \"pubmed\"\n",
    "]\n",
    "\n",
    "with open('{}/delete_candidates_offset.csv'.format(directory), 'w') as g:\n",
    "    with open('{}/train_candidates_ends.csv'.format(directory), 'w') as f:\n",
    "        with open('{}/delete_candidates_sentences.csv'.format(directory), 'w') as h:\n",
    "            \n",
    "            output = csv.writer(g)\n",
    "            #label_output = csv.writer(f)\n",
    "            writer = csv.DictWriter(h, fieldnames=field_names)\n",
    "            writer.writeheader()\n",
    "            \n",
    "            for c in tqdm.tqdm(dev_cands):\n",
    "                data, ends = lstm._preprocess_data([c])\n",
    "                output.writerow(data[0])\n",
    "                f.write(\"{}\\n\".format(ends[0]))\n",
    "                #label_output.writerow([1 if (c.Disease_cid, int(c.Gene_cid)) in hetnet_set else -1])\n",
    "\n",
    "                row = {\n",
    "                \"disease_id\": c.Disease_cid,\"disease_name\":c[0].get_span(),\n",
    "                \"disease_char_start\":c[0].char_start, \"disease_char_end\": c[0].char_end, \n",
    "                \"gene_id\": c.Gene_cid, \"gene_name\":c[1].get_span(), \n",
    "                \"gene_char_start\":c[1].char_start, \"gene_char_end\":c[1].char_end, \n",
    "                \"sentence\": c.get_parent().text, \"pubmed\": c.get_parent().get_parent().name\n",
    "                }\n",
    "\n",
    "                writer.writerow(row) "
   ]
  },
  {
   "cell_type": "markdown",
   "metadata": {},
   "source": [
    "### Save the Test Candidates to an External File"
   ]
  },
  {
   "cell_type": "code",
   "execution_count": null,
   "metadata": {},
   "outputs": [],
   "source": [
    "test_cands = (\n",
    "        session\n",
    "        .query(DiseaseGene)\n",
    "        .filter(DiseaseGene.split == 2)\n",
    "        .order_by(DiseaseGene.id)\n",
    "        .all()\n",
    ")\n",
    "\n",
    "dev_cand_labels = pd.read_csv(\"stratified_data/test_set.csv\")\n",
    "hetnet_set = set(map(tuple,dev_cand_labels[dev_cand_labels[\"hetnet\"] == 1][[\"disease_id\", \"gene_id\"]].values))"
   ]
  },
  {
   "cell_type": "code",
   "execution_count": null,
   "metadata": {},
   "outputs": [],
   "source": [
    "%%time\n",
    "field_names = [\n",
    "    \"disease_id\", \"disease_name\",\n",
    "    \"disease_char_start\", \"disease_char_end\",\n",
    "    \"gene_id\", \"gene_name\",\n",
    "    \"gene_char_start\", \"gene_char_end\",\n",
    "    \"sentence\", \"pubmed\"\n",
    "]\n",
    "\n",
    "with open('{}/test_candidates_offset.csv'.format(directory), 'w') as g:\n",
    "    with open('{}/test_candidates_labels.csv'.format(directory), 'w') as f:\n",
    "        with open('{}/test_candidates_sentences.csv'.format(directory), 'w') as h:\n",
    "            \n",
    "            output = csv.writer(g)\n",
    "            label_output = csv.writer(f)\n",
    "            writer = csv.DictWriter(h, fieldnames=field_names)\n",
    "            writer.writeheader()\n",
    "            \n",
    "            for c in tqdm.tqdm(test_cands):\n",
    "                data, ends = lstm._preprocess_data([c])\n",
    "                output.writerow(data[0])\n",
    "                label_output.writerow([1 if (c.Disease_cid, int(c.Gene_cid)) in hetnet_set else -1])\n",
    "\n",
    "                row = {\n",
    "               \"disease_id\": c.Disease_cid,\"disease_name\":c[0].get_span(),\n",
    "                \"disease_char_start\":c[0].char_start, \"disease_char_end\": c[0].char_end, \n",
    "                \"gene_id\": c.Gene_cid, \"gene_name\":c[1].get_span(), \n",
    "                \"gene_char_start\":c[1].char_start, \"gene_char_end\":c[1].char_end, \n",
    "                \"sentence\": c.get_parent().text, \"pubmed\": c.get_parent().get_parent().name\n",
    "                }\n",
    "\n",
    "                writer.writerow(row) "
   ]
  }
 ],
 "metadata": {
  "anaconda-cloud": {},
  "kernelspec": {
   "display_name": "Python 3",
   "language": "python",
   "name": "python3"
  },
  "language_info": {
   "codemirror_mode": {
    "name": "ipython",
    "version": 3
   },
   "file_extension": ".py",
   "mimetype": "text/x-python",
   "name": "python",
   "nbconvert_exporter": "python",
   "pygments_lexer": "ipython3",
   "version": "3.6.4"
  }
 },
 "nbformat": 4,
 "nbformat_minor": 2
}
