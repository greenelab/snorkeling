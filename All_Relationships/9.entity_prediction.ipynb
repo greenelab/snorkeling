{
 "cells": [
  {
   "cell_type": "markdown",
   "metadata": {},
   "source": [
    "# Train/Test the True Relationship Model"
   ]
  },
  {
   "cell_type": "markdown",
   "metadata": {},
   "source": [
    "This notebook is design to predict DG relationships on the entity level. Here we are taking the input from the Bi-LSTM model, prior probability notebook and the summary statistics notebook and combinging it into a single dataset. From there we train a Ridge LR model and an elastic net LR model to make the final prediction."
   ]
  },
  {
   "cell_type": "code",
   "execution_count": 1,
   "metadata": {},
   "outputs": [],
   "source": [
    "%load_ext autoreload\n",
    "%autoreload 2\n",
    "%matplotlib inline\n",
    "\n",
    "from collections import defaultdict\n",
    "import csv\n",
    "import os\n",
    "\n",
    "import matplotlib.pyplot as plt\n",
    "import numpy as np\n",
    "import pandas as pd\n",
    "import tqdm\n",
    "from scipy.stats import fisher_exact\n",
    "import scipy\n",
    "from sqlalchemy import and_\n",
    "from sklearn.linear_model import LogisticRegression, SGDClassifier\n",
    "from sklearn.metrics import average_precision_score, precision_recall_curve, roc_curve, auc, f1_score, confusion_matrix\n",
    "from sklearn.model_selection import GridSearchCV\n",
    "import seaborn as sns"
   ]
  },
  {
   "cell_type": "code",
   "execution_count": 2,
   "metadata": {},
   "outputs": [],
   "source": [
    "candidate_df = pd.read_csv(\"disease_gene_summary_stats.csv\")\n",
    "prior_df = pd.read_csv(\"observation-prior.csv\")"
   ]
  },
  {
   "cell_type": "code",
   "execution_count": 3,
   "metadata": {
    "scrolled": true
   },
   "outputs": [
    {
     "data": {
      "text/html": [
       "<div>\n",
       "<style>\n",
       "    .dataframe thead tr:only-child th {\n",
       "        text-align: right;\n",
       "    }\n",
       "\n",
       "    .dataframe thead th {\n",
       "        text-align: left;\n",
       "    }\n",
       "\n",
       "    .dataframe tbody tr th {\n",
       "        vertical-align: top;\n",
       "    }\n",
       "</style>\n",
       "<table border=\"1\" class=\"dataframe\">\n",
       "  <thead>\n",
       "    <tr style=\"text-align: right;\">\n",
       "      <th></th>\n",
       "      <th>disease_id</th>\n",
       "      <th>gene_id</th>\n",
       "      <th>sentence_count</th>\n",
       "      <th>doc_num</th>\n",
       "      <th>odds_ratio</th>\n",
       "      <th>expected_sen</th>\n",
       "      <th>hetnet_labels</th>\n",
       "      <th>avg_marginal</th>\n",
       "      <th>quantile_zero</th>\n",
       "      <th>quantile_twenty</th>\n",
       "      <th>quantile_forty</th>\n",
       "      <th>quantile_sixty</th>\n",
       "      <th>quantile_eighty</th>\n",
       "      <th>lower_ci</th>\n",
       "      <th>nlog10_p_value</th>\n",
       "    </tr>\n",
       "  </thead>\n",
       "  <tbody>\n",
       "    <tr>\n",
       "      <th>0</th>\n",
       "      <td>DOID:12849</td>\n",
       "      <td>3569</td>\n",
       "      <td>38</td>\n",
       "      <td>18</td>\n",
       "      <td>0.617773</td>\n",
       "      <td>62.795531</td>\n",
       "      <td>1</td>\n",
       "      <td>0.747175</td>\n",
       "      <td>0.075081</td>\n",
       "      <td>0.650967</td>\n",
       "      <td>0.907099</td>\n",
       "      <td>0.913931</td>\n",
       "      <td>0.916503</td>\n",
       "      <td>-0.001252</td>\n",
       "      <td>2.072880e-04</td>\n",
       "    </tr>\n",
       "    <tr>\n",
       "      <th>1</th>\n",
       "      <td>DOID:3070</td>\n",
       "      <td>567</td>\n",
       "      <td>16</td>\n",
       "      <td>11</td>\n",
       "      <td>0.192395</td>\n",
       "      <td>86.200979</td>\n",
       "      <td>-1</td>\n",
       "      <td>0.130409</td>\n",
       "      <td>0.076953</td>\n",
       "      <td>0.078801</td>\n",
       "      <td>0.081089</td>\n",
       "      <td>0.082576</td>\n",
       "      <td>0.086210</td>\n",
       "      <td>-0.025416</td>\n",
       "      <td>3.315404e-09</td>\n",
       "    </tr>\n",
       "    <tr>\n",
       "      <th>2</th>\n",
       "      <td>DOID:1324</td>\n",
       "      <td>6647</td>\n",
       "      <td>28</td>\n",
       "      <td>13</td>\n",
       "      <td>0.142479</td>\n",
       "      <td>194.551269</td>\n",
       "      <td>-1</td>\n",
       "      <td>0.085042</td>\n",
       "      <td>0.074244</td>\n",
       "      <td>0.075985</td>\n",
       "      <td>0.080222</td>\n",
       "      <td>0.084748</td>\n",
       "      <td>0.089595</td>\n",
       "      <td>-0.044854</td>\n",
       "      <td>-4.342945e-11</td>\n",
       "    </tr>\n",
       "    <tr>\n",
       "      <th>3</th>\n",
       "      <td>DOID:3121</td>\n",
       "      <td>2353</td>\n",
       "      <td>5</td>\n",
       "      <td>1</td>\n",
       "      <td>2.319352</td>\n",
       "      <td>2.589809</td>\n",
       "      <td>-1</td>\n",
       "      <td>0.080139</td>\n",
       "      <td>0.078177</td>\n",
       "      <td>0.078499</td>\n",
       "      <td>0.079471</td>\n",
       "      <td>0.080457</td>\n",
       "      <td>0.081399</td>\n",
       "      <td>-0.000705</td>\n",
       "      <td>1.315072e+00</td>\n",
       "    </tr>\n",
       "    <tr>\n",
       "      <th>4</th>\n",
       "      <td>DOID:10652</td>\n",
       "      <td>5520</td>\n",
       "      <td>3</td>\n",
       "      <td>2</td>\n",
       "      <td>2.601331</td>\n",
       "      <td>1.549830</td>\n",
       "      <td>-1</td>\n",
       "      <td>0.082038</td>\n",
       "      <td>0.077898</td>\n",
       "      <td>0.078693</td>\n",
       "      <td>0.078702</td>\n",
       "      <td>0.082385</td>\n",
       "      <td>0.085898</td>\n",
       "      <td>-0.022814</td>\n",
       "      <td>1.116009e+00</td>\n",
       "    </tr>\n",
       "    <tr>\n",
       "      <th>5</th>\n",
       "      <td>DOID:5041</td>\n",
       "      <td>319100</td>\n",
       "      <td>6</td>\n",
       "      <td>2</td>\n",
       "      <td>24.599058</td>\n",
       "      <td>0.301847</td>\n",
       "      <td>-1</td>\n",
       "      <td>0.084278</td>\n",
       "      <td>0.078433</td>\n",
       "      <td>0.081272</td>\n",
       "      <td>0.082851</td>\n",
       "      <td>0.084216</td>\n",
       "      <td>0.086745</td>\n",
       "      <td>0.020276</td>\n",
       "      <td>7.488341e+00</td>\n",
       "    </tr>\n",
       "    <tr>\n",
       "      <th>6</th>\n",
       "      <td>DOID:2531</td>\n",
       "      <td>6400</td>\n",
       "      <td>4</td>\n",
       "      <td>1</td>\n",
       "      <td>0.674023</td>\n",
       "      <td>6.909290</td>\n",
       "      <td>-1</td>\n",
       "      <td>0.081141</td>\n",
       "      <td>0.077944</td>\n",
       "      <td>0.079681</td>\n",
       "      <td>0.080332</td>\n",
       "      <td>0.081041</td>\n",
       "      <td>0.081786</td>\n",
       "      <td>-0.102290</td>\n",
       "      <td>6.776874e-02</td>\n",
       "    </tr>\n",
       "    <tr>\n",
       "      <th>7</th>\n",
       "      <td>DOID:1936</td>\n",
       "      <td>22846</td>\n",
       "      <td>1</td>\n",
       "      <td>1</td>\n",
       "      <td>1.528825</td>\n",
       "      <td>1.291256</td>\n",
       "      <td>-1</td>\n",
       "      <td>0.087098</td>\n",
       "      <td>0.087098</td>\n",
       "      <td>0.087098</td>\n",
       "      <td>0.087098</td>\n",
       "      <td>0.087098</td>\n",
       "      <td>0.087098</td>\n",
       "      <td>-0.020213</td>\n",
       "      <td>4.202512e-01</td>\n",
       "    </tr>\n",
       "    <tr>\n",
       "      <th>8</th>\n",
       "      <td>DOID:2377</td>\n",
       "      <td>10804</td>\n",
       "      <td>2</td>\n",
       "      <td>2</td>\n",
       "      <td>4.934903</td>\n",
       "      <td>0.613036</td>\n",
       "      <td>-1</td>\n",
       "      <td>0.079142</td>\n",
       "      <td>0.077703</td>\n",
       "      <td>0.078278</td>\n",
       "      <td>0.078854</td>\n",
       "      <td>0.079430</td>\n",
       "      <td>0.080006</td>\n",
       "      <td>-0.018946</td>\n",
       "      <td>1.581787e+00</td>\n",
       "    </tr>\n",
       "    <tr>\n",
       "      <th>9</th>\n",
       "      <td>DOID:14227</td>\n",
       "      <td>83844</td>\n",
       "      <td>13</td>\n",
       "      <td>8</td>\n",
       "      <td>4841.654246</td>\n",
       "      <td>0.009900</td>\n",
       "      <td>1</td>\n",
       "      <td>0.170588</td>\n",
       "      <td>0.076621</td>\n",
       "      <td>0.079998</td>\n",
       "      <td>0.082054</td>\n",
       "      <td>0.090462</td>\n",
       "      <td>0.151144</td>\n",
       "      <td>0.538260</td>\n",
       "      <td>1.000000e+01</td>\n",
       "    </tr>\n",
       "  </tbody>\n",
       "</table>\n",
       "</div>"
      ],
      "text/plain": [
       "   disease_id  gene_id  sentence_count  doc_num   odds_ratio  expected_sen  \\\n",
       "0  DOID:12849     3569              38       18     0.617773     62.795531   \n",
       "1   DOID:3070      567              16       11     0.192395     86.200979   \n",
       "2   DOID:1324     6647              28       13     0.142479    194.551269   \n",
       "3   DOID:3121     2353               5        1     2.319352      2.589809   \n",
       "4  DOID:10652     5520               3        2     2.601331      1.549830   \n",
       "5   DOID:5041   319100               6        2    24.599058      0.301847   \n",
       "6   DOID:2531     6400               4        1     0.674023      6.909290   \n",
       "7   DOID:1936    22846               1        1     1.528825      1.291256   \n",
       "8   DOID:2377    10804               2        2     4.934903      0.613036   \n",
       "9  DOID:14227    83844              13        8  4841.654246      0.009900   \n",
       "\n",
       "   hetnet_labels  avg_marginal  quantile_zero  quantile_twenty  \\\n",
       "0              1      0.747175       0.075081         0.650967   \n",
       "1             -1      0.130409       0.076953         0.078801   \n",
       "2             -1      0.085042       0.074244         0.075985   \n",
       "3             -1      0.080139       0.078177         0.078499   \n",
       "4             -1      0.082038       0.077898         0.078693   \n",
       "5             -1      0.084278       0.078433         0.081272   \n",
       "6             -1      0.081141       0.077944         0.079681   \n",
       "7             -1      0.087098       0.087098         0.087098   \n",
       "8             -1      0.079142       0.077703         0.078278   \n",
       "9              1      0.170588       0.076621         0.079998   \n",
       "\n",
       "   quantile_forty  quantile_sixty  quantile_eighty  lower_ci  nlog10_p_value  \n",
       "0        0.907099        0.913931         0.916503 -0.001252    2.072880e-04  \n",
       "1        0.081089        0.082576         0.086210 -0.025416    3.315404e-09  \n",
       "2        0.080222        0.084748         0.089595 -0.044854   -4.342945e-11  \n",
       "3        0.079471        0.080457         0.081399 -0.000705    1.315072e+00  \n",
       "4        0.078702        0.082385         0.085898 -0.022814    1.116009e+00  \n",
       "5        0.082851        0.084216         0.086745  0.020276    7.488341e+00  \n",
       "6        0.080332        0.081041         0.081786 -0.102290    6.776874e-02  \n",
       "7        0.087098        0.087098         0.087098 -0.020213    4.202512e-01  \n",
       "8        0.078854        0.079430         0.080006 -0.018946    1.581787e+00  \n",
       "9        0.082054        0.090462         0.151144  0.538260    1.000000e+01  "
      ]
     },
     "execution_count": 3,
     "metadata": {},
     "output_type": "execute_result"
    }
   ],
   "source": [
    "candidate_df.head(10)"
   ]
  },
  {
   "cell_type": "code",
   "execution_count": 4,
   "metadata": {},
   "outputs": [
    {
     "data": {
      "text/html": [
       "<div>\n",
       "<style>\n",
       "    .dataframe thead tr:only-child th {\n",
       "        text-align: right;\n",
       "    }\n",
       "\n",
       "    .dataframe thead th {\n",
       "        text-align: left;\n",
       "    }\n",
       "\n",
       "    .dataframe tbody tr th {\n",
       "        vertical-align: top;\n",
       "    }\n",
       "</style>\n",
       "<table border=\"1\" class=\"dataframe\">\n",
       "  <thead>\n",
       "    <tr style=\"text-align: right;\">\n",
       "      <th></th>\n",
       "      <th>disease_id</th>\n",
       "      <th>gene_id</th>\n",
       "      <th>disease_associates</th>\n",
       "      <th>gene_associates</th>\n",
       "      <th>prior_perm</th>\n",
       "      <th>prior_perm_stderr</th>\n",
       "    </tr>\n",
       "  </thead>\n",
       "  <tbody>\n",
       "    <tr>\n",
       "      <th>0</th>\n",
       "      <td>DOID:2531</td>\n",
       "      <td>7124</td>\n",
       "      <td>550</td>\n",
       "      <td>47</td>\n",
       "      <td>0.870898</td>\n",
       "      <td>0.000558</td>\n",
       "    </tr>\n",
       "    <tr>\n",
       "      <th>1</th>\n",
       "      <td>DOID:2531</td>\n",
       "      <td>7157</td>\n",
       "      <td>550</td>\n",
       "      <td>46</td>\n",
       "      <td>0.867094</td>\n",
       "      <td>0.000565</td>\n",
       "    </tr>\n",
       "    <tr>\n",
       "      <th>2</th>\n",
       "      <td>DOID:2531</td>\n",
       "      <td>5743</td>\n",
       "      <td>550</td>\n",
       "      <td>40</td>\n",
       "      <td>0.830758</td>\n",
       "      <td>0.000624</td>\n",
       "    </tr>\n",
       "    <tr>\n",
       "      <th>3</th>\n",
       "      <td>DOID:2531</td>\n",
       "      <td>3569</td>\n",
       "      <td>550</td>\n",
       "      <td>39</td>\n",
       "      <td>0.823473</td>\n",
       "      <td>0.000634</td>\n",
       "    </tr>\n",
       "    <tr>\n",
       "      <th>4</th>\n",
       "      <td>DOID:2531</td>\n",
       "      <td>4318</td>\n",
       "      <td>550</td>\n",
       "      <td>37</td>\n",
       "      <td>0.809203</td>\n",
       "      <td>0.000654</td>\n",
       "    </tr>\n",
       "    <tr>\n",
       "      <th>5</th>\n",
       "      <td>DOID:2531</td>\n",
       "      <td>3586</td>\n",
       "      <td>550</td>\n",
       "      <td>35</td>\n",
       "      <td>0.793287</td>\n",
       "      <td>0.000674</td>\n",
       "    </tr>\n",
       "    <tr>\n",
       "      <th>6</th>\n",
       "      <td>DOID:2531</td>\n",
       "      <td>7422</td>\n",
       "      <td>550</td>\n",
       "      <td>34</td>\n",
       "      <td>0.783978</td>\n",
       "      <td>0.000685</td>\n",
       "    </tr>\n",
       "    <tr>\n",
       "      <th>7</th>\n",
       "      <td>DOID:2531</td>\n",
       "      <td>7040</td>\n",
       "      <td>550</td>\n",
       "      <td>33</td>\n",
       "      <td>0.777711</td>\n",
       "      <td>0.000692</td>\n",
       "    </tr>\n",
       "    <tr>\n",
       "      <th>8</th>\n",
       "      <td>DOID:2531</td>\n",
       "      <td>3553</td>\n",
       "      <td>550</td>\n",
       "      <td>31</td>\n",
       "      <td>0.758141</td>\n",
       "      <td>0.000712</td>\n",
       "    </tr>\n",
       "    <tr>\n",
       "      <th>9</th>\n",
       "      <td>DOID:2531</td>\n",
       "      <td>213</td>\n",
       "      <td>550</td>\n",
       "      <td>30</td>\n",
       "      <td>0.747171</td>\n",
       "      <td>0.000723</td>\n",
       "    </tr>\n",
       "  </tbody>\n",
       "</table>\n",
       "</div>"
      ],
      "text/plain": [
       "  disease_id  gene_id  disease_associates  gene_associates  prior_perm  \\\n",
       "0  DOID:2531     7124                 550               47    0.870898   \n",
       "1  DOID:2531     7157                 550               46    0.867094   \n",
       "2  DOID:2531     5743                 550               40    0.830758   \n",
       "3  DOID:2531     3569                 550               39    0.823473   \n",
       "4  DOID:2531     4318                 550               37    0.809203   \n",
       "5  DOID:2531     3586                 550               35    0.793287   \n",
       "6  DOID:2531     7422                 550               34    0.783978   \n",
       "7  DOID:2531     7040                 550               33    0.777711   \n",
       "8  DOID:2531     3553                 550               31    0.758141   \n",
       "9  DOID:2531      213                 550               30    0.747171   \n",
       "\n",
       "   prior_perm_stderr  \n",
       "0           0.000558  \n",
       "1           0.000565  \n",
       "2           0.000624  \n",
       "3           0.000634  \n",
       "4           0.000654  \n",
       "5           0.000674  \n",
       "6           0.000685  \n",
       "7           0.000692  \n",
       "8           0.000712  \n",
       "9           0.000723  "
      ]
     },
     "execution_count": 4,
     "metadata": {},
     "output_type": "execute_result"
    }
   ],
   "source": [
    "prior_df.head(10)"
   ]
  },
  {
   "cell_type": "markdown",
   "metadata": {},
   "source": [
    "# Set up the Training and Testing Set"
   ]
  },
  {
   "cell_type": "code",
   "execution_count": 5,
   "metadata": {},
   "outputs": [],
   "source": [
    "train_df = pd.read_csv(\"stratified_data/training_set.csv\")\n",
    "dev_df = pd.read_csv(\"stratified_data/dev_set.csv\")\n",
    "test_df = pd.read_csv(\"stratified_data/test_set.csv\")"
   ]
  },
  {
   "cell_type": "code",
   "execution_count": 6,
   "metadata": {},
   "outputs": [],
   "source": [
    "# Gather the summary stats for each candidate\n",
    "training_set = pd.merge(candidate_df, train_df, how='right', on=[\"disease_id\", \"gene_id\"])\n",
    "dev_set = pd.merge(candidate_df, dev_df, how='right', on=[\"disease_id\", \"gene_id\"])\n",
    "test_set = pd.merge(candidate_df, test_df, how='right', on=[\"disease_id\", \"gene_id\"])\n",
    "\n",
    "\n",
    "# Drop the values that aren't found in pubmed. \n",
    "training_set = training_set.drop(\"hetnet_labels\", axis=1)\n",
    "dev_set = dev_set.drop(\"hetnet_labels\", axis=1)\n",
    "test_set = test_set.drop(\"hetnet_labels\", axis=1)\n",
    "\n",
    "training_set = training_set.dropna()\n",
    "dev_set = dev_set.dropna()\n",
    "test_set = test_set.dropna()\n",
    "\n",
    "# Add the prior prob to the different sets \n",
    "training_set = pd.merge(training_set, prior_df[[\"disease_id\", \"gene_id\", \"prior_perm\"]])\n",
    "dev_set = pd.merge(dev_set, prior_df[[\"disease_id\", \"gene_id\", \"prior_perm\"]])\n",
    "test_set = pd.merge(test_set, prior_df[[\"disease_id\", \"gene_id\", \"prior_perm\"]])"
   ]
  },
  {
   "cell_type": "code",
   "execution_count": 7,
   "metadata": {},
   "outputs": [],
   "source": [
    "non_features = [\"hetnet\",\"final_model_pred\", \"disease_id\", \"gene_id\", \"gene_name\", \"disease_name\", \"pubmed\"]\n",
    "\n",
    "X = training_set[[col for col in training_set.columns if col not in non_features]]\n",
    "Y = training_set[\"hetnet\"]\n",
    "\n",
    "X_dev = dev_set[[col for col in dev_set.columns if col not in non_features]]\n",
    "Y_dev = dev_set[\"hetnet\"]\n",
    "\n",
    "X_test = test_set[[col for col in test_set.columns if col not in non_features]]\n",
    "Y_test = test_set[\"hetnet\"]"
   ]
  },
  {
   "cell_type": "markdown",
   "metadata": {},
   "source": [
    "# Train the Machine Learning Algorithms"
   ]
  },
  {
   "cell_type": "markdown",
   "metadata": {},
   "source": [
    "Here we use gridsearch to optimize both models using 10 fold cross validation. After exhausting the list of parameters, the best model is chosen and analyzed in the next chunk. "
   ]
  },
  {
   "cell_type": "code",
   "execution_count": 8,
   "metadata": {},
   "outputs": [],
   "source": [
    "n_iter = 100\n",
    "final_models = []\n",
    "\n",
    "lr = LogisticRegression()\n",
    "elastic_net = SGDClassifier(penalty='elasticnet', loss='log', random_state=100)\n",
    "\n",
    "lr_grid = {'C':np.linspace(1, 1000, num=100)}\n",
    "elastic_net_grid = {'alpha':np.linspace(1e-9,1, num=100), 'l1_ratio':np.linspace(0,1,num=10)}"
   ]
  },
  {
   "cell_type": "code",
   "execution_count": 9,
   "metadata": {},
   "outputs": [
    {
     "name": "stdout",
     "output_type": "stream",
     "text": [
      "CPU times: user 1min 18s, sys: 3.55 s, total: 1min 21s\n",
      "Wall time: 14min 1s\n"
     ]
    }
   ],
   "source": [
    "%%time\n",
    "\n",
    "# Train on data without LSTM input\n",
    "lstm_features = [\n",
    "    \"avg_marginal\", \"quantile_zero\", \n",
    "    \"quantile_twenty\",\"quantile_forty\",\n",
    "    \"quantile_sixty\", \"quantile_eighty\", \n",
    "    \"lower_ci\"\n",
    "]\n",
    "\n",
    "\n",
    "tempX = X[[col for col in X.columns if col not in lstm_features]]\n",
    "tempX = tempX.append(X_dev[[col for col in X_dev.columns if col not in lstm_features]])\n",
    "\n",
    "for models, grids in zip([lr, elastic_net], [lr_grid, elastic_net_grid]):\n",
    "    final_model = GridSearchCV(models, grids, cv=10, n_jobs=3)\n",
    "    final_model.fit(tempX, Y.append(Y_dev))\n",
    "    final_models.append(final_model)"
   ]
  },
  {
   "cell_type": "code",
   "execution_count": 10,
   "metadata": {},
   "outputs": [
    {
     "name": "stdout",
     "output_type": "stream",
     "text": [
      "CPU times: user 2min 4s, sys: 3.61 s, total: 2min 7s\n",
      "Wall time: 21min 44s\n"
     ]
    }
   ],
   "source": [
    "%%time\n",
    "\n",
    "# Train on data with LSTM input\n",
    "for models, grids in zip([lr, elastic_net], [lr_grid, elastic_net_grid]):\n",
    "    final_model = GridSearchCV(models, grids, cv=10, n_jobs=3)\n",
    "    final_model.fit(X.append(X_dev), Y.append(Y_dev))\n",
    "    final_models.append(final_model)"
   ]
  },
  {
   "cell_type": "code",
   "execution_count": 11,
   "metadata": {},
   "outputs": [
    {
     "data": {
      "text/plain": [
       "[(0.00039191868597906332, 'sentence_count'),\n",
       " (0.0082004680728209149, 'doc_num'),\n",
       " (0.00082628947979596892, 'odds_ratio'),\n",
       " (-0.0033380873320439696, 'expected_sen'),\n",
       " (0.29180294065925538, 'nlog10_p_value'),\n",
       " (9.3288103752445526, 'prior_perm')]"
      ]
     },
     "execution_count": 11,
     "metadata": {},
     "output_type": "execute_result"
    }
   ],
   "source": [
    "zip(final_models[0].best_estimator_.coef_[0], [col for col in training_set.columns if col not in lstm_features+non_features])"
   ]
  },
  {
   "cell_type": "code",
   "execution_count": 12,
   "metadata": {},
   "outputs": [
    {
     "data": {
      "text/plain": [
       "[(0.23798123611518776, 'sentence_count'),\n",
       " (0.0, 'doc_num'),\n",
       " (0.10419661323496973, 'odds_ratio'),\n",
       " (0.0, 'expected_sen'),\n",
       " (0.0, 'nlog10_p_value'),\n",
       " (0.0, 'prior_perm')]"
      ]
     },
     "execution_count": 12,
     "metadata": {},
     "output_type": "execute_result"
    }
   ],
   "source": [
    "zip(final_models[1].best_estimator_.coef_[0], [col for col in training_set.columns if col not in lstm_features+non_features])"
   ]
  },
  {
   "cell_type": "code",
   "execution_count": 13,
   "metadata": {},
   "outputs": [
    {
     "data": {
      "text/plain": [
       "[(0.0021423063072976314, 'sentence_count'),\n",
       " (-0.0018842940903186125, 'doc_num'),\n",
       " (0.0001699791282705696, 'odds_ratio'),\n",
       " (-0.0015030453997898006, 'expected_sen'),\n",
       " (13.857288378840476, 'avg_marginal'),\n",
       " (-3.1250285231799757, 'quantile_zero'),\n",
       " (-0.46873063338613524, 'quantile_twenty'),\n",
       " (-1.3246792725455689, 'quantile_forty'),\n",
       " (-1.4936979156061636, 'quantile_sixty'),\n",
       " (-1.4125590190726465, 'quantile_eighty'),\n",
       " (3.2365788747031683, 'lower_ci'),\n",
       " (0.22906156980294301, 'nlog10_p_value'),\n",
       " (4.2904576726536137, 'prior_perm')]"
      ]
     },
     "execution_count": 13,
     "metadata": {},
     "output_type": "execute_result"
    }
   ],
   "source": [
    "zip(final_models[2].best_estimator_.coef_[0], [col for col in training_set.columns if col not in non_features])"
   ]
  },
  {
   "cell_type": "code",
   "execution_count": 14,
   "metadata": {
    "scrolled": true
   },
   "outputs": [
    {
     "data": {
      "text/plain": [
       "[(0.00081949931606233278, 'sentence_count'),\n",
       " (0.0, 'doc_num'),\n",
       " (0.53742755703236744, 'odds_ratio'),\n",
       " (0.47816297510302208, 'expected_sen'),\n",
       " (4.5351121093024052, 'avg_marginal'),\n",
       " (1.3150603767740161, 'quantile_zero'),\n",
       " (4.2604144799830452, 'quantile_twenty'),\n",
       " (4.7716961024429478, 'quantile_forty'),\n",
       " (5.011107399987841, 'quantile_sixty'),\n",
       " (5.125161806781783, 'quantile_eighty'),\n",
       " (0.0, 'lower_ci'),\n",
       " (7.9817878722023945, 'nlog10_p_value'),\n",
       " (0.0, 'prior_perm')]"
      ]
     },
     "execution_count": 14,
     "metadata": {},
     "output_type": "execute_result"
    }
   ],
   "source": [
    "zip(final_models[3].best_estimator_.coef_[0], [col for col in training_set.columns if col not in non_features])"
   ]
  },
  {
   "cell_type": "markdown",
   "metadata": {},
   "source": [
    "# ML Performance"
   ]
  },
  {
   "cell_type": "code",
   "execution_count": 15,
   "metadata": {},
   "outputs": [],
   "source": [
    "colors = [\"green\",\"black\",\"red\", \"blue\"]\n",
    "labels = [\"LR_NO_LSTM\", \"Elastic_Net_NO_LSTM\", \"LR_LSTM\", \"Elastic_Net_LSTM\"]"
   ]
  },
  {
   "cell_type": "code",
   "execution_count": 16,
   "metadata": {},
   "outputs": [
    {
     "data": {
      "text/plain": [
       "<matplotlib.legend.Legend at 0x7fbcfe2bfd50>"
      ]
     },
     "execution_count": 16,
     "metadata": {},
     "output_type": "execute_result"
    },
    {
     "data": {
      "image/png": "[encoded data removed]",
      "text/plain": [
       "<matplotlib.figure.Figure at 0x7fbcfe31dfd0>"
      ]
     },
     "metadata": {},
     "output_type": "display_data"
    }
   ],
   "source": [
    "plt.plot([0, 1], [0, 1], color='navy', lw=2, linestyle='--', label=\"Random\")\n",
    "\n",
    "# Plot the p_values log transformed\n",
    "fpr, tpr, thresholds= roc_curve(Y_test, X_test[\"prior_perm\"])\n",
    "model_auc = auc(fpr, tpr)\n",
    "plt.plot(fpr, tpr, color='cyan', label=\"{} (area = {:0.2f})\".format(\"prior\", model_auc))\n",
    "\n",
    "for models, color, label in zip(final_models[0:2], colors[0:2], labels[0:2]):\n",
    "    fpr, tpr, thresholds= roc_curve(Y_test, models.predict_proba(X_test[[col for col in X.columns if col not in lstm_features]])[:,1])\n",
    "    model_auc = auc(fpr, tpr)\n",
    "    plt.plot(fpr, tpr, color=color, label=\"{} (area = {:0.2f})\".format(label, model_auc))\n",
    "\n",
    "for models, color, label in zip(final_models[2:4], colors[2:4], labels[2:4]):\n",
    "    fpr, tpr, thresholds= roc_curve(Y_test, models.predict_proba(X_test)[:,1])\n",
    "    model_auc = auc(fpr, tpr)\n",
    "    plt.plot(fpr, tpr, color=color, label=\"{} (area = {:0.2f})\".format(label, model_auc))\n",
    "\n",
    "plt.xlabel('False Positive Rate')\n",
    "plt.ylabel('True Positive Rate')\n",
    "plt.title('ROC')\n",
    "plt.legend(loc=\"lower right\")"
   ]
  },
  {
   "cell_type": "code",
   "execution_count": 17,
   "metadata": {},
   "outputs": [
    {
     "data": {
      "text/plain": [
       "<matplotlib.legend.Legend at 0x7fbcfdf5e250>"
      ]
     },
     "execution_count": 17,
     "metadata": {},
     "output_type": "execute_result"
    },
    {
     "data": {
      "image/png": "[encoded data removed]",
      "text/plain": [
       "<matplotlib.figure.Figure at 0x7fbcfdf91350>"
      ]
     },
     "metadata": {},
     "output_type": "display_data"
    }
   ],
   "source": [
    "plt.figure()\n",
    "\n",
    "# Plot the p_values log transformed\n",
    "precision, recall, _= precision_recall_curve(Y_test, X_test[\"prior_perm\"])\n",
    "model_precision = average_precision_score(Y_test, X_test[\"prior_perm\"])\n",
    "plt.plot(recall, precision, color='cyan', label=\"{} (area = {:0.2f})\".format(\"prior\", model_precision))\n",
    "\n",
    "for models, color, label in zip(final_models[0:2], colors[0:2], labels[0:2]):\n",
    "    precision, recall, _ = precision_recall_curve(Y_test, models.predict_proba(X_test[[col for col in X.columns if col not in lstm_features]])[:,1])\n",
    "    model_precision = average_precision_score(Y_test, models.predict_proba(X_test[[col for col in X.columns if col not in lstm_features]])[:,1])\n",
    "    plt.plot(recall, precision, color=color, label=\"{} curve (area = {:0.2f})\".format(label, model_precision))\n",
    "\n",
    "for models, color, label in zip(final_models[2:4], colors[2:4], labels[2:4]):    \n",
    "    precision, recall, _ = precision_recall_curve(Y_test, models.predict_proba(X_test)[:,1])\n",
    "    model_precision = average_precision_score(Y_test, models.predict_proba(X_test)[:,1])\n",
    "    plt.plot(recall, precision, color=color, label=\"{} curve (area = {:0.2f})\".format(label, model_precision))\n",
    "\n",
    "plt.ylabel('Precision')\n",
    "plt.xlabel('Recall')\n",
    "plt.title('Precision-Recall Curve')\n",
    "plt.xlim([0, 1.01])\n",
    "plt.ylim([0, 1.05])\n",
    "plt.legend(loc=\"upper right\")"
   ]
  },
  {
   "cell_type": "markdown",
   "metadata": {},
   "source": [
    "## Save Final Result in DF"
   ]
  },
  {
   "cell_type": "code",
   "execution_count": 18,
   "metadata": {},
   "outputs": [],
   "source": [
    "predictions = final_models[2].predict_proba(X_test[[col for col in training_set.columns if col not in [\"hetnet\",\"final_model_pred\", \"disease_id\", \"gene_id\", \"gene_name\", \"disease_name\", \"pubmed\"]]])\n",
    "predictions_df = pd.DataFrame([], columns=[\"predictions\"])\n",
    "predictions_df[\"predictions\"] = predictions[:,1]"
   ]
  },
  {
   "cell_type": "code",
   "execution_count": 19,
   "metadata": {},
   "outputs": [],
   "source": [
    "predictions_df.to_csv(\"final_model_predictions.csv\", index=False)"
   ]
  }
 ],
 "metadata": {
  "kernelspec": {
   "display_name": "Python 2",
   "language": "python",
   "name": "python2"
  },
  "language_info": {
   "codemirror_mode": {
    "name": "ipython",
    "version": 2
   },
   "file_extension": ".py",
   "mimetype": "text/x-python",
   "name": "python",
   "nbconvert_exporter": "python",
   "pygments_lexer": "ipython2",
   "version": "2.7.14"
  }
 },
 "nbformat": 4,
 "nbformat_minor": 2
}
