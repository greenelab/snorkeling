{
 "cells": [
  {
   "cell_type": "markdown",
   "metadata": {},
   "source": [
    "# Train/Test the True Relationship Model"
   ]
  },
  {
   "cell_type": "markdown",
   "metadata": {},
   "source": [
    "This notebook is design to predict DG relationships on the entity level. Here we are taking the input from the Bi-LSTM model, prior probability notebook and the summary statistics notebook and combinging it into a single dataset. From there we train a Ridge LR model and an elastic net LR model to make the final prediction."
   ]
  },
  {
   "cell_type": "code",
   "execution_count": 1,
   "metadata": {},
   "outputs": [],
   "source": [
    "%load_ext autoreload\n",
    "%autoreload 2\n",
    "%matplotlib inline\n",
    "\n",
    "from collections import defaultdict\n",
    "import csv\n",
    "import os\n",
    "\n",
    "import matplotlib.pyplot as plt\n",
    "import numpy as np\n",
    "import pandas as pd\n",
    "import tqdm\n",
    "from scipy.stats import fisher_exact\n",
    "import scipy\n",
    "from sqlalchemy import and_\n",
    "from sklearn.linear_model import LogisticRegression, SGDClassifier\n",
    "from sklearn.metrics import average_precision_score, precision_recall_curve, roc_curve, auc, f1_score, confusion_matrix\n",
    "from sklearn.model_selection import GridSearchCV\n",
    "from sklearn.preprocessing import StandardScaler\n",
    "import seaborn as sns"
   ]
  },
  {
   "cell_type": "code",
   "execution_count": 2,
   "metadata": {},
   "outputs": [],
   "source": [
    "candidate_df = pd.read_csv(\"data/disease_gene_summary_stats.csv\")\n",
    "prior_df = pd.read_csv(\"data/observation-prior.csv\")"
   ]
  },
  {
   "cell_type": "code",
   "execution_count": 3,
   "metadata": {
    "scrolled": true
   },
   "outputs": [
    {
     "data": {
      "text/html": [
       "<div>\n",
       "<style scoped>\n",
       "    .dataframe tbody tr th:only-of-type {\n",
       "        vertical-align: middle;\n",
       "    }\n",
       "\n",
       "    .dataframe tbody tr th {\n",
       "        vertical-align: top;\n",
       "    }\n",
       "\n",
       "    .dataframe thead th {\n",
       "        text-align: right;\n",
       "    }\n",
       "</style>\n",
       "<table border=\"1\" class=\"dataframe\">\n",
       "  <thead>\n",
       "    <tr style=\"text-align: right;\">\n",
       "      <th></th>\n",
       "      <th>disease_id</th>\n",
       "      <th>disease_name</th>\n",
       "      <th>gene_id</th>\n",
       "      <th>gene_name</th>\n",
       "      <th>nlog10_p_value</th>\n",
       "      <th>co_odds_ratio</th>\n",
       "      <th>co_expected_sen_count</th>\n",
       "      <th>delta_lower_ci</th>\n",
       "      <th>lstm_avg_marginal</th>\n",
       "      <th>lstm_marginal_0_quantile</th>\n",
       "      <th>lstm_marginal_20_quantile</th>\n",
       "      <th>lstm_marginal_40_quantile</th>\n",
       "      <th>lstm_marginal_60_quantile</th>\n",
       "      <th>lstm_marginal_80_quantile</th>\n",
       "      <th>hetnet_labels</th>\n",
       "    </tr>\n",
       "  </thead>\n",
       "  <tbody>\n",
       "    <tr>\n",
       "      <th>0</th>\n",
       "      <td>DOID:12849</td>\n",
       "      <td>autistic disorder</td>\n",
       "      <td>3569</td>\n",
       "      <td>IL6</td>\n",
       "      <td>2.072881e-04</td>\n",
       "      <td>0.617773</td>\n",
       "      <td>62.795531</td>\n",
       "      <td>-0.001252</td>\n",
       "      <td>0.747175</td>\n",
       "      <td>0.075081</td>\n",
       "      <td>0.650967</td>\n",
       "      <td>0.907099</td>\n",
       "      <td>0.913931</td>\n",
       "      <td>0.916503</td>\n",
       "      <td>1</td>\n",
       "    </tr>\n",
       "    <tr>\n",
       "      <th>1</th>\n",
       "      <td>DOID:3070</td>\n",
       "      <td>malignant glioma</td>\n",
       "      <td>567</td>\n",
       "      <td>B2M</td>\n",
       "      <td>3.358850e-09</td>\n",
       "      <td>0.192395</td>\n",
       "      <td>86.200979</td>\n",
       "      <td>-0.025416</td>\n",
       "      <td>0.130409</td>\n",
       "      <td>0.076953</td>\n",
       "      <td>0.078801</td>\n",
       "      <td>0.081089</td>\n",
       "      <td>0.082576</td>\n",
       "      <td>0.086210</td>\n",
       "      <td>-1</td>\n",
       "    </tr>\n",
       "    <tr>\n",
       "      <th>2</th>\n",
       "      <td>DOID:1324</td>\n",
       "      <td>lung cancer</td>\n",
       "      <td>6647</td>\n",
       "      <td>SOD1</td>\n",
       "      <td>-0.000000e+00</td>\n",
       "      <td>0.142479</td>\n",
       "      <td>194.551269</td>\n",
       "      <td>-0.044854</td>\n",
       "      <td>0.085042</td>\n",
       "      <td>0.074244</td>\n",
       "      <td>0.075985</td>\n",
       "      <td>0.080222</td>\n",
       "      <td>0.084748</td>\n",
       "      <td>0.089595</td>\n",
       "      <td>-1</td>\n",
       "    </tr>\n",
       "    <tr>\n",
       "      <th>3</th>\n",
       "      <td>DOID:3121</td>\n",
       "      <td>gallbladder cancer</td>\n",
       "      <td>2353</td>\n",
       "      <td>FOS</td>\n",
       "      <td>1.315072e+00</td>\n",
       "      <td>2.319352</td>\n",
       "      <td>2.589809</td>\n",
       "      <td>-0.000705</td>\n",
       "      <td>0.080139</td>\n",
       "      <td>0.078177</td>\n",
       "      <td>0.078499</td>\n",
       "      <td>0.079471</td>\n",
       "      <td>0.080457</td>\n",
       "      <td>0.081399</td>\n",
       "      <td>-1</td>\n",
       "    </tr>\n",
       "    <tr>\n",
       "      <th>4</th>\n",
       "      <td>DOID:10652</td>\n",
       "      <td>Alzheimer's disease</td>\n",
       "      <td>5520</td>\n",
       "      <td>PPP2R2A</td>\n",
       "      <td>1.116009e+00</td>\n",
       "      <td>2.601331</td>\n",
       "      <td>1.549830</td>\n",
       "      <td>-0.022814</td>\n",
       "      <td>0.082038</td>\n",
       "      <td>0.077898</td>\n",
       "      <td>0.078693</td>\n",
       "      <td>0.078702</td>\n",
       "      <td>0.082385</td>\n",
       "      <td>0.085898</td>\n",
       "      <td>-1</td>\n",
       "    </tr>\n",
       "    <tr>\n",
       "      <th>5</th>\n",
       "      <td>DOID:5041</td>\n",
       "      <td>esophageal cancer</td>\n",
       "      <td>319100</td>\n",
       "      <td>TAAR6</td>\n",
       "      <td>7.489680e+00</td>\n",
       "      <td>24.599058</td>\n",
       "      <td>0.301847</td>\n",
       "      <td>0.020276</td>\n",
       "      <td>0.084278</td>\n",
       "      <td>0.078433</td>\n",
       "      <td>0.081272</td>\n",
       "      <td>0.082851</td>\n",
       "      <td>0.084216</td>\n",
       "      <td>0.086745</td>\n",
       "      <td>-1</td>\n",
       "    </tr>\n",
       "    <tr>\n",
       "      <th>6</th>\n",
       "      <td>DOID:2531</td>\n",
       "      <td>hematologic cancer</td>\n",
       "      <td>6400</td>\n",
       "      <td>SEL1L</td>\n",
       "      <td>6.776874e-02</td>\n",
       "      <td>0.674023</td>\n",
       "      <td>6.909290</td>\n",
       "      <td>-0.102290</td>\n",
       "      <td>0.081141</td>\n",
       "      <td>0.077944</td>\n",
       "      <td>0.079681</td>\n",
       "      <td>0.080332</td>\n",
       "      <td>0.081041</td>\n",
       "      <td>0.081786</td>\n",
       "      <td>-1</td>\n",
       "    </tr>\n",
       "    <tr>\n",
       "      <th>7</th>\n",
       "      <td>DOID:1936</td>\n",
       "      <td>atherosclerosis</td>\n",
       "      <td>22846</td>\n",
       "      <td>VASH1</td>\n",
       "      <td>4.202512e-01</td>\n",
       "      <td>1.528825</td>\n",
       "      <td>1.291256</td>\n",
       "      <td>-0.020213</td>\n",
       "      <td>0.087098</td>\n",
       "      <td>0.087098</td>\n",
       "      <td>0.087098</td>\n",
       "      <td>0.087098</td>\n",
       "      <td>0.087098</td>\n",
       "      <td>0.087098</td>\n",
       "      <td>-1</td>\n",
       "    </tr>\n",
       "    <tr>\n",
       "      <th>8</th>\n",
       "      <td>DOID:2377</td>\n",
       "      <td>multiple sclerosis</td>\n",
       "      <td>10804</td>\n",
       "      <td>GJB6</td>\n",
       "      <td>1.581787e+00</td>\n",
       "      <td>4.934903</td>\n",
       "      <td>0.613036</td>\n",
       "      <td>-0.018946</td>\n",
       "      <td>0.079142</td>\n",
       "      <td>0.077703</td>\n",
       "      <td>0.078278</td>\n",
       "      <td>0.078854</td>\n",
       "      <td>0.079430</td>\n",
       "      <td>0.080006</td>\n",
       "      <td>-1</td>\n",
       "    </tr>\n",
       "    <tr>\n",
       "      <th>9</th>\n",
       "      <td>DOID:14227</td>\n",
       "      <td>azoospermia</td>\n",
       "      <td>83844</td>\n",
       "      <td>USP26</td>\n",
       "      <td>3.600000e+01</td>\n",
       "      <td>4841.654246</td>\n",
       "      <td>0.009900</td>\n",
       "      <td>0.538260</td>\n",
       "      <td>0.170588</td>\n",
       "      <td>0.076621</td>\n",
       "      <td>0.079998</td>\n",
       "      <td>0.082054</td>\n",
       "      <td>0.090462</td>\n",
       "      <td>0.151144</td>\n",
       "      <td>1</td>\n",
       "    </tr>\n",
       "  </tbody>\n",
       "</table>\n",
       "</div>"
      ],
      "text/plain": [
       "   disease_id         disease_name  gene_id gene_name  nlog10_p_value  \\\n",
       "0  DOID:12849    autistic disorder     3569       IL6    2.072881e-04   \n",
       "1   DOID:3070     malignant glioma      567       B2M    3.358850e-09   \n",
       "2   DOID:1324          lung cancer     6647      SOD1   -0.000000e+00   \n",
       "3   DOID:3121   gallbladder cancer     2353       FOS    1.315072e+00   \n",
       "4  DOID:10652  Alzheimer's disease     5520   PPP2R2A    1.116009e+00   \n",
       "5   DOID:5041    esophageal cancer   319100     TAAR6    7.489680e+00   \n",
       "6   DOID:2531   hematologic cancer     6400     SEL1L    6.776874e-02   \n",
       "7   DOID:1936      atherosclerosis    22846     VASH1    4.202512e-01   \n",
       "8   DOID:2377   multiple sclerosis    10804      GJB6    1.581787e+00   \n",
       "9  DOID:14227          azoospermia    83844     USP26    3.600000e+01   \n",
       "\n",
       "   co_odds_ratio  co_expected_sen_count  delta_lower_ci  lstm_avg_marginal  \\\n",
       "0       0.617773              62.795531       -0.001252           0.747175   \n",
       "1       0.192395              86.200979       -0.025416           0.130409   \n",
       "2       0.142479             194.551269       -0.044854           0.085042   \n",
       "3       2.319352               2.589809       -0.000705           0.080139   \n",
       "4       2.601331               1.549830       -0.022814           0.082038   \n",
       "5      24.599058               0.301847        0.020276           0.084278   \n",
       "6       0.674023               6.909290       -0.102290           0.081141   \n",
       "7       1.528825               1.291256       -0.020213           0.087098   \n",
       "8       4.934903               0.613036       -0.018946           0.079142   \n",
       "9    4841.654246               0.009900        0.538260           0.170588   \n",
       "\n",
       "   lstm_marginal_0_quantile  lstm_marginal_20_quantile  \\\n",
       "0                  0.075081                   0.650967   \n",
       "1                  0.076953                   0.078801   \n",
       "2                  0.074244                   0.075985   \n",
       "3                  0.078177                   0.078499   \n",
       "4                  0.077898                   0.078693   \n",
       "5                  0.078433                   0.081272   \n",
       "6                  0.077944                   0.079681   \n",
       "7                  0.087098                   0.087098   \n",
       "8                  0.077703                   0.078278   \n",
       "9                  0.076621                   0.079998   \n",
       "\n",
       "   lstm_marginal_40_quantile  lstm_marginal_60_quantile  \\\n",
       "0                   0.907099                   0.913931   \n",
       "1                   0.081089                   0.082576   \n",
       "2                   0.080222                   0.084748   \n",
       "3                   0.079471                   0.080457   \n",
       "4                   0.078702                   0.082385   \n",
       "5                   0.082851                   0.084216   \n",
       "6                   0.080332                   0.081041   \n",
       "7                   0.087098                   0.087098   \n",
       "8                   0.078854                   0.079430   \n",
       "9                   0.082054                   0.090462   \n",
       "\n",
       "   lstm_marginal_80_quantile  hetnet_labels  \n",
       "0                   0.916503              1  \n",
       "1                   0.086210             -1  \n",
       "2                   0.089595             -1  \n",
       "3                   0.081399             -1  \n",
       "4                   0.085898             -1  \n",
       "5                   0.086745             -1  \n",
       "6                   0.081786             -1  \n",
       "7                   0.087098             -1  \n",
       "8                   0.080006             -1  \n",
       "9                   0.151144              1  "
      ]
     },
     "execution_count": 3,
     "metadata": {},
     "output_type": "execute_result"
    }
   ],
   "source": [
    "candidate_df.head(10)"
   ]
  },
  {
   "cell_type": "code",
   "execution_count": 4,
   "metadata": {},
   "outputs": [
    {
     "data": {
      "text/html": [
       "<div>\n",
       "<style scoped>\n",
       "    .dataframe tbody tr th:only-of-type {\n",
       "        vertical-align: middle;\n",
       "    }\n",
       "\n",
       "    .dataframe tbody tr th {\n",
       "        vertical-align: top;\n",
       "    }\n",
       "\n",
       "    .dataframe thead th {\n",
       "        text-align: right;\n",
       "    }\n",
       "</style>\n",
       "<table border=\"1\" class=\"dataframe\">\n",
       "  <thead>\n",
       "    <tr style=\"text-align: right;\">\n",
       "      <th></th>\n",
       "      <th>disease_id</th>\n",
       "      <th>gene_id</th>\n",
       "      <th>disease_associates</th>\n",
       "      <th>gene_associates</th>\n",
       "      <th>prior_perm</th>\n",
       "      <th>prior_perm_stderr</th>\n",
       "    </tr>\n",
       "  </thead>\n",
       "  <tbody>\n",
       "    <tr>\n",
       "      <th>0</th>\n",
       "      <td>DOID:2531</td>\n",
       "      <td>7124</td>\n",
       "      <td>550</td>\n",
       "      <td>47</td>\n",
       "      <td>0.870898</td>\n",
       "      <td>0.000558</td>\n",
       "    </tr>\n",
       "    <tr>\n",
       "      <th>1</th>\n",
       "      <td>DOID:2531</td>\n",
       "      <td>7157</td>\n",
       "      <td>550</td>\n",
       "      <td>46</td>\n",
       "      <td>0.867094</td>\n",
       "      <td>0.000565</td>\n",
       "    </tr>\n",
       "    <tr>\n",
       "      <th>2</th>\n",
       "      <td>DOID:2531</td>\n",
       "      <td>5743</td>\n",
       "      <td>550</td>\n",
       "      <td>40</td>\n",
       "      <td>0.830758</td>\n",
       "      <td>0.000624</td>\n",
       "    </tr>\n",
       "    <tr>\n",
       "      <th>3</th>\n",
       "      <td>DOID:2531</td>\n",
       "      <td>3569</td>\n",
       "      <td>550</td>\n",
       "      <td>39</td>\n",
       "      <td>0.823473</td>\n",
       "      <td>0.000634</td>\n",
       "    </tr>\n",
       "    <tr>\n",
       "      <th>4</th>\n",
       "      <td>DOID:2531</td>\n",
       "      <td>4318</td>\n",
       "      <td>550</td>\n",
       "      <td>37</td>\n",
       "      <td>0.809203</td>\n",
       "      <td>0.000654</td>\n",
       "    </tr>\n",
       "    <tr>\n",
       "      <th>5</th>\n",
       "      <td>DOID:2531</td>\n",
       "      <td>3586</td>\n",
       "      <td>550</td>\n",
       "      <td>35</td>\n",
       "      <td>0.793287</td>\n",
       "      <td>0.000674</td>\n",
       "    </tr>\n",
       "    <tr>\n",
       "      <th>6</th>\n",
       "      <td>DOID:2531</td>\n",
       "      <td>7422</td>\n",
       "      <td>550</td>\n",
       "      <td>34</td>\n",
       "      <td>0.783978</td>\n",
       "      <td>0.000685</td>\n",
       "    </tr>\n",
       "    <tr>\n",
       "      <th>7</th>\n",
       "      <td>DOID:2531</td>\n",
       "      <td>7040</td>\n",
       "      <td>550</td>\n",
       "      <td>33</td>\n",
       "      <td>0.777711</td>\n",
       "      <td>0.000692</td>\n",
       "    </tr>\n",
       "    <tr>\n",
       "      <th>8</th>\n",
       "      <td>DOID:2531</td>\n",
       "      <td>3553</td>\n",
       "      <td>550</td>\n",
       "      <td>31</td>\n",
       "      <td>0.758141</td>\n",
       "      <td>0.000712</td>\n",
       "    </tr>\n",
       "    <tr>\n",
       "      <th>9</th>\n",
       "      <td>DOID:2531</td>\n",
       "      <td>213</td>\n",
       "      <td>550</td>\n",
       "      <td>30</td>\n",
       "      <td>0.747171</td>\n",
       "      <td>0.000723</td>\n",
       "    </tr>\n",
       "  </tbody>\n",
       "</table>\n",
       "</div>"
      ],
      "text/plain": [
       "  disease_id  gene_id  disease_associates  gene_associates  prior_perm  \\\n",
       "0  DOID:2531     7124                 550               47    0.870898   \n",
       "1  DOID:2531     7157                 550               46    0.867094   \n",
       "2  DOID:2531     5743                 550               40    0.830758   \n",
       "3  DOID:2531     3569                 550               39    0.823473   \n",
       "4  DOID:2531     4318                 550               37    0.809203   \n",
       "5  DOID:2531     3586                 550               35    0.793287   \n",
       "6  DOID:2531     7422                 550               34    0.783978   \n",
       "7  DOID:2531     7040                 550               33    0.777711   \n",
       "8  DOID:2531     3553                 550               31    0.758141   \n",
       "9  DOID:2531      213                 550               30    0.747171   \n",
       "\n",
       "   prior_perm_stderr  \n",
       "0           0.000558  \n",
       "1           0.000565  \n",
       "2           0.000624  \n",
       "3           0.000634  \n",
       "4           0.000654  \n",
       "5           0.000674  \n",
       "6           0.000685  \n",
       "7           0.000692  \n",
       "8           0.000712  \n",
       "9           0.000723  "
      ]
     },
     "execution_count": 4,
     "metadata": {},
     "output_type": "execute_result"
    }
   ],
   "source": [
    "prior_df.head(10)"
   ]
  },
  {
   "cell_type": "markdown",
   "metadata": {},
   "source": [
    "# Set up the Training and Testing Set"
   ]
  },
  {
   "cell_type": "code",
   "execution_count": 5,
   "metadata": {},
   "outputs": [],
   "source": [
    "train_df = pd.read_csv(\"stratified_data/train_set.csv\")\n",
    "dev_df = pd.read_csv(\"stratified_data/dev_set.csv\")\n",
    "test_df = pd.read_csv(\"stratified_data/test_set.csv\")"
   ]
  },
  {
   "cell_type": "code",
   "execution_count": 6,
   "metadata": {},
   "outputs": [],
   "source": [
    "# Gather the summary stats for each candidate\n",
    "training_set = pd.merge(candidate_df, train_df.query(\"pubmed==1\")[[\"disease_id\", \"gene_id\", \"hetnet\"]], \n",
    "                        how='inner', on=[\"disease_id\", \"gene_id\"])\n",
    "dev_set = pd.merge(candidate_df, dev_df.query(\"pubmed==1\")[[\"disease_id\", \"gene_id\", \"hetnet\"]],\n",
    "                   how='inner', on=[\"disease_id\", \"gene_id\"])\n",
    "test_set = pd.merge(candidate_df, test_df.query(\"pubmed==1\")[[\"disease_id\", \"gene_id\", \"hetnet\"]], \n",
    "                    how='inner', on=[\"disease_id\", \"gene_id\"])\n",
    "\n",
    "\n",
    "# Drop the values that aren't found in pubmed. \n",
    "training_set = training_set.drop(\"hetnet_labels\", axis=1)\n",
    "dev_set = dev_set.drop(\"hetnet_labels\", axis=1)\n",
    "test_set = test_set.drop(\"hetnet_labels\", axis=1)\n",
    "\n",
    "training_set = training_set.dropna()\n",
    "dev_set = dev_set.dropna()\n",
    "test_set = test_set.dropna()\n",
    "\n",
    "# Add the prior prob to the different sets \n",
    "training_set = pd.merge(training_set, prior_df[[\"disease_id\", \"gene_id\", \"prior_perm\"]])\n",
    "dev_set = pd.merge(dev_set, prior_df[[\"disease_id\", \"gene_id\", \"prior_perm\"]])\n",
    "test_set = pd.merge(test_set, prior_df[[\"disease_id\", \"gene_id\", \"prior_perm\"]])"
   ]
  },
  {
   "cell_type": "code",
   "execution_count": 7,
   "metadata": {},
   "outputs": [],
   "source": [
    "non_features = [\n",
    "    \"hetnet\", \"disease_id\", \"gene_id\", \n",
    "    \"gene_name\", \"disease_name\",\n",
    "    \"pubmed\", \"lstm_marginal_0_quantile\", \n",
    "    \"lstm_marginal_20_quantile\",\"lstm_marginal_40_quantile\",\n",
    "    \"lstm_marginal_60_quantile\", \"lstm_marginal_80_quantile\"\n",
    "]\n",
    "\n",
    "X = training_set[[col for col in training_set.columns if col not in non_features]]\n",
    "Y = training_set[\"hetnet\"]\n",
    "\n",
    "X_dev = dev_set[[col for col in dev_set.columns if col not in non_features]]\n",
    "Y_dev = dev_set[\"hetnet\"]\n",
    "\n",
    "X_test = test_set[[col for col in test_set.columns if col not in non_features]]\n",
    "Y_test = test_set[\"hetnet\"]"
   ]
  },
  {
   "cell_type": "markdown",
   "metadata": {},
   "source": [
    "# Train the Machine Learning Algorithms"
   ]
  },
  {
   "cell_type": "markdown",
   "metadata": {},
   "source": [
    "Here we use gridsearch to optimize both models using 10 fold cross validation. After exhausting the list of parameters, the best model is chosen and analyzed in the next chunk. "
   ]
  },
  {
   "cell_type": "code",
   "execution_count": 8,
   "metadata": {},
   "outputs": [],
   "source": [
    "n_iter = 100\n",
    "final_models = []\n",
    "\n",
    "lr = LogisticRegression()\n",
    "lr_grid = {'C':np.linspace(1, 100, num=100)}\n",
    "\n",
    "no_lstm_normalizer = StandardScaler()\n",
    "lstm_normalizer = StandardScaler()"
   ]
  },
  {
   "cell_type": "code",
   "execution_count": 9,
   "metadata": {},
   "outputs": [
    {
     "name": "stdout",
     "output_type": "stream",
     "text": [
      "CPU times: user 11.4 ms, sys: 0 ns, total: 11.4 ms\n",
      "Wall time: 12 ms\n"
     ]
    }
   ],
   "source": [
    "%%time\n",
    "\n",
    "# Train on data without LSTM input\n",
    "lstm_features = [\n",
    "    \"lstm_avg_marginal\"\n",
    "]\n",
    "\n",
    "tempX = X[[col for col in X.columns if col not in lstm_features]]\n",
    "tempX = tempX.append(X_dev[[col for col in X_dev.columns if col not in lstm_features]])\n",
    "\n",
    "transformed_tempX = no_lstm_normalizer.fit_transform(tempX)\n",
    "transformed_X = lstm_normalizer.fit_transform(X.append(X_dev))"
   ]
  },
  {
   "cell_type": "code",
   "execution_count": null,
   "metadata": {},
   "outputs": [
    {
     "name": "stdout",
     "output_type": "stream",
     "text": [
      "CPU times: user 7.99 s, sys: 413 ms, total: 8.4 s\n",
      "Wall time: 1min 42s\n"
     ]
    }
   ],
   "source": [
    "%%time\n",
    "\n",
    "final_model = GridSearchCV(lr, lr_grid, cv=10, n_jobs=3, scoring='roc_auc', return_train_score=True)\n",
    "final_model.fit(transformed_tempX, Y.append(Y_dev))\n",
    "final_models.append(final_model)"
   ]
  },
  {
   "cell_type": "code",
   "execution_count": null,
   "metadata": {},
   "outputs": [],
   "source": [
    "%%time\n",
    "\n",
    "# Train on data with LSTM input\n",
    "final_model = GridSearchCV(lr, lr_grid, cv=10, n_jobs=3, scoring='roc_auc', return_train_score=True)\n",
    "final_model.fit(transformed_X, Y.append(Y_dev))\n",
    "final_models.append(final_model)"
   ]
  },
  {
   "cell_type": "markdown",
   "metadata": {},
   "source": [
    "## Parameter Optimization"
   ]
  },
  {
   "cell_type": "code",
   "execution_count": null,
   "metadata": {
    "scrolled": true
   },
   "outputs": [],
   "source": [
    "no_lstm_result = pd.DataFrame(final_models[0].cv_results_)\n",
    "lstm_result = pd.DataFrame(final_models[1].cv_results_)"
   ]
  },
  {
   "cell_type": "code",
   "execution_count": null,
   "metadata": {
    "scrolled": true
   },
   "outputs": [],
   "source": [
    "# No LSTM\n",
    "plt.plot(no_lstm_result['param_C'], no_lstm_result['mean_test_score'])"
   ]
  },
  {
   "cell_type": "code",
   "execution_count": null,
   "metadata": {},
   "outputs": [],
   "source": [
    "# LSTM\n",
    "plt.plot(lstm_result['param_C'], lstm_result['mean_test_score'])"
   ]
  },
  {
   "cell_type": "markdown",
   "metadata": {},
   "source": [
    "## LR Weights"
   ]
  },
  {
   "cell_type": "code",
   "execution_count": null,
   "metadata": {
    "scrolled": true
   },
   "outputs": [],
   "source": [
    "list(zip(final_models[0].best_estimator_.coef_[0], [col for col in training_set.columns if col not in lstm_features+non_features]))"
   ]
  },
  {
   "cell_type": "code",
   "execution_count": null,
   "metadata": {},
   "outputs": [],
   "source": [
    "list(zip(final_models[1].best_estimator_.coef_[0], [col for col in training_set.columns if col not in non_features]))"
   ]
  },
  {
   "cell_type": "markdown",
   "metadata": {},
   "source": [
    "# AUROCS"
   ]
  },
  {
   "cell_type": "code",
   "execution_count": null,
   "metadata": {},
   "outputs": [],
   "source": [
    "feature_rocs = []\n",
    "train_Y = Y.append(Y_dev)\n",
    "train_X = X.append(X_dev)\n",
    "for feature in X.columns:\n",
    "    fpr, tpr, _ = roc_curve(train_Y, train_X[feature])\n",
    "    feature_auc = auc(fpr, tpr)\n",
    "    feature_rocs.append((feature, feature_auc))\n",
    "\n",
    "feature_roc_df = pd.DataFrame(feature_rocs, columns=[\"Feature\", \"AUROC\"])\n",
    "ax = sns.barplot(x=\"AUROC\", y=\"Feature\", data=feature_roc_df)\n",
    "plt.xlim([0.5,1])"
   ]
  },
  {
   "cell_type": "markdown",
   "metadata": {},
   "source": [
    "# Corerlation Matrix"
   ]
  },
  {
   "cell_type": "code",
   "execution_count": null,
   "metadata": {},
   "outputs": [],
   "source": [
    "feature_corr_mat = train_X.corr()\n",
    "sns.heatmap(feature_corr_mat, cmap=\"RdBu\", center=0)"
   ]
  },
  {
   "cell_type": "markdown",
   "metadata": {},
   "source": [
    "# ML Performance"
   ]
  },
  {
   "cell_type": "code",
   "execution_count": null,
   "metadata": {},
   "outputs": [],
   "source": [
    "transformed_tempX_test = no_lstm_normalizer.transform(X_test[[col for col in X.columns if col not in lstm_features]])\n",
    "transformed_X_test = lstm_normalizer.transform(X_test)"
   ]
  },
  {
   "cell_type": "code",
   "execution_count": null,
   "metadata": {},
   "outputs": [],
   "source": [
    "colors = [\"green\",\"red\"]\n",
    "labels = [\"LR_NO_LSTM\",\"LR_LSTM\"]"
   ]
  },
  {
   "cell_type": "code",
   "execution_count": null,
   "metadata": {},
   "outputs": [],
   "source": [
    "plt.plot([0, 1], [0, 1], color='navy', lw=2, linestyle='--', label=\"Random\")\n",
    "\n",
    "# Plot the p_values log transformed\n",
    "fpr, tpr, thresholds= roc_curve(Y_test, X_test[\"prior_perm\"])\n",
    "model_auc = auc(fpr, tpr)\n",
    "plt.plot(fpr, tpr, color='cyan', label=\"{} (area = {:0.2f})\".format(\"prior\", model_auc))\n",
    "\n",
    "fpr, tpr, thresholds= roc_curve(Y_test, final_models[0].predict_proba(transformed_tempX_test)[:,1])\n",
    "model_auc = auc(fpr, tpr)\n",
    "plt.plot(fpr, tpr, color=colors[0], label=\"{} (area = {:0.2f})\".format(labels[0], model_auc))\n",
    "\n",
    "fpr, tpr, thresholds= roc_curve(Y_test, final_models[1].predict_proba(transformed_X_test)[:,1])\n",
    "model_auc = auc(fpr, tpr)\n",
    "plt.plot(fpr, tpr, color=colors[1], label=\"{} (area = {:0.2f})\".format(labels[1], model_auc))\n",
    "\n",
    "plt.xlabel('False Positive Rate')\n",
    "plt.ylabel('True Positive Rate')\n",
    "plt.title('ROC')\n",
    "plt.legend(loc=\"lower right\")"
   ]
  },
  {
   "cell_type": "code",
   "execution_count": null,
   "metadata": {},
   "outputs": [],
   "source": [
    "plt.figure()\n",
    "\n",
    "# Plot the p_values log transformed\n",
    "precision, recall, _= precision_recall_curve(Y_test, X_test[\"prior_perm\"])\n",
    "model_precision = average_precision_score(Y_test, X_test[\"prior_perm\"])\n",
    "plt.plot(recall, precision, color='cyan', label=\"{} (area = {:0.2f})\".format(\"prior\", model_precision))\n",
    "\n",
    "precision, recall, _ = precision_recall_curve(Y_test, final_models[0].predict_proba(transformed_tempX_test)[:,1])\n",
    "model_precision = average_precision_score(Y_test, final_models[0].predict_proba(transformed_tempX_test)[:,1])\n",
    "plt.plot(recall, precision, color=colors[0], label=\"{} curve (area = {:0.2f})\".format(labels[0], model_precision))\n",
    "  \n",
    "precision, recall, _ = precision_recall_curve(Y_test, final_models[1].predict_proba(transformed_X_test)[:,1])\n",
    "model_precision = average_precision_score(Y_test, final_models[1].predict_proba(transformed_X_test)[:,1])\n",
    "plt.plot(recall, precision, color=colors[1], label=\"{} curve (area = {:0.2f})\".format(labels[1], model_precision))\n",
    "\n",
    "plt.ylabel('Precision')\n",
    "plt.xlabel('Recall')\n",
    "plt.title('Precision-Recall Curve')\n",
    "plt.xlim([0, 1.01])\n",
    "plt.ylim([0, 1.05])\n",
    "plt.legend(loc=\"upper right\")"
   ]
  },
  {
   "cell_type": "markdown",
   "metadata": {},
   "source": [
    "## Save Final Result in DF"
   ]
  },
  {
   "cell_type": "code",
   "execution_count": null,
   "metadata": {},
   "outputs": [],
   "source": [
    "predictions = final_models[1].predict_proba(X.append(X_dev).append(X_test))\n",
    "predictions_df = training_set.append(dev_set).append(test_set)[[\n",
    "    \"disease_id\",\"disease_name\", \n",
    "    \"gene_id\", \"gene_name\", 'hetnet']]\n",
    "predictions_df[\"predictions\"] = predictions[:,1]"
   ]
  },
  {
   "cell_type": "code",
   "execution_count": null,
   "metadata": {},
   "outputs": [],
   "source": [
    "predictions_df.to_csv(\"data/vanilla_lstm/final_model_predictions.csv\", index=False)"
   ]
  }
 ],
 "metadata": {
  "kernelspec": {
   "display_name": "Python 3",
   "language": "python",
   "name": "python3"
  },
  "language_info": {
   "codemirror_mode": {
    "name": "ipython",
    "version": 3
   },
   "file_extension": ".py",
   "mimetype": "text/x-python",
   "name": "python",
   "nbconvert_exporter": "python",
   "pygments_lexer": "ipython3",
   "version": "3.6.4"
  }
 },
 "nbformat": 4,
 "nbformat_minor": 2
}
