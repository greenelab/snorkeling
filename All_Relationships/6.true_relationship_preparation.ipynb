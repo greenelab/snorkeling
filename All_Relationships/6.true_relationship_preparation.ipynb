{
 "cells": [
  {
   "cell_type": "markdown",
   "metadata": {},
   "source": [
    "# Data Preparation for True Relationship Prediction"
   ]
  },
  {
   "cell_type": "markdown",
   "metadata": {},
   "source": [
    "After predicting the co-occurence of candidates on the sentence level, the next step is to predict whether a candidate is a true relationship or just occured by chance. Through out this notebook the main events involved here are calculating summary statistics and obtaining the LSTM marginal probabilities."
   ]
  },
  {
   "cell_type": "code",
   "execution_count": 14,
   "metadata": {},
   "outputs": [
    {
     "name": "stdout",
     "output_type": "stream",
     "text": [
      "The autoreload extension is already loaded. To reload it, use:\n",
      "  %reload_ext autoreload\n"
     ]
    }
   ],
   "source": [
    "%load_ext autoreload\n",
    "%autoreload 2\n",
    "%matplotlib inline\n",
    "\n",
    "from collections import defaultdict\n",
    "import csv\n",
    "import os\n",
    "\n",
    "import matplotlib.pyplot as plt\n",
    "import numpy as np\n",
    "import pandas as pd\n",
    "import tqdm\n",
    "from scipy.stats import fisher_exact\n",
    "import scipy\n",
    "from sqlalchemy import and_\n",
    "from sklearn.linear_model import LogisticRegression, SGDClassifier\n",
    "from sklearn.metrics import roc_curve, auc, confusion_matrix\n",
    "from sklearn.model_selection import RandomizedSearchCV\n",
    "import seaborn as sns"
   ]
  },
  {
   "cell_type": "code",
   "execution_count": 15,
   "metadata": {
    "collapsed": true
   },
   "outputs": [],
   "source": [
    "#Set up the environment\n",
    "username = \"danich1\"\n",
    "password = \"snorkel\"\n",
    "dbname = \"pubmeddb\"\n",
    "\n",
    "#Path subject to change for different os\n",
    "database_str = \"postgresql+psycopg2://{}:{}@/{}?host=/var/run/postgresql\".format(username, password, dbname)\n",
    "os.environ['SNORKELDB'] = database_str\n",
    "\n",
    "from snorkel import SnorkelSession\n",
    "session = SnorkelSession()"
   ]
  },
  {
   "cell_type": "code",
   "execution_count": 16,
   "metadata": {
    "collapsed": true
   },
   "outputs": [],
   "source": [
    "from snorkel.models import Candidate, candidate_subclass\n",
    "from snorkel.learning.disc_models.rnn import reRNN"
   ]
  },
  {
   "cell_type": "code",
   "execution_count": 17,
   "metadata": {
    "collapsed": true
   },
   "outputs": [],
   "source": [
    "DiseaseGene = candidate_subclass('DiseaseGene', ['Disease', 'Gene'])"
   ]
  },
  {
   "cell_type": "markdown",
   "metadata": {},
   "source": [
    "# Count the Number of Sentences for Each Candidate"
   ]
  },
  {
   "cell_type": "code",
   "execution_count": null,
   "metadata": {
    "collapsed": true,
    "scrolled": true
   },
   "outputs": [],
   "source": [
    "%%time\n",
    "doc_counter = defaultdict(set)\n",
    "sentence_counter = defaultdict(set)\n",
    "offset = 0\n",
    "chunk_size = 1e5\n",
    "\n",
    "while True:\n",
    "    cands = session.query(DiseaseGene).limit(chunk_size).offset(offset).all()\n",
    "    \n",
    "    if not cands:\n",
    "        break\n",
    "        \n",
    "    for candidate in tqdm.tqdm(cands):\n",
    "        sentence_counter[(candidate.Disease_cid, candidate.Gene_cid)].add(hash(candidate[0].get_parent()))\n",
    "        doc_counter[(candidate.Disease_cid, candidate.Gene_cid)].add(hash(candidate[0].get_parent().document_id))\n",
    "    \n",
    "    offset+= chunk_size"
   ]
  },
  {
   "cell_type": "code",
   "execution_count": null,
   "metadata": {
    "collapsed": true
   },
   "outputs": [],
   "source": [
    "candidate_df = pd.DataFrame(map(lambda x: [x[0], x[1], len(sentence_counter[x]), len(doc_counter[x])], sentence_counter), columns=[\"disease_id\", \"gene_id\", \"sentence_count\", \"doc_count\"])"
   ]
  },
  {
   "cell_type": "markdown",
   "metadata": {},
   "source": [
    "# Perform Fisher Exact Test on each Co-Occurence"
   ]
  },
  {
   "cell_type": "code",
   "execution_count": 6,
   "metadata": {
    "collapsed": true
   },
   "outputs": [],
   "source": [
    "def diffprop(obs):\n",
    "    \"\"\"\n",
    "    `obs` must be a 2x2 numpy array.\n",
    "\n",
    "    Returns:\n",
    "    delta\n",
    "        The difference in proportions\n",
    "    ci\n",
    "        The Wald 95% confidence interval for delta\n",
    "    corrected_ci\n",
    "        Yates continuity correction for the 95% confidence interval of delta.\n",
    "    \"\"\"\n",
    "    n1, n2 = obs.sum(axis=1)\n",
    "    prop1 = obs[0,0] / n1.astype(np.float64)\n",
    "    prop2 = obs[1,0] / n2.astype(np.float64)\n",
    "    delta = prop1 - prop2\n",
    "\n",
    "    # Wald 95% confidence interval for delta\n",
    "    se = np.sqrt(prop1*(1 - prop1)/n1 + prop2*(1 - prop2)/n2)\n",
    "    ci = (delta - 1.96*se, delta + 1.96*se)\n",
    "\n",
    "    # Yates continuity correction for confidence interval of delta\n",
    "    correction = 0.5*(1/n1 + 1/n2)\n",
    "    corrected_ci = (ci[0] - correction, ci[1] + correction)\n",
    "\n",
    "    return delta, ci, corrected_ci"
   ]
  },
  {
   "cell_type": "code",
   "execution_count": 7,
   "metadata": {},
   "outputs": [
    {
     "name": "stderr",
     "output_type": "stream",
     "text": [
      "100%|██████████| 150280/150280 [2:41:42<00:00, 15.68it/s] \n"
     ]
    }
   ],
   "source": [
    "total = candidate_df[\"sentence_count\"].sum()\n",
    "odds = []\n",
    "p_val = []\n",
    "expected = []\n",
    "lower_ci = []\n",
    "\n",
    "for disease, gene in tqdm.tqdm(zip(candidate_df[\"disease_id\"],candidate_df[\"gene_id\"])):\n",
    "    cond = (candidate_df[\"disease_id\"] == disease) & (candidate_df[\"gene_id\"] == gene)\n",
    "    a = candidate_df[cond][\"sentence_count\"].values[0] + 1\n",
    "                                        \n",
    "    cond = (candidate_df[\"disease_id\"] != disease) & (candidate_df[\"gene_id\"] == gene)\n",
    "    b = sum(candidate_df[cond][\"sentence_count\"].values) + 1\n",
    "    \n",
    "    cond = (candidate_df[\"disease_id\"] == disease) & (candidate_df[\"gene_id\"] != gene)\n",
    "    c = sum(candidate_df[cond][\"sentence_count\"].values) +1\n",
    "    \n",
    "    cond = (candidate_df[\"disease_id\"] != disease) & (candidate_df[\"gene_id\"] != gene)\n",
    "    d = sum(candidate_df[cond][\"sentence_count\"].values) + 1\n",
    "    \n",
    "    c_table = np.array([[a, b], [c, d]])\n",
    "    \n",
    "    # Gather confidence interval\n",
    "    delta, ci, corrected_ci = diffprop(c_table)\n",
    "    lower_ci.append(ci[0])\n",
    "    \n",
    "    # Gather corrected odds ratio and p_values\n",
    "    odds_ratio, p_value = fisher_exact(c_table, alternative='greater')\n",
    "    odds.append(odds_ratio)\n",
    "    p_val.append(p_value)\n",
    "    \n",
    "    \n",
    "    total_disease = candidate_df[candidate_df[\"disease_id\"] == disease][\"sentence_count\"].sum()\n",
    "    total_gene = candidate_df[candidate_df[\"gene_id\"] == gene][\"sentence_count\"].sum()\n",
    "    expected.append((total_gene * total_disease)/float(total))\n",
    "\n",
    "candidate_df[\"p_value\"] = p_val\n",
    "candidate_df[\"odds_ratio\"] = odds\n",
    "candidate_df[\"expected_sen\"] = expected\n",
    "candidate_df[\"lower_ci\"] = lower_ci"
   ]
  },
  {
   "cell_type": "code",
   "execution_count": null,
   "metadata": {
    "collapsed": true
   },
   "outputs": [],
   "source": [
    "candidate_df.sort_values(\"p_value\", ascending=True).head(20)"
   ]
  },
  {
   "cell_type": "markdown",
   "metadata": {},
   "source": [
    "# Combine sentence marginals"
   ]
  },
  {
   "cell_type": "code",
   "execution_count": 19,
   "metadata": {
    "collapsed": true
   },
   "outputs": [],
   "source": [
    "train_marginals_df = pd.read_csv(\"stratified_data/lstm_disease_gene_holdout/lstm_train_marginals.csv\")\n",
    "dev_marginals_df = pd.read_csv(\"stratified_data/lstm_disease_gene_holdout/lstm_dev_marginals.csv\")\n",
    "test_marginals_df = pd.read_csv(\"stratified_data/lstm_disease_gene_holdout/lstm_test_marginals.csv\")"
   ]
  },
  {
   "cell_type": "code",
   "execution_count": 20,
   "metadata": {
    "collapsed": true
   },
   "outputs": [],
   "source": [
    "train_sentences_df = pd.read_csv(\"stratified_data/lstm_disease_gene_holdout/train_candidates_sentences.csv\")\n",
    "dev_sentences_df = pd.read_csv(\"stratified_data/lstm_disease_gene_holdout/dev_candidates_sentences.csv\")\n",
    "test_sentences_df = pd.read_csv(\"stratified_data/lstm_disease_gene_holdout/test_candidates_sentences.csv\")"
   ]
  },
  {
   "cell_type": "code",
   "execution_count": 23,
   "metadata": {
    "collapsed": true
   },
   "outputs": [],
   "source": [
    "train_sentences_df[\"marginals\"] = train_marginals_df[\"RNN_marginals\"].values\n",
    "dev_sentences_df[\"marginals\"] = dev_marginals_df[\"RNN_marginals\"].values\n",
    "test_sentences_df[\"marginals\"] = test_marginals_df[\"RNN_10_Marginals\"].values"
   ]
  },
  {
   "cell_type": "markdown",
   "metadata": {},
   "source": [
    "# Combine Marginal Probabilities"
   ]
  },
  {
   "cell_type": "code",
   "execution_count": 30,
   "metadata": {
    "collapsed": true
   },
   "outputs": [],
   "source": [
    "candidate_df = pd.read_csv(\"disease_gene_summary_stats.csv\")"
   ]
  },
  {
   "cell_type": "code",
   "execution_count": 43,
   "metadata": {},
   "outputs": [
    {
     "data": {
      "text/html": [
       "<div>\n",
       "<style>\n",
       "    .dataframe thead tr:only-child th {\n",
       "        text-align: right;\n",
       "    }\n",
       "\n",
       "    .dataframe thead th {\n",
       "        text-align: left;\n",
       "    }\n",
       "\n",
       "    .dataframe tbody tr th {\n",
       "        vertical-align: top;\n",
       "    }\n",
       "</style>\n",
       "<table border=\"1\" class=\"dataframe\">\n",
       "  <thead>\n",
       "    <tr style=\"text-align: right;\">\n",
       "      <th></th>\n",
       "      <th>disease_id</th>\n",
       "      <th>gene_id</th>\n",
       "      <th>sentence_count</th>\n",
       "      <th>doc_num</th>\n",
       "      <th>p_value</th>\n",
       "      <th>odds_ratio</th>\n",
       "      <th>expected_sen</th>\n",
       "      <th>hetnet_labels</th>\n",
       "      <th>avg_marginal</th>\n",
       "      <th>final_model_pred</th>\n",
       "      <th>quantile_zero</th>\n",
       "      <th>quantile_twenty</th>\n",
       "      <th>quantile_forty</th>\n",
       "      <th>quantile_sixty</th>\n",
       "      <th>quantile_eighty</th>\n",
       "      <th>lower_ci</th>\n",
       "    </tr>\n",
       "  </thead>\n",
       "  <tbody>\n",
       "    <tr>\n",
       "      <th>0</th>\n",
       "      <td>DOID:12849</td>\n",
       "      <td>3569</td>\n",
       "      <td>38</td>\n",
       "      <td>18</td>\n",
       "      <td>9.995228e-01</td>\n",
       "      <td>0.617773</td>\n",
       "      <td>62.795531</td>\n",
       "      <td>1</td>\n",
       "      <td>0.572253</td>\n",
       "      <td>0.173056</td>\n",
       "      <td>0.057443</td>\n",
       "      <td>0.246951</td>\n",
       "      <td>0.484126</td>\n",
       "      <td>0.773133</td>\n",
       "      <td>0.898218</td>\n",
       "      <td>-0.001252</td>\n",
       "    </tr>\n",
       "    <tr>\n",
       "      <th>1</th>\n",
       "      <td>DOID:3070</td>\n",
       "      <td>567</td>\n",
       "      <td>16</td>\n",
       "      <td>11</td>\n",
       "      <td>1.000000e+00</td>\n",
       "      <td>0.192395</td>\n",
       "      <td>86.200979</td>\n",
       "      <td>-1</td>\n",
       "      <td>0.083130</td>\n",
       "      <td>0.004616</td>\n",
       "      <td>0.076999</td>\n",
       "      <td>0.080302</td>\n",
       "      <td>0.081056</td>\n",
       "      <td>0.082545</td>\n",
       "      <td>0.085014</td>\n",
       "      <td>-0.025416</td>\n",
       "    </tr>\n",
       "    <tr>\n",
       "      <th>2</th>\n",
       "      <td>DOID:1324</td>\n",
       "      <td>6647</td>\n",
       "      <td>28</td>\n",
       "      <td>13</td>\n",
       "      <td>1.000000e+00</td>\n",
       "      <td>0.142479</td>\n",
       "      <td>194.551269</td>\n",
       "      <td>-1</td>\n",
       "      <td>0.371562</td>\n",
       "      <td>0.002645</td>\n",
       "      <td>0.073665</td>\n",
       "      <td>0.087599</td>\n",
       "      <td>0.095345</td>\n",
       "      <td>0.130062</td>\n",
       "      <td>0.896128</td>\n",
       "      <td>-0.044854</td>\n",
       "    </tr>\n",
       "    <tr>\n",
       "      <th>3</th>\n",
       "      <td>DOID:3121</td>\n",
       "      <td>2353</td>\n",
       "      <td>5</td>\n",
       "      <td>1</td>\n",
       "      <td>4.840916e-02</td>\n",
       "      <td>2.319352</td>\n",
       "      <td>2.589809</td>\n",
       "      <td>-1</td>\n",
       "      <td>0.086660</td>\n",
       "      <td>0.176227</td>\n",
       "      <td>0.079303</td>\n",
       "      <td>0.083052</td>\n",
       "      <td>0.084625</td>\n",
       "      <td>0.086648</td>\n",
       "      <td>0.090420</td>\n",
       "      <td>-0.000705</td>\n",
       "    </tr>\n",
       "    <tr>\n",
       "      <th>4</th>\n",
       "      <td>DOID:10652</td>\n",
       "      <td>5520</td>\n",
       "      <td>3</td>\n",
       "      <td>2</td>\n",
       "      <td>7.655809e-02</td>\n",
       "      <td>2.601331</td>\n",
       "      <td>1.549830</td>\n",
       "      <td>-1</td>\n",
       "      <td>0.567257</td>\n",
       "      <td>0.075174</td>\n",
       "      <td>0.093024</td>\n",
       "      <td>0.093384</td>\n",
       "      <td>0.473634</td>\n",
       "      <td>0.913429</td>\n",
       "      <td>0.913594</td>\n",
       "      <td>-0.022814</td>\n",
       "    </tr>\n",
       "    <tr>\n",
       "      <th>5</th>\n",
       "      <td>DOID:5041</td>\n",
       "      <td>319100</td>\n",
       "      <td>6</td>\n",
       "      <td>2</td>\n",
       "      <td>3.238321e-08</td>\n",
       "      <td>24.599058</td>\n",
       "      <td>0.301847</td>\n",
       "      <td>-1</td>\n",
       "      <td>0.086803</td>\n",
       "      <td>0.026659</td>\n",
       "      <td>0.083442</td>\n",
       "      <td>0.083687</td>\n",
       "      <td>0.084111</td>\n",
       "      <td>0.085787</td>\n",
       "      <td>0.089258</td>\n",
       "      <td>0.020276</td>\n",
       "    </tr>\n",
       "    <tr>\n",
       "      <th>6</th>\n",
       "      <td>DOID:2531</td>\n",
       "      <td>6400</td>\n",
       "      <td>4</td>\n",
       "      <td>1</td>\n",
       "      <td>8.555222e-01</td>\n",
       "      <td>0.674023</td>\n",
       "      <td>6.909290</td>\n",
       "      <td>-1</td>\n",
       "      <td>0.084754</td>\n",
       "      <td>0.008110</td>\n",
       "      <td>0.073178</td>\n",
       "      <td>0.077675</td>\n",
       "      <td>0.080208</td>\n",
       "      <td>0.080606</td>\n",
       "      <td>0.082958</td>\n",
       "      <td>-0.102290</td>\n",
       "    </tr>\n",
       "    <tr>\n",
       "      <th>7</th>\n",
       "      <td>DOID:1936</td>\n",
       "      <td>22846</td>\n",
       "      <td>1</td>\n",
       "      <td>1</td>\n",
       "      <td>3.799695e-01</td>\n",
       "      <td>1.528825</td>\n",
       "      <td>1.291256</td>\n",
       "      <td>-1</td>\n",
       "      <td>0.172828</td>\n",
       "      <td>0.012048</td>\n",
       "      <td>0.172828</td>\n",
       "      <td>0.172828</td>\n",
       "      <td>0.172828</td>\n",
       "      <td>0.172828</td>\n",
       "      <td>0.172828</td>\n",
       "      <td>-0.020213</td>\n",
       "    </tr>\n",
       "    <tr>\n",
       "      <th>8</th>\n",
       "      <td>DOID:2377</td>\n",
       "      <td>10804</td>\n",
       "      <td>2</td>\n",
       "      <td>2</td>\n",
       "      <td>2.619467e-02</td>\n",
       "      <td>4.934903</td>\n",
       "      <td>0.613036</td>\n",
       "      <td>-1</td>\n",
       "      <td>0.087173</td>\n",
       "      <td>0.023758</td>\n",
       "      <td>0.081853</td>\n",
       "      <td>0.083981</td>\n",
       "      <td>0.086109</td>\n",
       "      <td>0.088237</td>\n",
       "      <td>0.090365</td>\n",
       "      <td>-0.018946</td>\n",
       "    </tr>\n",
       "    <tr>\n",
       "      <th>9</th>\n",
       "      <td>DOID:14227</td>\n",
       "      <td>83844</td>\n",
       "      <td>13</td>\n",
       "      <td>8</td>\n",
       "      <td>5.753071e-42</td>\n",
       "      <td>4841.654246</td>\n",
       "      <td>0.009900</td>\n",
       "      <td>1</td>\n",
       "      <td>0.206593</td>\n",
       "      <td>0.150682</td>\n",
       "      <td>0.071549</td>\n",
       "      <td>0.083113</td>\n",
       "      <td>0.084878</td>\n",
       "      <td>0.086511</td>\n",
       "      <td>0.135542</td>\n",
       "      <td>0.538260</td>\n",
       "    </tr>\n",
       "  </tbody>\n",
       "</table>\n",
       "</div>"
      ],
      "text/plain": [
       "   disease_id  gene_id  sentence_count  doc_num       p_value   odds_ratio  \\\n",
       "0  DOID:12849     3569              38       18  9.995228e-01     0.617773   \n",
       "1   DOID:3070      567              16       11  1.000000e+00     0.192395   \n",
       "2   DOID:1324     6647              28       13  1.000000e+00     0.142479   \n",
       "3   DOID:3121     2353               5        1  4.840916e-02     2.319352   \n",
       "4  DOID:10652     5520               3        2  7.655809e-02     2.601331   \n",
       "5   DOID:5041   319100               6        2  3.238321e-08    24.599058   \n",
       "6   DOID:2531     6400               4        1  8.555222e-01     0.674023   \n",
       "7   DOID:1936    22846               1        1  3.799695e-01     1.528825   \n",
       "8   DOID:2377    10804               2        2  2.619467e-02     4.934903   \n",
       "9  DOID:14227    83844              13        8  5.753071e-42  4841.654246   \n",
       "\n",
       "   expected_sen  hetnet_labels  avg_marginal  final_model_pred  quantile_zero  \\\n",
       "0     62.795531              1      0.572253          0.173056       0.057443   \n",
       "1     86.200979             -1      0.083130          0.004616       0.076999   \n",
       "2    194.551269             -1      0.371562          0.002645       0.073665   \n",
       "3      2.589809             -1      0.086660          0.176227       0.079303   \n",
       "4      1.549830             -1      0.567257          0.075174       0.093024   \n",
       "5      0.301847             -1      0.086803          0.026659       0.083442   \n",
       "6      6.909290             -1      0.084754          0.008110       0.073178   \n",
       "7      1.291256             -1      0.172828          0.012048       0.172828   \n",
       "8      0.613036             -1      0.087173          0.023758       0.081853   \n",
       "9      0.009900              1      0.206593          0.150682       0.071549   \n",
       "\n",
       "   quantile_twenty  quantile_forty  quantile_sixty  quantile_eighty  lower_ci  \n",
       "0         0.246951        0.484126        0.773133         0.898218 -0.001252  \n",
       "1         0.080302        0.081056        0.082545         0.085014 -0.025416  \n",
       "2         0.087599        0.095345        0.130062         0.896128 -0.044854  \n",
       "3         0.083052        0.084625        0.086648         0.090420 -0.000705  \n",
       "4         0.093384        0.473634        0.913429         0.913594 -0.022814  \n",
       "5         0.083687        0.084111        0.085787         0.089258  0.020276  \n",
       "6         0.077675        0.080208        0.080606         0.082958 -0.102290  \n",
       "7         0.172828        0.172828        0.172828         0.172828 -0.020213  \n",
       "8         0.083981        0.086109        0.088237         0.090365 -0.018946  \n",
       "9         0.083113        0.084878        0.086511         0.135542  0.538260  "
      ]
     },
     "execution_count": 43,
     "metadata": {},
     "output_type": "execute_result"
    }
   ],
   "source": [
    "candidate_df.head(10)"
   ]
  },
  {
   "cell_type": "code",
   "execution_count": 37,
   "metadata": {
    "collapsed": true
   },
   "outputs": [],
   "source": [
    "candidate_marginals = (\n",
    "                        train_sentences_df[[\"disease_id\", \"gene_id\", \"marginals\"]]\n",
    "                        .append(dev_sentences_df[[\"disease_id\", \"gene_id\", \"marginals\"]])\n",
    "                        .append(test_sentences_df[[\"disease_id\", \"gene_id\", \"marginals\"]])\n",
    "                      )"
   ]
  },
  {
   "cell_type": "code",
   "execution_count": 42,
   "metadata": {
    "scrolled": true
   },
   "outputs": [
    {
     "name": "stderr",
     "output_type": "stream",
     "text": [
      "150280it [02:32, 984.41it/s] \n"
     ]
    }
   ],
   "source": [
    "group = candidate_marginals.groupby([\"disease_id\", \"gene_id\"])\n",
    "quantile_zero = []\n",
    "quantile_twenty = []\n",
    "quantile_forty = []\n",
    "quantile_sixty = []\n",
    "quantile_eighty = []\n",
    "avg_marginals = []\n",
    "\n",
    "for i, cand in tqdm.tqdm(candidate_df[[\"disease_id\", \"gene_id\"]].iterrows()):\n",
    "    dg_series = group.get_group((cand[\"disease_id\"], cand[\"gene_id\"]))\n",
    "    avg_marginals.append(dg_series[\"marginals\"].mean())\n",
    "    quantile_zero.append(dg_series[\"marginals\"].quantile(0))\n",
    "    quantile_twenty.append(dg_series[\"marginals\"].quantile(0.2))\n",
    "    quantile_forty.append(dg_series[\"marginals\"].quantile(0.4))\n",
    "    quantile_sixty.append(dg_series[\"marginals\"].quantile(0.6))\n",
    "    quantile_eighty.append(dg_series[\"marginals\"].quantile(0.8))\n",
    "\n",
    "# Save the evidence into a dataframe\n",
    "candidate_df[\"quantile_zero\"] = quantile_zero\n",
    "candidate_df[\"quantile_twenty\"] = quantile_twenty\n",
    "candidate_df[\"quantile_forty\"] = quantile_forty\n",
    "candidate_df[\"quantile_sixty\"] = quantile_sixty\n",
    "candidate_df[\"quantile_eighty\"] = quantile_eighty\n",
    "candidate_df[\"avg_marginal\"] = avg_marginals"
   ]
  },
  {
   "cell_type": "markdown",
   "metadata": {},
   "source": [
    "## Save the data to a file"
   ]
  },
  {
   "cell_type": "code",
   "execution_count": 44,
   "metadata": {
    "collapsed": true
   },
   "outputs": [],
   "source": [
    "candidate_df.to_csv(\"disease_gene_summary_stats.csv\", index=False)"
   ]
  }
 ],
 "metadata": {
  "kernelspec": {
   "display_name": "Python 2",
   "language": "python",
   "name": "python2"
  },
  "language_info": {
   "codemirror_mode": {
    "name": "ipython",
    "version": 2
   },
   "file_extension": ".py",
   "mimetype": "text/x-python",
   "name": "python",
   "nbconvert_exporter": "python",
   "pygments_lexer": "ipython2",
   "version": "2.7.13"
  }
 },
 "nbformat": 4,
 "nbformat_minor": 2
}
