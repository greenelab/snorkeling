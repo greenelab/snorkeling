{
 "cells": [
  {
   "cell_type": "markdown",
   "metadata": {},
   "source": [
    "# Re-Organize the Candidates"
   ]
  },
  {
   "cell_type": "markdown",
   "metadata": {},
   "source": [
    "From the [previous notebook](1.data-loader.ipynb) we aim to stratify the candidates into the appropiate categories (training, development, test). This part is easy because the only intensive operation is to update rows in a database. "
   ]
  },
  {
   "cell_type": "code",
   "execution_count": 1,
   "metadata": {
    "ExecuteTime": {
     "end_time": "2018-07-31T15:00:38.604525Z",
     "start_time": "2018-07-31T15:00:38.272706Z"
    }
   },
   "outputs": [],
   "source": [
    "%load_ext autoreload\n",
    "%autoreload 2\n",
    "%matplotlib inline\n",
    "\n",
    "#Imports\n",
    "import csv\n",
    "import os\n",
    "import random\n",
    "\n",
    "import numpy as np\n",
    "import pandas as pd\n",
    "from tqdm import tqdm_notebook"
   ]
  },
  {
   "cell_type": "code",
   "execution_count": 2,
   "metadata": {
    "ExecuteTime": {
     "end_time": "2018-07-31T15:00:38.781847Z",
     "start_time": "2018-07-31T15:00:38.606044Z"
    }
   },
   "outputs": [],
   "source": [
    "#Set up the environment\n",
    "username = \"danich1\"\n",
    "password = \"snorkel\"\n",
    "dbname = \"pubmeddb\"\n",
    "\n",
    "#Path subject to change for different os\n",
    "database_str = \"postgresql+psycopg2://{}:{}@/{}?host=/var/run/postgresql\".format(username, password, dbname)\n",
    "os.environ['SNORKELDB'] = database_str\n",
    "\n",
    "from snorkel import SnorkelSession\n",
    "session = SnorkelSession()"
   ]
  },
  {
   "cell_type": "code",
   "execution_count": 3,
   "metadata": {
    "ExecuteTime": {
     "end_time": "2018-07-31T15:00:38.794578Z",
     "start_time": "2018-07-31T15:00:38.783519Z"
    }
   },
   "outputs": [],
   "source": [
    "from snorkel.models import  candidate_subclass, Candidate"
   ]
  },
  {
   "cell_type": "markdown",
   "metadata": {},
   "source": [
    "# Make All Possible Disease-Gene Pairs"
   ]
  },
  {
   "cell_type": "markdown",
   "metadata": {},
   "source": [
    "In this section of the notebook we plan to take the cartesian product between disease ontology terms and entrez gene terms. This product will contain all possible pair mapping between diseases and genes."
   ]
  },
  {
   "cell_type": "code",
   "execution_count": null,
   "metadata": {
    "ExecuteTime": {
     "end_time": "2018-07-30T17:15:46.734379Z",
     "start_time": "2018-07-30T17:15:46.679115Z"
    }
   },
   "outputs": [],
   "source": [
    "#url = 'https://raw.githubusercontent.com/dhimmel/disease-ontology/052ffcc960f5897a0575f5feff904ca84b7d2c1d/data/xrefs-prop-slim.tsv'\n",
    "#disease_ontology_df = pd.read_csv(url, sep=\"\\t\")\n",
    "#disease_ontology_df = (\n",
    "#    disease_ontology_df\n",
    "#    .drop_duplicates([\"doid_code\", \"doid_name\"])\n",
    "#    .rename(columns={'doid_code': 'doid_id'})\n",
    "#)"
   ]
  },
  {
   "cell_type": "code",
   "execution_count": 4,
   "metadata": {
    "ExecuteTime": {
     "end_time": "2018-07-31T15:00:45.073768Z",
     "start_time": "2018-07-31T15:00:44.702675Z"
    }
   },
   "outputs": [
    {
     "data": {
      "text/html": [
       "<div>\n",
       "<style scoped>\n",
       "    .dataframe tbody tr th:only-of-type {\n",
       "        vertical-align: middle;\n",
       "    }\n",
       "\n",
       "    .dataframe tbody tr th {\n",
       "        vertical-align: top;\n",
       "    }\n",
       "\n",
       "    .dataframe thead th {\n",
       "        text-align: right;\n",
       "    }\n",
       "</style>\n",
       "<table border=\"1\" class=\"dataframe\">\n",
       "  <thead>\n",
       "    <tr style=\"text-align: right;\">\n",
       "      <th></th>\n",
       "      <th>drugbank_id</th>\n",
       "      <th>name</th>\n",
       "      <th>type</th>\n",
       "      <th>groups</th>\n",
       "      <th>atc_codes</th>\n",
       "      <th>categories</th>\n",
       "      <th>inchikey</th>\n",
       "      <th>inchi</th>\n",
       "      <th>description</th>\n",
       "    </tr>\n",
       "  </thead>\n",
       "  <tbody>\n",
       "    <tr>\n",
       "      <th>0</th>\n",
       "      <td>DB00001</td>\n",
       "      <td>Lepirudin</td>\n",
       "      <td>biotech</td>\n",
       "      <td>approved</td>\n",
       "      <td>B01AE02</td>\n",
       "      <td>Antithrombins|Fibrinolytic Agents</td>\n",
       "      <td>NaN</td>\n",
       "      <td>NaN</td>\n",
       "      <td>Lepirudin is identical to natural hirudin exce...</td>\n",
       "    </tr>\n",
       "    <tr>\n",
       "      <th>1</th>\n",
       "      <td>DB00002</td>\n",
       "      <td>Cetuximab</td>\n",
       "      <td>biotech</td>\n",
       "      <td>approved</td>\n",
       "      <td>L01XC06</td>\n",
       "      <td>Antineoplastic Agents</td>\n",
       "      <td>NaN</td>\n",
       "      <td>NaN</td>\n",
       "      <td>Epidermal growth factor receptor binding FAB. ...</td>\n",
       "    </tr>\n",
       "  </tbody>\n",
       "</table>\n",
       "</div>"
      ],
      "text/plain": [
       "  drugbank_id       name     type    groups atc_codes  \\\n",
       "0     DB00001  Lepirudin  biotech  approved   B01AE02   \n",
       "1     DB00002  Cetuximab  biotech  approved   L01XC06   \n",
       "\n",
       "                          categories inchikey inchi  \\\n",
       "0  Antithrombins|Fibrinolytic Agents      NaN   NaN   \n",
       "1              Antineoplastic Agents      NaN   NaN   \n",
       "\n",
       "                                         description  \n",
       "0  Lepirudin is identical to natural hirudin exce...  \n",
       "1  Epidermal growth factor receptor binding FAB. ...  "
      ]
     },
     "execution_count": 4,
     "metadata": {},
     "output_type": "execute_result"
    }
   ],
   "source": [
    "url = \"https://raw.githubusercontent.com/dhimmel/drugbank/7b94454b14a2fa4bb9387cb3b4b9924619cfbd3e/data/drugbank.tsv\"\n",
    "compound_df = pd.read_csv(url, sep=\"\\t\")\n",
    "compound_df.head(2)"
   ]
  },
  {
   "cell_type": "code",
   "execution_count": 5,
   "metadata": {
    "ExecuteTime": {
     "end_time": "2018-07-31T15:00:45.560814Z",
     "start_time": "2018-07-31T15:00:45.075290Z"
    }
   },
   "outputs": [
    {
     "data": {
      "text/html": [
       "<div>\n",
       "<style scoped>\n",
       "    .dataframe tbody tr th:only-of-type {\n",
       "        vertical-align: middle;\n",
       "    }\n",
       "\n",
       "    .dataframe tbody tr th {\n",
       "        vertical-align: top;\n",
       "    }\n",
       "\n",
       "    .dataframe thead th {\n",
       "        text-align: right;\n",
       "    }\n",
       "</style>\n",
       "<table border=\"1\" class=\"dataframe\">\n",
       "  <thead>\n",
       "    <tr style=\"text-align: right;\">\n",
       "      <th></th>\n",
       "      <th>entrez_gene_id</th>\n",
       "      <th>gene_symbol</th>\n",
       "    </tr>\n",
       "  </thead>\n",
       "  <tbody>\n",
       "    <tr>\n",
       "      <th>0</th>\n",
       "      <td>1</td>\n",
       "      <td>A1BG</td>\n",
       "    </tr>\n",
       "    <tr>\n",
       "      <th>1</th>\n",
       "      <td>2</td>\n",
       "      <td>A2M</td>\n",
       "    </tr>\n",
       "  </tbody>\n",
       "</table>\n",
       "</div>"
      ],
      "text/plain": [
       "  entrez_gene_id gene_symbol\n",
       "0              1        A1BG\n",
       "1              2         A2M"
      ]
     },
     "execution_count": 5,
     "metadata": {},
     "output_type": "execute_result"
    }
   ],
   "source": [
    "url = 'https://raw.githubusercontent.com/dhimmel/entrez-gene/a7362748a34211e5df6f2d185bb3246279760546/data/genes-human.tsv'\n",
    "gene_entrez_df = pd.read_table(url, dtype={'GeneID': str})\n",
    "gene_entrez_df = (\n",
    "    gene_entrez_df\n",
    "    [[\"GeneID\", \"Symbol\"]]\n",
    "    .rename(columns={'GeneID': 'entrez_gene_id', 'Symbol': 'gene_symbol'})\n",
    ")\n",
    "gene_entrez_df.head(2)"
   ]
  },
  {
   "cell_type": "code",
   "execution_count": 6,
   "metadata": {
    "ExecuteTime": {
     "end_time": "2018-07-31T15:01:42.764803Z",
     "start_time": "2018-07-31T15:00:45.562558Z"
    }
   },
   "outputs": [
    {
     "data": {
      "text/html": [
       "<div>\n",
       "<style scoped>\n",
       "    .dataframe tbody tr th:only-of-type {\n",
       "        vertical-align: middle;\n",
       "    }\n",
       "\n",
       "    .dataframe tbody tr th {\n",
       "        vertical-align: top;\n",
       "    }\n",
       "\n",
       "    .dataframe thead th {\n",
       "        text-align: right;\n",
       "    }\n",
       "</style>\n",
       "<table border=\"1\" class=\"dataframe\">\n",
       "  <thead>\n",
       "    <tr style=\"text-align: right;\">\n",
       "      <th></th>\n",
       "      <th>entrez_gene_id</th>\n",
       "      <th>gene_symbol</th>\n",
       "      <th>drugbank_id</th>\n",
       "      <th>name</th>\n",
       "    </tr>\n",
       "  </thead>\n",
       "  <tbody>\n",
       "    <tr>\n",
       "      <th>0</th>\n",
       "      <td>1</td>\n",
       "      <td>A1BG</td>\n",
       "      <td>DB00001</td>\n",
       "      <td>Lepirudin</td>\n",
       "    </tr>\n",
       "    <tr>\n",
       "      <th>1</th>\n",
       "      <td>1</td>\n",
       "      <td>A1BG</td>\n",
       "      <td>DB00002</td>\n",
       "      <td>Cetuximab</td>\n",
       "    </tr>\n",
       "  </tbody>\n",
       "</table>\n",
       "</div>"
      ],
      "text/plain": [
       "  entrez_gene_id gene_symbol drugbank_id       name\n",
       "0              1        A1BG     DB00001  Lepirudin\n",
       "1              1        A1BG     DB00002  Cetuximab"
      ]
     },
     "execution_count": 6,
     "metadata": {},
     "output_type": "execute_result"
    }
   ],
   "source": [
    "gene_entrez_df['dummy_key'] = 0\n",
    "#disease_ontology_df['dummy_key'] = 0\n",
    "compound_df['dummy_key'] = 0\n",
    "pair_df = gene_entrez_df.merge(compound_df[[\"drugbank_id\", \"name\", \"dummy_key\"]], on='dummy_key').drop('dummy_key', axis=1)\n",
    "pair_df.head(2)"
   ]
  },
  {
   "cell_type": "code",
   "execution_count": 7,
   "metadata": {
    "ExecuteTime": {
     "end_time": "2018-07-31T15:13:20.002392Z",
     "start_time": "2018-07-31T15:01:42.766548Z"
    }
   },
   "outputs": [],
   "source": [
    "pair_df.to_csv(\"data/compound-gene-pairs-binds-full-map.csv\", index=False, float_format='%.5g')"
   ]
  },
  {
   "cell_type": "markdown",
   "metadata": {},
   "source": [
    "## Label All Pairs Whether or Not They are in Hetnets"
   ]
  },
  {
   "cell_type": "markdown",
   "metadata": {},
   "source": [
    "Here is where determine which disease - gene pair are located in hetionet. Pairs that have a source as a reference are considered to be apart of hetionet. "
   ]
  },
  {
   "cell_type": "code",
   "execution_count": null,
   "metadata": {
    "ExecuteTime": {
     "end_time": "2018-07-30T17:56:20.780925Z",
     "start_time": "2018-07-30T17:56:20.316407Z"
    }
   },
   "outputs": [],
   "source": [
    "#url = \"https://github.com/dhimmel/integrate/raw/93feba1765fbcd76fd79e22f25121f5399629148/compile/DaG-association.tsv\"\n",
    "url = \"https://raw.githubusercontent.com/dhimmel/integrate/93feba1765fbcd76fd79e22f25121f5399629148/compile/CbG-binding.tsv\"\n",
    "dag_df = pd.read_table(url, dtype={'entrez_gene_id': str})\n",
    "dag_df.head(2)"
   ]
  },
  {
   "cell_type": "code",
   "execution_count": null,
   "metadata": {
    "ExecuteTime": {
     "end_time": "2018-07-30T16:58:58.093474Z",
     "start_time": "2018-07-30T16:56:41.770002Z"
    }
   },
   "outputs": [],
   "source": [
    "dg_map_df = pair_df.merge(dag_df[[\"drugbank_id\", \"entrez_gene_id\", \"sources\"]], how='left')\n",
    "dg_map_df['hetionet'] = dg_map_df.sources.notnull().astype(int)\n",
    "dg_map_df.head(2)"
   ]
  },
  {
   "cell_type": "code",
   "execution_count": null,
   "metadata": {
    "ExecuteTime": {
     "end_time": "2018-07-30T16:48:39.843435Z",
     "start_time": "2018-07-30T16:48:36.236539Z"
    }
   },
   "outputs": [],
   "source": [
    "dg_map_df.hetionet.value_counts()"
   ]
  },
  {
   "cell_type": "markdown",
   "metadata": {},
   "source": [
    "## See If D-G Pair is in Pubmed"
   ]
  },
  {
   "cell_type": "markdown",
   "metadata": {},
   "source": [
    "In this section we determine if a disease-gene pair is in our database. The resulting dataframe will contain the total number of sentences that each pair may have in pubmed and a boolean to recognize sentences that are greater than or equal to 0."
   ]
  },
  {
   "cell_type": "code",
   "execution_count": null,
   "metadata": {
    "ExecuteTime": {
     "end_time": "2018-07-30T16:48:49.974176Z",
     "start_time": "2018-07-30T16:48:39.845263Z"
    }
   },
   "outputs": [],
   "source": [
    "query = '''\n",
    "SELECT \"Disease_cid\" AS doid_id, \"Gene_cid\" AS entrez_gene_id, count(*) AS n_sentences\n",
    "FROM disease_gene\n",
    "GROUP BY \"Disease_cid\", \"Gene_cid\";\n",
    "'''\n",
    "sentence_count_df = pd.read_sql(query, database_str)\n",
    "sentence_count_df.head(2)"
   ]
  },
  {
   "cell_type": "code",
   "execution_count": null,
   "metadata": {
    "ExecuteTime": {
     "end_time": "2018-07-30T16:48:49.974886Z",
     "start_time": "2018-07-30T16:45:28.912Z"
    },
    "scrolled": true
   },
   "outputs": [],
   "source": [
    "dg_map_df = dg_map_df.merge(sentence_count_df, how='left')\n",
    "dg_map_df.n_sentences = dg_map_df.n_sentences.fillna(0).astype(int)\n",
    "dg_map_df['has_sentence'] = (dg_map_df.n_sentences > 0).astype(int)\n",
    "dg_map_df.head(2)"
   ]
  },
  {
   "cell_type": "code",
   "execution_count": null,
   "metadata": {
    "ExecuteTime": {
     "end_time": "2018-07-30T16:48:49.975732Z",
     "start_time": "2018-07-30T16:45:28.913Z"
    }
   },
   "outputs": [],
   "source": [
    "dg_map_df.has_sentence.value_counts()"
   ]
  },
  {
   "cell_type": "markdown",
   "metadata": {},
   "source": [
    "# See if Compound-gene pair is in Pubmed"
   ]
  },
  {
   "cell_type": "code",
   "execution_count": 8,
   "metadata": {
    "ExecuteTime": {
     "end_time": "2018-07-31T15:20:13.762113Z",
     "start_time": "2018-07-31T15:20:04.580379Z"
    }
   },
   "outputs": [
    {
     "data": {
      "text/html": [
       "<div>\n",
       "<style scoped>\n",
       "    .dataframe tbody tr th:only-of-type {\n",
       "        vertical-align: middle;\n",
       "    }\n",
       "\n",
       "    .dataframe tbody tr th {\n",
       "        vertical-align: top;\n",
       "    }\n",
       "\n",
       "    .dataframe thead th {\n",
       "        text-align: right;\n",
       "    }\n",
       "</style>\n",
       "<table border=\"1\" class=\"dataframe\">\n",
       "  <thead>\n",
       "    <tr style=\"text-align: right;\">\n",
       "      <th></th>\n",
       "      <th>drugbank_id</th>\n",
       "      <th>entrez_gene_id</th>\n",
       "      <th>n_sentences</th>\n",
       "    </tr>\n",
       "  </thead>\n",
       "  <tbody>\n",
       "    <tr>\n",
       "      <th>0</th>\n",
       "      <td>DB00001</td>\n",
       "      <td>2147</td>\n",
       "      <td>13</td>\n",
       "    </tr>\n",
       "    <tr>\n",
       "      <th>1</th>\n",
       "      <td>DB00001</td>\n",
       "      <td>2153</td>\n",
       "      <td>1</td>\n",
       "    </tr>\n",
       "  </tbody>\n",
       "</table>\n",
       "</div>"
      ],
      "text/plain": [
       "  drugbank_id  entrez_gene_id  n_sentences\n",
       "0     DB00001            2147           13\n",
       "1     DB00001            2153            1"
      ]
     },
     "execution_count": 8,
     "metadata": {},
     "output_type": "execute_result"
    }
   ],
   "source": [
    "query = '''\n",
    "SELECT \"Compound_cid\" AS drugbank_id, \"Gene_cid\" AS entrez_gene_id, count(*) AS n_sentences\n",
    "FROM compound_gene\n",
    "GROUP BY \"Compound_cid\", \"Gene_cid\";\n",
    "'''\n",
    "sentence_count_df = (\n",
    "    pd.read_sql(query, database_str)\n",
    "    .astype(dtype={'entrez_gene_id': int})\n",
    ")\n",
    "sentence_count_df.head(2)"
   ]
  },
  {
   "cell_type": "code",
   "execution_count": 9,
   "metadata": {
    "ExecuteTime": {
     "end_time": "2018-07-31T15:20:14.472584Z",
     "start_time": "2018-07-31T15:20:13.763657Z"
    }
   },
   "outputs": [
    {
     "data": {
      "text/html": [
       "<div>\n",
       "<style scoped>\n",
       "    .dataframe tbody tr th:only-of-type {\n",
       "        vertical-align: middle;\n",
       "    }\n",
       "\n",
       "    .dataframe tbody tr th {\n",
       "        vertical-align: top;\n",
       "    }\n",
       "\n",
       "    .dataframe thead th {\n",
       "        text-align: right;\n",
       "    }\n",
       "</style>\n",
       "<table border=\"1\" class=\"dataframe\">\n",
       "  <thead>\n",
       "    <tr style=\"text-align: right;\">\n",
       "      <th></th>\n",
       "      <th>drugbank_id</th>\n",
       "      <th>entrez_gene_id</th>\n",
       "      <th>sources</th>\n",
       "      <th>pubmed_ids</th>\n",
       "      <th>actions</th>\n",
       "      <th>affinity_nM</th>\n",
       "      <th>license</th>\n",
       "      <th>urls</th>\n",
       "    </tr>\n",
       "  </thead>\n",
       "  <tbody>\n",
       "    <tr>\n",
       "      <th>0</th>\n",
       "      <td>DB00001</td>\n",
       "      <td>2147</td>\n",
       "      <td>DrugBank (target)</td>\n",
       "      <td>10505536|10912644|11055889|11467439|11752352|1...</td>\n",
       "      <td>inhibitor</td>\n",
       "      <td>NaN</td>\n",
       "      <td>CC BY-NC 4.0</td>\n",
       "      <td>NaN</td>\n",
       "    </tr>\n",
       "    <tr>\n",
       "      <th>1</th>\n",
       "      <td>DB00002</td>\n",
       "      <td>712</td>\n",
       "      <td>DrugBank (target)</td>\n",
       "      <td>17016423|17139284</td>\n",
       "      <td>NaN</td>\n",
       "      <td>NaN</td>\n",
       "      <td>CC BY-NC 4.0</td>\n",
       "      <td>NaN</td>\n",
       "    </tr>\n",
       "  </tbody>\n",
       "</table>\n",
       "</div>"
      ],
      "text/plain": [
       "  drugbank_id  entrez_gene_id            sources  \\\n",
       "0     DB00001            2147  DrugBank (target)   \n",
       "1     DB00002             712  DrugBank (target)   \n",
       "\n",
       "                                          pubmed_ids    actions  affinity_nM  \\\n",
       "0  10505536|10912644|11055889|11467439|11752352|1...  inhibitor          NaN   \n",
       "1                                  17016423|17139284        NaN          NaN   \n",
       "\n",
       "        license urls  \n",
       "0  CC BY-NC 4.0  NaN  \n",
       "1  CC BY-NC 4.0  NaN  "
      ]
     },
     "execution_count": 9,
     "metadata": {},
     "output_type": "execute_result"
    }
   ],
   "source": [
    "url = \"https://raw.githubusercontent.com/dhimmel/integrate/93feba1765fbcd76fd79e22f25121f5399629148/compile/CbG-binding.tsv\"\n",
    "dag_df = pd.read_table(url, dtype={'entrez_gene_id': int})\n",
    "dag_df.head(2)"
   ]
  },
  {
   "cell_type": "code",
   "execution_count": 13,
   "metadata": {
    "ExecuteTime": {
     "end_time": "2018-07-31T15:51:27.473759Z",
     "start_time": "2018-07-31T15:22:18.542747Z"
    }
   },
   "outputs": [
    {
     "data": {
      "application/vnd.jupyter.widget-view+json": {
       "model_id": "9918977be5a244889d6f40764f7b3544",
       "version_major": 2,
       "version_minor": 0
      },
      "text/html": [
       "<p>Failed to display Jupyter Widget of type <code>HBox</code>.</p>\n",
       "<p>\n",
       "  If you're reading this message in the Jupyter Notebook or JupyterLab Notebook, it may mean\n",
       "  that the widgets JavaScript is still loading. If this message persists, it\n",
       "  likely means that the widgets JavaScript library is either not installed or\n",
       "  not enabled. See the <a href=\"https://ipywidgets.readthedocs.io/en/stable/user_install.html\">Jupyter\n",
       "  Widgets Documentation</a> for setup instructions.\n",
       "</p>\n",
       "<p>\n",
       "  If you're reading this message in another frontend (for example, a static\n",
       "  rendering on GitHub or <a href=\"https://nbviewer.jupyter.org/\">NBViewer</a>),\n",
       "  it may mean that your frontend doesn't currently support widgets.\n",
       "</p>\n"
      ],
      "text/plain": [
       "HBox(children=(IntProgress(value=1, bar_style='info', max=1), HTML(value='')))"
      ]
     },
     "metadata": {},
     "output_type": "display_data"
    },
    {
     "name": "stdout",
     "output_type": "stream",
     "text": [
      "\n"
     ]
    }
   ],
   "source": [
    "for r in tqdm_notebook(pd.read_csv(\"data/compound-gene-pairs-binds-full-map.csv\", chunksize=1e6, dtype={'entrez_gene_id': int})):\n",
    "    merged_df = pd.merge(r, dag_df[[\"drugbank_id\", \"entrez_gene_id\", \"sources\"]], how=\"left\")\n",
    "    merged_df['hetionet'] = merged_df.sources.notnull().astype(int)\n",
    "    merged_df = merged_df.merge(sentence_count_df, how='left', copy=False)\n",
    "    merged_df.n_sentences = merged_df.n_sentences.fillna(0).astype(int)\n",
    "    merged_df['has_sentence'] = (merged_df.n_sentences > 0).astype(int)\n",
    "    merged_df.to_csv(\"data/compound-gene-pairs-binds-mapping.csv\", mode='a', index=False)"
   ]
  },
  {
   "cell_type": "code",
   "execution_count": 14,
   "metadata": {
    "ExecuteTime": {
     "end_time": "2018-07-31T15:51:45.012769Z",
     "start_time": "2018-07-31T15:51:44.508748Z"
    }
   },
   "outputs": [
    {
     "data": {
      "text/plain": [
       "0"
      ]
     },
     "execution_count": 14,
     "metadata": {},
     "output_type": "execute_result"
    }
   ],
   "source": [
    "os.system(\n",
    "    \"head -n 1 compound-gene-pairs-binds-mapping.csv > compound-gene-pairs-binds.csv;\" +\n",
    "    \"cat compound-gene-pairs-binds-mapping.csv |  awk -F ',' '{if($8==1) print $0}' >> compound-gene-pairs-binds.csv\"\n",
    ")"
   ]
  },
  {
   "cell_type": "code",
   "execution_count": 15,
   "metadata": {
    "ExecuteTime": {
     "end_time": "2018-07-31T15:54:26.507714Z",
     "start_time": "2018-07-31T15:54:26.315373Z"
    }
   },
   "outputs": [
    {
     "data": {
      "text/html": [
       "<div>\n",
       "<style scoped>\n",
       "    .dataframe tbody tr th:only-of-type {\n",
       "        vertical-align: middle;\n",
       "    }\n",
       "\n",
       "    .dataframe tbody tr th {\n",
       "        vertical-align: top;\n",
       "    }\n",
       "\n",
       "    .dataframe thead th {\n",
       "        text-align: right;\n",
       "    }\n",
       "</style>\n",
       "<table border=\"1\" class=\"dataframe\">\n",
       "  <thead>\n",
       "    <tr style=\"text-align: right;\">\n",
       "      <th></th>\n",
       "      <th>entrez_gene_id</th>\n",
       "      <th>gene_symbol</th>\n",
       "      <th>drugbank_id</th>\n",
       "      <th>name</th>\n",
       "      <th>sources</th>\n",
       "      <th>hetionet</th>\n",
       "      <th>n_sentences</th>\n",
       "      <th>has_sentence</th>\n",
       "    </tr>\n",
       "  </thead>\n",
       "  <tbody>\n",
       "    <tr>\n",
       "      <th>0</th>\n",
       "      <td>1</td>\n",
       "      <td>A1BG</td>\n",
       "      <td>DB00117</td>\n",
       "      <td>L-Histidine</td>\n",
       "      <td>NaN</td>\n",
       "      <td>0</td>\n",
       "      <td>1</td>\n",
       "      <td>1</td>\n",
       "    </tr>\n",
       "    <tr>\n",
       "      <th>1</th>\n",
       "      <td>1</td>\n",
       "      <td>A1BG</td>\n",
       "      <td>DB00143</td>\n",
       "      <td>Glutathione</td>\n",
       "      <td>NaN</td>\n",
       "      <td>0</td>\n",
       "      <td>1</td>\n",
       "      <td>1</td>\n",
       "    </tr>\n",
       "  </tbody>\n",
       "</table>\n",
       "</div>"
      ],
      "text/plain": [
       "   entrez_gene_id gene_symbol drugbank_id         name sources  hetionet  \\\n",
       "0               1        A1BG     DB00117  L-Histidine     NaN         0   \n",
       "1               1        A1BG     DB00143  Glutathione     NaN         0   \n",
       "\n",
       "   n_sentences  has_sentence  \n",
       "0            1             1  \n",
       "1            1             1  "
      ]
     },
     "execution_count": 15,
     "metadata": {},
     "output_type": "execute_result"
    }
   ],
   "source": [
    "dg_map_df = pd.read_csv(\"data/compound-gene-pairs-binds.csv\")\n",
    "dg_map_df.head(2)"
   ]
  },
  {
   "cell_type": "markdown",
   "metadata": {},
   "source": [
    "## Modify the Candidate split"
   ]
  },
  {
   "cell_type": "markdown",
   "metadata": {},
   "source": [
    "This code below changes the split column of the candidate table. This column is what separates each sentence candidate into the corresponding categories (training (0), dev (1), tes. "
   ]
  },
  {
   "cell_type": "code",
   "execution_count": 19,
   "metadata": {
    "ExecuteTime": {
     "end_time": "2018-07-31T15:55:48.933797Z",
     "start_time": "2018-07-31T15:55:48.804415Z"
    }
   },
   "outputs": [
    {
     "data": {
      "text/html": [
       "<div>\n",
       "<style scoped>\n",
       "    .dataframe tbody tr th:only-of-type {\n",
       "        vertical-align: middle;\n",
       "    }\n",
       "\n",
       "    .dataframe tbody tr th {\n",
       "        vertical-align: top;\n",
       "    }\n",
       "\n",
       "    .dataframe thead th {\n",
       "        text-align: right;\n",
       "    }\n",
       "</style>\n",
       "<table border=\"1\" class=\"dataframe\">\n",
       "  <thead>\n",
       "    <tr style=\"text-align: right;\">\n",
       "      <th></th>\n",
       "      <th>entrez_gene_id</th>\n",
       "      <th>gene_symbol</th>\n",
       "      <th>drugbank_id</th>\n",
       "      <th>name</th>\n",
       "      <th>sources</th>\n",
       "      <th>hetionet</th>\n",
       "      <th>n_sentences</th>\n",
       "      <th>has_sentence</th>\n",
       "      <th>partition_rank</th>\n",
       "    </tr>\n",
       "  </thead>\n",
       "  <tbody>\n",
       "    <tr>\n",
       "      <th>0</th>\n",
       "      <td>1</td>\n",
       "      <td>A1BG</td>\n",
       "      <td>DB00117</td>\n",
       "      <td>L-Histidine</td>\n",
       "      <td>NaN</td>\n",
       "      <td>0</td>\n",
       "      <td>1</td>\n",
       "      <td>1</td>\n",
       "      <td>0.377527</td>\n",
       "    </tr>\n",
       "    <tr>\n",
       "      <th>1</th>\n",
       "      <td>1</td>\n",
       "      <td>A1BG</td>\n",
       "      <td>DB00143</td>\n",
       "      <td>Glutathione</td>\n",
       "      <td>NaN</td>\n",
       "      <td>0</td>\n",
       "      <td>1</td>\n",
       "      <td>1</td>\n",
       "      <td>0.303524</td>\n",
       "    </tr>\n",
       "  </tbody>\n",
       "</table>\n",
       "</div>"
      ],
      "text/plain": [
       "   entrez_gene_id gene_symbol drugbank_id         name sources  hetionet  \\\n",
       "0               1        A1BG     DB00117  L-Histidine     NaN         0   \n",
       "1               1        A1BG     DB00143  Glutathione     NaN         0   \n",
       "\n",
       "   n_sentences  has_sentence  partition_rank  \n",
       "0            1             1        0.377527  \n",
       "1            1             1        0.303524  "
      ]
     },
     "execution_count": 19,
     "metadata": {},
     "output_type": "execute_result"
    }
   ],
   "source": [
    "def partitioner(df):\n",
    "    partition_rank = pd.np.linspace(0, 1, num=len(df), endpoint=False)\n",
    "    pd.np.random.shuffle(partition_rank)\n",
    "    df['partition_rank'] = partition_rank\n",
    "    return df\n",
    "\n",
    "pd.np.random.seed(100)\n",
    "dg_map_df = dg_map_df.groupby(['hetionet', 'has_sentence']).apply(partitioner)\n",
    "dg_map_df.head(2)"
   ]
  },
  {
   "cell_type": "code",
   "execution_count": 20,
   "metadata": {
    "ExecuteTime": {
     "end_time": "2018-07-31T15:55:49.049038Z",
     "start_time": "2018-07-31T15:55:48.935373Z"
    }
   },
   "outputs": [
    {
     "data": {
      "text/plain": [
       "6    206577\n",
       "7     59021\n",
       "8     29510\n",
       "Name: split, dtype: int64"
      ]
     },
     "execution_count": 20,
     "metadata": {},
     "output_type": "execute_result"
    }
   ],
   "source": [
    "def get_split(partition_rank, training=0.7, dev=0.2, test=0.1):\n",
    "    \"\"\"\n",
    "    This function partitions the data into training (0), dev (1), and test (2) sets\n",
    "    \"\"\"\n",
    "    if partition_rank < training:\n",
    "        return 6\n",
    "    partition_rank -= training\n",
    "    if partition_rank < dev:\n",
    "        return 7\n",
    "    partition_rank -= dev\n",
    "    assert partition_rank <= test\n",
    "    return 8\n",
    "\n",
    "dg_map_df['split'] = dg_map_df.partition_rank.map(get_split)\n",
    "dg_map_df.split.value_counts()"
   ]
  },
  {
   "cell_type": "code",
   "execution_count": 21,
   "metadata": {
    "ExecuteTime": {
     "end_time": "2018-07-31T15:55:50.303634Z",
     "start_time": "2018-07-31T15:55:49.050520Z"
    }
   },
   "outputs": [],
   "source": [
    "#dg_map_df.to_csv(\"data/disease-gene-pairs-association.csv.xz\", index=False, float_format='%.5g', compression='xz')\n",
    "dg_map_df.to_csv(\"data/compound-gene-pairs-binds.csv\", index=False, float_format='%.5g')"
   ]
  },
  {
   "cell_type": "code",
   "execution_count": 22,
   "metadata": {
    "ExecuteTime": {
     "end_time": "2018-07-31T15:55:50.325678Z",
     "start_time": "2018-07-31T15:55:50.305082Z"
    },
    "scrolled": true
   },
   "outputs": [
    {
     "data": {
      "text/plain": [
       "array([nan, 'DrugBank (target)', 'DrugBank (enzyme)',\n",
       "       'DrugBank (target)|DrugCentral (ChEMBL)', 'PubChem',\n",
       "       'ChEMBL|DrugBank (target)|DrugCentral (ChEMBL)|PubChem',\n",
       "       'ChEMBL|DrugBank (target)|DrugCentral (ChEMBL)', 'ChEMBL|PubChem',\n",
       "       'ChEMBL|DrugBank (target)', 'ChEMBL',\n",
       "       'DrugBank (enzyme)|DrugBank (target)', 'BindingDB|ChEMBL',\n",
       "       'BindingDB|ChEMBL|DrugBank (target)',\n",
       "       'BindingDB|ChEMBL|DrugBank (target)|DrugCentral (ChEMBL)',\n",
       "       'DrugCentral (ChEMBL)',\n",
       "       'BindingDB|ChEMBL|DrugBank (target)|DrugCentral (IUPHAR)',\n",
       "       'ChEMBL|DrugBank (enzyme)', 'BindingDB',\n",
       "       'ChEMBL|DrugBank (target)|DrugCentral (IUPHAR)|PDSP Ki',\n",
       "       'DrugBank (target)|PDSP Ki', 'ChEMBL|PDSP Ki',\n",
       "       'ChEMBL|DrugCentral (ChEMBL)', 'ChEMBL|DrugBank (target)|PDSP Ki',\n",
       "       'PDSP Ki', 'ChEMBL|DrugBank (target)|DrugCentral (ChEMBL)|PDSP Ki',\n",
       "       'DrugBank (target)|DrugCentral (IUPHAR)',\n",
       "       'DrugBank (target)|DrugCentral (literature)',\n",
       "       'DrugBank (target)|DrugCentral (label)|PDSP Ki',\n",
       "       'BindingDB|DrugBank (target)|DrugCentral (ChEMBL)',\n",
       "       'BindingDB|ChEMBL|DrugBank (target)|DrugCentral (label)',\n",
       "       'BindingDB|ChEMBL|DrugBank (target)|DrugCentral (KEGG DRUG)',\n",
       "       'DrugBank (target)|DrugCentral (ChEMBL)|PDSP Ki',\n",
       "       'BindingDB|DrugBank (target)|DrugCentral (IUPHAR)',\n",
       "       'DrugBank (target)|DrugCentral (label)',\n",
       "       'ChEMBL|DrugBank (target)|DrugCentral (label)',\n",
       "       'DrugCentral (IUPHAR)', 'BindingDB|DrugBank (target)',\n",
       "       'ChEMBL|DrugBank (target)|DrugCentral (literature)',\n",
       "       'DrugBank (carrier)',\n",
       "       'ChEMBL|DrugBank (target)|DrugCentral (IUPHAR)',\n",
       "       'DrugBank (transporter)', 'BindingDB|ChEMBL|DrugCentral (ChEMBL)',\n",
       "       'DrugCentral (literature)', 'ChEMBL|DrugBank (target)|PubChem',\n",
       "       'DrugBank (target)|DrugBank (transporter)',\n",
       "       'BindingDB|ChEMBL|PDSP Ki',\n",
       "       'DrugBank (enzyme)|DrugBank (target)|DrugCentral (ChEMBL)',\n",
       "       'ChEMBL|DrugCentral (ChEMBL)|PubChem',\n",
       "       'DrugBank (enzyme)|US Patent',\n",
       "       'ChEMBL|DrugBank (enzyme)|DrugCentral (label)',\n",
       "       'BindingDB|ChEMBL|DrugBank (enzyme)',\n",
       "       'ChEMBL|DrugBank (enzyme)|DrugBank (target)|DrugCentral (label)',\n",
       "       'BindingDB|ChEMBL|DrugCentral (label)',\n",
       "       'ChEMBL|DrugBank (enzyme)|DrugBank (target)|DrugCentral (ChEMBL)',\n",
       "       'ChEMBL|DrugBank (target)|DrugCentral (ChEMBL)|DrugCentral (literature)',\n",
       "       'BindingDB|ChEMBL|DrugBank (enzyme)|DrugBank (target)',\n",
       "       'BindingDB|ChEMBL|DrugBank (target)|DrugCentral (ChEMBL)|DrugCentral (label)',\n",
       "       'BindingDB|ChEMBL|DrugBank (target)|DrugCentral (ChEMBL)|PDSP Ki',\n",
       "       'DrugCentral (label)', 'ChEMBL|DrugBank (carrier)',\n",
       "       'ChEMBL|DrugBank (target)|DrugCentral (label)|PubChem',\n",
       "       'DrugBank (target)|DrugCentral (ChEMBL)|DrugCentral (IUPHAR)|PDSP Ki',\n",
       "       'DrugBank (target)|DrugCentral (ChEMBL)|DrugCentral (label)',\n",
       "       'ChEMBL|DrugBank (target)|DrugCentral (ChEMBL)|DrugCentral (label)',\n",
       "       'DrugBank (target)|DrugCentral (KEGG DRUG)',\n",
       "       'ChEMBL|DrugBank (target)|DrugCentral (literature)|PDSP Ki',\n",
       "       'ChEMBL|DrugBank (target)|DrugCentral (label)|PDSP Ki',\n",
       "       'ChEMBL|DrugBank (target)|DrugCentral (ChEMBL)|PDSP Ki|US Patent',\n",
       "       'BindingDB|ChEMBL|DrugBank (target)|DrugCentral (ChEMBL)|US Patent',\n",
       "       'ChEMBL|DrugBank (target)|DrugCentral (ChEMBL)|US Patent',\n",
       "       'ChEMBL|DrugBank (target)|PDSP Ki|US Patent',\n",
       "       'BindingDB|ChEMBL|DrugBank (target)|DrugCentral (IUPHAR)|PDSP Ki',\n",
       "       'DrugBank (target)|DrugCentral (IUPHAR)|PDSP Ki',\n",
       "       'ChEMBL|DrugBank (target)|US Patent',\n",
       "       'BindingDB|ChEMBL|DrugBank (target)|DrugCentral (ChEMBL)|DrugCentral (literature)',\n",
       "       'BindingDB|DrugBank (enzyme)|DrugBank (target)|DrugCentral (ChEMBL)',\n",
       "       'ChEMBL|DrugBank (enzyme)|DrugBank (target)|DrugCentral (IUPHAR)',\n",
       "       'ChEMBL|DrugBank (transporter)',\n",
       "       'ChEMBL|DrugBank (target)|PDSP Ki|PubChem',\n",
       "       'BindingDB|DrugCentral (ChEMBL)',\n",
       "       'DrugBank (target)|DrugCentral (ChEMBL)|DrugCentral (IUPHAR)',\n",
       "       'ChEMBL|DrugBank (enzyme)|DrugBank (target)|DrugCentral (ChEMBL)|PDSP Ki',\n",
       "       'ChEMBL|DrugCentral (label)|PubChem',\n",
       "       'BindingDB|ChEMBL|DrugBank (target)|PDSP Ki',\n",
       "       'BindingDB|DrugBank (target)|PDSP Ki',\n",
       "       'BindingDB|DrugBank (target)|DrugCentral (ChEMBL)|PDSP Ki',\n",
       "       'BindingDB|DrugBank (target)|DrugCentral (IUPHAR)|PDSP Ki',\n",
       "       'ChEMBL|DrugBank (target)|DrugBank (transporter)|DrugCentral (ChEMBL)|PDSP Ki',\n",
       "       'ChEMBL|DrugBank (transporter)|PDSP Ki',\n",
       "       'ChEMBL|DrugCentral (ChEMBL)|PDSP Ki',\n",
       "       'DrugBank (target)|DrugBank (transporter)|DrugCentral (ChEMBL)',\n",
       "       'ChEMBL|US Patent'], dtype=object)"
      ]
     },
     "execution_count": 22,
     "metadata": {},
     "output_type": "execute_result"
    }
   ],
   "source": [
    "dg_map_df.sources.unique()"
   ]
  },
  {
   "cell_type": "markdown",
   "metadata": {},
   "source": [
    "## Re-categorize The Candidates"
   ]
  },
  {
   "cell_type": "code",
   "execution_count": 32,
   "metadata": {
    "ExecuteTime": {
     "end_time": "2018-07-31T16:11:06.794185Z",
     "start_time": "2018-07-31T16:10:59.485355Z"
    }
   },
   "outputs": [
    {
     "data": {
      "text/html": [
       "<div>\n",
       "<style scoped>\n",
       "    .dataframe tbody tr th:only-of-type {\n",
       "        vertical-align: middle;\n",
       "    }\n",
       "\n",
       "    .dataframe tbody tr th {\n",
       "        vertical-align: top;\n",
       "    }\n",
       "\n",
       "    .dataframe thead th {\n",
       "        text-align: right;\n",
       "    }\n",
       "</style>\n",
       "<table border=\"1\" class=\"dataframe\">\n",
       "  <thead>\n",
       "    <tr style=\"text-align: right;\">\n",
       "      <th></th>\n",
       "      <th>id</th>\n",
       "      <th>type</th>\n",
       "      <th>split</th>\n",
       "    </tr>\n",
       "  </thead>\n",
       "  <tbody>\n",
       "    <tr>\n",
       "      <th>0</th>\n",
       "      <td>50509</td>\n",
       "      <td>compound_gene</td>\n",
       "      <td>6.0</td>\n",
       "    </tr>\n",
       "    <tr>\n",
       "      <th>1</th>\n",
       "      <td>50511</td>\n",
       "      <td>compound_gene</td>\n",
       "      <td>6.0</td>\n",
       "    </tr>\n",
       "  </tbody>\n",
       "</table>\n",
       "</div>"
      ],
      "text/plain": [
       "      id           type  split\n",
       "0  50509  compound_gene    6.0\n",
       "1  50511  compound_gene    6.0"
      ]
     },
     "execution_count": 32,
     "metadata": {},
     "output_type": "execute_result"
    }
   ],
   "source": [
    "sql = '''\n",
    "SELECT id, \"Compound_cid\" AS drugbank_id, \"Gene_cid\" AS entrez_gene_id \n",
    "FROM compound_gene\n",
    "'''\n",
    "candidate_df = (\n",
    "    pd.read_sql(sql, database_str)\n",
    "    .astype(dtype={'entrez_gene_id': int})\n",
    "    .merge(dg_map_df, how='left')\n",
    "    .assign(type='compound_gene')\n",
    "    [[\"id\", \"type\", \"split\"]]\n",
    "    .dropna(axis=0)\n",
    ")\n",
    "candidate_df.head(2)"
   ]
  },
  {
   "cell_type": "code",
   "execution_count": 35,
   "metadata": {
    "ExecuteTime": {
     "end_time": "2018-07-31T16:11:33.880861Z",
     "start_time": "2018-07-31T16:11:33.846130Z"
    }
   },
   "outputs": [
    {
     "data": {
      "text/plain": [
       "6.0    2169901\n",
       "7.0     573303\n",
       "8.0     279967\n",
       "Name: split, dtype: int64"
      ]
     },
     "execution_count": 35,
     "metadata": {},
     "output_type": "execute_result"
    }
   ],
   "source": [
    "candidate_df.split.value_counts()"
   ]
  },
  {
   "cell_type": "code",
   "execution_count": 36,
   "metadata": {
    "ExecuteTime": {
     "end_time": "2018-07-31T16:11:35.510301Z",
     "start_time": "2018-07-31T16:11:35.494022Z"
    }
   },
   "outputs": [
    {
     "data": {
      "text/plain": [
       "(3023171, 3)"
      ]
     },
     "execution_count": 36,
     "metadata": {},
     "output_type": "execute_result"
    }
   ],
   "source": [
    "candidate_df.shape"
   ]
  },
  {
   "cell_type": "markdown",
   "metadata": {},
   "source": [
    "### Update Candidate table in database with splits"
   ]
  },
  {
   "cell_type": "code",
   "execution_count": 37,
   "metadata": {
    "ExecuteTime": {
     "end_time": "2018-07-31T19:06:44.321960Z",
     "start_time": "2018-07-31T16:11:39.698687Z"
    }
   },
   "outputs": [
    {
     "name": "stdout",
     "output_type": "stream",
     "text": [
      "CPU times: user 6min 27s, sys: 1min 37s, total: 8min 4s\n",
      "Wall time: 2h 55min 4s\n"
     ]
    }
   ],
   "source": [
    "%%time\n",
    "session.bulk_update_mappings(\n",
    "    Candidate,\n",
    "    candidate_df.to_dict(orient='records')\n",
    ")"
   ]
  },
  {
   "cell_type": "code",
   "execution_count": 38,
   "metadata": {
    "ExecuteTime": {
     "end_time": "2018-07-31T19:24:40.476450Z",
     "start_time": "2018-07-31T19:24:31.082087Z"
    }
   },
   "outputs": [
    {
     "data": {
      "text/plain": [
       "True    3023171\n",
       "dtype: int64"
      ]
     },
     "execution_count": 38,
     "metadata": {},
     "output_type": "execute_result"
    }
   ],
   "source": [
    "from pandas.testing import assert_frame_equal\n",
    "sql = '''\n",
    "SELECT * FROM candidate\n",
    "WHERE type = 'compound_gene';\n",
    "'''\n",
    "db_df = pd.read_sql(sql, database_str).sort_values('id')\n",
    "compare_df = db_df.merge(candidate_df, on=['id', 'type'])\n",
    "(compare_df.split_x == compare_df.split_y).value_counts()"
   ]
  },
  {
   "cell_type": "code",
   "execution_count": 39,
   "metadata": {
    "ExecuteTime": {
     "end_time": "2018-07-31T19:24:45.588348Z",
     "start_time": "2018-07-31T19:24:45.552609Z"
    }
   },
   "outputs": [
    {
     "data": {
      "text/plain": [
       "6    2475892\n",
       "7     660189\n",
       "8     324064\n",
       "Name: split, dtype: int64"
      ]
     },
     "execution_count": 39,
     "metadata": {},
     "output_type": "execute_result"
    }
   ],
   "source": [
    "db_df.split.value_counts()"
   ]
  }
 ],
 "metadata": {
  "kernelspec": {
   "display_name": "Python [conda env:snorkeling]",
   "language": "python",
   "name": "conda-env-snorkeling-py"
  },
  "language_info": {
   "codemirror_mode": {
    "name": "ipython",
    "version": 3
   },
   "file_extension": ".py",
   "mimetype": "text/x-python",
   "name": "python",
   "nbconvert_exporter": "python",
   "pygments_lexer": "ipython3",
   "version": "3.6.4"
  }
 },
 "nbformat": 4,
 "nbformat_minor": 2
}
