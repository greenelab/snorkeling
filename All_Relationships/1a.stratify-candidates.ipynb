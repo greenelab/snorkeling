{
 "cells": [
  {
   "cell_type": "markdown",
   "metadata": {},
   "source": [
    "# Re-Organize the Candidates"
   ]
  },
  {
   "cell_type": "markdown",
   "metadata": {},
   "source": [
    "From the [previous notebook](1.data-loader.ipynb) we aim to stratify the candidates into the appropiate categories (training, development, test). Since the hard work (data insertion) was already done, this part is easy as it breaks down into relabeling the split column inside the Candidate table. The split column will be used throughout the rest of this pipeline."
   ]
  },
  {
   "cell_type": "code",
   "execution_count": 1,
   "metadata": {
    "collapsed": true
   },
   "outputs": [],
   "source": [
    "%load_ext autoreload\n",
    "%autoreload 2\n",
    "%matplotlib inline\n",
    "\n",
    "#Imports\n",
    "import csv\n",
    "import os\n",
    "import random\n",
    "\n",
    "import numpy as np\n",
    "import pandas as pd\n",
    "import tqdm"
   ]
  },
  {
   "cell_type": "code",
   "execution_count": 2,
   "metadata": {
    "collapsed": true
   },
   "outputs": [],
   "source": [
    "#Set up the environment\n",
    "username = \"danich1\"\n",
    "password = \"snorkel\"\n",
    "dbname = \"pubmeddb\"\n",
    "\n",
    "#Path subject to change for different os\n",
    "database_str = \"postgresql+psycopg2://{}:{}@/{}?host=/var/run/postgresql\".format(username, password, dbname)\n",
    "os.environ['SNORKELDB'] = database_str\n",
    "\n",
    "from snorkel import SnorkelSession\n",
    "session = SnorkelSession()"
   ]
  },
  {
   "cell_type": "code",
   "execution_count": 3,
   "metadata": {
    "collapsed": true
   },
   "outputs": [],
   "source": [
    "from snorkel.models import  candidate_subclass"
   ]
  },
  {
   "cell_type": "code",
   "execution_count": 4,
   "metadata": {
    "collapsed": true
   },
   "outputs": [],
   "source": [
    "#This specifies the type of candidates to extract\n",
    "DiseaseGene = candidate_subclass('DiseaseGene', ['Disease', 'Gene'])"
   ]
  },
  {
   "cell_type": "markdown",
   "metadata": {},
   "source": [
    "## Modify the Candidate split"
   ]
  },
  {
   "cell_type": "markdown",
   "metadata": {},
   "source": [
    "This code below changes the split column of the candidate table as mentioned above. Using sqlalchemy and the chunking strategy, every candidate that has the particular disease entity id (DOID:3393) will be given the category of 2. 2 Representes the testing set which will be used in the rest of the notebooks."
   ]
  },
  {
   "cell_type": "code",
   "execution_count": 9,
   "metadata": {},
   "outputs": [
    {
     "name": "stderr",
     "output_type": "stream",
     "text": [
      "100%|██████████| 100000/100000 [00:05<00:00, 17583.91it/s]\n",
      "100%|██████████| 100000/100000 [00:05<00:00, 17931.66it/s]\n",
      "100%|██████████| 100000/100000 [00:05<00:00, 18641.76it/s]\n",
      "100%|██████████| 100000/100000 [00:05<00:00, 17645.14it/s]\n",
      "100%|██████████| 100000/100000 [00:05<00:00, 17575.49it/s]\n",
      "100%|██████████| 100000/100000 [00:05<00:00, 17513.28it/s]\n",
      "100%|██████████| 100000/100000 [00:05<00:00, 17383.84it/s]\n",
      "100%|██████████| 100000/100000 [00:05<00:00, 17504.64it/s]\n",
      "100%|██████████| 100000/100000 [00:05<00:00, 17650.04it/s]\n",
      "100%|██████████| 100000/100000 [00:05<00:00, 17850.91it/s]\n",
      "100%|██████████| 100000/100000 [00:05<00:00, 17439.88it/s]\n",
      "100%|██████████| 100000/100000 [00:05<00:00, 18542.10it/s]\n",
      "100%|██████████| 100000/100000 [00:05<00:00, 18116.84it/s]\n",
      "100%|██████████| 100000/100000 [00:05<00:00, 18353.84it/s]\n",
      "100%|██████████| 100000/100000 [00:05<00:00, 17032.68it/s]\n",
      "100%|██████████| 100000/100000 [00:05<00:00, 17993.90it/s]\n",
      "100%|██████████| 100000/100000 [00:05<00:00, 17632.32it/s]\n",
      "100%|██████████| 100000/100000 [00:05<00:00, 18137.41it/s]\n",
      "100%|██████████| 100000/100000 [00:05<00:00, 18060.65it/s]\n",
      "100%|██████████| 100000/100000 [00:05<00:00, 18078.89it/s]\n",
      "100%|██████████| 100000/100000 [00:05<00:00, 17554.43it/s]\n",
      "100%|██████████| 100000/100000 [00:05<00:00, 17934.61it/s]\n",
      "100%|██████████| 100000/100000 [00:05<00:00, 18074.76it/s]\n",
      "100%|██████████| 100000/100000 [00:05<00:00, 17741.30it/s]\n",
      "100%|██████████| 100000/100000 [00:05<00:00, 19283.06it/s]\n",
      "100%|██████████| 100000/100000 [00:05<00:00, 18139.41it/s]\n",
      "100%|██████████| 100000/100000 [00:05<00:00, 17924.57it/s]\n",
      "100%|██████████| 100000/100000 [00:05<00:00, 18309.79it/s]\n",
      "100%|██████████| 100000/100000 [00:05<00:00, 18536.79it/s]\n",
      "100%|██████████| 100000/100000 [00:05<00:00, 18646.49it/s]\n",
      "100%|██████████| 100000/100000 [00:05<00:00, 17972.07it/s]\n",
      "100%|██████████| 100000/100000 [00:05<00:00, 18486.57it/s]\n",
      "100%|██████████| 100000/100000 [00:05<00:00, 18630.36it/s]\n",
      "100%|██████████| 100000/100000 [00:05<00:00, 18821.65it/s]\n",
      "100%|██████████| 100000/100000 [00:05<00:00, 18430.12it/s]\n",
      "100%|██████████| 100000/100000 [00:05<00:00, 17956.07it/s]\n",
      "100%|██████████| 100000/100000 [00:05<00:00, 18339.21it/s]\n",
      "100%|██████████| 100000/100000 [00:05<00:00, 18857.00it/s]\n",
      "100%|██████████| 30137/30137 [00:01<00:00, 17960.80it/s]\n"
     ]
    }
   ],
   "source": [
    "np.random.seed(100)\n",
    "cands = []\n",
    "chunk_size = 1e5\n",
    "offset = 0\n",
    "\n",
    "while True:\n",
    "    cands = session.query(DiseaseGene).limit(chunk_size).offset(offset).all()\n",
    "    \n",
    "    if not cands:\n",
    "        break\n",
    "        \n",
    "    for candidate in tqdm.tqdm(cands):\n",
    "        if candidate.Disease_cid == \"DOID:3393\":\n",
    "            candidate.split = 2\n",
    "        else:\n",
    "            split = np.random.choice([0,1], 1,  p=[0.8,0.2])\n",
    "            candidate.split = split[0]\n",
    "        \n",
    "        session.add(candidate)\n",
    "    \n",
    "    offset = offset + chunk_size\n",
    "# persist the changes into the database\n",
    "session.commit()"
   ]
  }
 ],
 "metadata": {
  "kernelspec": {
   "display_name": "Python 2",
   "language": "python",
   "name": "python2"
  },
  "language_info": {
   "codemirror_mode": {
    "name": "ipython",
    "version": 2
   },
   "file_extension": ".py",
   "mimetype": "text/x-python",
   "name": "python",
   "nbconvert_exporter": "python",
   "pygments_lexer": "ipython2",
   "version": "2.7.13"
  }
 },
 "nbformat": 4,
 "nbformat_minor": 2
}
