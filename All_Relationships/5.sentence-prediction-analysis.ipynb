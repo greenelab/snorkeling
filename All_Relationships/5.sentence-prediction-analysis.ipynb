{
 "cells": [
  {
   "cell_type": "markdown",
   "metadata": {},
   "source": [
    "# Lets See How The Disc Models Preformed"
   ]
  },
  {
   "cell_type": "markdown",
   "metadata": {},
   "source": [
    "This notebook is designed to analyze the disc models performance and to answer the question does Long Short Term Memory Neural Net (LSTM) outperform SparseLogisticRegression (SLR)."
   ]
  },
  {
   "cell_type": "markdown",
   "metadata": {},
   "source": [
    "## MUST RUN AT THE START OF EVERYTHING"
   ]
  },
  {
   "cell_type": "markdown",
   "metadata": {},
   "source": [
    "Load the database and other helpful functions for analysis."
   ]
  },
  {
   "cell_type": "code",
   "execution_count": 1,
   "metadata": {
    "ExecuteTime": {
     "end_time": "2018-08-01T02:47:18.036075Z",
     "start_time": "2018-08-01T02:47:13.254407Z"
    }
   },
   "outputs": [],
   "source": [
    "%load_ext autoreload\n",
    "%autoreload 2\n",
    "%matplotlib inline\n",
    "\n",
    "import csv\n",
    "import glob\n",
    "import os\n",
    "\n",
    "from IPython.core.display import display, HTML\n",
    "import matplotlib.pyplot as plt\n",
    "import numpy as np\n",
    "import re\n",
    "import pandas as pd\n",
    "from scipy.stats import norm\n",
    "import seaborn as sns\n",
    "from sklearn.metrics import average_precision_score, precision_recall_curve, roc_curve\n",
    "from sklearn.metrics import auc, f1_score, confusion_matrix\n",
    "import tqdm"
   ]
  },
  {
   "cell_type": "code",
   "execution_count": 2,
   "metadata": {
    "ExecuteTime": {
     "end_time": "2018-08-01T02:47:18.788759Z",
     "start_time": "2018-08-01T02:47:18.039944Z"
    }
   },
   "outputs": [],
   "source": [
    "#Set up the environment\n",
    "username = \"danich1\"\n",
    "password = \"snorkel\"\n",
    "dbname = \"pubmeddb\"\n",
    "\n",
    "#Path subject to change for different os\n",
    "database_str = \"postgresql+psycopg2://{}:{}@/{}?host=/var/run/postgresql\".format(username, password, dbname)\n",
    "os.environ['SNORKELDB'] = database_str\n",
    "\n",
    "from snorkel import SnorkelSession\n",
    "session = SnorkelSession()"
   ]
  },
  {
   "cell_type": "code",
   "execution_count": 3,
   "metadata": {
    "ExecuteTime": {
     "end_time": "2018-08-01T02:47:19.457544Z",
     "start_time": "2018-08-01T02:47:18.790232Z"
    }
   },
   "outputs": [],
   "source": [
    "from snorkel.annotations import FeatureAnnotator, LabelAnnotator, load_marginals\n",
    "from snorkel.models import Candidate, candidate_subclass\n",
    "from snorkel.viewer import SentenceNgramViewer"
   ]
  },
  {
   "cell_type": "code",
   "execution_count": 4,
   "metadata": {
    "ExecuteTime": {
     "end_time": "2018-08-01T02:47:19.498343Z",
     "start_time": "2018-08-01T02:47:19.463561Z"
    }
   },
   "outputs": [],
   "source": [
    "edge_type = \"dg\""
   ]
  },
  {
   "cell_type": "code",
   "execution_count": 5,
   "metadata": {
    "ExecuteTime": {
     "end_time": "2018-08-01T02:47:19.665944Z",
     "start_time": "2018-08-01T02:47:19.500614Z"
    }
   },
   "outputs": [],
   "source": [
    "if edge_type == \"dg\":\n",
    "    DiseaseGene = candidate_subclass('DiseaseGene', ['Disease', 'Gene'])\n",
    "elif edge_type == \"gg\":\n",
    "    GeneGene = candidate_subclass('GeneGene', ['Gene1', 'Gene2'])\n",
    "elif edge_type == \"cg\":\n",
    "    CompoundGene = candidate_subclass('CompoundGene', ['Compound', 'Gene'])\n",
    "elif edge_type == \"cd\":\n",
    "    CompoundDisease = candidate_subclass('CompoundDisease', ['Compound', 'Disease'])\n",
    "else:\n",
    "    print(\"Please pick a valid edge type\")"
   ]
  },
  {
   "cell_type": "markdown",
   "metadata": {},
   "source": [
    "# Load the data"
   ]
  },
  {
   "cell_type": "markdown",
   "metadata": {},
   "source": [
    "Here is where we load the test dataset in conjunction with the previously trained disc models. Each algorithm will output a probability of a candidate being a true candidate."
   ]
  },
  {
   "cell_type": "code",
   "execution_count": 6,
   "metadata": {
    "ExecuteTime": {
     "end_time": "2018-08-01T02:47:28.040673Z",
     "start_time": "2018-08-01T02:47:26.270581Z"
    }
   },
   "outputs": [
    {
     "data": {
      "text/html": [
       "<div>\n",
       "<style scoped>\n",
       "    .dataframe tbody tr th:only-of-type {\n",
       "        vertical-align: middle;\n",
       "    }\n",
       "\n",
       "    .dataframe tbody tr th {\n",
       "        vertical-align: top;\n",
       "    }\n",
       "\n",
       "    .dataframe thead th {\n",
       "        text-align: right;\n",
       "    }\n",
       "</style>\n",
       "<table border=\"1\" class=\"dataframe\">\n",
       "  <thead>\n",
       "    <tr style=\"text-align: right;\">\n",
       "      <th></th>\n",
       "      <th>candidate_id</th>\n",
       "      <th>disease</th>\n",
       "      <th>gene</th>\n",
       "      <th>doid_id</th>\n",
       "      <th>entrez_gene_id</th>\n",
       "      <th>sentence</th>\n",
       "      <th>label</th>\n",
       "      <th>doid_name</th>\n",
       "      <th>gene_symbol</th>\n",
       "      <th>LF_HETNET_DISEASES</th>\n",
       "      <th>...</th>\n",
       "      <th>LF_HETNET_ABSENT</th>\n",
       "      <th>LF_CHECK_GENE_TAG</th>\n",
       "      <th>LF_IS_BIOMARKER</th>\n",
       "      <th>LF_ASSOCIATION</th>\n",
       "      <th>LF_NO_ASSOCIATION</th>\n",
       "      <th>LF_NO_CONCLUSION</th>\n",
       "      <th>LF_DG_DISTANCE</th>\n",
       "      <th>LF_NO_VERB</th>\n",
       "      <th>curated_dsh</th>\n",
       "      <th>notes_dsh</th>\n",
       "    </tr>\n",
       "  </thead>\n",
       "  <tbody>\n",
       "    <tr>\n",
       "      <th>74</th>\n",
       "      <td>228511</td>\n",
       "      <td>AML</td>\n",
       "      <td>TNF alpha</td>\n",
       "      <td>DOID:2531</td>\n",
       "      <td>7124</td>\n",
       "      <td>However, addition of anti-TNF alpha (every 72 ...</td>\n",
       "      <td>0.286983</td>\n",
       "      <td>hematologic cancer</td>\n",
       "      <td>TNF</td>\n",
       "      <td>1</td>\n",
       "      <td>...</td>\n",
       "      <td>0</td>\n",
       "      <td>0</td>\n",
       "      <td>0</td>\n",
       "      <td>1</td>\n",
       "      <td>0</td>\n",
       "      <td>0</td>\n",
       "      <td>0</td>\n",
       "      <td>0</td>\n",
       "      <td>1.0</td>\n",
       "      <td>NaN</td>\n",
       "    </tr>\n",
       "    <tr>\n",
       "      <th>18</th>\n",
       "      <td>235489</td>\n",
       "      <td>non-Hodgkin's lymphomas</td>\n",
       "      <td>c-myc</td>\n",
       "      <td>DOID:0060073</td>\n",
       "      <td>4609</td>\n",
       "      <td>Steady state c-myc mRNA levels determined by N...</td>\n",
       "      <td>0.700525</td>\n",
       "      <td>lymphatic system cancer</td>\n",
       "      <td>MYC</td>\n",
       "      <td>0</td>\n",
       "      <td>...</td>\n",
       "      <td>-1</td>\n",
       "      <td>0</td>\n",
       "      <td>0</td>\n",
       "      <td>0</td>\n",
       "      <td>0</td>\n",
       "      <td>-1</td>\n",
       "      <td>0</td>\n",
       "      <td>0</td>\n",
       "      <td>0.0</td>\n",
       "      <td>NaN</td>\n",
       "    </tr>\n",
       "  </tbody>\n",
       "</table>\n",
       "<p>2 rows × 23 columns</p>\n",
       "</div>"
      ],
      "text/plain": [
       "    candidate_id                  disease       gene       doid_id  \\\n",
       "74        228511                      AML  TNF alpha     DOID:2531   \n",
       "18        235489  non-Hodgkin's lymphomas      c-myc  DOID:0060073   \n",
       "\n",
       "    entrez_gene_id                                           sentence  \\\n",
       "74            7124  However, addition of anti-TNF alpha (every 72 ...   \n",
       "18            4609  Steady state c-myc mRNA levels determined by N...   \n",
       "\n",
       "       label                doid_name gene_symbol  LF_HETNET_DISEASES  \\\n",
       "74  0.286983       hematologic cancer         TNF                   1   \n",
       "18  0.700525  lymphatic system cancer         MYC                   0   \n",
       "\n",
       "      ...      LF_HETNET_ABSENT  LF_CHECK_GENE_TAG  LF_IS_BIOMARKER  \\\n",
       "74    ...                     0                  0                0   \n",
       "18    ...                    -1                  0                0   \n",
       "\n",
       "    LF_ASSOCIATION  LF_NO_ASSOCIATION  LF_NO_CONCLUSION  LF_DG_DISTANCE  \\\n",
       "74               1                  0                 0               0   \n",
       "18               0                  0                -1               0   \n",
       "\n",
       "    LF_NO_VERB  curated_dsh  notes_dsh  \n",
       "74           0          1.0        NaN  \n",
       "18           0          0.0        NaN  \n",
       "\n",
       "[2 rows x 23 columns]"
      ]
     },
     "execution_count": 6,
     "metadata": {},
     "output_type": "execute_result"
    }
   ],
   "source": [
    "dev_sentence_df = pd.read_excel(\"data/sentence-labels-dev.xlsx\")\n",
    "dev_sentence_df = dev_sentence_df[dev_sentence_df.curated_dsh.notnull()]\n",
    "dev_sentence_df = dev_sentence_df.sort_values(\"candidate_id\")\n",
    "dev_sentence_df.head(2)"
   ]
  },
  {
   "cell_type": "code",
   "execution_count": 7,
   "metadata": {
    "ExecuteTime": {
     "end_time": "2018-08-01T02:47:28.072535Z",
     "start_time": "2018-08-01T02:47:28.042079Z"
    },
    "scrolled": true
   },
   "outputs": [
    {
     "data": {
      "text/html": [
       "<div>\n",
       "<style scoped>\n",
       "    .dataframe tbody tr th:only-of-type {\n",
       "        vertical-align: middle;\n",
       "    }\n",
       "\n",
       "    .dataframe tbody tr th {\n",
       "        vertical-align: top;\n",
       "    }\n",
       "\n",
       "    .dataframe thead th {\n",
       "        text-align: right;\n",
       "    }\n",
       "</style>\n",
       "<table border=\"1\" class=\"dataframe\">\n",
       "  <thead>\n",
       "    <tr style=\"text-align: right;\">\n",
       "      <th></th>\n",
       "      <th>Bag of Words</th>\n",
       "      <th>Doc2Vec 50k</th>\n",
       "      <th>Doc2Vec 500k</th>\n",
       "      <th>Doc2Vec All</th>\n",
       "      <th>LSTM</th>\n",
       "    </tr>\n",
       "  </thead>\n",
       "  <tbody>\n",
       "    <tr>\n",
       "      <th>0</th>\n",
       "      <td>0.996812</td>\n",
       "      <td>0.994579</td>\n",
       "      <td>0.716690</td>\n",
       "      <td>0.529019</td>\n",
       "      <td>0.860038</td>\n",
       "    </tr>\n",
       "    <tr>\n",
       "      <th>1</th>\n",
       "      <td>0.893279</td>\n",
       "      <td>0.999901</td>\n",
       "      <td>0.488429</td>\n",
       "      <td>0.369619</td>\n",
       "      <td>0.874941</td>\n",
       "    </tr>\n",
       "  </tbody>\n",
       "</table>\n",
       "</div>"
      ],
      "text/plain": [
       "   Bag of Words  Doc2Vec 50k  Doc2Vec 500k  Doc2Vec All      LSTM\n",
       "0      0.996812     0.994579      0.716690     0.529019  0.860038\n",
       "1      0.893279     0.999901      0.488429     0.369619  0.874941"
      ]
     },
     "execution_count": 7,
     "metadata": {},
     "output_type": "execute_result"
    }
   ],
   "source": [
    "marginals_df = pd.read_table('data/disc_model_marginals.tsv')\n",
    "marginals_df.head(2)"
   ]
  },
  {
   "cell_type": "code",
   "execution_count": 8,
   "metadata": {
    "ExecuteTime": {
     "end_time": "2018-08-01T02:47:28.155150Z",
     "start_time": "2018-08-01T02:47:28.074238Z"
    }
   },
   "outputs": [
    {
     "data": {
      "text/plain": [
       "0.0    129\n",
       "1.0     81\n",
       "Name: curated_dsh, dtype: int64"
      ]
     },
     "execution_count": 8,
     "metadata": {},
     "output_type": "execute_result"
    }
   ],
   "source": [
    "dev_sentence_df.curated_dsh.value_counts()"
   ]
  },
  {
   "cell_type": "markdown",
   "metadata": {},
   "source": [
    "# Accuracy ROC"
   ]
  },
  {
   "cell_type": "markdown",
   "metadata": {},
   "source": [
    "From the probabilities calculated above, we can create a [Receiver Operator Curve](http://scikit-learn.org/stable/auto_examples/model_selection/plot_roc.html) (ROC) graph to measure the false positive rate and the true positive rate at each calculated threshold."
   ]
  },
  {
   "cell_type": "code",
   "execution_count": 9,
   "metadata": {
    "ExecuteTime": {
     "end_time": "2018-08-01T02:47:32.914774Z",
     "start_time": "2018-08-01T02:47:32.898172Z"
    }
   },
   "outputs": [],
   "source": [
    "model_aucs = {}"
   ]
  },
  {
   "cell_type": "code",
   "execution_count": 10,
   "metadata": {
    "ExecuteTime": {
     "end_time": "2018-08-01T02:47:33.384422Z",
     "start_time": "2018-08-01T02:47:32.916475Z"
    }
   },
   "outputs": [
    {
     "data": {
      "text/plain": [
       "<matplotlib.legend.Legend at 0x7f922aae8860>"
      ]
     },
     "execution_count": 10,
     "metadata": {},
     "output_type": "execute_result"
    },
    {
     "data": {
      "image/png": "[encoded data removed]",
      "text/plain": [
       "<matplotlib.figure.Figure at 0x7f922cb11710>"
      ]
     },
     "metadata": {},
     "output_type": "display_data"
    }
   ],
   "source": [
    "plt.figure(figsize=(7,5))\n",
    "plt.plot([0, 1], [0, 1], color='navy', lw=2, linestyle='--', label=\"Random\")\n",
    "\n",
    "for model in marginals_df.columns:\n",
    "    fpr, tpr, _= roc_curve(dev_sentence_df.curated_dsh.values, marginals_df[model])\n",
    "    model_auc = auc(fpr, tpr)\n",
    "    model_aucs[model] = model_auc\n",
    "    plt.plot(fpr, tpr, label=\"{} (AUC = {:0.2f})\".format(model, model_auc))\n",
    "\n",
    "plt.xlabel('False Positive Rate')\n",
    "plt.ylabel('True Positive Rate')\n",
    "plt.title('Accuracy ROC')\n",
    "plt.legend(loc=\"lower right\")"
   ]
  },
  {
   "cell_type": "markdown",
   "metadata": {},
   "source": [
    "## Statistical Significance for ROC"
   ]
  },
  {
   "cell_type": "markdown",
   "metadata": {},
   "source": [
    "This block of code calculates the p-value for each ROC curve above. Each AUC is equivalent to the Mann-Whitney U statistic (aka Willcoxon Rank Sum Test). Calulating this statistic is easy and the equation can be found [here](https://www.quora.com/How-is-statistical-significance-determined-for-ROC-curves-and-AUC-values). Since more than 20 data points were used to generate the above ROC curves, normal approximation canm used to calculate the p-values. The equaltions for the normal approximation can be found [here](https://en.wikipedia.org/wiki/Mann%E2%80%93Whitney_U_test). Looking at the bottom dataframe, one can see there isn't strong evidence that the generated ROCs are greater than 0.50."
   ]
  },
  {
   "cell_type": "code",
   "execution_count": 11,
   "metadata": {
    "ExecuteTime": {
     "end_time": "2018-08-01T02:47:47.418098Z",
     "start_time": "2018-08-01T02:47:47.399799Z"
    }
   },
   "outputs": [
    {
     "name": "stdout",
     "output_type": "stream",
     "text": [
      "mu: 5224.500000, sigma: 428.635335\n"
     ]
    }
   ],
   "source": [
    "class_dist_df = dev_sentence_df.curated_dsh.value_counts()\n",
    "n1 = class_dist_df[0]\n",
    "n2 = class_dist_df[1]\n",
    "mu = (n1*n2)/2\n",
    "sigma_u = np.sqrt((n1 * n2 * (n1+n2+1))/12)\n",
    "print(\"mu: {:f}, sigma: {:f}\".format(mu, sigma_u))"
   ]
  },
  {
   "cell_type": "code",
   "execution_count": 12,
   "metadata": {
    "ExecuteTime": {
     "end_time": "2018-08-01T02:47:47.440240Z",
     "start_time": "2018-08-01T02:47:47.419478Z"
    }
   },
   "outputs": [
    {
     "data": {
      "text/html": [
       "<div>\n",
       "<style scoped>\n",
       "    .dataframe tbody tr th:only-of-type {\n",
       "        vertical-align: middle;\n",
       "    }\n",
       "\n",
       "    .dataframe tbody tr th {\n",
       "        vertical-align: top;\n",
       "    }\n",
       "\n",
       "    .dataframe thead th {\n",
       "        text-align: right;\n",
       "    }\n",
       "</style>\n",
       "<table border=\"1\" class=\"dataframe\">\n",
       "  <thead>\n",
       "    <tr style=\"text-align: right;\">\n",
       "      <th></th>\n",
       "      <th>auroc</th>\n",
       "    </tr>\n",
       "  </thead>\n",
       "  <tbody>\n",
       "    <tr>\n",
       "      <th>Bag of Words</th>\n",
       "      <td>0.637286</td>\n",
       "    </tr>\n",
       "    <tr>\n",
       "      <th>Doc2Vec 50k</th>\n",
       "      <td>0.551823</td>\n",
       "    </tr>\n",
       "  </tbody>\n",
       "</table>\n",
       "</div>"
      ],
      "text/plain": [
       "                 auroc\n",
       "Bag of Words  0.637286\n",
       "Doc2Vec 50k   0.551823"
      ]
     },
     "execution_count": 12,
     "metadata": {},
     "output_type": "execute_result"
    }
   ],
   "source": [
    "model_auc_df = pd.DataFrame.from_dict(model_aucs, orient='index')\n",
    "model_auc_df = model_auc_df.rename(index=str, columns={0:'auroc'})\n",
    "model_auc_df.head(2)"
   ]
  },
  {
   "cell_type": "code",
   "execution_count": 13,
   "metadata": {
    "ExecuteTime": {
     "end_time": "2018-08-01T02:47:47.478907Z",
     "start_time": "2018-08-01T02:47:47.441710Z"
    }
   },
   "outputs": [
    {
     "data": {
      "text/html": [
       "<div>\n",
       "<style scoped>\n",
       "    .dataframe tbody tr th:only-of-type {\n",
       "        vertical-align: middle;\n",
       "    }\n",
       "\n",
       "    .dataframe tbody tr th {\n",
       "        vertical-align: top;\n",
       "    }\n",
       "\n",
       "    .dataframe thead th {\n",
       "        text-align: right;\n",
       "    }\n",
       "</style>\n",
       "<table border=\"1\" class=\"dataframe\">\n",
       "  <thead>\n",
       "    <tr style=\"text-align: right;\">\n",
       "      <th></th>\n",
       "      <th>auroc</th>\n",
       "      <th>u</th>\n",
       "      <th>z_u</th>\n",
       "    </tr>\n",
       "  </thead>\n",
       "  <tbody>\n",
       "    <tr>\n",
       "      <th>Bag of Words</th>\n",
       "      <td>0.637286</td>\n",
       "      <td>6659.0</td>\n",
       "      <td>3.346668</td>\n",
       "    </tr>\n",
       "    <tr>\n",
       "      <th>Doc2Vec 50k</th>\n",
       "      <td>0.551823</td>\n",
       "      <td>5766.0</td>\n",
       "      <td>1.263312</td>\n",
       "    </tr>\n",
       "  </tbody>\n",
       "</table>\n",
       "</div>"
      ],
      "text/plain": [
       "                 auroc       u       z_u\n",
       "Bag of Words  0.637286  6659.0  3.346668\n",
       "Doc2Vec 50k   0.551823  5766.0  1.263312"
      ]
     },
     "execution_count": 13,
     "metadata": {},
     "output_type": "execute_result"
    }
   ],
   "source": [
    "model_auc_df['u'] = model_auc_df.auroc.apply(lambda x: x*n1*n2)\n",
    "model_auc_df['z_u'] = model_auc_df.u.apply(lambda z_u: (z_u- mu)/sigma_u)\n",
    "model_auc_df.head(2)"
   ]
  },
  {
   "cell_type": "code",
   "execution_count": 14,
   "metadata": {
    "ExecuteTime": {
     "end_time": "2018-08-01T02:47:47.555693Z",
     "start_time": "2018-08-01T02:47:47.480395Z"
    }
   },
   "outputs": [
    {
     "data": {
      "text/html": [
       "<div>\n",
       "<style scoped>\n",
       "    .dataframe tbody tr th:only-of-type {\n",
       "        vertical-align: middle;\n",
       "    }\n",
       "\n",
       "    .dataframe tbody tr th {\n",
       "        vertical-align: top;\n",
       "    }\n",
       "\n",
       "    .dataframe thead th {\n",
       "        text-align: right;\n",
       "    }\n",
       "</style>\n",
       "<table border=\"1\" class=\"dataframe\">\n",
       "  <thead>\n",
       "    <tr style=\"text-align: right;\">\n",
       "      <th></th>\n",
       "      <th>auroc</th>\n",
       "      <th>u</th>\n",
       "      <th>z_u</th>\n",
       "      <th>p_value</th>\n",
       "    </tr>\n",
       "  </thead>\n",
       "  <tbody>\n",
       "    <tr>\n",
       "      <th>Bag of Words</th>\n",
       "      <td>0.637286</td>\n",
       "      <td>6659.0</td>\n",
       "      <td>3.346668</td>\n",
       "      <td>0.000409</td>\n",
       "    </tr>\n",
       "    <tr>\n",
       "      <th>Doc2Vec 50k</th>\n",
       "      <td>0.551823</td>\n",
       "      <td>5766.0</td>\n",
       "      <td>1.263312</td>\n",
       "      <td>0.103239</td>\n",
       "    </tr>\n",
       "    <tr>\n",
       "      <th>Doc2Vec 500k</th>\n",
       "      <td>0.639870</td>\n",
       "      <td>6686.0</td>\n",
       "      <td>3.409658</td>\n",
       "      <td>0.000325</td>\n",
       "    </tr>\n",
       "    <tr>\n",
       "      <th>Doc2Vec All</th>\n",
       "      <td>0.613360</td>\n",
       "      <td>6409.0</td>\n",
       "      <td>2.763421</td>\n",
       "      <td>0.002860</td>\n",
       "    </tr>\n",
       "    <tr>\n",
       "      <th>LSTM</th>\n",
       "      <td>0.653938</td>\n",
       "      <td>6833.0</td>\n",
       "      <td>3.752607</td>\n",
       "      <td>0.000088</td>\n",
       "    </tr>\n",
       "  </tbody>\n",
       "</table>\n",
       "</div>"
      ],
      "text/plain": [
       "                 auroc       u       z_u   p_value\n",
       "Bag of Words  0.637286  6659.0  3.346668  0.000409\n",
       "Doc2Vec 50k   0.551823  5766.0  1.263312  0.103239\n",
       "Doc2Vec 500k  0.639870  6686.0  3.409658  0.000325\n",
       "Doc2Vec All   0.613360  6409.0  2.763421  0.002860\n",
       "LSTM          0.653938  6833.0  3.752607  0.000088"
      ]
     },
     "execution_count": 14,
     "metadata": {},
     "output_type": "execute_result"
    }
   ],
   "source": [
    "model_auc_df['p_value'] = model_auc_df.z_u.apply(lambda z_u: norm.sf(z_u, loc=0, scale=1))\n",
    "model_auc_df"
   ]
  },
  {
   "cell_type": "markdown",
   "metadata": {},
   "source": [
    "# Precision vs Recall Curve"
   ]
  },
  {
   "cell_type": "markdown",
   "metadata": {},
   "source": [
    "This code produces a [Precision-Recall](http://scikit-learn.org/stable/auto_examples/model_selection/plot_precision_recall.html) graph, which shows the trade off between [precision and recall](https://en.wikipedia.org/wiki/Precision_and_recall) at each given probability threshold."
   ]
  },
  {
   "cell_type": "code",
   "execution_count": 15,
   "metadata": {
    "ExecuteTime": {
     "end_time": "2018-08-01T02:47:47.816790Z",
     "start_time": "2018-08-01T02:47:47.558831Z"
    },
    "scrolled": false
   },
   "outputs": [
    {
     "data": {
      "text/plain": [
       "<matplotlib.legend.Legend at 0x7f922aaaa518>"
      ]
     },
     "execution_count": 15,
     "metadata": {},
     "output_type": "execute_result"
    },
    {
     "data": {
      "image/png": "[encoded data removed]",
      "text/plain": [
       "<matplotlib.figure.Figure at 0x7f922aaaa4a8>"
      ]
     },
     "metadata": {},
     "output_type": "display_data"
    }
   ],
   "source": [
    "plt.figure(figsize=(7,5))\n",
    "\n",
    "positive_class = dev_sentence_df.curated_dsh.values.sum()/dev_sentence_df.shape[0]\n",
    "plt.plot([0,1], [positive_class, positive_class], color='grey', \n",
    "         linestyle='--', label='Baseline (AUC = {:0.2f})'.format(positive_class))\n",
    "\n",
    "for model in marginals_df.columns:\n",
    "    precision, recall, _ = precision_recall_curve(dev_sentence_df.curated_dsh.values, marginals_df[model])\n",
    "    model_auc = auc(recall, precision)\n",
    "    plt.plot(recall, precision, label=\"{} curve (AUC = {:0.2f})\".format(model, model_auc))\n",
    "\n",
    "plt.ylabel('Precision')\n",
    "plt.xlabel('Recall')\n",
    "plt.title('Precision vs Recall')\n",
    "plt.xlim([0, 1.01])\n",
    "plt.ylim([0, 1.05])\n",
    "plt.legend(loc=\"lower right\")"
   ]
  },
  {
   "cell_type": "markdown",
   "metadata": {},
   "source": [
    "# Old vs New"
   ]
  },
  {
   "cell_type": "code",
   "execution_count": 16,
   "metadata": {
    "ExecuteTime": {
     "end_time": "2018-08-01T02:47:47.840658Z",
     "start_time": "2018-08-01T02:47:47.818119Z"
    }
   },
   "outputs": [],
   "source": [
    "marginals_17_df = pd.read_table('data/disc_model_marginals-17lfs.tsv')\n",
    "marginals_26_df = pd.read_table('data/disc_model_marginals.tsv')"
   ]
  },
  {
   "cell_type": "code",
   "execution_count": 17,
   "metadata": {
    "ExecuteTime": {
     "end_time": "2018-08-01T02:47:48.115285Z",
     "start_time": "2018-08-01T02:47:47.842008Z"
    }
   },
   "outputs": [
    {
     "data": {
      "text/plain": [
       "<matplotlib.legend.Legend at 0x7f922cdd15f8>"
      ]
     },
     "execution_count": 17,
     "metadata": {},
     "output_type": "execute_result"
    },
    {
     "data": {
      "image/png": "[encoded data removed]",
      "text/plain": [
       "<matplotlib.figure.Figure at 0x7f922ce24518>"
      ]
     },
     "metadata": {},
     "output_type": "display_data"
    }
   ],
   "source": [
    "plt.figure(figsize=(7,5))\n",
    "plt.plot([0, 1], [0, 1], color='navy', lw=2, linestyle='--', label=\"Random\")\n",
    "\n",
    "fpr, tpr, _= roc_curve(dev_sentence_df.curated_dsh.values, marginals_17_df['Doc2Vec All'])\n",
    "model_auc = auc(fpr, tpr)\n",
    "model_aucs[model] = model_auc\n",
    "plt.plot(fpr, tpr, label=\"{} (AUC = {:0.2f})\".format('17 LFS', model_auc))\n",
    "\n",
    "fpr, tpr, _= roc_curve(dev_sentence_df.curated_dsh.values, marginals_26_df['LSTM'])\n",
    "model_auc = auc(fpr, tpr)\n",
    "model_aucs[model] = model_auc\n",
    "plt.plot(fpr, tpr, label=\"{} (AUC = {:0.2f})\".format('26 LFS', model_auc))\n",
    "\n",
    "plt.xlabel('False Positive Rate')\n",
    "plt.ylabel('True Positive Rate')\n",
    "plt.title('Accuracy ROC')\n",
    "plt.legend(loc=\"lower right\")"
   ]
  },
  {
   "cell_type": "code",
   "execution_count": 18,
   "metadata": {
    "ExecuteTime": {
     "end_time": "2018-08-01T02:47:48.283524Z",
     "start_time": "2018-08-01T02:47:48.116767Z"
    }
   },
   "outputs": [
    {
     "data": {
      "text/plain": [
       "<matplotlib.legend.Legend at 0x7f922cd2ccc0>"
      ]
     },
     "execution_count": 18,
     "metadata": {},
     "output_type": "execute_result"
    },
    {
     "data": {
      "image/png": "[encoded data removed]",
      "text/plain": [
       "<matplotlib.figure.Figure at 0x7f922cd7f2e8>"
      ]
     },
     "metadata": {},
     "output_type": "display_data"
    }
   ],
   "source": [
    "plt.figure(figsize=(7,5))\n",
    "\n",
    "positive_class = dev_sentence_df.curated_dsh.values.sum()/dev_sentence_df.shape[0]\n",
    "plt.plot([0,1], [positive_class, positive_class], color='grey', \n",
    "         linestyle='--', label='Baseline (AUC = {:0.2f})'.format(positive_class))\n",
    "\n",
    "precision, recall, _ = precision_recall_curve(dev_sentence_df.curated_dsh.values, marginals_17_df['Doc2Vec All'])\n",
    "model_auc = auc(recall, precision)\n",
    "plt.plot(recall, precision, label=\"{} curve (AUC = {:0.2f})\".format('17 LFS', model_auc))\n",
    "\n",
    "precision, recall, _ = precision_recall_curve(dev_sentence_df.curated_dsh.values, marginals_26_df['LSTM'])\n",
    "model_auc = auc(recall, precision)\n",
    "plt.plot(recall, precision, label=\"{} curve (AUC = {:0.2f})\".format('26 LFS', model_auc))\n",
    "\n",
    "plt.ylabel('Precision')\n",
    "plt.xlabel('Recall')\n",
    "plt.title('Precision vs Recall')\n",
    "plt.xlim([0, 1.01])\n",
    "plt.ylim([0, 1.05])\n",
    "plt.legend(loc=\"lower right\")"
   ]
  }
 ],
 "metadata": {
  "kernelspec": {
   "display_name": "Python [conda env:snorkeling]",
   "language": "python",
   "name": "conda-env-snorkeling-py"
  },
  "language_info": {
   "codemirror_mode": {
    "name": "ipython",
    "version": 3
   },
   "file_extension": ".py",
   "mimetype": "text/x-python",
   "name": "python",
   "nbconvert_exporter": "python",
   "pygments_lexer": "ipython3",
   "version": "3.6.4"
  }
 },
 "nbformat": 4,
 "nbformat_minor": 2
}
