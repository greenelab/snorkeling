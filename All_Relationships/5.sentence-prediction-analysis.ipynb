{
 "cells": [
  {
   "cell_type": "markdown",
   "metadata": {},
   "source": [
    "# Lets See How The Disc Models Preformed"
   ]
  },
  {
   "cell_type": "markdown",
   "metadata": {},
   "source": [
    "This notebook is designed to analyze the disc models performance and to answer the question does Long Short Term Memory Neural Net (LSTM) outperform SparseLogisticRegression (SLR)."
   ]
  },
  {
   "cell_type": "markdown",
   "metadata": {},
   "source": [
    "## MUST RUN AT THE START OF EVERYTHING"
   ]
  },
  {
   "cell_type": "markdown",
   "metadata": {},
   "source": [
    "Load the database and other helpful functions for analysis."
   ]
  },
  {
   "cell_type": "code",
   "execution_count": 1,
   "metadata": {},
   "outputs": [],
   "source": [
    "%load_ext autoreload\n",
    "%autoreload 2\n",
    "%matplotlib inline\n",
    "\n",
    "import csv\n",
    "import glob\n",
    "import os\n",
    "\n",
    "from IPython.core.display import display, HTML\n",
    "import matplotlib.pyplot as plt\n",
    "import numpy as np\n",
    "import re\n",
    "import pandas as pd\n",
    "from scipy.stats import norm\n",
    "import seaborn as sns\n",
    "from sklearn.metrics import average_precision_score, precision_recall_curve, roc_curve\n",
    "from sklearn.metrics import auc, f1_score, confusion_matrix\n",
    "import tqdm"
   ]
  },
  {
   "cell_type": "code",
   "execution_count": 2,
   "metadata": {},
   "outputs": [],
   "source": [
    "#Set up the environment\n",
    "username = \"danich1\"\n",
    "password = \"snorkel\"\n",
    "dbname = \"pubmeddb\"\n",
    "\n",
    "#Path subject to change for different os\n",
    "database_str = \"postgresql+psycopg2://{}:{}@/{}?host=/var/run/postgresql\".format(username, password, dbname)\n",
    "os.environ['SNORKELDB'] = database_str\n",
    "\n",
    "from snorkel import SnorkelSession\n",
    "session = SnorkelSession()"
   ]
  },
  {
   "cell_type": "code",
   "execution_count": 3,
   "metadata": {},
   "outputs": [],
   "source": [
    "import sys\n",
    "sys.path.append('/home/danich1/Documents/snorkeling/snorkel/treedlib/treedlib')"
   ]
  },
  {
   "cell_type": "code",
   "execution_count": 4,
   "metadata": {},
   "outputs": [],
   "source": [
    "from snorkel.annotations import FeatureAnnotator, LabelAnnotator, load_marginals\n",
    "from snorkel.models import Candidate, candidate_subclass\n",
    "from snorkel.viewer import SentenceNgramViewer"
   ]
  },
  {
   "cell_type": "code",
   "execution_count": 5,
   "metadata": {},
   "outputs": [],
   "source": [
    "edge_type = \"dg\""
   ]
  },
  {
   "cell_type": "code",
   "execution_count": 6,
   "metadata": {},
   "outputs": [],
   "source": [
    "if edge_type == \"dg\":\n",
    "    DiseaseGene = candidate_subclass('DiseaseGene', ['Disease', 'Gene'])\n",
    "elif edge_type == \"gg\":\n",
    "    GeneGene = candidate_subclass('GeneGene', ['Gene1', 'Gene2'])\n",
    "elif edge_type == \"cg\":\n",
    "    CompoundGene = candidate_subclass('CompoundGene', ['Compound', 'Gene'])\n",
    "elif edge_type == \"cd\":\n",
    "    CompoundDisease = candidate_subclass('CompoundDisease', ['Compound', 'Disease'])\n",
    "else:\n",
    "    print(\"Please pick a valid edge type\")"
   ]
  },
  {
   "cell_type": "markdown",
   "metadata": {},
   "source": [
    "# Load the data"
   ]
  },
  {
   "cell_type": "markdown",
   "metadata": {},
   "source": [
    "Here is where we load the test dataset in conjunction with the previously trained disc models. Each algorithm will output a probability of a candidate being a true candidate."
   ]
  },
  {
   "cell_type": "code",
   "execution_count": 7,
   "metadata": {},
   "outputs": [
    {
     "data": {
      "text/html": [
       "<div>\n",
       "<style scoped>\n",
       "    .dataframe tbody tr th:only-of-type {\n",
       "        vertical-align: middle;\n",
       "    }\n",
       "\n",
       "    .dataframe tbody tr th {\n",
       "        vertical-align: top;\n",
       "    }\n",
       "\n",
       "    .dataframe thead th {\n",
       "        text-align: right;\n",
       "    }\n",
       "</style>\n",
       "<table border=\"1\" class=\"dataframe\">\n",
       "  <thead>\n",
       "    <tr style=\"text-align: right;\">\n",
       "      <th></th>\n",
       "      <th>candidate_id</th>\n",
       "      <th>disease</th>\n",
       "      <th>gene</th>\n",
       "      <th>doid_id</th>\n",
       "      <th>entrez_gene_id</th>\n",
       "      <th>sentence</th>\n",
       "      <th>label</th>\n",
       "      <th>doid_name</th>\n",
       "      <th>gene_symbol</th>\n",
       "      <th>LF_HETNET_DISEASES</th>\n",
       "      <th>...</th>\n",
       "      <th>LF_HETNET_ABSENT</th>\n",
       "      <th>LF_CHECK_GENE_TAG</th>\n",
       "      <th>LF_IS_BIOMARKER</th>\n",
       "      <th>LF_ASSOCIATION</th>\n",
       "      <th>LF_NO_ASSOCIATION</th>\n",
       "      <th>LF_NO_CONCLUSION</th>\n",
       "      <th>LF_DG_DISTANCE</th>\n",
       "      <th>LF_NO_VERB</th>\n",
       "      <th>curated_dsh</th>\n",
       "      <th>notes_dsh</th>\n",
       "    </tr>\n",
       "  </thead>\n",
       "  <tbody>\n",
       "    <tr>\n",
       "      <th>0</th>\n",
       "      <td>30339070</td>\n",
       "      <td>systemic lupus erythematosus</td>\n",
       "      <td>b2MG)</td>\n",
       "      <td>DOID:9074</td>\n",
       "      <td>3135</td>\n",
       "      <td>OBJECTIVE: We investigated the association of ...</td>\n",
       "      <td>0.286983</td>\n",
       "      <td>systemic lupus erythematosus</td>\n",
       "      <td>HLA-G</td>\n",
       "      <td>0</td>\n",
       "      <td>...</td>\n",
       "      <td>-1</td>\n",
       "      <td>-1</td>\n",
       "      <td>0</td>\n",
       "      <td>0</td>\n",
       "      <td>0</td>\n",
       "      <td>0</td>\n",
       "      <td>0</td>\n",
       "      <td>0</td>\n",
       "      <td>0.0</td>\n",
       "      <td>NaN</td>\n",
       "    </tr>\n",
       "    <tr>\n",
       "      <th>1</th>\n",
       "      <td>34051725</td>\n",
       "      <td>hypertension</td>\n",
       "      <td>lCB</td>\n",
       "      <td>DOID:10763</td>\n",
       "      <td>1212</td>\n",
       "      <td>Moreover, the PP was statistically significant...</td>\n",
       "      <td>0.868639</td>\n",
       "      <td>hypertension</td>\n",
       "      <td>CLTB</td>\n",
       "      <td>0</td>\n",
       "      <td>...</td>\n",
       "      <td>-1</td>\n",
       "      <td>0</td>\n",
       "      <td>0</td>\n",
       "      <td>1</td>\n",
       "      <td>0</td>\n",
       "      <td>0</td>\n",
       "      <td>-1</td>\n",
       "      <td>0</td>\n",
       "      <td>0.0</td>\n",
       "      <td>errant gene tag</td>\n",
       "    </tr>\n",
       "  </tbody>\n",
       "</table>\n",
       "<p>2 rows × 23 columns</p>\n",
       "</div>"
      ],
      "text/plain": [
       "   candidate_id                       disease   gene     doid_id  \\\n",
       "0      30339070  systemic lupus erythematosus  b2MG)   DOID:9074   \n",
       "1      34051725                  hypertension    lCB  DOID:10763   \n",
       "\n",
       "   entrez_gene_id                                           sentence  \\\n",
       "0            3135  OBJECTIVE: We investigated the association of ...   \n",
       "1            1212  Moreover, the PP was statistically significant...   \n",
       "\n",
       "      label                     doid_name gene_symbol  LF_HETNET_DISEASES  \\\n",
       "0  0.286983  systemic lupus erythematosus       HLA-G                   0   \n",
       "1  0.868639                  hypertension        CLTB                   0   \n",
       "\n",
       "        ...         LF_HETNET_ABSENT  LF_CHECK_GENE_TAG  LF_IS_BIOMARKER  \\\n",
       "0       ...                       -1                 -1                0   \n",
       "1       ...                       -1                  0                0   \n",
       "\n",
       "   LF_ASSOCIATION  LF_NO_ASSOCIATION  LF_NO_CONCLUSION  LF_DG_DISTANCE  \\\n",
       "0               0                  0                 0               0   \n",
       "1               1                  0                 0              -1   \n",
       "\n",
       "   LF_NO_VERB  curated_dsh        notes_dsh  \n",
       "0           0          0.0              NaN  \n",
       "1           0          0.0  errant gene tag  \n",
       "\n",
       "[2 rows x 23 columns]"
      ]
     },
     "execution_count": 7,
     "metadata": {},
     "output_type": "execute_result"
    }
   ],
   "source": [
    "dev_sentence_df = pd.read_excel(\"data/sentence-labels-dev.xlsx\")\n",
    "dev_sentence_df = dev_sentence_df[dev_sentence_df.curated_dsh.notnull()]\n",
    "dev_sentence_df.head(2)"
   ]
  },
  {
   "cell_type": "code",
   "execution_count": 8,
   "metadata": {
    "scrolled": true
   },
   "outputs": [
    {
     "data": {
      "text/html": [
       "<div>\n",
       "<style scoped>\n",
       "    .dataframe tbody tr th:only-of-type {\n",
       "        vertical-align: middle;\n",
       "    }\n",
       "\n",
       "    .dataframe tbody tr th {\n",
       "        vertical-align: top;\n",
       "    }\n",
       "\n",
       "    .dataframe thead th {\n",
       "        text-align: right;\n",
       "    }\n",
       "</style>\n",
       "<table border=\"1\" class=\"dataframe\">\n",
       "  <thead>\n",
       "    <tr style=\"text-align: right;\">\n",
       "      <th></th>\n",
       "      <th>Bag of Words</th>\n",
       "      <th>Doc2Vec 50k</th>\n",
       "      <th>Doc2Vec 500k</th>\n",
       "      <th>Doc2Vec All</th>\n",
       "    </tr>\n",
       "  </thead>\n",
       "  <tbody>\n",
       "    <tr>\n",
       "      <th>0</th>\n",
       "      <td>0.021844</td>\n",
       "      <td>0.743757</td>\n",
       "      <td>0.419838</td>\n",
       "      <td>0.379851</td>\n",
       "    </tr>\n",
       "    <tr>\n",
       "      <th>1</th>\n",
       "      <td>0.241312</td>\n",
       "      <td>0.999697</td>\n",
       "      <td>0.125248</td>\n",
       "      <td>0.148967</td>\n",
       "    </tr>\n",
       "  </tbody>\n",
       "</table>\n",
       "</div>"
      ],
      "text/plain": [
       "   Bag of Words  Doc2Vec 50k  Doc2Vec 500k  Doc2Vec All\n",
       "0      0.021844     0.743757      0.419838     0.379851\n",
       "1      0.241312     0.999697      0.125248     0.148967"
      ]
     },
     "execution_count": 8,
     "metadata": {},
     "output_type": "execute_result"
    }
   ],
   "source": [
    "marginals_df = pd.read_table('data/disc_model_marginals.tsv')\n",
    "marginals_df.head(2)"
   ]
  },
  {
   "cell_type": "code",
   "execution_count": 9,
   "metadata": {},
   "outputs": [
    {
     "data": {
      "text/plain": [
       "0.0    129\n",
       "1.0     81\n",
       "Name: curated_dsh, dtype: int64"
      ]
     },
     "execution_count": 9,
     "metadata": {},
     "output_type": "execute_result"
    }
   ],
   "source": [
    "dev_sentence_df.curated_dsh.value_counts()"
   ]
  },
  {
   "cell_type": "markdown",
   "metadata": {},
   "source": [
    "# Accuracy ROC"
   ]
  },
  {
   "cell_type": "markdown",
   "metadata": {},
   "source": [
    "From the probabilities calculated above, we can create a [Receiver Operator Curve](http://scikit-learn.org/stable/auto_examples/model_selection/plot_roc.html) (ROC) graph to measure the false positive rate and the true positive rate at each calculated threshold."
   ]
  },
  {
   "cell_type": "code",
   "execution_count": 10,
   "metadata": {},
   "outputs": [],
   "source": [
    "model_aucs = {}"
   ]
  },
  {
   "cell_type": "code",
   "execution_count": 11,
   "metadata": {},
   "outputs": [
    {
     "data": {
      "text/plain": [
       "<matplotlib.legend.Legend at 0x7f0931ae8128>"
      ]
     },
     "execution_count": 11,
     "metadata": {},
     "output_type": "execute_result"
    },
    {
     "data": {
      "image/png": "[encoded data removed]",
      "text/plain": [
       "<matplotlib.figure.Figure at 0x7f0932b636a0>"
      ]
     },
     "metadata": {},
     "output_type": "display_data"
    }
   ],
   "source": [
    "plt.figure(figsize=(7,5))\n",
    "plt.plot([0, 1], [0, 1], color='navy', lw=2, linestyle='--', label=\"Random\")\n",
    "\n",
    "for model in marginals_df.columns:\n",
    "    fpr, tpr, _= roc_curve(dev_sentence_df.curated_dsh.values, marginals_df[model])\n",
    "    model_auc = auc(fpr, tpr)\n",
    "    model_aucs[model] = model_auc\n",
    "    plt.plot(fpr, tpr, label=\"{} (AUC = {:0.2f})\".format(model, model_auc))\n",
    "\n",
    "plt.xlabel('False Positive Rate')\n",
    "plt.ylabel('True Positive Rate')\n",
    "plt.title('Accuracy ROC')\n",
    "plt.legend(loc=\"lower right\")"
   ]
  },
  {
   "cell_type": "markdown",
   "metadata": {},
   "source": [
    "## Statistical Significance for ROC"
   ]
  },
  {
   "cell_type": "markdown",
   "metadata": {},
   "source": [
    "This block of code calculates the p-value for each ROC curve above. Each AUC is equivalent to the Mann-Whitney U statistic (aka Willcoxon Rank Sum Test). Calulating this statistic is easy and the equation can be found [here](https://www.quora.com/How-is-statistical-significance-determined-for-ROC-curves-and-AUC-values). Since more than 20 data points were used to generate the above ROC curves, normal approximation canm used to calculate the p-values. The equaltions for the normal approximation can be found [here](https://en.wikipedia.org/wiki/Mann%E2%80%93Whitney_U_test). Looking at the bottom dataframe, one can see there isn't strong evidence that the generated ROCs are greater than 0.50."
   ]
  },
  {
   "cell_type": "code",
   "execution_count": 12,
   "metadata": {},
   "outputs": [
    {
     "name": "stdout",
     "output_type": "stream",
     "text": [
      "mu: 5224.500000, sigma: 428.635335\n"
     ]
    }
   ],
   "source": [
    "class_dist_df = dev_sentence_df.curated_dsh.value_counts()\n",
    "n1 = class_dist_df[0]\n",
    "n2 = class_dist_df[1]\n",
    "mu = (n1*n2)/2\n",
    "sigma_u = np.sqrt((n1 * n2 * (n1+n2+1))/12)\n",
    "print(\"mu: {:f}, sigma: {:f}\".format(mu, sigma_u))"
   ]
  },
  {
   "cell_type": "code",
   "execution_count": 13,
   "metadata": {},
   "outputs": [
    {
     "data": {
      "text/html": [
       "<div>\n",
       "<style scoped>\n",
       "    .dataframe tbody tr th:only-of-type {\n",
       "        vertical-align: middle;\n",
       "    }\n",
       "\n",
       "    .dataframe tbody tr th {\n",
       "        vertical-align: top;\n",
       "    }\n",
       "\n",
       "    .dataframe thead th {\n",
       "        text-align: right;\n",
       "    }\n",
       "</style>\n",
       "<table border=\"1\" class=\"dataframe\">\n",
       "  <thead>\n",
       "    <tr style=\"text-align: right;\">\n",
       "      <th></th>\n",
       "      <th>auroc</th>\n",
       "    </tr>\n",
       "  </thead>\n",
       "  <tbody>\n",
       "    <tr>\n",
       "      <th>Bag of Words</th>\n",
       "      <td>0.568667</td>\n",
       "    </tr>\n",
       "    <tr>\n",
       "      <th>Doc2Vec 50k</th>\n",
       "      <td>0.563020</td>\n",
       "    </tr>\n",
       "  </tbody>\n",
       "</table>\n",
       "</div>"
      ],
      "text/plain": [
       "                 auroc\n",
       "Bag of Words  0.568667\n",
       "Doc2Vec 50k   0.563020"
      ]
     },
     "execution_count": 13,
     "metadata": {},
     "output_type": "execute_result"
    }
   ],
   "source": [
    "model_auc_df = pd.DataFrame.from_dict(model_aucs, orient='index')\n",
    "model_auc_df = model_auc_df.rename(index=str, columns={0:'auroc'})\n",
    "model_auc_df.head(2)"
   ]
  },
  {
   "cell_type": "code",
   "execution_count": 14,
   "metadata": {},
   "outputs": [
    {
     "data": {
      "text/html": [
       "<div>\n",
       "<style scoped>\n",
       "    .dataframe tbody tr th:only-of-type {\n",
       "        vertical-align: middle;\n",
       "    }\n",
       "\n",
       "    .dataframe tbody tr th {\n",
       "        vertical-align: top;\n",
       "    }\n",
       "\n",
       "    .dataframe thead th {\n",
       "        text-align: right;\n",
       "    }\n",
       "</style>\n",
       "<table border=\"1\" class=\"dataframe\">\n",
       "  <thead>\n",
       "    <tr style=\"text-align: right;\">\n",
       "      <th></th>\n",
       "      <th>auroc</th>\n",
       "      <th>u</th>\n",
       "      <th>z_u</th>\n",
       "    </tr>\n",
       "  </thead>\n",
       "  <tbody>\n",
       "    <tr>\n",
       "      <th>Bag of Words</th>\n",
       "      <td>0.568667</td>\n",
       "      <td>5942.0</td>\n",
       "      <td>1.673917</td>\n",
       "    </tr>\n",
       "    <tr>\n",
       "      <th>Doc2Vec 50k</th>\n",
       "      <td>0.563020</td>\n",
       "      <td>5883.0</td>\n",
       "      <td>1.536271</td>\n",
       "    </tr>\n",
       "  </tbody>\n",
       "</table>\n",
       "</div>"
      ],
      "text/plain": [
       "                 auroc       u       z_u\n",
       "Bag of Words  0.568667  5942.0  1.673917\n",
       "Doc2Vec 50k   0.563020  5883.0  1.536271"
      ]
     },
     "execution_count": 14,
     "metadata": {},
     "output_type": "execute_result"
    }
   ],
   "source": [
    "model_auc_df['u'] = model_auc_df.auroc.apply(lambda x: x*n1*n2)\n",
    "model_auc_df['z_u'] = model_auc_df.u.apply(lambda z_u: (z_u- mu)/sigma_u)\n",
    "model_auc_df.head(2)"
   ]
  },
  {
   "cell_type": "code",
   "execution_count": 15,
   "metadata": {},
   "outputs": [
    {
     "data": {
      "text/html": [
       "<div>\n",
       "<style scoped>\n",
       "    .dataframe tbody tr th:only-of-type {\n",
       "        vertical-align: middle;\n",
       "    }\n",
       "\n",
       "    .dataframe tbody tr th {\n",
       "        vertical-align: top;\n",
       "    }\n",
       "\n",
       "    .dataframe thead th {\n",
       "        text-align: right;\n",
       "    }\n",
       "</style>\n",
       "<table border=\"1\" class=\"dataframe\">\n",
       "  <thead>\n",
       "    <tr style=\"text-align: right;\">\n",
       "      <th></th>\n",
       "      <th>auroc</th>\n",
       "      <th>u</th>\n",
       "      <th>z_u</th>\n",
       "      <th>p_value</th>\n",
       "    </tr>\n",
       "  </thead>\n",
       "  <tbody>\n",
       "    <tr>\n",
       "      <th>Bag of Words</th>\n",
       "      <td>0.568667</td>\n",
       "      <td>5942.0</td>\n",
       "      <td>1.673917</td>\n",
       "      <td>0.047073</td>\n",
       "    </tr>\n",
       "    <tr>\n",
       "      <th>Doc2Vec 50k</th>\n",
       "      <td>0.563020</td>\n",
       "      <td>5883.0</td>\n",
       "      <td>1.536271</td>\n",
       "      <td>0.062236</td>\n",
       "    </tr>\n",
       "    <tr>\n",
       "      <th>Doc2Vec 500k</th>\n",
       "      <td>0.546942</td>\n",
       "      <td>5715.0</td>\n",
       "      <td>1.144329</td>\n",
       "      <td>0.126244</td>\n",
       "    </tr>\n",
       "    <tr>\n",
       "      <th>Doc2Vec All</th>\n",
       "      <td>0.476314</td>\n",
       "      <td>4977.0</td>\n",
       "      <td>-0.577414</td>\n",
       "      <td>0.718170</td>\n",
       "    </tr>\n",
       "  </tbody>\n",
       "</table>\n",
       "</div>"
      ],
      "text/plain": [
       "                 auroc       u       z_u   p_value\n",
       "Bag of Words  0.568667  5942.0  1.673917  0.047073\n",
       "Doc2Vec 50k   0.563020  5883.0  1.536271  0.062236\n",
       "Doc2Vec 500k  0.546942  5715.0  1.144329  0.126244\n",
       "Doc2Vec All   0.476314  4977.0 -0.577414  0.718170"
      ]
     },
     "execution_count": 15,
     "metadata": {},
     "output_type": "execute_result"
    }
   ],
   "source": [
    "model_auc_df['p_value'] = model_auc_df.z_u.apply(lambda z_u: norm.sf(z_u, loc=0, scale=1))\n",
    "model_auc_df"
   ]
  },
  {
   "cell_type": "markdown",
   "metadata": {},
   "source": [
    "# Precision vs Recall Curve"
   ]
  },
  {
   "cell_type": "markdown",
   "metadata": {},
   "source": [
    "This code produces a [Precision-Recall](http://scikit-learn.org/stable/auto_examples/model_selection/plot_precision_recall.html) graph, which shows the trade off between [precision and recall](https://en.wikipedia.org/wiki/Precision_and_recall) at each given probability threshold."
   ]
  },
  {
   "cell_type": "code",
   "execution_count": 16,
   "metadata": {
    "scrolled": false
   },
   "outputs": [
    {
     "data": {
      "text/plain": [
       "<matplotlib.legend.Legend at 0x7f0932c22160>"
      ]
     },
     "execution_count": 16,
     "metadata": {},
     "output_type": "execute_result"
    },
    {
     "data": {
      "image/png": "[encoded data removed]",
      "text/plain": [
       "<matplotlib.figure.Figure at 0x7f0932c22f60>"
      ]
     },
     "metadata": {},
     "output_type": "display_data"
    }
   ],
   "source": [
    "plt.figure(figsize=(7,5))\n",
    "\n",
    "positive_class = dev_sentence_df.curated_dsh.values.sum()/dev_sentence_df.shape[0]\n",
    "plt.plot([0,1], [positive_class, positive_class], color='grey', \n",
    "         linestyle='--', label='Baseline (AUC = {:0.2f})'.format(positive_class))\n",
    "\n",
    "for model in marginals_df.columns:\n",
    "    precision, recall, _ = precision_recall_curve(dev_sentence_df.curated_dsh.values, marginals_df[model])\n",
    "    model_auc = auc(recall, precision)\n",
    "    plt.plot(recall, precision, label=\"{} curve (AUC = {:0.2f})\".format(model, model_auc))\n",
    "\n",
    "plt.ylabel('Precision')\n",
    "plt.xlabel('Recall')\n",
    "plt.title('Precision vs Recall')\n",
    "plt.xlim([0, 1.01])\n",
    "plt.ylim([0, 1.05])\n",
    "plt.legend(loc=\"lower right\")"
   ]
  },
  {
   "cell_type": "markdown",
   "metadata": {},
   "source": [
    "# LSTM BENCHMARKING"
   ]
  },
  {
   "cell_type": "code",
   "execution_count": null,
   "metadata": {},
   "outputs": [],
   "source": [
    "import glob\n",
    "import os\n",
    "f, ax = plt.subplots(3,3, sharex='col', sharey='row', figsize=(12,8))\n",
    "color_map = {\n",
    "    \"0.25\":\"blue\",\n",
    "    \"0.5\":\"green\",\n",
    "    \"0.75\":\"brown\"\n",
    "}\n",
    "#Make graph learning rate by dimension\n",
    "index = 1\n",
    "for row, dimension in enumerate([100, 250,500]):\n",
    "    for col, lr in enumerate([0.0005, 0.001, 0.002]):\n",
    "        for diagnostics_file in glob.glob(r\"vanilla_lstm/benchmark/no_dropout/lstm_{}_*_{}.tsv\".format(lr, dimension)):\n",
    "            benchmark_label = os.path.splitext(os.path.basename(diagnostics_file))[0]\n",
    "            benchmark_label = re.search(r'_(\\d\\.\\d\\d?)_', benchmark_label).group(1)\n",
    "            \n",
    "            diagnostics_df = pd.read_table(diagnostics_file)\n",
    "            ax[col][row].plot(diagnostics_df[\"train_loss\"], label=\"_no_legend_\")\n",
    "            ax[col][row].plot(diagnostics_df[\"val_loss\"], label=\"Keep: {}\".format(benchmark_label), color=color_map[benchmark_label])\n",
    "        ax[col][row].set_title(\"Learn Rate: {}, Dim: {}\".format(lr, dimension))\n",
    "        if col==0 and row == 0:\n",
    "            f.legend()\n",
    "        index += 1\n",
    "f.text(0.5, 0.04, 'Epochs', ha='center', va='center')\n",
    "f.text(0.06, 0.5, 'Log Loss', ha='center', va='center', rotation='vertical')\n",
    "f.suptitle(\"LSTM Benchmark\", fontsize=14)\n",
    "#plt.xlim([0,105])\n",
    "#plt.ylim([0,0.3])\n",
    "#plt.xlabel(\"Epochs\")\n",
    "#plt.ylabel(\"Log Loss\")\n",
    "plt.show()"
   ]
  },
  {
   "cell_type": "code",
   "execution_count": null,
   "metadata": {},
   "outputs": [],
   "source": [
    "import glob\n",
    "import os\n",
    "f, ax = plt.subplots(2,2, sharex='col', sharey='row', figsize=(12,8))\n",
    "color_map = {\n",
    "    \"1\":\"red\",\n",
    "    \"0.25\":\"blue\",\n",
    "    \"0.5\":\"green\",\n",
    "    \"0.75\":\"brown\"\n",
    "}\n",
    "legend_dict = {}\n",
    "#Make graph learning rate by dimension\n",
    "index = 1\n",
    "for row, dimension in enumerate([250,500]):\n",
    "    for col, lr in enumerate([0.001, 0.002]):\n",
    "        for diagnostics_file in glob.glob(r\"vanilla_lstm/benchmark/dropout/lstm_{}_*_{}.tsv\".format(lr, dimension)):\n",
    "            benchmark_label = os.path.splitext(os.path.basename(diagnostics_file))[0]\n",
    "            benchmark_label = re.search(r'_(\\d\\.?\\d?\\d?)_', benchmark_label).group(1)\n",
    "\n",
    "            diagnostics_df = pd.read_table(diagnostics_file)\n",
    "            ax[col][row].plot(diagnostics_df[\"train_loss\"], color=color_map[benchmark_label], label='_nolegend_')\n",
    "            ax[col][row].plot(diagnostics_df[\"val_loss\"], label=\"Keep: {}\".format(benchmark_label), color=color_map[benchmark_label])\n",
    "        ax[col][row].set_title(\"Learn Rate: {}, Dim: {}\".format(lr, dimension))\n",
    "        #ax[col][row].legend()\n",
    "        index += 1\n",
    "        if col == 0 and row == 0:\n",
    "            f.legend()\n",
    "        #ax[col][row].set_ylim([0.175,0.2])\n",
    "f.text(0.5, 0.04, 'Epochs', ha='center', va='center')\n",
    "f.text(0.06, 0.5, 'Log Loss', ha='center', va='center', rotation='vertical')\n",
    "f.suptitle(\"LSTM Benchmark\", fontsize=14)\n",
    "plt.show()"
   ]
  },
  {
   "cell_type": "markdown",
   "metadata": {},
   "source": [
    "## LSTM Model Analysis"
   ]
  },
  {
   "cell_type": "code",
   "execution_count": null,
   "metadata": {},
   "outputs": [],
   "source": [
    "marginal_criteria = \"RNN_100_Marginals\"\n",
    "model_predictions = model_marginals[marginal_criteria].apply(lambda x: 1 if x > 0.5 else -1)\n",
    "model_predictions.head(10)"
   ]
  },
  {
   "cell_type": "code",
   "execution_count": null,
   "metadata": {},
   "outputs": [],
   "source": [
    "condition = (model_predictions == 1)&(model_marginals[\"True_Labels\"] == -1)\n",
    "model_marginals[condition].sort_values(marginal_criteria, ascending=False).head(10)"
   ]
  },
  {
   "cell_type": "code",
   "execution_count": null,
   "metadata": {},
   "outputs": [],
   "source": [
    "def insert(x, g_start, g_end, d_start, d_end, proba, d_cid, g_cid):\n",
    "    if d_start == x[0] or g_start == x[0]:\n",
    "        pos_str = \"<span title=\\\"{}\\\" style=\\\"background-color: rgba(0,255,0,{})\\\">{}\"\n",
    "        neg_str = \"<span title=\\\"{}\\\" style=\\\"background-color: rgba(255,0,0,{})\\\">{}\"\n",
    "        if proba > 0.5:\n",
    "            return pos_str.format(d_cid, proba, x[1]) if d_start == x[0] else pos_str.format(g_cid, proba, x[1])\n",
    "        else:\n",
    "            return neg_str.format(d_cid, 1-proba, x[1]) if d_start == x[0] else neg_str.format(g_cid, 1-proba, x[1])\n",
    "    elif d_end == x[0] or g_end == x[0]:\n",
    "            return \"{}</span>\".format(x[1])\n",
    "    else:\n",
    "        return x[1]"
   ]
  },
  {
   "cell_type": "markdown",
   "metadata": {},
   "source": [
    "## Look at the Sentences and the LSTM's predictions"
   ]
  },
  {
   "cell_type": "code",
   "execution_count": null,
   "metadata": {
    "scrolled": true
   },
   "outputs": [],
   "source": [
    "html_string = \"\"\n",
    "counter = 0\n",
    "sorted_marginals = (\n",
    "     model_marginals.query(\"@model_predictions ==1 & True_Labels == -1\")\n",
    "                    .sort_values(marginal_criteria, ascending=False)\n",
    ")\n",
    "\n",
    "for cand_index, marginal in tqdm.tqdm(sorted_marginals[marginal_criteria].iteritems()):\n",
    "    cand = test_set.iloc[cand_index]\n",
    "    counter += 1\n",
    "    \n",
    "    if counter == 10:\n",
    "        break\n",
    "        \n",
    "    if counter > 0:\n",
    "        gene_start = cand[\"gene_char_start\"]\n",
    "        gene_end = cand[\"gene_char_end\"]\n",
    "        disease_start = cand[\"disease_char_start\"]\n",
    "        disease_end = cand[\"disease_char_end\"]\n",
    "        letters = []\n",
    "\n",
    "        for x in enumerate(cand[\"sentence\"]):\n",
    "            letters.append(insert(x, gene_start, gene_end, disease_start, disease_end, marginal, cand[\"disease_id\"], cand[\"gene_id\"]))\n",
    "\n",
    "        html_string += \"<div title=\\\"{}\\\">{}</div><br />\".format(marginal, ''.join(letters))"
   ]
  },
  {
   "cell_type": "code",
   "execution_count": null,
   "metadata": {
    "scrolled": true
   },
   "outputs": [],
   "source": [
    "with open(\"html/candidate_viewer.html\", 'r') as f:\n",
    "    display(HTML(f.read().format(html_string)))"
   ]
  },
  {
   "cell_type": "markdown",
   "metadata": {},
   "source": [
    "# Write Results to CSV"
   ]
  },
  {
   "cell_type": "code",
   "execution_count": null,
   "metadata": {},
   "outputs": [],
   "source": [
    "model_marginals.to_csv(\"stratified_data/lstm_disease_gene_holdout/total_test_marginals.csv\", index=False)"
   ]
  }
 ],
 "metadata": {
  "kernelspec": {
   "display_name": "Python [conda env:snorkeling]",
   "language": "python",
   "name": "conda-env-snorkeling-py"
  },
  "language_info": {
   "codemirror_mode": {
    "name": "ipython",
    "version": 3
   },
   "file_extension": ".py",
   "mimetype": "text/x-python",
   "name": "python",
   "nbconvert_exporter": "python",
   "pygments_lexer": "ipython3",
   "version": "3.6.4"
  }
 },
 "nbformat": 4,
 "nbformat_minor": 2
}
