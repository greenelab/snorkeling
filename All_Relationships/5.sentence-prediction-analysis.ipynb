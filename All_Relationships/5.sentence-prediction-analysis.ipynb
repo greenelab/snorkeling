{
 "cells": [
  {
   "cell_type": "markdown",
   "metadata": {},
   "source": [
    "# Lets See How The Disc Models Preformed"
   ]
  },
  {
   "cell_type": "markdown",
   "metadata": {},
   "source": [
    "This notebook is designed to analyze the disc models performance and to answer the question does Long Short Term Memory Neural Net (LSTM) outperform SparseLogisticRegression (SLR)."
   ]
  },
  {
   "cell_type": "markdown",
   "metadata": {},
   "source": [
    "## MUST RUN AT THE START OF EVERYTHING"
   ]
  },
  {
   "cell_type": "markdown",
   "metadata": {},
   "source": [
    "Load the database and other helpful functions for analysis."
   ]
  },
  {
   "cell_type": "code",
   "execution_count": 1,
   "metadata": {},
   "outputs": [],
   "source": [
    "%load_ext autoreload\n",
    "%autoreload 2\n",
    "%matplotlib inline\n",
    "\n",
    "import csv\n",
    "import os\n",
    "\n",
    "from IPython.core.display import display, HTML\n",
    "import matplotlib.pyplot as plt\n",
    "import numpy as np\n",
    "import re\n",
    "import pandas as pd\n",
    "import seaborn as sns\n",
    "from sklearn.metrics import average_precision_score, precision_recall_curve, roc_curve, auc, f1_score, confusion_matrix\n",
    "import tqdm"
   ]
  },
  {
   "cell_type": "code",
   "execution_count": 2,
   "metadata": {},
   "outputs": [],
   "source": [
    "#Set up the environment\n",
    "username = \"danich1\"\n",
    "password = \"snorkel\"\n",
    "dbname = \"pubmeddb\"\n",
    "\n",
    "#Path subject to change for different os\n",
    "database_str = \"postgresql+psycopg2://{}:{}@/{}?host=/var/run/postgresql\".format(username, password, dbname)\n",
    "os.environ['SNORKELDB'] = database_str\n",
    "\n",
    "from snorkel import SnorkelSession\n",
    "session = SnorkelSession()"
   ]
  },
  {
   "cell_type": "code",
   "execution_count": 3,
   "metadata": {},
   "outputs": [],
   "source": [
    "from snorkel.annotations import FeatureAnnotator, LabelAnnotator, load_marginals\n",
    "from snorkel.learning import SparseLogisticRegression\n",
    "from snorkel.learning.disc_models.rnn import reRNN\n",
    "from snorkel.learning.utils import RandomSearch\n",
    "from snorkel.models import Candidate, FeatureKey, candidate_subclass\n",
    "from snorkel.utils import get_as_dict\n",
    "from snorkel.viewer import SentenceNgramViewer\n",
    "from sqlalchemy import and_\n",
    "from tree_structs import corenlp_to_xmltree\n",
    "from treedlib import compile_relation_feature_generator"
   ]
  },
  {
   "cell_type": "code",
   "execution_count": 4,
   "metadata": {},
   "outputs": [],
   "source": [
    "edge_type = \"dg\""
   ]
  },
  {
   "cell_type": "code",
   "execution_count": 5,
   "metadata": {},
   "outputs": [],
   "source": [
    "if edge_type == \"dg\":\n",
    "    DiseaseGene = candidate_subclass('DiseaseGene', ['Disease', 'Gene'])\n",
    "elif edge_type == \"gg\":\n",
    "    GeneGene = candidate_subclass('GeneGene', ['Gene1', 'Gene2'])\n",
    "elif edge_type == \"cg\":\n",
    "    CompoundGene = candidate_subclass('CompoundGene', ['Compound', 'Gene'])\n",
    "elif edge_type == \"cd\":\n",
    "    CompoundDisease = candidate_subclass('CompoundDisease', ['Compound', 'Disease'])\n",
    "else:\n",
    "    print(\"Please pick a valid edge type\")"
   ]
  },
  {
   "cell_type": "markdown",
   "metadata": {},
   "source": [
    "# Load the data"
   ]
  },
  {
   "cell_type": "markdown",
   "metadata": {},
   "source": [
    "Here is where we load the test dataset in conjunction with the previously trained disc models. Each algorithm will output a probability of a candidate being a true candidate."
   ]
  },
  {
   "cell_type": "code",
   "execution_count": 6,
   "metadata": {},
   "outputs": [],
   "source": [
    "labeler = LabelAnnotator(lfs=[])"
   ]
  },
  {
   "cell_type": "code",
   "execution_count": 7,
   "metadata": {},
   "outputs": [
    {
     "name": "stdout",
     "output_type": "stream",
     "text": [
      "CPU times: user 6.37 s, sys: 116 ms, total: 6.49 s\n",
      "Wall time: 7.73 s\n"
     ]
    }
   ],
   "source": [
    "%%time\n",
    "L_test = labeler.load_matrix(session,split=2)"
   ]
  },
  {
   "cell_type": "code",
   "execution_count": 8,
   "metadata": {},
   "outputs": [
    {
     "data": {
      "text/plain": [
       "(370179, 1)"
      ]
     },
     "execution_count": 8,
     "metadata": {},
     "output_type": "execute_result"
    }
   ],
   "source": [
    "L_test.shape"
   ]
  },
  {
   "cell_type": "code",
   "execution_count": 9,
   "metadata": {},
   "outputs": [],
   "source": [
    "marginal_files = [\n",
    "    \"stratified_data/lstm_disease_gene_holdout/LR_data/LR_test_marginals.csv\",\n",
    "    \"stratified_data/lstm_disease_gene_holdout/lstm_one_test_marginals.csv\",\n",
    "    \"stratified_data/lstm_disease_gene_holdout/lstm_ten_test_marginals.csv\",\n",
    "    \"stratified_data/lstm_disease_gene_holdout/full_data/lstm_test_full_marginals.csv\",\n",
    "]\n",
    "\n",
    "file_labels = [\n",
    "    \"LR_Marginals\",\n",
    "    \"RNN_1_Marginals\",\n",
    "    \"RNN_10_Marginals\",\n",
    "    \"RNN_100_Marginals\"\n",
    "]\n",
    "\n",
    "model_labels = [\n",
    "    \"LR\", \n",
    "    \"RNN_1%\", \n",
    "    \"RNN_10%\", \n",
    "    \"RNN_100%\"\n",
    "]\n",
    "\n",
    "model_colors = [\n",
    "    \"red\", \n",
    "    \"cyan\", \n",
    "    \"green\", \n",
    "    \"magenta\"\n",
    "]"
   ]
  },
  {
   "cell_type": "code",
   "execution_count": 10,
   "metadata": {},
   "outputs": [
    {
     "data": {
      "text/html": [
       "<div>\n",
       "<style>\n",
       "    .dataframe thead tr:only-child th {\n",
       "        text-align: right;\n",
       "    }\n",
       "\n",
       "    .dataframe thead th {\n",
       "        text-align: left;\n",
       "    }\n",
       "\n",
       "    .dataframe tbody tr th {\n",
       "        vertical-align: top;\n",
       "    }\n",
       "</style>\n",
       "<table border=\"1\" class=\"dataframe\">\n",
       "  <thead>\n",
       "    <tr style=\"text-align: right;\">\n",
       "      <th></th>\n",
       "      <th>True_Labels</th>\n",
       "      <th>LR_Marginals</th>\n",
       "      <th>RNN_1_Marginals</th>\n",
       "      <th>RNN_10_Marginals</th>\n",
       "      <th>RNN_100_Marginals</th>\n",
       "    </tr>\n",
       "  </thead>\n",
       "  <tbody>\n",
       "    <tr>\n",
       "      <th>0</th>\n",
       "      <td>-1</td>\n",
       "      <td>0.243101</td>\n",
       "      <td>0.597055</td>\n",
       "      <td>0.075171</td>\n",
       "      <td>0.931353</td>\n",
       "    </tr>\n",
       "    <tr>\n",
       "      <th>1</th>\n",
       "      <td>-1</td>\n",
       "      <td>0.160349</td>\n",
       "      <td>0.077737</td>\n",
       "      <td>0.083170</td>\n",
       "      <td>0.086639</td>\n",
       "    </tr>\n",
       "    <tr>\n",
       "      <th>2</th>\n",
       "      <td>-1</td>\n",
       "      <td>0.540355</td>\n",
       "      <td>0.239668</td>\n",
       "      <td>0.124027</td>\n",
       "      <td>0.077689</td>\n",
       "    </tr>\n",
       "    <tr>\n",
       "      <th>3</th>\n",
       "      <td>-1</td>\n",
       "      <td>0.280331</td>\n",
       "      <td>0.842973</td>\n",
       "      <td>0.825413</td>\n",
       "      <td>0.913539</td>\n",
       "    </tr>\n",
       "    <tr>\n",
       "      <th>4</th>\n",
       "      <td>-1</td>\n",
       "      <td>0.974173</td>\n",
       "      <td>0.318491</td>\n",
       "      <td>0.108504</td>\n",
       "      <td>0.082846</td>\n",
       "    </tr>\n",
       "    <tr>\n",
       "      <th>5</th>\n",
       "      <td>-1</td>\n",
       "      <td>0.977337</td>\n",
       "      <td>0.447077</td>\n",
       "      <td>0.913339</td>\n",
       "      <td>0.084903</td>\n",
       "    </tr>\n",
       "    <tr>\n",
       "      <th>6</th>\n",
       "      <td>1</td>\n",
       "      <td>0.243407</td>\n",
       "      <td>0.869101</td>\n",
       "      <td>0.783193</td>\n",
       "      <td>0.849494</td>\n",
       "    </tr>\n",
       "    <tr>\n",
       "      <th>7</th>\n",
       "      <td>-1</td>\n",
       "      <td>0.013809</td>\n",
       "      <td>0.236072</td>\n",
       "      <td>0.904772</td>\n",
       "      <td>0.912683</td>\n",
       "    </tr>\n",
       "    <tr>\n",
       "      <th>8</th>\n",
       "      <td>-1</td>\n",
       "      <td>0.082344</td>\n",
       "      <td>0.930859</td>\n",
       "      <td>0.859963</td>\n",
       "      <td>0.083307</td>\n",
       "    </tr>\n",
       "    <tr>\n",
       "      <th>9</th>\n",
       "      <td>-1</td>\n",
       "      <td>0.218000</td>\n",
       "      <td>0.087176</td>\n",
       "      <td>0.081915</td>\n",
       "      <td>0.078775</td>\n",
       "    </tr>\n",
       "    <tr>\n",
       "      <th>10</th>\n",
       "      <td>-1</td>\n",
       "      <td>0.357934</td>\n",
       "      <td>0.908066</td>\n",
       "      <td>0.926470</td>\n",
       "      <td>0.081480</td>\n",
       "    </tr>\n",
       "    <tr>\n",
       "      <th>11</th>\n",
       "      <td>-1</td>\n",
       "      <td>0.026652</td>\n",
       "      <td>0.079652</td>\n",
       "      <td>0.085180</td>\n",
       "      <td>0.075370</td>\n",
       "    </tr>\n",
       "    <tr>\n",
       "      <th>12</th>\n",
       "      <td>-1</td>\n",
       "      <td>0.449482</td>\n",
       "      <td>0.862640</td>\n",
       "      <td>0.083222</td>\n",
       "      <td>0.873895</td>\n",
       "    </tr>\n",
       "    <tr>\n",
       "      <th>13</th>\n",
       "      <td>-1</td>\n",
       "      <td>0.260079</td>\n",
       "      <td>0.086760</td>\n",
       "      <td>0.082916</td>\n",
       "      <td>0.069539</td>\n",
       "    </tr>\n",
       "    <tr>\n",
       "      <th>14</th>\n",
       "      <td>1</td>\n",
       "      <td>0.014872</td>\n",
       "      <td>0.903243</td>\n",
       "      <td>0.890658</td>\n",
       "      <td>0.915524</td>\n",
       "    </tr>\n",
       "    <tr>\n",
       "      <th>15</th>\n",
       "      <td>-1</td>\n",
       "      <td>0.556264</td>\n",
       "      <td>0.906579</td>\n",
       "      <td>0.872852</td>\n",
       "      <td>0.081783</td>\n",
       "    </tr>\n",
       "    <tr>\n",
       "      <th>16</th>\n",
       "      <td>-1</td>\n",
       "      <td>0.883303</td>\n",
       "      <td>0.819545</td>\n",
       "      <td>0.172866</td>\n",
       "      <td>0.083388</td>\n",
       "    </tr>\n",
       "    <tr>\n",
       "      <th>17</th>\n",
       "      <td>-1</td>\n",
       "      <td>0.719903</td>\n",
       "      <td>0.919589</td>\n",
       "      <td>0.883726</td>\n",
       "      <td>0.197774</td>\n",
       "    </tr>\n",
       "    <tr>\n",
       "      <th>18</th>\n",
       "      <td>1</td>\n",
       "      <td>0.948509</td>\n",
       "      <td>0.151783</td>\n",
       "      <td>0.921879</td>\n",
       "      <td>0.133011</td>\n",
       "    </tr>\n",
       "    <tr>\n",
       "      <th>19</th>\n",
       "      <td>-1</td>\n",
       "      <td>0.989308</td>\n",
       "      <td>0.924337</td>\n",
       "      <td>0.908989</td>\n",
       "      <td>0.095612</td>\n",
       "    </tr>\n",
       "  </tbody>\n",
       "</table>\n",
       "</div>"
      ],
      "text/plain": [
       "    True_Labels  LR_Marginals  RNN_1_Marginals  RNN_10_Marginals  \\\n",
       "0            -1      0.243101         0.597055          0.075171   \n",
       "1            -1      0.160349         0.077737          0.083170   \n",
       "2            -1      0.540355         0.239668          0.124027   \n",
       "3            -1      0.280331         0.842973          0.825413   \n",
       "4            -1      0.974173         0.318491          0.108504   \n",
       "5            -1      0.977337         0.447077          0.913339   \n",
       "6             1      0.243407         0.869101          0.783193   \n",
       "7            -1      0.013809         0.236072          0.904772   \n",
       "8            -1      0.082344         0.930859          0.859963   \n",
       "9            -1      0.218000         0.087176          0.081915   \n",
       "10           -1      0.357934         0.908066          0.926470   \n",
       "11           -1      0.026652         0.079652          0.085180   \n",
       "12           -1      0.449482         0.862640          0.083222   \n",
       "13           -1      0.260079         0.086760          0.082916   \n",
       "14            1      0.014872         0.903243          0.890658   \n",
       "15           -1      0.556264         0.906579          0.872852   \n",
       "16           -1      0.883303         0.819545          0.172866   \n",
       "17           -1      0.719903         0.919589          0.883726   \n",
       "18            1      0.948509         0.151783          0.921879   \n",
       "19           -1      0.989308         0.924337          0.908989   \n",
       "\n",
       "    RNN_100_Marginals  \n",
       "0            0.931353  \n",
       "1            0.086639  \n",
       "2            0.077689  \n",
       "3            0.913539  \n",
       "4            0.082846  \n",
       "5            0.084903  \n",
       "6            0.849494  \n",
       "7            0.912683  \n",
       "8            0.083307  \n",
       "9            0.078775  \n",
       "10           0.081480  \n",
       "11           0.075370  \n",
       "12           0.873895  \n",
       "13           0.069539  \n",
       "14           0.915524  \n",
       "15           0.081783  \n",
       "16           0.083388  \n",
       "17           0.197774  \n",
       "18           0.133011  \n",
       "19           0.095612  "
      ]
     },
     "execution_count": 10,
     "metadata": {},
     "output_type": "execute_result"
    }
   ],
   "source": [
    "model_marginals = pd.DataFrame(L_test.todense(), columns=[\"True_Labels\"])\n",
    "for marginal_label, marginal_file in zip(file_labels, marginal_files):\n",
    "    model_marginals[marginal_label] = pd.read_csv(marginal_file)\n",
    "\n",
    "model_marginals.head(20)"
   ]
  },
  {
   "cell_type": "code",
   "execution_count": 11,
   "metadata": {},
   "outputs": [],
   "source": [
    "test_set = pd.read_csv(\"stratified_data/lstm_disease_gene_holdout/test_candidates_sentences.csv\")"
   ]
  },
  {
   "cell_type": "markdown",
   "metadata": {},
   "source": [
    "# Accuracy ROC"
   ]
  },
  {
   "cell_type": "markdown",
   "metadata": {},
   "source": [
    "From the probabilities calculated above, we can create a [Receiver Operator Curve](http://scikit-learn.org/stable/auto_examples/model_selection/plot_roc.html) (ROC) graph to measure the false positive rate and the true positive rate at each calculated threshold."
   ]
  },
  {
   "cell_type": "code",
   "execution_count": 12,
   "metadata": {},
   "outputs": [
    {
     "data": {
      "text/plain": [
       "<matplotlib.legend.Legend at 0x7faf31225090>"
      ]
     },
     "execution_count": 12,
     "metadata": {},
     "output_type": "execute_result"
    },
    {
     "data": {
      "image/png": "[encoded data removed]",
      "text/plain": [
       "<matplotlib.figure.Figure at 0x7faf31225050>"
      ]
     },
     "metadata": {},
     "output_type": "display_data"
    }
   ],
   "source": [
    "marginal_labels = [col for col in model_marginals.columns if col != \"True_Labels\"]\n",
    "\n",
    "plt.plot([0, 1], [0, 1], color='navy', lw=2, linestyle='--')\n",
    "\n",
    "for marginal_label, model_label, model_color in zip(marginal_labels, model_labels, model_colors):\n",
    "    fpr, tpr, _= roc_curve(model_marginals[\"True_Labels\"], model_marginals[marginal_label])\n",
    "    model_auc = auc(fpr, tpr)\n",
    "    plt.plot(fpr, tpr, color=model_color, label=\"{} (area = {:0.2f})\".format(model_label, model_auc))\n",
    "\n",
    "plt.xlabel('False Positive Rate')\n",
    "plt.ylabel('True Positive Rate')\n",
    "plt.title('Accuracy ROC')\n",
    "plt.legend(loc=\"lower right\")"
   ]
  },
  {
   "cell_type": "markdown",
   "metadata": {},
   "source": [
    "# Precision vs Recall Curve"
   ]
  },
  {
   "cell_type": "markdown",
   "metadata": {},
   "source": [
    "This code produces a [Precision-Recall](http://scikit-learn.org/stable/auto_examples/model_selection/plot_precision_recall.html) graph, which shows the trade off between [precision and recall](https://en.wikipedia.org/wiki/Precision_and_recall) at each given probability threshold."
   ]
  },
  {
   "cell_type": "code",
   "execution_count": 13,
   "metadata": {
    "scrolled": false
   },
   "outputs": [
    {
     "data": {
      "text/plain": [
       "<matplotlib.legend.Legend at 0x7faf3107d050>"
      ]
     },
     "execution_count": 13,
     "metadata": {},
     "output_type": "execute_result"
    },
    {
     "data": {
      "image/png": "[encoded data removed]",
      "text/plain": [
       "<matplotlib.figure.Figure at 0x7faf3107db10>"
      ]
     },
     "metadata": {},
     "output_type": "display_data"
    }
   ],
   "source": [
    "marginal_labels = [col for col in model_marginals.columns if col != \"True_Labels\"]\n",
    "\n",
    "for marginal_label, model_label, model_color in zip(marginal_labels, model_labels, model_colors):\n",
    "    precision, recall, _ = precision_recall_curve(model_marginals[\"True_Labels\"], model_marginals[marginal_label])\n",
    "    model_precision = average_precision_score(model_marginals[\"True_Labels\"], model_marginals[marginal_label])\n",
    "    plt.plot(recall, precision, color=model_color, label=\"{} curve (area = {:0.2f})\".format(model_label, model_precision))\n",
    "\n",
    "plt.ylabel('Precision')\n",
    "plt.xlabel('Recall')\n",
    "plt.title('Precision vs Recall')\n",
    "plt.xlim([0, 1.01])\n",
    "plt.ylim([0, 1.05])\n",
    "plt.legend(loc=\"lower right\")"
   ]
  },
  {
   "cell_type": "markdown",
   "metadata": {},
   "source": [
    "## LSTM Model Analysis"
   ]
  },
  {
   "cell_type": "code",
   "execution_count": 14,
   "metadata": {},
   "outputs": [
    {
     "data": {
      "text/plain": [
       "0    1\n",
       "1   -1\n",
       "2   -1\n",
       "3    1\n",
       "4   -1\n",
       "5   -1\n",
       "6    1\n",
       "7    1\n",
       "8   -1\n",
       "9   -1\n",
       "Name: RNN_100_Marginals, dtype: int64"
      ]
     },
     "execution_count": 14,
     "metadata": {},
     "output_type": "execute_result"
    }
   ],
   "source": [
    "marginal_criteria = \"RNN_100_Marginals\"\n",
    "model_predictions = model_marginals[marginal_criteria].apply(lambda x: 1 if x > 0.5 else -1)\n",
    "model_predictions.head(10)"
   ]
  },
  {
   "cell_type": "code",
   "execution_count": 15,
   "metadata": {},
   "outputs": [
    {
     "data": {
      "text/html": [
       "<div>\n",
       "<style>\n",
       "    .dataframe thead tr:only-child th {\n",
       "        text-align: right;\n",
       "    }\n",
       "\n",
       "    .dataframe thead th {\n",
       "        text-align: left;\n",
       "    }\n",
       "\n",
       "    .dataframe tbody tr th {\n",
       "        vertical-align: top;\n",
       "    }\n",
       "</style>\n",
       "<table border=\"1\" class=\"dataframe\">\n",
       "  <thead>\n",
       "    <tr style=\"text-align: right;\">\n",
       "      <th></th>\n",
       "      <th>True_Labels</th>\n",
       "      <th>LR_Marginals</th>\n",
       "      <th>RNN_1_Marginals</th>\n",
       "      <th>RNN_10_Marginals</th>\n",
       "      <th>RNN_100_Marginals</th>\n",
       "    </tr>\n",
       "  </thead>\n",
       "  <tbody>\n",
       "    <tr>\n",
       "      <th>335424</th>\n",
       "      <td>-1</td>\n",
       "      <td>0.903915</td>\n",
       "      <td>0.184675</td>\n",
       "      <td>0.248141</td>\n",
       "      <td>0.959071</td>\n",
       "    </tr>\n",
       "    <tr>\n",
       "      <th>130799</th>\n",
       "      <td>-1</td>\n",
       "      <td>0.478930</td>\n",
       "      <td>0.909917</td>\n",
       "      <td>0.074331</td>\n",
       "      <td>0.954486</td>\n",
       "    </tr>\n",
       "    <tr>\n",
       "      <th>197847</th>\n",
       "      <td>-1</td>\n",
       "      <td>0.045081</td>\n",
       "      <td>0.080628</td>\n",
       "      <td>0.121645</td>\n",
       "      <td>0.948090</td>\n",
       "    </tr>\n",
       "    <tr>\n",
       "      <th>240975</th>\n",
       "      <td>-1</td>\n",
       "      <td>0.091269</td>\n",
       "      <td>0.175906</td>\n",
       "      <td>0.093475</td>\n",
       "      <td>0.947947</td>\n",
       "    </tr>\n",
       "    <tr>\n",
       "      <th>251942</th>\n",
       "      <td>-1</td>\n",
       "      <td>0.132327</td>\n",
       "      <td>0.251516</td>\n",
       "      <td>0.255259</td>\n",
       "      <td>0.946184</td>\n",
       "    </tr>\n",
       "    <tr>\n",
       "      <th>332058</th>\n",
       "      <td>-1</td>\n",
       "      <td>0.953001</td>\n",
       "      <td>0.913352</td>\n",
       "      <td>0.893019</td>\n",
       "      <td>0.943800</td>\n",
       "    </tr>\n",
       "    <tr>\n",
       "      <th>225077</th>\n",
       "      <td>-1</td>\n",
       "      <td>0.612063</td>\n",
       "      <td>0.099499</td>\n",
       "      <td>0.101888</td>\n",
       "      <td>0.942412</td>\n",
       "    </tr>\n",
       "    <tr>\n",
       "      <th>248904</th>\n",
       "      <td>-1</td>\n",
       "      <td>0.028165</td>\n",
       "      <td>0.091232</td>\n",
       "      <td>0.098654</td>\n",
       "      <td>0.942331</td>\n",
       "    </tr>\n",
       "    <tr>\n",
       "      <th>60364</th>\n",
       "      <td>-1</td>\n",
       "      <td>0.011452</td>\n",
       "      <td>0.926292</td>\n",
       "      <td>0.916194</td>\n",
       "      <td>0.941524</td>\n",
       "    </tr>\n",
       "    <tr>\n",
       "      <th>86615</th>\n",
       "      <td>-1</td>\n",
       "      <td>0.838836</td>\n",
       "      <td>0.786346</td>\n",
       "      <td>0.246717</td>\n",
       "      <td>0.941508</td>\n",
       "    </tr>\n",
       "  </tbody>\n",
       "</table>\n",
       "</div>"
      ],
      "text/plain": [
       "        True_Labels  LR_Marginals  RNN_1_Marginals  RNN_10_Marginals  \\\n",
       "335424           -1      0.903915         0.184675          0.248141   \n",
       "130799           -1      0.478930         0.909917          0.074331   \n",
       "197847           -1      0.045081         0.080628          0.121645   \n",
       "240975           -1      0.091269         0.175906          0.093475   \n",
       "251942           -1      0.132327         0.251516          0.255259   \n",
       "332058           -1      0.953001         0.913352          0.893019   \n",
       "225077           -1      0.612063         0.099499          0.101888   \n",
       "248904           -1      0.028165         0.091232          0.098654   \n",
       "60364            -1      0.011452         0.926292          0.916194   \n",
       "86615            -1      0.838836         0.786346          0.246717   \n",
       "\n",
       "        RNN_100_Marginals  \n",
       "335424           0.959071  \n",
       "130799           0.954486  \n",
       "197847           0.948090  \n",
       "240975           0.947947  \n",
       "251942           0.946184  \n",
       "332058           0.943800  \n",
       "225077           0.942412  \n",
       "248904           0.942331  \n",
       "60364            0.941524  \n",
       "86615            0.941508  "
      ]
     },
     "execution_count": 15,
     "metadata": {},
     "output_type": "execute_result"
    }
   ],
   "source": [
    "condition = (model_predictions == 1)&(model_marginals[\"True_Labels\"] == -1)\n",
    "model_marginals[condition].sort_values(marginal_criteria, ascending=False).head(10)"
   ]
  },
  {
   "cell_type": "code",
   "execution_count": 16,
   "metadata": {},
   "outputs": [],
   "source": [
    "def insert(x, g_start, g_end, d_start, d_end, proba, d_cid, g_cid):\n",
    "    if d_start == x[0] or g_start == x[0]:\n",
    "        pos_str = \"<span title=\\\"{}\\\" style=\\\"background-color: rgba(0,255,0,{})\\\">{}\"\n",
    "        neg_str = \"<span title=\\\"{}\\\" style=\\\"background-color: rgba(255,0,0,{})\\\">{}\"\n",
    "        if proba > 0.5:\n",
    "            return pos_str.format(d_cid, proba, x[1]) if d_start == x[0] else pos_str.format(g_cid, proba, x[1])\n",
    "        else:\n",
    "            return neg_str.format(d_cid, 1-proba, x[1]) if d_start == x[0] else neg_str.format(g_cid, 1-proba, x[1])\n",
    "    elif d_end == x[0] or g_end == x[0]:\n",
    "            return \"{}</span>\".format(x[1])\n",
    "    else:\n",
    "        return x[1]"
   ]
  },
  {
   "cell_type": "markdown",
   "metadata": {},
   "source": [
    "## Look at the Sentences and the LSTM's predictions"
   ]
  },
  {
   "cell_type": "code",
   "execution_count": 17,
   "metadata": {
    "scrolled": true
   },
   "outputs": [
    {
     "name": "stderr",
     "output_type": "stream",
     "text": [
      "0it [00:00, ?it/s]\n"
     ]
    }
   ],
   "source": [
    "html_string = \"\"\n",
    "counter = 0\n",
    "sorted_marginals = (\n",
    "     model_marginals.query(\"@model_predictions ==1 & True_Labels == -1\")\n",
    "                    .sort_values(marginal_criteria, ascending=False)\n",
    ")\n",
    "\n",
    "for cand_index, marginal in tqdm.tqdm(sorted_marginals[marginal_criteria].iteritems()):\n",
    "    cand = test_set.iloc[cand_index]\n",
    "    counter += 1\n",
    "    \n",
    "    if counter == 10:\n",
    "        break\n",
    "        \n",
    "    if counter > 0:\n",
    "        gene_start = cand[\"gene_char_start\"]\n",
    "        gene_end = cand[\"gene_char_end\"]\n",
    "        disease_start = cand[\"disease_char_start\"]\n",
    "        disease_end = cand[\"disease_char_end\"]\n",
    "        letters = []\n",
    "\n",
    "        for x in enumerate(cand[\"sentence\"]):\n",
    "            letters.append(insert(x, gene_start, gene_end, disease_start, disease_end, marginal, cand[\"disease_id\"], cand[\"gene_id\"]))\n",
    "\n",
    "        html_string += \"<div title=\\\"{}\\\">{}</div><br />\".format(marginal, ''.join(letters))"
   ]
  },
  {
   "cell_type": "code",
   "execution_count": 18,
   "metadata": {
    "scrolled": true
   },
   "outputs": [
    {
     "data": {
      "text/html": [
       "<html>\n",
       "<head>\n",
       "</head>\n",
       "<body>\n",
       "<div title=\"0.959071159363\">In <span title=\"DOID:8398\" style=\"background-color: rgba(0,255,0,0.959071159363)\">non-ROA</span> patients, leptin, <span title=\"9370\" style=\"background-color: rgba(0,255,0,0.959071159363)\">adiponectin</span>, and resistin were not significantly associated with cartilage volume at any site.</div><br /><div title=\"0.954486012459\">Expression of the interleukin-7 receptor alpha chain (<span title=\"3575\" style=\"background-color: rgba(0,255,0,0.954486012459)\">CD127)</span> on virus-specific CD8+ T cells identifies functionally and phenotypically defined memory T cells during acute resolving <span title=\"DOID:2043\" style=\"background-color: rgba(0,255,0,0.954486012459)\">hepatitis B virus infection</span>.</div><br /><div title=\"0.948089659214\">Conversely, <span title=\"DOID:219\" style=\"background-color: rgba(0,255,0,0.948089659214)\">colon carcinoma</span> cells that lacked <span title=\"1723\" style=\"background-color: rgba(0,255,0,0.948089659214)\">DHODH</span> expression were markedly resistant to the pro-oxidant and cytotoxic effects of 4HPR.</div><br /><div title=\"0.947946727276\">RESULTS: Level of circulating CD4+CD25+<span title=\"3575\" style=\"background-color: rgba(0,255,0,0.947946727276)\">CD127</span>- Tregs in HCC patients was significantly lower than that in healthy donors and patients with chronic <span title=\"DOID:2043\" style=\"background-color: rgba(0,255,0,0.947946727276)\">hepatitis B infection</span> before surgery, but was increased after surgery.</div><br /><div title=\"0.946184396744\">However, the function of <span title=\"23411\" style=\"background-color: rgba(0,255,0,0.946184396744)\">SIRT1</span> in <span title=\"DOID:3070\" style=\"background-color: rgba(0,255,0,0.946184396744)\">glioma</span> was unknown.</div><br /><div title=\"0.943800449371\">Among the <span title=\"DOID:3070\" style=\"background-color: rgba(0,255,0,0.943800449371)\">GBM</span> cases it was noted that the IDH1 immunopositive tumors (R132H mutant protein; n=17) had a low MnSOD expression as opposed to IDH1 immunonegative tumors (n=106), which had high expression of <span title=\"6648\" style=\"background-color: rgba(0,255,0,0.943800449371)\">MnSOD</span> (p=0.0307).</div><br /><div title=\"0.942411541939\"><span title=\"3822\" style=\"background-color: rgba(0,255,0,0.942411541939)\">KLRC2</span> was overexpressed in active (p = 0.0037) and <span title=\"DOID:10608\" style=\"background-color: rgba(0,255,0,0.942411541939)\">GFD</span> (p = 0.0469) patients compared with non-CD controls and coexpressed with KIR3DL1.</div><br /><div title=\"0.942331016064\"><span title=\"23411\" style=\"background-color: rgba(0,255,0,0.942331016064)\">SIRT1</span> reexpression or knockdown was induced in human <span title=\"DOID:3070\" style=\"background-color: rgba(0,255,0,0.942331016064)\">glioma</span> cell lines.</div><br /><div title=\"0.941524326801\">Discordant detection of monosomy 7 by <span title=\"2678\" style=\"background-color: rgba(0,255,0,0.941524326801)\">GTG-banding</span> and FISH in a patient with Shwachman-Diamond syndrome without evidence of <span title=\"DOID:2531\" style=\"background-color: rgba(0,255,0,0.941524326801)\">myelodysplastic syndrome</span> or acute myelogenous leukemia.</div><br />\n",
       "</body>\n",
       "</html>\n"
      ],
      "text/plain": [
       "<IPython.core.display.HTML object>"
      ]
     },
     "metadata": {},
     "output_type": "display_data"
    }
   ],
   "source": [
    "with open(\"html/candidate_viewer.html\", 'r') as f:\n",
    "    display(HTML(f.read().format(html_string)))"
   ]
  },
  {
   "cell_type": "markdown",
   "metadata": {},
   "source": [
    "# Write Results to CSV"
   ]
  },
  {
   "cell_type": "code",
   "execution_count": 19,
   "metadata": {},
   "outputs": [],
   "source": [
    "model_marginals.to_csv(\"stratified_data/lstm_disease_gene_holdout/total_test_marginals.csv\", index=False)"
   ]
  }
 ],
 "metadata": {
  "kernelspec": {
   "display_name": "Python 2",
   "language": "python",
   "name": "python2"
  },
  "language_info": {
   "codemirror_mode": {
    "name": "ipython",
    "version": 2
   },
   "file_extension": ".py",
   "mimetype": "text/x-python",
   "name": "python",
   "nbconvert_exporter": "python",
   "pygments_lexer": "ipython2",
   "version": "2.7.14"
  }
 },
 "nbformat": 4,
 "nbformat_minor": 2
}
