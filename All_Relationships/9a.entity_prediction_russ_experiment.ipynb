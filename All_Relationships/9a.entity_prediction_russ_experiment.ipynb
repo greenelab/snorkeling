{
 "cells": [
  {
   "cell_type": "markdown",
   "metadata": {},
   "source": [
    "# Train/Test the True Relationship Model"
   ]
  },
  {
   "cell_type": "markdown",
   "metadata": {},
   "source": [
    "This notebook is design to predict DG relationships on the entity level. Here we are taking the input from this [paper](https://zenodo.org/record/1035500#.W3Hc-RgpBrk), prior probability notebook and the summary statistics notebook, then combinding it into a single dataset. From there we train a Ridge LR model and an elastic net LR model to make the final prediction."
   ]
  },
  {
   "cell_type": "code",
   "execution_count": 1,
   "metadata": {
    "ExecuteTime": {
     "end_time": "2018-08-17T16:18:32.254462Z",
     "start_time": "2018-08-17T16:18:28.872093Z"
    }
   },
   "outputs": [],
   "source": [
    "%load_ext autoreload\n",
    "%autoreload 2\n",
    "%matplotlib inline\n",
    "\n",
    "from collections import defaultdict\n",
    "import csv\n",
    "import os\n",
    "\n",
    "import matplotlib.pyplot as plt\n",
    "import numpy as np\n",
    "import pandas as pd\n",
    "import tqdm\n",
    "import re\n",
    "from scipy.stats import fisher_exact\n",
    "from scipy.special import logit\n",
    "import scipy\n",
    "from sqlalchemy import and_\n",
    "from sklearn.linear_model import LogisticRegression, SGDClassifier\n",
    "from sklearn.metrics import average_precision_score, precision_recall_curve, roc_curve, auc, f1_score, confusion_matrix\n",
    "from sklearn.model_selection import GridSearchCV\n",
    "from sklearn.preprocessing import StandardScaler\n",
    "import seaborn as sns"
   ]
  },
  {
   "cell_type": "markdown",
   "metadata": {},
   "source": [
    "# Incorporate [Russ's Data](https://zenodo.org/record/1035500#.W3Hc-RgpBrk) into our Entity Dataframe"
   ]
  },
  {
   "cell_type": "code",
   "execution_count": 2,
   "metadata": {
    "ExecuteTime": {
     "end_time": "2018-08-17T16:18:49.113763Z",
     "start_time": "2018-08-17T16:18:32.257574Z"
    }
   },
   "outputs": [
    {
     "data": {
      "text/html": [
       "<div>\n",
       "<style scoped>\n",
       "    .dataframe tbody tr th:only-of-type {\n",
       "        vertical-align: middle;\n",
       "    }\n",
       "\n",
       "    .dataframe tbody tr th {\n",
       "        vertical-align: top;\n",
       "    }\n",
       "\n",
       "    .dataframe thead th {\n",
       "        text-align: right;\n",
       "    }\n",
       "</style>\n",
       "<table border=\"1\" class=\"dataframe\">\n",
       "  <thead>\n",
       "    <tr style=\"text-align: right;\">\n",
       "      <th></th>\n",
       "      <th>pubmed_id</th>\n",
       "      <th>sentence_num</th>\n",
       "      <th>first_entity</th>\n",
       "      <th>first_entity_location</th>\n",
       "      <th>second_entity</th>\n",
       "      <th>second_entity_location</th>\n",
       "      <th>first_entity_string</th>\n",
       "      <th>second_entity_string</th>\n",
       "      <th>first_entity_db_id</th>\n",
       "      <th>second_entity_db_id</th>\n",
       "      <th>first_entity_type</th>\n",
       "      <th>second_entity_type</th>\n",
       "      <th>dependency_path</th>\n",
       "      <th>sentence_string</th>\n",
       "    </tr>\n",
       "  </thead>\n",
       "  <tbody>\n",
       "    <tr>\n",
       "      <th>0</th>\n",
       "      <td>27955536</td>\n",
       "      <td>7</td>\n",
       "      <td>101F6</td>\n",
       "      <td>1227,1232</td>\n",
       "      <td>lung_cancers</td>\n",
       "      <td>1204,1216</td>\n",
       "      <td>101F6</td>\n",
       "      <td>lung cancers</td>\n",
       "      <td>11068</td>\n",
       "      <td>MESH:D008175</td>\n",
       "      <td>Gene</td>\n",
       "      <td>Disease</td>\n",
       "      <td>expressed|dobj|START_ENTITY expressed|nsubj|EN...</td>\n",
       "      <td>All normal lung bronchial epithelial cells and...</td>\n",
       "    </tr>\n",
       "    <tr>\n",
       "      <th>1</th>\n",
       "      <td>11980673</td>\n",
       "      <td>2</td>\n",
       "      <td>101F6</td>\n",
       "      <td>483,488</td>\n",
       "      <td>tumor</td>\n",
       "      <td>529,534</td>\n",
       "      <td>101F6</td>\n",
       "      <td>tumor</td>\n",
       "      <td>11068</td>\n",
       "      <td>MESH:D009369</td>\n",
       "      <td>Gene</td>\n",
       "      <td>Disease</td>\n",
       "      <td>effects|dep|START_ENTITY studied|dobj|effects ...</td>\n",
       "      <td>We studied the effects of six of these 3p21 .3...</td>\n",
       "    </tr>\n",
       "  </tbody>\n",
       "</table>\n",
       "</div>"
      ],
      "text/plain": [
       "   pubmed_id  sentence_num first_entity first_entity_location second_entity  \\\n",
       "0   27955536             7        101F6             1227,1232  lung_cancers   \n",
       "1   11980673             2        101F6               483,488         tumor   \n",
       "\n",
       "  second_entity_location first_entity_string second_entity_string  \\\n",
       "0              1204,1216               101F6         lung cancers   \n",
       "1                529,534               101F6                tumor   \n",
       "\n",
       "  first_entity_db_id second_entity_db_id first_entity_type second_entity_type  \\\n",
       "0              11068        MESH:D008175              Gene            Disease   \n",
       "1              11068        MESH:D009369              Gene            Disease   \n",
       "\n",
       "                                     dependency_path  \\\n",
       "0  expressed|dobj|START_ENTITY expressed|nsubj|EN...   \n",
       "1  effects|dep|START_ENTITY studied|dobj|effects ...   \n",
       "\n",
       "                                     sentence_string  \n",
       "0  All normal lung bronchial epithelial cells and...  \n",
       "1  We studied the effects of six of these 3p21 .3...  "
      ]
     },
     "execution_count": 2,
     "metadata": {},
     "output_type": "execute_result"
    }
   ],
   "source": [
    "named_columns = [\"pubmed_id\", \"sentence_num\", \"first_entity\", \n",
    "                 \"first_entity_location\", \"second_entity\", \"second_entity_location\", \n",
    "                 \"first_entity_string\", \"second_entity_string\", \"first_entity_db_id\", \n",
    "                 \"second_entity_db_id\", \"first_entity_type\", \"second_entity_type\", \n",
    "                 \"dependency_path\", \"sentence_string\"\n",
    "                ]\n",
    "russ_df = pd.read_table(\"data/disease_gene/disease_associates_gene/biclustering/part-ii-dependency-paths-gene-disease-sorted-with-themes.txt\", \n",
    "                        names=named_columns)\n",
    "russ_df.head(2)"
   ]
  },
  {
   "cell_type": "code",
   "execution_count": 3,
   "metadata": {
    "ExecuteTime": {
     "end_time": "2018-08-17T16:18:49.501111Z",
     "start_time": "2018-08-17T16:18:49.115665Z"
    }
   },
   "outputs": [
    {
     "data": {
      "text/html": [
       "<div>\n",
       "<style scoped>\n",
       "    .dataframe tbody tr th:only-of-type {\n",
       "        vertical-align: middle;\n",
       "    }\n",
       "\n",
       "    .dataframe tbody tr th {\n",
       "        vertical-align: top;\n",
       "    }\n",
       "\n",
       "    .dataframe thead th {\n",
       "        text-align: right;\n",
       "    }\n",
       "</style>\n",
       "<table border=\"1\" class=\"dataframe\">\n",
       "  <thead>\n",
       "    <tr style=\"text-align: right;\">\n",
       "      <th></th>\n",
       "      <th>disease_id</th>\n",
       "      <th>disease_name</th>\n",
       "      <th>gene_id</th>\n",
       "      <th>gene_name</th>\n",
       "      <th>nlog10_p_value</th>\n",
       "      <th>co_odds_ratio</th>\n",
       "      <th>co_expected_sen_count</th>\n",
       "      <th>delta_lower_ci</th>\n",
       "      <th>lstm_avg_marginal</th>\n",
       "      <th>lstm_marginal_0_quantile</th>\n",
       "      <th>lstm_marginal_20_quantile</th>\n",
       "      <th>lstm_marginal_40_quantile</th>\n",
       "      <th>lstm_marginal_60_quantile</th>\n",
       "      <th>lstm_marginal_80_quantile</th>\n",
       "      <th>hetnet_labels</th>\n",
       "    </tr>\n",
       "  </thead>\n",
       "  <tbody>\n",
       "    <tr>\n",
       "      <th>0</th>\n",
       "      <td>DOID:12849</td>\n",
       "      <td>autistic disorder</td>\n",
       "      <td>3569</td>\n",
       "      <td>IL6</td>\n",
       "      <td>2.072881e-04</td>\n",
       "      <td>0.617773</td>\n",
       "      <td>62.795531</td>\n",
       "      <td>-0.001252</td>\n",
       "      <td>0.747175</td>\n",
       "      <td>0.075081</td>\n",
       "      <td>0.650967</td>\n",
       "      <td>0.907099</td>\n",
       "      <td>0.913931</td>\n",
       "      <td>0.916503</td>\n",
       "      <td>1</td>\n",
       "    </tr>\n",
       "    <tr>\n",
       "      <th>1</th>\n",
       "      <td>DOID:3070</td>\n",
       "      <td>malignant glioma</td>\n",
       "      <td>567</td>\n",
       "      <td>B2M</td>\n",
       "      <td>3.358850e-09</td>\n",
       "      <td>0.192395</td>\n",
       "      <td>86.200979</td>\n",
       "      <td>-0.025416</td>\n",
       "      <td>0.130409</td>\n",
       "      <td>0.076953</td>\n",
       "      <td>0.078801</td>\n",
       "      <td>0.081089</td>\n",
       "      <td>0.082576</td>\n",
       "      <td>0.086210</td>\n",
       "      <td>-1</td>\n",
       "    </tr>\n",
       "  </tbody>\n",
       "</table>\n",
       "</div>"
      ],
      "text/plain": [
       "   disease_id       disease_name  gene_id gene_name  nlog10_p_value  \\\n",
       "0  DOID:12849  autistic disorder     3569       IL6    2.072881e-04   \n",
       "1   DOID:3070   malignant glioma      567       B2M    3.358850e-09   \n",
       "\n",
       "   co_odds_ratio  co_expected_sen_count  delta_lower_ci  lstm_avg_marginal  \\\n",
       "0       0.617773              62.795531       -0.001252           0.747175   \n",
       "1       0.192395              86.200979       -0.025416           0.130409   \n",
       "\n",
       "   lstm_marginal_0_quantile  lstm_marginal_20_quantile  \\\n",
       "0                  0.075081                   0.650967   \n",
       "1                  0.076953                   0.078801   \n",
       "\n",
       "   lstm_marginal_40_quantile  lstm_marginal_60_quantile  \\\n",
       "0                   0.907099                   0.913931   \n",
       "1                   0.081089                   0.082576   \n",
       "\n",
       "   lstm_marginal_80_quantile  hetnet_labels  \n",
       "0                   0.916503              1  \n",
       "1                   0.086210             -1  "
      ]
     },
     "execution_count": 3,
     "metadata": {},
     "output_type": "execute_result"
    }
   ],
   "source": [
    "disease_gene_df = pd.read_csv(\"data/disease_gene_summary_stats.csv\")\n",
    "disease_gene_df.head(2)"
   ]
  },
  {
   "cell_type": "code",
   "execution_count": 4,
   "metadata": {
    "ExecuteTime": {
     "end_time": "2018-08-17T16:18:50.948010Z",
     "start_time": "2018-08-17T16:18:49.502661Z"
    }
   },
   "outputs": [
    {
     "data": {
      "text/html": [
       "<div>\n",
       "<style scoped>\n",
       "    .dataframe tbody tr th:only-of-type {\n",
       "        vertical-align: middle;\n",
       "    }\n",
       "\n",
       "    .dataframe tbody tr th {\n",
       "        vertical-align: top;\n",
       "    }\n",
       "\n",
       "    .dataframe thead th {\n",
       "        text-align: right;\n",
       "    }\n",
       "</style>\n",
       "<table border=\"1\" class=\"dataframe\">\n",
       "  <thead>\n",
       "    <tr style=\"text-align: right;\">\n",
       "      <th></th>\n",
       "      <th>disease_id</th>\n",
       "      <th>disease_name</th>\n",
       "      <th>gene_id</th>\n",
       "      <th>gene_name</th>\n",
       "      <th>nlog10_p_value</th>\n",
       "      <th>co_odds_ratio</th>\n",
       "      <th>co_expected_sen_count</th>\n",
       "      <th>delta_lower_ci</th>\n",
       "      <th>hetnet_labels</th>\n",
       "      <th>pubmed_id</th>\n",
       "      <th>sentence_num</th>\n",
       "      <th>dependency_path</th>\n",
       "      <th>sentence_string</th>\n",
       "    </tr>\n",
       "  </thead>\n",
       "  <tbody>\n",
       "    <tr>\n",
       "      <th>0</th>\n",
       "      <td>DOID:12849</td>\n",
       "      <td>autistic disorder</td>\n",
       "      <td>3569</td>\n",
       "      <td>IL6</td>\n",
       "      <td>2.072881e-04</td>\n",
       "      <td>0.617773</td>\n",
       "      <td>62.795531</td>\n",
       "      <td>-0.001252</td>\n",
       "      <td>1</td>\n",
       "      <td>NaN</td>\n",
       "      <td>NaN</td>\n",
       "      <td>NaN</td>\n",
       "      <td>NaN</td>\n",
       "    </tr>\n",
       "    <tr>\n",
       "      <th>1</th>\n",
       "      <td>DOID:3070</td>\n",
       "      <td>malignant glioma</td>\n",
       "      <td>567</td>\n",
       "      <td>B2M</td>\n",
       "      <td>3.358850e-09</td>\n",
       "      <td>0.192395</td>\n",
       "      <td>86.200979</td>\n",
       "      <td>-0.025416</td>\n",
       "      <td>-1</td>\n",
       "      <td>NaN</td>\n",
       "      <td>NaN</td>\n",
       "      <td>NaN</td>\n",
       "      <td>NaN</td>\n",
       "    </tr>\n",
       "  </tbody>\n",
       "</table>\n",
       "</div>"
      ],
      "text/plain": [
       "   disease_id       disease_name  gene_id gene_name  nlog10_p_value  \\\n",
       "0  DOID:12849  autistic disorder     3569       IL6    2.072881e-04   \n",
       "1   DOID:3070   malignant glioma      567       B2M    3.358850e-09   \n",
       "\n",
       "   co_odds_ratio  co_expected_sen_count  delta_lower_ci  hetnet_labels  \\\n",
       "0       0.617773              62.795531       -0.001252              1   \n",
       "1       0.192395              86.200979       -0.025416             -1   \n",
       "\n",
       "   pubmed_id  sentence_num dependency_path sentence_string  \n",
       "0        NaN           NaN             NaN             NaN  \n",
       "1        NaN           NaN             NaN             NaN  "
      ]
     },
     "execution_count": 4,
     "metadata": {},
     "output_type": "execute_result"
    }
   ],
   "source": [
    "disease_gene_russ_df = (\n",
    "    disease_gene_df[[col for col in disease_gene_df.columns if \"lstm\" not in col]]\n",
    "    .astype({'disease_name':str, 'gene_name':str})\n",
    "    .merge(\n",
    "        russ_df\n",
    "        .astype({'first_entity':str, 'second_entity':str}),\n",
    "        left_on=[\"gene_name\", \"disease_name\"], right_on=[\"first_entity\", \"second_entity\"], how='left')\n",
    ")\n",
    "(\n",
    "    disease_gene_russ_df[\n",
    "        [\"disease_id\", \"disease_name\", \"gene_id\", \n",
    "         \"gene_name\", \"nlog10_p_value\", \"co_odds_ratio\", \n",
    "         \"co_expected_sen_count\", \"delta_lower_ci\", \"hetnet_labels\", \n",
    "         \"pubmed_id\", \"sentence_num\", \"dependency_path\", \"sentence_string\"]\n",
    "    ]\n",
    "    .head(2)\n",
    ")"
   ]
  },
  {
   "cell_type": "code",
   "execution_count": 5,
   "metadata": {
    "ExecuteTime": {
     "end_time": "2018-08-17T16:18:50.962934Z",
     "start_time": "2018-08-17T16:18:50.950054Z"
    }
   },
   "outputs": [],
   "source": [
    "# fix the dependency path strings so they will match\n",
    "def fix(x):\n",
    "    x = re.sub('START_ENTITY', 'start_entity', x)\n",
    "    x = re.sub('END_ENTITY', 'end_entity', x)\n",
    "    return x"
   ]
  },
  {
   "cell_type": "code",
   "execution_count": 6,
   "metadata": {
    "ExecuteTime": {
     "end_time": "2018-08-17T16:18:51.396481Z",
     "start_time": "2018-08-17T16:18:50.964559Z"
    }
   },
   "outputs": [],
   "source": [
    "disease_gene_russ_df.dependency_path = disease_gene_russ_df.dependency_path.astype(str).apply(fix)"
   ]
  },
  {
   "cell_type": "code",
   "execution_count": 7,
   "metadata": {
    "ExecuteTime": {
     "end_time": "2018-08-17T16:18:56.969903Z",
     "start_time": "2018-08-17T16:18:51.398584Z"
    }
   },
   "outputs": [
    {
     "data": {
      "text/html": [
       "<div>\n",
       "<style scoped>\n",
       "    .dataframe tbody tr th:only-of-type {\n",
       "        vertical-align: middle;\n",
       "    }\n",
       "\n",
       "    .dataframe tbody tr th {\n",
       "        vertical-align: top;\n",
       "    }\n",
       "\n",
       "    .dataframe thead th {\n",
       "        text-align: right;\n",
       "    }\n",
       "</style>\n",
       "<table border=\"1\" class=\"dataframe\">\n",
       "  <thead>\n",
       "    <tr style=\"text-align: right;\">\n",
       "      <th></th>\n",
       "      <th>path</th>\n",
       "      <th>U</th>\n",
       "      <th>U.ind</th>\n",
       "      <th>Ud</th>\n",
       "      <th>Ud.ind</th>\n",
       "      <th>D</th>\n",
       "      <th>D.ind</th>\n",
       "      <th>J</th>\n",
       "      <th>J.ind</th>\n",
       "      <th>Te</th>\n",
       "      <th>...</th>\n",
       "      <th>Y</th>\n",
       "      <th>Y.ind</th>\n",
       "      <th>G</th>\n",
       "      <th>G.ind</th>\n",
       "      <th>Md</th>\n",
       "      <th>Md.ind</th>\n",
       "      <th>X</th>\n",
       "      <th>X.ind</th>\n",
       "      <th>L</th>\n",
       "      <th>L.ind</th>\n",
       "    </tr>\n",
       "  </thead>\n",
       "  <tbody>\n",
       "    <tr>\n",
       "      <th>0</th>\n",
       "      <td>correlated|nsubj|start_entity correlated|nmod|...</td>\n",
       "      <td>0.0</td>\n",
       "      <td>0</td>\n",
       "      <td>1.0</td>\n",
       "      <td>0</td>\n",
       "      <td>0.0</td>\n",
       "      <td>0</td>\n",
       "      <td>28.0</td>\n",
       "      <td>0</td>\n",
       "      <td>5.0</td>\n",
       "      <td>...</td>\n",
       "      <td>4.0</td>\n",
       "      <td>0</td>\n",
       "      <td>2.0</td>\n",
       "      <td>0</td>\n",
       "      <td>5.0</td>\n",
       "      <td>0</td>\n",
       "      <td>11.0</td>\n",
       "      <td>0</td>\n",
       "      <td>1.0</td>\n",
       "      <td>0</td>\n",
       "    </tr>\n",
       "    <tr>\n",
       "      <th>1</th>\n",
       "      <td>vector|compound|start_entity transfected|nmod|...</td>\n",
       "      <td>1.0</td>\n",
       "      <td>0</td>\n",
       "      <td>0.0</td>\n",
       "      <td>0</td>\n",
       "      <td>2.0</td>\n",
       "      <td>0</td>\n",
       "      <td>1.0</td>\n",
       "      <td>0</td>\n",
       "      <td>0.0</td>\n",
       "      <td>...</td>\n",
       "      <td>1.0</td>\n",
       "      <td>0</td>\n",
       "      <td>0.0</td>\n",
       "      <td>0</td>\n",
       "      <td>1.0</td>\n",
       "      <td>0</td>\n",
       "      <td>1.0</td>\n",
       "      <td>0</td>\n",
       "      <td>14.0</td>\n",
       "      <td>0</td>\n",
       "    </tr>\n",
       "  </tbody>\n",
       "</table>\n",
       "<p>2 rows × 21 columns</p>\n",
       "</div>"
      ],
      "text/plain": [
       "                                                path    U  U.ind   Ud  Ud.ind  \\\n",
       "0  correlated|nsubj|start_entity correlated|nmod|...  0.0      0  1.0       0   \n",
       "1  vector|compound|start_entity transfected|nmod|...  1.0      0  0.0       0   \n",
       "\n",
       "     D  D.ind     J  J.ind   Te  ...      Y  Y.ind    G  G.ind   Md  Md.ind  \\\n",
       "0  0.0      0  28.0      0  5.0  ...    4.0      0  2.0      0  5.0       0   \n",
       "1  2.0      0   1.0      0  0.0  ...    1.0      0  0.0      0  1.0       0   \n",
       "\n",
       "      X  X.ind     L  L.ind  \n",
       "0  11.0      0   1.0      0  \n",
       "1   1.0      0  14.0      0  \n",
       "\n",
       "[2 rows x 21 columns]"
      ]
     },
     "execution_count": 7,
     "metadata": {},
     "output_type": "execute_result"
    }
   ],
   "source": [
    "theme_dist_df = pd.read_table(\"data/disease_gene/disease_associates_gene/biclustering/part-i-gene-disease-path-theme-distributions.txt\")\n",
    "theme_dist_df.head(2)"
   ]
  },
  {
   "cell_type": "code",
   "execution_count": null,
   "metadata": {
    "ExecuteTime": {
     "end_time": "2018-08-17T16:01:23.516789Z",
     "start_time": "2018-08-17T16:01:23.503359Z"
    }
   },
   "outputs": [],
   "source": [
    "# fix the dependency path strings so they will match\n",
    "def fix(x):\n",
    "    x = re.sub('START_ENTITY', 'start_entity', x)\n",
    "    x = re.sub('END_ENTITY', 'end_entity', x)\n",
    "    return x"
   ]
  },
  {
   "cell_type": "code",
   "execution_count": null,
   "metadata": {
    "ExecuteTime": {
     "end_time": "2018-08-17T16:01:48.483763Z",
     "start_time": "2018-08-17T16:01:48.120264Z"
    }
   },
   "outputs": [],
   "source": [
    "disease_gene_russ_df.dependency_path = disease_gene_russ_df.dependency_path.astype(str).apply(fix)"
   ]
  },
  {
   "cell_type": "code",
   "execution_count": 8,
   "metadata": {
    "ExecuteTime": {
     "end_time": "2018-08-17T16:18:58.474997Z",
     "start_time": "2018-08-17T16:18:56.971832Z"
    }
   },
   "outputs": [
    {
     "data": {
      "text/html": [
       "<div>\n",
       "<style scoped>\n",
       "    .dataframe tbody tr th:only-of-type {\n",
       "        vertical-align: middle;\n",
       "    }\n",
       "\n",
       "    .dataframe tbody tr th {\n",
       "        vertical-align: top;\n",
       "    }\n",
       "\n",
       "    .dataframe thead th {\n",
       "        text-align: right;\n",
       "    }\n",
       "</style>\n",
       "<table border=\"1\" class=\"dataframe\">\n",
       "  <thead>\n",
       "    <tr style=\"text-align: right;\">\n",
       "      <th></th>\n",
       "      <th>disease_id</th>\n",
       "      <th>disease_name</th>\n",
       "      <th>gene_id</th>\n",
       "      <th>gene_name</th>\n",
       "      <th>nlog10_p_value</th>\n",
       "      <th>co_odds_ratio</th>\n",
       "      <th>co_expected_sen_count</th>\n",
       "      <th>delta_lower_ci</th>\n",
       "      <th>hetnet_labels</th>\n",
       "      <th>pubmed_id</th>\n",
       "      <th>...</th>\n",
       "      <th>Y</th>\n",
       "      <th>Y.ind</th>\n",
       "      <th>G</th>\n",
       "      <th>G.ind</th>\n",
       "      <th>Md</th>\n",
       "      <th>Md.ind</th>\n",
       "      <th>X</th>\n",
       "      <th>X.ind</th>\n",
       "      <th>L</th>\n",
       "      <th>L.ind</th>\n",
       "    </tr>\n",
       "  </thead>\n",
       "  <tbody>\n",
       "    <tr>\n",
       "      <th>0</th>\n",
       "      <td>DOID:12849</td>\n",
       "      <td>autistic disorder</td>\n",
       "      <td>3569</td>\n",
       "      <td>IL6</td>\n",
       "      <td>2.072881e-04</td>\n",
       "      <td>0.617773</td>\n",
       "      <td>62.795531</td>\n",
       "      <td>-0.001252</td>\n",
       "      <td>1</td>\n",
       "      <td>NaN</td>\n",
       "      <td>...</td>\n",
       "      <td>NaN</td>\n",
       "      <td>NaN</td>\n",
       "      <td>NaN</td>\n",
       "      <td>NaN</td>\n",
       "      <td>NaN</td>\n",
       "      <td>NaN</td>\n",
       "      <td>NaN</td>\n",
       "      <td>NaN</td>\n",
       "      <td>NaN</td>\n",
       "      <td>NaN</td>\n",
       "    </tr>\n",
       "    <tr>\n",
       "      <th>1</th>\n",
       "      <td>DOID:3070</td>\n",
       "      <td>malignant glioma</td>\n",
       "      <td>567</td>\n",
       "      <td>B2M</td>\n",
       "      <td>3.358850e-09</td>\n",
       "      <td>0.192395</td>\n",
       "      <td>86.200979</td>\n",
       "      <td>-0.025416</td>\n",
       "      <td>-1</td>\n",
       "      <td>NaN</td>\n",
       "      <td>...</td>\n",
       "      <td>NaN</td>\n",
       "      <td>NaN</td>\n",
       "      <td>NaN</td>\n",
       "      <td>NaN</td>\n",
       "      <td>NaN</td>\n",
       "      <td>NaN</td>\n",
       "      <td>NaN</td>\n",
       "      <td>NaN</td>\n",
       "      <td>NaN</td>\n",
       "      <td>NaN</td>\n",
       "    </tr>\n",
       "  </tbody>\n",
       "</table>\n",
       "<p>2 rows × 44 columns</p>\n",
       "</div>"
      ],
      "text/plain": [
       "   disease_id       disease_name  gene_id gene_name  nlog10_p_value  \\\n",
       "0  DOID:12849  autistic disorder     3569       IL6    2.072881e-04   \n",
       "1   DOID:3070   malignant glioma      567       B2M    3.358850e-09   \n",
       "\n",
       "   co_odds_ratio  co_expected_sen_count  delta_lower_ci  hetnet_labels  \\\n",
       "0       0.617773              62.795531       -0.001252              1   \n",
       "1       0.192395              86.200979       -0.025416             -1   \n",
       "\n",
       "   pubmed_id  ...    Y Y.ind   G G.ind  Md Md.ind   X X.ind   L L.ind  \n",
       "0        NaN  ...  NaN   NaN NaN   NaN NaN    NaN NaN   NaN NaN   NaN  \n",
       "1        NaN  ...  NaN   NaN NaN   NaN NaN    NaN NaN   NaN NaN   NaN  \n",
       "\n",
       "[2 rows x 44 columns]"
      ]
     },
     "execution_count": 8,
     "metadata": {},
     "output_type": "execute_result"
    }
   ],
   "source": [
    "final_dg_df = (\n",
    "    disease_gene_russ_df\n",
    "    .astype({'dependency_path':str})\n",
    "    .merge(theme_dist_df.astype({\"path\":str}), left_on='dependency_path', right_on='path', how='left')\n",
    ")\n",
    "final_dg_df.head(2)"
   ]
  },
  {
   "cell_type": "code",
   "execution_count": 9,
   "metadata": {
    "ExecuteTime": {
     "end_time": "2018-08-17T16:18:58.689642Z",
     "start_time": "2018-08-17T16:18:58.477012Z"
    }
   },
   "outputs": [
    {
     "data": {
      "text/html": [
       "<div>\n",
       "<style scoped>\n",
       "    .dataframe tbody tr th:only-of-type {\n",
       "        vertical-align: middle;\n",
       "    }\n",
       "\n",
       "    .dataframe tbody tr th {\n",
       "        vertical-align: top;\n",
       "    }\n",
       "\n",
       "    .dataframe thead th {\n",
       "        text-align: right;\n",
       "    }\n",
       "</style>\n",
       "<table border=\"1\" class=\"dataframe\">\n",
       "  <thead>\n",
       "    <tr style=\"text-align: right;\">\n",
       "      <th></th>\n",
       "      <th>disease_id</th>\n",
       "      <th>disease_name</th>\n",
       "      <th>gene_id</th>\n",
       "      <th>gene_name</th>\n",
       "      <th>nlog10_p_value</th>\n",
       "      <th>co_odds_ratio</th>\n",
       "      <th>co_expected_sen_count</th>\n",
       "      <th>delta_lower_ci</th>\n",
       "      <th>hetnet_labels</th>\n",
       "      <th>pubmed_id</th>\n",
       "      <th>...</th>\n",
       "      <th>Y</th>\n",
       "      <th>Y.ind</th>\n",
       "      <th>G</th>\n",
       "      <th>G.ind</th>\n",
       "      <th>Md</th>\n",
       "      <th>Md.ind</th>\n",
       "      <th>X</th>\n",
       "      <th>X.ind</th>\n",
       "      <th>L</th>\n",
       "      <th>L.ind</th>\n",
       "    </tr>\n",
       "  </thead>\n",
       "  <tbody>\n",
       "    <tr>\n",
       "      <th>0</th>\n",
       "      <td>DOID:12849</td>\n",
       "      <td>autistic disorder</td>\n",
       "      <td>3569</td>\n",
       "      <td>IL6</td>\n",
       "      <td>2.072881e-04</td>\n",
       "      <td>0.617773</td>\n",
       "      <td>62.795531</td>\n",
       "      <td>-0.001252</td>\n",
       "      <td>1</td>\n",
       "      <td>NaN</td>\n",
       "      <td>...</td>\n",
       "      <td>0.0</td>\n",
       "      <td>0.0</td>\n",
       "      <td>0.0</td>\n",
       "      <td>0.0</td>\n",
       "      <td>0.0</td>\n",
       "      <td>0.0</td>\n",
       "      <td>0.0</td>\n",
       "      <td>0.0</td>\n",
       "      <td>0.0</td>\n",
       "      <td>0.0</td>\n",
       "    </tr>\n",
       "    <tr>\n",
       "      <th>1</th>\n",
       "      <td>DOID:3070</td>\n",
       "      <td>malignant glioma</td>\n",
       "      <td>567</td>\n",
       "      <td>B2M</td>\n",
       "      <td>3.358850e-09</td>\n",
       "      <td>0.192395</td>\n",
       "      <td>86.200979</td>\n",
       "      <td>-0.025416</td>\n",
       "      <td>-1</td>\n",
       "      <td>NaN</td>\n",
       "      <td>...</td>\n",
       "      <td>0.0</td>\n",
       "      <td>0.0</td>\n",
       "      <td>0.0</td>\n",
       "      <td>0.0</td>\n",
       "      <td>0.0</td>\n",
       "      <td>0.0</td>\n",
       "      <td>0.0</td>\n",
       "      <td>0.0</td>\n",
       "      <td>0.0</td>\n",
       "      <td>0.0</td>\n",
       "    </tr>\n",
       "  </tbody>\n",
       "</table>\n",
       "<p>2 rows × 44 columns</p>\n",
       "</div>"
      ],
      "text/plain": [
       "   disease_id       disease_name  gene_id gene_name  nlog10_p_value  \\\n",
       "0  DOID:12849  autistic disorder     3569       IL6    2.072881e-04   \n",
       "1   DOID:3070   malignant glioma      567       B2M    3.358850e-09   \n",
       "\n",
       "   co_odds_ratio  co_expected_sen_count  delta_lower_ci  hetnet_labels  \\\n",
       "0       0.617773              62.795531       -0.001252              1   \n",
       "1       0.192395              86.200979       -0.025416             -1   \n",
       "\n",
       "   pubmed_id  ...     Y Y.ind    G G.ind   Md Md.ind    X X.ind    L L.ind  \n",
       "0        NaN  ...   0.0   0.0  0.0   0.0  0.0    0.0  0.0   0.0  0.0   0.0  \n",
       "1        NaN  ...   0.0   0.0  0.0   0.0  0.0    0.0  0.0   0.0  0.0   0.0  \n",
       "\n",
       "[2 rows x 44 columns]"
      ]
     },
     "execution_count": 9,
     "metadata": {},
     "output_type": "execute_result"
    }
   ],
   "source": [
    "# Transform the nans into 0.0 and aggregate the other sentnece scores\n",
    "final_dg_df[['U', 'U.ind','Ud', 'Ud.ind',\n",
    "     'D', 'D.ind', 'J', 'J.ind',\n",
    "     'Y', 'Y.ind', 'G', 'G.ind', \n",
    "     'Md', 'Md.ind', 'X', 'X.ind', \n",
    "     'L', 'L.ind']] = (\n",
    "    final_dg_df.groupby([\"disease_id\", \"gene_id\"])[\n",
    "        ['U', 'U.ind','Ud', 'Ud.ind',\n",
    "         'D', 'D.ind', 'J', 'J.ind', \n",
    "         'Y', 'Y.ind', 'G', 'G.ind', \n",
    "         'Md', 'Md.ind', 'X', 'X.ind', \n",
    "         'L', 'L.ind']]\n",
    "    .transform('sum')\n",
    ")\n",
    "final_dg_df.head(2)"
   ]
  },
  {
   "cell_type": "code",
   "execution_count": 10,
   "metadata": {
    "ExecuteTime": {
     "end_time": "2018-08-17T16:19:01.354479Z",
     "start_time": "2018-08-17T16:18:58.691283Z"
    }
   },
   "outputs": [],
   "source": [
    "(\n",
    "    final_dg_df\n",
    "    .drop_duplicates([\"disease_name\", \"gene_name\"])\n",
    "    .to_csv(\"data/disease_gene/disease_associates_gene/disease_gene_summary_stats_dep_path.tsv\", sep=\"\\t\", index=False)\n",
    ")"
   ]
  },
  {
   "cell_type": "markdown",
   "metadata": {},
   "source": [
    "# Load the Newly Transformed Data"
   ]
  },
  {
   "cell_type": "code",
   "execution_count": 11,
   "metadata": {
    "ExecuteTime": {
     "end_time": "2018-08-17T16:19:07.772352Z",
     "start_time": "2018-08-17T16:19:07.221906Z"
    }
   },
   "outputs": [
    {
     "data": {
      "text/html": [
       "<div>\n",
       "<style scoped>\n",
       "    .dataframe tbody tr th:only-of-type {\n",
       "        vertical-align: middle;\n",
       "    }\n",
       "\n",
       "    .dataframe tbody tr th {\n",
       "        vertical-align: top;\n",
       "    }\n",
       "\n",
       "    .dataframe thead th {\n",
       "        text-align: right;\n",
       "    }\n",
       "</style>\n",
       "<table border=\"1\" class=\"dataframe\">\n",
       "  <thead>\n",
       "    <tr style=\"text-align: right;\">\n",
       "      <th></th>\n",
       "      <th>disease_id</th>\n",
       "      <th>disease_name</th>\n",
       "      <th>gene_id</th>\n",
       "      <th>gene_name</th>\n",
       "      <th>nlog10_p_value</th>\n",
       "      <th>co_odds_ratio</th>\n",
       "      <th>co_expected_sen_count</th>\n",
       "      <th>delta_lower_ci</th>\n",
       "      <th>hetnet_labels</th>\n",
       "      <th>U</th>\n",
       "      <th>...</th>\n",
       "      <th>Y</th>\n",
       "      <th>Y.ind</th>\n",
       "      <th>G</th>\n",
       "      <th>G.ind</th>\n",
       "      <th>Md</th>\n",
       "      <th>Md.ind</th>\n",
       "      <th>X</th>\n",
       "      <th>X.ind</th>\n",
       "      <th>L</th>\n",
       "      <th>L.ind</th>\n",
       "    </tr>\n",
       "  </thead>\n",
       "  <tbody>\n",
       "    <tr>\n",
       "      <th>0</th>\n",
       "      <td>DOID:12849</td>\n",
       "      <td>autistic disorder</td>\n",
       "      <td>3569</td>\n",
       "      <td>IL6</td>\n",
       "      <td>2.072881e-04</td>\n",
       "      <td>0.617773</td>\n",
       "      <td>62.795531</td>\n",
       "      <td>-0.001252</td>\n",
       "      <td>1</td>\n",
       "      <td>0.0</td>\n",
       "      <td>...</td>\n",
       "      <td>0.0</td>\n",
       "      <td>0.0</td>\n",
       "      <td>0.0</td>\n",
       "      <td>0.0</td>\n",
       "      <td>0.0</td>\n",
       "      <td>0.0</td>\n",
       "      <td>0.0</td>\n",
       "      <td>0.0</td>\n",
       "      <td>0.0</td>\n",
       "      <td>0.0</td>\n",
       "    </tr>\n",
       "    <tr>\n",
       "      <th>1</th>\n",
       "      <td>DOID:3070</td>\n",
       "      <td>malignant glioma</td>\n",
       "      <td>567</td>\n",
       "      <td>B2M</td>\n",
       "      <td>3.358850e-09</td>\n",
       "      <td>0.192395</td>\n",
       "      <td>86.200979</td>\n",
       "      <td>-0.025416</td>\n",
       "      <td>-1</td>\n",
       "      <td>0.0</td>\n",
       "      <td>...</td>\n",
       "      <td>0.0</td>\n",
       "      <td>0.0</td>\n",
       "      <td>0.0</td>\n",
       "      <td>0.0</td>\n",
       "      <td>0.0</td>\n",
       "      <td>0.0</td>\n",
       "      <td>0.0</td>\n",
       "      <td>0.0</td>\n",
       "      <td>0.0</td>\n",
       "      <td>0.0</td>\n",
       "    </tr>\n",
       "  </tbody>\n",
       "</table>\n",
       "<p>2 rows × 27 columns</p>\n",
       "</div>"
      ],
      "text/plain": [
       "   disease_id       disease_name  gene_id gene_name  nlog10_p_value  \\\n",
       "0  DOID:12849  autistic disorder     3569       IL6    2.072881e-04   \n",
       "1   DOID:3070   malignant glioma      567       B2M    3.358850e-09   \n",
       "\n",
       "   co_odds_ratio  co_expected_sen_count  delta_lower_ci  hetnet_labels    U  \\\n",
       "0       0.617773              62.795531       -0.001252              1  0.0   \n",
       "1       0.192395              86.200979       -0.025416             -1  0.0   \n",
       "\n",
       "   ...      Y  Y.ind    G  G.ind   Md  Md.ind    X  X.ind    L  L.ind  \n",
       "0  ...    0.0    0.0  0.0    0.0  0.0     0.0  0.0    0.0  0.0    0.0  \n",
       "1  ...    0.0    0.0  0.0    0.0  0.0     0.0  0.0    0.0  0.0    0.0  \n",
       "\n",
       "[2 rows x 27 columns]"
      ]
     },
     "execution_count": 11,
     "metadata": {},
     "output_type": "execute_result"
    }
   ],
   "source": [
    "candidate_df = (\n",
    "    pd.read_table(\"data/disease_gene/disease_associates_gene/disease_gene_summary_stats_dep_path.tsv\")\n",
    "    .drop(['first_entity', 'first_entity_location',\n",
    "       'second_entity', 'second_entity_location', 'first_entity_string',\n",
    "       'second_entity_string', 'first_entity_db_id', 'second_entity_db_id',\n",
    "       'first_entity_type', 'second_entity_type', 'dependency_path',\n",
    "       'sentence_string', 'sentence_num', 'path', 'pubmed_id', 'Te', 'Te.ind'], axis=1)\n",
    ")\n",
    "candidate_df.head(2)"
   ]
  },
  {
   "cell_type": "code",
   "execution_count": 12,
   "metadata": {
    "ExecuteTime": {
     "end_time": "2018-08-17T16:19:08.225415Z",
     "start_time": "2018-08-17T16:19:07.773730Z"
    }
   },
   "outputs": [
    {
     "data": {
      "text/html": [
       "<div>\n",
       "<style scoped>\n",
       "    .dataframe tbody tr th:only-of-type {\n",
       "        vertical-align: middle;\n",
       "    }\n",
       "\n",
       "    .dataframe tbody tr th {\n",
       "        vertical-align: top;\n",
       "    }\n",
       "\n",
       "    .dataframe thead th {\n",
       "        text-align: right;\n",
       "    }\n",
       "</style>\n",
       "<table border=\"1\" class=\"dataframe\">\n",
       "  <thead>\n",
       "    <tr style=\"text-align: right;\">\n",
       "      <th></th>\n",
       "      <th>disease_id</th>\n",
       "      <th>gene_id</th>\n",
       "      <th>disease_associates</th>\n",
       "      <th>gene_associates</th>\n",
       "      <th>prior_perm</th>\n",
       "      <th>prior_perm_stderr</th>\n",
       "      <th>logit_prior_perm</th>\n",
       "    </tr>\n",
       "  </thead>\n",
       "  <tbody>\n",
       "    <tr>\n",
       "      <th>0</th>\n",
       "      <td>DOID:2531</td>\n",
       "      <td>7124</td>\n",
       "      <td>550</td>\n",
       "      <td>47</td>\n",
       "      <td>0.870898</td>\n",
       "      <td>0.000558</td>\n",
       "      <td>1.908922</td>\n",
       "    </tr>\n",
       "    <tr>\n",
       "      <th>1</th>\n",
       "      <td>DOID:2531</td>\n",
       "      <td>7157</td>\n",
       "      <td>550</td>\n",
       "      <td>46</td>\n",
       "      <td>0.867094</td>\n",
       "      <td>0.000565</td>\n",
       "      <td>1.875505</td>\n",
       "    </tr>\n",
       "  </tbody>\n",
       "</table>\n",
       "</div>"
      ],
      "text/plain": [
       "  disease_id  gene_id  disease_associates  gene_associates  prior_perm  \\\n",
       "0  DOID:2531     7124                 550               47    0.870898   \n",
       "1  DOID:2531     7157                 550               46    0.867094   \n",
       "\n",
       "   prior_perm_stderr  logit_prior_perm  \n",
       "0           0.000558          1.908922  \n",
       "1           0.000565          1.875505  "
      ]
     },
     "execution_count": 12,
     "metadata": {},
     "output_type": "execute_result"
    }
   ],
   "source": [
    "prior_df = pd.read_csv(\"data/observation-prior.csv\")\n",
    "prior_df[\"logit_prior_perm\"] = logit(prior_df[\"prior_perm\"])\n",
    "prior_df.head(2)"
   ]
  },
  {
   "cell_type": "markdown",
   "metadata": {},
   "source": [
    "# Set up the Training and Testing Set"
   ]
  },
  {
   "cell_type": "code",
   "execution_count": 13,
   "metadata": {
    "ExecuteTime": {
     "end_time": "2018-08-17T16:19:24.729343Z",
     "start_time": "2018-08-17T16:19:12.813832Z"
    }
   },
   "outputs": [
    {
     "name": "stderr",
     "output_type": "stream",
     "text": [
      "/home/danich1/anaconda2/envs/snorkeling/lib/python3.6/site-packages/IPython/core/interactiveshell.py:2785: DtypeWarning: Columns (4) have mixed types. Specify dtype option on import or set low_memory=False.\n",
      "  interactivity=interactivity, compiler=compiler, result=result)\n"
     ]
    },
    {
     "data": {
      "text/html": [
       "<div>\n",
       "<style scoped>\n",
       "    .dataframe tbody tr th:only-of-type {\n",
       "        vertical-align: middle;\n",
       "    }\n",
       "\n",
       "    .dataframe tbody tr th {\n",
       "        vertical-align: top;\n",
       "    }\n",
       "\n",
       "    .dataframe thead th {\n",
       "        text-align: right;\n",
       "    }\n",
       "</style>\n",
       "<table border=\"1\" class=\"dataframe\">\n",
       "  <thead>\n",
       "    <tr style=\"text-align: right;\">\n",
       "      <th></th>\n",
       "      <th>gene_id</th>\n",
       "      <th>gene_symbol</th>\n",
       "      <th>disease_id</th>\n",
       "      <th>doid_name</th>\n",
       "      <th>sources</th>\n",
       "      <th>hetionet</th>\n",
       "      <th>n_sentences</th>\n",
       "      <th>has_sentence</th>\n",
       "      <th>partition_rank</th>\n",
       "      <th>split</th>\n",
       "    </tr>\n",
       "  </thead>\n",
       "  <tbody>\n",
       "    <tr>\n",
       "      <th>0</th>\n",
       "      <td>1</td>\n",
       "      <td>A1BG</td>\n",
       "      <td>DOID:2531</td>\n",
       "      <td>hematologic cancer</td>\n",
       "      <td>NaN</td>\n",
       "      <td>0</td>\n",
       "      <td>8</td>\n",
       "      <td>1</td>\n",
       "      <td>0.85860</td>\n",
       "      <td>1</td>\n",
       "    </tr>\n",
       "    <tr>\n",
       "      <th>1</th>\n",
       "      <td>1</td>\n",
       "      <td>A1BG</td>\n",
       "      <td>DOID:1319</td>\n",
       "      <td>brain cancer</td>\n",
       "      <td>NaN</td>\n",
       "      <td>0</td>\n",
       "      <td>0</td>\n",
       "      <td>0</td>\n",
       "      <td>0.36785</td>\n",
       "      <td>0</td>\n",
       "    </tr>\n",
       "    <tr>\n",
       "      <th>2</th>\n",
       "      <td>1</td>\n",
       "      <td>A1BG</td>\n",
       "      <td>DOID:1324</td>\n",
       "      <td>lung cancer</td>\n",
       "      <td>NaN</td>\n",
       "      <td>0</td>\n",
       "      <td>2</td>\n",
       "      <td>1</td>\n",
       "      <td>0.15465</td>\n",
       "      <td>0</td>\n",
       "    </tr>\n",
       "    <tr>\n",
       "      <th>3</th>\n",
       "      <td>1</td>\n",
       "      <td>A1BG</td>\n",
       "      <td>DOID:263</td>\n",
       "      <td>kidney cancer</td>\n",
       "      <td>NaN</td>\n",
       "      <td>0</td>\n",
       "      <td>0</td>\n",
       "      <td>0</td>\n",
       "      <td>0.87328</td>\n",
       "      <td>1</td>\n",
       "    </tr>\n",
       "    <tr>\n",
       "      <th>4</th>\n",
       "      <td>1</td>\n",
       "      <td>A1BG</td>\n",
       "      <td>DOID:1793</td>\n",
       "      <td>pancreatic cancer</td>\n",
       "      <td>NaN</td>\n",
       "      <td>0</td>\n",
       "      <td>10</td>\n",
       "      <td>1</td>\n",
       "      <td>0.17837</td>\n",
       "      <td>0</td>\n",
       "    </tr>\n",
       "  </tbody>\n",
       "</table>\n",
       "</div>"
      ],
      "text/plain": [
       "   gene_id gene_symbol disease_id           doid_name sources  hetionet  \\\n",
       "0        1        A1BG  DOID:2531  hematologic cancer     NaN         0   \n",
       "1        1        A1BG  DOID:1319        brain cancer     NaN         0   \n",
       "2        1        A1BG  DOID:1324         lung cancer     NaN         0   \n",
       "3        1        A1BG   DOID:263       kidney cancer     NaN         0   \n",
       "4        1        A1BG  DOID:1793   pancreatic cancer     NaN         0   \n",
       "\n",
       "   n_sentences  has_sentence  partition_rank  split  \n",
       "0            8             1         0.85860      1  \n",
       "1            0             0         0.36785      0  \n",
       "2            2             1         0.15465      0  \n",
       "3            0             0         0.87328      1  \n",
       "4           10             1         0.17837      0  "
      ]
     },
     "execution_count": 13,
     "metadata": {},
     "output_type": "execute_result"
    }
   ],
   "source": [
    "total_df = (\n",
    "    pd.read_csv(\"data/disease-gene-pairs-association.csv.xz\", compression='xz')\n",
    "    .rename(index=str,columns={'entrez_gene_id': 'gene_id', 'doid_id': 'disease_id'})\n",
    ")\n",
    "total_df.head()"
   ]
  },
  {
   "cell_type": "code",
   "execution_count": 14,
   "metadata": {
    "ExecuteTime": {
     "end_time": "2018-08-17T16:19:49.773935Z",
     "start_time": "2018-08-17T16:19:45.907353Z"
    }
   },
   "outputs": [],
   "source": [
    "# Gather the summary stats for each candidate\n",
    "training_set = pd.merge(candidate_df, total_df.query(\"has_sentence==1&split==0\")[[\"disease_id\", \"gene_id\", \"hetionet\"]], \n",
    "                        how='inner',on=[\"disease_id\", \"gene_id\"])\n",
    "dev_set = pd.merge(candidate_df, total_df.query(\"has_sentence==1&split==1\")[[\"disease_id\", \"gene_id\", \"hetionet\"]],\n",
    "                   how='inner', on=[\"disease_id\", \"gene_id\"])\n",
    "test_set = pd.merge(candidate_df, total_df.query(\"has_sentence==1&split==2\")[[\"disease_id\", \"gene_id\", \"hetionet\"]], \n",
    "                    how='inner', on=[\"disease_id\", \"gene_id\"])\n",
    "\n",
    "\n",
    "# Drop the values that aren't found in pubmed. \n",
    "training_set = training_set.drop(\"hetnet_labels\", axis=1)\n",
    "dev_set = dev_set.drop(\"hetnet_labels\", axis=1)\n",
    "test_set = test_set.drop(\"hetnet_labels\", axis=1)\n",
    "\n",
    "# Add the prior prob to the different sets \n",
    "training_set = pd.merge(training_set, prior_df[[\"disease_id\", \"gene_id\", \"logit_prior_perm\"]], \n",
    "                        on=['disease_id', 'gene_id'])\n",
    "dev_set = pd.merge(dev_set, prior_df[[\"disease_id\", \"gene_id\", \"logit_prior_perm\"]], \n",
    "                  on=['disease_id', 'gene_id'])\n",
    "test_set = pd.merge(test_set, prior_df[[\"disease_id\", \"gene_id\", \"logit_prior_perm\"]], \n",
    "                   on=['disease_id', 'gene_id'])"
   ]
  },
  {
   "cell_type": "code",
   "execution_count": 15,
   "metadata": {
    "ExecuteTime": {
     "end_time": "2018-08-17T16:19:49.804647Z",
     "start_time": "2018-08-17T16:19:49.775697Z"
    }
   },
   "outputs": [],
   "source": [
    "non_features = [\n",
    "    \"hetionet\", \"disease_id\", \"gene_id\", \n",
    "    \"gene_name\", \"disease_name\",\n",
    "    \"pubmed_id\"\n",
    "]\n",
    "\n",
    "X = training_set[[col for col in training_set.columns if col not in non_features]]\n",
    "Y = training_set[\"hetionet\"]\n",
    "\n",
    "X_dev = dev_set[[col for col in dev_set.columns if col not in non_features]]\n",
    "Y_dev = dev_set[\"hetionet\"]\n",
    "\n",
    "X_test = test_set[[col for col in test_set.columns if col not in non_features]]\n",
    "Y_test = test_set[\"hetionet\"]"
   ]
  },
  {
   "cell_type": "code",
   "execution_count": 16,
   "metadata": {
    "ExecuteTime": {
     "end_time": "2018-08-17T16:19:49.823652Z",
     "start_time": "2018-08-17T16:19:49.806375Z"
    }
   },
   "outputs": [
    {
     "name": "stdout",
     "output_type": "stream",
     "text": [
      "0    62036\n",
      "1     6636\n",
      "Name: hetionet, dtype: int64\n",
      "\n",
      "0    17720\n",
      "1     1895\n",
      "Name: hetionet, dtype: int64\n",
      "\n",
      "0    8805\n",
      "1     947\n",
      "Name: hetionet, dtype: int64\n",
      "\n"
     ]
    }
   ],
   "source": [
    "print(Y.value_counts())\n",
    "print()\n",
    "print(Y_dev.value_counts())\n",
    "print()\n",
    "print(Y_test.value_counts())\n",
    "print()"
   ]
  },
  {
   "cell_type": "code",
   "execution_count": 17,
   "metadata": {
    "ExecuteTime": {
     "end_time": "2018-08-17T16:19:51.272659Z",
     "start_time": "2018-08-17T16:19:51.232528Z"
    }
   },
   "outputs": [],
   "source": [
    "train_Y = Y.append(Y_dev)\n",
    "train_X = X.append(X_dev)"
   ]
  },
  {
   "cell_type": "markdown",
   "metadata": {},
   "source": [
    "# Train the Machine Learning Algorithms"
   ]
  },
  {
   "cell_type": "markdown",
   "metadata": {},
   "source": [
    "Here we use gridsearch to optimize both models using 10 fold cross validation. After exhausting the list of parameters, the best model is chosen and analyzed in the next chunk. "
   ]
  },
  {
   "cell_type": "code",
   "execution_count": 18,
   "metadata": {
    "ExecuteTime": {
     "end_time": "2018-08-17T16:19:54.081889Z",
     "start_time": "2018-08-17T16:19:54.068385Z"
    }
   },
   "outputs": [],
   "source": [
    "n_iter = 100\n",
    "final_models = []\n",
    "\n",
    "lr = LogisticRegression()\n",
    "lr_grid = {'C':np.linspace(1, 100, num=100)}\n",
    "\n",
    "lr_normalizer_no_russ = StandardScaler()\n",
    "lr_normalizer = StandardScaler()"
   ]
  },
  {
   "cell_type": "code",
   "execution_count": 19,
   "metadata": {
    "ExecuteTime": {
     "end_time": "2018-08-17T16:19:54.154474Z",
     "start_time": "2018-08-17T16:19:54.083646Z"
    }
   },
   "outputs": [
    {
     "name": "stdout",
     "output_type": "stream",
     "text": [
      "CPU times: user 39.2 ms, sys: 257 µs, total: 39.4 ms\n",
      "Wall time: 38.2 ms\n"
     ]
    }
   ],
   "source": [
    "%%time\n",
    "\n",
    "russ_data = ['U', 'U.ind', 'Ud', 'Ud.ind', 'D', 'D.ind', 'J',\n",
    "       'J.ind', 'Y', 'Y.ind', 'G', 'G.ind', 'Md', 'Md.ind', 'X', 'X.ind', 'L',\n",
    "       'L.ind']\n",
    "\n",
    "transformed_X_no_russ = lr_normalizer_no_russ.fit_transform(train_X[[col for col in train_X.columns if col not in russ_data]])\n",
    "transformed_X = lr_normalizer.fit_transform(train_X)"
   ]
  },
  {
   "cell_type": "code",
   "execution_count": 20,
   "metadata": {
    "ExecuteTime": {
     "end_time": "2018-08-17T16:21:11.179342Z",
     "start_time": "2018-08-17T16:19:54.156307Z"
    }
   },
   "outputs": [
    {
     "name": "stdout",
     "output_type": "stream",
     "text": [
      "CPU times: user 8.37 s, sys: 548 ms, total: 8.92 s\n",
      "Wall time: 1min 17s\n"
     ]
    }
   ],
   "source": [
    "%%time\n",
    "\n",
    "final_model = GridSearchCV(lr, lr_grid, cv=10, n_jobs=3, scoring='roc_auc', return_train_score=True)\n",
    "final_model.fit(transformed_X_no_russ, train_Y)\n",
    "final_models.append(final_model)"
   ]
  },
  {
   "cell_type": "code",
   "execution_count": 21,
   "metadata": {
    "ExecuteTime": {
     "end_time": "2018-08-17T16:26:29.487850Z",
     "start_time": "2018-08-17T16:21:11.180974Z"
    }
   },
   "outputs": [
    {
     "name": "stdout",
     "output_type": "stream",
     "text": [
      "CPU times: user 27.6 s, sys: 715 ms, total: 28.3 s\n",
      "Wall time: 5min 18s\n"
     ]
    }
   ],
   "source": [
    "%%time\n",
    "\n",
    "final_model = GridSearchCV(lr, lr_grid, cv=10, n_jobs=3, scoring='roc_auc', return_train_score=True)\n",
    "final_model.fit(transformed_X, train_Y)\n",
    "final_models.append(final_model)"
   ]
  },
  {
   "cell_type": "markdown",
   "metadata": {},
   "source": [
    "## Parameter Optimization"
   ]
  },
  {
   "cell_type": "code",
   "execution_count": 22,
   "metadata": {
    "ExecuteTime": {
     "end_time": "2018-08-17T16:26:29.506232Z",
     "start_time": "2018-08-17T16:26:29.489688Z"
    },
    "scrolled": true
   },
   "outputs": [],
   "source": [
    "no_russ_result = pd.DataFrame(final_models[0].cv_results_)\n",
    "russ_result = pd.DataFrame(final_models[1].cv_results_)"
   ]
  },
  {
   "cell_type": "code",
   "execution_count": 23,
   "metadata": {
    "ExecuteTime": {
     "end_time": "2018-08-17T16:26:29.647937Z",
     "start_time": "2018-08-17T16:26:29.507754Z"
    },
    "scrolled": true
   },
   "outputs": [
    {
     "data": {
      "text/plain": [
       "[<matplotlib.lines.Line2D at 0x7fe7c9b211d0>]"
      ]
     },
     "execution_count": 23,
     "metadata": {},
     "output_type": "execute_result"
    },
    {
     "data": {
      "image/png": "[encoded data removed]",
      "text/plain": [
       "<matplotlib.figure.Figure at 0x7fe8222da748>"
      ]
     },
     "metadata": {},
     "output_type": "display_data"
    }
   ],
   "source": [
    "# No LSTM\n",
    "plt.plot(no_russ_result['param_C'], no_russ_result['mean_test_score'])"
   ]
  },
  {
   "cell_type": "code",
   "execution_count": 24,
   "metadata": {
    "ExecuteTime": {
     "end_time": "2018-08-17T16:26:29.794327Z",
     "start_time": "2018-08-17T16:26:29.649301Z"
    }
   },
   "outputs": [
    {
     "data": {
      "text/plain": [
       "[<matplotlib.lines.Line2D at 0x7fe7c9a7cf28>]"
      ]
     },
     "execution_count": 24,
     "metadata": {},
     "output_type": "execute_result"
    },
    {
     "data": {
      "image/png": "[encoded data removed]",
      "text/plain": [
       "<matplotlib.figure.Figure at 0x7fe7c9b218d0>"
      ]
     },
     "metadata": {},
     "output_type": "display_data"
    }
   ],
   "source": [
    "# LSTM\n",
    "plt.plot(russ_result['param_C'], russ_result['mean_test_score'])"
   ]
  },
  {
   "cell_type": "markdown",
   "metadata": {},
   "source": [
    "## LR Weights"
   ]
  },
  {
   "cell_type": "code",
   "execution_count": 25,
   "metadata": {
    "ExecuteTime": {
     "end_time": "2018-08-17T16:26:29.819038Z",
     "start_time": "2018-08-17T16:26:29.802348Z"
    },
    "scrolled": true
   },
   "outputs": [
    {
     "data": {
      "text/plain": [
       "[(0.76553903025724634, 'nlog10_p_value'),\n",
       " (0.50035515720196344, 'co_odds_ratio'),\n",
       " (0.011815480702881256, 'co_expected_sen_count'),\n",
       " (0.26490985116586235, 'delta_lower_ci'),\n",
       " (1.0818632053627644, 'logit_prior_perm')]"
      ]
     },
     "execution_count": 25,
     "metadata": {},
     "output_type": "execute_result"
    }
   ],
   "source": [
    "list(zip(final_models[0].best_estimator_.coef_[0], [col for col in training_set.columns if col not in russ_data+non_features]))"
   ]
  },
  {
   "cell_type": "code",
   "execution_count": 26,
   "metadata": {
    "ExecuteTime": {
     "end_time": "2018-08-17T16:26:29.881916Z",
     "start_time": "2018-08-17T16:26:29.823739Z"
    }
   },
   "outputs": [
    {
     "data": {
      "text/plain": [
       "[(0.75801845478496588, 'nlog10_p_value'),\n",
       " (0.50000926555619951, 'co_odds_ratio'),\n",
       " (0.012678257397734134, 'co_expected_sen_count'),\n",
       " (0.26175381499281347, 'delta_lower_ci'),\n",
       " (0.34703553251067049, 'U'),\n",
       " (0.0034978363707577256, 'U.ind'),\n",
       " (-0.20959290730492222, 'Ud'),\n",
       " (0.066091879873110645, 'Ud.ind'),\n",
       " (0.29557440010908975, 'D'),\n",
       " (-0.11773091544947101, 'D.ind'),\n",
       " (-0.039979293548300855, 'J'),\n",
       " (0.046350403477052028, 'J.ind'),\n",
       " (-0.041657637726158415, 'Y'),\n",
       " (0.1085960312406315, 'Y.ind'),\n",
       " (-0.085221969038367151, 'G'),\n",
       " (0.0352168086955768, 'G.ind'),\n",
       " (-0.080414576562468879, 'Md'),\n",
       " (0.0014326365262558385, 'Md.ind'),\n",
       " (0.22357299784807444, 'X'),\n",
       " (-0.046413882411044105, 'X.ind'),\n",
       " (-0.21339782268705174, 'L'),\n",
       " (0.042799587481914647, 'L.ind'),\n",
       " (1.072755614697511, 'logit_prior_perm')]"
      ]
     },
     "execution_count": 26,
     "metadata": {},
     "output_type": "execute_result"
    }
   ],
   "source": [
    "list(zip(final_models[1].best_estimator_.coef_[0], [col for col in training_set.columns if col not in non_features]))"
   ]
  },
  {
   "cell_type": "markdown",
   "metadata": {},
   "source": [
    "# Bar Plot AUROCS"
   ]
  },
  {
   "cell_type": "code",
   "execution_count": 27,
   "metadata": {
    "ExecuteTime": {
     "end_time": "2018-08-17T16:26:30.321239Z",
     "start_time": "2018-08-17T16:26:29.883556Z"
    }
   },
   "outputs": [
    {
     "data": {
      "text/plain": [
       "(0.4, 1)"
      ]
     },
     "execution_count": 27,
     "metadata": {},
     "output_type": "execute_result"
    },
    {
     "data": {
      "image/png": "[encoded data removed]",
      "text/plain": [
       "<matplotlib.figure.Figure at 0x7fe7c9ac85c0>"
      ]
     },
     "metadata": {},
     "output_type": "display_data"
    }
   ],
   "source": [
    "plt.figure(figsize=(10,5))\n",
    "feature_rocs = []\n",
    "for feature in X.columns:\n",
    "    fpr, tpr, _ = roc_curve(train_Y, train_X[feature])\n",
    "    feature_auc = auc(fpr, tpr)\n",
    "    feature_rocs.append((feature, feature_auc))\n",
    "\n",
    "feature_roc_df = pd.DataFrame(feature_rocs, columns=[\"Feature\", \"AUROC\"])\n",
    "ax = sns.barplot(x=\"AUROC\", y=\"Feature\", data=feature_roc_df, color='green')#palette=sns.color(\"Blue\"))\n",
    "plt.title(\"Training AUROC\")\n",
    "plt.xlim([0.4,1])"
   ]
  },
  {
   "cell_type": "code",
   "execution_count": 28,
   "metadata": {
    "ExecuteTime": {
     "end_time": "2018-08-17T16:26:30.620769Z",
     "start_time": "2018-08-17T16:26:30.322669Z"
    }
   },
   "outputs": [
    {
     "data": {
      "text/plain": [
       "(0.4, 1)"
      ]
     },
     "execution_count": 28,
     "metadata": {},
     "output_type": "execute_result"
    },
    {
     "data": {
      "image/png": "[encoded data removed]",
      "text/plain": [
       "<matplotlib.figure.Figure at 0x7fe822199550>"
      ]
     },
     "metadata": {},
     "output_type": "display_data"
    }
   ],
   "source": [
    "plt.figure(figsize=(10,5))\n",
    "feature_rocs = []\n",
    "for feature in X.columns:\n",
    "    fpr, tpr, _ = roc_curve(Y_test, X_test[feature])\n",
    "    feature_auc = auc(fpr, tpr)\n",
    "    feature_rocs.append((feature, feature_auc))\n",
    "\n",
    "feature_roc_df = pd.DataFrame(feature_rocs, columns=[\"Feature\", \"AUROC\"])\n",
    "ax = sns.barplot(x=\"AUROC\", y=\"Feature\", data=feature_roc_df, color='green')\n",
    "plt.title(\"Testing AUROC\")\n",
    "plt.xlim([0.4,1])"
   ]
  },
  {
   "cell_type": "markdown",
   "metadata": {
    "ExecuteTime": {
     "end_time": "2018-08-17T16:17:51.023515Z",
     "start_time": "2018-08-17T16:17:51.013477Z"
    }
   },
   "source": [
    "# ROC CURVES"
   ]
  },
  {
   "cell_type": "code",
   "execution_count": null,
   "metadata": {
    "ExecuteTime": {
     "end_time": "2018-08-17T15:22:18.942424Z",
     "start_time": "2018-08-17T15:22:11.021Z"
    }
   },
   "outputs": [],
   "source": [
    "plt.figure(figsize=(12,8))\n",
    "plt.plot([0, 1], [0, 1], color='navy', lw=2, linestyle='--', label=\"Random\")\n",
    "\n",
    "for feature in train_X:\n",
    "    # Plot the p_values log transformed\n",
    "    fpr, tpr, thresholds= roc_curve(train_Y, train_X[feature])\n",
    "    model_auc = auc(fpr, tpr)\n",
    "    plt.plot(fpr, tpr, label=\"{} (area = {:0.2f})\".format(feature, model_auc))\n",
    "\n",
    "plt.xlabel('False Positive Rate')\n",
    "plt.ylabel('True Positive Rate')\n",
    "plt.title('Train ROC')\n",
    "plt.legend(loc=\"lower right\")"
   ]
  },
  {
   "cell_type": "code",
   "execution_count": null,
   "metadata": {
    "ExecuteTime": {
     "end_time": "2018-08-17T15:22:18.943182Z",
     "start_time": "2018-08-17T15:22:11.023Z"
    }
   },
   "outputs": [],
   "source": [
    "plt.figure(figsize=(12,8))\n",
    "plt.plot([0, 1], [0, 1], color='navy', lw=2, linestyle='--', label=\"Random\")\n",
    "\n",
    "for feature in X:\n",
    "    # Plot the p_values log transformed\n",
    "    fpr, tpr, thresholds= roc_curve(Y_test, X_test[feature])\n",
    "    model_auc = auc(fpr, tpr)\n",
    "    plt.plot(fpr, tpr, label=\"{} (area = {:0.2f})\".format(feature, model_auc))\n",
    "\n",
    "plt.xlabel('False Positive Rate')\n",
    "plt.ylabel('True Positive Rate')\n",
    "plt.title('Test ROC')\n",
    "plt.legend(loc=\"lower right\")"
   ]
  },
  {
   "cell_type": "markdown",
   "metadata": {},
   "source": [
    "# Corerlation Matrix"
   ]
  },
  {
   "cell_type": "code",
   "execution_count": 29,
   "metadata": {
    "ExecuteTime": {
     "end_time": "2018-08-17T16:26:30.978919Z",
     "start_time": "2018-08-17T16:26:30.622459Z"
    }
   },
   "outputs": [
    {
     "data": {
      "text/plain": [
       "<matplotlib.axes._subplots.AxesSubplot at 0x7fe7c99600b8>"
      ]
     },
     "execution_count": 29,
     "metadata": {},
     "output_type": "execute_result"
    },
    {
     "data": {
      "image/png": "[encoded data removed]",
      "text/plain": [
       "<matplotlib.figure.Figure at 0x7fe7c9872cc0>"
      ]
     },
     "metadata": {},
     "output_type": "display_data"
    }
   ],
   "source": [
    "feature_corr_mat = train_X.corr()\n",
    "sns.heatmap(feature_corr_mat, cmap=\"RdBu\", center=0)"
   ]
  },
  {
   "cell_type": "markdown",
   "metadata": {},
   "source": [
    "# ML Performance"
   ]
  },
  {
   "cell_type": "code",
   "execution_count": 30,
   "metadata": {
    "ExecuteTime": {
     "end_time": "2018-08-17T16:26:30.999626Z",
     "start_time": "2018-08-17T16:26:30.984007Z"
    }
   },
   "outputs": [],
   "source": [
    "transformed_tempX_test = lr_normalizer_no_russ.transform(X_test[[col for col in X.columns if col not in russ_data+non_features]])\n",
    "transformed_X_test = lr_normalizer.transform(X_test)"
   ]
  },
  {
   "cell_type": "code",
   "execution_count": 31,
   "metadata": {
    "ExecuteTime": {
     "end_time": "2018-08-17T16:26:31.073607Z",
     "start_time": "2018-08-17T16:26:31.002223Z"
    }
   },
   "outputs": [],
   "source": [
    "colors = [\"green\",\"red\"]\n",
    "labels = [\"LR_NO_RUSS\",\"LR_RUSS\"]"
   ]
  },
  {
   "cell_type": "code",
   "execution_count": 32,
   "metadata": {
    "ExecuteTime": {
     "end_time": "2018-08-17T16:26:31.420585Z",
     "start_time": "2018-08-17T16:26:31.075287Z"
    }
   },
   "outputs": [
    {
     "data": {
      "text/plain": [
       "<matplotlib.legend.Legend at 0x7fe7c97709e8>"
      ]
     },
     "execution_count": 32,
     "metadata": {},
     "output_type": "execute_result"
    },
    {
     "data": {
      "image/png": "[encoded data removed]",
      "text/plain": [
       "<matplotlib.figure.Figure at 0x7fe7c987fc88>"
      ]
     },
     "metadata": {},
     "output_type": "display_data"
    }
   ],
   "source": [
    "plt.plot([0, 1], [0, 1], color='navy', lw=2, linestyle='--', label=\"Random\")\n",
    "\n",
    "# Plot the p_values log transformed\n",
    "fpr, tpr, thresholds= roc_curve(train_Y, train_X[\"logit_prior_perm\"])\n",
    "model_auc = auc(fpr, tpr)\n",
    "plt.plot(fpr, tpr, color='cyan', label=\"{} (area = {:0.2f})\".format(\"prior\", model_auc))\n",
    "\n",
    "fpr, tpr, thresholds= roc_curve(train_Y, final_models[0].predict_proba(transformed_X_no_russ)[:,1])\n",
    "model_auc = auc(fpr, tpr)\n",
    "plt.plot(fpr, tpr, color=colors[0], label=\"{} (area = {:0.2f})\".format(labels[0], model_auc))\n",
    "\n",
    "fpr, tpr, thresholds= roc_curve(train_Y, final_models[1].predict_proba(transformed_X)[:,1])\n",
    "model_auc = auc(fpr, tpr)\n",
    "plt.plot(fpr, tpr, color=colors[1], label=\"{} (area = {:0.2f})\".format(labels[1], model_auc))\n",
    "\n",
    "plt.xlabel('False Positive Rate')\n",
    "plt.ylabel('True Positive Rate')\n",
    "plt.title('Train ROC')\n",
    "plt.legend(loc=\"lower right\")"
   ]
  },
  {
   "cell_type": "code",
   "execution_count": 33,
   "metadata": {
    "ExecuteTime": {
     "end_time": "2018-08-17T16:26:31.605540Z",
     "start_time": "2018-08-17T16:26:31.424136Z"
    }
   },
   "outputs": [
    {
     "data": {
      "text/plain": [
       "<matplotlib.legend.Legend at 0x7fe7c967a908>"
      ]
     },
     "execution_count": 33,
     "metadata": {},
     "output_type": "execute_result"
    },
    {
     "data": {
      "image/png": "[encoded data removed]",
      "text/plain": [
       "<matplotlib.figure.Figure at 0x7fe7c96b9c88>"
      ]
     },
     "metadata": {},
     "output_type": "display_data"
    }
   ],
   "source": [
    "plt.plot([0, 1], [0, 1], color='navy', lw=2, linestyle='--', label=\"Random\")\n",
    "\n",
    "# Plot the p_values log transformed\n",
    "fpr, tpr, thresholds= roc_curve(Y_test, X_test[\"logit_prior_perm\"])\n",
    "model_auc = auc(fpr, tpr)\n",
    "plt.plot(fpr, tpr, color='cyan', label=\"{} (area = {:0.2f})\".format(\"prior\", model_auc))\n",
    "\n",
    "fpr, tpr, thresholds= roc_curve(Y_test, final_models[0].predict_proba(transformed_tempX_test)[:,1])\n",
    "model_auc = auc(fpr, tpr)\n",
    "plt.plot(fpr, tpr, color=colors[0], label=\"{} (area = {:0.2f})\".format(labels[0], model_auc))\n",
    "\n",
    "fpr, tpr, thresholds= roc_curve(Y_test, final_models[1].predict_proba(transformed_X_test)[:,1])\n",
    "model_auc = auc(fpr, tpr)\n",
    "plt.plot(fpr, tpr, color=colors[1], label=\"{} (area = {:0.2f})\".format(labels[1], model_auc))\n",
    "\n",
    "plt.xlabel('False Positive Rate')\n",
    "plt.ylabel('True Positive Rate')\n",
    "plt.title('Test ROC')\n",
    "plt.legend(loc=\"lower right\")"
   ]
  },
  {
   "cell_type": "code",
   "execution_count": 34,
   "metadata": {
    "ExecuteTime": {
     "end_time": "2018-08-17T16:26:31.792109Z",
     "start_time": "2018-08-17T16:26:31.607067Z"
    }
   },
   "outputs": [
    {
     "data": {
      "text/plain": [
       "<matplotlib.legend.Legend at 0x7fe7c966df60>"
      ]
     },
     "execution_count": 34,
     "metadata": {},
     "output_type": "execute_result"
    },
    {
     "data": {
      "image/png": "[encoded data removed]",
      "text/plain": [
       "<matplotlib.figure.Figure at 0x7fe7c9638cf8>"
      ]
     },
     "metadata": {},
     "output_type": "display_data"
    }
   ],
   "source": [
    "plt.figure()\n",
    "\n",
    "# Plot the p_values log transformed\n",
    "precision, recall, _= precision_recall_curve(Y_test, X_test[\"logit_prior_perm\"])\n",
    "model_precision = average_precision_score(Y_test, X_test[\"logit_prior_perm\"])\n",
    "plt.plot(recall, precision, color='cyan', label=\"{} (area = {:0.2f})\".format(\"prior\", model_precision))\n",
    "\n",
    "precision, recall, _ = precision_recall_curve(Y_test, final_models[0].predict_proba(transformed_tempX_test)[:,1])\n",
    "model_precision = average_precision_score(Y_test, final_models[0].predict_proba(transformed_tempX_test)[:,1])\n",
    "plt.plot(recall, precision, color=colors[0], label=\"{} curve (area = {:0.2f})\".format(labels[0], model_precision))\n",
    "  \n",
    "precision, recall, _ = precision_recall_curve(Y_test, final_models[1].predict_proba(transformed_X_test)[:,1])\n",
    "model_precision = average_precision_score(Y_test, final_models[1].predict_proba(transformed_X_test)[:,1])\n",
    "plt.plot(recall, precision, color=colors[1], label=\"{} curve (area = {:0.2f})\".format(labels[1], model_precision))\n",
    "\n",
    "plt.ylabel('Precision')\n",
    "plt.xlabel('Recall')\n",
    "plt.title('Test Precision-Recall Curve')\n",
    "plt.xlim([0, 1.01])\n",
    "plt.ylim([0, 1.05])\n",
    "plt.legend(loc=\"upper right\")"
   ]
  },
  {
   "cell_type": "markdown",
   "metadata": {},
   "source": [
    "## Save Final Result in DF"
   ]
  },
  {
   "cell_type": "code",
   "execution_count": null,
   "metadata": {},
   "outputs": [],
   "source": [
    "predictions = final_models[1].predict_proba(train_X.append(X_test))\n",
    "predictions_df = training_set.append(dev_set).append(test_set)[[\n",
    "    \"disease_id\",\"disease_name\", \n",
    "    \"gene_id\", \"gene_name\", 'hetnet']]\n",
    "predictions_df[\"predictions\"] = predictions[:,1]"
   ]
  },
  {
   "cell_type": "code",
   "execution_count": null,
   "metadata": {},
   "outputs": [],
   "source": [
    "predictions_df.to_csv(\"data/vanilla_lstm/final_model_predictions.csv\", index=False)"
   ]
  }
 ],
 "metadata": {
  "kernelspec": {
   "display_name": "Python [conda env:snorkeling]",
   "language": "python",
   "name": "conda-env-snorkeling-py"
  },
  "language_info": {
   "codemirror_mode": {
    "name": "ipython",
    "version": 3
   },
   "file_extension": ".py",
   "mimetype": "text/x-python",
   "name": "python",
   "nbconvert_exporter": "python",
   "pygments_lexer": "ipython3",
   "version": "3.6.4"
  }
 },
 "nbformat": 4,
 "nbformat_minor": 2
}
