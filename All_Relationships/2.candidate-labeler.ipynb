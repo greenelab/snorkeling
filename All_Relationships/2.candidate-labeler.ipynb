{
 "cells": [
  {
   "cell_type": "markdown",
   "metadata": {},
   "source": [
    "# Label The Candidates!"
   ]
  },
  {
   "cell_type": "markdown",
   "metadata": {},
   "source": [
    "This notebook corresponds to labeling each extracted candidate from the [previous notebook](1.data-loader.ipynb)."
   ]
  },
  {
   "cell_type": "markdown",
   "metadata": {},
   "source": [
    "## MUST RUN AT THE START OF EVERYTHING"
   ]
  },
  {
   "cell_type": "markdown",
   "metadata": {},
   "source": [
    "Load all the imports and set up the database for database operations. Plus, set up the particular candidate type this notebook is going to work with. "
   ]
  },
  {
   "cell_type": "code",
   "execution_count": null,
   "metadata": {
    "ExecuteTime": {
     "end_time": "2018-08-31T15:31:23.131651Z",
     "start_time": "2018-08-31T15:31:23.118743Z"
    }
   },
   "outputs": [],
   "source": [
    "%load_ext autoreload\n",
    "%autoreload 2\n",
    "%matplotlib inline\n",
    "\n",
    "import os\n",
    "\n",
    "import pandas as pd\n",
    "\n",
    "# This module is designed to help create dataframes for each candidate sentence\n",
    "from utils.notebook_utils.dataframe_helper import make_sentence_df, write_candidates_to_excel"
   ]
  },
  {
   "cell_type": "code",
   "execution_count": null,
   "metadata": {
    "ExecuteTime": {
     "end_time": "2018-08-31T15:31:23.332419Z",
     "start_time": "2018-08-31T15:31:23.133166Z"
    }
   },
   "outputs": [],
   "source": [
    "#Set up the environment\n",
    "username = \"danich1\"\n",
    "password = \"snorkel\"\n",
    "dbname = \"pubmeddb\"\n",
    "\n",
    "#Path subject to change for different os\n",
    "database_str = \"postgresql+psycopg2://{}:{}@/{}?host=/var/run/postgresql\".format(username, password, dbname)\n",
    "os.environ['SNORKELDB'] = database_str\n",
    "\n",
    "from snorkel import SnorkelSession\n",
    "session = SnorkelSession()"
   ]
  },
  {
   "cell_type": "code",
   "execution_count": null,
   "metadata": {
    "ExecuteTime": {
     "end_time": "2018-08-31T15:31:23.359920Z",
     "start_time": "2018-08-31T15:31:23.334017Z"
    }
   },
   "outputs": [],
   "source": [
    "from snorkel.annotations import LabelAnnotator\n",
    "from snorkel.models import candidate_subclass\n",
    "from snorkel.models import Candidate\n",
    "from snorkel.viewer import SentenceNgramViewer"
   ]
  },
  {
   "cell_type": "code",
   "execution_count": null,
   "metadata": {
    "ExecuteTime": {
     "end_time": "2018-08-31T15:31:23.402634Z",
     "start_time": "2018-08-31T15:31:23.372998Z"
    }
   },
   "outputs": [],
   "source": [
    "DiseaseGene = candidate_subclass('DiseaseGene', ['Disease', 'Gene'])\n",
    "GeneGene = candidate_subclass('GeneGene', ['Gene1', 'Gene2'])\n",
    "CompoundGene = candidate_subclass('CompoundGene', ['Compound', 'Gene'])\n",
    "CompoundDisease = candidate_subclass('CompoundDisease', ['Compound', 'Disease'])"
   ]
  },
  {
   "cell_type": "markdown",
   "metadata": {},
   "source": [
    "## Write the Candidates to Excel File"
   ]
  },
  {
   "cell_type": "code",
   "execution_count": null,
   "metadata": {
    "ExecuteTime": {
     "end_time": "2018-08-31T02:31:27.538031Z",
     "start_time": "2018-08-31T02:31:27.522042Z"
    }
   },
   "outputs": [],
   "source": [
    "sql_statements = [\n",
    "    '''\n",
    "    SELECT id from candidate\n",
    "    WHERE split = 9 and type='compound_disease'\n",
    "    ORDER BY RANDOM()\n",
    "    LIMIT 50;\n",
    "    ''',\n",
    "    \n",
    "    '''\n",
    "    SELECT id from candidate\n",
    "    WHERE split = 9 and type='compound_disease'\n",
    "    ORDER BY RANDOM()\n",
    "    LIMIT 10;\n",
    "    ''',\n",
    "\n",
    "    '''\n",
    "    SELECT id from candidate\n",
    "    WHERE split = 10 and type='compound_disease'\n",
    "    ORDER BY RANDOM()\n",
    "    LIMIT 10;\n",
    "    '''\n",
    "]\n",
    "\n",
    "spreadsheet_names = {\n",
    "    'train': 'data/compound_disease/sentence_labels_train.xlsx',\n",
    "    'train_hand_label': 'data/compound_disease/sentence_labels_train_dev.xlsx',\n",
    "    'dev': 'data/compound_disease/sentence_labels_dev.xlsx'\n",
    "}"
   ]
  },
  {
   "cell_type": "code",
   "execution_count": null,
   "metadata": {
    "ExecuteTime": {
     "end_time": "2018-08-31T02:29:47.164854Z",
     "start_time": "2018-08-31T02:29:45.604273Z"
    }
   },
   "outputs": [],
   "source": [
    "for sql, spreadsheet_name in zip(sql_statements, spreadsheet_names.values()):\n",
    "    target_cids = [x[0] for x in session.execute(sql)]\n",
    "    candidates = (\n",
    "        session\n",
    "        .query(CandidateClass)\n",
    "        .filter(CandidateClass.id.in_(target_cids))\n",
    "        .all()\n",
    "    )\n",
    "    candidate_df = make_sentence_df(candidates)\n",
    "    write_candidates_to_excel(candidate_df, spreadsheet_name)"
   ]
  },
  {
   "cell_type": "markdown",
   "metadata": {},
   "source": [
    "# Develop Label Functions"
   ]
  },
  {
   "cell_type": "markdown",
   "metadata": {},
   "source": [
    "## Look at potential Candidates"
   ]
  },
  {
   "cell_type": "markdown",
   "metadata": {},
   "source": [
    "Use this to look at loaded candidates from a given set. The constants represent the index to retrieve the appropiate set. Ideally, here is where one can look at a subset of the candidate and develop label functions for candidate labeling."
   ]
  },
  {
   "cell_type": "code",
   "execution_count": null,
   "metadata": {
    "ExecuteTime": {
     "end_time": "2018-08-27T21:01:12.988399Z",
     "start_time": "2018-08-27T21:01:00.927461Z"
    }
   },
   "outputs": [],
   "source": [
    "train_df = pd.read_excel(spreadsheet_names['train'])\n",
    "train_df.head(2)"
   ]
  },
  {
   "cell_type": "code",
   "execution_count": null,
   "metadata": {
    "ExecuteTime": {
     "end_time": "2018-08-23T14:31:22.072827Z",
     "start_time": "2018-08-23T14:31:22.050161Z"
    }
   },
   "outputs": [],
   "source": [
    "train_candidate_ids = train_df.candidate_id.astype(int)"
   ]
  },
  {
   "cell_type": "code",
   "execution_count": null,
   "metadata": {
    "ExecuteTime": {
     "end_time": "2018-08-23T14:31:36.263864Z",
     "start_time": "2018-08-23T14:31:36.158859Z"
    }
   },
   "outputs": [],
   "source": [
    "candidates = (\n",
    "    session\n",
    "    .query(CompoundGene)\n",
    "    .filter(CompoundGene.id.in_(train_candidate_ids))\n",
    "    .limit(10)\n",
    "    .offset(0)\n",
    ")\n",
    "sv = SentenceNgramViewer(candidates, session)"
   ]
  },
  {
   "cell_type": "code",
   "execution_count": null,
   "metadata": {
    "ExecuteTime": {
     "end_time": "2018-08-23T14:31:38.996554Z",
     "start_time": "2018-08-23T14:31:38.958137Z"
    }
   },
   "outputs": [],
   "source": [
    "sv"
   ]
  },
  {
   "cell_type": "code",
   "execution_count": null,
   "metadata": {
    "ExecuteTime": {
     "end_time": "2018-08-23T14:31:41.499178Z",
     "start_time": "2018-08-23T14:31:41.480400Z"
    }
   },
   "outputs": [],
   "source": [
    "c = sv.get_selected()\n",
    "c"
   ]
  },
  {
   "cell_type": "markdown",
   "metadata": {},
   "source": [
    "## Bicluster Dataframe formation"
   ]
  },
  {
   "cell_type": "code",
   "execution_count": null,
   "metadata": {
    "ExecuteTime": {
     "end_time": "2018-08-31T15:31:28.406026Z",
     "start_time": "2018-08-31T15:31:28.395479Z"
    }
   },
   "outputs": [],
   "source": [
    "url = \"https://zenodo.org/record/1035500/files/\"\n",
    "dep_path = \"part-ii-dependency-paths-chemical-disease-sorted-with-themes.txt\"\n",
    "file_dist = \"part-i-chemical-disease-path-theme-distributions.txt\"\n",
    "output_file = \"data/compound_disease/biclustering/compound_disease_bicluster_results.tsv\""
   ]
  },
  {
   "cell_type": "code",
   "execution_count": null,
   "metadata": {
    "ExecuteTime": {
     "end_time": "2018-08-31T15:53:34.498000Z",
     "start_time": "2018-08-31T15:38:28.723945Z"
    }
   },
   "outputs": [],
   "source": [
    "from utils.notebook_utils.bicluster import create_bicluster_df\n",
    "create_bicluster_df(url+dep_path, url+file_dist, output_file)"
   ]
  },
  {
   "cell_type": "markdown",
   "metadata": {},
   "source": [
    "# Label Functions"
   ]
  },
  {
   "cell_type": "markdown",
   "metadata": {},
   "source": [
    "Here is one of the fundamental part of this project. Below are the label functions that are used to give a candidate a label of 1,0 or -1 which corresponds to correct label, unknown label and incorrection label. The goal here is to develop functions that can label accurately label as many candidates as possible. This idea comes from the [data programming paradigm](https://papers.nips.cc/paper/6523-data-programming-creating-large-training-sets-quickly), where the goal is to be able to create labels that machine learning algorithms can use for accurate classification.  "
   ]
  },
  {
   "cell_type": "code",
   "execution_count": null,
   "metadata": {
    "ExecuteTime": {
     "end_time": "2018-08-31T16:32:26.096927Z",
     "start_time": "2018-08-31T16:31:52.076494Z"
    },
    "scrolled": true
   },
   "outputs": [],
   "source": [
    "from utils.label_functions.disease_gene_lf import DG_LFS\n",
    "from utils.label_functions.compound_gene_lf import CG_LFS\n",
    "from utils.label_functions.compound_disease_lf import CD_LFS\n",
    "#from utils.gene_gene_lf import GG_LFS"
   ]
  },
  {
   "cell_type": "markdown",
   "metadata": {},
   "source": [
    "# Label The Candidates"
   ]
  },
  {
   "cell_type": "markdown",
   "metadata": {},
   "source": [
    "Label each candidate based on the provided labels above. This code runs with realtive ease, but optimization is definitely needed when the number of label functions increases linearly."
   ]
  },
  {
   "cell_type": "code",
   "execution_count": null,
   "metadata": {
    "ExecuteTime": {
     "end_time": "2018-08-27T21:03:31.090485Z",
     "start_time": "2018-08-27T21:03:31.068836Z"
    }
   },
   "outputs": [],
   "source": [
    "label_functions = list(CG_LFS[\"CbG_DB\"].values()) + \n",
    "                  list(CG_LFS[\"CbG_TEXT\"].values()) +   \n",
    "                  list(DG_LFS[\"DaG_TEXT\"].values())\n",
    "\n",
    "labeler = LabelAnnotator(lfs=label_functions)"
   ]
  },
  {
   "cell_type": "markdown",
   "metadata": {},
   "source": [
    "# Quickly Relabel Candidates"
   ]
  },
  {
   "cell_type": "markdown",
   "metadata": {},
   "source": [
    "Use this block here to re-label candidates that have already been labled from the above process."
   ]
  },
  {
   "cell_type": "code",
   "execution_count": null,
   "metadata": {
    "ExecuteTime": {
     "end_time": "2018-08-31T02:31:35.177830Z",
     "start_time": "2018-08-31T02:31:32.323665Z"
    }
   },
   "outputs": [],
   "source": [
    "train_df = pd.read_excel(spreadsheet_names['train'])\n",
    "train_cids = train_df.candidate_id.astype(int).tolist()\n",
    "train_df.head(2)"
   ]
  },
  {
   "cell_type": "code",
   "execution_count": null,
   "metadata": {
    "ExecuteTime": {
     "end_time": "2018-08-31T02:31:29.911307Z",
     "start_time": "2018-08-31T02:31:29.358759Z"
    }
   },
   "outputs": [],
   "source": [
    "dev_df = pd.read_excel(spreadsheet_names['dev'])\n",
    "dev_df = dev_df[dev_df.curated_dsh.notnull()]\n",
    "dev_cids = list(map(int, dev_df.candidate_id.values))\n",
    "dev_df.head(2)"
   ]
  },
  {
   "cell_type": "code",
   "execution_count": null,
   "metadata": {
    "ExecuteTime": {
     "end_time": "2018-08-31T02:31:36.258233Z",
     "start_time": "2018-08-31T02:31:36.175781Z"
    }
   },
   "outputs": [],
   "source": [
    "train_hand_df = pd.read_excel(spreadsheet_names['train_hand_label'])\n",
    "train_hand_cids = train_hand_df[train_hand_df.curated_dsh.notnull()].candidate_id.astype(int).tolist()\n",
    "train_hand_df.head(2)"
   ]
  },
  {
   "cell_type": "code",
   "execution_count": null,
   "metadata": {
    "ExecuteTime": {
     "end_time": "2018-08-27T21:23:21.085446Z",
     "start_time": "2018-08-27T21:03:49.253888Z"
    },
    "scrolled": true
   },
   "outputs": [],
   "source": [
    "for cid_list in [train_cids, train_hand_cids, dev_cids]:\n",
    "    cids = session.query(CompoundGene.id).filter(CompoundGene.id.in_(cid_list))\n",
    "    %time labeler.apply(cids_query=cids, parallelism=5)"
   ]
  }
 ],
 "metadata": {
  "anaconda-cloud": {},
  "kernelspec": {
   "display_name": "Python [conda env:snorkeling]",
   "language": "python",
   "name": "conda-env-snorkeling-py"
  },
  "language_info": {
   "codemirror_mode": {
    "name": "ipython",
    "version": 3
   },
   "file_extension": ".py",
   "mimetype": "text/x-python",
   "name": "python",
   "nbconvert_exporter": "python",
   "pygments_lexer": "ipython3",
   "version": "3.6.4"
  }
 },
 "nbformat": 4,
 "nbformat_minor": 2
}
