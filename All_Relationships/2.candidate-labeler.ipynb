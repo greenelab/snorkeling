{
 "cells": [
  {
   "cell_type": "markdown",
   "metadata": {},
   "source": [
    "# Label The Candidates! Extract The Features!"
   ]
  },
  {
   "cell_type": "markdown",
   "metadata": {},
   "source": [
    "This notebook corresponds to labeling and genearting features for each extracted candidate from the [previous notebook](1.data-loader.ipynb)."
   ]
  },
  {
   "cell_type": "markdown",
   "metadata": {},
   "source": [
    "## MUST RUN AT THE START OF EVERYTHING"
   ]
  },
  {
   "cell_type": "markdown",
   "metadata": {},
   "source": [
    "Load all the imports and set up the database for database operations. Plus, set up the particular candidate type this notebook is going to work with. "
   ]
  },
  {
   "cell_type": "code",
   "execution_count": null,
   "metadata": {},
   "outputs": [],
   "source": [
    "%load_ext autoreload\n",
    "%autoreload 2\n",
    "%matplotlib inline\n",
    "\n",
    "from collections import defaultdict\n",
    "import csv\n",
    "import os\n",
    "import re\n",
    "\n",
    "\n",
    "import matplotlib.pyplot as plt\n",
    "import numpy as np\n",
    "import pandas as pd\n",
    "import tqdm"
   ]
  },
  {
   "cell_type": "code",
   "execution_count": null,
   "metadata": {},
   "outputs": [],
   "source": [
    "#Set up the environment\n",
    "username = \"danich1\"\n",
    "password = \"snorkel\"\n",
    "dbname = \"pubmeddb\"\n",
    "\n",
    "#Path subject to change for different os\n",
    "database_str = \"postgresql+psycopg2://{}:{}@/{}?host=/var/run/postgresql\".format(username, password, dbname)\n",
    "os.environ['SNORKELDB'] = database_str\n",
    "\n",
    "from snorkel import SnorkelSession\n",
    "session = SnorkelSession()"
   ]
  },
  {
   "cell_type": "code",
   "execution_count": null,
   "metadata": {},
   "outputs": [],
   "source": [
    "from snorkel.annotations import FeatureAnnotator, LabelAnnotator\n",
    "from snorkel.features import get_span_feats\n",
    "from snorkel.models import candidate_subclass\n",
    "from snorkel.models import Candidate, GoldLabel\n",
    "from snorkel.viewer import SentenceNgramViewer"
   ]
  },
  {
   "cell_type": "code",
   "execution_count": null,
   "metadata": {},
   "outputs": [],
   "source": [
    "edge_type = \"dg\"\n",
    "debug = False"
   ]
  },
  {
   "cell_type": "code",
   "execution_count": null,
   "metadata": {},
   "outputs": [],
   "source": [
    "if edge_type == \"dg\":\n",
    "    DiseaseGene = candidate_subclass('DiseaseGene', ['Disease', 'Gene'])\n",
    "    edge = \"disease_gene\"\n",
    "elif edge_type == \"gg\":\n",
    "    GeneGene = candidate_subclass('GeneGene', ['Gene1', 'Gene2'])\n",
    "    edge = \"gene_gene\"\n",
    "elif edge_type == \"cg\":\n",
    "    CompoundGene = candidate_subclass('CompoundGene', ['Compound', 'Gene'])\n",
    "    edge = \"compound_gene\"\n",
    "elif edge_type == \"cd\":\n",
    "    CompoundDisease = candidate_subclass('CompoundDisease', ['Compound', 'Disease'])\n",
    "    edge = \"compound_disease\"\n",
    "else:\n",
    "    print(\"Please pick a valid edge type\")"
   ]
  },
  {
   "cell_type": "markdown",
   "metadata": {},
   "source": [
    "# Look at potential Candidates"
   ]
  },
  {
   "cell_type": "markdown",
   "metadata": {},
   "source": [
    "Use this to look at loaded candidates from a given set. The constants represent the index to retrieve the appropiate set. Ideally, here is where one can look at a subset of the candidate and develop label functions for candidate labeling."
   ]
  },
  {
   "cell_type": "code",
   "execution_count": null,
   "metadata": {},
   "outputs": [],
   "source": [
    "#dev_set = pd.read_csv(\"vanilla_lstm/lstm_disease_gene_holdout/train_candidates_to_ids.csv\")\n",
    "#dev_set.head(3)"
   ]
  },
  {
   "cell_type": "code",
   "execution_count": null,
   "metadata": {},
   "outputs": [],
   "source": [
    "#TRAIN = 0\n",
    "#DEV = 1"
   ]
  },
  {
   "cell_type": "code",
   "execution_count": null,
   "metadata": {},
   "outputs": [],
   "source": [
    "#candidates = session.query(DiseaseGene).filter(DiseaseGene.split==DEV).offset(300).limit(100)\n",
    "#candidates = session.query(DiseaseGene).filter(DiseaseGene.id.in_(dev_set[\"id\"])).offset(400).limit(100)\n",
    "#sv = SentenceNgramViewer(candidates, session)"
   ]
  },
  {
   "cell_type": "code",
   "execution_count": null,
   "metadata": {
    "scrolled": false
   },
   "outputs": [],
   "source": [
    "#sv"
   ]
  },
  {
   "cell_type": "markdown",
   "metadata": {},
   "source": [
    "# Label Functions"
   ]
  },
  {
   "cell_type": "markdown",
   "metadata": {},
   "source": [
    "Here is one of the fundamental part of this project. Below are the label functions that are used to give a candidate a label of 1,0 or -1 which corresponds to correct label, unknown label and incorrection label. The goal here is to develop functions that can label accurately label as many candidates as possible. This idea comes from the [data programming paradigm](https://papers.nips.cc/paper/6523-data-programming-creating-large-training-sets-quickly), where the goal is to be able to create labels that machine learning algorithms can use for accurate classification.  "
   ]
  },
  {
   "cell_type": "code",
   "execution_count": null,
   "metadata": {},
   "outputs": [],
   "source": [
    "if edge_type == \"dg\":\n",
    "    from utils.disease_gene_lf import LFS\n",
    "elif edge_type == \"gg\":\n",
    "    from utils.gene_gene_lf import *\n",
    "elif edge_type == \"cg\":\n",
    "    from utils.compound_gene_lf import *\n",
    "elif edge_type == \"cd\":\n",
    "    from utils.compound_disease_lf import *\n",
    "else:\n",
    "    print(\"Please pick a valid edge type\")"
   ]
  },
  {
   "cell_type": "markdown",
   "metadata": {},
   "source": [
    "# Label The Candidates"
   ]
  },
  {
   "cell_type": "markdown",
   "metadata": {},
   "source": [
    "Label each candidate based on the provided labels above. This code runs with realtive ease, but optimization is definitely needed when the number of label functions increases linearly."
   ]
  },
  {
   "cell_type": "code",
   "execution_count": null,
   "metadata": {},
   "outputs": [],
   "source": [
    "from snorkel.annotations import load_gold_labels\n",
    "L_gold_train = load_gold_labels(session, annotator_name='danich1', split=0)\n",
    "annotated_cands_train_ids = list(map(lambda x: L_gold_train.row_index[x], L_gold_train.nonzero()[0]))\n",
    "\n",
    "L_gold_dev = load_gold_labels(session, annotator_name='danich1', split=1)\n",
    "annotated_cands_dev_ids = list(map(lambda x: L_gold_dev.row_index[x], L_gold_dev.nonzero()[0]))"
   ]
  },
  {
   "cell_type": "code",
   "execution_count": null,
   "metadata": {},
   "outputs": [],
   "source": [
    "sql = '''\n",
    "SELECT id from candidate\n",
    "WHERE split = 0 and type='disease_gene'\n",
    "ORDER BY RANDOM()\n",
    "LIMIT 1000;\n",
    "'''\n",
    "target_cids = [x[0] for x in session.execute(sql)]"
   ]
  },
  {
   "cell_type": "code",
   "execution_count": null,
   "metadata": {},
   "outputs": [],
   "source": [
    "target_cids"
   ]
  },
  {
   "cell_type": "code",
   "execution_count": null,
   "metadata": {},
   "outputs": [],
   "source": [
    "from  sqlalchemy.sql.expression import func\n",
    "labeler = LabelAnnotator(lfs=list(LFS.values()))\n",
    "\n",
    "cids = session.query(DiseaseGene.id).filter(DiseaseGene.id.in_(target_cids))\n",
    "%time L_train = labeler.apply(split=0, cids_query=cids, parallelism=5)\n",
    "\n",
    "#cids = session.query(Candidate.id).filter(Candidate.id.in_(annotated_cands_dev_ids))\n",
    "#%time L_dev = labeler.apply_existing(split=1, cids_query=cids, parallelism=5, clear=False)\n",
    "\n",
    "#cids = session.query(Candidate.id).filter(Candidate.split==2)\n",
    "#%time L_test = labeler.apply_existing(split=2, cids_query=cids, parallelism=5, clear=False)"
   ]
  },
  {
   "cell_type": "code",
   "execution_count": null,
   "metadata": {},
   "outputs": [],
   "source": [
    "L_train.lf_stats(session)"
   ]
  },
  {
   "cell_type": "markdown",
   "metadata": {},
   "source": [
    "# DO NOT RUN BELOW"
   ]
  },
  {
   "cell_type": "markdown",
   "metadata": {},
   "source": [
    "# Generate Candidate Features"
   ]
  },
  {
   "cell_type": "markdown",
   "metadata": {},
   "source": [
    "In conjunction with each candidate label, generate candidate features that will be used by some machine learning algorithms (notebook 4). This step is broken as insert takes an **incredibly** long time to run. Had to do roundabout way to load the features. **Do not run this block** and refer to the code block below. Gonna need to debug this part, when I get time."
   ]
  },
  {
   "cell_type": "code",
   "execution_count": null,
   "metadata": {},
   "outputs": [],
   "source": [
    "%%time\n",
    "featurizer = FeatureAnnotator()\n",
    "featurizer.apply(split=0, clear=False)\n",
    "\n",
    "F_dev = featurizer.apply_existing(split=1, parallelism=5, clear=False)\n",
    "F_test = featurizer.apply_existing(split=2, parallelism=5, clear=False)"
   ]
  },
  {
   "cell_type": "markdown",
   "metadata": {},
   "source": [
    "# Work Around for above code"
   ]
  },
  {
   "cell_type": "markdown",
   "metadata": {},
   "source": [
    "As mentioned above this code is the workaround for the broken featurizer. The intuition behind this section is to write all the generated features to a sql text file. Exploting the psql's COPY command, the time taken for inserting features drops to ~30 minutues (compared to 1 week+)."
   ]
  },
  {
   "cell_type": "code",
   "execution_count": null,
   "metadata": {
    "scrolled": true
   },
   "outputs": [],
   "source": [
    "%%time\n",
    "\n",
    "group = 0\n",
    "chunksize = 1e5\n",
    "seen = set()\n",
    "feature_key_hash = defaultdict(int)\n",
    "feat_counter = 0\n",
    "\n",
    "with open('feature_key.sql', 'wb') as f:\n",
    "    with open('feature.sql', 'wb') as g:\n",
    "        # Write the headers\n",
    "        f.write(\"COPY feature_key(\\\"group\\\", name, id) from stdin with CSV DELIMITER '\t' QUOTE '\\\"';\\n\")\n",
    "        g.write(\"COPY feature(value, candidate_id, key_id) from stdin with CSV DELIMITER '\t' QUOTE '\\\"';\\n\")\n",
    "        \n",
    "        # Set up the writers\n",
    "        feature_key_writer = csv.writer(f, delimiter='\\t',  quoting=csv.QUOTE_NONNUMERIC)\n",
    "        feature_writer = csv.writer(g, delimiter='\\t', quoting=csv.QUOTE_NONNUMERIC)\n",
    "        \n",
    "        # For each split get and generate features\n",
    "        for split in [0,1,2]:\n",
    "    \n",
    "            #reset pointer to cycle through database again\n",
    "            pointer = 0\n",
    "            \n",
    "            print(split)\n",
    "            candidate_query = session.query(Candidate).filter(Candidate.split==split).limit(chunksize)\n",
    "            \n",
    "            while True:\n",
    "                candidates = candidate_query.offset(pointer).all()\n",
    "                \n",
    "                if not candidates:\n",
    "                    break\n",
    "\n",
    "                for c in tqdm.tqdm(candidates):\n",
    "                    try:\n",
    "                        for name, value in get_span_feats(c):\n",
    "\n",
    "                            # If the training set, set the feature hash\n",
    "                            if split == 0:\n",
    "                                if name not in feature_key_hash:\n",
    "                                    feature_key_hash[name] = feat_counter\n",
    "                                    feat_counter = feat_counter + 1\n",
    "                                    feature_key_writer.writerow([group, name, feature_key_hash[name]])\n",
    "\n",
    "                            if name in feature_key_hash:\n",
    "                                # prevent duplicates from being written to the file\n",
    "                                if (c.id, name) not in seen:\n",
    "                                    feature_writer.writerow([value, c.id, feature_key_hash[name]])\n",
    "                                    seen.add((c.id, name))\n",
    "\n",
    "                        #To prevent memory overload\n",
    "                        seen = set()\n",
    "                    \n",
    "                    except Exception as e:\n",
    "                        print(e.message)\n",
    "                        print(c)\n",
    "                        print(c.get_parent().text)\n",
    "\n",
    "                # update pointer for database\n",
    "                pointer = pointer + chunksize"
   ]
  },
  {
   "cell_type": "markdown",
   "metadata": {},
   "source": [
    "# Generate Coverage Stats"
   ]
  },
  {
   "cell_type": "markdown",
   "metadata": {},
   "source": [
    "Before throwing our labels at a machine learning algorithm take a look at some quick stats. The code below will show the coverage and conflicts of each label function. Furthermore, this code will show the dimension of each label matrix."
   ]
  },
  {
   "cell_type": "code",
   "execution_count": null,
   "metadata": {},
   "outputs": [],
   "source": [
    "print(L_train.lf_stats(session, ))"
   ]
  },
  {
   "cell_type": "code",
   "execution_count": null,
   "metadata": {},
   "outputs": [],
   "source": [
    "print(L_dev.lf_stats(session, ))"
   ]
  }
 ],
 "metadata": {
  "anaconda-cloud": {},
  "kernelspec": {
   "display_name": "Python 3",
   "language": "python",
   "name": "python3"
  },
  "language_info": {
   "codemirror_mode": {
    "name": "ipython",
    "version": 3
   },
   "file_extension": ".py",
   "mimetype": "text/x-python",
   "name": "python",
   "nbconvert_exporter": "python",
   "pygments_lexer": "ipython3",
   "version": "3.6.4"
  }
 },
 "nbformat": 4,
 "nbformat_minor": 2
}
