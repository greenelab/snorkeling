{
 "cells": [
  {
   "cell_type": "markdown",
   "metadata": {},
   "source": [
    "# Label The Candidates!"
   ]
  },
  {
   "cell_type": "markdown",
   "metadata": {},
   "source": [
    "This notebook corresponds to labeling and genearting features for each extracted candidate from the [previous notebook](1.data-loader.ipynb)."
   ]
  },
  {
   "cell_type": "markdown",
   "metadata": {},
   "source": [
    "## MUST RUN AT THE START OF EVERYTHING"
   ]
  },
  {
   "cell_type": "markdown",
   "metadata": {},
   "source": [
    "Load all the imports and set up the database for database operations. Plus, set up the particular candidate type this notebook is going to work with. "
   ]
  },
  {
   "cell_type": "code",
   "execution_count": null,
   "metadata": {
    "ExecuteTime": {
     "end_time": "2018-08-14T15:27:40.240863Z",
     "start_time": "2018-08-14T15:27:39.878957Z"
    }
   },
   "outputs": [],
   "source": [
    "%load_ext autoreload\n",
    "%autoreload 2\n",
    "%matplotlib inline\n",
    "\n",
    "from collections import defaultdict\n",
    "import csv\n",
    "import os\n",
    "import re\n",
    "\n",
    "\n",
    "import matplotlib.pyplot as plt\n",
    "import numpy as np\n",
    "import pandas as pd\n",
    "import tqdm"
   ]
  },
  {
   "cell_type": "code",
   "execution_count": null,
   "metadata": {
    "ExecuteTime": {
     "end_time": "2018-08-14T15:27:40.413962Z",
     "start_time": "2018-08-14T15:27:40.242333Z"
    }
   },
   "outputs": [],
   "source": [
    "#Set up the environment\n",
    "username = \"danich1\"\n",
    "password = \"snorkel\"\n",
    "dbname = \"pubmeddb\"\n",
    "\n",
    "#Path subject to change for different os\n",
    "database_str = \"postgresql+psycopg2://{}:{}@/{}?host=/var/run/postgresql\".format(username, password, dbname)\n",
    "os.environ['SNORKELDB'] = database_str\n",
    "\n",
    "from snorkel import SnorkelSession\n",
    "session = SnorkelSession()"
   ]
  },
  {
   "cell_type": "code",
   "execution_count": null,
   "metadata": {
    "ExecuteTime": {
     "end_time": "2018-08-14T15:27:40.438601Z",
     "start_time": "2018-08-14T15:27:40.415362Z"
    }
   },
   "outputs": [],
   "source": [
    "from snorkel.annotations import FeatureAnnotator, LabelAnnotator\n",
    "from snorkel.features import get_span_feats\n",
    "from snorkel.models import candidate_subclass\n",
    "from snorkel.models import Candidate, GoldLabel\n",
    "from snorkel.viewer import SentenceNgramViewer"
   ]
  },
  {
   "cell_type": "code",
   "execution_count": null,
   "metadata": {
    "ExecuteTime": {
     "end_time": "2018-08-14T15:28:29.615864Z",
     "start_time": "2018-08-14T15:28:29.598971Z"
    }
   },
   "outputs": [],
   "source": [
    "edge_type = \"cg\"\n",
    "debug = False"
   ]
  },
  {
   "cell_type": "code",
   "execution_count": null,
   "metadata": {
    "ExecuteTime": {
     "end_time": "2018-08-14T15:28:29.661847Z",
     "start_time": "2018-08-14T15:28:29.619420Z"
    }
   },
   "outputs": [],
   "source": [
    "if edge_type == \"dg\":\n",
    "    DiseaseGene = candidate_subclass('DiseaseGene', ['Disease', 'Gene'])\n",
    "    edge = \"disease_gene\"\n",
    "elif edge_type == \"gg\":\n",
    "    GeneGene = candidate_subclass('GeneGene', ['Gene1', 'Gene2'])\n",
    "    edge = \"gene_gene\"\n",
    "elif edge_type == \"cg\":\n",
    "    CompoundGene = candidate_subclass('CompoundGene', ['Compound', 'Gene'])\n",
    "    edge = \"compound_gene\"\n",
    "elif edge_type == \"cd\":\n",
    "    CompoundDisease = candidate_subclass('CompoundDisease', ['Compound', 'Disease'])\n",
    "    edge = \"compound_disease\"\n",
    "else:\n",
    "    print(\"Please pick a valid edge type\")"
   ]
  },
  {
   "cell_type": "markdown",
   "metadata": {},
   "source": [
    "# Develop Label Functions"
   ]
  },
  {
   "cell_type": "markdown",
   "metadata": {},
   "source": [
    "## Look at potential Candidates"
   ]
  },
  {
   "cell_type": "markdown",
   "metadata": {},
   "source": [
    "Use this to look at loaded candidates from a given set. The constants represent the index to retrieve the appropiate set. Ideally, here is where one can look at a subset of the candidate and develop label functions for candidate labeling."
   ]
  },
  {
   "cell_type": "code",
   "execution_count": null,
   "metadata": {
    "ExecuteTime": {
     "end_time": "2018-08-14T15:27:52.997784Z",
     "start_time": "2018-08-14T15:27:40.563981Z"
    }
   },
   "outputs": [],
   "source": [
    "train_candidate_df = pd.read_excel(\"data/compound_gene/compound_binds_gene/sentence-labels.xlsx\")\n",
    "train_candidate_df.head(2)"
   ]
  },
  {
   "cell_type": "code",
   "execution_count": null,
   "metadata": {
    "ExecuteTime": {
     "end_time": "2018-08-14T15:27:53.020212Z",
     "start_time": "2018-08-14T15:27:53.001184Z"
    }
   },
   "outputs": [],
   "source": [
    "train_candidate_ids = list(map(int, train_candidate_df.candidate_id.values))[1:100]"
   ]
  },
  {
   "cell_type": "code",
   "execution_count": null,
   "metadata": {
    "ExecuteTime": {
     "end_time": "2018-08-14T15:28:35.035620Z",
     "start_time": "2018-08-14T15:28:34.314491Z"
    }
   },
   "outputs": [],
   "source": [
    "candidates = session.query(CompoundGene).filter(CompoundGene.id.in_(train_candidate_ids)).limit(100)\n",
    "sv = SentenceNgramViewer(candidates, session)"
   ]
  },
  {
   "cell_type": "code",
   "execution_count": null,
   "metadata": {
    "ExecuteTime": {
     "end_time": "2018-08-14T15:28:35.895873Z",
     "start_time": "2018-08-14T15:28:35.880324Z"
    },
    "scrolled": true
   },
   "outputs": [],
   "source": [
    "sv"
   ]
  },
  {
   "cell_type": "code",
   "execution_count": null,
   "metadata": {
    "ExecuteTime": {
     "end_time": "2018-08-14T15:35:03.773132Z",
     "start_time": "2018-08-14T15:35:03.756720Z"
    }
   },
   "outputs": [],
   "source": [
    "c = sv.get_selected()\n",
    "c"
   ]
  },
  {
   "cell_type": "markdown",
   "metadata": {},
   "source": [
    "# Label Functions"
   ]
  },
  {
   "cell_type": "markdown",
   "metadata": {},
   "source": [
    "Here is one of the fundamental part of this project. Below are the label functions that are used to give a candidate a label of 1,0 or -1 which corresponds to correct label, unknown label and incorrection label. The goal here is to develop functions that can label accurately label as many candidates as possible. This idea comes from the [data programming paradigm](https://papers.nips.cc/paper/6523-data-programming-creating-large-training-sets-quickly), where the goal is to be able to create labels that machine learning algorithms can use for accurate classification.  "
   ]
  },
  {
   "cell_type": "code",
   "execution_count": null,
   "metadata": {
    "ExecuteTime": {
     "end_time": "2018-08-09T13:54:13.633159Z",
     "start_time": "2018-08-09T13:53:54.178654Z"
    },
    "scrolled": true
   },
   "outputs": [],
   "source": [
    "if edge_type == \"dg\":\n",
    "    from utils.disease_gene_lf import LFS, LF_DEBUG\n",
    "elif edge_type == \"gg\":\n",
    "    from utils.gene_gene_lf import *\n",
    "elif edge_type == \"cg\":\n",
    "    from utils.compound_gene_lf import *\n",
    "elif edge_type == \"cd\":\n",
    "    from utils.compound_disease_lf import *\n",
    "else:\n",
    "    print(\"Please pick a valid edge type\")"
   ]
  },
  {
   "cell_type": "markdown",
   "metadata": {},
   "source": [
    "# Label The Candidates"
   ]
  },
  {
   "cell_type": "markdown",
   "metadata": {},
   "source": [
    "Label each candidate based on the provided labels above. This code runs with realtive ease, but optimization is definitely needed when the number of label functions increases linearly."
   ]
  },
  {
   "cell_type": "code",
   "execution_count": null,
   "metadata": {
    "ExecuteTime": {
     "end_time": "2018-08-09T13:54:13.661611Z",
     "start_time": "2018-08-09T13:54:13.637354Z"
    }
   },
   "outputs": [],
   "source": [
    "from  sqlalchemy.sql.expression import func\n",
    "labeler = LabelAnnotator(lfs=list(LFS.values()))"
   ]
  },
  {
   "cell_type": "markdown",
   "metadata": {},
   "source": [
    "### Train Set"
   ]
  },
  {
   "cell_type": "code",
   "execution_count": null,
   "metadata": {
    "ExecuteTime": {
     "end_time": "2018-08-09T14:08:36.005063Z",
     "start_time": "2018-08-09T14:00:29.994327Z"
    }
   },
   "outputs": [],
   "source": [
    "sql = '''\n",
    "SELECT id from candidate\n",
    "WHERE split = 0 and type='disease_gene' and id not in {}\n",
    "ORDER BY RANDOM()\n",
    "LIMIT 200000;\n",
    "'''\n",
    "sql = sql.format(\"(\" + \",\".join(map(str,train_candidate_df.candidate_id.values)) + \")\")\n",
    "target_cids = [x[0] for x in session.execute(sql)]"
   ]
  },
  {
   "cell_type": "code",
   "execution_count": null,
   "metadata": {
    "ExecuteTime": {
     "end_time": "2018-08-09T14:08:56.347657Z",
     "start_time": "2018-08-09T14:08:56.318615Z"
    }
   },
   "outputs": [],
   "source": [
    "any(train_candidate_df.candidate_id.isin(target_cids))"
   ]
  },
  {
   "cell_type": "code",
   "execution_count": null,
   "metadata": {
    "ExecuteTime": {
     "end_time": "2018-08-09T14:11:18.474107Z",
     "start_time": "2018-08-09T14:11:17.810905Z"
    }
   },
   "outputs": [],
   "source": [
    "np.savetxt('data/disease_gene/labeled_candidates.txt', list(train_candidate_df.candidate_id.values) + target_cids)"
   ]
  },
  {
   "cell_type": "markdown",
   "metadata": {},
   "source": [
    "### Dev Set"
   ]
  },
  {
   "cell_type": "code",
   "execution_count": null,
   "metadata": {},
   "outputs": [],
   "source": [
    "sql = '''\n",
    "SELECT candidate_id FROM gold_label\n",
    "'''\n",
    "gold_cids = [x[0] for x in session.execute(sql)]\n",
    "gold_cids"
   ]
  },
  {
   "cell_type": "code",
   "execution_count": null,
   "metadata": {},
   "outputs": [],
   "source": [
    "sql = '''\n",
    "SELECT id from candidate\n",
    "WHERE split = 0 and type='disease_gene'\n",
    "ORDER BY RANDOM()\n",
    "LIMIT 10000;\n",
    "'''\n",
    "gold_cids = [x[0] for x in session.execute(sql)]\n",
    "gold_cids"
   ]
  },
  {
   "cell_type": "code",
   "execution_count": null,
   "metadata": {},
   "outputs": [],
   "source": [
    "np.savetxt('data/labeled_dev_candidates.txt', gold_cids)"
   ]
  },
  {
   "cell_type": "markdown",
   "metadata": {},
   "source": [
    "# Quickly Relabel Candidates"
   ]
  },
  {
   "cell_type": "markdown",
   "metadata": {},
   "source": [
    "Use this block here to re-label candidates that have already been labled from the above process."
   ]
  },
  {
   "cell_type": "code",
   "execution_count": null,
   "metadata": {
    "ExecuteTime": {
     "end_time": "2018-08-09T14:12:30.743230Z",
     "start_time": "2018-08-09T14:12:29.794518Z"
    }
   },
   "outputs": [],
   "source": [
    "target_cids = np.loadtxt('data/disease_gene/labeled_candidates.txt').astype(int).tolist()"
   ]
  },
  {
   "cell_type": "code",
   "execution_count": null,
   "metadata": {
    "ExecuteTime": {
     "end_time": "2018-08-09T15:36:47.860079Z",
     "start_time": "2018-08-09T14:12:30.744923Z"
    },
    "scrolled": true
   },
   "outputs": [],
   "source": [
    "cids = session.query(DiseaseGene.id).filter(DiseaseGene.id.in_(target_cids))\n",
    "%time L_train = labeler.apply(split=0, cids_query=cids, parallelism=5)"
   ]
  },
  {
   "cell_type": "code",
   "execution_count": null,
   "metadata": {
    "ExecuteTime": {
     "end_time": "2018-08-09T15:36:49.456730Z",
     "start_time": "2018-08-09T15:36:47.861736Z"
    }
   },
   "outputs": [],
   "source": [
    "dev_df = pd.read_excel(\"data/sentence-labels-dev-hand-labeled.xlsx\")\n",
    "dev_df = dev_df[dev_df.curated_dsh.notnull()]\n",
    "gold_cids = list(map(int, dev_df.candidate_id.values))\n",
    "len(gold_cids)"
   ]
  },
  {
   "cell_type": "code",
   "execution_count": null,
   "metadata": {
    "ExecuteTime": {
     "end_time": "2018-08-09T15:37:04.633388Z",
     "start_time": "2018-08-09T15:36:49.458609Z"
    },
    "scrolled": false
   },
   "outputs": [],
   "source": [
    "cids = session.query(Candidate.id).filter(Candidate.id.in_(gold_cids))\n",
    "%time L_dev = labeler.apply_existing(cids_query=cids, parallelism=5, clear=False)"
   ]
  },
  {
   "cell_type": "code",
   "execution_count": null,
   "metadata": {
    "ExecuteTime": {
     "end_time": "2018-08-09T15:37:37.356758Z",
     "start_time": "2018-08-09T15:37:04.635168Z"
    }
   },
   "outputs": [],
   "source": [
    "sql = '''\n",
    "SELECT candidate_id FROM gold_label\n",
    "INNER JOIN Candidate ON Candidate.id=gold_label.candidate_id\n",
    "WHERE Candidate.split=0;\n",
    "'''\n",
    "cids = session.query(Candidate.id).filter(Candidate.id.in_([x[0] for x in session.execute(sql)]))\n",
    "%time L_train_hand_labeled = labeler.apply_existing(cids_query=cids, parallelism=5, clear=False)"
   ]
  }
 ],
 "metadata": {
  "anaconda-cloud": {},
  "kernelspec": {
   "display_name": "Python [conda env:snorkeling]",
   "language": "python",
   "name": "conda-env-snorkeling-py"
  },
  "language_info": {
   "codemirror_mode": {
    "name": "ipython",
    "version": 3
   },
   "file_extension": ".py",
   "mimetype": "text/x-python",
   "name": "python",
   "nbconvert_exporter": "python",
   "pygments_lexer": "ipython3",
   "version": "3.6.4"
  }
 },
 "nbformat": 4,
 "nbformat_minor": 2
}
