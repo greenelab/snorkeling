{
 "cells": [
  {
   "cell_type": "markdown",
   "metadata": {},
   "source": [
    "# Calculate Prior Probability of Edge Types"
   ]
  },
  {
   "cell_type": "markdown",
   "metadata": {},
   "source": [
    "This notebook calculates the prior probabiltity of an edge type through permutation. This notebook will be used for various edge types as this project progresses."
   ]
  },
  {
   "cell_type": "code",
   "execution_count": null,
   "metadata": {
    "collapsed": true
   },
   "outputs": [],
   "source": [
    "from collections import defaultdict\n",
    "import itertools\n",
    "import statistics\n",
    "import pandas as pd\n",
    "\n",
    "import tqdm\n",
    "from hetio.permute import permute_pair_list\n",
    "%matplotlib inline"
   ]
  },
  {
   "cell_type": "code",
   "execution_count": null,
   "metadata": {
    "collapsed": true,
    "scrolled": true
   },
   "outputs": [],
   "source": [
    "hetnet_df = pd.read_csv('hetnet_dg_kb.csv')"
   ]
  },
  {
   "cell_type": "code",
   "execution_count": null,
   "metadata": {
    "collapsed": true
   },
   "outputs": [],
   "source": [
    "disease_degree = dict(hetnet_df[\"disease_id\"].value_counts())\n",
    "gene_degree = dict(hetnet_df[\"gene_id\"].value_counts())"
   ]
  },
  {
   "cell_type": "code",
   "execution_count": null,
   "metadata": {},
   "outputs": [],
   "source": [
    "association_edge = defaultdict(set)\n",
    "association_row = list()\n",
    "\n",
    "for (disease, d_degree), (gene, g_degree) in tqdm.tqdm(itertools.product(disease_degree.items(), gene_degree.items())):\n",
    "    association_row.append((disease, gene, d_degree, g_degree))\n",
    "    association_edge[(d_degree, g_degree)].add((disease, gene))\n",
    "\n",
    "pair_df = pd.DataFrame(association_row, columns=[\"disease_id\", \"gene_id\", \"disease_associates\", \"gene_associates\"])\n",
    "pair_df.head(10)"
   ]
  },
  {
   "cell_type": "code",
   "execution_count": null,
   "metadata": {},
   "outputs": [],
   "source": [
    "associations = list(zip(hetnet_df[\"disease_id\"], hetnet_df[\"gene_id\"]))\n",
    "print(len(associations))"
   ]
  },
  {
   "cell_type": "code",
   "execution_count": null,
   "metadata": {
    "collapsed": true
   },
   "outputs": [],
   "source": [
    "# Burn In\n",
    "pair_list, stats = permute_pair_list(associations, multiplier=10)\n",
    "burnin_stats = pd.DataFrame(stats)"
   ]
  },
  {
   "cell_type": "code",
   "execution_count": null,
   "metadata": {},
   "outputs": [],
   "source": [
    "burnin_stats"
   ]
  },
  {
   "cell_type": "code",
   "execution_count": null,
   "metadata": {},
   "outputs": [],
   "source": [
    "burnin_stats[\"unchanged\"].plot()"
   ]
  },
  {
   "cell_type": "code",
   "execution_count": null,
   "metadata": {
    "collapsed": true
   },
   "outputs": [],
   "source": [
    "# Burnin Stats\n",
    "multiplier = 3"
   ]
  },
  {
   "cell_type": "code",
   "execution_count": null,
   "metadata": {},
   "outputs": [],
   "source": [
    "# calculate the total number of permutations\n",
    "# divide the total number by half to prevent memory issues\n",
    "n_perm = hetnet_df[\"disease_id\"].nunique() * hetnet_df[\"gene_id\"].nunique()\n",
    "n_perm = n_perm * 0.5"
   ]
  },
  {
   "cell_type": "code",
   "execution_count": null,
   "metadata": {},
   "outputs": [],
   "source": [
    "%%time\n",
    "edges_to_prob = {x: list() for x in association_edge}\n",
    "\n",
    "for i in tqdm.tqdm(range(n_perm)):\n",
    "    pair_list, stats = permute_pair_list(pair_list, multiplier=multiplier, seed=i)\n",
    "    \n",
    "    pair_set = set(pair_list)\n",
    "    for degree, probs in edges_to_prob.items():\n",
    "        edges = association_edge[degree]\n",
    "        probs.append(len(edges & pair_set) / len(edges))"
   ]
  },
  {
   "cell_type": "code",
   "execution_count": null,
   "metadata": {
    "scrolled": true
   },
   "outputs": [],
   "source": [
    "rows = []\n",
    "\n",
    "for (d_deg, g_deg), probs in tqdm.tqdm(edges_to_prob.items()):\n",
    "    mean = statistics.mean(probs)\n",
    "    std_error = statistics.stdev(probs) / len(probs) ** 0.5\n",
    "    rows.append((d_deg, g_deg, mean, std_error))\n",
    "    \n",
    "perm_df = pd.DataFrame(rows, columns=['disease_associates', 'gene_associates', 'prior_perm', 'prior_perm_stderr'])\n",
    "perm_df.head(10)"
   ]
  },
  {
   "cell_type": "code",
   "execution_count": null,
   "metadata": {
    "collapsed": true
   },
   "outputs": [],
   "source": [
    "# Add unpermuted treatment prevalence columns\n",
    "rows = list()\n",
    "association_set = set(associations)\n",
    "\n",
    "for (d_deg, g_deg), edges in association_edge.items():\n",
    "    n_associations = len(edges & association_set)\n",
    "    rows.append((d_deg, g_deg, n_associations, len(edges)))\n",
    "degree_prior_df = pd.DataFrame(rows, columns=['disease_associates', 'gene_associates', 'n_associations', 'n_possible'])\n",
    "degree_prior_df = perm_df.merge(degree_prior_df)\n",
    "degree_prior_df = degree_prior_df.sort_values(['disease_associates', 'gene_associates'], ascending=False)"
   ]
  },
  {
   "cell_type": "code",
   "execution_count": null,
   "metadata": {},
   "outputs": [],
   "source": [
    "degree_prior_df.head(5)"
   ]
  },
  {
   "cell_type": "code",
   "execution_count": null,
   "metadata": {
    "collapsed": true
   },
   "outputs": [],
   "source": [
    "degree_prior_df.to_csv(\"degree-prior.csv\", index=False, float_format='%.6g')"
   ]
  },
  {
   "cell_type": "code",
   "execution_count": null,
   "metadata": {},
   "outputs": [],
   "source": [
    "obs_pair_df = pair_df.merge(perm_df)\n",
    "obs_pair_df.head(10)"
   ]
  },
  {
   "cell_type": "code",
   "execution_count": null,
   "metadata": {
    "collapsed": true
   },
   "outputs": [],
   "source": [
    "obs_pair_df.to_csv(\"observation-prior.csv\", index=False, float_format='%.6g')"
   ]
  }
 ],
 "metadata": {
  "kernelspec": {
   "display_name": "Python 2",
   "language": "python",
   "name": "python2"
  },
  "language_info": {
   "codemirror_mode": {
    "name": "ipython",
    "version": 2
   },
   "file_extension": ".py",
   "mimetype": "text/x-python",
   "name": "python",
   "nbconvert_exporter": "python",
   "pygments_lexer": "ipython2",
   "version": "2.7.13"
  }
 },
 "nbformat": 4,
 "nbformat_minor": 2
}
