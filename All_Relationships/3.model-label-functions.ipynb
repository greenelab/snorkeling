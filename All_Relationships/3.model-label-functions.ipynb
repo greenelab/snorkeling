{
 "cells": [
  {
   "cell_type": "markdown",
   "metadata": {},
   "source": [
    "# Train the Generative Model for Candidate Labeling"
   ]
  },
  {
   "cell_type": "markdown",
   "metadata": {},
   "source": [
    "This notebook is designed to run a generative model that snorkel uses to probabilistically label each candidate. (1 for positive label and -1 for negative label). Using this generative model, we will test the hypothesis: **modeling correlation structure between label functions provides better precision and recall than the conditionally independent model.**"
   ]
  },
  {
   "cell_type": "markdown",
   "metadata": {},
   "source": [
    "## MUST RUN AT THE START OF EVERYTHING"
   ]
  },
  {
   "cell_type": "markdown",
   "metadata": {},
   "source": [
    "Import the necessary modules and set up the database for database operations."
   ]
  },
  {
   "cell_type": "code",
   "execution_count": 1,
   "metadata": {
    "ExecuteTime": {
     "end_time": "2018-07-26T18:18:42.161014Z",
     "start_time": "2018-07-26T18:18:41.630066Z"
    }
   },
   "outputs": [],
   "source": [
    "%load_ext autoreload\n",
    "%autoreload 2\n",
    "%matplotlib inline\n",
    "\n",
    "from collections import Counter, OrderedDict, defaultdict\n",
    "import os\n",
    "from tqdm import tqdm_notebook\n",
    "\n",
    "import matplotlib.pyplot as plt\n",
    "import numpy as np\n",
    "import pandas as pd\n",
    "import seaborn as sns\n",
    "from sklearn.metrics import average_precision_score, precision_recall_curve, roc_curve, auc, f1_score"
   ]
  },
  {
   "cell_type": "code",
   "execution_count": 2,
   "metadata": {
    "ExecuteTime": {
     "end_time": "2018-07-26T18:18:42.347962Z",
     "start_time": "2018-07-26T18:18:42.162357Z"
    }
   },
   "outputs": [],
   "source": [
    "#Set up the environment\n",
    "username = \"danich1\"\n",
    "password = \"snorkel\"\n",
    "dbname = \"pubmeddb\"\n",
    "\n",
    "#Path subject to change for different os\n",
    "database_str = \"postgresql+psycopg2://{}:{}@/{}?host=/var/run/postgresql\".format(username, password, dbname)\n",
    "os.environ['SNORKELDB'] = database_str\n",
    "\n",
    "from snorkel import SnorkelSession\n",
    "session = SnorkelSession()"
   ]
  },
  {
   "cell_type": "code",
   "execution_count": 3,
   "metadata": {
    "ExecuteTime": {
     "end_time": "2018-07-26T18:19:00.734626Z",
     "start_time": "2018-07-26T18:18:42.349344Z"
    }
   },
   "outputs": [],
   "source": [
    "from snorkel import SnorkelSession\n",
    "from snorkel.annotations import load_gold_labels\n",
    "from snorkel.annotations import FeatureAnnotator, LabelAnnotator, save_marginals\n",
    "from snorkel.learning import GenerativeModel\n",
    "from snorkel.learning.structure import DependencySelector\n",
    "from snorkel.learning.utils import MentionScorer\n",
    "from snorkel.models import Candidate, FeatureKey, candidate_subclass, Label\n",
    "from snorkel.utils import get_as_dict\n",
    "from utils.disease_gene_lf import LFS"
   ]
  },
  {
   "cell_type": "code",
   "execution_count": 4,
   "metadata": {
    "ExecuteTime": {
     "end_time": "2018-07-26T18:19:00.751919Z",
     "start_time": "2018-07-26T18:19:00.736155Z"
    }
   },
   "outputs": [],
   "source": [
    "edge_type = \"dg\""
   ]
  },
  {
   "cell_type": "code",
   "execution_count": 5,
   "metadata": {
    "ExecuteTime": {
     "end_time": "2018-07-26T18:19:00.773517Z",
     "start_time": "2018-07-26T18:19:00.753249Z"
    }
   },
   "outputs": [],
   "source": [
    "if edge_type == \"dg\":\n",
    "    DiseaseGene = candidate_subclass('DiseaseGene', ['Disease', 'Gene'])\n",
    "elif edge_type == \"gg\":\n",
    "    GeneGene = candidate_subclass('GeneGene', ['Gene1', 'Gene2'])\n",
    "elif edge_type == \"cg\":\n",
    "    CompoundGene = candidate_subclass('CompoundGene', ['Compound', 'Gene'])\n",
    "elif edge_type == \"cd\":\n",
    "    CompoundDisease = candidate_subclass('CompoundDisease', ['Compound', 'Disease'])\n",
    "else:\n",
    "    print(\"Please pick a valid edge type\")"
   ]
  },
  {
   "cell_type": "markdown",
   "metadata": {},
   "source": [
    "# Load preprocessed data "
   ]
  },
  {
   "cell_type": "markdown",
   "metadata": {},
   "source": [
    "This code will load the corresponding label matricies that were generated in the previous notebook ([Notebook 2](2.data-labeler.ipynb)). This notebook has three matricies which are broken down as follows:\n",
    "\n",
    "|Dataset|Size|Description|\n",
    "|:-----|-----|:-----|\n",
    "|L_train|50,000|Randomly sampled from our 2,700,000 training set|\n",
    "|L_dev|10,000|Randomly sampled from our 700,000 dev set. Only 200 have been hand labeled|\n",
    "|L_train_labeled|919|Have been hand labled from training set and is separate from (L_train).|"
   ]
  },
  {
   "cell_type": "code",
   "execution_count": 6,
   "metadata": {
    "ExecuteTime": {
     "end_time": "2018-07-26T18:19:00.985049Z",
     "start_time": "2018-07-26T18:19:00.774962Z"
    }
   },
   "outputs": [
    {
     "data": {
      "text/plain": [
       "[9951794,\n",
       " 904609,\n",
       " 5192262,\n",
       " 14552559,\n",
       " 16277239,\n",
       " 7513663,\n",
       " 26709637,\n",
       " 18498661,\n",
       " 31276326,\n",
       " 7508019]"
      ]
     },
     "execution_count": 6,
     "metadata": {},
     "output_type": "execute_result"
    }
   ],
   "source": [
    "train_candidate_ids = np.loadtxt('data/labeled_candidates.txt').astype(int).tolist()\n",
    "train_candidate_ids[0:10]"
   ]
  },
  {
   "cell_type": "code",
   "execution_count": 7,
   "metadata": {
    "ExecuteTime": {
     "end_time": "2018-07-26T18:19:02.537028Z",
     "start_time": "2018-07-26T18:19:00.986702Z"
    }
   },
   "outputs": [
    {
     "name": "stdout",
     "output_type": "stream",
     "text": [
      "Total Hand Labeled Dev Sentences: 210\n"
     ]
    }
   ],
   "source": [
    "dev_data_df = pd.read_excel(\"data/sentence-labels-dev-hand-labeled.xlsx\")\n",
    "dev_data_df = dev_data_df[dev_data_df.curated_dsh.notnull()]\n",
    "dev_data_df = dev_data_df.sort_values(\"candidate_id\")\n",
    "dev_candidate_ids = list(map(int, dev_data_df.candidate_id.values))\n",
    "print(\"Total Hand Labeled Dev Sentences: {}\".format(len(dev_candidate_ids)))"
   ]
  },
  {
   "cell_type": "code",
   "execution_count": 8,
   "metadata": {
    "ExecuteTime": {
     "end_time": "2018-07-26T18:19:05.220008Z",
     "start_time": "2018-07-26T18:19:02.538448Z"
    }
   },
   "outputs": [
    {
     "name": "stdout",
     "output_type": "stream",
     "text": [
      "CPU times: user 2.36 s, sys: 19.6 ms, total: 2.38 s\n",
      "Wall time: 2.66 s\n"
     ]
    }
   ],
   "source": [
    "%%time\n",
    "labeler = LabelAnnotator(lfs=[])\n",
    "\n",
    "# Only grab candidates that have labels\n",
    "cids = session.query(Candidate.id).filter(Candidate.id.in_(train_candidate_ids))\n",
    "L_train = labeler.load_matrix(session, cids_query=cids)\n",
    "\n",
    "cids = session.query(Candidate.id).filter(Candidate.id.in_(dev_candidate_ids))\n",
    "L_dev = labeler.load_matrix(session,cids_query=cids)"
   ]
  },
  {
   "cell_type": "code",
   "execution_count": 9,
   "metadata": {
    "ExecuteTime": {
     "end_time": "2018-07-26T18:19:05.950642Z",
     "start_time": "2018-07-26T18:19:05.221603Z"
    }
   },
   "outputs": [],
   "source": [
    "sql = '''\n",
    "SELECT candidate_id FROM gold_label\n",
    "INNER JOIN Candidate ON Candidate.id=gold_label.candidate_id\n",
    "WHERE Candidate.split=0;\n",
    "'''\n",
    "cids = session.query(Candidate.id).filter(Candidate.id.in_([x[0] for x in session.execute(sql)]))\n",
    "L_train_labeled = labeler.load_matrix(session, cids_query=cids)\n",
    "L_train_labeled_gold = load_gold_labels(session, annotator_name='danich1', cids_query=cids)"
   ]
  },
  {
   "cell_type": "code",
   "execution_count": 10,
   "metadata": {
    "ExecuteTime": {
     "end_time": "2018-07-26T18:19:05.971694Z",
     "start_time": "2018-07-26T18:19:05.951984Z"
    }
   },
   "outputs": [
    {
     "name": "stdout",
     "output_type": "stream",
     "text": [
      "Total Number of Hand Labeled Candidates: 919\n",
      "\n",
      "Distribution of Labels:\n",
      "-1    486\n",
      " 1    433\n",
      "Name: labels, dtype: int64\n"
     ]
    }
   ],
   "source": [
    "print(\"Total Number of Hand Labeled Candidates: {}\\n\".format(L_train_labeled_gold.shape[0]))\n",
    "print(\"Distribution of Labels:\")\n",
    "print(pd.DataFrame(L_train_labeled_gold.toarray(), columns=[\"labels\"])[\"labels\"].value_counts())"
   ]
  },
  {
   "cell_type": "code",
   "execution_count": 11,
   "metadata": {
    "ExecuteTime": {
     "end_time": "2018-07-26T18:19:05.991110Z",
     "start_time": "2018-07-26T18:19:05.974073Z"
    }
   },
   "outputs": [
    {
     "name": "stdout",
     "output_type": "stream",
     "text": [
      "Total Size of Train Data: 50000\n",
      "Total Number of Label Functions: 26\n"
     ]
    }
   ],
   "source": [
    "print(\"Total Size of Train Data: {}\".format(L_train.shape[0]))\n",
    "print(\"Total Number of Label Functions: {}\".format(L_train.shape[1]))"
   ]
  },
  {
   "cell_type": "markdown",
   "metadata": {},
   "source": [
    "# Train the Generative Model"
   ]
  },
  {
   "cell_type": "markdown",
   "metadata": {},
   "source": [
    "Here is the first step in classifying candidate sentences. We train a generative model to probabilistically label each training sentence. This means the model assigns a probability to each sentence indicating whether or not it mentions a given relatinoship (> 0.5 if yes, 0.5 < if no). The generative model snorkel uses is a [factor graph](http://deepdive.stanford.edu/assets/factor_graph.pdf) and further information on this model can be found in their paper [here](https://arxiv.org/abs/1711.10160).\n",
    "\n",
    "The following code below trains two different generative models. One model follows the assumption that each label function is independent of each other, while the other model assumes there are dependancies between each function (e.g. $L_{1}$ correlates with $L_{2}$)."
   ]
  },
  {
   "cell_type": "code",
   "execution_count": 12,
   "metadata": {
    "ExecuteTime": {
     "end_time": "2018-07-26T18:19:45.612991Z",
     "start_time": "2018-07-26T18:19:05.992717Z"
    }
   },
   "outputs": [
    {
     "name": "stdout",
     "output_type": "stream",
     "text": [
      "Inferred cardinality: 2\n",
      "CPU times: user 1min 10s, sys: 126 ms, total: 1min 10s\n",
      "Wall time: 39.6 s\n"
     ]
    }
   ],
   "source": [
    "%%time\n",
    "#Conditionally independent Generative Model\n",
    "indep_gen_model = GenerativeModel()\n",
    "indep_gen_model.train(\n",
    "    L_train,\n",
    "    epochs=10,\n",
    "    decay=0.95,\n",
    "    step_size=0.1 / L_train.shape[0],\n",
    "    reg_param=1e-6,\n",
    "    threads=50,\n",
    ")"
   ]
  },
  {
   "cell_type": "code",
   "execution_count": 13,
   "metadata": {
    "ExecuteTime": {
     "end_time": "2018-07-26T18:19:50.186341Z",
     "start_time": "2018-07-26T18:19:45.614367Z"
    }
   },
   "outputs": [
    {
     "data": {
      "text/plain": [
       "142"
      ]
     },
     "execution_count": 13,
     "metadata": {},
     "output_type": "execute_result"
    }
   ],
   "source": [
    "# select the dependancies from the label matrix\n",
    "ds = DependencySelector()\n",
    "deps = ds.select(L_train, threshold=0.1)\n",
    "len(deps)"
   ]
  },
  {
   "cell_type": "code",
   "execution_count": 14,
   "metadata": {
    "ExecuteTime": {
     "end_time": "2018-07-26T18:22:08.194712Z",
     "start_time": "2018-07-26T18:19:50.187845Z"
    },
    "scrolled": true
   },
   "outputs": [
    {
     "name": "stdout",
     "output_type": "stream",
     "text": [
      "Inferred cardinality: 2\n",
      "CPU times: user 3min 38s, sys: 574 ms, total: 3min 39s\n",
      "Wall time: 2min 17s\n"
     ]
    }
   ],
   "source": [
    "%%time\n",
    "# Model each label function and the underlying correlation structure\n",
    "gen_model = GenerativeModel(lf_propensity=True)\n",
    "gen_model.train(\n",
    "    L_train,\n",
    "    epochs=10,\n",
    "    decay=0.95,\n",
    "    step_size=0.1 / L_train.shape[0],\n",
    "    reg_param=1e-6,\n",
    "    threads=50,\n",
    "    deps=deps\n",
    ")"
   ]
  },
  {
   "cell_type": "markdown",
   "metadata": {},
   "source": [
    "# Generative Model Statistics"
   ]
  },
  {
   "cell_type": "markdown",
   "metadata": {},
   "source": [
    "Now that both models have been trained, the next step is to generate some statistics about each model. The two histograms below show a difference between both models' output. The conditionally independent model (CI) predicts more negative candidates compared to the dependancy aware model (DA)."
   ]
  },
  {
   "cell_type": "code",
   "execution_count": 15,
   "metadata": {
    "ExecuteTime": {
     "end_time": "2018-07-26T18:22:49.419565Z",
     "start_time": "2018-07-26T18:22:08.196344Z"
    },
    "scrolled": false
   },
   "outputs": [],
   "source": [
    "# Generate Statistics of Generative Model\n",
    "indep_learned_stats_df = indep_gen_model.learned_lf_stats()\n",
    "learned_stats_df = gen_model.learned_lf_stats()"
   ]
  },
  {
   "cell_type": "code",
   "execution_count": 16,
   "metadata": {
    "ExecuteTime": {
     "end_time": "2018-07-26T18:24:29.555012Z",
     "start_time": "2018-07-26T18:22:49.420899Z"
    }
   },
   "outputs": [
    {
     "name": "stdout",
     "output_type": "stream",
     "text": [
      "CPU times: user 1min 40s, sys: 723 µs, total: 1min 40s\n",
      "Wall time: 1min 40s\n"
     ]
    }
   ],
   "source": [
    "%%time \n",
    "train_marginals_indep = indep_gen_model.marginals(L_train)\n",
    "train_marginals = gen_model.marginals(L_train)"
   ]
  },
  {
   "cell_type": "code",
   "execution_count": 17,
   "metadata": {
    "ExecuteTime": {
     "end_time": "2018-07-26T18:24:29.719293Z",
     "start_time": "2018-07-26T18:24:29.556877Z"
    }
   },
   "outputs": [
    {
     "data": {
      "image/png": "[encoded data removed]",
      "text/plain": [
       "<matplotlib.figure.Figure at 0x7fedeefd14a8>"
      ]
     },
     "metadata": {},
     "output_type": "display_data"
    }
   ],
   "source": [
    "plt.hist(train_marginals_indep, bins=20)\n",
    "plt.title(\"CI Training Set Marginals\")\n",
    "plt.ylabel(\"Frequency\")\n",
    "plt.xlabel(\"Probability of Positive Class\")\n",
    "plt.show()"
   ]
  },
  {
   "cell_type": "code",
   "execution_count": 18,
   "metadata": {
    "ExecuteTime": {
     "end_time": "2018-07-26T18:24:29.871813Z",
     "start_time": "2018-07-26T18:24:29.721675Z"
    }
   },
   "outputs": [
    {
     "data": {
      "image/png": "[encoded data removed]",
      "text/plain": [
       "<matplotlib.figure.Figure at 0x7fede2739828>"
      ]
     },
     "metadata": {},
     "output_type": "display_data"
    }
   ],
   "source": [
    "plt.hist(train_marginals, bins=20)\n",
    "plt.title(\"DA Training Set Marginals\")\n",
    "plt.ylabel(\"Frequency\")\n",
    "plt.xlabel(\"Probability of Positive Class\")\n",
    "plt.show()"
   ]
  },
  {
   "cell_type": "markdown",
   "metadata": {},
   "source": [
    "# Training Set Statistics"
   ]
  },
  {
   "cell_type": "markdown",
   "metadata": {},
   "source": [
    "Taking a closer look into the training set predictions, we can see how each label function individually performed. The two dataframes below contain the follwoing information: number of candidate sentences a label function has labeled (coverage), number of candidate sentences a label function agreed with another label function (overlaps), number of candidates a label function disagreed with another label function (conflicts), and lastly, the accuracy each label function has after training the generative model (Learned Acc)."
   ]
  },
  {
   "cell_type": "code",
   "execution_count": 19,
   "metadata": {
    "ExecuteTime": {
     "end_time": "2018-07-26T18:24:32.532750Z",
     "start_time": "2018-07-26T18:24:29.877241Z"
    },
    "scrolled": true
   },
   "outputs": [
    {
     "data": {
      "text/html": [
       "<div>\n",
       "<style scoped>\n",
       "    .dataframe tbody tr th:only-of-type {\n",
       "        vertical-align: middle;\n",
       "    }\n",
       "\n",
       "    .dataframe tbody tr th {\n",
       "        vertical-align: top;\n",
       "    }\n",
       "\n",
       "    .dataframe thead th {\n",
       "        text-align: right;\n",
       "    }\n",
       "</style>\n",
       "<table border=\"1\" class=\"dataframe\">\n",
       "  <thead>\n",
       "    <tr style=\"text-align: right;\">\n",
       "      <th></th>\n",
       "      <th>j</th>\n",
       "      <th>Coverage</th>\n",
       "      <th>Overlaps</th>\n",
       "      <th>Conflicts</th>\n",
       "      <th>Learned Acc.</th>\n",
       "    </tr>\n",
       "  </thead>\n",
       "  <tbody>\n",
       "    <tr>\n",
       "      <th>LF_HETNET_DISEASES</th>\n",
       "      <td>0</td>\n",
       "      <td>0.40212</td>\n",
       "      <td>0.40212</td>\n",
       "      <td>0.35862</td>\n",
       "      <td>0.744529</td>\n",
       "    </tr>\n",
       "    <tr>\n",
       "      <th>LF_HETNET_DOAF</th>\n",
       "      <td>1</td>\n",
       "      <td>0.16650</td>\n",
       "      <td>0.16650</td>\n",
       "      <td>0.14346</td>\n",
       "      <td>0.711117</td>\n",
       "    </tr>\n",
       "  </tbody>\n",
       "</table>\n",
       "</div>"
      ],
      "text/plain": [
       "                    j  Coverage  Overlaps  Conflicts  Learned Acc.\n",
       "LF_HETNET_DISEASES  0   0.40212   0.40212    0.35862      0.744529\n",
       "LF_HETNET_DOAF      1   0.16650   0.16650    0.14346      0.711117"
      ]
     },
     "execution_count": 19,
     "metadata": {},
     "output_type": "execute_result"
    }
   ],
   "source": [
    "indep_results_df = L_train.lf_stats(session, est_accs=indep_learned_stats_df['Accuracy'])\n",
    "indep_results_df.head(2)"
   ]
  },
  {
   "cell_type": "code",
   "execution_count": 20,
   "metadata": {
    "ExecuteTime": {
     "end_time": "2018-07-26T18:24:35.218845Z",
     "start_time": "2018-07-26T18:24:32.534178Z"
    },
    "scrolled": false
   },
   "outputs": [
    {
     "data": {
      "text/html": [
       "<div>\n",
       "<style scoped>\n",
       "    .dataframe tbody tr th:only-of-type {\n",
       "        vertical-align: middle;\n",
       "    }\n",
       "\n",
       "    .dataframe tbody tr th {\n",
       "        vertical-align: top;\n",
       "    }\n",
       "\n",
       "    .dataframe thead th {\n",
       "        text-align: right;\n",
       "    }\n",
       "</style>\n",
       "<table border=\"1\" class=\"dataframe\">\n",
       "  <thead>\n",
       "    <tr style=\"text-align: right;\">\n",
       "      <th></th>\n",
       "      <th>j</th>\n",
       "      <th>Coverage</th>\n",
       "      <th>Overlaps</th>\n",
       "      <th>Conflicts</th>\n",
       "      <th>Learned Acc.</th>\n",
       "    </tr>\n",
       "  </thead>\n",
       "  <tbody>\n",
       "    <tr>\n",
       "      <th>LF_HETNET_DISEASES</th>\n",
       "      <td>0</td>\n",
       "      <td>0.40212</td>\n",
       "      <td>0.40212</td>\n",
       "      <td>0.35862</td>\n",
       "      <td>0.719847</td>\n",
       "    </tr>\n",
       "    <tr>\n",
       "      <th>LF_HETNET_DOAF</th>\n",
       "      <td>1</td>\n",
       "      <td>0.16650</td>\n",
       "      <td>0.16650</td>\n",
       "      <td>0.14346</td>\n",
       "      <td>0.599829</td>\n",
       "    </tr>\n",
       "    <tr>\n",
       "      <th>LF_HETNET_DisGeNET</th>\n",
       "      <td>2</td>\n",
       "      <td>0.35356</td>\n",
       "      <td>0.35356</td>\n",
       "      <td>0.31466</td>\n",
       "      <td>0.717825</td>\n",
       "    </tr>\n",
       "    <tr>\n",
       "      <th>LF_HETNET_GWAS</th>\n",
       "      <td>3</td>\n",
       "      <td>0.04684</td>\n",
       "      <td>0.04684</td>\n",
       "      <td>0.04074</td>\n",
       "      <td>0.487805</td>\n",
       "    </tr>\n",
       "    <tr>\n",
       "      <th>LF_HETNET_ABSENT</th>\n",
       "      <td>4</td>\n",
       "      <td>0.48574</td>\n",
       "      <td>0.48574</td>\n",
       "      <td>0.34674</td>\n",
       "      <td>0.768537</td>\n",
       "    </tr>\n",
       "    <tr>\n",
       "      <th>LF_CHECK_GENE_TAG</th>\n",
       "      <td>5</td>\n",
       "      <td>0.26978</td>\n",
       "      <td>0.26978</td>\n",
       "      <td>0.22844</td>\n",
       "      <td>0.615185</td>\n",
       "    </tr>\n",
       "    <tr>\n",
       "      <th>LF_CHECK_DISEASE_TAG</th>\n",
       "      <td>6</td>\n",
       "      <td>0.36632</td>\n",
       "      <td>0.36632</td>\n",
       "      <td>0.31014</td>\n",
       "      <td>0.682812</td>\n",
       "    </tr>\n",
       "    <tr>\n",
       "      <th>LF_IS_BIOMARKER</th>\n",
       "      <td>7</td>\n",
       "      <td>0.13680</td>\n",
       "      <td>0.13680</td>\n",
       "      <td>0.11854</td>\n",
       "      <td>0.532869</td>\n",
       "    </tr>\n",
       "    <tr>\n",
       "      <th>LF_ASSOCIATION</th>\n",
       "      <td>8</td>\n",
       "      <td>0.16612</td>\n",
       "      <td>0.16612</td>\n",
       "      <td>0.13528</td>\n",
       "      <td>0.609508</td>\n",
       "    </tr>\n",
       "    <tr>\n",
       "      <th>LF_WEAK_ASSOCIATION</th>\n",
       "      <td>9</td>\n",
       "      <td>0.00322</td>\n",
       "      <td>0.00322</td>\n",
       "      <td>0.00262</td>\n",
       "      <td>0.359375</td>\n",
       "    </tr>\n",
       "    <tr>\n",
       "      <th>LF_NO_ASSOCIATION</th>\n",
       "      <td>10</td>\n",
       "      <td>0.00884</td>\n",
       "      <td>0.00884</td>\n",
       "      <td>0.00792</td>\n",
       "      <td>0.500000</td>\n",
       "    </tr>\n",
       "    <tr>\n",
       "      <th>LF_METHOD_DESC</th>\n",
       "      <td>11</td>\n",
       "      <td>0.14838</td>\n",
       "      <td>0.14838</td>\n",
       "      <td>0.12708</td>\n",
       "      <td>0.568773</td>\n",
       "    </tr>\n",
       "    <tr>\n",
       "      <th>LF_TITLE</th>\n",
       "      <td>12</td>\n",
       "      <td>0.00276</td>\n",
       "      <td>0.00276</td>\n",
       "      <td>0.00254</td>\n",
       "      <td>0.458333</td>\n",
       "    </tr>\n",
       "    <tr>\n",
       "      <th>LF_POSITIVE_DIRECTION</th>\n",
       "      <td>13</td>\n",
       "      <td>0.10194</td>\n",
       "      <td>0.10194</td>\n",
       "      <td>0.08560</td>\n",
       "      <td>0.557692</td>\n",
       "    </tr>\n",
       "    <tr>\n",
       "      <th>LF_NEGATIVE_DIRECTION</th>\n",
       "      <td>14</td>\n",
       "      <td>0.06066</td>\n",
       "      <td>0.06066</td>\n",
       "      <td>0.05160</td>\n",
       "      <td>0.483290</td>\n",
       "    </tr>\n",
       "    <tr>\n",
       "      <th>LF_DIAGNOSIS</th>\n",
       "      <td>15</td>\n",
       "      <td>0.01624</td>\n",
       "      <td>0.01624</td>\n",
       "      <td>0.01432</td>\n",
       "      <td>0.305882</td>\n",
       "    </tr>\n",
       "    <tr>\n",
       "      <th>LF_RISK</th>\n",
       "      <td>16</td>\n",
       "      <td>0.02328</td>\n",
       "      <td>0.02328</td>\n",
       "      <td>0.01956</td>\n",
       "      <td>0.489362</td>\n",
       "    </tr>\n",
       "    <tr>\n",
       "      <th>LF_PATIENT_WITH</th>\n",
       "      <td>17</td>\n",
       "      <td>0.05422</td>\n",
       "      <td>0.05422</td>\n",
       "      <td>0.05112</td>\n",
       "      <td>0.426160</td>\n",
       "    </tr>\n",
       "    <tr>\n",
       "      <th>LF_PURPOSE</th>\n",
       "      <td>18</td>\n",
       "      <td>0.00660</td>\n",
       "      <td>0.00660</td>\n",
       "      <td>0.00584</td>\n",
       "      <td>0.442857</td>\n",
       "    </tr>\n",
       "    <tr>\n",
       "      <th>LF_CONCLUSION_TITLE</th>\n",
       "      <td>19</td>\n",
       "      <td>0.04052</td>\n",
       "      <td>0.04052</td>\n",
       "      <td>0.03678</td>\n",
       "      <td>0.418301</td>\n",
       "    </tr>\n",
       "    <tr>\n",
       "      <th>LF_NO_CONCLUSION</th>\n",
       "      <td>20</td>\n",
       "      <td>0.68108</td>\n",
       "      <td>0.68108</td>\n",
       "      <td>0.54242</td>\n",
       "      <td>0.769241</td>\n",
       "    </tr>\n",
       "    <tr>\n",
       "      <th>LF_CONCLUSION</th>\n",
       "      <td>21</td>\n",
       "      <td>0.32462</td>\n",
       "      <td>0.32462</td>\n",
       "      <td>0.26582</td>\n",
       "      <td>0.695816</td>\n",
       "    </tr>\n",
       "    <tr>\n",
       "      <th>LF_DG_DISTANCE_SHORT</th>\n",
       "      <td>22</td>\n",
       "      <td>0.10694</td>\n",
       "      <td>0.10694</td>\n",
       "      <td>0.07106</td>\n",
       "      <td>0.559671</td>\n",
       "    </tr>\n",
       "    <tr>\n",
       "      <th>LF_DG_DISTANCE_LONG</th>\n",
       "      <td>23</td>\n",
       "      <td>0.11030</td>\n",
       "      <td>0.11030</td>\n",
       "      <td>0.08320</td>\n",
       "      <td>0.528875</td>\n",
       "    </tr>\n",
       "    <tr>\n",
       "      <th>LF_DG_ALLOWED_DISTANCE</th>\n",
       "      <td>24</td>\n",
       "      <td>0.50596</td>\n",
       "      <td>0.50596</td>\n",
       "      <td>0.46950</td>\n",
       "      <td>0.686544</td>\n",
       "    </tr>\n",
       "    <tr>\n",
       "      <th>LF_NO_VERB</th>\n",
       "      <td>25</td>\n",
       "      <td>0.06228</td>\n",
       "      <td>0.06228</td>\n",
       "      <td>0.05166</td>\n",
       "      <td>0.566038</td>\n",
       "    </tr>\n",
       "  </tbody>\n",
       "</table>\n",
       "</div>"
      ],
      "text/plain": [
       "                         j  Coverage  Overlaps  Conflicts  Learned Acc.\n",
       "LF_HETNET_DISEASES       0   0.40212   0.40212    0.35862      0.719847\n",
       "LF_HETNET_DOAF           1   0.16650   0.16650    0.14346      0.599829\n",
       "LF_HETNET_DisGeNET       2   0.35356   0.35356    0.31466      0.717825\n",
       "LF_HETNET_GWAS           3   0.04684   0.04684    0.04074      0.487805\n",
       "LF_HETNET_ABSENT         4   0.48574   0.48574    0.34674      0.768537\n",
       "LF_CHECK_GENE_TAG        5   0.26978   0.26978    0.22844      0.615185\n",
       "LF_CHECK_DISEASE_TAG     6   0.36632   0.36632    0.31014      0.682812\n",
       "LF_IS_BIOMARKER          7   0.13680   0.13680    0.11854      0.532869\n",
       "LF_ASSOCIATION           8   0.16612   0.16612    0.13528      0.609508\n",
       "LF_WEAK_ASSOCIATION      9   0.00322   0.00322    0.00262      0.359375\n",
       "LF_NO_ASSOCIATION       10   0.00884   0.00884    0.00792      0.500000\n",
       "LF_METHOD_DESC          11   0.14838   0.14838    0.12708      0.568773\n",
       "LF_TITLE                12   0.00276   0.00276    0.00254      0.458333\n",
       "LF_POSITIVE_DIRECTION   13   0.10194   0.10194    0.08560      0.557692\n",
       "LF_NEGATIVE_DIRECTION   14   0.06066   0.06066    0.05160      0.483290\n",
       "LF_DIAGNOSIS            15   0.01624   0.01624    0.01432      0.305882\n",
       "LF_RISK                 16   0.02328   0.02328    0.01956      0.489362\n",
       "LF_PATIENT_WITH         17   0.05422   0.05422    0.05112      0.426160\n",
       "LF_PURPOSE              18   0.00660   0.00660    0.00584      0.442857\n",
       "LF_CONCLUSION_TITLE     19   0.04052   0.04052    0.03678      0.418301\n",
       "LF_NO_CONCLUSION        20   0.68108   0.68108    0.54242      0.769241\n",
       "LF_CONCLUSION           21   0.32462   0.32462    0.26582      0.695816\n",
       "LF_DG_DISTANCE_SHORT    22   0.10694   0.10694    0.07106      0.559671\n",
       "LF_DG_DISTANCE_LONG     23   0.11030   0.11030    0.08320      0.528875\n",
       "LF_DG_ALLOWED_DISTANCE  24   0.50596   0.50596    0.46950      0.686544\n",
       "LF_NO_VERB              25   0.06228   0.06228    0.05166      0.566038"
      ]
     },
     "execution_count": 20,
     "metadata": {},
     "output_type": "execute_result"
    }
   ],
   "source": [
    "results_df = L_train.lf_stats(session, est_accs=learned_stats_df['Accuracy'])\n",
    "results_df"
   ]
  },
  {
   "cell_type": "markdown",
   "metadata": {},
   "source": [
    "The following bar charts below depict the weights the generative model assigns to each label function. The conditional independent model relies heavily on LF_HETNET_ABSENT and LF_NO_CONCLUSION, while the dependancy aware model relies more on the database-backed label functions. Ultimately, the DA model emphasizes more postive labels compared to the CI model. "
   ]
  },
  {
   "cell_type": "code",
   "execution_count": 21,
   "metadata": {
    "ExecuteTime": {
     "end_time": "2018-07-26T18:24:35.245053Z",
     "start_time": "2018-07-26T18:24:35.220521Z"
    }
   },
   "outputs": [
    {
     "data": {
      "text/html": [
       "<div>\n",
       "<style scoped>\n",
       "    .dataframe tbody tr th:only-of-type {\n",
       "        vertical-align: middle;\n",
       "    }\n",
       "\n",
       "    .dataframe tbody tr th {\n",
       "        vertical-align: top;\n",
       "    }\n",
       "\n",
       "    .dataframe thead th {\n",
       "        text-align: right;\n",
       "    }\n",
       "</style>\n",
       "<table border=\"1\" class=\"dataframe\">\n",
       "  <thead>\n",
       "    <tr style=\"text-align: right;\">\n",
       "      <th></th>\n",
       "      <th>index</th>\n",
       "      <th>Learned Acc.</th>\n",
       "      <th>model</th>\n",
       "    </tr>\n",
       "  </thead>\n",
       "  <tbody>\n",
       "    <tr>\n",
       "      <th>0</th>\n",
       "      <td>LF_HETNET_DISEASES</td>\n",
       "      <td>0.719847</td>\n",
       "      <td>DA</td>\n",
       "    </tr>\n",
       "    <tr>\n",
       "      <th>1</th>\n",
       "      <td>LF_HETNET_DOAF</td>\n",
       "      <td>0.599829</td>\n",
       "      <td>DA</td>\n",
       "    </tr>\n",
       "  </tbody>\n",
       "</table>\n",
       "</div>"
      ],
      "text/plain": [
       "                index  Learned Acc. model\n",
       "0  LF_HETNET_DISEASES      0.719847    DA\n",
       "1      LF_HETNET_DOAF      0.599829    DA"
      ]
     },
     "execution_count": 21,
     "metadata": {},
     "output_type": "execute_result"
    }
   ],
   "source": [
    "test_df = pd.concat([\n",
    "    results_df[[\"Learned Acc.\"]].assign(model=\"DA\"),\n",
    "    indep_results_df[[\"Learned Acc.\"]].assign(model=\"CI\"), \n",
    "])\n",
    "test_df = test_df.reset_index()\n",
    "test_df.head(2)"
   ]
  },
  {
   "cell_type": "code",
   "execution_count": 22,
   "metadata": {
    "ExecuteTime": {
     "end_time": "2018-07-26T18:24:35.714494Z",
     "start_time": "2018-07-26T18:24:35.246796Z"
    },
    "scrolled": false
   },
   "outputs": [
    {
     "data": {
      "text/plain": [
       "<matplotlib.axes._subplots.AxesSubplot at 0x7fede252aba8>"
      ]
     },
     "execution_count": 22,
     "metadata": {},
     "output_type": "execute_result"
    },
    {
     "data": {
      "image/png": "[encoded data removed]",
      "text/plain": [
       "<matplotlib.figure.Figure at 0x7fedeefd1be0>"
      ]
     },
     "metadata": {},
     "output_type": "display_data"
    }
   ],
   "source": [
    "fig, ax = plt.subplots(figsize=(9,7))\n",
    "sns.barplot(ax=ax,y=\"index\", x=\"Learned Acc.\", hue=\"model\", data=test_df, palette=sns.color_palette(\"muted\"))"
   ]
  },
  {
   "cell_type": "markdown",
   "metadata": {},
   "source": [
    "## F1 Score of Dev Set"
   ]
  },
  {
   "cell_type": "markdown",
   "metadata": {},
   "source": [
    "Moving from the training set, we now can look at how well these models can predict our small dev set. Looking at the chart below, the conditionally independent model doesn't perform well compared to the dependency aware model. In terms of f1 score there is about a .2 difference, which provides evidence towards the dependency model performing better."
   ]
  },
  {
   "cell_type": "code",
   "execution_count": 23,
   "metadata": {
    "ExecuteTime": {
     "end_time": "2018-07-26T18:24:36.195593Z",
     "start_time": "2018-07-26T18:24:35.715925Z"
    }
   },
   "outputs": [
    {
     "name": "stdout",
     "output_type": "stream",
     "text": [
      "========================================\n",
      "Scores (Un-adjusted)\n",
      "========================================\n",
      "Pos. class accuracy: 0.605\n",
      "Neg. class accuracy: 0.566\n",
      "Precision            0.467\n",
      "Recall               0.605\n",
      "F1                   0.527\n",
      "----------------------------------------\n",
      "TP: 49 | FP: 56 | TN: 73 | FN: 32\n",
      "========================================\n",
      "\n"
     ]
    }
   ],
   "source": [
    "_ = indep_gen_model.error_analysis(session, L_dev, dev_data_df.curated_dsh.apply(lambda x: -1 if x==0 else x).values)"
   ]
  },
  {
   "cell_type": "code",
   "execution_count": 24,
   "metadata": {
    "ExecuteTime": {
     "end_time": "2018-07-26T18:24:36.577316Z",
     "start_time": "2018-07-26T18:24:36.197529Z"
    }
   },
   "outputs": [
    {
     "name": "stdout",
     "output_type": "stream",
     "text": [
      "========================================\n",
      "Scores (Un-adjusted)\n",
      "========================================\n",
      "Pos. class accuracy: 0.506\n",
      "Neg. class accuracy: 0.636\n",
      "Precision            0.466\n",
      "Recall               0.506\n",
      "F1                   0.485\n",
      "----------------------------------------\n",
      "TP: 41 | FP: 47 | TN: 82 | FN: 40\n",
      "========================================\n",
      "\n"
     ]
    }
   ],
   "source": [
    "tp, fp, tn, fn = gen_model.error_analysis(session, L_dev, dev_data_df.curated_dsh.apply(lambda x: -1 if x==0 else x).values)"
   ]
  },
  {
   "cell_type": "code",
   "execution_count": 25,
   "metadata": {
    "ExecuteTime": {
     "end_time": "2018-07-26T18:24:37.036825Z",
     "start_time": "2018-07-26T18:24:36.579005Z"
    }
   },
   "outputs": [],
   "source": [
    "L_dev_ci_marginals = indep_gen_model.marginals(L_dev)\n",
    "L_dev_da_marginals = gen_model.marginals(L_dev)"
   ]
  },
  {
   "cell_type": "code",
   "execution_count": 26,
   "metadata": {
    "ExecuteTime": {
     "end_time": "2018-07-26T18:24:37.055903Z",
     "start_time": "2018-07-26T18:24:37.038498Z"
    }
   },
   "outputs": [],
   "source": [
    "dev_data_labels = dev_data_df.curated_dsh.replace({0:-1})"
   ]
  },
  {
   "cell_type": "code",
   "execution_count": 27,
   "metadata": {
    "ExecuteTime": {
     "end_time": "2018-07-26T18:24:37.228033Z",
     "start_time": "2018-07-26T18:24:37.057334Z"
    }
   },
   "outputs": [
    {
     "data": {
      "text/plain": [
       "<matplotlib.legend.Legend at 0x7fede2649f60>"
      ]
     },
     "execution_count": 27,
     "metadata": {},
     "output_type": "execute_result"
    },
    {
     "data": {
      "image/png": "[encoded data removed]",
      "text/plain": [
       "<matplotlib.figure.Figure at 0x7fede2649da0>"
      ]
     },
     "metadata": {},
     "output_type": "display_data"
    }
   ],
   "source": [
    "positive_class = dev_data_df.curated_dsh.values.sum()/dev_data_df.shape[0]\n",
    "plt.plot([0,1], [positive_class, positive_class], color='grey', \n",
    "         linestyle='--', label='Baseline (AUC = {:0.2f})'.format(positive_class))\n",
    "\n",
    "for marginal, model_label in zip([L_dev_ci_marginals, L_dev_da_marginals], [\"CI Gen Model (AUC {:.2f})\", \"DA Gen Model (AUC {:.2f})\"]):\n",
    "    precision, recall, threshold = precision_recall_curve(dev_data_labels, marginal)\n",
    "    area = auc(recall, precision)\n",
    "    plt.plot(recall, precision, label=model_label.format(area))\n",
    "plt.title(\"Precision Recall Curve of Generative Models\")\n",
    "plt.xlabel(\"Recall\")\n",
    "plt.ylabel(\"Precision\")\n",
    "plt.legend()"
   ]
  },
  {
   "cell_type": "code",
   "execution_count": 28,
   "metadata": {
    "ExecuteTime": {
     "end_time": "2018-07-26T18:24:37.402597Z",
     "start_time": "2018-07-26T18:24:37.229384Z"
    }
   },
   "outputs": [
    {
     "data": {
      "text/plain": [
       "<matplotlib.legend.Legend at 0x7fedeefbc080>"
      ]
     },
     "execution_count": 28,
     "metadata": {},
     "output_type": "execute_result"
    },
    {
     "data": {
      "image/png": "[encoded data removed]",
      "text/plain": [
       "<matplotlib.figure.Figure at 0x7fedeefbca58>"
      ]
     },
     "metadata": {},
     "output_type": "display_data"
    }
   ],
   "source": [
    "plt.plot([0,1], [0,1], linestyle='--', color='grey')\n",
    "for marginal, model_label in zip([L_dev_ci_marginals, L_dev_da_marginals], [\"CI Gen Model (AUC {:.2f})\", \"DA Gen Model (AUC {:.2f})\"]):\n",
    "    fpr, tpr, threshold = roc_curve(dev_data_labels, marginal)\n",
    "    area = auc(fpr, tpr)\n",
    "    plt.plot(fpr, tpr, label=model_label.format(area))\n",
    "plt.title(\"ROC Curve of Generative Models\")\n",
    "plt.xlabel(\"False Positive Rate\")\n",
    "plt.ylabel(\"True Positive Rate\")\n",
    "plt.legend()"
   ]
  },
  {
   "cell_type": "code",
   "execution_count": 29,
   "metadata": {
    "ExecuteTime": {
     "end_time": "2018-07-26T18:24:37.490517Z",
     "start_time": "2018-07-26T18:24:37.403943Z"
    }
   },
   "outputs": [
    {
     "name": "stderr",
     "output_type": "stream",
     "text": [
      "/home/danich1/anaconda2/envs/snorkeling/lib/python3.6/site-packages/snorkel/annotations.py:137: RuntimeWarning: invalid value encountered in true_divide\n",
      "  ac = (tp+tn) / (tp+tn+fp+fn)\n"
     ]
    },
    {
     "data": {
      "text/html": [
       "<div>\n",
       "<style scoped>\n",
       "    .dataframe tbody tr th:only-of-type {\n",
       "        vertical-align: middle;\n",
       "    }\n",
       "\n",
       "    .dataframe tbody tr th {\n",
       "        vertical-align: top;\n",
       "    }\n",
       "\n",
       "    .dataframe thead th {\n",
       "        text-align: right;\n",
       "    }\n",
       "</style>\n",
       "<table border=\"1\" class=\"dataframe\">\n",
       "  <thead>\n",
       "    <tr style=\"text-align: right;\">\n",
       "      <th></th>\n",
       "      <th>j</th>\n",
       "      <th>Coverage</th>\n",
       "      <th>Overlaps</th>\n",
       "      <th>Conflicts</th>\n",
       "      <th>TP</th>\n",
       "      <th>FP</th>\n",
       "      <th>FN</th>\n",
       "      <th>TN</th>\n",
       "      <th>Empirical Acc.</th>\n",
       "      <th>Learned Acc.</th>\n",
       "    </tr>\n",
       "  </thead>\n",
       "  <tbody>\n",
       "    <tr>\n",
       "      <th>LF_HETNET_DISEASES</th>\n",
       "      <td>0</td>\n",
       "      <td>0.428571</td>\n",
       "      <td>0.428571</td>\n",
       "      <td>0.376190</td>\n",
       "      <td>34</td>\n",
       "      <td>56</td>\n",
       "      <td>0</td>\n",
       "      <td>0</td>\n",
       "      <td>0.377778</td>\n",
       "      <td>0.719847</td>\n",
       "    </tr>\n",
       "    <tr>\n",
       "      <th>LF_HETNET_DOAF</th>\n",
       "      <td>1</td>\n",
       "      <td>0.180952</td>\n",
       "      <td>0.180952</td>\n",
       "      <td>0.166667</td>\n",
       "      <td>17</td>\n",
       "      <td>21</td>\n",
       "      <td>0</td>\n",
       "      <td>0</td>\n",
       "      <td>0.447368</td>\n",
       "      <td>0.599829</td>\n",
       "    </tr>\n",
       "    <tr>\n",
       "      <th>LF_HETNET_DisGeNET</th>\n",
       "      <td>2</td>\n",
       "      <td>0.414286</td>\n",
       "      <td>0.414286</td>\n",
       "      <td>0.376190</td>\n",
       "      <td>38</td>\n",
       "      <td>49</td>\n",
       "      <td>0</td>\n",
       "      <td>0</td>\n",
       "      <td>0.436782</td>\n",
       "      <td>0.717825</td>\n",
       "    </tr>\n",
       "    <tr>\n",
       "      <th>LF_HETNET_GWAS</th>\n",
       "      <td>3</td>\n",
       "      <td>0.042857</td>\n",
       "      <td>0.042857</td>\n",
       "      <td>0.042857</td>\n",
       "      <td>4</td>\n",
       "      <td>5</td>\n",
       "      <td>0</td>\n",
       "      <td>0</td>\n",
       "      <td>0.444444</td>\n",
       "      <td>0.487805</td>\n",
       "    </tr>\n",
       "    <tr>\n",
       "      <th>LF_HETNET_ABSENT</th>\n",
       "      <td>4</td>\n",
       "      <td>0.438095</td>\n",
       "      <td>0.438095</td>\n",
       "      <td>0.304762</td>\n",
       "      <td>0</td>\n",
       "      <td>0</td>\n",
       "      <td>32</td>\n",
       "      <td>60</td>\n",
       "      <td>0.652174</td>\n",
       "      <td>0.768537</td>\n",
       "    </tr>\n",
       "    <tr>\n",
       "      <th>LF_CHECK_GENE_TAG</th>\n",
       "      <td>5</td>\n",
       "      <td>0.304762</td>\n",
       "      <td>0.304762</td>\n",
       "      <td>0.276190</td>\n",
       "      <td>0</td>\n",
       "      <td>0</td>\n",
       "      <td>17</td>\n",
       "      <td>47</td>\n",
       "      <td>0.734375</td>\n",
       "      <td>0.615185</td>\n",
       "    </tr>\n",
       "    <tr>\n",
       "      <th>LF_CHECK_DISEASE_TAG</th>\n",
       "      <td>6</td>\n",
       "      <td>0.309524</td>\n",
       "      <td>0.309524</td>\n",
       "      <td>0.242857</td>\n",
       "      <td>0</td>\n",
       "      <td>0</td>\n",
       "      <td>22</td>\n",
       "      <td>43</td>\n",
       "      <td>0.661538</td>\n",
       "      <td>0.682812</td>\n",
       "    </tr>\n",
       "    <tr>\n",
       "      <th>LF_IS_BIOMARKER</th>\n",
       "      <td>7</td>\n",
       "      <td>0.128571</td>\n",
       "      <td>0.128571</td>\n",
       "      <td>0.100000</td>\n",
       "      <td>12</td>\n",
       "      <td>15</td>\n",
       "      <td>0</td>\n",
       "      <td>0</td>\n",
       "      <td>0.444444</td>\n",
       "      <td>0.532869</td>\n",
       "    </tr>\n",
       "    <tr>\n",
       "      <th>LF_ASSOCIATION</th>\n",
       "      <td>8</td>\n",
       "      <td>0.142857</td>\n",
       "      <td>0.142857</td>\n",
       "      <td>0.109524</td>\n",
       "      <td>19</td>\n",
       "      <td>11</td>\n",
       "      <td>0</td>\n",
       "      <td>0</td>\n",
       "      <td>0.633333</td>\n",
       "      <td>0.609508</td>\n",
       "    </tr>\n",
       "    <tr>\n",
       "      <th>LF_WEAK_ASSOCIATION</th>\n",
       "      <td>9</td>\n",
       "      <td>0.004762</td>\n",
       "      <td>0.004762</td>\n",
       "      <td>0.004762</td>\n",
       "      <td>0</td>\n",
       "      <td>0</td>\n",
       "      <td>1</td>\n",
       "      <td>0</td>\n",
       "      <td>0.000000</td>\n",
       "      <td>0.359375</td>\n",
       "    </tr>\n",
       "    <tr>\n",
       "      <th>LF_NO_ASSOCIATION</th>\n",
       "      <td>10</td>\n",
       "      <td>0.009524</td>\n",
       "      <td>0.009524</td>\n",
       "      <td>0.009524</td>\n",
       "      <td>0</td>\n",
       "      <td>0</td>\n",
       "      <td>1</td>\n",
       "      <td>1</td>\n",
       "      <td>0.500000</td>\n",
       "      <td>0.500000</td>\n",
       "    </tr>\n",
       "    <tr>\n",
       "      <th>LF_METHOD_DESC</th>\n",
       "      <td>11</td>\n",
       "      <td>0.166667</td>\n",
       "      <td>0.166667</td>\n",
       "      <td>0.142857</td>\n",
       "      <td>0</td>\n",
       "      <td>0</td>\n",
       "      <td>6</td>\n",
       "      <td>29</td>\n",
       "      <td>0.828571</td>\n",
       "      <td>0.568773</td>\n",
       "    </tr>\n",
       "    <tr>\n",
       "      <th>LF_TITLE</th>\n",
       "      <td>12</td>\n",
       "      <td>0.000000</td>\n",
       "      <td>0.000000</td>\n",
       "      <td>0.000000</td>\n",
       "      <td>0</td>\n",
       "      <td>0</td>\n",
       "      <td>0</td>\n",
       "      <td>0</td>\n",
       "      <td>NaN</td>\n",
       "      <td>0.458333</td>\n",
       "    </tr>\n",
       "    <tr>\n",
       "      <th>LF_POSITIVE_DIRECTION</th>\n",
       "      <td>13</td>\n",
       "      <td>0.071429</td>\n",
       "      <td>0.071429</td>\n",
       "      <td>0.052381</td>\n",
       "      <td>6</td>\n",
       "      <td>9</td>\n",
       "      <td>0</td>\n",
       "      <td>0</td>\n",
       "      <td>0.400000</td>\n",
       "      <td>0.557692</td>\n",
       "    </tr>\n",
       "    <tr>\n",
       "      <th>LF_NEGATIVE_DIRECTION</th>\n",
       "      <td>14</td>\n",
       "      <td>0.057143</td>\n",
       "      <td>0.057143</td>\n",
       "      <td>0.047619</td>\n",
       "      <td>5</td>\n",
       "      <td>7</td>\n",
       "      <td>0</td>\n",
       "      <td>0</td>\n",
       "      <td>0.416667</td>\n",
       "      <td>0.483290</td>\n",
       "    </tr>\n",
       "    <tr>\n",
       "      <th>LF_DIAGNOSIS</th>\n",
       "      <td>15</td>\n",
       "      <td>0.019048</td>\n",
       "      <td>0.019048</td>\n",
       "      <td>0.019048</td>\n",
       "      <td>2</td>\n",
       "      <td>2</td>\n",
       "      <td>0</td>\n",
       "      <td>0</td>\n",
       "      <td>0.500000</td>\n",
       "      <td>0.305882</td>\n",
       "    </tr>\n",
       "    <tr>\n",
       "      <th>LF_RISK</th>\n",
       "      <td>16</td>\n",
       "      <td>0.004762</td>\n",
       "      <td>0.004762</td>\n",
       "      <td>0.004762</td>\n",
       "      <td>0</td>\n",
       "      <td>1</td>\n",
       "      <td>0</td>\n",
       "      <td>0</td>\n",
       "      <td>0.000000</td>\n",
       "      <td>0.489362</td>\n",
       "    </tr>\n",
       "    <tr>\n",
       "      <th>LF_PATIENT_WITH</th>\n",
       "      <td>17</td>\n",
       "      <td>0.038095</td>\n",
       "      <td>0.038095</td>\n",
       "      <td>0.038095</td>\n",
       "      <td>1</td>\n",
       "      <td>7</td>\n",
       "      <td>0</td>\n",
       "      <td>0</td>\n",
       "      <td>0.125000</td>\n",
       "      <td>0.426160</td>\n",
       "    </tr>\n",
       "    <tr>\n",
       "      <th>LF_PURPOSE</th>\n",
       "      <td>18</td>\n",
       "      <td>0.000000</td>\n",
       "      <td>0.000000</td>\n",
       "      <td>0.000000</td>\n",
       "      <td>0</td>\n",
       "      <td>0</td>\n",
       "      <td>0</td>\n",
       "      <td>0</td>\n",
       "      <td>NaN</td>\n",
       "      <td>0.442857</td>\n",
       "    </tr>\n",
       "    <tr>\n",
       "      <th>LF_CONCLUSION_TITLE</th>\n",
       "      <td>19</td>\n",
       "      <td>0.047619</td>\n",
       "      <td>0.047619</td>\n",
       "      <td>0.042857</td>\n",
       "      <td>9</td>\n",
       "      <td>1</td>\n",
       "      <td>0</td>\n",
       "      <td>0</td>\n",
       "      <td>0.900000</td>\n",
       "      <td>0.418301</td>\n",
       "    </tr>\n",
       "    <tr>\n",
       "      <th>LF_NO_CONCLUSION</th>\n",
       "      <td>20</td>\n",
       "      <td>0.738095</td>\n",
       "      <td>0.738095</td>\n",
       "      <td>0.604762</td>\n",
       "      <td>0</td>\n",
       "      <td>0</td>\n",
       "      <td>51</td>\n",
       "      <td>104</td>\n",
       "      <td>0.670968</td>\n",
       "      <td>0.769241</td>\n",
       "    </tr>\n",
       "    <tr>\n",
       "      <th>LF_CONCLUSION</th>\n",
       "      <td>21</td>\n",
       "      <td>0.266667</td>\n",
       "      <td>0.266667</td>\n",
       "      <td>0.209524</td>\n",
       "      <td>28</td>\n",
       "      <td>25</td>\n",
       "      <td>2</td>\n",
       "      <td>1</td>\n",
       "      <td>0.517857</td>\n",
       "      <td>0.695816</td>\n",
       "    </tr>\n",
       "    <tr>\n",
       "      <th>LF_DG_DISTANCE_SHORT</th>\n",
       "      <td>22</td>\n",
       "      <td>0.133333</td>\n",
       "      <td>0.133333</td>\n",
       "      <td>0.085714</td>\n",
       "      <td>0</td>\n",
       "      <td>0</td>\n",
       "      <td>7</td>\n",
       "      <td>21</td>\n",
       "      <td>0.750000</td>\n",
       "      <td>0.559671</td>\n",
       "    </tr>\n",
       "    <tr>\n",
       "      <th>LF_DG_DISTANCE_LONG</th>\n",
       "      <td>23</td>\n",
       "      <td>0.100000</td>\n",
       "      <td>0.100000</td>\n",
       "      <td>0.076190</td>\n",
       "      <td>0</td>\n",
       "      <td>0</td>\n",
       "      <td>6</td>\n",
       "      <td>15</td>\n",
       "      <td>0.714286</td>\n",
       "      <td>0.528875</td>\n",
       "    </tr>\n",
       "    <tr>\n",
       "      <th>LF_DG_ALLOWED_DISTANCE</th>\n",
       "      <td>24</td>\n",
       "      <td>0.480952</td>\n",
       "      <td>0.480952</td>\n",
       "      <td>0.438095</td>\n",
       "      <td>42</td>\n",
       "      <td>59</td>\n",
       "      <td>0</td>\n",
       "      <td>0</td>\n",
       "      <td>0.415842</td>\n",
       "      <td>0.686544</td>\n",
       "    </tr>\n",
       "    <tr>\n",
       "      <th>LF_NO_VERB</th>\n",
       "      <td>25</td>\n",
       "      <td>0.085714</td>\n",
       "      <td>0.085714</td>\n",
       "      <td>0.066667</td>\n",
       "      <td>0</td>\n",
       "      <td>0</td>\n",
       "      <td>1</td>\n",
       "      <td>17</td>\n",
       "      <td>0.944444</td>\n",
       "      <td>0.566038</td>\n",
       "    </tr>\n",
       "  </tbody>\n",
       "</table>\n",
       "</div>"
      ],
      "text/plain": [
       "                         j  Coverage  Overlaps  Conflicts  TP  FP  FN   TN  \\\n",
       "LF_HETNET_DISEASES       0  0.428571  0.428571   0.376190  34  56   0    0   \n",
       "LF_HETNET_DOAF           1  0.180952  0.180952   0.166667  17  21   0    0   \n",
       "LF_HETNET_DisGeNET       2  0.414286  0.414286   0.376190  38  49   0    0   \n",
       "LF_HETNET_GWAS           3  0.042857  0.042857   0.042857   4   5   0    0   \n",
       "LF_HETNET_ABSENT         4  0.438095  0.438095   0.304762   0   0  32   60   \n",
       "LF_CHECK_GENE_TAG        5  0.304762  0.304762   0.276190   0   0  17   47   \n",
       "LF_CHECK_DISEASE_TAG     6  0.309524  0.309524   0.242857   0   0  22   43   \n",
       "LF_IS_BIOMARKER          7  0.128571  0.128571   0.100000  12  15   0    0   \n",
       "LF_ASSOCIATION           8  0.142857  0.142857   0.109524  19  11   0    0   \n",
       "LF_WEAK_ASSOCIATION      9  0.004762  0.004762   0.004762   0   0   1    0   \n",
       "LF_NO_ASSOCIATION       10  0.009524  0.009524   0.009524   0   0   1    1   \n",
       "LF_METHOD_DESC          11  0.166667  0.166667   0.142857   0   0   6   29   \n",
       "LF_TITLE                12  0.000000  0.000000   0.000000   0   0   0    0   \n",
       "LF_POSITIVE_DIRECTION   13  0.071429  0.071429   0.052381   6   9   0    0   \n",
       "LF_NEGATIVE_DIRECTION   14  0.057143  0.057143   0.047619   5   7   0    0   \n",
       "LF_DIAGNOSIS            15  0.019048  0.019048   0.019048   2   2   0    0   \n",
       "LF_RISK                 16  0.004762  0.004762   0.004762   0   1   0    0   \n",
       "LF_PATIENT_WITH         17  0.038095  0.038095   0.038095   1   7   0    0   \n",
       "LF_PURPOSE              18  0.000000  0.000000   0.000000   0   0   0    0   \n",
       "LF_CONCLUSION_TITLE     19  0.047619  0.047619   0.042857   9   1   0    0   \n",
       "LF_NO_CONCLUSION        20  0.738095  0.738095   0.604762   0   0  51  104   \n",
       "LF_CONCLUSION           21  0.266667  0.266667   0.209524  28  25   2    1   \n",
       "LF_DG_DISTANCE_SHORT    22  0.133333  0.133333   0.085714   0   0   7   21   \n",
       "LF_DG_DISTANCE_LONG     23  0.100000  0.100000   0.076190   0   0   6   15   \n",
       "LF_DG_ALLOWED_DISTANCE  24  0.480952  0.480952   0.438095  42  59   0    0   \n",
       "LF_NO_VERB              25  0.085714  0.085714   0.066667   0   0   1   17   \n",
       "\n",
       "                        Empirical Acc.  Learned Acc.  \n",
       "LF_HETNET_DISEASES            0.377778      0.719847  \n",
       "LF_HETNET_DOAF                0.447368      0.599829  \n",
       "LF_HETNET_DisGeNET            0.436782      0.717825  \n",
       "LF_HETNET_GWAS                0.444444      0.487805  \n",
       "LF_HETNET_ABSENT              0.652174      0.768537  \n",
       "LF_CHECK_GENE_TAG             0.734375      0.615185  \n",
       "LF_CHECK_DISEASE_TAG          0.661538      0.682812  \n",
       "LF_IS_BIOMARKER               0.444444      0.532869  \n",
       "LF_ASSOCIATION                0.633333      0.609508  \n",
       "LF_WEAK_ASSOCIATION           0.000000      0.359375  \n",
       "LF_NO_ASSOCIATION             0.500000      0.500000  \n",
       "LF_METHOD_DESC                0.828571      0.568773  \n",
       "LF_TITLE                           NaN      0.458333  \n",
       "LF_POSITIVE_DIRECTION         0.400000      0.557692  \n",
       "LF_NEGATIVE_DIRECTION         0.416667      0.483290  \n",
       "LF_DIAGNOSIS                  0.500000      0.305882  \n",
       "LF_RISK                       0.000000      0.489362  \n",
       "LF_PATIENT_WITH               0.125000      0.426160  \n",
       "LF_PURPOSE                         NaN      0.442857  \n",
       "LF_CONCLUSION_TITLE           0.900000      0.418301  \n",
       "LF_NO_CONCLUSION              0.670968      0.769241  \n",
       "LF_CONCLUSION                 0.517857      0.695816  \n",
       "LF_DG_DISTANCE_SHORT          0.750000      0.559671  \n",
       "LF_DG_DISTANCE_LONG           0.714286      0.528875  \n",
       "LF_DG_ALLOWED_DISTANCE        0.415842      0.686544  \n",
       "LF_NO_VERB                    0.944444      0.566038  "
      ]
     },
     "execution_count": 29,
     "metadata": {},
     "output_type": "execute_result"
    }
   ],
   "source": [
    "L_dev.lf_stats(session, dev_data_labels, test_df.query(\"model=='DA'\")[\"Learned Acc.\"])"
   ]
  },
  {
   "cell_type": "markdown",
   "metadata": {},
   "source": [
    "## Comparison Between The Amount of Label Functions"
   ]
  },
  {
   "cell_type": "code",
   "execution_count": 30,
   "metadata": {
    "ExecuteTime": {
     "end_time": "2018-07-26T18:24:51.352420Z",
     "start_time": "2018-07-26T18:24:51.333727Z"
    }
   },
   "outputs": [],
   "source": [
    "gen_model_history_df = pd.read_csv(\"data/gen_model_marginals_history.csv\")"
   ]
  },
  {
   "cell_type": "code",
   "execution_count": 31,
   "metadata": {
    "ExecuteTime": {
     "end_time": "2018-07-26T18:24:53.849378Z",
     "start_time": "2018-07-26T18:24:53.827895Z"
    }
   },
   "outputs": [
    {
     "data": {
      "text/html": [
       "<div>\n",
       "<style scoped>\n",
       "    .dataframe tbody tr th:only-of-type {\n",
       "        vertical-align: middle;\n",
       "    }\n",
       "\n",
       "    .dataframe tbody tr th {\n",
       "        vertical-align: top;\n",
       "    }\n",
       "\n",
       "    .dataframe thead th {\n",
       "        text-align: right;\n",
       "    }\n",
       "</style>\n",
       "<table border=\"1\" class=\"dataframe\">\n",
       "  <thead>\n",
       "    <tr style=\"text-align: right;\">\n",
       "      <th></th>\n",
       "      <th>lfs_17</th>\n",
       "      <th>lfs_26</th>\n",
       "    </tr>\n",
       "  </thead>\n",
       "  <tbody>\n",
       "    <tr>\n",
       "      <th>0</th>\n",
       "      <td>0.693735</td>\n",
       "      <td>0.961781</td>\n",
       "    </tr>\n",
       "    <tr>\n",
       "      <th>1</th>\n",
       "      <td>0.023845</td>\n",
       "      <td>0.676270</td>\n",
       "    </tr>\n",
       "  </tbody>\n",
       "</table>\n",
       "</div>"
      ],
      "text/plain": [
       "     lfs_17    lfs_26\n",
       "0  0.693735  0.961781\n",
       "1  0.023845  0.676270"
      ]
     },
     "execution_count": 31,
     "metadata": {},
     "output_type": "execute_result"
    }
   ],
   "source": [
    "gen_model_history_df['lfs_26'] = L_dev_ci_marginals\n",
    "gen_model_history_df.head(2)"
   ]
  },
  {
   "cell_type": "code",
   "execution_count": 33,
   "metadata": {
    "ExecuteTime": {
     "end_time": "2018-07-26T18:25:11.874503Z",
     "start_time": "2018-07-26T18:25:11.708629Z"
    }
   },
   "outputs": [
    {
     "data": {
      "text/plain": [
       "<matplotlib.legend.Legend at 0x7fedf0026a90>"
      ]
     },
     "execution_count": 33,
     "metadata": {},
     "output_type": "execute_result"
    },
    {
     "data": {
      "image/png": "[encoded data removed]",
      "text/plain": [
       "<matplotlib.figure.Figure at 0x7fedf0026e80>"
      ]
     },
     "metadata": {},
     "output_type": "display_data"
    }
   ],
   "source": [
    "positive_class = dev_data_df.curated_dsh.values.sum()/dev_data_df.shape[0]\n",
    "plt.plot([0,1], [positive_class, positive_class], color='grey', \n",
    "         linestyle='--', label='Baseline (AUC = {:0.2f})'.format(positive_class))\n",
    "\n",
    "for marginal, model_label in zip(gen_model_history_df.columns, [\"17 LFs (AUC {:.2f})\", \"26 LFs (AUC {:.2f})\"]):\n",
    "    precision, recall, threshold = precision_recall_curve(dev_data_labels, gen_model_history_df[marginal])\n",
    "    area = auc(recall, precision)\n",
    "    plt.plot(recall, precision, label=model_label.format(area))\n",
    "plt.title(\"Precision Recall Curve of Generative Models\")\n",
    "plt.xlabel(\"Recall\")\n",
    "plt.ylabel(\"Precision\")\n",
    "plt.legend()"
   ]
  },
  {
   "cell_type": "code",
   "execution_count": 34,
   "metadata": {
    "ExecuteTime": {
     "end_time": "2018-07-26T18:25:19.755313Z",
     "start_time": "2018-07-26T18:25:19.597849Z"
    }
   },
   "outputs": [
    {
     "data": {
      "text/plain": [
       "<matplotlib.legend.Legend at 0x7fedefc6d0b8>"
      ]
     },
     "execution_count": 34,
     "metadata": {},
     "output_type": "execute_result"
    },
    {
     "data": {
      "image/png": "[encoded data removed]",
      "text/plain": [
       "<matplotlib.figure.Figure at 0x7fedefc6d6a0>"
      ]
     },
     "metadata": {},
     "output_type": "display_data"
    }
   ],
   "source": [
    "plt.plot([0,1], [0,1], linestyle='--', color='grey')\n",
    "for marginal, model_label in zip(gen_model_history_df.columns, [\"17 LFs (AUC {:.2f})\", \"26 LFs (AUC {:.2f})\"]):\n",
    "    fpr, tpr, threshold = roc_curve(dev_data_labels, gen_model_history_df[marginal])\n",
    "    area = auc(fpr, tpr)\n",
    "    plt.plot(fpr, tpr, label=model_label.format(area))\n",
    "plt.title(\"ROC Curve of Generative Models\")\n",
    "plt.xlabel(\"False Positive Rate\")\n",
    "plt.ylabel(\"True Positive Rate\")\n",
    "plt.legend()"
   ]
  },
  {
   "cell_type": "code",
   "execution_count": 35,
   "metadata": {
    "ExecuteTime": {
     "end_time": "2018-07-26T18:25:52.137863Z",
     "start_time": "2018-07-26T18:25:52.118777Z"
    }
   },
   "outputs": [],
   "source": [
    "gen_model_history_df.to_csv(\"gen_model_marginals_history.csv\", index=False)"
   ]
  },
  {
   "cell_type": "markdown",
   "metadata": {},
   "source": [
    "# F1 Score of Train Hand Labeled Set"
   ]
  },
  {
   "cell_type": "markdown",
   "metadata": {},
   "source": [
    "Looking at the small hand labeled training set we can see a pretty big spike in performance. In terms of f1 score the DA model has about a 0.25 increase in performance comapred to the CI model. "
   ]
  },
  {
   "cell_type": "code",
   "execution_count": 36,
   "metadata": {
    "ExecuteTime": {
     "end_time": "2018-07-26T18:26:00.085151Z",
     "start_time": "2018-07-26T18:25:58.468204Z"
    },
    "scrolled": true
   },
   "outputs": [
    {
     "name": "stdout",
     "output_type": "stream",
     "text": [
      "========================================\n",
      "Scores (Un-adjusted)\n",
      "========================================\n",
      "Pos. class accuracy: 0.79\n",
      "Neg. class accuracy: 0.566\n",
      "Precision            0.618\n",
      "Recall               0.79\n",
      "F1                   0.694\n",
      "----------------------------------------\n",
      "TP: 342 | FP: 211 | TN: 275 | FN: 91\n",
      "========================================\n",
      "\n"
     ]
    }
   ],
   "source": [
    "tp, fp, tn, fn = indep_gen_model.error_analysis(session, L_train_labeled, L_train_labeled_gold)"
   ]
  },
  {
   "cell_type": "code",
   "execution_count": 37,
   "metadata": {
    "ExecuteTime": {
     "end_time": "2018-07-26T18:26:01.737270Z",
     "start_time": "2018-07-26T18:26:00.086840Z"
    },
    "scrolled": true
   },
   "outputs": [
    {
     "name": "stdout",
     "output_type": "stream",
     "text": [
      "========================================\n",
      "Scores (Un-adjusted)\n",
      "========================================\n",
      "Pos. class accuracy: 0.785\n",
      "Neg. class accuracy: 0.547\n",
      "Precision            0.607\n",
      "Recall               0.785\n",
      "F1                   0.685\n",
      "----------------------------------------\n",
      "TP: 340 | FP: 220 | TN: 266 | FN: 93\n",
      "========================================\n",
      "\n"
     ]
    }
   ],
   "source": [
    "tp, fp, tn, fn = gen_model.error_analysis(session, L_train_labeled, L_train_labeled_gold)"
   ]
  },
  {
   "cell_type": "code",
   "execution_count": 38,
   "metadata": {
    "ExecuteTime": {
     "end_time": "2018-07-26T18:26:03.701041Z",
     "start_time": "2018-07-26T18:26:01.738950Z"
    }
   },
   "outputs": [],
   "source": [
    "L_train_ci_marginals = indep_gen_model.marginals(L_train_labeled)\n",
    "L_train_da_marginals = gen_model.marginals(L_train_labeled)"
   ]
  },
  {
   "cell_type": "code",
   "execution_count": 39,
   "metadata": {
    "ExecuteTime": {
     "end_time": "2018-07-26T18:26:03.720858Z",
     "start_time": "2018-07-26T18:26:03.702474Z"
    }
   },
   "outputs": [],
   "source": [
    "positive_class = sum(list(map(lambda x: 0 if x == -1 else x, L_train_labeled_gold.toarray()[:,0])))\n",
    "positive_class = positive_class/L_train_labeled_gold.shape[0]"
   ]
  },
  {
   "cell_type": "code",
   "execution_count": 40,
   "metadata": {
    "ExecuteTime": {
     "end_time": "2018-07-26T18:26:03.892126Z",
     "start_time": "2018-07-26T18:26:03.722286Z"
    }
   },
   "outputs": [
    {
     "data": {
      "text/plain": [
       "<matplotlib.legend.Legend at 0x7fedf10baa90>"
      ]
     },
     "execution_count": 40,
     "metadata": {},
     "output_type": "execute_result"
    },
    {
     "data": {
      "image/png": "[encoded data removed]",
      "text/plain": [
       "<matplotlib.figure.Figure at 0x7fedf10ba9b0>"
      ]
     },
     "metadata": {},
     "output_type": "display_data"
    }
   ],
   "source": [
    "plt.plot([0,1], [positive_class, positive_class], color='grey', \n",
    "         linestyle='--', label='Baseline (AUC = {:0.2f})'.format(positive_class))\n",
    "\n",
    "for marginal, model_label in zip([L_train_ci_marginals, L_train_da_marginals], [\"CI Gen Model (AUC {:.2f})\", \"DA Gen Model (AUC {:.2f})\"]):\n",
    "    precision, recall, threshold = precision_recall_curve(L_train_labeled_gold.data, marginal)\n",
    "    area = auc(recall, precision)\n",
    "    plt.plot(recall, precision, label=model_label.format(area))\n",
    "plt.title(\"Precision Recall Curve of Generative Models\")\n",
    "plt.xlabel(\"Recall\")\n",
    "plt.ylabel(\"Precision\")\n",
    "plt.legend()"
   ]
  },
  {
   "cell_type": "code",
   "execution_count": 41,
   "metadata": {
    "ExecuteTime": {
     "end_time": "2018-07-26T18:26:04.068078Z",
     "start_time": "2018-07-26T18:26:03.893767Z"
    }
   },
   "outputs": [
    {
     "data": {
      "text/plain": [
       "<matplotlib.legend.Legend at 0x7fedf0cd5358>"
      ]
     },
     "execution_count": 41,
     "metadata": {},
     "output_type": "execute_result"
    },
    {
     "data": {
      "image/png": "[encoded data removed]",
      "text/plain": [
       "<matplotlib.figure.Figure at 0x7fedf0cd5550>"
      ]
     },
     "metadata": {},
     "output_type": "display_data"
    }
   ],
   "source": [
    "plt.plot([0,1], [0,1], linestyle='--', color='grey')\n",
    "for marginal, model_label in zip([L_train_ci_marginals, L_train_da_marginals], [\"CI Gen Model (AUC {:.2f})\", \"DA Gen Model (AUC {:.2f})\"]):\n",
    "    fpr, tpr, threshold = roc_curve(L_train_labeled_gold.data, marginal)\n",
    "    area = auc(fpr, tpr)\n",
    "    plt.plot(fpr, tpr, label=model_label.format(area))\n",
    "plt.title(\"ROC Curve of Generative Models\")\n",
    "plt.xlabel(\"False Positive Rate\")\n",
    "plt.ylabel(\"True Positive Rate\")\n",
    "plt.legend()"
   ]
  },
  {
   "cell_type": "code",
   "execution_count": 42,
   "metadata": {
    "ExecuteTime": {
     "end_time": "2018-07-26T18:26:04.201306Z",
     "start_time": "2018-07-26T18:26:04.069535Z"
    }
   },
   "outputs": [
    {
     "name": "stderr",
     "output_type": "stream",
     "text": [
      "/home/danich1/anaconda2/envs/snorkeling/lib/python3.6/site-packages/snorkel/annotations.py:137: RuntimeWarning: invalid value encountered in true_divide\n",
      "  ac = (tp+tn) / (tp+tn+fp+fn)\n"
     ]
    },
    {
     "data": {
      "text/html": [
       "<div>\n",
       "<style scoped>\n",
       "    .dataframe tbody tr th:only-of-type {\n",
       "        vertical-align: middle;\n",
       "    }\n",
       "\n",
       "    .dataframe tbody tr th {\n",
       "        vertical-align: top;\n",
       "    }\n",
       "\n",
       "    .dataframe thead th {\n",
       "        text-align: right;\n",
       "    }\n",
       "</style>\n",
       "<table border=\"1\" class=\"dataframe\">\n",
       "  <thead>\n",
       "    <tr style=\"text-align: right;\">\n",
       "      <th></th>\n",
       "      <th>j</th>\n",
       "      <th>Coverage</th>\n",
       "      <th>Overlaps</th>\n",
       "      <th>Conflicts</th>\n",
       "      <th>TP</th>\n",
       "      <th>FP</th>\n",
       "      <th>FN</th>\n",
       "      <th>TN</th>\n",
       "      <th>Empirical Acc.</th>\n",
       "      <th>Learned Acc.</th>\n",
       "    </tr>\n",
       "  </thead>\n",
       "  <tbody>\n",
       "    <tr>\n",
       "      <th>LF_HETNET_DISEASES</th>\n",
       "      <td>0</td>\n",
       "      <td>0.828074</td>\n",
       "      <td>0.828074</td>\n",
       "      <td>0.695321</td>\n",
       "      <td>378</td>\n",
       "      <td>383</td>\n",
       "      <td>0</td>\n",
       "      <td>0</td>\n",
       "      <td>0.496715</td>\n",
       "      <td>0.719847</td>\n",
       "    </tr>\n",
       "    <tr>\n",
       "      <th>LF_HETNET_DOAF</th>\n",
       "      <td>1</td>\n",
       "      <td>0.060936</td>\n",
       "      <td>0.060936</td>\n",
       "      <td>0.052231</td>\n",
       "      <td>29</td>\n",
       "      <td>27</td>\n",
       "      <td>0</td>\n",
       "      <td>0</td>\n",
       "      <td>0.517857</td>\n",
       "      <td>0.599829</td>\n",
       "    </tr>\n",
       "    <tr>\n",
       "      <th>LF_HETNET_DisGeNET</th>\n",
       "      <td>2</td>\n",
       "      <td>0.371055</td>\n",
       "      <td>0.371055</td>\n",
       "      <td>0.329706</td>\n",
       "      <td>148</td>\n",
       "      <td>193</td>\n",
       "      <td>0</td>\n",
       "      <td>0</td>\n",
       "      <td>0.434018</td>\n",
       "      <td>0.717825</td>\n",
       "    </tr>\n",
       "    <tr>\n",
       "      <th>LF_HETNET_GWAS</th>\n",
       "      <td>3</td>\n",
       "      <td>0.000000</td>\n",
       "      <td>0.000000</td>\n",
       "      <td>0.000000</td>\n",
       "      <td>0</td>\n",
       "      <td>0</td>\n",
       "      <td>0</td>\n",
       "      <td>0</td>\n",
       "      <td>NaN</td>\n",
       "      <td>0.487805</td>\n",
       "    </tr>\n",
       "    <tr>\n",
       "      <th>LF_HETNET_ABSENT</th>\n",
       "      <td>4</td>\n",
       "      <td>0.016322</td>\n",
       "      <td>0.016322</td>\n",
       "      <td>0.013058</td>\n",
       "      <td>0</td>\n",
       "      <td>0</td>\n",
       "      <td>3</td>\n",
       "      <td>12</td>\n",
       "      <td>0.800000</td>\n",
       "      <td>0.768537</td>\n",
       "    </tr>\n",
       "    <tr>\n",
       "      <th>LF_CHECK_GENE_TAG</th>\n",
       "      <td>5</td>\n",
       "      <td>0.157780</td>\n",
       "      <td>0.157780</td>\n",
       "      <td>0.157780</td>\n",
       "      <td>0</td>\n",
       "      <td>0</td>\n",
       "      <td>56</td>\n",
       "      <td>89</td>\n",
       "      <td>0.613793</td>\n",
       "      <td>0.615185</td>\n",
       "    </tr>\n",
       "    <tr>\n",
       "      <th>LF_CHECK_DISEASE_TAG</th>\n",
       "      <td>6</td>\n",
       "      <td>0.429815</td>\n",
       "      <td>0.429815</td>\n",
       "      <td>0.427639</td>\n",
       "      <td>0</td>\n",
       "      <td>0</td>\n",
       "      <td>172</td>\n",
       "      <td>223</td>\n",
       "      <td>0.564557</td>\n",
       "      <td>0.682812</td>\n",
       "    </tr>\n",
       "    <tr>\n",
       "      <th>LF_IS_BIOMARKER</th>\n",
       "      <td>7</td>\n",
       "      <td>0.231774</td>\n",
       "      <td>0.231774</td>\n",
       "      <td>0.151251</td>\n",
       "      <td>138</td>\n",
       "      <td>75</td>\n",
       "      <td>0</td>\n",
       "      <td>0</td>\n",
       "      <td>0.647887</td>\n",
       "      <td>0.532869</td>\n",
       "    </tr>\n",
       "    <tr>\n",
       "      <th>LF_ASSOCIATION</th>\n",
       "      <td>8</td>\n",
       "      <td>0.156692</td>\n",
       "      <td>0.156692</td>\n",
       "      <td>0.101197</td>\n",
       "      <td>105</td>\n",
       "      <td>39</td>\n",
       "      <td>0</td>\n",
       "      <td>0</td>\n",
       "      <td>0.729167</td>\n",
       "      <td>0.609508</td>\n",
       "    </tr>\n",
       "    <tr>\n",
       "      <th>LF_WEAK_ASSOCIATION</th>\n",
       "      <td>9</td>\n",
       "      <td>0.006529</td>\n",
       "      <td>0.006529</td>\n",
       "      <td>0.005441</td>\n",
       "      <td>0</td>\n",
       "      <td>0</td>\n",
       "      <td>2</td>\n",
       "      <td>4</td>\n",
       "      <td>0.666667</td>\n",
       "      <td>0.359375</td>\n",
       "    </tr>\n",
       "    <tr>\n",
       "      <th>LF_NO_ASSOCIATION</th>\n",
       "      <td>10</td>\n",
       "      <td>0.014146</td>\n",
       "      <td>0.014146</td>\n",
       "      <td>0.014146</td>\n",
       "      <td>0</td>\n",
       "      <td>0</td>\n",
       "      <td>6</td>\n",
       "      <td>7</td>\n",
       "      <td>0.538462</td>\n",
       "      <td>0.500000</td>\n",
       "    </tr>\n",
       "    <tr>\n",
       "      <th>LF_METHOD_DESC</th>\n",
       "      <td>11</td>\n",
       "      <td>0.192601</td>\n",
       "      <td>0.192601</td>\n",
       "      <td>0.190424</td>\n",
       "      <td>0</td>\n",
       "      <td>0</td>\n",
       "      <td>38</td>\n",
       "      <td>139</td>\n",
       "      <td>0.785311</td>\n",
       "      <td>0.568773</td>\n",
       "    </tr>\n",
       "    <tr>\n",
       "      <th>LF_TITLE</th>\n",
       "      <td>12</td>\n",
       "      <td>0.022851</td>\n",
       "      <td>0.022851</td>\n",
       "      <td>0.021763</td>\n",
       "      <td>0</td>\n",
       "      <td>0</td>\n",
       "      <td>3</td>\n",
       "      <td>18</td>\n",
       "      <td>0.857143</td>\n",
       "      <td>0.458333</td>\n",
       "    </tr>\n",
       "    <tr>\n",
       "      <th>LF_POSITIVE_DIRECTION</th>\n",
       "      <td>13</td>\n",
       "      <td>0.133841</td>\n",
       "      <td>0.133841</td>\n",
       "      <td>0.085963</td>\n",
       "      <td>97</td>\n",
       "      <td>26</td>\n",
       "      <td>0</td>\n",
       "      <td>0</td>\n",
       "      <td>0.788618</td>\n",
       "      <td>0.557692</td>\n",
       "    </tr>\n",
       "    <tr>\n",
       "      <th>LF_NEGATIVE_DIRECTION</th>\n",
       "      <td>14</td>\n",
       "      <td>0.055495</td>\n",
       "      <td>0.055495</td>\n",
       "      <td>0.033732</td>\n",
       "      <td>35</td>\n",
       "      <td>16</td>\n",
       "      <td>0</td>\n",
       "      <td>0</td>\n",
       "      <td>0.686275</td>\n",
       "      <td>0.483290</td>\n",
       "    </tr>\n",
       "    <tr>\n",
       "      <th>LF_DIAGNOSIS</th>\n",
       "      <td>15</td>\n",
       "      <td>0.045702</td>\n",
       "      <td>0.045702</td>\n",
       "      <td>0.032644</td>\n",
       "      <td>29</td>\n",
       "      <td>13</td>\n",
       "      <td>0</td>\n",
       "      <td>0</td>\n",
       "      <td>0.690476</td>\n",
       "      <td>0.305882</td>\n",
       "    </tr>\n",
       "    <tr>\n",
       "      <th>LF_RISK</th>\n",
       "      <td>16</td>\n",
       "      <td>0.023939</td>\n",
       "      <td>0.023939</td>\n",
       "      <td>0.015234</td>\n",
       "      <td>21</td>\n",
       "      <td>1</td>\n",
       "      <td>0</td>\n",
       "      <td>0</td>\n",
       "      <td>0.954545</td>\n",
       "      <td>0.489362</td>\n",
       "    </tr>\n",
       "    <tr>\n",
       "      <th>LF_PATIENT_WITH</th>\n",
       "      <td>17</td>\n",
       "      <td>0.071817</td>\n",
       "      <td>0.071817</td>\n",
       "      <td>0.060936</td>\n",
       "      <td>30</td>\n",
       "      <td>36</td>\n",
       "      <td>0</td>\n",
       "      <td>0</td>\n",
       "      <td>0.454545</td>\n",
       "      <td>0.426160</td>\n",
       "    </tr>\n",
       "    <tr>\n",
       "      <th>LF_PURPOSE</th>\n",
       "      <td>18</td>\n",
       "      <td>0.004353</td>\n",
       "      <td>0.004353</td>\n",
       "      <td>0.004353</td>\n",
       "      <td>0</td>\n",
       "      <td>0</td>\n",
       "      <td>2</td>\n",
       "      <td>2</td>\n",
       "      <td>0.500000</td>\n",
       "      <td>0.442857</td>\n",
       "    </tr>\n",
       "    <tr>\n",
       "      <th>LF_CONCLUSION_TITLE</th>\n",
       "      <td>19</td>\n",
       "      <td>0.006529</td>\n",
       "      <td>0.006529</td>\n",
       "      <td>0.005441</td>\n",
       "      <td>2</td>\n",
       "      <td>4</td>\n",
       "      <td>0</td>\n",
       "      <td>0</td>\n",
       "      <td>0.333333</td>\n",
       "      <td>0.418301</td>\n",
       "    </tr>\n",
       "    <tr>\n",
       "      <th>LF_NO_CONCLUSION</th>\n",
       "      <td>20</td>\n",
       "      <td>0.597388</td>\n",
       "      <td>0.597388</td>\n",
       "      <td>0.594124</td>\n",
       "      <td>0</td>\n",
       "      <td>0</td>\n",
       "      <td>160</td>\n",
       "      <td>389</td>\n",
       "      <td>0.708561</td>\n",
       "      <td>0.769241</td>\n",
       "    </tr>\n",
       "    <tr>\n",
       "      <th>LF_CONCLUSION</th>\n",
       "      <td>21</td>\n",
       "      <td>0.406964</td>\n",
       "      <td>0.406964</td>\n",
       "      <td>0.257889</td>\n",
       "      <td>266</td>\n",
       "      <td>89</td>\n",
       "      <td>8</td>\n",
       "      <td>11</td>\n",
       "      <td>0.740642</td>\n",
       "      <td>0.695816</td>\n",
       "    </tr>\n",
       "    <tr>\n",
       "      <th>LF_DG_DISTANCE_SHORT</th>\n",
       "      <td>22</td>\n",
       "      <td>0.140370</td>\n",
       "      <td>0.140370</td>\n",
       "      <td>0.138194</td>\n",
       "      <td>0</td>\n",
       "      <td>0</td>\n",
       "      <td>27</td>\n",
       "      <td>102</td>\n",
       "      <td>0.790698</td>\n",
       "      <td>0.559671</td>\n",
       "    </tr>\n",
       "    <tr>\n",
       "      <th>LF_DG_DISTANCE_LONG</th>\n",
       "      <td>23</td>\n",
       "      <td>0.118607</td>\n",
       "      <td>0.118607</td>\n",
       "      <td>0.118607</td>\n",
       "      <td>0</td>\n",
       "      <td>0</td>\n",
       "      <td>50</td>\n",
       "      <td>59</td>\n",
       "      <td>0.541284</td>\n",
       "      <td>0.528875</td>\n",
       "    </tr>\n",
       "    <tr>\n",
       "      <th>LF_DG_ALLOWED_DISTANCE</th>\n",
       "      <td>24</td>\n",
       "      <td>0.467900</td>\n",
       "      <td>0.467900</td>\n",
       "      <td>0.368879</td>\n",
       "      <td>217</td>\n",
       "      <td>213</td>\n",
       "      <td>0</td>\n",
       "      <td>0</td>\n",
       "      <td>0.504651</td>\n",
       "      <td>0.686544</td>\n",
       "    </tr>\n",
       "    <tr>\n",
       "      <th>LF_NO_VERB</th>\n",
       "      <td>25</td>\n",
       "      <td>0.101197</td>\n",
       "      <td>0.101197</td>\n",
       "      <td>0.101197</td>\n",
       "      <td>0</td>\n",
       "      <td>0</td>\n",
       "      <td>15</td>\n",
       "      <td>78</td>\n",
       "      <td>0.838710</td>\n",
       "      <td>0.566038</td>\n",
       "    </tr>\n",
       "  </tbody>\n",
       "</table>\n",
       "</div>"
      ],
      "text/plain": [
       "                         j  Coverage  Overlaps  Conflicts   TP   FP   FN   TN  \\\n",
       "LF_HETNET_DISEASES       0  0.828074  0.828074   0.695321  378  383    0    0   \n",
       "LF_HETNET_DOAF           1  0.060936  0.060936   0.052231   29   27    0    0   \n",
       "LF_HETNET_DisGeNET       2  0.371055  0.371055   0.329706  148  193    0    0   \n",
       "LF_HETNET_GWAS           3  0.000000  0.000000   0.000000    0    0    0    0   \n",
       "LF_HETNET_ABSENT         4  0.016322  0.016322   0.013058    0    0    3   12   \n",
       "LF_CHECK_GENE_TAG        5  0.157780  0.157780   0.157780    0    0   56   89   \n",
       "LF_CHECK_DISEASE_TAG     6  0.429815  0.429815   0.427639    0    0  172  223   \n",
       "LF_IS_BIOMARKER          7  0.231774  0.231774   0.151251  138   75    0    0   \n",
       "LF_ASSOCIATION           8  0.156692  0.156692   0.101197  105   39    0    0   \n",
       "LF_WEAK_ASSOCIATION      9  0.006529  0.006529   0.005441    0    0    2    4   \n",
       "LF_NO_ASSOCIATION       10  0.014146  0.014146   0.014146    0    0    6    7   \n",
       "LF_METHOD_DESC          11  0.192601  0.192601   0.190424    0    0   38  139   \n",
       "LF_TITLE                12  0.022851  0.022851   0.021763    0    0    3   18   \n",
       "LF_POSITIVE_DIRECTION   13  0.133841  0.133841   0.085963   97   26    0    0   \n",
       "LF_NEGATIVE_DIRECTION   14  0.055495  0.055495   0.033732   35   16    0    0   \n",
       "LF_DIAGNOSIS            15  0.045702  0.045702   0.032644   29   13    0    0   \n",
       "LF_RISK                 16  0.023939  0.023939   0.015234   21    1    0    0   \n",
       "LF_PATIENT_WITH         17  0.071817  0.071817   0.060936   30   36    0    0   \n",
       "LF_PURPOSE              18  0.004353  0.004353   0.004353    0    0    2    2   \n",
       "LF_CONCLUSION_TITLE     19  0.006529  0.006529   0.005441    2    4    0    0   \n",
       "LF_NO_CONCLUSION        20  0.597388  0.597388   0.594124    0    0  160  389   \n",
       "LF_CONCLUSION           21  0.406964  0.406964   0.257889  266   89    8   11   \n",
       "LF_DG_DISTANCE_SHORT    22  0.140370  0.140370   0.138194    0    0   27  102   \n",
       "LF_DG_DISTANCE_LONG     23  0.118607  0.118607   0.118607    0    0   50   59   \n",
       "LF_DG_ALLOWED_DISTANCE  24  0.467900  0.467900   0.368879  217  213    0    0   \n",
       "LF_NO_VERB              25  0.101197  0.101197   0.101197    0    0   15   78   \n",
       "\n",
       "                        Empirical Acc.  Learned Acc.  \n",
       "LF_HETNET_DISEASES            0.496715      0.719847  \n",
       "LF_HETNET_DOAF                0.517857      0.599829  \n",
       "LF_HETNET_DisGeNET            0.434018      0.717825  \n",
       "LF_HETNET_GWAS                     NaN      0.487805  \n",
       "LF_HETNET_ABSENT              0.800000      0.768537  \n",
       "LF_CHECK_GENE_TAG             0.613793      0.615185  \n",
       "LF_CHECK_DISEASE_TAG          0.564557      0.682812  \n",
       "LF_IS_BIOMARKER               0.647887      0.532869  \n",
       "LF_ASSOCIATION                0.729167      0.609508  \n",
       "LF_WEAK_ASSOCIATION           0.666667      0.359375  \n",
       "LF_NO_ASSOCIATION             0.538462      0.500000  \n",
       "LF_METHOD_DESC                0.785311      0.568773  \n",
       "LF_TITLE                      0.857143      0.458333  \n",
       "LF_POSITIVE_DIRECTION         0.788618      0.557692  \n",
       "LF_NEGATIVE_DIRECTION         0.686275      0.483290  \n",
       "LF_DIAGNOSIS                  0.690476      0.305882  \n",
       "LF_RISK                       0.954545      0.489362  \n",
       "LF_PATIENT_WITH               0.454545      0.426160  \n",
       "LF_PURPOSE                    0.500000      0.442857  \n",
       "LF_CONCLUSION_TITLE           0.333333      0.418301  \n",
       "LF_NO_CONCLUSION              0.708561      0.769241  \n",
       "LF_CONCLUSION                 0.740642      0.695816  \n",
       "LF_DG_DISTANCE_SHORT          0.790698      0.559671  \n",
       "LF_DG_DISTANCE_LONG           0.541284      0.528875  \n",
       "LF_DG_ALLOWED_DISTANCE        0.504651      0.686544  \n",
       "LF_NO_VERB                    0.838710      0.566038  "
      ]
     },
     "execution_count": 42,
     "metadata": {},
     "output_type": "execute_result"
    }
   ],
   "source": [
    "L_train_labeled.lf_stats(session, L_train_labeled_gold.data, test_df.query(\"model=='DA'\")[\"Learned Acc.\"])"
   ]
  },
  {
   "cell_type": "markdown",
   "metadata": {},
   "source": [
    "## Individual Candidate Error Analysis"
   ]
  },
  {
   "cell_type": "markdown",
   "metadata": {},
   "source": [
    "Depending on which block of code is executed, the following block of code below will show which candidate sentence was incorrectly labeled. Right now the false negatives (fn) are being shown below but this could change to incorporate false positives (fp) as well."
   ]
  },
  {
   "cell_type": "code",
   "execution_count": null,
   "metadata": {
    "ExecuteTime": {
     "end_time": "2018-07-25T14:31:49.272544Z",
     "start_time": "2018-07-25T14:31:48.036785Z"
    }
   },
   "outputs": [],
   "source": [
    "from snorkel.viewer import SentenceNgramViewer\n",
    "\n",
    "# NOTE: This if-then statement is only to avoid opening the viewer during automated testing of this notebook\n",
    "# You should ignore this!\n",
    "import os\n",
    "if 'CI' not in os.environ:\n",
    "    sv = SentenceNgramViewer(fp, session)\n",
    "else:\n",
    "    sv = None"
   ]
  },
  {
   "cell_type": "code",
   "execution_count": null,
   "metadata": {
    "ExecuteTime": {
     "end_time": "2018-07-25T14:31:49.295073Z",
     "start_time": "2018-07-25T14:31:49.274130Z"
    },
    "scrolled": true
   },
   "outputs": [],
   "source": [
    "sv"
   ]
  },
  {
   "cell_type": "code",
   "execution_count": null,
   "metadata": {
    "ExecuteTime": {
     "end_time": "2018-07-25T14:33:13.155411Z",
     "start_time": "2018-07-25T14:33:13.136599Z"
    },
    "scrolled": true
   },
   "outputs": [],
   "source": [
    "c = sv.get_selected() if sv else list(fp.union(fn))[0]\n",
    "c"
   ]
  },
  {
   "cell_type": "code",
   "execution_count": null,
   "metadata": {
    "ExecuteTime": {
     "end_time": "2018-07-25T14:33:13.181111Z",
     "start_time": "2018-07-25T14:33:13.157704Z"
    },
    "scrolled": true
   },
   "outputs": [],
   "source": [
    "c.labels"
   ]
  },
  {
   "cell_type": "code",
   "execution_count": null,
   "metadata": {
    "ExecuteTime": {
     "end_time": "2018-07-25T14:33:22.158418Z",
     "start_time": "2018-07-25T14:33:22.140216Z"
    },
    "scrolled": true
   },
   "outputs": [],
   "source": [
    "L_train_ci_marginals[L_train_labeled.get_row_index(c)]"
   ]
  },
  {
   "cell_type": "markdown",
   "metadata": {},
   "source": [
    "## Generate Excel File of Train Data"
   ]
  },
  {
   "cell_type": "markdown",
   "metadata": {},
   "source": [
    "Lastly we write out the generative model's output into a file. Reason for this will be used in the [next notebook](4.sentence-level-prediction.ipynb), where we aim to use a noise aware discriminator model to correct for the generative models' errors."
   ]
  },
  {
   "cell_type": "code",
   "execution_count": null,
   "metadata": {
    "ExecuteTime": {
     "end_time": "2018-07-25T15:02:54.128315Z",
     "start_time": "2018-07-25T15:02:54.107996Z"
    },
    "scrolled": true
   },
   "outputs": [],
   "source": [
    "def make_sentence_df(lf_matrix, marginals, pair_df):\n",
    "    rows = list()\n",
    "    for i in tqdm_notebook(range(lf_matrix.shape[0])):\n",
    "        row = OrderedDict()\n",
    "        candidate = lf_matrix.get_candidate(session, i)\n",
    "        row['candidate_id'] = candidate.id\n",
    "        row['disease'] = candidate[0].get_span()\n",
    "        row['gene'] = candidate[1].get_span()\n",
    "        row['doid_id'] = candidate.Disease_cid\n",
    "        row['entrez_gene_id'] = candidate.Gene_cid\n",
    "        row['sentence'] = candidate.get_parent().text\n",
    "        row['label'] = marginals[i]\n",
    "        rows.append(row)\n",
    "    sentence_df = pd.DataFrame(rows)\n",
    "    sentence_df['entrez_gene_id'] = sentence_df.entrez_gene_id.astype(int)\n",
    "    sentence_df = pd.merge(\n",
    "        sentence_df,\n",
    "        pair_df[[\"doid_id\", \"entrez_gene_id\", \"doid_name\", \"gene_symbol\"]],\n",
    "        on=[\"doid_id\", \"entrez_gene_id\"],\n",
    "        how=\"left\"\n",
    "    )\n",
    "    sentence_df = pd.concat([\n",
    "        sentence_df,\n",
    "        pd.DataFrame(lf_matrix.todense(), columns=list(LFS))\n",
    "    ], axis='columns')\n",
    "    return sentence_df"
   ]
  },
  {
   "cell_type": "code",
   "execution_count": null,
   "metadata": {
    "ExecuteTime": {
     "end_time": "2018-07-25T15:03:02.978492Z",
     "start_time": "2018-07-25T15:02:54.129833Z"
    }
   },
   "outputs": [],
   "source": [
    "pair_df = pd.read_csv(\"data/disease-gene-pairs-association.csv.xz\", compression='xz')\n",
    "pair_df.head(2)"
   ]
  },
  {
   "cell_type": "code",
   "execution_count": null,
   "metadata": {
    "ExecuteTime": {
     "end_time": "2018-07-25T15:07:28.476182Z",
     "start_time": "2018-07-25T15:03:02.980480Z"
    }
   },
   "outputs": [],
   "source": [
    "train_sentence_df = make_sentence_df(L_train, train_marginals_indep, pair_df)\n",
    "train_sentence_df.head(2)"
   ]
  },
  {
   "cell_type": "code",
   "execution_count": null,
   "metadata": {
    "ExecuteTime": {
     "end_time": "2018-07-25T15:07:56.166828Z",
     "start_time": "2018-07-25T15:07:28.477864Z"
    }
   },
   "outputs": [],
   "source": [
    "writer = pd.ExcelWriter('data/sentence-labels.xlsx')\n",
    "(train_sentence_df\n",
    "    .to_excel(writer, sheet_name='sentences', index=False)\n",
    ")\n",
    "if writer.engine == 'xlsxwriter':\n",
    "    for sheet in writer.sheets.values():\n",
    "        sheet.freeze_panes(1, 0)\n",
    "writer.close()"
   ]
  },
  {
   "cell_type": "markdown",
   "metadata": {},
   "source": [
    "## Generate Excel File of Dev Data"
   ]
  },
  {
   "cell_type": "code",
   "execution_count": null,
   "metadata": {},
   "outputs": [],
   "source": [
    "dev_sentence_df = make_sentence_df(L_dev, dev_marginals, pair_df)\n",
    "dev_sentence_df.head(2)"
   ]
  },
  {
   "cell_type": "code",
   "execution_count": null,
   "metadata": {},
   "outputs": [],
   "source": [
    "writer = pd.ExcelWriter('data/sentence-labels-dev.xlsx')\n",
    "(dev_sentence_df\n",
    "    .sample(frac=1, random_state=100)\n",
    "    .to_excel(writer, sheet_name='sentences', index=False)\n",
    ")\n",
    "if writer.engine == 'xlsxwriter':\n",
    "    for sheet in writer.sheets.values():\n",
    "        sheet.freeze_panes(1, 0)\n",
    "writer.close()"
   ]
  }
 ],
 "metadata": {
  "anaconda-cloud": {},
  "kernelspec": {
   "display_name": "Python [conda env:snorkeling]",
   "language": "python",
   "name": "conda-env-snorkeling-py"
  },
  "language_info": {
   "codemirror_mode": {
    "name": "ipython",
    "version": 3
   },
   "file_extension": ".py",
   "mimetype": "text/x-python",
   "name": "python",
   "nbconvert_exporter": "python",
   "pygments_lexer": "ipython3",
   "version": "3.6.4"
  }
 },
 "nbformat": 4,
 "nbformat_minor": 2
}
