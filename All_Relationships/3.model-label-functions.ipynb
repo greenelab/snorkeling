{
 "cells": [
  {
   "cell_type": "markdown",
   "metadata": {},
   "source": [
    "# Train the Generative Model for Candidate Labeling"
   ]
  },
  {
   "cell_type": "markdown",
   "metadata": {},
   "source": [
    "This notebook is designed to run a generative model that snorkel uses to probabilistically label each candidate. (1 for positive label and -1 for negative label). Using this generative model, we will test the hypothesis: **modeling correlation structure between label functions provides better precision and recall than the conditionally independent model.**"
   ]
  },
  {
   "cell_type": "markdown",
   "metadata": {},
   "source": [
    "## MUST RUN AT THE START OF EVERYTHING"
   ]
  },
  {
   "cell_type": "markdown",
   "metadata": {},
   "source": [
    "Import the necessary modules and set up the database for database operations."
   ]
  },
  {
   "cell_type": "code",
   "execution_count": null,
   "metadata": {
    "ExecuteTime": {
     "end_time": "2018-08-31T16:06:50.768316Z",
     "start_time": "2018-08-31T16:06:50.230919Z"
    }
   },
   "outputs": [],
   "source": [
    "%load_ext autoreload\n",
    "%autoreload 2\n",
    "%matplotlib inline\n",
    "\n",
    "import os\n",
    "from tqdm import tqdm_notebook\n",
    "\n",
    "import pandas as pd\n",
    "import seaborn as sns\n",
    "from sklearn.metrics import average_precision_score, precision_recall_curve, roc_curve, auc, f1_score"
   ]
  },
  {
   "cell_type": "code",
   "execution_count": null,
   "metadata": {
    "ExecuteTime": {
     "end_time": "2018-08-31T16:06:50.953811Z",
     "start_time": "2018-08-31T16:06:50.769844Z"
    }
   },
   "outputs": [],
   "source": [
    "#Set up the environment\n",
    "username = \"danich1\"\n",
    "password = \"snorkel\"\n",
    "dbname = \"pubmeddb\"\n",
    "\n",
    "#Path subject to change for different os\n",
    "database_str = \"postgresql+psycopg2://{}:{}@/{}?host=/var/run/postgresql\".format(username, password, dbname)\n",
    "os.environ['SNORKELDB'] = database_str\n",
    "\n",
    "from snorkel import SnorkelSession\n",
    "session = SnorkelSession()"
   ]
  },
  {
   "cell_type": "code",
   "execution_count": null,
   "metadata": {
    "ExecuteTime": {
     "end_time": "2018-08-31T16:06:51.128363Z",
     "start_time": "2018-08-31T16:06:50.955498Z"
    }
   },
   "outputs": [],
   "source": [
    "from snorkel import SnorkelSession\n",
    "from snorkel.annotations import load_gold_labels\n",
    "from snorkel.annotations import FeatureAnnotator, LabelAnnotator, save_marginals\n",
    "from snorkel.learning import GenerativeModel\n",
    "from snorkel.learning.structure import DependencySelector\n",
    "from snorkel.learning.utils import MentionScorer\n",
    "from snorkel.models import Candidate, FeatureKey, candidate_subclass, Label\n",
    "from snorkel.utils import get_as_dict"
   ]
  },
  {
   "cell_type": "code",
   "execution_count": null,
   "metadata": {
    "ExecuteTime": {
     "end_time": "2018-08-31T16:07:18.614837Z",
     "start_time": "2018-08-31T16:06:51.129938Z"
    }
   },
   "outputs": [],
   "source": [
    "from utils.compound_gene_lf import CG_LFS\n",
    "from utils.disease_gene_lf import DG_LFS\n",
    "from utils.notebook_utils.plot_helper import *"
   ]
  },
  {
   "cell_type": "code",
   "execution_count": null,
   "metadata": {
    "ExecuteTime": {
     "end_time": "2018-08-31T16:07:18.637956Z",
     "start_time": "2018-08-31T16:07:18.617658Z"
    }
   },
   "outputs": [],
   "source": [
    "edge_type = \"cd\""
   ]
  },
  {
   "cell_type": "code",
   "execution_count": null,
   "metadata": {
    "ExecuteTime": {
     "end_time": "2018-08-31T16:07:18.686612Z",
     "start_time": "2018-08-31T16:07:18.639496Z"
    }
   },
   "outputs": [],
   "source": [
    "if edge_type == \"dg\":\n",
    "    DiseaseGene = candidate_subclass('DiseaseGene', ['Disease', 'Gene'])\n",
    "elif edge_type == \"gg\":\n",
    "    GeneGene = candidate_subclass('GeneGene', ['Gene1', 'Gene2'])\n",
    "elif edge_type == \"cg\":\n",
    "    CompoundGene = candidate_subclass('CompoundGene', ['Compound', 'Gene'])\n",
    "elif edge_type == \"cd\":\n",
    "    CompoundDisease = candidate_subclass('CompoundDisease', ['Compound', 'Disease'])\n",
    "else:\n",
    "    print(\"Please pick a valid edge type\")"
   ]
  },
  {
   "cell_type": "markdown",
   "metadata": {},
   "source": [
    "# Load preprocessed data "
   ]
  },
  {
   "cell_type": "markdown",
   "metadata": {},
   "source": [
    "This code will load the corresponding label matricies that were generated in the previous notebook ([Notebook 2](2.data-labeler.ipynb)). This notebook has three matricies which are broken down as follows:\n",
    "\n",
    "|Dataset|Size|Description|\n",
    "|:-----|-----|:-----|\n",
    "|L_train|50,000|Randomly sampled from our 2,700,000 training set|\n",
    "|L_dev|10,000|Randomly sampled from our 700,000 dev set. Only 200 have been hand labeled|\n",
    "|L_train_labeled|919|Have been hand labled from training set and is separate from (L_train).|"
   ]
  },
  {
   "cell_type": "code",
   "execution_count": null,
   "metadata": {
    "ExecuteTime": {
     "end_time": "2018-08-31T03:33:21.294613Z",
     "start_time": "2018-08-31T03:33:21.272479Z"
    }
   },
   "outputs": [],
   "source": [
    "spreadsheet_names = {\n",
    "    'train': 'data/compound_disease/sentence_labels_train.xlsx',\n",
    "    'train_hand_label': 'data/compound_disease/sentence_labels_train_dev.xlsx',\n",
    "    'dev': 'data/compound_disease/sentence_labels_dev.xlsx'\n",
    "}"
   ]
  },
  {
   "cell_type": "code",
   "execution_count": null,
   "metadata": {
    "ExecuteTime": {
     "end_time": "2018-08-31T03:33:24.157293Z",
     "start_time": "2018-08-31T03:33:21.296298Z"
    }
   },
   "outputs": [],
   "source": [
    "train_df = pd.read_excel(spreadsheet_names['train'])\n",
    "train_ids = train_df.candidate_id.astype(int).tolist()\n",
    "print(\"Train Data Size: {}\".format(len(train_ids)))"
   ]
  },
  {
   "cell_type": "code",
   "execution_count": null,
   "metadata": {
    "ExecuteTime": {
     "end_time": "2018-08-31T03:33:24.789341Z",
     "start_time": "2018-08-31T03:33:24.158726Z"
    }
   },
   "outputs": [],
   "source": [
    "dev_df = pd.read_excel(spreadsheet_names['dev'])\n",
    "dev_df = dev_df[dev_df.curated_dsh.notnull()].sort_values(\"candidate_id\")\n",
    "dev_ids = list(map(int, dev_df.candidate_id.values))\n",
    "print(\"Total Hand Labeled Dev Sentences: {}\".format(len(dev_ids)))"
   ]
  },
  {
   "cell_type": "code",
   "execution_count": null,
   "metadata": {
    "ExecuteTime": {
     "end_time": "2018-08-31T03:33:24.871696Z",
     "start_time": "2018-08-31T03:33:24.790719Z"
    }
   },
   "outputs": [],
   "source": [
    "train_hand_df = pd.read_excel(spreadsheet_names['train_hand_label'])\n",
    "train_hand_df = train_hand_df[train_hand_df.curated_dsh.notnull()]\n",
    "train_hand_label_ids = train_hand_df.candidate_id.astype(int).tolist()\n",
    "print(\"Total Hand Labeled Train Sentences: {}\".format(len(train_hand_label_ids)))"
   ]
  },
  {
   "cell_type": "code",
   "execution_count": null,
   "metadata": {
    "ExecuteTime": {
     "end_time": "2018-08-31T03:36:25.171593Z",
     "start_time": "2018-08-31T03:36:18.609607Z"
    }
   },
   "outputs": [],
   "source": [
    "%%time\n",
    "labeler = LabelAnnotator(lfs=[])\n",
    "\n",
    "# Only grab candidates that have labels\n",
    "cids = session.query(Candidate.id).filter(Candidate.id.in_(train_ids))\n",
    "L_train = labeler.load_matrix(session, cids_query=cids)\n",
    "\n",
    "cids = session.query(Candidate.id).filter(Candidate.id.in_(dev_ids))\n",
    "L_dev = labeler.load_matrix(session, cids_query=cids)\n",
    "\n",
    "cids = session.query(Candidate.id).filter(Candidate.id.in_(train_hand_label_ids))\n",
    "L_train_hand_label = labeler.load_matrix(session, cids_query=cids)"
   ]
  },
  {
   "cell_type": "code",
   "execution_count": null,
   "metadata": {
    "ExecuteTime": {
     "end_time": "2018-08-31T03:36:29.402680Z",
     "start_time": "2018-08-31T03:36:29.381877Z"
    }
   },
   "outputs": [],
   "source": [
    "print(\"Total Number of Label Functions: {}\".format(L_train.shape[1]))"
   ]
  },
  {
   "cell_type": "markdown",
   "metadata": {},
   "source": [
    "# Train the Generative Model"
   ]
  },
  {
   "cell_type": "markdown",
   "metadata": {},
   "source": [
    "Here is the first step in classifying candidate sentences. We train a generative model to probabilistically label each training sentence. This means the model assigns a probability to each sentence indicating whether or not it mentions a given relatinoship (> 0.5 if yes, 0.5 < if no). The generative model snorkel uses is a [factor graph](http://deepdive.stanford.edu/assets/factor_graph.pdf) and further information on this model can be found in their paper [here](https://arxiv.org/abs/1711.10160).\n",
    "\n",
    "The following code below trains two different generative models. One model follows the assumption that each label function is independent of each other, while the other model assumes there are dependancies between each function (e.g. $L_{1}$ correlates with $L_{2}$)."
   ]
  },
  {
   "cell_type": "code",
   "execution_count": null,
   "metadata": {
    "ExecuteTime": {
     "end_time": "2018-08-31T03:37:46.585861Z",
     "start_time": "2018-08-31T03:37:46.565642Z"
    }
   },
   "outputs": [],
   "source": [
    "cg_db = get_columns(session, L_train, CG_LFS, \"CbG_DB\")\n",
    "cg_text = get_columns(session, L_train, CG_LFS, \"CbG_TEXT\")\n",
    "dg_text = get_columns(session, L_train, DG_LFS, \"DaG_TEXT\")"
   ]
  },
  {
   "cell_type": "code",
   "execution_count": null,
   "metadata": {
    "ExecuteTime": {
     "end_time": "2018-08-31T04:02:55.890031Z",
     "start_time": "2018-08-31T04:02:55.868550Z"
    }
   },
   "outputs": [],
   "source": [
    "lfs_columns = [\n",
    "    cg_text\n",
    "]\n",
    "\n",
    "model_names = [\n",
    "    \"CbG_TEXT\"\n",
    "]"
   ]
  },
  {
   "cell_type": "code",
   "execution_count": null,
   "metadata": {
    "ExecuteTime": {
     "end_time": "2018-08-31T03:38:52.648924Z",
     "start_time": "2018-08-31T03:38:31.049774Z"
    },
    "scrolled": false
   },
   "outputs": [],
   "source": [
    "indep_models = []\n",
    "for columns in lfs_columns:\n",
    "    #Conditionally independent Generative Model\n",
    "    indep_gen_model = GenerativeModel()\n",
    "    indep_gen_model.train(\n",
    "        L_train[:, columns],\n",
    "        epochs=10,\n",
    "        decay=0.95,\n",
    "        step_size=0.1 / L_train[:, columns].shape[0],\n",
    "        reg_param=1e-6,\n",
    "        threads=50,\n",
    "    )\n",
    "    indep_models.append(indep_gen_model)"
   ]
  },
  {
   "cell_type": "code",
   "execution_count": null,
   "metadata": {
    "ExecuteTime": {
     "end_time": "2018-08-31T03:40:03.731910Z",
     "start_time": "2018-08-31T03:38:52.650477Z"
    },
    "scrolled": true
   },
   "outputs": [],
   "source": [
    "dep_models = []\n",
    "for columns in lfs_columns:\n",
    "    # select the dependancies from the label matrix\n",
    "    ds = DependencySelector()\n",
    "    deps = ds.select(L_train[:, columns], threshold=0.1)\n",
    "    print(len(deps))\n",
    "\n",
    "    # Model each label function and the underlying correlation structure\n",
    "    gen_model = GenerativeModel(lf_propensity=True)\n",
    "    gen_model.train(\n",
    "        L_train[:, columns],\n",
    "        epochs=10,\n",
    "        decay=0.95,\n",
    "        step_size=0.1 / L_train[:, columns].shape[0],\n",
    "        reg_param=1e-6,\n",
    "        threads=50,\n",
    "        deps=deps\n",
    "    )\n",
    "    \n",
    "    dep_models.append(gen_model)"
   ]
  },
  {
   "cell_type": "markdown",
   "metadata": {},
   "source": [
    "# Generative Model Statistics"
   ]
  },
  {
   "cell_type": "markdown",
   "metadata": {},
   "source": [
    "Now that both models have been trained, the next step is to generate some statistics about each model. The two histograms below show a difference between both models' output. The conditionally independent model (CI) predicts more negative candidates compared to the dependancy aware model (DA)."
   ]
  },
  {
   "cell_type": "code",
   "execution_count": null,
   "metadata": {
    "ExecuteTime": {
     "end_time": "2018-08-31T04:02:17.117111Z",
     "start_time": "2018-08-31T04:01:40.801294Z"
    }
   },
   "outputs": [],
   "source": [
    "%%time \n",
    "train_marginals_indep_df = create_marginal_df(L_train, indep_models, \n",
    "                                              lfs_columns,model_names, \n",
    "                                              train_df.candidate_id.values)\n",
    "\n",
    "train_marginals_dep_df = create_marginal_df(L_train, dep_models,\n",
    "                                              lfs_columns, model_names,\n",
    "                                              train_df.candidate_id.values)"
   ]
  },
  {
   "cell_type": "code",
   "execution_count": null,
   "metadata": {
    "ExecuteTime": {
     "end_time": "2018-08-31T04:01:24.829986Z",
     "start_time": "2018-08-31T04:01:24.545584Z"
    }
   },
   "outputs": [],
   "source": [
    "plot_cand_histogram(model_names, lf_columns, train_marginals_indep_df,\n",
    "                    \"CI Training Set Marginals\", \"Probability of Positive Class\")"
   ]
  },
  {
   "cell_type": "code",
   "execution_count": null,
   "metadata": {
    "ExecuteTime": {
     "end_time": "2018-08-31T04:02:17.360900Z",
     "start_time": "2018-08-31T04:02:17.118573Z"
    }
   },
   "outputs": [],
   "source": [
    "plot_cand_histogram(model_names, lf_columns, train_marginals_dep_df,\n",
    "                    \"CI Training Set Marginals\", \"Probability of Positive Class\")"
   ]
  },
  {
   "cell_type": "markdown",
   "metadata": {},
   "source": [
    "# Training Set Statistics"
   ]
  },
  {
   "cell_type": "markdown",
   "metadata": {},
   "source": [
    "Taking a closer look into the training set predictions, we can see how each label function individually performed. The two dataframes below contain the follwoing information: number of candidate sentences a label function has labeled (coverage), number of candidate sentences a label function agreed with another label function (overlaps), number of candidates a label function disagreed with another label function (conflicts), and lastly, the accuracy each label function has after training the generative model (Learned Acc)."
   ]
  },
  {
   "cell_type": "code",
   "execution_count": null,
   "metadata": {
    "ExecuteTime": {
     "end_time": "2018-08-27T22:10:48.138136Z",
     "start_time": "2018-08-27T22:10:04.799122Z"
    },
    "scrolled": false
   },
   "outputs": [],
   "source": [
    "# Generate Statistics of Generative Model\n",
    "indep_learned_stats_df = indep_models[-1].learned_lf_stats()\n",
    "learned_stats_df = dep_models[-1].learned_lf_stats()"
   ]
  },
  {
   "cell_type": "code",
   "execution_count": null,
   "metadata": {
    "ExecuteTime": {
     "end_time": "2018-08-27T22:10:50.748880Z",
     "start_time": "2018-08-27T22:10:48.139523Z"
    },
    "scrolled": false
   },
   "outputs": [],
   "source": [
    "indep_results_df = L_train[:, lfs_columns[-1]].lf_stats(session, est_accs=indep_learned_stats_df['Accuracy'])\n",
    "indep_results_df"
   ]
  },
  {
   "cell_type": "code",
   "execution_count": null,
   "metadata": {
    "ExecuteTime": {
     "end_time": "2018-08-27T22:10:53.326158Z",
     "start_time": "2018-08-27T22:10:50.750400Z"
    },
    "scrolled": false
   },
   "outputs": [],
   "source": [
    "dep_results_df = L_train[:, lfs_columns[-1]].lf_stats(session, est_accs=learned_stats_df['Accuracy'])\n",
    "dep_results_df"
   ]
  },
  {
   "cell_type": "markdown",
   "metadata": {},
   "source": [
    "The following bar charts below depict the weights the generative model assigns to each label function. The conditional independent model relies heavily on LF_HETNET_ABSENT and LF_NO_CONCLUSION, while the dependancy aware model relies more on the database-backed label functions. Ultimately, the DA model emphasizes more postive labels compared to the CI model. "
   ]
  },
  {
   "cell_type": "code",
   "execution_count": null,
   "metadata": {
    "ExecuteTime": {
     "end_time": "2018-08-27T22:10:53.353261Z",
     "start_time": "2018-08-27T22:10:53.327981Z"
    }
   },
   "outputs": [],
   "source": [
    "test_df = pd.concat([\n",
    "    results_df[[\"Learned Acc.\"]].assign(model=\"DA\"),\n",
    "    indep_results_df[[\"Learned Acc.\"]].assign(model=\"CI\"), \n",
    "])\n",
    "test_df = test_df.reset_index()\n",
    "test_df.head(2)"
   ]
  },
  {
   "cell_type": "code",
   "execution_count": null,
   "metadata": {
    "ExecuteTime": {
     "end_time": "2018-08-27T22:10:54.040329Z",
     "start_time": "2018-08-27T22:10:53.354949Z"
    },
    "scrolled": false
   },
   "outputs": [],
   "source": [
    "fig, ax = plt.subplots(figsize=(10,11))\n",
    "sns.barplot(ax=ax,y=\"index\", x=\"Learned Acc.\", hue=\"model\", data=test_df, palette=sns.color_palette(\"muted\"))"
   ]
  },
  {
   "cell_type": "markdown",
   "metadata": {},
   "source": [
    "## F1 Score of Dev Set"
   ]
  },
  {
   "cell_type": "markdown",
   "metadata": {},
   "source": [
    "Moving from the training set, we now can look at how well these models can predict our small dev set. Looking at the chart below, the conditionally independent model doesn't perform well compared to the dependency aware model. In terms of f1 score there is about a .2 difference, which provides evidence towards the dependency model performing better."
   ]
  },
  {
   "cell_type": "code",
   "execution_count": null,
   "metadata": {
    "ExecuteTime": {
     "end_time": "2018-08-27T22:10:54.669983Z",
     "start_time": "2018-08-27T22:10:54.060230Z"
    }
   },
   "outputs": [],
   "source": [
    "indep_results = {}\n",
    "for columns, models, name in zip(lfs_columns, indep_models, model_names):\n",
    "    print(name)\n",
    "    indep_results[name] = models.error_analysis(session, L_dev[:, columns], dev_data_labels)"
   ]
  },
  {
   "cell_type": "code",
   "execution_count": null,
   "metadata": {
    "ExecuteTime": {
     "end_time": "2018-08-27T22:10:55.278011Z",
     "start_time": "2018-08-27T22:10:54.671474Z"
    }
   },
   "outputs": [],
   "source": [
    "dep_results = {}\n",
    "for columns, models, name in zip(lfs_columns, dep_models, model_names):\n",
    "    print(name)\n",
    "    dep_results[name] = models.error_analysis(session, L_dev[:, columns], dev_data_labels)"
   ]
  },
  {
   "cell_type": "code",
   "execution_count": null,
   "metadata": {
    "ExecuteTime": {
     "end_time": "2018-08-27T22:10:55.952923Z",
     "start_time": "2018-08-27T22:10:55.279547Z"
    }
   },
   "outputs": [],
   "source": [
    "dev_marginals_indep_df = create_marginal_df(L_dev, indep_models,\n",
    "                                            lfs_columns, model_names, \n",
    "                                            dev_df.candiadte_id.values)\n",
    "\n",
    "dev_marginals_dep_df = create_marginal_df(L_dev, dep_models,\n",
    "                                            lfs_columns, model_names, \n",
    "                                            dev_df.candiadte_id.values)"
   ]
  },
  {
   "cell_type": "code",
   "execution_count": null,
   "metadata": {
    "ExecuteTime": {
     "end_time": "2018-08-27T22:10:56.206280Z",
     "start_time": "2018-08-27T22:10:55.954358Z"
    }
   },
   "outputs": [],
   "source": [
    "plot_roc_curve(dev_marginals_indep_df, dev_df, model_names, \"INDEP Generative Model ROC\")"
   ]
  },
  {
   "cell_type": "code",
   "execution_count": null,
   "metadata": {
    "ExecuteTime": {
     "end_time": "2018-08-27T22:10:56.507027Z",
     "start_time": "2018-08-27T22:10:56.209325Z"
    }
   },
   "outputs": [],
   "source": [
    "plot_roc_curve(dev_marginals_dep_df, dev_df, model_names, \"DEP Generative Model ROC\")"
   ]
  },
  {
   "cell_type": "code",
   "execution_count": null,
   "metadata": {
    "ExecuteTime": {
     "end_time": "2018-08-27T22:10:56.819722Z",
     "start_time": "2018-08-27T22:10:56.508402Z"
    }
   },
   "outputs": [],
   "source": [
    "plot_pr_curve(dev_marginals_indep_df, dev_df.curated_dsh.values, model_names, \"INDEP Generative MOdel PR Curve\")"
   ]
  },
  {
   "cell_type": "code",
   "execution_count": null,
   "metadata": {},
   "outputs": [],
   "source": [
    "plot_pr_curve(dev_marginals_dep_df, dev_df.curated_dsh.values, model_names, \"DEP Generative MOdel PR Curve\")"
   ]
  },
  {
   "cell_type": "code",
   "execution_count": null,
   "metadata": {
    "ExecuteTime": {
     "end_time": "2018-08-27T22:10:56.935063Z",
     "start_time": "2018-08-27T22:10:56.823841Z"
    }
   },
   "outputs": [],
   "source": [
    "L_dev[:, lfs_columns[-1]].lf_stats(session, dev_data_labels, test_df.query(\"model=='CI'\")[\"Learned Acc.\"])"
   ]
  },
  {
   "cell_type": "markdown",
   "metadata": {},
   "source": [
    "# F1 Score of Train Hand Labeled Set"
   ]
  },
  {
   "cell_type": "markdown",
   "metadata": {},
   "source": [
    "Looking at the small hand labeled training set we can see a pretty big spike in performance. In terms of f1 score the DA model has about a 0.25 increase in performance comapred to the CI model. "
   ]
  },
  {
   "cell_type": "code",
   "execution_count": null,
   "metadata": {
    "ExecuteTime": {
     "end_time": "2018-08-27T22:10:57.134747Z",
     "start_time": "2018-08-27T22:10:57.056283Z"
    }
   },
   "outputs": [],
   "source": [
    "train_hand_labels = train_hand_df.curated_dsh.astype(int).tolist()"
   ]
  },
  {
   "cell_type": "code",
   "execution_count": null,
   "metadata": {
    "ExecuteTime": {
     "end_time": "2018-08-27T22:10:57.717504Z",
     "start_time": "2018-08-27T22:10:57.140101Z"
    },
    "scrolled": false
   },
   "outputs": [],
   "source": [
    "#tp fp tn fn\n",
    "indep_results = {}\n",
    "for columns, models, name in zip(lfs_columns, indep_models, model_names):\n",
    "    print(name)\n",
    "    indep_results[name] = models.error_analysis(session, L_train_labeled[:, columns], train_hand_labels)"
   ]
  },
  {
   "cell_type": "code",
   "execution_count": null,
   "metadata": {
    "ExecuteTime": {
     "end_time": "2018-08-27T22:10:58.184471Z",
     "start_time": "2018-08-27T22:10:57.719193Z"
    },
    "scrolled": false
   },
   "outputs": [],
   "source": [
    "dep_results = {}\n",
    "for columns, models, name in zip(lfs_columns, dep_models, model_names):\n",
    "    print(name)\n",
    "    dep_results[name] = models.error_analysis(session, L_train_labeled[:, columns], train_hand_labels)"
   ]
  },
  {
   "cell_type": "code",
   "execution_count": null,
   "metadata": {
    "ExecuteTime": {
     "end_time": "2018-08-27T22:10:58.676237Z",
     "start_time": "2018-08-27T22:10:58.186237Z"
    }
   },
   "outputs": [],
   "source": [
    "train_hand_marginals_indep_df = create_marginal_df(\n",
    "    L_train_hand_label, indep_models,\n",
    "    lfs_columns, model_names, \n",
    "    train_hand_df.candiadte_id.values\n",
    ")\n",
    "\n",
    "train_hand_marginals_dep_df = create_marginal_df(\n",
    "    L_train_hand_label, dep_models,\n",
    "    lfs_columns, model_names, \n",
    "    train_hand_df.candiadte_id.values\n",
    ")"
   ]
  },
  {
   "cell_type": "code",
   "execution_count": null,
   "metadata": {
    "ExecuteTime": {
     "end_time": "2018-08-27T22:10:58.910453Z",
     "start_time": "2018-08-27T22:10:58.677541Z"
    }
   },
   "outputs": [],
   "source": [
    "plot_roc_curve(train_hand_marginals_indep_df, train_hand_df.curated_dsh.values,\n",
    "               model_names, \"INDEP Generative Model ROC\")"
   ]
  },
  {
   "cell_type": "code",
   "execution_count": null,
   "metadata": {
    "ExecuteTime": {
     "end_time": "2018-08-27T22:10:59.156682Z",
     "start_time": "2018-08-27T22:10:58.922559Z"
    }
   },
   "outputs": [],
   "source": [
    "plot_roc_curve(train_hand_marginals_dep_df, train_hand_df.curated_dsh.values,\n",
    "               model_names, \"DEP Generative Model ROC\")"
   ]
  },
  {
   "cell_type": "code",
   "execution_count": null,
   "metadata": {
    "ExecuteTime": {
     "end_time": "2018-08-27T22:10:59.391398Z",
     "start_time": "2018-08-27T22:10:59.158069Z"
    }
   },
   "outputs": [],
   "source": [
    "plot_pr_curve(train_hand_marginals_dep_df, train_hand_df.curated_dsh.values,\n",
    "              model_names, \"DEP Generative MOdel PR Curve\")"
   ]
  },
  {
   "cell_type": "code",
   "execution_count": null,
   "metadata": {
    "ExecuteTime": {
     "end_time": "2018-08-27T22:10:59.493425Z",
     "start_time": "2018-08-27T22:10:59.392776Z"
    }
   },
   "outputs": [],
   "source": [
    "L_train_labeled[:, lfs_columns[-1]].lf_stats(session, train_hand_df.curated_dsh.astype(int).tolist(), test_df.query(\"model=='DA'\")[\"Learned Acc.\"])"
   ]
  },
  {
   "cell_type": "markdown",
   "metadata": {},
   "source": [
    "## Label Function and Datasize Experiment"
   ]
  },
  {
   "cell_type": "code",
   "execution_count": null,
   "metadata": {
    "ExecuteTime": {
     "end_time": "2018-08-31T15:58:30.849269Z",
     "start_time": "2018-08-31T15:58:30.831654Z"
    }
   },
   "outputs": [],
   "source": [
    "gen_model_history_df = pd.read_csv(\n",
    "    \"data/disease_gene/disease_associates_gene/\"+\n",
    "    \"lf_data_size_experiment/marginal_results/gen_model_marginals_history.csv\"\n",
    ")"
   ]
  },
  {
   "cell_type": "code",
   "execution_count": null,
   "metadata": {
    "ExecuteTime": {
     "end_time": "2018-08-27T22:10:56.994021Z",
     "start_time": "2018-08-27T22:10:56.974561Z"
    }
   },
   "outputs": [],
   "source": [
    "plot_roc_curve(gen_model_history_df, dev_data.curated_dsh, \n",
    "               gen_model_history_df.columns, \"ROC Curve of Generative Models\")"
   ]
  },
  {
   "cell_type": "code",
   "execution_count": null,
   "metadata": {
    "ExecuteTime": {
     "end_time": "2018-08-27T22:10:57.020938Z",
     "start_time": "2018-08-27T22:10:56.995644Z"
    }
   },
   "outputs": [],
   "source": [
    "plot_pr_curve(gen_model_history_df, dev_data.curated_dsh, \n",
    "              gen_model_history_df.columns, \"PR Curve of Generative Models\")"
   ]
  },
  {
   "cell_type": "markdown",
   "metadata": {},
   "source": [
    "## Individual Candidate Error Analysis"
   ]
  },
  {
   "cell_type": "markdown",
   "metadata": {},
   "source": [
    "Depending on which block of code is executed, the following block of code below will show which candidate sentence was incorrectly labeled. Right now the false negatives (fn) are being shown below but this could change to incorporate false positives (fp) as well."
   ]
  },
  {
   "cell_type": "code",
   "execution_count": null,
   "metadata": {
    "ExecuteTime": {
     "end_time": "2018-08-22T19:58:59.599577Z",
     "start_time": "2018-08-22T19:58:58.951530Z"
    }
   },
   "outputs": [],
   "source": [
    "from snorkel.viewer import SentenceNgramViewer\n",
    "\n",
    "# NOTE: This if-then statement is only to avoid opening the viewer during automated testing of this notebook\n",
    "# You should ignore this!\n",
    "import os\n",
    "if 'CI' not in os.environ:\n",
    "    sv = SentenceNgramViewer(indep_results['CG_ALL'][1], session)\n",
    "else:\n",
    "    sv = None"
   ]
  },
  {
   "cell_type": "code",
   "execution_count": null,
   "metadata": {
    "ExecuteTime": {
     "end_time": "2018-08-22T19:59:00.486519Z",
     "start_time": "2018-08-22T19:59:00.466574Z"
    },
    "scrolled": true
   },
   "outputs": [],
   "source": [
    "sv"
   ]
  },
  {
   "cell_type": "code",
   "execution_count": null,
   "metadata": {
    "ExecuteTime": {
     "end_time": "2018-08-22T20:06:16.474907Z",
     "start_time": "2018-08-22T20:06:15.844710Z"
    },
    "scrolled": true
   },
   "outputs": [],
   "source": [
    "c = sv.get_selected() if sv else list(fp.union(fn))[0]\n",
    "c"
   ]
  },
  {
   "cell_type": "code",
   "execution_count": null,
   "metadata": {
    "ExecuteTime": {
     "end_time": "2018-08-22T20:06:06.097480Z",
     "start_time": "2018-08-22T20:06:06.064929Z"
    },
    "scrolled": true
   },
   "outputs": [],
   "source": [
    "c.labels"
   ]
  },
  {
   "cell_type": "code",
   "execution_count": null,
   "metadata": {
    "ExecuteTime": {
     "end_time": "2018-08-22T20:06:17.886082Z",
     "start_time": "2018-08-22T20:06:17.865724Z"
    },
    "scrolled": false
   },
   "outputs": [],
   "source": [
    "train_hand_marginals_indep_df.iloc[L_train_labeled.get_row_index(c)]"
   ]
  },
  {
   "cell_type": "markdown",
   "metadata": {},
   "source": [
    "## Write Marginals of best model to File for Next Notebook"
   ]
  },
  {
   "cell_type": "markdown",
   "metadata": {},
   "source": [
    "Lastly we write out the generative model's output into a file. Reason for this will be used in the [next notebook](4.sentence-level-prediction.ipynb), where we aim to use a noise aware discriminator model to correct for the generative models' errors."
   ]
  },
  {
   "cell_type": "code",
   "execution_count": null,
   "metadata": {
    "ExecuteTime": {
     "end_time": "2018-08-06T17:52:40.400152Z",
     "start_time": "2018-08-06T17:52:40.360702Z"
    },
    "scrolled": true
   },
   "outputs": [],
   "source": [
    "best_model = \"\"\n",
    "truncated_models = [\"candidate_id\", best_model]\n",
    "train_marginals_df[truncated_models].to_csv(\"data/compound_disease/marginal_results/train_marginals.tsv\", index=False, sep=\"\\t\")\n",
    "dev_df[truncated_models].to_csv(\"data/compound_disease/marginal_results/dev_marginals.tsv\", index=False, sep=\"\\t\")\n",
    "train_hand_df[truncated_models].to_csv(\"data/compound_disease/marginal_results/train_hand_marginals.tsv\", index=False, sep=\"\\t\")"
   ]
  }
 ],
 "metadata": {
  "anaconda-cloud": {},
  "kernelspec": {
   "display_name": "Python [conda env:snorkeling]",
   "language": "python",
   "name": "conda-env-snorkeling-py"
  },
  "language_info": {
   "codemirror_mode": {
    "name": "ipython",
    "version": 3
   },
   "file_extension": ".py",
   "mimetype": "text/x-python",
   "name": "python",
   "nbconvert_exporter": "python",
   "pygments_lexer": "ipython3",
   "version": "3.6.4"
  }
 },
 "nbformat": 4,
 "nbformat_minor": 2
}
