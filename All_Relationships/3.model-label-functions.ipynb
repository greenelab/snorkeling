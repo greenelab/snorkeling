{
 "cells": [
  {
   "cell_type": "markdown",
   "metadata": {},
   "source": [
    "# Train the Generative Model for Candidate Labeling"
   ]
  },
  {
   "cell_type": "markdown",
   "metadata": {},
   "source": [
    "This notebook is designed to run a generative model that snorkel uses to probabilistically label each candidate. (1 for positive label and -1 for negative label). Using this generative model, we will test the hypothesis: **modeling correlation structure between label functions provides better precision and recall than the conditionally independent model.**"
   ]
  },
  {
   "cell_type": "markdown",
   "metadata": {},
   "source": [
    "## MUST RUN AT THE START OF EVERYTHING"
   ]
  },
  {
   "cell_type": "markdown",
   "metadata": {},
   "source": [
    "Import the necessary modules and set up the database for database operations."
   ]
  },
  {
   "cell_type": "code",
   "execution_count": 1,
   "metadata": {
    "ExecuteTime": {
     "end_time": "2018-08-20T19:26:16.432063Z",
     "start_time": "2018-08-20T19:26:15.910679Z"
    }
   },
   "outputs": [],
   "source": [
    "%load_ext autoreload\n",
    "%autoreload 2\n",
    "%matplotlib inline\n",
    "\n",
    "from collections import Counter, OrderedDict, defaultdict\n",
    "import os\n",
    "from tqdm import tqdm_notebook\n",
    "\n",
    "import matplotlib.pyplot as plt\n",
    "import numpy as np\n",
    "import pandas as pd\n",
    "import seaborn as sns\n",
    "from sklearn.metrics import average_precision_score, precision_recall_curve, roc_curve, auc, f1_score"
   ]
  },
  {
   "cell_type": "code",
   "execution_count": 2,
   "metadata": {
    "ExecuteTime": {
     "end_time": "2018-08-20T19:26:16.612519Z",
     "start_time": "2018-08-20T19:26:16.433494Z"
    }
   },
   "outputs": [],
   "source": [
    "#Set up the environment\n",
    "username = \"danich1\"\n",
    "password = \"snorkel\"\n",
    "dbname = \"pubmeddb\"\n",
    "\n",
    "#Path subject to change for different os\n",
    "database_str = \"postgresql+psycopg2://{}:{}@/{}?host=/var/run/postgresql\".format(username, password, dbname)\n",
    "os.environ['SNORKELDB'] = database_str\n",
    "\n",
    "from snorkel import SnorkelSession\n",
    "session = SnorkelSession()"
   ]
  },
  {
   "cell_type": "code",
   "execution_count": 3,
   "metadata": {
    "ExecuteTime": {
     "end_time": "2018-08-20T19:26:35.060256Z",
     "start_time": "2018-08-20T19:26:16.614199Z"
    }
   },
   "outputs": [],
   "source": [
    "from snorkel import SnorkelSession\n",
    "from snorkel.annotations import load_gold_labels\n",
    "from snorkel.annotations import FeatureAnnotator, LabelAnnotator, save_marginals\n",
    "from snorkel.learning import GenerativeModel\n",
    "from snorkel.learning.structure import DependencySelector\n",
    "from snorkel.learning.utils import MentionScorer\n",
    "from snorkel.models import Candidate, FeatureKey, candidate_subclass, Label\n",
    "from snorkel.utils import get_as_dict\n",
    "from utils.disease_gene_lf import LFS"
   ]
  },
  {
   "cell_type": "code",
   "execution_count": 4,
   "metadata": {
    "ExecuteTime": {
     "end_time": "2018-08-20T19:26:35.083486Z",
     "start_time": "2018-08-20T19:26:35.063629Z"
    }
   },
   "outputs": [],
   "source": [
    "edge_type = \"dg\""
   ]
  },
  {
   "cell_type": "code",
   "execution_count": 5,
   "metadata": {
    "ExecuteTime": {
     "end_time": "2018-08-20T19:26:35.122256Z",
     "start_time": "2018-08-20T19:26:35.084878Z"
    }
   },
   "outputs": [],
   "source": [
    "if edge_type == \"dg\":\n",
    "    DiseaseGene = candidate_subclass('DiseaseGene', ['Disease', 'Gene'])\n",
    "elif edge_type == \"gg\":\n",
    "    GeneGene = candidate_subclass('GeneGene', ['Gene1', 'Gene2'])\n",
    "elif edge_type == \"cg\":\n",
    "    CompoundGene = candidate_subclass('CompoundGene', ['Compound', 'Gene'])\n",
    "elif edge_type == \"cd\":\n",
    "    CompoundDisease = candidate_subclass('CompoundDisease', ['Compound', 'Disease'])\n",
    "else:\n",
    "    print(\"Please pick a valid edge type\")"
   ]
  },
  {
   "cell_type": "markdown",
   "metadata": {},
   "source": [
    "# Load preprocessed data "
   ]
  },
  {
   "cell_type": "markdown",
   "metadata": {},
   "source": [
    "This code will load the corresponding label matricies that were generated in the previous notebook ([Notebook 2](2.data-labeler.ipynb)). This notebook has three matricies which are broken down as follows:\n",
    "\n",
    "|Dataset|Size|Description|\n",
    "|:-----|-----|:-----|\n",
    "|L_train|50,000|Randomly sampled from our 2,700,000 training set|\n",
    "|L_dev|10,000|Randomly sampled from our 700,000 dev set. Only 200 have been hand labeled|\n",
    "|L_train_labeled|919|Have been hand labled from training set and is separate from (L_train).|"
   ]
  },
  {
   "cell_type": "code",
   "execution_count": 6,
   "metadata": {
    "ExecuteTime": {
     "end_time": "2018-08-20T19:27:35.434672Z",
     "start_time": "2018-08-20T19:26:35.124063Z"
    }
   },
   "outputs": [
    {
     "data": {
      "text/plain": [
       "[21445, 21447, 21457, 21497, 21524, 21526, 21527, 21548, 21563, 21584]"
      ]
     },
     "execution_count": 6,
     "metadata": {},
     "output_type": "execute_result"
    }
   ],
   "source": [
    "train_data_df = pd.read_excel(\"data/disease_gene/sentence_labels_26lfs_250k.xlsx\")\n",
    "train_candidate_ids = list(map(int, train_data_df.candidate_id.values))\n",
    "train_candidate_ids[0:10]"
   ]
  },
  {
   "cell_type": "code",
   "execution_count": 7,
   "metadata": {
    "ExecuteTime": {
     "end_time": "2018-08-20T19:27:37.251848Z",
     "start_time": "2018-08-20T19:27:35.436710Z"
    }
   },
   "outputs": [
    {
     "name": "stdout",
     "output_type": "stream",
     "text": [
      "Total Hand Labeled Dev Sentences: 210\n"
     ]
    }
   ],
   "source": [
    "dev_data_df = pd.read_excel(\"data/disease_gene/sentence_labels_dev.xlsx\")\n",
    "dev_data_df = dev_data_df[dev_data_df.curated_dsh.notnull()]\n",
    "dev_data_df = dev_data_df.sort_values(\"candidate_id\")\n",
    "dev_candidate_ids = list(map(int, dev_data_df.candidate_id.values))\n",
    "print(\"Total Hand Labeled Dev Sentences: {}\".format(len(dev_candidate_ids)))"
   ]
  },
  {
   "cell_type": "code",
   "execution_count": 8,
   "metadata": {
    "ExecuteTime": {
     "end_time": "2018-08-20T19:27:50.227381Z",
     "start_time": "2018-08-20T19:27:37.253365Z"
    }
   },
   "outputs": [
    {
     "name": "stdout",
     "output_type": "stream",
     "text": [
      "CPU times: user 11.8 s, sys: 68.5 ms, total: 11.8 s\n",
      "Wall time: 13 s\n"
     ]
    }
   ],
   "source": [
    "%%time\n",
    "labeler = LabelAnnotator(lfs=[])\n",
    "\n",
    "# Only grab candidates that have labels\n",
    "cids = session.query(Candidate.id).filter(Candidate.id.in_(train_candidate_ids))\n",
    "L_train = labeler.load_matrix(session, cids_query=cids)\n",
    "\n",
    "cids = session.query(Candidate.id).filter(Candidate.id.in_(dev_candidate_ids))\n",
    "L_dev = labeler.load_matrix(session,cids_query=cids)"
   ]
  },
  {
   "cell_type": "code",
   "execution_count": 9,
   "metadata": {
    "ExecuteTime": {
     "end_time": "2018-08-20T19:27:53.524973Z",
     "start_time": "2018-08-20T19:27:50.228825Z"
    }
   },
   "outputs": [],
   "source": [
    "sql = '''\n",
    "SELECT candidate_id FROM gold_label\n",
    "INNER JOIN Candidate ON Candidate.id=gold_label.candidate_id\n",
    "WHERE Candidate.split=0;\n",
    "'''\n",
    "cids = session.query(Candidate.id).filter(Candidate.id.in_([x[0] for x in session.execute(sql)]))\n",
    "L_train_labeled = labeler.load_matrix(session, cids_query=cids)\n",
    "L_train_labeled_gold = load_gold_labels(session, annotator_name='danich1', cids_query=cids)"
   ]
  },
  {
   "cell_type": "code",
   "execution_count": 10,
   "metadata": {
    "ExecuteTime": {
     "end_time": "2018-08-20T19:27:53.547083Z",
     "start_time": "2018-08-20T19:27:53.526330Z"
    }
   },
   "outputs": [
    {
     "name": "stdout",
     "output_type": "stream",
     "text": [
      "Total Number of Hand Labeled Candidates: 919\n",
      "\n",
      "Distribution of Labels:\n",
      "-1    486\n",
      " 1    433\n",
      "Name: labels, dtype: int64\n"
     ]
    }
   ],
   "source": [
    "print(\"Total Number of Hand Labeled Candidates: {}\\n\".format(L_train_labeled_gold.shape[0]))\n",
    "print(\"Distribution of Labels:\")\n",
    "print(pd.DataFrame(L_train_labeled_gold.toarray(), columns=[\"labels\"])[\"labels\"].value_counts())"
   ]
  },
  {
   "cell_type": "code",
   "execution_count": 11,
   "metadata": {
    "ExecuteTime": {
     "end_time": "2018-08-20T19:27:53.569917Z",
     "start_time": "2018-08-20T19:27:53.549862Z"
    }
   },
   "outputs": [
    {
     "name": "stdout",
     "output_type": "stream",
     "text": [
      "Total Size of Train Data: 250000\n",
      "Total Number of Label Functions: 26\n"
     ]
    }
   ],
   "source": [
    "print(\"Total Size of Train Data: {}\".format(L_train.shape[0]))\n",
    "print(\"Total Number of Label Functions: {}\".format(L_train.shape[1]))"
   ]
  },
  {
   "cell_type": "markdown",
   "metadata": {},
   "source": [
    "# Train the Generative Model"
   ]
  },
  {
   "cell_type": "markdown",
   "metadata": {},
   "source": [
    "Here is the first step in classifying candidate sentences. We train a generative model to probabilistically label each training sentence. This means the model assigns a probability to each sentence indicating whether or not it mentions a given relatinoship (> 0.5 if yes, 0.5 < if no). The generative model snorkel uses is a [factor graph](http://deepdive.stanford.edu/assets/factor_graph.pdf) and further information on this model can be found in their paper [here](https://arxiv.org/abs/1711.10160).\n",
    "\n",
    "The following code below trains two different generative models. One model follows the assumption that each label function is independent of each other, while the other model assumes there are dependancies between each function (e.g. $L_{1}$ correlates with $L_{2}$)."
   ]
  },
  {
   "cell_type": "code",
   "execution_count": 12,
   "metadata": {
    "ExecuteTime": {
     "end_time": "2018-08-20T19:33:35.964926Z",
     "start_time": "2018-08-20T19:30:19.356714Z"
    }
   },
   "outputs": [
    {
     "name": "stdout",
     "output_type": "stream",
     "text": [
      "Inferred cardinality: 2\n",
      "CPU times: user 5min 48s, sys: 660 ms, total: 5min 49s\n",
      "Wall time: 3min 16s\n"
     ]
    }
   ],
   "source": [
    "%%time\n",
    "#Conditionally independent Generative Model\n",
    "indep_gen_model = GenerativeModel()\n",
    "indep_gen_model.train(\n",
    "    L_train,\n",
    "    epochs=10,\n",
    "    decay=0.95,\n",
    "    step_size=0.1 / L_train.shape[0],\n",
    "    reg_param=1e-6,\n",
    "    threads=50,\n",
    ")"
   ]
  },
  {
   "cell_type": "code",
   "execution_count": 13,
   "metadata": {
    "ExecuteTime": {
     "end_time": "2018-08-20T19:33:59.006258Z",
     "start_time": "2018-08-20T19:33:35.966533Z"
    }
   },
   "outputs": [
    {
     "data": {
      "text/plain": [
       "145"
      ]
     },
     "execution_count": 13,
     "metadata": {},
     "output_type": "execute_result"
    }
   ],
   "source": [
    "# select the dependancies from the label matrix\n",
    "ds = DependencySelector()\n",
    "deps = ds.select(L_train, threshold=0.1)\n",
    "len(deps)"
   ]
  },
  {
   "cell_type": "code",
   "execution_count": 14,
   "metadata": {
    "ExecuteTime": {
     "end_time": "2018-08-20T19:45:47.191411Z",
     "start_time": "2018-08-20T19:33:59.008127Z"
    },
    "scrolled": true
   },
   "outputs": [
    {
     "name": "stdout",
     "output_type": "stream",
     "text": [
      "Inferred cardinality: 2\n",
      "CPU times: user 18min 28s, sys: 2.8 s, total: 18min 31s\n",
      "Wall time: 11min 48s\n"
     ]
    }
   ],
   "source": [
    "%%time\n",
    "# Model each label function and the underlying correlation structure\n",
    "gen_model = GenerativeModel(lf_propensity=True)\n",
    "gen_model.train(\n",
    "    L_train,\n",
    "    epochs=10,\n",
    "    decay=0.95,\n",
    "    step_size=0.1 / L_train.shape[0],\n",
    "    reg_param=1e-6,\n",
    "    threads=50,\n",
    "    deps=deps\n",
    ")"
   ]
  },
  {
   "cell_type": "markdown",
   "metadata": {},
   "source": [
    "# Generative Model Statistics"
   ]
  },
  {
   "cell_type": "markdown",
   "metadata": {},
   "source": [
    "Now that both models have been trained, the next step is to generate some statistics about each model. The two histograms below show a difference between both models' output. The conditionally independent model (CI) predicts more negative candidates compared to the dependancy aware model (DA)."
   ]
  },
  {
   "cell_type": "code",
   "execution_count": 15,
   "metadata": {
    "ExecuteTime": {
     "end_time": "2018-08-20T19:46:30.007073Z",
     "start_time": "2018-08-20T19:45:47.193010Z"
    },
    "scrolled": false
   },
   "outputs": [],
   "source": [
    "# Generate Statistics of Generative Model\n",
    "indep_learned_stats_df = indep_gen_model.learned_lf_stats()\n",
    "learned_stats_df = gen_model.learned_lf_stats()"
   ]
  },
  {
   "cell_type": "code",
   "execution_count": 16,
   "metadata": {
    "ExecuteTime": {
     "end_time": "2018-08-20T19:55:33.697454Z",
     "start_time": "2018-08-20T19:46:30.008426Z"
    }
   },
   "outputs": [
    {
     "name": "stdout",
     "output_type": "stream",
     "text": [
      "CPU times: user 8min 53s, sys: 732 ms, total: 8min 54s\n",
      "Wall time: 9min 3s\n"
     ]
    }
   ],
   "source": [
    "%%time \n",
    "train_marginals_indep = indep_gen_model.marginals(L_train)\n",
    "train_marginals = gen_model.marginals(L_train)"
   ]
  },
  {
   "cell_type": "code",
   "execution_count": 17,
   "metadata": {
    "ExecuteTime": {
     "end_time": "2018-08-20T19:55:33.863679Z",
     "start_time": "2018-08-20T19:55:33.699144Z"
    }
   },
   "outputs": [
    {
     "data": {
      "image/png": "[encoded data removed]",
      "text/plain": [
       "<matplotlib.figure.Figure at 0x7fe93d326ac8>"
      ]
     },
     "metadata": {},
     "output_type": "display_data"
    }
   ],
   "source": [
    "plt.hist(train_marginals_indep, bins=20)\n",
    "plt.title(\"CI Training Set Marginals\")\n",
    "plt.ylabel(\"Frequency\")\n",
    "plt.xlabel(\"Probability of Positive Class\")\n",
    "plt.show()"
   ]
  },
  {
   "cell_type": "code",
   "execution_count": 18,
   "metadata": {
    "ExecuteTime": {
     "end_time": "2018-08-20T19:55:34.025499Z",
     "start_time": "2018-08-20T19:55:33.865238Z"
    }
   },
   "outputs": [
    {
     "data": {
      "image/png": "[encoded data removed]",
      "text/plain": [
       "<matplotlib.figure.Figure at 0x7fe93d1277f0>"
      ]
     },
     "metadata": {},
     "output_type": "display_data"
    }
   ],
   "source": [
    "plt.hist(train_marginals, bins=20)\n",
    "plt.title(\"DA Training Set Marginals\")\n",
    "plt.ylabel(\"Frequency\")\n",
    "plt.xlabel(\"Probability of Positive Class\")\n",
    "plt.show()"
   ]
  },
  {
   "cell_type": "markdown",
   "metadata": {},
   "source": [
    "# Training Set Statistics"
   ]
  },
  {
   "cell_type": "markdown",
   "metadata": {},
   "source": [
    "Taking a closer look into the training set predictions, we can see how each label function individually performed. The two dataframes below contain the follwoing information: number of candidate sentences a label function has labeled (coverage), number of candidate sentences a label function agreed with another label function (overlaps), number of candidates a label function disagreed with another label function (conflicts), and lastly, the accuracy each label function has after training the generative model (Learned Acc)."
   ]
  },
  {
   "cell_type": "code",
   "execution_count": 19,
   "metadata": {
    "ExecuteTime": {
     "end_time": "2018-08-20T19:55:47.912670Z",
     "start_time": "2018-08-20T19:55:34.030402Z"
    },
    "scrolled": true
   },
   "outputs": [
    {
     "data": {
      "text/html": [
       "<div>\n",
       "<style scoped>\n",
       "    .dataframe tbody tr th:only-of-type {\n",
       "        vertical-align: middle;\n",
       "    }\n",
       "\n",
       "    .dataframe tbody tr th {\n",
       "        vertical-align: top;\n",
       "    }\n",
       "\n",
       "    .dataframe thead th {\n",
       "        text-align: right;\n",
       "    }\n",
       "</style>\n",
       "<table border=\"1\" class=\"dataframe\">\n",
       "  <thead>\n",
       "    <tr style=\"text-align: right;\">\n",
       "      <th></th>\n",
       "      <th>j</th>\n",
       "      <th>Coverage</th>\n",
       "      <th>Overlaps</th>\n",
       "      <th>Conflicts</th>\n",
       "      <th>Learned Acc.</th>\n",
       "    </tr>\n",
       "  </thead>\n",
       "  <tbody>\n",
       "    <tr>\n",
       "      <th>LF_HETNET_DISEASES</th>\n",
       "      <td>0</td>\n",
       "      <td>0.397888</td>\n",
       "      <td>0.397888</td>\n",
       "      <td>0.353992</td>\n",
       "      <td>0.751641</td>\n",
       "    </tr>\n",
       "    <tr>\n",
       "      <th>LF_HETNET_DOAF</th>\n",
       "      <td>1</td>\n",
       "      <td>0.162380</td>\n",
       "      <td>0.162380</td>\n",
       "      <td>0.139492</td>\n",
       "      <td>0.716297</td>\n",
       "    </tr>\n",
       "  </tbody>\n",
       "</table>\n",
       "</div>"
      ],
      "text/plain": [
       "                    j  Coverage  Overlaps  Conflicts  Learned Acc.\n",
       "LF_HETNET_DISEASES  0  0.397888  0.397888   0.353992      0.751641\n",
       "LF_HETNET_DOAF      1  0.162380  0.162380   0.139492      0.716297"
      ]
     },
     "execution_count": 19,
     "metadata": {},
     "output_type": "execute_result"
    }
   ],
   "source": [
    "indep_results_df = L_train.lf_stats(session, est_accs=indep_learned_stats_df['Accuracy'])\n",
    "indep_results_df.head(2)"
   ]
  },
  {
   "cell_type": "code",
   "execution_count": 20,
   "metadata": {
    "ExecuteTime": {
     "end_time": "2018-08-20T19:56:01.708899Z",
     "start_time": "2018-08-20T19:55:47.914025Z"
    },
    "scrolled": false
   },
   "outputs": [
    {
     "data": {
      "text/html": [
       "<div>\n",
       "<style scoped>\n",
       "    .dataframe tbody tr th:only-of-type {\n",
       "        vertical-align: middle;\n",
       "    }\n",
       "\n",
       "    .dataframe tbody tr th {\n",
       "        vertical-align: top;\n",
       "    }\n",
       "\n",
       "    .dataframe thead th {\n",
       "        text-align: right;\n",
       "    }\n",
       "</style>\n",
       "<table border=\"1\" class=\"dataframe\">\n",
       "  <thead>\n",
       "    <tr style=\"text-align: right;\">\n",
       "      <th></th>\n",
       "      <th>j</th>\n",
       "      <th>Coverage</th>\n",
       "      <th>Overlaps</th>\n",
       "      <th>Conflicts</th>\n",
       "      <th>Learned Acc.</th>\n",
       "    </tr>\n",
       "  </thead>\n",
       "  <tbody>\n",
       "    <tr>\n",
       "      <th>LF_HETNET_DISEASES</th>\n",
       "      <td>0</td>\n",
       "      <td>0.397888</td>\n",
       "      <td>0.397888</td>\n",
       "      <td>0.353992</td>\n",
       "      <td>0.729703</td>\n",
       "    </tr>\n",
       "    <tr>\n",
       "      <th>LF_HETNET_DOAF</th>\n",
       "      <td>1</td>\n",
       "      <td>0.162380</td>\n",
       "      <td>0.162380</td>\n",
       "      <td>0.139492</td>\n",
       "      <td>0.597461</td>\n",
       "    </tr>\n",
       "    <tr>\n",
       "      <th>LF_HETNET_DisGeNET</th>\n",
       "      <td>2</td>\n",
       "      <td>0.354628</td>\n",
       "      <td>0.354628</td>\n",
       "      <td>0.315248</td>\n",
       "      <td>0.705918</td>\n",
       "    </tr>\n",
       "    <tr>\n",
       "      <th>LF_HETNET_GWAS</th>\n",
       "      <td>3</td>\n",
       "      <td>0.046912</td>\n",
       "      <td>0.046912</td>\n",
       "      <td>0.041124</td>\n",
       "      <td>0.532967</td>\n",
       "    </tr>\n",
       "    <tr>\n",
       "      <th>LF_HETNET_ABSENT</th>\n",
       "      <td>4</td>\n",
       "      <td>0.486244</td>\n",
       "      <td>0.486244</td>\n",
       "      <td>0.347776</td>\n",
       "      <td>0.781287</td>\n",
       "    </tr>\n",
       "    <tr>\n",
       "      <th>LF_CHECK_GENE_TAG</th>\n",
       "      <td>5</td>\n",
       "      <td>0.270388</td>\n",
       "      <td>0.270388</td>\n",
       "      <td>0.230044</td>\n",
       "      <td>0.623233</td>\n",
       "    </tr>\n",
       "    <tr>\n",
       "      <th>LF_CHECK_DISEASE_TAG</th>\n",
       "      <td>6</td>\n",
       "      <td>0.370008</td>\n",
       "      <td>0.370008</td>\n",
       "      <td>0.313896</td>\n",
       "      <td>0.682183</td>\n",
       "    </tr>\n",
       "    <tr>\n",
       "      <th>LF_IS_BIOMARKER</th>\n",
       "      <td>7</td>\n",
       "      <td>0.136788</td>\n",
       "      <td>0.136788</td>\n",
       "      <td>0.118232</td>\n",
       "      <td>0.575314</td>\n",
       "    </tr>\n",
       "    <tr>\n",
       "      <th>LF_ASSOCIATION</th>\n",
       "      <td>8</td>\n",
       "      <td>0.166696</td>\n",
       "      <td>0.166696</td>\n",
       "      <td>0.135556</td>\n",
       "      <td>0.596123</td>\n",
       "    </tr>\n",
       "    <tr>\n",
       "      <th>LF_WEAK_ASSOCIATION</th>\n",
       "      <td>9</td>\n",
       "      <td>0.003196</td>\n",
       "      <td>0.003196</td>\n",
       "      <td>0.002796</td>\n",
       "      <td>0.343284</td>\n",
       "    </tr>\n",
       "    <tr>\n",
       "      <th>LF_NO_ASSOCIATION</th>\n",
       "      <td>10</td>\n",
       "      <td>0.008812</td>\n",
       "      <td>0.008812</td>\n",
       "      <td>0.007948</td>\n",
       "      <td>0.387755</td>\n",
       "    </tr>\n",
       "    <tr>\n",
       "      <th>LF_METHOD_DESC</th>\n",
       "      <td>11</td>\n",
       "      <td>0.149016</td>\n",
       "      <td>0.149016</td>\n",
       "      <td>0.127020</td>\n",
       "      <td>0.568315</td>\n",
       "    </tr>\n",
       "    <tr>\n",
       "      <th>LF_TITLE</th>\n",
       "      <td>12</td>\n",
       "      <td>0.002948</td>\n",
       "      <td>0.002948</td>\n",
       "      <td>0.002664</td>\n",
       "      <td>0.409091</td>\n",
       "    </tr>\n",
       "    <tr>\n",
       "      <th>LF_POSITIVE_DIRECTION</th>\n",
       "      <td>13</td>\n",
       "      <td>0.102524</td>\n",
       "      <td>0.102524</td>\n",
       "      <td>0.086152</td>\n",
       "      <td>0.534375</td>\n",
       "    </tr>\n",
       "    <tr>\n",
       "      <th>LF_NEGATIVE_DIRECTION</th>\n",
       "      <td>14</td>\n",
       "      <td>0.062236</td>\n",
       "      <td>0.062236</td>\n",
       "      <td>0.052692</td>\n",
       "      <td>0.507653</td>\n",
       "    </tr>\n",
       "    <tr>\n",
       "      <th>LF_DIAGNOSIS</th>\n",
       "      <td>15</td>\n",
       "      <td>0.016684</td>\n",
       "      <td>0.016684</td>\n",
       "      <td>0.014336</td>\n",
       "      <td>0.395833</td>\n",
       "    </tr>\n",
       "    <tr>\n",
       "      <th>LF_RISK</th>\n",
       "      <td>16</td>\n",
       "      <td>0.023204</td>\n",
       "      <td>0.023204</td>\n",
       "      <td>0.019252</td>\n",
       "      <td>0.375000</td>\n",
       "    </tr>\n",
       "    <tr>\n",
       "      <th>LF_PATIENT_WITH</th>\n",
       "      <td>17</td>\n",
       "      <td>0.053124</td>\n",
       "      <td>0.053124</td>\n",
       "      <td>0.049772</td>\n",
       "      <td>0.474419</td>\n",
       "    </tr>\n",
       "    <tr>\n",
       "      <th>LF_PURPOSE</th>\n",
       "      <td>18</td>\n",
       "      <td>0.006336</td>\n",
       "      <td>0.006336</td>\n",
       "      <td>0.005704</td>\n",
       "      <td>0.369863</td>\n",
       "    </tr>\n",
       "    <tr>\n",
       "      <th>LF_CONCLUSION_TITLE</th>\n",
       "      <td>19</td>\n",
       "      <td>0.040916</td>\n",
       "      <td>0.040916</td>\n",
       "      <td>0.036832</td>\n",
       "      <td>0.362319</td>\n",
       "    </tr>\n",
       "    <tr>\n",
       "      <th>LF_NO_CONCLUSION</th>\n",
       "      <td>20</td>\n",
       "      <td>0.678192</td>\n",
       "      <td>0.678192</td>\n",
       "      <td>0.540024</td>\n",
       "      <td>0.783901</td>\n",
       "    </tr>\n",
       "    <tr>\n",
       "      <th>LF_CONCLUSION</th>\n",
       "      <td>21</td>\n",
       "      <td>0.327408</td>\n",
       "      <td>0.327408</td>\n",
       "      <td>0.267992</td>\n",
       "      <td>0.671551</td>\n",
       "    </tr>\n",
       "    <tr>\n",
       "      <th>LF_DG_DISTANCE_SHORT</th>\n",
       "      <td>22</td>\n",
       "      <td>0.107676</td>\n",
       "      <td>0.107676</td>\n",
       "      <td>0.071336</td>\n",
       "      <td>0.578871</td>\n",
       "    </tr>\n",
       "    <tr>\n",
       "      <th>LF_DG_DISTANCE_LONG</th>\n",
       "      <td>23</td>\n",
       "      <td>0.110028</td>\n",
       "      <td>0.110028</td>\n",
       "      <td>0.083488</td>\n",
       "      <td>0.498516</td>\n",
       "    </tr>\n",
       "    <tr>\n",
       "      <th>LF_DG_ALLOWED_DISTANCE</th>\n",
       "      <td>24</td>\n",
       "      <td>0.508836</td>\n",
       "      <td>0.508836</td>\n",
       "      <td>0.470708</td>\n",
       "      <td>0.683783</td>\n",
       "    </tr>\n",
       "    <tr>\n",
       "      <th>LF_NO_VERB</th>\n",
       "      <td>25</td>\n",
       "      <td>0.061652</td>\n",
       "      <td>0.061652</td>\n",
       "      <td>0.050640</td>\n",
       "      <td>0.471239</td>\n",
       "    </tr>\n",
       "  </tbody>\n",
       "</table>\n",
       "</div>"
      ],
      "text/plain": [
       "                         j  Coverage  Overlaps  Conflicts  Learned Acc.\n",
       "LF_HETNET_DISEASES       0  0.397888  0.397888   0.353992      0.729703\n",
       "LF_HETNET_DOAF           1  0.162380  0.162380   0.139492      0.597461\n",
       "LF_HETNET_DisGeNET       2  0.354628  0.354628   0.315248      0.705918\n",
       "LF_HETNET_GWAS           3  0.046912  0.046912   0.041124      0.532967\n",
       "LF_HETNET_ABSENT         4  0.486244  0.486244   0.347776      0.781287\n",
       "LF_CHECK_GENE_TAG        5  0.270388  0.270388   0.230044      0.623233\n",
       "LF_CHECK_DISEASE_TAG     6  0.370008  0.370008   0.313896      0.682183\n",
       "LF_IS_BIOMARKER          7  0.136788  0.136788   0.118232      0.575314\n",
       "LF_ASSOCIATION           8  0.166696  0.166696   0.135556      0.596123\n",
       "LF_WEAK_ASSOCIATION      9  0.003196  0.003196   0.002796      0.343284\n",
       "LF_NO_ASSOCIATION       10  0.008812  0.008812   0.007948      0.387755\n",
       "LF_METHOD_DESC          11  0.149016  0.149016   0.127020      0.568315\n",
       "LF_TITLE                12  0.002948  0.002948   0.002664      0.409091\n",
       "LF_POSITIVE_DIRECTION   13  0.102524  0.102524   0.086152      0.534375\n",
       "LF_NEGATIVE_DIRECTION   14  0.062236  0.062236   0.052692      0.507653\n",
       "LF_DIAGNOSIS            15  0.016684  0.016684   0.014336      0.395833\n",
       "LF_RISK                 16  0.023204  0.023204   0.019252      0.375000\n",
       "LF_PATIENT_WITH         17  0.053124  0.053124   0.049772      0.474419\n",
       "LF_PURPOSE              18  0.006336  0.006336   0.005704      0.369863\n",
       "LF_CONCLUSION_TITLE     19  0.040916  0.040916   0.036832      0.362319\n",
       "LF_NO_CONCLUSION        20  0.678192  0.678192   0.540024      0.783901\n",
       "LF_CONCLUSION           21  0.327408  0.327408   0.267992      0.671551\n",
       "LF_DG_DISTANCE_SHORT    22  0.107676  0.107676   0.071336      0.578871\n",
       "LF_DG_DISTANCE_LONG     23  0.110028  0.110028   0.083488      0.498516\n",
       "LF_DG_ALLOWED_DISTANCE  24  0.508836  0.508836   0.470708      0.683783\n",
       "LF_NO_VERB              25  0.061652  0.061652   0.050640      0.471239"
      ]
     },
     "execution_count": 20,
     "metadata": {},
     "output_type": "execute_result"
    }
   ],
   "source": [
    "results_df = L_train.lf_stats(session, est_accs=learned_stats_df['Accuracy'])\n",
    "results_df"
   ]
  },
  {
   "cell_type": "markdown",
   "metadata": {},
   "source": [
    "The following bar charts below depict the weights the generative model assigns to each label function. The conditional independent model relies heavily on LF_HETNET_ABSENT and LF_NO_CONCLUSION, while the dependancy aware model relies more on the database-backed label functions. Ultimately, the DA model emphasizes more postive labels compared to the CI model. "
   ]
  },
  {
   "cell_type": "code",
   "execution_count": 21,
   "metadata": {
    "ExecuteTime": {
     "end_time": "2018-08-20T19:56:01.739064Z",
     "start_time": "2018-08-20T19:56:01.710975Z"
    }
   },
   "outputs": [
    {
     "data": {
      "text/html": [
       "<div>\n",
       "<style scoped>\n",
       "    .dataframe tbody tr th:only-of-type {\n",
       "        vertical-align: middle;\n",
       "    }\n",
       "\n",
       "    .dataframe tbody tr th {\n",
       "        vertical-align: top;\n",
       "    }\n",
       "\n",
       "    .dataframe thead th {\n",
       "        text-align: right;\n",
       "    }\n",
       "</style>\n",
       "<table border=\"1\" class=\"dataframe\">\n",
       "  <thead>\n",
       "    <tr style=\"text-align: right;\">\n",
       "      <th></th>\n",
       "      <th>index</th>\n",
       "      <th>Learned Acc.</th>\n",
       "      <th>model</th>\n",
       "    </tr>\n",
       "  </thead>\n",
       "  <tbody>\n",
       "    <tr>\n",
       "      <th>0</th>\n",
       "      <td>LF_HETNET_DISEASES</td>\n",
       "      <td>0.729703</td>\n",
       "      <td>DA</td>\n",
       "    </tr>\n",
       "    <tr>\n",
       "      <th>1</th>\n",
       "      <td>LF_HETNET_DOAF</td>\n",
       "      <td>0.597461</td>\n",
       "      <td>DA</td>\n",
       "    </tr>\n",
       "  </tbody>\n",
       "</table>\n",
       "</div>"
      ],
      "text/plain": [
       "                index  Learned Acc. model\n",
       "0  LF_HETNET_DISEASES      0.729703    DA\n",
       "1      LF_HETNET_DOAF      0.597461    DA"
      ]
     },
     "execution_count": 21,
     "metadata": {},
     "output_type": "execute_result"
    }
   ],
   "source": [
    "test_df = pd.concat([\n",
    "    results_df[[\"Learned Acc.\"]].assign(model=\"DA\"),\n",
    "    indep_results_df[[\"Learned Acc.\"]].assign(model=\"CI\"), \n",
    "])\n",
    "test_df = test_df.reset_index()\n",
    "test_df.head(2)"
   ]
  },
  {
   "cell_type": "code",
   "execution_count": 22,
   "metadata": {
    "ExecuteTime": {
     "end_time": "2018-08-20T19:56:02.207475Z",
     "start_time": "2018-08-20T19:56:01.740663Z"
    },
    "scrolled": false
   },
   "outputs": [
    {
     "data": {
      "text/plain": [
       "<matplotlib.axes._subplots.AxesSubplot at 0x7fe93c7936d8>"
      ]
     },
     "execution_count": 22,
     "metadata": {},
     "output_type": "execute_result"
    },
    {
     "data": {
      "image/png": "[encoded data removed]",
      "text/plain": [
       "<matplotlib.figure.Figure at 0x7fe93c774400>"
      ]
     },
     "metadata": {},
     "output_type": "display_data"
    }
   ],
   "source": [
    "fig, ax = plt.subplots(figsize=(9,7))\n",
    "sns.barplot(ax=ax,y=\"index\", x=\"Learned Acc.\", hue=\"model\", data=test_df, palette=sns.color_palette(\"muted\"))"
   ]
  },
  {
   "cell_type": "markdown",
   "metadata": {},
   "source": [
    "## F1 Score of Dev Set"
   ]
  },
  {
   "cell_type": "markdown",
   "metadata": {},
   "source": [
    "Moving from the training set, we now can look at how well these models can predict our small dev set. Looking at the chart below, the conditionally independent model doesn't perform well compared to the dependency aware model. In terms of f1 score there is about a .2 difference, which provides evidence towards the dependency model performing better."
   ]
  },
  {
   "cell_type": "code",
   "execution_count": 23,
   "metadata": {
    "ExecuteTime": {
     "end_time": "2018-08-20T19:56:02.585260Z",
     "start_time": "2018-08-20T19:56:02.209338Z"
    }
   },
   "outputs": [
    {
     "name": "stdout",
     "output_type": "stream",
     "text": [
      "========================================\n",
      "Scores (Un-adjusted)\n",
      "========================================\n",
      "Pos. class accuracy: 0.58\n",
      "Neg. class accuracy: 0.581\n",
      "Precision            0.465\n",
      "Recall               0.58\n",
      "F1                   0.516\n",
      "----------------------------------------\n",
      "TP: 47 | FP: 54 | TN: 75 | FN: 34\n",
      "========================================\n",
      "\n"
     ]
    }
   ],
   "source": [
    "_ = indep_gen_model.error_analysis(session, L_dev, dev_data_df.curated_dsh.apply(lambda x: -1 if x==0 else x).values)"
   ]
  },
  {
   "cell_type": "code",
   "execution_count": 24,
   "metadata": {
    "ExecuteTime": {
     "end_time": "2018-08-20T19:56:02.960864Z",
     "start_time": "2018-08-20T19:56:02.587781Z"
    }
   },
   "outputs": [
    {
     "name": "stdout",
     "output_type": "stream",
     "text": [
      "========================================\n",
      "Scores (Un-adjusted)\n",
      "========================================\n",
      "Pos. class accuracy: 0.531\n",
      "Neg. class accuracy: 0.62\n",
      "Precision            0.467\n",
      "Recall               0.531\n",
      "F1                   0.497\n",
      "----------------------------------------\n",
      "TP: 43 | FP: 49 | TN: 80 | FN: 38\n",
      "========================================\n",
      "\n"
     ]
    }
   ],
   "source": [
    "tp, fp, tn, fn = gen_model.error_analysis(session, L_dev, dev_data_df.curated_dsh.apply(lambda x: -1 if x==0 else x).values)"
   ]
  },
  {
   "cell_type": "code",
   "execution_count": 25,
   "metadata": {
    "ExecuteTime": {
     "end_time": "2018-08-20T19:56:03.422018Z",
     "start_time": "2018-08-20T19:56:02.962486Z"
    }
   },
   "outputs": [],
   "source": [
    "L_dev_ci_marginals = indep_gen_model.marginals(L_dev)\n",
    "L_dev_da_marginals = gen_model.marginals(L_dev)"
   ]
  },
  {
   "cell_type": "code",
   "execution_count": 26,
   "metadata": {
    "ExecuteTime": {
     "end_time": "2018-08-20T19:56:03.440187Z",
     "start_time": "2018-08-20T19:56:03.423335Z"
    }
   },
   "outputs": [],
   "source": [
    "dev_data_labels = dev_data_df.curated_dsh.replace({0:-1})"
   ]
  },
  {
   "cell_type": "code",
   "execution_count": 27,
   "metadata": {
    "ExecuteTime": {
     "end_time": "2018-08-20T19:56:03.666959Z",
     "start_time": "2018-08-20T19:56:03.442624Z"
    }
   },
   "outputs": [
    {
     "data": {
      "text/plain": [
       "<matplotlib.legend.Legend at 0x7fe93a514c18>"
      ]
     },
     "execution_count": 27,
     "metadata": {},
     "output_type": "execute_result"
    },
    {
     "data": {
      "image/png": "[encoded data removed]",
      "text/plain": [
       "<matplotlib.figure.Figure at 0x7fe93a514ef0>"
      ]
     },
     "metadata": {},
     "output_type": "display_data"
    }
   ],
   "source": [
    "positive_class = dev_data_df.curated_dsh.values.sum()/dev_data_df.shape[0]\n",
    "plt.plot([0,1], [positive_class, positive_class], color='grey', \n",
    "         linestyle='--', label='Baseline (AUC = {:0.2f})'.format(positive_class))\n",
    "\n",
    "for marginal, model_label in zip([L_dev_ci_marginals, L_dev_da_marginals], [\"CI Gen Model (AUC {:.2f})\", \"DA Gen Model (AUC {:.2f})\"]):\n",
    "    precision, recall, threshold = precision_recall_curve(dev_data_labels, marginal)\n",
    "    area = auc(recall, precision)\n",
    "    plt.plot(recall, precision, label=model_label.format(area))\n",
    "plt.title(\"Precision Recall Curve of Generative Models\")\n",
    "plt.xlabel(\"Recall\")\n",
    "plt.ylabel(\"Precision\")\n",
    "plt.legend()"
   ]
  },
  {
   "cell_type": "code",
   "execution_count": 28,
   "metadata": {
    "ExecuteTime": {
     "end_time": "2018-08-20T19:56:03.829231Z",
     "start_time": "2018-08-20T19:56:03.668485Z"
    }
   },
   "outputs": [
    {
     "data": {
      "text/plain": [
       "<matplotlib.legend.Legend at 0x7fe93c63b630>"
      ]
     },
     "execution_count": 28,
     "metadata": {},
     "output_type": "execute_result"
    },
    {
     "data": {
      "image/png": "[encoded data removed]",
      "text/plain": [
       "<matplotlib.figure.Figure at 0x7fe93c63be10>"
      ]
     },
     "metadata": {},
     "output_type": "display_data"
    }
   ],
   "source": [
    "plt.plot([0,1], [0,1], linestyle='--', color='grey')\n",
    "for marginal, model_label in zip([L_dev_ci_marginals, L_dev_da_marginals], [\"CI Gen Model (AUC {:.2f})\", \"DA Gen Model (AUC {:.2f})\"]):\n",
    "    fpr, tpr, threshold = roc_curve(dev_data_labels, marginal)\n",
    "    area = auc(fpr, tpr)\n",
    "    plt.plot(fpr, tpr, label=model_label.format(area))\n",
    "plt.title(\"ROC Curve of Generative Models\")\n",
    "plt.xlabel(\"False Positive Rate\")\n",
    "plt.ylabel(\"True Positive Rate\")\n",
    "plt.legend()"
   ]
  },
  {
   "cell_type": "code",
   "execution_count": 29,
   "metadata": {
    "ExecuteTime": {
     "end_time": "2018-08-20T19:56:03.923018Z",
     "start_time": "2018-08-20T19:56:03.830596Z"
    }
   },
   "outputs": [
    {
     "name": "stderr",
     "output_type": "stream",
     "text": [
      "/home/danich1/anaconda2/envs/snorkeling/lib/python3.6/site-packages/snorkel/annotations.py:137: RuntimeWarning: invalid value encountered in true_divide\n",
      "  ac = (tp+tn) / (tp+tn+fp+fn)\n"
     ]
    },
    {
     "data": {
      "text/html": [
       "<div>\n",
       "<style scoped>\n",
       "    .dataframe tbody tr th:only-of-type {\n",
       "        vertical-align: middle;\n",
       "    }\n",
       "\n",
       "    .dataframe tbody tr th {\n",
       "        vertical-align: top;\n",
       "    }\n",
       "\n",
       "    .dataframe thead th {\n",
       "        text-align: right;\n",
       "    }\n",
       "</style>\n",
       "<table border=\"1\" class=\"dataframe\">\n",
       "  <thead>\n",
       "    <tr style=\"text-align: right;\">\n",
       "      <th></th>\n",
       "      <th>j</th>\n",
       "      <th>Coverage</th>\n",
       "      <th>Overlaps</th>\n",
       "      <th>Conflicts</th>\n",
       "      <th>TP</th>\n",
       "      <th>FP</th>\n",
       "      <th>FN</th>\n",
       "      <th>TN</th>\n",
       "      <th>Empirical Acc.</th>\n",
       "      <th>Learned Acc.</th>\n",
       "    </tr>\n",
       "  </thead>\n",
       "  <tbody>\n",
       "    <tr>\n",
       "      <th>LF_HETNET_DISEASES</th>\n",
       "      <td>0</td>\n",
       "      <td>0.428571</td>\n",
       "      <td>0.428571</td>\n",
       "      <td>0.376190</td>\n",
       "      <td>34</td>\n",
       "      <td>56</td>\n",
       "      <td>0</td>\n",
       "      <td>0</td>\n",
       "      <td>0.377778</td>\n",
       "      <td>0.729703</td>\n",
       "    </tr>\n",
       "    <tr>\n",
       "      <th>LF_HETNET_DOAF</th>\n",
       "      <td>1</td>\n",
       "      <td>0.180952</td>\n",
       "      <td>0.180952</td>\n",
       "      <td>0.166667</td>\n",
       "      <td>17</td>\n",
       "      <td>21</td>\n",
       "      <td>0</td>\n",
       "      <td>0</td>\n",
       "      <td>0.447368</td>\n",
       "      <td>0.597461</td>\n",
       "    </tr>\n",
       "    <tr>\n",
       "      <th>LF_HETNET_DisGeNET</th>\n",
       "      <td>2</td>\n",
       "      <td>0.414286</td>\n",
       "      <td>0.414286</td>\n",
       "      <td>0.376190</td>\n",
       "      <td>38</td>\n",
       "      <td>49</td>\n",
       "      <td>0</td>\n",
       "      <td>0</td>\n",
       "      <td>0.436782</td>\n",
       "      <td>0.705918</td>\n",
       "    </tr>\n",
       "    <tr>\n",
       "      <th>LF_HETNET_GWAS</th>\n",
       "      <td>3</td>\n",
       "      <td>0.042857</td>\n",
       "      <td>0.042857</td>\n",
       "      <td>0.042857</td>\n",
       "      <td>4</td>\n",
       "      <td>5</td>\n",
       "      <td>0</td>\n",
       "      <td>0</td>\n",
       "      <td>0.444444</td>\n",
       "      <td>0.532967</td>\n",
       "    </tr>\n",
       "    <tr>\n",
       "      <th>LF_HETNET_ABSENT</th>\n",
       "      <td>4</td>\n",
       "      <td>0.438095</td>\n",
       "      <td>0.438095</td>\n",
       "      <td>0.295238</td>\n",
       "      <td>0</td>\n",
       "      <td>0</td>\n",
       "      <td>32</td>\n",
       "      <td>60</td>\n",
       "      <td>0.652174</td>\n",
       "      <td>0.781287</td>\n",
       "    </tr>\n",
       "    <tr>\n",
       "      <th>LF_CHECK_GENE_TAG</th>\n",
       "      <td>5</td>\n",
       "      <td>0.304762</td>\n",
       "      <td>0.304762</td>\n",
       "      <td>0.271429</td>\n",
       "      <td>0</td>\n",
       "      <td>0</td>\n",
       "      <td>17</td>\n",
       "      <td>47</td>\n",
       "      <td>0.734375</td>\n",
       "      <td>0.623233</td>\n",
       "    </tr>\n",
       "    <tr>\n",
       "      <th>LF_CHECK_DISEASE_TAG</th>\n",
       "      <td>6</td>\n",
       "      <td>0.309524</td>\n",
       "      <td>0.309524</td>\n",
       "      <td>0.257143</td>\n",
       "      <td>0</td>\n",
       "      <td>0</td>\n",
       "      <td>22</td>\n",
       "      <td>43</td>\n",
       "      <td>0.661538</td>\n",
       "      <td>0.682183</td>\n",
       "    </tr>\n",
       "    <tr>\n",
       "      <th>LF_IS_BIOMARKER</th>\n",
       "      <td>7</td>\n",
       "      <td>0.128571</td>\n",
       "      <td>0.128571</td>\n",
       "      <td>0.100000</td>\n",
       "      <td>12</td>\n",
       "      <td>15</td>\n",
       "      <td>0</td>\n",
       "      <td>0</td>\n",
       "      <td>0.444444</td>\n",
       "      <td>0.575314</td>\n",
       "    </tr>\n",
       "    <tr>\n",
       "      <th>LF_ASSOCIATION</th>\n",
       "      <td>8</td>\n",
       "      <td>0.142857</td>\n",
       "      <td>0.142857</td>\n",
       "      <td>0.109524</td>\n",
       "      <td>19</td>\n",
       "      <td>11</td>\n",
       "      <td>0</td>\n",
       "      <td>0</td>\n",
       "      <td>0.633333</td>\n",
       "      <td>0.596123</td>\n",
       "    </tr>\n",
       "    <tr>\n",
       "      <th>LF_WEAK_ASSOCIATION</th>\n",
       "      <td>9</td>\n",
       "      <td>0.004762</td>\n",
       "      <td>0.004762</td>\n",
       "      <td>0.004762</td>\n",
       "      <td>0</td>\n",
       "      <td>0</td>\n",
       "      <td>1</td>\n",
       "      <td>0</td>\n",
       "      <td>0.000000</td>\n",
       "      <td>0.343284</td>\n",
       "    </tr>\n",
       "    <tr>\n",
       "      <th>LF_NO_ASSOCIATION</th>\n",
       "      <td>10</td>\n",
       "      <td>0.009524</td>\n",
       "      <td>0.009524</td>\n",
       "      <td>0.009524</td>\n",
       "      <td>0</td>\n",
       "      <td>0</td>\n",
       "      <td>1</td>\n",
       "      <td>1</td>\n",
       "      <td>0.500000</td>\n",
       "      <td>0.387755</td>\n",
       "    </tr>\n",
       "    <tr>\n",
       "      <th>LF_METHOD_DESC</th>\n",
       "      <td>11</td>\n",
       "      <td>0.166667</td>\n",
       "      <td>0.166667</td>\n",
       "      <td>0.147619</td>\n",
       "      <td>0</td>\n",
       "      <td>0</td>\n",
       "      <td>6</td>\n",
       "      <td>29</td>\n",
       "      <td>0.828571</td>\n",
       "      <td>0.568315</td>\n",
       "    </tr>\n",
       "    <tr>\n",
       "      <th>LF_TITLE</th>\n",
       "      <td>12</td>\n",
       "      <td>0.000000</td>\n",
       "      <td>0.000000</td>\n",
       "      <td>0.000000</td>\n",
       "      <td>0</td>\n",
       "      <td>0</td>\n",
       "      <td>0</td>\n",
       "      <td>0</td>\n",
       "      <td>NaN</td>\n",
       "      <td>0.409091</td>\n",
       "    </tr>\n",
       "    <tr>\n",
       "      <th>LF_POSITIVE_DIRECTION</th>\n",
       "      <td>13</td>\n",
       "      <td>0.071429</td>\n",
       "      <td>0.071429</td>\n",
       "      <td>0.052381</td>\n",
       "      <td>6</td>\n",
       "      <td>9</td>\n",
       "      <td>0</td>\n",
       "      <td>0</td>\n",
       "      <td>0.400000</td>\n",
       "      <td>0.534375</td>\n",
       "    </tr>\n",
       "    <tr>\n",
       "      <th>LF_NEGATIVE_DIRECTION</th>\n",
       "      <td>14</td>\n",
       "      <td>0.057143</td>\n",
       "      <td>0.057143</td>\n",
       "      <td>0.047619</td>\n",
       "      <td>5</td>\n",
       "      <td>7</td>\n",
       "      <td>0</td>\n",
       "      <td>0</td>\n",
       "      <td>0.416667</td>\n",
       "      <td>0.507653</td>\n",
       "    </tr>\n",
       "    <tr>\n",
       "      <th>LF_DIAGNOSIS</th>\n",
       "      <td>15</td>\n",
       "      <td>0.019048</td>\n",
       "      <td>0.019048</td>\n",
       "      <td>0.019048</td>\n",
       "      <td>2</td>\n",
       "      <td>2</td>\n",
       "      <td>0</td>\n",
       "      <td>0</td>\n",
       "      <td>0.500000</td>\n",
       "      <td>0.395833</td>\n",
       "    </tr>\n",
       "    <tr>\n",
       "      <th>LF_RISK</th>\n",
       "      <td>16</td>\n",
       "      <td>0.004762</td>\n",
       "      <td>0.004762</td>\n",
       "      <td>0.004762</td>\n",
       "      <td>0</td>\n",
       "      <td>1</td>\n",
       "      <td>0</td>\n",
       "      <td>0</td>\n",
       "      <td>0.000000</td>\n",
       "      <td>0.375000</td>\n",
       "    </tr>\n",
       "    <tr>\n",
       "      <th>LF_PATIENT_WITH</th>\n",
       "      <td>17</td>\n",
       "      <td>0.038095</td>\n",
       "      <td>0.038095</td>\n",
       "      <td>0.038095</td>\n",
       "      <td>1</td>\n",
       "      <td>7</td>\n",
       "      <td>0</td>\n",
       "      <td>0</td>\n",
       "      <td>0.125000</td>\n",
       "      <td>0.474419</td>\n",
       "    </tr>\n",
       "    <tr>\n",
       "      <th>LF_PURPOSE</th>\n",
       "      <td>18</td>\n",
       "      <td>0.000000</td>\n",
       "      <td>0.000000</td>\n",
       "      <td>0.000000</td>\n",
       "      <td>0</td>\n",
       "      <td>0</td>\n",
       "      <td>0</td>\n",
       "      <td>0</td>\n",
       "      <td>NaN</td>\n",
       "      <td>0.369863</td>\n",
       "    </tr>\n",
       "    <tr>\n",
       "      <th>LF_CONCLUSION_TITLE</th>\n",
       "      <td>19</td>\n",
       "      <td>0.047619</td>\n",
       "      <td>0.047619</td>\n",
       "      <td>0.042857</td>\n",
       "      <td>9</td>\n",
       "      <td>1</td>\n",
       "      <td>0</td>\n",
       "      <td>0</td>\n",
       "      <td>0.900000</td>\n",
       "      <td>0.362319</td>\n",
       "    </tr>\n",
       "    <tr>\n",
       "      <th>LF_NO_CONCLUSION</th>\n",
       "      <td>20</td>\n",
       "      <td>0.738095</td>\n",
       "      <td>0.738095</td>\n",
       "      <td>0.595238</td>\n",
       "      <td>0</td>\n",
       "      <td>0</td>\n",
       "      <td>51</td>\n",
       "      <td>104</td>\n",
       "      <td>0.670968</td>\n",
       "      <td>0.783901</td>\n",
       "    </tr>\n",
       "    <tr>\n",
       "      <th>LF_CONCLUSION</th>\n",
       "      <td>21</td>\n",
       "      <td>0.266667</td>\n",
       "      <td>0.266667</td>\n",
       "      <td>0.209524</td>\n",
       "      <td>28</td>\n",
       "      <td>25</td>\n",
       "      <td>2</td>\n",
       "      <td>1</td>\n",
       "      <td>0.517857</td>\n",
       "      <td>0.671551</td>\n",
       "    </tr>\n",
       "    <tr>\n",
       "      <th>LF_DG_DISTANCE_SHORT</th>\n",
       "      <td>22</td>\n",
       "      <td>0.133333</td>\n",
       "      <td>0.133333</td>\n",
       "      <td>0.085714</td>\n",
       "      <td>0</td>\n",
       "      <td>0</td>\n",
       "      <td>7</td>\n",
       "      <td>21</td>\n",
       "      <td>0.750000</td>\n",
       "      <td>0.578871</td>\n",
       "    </tr>\n",
       "    <tr>\n",
       "      <th>LF_DG_DISTANCE_LONG</th>\n",
       "      <td>23</td>\n",
       "      <td>0.100000</td>\n",
       "      <td>0.100000</td>\n",
       "      <td>0.076190</td>\n",
       "      <td>0</td>\n",
       "      <td>0</td>\n",
       "      <td>6</td>\n",
       "      <td>15</td>\n",
       "      <td>0.714286</td>\n",
       "      <td>0.498516</td>\n",
       "    </tr>\n",
       "    <tr>\n",
       "      <th>LF_DG_ALLOWED_DISTANCE</th>\n",
       "      <td>24</td>\n",
       "      <td>0.500000</td>\n",
       "      <td>0.500000</td>\n",
       "      <td>0.461905</td>\n",
       "      <td>46</td>\n",
       "      <td>59</td>\n",
       "      <td>0</td>\n",
       "      <td>0</td>\n",
       "      <td>0.438095</td>\n",
       "      <td>0.683783</td>\n",
       "    </tr>\n",
       "    <tr>\n",
       "      <th>LF_NO_VERB</th>\n",
       "      <td>25</td>\n",
       "      <td>0.085714</td>\n",
       "      <td>0.085714</td>\n",
       "      <td>0.076190</td>\n",
       "      <td>0</td>\n",
       "      <td>0</td>\n",
       "      <td>1</td>\n",
       "      <td>17</td>\n",
       "      <td>0.944444</td>\n",
       "      <td>0.471239</td>\n",
       "    </tr>\n",
       "  </tbody>\n",
       "</table>\n",
       "</div>"
      ],
      "text/plain": [
       "                         j  Coverage  Overlaps  Conflicts  TP  FP  FN   TN  \\\n",
       "LF_HETNET_DISEASES       0  0.428571  0.428571   0.376190  34  56   0    0   \n",
       "LF_HETNET_DOAF           1  0.180952  0.180952   0.166667  17  21   0    0   \n",
       "LF_HETNET_DisGeNET       2  0.414286  0.414286   0.376190  38  49   0    0   \n",
       "LF_HETNET_GWAS           3  0.042857  0.042857   0.042857   4   5   0    0   \n",
       "LF_HETNET_ABSENT         4  0.438095  0.438095   0.295238   0   0  32   60   \n",
       "LF_CHECK_GENE_TAG        5  0.304762  0.304762   0.271429   0   0  17   47   \n",
       "LF_CHECK_DISEASE_TAG     6  0.309524  0.309524   0.257143   0   0  22   43   \n",
       "LF_IS_BIOMARKER          7  0.128571  0.128571   0.100000  12  15   0    0   \n",
       "LF_ASSOCIATION           8  0.142857  0.142857   0.109524  19  11   0    0   \n",
       "LF_WEAK_ASSOCIATION      9  0.004762  0.004762   0.004762   0   0   1    0   \n",
       "LF_NO_ASSOCIATION       10  0.009524  0.009524   0.009524   0   0   1    1   \n",
       "LF_METHOD_DESC          11  0.166667  0.166667   0.147619   0   0   6   29   \n",
       "LF_TITLE                12  0.000000  0.000000   0.000000   0   0   0    0   \n",
       "LF_POSITIVE_DIRECTION   13  0.071429  0.071429   0.052381   6   9   0    0   \n",
       "LF_NEGATIVE_DIRECTION   14  0.057143  0.057143   0.047619   5   7   0    0   \n",
       "LF_DIAGNOSIS            15  0.019048  0.019048   0.019048   2   2   0    0   \n",
       "LF_RISK                 16  0.004762  0.004762   0.004762   0   1   0    0   \n",
       "LF_PATIENT_WITH         17  0.038095  0.038095   0.038095   1   7   0    0   \n",
       "LF_PURPOSE              18  0.000000  0.000000   0.000000   0   0   0    0   \n",
       "LF_CONCLUSION_TITLE     19  0.047619  0.047619   0.042857   9   1   0    0   \n",
       "LF_NO_CONCLUSION        20  0.738095  0.738095   0.595238   0   0  51  104   \n",
       "LF_CONCLUSION           21  0.266667  0.266667   0.209524  28  25   2    1   \n",
       "LF_DG_DISTANCE_SHORT    22  0.133333  0.133333   0.085714   0   0   7   21   \n",
       "LF_DG_DISTANCE_LONG     23  0.100000  0.100000   0.076190   0   0   6   15   \n",
       "LF_DG_ALLOWED_DISTANCE  24  0.500000  0.500000   0.461905  46  59   0    0   \n",
       "LF_NO_VERB              25  0.085714  0.085714   0.076190   0   0   1   17   \n",
       "\n",
       "                        Empirical Acc.  Learned Acc.  \n",
       "LF_HETNET_DISEASES            0.377778      0.729703  \n",
       "LF_HETNET_DOAF                0.447368      0.597461  \n",
       "LF_HETNET_DisGeNET            0.436782      0.705918  \n",
       "LF_HETNET_GWAS                0.444444      0.532967  \n",
       "LF_HETNET_ABSENT              0.652174      0.781287  \n",
       "LF_CHECK_GENE_TAG             0.734375      0.623233  \n",
       "LF_CHECK_DISEASE_TAG          0.661538      0.682183  \n",
       "LF_IS_BIOMARKER               0.444444      0.575314  \n",
       "LF_ASSOCIATION                0.633333      0.596123  \n",
       "LF_WEAK_ASSOCIATION           0.000000      0.343284  \n",
       "LF_NO_ASSOCIATION             0.500000      0.387755  \n",
       "LF_METHOD_DESC                0.828571      0.568315  \n",
       "LF_TITLE                           NaN      0.409091  \n",
       "LF_POSITIVE_DIRECTION         0.400000      0.534375  \n",
       "LF_NEGATIVE_DIRECTION         0.416667      0.507653  \n",
       "LF_DIAGNOSIS                  0.500000      0.395833  \n",
       "LF_RISK                       0.000000      0.375000  \n",
       "LF_PATIENT_WITH               0.125000      0.474419  \n",
       "LF_PURPOSE                         NaN      0.369863  \n",
       "LF_CONCLUSION_TITLE           0.900000      0.362319  \n",
       "LF_NO_CONCLUSION              0.670968      0.783901  \n",
       "LF_CONCLUSION                 0.517857      0.671551  \n",
       "LF_DG_DISTANCE_SHORT          0.750000      0.578871  \n",
       "LF_DG_DISTANCE_LONG           0.714286      0.498516  \n",
       "LF_DG_ALLOWED_DISTANCE        0.438095      0.683783  \n",
       "LF_NO_VERB                    0.944444      0.471239  "
      ]
     },
     "execution_count": 29,
     "metadata": {},
     "output_type": "execute_result"
    }
   ],
   "source": [
    "L_dev.lf_stats(session, dev_data_labels, test_df.query(\"model=='DA'\")[\"Learned Acc.\"])"
   ]
  },
  {
   "cell_type": "markdown",
   "metadata": {},
   "source": [
    "## Comparison Between The Amount of Label Functions"
   ]
  },
  {
   "cell_type": "code",
   "execution_count": 31,
   "metadata": {
    "ExecuteTime": {
     "end_time": "2018-08-20T20:18:29.756961Z",
     "start_time": "2018-08-20T20:18:29.725911Z"
    }
   },
   "outputs": [],
   "source": [
    "gen_model_history_df = pd.read_csv(\"data/disease_gene/disease_associates_gene/gen_model_marginals_history.csv\")"
   ]
  },
  {
   "cell_type": "code",
   "execution_count": null,
   "metadata": {
    "ExecuteTime": {
     "end_time": "2018-08-20T19:56:04.096124Z",
     "start_time": "2018-08-20T19:30:33.513Z"
    }
   },
   "outputs": [],
   "source": [
    "gen_model_history_df['lfs_26_50k'] = L_dev_ci_marginals\n",
    "gen_model_history_df.head(2)"
   ]
  },
  {
   "cell_type": "code",
   "execution_count": 32,
   "metadata": {
    "ExecuteTime": {
     "end_time": "2018-08-20T20:18:34.015997Z",
     "start_time": "2018-08-20T20:18:33.830889Z"
    }
   },
   "outputs": [
    {
     "data": {
      "text/plain": [
       "<matplotlib.legend.Legend at 0x7fe93a34add8>"
      ]
     },
     "execution_count": 32,
     "metadata": {},
     "output_type": "execute_result"
    },
    {
     "data": {
      "image/png": "[encoded data removed]",
      "text/plain": [
       "<matplotlib.figure.Figure at 0x7fe93a469cf8>"
      ]
     },
     "metadata": {},
     "output_type": "display_data"
    }
   ],
   "source": [
    "positive_class = dev_data_df.curated_dsh.values.sum()/dev_data_df.shape[0]\n",
    "plt.plot([0,1], [positive_class, positive_class], color='grey', \n",
    "         linestyle='--', label='Baseline (AUC = {:0.2f})'.format(positive_class))\n",
    "\n",
    "for marginal, model_label in zip(gen_model_history_df.columns, [\"17 LFs (AUC {:.2f})\", \"26 LFs 50k (AUC {:.2f})\", \"26 LFs 250k (AUC {:.2f})\"]):\n",
    "    precision, recall, threshold = precision_recall_curve(dev_data_labels, gen_model_history_df[marginal])\n",
    "    area = auc(recall, precision)\n",
    "    plt.plot(recall, precision, label=model_label.format(area))\n",
    "plt.title(\"Precision Recall Curve of Generative Models\")\n",
    "plt.xlabel(\"Recall\")\n",
    "plt.ylabel(\"Precision\")\n",
    "plt.legend()"
   ]
  },
  {
   "cell_type": "code",
   "execution_count": 33,
   "metadata": {
    "ExecuteTime": {
     "end_time": "2018-08-20T20:18:36.466376Z",
     "start_time": "2018-08-20T20:18:36.270813Z"
    }
   },
   "outputs": [
    {
     "data": {
      "text/plain": [
       "<matplotlib.legend.Legend at 0x7fe93a2b9f98>"
      ]
     },
     "execution_count": 33,
     "metadata": {},
     "output_type": "execute_result"
    },
    {
     "data": {
      "image/png": "[encoded data removed]",
      "text/plain": [
       "<matplotlib.figure.Figure at 0x7fe93a4550f0>"
      ]
     },
     "metadata": {},
     "output_type": "display_data"
    }
   ],
   "source": [
    "plt.plot([0,1], [0,1], linestyle='--', color='grey')\n",
    "for marginal, model_label in zip(gen_model_history_df.columns, [\"17 LFs (AUC {:.2f})\", \"26 LFs 50k (AUC {:.2f})\", \"26 LFs 250k (AUC {:.2f})\"]):\n",
    "    fpr, tpr, threshold = roc_curve(dev_data_labels, gen_model_history_df[marginal])\n",
    "    area = auc(fpr, tpr)\n",
    "    plt.plot(fpr, tpr, label=model_label.format(area))\n",
    "plt.title(\"ROC Curve of Generative Models\")\n",
    "plt.xlabel(\"False Positive Rate\")\n",
    "plt.ylabel(\"True Positive Rate\")\n",
    "plt.legend()"
   ]
  },
  {
   "cell_type": "code",
   "execution_count": null,
   "metadata": {
    "ExecuteTime": {
     "end_time": "2018-08-20T19:56:04.098584Z",
     "start_time": "2018-08-20T19:30:33.518Z"
    }
   },
   "outputs": [],
   "source": [
    "gen_model_history_df.to_csv(\"data/disease_gene/gen_model_marginals_history.csv\", index=False)"
   ]
  },
  {
   "cell_type": "markdown",
   "metadata": {},
   "source": [
    "# F1 Score of Train Hand Labeled Set"
   ]
  },
  {
   "cell_type": "markdown",
   "metadata": {},
   "source": [
    "Looking at the small hand labeled training set we can see a pretty big spike in performance. In terms of f1 score the DA model has about a 0.25 increase in performance comapred to the CI model. "
   ]
  },
  {
   "cell_type": "code",
   "execution_count": null,
   "metadata": {
    "ExecuteTime": {
     "end_time": "2018-08-09T17:06:46.320548Z",
     "start_time": "2018-08-09T17:06:44.713374Z"
    },
    "scrolled": false
   },
   "outputs": [],
   "source": [
    "tp, fp, tn, fn = indep_gen_model.error_analysis(session, L_train_labeled, L_train_labeled_gold)"
   ]
  },
  {
   "cell_type": "code",
   "execution_count": null,
   "metadata": {
    "ExecuteTime": {
     "end_time": "2018-08-09T17:06:47.902841Z",
     "start_time": "2018-08-09T17:06:46.322408Z"
    },
    "scrolled": true
   },
   "outputs": [],
   "source": [
    "tp, fp, tn, fn = gen_model.error_analysis(session, L_train_labeled, L_train_labeled_gold)"
   ]
  },
  {
   "cell_type": "code",
   "execution_count": null,
   "metadata": {
    "ExecuteTime": {
     "end_time": "2018-08-09T17:06:49.931273Z",
     "start_time": "2018-08-09T17:06:47.904578Z"
    }
   },
   "outputs": [],
   "source": [
    "L_train_ci_marginals = indep_gen_model.marginals(L_train_labeled)\n",
    "L_train_da_marginals = gen_model.marginals(L_train_labeled)"
   ]
  },
  {
   "cell_type": "code",
   "execution_count": null,
   "metadata": {
    "ExecuteTime": {
     "end_time": "2018-08-09T17:06:49.951499Z",
     "start_time": "2018-08-09T17:06:49.933054Z"
    }
   },
   "outputs": [],
   "source": [
    "positive_class = sum(list(map(lambda x: 0 if x == -1 else x, L_train_labeled_gold.toarray()[:,0])))\n",
    "positive_class = positive_class/L_train_labeled_gold.shape[0]"
   ]
  },
  {
   "cell_type": "code",
   "execution_count": null,
   "metadata": {
    "ExecuteTime": {
     "end_time": "2018-08-09T17:06:50.164188Z",
     "start_time": "2018-08-09T17:06:49.952789Z"
    }
   },
   "outputs": [],
   "source": [
    "plt.plot([0,1], [positive_class, positive_class], color='grey', \n",
    "         linestyle='--', label='Baseline (AUC = {:0.2f})'.format(positive_class))\n",
    "\n",
    "for marginal, model_label in zip([L_train_ci_marginals, L_train_da_marginals], [\"CI Gen Model (AUC {:.2f})\", \"DA Gen Model (AUC {:.2f})\"]):\n",
    "    precision, recall, threshold = precision_recall_curve(L_train_labeled_gold.data, marginal)\n",
    "    area = auc(recall, precision)\n",
    "    plt.plot(recall, precision, label=model_label.format(area))\n",
    "plt.title(\"Precision Recall Curve of Generative Models\")\n",
    "plt.xlabel(\"Recall\")\n",
    "plt.ylabel(\"Precision\")\n",
    "plt.legend()"
   ]
  },
  {
   "cell_type": "code",
   "execution_count": null,
   "metadata": {
    "ExecuteTime": {
     "end_time": "2018-08-09T17:06:50.352834Z",
     "start_time": "2018-08-09T17:06:50.166545Z"
    }
   },
   "outputs": [],
   "source": [
    "plt.plot([0,1], [0,1], linestyle='--', color='grey')\n",
    "for marginal, model_label in zip([L_train_ci_marginals, L_train_da_marginals], [\"CI Gen Model (AUC {:.2f})\", \"DA Gen Model (AUC {:.2f})\"]):\n",
    "    fpr, tpr, threshold = roc_curve(L_train_labeled_gold.data, marginal)\n",
    "    area = auc(fpr, tpr)\n",
    "    plt.plot(fpr, tpr, label=model_label.format(area))\n",
    "plt.title(\"ROC Curve of Generative Models\")\n",
    "plt.xlabel(\"False Positive Rate\")\n",
    "plt.ylabel(\"True Positive Rate\")\n",
    "plt.legend()"
   ]
  },
  {
   "cell_type": "code",
   "execution_count": null,
   "metadata": {
    "ExecuteTime": {
     "end_time": "2018-08-09T17:06:50.501369Z",
     "start_time": "2018-08-09T17:06:50.359540Z"
    }
   },
   "outputs": [],
   "source": [
    "L_train_labeled.lf_stats(session, L_train_labeled_gold.data, test_df.query(\"model=='DA'\")[\"Learned Acc.\"])"
   ]
  },
  {
   "cell_type": "markdown",
   "metadata": {},
   "source": [
    "## Individual Candidate Error Analysis"
   ]
  },
  {
   "cell_type": "markdown",
   "metadata": {},
   "source": [
    "Depending on which block of code is executed, the following block of code below will show which candidate sentence was incorrectly labeled. Right now the false negatives (fn) are being shown below but this could change to incorporate false positives (fp) as well."
   ]
  },
  {
   "cell_type": "code",
   "execution_count": null,
   "metadata": {
    "ExecuteTime": {
     "end_time": "2018-07-25T14:31:49.272544Z",
     "start_time": "2018-07-25T14:31:48.036785Z"
    }
   },
   "outputs": [],
   "source": [
    "from snorkel.viewer import SentenceNgramViewer\n",
    "\n",
    "# NOTE: This if-then statement is only to avoid opening the viewer during automated testing of this notebook\n",
    "# You should ignore this!\n",
    "import os\n",
    "if 'CI' not in os.environ:\n",
    "    sv = SentenceNgramViewer(fp, session)\n",
    "else:\n",
    "    sv = None"
   ]
  },
  {
   "cell_type": "code",
   "execution_count": null,
   "metadata": {
    "ExecuteTime": {
     "end_time": "2018-07-25T14:31:49.295073Z",
     "start_time": "2018-07-25T14:31:49.274130Z"
    },
    "scrolled": true
   },
   "outputs": [],
   "source": [
    "sv"
   ]
  },
  {
   "cell_type": "code",
   "execution_count": null,
   "metadata": {
    "ExecuteTime": {
     "end_time": "2018-07-25T14:33:13.155411Z",
     "start_time": "2018-07-25T14:33:13.136599Z"
    },
    "scrolled": true
   },
   "outputs": [],
   "source": [
    "c = sv.get_selected() if sv else list(fp.union(fn))[0]\n",
    "c"
   ]
  },
  {
   "cell_type": "code",
   "execution_count": null,
   "metadata": {
    "ExecuteTime": {
     "end_time": "2018-07-25T14:33:13.181111Z",
     "start_time": "2018-07-25T14:33:13.157704Z"
    },
    "scrolled": true
   },
   "outputs": [],
   "source": [
    "c.labels"
   ]
  },
  {
   "cell_type": "code",
   "execution_count": null,
   "metadata": {
    "ExecuteTime": {
     "end_time": "2018-07-25T14:33:22.158418Z",
     "start_time": "2018-07-25T14:33:22.140216Z"
    },
    "scrolled": true
   },
   "outputs": [],
   "source": [
    "L_train_ci_marginals[L_train_labeled.get_row_index(c)]"
   ]
  },
  {
   "cell_type": "markdown",
   "metadata": {},
   "source": [
    "## Generate Excel File of Train Data"
   ]
  },
  {
   "cell_type": "markdown",
   "metadata": {},
   "source": [
    "Lastly we write out the generative model's output into a file. Reason for this will be used in the [next notebook](4.sentence-level-prediction.ipynb), where we aim to use a noise aware discriminator model to correct for the generative models' errors."
   ]
  },
  {
   "cell_type": "code",
   "execution_count": null,
   "metadata": {
    "ExecuteTime": {
     "end_time": "2018-08-09T17:08:16.117408Z",
     "start_time": "2018-08-09T17:08:16.096241Z"
    },
    "scrolled": true
   },
   "outputs": [],
   "source": [
    "def make_sentence_df(lf_matrix, marginals, pair_df):\n",
    "    rows = list()\n",
    "    for i in tqdm_notebook(range(lf_matrix.shape[0])):\n",
    "        row = OrderedDict()\n",
    "        candidate = lf_matrix.get_candidate(session, i)\n",
    "        row['candidate_id'] = candidate.id\n",
    "        row['disease'] = candidate[0].get_span()\n",
    "        row['gene'] = candidate[1].get_span()\n",
    "        row['doid_id'] = candidate.Disease_cid\n",
    "        row['entrez_gene_id'] = candidate.Gene_cid\n",
    "        row['sentence'] = candidate.get_parent().text\n",
    "        row['label'] = marginals[i]\n",
    "        rows.append(row)\n",
    "    sentence_df = pd.DataFrame(rows)\n",
    "    sentence_df['entrez_gene_id'] = sentence_df.entrez_gene_id.astype(int)\n",
    "    sentence_df = pd.merge(\n",
    "        sentence_df,\n",
    "        pair_df[[\"doid_id\", \"entrez_gene_id\", \"doid_name\", \"gene_symbol\"]],\n",
    "        on=[\"doid_id\", \"entrez_gene_id\"],\n",
    "        how=\"left\"\n",
    "    )\n",
    "    sentence_df = pd.concat([\n",
    "        sentence_df,\n",
    "        pd.DataFrame(lf_matrix.todense(), columns=list(LFS))\n",
    "    ], axis='columns')\n",
    "    return sentence_df"
   ]
  },
  {
   "cell_type": "code",
   "execution_count": null,
   "metadata": {
    "ExecuteTime": {
     "end_time": "2018-08-09T17:08:47.678392Z",
     "start_time": "2018-08-09T17:08:38.680438Z"
    }
   },
   "outputs": [],
   "source": [
    "pair_df = pd.read_csv(\"data/disease-gene-pairs-association.csv.xz\", compression='xz')\n",
    "pair_df.head(2)"
   ]
  },
  {
   "cell_type": "code",
   "execution_count": null,
   "metadata": {
    "ExecuteTime": {
     "end_time": "2018-08-09T17:31:36.365797Z",
     "start_time": "2018-08-09T17:08:47.680427Z"
    }
   },
   "outputs": [],
   "source": [
    "train_sentence_df = make_sentence_df(L_train, train_marginals_indep, pair_df)\n",
    "train_sentence_df.head(2)"
   ]
  },
  {
   "cell_type": "code",
   "execution_count": null,
   "metadata": {
    "ExecuteTime": {
     "end_time": "2018-08-09T17:33:58.053365Z",
     "start_time": "2018-08-09T17:31:36.368112Z"
    }
   },
   "outputs": [],
   "source": [
    "writer = pd.ExcelWriter('data/disease_gene/sentence-labels.xlsx')\n",
    "(train_sentence_df\n",
    "    .to_excel(writer, sheet_name='sentences', index=False)\n",
    ")\n",
    "if writer.engine == 'xlsxwriter':\n",
    "    for sheet in writer.sheets.values():\n",
    "        sheet.freeze_panes(1, 0)\n",
    "writer.close()"
   ]
  },
  {
   "cell_type": "markdown",
   "metadata": {},
   "source": [
    "## Generate Excel File of Dev Data"
   ]
  },
  {
   "cell_type": "code",
   "execution_count": null,
   "metadata": {},
   "outputs": [],
   "source": [
    "dev_sentence_df = make_sentence_df(L_dev, dev_marginals, pair_df)\n",
    "dev_sentence_df.head(2)"
   ]
  },
  {
   "cell_type": "code",
   "execution_count": null,
   "metadata": {},
   "outputs": [],
   "source": [
    "writer = pd.ExcelWriter('data/sentence-labels-dev.xlsx')\n",
    "(dev_sentence_df\n",
    "    .sample(frac=1, random_state=100)\n",
    "    .to_excel(writer, sheet_name='sentences', index=False)\n",
    ")\n",
    "if writer.engine == 'xlsxwriter':\n",
    "    for sheet in writer.sheets.values():\n",
    "        sheet.freeze_panes(1, 0)\n",
    "writer.close()"
   ]
  }
 ],
 "metadata": {
  "anaconda-cloud": {},
  "kernelspec": {
   "display_name": "Python [conda env:snorkeling]",
   "language": "python",
   "name": "conda-env-snorkeling-py"
  },
  "language_info": {
   "codemirror_mode": {
    "name": "ipython",
    "version": 3
   },
   "file_extension": ".py",
   "mimetype": "text/x-python",
   "name": "python",
   "nbconvert_exporter": "python",
   "pygments_lexer": "ipython3",
   "version": "3.6.4"
  }
 },
 "nbformat": 4,
 "nbformat_minor": 2
}
