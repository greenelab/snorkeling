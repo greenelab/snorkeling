{
 "cells": [
  {
   "cell_type": "markdown",
   "metadata": {},
   "source": [
    "# Train the Generative Model for Candidate Labeling"
   ]
  },
  {
   "cell_type": "markdown",
   "metadata": {},
   "source": [
    "This notebook is designed to run a generative model that snorkel uses to probabilistically label each candidate. (1 for positive label and -1 for negative label). Using this generative model, we will test the hypothesis: **modeling correlation structure between label functions provides better precision and recall than the conditionally independent model.**"
   ]
  },
  {
   "cell_type": "markdown",
   "metadata": {},
   "source": [
    "## MUST RUN AT THE START OF EVERYTHING"
   ]
  },
  {
   "cell_type": "markdown",
   "metadata": {},
   "source": [
    "Import the necessary modules and set up the database for database operations."
   ]
  },
  {
   "cell_type": "code",
   "execution_count": 1,
   "metadata": {},
   "outputs": [],
   "source": [
    "%load_ext autoreload\n",
    "%autoreload 2\n",
    "%matplotlib inline\n",
    "\n",
    "from collections import Counter, OrderedDict, defaultdict\n",
    "import os\n",
    "import tqdm\n",
    "\n",
    "import matplotlib.pyplot as plt\n",
    "import numpy as np\n",
    "import pandas as pd\n",
    "import seaborn as sns\n",
    "from sklearn.metrics import average_precision_score, precision_recall_curve, roc_curve, auc, f1_score"
   ]
  },
  {
   "cell_type": "code",
   "execution_count": 2,
   "metadata": {},
   "outputs": [],
   "source": [
    "#Set up the environment\n",
    "username = \"danich1\"\n",
    "password = \"snorkel\"\n",
    "dbname = \"pubmeddb\"\n",
    "\n",
    "#Path subject to change for different os\n",
    "database_str = \"postgresql+psycopg2://{}:{}@/{}?host=/var/run/postgresql\".format(username, password, dbname)\n",
    "os.environ['SNORKELDB'] = database_str\n",
    "\n",
    "from snorkel import SnorkelSession\n",
    "session = SnorkelSession()"
   ]
  },
  {
   "cell_type": "code",
   "execution_count": 3,
   "metadata": {},
   "outputs": [
    {
     "name": "stderr",
     "output_type": "stream",
     "text": [
      "/home/danich1/anaconda2/envs/snorkeling/lib/python3.6/importlib/_bootstrap.py:219: RuntimeWarning: compiletime version 3.5 of module 'tensorflow.python.framework.fast_tensor_util' does not match runtime version 3.6\n",
      "  return f(*args, **kwds)\n"
     ]
    }
   ],
   "source": [
    "from snorkel import SnorkelSession\n",
    "from snorkel.annotations import load_gold_labels\n",
    "from snorkel.annotations import FeatureAnnotator, LabelAnnotator, save_marginals\n",
    "from snorkel.learning import GenerativeModel\n",
    "from snorkel.learning.structure import DependencySelector\n",
    "from snorkel.learning.utils import MentionScorer\n",
    "from snorkel.models import Candidate, FeatureKey, candidate_subclass, Label\n",
    "from snorkel.utils import get_as_dict\n",
    "from tree_structs import corenlp_to_xmltree\n",
    "from treedlib import compile_relation_feature_generator\n",
    "from utils.disease_gene_lf import LFS"
   ]
  },
  {
   "cell_type": "code",
   "execution_count": 4,
   "metadata": {},
   "outputs": [],
   "source": [
    "edge_type = \"dg\""
   ]
  },
  {
   "cell_type": "code",
   "execution_count": 5,
   "metadata": {},
   "outputs": [],
   "source": [
    "if edge_type == \"dg\":\n",
    "    DiseaseGene = candidate_subclass('DiseaseGene', ['Disease', 'Gene'])\n",
    "elif edge_type == \"gg\":\n",
    "    GeneGene = candidate_subclass('GeneGene', ['Gene1', 'Gene2'])\n",
    "elif edge_type == \"cg\":\n",
    "    CompoundGene = candidate_subclass('CompoundGene', ['Compound', 'Gene'])\n",
    "elif edge_type == \"cd\":\n",
    "    CompoundDisease = candidate_subclass('CompoundDisease', ['Compound', 'Disease'])\n",
    "else:\n",
    "    print(\"Please pick a valid edge type\")"
   ]
  },
  {
   "cell_type": "markdown",
   "metadata": {},
   "source": [
    "# Load preprocessed data "
   ]
  },
  {
   "cell_type": "markdown",
   "metadata": {},
   "source": [
    "This code will load the corresponding label matricies that were generated in the previous notebook ([Notebook 2](2.data-labeler.ipynb)). This notebook has three matricies which are broken down as follows:\n",
    "\n",
    "|Dataset|Size|Description|\n",
    "|:-----|-----|:-----|\n",
    "|L_train|50,000|Randomly sampled from our 2,700,000 training set|\n",
    "|L_dev|10,000|Randomly sampled from our 700,000 dev set. Only 200 have been hand labeled|\n",
    "|L_train_labeled|919|Have been hand labled from training set and is separate from (L_train).|"
   ]
  },
  {
   "cell_type": "code",
   "execution_count": 6,
   "metadata": {},
   "outputs": [
    {
     "data": {
      "text/plain": [
       "[9951794,\n",
       " 904609,\n",
       " 5192262,\n",
       " 14552559,\n",
       " 16277239,\n",
       " 7513663,\n",
       " 26709637,\n",
       " 18498661,\n",
       " 31276326,\n",
       " 7508019]"
      ]
     },
     "execution_count": 6,
     "metadata": {},
     "output_type": "execute_result"
    }
   ],
   "source": [
    "train_candidate_ids = np.loadtxt('data/labeled_candidates.txt').astype(int).tolist()\n",
    "train_candidate_ids[0:10]"
   ]
  },
  {
   "cell_type": "code",
   "execution_count": 7,
   "metadata": {},
   "outputs": [
    {
     "name": "stdout",
     "output_type": "stream",
     "text": [
      "Total Hand Labeled Dev Sentences: 210\n"
     ]
    }
   ],
   "source": [
    "dev_data_df = pd.read_excel(\"data/sentence-labels-dev-hand-labeled.xlsx\")\n",
    "dev_data_df = dev_data_df[dev_data_df.curated_dsh.notnull()]\n",
    "dev_candidate_ids = list(map(int, dev_data_df.candidate_id.values))\n",
    "print(\"Total Hand Labeled Dev Sentences: {}\".format(len(dev_candidate_ids)))"
   ]
  },
  {
   "cell_type": "code",
   "execution_count": 8,
   "metadata": {},
   "outputs": [
    {
     "name": "stdout",
     "output_type": "stream",
     "text": [
      "CPU times: user 2.34 s, sys: 8.26 ms, total: 2.35 s\n",
      "Wall time: 2.64 s\n"
     ]
    }
   ],
   "source": [
    "%%time\n",
    "labeler = LabelAnnotator(lfs=[])\n",
    "\n",
    "# Only grab candidates that have labels\n",
    "cids = session.query(Candidate.id).filter(Candidate.id.in_(train_candidate_ids))\n",
    "L_train = labeler.load_matrix(session, cids_query=cids)\n",
    "\n",
    "cids = session.query(Candidate.id).filter(Candidate.id.in_(dev_candidate_ids))\n",
    "L_dev = labeler.load_matrix(session,cids_query=cids)"
   ]
  },
  {
   "cell_type": "code",
   "execution_count": 9,
   "metadata": {},
   "outputs": [],
   "source": [
    "sql = '''\n",
    "SELECT candidate_id FROM gold_label\n",
    "INNER JOIN Candidate ON Candidate.id=gold_label.candidate_id\n",
    "WHERE Candidate.split=0;\n",
    "'''\n",
    "cids = session.query(Candidate.id).filter(Candidate.id.in_([x[0] for x in session.execute(sql)]))\n",
    "L_train_labeled = labeler.load_matrix(session, cids_query=cids)\n",
    "L_train_labeled_gold = load_gold_labels(session, annotator_name='danich1', cids_query=cids)"
   ]
  },
  {
   "cell_type": "code",
   "execution_count": 10,
   "metadata": {},
   "outputs": [
    {
     "name": "stdout",
     "output_type": "stream",
     "text": [
      "Total Number of Hand Labeled Candidates: 919\n",
      "\n",
      "Distribution of Labels:\n",
      "-1    473\n",
      " 1    446\n",
      "Name: labels, dtype: int64\n"
     ]
    }
   ],
   "source": [
    "print(\"Total Number of Hand Labeled Candidates: {}\\n\".format(L_train_labeled_gold.shape[0]))\n",
    "print(\"Distribution of Labels:\")\n",
    "print(pd.DataFrame(L_train_labeled_gold.toarray(), columns=[\"labels\"])[\"labels\"].value_counts())"
   ]
  },
  {
   "cell_type": "code",
   "execution_count": 11,
   "metadata": {},
   "outputs": [
    {
     "name": "stdout",
     "output_type": "stream",
     "text": [
      "Total Size of Train Data: 50000\n",
      "Total Number of Label Functions: 17\n"
     ]
    }
   ],
   "source": [
    "print(\"Total Size of Train Data: {}\".format(L_train.shape[0]))\n",
    "print(\"Total Number of Label Functions: {}\".format(L_train.shape[1]))"
   ]
  },
  {
   "cell_type": "markdown",
   "metadata": {},
   "source": [
    "# Train the Generative Model"
   ]
  },
  {
   "cell_type": "markdown",
   "metadata": {},
   "source": [
    "Here is the first step in classifying candidate sentences. We train a generative model to probabilistically label each training sentence. This means the model assigns a probability to each sentence indicating whether or not it mentions a given relatinoship (> 0.5 if yes, 0.5 < if no). The generative model snorkel uses is a [factor graph](http://deepdive.stanford.edu/assets/factor_graph.pdf) and further information on this model can be found in their paper [here](https://arxiv.org/abs/1711.10160).\n",
    "\n",
    "The following code below trains two different generative models. One model follows the assumption that each label function is independent of each other, while the other model assumes there are dependancies between each function (e.g. $L_{1}$ correlates with $L_{2}$)."
   ]
  },
  {
   "cell_type": "code",
   "execution_count": 12,
   "metadata": {},
   "outputs": [
    {
     "name": "stdout",
     "output_type": "stream",
     "text": [
      "Inferred cardinality: 2\n",
      "CPU times: user 1min 34s, sys: 80.7 ms, total: 1min 34s\n",
      "Wall time: 38.8 s\n"
     ]
    }
   ],
   "source": [
    "%%time\n",
    "#Conditionally independent Generative Model\n",
    "indep_gen_model = GenerativeModel()\n",
    "indep_gen_model.train(\n",
    "    L_train,\n",
    "    epochs=30,\n",
    "    decay=0.95,\n",
    "    step_size=0.1 / L_train.shape[0],\n",
    "    reg_param=1e-6,\n",
    "    threads=50,\n",
    ")"
   ]
  },
  {
   "cell_type": "code",
   "execution_count": 13,
   "metadata": {},
   "outputs": [
    {
     "data": {
      "text/plain": [
       "61"
      ]
     },
     "execution_count": 13,
     "metadata": {},
     "output_type": "execute_result"
    }
   ],
   "source": [
    "# select the dependancies from the label matrix\n",
    "ds = DependencySelector()\n",
    "deps = ds.select(L_train, threshold=0.1)\n",
    "len(deps)"
   ]
  },
  {
   "cell_type": "code",
   "execution_count": 14,
   "metadata": {
    "scrolled": true
   },
   "outputs": [
    {
     "name": "stdout",
     "output_type": "stream",
     "text": [
      "Inferred cardinality: 2\n",
      "CPU times: user 3min 21s, sys: 251 ms, total: 3min 21s\n",
      "Wall time: 1min 32s\n"
     ]
    }
   ],
   "source": [
    "%%time\n",
    "# Model each label function and the underlying correlation structure\n",
    "gen_model = GenerativeModel(lf_propensity=True)\n",
    "gen_model.train(\n",
    "    L_train,\n",
    "    epochs=30,\n",
    "    decay=0.95,\n",
    "    step_size=0.1 / L_train.shape[0],\n",
    "    reg_param=1e-6,\n",
    "    threads=50,\n",
    "    deps=deps\n",
    ")"
   ]
  },
  {
   "cell_type": "markdown",
   "metadata": {},
   "source": [
    "# Generative Model Statistics"
   ]
  },
  {
   "cell_type": "markdown",
   "metadata": {},
   "source": [
    "Now that both models have been trained, the next step is to generate some statistics about each model. The two histograms below show a difference between both models' output. The conditionally independent model (CI) predicts more negative candidates compared to the dependancy aware model (DA)."
   ]
  },
  {
   "cell_type": "code",
   "execution_count": 15,
   "metadata": {
    "scrolled": false
   },
   "outputs": [],
   "source": [
    "# Generate Statistics of Generative Model\n",
    "indep_learned_stats_df = indep_gen_model.learned_lf_stats()\n",
    "learned_stats_df = gen_model.learned_lf_stats()"
   ]
  },
  {
   "cell_type": "code",
   "execution_count": 16,
   "metadata": {},
   "outputs": [
    {
     "name": "stdout",
     "output_type": "stream",
     "text": [
      "CPU times: user 1min 32s, sys: 34.5 ms, total: 1min 32s\n",
      "Wall time: 1min 32s\n"
     ]
    }
   ],
   "source": [
    "%%time \n",
    "train_marginals_indep = indep_gen_model.marginals(L_train)\n",
    "train_marginals = gen_model.marginals(L_train)"
   ]
  },
  {
   "cell_type": "code",
   "execution_count": 17,
   "metadata": {},
   "outputs": [
    {
     "data": {
      "image/png": "[encoded data removed]",
      "text/plain": [
       "<matplotlib.figure.Figure at 0x7f72ecff2400>"
      ]
     },
     "metadata": {},
     "output_type": "display_data"
    }
   ],
   "source": [
    "plt.hist(train_marginals_indep, bins=20)\n",
    "plt.title(\"CI Training Set Marginals\")\n",
    "plt.ylabel(\"Frequency\")\n",
    "plt.xlabel(\"Probability of Positive Class\")\n",
    "plt.show()"
   ]
  },
  {
   "cell_type": "code",
   "execution_count": 18,
   "metadata": {},
   "outputs": [
    {
     "data": {
      "image/png": "[encoded data removed]",
      "text/plain": [
       "<matplotlib.figure.Figure at 0x7f72ed1466a0>"
      ]
     },
     "metadata": {},
     "output_type": "display_data"
    }
   ],
   "source": [
    "plt.hist(train_marginals, bins=20)\n",
    "plt.title(\"DA Training Set Marginals\")\n",
    "plt.ylabel(\"Frequency\")\n",
    "plt.xlabel(\"Probability of Positive Class\")\n",
    "plt.show()"
   ]
  },
  {
   "cell_type": "markdown",
   "metadata": {},
   "source": [
    "# Training Set Statistics"
   ]
  },
  {
   "cell_type": "markdown",
   "metadata": {},
   "source": [
    "Taking a closer look into the training set predictions, we can see how each label function individually performed. The two dataframes below contain the follwoing information: number of candidate sentences a label function has labeled (coverage), number of candidate sentences a label function agreed with another label function (overlaps), number of candidates a label function disagreed with another label function (conflicts), and lastly, the accuracy each label function has after training the generative model (Learned Acc)."
   ]
  },
  {
   "cell_type": "code",
   "execution_count": 19,
   "metadata": {},
   "outputs": [
    {
     "data": {
      "text/html": [
       "<div>\n",
       "<style scoped>\n",
       "    .dataframe tbody tr th:only-of-type {\n",
       "        vertical-align: middle;\n",
       "    }\n",
       "\n",
       "    .dataframe tbody tr th {\n",
       "        vertical-align: top;\n",
       "    }\n",
       "\n",
       "    .dataframe thead th {\n",
       "        text-align: right;\n",
       "    }\n",
       "</style>\n",
       "<table border=\"1\" class=\"dataframe\">\n",
       "  <thead>\n",
       "    <tr style=\"text-align: right;\">\n",
       "      <th></th>\n",
       "      <th>j</th>\n",
       "      <th>Coverage</th>\n",
       "      <th>Overlaps</th>\n",
       "      <th>Conflicts</th>\n",
       "      <th>Learned Acc.</th>\n",
       "    </tr>\n",
       "  </thead>\n",
       "  <tbody>\n",
       "    <tr>\n",
       "      <th>LF_HETNET_DISEASES</th>\n",
       "      <td>0</td>\n",
       "      <td>0.40212</td>\n",
       "      <td>0.40212</td>\n",
       "      <td>0.37532</td>\n",
       "      <td>0.598868</td>\n",
       "    </tr>\n",
       "    <tr>\n",
       "      <th>LF_HETNET_DOAF</th>\n",
       "      <td>1</td>\n",
       "      <td>0.16650</td>\n",
       "      <td>0.16650</td>\n",
       "      <td>0.15156</td>\n",
       "      <td>0.593266</td>\n",
       "    </tr>\n",
       "  </tbody>\n",
       "</table>\n",
       "</div>"
      ],
      "text/plain": [
       "                    j  Coverage  Overlaps  Conflicts  Learned Acc.\n",
       "LF_HETNET_DISEASES  0   0.40212   0.40212    0.37532      0.598868\n",
       "LF_HETNET_DOAF      1   0.16650   0.16650    0.15156      0.593266"
      ]
     },
     "execution_count": 19,
     "metadata": {},
     "output_type": "execute_result"
    }
   ],
   "source": [
    "indep_results_df = L_train.lf_stats(session, est_accs=indep_learned_stats_df['Accuracy'])\n",
    "indep_results_df.head(2)"
   ]
  },
  {
   "cell_type": "code",
   "execution_count": 20,
   "metadata": {
    "scrolled": true
   },
   "outputs": [
    {
     "data": {
      "text/html": [
       "<div>\n",
       "<style scoped>\n",
       "    .dataframe tbody tr th:only-of-type {\n",
       "        vertical-align: middle;\n",
       "    }\n",
       "\n",
       "    .dataframe tbody tr th {\n",
       "        vertical-align: top;\n",
       "    }\n",
       "\n",
       "    .dataframe thead th {\n",
       "        text-align: right;\n",
       "    }\n",
       "</style>\n",
       "<table border=\"1\" class=\"dataframe\">\n",
       "  <thead>\n",
       "    <tr style=\"text-align: right;\">\n",
       "      <th></th>\n",
       "      <th>j</th>\n",
       "      <th>Coverage</th>\n",
       "      <th>Overlaps</th>\n",
       "      <th>Conflicts</th>\n",
       "      <th>Learned Acc.</th>\n",
       "    </tr>\n",
       "  </thead>\n",
       "  <tbody>\n",
       "    <tr>\n",
       "      <th>LF_HETNET_DISEASES</th>\n",
       "      <td>0</td>\n",
       "      <td>0.40212</td>\n",
       "      <td>0.40212</td>\n",
       "      <td>0.37532</td>\n",
       "      <td>0.649209</td>\n",
       "    </tr>\n",
       "    <tr>\n",
       "      <th>LF_HETNET_DOAF</th>\n",
       "      <td>1</td>\n",
       "      <td>0.16650</td>\n",
       "      <td>0.16650</td>\n",
       "      <td>0.15156</td>\n",
       "      <td>0.606175</td>\n",
       "    </tr>\n",
       "  </tbody>\n",
       "</table>\n",
       "</div>"
      ],
      "text/plain": [
       "                    j  Coverage  Overlaps  Conflicts  Learned Acc.\n",
       "LF_HETNET_DISEASES  0   0.40212   0.40212    0.37532      0.649209\n",
       "LF_HETNET_DOAF      1   0.16650   0.16650    0.15156      0.606175"
      ]
     },
     "execution_count": 20,
     "metadata": {},
     "output_type": "execute_result"
    }
   ],
   "source": [
    "results_df = L_train.lf_stats(session, est_accs=learned_stats_df['Accuracy'])\n",
    "results_df.head(2)"
   ]
  },
  {
   "cell_type": "markdown",
   "metadata": {},
   "source": [
    "The following bar charts below depict the weights the generative model assigns to each label function. The conditional independent model relies heavily on two negative functions, while the dependancy aware model has similar characteristics. Both LF_HETNET_ABSENT AND LF_NO_CONCLUIONS have the highest weight while the distribution of positive functions between both models differs. "
   ]
  },
  {
   "cell_type": "code",
   "execution_count": 21,
   "metadata": {},
   "outputs": [
    {
     "data": {
      "text/html": [
       "<div>\n",
       "<style scoped>\n",
       "    .dataframe tbody tr th:only-of-type {\n",
       "        vertical-align: middle;\n",
       "    }\n",
       "\n",
       "    .dataframe tbody tr th {\n",
       "        vertical-align: top;\n",
       "    }\n",
       "\n",
       "    .dataframe thead th {\n",
       "        text-align: right;\n",
       "    }\n",
       "</style>\n",
       "<table border=\"1\" class=\"dataframe\">\n",
       "  <thead>\n",
       "    <tr style=\"text-align: right;\">\n",
       "      <th></th>\n",
       "      <th>index</th>\n",
       "      <th>Learned Acc.</th>\n",
       "      <th>model</th>\n",
       "    </tr>\n",
       "  </thead>\n",
       "  <tbody>\n",
       "    <tr>\n",
       "      <th>0</th>\n",
       "      <td>LF_HETNET_DISEASES</td>\n",
       "      <td>0.649209</td>\n",
       "      <td>DA</td>\n",
       "    </tr>\n",
       "    <tr>\n",
       "      <th>1</th>\n",
       "      <td>LF_HETNET_DOAF</td>\n",
       "      <td>0.606175</td>\n",
       "      <td>DA</td>\n",
       "    </tr>\n",
       "  </tbody>\n",
       "</table>\n",
       "</div>"
      ],
      "text/plain": [
       "                index  Learned Acc. model\n",
       "0  LF_HETNET_DISEASES      0.649209    DA\n",
       "1      LF_HETNET_DOAF      0.606175    DA"
      ]
     },
     "execution_count": 21,
     "metadata": {},
     "output_type": "execute_result"
    }
   ],
   "source": [
    "test_df = pd.concat([\n",
    "    results_df[[\"Learned Acc.\"]].assign(model=\"DA\"),\n",
    "    indep_results_df[[\"Learned Acc.\"]].assign(model=\"CI\"), \n",
    "])\n",
    "test_df = test_df.reset_index()\n",
    "test_df.head(2)"
   ]
  },
  {
   "cell_type": "code",
   "execution_count": 22,
   "metadata": {
    "scrolled": false
   },
   "outputs": [
    {
     "data": {
      "text/plain": [
       "<matplotlib.axes._subplots.AxesSubplot at 0x7f72e8700e80>"
      ]
     },
     "execution_count": 22,
     "metadata": {},
     "output_type": "execute_result"
    },
    {
     "data": {
      "image/png": "[encoded data removed]",
      "text/plain": [
       "<matplotlib.figure.Figure at 0x7f72e8700208>"
      ]
     },
     "metadata": {},
     "output_type": "display_data"
    }
   ],
   "source": [
    "fig, ax = plt.subplots(figsize=(9,7))\n",
    "sns.barplot(ax=ax,y=\"index\", x=\"Learned Acc.\", hue=\"model\", data=test_df, palette=sns.color_palette(\"muted\"))"
   ]
  },
  {
   "cell_type": "markdown",
   "metadata": {},
   "source": [
    "## F1 Score of Dev Set"
   ]
  },
  {
   "cell_type": "markdown",
   "metadata": {},
   "source": [
    "Moving from the training set, we now can look at how well these models can predict our small dev set. Looking at the chart below, the conditionally independent model doesn't perform well compared to the dependency aware model. In terms of f1 score there is about a .2 difference, which provides evidence towards the dependency model performing better."
   ]
  },
  {
   "cell_type": "code",
   "execution_count": 23,
   "metadata": {},
   "outputs": [
    {
     "name": "stdout",
     "output_type": "stream",
     "text": [
      "========================================\n",
      "Scores (Un-adjusted)\n",
      "========================================\n",
      "Pos. class accuracy: 0.0741\n",
      "Neg. class accuracy: 0.907\n",
      "Precision            0.333\n",
      "Recall               0.0741\n",
      "F1                   0.121\n",
      "----------------------------------------\n",
      "TP: 6 | FP: 12 | TN: 117 | FN: 75\n",
      "========================================\n",
      "\n"
     ]
    }
   ],
   "source": [
    "_ = indep_gen_model.error_analysis(session, L_dev, dev_data_df.curated_dsh.apply(lambda x: -1 if x==0 else x).values)"
   ]
  },
  {
   "cell_type": "code",
   "execution_count": 24,
   "metadata": {},
   "outputs": [
    {
     "name": "stdout",
     "output_type": "stream",
     "text": [
      "========================================\n",
      "Scores (Un-adjusted)\n",
      "========================================\n",
      "Pos. class accuracy: 0.259\n",
      "Neg. class accuracy: 0.62\n",
      "Precision            0.3\n",
      "Recall               0.259\n",
      "F1                   0.278\n",
      "----------------------------------------\n",
      "TP: 21 | FP: 49 | TN: 80 | FN: 60\n",
      "========================================\n",
      "\n"
     ]
    }
   ],
   "source": [
    "tp, fp, tn, fn = gen_model.error_analysis(session, L_dev, dev_data_df.curated_dsh.apply(lambda x: -1 if x==0 else x).values)"
   ]
  },
  {
   "cell_type": "code",
   "execution_count": 25,
   "metadata": {},
   "outputs": [],
   "source": [
    "L_dev_ci_marginals = indep_gen_model.marginals(L_dev)\n",
    "L_dev_da_marginals = gen_model.marginals(L_dev)"
   ]
  },
  {
   "cell_type": "code",
   "execution_count": 26,
   "metadata": {},
   "outputs": [],
   "source": [
    "dev_data_labels = dev_data_df.curated_dsh.replace({0:-1})"
   ]
  },
  {
   "cell_type": "code",
   "execution_count": 27,
   "metadata": {},
   "outputs": [
    {
     "data": {
      "text/plain": [
       "<matplotlib.legend.Legend at 0x7f72e8549080>"
      ]
     },
     "execution_count": 27,
     "metadata": {},
     "output_type": "execute_result"
    },
    {
     "data": {
      "image/png": "[encoded data removed]",
      "text/plain": [
       "<matplotlib.figure.Figure at 0x7f72e85492b0>"
      ]
     },
     "metadata": {},
     "output_type": "display_data"
    }
   ],
   "source": [
    "for marginal, model_label in zip([L_dev_ci_marginals, L_dev_da_marginals], [\"CI Gen Model (AUC {:.2f})\", \"DA Gen Model (AUC {:.2f})\"]):\n",
    "    precision, recall, threshold = precision_recall_curve(dev_data_labels, marginal)\n",
    "    area = auc(recall, precision)\n",
    "    plt.plot(recall, precision, label=model_label.format(area))\n",
    "plt.title(\"Precision Recall Curve of Generative Models\")\n",
    "plt.xlabel(\"Recall\")\n",
    "plt.ylabel(\"Precision\")\n",
    "plt.legend()"
   ]
  },
  {
   "cell_type": "code",
   "execution_count": 28,
   "metadata": {},
   "outputs": [
    {
     "data": {
      "text/plain": [
       "<matplotlib.legend.Legend at 0x7f72e850c400>"
      ]
     },
     "execution_count": 28,
     "metadata": {},
     "output_type": "execute_result"
    },
    {
     "data": {
      "image/png": "[encoded data removed]",
      "text/plain": [
       "<matplotlib.figure.Figure at 0x7f72e850c4a8>"
      ]
     },
     "metadata": {},
     "output_type": "display_data"
    }
   ],
   "source": [
    "plt.plot([0,1], [0,1], linestyle='--', color='grey')\n",
    "for marginal, model_label in zip([L_dev_ci_marginals, L_dev_da_marginals], [\"CI Gen Model (AUC {:.2f})\", \"DA Gen Model (AUC {:.2f})\"]):\n",
    "    tpr, fpr, threshold = roc_curve(dev_data_labels, marginal)\n",
    "    area = auc(fpr, tpr)\n",
    "    plt.plot(fpr, tpr, label=model_label.format(area))\n",
    "plt.title(\"ROC Curve of Generative Models\")\n",
    "plt.xlabel(\"False Positive Rate\")\n",
    "plt.ylabel(\"True Positive Rate\")\n",
    "plt.legend()"
   ]
  },
  {
   "cell_type": "markdown",
   "metadata": {},
   "source": [
    "# F1 Score of Train Hand Labeled Set"
   ]
  },
  {
   "cell_type": "markdown",
   "metadata": {},
   "source": [
    "Looking at the small hand labeled training set we can see a pretty big spike in performance. In terms of f1 score the DA model has about a 0.3 increase in performance comapred to the CI model. "
   ]
  },
  {
   "cell_type": "code",
   "execution_count": 29,
   "metadata": {},
   "outputs": [
    {
     "name": "stdout",
     "output_type": "stream",
     "text": [
      "========================================\n",
      "Scores (Un-adjusted)\n",
      "========================================\n",
      "Pos. class accuracy: 0.209\n",
      "Neg. class accuracy: 0.947\n",
      "Precision            0.788\n",
      "Recall               0.209\n",
      "F1                   0.33\n",
      "----------------------------------------\n",
      "TP: 93 | FP: 25 | TN: 448 | FN: 353\n",
      "========================================\n",
      "\n"
     ]
    }
   ],
   "source": [
    "_ = indep_gen_model.error_analysis(session, L_train_labeled, L_train_labeled_gold)"
   ]
  },
  {
   "cell_type": "code",
   "execution_count": 30,
   "metadata": {
    "scrolled": true
   },
   "outputs": [
    {
     "name": "stdout",
     "output_type": "stream",
     "text": [
      "========================================\n",
      "Scores (Un-adjusted)\n",
      "========================================\n",
      "Pos. class accuracy: 0.592\n",
      "Neg. class accuracy: 0.717\n",
      "Precision            0.663\n",
      "Recall               0.592\n",
      "F1                   0.626\n",
      "----------------------------------------\n",
      "TP: 264 | FP: 134 | TN: 339 | FN: 182\n",
      "========================================\n",
      "\n"
     ]
    }
   ],
   "source": [
    "tp, fp, tn, fn = gen_model.error_analysis(session, L_train_labeled, L_train_labeled_gold)"
   ]
  },
  {
   "cell_type": "code",
   "execution_count": 31,
   "metadata": {},
   "outputs": [],
   "source": [
    "L_train_ci_marginals = indep_gen_model.marginals(L_train_labeled)\n",
    "L_train_da_marginals = gen_model.marginals(L_train_labeled)"
   ]
  },
  {
   "cell_type": "code",
   "execution_count": 32,
   "metadata": {},
   "outputs": [
    {
     "data": {
      "text/plain": [
       "<matplotlib.legend.Legend at 0x7f72e8575fd0>"
      ]
     },
     "execution_count": 32,
     "metadata": {},
     "output_type": "execute_result"
    },
    {
     "data": {
      "image/png": "[encoded data removed]",
      "text/plain": [
       "<matplotlib.figure.Figure at 0x7f72e8575f28>"
      ]
     },
     "metadata": {},
     "output_type": "display_data"
    }
   ],
   "source": [
    "for marginal, model_label in zip([L_train_ci_marginals, L_train_da_marginals], [\"CI Gen Model (AUC {:.2f})\", \"DA Gen Model (AUC {:.2f})\"]):\n",
    "    precision, recall, threshold = precision_recall_curve(L_train_labeled_gold.data, marginal)\n",
    "    area = auc(recall, precision)\n",
    "    plt.plot(recall, precision, label=model_label.format(area))\n",
    "plt.title(\"Precision Recall Curve of Generative Models\")\n",
    "plt.xlabel(\"Recall\")\n",
    "plt.ylabel(\"Precision\")\n",
    "plt.legend()"
   ]
  },
  {
   "cell_type": "code",
   "execution_count": 33,
   "metadata": {},
   "outputs": [
    {
     "data": {
      "text/plain": [
       "<matplotlib.legend.Legend at 0x7f72e8370550>"
      ]
     },
     "execution_count": 33,
     "metadata": {},
     "output_type": "execute_result"
    },
    {
     "data": {
      "image/png": "[encoded data removed]",
      "text/plain": [
       "<matplotlib.figure.Figure at 0x7f72e8370780>"
      ]
     },
     "metadata": {},
     "output_type": "display_data"
    }
   ],
   "source": [
    "plt.plot([0,1], [0,1], linestyle='--', color='grey')\n",
    "for marginal, model_label in zip([L_train_ci_marginals, L_train_da_marginals], [\"CI Gen Model (AUC {:.2f})\", \"DA Gen Model (AUC {:.2f})\"]):\n",
    "    tpr, fpr, threshold = roc_curve(L_train_labeled_gold.data, marginal)\n",
    "    area = auc(fpr, tpr)\n",
    "    plt.plot(fpr, tpr, label=model_label.format(area))\n",
    "plt.title(\"ROC Curve of Generative Models\")\n",
    "plt.xlabel(\"False Positive Rate\")\n",
    "plt.ylabel(\"True Positive Rate\")\n",
    "plt.legend()"
   ]
  },
  {
   "cell_type": "markdown",
   "metadata": {},
   "source": [
    "## Individual Candidate Error Analysis"
   ]
  },
  {
   "cell_type": "markdown",
   "metadata": {},
   "source": [
    "Depending on which block of code is executed, the following block of code below will show which candidate sentence was incorrectly labeled. Right now the false negatives (fn) are being shown below but this could change to incorporate false positives (fp) as well."
   ]
  },
  {
   "cell_type": "code",
   "execution_count": 34,
   "metadata": {},
   "outputs": [
    {
     "data": {
      "application/javascript": [
       "require.undef('viewer');\n",
       "\n",
       "// NOTE: all elements should be selected using this.$el.find to avoid collisions with other Viewers\n",
       "\n",
       "define('viewer', [\"@jupyter-widgets/base\"], function(widgets) {\n",
       "    var ViewerView = widgets.DOMWidgetView.extend({\n",
       "        render: function() {\n",
       "            this.cids   = this.model.get('cids');\n",
       "            this.nPages = this.cids.length;\n",
       "            this.pid  = 0;\n",
       "            this.cxid = 0;\n",
       "            this.cid  = 0;\n",
       "\n",
       "            // Insert the html payload\n",
       "            this.$el.append(this.model.get('html'));\n",
       "\n",
       "            // Initialize all labels from previous sessions\n",
       "            this.labels = this.deserializeDict(this.model.get('_labels_serialized'));\n",
       "            for (var i=0; i < this.nPages; i++) {\n",
       "                this.pid = i;\n",
       "                for (var j=0; j < this.cids[i].length; j++) {\n",
       "                    this.cxid = j;\n",
       "                    for (var k=0; k < this.cids[i][j].length; k++) {\n",
       "                        this.cid = k;\n",
       "                        if (this.cids[i][j][k] in this.labels) {\n",
       "                            this.markCurrentCandidate(false);\n",
       "                        }\n",
       "                    }\n",
       "                }\n",
       "            }\n",
       "            this.pid  = 0;\n",
       "            this.cxid = 0;\n",
       "            this.cid  = 0;\n",
       "\n",
       "            // Enable button functionality for navigation\n",
       "            var that = this;\n",
       "            this.$el.find(\"#next-cand\").click(function() {\n",
       "                that.switchCandidate(1);\n",
       "            });\n",
       "            this.$el.find(\"#prev-cand\").click(function() {\n",
       "                that.switchCandidate(-1);\n",
       "            });\n",
       "            this.$el.find(\"#next-context\").click(function() {\n",
       "                that.switchContext(1);\n",
       "            });\n",
       "            this.$el.find(\"#prev-context\").click(function() {\n",
       "                that.switchContext(-1);\n",
       "            });\n",
       "            this.$el.find(\"#next-page\").click(function() {\n",
       "                that.switchPage(1);\n",
       "            });\n",
       "            this.$el.find(\"#prev-page\").click(function() {\n",
       "                that.switchPage(-1);\n",
       "            });\n",
       "            this.$el.find(\"#label-true\").click(function() {\n",
       "                that.labelCandidate(true, true);\n",
       "            });\n",
       "            this.$el.find(\"#label-false\").click(function() {\n",
       "                that.labelCandidate(false, true);\n",
       "            });\n",
       "\n",
       "            // Arrow key functionality\n",
       "            this.$el.keydown(function(e) {\n",
       "                switch(e.which) {\n",
       "                    case 74: // j\n",
       "                    that.switchCandidate(-1);\n",
       "                    break;\n",
       "\n",
       "                    case 73: // i\n",
       "                    that.switchPage(-1);\n",
       "                    break;\n",
       "\n",
       "                    case 76: // l\n",
       "                    that.switchCandidate(1);\n",
       "                    break;\n",
       "\n",
       "                    case 75: // k\n",
       "                    that.switchPage(1);\n",
       "                    break;\n",
       "\n",
       "                    case 84: // t\n",
       "                    that.labelCandidate(true, true);\n",
       "                    break;\n",
       "\n",
       "                    case 70: // f\n",
       "                    that.labelCandidate(false, true);\n",
       "                    break;\n",
       "                }\n",
       "            });\n",
       "\n",
       "            // Show the first page and highlight the first candidate\n",
       "            this.$el.find(\"#viewer-page-0\").show();\n",
       "            this.switchCandidate(0);\n",
       "        },\n",
       "\n",
       "        // Get candidate selector for currently selected candidate, escaping id properly\n",
       "        getCandidate: function() {\n",
       "            return this.$el.find(\".\"+this.cids[this.pid][this.cxid][this.cid]);\n",
       "        },  \n",
       "\n",
       "        // Color the candidate correctly according to registered label, as well as set highlighting\n",
       "        markCurrentCandidate: function(highlight) {\n",
       "            var cid  = this.cids[this.pid][this.cxid][this.cid];\n",
       "            var tags = this.$el.find(\".\"+cid);\n",
       "\n",
       "            // Clear color classes\n",
       "            tags.removeClass(\"candidate-h\");\n",
       "            tags.removeClass(\"true-candidate\");\n",
       "            tags.removeClass(\"true-candidate-h\");\n",
       "            tags.removeClass(\"false-candidate\");\n",
       "            tags.removeClass(\"false-candidate-h\");\n",
       "            tags.removeClass(\"highlighted\");\n",
       "\n",
       "            if (highlight) {\n",
       "                if (cid in this.labels) {\n",
       "                    tags.addClass(String(this.labels[cid]) + \"-candidate-h\");\n",
       "                } else {\n",
       "                    tags.addClass(\"candidate-h\");\n",
       "                }\n",
       "            \n",
       "            // If un-highlighting, leave with first non-null coloring\n",
       "            } else {\n",
       "                var that = this;\n",
       "                tags.each(function() {\n",
       "                    var cids = $(this).attr('class').split(/\\s+/).map(function(item) {\n",
       "                        return parseInt(item);\n",
       "                    });\n",
       "                    cids.sort();\n",
       "                    for (var i in cids) {\n",
       "                        if (cids[i] in that.labels) {\n",
       "                            var label = that.labels[cids[i]];\n",
       "                            $(this).addClass(String(label) + \"-candidate\");\n",
       "                            $(this).removeClass(String(!label) + \"-candidate\");\n",
       "                            break;\n",
       "                        }\n",
       "                    }\n",
       "                });\n",
       "            }\n",
       "\n",
       "            // Extra highlighting css\n",
       "            if (highlight) {\n",
       "                tags.addClass(\"highlighted\");\n",
       "            }\n",
       "\n",
       "            // Classes for showing direction of relation\n",
       "            if (highlight) {\n",
       "                this.$el.find(\".\"+cid+\"-0\").addClass(\"left-candidate\");\n",
       "                this.$el.find(\".\"+cid+\"-1\").addClass(\"right-candidate\");\n",
       "            } else {\n",
       "                this.$el.find(\".\"+cid+\"-0\").removeClass(\"left-candidate\");\n",
       "                this.$el.find(\".\"+cid+\"-1\").removeClass(\"right-candidate\");\n",
       "            }\n",
       "        },\n",
       "\n",
       "        // Cycle through candidates and highlight, by increment inc\n",
       "        switchCandidate: function(inc) {\n",
       "            var N = this.cids[this.pid].length\n",
       "            var M = this.cids[this.pid][this.cxid].length;\n",
       "            if (N == 0 || M == 0) { return false; }\n",
       "\n",
       "            // Clear highlighting from previous candidate\n",
       "            if (inc != 0) {\n",
       "                this.markCurrentCandidate(false);\n",
       "\n",
       "                // Increment the cid counter\n",
       "\n",
       "                // Move to next context\n",
       "                if (this.cid + inc >= M) {\n",
       "                    while (this.cid + inc >= M) {\n",
       "                        \n",
       "                        // At last context on page, halt\n",
       "                        if (this.cxid == N - 1) {\n",
       "                            this.cid = M - 1;\n",
       "                            inc = 0;\n",
       "                            break;\n",
       "                        \n",
       "                        // Increment to next context\n",
       "                        } else {\n",
       "                            inc -= M - this.cid;\n",
       "                            this.cxid += 1;\n",
       "                            M = this.cids[this.pid][this.cxid].length;\n",
       "                            this.cid = 0;\n",
       "                        }\n",
       "                    }\n",
       "\n",
       "                // Move to previous context\n",
       "                } else if (this.cid + inc < 0) {\n",
       "                    while (this.cid + inc < 0) {\n",
       "                        \n",
       "                        // At first context on page, halt\n",
       "                        if (this.cxid == 0) {\n",
       "                            this.cid = 0;\n",
       "                            inc = 0;\n",
       "                            break;\n",
       "                        \n",
       "                        // Increment to previous context\n",
       "                        } else {\n",
       "                            inc += this.cid + 1;\n",
       "                            this.cxid -= 1;\n",
       "                            M = this.cids[this.pid][this.cxid].length;\n",
       "                            this.cid = M - 1;\n",
       "                        }\n",
       "                    }\n",
       "                }\n",
       "\n",
       "                // Move within current context\n",
       "                this.cid += inc;\n",
       "            }\n",
       "            this.markCurrentCandidate(true);\n",
       "\n",
       "            // Push this new cid to the model\n",
       "            this.model.set('_selected_cid', this.cids[this.pid][this.cxid][this.cid]);\n",
       "            this.touch();\n",
       "        },\n",
       "\n",
       "        // Switch through contexts\n",
       "        switchContext: function(inc) {\n",
       "            this.markCurrentCandidate(false);\n",
       "\n",
       "            // Iterate context on this page\n",
       "            var M = this.cids[this.pid].length;\n",
       "            if (this.cxid + inc < 0) {\n",
       "                this.cxid = 0;\n",
       "            } else if (this.cxid + inc >= M) {\n",
       "                this.cxid = M - 1;\n",
       "            } else {\n",
       "                this.cxid += inc;\n",
       "            }\n",
       "\n",
       "            // Reset cid and set to first candidate\n",
       "            this.cid = 0;\n",
       "            this.switchCandidate(0);\n",
       "        },\n",
       "\n",
       "        // Switch through pages\n",
       "        switchPage: function(inc) {\n",
       "            this.markCurrentCandidate(false);\n",
       "            this.$el.find(\".viewer-page\").hide();\n",
       "            if (this.pid + inc < 0) {\n",
       "                this.pid = 0;\n",
       "            } else if (this.pid + inc > this.nPages - 1) {\n",
       "                this.pid = this.nPages - 1;\n",
       "            } else {\n",
       "                this.pid += inc;\n",
       "            }\n",
       "            this.$el.find(\"#viewer-page-\"+this.pid).show();\n",
       "\n",
       "            // Show pagination\n",
       "            this.$el.find(\"#page\").html(this.pid);\n",
       "\n",
       "            // Reset cid and set to first candidate\n",
       "            this.cid = 0;\n",
       "            this.cxid = 0;\n",
       "            this.switchCandidate(0);\n",
       "        },\n",
       "\n",
       "        // Label currently-selected candidate\n",
       "        labelCandidate: function(label, highlighted) {\n",
       "            var c    = this.getCandidate();\n",
       "            var cid  = this.cids[this.pid][this.cxid][this.cid];\n",
       "            var cl   = String(label) + \"-candidate\";\n",
       "            var clh  = String(label) + \"-candidate-h\";\n",
       "            var cln  = String(!label) + \"-candidate\";\n",
       "            var clnh = String(!label) + \"-candidate-h\";\n",
       "\n",
       "            // Toggle label highlighting\n",
       "            if (c.hasClass(cl) || c.hasClass(clh)) {\n",
       "                c.removeClass(cl);\n",
       "                c.removeClass(clh);\n",
       "                if (highlighted) {\n",
       "                    c.addClass(\"candidate-h\");\n",
       "                }\n",
       "                this.labels[cid] = null;\n",
       "                this.send({event: 'delete_label', cid: cid});\n",
       "            } else {\n",
       "                c.removeClass(cln);\n",
       "                c.removeClass(clnh);\n",
       "                if (highlighted) {\n",
       "                    c.addClass(clh);\n",
       "                } else {\n",
       "                    c.addClass(cl);\n",
       "                }\n",
       "                this.labels[cid] = label;\n",
       "                this.send({event: 'set_label', cid: cid, value: label});\n",
       "            }\n",
       "\n",
       "            // Set the label and pass back to the model\n",
       "            this.model.set('_labels_serialized', this.serializeDict(this.labels));\n",
       "            this.touch();\n",
       "        },\n",
       "\n",
       "        // Serialization of hash maps, because traitlets Dict doesn't seem to work...\n",
       "        serializeDict: function(d) {\n",
       "            var s = [];\n",
       "            for (var key in d) {\n",
       "                s.push(key+\"~~\"+d[key]);\n",
       "            }\n",
       "            return s.join();\n",
       "        },\n",
       "\n",
       "        // Deserialization of hash maps\n",
       "        deserializeDict: function(s) {\n",
       "            var d = {};\n",
       "            var entries = s.split(/,/);\n",
       "            var kv;\n",
       "            for (var i in entries) {\n",
       "                kv = entries[i].split(/~~/);\n",
       "                if (kv[1] == \"true\") {\n",
       "                    d[kv[0]] = true;\n",
       "                } else if (kv[1] == \"false\") {\n",
       "                    d[kv[0]] = false;\n",
       "                }\n",
       "            }\n",
       "            return d;\n",
       "        },\n",
       "    });\n",
       "\n",
       "    return {\n",
       "        ViewerView: ViewerView\n",
       "    };\n",
       "});\n"
      ],
      "text/plain": [
       "<IPython.core.display.Javascript object>"
      ]
     },
     "metadata": {},
     "output_type": "display_data"
    }
   ],
   "source": [
    "from snorkel.viewer import SentenceNgramViewer\n",
    "\n",
    "# NOTE: This if-then statement is only to avoid opening the viewer during automated testing of this notebook\n",
    "# You should ignore this!\n",
    "import os\n",
    "if 'CI' not in os.environ:\n",
    "    sv = SentenceNgramViewer(fn, session)\n",
    "else:\n",
    "    sv = None"
   ]
  },
  {
   "cell_type": "code",
   "execution_count": 35,
   "metadata": {
    "scrolled": false
   },
   "outputs": [
    {
     "data": {
      "application/vnd.jupyter.widget-view+json": {
       "model_id": "669a61b8ed284d3ebf656f734fcfc6df",
       "version_major": 2,
       "version_minor": 0
      },
      "text/html": [
       "<p>Failed to display Jupyter Widget of type <code>SentenceNgramViewer</code>.</p>\n",
       "<p>\n",
       "  If you're reading this message in the Jupyter Notebook or JupyterLab Notebook, it may mean\n",
       "  that the widgets JavaScript is still loading. If this message persists, it\n",
       "  likely means that the widgets JavaScript library is either not installed or\n",
       "  not enabled. See the <a href=\"https://ipywidgets.readthedocs.io/en/stable/user_install.html\">Jupyter\n",
       "  Widgets Documentation</a> for setup instructions.\n",
       "</p>\n",
       "<p>\n",
       "  If you're reading this message in another frontend (for example, a static\n",
       "  rendering on GitHub or <a href=\"https://nbviewer.jupyter.org/\">NBViewer</a>),\n",
       "  it may mean that your frontend doesn't currently support widgets.\n",
       "</p>\n"
      ],
      "text/plain": [
       "SentenceNgramViewer(cids=[[[114], [56, 57, 58, 177, 178, 179], [23]], [[163, 164], [22], [43]], [[113], [55], [13]], [[162], [154, 155, 156, 157], [5]], [[37], [42], [54]], [[0], [39], [87]], [[138, 139], [82], [25]], [[19], [103], [26]], [[132], [46], [11]], [[61, 62], [6], [74]], [[53, 119, 176], [148, 151], [134]], [[76, 77], [34], [159]], [[133], [88, 89], [170]], [[144, 145, 146], [95], [167]], [[181], [160, 161], [102]], [[108], [44, 98], [110]], [[65], [80], [166, 171]], [[135], [30], [93]], [[24], [3], [16]], [[71], [101], [117, 172]], [[75], [81], [27]], [[50], [33, 97], [92]], [[66], [99], [49]], [[169], [9], [140]], [[72], [115, 116], [149]], [[131], [136], [4]], [[105], [21], [165]], [[158], [17], [59, 141, 142]], [[1], [52], [41, 118, 143]], [[51], [84], [12, 96]], [[28, 124], [109], [35]], [[78, 94], [83], [168]], [[20, 153], [10], [126]], [[111, 125], [64, 112, 123], [15]], [[2], [47, 48], [18]], [[73], [173], [130, 137]], [[40], [104, 106, 107], [86]], [[32], [60], [14]], [[29], [127, 128, 129], [7, 8]], [[90], [91], [69]], [[147], [79], [36]], [[85], [120, 122], [38, 152]], [[121], [31], [174]], [[68], [175], [150]], [[70], [67], [100]], [[180], [45], [63]]], html='<head>\\n<style>\\nspan.candidate {\\n    background-color: rgba(255,255,0,0.3);\\n}\\n\\nspan.candidate-h {\\n    background-color: rgba(255,255,0,1.0);\\n}\\n\\nspan.true-candidate {\\n    background-color: rgba(92,184,92,0.3);\\n}\\n\\nspan.true-candidate-h {\\n    background-color: rgba(92,184,92,1.0);\\n}\\n\\nspan.false-candidate {\\n    background-color: rgba(169,68,66,0.3);\\n}\\n\\nspan.false-candidate-h {\\n    background-color: rgba(169,68,66,1.0);\\n}\\n\\nspan.highlighted {\\n    font-weight: bolder;\\n    box-shadow: 1px 1px 1px grey;\\n}\\n\\nspan.left-candidate {\\n    color: red;\\n}\\n\\nspan.right-candidate {\\n    color: blue;\\n}\\n\\nspan.gold-annotation {\\n    color: red;\\n}\\n\\nspan.highlighted-gold-annotation {\\n    background-color: rgba(217,83,79,0.5);\\n}\\n\\n.panel-heading {\\n    position: relative;\\n}\\n\\n.panel-footer {\\n    position: relative;\\n}\\n\\n.panel-left-justify {\\n    position: absolute;\\n    right: 15px;\\n    top: 20px;\\n}\\n\\n.viewer-page {\\n    display: none;\\n}\\n\\n.help-text {\\n    color: gray;\\n    font-weight: 300;\\n}\\n</style>\\n</head>\\n\\n<div id=\"viewer\" class=\"viewer-pane panel panel-default\" tabindex=\"0\">\\n    <div class=\"panel-heading\">\\n        <h3 class=\"panel-title\"><i class=\"fa fa-eye fa-lg\" aria-hidden=\"true\"></i> Viewer</h3>\\n        <div id=\"candidate-caption\" class=\"panel-left-justify\"></div>\\n    </div>\\n    <div class=\"panel-body\" style=\"height:225px\">\\n<div class=\"viewer-page\" id=\"viewer-page-0\" style=\"display: block;\">\\n    <ul class=\"list-group\">\\n<li class=\"list-group-item\" data-toggle=\"tooltip\" data-placement=\"top\" title=\"814748\"><span class=\"candidate 114 114-1\">Thyrotropin-releasing hormone</span><span class=\"\"> (TRH) induced a significant increase in plasma growth hormone (GH) levels in 4 of 8 children with </span><span class=\"candidate 114 114-0\">primary hypothyroidism</span><span class=\"\">, while a slight decrease was observed in 8 control children.</span></li>\\n\\n<li class=\"list-group-item\" data-toggle=\"tooltip\" data-placement=\"top\" title=\"838061\"><span class=\"\">It is suggested that the elevated serum PRL levels of patients with </span><span class=\"candidate 56 57 58 56-0 57-0 58-0\">primary hypothyroidism</span><span class=\"\"> are mediated by feedback-induced </span><span class=\"candidate 56 179 56-1 179-1\">thyrotropin-releasing hormone</span><span class=\"\"> (</span><span class=\"candidate 58 177 58-1 177-1\">TRH)</span><span class=\"\"> secretion or an enhanced response to endogenous </span><span class=\"candidate 57 178 57-1 178-1\">TRH</span><span class=\"\">, and that the combination of delivery and the PRL excess may induce persistent galactorrhea in patients with </span><span class=\"candidate 177 178 179 177-0 178-0 179-0\">primary hypothyroidism</span><span class=\"\">.</span></li>\\n\\n<li class=\"list-group-item\" data-toggle=\"tooltip\" data-placement=\"top\" title=\"1134129\"><span class=\"\">All those subjects developing </span><span class=\"candidate 23 23-0\">hypothyroidism</span><span class=\"\"> also had initially an exaggerated response to thyrotropin-releasing </span><span class=\"candidate 23 23-1\">hormone</span><span class=\"\"> (T.R.H.) (upper normal limit, delta T.S.H. 30 muU/ml), and in 4 the response was much exaggerated (delta T.S.H. less than 70 muU/ml).</span></li>\\n</ul>\\n</div>\\n\\n<div class=\"viewer-page\" id=\"viewer-page-1\">\\n    <ul class=\"list-group\">\\n<li class=\"list-group-item\" data-toggle=\"tooltip\" data-placement=\"top\" title=\"1433742\"><span class=\"\">Determinations of carcinoembryonic antigen (CEA), human chorionic gonadotropin (HCG), and </span><span class=\"candidate 163 163-1\">alpha-fetoprotein</span><span class=\"\"> (</span><span class=\"candidate 164 164-1\">AFP)</span><span class=\"\"> were done by use of frozen serum samples antedating the diagnosis of cancer for 9 pancreatic and 8 </span><span class=\"candidate 163 164 163-0 164-0\">gastric carcinoma</span><span class=\"\"> patients from the Framingham Heart Study.</span></li>\\n\\n<li class=\"list-group-item\" data-toggle=\"tooltip\" data-placement=\"top\" title=\"1684855\"><span class=\"\">In normal control and primary </span><span class=\"candidate 22 22-0\">hypothyroid</span><span class=\"\"> subjects, intravenous administration of thyrotropin-releasing </span><span class=\"candidate 22 22-1\">hormone</span><span class=\"\"> elicited a peak prolactin response 30 min post-injection.</span></li>\\n\\n<li class=\"list-group-item\" data-toggle=\"tooltip\" data-placement=\"top\" title=\"1688368\"><span class=\"\">The mean serum PRL level before </span><span class=\"candidate 43 43-1\">TRH</span><span class=\"\"> administration in </span><span class=\"candidate 43 43-0\">primary hypothyroidism</span><span class=\"\"> was significantly higher than in normal females (37.6 +/- 29.0 vs. 6.2 +/- 4.9 ng/ml, p smaller than 0.05) and serum PRL level after TRH was also higher in hypothyroidism than in normal females (132.8 +/- 83.4 vs. 42 +/- 17.2, p smaller than 0l05).</span></li>\\n</ul>\\n</div>\\n\\n<div class=\"viewer-page\" id=\"viewer-page-2\">\\n    <ul class=\"list-group\">\\n<li class=\"list-group-item\" data-toggle=\"tooltip\" data-placement=\"top\" title=\"1688378\"><span class=\"\">In conclusion, the PRL response to </span><span class=\"candidate 113 113-1\">TRH</span><span class=\"\"> was greater in females than in males, abolished in hyperthyroidism and exaggerated in </span><span class=\"candidate 113 113-0\">primary hypothyroidism</span><span class=\"\">.</span></li>\\n\\n<li class=\"list-group-item\" data-toggle=\"tooltip\" data-placement=\"top\" title=\"1715840\"><span class=\"\">Effect of iodine upon the </span><span class=\"candidate 55 55-1\">TRH</span><span class=\"\"> induced release of TSH in euthyroid, </span><span class=\"candidate 55 55-0\">hypothyroid</span><span class=\"\"> and hyperthyroid individuals.</span></li>\\n\\n<li class=\"list-group-item\" data-toggle=\"tooltip\" data-placement=\"top\" title=\"1715864\"><span class=\"\">Two out of four </span><span class=\"candidate 13 13-0\">hypothyroid</span><span class=\"\"> patients also showed an increased response of TSH to </span><span class=\"candidate 13 13-1\">TRH</span><span class=\"\">.</span></li>\\n</ul>\\n</div>\\n\\n<div class=\"viewer-page\" id=\"viewer-page-3\">\\n    <ul class=\"list-group\">\\n<li class=\"list-group-item\" data-toggle=\"tooltip\" data-placement=\"top\" title=\"1736957\"><span class=\"\">A simple test with 40 mg of oral TRH after overnight fasting was developed and can be characterized as follows: This short oral </span><span class=\"candidate 162 162-1\">TRH</span><span class=\"\"> test has been found to be a most valuable thyroid function test for detection of </span><span class=\"candidate 162 162-0\">hyper- and hypothyroidism</span><span class=\"\">.</span></li>\\n\\n<li class=\"list-group-item\" data-toggle=\"tooltip\" data-placement=\"top\" title=\"2738527\"><span class=\"\">Three different groups of lung tumour cell lines could be distinguished according to their expression of </span><span class=\"candidate 154 154-1\">u-PA</span><span class=\"\"> and </span><span class=\"candidate 155 155-1\">u-PA-binding</span><span class=\"\"> ability: (i) non small cell lung carcinoma (NSCLC) cell lines of squamous cell </span><span class=\"candidate 154 155 156 157 154-0 155-0 156-0 157-0\">carcinoma/adenocarcinoma</span><span class=\"\"> origin expressed small amounts of </span><span class=\"candidate 156 156-1\">u-PA</span><span class=\"\"> and bound little </span><span class=\"candidate 157 157-1\">u-PA</span><span class=\"\">.</span></li>\\n\\n<li class=\"list-group-item\" data-toggle=\"tooltip\" data-placement=\"top\" title=\"2987651\"><span class=\"\">Two </span><span class=\"candidate 5 5-0\">UC</span><span class=\"\"> patients\\' colons contained geographically separated clones of cells with different aneuploidies that also showed loss of different </span><span class=\"candidate 5 5-1\">p53</span><span class=\"\"> alleles, suggesting that neoplasia may arise within different populations of cells in separate areas of the same colon.</span></li>\\n</ul>\\n</div>\\n\\n<div class=\"viewer-page\" id=\"viewer-page-4\">\\n    <ul class=\"list-group\">\\n<li class=\"list-group-item\" data-toggle=\"tooltip\" data-placement=\"top\" title=\"3112319\"><span class=\"\">A 45-year-old woman who underwent gastrectomy for </span><span class=\"candidate 37 37-0\">gastric carcinoma</span><span class=\"\"> which had metastasized to the liver and ovaries, showed high serum levels of hCG, </span><span class=\"candidate 37 37-1\">AFP</span><span class=\"\"> and CEA.</span></li>\\n\\n<li class=\"list-group-item\" data-toggle=\"tooltip\" data-placement=\"top\" title=\"3139917\"><span class=\"\">Inasmuch as the cytosolic PTK activity parallels the </span><span class=\"candidate 42 42-0\">malignancy in breast tumors</span><span class=\"\"> (Hennipman et al., Cancer Res., 49: 516-521, 1989), and the majority of this activity is precipitated by </span><span class=\"candidate 42 42-1\">anti-Src</span><span class=\"\"> antibodies, the c-src protooncogene may play a key role in the manifestation of breast cancer.</span></li>\\n\\n<li class=\"list-group-item\" data-toggle=\"tooltip\" data-placement=\"top\" title=\"3221898\"><span class=\"\">Disease states such as local and systemic infection, septic shock, </span><span class=\"candidate 54 54-0\">degenerative arthritis</span><span class=\"\"> and autoimmune diseases such as nephritis, vasculitis and inflammatory bowel disease appear to be mediated, in part, by </span><span class=\"candidate 54 54-1\">IL-1</span><span class=\"\">.</span></li>\\n</ul>\\n</div>\\n\\n<div class=\"viewer-page\" id=\"viewer-page-5\">\\n    <ul class=\"list-group\">\\n<li class=\"list-group-item\" data-toggle=\"tooltip\" data-placement=\"top\" title=\"3323208\"><span class=\"candidate 0 0-0\">Hypothyroidism</span><span class=\"\"> caused by chemical or surgical thyroidectomy or hypophysectomy causes a substantial increase in the content of thyrotropin-releasing </span><span class=\"candidate 0 0-1\">hormone</span><span class=\"\"> (TRH) mRNA and proTRH exclusively in cells of the medial and periventricular paravocellular subdivisions of the hypothalamic paraventricular nucleus (PVN).</span></li>\\n\\n<li class=\"list-group-item\" data-toggle=\"tooltip\" data-placement=\"top\" title=\"3419684\"><span class=\"\">Five patients had grade II and 1 patient had grade </span><span class=\"candidate 39 39-0\">III hypothyroidism</span><span class=\"\"> as determined by thyrotropin-releasing </span><span class=\"candidate 39 39-1\">hormone</span><span class=\"\"> tests.</span></li>\\n\\n<li class=\"list-group-item\" data-toggle=\"tooltip\" data-placement=\"top\" title=\"3783173\"><span class=\"candidate 87 87-1\">Nerve growth factor</span><span class=\"\"> affects 11C-nicotine binding, blood flow, EEG, and verbal episodic memory in an </span><span class=\"candidate 87 87-0\">Alzheimer</span><span class=\"\"> patient (case report).</span></li>\\n</ul>\\n</div>\\n\\n<div class=\"viewer-page\" id=\"viewer-page-6\">\\n    <ul class=\"list-group\">\\n<li class=\"list-group-item\" data-toggle=\"tooltip\" data-placement=\"top\" title=\"3783178\"><span class=\"\">Based on animal research suggesting that </span><span class=\"candidate 139 139-1\">nerve growth factor</span><span class=\"\"> (</span><span class=\"candidate 138 138-1\">NGF)</span><span class=\"\"> can stimulate central cholinergic neurons, the known losses of cholinergic innervation of the cortices in </span><span class=\"candidate 138 139 138-0 139-0\">Alzheimer\\'s disease</span><span class=\"\"> (AD), and our experience of infusing NGF to support adrenal grafts in parkinsonian patients, we have initiated clinical trials of NGF infusions into the brain of patients with AD.</span></li>\\n\\n<li class=\"list-group-item\" data-toggle=\"tooltip\" data-placement=\"top\" title=\"3876812\"><span class=\"candidate 82 82-1\">Cathepsin-D</span><span class=\"\"> is a lysosomal protease that can serve as an important prognostic cytosolic factor in </span><span class=\"candidate 82 82-0\">breast cancer</span><span class=\"\">.</span></li>\\n\\n<li class=\"list-group-item\" data-toggle=\"tooltip\" data-placement=\"top\" title=\"4154141\"><span class=\"\">The amyloid protein precursor of </span><span class=\"candidate 25 25-0\">Alzheimer\\'s disease</span><span class=\"\"> is a mediator of the effects of </span><span class=\"candidate 25 25-1\">nerve growth factor</span><span class=\"\"> on neurite outgrowth.</span></li>\\n</ul>\\n</div>\\n\\n<div class=\"viewer-page\" id=\"viewer-page-7\">\\n    <ul class=\"list-group\">\\n<li class=\"list-group-item\" data-toggle=\"tooltip\" data-placement=\"top\" title=\"4167477\"><span class=\"\">Seventy-three primary human </span><span class=\"candidate 19 19-0\">breast cancers</span><span class=\"\"> were analyzed to assess the presence of estrogen and progesterone receptors, the p29 protein, and the total </span><span class=\"candidate 19 19-1\">cathepsin D</span><span class=\"\"> status.</span></li>\\n\\n<li class=\"list-group-item\" data-toggle=\"tooltip\" data-placement=\"top\" title=\"4385600\"><span class=\"\">The TSH response to thyrotropin-releasing </span><span class=\"candidate 103 103-1\">hormone</span><span class=\"\"> (TRH) also progressively increased after radiotherapy, suggesting </span><span class=\"candidate 103 103-0\">primary hypothyroidism</span><span class=\"\"> due to neck irradiation.</span></li>\\n\\n<li class=\"list-group-item\" data-toggle=\"tooltip\" data-placement=\"top\" title=\"4393069\"><span class=\"\">Multidrug-resistant phenotype in </span><span class=\"candidate 26 26-0\">retinoblastoma</span><span class=\"\"> correlates with </span><span class=\"candidate 26 26-1\">P-glycoprotein</span><span class=\"\"> expression.</span></li>\\n</ul>\\n</div>\\n\\n<div class=\"viewer-page\" id=\"viewer-page-8\">\\n    <ul class=\"list-group\">\\n<li class=\"list-group-item\" data-toggle=\"tooltip\" data-placement=\"top\" title=\"4393090\"><span class=\"\">By using a sensitive immunoperoxidase method, increased </span><span class=\"candidate 132 132-1\">P-glycoprotein</span><span class=\"\"> was detected in five multidrug-resistant and two selectively plant alkaloid-resistant </span><span class=\"candidate 132 132-0\">retinoblastoma</span><span class=\"\"> cell lines and in the intraocular and metastatic tumors from which they were derived.</span></li>\\n\\n<li class=\"list-group-item\" data-toggle=\"tooltip\" data-placement=\"top\" title=\"4426452\"><span class=\"\">Immunohistochemical study revealed that </span><span class=\"candidate 46 46-1\">AFP</span><span class=\"\"> was produced by </span><span class=\"candidate 46 46-0\">gastric carcinoma</span><span class=\"\"> in two patients.</span></li>\\n\\n<li class=\"list-group-item\" data-toggle=\"tooltip\" data-placement=\"top\" title=\"4426476\"><span class=\"\">Nevertheless, </span><span class=\"candidate 11 11-0\">gastric carcinoma</span><span class=\"\"> should be considered a possibility in the diagnosis of portal venous tumor thrombosis, even if the serum </span><span class=\"candidate 11 11-1\">AFP</span><span class=\"\"> level is elevated and a liver tumor is identified.</span></li>\\n</ul>\\n</div>\\n\\n<div class=\"viewer-page\" id=\"viewer-page-9\">\\n    <ul class=\"list-group\">\\n<li class=\"list-group-item\" data-toggle=\"tooltip\" data-placement=\"top\" title=\"4432240\"><span class=\"\">Biochemical and immunohistochemical analyses were done on five cases of </span><span class=\"candidate 61 62 61-0 62-0\">gastric carcinoma</span><span class=\"\"> with excessive production of </span><span class=\"candidate 62 62-1\">alpha-fetoprotein</span><span class=\"\"> (</span><span class=\"candidate 61 61-1\">AFP)</span><span class=\"\">.</span></li>\\n\\n<li class=\"list-group-item\" data-toggle=\"tooltip\" data-placement=\"top\" title=\"4432246\"><span class=\"\">These </span><span class=\"candidate 6 6-0\">gastric carcinomas</span><span class=\"\"> might be categorized into medullary tumor with gastrointestinal tract-specific </span><span class=\"candidate 6 6-1\">AFP</span><span class=\"\">.</span></li>\\n\\n<li class=\"list-group-item\" data-toggle=\"tooltip\" data-placement=\"top\" title=\"4541158\"><span class=\"\">On the other hand, </span><span class=\"candidate 74 74-1\">alpha-fetoprotein</span><span class=\"\"> was uniformly unresponsive except in one case of </span><span class=\"candidate 74 74-0\">gastric cancer</span><span class=\"\">.</span></li>\\n</ul>\\n</div>\\n\\n<div class=\"viewer-page\" id=\"viewer-page-10\">\\n    <ul class=\"list-group\">\\n<li class=\"list-group-item\" data-toggle=\"tooltip\" data-placement=\"top\" title=\"4554735\"><span class=\"\">There were significant differences in oncogene expression between </span><span class=\"candidate 53 53-0\">seminomas</span><span class=\"\"> and nonseminomas with </span><span class=\"candidate 53 119 176 53-1 119-1 176-1\">c-kit</span><span class=\"\"> being expressed in 24 of 30 (80%) </span><span class=\"candidate 119 119-0\">seminomas</span><span class=\"\"> but in only 3 of 40 (7%) nonseminomatous tumors (P = 0.0001, chi 2 test) and hst-1 being expressed in 24 of 38 (63%) nonseminomas but only 1 of 24 (4%) of </span><span class=\"candidate 176 176-0\">seminomas</span><span class=\"\"> (P = 0.0001, chi 2 test), demonstrating an inverse relationship in the expression pattern of these 2 oncogenes in human testicular germ cell tumors.</span></li>\\n\\n<li class=\"list-group-item\" data-toggle=\"tooltip\" data-placement=\"top\" title=\"4557464\"><span class=\"\">CD40+ FACS-sorted malignant cells from B-lineage ALL as well as B-lineage NHL patients were capable of in vitro clonogenic growth, indicating the </span><span class=\"candidate 148 151 148-1 151-1\">CD40</span><span class=\"\"> antigen is expressed on clonogenic </span><span class=\"candidate 148 148-0\">leukemia</span><span class=\"\"> and </span><span class=\"candidate 151 151-0\">lymphoma</span><span class=\"\"> cells.</span></li>\\n\\n<li class=\"list-group-item\" data-toggle=\"tooltip\" data-placement=\"top\" title=\"4557469\"><span class=\"\">This hypothesis was confirmed by the ability of an </span><span class=\"candidate 134 134-1\">anti-CD40</span><span class=\"\"> immunotoxin that we used as an antigen-specific cytotoxic probe to effectively kill clonogenic B-lineage </span><span class=\"candidate 134 134-0\">ALL</span><span class=\"\"> and NHL cells.</span></li>\\n</ul>\\n</div>\\n\\n<div class=\"viewer-page\" id=\"viewer-page-11\">\\n    <ul class=\"list-group\">\\n<li class=\"list-group-item\" data-toggle=\"tooltip\" data-placement=\"top\" title=\"4619315\"><span class=\"\">A new cell line, designated ISt-1, was established in serum-free medium from a 63-year-old </span><span class=\"candidate 76 77 76-0 77-0\">gastric cancer</span><span class=\"\"> patient with an extremely high serum level of </span><span class=\"candidate 77 77-1\">alpha-fetoprotein</span><span class=\"\"> (</span><span class=\"candidate 76 76-1\">AFP)</span><span class=\"\">.</span></li>\\n\\n<li class=\"list-group-item\" data-toggle=\"tooltip\" data-placement=\"top\" title=\"4619334\"><span class=\"\">ISt-1 is considered to be an AFP-producing </span><span class=\"candidate 34 34-0\">gastric cancer</span><span class=\"\"> cell line and will provide a useful tool for the study of production and secretion of </span><span class=\"candidate 34 34-1\">AFP</span><span class=\"\"> from cells.</span></li>\\n\\n<li class=\"list-group-item\" data-toggle=\"tooltip\" data-placement=\"top\" title=\"4654199\"><span class=\"\">Careful histological examination in conjunction with the immunohistochemical demonstration of </span><span class=\"candidate 159 159-1\">AFP</span><span class=\"\"> and other serum proteins can provide an useful contribution to the diagnosis of this rare histological type of </span><span class=\"candidate 159 159-0\">gastric carcinoma</span><span class=\"\">.</span></li>\\n</ul>\\n</div>\\n\\n<div class=\"viewer-page\" id=\"viewer-page-12\">\\n    <ul class=\"list-group\">\\n<li class=\"list-group-item\" data-toggle=\"tooltip\" data-placement=\"top\" title=\"4668249\"><span class=\"\">The expression of </span><span class=\"candidate 133 133-1\">c-src</span><span class=\"\"> protein was increased not only in neuroendocrine tumors (small-cell cancer and atypical carcinoid) but also in non-small-cell tumors such as </span><span class=\"candidate 133 133-0\">adenocarcinoma</span><span class=\"\">, bronchoalveolar and squamous-cell lung cancer.</span></li>\\n\\n<li class=\"list-group-item\" data-toggle=\"tooltip\" data-placement=\"top\" title=\"4729121\"><span class=\"\">In recent years, </span><span class=\"candidate 89 89-1\">nerve growth factor</span><span class=\"\"> (</span><span class=\"candidate 88 88-1\">NGF)</span><span class=\"\"> has gained attention as a potential therapeutic agent for </span><span class=\"candidate 88 89 88-0 89-0\">Alzheimer\\'s disease</span><span class=\"\"> (AD).</span></li>\\n\\n<li class=\"list-group-item\" data-toggle=\"tooltip\" data-placement=\"top\" title=\"4837978\"><span class=\"\">The regulation of </span><span class=\"candidate 170 170-1\">NGF</span><span class=\"\"> and BDNF synthesis via specific transmitter systems is discussed in the context of the refined tuning of synaptic functions, the potential implications for memory functions, and the possible therapeutic consequences for the treatment of </span><span class=\"candidate 170 170-0\">Alzheimer\\'s disease</span><span class=\"\">.</span></li>\\n</ul>\\n</div>\\n\\n<div class=\"viewer-page\" id=\"viewer-page-13\">\\n    <ul class=\"list-group\">\\n<li class=\"list-group-item\" data-toggle=\"tooltip\" data-placement=\"top\" title=\"4876580\"><span class=\"\">Basal forebrain cholinergic neurons respond to </span><span class=\"candidate 144 144-1\">nerve growth factor</span><span class=\"\"> (</span><span class=\"candidate 146 146-1\">NGF)</span><span class=\"\">, and it has been suggested that the administration of </span><span class=\"candidate 145 145-1\">NGF</span><span class=\"\"> might prevent their degeneration in patients with </span><span class=\"candidate 144 145 146 144-0 145-0 146-0\">Alzheimer\\'s disease</span><span class=\"\">.</span></li>\\n\\n<li class=\"list-group-item\" data-toggle=\"tooltip\" data-placement=\"top\" title=\"4876585\"><span class=\"\">One major prerequisite to be fulfilled before the consideration of clinical trials of NGF in patients with </span><span class=\"candidate 95 95-0\">Alzheimer\\'s disease</span><span class=\"\"> is the demonstration that human </span><span class=\"candidate 95 95-1\">NGF</span><span class=\"\"> affects basal forebrain cholinergic neurons in primates.</span></li>\\n\\n<li class=\"list-group-item\" data-toggle=\"tooltip\" data-placement=\"top\" title=\"4953846\"><span class=\"\">In the two last weeks before delivery (D less than or equal to -15) tPA antigen, PAI-1 activity, </span><span class=\"candidate 167 167-1\">vWF</span><span class=\"\">:Ag/FVIII:C ratio, ATIII activity and platelet count were found to be significantly different in the hypertensive pregnant women with and without </span><span class=\"candidate 167 167-0\">preeclampsia</span><span class=\"\">.</span></li>\\n</ul>\\n</div>\\n\\n<div class=\"viewer-page\" id=\"viewer-page-14\">\\n    <ul class=\"list-group\">\\n<li class=\"list-group-item\" data-toggle=\"tooltip\" data-placement=\"top\" title=\"4953851\"><span class=\"\">Combined all together, an association of three of these five parameters were found to be pathological (i.e.:tPA:Ag greater than or equal to 19 ng/ml, PAI-1 activity greater than or equal to 58 IU/ml, </span><span class=\"candidate 181 181-1\">vWF</span><span class=\"\">:Ag/FVIII:C ratio greater than or equal to 2.6, ATIII activity less than or equal to 73%) in none of the hypertensive women without </span><span class=\"candidate 181 181-0\">preeclampsia</span><span class=\"\"> and in only 35% of the preeclamptic group.</span></li>\\n\\n<li class=\"list-group-item\" data-toggle=\"tooltip\" data-placement=\"top\" title=\"4953857\"><span class=\"\">A positive correlation was demonstrated between </span><span class=\"candidate 161 161-1\">vWF</span><span class=\"\">:Ag/FVIII:C ratio and tPA:antigen levels suggesting that both tPA and </span><span class=\"candidate 160 160-1\">vWF</span><span class=\"\">:Ag could be considered as early indicators of a possible micro angiopathy occurring in </span><span class=\"candidate 160 161 160-0 161-0\">preeclampsia</span><span class=\"\">.</span></li>\\n\\n<li class=\"list-group-item\" data-toggle=\"tooltip\" data-placement=\"top\" title=\"5193626\"><span class=\"\">Taken together, the results indicate that the EGR-1 and </span><span class=\"candidate 102 102-1\">EGR-2</span><span class=\"\"> early response genes are involved in the induction of </span><span class=\"candidate 102 102-0\">myeloid leukemia</span><span class=\"\"> cell differentiation along the monocytic lineage and in the activation of human monocytes.</span></li>\\n</ul>\\n</div>\\n\\n<div class=\"viewer-page\" id=\"viewer-page-15\">\\n    <ul class=\"list-group\">\\n<li class=\"list-group-item\" data-toggle=\"tooltip\" data-placement=\"top\" title=\"5323133\"><span class=\"\">Cathepsin D (</span><span class=\"candidate 108 108-1\">CD</span><span class=\"\">, EC 3.4.23.5) is a lysosomal protease induced by estrogen in certain estrogen receptor (ER)-positive </span><span class=\"candidate 108 108-0\">breast cancer</span><span class=\"\"> cell lines but produced constitutively by ER-negative cell lines.</span></li>\\n\\n<li class=\"list-group-item\" data-toggle=\"tooltip\" data-placement=\"top\" title=\"5323147\"><span class=\"\">The concentrations of </span><span class=\"candidate 44 98 44-1 98-1\">CD</span><span class=\"\"> were significantly higher in </span><span class=\"candidate 44 44-0\">breast carcinomas</span><span class=\"\"> than in either normal breast tissues or </span><span class=\"candidate 98 98-0\">benign breast tumors</span><span class=\"\">.</span></li>\\n\\n<li class=\"list-group-item\" data-toggle=\"tooltip\" data-placement=\"top\" title=\"5604707\"><span class=\"\">This study complements clinical studies, which have shown than high </span><span class=\"candidate 110 110-1\">cathepsin D</span><span class=\"\"> concentrations in the cytosol of primary </span><span class=\"candidate 110 110-0\">breast cancers</span><span class=\"\"> may be predictive of subsequent metastasis, particularly for patients with axillary node-negative tumors.</span></li>\\n</ul>\\n</div>\\n\\n<div class=\"viewer-page\" id=\"viewer-page-16\">\\n    <ul class=\"list-group\">\\n<li class=\"list-group-item\" data-toggle=\"tooltip\" data-placement=\"top\" title=\"5621978\"><span class=\"\">These results indicate that overexpression of </span><span class=\"candidate 65 65-1\">cathepsin D</span><span class=\"\"> might facilitate </span><span class=\"candidate 65 65-0\">breast cancer</span><span class=\"\"> metastasis, suggesting new possible therapeutic approaches.</span></li>\\n\\n<li class=\"list-group-item\" data-toggle=\"tooltip\" data-placement=\"top\" title=\"5672661\"><span class=\"\">The TSH response to thyrotropin-releasing </span><span class=\"candidate 80 80-1\">hormone</span><span class=\"\"> (TRH) was significantly increased, suggesting </span><span class=\"candidate 80 80-0\">primary hypothyroidism</span><span class=\"\"> due to neck irradiation.</span></li>\\n\\n<li class=\"list-group-item\" data-toggle=\"tooltip\" data-placement=\"top\" title=\"5971322\"><span class=\"\">We studied the activation and C1 inactivator-dependent dissociation of the first component of complement, the C1q(</span><span class=\"candidate 166 171 166-1 171-1\">C1r-C1s</span><span class=\"\">)2 complex, in relation to recruitment of the classical activation pathway in the circulation of 24 patients with </span><span class=\"candidate 166 166-0\">systemic lupus erythematosus</span><span class=\"\"> (</span><span class=\"candidate 171 171-0\">SLE)</span><span class=\"\">.</span></li>\\n</ul>\\n</div>\\n\\n<div class=\"viewer-page\" id=\"viewer-page-17\">\\n    <ul class=\"list-group\">\\n<li class=\"list-group-item\" data-toggle=\"tooltip\" data-placement=\"top\" title=\"6065951\"><span class=\"\">It would be of interest to measure the </span><span class=\"candidate 135 135-1\">NGF</span><span class=\"\"> protein also in the human brain, especially against the background that the cholinergic neurons are severely deteriorated in </span><span class=\"candidate 135 135-0\">senile dementia</span><span class=\"\"> of the Alzheimer type.</span></li>\\n\\n<li class=\"list-group-item\" data-toggle=\"tooltip\" data-placement=\"top\" title=\"6162792\"><span class=\"\">Two patients had previously undetected </span><span class=\"candidate 30 30-0\">hypothyroidism</span><span class=\"\"> while 7 additional patients had normal serum thyroid hormone levels but an exaggerated TSH response to thyrotropin-releasing </span><span class=\"candidate 30 30-1\">hormone</span><span class=\"\"> (TRH) administration, consistent with subclinical hypothyroidism.</span></li>\\n\\n<li class=\"list-group-item\" data-toggle=\"tooltip\" data-placement=\"top\" title=\"6207444\"><span class=\"\">Moreover, the supernatant was also found to inhibit the fibrinolytic activity of human vulva (A431) and </span><span class=\"candidate 93 93-0\">breast (MCF7) carcinoma</span><span class=\"\"> cell lines, which contain large amounts of </span><span class=\"candidate 93 93-1\">pro-uPA</span><span class=\"\">, by 87% and 96%, respectively.</span></li>\\n</ul>\\n</div>\\n\\n<div class=\"viewer-page\" id=\"viewer-page-18\">\\n    <ul class=\"list-group\">\\n<li class=\"list-group-item\" data-toggle=\"tooltip\" data-placement=\"top\" title=\"6344980\"><span class=\"candidate 24 24-1\">Cathepsin D</span><span class=\"\"> test helps identify </span><span class=\"candidate 24 24-0\">breast cancers</span><span class=\"\"> likely to recur.</span></li>\\n\\n<li class=\"list-group-item\" data-toggle=\"tooltip\" data-placement=\"top\" title=\"6597965\"><span class=\"\">In </span><span class=\"candidate 3 3-0\">estrogen-responsive breast cancer</span><span class=\"\"> cell lines, estrogens and growth factors stimulate </span><span class=\"candidate 3 3-1\">cathepsin D</span><span class=\"\"> expression through distinct mechanisms.</span></li>\\n\\n<li class=\"list-group-item\" data-toggle=\"tooltip\" data-placement=\"top\" title=\"7309469\"><span class=\"\">We conclude that, in </span><span class=\"candidate 16 16-0\">breast cancer</span><span class=\"\"> cells, </span><span class=\"candidate 16 16-1\">cathepsin D</span><span class=\"\"> may digest intracellularly phagocytosed and/or endocytosed extracellular matrix in large acidic vesicles.</span></li>\\n</ul>\\n</div>\\n\\n<div class=\"viewer-page\" id=\"viewer-page-19\">\\n    <ul class=\"list-group\">\\n<li class=\"list-group-item\" data-toggle=\"tooltip\" data-placement=\"top\" title=\"7501876\"><span class=\"\">Increase of </span><span class=\"candidate 71 71-1\">urokinase-type plasminogen activator</span><span class=\"\"> gene expression in human lung and </span><span class=\"candidate 71 71-0\">breast carcinomas</span><span class=\"\">.</span></li>\\n\\n<li class=\"list-group-item\" data-toggle=\"tooltip\" data-placement=\"top\" title=\"7501896\"><span class=\"\">A large, 4- to 20-fold, increase in </span><span class=\"candidate 101 101-1\">u-PA</span><span class=\"\"> mRNA content was demonstrated in 14 of 29 lung carcinomas and in 10 of 27 </span><span class=\"candidate 101 101-0\">breast carcinomas</span><span class=\"\">.</span></li>\\n\\n<li class=\"list-group-item\" data-toggle=\"tooltip\" data-placement=\"top\" title=\"7677098\"><span class=\"\">Recombinant human </span><span class=\"candidate 117 172 117-1 172-1\">interferon alpha 2a</span><span class=\"\"> as well as natural human interferons alpha and beta significantly suppressed the production of </span><span class=\"candidate 117 117-0\">hepatitis B</span><span class=\"\"> surface antigen by PLC/PRF/5 cells (which have been established from a human primary hepatocellular carcinoma and proven to carry the </span><span class=\"candidate 172 172-0\">hepatitis B</span><span class=\"\"> virus DNA) and inhibited proliferation of these cells in vitro.</span></li>\\n</ul>\\n</div>\\n\\n<div class=\"viewer-page\" id=\"viewer-page-20\">\\n    <ul class=\"list-group\">\\n<li class=\"list-group-item\" data-toggle=\"tooltip\" data-placement=\"top\" title=\"8153244\"><span class=\"\">These findings suggest that variant-like </span><span class=\"candidate 75 75-1\">ALP</span><span class=\"\"> may be useful for the identification of human </span><span class=\"candidate 75 75-0\">hepatoma</span><span class=\"\"> cell lines, especially in AFP or albumin-negative cell lines.</span></li>\\n\\n<li class=\"list-group-item\" data-toggle=\"tooltip\" data-placement=\"top\" title=\"8330487\"><span class=\"\">We conclude that </span><span class=\"candidate 81 81-1\">cathepsin D</span><span class=\"\"> gene expression is regulated differently by sex steroid hormones in </span><span class=\"candidate 81 81-0\">endometrial and breast cancer</span><span class=\"\"> cell lines, whereas it is similarly induced by EGF in these cells.</span></li>\\n\\n<li class=\"list-group-item\" data-toggle=\"tooltip\" data-placement=\"top\" title=\"8364602\"><span class=\"candidate 27 27-1\">Pro-cathepsin D</span><span class=\"\"> is overexpressed in </span><span class=\"candidate 27 27-0\">breast cancer</span><span class=\"\"> cells compared to normal mammary epithelial cells.</span></li>\\n</ul>\\n</div>\\n\\n<div class=\"viewer-page\" id=\"viewer-page-21\">\\n    <ul class=\"list-group\">\\n<li class=\"list-group-item\" data-toggle=\"tooltip\" data-placement=\"top\" title=\"8907290\"><span class=\"\">However, the free </span><span class=\"candidate 50 50-1\">hCG-alpha</span><span class=\"\"> was significantly higher in severe </span><span class=\"candidate 50 50-0\">pre-eclampsia</span><span class=\"\">, probably caused by placental dysfunction.</span></li>\\n\\n<li class=\"list-group-item\" data-toggle=\"tooltip\" data-placement=\"top\" title=\"8907293\"><span class=\"\">In summary, free </span><span class=\"candidate 33 97 33-1 97-1\">hCG-alpha</span><span class=\"\"> is increased in </span><span class=\"candidate 33 33-0\">pre-eclampsia</span><span class=\"\">, but its role as a marker of placental function in </span><span class=\"candidate 97 97-0\">pre-eclampsia</span><span class=\"\"> requires further investigation.</span></li>\\n\\n<li class=\"list-group-item\" data-toggle=\"tooltip\" data-placement=\"top\" title=\"10009575\"><span class=\"\">Carboxypeptidase activity was the same in all individuals, but </span><span class=\"candidate 92 92-1\">ACE</span><span class=\"\"> activity was increased in the RA and </span><span class=\"candidate 92 92-0\">SLE</span><span class=\"\"> patients.</span></li>\\n</ul>\\n</div>\\n\\n<div class=\"viewer-page\" id=\"viewer-page-22\">\\n    <ul class=\"list-group\">\\n<li class=\"list-group-item\" data-toggle=\"tooltip\" data-placement=\"top\" title=\"10424911\"><span class=\"\">Here, we show that </span><span class=\"candidate 66 66-1\">urokinase-type plasminogen activator</span><span class=\"\"> activity in primary </span><span class=\"candidate 66 66-0\">breast carcinomas</span><span class=\"\"> correlates with both size of tumor and number of axillary nodes with metastases.</span></li>\\n\\n<li class=\"list-group-item\" data-toggle=\"tooltip\" data-placement=\"top\" title=\"10797286\"><span class=\"\">Plasminogen activator (PA) activity, in particular urokinase (</span><span class=\"candidate 99 99-1\">u-PA)</span><span class=\"\">, has been shown to be markedly increased in </span><span class=\"candidate 99 99-0\">adenocarcinomas</span><span class=\"\"> of the colon.</span></li>\\n\\n<li class=\"list-group-item\" data-toggle=\"tooltip\" data-placement=\"top\" title=\"10813207\"><span class=\"\">Pyrogen-free cartilage fragments from patients with fracture, </span><span class=\"candidate 49 49-0\">osteoarthritis</span><span class=\"\">, or rheumatoid arthritis were found to stimulate the production of </span><span class=\"candidate 49 49-1\">interleukin-1 alpha-like</span><span class=\"\"> and interleukin-1 beta-like factor by peripheral blood mononuclear cells from healthy individuals and rheumatoid arthritis patients.</span></li>\\n</ul>\\n</div>\\n\\n<div class=\"viewer-page\" id=\"viewer-page-23\">\\n    <ul class=\"list-group\">\\n<li class=\"list-group-item\" data-toggle=\"tooltip\" data-placement=\"top\" title=\"11229070\"><span class=\"\">In situ hybridization of the 52K-9 cDNA probe on normal lymphocytes assigned the 52K </span><span class=\"candidate 169 169-1\">cathepsin D</span><span class=\"\"> gene at the extremity of the short arm of chromosome 11, in the p15 band, close to the H-ras gene and in the region whose deletion increases the risk of </span><span class=\"candidate 169 169-0\">invasive breast cancer</span><span class=\"\">.</span></li>\\n\\n<li class=\"list-group-item\" data-toggle=\"tooltip\" data-placement=\"top\" title=\"11538982\"><span class=\"\">Sections of </span><span class=\"candidate 9 9-0\">hepatitis B virus</span><span class=\"\"> infected human liver tissue showed foci of </span><span class=\"candidate 9 9-1\">IFN-alpha-positive</span><span class=\"\"> infiltrating mononuclear cells and (to a lesser extent) fibroblasts in patients who had active cirrhosis and evidence of virus replication.</span></li>\\n\\n<li class=\"list-group-item\" data-toggle=\"tooltip\" data-placement=\"top\" title=\"11641454\"><span class=\"\">This difference, in addition to others concerning tissue distribution, mitogenic activity and hormonal regulation, strongly suggests that the 52-kD </span><span class=\"candidate 140 140-1\">cathepsin D-like</span><span class=\"\"> enzyme of </span><span class=\"candidate 140 140-0\">breast cancer</span><span class=\"\"> cells is different from previously described cathepsin D(s).</span></li>\\n</ul>\\n</div>\\n\\n<div class=\"viewer-page\" id=\"viewer-page-24\">\\n    <ul class=\"list-group\">\\n<li class=\"list-group-item\" data-toggle=\"tooltip\" data-placement=\"top\" title=\"11821517\"><span class=\"candidate 72 72-1\">Cathepsin D</span><span class=\"\"> mRNA was expressed but not regulated in an oestrogen receptor negative </span><span class=\"candidate 72 72-0\">breast tumour</span><span class=\"\"> cell line, BT 20, and in 2 other malignant cell lines, Hela and A431.</span></li>\\n\\n<li class=\"list-group-item\" data-toggle=\"tooltip\" data-placement=\"top\" title=\"11904602\"><span class=\"\">The relative contribution of </span><span class=\"candidate 116 116-1\">u-PA</span><span class=\"\"> (expressed as percentage of </span><span class=\"candidate 115 115-1\">u-PA)</span><span class=\"\"> was raised from 6 to 50% for, respectively, normal mucosa and </span><span class=\"candidate 115 116 115-0 116-0\">adenocarcinoma</span><span class=\"\">.</span></li>\\n\\n<li class=\"list-group-item\" data-toggle=\"tooltip\" data-placement=\"top\" title=\"11904612\"><span class=\"\">Adenomatous polyps as a group showed percentages of </span><span class=\"candidate 149 149-1\">u-PA</span><span class=\"\"> [20.2 +/- 1.3 (SE)] which were intermediate as well as significantly different (P less than 0.001) from those of normal mucosa and </span><span class=\"candidate 149 149-0\">adenocarcinomas</span><span class=\"\">.</span></li>\\n</ul>\\n</div>\\n\\n<div class=\"viewer-page\" id=\"viewer-page-25\">\\n    <ul class=\"list-group\">\\n<li class=\"list-group-item\" data-toggle=\"tooltip\" data-placement=\"top\" title=\"11904617\"><span class=\"\">This observation was strengthened by a gradual rise in the relative contribution of </span><span class=\"candidate 131 131-1\">u-PA</span><span class=\"\"> in four resection specimens containing both adenomatous polyps and </span><span class=\"candidate 131 131-0\">adenocarcinomas</span><span class=\"\">.</span></li>\\n\\n<li class=\"list-group-item\" data-toggle=\"tooltip\" data-placement=\"top\" title=\"12414919\"><span class=\"\">2,3,7,8-Tetrachlorodibenzo-p-dioxin (TCDD) induces </span><span class=\"candidate 136 136-1\">aryl hydrocarbon hydroxylase</span><span class=\"\"> (AHH) activity and human cytochrome P1-450 mRNA in the human breast carcinoma MCF-7 and </span><span class=\"candidate 136 136-0\">hepatoblastoma</span><span class=\"\"> HepG2 tissue culture cell lines.</span></li>\\n\\n<li class=\"list-group-item\" data-toggle=\"tooltip\" data-placement=\"top\" title=\"14504799\"><span class=\"\">The </span><span class=\"candidate 4 4-0\">primary liver carcinoma</span><span class=\"\"> group exhibited also the modest increments in serum </span><span class=\"candidate 4 4-1\">ALP</span><span class=\"\">, GMT and LD activities (p less than 0.01).</span></li>\\n</ul>\\n</div>\\n\\n<div class=\"viewer-page\" id=\"viewer-page-26\">\\n    <ul class=\"list-group\">\\n<li class=\"list-group-item\" data-toggle=\"tooltip\" data-placement=\"top\" title=\"16957932\"><span class=\"\">Furthermore in 131 arthropathic patients with </span><span class=\"candidate 105 105-1\">HLA B27</span><span class=\"\"> no psychiatric disease (except one feeble-minded and one with </span><span class=\"candidate 105 105-0\">alcohol problems)</span><span class=\"\"> could be identified.</span></li>\\n\\n<li class=\"list-group-item\" data-toggle=\"tooltip\" data-placement=\"top\" title=\"17790252\"><span class=\"\">Twenty-two patients with mild </span><span class=\"candidate 21 21-0\">haemolytic anaemia</span><span class=\"\"> and haemoglobin (Hb) Constant Spring (CS) of around 6% were studied because they were suspected of having homozygous </span><span class=\"candidate 21 21-1\">Hb CS</span><span class=\"\">.</span></li>\\n\\n<li class=\"list-group-item\" data-toggle=\"tooltip\" data-placement=\"top\" title=\"18280240\"><span class=\"\">In these studies, we have demonstrated that CD40 is expressed in human myeloma cells and have used a recently established IL-6-dependent myeloma cell line, ANBL-6, to examine the potential function of </span><span class=\"candidate 165 165-1\">CD40</span><span class=\"\"> expression in </span><span class=\"candidate 165 165-0\">myeloma</span><span class=\"\"> cells.</span></li>\\n</ul>\\n</div>\\n\\n<div class=\"viewer-page\" id=\"viewer-page-27\">\\n    <ul class=\"list-group\">\\n<li class=\"list-group-item\" data-toggle=\"tooltip\" data-placement=\"top\" title=\"18287551\"><span class=\"\">Antibody to cell surface antigen </span><span class=\"candidate 158 158-1\">HBA71</span><span class=\"\"> was positive in three Ewing\\'s sarcomas (two typical and one atypical) and negative in small cell osteosarcoma (three cases), mesenchymal chondrosarcoma (two cases), and </span><span class=\"candidate 158 158-0\">lymphoma</span><span class=\"\"> (one case).</span></li>\\n\\n<li class=\"list-group-item\" data-toggle=\"tooltip\" data-placement=\"top\" title=\"18304919\"><span class=\"\">In 26 of 37 cases of </span><span class=\"candidate 17 17-0\">Hodgkin\\'s disease</span><span class=\"\"> the Reed-Sternberg cells showed strong membrane or cytoplasmic expression of </span><span class=\"candidate 17 17-1\">CD40</span><span class=\"\">.</span></li>\\n\\n<li class=\"list-group-item\" data-toggle=\"tooltip\" data-placement=\"top\" title=\"18304933\"><span class=\"\">These results show that there is probable hyperexpression of </span><span class=\"candidate 59 142 59-1 142-1\">CD40</span><span class=\"\"> in </span><span class=\"candidate 59 59-0\">Hodgkin\\'s disease</span><span class=\"\"> and suggest that dysregulation of </span><span class=\"candidate 141 141-1\">CD40</span><span class=\"\"> expression may play a role in the pathogenesis of </span><span class=\"candidate 141 142 141-0 142-0\">Hodgkin\\'s disease</span><span class=\"\">.</span></li>\\n</ul>\\n</div>\\n\\n<div class=\"viewer-page\" id=\"viewer-page-28\">\\n    <ul class=\"list-group\">\\n<li class=\"list-group-item\" data-toggle=\"tooltip\" data-placement=\"top\" title=\"18323919\"><span class=\"candidate 1 1-0\">Helper T</span><span class=\"\"> cell activation leads to transient expression of a ligand for the constitutively expressed B cell surface protein, </span><span class=\"candidate 1 1-1\">CD40</span><span class=\"\">.</span></li>\\n\\n<li class=\"list-group-item\" data-toggle=\"tooltip\" data-placement=\"top\" title=\"18340936\"><span class=\"\">A recombinant soluble human </span><span class=\"candidate 52 52-1\">CD40</span><span class=\"\"> ligand was also shown to inhibit </span><span class=\"candidate 52 52-0\">lymphoma proliferation</span><span class=\"\">.</span></li>\\n\\n<li class=\"list-group-item\" data-toggle=\"tooltip\" data-placement=\"top\" title=\"18400272\"><span class=\"candidate 41 118 143 41-1 118-1 143-1\">CD40</span><span class=\"\"> was expressed on plasmacytoid cells in 21 of 28 </span><span class=\"candidate 41 41-0\">plasma cell dyscrasia</span><span class=\"\"> (PCD) bone marrow (BM) biopsies tested (10 of 14 MM, 2 of 2 </span><span class=\"candidate 118 118-0\">Waldenstrom\\'s macroglobulinemia</span><span class=\"\"> [WM], 2 of 2 </span><span class=\"candidate 143 143-0\">plasma cell leukemia</span><span class=\"\"> [PCL], 6 of 8 monoclonal gammopathy of undetermined significance [MGUS], and 1 of 2 primary amyloidosis [AL]).</span></li>\\n</ul>\\n</div>\\n\\n<div class=\"viewer-page\" id=\"viewer-page-29\">\\n    <ul class=\"list-group\">\\n<li class=\"list-group-item\" data-toggle=\"tooltip\" data-placement=\"top\" title=\"18417054\"><span class=\"\">Stimulation via the </span><span class=\"candidate 51 51-1\">CD40</span><span class=\"\"> antigen is an excellent tool for growing </span><span class=\"candidate 51 51-0\">hairy cell leukemia</span><span class=\"\"> cells.</span></li>\\n\\n<li class=\"list-group-item\" data-toggle=\"tooltip\" data-placement=\"top\" title=\"18455644\"><span class=\"candidate 84 84-1\">CD40</span><span class=\"\"> is a member of the nerve growth factor receptor family, showing a significant homology to the </span><span class=\"candidate 84 84-0\">Hodgkin\\'s disease</span><span class=\"\"> (HD)-associated antigen CD30 and is capable of transduce growth signals in a number of cell types.</span></li>\\n\\n<li class=\"list-group-item\" data-toggle=\"tooltip\" data-placement=\"top\" title=\"18455647\"><span class=\"\">A series of 312 </span><span class=\"candidate 12 12-0\">lymphoma</span><span class=\"\"> samples, including 139 cases of HD, 32 cases of CD30+ anaplastic large cell (ALC) </span><span class=\"candidate 96 96-0\">lymphomas</span><span class=\"\">, 141 cases of other non-Hodgkin\\'s lymphomas (NHLs), and a panel of HD- or NHL-derived cell lines, were evaluated for </span><span class=\"candidate 12 96 12-1 96-1\">CD40</span><span class=\"\"> expression by immunostaining of paraffin embedded sections, cell smears and flow cytometry.</span></li>\\n</ul>\\n</div>\\n\\n<div class=\"viewer-page\" id=\"viewer-page-30\">\\n    <ul class=\"list-group\">\\n<li class=\"list-group-item\" data-toggle=\"tooltip\" data-placement=\"top\" title=\"18455663\"><span class=\"\">The relative cell density of </span><span class=\"candidate 28 124 28-1 124-1\">CD40</span><span class=\"\"> on </span><span class=\"candidate 28 28-0\">HD</span><span class=\"\"> cell lines (L-428, KM-H2, HDLM-2) as assessed by flow cytometry was significantly higher than on all other </span><span class=\"candidate 124 124-0\">lymphoma</span><span class=\"\"> cells analyzed.</span></li>\\n\\n<li class=\"list-group-item\" data-toggle=\"tooltip\" data-placement=\"top\" title=\"18455682\"><span class=\"\">Our data indicate that </span><span class=\"candidate 109 109-1\">CD40</span><span class=\"\"> is a useful antigen for immunodetection and identification of tumor cells in all subtypes of </span><span class=\"candidate 109 109-0\">HD</span><span class=\"\">, and suggest that it may play a role in the regulation of RS cell expansion and the contact-dependent interactions of these cells with cytokine-producing T lymphocytes.</span></li>\\n\\n<li class=\"list-group-item\" data-toggle=\"tooltip\" data-placement=\"top\" title=\"18477499\"><span class=\"\">The level of </span><span class=\"candidate 35 35-1\">VEGF</span><span class=\"\"> mRNA was higher in 77% of </span><span class=\"candidate 35 35-0\">ovarian tumors</span><span class=\"\"> when compared with that in normal ovaries.</span></li>\\n</ul>\\n</div>\\n\\n<div class=\"viewer-page\" id=\"viewer-page-31\">\\n    <ul class=\"list-group\">\\n<li class=\"list-group-item\" data-toggle=\"tooltip\" data-placement=\"top\" title=\"18504233\"><span class=\"candidate 78 94 78-1 94-1\">CD40</span><span class=\"\"> is an integral membrane glycoprotein found on the surface of B-lineage cells, including </span><span class=\"candidate 78 78-0\">lymphomas</span><span class=\"\"> and </span><span class=\"candidate 94 94-0\">leukemias</span><span class=\"\">, as well as certain carcinomas.</span></li>\\n\\n<li class=\"list-group-item\" data-toggle=\"tooltip\" data-placement=\"top\" title=\"18517302\"><span class=\"\">Time-resolved immunofluorometric procedures were used to quantify both p53 protein and PSA in 200 </span><span class=\"candidate 83 83-0\">breast tumour</span><span class=\"\"> extracts, which were also assayed for oestrogen (ER) and progesterone receptors (PGR), epidermal growth factor receptors (EGFR), </span><span class=\"candidate 83 83-1\">cathepsin D</span><span class=\"\"> and HER-2/neu, and characterised for S-phase fraction and DNA ploidy.</span></li>\\n\\n<li class=\"list-group-item\" data-toggle=\"tooltip\" data-placement=\"top\" title=\"18530793\"><span class=\"\">Signal transduction through </span><span class=\"candidate 168 168-1\">CD40</span><span class=\"\"> in vitro has been shown to exert stimulatory effects on normal B cells and inhibitory effects on Epstein-Barr virus (EBV)-induced B-cell lymphoma lines and some other cell lines derived from patients with aggressive </span><span class=\"candidate 168 168-0\">histology lymphoma</span><span class=\"\">.</span></li>\\n</ul>\\n</div>\\n\\n<div class=\"viewer-page\" id=\"viewer-page-32\">\\n    <ul class=\"list-group\">\\n<li class=\"list-group-item\" data-toggle=\"tooltip\" data-placement=\"top\" title=\"18530817\"><span class=\"candidate 20 153 20-1 153-1\">Anti-CD40</span><span class=\"\"> treatment prevented </span><span class=\"candidate 20 20-0\">lymphoma</span><span class=\"\"> generation, while still allowing for functional human B-cell engraftment in the huPBL-SCID mice compared with mice receiving no treatment, all of which succumbed to </span><span class=\"candidate 153 153-0\">lymphoma</span><span class=\"\">.</span></li>\\n\\n<li class=\"list-group-item\" data-toggle=\"tooltip\" data-placement=\"top\" title=\"18534007\"><span class=\"\">Activation of </span><span class=\"candidate 10 10-0\">follicular lymphoma</span><span class=\"\"> cells via </span><span class=\"candidate 10 10-1\">CD40</span><span class=\"\"> induces or up-regulates both adhesion and B7 costimulatory molecules essential to repair this defect.</span></li>\\n\\n<li class=\"list-group-item\" data-toggle=\"tooltip\" data-placement=\"top\" title=\"18609221\"><span class=\"\">METHODS: Levels of </span><span class=\"candidate 126 126-1\">uPA</span><span class=\"\">, PAI-1, estrogen receptor (ER), and progesterone receptor (PgR) were assayed in cytosolic extracts derived from the primary </span><span class=\"candidate 126 126-0\">breast tumors</span><span class=\"\"> of 235 tamoxifennaive patients who had recurrent disease.</span></li>\\n</ul>\\n</div>\\n\\n<div class=\"viewer-page\" id=\"viewer-page-33\">\\n    <ul class=\"list-group\">\\n<li class=\"list-group-item\" data-toggle=\"tooltip\" data-placement=\"top\" title=\"18641390\"><span class=\"candidate 111 125 111-1 125-1\">CD40</span><span class=\"\"> ligand is constitutively expressed in a subset of T cell lymphomas and on the microenvironmental reactive T cells of </span><span class=\"candidate 111 111-0\">follicular lymphomas</span><span class=\"\"> and </span><span class=\"candidate 125 125-0\">Hodgkin\\'s disease</span><span class=\"\">.</span></li>\\n\\n<li class=\"list-group-item\" data-toggle=\"tooltip\" data-placement=\"top\" title=\"18641394\"><span class=\"\">Although </span><span class=\"candidate 64 112 123 64-1 112-1 123-1\">CD40</span><span class=\"\"> has been extensively studied in B- and T-cell non-Hodgkin\\'s </span><span class=\"candidate 64 64-0\">lymphomas (NHLs)/leukemias</span><span class=\"\">, and more recently in </span><span class=\"candidate 112 112-0\">Hodgkin\\'s disease</span><span class=\"\"> (</span><span class=\"candidate 123 123-0\">HD)</span><span class=\"\">, little is known about the expression of its ligand (CD40L) in lymphoproliferative disorders other than T-cell NHLs/leukemias.</span></li>\\n\\n<li class=\"list-group-item\" data-toggle=\"tooltip\" data-placement=\"top\" title=\"18696509\"><span class=\"candidate 15 15-1\">Anti-CD40</span><span class=\"\"> rescues </span><span class=\"candidate 15 15-0\">Ramos-BL</span><span class=\"\"> B cells from ionophore- and anti-IgM-triggered but not forskolin-triggered growth arrest and apoptosis; moreover, forskolin and anti-CD40 act additively and independently for enhanced growth inhibition.</span></li>\\n</ul>\\n</div>\\n\\n<div class=\"viewer-page\" id=\"viewer-page-34\">\\n    <ul class=\"list-group\">\\n<li class=\"list-group-item\" data-toggle=\"tooltip\" data-placement=\"top\" title=\"18707040\"><span class=\"\">In </span><span class=\"candidate 2 2-0\">renovascular hypertension</span><span class=\"\"> </span><span class=\"candidate 2 2-1\">chromogranin A</span><span class=\"\"> correlated positively with serum creatinine; chromogranin A was strongly elevated especially in chronic renal failure.</span></li>\\n\\n<li class=\"list-group-item\" data-toggle=\"tooltip\" data-placement=\"top\" title=\"18858216\"><span class=\"\">Because </span><span class=\"candidate 47 47-1\">chromogranin A</span><span class=\"\"> is increased in both human and rodent </span><span class=\"candidate 47 48 47-0 48-0\">genetic hypertension</span><span class=\"\">, we examined the influence of heredity and blood pressure on </span><span class=\"candidate 48 48-1\">chromogranin A</span><span class=\"\"> in humans.</span></li>\\n\\n<li class=\"list-group-item\" data-toggle=\"tooltip\" data-placement=\"top\" title=\"18858234\"><span class=\"\">In established essential </span><span class=\"candidate 18 18-0\">hypertension</span><span class=\"\">, plasma </span><span class=\"candidate 18 18-1\">chromogranin A</span><span class=\"\"> responses to adrenal medullary (insulin-evoked hypoglycemia) or sympathetic neuronal (dynamic exercise) activation were exaggerated, whereas responses to sympathoadrenal suppression (ganglionic blockade) were diminished, suggesting increased vesicular stores of chromogranin A and an adrenergic origin of the augmented chromogranin A expression in this disorder.</span></li>\\n</ul>\\n</div>\\n\\n<div class=\"viewer-page\" id=\"viewer-page-35\">\\n    <ul class=\"list-group\">\\n<li class=\"list-group-item\" data-toggle=\"tooltip\" data-placement=\"top\" title=\"18859325\"><span class=\"\">Assessment of dysplasia, mucosal mucins, </span><span class=\"candidate 73 73-1\">p53</span><span class=\"\"> protein expression, and DNA content in </span><span class=\"candidate 73 73-0\">ulcerative colitis</span><span class=\"\"> patients with colectomy and ileorectal anastomosis.</span></li>\\n\\n<li class=\"list-group-item\" data-toggle=\"tooltip\" data-placement=\"top\" title=\"18879150\"><span class=\"\">Three </span><span class=\"candidate 173 173-1\">p53</span><span class=\"\"> DNA polymorphisms (BstU I and Msp I restriction fragment length polymorphisms (RFLPs) in exon 4 and intron 6 respectively, and a 16 bp duplication in intron 3) and their haplotype combinations were studied in patients with colorectal cancer and compared with patients with </span><span class=\"candidate 173 173-0\">ulcerative colitis</span><span class=\"\"> and healthy controls.</span></li>\\n\\n<li class=\"list-group-item\" data-toggle=\"tooltip\" data-placement=\"top\" title=\"18908935\"><span class=\"\">Synovial fluid (SF) mononuclear cells (MNC) from 13 patients with rheumatoid arthritis (RA) and 12 patients with other arthritic diseases (OD) including </span><span class=\"candidate 130 130-0\">osteoarthritis</span><span class=\"\"> (</span><span class=\"candidate 137 137-0\">OA)</span><span class=\"\">, gout and spondyloarthritis (SA) were cultured in the presence of collagen types I and II or lipopolysaccharide (LPS) for 24 h. </span><span class=\"candidate 130 137 130-1 137-1\">Interleukin-1</span><span class=\"\"> (IL-1), IL-6 and tumor necrosis factor-alpha (TNF-alpha) in the SF and culture supernatants were assayed using ELISA.</span></li>\\n</ul>\\n</div>\\n\\n<div class=\"viewer-page\" id=\"viewer-page-36\">\\n    <ul class=\"list-group\">\\n<li class=\"list-group-item\" data-toggle=\"tooltip\" data-placement=\"top\" title=\"19011357\"><span class=\"\">Prognostic value of </span><span class=\"candidate 40 40-1\">cathepsin-D</span><span class=\"\"> expression in female </span><span class=\"candidate 40 40-0\">breast cancer</span><span class=\"\">.</span></li>\\n\\n<li class=\"list-group-item\" data-toggle=\"tooltip\" data-placement=\"top\" title=\"19011362\"><span class=\"\">Expression of an acidic lysosomal protease, </span><span class=\"candidate 104 104-1\">cathepsin-D</span><span class=\"\"> (</span><span class=\"candidate 106 106-1\">CD)</span><span class=\"\">, was analysed immunohistochemically in a series of 151 </span><span class=\"candidate 104 106 107 104-0 106-0 107-0\">breast carcinomas</span><span class=\"\"> with special reference to its prognostic significance, Strong expression of </span><span class=\"candidate 107 107-1\">CD</span><span class=\"\"> was detected in 22% of cases.</span></li>\\n\\n<li class=\"list-group-item\" data-toggle=\"tooltip\" data-placement=\"top\" title=\"19011400\"><span class=\"\">The results suggest that expression of </span><span class=\"candidate 86 86-1\">CD</span><span class=\"\"> is of borderline significance in evaluating the intrinsic </span><span class=\"candidate 86 86-0\">malignancy of female breast cancer</span><span class=\"\"> in general.</span></li>\\n</ul>\\n</div>\\n\\n<div class=\"viewer-page\" id=\"viewer-page-37\">\\n    <ul class=\"list-group\">\\n<li class=\"list-group-item\" data-toggle=\"tooltip\" data-placement=\"top\" title=\"19023052\"><span class=\"\">The combined results indicate that the two </span><span class=\"candidate 32 32-0\">breast cancer</span><span class=\"\"> cell lines are similar to biopsied malignant breast tissue in exhibiting altered acid protease isoform profiles with increased relative amounts of pepstatin-inhibitable and immunoreactive acid protease activity (</span><span class=\"candidate 32 32-1\">cathepsin D)</span><span class=\"\"> compared to normal breast tissue or cells.</span></li>\\n\\n<li class=\"list-group-item\" data-toggle=\"tooltip\" data-placement=\"top\" title=\"19086581\"><span class=\"\">The general consensus is that elevated concentrations of </span><span class=\"candidate 60 60-1\">cathepsin D</span><span class=\"\"> in </span><span class=\"candidate 60 60-0\">breast cancer</span><span class=\"\"> tissue are highly significant indicators of the potential for recurrence.</span></li>\\n\\n<li class=\"list-group-item\" data-toggle=\"tooltip\" data-placement=\"top\" title=\"19093053\"><span class=\"\">Increased risk of </span><span class=\"candidate 14 14-0\">pancreatic cancer</span><span class=\"\"> in melanoma-prone kindreds with </span><span class=\"candidate 14 14-1\">p16INK4</span><span class=\"\"> mutations.</span></li>\\n</ul>\\n</div>\\n\\n<div class=\"viewer-page\" id=\"viewer-page-38\">\\n    <ul class=\"list-group\">\\n<li class=\"list-group-item\" data-toggle=\"tooltip\" data-placement=\"top\" title=\"19094918\"><span class=\"\">Brief report: a familial syndrome of </span><span class=\"candidate 29 29-0\">pancreatic cancer</span><span class=\"\"> and melanoma with a mutation in the </span><span class=\"candidate 29 29-1\">CDKN2</span><span class=\"\"> tumor-suppressor gene.</span></li>\\n\\n<li class=\"list-group-item\" data-toggle=\"tooltip\" data-placement=\"top\" title=\"19109229\"><span class=\"\">A point mutation in the mRNA of </span><span class=\"candidate 129 129-1\">NADP(H): quinone oxidoreductase 1</span><span class=\"\"> (</span><span class=\"candidate 128 128-1\">NQO1</span><span class=\"\">, </span><span class=\"candidate 127 127-1\">DT-diaphorase)</span><span class=\"\"> is believed to be responsible for reduced enzyme activity in the </span><span class=\"candidate 127 128 129 127-0 128-0 129-0\">adenocarcinoma BE</span><span class=\"\"> cell line.</span></li>\\n\\n<li class=\"list-group-item\" data-toggle=\"tooltip\" data-placement=\"top\" title=\"19128342\"><span class=\"\">The human </span><span class=\"candidate 7 8 7-0 8-0\">hepatoma</span><span class=\"\"> cell line, HepG2, was used to examine the effect of inhibition of </span><span class=\"candidate 7 7-1\">CYP1A1</span><span class=\"\"> activity by anti </span><span class=\"candidate 8 8-1\">CYP1A1</span><span class=\"\"> specific antibodies on BaP metabolism.</span></li>\\n</ul>\\n</div>\\n\\n<div class=\"viewer-page\" id=\"viewer-page-39\">\\n    <ul class=\"list-group\">\\n<li class=\"list-group-item\" data-toggle=\"tooltip\" data-placement=\"top\" title=\"19169010\"><span class=\"\">We evaluated levels of mannose-6-phosphate/insulin growth factor-II receptor (M6P/IGFII-R) RNA in 37 </span><span class=\"candidate 90 90-0\">breast cancer tumors</span><span class=\"\"> by quantitative in situ hybridization using a computer-aided image analyzer and compared them to </span><span class=\"candidate 90 90-1\">cathepsin D</span><span class=\"\"> RNA and protein levels in the same tissues.</span></li>\\n\\n<li class=\"list-group-item\" data-toggle=\"tooltip\" data-placement=\"top\" title=\"19169020\"><span class=\"\">We found a significant increase of </span><span class=\"candidate 91 91-1\">cathepsin D</span><span class=\"\"> RNA (P = 1 x 10(-5)) and M6P/IGFII-R RNA (P = 0.02) in </span><span class=\"candidate 91 91-0\">breast cancer</span><span class=\"\"> cells compared to epithelial cells of benign mastopathies.</span></li>\\n\\n<li class=\"list-group-item\" data-toggle=\"tooltip\" data-placement=\"top\" title=\"19169045\"><span class=\"\">The M6P/IGFII-R could therefore be an additional parameter to predict aggressive </span><span class=\"candidate 69 69-0\">breast cancers</span><span class=\"\">, complementing </span><span class=\"candidate 69 69-1\">cathepsin D</span><span class=\"\"> assays and other more classical prognostic parameters.</span></li>\\n</ul>\\n</div>\\n\\n<div class=\"viewer-page\" id=\"viewer-page-40\">\\n    <ul class=\"list-group\">\\n<li class=\"list-group-item\" data-toggle=\"tooltip\" data-placement=\"top\" title=\"19183404\"><span class=\"\">DESIGN: Immunohistochemical localization of urokinase-type PA (</span><span class=\"candidate 147 147-1\">uPA)</span><span class=\"\">, tissue-type PA (tPA), type 1 PAI (PAI-1), and type 2 PAI (PAI-2) in four normal lung biopsy specimens and in four </span><span class=\"candidate 147 147-0\">adenocarcinomas</span><span class=\"\"> (AC), four squamous carcinomas (SC), two large-cell carcinomas (LCC), and ten small-cell carcinomas (SCC) biopsy specimens.</span></li>\\n\\n<li class=\"list-group-item\" data-toggle=\"tooltip\" data-placement=\"top\" title=\"19270267\"><span class=\"\">Direct determination of functional activity of </span><span class=\"candidate 79 79-1\">cytochrome P-4501A1</span><span class=\"\"> and NADPH DT-diaphorase in </span><span class=\"candidate 79 79-0\">hepatoma</span><span class=\"\"> cell lines using noninvasive scanning laser cytometry.</span></li>\\n\\n<li class=\"list-group-item\" data-toggle=\"tooltip\" data-placement=\"top\" title=\"19281536\"><span class=\"\">Overexpression of </span><span class=\"candidate 36 36-1\">uPA</span><span class=\"\"> was detected in 33% of </span><span class=\"candidate 36 36-0\">breast cancers</span><span class=\"\">, including 4 of 21 in situ carcinomas, 7 of 14 lobular and 2 of 10 tubular carcinomas.</span></li>\\n</ul>\\n</div>\\n\\n<div class=\"viewer-page\" id=\"viewer-page-41\">\\n    <ul class=\"list-group\">\\n<li class=\"list-group-item\" data-toggle=\"tooltip\" data-placement=\"top\" title=\"19281551\"><span class=\"\">We conclude that uPA gene amplification is not a major mechanism instigating </span><span class=\"candidate 85 85-1\">uPA</span><span class=\"\"> overexpression in </span><span class=\"candidate 85 85-0\">breast cancer</span><span class=\"\">, and that overexpression is likely to be controlled by other mechanisms.</span></li>\\n\\n<li class=\"list-group-item\" data-toggle=\"tooltip\" data-placement=\"top\" title=\"19349694\"><span class=\"candidate 122 122-1\">Vascular endothelial growth factor</span><span class=\"\"> (</span><span class=\"candidate 120 120-1\">VEGF)</span><span class=\"\">, a potent mitogen of endothelial cells, is produced in elevated amounts by many tumors, including </span><span class=\"candidate 120 122 120-0 122-0\">ovarian carcinomas</span><span class=\"\">.</span></li>\\n\\n<li class=\"list-group-item\" data-toggle=\"tooltip\" data-placement=\"top\" title=\"19429316\"><span class=\"\">Because human colon carcinomas from patients with </span><span class=\"candidate 38 38-0\">ulcerative colitis</span><span class=\"\"> have a very low incidence of Ki-ras mutation, this experimental system would be a good animal model of human colon carcinomas with </span><span class=\"candidate 152 152-0\">ulcerative colitis</span><span class=\"\"> and of human colon carcinomas without Ki-ras or </span><span class=\"candidate 38 152 38-1 152-1\">p53</span><span class=\"\"> mutations.</span></li>\\n</ul>\\n</div>\\n\\n<div class=\"viewer-page\" id=\"viewer-page-42\">\\n    <ul class=\"list-group\">\\n<li class=\"list-group-item\" data-toggle=\"tooltip\" data-placement=\"top\" title=\"19501026\"><span class=\"\">The immunohistochemical expression of the aspartyl protease enzyme </span><span class=\"candidate 121 121-1\">cathepsin D</span><span class=\"\"> was examined in a consecutive series of 103 primary operable </span><span class=\"candidate 121 121-0\">breast carcinomas</span><span class=\"\"> with the polyclonal antibody NCL-CDp.</span></li>\\n\\n<li class=\"list-group-item\" data-toggle=\"tooltip\" data-placement=\"top\" title=\"19501045\"><span class=\"candidate 31 31-1\">Cathepsin D</span><span class=\"\"> expression is present in all </span><span class=\"candidate 31 31-0\">breast tumours</span><span class=\"\">.</span></li>\\n\\n<li class=\"list-group-item\" data-toggle=\"tooltip\" data-placement=\"top\" title=\"19501051\"><span class=\"\">Stromal </span><span class=\"candidate 174 174-1\">cathepsin D</span><span class=\"\"> expression is a neglected immunohistochemical prognostic parameter which could explain some of the previous apparently conflicting reports concerning the effect on patient prognosis of biochemical (i.e. total) and immunohistochemical estimations of cathepsin D in </span><span class=\"candidate 174 174-0\">breast cancers</span><span class=\"\">.</span></li>\\n</ul>\\n</div>\\n\\n<div class=\"viewer-page\" id=\"viewer-page-43\">\\n    <ul class=\"list-group\">\\n<li class=\"list-group-item\" data-toggle=\"tooltip\" data-placement=\"top\" title=\"19513067\"><span class=\"\">We investigated the nature of cytokines synthesized by human osteoarthritic (</span><span class=\"candidate 68 68-0\">OA)</span><span class=\"\"> synovium, particularly </span><span class=\"candidate 68 68-1\">interleukin 1 alpha</span><span class=\"\"> (IL-1 alpha), interleukin 1 beta (IL-1 beta), and tumor necrosis factor alpha (TNF alpha).</span></li>\\n\\n<li class=\"list-group-item\" data-toggle=\"tooltip\" data-placement=\"top\" title=\"19514487\"><span class=\"\">The occurrence of thyroid abnormalities and the appearance of organ- and non-organ-specific autoantibodies during long-term recombinant </span><span class=\"candidate 175 175-1\">interferon alpha-2a</span><span class=\"\"> (IFN-alpha) therapy were studied in 86 and 51 consecutive outpatients with hepatitis C and B virus-related chronic active hepatitis (</span><span class=\"candidate 175 175-0\">CAH-HCV and CAH-HBV)</span><span class=\"\">, respectively.</span></li>\\n\\n<li class=\"list-group-item\" data-toggle=\"tooltip\" data-placement=\"top\" title=\"19521390\"><span class=\"\">The inhibitory effects of amiloride on </span><span class=\"candidate 150 150-1\">uPA</span><span class=\"\"> gene expression reported in this paper may offer the prospect of developing new therapeutic approaches to the prevention of invasion and metastasis by </span><span class=\"candidate 150 150-0\">adenocarcinomas</span><span class=\"\">.</span></li>\\n</ul>\\n</div>\\n\\n<div class=\"viewer-page\" id=\"viewer-page-44\">\\n    <ul class=\"list-group\">\\n<li class=\"list-group-item\" data-toggle=\"tooltip\" data-placement=\"top\" title=\"19579910\"><span class=\"\">In this investigation we show that uPAR levels correlate with </span><span class=\"candidate 70 70-1\">uPA</span><span class=\"\"> levels in human </span><span class=\"candidate 70 70-0\">breast cancers</span><span class=\"\">.</span></li>\\n\\n<li class=\"list-group-item\" data-toggle=\"tooltip\" data-placement=\"top\" title=\"19620309\"><span class=\"\">Our results suggest that the effects of hCG on the development and course of </span><span class=\"candidate 67 67-0\">OHSS</span><span class=\"\"> may be mediated by the production of </span><span class=\"candidate 67 67-1\">VEGF/VPF</span><span class=\"\"> by GCs.</span></li>\\n\\n<li class=\"list-group-item\" data-toggle=\"tooltip\" data-placement=\"top\" title=\"19626196\"><span class=\"\">Effect of a negative regulatory element (NRE) on the human </span><span class=\"candidate 100 100-1\">CYP1A1</span><span class=\"\"> gene expression in breast carcinoma MCF-7 and </span><span class=\"candidate 100 100-0\">hepatoma</span><span class=\"\"> HepG2 cells.</span></li>\\n</ul>\\n</div>\\n\\n<div class=\"viewer-page\" id=\"viewer-page-45\">\\n    <ul class=\"list-group\">\\n<li class=\"list-group-item\" data-toggle=\"tooltip\" data-placement=\"top\" title=\"19662710\"><span class=\"\">However, TCDD and other Ah receptor agonists also inhibit expression of several genes and research in this laboratory has investigated inhibition of estrogen (E2)-induced genes including uterine epidermal growth factor, c-fos protooncogene, and the progesterone receptor, estrogen receptor (ER) and </span><span class=\"candidate 180 180-1\">cathepsin D</span><span class=\"\"> genes in human </span><span class=\"candidate 180 180-0\">breast cancer</span><span class=\"\"> cell lines.</span></li>\\n\\n<li class=\"list-group-item\" data-toggle=\"tooltip\" data-placement=\"top\" title=\"19665837\"><span class=\"\">Immunohistochemically, the tumor cells in foveolar-type </span><span class=\"candidate 45 45-0\">adenocarcinoma</span><span class=\"\"> were diffusely positive for </span><span class=\"candidate 45 45-1\">cathepsin D.</span><span class=\"\"> Flow cytometrical analysis of DNA content showed the AC area to be diploid and the SCC area to be aneuploid.</span></li>\\n\\n<li class=\"list-group-item\" data-toggle=\"tooltip\" data-placement=\"top\" title=\"19681088\"><span class=\"\">[The prognostic value of </span><span class=\"candidate 63 63-1\">cathepsin D</span><span class=\"\"> concentration in cytosol of primary </span><span class=\"candidate 63 63-0\">breast carcinoma]</span><span class=\"\">.</span></li>\\n</ul>\\n</div>\\n</div>\\n    <div class=\"panel-footer\">\\n        <div class=\"btn-group\" role=\"group\" aria-label=\"...\">\\n            \\n            <!-- Previous page --!>\\n            <button id=\"prev-page\" type=\"button\" class=\"btn btn-default\" data-toggle=\"tooltip\" data-placement=\"top\" title=\"i\">\\n                <i class=\"fa fa-arrow-up\" aria-hidden=\"true\"></i>\\n            </button>\\n\\n            <!-- Previous context --!>\\n            <button id=\"prev-context\" type=\"button\" class=\"btn btn-default\" data-toggle=\"tooltip\" data-placement=\"top\" title=\"i\">\\n                <i class=\"fa fa-step-backward\" aria-hidden=\"true\"></i>\\n            </button>\\n\\n            <!-- Previous candidate --!>\\n            <button id=\"prev-cand\" type=\"button\" class=\"btn btn-default\" data-toggle=\"tooltip\" data-placement=\"top\" title=\"j\">\\n                <i class=\"fa fa-arrow-left\" aria-hidden=\"true\"></i>\\n            </button>\\n\\n            <!-- Next candidate --!>\\n            <button id=\"next-cand\" type=\"button\" class=\"btn btn-default\" data-toggle=\"tooltip\" data-placement=\"top\" title=\"l\">\\n                <i class=\"fa fa-arrow-right\" aria-hidden=\"true\"></i>\\n            </button>\\n\\n            <!-- Next context --!>\\n            <button id=\"next-context\" type=\"button\" class=\"btn btn-default\" data-toggle=\"tooltip\" data-placement=\"top\" title=\"k\">\\n                <i class=\"fa fa-step-forward\" aria-hidden=\"true\"></i>\\n            </button>\\n\\n            <!-- Next page --!>\\n            <button id=\"next-page\" type=\"button\" class=\"btn btn-default\" data-toggle=\"tooltip\" data-placement=\"top\" title=\"k\">\\n                <i class=\"fa fa-arrow-down\" aria-hidden=\"true\"></i>\\n            </button>\\n        </div>\\n        <div class=\"btn-group\" role=\"group\" aria-label=\"...\">\\n            <button id=\"label-true\" type=\"button\" class=\"btn btn-success\" data-toggle=\"tooltip\" data-placement=\"top\" title=\"t\">\\n                <i class=\"fa fa-check\" aria-hidden=\"true\"></i>\\n            </button>\\n            <button id=\"label-false\" type=\"button\" class=\"btn btn-danger\" data-toggle=\"tooltip\" data-placement=\"top\" title=\"f\">\\n                <i class=\"fa fa-times\" aria-hidden=\"true\"></i>\\n            </button>\\n        </div>\\n        &nbsp;&nbsp;&nbsp;\\n        <span class=\"help-text\">Viewer must be focused for keyboard control</span>\\n        <div class=\"page-num panel-left-justify\">Page <span id=\"page\">0</span></div>\\n    </div>\\n</div>\\n')"
      ]
     },
     "metadata": {},
     "output_type": "display_data"
    }
   ],
   "source": [
    "sv"
   ]
  },
  {
   "cell_type": "code",
   "execution_count": 36,
   "metadata": {
    "scrolled": false
   },
   "outputs": [
    {
     "data": {
      "text/plain": [
       "DiseaseGene(Span(\"b'Hypothyroidism'\", sentence=3323208, chars=[0,13], words=[0,0]), Span(\"b'hormone'\", sentence=3323208, chars=[148,154], words=[18,18]))"
      ]
     },
     "execution_count": 36,
     "metadata": {},
     "output_type": "execute_result"
    }
   ],
   "source": [
    "c = sv.get_selected() if sv else list(fp.union(fn))[0]\n",
    "c"
   ]
  },
  {
   "cell_type": "code",
   "execution_count": 37,
   "metadata": {
    "scrolled": false
   },
   "outputs": [
    {
     "data": {
      "text/plain": [
       "[Label (LF_HETNET_DISEASES = 1),\n",
       " Label (LF_CHECK_GENE_TAG = -1),\n",
       " Label (LF_NO_CONCLUSION = -1),\n",
       " Label (LF_DG_ALLOWED_DISTANCE = 1)]"
      ]
     },
     "execution_count": 37,
     "metadata": {},
     "output_type": "execute_result"
    }
   ],
   "source": [
    "c.labels"
   ]
  },
  {
   "cell_type": "code",
   "execution_count": 38,
   "metadata": {},
   "outputs": [
    {
     "data": {
      "text/plain": [
       "243174"
      ]
     },
     "execution_count": 38,
     "metadata": {},
     "output_type": "execute_result"
    }
   ],
   "source": [
    "c.id"
   ]
  },
  {
   "cell_type": "markdown",
   "metadata": {},
   "source": [
    "## Generate Excel File of Train Data"
   ]
  },
  {
   "cell_type": "markdown",
   "metadata": {},
   "source": [
    "Lastly we write out the generative model's output into a file. Reason for this will be used in the [next notebook](4.sentence-level-prediction.ipynb), where we aim to use a noise aware discriminator model to correct for the generative models' errors."
   ]
  },
  {
   "cell_type": "code",
   "execution_count": null,
   "metadata": {
    "scrolled": true
   },
   "outputs": [],
   "source": [
    "def make_sentence_df(lf_matrix, marginals, pair_df):\n",
    "    rows = list()\n",
    "    for i in tqdm.tqdm(range(lf_matrix.shape[0])):\n",
    "        row = OrderedDict()\n",
    "        candidate = lf_matrix.get_candidate(session, i)\n",
    "        row['candidate_id'] = candidate.id\n",
    "        row['disease'] = candidate[0].get_span()\n",
    "        row['gene'] = candidate[1].get_span()\n",
    "        row['doid_id'] = candidate.Disease_cid\n",
    "        row['entrez_gene_id'] = candidate.Gene_cid\n",
    "        row['sentence'] = candidate.get_parent().text\n",
    "        row['label'] = marginals[i]\n",
    "        rows.append(row)\n",
    "    sentence_df = pd.DataFrame(rows)\n",
    "    sentence_df['entrez_gene_id'] = sentence_df.entrez_gene_id.astype(int)\n",
    "    sentence_df = pd.merge(\n",
    "        sentence_df,\n",
    "        pair_df[[\"doid_id\", \"entrez_gene_id\", \"doid_name\", \"gene_symbol\"]],\n",
    "        on=[\"doid_id\", \"entrez_gene_id\"],\n",
    "        how=\"left\"\n",
    "    )\n",
    "    sentence_df = pd.concat([\n",
    "        sentence_df,\n",
    "        pd.DataFrame(lf_matrix.todense(), columns=list(LFS))\n",
    "    ], axis='columns')\n",
    "    return sentence_df"
   ]
  },
  {
   "cell_type": "code",
   "execution_count": null,
   "metadata": {},
   "outputs": [],
   "source": [
    "pair_df = pd.read_csv(\"data/disease-gene-pairs-association.csv.xz\", compression='xz')\n",
    "pair_df.head(2)"
   ]
  },
  {
   "cell_type": "code",
   "execution_count": null,
   "metadata": {},
   "outputs": [],
   "source": [
    "train_sentence_df = make_sentence_df(L_train, train_marginals, pair_df)\n",
    "train_sentence_df.head(2)"
   ]
  },
  {
   "cell_type": "code",
   "execution_count": null,
   "metadata": {},
   "outputs": [],
   "source": [
    "writer = pd.ExcelWriter('data/sentence-labels.xlsx')\n",
    "(train_sentence_df\n",
    "    .to_excel(writer, sheet_name='sentences', index=False)\n",
    ")\n",
    "if writer.engine == 'xlsxwriter':\n",
    "    for sheet in writer.sheets.values():\n",
    "        sheet.freeze_panes(1, 0)\n",
    "writer.close()"
   ]
  },
  {
   "cell_type": "markdown",
   "metadata": {},
   "source": [
    "## Generate Excel File of Dev Data"
   ]
  },
  {
   "cell_type": "code",
   "execution_count": null,
   "metadata": {},
   "outputs": [],
   "source": [
    "dev_sentence_df = make_sentence_df(L_dev, dev_marginals, pair_df)\n",
    "dev_sentence_df.head(2)"
   ]
  },
  {
   "cell_type": "code",
   "execution_count": null,
   "metadata": {},
   "outputs": [],
   "source": [
    "writer = pd.ExcelWriter('data/sentence-labels-dev.xlsx')\n",
    "(dev_sentence_df\n",
    "    .sample(frac=1, random_state=100)\n",
    "    .to_excel(writer, sheet_name='sentences', index=False)\n",
    ")\n",
    "if writer.engine == 'xlsxwriter':\n",
    "    for sheet in writer.sheets.values():\n",
    "        sheet.freeze_panes(1, 0)\n",
    "writer.close()"
   ]
  }
 ],
 "metadata": {
  "anaconda-cloud": {},
  "kernelspec": {
   "display_name": "Python [conda env:snorkeling]",
   "language": "python",
   "name": "conda-env-snorkeling-py"
  },
  "language_info": {
   "codemirror_mode": {
    "name": "ipython",
    "version": 3
   },
   "file_extension": ".py",
   "mimetype": "text/x-python",
   "name": "python",
   "nbconvert_exporter": "python",
   "pygments_lexer": "ipython3",
   "version": "3.6.4"
  }
 },
 "nbformat": 4,
 "nbformat_minor": 2
}
