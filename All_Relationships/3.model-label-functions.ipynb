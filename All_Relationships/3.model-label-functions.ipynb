{
 "cells": [
  {
   "cell_type": "markdown",
   "metadata": {},
   "source": [
    "# Train the Generative Model for Candidate Labeling"
   ]
  },
  {
   "cell_type": "markdown",
   "metadata": {},
   "source": [
    "This notebook is designed to run a generative model that snorkel uses to probabilistically label each candidate. (1 for positive label and -1 for negative label). Using this generative model, we will test the hypothesis: **modeling correlation structure between label functions provides better precision and recall than the conditionally independent model.**"
   ]
  },
  {
   "cell_type": "markdown",
   "metadata": {},
   "source": [
    "## MUST RUN AT THE START OF EVERYTHING"
   ]
  },
  {
   "cell_type": "markdown",
   "metadata": {},
   "source": [
    "Import the necessary modules and set up the database for database operations."
   ]
  },
  {
   "cell_type": "code",
   "execution_count": 1,
   "metadata": {},
   "outputs": [],
   "source": [
    "%load_ext autoreload\n",
    "%autoreload 2\n",
    "%matplotlib inline\n",
    "\n",
    "from collections import Counter, OrderedDict, defaultdict\n",
    "import os\n",
    "import tqdm\n",
    "\n",
    "import matplotlib.pyplot as plt\n",
    "import numpy as np\n",
    "import pandas as pd\n",
    "import seaborn as sns\n",
    "from sklearn.metrics import average_precision_score, precision_recall_curve, roc_curve, auc, f1_score"
   ]
  },
  {
   "cell_type": "code",
   "execution_count": 2,
   "metadata": {},
   "outputs": [],
   "source": [
    "#Set up the environment\n",
    "username = \"danich1\"\n",
    "password = \"snorkel\"\n",
    "dbname = \"pubmeddb\"\n",
    "\n",
    "#Path subject to change for different os\n",
    "database_str = \"postgresql+psycopg2://{}:{}@/{}?host=/var/run/postgresql\".format(username, password, dbname)\n",
    "os.environ['SNORKELDB'] = database_str\n",
    "\n",
    "from snorkel import SnorkelSession\n",
    "session = SnorkelSession()"
   ]
  },
  {
   "cell_type": "code",
   "execution_count": 3,
   "metadata": {},
   "outputs": [],
   "source": [
    "from snorkel import SnorkelSession\n",
    "from snorkel.annotations import load_gold_labels\n",
    "from snorkel.annotations import FeatureAnnotator, LabelAnnotator, save_marginals\n",
    "from snorkel.learning import GenerativeModel\n",
    "from snorkel.learning.structure import DependencySelector\n",
    "from snorkel.learning.utils import MentionScorer\n",
    "from snorkel.models import Candidate, FeatureKey, candidate_subclass, Label\n",
    "from snorkel.utils import get_as_dict\n",
    "from utils.disease_gene_lf import LFS"
   ]
  },
  {
   "cell_type": "code",
   "execution_count": 4,
   "metadata": {},
   "outputs": [],
   "source": [
    "edge_type = \"dg\""
   ]
  },
  {
   "cell_type": "code",
   "execution_count": 5,
   "metadata": {},
   "outputs": [],
   "source": [
    "if edge_type == \"dg\":\n",
    "    DiseaseGene = candidate_subclass('DiseaseGene', ['Disease', 'Gene'])\n",
    "elif edge_type == \"gg\":\n",
    "    GeneGene = candidate_subclass('GeneGene', ['Gene1', 'Gene2'])\n",
    "elif edge_type == \"cg\":\n",
    "    CompoundGene = candidate_subclass('CompoundGene', ['Compound', 'Gene'])\n",
    "elif edge_type == \"cd\":\n",
    "    CompoundDisease = candidate_subclass('CompoundDisease', ['Compound', 'Disease'])\n",
    "else:\n",
    "    print(\"Please pick a valid edge type\")"
   ]
  },
  {
   "cell_type": "markdown",
   "metadata": {},
   "source": [
    "# Load preprocessed data "
   ]
  },
  {
   "cell_type": "markdown",
   "metadata": {},
   "source": [
    "This code will load the corresponding label matricies that were generated in the previous notebook ([Notebook 2](2.data-labeler.ipynb)). This notebook has three matricies which are broken down as follows:\n",
    "\n",
    "|Dataset|Size|Description|\n",
    "|:-----|-----|:-----|\n",
    "|L_train|50,000|Randomly sampled from our 2,700,000 training set|\n",
    "|L_dev|10,000|Randomly sampled from our 700,000 dev set. Only 200 have been hand labeled|\n",
    "|L_train_labeled|919|Have been hand labled from training set and is separate from (L_train).|"
   ]
  },
  {
   "cell_type": "code",
   "execution_count": 6,
   "metadata": {},
   "outputs": [
    {
     "data": {
      "text/plain": [
       "[9951794,\n",
       " 904609,\n",
       " 5192262,\n",
       " 14552559,\n",
       " 16277239,\n",
       " 7513663,\n",
       " 26709637,\n",
       " 18498661,\n",
       " 31276326,\n",
       " 7508019]"
      ]
     },
     "execution_count": 6,
     "metadata": {},
     "output_type": "execute_result"
    }
   ],
   "source": [
    "train_candidate_ids = np.loadtxt('data/labeled_candidates.txt').astype(int).tolist()\n",
    "train_candidate_ids[0:10]"
   ]
  },
  {
   "cell_type": "code",
   "execution_count": 7,
   "metadata": {},
   "outputs": [
    {
     "name": "stdout",
     "output_type": "stream",
     "text": [
      "Total Hand Labeled Dev Sentences: 210\n"
     ]
    }
   ],
   "source": [
    "dev_data_df = pd.read_excel(\"data/sentence-labels-dev-hand-labeled.xlsx\")\n",
    "dev_data_df = dev_data_df[dev_data_df.curated_dsh.notnull()]\n",
    "dev_data_df = dev_data_df.sort_values(\"candidate_id\")\n",
    "dev_candidate_ids = list(map(int, dev_data_df.candidate_id.values))\n",
    "print(\"Total Hand Labeled Dev Sentences: {}\".format(len(dev_candidate_ids)))"
   ]
  },
  {
   "cell_type": "code",
   "execution_count": 8,
   "metadata": {},
   "outputs": [
    {
     "name": "stdout",
     "output_type": "stream",
     "text": [
      "CPU times: user 2.32 s, sys: 7.88 ms, total: 2.33 s\n",
      "Wall time: 2.6 s\n"
     ]
    }
   ],
   "source": [
    "%%time\n",
    "labeler = LabelAnnotator(lfs=[])\n",
    "\n",
    "# Only grab candidates that have labels\n",
    "cids = session.query(Candidate.id).filter(Candidate.id.in_(train_candidate_ids))\n",
    "L_train = labeler.load_matrix(session, cids_query=cids)\n",
    "\n",
    "cids = session.query(Candidate.id).filter(Candidate.id.in_(dev_candidate_ids))\n",
    "L_dev = labeler.load_matrix(session,cids_query=cids)"
   ]
  },
  {
   "cell_type": "code",
   "execution_count": 9,
   "metadata": {},
   "outputs": [],
   "source": [
    "sql = '''\n",
    "SELECT candidate_id FROM gold_label\n",
    "INNER JOIN Candidate ON Candidate.id=gold_label.candidate_id\n",
    "WHERE Candidate.split=0;\n",
    "'''\n",
    "cids = session.query(Candidate.id).filter(Candidate.id.in_([x[0] for x in session.execute(sql)]))\n",
    "L_train_labeled = labeler.load_matrix(session, cids_query=cids)\n",
    "L_train_labeled_gold = load_gold_labels(session, annotator_name='danich1', cids_query=cids)"
   ]
  },
  {
   "cell_type": "code",
   "execution_count": 10,
   "metadata": {},
   "outputs": [
    {
     "name": "stdout",
     "output_type": "stream",
     "text": [
      "Total Number of Hand Labeled Candidates: 919\n",
      "\n",
      "Distribution of Labels:\n",
      "-1    473\n",
      " 1    446\n",
      "Name: labels, dtype: int64\n"
     ]
    }
   ],
   "source": [
    "print(\"Total Number of Hand Labeled Candidates: {}\\n\".format(L_train_labeled_gold.shape[0]))\n",
    "print(\"Distribution of Labels:\")\n",
    "print(pd.DataFrame(L_train_labeled_gold.toarray(), columns=[\"labels\"])[\"labels\"].value_counts())"
   ]
  },
  {
   "cell_type": "code",
   "execution_count": 11,
   "metadata": {},
   "outputs": [
    {
     "name": "stdout",
     "output_type": "stream",
     "text": [
      "Total Size of Train Data: 50000\n",
      "Total Number of Label Functions: 17\n"
     ]
    }
   ],
   "source": [
    "print(\"Total Size of Train Data: {}\".format(L_train.shape[0]))\n",
    "print(\"Total Number of Label Functions: {}\".format(L_train.shape[1]))"
   ]
  },
  {
   "cell_type": "markdown",
   "metadata": {},
   "source": [
    "# Train the Generative Model"
   ]
  },
  {
   "cell_type": "markdown",
   "metadata": {},
   "source": [
    "Here is the first step in classifying candidate sentences. We train a generative model to probabilistically label each training sentence. This means the model assigns a probability to each sentence indicating whether or not it mentions a given relatinoship (> 0.5 if yes, 0.5 < if no). The generative model snorkel uses is a [factor graph](http://deepdive.stanford.edu/assets/factor_graph.pdf) and further information on this model can be found in their paper [here](https://arxiv.org/abs/1711.10160).\n",
    "\n",
    "The following code below trains two different generative models. One model follows the assumption that each label function is independent of each other, while the other model assumes there are dependancies between each function (e.g. $L_{1}$ correlates with $L_{2}$)."
   ]
  },
  {
   "cell_type": "code",
   "execution_count": 12,
   "metadata": {},
   "outputs": [
    {
     "name": "stdout",
     "output_type": "stream",
     "text": [
      "Inferred cardinality: 2\n",
      "CPU times: user 1min 57s, sys: 192 ms, total: 1min 57s\n",
      "Wall time: 46.3 s\n"
     ]
    }
   ],
   "source": [
    "%%time\n",
    "#Conditionally independent Generative Model\n",
    "indep_gen_model = GenerativeModel()\n",
    "indep_gen_model.train(\n",
    "    L_train,\n",
    "    epochs=40,\n",
    "    decay=0.95,\n",
    "    step_size=0.1 / L_train.shape[0],\n",
    "    reg_param=1e-6,\n",
    "    threads=50,\n",
    ")"
   ]
  },
  {
   "cell_type": "code",
   "execution_count": 13,
   "metadata": {},
   "outputs": [
    {
     "data": {
      "text/plain": [
       "64"
      ]
     },
     "execution_count": 13,
     "metadata": {},
     "output_type": "execute_result"
    }
   ],
   "source": [
    "# select the dependancies from the label matrix\n",
    "ds = DependencySelector()\n",
    "deps = ds.select(L_train, threshold=0.1)\n",
    "len(deps)"
   ]
  },
  {
   "cell_type": "code",
   "execution_count": 14,
   "metadata": {
    "scrolled": true
   },
   "outputs": [
    {
     "name": "stdout",
     "output_type": "stream",
     "text": [
      "Inferred cardinality: 2\n",
      "CPU times: user 3min 24s, sys: 299 ms, total: 3min 24s\n",
      "Wall time: 1min 34s\n"
     ]
    }
   ],
   "source": [
    "%%time\n",
    "# Model each label function and the underlying correlation structure\n",
    "gen_model = GenerativeModel(lf_propensity=True)\n",
    "gen_model.train(\n",
    "    L_train,\n",
    "    epochs=30,\n",
    "    decay=0.95,\n",
    "    step_size=0.1 / L_train.shape[0],\n",
    "    reg_param=1e-6,\n",
    "    threads=50,\n",
    "    deps=deps\n",
    ")"
   ]
  },
  {
   "cell_type": "markdown",
   "metadata": {},
   "source": [
    "# Generative Model Statistics"
   ]
  },
  {
   "cell_type": "markdown",
   "metadata": {},
   "source": [
    "Now that both models have been trained, the next step is to generate some statistics about each model. The two histograms below show a difference between both models' output. The conditionally independent model (CI) predicts more negative candidates compared to the dependancy aware model (DA)."
   ]
  },
  {
   "cell_type": "code",
   "execution_count": 15,
   "metadata": {
    "scrolled": false
   },
   "outputs": [],
   "source": [
    "# Generate Statistics of Generative Model\n",
    "indep_learned_stats_df = indep_gen_model.learned_lf_stats()\n",
    "learned_stats_df = gen_model.learned_lf_stats()"
   ]
  },
  {
   "cell_type": "code",
   "execution_count": 16,
   "metadata": {},
   "outputs": [
    {
     "name": "stdout",
     "output_type": "stream",
     "text": [
      "CPU times: user 1min 30s, sys: 7.6 ms, total: 1min 30s\n",
      "Wall time: 1min 30s\n"
     ]
    }
   ],
   "source": [
    "%%time \n",
    "train_marginals_indep = indep_gen_model.marginals(L_train)\n",
    "train_marginals = gen_model.marginals(L_train)"
   ]
  },
  {
   "cell_type": "code",
   "execution_count": 17,
   "metadata": {},
   "outputs": [
    {
     "data": {
      "image/png": "[encoded data removed]",
      "text/plain": [
       "<matplotlib.figure.Figure at 0x7f9129ac42e8>"
      ]
     },
     "metadata": {},
     "output_type": "display_data"
    }
   ],
   "source": [
    "plt.hist(train_marginals_indep, bins=20)\n",
    "plt.title(\"CI Training Set Marginals\")\n",
    "plt.ylabel(\"Frequency\")\n",
    "plt.xlabel(\"Probability of Positive Class\")\n",
    "plt.show()"
   ]
  },
  {
   "cell_type": "code",
   "execution_count": 18,
   "metadata": {},
   "outputs": [
    {
     "data": {
      "image/png": "[encoded data removed]",
      "text/plain": [
       "<matplotlib.figure.Figure at 0x7f912223a5f8>"
      ]
     },
     "metadata": {},
     "output_type": "display_data"
    }
   ],
   "source": [
    "plt.hist(train_marginals, bins=20)\n",
    "plt.title(\"DA Training Set Marginals\")\n",
    "plt.ylabel(\"Frequency\")\n",
    "plt.xlabel(\"Probability of Positive Class\")\n",
    "plt.show()"
   ]
  },
  {
   "cell_type": "markdown",
   "metadata": {},
   "source": [
    "# Training Set Statistics"
   ]
  },
  {
   "cell_type": "markdown",
   "metadata": {},
   "source": [
    "Taking a closer look into the training set predictions, we can see how each label function individually performed. The two dataframes below contain the follwoing information: number of candidate sentences a label function has labeled (coverage), number of candidate sentences a label function agreed with another label function (overlaps), number of candidates a label function disagreed with another label function (conflicts), and lastly, the accuracy each label function has after training the generative model (Learned Acc)."
   ]
  },
  {
   "cell_type": "code",
   "execution_count": 19,
   "metadata": {
    "scrolled": false
   },
   "outputs": [
    {
     "data": {
      "text/html": [
       "<div>\n",
       "<style scoped>\n",
       "    .dataframe tbody tr th:only-of-type {\n",
       "        vertical-align: middle;\n",
       "    }\n",
       "\n",
       "    .dataframe tbody tr th {\n",
       "        vertical-align: top;\n",
       "    }\n",
       "\n",
       "    .dataframe thead th {\n",
       "        text-align: right;\n",
       "    }\n",
       "</style>\n",
       "<table border=\"1\" class=\"dataframe\">\n",
       "  <thead>\n",
       "    <tr style=\"text-align: right;\">\n",
       "      <th></th>\n",
       "      <th>j</th>\n",
       "      <th>Coverage</th>\n",
       "      <th>Overlaps</th>\n",
       "      <th>Conflicts</th>\n",
       "      <th>Learned Acc.</th>\n",
       "    </tr>\n",
       "  </thead>\n",
       "  <tbody>\n",
       "    <tr>\n",
       "      <th>LF_HETNET_DISEASES</th>\n",
       "      <td>0</td>\n",
       "      <td>0.40212</td>\n",
       "      <td>0.40212</td>\n",
       "      <td>0.37272</td>\n",
       "      <td>0.637386</td>\n",
       "    </tr>\n",
       "    <tr>\n",
       "      <th>LF_HETNET_DOAF</th>\n",
       "      <td>1</td>\n",
       "      <td>0.16650</td>\n",
       "      <td>0.16650</td>\n",
       "      <td>0.15012</td>\n",
       "      <td>0.585770</td>\n",
       "    </tr>\n",
       "  </tbody>\n",
       "</table>\n",
       "</div>"
      ],
      "text/plain": [
       "                    j  Coverage  Overlaps  Conflicts  Learned Acc.\n",
       "LF_HETNET_DISEASES  0   0.40212   0.40212    0.37272      0.637386\n",
       "LF_HETNET_DOAF      1   0.16650   0.16650    0.15012      0.585770"
      ]
     },
     "execution_count": 19,
     "metadata": {},
     "output_type": "execute_result"
    }
   ],
   "source": [
    "indep_results_df = L_train.lf_stats(session, est_accs=indep_learned_stats_df['Accuracy'])\n",
    "indep_results_df.head(2)"
   ]
  },
  {
   "cell_type": "code",
   "execution_count": 20,
   "metadata": {
    "scrolled": true
   },
   "outputs": [
    {
     "data": {
      "text/html": [
       "<div>\n",
       "<style scoped>\n",
       "    .dataframe tbody tr th:only-of-type {\n",
       "        vertical-align: middle;\n",
       "    }\n",
       "\n",
       "    .dataframe tbody tr th {\n",
       "        vertical-align: top;\n",
       "    }\n",
       "\n",
       "    .dataframe thead th {\n",
       "        text-align: right;\n",
       "    }\n",
       "</style>\n",
       "<table border=\"1\" class=\"dataframe\">\n",
       "  <thead>\n",
       "    <tr style=\"text-align: right;\">\n",
       "      <th></th>\n",
       "      <th>j</th>\n",
       "      <th>Coverage</th>\n",
       "      <th>Overlaps</th>\n",
       "      <th>Conflicts</th>\n",
       "      <th>Learned Acc.</th>\n",
       "    </tr>\n",
       "  </thead>\n",
       "  <tbody>\n",
       "    <tr>\n",
       "      <th>LF_HETNET_DISEASES</th>\n",
       "      <td>0</td>\n",
       "      <td>0.40212</td>\n",
       "      <td>0.40212</td>\n",
       "      <td>0.37272</td>\n",
       "      <td>0.822227</td>\n",
       "    </tr>\n",
       "    <tr>\n",
       "      <th>LF_HETNET_DOAF</th>\n",
       "      <td>1</td>\n",
       "      <td>0.16650</td>\n",
       "      <td>0.16650</td>\n",
       "      <td>0.15012</td>\n",
       "      <td>0.710969</td>\n",
       "    </tr>\n",
       "  </tbody>\n",
       "</table>\n",
       "</div>"
      ],
      "text/plain": [
       "                    j  Coverage  Overlaps  Conflicts  Learned Acc.\n",
       "LF_HETNET_DISEASES  0   0.40212   0.40212    0.37272      0.822227\n",
       "LF_HETNET_DOAF      1   0.16650   0.16650    0.15012      0.710969"
      ]
     },
     "execution_count": 20,
     "metadata": {},
     "output_type": "execute_result"
    }
   ],
   "source": [
    "results_df = L_train.lf_stats(session, est_accs=learned_stats_df['Accuracy'])\n",
    "results_df.head(2)"
   ]
  },
  {
   "cell_type": "markdown",
   "metadata": {},
   "source": [
    "The following bar charts below depict the weights the generative model assigns to each label function. The conditional independent model relies heavily on LF_HETNET_ABSENT and LF_NO_CONCLUSION, while the dependancy aware model relies more on the database-backed label functions. Ultimately, the DA model emphasizes more postive labels compared to the CI model. "
   ]
  },
  {
   "cell_type": "code",
   "execution_count": 21,
   "metadata": {},
   "outputs": [
    {
     "data": {
      "text/html": [
       "<div>\n",
       "<style scoped>\n",
       "    .dataframe tbody tr th:only-of-type {\n",
       "        vertical-align: middle;\n",
       "    }\n",
       "\n",
       "    .dataframe tbody tr th {\n",
       "        vertical-align: top;\n",
       "    }\n",
       "\n",
       "    .dataframe thead th {\n",
       "        text-align: right;\n",
       "    }\n",
       "</style>\n",
       "<table border=\"1\" class=\"dataframe\">\n",
       "  <thead>\n",
       "    <tr style=\"text-align: right;\">\n",
       "      <th></th>\n",
       "      <th>index</th>\n",
       "      <th>Learned Acc.</th>\n",
       "      <th>model</th>\n",
       "    </tr>\n",
       "  </thead>\n",
       "  <tbody>\n",
       "    <tr>\n",
       "      <th>0</th>\n",
       "      <td>LF_HETNET_DISEASES</td>\n",
       "      <td>0.822227</td>\n",
       "      <td>DA</td>\n",
       "    </tr>\n",
       "    <tr>\n",
       "      <th>1</th>\n",
       "      <td>LF_HETNET_DOAF</td>\n",
       "      <td>0.710969</td>\n",
       "      <td>DA</td>\n",
       "    </tr>\n",
       "  </tbody>\n",
       "</table>\n",
       "</div>"
      ],
      "text/plain": [
       "                index  Learned Acc. model\n",
       "0  LF_HETNET_DISEASES      0.822227    DA\n",
       "1      LF_HETNET_DOAF      0.710969    DA"
      ]
     },
     "execution_count": 21,
     "metadata": {},
     "output_type": "execute_result"
    }
   ],
   "source": [
    "test_df = pd.concat([\n",
    "    results_df[[\"Learned Acc.\"]].assign(model=\"DA\"),\n",
    "    indep_results_df[[\"Learned Acc.\"]].assign(model=\"CI\"), \n",
    "])\n",
    "test_df = test_df.reset_index()\n",
    "test_df.head(2)"
   ]
  },
  {
   "cell_type": "code",
   "execution_count": 22,
   "metadata": {
    "scrolled": false
   },
   "outputs": [
    {
     "data": {
      "text/plain": [
       "<matplotlib.axes._subplots.AxesSubplot at 0x7f912083cd30>"
      ]
     },
     "execution_count": 22,
     "metadata": {},
     "output_type": "execute_result"
    },
    {
     "data": {
      "image/png": "[encoded data removed]",
      "text/plain": [
       "<matplotlib.figure.Figure at 0x7f912083c320>"
      ]
     },
     "metadata": {},
     "output_type": "display_data"
    }
   ],
   "source": [
    "fig, ax = plt.subplots(figsize=(9,7))\n",
    "sns.barplot(ax=ax,y=\"index\", x=\"Learned Acc.\", hue=\"model\", data=test_df, palette=sns.color_palette(\"muted\"))"
   ]
  },
  {
   "cell_type": "markdown",
   "metadata": {},
   "source": [
    "## F1 Score of Dev Set"
   ]
  },
  {
   "cell_type": "markdown",
   "metadata": {},
   "source": [
    "Moving from the training set, we now can look at how well these models can predict our small dev set. Looking at the chart below, the conditionally independent model doesn't perform well compared to the dependency aware model. In terms of f1 score there is about a .2 difference, which provides evidence towards the dependency model performing better."
   ]
  },
  {
   "cell_type": "code",
   "execution_count": 23,
   "metadata": {},
   "outputs": [
    {
     "name": "stdout",
     "output_type": "stream",
     "text": [
      "========================================\n",
      "Scores (Un-adjusted)\n",
      "========================================\n",
      "Pos. class accuracy: 0.123\n",
      "Neg. class accuracy: 0.93\n",
      "Precision            0.526\n",
      "Recall               0.123\n",
      "F1                   0.2\n",
      "----------------------------------------\n",
      "TP: 10 | FP: 9 | TN: 120 | FN: 71\n",
      "========================================\n",
      "\n"
     ]
    }
   ],
   "source": [
    "_ = indep_gen_model.error_analysis(session, L_dev, dev_data_df.curated_dsh.apply(lambda x: -1 if x==0 else x).values)"
   ]
  },
  {
   "cell_type": "code",
   "execution_count": 24,
   "metadata": {},
   "outputs": [
    {
     "name": "stdout",
     "output_type": "stream",
     "text": [
      "========================================\n",
      "Scores (Un-adjusted)\n",
      "========================================\n",
      "Pos. class accuracy: 0.704\n",
      "Neg. class accuracy: 0.442\n",
      "Precision            0.442\n",
      "Recall               0.704\n",
      "F1                   0.543\n",
      "----------------------------------------\n",
      "TP: 57 | FP: 72 | TN: 57 | FN: 24\n",
      "========================================\n",
      "\n"
     ]
    }
   ],
   "source": [
    "tp, fp, tn, fn = gen_model.error_analysis(session, L_dev, dev_data_df.curated_dsh.apply(lambda x: -1 if x==0 else x).values)"
   ]
  },
  {
   "cell_type": "code",
   "execution_count": 25,
   "metadata": {},
   "outputs": [],
   "source": [
    "L_dev_ci_marginals = indep_gen_model.marginals(L_dev)\n",
    "L_dev_da_marginals = gen_model.marginals(L_dev)"
   ]
  },
  {
   "cell_type": "code",
   "execution_count": 26,
   "metadata": {},
   "outputs": [],
   "source": [
    "dev_data_labels = dev_data_df.curated_dsh.replace({0:-1})"
   ]
  },
  {
   "cell_type": "code",
   "execution_count": 27,
   "metadata": {},
   "outputs": [
    {
     "data": {
      "text/plain": [
       "<matplotlib.legend.Legend at 0x7f9120603080>"
      ]
     },
     "execution_count": 27,
     "metadata": {},
     "output_type": "execute_result"
    },
    {
     "data": {
      "image/png": "[encoded data removed]",
      "text/plain": [
       "<matplotlib.figure.Figure at 0x7f9120603668>"
      ]
     },
     "metadata": {},
     "output_type": "display_data"
    }
   ],
   "source": [
    "positive_class = dev_data_df.curated_dsh.values.sum()/dev_data_df.shape[0]\n",
    "plt.plot([0,1], [positive_class, positive_class], color='grey', \n",
    "         linestyle='--', label='Baseline (AUC = {:0.2f})'.format(positive_class))\n",
    "\n",
    "for marginal, model_label in zip([L_dev_ci_marginals, L_dev_da_marginals], [\"CI Gen Model (AUC {:.2f})\", \"DA Gen Model (AUC {:.2f})\"]):\n",
    "    precision, recall, threshold = precision_recall_curve(dev_data_labels, marginal)\n",
    "    area = auc(recall, precision)\n",
    "    plt.plot(recall, precision, label=model_label.format(area))\n",
    "plt.title(\"Precision Recall Curve of Generative Models\")\n",
    "plt.xlabel(\"Recall\")\n",
    "plt.ylabel(\"Precision\")\n",
    "plt.legend()"
   ]
  },
  {
   "cell_type": "code",
   "execution_count": 28,
   "metadata": {},
   "outputs": [
    {
     "data": {
      "text/plain": [
       "<matplotlib.legend.Legend at 0x7f91221c55c0>"
      ]
     },
     "execution_count": 28,
     "metadata": {},
     "output_type": "execute_result"
    },
    {
     "data": {
      "image/png": "[encoded data removed]",
      "text/plain": [
       "<matplotlib.figure.Figure at 0x7f91221c5470>"
      ]
     },
     "metadata": {},
     "output_type": "display_data"
    }
   ],
   "source": [
    "plt.plot([0,1], [0,1], linestyle='--', color='grey')\n",
    "for marginal, model_label in zip([L_dev_ci_marginals, L_dev_da_marginals], [\"CI Gen Model (AUC {:.2f})\", \"DA Gen Model (AUC {:.2f})\"]):\n",
    "    fpr, tpr, threshold = roc_curve(dev_data_labels, marginal)\n",
    "    area = auc(fpr, tpr)\n",
    "    plt.plot(fpr, tpr, label=model_label.format(area))\n",
    "plt.title(\"ROC Curve of Generative Models\")\n",
    "plt.xlabel(\"False Positive Rate\")\n",
    "plt.ylabel(\"True Positive Rate\")\n",
    "plt.legend()"
   ]
  },
  {
   "cell_type": "code",
   "execution_count": 29,
   "metadata": {},
   "outputs": [
    {
     "name": "stderr",
     "output_type": "stream",
     "text": [
      "/home/danich1/anaconda2/envs/snorkeling-test/lib/python3.6/site-packages/snorkel/annotations.py:137: RuntimeWarning: invalid value encountered in true_divide\n",
      "  ac = (tp+tn) / (tp+tn+fp+fn)\n"
     ]
    },
    {
     "data": {
      "text/html": [
       "<div>\n",
       "<style scoped>\n",
       "    .dataframe tbody tr th:only-of-type {\n",
       "        vertical-align: middle;\n",
       "    }\n",
       "\n",
       "    .dataframe tbody tr th {\n",
       "        vertical-align: top;\n",
       "    }\n",
       "\n",
       "    .dataframe thead th {\n",
       "        text-align: right;\n",
       "    }\n",
       "</style>\n",
       "<table border=\"1\" class=\"dataframe\">\n",
       "  <thead>\n",
       "    <tr style=\"text-align: right;\">\n",
       "      <th></th>\n",
       "      <th>j</th>\n",
       "      <th>Coverage</th>\n",
       "      <th>Overlaps</th>\n",
       "      <th>Conflicts</th>\n",
       "      <th>TP</th>\n",
       "      <th>FP</th>\n",
       "      <th>FN</th>\n",
       "      <th>TN</th>\n",
       "      <th>Empirical Acc.</th>\n",
       "      <th>Learned Acc.</th>\n",
       "    </tr>\n",
       "  </thead>\n",
       "  <tbody>\n",
       "    <tr>\n",
       "      <th>LF_HETNET_DISEASES</th>\n",
       "      <td>0</td>\n",
       "      <td>0.428571</td>\n",
       "      <td>0.428571</td>\n",
       "      <td>0.380952</td>\n",
       "      <td>34</td>\n",
       "      <td>56</td>\n",
       "      <td>0</td>\n",
       "      <td>0</td>\n",
       "      <td>0.377778</td>\n",
       "      <td>0.822227</td>\n",
       "    </tr>\n",
       "    <tr>\n",
       "      <th>LF_HETNET_DOAF</th>\n",
       "      <td>1</td>\n",
       "      <td>0.180952</td>\n",
       "      <td>0.180952</td>\n",
       "      <td>0.171429</td>\n",
       "      <td>17</td>\n",
       "      <td>21</td>\n",
       "      <td>0</td>\n",
       "      <td>0</td>\n",
       "      <td>0.447368</td>\n",
       "      <td>0.710969</td>\n",
       "    </tr>\n",
       "    <tr>\n",
       "      <th>LF_HETNET_DisGeNET</th>\n",
       "      <td>2</td>\n",
       "      <td>0.414286</td>\n",
       "      <td>0.414286</td>\n",
       "      <td>0.380952</td>\n",
       "      <td>38</td>\n",
       "      <td>49</td>\n",
       "      <td>0</td>\n",
       "      <td>0</td>\n",
       "      <td>0.436782</td>\n",
       "      <td>0.803221</td>\n",
       "    </tr>\n",
       "    <tr>\n",
       "      <th>LF_HETNET_GWAS</th>\n",
       "      <td>3</td>\n",
       "      <td>0.042857</td>\n",
       "      <td>0.042857</td>\n",
       "      <td>0.042857</td>\n",
       "      <td>4</td>\n",
       "      <td>5</td>\n",
       "      <td>0</td>\n",
       "      <td>0</td>\n",
       "      <td>0.444444</td>\n",
       "      <td>0.590793</td>\n",
       "    </tr>\n",
       "    <tr>\n",
       "      <th>LF_HETNET_ABSENT</th>\n",
       "      <td>4</td>\n",
       "      <td>0.438095</td>\n",
       "      <td>0.438095</td>\n",
       "      <td>0.428571</td>\n",
       "      <td>0</td>\n",
       "      <td>0</td>\n",
       "      <td>32</td>\n",
       "      <td>60</td>\n",
       "      <td>0.652174</td>\n",
       "      <td>0.634251</td>\n",
       "    </tr>\n",
       "    <tr>\n",
       "      <th>LF_CHECK_GENE_TAG</th>\n",
       "      <td>5</td>\n",
       "      <td>0.304762</td>\n",
       "      <td>0.304762</td>\n",
       "      <td>0.300000</td>\n",
       "      <td>0</td>\n",
       "      <td>0</td>\n",
       "      <td>17</td>\n",
       "      <td>47</td>\n",
       "      <td>0.734375</td>\n",
       "      <td>0.476693</td>\n",
       "    </tr>\n",
       "    <tr>\n",
       "      <th>LF_CHECK_DISEASE_TAG</th>\n",
       "      <td>6</td>\n",
       "      <td>0.309524</td>\n",
       "      <td>0.309524</td>\n",
       "      <td>0.304762</td>\n",
       "      <td>0</td>\n",
       "      <td>0</td>\n",
       "      <td>22</td>\n",
       "      <td>43</td>\n",
       "      <td>0.661538</td>\n",
       "      <td>0.498685</td>\n",
       "    </tr>\n",
       "    <tr>\n",
       "      <th>LF_IS_BIOMARKER</th>\n",
       "      <td>7</td>\n",
       "      <td>0.019048</td>\n",
       "      <td>0.019048</td>\n",
       "      <td>0.014286</td>\n",
       "      <td>2</td>\n",
       "      <td>2</td>\n",
       "      <td>0</td>\n",
       "      <td>0</td>\n",
       "      <td>0.500000</td>\n",
       "      <td>0.484252</td>\n",
       "    </tr>\n",
       "    <tr>\n",
       "      <th>LF_ASSOCIATION</th>\n",
       "      <td>8</td>\n",
       "      <td>0.133333</td>\n",
       "      <td>0.133333</td>\n",
       "      <td>0.090476</td>\n",
       "      <td>17</td>\n",
       "      <td>11</td>\n",
       "      <td>0</td>\n",
       "      <td>0</td>\n",
       "      <td>0.607143</td>\n",
       "      <td>0.689563</td>\n",
       "    </tr>\n",
       "    <tr>\n",
       "      <th>LF_NO_ASSOCIATION</th>\n",
       "      <td>9</td>\n",
       "      <td>0.009524</td>\n",
       "      <td>0.009524</td>\n",
       "      <td>0.009524</td>\n",
       "      <td>0</td>\n",
       "      <td>0</td>\n",
       "      <td>1</td>\n",
       "      <td>1</td>\n",
       "      <td>0.500000</td>\n",
       "      <td>0.422460</td>\n",
       "    </tr>\n",
       "    <tr>\n",
       "      <th>LF_METHOD_DESC</th>\n",
       "      <td>10</td>\n",
       "      <td>0.142857</td>\n",
       "      <td>0.142857</td>\n",
       "      <td>0.142857</td>\n",
       "      <td>0</td>\n",
       "      <td>0</td>\n",
       "      <td>6</td>\n",
       "      <td>24</td>\n",
       "      <td>0.800000</td>\n",
       "      <td>0.440307</td>\n",
       "    </tr>\n",
       "    <tr>\n",
       "      <th>LF_NO_CONCLUSION</th>\n",
       "      <td>11</td>\n",
       "      <td>0.842857</td>\n",
       "      <td>0.842857</td>\n",
       "      <td>0.833333</td>\n",
       "      <td>0</td>\n",
       "      <td>0</td>\n",
       "      <td>62</td>\n",
       "      <td>115</td>\n",
       "      <td>0.649718</td>\n",
       "      <td>0.468108</td>\n",
       "    </tr>\n",
       "    <tr>\n",
       "      <th>LF_CONCLUSION</th>\n",
       "      <td>12</td>\n",
       "      <td>0.157143</td>\n",
       "      <td>0.157143</td>\n",
       "      <td>0.109524</td>\n",
       "      <td>19</td>\n",
       "      <td>14</td>\n",
       "      <td>0</td>\n",
       "      <td>0</td>\n",
       "      <td>0.575758</td>\n",
       "      <td>0.705755</td>\n",
       "    </tr>\n",
       "    <tr>\n",
       "      <th>LF_DG_DISTANCE_SHORT</th>\n",
       "      <td>13</td>\n",
       "      <td>0.023810</td>\n",
       "      <td>0.023810</td>\n",
       "      <td>0.014286</td>\n",
       "      <td>0</td>\n",
       "      <td>0</td>\n",
       "      <td>1</td>\n",
       "      <td>4</td>\n",
       "      <td>0.800000</td>\n",
       "      <td>0.475000</td>\n",
       "    </tr>\n",
       "    <tr>\n",
       "      <th>LF_DG_DISTANCE_LONG</th>\n",
       "      <td>14</td>\n",
       "      <td>0.000000</td>\n",
       "      <td>0.000000</td>\n",
       "      <td>0.000000</td>\n",
       "      <td>0</td>\n",
       "      <td>0</td>\n",
       "      <td>0</td>\n",
       "      <td>0</td>\n",
       "      <td>NaN</td>\n",
       "      <td>0.424870</td>\n",
       "    </tr>\n",
       "    <tr>\n",
       "      <th>LF_DG_ALLOWED_DISTANCE</th>\n",
       "      <td>15</td>\n",
       "      <td>0.976190</td>\n",
       "      <td>0.976190</td>\n",
       "      <td>0.928571</td>\n",
       "      <td>80</td>\n",
       "      <td>125</td>\n",
       "      <td>0</td>\n",
       "      <td>0</td>\n",
       "      <td>0.390244</td>\n",
       "      <td>0.726574</td>\n",
       "    </tr>\n",
       "    <tr>\n",
       "      <th>LF_NO_VERB</th>\n",
       "      <td>16</td>\n",
       "      <td>0.085714</td>\n",
       "      <td>0.085714</td>\n",
       "      <td>0.080952</td>\n",
       "      <td>0</td>\n",
       "      <td>0</td>\n",
       "      <td>1</td>\n",
       "      <td>17</td>\n",
       "      <td>0.944444</td>\n",
       "      <td>0.441810</td>\n",
       "    </tr>\n",
       "  </tbody>\n",
       "</table>\n",
       "</div>"
      ],
      "text/plain": [
       "                         j  Coverage  Overlaps  Conflicts  TP   FP  FN   TN  \\\n",
       "LF_HETNET_DISEASES       0  0.428571  0.428571   0.380952  34   56   0    0   \n",
       "LF_HETNET_DOAF           1  0.180952  0.180952   0.171429  17   21   0    0   \n",
       "LF_HETNET_DisGeNET       2  0.414286  0.414286   0.380952  38   49   0    0   \n",
       "LF_HETNET_GWAS           3  0.042857  0.042857   0.042857   4    5   0    0   \n",
       "LF_HETNET_ABSENT         4  0.438095  0.438095   0.428571   0    0  32   60   \n",
       "LF_CHECK_GENE_TAG        5  0.304762  0.304762   0.300000   0    0  17   47   \n",
       "LF_CHECK_DISEASE_TAG     6  0.309524  0.309524   0.304762   0    0  22   43   \n",
       "LF_IS_BIOMARKER          7  0.019048  0.019048   0.014286   2    2   0    0   \n",
       "LF_ASSOCIATION           8  0.133333  0.133333   0.090476  17   11   0    0   \n",
       "LF_NO_ASSOCIATION        9  0.009524  0.009524   0.009524   0    0   1    1   \n",
       "LF_METHOD_DESC          10  0.142857  0.142857   0.142857   0    0   6   24   \n",
       "LF_NO_CONCLUSION        11  0.842857  0.842857   0.833333   0    0  62  115   \n",
       "LF_CONCLUSION           12  0.157143  0.157143   0.109524  19   14   0    0   \n",
       "LF_DG_DISTANCE_SHORT    13  0.023810  0.023810   0.014286   0    0   1    4   \n",
       "LF_DG_DISTANCE_LONG     14  0.000000  0.000000   0.000000   0    0   0    0   \n",
       "LF_DG_ALLOWED_DISTANCE  15  0.976190  0.976190   0.928571  80  125   0    0   \n",
       "LF_NO_VERB              16  0.085714  0.085714   0.080952   0    0   1   17   \n",
       "\n",
       "                        Empirical Acc.  Learned Acc.  \n",
       "LF_HETNET_DISEASES            0.377778      0.822227  \n",
       "LF_HETNET_DOAF                0.447368      0.710969  \n",
       "LF_HETNET_DisGeNET            0.436782      0.803221  \n",
       "LF_HETNET_GWAS                0.444444      0.590793  \n",
       "LF_HETNET_ABSENT              0.652174      0.634251  \n",
       "LF_CHECK_GENE_TAG             0.734375      0.476693  \n",
       "LF_CHECK_DISEASE_TAG          0.661538      0.498685  \n",
       "LF_IS_BIOMARKER               0.500000      0.484252  \n",
       "LF_ASSOCIATION                0.607143      0.689563  \n",
       "LF_NO_ASSOCIATION             0.500000      0.422460  \n",
       "LF_METHOD_DESC                0.800000      0.440307  \n",
       "LF_NO_CONCLUSION              0.649718      0.468108  \n",
       "LF_CONCLUSION                 0.575758      0.705755  \n",
       "LF_DG_DISTANCE_SHORT          0.800000      0.475000  \n",
       "LF_DG_DISTANCE_LONG                NaN      0.424870  \n",
       "LF_DG_ALLOWED_DISTANCE        0.390244      0.726574  \n",
       "LF_NO_VERB                    0.944444      0.441810  "
      ]
     },
     "execution_count": 29,
     "metadata": {},
     "output_type": "execute_result"
    }
   ],
   "source": [
    "L_dev.lf_stats(session, dev_data_labels, test_df.query(\"model=='DA'\")[\"Learned Acc.\"])"
   ]
  },
  {
   "cell_type": "markdown",
   "metadata": {},
   "source": [
    "# F1 Score of Train Hand Labeled Set"
   ]
  },
  {
   "cell_type": "markdown",
   "metadata": {},
   "source": [
    "Looking at the small hand labeled training set we can see a pretty big spike in performance. In terms of f1 score the DA model has about a 0.25 increase in performance comapred to the CI model. "
   ]
  },
  {
   "cell_type": "code",
   "execution_count": 30,
   "metadata": {},
   "outputs": [
    {
     "name": "stdout",
     "output_type": "stream",
     "text": [
      "========================================\n",
      "Scores (Un-adjusted)\n",
      "========================================\n",
      "Pos. class accuracy: 0.271\n",
      "Neg. class accuracy: 0.928\n",
      "Precision            0.781\n",
      "Recall               0.271\n",
      "F1                   0.403\n",
      "----------------------------------------\n",
      "TP: 121 | FP: 34 | TN: 439 | FN: 325\n",
      "========================================\n",
      "\n"
     ]
    }
   ],
   "source": [
    "_ = indep_gen_model.error_analysis(session, L_train_labeled, L_train_labeled_gold)"
   ]
  },
  {
   "cell_type": "code",
   "execution_count": 31,
   "metadata": {
    "scrolled": true
   },
   "outputs": [
    {
     "name": "stdout",
     "output_type": "stream",
     "text": [
      "========================================\n",
      "Scores (Un-adjusted)\n",
      "========================================\n",
      "Pos. class accuracy: 0.993\n",
      "Neg. class accuracy: 0.0211\n",
      "Precision            0.489\n",
      "Recall               0.993\n",
      "F1                   0.655\n",
      "----------------------------------------\n",
      "TP: 443 | FP: 463 | TN: 10 | FN: 3\n",
      "========================================\n",
      "\n"
     ]
    }
   ],
   "source": [
    "tp, fp, tn, fn = gen_model.error_analysis(session, L_train_labeled, L_train_labeled_gold)"
   ]
  },
  {
   "cell_type": "code",
   "execution_count": 32,
   "metadata": {},
   "outputs": [],
   "source": [
    "L_train_ci_marginals = indep_gen_model.marginals(L_train_labeled)\n",
    "L_train_da_marginals = gen_model.marginals(L_train_labeled)"
   ]
  },
  {
   "cell_type": "code",
   "execution_count": 33,
   "metadata": {},
   "outputs": [],
   "source": [
    "positive_class = sum(list(map(lambda x: 0 if x == -1 else x, L_train_labeled_gold.toarray()[:,0])))\n",
    "positive_class = positive_class/L_train_labeled_gold.shape[0]"
   ]
  },
  {
   "cell_type": "code",
   "execution_count": 34,
   "metadata": {},
   "outputs": [
    {
     "data": {
      "text/plain": [
       "<matplotlib.legend.Legend at 0x7f91205e5a58>"
      ]
     },
     "execution_count": 34,
     "metadata": {},
     "output_type": "execute_result"
    },
    {
     "data": {
      "image/png": "[encoded data removed]",
      "text/plain": [
       "<matplotlib.figure.Figure at 0x7f91205e5d30>"
      ]
     },
     "metadata": {},
     "output_type": "display_data"
    }
   ],
   "source": [
    "plt.plot([0,1], [positive_class, positive_class], color='grey', \n",
    "         linestyle='--', label='Baseline (AUC = {:0.2f})'.format(positive_class))\n",
    "\n",
    "for marginal, model_label in zip([L_train_ci_marginals, L_train_da_marginals], [\"CI Gen Model (AUC {:.2f})\", \"DA Gen Model (AUC {:.2f})\"]):\n",
    "    precision, recall, threshold = precision_recall_curve(L_train_labeled_gold.data, marginal)\n",
    "    area = auc(recall, precision)\n",
    "    plt.plot(recall, precision, label=model_label.format(area))\n",
    "plt.title(\"Precision Recall Curve of Generative Models\")\n",
    "plt.xlabel(\"Recall\")\n",
    "plt.ylabel(\"Precision\")\n",
    "plt.legend()"
   ]
  },
  {
   "cell_type": "code",
   "execution_count": 35,
   "metadata": {},
   "outputs": [
    {
     "data": {
      "text/plain": [
       "<matplotlib.legend.Legend at 0x7f912062de80>"
      ]
     },
     "execution_count": 35,
     "metadata": {},
     "output_type": "execute_result"
    },
    {
     "data": {
      "image/png": "[encoded data removed]",
      "text/plain": [
       "<matplotlib.figure.Figure at 0x7f91221fe390>"
      ]
     },
     "metadata": {},
     "output_type": "display_data"
    }
   ],
   "source": [
    "plt.plot([0,1], [0,1], linestyle='--', color='grey')\n",
    "for marginal, model_label in zip([L_train_ci_marginals, L_train_da_marginals], [\"CI Gen Model (AUC {:.2f})\", \"DA Gen Model (AUC {:.2f})\"]):\n",
    "    fpr, tpr, threshold = roc_curve(L_train_labeled_gold.data, marginal)\n",
    "    area = auc(fpr, tpr)\n",
    "    plt.plot(fpr, tpr, label=model_label.format(area))\n",
    "plt.title(\"ROC Curve of Generative Models\")\n",
    "plt.xlabel(\"False Positive Rate\")\n",
    "plt.ylabel(\"True Positive Rate\")\n",
    "plt.legend()"
   ]
  },
  {
   "cell_type": "code",
   "execution_count": 36,
   "metadata": {},
   "outputs": [
    {
     "name": "stderr",
     "output_type": "stream",
     "text": [
      "/home/danich1/anaconda2/envs/snorkeling-test/lib/python3.6/site-packages/snorkel/annotations.py:137: RuntimeWarning: invalid value encountered in true_divide\n",
      "  ac = (tp+tn) / (tp+tn+fp+fn)\n"
     ]
    },
    {
     "data": {
      "text/html": [
       "<div>\n",
       "<style scoped>\n",
       "    .dataframe tbody tr th:only-of-type {\n",
       "        vertical-align: middle;\n",
       "    }\n",
       "\n",
       "    .dataframe tbody tr th {\n",
       "        vertical-align: top;\n",
       "    }\n",
       "\n",
       "    .dataframe thead th {\n",
       "        text-align: right;\n",
       "    }\n",
       "</style>\n",
       "<table border=\"1\" class=\"dataframe\">\n",
       "  <thead>\n",
       "    <tr style=\"text-align: right;\">\n",
       "      <th></th>\n",
       "      <th>j</th>\n",
       "      <th>Coverage</th>\n",
       "      <th>Overlaps</th>\n",
       "      <th>Conflicts</th>\n",
       "      <th>TP</th>\n",
       "      <th>FP</th>\n",
       "      <th>FN</th>\n",
       "      <th>TN</th>\n",
       "      <th>Empirical Acc.</th>\n",
       "      <th>Learned Acc.</th>\n",
       "    </tr>\n",
       "  </thead>\n",
       "  <tbody>\n",
       "    <tr>\n",
       "      <th>LF_HETNET_DISEASES</th>\n",
       "      <td>0</td>\n",
       "      <td>0.828074</td>\n",
       "      <td>0.828074</td>\n",
       "      <td>0.754081</td>\n",
       "      <td>383</td>\n",
       "      <td>378</td>\n",
       "      <td>0</td>\n",
       "      <td>0</td>\n",
       "      <td>0.503285</td>\n",
       "      <td>0.822227</td>\n",
       "    </tr>\n",
       "    <tr>\n",
       "      <th>LF_HETNET_DOAF</th>\n",
       "      <td>1</td>\n",
       "      <td>0.060936</td>\n",
       "      <td>0.060936</td>\n",
       "      <td>0.059848</td>\n",
       "      <td>30</td>\n",
       "      <td>26</td>\n",
       "      <td>0</td>\n",
       "      <td>0</td>\n",
       "      <td>0.535714</td>\n",
       "      <td>0.710969</td>\n",
       "    </tr>\n",
       "    <tr>\n",
       "      <th>LF_HETNET_DisGeNET</th>\n",
       "      <td>2</td>\n",
       "      <td>0.371055</td>\n",
       "      <td>0.371055</td>\n",
       "      <td>0.353645</td>\n",
       "      <td>156</td>\n",
       "      <td>185</td>\n",
       "      <td>0</td>\n",
       "      <td>0</td>\n",
       "      <td>0.457478</td>\n",
       "      <td>0.803221</td>\n",
       "    </tr>\n",
       "    <tr>\n",
       "      <th>LF_HETNET_GWAS</th>\n",
       "      <td>3</td>\n",
       "      <td>0.000000</td>\n",
       "      <td>0.000000</td>\n",
       "      <td>0.000000</td>\n",
       "      <td>0</td>\n",
       "      <td>0</td>\n",
       "      <td>0</td>\n",
       "      <td>0</td>\n",
       "      <td>NaN</td>\n",
       "      <td>0.590793</td>\n",
       "    </tr>\n",
       "    <tr>\n",
       "      <th>LF_HETNET_ABSENT</th>\n",
       "      <td>4</td>\n",
       "      <td>0.016322</td>\n",
       "      <td>0.016322</td>\n",
       "      <td>0.015234</td>\n",
       "      <td>0</td>\n",
       "      <td>0</td>\n",
       "      <td>4</td>\n",
       "      <td>11</td>\n",
       "      <td>0.733333</td>\n",
       "      <td>0.634251</td>\n",
       "    </tr>\n",
       "    <tr>\n",
       "      <th>LF_CHECK_GENE_TAG</th>\n",
       "      <td>5</td>\n",
       "      <td>0.157780</td>\n",
       "      <td>0.157780</td>\n",
       "      <td>0.157780</td>\n",
       "      <td>0</td>\n",
       "      <td>0</td>\n",
       "      <td>59</td>\n",
       "      <td>86</td>\n",
       "      <td>0.593103</td>\n",
       "      <td>0.476693</td>\n",
       "    </tr>\n",
       "    <tr>\n",
       "      <th>LF_CHECK_DISEASE_TAG</th>\n",
       "      <td>6</td>\n",
       "      <td>0.429815</td>\n",
       "      <td>0.429815</td>\n",
       "      <td>0.428727</td>\n",
       "      <td>0</td>\n",
       "      <td>0</td>\n",
       "      <td>178</td>\n",
       "      <td>217</td>\n",
       "      <td>0.549367</td>\n",
       "      <td>0.498685</td>\n",
       "    </tr>\n",
       "    <tr>\n",
       "      <th>LF_IS_BIOMARKER</th>\n",
       "      <td>7</td>\n",
       "      <td>0.082699</td>\n",
       "      <td>0.082699</td>\n",
       "      <td>0.040261</td>\n",
       "      <td>61</td>\n",
       "      <td>15</td>\n",
       "      <td>0</td>\n",
       "      <td>0</td>\n",
       "      <td>0.802632</td>\n",
       "      <td>0.484252</td>\n",
       "    </tr>\n",
       "    <tr>\n",
       "      <th>LF_ASSOCIATION</th>\n",
       "      <td>8</td>\n",
       "      <td>0.115343</td>\n",
       "      <td>0.115343</td>\n",
       "      <td>0.069641</td>\n",
       "      <td>82</td>\n",
       "      <td>24</td>\n",
       "      <td>0</td>\n",
       "      <td>0</td>\n",
       "      <td>0.773585</td>\n",
       "      <td>0.689563</td>\n",
       "    </tr>\n",
       "    <tr>\n",
       "      <th>LF_NO_ASSOCIATION</th>\n",
       "      <td>9</td>\n",
       "      <td>0.009793</td>\n",
       "      <td>0.009793</td>\n",
       "      <td>0.009793</td>\n",
       "      <td>0</td>\n",
       "      <td>0</td>\n",
       "      <td>6</td>\n",
       "      <td>3</td>\n",
       "      <td>0.333333</td>\n",
       "      <td>0.422460</td>\n",
       "    </tr>\n",
       "    <tr>\n",
       "      <th>LF_METHOD_DESC</th>\n",
       "      <td>10</td>\n",
       "      <td>0.156692</td>\n",
       "      <td>0.156692</td>\n",
       "      <td>0.156692</td>\n",
       "      <td>0</td>\n",
       "      <td>0</td>\n",
       "      <td>38</td>\n",
       "      <td>106</td>\n",
       "      <td>0.736111</td>\n",
       "      <td>0.440307</td>\n",
       "    </tr>\n",
       "    <tr>\n",
       "      <th>LF_NO_CONCLUSION</th>\n",
       "      <td>11</td>\n",
       "      <td>0.817193</td>\n",
       "      <td>0.817193</td>\n",
       "      <td>0.816104</td>\n",
       "      <td>0</td>\n",
       "      <td>0</td>\n",
       "      <td>318</td>\n",
       "      <td>433</td>\n",
       "      <td>0.576565</td>\n",
       "      <td>0.468108</td>\n",
       "    </tr>\n",
       "    <tr>\n",
       "      <th>LF_CONCLUSION</th>\n",
       "      <td>12</td>\n",
       "      <td>0.182807</td>\n",
       "      <td>0.182807</td>\n",
       "      <td>0.103373</td>\n",
       "      <td>128</td>\n",
       "      <td>40</td>\n",
       "      <td>0</td>\n",
       "      <td>0</td>\n",
       "      <td>0.761905</td>\n",
       "      <td>0.705755</td>\n",
       "    </tr>\n",
       "    <tr>\n",
       "      <th>LF_DG_DISTANCE_SHORT</th>\n",
       "      <td>13</td>\n",
       "      <td>0.023939</td>\n",
       "      <td>0.023939</td>\n",
       "      <td>0.022851</td>\n",
       "      <td>0</td>\n",
       "      <td>0</td>\n",
       "      <td>1</td>\n",
       "      <td>21</td>\n",
       "      <td>0.954545</td>\n",
       "      <td>0.475000</td>\n",
       "    </tr>\n",
       "    <tr>\n",
       "      <th>LF_DG_DISTANCE_LONG</th>\n",
       "      <td>14</td>\n",
       "      <td>0.002176</td>\n",
       "      <td>0.002176</td>\n",
       "      <td>0.002176</td>\n",
       "      <td>0</td>\n",
       "      <td>0</td>\n",
       "      <td>0</td>\n",
       "      <td>2</td>\n",
       "      <td>1.000000</td>\n",
       "      <td>0.424870</td>\n",
       "    </tr>\n",
       "    <tr>\n",
       "      <th>LF_DG_ALLOWED_DISTANCE</th>\n",
       "      <td>15</td>\n",
       "      <td>0.973885</td>\n",
       "      <td>0.973885</td>\n",
       "      <td>0.894450</td>\n",
       "      <td>445</td>\n",
       "      <td>450</td>\n",
       "      <td>0</td>\n",
       "      <td>0</td>\n",
       "      <td>0.497207</td>\n",
       "      <td>0.726574</td>\n",
       "    </tr>\n",
       "    <tr>\n",
       "      <th>LF_NO_VERB</th>\n",
       "      <td>16</td>\n",
       "      <td>0.102285</td>\n",
       "      <td>0.102285</td>\n",
       "      <td>0.102285</td>\n",
       "      <td>0</td>\n",
       "      <td>0</td>\n",
       "      <td>15</td>\n",
       "      <td>79</td>\n",
       "      <td>0.840426</td>\n",
       "      <td>0.441810</td>\n",
       "    </tr>\n",
       "  </tbody>\n",
       "</table>\n",
       "</div>"
      ],
      "text/plain": [
       "                         j  Coverage  Overlaps  Conflicts   TP   FP   FN   TN  \\\n",
       "LF_HETNET_DISEASES       0  0.828074  0.828074   0.754081  383  378    0    0   \n",
       "LF_HETNET_DOAF           1  0.060936  0.060936   0.059848   30   26    0    0   \n",
       "LF_HETNET_DisGeNET       2  0.371055  0.371055   0.353645  156  185    0    0   \n",
       "LF_HETNET_GWAS           3  0.000000  0.000000   0.000000    0    0    0    0   \n",
       "LF_HETNET_ABSENT         4  0.016322  0.016322   0.015234    0    0    4   11   \n",
       "LF_CHECK_GENE_TAG        5  0.157780  0.157780   0.157780    0    0   59   86   \n",
       "LF_CHECK_DISEASE_TAG     6  0.429815  0.429815   0.428727    0    0  178  217   \n",
       "LF_IS_BIOMARKER          7  0.082699  0.082699   0.040261   61   15    0    0   \n",
       "LF_ASSOCIATION           8  0.115343  0.115343   0.069641   82   24    0    0   \n",
       "LF_NO_ASSOCIATION        9  0.009793  0.009793   0.009793    0    0    6    3   \n",
       "LF_METHOD_DESC          10  0.156692  0.156692   0.156692    0    0   38  106   \n",
       "LF_NO_CONCLUSION        11  0.817193  0.817193   0.816104    0    0  318  433   \n",
       "LF_CONCLUSION           12  0.182807  0.182807   0.103373  128   40    0    0   \n",
       "LF_DG_DISTANCE_SHORT    13  0.023939  0.023939   0.022851    0    0    1   21   \n",
       "LF_DG_DISTANCE_LONG     14  0.002176  0.002176   0.002176    0    0    0    2   \n",
       "LF_DG_ALLOWED_DISTANCE  15  0.973885  0.973885   0.894450  445  450    0    0   \n",
       "LF_NO_VERB              16  0.102285  0.102285   0.102285    0    0   15   79   \n",
       "\n",
       "                        Empirical Acc.  Learned Acc.  \n",
       "LF_HETNET_DISEASES            0.503285      0.822227  \n",
       "LF_HETNET_DOAF                0.535714      0.710969  \n",
       "LF_HETNET_DisGeNET            0.457478      0.803221  \n",
       "LF_HETNET_GWAS                     NaN      0.590793  \n",
       "LF_HETNET_ABSENT              0.733333      0.634251  \n",
       "LF_CHECK_GENE_TAG             0.593103      0.476693  \n",
       "LF_CHECK_DISEASE_TAG          0.549367      0.498685  \n",
       "LF_IS_BIOMARKER               0.802632      0.484252  \n",
       "LF_ASSOCIATION                0.773585      0.689563  \n",
       "LF_NO_ASSOCIATION             0.333333      0.422460  \n",
       "LF_METHOD_DESC                0.736111      0.440307  \n",
       "LF_NO_CONCLUSION              0.576565      0.468108  \n",
       "LF_CONCLUSION                 0.761905      0.705755  \n",
       "LF_DG_DISTANCE_SHORT          0.954545      0.475000  \n",
       "LF_DG_DISTANCE_LONG           1.000000      0.424870  \n",
       "LF_DG_ALLOWED_DISTANCE        0.497207      0.726574  \n",
       "LF_NO_VERB                    0.840426      0.441810  "
      ]
     },
     "execution_count": 36,
     "metadata": {},
     "output_type": "execute_result"
    }
   ],
   "source": [
    "L_train_labeled.lf_stats(session, L_train_labeled_gold.data, test_df.query(\"model=='DA'\")[\"Learned Acc.\"])"
   ]
  },
  {
   "cell_type": "markdown",
   "metadata": {},
   "source": [
    "## Individual Candidate Error Analysis"
   ]
  },
  {
   "cell_type": "markdown",
   "metadata": {},
   "source": [
    "Depending on which block of code is executed, the following block of code below will show which candidate sentence was incorrectly labeled. Right now the false negatives (fn) are being shown below but this could change to incorporate false positives (fp) as well."
   ]
  },
  {
   "cell_type": "code",
   "execution_count": null,
   "metadata": {},
   "outputs": [],
   "source": [
    "from snorkel.viewer import SentenceNgramViewer\n",
    "\n",
    "# NOTE: This if-then statement is only to avoid opening the viewer during automated testing of this notebook\n",
    "# You should ignore this!\n",
    "import os\n",
    "if 'CI' not in os.environ:\n",
    "    sv = SentenceNgramViewer(fn, session)\n",
    "else:\n",
    "    sv = None"
   ]
  },
  {
   "cell_type": "code",
   "execution_count": null,
   "metadata": {
    "scrolled": false
   },
   "outputs": [],
   "source": [
    "sv"
   ]
  },
  {
   "cell_type": "code",
   "execution_count": null,
   "metadata": {
    "scrolled": false
   },
   "outputs": [],
   "source": [
    "c = sv.get_selected() if sv else list(fp.union(fn))[0]\n",
    "c"
   ]
  },
  {
   "cell_type": "code",
   "execution_count": null,
   "metadata": {
    "scrolled": false
   },
   "outputs": [],
   "source": [
    "c.labels"
   ]
  },
  {
   "cell_type": "code",
   "execution_count": null,
   "metadata": {},
   "outputs": [],
   "source": [
    "c.id"
   ]
  },
  {
   "cell_type": "code",
   "execution_count": null,
   "metadata": {},
   "outputs": [],
   "source": [
    "L_train_hand_labeled"
   ]
  },
  {
   "cell_type": "markdown",
   "metadata": {},
   "source": [
    "## Generate Excel File of Train Data"
   ]
  },
  {
   "cell_type": "markdown",
   "metadata": {},
   "source": [
    "Lastly we write out the generative model's output into a file. Reason for this will be used in the [next notebook](4.sentence-level-prediction.ipynb), where we aim to use a noise aware discriminator model to correct for the generative models' errors."
   ]
  },
  {
   "cell_type": "code",
   "execution_count": null,
   "metadata": {
    "scrolled": true
   },
   "outputs": [],
   "source": [
    "def make_sentence_df(lf_matrix, marginals, pair_df):\n",
    "    rows = list()\n",
    "    for i in tqdm.tqdm(range(lf_matrix.shape[0])):\n",
    "        row = OrderedDict()\n",
    "        candidate = lf_matrix.get_candidate(session, i)\n",
    "        row['candidate_id'] = candidate.id\n",
    "        row['disease'] = candidate[0].get_span()\n",
    "        row['gene'] = candidate[1].get_span()\n",
    "        row['doid_id'] = candidate.Disease_cid\n",
    "        row['entrez_gene_id'] = candidate.Gene_cid\n",
    "        row['sentence'] = candidate.get_parent().text\n",
    "        row['label'] = marginals[i]\n",
    "        rows.append(row)\n",
    "    sentence_df = pd.DataFrame(rows)\n",
    "    sentence_df['entrez_gene_id'] = sentence_df.entrez_gene_id.astype(int)\n",
    "    sentence_df = pd.merge(\n",
    "        sentence_df,\n",
    "        pair_df[[\"doid_id\", \"entrez_gene_id\", \"doid_name\", \"gene_symbol\"]],\n",
    "        on=[\"doid_id\", \"entrez_gene_id\"],\n",
    "        how=\"left\"\n",
    "    )\n",
    "    sentence_df = pd.concat([\n",
    "        sentence_df,\n",
    "        pd.DataFrame(lf_matrix.todense(), columns=list(LFS))\n",
    "    ], axis='columns')\n",
    "    return sentence_df"
   ]
  },
  {
   "cell_type": "code",
   "execution_count": null,
   "metadata": {},
   "outputs": [],
   "source": [
    "pair_df = pd.read_csv(\"data/disease-gene-pairs-association.csv.xz\", compression='xz')\n",
    "pair_df.head(2)"
   ]
  },
  {
   "cell_type": "code",
   "execution_count": null,
   "metadata": {},
   "outputs": [],
   "source": [
    "train_sentence_df = make_sentence_df(L_train, train_marginals, pair_df)\n",
    "train_sentence_df.head(2)"
   ]
  },
  {
   "cell_type": "code",
   "execution_count": null,
   "metadata": {},
   "outputs": [],
   "source": [
    "writer = pd.ExcelWriter('data/sentence-labels.xlsx')\n",
    "(train_sentence_df\n",
    "    .to_excel(writer, sheet_name='sentences', index=False)\n",
    ")\n",
    "if writer.engine == 'xlsxwriter':\n",
    "    for sheet in writer.sheets.values():\n",
    "        sheet.freeze_panes(1, 0)\n",
    "writer.close()"
   ]
  },
  {
   "cell_type": "markdown",
   "metadata": {},
   "source": [
    "## Generate Excel File of Dev Data"
   ]
  },
  {
   "cell_type": "code",
   "execution_count": null,
   "metadata": {},
   "outputs": [],
   "source": [
    "dev_sentence_df = make_sentence_df(L_dev, dev_marginals, pair_df)\n",
    "dev_sentence_df.head(2)"
   ]
  },
  {
   "cell_type": "code",
   "execution_count": null,
   "metadata": {},
   "outputs": [],
   "source": [
    "writer = pd.ExcelWriter('data/sentence-labels-dev.xlsx')\n",
    "(dev_sentence_df\n",
    "    .sample(frac=1, random_state=100)\n",
    "    .to_excel(writer, sheet_name='sentences', index=False)\n",
    ")\n",
    "if writer.engine == 'xlsxwriter':\n",
    "    for sheet in writer.sheets.values():\n",
    "        sheet.freeze_panes(1, 0)\n",
    "writer.close()"
   ]
  }
 ],
 "metadata": {
  "anaconda-cloud": {},
  "kernelspec": {
   "display_name": "Python [conda env:snorkeling]",
   "language": "python",
   "name": "conda-env-snorkeling-py"
  },
  "language_info": {
   "codemirror_mode": {
    "name": "ipython",
    "version": 3
   },
   "file_extension": ".py",
   "mimetype": "text/x-python",
   "name": "python",
   "nbconvert_exporter": "python",
   "pygments_lexer": "ipython3",
   "version": "3.6.4"
  }
 },
 "nbformat": 4,
 "nbformat_minor": 2
}
