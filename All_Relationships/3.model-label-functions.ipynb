{
 "cells": [
  {
   "cell_type": "markdown",
   "metadata": {},
   "source": [
    "# Train the Generative Model for Candidate Labeling"
   ]
  },
  {
   "cell_type": "markdown",
   "metadata": {},
   "source": [
    "This notebook is designed to run a generative model that snorkel uses to probabilistically label each candidate. (1 for positive label and -1 for negative label). Using this generative model, we will test the hypothesis: **modeling correlation structure between label functions provides better precision and recall than the conditionally independent model.**"
   ]
  },
  {
   "cell_type": "markdown",
   "metadata": {},
   "source": [
    "## MUST RUN AT THE START OF EVERYTHING"
   ]
  },
  {
   "cell_type": "markdown",
   "metadata": {},
   "source": [
    "Import the necessary modules and set up the database for database operations."
   ]
  },
  {
   "cell_type": "code",
   "execution_count": 1,
   "metadata": {
    "ExecuteTime": {
     "end_time": "2018-08-07T21:03:32.382836Z",
     "start_time": "2018-08-07T21:03:31.854317Z"
    }
   },
   "outputs": [],
   "source": [
    "%load_ext autoreload\n",
    "%autoreload 2\n",
    "%matplotlib inline\n",
    "\n",
    "from collections import Counter, OrderedDict, defaultdict\n",
    "import os\n",
    "from tqdm import tqdm_notebook\n",
    "\n",
    "import matplotlib.pyplot as plt\n",
    "import numpy as np\n",
    "import pandas as pd\n",
    "import seaborn as sns\n",
    "from sklearn.metrics import average_precision_score, precision_recall_curve, roc_curve, auc, f1_score"
   ]
  },
  {
   "cell_type": "code",
   "execution_count": 2,
   "metadata": {
    "ExecuteTime": {
     "end_time": "2018-08-07T21:03:32.569675Z",
     "start_time": "2018-08-07T21:03:32.384523Z"
    }
   },
   "outputs": [],
   "source": [
    "#Set up the environment\n",
    "username = \"danich1\"\n",
    "password = \"snorkel\"\n",
    "dbname = \"pubmeddb\"\n",
    "\n",
    "#Path subject to change for different os\n",
    "database_str = \"postgresql+psycopg2://{}:{}@/{}?host=/var/run/postgresql\".format(username, password, dbname)\n",
    "os.environ['SNORKELDB'] = database_str\n",
    "\n",
    "from snorkel import SnorkelSession\n",
    "session = SnorkelSession()"
   ]
  },
  {
   "cell_type": "code",
   "execution_count": 3,
   "metadata": {
    "ExecuteTime": {
     "end_time": "2018-08-07T21:03:33.535008Z",
     "start_time": "2018-08-07T21:03:32.571405Z"
    }
   },
   "outputs": [],
   "source": [
    "from snorkel import SnorkelSession\n",
    "from snorkel.annotations import load_gold_labels\n",
    "from snorkel.annotations import FeatureAnnotator, LabelAnnotator, save_marginals\n",
    "from snorkel.learning import GenerativeModel\n",
    "from snorkel.learning.structure import DependencySelector\n",
    "from snorkel.learning.utils import MentionScorer\n",
    "from snorkel.models import Candidate, FeatureKey, candidate_subclass, Label\n",
    "from snorkel.utils import get_as_dict\n",
    "from utils.compound_gene_lf import LFS"
   ]
  },
  {
   "cell_type": "code",
   "execution_count": 4,
   "metadata": {
    "ExecuteTime": {
     "end_time": "2018-08-07T21:03:33.553601Z",
     "start_time": "2018-08-07T21:03:33.536346Z"
    }
   },
   "outputs": [],
   "source": [
    "edge_type = \"cg\""
   ]
  },
  {
   "cell_type": "code",
   "execution_count": 5,
   "metadata": {
    "ExecuteTime": {
     "end_time": "2018-08-07T21:03:33.577063Z",
     "start_time": "2018-08-07T21:03:33.555174Z"
    }
   },
   "outputs": [],
   "source": [
    "if edge_type == \"dg\":\n",
    "    DiseaseGene = candidate_subclass('DiseaseGene', ['Disease', 'Gene'])\n",
    "elif edge_type == \"gg\":\n",
    "    GeneGene = candidate_subclass('GeneGene', ['Gene1', 'Gene2'])\n",
    "elif edge_type == \"cg\":\n",
    "    CompoundGene = candidate_subclass('CompoundGene', ['Compound', 'Gene'])\n",
    "elif edge_type == \"cd\":\n",
    "    CompoundDisease = candidate_subclass('CompoundDisease', ['Compound', 'Disease'])\n",
    "else:\n",
    "    print(\"Please pick a valid edge type\")"
   ]
  },
  {
   "cell_type": "markdown",
   "metadata": {},
   "source": [
    "# Load preprocessed data "
   ]
  },
  {
   "cell_type": "markdown",
   "metadata": {},
   "source": [
    "This code will load the corresponding label matricies that were generated in the previous notebook ([Notebook 2](2.data-labeler.ipynb)). This notebook has three matricies which are broken down as follows:\n",
    "\n",
    "|Dataset|Size|Description|\n",
    "|:-----|-----|:-----|\n",
    "|L_train|50,000|Randomly sampled from our 2,700,000 training set|\n",
    "|L_dev|10,000|Randomly sampled from our 700,000 dev set. Only 200 have been hand labeled|\n",
    "|L_train_labeled|919|Have been hand labled from training set and is separate from (L_train).|"
   ]
  },
  {
   "cell_type": "code",
   "execution_count": 6,
   "metadata": {
    "ExecuteTime": {
     "end_time": "2018-08-07T21:03:39.005075Z",
     "start_time": "2018-08-07T21:03:38.781894Z"
    }
   },
   "outputs": [
    {
     "data": {
      "text/plain": [
       "[22022594,\n",
       " 21139760,\n",
       " 10710937,\n",
       " 26181079,\n",
       " 36667709,\n",
       " 23885929,\n",
       " 18843735,\n",
       " 5120851,\n",
       " 24776858,\n",
       " 20191871]"
      ]
     },
     "execution_count": 6,
     "metadata": {},
     "output_type": "execute_result"
    }
   ],
   "source": [
    "train_candidate_ids = np.loadtxt('data/compound_gene/labeled_candidates.txt').astype(int).tolist()\n",
    "train_candidate_ids[0:10]"
   ]
  },
  {
   "cell_type": "code",
   "execution_count": 7,
   "metadata": {
    "ExecuteTime": {
     "end_time": "2018-08-07T21:03:41.536132Z",
     "start_time": "2018-08-07T21:03:39.006701Z"
    }
   },
   "outputs": [
    {
     "name": "stdout",
     "output_type": "stream",
     "text": [
      "Total Hand Labeled Dev Sentences: 78\n"
     ]
    }
   ],
   "source": [
    "dev_data_df = pd.read_excel(\"data/compound_gene/sentence-labels-dev.xlsx\")\n",
    "dev_data_df = dev_data_df[dev_data_df.curated_dsh.notnull()]\n",
    "dev_data_df = dev_data_df.sort_values(\"candidate_id\")\n",
    "dev_candidate_ids = list(map(int, dev_data_df.candidate_id.values))\n",
    "#dev_candidate_ids = np.loadtxt('data/compound_gene/labeled_dev_candidates.txt').astype(int).tolist()\n",
    "print(\"Total Hand Labeled Dev Sentences: {}\".format(len(dev_candidate_ids)))"
   ]
  },
  {
   "cell_type": "code",
   "execution_count": 8,
   "metadata": {
    "ExecuteTime": {
     "end_time": "2018-08-07T21:03:44.042635Z",
     "start_time": "2018-08-07T21:03:41.537764Z"
    }
   },
   "outputs": [
    {
     "name": "stdout",
     "output_type": "stream",
     "text": [
      "CPU times: user 2.14 s, sys: 19.9 ms, total: 2.16 s\n",
      "Wall time: 2.49 s\n"
     ]
    }
   ],
   "source": [
    "%%time\n",
    "labeler = LabelAnnotator(lfs=[])\n",
    "\n",
    "# Only grab candidates that have labels\n",
    "cids = session.query(Candidate.id).filter(Candidate.id.in_(train_candidate_ids))\n",
    "L_train = labeler.load_matrix(session, cids_query=cids)\n",
    "\n",
    "cids = session.query(Candidate.id).filter(Candidate.id.in_(dev_candidate_ids))\n",
    "L_dev = labeler.load_matrix(session,cids_query=cids)"
   ]
  },
  {
   "cell_type": "code",
   "execution_count": null,
   "metadata": {
    "ExecuteTime": {
     "end_time": "2018-07-26T18:19:05.950642Z",
     "start_time": "2018-07-26T18:19:05.221603Z"
    }
   },
   "outputs": [],
   "source": [
    "sql = '''\n",
    "SELECT candidate_id FROM gold_label\n",
    "INNER JOIN Candidate ON Candidate.id=gold_label.candidate_id\n",
    "WHERE Candidate.split=0;\n",
    "'''\n",
    "cids = session.query(Candidate.id).filter(Candidate.id.in_([x[0] for x in session.execute(sql)]))\n",
    "L_train_labeled = labeler.load_matrix(session, cids_query=cids)\n",
    "L_train_labeled_gold = load_gold_labels(session, annotator_name='danich1', cids_query=cids)"
   ]
  },
  {
   "cell_type": "code",
   "execution_count": null,
   "metadata": {
    "ExecuteTime": {
     "end_time": "2018-07-26T18:19:05.971694Z",
     "start_time": "2018-07-26T18:19:05.951984Z"
    }
   },
   "outputs": [],
   "source": [
    "print(\"Total Number of Hand Labeled Candidates: {}\\n\".format(L_train_labeled_gold.shape[0]))\n",
    "print(\"Distribution of Labels:\")\n",
    "print(pd.DataFrame(L_train_labeled_gold.toarray(), columns=[\"labels\"])[\"labels\"].value_counts())"
   ]
  },
  {
   "cell_type": "code",
   "execution_count": 9,
   "metadata": {
    "ExecuteTime": {
     "end_time": "2018-08-07T21:03:44.061030Z",
     "start_time": "2018-08-07T21:03:44.044067Z"
    }
   },
   "outputs": [
    {
     "name": "stdout",
     "output_type": "stream",
     "text": [
      "Total Size of Train Data: 50000\n",
      "Total Number of Label Functions: 27\n"
     ]
    }
   ],
   "source": [
    "print(\"Total Size of Train Data: {}\".format(L_train.shape[0]))\n",
    "print(\"Total Number of Label Functions: {}\".format(L_train.shape[1]))"
   ]
  },
  {
   "cell_type": "markdown",
   "metadata": {},
   "source": [
    "# Train the Generative Model"
   ]
  },
  {
   "cell_type": "markdown",
   "metadata": {},
   "source": [
    "Here is the first step in classifying candidate sentences. We train a generative model to probabilistically label each training sentence. This means the model assigns a probability to each sentence indicating whether or not it mentions a given relatinoship (> 0.5 if yes, 0.5 < if no). The generative model snorkel uses is a [factor graph](http://deepdive.stanford.edu/assets/factor_graph.pdf) and further information on this model can be found in their paper [here](https://arxiv.org/abs/1711.10160).\n",
    "\n",
    "The following code below trains two different generative models. One model follows the assumption that each label function is independent of each other, while the other model assumes there are dependancies between each function (e.g. $L_{1}$ correlates with $L_{2}$)."
   ]
  },
  {
   "cell_type": "code",
   "execution_count": 10,
   "metadata": {
    "ExecuteTime": {
     "end_time": "2018-08-07T21:04:30.938873Z",
     "start_time": "2018-08-07T21:03:50.260271Z"
    }
   },
   "outputs": [
    {
     "name": "stdout",
     "output_type": "stream",
     "text": [
      "Inferred cardinality: 2\n",
      "CPU times: user 1min 11s, sys: 216 ms, total: 1min 12s\n",
      "Wall time: 40.6 s\n"
     ]
    }
   ],
   "source": [
    "%%time\n",
    "#Conditionally independent Generative Model\n",
    "indep_gen_model = GenerativeModel()\n",
    "indep_gen_model.train(\n",
    "    L_train,\n",
    "    epochs=10,\n",
    "    decay=0.95,\n",
    "    step_size=0.1 / L_train.shape[0],\n",
    "    reg_param=1e-6,\n",
    "    threads=50,\n",
    ")"
   ]
  },
  {
   "cell_type": "code",
   "execution_count": 11,
   "metadata": {
    "ExecuteTime": {
     "end_time": "2018-08-07T21:04:35.375038Z",
     "start_time": "2018-08-07T21:04:30.940535Z"
    }
   },
   "outputs": [
    {
     "data": {
      "text/plain": [
       "200"
      ]
     },
     "execution_count": 11,
     "metadata": {},
     "output_type": "execute_result"
    }
   ],
   "source": [
    "# select the dependancies from the label matrix\n",
    "ds = DependencySelector()\n",
    "deps = ds.select(L_train, threshold=0.1)\n",
    "len(deps)"
   ]
  },
  {
   "cell_type": "code",
   "execution_count": 12,
   "metadata": {
    "ExecuteTime": {
     "end_time": "2018-08-07T21:07:31.492016Z",
     "start_time": "2018-08-07T21:04:35.376799Z"
    },
    "scrolled": true
   },
   "outputs": [
    {
     "name": "stdout",
     "output_type": "stream",
     "text": [
      "Inferred cardinality: 2\n",
      "CPU times: user 4min 37s, sys: 557 ms, total: 4min 38s\n",
      "Wall time: 2min 56s\n"
     ]
    }
   ],
   "source": [
    "%%time\n",
    "# Model each label function and the underlying correlation structure\n",
    "gen_model = GenerativeModel(lf_propensity=True)\n",
    "gen_model.train(\n",
    "    L_train,\n",
    "    epochs=10,\n",
    "    decay=0.95,\n",
    "    step_size=0.1 / L_train.shape[0],\n",
    "    reg_param=1e-6,\n",
    "    threads=50,\n",
    "    deps=deps\n",
    ")"
   ]
  },
  {
   "cell_type": "markdown",
   "metadata": {},
   "source": [
    "# Generative Model Statistics"
   ]
  },
  {
   "cell_type": "markdown",
   "metadata": {},
   "source": [
    "Now that both models have been trained, the next step is to generate some statistics about each model. The two histograms below show a difference between both models' output. The conditionally independent model (CI) predicts more negative candidates compared to the dependancy aware model (DA)."
   ]
  },
  {
   "cell_type": "code",
   "execution_count": 13,
   "metadata": {
    "ExecuteTime": {
     "end_time": "2018-08-07T21:08:14.450187Z",
     "start_time": "2018-08-07T21:07:31.493875Z"
    },
    "scrolled": false
   },
   "outputs": [],
   "source": [
    "# Generate Statistics of Generative Model\n",
    "indep_learned_stats_df = indep_gen_model.learned_lf_stats()\n",
    "learned_stats_df = gen_model.learned_lf_stats()"
   ]
  },
  {
   "cell_type": "code",
   "execution_count": 14,
   "metadata": {
    "ExecuteTime": {
     "end_time": "2018-08-07T21:09:17.447045Z",
     "start_time": "2018-08-07T21:08:14.451515Z"
    }
   },
   "outputs": [
    {
     "name": "stdout",
     "output_type": "stream",
     "text": [
      "CPU times: user 1min 2s, sys: 21.7 ms, total: 1min 2s\n",
      "Wall time: 1min 2s\n"
     ]
    }
   ],
   "source": [
    "%%time \n",
    "train_marginals_indep = indep_gen_model.marginals(L_train)\n",
    "train_marginals = gen_model.marginals(L_train)"
   ]
  },
  {
   "cell_type": "code",
   "execution_count": 15,
   "metadata": {
    "ExecuteTime": {
     "end_time": "2018-08-07T21:09:17.603749Z",
     "start_time": "2018-08-07T21:09:17.448655Z"
    }
   },
   "outputs": [
    {
     "data": {
      "image/png": "[encoded data removed]",
      "text/plain": [
       "<matplotlib.figure.Figure at 0x7f03169ceeb8>"
      ]
     },
     "metadata": {},
     "output_type": "display_data"
    }
   ],
   "source": [
    "plt.hist(train_marginals_indep, bins=20)\n",
    "plt.title(\"CI Training Set Marginals\")\n",
    "plt.ylabel(\"Frequency\")\n",
    "plt.xlabel(\"Probability of Positive Class\")\n",
    "plt.show()"
   ]
  },
  {
   "cell_type": "code",
   "execution_count": 16,
   "metadata": {
    "ExecuteTime": {
     "end_time": "2018-08-07T21:09:17.750851Z",
     "start_time": "2018-08-07T21:09:17.605053Z"
    }
   },
   "outputs": [
    {
     "data": {
      "image/png": "[encoded data removed]",
      "text/plain": [
       "<matplotlib.figure.Figure at 0x7f0314818240>"
      ]
     },
     "metadata": {},
     "output_type": "display_data"
    }
   ],
   "source": [
    "plt.hist(train_marginals, bins=20)\n",
    "plt.title(\"DA Training Set Marginals\")\n",
    "plt.ylabel(\"Frequency\")\n",
    "plt.xlabel(\"Probability of Positive Class\")\n",
    "plt.show()"
   ]
  },
  {
   "cell_type": "markdown",
   "metadata": {},
   "source": [
    "# Training Set Statistics"
   ]
  },
  {
   "cell_type": "markdown",
   "metadata": {},
   "source": [
    "Taking a closer look into the training set predictions, we can see how each label function individually performed. The two dataframes below contain the follwoing information: number of candidate sentences a label function has labeled (coverage), number of candidate sentences a label function agreed with another label function (overlaps), number of candidates a label function disagreed with another label function (conflicts), and lastly, the accuracy each label function has after training the generative model (Learned Acc)."
   ]
  },
  {
   "cell_type": "code",
   "execution_count": 17,
   "metadata": {
    "ExecuteTime": {
     "end_time": "2018-08-07T21:09:20.480315Z",
     "start_time": "2018-08-07T21:09:17.753897Z"
    },
    "scrolled": true
   },
   "outputs": [
    {
     "data": {
      "text/html": [
       "<div>\n",
       "<style scoped>\n",
       "    .dataframe tbody tr th:only-of-type {\n",
       "        vertical-align: middle;\n",
       "    }\n",
       "\n",
       "    .dataframe tbody tr th {\n",
       "        vertical-align: top;\n",
       "    }\n",
       "\n",
       "    .dataframe thead th {\n",
       "        text-align: right;\n",
       "    }\n",
       "</style>\n",
       "<table border=\"1\" class=\"dataframe\">\n",
       "  <thead>\n",
       "    <tr style=\"text-align: right;\">\n",
       "      <th></th>\n",
       "      <th>j</th>\n",
       "      <th>Coverage</th>\n",
       "      <th>Overlaps</th>\n",
       "      <th>Conflicts</th>\n",
       "      <th>Learned Acc.</th>\n",
       "    </tr>\n",
       "  </thead>\n",
       "  <tbody>\n",
       "    <tr>\n",
       "      <th>LF_HETNET_DRUGBANK</th>\n",
       "      <td>0</td>\n",
       "      <td>0.12272</td>\n",
       "      <td>0.12272</td>\n",
       "      <td>0.10672</td>\n",
       "      <td>0.677870</td>\n",
       "    </tr>\n",
       "    <tr>\n",
       "      <th>LF_HETNET_DRUGCENTRAL</th>\n",
       "      <td>1</td>\n",
       "      <td>0.04360</td>\n",
       "      <td>0.04360</td>\n",
       "      <td>0.03860</td>\n",
       "      <td>0.677297</td>\n",
       "    </tr>\n",
       "    <tr>\n",
       "      <th>LF_HETNET_ChEMBL</th>\n",
       "      <td>2</td>\n",
       "      <td>0.05014</td>\n",
       "      <td>0.05014</td>\n",
       "      <td>0.04350</td>\n",
       "      <td>0.684511</td>\n",
       "    </tr>\n",
       "    <tr>\n",
       "      <th>LF_HETNET_BINDINGDB</th>\n",
       "      <td>3</td>\n",
       "      <td>0.00360</td>\n",
       "      <td>0.00360</td>\n",
       "      <td>0.00304</td>\n",
       "      <td>0.674061</td>\n",
       "    </tr>\n",
       "    <tr>\n",
       "      <th>LF_HETNET_PDSP_KI</th>\n",
       "      <td>4</td>\n",
       "      <td>0.00338</td>\n",
       "      <td>0.00338</td>\n",
       "      <td>0.00276</td>\n",
       "      <td>0.675291</td>\n",
       "    </tr>\n",
       "    <tr>\n",
       "      <th>LF_HETNET_US_PATENT</th>\n",
       "      <td>5</td>\n",
       "      <td>0.00010</td>\n",
       "      <td>0.00010</td>\n",
       "      <td>0.00008</td>\n",
       "      <td>0.664400</td>\n",
       "    </tr>\n",
       "    <tr>\n",
       "      <th>LF_HETNET_PUBCHEM</th>\n",
       "      <td>6</td>\n",
       "      <td>0.00450</td>\n",
       "      <td>0.00450</td>\n",
       "      <td>0.00386</td>\n",
       "      <td>0.675780</td>\n",
       "    </tr>\n",
       "    <tr>\n",
       "      <th>LF_HETNET_ABSENT</th>\n",
       "      <td>7</td>\n",
       "      <td>0.87146</td>\n",
       "      <td>0.87146</td>\n",
       "      <td>0.54866</td>\n",
       "      <td>0.847761</td>\n",
       "    </tr>\n",
       "    <tr>\n",
       "      <th>LF_IS_BIOMARKER</th>\n",
       "      <td>8</td>\n",
       "      <td>0.10998</td>\n",
       "      <td>0.10998</td>\n",
       "      <td>0.10454</td>\n",
       "      <td>0.687380</td>\n",
       "    </tr>\n",
       "    <tr>\n",
       "      <th>LF_ASSOCIATION</th>\n",
       "      <td>9</td>\n",
       "      <td>0.10220</td>\n",
       "      <td>0.10220</td>\n",
       "      <td>0.09566</td>\n",
       "      <td>0.686873</td>\n",
       "    </tr>\n",
       "    <tr>\n",
       "      <th>LF_WEAK_ASSOCIATION</th>\n",
       "      <td>10</td>\n",
       "      <td>0.00208</td>\n",
       "      <td>0.00208</td>\n",
       "      <td>0.00146</td>\n",
       "      <td>0.673195</td>\n",
       "    </tr>\n",
       "    <tr>\n",
       "      <th>LF_NO_ASSOCIATION</th>\n",
       "      <td>11</td>\n",
       "      <td>0.00736</td>\n",
       "      <td>0.00736</td>\n",
       "      <td>0.00542</td>\n",
       "      <td>0.663283</td>\n",
       "    </tr>\n",
       "    <tr>\n",
       "      <th>LF_METHOD_DESC</th>\n",
       "      <td>12</td>\n",
       "      <td>0.12022</td>\n",
       "      <td>0.12022</td>\n",
       "      <td>0.08294</td>\n",
       "      <td>0.706707</td>\n",
       "    </tr>\n",
       "    <tr>\n",
       "      <th>LF_TITLE</th>\n",
       "      <td>13</td>\n",
       "      <td>0.00340</td>\n",
       "      <td>0.00340</td>\n",
       "      <td>0.00208</td>\n",
       "      <td>0.672216</td>\n",
       "    </tr>\n",
       "    <tr>\n",
       "      <th>LF_POSITIVE_DIRECTION</th>\n",
       "      <td>14</td>\n",
       "      <td>0.10552</td>\n",
       "      <td>0.10552</td>\n",
       "      <td>0.09994</td>\n",
       "      <td>0.705934</td>\n",
       "    </tr>\n",
       "    <tr>\n",
       "      <th>LF_NEGATIVE_DIRECTION</th>\n",
       "      <td>15</td>\n",
       "      <td>0.08694</td>\n",
       "      <td>0.08694</td>\n",
       "      <td>0.08204</td>\n",
       "      <td>0.698237</td>\n",
       "    </tr>\n",
       "    <tr>\n",
       "      <th>LF_DIAGNOSIS</th>\n",
       "      <td>16</td>\n",
       "      <td>0.00734</td>\n",
       "      <td>0.00734</td>\n",
       "      <td>0.00698</td>\n",
       "      <td>0.671227</td>\n",
       "    </tr>\n",
       "    <tr>\n",
       "      <th>LF_RISK</th>\n",
       "      <td>17</td>\n",
       "      <td>0.00500</td>\n",
       "      <td>0.00500</td>\n",
       "      <td>0.00464</td>\n",
       "      <td>0.674970</td>\n",
       "    </tr>\n",
       "    <tr>\n",
       "      <th>LF_PATIENT_WITH</th>\n",
       "      <td>18</td>\n",
       "      <td>0.00062</td>\n",
       "      <td>0.00062</td>\n",
       "      <td>0.00062</td>\n",
       "      <td>0.670378</td>\n",
       "    </tr>\n",
       "    <tr>\n",
       "      <th>LF_PURPOSE</th>\n",
       "      <td>19</td>\n",
       "      <td>0.00382</td>\n",
       "      <td>0.00382</td>\n",
       "      <td>0.00276</td>\n",
       "      <td>0.676540</td>\n",
       "    </tr>\n",
       "    <tr>\n",
       "      <th>LF_CONCLUSION_TITLE</th>\n",
       "      <td>20</td>\n",
       "      <td>0.01620</td>\n",
       "      <td>0.01620</td>\n",
       "      <td>0.01562</td>\n",
       "      <td>0.664450</td>\n",
       "    </tr>\n",
       "    <tr>\n",
       "      <th>LF_NO_CONCLUSION</th>\n",
       "      <td>21</td>\n",
       "      <td>0.72584</td>\n",
       "      <td>0.72584</td>\n",
       "      <td>0.40358</td>\n",
       "      <td>0.881916</td>\n",
       "    </tr>\n",
       "    <tr>\n",
       "      <th>LF_CONCLUSION</th>\n",
       "      <td>22</td>\n",
       "      <td>0.27918</td>\n",
       "      <td>0.27918</td>\n",
       "      <td>0.25932</td>\n",
       "      <td>0.739356</td>\n",
       "    </tr>\n",
       "    <tr>\n",
       "      <th>LF_DG_DISTANCE_SHORT</th>\n",
       "      <td>23</td>\n",
       "      <td>0.19936</td>\n",
       "      <td>0.19936</td>\n",
       "      <td>0.07984</td>\n",
       "      <td>0.731838</td>\n",
       "    </tr>\n",
       "    <tr>\n",
       "      <th>LF_DG_DISTANCE_LONG</th>\n",
       "      <td>24</td>\n",
       "      <td>0.10820</td>\n",
       "      <td>0.10820</td>\n",
       "      <td>0.05104</td>\n",
       "      <td>0.697256</td>\n",
       "    </tr>\n",
       "    <tr>\n",
       "      <th>LF_DG_ALLOWED_DISTANCE</th>\n",
       "      <td>25</td>\n",
       "      <td>0.44898</td>\n",
       "      <td>0.44898</td>\n",
       "      <td>0.43772</td>\n",
       "      <td>0.594695</td>\n",
       "    </tr>\n",
       "    <tr>\n",
       "      <th>LF_NO_VERB</th>\n",
       "      <td>26</td>\n",
       "      <td>0.04296</td>\n",
       "      <td>0.04296</td>\n",
       "      <td>0.02342</td>\n",
       "      <td>0.683963</td>\n",
       "    </tr>\n",
       "  </tbody>\n",
       "</table>\n",
       "</div>"
      ],
      "text/plain": [
       "                         j  Coverage  Overlaps  Conflicts  Learned Acc.\n",
       "LF_HETNET_DRUGBANK       0   0.12272   0.12272    0.10672      0.677870\n",
       "LF_HETNET_DRUGCENTRAL    1   0.04360   0.04360    0.03860      0.677297\n",
       "LF_HETNET_ChEMBL         2   0.05014   0.05014    0.04350      0.684511\n",
       "LF_HETNET_BINDINGDB      3   0.00360   0.00360    0.00304      0.674061\n",
       "LF_HETNET_PDSP_KI        4   0.00338   0.00338    0.00276      0.675291\n",
       "LF_HETNET_US_PATENT      5   0.00010   0.00010    0.00008      0.664400\n",
       "LF_HETNET_PUBCHEM        6   0.00450   0.00450    0.00386      0.675780\n",
       "LF_HETNET_ABSENT         7   0.87146   0.87146    0.54866      0.847761\n",
       "LF_IS_BIOMARKER          8   0.10998   0.10998    0.10454      0.687380\n",
       "LF_ASSOCIATION           9   0.10220   0.10220    0.09566      0.686873\n",
       "LF_WEAK_ASSOCIATION     10   0.00208   0.00208    0.00146      0.673195\n",
       "LF_NO_ASSOCIATION       11   0.00736   0.00736    0.00542      0.663283\n",
       "LF_METHOD_DESC          12   0.12022   0.12022    0.08294      0.706707\n",
       "LF_TITLE                13   0.00340   0.00340    0.00208      0.672216\n",
       "LF_POSITIVE_DIRECTION   14   0.10552   0.10552    0.09994      0.705934\n",
       "LF_NEGATIVE_DIRECTION   15   0.08694   0.08694    0.08204      0.698237\n",
       "LF_DIAGNOSIS            16   0.00734   0.00734    0.00698      0.671227\n",
       "LF_RISK                 17   0.00500   0.00500    0.00464      0.674970\n",
       "LF_PATIENT_WITH         18   0.00062   0.00062    0.00062      0.670378\n",
       "LF_PURPOSE              19   0.00382   0.00382    0.00276      0.676540\n",
       "LF_CONCLUSION_TITLE     20   0.01620   0.01620    0.01562      0.664450\n",
       "LF_NO_CONCLUSION        21   0.72584   0.72584    0.40358      0.881916\n",
       "LF_CONCLUSION           22   0.27918   0.27918    0.25932      0.739356\n",
       "LF_DG_DISTANCE_SHORT    23   0.19936   0.19936    0.07984      0.731838\n",
       "LF_DG_DISTANCE_LONG     24   0.10820   0.10820    0.05104      0.697256\n",
       "LF_DG_ALLOWED_DISTANCE  25   0.44898   0.44898    0.43772      0.594695\n",
       "LF_NO_VERB              26   0.04296   0.04296    0.02342      0.683963"
      ]
     },
     "execution_count": 17,
     "metadata": {},
     "output_type": "execute_result"
    }
   ],
   "source": [
    "indep_results_df = L_train.lf_stats(session, est_accs=indep_learned_stats_df['Accuracy'])\n",
    "indep_results_df"
   ]
  },
  {
   "cell_type": "code",
   "execution_count": 18,
   "metadata": {
    "ExecuteTime": {
     "end_time": "2018-08-07T21:09:23.181287Z",
     "start_time": "2018-08-07T21:09:20.481956Z"
    },
    "scrolled": false
   },
   "outputs": [
    {
     "data": {
      "text/html": [
       "<div>\n",
       "<style scoped>\n",
       "    .dataframe tbody tr th:only-of-type {\n",
       "        vertical-align: middle;\n",
       "    }\n",
       "\n",
       "    .dataframe tbody tr th {\n",
       "        vertical-align: top;\n",
       "    }\n",
       "\n",
       "    .dataframe thead th {\n",
       "        text-align: right;\n",
       "    }\n",
       "</style>\n",
       "<table border=\"1\" class=\"dataframe\">\n",
       "  <thead>\n",
       "    <tr style=\"text-align: right;\">\n",
       "      <th></th>\n",
       "      <th>j</th>\n",
       "      <th>Coverage</th>\n",
       "      <th>Overlaps</th>\n",
       "      <th>Conflicts</th>\n",
       "      <th>Learned Acc.</th>\n",
       "    </tr>\n",
       "  </thead>\n",
       "  <tbody>\n",
       "    <tr>\n",
       "      <th>LF_HETNET_DRUGBANK</th>\n",
       "      <td>0</td>\n",
       "      <td>0.12272</td>\n",
       "      <td>0.12272</td>\n",
       "      <td>0.10672</td>\n",
       "      <td>0.524476</td>\n",
       "    </tr>\n",
       "    <tr>\n",
       "      <th>LF_HETNET_DRUGCENTRAL</th>\n",
       "      <td>1</td>\n",
       "      <td>0.04360</td>\n",
       "      <td>0.04360</td>\n",
       "      <td>0.03860</td>\n",
       "      <td>0.500000</td>\n",
       "    </tr>\n",
       "    <tr>\n",
       "      <th>LF_HETNET_ChEMBL</th>\n",
       "      <td>2</td>\n",
       "      <td>0.05014</td>\n",
       "      <td>0.05014</td>\n",
       "      <td>0.04350</td>\n",
       "      <td>0.484716</td>\n",
       "    </tr>\n",
       "    <tr>\n",
       "      <th>LF_HETNET_BINDINGDB</th>\n",
       "      <td>3</td>\n",
       "      <td>0.00360</td>\n",
       "      <td>0.00360</td>\n",
       "      <td>0.00304</td>\n",
       "      <td>0.460000</td>\n",
       "    </tr>\n",
       "    <tr>\n",
       "      <th>LF_HETNET_PDSP_KI</th>\n",
       "      <td>4</td>\n",
       "      <td>0.00338</td>\n",
       "      <td>0.00338</td>\n",
       "      <td>0.00276</td>\n",
       "      <td>0.472222</td>\n",
       "    </tr>\n",
       "    <tr>\n",
       "      <th>LF_HETNET_US_PATENT</th>\n",
       "      <td>5</td>\n",
       "      <td>0.00010</td>\n",
       "      <td>0.00010</td>\n",
       "      <td>0.00008</td>\n",
       "      <td>0.513514</td>\n",
       "    </tr>\n",
       "    <tr>\n",
       "      <th>LF_HETNET_PUBCHEM</th>\n",
       "      <td>6</td>\n",
       "      <td>0.00450</td>\n",
       "      <td>0.00450</td>\n",
       "      <td>0.00386</td>\n",
       "      <td>0.444444</td>\n",
       "    </tr>\n",
       "    <tr>\n",
       "      <th>LF_HETNET_ABSENT</th>\n",
       "      <td>7</td>\n",
       "      <td>0.87146</td>\n",
       "      <td>0.87146</td>\n",
       "      <td>0.54866</td>\n",
       "      <td>0.892996</td>\n",
       "    </tr>\n",
       "    <tr>\n",
       "      <th>LF_IS_BIOMARKER</th>\n",
       "      <td>8</td>\n",
       "      <td>0.10998</td>\n",
       "      <td>0.10998</td>\n",
       "      <td>0.10454</td>\n",
       "      <td>0.536000</td>\n",
       "    </tr>\n",
       "    <tr>\n",
       "      <th>LF_ASSOCIATION</th>\n",
       "      <td>9</td>\n",
       "      <td>0.10220</td>\n",
       "      <td>0.10220</td>\n",
       "      <td>0.09566</td>\n",
       "      <td>0.548596</td>\n",
       "    </tr>\n",
       "    <tr>\n",
       "      <th>LF_WEAK_ASSOCIATION</th>\n",
       "      <td>10</td>\n",
       "      <td>0.00208</td>\n",
       "      <td>0.00208</td>\n",
       "      <td>0.00146</td>\n",
       "      <td>0.483333</td>\n",
       "    </tr>\n",
       "    <tr>\n",
       "      <th>LF_NO_ASSOCIATION</th>\n",
       "      <td>11</td>\n",
       "      <td>0.00736</td>\n",
       "      <td>0.00736</td>\n",
       "      <td>0.00542</td>\n",
       "      <td>0.412698</td>\n",
       "    </tr>\n",
       "    <tr>\n",
       "      <th>LF_METHOD_DESC</th>\n",
       "      <td>12</td>\n",
       "      <td>0.12022</td>\n",
       "      <td>0.12022</td>\n",
       "      <td>0.08294</td>\n",
       "      <td>0.565008</td>\n",
       "    </tr>\n",
       "    <tr>\n",
       "      <th>LF_TITLE</th>\n",
       "      <td>13</td>\n",
       "      <td>0.00340</td>\n",
       "      <td>0.00340</td>\n",
       "      <td>0.00208</td>\n",
       "      <td>0.333333</td>\n",
       "    </tr>\n",
       "    <tr>\n",
       "      <th>LF_POSITIVE_DIRECTION</th>\n",
       "      <td>14</td>\n",
       "      <td>0.10552</td>\n",
       "      <td>0.10552</td>\n",
       "      <td>0.09994</td>\n",
       "      <td>0.508349</td>\n",
       "    </tr>\n",
       "    <tr>\n",
       "      <th>LF_NEGATIVE_DIRECTION</th>\n",
       "      <td>15</td>\n",
       "      <td>0.08694</td>\n",
       "      <td>0.08694</td>\n",
       "      <td>0.08204</td>\n",
       "      <td>0.540390</td>\n",
       "    </tr>\n",
       "    <tr>\n",
       "      <th>LF_DIAGNOSIS</th>\n",
       "      <td>16</td>\n",
       "      <td>0.00734</td>\n",
       "      <td>0.00734</td>\n",
       "      <td>0.00698</td>\n",
       "      <td>0.406250</td>\n",
       "    </tr>\n",
       "    <tr>\n",
       "      <th>LF_RISK</th>\n",
       "      <td>17</td>\n",
       "      <td>0.00500</td>\n",
       "      <td>0.00500</td>\n",
       "      <td>0.00464</td>\n",
       "      <td>0.431818</td>\n",
       "    </tr>\n",
       "    <tr>\n",
       "      <th>LF_PATIENT_WITH</th>\n",
       "      <td>18</td>\n",
       "      <td>0.00062</td>\n",
       "      <td>0.00062</td>\n",
       "      <td>0.00062</td>\n",
       "      <td>0.471698</td>\n",
       "    </tr>\n",
       "    <tr>\n",
       "      <th>LF_PURPOSE</th>\n",
       "      <td>19</td>\n",
       "      <td>0.00382</td>\n",
       "      <td>0.00382</td>\n",
       "      <td>0.00276</td>\n",
       "      <td>0.418182</td>\n",
       "    </tr>\n",
       "    <tr>\n",
       "      <th>LF_CONCLUSION_TITLE</th>\n",
       "      <td>20</td>\n",
       "      <td>0.01620</td>\n",
       "      <td>0.01620</td>\n",
       "      <td>0.01562</td>\n",
       "      <td>0.421687</td>\n",
       "    </tr>\n",
       "    <tr>\n",
       "      <th>LF_NO_CONCLUSION</th>\n",
       "      <td>21</td>\n",
       "      <td>0.72584</td>\n",
       "      <td>0.72584</td>\n",
       "      <td>0.40358</td>\n",
       "      <td>0.909936</td>\n",
       "    </tr>\n",
       "    <tr>\n",
       "      <th>LF_CONCLUSION</th>\n",
       "      <td>22</td>\n",
       "      <td>0.27918</td>\n",
       "      <td>0.27918</td>\n",
       "      <td>0.25932</td>\n",
       "      <td>0.539714</td>\n",
       "    </tr>\n",
       "    <tr>\n",
       "      <th>LF_DG_DISTANCE_SHORT</th>\n",
       "      <td>23</td>\n",
       "      <td>0.19936</td>\n",
       "      <td>0.19936</td>\n",
       "      <td>0.07984</td>\n",
       "      <td>0.638135</td>\n",
       "    </tr>\n",
       "    <tr>\n",
       "      <th>LF_DG_DISTANCE_LONG</th>\n",
       "      <td>24</td>\n",
       "      <td>0.10820</td>\n",
       "      <td>0.10820</td>\n",
       "      <td>0.05104</td>\n",
       "      <td>0.547009</td>\n",
       "    </tr>\n",
       "    <tr>\n",
       "      <th>LF_DG_ALLOWED_DISTANCE</th>\n",
       "      <td>25</td>\n",
       "      <td>0.44898</td>\n",
       "      <td>0.44898</td>\n",
       "      <td>0.43772</td>\n",
       "      <td>0.495577</td>\n",
       "    </tr>\n",
       "    <tr>\n",
       "      <th>LF_NO_VERB</th>\n",
       "      <td>26</td>\n",
       "      <td>0.04296</td>\n",
       "      <td>0.04296</td>\n",
       "      <td>0.02342</td>\n",
       "      <td>0.489437</td>\n",
       "    </tr>\n",
       "  </tbody>\n",
       "</table>\n",
       "</div>"
      ],
      "text/plain": [
       "                         j  Coverage  Overlaps  Conflicts  Learned Acc.\n",
       "LF_HETNET_DRUGBANK       0   0.12272   0.12272    0.10672      0.524476\n",
       "LF_HETNET_DRUGCENTRAL    1   0.04360   0.04360    0.03860      0.500000\n",
       "LF_HETNET_ChEMBL         2   0.05014   0.05014    0.04350      0.484716\n",
       "LF_HETNET_BINDINGDB      3   0.00360   0.00360    0.00304      0.460000\n",
       "LF_HETNET_PDSP_KI        4   0.00338   0.00338    0.00276      0.472222\n",
       "LF_HETNET_US_PATENT      5   0.00010   0.00010    0.00008      0.513514\n",
       "LF_HETNET_PUBCHEM        6   0.00450   0.00450    0.00386      0.444444\n",
       "LF_HETNET_ABSENT         7   0.87146   0.87146    0.54866      0.892996\n",
       "LF_IS_BIOMARKER          8   0.10998   0.10998    0.10454      0.536000\n",
       "LF_ASSOCIATION           9   0.10220   0.10220    0.09566      0.548596\n",
       "LF_WEAK_ASSOCIATION     10   0.00208   0.00208    0.00146      0.483333\n",
       "LF_NO_ASSOCIATION       11   0.00736   0.00736    0.00542      0.412698\n",
       "LF_METHOD_DESC          12   0.12022   0.12022    0.08294      0.565008\n",
       "LF_TITLE                13   0.00340   0.00340    0.00208      0.333333\n",
       "LF_POSITIVE_DIRECTION   14   0.10552   0.10552    0.09994      0.508349\n",
       "LF_NEGATIVE_DIRECTION   15   0.08694   0.08694    0.08204      0.540390\n",
       "LF_DIAGNOSIS            16   0.00734   0.00734    0.00698      0.406250\n",
       "LF_RISK                 17   0.00500   0.00500    0.00464      0.431818\n",
       "LF_PATIENT_WITH         18   0.00062   0.00062    0.00062      0.471698\n",
       "LF_PURPOSE              19   0.00382   0.00382    0.00276      0.418182\n",
       "LF_CONCLUSION_TITLE     20   0.01620   0.01620    0.01562      0.421687\n",
       "LF_NO_CONCLUSION        21   0.72584   0.72584    0.40358      0.909936\n",
       "LF_CONCLUSION           22   0.27918   0.27918    0.25932      0.539714\n",
       "LF_DG_DISTANCE_SHORT    23   0.19936   0.19936    0.07984      0.638135\n",
       "LF_DG_DISTANCE_LONG     24   0.10820   0.10820    0.05104      0.547009\n",
       "LF_DG_ALLOWED_DISTANCE  25   0.44898   0.44898    0.43772      0.495577\n",
       "LF_NO_VERB              26   0.04296   0.04296    0.02342      0.489437"
      ]
     },
     "execution_count": 18,
     "metadata": {},
     "output_type": "execute_result"
    }
   ],
   "source": [
    "results_df = L_train.lf_stats(session, est_accs=learned_stats_df['Accuracy'])\n",
    "results_df"
   ]
  },
  {
   "cell_type": "markdown",
   "metadata": {},
   "source": [
    "The following bar charts below depict the weights the generative model assigns to each label function. The conditional independent model relies heavily on LF_HETNET_ABSENT and LF_NO_CONCLUSION, while the dependancy aware model relies more on the database-backed label functions. Ultimately, the DA model emphasizes more postive labels compared to the CI model. "
   ]
  },
  {
   "cell_type": "code",
   "execution_count": 19,
   "metadata": {
    "ExecuteTime": {
     "end_time": "2018-08-07T21:09:23.214321Z",
     "start_time": "2018-08-07T21:09:23.184801Z"
    }
   },
   "outputs": [
    {
     "data": {
      "text/html": [
       "<div>\n",
       "<style scoped>\n",
       "    .dataframe tbody tr th:only-of-type {\n",
       "        vertical-align: middle;\n",
       "    }\n",
       "\n",
       "    .dataframe tbody tr th {\n",
       "        vertical-align: top;\n",
       "    }\n",
       "\n",
       "    .dataframe thead th {\n",
       "        text-align: right;\n",
       "    }\n",
       "</style>\n",
       "<table border=\"1\" class=\"dataframe\">\n",
       "  <thead>\n",
       "    <tr style=\"text-align: right;\">\n",
       "      <th></th>\n",
       "      <th>index</th>\n",
       "      <th>Learned Acc.</th>\n",
       "      <th>model</th>\n",
       "    </tr>\n",
       "  </thead>\n",
       "  <tbody>\n",
       "    <tr>\n",
       "      <th>0</th>\n",
       "      <td>LF_HETNET_DRUGBANK</td>\n",
       "      <td>0.524476</td>\n",
       "      <td>DA</td>\n",
       "    </tr>\n",
       "    <tr>\n",
       "      <th>1</th>\n",
       "      <td>LF_HETNET_DRUGCENTRAL</td>\n",
       "      <td>0.500000</td>\n",
       "      <td>DA</td>\n",
       "    </tr>\n",
       "  </tbody>\n",
       "</table>\n",
       "</div>"
      ],
      "text/plain": [
       "                   index  Learned Acc. model\n",
       "0     LF_HETNET_DRUGBANK      0.524476    DA\n",
       "1  LF_HETNET_DRUGCENTRAL      0.500000    DA"
      ]
     },
     "execution_count": 19,
     "metadata": {},
     "output_type": "execute_result"
    }
   ],
   "source": [
    "test_df = pd.concat([\n",
    "    results_df[[\"Learned Acc.\"]].assign(model=\"DA\"),\n",
    "    indep_results_df[[\"Learned Acc.\"]].assign(model=\"CI\"), \n",
    "])\n",
    "test_df = test_df.reset_index()\n",
    "test_df.head(2)"
   ]
  },
  {
   "cell_type": "code",
   "execution_count": 20,
   "metadata": {
    "ExecuteTime": {
     "end_time": "2018-08-07T21:09:23.672477Z",
     "start_time": "2018-08-07T21:09:23.217031Z"
    },
    "scrolled": false
   },
   "outputs": [
    {
     "data": {
      "text/plain": [
       "<matplotlib.axes._subplots.AxesSubplot at 0x7f0316a477b8>"
      ]
     },
     "execution_count": 20,
     "metadata": {},
     "output_type": "execute_result"
    },
    {
     "data": {
      "image/png": "[encoded data removed]",
      "text/plain": [
       "<matplotlib.figure.Figure at 0x7f0318793b00>"
      ]
     },
     "metadata": {},
     "output_type": "display_data"
    }
   ],
   "source": [
    "fig, ax = plt.subplots(figsize=(9,7))\n",
    "sns.barplot(ax=ax,y=\"index\", x=\"Learned Acc.\", hue=\"model\", data=test_df, palette=sns.color_palette(\"muted\"))"
   ]
  },
  {
   "cell_type": "markdown",
   "metadata": {},
   "source": [
    "## F1 Score of Dev Set"
   ]
  },
  {
   "cell_type": "markdown",
   "metadata": {},
   "source": [
    "Moving from the training set, we now can look at how well these models can predict our small dev set. Looking at the chart below, the conditionally independent model doesn't perform well compared to the dependency aware model. In terms of f1 score there is about a .2 difference, which provides evidence towards the dependency model performing better."
   ]
  },
  {
   "cell_type": "code",
   "execution_count": 21,
   "metadata": {
    "ExecuteTime": {
     "end_time": "2018-08-07T21:09:23.796866Z",
     "start_time": "2018-08-07T21:09:23.674512Z"
    }
   },
   "outputs": [
    {
     "name": "stdout",
     "output_type": "stream",
     "text": [
      "========================================\n",
      "Scores (Un-adjusted)\n",
      "========================================\n",
      "Pos. class accuracy: 0.429\n",
      "Neg. class accuracy: 0.842\n",
      "Precision            0.5\n",
      "Recall               0.429\n",
      "F1                   0.462\n",
      "----------------------------------------\n",
      "TP: 9 | FP: 9 | TN: 48 | FN: 12\n",
      "========================================\n",
      "\n"
     ]
    }
   ],
   "source": [
    "_ = indep_gen_model.error_analysis(session, L_dev, dev_data_df.curated_dsh.apply(lambda x: -1 if x==0 else x).values)"
   ]
  },
  {
   "cell_type": "code",
   "execution_count": 22,
   "metadata": {
    "ExecuteTime": {
     "end_time": "2018-08-07T21:09:23.923029Z",
     "start_time": "2018-08-07T21:09:23.799757Z"
    }
   },
   "outputs": [
    {
     "name": "stdout",
     "output_type": "stream",
     "text": [
      "========================================\n",
      "Scores (Un-adjusted)\n",
      "========================================\n",
      "Pos. class accuracy: 0.0476\n",
      "Neg. class accuracy: 0.965\n",
      "Precision            0.333\n",
      "Recall               0.0476\n",
      "F1                   0.0833\n",
      "----------------------------------------\n",
      "TP: 1 | FP: 2 | TN: 55 | FN: 20\n",
      "========================================\n",
      "\n"
     ]
    }
   ],
   "source": [
    "tp, fp, tn, fn = gen_model.error_analysis(session, L_dev, dev_data_df.curated_dsh.apply(lambda x: -1 if x==0 else x).values)"
   ]
  },
  {
   "cell_type": "code",
   "execution_count": 23,
   "metadata": {
    "ExecuteTime": {
     "end_time": "2018-08-07T21:09:24.043267Z",
     "start_time": "2018-08-07T21:09:23.925027Z"
    }
   },
   "outputs": [],
   "source": [
    "L_dev_ci_marginals = indep_gen_model.marginals(L_dev)\n",
    "L_dev_da_marginals = gen_model.marginals(L_dev)"
   ]
  },
  {
   "cell_type": "code",
   "execution_count": 24,
   "metadata": {
    "ExecuteTime": {
     "end_time": "2018-08-07T21:09:24.061974Z",
     "start_time": "2018-08-07T21:09:24.044976Z"
    }
   },
   "outputs": [],
   "source": [
    "dev_data_labels = dev_data_df.curated_dsh.replace({0:-1})"
   ]
  },
  {
   "cell_type": "code",
   "execution_count": 25,
   "metadata": {
    "ExecuteTime": {
     "end_time": "2018-08-07T21:09:24.255395Z",
     "start_time": "2018-08-07T21:09:24.063352Z"
    }
   },
   "outputs": [
    {
     "data": {
      "text/plain": [
       "<matplotlib.legend.Legend at 0x7f031464cc18>"
      ]
     },
     "execution_count": 25,
     "metadata": {},
     "output_type": "execute_result"
    },
    {
     "data": {
      "image/png": "[encoded data removed]",
      "text/plain": [
       "<matplotlib.figure.Figure at 0x7f031465f4a8>"
      ]
     },
     "metadata": {},
     "output_type": "display_data"
    }
   ],
   "source": [
    "positive_class = dev_data_df.curated_dsh.values.sum()/dev_data_df.shape[0]\n",
    "plt.plot([0,1], [positive_class, positive_class], color='grey', \n",
    "         linestyle='--', label='Baseline (AUC = {:0.2f})'.format(positive_class))\n",
    "\n",
    "for marginal, model_label in zip([L_dev_ci_marginals, L_dev_da_marginals], [\"CI Gen Model (AUC {:.2f})\", \"DA Gen Model (AUC {:.2f})\"]):\n",
    "    precision, recall, threshold = precision_recall_curve(dev_data_labels, marginal)\n",
    "    area = auc(recall, precision)\n",
    "    plt.plot(recall, precision, label=model_label.format(area))\n",
    "plt.title(\"Precision Recall Curve of Generative Models\")\n",
    "plt.xlabel(\"Recall\")\n",
    "plt.ylabel(\"Precision\")\n",
    "plt.legend()"
   ]
  },
  {
   "cell_type": "code",
   "execution_count": 26,
   "metadata": {
    "ExecuteTime": {
     "end_time": "2018-08-07T21:09:24.419538Z",
     "start_time": "2018-08-07T21:09:24.256801Z"
    }
   },
   "outputs": [
    {
     "data": {
      "text/plain": [
       "<matplotlib.legend.Legend at 0x7f0316b205f8>"
      ]
     },
     "execution_count": 26,
     "metadata": {},
     "output_type": "execute_result"
    },
    {
     "data": {
      "image/png": "[encoded data removed]",
      "text/plain": [
       "<matplotlib.figure.Figure at 0x7f0316b20b00>"
      ]
     },
     "metadata": {},
     "output_type": "display_data"
    }
   ],
   "source": [
    "plt.plot([0,1], [0,1], linestyle='--', color='grey')\n",
    "for marginal, model_label in zip([L_dev_ci_marginals, L_dev_da_marginals], [\"CI Gen Model (AUC {:.2f})\", \"DA Gen Model (AUC {:.2f})\"]):\n",
    "    fpr, tpr, threshold = roc_curve(dev_data_labels, marginal)\n",
    "    area = auc(fpr, tpr)\n",
    "    plt.plot(fpr, tpr, label=model_label.format(area))\n",
    "plt.title(\"ROC Curve of Generative Models\")\n",
    "plt.xlabel(\"False Positive Rate\")\n",
    "plt.ylabel(\"True Positive Rate\")\n",
    "plt.legend()"
   ]
  },
  {
   "cell_type": "code",
   "execution_count": 27,
   "metadata": {
    "ExecuteTime": {
     "end_time": "2018-08-07T21:09:24.497905Z",
     "start_time": "2018-08-07T21:09:24.420918Z"
    }
   },
   "outputs": [
    {
     "name": "stderr",
     "output_type": "stream",
     "text": [
      "/home/danich1/anaconda2/envs/snorkeling/lib/python3.6/site-packages/snorkel/annotations.py:137: RuntimeWarning: invalid value encountered in true_divide\n",
      "  ac = (tp+tn) / (tp+tn+fp+fn)\n"
     ]
    },
    {
     "data": {
      "text/html": [
       "<div>\n",
       "<style scoped>\n",
       "    .dataframe tbody tr th:only-of-type {\n",
       "        vertical-align: middle;\n",
       "    }\n",
       "\n",
       "    .dataframe tbody tr th {\n",
       "        vertical-align: top;\n",
       "    }\n",
       "\n",
       "    .dataframe thead th {\n",
       "        text-align: right;\n",
       "    }\n",
       "</style>\n",
       "<table border=\"1\" class=\"dataframe\">\n",
       "  <thead>\n",
       "    <tr style=\"text-align: right;\">\n",
       "      <th></th>\n",
       "      <th>j</th>\n",
       "      <th>Coverage</th>\n",
       "      <th>Overlaps</th>\n",
       "      <th>Conflicts</th>\n",
       "      <th>TP</th>\n",
       "      <th>FP</th>\n",
       "      <th>FN</th>\n",
       "      <th>TN</th>\n",
       "      <th>Empirical Acc.</th>\n",
       "      <th>Learned Acc.</th>\n",
       "    </tr>\n",
       "  </thead>\n",
       "  <tbody>\n",
       "    <tr>\n",
       "      <th>LF_HETNET_DRUGBANK</th>\n",
       "      <td>0</td>\n",
       "      <td>0.102564</td>\n",
       "      <td>0.102564</td>\n",
       "      <td>0.089744</td>\n",
       "      <td>3</td>\n",
       "      <td>5</td>\n",
       "      <td>0</td>\n",
       "      <td>0</td>\n",
       "      <td>0.375000</td>\n",
       "      <td>0.524476</td>\n",
       "    </tr>\n",
       "    <tr>\n",
       "      <th>LF_HETNET_DRUGCENTRAL</th>\n",
       "      <td>1</td>\n",
       "      <td>0.051282</td>\n",
       "      <td>0.051282</td>\n",
       "      <td>0.038462</td>\n",
       "      <td>1</td>\n",
       "      <td>3</td>\n",
       "      <td>0</td>\n",
       "      <td>0</td>\n",
       "      <td>0.250000</td>\n",
       "      <td>0.500000</td>\n",
       "    </tr>\n",
       "    <tr>\n",
       "      <th>LF_HETNET_ChEMBL</th>\n",
       "      <td>2</td>\n",
       "      <td>0.051282</td>\n",
       "      <td>0.051282</td>\n",
       "      <td>0.051282</td>\n",
       "      <td>1</td>\n",
       "      <td>3</td>\n",
       "      <td>0</td>\n",
       "      <td>0</td>\n",
       "      <td>0.250000</td>\n",
       "      <td>0.484716</td>\n",
       "    </tr>\n",
       "    <tr>\n",
       "      <th>LF_HETNET_BINDINGDB</th>\n",
       "      <td>3</td>\n",
       "      <td>0.000000</td>\n",
       "      <td>0.000000</td>\n",
       "      <td>0.000000</td>\n",
       "      <td>0</td>\n",
       "      <td>0</td>\n",
       "      <td>0</td>\n",
       "      <td>0</td>\n",
       "      <td>NaN</td>\n",
       "      <td>0.460000</td>\n",
       "    </tr>\n",
       "    <tr>\n",
       "      <th>LF_HETNET_PDSP_KI</th>\n",
       "      <td>4</td>\n",
       "      <td>0.000000</td>\n",
       "      <td>0.000000</td>\n",
       "      <td>0.000000</td>\n",
       "      <td>0</td>\n",
       "      <td>0</td>\n",
       "      <td>0</td>\n",
       "      <td>0</td>\n",
       "      <td>NaN</td>\n",
       "      <td>0.472222</td>\n",
       "    </tr>\n",
       "    <tr>\n",
       "      <th>LF_HETNET_US_PATENT</th>\n",
       "      <td>5</td>\n",
       "      <td>0.000000</td>\n",
       "      <td>0.000000</td>\n",
       "      <td>0.000000</td>\n",
       "      <td>0</td>\n",
       "      <td>0</td>\n",
       "      <td>0</td>\n",
       "      <td>0</td>\n",
       "      <td>NaN</td>\n",
       "      <td>0.513514</td>\n",
       "    </tr>\n",
       "    <tr>\n",
       "      <th>LF_HETNET_PUBCHEM</th>\n",
       "      <td>6</td>\n",
       "      <td>0.000000</td>\n",
       "      <td>0.000000</td>\n",
       "      <td>0.000000</td>\n",
       "      <td>0</td>\n",
       "      <td>0</td>\n",
       "      <td>0</td>\n",
       "      <td>0</td>\n",
       "      <td>NaN</td>\n",
       "      <td>0.444444</td>\n",
       "    </tr>\n",
       "    <tr>\n",
       "      <th>LF_HETNET_ABSENT</th>\n",
       "      <td>7</td>\n",
       "      <td>0.858974</td>\n",
       "      <td>0.858974</td>\n",
       "      <td>0.538462</td>\n",
       "      <td>0</td>\n",
       "      <td>0</td>\n",
       "      <td>18</td>\n",
       "      <td>49</td>\n",
       "      <td>0.731343</td>\n",
       "      <td>0.892996</td>\n",
       "    </tr>\n",
       "    <tr>\n",
       "      <th>LF_IS_BIOMARKER</th>\n",
       "      <td>8</td>\n",
       "      <td>0.115385</td>\n",
       "      <td>0.115385</td>\n",
       "      <td>0.102564</td>\n",
       "      <td>1</td>\n",
       "      <td>8</td>\n",
       "      <td>0</td>\n",
       "      <td>0</td>\n",
       "      <td>0.111111</td>\n",
       "      <td>0.536000</td>\n",
       "    </tr>\n",
       "    <tr>\n",
       "      <th>LF_ASSOCIATION</th>\n",
       "      <td>9</td>\n",
       "      <td>0.153846</td>\n",
       "      <td>0.153846</td>\n",
       "      <td>0.141026</td>\n",
       "      <td>5</td>\n",
       "      <td>7</td>\n",
       "      <td>0</td>\n",
       "      <td>0</td>\n",
       "      <td>0.416667</td>\n",
       "      <td>0.548596</td>\n",
       "    </tr>\n",
       "    <tr>\n",
       "      <th>LF_WEAK_ASSOCIATION</th>\n",
       "      <td>10</td>\n",
       "      <td>0.012821</td>\n",
       "      <td>0.012821</td>\n",
       "      <td>0.012821</td>\n",
       "      <td>0</td>\n",
       "      <td>0</td>\n",
       "      <td>0</td>\n",
       "      <td>1</td>\n",
       "      <td>1.000000</td>\n",
       "      <td>0.483333</td>\n",
       "    </tr>\n",
       "    <tr>\n",
       "      <th>LF_NO_ASSOCIATION</th>\n",
       "      <td>11</td>\n",
       "      <td>0.000000</td>\n",
       "      <td>0.000000</td>\n",
       "      <td>0.000000</td>\n",
       "      <td>0</td>\n",
       "      <td>0</td>\n",
       "      <td>0</td>\n",
       "      <td>0</td>\n",
       "      <td>NaN</td>\n",
       "      <td>0.412698</td>\n",
       "    </tr>\n",
       "    <tr>\n",
       "      <th>LF_METHOD_DESC</th>\n",
       "      <td>12</td>\n",
       "      <td>0.089744</td>\n",
       "      <td>0.089744</td>\n",
       "      <td>0.076923</td>\n",
       "      <td>0</td>\n",
       "      <td>0</td>\n",
       "      <td>0</td>\n",
       "      <td>7</td>\n",
       "      <td>1.000000</td>\n",
       "      <td>0.565008</td>\n",
       "    </tr>\n",
       "    <tr>\n",
       "      <th>LF_TITLE</th>\n",
       "      <td>13</td>\n",
       "      <td>0.012821</td>\n",
       "      <td>0.012821</td>\n",
       "      <td>0.012821</td>\n",
       "      <td>0</td>\n",
       "      <td>0</td>\n",
       "      <td>0</td>\n",
       "      <td>1</td>\n",
       "      <td>1.000000</td>\n",
       "      <td>0.333333</td>\n",
       "    </tr>\n",
       "    <tr>\n",
       "      <th>LF_POSITIVE_DIRECTION</th>\n",
       "      <td>14</td>\n",
       "      <td>0.076923</td>\n",
       "      <td>0.076923</td>\n",
       "      <td>0.076923</td>\n",
       "      <td>1</td>\n",
       "      <td>5</td>\n",
       "      <td>0</td>\n",
       "      <td>0</td>\n",
       "      <td>0.166667</td>\n",
       "      <td>0.508349</td>\n",
       "    </tr>\n",
       "    <tr>\n",
       "      <th>LF_NEGATIVE_DIRECTION</th>\n",
       "      <td>15</td>\n",
       "      <td>0.153846</td>\n",
       "      <td>0.153846</td>\n",
       "      <td>0.141026</td>\n",
       "      <td>5</td>\n",
       "      <td>7</td>\n",
       "      <td>0</td>\n",
       "      <td>0</td>\n",
       "      <td>0.416667</td>\n",
       "      <td>0.540390</td>\n",
       "    </tr>\n",
       "    <tr>\n",
       "      <th>LF_DIAGNOSIS</th>\n",
       "      <td>16</td>\n",
       "      <td>0.012821</td>\n",
       "      <td>0.012821</td>\n",
       "      <td>0.012821</td>\n",
       "      <td>0</td>\n",
       "      <td>1</td>\n",
       "      <td>0</td>\n",
       "      <td>0</td>\n",
       "      <td>0.000000</td>\n",
       "      <td>0.406250</td>\n",
       "    </tr>\n",
       "    <tr>\n",
       "      <th>LF_RISK</th>\n",
       "      <td>17</td>\n",
       "      <td>0.000000</td>\n",
       "      <td>0.000000</td>\n",
       "      <td>0.000000</td>\n",
       "      <td>0</td>\n",
       "      <td>0</td>\n",
       "      <td>0</td>\n",
       "      <td>0</td>\n",
       "      <td>NaN</td>\n",
       "      <td>0.431818</td>\n",
       "    </tr>\n",
       "    <tr>\n",
       "      <th>LF_PATIENT_WITH</th>\n",
       "      <td>18</td>\n",
       "      <td>0.000000</td>\n",
       "      <td>0.000000</td>\n",
       "      <td>0.000000</td>\n",
       "      <td>0</td>\n",
       "      <td>0</td>\n",
       "      <td>0</td>\n",
       "      <td>0</td>\n",
       "      <td>NaN</td>\n",
       "      <td>0.471698</td>\n",
       "    </tr>\n",
       "    <tr>\n",
       "      <th>LF_PURPOSE</th>\n",
       "      <td>19</td>\n",
       "      <td>0.000000</td>\n",
       "      <td>0.000000</td>\n",
       "      <td>0.000000</td>\n",
       "      <td>0</td>\n",
       "      <td>0</td>\n",
       "      <td>0</td>\n",
       "      <td>0</td>\n",
       "      <td>NaN</td>\n",
       "      <td>0.418182</td>\n",
       "    </tr>\n",
       "    <tr>\n",
       "      <th>LF_CONCLUSION_TITLE</th>\n",
       "      <td>20</td>\n",
       "      <td>0.000000</td>\n",
       "      <td>0.000000</td>\n",
       "      <td>0.000000</td>\n",
       "      <td>0</td>\n",
       "      <td>0</td>\n",
       "      <td>0</td>\n",
       "      <td>0</td>\n",
       "      <td>NaN</td>\n",
       "      <td>0.421687</td>\n",
       "    </tr>\n",
       "    <tr>\n",
       "      <th>LF_NO_CONCLUSION</th>\n",
       "      <td>21</td>\n",
       "      <td>0.628205</td>\n",
       "      <td>0.628205</td>\n",
       "      <td>0.307692</td>\n",
       "      <td>0</td>\n",
       "      <td>0</td>\n",
       "      <td>12</td>\n",
       "      <td>37</td>\n",
       "      <td>0.755102</td>\n",
       "      <td>0.909936</td>\n",
       "    </tr>\n",
       "    <tr>\n",
       "      <th>LF_CONCLUSION</th>\n",
       "      <td>22</td>\n",
       "      <td>0.371795</td>\n",
       "      <td>0.371795</td>\n",
       "      <td>0.346154</td>\n",
       "      <td>9</td>\n",
       "      <td>19</td>\n",
       "      <td>0</td>\n",
       "      <td>1</td>\n",
       "      <td>0.344828</td>\n",
       "      <td>0.539714</td>\n",
       "    </tr>\n",
       "    <tr>\n",
       "      <th>LF_DG_DISTANCE_SHORT</th>\n",
       "      <td>23</td>\n",
       "      <td>0.269231</td>\n",
       "      <td>0.269231</td>\n",
       "      <td>0.141026</td>\n",
       "      <td>0</td>\n",
       "      <td>0</td>\n",
       "      <td>2</td>\n",
       "      <td>19</td>\n",
       "      <td>0.904762</td>\n",
       "      <td>0.638135</td>\n",
       "    </tr>\n",
       "    <tr>\n",
       "      <th>LF_DG_DISTANCE_LONG</th>\n",
       "      <td>24</td>\n",
       "      <td>0.192308</td>\n",
       "      <td>0.192308</td>\n",
       "      <td>0.076923</td>\n",
       "      <td>0</td>\n",
       "      <td>0</td>\n",
       "      <td>3</td>\n",
       "      <td>12</td>\n",
       "      <td>0.800000</td>\n",
       "      <td>0.547009</td>\n",
       "    </tr>\n",
       "    <tr>\n",
       "      <th>LF_DG_ALLOWED_DISTANCE</th>\n",
       "      <td>25</td>\n",
       "      <td>0.320513</td>\n",
       "      <td>0.320513</td>\n",
       "      <td>0.307692</td>\n",
       "      <td>10</td>\n",
       "      <td>15</td>\n",
       "      <td>0</td>\n",
       "      <td>0</td>\n",
       "      <td>0.400000</td>\n",
       "      <td>0.495577</td>\n",
       "    </tr>\n",
       "    <tr>\n",
       "      <th>LF_NO_VERB</th>\n",
       "      <td>26</td>\n",
       "      <td>0.051282</td>\n",
       "      <td>0.051282</td>\n",
       "      <td>0.025641</td>\n",
       "      <td>0</td>\n",
       "      <td>0</td>\n",
       "      <td>1</td>\n",
       "      <td>3</td>\n",
       "      <td>0.750000</td>\n",
       "      <td>0.489437</td>\n",
       "    </tr>\n",
       "  </tbody>\n",
       "</table>\n",
       "</div>"
      ],
      "text/plain": [
       "                         j  Coverage  Overlaps  Conflicts  TP  FP  FN  TN  \\\n",
       "LF_HETNET_DRUGBANK       0  0.102564  0.102564   0.089744   3   5   0   0   \n",
       "LF_HETNET_DRUGCENTRAL    1  0.051282  0.051282   0.038462   1   3   0   0   \n",
       "LF_HETNET_ChEMBL         2  0.051282  0.051282   0.051282   1   3   0   0   \n",
       "LF_HETNET_BINDINGDB      3  0.000000  0.000000   0.000000   0   0   0   0   \n",
       "LF_HETNET_PDSP_KI        4  0.000000  0.000000   0.000000   0   0   0   0   \n",
       "LF_HETNET_US_PATENT      5  0.000000  0.000000   0.000000   0   0   0   0   \n",
       "LF_HETNET_PUBCHEM        6  0.000000  0.000000   0.000000   0   0   0   0   \n",
       "LF_HETNET_ABSENT         7  0.858974  0.858974   0.538462   0   0  18  49   \n",
       "LF_IS_BIOMARKER          8  0.115385  0.115385   0.102564   1   8   0   0   \n",
       "LF_ASSOCIATION           9  0.153846  0.153846   0.141026   5   7   0   0   \n",
       "LF_WEAK_ASSOCIATION     10  0.012821  0.012821   0.012821   0   0   0   1   \n",
       "LF_NO_ASSOCIATION       11  0.000000  0.000000   0.000000   0   0   0   0   \n",
       "LF_METHOD_DESC          12  0.089744  0.089744   0.076923   0   0   0   7   \n",
       "LF_TITLE                13  0.012821  0.012821   0.012821   0   0   0   1   \n",
       "LF_POSITIVE_DIRECTION   14  0.076923  0.076923   0.076923   1   5   0   0   \n",
       "LF_NEGATIVE_DIRECTION   15  0.153846  0.153846   0.141026   5   7   0   0   \n",
       "LF_DIAGNOSIS            16  0.012821  0.012821   0.012821   0   1   0   0   \n",
       "LF_RISK                 17  0.000000  0.000000   0.000000   0   0   0   0   \n",
       "LF_PATIENT_WITH         18  0.000000  0.000000   0.000000   0   0   0   0   \n",
       "LF_PURPOSE              19  0.000000  0.000000   0.000000   0   0   0   0   \n",
       "LF_CONCLUSION_TITLE     20  0.000000  0.000000   0.000000   0   0   0   0   \n",
       "LF_NO_CONCLUSION        21  0.628205  0.628205   0.307692   0   0  12  37   \n",
       "LF_CONCLUSION           22  0.371795  0.371795   0.346154   9  19   0   1   \n",
       "LF_DG_DISTANCE_SHORT    23  0.269231  0.269231   0.141026   0   0   2  19   \n",
       "LF_DG_DISTANCE_LONG     24  0.192308  0.192308   0.076923   0   0   3  12   \n",
       "LF_DG_ALLOWED_DISTANCE  25  0.320513  0.320513   0.307692  10  15   0   0   \n",
       "LF_NO_VERB              26  0.051282  0.051282   0.025641   0   0   1   3   \n",
       "\n",
       "                        Empirical Acc.  Learned Acc.  \n",
       "LF_HETNET_DRUGBANK            0.375000      0.524476  \n",
       "LF_HETNET_DRUGCENTRAL         0.250000      0.500000  \n",
       "LF_HETNET_ChEMBL              0.250000      0.484716  \n",
       "LF_HETNET_BINDINGDB                NaN      0.460000  \n",
       "LF_HETNET_PDSP_KI                  NaN      0.472222  \n",
       "LF_HETNET_US_PATENT                NaN      0.513514  \n",
       "LF_HETNET_PUBCHEM                  NaN      0.444444  \n",
       "LF_HETNET_ABSENT              0.731343      0.892996  \n",
       "LF_IS_BIOMARKER               0.111111      0.536000  \n",
       "LF_ASSOCIATION                0.416667      0.548596  \n",
       "LF_WEAK_ASSOCIATION           1.000000      0.483333  \n",
       "LF_NO_ASSOCIATION                  NaN      0.412698  \n",
       "LF_METHOD_DESC                1.000000      0.565008  \n",
       "LF_TITLE                      1.000000      0.333333  \n",
       "LF_POSITIVE_DIRECTION         0.166667      0.508349  \n",
       "LF_NEGATIVE_DIRECTION         0.416667      0.540390  \n",
       "LF_DIAGNOSIS                  0.000000      0.406250  \n",
       "LF_RISK                            NaN      0.431818  \n",
       "LF_PATIENT_WITH                    NaN      0.471698  \n",
       "LF_PURPOSE                         NaN      0.418182  \n",
       "LF_CONCLUSION_TITLE                NaN      0.421687  \n",
       "LF_NO_CONCLUSION              0.755102      0.909936  \n",
       "LF_CONCLUSION                 0.344828      0.539714  \n",
       "LF_DG_DISTANCE_SHORT          0.904762      0.638135  \n",
       "LF_DG_DISTANCE_LONG           0.800000      0.547009  \n",
       "LF_DG_ALLOWED_DISTANCE        0.400000      0.495577  \n",
       "LF_NO_VERB                    0.750000      0.489437  "
      ]
     },
     "execution_count": 27,
     "metadata": {},
     "output_type": "execute_result"
    }
   ],
   "source": [
    "L_dev.lf_stats(session, dev_data_labels, test_df.query(\"model=='DA'\")[\"Learned Acc.\"])"
   ]
  },
  {
   "cell_type": "markdown",
   "metadata": {},
   "source": [
    "## Comparison Between The Amount of Label Functions"
   ]
  },
  {
   "cell_type": "code",
   "execution_count": null,
   "metadata": {
    "ExecuteTime": {
     "end_time": "2018-07-26T18:24:51.352420Z",
     "start_time": "2018-07-26T18:24:51.333727Z"
    }
   },
   "outputs": [],
   "source": [
    "gen_model_history_df = pd.read_csv(\"data/gen_model_marginals_history.csv\")"
   ]
  },
  {
   "cell_type": "code",
   "execution_count": null,
   "metadata": {
    "ExecuteTime": {
     "end_time": "2018-07-26T18:24:53.849378Z",
     "start_time": "2018-07-26T18:24:53.827895Z"
    }
   },
   "outputs": [],
   "source": [
    "gen_model_history_df['lfs_26'] = L_dev_ci_marginals\n",
    "gen_model_history_df.head(2)"
   ]
  },
  {
   "cell_type": "code",
   "execution_count": null,
   "metadata": {
    "ExecuteTime": {
     "end_time": "2018-07-26T18:25:11.874503Z",
     "start_time": "2018-07-26T18:25:11.708629Z"
    }
   },
   "outputs": [],
   "source": [
    "positive_class = dev_data_df.curated_dsh.values.sum()/dev_data_df.shape[0]\n",
    "plt.plot([0,1], [positive_class, positive_class], color='grey', \n",
    "         linestyle='--', label='Baseline (AUC = {:0.2f})'.format(positive_class))\n",
    "\n",
    "for marginal, model_label in zip(gen_model_history_df.columns, [\"17 LFs (AUC {:.2f})\", \"26 LFs (AUC {:.2f})\"]):\n",
    "    precision, recall, threshold = precision_recall_curve(dev_data_labels, gen_model_history_df[marginal])\n",
    "    area = auc(recall, precision)\n",
    "    plt.plot(recall, precision, label=model_label.format(area))\n",
    "plt.title(\"Precision Recall Curve of Generative Models\")\n",
    "plt.xlabel(\"Recall\")\n",
    "plt.ylabel(\"Precision\")\n",
    "plt.legend()"
   ]
  },
  {
   "cell_type": "code",
   "execution_count": null,
   "metadata": {
    "ExecuteTime": {
     "end_time": "2018-07-26T18:25:19.755313Z",
     "start_time": "2018-07-26T18:25:19.597849Z"
    }
   },
   "outputs": [],
   "source": [
    "plt.plot([0,1], [0,1], linestyle='--', color='grey')\n",
    "for marginal, model_label in zip(gen_model_history_df.columns, [\"17 LFs (AUC {:.2f})\", \"26 LFs (AUC {:.2f})\"]):\n",
    "    fpr, tpr, threshold = roc_curve(dev_data_labels, gen_model_history_df[marginal])\n",
    "    area = auc(fpr, tpr)\n",
    "    plt.plot(fpr, tpr, label=model_label.format(area))\n",
    "plt.title(\"ROC Curve of Generative Models\")\n",
    "plt.xlabel(\"False Positive Rate\")\n",
    "plt.ylabel(\"True Positive Rate\")\n",
    "plt.legend()"
   ]
  },
  {
   "cell_type": "code",
   "execution_count": null,
   "metadata": {
    "ExecuteTime": {
     "end_time": "2018-07-26T18:25:52.137863Z",
     "start_time": "2018-07-26T18:25:52.118777Z"
    }
   },
   "outputs": [],
   "source": [
    "gen_model_history_df.to_csv(\"gen_model_marginals_history.csv\", index=False)"
   ]
  },
  {
   "cell_type": "markdown",
   "metadata": {},
   "source": [
    "# F1 Score of Train Hand Labeled Set"
   ]
  },
  {
   "cell_type": "markdown",
   "metadata": {},
   "source": [
    "Looking at the small hand labeled training set we can see a pretty big spike in performance. In terms of f1 score the DA model has about a 0.25 increase in performance comapred to the CI model. "
   ]
  },
  {
   "cell_type": "code",
   "execution_count": null,
   "metadata": {
    "ExecuteTime": {
     "end_time": "2018-07-26T18:26:00.085151Z",
     "start_time": "2018-07-26T18:25:58.468204Z"
    },
    "scrolled": true
   },
   "outputs": [],
   "source": [
    "tp, fp, tn, fn = indep_gen_model.error_analysis(session, L_train_labeled, L_train_labeled_gold)"
   ]
  },
  {
   "cell_type": "code",
   "execution_count": null,
   "metadata": {
    "ExecuteTime": {
     "end_time": "2018-07-26T18:26:01.737270Z",
     "start_time": "2018-07-26T18:26:00.086840Z"
    },
    "scrolled": true
   },
   "outputs": [],
   "source": [
    "tp, fp, tn, fn = gen_model.error_analysis(session, L_train_labeled, L_train_labeled_gold)"
   ]
  },
  {
   "cell_type": "code",
   "execution_count": null,
   "metadata": {
    "ExecuteTime": {
     "end_time": "2018-07-26T18:26:03.701041Z",
     "start_time": "2018-07-26T18:26:01.738950Z"
    }
   },
   "outputs": [],
   "source": [
    "L_train_ci_marginals = indep_gen_model.marginals(L_train_labeled)\n",
    "L_train_da_marginals = gen_model.marginals(L_train_labeled)"
   ]
  },
  {
   "cell_type": "code",
   "execution_count": null,
   "metadata": {
    "ExecuteTime": {
     "end_time": "2018-07-26T18:26:03.720858Z",
     "start_time": "2018-07-26T18:26:03.702474Z"
    }
   },
   "outputs": [],
   "source": [
    "positive_class = sum(list(map(lambda x: 0 if x == -1 else x, L_train_labeled_gold.toarray()[:,0])))\n",
    "positive_class = positive_class/L_train_labeled_gold.shape[0]"
   ]
  },
  {
   "cell_type": "code",
   "execution_count": null,
   "metadata": {
    "ExecuteTime": {
     "end_time": "2018-07-26T18:26:03.892126Z",
     "start_time": "2018-07-26T18:26:03.722286Z"
    }
   },
   "outputs": [],
   "source": [
    "plt.plot([0,1], [positive_class, positive_class], color='grey', \n",
    "         linestyle='--', label='Baseline (AUC = {:0.2f})'.format(positive_class))\n",
    "\n",
    "for marginal, model_label in zip([L_train_ci_marginals, L_train_da_marginals], [\"CI Gen Model (AUC {:.2f})\", \"DA Gen Model (AUC {:.2f})\"]):\n",
    "    precision, recall, threshold = precision_recall_curve(L_train_labeled_gold.data, marginal)\n",
    "    area = auc(recall, precision)\n",
    "    plt.plot(recall, precision, label=model_label.format(area))\n",
    "plt.title(\"Precision Recall Curve of Generative Models\")\n",
    "plt.xlabel(\"Recall\")\n",
    "plt.ylabel(\"Precision\")\n",
    "plt.legend()"
   ]
  },
  {
   "cell_type": "code",
   "execution_count": null,
   "metadata": {
    "ExecuteTime": {
     "end_time": "2018-07-26T18:26:04.068078Z",
     "start_time": "2018-07-26T18:26:03.893767Z"
    }
   },
   "outputs": [],
   "source": [
    "plt.plot([0,1], [0,1], linestyle='--', color='grey')\n",
    "for marginal, model_label in zip([L_train_ci_marginals, L_train_da_marginals], [\"CI Gen Model (AUC {:.2f})\", \"DA Gen Model (AUC {:.2f})\"]):\n",
    "    fpr, tpr, threshold = roc_curve(L_train_labeled_gold.data, marginal)\n",
    "    area = auc(fpr, tpr)\n",
    "    plt.plot(fpr, tpr, label=model_label.format(area))\n",
    "plt.title(\"ROC Curve of Generative Models\")\n",
    "plt.xlabel(\"False Positive Rate\")\n",
    "plt.ylabel(\"True Positive Rate\")\n",
    "plt.legend()"
   ]
  },
  {
   "cell_type": "code",
   "execution_count": null,
   "metadata": {
    "ExecuteTime": {
     "end_time": "2018-07-26T18:26:04.201306Z",
     "start_time": "2018-07-26T18:26:04.069535Z"
    }
   },
   "outputs": [],
   "source": [
    "L_train_labeled.lf_stats(session, L_train_labeled_gold.data, test_df.query(\"model=='DA'\")[\"Learned Acc.\"])"
   ]
  },
  {
   "cell_type": "markdown",
   "metadata": {},
   "source": [
    "## Individual Candidate Error Analysis"
   ]
  },
  {
   "cell_type": "markdown",
   "metadata": {},
   "source": [
    "Depending on which block of code is executed, the following block of code below will show which candidate sentence was incorrectly labeled. Right now the false negatives (fn) are being shown below but this could change to incorporate false positives (fp) as well."
   ]
  },
  {
   "cell_type": "code",
   "execution_count": null,
   "metadata": {
    "ExecuteTime": {
     "end_time": "2018-07-25T14:31:49.272544Z",
     "start_time": "2018-07-25T14:31:48.036785Z"
    }
   },
   "outputs": [],
   "source": [
    "from snorkel.viewer import SentenceNgramViewer\n",
    "\n",
    "# NOTE: This if-then statement is only to avoid opening the viewer during automated testing of this notebook\n",
    "# You should ignore this!\n",
    "import os\n",
    "if 'CI' not in os.environ:\n",
    "    sv = SentenceNgramViewer(fp, session)\n",
    "else:\n",
    "    sv = None"
   ]
  },
  {
   "cell_type": "code",
   "execution_count": null,
   "metadata": {
    "ExecuteTime": {
     "end_time": "2018-07-25T14:31:49.295073Z",
     "start_time": "2018-07-25T14:31:49.274130Z"
    },
    "scrolled": true
   },
   "outputs": [],
   "source": [
    "sv"
   ]
  },
  {
   "cell_type": "code",
   "execution_count": null,
   "metadata": {
    "ExecuteTime": {
     "end_time": "2018-07-25T14:33:13.155411Z",
     "start_time": "2018-07-25T14:33:13.136599Z"
    },
    "scrolled": true
   },
   "outputs": [],
   "source": [
    "c = sv.get_selected() if sv else list(fp.union(fn))[0]\n",
    "c"
   ]
  },
  {
   "cell_type": "code",
   "execution_count": null,
   "metadata": {
    "ExecuteTime": {
     "end_time": "2018-07-25T14:33:13.181111Z",
     "start_time": "2018-07-25T14:33:13.157704Z"
    },
    "scrolled": true
   },
   "outputs": [],
   "source": [
    "c.labels"
   ]
  },
  {
   "cell_type": "code",
   "execution_count": null,
   "metadata": {
    "ExecuteTime": {
     "end_time": "2018-07-25T14:33:22.158418Z",
     "start_time": "2018-07-25T14:33:22.140216Z"
    },
    "scrolled": true
   },
   "outputs": [],
   "source": [
    "L_train_ci_marginals[L_train_labeled.get_row_index(c)]"
   ]
  },
  {
   "cell_type": "markdown",
   "metadata": {},
   "source": [
    "## Generate Excel File of Train Data"
   ]
  },
  {
   "cell_type": "markdown",
   "metadata": {},
   "source": [
    "Lastly we write out the generative model's output into a file. Reason for this will be used in the [next notebook](4.sentence-level-prediction.ipynb), where we aim to use a noise aware discriminator model to correct for the generative models' errors."
   ]
  },
  {
   "cell_type": "code",
   "execution_count": null,
   "metadata": {
    "ExecuteTime": {
     "end_time": "2018-08-06T17:52:40.400152Z",
     "start_time": "2018-08-06T17:52:40.360702Z"
    },
    "scrolled": true
   },
   "outputs": [],
   "source": [
    "def make_sentence_df(lf_matrix, marginals, pair_df):\n",
    "    rows = list()\n",
    "    for i in tqdm_notebook(range(lf_matrix.shape[0])):\n",
    "        row = OrderedDict()\n",
    "        candidate = lf_matrix.get_candidate(session, i)\n",
    "        row['candidate_id'] = candidate.id\n",
    "        row['compound'] = candidate[0].get_span()\n",
    "        row['gene'] = candidate[1].get_span()\n",
    "        row['drugbank_id'] = candidate.Compound_cid\n",
    "        row['entrez_gene_id'] = candidate.Gene_cid\n",
    "        row['sentence'] = candidate.get_parent().text\n",
    "        row['label'] = marginals[i]\n",
    "        rows.append(row)\n",
    "    sentence_df = pd.DataFrame(rows)\n",
    "    sentence_df['entrez_gene_id'] = sentence_df.entrez_gene_id.astype(int)\n",
    "    sentence_df = pd.merge(\n",
    "        sentence_df,\n",
    "        pair_df[[\"drugbank_id\", \"entrez_gene_id\", \"name\", \"gene_symbol\"]],\n",
    "        on=[\"drugbank_id\", \"entrez_gene_id\"],\n",
    "        how=\"left\"\n",
    "    )\n",
    "    sentence_df = pd.concat([\n",
    "        sentence_df,\n",
    "        pd.DataFrame(lf_matrix.todense(), columns=list(LFS))\n",
    "    ], axis='columns')\n",
    "    return sentence_df"
   ]
  },
  {
   "cell_type": "code",
   "execution_count": null,
   "metadata": {
    "ExecuteTime": {
     "end_time": "2018-08-06T17:27:46.971383Z",
     "start_time": "2018-08-06T17:27:46.745604Z"
    }
   },
   "outputs": [],
   "source": [
    "#pair_df = pd.read_csv(\"data/disease-gene-pairs-association.csv.xz\", compression='xz')\n",
    "pair_df = pd.read_csv(\"data/compound-gene-pairs-binds.csv\")\n",
    "pair_df.head(2)"
   ]
  },
  {
   "cell_type": "code",
   "execution_count": null,
   "metadata": {
    "ExecuteTime": {
     "end_time": "2018-08-06T17:57:25.151841Z",
     "start_time": "2018-08-06T17:52:43.388727Z"
    }
   },
   "outputs": [],
   "source": [
    "train_sentence_df = make_sentence_df(L_train, train_marginals_indep, pair_df)\n",
    "train_sentence_df.head(2)"
   ]
  },
  {
   "cell_type": "code",
   "execution_count": null,
   "metadata": {
    "ExecuteTime": {
     "end_time": "2018-08-06T17:57:54.789986Z",
     "start_time": "2018-08-06T17:57:25.154390Z"
    }
   },
   "outputs": [],
   "source": [
    "writer = pd.ExcelWriter('data/compound_gene/sentence-labels.xlsx')\n",
    "(train_sentence_df\n",
    "    .to_excel(writer, sheet_name='sentences', index=False)\n",
    ")\n",
    "if writer.engine == 'xlsxwriter':\n",
    "    for sheet in writer.sheets.values():\n",
    "        sheet.freeze_panes(1, 0)\n",
    "writer.close()"
   ]
  },
  {
   "cell_type": "markdown",
   "metadata": {},
   "source": [
    "## Generate Excel File of Dev Data"
   ]
  },
  {
   "cell_type": "code",
   "execution_count": null,
   "metadata": {
    "ExecuteTime": {
     "end_time": "2018-08-06T17:58:51.401012Z",
     "start_time": "2018-08-06T17:57:54.791253Z"
    }
   },
   "outputs": [],
   "source": [
    "dev_sentence_df = make_sentence_df(L_dev, L_dev_ci_marginals, pair_df)\n",
    "dev_sentence_df.head(2)"
   ]
  },
  {
   "cell_type": "code",
   "execution_count": null,
   "metadata": {
    "ExecuteTime": {
     "end_time": "2018-08-06T18:06:41.891108Z",
     "start_time": "2018-08-06T18:06:35.794148Z"
    }
   },
   "outputs": [],
   "source": [
    "writer = pd.ExcelWriter('data/compound_gene/sentence-labels-dev.xlsx')\n",
    "(dev_sentence_df\n",
    "    .sample(frac=1, random_state=100)\n",
    "    .to_excel(writer, sheet_name='sentences', index=False)\n",
    ")\n",
    "if writer.engine == 'xlsxwriter':\n",
    "    for sheet in writer.sheets.values():\n",
    "        sheet.freeze_panes(1, 0)\n",
    "writer.close()"
   ]
  }
 ],
 "metadata": {
  "anaconda-cloud": {},
  "kernelspec": {
   "display_name": "Python [conda env:snorkeling]",
   "language": "python",
   "name": "conda-env-snorkeling-py"
  },
  "language_info": {
   "codemirror_mode": {
    "name": "ipython",
    "version": 3
   },
   "file_extension": ".py",
   "mimetype": "text/x-python",
   "name": "python",
   "nbconvert_exporter": "python",
   "pygments_lexer": "ipython3",
   "version": "3.6.4"
  }
 },
 "nbformat": 4,
 "nbformat_minor": 2
}
