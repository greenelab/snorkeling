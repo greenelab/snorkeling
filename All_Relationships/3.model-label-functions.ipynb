{
 "cells": [
  {
   "cell_type": "markdown",
   "metadata": {},
   "source": [
    "# Train the Generative Model for Candidate Labeling"
   ]
  },
  {
   "cell_type": "markdown",
   "metadata": {},
   "source": [
    "This notebook is designed to run a generative model that snorkel uses to probabilistically label each candidate. (1 for positive label and -1 for negative label). Using this generative model, we will test the hypothesis: **modeling correlation structure between label functions provides better precision and recall than the conditionally independent model.**"
   ]
  },
  {
   "cell_type": "markdown",
   "metadata": {},
   "source": [
    "## MUST RUN AT THE START OF EVERYTHING"
   ]
  },
  {
   "cell_type": "markdown",
   "metadata": {},
   "source": [
    "Import the necessary modules and set up the database for database operations."
   ]
  },
  {
   "cell_type": "code",
   "execution_count": 1,
   "metadata": {},
   "outputs": [],
   "source": [
    "%load_ext autoreload\n",
    "%autoreload 2\n",
    "%matplotlib inline\n",
    "\n",
    "from collections import Counter, OrderedDict, defaultdict\n",
    "import os\n",
    "import tqdm\n",
    "\n",
    "import matplotlib.pyplot as plt\n",
    "import numpy as np\n",
    "import pandas as pd\n",
    "import seaborn as sns\n",
    "from sklearn.metrics import average_precision_score, precision_recall_curve, roc_curve, auc, f1_score"
   ]
  },
  {
   "cell_type": "code",
   "execution_count": 2,
   "metadata": {},
   "outputs": [],
   "source": [
    "#Set up the environment\n",
    "username = \"danich1\"\n",
    "password = \"snorkel\"\n",
    "dbname = \"pubmeddb\"\n",
    "\n",
    "#Path subject to change for different os\n",
    "database_str = \"postgresql+psycopg2://{}:{}@/{}?host=/var/run/postgresql\".format(username, password, dbname)\n",
    "os.environ['SNORKELDB'] = database_str\n",
    "\n",
    "from snorkel import SnorkelSession\n",
    "session = SnorkelSession()"
   ]
  },
  {
   "cell_type": "code",
   "execution_count": 3,
   "metadata": {},
   "outputs": [],
   "source": [
    "import sys\n",
    "sys.path.append('/home/danich1/Documents/snorkeling/snorkel/treedlib/treedlib')"
   ]
  },
  {
   "cell_type": "code",
   "execution_count": 4,
   "metadata": {},
   "outputs": [],
   "source": [
    "from snorkel import SnorkelSession\n",
    "from snorkel.annotations import load_gold_labels\n",
    "from snorkel.annotations import FeatureAnnotator, LabelAnnotator, save_marginals\n",
    "from snorkel.learning import GenerativeModel\n",
    "from snorkel.learning.structure import DependencySelector\n",
    "from snorkel.learning.utils import MentionScorer\n",
    "from snorkel.models import Candidate, FeatureKey, candidate_subclass, Label\n",
    "from snorkel.utils import get_as_dict\n",
    "from utils.disease_gene_lf import LFS"
   ]
  },
  {
   "cell_type": "code",
   "execution_count": 5,
   "metadata": {},
   "outputs": [],
   "source": [
    "edge_type = \"dg\""
   ]
  },
  {
   "cell_type": "code",
   "execution_count": 6,
   "metadata": {},
   "outputs": [],
   "source": [
    "if edge_type == \"dg\":\n",
    "    DiseaseGene = candidate_subclass('DiseaseGene', ['Disease', 'Gene'])\n",
    "elif edge_type == \"gg\":\n",
    "    GeneGene = candidate_subclass('GeneGene', ['Gene1', 'Gene2'])\n",
    "elif edge_type == \"cg\":\n",
    "    CompoundGene = candidate_subclass('CompoundGene', ['Compound', 'Gene'])\n",
    "elif edge_type == \"cd\":\n",
    "    CompoundDisease = candidate_subclass('CompoundDisease', ['Compound', 'Disease'])\n",
    "else:\n",
    "    print(\"Please pick a valid edge type\")"
   ]
  },
  {
   "cell_type": "markdown",
   "metadata": {},
   "source": [
    "# Load preprocessed data "
   ]
  },
  {
   "cell_type": "markdown",
   "metadata": {},
   "source": [
    "This code will load the corresponding label matricies that were generated in the previous notebook ([Notebook 2](2.data-labeler.ipynb)). This notebook has three matricies which are broken down as follows:\n",
    "\n",
    "|Dataset|Size|Description|\n",
    "|:-----|-----|:-----|\n",
    "|L_train|50,000|Randomly sampled from our 2,700,000 training set|\n",
    "|L_dev|10,000|Randomly sampled from our 700,000 dev set. Only 200 have been hand labeled|\n",
    "|L_train_labeled|919|Have been hand labled from training set and is separate from (L_train).|"
   ]
  },
  {
   "cell_type": "code",
   "execution_count": 7,
   "metadata": {},
   "outputs": [
    {
     "data": {
      "text/plain": [
       "[9951794,\n",
       " 904609,\n",
       " 5192262,\n",
       " 14552559,\n",
       " 16277239,\n",
       " 7513663,\n",
       " 26709637,\n",
       " 18498661,\n",
       " 31276326,\n",
       " 7508019]"
      ]
     },
     "execution_count": 7,
     "metadata": {},
     "output_type": "execute_result"
    }
   ],
   "source": [
    "train_candidate_ids = np.loadtxt('data/labeled_candidates.txt').astype(int).tolist()\n",
    "train_candidate_ids[0:10]"
   ]
  },
  {
   "cell_type": "code",
   "execution_count": 8,
   "metadata": {},
   "outputs": [
    {
     "name": "stdout",
     "output_type": "stream",
     "text": [
      "Total Hand Labeled Dev Sentences: 210\n"
     ]
    }
   ],
   "source": [
    "dev_data_df = pd.read_excel(\"data/sentence-labels-dev-hand-labeled.xlsx\")\n",
    "dev_data_df = dev_data_df[dev_data_df.curated_dsh.notnull()]\n",
    "dev_candidate_ids = list(map(int, dev_data_df.candidate_id.values))\n",
    "print(\"Total Hand Labeled Dev Sentences: {}\".format(len(dev_candidate_ids)))"
   ]
  },
  {
   "cell_type": "code",
   "execution_count": 9,
   "metadata": {},
   "outputs": [
    {
     "name": "stdout",
     "output_type": "stream",
     "text": [
      "CPU times: user 2.36 s, sys: 21.4 ms, total: 2.38 s\n",
      "Wall time: 2.66 s\n"
     ]
    }
   ],
   "source": [
    "%%time\n",
    "labeler = LabelAnnotator(lfs=[])\n",
    "\n",
    "# Only grab candidates that have labels\n",
    "cids = session.query(Candidate.id).filter(Candidate.id.in_(train_candidate_ids))\n",
    "L_train = labeler.load_matrix(session, cids_query=cids)\n",
    "\n",
    "cids = session.query(Candidate.id).filter(Candidate.id.in_(dev_candidate_ids))\n",
    "L_dev = labeler.load_matrix(session,cids_query=cids)"
   ]
  },
  {
   "cell_type": "code",
   "execution_count": 10,
   "metadata": {},
   "outputs": [],
   "source": [
    "sql = '''\n",
    "SELECT candidate_id FROM gold_label\n",
    "INNER JOIN Candidate ON Candidate.id=gold_label.candidate_id\n",
    "WHERE Candidate.split=0;\n",
    "'''\n",
    "cids = session.query(Candidate.id).filter(Candidate.id.in_([x[0] for x in session.execute(sql)]))\n",
    "L_train_labeled = labeler.load_matrix(session, cids_query=cids)\n",
    "L_train_labeled_gold = load_gold_labels(session, annotator_name='danich1', cids_query=cids)"
   ]
  },
  {
   "cell_type": "code",
   "execution_count": 11,
   "metadata": {},
   "outputs": [
    {
     "name": "stdout",
     "output_type": "stream",
     "text": [
      "Total Number of Hand Labeled Candidates: 919\n",
      "\n",
      "Distribution of Labels:\n",
      "-1    473\n",
      " 1    446\n",
      "Name: labels, dtype: int64\n"
     ]
    }
   ],
   "source": [
    "print(\"Total Number of Hand Labeled Candidates: {}\\n\".format(L_train_labeled_gold.shape[0]))\n",
    "print(\"Distribution of Labels:\")\n",
    "print(pd.DataFrame(L_train_labeled_gold.toarray(), columns=[\"labels\"])[\"labels\"].value_counts())"
   ]
  },
  {
   "cell_type": "code",
   "execution_count": 12,
   "metadata": {},
   "outputs": [
    {
     "name": "stdout",
     "output_type": "stream",
     "text": [
      "Total Size of Train Data: 50000\n",
      "Total Number of Label Functions: 17\n"
     ]
    }
   ],
   "source": [
    "print(\"Total Size of Train Data: {}\".format(L_train.shape[0]))\n",
    "print(\"Total Number of Label Functions: {}\".format(L_train.shape[1]))"
   ]
  },
  {
   "cell_type": "markdown",
   "metadata": {},
   "source": [
    "# Train the Generative Model"
   ]
  },
  {
   "cell_type": "markdown",
   "metadata": {},
   "source": [
    "Here is the first step in classifying candidate sentences. We train a generative model to probabilistically label each training sentence. This means the model assigns a probability to each sentence indicating whether or not it mentions a given relatinoship (> 0.5 if yes, 0.5 < if no). The generative model snorkel uses is a [factor graph](http://deepdive.stanford.edu/assets/factor_graph.pdf) and further information on this model can be found in their paper [here](https://arxiv.org/abs/1711.10160).\n",
    "\n",
    "The following code below trains two different generative models. One model follows the assumption that each label function is independent of each other, while the other model assumes there are dependancies between each function (e.g. $L_{1}$ correlates with $L_{2}$)."
   ]
  },
  {
   "cell_type": "code",
   "execution_count": 13,
   "metadata": {},
   "outputs": [
    {
     "name": "stdout",
     "output_type": "stream",
     "text": [
      "Inferred cardinality: 2\n",
      "CPU times: user 1min 34s, sys: 148 ms, total: 1min 34s\n",
      "Wall time: 40 s\n"
     ]
    }
   ],
   "source": [
    "%%time\n",
    "#Conditionally independent Generative Model\n",
    "indep_gen_model = GenerativeModel()\n",
    "indep_gen_model.train(\n",
    "    L_train,\n",
    "    epochs=30,\n",
    "    decay=0.95,\n",
    "    step_size=0.1 / L_train.shape[0],\n",
    "    reg_param=1e-6,\n",
    "    threads=50,\n",
    ")"
   ]
  },
  {
   "cell_type": "code",
   "execution_count": 14,
   "metadata": {},
   "outputs": [
    {
     "data": {
      "text/plain": [
       "61"
      ]
     },
     "execution_count": 14,
     "metadata": {},
     "output_type": "execute_result"
    }
   ],
   "source": [
    "# select the dependancies from the label matrix\n",
    "ds = DependencySelector()\n",
    "deps = ds.select(L_train, threshold=0.1)\n",
    "len(deps)"
   ]
  },
  {
   "cell_type": "code",
   "execution_count": 15,
   "metadata": {
    "scrolled": true
   },
   "outputs": [
    {
     "name": "stdout",
     "output_type": "stream",
     "text": [
      "Inferred cardinality: 2\n",
      "CPU times: user 3min 21s, sys: 301 ms, total: 3min 22s\n",
      "Wall time: 1min 37s\n"
     ]
    }
   ],
   "source": [
    "%%time\n",
    "# Model each label function and the underlying correlation structure\n",
    "gen_model = GenerativeModel(lf_propensity=True)\n",
    "gen_model.train(\n",
    "    L_train,\n",
    "    epochs=30,\n",
    "    decay=0.95,\n",
    "    step_size=0.1 / L_train.shape[0],\n",
    "    reg_param=1e-6,\n",
    "    threads=50,\n",
    "    deps=deps\n",
    ")"
   ]
  },
  {
   "cell_type": "markdown",
   "metadata": {},
   "source": [
    "# Generative Model Statistics"
   ]
  },
  {
   "cell_type": "markdown",
   "metadata": {},
   "source": [
    "Now that both models have been trained, the next step is to generate some statistics about each model. The two histograms below show a difference between both models' output. The conditionally independent model (CI) predicts more negative candidates compared to the dependancy aware model (DA)."
   ]
  },
  {
   "cell_type": "code",
   "execution_count": 16,
   "metadata": {
    "scrolled": false
   },
   "outputs": [],
   "source": [
    "# Generate Statistics of Generative Model\n",
    "indep_learned_stats_df = indep_gen_model.learned_lf_stats()\n",
    "learned_stats_df = gen_model.learned_lf_stats()"
   ]
  },
  {
   "cell_type": "code",
   "execution_count": 17,
   "metadata": {},
   "outputs": [
    {
     "name": "stdout",
     "output_type": "stream",
     "text": [
      "CPU times: user 1min 33s, sys: 88.1 ms, total: 1min 33s\n",
      "Wall time: 1min 33s\n"
     ]
    }
   ],
   "source": [
    "%%time \n",
    "train_marginals_indep = indep_gen_model.marginals(L_train)\n",
    "train_marginals = gen_model.marginals(L_train)"
   ]
  },
  {
   "cell_type": "code",
   "execution_count": 18,
   "metadata": {},
   "outputs": [
    {
     "data": {
      "image/png": "[encoded data removed]",
      "text/plain": [
       "<matplotlib.figure.Figure at 0x7fe6cdf84710>"
      ]
     },
     "metadata": {},
     "output_type": "display_data"
    }
   ],
   "source": [
    "plt.hist(train_marginals_indep, bins=20)\n",
    "plt.title(\"CI Training Set Marginals\")\n",
    "plt.ylabel(\"Frequency\")\n",
    "plt.xlabel(\"Probability of Positive Class\")\n",
    "plt.show()"
   ]
  },
  {
   "cell_type": "code",
   "execution_count": 19,
   "metadata": {},
   "outputs": [
    {
     "data": {
      "image/png": "[encoded data removed]",
      "text/plain": [
       "<matplotlib.figure.Figure at 0x7fe6cdf843c8>"
      ]
     },
     "metadata": {},
     "output_type": "display_data"
    }
   ],
   "source": [
    "plt.hist(train_marginals, bins=20)\n",
    "plt.title(\"DA Training Set Marginals\")\n",
    "plt.ylabel(\"Frequency\")\n",
    "plt.xlabel(\"Probability of Positive Class\")\n",
    "plt.show()"
   ]
  },
  {
   "cell_type": "markdown",
   "metadata": {},
   "source": [
    "# Training Set Statistics"
   ]
  },
  {
   "cell_type": "markdown",
   "metadata": {},
   "source": [
    "Taking a closer look into the training set predictions, we can see how each label function individually performed. The two dataframes below contain the follwoing information: number of candidate sentences a label function has labeled (coverage), number of candidate sentences a label function agreed with another label function (overlaps), number of candidates a label function disagreed with another label function (conflicts), and lastly, the accuracy each label function has after training the generative model (Learned Acc)."
   ]
  },
  {
   "cell_type": "code",
   "execution_count": 20,
   "metadata": {},
   "outputs": [
    {
     "data": {
      "text/html": [
       "<div>\n",
       "<style scoped>\n",
       "    .dataframe tbody tr th:only-of-type {\n",
       "        vertical-align: middle;\n",
       "    }\n",
       "\n",
       "    .dataframe tbody tr th {\n",
       "        vertical-align: top;\n",
       "    }\n",
       "\n",
       "    .dataframe thead th {\n",
       "        text-align: right;\n",
       "    }\n",
       "</style>\n",
       "<table border=\"1\" class=\"dataframe\">\n",
       "  <thead>\n",
       "    <tr style=\"text-align: right;\">\n",
       "      <th></th>\n",
       "      <th>j</th>\n",
       "      <th>Coverage</th>\n",
       "      <th>Overlaps</th>\n",
       "      <th>Conflicts</th>\n",
       "      <th>Learned Acc.</th>\n",
       "    </tr>\n",
       "  </thead>\n",
       "  <tbody>\n",
       "    <tr>\n",
       "      <th>LF_HETNET_DISEASES</th>\n",
       "      <td>0</td>\n",
       "      <td>0.40212</td>\n",
       "      <td>0.40212</td>\n",
       "      <td>0.37532</td>\n",
       "      <td>0.581737</td>\n",
       "    </tr>\n",
       "    <tr>\n",
       "      <th>LF_HETNET_DOAF</th>\n",
       "      <td>1</td>\n",
       "      <td>0.16650</td>\n",
       "      <td>0.16650</td>\n",
       "      <td>0.15156</td>\n",
       "      <td>0.587445</td>\n",
       "    </tr>\n",
       "  </tbody>\n",
       "</table>\n",
       "</div>"
      ],
      "text/plain": [
       "                    j  Coverage  Overlaps  Conflicts  Learned Acc.\n",
       "LF_HETNET_DISEASES  0   0.40212   0.40212    0.37532      0.581737\n",
       "LF_HETNET_DOAF      1   0.16650   0.16650    0.15156      0.587445"
      ]
     },
     "execution_count": 20,
     "metadata": {},
     "output_type": "execute_result"
    }
   ],
   "source": [
    "indep_results_df = L_train.lf_stats(session, est_accs=indep_learned_stats_df['Accuracy'])\n",
    "indep_results_df.head(2)"
   ]
  },
  {
   "cell_type": "code",
   "execution_count": 21,
   "metadata": {
    "scrolled": true
   },
   "outputs": [
    {
     "data": {
      "text/html": [
       "<div>\n",
       "<style scoped>\n",
       "    .dataframe tbody tr th:only-of-type {\n",
       "        vertical-align: middle;\n",
       "    }\n",
       "\n",
       "    .dataframe tbody tr th {\n",
       "        vertical-align: top;\n",
       "    }\n",
       "\n",
       "    .dataframe thead th {\n",
       "        text-align: right;\n",
       "    }\n",
       "</style>\n",
       "<table border=\"1\" class=\"dataframe\">\n",
       "  <thead>\n",
       "    <tr style=\"text-align: right;\">\n",
       "      <th></th>\n",
       "      <th>j</th>\n",
       "      <th>Coverage</th>\n",
       "      <th>Overlaps</th>\n",
       "      <th>Conflicts</th>\n",
       "      <th>Learned Acc.</th>\n",
       "    </tr>\n",
       "  </thead>\n",
       "  <tbody>\n",
       "    <tr>\n",
       "      <th>LF_HETNET_DISEASES</th>\n",
       "      <td>0</td>\n",
       "      <td>0.40212</td>\n",
       "      <td>0.40212</td>\n",
       "      <td>0.37532</td>\n",
       "      <td>0.632032</td>\n",
       "    </tr>\n",
       "    <tr>\n",
       "      <th>LF_HETNET_DOAF</th>\n",
       "      <td>1</td>\n",
       "      <td>0.16650</td>\n",
       "      <td>0.16650</td>\n",
       "      <td>0.15156</td>\n",
       "      <td>0.619161</td>\n",
       "    </tr>\n",
       "  </tbody>\n",
       "</table>\n",
       "</div>"
      ],
      "text/plain": [
       "                    j  Coverage  Overlaps  Conflicts  Learned Acc.\n",
       "LF_HETNET_DISEASES  0   0.40212   0.40212    0.37532      0.632032\n",
       "LF_HETNET_DOAF      1   0.16650   0.16650    0.15156      0.619161"
      ]
     },
     "execution_count": 21,
     "metadata": {},
     "output_type": "execute_result"
    }
   ],
   "source": [
    "results_df = L_train.lf_stats(session, est_accs=learned_stats_df['Accuracy'])\n",
    "results_df.head(2)"
   ]
  },
  {
   "cell_type": "markdown",
   "metadata": {},
   "source": [
    "The following bar charts below depict the weights the generative model assigns to each label function. The conditional independent model relies heavily on two negative functions, while the dependancy aware model has similar characteristics. Both LF_HETNET_ABSENT AND LF_NO_CONCLUIONS have the highest weight while the distribution of positive functions between both models differs. "
   ]
  },
  {
   "cell_type": "code",
   "execution_count": 22,
   "metadata": {},
   "outputs": [
    {
     "data": {
      "text/html": [
       "<div>\n",
       "<style scoped>\n",
       "    .dataframe tbody tr th:only-of-type {\n",
       "        vertical-align: middle;\n",
       "    }\n",
       "\n",
       "    .dataframe tbody tr th {\n",
       "        vertical-align: top;\n",
       "    }\n",
       "\n",
       "    .dataframe thead th {\n",
       "        text-align: right;\n",
       "    }\n",
       "</style>\n",
       "<table border=\"1\" class=\"dataframe\">\n",
       "  <thead>\n",
       "    <tr style=\"text-align: right;\">\n",
       "      <th></th>\n",
       "      <th>index</th>\n",
       "      <th>Learned Acc.</th>\n",
       "      <th>model</th>\n",
       "    </tr>\n",
       "  </thead>\n",
       "  <tbody>\n",
       "    <tr>\n",
       "      <th>0</th>\n",
       "      <td>LF_HETNET_DISEASES</td>\n",
       "      <td>0.632032</td>\n",
       "      <td>DA</td>\n",
       "    </tr>\n",
       "    <tr>\n",
       "      <th>1</th>\n",
       "      <td>LF_HETNET_DOAF</td>\n",
       "      <td>0.619161</td>\n",
       "      <td>DA</td>\n",
       "    </tr>\n",
       "  </tbody>\n",
       "</table>\n",
       "</div>"
      ],
      "text/plain": [
       "                index  Learned Acc. model\n",
       "0  LF_HETNET_DISEASES      0.632032    DA\n",
       "1      LF_HETNET_DOAF      0.619161    DA"
      ]
     },
     "execution_count": 22,
     "metadata": {},
     "output_type": "execute_result"
    }
   ],
   "source": [
    "test_df = pd.concat([\n",
    "    results_df[[\"Learned Acc.\"]].assign(model=\"DA\"),\n",
    "    indep_results_df[[\"Learned Acc.\"]].assign(model=\"CI\"), \n",
    "])\n",
    "test_df = test_df.reset_index()\n",
    "test_df.head(2)"
   ]
  },
  {
   "cell_type": "code",
   "execution_count": 23,
   "metadata": {
    "scrolled": false
   },
   "outputs": [
    {
     "data": {
      "text/plain": [
       "<matplotlib.axes._subplots.AxesSubplot at 0x7fe6c7d4aac8>"
      ]
     },
     "execution_count": 23,
     "metadata": {},
     "output_type": "execute_result"
    },
    {
     "data": {
      "image/png": "[encoded data removed]",
      "text/plain": [
       "<matplotlib.figure.Figure at 0x7fe6c7d21f28>"
      ]
     },
     "metadata": {},
     "output_type": "display_data"
    }
   ],
   "source": [
    "fig, ax = plt.subplots(figsize=(9,7))\n",
    "sns.barplot(ax=ax,y=\"index\", x=\"Learned Acc.\", hue=\"model\", data=test_df, palette=sns.color_palette(\"muted\"))"
   ]
  },
  {
   "cell_type": "markdown",
   "metadata": {},
   "source": [
    "## F1 Score of Dev Set"
   ]
  },
  {
   "cell_type": "markdown",
   "metadata": {},
   "source": [
    "Moving from the training set, we now can look at how well these models can predict our small dev set. Looking at the chart below, the conditionally independent model doesn't perform well compared to the dependency aware model. In terms of f1 score there is about a .2 difference, which provides evidence towards the dependency model performing better."
   ]
  },
  {
   "cell_type": "code",
   "execution_count": 24,
   "metadata": {},
   "outputs": [
    {
     "name": "stdout",
     "output_type": "stream",
     "text": [
      "========================================\n",
      "Scores (Un-adjusted)\n",
      "========================================\n",
      "Pos. class accuracy: 0.0741\n",
      "Neg. class accuracy: 0.915\n",
      "Precision            0.353\n",
      "Recall               0.0741\n",
      "F1                   0.122\n",
      "----------------------------------------\n",
      "TP: 6 | FP: 11 | TN: 118 | FN: 75\n",
      "========================================\n",
      "\n"
     ]
    }
   ],
   "source": [
    "_ = indep_gen_model.error_analysis(session, L_dev, dev_data_df.curated_dsh.apply(lambda x: -1 if x==0 else x).values)"
   ]
  },
  {
   "cell_type": "code",
   "execution_count": 25,
   "metadata": {},
   "outputs": [
    {
     "name": "stdout",
     "output_type": "stream",
     "text": [
      "========================================\n",
      "Scores (Un-adjusted)\n",
      "========================================\n",
      "Pos. class accuracy: 0.259\n",
      "Neg. class accuracy: 0.62\n",
      "Precision            0.3\n",
      "Recall               0.259\n",
      "F1                   0.278\n",
      "----------------------------------------\n",
      "TP: 21 | FP: 49 | TN: 80 | FN: 60\n",
      "========================================\n",
      "\n"
     ]
    }
   ],
   "source": [
    "tp, fp, tn, fn = gen_model.error_analysis(session, L_dev, dev_data_df.curated_dsh.apply(lambda x: -1 if x==0 else x).values)"
   ]
  },
  {
   "cell_type": "code",
   "execution_count": 26,
   "metadata": {},
   "outputs": [],
   "source": [
    "L_dev_ci_marginals = indep_gen_model.marginals(L_dev)\n",
    "L_dev_da_marginals = gen_model.marginals(L_dev)"
   ]
  },
  {
   "cell_type": "code",
   "execution_count": 27,
   "metadata": {},
   "outputs": [],
   "source": [
    "dev_data_labels = dev_data_df.curated_dsh.replace({0:-1})"
   ]
  },
  {
   "cell_type": "code",
   "execution_count": 28,
   "metadata": {},
   "outputs": [
    {
     "data": {
      "text/plain": [
       "<matplotlib.legend.Legend at 0x7fe6c7b56a90>"
      ]
     },
     "execution_count": 28,
     "metadata": {},
     "output_type": "execute_result"
    },
    {
     "data": {
      "image/png": "[encoded data removed]",
      "text/plain": [
       "<matplotlib.figure.Figure at 0x7fe6c7b56048>"
      ]
     },
     "metadata": {},
     "output_type": "display_data"
    }
   ],
   "source": [
    "positive_class = dev_data_df.curated_dsh.values.sum()/dev_data_df.shape[0]\n",
    "plt.plot([0,1], [positive_class, positive_class], color='grey', \n",
    "         linestyle='--', label='Baseline (AUC = {:0.2f})'.format(positive_class))\n",
    "\n",
    "for marginal, model_label in zip([L_dev_ci_marginals, L_dev_da_marginals], [\"CI Gen Model (AUC {:.2f})\", \"DA Gen Model (AUC {:.2f})\"]):\n",
    "    precision, recall, threshold = precision_recall_curve(dev_data_labels, marginal)\n",
    "    area = auc(recall, precision)\n",
    "    plt.plot(recall, precision, label=model_label.format(area))\n",
    "plt.title(\"Precision Recall Curve of Generative Models\")\n",
    "plt.xlabel(\"Recall\")\n",
    "plt.ylabel(\"Precision\")\n",
    "plt.legend()"
   ]
  },
  {
   "cell_type": "code",
   "execution_count": 29,
   "metadata": {},
   "outputs": [
    {
     "data": {
      "text/plain": [
       "<matplotlib.legend.Legend at 0x7fe6c7bcdf98>"
      ]
     },
     "execution_count": 29,
     "metadata": {},
     "output_type": "execute_result"
    },
    {
     "data": {
      "image/png": "[encoded data removed]",
      "text/plain": [
       "<matplotlib.figure.Figure at 0x7fe6c7bcda20>"
      ]
     },
     "metadata": {},
     "output_type": "display_data"
    }
   ],
   "source": [
    "plt.plot([0,1], [0,1], linestyle='--', color='grey')\n",
    "for marginal, model_label in zip([L_dev_ci_marginals, L_dev_da_marginals], [\"CI Gen Model (AUC {:.2f})\", \"DA Gen Model (AUC {:.2f})\"]):\n",
    "    tpr, fpr, threshold = roc_curve(dev_data_labels, marginal)\n",
    "    area = auc(fpr, tpr)\n",
    "    plt.plot(fpr, tpr, label=model_label.format(area))\n",
    "plt.title(\"ROC Curve of Generative Models\")\n",
    "plt.xlabel(\"False Positive Rate\")\n",
    "plt.ylabel(\"True Positive Rate\")\n",
    "plt.legend()"
   ]
  },
  {
   "cell_type": "markdown",
   "metadata": {},
   "source": [
    "# F1 Score of Train Hand Labeled Set"
   ]
  },
  {
   "cell_type": "markdown",
   "metadata": {},
   "source": [
    "Looking at the small hand labeled training set we can see a pretty big spike in performance. In terms of f1 score the DA model has about a 0.3 increase in performance comapred to the CI model. "
   ]
  },
  {
   "cell_type": "code",
   "execution_count": 30,
   "metadata": {},
   "outputs": [
    {
     "name": "stdout",
     "output_type": "stream",
     "text": [
      "========================================\n",
      "Scores (Un-adjusted)\n",
      "========================================\n",
      "Pos. class accuracy: 0.202\n",
      "Neg. class accuracy: 0.949\n",
      "Precision            0.789\n",
      "Recall               0.202\n",
      "F1                   0.321\n",
      "----------------------------------------\n",
      "TP: 90 | FP: 24 | TN: 449 | FN: 356\n",
      "========================================\n",
      "\n"
     ]
    }
   ],
   "source": [
    "_ = indep_gen_model.error_analysis(session, L_train_labeled, L_train_labeled_gold)"
   ]
  },
  {
   "cell_type": "code",
   "execution_count": 31,
   "metadata": {
    "scrolled": true
   },
   "outputs": [
    {
     "name": "stdout",
     "output_type": "stream",
     "text": [
      "========================================\n",
      "Scores (Un-adjusted)\n",
      "========================================\n",
      "Pos. class accuracy: 0.592\n",
      "Neg. class accuracy: 0.717\n",
      "Precision            0.663\n",
      "Recall               0.592\n",
      "F1                   0.626\n",
      "----------------------------------------\n",
      "TP: 264 | FP: 134 | TN: 339 | FN: 182\n",
      "========================================\n",
      "\n"
     ]
    }
   ],
   "source": [
    "tp, fp, tn, fn = gen_model.error_analysis(session, L_train_labeled, L_train_labeled_gold)"
   ]
  },
  {
   "cell_type": "code",
   "execution_count": 32,
   "metadata": {},
   "outputs": [],
   "source": [
    "L_train_ci_marginals = indep_gen_model.marginals(L_train_labeled)\n",
    "L_train_da_marginals = gen_model.marginals(L_train_labeled)"
   ]
  },
  {
   "cell_type": "code",
   "execution_count": 33,
   "metadata": {},
   "outputs": [],
   "source": [
    "positive_class = sum(list(map(lambda x: 0 if x == -1 else x, L_train_labeled_gold.toarray()[:,0])))\n",
    "positive_class = positive_class/L_train_labeled_gold.shape[0]"
   ]
  },
  {
   "cell_type": "code",
   "execution_count": 34,
   "metadata": {},
   "outputs": [
    {
     "data": {
      "text/plain": [
       "<matplotlib.legend.Legend at 0x7fe6c7bcd6d8>"
      ]
     },
     "execution_count": 34,
     "metadata": {},
     "output_type": "execute_result"
    },
    {
     "data": {
      "image/png": "[encoded data removed]",
      "text/plain": [
       "<matplotlib.figure.Figure at 0x7fe6c7bcd0f0>"
      ]
     },
     "metadata": {},
     "output_type": "display_data"
    }
   ],
   "source": [
    "plt.plot([0,1], [positive_class, positive_class], color='grey', \n",
    "         linestyle='--', label='Baseline (AUC = {:0.2f})'.format(positive_class))\n",
    "\n",
    "for marginal, model_label in zip([L_train_ci_marginals, L_train_da_marginals], [\"CI Gen Model (AUC {:.2f})\", \"DA Gen Model (AUC {:.2f})\"]):\n",
    "    precision, recall, threshold = precision_recall_curve(L_train_labeled_gold.data, marginal)\n",
    "    area = auc(recall, precision)\n",
    "    plt.plot(recall, precision, label=model_label.format(area))\n",
    "plt.title(\"Precision Recall Curve of Generative Models\")\n",
    "plt.xlabel(\"Recall\")\n",
    "plt.ylabel(\"Precision\")\n",
    "plt.legend()"
   ]
  },
  {
   "cell_type": "code",
   "execution_count": 35,
   "metadata": {},
   "outputs": [
    {
     "data": {
      "text/plain": [
       "<matplotlib.legend.Legend at 0x7fe6cf0ad9e8>"
      ]
     },
     "execution_count": 35,
     "metadata": {},
     "output_type": "execute_result"
    },
    {
     "data": {
      "image/png": "[encoded data removed]",
      "text/plain": [
       "<matplotlib.figure.Figure at 0x7fe6cf0ad4a8>"
      ]
     },
     "metadata": {},
     "output_type": "display_data"
    }
   ],
   "source": [
    "plt.plot([0,1], [0,1], linestyle='--', color='grey')\n",
    "for marginal, model_label in zip([L_train_ci_marginals, L_train_da_marginals], [\"CI Gen Model (AUC {:.2f})\", \"DA Gen Model (AUC {:.2f})\"]):\n",
    "    tpr, fpr, threshold = roc_curve(L_train_labeled_gold.data, marginal)\n",
    "    area = auc(fpr, tpr)\n",
    "    plt.plot(fpr, tpr, label=model_label.format(area))\n",
    "plt.title(\"ROC Curve of Generative Models\")\n",
    "plt.xlabel(\"False Positive Rate\")\n",
    "plt.ylabel(\"True Positive Rate\")\n",
    "plt.legend()"
   ]
  },
  {
   "cell_type": "markdown",
   "metadata": {},
   "source": [
    "## Individual Candidate Error Analysis"
   ]
  },
  {
   "cell_type": "markdown",
   "metadata": {},
   "source": [
    "Depending on which block of code is executed, the following block of code below will show which candidate sentence was incorrectly labeled. Right now the false negatives (fn) are being shown below but this could change to incorporate false positives (fp) as well."
   ]
  },
  {
   "cell_type": "code",
   "execution_count": null,
   "metadata": {},
   "outputs": [],
   "source": [
    "from snorkel.viewer import SentenceNgramViewer\n",
    "\n",
    "# NOTE: This if-then statement is only to avoid opening the viewer during automated testing of this notebook\n",
    "# You should ignore this!\n",
    "import os\n",
    "if 'CI' not in os.environ:\n",
    "    sv = SentenceNgramViewer(fn, session)\n",
    "else:\n",
    "    sv = None"
   ]
  },
  {
   "cell_type": "code",
   "execution_count": null,
   "metadata": {
    "scrolled": false
   },
   "outputs": [],
   "source": [
    "sv"
   ]
  },
  {
   "cell_type": "code",
   "execution_count": null,
   "metadata": {
    "scrolled": false
   },
   "outputs": [],
   "source": [
    "c = sv.get_selected() if sv else list(fp.union(fn))[0]\n",
    "c"
   ]
  },
  {
   "cell_type": "code",
   "execution_count": null,
   "metadata": {
    "scrolled": false
   },
   "outputs": [],
   "source": [
    "c.labels"
   ]
  },
  {
   "cell_type": "code",
   "execution_count": null,
   "metadata": {},
   "outputs": [],
   "source": [
    "c.id"
   ]
  },
  {
   "cell_type": "markdown",
   "metadata": {},
   "source": [
    "## Generate Excel File of Train Data"
   ]
  },
  {
   "cell_type": "markdown",
   "metadata": {},
   "source": [
    "Lastly we write out the generative model's output into a file. Reason for this will be used in the [next notebook](4.sentence-level-prediction.ipynb), where we aim to use a noise aware discriminator model to correct for the generative models' errors."
   ]
  },
  {
   "cell_type": "code",
   "execution_count": null,
   "metadata": {
    "scrolled": true
   },
   "outputs": [],
   "source": [
    "def make_sentence_df(lf_matrix, marginals, pair_df):\n",
    "    rows = list()\n",
    "    for i in tqdm.tqdm(range(lf_matrix.shape[0])):\n",
    "        row = OrderedDict()\n",
    "        candidate = lf_matrix.get_candidate(session, i)\n",
    "        row['candidate_id'] = candidate.id\n",
    "        row['disease'] = candidate[0].get_span()\n",
    "        row['gene'] = candidate[1].get_span()\n",
    "        row['doid_id'] = candidate.Disease_cid\n",
    "        row['entrez_gene_id'] = candidate.Gene_cid\n",
    "        row['sentence'] = candidate.get_parent().text\n",
    "        row['label'] = marginals[i]\n",
    "        rows.append(row)\n",
    "    sentence_df = pd.DataFrame(rows)\n",
    "    sentence_df['entrez_gene_id'] = sentence_df.entrez_gene_id.astype(int)\n",
    "    sentence_df = pd.merge(\n",
    "        sentence_df,\n",
    "        pair_df[[\"doid_id\", \"entrez_gene_id\", \"doid_name\", \"gene_symbol\"]],\n",
    "        on=[\"doid_id\", \"entrez_gene_id\"],\n",
    "        how=\"left\"\n",
    "    )\n",
    "    sentence_df = pd.concat([\n",
    "        sentence_df,\n",
    "        pd.DataFrame(lf_matrix.todense(), columns=list(LFS))\n",
    "    ], axis='columns')\n",
    "    return sentence_df"
   ]
  },
  {
   "cell_type": "code",
   "execution_count": null,
   "metadata": {},
   "outputs": [],
   "source": [
    "pair_df = pd.read_csv(\"data/disease-gene-pairs-association.csv.xz\", compression='xz')\n",
    "pair_df.head(2)"
   ]
  },
  {
   "cell_type": "code",
   "execution_count": null,
   "metadata": {},
   "outputs": [],
   "source": [
    "train_sentence_df = make_sentence_df(L_train, train_marginals, pair_df)\n",
    "train_sentence_df.head(2)"
   ]
  },
  {
   "cell_type": "code",
   "execution_count": null,
   "metadata": {},
   "outputs": [],
   "source": [
    "writer = pd.ExcelWriter('data/sentence-labels.xlsx')\n",
    "(train_sentence_df\n",
    "    .to_excel(writer, sheet_name='sentences', index=False)\n",
    ")\n",
    "if writer.engine == 'xlsxwriter':\n",
    "    for sheet in writer.sheets.values():\n",
    "        sheet.freeze_panes(1, 0)\n",
    "writer.close()"
   ]
  },
  {
   "cell_type": "markdown",
   "metadata": {},
   "source": [
    "## Generate Excel File of Dev Data"
   ]
  },
  {
   "cell_type": "code",
   "execution_count": null,
   "metadata": {},
   "outputs": [],
   "source": [
    "dev_sentence_df = make_sentence_df(L_dev, dev_marginals, pair_df)\n",
    "dev_sentence_df.head(2)"
   ]
  },
  {
   "cell_type": "code",
   "execution_count": null,
   "metadata": {},
   "outputs": [],
   "source": [
    "writer = pd.ExcelWriter('data/sentence-labels-dev.xlsx')\n",
    "(dev_sentence_df\n",
    "    .sample(frac=1, random_state=100)\n",
    "    .to_excel(writer, sheet_name='sentences', index=False)\n",
    ")\n",
    "if writer.engine == 'xlsxwriter':\n",
    "    for sheet in writer.sheets.values():\n",
    "        sheet.freeze_panes(1, 0)\n",
    "writer.close()"
   ]
  }
 ],
 "metadata": {
  "anaconda-cloud": {},
  "kernelspec": {
   "display_name": "Python [conda env:snorkeling]",
   "language": "python",
   "name": "conda-env-snorkeling-py"
  },
  "language_info": {
   "codemirror_mode": {
    "name": "ipython",
    "version": 3
   },
   "file_extension": ".py",
   "mimetype": "text/x-python",
   "name": "python",
   "nbconvert_exporter": "python",
   "pygments_lexer": "ipython3",
   "version": "3.6.4"
  }
 },
 "nbformat": 4,
 "nbformat_minor": 2
}
