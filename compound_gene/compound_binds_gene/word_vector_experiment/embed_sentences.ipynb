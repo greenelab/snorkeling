{
 "cells": [
  {
   "cell_type": "markdown",
   "metadata": {},
   "source": [
    "# Generate Word Vectors For Compound Binds Gene Sentences"
   ]
  },
  {
   "cell_type": "markdown",
   "metadata": {},
   "source": [
    "This notebook is designed to embed compound binds gene (CbG) sentences. After word vectors have been trained, we embed sentences using the following steps:\n",
    "\n",
    "1. Load the total vocab generated from trained word vectors.\n",
    "2. Cycle through each sentence\n",
    "3. For each word in the sentence determine if word is in vocab\n",
    "4. if yes assign index of no assign index for unknown token"
   ]
  },
  {
   "cell_type": "markdown",
   "metadata": {},
   "source": [
    "# Set Up Environment"
   ]
  },
  {
   "cell_type": "code",
   "execution_count": 1,
   "metadata": {
    "ExecuteTime": {
     "end_time": "2019-06-07T14:38:52.761376Z",
     "start_time": "2019-06-07T14:38:51.995480Z"
    }
   },
   "outputs": [],
   "source": [
    "%load_ext autoreload\n",
    "%autoreload 2\n",
    "%matplotlib inline\n",
    "\n",
    "from collections import defaultdict\n",
    "import os\n",
    "import pickle\n",
    "import sys\n",
    "\n",
    "import matplotlib.pyplot as plt\n",
    "import pandas as pd\n",
    "import seaborn as sns\n",
    "from tqdm import tqdm_notebook\n",
    "\n",
    "from gensim.models import FastText\n",
    "from gensim.models import KeyedVectors\n",
    "\n",
    "sys.path.append(os.path.abspath('../../../modules'))\n",
    "\n",
    "from utils.notebook_utils.dataframe_helper import load_candidate_dataframes, generate_embedded_df"
   ]
  },
  {
   "cell_type": "code",
   "execution_count": 2,
   "metadata": {
    "ExecuteTime": {
     "end_time": "2019-06-07T14:38:52.978595Z",
     "start_time": "2019-06-07T14:38:52.763282Z"
    }
   },
   "outputs": [],
   "source": [
    "#Set up the environment\n",
    "username = \"danich1\"\n",
    "password = \"snorkel\"\n",
    "dbname = \"pubmeddb\"\n",
    "\n",
    "#Path subject to change for different os\n",
    "database_str = \"postgresql+psycopg2://{}:{}@/{}?host=/var/run/postgresql\".format(username, password, dbname)\n",
    "os.environ['SNORKELDB'] = database_str\n",
    "\n",
    "from snorkel import SnorkelSession\n",
    "session = SnorkelSession()"
   ]
  },
  {
   "cell_type": "code",
   "execution_count": 3,
   "metadata": {
    "ExecuteTime": {
     "end_time": "2019-06-07T14:38:53.355748Z",
     "start_time": "2019-06-07T14:38:52.980097Z"
    }
   },
   "outputs": [],
   "source": [
    "from snorkel.learning.pytorch.rnn.rnn_base import mark_sentence\n",
    "from snorkel.learning.pytorch.rnn.utils import candidate_to_tokens\n",
    "from snorkel.models import Candidate, candidate_subclass"
   ]
  },
  {
   "cell_type": "code",
   "execution_count": 4,
   "metadata": {
    "ExecuteTime": {
     "end_time": "2019-06-07T14:38:53.379966Z",
     "start_time": "2019-06-07T14:38:53.357488Z"
    }
   },
   "outputs": [],
   "source": [
    "CompoundGene = candidate_subclass('CompoundGene', ['Compound', 'Gene'])"
   ]
  },
  {
   "cell_type": "markdown",
   "metadata": {},
   "source": [
    "# Compound Binds Gene"
   ]
  },
  {
   "cell_type": "markdown",
   "metadata": {},
   "source": [
    "This section loads the dataframe that contains all compound binds gene candidate sentences and their respective dataset assignments."
   ]
  },
  {
   "cell_type": "code",
   "execution_count": 5,
   "metadata": {
    "ExecuteTime": {
     "end_time": "2019-06-07T14:39:08.530684Z",
     "start_time": "2019-06-07T14:38:53.381499Z"
    }
   },
   "outputs": [
    {
     "data": {
      "text/html": [
       "<div>\n",
       "<style scoped>\n",
       "    .dataframe tbody tr th:only-of-type {\n",
       "        vertical-align: middle;\n",
       "    }\n",
       "\n",
       "    .dataframe tbody tr th {\n",
       "        vertical-align: top;\n",
       "    }\n",
       "\n",
       "    .dataframe thead th {\n",
       "        text-align: right;\n",
       "    }\n",
       "</style>\n",
       "<table border=\"1\" class=\"dataframe\">\n",
       "  <thead>\n",
       "    <tr style=\"text-align: right;\">\n",
       "      <th></th>\n",
       "      <th>entrez_gene_id</th>\n",
       "      <th>gene_symbol</th>\n",
       "      <th>drugbank_id</th>\n",
       "      <th>name</th>\n",
       "      <th>sources</th>\n",
       "      <th>hetionet</th>\n",
       "      <th>n_sentences</th>\n",
       "      <th>has_sentence</th>\n",
       "      <th>partition_rank</th>\n",
       "      <th>split</th>\n",
       "      <th>compound_mention_count</th>\n",
       "      <th>disease_mention_count</th>\n",
       "      <th>gene_mention_count</th>\n",
       "      <th>sentence_id</th>\n",
       "      <th>text</th>\n",
       "      <th>sen_length</th>\n",
       "      <th>candidate_id</th>\n",
       "    </tr>\n",
       "  </thead>\n",
       "  <tbody>\n",
       "    <tr>\n",
       "      <th>0</th>\n",
       "      <td>1</td>\n",
       "      <td>A1BG</td>\n",
       "      <td>DB00117</td>\n",
       "      <td>L-Histidine</td>\n",
       "      <td>NaN</td>\n",
       "      <td>0</td>\n",
       "      <td>1</td>\n",
       "      <td>1</td>\n",
       "      <td>0.37753</td>\n",
       "      <td>6</td>\n",
       "      <td>1.0</td>\n",
       "      <td>0.0</td>\n",
       "      <td>10.0</td>\n",
       "      <td>94389805</td>\n",
       "      <td>Thus, as the assessment of protein glycosylati...</td>\n",
       "      <td>114</td>\n",
       "      <td>33517095</td>\n",
       "    </tr>\n",
       "    <tr>\n",
       "      <th>1</th>\n",
       "      <td>1</td>\n",
       "      <td>A1BG</td>\n",
       "      <td>DB00143</td>\n",
       "      <td>Glutathione</td>\n",
       "      <td>NaN</td>\n",
       "      <td>0</td>\n",
       "      <td>1</td>\n",
       "      <td>1</td>\n",
       "      <td>0.30352</td>\n",
       "      <td>6</td>\n",
       "      <td>1.0</td>\n",
       "      <td>1.0</td>\n",
       "      <td>2.0</td>\n",
       "      <td>83523801</td>\n",
       "      <td>Similar observations were made in T98 glioma c...</td>\n",
       "      <td>34</td>\n",
       "      <td>28913100</td>\n",
       "    </tr>\n",
       "  </tbody>\n",
       "</table>\n",
       "</div>"
      ],
      "text/plain": [
       "   entrez_gene_id gene_symbol drugbank_id         name sources  hetionet  \\\n",
       "0               1        A1BG     DB00117  L-Histidine     NaN         0   \n",
       "1               1        A1BG     DB00143  Glutathione     NaN         0   \n",
       "\n",
       "   n_sentences  has_sentence  partition_rank  split  compound_mention_count  \\\n",
       "0            1             1         0.37753      6                     1.0   \n",
       "1            1             1         0.30352      6                     1.0   \n",
       "\n",
       "   disease_mention_count  gene_mention_count  sentence_id  \\\n",
       "0                    0.0                10.0     94389805   \n",
       "1                    1.0                 2.0     83523801   \n",
       "\n",
       "                                                text  sen_length  candidate_id  \n",
       "0  Thus, as the assessment of protein glycosylati...         114      33517095  \n",
       "1  Similar observations were made in T98 glioma c...          34      28913100  "
      ]
     },
     "execution_count": 5,
     "metadata": {},
     "output_type": "execute_result"
    }
   ],
   "source": [
    "cutoff = 300\n",
    "total_candidates_df = (\n",
    "    pd.read_table(\"../dataset_statistics/data/all_cbg_candidates.tsv.xz\")\n",
    "    .query(\"sen_length < @cutoff\")\n",
    ")\n",
    "total_candidates_df.head(2)"
   ]
  },
  {
   "cell_type": "markdown",
   "metadata": {},
   "source": [
    "# Embed all Compound Binds Gene Sentences"
   ]
  },
  {
   "cell_type": "markdown",
   "metadata": {},
   "source": [
    "This section embeds all candidate sentences. For each sentence, we place tags around each mention, tokenized the sentence and then matched each token to their corresponding word index. Any words missing from our vocab receive a index of 1. Lastly, the embedded sentences are exported as a sparse dataframe."
   ]
  },
  {
   "cell_type": "code",
   "execution_count": 6,
   "metadata": {
    "ExecuteTime": {
     "end_time": "2019-06-07T14:39:08.828017Z",
     "start_time": "2019-06-07T14:39:08.532364Z"
    }
   },
   "outputs": [],
   "source": [
    "word_dict_df = pd.read_table(\"results/compound_gene_word_dict.tsv\")\n",
    "word_dict = {word[0]:word[1] for word in word_dict_df.values.tolist()}"
   ]
  },
  {
   "cell_type": "code",
   "execution_count": null,
   "metadata": {
    "ExecuteTime": {
     "start_time": "2019-06-07T14:39:39.039Z"
    }
   },
   "outputs": [
    {
     "data": {
      "application/vnd.jupyter.widget-view+json": {
       "model_id": "8b5355dc85ec4a03ac2b966b3485dcab",
       "version_major": 2,
       "version_minor": 0
      },
      "text/html": [
       "<p>Failed to display Jupyter Widget of type <code>HBox</code>.</p>\n",
       "<p>\n",
       "  If you're reading this message in the Jupyter Notebook or JupyterLab Notebook, it may mean\n",
       "  that the widgets JavaScript is still loading. If this message persists, it\n",
       "  likely means that the widgets JavaScript library is either not installed or\n",
       "  not enabled. See the <a href=\"https://ipywidgets.readthedocs.io/en/stable/user_install.html\">Jupyter\n",
       "  Widgets Documentation</a> for setup instructions.\n",
       "</p>\n",
       "<p>\n",
       "  If you're reading this message in another frontend (for example, a static\n",
       "  rendering on GitHub or <a href=\"https://nbviewer.jupyter.org/\">NBViewer</a>),\n",
       "  it may mean that your frontend doesn't currently support widgets.\n",
       "</p>\n"
      ],
      "text/plain": [
       "HBox(children=(IntProgress(value=0, max=500000), HTML(value='')))"
      ]
     },
     "metadata": {},
     "output_type": "display_data"
    },
    {
     "name": "stdout",
     "output_type": "stream",
     "text": [
      "\n"
     ]
    }
   ],
   "source": [
    "limit = 500000 #1000000\n",
    "total_candidate_count = total_candidates_df.shape[0]\n",
    "\n",
    "for offset in list(range(0, total_candidate_count, limit)):\n",
    "    candidates = (\n",
    "        session\n",
    "        .query(CompoundGene)\n",
    "        .filter(\n",
    "            CompoundGene.id.in_(\n",
    "                total_candidates_df\n",
    "                .candidate_id\n",
    "                .astype(int)\n",
    "                .tolist()\n",
    "            )\n",
    "        )\n",
    "        .offset(offset)\n",
    "        .limit(limit)\n",
    "        .all()\n",
    "    )\n",
    "    \n",
    "    max_length = total_candidates_df.sen_length.max()\n",
    "    \n",
    "    # if first iteration create the file\n",
    "    if offset == 0:\n",
    "        (\n",
    "            generate_embedded_df(candidates, word_dict, max_length=max_length)\n",
    "            .to_csv(\n",
    "                \"results/all_embedded_cg_sentences.tsv\",\n",
    "                index=False, \n",
    "                sep=\"\\t\",\n",
    "                mode=\"w\"\n",
    "            )\n",
    "        )\n",
    "        \n",
    "    # else append don't overwrite\n",
    "    else:\n",
    "        (\n",
    "            generate_embedded_df(candidates, word_dict, max_length=max_length)\n",
    "            .to_csv(\n",
    "                \"results/all_embedded_cg_sentences.tsv\",\n",
    "                index=False, \n",
    "                sep=\"\\t\", \n",
    "                mode=\"a\",\n",
    "                header=False\n",
    "            )\n",
    "        )"
   ]
  },
  {
   "cell_type": "code",
   "execution_count": null,
   "metadata": {},
   "outputs": [],
   "source": [
    "os.system(\"cd results; xz all_embedded_cg_sentences.tsv\")"
   ]
  }
 ],
 "metadata": {
  "kernelspec": {
   "display_name": "Python [conda env:snorkeling]",
   "language": "python",
   "name": "conda-env-snorkeling-py"
  },
  "language_info": {
   "codemirror_mode": {
    "name": "ipython",
    "version": 3
   },
   "file_extension": ".py",
   "mimetype": "text/x-python",
   "name": "python",
   "nbconvert_exporter": "python",
   "pygments_lexer": "ipython3",
   "version": "3.6.4"
  }
 },
 "nbformat": 4,
 "nbformat_minor": 2
}
