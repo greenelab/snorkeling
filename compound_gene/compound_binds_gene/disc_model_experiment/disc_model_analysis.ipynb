{
 "cells": [
  {
   "cell_type": "markdown",
   "metadata": {},
   "source": [
    "# Discriminator Model Performance"
   ]
  },
  {
   "cell_type": "markdown",
   "metadata": {},
   "source": [
    "This notebook is designed to analyze the discriminator model's performance. Once the generative model labels our data, the discriminator model takes those labels and improves on predictions. For this notebook we are using a generative model trained on Compound binds Gene label functions to predict Compound binds Gene sentences. Performance for each model is reported in area under the receiver operating curve (AUROC) and area under the precision recall curve (AUPR)."
   ]
  },
  {
   "cell_type": "code",
   "execution_count": 1,
   "metadata": {
    "ExecuteTime": {
     "end_time": "2019-12-12T18:23:44.509741Z",
     "start_time": "2019-12-12T18:23:43.600110Z"
    }
   },
   "outputs": [],
   "source": [
    "import glob\n",
    "import os\n",
    "import pandas as pd\n",
    "\n",
    "import plotnine as p9\n",
    "import scipy.stats as ss\n",
    "from sklearn.metrics import auc, precision_recall_curve, roc_curve, precision_recall_fscore_support"
   ]
  },
  {
   "cell_type": "markdown",
   "metadata": {},
   "source": [
    "# Tune Set"
   ]
  },
  {
   "cell_type": "markdown",
   "metadata": {},
   "source": [
    "## Performance of Disc model vs Gen model for each Label Sample"
   ]
  },
  {
   "cell_type": "code",
   "execution_count": 2,
   "metadata": {
    "ExecuteTime": {
     "end_time": "2019-12-12T18:23:44.523653Z",
     "start_time": "2019-12-12T18:23:44.511075Z"
    },
    "scrolled": true
   },
   "outputs": [
    {
     "data": {
      "text/html": [
       "<div>\n",
       "<style scoped>\n",
       "    .dataframe tbody tr th:only-of-type {\n",
       "        vertical-align: middle;\n",
       "    }\n",
       "\n",
       "    .dataframe tbody tr th {\n",
       "        vertical-align: top;\n",
       "    }\n",
       "\n",
       "    .dataframe thead th {\n",
       "        text-align: right;\n",
       "    }\n",
       "</style>\n",
       "<table border=\"1\" class=\"dataframe\">\n",
       "  <thead>\n",
       "    <tr style=\"text-align: right;\">\n",
       "      <th></th>\n",
       "      <th>candidate_id</th>\n",
       "      <th>curated_cbg</th>\n",
       "    </tr>\n",
       "  </thead>\n",
       "  <tbody>\n",
       "    <tr>\n",
       "      <th>0</th>\n",
       "      <td>50527</td>\n",
       "      <td>0.0</td>\n",
       "    </tr>\n",
       "    <tr>\n",
       "      <th>1</th>\n",
       "      <td>51441</td>\n",
       "      <td>0.0</td>\n",
       "    </tr>\n",
       "    <tr>\n",
       "      <th>2</th>\n",
       "      <td>52167</td>\n",
       "      <td>0.0</td>\n",
       "    </tr>\n",
       "    <tr>\n",
       "      <th>3</th>\n",
       "      <td>52188</td>\n",
       "      <td>0.0</td>\n",
       "    </tr>\n",
       "    <tr>\n",
       "      <th>4</th>\n",
       "      <td>52221</td>\n",
       "      <td>0.0</td>\n",
       "    </tr>\n",
       "  </tbody>\n",
       "</table>\n",
       "</div>"
      ],
      "text/plain": [
       "   candidate_id  curated_cbg\n",
       "0         50527          0.0\n",
       "1         51441          0.0\n",
       "2         52167          0.0\n",
       "3         52188          0.0\n",
       "4         52221          0.0"
      ]
     },
     "execution_count": 2,
     "metadata": {},
     "output_type": "execute_result"
    }
   ],
   "source": [
    "dev_labels = pd.read_csv(\"input/cbg_dev_labels.tsv\", sep=\"\\t\")\n",
    "dev_labels.head()"
   ]
  },
  {
   "cell_type": "code",
   "execution_count": 3,
   "metadata": {
    "ExecuteTime": {
     "end_time": "2019-12-12T18:23:45.120042Z",
     "start_time": "2019-12-12T18:23:44.525011Z"
    },
    "scrolled": false
   },
   "outputs": [
    {
     "data": {
      "text/html": [
       "<div>\n",
       "<style scoped>\n",
       "    .dataframe tbody tr th:only-of-type {\n",
       "        vertical-align: middle;\n",
       "    }\n",
       "\n",
       "    .dataframe tbody tr th {\n",
       "        vertical-align: top;\n",
       "    }\n",
       "\n",
       "    .dataframe thead th {\n",
       "        text-align: right;\n",
       "    }\n",
       "</style>\n",
       "<table border=\"1\" class=\"dataframe\">\n",
       "  <thead>\n",
       "    <tr style=\"text-align: right;\">\n",
       "      <th></th>\n",
       "      <th>candidate_id</th>\n",
       "      <th>compound</th>\n",
       "      <th>gene</th>\n",
       "      <th>drugbank_id</th>\n",
       "      <th>entrez_gene_id</th>\n",
       "      <th>sentence</th>\n",
       "      <th>curated_cbg</th>\n",
       "      <th>notes_cbg</th>\n",
       "      <th>curated_cdg</th>\n",
       "      <th>notes_cdg</th>\n",
       "      <th>curated_cug</th>\n",
       "      <th>notes_cug</th>\n",
       "    </tr>\n",
       "  </thead>\n",
       "  <tbody>\n",
       "    <tr>\n",
       "      <th>0</th>\n",
       "      <td>50527</td>\n",
       "      <td>sodium dodecylsulphate</td>\n",
       "      <td>Fab-fragments</td>\n",
       "      <td>DB00815</td>\n",
       "      <td>2187</td>\n",
       "      <td>the effect of nacl , ( nh4 ) 2so4 , ~~[[1 sodi...</td>\n",
       "      <td>0.0</td>\n",
       "      <td>NaN</td>\n",
       "      <td>0.0</td>\n",
       "      <td>NaN</td>\n",
       "      <td>0.0</td>\n",
       "      <td>NaN</td>\n",
       "    </tr>\n",
       "    <tr>\n",
       "      <th>1</th>\n",
       "      <td>51441</td>\n",
       "      <td>cortisone</td>\n",
       "      <td>GH</td>\n",
       "      <td>DB01380</td>\n",
       "      <td>2688</td>\n",
       "      <td>the glycemic response to iv glucose was simila...</td>\n",
       "      <td>0.0</td>\n",
       "      <td>NaN</td>\n",
       "      <td>0.0</td>\n",
       "      <td>NaN</td>\n",
       "      <td>0.0</td>\n",
       "      <td>NaN</td>\n",
       "    </tr>\n",
       "    <tr>\n",
       "      <th>2</th>\n",
       "      <td>52167</td>\n",
       "      <td>ouabain-sensitive</td>\n",
       "      <td>ATPase</td>\n",
       "      <td>DB01092</td>\n",
       "      <td>1769</td>\n",
       "      <td>it can be concluded from these studies that th...</td>\n",
       "      <td>0.0</td>\n",
       "      <td>NaN</td>\n",
       "      <td>0.0</td>\n",
       "      <td>NaN</td>\n",
       "      <td>0.0</td>\n",
       "      <td>NaN</td>\n",
       "    </tr>\n",
       "    <tr>\n",
       "      <th>3</th>\n",
       "      <td>52188</td>\n",
       "      <td>Mg2</td>\n",
       "      <td>myosin</td>\n",
       "      <td>DB01794</td>\n",
       "      <td>79784</td>\n",
       "      <td>the average dimensions of the filaments grown ...</td>\n",
       "      <td>0.0</td>\n",
       "      <td>NaN</td>\n",
       "      <td>0.0</td>\n",
       "      <td>NaN</td>\n",
       "      <td>0.0</td>\n",
       "      <td>NaN</td>\n",
       "    </tr>\n",
       "    <tr>\n",
       "      <th>4</th>\n",
       "      <td>52221</td>\n",
       "      <td>L-phenylalanine</td>\n",
       "      <td>alkaline phosphatase</td>\n",
       "      <td>DB02556</td>\n",
       "      <td>250</td>\n",
       "      <td>sera of several canine patients contained an i...</td>\n",
       "      <td>0.0</td>\n",
       "      <td>NaN</td>\n",
       "      <td>0.0</td>\n",
       "      <td>NaN</td>\n",
       "      <td>0.0</td>\n",
       "      <td>NaN</td>\n",
       "    </tr>\n",
       "  </tbody>\n",
       "</table>\n",
       "</div>"
      ],
      "text/plain": [
       "   candidate_id                compound                  gene drugbank_id  \\\n",
       "0         50527  sodium dodecylsulphate         Fab-fragments     DB00815   \n",
       "1         51441               cortisone                    GH     DB01380   \n",
       "2         52167       ouabain-sensitive                ATPase     DB01092   \n",
       "3         52188                     Mg2                myosin     DB01794   \n",
       "4         52221         L-phenylalanine  alkaline phosphatase     DB02556   \n",
       "\n",
       "   entrez_gene_id                                           sentence  \\\n",
       "0            2187  the effect of nacl , ( nh4 ) 2so4 , ~~[[1 sodi...   \n",
       "1            2688  the glycemic response to iv glucose was simila...   \n",
       "2            1769  it can be concluded from these studies that th...   \n",
       "3           79784  the average dimensions of the filaments grown ...   \n",
       "4             250  sera of several canine patients contained an i...   \n",
       "\n",
       "   curated_cbg notes_cbg  curated_cdg notes_cdg  curated_cug notes_cug  \n",
       "0          0.0       NaN          0.0       NaN          0.0       NaN  \n",
       "1          0.0       NaN          0.0       NaN          0.0       NaN  \n",
       "2          0.0       NaN          0.0       NaN          0.0       NaN  \n",
       "3          0.0       NaN          0.0       NaN          0.0       NaN  \n",
       "4          0.0       NaN          0.0       NaN          0.0       NaN  "
      ]
     },
     "execution_count": 3,
     "metadata": {},
     "output_type": "execute_result"
    }
   ],
   "source": [
    "candidate_df = (\n",
    "    pd.read_excel(\"../data/sentences/sentence_labels_dev.xlsx\")\n",
    "    .sort_values(\"candidate_id\")\n",
    "    .query(\"curated_cbg.notnull()\")\n",
    ")\n",
    "candidate_df.head()"
   ]
  },
  {
   "cell_type": "code",
   "execution_count": 4,
   "metadata": {
    "ExecuteTime": {
     "end_time": "2019-12-12T18:23:45.127622Z",
     "start_time": "2019-12-12T18:23:45.121851Z"
    }
   },
   "outputs": [],
   "source": [
    "gen_model_results_dev_df = pd.read_csv(\n",
    "    \"../label_sampling_experiment/results/CbG/results/dev_sampled_results.tsv\", \n",
    "    sep=\"\\t\"\n",
    ")"
   ]
  },
  {
   "cell_type": "code",
   "execution_count": 5,
   "metadata": {
    "ExecuteTime": {
     "end_time": "2019-12-12T18:23:45.175515Z",
     "start_time": "2019-12-12T18:23:45.129081Z"
    }
   },
   "outputs": [],
   "source": [
    "disc_model_dict = {}\n",
    "\n",
    "for value in gen_model_results_dev_df.lf_num.unique():\n",
    "        \n",
    "    disc_model_dict[value] = (\n",
    "        pd.read_csv(f\"input/disc_model_run/{value}/tune.tsv\", sep=\"\\t\")\n",
    "    )"
   ]
  },
  {
   "cell_type": "code",
   "execution_count": 6,
   "metadata": {
    "ExecuteTime": {
     "end_time": "2019-12-12T18:23:45.179897Z",
     "start_time": "2019-12-12T18:23:45.176780Z"
    }
   },
   "outputs": [],
   "source": [
    "def get_au_performance(predictions, gold_labels):\n",
    "    fpr, tpr, _ = roc_curve(\n",
    "        gold_labels,\n",
    "        predictions\n",
    "    )\n",
    "    \n",
    "    precision, recall, _ = precision_recall_curve(\n",
    "        gold_labels,\n",
    "        predictions\n",
    "    )\n",
    "    \n",
    "    return auc(fpr, tpr), auc(recall, precision)"
   ]
  },
  {
   "cell_type": "code",
   "execution_count": 7,
   "metadata": {
    "ExecuteTime": {
     "end_time": "2019-12-12T18:23:46.951141Z",
     "start_time": "2019-12-12T18:23:45.181242Z"
    }
   },
   "outputs": [],
   "source": [
    "records = []\n",
    "for sample in disc_model_dict:\n",
    "        for column in disc_model_dict[sample].drop(\"candidate_id\", axis=1).columns:\n",
    "            aucs = get_au_performance(\n",
    "                disc_model_dict[sample][column], \n",
    "                candidate_df\n",
    "                .query(f\"candidate_id in {disc_model_dict[value].candidate_id.values.tolist()}\")\n",
    "                .curated_cbg\n",
    "                .values\n",
    "            )\n",
    "            records.append({\n",
    "                \"model\": \"disc_model\",\n",
    "                \"lf_num\": int(sample),\n",
    "                \"auroc\": aucs[0],\n",
    "                \"aupr\": aucs[1]\n",
    "            })\n",
    "\n",
    "dev_set_df = (\n",
    "    pd.DataFrame.from_records(records)\n",
    "    .append(\n",
    "        gen_model_results_dev_df\n",
    "        .drop(\"lf_sample\", axis=1)\n",
    "        .assign(model=\"gen_model\")\n",
    "    )\n",
    ")"
   ]
  },
  {
   "cell_type": "code",
   "execution_count": 8,
   "metadata": {
    "ExecuteTime": {
     "end_time": "2019-12-12T18:23:46.995252Z",
     "start_time": "2019-12-12T18:23:46.953027Z"
    }
   },
   "outputs": [
    {
     "data": {
      "text/html": [
       "<div>\n",
       "<style scoped>\n",
       "    .dataframe tbody tr th:only-of-type {\n",
       "        vertical-align: middle;\n",
       "    }\n",
       "\n",
       "    .dataframe tbody tr th {\n",
       "        vertical-align: top;\n",
       "    }\n",
       "\n",
       "    .dataframe thead th {\n",
       "        text-align: right;\n",
       "    }\n",
       "</style>\n",
       "<table border=\"1\" class=\"dataframe\">\n",
       "  <thead>\n",
       "    <tr style=\"text-align: right;\">\n",
       "      <th></th>\n",
       "      <th>lf_num</th>\n",
       "      <th>model</th>\n",
       "      <th>auroc_mean</th>\n",
       "      <th>auroc_std</th>\n",
       "      <th>aupr_mean</th>\n",
       "      <th>aupr_std</th>\n",
       "      <th>lf_num_len</th>\n",
       "      <th>auroc_upper</th>\n",
       "      <th>auroc_lower</th>\n",
       "      <th>aupr_upper</th>\n",
       "      <th>aupr_lower</th>\n",
       "    </tr>\n",
       "  </thead>\n",
       "  <tbody>\n",
       "    <tr>\n",
       "      <th>0</th>\n",
       "      <td>0</td>\n",
       "      <td>disc_model</td>\n",
       "      <td>0.557143</td>\n",
       "      <td>0.000000</td>\n",
       "      <td>0.161955</td>\n",
       "      <td>0.000000</td>\n",
       "      <td>1</td>\n",
       "      <td>0.557143</td>\n",
       "      <td>0.557143</td>\n",
       "      <td>0.161955</td>\n",
       "      <td>0.161955</td>\n",
       "    </tr>\n",
       "    <tr>\n",
       "      <th>1</th>\n",
       "      <td>0</td>\n",
       "      <td>gen_model</td>\n",
       "      <td>0.621242</td>\n",
       "      <td>0.000000</td>\n",
       "      <td>0.159903</td>\n",
       "      <td>0.000000</td>\n",
       "      <td>1</td>\n",
       "      <td>0.621242</td>\n",
       "      <td>0.621242</td>\n",
       "      <td>0.159903</td>\n",
       "      <td>0.159903</td>\n",
       "    </tr>\n",
       "    <tr>\n",
       "      <th>2</th>\n",
       "      <td>1</td>\n",
       "      <td>disc_model</td>\n",
       "      <td>0.577569</td>\n",
       "      <td>0.033096</td>\n",
       "      <td>0.155220</td>\n",
       "      <td>0.029715</td>\n",
       "      <td>50</td>\n",
       "      <td>0.586742</td>\n",
       "      <td>0.568395</td>\n",
       "      <td>0.163457</td>\n",
       "      <td>0.146984</td>\n",
       "    </tr>\n",
       "    <tr>\n",
       "      <th>3</th>\n",
       "      <td>1</td>\n",
       "      <td>gen_model</td>\n",
       "      <td>0.637148</td>\n",
       "      <td>0.012431</td>\n",
       "      <td>0.153833</td>\n",
       "      <td>0.008203</td>\n",
       "      <td>50</td>\n",
       "      <td>0.640594</td>\n",
       "      <td>0.633703</td>\n",
       "      <td>0.156106</td>\n",
       "      <td>0.151559</td>\n",
       "    </tr>\n",
       "    <tr>\n",
       "      <th>4</th>\n",
       "      <td>6</td>\n",
       "      <td>disc_model</td>\n",
       "      <td>0.645497</td>\n",
       "      <td>0.028264</td>\n",
       "      <td>0.194277</td>\n",
       "      <td>0.028552</td>\n",
       "      <td>50</td>\n",
       "      <td>0.653331</td>\n",
       "      <td>0.637663</td>\n",
       "      <td>0.202191</td>\n",
       "      <td>0.186363</td>\n",
       "    </tr>\n",
       "    <tr>\n",
       "      <th>5</th>\n",
       "      <td>6</td>\n",
       "      <td>gen_model</td>\n",
       "      <td>0.653668</td>\n",
       "      <td>0.022557</td>\n",
       "      <td>0.153597</td>\n",
       "      <td>0.013935</td>\n",
       "      <td>50</td>\n",
       "      <td>0.659920</td>\n",
       "      <td>0.647416</td>\n",
       "      <td>0.157460</td>\n",
       "      <td>0.149735</td>\n",
       "    </tr>\n",
       "    <tr>\n",
       "      <th>6</th>\n",
       "      <td>11</td>\n",
       "      <td>disc_model</td>\n",
       "      <td>0.658014</td>\n",
       "      <td>0.022194</td>\n",
       "      <td>0.211980</td>\n",
       "      <td>0.031886</td>\n",
       "      <td>50</td>\n",
       "      <td>0.664165</td>\n",
       "      <td>0.651862</td>\n",
       "      <td>0.220818</td>\n",
       "      <td>0.203142</td>\n",
       "    </tr>\n",
       "    <tr>\n",
       "      <th>7</th>\n",
       "      <td>11</td>\n",
       "      <td>gen_model</td>\n",
       "      <td>0.654627</td>\n",
       "      <td>0.019873</td>\n",
       "      <td>0.156752</td>\n",
       "      <td>0.012999</td>\n",
       "      <td>50</td>\n",
       "      <td>0.660136</td>\n",
       "      <td>0.649119</td>\n",
       "      <td>0.160355</td>\n",
       "      <td>0.153149</td>\n",
       "    </tr>\n",
       "    <tr>\n",
       "      <th>8</th>\n",
       "      <td>16</td>\n",
       "      <td>disc_model</td>\n",
       "      <td>0.648718</td>\n",
       "      <td>0.018281</td>\n",
       "      <td>0.200282</td>\n",
       "      <td>0.027938</td>\n",
       "      <td>49</td>\n",
       "      <td>0.653836</td>\n",
       "      <td>0.643599</td>\n",
       "      <td>0.208104</td>\n",
       "      <td>0.192460</td>\n",
       "    </tr>\n",
       "    <tr>\n",
       "      <th>9</th>\n",
       "      <td>16</td>\n",
       "      <td>gen_model</td>\n",
       "      <td>0.650839</td>\n",
       "      <td>0.012625</td>\n",
       "      <td>0.156090</td>\n",
       "      <td>0.013030</td>\n",
       "      <td>50</td>\n",
       "      <td>0.654339</td>\n",
       "      <td>0.647340</td>\n",
       "      <td>0.159702</td>\n",
       "      <td>0.152478</td>\n",
       "    </tr>\n",
       "    <tr>\n",
       "      <th>10</th>\n",
       "      <td>20</td>\n",
       "      <td>disc_model</td>\n",
       "      <td>0.623688</td>\n",
       "      <td>0.000000</td>\n",
       "      <td>0.204798</td>\n",
       "      <td>0.000000</td>\n",
       "      <td>1</td>\n",
       "      <td>0.623688</td>\n",
       "      <td>0.623688</td>\n",
       "      <td>0.204798</td>\n",
       "      <td>0.204798</td>\n",
       "    </tr>\n",
       "    <tr>\n",
       "      <th>11</th>\n",
       "      <td>20</td>\n",
       "      <td>gen_model</td>\n",
       "      <td>0.646080</td>\n",
       "      <td>0.000000</td>\n",
       "      <td>0.149799</td>\n",
       "      <td>0.000000</td>\n",
       "      <td>50</td>\n",
       "      <td>0.646080</td>\n",
       "      <td>0.646080</td>\n",
       "      <td>0.149799</td>\n",
       "      <td>0.149799</td>\n",
       "    </tr>\n",
       "  </tbody>\n",
       "</table>\n",
       "</div>"
      ],
      "text/plain": [
       "    lf_num       model  auroc_mean  auroc_std  aupr_mean  aupr_std  \\\n",
       "0        0  disc_model    0.557143   0.000000   0.161955  0.000000   \n",
       "1        0   gen_model    0.621242   0.000000   0.159903  0.000000   \n",
       "2        1  disc_model    0.577569   0.033096   0.155220  0.029715   \n",
       "3        1   gen_model    0.637148   0.012431   0.153833  0.008203   \n",
       "4        6  disc_model    0.645497   0.028264   0.194277  0.028552   \n",
       "5        6   gen_model    0.653668   0.022557   0.153597  0.013935   \n",
       "6       11  disc_model    0.658014   0.022194   0.211980  0.031886   \n",
       "7       11   gen_model    0.654627   0.019873   0.156752  0.012999   \n",
       "8       16  disc_model    0.648718   0.018281   0.200282  0.027938   \n",
       "9       16   gen_model    0.650839   0.012625   0.156090  0.013030   \n",
       "10      20  disc_model    0.623688   0.000000   0.204798  0.000000   \n",
       "11      20   gen_model    0.646080   0.000000   0.149799  0.000000   \n",
       "\n",
       "    lf_num_len  auroc_upper  auroc_lower  aupr_upper  aupr_lower  \n",
       "0            1     0.557143     0.557143    0.161955    0.161955  \n",
       "1            1     0.621242     0.621242    0.159903    0.159903  \n",
       "2           50     0.586742     0.568395    0.163457    0.146984  \n",
       "3           50     0.640594     0.633703    0.156106    0.151559  \n",
       "4           50     0.653331     0.637663    0.202191    0.186363  \n",
       "5           50     0.659920     0.647416    0.157460    0.149735  \n",
       "6           50     0.664165     0.651862    0.220818    0.203142  \n",
       "7           50     0.660136     0.649119    0.160355    0.153149  \n",
       "8           49     0.653836     0.643599    0.208104    0.192460  \n",
       "9           50     0.654339     0.647340    0.159702    0.152478  \n",
       "10           1     0.623688     0.623688    0.204798    0.204798  \n",
       "11          50     0.646080     0.646080    0.149799    0.149799  "
      ]
     },
     "execution_count": 8,
     "metadata": {},
     "output_type": "execute_result"
    }
   ],
   "source": [
    "dev_set_stats_df = (\n",
    "    dev_set_df\n",
    "    .groupby([\"lf_num\", \"model\"])\n",
    "    .agg({\n",
    "    \"auroc\": ['mean', 'std'],\n",
    "    \"aupr\": ['mean', 'std'],\n",
    "    \"lf_num\": len\n",
    "    })\n",
    "    .reset_index()\n",
    "    .fillna(0)\n",
    ")\n",
    "dev_set_stats_df.columns = [\n",
    "    \"_\".join(col) \n",
    "    if col[1] != '' and col[0] not in ['hetionet', 'gene_symbol', 'doid_name', 'split'] else col[0] \n",
    "    for col in dev_set_stats_df.columns.values\n",
    "]\n",
    "\n",
    "critical_val = ss.norm.ppf(0.975)\n",
    "\n",
    "dev_set_stats_df = (\n",
    "    dev_set_stats_df\n",
    "    .assign(\n",
    "        **{\n",
    "            'auroc_upper': lambda x: x.auroc_mean + (critical_val * x.auroc_std)/pd.np.sqrt(x.lf_num_len),\n",
    "            'auroc_lower': lambda x: x.auroc_mean - (critical_val * x.auroc_std)/pd.np.sqrt(x.lf_num_len),\n",
    "            'aupr_upper': lambda x: x.aupr_mean + (critical_val * x.aupr_std)/pd.np.sqrt(x.lf_num_len),\n",
    "            'aupr_lower': lambda x: x.aupr_mean - (critical_val * x.aupr_std)/pd.np.sqrt(x.lf_num_len)\n",
    "        }\n",
    "    )\n",
    ")\n",
    "dev_set_stats_df"
   ]
  },
  {
   "cell_type": "code",
   "execution_count": 9,
   "metadata": {
    "ExecuteTime": {
     "end_time": "2019-12-12T18:23:47.613507Z",
     "start_time": "2019-12-12T18:23:46.996964Z"
    }
   },
   "outputs": [
    {
     "name": "stderr",
     "output_type": "stream",
     "text": [
      "/home/danich1/anaconda3/envs/snorkeling/lib/python3.6/site-packages/plotnine/scales/scale.py:93: MatplotlibDeprecationWarning: \n",
      "The iterable function was deprecated in Matplotlib 3.1 and will be removed in 3.3. Use np.iterable instead.\n",
      "  if cbook.iterable(self.breaks) and cbook.iterable(self.labels):\n",
      "/home/danich1/anaconda3/envs/snorkeling/lib/python3.6/site-packages/plotnine/utils.py:553: MatplotlibDeprecationWarning: \n",
      "The iterable function was deprecated in Matplotlib 3.1 and will be removed in 3.3. Use np.iterable instead.\n",
      "  return cbook.iterable(var) and not is_string(var)\n"
     ]
    },
    {
     "data": {
      "image/png": "[encoded data removed]",
      "text/plain": [
       "<Figure size 640x480 with 1 Axes>"
      ]
     },
     "metadata": {},
     "output_type": "display_data"
    },
    {
     "data": {
      "text/plain": [
       "<ggplot: (8774358155279)>"
      ]
     },
     "execution_count": 9,
     "metadata": {},
     "output_type": "execute_result"
    }
   ],
   "source": [
    "(\n",
    "    p9.ggplot(dev_set_stats_df, p9.aes(x=\"factor(lf_num)\", y=\"auroc_mean\", color=\"model\"))\n",
    "    + p9.geom_point()\n",
    "    + p9.geom_line(p9.aes(group=\"model\"))\n",
    "    + p9.geom_errorbar(p9.aes(ymin=\"auroc_lower\", ymax=\"auroc_upper\", group=\"model\"))\n",
    "    + p9.theme_seaborn()\n",
    "    + p9.labs(\n",
    "        title= \"CbG Tune Set AUROC\",\n",
    "        color=\"Model\"\n",
    "    )\n",
    "    + p9.scale_color_manual({\n",
    "        \"disc_model\": \"blue\",\n",
    "        \"gen_model\": \"orange\"\n",
    "    })\n",
    ")"
   ]
  },
  {
   "cell_type": "code",
   "execution_count": 10,
   "metadata": {
    "ExecuteTime": {
     "end_time": "2019-12-12T18:23:48.175159Z",
     "start_time": "2019-12-12T18:23:47.615015Z"
    }
   },
   "outputs": [
    {
     "name": "stderr",
     "output_type": "stream",
     "text": [
      "/home/danich1/anaconda3/envs/snorkeling/lib/python3.6/site-packages/plotnine/scales/scale.py:93: MatplotlibDeprecationWarning: \n",
      "The iterable function was deprecated in Matplotlib 3.1 and will be removed in 3.3. Use np.iterable instead.\n",
      "  if cbook.iterable(self.breaks) and cbook.iterable(self.labels):\n",
      "/home/danich1/anaconda3/envs/snorkeling/lib/python3.6/site-packages/plotnine/utils.py:553: MatplotlibDeprecationWarning: \n",
      "The iterable function was deprecated in Matplotlib 3.1 and will be removed in 3.3. Use np.iterable instead.\n",
      "  return cbook.iterable(var) and not is_string(var)\n"
     ]
    },
    {
     "data": {
      "image/png": "[encoded data removed]",
      "text/plain": [
       "<Figure size 640x480 with 1 Axes>"
      ]
     },
     "metadata": {},
     "output_type": "display_data"
    },
    {
     "data": {
      "text/plain": [
       "<ggplot: (-9223363262541963618)>"
      ]
     },
     "execution_count": 10,
     "metadata": {},
     "output_type": "execute_result"
    }
   ],
   "source": [
    "(\n",
    "    p9.ggplot(dev_set_stats_df, p9.aes(x=\"factor(lf_num)\", y=\"aupr_mean\", color=\"model\"))\n",
    "    + p9.geom_point()\n",
    "    + p9.geom_line(p9.aes(group=\"model\"))\n",
    "    + p9.geom_errorbar(p9.aes(ymin=\"aupr_lower\", ymax=\"aupr_upper\", group=\"model\"))\n",
    "    + p9.theme_seaborn()\n",
    "    + p9.labs(\n",
    "        title= \"CbG Tune Set AUPR\",\n",
    "        color=\"Model\"\n",
    "    )\n",
    "    + p9.scale_color_manual({\n",
    "        \"disc_model\": \"blue\",\n",
    "        \"gen_model\": \"orange\"\n",
    "    })\n",
    ")"
   ]
  },
  {
   "cell_type": "code",
   "execution_count": 11,
   "metadata": {
    "ExecuteTime": {
     "end_time": "2019-12-12T18:23:48.182894Z",
     "start_time": "2019-12-12T18:23:48.176624Z"
    }
   },
   "outputs": [],
   "source": [
    "dev_set_df.to_csv(\"output/dev_set_disc_performance.tsv\", sep=\"\\t\", index=False)"
   ]
  },
  {
   "cell_type": "markdown",
   "metadata": {},
   "source": [
    "##  Precision-Recall Improvement over Generative Model"
   ]
  },
  {
   "cell_type": "code",
   "execution_count": 12,
   "metadata": {
    "ExecuteTime": {
     "end_time": "2019-12-12T18:23:48.330796Z",
     "start_time": "2019-12-12T18:23:48.183999Z"
    }
   },
   "outputs": [],
   "source": [
    "gen_predicton = (\n",
    "    pd.read_csv(\n",
    "        \"../label_sampling_experiment/results/CbG/marginals/tune/20_sampled_dev.tsv\",\n",
    "        sep=\"\\t\"\n",
    "    )\n",
    "    .assign(candidate_id=candidate_df.candidate_id.values.tolist())\n",
    "    .query(f\"candidate_id in {disc_model_dict[value].candidate_id.values.tolist()}\")\n",
    "    .iloc[:,0]\n",
    ")"
   ]
  },
  {
   "cell_type": "code",
   "execution_count": 13,
   "metadata": {
    "ExecuteTime": {
     "end_time": "2019-12-12T18:23:48.383835Z",
     "start_time": "2019-12-12T18:23:48.332232Z"
    }
   },
   "outputs": [],
   "source": [
    "disc_precision, disc_recall, _ = precision_recall_curve(\n",
    "    candidate_df\n",
    "    .query(f\"candidate_id in {disc_model_dict[value].candidate_id.values.tolist()}\")\n",
    "    .curated_cbg\n",
    "    .values, \n",
    "    disc_model_dict[20]['0']\n",
    ")\n",
    "\n",
    "gen_precision, gen_recall, _ = precision_recall_curve(\n",
    "    candidate_df\n",
    "    .query(f\"candidate_id in {disc_model_dict[value].candidate_id.values.tolist()}\")\n",
    "    .curated_cbg\n",
    "    .values,\n",
    "    gen_predicton\n",
    ")"
   ]
  },
  {
   "cell_type": "code",
   "execution_count": 14,
   "metadata": {
    "ExecuteTime": {
     "end_time": "2019-12-12T18:23:48.447930Z",
     "start_time": "2019-12-12T18:23:48.384984Z"
    }
   },
   "outputs": [],
   "source": [
    "pr_perform_df = (\n",
    "    pd.DataFrame(\n",
    "        {'precision':gen_precision, 'recall':gen_recall}\n",
    "    )\n",
    "    .assign(model='gen_model')\n",
    "    .append(\n",
    "        pd.DataFrame(\n",
    "            {'precision':disc_precision, 'recall':disc_recall}\n",
    "        )\n",
    "        .assign(model='disc_model')\n",
    "    )\n",
    ")"
   ]
  },
  {
   "cell_type": "code",
   "execution_count": 15,
   "metadata": {
    "ExecuteTime": {
     "end_time": "2019-12-12T18:23:48.899938Z",
     "start_time": "2019-12-12T18:23:48.454906Z"
    }
   },
   "outputs": [
    {
     "name": "stderr",
     "output_type": "stream",
     "text": [
      "/home/danich1/anaconda3/envs/snorkeling/lib/python3.6/site-packages/plotnine/scales/scale.py:93: MatplotlibDeprecationWarning: \n",
      "The iterable function was deprecated in Matplotlib 3.1 and will be removed in 3.3. Use np.iterable instead.\n",
      "  if cbook.iterable(self.breaks) and cbook.iterable(self.labels):\n",
      "/home/danich1/anaconda3/envs/snorkeling/lib/python3.6/site-packages/plotnine/utils.py:553: MatplotlibDeprecationWarning: \n",
      "The iterable function was deprecated in Matplotlib 3.1 and will be removed in 3.3. Use np.iterable instead.\n",
      "  return cbook.iterable(var) and not is_string(var)\n"
     ]
    },
    {
     "data": {
      "image/png": "[encoded data removed]",
      "text/plain": [
       "<Figure size 640x480 with 1 Axes>"
      ]
     },
     "metadata": {},
     "output_type": "display_data"
    },
    {
     "data": {
      "text/plain": [
       "<ggplot: (8774312404807)>"
      ]
     },
     "execution_count": 15,
     "metadata": {},
     "output_type": "execute_result"
    }
   ],
   "source": [
    "(\n",
    "    p9.ggplot(pr_perform_df, p9.aes(x=\"recall\", y=\"precision\", color=\"factor(model)\")) +\n",
    "    p9.geom_point()+ \n",
    "    p9.geom_line() + \n",
    "    p9.labs(\n",
    "        title= \"Validation PR Curve\",\n",
    "        color=\"Model\"\n",
    "    )+\n",
    "    p9.scale_color_discrete(l=.4)+\n",
    "    p9.theme_seaborn()\n",
    ")"
   ]
  },
  {
   "cell_type": "code",
   "execution_count": 16,
   "metadata": {
    "ExecuteTime": {
     "end_time": "2019-12-12T18:23:48.916024Z",
     "start_time": "2019-12-12T18:23:48.901457Z"
    }
   },
   "outputs": [
    {
     "data": {
      "text/plain": [
       "(0.136, 0.4857142857142857, 0.21250000000000002, None)"
      ]
     },
     "execution_count": 16,
     "metadata": {},
     "output_type": "execute_result"
    }
   ],
   "source": [
    "precision_recall_fscore_support(\n",
    "    candidate_df\n",
    "    .query(f\"candidate_id in {disc_model_dict[value].candidate_id.values.tolist()}\")\n",
    "    .curated_cbg\n",
    "    .values, \n",
    "    gen_predicton.apply(lambda x: 1 if x > 0.5 else 0),\n",
    "    average='binary'\n",
    ")"
   ]
  },
  {
   "cell_type": "code",
   "execution_count": 17,
   "metadata": {
    "ExecuteTime": {
     "end_time": "2019-12-12T18:23:48.944928Z",
     "start_time": "2019-12-12T18:23:48.918859Z"
    }
   },
   "outputs": [
    {
     "data": {
      "text/plain": [
       "(0.28205128205128205, 0.3142857142857143, 0.29729729729729726, None)"
      ]
     },
     "execution_count": 17,
     "metadata": {},
     "output_type": "execute_result"
    }
   ],
   "source": [
    "precision_recall_fscore_support(\n",
    "    candidate_df\n",
    "    .query(f\"candidate_id in {disc_model_dict[value].candidate_id.values.tolist()}\")\n",
    "    .curated_cbg\n",
    "    .values, \n",
    "    disc_model_dict[20]['0'].apply(lambda x: 1 if x > 0.5 else 0),\n",
    "    average='binary'\n",
    ")"
   ]
  },
  {
   "cell_type": "code",
   "execution_count": 18,
   "metadata": {
    "ExecuteTime": {
     "end_time": "2019-12-12T18:23:48.956012Z",
     "start_time": "2019-12-12T18:23:48.946305Z"
    }
   },
   "outputs": [],
   "source": [
    "pr_perform_df.to_csv(\"output/dev_set_pr_performance.tsv\", sep=\"\\t\", index=False)"
   ]
  },
  {
   "cell_type": "markdown",
   "metadata": {},
   "source": [
    "# Test Set"
   ]
  },
  {
   "cell_type": "markdown",
   "metadata": {},
   "source": [
    "## Performance of Disc model vs Gen model for each Label Sample"
   ]
  },
  {
   "cell_type": "code",
   "execution_count": 19,
   "metadata": {
    "ExecuteTime": {
     "end_time": "2019-12-12T18:23:48.989348Z",
     "start_time": "2019-12-12T18:23:48.959333Z"
    },
    "scrolled": true
   },
   "outputs": [
    {
     "data": {
      "text/html": [
       "<div>\n",
       "<style scoped>\n",
       "    .dataframe tbody tr th:only-of-type {\n",
       "        vertical-align: middle;\n",
       "    }\n",
       "\n",
       "    .dataframe tbody tr th {\n",
       "        vertical-align: top;\n",
       "    }\n",
       "\n",
       "    .dataframe thead th {\n",
       "        text-align: right;\n",
       "    }\n",
       "</style>\n",
       "<table border=\"1\" class=\"dataframe\">\n",
       "  <thead>\n",
       "    <tr style=\"text-align: right;\">\n",
       "      <th></th>\n",
       "      <th>candidate_id</th>\n",
       "      <th>curated_cbg</th>\n",
       "    </tr>\n",
       "  </thead>\n",
       "  <tbody>\n",
       "    <tr>\n",
       "      <th>0</th>\n",
       "      <td>50759</td>\n",
       "      <td>0.0</td>\n",
       "    </tr>\n",
       "    <tr>\n",
       "      <th>1</th>\n",
       "      <td>51021</td>\n",
       "      <td>0.0</td>\n",
       "    </tr>\n",
       "    <tr>\n",
       "      <th>2</th>\n",
       "      <td>51223</td>\n",
       "      <td>0.0</td>\n",
       "    </tr>\n",
       "    <tr>\n",
       "      <th>3</th>\n",
       "      <td>51474</td>\n",
       "      <td>0.0</td>\n",
       "    </tr>\n",
       "    <tr>\n",
       "      <th>4</th>\n",
       "      <td>51485</td>\n",
       "      <td>0.0</td>\n",
       "    </tr>\n",
       "  </tbody>\n",
       "</table>\n",
       "</div>"
      ],
      "text/plain": [
       "   candidate_id  curated_cbg\n",
       "0         50759          0.0\n",
       "1         51021          0.0\n",
       "2         51223          0.0\n",
       "3         51474          0.0\n",
       "4         51485          0.0"
      ]
     },
     "execution_count": 19,
     "metadata": {},
     "output_type": "execute_result"
    }
   ],
   "source": [
    "test_labels = pd.read_csv(\"input/cbg_test_labels.tsv\", sep=\"\\t\")\n",
    "test_labels.head()"
   ]
  },
  {
   "cell_type": "code",
   "execution_count": 20,
   "metadata": {
    "ExecuteTime": {
     "end_time": "2019-12-12T18:23:49.636432Z",
     "start_time": "2019-12-12T18:23:48.992922Z"
    },
    "scrolled": false
   },
   "outputs": [
    {
     "data": {
      "text/html": [
       "<div>\n",
       "<style scoped>\n",
       "    .dataframe tbody tr th:only-of-type {\n",
       "        vertical-align: middle;\n",
       "    }\n",
       "\n",
       "    .dataframe tbody tr th {\n",
       "        vertical-align: top;\n",
       "    }\n",
       "\n",
       "    .dataframe thead th {\n",
       "        text-align: right;\n",
       "    }\n",
       "</style>\n",
       "<table border=\"1\" class=\"dataframe\">\n",
       "  <thead>\n",
       "    <tr style=\"text-align: right;\">\n",
       "      <th></th>\n",
       "      <th>candidate_id</th>\n",
       "      <th>compound</th>\n",
       "      <th>gene</th>\n",
       "      <th>drugbank_id</th>\n",
       "      <th>entrez_gene_id</th>\n",
       "      <th>sentence</th>\n",
       "      <th>curated_cbg</th>\n",
       "      <th>notes_cbg</th>\n",
       "      <th>curated_cdg</th>\n",
       "      <th>notes_cdg</th>\n",
       "      <th>curated_cug</th>\n",
       "      <th>notes_cug</th>\n",
       "    </tr>\n",
       "  </thead>\n",
       "  <tbody>\n",
       "    <tr>\n",
       "      <th>31</th>\n",
       "      <td>50759</td>\n",
       "      <td>arginine</td>\n",
       "      <td>C5a</td>\n",
       "      <td>DB04027</td>\n",
       "      <td>728</td>\n",
       "      <td>the spasmogenic , tachyphylactic , and vascula...</td>\n",
       "      <td>0.0</td>\n",
       "      <td>NaN</td>\n",
       "      <td>0.0</td>\n",
       "      <td>NaN</td>\n",
       "      <td>0.0</td>\n",
       "      <td>NaN</td>\n",
       "    </tr>\n",
       "    <tr>\n",
       "      <th>32</th>\n",
       "      <td>51021</td>\n",
       "      <td>bicarbonate</td>\n",
       "      <td>transferrin</td>\n",
       "      <td>DB01390</td>\n",
       "      <td>7018</td>\n",
       "      <td>in an attempt to imitate conditions in the inf...</td>\n",
       "      <td>0.0</td>\n",
       "      <td>NaN</td>\n",
       "      <td>0.0</td>\n",
       "      <td>NaN</td>\n",
       "      <td>0.0</td>\n",
       "      <td>NaN</td>\n",
       "    </tr>\n",
       "    <tr>\n",
       "      <th>33</th>\n",
       "      <td>51223</td>\n",
       "      <td>apomorphine</td>\n",
       "      <td>GH</td>\n",
       "      <td>DB00714</td>\n",
       "      <td>2688</td>\n",
       "      <td>injection of ~~[[1 apomorphine 1]]~~ 0.75 mg e...</td>\n",
       "      <td>0.0</td>\n",
       "      <td>NaN</td>\n",
       "      <td>0.0</td>\n",
       "      <td>NaN</td>\n",
       "      <td>1.0</td>\n",
       "      <td>NaN</td>\n",
       "    </tr>\n",
       "    <tr>\n",
       "      <th>34</th>\n",
       "      <td>51474</td>\n",
       "      <td>arachidonate</td>\n",
       "      <td>Catalase</td>\n",
       "      <td>DB04557</td>\n",
       "      <td>847</td>\n",
       "      <td>~~[[2 catalase 2]]~~ diminished the absorbance...</td>\n",
       "      <td>0.0</td>\n",
       "      <td>NaN</td>\n",
       "      <td>0.0</td>\n",
       "      <td>NaN</td>\n",
       "      <td>0.0</td>\n",
       "      <td>NaN</td>\n",
       "    </tr>\n",
       "    <tr>\n",
       "      <th>35</th>\n",
       "      <td>51485</td>\n",
       "      <td>methylphenidate</td>\n",
       "      <td>growth hormone</td>\n",
       "      <td>DB00422</td>\n",
       "      <td>2688</td>\n",
       "      <td>intravenously administered ~~[[1 methylphenida...</td>\n",
       "      <td>0.0</td>\n",
       "      <td>NaN</td>\n",
       "      <td>0.0</td>\n",
       "      <td>NaN</td>\n",
       "      <td>1.0</td>\n",
       "      <td>NaN</td>\n",
       "    </tr>\n",
       "  </tbody>\n",
       "</table>\n",
       "</div>"
      ],
      "text/plain": [
       "    candidate_id         compound            gene drugbank_id  entrez_gene_id  \\\n",
       "31         50759         arginine             C5a     DB04027             728   \n",
       "32         51021      bicarbonate     transferrin     DB01390            7018   \n",
       "33         51223      apomorphine              GH     DB00714            2688   \n",
       "34         51474     arachidonate        Catalase     DB04557             847   \n",
       "35         51485  methylphenidate  growth hormone     DB00422            2688   \n",
       "\n",
       "                                             sentence  curated_cbg notes_cbg  \\\n",
       "31  the spasmogenic , tachyphylactic , and vascula...          0.0       NaN   \n",
       "32  in an attempt to imitate conditions in the inf...          0.0       NaN   \n",
       "33  injection of ~~[[1 apomorphine 1]]~~ 0.75 mg e...          0.0       NaN   \n",
       "34  ~~[[2 catalase 2]]~~ diminished the absorbance...          0.0       NaN   \n",
       "35  intravenously administered ~~[[1 methylphenida...          0.0       NaN   \n",
       "\n",
       "    curated_cdg notes_cdg  curated_cug notes_cug  \n",
       "31          0.0       NaN          0.0       NaN  \n",
       "32          0.0       NaN          0.0       NaN  \n",
       "33          0.0       NaN          1.0       NaN  \n",
       "34          0.0       NaN          0.0       NaN  \n",
       "35          0.0       NaN          1.0       NaN  "
      ]
     },
     "execution_count": 20,
     "metadata": {},
     "output_type": "execute_result"
    }
   ],
   "source": [
    "candidate_df = (\n",
    "    pd.read_excel(\"../data/sentences/sentence_labels_test.xlsx\")\n",
    "    .sort_values(\"candidate_id\")\n",
    "    .query(\"curated_cbg.notnull()\")\n",
    ")\n",
    "candidate_df.head()"
   ]
  },
  {
   "cell_type": "code",
   "execution_count": 21,
   "metadata": {
    "ExecuteTime": {
     "end_time": "2019-12-12T18:23:49.643021Z",
     "start_time": "2019-12-12T18:23:49.637924Z"
    }
   },
   "outputs": [],
   "source": [
    "gen_model_results_test_df = pd.read_csv(\n",
    "    \"../label_sampling_experiment/results/CbG/results/test_sampled_results.tsv\", \n",
    "    sep=\"\\t\"\n",
    ")"
   ]
  },
  {
   "cell_type": "code",
   "execution_count": 22,
   "metadata": {
    "ExecuteTime": {
     "end_time": "2019-12-12T18:23:49.698965Z",
     "start_time": "2019-12-12T18:23:49.644268Z"
    }
   },
   "outputs": [],
   "source": [
    "disc_model_dict = {}\n",
    "\n",
    "for value in gen_model_results_test_df.lf_num.unique():\n",
    "\n",
    "    disc_model_dict[value] = (\n",
    "        pd.read_csv(f\"input/disc_model_run/{value}/test.tsv\", sep=\"\\t\")\n",
    "    )"
   ]
  },
  {
   "cell_type": "code",
   "execution_count": 23,
   "metadata": {
    "ExecuteTime": {
     "end_time": "2019-12-12T18:23:51.552802Z",
     "start_time": "2019-12-12T18:23:49.702267Z"
    }
   },
   "outputs": [],
   "source": [
    "records = []\n",
    "for sample in disc_model_dict:\n",
    "        for column in disc_model_dict[sample].drop(\"candidate_id\", axis=1).columns:\n",
    "            aucs = get_au_performance(\n",
    "                disc_model_dict[sample][column],\n",
    "                candidate_df\n",
    "                .query(f\"candidate_id in {disc_model_dict[value].candidate_id.values.tolist()}\")\n",
    "                .curated_cbg\n",
    "                .values\n",
    "            )\n",
    "            records.append({\n",
    "                \"model\": \"disc_model\",\n",
    "                \"lf_num\": int(sample),\n",
    "                \"auroc\": aucs[0],\n",
    "                \"aupr\": aucs[1]\n",
    "            })\n",
    "\n",
    "test_set_df = (\n",
    "    pd.DataFrame.from_records(records)\n",
    "    .append(\n",
    "        gen_model_results_test_df\n",
    "        .drop(\"lf_sample\", axis=1)\n",
    "        .assign(model=\"gen_model\")\n",
    "    )\n",
    ")"
   ]
  },
  {
   "cell_type": "code",
   "execution_count": 24,
   "metadata": {
    "ExecuteTime": {
     "end_time": "2019-12-12T18:23:51.594997Z",
     "start_time": "2019-12-12T18:23:51.555072Z"
    }
   },
   "outputs": [
    {
     "data": {
      "text/html": [
       "<div>\n",
       "<style scoped>\n",
       "    .dataframe tbody tr th:only-of-type {\n",
       "        vertical-align: middle;\n",
       "    }\n",
       "\n",
       "    .dataframe tbody tr th {\n",
       "        vertical-align: top;\n",
       "    }\n",
       "\n",
       "    .dataframe thead th {\n",
       "        text-align: right;\n",
       "    }\n",
       "</style>\n",
       "<table border=\"1\" class=\"dataframe\">\n",
       "  <thead>\n",
       "    <tr style=\"text-align: right;\">\n",
       "      <th></th>\n",
       "      <th>lf_num</th>\n",
       "      <th>model</th>\n",
       "      <th>auroc_mean</th>\n",
       "      <th>auroc_std</th>\n",
       "      <th>aupr_mean</th>\n",
       "      <th>aupr_std</th>\n",
       "      <th>lf_num_len</th>\n",
       "      <th>auroc_upper</th>\n",
       "      <th>auroc_lower</th>\n",
       "      <th>aupr_upper</th>\n",
       "      <th>aupr_lower</th>\n",
       "    </tr>\n",
       "  </thead>\n",
       "  <tbody>\n",
       "    <tr>\n",
       "      <th>0</th>\n",
       "      <td>0</td>\n",
       "      <td>disc_model</td>\n",
       "      <td>0.675579</td>\n",
       "      <td>0.000000</td>\n",
       "      <td>0.172155</td>\n",
       "      <td>0.000000</td>\n",
       "      <td>1</td>\n",
       "      <td>0.675579</td>\n",
       "      <td>0.675579</td>\n",
       "      <td>0.172155</td>\n",
       "      <td>0.172155</td>\n",
       "    </tr>\n",
       "    <tr>\n",
       "      <th>1</th>\n",
       "      <td>0</td>\n",
       "      <td>gen_model</td>\n",
       "      <td>0.781794</td>\n",
       "      <td>0.000000</td>\n",
       "      <td>0.290519</td>\n",
       "      <td>0.000000</td>\n",
       "      <td>1</td>\n",
       "      <td>0.781794</td>\n",
       "      <td>0.781794</td>\n",
       "      <td>0.290519</td>\n",
       "      <td>0.290519</td>\n",
       "    </tr>\n",
       "    <tr>\n",
       "      <th>2</th>\n",
       "      <td>1</td>\n",
       "      <td>disc_model</td>\n",
       "      <td>0.733218</td>\n",
       "      <td>0.063287</td>\n",
       "      <td>0.270612</td>\n",
       "      <td>0.066048</td>\n",
       "      <td>50</td>\n",
       "      <td>0.750760</td>\n",
       "      <td>0.715676</td>\n",
       "      <td>0.288919</td>\n",
       "      <td>0.252304</td>\n",
       "    </tr>\n",
       "    <tr>\n",
       "      <th>3</th>\n",
       "      <td>1</td>\n",
       "      <td>gen_model</td>\n",
       "      <td>0.798452</td>\n",
       "      <td>0.026770</td>\n",
       "      <td>0.297640</td>\n",
       "      <td>0.023525</td>\n",
       "      <td>50</td>\n",
       "      <td>0.805872</td>\n",
       "      <td>0.791032</td>\n",
       "      <td>0.304160</td>\n",
       "      <td>0.291119</td>\n",
       "    </tr>\n",
       "    <tr>\n",
       "      <th>4</th>\n",
       "      <td>6</td>\n",
       "      <td>disc_model</td>\n",
       "      <td>0.772962</td>\n",
       "      <td>0.065993</td>\n",
       "      <td>0.269515</td>\n",
       "      <td>0.076281</td>\n",
       "      <td>50</td>\n",
       "      <td>0.791254</td>\n",
       "      <td>0.754670</td>\n",
       "      <td>0.290659</td>\n",
       "      <td>0.248372</td>\n",
       "    </tr>\n",
       "    <tr>\n",
       "      <th>5</th>\n",
       "      <td>6</td>\n",
       "      <td>gen_model</td>\n",
       "      <td>0.824432</td>\n",
       "      <td>0.031799</td>\n",
       "      <td>0.337325</td>\n",
       "      <td>0.042769</td>\n",
       "      <td>50</td>\n",
       "      <td>0.833246</td>\n",
       "      <td>0.815618</td>\n",
       "      <td>0.349179</td>\n",
       "      <td>0.325470</td>\n",
       "    </tr>\n",
       "    <tr>\n",
       "      <th>6</th>\n",
       "      <td>11</td>\n",
       "      <td>disc_model</td>\n",
       "      <td>0.814206</td>\n",
       "      <td>0.044134</td>\n",
       "      <td>0.284392</td>\n",
       "      <td>0.056185</td>\n",
       "      <td>50</td>\n",
       "      <td>0.826439</td>\n",
       "      <td>0.801973</td>\n",
       "      <td>0.299966</td>\n",
       "      <td>0.268819</td>\n",
       "    </tr>\n",
       "    <tr>\n",
       "      <th>7</th>\n",
       "      <td>11</td>\n",
       "      <td>gen_model</td>\n",
       "      <td>0.829764</td>\n",
       "      <td>0.023847</td>\n",
       "      <td>0.340859</td>\n",
       "      <td>0.034434</td>\n",
       "      <td>50</td>\n",
       "      <td>0.836374</td>\n",
       "      <td>0.823154</td>\n",
       "      <td>0.350404</td>\n",
       "      <td>0.331315</td>\n",
       "    </tr>\n",
       "    <tr>\n",
       "      <th>8</th>\n",
       "      <td>16</td>\n",
       "      <td>disc_model</td>\n",
       "      <td>0.819893</td>\n",
       "      <td>0.032295</td>\n",
       "      <td>0.276349</td>\n",
       "      <td>0.042852</td>\n",
       "      <td>49</td>\n",
       "      <td>0.828935</td>\n",
       "      <td>0.810850</td>\n",
       "      <td>0.288347</td>\n",
       "      <td>0.264351</td>\n",
       "    </tr>\n",
       "    <tr>\n",
       "      <th>9</th>\n",
       "      <td>16</td>\n",
       "      <td>gen_model</td>\n",
       "      <td>0.823436</td>\n",
       "      <td>0.018199</td>\n",
       "      <td>0.321312</td>\n",
       "      <td>0.029762</td>\n",
       "      <td>50</td>\n",
       "      <td>0.828480</td>\n",
       "      <td>0.818391</td>\n",
       "      <td>0.329561</td>\n",
       "      <td>0.313062</td>\n",
       "    </tr>\n",
       "    <tr>\n",
       "      <th>10</th>\n",
       "      <td>20</td>\n",
       "      <td>disc_model</td>\n",
       "      <td>0.820090</td>\n",
       "      <td>0.000000</td>\n",
       "      <td>0.245583</td>\n",
       "      <td>0.000000</td>\n",
       "      <td>1</td>\n",
       "      <td>0.820090</td>\n",
       "      <td>0.820090</td>\n",
       "      <td>0.245583</td>\n",
       "      <td>0.245583</td>\n",
       "    </tr>\n",
       "    <tr>\n",
       "      <th>11</th>\n",
       "      <td>20</td>\n",
       "      <td>gen_model</td>\n",
       "      <td>0.818041</td>\n",
       "      <td>0.000000</td>\n",
       "      <td>0.302931</td>\n",
       "      <td>0.000000</td>\n",
       "      <td>50</td>\n",
       "      <td>0.818041</td>\n",
       "      <td>0.818041</td>\n",
       "      <td>0.302931</td>\n",
       "      <td>0.302931</td>\n",
       "    </tr>\n",
       "  </tbody>\n",
       "</table>\n",
       "</div>"
      ],
      "text/plain": [
       "    lf_num       model  auroc_mean  auroc_std  aupr_mean  aupr_std  \\\n",
       "0        0  disc_model    0.675579   0.000000   0.172155  0.000000   \n",
       "1        0   gen_model    0.781794   0.000000   0.290519  0.000000   \n",
       "2        1  disc_model    0.733218   0.063287   0.270612  0.066048   \n",
       "3        1   gen_model    0.798452   0.026770   0.297640  0.023525   \n",
       "4        6  disc_model    0.772962   0.065993   0.269515  0.076281   \n",
       "5        6   gen_model    0.824432   0.031799   0.337325  0.042769   \n",
       "6       11  disc_model    0.814206   0.044134   0.284392  0.056185   \n",
       "7       11   gen_model    0.829764   0.023847   0.340859  0.034434   \n",
       "8       16  disc_model    0.819893   0.032295   0.276349  0.042852   \n",
       "9       16   gen_model    0.823436   0.018199   0.321312  0.029762   \n",
       "10      20  disc_model    0.820090   0.000000   0.245583  0.000000   \n",
       "11      20   gen_model    0.818041   0.000000   0.302931  0.000000   \n",
       "\n",
       "    lf_num_len  auroc_upper  auroc_lower  aupr_upper  aupr_lower  \n",
       "0            1     0.675579     0.675579    0.172155    0.172155  \n",
       "1            1     0.781794     0.781794    0.290519    0.290519  \n",
       "2           50     0.750760     0.715676    0.288919    0.252304  \n",
       "3           50     0.805872     0.791032    0.304160    0.291119  \n",
       "4           50     0.791254     0.754670    0.290659    0.248372  \n",
       "5           50     0.833246     0.815618    0.349179    0.325470  \n",
       "6           50     0.826439     0.801973    0.299966    0.268819  \n",
       "7           50     0.836374     0.823154    0.350404    0.331315  \n",
       "8           49     0.828935     0.810850    0.288347    0.264351  \n",
       "9           50     0.828480     0.818391    0.329561    0.313062  \n",
       "10           1     0.820090     0.820090    0.245583    0.245583  \n",
       "11          50     0.818041     0.818041    0.302931    0.302931  "
      ]
     },
     "execution_count": 24,
     "metadata": {},
     "output_type": "execute_result"
    }
   ],
   "source": [
    "test_set_stats_df = (\n",
    "    test_set_df\n",
    "    .groupby([\"lf_num\", \"model\"])\n",
    "    .agg({\n",
    "    \"auroc\": ['mean', 'std'],\n",
    "    \"aupr\": ['mean', 'std'],\n",
    "    \"lf_num\": len\n",
    "    })\n",
    "    .reset_index()\n",
    "    .fillna(0)\n",
    ")\n",
    "test_set_stats_df.columns = [\n",
    "    \"_\".join(col) \n",
    "    if col[1] != '' and col[0] not in ['hetionet', 'gene_symbol', 'doid_name', 'split'] else col[0] \n",
    "    for col in test_set_stats_df.columns.values\n",
    "]\n",
    "\n",
    "critical_val = ss.norm.ppf(0.975)\n",
    "\n",
    "test_set_stats_df = (\n",
    "    test_set_stats_df\n",
    "    .assign(\n",
    "        **{\n",
    "            'auroc_upper': lambda x: x.auroc_mean + (critical_val * x.auroc_std)/pd.np.sqrt(x.lf_num_len),\n",
    "            'auroc_lower': lambda x: x.auroc_mean - (critical_val * x.auroc_std)/pd.np.sqrt(x.lf_num_len),\n",
    "            'aupr_upper': lambda x: x.aupr_mean + (critical_val * x.aupr_std)/pd.np.sqrt(x.lf_num_len),\n",
    "            'aupr_lower':lambda x: x.aupr_mean - (critical_val * x.aupr_std)/pd.np.sqrt(x.lf_num_len)\n",
    "        }\n",
    "    )\n",
    ")\n",
    "test_set_stats_df"
   ]
  },
  {
   "cell_type": "code",
   "execution_count": 25,
   "metadata": {
    "ExecuteTime": {
     "end_time": "2019-12-12T18:23:52.229029Z",
     "start_time": "2019-12-12T18:23:51.596706Z"
    }
   },
   "outputs": [
    {
     "name": "stderr",
     "output_type": "stream",
     "text": [
      "/home/danich1/anaconda3/envs/snorkeling/lib/python3.6/site-packages/plotnine/scales/scale.py:93: MatplotlibDeprecationWarning: \n",
      "The iterable function was deprecated in Matplotlib 3.1 and will be removed in 3.3. Use np.iterable instead.\n",
      "  if cbook.iterable(self.breaks) and cbook.iterable(self.labels):\n",
      "/home/danich1/anaconda3/envs/snorkeling/lib/python3.6/site-packages/plotnine/utils.py:553: MatplotlibDeprecationWarning: \n",
      "The iterable function was deprecated in Matplotlib 3.1 and will be removed in 3.3. Use np.iterable instead.\n",
      "  return cbook.iterable(var) and not is_string(var)\n"
     ]
    },
    {
     "data": {
      "image/png": "[encoded data removed]",
      "text/plain": [
       "<Figure size 640x480 with 1 Axes>"
      ]
     },
     "metadata": {},
     "output_type": "display_data"
    },
    {
     "data": {
      "text/plain": [
       "<ggplot: (-9223363262542308222)>"
      ]
     },
     "execution_count": 25,
     "metadata": {},
     "output_type": "execute_result"
    }
   ],
   "source": [
    "(\n",
    "    p9.ggplot(test_set_stats_df, p9.aes(x=\"factor(lf_num)\", y=\"auroc_mean\", color=\"model\"))\n",
    "    + p9.geom_point()\n",
    "    + p9.geom_line(p9.aes(group=\"model\"))\n",
    "    + p9.geom_errorbar(p9.aes(ymin=\"auroc_lower\", ymax=\"auroc_upper\", group=\"model\"))\n",
    "    + p9.theme_seaborn()\n",
    "    + p9.labs(\n",
    "        title= \"CbG Test Set AUROC\",\n",
    "        color=\"Model\"\n",
    "    )\n",
    "    + p9.scale_color_manual({\n",
    "        \"disc_model\": \"blue\",\n",
    "        \"gen_model\": \"orange\"\n",
    "    })\n",
    ")"
   ]
  },
  {
   "cell_type": "code",
   "execution_count": 26,
   "metadata": {
    "ExecuteTime": {
     "end_time": "2019-12-12T18:23:52.899759Z",
     "start_time": "2019-12-12T18:23:52.230563Z"
    }
   },
   "outputs": [
    {
     "name": "stderr",
     "output_type": "stream",
     "text": [
      "/home/danich1/anaconda3/envs/snorkeling/lib/python3.6/site-packages/plotnine/scales/scale.py:93: MatplotlibDeprecationWarning: \n",
      "The iterable function was deprecated in Matplotlib 3.1 and will be removed in 3.3. Use np.iterable instead.\n",
      "  if cbook.iterable(self.breaks) and cbook.iterable(self.labels):\n",
      "/home/danich1/anaconda3/envs/snorkeling/lib/python3.6/site-packages/plotnine/utils.py:553: MatplotlibDeprecationWarning: \n",
      "The iterable function was deprecated in Matplotlib 3.1 and will be removed in 3.3. Use np.iterable instead.\n",
      "  return cbook.iterable(var) and not is_string(var)\n"
     ]
    },
    {
     "data": {
      "image/png": "[encoded data removed]",
      "text/plain": [
       "<Figure size 640x480 with 1 Axes>"
      ]
     },
     "metadata": {},
     "output_type": "display_data"
    },
    {
     "data": {
      "text/plain": [
       "<ggplot: (-9223363262542264134)>"
      ]
     },
     "execution_count": 26,
     "metadata": {},
     "output_type": "execute_result"
    }
   ],
   "source": [
    "(\n",
    "    p9.ggplot(test_set_stats_df, p9.aes(x=\"factor(lf_num)\", y=\"aupr_mean\", color=\"model\"))\n",
    "    + p9.geom_point()\n",
    "    + p9.geom_line(p9.aes(group=\"model\"))\n",
    "    + p9.geom_errorbar(p9.aes(ymin=\"aupr_lower\", ymax=\"aupr_upper\", group=\"model\"))\n",
    "    + p9.theme_seaborn()\n",
    "    + p9.labs(\n",
    "        title= \"CbG Test Set AUPR\",\n",
    "        color=\"Model\"\n",
    "    )\n",
    "    + p9.scale_color_manual({\n",
    "        \"disc_model\": \"blue\",\n",
    "        \"gen_model\": \"orange\"\n",
    "    })\n",
    ")"
   ]
  },
  {
   "cell_type": "code",
   "execution_count": 27,
   "metadata": {
    "ExecuteTime": {
     "end_time": "2019-12-12T18:23:52.911485Z",
     "start_time": "2019-12-12T18:23:52.900872Z"
    }
   },
   "outputs": [],
   "source": [
    "test_set_df.to_csv(\"output/test_set_disc_performance.tsv\", sep=\"\\t\", index=False)"
   ]
  },
  {
   "cell_type": "markdown",
   "metadata": {},
   "source": [
    "##  Precision-Recall Improvement over Generative Model"
   ]
  },
  {
   "cell_type": "code",
   "execution_count": 28,
   "metadata": {
    "ExecuteTime": {
     "end_time": "2019-12-12T18:23:52.953599Z",
     "start_time": "2019-12-12T18:23:52.913098Z"
    }
   },
   "outputs": [],
   "source": [
    "gen_predicton = (\n",
    "    pd.read_csv(\n",
    "        \"../label_sampling_experiment/results/CbG/marginals/test/20_sampled_test.tsv\",\n",
    "        sep=\"\\t\"\n",
    "    )\n",
    "    .assign(candidate_id=candidate_df.candidate_id.values.tolist())\n",
    "    .query(f\"candidate_id in {disc_model_dict[value].candidate_id.values.tolist()}\")\n",
    "    .iloc[:,0]\n",
    ")"
   ]
  },
  {
   "cell_type": "code",
   "execution_count": 29,
   "metadata": {
    "ExecuteTime": {
     "end_time": "2019-12-12T18:23:52.990260Z",
     "start_time": "2019-12-12T18:23:52.960207Z"
    }
   },
   "outputs": [],
   "source": [
    "disc_precision, disc_recall, _ = precision_recall_curve(\n",
    "    candidate_df\n",
    "    .query(f\"candidate_id in {disc_model_dict[value].candidate_id.values.tolist()}\")\n",
    "    .curated_cbg\n",
    "    .values, \n",
    "    disc_model_dict[20]['0']\n",
    ")\n",
    "gen_precision, gen_recall, _ = precision_recall_curve(\n",
    "    candidate_df\n",
    "    .query(f\"candidate_id in {disc_model_dict[value].candidate_id.values.tolist()}\")\n",
    "    .curated_cbg\n",
    "    .values,\n",
    "    gen_predicton\n",
    ")"
   ]
  },
  {
   "cell_type": "code",
   "execution_count": 30,
   "metadata": {
    "ExecuteTime": {
     "end_time": "2019-12-12T18:23:53.008971Z",
     "start_time": "2019-12-12T18:23:52.991547Z"
    }
   },
   "outputs": [],
   "source": [
    "pr_perform_df = (\n",
    "    pd.DataFrame(\n",
    "        {'precision':gen_precision, 'recall':gen_recall}\n",
    "    )\n",
    "    .assign(model='gen_model')\n",
    "    .append(\n",
    "        pd.DataFrame(\n",
    "            {'precision':disc_precision, 'recall':disc_recall}\n",
    "        )\n",
    "        .assign(model='disc_model')\n",
    "    )\n",
    ")"
   ]
  },
  {
   "cell_type": "code",
   "execution_count": 31,
   "metadata": {
    "ExecuteTime": {
     "end_time": "2019-12-12T18:23:53.498637Z",
     "start_time": "2019-12-12T18:23:53.010256Z"
    }
   },
   "outputs": [
    {
     "name": "stderr",
     "output_type": "stream",
     "text": [
      "/home/danich1/anaconda3/envs/snorkeling/lib/python3.6/site-packages/plotnine/scales/scale.py:93: MatplotlibDeprecationWarning: \n",
      "The iterable function was deprecated in Matplotlib 3.1 and will be removed in 3.3. Use np.iterable instead.\n",
      "  if cbook.iterable(self.breaks) and cbook.iterable(self.labels):\n",
      "/home/danich1/anaconda3/envs/snorkeling/lib/python3.6/site-packages/plotnine/utils.py:553: MatplotlibDeprecationWarning: \n",
      "The iterable function was deprecated in Matplotlib 3.1 and will be removed in 3.3. Use np.iterable instead.\n",
      "  return cbook.iterable(var) and not is_string(var)\n"
     ]
    },
    {
     "data": {
      "image/png": "[encoded data removed]",
      "text/plain": [
       "<Figure size 640x480 with 1 Axes>"
      ]
     },
     "metadata": {},
     "output_type": "display_data"
    },
    {
     "data": {
      "text/plain": [
       "<ggplot: (-9223363262542368887)>"
      ]
     },
     "execution_count": 31,
     "metadata": {},
     "output_type": "execute_result"
    }
   ],
   "source": [
    "(\n",
    "    p9.ggplot(pr_perform_df, p9.aes(x=\"recall\", y=\"precision\", color=\"factor(model)\")) +\n",
    "    p9.geom_point()+ \n",
    "    p9.geom_line() + \n",
    "    p9.labs(\n",
    "        title= \"Test PR Curve\",\n",
    "        color=\"Model\"\n",
    "    )+\n",
    "    p9.scale_color_discrete(l=.4)+\n",
    "    p9.theme_seaborn()\n",
    ")"
   ]
  },
  {
   "cell_type": "code",
   "execution_count": 32,
   "metadata": {
    "ExecuteTime": {
     "end_time": "2019-12-12T18:23:53.574371Z",
     "start_time": "2019-12-12T18:23:53.499805Z"
    }
   },
   "outputs": [
    {
     "data": {
      "text/plain": [
       "(0.14201183431952663, 0.8275862068965517, 0.24242424242424243, None)"
      ]
     },
     "execution_count": 32,
     "metadata": {},
     "output_type": "execute_result"
    }
   ],
   "source": [
    "precision_recall_fscore_support(\n",
    "    candidate_df\n",
    "    .query(f\"candidate_id in {disc_model_dict[value].candidate_id.values.tolist()}\")\n",
    "    .curated_cbg\n",
    "    .values, \n",
    "    gen_predicton.apply(lambda x: 1 if x > 0.5 else 0),\n",
    "    average='binary'\n",
    ")"
   ]
  },
  {
   "cell_type": "code",
   "execution_count": 33,
   "metadata": {
    "ExecuteTime": {
     "end_time": "2019-12-12T18:23:53.600393Z",
     "start_time": "2019-12-12T18:23:53.575610Z"
    }
   },
   "outputs": [
    {
     "data": {
      "text/plain": [
       "(0.21739130434782608, 0.6896551724137931, 0.3305785123966942, None)"
      ]
     },
     "execution_count": 33,
     "metadata": {},
     "output_type": "execute_result"
    }
   ],
   "source": [
    "precision_recall_fscore_support(\n",
    "    candidate_df\n",
    "    .query(f\"candidate_id in {disc_model_dict[value].candidate_id.values.tolist()}\")\n",
    "    .curated_cbg\n",
    "    .values, \n",
    "    disc_model_dict[20]['0'].apply(lambda x: 1 if x > 0.5 else 0),\n",
    "    average='binary'\n",
    ")"
   ]
  },
  {
   "cell_type": "code",
   "execution_count": 34,
   "metadata": {
    "ExecuteTime": {
     "end_time": "2019-12-12T18:23:53.609306Z",
     "start_time": "2019-12-12T18:23:53.601744Z"
    }
   },
   "outputs": [],
   "source": [
    "pr_perform_df.to_csv(\"output/test_set_pr_performance.tsv\", sep=\"\\t\", index=False)"
   ]
  }
 ],
 "metadata": {
  "kernelspec": {
   "display_name": "Python [conda env:snorkeling]",
   "language": "python",
   "name": "conda-env-snorkeling-py"
  },
  "language_info": {
   "codemirror_mode": {
    "name": "ipython",
    "version": 3
   },
   "file_extension": ".py",
   "mimetype": "text/x-python",
   "name": "python",
   "nbconvert_exporter": "python",
   "pygments_lexer": "ipython3",
   "version": "3.6.7"
  },
  "toc": {
   "base_numbering": 1,
   "nav_menu": {},
   "number_sections": true,
   "sideBar": true,
   "skip_h1_title": false,
   "title_cell": "Table of Contents",
   "title_sidebar": "Contents",
   "toc_cell": false,
   "toc_position": {},
   "toc_section_display": true,
   "toc_window_display": false
  },
  "varInspector": {
   "cols": {
    "lenName": 16,
    "lenType": 16,
    "lenVar": 40
   },
   "kernels_config": {
    "python": {
     "delete_cmd_postfix": "",
     "delete_cmd_prefix": "del ",
     "library": "var_list.py",
     "varRefreshCmd": "print(var_dic_list())"
    },
    "r": {
     "delete_cmd_postfix": ") ",
     "delete_cmd_prefix": "rm(",
     "library": "var_list.r",
     "varRefreshCmd": "cat(var_dic_list()) "
    }
   },
   "types_to_exclude": [
    "module",
    "function",
    "builtin_function_or_method",
    "instance",
    "_Feature"
   ],
   "window_display": false
  }
 },
 "nbformat": 4,
 "nbformat_minor": 2
}
