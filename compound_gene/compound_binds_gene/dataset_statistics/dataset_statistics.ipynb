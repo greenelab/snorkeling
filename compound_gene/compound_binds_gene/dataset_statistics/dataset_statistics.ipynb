{
 "cells": [
  {
   "cell_type": "markdown",
   "metadata": {},
   "source": [
    "# Dataset Statistics for Compound Gene Sentences"
   ]
  },
  {
   "cell_type": "markdown",
   "metadata": {},
   "source": [
    "This notebook is designed to show statistics on the data extracted from pubmed. The following cells below here are needed to set up the environment."
   ]
  },
  {
   "cell_type": "code",
   "execution_count": 1,
   "metadata": {
    "ExecuteTime": {
     "end_time": "2019-03-14T17:31:32.994932Z",
     "start_time": "2019-03-14T17:31:31.975352Z"
    }
   },
   "outputs": [],
   "source": [
    "%load_ext autoreload\n",
    "%autoreload 2\n",
    "%matplotlib inline\n",
    "\n",
    "from collections import Counter\n",
    "from itertools import product\n",
    "import os\n",
    "import pickle\n",
    "import sys\n",
    "\n",
    "sys.path.append(os.path.abspath('../../../modules'))\n",
    "\n",
    "import pandas as pd\n",
    "import matplotlib.pyplot as plt\n",
    "from matplotlib_venn import venn2\n",
    "import seaborn as sns\n",
    "from tqdm import tqdm_notebook\n",
    "\n",
    "sns.set(rc={'figure.figsize':(12,6), \"font.size\":17})"
   ]
  },
  {
   "cell_type": "code",
   "execution_count": 2,
   "metadata": {
    "ExecuteTime": {
     "end_time": "2019-03-14T17:31:33.196393Z",
     "start_time": "2019-03-14T17:31:32.996852Z"
    }
   },
   "outputs": [],
   "source": [
    "#Set up the environment\n",
    "username = \"danich1\"\n",
    "password = \"snorkel\"\n",
    "dbname = \"pubmeddb\"\n",
    "\n",
    "#Path subject to change for different os\n",
    "database_str = \"postgresql+psycopg2://{}:{}@/{}?host=/var/run/postgresql\".format(username, password, dbname)\n",
    "os.environ['SNORKELDB'] = database_str\n",
    "\n",
    "from snorkel import SnorkelSession\n",
    "session = SnorkelSession()"
   ]
  },
  {
   "cell_type": "code",
   "execution_count": 3,
   "metadata": {
    "ExecuteTime": {
     "end_time": "2019-03-14T17:31:33.217087Z",
     "start_time": "2019-03-14T17:31:33.198179Z"
    }
   },
   "outputs": [],
   "source": [
    "from snorkel.models import candidate_subclass, Candidate\n",
    "CompoundGene = candidate_subclass('CompoundGene', ['Compound', 'Gene'])"
   ]
  },
  {
   "cell_type": "code",
   "execution_count": 4,
   "metadata": {
    "ExecuteTime": {
     "end_time": "2019-03-14T17:31:33.258806Z",
     "start_time": "2019-03-14T17:31:33.218884Z"
    }
   },
   "outputs": [],
   "source": [
    "from utils.notebook_utils.dataframe_helper import write_candidates_to_excel, make_sentence_df"
   ]
  },
  {
   "cell_type": "markdown",
   "metadata": {},
   "source": [
    "# Read Full Sentence Table"
   ]
  },
  {
   "cell_type": "markdown",
   "metadata": {},
   "source": [
    "The cells below will read every sentence that contains a gene and compound entity from the sentence table in our postgres database. For time sake majority of the data has already been processed and save as files mentioned below."
   ]
  },
  {
   "cell_type": "code",
   "execution_count": null,
   "metadata": {
    "ExecuteTime": {
     "end_time": "2019-03-06T20:55:50.987752Z",
     "start_time": "2019-03-06T20:35:46.803444Z"
    }
   },
   "outputs": [],
   "source": [
    "sql= '''\n",
    "select id as sentence_id, text, (\n",
    "    char_length(regexp_replace(CAST(words AS TEXT), '[\\u0080-\\u00ff]', '', 'g')) - \n",
    "    char_length(regexp_replace(regexp_replace(CAST(words AS TEXT), '[\\u0080-\\u00ff]', '', 'g'), ',', '','g'))\n",
    ") as sen_length, entity_types \n",
    "from sentence \n",
    "where entity_types::text like '%%Compound%%' or entity_types::text like '%%Gene%%';\n",
    "'''\n",
    "sentence_df = pd.read_sql(sql, database_str)\n",
    "sentence_df.head(2)"
   ]
  },
  {
   "cell_type": "code",
   "execution_count": null,
   "metadata": {
    "ExecuteTime": {
     "end_time": "2019-03-06T21:34:11.494900Z",
     "start_time": "2019-03-06T20:55:50.993064Z"
    }
   },
   "outputs": [],
   "source": [
    "entity_data = []\n",
    "tagging_error_ids = set({})\n",
    "\n",
    "#skip tagging error\n",
    "skip_tag_error = False\n",
    "for index, row in tqdm_notebook(sentence_df.iterrows()):\n",
    "    \n",
    "    #create dictionay for mapping entity types\n",
    "    entity_mapper = {\"sentence_id\": row['sentence_id']}\n",
    "    \n",
    "    #Keep track of previous entity\n",
    "    previous_entity = 'o'\n",
    "    \n",
    "    #For all entitys in a given sentence decide what is tagged\n",
    "    for entity in row['entity_types']:\n",
    "        entity = entity.lower()\n",
    "\n",
    "        #Non-O tag\n",
    "        if entity != 'o' and previous_entity =='o':\n",
    "            #If entity not seen before instanciate it\n",
    "            if entity not in entity_mapper:\n",
    "                entity_mapper[entity] =0\n",
    "            entity_mapper[entity] += 1\n",
    "\n",
    "        # If previous tag was non-O and the current tag does not equal previous\n",
    "        # Then tagging error. e.x. Disease, Gene, Disease instead of Disease, O, Disease\n",
    "        elif entity != previous_entity and entity != 'o':\n",
    "            tagging_error_ids.add(row['sentence_id'])\n",
    "            skip_tag_error = True\n",
    "            break\n",
    "\n",
    "        previous_entity = entity\n",
    "    \n",
    "    # Do not add errors to dataframe\n",
    "    # They will be thrown out\n",
    "    if not skip_tag_error:\n",
    "        entity_data.append(entity_mapper)\n",
    "\n",
    "    skip_tag_error=False\n",
    "    \n",
    "entity_stats_df = pd.DataFrame.from_dict(entity_data).fillna(0)\n",
    "entity_stats_df.head(2)"
   ]
  },
  {
   "cell_type": "code",
   "execution_count": null,
   "metadata": {
    "ExecuteTime": {
     "end_time": "2019-03-06T21:34:13.229912Z",
     "start_time": "2019-03-06T21:34:11.496374Z"
    }
   },
   "outputs": [],
   "source": [
    "tagging_error_df = pd.Series(sorted(list(tagging_error_ids)))\n",
    "tagging_error_df.to_csv(\"data/tagging_error_ids.tsv.xz\", sep=\"\\t\",  index=False, compression=\"xz\")\n",
    "tagging_error_df.head(2)"
   ]
  },
  {
   "cell_type": "code",
   "execution_count": null,
   "metadata": {
    "ExecuteTime": {
     "end_time": "2019-03-06T21:34:13.245456Z",
     "start_time": "2019-03-06T21:34:13.231716Z"
    }
   },
   "outputs": [],
   "source": [
    "print(\n",
    "    \"Total Number of IOB Tagging Errors: {}. Percentage of sentences affected: {:.2f}\".format(\n",
    "        tagging_error_df.shape[0],\n",
    "        100*tagging_error_df.shape[0]/sentence_df.shape[0]\n",
    "    )\n",
    ")"
   ]
  },
  {
   "cell_type": "code",
   "execution_count": null,
   "metadata": {
    "ExecuteTime": {
     "end_time": "2019-03-06T22:36:38.926547Z",
     "start_time": "2019-03-06T21:34:13.247272Z"
    }
   },
   "outputs": [],
   "source": [
    "header = [\"sentence_id\", \"text\", \"sen_length\"]\n",
    "sentence_df[header].to_csv(\"data/sentence_stats.tsv.xz\", sep=\"\\t\", index=False, compression=\"xz\")\n",
    "entity_stats_df.to_csv(\"data/entity_stats.tsv.xz\", sep=\"\\t\",  index=False, compression=\"xz\")"
   ]
  },
  {
   "cell_type": "markdown",
   "metadata": {},
   "source": [
    "# Sentence Counts and Statistics"
   ]
  },
  {
   "cell_type": "markdown",
   "metadata": {},
   "source": [
    "Below is the block of code that contains information about the full distribution of sentences tied to each candidate pair. Multiple sentences can contain more than one co-occuring pair, which results in some sentences being counted more than once. For example\n",
    "```\n",
    "To assess the importance of the consensus amino acid sequence in [elf-4a G] for [atp G] binding, we mutated the consensus amino-proximal [glycine C] and [lysine C] to isoleucine and asparagine, respectively.\n",
    "```\n",
    "\n",
    "In this sentence there are multiple mentions of genes and compounds, where some compounds are artificial proteins. "
   ]
  },
  {
   "cell_type": "markdown",
   "metadata": {},
   "source": [
    "## Load and Merge DataFrames"
   ]
  },
  {
   "cell_type": "code",
   "execution_count": 5,
   "metadata": {
    "ExecuteTime": {
     "end_time": "2019-03-14T17:31:49.343787Z",
     "start_time": "2019-03-14T17:31:48.941044Z"
    }
   },
   "outputs": [
    {
     "data": {
      "text/html": [
       "<div>\n",
       "<style scoped>\n",
       "    .dataframe tbody tr th:only-of-type {\n",
       "        vertical-align: middle;\n",
       "    }\n",
       "\n",
       "    .dataframe tbody tr th {\n",
       "        vertical-align: top;\n",
       "    }\n",
       "\n",
       "    .dataframe thead th {\n",
       "        text-align: right;\n",
       "    }\n",
       "</style>\n",
       "<table border=\"1\" class=\"dataframe\">\n",
       "  <thead>\n",
       "    <tr style=\"text-align: right;\">\n",
       "      <th></th>\n",
       "      <th>entrez_gene_id</th>\n",
       "      <th>gene_symbol</th>\n",
       "      <th>drugbank_id</th>\n",
       "      <th>name</th>\n",
       "      <th>sources</th>\n",
       "      <th>hetionet</th>\n",
       "      <th>n_sentences</th>\n",
       "      <th>has_sentence</th>\n",
       "      <th>partition_rank</th>\n",
       "      <th>split</th>\n",
       "    </tr>\n",
       "  </thead>\n",
       "  <tbody>\n",
       "    <tr>\n",
       "      <th>0</th>\n",
       "      <td>1</td>\n",
       "      <td>A1BG</td>\n",
       "      <td>DB00117</td>\n",
       "      <td>L-Histidine</td>\n",
       "      <td>NaN</td>\n",
       "      <td>0</td>\n",
       "      <td>1</td>\n",
       "      <td>1</td>\n",
       "      <td>0.37753</td>\n",
       "      <td>6</td>\n",
       "    </tr>\n",
       "    <tr>\n",
       "      <th>1</th>\n",
       "      <td>1</td>\n",
       "      <td>A1BG</td>\n",
       "      <td>DB00143</td>\n",
       "      <td>Glutathione</td>\n",
       "      <td>NaN</td>\n",
       "      <td>0</td>\n",
       "      <td>1</td>\n",
       "      <td>1</td>\n",
       "      <td>0.30352</td>\n",
       "      <td>6</td>\n",
       "    </tr>\n",
       "  </tbody>\n",
       "</table>\n",
       "</div>"
      ],
      "text/plain": [
       "   entrez_gene_id gene_symbol drugbank_id         name sources  hetionet  \\\n",
       "0               1        A1BG     DB00117  L-Histidine     NaN         0   \n",
       "1               1        A1BG     DB00143  Glutathione     NaN         0   \n",
       "\n",
       "   n_sentences  has_sentence  partition_rank  split  \n",
       "0            1             1         0.37753      6  \n",
       "1            1             1         0.30352      6  "
      ]
     },
     "execution_count": 5,
     "metadata": {},
     "output_type": "execute_result"
    }
   ],
   "source": [
    "entity_level_df = pd.read_csv(\"../compound_gene_pairs_binds.csv\")\n",
    "entity_level_df.head(2)"
   ]
  },
  {
   "cell_type": "code",
   "execution_count": 6,
   "metadata": {
    "ExecuteTime": {
     "end_time": "2019-03-14T17:32:03.078050Z",
     "start_time": "2019-03-14T17:31:49.345723Z"
    }
   },
   "outputs": [
    {
     "data": {
      "text/html": [
       "<div>\n",
       "<style scoped>\n",
       "    .dataframe tbody tr th:only-of-type {\n",
       "        vertical-align: middle;\n",
       "    }\n",
       "\n",
       "    .dataframe tbody tr th {\n",
       "        vertical-align: top;\n",
       "    }\n",
       "\n",
       "    .dataframe thead th {\n",
       "        text-align: right;\n",
       "    }\n",
       "</style>\n",
       "<table border=\"1\" class=\"dataframe\">\n",
       "  <thead>\n",
       "    <tr style=\"text-align: right;\">\n",
       "      <th></th>\n",
       "      <th>compound</th>\n",
       "      <th>disease</th>\n",
       "      <th>gene</th>\n",
       "      <th>sentence_id</th>\n",
       "    </tr>\n",
       "  </thead>\n",
       "  <tbody>\n",
       "    <tr>\n",
       "      <th>0</th>\n",
       "      <td>0.0</td>\n",
       "      <td>1.0</td>\n",
       "      <td>1.0</td>\n",
       "      <td>50851796</td>\n",
       "    </tr>\n",
       "    <tr>\n",
       "      <th>1</th>\n",
       "      <td>0.0</td>\n",
       "      <td>0.0</td>\n",
       "      <td>1.0</td>\n",
       "      <td>50851806</td>\n",
       "    </tr>\n",
       "  </tbody>\n",
       "</table>\n",
       "</div>"
      ],
      "text/plain": [
       "   compound  disease  gene  sentence_id\n",
       "0       0.0      1.0   1.0     50851796\n",
       "1       0.0      0.0   1.0     50851806"
      ]
     },
     "execution_count": 6,
     "metadata": {},
     "output_type": "execute_result"
    }
   ],
   "source": [
    "entity_stats_df = pd.read_table(\"data/entity_stats.tsv.xz\")\n",
    "entity_stats_df.head(2)"
   ]
  },
  {
   "cell_type": "code",
   "execution_count": 7,
   "metadata": {
    "ExecuteTime": {
     "end_time": "2019-03-14T17:34:03.489189Z",
     "start_time": "2019-03-14T17:32:03.079568Z"
    }
   },
   "outputs": [
    {
     "data": {
      "text/html": [
       "<div>\n",
       "<style scoped>\n",
       "    .dataframe tbody tr th:only-of-type {\n",
       "        vertical-align: middle;\n",
       "    }\n",
       "\n",
       "    .dataframe tbody tr th {\n",
       "        vertical-align: top;\n",
       "    }\n",
       "\n",
       "    .dataframe thead th {\n",
       "        text-align: right;\n",
       "    }\n",
       "</style>\n",
       "<table border=\"1\" class=\"dataframe\">\n",
       "  <thead>\n",
       "    <tr style=\"text-align: right;\">\n",
       "      <th></th>\n",
       "      <th>sentence_id</th>\n",
       "      <th>text</th>\n",
       "      <th>sen_length</th>\n",
       "    </tr>\n",
       "  </thead>\n",
       "  <tbody>\n",
       "    <tr>\n",
       "      <th>0</th>\n",
       "      <td>50851796</td>\n",
       "      <td>In this study we aimed to characterize the vir...</td>\n",
       "      <td>28</td>\n",
       "    </tr>\n",
       "    <tr>\n",
       "      <th>1</th>\n",
       "      <td>50851806</td>\n",
       "      <td>HLA-A2 tetramers were used to identify HBV-spe...</td>\n",
       "      <td>18</td>\n",
       "    </tr>\n",
       "  </tbody>\n",
       "</table>\n",
       "</div>"
      ],
      "text/plain": [
       "   sentence_id                                               text  sen_length\n",
       "0     50851796  In this study we aimed to characterize the vir...          28\n",
       "1     50851806  HLA-A2 tetramers were used to identify HBV-spe...          18"
      ]
     },
     "execution_count": 7,
     "metadata": {},
     "output_type": "execute_result"
    }
   ],
   "source": [
    "sentence_count_df = pd.read_table(\"data/sentence_stats.tsv.xz\")\n",
    "sentence_count_df.head(2)"
   ]
  },
  {
   "cell_type": "code",
   "execution_count": 8,
   "metadata": {
    "ExecuteTime": {
     "end_time": "2019-03-14T17:34:03.503389Z",
     "start_time": "2019-03-14T17:34:03.491031Z"
    }
   },
   "outputs": [],
   "source": [
    "sentence_sql = '''\n",
    "select cand_id, \"Gene_cid\" as entrez_gene_id, \"Compound_cid\" as drugbank_id, sentence_id from (\n",
    "    select compound_gene.id as \"cand_id\", compound_gene.\"Compound_id\",\n",
    "    compound_gene.\"Gene_cid\", compound_gene.\"Compound_cid\", candidate.split from compound_gene \n",
    "    inner join candidate on compound_gene.id=candidate.id \n",
    "    where split={}\n",
    ") as candidate_splits inner join span on candidate_splits.\"Compound_id\"=span.id;\n",
    "'''"
   ]
  },
  {
   "cell_type": "code",
   "execution_count": 9,
   "metadata": {
    "ExecuteTime": {
     "end_time": "2019-03-14T17:34:27.994895Z",
     "start_time": "2019-03-14T17:34:03.504946Z"
    }
   },
   "outputs": [
    {
     "data": {
      "text/html": [
       "<div>\n",
       "<style scoped>\n",
       "    .dataframe tbody tr th:only-of-type {\n",
       "        vertical-align: middle;\n",
       "    }\n",
       "\n",
       "    .dataframe tbody tr th {\n",
       "        vertical-align: top;\n",
       "    }\n",
       "\n",
       "    .dataframe thead th {\n",
       "        text-align: right;\n",
       "    }\n",
       "</style>\n",
       "<table border=\"1\" class=\"dataframe\">\n",
       "  <thead>\n",
       "    <tr style=\"text-align: right;\">\n",
       "      <th></th>\n",
       "      <th>cand_id</th>\n",
       "      <th>entrez_gene_id</th>\n",
       "      <th>drugbank_id</th>\n",
       "      <th>sentence_id</th>\n",
       "    </tr>\n",
       "  </thead>\n",
       "  <tbody>\n",
       "    <tr>\n",
       "      <th>0</th>\n",
       "      <td>50588</td>\n",
       "      <td>1769</td>\n",
       "      <td>DB01164</td>\n",
       "      <td>155110</td>\n",
       "    </tr>\n",
       "    <tr>\n",
       "      <th>1</th>\n",
       "      <td>50842</td>\n",
       "      <td>2688</td>\n",
       "      <td>DB09099</td>\n",
       "      <td>685805</td>\n",
       "    </tr>\n",
       "  </tbody>\n",
       "</table>\n",
       "</div>"
      ],
      "text/plain": [
       "   cand_id entrez_gene_id drugbank_id  sentence_id\n",
       "0    50588           1769     DB01164       155110\n",
       "1    50842           2688     DB09099       685805"
      ]
     },
     "execution_count": 9,
     "metadata": {},
     "output_type": "execute_result"
    }
   ],
   "source": [
    "train_candidate_df = pd.read_sql(sentence_sql.format(6), database_str)\n",
    "train_candidate_df.head(2)"
   ]
  },
  {
   "cell_type": "code",
   "execution_count": 10,
   "metadata": {
    "ExecuteTime": {
     "end_time": "2019-03-14T17:34:37.602462Z",
     "start_time": "2019-03-14T17:34:27.996566Z"
    }
   },
   "outputs": [],
   "source": [
    "dev_candidate_df = pd.read_sql(sentence_sql.format(7), database_str)\n",
    "test_candidate_df = pd.read_sql(sentence_sql.format(8), database_str)"
   ]
  },
  {
   "cell_type": "code",
   "execution_count": 11,
   "metadata": {
    "ExecuteTime": {
     "end_time": "2019-03-14T17:34:37.618968Z",
     "start_time": "2019-03-14T17:34:37.604001Z"
    }
   },
   "outputs": [],
   "source": [
    "clean_up_df = lambda x: (\n",
    "        entity_stats_df\n",
    "        .merge(sentence_count_df, on=\"sentence_id\")\n",
    "        .merge(x, on=\"sentence_id\")\n",
    "        .rename(index=str, columns={\n",
    "            \"disease\":\"disease_mention_count\", \n",
    "            \"gene\":\"gene_mention_count\", \n",
    "            \"compound\":\"compound_mention_count\",\n",
    "            \"cand_id\": \"candidate_id\"\n",
    "        })\n",
    "    )"
   ]
  },
  {
   "cell_type": "code",
   "execution_count": 12,
   "metadata": {
    "ExecuteTime": {
     "end_time": "2019-03-14T17:34:56.596295Z",
     "start_time": "2019-03-14T17:34:37.620624Z"
    }
   },
   "outputs": [
    {
     "data": {
      "text/html": [
       "<div>\n",
       "<style scoped>\n",
       "    .dataframe tbody tr th:only-of-type {\n",
       "        vertical-align: middle;\n",
       "    }\n",
       "\n",
       "    .dataframe tbody tr th {\n",
       "        vertical-align: top;\n",
       "    }\n",
       "\n",
       "    .dataframe thead th {\n",
       "        text-align: right;\n",
       "    }\n",
       "</style>\n",
       "<table border=\"1\" class=\"dataframe\">\n",
       "  <thead>\n",
       "    <tr style=\"text-align: right;\">\n",
       "      <th></th>\n",
       "      <th>compound_mention_count</th>\n",
       "      <th>disease_mention_count</th>\n",
       "      <th>gene_mention_count</th>\n",
       "      <th>sentence_id</th>\n",
       "      <th>text</th>\n",
       "      <th>sen_length</th>\n",
       "      <th>candidate_id</th>\n",
       "      <th>entrez_gene_id</th>\n",
       "      <th>drugbank_id</th>\n",
       "    </tr>\n",
       "  </thead>\n",
       "  <tbody>\n",
       "    <tr>\n",
       "      <th>0</th>\n",
       "      <td>3.0</td>\n",
       "      <td>0.0</td>\n",
       "      <td>1.0</td>\n",
       "      <td>50850873</td>\n",
       "      <td>RNAi-mediated MR silencing led to a decrease i...</td>\n",
       "      <td>41</td>\n",
       "      <td>14937760</td>\n",
       "      <td>2538</td>\n",
       "      <td>DB11280</td>\n",
       "    </tr>\n",
       "    <tr>\n",
       "      <th>1</th>\n",
       "      <td>3.0</td>\n",
       "      <td>0.0</td>\n",
       "      <td>1.0</td>\n",
       "      <td>50850873</td>\n",
       "      <td>RNAi-mediated MR silencing led to a decrease i...</td>\n",
       "      <td>41</td>\n",
       "      <td>14937755</td>\n",
       "      <td>2538</td>\n",
       "      <td>DB04173</td>\n",
       "    </tr>\n",
       "  </tbody>\n",
       "</table>\n",
       "</div>"
      ],
      "text/plain": [
       "   compound_mention_count  disease_mention_count  gene_mention_count  \\\n",
       "0                     3.0                    0.0                 1.0   \n",
       "1                     3.0                    0.0                 1.0   \n",
       "\n",
       "   sentence_id                                               text  sen_length  \\\n",
       "0     50850873  RNAi-mediated MR silencing led to a decrease i...          41   \n",
       "1     50850873  RNAi-mediated MR silencing led to a decrease i...          41   \n",
       "\n",
       "   candidate_id entrez_gene_id drugbank_id  \n",
       "0      14937760           2538     DB11280  \n",
       "1      14937755           2538     DB04173  "
      ]
     },
     "execution_count": 12,
     "metadata": {},
     "output_type": "execute_result"
    }
   ],
   "source": [
    "train_candidate_df = clean_up_df(train_candidate_df)\n",
    "train_candidate_df.head(2)"
   ]
  },
  {
   "cell_type": "code",
   "execution_count": 13,
   "metadata": {
    "ExecuteTime": {
     "end_time": "2019-03-14T17:35:31.214329Z",
     "start_time": "2019-03-14T17:34:56.598058Z"
    }
   },
   "outputs": [],
   "source": [
    "dev_candidate_df = clean_up_df(dev_candidate_df)\n",
    "test_candidate_df = clean_up_df(test_candidate_df)"
   ]
  },
  {
   "cell_type": "code",
   "execution_count": 14,
   "metadata": {
    "ExecuteTime": {
     "end_time": "2019-03-14T17:35:32.790306Z",
     "start_time": "2019-03-14T17:35:31.216090Z"
    }
   },
   "outputs": [
    {
     "data": {
      "text/html": [
       "<div>\n",
       "<style scoped>\n",
       "    .dataframe tbody tr th:only-of-type {\n",
       "        vertical-align: middle;\n",
       "    }\n",
       "\n",
       "    .dataframe tbody tr th {\n",
       "        vertical-align: top;\n",
       "    }\n",
       "\n",
       "    .dataframe thead th {\n",
       "        text-align: right;\n",
       "    }\n",
       "</style>\n",
       "<table border=\"1\" class=\"dataframe\">\n",
       "  <thead>\n",
       "    <tr style=\"text-align: right;\">\n",
       "      <th></th>\n",
       "      <th>entrez_gene_id</th>\n",
       "      <th>gene_symbol</th>\n",
       "      <th>drugbank_id</th>\n",
       "      <th>name</th>\n",
       "      <th>sources</th>\n",
       "      <th>hetionet</th>\n",
       "      <th>n_sentences</th>\n",
       "      <th>has_sentence</th>\n",
       "      <th>partition_rank</th>\n",
       "      <th>split</th>\n",
       "      <th>compound_mention_count</th>\n",
       "      <th>disease_mention_count</th>\n",
       "      <th>gene_mention_count</th>\n",
       "      <th>sentence_id</th>\n",
       "      <th>text</th>\n",
       "      <th>sen_length</th>\n",
       "      <th>candidate_id</th>\n",
       "    </tr>\n",
       "  </thead>\n",
       "  <tbody>\n",
       "    <tr>\n",
       "      <th>0</th>\n",
       "      <td>1</td>\n",
       "      <td>A1BG</td>\n",
       "      <td>DB00117</td>\n",
       "      <td>L-Histidine</td>\n",
       "      <td>NaN</td>\n",
       "      <td>0</td>\n",
       "      <td>1</td>\n",
       "      <td>1</td>\n",
       "      <td>0.37753</td>\n",
       "      <td>6</td>\n",
       "      <td>1.0</td>\n",
       "      <td>0.0</td>\n",
       "      <td>10.0</td>\n",
       "      <td>94389805</td>\n",
       "      <td>Thus, as the assessment of protein glycosylati...</td>\n",
       "      <td>114</td>\n",
       "      <td>33517095</td>\n",
       "    </tr>\n",
       "    <tr>\n",
       "      <th>1</th>\n",
       "      <td>1</td>\n",
       "      <td>A1BG</td>\n",
       "      <td>DB00143</td>\n",
       "      <td>Glutathione</td>\n",
       "      <td>NaN</td>\n",
       "      <td>0</td>\n",
       "      <td>1</td>\n",
       "      <td>1</td>\n",
       "      <td>0.30352</td>\n",
       "      <td>6</td>\n",
       "      <td>1.0</td>\n",
       "      <td>1.0</td>\n",
       "      <td>2.0</td>\n",
       "      <td>83523801</td>\n",
       "      <td>Similar observations were made in T98 glioma c...</td>\n",
       "      <td>34</td>\n",
       "      <td>28913100</td>\n",
       "    </tr>\n",
       "  </tbody>\n",
       "</table>\n",
       "</div>"
      ],
      "text/plain": [
       "   entrez_gene_id gene_symbol drugbank_id         name sources  hetionet  \\\n",
       "0               1        A1BG     DB00117  L-Histidine     NaN         0   \n",
       "1               1        A1BG     DB00143  Glutathione     NaN         0   \n",
       "\n",
       "   n_sentences  has_sentence  partition_rank  split  compound_mention_count  \\\n",
       "0            1             1         0.37753      6                     1.0   \n",
       "1            1             1         0.30352      6                     1.0   \n",
       "\n",
       "   disease_mention_count  gene_mention_count  sentence_id  \\\n",
       "0                    0.0                10.0     94389805   \n",
       "1                    1.0                 2.0     83523801   \n",
       "\n",
       "                                                text  sen_length  candidate_id  \n",
       "0  Thus, as the assessment of protein glycosylati...         114      33517095  \n",
       "1  Similar observations were made in T98 glioma c...          34      28913100  "
      ]
     },
     "execution_count": 14,
     "metadata": {},
     "output_type": "execute_result"
    }
   ],
   "source": [
    "training_set_df = (\n",
    "    entity_level_df\n",
    "    .query(\"split==6&has_sentence==1\")\n",
    "    .merge(\n",
    "        train_candidate_df.astype({\"entrez_gene_id\":int}), \n",
    "        on=[\"drugbank_id\", \"entrez_gene_id\"]\n",
    "    )\n",
    ")\n",
    "training_set_df.head(2)"
   ]
  },
  {
   "cell_type": "code",
   "execution_count": 15,
   "metadata": {
    "ExecuteTime": {
     "end_time": "2019-03-14T17:35:33.348446Z",
     "start_time": "2019-03-14T17:35:32.792103Z"
    }
   },
   "outputs": [],
   "source": [
    "dev_set_df = (\n",
    "    entity_level_df\n",
    "    .query(\"split==7&has_sentence==1\")\n",
    "    .merge(\n",
    "        dev_candidate_df.astype({\"entrez_gene_id\":int}), \n",
    "        on=[\"drugbank_id\", \"entrez_gene_id\"]\n",
    "    )\n",
    ")\n",
    "\n",
    "test_set_df = (\n",
    "    entity_level_df\n",
    "    .query(\"split==8&has_sentence==1\")\n",
    "    .merge(\n",
    "        test_candidate_df.astype({\"entrez_gene_id\":int}), \n",
    "        on=[\"drugbank_id\", \"entrez_gene_id\"]\n",
    "    )\n",
    ")"
   ]
  },
  {
   "cell_type": "code",
   "execution_count": 16,
   "metadata": {
    "ExecuteTime": {
     "end_time": "2019-03-14T17:35:35.077002Z",
     "start_time": "2019-03-14T17:35:33.350092Z"
    }
   },
   "outputs": [],
   "source": [
    "total_candidates_df = (\n",
    "    training_set_df\n",
    "    .append(dev_set_df)\n",
    "    .append(test_set_df)\n",
    ")"
   ]
  },
  {
   "cell_type": "code",
   "execution_count": 17,
   "metadata": {
    "ExecuteTime": {
     "end_time": "2019-03-14T17:36:30.462419Z",
     "start_time": "2019-03-14T17:35:35.078859Z"
    }
   },
   "outputs": [
    {
     "data": {
      "application/vnd.jupyter.widget-view+json": {
       "model_id": "7cefe56c33374788babc4fdbbe8e9a4b",
       "version_major": 2,
       "version_minor": 0
      },
      "text/html": [
       "<p>Failed to display Jupyter Widget of type <code>HBox</code>.</p>\n",
       "<p>\n",
       "  If you're reading this message in the Jupyter Notebook or JupyterLab Notebook, it may mean\n",
       "  that the widgets JavaScript is still loading. If this message persists, it\n",
       "  likely means that the widgets JavaScript library is either not installed or\n",
       "  not enabled. See the <a href=\"https://ipywidgets.readthedocs.io/en/stable/user_install.html\">Jupyter\n",
       "  Widgets Documentation</a> for setup instructions.\n",
       "</p>\n",
       "<p>\n",
       "  If you're reading this message in another frontend (for example, a static\n",
       "  rendering on GitHub or <a href=\"https://nbviewer.jupyter.org/\">NBViewer</a>),\n",
       "  it may mean that your frontend doesn't currently support widgets.\n",
       "</p>\n"
      ],
      "text/plain": [
       "HBox(children=(IntProgress(value=0, max=10000), HTML(value='')))"
      ]
     },
     "metadata": {},
     "output_type": "display_data"
    },
    {
     "name": "stdout",
     "output_type": "stream",
     "text": [
      "\n"
     ]
    },
    {
     "data": {
      "text/html": [
       "<div>\n",
       "<style scoped>\n",
       "    .dataframe tbody tr th:only-of-type {\n",
       "        vertical-align: middle;\n",
       "    }\n",
       "\n",
       "    .dataframe tbody tr th {\n",
       "        vertical-align: top;\n",
       "    }\n",
       "\n",
       "    .dataframe thead th {\n",
       "        text-align: right;\n",
       "    }\n",
       "</style>\n",
       "<table border=\"1\" class=\"dataframe\">\n",
       "  <thead>\n",
       "    <tr style=\"text-align: right;\">\n",
       "      <th></th>\n",
       "      <th>candidate_id</th>\n",
       "      <th>compound</th>\n",
       "      <th>gene</th>\n",
       "      <th>drugbank_id</th>\n",
       "      <th>entrez_gene_id</th>\n",
       "      <th>sentence</th>\n",
       "    </tr>\n",
       "  </thead>\n",
       "  <tbody>\n",
       "    <tr>\n",
       "      <th>0</th>\n",
       "      <td>50527</td>\n",
       "      <td>sodium dodecylsulphate</td>\n",
       "      <td>Fab-fragments</td>\n",
       "      <td>DB00815</td>\n",
       "      <td>2187</td>\n",
       "      <td>the effect of nacl , ( nh4 ) 2so4 , ~~[[1 sodi...</td>\n",
       "    </tr>\n",
       "    <tr>\n",
       "      <th>1</th>\n",
       "      <td>51441</td>\n",
       "      <td>cortisone</td>\n",
       "      <td>GH</td>\n",
       "      <td>DB01380</td>\n",
       "      <td>2688</td>\n",
       "      <td>the glycemic response to iv glucose was simila...</td>\n",
       "    </tr>\n",
       "  </tbody>\n",
       "</table>\n",
       "</div>"
      ],
      "text/plain": [
       "   candidate_id                compound           gene drugbank_id  \\\n",
       "0         50527  sodium dodecylsulphate  Fab-fragments     DB00815   \n",
       "1         51441               cortisone             GH     DB01380   \n",
       "\n",
       "  entrez_gene_id                                           sentence  \n",
       "0           2187  the effect of nacl , ( nh4 ) 2so4 , ~~[[1 sodi...  \n",
       "1           2688  the glycemic response to iv glucose was simila...  "
      ]
     },
     "execution_count": 17,
     "metadata": {},
     "output_type": "execute_result"
    }
   ],
   "source": [
    "dev_candidates = (\n",
    "    session\n",
    "    .query(CompoundGene)\n",
    "    .filter(\n",
    "        CompoundGene.id.in_(\n",
    "            total_candidates_df\n",
    "            .query(\"split==7\")\n",
    "            .sample(10000, random_state=100)\n",
    "            .candidate_id\n",
    "            .tolist()\n",
    "        )\n",
    "    )\n",
    "    .all()\n",
    ")\n",
    "dev_df = make_sentence_df(dev_candidates)\n",
    "dev_df.head(2)"
   ]
  },
  {
   "cell_type": "code",
   "execution_count": 18,
   "metadata": {
    "ExecuteTime": {
     "end_time": "2019-03-14T17:37:22.471606Z",
     "start_time": "2019-03-14T17:36:30.463798Z"
    }
   },
   "outputs": [
    {
     "data": {
      "application/vnd.jupyter.widget-view+json": {
       "model_id": "faf4379e88a94b37bd4676b6313e880f",
       "version_major": 2,
       "version_minor": 0
      },
      "text/html": [
       "<p>Failed to display Jupyter Widget of type <code>HBox</code>.</p>\n",
       "<p>\n",
       "  If you're reading this message in the Jupyter Notebook or JupyterLab Notebook, it may mean\n",
       "  that the widgets JavaScript is still loading. If this message persists, it\n",
       "  likely means that the widgets JavaScript library is either not installed or\n",
       "  not enabled. See the <a href=\"https://ipywidgets.readthedocs.io/en/stable/user_install.html\">Jupyter\n",
       "  Widgets Documentation</a> for setup instructions.\n",
       "</p>\n",
       "<p>\n",
       "  If you're reading this message in another frontend (for example, a static\n",
       "  rendering on GitHub or <a href=\"https://nbviewer.jupyter.org/\">NBViewer</a>),\n",
       "  it may mean that your frontend doesn't currently support widgets.\n",
       "</p>\n"
      ],
      "text/plain": [
       "HBox(children=(IntProgress(value=0, max=10000), HTML(value='')))"
      ]
     },
     "metadata": {},
     "output_type": "display_data"
    },
    {
     "name": "stdout",
     "output_type": "stream",
     "text": [
      "\n"
     ]
    },
    {
     "data": {
      "text/html": [
       "<div>\n",
       "<style scoped>\n",
       "    .dataframe tbody tr th:only-of-type {\n",
       "        vertical-align: middle;\n",
       "    }\n",
       "\n",
       "    .dataframe tbody tr th {\n",
       "        vertical-align: top;\n",
       "    }\n",
       "\n",
       "    .dataframe thead th {\n",
       "        text-align: right;\n",
       "    }\n",
       "</style>\n",
       "<table border=\"1\" class=\"dataframe\">\n",
       "  <thead>\n",
       "    <tr style=\"text-align: right;\">\n",
       "      <th></th>\n",
       "      <th>candidate_id</th>\n",
       "      <th>compound</th>\n",
       "      <th>gene</th>\n",
       "      <th>drugbank_id</th>\n",
       "      <th>entrez_gene_id</th>\n",
       "      <th>sentence</th>\n",
       "    </tr>\n",
       "  </thead>\n",
       "  <tbody>\n",
       "    <tr>\n",
       "      <th>0</th>\n",
       "      <td>50759</td>\n",
       "      <td>arginine</td>\n",
       "      <td>C5a</td>\n",
       "      <td>DB04027</td>\n",
       "      <td>728</td>\n",
       "      <td>the spasmogenic , tachyphylactic , and vascula...</td>\n",
       "    </tr>\n",
       "    <tr>\n",
       "      <th>1</th>\n",
       "      <td>51021</td>\n",
       "      <td>bicarbonate</td>\n",
       "      <td>transferrin</td>\n",
       "      <td>DB01390</td>\n",
       "      <td>7018</td>\n",
       "      <td>in an attempt to imitate conditions in the inf...</td>\n",
       "    </tr>\n",
       "  </tbody>\n",
       "</table>\n",
       "</div>"
      ],
      "text/plain": [
       "   candidate_id     compound         gene drugbank_id entrez_gene_id  \\\n",
       "0         50759     arginine          C5a     DB04027            728   \n",
       "1         51021  bicarbonate  transferrin     DB01390           7018   \n",
       "\n",
       "                                            sentence  \n",
       "0  the spasmogenic , tachyphylactic , and vascula...  \n",
       "1  in an attempt to imitate conditions in the inf...  "
      ]
     },
     "execution_count": 18,
     "metadata": {},
     "output_type": "execute_result"
    }
   ],
   "source": [
    "test_candidates = (\n",
    "    session\n",
    "    .query(CompoundGene)\n",
    "    .filter(\n",
    "        CompoundGene.id.in_(\n",
    "            total_candidates_df\n",
    "            .query(\"split==8\")\n",
    "            .sample(10000, random_state=100)\n",
    "            .candidate_id\n",
    "            .tolist()\n",
    "        )\n",
    "    )\n",
    "    .all()\n",
    ")\n",
    "test_df = make_sentence_df(test_candidates)\n",
    "test_df.head(2)"
   ]
  },
  {
   "cell_type": "code",
   "execution_count": null,
   "metadata": {
    "ExecuteTime": {
     "end_time": "2019-03-07T16:24:30.689136Z",
     "start_time": "2019-03-07T16:24:26.569354Z"
    }
   },
   "outputs": [],
   "source": [
    "write_candidates_to_excel(dev_df, \"data/sentence_labels_dev.xlsx\")\n",
    "write_candidates_to_excel(test_df, \"data/sentence_labels_test.xlsx\")"
   ]
  },
  {
   "cell_type": "markdown",
   "metadata": {},
   "source": [
    "## Distribution of Sentence Length"
   ]
  },
  {
   "cell_type": "code",
   "execution_count": 19,
   "metadata": {
    "ExecuteTime": {
     "end_time": "2019-03-14T17:37:23.092247Z",
     "start_time": "2019-03-14T17:37:22.473402Z"
    },
    "scrolled": false
   },
   "outputs": [
    {
     "name": "stderr",
     "output_type": "stream",
     "text": [
      "/home/danich1/anaconda2/envs/snorkeling/lib/python3.6/site-packages/scipy/stats/stats.py:1713: FutureWarning: Using a non-tuple sequence for multidimensional indexing is deprecated; use `arr[tuple(seq)]` instead of `arr[seq]`. In the future this will be interpreted as an array index, `arr[np.array(seq)]`, which will result either in an error or a different result.\n",
      "  return np.add.reduce(sorted[indexer] * weights, axis=axis) / sumval\n"
     ]
    },
    {
     "data": {
      "text/plain": [
       "<matplotlib.axes._subplots.AxesSubplot at 0x7f760e564e80>"
      ]
     },
     "execution_count": 19,
     "metadata": {},
     "output_type": "execute_result"
    },
    {
     "data": {
      "image/png": "[encoded data removed]",
      "text/plain": [
       "<matplotlib.figure.Figure at 0x7f768638ba90>"
      ]
     },
     "metadata": {},
     "output_type": "display_data"
    }
   ],
   "source": [
    "sns.distplot(total_candidates_df[\"sen_length\"], rug=False)"
   ]
  },
  {
   "cell_type": "code",
   "execution_count": 20,
   "metadata": {
    "ExecuteTime": {
     "end_time": "2019-03-14T17:37:23.259801Z",
     "start_time": "2019-03-14T17:37:23.093631Z"
    }
   },
   "outputs": [
    {
     "data": {
      "text/plain": [
       "count    2417701\n",
       "mean          42\n",
       "std           29\n",
       "min            3\n",
       "25%           26\n",
       "50%           36\n",
       "75%           50\n",
       "max          834\n",
       "Name: sen_length, dtype: int64"
      ]
     },
     "execution_count": 20,
     "metadata": {},
     "output_type": "execute_result"
    }
   ],
   "source": [
    "total_candidates_df[\"sen_length\"].describe().astype(int)"
   ]
  },
  {
   "cell_type": "markdown",
   "metadata": {},
   "source": [
    "Something seems fishy about this distribution. The number of words (tokens) for a given sentence is in the thousands range. Intuitively, that doesn't make sense, since the average number of words for a given sentence is 42. Possible reason for this abnormality is a parsing error. Lets take a look at this 834 word sentence."
   ]
  },
  {
   "cell_type": "code",
   "execution_count": 21,
   "metadata": {
    "ExecuteTime": {
     "end_time": "2019-03-14T17:37:23.281879Z",
     "start_time": "2019-03-14T17:37:23.261410Z"
    }
   },
   "outputs": [
    {
     "data": {
      "text/plain": [
       "\"This issue focuses on the following selection of drugs: Abiraterone acetate, acyline, adalimumab, adenosine triphosphate, AEE-788, AIDSVAX gp120 B/B, AK-602, alefacept, alemtuzumab, alendronic acid sodium salt, alicaforsen sodium, alprazolam, amdoxovir, AMG-162, aminolevulinic acid hydrochloride, aminolevulinic acid methyl ester, aminophylline hydrate, anakinra, anecortave acetate, anti-CTLA-4 MAb, APC-8015, aripiprazole, aspirin, atazanavir sulfate, atomoxetine hydrochloride, atorvastatin calcium, atrasentan, AVE-5883, AZD-2171; Betamethasone dipropionate, bevacizumab, bimatoprost, biphasic human insulin (prb), bortezomib, BR-A-657, BRL-55730, budesonide, busulfan; Calcipotriol, calcipotriol/betamethasone dipropionate, calcium folinate, capecitabine, capravirine, carmustine, caspofungin acetate, cefdinir, certolizumab pegol, CG-53135, chlorambucil, ciclesonide, ciclosporin, cisplatin, clofarabine, clopidogrel hydrogensulfate, clozapine, co-trimoxazole, CP-122721, creatine, CY-2301, cyclophosphamide, cypher, cytarabine, cytolin; D0401, darbepoetin alfa, darifenacin hydrobromide, DASB, desipramine hydrochloride, desloratadine, desvenlafaxine succinate, dexamethasone, didanosine, diquafosol tetrasodium, docetaxel, doxorubicin hydrochloride, drotrecogin alfa (activated), duloxetine hydrochloride, dutasteride; Ecallantide, efalizumab, efavirenz, eletriptan, emtricitabine, enfuvirtide, enoxaparin sodium, estramustine phosphate sodium, etanercept, ethinylestradiol, etonogestrel, etonogestrel/ethinylestradiol, etoposide, exenatide; Famciclovir, fampridine, febuxostat, filgrastim, fludarabine phosphate, fluocinolone acetonide, fluorouracil, fluticasone propionate, fluvastatin sodium, fondaparinux sodium; Gaboxadol, gamma-hydroxybutyrate sodium, gefitinib, gelclair, gemcitabine, gemfibrozil, glibenclamide, glyminox; Haloperidol, heparin sodium, HPV 16/HPV 18 vaccine, human insulin, human insulin; Icatibant, imatinib mesylate, indium 111 (111In) ibritumomab tiuxetan, infliximab, INKP-100, iodine (I131) tositumomab, IoGen, ipratropium bromide, ixabepilone; L-870810, lamivudine, lapatinib, laquinimod, latanoprost, levonorgestrel, licochalcone a, liposomal doxorubicin, lopinavir, lopinavir/ritonavir, lorazepam, lovastatin; Maraviroc, maribavir, matuzumab, MDL-100907, melphalan, methotrexate, methylprednisolone, mitomycin, mitoxantrone hydrochloride, MK-0431, MN-001, MRKAd5 HIV-1 gag/pol/nef, MRKAd5gag, MVA.HIVA, MVA-BN Nef, MVA-Muc1-IL-2, mycophenolate mofetil; Nelfinavir mesilate, nesiritide, NSC-330507; Olanzapine, olmesartan medoxomil, omalizumab, oral insulin, osanetant; PA-457, paclitaxel, paroxetine, paroxetine hydrochloride, PCK-3145, PEG-filgrastim, peginterferon alfa-2a, peginterferon alfa-2b, perillyl alcohol, pexelizumab, pimecrolimus, pitavastatin calcium, porfiromycin, prasterone, prasugrel, pravastatin sodium, prednisone, pregabalin, prinomastat, PRO-2000, propofol, prostate cancer vaccine; Rasagiline mesilate, rhBMP-2/ACS, rhBMP-2/BCP, rhC1, ribavirin, rilpivirine, ritonavir, rituximab, Ro-26-9228, rosuvastatin calcium, rosuvastatin sodium, rubitecan; Selodenoson, simvastatin, sirolimus, sitaxsentan sodium, sorafenib, SS(dsFv)-PE38, St. John's Wort extract, stavudine; Tacrolimus, tadalafil, tafenoquine succinate, talaglumetad, tanomastat, taxus, tegaserod maleate, telithromycin, tempol, tenofovir, tenofovir disoproxil fumarate, testosterone enanthate, TH-9507, thalidomide, tigecycline, timolol maleate, tiotropium bromide, tipifarnib, torcetrapib, trabectedin, travoprost, travoprost/timolol, treprostinil sodium; Valdecoxib, vardenafil hydrochloride hydrate, varenicline, VEGF-2 gene therapy, venlafaxine hydrochloride, vildagliptin, vincristine sulfate, voriconazole, VRX-496, VX-385; Warfarin sodium; Ximelagatran; Yttrium 90 (90Y) ibritumomab tiuxetan; Zanolimumab, zidovudine.\""
      ]
     },
     "execution_count": 21,
     "metadata": {},
     "output_type": "execute_result"
    }
   ],
   "source": [
    "total_candidates_df.query(\"sen_length==834\").iloc[0][\"text\"]"
   ]
  },
  {
   "cell_type": "markdown",
   "metadata": {},
   "source": [
    "The above sentence shows that a long list of drugs that a issue will cover. This isn't helpful in our case, because we want to look at sentences that contain compounds and diseases; therefore, we should remove sentences of this nature by defining a cutoff score of 83 or less words."
   ]
  },
  {
   "cell_type": "code",
   "execution_count": 22,
   "metadata": {
    "ExecuteTime": {
     "end_time": "2019-03-14T17:37:24.145893Z",
     "start_time": "2019-03-14T17:37:23.283574Z"
    }
   },
   "outputs": [
    {
     "name": "stderr",
     "output_type": "stream",
     "text": [
      "/home/danich1/anaconda2/envs/snorkeling/lib/python3.6/site-packages/scipy/stats/stats.py:1713: FutureWarning: Using a non-tuple sequence for multidimensional indexing is deprecated; use `arr[tuple(seq)]` instead of `arr[seq]`. In the future this will be interpreted as an array index, `arr[np.array(seq)]`, which will result either in an error or a different result.\n",
      "  return np.add.reduce(sorted[indexer] * weights, axis=axis) / sumval\n"
     ]
    },
    {
     "data": {
      "text/plain": [
       "<matplotlib.axes._subplots.AxesSubplot at 0x7f760f120080>"
      ]
     },
     "execution_count": 22,
     "metadata": {},
     "output_type": "execute_result"
    },
    {
     "data": {
      "image/png": "[encoded data removed]",
      "text/plain": [
       "<matplotlib.figure.Figure at 0x7f762108eb70>"
      ]
     },
     "metadata": {},
     "output_type": "display_data"
    }
   ],
   "source": [
    "sns.distplot(total_candidates_df.query(\"sen_length < 83+1\")[\"sen_length\"], rug=False)"
   ]
  },
  {
   "cell_type": "code",
   "execution_count": 23,
   "metadata": {
    "ExecuteTime": {
     "end_time": "2019-03-14T17:37:24.574662Z",
     "start_time": "2019-03-14T17:37:24.147287Z"
    }
   },
   "outputs": [
    {
     "data": {
      "text/plain": [
       "count    2283535\n",
       "mean          37\n",
       "std           16\n",
       "min            3\n",
       "25%           25\n",
       "50%           35\n",
       "75%           47\n",
       "max           83\n",
       "Name: sen_length, dtype: int64"
      ]
     },
     "execution_count": 23,
     "metadata": {},
     "output_type": "execute_result"
    }
   ],
   "source": [
    "total_candidates_df.query(\"sen_length < 83+1\")[\"sen_length\"].describe().astype(int)"
   ]
  },
  {
   "cell_type": "markdown",
   "metadata": {},
   "source": [
    "This distribution looks a bit more reasonable compared to the above distribution. After filtering out the outliers, we still have a pleathora of sentences on the order of 2.2 million."
   ]
  },
  {
   "cell_type": "code",
   "execution_count": 24,
   "metadata": {
    "ExecuteTime": {
     "end_time": "2019-03-14T17:37:29.968071Z",
     "start_time": "2019-03-14T17:37:24.576569Z"
    }
   },
   "outputs": [
    {
     "name": "stdout",
     "output_type": "stream",
     "text": [
      "Total number of unique candidates before filter: 279167\n",
      "Total number of unique candidates after filter: 266354\n",
      "Total number of unique candidates being thrown out: 12813\n"
     ]
    }
   ],
   "source": [
    "before_filter = set([tuple(line) for line in total_candidates_df[[\"drugbank_id\", \"entrez_gene_id\"]].values])\n",
    "after_filter = set([tuple(line) for line in total_candidates_df.query(\"sen_length < 83+1\")[[\"drugbank_id\", \"entrez_gene_id\"]].values])\n",
    "print(\n",
    "    \"Total number of unique candidates before filter: {}\".format(\n",
    "        total_candidates_df[[\"drugbank_id\", \"entrez_gene_id\"]].drop_duplicates().shape[0]\n",
    "    )\n",
    ")\n",
    "print(\n",
    "    \"Total number of unique candidates after filter: {}\".format(\n",
    "        total_candidates_df.query(\"sen_length < 83+1\")[[\"drugbank_id\", \"entrez_gene_id\"]].drop_duplicates().shape[0]\n",
    "    )\n",
    ")\n",
    "print(\"Total number of unique candidates being thrown out: {}\".format(len(before_filter.difference(after_filter))))"
   ]
  },
  {
   "cell_type": "code",
   "execution_count": 25,
   "metadata": {
    "ExecuteTime": {
     "end_time": "2019-03-14T17:37:30.207461Z",
     "start_time": "2019-03-14T17:37:29.970104Z"
    }
   },
   "outputs": [],
   "source": [
    "filtered_total_candidates_df = total_candidates_df.query(\"sen_length < 83+1\")"
   ]
  },
  {
   "cell_type": "code",
   "execution_count": 26,
   "metadata": {
    "ExecuteTime": {
     "end_time": "2019-03-14T17:37:31.314055Z",
     "start_time": "2019-03-14T17:37:30.209029Z"
    }
   },
   "outputs": [
    {
     "data": {
      "text/plain": [
       "Text(0.5,1,'# of Unique Sentences in Entire Dataset with Co-Mention Pair in/not in hetionet')"
      ]
     },
     "execution_count": 26,
     "metadata": {},
     "output_type": "execute_result"
    },
    {
     "data": {
      "image/png": "[encoded data removed]",
      "text/plain": [
       "<matplotlib.figure.Figure at 0x7f760e5592b0>"
      ]
     },
     "metadata": {},
     "output_type": "display_data"
    }
   ],
   "source": [
    "ids =filtered_total_candidates_df.query(\"hetionet==1\").sentence_id.values\n",
    "venn2(\n",
    "    [\n",
    "        set(filtered_total_candidates_df.query(\"hetionet==0&sentence_id not in @ids\").sentence_id),\n",
    "        set(filtered_total_candidates_df.query(\"hetionet==1\").sentence_id)\n",
    "    ], set_labels=[\"Not In Hetionet\", \"In Hetionet\"])\n",
    "plt.title(\"# of Unique Sentences in Entire Dataset with Co-Mention Pair in/not in hetionet\")"
   ]
  },
  {
   "cell_type": "markdown",
   "metadata": {},
   "source": [
    "# Co-occuring Mentions Sentence Stats"
   ]
  },
  {
   "cell_type": "markdown",
   "metadata": {},
   "source": [
    "This next block contains a visualization about the number of mentions a sentence may contain."
   ]
  },
  {
   "cell_type": "code",
   "execution_count": 27,
   "metadata": {
    "ExecuteTime": {
     "end_time": "2019-03-11T17:57:08.631471Z",
     "start_time": "2019-03-11T17:57:08.094453Z"
    }
   },
   "outputs": [
    {
     "data": {
      "text/plain": [
       "Text(0.5,1,'Mention Distribution of Entire Dataset')"
      ]
     },
     "execution_count": 27,
     "metadata": {},
     "output_type": "execute_result"
    },
    {
     "data": {
      "image/png": "[encoded data removed]",
      "text/plain": [
       "<matplotlib.figure.Figure at 0x7f4f68af7470>"
      ]
     },
     "metadata": {},
     "output_type": "display_data"
    }
   ],
   "source": [
    "ax = sns.scatterplot(\n",
    "    x=\"gene_mention_count\", \n",
    "    y=\"compound_mention_count\", \n",
    "    data=\n",
    "    (\n",
    "        filtered_total_candidates_df\n",
    "        .drop_duplicates(\"sentence_id\")\n",
    "        .groupby([\"gene_mention_count\", \"compound_mention_count\"]).size()\n",
    "        .reset_index()\n",
    "        .rename(index=str, columns={0:\"size\"})\n",
    "        .assign(natural_log_size= lambda x: pd.np.log(x['size']))\n",
    "    ),\n",
    "    hue=\"natural_log_size\",\n",
    "    palette='viridis'\n",
    ")\n",
    "ax.set_title(\"Mention Distribution of Entire Dataset\")"
   ]
  },
  {
   "cell_type": "markdown",
   "metadata": {},
   "source": [
    "In the above graph every point is group of possible mention counts sentences could contain. For example one group has sentences containing one gene mention and one compound mention (indicated in the bottom left in yellow). Overall this graph is acceptable in terms of the spread between mentions; however, when getting ready to train the deep learning models one has to make sure the algorithm can detect which co-mention pair the candidate is referring to."
   ]
  },
  {
   "cell_type": "markdown",
   "metadata": {},
   "source": [
    "# Subsampled Set Distributions"
   ]
  },
  {
   "cell_type": "markdown",
   "metadata": {},
   "source": [
    "Take a look at the stratification for each train/dev/test set."
   ]
  },
  {
   "cell_type": "markdown",
   "metadata": {},
   "source": [
    "## Training Set"
   ]
  },
  {
   "cell_type": "markdown",
   "metadata": {},
   "source": [
    "Here the training set covers majority of the characterisitics are the entire dataset. This isn't surprising because a stratified sort was used to allocate candidates."
   ]
  },
  {
   "cell_type": "code",
   "execution_count": 28,
   "metadata": {
    "ExecuteTime": {
     "end_time": "2019-03-11T17:57:12.105768Z",
     "start_time": "2019-03-11T17:57:11.460946Z"
    }
   },
   "outputs": [
    {
     "data": {
      "text/plain": [
       "Text(0.5,1,'Distribution of Sentences in Entire Training Set')"
      ]
     },
     "execution_count": 28,
     "metadata": {},
     "output_type": "execute_result"
    },
    {
     "data": {
      "image/png": "[encoded data removed]",
      "text/plain": [
       "<matplotlib.figure.Figure at 0x7f4f6d5ce048>"
      ]
     },
     "metadata": {},
     "output_type": "display_data"
    }
   ],
   "source": [
    "ax = sns.scatterplot(\n",
    "    x=\"gene_mention_count\", \n",
    "    y=\"compound_mention_count\", \n",
    "    data=\n",
    "    (\n",
    "        filtered_total_candidates_df\n",
    "        .query(\"split==6\")\n",
    "        .drop_duplicates(\"sentence_id\")\n",
    "        .groupby([\"gene_mention_count\", \"compound_mention_count\"]).size()\n",
    "        .reset_index()\n",
    "        .rename(index=str, columns={0:\"size\"})\n",
    "        .assign(natural_log_size= lambda x: pd.np.log(x['size']))\n",
    "    ),\n",
    "    hue=\"natural_log_size\",\n",
    "    palette='viridis'\n",
    ")\n",
    "ax.set_title(\"Distribution of Sentences in Entire Training Set\")"
   ]
  },
  {
   "cell_type": "markdown",
   "metadata": {},
   "source": [
    "## Dev Set"
   ]
  },
  {
   "cell_type": "markdown",
   "metadata": {},
   "source": [
    "This block contains information on the development set (aka tuning set)."
   ]
  },
  {
   "cell_type": "code",
   "execution_count": 29,
   "metadata": {
    "ExecuteTime": {
     "end_time": "2019-03-11T17:57:14.072796Z",
     "start_time": "2019-03-11T17:57:13.709689Z"
    }
   },
   "outputs": [
    {
     "data": {
      "text/plain": [
       "Text(0.5,1,'Sentence Distribution of Total Dev Dataset')"
      ]
     },
     "execution_count": 29,
     "metadata": {},
     "output_type": "execute_result"
    },
    {
     "data": {
      "image/png": "[encoded data removed]",
      "text/plain": [
       "<matplotlib.figure.Figure at 0x7f4f6d5ce630>"
      ]
     },
     "metadata": {},
     "output_type": "display_data"
    }
   ],
   "source": [
    "ax = sns.scatterplot(\n",
    "    x=\"gene_mention_count\", \n",
    "    y=\"compound_mention_count\", \n",
    "    data=\n",
    "    (\n",
    "        filtered_total_candidates_df\n",
    "        .query(\"split==7\")\n",
    "        .drop_duplicates(\"sentence_id\")\n",
    "        .groupby([\"gene_mention_count\", \"compound_mention_count\"]).size()\n",
    "        .reset_index()\n",
    "        .rename(index=str, columns={0:\"size\"})\n",
    "        .assign(natural_log_size= lambda x: pd.np.log(x['size']))\n",
    "    ),\n",
    "    hue=\"natural_log_size\",\n",
    "    palette='viridis'\n",
    ")\n",
    "ax.set_title(\"Sentence Distribution of Total Dev Dataset\")"
   ]
  },
  {
   "cell_type": "code",
   "execution_count": 30,
   "metadata": {
    "ExecuteTime": {
     "end_time": "2019-03-11T17:57:39.645031Z",
     "start_time": "2019-03-11T17:57:39.318548Z"
    }
   },
   "outputs": [
    {
     "name": "stderr",
     "output_type": "stream",
     "text": [
      "/home/danich1/anaconda2/envs/snorkeling/lib/python3.6/site-packages/scipy/stats/stats.py:1713: FutureWarning: Using a non-tuple sequence for multidimensional indexing is deprecated; use `arr[tuple(seq)]` instead of `arr[seq]`. In the future this will be interpreted as an array index, `arr[np.array(seq)]`, which will result either in an error or a different result.\n",
      "  return np.add.reduce(sorted[indexer] * weights, axis=axis) / sumval\n"
     ]
    },
    {
     "data": {
      "text/plain": [
       "<matplotlib.axes._subplots.AxesSubplot at 0x7f4f80cac4a8>"
      ]
     },
     "execution_count": 30,
     "metadata": {},
     "output_type": "execute_result"
    },
    {
     "data": {
      "image/png": "[encoded data removed]",
      "text/plain": [
       "<matplotlib.figure.Figure at 0x7f4f587da5f8>"
      ]
     },
     "metadata": {},
     "output_type": "display_data"
    }
   ],
   "source": [
    "sns.distplot(filtered_total_candidates_df.query(\"split==7\")[\"sen_length\"], rug=False)"
   ]
  },
  {
   "cell_type": "markdown",
   "metadata": {},
   "source": [
    "## Test Set"
   ]
  },
  {
   "cell_type": "markdown",
   "metadata": {},
   "source": [
    "This block contains information on the test set."
   ]
  },
  {
   "cell_type": "code",
   "execution_count": 31,
   "metadata": {
    "ExecuteTime": {
     "end_time": "2019-03-11T17:57:45.140277Z",
     "start_time": "2019-03-11T17:57:44.865774Z"
    }
   },
   "outputs": [
    {
     "data": {
      "text/plain": [
       "Text(0.5,1,'Sentence Distribution of Total Test Dataset')"
      ]
     },
     "execution_count": 31,
     "metadata": {},
     "output_type": "execute_result"
    },
    {
     "data": {
      "image/png": "[encoded data removed]",
      "text/plain": [
       "<matplotlib.figure.Figure at 0x7f4f6aef5da0>"
      ]
     },
     "metadata": {},
     "output_type": "display_data"
    }
   ],
   "source": [
    "ax = sns.scatterplot(\n",
    "    x=\"gene_mention_count\", \n",
    "    y=\"compound_mention_count\", \n",
    "    data=\n",
    "    (\n",
    "        filtered_total_candidates_df\n",
    "        .query(\"split==8\")\n",
    "        .drop_duplicates(\"sentence_id\")\n",
    "        .groupby([\"gene_mention_count\", \"compound_mention_count\"]).size()\n",
    "        .reset_index()\n",
    "        .rename(index=str, columns={0:\"size\"})\n",
    "        .assign(natural_log_size= lambda x: pd.np.log(x['size']))\n",
    "    ),\n",
    "    hue=\"natural_log_size\",\n",
    "    palette='viridis'\n",
    ")\n",
    "ax.set_title(\"Sentence Distribution of Total Test Dataset\")"
   ]
  },
  {
   "cell_type": "code",
   "execution_count": 32,
   "metadata": {
    "ExecuteTime": {
     "end_time": "2019-03-11T17:57:53.448328Z",
     "start_time": "2019-03-11T17:57:53.155920Z"
    }
   },
   "outputs": [
    {
     "name": "stderr",
     "output_type": "stream",
     "text": [
      "/home/danich1/anaconda2/envs/snorkeling/lib/python3.6/site-packages/scipy/stats/stats.py:1713: FutureWarning: Using a non-tuple sequence for multidimensional indexing is deprecated; use `arr[tuple(seq)]` instead of `arr[seq]`. In the future this will be interpreted as an array index, `arr[np.array(seq)]`, which will result either in an error or a different result.\n",
      "  return np.add.reduce(sorted[indexer] * weights, axis=axis) / sumval\n"
     ]
    },
    {
     "data": {
      "text/plain": [
       "<matplotlib.axes._subplots.AxesSubplot at 0x7f4f57e362b0>"
      ]
     },
     "execution_count": 32,
     "metadata": {},
     "output_type": "execute_result"
    },
    {
     "data": {
      "image/png": "[encoded data removed]",
      "text/plain": [
       "<matplotlib.figure.Figure at 0x7f4f770bd320>"
      ]
     },
     "metadata": {},
     "output_type": "display_data"
    }
   ],
   "source": [
    "sns.distplot(filtered_total_candidates_df.query(\"split==8\")[\"sen_length\"], rug=False)"
   ]
  },
  {
   "cell_type": "markdown",
   "metadata": {},
   "source": [
    "In conclusion, the optimal cutoff point in this case would be: **84** tokens/words or smaller depending on algorithm performance. Another important lesson is to analyze one's dataset before undergoing the journey of training a deep learning model. Sentence length is an important factor, when it comes to filtering out the dataset. If ignored, a significant amount of problems will arise. For example, when training a long short term memory network (LSTM), sequence length dictates how many steps the LSTM needs to traverse in order to ultimately calculate the probability of a sentence mentioning a relationship. If the LSTM were to be fed a sentence that contains 834 words, then the network has 834 steps to parse through. This takes a significant amount of time (~20 hours+). Plus during backpropogation, the gradient will become very small that the network cannot learn anything useful ([Backpropogation through time](https://en.wikipedia.org/wiki/Backpropagation_through_time)). "
   ]
  }
 ],
 "metadata": {
  "kernelspec": {
   "display_name": "Python [conda env:snorkeling]",
   "language": "python",
   "name": "conda-env-snorkeling-py"
  },
  "language_info": {
   "codemirror_mode": {
    "name": "ipython",
    "version": 3
   },
   "file_extension": ".py",
   "mimetype": "text/x-python",
   "name": "python",
   "nbconvert_exporter": "python",
   "pygments_lexer": "ipython3",
   "version": "3.6.4"
  }
 },
 "nbformat": 4,
 "nbformat_minor": 2
}
