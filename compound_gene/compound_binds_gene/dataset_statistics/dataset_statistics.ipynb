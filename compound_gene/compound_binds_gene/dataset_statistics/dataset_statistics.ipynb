{
 "cells": [
  {
   "cell_type": "markdown",
   "metadata": {},
   "source": [
    "# Dataset Statistics for Compound Gene Sentences"
   ]
  },
  {
   "cell_type": "markdown",
   "metadata": {},
   "source": [
    "This notebook is designed to show statistics on the data extracted from pubmed. The following cells below here are needed to set up the environment."
   ]
  },
  {
   "cell_type": "code",
   "execution_count": 2,
   "metadata": {
    "ExecuteTime": {
     "end_time": "2020-01-16T18:37:14.661867Z",
     "start_time": "2020-01-16T18:37:11.887043Z"
    }
   },
   "outputs": [
    {
     "name": "stdout",
     "output_type": "stream",
     "text": [
      "The autoreload extension is already loaded. To reload it, use:\n",
      "  %reload_ext autoreload\n"
     ]
    }
   ],
   "source": [
    "%load_ext autoreload\n",
    "%autoreload 2\n",
    "%matplotlib inline\n",
    "\n",
    "from collections import Counter\n",
    "from itertools import product\n",
    "import os\n",
    "import pickle\n",
    "import sys\n",
    "\n",
    "sys.path.append(os.path.abspath('../../../modules'))\n",
    "\n",
    "import pandas as pd\n",
    "import matplotlib.pyplot as plt\n",
    "import seaborn as sns\n",
    "from tqdm import tqdm_notebook\n",
    "\n",
    "sns.set(rc={'figure.figsize':(12,6), \"font.size\":17})"
   ]
  },
  {
   "cell_type": "code",
   "execution_count": 3,
   "metadata": {
    "ExecuteTime": {
     "end_time": "2020-01-16T18:37:15.645132Z",
     "start_time": "2020-01-16T18:37:14.758013Z"
    }
   },
   "outputs": [],
   "source": [
    "#Set up the environment\n",
    "username = \"danich1\"\n",
    "password = \"snorkel\"\n",
    "dbname = \"pubmeddb\"\n",
    "\n",
    "#Path subject to change for different os\n",
    "database_str = \"postgresql+psycopg2://{}:{}@/{}?host=/var/run/postgresql\".format(username, password, dbname)\n",
    "os.environ['SNORKELDB'] = database_str\n",
    "\n",
    "from snorkel import SnorkelSession\n",
    "session = SnorkelSession()"
   ]
  },
  {
   "cell_type": "code",
   "execution_count": 4,
   "metadata": {
    "ExecuteTime": {
     "end_time": "2020-01-16T18:37:15.747872Z",
     "start_time": "2020-01-16T18:37:15.730205Z"
    }
   },
   "outputs": [],
   "source": [
    "from snorkel.models import candidate_subclass, Candidate\n",
    "CompoundGene = candidate_subclass('CompoundGene', ['Compound', 'Gene'])"
   ]
  },
  {
   "cell_type": "code",
   "execution_count": 5,
   "metadata": {
    "ExecuteTime": {
     "end_time": "2020-01-16T18:37:16.215329Z",
     "start_time": "2020-01-16T18:37:15.834257Z"
    }
   },
   "outputs": [],
   "source": [
    "from utils.notebook_utils.dataframe_helper import write_candidates_to_excel, make_sentence_df"
   ]
  },
  {
   "cell_type": "markdown",
   "metadata": {},
   "source": [
    "## Load and Merge DataFrames"
   ]
  },
  {
   "cell_type": "code",
   "execution_count": 9,
   "metadata": {
    "ExecuteTime": {
     "end_time": "2020-01-16T18:38:07.845561Z",
     "start_time": "2020-01-16T18:38:07.433943Z"
    }
   },
   "outputs": [
    {
     "data": {
      "text/html": [
       "<div>\n",
       "<style scoped>\n",
       "    .dataframe tbody tr th:only-of-type {\n",
       "        vertical-align: middle;\n",
       "    }\n",
       "\n",
       "    .dataframe tbody tr th {\n",
       "        vertical-align: top;\n",
       "    }\n",
       "\n",
       "    .dataframe thead th {\n",
       "        text-align: right;\n",
       "    }\n",
       "</style>\n",
       "<table border=\"1\" class=\"dataframe\">\n",
       "  <thead>\n",
       "    <tr style=\"text-align: right;\">\n",
       "      <th></th>\n",
       "      <th>entrez_gene_id</th>\n",
       "      <th>gene_symbol</th>\n",
       "      <th>drugbank_id</th>\n",
       "      <th>name</th>\n",
       "      <th>sources</th>\n",
       "      <th>hetionet</th>\n",
       "      <th>n_sentences</th>\n",
       "      <th>has_sentence</th>\n",
       "      <th>partition_rank</th>\n",
       "      <th>split</th>\n",
       "    </tr>\n",
       "  </thead>\n",
       "  <tbody>\n",
       "    <tr>\n",
       "      <th>0</th>\n",
       "      <td>1</td>\n",
       "      <td>A1BG</td>\n",
       "      <td>DB00117</td>\n",
       "      <td>L-Histidine</td>\n",
       "      <td>NaN</td>\n",
       "      <td>0</td>\n",
       "      <td>1</td>\n",
       "      <td>1</td>\n",
       "      <td>0.37753</td>\n",
       "      <td>6</td>\n",
       "    </tr>\n",
       "    <tr>\n",
       "      <th>1</th>\n",
       "      <td>1</td>\n",
       "      <td>A1BG</td>\n",
       "      <td>DB00143</td>\n",
       "      <td>Glutathione</td>\n",
       "      <td>NaN</td>\n",
       "      <td>0</td>\n",
       "      <td>1</td>\n",
       "      <td>1</td>\n",
       "      <td>0.30352</td>\n",
       "      <td>6</td>\n",
       "    </tr>\n",
       "  </tbody>\n",
       "</table>\n",
       "</div>"
      ],
      "text/plain": [
       "   entrez_gene_id gene_symbol drugbank_id         name sources  hetionet  \\\n",
       "0               1        A1BG     DB00117  L-Histidine     NaN         0   \n",
       "1               1        A1BG     DB00143  Glutathione     NaN         0   \n",
       "\n",
       "   n_sentences  has_sentence  partition_rank  split  \n",
       "0            1             1         0.37753      6  \n",
       "1            1             1         0.30352      6  "
      ]
     },
     "execution_count": 9,
     "metadata": {},
     "output_type": "execute_result"
    }
   ],
   "source": [
    "edge_level_df = pd.read_csv(\"input/compound_binds_gene.tsv.xz\", sep=\"\\t\")\n",
    "edge_level_df.head(2)"
   ]
  },
  {
   "cell_type": "code",
   "execution_count": 11,
   "metadata": {
    "ExecuteTime": {
     "end_time": "2020-01-16T19:09:26.086685Z",
     "start_time": "2020-01-16T18:38:22.129533Z"
    }
   },
   "outputs": [
    {
     "data": {
      "text/html": [
       "<div>\n",
       "<style scoped>\n",
       "    .dataframe tbody tr th:only-of-type {\n",
       "        vertical-align: middle;\n",
       "    }\n",
       "\n",
       "    .dataframe tbody tr th {\n",
       "        vertical-align: top;\n",
       "    }\n",
       "\n",
       "    .dataframe thead th {\n",
       "        text-align: right;\n",
       "    }\n",
       "</style>\n",
       "<table border=\"1\" class=\"dataframe\">\n",
       "  <thead>\n",
       "    <tr style=\"text-align: right;\">\n",
       "      <th></th>\n",
       "      <th>candidate_id</th>\n",
       "      <th>drugbank_id</th>\n",
       "      <th>entrez_gene_id</th>\n",
       "      <th>sentence_id</th>\n",
       "      <th>text</th>\n",
       "      <th>sen_length</th>\n",
       "    </tr>\n",
       "  </thead>\n",
       "  <tbody>\n",
       "    <tr>\n",
       "      <th>0</th>\n",
       "      <td>60759</td>\n",
       "      <td>DB04398</td>\n",
       "      <td>11181</td>\n",
       "      <td>50374</td>\n",
       "      <td>Urinary excretion of lactate dehydrogenase, hy...</td>\n",
       "      <td>47</td>\n",
       "    </tr>\n",
       "    <tr>\n",
       "      <th>1</th>\n",
       "      <td>60755</td>\n",
       "      <td>DB04398</td>\n",
       "      <td>10724</td>\n",
       "      <td>50374</td>\n",
       "      <td>Urinary excretion of lactate dehydrogenase, hy...</td>\n",
       "      <td>47</td>\n",
       "    </tr>\n",
       "  </tbody>\n",
       "</table>\n",
       "</div>"
      ],
      "text/plain": [
       "   candidate_id drugbank_id  entrez_gene_id  sentence_id  \\\n",
       "0         60759     DB04398           11181        50374   \n",
       "1         60755     DB04398           10724        50374   \n",
       "\n",
       "                                                text  sen_length  \n",
       "0  Urinary excretion of lactate dehydrogenase, hy...          47  \n",
       "1  Urinary excretion of lactate dehydrogenase, hy...          47  "
      ]
     },
     "execution_count": 11,
     "metadata": {},
     "output_type": "execute_result"
    }
   ],
   "source": [
    "sql = '''\n",
    "select cand_id as candidate_id, drugbank_id, entrez_gene_id, sentence_id, text, array_length(words, 1) as sen_length from (\n",
    "    select cand_id, \"Gene_cid\" as entrez_gene_id, \"Compound_cid\" as drugbank_id, sentence_id from \n",
    "        (\n",
    "            select compound_gene.id as \"cand_id\", compound_gene.\"Compound_id\",\n",
    "            compound_gene.\"Gene_cid\", compound_gene.\"Compound_cid\", candidate.split from compound_gene \n",
    "            inner join candidate on compound_gene.id=candidate.id \n",
    "        ) as candidate_splits inner join span on candidate_splits.\"Compound_id\"=span.id\n",
    "    ) as candidate_sen inner join sentence on candidate_sen.sentence_id=sentence.id\n",
    "'''\n",
    "candidate_sentence_df = pd.read_sql(sql, database_str).astype({\"entrez_gene_id\": int})\n",
    "candidate_sentence_df.head(2)"
   ]
  },
  {
   "cell_type": "code",
   "execution_count": 14,
   "metadata": {
    "ExecuteTime": {
     "end_time": "2020-01-16T19:10:22.507872Z",
     "start_time": "2020-01-16T19:10:20.942471Z"
    }
   },
   "outputs": [
    {
     "data": {
      "text/html": [
       "<div>\n",
       "<style scoped>\n",
       "    .dataframe tbody tr th:only-of-type {\n",
       "        vertical-align: middle;\n",
       "    }\n",
       "\n",
       "    .dataframe tbody tr th {\n",
       "        vertical-align: top;\n",
       "    }\n",
       "\n",
       "    .dataframe thead th {\n",
       "        text-align: right;\n",
       "    }\n",
       "</style>\n",
       "<table border=\"1\" class=\"dataframe\">\n",
       "  <thead>\n",
       "    <tr style=\"text-align: right;\">\n",
       "      <th></th>\n",
       "      <th>entrez_gene_id</th>\n",
       "      <th>gene_symbol</th>\n",
       "      <th>drugbank_id</th>\n",
       "      <th>name</th>\n",
       "      <th>sources</th>\n",
       "      <th>hetionet</th>\n",
       "      <th>n_sentences</th>\n",
       "      <th>has_sentence</th>\n",
       "      <th>partition_rank</th>\n",
       "      <th>split</th>\n",
       "      <th>candidate_id</th>\n",
       "      <th>sentence_id</th>\n",
       "      <th>text</th>\n",
       "      <th>sen_length</th>\n",
       "    </tr>\n",
       "  </thead>\n",
       "  <tbody>\n",
       "    <tr>\n",
       "      <th>0</th>\n",
       "      <td>1</td>\n",
       "      <td>A1BG</td>\n",
       "      <td>DB00117</td>\n",
       "      <td>L-Histidine</td>\n",
       "      <td>NaN</td>\n",
       "      <td>0</td>\n",
       "      <td>1</td>\n",
       "      <td>1</td>\n",
       "      <td>0.37753</td>\n",
       "      <td>6</td>\n",
       "      <td>33517095</td>\n",
       "      <td>94389805</td>\n",
       "      <td>Thus, as the assessment of protein glycosylati...</td>\n",
       "      <td>92</td>\n",
       "    </tr>\n",
       "    <tr>\n",
       "      <th>1</th>\n",
       "      <td>1</td>\n",
       "      <td>A1BG</td>\n",
       "      <td>DB00143</td>\n",
       "      <td>Glutathione</td>\n",
       "      <td>NaN</td>\n",
       "      <td>0</td>\n",
       "      <td>1</td>\n",
       "      <td>1</td>\n",
       "      <td>0.30352</td>\n",
       "      <td>6</td>\n",
       "      <td>28913100</td>\n",
       "      <td>83523801</td>\n",
       "      <td>Similar observations were made in T98 glioma c...</td>\n",
       "      <td>33</td>\n",
       "    </tr>\n",
       "  </tbody>\n",
       "</table>\n",
       "</div>"
      ],
      "text/plain": [
       "   entrez_gene_id gene_symbol drugbank_id         name sources  hetionet  \\\n",
       "0               1        A1BG     DB00117  L-Histidine     NaN         0   \n",
       "1               1        A1BG     DB00143  Glutathione     NaN         0   \n",
       "\n",
       "   n_sentences  has_sentence  partition_rank  split  candidate_id  \\\n",
       "0            1             1         0.37753      6      33517095   \n",
       "1            1             1         0.30352      6      28913100   \n",
       "\n",
       "   sentence_id                                               text  sen_length  \n",
       "0     94389805  Thus, as the assessment of protein glycosylati...          92  \n",
       "1     83523801  Similar observations were made in T98 glioma c...          33  "
      ]
     },
     "execution_count": 14,
     "metadata": {},
     "output_type": "execute_result"
    }
   ],
   "source": [
    "total_candidates_df= (\n",
    "    edge_level_df\n",
    "    .merge(candidate_sentence_df, on=[\"drugbank_id\", \"entrez_gene_id\"])\n",
    ")\n",
    "total_candidates_df.head(2)"
   ]
  },
  {
   "cell_type": "code",
   "execution_count": 18,
   "metadata": {
    "ExecuteTime": {
     "end_time": "2020-01-16T19:12:12.337799Z",
     "start_time": "2020-01-16T19:11:09.771267Z"
    }
   },
   "outputs": [
    {
     "data": {
      "application/vnd.jupyter.widget-view+json": {
       "model_id": "24f44e74d2644eabbafefd713e8edede",
       "version_major": 2,
       "version_minor": 0
      },
      "text/plain": [
       "HBox(children=(FloatProgress(value=0.0, max=10000.0), HTML(value='')))"
      ]
     },
     "metadata": {},
     "output_type": "display_data"
    },
    {
     "name": "stdout",
     "output_type": "stream",
     "text": [
      "\n"
     ]
    },
    {
     "data": {
      "text/html": [
       "<div>\n",
       "<style scoped>\n",
       "    .dataframe tbody tr th:only-of-type {\n",
       "        vertical-align: middle;\n",
       "    }\n",
       "\n",
       "    .dataframe tbody tr th {\n",
       "        vertical-align: top;\n",
       "    }\n",
       "\n",
       "    .dataframe thead th {\n",
       "        text-align: right;\n",
       "    }\n",
       "</style>\n",
       "<table border=\"1\" class=\"dataframe\">\n",
       "  <thead>\n",
       "    <tr style=\"text-align: right;\">\n",
       "      <th></th>\n",
       "      <th>candidate_id</th>\n",
       "      <th>compound</th>\n",
       "      <th>gene</th>\n",
       "      <th>drugbank_id</th>\n",
       "      <th>entrez_gene_id</th>\n",
       "      <th>sentence</th>\n",
       "    </tr>\n",
       "  </thead>\n",
       "  <tbody>\n",
       "    <tr>\n",
       "      <th>0</th>\n",
       "      <td>50920</td>\n",
       "      <td>aspartic acid</td>\n",
       "      <td>angiotensin I</td>\n",
       "      <td>DB03089</td>\n",
       "      <td>183</td>\n",
       "      <td>at high enzyme concentration , the enzyme cata...</td>\n",
       "    </tr>\n",
       "    <tr>\n",
       "      <th>1</th>\n",
       "      <td>51923</td>\n",
       "      <td>netilmicin</td>\n",
       "      <td>Gmr)</td>\n",
       "      <td>DB00955</td>\n",
       "      <td>1438</td>\n",
       "      <td>an apparently homogeneous strain of staphyloco...</td>\n",
       "    </tr>\n",
       "  </tbody>\n",
       "</table>\n",
       "</div>"
      ],
      "text/plain": [
       "   candidate_id       compound           gene drugbank_id entrez_gene_id  \\\n",
       "0         50920  aspartic acid  angiotensin I     DB03089            183   \n",
       "1         51923     netilmicin           Gmr)     DB00955           1438   \n",
       "\n",
       "                                            sentence  \n",
       "0  at high enzyme concentration , the enzyme cata...  \n",
       "1  an apparently homogeneous strain of staphyloco...  "
      ]
     },
     "execution_count": 18,
     "metadata": {},
     "output_type": "execute_result"
    }
   ],
   "source": [
    "dev_candidates = (\n",
    "    session\n",
    "    .query(CompoundGene)\n",
    "    .filter(\n",
    "        CompoundGene.id.in_(\n",
    "            total_candidates_df\n",
    "            .query(\"split==7\")\n",
    "            .sample(10000, random_state=100)\n",
    "            .candidate_id\n",
    "            .tolist()\n",
    "        )\n",
    "    )\n",
    "    .all()\n",
    ")\n",
    "dev_df = make_sentence_df(dev_candidates)\n",
    "dev_df.head(2)"
   ]
  },
  {
   "cell_type": "code",
   "execution_count": 19,
   "metadata": {
    "ExecuteTime": {
     "end_time": "2020-01-16T19:13:12.583570Z",
     "start_time": "2020-01-16T19:12:13.942693Z"
    }
   },
   "outputs": [
    {
     "data": {
      "application/vnd.jupyter.widget-view+json": {
       "model_id": "3cd7ecfc19aa4d3982eb036f6aef6b57",
       "version_major": 2,
       "version_minor": 0
      },
      "text/plain": [
       "HBox(children=(FloatProgress(value=0.0, max=10000.0), HTML(value='')))"
      ]
     },
     "metadata": {},
     "output_type": "display_data"
    },
    {
     "name": "stdout",
     "output_type": "stream",
     "text": [
      "\n"
     ]
    },
    {
     "data": {
      "text/html": [
       "<div>\n",
       "<style scoped>\n",
       "    .dataframe tbody tr th:only-of-type {\n",
       "        vertical-align: middle;\n",
       "    }\n",
       "\n",
       "    .dataframe tbody tr th {\n",
       "        vertical-align: top;\n",
       "    }\n",
       "\n",
       "    .dataframe thead th {\n",
       "        text-align: right;\n",
       "    }\n",
       "</style>\n",
       "<table border=\"1\" class=\"dataframe\">\n",
       "  <thead>\n",
       "    <tr style=\"text-align: right;\">\n",
       "      <th></th>\n",
       "      <th>candidate_id</th>\n",
       "      <th>compound</th>\n",
       "      <th>gene</th>\n",
       "      <th>drugbank_id</th>\n",
       "      <th>entrez_gene_id</th>\n",
       "      <th>sentence</th>\n",
       "    </tr>\n",
       "  </thead>\n",
       "  <tbody>\n",
       "    <tr>\n",
       "      <th>0</th>\n",
       "      <td>50508</td>\n",
       "      <td>DHT</td>\n",
       "      <td>TeBG</td>\n",
       "      <td>DB07447</td>\n",
       "      <td>6462</td>\n",
       "      <td>at a 10-fold molar excess , using both baboon ...</td>\n",
       "    </tr>\n",
       "    <tr>\n",
       "      <th>1</th>\n",
       "      <td>51551</td>\n",
       "      <td>lactate</td>\n",
       "      <td>insulin-treated</td>\n",
       "      <td>DB04398</td>\n",
       "      <td>3630</td>\n",
       "      <td>however , the mean value of blood ~~[[1 lactat...</td>\n",
       "    </tr>\n",
       "  </tbody>\n",
       "</table>\n",
       "</div>"
      ],
      "text/plain": [
       "   candidate_id compound             gene drugbank_id entrez_gene_id  \\\n",
       "0         50508      DHT             TeBG     DB07447           6462   \n",
       "1         51551  lactate  insulin-treated     DB04398           3630   \n",
       "\n",
       "                                            sentence  \n",
       "0  at a 10-fold molar excess , using both baboon ...  \n",
       "1  however , the mean value of blood ~~[[1 lactat...  "
      ]
     },
     "execution_count": 19,
     "metadata": {},
     "output_type": "execute_result"
    }
   ],
   "source": [
    "test_candidates = (\n",
    "    session\n",
    "    .query(CompoundGene)\n",
    "    .filter(\n",
    "        CompoundGene.id.in_(\n",
    "            total_candidates_df\n",
    "            .query(\"split==8\")\n",
    "            .sample(10000, random_state=100)\n",
    "            .candidate_id\n",
    "            .tolist()\n",
    "        )\n",
    "    )\n",
    "    .all()\n",
    ")\n",
    "test_df = make_sentence_df(test_candidates)\n",
    "test_df.head(2)"
   ]
  },
  {
   "cell_type": "code",
   "execution_count": 20,
   "metadata": {
    "ExecuteTime": {
     "end_time": "2020-01-16T19:13:15.588342Z",
     "start_time": "2020-01-16T19:13:15.574066Z"
    }
   },
   "outputs": [],
   "source": [
    "#write_candidates_to_excel(dev_df, \"../data/sentences/sentence_labels_dev.xlsx\")\n",
    "#write_candidates_to_excel(test_df, \"../data/sentences/sentence_labels_test.xlsx\")"
   ]
  },
  {
   "cell_type": "markdown",
   "metadata": {},
   "source": [
    "## Distribution of Sentence Length"
   ]
  },
  {
   "cell_type": "code",
   "execution_count": 21,
   "metadata": {
    "ExecuteTime": {
     "end_time": "2020-01-16T19:13:20.217391Z",
     "start_time": "2020-01-16T19:13:18.566919Z"
    },
    "scrolled": false
   },
   "outputs": [
    {
     "data": {
      "text/plain": [
       "<matplotlib.axes._subplots.AxesSubplot at 0x7f0365b1cf98>"
      ]
     },
     "execution_count": 21,
     "metadata": {},
     "output_type": "execute_result"
    },
    {
     "data": {
      "image/png": "[encoded data removed]",
      "text/plain": [
       "<Figure size 864x432 with 1 Axes>"
      ]
     },
     "metadata": {},
     "output_type": "display_data"
    }
   ],
   "source": [
    "sns.distplot(total_candidates_df[\"sen_length\"], rug=False)"
   ]
  },
  {
   "cell_type": "code",
   "execution_count": 22,
   "metadata": {
    "ExecuteTime": {
     "end_time": "2020-01-16T19:13:20.312682Z",
     "start_time": "2020-01-16T19:13:20.219258Z"
    }
   },
   "outputs": [
    {
     "data": {
      "text/plain": [
       "count    3023147\n",
       "mean          40\n",
       "std           26\n",
       "min            3\n",
       "25%           26\n",
       "50%           36\n",
       "75%           49\n",
       "max          641\n",
       "Name: sen_length, dtype: int64"
      ]
     },
     "execution_count": 22,
     "metadata": {},
     "output_type": "execute_result"
    }
   ],
   "source": [
    "total_candidates_df[\"sen_length\"].describe().astype(int)"
   ]
  },
  {
   "cell_type": "markdown",
   "metadata": {},
   "source": [
    "Something seems fishy about this distribution. The number of words (tokens) for a given sentence is in the thousands range. Intuitively, that doesn't make sense, since the average number of words for a given sentence is 42. Possible reason for this abnormality is a parsing error. Lets take a look at this 834 word sentence."
   ]
  },
  {
   "cell_type": "code",
   "execution_count": 23,
   "metadata": {
    "ExecuteTime": {
     "end_time": "2020-01-16T19:14:49.876492Z",
     "start_time": "2020-01-16T19:14:49.844742Z"
    }
   },
   "outputs": [
    {
     "data": {
      "text/plain": [
       "'neurintsurg;6/Suppl_1/A4-a/T1T1T1 Abstract O-007 Table 1 Change in PRU values after first clopidogrel dose adjustment Clopidogrel dose adjustment (DA) Number of patients Mean Pre-DA PRU Mean Post-DA PRU Mean PRU Change Patients within target 60-240 PRU range after DA Hypo-Responders, 75 mg daily to 150mg daily 7 264 182 -82 71% Hyper-Responders 33 21 69 +48 46% 75 mg daily to 75 mg every-other-day: 17 30 61 +31 35% 75 mg daily to 75 mg every-third-day: 13 13 71 +58 54% 75 mg daily to 75 mg every-Monday-and-Friday: 3 5 104 +99 67% neurintsurg;6/Suppl_1/A4-a/T2T2T2 Abstract O-007 Table 2 Change in PRU values after subsequent clopidogrel dose adjustments Clopidogrel dose adjustment (DA) Number of patients Mean days after clopidogrel initiation Mean days after procedure Mean PRU pre-DA Mean PRU post-DA Mean PRU change Patients within target 60-240 PRU range after DA Second DA: 24 40 25 29 92 +63 71% 150mg daily to 75mg daily (n = 1) or 75mg every-other-day (n = 1) 2 43 106 +63 100% 75 mg every-other-day to 75 mg every-third-day (n = 9) or 75 mg every-Monday-and-Friday (n = 3) 12 33 72 +39 58% 75 mg every-third-day to 75 mg every-Monday-and-Friday (n = 3), 75mg every-fifth-day (n = 4) or 75mg once-a-week (n = 1) 8 24 119 +95 88% 75 mg every-Monday-and-Friday to 75 mg once-a-week (n = 1) or 7.5 mg daily suspension (n = 1) 2 7 87 +80 50% Third DA 7 47 31 33 115 +82 57% 75 mg every-third-day to 75 mg every-fourth-day (n = 3) or 75 mg every-Monday-and-Friday (n = 3) 6 37 105 +68 50% 75 mg every-Monday-and-Friday to 75 mg once-a-week 1 9 178 +169 100% Fourth DA, 75 mg every-fourth-day to 75 mg every-fifth-day 1 39 29 42 155 +113 100% neurintsurg;6/Suppl_1/A4-a/T3T3T3 Abstract O-007 Table 3 Finalreceptor antagonist and major thromboembolic and haemorrhagic complications P2Y12 receptor antagonist dosing Number of patients (%) Major thromboembolic complications (mRS >=  3) PRU at time of complication (% with PRU >240) Major haemorrhagic complications (mRS >=  3) PRU at time of complication (% with PRU < 60) Clopidogrel, 150 mg daily 5 (8%) 1 (20%) 292 (100%) 1 (20%) 10 (100%) Clopidogrel, 75 mg daily 20 (30%) 0 n/a 0 n/a Clopidogrel, 75 mg every-other-day (n = 4) or 75 mg every-third-day (n = 7) 11 (17%) 0 n/a 0 n/a Clopidogrel, 75 mg every-fourth-day 2 (3%) 0 n/a 1 (50%) 58 (100%) Clopidogrel, 75 mg every-Monday-and-Friday 10 (15%) 0 n/a 0 n/a Clopidogrel, 75 mg every-fifth-day (n = 5) or 75 mg once-a-week (n = 3) 8 (12%) 0 n/a 0 n/a Clopidogrel suspension, 7.5 mg daily: 1 (1.5%) 0 n/a 0 n/a Prasugrel, 5 mg daily (n = 5) or 10mg daily (n = 3) 8 (12%) 0 n/a 2 (25%) 0, 185 (50%) Ticagrelor, 90 mg twice-a-day 1 (1.5%) 0 n/a 0 n/a DISCLOSURES: J. Delgado Almandoz: 2; C; Covidien/ev3, Microvention/Terumo, Penumbra Inc.'"
      ]
     },
     "execution_count": 23,
     "metadata": {},
     "output_type": "execute_result"
    }
   ],
   "source": [
    "total_candidates_df.query(\"sen_length==641\").iloc[0][\"text\"]"
   ]
  },
  {
   "cell_type": "markdown",
   "metadata": {},
   "source": [
    "The above sentence shows that a long list of drugs that a issue will cover. This isn't helpful in our case, because we want to look at sentences that contain compounds and diseases; therefore, we should remove sentences of this nature by defining a cutoff score of 83 or less words."
   ]
  },
  {
   "cell_type": "code",
   "execution_count": 24,
   "metadata": {
    "ExecuteTime": {
     "end_time": "2020-01-16T19:14:55.930972Z",
     "start_time": "2020-01-16T19:14:54.730299Z"
    }
   },
   "outputs": [
    {
     "data": {
      "text/plain": [
       "<matplotlib.axes._subplots.AxesSubplot at 0x7f0365c47898>"
      ]
     },
     "execution_count": 24,
     "metadata": {},
     "output_type": "execute_result"
    },
    {
     "data": {
      "image/png": "[encoded data removed]",
      "text/plain": [
       "<Figure size 864x432 with 1 Axes>"
      ]
     },
     "metadata": {},
     "output_type": "display_data"
    }
   ],
   "source": [
    "sns.distplot(total_candidates_df.query(\"sen_length < 83+1\")[\"sen_length\"], rug=False)"
   ]
  },
  {
   "cell_type": "code",
   "execution_count": 25,
   "metadata": {
    "ExecuteTime": {
     "end_time": "2020-01-16T19:14:59.380181Z",
     "start_time": "2020-01-16T19:14:58.988258Z"
    }
   },
   "outputs": [
    {
     "data": {
      "text/plain": [
       "count    2883708\n",
       "mean          37\n",
       "std           15\n",
       "min            3\n",
       "25%           25\n",
       "50%           35\n",
       "75%           46\n",
       "max           83\n",
       "Name: sen_length, dtype: int64"
      ]
     },
     "execution_count": 25,
     "metadata": {},
     "output_type": "execute_result"
    }
   ],
   "source": [
    "total_candidates_df.query(\"sen_length < 83+1\")[\"sen_length\"].describe().astype(int)"
   ]
  },
  {
   "cell_type": "markdown",
   "metadata": {},
   "source": [
    "This distribution looks a bit more reasonable compared to the above distribution. After filtering out the outliers, we still have a pleathora of sentences on the order of 2.2 million."
   ]
  },
  {
   "cell_type": "code",
   "execution_count": 27,
   "metadata": {
    "ExecuteTime": {
     "end_time": "2020-01-16T19:21:12.069805Z",
     "start_time": "2020-01-16T19:15:27.377889Z"
    }
   },
   "outputs": [],
   "source": [
    "total_candidates_df.to_csv(\"output/all_cbg_candidates.tsv.xz\", sep=\"\\t\", index=False, compression=\"xz\")"
   ]
  },
  {
   "cell_type": "markdown",
   "metadata": {},
   "source": [
    "In conclusion, the optimal cutoff point in this case would be: **84** tokens/words or smaller depending on algorithm performance. Another important lesson is to analyze one's dataset before undergoing the journey of training a deep learning model. Sentence length is an important factor, when it comes to filtering out the dataset. If ignored, a significant amount of problems will arise. For example, when training a long short term memory network (LSTM), sequence length dictates how many steps the LSTM needs to traverse in order to ultimately calculate the probability of a sentence mentioning a relationship. If the LSTM were to be fed a sentence that contains 834 words, then the network has 834 steps to parse through. This takes a significant amount of time (~20 hours+). Plus during backpropogation, the gradient will become very small that the network cannot learn anything useful ([Backpropogation through time](https://en.wikipedia.org/wiki/Backpropagation_through_time)). "
   ]
  }
 ],
 "metadata": {
  "kernelspec": {
   "display_name": "Python [conda env:snorkel_db]",
   "language": "python",
   "name": "conda-env-snorkel_db-py"
  },
  "toc": {
   "base_numbering": 1,
   "nav_menu": {},
   "number_sections": true,
   "sideBar": true,
   "skip_h1_title": false,
   "title_cell": "Table of Contents",
   "title_sidebar": "Contents",
   "toc_cell": false,
   "toc_position": {},
   "toc_section_display": true,
   "toc_window_display": false
  },
  "varInspector": {
   "cols": {
    "lenName": 16,
    "lenType": 16,
    "lenVar": 40
   },
   "kernels_config": {
    "python": {
     "delete_cmd_postfix": "",
     "delete_cmd_prefix": "del ",
     "library": "var_list.py",
     "varRefreshCmd": "print(var_dic_list())"
    },
    "r": {
     "delete_cmd_postfix": ") ",
     "delete_cmd_prefix": "rm(",
     "library": "var_list.r",
     "varRefreshCmd": "cat(var_dic_list()) "
    }
   },
   "types_to_exclude": [
    "module",
    "function",
    "builtin_function_or_method",
    "instance",
    "_Feature"
   ],
   "window_display": false
  }
 },
 "nbformat": 4,
 "nbformat_minor": 2
}
