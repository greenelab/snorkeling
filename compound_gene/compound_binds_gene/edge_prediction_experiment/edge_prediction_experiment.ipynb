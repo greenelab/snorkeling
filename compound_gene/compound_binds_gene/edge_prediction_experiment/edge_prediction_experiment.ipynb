{
 "cells": [
  {
   "cell_type": "markdown",
   "metadata": {},
   "source": [
    "# Compound Binds Gene Edge Prediction"
   ]
  },
  {
   "cell_type": "markdown",
   "metadata": {},
   "source": [
    "This notebook is designed to take the next step moving from predicted sentences to edge predictions. After training the discriminator model, each sentences contains a confidence score for the likelihood of mentioning a relationship. Multiple relationships contain multiple sentences, which makes establishing an edge unintuitive. Is taking the max score appropiate for determining existence of an edge? Does taking the mean of each relationship make more sense? The answer towards these questions are shown below."
   ]
  },
  {
   "cell_type": "code",
   "execution_count": 1,
   "metadata": {
    "ExecuteTime": {
     "end_time": "2019-07-25T17:29:33.012990Z",
     "start_time": "2019-07-25T17:29:32.407765Z"
    }
   },
   "outputs": [],
   "source": [
    "%load_ext autoreload\n",
    "%autoreload 2\n",
    "%matplotlib inline\n",
    "\n",
    "import pandas as pd\n",
    "from sklearn.metrics import precision_recall_curve, roc_curve, auc\n",
    "import seaborn as sns\n",
    "import matplotlib.pyplot as plt\n",
    "from tqdm import tqdm_notebook"
   ]
  },
  {
   "cell_type": "code",
   "execution_count": 2,
   "metadata": {
    "ExecuteTime": {
     "end_time": "2019-07-25T17:29:48.755722Z",
     "start_time": "2019-07-25T17:29:33.014776Z"
    }
   },
   "outputs": [
    {
     "data": {
      "text/html": [
       "<div>\n",
       "<style scoped>\n",
       "    .dataframe tbody tr th:only-of-type {\n",
       "        vertical-align: middle;\n",
       "    }\n",
       "\n",
       "    .dataframe tbody tr th {\n",
       "        vertical-align: top;\n",
       "    }\n",
       "\n",
       "    .dataframe thead th {\n",
       "        text-align: right;\n",
       "    }\n",
       "</style>\n",
       "<table border=\"1\" class=\"dataframe\">\n",
       "  <thead>\n",
       "    <tr style=\"text-align: right;\">\n",
       "      <th></th>\n",
       "      <th>entrez_gene_id</th>\n",
       "      <th>gene_symbol</th>\n",
       "      <th>drugbank_id</th>\n",
       "      <th>name</th>\n",
       "      <th>sources</th>\n",
       "      <th>hetionet</th>\n",
       "      <th>n_sentences</th>\n",
       "      <th>has_sentence</th>\n",
       "      <th>partition_rank</th>\n",
       "      <th>split</th>\n",
       "      <th>compound_mention_count</th>\n",
       "      <th>disease_mention_count</th>\n",
       "      <th>gene_mention_count</th>\n",
       "      <th>sentence_id</th>\n",
       "      <th>text</th>\n",
       "      <th>sen_length</th>\n",
       "      <th>candidate_id</th>\n",
       "    </tr>\n",
       "  </thead>\n",
       "  <tbody>\n",
       "    <tr>\n",
       "      <th>817507</th>\n",
       "      <td>3630</td>\n",
       "      <td>INS</td>\n",
       "      <td>DB01124</td>\n",
       "      <td>Tolbutamide</td>\n",
       "      <td>NaN</td>\n",
       "      <td>0</td>\n",
       "      <td>621</td>\n",
       "      <td>1</td>\n",
       "      <td>0.42709</td>\n",
       "      <td>6</td>\n",
       "      <td>1.0</td>\n",
       "      <td>0.0</td>\n",
       "      <td>1.0</td>\n",
       "      <td>613126</td>\n",
       "      <td>Plasma insulin response to intravenous tolbuta...</td>\n",
       "      <td>12</td>\n",
       "      <td>50493</td>\n",
       "    </tr>\n",
       "    <tr>\n",
       "      <th>1864368</th>\n",
       "      <td>2520</td>\n",
       "      <td>GAST</td>\n",
       "      <td>DB00183</td>\n",
       "      <td>Pentagastrin</td>\n",
       "      <td>NaN</td>\n",
       "      <td>0</td>\n",
       "      <td>137</td>\n",
       "      <td>1</td>\n",
       "      <td>0.84974</td>\n",
       "      <td>7</td>\n",
       "      <td>1.0</td>\n",
       "      <td>0.0</td>\n",
       "      <td>1.0</td>\n",
       "      <td>486392</td>\n",
       "      <td>The effect of magnesium on calcium- and pentag...</td>\n",
       "      <td>22</td>\n",
       "      <td>50494</td>\n",
       "    </tr>\n",
       "  </tbody>\n",
       "</table>\n",
       "</div>"
      ],
      "text/plain": [
       "         entrez_gene_id gene_symbol drugbank_id          name sources  \\\n",
       "817507             3630         INS     DB01124   Tolbutamide     NaN   \n",
       "1864368            2520        GAST     DB00183  Pentagastrin     NaN   \n",
       "\n",
       "         hetionet  n_sentences  has_sentence  partition_rank  split  \\\n",
       "817507          0          621             1         0.42709      6   \n",
       "1864368         0          137             1         0.84974      7   \n",
       "\n",
       "         compound_mention_count  disease_mention_count  gene_mention_count  \\\n",
       "817507                      1.0                    0.0                 1.0   \n",
       "1864368                     1.0                    0.0                 1.0   \n",
       "\n",
       "         sentence_id                                               text  \\\n",
       "817507        613126  Plasma insulin response to intravenous tolbuta...   \n",
       "1864368       486392  The effect of magnesium on calcium- and pentag...   \n",
       "\n",
       "         sen_length  candidate_id  \n",
       "817507           12         50493  \n",
       "1864368          22         50494  "
      ]
     },
     "execution_count": 2,
     "metadata": {},
     "output_type": "execute_result"
    }
   ],
   "source": [
    "total_candidates_df = (\n",
    "    pd\n",
    "    .read_table(\"../dataset_statistics/data/all_cbg_candidates.tsv.xz\")\n",
    "    .sort_values(\"candidate_id\")\n",
    ")\n",
    "total_candidates_df.head(2)"
   ]
  },
  {
   "cell_type": "code",
   "execution_count": 3,
   "metadata": {
    "ExecuteTime": {
     "end_time": "2019-07-25T17:29:49.409329Z",
     "start_time": "2019-07-25T17:29:48.757400Z"
    }
   },
   "outputs": [
    {
     "data": {
      "text/html": [
       "<div>\n",
       "<style scoped>\n",
       "    .dataframe tbody tr th:only-of-type {\n",
       "        vertical-align: middle;\n",
       "    }\n",
       "\n",
       "    .dataframe tbody tr th {\n",
       "        vertical-align: top;\n",
       "    }\n",
       "\n",
       "    .dataframe thead th {\n",
       "        text-align: right;\n",
       "    }\n",
       "</style>\n",
       "<table border=\"1\" class=\"dataframe\">\n",
       "  <thead>\n",
       "    <tr style=\"text-align: right;\">\n",
       "      <th></th>\n",
       "      <th>candidate_id</th>\n",
       "      <th>model_prediction</th>\n",
       "    </tr>\n",
       "  </thead>\n",
       "  <tbody>\n",
       "    <tr>\n",
       "      <th>0</th>\n",
       "      <td>50493</td>\n",
       "      <td>0.517963</td>\n",
       "    </tr>\n",
       "    <tr>\n",
       "      <th>1</th>\n",
       "      <td>50494</td>\n",
       "      <td>0.367304</td>\n",
       "    </tr>\n",
       "  </tbody>\n",
       "</table>\n",
       "</div>"
      ],
      "text/plain": [
       "   candidate_id  model_prediction\n",
       "0         50493          0.517963\n",
       "1         50494          0.367304"
      ]
     },
     "execution_count": 3,
     "metadata": {},
     "output_type": "execute_result"
    }
   ],
   "source": [
    "sentence_prediction_df = (\n",
    "    pd\n",
    "    .read_table(\"results/all_predicted_sentences.tsv\")\n",
    "    .sort_values(\"candidate_id\")\n",
    ")\n",
    "sentence_prediction_df.head(2)"
   ]
  },
  {
   "cell_type": "code",
   "execution_count": 4,
   "metadata": {
    "ExecuteTime": {
     "end_time": "2019-07-25T17:29:51.370662Z",
     "start_time": "2019-07-25T17:29:49.411113Z"
    }
   },
   "outputs": [
    {
     "data": {
      "text/html": [
       "<div>\n",
       "<style scoped>\n",
       "    .dataframe tbody tr th:only-of-type {\n",
       "        vertical-align: middle;\n",
       "    }\n",
       "\n",
       "    .dataframe tbody tr th {\n",
       "        vertical-align: top;\n",
       "    }\n",
       "\n",
       "    .dataframe thead th {\n",
       "        text-align: right;\n",
       "    }\n",
       "</style>\n",
       "<table border=\"1\" class=\"dataframe\">\n",
       "  <thead>\n",
       "    <tr style=\"text-align: right;\">\n",
       "      <th></th>\n",
       "      <th>drugbank_id</th>\n",
       "      <th>drug_name</th>\n",
       "      <th>entrez_gene_id</th>\n",
       "      <th>gene_symbol</th>\n",
       "      <th>text</th>\n",
       "      <th>hetionet</th>\n",
       "      <th>candidate_id</th>\n",
       "      <th>split</th>\n",
       "      <th>model_prediction</th>\n",
       "    </tr>\n",
       "  </thead>\n",
       "  <tbody>\n",
       "    <tr>\n",
       "      <th>0</th>\n",
       "      <td>DB01124</td>\n",
       "      <td>Tolbutamide</td>\n",
       "      <td>3630</td>\n",
       "      <td>INS</td>\n",
       "      <td>Plasma insulin response to intravenous tolbuta...</td>\n",
       "      <td>0</td>\n",
       "      <td>50493</td>\n",
       "      <td>6</td>\n",
       "      <td>0.517963</td>\n",
       "    </tr>\n",
       "    <tr>\n",
       "      <th>1</th>\n",
       "      <td>DB00183</td>\n",
       "      <td>Pentagastrin</td>\n",
       "      <td>2520</td>\n",
       "      <td>GAST</td>\n",
       "      <td>The effect of magnesium on calcium- and pentag...</td>\n",
       "      <td>0</td>\n",
       "      <td>50494</td>\n",
       "      <td>7</td>\n",
       "      <td>0.367304</td>\n",
       "    </tr>\n",
       "  </tbody>\n",
       "</table>\n",
       "</div>"
      ],
      "text/plain": [
       "  drugbank_id     drug_name  entrez_gene_id gene_symbol  \\\n",
       "0     DB01124   Tolbutamide            3630         INS   \n",
       "1     DB00183  Pentagastrin            2520        GAST   \n",
       "\n",
       "                                                text  hetionet  candidate_id  \\\n",
       "0  Plasma insulin response to intravenous tolbuta...         0         50493   \n",
       "1  The effect of magnesium on calcium- and pentag...         0         50494   \n",
       "\n",
       "   split  model_prediction  \n",
       "0      6          0.517963  \n",
       "1      7          0.367304  "
      ]
     },
     "execution_count": 4,
     "metadata": {},
     "output_type": "execute_result"
    }
   ],
   "source": [
    "# DataFrame that combines likelihood scores with each candidate sentence\n",
    "total_candidates_pred_df = (\n",
    "    total_candidates_df[[\n",
    "    \"drugbank_id\", \"name\", \n",
    "    \"entrez_gene_id\", \"gene_symbol\", \n",
    "    \"text\", \"hetionet\",\n",
    "    \"candidate_id\", \"split\"\n",
    "    ]]\n",
    "    .rename(index=str, columns={\"name\": \"drug_name\"})\n",
    "    .merge(sentence_prediction_df, on=\"candidate_id\")\n",
    ")\n",
    "#total_candidates_pred_df.to_csv(\n",
    "#    \"results/combined_predicted_cbg_sentences.tsv.xz\", \n",
    "#    sep=\"\\t\", index=False, compression=\"xz\"\n",
    "#)\n",
    "total_candidates_pred_df.head(2)"
   ]
  },
  {
   "cell_type": "code",
   "execution_count": 5,
   "metadata": {
    "ExecuteTime": {
     "end_time": "2019-07-25T17:29:51.739937Z",
     "start_time": "2019-07-25T17:29:51.372374Z"
    }
   },
   "outputs": [
    {
     "data": {
      "text/html": [
       "<div>\n",
       "<style scoped>\n",
       "    .dataframe tbody tr th:only-of-type {\n",
       "        vertical-align: middle;\n",
       "    }\n",
       "\n",
       "    .dataframe tbody tr th {\n",
       "        vertical-align: top;\n",
       "    }\n",
       "\n",
       "    .dataframe thead tr th {\n",
       "        text-align: left;\n",
       "    }\n",
       "</style>\n",
       "<table border=\"1\" class=\"dataframe\">\n",
       "  <thead>\n",
       "    <tr>\n",
       "      <th></th>\n",
       "      <th>drugbank_id</th>\n",
       "      <th>entrez_gene_id</th>\n",
       "      <th colspan=\"3\" halign=\"left\">model_prediction</th>\n",
       "      <th>hetionet</th>\n",
       "      <th>gene_symbol</th>\n",
       "      <th>drug_name</th>\n",
       "    </tr>\n",
       "    <tr>\n",
       "      <th></th>\n",
       "      <th></th>\n",
       "      <th></th>\n",
       "      <th>max</th>\n",
       "      <th>mean</th>\n",
       "      <th>median</th>\n",
       "      <th>max</th>\n",
       "      <th>first</th>\n",
       "      <th>first</th>\n",
       "    </tr>\n",
       "  </thead>\n",
       "  <tbody>\n",
       "    <tr>\n",
       "      <th>0</th>\n",
       "      <td>DB00001</td>\n",
       "      <td>2147</td>\n",
       "      <td>0.627754</td>\n",
       "      <td>0.499056</td>\n",
       "      <td>0.537586</td>\n",
       "      <td>1</td>\n",
       "      <td>F2</td>\n",
       "      <td>Lepirudin</td>\n",
       "    </tr>\n",
       "    <tr>\n",
       "      <th>1</th>\n",
       "      <td>DB00007</td>\n",
       "      <td>596</td>\n",
       "      <td>0.595284</td>\n",
       "      <td>0.595284</td>\n",
       "      <td>0.595284</td>\n",
       "      <td>0</td>\n",
       "      <td>BCL2</td>\n",
       "      <td>Leuprolide</td>\n",
       "    </tr>\n",
       "  </tbody>\n",
       "</table>\n",
       "</div>"
      ],
      "text/plain": [
       "  drugbank_id entrez_gene_id model_prediction                     hetionet  \\\n",
       "                                          max      mean    median      max   \n",
       "0     DB00001           2147         0.627754  0.499056  0.537586        1   \n",
       "1     DB00007            596         0.595284  0.595284  0.595284        0   \n",
       "\n",
       "  gene_symbol   drug_name  \n",
       "        first       first  \n",
       "0          F2   Lepirudin  \n",
       "1        BCL2  Leuprolide  "
      ]
     },
     "execution_count": 5,
     "metadata": {},
     "output_type": "execute_result"
    }
   ],
   "source": [
    "# DataFrame that groups compound and gene mentions together and takes\n",
    "# the max, median and mean of each group\n",
    "grouped_candidates_pred_df=(\n",
    "    total_candidates_pred_df\n",
    "    .query(\"split==8\")\n",
    "    .groupby([\"drugbank_id\", \"entrez_gene_id\"], as_index=False)\n",
    "    .agg({\n",
    "        \"model_prediction\": ['max', 'mean', 'median'], \n",
    "        'hetionet': 'max',\n",
    "        \"gene_symbol\": 'first',\n",
    "        \"drug_name\": 'first'\n",
    "    })\n",
    ")\n",
    "grouped_candidates_pred_df.head(2)"
   ]
  },
  {
   "cell_type": "code",
   "execution_count": 6,
   "metadata": {
    "ExecuteTime": {
     "end_time": "2019-07-25T17:29:51.763687Z",
     "start_time": "2019-07-25T17:29:51.741663Z"
    }
   },
   "outputs": [
    {
     "data": {
      "text/html": [
       "<div>\n",
       "<style scoped>\n",
       "    .dataframe tbody tr th:only-of-type {\n",
       "        vertical-align: middle;\n",
       "    }\n",
       "\n",
       "    .dataframe tbody tr th {\n",
       "        vertical-align: top;\n",
       "    }\n",
       "\n",
       "    .dataframe thead th {\n",
       "        text-align: right;\n",
       "    }\n",
       "</style>\n",
       "<table border=\"1\" class=\"dataframe\">\n",
       "  <thead>\n",
       "    <tr style=\"text-align: right;\">\n",
       "      <th></th>\n",
       "      <th>drugbank_id</th>\n",
       "      <th>entrez_gene_id</th>\n",
       "      <th>model_prediction_max</th>\n",
       "      <th>model_prediction_mean</th>\n",
       "      <th>model_prediction_median</th>\n",
       "      <th>hetionet</th>\n",
       "      <th>gene_symbol</th>\n",
       "      <th>drug_name</th>\n",
       "    </tr>\n",
       "  </thead>\n",
       "  <tbody>\n",
       "    <tr>\n",
       "      <th>0</th>\n",
       "      <td>DB00001</td>\n",
       "      <td>2147</td>\n",
       "      <td>0.627754</td>\n",
       "      <td>0.499056</td>\n",
       "      <td>0.537586</td>\n",
       "      <td>1</td>\n",
       "      <td>F2</td>\n",
       "      <td>Lepirudin</td>\n",
       "    </tr>\n",
       "    <tr>\n",
       "      <th>1</th>\n",
       "      <td>DB00007</td>\n",
       "      <td>596</td>\n",
       "      <td>0.595284</td>\n",
       "      <td>0.595284</td>\n",
       "      <td>0.595284</td>\n",
       "      <td>0</td>\n",
       "      <td>BCL2</td>\n",
       "      <td>Leuprolide</td>\n",
       "    </tr>\n",
       "  </tbody>\n",
       "</table>\n",
       "</div>"
      ],
      "text/plain": [
       "  drugbank_id  entrez_gene_id  model_prediction_max  model_prediction_mean  \\\n",
       "0     DB00001            2147              0.627754               0.499056   \n",
       "1     DB00007             596              0.595284               0.595284   \n",
       "\n",
       "   model_prediction_median  hetionet gene_symbol   drug_name  \n",
       "0                 0.537586         1          F2   Lepirudin  \n",
       "1                 0.595284         0        BCL2  Leuprolide  "
      ]
     },
     "execution_count": 6,
     "metadata": {},
     "output_type": "execute_result"
    }
   ],
   "source": [
    "grouped_candidates_pred_df.columns = [\n",
    "    \"_\".join(col) \n",
    "    if col[1] != '' and col[0] not in ['hetionet', 'gene_symbol', 'drug_name'] else col[0] \n",
    "    for col in grouped_candidates_pred_df.columns.values\n",
    "]\n",
    "grouped_candidates_pred_df.head(2)"
   ]
  },
  {
   "cell_type": "code",
   "execution_count": 7,
   "metadata": {
    "ExecuteTime": {
     "end_time": "2019-07-25T17:29:51.808474Z",
     "start_time": "2019-07-25T17:29:51.765248Z"
    }
   },
   "outputs": [
    {
     "data": {
      "text/plain": [
       "0    23124\n",
       "1      553\n",
       "Name: hetionet, dtype: int64"
      ]
     },
     "execution_count": 7,
     "metadata": {},
     "output_type": "execute_result"
    }
   ],
   "source": [
    "grouped_candidates_pred_df.hetionet.value_counts()"
   ]
  },
  {
   "cell_type": "code",
   "execution_count": 8,
   "metadata": {
    "ExecuteTime": {
     "end_time": "2019-07-25T17:29:51.840712Z",
     "start_time": "2019-07-25T17:29:51.814565Z"
    }
   },
   "outputs": [],
   "source": [
    "performance_map = {}"
   ]
  },
  {
   "cell_type": "code",
   "execution_count": 9,
   "metadata": {
    "ExecuteTime": {
     "end_time": "2019-07-25T17:29:51.863687Z",
     "start_time": "2019-07-25T17:29:51.842764Z"
    }
   },
   "outputs": [],
   "source": [
    "precision, recall, pr_threshold = precision_recall_curve(\n",
    "    grouped_candidates_pred_df.hetionet, \n",
    "    grouped_candidates_pred_df.model_prediction_max,\n",
    ")\n",
    "\n",
    "fpr, tpr, roc_threshold = roc_curve(\n",
    "    grouped_candidates_pred_df.hetionet, \n",
    "    grouped_candidates_pred_df.model_prediction_max,\n",
    ")\n",
    "\n",
    "performance_map['max'] = {\n",
    "    \"precision\":precision, \"recall\":recall, \n",
    "    \"pr_threshold\":pr_threshold, \"false_pos\":fpr,\n",
    "    \"true_pos\":tpr, \"roc_threshold\":roc_threshold, \n",
    "}"
   ]
  },
  {
   "cell_type": "code",
   "execution_count": 10,
   "metadata": {
    "ExecuteTime": {
     "end_time": "2019-07-25T17:29:51.892869Z",
     "start_time": "2019-07-25T17:29:51.865223Z"
    }
   },
   "outputs": [],
   "source": [
    "precision, recall, pr_threshold = precision_recall_curve(\n",
    "    grouped_candidates_pred_df.hetionet, \n",
    "    grouped_candidates_pred_df.model_prediction_mean,\n",
    ")\n",
    "\n",
    "fpr, tpr, roc_threshold = roc_curve(\n",
    "    grouped_candidates_pred_df.hetionet, \n",
    "    grouped_candidates_pred_df.model_prediction_mean,\n",
    ")\n",
    "\n",
    "performance_map['mean'] = {\n",
    "    \"precision\":precision, \"recall\":recall, \n",
    "    \"pr_threshold\":pr_threshold, \"false_pos\":fpr,\n",
    "    \"true_pos\":tpr, \"roc_threshold\":roc_threshold, \n",
    "}"
   ]
  },
  {
   "cell_type": "code",
   "execution_count": 11,
   "metadata": {
    "ExecuteTime": {
     "end_time": "2019-07-25T17:29:51.949488Z",
     "start_time": "2019-07-25T17:29:51.895909Z"
    }
   },
   "outputs": [],
   "source": [
    "precision, recall, pr_threshold = precision_recall_curve(\n",
    "    grouped_candidates_pred_df.hetionet, \n",
    "    grouped_candidates_pred_df.model_prediction_median,\n",
    ")\n",
    "\n",
    "fpr, tpr, roc_threshold = roc_curve(\n",
    "    grouped_candidates_pred_df.hetionet, \n",
    "    grouped_candidates_pred_df.model_prediction_median,\n",
    ")\n",
    "\n",
    "performance_map['median'] = {\n",
    "    \"precision\":precision, \"recall\":recall, \n",
    "    \"pr_threshold\":pr_threshold, \"false_pos\":fpr,\n",
    "    \"true_pos\":tpr, \"roc_threshold\":roc_threshold, \n",
    "}"
   ]
  },
  {
   "cell_type": "code",
   "execution_count": 12,
   "metadata": {
    "ExecuteTime": {
     "end_time": "2019-07-25T17:29:52.107152Z",
     "start_time": "2019-07-25T17:29:51.952516Z"
    }
   },
   "outputs": [
    {
     "data": {
      "image/png": "[encoded data removed]",
      "text/plain": [
       "<matplotlib.figure.Figure at 0x7f7e395b5d68>"
      ]
     },
     "metadata": {},
     "output_type": "display_data"
    }
   ],
   "source": [
    "for key in performance_map:\n",
    "    plt.plot(\n",
    "        performance_map[key]['false_pos'], \n",
    "        performance_map[key]['true_pos'], \n",
    "        label=f\"{key}:AUC ({auc(performance_map[key]['false_pos'], performance_map[key]['true_pos']):.3f})\"\n",
    "    )\n",
    "plt.plot([0,1], [0,1], linestyle='--', color='black')\n",
    "plt.legend()\n",
    "plt.show()"
   ]
  },
  {
   "cell_type": "code",
   "execution_count": 13,
   "metadata": {
    "ExecuteTime": {
     "end_time": "2019-07-25T17:29:52.133799Z",
     "start_time": "2019-07-25T17:29:52.108605Z"
    }
   },
   "outputs": [
    {
     "name": "stderr",
     "output_type": "stream",
     "text": [
      "/home/danich1/anaconda2/envs/snorkeling/lib/python3.6/site-packages/ipykernel/__main__.py:18: DeprecationWarning: \n",
      ".ix is deprecated. Please use\n",
      ".loc for label based indexing or\n",
      ".iloc for positional indexing\n",
      "\n",
      "See the documentation here:\n",
      "http://pandas.pydata.org/pandas-docs/stable/indexing.html#ix-indexer-is-deprecated\n"
     ]
    },
    {
     "data": {
      "text/plain": [
       "0.5035342"
      ]
     },
     "execution_count": 13,
     "metadata": {},
     "output_type": "execute_result"
    }
   ],
   "source": [
    "# https://stackoverflow.com/questions/28719067/roc-curve-and-cut-off-point-python\n",
    "def Find_Optimal_Cutoff(target, predicted):\n",
    "    \"\"\" Find the optimal probability cutoff point for a classification model related to event rate\n",
    "    Parameters\n",
    "    ----------\n",
    "    target : Matrix with dependent or target data, where rows are observations\n",
    "\n",
    "    predicted : Matrix with predicted data, where rows are observations\n",
    "\n",
    "    Returns\n",
    "    -------     \n",
    "    list type, with optimal cutoff value\n",
    "\n",
    "    \"\"\"\n",
    "    fpr, tpr, threshold = roc_curve(target, predicted)\n",
    "    i = pd.np.arange(len(tpr)) \n",
    "    roc = pd.DataFrame({'tf' : pd.Series(tpr-(1-fpr), index=i), 'threshold' : pd.Series(threshold, index=i)})\n",
    "    roc_t = roc.ix[(roc.tf-0).abs().argsort()[:1]]\n",
    "\n",
    "    return list(roc_t['threshold']) \n",
    "roc_optimal = Find_Optimal_Cutoff(grouped_candidates_pred_df.hetionet.values, grouped_candidates_pred_df.model_prediction_max)[0]\n",
    "roc_optimal"
   ]
  },
  {
   "cell_type": "code",
   "execution_count": 14,
   "metadata": {
    "ExecuteTime": {
     "end_time": "2019-07-25T17:29:52.337187Z",
     "start_time": "2019-07-25T17:29:52.135084Z"
    }
   },
   "outputs": [
    {
     "data": {
      "image/png": "[encoded data removed]",
      "text/plain": [
       "<matplotlib.figure.Figure at 0x7f7e8df7e320>"
      ]
     },
     "metadata": {},
     "output_type": "display_data"
    }
   ],
   "source": [
    "for key in performance_map:\n",
    "    plt.plot(\n",
    "        performance_map[key]['recall'], \n",
    "        performance_map[key]['precision'], \n",
    "        label=f\"{key}:AUC ({auc(performance_map[key]['recall'], performance_map[key]['precision']):.3f})\"\n",
    "    )\n",
    "\n",
    "plt.legend()\n",
    "plt.show()"
   ]
  },
  {
   "cell_type": "markdown",
   "metadata": {},
   "source": [
    "# Optimal PR-Cutoff"
   ]
  },
  {
   "cell_type": "code",
   "execution_count": 15,
   "metadata": {
    "ExecuteTime": {
     "end_time": "2019-07-25T17:29:52.373338Z",
     "start_time": "2019-07-25T17:29:52.338855Z"
    }
   },
   "outputs": [
    {
     "data": {
      "text/html": [
       "<div>\n",
       "<style scoped>\n",
       "    .dataframe tbody tr th:only-of-type {\n",
       "        vertical-align: middle;\n",
       "    }\n",
       "\n",
       "    .dataframe tbody tr th {\n",
       "        vertical-align: top;\n",
       "    }\n",
       "\n",
       "    .dataframe thead th {\n",
       "        text-align: right;\n",
       "    }\n",
       "</style>\n",
       "<table border=\"1\" class=\"dataframe\">\n",
       "  <thead>\n",
       "    <tr style=\"text-align: right;\">\n",
       "      <th></th>\n",
       "      <th>precision</th>\n",
       "      <th>recall</th>\n",
       "      <th>pr_threshold</th>\n",
       "    </tr>\n",
       "  </thead>\n",
       "  <tbody>\n",
       "    <tr>\n",
       "      <th>22782</th>\n",
       "      <td>1.0</td>\n",
       "      <td>0.001808</td>\n",
       "      <td>0.849902</td>\n",
       "    </tr>\n",
       "    <tr>\n",
       "      <th>22781</th>\n",
       "      <td>0.5</td>\n",
       "      <td>0.001808</td>\n",
       "      <td>0.823909</td>\n",
       "    </tr>\n",
       "  </tbody>\n",
       "</table>\n",
       "</div>"
      ],
      "text/plain": [
       "       precision    recall  pr_threshold\n",
       "22782        1.0  0.001808      0.849902\n",
       "22781        0.5  0.001808      0.823909"
      ]
     },
     "execution_count": 15,
     "metadata": {},
     "output_type": "execute_result"
    }
   ],
   "source": [
    "threshold_df = (\n",
    "    pd.DataFrame(\n",
    "        list(\n",
    "            zip(\n",
    "                performance_map['max']['precision'], \n",
    "                performance_map['max']['recall'], \n",
    "                performance_map['max']['pr_threshold']\n",
    "            )\n",
    "        ),\n",
    "        columns=[\"precision\", \"recall\", \"pr_threshold\"]\n",
    "    )\n",
    "    .sort_values(\"precision\", ascending=False)\n",
    ")\n",
    "threshold_df.head(2)"
   ]
  },
  {
   "cell_type": "code",
   "execution_count": 16,
   "metadata": {
    "ExecuteTime": {
     "end_time": "2019-07-25T17:29:52.558479Z",
     "start_time": "2019-07-25T17:29:52.377536Z"
    }
   },
   "outputs": [
    {
     "data": {
      "application/vnd.jupyter.widget-view+json": {
       "model_id": "c0a925550d4249ee90e73b846917a1fe",
       "version_major": 2,
       "version_minor": 0
      },
      "text/html": [
       "<p>Failed to display Jupyter Widget of type <code>HBox</code>.</p>\n",
       "<p>\n",
       "  If you're reading this message in the Jupyter Notebook or JupyterLab Notebook, it may mean\n",
       "  that the widgets JavaScript is still loading. If this message persists, it\n",
       "  likely means that the widgets JavaScript library is either not installed or\n",
       "  not enabled. See the <a href=\"https://ipywidgets.readthedocs.io/en/stable/user_install.html\">Jupyter\n",
       "  Widgets Documentation</a> for setup instructions.\n",
       "</p>\n",
       "<p>\n",
       "  If you're reading this message in another frontend (for example, a static\n",
       "  rendering on GitHub or <a href=\"https://nbviewer.jupyter.org/\">NBViewer</a>),\n",
       "  it may mean that your frontend doesn't currently support widgets.\n",
       "</p>\n"
      ],
      "text/plain": [
       "HBox(children=(IntProgress(value=0, max=30), HTML(value='')))"
      ]
     },
     "metadata": {},
     "output_type": "display_data"
    },
    {
     "name": "stdout",
     "output_type": "stream",
     "text": [
      "\n"
     ]
    },
    {
     "data": {
      "text/html": [
       "<div>\n",
       "<style scoped>\n",
       "    .dataframe tbody tr th:only-of-type {\n",
       "        vertical-align: middle;\n",
       "    }\n",
       "\n",
       "    .dataframe tbody tr th {\n",
       "        vertical-align: top;\n",
       "    }\n",
       "\n",
       "    .dataframe thead th {\n",
       "        text-align: right;\n",
       "    }\n",
       "</style>\n",
       "<table border=\"1\" class=\"dataframe\">\n",
       "  <thead>\n",
       "    <tr style=\"text-align: right;\">\n",
       "      <th></th>\n",
       "      <th>edges</th>\n",
       "      <th>in_hetionet</th>\n",
       "      <th>precision</th>\n",
       "      <th>sen_cutoff</th>\n",
       "    </tr>\n",
       "  </thead>\n",
       "  <tbody>\n",
       "    <tr>\n",
       "      <th>0</th>\n",
       "      <td>1</td>\n",
       "      <td>Existing</td>\n",
       "      <td>1.00</td>\n",
       "      <td>0.849902</td>\n",
       "    </tr>\n",
       "    <tr>\n",
       "      <th>1</th>\n",
       "      <td>2</td>\n",
       "      <td>Existing</td>\n",
       "      <td>0.50</td>\n",
       "      <td>0.808760</td>\n",
       "    </tr>\n",
       "    <tr>\n",
       "      <th>2</th>\n",
       "      <td>2</td>\n",
       "      <td>Novel</td>\n",
       "      <td>0.50</td>\n",
       "      <td>0.808760</td>\n",
       "    </tr>\n",
       "    <tr>\n",
       "      <th>3</th>\n",
       "      <td>3</td>\n",
       "      <td>Novel</td>\n",
       "      <td>0.40</td>\n",
       "      <td>0.802290</td>\n",
       "    </tr>\n",
       "    <tr>\n",
       "      <th>4</th>\n",
       "      <td>2</td>\n",
       "      <td>Existing</td>\n",
       "      <td>0.40</td>\n",
       "      <td>0.802290</td>\n",
       "    </tr>\n",
       "    <tr>\n",
       "      <th>5</th>\n",
       "      <td>6</td>\n",
       "      <td>Novel</td>\n",
       "      <td>0.33</td>\n",
       "      <td>0.793700</td>\n",
       "    </tr>\n",
       "    <tr>\n",
       "      <th>6</th>\n",
       "      <td>3</td>\n",
       "      <td>Existing</td>\n",
       "      <td>0.33</td>\n",
       "      <td>0.793700</td>\n",
       "    </tr>\n",
       "    <tr>\n",
       "      <th>7</th>\n",
       "      <td>7</td>\n",
       "      <td>Novel</td>\n",
       "      <td>0.30</td>\n",
       "      <td>0.789593</td>\n",
       "    </tr>\n",
       "    <tr>\n",
       "      <th>8</th>\n",
       "      <td>3</td>\n",
       "      <td>Existing</td>\n",
       "      <td>0.30</td>\n",
       "      <td>0.789593</td>\n",
       "    </tr>\n",
       "    <tr>\n",
       "      <th>9</th>\n",
       "      <td>7</td>\n",
       "      <td>Novel</td>\n",
       "      <td>0.29</td>\n",
       "      <td>0.789593</td>\n",
       "    </tr>\n",
       "  </tbody>\n",
       "</table>\n",
       "</div>"
      ],
      "text/plain": [
       "   edges in_hetionet  precision  sen_cutoff\n",
       "0      1    Existing       1.00    0.849902\n",
       "1      2    Existing       0.50    0.808760\n",
       "2      2       Novel       0.50    0.808760\n",
       "3      3       Novel       0.40    0.802290\n",
       "4      2    Existing       0.40    0.802290\n",
       "5      6       Novel       0.33    0.793700\n",
       "6      3    Existing       0.33    0.793700\n",
       "7      7       Novel       0.30    0.789593\n",
       "8      3    Existing       0.30    0.789593\n",
       "9      7       Novel       0.29    0.789593"
      ]
     },
     "execution_count": 16,
     "metadata": {},
     "output_type": "execute_result"
    }
   ],
   "source": [
    "#precision_thresholds = pd.np.linspace(0,1,num=5)\n",
    "precision_thresholds = threshold_df.round(2).drop_duplicates(\"precision\").precision.values\n",
    "\n",
    "# Add the lowest precision rather than\n",
    "# Keep it zero\n",
    "precision_thresholds = (\n",
    "    pd.np.where(\n",
    "        precision_thresholds==0, \n",
    "        threshold_df.query(\"precision > 0\").precision.min(), \n",
    "        precision_thresholds\n",
    "    )\n",
    ")\n",
    "\n",
    "performance_records = []\n",
    "for precision_cutoff in tqdm_notebook(precision_thresholds):\n",
    "\n",
    "    cutoff = (\n",
    "        threshold_df\n",
    "        .query(\"precision>=@precision_cutoff\")\n",
    "        .pr_threshold\n",
    "        .min()\n",
    "    )\n",
    "    \n",
    "    values_added = (\n",
    "        grouped_candidates_pred_df\n",
    "        .query(\"model_prediction_max >= @cutoff\")\n",
    "        .hetionet\n",
    "        .value_counts()\n",
    "    )\n",
    "    \n",
    "    series_keys = list(values_added.keys())\n",
    "    for key in series_keys:\n",
    "        performance_records.append(\n",
    "           {  \n",
    "               \"edges\": values_added[key], \n",
    "               \"in_hetionet\": \"Existing\" if key == 1 else \"Novel\", \n",
    "               \"precision\": precision_cutoff,\n",
    "               \"sen_cutoff\": cutoff\n",
    "           }\n",
    "        )\n",
    "   \n",
    "    \n",
    "edges_added_df = (\n",
    "    pd\n",
    "    .DataFrame\n",
    "    .from_records(performance_records)\n",
    ")\n",
    "edges_added_df.head(10)"
   ]
  },
  {
   "cell_type": "code",
   "execution_count": 17,
   "metadata": {
    "ExecuteTime": {
     "end_time": "2019-07-25T17:29:53.040249Z",
     "start_time": "2019-07-25T17:29:52.559932Z"
    }
   },
   "outputs": [
    {
     "data": {
      "text/plain": [
       "[None]"
      ]
     },
     "execution_count": 17,
     "metadata": {},
     "output_type": "execute_result"
    },
    {
     "data": {
      "image/png": "[encoded data removed]",
      "text/plain": [
       "<matplotlib.figure.Figure at 0x7f7e8df51a90>"
      ]
     },
     "metadata": {},
     "output_type": "display_data"
    }
   ],
   "source": [
    "ax = sns.scatterplot(x=\"precision\", y=\"edges\", hue=\"in_hetionet\", data=edges_added_df)\n",
    "ax.set(yscale=\"log\")"
   ]
  },
  {
   "cell_type": "code",
   "execution_count": 18,
   "metadata": {
    "ExecuteTime": {
     "end_time": "2019-07-25T17:29:53.056483Z",
     "start_time": "2019-07-25T17:29:53.042168Z"
    }
   },
   "outputs": [],
   "source": [
    "edges_added_df.to_csv(\"results/precision_cbg_edges_added.tsv\", index=False, sep=\"\\t\")"
   ]
  },
  {
   "cell_type": "markdown",
   "metadata": {},
   "source": [
    "# Optimal ROC Cutoff"
   ]
  },
  {
   "cell_type": "code",
   "execution_count": 19,
   "metadata": {
    "ExecuteTime": {
     "end_time": "2019-07-25T17:29:53.081210Z",
     "start_time": "2019-07-25T17:29:53.057771Z"
    }
   },
   "outputs": [
    {
     "data": {
      "text/plain": [
       "0    7553\n",
       "1     372\n",
       "Name: hetionet, dtype: int64"
      ]
     },
     "execution_count": 19,
     "metadata": {},
     "output_type": "execute_result"
    }
   ],
   "source": [
    "(\n",
    "    grouped_candidates_pred_df\n",
    "    .query(\"model_prediction_max > @roc_optimal\")\n",
    "    .sort_values(\"hetionet\")\n",
    "    .hetionet.value_counts()\n",
    ")"
   ]
  },
  {
   "cell_type": "code",
   "execution_count": 20,
   "metadata": {
    "ExecuteTime": {
     "end_time": "2019-07-25T17:29:53.113582Z",
     "start_time": "2019-07-25T17:29:53.082807Z"
    }
   },
   "outputs": [
    {
     "data": {
      "text/html": [
       "<div>\n",
       "<style scoped>\n",
       "    .dataframe tbody tr th:only-of-type {\n",
       "        vertical-align: middle;\n",
       "    }\n",
       "\n",
       "    .dataframe tbody tr th {\n",
       "        vertical-align: top;\n",
       "    }\n",
       "\n",
       "    .dataframe thead th {\n",
       "        text-align: right;\n",
       "    }\n",
       "</style>\n",
       "<table border=\"1\" class=\"dataframe\">\n",
       "  <thead>\n",
       "    <tr style=\"text-align: right;\">\n",
       "      <th></th>\n",
       "      <th>drugbank_id</th>\n",
       "      <th>entrez_gene_id</th>\n",
       "      <th>model_prediction_max</th>\n",
       "      <th>model_prediction_mean</th>\n",
       "      <th>model_prediction_median</th>\n",
       "      <th>hetionet</th>\n",
       "      <th>gene_symbol</th>\n",
       "      <th>drug_name</th>\n",
       "    </tr>\n",
       "  </thead>\n",
       "  <tbody>\n",
       "    <tr>\n",
       "      <th>18616</th>\n",
       "      <td>DB03089</td>\n",
       "      <td>2099</td>\n",
       "      <td>0.823909</td>\n",
       "      <td>0.536186</td>\n",
       "      <td>0.498829</td>\n",
       "      <td>0</td>\n",
       "      <td>ESR1</td>\n",
       "      <td>L-Iso-Aspartate</td>\n",
       "    </tr>\n",
       "    <tr>\n",
       "      <th>20009</th>\n",
       "      <td>DB03839</td>\n",
       "      <td>3569</td>\n",
       "      <td>0.815009</td>\n",
       "      <td>0.504242</td>\n",
       "      <td>0.501529</td>\n",
       "      <td>0</td>\n",
       "      <td>IL6</td>\n",
       "      <td>D-Tyrosine</td>\n",
       "    </tr>\n",
       "    <tr>\n",
       "      <th>3644</th>\n",
       "      <td>DB00331</td>\n",
       "      <td>1978</td>\n",
       "      <td>0.802290</td>\n",
       "      <td>0.602466</td>\n",
       "      <td>0.560822</td>\n",
       "      <td>0</td>\n",
       "      <td>EIF4EBP1</td>\n",
       "      <td>Metformin</td>\n",
       "    </tr>\n",
       "    <tr>\n",
       "      <th>2154</th>\n",
       "      <td>DB00171</td>\n",
       "      <td>1956</td>\n",
       "      <td>0.799915</td>\n",
       "      <td>0.721748</td>\n",
       "      <td>0.709903</td>\n",
       "      <td>0</td>\n",
       "      <td>EGFR</td>\n",
       "      <td>Adenosine triphosphate</td>\n",
       "    </tr>\n",
       "    <tr>\n",
       "      <th>11645</th>\n",
       "      <td>DB00988</td>\n",
       "      <td>3356</td>\n",
       "      <td>0.799090</td>\n",
       "      <td>0.537324</td>\n",
       "      <td>0.539580</td>\n",
       "      <td>0</td>\n",
       "      <td>HTR2A</td>\n",
       "      <td>Dopamine</td>\n",
       "    </tr>\n",
       "    <tr>\n",
       "      <th>6960</th>\n",
       "      <td>DB00640</td>\n",
       "      <td>3643</td>\n",
       "      <td>0.796758</td>\n",
       "      <td>0.604407</td>\n",
       "      <td>0.609133</td>\n",
       "      <td>0</td>\n",
       "      <td>INSR</td>\n",
       "      <td>Adenosine</td>\n",
       "    </tr>\n",
       "    <tr>\n",
       "      <th>19965</th>\n",
       "      <td>DB03839</td>\n",
       "      <td>1950</td>\n",
       "      <td>0.789593</td>\n",
       "      <td>0.549569</td>\n",
       "      <td>0.547482</td>\n",
       "      <td>0</td>\n",
       "      <td>EGF</td>\n",
       "      <td>D-Tyrosine</td>\n",
       "    </tr>\n",
       "    <tr>\n",
       "      <th>18245</th>\n",
       "      <td>DB02853</td>\n",
       "      <td>3487</td>\n",
       "      <td>0.789549</td>\n",
       "      <td>0.789549</td>\n",
       "      <td>0.789549</td>\n",
       "      <td>0</td>\n",
       "      <td>IGFBP4</td>\n",
       "      <td>D-Proline</td>\n",
       "    </tr>\n",
       "    <tr>\n",
       "      <th>18053</th>\n",
       "      <td>DB02772</td>\n",
       "      <td>367</td>\n",
       "      <td>0.789312</td>\n",
       "      <td>0.594209</td>\n",
       "      <td>0.590226</td>\n",
       "      <td>0</td>\n",
       "      <td>AR</td>\n",
       "      <td>Sucrose</td>\n",
       "    </tr>\n",
       "    <tr>\n",
       "      <th>779</th>\n",
       "      <td>DB00134</td>\n",
       "      <td>3630</td>\n",
       "      <td>0.787447</td>\n",
       "      <td>0.420997</td>\n",
       "      <td>0.405635</td>\n",
       "      <td>0</td>\n",
       "      <td>INS</td>\n",
       "      <td>L-Methionine</td>\n",
       "    </tr>\n",
       "  </tbody>\n",
       "</table>\n",
       "</div>"
      ],
      "text/plain": [
       "      drugbank_id  entrez_gene_id  model_prediction_max  \\\n",
       "18616     DB03089            2099              0.823909   \n",
       "20009     DB03839            3569              0.815009   \n",
       "3644      DB00331            1978              0.802290   \n",
       "2154      DB00171            1956              0.799915   \n",
       "11645     DB00988            3356              0.799090   \n",
       "6960      DB00640            3643              0.796758   \n",
       "19965     DB03839            1950              0.789593   \n",
       "18245     DB02853            3487              0.789549   \n",
       "18053     DB02772             367              0.789312   \n",
       "779       DB00134            3630              0.787447   \n",
       "\n",
       "       model_prediction_mean  model_prediction_median  hetionet gene_symbol  \\\n",
       "18616               0.536186                 0.498829         0        ESR1   \n",
       "20009               0.504242                 0.501529         0         IL6   \n",
       "3644                0.602466                 0.560822         0    EIF4EBP1   \n",
       "2154                0.721748                 0.709903         0        EGFR   \n",
       "11645               0.537324                 0.539580         0       HTR2A   \n",
       "6960                0.604407                 0.609133         0        INSR   \n",
       "19965               0.549569                 0.547482         0         EGF   \n",
       "18245               0.789549                 0.789549         0      IGFBP4   \n",
       "18053               0.594209                 0.590226         0          AR   \n",
       "779                 0.420997                 0.405635         0         INS   \n",
       "\n",
       "                    drug_name  \n",
       "18616         L-Iso-Aspartate  \n",
       "20009              D-Tyrosine  \n",
       "3644                Metformin  \n",
       "2154   Adenosine triphosphate  \n",
       "11645                Dopamine  \n",
       "6960                Adenosine  \n",
       "19965              D-Tyrosine  \n",
       "18245               D-Proline  \n",
       "18053                 Sucrose  \n",
       "779              L-Methionine  "
      ]
     },
     "execution_count": 20,
     "metadata": {},
     "output_type": "execute_result"
    }
   ],
   "source": [
    "(\n",
    "    grouped_candidates_pred_df\n",
    "    .query(\"model_prediction_max > @roc_optimal\")\n",
    "    .sort_values([\"hetionet\", \"model_prediction_max\"], ascending=[True, False])\n",
    "    .head(10)\n",
    ")"
   ]
  }
 ],
 "metadata": {
  "kernelspec": {
   "display_name": "Python [conda env:snorkeling]",
   "language": "python",
   "name": "conda-env-snorkeling-py"
  },
  "language_info": {
   "codemirror_mode": {
    "name": "ipython",
    "version": 3
   },
   "file_extension": ".py",
   "mimetype": "text/x-python",
   "name": "python",
   "nbconvert_exporter": "python",
   "pygments_lexer": "ipython3",
   "version": "3.6.4"
  }
 },
 "nbformat": 4,
 "nbformat_minor": 2
}
