{
 "cells": [
  {
   "cell_type": "markdown",
   "metadata": {},
   "source": [
    "# Compound Binds Gene Edge Prediction"
   ]
  },
  {
   "cell_type": "markdown",
   "metadata": {},
   "source": [
    "This notebook is designed to take the next step moving from predicted sentences to edge predictions. After training the discriminator model, each sentences contains a confidence score for the likelihood of mentioning a relationship. Multiple relationships contain multiple sentences, which makes establishing an edge unintuitive. Is taking the max score appropiate for determining existence of an edge? Does taking the mean of each relationship make more sense? The answer towards these questions are shown below."
   ]
  },
  {
   "cell_type": "code",
   "execution_count": 1,
   "metadata": {
    "ExecuteTime": {
     "end_time": "2020-01-06T18:48:16.699484Z",
     "start_time": "2020-01-06T18:48:15.705002Z"
    }
   },
   "outputs": [],
   "source": [
    "%load_ext autoreload\n",
    "%autoreload 2\n",
    "%matplotlib inline\n",
    "\n",
    "import pandas as pd\n",
    "from sklearn.metrics import precision_recall_curve, roc_curve, auc\n",
    "import seaborn as sns\n",
    "import matplotlib.pyplot as plt\n",
    "import plotnine as p9\n",
    "from tqdm import tqdm_notebook"
   ]
  },
  {
   "cell_type": "code",
   "execution_count": 2,
   "metadata": {
    "ExecuteTime": {
     "end_time": "2020-01-06T18:48:32.847467Z",
     "start_time": "2020-01-06T18:48:16.701140Z"
    }
   },
   "outputs": [
    {
     "data": {
      "text/html": [
       "<div>\n",
       "<style scoped>\n",
       "    .dataframe tbody tr th:only-of-type {\n",
       "        vertical-align: middle;\n",
       "    }\n",
       "\n",
       "    .dataframe tbody tr th {\n",
       "        vertical-align: top;\n",
       "    }\n",
       "\n",
       "    .dataframe thead th {\n",
       "        text-align: right;\n",
       "    }\n",
       "</style>\n",
       "<table border=\"1\" class=\"dataframe\">\n",
       "  <thead>\n",
       "    <tr style=\"text-align: right;\">\n",
       "      <th></th>\n",
       "      <th>entrez_gene_id</th>\n",
       "      <th>gene_symbol</th>\n",
       "      <th>drugbank_id</th>\n",
       "      <th>name</th>\n",
       "      <th>sources</th>\n",
       "      <th>hetionet</th>\n",
       "      <th>n_sentences</th>\n",
       "      <th>has_sentence</th>\n",
       "      <th>partition_rank</th>\n",
       "      <th>split</th>\n",
       "      <th>compound_mention_count</th>\n",
       "      <th>disease_mention_count</th>\n",
       "      <th>gene_mention_count</th>\n",
       "      <th>sentence_id</th>\n",
       "      <th>text</th>\n",
       "      <th>sen_length</th>\n",
       "      <th>candidate_id</th>\n",
       "    </tr>\n",
       "  </thead>\n",
       "  <tbody>\n",
       "    <tr>\n",
       "      <th>817507</th>\n",
       "      <td>3630</td>\n",
       "      <td>INS</td>\n",
       "      <td>DB01124</td>\n",
       "      <td>Tolbutamide</td>\n",
       "      <td>NaN</td>\n",
       "      <td>0</td>\n",
       "      <td>621</td>\n",
       "      <td>1</td>\n",
       "      <td>0.42709</td>\n",
       "      <td>6</td>\n",
       "      <td>1.0</td>\n",
       "      <td>0.0</td>\n",
       "      <td>1.0</td>\n",
       "      <td>613126</td>\n",
       "      <td>Plasma insulin response to intravenous tolbuta...</td>\n",
       "      <td>12</td>\n",
       "      <td>50493</td>\n",
       "    </tr>\n",
       "    <tr>\n",
       "      <th>1864368</th>\n",
       "      <td>2520</td>\n",
       "      <td>GAST</td>\n",
       "      <td>DB00183</td>\n",
       "      <td>Pentagastrin</td>\n",
       "      <td>NaN</td>\n",
       "      <td>0</td>\n",
       "      <td>137</td>\n",
       "      <td>1</td>\n",
       "      <td>0.84974</td>\n",
       "      <td>7</td>\n",
       "      <td>1.0</td>\n",
       "      <td>0.0</td>\n",
       "      <td>1.0</td>\n",
       "      <td>486392</td>\n",
       "      <td>The effect of magnesium on calcium- and pentag...</td>\n",
       "      <td>22</td>\n",
       "      <td>50494</td>\n",
       "    </tr>\n",
       "  </tbody>\n",
       "</table>\n",
       "</div>"
      ],
      "text/plain": [
       "         entrez_gene_id gene_symbol drugbank_id          name sources  \\\n",
       "817507             3630         INS     DB01124   Tolbutamide     NaN   \n",
       "1864368            2520        GAST     DB00183  Pentagastrin     NaN   \n",
       "\n",
       "         hetionet  n_sentences  has_sentence  partition_rank  split  \\\n",
       "817507          0          621             1         0.42709      6   \n",
       "1864368         0          137             1         0.84974      7   \n",
       "\n",
       "         compound_mention_count  disease_mention_count  gene_mention_count  \\\n",
       "817507                      1.0                    0.0                 1.0   \n",
       "1864368                     1.0                    0.0                 1.0   \n",
       "\n",
       "         sentence_id                                               text  \\\n",
       "817507        613126  Plasma insulin response to intravenous tolbuta...   \n",
       "1864368       486392  The effect of magnesium on calcium- and pentag...   \n",
       "\n",
       "         sen_length  candidate_id  \n",
       "817507           12         50493  \n",
       "1864368          22         50494  "
      ]
     },
     "execution_count": 2,
     "metadata": {},
     "output_type": "execute_result"
    }
   ],
   "source": [
    "total_candidates_df = (\n",
    "    pd\n",
    "    .read_csv(\"../dataset_statistics/results/all_cbg_candidates.tsv.xz\", sep=\"\\t\")\n",
    "    .sort_values(\"candidate_id\")\n",
    ")\n",
    "total_candidates_df.head(2)"
   ]
  },
  {
   "cell_type": "code",
   "execution_count": 3,
   "metadata": {
    "ExecuteTime": {
     "end_time": "2020-01-06T18:48:34.558893Z",
     "start_time": "2020-01-06T18:48:32.849507Z"
    }
   },
   "outputs": [
    {
     "data": {
      "text/html": [
       "<div>\n",
       "<style scoped>\n",
       "    .dataframe tbody tr th:only-of-type {\n",
       "        vertical-align: middle;\n",
       "    }\n",
       "\n",
       "    .dataframe tbody tr th {\n",
       "        vertical-align: top;\n",
       "    }\n",
       "\n",
       "    .dataframe thead th {\n",
       "        text-align: right;\n",
       "    }\n",
       "</style>\n",
       "<table border=\"1\" class=\"dataframe\">\n",
       "  <thead>\n",
       "    <tr style=\"text-align: right;\">\n",
       "      <th></th>\n",
       "      <th>candidate_id</th>\n",
       "      <th>pred</th>\n",
       "    </tr>\n",
       "  </thead>\n",
       "  <tbody>\n",
       "    <tr>\n",
       "      <th>0</th>\n",
       "      <td>50493</td>\n",
       "      <td>0.843225</td>\n",
       "    </tr>\n",
       "    <tr>\n",
       "      <th>1</th>\n",
       "      <td>50494</td>\n",
       "      <td>0.086004</td>\n",
       "    </tr>\n",
       "  </tbody>\n",
       "</table>\n",
       "</div>"
      ],
      "text/plain": [
       "   candidate_id      pred\n",
       "0         50493  0.843225\n",
       "1         50494  0.086004"
      ]
     },
     "execution_count": 3,
     "metadata": {},
     "output_type": "execute_result"
    }
   ],
   "source": [
    "sentence_prediction_df = (\n",
    "    pd\n",
    "    .read_csv(\"input/all_predicted_cbg_sentences.tsv.xz\", sep=\"\\t\")\n",
    "    .drop_duplicates()\n",
    "    .sort_values(\"candidate_id\")\n",
    ")\n",
    "sentence_prediction_df.head(2)"
   ]
  },
  {
   "cell_type": "code",
   "execution_count": 4,
   "metadata": {
    "ExecuteTime": {
     "end_time": "2020-01-06T18:48:36.604713Z",
     "start_time": "2020-01-06T18:48:34.560692Z"
    }
   },
   "outputs": [
    {
     "data": {
      "text/html": [
       "<div>\n",
       "<style scoped>\n",
       "    .dataframe tbody tr th:only-of-type {\n",
       "        vertical-align: middle;\n",
       "    }\n",
       "\n",
       "    .dataframe tbody tr th {\n",
       "        vertical-align: top;\n",
       "    }\n",
       "\n",
       "    .dataframe thead th {\n",
       "        text-align: right;\n",
       "    }\n",
       "</style>\n",
       "<table border=\"1\" class=\"dataframe\">\n",
       "  <thead>\n",
       "    <tr style=\"text-align: right;\">\n",
       "      <th></th>\n",
       "      <th>drugbank_id</th>\n",
       "      <th>drug_name</th>\n",
       "      <th>entrez_gene_id</th>\n",
       "      <th>gene_symbol</th>\n",
       "      <th>text</th>\n",
       "      <th>hetionet</th>\n",
       "      <th>candidate_id</th>\n",
       "      <th>split</th>\n",
       "      <th>pred</th>\n",
       "    </tr>\n",
       "  </thead>\n",
       "  <tbody>\n",
       "    <tr>\n",
       "      <th>0</th>\n",
       "      <td>DB01124</td>\n",
       "      <td>Tolbutamide</td>\n",
       "      <td>3630</td>\n",
       "      <td>INS</td>\n",
       "      <td>Plasma insulin response to intravenous tolbuta...</td>\n",
       "      <td>0</td>\n",
       "      <td>50493</td>\n",
       "      <td>6</td>\n",
       "      <td>0.843225</td>\n",
       "    </tr>\n",
       "    <tr>\n",
       "      <th>1</th>\n",
       "      <td>DB00183</td>\n",
       "      <td>Pentagastrin</td>\n",
       "      <td>2520</td>\n",
       "      <td>GAST</td>\n",
       "      <td>The effect of magnesium on calcium- and pentag...</td>\n",
       "      <td>0</td>\n",
       "      <td>50494</td>\n",
       "      <td>7</td>\n",
       "      <td>0.086004</td>\n",
       "    </tr>\n",
       "  </tbody>\n",
       "</table>\n",
       "</div>"
      ],
      "text/plain": [
       "  drugbank_id     drug_name  entrez_gene_id gene_symbol  \\\n",
       "0     DB01124   Tolbutamide            3630         INS   \n",
       "1     DB00183  Pentagastrin            2520        GAST   \n",
       "\n",
       "                                                text  hetionet  candidate_id  \\\n",
       "0  Plasma insulin response to intravenous tolbuta...         0         50493   \n",
       "1  The effect of magnesium on calcium- and pentag...         0         50494   \n",
       "\n",
       "   split      pred  \n",
       "0      6  0.843225  \n",
       "1      7  0.086004  "
      ]
     },
     "execution_count": 4,
     "metadata": {},
     "output_type": "execute_result"
    }
   ],
   "source": [
    "# DataFrame that combines likelihood scores with each candidate sentence\n",
    "total_candidates_pred_df = (\n",
    "    total_candidates_df[[\n",
    "    \"drugbank_id\", \"name\", \n",
    "    \"entrez_gene_id\", \"gene_symbol\", \n",
    "    \"text\", \"hetionet\",\n",
    "    \"candidate_id\", \"split\"\n",
    "    ]]\n",
    "    .rename(index=str, columns={\"name\": \"drug_name\"})\n",
    "    .merge(sentence_prediction_df, on=\"candidate_id\")\n",
    ")\n",
    "\n",
    "total_candidates_pred_df.to_csv(\n",
    "    \"output/combined_predicted_cbg_sentences.tsv.xz\", \n",
    "    sep=\"\\t\", index=False, compression=\"xz\"\n",
    ")\n",
    "\n",
    "total_candidates_pred_df.head(2)"
   ]
  },
  {
   "cell_type": "code",
   "execution_count": 5,
   "metadata": {
    "ExecuteTime": {
     "end_time": "2020-01-06T18:48:37.467410Z",
     "start_time": "2020-01-06T18:48:36.606106Z"
    }
   },
   "outputs": [
    {
     "data": {
      "text/html": [
       "<div>\n",
       "<style scoped>\n",
       "    .dataframe tbody tr th:only-of-type {\n",
       "        vertical-align: middle;\n",
       "    }\n",
       "\n",
       "    .dataframe tbody tr th {\n",
       "        vertical-align: top;\n",
       "    }\n",
       "\n",
       "    .dataframe thead tr th {\n",
       "        text-align: left;\n",
       "    }\n",
       "</style>\n",
       "<table border=\"1\" class=\"dataframe\">\n",
       "  <thead>\n",
       "    <tr>\n",
       "      <th></th>\n",
       "      <th>drugbank_id</th>\n",
       "      <th>entrez_gene_id</th>\n",
       "      <th colspan=\"3\" halign=\"left\">pred</th>\n",
       "      <th>hetionet</th>\n",
       "      <th>gene_symbol</th>\n",
       "      <th>drug_name</th>\n",
       "      <th>split</th>\n",
       "    </tr>\n",
       "    <tr>\n",
       "      <th></th>\n",
       "      <th></th>\n",
       "      <th></th>\n",
       "      <th>max</th>\n",
       "      <th>mean</th>\n",
       "      <th>median</th>\n",
       "      <th>max</th>\n",
       "      <th>first</th>\n",
       "      <th>first</th>\n",
       "      <th>first</th>\n",
       "    </tr>\n",
       "  </thead>\n",
       "  <tbody>\n",
       "    <tr>\n",
       "      <th>0</th>\n",
       "      <td>DB00001</td>\n",
       "      <td>462</td>\n",
       "      <td>0.055028</td>\n",
       "      <td>0.055028</td>\n",
       "      <td>0.055028</td>\n",
       "      <td>0</td>\n",
       "      <td>SERPINC1</td>\n",
       "      <td>Lepirudin</td>\n",
       "      <td>6</td>\n",
       "    </tr>\n",
       "    <tr>\n",
       "      <th>1</th>\n",
       "      <td>DB00001</td>\n",
       "      <td>2147</td>\n",
       "      <td>0.826480</td>\n",
       "      <td>0.501209</td>\n",
       "      <td>0.667084</td>\n",
       "      <td>1</td>\n",
       "      <td>F2</td>\n",
       "      <td>Lepirudin</td>\n",
       "      <td>8</td>\n",
       "    </tr>\n",
       "  </tbody>\n",
       "</table>\n",
       "</div>"
      ],
      "text/plain": [
       "  drugbank_id entrez_gene_id      pred                     hetionet  \\\n",
       "                                   max      mean    median      max   \n",
       "0     DB00001            462  0.055028  0.055028  0.055028        0   \n",
       "1     DB00001           2147  0.826480  0.501209  0.667084        1   \n",
       "\n",
       "  gene_symbol  drug_name split  \n",
       "        first      first first  \n",
       "0    SERPINC1  Lepirudin     6  \n",
       "1          F2  Lepirudin     8  "
      ]
     },
     "execution_count": 5,
     "metadata": {},
     "output_type": "execute_result"
    }
   ],
   "source": [
    "# DataFrame that groups compound and gene mentions together and takes\n",
    "# the max, median and mean of each group\n",
    "grouped_candidates_pred_df=(\n",
    "    total_candidates_pred_df\n",
    "    .groupby([\"drugbank_id\", \"entrez_gene_id\"], as_index=False)\n",
    "    .agg({\n",
    "        \"pred\": ['max', 'mean', 'median'], \n",
    "        'hetionet': 'max',\n",
    "        \"gene_symbol\": 'first',\n",
    "        \"drug_name\": 'first',\n",
    "        'split':'first'\n",
    "    })\n",
    ")\n",
    "grouped_candidates_pred_df.head(2)"
   ]
  },
  {
   "cell_type": "code",
   "execution_count": 6,
   "metadata": {
    "ExecuteTime": {
     "end_time": "2020-01-06T18:48:37.496879Z",
     "start_time": "2020-01-06T18:48:37.468823Z"
    }
   },
   "outputs": [
    {
     "data": {
      "text/html": [
       "<div>\n",
       "<style scoped>\n",
       "    .dataframe tbody tr th:only-of-type {\n",
       "        vertical-align: middle;\n",
       "    }\n",
       "\n",
       "    .dataframe tbody tr th {\n",
       "        vertical-align: top;\n",
       "    }\n",
       "\n",
       "    .dataframe thead th {\n",
       "        text-align: right;\n",
       "    }\n",
       "</style>\n",
       "<table border=\"1\" class=\"dataframe\">\n",
       "  <thead>\n",
       "    <tr style=\"text-align: right;\">\n",
       "      <th></th>\n",
       "      <th>drugbank_id</th>\n",
       "      <th>entrez_gene_id</th>\n",
       "      <th>pred_max</th>\n",
       "      <th>pred_mean</th>\n",
       "      <th>pred_median</th>\n",
       "      <th>hetionet</th>\n",
       "      <th>gene_symbol</th>\n",
       "      <th>drug_name</th>\n",
       "      <th>split</th>\n",
       "    </tr>\n",
       "  </thead>\n",
       "  <tbody>\n",
       "    <tr>\n",
       "      <th>0</th>\n",
       "      <td>DB00001</td>\n",
       "      <td>462</td>\n",
       "      <td>0.055028</td>\n",
       "      <td>0.055028</td>\n",
       "      <td>0.055028</td>\n",
       "      <td>0</td>\n",
       "      <td>SERPINC1</td>\n",
       "      <td>Lepirudin</td>\n",
       "      <td>6</td>\n",
       "    </tr>\n",
       "    <tr>\n",
       "      <th>1</th>\n",
       "      <td>DB00001</td>\n",
       "      <td>2147</td>\n",
       "      <td>0.826480</td>\n",
       "      <td>0.501209</td>\n",
       "      <td>0.667084</td>\n",
       "      <td>1</td>\n",
       "      <td>F2</td>\n",
       "      <td>Lepirudin</td>\n",
       "      <td>8</td>\n",
       "    </tr>\n",
       "  </tbody>\n",
       "</table>\n",
       "</div>"
      ],
      "text/plain": [
       "  drugbank_id  entrez_gene_id  pred_max  pred_mean  pred_median  hetionet  \\\n",
       "0     DB00001             462  0.055028   0.055028     0.055028         0   \n",
       "1     DB00001            2147  0.826480   0.501209     0.667084         1   \n",
       "\n",
       "  gene_symbol  drug_name  split  \n",
       "0    SERPINC1  Lepirudin      6  \n",
       "1          F2  Lepirudin      8  "
      ]
     },
     "execution_count": 6,
     "metadata": {},
     "output_type": "execute_result"
    }
   ],
   "source": [
    "grouped_candidates_pred_df.columns = [\n",
    "    \"_\".join(col) \n",
    "    if col[1] != '' and col[0] not in ['hetionet', 'gene_symbol', 'drug_name', 'split'] else col[0] \n",
    "    for col in grouped_candidates_pred_df.columns.values\n",
    "]\n",
    "grouped_candidates_pred_df.head(2)"
   ]
  },
  {
   "cell_type": "code",
   "execution_count": 7,
   "metadata": {
    "ExecuteTime": {
     "end_time": "2020-01-06T18:48:37.581553Z",
     "start_time": "2020-01-06T18:48:37.498476Z"
    }
   },
   "outputs": [
    {
     "data": {
      "text/html": [
       "<div>\n",
       "<style scoped>\n",
       "    .dataframe tbody tr th:only-of-type {\n",
       "        vertical-align: middle;\n",
       "    }\n",
       "\n",
       "    .dataframe tbody tr th {\n",
       "        vertical-align: top;\n",
       "    }\n",
       "\n",
       "    .dataframe thead th {\n",
       "        text-align: right;\n",
       "    }\n",
       "</style>\n",
       "<table border=\"1\" class=\"dataframe\">\n",
       "  <thead>\n",
       "    <tr style=\"text-align: right;\">\n",
       "      <th></th>\n",
       "      <th>drugbank_id</th>\n",
       "      <th>entrez_gene_id</th>\n",
       "      <th>pred_max</th>\n",
       "      <th>pred_mean</th>\n",
       "      <th>pred_median</th>\n",
       "      <th>hetionet</th>\n",
       "      <th>gene_symbol</th>\n",
       "      <th>drug_name</th>\n",
       "    </tr>\n",
       "  </thead>\n",
       "  <tbody>\n",
       "    <tr>\n",
       "      <th>1</th>\n",
       "      <td>DB00001</td>\n",
       "      <td>2147</td>\n",
       "      <td>0.826480</td>\n",
       "      <td>0.501209</td>\n",
       "      <td>0.667084</td>\n",
       "      <td>1</td>\n",
       "      <td>F2</td>\n",
       "      <td>Lepirudin</td>\n",
       "    </tr>\n",
       "    <tr>\n",
       "      <th>9</th>\n",
       "      <td>DB00007</td>\n",
       "      <td>596</td>\n",
       "      <td>0.574616</td>\n",
       "      <td>0.574616</td>\n",
       "      <td>0.574616</td>\n",
       "      <td>0</td>\n",
       "      <td>BCL2</td>\n",
       "      <td>Leuprolide</td>\n",
       "    </tr>\n",
       "  </tbody>\n",
       "</table>\n",
       "</div>"
      ],
      "text/plain": [
       "  drugbank_id  entrez_gene_id  pred_max  pred_mean  pred_median  hetionet  \\\n",
       "1     DB00001            2147  0.826480   0.501209     0.667084         1   \n",
       "9     DB00007             596  0.574616   0.574616     0.574616         0   \n",
       "\n",
       "  gene_symbol   drug_name  \n",
       "1          F2   Lepirudin  \n",
       "9        BCL2  Leuprolide  "
      ]
     },
     "execution_count": 7,
     "metadata": {},
     "output_type": "execute_result"
    }
   ],
   "source": [
    "grouped_candidates_pred_subset_df = (\n",
    "    grouped_candidates_pred_df\n",
    "    .query(\"split==8\")\n",
    "    .drop(\"split\", axis=1)\n",
    ")\n",
    "grouped_candidates_pred_subset_df.head(2)"
   ]
  },
  {
   "cell_type": "code",
   "execution_count": 8,
   "metadata": {
    "ExecuteTime": {
     "end_time": "2020-01-06T18:48:37.625246Z",
     "start_time": "2020-01-06T18:48:37.585377Z"
    }
   },
   "outputs": [
    {
     "data": {
      "text/plain": [
       "0    20552\n",
       "1      533\n",
       "Name: hetionet, dtype: int64"
      ]
     },
     "execution_count": 8,
     "metadata": {},
     "output_type": "execute_result"
    }
   ],
   "source": [
    "grouped_candidates_pred_subset_df.hetionet.value_counts()"
   ]
  },
  {
   "cell_type": "markdown",
   "metadata": {},
   "source": [
    "# Best Sentence Representation Metric"
   ]
  },
  {
   "cell_type": "markdown",
   "metadata": {},
   "source": [
    "This section aims to answer the question: What metric (Mean, Max, Median) best predicts Hetionet Edges?"
   ]
  },
  {
   "cell_type": "code",
   "execution_count": 9,
   "metadata": {
    "ExecuteTime": {
     "end_time": "2020-01-06T18:48:37.681833Z",
     "start_time": "2020-01-06T18:48:37.628368Z"
    }
   },
   "outputs": [],
   "source": [
    "performance_map = {}"
   ]
  },
  {
   "cell_type": "code",
   "execution_count": 10,
   "metadata": {
    "ExecuteTime": {
     "end_time": "2020-01-06T18:48:37.770824Z",
     "start_time": "2020-01-06T18:48:37.683272Z"
    }
   },
   "outputs": [],
   "source": [
    "precision, recall, pr_threshold = precision_recall_curve(\n",
    "    grouped_candidates_pred_subset_df.hetionet, \n",
    "    grouped_candidates_pred_subset_df.pred_max,\n",
    ")\n",
    "\n",
    "fpr, tpr, roc_threshold = roc_curve(\n",
    "    grouped_candidates_pred_subset_df.hetionet, \n",
    "    grouped_candidates_pred_subset_df.pred_max,\n",
    ")\n",
    "\n",
    "performance_map['max'] = {\n",
    "    \"precision\":precision, \"recall\":recall, \n",
    "    \"pr_threshold\":pr_threshold, \"false_pos\":fpr,\n",
    "    \"true_pos\":tpr, \"roc_threshold\":roc_threshold, \n",
    "}"
   ]
  },
  {
   "cell_type": "code",
   "execution_count": 11,
   "metadata": {
    "ExecuteTime": {
     "end_time": "2020-01-06T18:48:37.857959Z",
     "start_time": "2020-01-06T18:48:37.774353Z"
    }
   },
   "outputs": [],
   "source": [
    "precision, recall, pr_threshold = precision_recall_curve(\n",
    "    grouped_candidates_pred_subset_df.hetionet, \n",
    "    grouped_candidates_pred_subset_df.pred_mean,\n",
    ")\n",
    "\n",
    "fpr, tpr, roc_threshold = roc_curve(\n",
    "    grouped_candidates_pred_subset_df.hetionet, \n",
    "    grouped_candidates_pred_subset_df.pred_mean,\n",
    ")\n",
    "\n",
    "performance_map['mean'] = {\n",
    "    \"precision\":precision, \"recall\":recall, \n",
    "    \"pr_threshold\":pr_threshold, \"false_pos\":fpr,\n",
    "    \"true_pos\":tpr, \"roc_threshold\":roc_threshold, \n",
    "}"
   ]
  },
  {
   "cell_type": "code",
   "execution_count": 12,
   "metadata": {
    "ExecuteTime": {
     "end_time": "2020-01-06T18:48:37.924676Z",
     "start_time": "2020-01-06T18:48:37.860189Z"
    }
   },
   "outputs": [],
   "source": [
    "precision, recall, pr_threshold = precision_recall_curve(\n",
    "    grouped_candidates_pred_subset_df.hetionet, \n",
    "    grouped_candidates_pred_subset_df.pred_median,\n",
    ")\n",
    "\n",
    "fpr, tpr, roc_threshold = roc_curve(\n",
    "    grouped_candidates_pred_subset_df.hetionet, \n",
    "    grouped_candidates_pred_subset_df.pred_median,\n",
    ")\n",
    "\n",
    "performance_map['median'] = {\n",
    "    \"precision\":precision, \"recall\":recall, \n",
    "    \"pr_threshold\":pr_threshold, \"false_pos\":fpr,\n",
    "    \"true_pos\":tpr, \"roc_threshold\":roc_threshold, \n",
    "}"
   ]
  },
  {
   "cell_type": "code",
   "execution_count": 13,
   "metadata": {
    "ExecuteTime": {
     "end_time": "2020-01-06T18:48:38.179460Z",
     "start_time": "2020-01-06T18:48:37.925942Z"
    }
   },
   "outputs": [
    {
     "data": {
      "image/png": "[encoded data removed]",
      "text/plain": [
       "<Figure size 432x288 with 1 Axes>"
      ]
     },
     "metadata": {
      "needs_background": "light"
     },
     "output_type": "display_data"
    }
   ],
   "source": [
    "for key in performance_map:\n",
    "    plt.plot(\n",
    "        performance_map[key]['false_pos'], \n",
    "        performance_map[key]['true_pos'], \n",
    "        label=f\"{key}:AUC ({auc(performance_map[key]['false_pos'], performance_map[key]['true_pos']):.3f})\"\n",
    "    )\n",
    "plt.plot([0,1], [0,1], linestyle='--', color='black')\n",
    "plt.legend()\n",
    "plt.show()"
   ]
  },
  {
   "cell_type": "code",
   "execution_count": 14,
   "metadata": {
    "ExecuteTime": {
     "end_time": "2020-01-06T18:48:38.336492Z",
     "start_time": "2020-01-06T18:48:38.180606Z"
    }
   },
   "outputs": [
    {
     "data": {
      "image/png": "[encoded data removed]",
      "text/plain": [
       "<Figure size 432x288 with 1 Axes>"
      ]
     },
     "metadata": {
      "needs_background": "light"
     },
     "output_type": "display_data"
    }
   ],
   "source": [
    "for key in performance_map:\n",
    "    plt.plot(\n",
    "        performance_map[key]['recall'], \n",
    "        performance_map[key]['precision'], \n",
    "        label=f\"{key}:AUC ({auc(performance_map[key]['recall'], performance_map[key]['precision']):.3f})\"\n",
    "    )\n",
    "\n",
    "plt.legend()\n",
    "plt.show()"
   ]
  },
  {
   "cell_type": "markdown",
   "metadata": {},
   "source": [
    "# Optimal Cutoff Using PR-CURVE "
   ]
  },
  {
   "cell_type": "code",
   "execution_count": 15,
   "metadata": {
    "ExecuteTime": {
     "end_time": "2020-01-06T18:48:38.374361Z",
     "start_time": "2020-01-06T18:48:38.337882Z"
    }
   },
   "outputs": [
    {
     "data": {
      "text/html": [
       "<div>\n",
       "<style scoped>\n",
       "    .dataframe tbody tr th:only-of-type {\n",
       "        vertical-align: middle;\n",
       "    }\n",
       "\n",
       "    .dataframe tbody tr th {\n",
       "        vertical-align: top;\n",
       "    }\n",
       "\n",
       "    .dataframe thead th {\n",
       "        text-align: right;\n",
       "    }\n",
       "</style>\n",
       "<table border=\"1\" class=\"dataframe\">\n",
       "  <thead>\n",
       "    <tr style=\"text-align: right;\">\n",
       "      <th></th>\n",
       "      <th>precision</th>\n",
       "      <th>recall</th>\n",
       "      <th>pr_threshold</th>\n",
       "    </tr>\n",
       "  </thead>\n",
       "  <tbody>\n",
       "    <tr>\n",
       "      <th>20783</th>\n",
       "      <td>0.500000</td>\n",
       "      <td>0.001876</td>\n",
       "      <td>0.982158</td>\n",
       "    </tr>\n",
       "    <tr>\n",
       "      <th>20776</th>\n",
       "      <td>0.444444</td>\n",
       "      <td>0.007505</td>\n",
       "      <td>0.973740</td>\n",
       "    </tr>\n",
       "  </tbody>\n",
       "</table>\n",
       "</div>"
      ],
      "text/plain": [
       "       precision    recall  pr_threshold\n",
       "20783   0.500000  0.001876      0.982158\n",
       "20776   0.444444  0.007505      0.973740"
      ]
     },
     "execution_count": 15,
     "metadata": {},
     "output_type": "execute_result"
    }
   ],
   "source": [
    "threshold_df = (\n",
    "    pd.DataFrame(\n",
    "        list(\n",
    "            zip(\n",
    "                performance_map['max']['precision'], \n",
    "                performance_map['max']['recall'], \n",
    "                performance_map['max']['pr_threshold']\n",
    "            )\n",
    "        ),\n",
    "        columns=[\"precision\", \"recall\", \"pr_threshold\"]\n",
    "    )\n",
    "    .sort_values(\"precision\", ascending=False)\n",
    ")\n",
    "threshold_df.head(2)"
   ]
  },
  {
   "cell_type": "code",
   "execution_count": 16,
   "metadata": {
    "ExecuteTime": {
     "end_time": "2020-01-06T18:48:38.656684Z",
     "start_time": "2020-01-06T18:48:38.375717Z"
    }
   },
   "outputs": [
    {
     "name": "stderr",
     "output_type": "stream",
     "text": [
      "/home/danich1/.local/lib/python3.6/site-packages/ipykernel_launcher.py:15: TqdmDeprecationWarning: This function will be removed in tqdm==5.0.0\n",
      "Please use `tqdm.notebook.tqdm` instead of `tqdm.tqdm_notebook`\n",
      "  from ipykernel import kernelapp as app\n"
     ]
    },
    {
     "data": {
      "application/vnd.jupyter.widget-view+json": {
       "model_id": "79065480be35487187379ebe79798df2",
       "version_major": 2,
       "version_minor": 0
      },
      "text/plain": [
       "HBox(children=(IntProgress(value=0, max=35), HTML(value='')))"
      ]
     },
     "metadata": {},
     "output_type": "display_data"
    },
    {
     "name": "stdout",
     "output_type": "stream",
     "text": [
      "\n"
     ]
    },
    {
     "data": {
      "text/html": [
       "<div>\n",
       "<style scoped>\n",
       "    .dataframe tbody tr th:only-of-type {\n",
       "        vertical-align: middle;\n",
       "    }\n",
       "\n",
       "    .dataframe tbody tr th {\n",
       "        vertical-align: top;\n",
       "    }\n",
       "\n",
       "    .dataframe thead th {\n",
       "        text-align: right;\n",
       "    }\n",
       "</style>\n",
       "<table border=\"1\" class=\"dataframe\">\n",
       "  <thead>\n",
       "    <tr style=\"text-align: right;\">\n",
       "      <th></th>\n",
       "      <th>edges</th>\n",
       "      <th>in_hetionet</th>\n",
       "      <th>precision</th>\n",
       "      <th>sen_cutoff</th>\n",
       "    </tr>\n",
       "  </thead>\n",
       "  <tbody>\n",
       "    <tr>\n",
       "      <th>0</th>\n",
       "      <td>1</td>\n",
       "      <td>Existing</td>\n",
       "      <td>0.50</td>\n",
       "      <td>0.982158</td>\n",
       "    </tr>\n",
       "    <tr>\n",
       "      <th>1</th>\n",
       "      <td>1</td>\n",
       "      <td>Novel</td>\n",
       "      <td>0.50</td>\n",
       "      <td>0.982158</td>\n",
       "    </tr>\n",
       "    <tr>\n",
       "      <th>2</th>\n",
       "      <td>5</td>\n",
       "      <td>Novel</td>\n",
       "      <td>0.44</td>\n",
       "      <td>0.973740</td>\n",
       "    </tr>\n",
       "    <tr>\n",
       "      <th>3</th>\n",
       "      <td>4</td>\n",
       "      <td>Existing</td>\n",
       "      <td>0.44</td>\n",
       "      <td>0.973740</td>\n",
       "    </tr>\n",
       "    <tr>\n",
       "      <th>4</th>\n",
       "      <td>5</td>\n",
       "      <td>Novel</td>\n",
       "      <td>0.43</td>\n",
       "      <td>0.973740</td>\n",
       "    </tr>\n",
       "    <tr>\n",
       "      <th>5</th>\n",
       "      <td>4</td>\n",
       "      <td>Existing</td>\n",
       "      <td>0.43</td>\n",
       "      <td>0.973740</td>\n",
       "    </tr>\n",
       "    <tr>\n",
       "      <th>6</th>\n",
       "      <td>6</td>\n",
       "      <td>Novel</td>\n",
       "      <td>0.40</td>\n",
       "      <td>0.973554</td>\n",
       "    </tr>\n",
       "    <tr>\n",
       "      <th>7</th>\n",
       "      <td>4</td>\n",
       "      <td>Existing</td>\n",
       "      <td>0.40</td>\n",
       "      <td>0.973554</td>\n",
       "    </tr>\n",
       "    <tr>\n",
       "      <th>8</th>\n",
       "      <td>8</td>\n",
       "      <td>Novel</td>\n",
       "      <td>0.38</td>\n",
       "      <td>0.971480</td>\n",
       "    </tr>\n",
       "    <tr>\n",
       "      <th>9</th>\n",
       "      <td>5</td>\n",
       "      <td>Existing</td>\n",
       "      <td>0.38</td>\n",
       "      <td>0.971480</td>\n",
       "    </tr>\n",
       "  </tbody>\n",
       "</table>\n",
       "</div>"
      ],
      "text/plain": [
       "   edges in_hetionet  precision  sen_cutoff\n",
       "0      1    Existing       0.50    0.982158\n",
       "1      1       Novel       0.50    0.982158\n",
       "2      5       Novel       0.44    0.973740\n",
       "3      4    Existing       0.44    0.973740\n",
       "4      5       Novel       0.43    0.973740\n",
       "5      4    Existing       0.43    0.973740\n",
       "6      6       Novel       0.40    0.973554\n",
       "7      4    Existing       0.40    0.973554\n",
       "8      8       Novel       0.38    0.971480\n",
       "9      5    Existing       0.38    0.971480"
      ]
     },
     "execution_count": 16,
     "metadata": {},
     "output_type": "execute_result"
    }
   ],
   "source": [
    "#precision_thresholds = pd.np.linspace(0,1,num=5)\n",
    "precision_thresholds = threshold_df.round(2).drop_duplicates(\"precision\").precision.values\n",
    "\n",
    "# Add the lowest precision rather than\n",
    "# Keep it zero\n",
    "precision_thresholds = (\n",
    "    pd.np.where(\n",
    "        precision_thresholds==0, \n",
    "        threshold_df.query(\"precision > 0\").precision.min(), \n",
    "        precision_thresholds\n",
    "    )\n",
    ")\n",
    "\n",
    "performance_records = []\n",
    "for precision_cutoff in tqdm_notebook(precision_thresholds):\n",
    "\n",
    "    cutoff = (\n",
    "        threshold_df\n",
    "        .query(\"precision>=@precision_cutoff\")\n",
    "        .pr_threshold\n",
    "        .min()\n",
    "    )\n",
    "    \n",
    "    values_added = (\n",
    "        grouped_candidates_pred_subset_df\n",
    "        .query(\"pred_max >= @cutoff\")\n",
    "        .hetionet\n",
    "        .value_counts()\n",
    "    )\n",
    "    \n",
    "    series_keys = list(values_added.keys())\n",
    "    for key in series_keys:\n",
    "        performance_records.append(\n",
    "           {  \n",
    "               \"edges\": values_added[key], \n",
    "               \"in_hetionet\": \"Existing\" if key == 1 else \"Novel\", \n",
    "               \"precision\": precision_cutoff,\n",
    "               \"sen_cutoff\": cutoff\n",
    "           }\n",
    "        )\n",
    "   \n",
    "    \n",
    "edges_added_df = (\n",
    "    pd\n",
    "    .DataFrame\n",
    "    .from_records(performance_records)\n",
    ")\n",
    "edges_added_df.head(10)"
   ]
  },
  {
   "cell_type": "code",
   "execution_count": 17,
   "metadata": {
    "ExecuteTime": {
     "end_time": "2020-01-06T18:48:39.182188Z",
     "start_time": "2020-01-06T18:48:38.658448Z"
    }
   },
   "outputs": [
    {
     "data": {
      "text/plain": [
       "[None]"
      ]
     },
     "execution_count": 17,
     "metadata": {},
     "output_type": "execute_result"
    },
    {
     "data": {
      "image/png": "[encoded data removed]",
      "text/plain": [
       "<Figure size 432x288 with 1 Axes>"
      ]
     },
     "metadata": {
      "needs_background": "light"
     },
     "output_type": "display_data"
    }
   ],
   "source": [
    "ax = sns.scatterplot(x=\"precision\", y=\"edges\", hue=\"in_hetionet\", data=edges_added_df)\n",
    "ax.set(yscale=\"log\")"
   ]
  },
  {
   "cell_type": "code",
   "execution_count": 18,
   "metadata": {
    "ExecuteTime": {
     "end_time": "2020-01-06T18:48:39.200229Z",
     "start_time": "2020-01-06T18:48:39.183552Z"
    }
   },
   "outputs": [],
   "source": [
    "edges_added_df.to_csv(\"output/precision_cbg_edges_added.tsv\", index=False, sep=\"\\t\")"
   ]
  },
  {
   "cell_type": "markdown",
   "metadata": {},
   "source": [
    "# Total Recalled Edges"
   ]
  },
  {
   "cell_type": "markdown",
   "metadata": {},
   "source": [
    "How many edges of hetionet can we recall using a cutoff score of 0.5?"
   ]
  },
  {
   "cell_type": "code",
   "execution_count": 19,
   "metadata": {
    "ExecuteTime": {
     "end_time": "2020-01-06T18:48:39.356726Z",
     "start_time": "2020-01-06T18:48:39.203456Z"
    }
   },
   "outputs": [
    {
     "data": {
      "text/html": [
       "<div>\n",
       "<style scoped>\n",
       "    .dataframe tbody tr th:only-of-type {\n",
       "        vertical-align: middle;\n",
       "    }\n",
       "\n",
       "    .dataframe tbody tr th {\n",
       "        vertical-align: top;\n",
       "    }\n",
       "\n",
       "    .dataframe thead th {\n",
       "        text-align: right;\n",
       "    }\n",
       "</style>\n",
       "<table border=\"1\" class=\"dataframe\">\n",
       "  <thead>\n",
       "    <tr style=\"text-align: right;\">\n",
       "      <th></th>\n",
       "      <th>edges</th>\n",
       "      <th>in_hetionet</th>\n",
       "      <th>recall</th>\n",
       "      <th>relation</th>\n",
       "      <th>total</th>\n",
       "    </tr>\n",
       "  </thead>\n",
       "  <tbody>\n",
       "    <tr>\n",
       "      <th>0</th>\n",
       "      <td>3075</td>\n",
       "      <td>Existing</td>\n",
       "      <td>0.584157</td>\n",
       "      <td>CbG</td>\n",
       "      <td>5264.0</td>\n",
       "    </tr>\n",
       "    <tr>\n",
       "      <th>1</th>\n",
       "      <td>48022</td>\n",
       "      <td>Novel</td>\n",
       "      <td>NaN</td>\n",
       "      <td>CbG</td>\n",
       "      <td>NaN</td>\n",
       "    </tr>\n",
       "  </tbody>\n",
       "</table>\n",
       "</div>"
      ],
      "text/plain": [
       "   edges in_hetionet    recall relation   total\n",
       "0   3075    Existing  0.584157      CbG  5264.0\n",
       "1  48022       Novel       NaN      CbG     NaN"
      ]
     },
     "execution_count": 19,
     "metadata": {},
     "output_type": "execute_result"
    }
   ],
   "source": [
    "datarows = []\n",
    "datarows.append({\n",
    "    \"recall\":(\n",
    "        grouped_candidates_pred_df\n",
    "        .query(\"pred_max > 0.5\")\n",
    "        .hetionet\n",
    "        .value_counts()[1] /\n",
    "        grouped_candidates_pred_df\n",
    "        .hetionet.\n",
    "        value_counts()[1]\n",
    "    ),\n",
    "    \"edges\":(\n",
    "        grouped_candidates_pred_df\n",
    "        .query(\"pred_max > 0.5\")\n",
    "        .hetionet\n",
    "        .value_counts()[1]\n",
    "    ),\n",
    "    \"in_hetionet\": \"Existing\",\n",
    "    \"total\": int(grouped_candidates_pred_df.hetionet.value_counts()[1]),\n",
    "    \"relation\":\"CbG\"\n",
    "})\n",
    "datarows.append({\n",
    "    \"edges\":(\n",
    "        grouped_candidates_pred_df\n",
    "        .query(\"pred_max > 0.5\")\n",
    "        .hetionet\n",
    "        .value_counts()[0]\n",
    "    ),\n",
    "    \"in_hetionet\": \"Novel\",\n",
    "    \"relation\":\"CbG\"\n",
    "})\n",
    "edges_df = pd.DataFrame.from_records(datarows)\n",
    "edges_df"
   ]
  },
  {
   "cell_type": "code",
   "execution_count": 20,
   "metadata": {
    "ExecuteTime": {
     "end_time": "2020-01-06T18:48:39.828835Z",
     "start_time": "2020-01-06T18:48:39.358241Z"
    }
   },
   "outputs": [
    {
     "name": "stderr",
     "output_type": "stream",
     "text": [
      "/home/danich1/anaconda3/envs/snorkeling/lib/python3.6/site-packages/plotnine/scales/scale.py:93: MatplotlibDeprecationWarning: \n",
      "The iterable function was deprecated in Matplotlib 3.1 and will be removed in 3.3. Use np.iterable instead.\n",
      "  if cbook.iterable(self.breaks) and cbook.iterable(self.labels):\n",
      "/home/danich1/anaconda3/envs/snorkeling/lib/python3.6/site-packages/plotnine/utils.py:553: MatplotlibDeprecationWarning: \n",
      "The iterable function was deprecated in Matplotlib 3.1 and will be removed in 3.3. Use np.iterable instead.\n",
      "  return cbook.iterable(var) and not is_string(var)\n"
     ]
    },
    {
     "data": {
      "image/png": "[encoded data removed]",
      "text/plain": [
       "<Figure size 640x480 with 1 Axes>"
      ]
     },
     "metadata": {
      "needs_background": "light"
     },
     "output_type": "display_data"
    },
    {
     "name": "stdout",
     "output_type": "stream",
     "text": [
      "<ggplot: (-9223363265809882501)>\n"
     ]
    }
   ],
   "source": [
    "import math\n",
    "g = (\n",
    "    p9.ggplot(edges_df, p9.aes(x=\"relation\", y=\"edges\", fill=\"in_hetionet\"))\n",
    "    + p9.geom_col(position=\"dodge\")\n",
    "    + p9.geom_text(\n",
    "        p9.aes(\n",
    "            label=(\n",
    "                edges_df\n",
    "                .apply(\n",
    "                    lambda x: \n",
    "                    f\"{x['edges']} ({x['recall']*100:.0f}%)\" \n",
    "                    if not math.isnan(x['recall']) else \n",
    "                    f\"{x['edges']}\",\n",
    "                    axis=1\n",
    "                )\n",
    "            )\n",
    "        ),\n",
    "        position=p9.position_dodge(width=1),\n",
    "        size=9,\n",
    "        va=\"bottom\"\n",
    "    )\n",
    "    + p9.scale_y_log10()\n",
    "    + p9.theme(\n",
    "        axis_text_y=p9.element_blank(),\n",
    "        axis_ticks_major = p9.element_blank(),\n",
    "        rect=p9.element_blank()\n",
    "    )\n",
    ")\n",
    "print(g)"
   ]
  }
 ],
 "metadata": {
  "kernelspec": {
   "display_name": "Python [conda env:snorkeling]",
   "language": "python",
   "name": "conda-env-snorkeling-py"
  },
  "language_info": {
   "codemirror_mode": {
    "name": "ipython",
    "version": 3
   },
   "file_extension": ".py",
   "mimetype": "text/x-python",
   "name": "python",
   "nbconvert_exporter": "python",
   "pygments_lexer": "ipython3",
   "version": "3.6.7"
  },
  "toc": {
   "base_numbering": 1,
   "nav_menu": {},
   "number_sections": true,
   "sideBar": true,
   "skip_h1_title": false,
   "title_cell": "Table of Contents",
   "title_sidebar": "Contents",
   "toc_cell": false,
   "toc_position": {},
   "toc_section_display": true,
   "toc_window_display": false
  },
  "varInspector": {
   "cols": {
    "lenName": 16,
    "lenType": 16,
    "lenVar": 40
   },
   "kernels_config": {
    "python": {
     "delete_cmd_postfix": "",
     "delete_cmd_prefix": "del ",
     "library": "var_list.py",
     "varRefreshCmd": "print(var_dic_list())"
    },
    "r": {
     "delete_cmd_postfix": ") ",
     "delete_cmd_prefix": "rm(",
     "library": "var_list.r",
     "varRefreshCmd": "cat(var_dic_list()) "
    }
   },
   "types_to_exclude": [
    "module",
    "function",
    "builtin_function_or_method",
    "instance",
    "_Feature"
   ],
   "window_display": false
  }
 },
 "nbformat": 4,
 "nbformat_minor": 2
}
