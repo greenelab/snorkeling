{
 "cells": [
  {
   "cell_type": "markdown",
   "metadata": {},
   "source": [
    "# Compound Binds Gene Edge Prediction"
   ]
  },
  {
   "cell_type": "markdown",
   "metadata": {},
   "source": [
    "This notebook is designed to take the next step moving from predicted sentences to edge predictions. After training the discriminator model, each sentences contains a confidence score for the likelihood of mentioning a relationship. Multiple relationships contain multiple sentences, which makes establishing an edge unintuitive. Is taking the max score appropiate for determining existence of an edge? Does taking the mean of each relationship make more sense? The answer towards these questions are shown below."
   ]
  },
  {
   "cell_type": "code",
   "execution_count": 1,
   "metadata": {
    "ExecuteTime": {
     "end_time": "2019-07-21T20:46:49.973697Z",
     "start_time": "2019-07-21T20:46:49.389813Z"
    }
   },
   "outputs": [],
   "source": [
    "%load_ext autoreload\n",
    "%autoreload 2\n",
    "%matplotlib inline\n",
    "\n",
    "import pandas as pd\n",
    "from sklearn.metrics import precision_recall_curve, roc_curve, auc\n",
    "import seaborn as sns\n",
    "import matplotlib.pyplot as plt\n",
    "from tqdm import tqdm_notebook"
   ]
  },
  {
   "cell_type": "code",
   "execution_count": 2,
   "metadata": {
    "ExecuteTime": {
     "end_time": "2019-07-21T20:47:06.285223Z",
     "start_time": "2019-07-21T20:46:50.454786Z"
    }
   },
   "outputs": [
    {
     "data": {
      "text/html": [
       "<div>\n",
       "<style scoped>\n",
       "    .dataframe tbody tr th:only-of-type {\n",
       "        vertical-align: middle;\n",
       "    }\n",
       "\n",
       "    .dataframe tbody tr th {\n",
       "        vertical-align: top;\n",
       "    }\n",
       "\n",
       "    .dataframe thead th {\n",
       "        text-align: right;\n",
       "    }\n",
       "</style>\n",
       "<table border=\"1\" class=\"dataframe\">\n",
       "  <thead>\n",
       "    <tr style=\"text-align: right;\">\n",
       "      <th></th>\n",
       "      <th>entrez_gene_id</th>\n",
       "      <th>gene_symbol</th>\n",
       "      <th>drugbank_id</th>\n",
       "      <th>name</th>\n",
       "      <th>sources</th>\n",
       "      <th>hetionet</th>\n",
       "      <th>n_sentences</th>\n",
       "      <th>has_sentence</th>\n",
       "      <th>partition_rank</th>\n",
       "      <th>split</th>\n",
       "      <th>compound_mention_count</th>\n",
       "      <th>disease_mention_count</th>\n",
       "      <th>gene_mention_count</th>\n",
       "      <th>sentence_id</th>\n",
       "      <th>text</th>\n",
       "      <th>sen_length</th>\n",
       "      <th>candidate_id</th>\n",
       "    </tr>\n",
       "  </thead>\n",
       "  <tbody>\n",
       "    <tr>\n",
       "      <th>817507</th>\n",
       "      <td>3630</td>\n",
       "      <td>INS</td>\n",
       "      <td>DB01124</td>\n",
       "      <td>Tolbutamide</td>\n",
       "      <td>NaN</td>\n",
       "      <td>0</td>\n",
       "      <td>621</td>\n",
       "      <td>1</td>\n",
       "      <td>0.42709</td>\n",
       "      <td>6</td>\n",
       "      <td>1.0</td>\n",
       "      <td>0.0</td>\n",
       "      <td>1.0</td>\n",
       "      <td>613126</td>\n",
       "      <td>Plasma insulin response to intravenous tolbuta...</td>\n",
       "      <td>12</td>\n",
       "      <td>50493</td>\n",
       "    </tr>\n",
       "    <tr>\n",
       "      <th>1864368</th>\n",
       "      <td>2520</td>\n",
       "      <td>GAST</td>\n",
       "      <td>DB00183</td>\n",
       "      <td>Pentagastrin</td>\n",
       "      <td>NaN</td>\n",
       "      <td>0</td>\n",
       "      <td>137</td>\n",
       "      <td>1</td>\n",
       "      <td>0.84974</td>\n",
       "      <td>7</td>\n",
       "      <td>1.0</td>\n",
       "      <td>0.0</td>\n",
       "      <td>1.0</td>\n",
       "      <td>486392</td>\n",
       "      <td>The effect of magnesium on calcium- and pentag...</td>\n",
       "      <td>22</td>\n",
       "      <td>50494</td>\n",
       "    </tr>\n",
       "  </tbody>\n",
       "</table>\n",
       "</div>"
      ],
      "text/plain": [
       "         entrez_gene_id gene_symbol drugbank_id          name sources  \\\n",
       "817507             3630         INS     DB01124   Tolbutamide     NaN   \n",
       "1864368            2520        GAST     DB00183  Pentagastrin     NaN   \n",
       "\n",
       "         hetionet  n_sentences  has_sentence  partition_rank  split  \\\n",
       "817507          0          621             1         0.42709      6   \n",
       "1864368         0          137             1         0.84974      7   \n",
       "\n",
       "         compound_mention_count  disease_mention_count  gene_mention_count  \\\n",
       "817507                      1.0                    0.0                 1.0   \n",
       "1864368                     1.0                    0.0                 1.0   \n",
       "\n",
       "         sentence_id                                               text  \\\n",
       "817507        613126  Plasma insulin response to intravenous tolbuta...   \n",
       "1864368       486392  The effect of magnesium on calcium- and pentag...   \n",
       "\n",
       "         sen_length  candidate_id  \n",
       "817507           12         50493  \n",
       "1864368          22         50494  "
      ]
     },
     "execution_count": 2,
     "metadata": {},
     "output_type": "execute_result"
    }
   ],
   "source": [
    "total_candidates_df = (\n",
    "    pd\n",
    "    .read_table(\"../dataset_statistics/data/all_cbg_candidates.tsv.xz\")\n",
    "    .sort_values(\"candidate_id\")\n",
    ")\n",
    "total_candidates_df.head(2)"
   ]
  },
  {
   "cell_type": "code",
   "execution_count": 3,
   "metadata": {
    "ExecuteTime": {
     "end_time": "2019-07-21T20:47:06.721938Z",
     "start_time": "2019-07-21T20:47:06.286575Z"
    }
   },
   "outputs": [
    {
     "data": {
      "text/html": [
       "<div>\n",
       "<style scoped>\n",
       "    .dataframe tbody tr th:only-of-type {\n",
       "        vertical-align: middle;\n",
       "    }\n",
       "\n",
       "    .dataframe tbody tr th {\n",
       "        vertical-align: top;\n",
       "    }\n",
       "\n",
       "    .dataframe thead th {\n",
       "        text-align: right;\n",
       "    }\n",
       "</style>\n",
       "<table border=\"1\" class=\"dataframe\">\n",
       "  <thead>\n",
       "    <tr style=\"text-align: right;\">\n",
       "      <th></th>\n",
       "      <th>candidate_id</th>\n",
       "      <th>model_prediction</th>\n",
       "    </tr>\n",
       "  </thead>\n",
       "  <tbody>\n",
       "    <tr>\n",
       "      <th>0</th>\n",
       "      <td>50493</td>\n",
       "      <td>0.517963</td>\n",
       "    </tr>\n",
       "    <tr>\n",
       "      <th>1</th>\n",
       "      <td>50494</td>\n",
       "      <td>0.367304</td>\n",
       "    </tr>\n",
       "  </tbody>\n",
       "</table>\n",
       "</div>"
      ],
      "text/plain": [
       "   candidate_id  model_prediction\n",
       "0         50493          0.517963\n",
       "1         50494          0.367304"
      ]
     },
     "execution_count": 3,
     "metadata": {},
     "output_type": "execute_result"
    }
   ],
   "source": [
    "sentence_prediction_df = (\n",
    "    pd\n",
    "    .read_table(\"results/all_predicted_sentences.tsv\")\n",
    "    .sort_values(\"candidate_id\")\n",
    ")\n",
    "sentence_prediction_df.head(2)"
   ]
  },
  {
   "cell_type": "code",
   "execution_count": 4,
   "metadata": {
    "ExecuteTime": {
     "end_time": "2019-07-21T20:50:24.636083Z",
     "start_time": "2019-07-21T20:47:06.723332Z"
    }
   },
   "outputs": [
    {
     "data": {
      "text/html": [
       "<div>\n",
       "<style scoped>\n",
       "    .dataframe tbody tr th:only-of-type {\n",
       "        vertical-align: middle;\n",
       "    }\n",
       "\n",
       "    .dataframe tbody tr th {\n",
       "        vertical-align: top;\n",
       "    }\n",
       "\n",
       "    .dataframe thead th {\n",
       "        text-align: right;\n",
       "    }\n",
       "</style>\n",
       "<table border=\"1\" class=\"dataframe\">\n",
       "  <thead>\n",
       "    <tr style=\"text-align: right;\">\n",
       "      <th></th>\n",
       "      <th>drugbank_id</th>\n",
       "      <th>drug_name</th>\n",
       "      <th>entrez_gene_id</th>\n",
       "      <th>gene_symbol</th>\n",
       "      <th>text</th>\n",
       "      <th>hetionet</th>\n",
       "      <th>candidate_id</th>\n",
       "      <th>model_prediction</th>\n",
       "    </tr>\n",
       "  </thead>\n",
       "  <tbody>\n",
       "    <tr>\n",
       "      <th>0</th>\n",
       "      <td>DB01124</td>\n",
       "      <td>Tolbutamide</td>\n",
       "      <td>3630</td>\n",
       "      <td>INS</td>\n",
       "      <td>Plasma insulin response to intravenous tolbuta...</td>\n",
       "      <td>0</td>\n",
       "      <td>50493</td>\n",
       "      <td>0.517963</td>\n",
       "    </tr>\n",
       "    <tr>\n",
       "      <th>1</th>\n",
       "      <td>DB00183</td>\n",
       "      <td>Pentagastrin</td>\n",
       "      <td>2520</td>\n",
       "      <td>GAST</td>\n",
       "      <td>The effect of magnesium on calcium- and pentag...</td>\n",
       "      <td>0</td>\n",
       "      <td>50494</td>\n",
       "      <td>0.367304</td>\n",
       "    </tr>\n",
       "  </tbody>\n",
       "</table>\n",
       "</div>"
      ],
      "text/plain": [
       "  drugbank_id     drug_name  entrez_gene_id gene_symbol  \\\n",
       "0     DB01124   Tolbutamide            3630         INS   \n",
       "1     DB00183  Pentagastrin            2520        GAST   \n",
       "\n",
       "                                                text  hetionet  candidate_id  \\\n",
       "0  Plasma insulin response to intravenous tolbuta...         0         50493   \n",
       "1  The effect of magnesium on calcium- and pentag...         0         50494   \n",
       "\n",
       "   model_prediction  \n",
       "0          0.517963  \n",
       "1          0.367304  "
      ]
     },
     "execution_count": 4,
     "metadata": {},
     "output_type": "execute_result"
    }
   ],
   "source": [
    "# DataFrame that combines likelihood scores with each candidate sentence\n",
    "total_candidates_pred_df = (\n",
    "    total_candidates_df[[\n",
    "    \"drugbank_id\", \"name\", \n",
    "    \"entrez_gene_id\", \"gene_symbol\", \n",
    "    \"text\", \"hetionet\",\n",
    "    \"candidate_id\"\n",
    "    ]]\n",
    "    .rename(index=str, columns={\"name\": \"drug_name\"})\n",
    "    .merge(sentence_prediction_df, on=\"candidate_id\")\n",
    ")\n",
    "total_candidates_pred_df.to_csv(\n",
    "    \"results/combined_predicted_cbg_sentences.tsv.xz\", \n",
    "    sep=\"\\t\", index=False, compression=\"xz\"\n",
    ")\n",
    "total_candidates_pred_df.head(2)"
   ]
  },
  {
   "cell_type": "code",
   "execution_count": 5,
   "metadata": {
    "ExecuteTime": {
     "end_time": "2019-07-15T17:06:49.879964Z",
     "start_time": "2019-07-15T17:06:48.966150Z"
    }
   },
   "outputs": [
    {
     "data": {
      "text/html": [
       "<div>\n",
       "<style scoped>\n",
       "    .dataframe tbody tr th:only-of-type {\n",
       "        vertical-align: middle;\n",
       "    }\n",
       "\n",
       "    .dataframe tbody tr th {\n",
       "        vertical-align: top;\n",
       "    }\n",
       "\n",
       "    .dataframe thead tr th {\n",
       "        text-align: left;\n",
       "    }\n",
       "</style>\n",
       "<table border=\"1\" class=\"dataframe\">\n",
       "  <thead>\n",
       "    <tr>\n",
       "      <th></th>\n",
       "      <th>drugbank_id</th>\n",
       "      <th>entrez_gene_id</th>\n",
       "      <th colspan=\"3\" halign=\"left\">model_prediction</th>\n",
       "      <th>hetionet</th>\n",
       "      <th>gene_symbol</th>\n",
       "      <th>drug_name</th>\n",
       "    </tr>\n",
       "    <tr>\n",
       "      <th></th>\n",
       "      <th></th>\n",
       "      <th></th>\n",
       "      <th>max</th>\n",
       "      <th>mean</th>\n",
       "      <th>median</th>\n",
       "      <th>max</th>\n",
       "      <th>first</th>\n",
       "      <th>first</th>\n",
       "    </tr>\n",
       "  </thead>\n",
       "  <tbody>\n",
       "    <tr>\n",
       "      <th>0</th>\n",
       "      <td>DB00001</td>\n",
       "      <td>462</td>\n",
       "      <td>0.394295</td>\n",
       "      <td>0.394295</td>\n",
       "      <td>0.394295</td>\n",
       "      <td>0</td>\n",
       "      <td>SERPINC1</td>\n",
       "      <td>Lepirudin</td>\n",
       "    </tr>\n",
       "    <tr>\n",
       "      <th>1</th>\n",
       "      <td>DB00001</td>\n",
       "      <td>2147</td>\n",
       "      <td>0.627754</td>\n",
       "      <td>0.499056</td>\n",
       "      <td>0.537586</td>\n",
       "      <td>1</td>\n",
       "      <td>F2</td>\n",
       "      <td>Lepirudin</td>\n",
       "    </tr>\n",
       "  </tbody>\n",
       "</table>\n",
       "</div>"
      ],
      "text/plain": [
       "  drugbank_id entrez_gene_id model_prediction                     hetionet  \\\n",
       "                                          max      mean    median      max   \n",
       "0     DB00001            462         0.394295  0.394295  0.394295        0   \n",
       "1     DB00001           2147         0.627754  0.499056  0.537586        1   \n",
       "\n",
       "  gene_symbol  drug_name  \n",
       "        first      first  \n",
       "0    SERPINC1  Lepirudin  \n",
       "1          F2  Lepirudin  "
      ]
     },
     "execution_count": 5,
     "metadata": {},
     "output_type": "execute_result"
    }
   ],
   "source": [
    "# DataFrame that groups compound and gene mentions together and takes\n",
    "# the max, median and mean of each group\n",
    "grouped_candidates_pred_df=(\n",
    "    total_candidates_pred_df\n",
    "    .groupby([\"drugbank_id\", \"entrez_gene_id\"], as_index=False)\n",
    "    .agg({\n",
    "        \"model_prediction\": ['max', 'mean', 'median'], \n",
    "        'hetionet': 'max',\n",
    "        \"gene_symbol\": 'first',\n",
    "        \"drug_name\": 'first'\n",
    "    })\n",
    ")\n",
    "grouped_candidates_pred_df.head(2)"
   ]
  },
  {
   "cell_type": "code",
   "execution_count": 6,
   "metadata": {
    "ExecuteTime": {
     "end_time": "2019-07-15T17:06:49.902209Z",
     "start_time": "2019-07-15T17:06:49.881551Z"
    }
   },
   "outputs": [
    {
     "data": {
      "text/html": [
       "<div>\n",
       "<style scoped>\n",
       "    .dataframe tbody tr th:only-of-type {\n",
       "        vertical-align: middle;\n",
       "    }\n",
       "\n",
       "    .dataframe tbody tr th {\n",
       "        vertical-align: top;\n",
       "    }\n",
       "\n",
       "    .dataframe thead th {\n",
       "        text-align: right;\n",
       "    }\n",
       "</style>\n",
       "<table border=\"1\" class=\"dataframe\">\n",
       "  <thead>\n",
       "    <tr style=\"text-align: right;\">\n",
       "      <th></th>\n",
       "      <th>drugbank_id</th>\n",
       "      <th>entrez_gene_id</th>\n",
       "      <th>model_prediction_max</th>\n",
       "      <th>model_prediction_mean</th>\n",
       "      <th>model_prediction_median</th>\n",
       "      <th>hetionet</th>\n",
       "      <th>gene_symbol</th>\n",
       "      <th>drug_name</th>\n",
       "    </tr>\n",
       "  </thead>\n",
       "  <tbody>\n",
       "    <tr>\n",
       "      <th>0</th>\n",
       "      <td>DB00001</td>\n",
       "      <td>462</td>\n",
       "      <td>0.394295</td>\n",
       "      <td>0.394295</td>\n",
       "      <td>0.394295</td>\n",
       "      <td>0</td>\n",
       "      <td>SERPINC1</td>\n",
       "      <td>Lepirudin</td>\n",
       "    </tr>\n",
       "    <tr>\n",
       "      <th>1</th>\n",
       "      <td>DB00001</td>\n",
       "      <td>2147</td>\n",
       "      <td>0.627754</td>\n",
       "      <td>0.499056</td>\n",
       "      <td>0.537586</td>\n",
       "      <td>1</td>\n",
       "      <td>F2</td>\n",
       "      <td>Lepirudin</td>\n",
       "    </tr>\n",
       "  </tbody>\n",
       "</table>\n",
       "</div>"
      ],
      "text/plain": [
       "  drugbank_id  entrez_gene_id  model_prediction_max  model_prediction_mean  \\\n",
       "0     DB00001             462              0.394295               0.394295   \n",
       "1     DB00001            2147              0.627754               0.499056   \n",
       "\n",
       "   model_prediction_median  hetionet gene_symbol  drug_name  \n",
       "0                 0.394295         0    SERPINC1  Lepirudin  \n",
       "1                 0.537586         1          F2  Lepirudin  "
      ]
     },
     "execution_count": 6,
     "metadata": {},
     "output_type": "execute_result"
    }
   ],
   "source": [
    "grouped_candidates_pred_df.columns = [\n",
    "    \"_\".join(col) \n",
    "    if col[1] != '' and col[0] not in ['hetionet', 'gene_symbol', 'drug_name'] else col[0] \n",
    "    for col in grouped_candidates_pred_df.columns.values\n",
    "]\n",
    "grouped_candidates_pred_df.head(2)"
   ]
  },
  {
   "cell_type": "code",
   "execution_count": 7,
   "metadata": {
    "ExecuteTime": {
     "end_time": "2019-07-15T17:06:49.934049Z",
     "start_time": "2019-07-15T17:06:49.903847Z"
    }
   },
   "outputs": [
    {
     "data": {
      "text/plain": [
       "0    229810\n",
       "1      5496\n",
       "Name: hetionet, dtype: int64"
      ]
     },
     "execution_count": 7,
     "metadata": {},
     "output_type": "execute_result"
    }
   ],
   "source": [
    "grouped_candidates_pred_df.hetionet.value_counts()"
   ]
  },
  {
   "cell_type": "code",
   "execution_count": 8,
   "metadata": {
    "ExecuteTime": {
     "end_time": "2019-07-15T17:06:49.957486Z",
     "start_time": "2019-07-15T17:06:49.935650Z"
    }
   },
   "outputs": [],
   "source": [
    "performance_map = {}"
   ]
  },
  {
   "cell_type": "code",
   "execution_count": 9,
   "metadata": {
    "ExecuteTime": {
     "end_time": "2019-07-15T17:06:50.067695Z",
     "start_time": "2019-07-15T17:06:49.958987Z"
    }
   },
   "outputs": [],
   "source": [
    "precision, recall, pr_threshold = precision_recall_curve(\n",
    "    grouped_candidates_pred_df.hetionet, \n",
    "    grouped_candidates_pred_df.model_prediction_max,\n",
    ")\n",
    "\n",
    "fpr, tpr, roc_threshold = roc_curve(\n",
    "    grouped_candidates_pred_df.hetionet, \n",
    "    grouped_candidates_pred_df.model_prediction_max,\n",
    ")\n",
    "\n",
    "performance_map['max'] = {\n",
    "    \"precision\":precision, \"recall\":recall, \n",
    "    \"pr_threshold\":pr_threshold, \"false_pos\":fpr,\n",
    "    \"true_pos\":tpr, \"roc_threshold\":roc_threshold, \n",
    "}"
   ]
  },
  {
   "cell_type": "code",
   "execution_count": 10,
   "metadata": {
    "ExecuteTime": {
     "end_time": "2019-07-15T17:06:50.181963Z",
     "start_time": "2019-07-15T17:06:50.069051Z"
    }
   },
   "outputs": [],
   "source": [
    "precision, recall, pr_threshold = precision_recall_curve(\n",
    "    grouped_candidates_pred_df.hetionet, \n",
    "    grouped_candidates_pred_df.model_prediction_mean,\n",
    ")\n",
    "\n",
    "fpr, tpr, roc_threshold = roc_curve(\n",
    "    grouped_candidates_pred_df.hetionet, \n",
    "    grouped_candidates_pred_df.model_prediction_mean,\n",
    ")\n",
    "\n",
    "performance_map['mean'] = {\n",
    "    \"precision\":precision, \"recall\":recall, \n",
    "    \"pr_threshold\":pr_threshold, \"false_pos\":fpr,\n",
    "    \"true_pos\":tpr, \"roc_threshold\":roc_threshold, \n",
    "}"
   ]
  },
  {
   "cell_type": "code",
   "execution_count": 11,
   "metadata": {
    "ExecuteTime": {
     "end_time": "2019-07-15T17:06:50.271303Z",
     "start_time": "2019-07-15T17:06:50.187096Z"
    }
   },
   "outputs": [],
   "source": [
    "precision, recall, pr_threshold = precision_recall_curve(\n",
    "    grouped_candidates_pred_df.hetionet, \n",
    "    grouped_candidates_pred_df.model_prediction_median,\n",
    ")\n",
    "\n",
    "fpr, tpr, roc_threshold = roc_curve(\n",
    "    grouped_candidates_pred_df.hetionet, \n",
    "    grouped_candidates_pred_df.model_prediction_median,\n",
    ")\n",
    "\n",
    "performance_map['median'] = {\n",
    "    \"precision\":precision, \"recall\":recall, \n",
    "    \"pr_threshold\":pr_threshold, \"false_pos\":fpr,\n",
    "    \"true_pos\":tpr, \"roc_threshold\":roc_threshold, \n",
    "}"
   ]
  },
  {
   "cell_type": "code",
   "execution_count": 12,
   "metadata": {
    "ExecuteTime": {
     "end_time": "2019-07-15T17:06:50.526848Z",
     "start_time": "2019-07-15T17:06:50.274043Z"
    }
   },
   "outputs": [
    {
     "data": {
      "image/png": "[encoded data removed]",
      "text/plain": [
       "<matplotlib.figure.Figure at 0x7f28f5e52b38>"
      ]
     },
     "metadata": {},
     "output_type": "display_data"
    }
   ],
   "source": [
    "for key in performance_map:\n",
    "    plt.plot(\n",
    "        performance_map[key]['false_pos'], \n",
    "        performance_map[key]['true_pos'], \n",
    "        label=f\"{key}:AUC ({auc(performance_map[key]['false_pos'], performance_map[key]['true_pos']):.3f})\"\n",
    "    )\n",
    "plt.plot([0,1], [0,1], linestyle='--', color='black')\n",
    "plt.legend()\n",
    "plt.show()"
   ]
  },
  {
   "cell_type": "code",
   "execution_count": 13,
   "metadata": {
    "ExecuteTime": {
     "end_time": "2019-07-15T17:06:50.608987Z",
     "start_time": "2019-07-15T17:06:50.529285Z"
    }
   },
   "outputs": [
    {
     "name": "stderr",
     "output_type": "stream",
     "text": [
      "/home/danich1/anaconda2/envs/snorkeling/lib/python3.6/site-packages/ipykernel/__main__.py:18: DeprecationWarning: \n",
      ".ix is deprecated. Please use\n",
      ".loc for label based indexing or\n",
      ".iloc for positional indexing\n",
      "\n",
      "See the documentation here:\n",
      "http://pandas.pydata.org/pandas-docs/stable/indexing.html#ix-indexer-is-deprecated\n"
     ]
    },
    {
     "data": {
      "text/plain": [
       "0.5040749"
      ]
     },
     "execution_count": 13,
     "metadata": {},
     "output_type": "execute_result"
    }
   ],
   "source": [
    "# https://stackoverflow.com/questions/28719067/roc-curve-and-cut-off-point-python\n",
    "def Find_Optimal_Cutoff(target, predicted):\n",
    "    \"\"\" Find the optimal probability cutoff point for a classification model related to event rate\n",
    "    Parameters\n",
    "    ----------\n",
    "    target : Matrix with dependent or target data, where rows are observations\n",
    "\n",
    "    predicted : Matrix with predicted data, where rows are observations\n",
    "\n",
    "    Returns\n",
    "    -------     \n",
    "    list type, with optimal cutoff value\n",
    "\n",
    "    \"\"\"\n",
    "    fpr, tpr, threshold = roc_curve(target, predicted)\n",
    "    i = pd.np.arange(len(tpr)) \n",
    "    roc = pd.DataFrame({'tf' : pd.Series(tpr-(1-fpr), index=i), 'threshold' : pd.Series(threshold, index=i)})\n",
    "    roc_t = roc.ix[(roc.tf-0).abs().argsort()[:1]]\n",
    "\n",
    "    return list(roc_t['threshold']) \n",
    "roc_optimal = Find_Optimal_Cutoff(grouped_candidates_pred_df.hetionet.values, grouped_candidates_pred_df.model_prediction_max)[0]\n",
    "roc_optimal"
   ]
  },
  {
   "cell_type": "code",
   "execution_count": 14,
   "metadata": {
    "ExecuteTime": {
     "end_time": "2019-07-15T17:06:50.920259Z",
     "start_time": "2019-07-15T17:06:50.610424Z"
    }
   },
   "outputs": [
    {
     "data": {
      "image/png": "[encoded data removed]",
      "text/plain": [
       "<matplotlib.figure.Figure at 0x7f28f5e52978>"
      ]
     },
     "metadata": {},
     "output_type": "display_data"
    }
   ],
   "source": [
    "for key in performance_map:\n",
    "    plt.plot(\n",
    "        performance_map[key]['recall'], \n",
    "        performance_map[key]['precision'], \n",
    "        label=f\"{key}:AUC ({auc(performance_map[key]['recall'], performance_map[key]['precision']):.3f})\"\n",
    "    )\n",
    "\n",
    "plt.legend()\n",
    "plt.show()"
   ]
  },
  {
   "cell_type": "markdown",
   "metadata": {},
   "source": [
    "# Optimal PR-Cutoff"
   ]
  },
  {
   "cell_type": "code",
   "execution_count": 15,
   "metadata": {
    "ExecuteTime": {
     "end_time": "2019-07-15T17:06:51.059954Z",
     "start_time": "2019-07-15T17:06:50.924019Z"
    }
   },
   "outputs": [
    {
     "data": {
      "text/html": [
       "<div>\n",
       "<style scoped>\n",
       "    .dataframe tbody tr th:only-of-type {\n",
       "        vertical-align: middle;\n",
       "    }\n",
       "\n",
       "    .dataframe tbody tr th {\n",
       "        vertical-align: top;\n",
       "    }\n",
       "\n",
       "    .dataframe thead th {\n",
       "        text-align: right;\n",
       "    }\n",
       "</style>\n",
       "<table border=\"1\" class=\"dataframe\">\n",
       "  <thead>\n",
       "    <tr style=\"text-align: right;\">\n",
       "      <th></th>\n",
       "      <th>precision</th>\n",
       "      <th>recall</th>\n",
       "      <th>pr_threshold</th>\n",
       "    </tr>\n",
       "  </thead>\n",
       "  <tbody>\n",
       "    <tr>\n",
       "      <th>231123</th>\n",
       "      <td>0.666667</td>\n",
       "      <td>0.000364</td>\n",
       "      <td>0.864714</td>\n",
       "    </tr>\n",
       "    <tr>\n",
       "      <th>231110</th>\n",
       "      <td>0.562500</td>\n",
       "      <td>0.001638</td>\n",
       "      <td>0.833758</td>\n",
       "    </tr>\n",
       "  </tbody>\n",
       "</table>\n",
       "</div>"
      ],
      "text/plain": [
       "        precision    recall  pr_threshold\n",
       "231123   0.666667  0.000364      0.864714\n",
       "231110   0.562500  0.001638      0.833758"
      ]
     },
     "execution_count": 15,
     "metadata": {},
     "output_type": "execute_result"
    }
   ],
   "source": [
    "threshold_df = (\n",
    "    pd.DataFrame(\n",
    "        list(\n",
    "            zip(\n",
    "                performance_map['max']['precision'], \n",
    "                performance_map['max']['recall'], \n",
    "                performance_map['max']['pr_threshold']\n",
    "            )\n",
    "        ),\n",
    "        columns=[\"precision\", \"recall\", \"pr_threshold\"]\n",
    "    )\n",
    "    .sort_values(\"precision\", ascending=False)\n",
    ")\n",
    "threshold_df.head(2)"
   ]
  },
  {
   "cell_type": "code",
   "execution_count": 16,
   "metadata": {
    "ExecuteTime": {
     "end_time": "2019-07-15T17:06:51.433860Z",
     "start_time": "2019-07-15T17:06:51.061643Z"
    }
   },
   "outputs": [
    {
     "data": {
      "application/vnd.jupyter.widget-view+json": {
       "model_id": "8258d74c5c5c43e8abb0781466e07afc",
       "version_major": 2,
       "version_minor": 0
      },
      "text/html": [
       "<p>Failed to display Jupyter Widget of type <code>HBox</code>.</p>\n",
       "<p>\n",
       "  If you're reading this message in the Jupyter Notebook or JupyterLab Notebook, it may mean\n",
       "  that the widgets JavaScript is still loading. If this message persists, it\n",
       "  likely means that the widgets JavaScript library is either not installed or\n",
       "  not enabled. See the <a href=\"https://ipywidgets.readthedocs.io/en/stable/user_install.html\">Jupyter\n",
       "  Widgets Documentation</a> for setup instructions.\n",
       "</p>\n",
       "<p>\n",
       "  If you're reading this message in another frontend (for example, a static\n",
       "  rendering on GitHub or <a href=\"https://nbviewer.jupyter.org/\">NBViewer</a>),\n",
       "  it may mean that your frontend doesn't currently support widgets.\n",
       "</p>\n"
      ],
      "text/plain": [
       "HBox(children=(IntProgress(value=0, max=52), HTML(value='')))"
      ]
     },
     "metadata": {},
     "output_type": "display_data"
    },
    {
     "name": "stdout",
     "output_type": "stream",
     "text": [
      "\n"
     ]
    },
    {
     "data": {
      "text/html": [
       "<div>\n",
       "<style scoped>\n",
       "    .dataframe tbody tr th:only-of-type {\n",
       "        vertical-align: middle;\n",
       "    }\n",
       "\n",
       "    .dataframe tbody tr th {\n",
       "        vertical-align: top;\n",
       "    }\n",
       "\n",
       "    .dataframe thead th {\n",
       "        text-align: right;\n",
       "    }\n",
       "</style>\n",
       "<table border=\"1\" class=\"dataframe\">\n",
       "  <thead>\n",
       "    <tr style=\"text-align: right;\">\n",
       "      <th></th>\n",
       "      <th>edges</th>\n",
       "      <th>in_hetionet</th>\n",
       "      <th>precision</th>\n",
       "      <th>sen_cutoff</th>\n",
       "    </tr>\n",
       "  </thead>\n",
       "  <tbody>\n",
       "    <tr>\n",
       "      <th>0</th>\n",
       "      <td>9</td>\n",
       "      <td>Existing</td>\n",
       "      <td>0.56</td>\n",
       "      <td>0.833758</td>\n",
       "    </tr>\n",
       "    <tr>\n",
       "      <th>1</th>\n",
       "      <td>7</td>\n",
       "      <td>Novel</td>\n",
       "      <td>0.56</td>\n",
       "      <td>0.833758</td>\n",
       "    </tr>\n",
       "    <tr>\n",
       "      <th>2</th>\n",
       "      <td>9</td>\n",
       "      <td>Existing</td>\n",
       "      <td>0.55</td>\n",
       "      <td>0.833758</td>\n",
       "    </tr>\n",
       "    <tr>\n",
       "      <th>3</th>\n",
       "      <td>7</td>\n",
       "      <td>Novel</td>\n",
       "      <td>0.55</td>\n",
       "      <td>0.833758</td>\n",
       "    </tr>\n",
       "    <tr>\n",
       "      <th>4</th>\n",
       "      <td>9</td>\n",
       "      <td>Existing</td>\n",
       "      <td>0.54</td>\n",
       "      <td>0.833758</td>\n",
       "    </tr>\n",
       "    <tr>\n",
       "      <th>5</th>\n",
       "      <td>7</td>\n",
       "      <td>Novel</td>\n",
       "      <td>0.54</td>\n",
       "      <td>0.833758</td>\n",
       "    </tr>\n",
       "    <tr>\n",
       "      <th>6</th>\n",
       "      <td>9</td>\n",
       "      <td>Existing</td>\n",
       "      <td>0.53</td>\n",
       "      <td>0.833758</td>\n",
       "    </tr>\n",
       "    <tr>\n",
       "      <th>7</th>\n",
       "      <td>7</td>\n",
       "      <td>Novel</td>\n",
       "      <td>0.53</td>\n",
       "      <td>0.833758</td>\n",
       "    </tr>\n",
       "    <tr>\n",
       "      <th>8</th>\n",
       "      <td>9</td>\n",
       "      <td>Existing</td>\n",
       "      <td>0.50</td>\n",
       "      <td>0.833205</td>\n",
       "    </tr>\n",
       "    <tr>\n",
       "      <th>9</th>\n",
       "      <td>9</td>\n",
       "      <td>Novel</td>\n",
       "      <td>0.50</td>\n",
       "      <td>0.833205</td>\n",
       "    </tr>\n",
       "  </tbody>\n",
       "</table>\n",
       "</div>"
      ],
      "text/plain": [
       "   edges in_hetionet  precision  sen_cutoff\n",
       "0      9    Existing       0.56    0.833758\n",
       "1      7       Novel       0.56    0.833758\n",
       "2      9    Existing       0.55    0.833758\n",
       "3      7       Novel       0.55    0.833758\n",
       "4      9    Existing       0.54    0.833758\n",
       "5      7       Novel       0.54    0.833758\n",
       "6      9    Existing       0.53    0.833758\n",
       "7      7       Novel       0.53    0.833758\n",
       "8      9    Existing       0.50    0.833205\n",
       "9      9       Novel       0.50    0.833205"
      ]
     },
     "execution_count": 16,
     "metadata": {},
     "output_type": "execute_result"
    }
   ],
   "source": [
    "#precision_thresholds = pd.np.linspace(0,1,num=5)\n",
    "precision_thresholds = threshold_df.round(2).drop_duplicates(\"precision\").precision.values\n",
    "\n",
    "# Add the lowest precision rather than\n",
    "# Keep it zero\n",
    "precision_thresholds = (\n",
    "    pd.np.where(\n",
    "        precision_thresholds==0, \n",
    "        threshold_df.query(\"precision > 0\").precision.min(), \n",
    "        precision_thresholds\n",
    "    )\n",
    ")\n",
    "\n",
    "performance_records = []\n",
    "for precision_cutoff in tqdm_notebook(precision_thresholds):\n",
    "\n",
    "    cutoff = (\n",
    "        threshold_df\n",
    "        .query(\"precision>=@precision_cutoff\")\n",
    "        .pr_threshold\n",
    "        .min()\n",
    "    )\n",
    "    \n",
    "    values_added = (\n",
    "        grouped_candidates_pred_df\n",
    "        .query(\"model_prediction_max >= @cutoff\")\n",
    "        .hetionet\n",
    "        .value_counts()\n",
    "    )\n",
    "    \n",
    "    series_keys = list(values_added.keys())\n",
    "    for key in series_keys:\n",
    "        performance_records.append(\n",
    "           {  \n",
    "               \"edges\": values_added[key], \n",
    "               \"in_hetionet\": \"Existing\" if key == 1 else \"Novel\", \n",
    "               \"precision\": precision_cutoff,\n",
    "               \"sen_cutoff\": cutoff\n",
    "           }\n",
    "        )\n",
    "   \n",
    "    \n",
    "edges_added_df = (\n",
    "    pd\n",
    "    .DataFrame\n",
    "    .from_records(performance_records)\n",
    ")\n",
    "edges_added_df.head(10)"
   ]
  },
  {
   "cell_type": "code",
   "execution_count": 17,
   "metadata": {
    "ExecuteTime": {
     "end_time": "2019-07-15T17:06:51.957498Z",
     "start_time": "2019-07-15T17:06:51.435799Z"
    }
   },
   "outputs": [
    {
     "data": {
      "text/plain": [
       "[None]"
      ]
     },
     "execution_count": 17,
     "metadata": {},
     "output_type": "execute_result"
    },
    {
     "data": {
      "image/png": "[encoded data removed]",
      "text/plain": [
       "<matplotlib.figure.Figure at 0x7f294708ae80>"
      ]
     },
     "metadata": {},
     "output_type": "display_data"
    }
   ],
   "source": [
    "ax = sns.scatterplot(x=\"precision\", y=\"edges\", hue=\"in_hetionet\", data=edges_added_df)\n",
    "ax.set(yscale=\"log\")"
   ]
  },
  {
   "cell_type": "code",
   "execution_count": 18,
   "metadata": {
    "ExecuteTime": {
     "end_time": "2019-07-15T17:06:51.976816Z",
     "start_time": "2019-07-15T17:06:51.958992Z"
    }
   },
   "outputs": [],
   "source": [
    "edges_added_df.to_csv(\"results/precision_cbg_edges_added.tsv\", index=False, sep=\"\\t\")"
   ]
  },
  {
   "cell_type": "markdown",
   "metadata": {},
   "source": [
    "# Optimal ROC Cutoff"
   ]
  },
  {
   "cell_type": "code",
   "execution_count": 19,
   "metadata": {
    "ExecuteTime": {
     "end_time": "2019-07-15T17:06:52.055189Z",
     "start_time": "2019-07-15T17:06:51.981680Z"
    }
   },
   "outputs": [
    {
     "data": {
      "text/plain": [
       "0    74727\n",
       "1     3708\n",
       "Name: hetionet, dtype: int64"
      ]
     },
     "execution_count": 19,
     "metadata": {},
     "output_type": "execute_result"
    }
   ],
   "source": [
    "(\n",
    "    grouped_candidates_pred_df\n",
    "    .query(\"model_prediction_max > @roc_optimal\")\n",
    "    .sort_values(\"hetionet\")\n",
    "    .hetionet.value_counts()\n",
    ")"
   ]
  },
  {
   "cell_type": "code",
   "execution_count": 20,
   "metadata": {
    "ExecuteTime": {
     "end_time": "2019-07-15T17:06:52.119317Z",
     "start_time": "2019-07-15T17:06:52.056658Z"
    }
   },
   "outputs": [
    {
     "data": {
      "text/html": [
       "<div>\n",
       "<style scoped>\n",
       "    .dataframe tbody tr th:only-of-type {\n",
       "        vertical-align: middle;\n",
       "    }\n",
       "\n",
       "    .dataframe tbody tr th {\n",
       "        vertical-align: top;\n",
       "    }\n",
       "\n",
       "    .dataframe thead th {\n",
       "        text-align: right;\n",
       "    }\n",
       "</style>\n",
       "<table border=\"1\" class=\"dataframe\">\n",
       "  <thead>\n",
       "    <tr style=\"text-align: right;\">\n",
       "      <th></th>\n",
       "      <th>drugbank_id</th>\n",
       "      <th>entrez_gene_id</th>\n",
       "      <th>model_prediction_max</th>\n",
       "      <th>model_prediction_mean</th>\n",
       "      <th>model_prediction_median</th>\n",
       "      <th>hetionet</th>\n",
       "      <th>gene_symbol</th>\n",
       "      <th>drug_name</th>\n",
       "    </tr>\n",
       "  </thead>\n",
       "  <tbody>\n",
       "    <tr>\n",
       "      <th>229636</th>\n",
       "      <td>DB07447</td>\n",
       "      <td>2099</td>\n",
       "      <td>0.889551</td>\n",
       "      <td>0.527927</td>\n",
       "      <td>0.490368</td>\n",
       "      <td>0</td>\n",
       "      <td>ESR1</td>\n",
       "      <td>5-beta-DIHYDROTESTOSTERONE</td>\n",
       "    </tr>\n",
       "    <tr>\n",
       "      <th>24619</th>\n",
       "      <td>DB00197</td>\n",
       "      <td>6256</td>\n",
       "      <td>0.857222</td>\n",
       "      <td>0.492378</td>\n",
       "      <td>0.483710</td>\n",
       "      <td>0</td>\n",
       "      <td>RXRA</td>\n",
       "      <td>Troglitazone</td>\n",
       "    </tr>\n",
       "    <tr>\n",
       "      <th>205951</th>\n",
       "      <td>DB03929</td>\n",
       "      <td>3643</td>\n",
       "      <td>0.855602</td>\n",
       "      <td>0.648784</td>\n",
       "      <td>0.654349</td>\n",
       "      <td>0</td>\n",
       "      <td>INSR</td>\n",
       "      <td>D-Serine</td>\n",
       "    </tr>\n",
       "    <tr>\n",
       "      <th>70226</th>\n",
       "      <td>DB00640</td>\n",
       "      <td>1956</td>\n",
       "      <td>0.854739</td>\n",
       "      <td>0.593269</td>\n",
       "      <td>0.597648</td>\n",
       "      <td>0</td>\n",
       "      <td>EGFR</td>\n",
       "      <td>Adenosine</td>\n",
       "    </tr>\n",
       "    <tr>\n",
       "      <th>199387</th>\n",
       "      <td>DB03839</td>\n",
       "      <td>3643</td>\n",
       "      <td>0.850353</td>\n",
       "      <td>0.625341</td>\n",
       "      <td>0.632638</td>\n",
       "      <td>0</td>\n",
       "      <td>INSR</td>\n",
       "      <td>D-Tyrosine</td>\n",
       "    </tr>\n",
       "    <tr>\n",
       "      <th>199869</th>\n",
       "      <td>DB03839</td>\n",
       "      <td>5295</td>\n",
       "      <td>0.841534</td>\n",
       "      <td>0.554450</td>\n",
       "      <td>0.543068</td>\n",
       "      <td>0</td>\n",
       "      <td>PIK3R1</td>\n",
       "      <td>D-Tyrosine</td>\n",
       "    </tr>\n",
       "    <tr>\n",
       "      <th>111737</th>\n",
       "      <td>DB00945</td>\n",
       "      <td>5028</td>\n",
       "      <td>0.839836</td>\n",
       "      <td>0.506656</td>\n",
       "      <td>0.517761</td>\n",
       "      <td>0</td>\n",
       "      <td>P2RY1</td>\n",
       "      <td>Acetylsalicylic acid</td>\n",
       "    </tr>\n",
       "    <tr>\n",
       "      <th>205272</th>\n",
       "      <td>DB03929</td>\n",
       "      <td>1387</td>\n",
       "      <td>0.833622</td>\n",
       "      <td>0.492693</td>\n",
       "      <td>0.468308</td>\n",
       "      <td>0</td>\n",
       "      <td>CREBBP</td>\n",
       "      <td>D-Serine</td>\n",
       "    </tr>\n",
       "    <tr>\n",
       "      <th>207392</th>\n",
       "      <td>DB03929</td>\n",
       "      <td>8945</td>\n",
       "      <td>0.833205</td>\n",
       "      <td>0.536116</td>\n",
       "      <td>0.556211</td>\n",
       "      <td>0</td>\n",
       "      <td>BTRC</td>\n",
       "      <td>D-Serine</td>\n",
       "    </tr>\n",
       "    <tr>\n",
       "      <th>175211</th>\n",
       "      <td>DB02527</td>\n",
       "      <td>3482</td>\n",
       "      <td>0.832981</td>\n",
       "      <td>0.616081</td>\n",
       "      <td>0.616081</td>\n",
       "      <td>0</td>\n",
       "      <td>IGF2R</td>\n",
       "      <td>Cyclic Adenosine Monophosphate</td>\n",
       "    </tr>\n",
       "  </tbody>\n",
       "</table>\n",
       "</div>"
      ],
      "text/plain": [
       "       drugbank_id  entrez_gene_id  model_prediction_max  \\\n",
       "229636     DB07447            2099              0.889551   \n",
       "24619      DB00197            6256              0.857222   \n",
       "205951     DB03929            3643              0.855602   \n",
       "70226      DB00640            1956              0.854739   \n",
       "199387     DB03839            3643              0.850353   \n",
       "199869     DB03839            5295              0.841534   \n",
       "111737     DB00945            5028              0.839836   \n",
       "205272     DB03929            1387              0.833622   \n",
       "207392     DB03929            8945              0.833205   \n",
       "175211     DB02527            3482              0.832981   \n",
       "\n",
       "        model_prediction_mean  model_prediction_median  hetionet gene_symbol  \\\n",
       "229636               0.527927                 0.490368         0        ESR1   \n",
       "24619                0.492378                 0.483710         0        RXRA   \n",
       "205951               0.648784                 0.654349         0        INSR   \n",
       "70226                0.593269                 0.597648         0        EGFR   \n",
       "199387               0.625341                 0.632638         0        INSR   \n",
       "199869               0.554450                 0.543068         0      PIK3R1   \n",
       "111737               0.506656                 0.517761         0       P2RY1   \n",
       "205272               0.492693                 0.468308         0      CREBBP   \n",
       "207392               0.536116                 0.556211         0        BTRC   \n",
       "175211               0.616081                 0.616081         0       IGF2R   \n",
       "\n",
       "                             drug_name  \n",
       "229636      5-beta-DIHYDROTESTOSTERONE  \n",
       "24619                     Troglitazone  \n",
       "205951                        D-Serine  \n",
       "70226                        Adenosine  \n",
       "199387                      D-Tyrosine  \n",
       "199869                      D-Tyrosine  \n",
       "111737            Acetylsalicylic acid  \n",
       "205272                        D-Serine  \n",
       "207392                        D-Serine  \n",
       "175211  Cyclic Adenosine Monophosphate  "
      ]
     },
     "execution_count": 20,
     "metadata": {},
     "output_type": "execute_result"
    }
   ],
   "source": [
    "(\n",
    "    grouped_candidates_pred_df\n",
    "    .query(\"model_prediction_max > @roc_optimal\")\n",
    "    .sort_values([\"hetionet\", \"model_prediction_max\"], ascending=[True, False])\n",
    "    .head(10)\n",
    ")"
   ]
  }
 ],
 "metadata": {
  "kernelspec": {
   "display_name": "Python [conda env:snorkeling]",
   "language": "python",
   "name": "conda-env-snorkeling-py"
  },
  "language_info": {
   "codemirror_mode": {
    "name": "ipython",
    "version": 3
   },
   "file_extension": ".py",
   "mimetype": "text/x-python",
   "name": "python",
   "nbconvert_exporter": "python",
   "pygments_lexer": "ipython3",
   "version": "3.6.4"
  }
 },
 "nbformat": 4,
 "nbformat_minor": 2
}
