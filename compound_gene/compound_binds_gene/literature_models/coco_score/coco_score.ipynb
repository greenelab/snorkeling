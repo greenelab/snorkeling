{
 "cells": [
  {
   "cell_type": "markdown",
   "metadata": {},
   "source": [
    "# CoCoScore Implementation"
   ]
  },
  {
   "cell_type": "markdown",
   "metadata": {},
   "source": [
    "This notebook consists of implementing the [CoCoScore](https://www.biorxiv.org/content/10.1101/444398v1) literature model for comparison."
   ]
  },
  {
   "cell_type": "code",
   "execution_count": 1,
   "metadata": {
    "ExecuteTime": {
     "end_time": "2019-07-20T20:19:10.653653Z",
     "start_time": "2019-07-20T20:19:06.791515Z"
    }
   },
   "outputs": [],
   "source": [
    "%load_ext autoreload\n",
    "%autoreload 2\n",
    "%matplotlib inline\n",
    "\n",
    "from collections import defaultdict\n",
    "import os\n",
    "import pickle\n",
    "import re\n",
    "import sys\n",
    "\n",
    "sys.path.append(os.path.abspath('../../../../modules'))\n",
    "\n",
    "import operator\n",
    "from itertools import chain\n",
    "import matplotlib.pyplot as plt\n",
    "import pandas as pd\n",
    "import seaborn as sns\n",
    "from scipy import sparse\n",
    "from sklearn.linear_model import LogisticRegressionCV\n",
    "from sklearn.metrics import roc_curve, auc, f1_score, precision_recall_curve, accuracy_score, confusion_matrix\n",
    "from tqdm import tqdm_notebook"
   ]
  },
  {
   "cell_type": "code",
   "execution_count": 2,
   "metadata": {
    "ExecuteTime": {
     "end_time": "2019-07-20T20:19:11.332280Z",
     "start_time": "2019-07-20T20:19:10.656965Z"
    }
   },
   "outputs": [],
   "source": [
    "#Set up the environment\n",
    "username = \"danich1\"\n",
    "password = \"snorkel\"\n",
    "dbname = \"pubmeddb\"\n",
    "\n",
    "#Path subject to change for different os\n",
    "database_str = \"postgresql+psycopg2://{}:{}@/{}?host=/var/run/postgresql\".format(username, password, dbname)\n",
    "os.environ['SNORKELDB'] = database_str\n",
    "\n",
    "from snorkel import SnorkelSession\n",
    "session = SnorkelSession()"
   ]
  },
  {
   "cell_type": "code",
   "execution_count": 3,
   "metadata": {
    "ExecuteTime": {
     "end_time": "2019-07-20T20:19:18.994716Z",
     "start_time": "2019-07-20T20:19:11.333833Z"
    }
   },
   "outputs": [],
   "source": [
    "from snorkel.learning.pytorch.rnn.rnn_base import mark_sentence\n",
    "from snorkel.learning.pytorch.rnn.utils import candidate_to_tokens\n",
    "from snorkel.models import Candidate, candidate_subclass\n",
    "\n",
    "from metal.analysis import lf_summary\n",
    "from metal.label_model import LabelModel\n",
    "from metal.utils import plusminus_to_categorical\n",
    "\n",
    "from gensim.models import FastText\n",
    "from gensim.models import KeyedVectors\n",
    "\n",
    "from utils.notebook_utils.label_matrix_helper import label_candidates, get_auc_significant_stats\n",
    "from utils.notebook_utils.dataframe_helper import load_candidate_dataframes, generate_results_df\n",
    "from utils.notebook_utils.plot_helper import plot_curve, plot_label_matrix_heatmap"
   ]
  },
  {
   "cell_type": "code",
   "execution_count": 4,
   "metadata": {
    "ExecuteTime": {
     "end_time": "2019-07-20T20:19:19.022187Z",
     "start_time": "2019-07-20T20:19:18.996353Z"
    }
   },
   "outputs": [],
   "source": [
    "CompoundGene = candidate_subclass('CompoundGene', ['Compound', 'Gene'])"
   ]
  },
  {
   "cell_type": "code",
   "execution_count": 5,
   "metadata": {
    "ExecuteTime": {
     "end_time": "2019-07-20T20:19:19.069451Z",
     "start_time": "2019-07-20T20:19:19.023731Z"
    }
   },
   "outputs": [],
   "source": [
    "quick_load = True"
   ]
  },
  {
   "cell_type": "code",
   "execution_count": 6,
   "metadata": {
    "ExecuteTime": {
     "end_time": "2019-07-20T20:19:34.008160Z",
     "start_time": "2019-07-20T20:19:19.070936Z"
    }
   },
   "outputs": [
    {
     "data": {
      "text/html": [
       "<div>\n",
       "<style scoped>\n",
       "    .dataframe tbody tr th:only-of-type {\n",
       "        vertical-align: middle;\n",
       "    }\n",
       "\n",
       "    .dataframe tbody tr th {\n",
       "        vertical-align: top;\n",
       "    }\n",
       "\n",
       "    .dataframe thead th {\n",
       "        text-align: right;\n",
       "    }\n",
       "</style>\n",
       "<table border=\"1\" class=\"dataframe\">\n",
       "  <thead>\n",
       "    <tr style=\"text-align: right;\">\n",
       "      <th></th>\n",
       "      <th>entrez_gene_id</th>\n",
       "      <th>gene_symbol</th>\n",
       "      <th>drugbank_id</th>\n",
       "      <th>name</th>\n",
       "      <th>sources</th>\n",
       "      <th>hetionet</th>\n",
       "      <th>n_sentences</th>\n",
       "      <th>has_sentence</th>\n",
       "      <th>partition_rank</th>\n",
       "      <th>split</th>\n",
       "      <th>compound_mention_count</th>\n",
       "      <th>disease_mention_count</th>\n",
       "      <th>gene_mention_count</th>\n",
       "      <th>sentence_id</th>\n",
       "      <th>text</th>\n",
       "      <th>sen_length</th>\n",
       "      <th>candidate_id</th>\n",
       "    </tr>\n",
       "  </thead>\n",
       "  <tbody>\n",
       "    <tr>\n",
       "      <th>0</th>\n",
       "      <td>1</td>\n",
       "      <td>A1BG</td>\n",
       "      <td>DB00117</td>\n",
       "      <td>L-Histidine</td>\n",
       "      <td>NaN</td>\n",
       "      <td>0</td>\n",
       "      <td>1</td>\n",
       "      <td>1</td>\n",
       "      <td>0.37753</td>\n",
       "      <td>6</td>\n",
       "      <td>1.0</td>\n",
       "      <td>0.0</td>\n",
       "      <td>10.0</td>\n",
       "      <td>94389805</td>\n",
       "      <td>Thus, as the assessment of protein glycosylati...</td>\n",
       "      <td>114</td>\n",
       "      <td>33517095</td>\n",
       "    </tr>\n",
       "    <tr>\n",
       "      <th>1</th>\n",
       "      <td>1</td>\n",
       "      <td>A1BG</td>\n",
       "      <td>DB00143</td>\n",
       "      <td>Glutathione</td>\n",
       "      <td>NaN</td>\n",
       "      <td>0</td>\n",
       "      <td>1</td>\n",
       "      <td>1</td>\n",
       "      <td>0.30352</td>\n",
       "      <td>6</td>\n",
       "      <td>1.0</td>\n",
       "      <td>1.0</td>\n",
       "      <td>2.0</td>\n",
       "      <td>83523801</td>\n",
       "      <td>Similar observations were made in T98 glioma c...</td>\n",
       "      <td>34</td>\n",
       "      <td>28913100</td>\n",
       "    </tr>\n",
       "  </tbody>\n",
       "</table>\n",
       "</div>"
      ],
      "text/plain": [
       "   entrez_gene_id gene_symbol drugbank_id         name sources  hetionet  \\\n",
       "0               1        A1BG     DB00117  L-Histidine     NaN         0   \n",
       "1               1        A1BG     DB00143  Glutathione     NaN         0   \n",
       "\n",
       "   n_sentences  has_sentence  partition_rank  split  compound_mention_count  \\\n",
       "0            1             1         0.37753      6                     1.0   \n",
       "1            1             1         0.30352      6                     1.0   \n",
       "\n",
       "   disease_mention_count  gene_mention_count  sentence_id  \\\n",
       "0                    0.0                10.0     94389805   \n",
       "1                    1.0                 2.0     83523801   \n",
       "\n",
       "                                                text  sen_length  candidate_id  \n",
       "0  Thus, as the assessment of protein glycosylati...         114      33517095  \n",
       "1  Similar observations were made in T98 glioma c...          34      28913100  "
      ]
     },
     "execution_count": 6,
     "metadata": {},
     "output_type": "execute_result"
    }
   ],
   "source": [
    "total_candidates_df = pd.read_table(\"../../dataset_statistics/data/all_cbg_candidates.tsv.xz\")\n",
    "total_candidates_df.head(2)"
   ]
  },
  {
   "cell_type": "code",
   "execution_count": 7,
   "metadata": {
    "ExecuteTime": {
     "end_time": "2019-07-20T20:19:34.029748Z",
     "start_time": "2019-07-20T20:19:34.009549Z"
    }
   },
   "outputs": [],
   "source": [
    "spreadsheet_names = {\n",
    "    'dev': '../../data/sentences/sentence_labels_dev.xlsx',\n",
    "    'test': '../../data/sentences/sentence_labels_test.xlsx'\n",
    "}"
   ]
  },
  {
   "cell_type": "code",
   "execution_count": 8,
   "metadata": {
    "ExecuteTime": {
     "end_time": "2019-07-20T20:19:35.638826Z",
     "start_time": "2019-07-20T20:19:34.031106Z"
    }
   },
   "outputs": [
    {
     "name": "stdout",
     "output_type": "stream",
     "text": [
      "Size of dev set: 500\n",
      "Size of test set: 500\n"
     ]
    }
   ],
   "source": [
    "candidate_dfs = {\n",
    "    key:load_candidate_dataframes(spreadsheet_names[key], \"curated_cbg\")\n",
    "    for key in spreadsheet_names\n",
    "}\n",
    "\n",
    "for key in candidate_dfs:\n",
    "    print(\"Size of {} set: {}\".format(key, candidate_dfs[key].shape[0]))"
   ]
  },
  {
   "cell_type": "code",
   "execution_count": 9,
   "metadata": {
    "ExecuteTime": {
     "end_time": "2019-07-20T20:19:35.938410Z",
     "start_time": "2019-07-20T20:19:35.641223Z"
    }
   },
   "outputs": [
    {
     "data": {
      "text/html": [
       "<div>\n",
       "<style scoped>\n",
       "    .dataframe tbody tr th:only-of-type {\n",
       "        vertical-align: middle;\n",
       "    }\n",
       "\n",
       "    .dataframe tbody tr th {\n",
       "        vertical-align: top;\n",
       "    }\n",
       "\n",
       "    .dataframe thead th {\n",
       "        text-align: right;\n",
       "    }\n",
       "</style>\n",
       "<table border=\"1\" class=\"dataframe\">\n",
       "  <thead>\n",
       "    <tr style=\"text-align: right;\">\n",
       "      <th></th>\n",
       "      <th>pos_class_marginals</th>\n",
       "      <th>neg_class_marginals</th>\n",
       "      <th>candidate_id</th>\n",
       "    </tr>\n",
       "  </thead>\n",
       "  <tbody>\n",
       "    <tr>\n",
       "      <th>0</th>\n",
       "      <td>0.01000</td>\n",
       "      <td>0.99000</td>\n",
       "      <td>50493</td>\n",
       "    </tr>\n",
       "    <tr>\n",
       "      <th>1</th>\n",
       "      <td>0.00028</td>\n",
       "      <td>0.99972</td>\n",
       "      <td>50500</td>\n",
       "    </tr>\n",
       "  </tbody>\n",
       "</table>\n",
       "</div>"
      ],
      "text/plain": [
       "   pos_class_marginals  neg_class_marginals  candidate_id\n",
       "0              0.01000              0.99000         50493\n",
       "1              0.00028              0.99972         50500"
      ]
     },
     "execution_count": 9,
     "metadata": {},
     "output_type": "execute_result"
    }
   ],
   "source": [
    "distant_supervision_marginals = pd.read_table(\"../../label_sampling_experiment/results/CbG/marginals/baseline_marginals.tsv.xz\")\n",
    "distant_supervision_marginals.head(2)"
   ]
  },
  {
   "cell_type": "code",
   "execution_count": 10,
   "metadata": {
    "ExecuteTime": {
     "end_time": "2019-07-20T20:20:09.793025Z",
     "start_time": "2019-07-20T20:19:35.939938Z"
    }
   },
   "outputs": [
    {
     "data": {
      "text/html": [
       "<div>\n",
       "<style scoped>\n",
       "    .dataframe tbody tr th:only-of-type {\n",
       "        vertical-align: middle;\n",
       "    }\n",
       "\n",
       "    .dataframe tbody tr th {\n",
       "        vertical-align: top;\n",
       "    }\n",
       "\n",
       "    .dataframe thead th {\n",
       "        text-align: right;\n",
       "    }\n",
       "</style>\n",
       "<table border=\"1\" class=\"dataframe\">\n",
       "  <thead>\n",
       "    <tr style=\"text-align: right;\">\n",
       "      <th></th>\n",
       "      <th>0</th>\n",
       "      <th>1</th>\n",
       "      <th>2</th>\n",
       "      <th>3</th>\n",
       "      <th>4</th>\n",
       "      <th>5</th>\n",
       "      <th>6</th>\n",
       "      <th>7</th>\n",
       "      <th>8</th>\n",
       "      <th>9</th>\n",
       "      <th>...</th>\n",
       "      <th>291</th>\n",
       "      <th>292</th>\n",
       "      <th>293</th>\n",
       "      <th>294</th>\n",
       "      <th>295</th>\n",
       "      <th>296</th>\n",
       "      <th>297</th>\n",
       "      <th>298</th>\n",
       "      <th>candidate_id</th>\n",
       "      <th>sen_length</th>\n",
       "    </tr>\n",
       "  </thead>\n",
       "  <tbody>\n",
       "    <tr>\n",
       "      <th>0</th>\n",
       "      <td>333.0</td>\n",
       "      <td>3.0</td>\n",
       "      <td>191.0</td>\n",
       "      <td>6.0</td>\n",
       "      <td>161.0</td>\n",
       "      <td>129.0</td>\n",
       "      <td>244.0</td>\n",
       "      <td>33.0</td>\n",
       "      <td>2032.0</td>\n",
       "      <td>35.0</td>\n",
       "      <td>...</td>\n",
       "      <td>NaN</td>\n",
       "      <td>NaN</td>\n",
       "      <td>NaN</td>\n",
       "      <td>NaN</td>\n",
       "      <td>NaN</td>\n",
       "      <td>NaN</td>\n",
       "      <td>NaN</td>\n",
       "      <td>NaN</td>\n",
       "      <td>50493</td>\n",
       "      <td>17</td>\n",
       "    </tr>\n",
       "    <tr>\n",
       "      <th>1</th>\n",
       "      <td>16.0</td>\n",
       "      <td>523.0</td>\n",
       "      <td>15.0</td>\n",
       "      <td>645.0</td>\n",
       "      <td>12.0</td>\n",
       "      <td>527.0</td>\n",
       "      <td>154.0</td>\n",
       "      <td>27.0</td>\n",
       "      <td>33.0</td>\n",
       "      <td>36294.0</td>\n",
       "      <td>...</td>\n",
       "      <td>NaN</td>\n",
       "      <td>NaN</td>\n",
       "      <td>NaN</td>\n",
       "      <td>NaN</td>\n",
       "      <td>NaN</td>\n",
       "      <td>NaN</td>\n",
       "      <td>NaN</td>\n",
       "      <td>NaN</td>\n",
       "      <td>50494</td>\n",
       "      <td>27</td>\n",
       "    </tr>\n",
       "  </tbody>\n",
       "</table>\n",
       "<p>2 rows × 301 columns</p>\n",
       "</div>"
      ],
      "text/plain": [
       "       0      1      2      3      4      5      6     7       8        9  \\\n",
       "0  333.0    3.0  191.0    6.0  161.0  129.0  244.0  33.0  2032.0     35.0   \n",
       "1   16.0  523.0   15.0  645.0   12.0  527.0  154.0  27.0    33.0  36294.0   \n",
       "\n",
       "      ...      291  292  293  294  295  296  297  298  candidate_id  \\\n",
       "0     ...      NaN  NaN  NaN  NaN  NaN  NaN  NaN  NaN         50493   \n",
       "1     ...      NaN  NaN  NaN  NaN  NaN  NaN  NaN  NaN         50494   \n",
       "\n",
       "   sen_length  \n",
       "0          17  \n",
       "1          27  \n",
       "\n",
       "[2 rows x 301 columns]"
      ]
     },
     "execution_count": 10,
     "metadata": {},
     "output_type": "execute_result"
    }
   ],
   "source": [
    "all_embedded_cg_df = pd.read_table(\"../../word_vector_experiment/results/all_embedded_cg_sentences.tsv.xz\")\n",
    "all_embedded_cg_df.head(2)"
   ]
  },
  {
   "cell_type": "code",
   "execution_count": 11,
   "metadata": {
    "ExecuteTime": {
     "end_time": "2019-07-20T20:20:17.513268Z",
     "start_time": "2019-07-20T20:20:09.794794Z"
    }
   },
   "outputs": [
    {
     "data": {
      "text/html": [
       "<div>\n",
       "<style scoped>\n",
       "    .dataframe tbody tr th:only-of-type {\n",
       "        vertical-align: middle;\n",
       "    }\n",
       "\n",
       "    .dataframe tbody tr th {\n",
       "        vertical-align: top;\n",
       "    }\n",
       "\n",
       "    .dataframe thead th {\n",
       "        text-align: right;\n",
       "    }\n",
       "</style>\n",
       "<table border=\"1\" class=\"dataframe\">\n",
       "  <thead>\n",
       "    <tr style=\"text-align: right;\">\n",
       "      <th></th>\n",
       "      <th>1</th>\n",
       "      <th>2</th>\n",
       "      <th>3</th>\n",
       "      <th>4</th>\n",
       "      <th>5</th>\n",
       "      <th>6</th>\n",
       "      <th>7</th>\n",
       "      <th>8</th>\n",
       "      <th>9</th>\n",
       "      <th>10</th>\n",
       "      <th>...</th>\n",
       "      <th>291</th>\n",
       "      <th>292</th>\n",
       "      <th>293</th>\n",
       "      <th>294</th>\n",
       "      <th>295</th>\n",
       "      <th>296</th>\n",
       "      <th>297</th>\n",
       "      <th>298</th>\n",
       "      <th>299</th>\n",
       "      <th>300</th>\n",
       "    </tr>\n",
       "    <tr>\n",
       "      <th>0</th>\n",
       "      <th></th>\n",
       "      <th></th>\n",
       "      <th></th>\n",
       "      <th></th>\n",
       "      <th></th>\n",
       "      <th></th>\n",
       "      <th></th>\n",
       "      <th></th>\n",
       "      <th></th>\n",
       "      <th></th>\n",
       "      <th></th>\n",
       "      <th></th>\n",
       "      <th></th>\n",
       "      <th></th>\n",
       "      <th></th>\n",
       "      <th></th>\n",
       "      <th></th>\n",
       "      <th></th>\n",
       "      <th></th>\n",
       "      <th></th>\n",
       "      <th></th>\n",
       "    </tr>\n",
       "  </thead>\n",
       "  <tbody>\n",
       "    <tr>\n",
       "      <th>,</th>\n",
       "      <td>-0.102467</td>\n",
       "      <td>-0.182303</td>\n",
       "      <td>-0.154361</td>\n",
       "      <td>-0.021046</td>\n",
       "      <td>0.048865</td>\n",
       "      <td>-0.143712</td>\n",
       "      <td>-0.153429</td>\n",
       "      <td>0.055876</td>\n",
       "      <td>-0.018329</td>\n",
       "      <td>0.115706</td>\n",
       "      <td>...</td>\n",
       "      <td>0.006308</td>\n",
       "      <td>-0.132545</td>\n",
       "      <td>0.034875</td>\n",
       "      <td>0.118763</td>\n",
       "      <td>0.041083</td>\n",
       "      <td>0.215425</td>\n",
       "      <td>-0.057115</td>\n",
       "      <td>0.152732</td>\n",
       "      <td>-0.124555</td>\n",
       "      <td>-0.074304</td>\n",
       "    </tr>\n",
       "    <tr>\n",
       "      <th>)</th>\n",
       "      <td>-0.139569</td>\n",
       "      <td>0.011818</td>\n",
       "      <td>0.075041</td>\n",
       "      <td>0.049088</td>\n",
       "      <td>0.026197</td>\n",
       "      <td>0.074661</td>\n",
       "      <td>-0.016193</td>\n",
       "      <td>0.010679</td>\n",
       "      <td>0.195021</td>\n",
       "      <td>-0.072605</td>\n",
       "      <td>...</td>\n",
       "      <td>0.282162</td>\n",
       "      <td>0.012230</td>\n",
       "      <td>-0.116063</td>\n",
       "      <td>0.090987</td>\n",
       "      <td>-0.173898</td>\n",
       "      <td>0.010089</td>\n",
       "      <td>-0.023298</td>\n",
       "      <td>0.195740</td>\n",
       "      <td>-0.259889</td>\n",
       "      <td>-0.052515</td>\n",
       "    </tr>\n",
       "  </tbody>\n",
       "</table>\n",
       "<p>2 rows × 300 columns</p>\n",
       "</div>"
      ],
      "text/plain": [
       "        1         2         3         4         5         6         7    \\\n",
       "0                                                                         \n",
       ", -0.102467 -0.182303 -0.154361 -0.021046  0.048865 -0.143712 -0.153429   \n",
       ") -0.139569  0.011818  0.075041  0.049088  0.026197  0.074661 -0.016193   \n",
       "\n",
       "        8         9         10     ...          291       292       293  \\\n",
       "0                                  ...                                    \n",
       ",  0.055876 -0.018329  0.115706    ...     0.006308 -0.132545  0.034875   \n",
       ")  0.010679  0.195021 -0.072605    ...     0.282162  0.012230 -0.116063   \n",
       "\n",
       "        294       295       296       297       298       299       300  \n",
       "0                                                                        \n",
       ",  0.118763  0.041083  0.215425 -0.057115  0.152732 -0.124555 -0.074304  \n",
       ")  0.090987 -0.173898  0.010089 -0.023298  0.195740 -0.259889 -0.052515  \n",
       "\n",
       "[2 rows x 300 columns]"
      ]
     },
     "execution_count": 11,
     "metadata": {},
     "output_type": "execute_result"
    }
   ],
   "source": [
    "word_vectors = pd.read_csv(\n",
    "    \"../../word_vector_experiment/results/compound_binds_gene_word_vectors.bin\",\n",
    "    sep=\" \", skiprows=1, \n",
    "    header=None, index_col=0, \n",
    "    keep_default_na=False\n",
    ")\n",
    "word_vectors.head(2)"
   ]
  },
  {
   "cell_type": "code",
   "execution_count": 12,
   "metadata": {
    "ExecuteTime": {
     "end_time": "2019-07-20T20:20:17.670267Z",
     "start_time": "2019-07-20T20:20:17.514802Z"
    }
   },
   "outputs": [],
   "source": [
    "word_dict = pd.read_table(\"../../word_vector_experiment/results/compound_binds_gene_word_dict.tsv\", keep_default_na=False)\n",
    "reverse_word_dict = dict(zip(word_dict.index, word_dict.word))\n",
    "word_dict = dict(zip(word_dict.word, word_dict.index))"
   ]
  },
  {
   "cell_type": "code",
   "execution_count": 13,
   "metadata": {
    "ExecuteTime": {
     "end_time": "2019-07-20T20:20:18.200561Z",
     "start_time": "2019-07-20T20:20:17.671777Z"
    }
   },
   "outputs": [
    {
     "data": {
      "text/html": [
       "<div>\n",
       "<style scoped>\n",
       "    .dataframe tbody tr th:only-of-type {\n",
       "        vertical-align: middle;\n",
       "    }\n",
       "\n",
       "    .dataframe tbody tr th {\n",
       "        vertical-align: top;\n",
       "    }\n",
       "\n",
       "    .dataframe thead th {\n",
       "        text-align: right;\n",
       "    }\n",
       "</style>\n",
       "<table border=\"1\" class=\"dataframe\">\n",
       "  <thead>\n",
       "    <tr style=\"text-align: right;\">\n",
       "      <th></th>\n",
       "      <th>0</th>\n",
       "      <th>1</th>\n",
       "      <th>2</th>\n",
       "      <th>3</th>\n",
       "      <th>4</th>\n",
       "      <th>5</th>\n",
       "      <th>6</th>\n",
       "      <th>7</th>\n",
       "      <th>8</th>\n",
       "      <th>9</th>\n",
       "      <th>...</th>\n",
       "      <th>292</th>\n",
       "      <th>293</th>\n",
       "      <th>294</th>\n",
       "      <th>295</th>\n",
       "      <th>296</th>\n",
       "      <th>297</th>\n",
       "      <th>298</th>\n",
       "      <th>candidate_id</th>\n",
       "      <th>sen_length</th>\n",
       "      <th>labels</th>\n",
       "    </tr>\n",
       "  </thead>\n",
       "  <tbody>\n",
       "    <tr>\n",
       "      <th>0</th>\n",
       "      <td>333.0</td>\n",
       "      <td>3.0</td>\n",
       "      <td>191.0</td>\n",
       "      <td>6.0</td>\n",
       "      <td>161.0</td>\n",
       "      <td>129.0</td>\n",
       "      <td>244.0</td>\n",
       "      <td>33.0</td>\n",
       "      <td>2032.0</td>\n",
       "      <td>35.0</td>\n",
       "      <td>...</td>\n",
       "      <td>NaN</td>\n",
       "      <td>NaN</td>\n",
       "      <td>NaN</td>\n",
       "      <td>NaN</td>\n",
       "      <td>NaN</td>\n",
       "      <td>NaN</td>\n",
       "      <td>NaN</td>\n",
       "      <td>50493</td>\n",
       "      <td>17</td>\n",
       "      <td>0</td>\n",
       "    </tr>\n",
       "    <tr>\n",
       "      <th>1</th>\n",
       "      <td>663.0</td>\n",
       "      <td>888.0</td>\n",
       "      <td>53.0</td>\n",
       "      <td>33.0</td>\n",
       "      <td>3011.0</td>\n",
       "      <td>35.0</td>\n",
       "      <td>19.0</td>\n",
       "      <td>3.0</td>\n",
       "      <td>2816.0</td>\n",
       "      <td>6.0</td>\n",
       "      <td>...</td>\n",
       "      <td>NaN</td>\n",
       "      <td>NaN</td>\n",
       "      <td>NaN</td>\n",
       "      <td>NaN</td>\n",
       "      <td>NaN</td>\n",
       "      <td>NaN</td>\n",
       "      <td>NaN</td>\n",
       "      <td>50500</td>\n",
       "      <td>19</td>\n",
       "      <td>0</td>\n",
       "    </tr>\n",
       "  </tbody>\n",
       "</table>\n",
       "<p>2 rows × 302 columns</p>\n",
       "</div>"
      ],
      "text/plain": [
       "       0      1      2     3       4      5      6     7       8     9  \\\n",
       "0  333.0    3.0  191.0   6.0   161.0  129.0  244.0  33.0  2032.0  35.0   \n",
       "1  663.0  888.0   53.0  33.0  3011.0   35.0   19.0   3.0  2816.0   6.0   \n",
       "\n",
       "    ...    292  293  294  295  296  297  298  candidate_id  sen_length  labels  \n",
       "0   ...    NaN  NaN  NaN  NaN  NaN  NaN  NaN         50493          17       0  \n",
       "1   ...    NaN  NaN  NaN  NaN  NaN  NaN  NaN         50500          19       0  \n",
       "\n",
       "[2 rows x 302 columns]"
      ]
     },
     "execution_count": 13,
     "metadata": {},
     "output_type": "execute_result"
    }
   ],
   "source": [
    "total_training_sentences_df = (\n",
    "    all_embedded_cg_df.merge(\n",
    "        distant_supervision_marginals\n",
    "        .assign(labels=lambda x: x.pos_class_marginals > 0.5)\n",
    "        [[\"labels\", \"candidate_id\"]]\n",
    "        .astype({\"labels\":int}),\n",
    "        on=\"candidate_id\"\n",
    "    )\n",
    ")\n",
    "total_training_sentences_df.head(2)"
   ]
  },
  {
   "cell_type": "code",
   "execution_count": 14,
   "metadata": {
    "ExecuteTime": {
     "end_time": "2019-07-20T20:20:18.428631Z",
     "start_time": "2019-07-20T20:20:18.202042Z"
    }
   },
   "outputs": [
    {
     "data": {
      "text/html": [
       "<div>\n",
       "<style scoped>\n",
       "    .dataframe tbody tr th:only-of-type {\n",
       "        vertical-align: middle;\n",
       "    }\n",
       "\n",
       "    .dataframe tbody tr th {\n",
       "        vertical-align: top;\n",
       "    }\n",
       "\n",
       "    .dataframe thead th {\n",
       "        text-align: right;\n",
       "    }\n",
       "</style>\n",
       "<table border=\"1\" class=\"dataframe\">\n",
       "  <thead>\n",
       "    <tr style=\"text-align: right;\">\n",
       "      <th></th>\n",
       "      <th>0</th>\n",
       "      <th>1</th>\n",
       "      <th>2</th>\n",
       "      <th>3</th>\n",
       "      <th>4</th>\n",
       "      <th>5</th>\n",
       "      <th>6</th>\n",
       "      <th>7</th>\n",
       "      <th>8</th>\n",
       "      <th>9</th>\n",
       "      <th>...</th>\n",
       "      <th>292</th>\n",
       "      <th>293</th>\n",
       "      <th>294</th>\n",
       "      <th>295</th>\n",
       "      <th>296</th>\n",
       "      <th>297</th>\n",
       "      <th>298</th>\n",
       "      <th>candidate_id</th>\n",
       "      <th>sen_length</th>\n",
       "      <th>curated_cbg</th>\n",
       "    </tr>\n",
       "  </thead>\n",
       "  <tbody>\n",
       "    <tr>\n",
       "      <th>0</th>\n",
       "      <td>16.0</td>\n",
       "      <td>523.0</td>\n",
       "      <td>15.0</td>\n",
       "      <td>1257.0</td>\n",
       "      <td>19.0</td>\n",
       "      <td>2.0</td>\n",
       "      <td>1434.0</td>\n",
       "      <td>5.0</td>\n",
       "      <td>96364.0</td>\n",
       "      <td>19.0</td>\n",
       "      <td>...</td>\n",
       "      <td>NaN</td>\n",
       "      <td>NaN</td>\n",
       "      <td>NaN</td>\n",
       "      <td>NaN</td>\n",
       "      <td>NaN</td>\n",
       "      <td>NaN</td>\n",
       "      <td>NaN</td>\n",
       "      <td>50527</td>\n",
       "      <td>38</td>\n",
       "      <td>0.0</td>\n",
       "    </tr>\n",
       "    <tr>\n",
       "      <th>1</th>\n",
       "      <td>16.0</td>\n",
       "      <td>388.0</td>\n",
       "      <td>161.0</td>\n",
       "      <td>129.0</td>\n",
       "      <td>389.0</td>\n",
       "      <td>390.0</td>\n",
       "      <td>7.0</td>\n",
       "      <td>391.0</td>\n",
       "      <td>392.0</td>\n",
       "      <td>393.0</td>\n",
       "      <td>...</td>\n",
       "      <td>NaN</td>\n",
       "      <td>NaN</td>\n",
       "      <td>NaN</td>\n",
       "      <td>NaN</td>\n",
       "      <td>NaN</td>\n",
       "      <td>NaN</td>\n",
       "      <td>NaN</td>\n",
       "      <td>51441</td>\n",
       "      <td>34</td>\n",
       "      <td>0.0</td>\n",
       "    </tr>\n",
       "  </tbody>\n",
       "</table>\n",
       "<p>2 rows × 302 columns</p>\n",
       "</div>"
      ],
      "text/plain": [
       "      0      1      2       3      4      5       6      7        8      9  \\\n",
       "0  16.0  523.0   15.0  1257.0   19.0    2.0  1434.0    5.0  96364.0   19.0   \n",
       "1  16.0  388.0  161.0   129.0  389.0  390.0     7.0  391.0    392.0  393.0   \n",
       "\n",
       "      ...       292  293  294  295  296  297  298  candidate_id  sen_length  \\\n",
       "0     ...       NaN  NaN  NaN  NaN  NaN  NaN  NaN         50527          38   \n",
       "1     ...       NaN  NaN  NaN  NaN  NaN  NaN  NaN         51441          34   \n",
       "\n",
       "   curated_cbg  \n",
       "0          0.0  \n",
       "1          0.0  \n",
       "\n",
       "[2 rows x 302 columns]"
      ]
     },
     "execution_count": 14,
     "metadata": {},
     "output_type": "execute_result"
    }
   ],
   "source": [
    "total_dev_sentences_df = (\n",
    "    all_embedded_cg_df.merge(\n",
    "        candidate_dfs['dev']\n",
    "        [[\"curated_cbg\", \"candidate_id\"]],\n",
    "        on=\"candidate_id\"\n",
    "    )\n",
    ")\n",
    "total_dev_sentences_df.head(2)"
   ]
  },
  {
   "cell_type": "code",
   "execution_count": 15,
   "metadata": {
    "ExecuteTime": {
     "end_time": "2019-07-20T20:20:18.657435Z",
     "start_time": "2019-07-20T20:20:18.430203Z"
    }
   },
   "outputs": [
    {
     "data": {
      "text/html": [
       "<div>\n",
       "<style scoped>\n",
       "    .dataframe tbody tr th:only-of-type {\n",
       "        vertical-align: middle;\n",
       "    }\n",
       "\n",
       "    .dataframe tbody tr th {\n",
       "        vertical-align: top;\n",
       "    }\n",
       "\n",
       "    .dataframe thead th {\n",
       "        text-align: right;\n",
       "    }\n",
       "</style>\n",
       "<table border=\"1\" class=\"dataframe\">\n",
       "  <thead>\n",
       "    <tr style=\"text-align: right;\">\n",
       "      <th></th>\n",
       "      <th>0</th>\n",
       "      <th>1</th>\n",
       "      <th>2</th>\n",
       "      <th>3</th>\n",
       "      <th>4</th>\n",
       "      <th>5</th>\n",
       "      <th>6</th>\n",
       "      <th>7</th>\n",
       "      <th>8</th>\n",
       "      <th>9</th>\n",
       "      <th>...</th>\n",
       "      <th>292</th>\n",
       "      <th>293</th>\n",
       "      <th>294</th>\n",
       "      <th>295</th>\n",
       "      <th>296</th>\n",
       "      <th>297</th>\n",
       "      <th>298</th>\n",
       "      <th>candidate_id</th>\n",
       "      <th>sen_length</th>\n",
       "      <th>curated_cbg</th>\n",
       "    </tr>\n",
       "  </thead>\n",
       "  <tbody>\n",
       "    <tr>\n",
       "      <th>0</th>\n",
       "      <td>16.0</td>\n",
       "      <td>20758.0</td>\n",
       "      <td>19.0</td>\n",
       "      <td>67821.0</td>\n",
       "      <td>19.0</td>\n",
       "      <td>27.0</td>\n",
       "      <td>119.0</td>\n",
       "      <td>823.0</td>\n",
       "      <td>15.0</td>\n",
       "      <td>10408.0</td>\n",
       "      <td>...</td>\n",
       "      <td>NaN</td>\n",
       "      <td>NaN</td>\n",
       "      <td>NaN</td>\n",
       "      <td>NaN</td>\n",
       "      <td>NaN</td>\n",
       "      <td>NaN</td>\n",
       "      <td>NaN</td>\n",
       "      <td>50759</td>\n",
       "      <td>36</td>\n",
       "      <td>0.0</td>\n",
       "    </tr>\n",
       "    <tr>\n",
       "      <th>1</th>\n",
       "      <td>51.0</td>\n",
       "      <td>292.0</td>\n",
       "      <td>3569.0</td>\n",
       "      <td>129.0</td>\n",
       "      <td>186648.0</td>\n",
       "      <td>184.0</td>\n",
       "      <td>51.0</td>\n",
       "      <td>16.0</td>\n",
       "      <td>11329.0</td>\n",
       "      <td>6428.0</td>\n",
       "      <td>...</td>\n",
       "      <td>NaN</td>\n",
       "      <td>NaN</td>\n",
       "      <td>NaN</td>\n",
       "      <td>NaN</td>\n",
       "      <td>NaN</td>\n",
       "      <td>NaN</td>\n",
       "      <td>NaN</td>\n",
       "      <td>51021</td>\n",
       "      <td>56</td>\n",
       "      <td>0.0</td>\n",
       "    </tr>\n",
       "  </tbody>\n",
       "</table>\n",
       "<p>2 rows × 302 columns</p>\n",
       "</div>"
      ],
      "text/plain": [
       "      0        1       2        3         4      5      6      7        8  \\\n",
       "0  16.0  20758.0    19.0  67821.0      19.0   27.0  119.0  823.0     15.0   \n",
       "1  51.0    292.0  3569.0    129.0  186648.0  184.0   51.0   16.0  11329.0   \n",
       "\n",
       "         9     ...       292  293  294  295  296  297  298  candidate_id  \\\n",
       "0  10408.0     ...       NaN  NaN  NaN  NaN  NaN  NaN  NaN         50759   \n",
       "1   6428.0     ...       NaN  NaN  NaN  NaN  NaN  NaN  NaN         51021   \n",
       "\n",
       "   sen_length  curated_cbg  \n",
       "0          36          0.0  \n",
       "1          56          0.0  \n",
       "\n",
       "[2 rows x 302 columns]"
      ]
     },
     "execution_count": 15,
     "metadata": {},
     "output_type": "execute_result"
    }
   ],
   "source": [
    "total_test_sentences_df = (\n",
    "    all_embedded_cg_df.merge(\n",
    "        candidate_dfs['test']\n",
    "        [[\"curated_cbg\", \"candidate_id\"]],\n",
    "        on=\"candidate_id\"\n",
    "    )\n",
    ")\n",
    "total_test_sentences_df.head(2)"
   ]
  },
  {
   "cell_type": "code",
   "execution_count": 16,
   "metadata": {
    "ExecuteTime": {
     "end_time": "2019-07-20T20:20:18.683700Z",
     "start_time": "2019-07-20T20:20:18.660241Z"
    }
   },
   "outputs": [],
   "source": [
    "def create_data_matrix(query_df, filename=\"sentences.txt\"):\n",
    "    search_regex = rf'(\\b{word_dict[\"~~[[2\"]}\\b.+\\b{word_dict[\"2]]~~\"]}\\b,)'\n",
    "    search_regex += rf'|(\\b{word_dict[\"~~[[1\"]}\\b.+\\b{word_dict[\"1]]~~\"]}\\b,)'\n",
    "    \n",
    "    print(search_regex)\n",
    "    data = []\n",
    "    with open(filename, \"w\") as g:\n",
    "        for index, row in tqdm_notebook(query_df.iterrows()):\n",
    "            cand_str = \",\".join(map(str, row.dropna().astype(int).values))\n",
    "            pruned_str = re.sub(search_regex, \"\", cand_str)\n",
    "            values = list(map(int, pruned_str.split(\",\")))\n",
    "            g.write(f\"__label__{values[-1]}\\t\")\n",
    "            g.write(\"\\t\".join([reverse_word_dict[val] for val in values[:-2]]))\n",
    "            g.write(\"\\n\")"
   ]
  },
  {
   "cell_type": "code",
   "execution_count": 17,
   "metadata": {
    "ExecuteTime": {
     "end_time": "2019-07-20T20:23:41.158950Z",
     "start_time": "2019-07-20T20:20:18.685404Z"
    }
   },
   "outputs": [
    {
     "name": "stdout",
     "output_type": "stream",
     "text": [
      "(\\b3\\b.+\\b6\\b,)|(\\b33\\b.+\\b35\\b,)\n"
     ]
    },
    {
     "data": {
      "application/vnd.jupyter.widget-view+json": {
       "model_id": "738cb35c02554e77997f34533f86f0ff",
       "version_major": 2,
       "version_minor": 0
      },
      "text/html": [
       "<p>Failed to display Jupyter Widget of type <code>HBox</code>.</p>\n",
       "<p>\n",
       "  If you're reading this message in the Jupyter Notebook or JupyterLab Notebook, it may mean\n",
       "  that the widgets JavaScript is still loading. If this message persists, it\n",
       "  likely means that the widgets JavaScript library is either not installed or\n",
       "  not enabled. See the <a href=\"https://ipywidgets.readthedocs.io/en/stable/user_install.html\">Jupyter\n",
       "  Widgets Documentation</a> for setup instructions.\n",
       "</p>\n",
       "<p>\n",
       "  If you're reading this message in another frontend (for example, a static\n",
       "  rendering on GitHub or <a href=\"https://nbviewer.jupyter.org/\">NBViewer</a>),\n",
       "  it may mean that your frontend doesn't currently support widgets.\n",
       "</p>\n"
      ],
      "text/plain": [
       "HBox(children=(IntProgress(value=1, bar_style='info', max=1), HTML(value='')))"
      ]
     },
     "metadata": {},
     "output_type": "display_data"
    },
    {
     "name": "stdout",
     "output_type": "stream",
     "text": [
      "\n"
     ]
    }
   ],
   "source": [
    "query_df = (\n",
    "    total_training_sentences_df\n",
    "    [[col for col in total_training_sentences_df.columns if col not in [\"sen_length\"]]]\n",
    ")\n",
    "training_matrix = create_data_matrix(query_df, filename=\"training.txt\")"
   ]
  },
  {
   "cell_type": "code",
   "execution_count": 18,
   "metadata": {
    "ExecuteTime": {
     "end_time": "2019-07-20T20:23:41.579316Z",
     "start_time": "2019-07-20T20:23:41.160562Z"
    }
   },
   "outputs": [
    {
     "name": "stdout",
     "output_type": "stream",
     "text": [
      "(\\b3\\b.+\\b6\\b,)|(\\b33\\b.+\\b35\\b,)\n"
     ]
    },
    {
     "data": {
      "application/vnd.jupyter.widget-view+json": {
       "model_id": "72a5f258b64241daba0be566a532e98d",
       "version_major": 2,
       "version_minor": 0
      },
      "text/html": [
       "<p>Failed to display Jupyter Widget of type <code>HBox</code>.</p>\n",
       "<p>\n",
       "  If you're reading this message in the Jupyter Notebook or JupyterLab Notebook, it may mean\n",
       "  that the widgets JavaScript is still loading. If this message persists, it\n",
       "  likely means that the widgets JavaScript library is either not installed or\n",
       "  not enabled. See the <a href=\"https://ipywidgets.readthedocs.io/en/stable/user_install.html\">Jupyter\n",
       "  Widgets Documentation</a> for setup instructions.\n",
       "</p>\n",
       "<p>\n",
       "  If you're reading this message in another frontend (for example, a static\n",
       "  rendering on GitHub or <a href=\"https://nbviewer.jupyter.org/\">NBViewer</a>),\n",
       "  it may mean that your frontend doesn't currently support widgets.\n",
       "</p>\n"
      ],
      "text/plain": [
       "HBox(children=(IntProgress(value=1, bar_style='info', max=1), HTML(value='')))"
      ]
     },
     "metadata": {},
     "output_type": "display_data"
    },
    {
     "name": "stdout",
     "output_type": "stream",
     "text": [
      "\n"
     ]
    }
   ],
   "source": [
    "query_df = (\n",
    "    total_dev_sentences_df\n",
    "    .drop_duplicates()\n",
    "    [[col for col in total_dev_sentences_df.columns if col not in [\"sen_length\"]]]\n",
    ")\n",
    "dev_matrix = create_data_matrix(query_df, filename=\"dev.txt\")"
   ]
  },
  {
   "cell_type": "code",
   "execution_count": 19,
   "metadata": {
    "ExecuteTime": {
     "end_time": "2019-07-20T20:23:41.991439Z",
     "start_time": "2019-07-20T20:23:41.580672Z"
    }
   },
   "outputs": [
    {
     "name": "stdout",
     "output_type": "stream",
     "text": [
      "(\\b3\\b.+\\b6\\b,)|(\\b33\\b.+\\b35\\b,)\n"
     ]
    },
    {
     "data": {
      "application/vnd.jupyter.widget-view+json": {
       "model_id": "d55502425f654f809039161cd4da8c8e",
       "version_major": 2,
       "version_minor": 0
      },
      "text/html": [
       "<p>Failed to display Jupyter Widget of type <code>HBox</code>.</p>\n",
       "<p>\n",
       "  If you're reading this message in the Jupyter Notebook or JupyterLab Notebook, it may mean\n",
       "  that the widgets JavaScript is still loading. If this message persists, it\n",
       "  likely means that the widgets JavaScript library is either not installed or\n",
       "  not enabled. See the <a href=\"https://ipywidgets.readthedocs.io/en/stable/user_install.html\">Jupyter\n",
       "  Widgets Documentation</a> for setup instructions.\n",
       "</p>\n",
       "<p>\n",
       "  If you're reading this message in another frontend (for example, a static\n",
       "  rendering on GitHub or <a href=\"https://nbviewer.jupyter.org/\">NBViewer</a>),\n",
       "  it may mean that your frontend doesn't currently support widgets.\n",
       "</p>\n"
      ],
      "text/plain": [
       "HBox(children=(IntProgress(value=1, bar_style='info', max=1), HTML(value='')))"
      ]
     },
     "metadata": {},
     "output_type": "display_data"
    },
    {
     "name": "stdout",
     "output_type": "stream",
     "text": [
      "\n"
     ]
    }
   ],
   "source": [
    "query_df = (\n",
    "    total_test_sentences_df\n",
    "    .drop_duplicates()\n",
    "    [[col for col in total_test_sentences_df.columns if col not in [\"sen_length\"]]]\n",
    ")\n",
    "test_matrix = create_data_matrix(query_df, filename=\"test.txt\")"
   ]
  },
  {
   "cell_type": "code",
   "execution_count": 20,
   "metadata": {
    "ExecuteTime": {
     "end_time": "2019-07-20T20:25:24.975599Z",
     "start_time": "2019-07-20T20:23:41.992982Z"
    }
   },
   "outputs": [
    {
     "data": {
      "text/plain": [
       "0"
      ]
     },
     "execution_count": 20,
     "metadata": {},
     "output_type": "execute_result"
    }
   ],
   "source": [
    "os.system(\"../../../../../fastText/fasttext supervised -input training.txt -output cbg_model -lr 0.005 -epoch 50 -dim 300 -wordNgrams 2\")\n",
    "os.system(\"../../../../../fastText/fasttext predict-prob cbg_model.bin dev.txt > dev_predictions.tsv\")\n",
    "os.system(\"../../../../../fastText/fasttext predict-prob cbg_model.bin test.txt > test_predictions.tsv\")"
   ]
  },
  {
   "cell_type": "code",
   "execution_count": 21,
   "metadata": {
    "ExecuteTime": {
     "end_time": "2019-07-20T20:25:25.006751Z",
     "start_time": "2019-07-20T20:25:24.977417Z"
    }
   },
   "outputs": [
    {
     "data": {
      "text/plain": [
       "0.07747084559716666"
      ]
     },
     "execution_count": 21,
     "metadata": {},
     "output_type": "execute_result"
    }
   ],
   "source": [
    "precision, recall, _ = precision_recall_curve(\n",
    "    total_dev_sentences_df.curated_cbg,\n",
    "    pd.read_table('dev_predictions.tsv', header=None, sep=\" \")[1]\n",
    ")\n",
    "auc(recall, precision)"
   ]
  },
  {
   "cell_type": "code",
   "execution_count": 22,
   "metadata": {
    "ExecuteTime": {
     "end_time": "2019-07-20T20:25:25.314590Z",
     "start_time": "2019-07-20T20:25:25.008115Z"
    }
   },
   "outputs": [
    {
     "data": {
      "text/plain": [
       "[<matplotlib.lines.Line2D at 0x7f44f4288cf8>]"
      ]
     },
     "execution_count": 22,
     "metadata": {},
     "output_type": "execute_result"
    },
    {
     "data": {
      "image/png": "[encoded data removed]",
      "text/plain": [
       "<matplotlib.figure.Figure at 0x7f450c8764e0>"
      ]
     },
     "metadata": {},
     "output_type": "display_data"
    }
   ],
   "source": [
    "plt.plot(recall, precision)"
   ]
  },
  {
   "cell_type": "code",
   "execution_count": 23,
   "metadata": {
    "ExecuteTime": {
     "end_time": "2019-07-20T20:25:25.340994Z",
     "start_time": "2019-07-20T20:25:25.316015Z"
    }
   },
   "outputs": [
    {
     "data": {
      "text/plain": [
       "0.4718930593660615"
      ]
     },
     "execution_count": 23,
     "metadata": {},
     "output_type": "execute_result"
    }
   ],
   "source": [
    "fpr, tpr, _ = roc_curve(\n",
    "    total_dev_sentences_df.curated_cbg,\n",
    "    pd.read_table('dev_predictions.tsv', header=None, sep=\" \")[1]\n",
    ")\n",
    "auc(fpr, tpr)"
   ]
  },
  {
   "cell_type": "code",
   "execution_count": 24,
   "metadata": {
    "ExecuteTime": {
     "end_time": "2019-07-20T20:25:25.495057Z",
     "start_time": "2019-07-20T20:25:25.344867Z"
    }
   },
   "outputs": [
    {
     "data": {
      "text/plain": [
       "[<matplotlib.lines.Line2D at 0x7f44f43570f0>]"
      ]
     },
     "execution_count": 24,
     "metadata": {},
     "output_type": "execute_result"
    },
    {
     "data": {
      "image/png": "[encoded data removed]",
      "text/plain": [
       "<matplotlib.figure.Figure at 0x7f450c876a20>"
      ]
     },
     "metadata": {},
     "output_type": "display_data"
    }
   ],
   "source": [
    "plt.plot(fpr, tpr)"
   ]
  },
  {
   "cell_type": "code",
   "execution_count": 25,
   "metadata": {
    "ExecuteTime": {
     "end_time": "2019-07-20T20:46:44.548329Z",
     "start_time": "2019-07-20T20:25:25.496429Z"
    }
   },
   "outputs": [
    {
     "name": "stdout",
     "output_type": "stream",
     "text": [
      "(\\b3\\b.+\\b6\\b,)|(\\b33\\b.+\\b35\\b,)\n"
     ]
    },
    {
     "data": {
      "application/vnd.jupyter.widget-view+json": {
       "model_id": "369c601814af42daa89ebad0e06fc16c",
       "version_major": 2,
       "version_minor": 0
      },
      "text/html": [
       "<p>Failed to display Jupyter Widget of type <code>HBox</code>.</p>\n",
       "<p>\n",
       "  If you're reading this message in the Jupyter Notebook or JupyterLab Notebook, it may mean\n",
       "  that the widgets JavaScript is still loading. If this message persists, it\n",
       "  likely means that the widgets JavaScript library is either not installed or\n",
       "  not enabled. See the <a href=\"https://ipywidgets.readthedocs.io/en/stable/user_install.html\">Jupyter\n",
       "  Widgets Documentation</a> for setup instructions.\n",
       "</p>\n",
       "<p>\n",
       "  If you're reading this message in another frontend (for example, a static\n",
       "  rendering on GitHub or <a href=\"https://nbviewer.jupyter.org/\">NBViewer</a>),\n",
       "  it may mean that your frontend doesn't currently support widgets.\n",
       "</p>\n"
      ],
      "text/plain": [
       "HBox(children=(IntProgress(value=1, bar_style='info', max=1), HTML(value='')))"
      ]
     },
     "metadata": {},
     "output_type": "display_data"
    },
    {
     "name": "stdout",
     "output_type": "stream",
     "text": [
      "\n"
     ]
    }
   ],
   "source": [
    "query_df = (\n",
    "    all_embedded_cg_df\n",
    "    .assign(labels=0)\n",
    "    [[col for col in all_embedded_cg_df.columns if col not in [\"sen_length\"]]]\n",
    ")\n",
    "create_data_matrix(query_df, filename=\"all_cg_sentences.txt\")"
   ]
  },
  {
   "cell_type": "code",
   "execution_count": 26,
   "metadata": {
    "ExecuteTime": {
     "end_time": "2019-07-20T20:47:14.175306Z",
     "start_time": "2019-07-20T20:46:44.549821Z"
    }
   },
   "outputs": [
    {
     "data": {
      "text/plain": [
       "0"
      ]
     },
     "execution_count": 26,
     "metadata": {},
     "output_type": "execute_result"
    }
   ],
   "source": [
    "os.system(\"../../../../../fastText/fasttext predict-prob cbg_model.bin all_cg_sentences.txt > all_cg_sentences_predictions.tsv\")"
   ]
  },
  {
   "cell_type": "code",
   "execution_count": 29,
   "metadata": {
    "ExecuteTime": {
     "end_time": "2019-07-20T20:52:03.323418Z",
     "start_time": "2019-07-20T20:52:02.955028Z"
    }
   },
   "outputs": [
    {
     "data": {
      "text/html": [
       "<div>\n",
       "<style scoped>\n",
       "    .dataframe tbody tr th:only-of-type {\n",
       "        vertical-align: middle;\n",
       "    }\n",
       "\n",
       "    .dataframe tbody tr th {\n",
       "        vertical-align: top;\n",
       "    }\n",
       "\n",
       "    .dataframe thead th {\n",
       "        text-align: right;\n",
       "    }\n",
       "</style>\n",
       "<table border=\"1\" class=\"dataframe\">\n",
       "  <thead>\n",
       "    <tr style=\"text-align: right;\">\n",
       "      <th></th>\n",
       "      <th>label</th>\n",
       "      <th>predictions</th>\n",
       "      <th>candidate_id</th>\n",
       "    </tr>\n",
       "  </thead>\n",
       "  <tbody>\n",
       "    <tr>\n",
       "      <th>0</th>\n",
       "      <td>__label__0</td>\n",
       "      <td>0.999841</td>\n",
       "      <td>50493</td>\n",
       "    </tr>\n",
       "    <tr>\n",
       "      <th>1</th>\n",
       "      <td>__label__0</td>\n",
       "      <td>0.997750</td>\n",
       "      <td>50494</td>\n",
       "    </tr>\n",
       "  </tbody>\n",
       "</table>\n",
       "</div>"
      ],
      "text/plain": [
       "        label  predictions  candidate_id\n",
       "0  __label__0     0.999841         50493\n",
       "1  __label__0     0.997750         50494"
      ]
     },
     "execution_count": 29,
     "metadata": {},
     "output_type": "execute_result"
    }
   ],
   "source": [
    "predictions_df = pd.read_table(\"all_cg_sentences_predictions.tsv\", header=None, names=[\"label\", \"predictions\"], sep=\" \")\n",
    "predictions_df['candidate_id'] = all_embedded_cg_df.candidate_id.values\n",
    "predictions_df.head(2)"
   ]
  },
  {
   "cell_type": "code",
   "execution_count": 30,
   "metadata": {
    "ExecuteTime": {
     "end_time": "2019-07-20T20:52:05.395223Z",
     "start_time": "2019-07-20T20:52:04.807601Z"
    }
   },
   "outputs": [
    {
     "data": {
      "text/html": [
       "<div>\n",
       "<style scoped>\n",
       "    .dataframe tbody tr th:only-of-type {\n",
       "        vertical-align: middle;\n",
       "    }\n",
       "\n",
       "    .dataframe tbody tr th {\n",
       "        vertical-align: top;\n",
       "    }\n",
       "\n",
       "    .dataframe thead th {\n",
       "        text-align: right;\n",
       "    }\n",
       "</style>\n",
       "<table border=\"1\" class=\"dataframe\">\n",
       "  <thead>\n",
       "    <tr style=\"text-align: right;\">\n",
       "      <th></th>\n",
       "      <th>entrez_gene_id</th>\n",
       "      <th>drugbank_id</th>\n",
       "      <th>candidate_id</th>\n",
       "      <th>predictions</th>\n",
       "    </tr>\n",
       "  </thead>\n",
       "  <tbody>\n",
       "    <tr>\n",
       "      <th>0</th>\n",
       "      <td>1</td>\n",
       "      <td>DB00143</td>\n",
       "      <td>28913100</td>\n",
       "      <td>0.836518</td>\n",
       "    </tr>\n",
       "    <tr>\n",
       "      <th>1</th>\n",
       "      <td>1</td>\n",
       "      <td>DB00145</td>\n",
       "      <td>33537346</td>\n",
       "      <td>0.980302</td>\n",
       "    </tr>\n",
       "  </tbody>\n",
       "</table>\n",
       "</div>"
      ],
      "text/plain": [
       "   entrez_gene_id drugbank_id  candidate_id  predictions\n",
       "0               1     DB00143      28913100     0.836518\n",
       "1               1     DB00145      33537346     0.980302"
      ]
     },
     "execution_count": 30,
     "metadata": {},
     "output_type": "execute_result"
    }
   ],
   "source": [
    "final_pred_df = (\n",
    "    total_candidates_df\n",
    "    [[\"entrez_gene_id\", \"drugbank_id\", \"candidate_id\"]]\n",
    "    .merge(predictions_df[[\"predictions\", \"candidate_id\"]])\n",
    ")\n",
    "final_pred_df.head(2)"
   ]
  },
  {
   "cell_type": "code",
   "execution_count": 31,
   "metadata": {
    "ExecuteTime": {
     "end_time": "2019-07-20T20:52:06.830199Z",
     "start_time": "2019-07-20T20:52:06.660075Z"
    }
   },
   "outputs": [
    {
     "data": {
      "text/html": [
       "<div>\n",
       "<style scoped>\n",
       "    .dataframe tbody tr th:only-of-type {\n",
       "        vertical-align: middle;\n",
       "    }\n",
       "\n",
       "    .dataframe tbody tr th {\n",
       "        vertical-align: top;\n",
       "    }\n",
       "\n",
       "    .dataframe thead th {\n",
       "        text-align: right;\n",
       "    }\n",
       "</style>\n",
       "<table border=\"1\" class=\"dataframe\">\n",
       "  <thead>\n",
       "    <tr style=\"text-align: right;\">\n",
       "      <th></th>\n",
       "      <th>entrez_gene_id</th>\n",
       "      <th>drugbank_id</th>\n",
       "      <th>predictions</th>\n",
       "    </tr>\n",
       "  </thead>\n",
       "  <tbody>\n",
       "    <tr>\n",
       "      <th>0</th>\n",
       "      <td>1</td>\n",
       "      <td>DB00143</td>\n",
       "      <td>0.836518</td>\n",
       "    </tr>\n",
       "    <tr>\n",
       "      <th>1</th>\n",
       "      <td>1</td>\n",
       "      <td>DB00145</td>\n",
       "      <td>0.980302</td>\n",
       "    </tr>\n",
       "  </tbody>\n",
       "</table>\n",
       "</div>"
      ],
      "text/plain": [
       "   entrez_gene_id drugbank_id  predictions\n",
       "0               1     DB00143     0.836518\n",
       "1               1     DB00145     0.980302"
      ]
     },
     "execution_count": 31,
     "metadata": {},
     "output_type": "execute_result"
    }
   ],
   "source": [
    "added_scores_df = (\n",
    "    final_pred_df\n",
    "    .groupby([\"entrez_gene_id\", \"drugbank_id\"])\n",
    "    .aggregate({\"predictions\": 'sum'})\n",
    "    .reset_index()\n",
    ")\n",
    "added_scores_df.head(2)"
   ]
  },
  {
   "cell_type": "code",
   "execution_count": 32,
   "metadata": {
    "ExecuteTime": {
     "end_time": "2019-07-20T20:52:19.557019Z",
     "start_time": "2019-07-20T20:52:08.707944Z"
    }
   },
   "outputs": [
    {
     "data": {
      "text/html": [
       "<div>\n",
       "<style scoped>\n",
       "    .dataframe tbody tr th:only-of-type {\n",
       "        vertical-align: middle;\n",
       "    }\n",
       "\n",
       "    .dataframe tbody tr th {\n",
       "        vertical-align: top;\n",
       "    }\n",
       "\n",
       "    .dataframe thead th {\n",
       "        text-align: right;\n",
       "    }\n",
       "</style>\n",
       "<table border=\"1\" class=\"dataframe\">\n",
       "  <thead>\n",
       "    <tr style=\"text-align: right;\">\n",
       "      <th></th>\n",
       "      <th>entrez_gene_id</th>\n",
       "      <th>drugbank_id</th>\n",
       "      <th>predictions</th>\n",
       "      <th>final_score</th>\n",
       "    </tr>\n",
       "  </thead>\n",
       "  <tbody>\n",
       "    <tr>\n",
       "      <th>0</th>\n",
       "      <td>1</td>\n",
       "      <td>DB00143</td>\n",
       "      <td>0.836518</td>\n",
       "      <td>0.895084</td>\n",
       "    </tr>\n",
       "    <tr>\n",
       "      <th>1</th>\n",
       "      <td>1</td>\n",
       "      <td>DB00145</td>\n",
       "      <td>0.980302</td>\n",
       "      <td>4.990157</td>\n",
       "    </tr>\n",
       "  </tbody>\n",
       "</table>\n",
       "</div>"
      ],
      "text/plain": [
       "   entrez_gene_id drugbank_id  predictions  final_score\n",
       "0               1     DB00143     0.836518     0.895084\n",
       "1               1     DB00145     0.980302     4.990157"
      ]
     },
     "execution_count": 32,
     "metadata": {},
     "output_type": "execute_result"
    }
   ],
   "source": [
    "total_score = added_scores_df.predictions.sum()\n",
    "gene_scores = added_scores_df.groupby(\"entrez_gene_id\").agg({\"predictions\":\"sum\"}).reset_index()\n",
    "gene_scores = dict(zip(gene_scores.entrez_gene_id, gene_scores.predictions))\n",
    "drug_scores = added_scores_df.groupby(\"drugbank_id\").agg({\"predictions\":\"sum\"}).reset_index()\n",
    "drug_scores = dict(zip(drug_scores.drugbank_id, drug_scores.predictions))\n",
    "\n",
    "alpha=0.65\n",
    "\n",
    "final_scores_df = added_scores_df.assign(\n",
    "    final_score=(\n",
    "        added_scores_df.apply(\n",
    "            lambda x: pd.np.exp(\n",
    "                    alpha*pd.np.log(x['predictions']) + (1-alpha)*(\n",
    "                    pd.np.log(x['predictions']) + pd.np.log(total_score) - \n",
    "                    pd.np.log(gene_scores[x['entrez_gene_id']]) - pd.np.log(drug_scores[x['drugbank_id']])\n",
    "                )\n",
    "            ), \n",
    "            axis=1\n",
    "        )\n",
    "    )\n",
    ")\n",
    "final_scores_df.head(2)"
   ]
  },
  {
   "cell_type": "code",
   "execution_count": 33,
   "metadata": {
    "ExecuteTime": {
     "end_time": "2019-07-20T20:52:20.044638Z",
     "start_time": "2019-07-20T20:52:19.558686Z"
    }
   },
   "outputs": [
    {
     "data": {
      "text/html": [
       "<div>\n",
       "<style scoped>\n",
       "    .dataframe tbody tr th:only-of-type {\n",
       "        vertical-align: middle;\n",
       "    }\n",
       "\n",
       "    .dataframe tbody tr th {\n",
       "        vertical-align: top;\n",
       "    }\n",
       "\n",
       "    .dataframe thead th {\n",
       "        text-align: right;\n",
       "    }\n",
       "</style>\n",
       "<table border=\"1\" class=\"dataframe\">\n",
       "  <thead>\n",
       "    <tr style=\"text-align: right;\">\n",
       "      <th></th>\n",
       "      <th>entrez_gene_id</th>\n",
       "      <th>drugbank_id</th>\n",
       "      <th>predictions</th>\n",
       "      <th>final_score</th>\n",
       "      <th>hetionet</th>\n",
       "    </tr>\n",
       "  </thead>\n",
       "  <tbody>\n",
       "    <tr>\n",
       "      <th>0</th>\n",
       "      <td>1</td>\n",
       "      <td>DB00143</td>\n",
       "      <td>0.836518</td>\n",
       "      <td>0.895084</td>\n",
       "      <td>0</td>\n",
       "    </tr>\n",
       "    <tr>\n",
       "      <th>1</th>\n",
       "      <td>1</td>\n",
       "      <td>DB00145</td>\n",
       "      <td>0.980302</td>\n",
       "      <td>4.990157</td>\n",
       "      <td>0</td>\n",
       "    </tr>\n",
       "  </tbody>\n",
       "</table>\n",
       "</div>"
      ],
      "text/plain": [
       "   entrez_gene_id drugbank_id  predictions  final_score  hetionet\n",
       "0               1     DB00143     0.836518     0.895084         0\n",
       "1               1     DB00145     0.980302     4.990157         0"
      ]
     },
     "execution_count": 33,
     "metadata": {},
     "output_type": "execute_result"
    }
   ],
   "source": [
    "score_with_labels_df = (\n",
    "    final_scores_df\n",
    "    .merge(\n",
    "        total_candidates_df[[\"drugbank_id\", \"entrez_gene_id\", \"hetionet\"]],\n",
    "        on=[\"drugbank_id\", \"entrez_gene_id\"]\n",
    "    )\n",
    "    .drop_duplicates()\n",
    ")\n",
    "score_with_labels_df.head(2)"
   ]
  },
  {
   "cell_type": "code",
   "execution_count": 34,
   "metadata": {
    "ExecuteTime": {
     "end_time": "2019-07-20T20:52:20.914109Z",
     "start_time": "2019-07-20T20:52:20.046128Z"
    }
   },
   "outputs": [],
   "source": [
    "score_with_labels_df.drop(\"predictions\", axis=1).to_csv(\"cd_edge_prediction_cocoscore.tsv\", sep=\"\\t\", index=False)"
   ]
  },
  {
   "cell_type": "code",
   "execution_count": 35,
   "metadata": {
    "ExecuteTime": {
     "end_time": "2019-07-20T20:52:21.004811Z",
     "start_time": "2019-07-20T20:52:20.915412Z"
    }
   },
   "outputs": [
    {
     "name": "stdout",
     "output_type": "stream",
     "text": [
      "0.7362928924514378\n",
      "0.11025872275984427\n"
     ]
    }
   ],
   "source": [
    "fpr, tpr, _ = roc_curve(score_with_labels_df.hetionet, score_with_labels_df.final_score)\n",
    "print(auc(fpr, tpr))\n",
    "\n",
    "precision, recall, _ = precision_recall_curve(score_with_labels_df.hetionet, score_with_labels_df.final_score)\n",
    "print(auc(recall, precision))"
   ]
  }
 ],
 "metadata": {
  "kernelspec": {
   "display_name": "Python [conda env:snorkeling]",
   "language": "python",
   "name": "conda-env-snorkeling-py"
  },
  "language_info": {
   "codemirror_mode": {
    "name": "ipython",
    "version": 3
   },
   "file_extension": ".py",
   "mimetype": "text/x-python",
   "name": "python",
   "nbconvert_exporter": "python",
   "pygments_lexer": "ipython3",
   "version": "3.6.4"
  }
 },
 "nbformat": 4,
 "nbformat_minor": 2
}
