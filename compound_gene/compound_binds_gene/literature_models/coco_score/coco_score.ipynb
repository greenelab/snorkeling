{
 "cells": [
  {
   "cell_type": "markdown",
   "metadata": {},
   "source": [
    "# CoCoScore Implementation"
   ]
  },
  {
   "cell_type": "markdown",
   "metadata": {},
   "source": [
    "This notebook consists of implementing the [CoCoScore](https://www.biorxiv.org/content/10.1101/444398v1) literature model for comparison."
   ]
  },
  {
   "cell_type": "code",
   "execution_count": 1,
   "metadata": {
    "ExecuteTime": {
     "end_time": "2020-01-18T23:58:14.953250Z",
     "start_time": "2020-01-18T23:58:14.306310Z"
    }
   },
   "outputs": [],
   "source": [
    "%load_ext autoreload\n",
    "%autoreload 2\n",
    "%matplotlib inline\n",
    "\n",
    "from collections import defaultdict\n",
    "import os\n",
    "import sys\n",
    "\n",
    "sys.path.append(os.path.abspath('../../../../modules'))\n",
    "\n",
    "import pandas as pd\n",
    "import matplotlib.pyplot as plt\n",
    "from sklearn.metrics import roc_curve, auc, f1_score, precision_recall_curve, accuracy_score, confusion_matrix\n",
    "from tqdm import tqdm_notebook"
   ]
  },
  {
   "cell_type": "code",
   "execution_count": 2,
   "metadata": {
    "ExecuteTime": {
     "end_time": "2020-01-18T23:58:14.964812Z",
     "start_time": "2020-01-18T23:58:14.954489Z"
    }
   },
   "outputs": [],
   "source": [
    "from utils.notebook_utils.dataframe_helper import load_candidate_dataframes"
   ]
  },
  {
   "cell_type": "code",
   "execution_count": 3,
   "metadata": {
    "ExecuteTime": {
     "end_time": "2020-01-18T23:58:31.013021Z",
     "start_time": "2020-01-18T23:58:14.966350Z"
    }
   },
   "outputs": [
    {
     "data": {
      "text/html": [
       "<div>\n",
       "<style scoped>\n",
       "    .dataframe tbody tr th:only-of-type {\n",
       "        vertical-align: middle;\n",
       "    }\n",
       "\n",
       "    .dataframe tbody tr th {\n",
       "        vertical-align: top;\n",
       "    }\n",
       "\n",
       "    .dataframe thead th {\n",
       "        text-align: right;\n",
       "    }\n",
       "</style>\n",
       "<table border=\"1\" class=\"dataframe\">\n",
       "  <thead>\n",
       "    <tr style=\"text-align: right;\">\n",
       "      <th></th>\n",
       "      <th>entrez_gene_id</th>\n",
       "      <th>gene_symbol</th>\n",
       "      <th>drugbank_id</th>\n",
       "      <th>name</th>\n",
       "      <th>sources</th>\n",
       "      <th>hetionet</th>\n",
       "      <th>n_sentences</th>\n",
       "      <th>has_sentence</th>\n",
       "      <th>partition_rank</th>\n",
       "      <th>split</th>\n",
       "      <th>candidate_id</th>\n",
       "      <th>sentence_id</th>\n",
       "      <th>text</th>\n",
       "      <th>sen_length</th>\n",
       "    </tr>\n",
       "  </thead>\n",
       "  <tbody>\n",
       "    <tr>\n",
       "      <th>0</th>\n",
       "      <td>1</td>\n",
       "      <td>A1BG</td>\n",
       "      <td>DB00117</td>\n",
       "      <td>L-Histidine</td>\n",
       "      <td>NaN</td>\n",
       "      <td>0</td>\n",
       "      <td>1</td>\n",
       "      <td>1</td>\n",
       "      <td>0.37753</td>\n",
       "      <td>6</td>\n",
       "      <td>33517095</td>\n",
       "      <td>94389805</td>\n",
       "      <td>Thus, as the assessment of protein glycosylati...</td>\n",
       "      <td>92</td>\n",
       "    </tr>\n",
       "    <tr>\n",
       "      <th>1</th>\n",
       "      <td>1</td>\n",
       "      <td>A1BG</td>\n",
       "      <td>DB00143</td>\n",
       "      <td>Glutathione</td>\n",
       "      <td>NaN</td>\n",
       "      <td>0</td>\n",
       "      <td>1</td>\n",
       "      <td>1</td>\n",
       "      <td>0.30352</td>\n",
       "      <td>6</td>\n",
       "      <td>28913100</td>\n",
       "      <td>83523801</td>\n",
       "      <td>Similar observations were made in T98 glioma c...</td>\n",
       "      <td>33</td>\n",
       "    </tr>\n",
       "  </tbody>\n",
       "</table>\n",
       "</div>"
      ],
      "text/plain": [
       "   entrez_gene_id gene_symbol drugbank_id         name sources  hetionet  \\\n",
       "0               1        A1BG     DB00117  L-Histidine     NaN         0   \n",
       "1               1        A1BG     DB00143  Glutathione     NaN         0   \n",
       "\n",
       "   n_sentences  has_sentence  partition_rank  split  candidate_id  \\\n",
       "0            1             1         0.37753      6      33517095   \n",
       "1            1             1         0.30352      6      28913100   \n",
       "\n",
       "   sentence_id                                               text  sen_length  \n",
       "0     94389805  Thus, as the assessment of protein glycosylati...          92  \n",
       "1     83523801  Similar observations were made in T98 glioma c...          33  "
      ]
     },
     "execution_count": 3,
     "metadata": {},
     "output_type": "execute_result"
    }
   ],
   "source": [
    "total_candidates_df = pd.read_csv(\"input/all_cbg_candidates.tsv.xz\", sep=\"\\t\")\n",
    "total_candidates_df.head(2)"
   ]
  },
  {
   "cell_type": "code",
   "execution_count": 4,
   "metadata": {
    "ExecuteTime": {
     "end_time": "2020-01-18T23:58:31.024349Z",
     "start_time": "2020-01-18T23:58:31.014482Z"
    }
   },
   "outputs": [],
   "source": [
    "spreadsheet_names = {\n",
    "    'dev': '../../data/sentences/sentence_labels_dev.xlsx',\n",
    "    'test': '../../data/sentences/sentence_labels_test.xlsx'\n",
    "}"
   ]
  },
  {
   "cell_type": "code",
   "execution_count": 5,
   "metadata": {
    "ExecuteTime": {
     "end_time": "2020-01-18T23:58:32.127833Z",
     "start_time": "2020-01-18T23:58:31.025508Z"
    }
   },
   "outputs": [
    {
     "name": "stdout",
     "output_type": "stream",
     "text": [
      "Size of dev set: 500\n",
      "Size of test set: 500\n"
     ]
    }
   ],
   "source": [
    "candidate_dfs = {\n",
    "    key:load_candidate_dataframes(spreadsheet_names[key], \"curated_cbg\")\n",
    "    for key in spreadsheet_names\n",
    "}\n",
    "\n",
    "for key in candidate_dfs:\n",
    "    print(\"Size of {} set: {}\".format(key, candidate_dfs[key].shape[0]))"
   ]
  },
  {
   "cell_type": "code",
   "execution_count": 6,
   "metadata": {
    "ExecuteTime": {
     "end_time": "2020-01-18T23:58:32.318785Z",
     "start_time": "2020-01-18T23:58:32.129191Z"
    }
   },
   "outputs": [
    {
     "data": {
      "text/html": [
       "<div>\n",
       "<style scoped>\n",
       "    .dataframe tbody tr th:only-of-type {\n",
       "        vertical-align: middle;\n",
       "    }\n",
       "\n",
       "    .dataframe tbody tr th {\n",
       "        vertical-align: top;\n",
       "    }\n",
       "\n",
       "    .dataframe thead th {\n",
       "        text-align: right;\n",
       "    }\n",
       "</style>\n",
       "<table border=\"1\" class=\"dataframe\">\n",
       "  <thead>\n",
       "    <tr style=\"text-align: right;\">\n",
       "      <th></th>\n",
       "      <th>0:0,1,2,3,4,5,6,7,8</th>\n",
       "      <th>candidate_id</th>\n",
       "    </tr>\n",
       "  </thead>\n",
       "  <tbody>\n",
       "    <tr>\n",
       "      <th>0</th>\n",
       "      <td>0.032877</td>\n",
       "      <td>50493</td>\n",
       "    </tr>\n",
       "    <tr>\n",
       "      <th>1</th>\n",
       "      <td>0.000763</td>\n",
       "      <td>50500</td>\n",
       "    </tr>\n",
       "  </tbody>\n",
       "</table>\n",
       "</div>"
      ],
      "text/plain": [
       "   0:0,1,2,3,4,5,6,7,8  candidate_id\n",
       "0             0.032877         50493\n",
       "1             0.000763         50500"
      ]
     },
     "execution_count": 6,
     "metadata": {},
     "output_type": "execute_result"
    }
   ],
   "source": [
    "distant_supervision_marginals = pd.read_csv(\"input/baseline_sampled.tsv.xz\", sep=\"\\t\")\n",
    "distant_supervision_marginals.head(2)"
   ]
  },
  {
   "cell_type": "code",
   "execution_count": 7,
   "metadata": {
    "ExecuteTime": {
     "end_time": "2020-01-18T23:58:48.480057Z",
     "start_time": "2020-01-18T23:58:32.319876Z"
    }
   },
   "outputs": [
    {
     "data": {
      "text/html": [
       "<div>\n",
       "<style scoped>\n",
       "    .dataframe tbody tr th:only-of-type {\n",
       "        vertical-align: middle;\n",
       "    }\n",
       "\n",
       "    .dataframe tbody tr th {\n",
       "        vertical-align: top;\n",
       "    }\n",
       "\n",
       "    .dataframe thead th {\n",
       "        text-align: right;\n",
       "    }\n",
       "</style>\n",
       "<table border=\"1\" class=\"dataframe\">\n",
       "  <thead>\n",
       "    <tr style=\"text-align: right;\">\n",
       "      <th></th>\n",
       "      <th>0</th>\n",
       "      <th>1</th>\n",
       "      <th>2</th>\n",
       "      <th>3</th>\n",
       "      <th>4</th>\n",
       "      <th>5</th>\n",
       "      <th>6</th>\n",
       "      <th>7</th>\n",
       "      <th>8</th>\n",
       "      <th>9</th>\n",
       "      <th>...</th>\n",
       "      <th>52</th>\n",
       "      <th>53</th>\n",
       "      <th>54</th>\n",
       "      <th>55</th>\n",
       "      <th>56</th>\n",
       "      <th>57</th>\n",
       "      <th>58</th>\n",
       "      <th>59</th>\n",
       "      <th>candidate_id</th>\n",
       "      <th>sen_length</th>\n",
       "    </tr>\n",
       "  </thead>\n",
       "  <tbody>\n",
       "    <tr>\n",
       "      <th>0</th>\n",
       "      <td>335</td>\n",
       "      <td>5</td>\n",
       "      <td>193</td>\n",
       "      <td>8</td>\n",
       "      <td>163</td>\n",
       "      <td>131</td>\n",
       "      <td>246</td>\n",
       "      <td>35</td>\n",
       "      <td>2034</td>\n",
       "      <td>37</td>\n",
       "      <td>...</td>\n",
       "      <td>0</td>\n",
       "      <td>0</td>\n",
       "      <td>0</td>\n",
       "      <td>0</td>\n",
       "      <td>0</td>\n",
       "      <td>0</td>\n",
       "      <td>0</td>\n",
       "      <td>0</td>\n",
       "      <td>50493</td>\n",
       "      <td>17</td>\n",
       "    </tr>\n",
       "    <tr>\n",
       "      <th>1</th>\n",
       "      <td>18</td>\n",
       "      <td>525</td>\n",
       "      <td>17</td>\n",
       "      <td>647</td>\n",
       "      <td>14</td>\n",
       "      <td>529</td>\n",
       "      <td>156</td>\n",
       "      <td>29</td>\n",
       "      <td>35</td>\n",
       "      <td>36296</td>\n",
       "      <td>...</td>\n",
       "      <td>0</td>\n",
       "      <td>0</td>\n",
       "      <td>0</td>\n",
       "      <td>0</td>\n",
       "      <td>0</td>\n",
       "      <td>0</td>\n",
       "      <td>0</td>\n",
       "      <td>0</td>\n",
       "      <td>50494</td>\n",
       "      <td>27</td>\n",
       "    </tr>\n",
       "  </tbody>\n",
       "</table>\n",
       "<p>2 rows × 62 columns</p>\n",
       "</div>"
      ],
      "text/plain": [
       "     0    1    2    3    4    5    6   7     8      9  ...  52  53  54  55  \\\n",
       "0  335    5  193    8  163  131  246  35  2034     37  ...   0   0   0   0   \n",
       "1   18  525   17  647   14  529  156  29    35  36296  ...   0   0   0   0   \n",
       "\n",
       "   56  57  58  59  candidate_id  sen_length  \n",
       "0   0   0   0   0         50493          17  \n",
       "1   0   0   0   0         50494          27  \n",
       "\n",
       "[2 rows x 62 columns]"
      ]
     },
     "execution_count": 7,
     "metadata": {},
     "output_type": "execute_result"
    }
   ],
   "source": [
    "all_embedded_cg_df = pd.read_csv(\"input/all_embedded_cg_sentences.tsv.xz\", sep=\"\\t\").drop_duplicates()\n",
    "all_embedded_cg_df.head(2)"
   ]
  },
  {
   "cell_type": "code",
   "execution_count": 8,
   "metadata": {
    "ExecuteTime": {
     "end_time": "2020-01-18T23:58:48.596593Z",
     "start_time": "2020-01-18T23:58:48.482046Z"
    }
   },
   "outputs": [
    {
     "data": {
      "text/html": [
       "<div>\n",
       "<style scoped>\n",
       "    .dataframe tbody tr th:only-of-type {\n",
       "        vertical-align: middle;\n",
       "    }\n",
       "\n",
       "    .dataframe tbody tr th {\n",
       "        vertical-align: top;\n",
       "    }\n",
       "\n",
       "    .dataframe thead th {\n",
       "        text-align: right;\n",
       "    }\n",
       "</style>\n",
       "<table border=\"1\" class=\"dataframe\">\n",
       "  <thead>\n",
       "    <tr style=\"text-align: right;\">\n",
       "      <th></th>\n",
       "      <th>word</th>\n",
       "      <th>index</th>\n",
       "    </tr>\n",
       "  </thead>\n",
       "  <tbody>\n",
       "    <tr>\n",
       "      <th>0</th>\n",
       "      <td>serum</td>\n",
       "      <td>2</td>\n",
       "    </tr>\n",
       "    <tr>\n",
       "      <th>1</th>\n",
       "      <td>hormone</td>\n",
       "      <td>3</td>\n",
       "    </tr>\n",
       "    <tr>\n",
       "      <th>2</th>\n",
       "      <td>(</td>\n",
       "      <td>4</td>\n",
       "    </tr>\n",
       "    <tr>\n",
       "      <th>3</th>\n",
       "      <td>~~[[2</td>\n",
       "      <td>5</td>\n",
       "    </tr>\n",
       "    <tr>\n",
       "      <th>4</th>\n",
       "      <td>amh</td>\n",
       "      <td>6</td>\n",
       "    </tr>\n",
       "  </tbody>\n",
       "</table>\n",
       "</div>"
      ],
      "text/plain": [
       "      word  index\n",
       "0    serum      2\n",
       "1  hormone      3\n",
       "2        (      4\n",
       "3    ~~[[2      5\n",
       "4      amh      6"
      ]
     },
     "execution_count": 8,
     "metadata": {},
     "output_type": "execute_result"
    }
   ],
   "source": [
    "word_dict = pd.read_csv(\"input/compound_binds_gene_word_dict.tsv\", sep=\"\\t\").assign(index=lambda x: x.index + 2)\n",
    "word_dict.head()"
   ]
  },
  {
   "cell_type": "code",
   "execution_count": 9,
   "metadata": {
    "ExecuteTime": {
     "end_time": "2020-01-18T23:58:48.737055Z",
     "start_time": "2020-01-18T23:58:48.598273Z"
    }
   },
   "outputs": [],
   "source": [
    "reverse_word_dict = dict(zip(word_dict['index'].values.tolist(), word_dict.word))\n",
    "\n",
    "train_marginal_dict = dict(zip(\n",
    "    distant_supervision_marginals.candidate_id, \n",
    "    distant_supervision_marginals[distant_supervision_marginals.columns[0]]\n",
    "))\n",
    "\n",
    "tune_marginal_dict = dict(zip(\n",
    "    candidate_dfs['dev'].candidate_id.values,\n",
    "    candidate_dfs['dev'].curated_cbg.values\n",
    "))\n",
    "\n",
    "\n",
    "test_marginal_dict = dict(zip(\n",
    "    candidate_dfs['test'].candidate_id.values,\n",
    "    candidate_dfs['test'].curated_cbg.values\n",
    "))"
   ]
  },
  {
   "cell_type": "code",
   "execution_count": 10,
   "metadata": {
    "ExecuteTime": {
     "end_time": "2020-01-19T00:04:47.294391Z",
     "start_time": "2020-01-18T23:58:48.738306Z"
    }
   },
   "outputs": [
    {
     "name": "stderr",
     "output_type": "stream",
     "text": [
      "/home/danich1/.local/lib/python3.6/site-packages/ipykernel_launcher.py:12: TqdmDeprecationWarning: This function will be removed in tqdm==5.0.0\n",
      "Please use `tqdm.notebook.tqdm` instead of `tqdm.tqdm_notebook`\n",
      "  if sys.path[0] == '':\n"
     ]
    },
    {
     "data": {
      "application/vnd.jupyter.widget-view+json": {
       "model_id": "5dc00f26a5754168a693da9830b9eb7d",
       "version_major": 2,
       "version_minor": 0
      },
      "text/plain": [
       "HBox(children=(IntProgress(value=1, bar_style='info', max=1), HTML(value='')))"
      ]
     },
     "metadata": {},
     "output_type": "display_data"
    },
    {
     "name": "stdout",
     "output_type": "stream",
     "text": [
      "\n"
     ]
    }
   ],
   "source": [
    "data_rows = []\n",
    "entity_one_start = word_dict.query(\"word=='~~[[1'\")['index'].values[0]\n",
    "entity_one_end = word_dict.query(\"word=='1]]~~'\")['index'].values[0]\n",
    "\n",
    "entity_two_start = word_dict.query(\"word=='~~[[2'\")['index'].values[0]\n",
    "entity_two_end = word_dict.query(\"word=='2]]~~'\")['index'].values[0]\n",
    "\n",
    "with open(\"output/optimization_data/training.txt\", \"w\") as train:\n",
    "    with open(\"output/optimization_data/tune.txt\", \"w\") as tune:\n",
    "        with open(\"output/optimization_data/test.txt\", \"w\") as test:\n",
    "            with open(\"output/all_cg_sentences.txt\", \"w\") as all_sen:\n",
    "                for idx, sen_df in tqdm_notebook(all_embedded_cg_df.iterrows()):\n",
    "                    sen = sen_df.iloc[:-2].tolist()\n",
    "                    \n",
    "                    try:\n",
    "                        # remove entity mentions for coco_score\n",
    "                        del sen[sen.index(entity_one_start): sen.index(entity_one_end)+1]\n",
    "                        del sen[sen.index(entity_two_start): sen.index(entity_two_end)+1]\n",
    "\n",
    "                        embedded_sen = list(map(\n",
    "                            lambda x: reverse_word_dict[x] if x in reverse_word_dict else \"UNK\" if x == 1 else \"\",\n",
    "                            sen\n",
    "                        ))\n",
    "\n",
    "                        cand_id = int(sen_df.iloc[-2])\n",
    "                        if cand_id in train_marginal_dict:\n",
    "                            train.write(\n",
    "                                f\"__label__{'1' if train_marginal_dict[cand_id]> 0.5 else '0'}\\t\" +\n",
    "                                \"\\t\".join(embedded_sen)+ \n",
    "                                \"\\n\"\n",
    "                            )\n",
    "                        if cand_id in tune_marginal_dict:\n",
    "                            tune.write(\n",
    "                                f\"__label__{int(tune_marginal_dict[cand_id])}\\t\" +\n",
    "                                \"\\t\".join(embedded_sen)+ \n",
    "                                \"\\n\"\n",
    "                            )\n",
    "                        if cand_id in test_marginal_dict:\n",
    "                            test.write(\n",
    "                                f\"__label__{int(test_marginal_dict[cand_id])}\\t\" +\n",
    "                                \"\\t\".join(embedded_sen)+ \n",
    "                                \"\\n\"\n",
    "                            )\n",
    "\n",
    "                        all_sen.write(\n",
    "                                f\"__label__{cand_id}\\t\" +\n",
    "                                \"\\t\".join(embedded_sen) + \n",
    "                                \"\\n\"\n",
    "                            )\n",
    "\n",
    "                    except ValueError:\n",
    "                        print(idx)"
   ]
  },
  {
   "cell_type": "code",
   "execution_count": 11,
   "metadata": {
    "ExecuteTime": {
     "end_time": "2020-01-19T00:06:24.627742Z",
     "start_time": "2020-01-19T00:04:47.295504Z"
    }
   },
   "outputs": [
    {
     "data": {
      "text/plain": [
       "0"
      ]
     },
     "execution_count": 11,
     "metadata": {},
     "output_type": "execute_result"
    }
   ],
   "source": [
    "os.system(\n",
    "    \"../../../../../fastText/fasttext supervised \" + \n",
    "    \"-input output/optimization_data/training.txt -output output/cbg_model \" +\n",
    "    \"-lr 0.005 -epoch 50 -dim 300 -wordNgrams 2\" \n",
    ")\n",
    "\n",
    "os.system(\n",
    "    \"../../../../../fastText/fasttext predict-prob \"+\n",
    "    \"output/cbg_model.bin output/optimization_data/tune.txt \"+\n",
    "    \" > output/optimized_predictions/tune_predictions.tsv\"\n",
    ")\n",
    "\n",
    "os.system(\n",
    "    \"../../../../../fastText/fasttext predict-prob \"+\n",
    "    \"output/cbg_model.bin output/optimization_data/test.txt \"+\n",
    "    \" > output/optimized_predictions/test_predictions.tsv\"\n",
    ")"
   ]
  },
  {
   "cell_type": "code",
   "execution_count": 12,
   "metadata": {
    "ExecuteTime": {
     "end_time": "2020-01-19T00:06:24.648153Z",
     "start_time": "2020-01-19T00:06:24.629215Z"
    }
   },
   "outputs": [
    {
     "data": {
      "text/plain": [
       "0.21675324675324675"
      ]
     },
     "execution_count": 12,
     "metadata": {},
     "output_type": "execute_result"
    }
   ],
   "source": [
    "tune_df = (\n",
    "    pd.read_csv(\n",
    "        'output/optimized_predictions/tune_predictions.tsv', \n",
    "        header=None, sep=\" \", \n",
    "        names=[\"label\", \"pred\"]\n",
    "    )\n",
    "    .assign(label=lambda x: x.label.apply(lambda sen: sen[-1]))\n",
    ")\n",
    "\n",
    "precision, recall, _ = precision_recall_curve(\n",
    "    tune_df.label.astype(int).values,\n",
    "    1-tune_df.pred.values\n",
    ")\n",
    "auc(recall, precision)"
   ]
  },
  {
   "cell_type": "code",
   "execution_count": 13,
   "metadata": {
    "ExecuteTime": {
     "end_time": "2020-01-19T00:06:24.789699Z",
     "start_time": "2020-01-19T00:06:24.649265Z"
    }
   },
   "outputs": [
    {
     "data": {
      "text/plain": [
       "[<matplotlib.lines.Line2D at 0x7ff6b6361128>]"
      ]
     },
     "execution_count": 13,
     "metadata": {},
     "output_type": "execute_result"
    },
    {
     "data": {
      "image/png": "[encoded data removed]",
      "text/plain": [
       "<Figure size 432x288 with 1 Axes>"
      ]
     },
     "metadata": {
      "needs_background": "light"
     },
     "output_type": "display_data"
    }
   ],
   "source": [
    "plt.plot(recall, precision)"
   ]
  },
  {
   "cell_type": "code",
   "execution_count": 14,
   "metadata": {
    "ExecuteTime": {
     "end_time": "2020-01-19T00:06:24.803500Z",
     "start_time": "2020-01-19T00:06:24.791096Z"
    }
   },
   "outputs": [
    {
     "data": {
      "text/plain": [
       "0.9758293838862558"
      ]
     },
     "execution_count": 14,
     "metadata": {},
     "output_type": "execute_result"
    }
   ],
   "source": [
    "fpr, tpr, _ = roc_curve(\n",
    "    tune_df.label.astype(int).values,\n",
    "    1-tune_df.pred.values\n",
    ")\n",
    "auc(fpr, tpr)"
   ]
  },
  {
   "cell_type": "code",
   "execution_count": 15,
   "metadata": {
    "ExecuteTime": {
     "end_time": "2020-01-19T00:06:24.924887Z",
     "start_time": "2020-01-19T00:06:24.804782Z"
    }
   },
   "outputs": [
    {
     "data": {
      "text/plain": [
       "[<matplotlib.lines.Line2D at 0x7ff6b635f080>]"
      ]
     },
     "execution_count": 15,
     "metadata": {},
     "output_type": "execute_result"
    },
    {
     "data": {
      "image/png": "[encoded data removed]",
      "text/plain": [
       "<Figure size 432x288 with 1 Axes>"
      ]
     },
     "metadata": {
      "needs_background": "light"
     },
     "output_type": "display_data"
    }
   ],
   "source": [
    "plt.plot(fpr, tpr)"
   ]
  },
  {
   "cell_type": "code",
   "execution_count": 16,
   "metadata": {
    "ExecuteTime": {
     "end_time": "2020-01-19T00:06:50.130471Z",
     "start_time": "2020-01-19T00:06:24.926185Z"
    }
   },
   "outputs": [
    {
     "data": {
      "text/plain": [
       "0"
      ]
     },
     "execution_count": 16,
     "metadata": {},
     "output_type": "execute_result"
    }
   ],
   "source": [
    "os.system(\n",
    "    \"../../../../../fastText/fasttext predict-prob \"+\n",
    "    \"output/cbg_model.bin output/all_cg_sentences.txt \"+\n",
    "    \"> output/all_cg_sentences_predictions.tsv\"\n",
    ")"
   ]
  },
  {
   "cell_type": "code",
   "execution_count": 17,
   "metadata": {
    "ExecuteTime": {
     "end_time": "2020-01-19T00:06:50.975347Z",
     "start_time": "2020-01-19T00:06:50.131885Z"
    }
   },
   "outputs": [
    {
     "data": {
      "text/html": [
       "<div>\n",
       "<style scoped>\n",
       "    .dataframe tbody tr th:only-of-type {\n",
       "        vertical-align: middle;\n",
       "    }\n",
       "\n",
       "    .dataframe tbody tr th {\n",
       "        vertical-align: top;\n",
       "    }\n",
       "\n",
       "    .dataframe thead th {\n",
       "        text-align: right;\n",
       "    }\n",
       "</style>\n",
       "<table border=\"1\" class=\"dataframe\">\n",
       "  <thead>\n",
       "    <tr style=\"text-align: right;\">\n",
       "      <th></th>\n",
       "      <th>label</th>\n",
       "      <th>coco_pred</th>\n",
       "      <th>candidate_id</th>\n",
       "    </tr>\n",
       "  </thead>\n",
       "  <tbody>\n",
       "    <tr>\n",
       "      <th>0</th>\n",
       "      <td>__label__0</td>\n",
       "      <td>0.000407</td>\n",
       "      <td>50493</td>\n",
       "    </tr>\n",
       "    <tr>\n",
       "      <th>1</th>\n",
       "      <td>__label__0</td>\n",
       "      <td>0.004035</td>\n",
       "      <td>50494</td>\n",
       "    </tr>\n",
       "  </tbody>\n",
       "</table>\n",
       "</div>"
      ],
      "text/plain": [
       "        label  coco_pred  candidate_id\n",
       "0  __label__0   0.000407         50493\n",
       "1  __label__0   0.004035         50494"
      ]
     },
     "execution_count": 17,
     "metadata": {},
     "output_type": "execute_result"
    }
   ],
   "source": [
    "predictions_df = (\n",
    "    pd.read_csv(\n",
    "        \"output/all_cg_sentences_predictions.tsv\", \n",
    "        header=None, sep=\" \",\n",
    "        names=[\"label\", \"coco_pred\"]\n",
    "    )\n",
    "    .assign(candidate_id=all_embedded_cg_df.candidate_id.values.tolist())\n",
    "    .assign(coco_pred=lambda x: 1 - x.coco_pred)\n",
    "    .assign(coco_pred=lambda x: x.coco_pred.clip(0,1) + 1e-5)\n",
    ")\n",
    "predictions_df.head(2)"
   ]
  },
  {
   "cell_type": "code",
   "execution_count": 18,
   "metadata": {
    "ExecuteTime": {
     "end_time": "2020-01-19T00:06:51.867415Z",
     "start_time": "2020-01-19T00:06:50.976687Z"
    }
   },
   "outputs": [
    {
     "data": {
      "text/html": [
       "<div>\n",
       "<style scoped>\n",
       "    .dataframe tbody tr th:only-of-type {\n",
       "        vertical-align: middle;\n",
       "    }\n",
       "\n",
       "    .dataframe tbody tr th {\n",
       "        vertical-align: top;\n",
       "    }\n",
       "\n",
       "    .dataframe thead th {\n",
       "        text-align: right;\n",
       "    }\n",
       "</style>\n",
       "<table border=\"1\" class=\"dataframe\">\n",
       "  <thead>\n",
       "    <tr style=\"text-align: right;\">\n",
       "      <th></th>\n",
       "      <th>entrez_gene_id</th>\n",
       "      <th>drugbank_id</th>\n",
       "      <th>candidate_id</th>\n",
       "      <th>coco_pred</th>\n",
       "    </tr>\n",
       "  </thead>\n",
       "  <tbody>\n",
       "    <tr>\n",
       "      <th>0</th>\n",
       "      <td>1</td>\n",
       "      <td>DB00143</td>\n",
       "      <td>28913100</td>\n",
       "      <td>0.326116</td>\n",
       "    </tr>\n",
       "    <tr>\n",
       "      <th>1</th>\n",
       "      <td>1</td>\n",
       "      <td>DB00145</td>\n",
       "      <td>33537346</td>\n",
       "      <td>0.027294</td>\n",
       "    </tr>\n",
       "  </tbody>\n",
       "</table>\n",
       "</div>"
      ],
      "text/plain": [
       "   entrez_gene_id drugbank_id  candidate_id  coco_pred\n",
       "0               1     DB00143      28913100   0.326116\n",
       "1               1     DB00145      33537346   0.027294"
      ]
     },
     "execution_count": 18,
     "metadata": {},
     "output_type": "execute_result"
    }
   ],
   "source": [
    "final_pred_df = (\n",
    "    total_candidates_df\n",
    "    [[\"entrez_gene_id\", \"drugbank_id\", \"candidate_id\"]]\n",
    "    .merge(predictions_df[[\"coco_pred\", \"candidate_id\"]])\n",
    ")\n",
    "final_pred_df.head(2)"
   ]
  },
  {
   "cell_type": "code",
   "execution_count": 19,
   "metadata": {
    "ExecuteTime": {
     "end_time": "2020-01-19T00:06:52.022533Z",
     "start_time": "2020-01-19T00:06:51.868654Z"
    }
   },
   "outputs": [
    {
     "data": {
      "text/html": [
       "<div>\n",
       "<style scoped>\n",
       "    .dataframe tbody tr th:only-of-type {\n",
       "        vertical-align: middle;\n",
       "    }\n",
       "\n",
       "    .dataframe tbody tr th {\n",
       "        vertical-align: top;\n",
       "    }\n",
       "\n",
       "    .dataframe thead th {\n",
       "        text-align: right;\n",
       "    }\n",
       "</style>\n",
       "<table border=\"1\" class=\"dataframe\">\n",
       "  <thead>\n",
       "    <tr style=\"text-align: right;\">\n",
       "      <th></th>\n",
       "      <th>entrez_gene_id</th>\n",
       "      <th>drugbank_id</th>\n",
       "      <th>coco_pred</th>\n",
       "    </tr>\n",
       "  </thead>\n",
       "  <tbody>\n",
       "    <tr>\n",
       "      <th>0</th>\n",
       "      <td>1</td>\n",
       "      <td>DB00143</td>\n",
       "      <td>0.326116</td>\n",
       "    </tr>\n",
       "    <tr>\n",
       "      <th>1</th>\n",
       "      <td>1</td>\n",
       "      <td>DB00145</td>\n",
       "      <td>0.027294</td>\n",
       "    </tr>\n",
       "  </tbody>\n",
       "</table>\n",
       "</div>"
      ],
      "text/plain": [
       "   entrez_gene_id drugbank_id  coco_pred\n",
       "0               1     DB00143   0.326116\n",
       "1               1     DB00145   0.027294"
      ]
     },
     "execution_count": 19,
     "metadata": {},
     "output_type": "execute_result"
    }
   ],
   "source": [
    "added_scores_df = (\n",
    "    final_pred_df\n",
    "    .groupby([\"entrez_gene_id\", \"drugbank_id\"])\n",
    "    .aggregate({\"coco_pred\": 'sum'})\n",
    "    .reset_index()\n",
    ")\n",
    "added_scores_df.head(2)"
   ]
  },
  {
   "cell_type": "code",
   "execution_count": 20,
   "metadata": {
    "ExecuteTime": {
     "end_time": "2020-01-19T00:07:00.315763Z",
     "start_time": "2020-01-19T00:06:52.023723Z"
    }
   },
   "outputs": [
    {
     "data": {
      "text/html": [
       "<div>\n",
       "<style scoped>\n",
       "    .dataframe tbody tr th:only-of-type {\n",
       "        vertical-align: middle;\n",
       "    }\n",
       "\n",
       "    .dataframe tbody tr th {\n",
       "        vertical-align: top;\n",
       "    }\n",
       "\n",
       "    .dataframe thead th {\n",
       "        text-align: right;\n",
       "    }\n",
       "</style>\n",
       "<table border=\"1\" class=\"dataframe\">\n",
       "  <thead>\n",
       "    <tr style=\"text-align: right;\">\n",
       "      <th></th>\n",
       "      <th>entrez_gene_id</th>\n",
       "      <th>drugbank_id</th>\n",
       "      <th>coco_pred</th>\n",
       "      <th>final_score</th>\n",
       "    </tr>\n",
       "  </thead>\n",
       "  <tbody>\n",
       "    <tr>\n",
       "      <th>0</th>\n",
       "      <td>1</td>\n",
       "      <td>DB00143</td>\n",
       "      <td>0.326116</td>\n",
       "      <td>0.842150</td>\n",
       "    </tr>\n",
       "    <tr>\n",
       "      <th>1</th>\n",
       "      <td>1</td>\n",
       "      <td>DB00145</td>\n",
       "      <td>0.027294</td>\n",
       "      <td>0.417873</td>\n",
       "    </tr>\n",
       "  </tbody>\n",
       "</table>\n",
       "</div>"
      ],
      "text/plain": [
       "   entrez_gene_id drugbank_id  coco_pred  final_score\n",
       "0               1     DB00143   0.326116     0.842150\n",
       "1               1     DB00145   0.027294     0.417873"
      ]
     },
     "execution_count": 20,
     "metadata": {},
     "output_type": "execute_result"
    }
   ],
   "source": [
    "total_score = added_scores_df.coco_pred.sum()\n",
    "gene_scores = added_scores_df.groupby(\"entrez_gene_id\").agg({\"coco_pred\":\"sum\"}).reset_index()\n",
    "gene_scores = dict(zip(gene_scores.entrez_gene_id, gene_scores.coco_pred))\n",
    "drug_scores = added_scores_df.groupby(\"drugbank_id\").agg({\"coco_pred\":\"sum\"}).reset_index()\n",
    "drug_scores = dict(zip(drug_scores.drugbank_id, drug_scores.coco_pred))\n",
    "\n",
    "alpha=0.65\n",
    "\n",
    "final_scores_df = added_scores_df.assign(\n",
    "    final_score=(\n",
    "        added_scores_df.apply(\n",
    "            lambda x: pd.np.exp(\n",
    "                    alpha*pd.np.log(x['coco_pred']) + (1-alpha)*(\n",
    "                    pd.np.log(x['coco_pred']) + pd.np.log(total_score) - \n",
    "                    pd.np.log(gene_scores[x['entrez_gene_id']]) - pd.np.log(drug_scores[x['drugbank_id']])\n",
    "                )\n",
    "            ), \n",
    "            axis=1\n",
    "        )\n",
    "    )\n",
    ")\n",
    "final_scores_df.head(2)"
   ]
  },
  {
   "cell_type": "code",
   "execution_count": 21,
   "metadata": {
    "ExecuteTime": {
     "end_time": "2020-01-19T00:07:00.905903Z",
     "start_time": "2020-01-19T00:07:00.317089Z"
    }
   },
   "outputs": [
    {
     "data": {
      "text/html": [
       "<div>\n",
       "<style scoped>\n",
       "    .dataframe tbody tr th:only-of-type {\n",
       "        vertical-align: middle;\n",
       "    }\n",
       "\n",
       "    .dataframe tbody tr th {\n",
       "        vertical-align: top;\n",
       "    }\n",
       "\n",
       "    .dataframe thead th {\n",
       "        text-align: right;\n",
       "    }\n",
       "</style>\n",
       "<table border=\"1\" class=\"dataframe\">\n",
       "  <thead>\n",
       "    <tr style=\"text-align: right;\">\n",
       "      <th></th>\n",
       "      <th>entrez_gene_id</th>\n",
       "      <th>drugbank_id</th>\n",
       "      <th>coco_pred</th>\n",
       "      <th>final_score</th>\n",
       "      <th>hetionet</th>\n",
       "    </tr>\n",
       "  </thead>\n",
       "  <tbody>\n",
       "    <tr>\n",
       "      <th>0</th>\n",
       "      <td>1</td>\n",
       "      <td>DB00143</td>\n",
       "      <td>0.326116</td>\n",
       "      <td>0.842150</td>\n",
       "      <td>0</td>\n",
       "    </tr>\n",
       "    <tr>\n",
       "      <th>1</th>\n",
       "      <td>1</td>\n",
       "      <td>DB00145</td>\n",
       "      <td>0.027294</td>\n",
       "      <td>0.417873</td>\n",
       "      <td>0</td>\n",
       "    </tr>\n",
       "  </tbody>\n",
       "</table>\n",
       "</div>"
      ],
      "text/plain": [
       "   entrez_gene_id drugbank_id  coco_pred  final_score  hetionet\n",
       "0               1     DB00143   0.326116     0.842150         0\n",
       "1               1     DB00145   0.027294     0.417873         0"
      ]
     },
     "execution_count": 21,
     "metadata": {},
     "output_type": "execute_result"
    }
   ],
   "source": [
    "score_with_labels_df = (\n",
    "    final_scores_df\n",
    "    .merge(\n",
    "        total_candidates_df[[\"drugbank_id\", \"entrez_gene_id\", \"hetionet\"]],\n",
    "        on=[\"drugbank_id\", \"entrez_gene_id\"]\n",
    "    )\n",
    "    .drop_duplicates()\n",
    ")\n",
    "score_with_labels_df.head(2)"
   ]
  },
  {
   "cell_type": "code",
   "execution_count": 22,
   "metadata": {
    "ExecuteTime": {
     "end_time": "2020-01-19T00:07:01.698380Z",
     "start_time": "2020-01-19T00:07:00.907111Z"
    }
   },
   "outputs": [],
   "source": [
    "(\n",
    "    score_with_labels_df\n",
    "    .drop(\"coco_pred\", axis=1)\n",
    "    .rename({\"final_score\": \"coco_score\"})\n",
    "    .to_csv(\"output/cg_edge_prediction_cocoscore.tsv\", sep=\"\\t\", index=False)\n",
    ")"
   ]
  },
  {
   "cell_type": "code",
   "execution_count": 23,
   "metadata": {
    "ExecuteTime": {
     "end_time": "2020-01-19T00:07:01.779941Z",
     "start_time": "2020-01-19T00:07:01.701456Z"
    }
   },
   "outputs": [
    {
     "name": "stdout",
     "output_type": "stream",
     "text": [
      "0.8418052403058354\n",
      "0.22192615186075526\n"
     ]
    }
   ],
   "source": [
    "fpr, tpr, _ = roc_curve(score_with_labels_df.hetionet, score_with_labels_df.final_score)\n",
    "print(auc(fpr, tpr))\n",
    "\n",
    "precision, recall, _ = precision_recall_curve(score_with_labels_df.hetionet, score_with_labels_df.final_score)\n",
    "print(auc(recall, precision))"
   ]
  }
 ],
 "metadata": {
  "kernelspec": {
   "display_name": "Python [conda env:snorkeling]",
   "language": "python",
   "name": "conda-env-snorkeling-py"
  },
  "language_info": {
   "codemirror_mode": {
    "name": "ipython",
    "version": 3
   },
   "file_extension": ".py",
   "mimetype": "text/x-python",
   "name": "python",
   "nbconvert_exporter": "python",
   "pygments_lexer": "ipython3",
   "version": "3.6.7"
  },
  "toc": {
   "base_numbering": 1,
   "nav_menu": {},
   "number_sections": true,
   "sideBar": true,
   "skip_h1_title": false,
   "title_cell": "Table of Contents",
   "title_sidebar": "Contents",
   "toc_cell": false,
   "toc_position": {},
   "toc_section_display": true,
   "toc_window_display": false
  },
  "varInspector": {
   "cols": {
    "lenName": 16,
    "lenType": 16,
    "lenVar": 40
   },
   "kernels_config": {
    "python": {
     "delete_cmd_postfix": "",
     "delete_cmd_prefix": "del ",
     "library": "var_list.py",
     "varRefreshCmd": "print(var_dic_list())"
    },
    "r": {
     "delete_cmd_postfix": ") ",
     "delete_cmd_prefix": "rm(",
     "library": "var_list.r",
     "varRefreshCmd": "cat(var_dic_list()) "
    }
   },
   "types_to_exclude": [
    "module",
    "function",
    "builtin_function_or_method",
    "instance",
    "_Feature"
   ],
   "window_display": false
  }
 },
 "nbformat": 4,
 "nbformat_minor": 2
}
