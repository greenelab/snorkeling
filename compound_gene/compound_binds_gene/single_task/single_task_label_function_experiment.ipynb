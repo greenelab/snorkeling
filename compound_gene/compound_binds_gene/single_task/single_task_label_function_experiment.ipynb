{
 "cells": [
  {
   "cell_type": "markdown",
   "metadata": {},
   "source": [
    "# Using Labels from Different Relation Types to Predict Compound Binds Gene Sentences"
   ]
  },
  {
   "cell_type": "markdown",
   "metadata": {},
   "source": [
    "This notebook is designed to predict the compound binds gene (CbG) relation. The first step in this process is to label our train, dev, and test sentences (split = 6,7,8). We will label these sentences using all of our handcrafted label functions. The working hypothesis here is there are shared information between different relations, which in turn should aid in predicting the compound binds gene relation. After the labeling process, the next step is to train a generative model that will estimate the likelihood of the positive class ($\\hat{Y}$) given our annotated label matrix. **Note**: This process doesn't involve any sentence context, so the only information used here are categorical output."
   ]
  },
  {
   "cell_type": "markdown",
   "metadata": {},
   "source": [
    "## Set up the environment"
   ]
  },
  {
   "cell_type": "code",
   "execution_count": 1,
   "metadata": {
    "ExecuteTime": {
     "end_time": "2019-04-29T03:25:17.132058Z",
     "start_time": "2019-04-29T03:25:16.351273Z"
    }
   },
   "outputs": [],
   "source": [
    "%load_ext autoreload\n",
    "%autoreload 2\n",
    "%matplotlib inline\n",
    "\n",
    "from collections import defaultdict\n",
    "import os\n",
    "import pickle\n",
    "import sys\n",
    "\n",
    "sys.path.append(os.path.abspath('../../../modules'))\n",
    "\n",
    "# Bayesian Optimization\n",
    "from hyperopt import fmin, hp, tpe, Trials\n",
    "\n",
    "from itertools import chain\n",
    "import matplotlib.pyplot as plt\n",
    "import pandas as pd\n",
    "import seaborn as sns\n",
    "from scipy import sparse\n",
    "from sklearn.metrics import roc_curve, auc, f1_score, precision_recall_curve, accuracy_score\n",
    "from tqdm import tqdm_notebook"
   ]
  },
  {
   "cell_type": "code",
   "execution_count": 2,
   "metadata": {
    "ExecuteTime": {
     "end_time": "2019-04-29T03:25:17.318126Z",
     "start_time": "2019-04-29T03:25:17.133545Z"
    }
   },
   "outputs": [],
   "source": [
    "#Set up the environment\n",
    "username = \"danich1\"\n",
    "password = \"snorkel\"\n",
    "dbname = \"pubmeddb\"\n",
    "\n",
    "#Path subject to change for different os\n",
    "database_str = \"postgresql+psycopg2://{}:{}@/{}?host=/var/run/postgresql\".format(username, password, dbname)\n",
    "os.environ['SNORKELDB'] = database_str\n",
    "\n",
    "from snorkel import SnorkelSession\n",
    "session = SnorkelSession()"
   ]
  },
  {
   "cell_type": "code",
   "execution_count": 3,
   "metadata": {
    "ExecuteTime": {
     "end_time": "2019-04-29T03:29:55.518300Z",
     "start_time": "2019-04-29T03:25:17.319834Z"
    }
   },
   "outputs": [
    {
     "name": "stderr",
     "output_type": "stream",
     "text": [
      "/home/danich1/anaconda2/envs/snorkeling/lib/python3.6/site-packages/IPython/core/interactiveshell.py:2903: DtypeWarning: Columns (3) have mixed types. Specify dtype option on import or set low_memory=False.\n",
      "  if self.run_code(code, result):\n"
     ]
    }
   ],
   "source": [
    "from snorkel.learning.pytorch.rnn.rnn_base import mark_sentence\n",
    "from snorkel.learning.pytorch.rnn.utils import candidate_to_tokens\n",
    "from snorkel.models import Candidate, candidate_subclass\n",
    "\n",
    "from metal.analysis import lf_summary\n",
    "from metal.label_model import LabelModel\n",
    "from metal.utils import plusminus_to_categorical\n",
    "\n",
    "from gensim.models import FastText\n",
    "from gensim.models import KeyedVectors\n",
    "\n",
    "from utils.notebook_utils.label_matrix_helper import label_candidates, get_auc_significant_stats\n",
    "from utils.notebook_utils.dataframe_helper import load_candidate_dataframes, generate_results_df\n",
    "from utils.notebook_utils.plot_helper import plot_curve, plot_label_matrix_heatmap\n",
    "from utils.notebook_utils.train_model_helper import (\n",
    "    train_baseline_model,\n",
    "    run_random_additional_lfs\n",
    ")\n",
    "\n",
    "sys.path.append(os.path.abspath('data/label_functions'))\n",
    "sys.path.append(os.path.abspath('../../../disease_gene/disease_associates_gene/single_task/data/label_functions'))\n",
    "sys.path.append(os.path.abspath('../../../compound_disease/compound_treats_disease/single_task/data/label_functions'))\n",
    "sys.path.append(os.path.abspath('../../../gene_gene/gene_interacts_gene/single_task/data/label_functions'))\n",
    "from compound_gene_lf import CG_LFS\n",
    "from disease_gene_lfs import DG_LFS\n",
    "from compound_disease_lf import CD_LFS\n",
    "from gene_gene_lf import GG_LFS"
   ]
  },
  {
   "cell_type": "code",
   "execution_count": 4,
   "metadata": {
    "ExecuteTime": {
     "end_time": "2019-04-29T03:29:55.547157Z",
     "start_time": "2019-04-29T03:29:55.520018Z"
    }
   },
   "outputs": [],
   "source": [
    "CompoundGene = candidate_subclass('CompoundGene', ['Compound', 'Gene'])"
   ]
  },
  {
   "cell_type": "code",
   "execution_count": 5,
   "metadata": {
    "ExecuteTime": {
     "end_time": "2019-04-29T03:29:55.570593Z",
     "start_time": "2019-04-29T03:29:55.548869Z"
    }
   },
   "outputs": [],
   "source": [
    "quick_load = True"
   ]
  },
  {
   "cell_type": "markdown",
   "metadata": {},
   "source": [
    "## Load the Data and Label the  Sentences"
   ]
  },
  {
   "cell_type": "markdown",
   "metadata": {},
   "source": [
    "This block of code is designed to label the sentences using our label functions. All the sentences are located in our postgres database that is store locally on the lab machine. The labeling process is defined as follows: Given a candidate id, we use the sqlalchemy library to extract a candidate object. Using this object and we pass it through a series of label functions that will output a 1 (positive), -1 (negative) or 0 (abstain) depending on the rule set. Lastly we aggregate the output of these functions into a sparse matrix that the generative model will use. Since these steps are pretty linear, we parallelized this process using python's multithreading library. Despite the optimization, this process can still take about 3 hours to label a set of ~300000 sentences."
   ]
  },
  {
   "cell_type": "code",
   "execution_count": 6,
   "metadata": {
    "ExecuteTime": {
     "end_time": "2019-04-29T03:30:10.065274Z",
     "start_time": "2019-04-29T03:29:55.572296Z"
    },
    "scrolled": true
   },
   "outputs": [
    {
     "data": {
      "text/html": [
       "<div>\n",
       "<style scoped>\n",
       "    .dataframe tbody tr th:only-of-type {\n",
       "        vertical-align: middle;\n",
       "    }\n",
       "\n",
       "    .dataframe tbody tr th {\n",
       "        vertical-align: top;\n",
       "    }\n",
       "\n",
       "    .dataframe thead th {\n",
       "        text-align: right;\n",
       "    }\n",
       "</style>\n",
       "<table border=\"1\" class=\"dataframe\">\n",
       "  <thead>\n",
       "    <tr style=\"text-align: right;\">\n",
       "      <th></th>\n",
       "      <th>entrez_gene_id</th>\n",
       "      <th>gene_symbol</th>\n",
       "      <th>drugbank_id</th>\n",
       "      <th>name</th>\n",
       "      <th>sources</th>\n",
       "      <th>hetionet</th>\n",
       "      <th>n_sentences</th>\n",
       "      <th>has_sentence</th>\n",
       "      <th>partition_rank</th>\n",
       "      <th>split</th>\n",
       "      <th>compound_mention_count</th>\n",
       "      <th>disease_mention_count</th>\n",
       "      <th>gene_mention_count</th>\n",
       "      <th>sentence_id</th>\n",
       "      <th>text</th>\n",
       "      <th>sen_length</th>\n",
       "      <th>candidate_id</th>\n",
       "    </tr>\n",
       "  </thead>\n",
       "  <tbody>\n",
       "    <tr>\n",
       "      <th>0</th>\n",
       "      <td>1</td>\n",
       "      <td>A1BG</td>\n",
       "      <td>DB00117</td>\n",
       "      <td>L-Histidine</td>\n",
       "      <td>NaN</td>\n",
       "      <td>0</td>\n",
       "      <td>1</td>\n",
       "      <td>1</td>\n",
       "      <td>0.37753</td>\n",
       "      <td>6</td>\n",
       "      <td>1.0</td>\n",
       "      <td>0.0</td>\n",
       "      <td>10.0</td>\n",
       "      <td>94389805</td>\n",
       "      <td>Thus, as the assessment of protein glycosylati...</td>\n",
       "      <td>114</td>\n",
       "      <td>33517095</td>\n",
       "    </tr>\n",
       "    <tr>\n",
       "      <th>1</th>\n",
       "      <td>1</td>\n",
       "      <td>A1BG</td>\n",
       "      <td>DB00143</td>\n",
       "      <td>Glutathione</td>\n",
       "      <td>NaN</td>\n",
       "      <td>0</td>\n",
       "      <td>1</td>\n",
       "      <td>1</td>\n",
       "      <td>0.30352</td>\n",
       "      <td>6</td>\n",
       "      <td>1.0</td>\n",
       "      <td>1.0</td>\n",
       "      <td>2.0</td>\n",
       "      <td>83523801</td>\n",
       "      <td>Similar observations were made in T98 glioma c...</td>\n",
       "      <td>34</td>\n",
       "      <td>28913100</td>\n",
       "    </tr>\n",
       "  </tbody>\n",
       "</table>\n",
       "</div>"
      ],
      "text/plain": [
       "   entrez_gene_id gene_symbol drugbank_id         name sources  hetionet  \\\n",
       "0               1        A1BG     DB00117  L-Histidine     NaN         0   \n",
       "1               1        A1BG     DB00143  Glutathione     NaN         0   \n",
       "\n",
       "   n_sentences  has_sentence  partition_rank  split  compound_mention_count  \\\n",
       "0            1             1         0.37753      6                     1.0   \n",
       "1            1             1         0.30352      6                     1.0   \n",
       "\n",
       "   disease_mention_count  gene_mention_count  sentence_id  \\\n",
       "0                    0.0                10.0     94389805   \n",
       "1                    1.0                 2.0     83523801   \n",
       "\n",
       "                                                text  sen_length  candidate_id  \n",
       "0  Thus, as the assessment of protein glycosylati...         114      33517095  \n",
       "1  Similar observations were made in T98 glioma c...          34      28913100  "
      ]
     },
     "execution_count": 6,
     "metadata": {},
     "output_type": "execute_result"
    }
   ],
   "source": [
    "total_candidates_df = pd.read_table(\"../dataset_statistics/data/all_cbg_candidates.tsv.xz\")\n",
    "total_candidates_df.head(2)"
   ]
  },
  {
   "cell_type": "code",
   "execution_count": 7,
   "metadata": {
    "ExecuteTime": {
     "end_time": "2019-04-29T03:30:10.089593Z",
     "start_time": "2019-04-29T03:30:10.066806Z"
    }
   },
   "outputs": [],
   "source": [
    "spreadsheet_names = {\n",
    "    #'train': 'data/sentences/sentence_labels_train.xlsx',\n",
    "    'dev': 'data/sentences/sentence_labels_dev.xlsx',\n",
    "    'test': 'data/sentences/sentence_labels_test.xlsx'\n",
    "}"
   ]
  },
  {
   "cell_type": "code",
   "execution_count": 8,
   "metadata": {
    "ExecuteTime": {
     "end_time": "2019-04-29T03:30:15.723676Z",
     "start_time": "2019-04-29T03:30:10.091257Z"
    }
   },
   "outputs": [
    {
     "name": "stdout",
     "output_type": "stream",
     "text": [
      "Size of dev set: 500\n",
      "Size of test set: 500\n"
     ]
    }
   ],
   "source": [
    "candidate_dfs = {\n",
    "    key:load_candidate_dataframes(spreadsheet_names[key], \"curated_cbg\")\n",
    "    for key in spreadsheet_names\n",
    "}\n",
    "\n",
    "for key in candidate_dfs:\n",
    "    print(\"Size of {} set: {}\".format(key, candidate_dfs[key].shape[0]))"
   ]
  },
  {
   "cell_type": "code",
   "execution_count": 9,
   "metadata": {
    "ExecuteTime": {
     "end_time": "2019-04-29T03:30:15.748067Z",
     "start_time": "2019-04-29T03:30:15.725112Z"
    }
   },
   "outputs": [],
   "source": [
    "lfs = (\n",
    "    list(CG_LFS[\"CbG\"].values()) + \n",
    "    list(DG_LFS[\"DaG\"].values())[7:37] + \n",
    "    list(CD_LFS[\"CtD\"].values())[3:25] + \n",
    "    list(GG_LFS[\"GiG\"].values())[9:37]\n",
    ")\n",
    "lf_names = (\n",
    "    list(CG_LFS[\"CbG\"].keys()) + \n",
    "    list(DG_LFS[\"DaG\"].keys())[7:37] + \n",
    "    list(CD_LFS[\"CtD\"].keys())[3:25] + \n",
    "    list(GG_LFS[\"GiG\"].keys())[9:37]\n",
    ")"
   ]
  },
  {
   "cell_type": "code",
   "execution_count": 10,
   "metadata": {
    "ExecuteTime": {
     "end_time": "2019-04-29T03:30:15.773334Z",
     "start_time": "2019-04-29T03:30:15.749525Z"
    }
   },
   "outputs": [],
   "source": [
    "if not quick_load:\n",
    "    label_matricies = {\n",
    "        'train':label_candidates(\n",
    "            session, \n",
    "            (\n",
    "                total_candidates_df\n",
    "                .query(\"split==6&compound_mention_count==1&gene_mention_count==1\")\n",
    "                .candidate_id\n",
    "                .values\n",
    "                .tolist()\n",
    "            ),\n",
    "            lfs, \n",
    "            lf_names,\n",
    "            num_threads=10,\n",
    "            batch_size=50000,\n",
    "            multitask=False\n",
    "        )\n",
    "    }"
   ]
  },
  {
   "cell_type": "code",
   "execution_count": 11,
   "metadata": {
    "ExecuteTime": {
     "end_time": "2019-04-29T03:30:15.797824Z",
     "start_time": "2019-04-29T03:30:15.774706Z"
    }
   },
   "outputs": [],
   "source": [
    "if not quick_load:\n",
    "    label_matricies.update({\n",
    "        key:label_candidates(\n",
    "            session, \n",
    "            candidate_dfs[key]['candidate_id'].values.tolist(),\n",
    "            lfs, \n",
    "            lf_names,\n",
    "            num_threads=10,\n",
    "            batch_size=50000,\n",
    "            multitask=False\n",
    "        )\n",
    "        for key in candidate_dfs\n",
    "    })"
   ]
  },
  {
   "cell_type": "code",
   "execution_count": 12,
   "metadata": {
    "ExecuteTime": {
     "end_time": "2019-04-29T03:30:17.596435Z",
     "start_time": "2019-04-29T03:30:15.799261Z"
    }
   },
   "outputs": [],
   "source": [
    "# Save the label matricies to a file for future loading/error analysis\n",
    "if not quick_load:\n",
    "    (\n",
    "        label_matricies['train']\n",
    "        .sort_values(\"candidate_id\")\n",
    "        .to_csv(\"data/train_sparse_matrix.tsv.xz\", sep=\"\\t\", index=False)\n",
    "    )\n",
    "    (\n",
    "        label_matricies['dev']\n",
    "        .sort_values(\"candidate_id\")\n",
    "        .to_csv(\"data/dev_sparse_matrix.tsv.xz\", sep=\"\\t\", index=False)\n",
    "    )\n",
    "    (\n",
    "        label_matricies['test']\n",
    "        .sort_values(\"candidate_id\")\n",
    "        .to_csv(\"data/test_sparse_matrix.tsv.xz\", sep=\"\\t\", index=False)\n",
    "    )\n",
    "# Quick load the label matricies\n",
    "else:\n",
    "    label_destinations = {\n",
    "        'train':\"data/train_sparse_matrix.tsv.xz\",\n",
    "        'dev':\"data/dev_sparse_matrix.tsv.xz\",\n",
    "        'test':\"data/test_sparse_matrix.tsv.xz\"\n",
    "    }\n",
    "    label_matricies = {\n",
    "        key:pd.read_table(label_destinations[key]).to_sparse()\n",
    "        for key in label_destinations\n",
    "    }"
   ]
  },
  {
   "cell_type": "code",
   "execution_count": 13,
   "metadata": {
    "ExecuteTime": {
     "end_time": "2019-04-29T03:30:20.316823Z",
     "start_time": "2019-04-29T03:30:17.598251Z"
    },
    "scrolled": true
   },
   "outputs": [],
   "source": [
    "# Important Note Snorkel Metal uses a different coding scheme\n",
    "# than the label functions output. (2 for negative instead of -1).\n",
    "# This step corrects this problem by converting -1s to 2\n",
    "\n",
    "correct_L = plusminus_to_categorical(\n",
    "    label_matricies['train']\n",
    "    .sort_values(\"candidate_id\")\n",
    "    .drop(\"candidate_id\", axis=1)\n",
    "    .to_coo()\n",
    "    .toarray()\n",
    "    .astype(int)\n",
    ")\n",
    "\n",
    "correct_L_dev = plusminus_to_categorical(\n",
    "    label_matricies['dev']\n",
    "    .sort_values(\"candidate_id\")\n",
    "    .drop(\"candidate_id\", axis=1)\n",
    "    .to_coo()\n",
    "    .toarray()\n",
    "    .astype(int)\n",
    ")\n",
    "\n",
    "correct_L_test = plusminus_to_categorical(\n",
    "    label_matricies['test']\n",
    "    .sort_values(\"candidate_id\")\n",
    "    .drop(\"candidate_id\", axis=1)\n",
    "    .to_coo()\n",
    "    .toarray()\n",
    "    .astype(int)\n",
    ")"
   ]
  },
  {
   "cell_type": "code",
   "execution_count": 14,
   "metadata": {
    "ExecuteTime": {
     "end_time": "2019-04-29T03:30:23.753830Z",
     "start_time": "2019-04-29T03:30:20.318279Z"
    }
   },
   "outputs": [
    {
     "data": {
      "text/html": [
       "<div>\n",
       "<style scoped>\n",
       "    .dataframe tbody tr th:only-of-type {\n",
       "        vertical-align: middle;\n",
       "    }\n",
       "\n",
       "    .dataframe tbody tr th {\n",
       "        vertical-align: top;\n",
       "    }\n",
       "\n",
       "    .dataframe thead th {\n",
       "        text-align: right;\n",
       "    }\n",
       "</style>\n",
       "<table border=\"1\" class=\"dataframe\">\n",
       "  <thead>\n",
       "    <tr style=\"text-align: right;\">\n",
       "      <th></th>\n",
       "      <th>j</th>\n",
       "      <th>Polarity</th>\n",
       "      <th>Coverage</th>\n",
       "      <th>Overlaps</th>\n",
       "      <th>Conflicts</th>\n",
       "    </tr>\n",
       "  </thead>\n",
       "  <tbody>\n",
       "    <tr>\n",
       "      <th>LF_HETNET_DRUGBANK</th>\n",
       "      <td>0</td>\n",
       "      <td>1</td>\n",
       "      <td>0.104325</td>\n",
       "      <td>0.104325</td>\n",
       "      <td>0.104281</td>\n",
       "    </tr>\n",
       "    <tr>\n",
       "      <th>LF_HETNET_DRUGCENTRAL</th>\n",
       "      <td>1</td>\n",
       "      <td>1</td>\n",
       "      <td>0.044846</td>\n",
       "      <td>0.044846</td>\n",
       "      <td>0.044815</td>\n",
       "    </tr>\n",
       "    <tr>\n",
       "      <th>LF_HETNET_ChEMBL</th>\n",
       "      <td>2</td>\n",
       "      <td>1</td>\n",
       "      <td>0.042745</td>\n",
       "      <td>0.042745</td>\n",
       "      <td>0.042714</td>\n",
       "    </tr>\n",
       "    <tr>\n",
       "      <th>LF_HETNET_BINDINGDB</th>\n",
       "      <td>3</td>\n",
       "      <td>1</td>\n",
       "      <td>0.004816</td>\n",
       "      <td>0.004816</td>\n",
       "      <td>0.004813</td>\n",
       "    </tr>\n",
       "    <tr>\n",
       "      <th>LF_HETNET_PDSP_KI</th>\n",
       "      <td>4</td>\n",
       "      <td>1</td>\n",
       "      <td>0.005022</td>\n",
       "      <td>0.005022</td>\n",
       "      <td>0.005014</td>\n",
       "    </tr>\n",
       "    <tr>\n",
       "      <th>LF_HETNET_US_PATENT</th>\n",
       "      <td>5</td>\n",
       "      <td>1</td>\n",
       "      <td>0.000188</td>\n",
       "      <td>0.000188</td>\n",
       "      <td>0.000188</td>\n",
       "    </tr>\n",
       "    <tr>\n",
       "      <th>LF_HETNET_PUBCHEM</th>\n",
       "      <td>6</td>\n",
       "      <td>1</td>\n",
       "      <td>0.005720</td>\n",
       "      <td>0.005720</td>\n",
       "      <td>0.005718</td>\n",
       "    </tr>\n",
       "    <tr>\n",
       "      <th>LF_HETNET_CG_ABSENT</th>\n",
       "      <td>7</td>\n",
       "      <td>2</td>\n",
       "      <td>0.889947</td>\n",
       "      <td>0.889947</td>\n",
       "      <td>0.857888</td>\n",
       "    </tr>\n",
       "    <tr>\n",
       "      <th>LF_CG_CHECK_GENE_TAG</th>\n",
       "      <td>8</td>\n",
       "      <td>2</td>\n",
       "      <td>0.255408</td>\n",
       "      <td>0.255408</td>\n",
       "      <td>0.246689</td>\n",
       "    </tr>\n",
       "    <tr>\n",
       "      <th>LF_CG_BINDING</th>\n",
       "      <td>9</td>\n",
       "      <td>1</td>\n",
       "      <td>0.064405</td>\n",
       "      <td>0.064405</td>\n",
       "      <td>0.064402</td>\n",
       "    </tr>\n",
       "    <tr>\n",
       "      <th>LF_CG_WEAK_BINDING</th>\n",
       "      <td>10</td>\n",
       "      <td>1</td>\n",
       "      <td>0.014486</td>\n",
       "      <td>0.014486</td>\n",
       "      <td>0.014480</td>\n",
       "    </tr>\n",
       "    <tr>\n",
       "      <th>LF_CG_GENE_RECEIVERS</th>\n",
       "      <td>11</td>\n",
       "      <td>1</td>\n",
       "      <td>0.106147</td>\n",
       "      <td>0.106147</td>\n",
       "      <td>0.106111</td>\n",
       "    </tr>\n",
       "    <tr>\n",
       "      <th>LF_CG_ASE_SUFFIX</th>\n",
       "      <td>12</td>\n",
       "      <td>1</td>\n",
       "      <td>0.058677</td>\n",
       "      <td>0.058677</td>\n",
       "      <td>0.058677</td>\n",
       "    </tr>\n",
       "    <tr>\n",
       "      <th>LF_CG_IN_SERIES</th>\n",
       "      <td>13</td>\n",
       "      <td>2</td>\n",
       "      <td>0.107537</td>\n",
       "      <td>0.107537</td>\n",
       "      <td>0.104263</td>\n",
       "    </tr>\n",
       "    <tr>\n",
       "      <th>LF_CG_ANTIBODY</th>\n",
       "      <td>14</td>\n",
       "      <td>1</td>\n",
       "      <td>0.004328</td>\n",
       "      <td>0.004328</td>\n",
       "      <td>0.004328</td>\n",
       "    </tr>\n",
       "    <tr>\n",
       "      <th>LF_CG_METHOD_DESC</th>\n",
       "      <td>15</td>\n",
       "      <td>2</td>\n",
       "      <td>0.089700</td>\n",
       "      <td>0.089700</td>\n",
       "      <td>0.086764</td>\n",
       "    </tr>\n",
       "    <tr>\n",
       "      <th>LF_CG_NO_CONCLUSION</th>\n",
       "      <td>16</td>\n",
       "      <td>2</td>\n",
       "      <td>0.727828</td>\n",
       "      <td>0.727828</td>\n",
       "      <td>0.695768</td>\n",
       "    </tr>\n",
       "    <tr>\n",
       "      <th>LF_CG_CONCLUSION</th>\n",
       "      <td>17</td>\n",
       "      <td>1</td>\n",
       "      <td>0.272172</td>\n",
       "      <td>0.272172</td>\n",
       "      <td>0.272126</td>\n",
       "    </tr>\n",
       "    <tr>\n",
       "      <th>LF_CG_DISTANCE_SHORT</th>\n",
       "      <td>18</td>\n",
       "      <td>2</td>\n",
       "      <td>0.217798</td>\n",
       "      <td>0.217798</td>\n",
       "      <td>0.186355</td>\n",
       "    </tr>\n",
       "    <tr>\n",
       "      <th>LF_CG_DISTANCE_LONG</th>\n",
       "      <td>19</td>\n",
       "      <td>2</td>\n",
       "      <td>0.041206</td>\n",
       "      <td>0.041206</td>\n",
       "      <td>0.040590</td>\n",
       "    </tr>\n",
       "    <tr>\n",
       "      <th>LF_CG_ALLOWED_DISTANCE</th>\n",
       "      <td>20</td>\n",
       "      <td>1</td>\n",
       "      <td>0.481811</td>\n",
       "      <td>0.481811</td>\n",
       "      <td>0.481780</td>\n",
       "    </tr>\n",
       "    <tr>\n",
       "      <th>LF_CG_NO_VERB</th>\n",
       "      <td>21</td>\n",
       "      <td>2</td>\n",
       "      <td>0.075121</td>\n",
       "      <td>0.075121</td>\n",
       "      <td>0.070870</td>\n",
       "    </tr>\n",
       "    <tr>\n",
       "      <th>LF_CG_BICLUSTER_BINDS</th>\n",
       "      <td>22</td>\n",
       "      <td>1</td>\n",
       "      <td>0.095335</td>\n",
       "      <td>0.095335</td>\n",
       "      <td>0.095325</td>\n",
       "    </tr>\n",
       "    <tr>\n",
       "      <th>LF_CG_BICLUSTER_AGONISM</th>\n",
       "      <td>23</td>\n",
       "      <td>1</td>\n",
       "      <td>0.051180</td>\n",
       "      <td>0.051180</td>\n",
       "      <td>0.051172</td>\n",
       "    </tr>\n",
       "    <tr>\n",
       "      <th>LF_CG_BICLUSTER_ANTAGONISM</th>\n",
       "      <td>24</td>\n",
       "      <td>1</td>\n",
       "      <td>0.047733</td>\n",
       "      <td>0.047733</td>\n",
       "      <td>0.047723</td>\n",
       "    </tr>\n",
       "    <tr>\n",
       "      <th>LF_CG_BICLUSTER_INC_EXPRESSION</th>\n",
       "      <td>25</td>\n",
       "      <td>1</td>\n",
       "      <td>0.079512</td>\n",
       "      <td>0.079512</td>\n",
       "      <td>0.079509</td>\n",
       "    </tr>\n",
       "    <tr>\n",
       "      <th>LF_CG_BICLUSTER_DEC_EXPRESSION</th>\n",
       "      <td>26</td>\n",
       "      <td>1</td>\n",
       "      <td>0.100852</td>\n",
       "      <td>0.100852</td>\n",
       "      <td>0.100842</td>\n",
       "    </tr>\n",
       "    <tr>\n",
       "      <th>LF_CG_BICLUSTER_AFF_EXPRESSION</th>\n",
       "      <td>27</td>\n",
       "      <td>1</td>\n",
       "      <td>0.164213</td>\n",
       "      <td>0.164213</td>\n",
       "      <td>0.164208</td>\n",
       "    </tr>\n",
       "    <tr>\n",
       "      <th>LF_CG_BICLUSTER_INHIBITS</th>\n",
       "      <td>28</td>\n",
       "      <td>1</td>\n",
       "      <td>0.083683</td>\n",
       "      <td>0.083683</td>\n",
       "      <td>0.083670</td>\n",
       "    </tr>\n",
       "    <tr>\n",
       "      <th>LF_DG_IS_BIOMARKER</th>\n",
       "      <td>29</td>\n",
       "      <td>1</td>\n",
       "      <td>0.128516</td>\n",
       "      <td>0.128516</td>\n",
       "      <td>0.128501</td>\n",
       "    </tr>\n",
       "    <tr>\n",
       "      <th>...</th>\n",
       "      <td>...</td>\n",
       "      <td>...</td>\n",
       "      <td>...</td>\n",
       "      <td>...</td>\n",
       "      <td>...</td>\n",
       "    </tr>\n",
       "    <tr>\n",
       "      <th>LF_CD_BICLUSTER_DISEASE_ROLE</th>\n",
       "      <td>79</td>\n",
       "      <td>1</td>\n",
       "      <td>0.060154</td>\n",
       "      <td>0.060154</td>\n",
       "      <td>0.060154</td>\n",
       "    </tr>\n",
       "    <tr>\n",
       "      <th>LF_CD_BICLUSTER_BIOMARKERS</th>\n",
       "      <td>80</td>\n",
       "      <td>1</td>\n",
       "      <td>0.051662</td>\n",
       "      <td>0.051662</td>\n",
       "      <td>0.051662</td>\n",
       "    </tr>\n",
       "    <tr>\n",
       "      <th>LF_GiG_BINDING_IDENTIFICATIONS</th>\n",
       "      <td>81</td>\n",
       "      <td>1</td>\n",
       "      <td>0.057924</td>\n",
       "      <td>0.057924</td>\n",
       "      <td>0.057921</td>\n",
       "    </tr>\n",
       "    <tr>\n",
       "      <th>LF_GiG_CELL_IDENTIFICATIONS</th>\n",
       "      <td>82</td>\n",
       "      <td>2</td>\n",
       "      <td>0.349506</td>\n",
       "      <td>0.349506</td>\n",
       "      <td>0.336951</td>\n",
       "    </tr>\n",
       "    <tr>\n",
       "      <th>LF_GiG_COMPOUND_IDENTIFICATIONS</th>\n",
       "      <td>83</td>\n",
       "      <td>2</td>\n",
       "      <td>0.036179</td>\n",
       "      <td>0.036179</td>\n",
       "      <td>0.035986</td>\n",
       "    </tr>\n",
       "    <tr>\n",
       "      <th>LF_GiG_UPREGULATES</th>\n",
       "      <td>84</td>\n",
       "      <td>2</td>\n",
       "      <td>0.015646</td>\n",
       "      <td>0.015646</td>\n",
       "      <td>0.015553</td>\n",
       "    </tr>\n",
       "    <tr>\n",
       "      <th>LF_GiG_DOWNREGULATES</th>\n",
       "      <td>85</td>\n",
       "      <td>2</td>\n",
       "      <td>0.014243</td>\n",
       "      <td>0.014243</td>\n",
       "      <td>0.014153</td>\n",
       "    </tr>\n",
       "    <tr>\n",
       "      <th>LF_GiG_REGULATION</th>\n",
       "      <td>86</td>\n",
       "      <td>2</td>\n",
       "      <td>0.033013</td>\n",
       "      <td>0.033013</td>\n",
       "      <td>0.032799</td>\n",
       "    </tr>\n",
       "    <tr>\n",
       "      <th>LF_GiG_ASSOCIATION</th>\n",
       "      <td>87</td>\n",
       "      <td>2</td>\n",
       "      <td>0.018886</td>\n",
       "      <td>0.018886</td>\n",
       "      <td>0.018853</td>\n",
       "    </tr>\n",
       "    <tr>\n",
       "      <th>LF_GiG_BOUND_IDENTIFIERS</th>\n",
       "      <td>88</td>\n",
       "      <td>1</td>\n",
       "      <td>0.076661</td>\n",
       "      <td>0.076661</td>\n",
       "      <td>0.076632</td>\n",
       "    </tr>\n",
       "    <tr>\n",
       "      <th>LF_GiG_GENE_IDENTIFIERS</th>\n",
       "      <td>89</td>\n",
       "      <td>1</td>\n",
       "      <td>0.068723</td>\n",
       "      <td>0.068723</td>\n",
       "      <td>0.068702</td>\n",
       "    </tr>\n",
       "    <tr>\n",
       "      <th>LF_GiG_GENE_ADJECTIVE</th>\n",
       "      <td>90</td>\n",
       "      <td>2</td>\n",
       "      <td>0.008677</td>\n",
       "      <td>0.008677</td>\n",
       "      <td>0.008515</td>\n",
       "    </tr>\n",
       "    <tr>\n",
       "      <th>LF_GiG_DIAGNOSIS_IDENTIFIERS</th>\n",
       "      <td>91</td>\n",
       "      <td>2</td>\n",
       "      <td>0.000438</td>\n",
       "      <td>0.000438</td>\n",
       "      <td>0.000438</td>\n",
       "    </tr>\n",
       "    <tr>\n",
       "      <th>LF_GiG_METHOD_DESC</th>\n",
       "      <td>92</td>\n",
       "      <td>2</td>\n",
       "      <td>0.022315</td>\n",
       "      <td>0.022315</td>\n",
       "      <td>0.021454</td>\n",
       "    </tr>\n",
       "    <tr>\n",
       "      <th>LF_GiG_PARENTHESIS</th>\n",
       "      <td>93</td>\n",
       "      <td>2</td>\n",
       "      <td>0.017409</td>\n",
       "      <td>0.017409</td>\n",
       "      <td>0.011103</td>\n",
       "    </tr>\n",
       "    <tr>\n",
       "      <th>LF_GG_IN_SERIES</th>\n",
       "      <td>94</td>\n",
       "      <td>2</td>\n",
       "      <td>0.107537</td>\n",
       "      <td>0.107537</td>\n",
       "      <td>0.104263</td>\n",
       "    </tr>\n",
       "    <tr>\n",
       "      <th>LF_GiG_NO_CONCLUSION</th>\n",
       "      <td>95</td>\n",
       "      <td>2</td>\n",
       "      <td>0.869878</td>\n",
       "      <td>0.869878</td>\n",
       "      <td>0.837911</td>\n",
       "    </tr>\n",
       "    <tr>\n",
       "      <th>LF_GiG_CONCLUSION</th>\n",
       "      <td>96</td>\n",
       "      <td>[1, 2]</td>\n",
       "      <td>0.130122</td>\n",
       "      <td>0.130122</td>\n",
       "      <td>0.129983</td>\n",
       "    </tr>\n",
       "    <tr>\n",
       "      <th>LF_GG_DISTANCE_SHORT</th>\n",
       "      <td>97</td>\n",
       "      <td>2</td>\n",
       "      <td>0.118410</td>\n",
       "      <td>0.118410</td>\n",
       "      <td>0.086967</td>\n",
       "    </tr>\n",
       "    <tr>\n",
       "      <th>LF_GG_DISTANCE_LONG</th>\n",
       "      <td>98</td>\n",
       "      <td>2</td>\n",
       "      <td>0.041206</td>\n",
       "      <td>0.041206</td>\n",
       "      <td>0.040590</td>\n",
       "    </tr>\n",
       "    <tr>\n",
       "      <th>LF_GG_ALLOWED_DISTANCE</th>\n",
       "      <td>99</td>\n",
       "      <td>1</td>\n",
       "      <td>0.840384</td>\n",
       "      <td>0.840384</td>\n",
       "      <td>0.840337</td>\n",
       "    </tr>\n",
       "    <tr>\n",
       "      <th>LF_GG_NO_VERB</th>\n",
       "      <td>100</td>\n",
       "      <td>2</td>\n",
       "      <td>0.083778</td>\n",
       "      <td>0.083778</td>\n",
       "      <td>0.078978</td>\n",
       "    </tr>\n",
       "    <tr>\n",
       "      <th>LF_GG_BICLUSTER_BINDING</th>\n",
       "      <td>101</td>\n",
       "      <td>1</td>\n",
       "      <td>0.007788</td>\n",
       "      <td>0.007788</td>\n",
       "      <td>0.007788</td>\n",
       "    </tr>\n",
       "    <tr>\n",
       "      <th>LF_GG_BICLUSTER_ENHANCES</th>\n",
       "      <td>102</td>\n",
       "      <td>1</td>\n",
       "      <td>0.005272</td>\n",
       "      <td>0.005272</td>\n",
       "      <td>0.005272</td>\n",
       "    </tr>\n",
       "    <tr>\n",
       "      <th>LF_GG_BICLUSTER_ACTIVATES</th>\n",
       "      <td>103</td>\n",
       "      <td>1</td>\n",
       "      <td>0.007321</td>\n",
       "      <td>0.007321</td>\n",
       "      <td>0.007321</td>\n",
       "    </tr>\n",
       "    <tr>\n",
       "      <th>LF_GG_BICLUSTER_AFFECTS_EXPRESSION</th>\n",
       "      <td>104</td>\n",
       "      <td>1</td>\n",
       "      <td>0.005589</td>\n",
       "      <td>0.005589</td>\n",
       "      <td>0.005589</td>\n",
       "    </tr>\n",
       "    <tr>\n",
       "      <th>LF_GG_BICLUSTER_INCREASES_EXPRESSION</th>\n",
       "      <td>105</td>\n",
       "      <td>2</td>\n",
       "      <td>0.006940</td>\n",
       "      <td>0.006940</td>\n",
       "      <td>0.006940</td>\n",
       "    </tr>\n",
       "    <tr>\n",
       "      <th>LF_GG_BICLUSTER_SIGNALING</th>\n",
       "      <td>106</td>\n",
       "      <td>1</td>\n",
       "      <td>0.007319</td>\n",
       "      <td>0.007319</td>\n",
       "      <td>0.007319</td>\n",
       "    </tr>\n",
       "    <tr>\n",
       "      <th>LF_GG_BICLUSTER_IDENTICAL_PROTEIN</th>\n",
       "      <td>107</td>\n",
       "      <td>2</td>\n",
       "      <td>0.006342</td>\n",
       "      <td>0.006342</td>\n",
       "      <td>0.006331</td>\n",
       "    </tr>\n",
       "    <tr>\n",
       "      <th>LF_GG_BICLUSTER_CELL_PRODUCTION</th>\n",
       "      <td>108</td>\n",
       "      <td>2</td>\n",
       "      <td>0.007156</td>\n",
       "      <td>0.007156</td>\n",
       "      <td>0.007151</td>\n",
       "    </tr>\n",
       "  </tbody>\n",
       "</table>\n",
       "<p>109 rows × 5 columns</p>\n",
       "</div>"
      ],
      "text/plain": [
       "                                        j Polarity  Coverage  Overlaps  \\\n",
       "LF_HETNET_DRUGBANK                      0        1  0.104325  0.104325   \n",
       "LF_HETNET_DRUGCENTRAL                   1        1  0.044846  0.044846   \n",
       "LF_HETNET_ChEMBL                        2        1  0.042745  0.042745   \n",
       "LF_HETNET_BINDINGDB                     3        1  0.004816  0.004816   \n",
       "LF_HETNET_PDSP_KI                       4        1  0.005022  0.005022   \n",
       "LF_HETNET_US_PATENT                     5        1  0.000188  0.000188   \n",
       "LF_HETNET_PUBCHEM                       6        1  0.005720  0.005720   \n",
       "LF_HETNET_CG_ABSENT                     7        2  0.889947  0.889947   \n",
       "LF_CG_CHECK_GENE_TAG                    8        2  0.255408  0.255408   \n",
       "LF_CG_BINDING                           9        1  0.064405  0.064405   \n",
       "LF_CG_WEAK_BINDING                     10        1  0.014486  0.014486   \n",
       "LF_CG_GENE_RECEIVERS                   11        1  0.106147  0.106147   \n",
       "LF_CG_ASE_SUFFIX                       12        1  0.058677  0.058677   \n",
       "LF_CG_IN_SERIES                        13        2  0.107537  0.107537   \n",
       "LF_CG_ANTIBODY                         14        1  0.004328  0.004328   \n",
       "LF_CG_METHOD_DESC                      15        2  0.089700  0.089700   \n",
       "LF_CG_NO_CONCLUSION                    16        2  0.727828  0.727828   \n",
       "LF_CG_CONCLUSION                       17        1  0.272172  0.272172   \n",
       "LF_CG_DISTANCE_SHORT                   18        2  0.217798  0.217798   \n",
       "LF_CG_DISTANCE_LONG                    19        2  0.041206  0.041206   \n",
       "LF_CG_ALLOWED_DISTANCE                 20        1  0.481811  0.481811   \n",
       "LF_CG_NO_VERB                          21        2  0.075121  0.075121   \n",
       "LF_CG_BICLUSTER_BINDS                  22        1  0.095335  0.095335   \n",
       "LF_CG_BICLUSTER_AGONISM                23        1  0.051180  0.051180   \n",
       "LF_CG_BICLUSTER_ANTAGONISM             24        1  0.047733  0.047733   \n",
       "LF_CG_BICLUSTER_INC_EXPRESSION         25        1  0.079512  0.079512   \n",
       "LF_CG_BICLUSTER_DEC_EXPRESSION         26        1  0.100852  0.100852   \n",
       "LF_CG_BICLUSTER_AFF_EXPRESSION         27        1  0.164213  0.164213   \n",
       "LF_CG_BICLUSTER_INHIBITS               28        1  0.083683  0.083683   \n",
       "LF_DG_IS_BIOMARKER                     29        1  0.128516  0.128516   \n",
       "...                                   ...      ...       ...       ...   \n",
       "LF_CD_BICLUSTER_DISEASE_ROLE           79        1  0.060154  0.060154   \n",
       "LF_CD_BICLUSTER_BIOMARKERS             80        1  0.051662  0.051662   \n",
       "LF_GiG_BINDING_IDENTIFICATIONS         81        1  0.057924  0.057924   \n",
       "LF_GiG_CELL_IDENTIFICATIONS            82        2  0.349506  0.349506   \n",
       "LF_GiG_COMPOUND_IDENTIFICATIONS        83        2  0.036179  0.036179   \n",
       "LF_GiG_UPREGULATES                     84        2  0.015646  0.015646   \n",
       "LF_GiG_DOWNREGULATES                   85        2  0.014243  0.014243   \n",
       "LF_GiG_REGULATION                      86        2  0.033013  0.033013   \n",
       "LF_GiG_ASSOCIATION                     87        2  0.018886  0.018886   \n",
       "LF_GiG_BOUND_IDENTIFIERS               88        1  0.076661  0.076661   \n",
       "LF_GiG_GENE_IDENTIFIERS                89        1  0.068723  0.068723   \n",
       "LF_GiG_GENE_ADJECTIVE                  90        2  0.008677  0.008677   \n",
       "LF_GiG_DIAGNOSIS_IDENTIFIERS           91        2  0.000438  0.000438   \n",
       "LF_GiG_METHOD_DESC                     92        2  0.022315  0.022315   \n",
       "LF_GiG_PARENTHESIS                     93        2  0.017409  0.017409   \n",
       "LF_GG_IN_SERIES                        94        2  0.107537  0.107537   \n",
       "LF_GiG_NO_CONCLUSION                   95        2  0.869878  0.869878   \n",
       "LF_GiG_CONCLUSION                      96   [1, 2]  0.130122  0.130122   \n",
       "LF_GG_DISTANCE_SHORT                   97        2  0.118410  0.118410   \n",
       "LF_GG_DISTANCE_LONG                    98        2  0.041206  0.041206   \n",
       "LF_GG_ALLOWED_DISTANCE                 99        1  0.840384  0.840384   \n",
       "LF_GG_NO_VERB                         100        2  0.083778  0.083778   \n",
       "LF_GG_BICLUSTER_BINDING               101        1  0.007788  0.007788   \n",
       "LF_GG_BICLUSTER_ENHANCES              102        1  0.005272  0.005272   \n",
       "LF_GG_BICLUSTER_ACTIVATES             103        1  0.007321  0.007321   \n",
       "LF_GG_BICLUSTER_AFFECTS_EXPRESSION    104        1  0.005589  0.005589   \n",
       "LF_GG_BICLUSTER_INCREASES_EXPRESSION  105        2  0.006940  0.006940   \n",
       "LF_GG_BICLUSTER_SIGNALING             106        1  0.007319  0.007319   \n",
       "LF_GG_BICLUSTER_IDENTICAL_PROTEIN     107        2  0.006342  0.006342   \n",
       "LF_GG_BICLUSTER_CELL_PRODUCTION       108        2  0.007156  0.007156   \n",
       "\n",
       "                                      Conflicts  \n",
       "LF_HETNET_DRUGBANK                     0.104281  \n",
       "LF_HETNET_DRUGCENTRAL                  0.044815  \n",
       "LF_HETNET_ChEMBL                       0.042714  \n",
       "LF_HETNET_BINDINGDB                    0.004813  \n",
       "LF_HETNET_PDSP_KI                      0.005014  \n",
       "LF_HETNET_US_PATENT                    0.000188  \n",
       "LF_HETNET_PUBCHEM                      0.005718  \n",
       "LF_HETNET_CG_ABSENT                    0.857888  \n",
       "LF_CG_CHECK_GENE_TAG                   0.246689  \n",
       "LF_CG_BINDING                          0.064402  \n",
       "LF_CG_WEAK_BINDING                     0.014480  \n",
       "LF_CG_GENE_RECEIVERS                   0.106111  \n",
       "LF_CG_ASE_SUFFIX                       0.058677  \n",
       "LF_CG_IN_SERIES                        0.104263  \n",
       "LF_CG_ANTIBODY                         0.004328  \n",
       "LF_CG_METHOD_DESC                      0.086764  \n",
       "LF_CG_NO_CONCLUSION                    0.695768  \n",
       "LF_CG_CONCLUSION                       0.272126  \n",
       "LF_CG_DISTANCE_SHORT                   0.186355  \n",
       "LF_CG_DISTANCE_LONG                    0.040590  \n",
       "LF_CG_ALLOWED_DISTANCE                 0.481780  \n",
       "LF_CG_NO_VERB                          0.070870  \n",
       "LF_CG_BICLUSTER_BINDS                  0.095325  \n",
       "LF_CG_BICLUSTER_AGONISM                0.051172  \n",
       "LF_CG_BICLUSTER_ANTAGONISM             0.047723  \n",
       "LF_CG_BICLUSTER_INC_EXPRESSION         0.079509  \n",
       "LF_CG_BICLUSTER_DEC_EXPRESSION         0.100842  \n",
       "LF_CG_BICLUSTER_AFF_EXPRESSION         0.164208  \n",
       "LF_CG_BICLUSTER_INHIBITS               0.083670  \n",
       "LF_DG_IS_BIOMARKER                     0.128501  \n",
       "...                                         ...  \n",
       "LF_CD_BICLUSTER_DISEASE_ROLE           0.060154  \n",
       "LF_CD_BICLUSTER_BIOMARKERS             0.051662  \n",
       "LF_GiG_BINDING_IDENTIFICATIONS         0.057921  \n",
       "LF_GiG_CELL_IDENTIFICATIONS            0.336951  \n",
       "LF_GiG_COMPOUND_IDENTIFICATIONS        0.035986  \n",
       "LF_GiG_UPREGULATES                     0.015553  \n",
       "LF_GiG_DOWNREGULATES                   0.014153  \n",
       "LF_GiG_REGULATION                      0.032799  \n",
       "LF_GiG_ASSOCIATION                     0.018853  \n",
       "LF_GiG_BOUND_IDENTIFIERS               0.076632  \n",
       "LF_GiG_GENE_IDENTIFIERS                0.068702  \n",
       "LF_GiG_GENE_ADJECTIVE                  0.008515  \n",
       "LF_GiG_DIAGNOSIS_IDENTIFIERS           0.000438  \n",
       "LF_GiG_METHOD_DESC                     0.021454  \n",
       "LF_GiG_PARENTHESIS                     0.011103  \n",
       "LF_GG_IN_SERIES                        0.104263  \n",
       "LF_GiG_NO_CONCLUSION                   0.837911  \n",
       "LF_GiG_CONCLUSION                      0.129983  \n",
       "LF_GG_DISTANCE_SHORT                   0.086967  \n",
       "LF_GG_DISTANCE_LONG                    0.040590  \n",
       "LF_GG_ALLOWED_DISTANCE                 0.840337  \n",
       "LF_GG_NO_VERB                          0.078978  \n",
       "LF_GG_BICLUSTER_BINDING                0.007788  \n",
       "LF_GG_BICLUSTER_ENHANCES               0.005272  \n",
       "LF_GG_BICLUSTER_ACTIVATES              0.007321  \n",
       "LF_GG_BICLUSTER_AFFECTS_EXPRESSION     0.005589  \n",
       "LF_GG_BICLUSTER_INCREASES_EXPRESSION   0.006940  \n",
       "LF_GG_BICLUSTER_SIGNALING              0.007319  \n",
       "LF_GG_BICLUSTER_IDENTICAL_PROTEIN      0.006331  \n",
       "LF_GG_BICLUSTER_CELL_PRODUCTION        0.007151  \n",
       "\n",
       "[109 rows x 5 columns]"
      ]
     },
     "execution_count": 14,
     "metadata": {},
     "output_type": "execute_result"
    }
   ],
   "source": [
    "lf_summary(\n",
    "    sparse.coo_matrix(\n",
    "        correct_L\n",
    "    )\n",
    "    .tocsr(), \n",
    "    lf_names=lf_names\n",
    ")"
   ]
  },
  {
   "cell_type": "code",
   "execution_count": 15,
   "metadata": {
    "ExecuteTime": {
     "end_time": "2019-04-29T03:30:23.860183Z",
     "start_time": "2019-04-29T03:30:23.755396Z"
    },
    "scrolled": false
   },
   "outputs": [
    {
     "name": "stderr",
     "output_type": "stream",
     "text": [
      "/home/danich1/Documents/metal/metal/analysis.py:131: RuntimeWarning: invalid value encountered in true_divide\n",
      "  return 0.5 * (X.sum(axis=0) / (L != 0).sum(axis=0) + 1)\n"
     ]
    },
    {
     "data": {
      "text/html": [
       "<div>\n",
       "<style scoped>\n",
       "    .dataframe tbody tr th:only-of-type {\n",
       "        vertical-align: middle;\n",
       "    }\n",
       "\n",
       "    .dataframe tbody tr th {\n",
       "        vertical-align: top;\n",
       "    }\n",
       "\n",
       "    .dataframe thead th {\n",
       "        text-align: right;\n",
       "    }\n",
       "</style>\n",
       "<table border=\"1\" class=\"dataframe\">\n",
       "  <thead>\n",
       "    <tr style=\"text-align: right;\">\n",
       "      <th></th>\n",
       "      <th>j</th>\n",
       "      <th>Polarity</th>\n",
       "      <th>Coverage</th>\n",
       "      <th>Overlaps</th>\n",
       "      <th>Conflicts</th>\n",
       "      <th>Correct</th>\n",
       "      <th>Incorrect</th>\n",
       "      <th>Emp. Acc.</th>\n",
       "    </tr>\n",
       "  </thead>\n",
       "  <tbody>\n",
       "    <tr>\n",
       "      <th>LF_HETNET_DRUGBANK</th>\n",
       "      <td>0</td>\n",
       "      <td>1</td>\n",
       "      <td>0.060</td>\n",
       "      <td>0.060</td>\n",
       "      <td>0.060</td>\n",
       "      <td>6</td>\n",
       "      <td>24</td>\n",
       "      <td>0.200000</td>\n",
       "    </tr>\n",
       "    <tr>\n",
       "      <th>LF_HETNET_DRUGCENTRAL</th>\n",
       "      <td>1</td>\n",
       "      <td>1</td>\n",
       "      <td>0.006</td>\n",
       "      <td>0.006</td>\n",
       "      <td>0.006</td>\n",
       "      <td>1</td>\n",
       "      <td>2</td>\n",
       "      <td>0.333333</td>\n",
       "    </tr>\n",
       "    <tr>\n",
       "      <th>LF_HETNET_ChEMBL</th>\n",
       "      <td>2</td>\n",
       "      <td>1</td>\n",
       "      <td>0.032</td>\n",
       "      <td>0.032</td>\n",
       "      <td>0.032</td>\n",
       "      <td>3</td>\n",
       "      <td>13</td>\n",
       "      <td>0.187500</td>\n",
       "    </tr>\n",
       "    <tr>\n",
       "      <th>LF_HETNET_BINDINGDB</th>\n",
       "      <td>3</td>\n",
       "      <td>1</td>\n",
       "      <td>0.008</td>\n",
       "      <td>0.008</td>\n",
       "      <td>0.008</td>\n",
       "      <td>1</td>\n",
       "      <td>3</td>\n",
       "      <td>0.250000</td>\n",
       "    </tr>\n",
       "    <tr>\n",
       "      <th>LF_HETNET_PDSP_KI</th>\n",
       "      <td>4</td>\n",
       "      <td>[]</td>\n",
       "      <td>0.000</td>\n",
       "      <td>0.000</td>\n",
       "      <td>0.000</td>\n",
       "      <td>0</td>\n",
       "      <td>0</td>\n",
       "      <td>NaN</td>\n",
       "    </tr>\n",
       "    <tr>\n",
       "      <th>LF_HETNET_US_PATENT</th>\n",
       "      <td>5</td>\n",
       "      <td>[]</td>\n",
       "      <td>0.000</td>\n",
       "      <td>0.000</td>\n",
       "      <td>0.000</td>\n",
       "      <td>0</td>\n",
       "      <td>0</td>\n",
       "      <td>NaN</td>\n",
       "    </tr>\n",
       "    <tr>\n",
       "      <th>LF_HETNET_PUBCHEM</th>\n",
       "      <td>6</td>\n",
       "      <td>[]</td>\n",
       "      <td>0.000</td>\n",
       "      <td>0.000</td>\n",
       "      <td>0.000</td>\n",
       "      <td>0</td>\n",
       "      <td>0</td>\n",
       "      <td>NaN</td>\n",
       "    </tr>\n",
       "    <tr>\n",
       "      <th>LF_HETNET_CG_ABSENT</th>\n",
       "      <td>7</td>\n",
       "      <td>2</td>\n",
       "      <td>0.934</td>\n",
       "      <td>0.934</td>\n",
       "      <td>0.908</td>\n",
       "      <td>437</td>\n",
       "      <td>30</td>\n",
       "      <td>0.935760</td>\n",
       "    </tr>\n",
       "    <tr>\n",
       "      <th>LF_CG_CHECK_GENE_TAG</th>\n",
       "      <td>8</td>\n",
       "      <td>2</td>\n",
       "      <td>0.234</td>\n",
       "      <td>0.234</td>\n",
       "      <td>0.222</td>\n",
       "      <td>113</td>\n",
       "      <td>4</td>\n",
       "      <td>0.965812</td>\n",
       "    </tr>\n",
       "    <tr>\n",
       "      <th>LF_CG_BINDING</th>\n",
       "      <td>9</td>\n",
       "      <td>1</td>\n",
       "      <td>0.102</td>\n",
       "      <td>0.102</td>\n",
       "      <td>0.102</td>\n",
       "      <td>9</td>\n",
       "      <td>42</td>\n",
       "      <td>0.176471</td>\n",
       "    </tr>\n",
       "    <tr>\n",
       "      <th>LF_CG_WEAK_BINDING</th>\n",
       "      <td>10</td>\n",
       "      <td>1</td>\n",
       "      <td>0.030</td>\n",
       "      <td>0.030</td>\n",
       "      <td>0.030</td>\n",
       "      <td>1</td>\n",
       "      <td>14</td>\n",
       "      <td>0.066667</td>\n",
       "    </tr>\n",
       "    <tr>\n",
       "      <th>LF_CG_GENE_RECEIVERS</th>\n",
       "      <td>11</td>\n",
       "      <td>1</td>\n",
       "      <td>0.096</td>\n",
       "      <td>0.096</td>\n",
       "      <td>0.096</td>\n",
       "      <td>7</td>\n",
       "      <td>41</td>\n",
       "      <td>0.145833</td>\n",
       "    </tr>\n",
       "    <tr>\n",
       "      <th>LF_CG_ASE_SUFFIX</th>\n",
       "      <td>12</td>\n",
       "      <td>1</td>\n",
       "      <td>0.066</td>\n",
       "      <td>0.066</td>\n",
       "      <td>0.066</td>\n",
       "      <td>5</td>\n",
       "      <td>28</td>\n",
       "      <td>0.151515</td>\n",
       "    </tr>\n",
       "    <tr>\n",
       "      <th>LF_CG_IN_SERIES</th>\n",
       "      <td>13</td>\n",
       "      <td>2</td>\n",
       "      <td>0.176</td>\n",
       "      <td>0.176</td>\n",
       "      <td>0.172</td>\n",
       "      <td>83</td>\n",
       "      <td>5</td>\n",
       "      <td>0.943182</td>\n",
       "    </tr>\n",
       "    <tr>\n",
       "      <th>LF_CG_ANTIBODY</th>\n",
       "      <td>14</td>\n",
       "      <td>1</td>\n",
       "      <td>0.006</td>\n",
       "      <td>0.006</td>\n",
       "      <td>0.006</td>\n",
       "      <td>0</td>\n",
       "      <td>3</td>\n",
       "      <td>0.000000</td>\n",
       "    </tr>\n",
       "    <tr>\n",
       "      <th>LF_CG_METHOD_DESC</th>\n",
       "      <td>15</td>\n",
       "      <td>2</td>\n",
       "      <td>0.134</td>\n",
       "      <td>0.134</td>\n",
       "      <td>0.130</td>\n",
       "      <td>65</td>\n",
       "      <td>2</td>\n",
       "      <td>0.970149</td>\n",
       "    </tr>\n",
       "    <tr>\n",
       "      <th>LF_CG_NO_CONCLUSION</th>\n",
       "      <td>16</td>\n",
       "      <td>2</td>\n",
       "      <td>0.716</td>\n",
       "      <td>0.716</td>\n",
       "      <td>0.690</td>\n",
       "      <td>335</td>\n",
       "      <td>23</td>\n",
       "      <td>0.935754</td>\n",
       "    </tr>\n",
       "    <tr>\n",
       "      <th>LF_CG_CONCLUSION</th>\n",
       "      <td>17</td>\n",
       "      <td>1</td>\n",
       "      <td>0.284</td>\n",
       "      <td>0.284</td>\n",
       "      <td>0.284</td>\n",
       "      <td>14</td>\n",
       "      <td>128</td>\n",
       "      <td>0.098592</td>\n",
       "    </tr>\n",
       "    <tr>\n",
       "      <th>LF_CG_DISTANCE_SHORT</th>\n",
       "      <td>18</td>\n",
       "      <td>2</td>\n",
       "      <td>0.142</td>\n",
       "      <td>0.142</td>\n",
       "      <td>0.116</td>\n",
       "      <td>62</td>\n",
       "      <td>9</td>\n",
       "      <td>0.873239</td>\n",
       "    </tr>\n",
       "    <tr>\n",
       "      <th>LF_CG_DISTANCE_LONG</th>\n",
       "      <td>19</td>\n",
       "      <td>2</td>\n",
       "      <td>0.114</td>\n",
       "      <td>0.114</td>\n",
       "      <td>0.114</td>\n",
       "      <td>55</td>\n",
       "      <td>2</td>\n",
       "      <td>0.964912</td>\n",
       "    </tr>\n",
       "    <tr>\n",
       "      <th>LF_CG_ALLOWED_DISTANCE</th>\n",
       "      <td>20</td>\n",
       "      <td>1</td>\n",
       "      <td>0.510</td>\n",
       "      <td>0.510</td>\n",
       "      <td>0.510</td>\n",
       "      <td>18</td>\n",
       "      <td>237</td>\n",
       "      <td>0.070588</td>\n",
       "    </tr>\n",
       "    <tr>\n",
       "      <th>LF_CG_NO_VERB</th>\n",
       "      <td>21</td>\n",
       "      <td>2</td>\n",
       "      <td>0.060</td>\n",
       "      <td>0.060</td>\n",
       "      <td>0.058</td>\n",
       "      <td>29</td>\n",
       "      <td>1</td>\n",
       "      <td>0.966667</td>\n",
       "    </tr>\n",
       "    <tr>\n",
       "      <th>LF_CG_BICLUSTER_BINDS</th>\n",
       "      <td>22</td>\n",
       "      <td>1</td>\n",
       "      <td>0.122</td>\n",
       "      <td>0.122</td>\n",
       "      <td>0.122</td>\n",
       "      <td>8</td>\n",
       "      <td>53</td>\n",
       "      <td>0.131148</td>\n",
       "    </tr>\n",
       "    <tr>\n",
       "      <th>LF_CG_BICLUSTER_AGONISM</th>\n",
       "      <td>23</td>\n",
       "      <td>1</td>\n",
       "      <td>0.060</td>\n",
       "      <td>0.060</td>\n",
       "      <td>0.060</td>\n",
       "      <td>5</td>\n",
       "      <td>25</td>\n",
       "      <td>0.166667</td>\n",
       "    </tr>\n",
       "    <tr>\n",
       "      <th>LF_CG_BICLUSTER_ANTAGONISM</th>\n",
       "      <td>24</td>\n",
       "      <td>1</td>\n",
       "      <td>0.042</td>\n",
       "      <td>0.042</td>\n",
       "      <td>0.042</td>\n",
       "      <td>5</td>\n",
       "      <td>16</td>\n",
       "      <td>0.238095</td>\n",
       "    </tr>\n",
       "    <tr>\n",
       "      <th>LF_CG_BICLUSTER_INC_EXPRESSION</th>\n",
       "      <td>25</td>\n",
       "      <td>1</td>\n",
       "      <td>0.130</td>\n",
       "      <td>0.130</td>\n",
       "      <td>0.130</td>\n",
       "      <td>7</td>\n",
       "      <td>58</td>\n",
       "      <td>0.107692</td>\n",
       "    </tr>\n",
       "    <tr>\n",
       "      <th>LF_CG_BICLUSTER_DEC_EXPRESSION</th>\n",
       "      <td>26</td>\n",
       "      <td>1</td>\n",
       "      <td>0.130</td>\n",
       "      <td>0.130</td>\n",
       "      <td>0.130</td>\n",
       "      <td>8</td>\n",
       "      <td>57</td>\n",
       "      <td>0.123077</td>\n",
       "    </tr>\n",
       "    <tr>\n",
       "      <th>LF_CG_BICLUSTER_AFF_EXPRESSION</th>\n",
       "      <td>27</td>\n",
       "      <td>1</td>\n",
       "      <td>0.268</td>\n",
       "      <td>0.268</td>\n",
       "      <td>0.268</td>\n",
       "      <td>11</td>\n",
       "      <td>123</td>\n",
       "      <td>0.082090</td>\n",
       "    </tr>\n",
       "    <tr>\n",
       "      <th>LF_CG_BICLUSTER_INHIBITS</th>\n",
       "      <td>28</td>\n",
       "      <td>1</td>\n",
       "      <td>0.092</td>\n",
       "      <td>0.092</td>\n",
       "      <td>0.092</td>\n",
       "      <td>7</td>\n",
       "      <td>39</td>\n",
       "      <td>0.152174</td>\n",
       "    </tr>\n",
       "    <tr>\n",
       "      <th>LF_DG_IS_BIOMARKER</th>\n",
       "      <td>29</td>\n",
       "      <td>1</td>\n",
       "      <td>0.120</td>\n",
       "      <td>0.120</td>\n",
       "      <td>0.120</td>\n",
       "      <td>2</td>\n",
       "      <td>58</td>\n",
       "      <td>0.033333</td>\n",
       "    </tr>\n",
       "    <tr>\n",
       "      <th>...</th>\n",
       "      <td>...</td>\n",
       "      <td>...</td>\n",
       "      <td>...</td>\n",
       "      <td>...</td>\n",
       "      <td>...</td>\n",
       "      <td>...</td>\n",
       "      <td>...</td>\n",
       "      <td>...</td>\n",
       "    </tr>\n",
       "    <tr>\n",
       "      <th>LF_CD_BICLUSTER_DISEASE_ROLE</th>\n",
       "      <td>79</td>\n",
       "      <td>1</td>\n",
       "      <td>0.044</td>\n",
       "      <td>0.044</td>\n",
       "      <td>0.044</td>\n",
       "      <td>0</td>\n",
       "      <td>22</td>\n",
       "      <td>0.000000</td>\n",
       "    </tr>\n",
       "    <tr>\n",
       "      <th>LF_CD_BICLUSTER_BIOMARKERS</th>\n",
       "      <td>80</td>\n",
       "      <td>1</td>\n",
       "      <td>0.032</td>\n",
       "      <td>0.032</td>\n",
       "      <td>0.032</td>\n",
       "      <td>0</td>\n",
       "      <td>16</td>\n",
       "      <td>0.000000</td>\n",
       "    </tr>\n",
       "    <tr>\n",
       "      <th>LF_GiG_BINDING_IDENTIFICATIONS</th>\n",
       "      <td>81</td>\n",
       "      <td>1</td>\n",
       "      <td>0.068</td>\n",
       "      <td>0.068</td>\n",
       "      <td>0.068</td>\n",
       "      <td>9</td>\n",
       "      <td>25</td>\n",
       "      <td>0.264706</td>\n",
       "    </tr>\n",
       "    <tr>\n",
       "      <th>LF_GiG_CELL_IDENTIFICATIONS</th>\n",
       "      <td>82</td>\n",
       "      <td>2</td>\n",
       "      <td>0.356</td>\n",
       "      <td>0.356</td>\n",
       "      <td>0.342</td>\n",
       "      <td>165</td>\n",
       "      <td>13</td>\n",
       "      <td>0.926966</td>\n",
       "    </tr>\n",
       "    <tr>\n",
       "      <th>LF_GiG_COMPOUND_IDENTIFICATIONS</th>\n",
       "      <td>83</td>\n",
       "      <td>2</td>\n",
       "      <td>0.034</td>\n",
       "      <td>0.034</td>\n",
       "      <td>0.034</td>\n",
       "      <td>17</td>\n",
       "      <td>0</td>\n",
       "      <td>1.000000</td>\n",
       "    </tr>\n",
       "    <tr>\n",
       "      <th>LF_GiG_UPREGULATES</th>\n",
       "      <td>84</td>\n",
       "      <td>2</td>\n",
       "      <td>0.014</td>\n",
       "      <td>0.014</td>\n",
       "      <td>0.014</td>\n",
       "      <td>7</td>\n",
       "      <td>0</td>\n",
       "      <td>1.000000</td>\n",
       "    </tr>\n",
       "    <tr>\n",
       "      <th>LF_GiG_DOWNREGULATES</th>\n",
       "      <td>85</td>\n",
       "      <td>2</td>\n",
       "      <td>0.012</td>\n",
       "      <td>0.012</td>\n",
       "      <td>0.012</td>\n",
       "      <td>6</td>\n",
       "      <td>0</td>\n",
       "      <td>1.000000</td>\n",
       "    </tr>\n",
       "    <tr>\n",
       "      <th>LF_GiG_REGULATION</th>\n",
       "      <td>86</td>\n",
       "      <td>2</td>\n",
       "      <td>0.026</td>\n",
       "      <td>0.026</td>\n",
       "      <td>0.026</td>\n",
       "      <td>13</td>\n",
       "      <td>0</td>\n",
       "      <td>1.000000</td>\n",
       "    </tr>\n",
       "    <tr>\n",
       "      <th>LF_GiG_ASSOCIATION</th>\n",
       "      <td>87</td>\n",
       "      <td>2</td>\n",
       "      <td>0.014</td>\n",
       "      <td>0.014</td>\n",
       "      <td>0.014</td>\n",
       "      <td>7</td>\n",
       "      <td>0</td>\n",
       "      <td>1.000000</td>\n",
       "    </tr>\n",
       "    <tr>\n",
       "      <th>LF_GiG_BOUND_IDENTIFIERS</th>\n",
       "      <td>88</td>\n",
       "      <td>1</td>\n",
       "      <td>0.070</td>\n",
       "      <td>0.070</td>\n",
       "      <td>0.070</td>\n",
       "      <td>6</td>\n",
       "      <td>29</td>\n",
       "      <td>0.171429</td>\n",
       "    </tr>\n",
       "    <tr>\n",
       "      <th>LF_GiG_GENE_IDENTIFIERS</th>\n",
       "      <td>89</td>\n",
       "      <td>1</td>\n",
       "      <td>0.046</td>\n",
       "      <td>0.046</td>\n",
       "      <td>0.046</td>\n",
       "      <td>2</td>\n",
       "      <td>21</td>\n",
       "      <td>0.086957</td>\n",
       "    </tr>\n",
       "    <tr>\n",
       "      <th>LF_GiG_GENE_ADJECTIVE</th>\n",
       "      <td>90</td>\n",
       "      <td>2</td>\n",
       "      <td>0.008</td>\n",
       "      <td>0.008</td>\n",
       "      <td>0.006</td>\n",
       "      <td>4</td>\n",
       "      <td>0</td>\n",
       "      <td>1.000000</td>\n",
       "    </tr>\n",
       "    <tr>\n",
       "      <th>LF_GiG_DIAGNOSIS_IDENTIFIERS</th>\n",
       "      <td>91</td>\n",
       "      <td>[]</td>\n",
       "      <td>0.000</td>\n",
       "      <td>0.000</td>\n",
       "      <td>0.000</td>\n",
       "      <td>0</td>\n",
       "      <td>0</td>\n",
       "      <td>NaN</td>\n",
       "    </tr>\n",
       "    <tr>\n",
       "      <th>LF_GiG_METHOD_DESC</th>\n",
       "      <td>92</td>\n",
       "      <td>2</td>\n",
       "      <td>0.038</td>\n",
       "      <td>0.038</td>\n",
       "      <td>0.038</td>\n",
       "      <td>19</td>\n",
       "      <td>0</td>\n",
       "      <td>1.000000</td>\n",
       "    </tr>\n",
       "    <tr>\n",
       "      <th>LF_GiG_PARENTHESIS</th>\n",
       "      <td>93</td>\n",
       "      <td>2</td>\n",
       "      <td>0.018</td>\n",
       "      <td>0.018</td>\n",
       "      <td>0.010</td>\n",
       "      <td>9</td>\n",
       "      <td>0</td>\n",
       "      <td>1.000000</td>\n",
       "    </tr>\n",
       "    <tr>\n",
       "      <th>LF_GG_IN_SERIES</th>\n",
       "      <td>94</td>\n",
       "      <td>2</td>\n",
       "      <td>0.176</td>\n",
       "      <td>0.176</td>\n",
       "      <td>0.172</td>\n",
       "      <td>83</td>\n",
       "      <td>5</td>\n",
       "      <td>0.943182</td>\n",
       "    </tr>\n",
       "    <tr>\n",
       "      <th>LF_GiG_NO_CONCLUSION</th>\n",
       "      <td>95</td>\n",
       "      <td>2</td>\n",
       "      <td>0.888</td>\n",
       "      <td>0.888</td>\n",
       "      <td>0.862</td>\n",
       "      <td>416</td>\n",
       "      <td>28</td>\n",
       "      <td>0.936937</td>\n",
       "    </tr>\n",
       "    <tr>\n",
       "      <th>LF_GiG_CONCLUSION</th>\n",
       "      <td>96</td>\n",
       "      <td>[1, 2]</td>\n",
       "      <td>0.112</td>\n",
       "      <td>0.112</td>\n",
       "      <td>0.112</td>\n",
       "      <td>18</td>\n",
       "      <td>38</td>\n",
       "      <td>0.321429</td>\n",
       "    </tr>\n",
       "    <tr>\n",
       "      <th>LF_GG_DISTANCE_SHORT</th>\n",
       "      <td>97</td>\n",
       "      <td>2</td>\n",
       "      <td>0.082</td>\n",
       "      <td>0.082</td>\n",
       "      <td>0.056</td>\n",
       "      <td>36</td>\n",
       "      <td>5</td>\n",
       "      <td>0.878049</td>\n",
       "    </tr>\n",
       "    <tr>\n",
       "      <th>LF_GG_DISTANCE_LONG</th>\n",
       "      <td>98</td>\n",
       "      <td>2</td>\n",
       "      <td>0.114</td>\n",
       "      <td>0.114</td>\n",
       "      <td>0.114</td>\n",
       "      <td>55</td>\n",
       "      <td>2</td>\n",
       "      <td>0.964912</td>\n",
       "    </tr>\n",
       "    <tr>\n",
       "      <th>LF_GG_ALLOWED_DISTANCE</th>\n",
       "      <td>99</td>\n",
       "      <td>1</td>\n",
       "      <td>0.804</td>\n",
       "      <td>0.804</td>\n",
       "      <td>0.804</td>\n",
       "      <td>30</td>\n",
       "      <td>372</td>\n",
       "      <td>0.074627</td>\n",
       "    </tr>\n",
       "    <tr>\n",
       "      <th>LF_GG_NO_VERB</th>\n",
       "      <td>100</td>\n",
       "      <td>2</td>\n",
       "      <td>0.060</td>\n",
       "      <td>0.060</td>\n",
       "      <td>0.056</td>\n",
       "      <td>28</td>\n",
       "      <td>2</td>\n",
       "      <td>0.933333</td>\n",
       "    </tr>\n",
       "    <tr>\n",
       "      <th>LF_GG_BICLUSTER_BINDING</th>\n",
       "      <td>101</td>\n",
       "      <td>1</td>\n",
       "      <td>0.060</td>\n",
       "      <td>0.060</td>\n",
       "      <td>0.060</td>\n",
       "      <td>4</td>\n",
       "      <td>26</td>\n",
       "      <td>0.133333</td>\n",
       "    </tr>\n",
       "    <tr>\n",
       "      <th>LF_GG_BICLUSTER_ENHANCES</th>\n",
       "      <td>102</td>\n",
       "      <td>1</td>\n",
       "      <td>0.048</td>\n",
       "      <td>0.048</td>\n",
       "      <td>0.048</td>\n",
       "      <td>4</td>\n",
       "      <td>20</td>\n",
       "      <td>0.166667</td>\n",
       "    </tr>\n",
       "    <tr>\n",
       "      <th>LF_GG_BICLUSTER_ACTIVATES</th>\n",
       "      <td>103</td>\n",
       "      <td>1</td>\n",
       "      <td>0.052</td>\n",
       "      <td>0.052</td>\n",
       "      <td>0.052</td>\n",
       "      <td>2</td>\n",
       "      <td>24</td>\n",
       "      <td>0.076923</td>\n",
       "    </tr>\n",
       "    <tr>\n",
       "      <th>LF_GG_BICLUSTER_AFFECTS_EXPRESSION</th>\n",
       "      <td>104</td>\n",
       "      <td>1</td>\n",
       "      <td>0.050</td>\n",
       "      <td>0.050</td>\n",
       "      <td>0.050</td>\n",
       "      <td>2</td>\n",
       "      <td>23</td>\n",
       "      <td>0.080000</td>\n",
       "    </tr>\n",
       "    <tr>\n",
       "      <th>LF_GG_BICLUSTER_INCREASES_EXPRESSION</th>\n",
       "      <td>105</td>\n",
       "      <td>2</td>\n",
       "      <td>0.054</td>\n",
       "      <td>0.054</td>\n",
       "      <td>0.054</td>\n",
       "      <td>25</td>\n",
       "      <td>2</td>\n",
       "      <td>0.925926</td>\n",
       "    </tr>\n",
       "    <tr>\n",
       "      <th>LF_GG_BICLUSTER_SIGNALING</th>\n",
       "      <td>106</td>\n",
       "      <td>1</td>\n",
       "      <td>0.054</td>\n",
       "      <td>0.054</td>\n",
       "      <td>0.054</td>\n",
       "      <td>4</td>\n",
       "      <td>23</td>\n",
       "      <td>0.148148</td>\n",
       "    </tr>\n",
       "    <tr>\n",
       "      <th>LF_GG_BICLUSTER_IDENTICAL_PROTEIN</th>\n",
       "      <td>107</td>\n",
       "      <td>2</td>\n",
       "      <td>0.046</td>\n",
       "      <td>0.046</td>\n",
       "      <td>0.046</td>\n",
       "      <td>20</td>\n",
       "      <td>3</td>\n",
       "      <td>0.869565</td>\n",
       "    </tr>\n",
       "    <tr>\n",
       "      <th>LF_GG_BICLUSTER_CELL_PRODUCTION</th>\n",
       "      <td>108</td>\n",
       "      <td>2</td>\n",
       "      <td>0.060</td>\n",
       "      <td>0.060</td>\n",
       "      <td>0.060</td>\n",
       "      <td>26</td>\n",
       "      <td>4</td>\n",
       "      <td>0.866667</td>\n",
       "    </tr>\n",
       "  </tbody>\n",
       "</table>\n",
       "<p>109 rows × 8 columns</p>\n",
       "</div>"
      ],
      "text/plain": [
       "                                        j Polarity  Coverage  Overlaps  \\\n",
       "LF_HETNET_DRUGBANK                      0        1     0.060     0.060   \n",
       "LF_HETNET_DRUGCENTRAL                   1        1     0.006     0.006   \n",
       "LF_HETNET_ChEMBL                        2        1     0.032     0.032   \n",
       "LF_HETNET_BINDINGDB                     3        1     0.008     0.008   \n",
       "LF_HETNET_PDSP_KI                       4       []     0.000     0.000   \n",
       "LF_HETNET_US_PATENT                     5       []     0.000     0.000   \n",
       "LF_HETNET_PUBCHEM                       6       []     0.000     0.000   \n",
       "LF_HETNET_CG_ABSENT                     7        2     0.934     0.934   \n",
       "LF_CG_CHECK_GENE_TAG                    8        2     0.234     0.234   \n",
       "LF_CG_BINDING                           9        1     0.102     0.102   \n",
       "LF_CG_WEAK_BINDING                     10        1     0.030     0.030   \n",
       "LF_CG_GENE_RECEIVERS                   11        1     0.096     0.096   \n",
       "LF_CG_ASE_SUFFIX                       12        1     0.066     0.066   \n",
       "LF_CG_IN_SERIES                        13        2     0.176     0.176   \n",
       "LF_CG_ANTIBODY                         14        1     0.006     0.006   \n",
       "LF_CG_METHOD_DESC                      15        2     0.134     0.134   \n",
       "LF_CG_NO_CONCLUSION                    16        2     0.716     0.716   \n",
       "LF_CG_CONCLUSION                       17        1     0.284     0.284   \n",
       "LF_CG_DISTANCE_SHORT                   18        2     0.142     0.142   \n",
       "LF_CG_DISTANCE_LONG                    19        2     0.114     0.114   \n",
       "LF_CG_ALLOWED_DISTANCE                 20        1     0.510     0.510   \n",
       "LF_CG_NO_VERB                          21        2     0.060     0.060   \n",
       "LF_CG_BICLUSTER_BINDS                  22        1     0.122     0.122   \n",
       "LF_CG_BICLUSTER_AGONISM                23        1     0.060     0.060   \n",
       "LF_CG_BICLUSTER_ANTAGONISM             24        1     0.042     0.042   \n",
       "LF_CG_BICLUSTER_INC_EXPRESSION         25        1     0.130     0.130   \n",
       "LF_CG_BICLUSTER_DEC_EXPRESSION         26        1     0.130     0.130   \n",
       "LF_CG_BICLUSTER_AFF_EXPRESSION         27        1     0.268     0.268   \n",
       "LF_CG_BICLUSTER_INHIBITS               28        1     0.092     0.092   \n",
       "LF_DG_IS_BIOMARKER                     29        1     0.120     0.120   \n",
       "...                                   ...      ...       ...       ...   \n",
       "LF_CD_BICLUSTER_DISEASE_ROLE           79        1     0.044     0.044   \n",
       "LF_CD_BICLUSTER_BIOMARKERS             80        1     0.032     0.032   \n",
       "LF_GiG_BINDING_IDENTIFICATIONS         81        1     0.068     0.068   \n",
       "LF_GiG_CELL_IDENTIFICATIONS            82        2     0.356     0.356   \n",
       "LF_GiG_COMPOUND_IDENTIFICATIONS        83        2     0.034     0.034   \n",
       "LF_GiG_UPREGULATES                     84        2     0.014     0.014   \n",
       "LF_GiG_DOWNREGULATES                   85        2     0.012     0.012   \n",
       "LF_GiG_REGULATION                      86        2     0.026     0.026   \n",
       "LF_GiG_ASSOCIATION                     87        2     0.014     0.014   \n",
       "LF_GiG_BOUND_IDENTIFIERS               88        1     0.070     0.070   \n",
       "LF_GiG_GENE_IDENTIFIERS                89        1     0.046     0.046   \n",
       "LF_GiG_GENE_ADJECTIVE                  90        2     0.008     0.008   \n",
       "LF_GiG_DIAGNOSIS_IDENTIFIERS           91       []     0.000     0.000   \n",
       "LF_GiG_METHOD_DESC                     92        2     0.038     0.038   \n",
       "LF_GiG_PARENTHESIS                     93        2     0.018     0.018   \n",
       "LF_GG_IN_SERIES                        94        2     0.176     0.176   \n",
       "LF_GiG_NO_CONCLUSION                   95        2     0.888     0.888   \n",
       "LF_GiG_CONCLUSION                      96   [1, 2]     0.112     0.112   \n",
       "LF_GG_DISTANCE_SHORT                   97        2     0.082     0.082   \n",
       "LF_GG_DISTANCE_LONG                    98        2     0.114     0.114   \n",
       "LF_GG_ALLOWED_DISTANCE                 99        1     0.804     0.804   \n",
       "LF_GG_NO_VERB                         100        2     0.060     0.060   \n",
       "LF_GG_BICLUSTER_BINDING               101        1     0.060     0.060   \n",
       "LF_GG_BICLUSTER_ENHANCES              102        1     0.048     0.048   \n",
       "LF_GG_BICLUSTER_ACTIVATES             103        1     0.052     0.052   \n",
       "LF_GG_BICLUSTER_AFFECTS_EXPRESSION    104        1     0.050     0.050   \n",
       "LF_GG_BICLUSTER_INCREASES_EXPRESSION  105        2     0.054     0.054   \n",
       "LF_GG_BICLUSTER_SIGNALING             106        1     0.054     0.054   \n",
       "LF_GG_BICLUSTER_IDENTICAL_PROTEIN     107        2     0.046     0.046   \n",
       "LF_GG_BICLUSTER_CELL_PRODUCTION       108        2     0.060     0.060   \n",
       "\n",
       "                                      Conflicts  Correct  Incorrect  Emp. Acc.  \n",
       "LF_HETNET_DRUGBANK                        0.060        6         24   0.200000  \n",
       "LF_HETNET_DRUGCENTRAL                     0.006        1          2   0.333333  \n",
       "LF_HETNET_ChEMBL                          0.032        3         13   0.187500  \n",
       "LF_HETNET_BINDINGDB                       0.008        1          3   0.250000  \n",
       "LF_HETNET_PDSP_KI                         0.000        0          0        NaN  \n",
       "LF_HETNET_US_PATENT                       0.000        0          0        NaN  \n",
       "LF_HETNET_PUBCHEM                         0.000        0          0        NaN  \n",
       "LF_HETNET_CG_ABSENT                       0.908      437         30   0.935760  \n",
       "LF_CG_CHECK_GENE_TAG                      0.222      113          4   0.965812  \n",
       "LF_CG_BINDING                             0.102        9         42   0.176471  \n",
       "LF_CG_WEAK_BINDING                        0.030        1         14   0.066667  \n",
       "LF_CG_GENE_RECEIVERS                      0.096        7         41   0.145833  \n",
       "LF_CG_ASE_SUFFIX                          0.066        5         28   0.151515  \n",
       "LF_CG_IN_SERIES                           0.172       83          5   0.943182  \n",
       "LF_CG_ANTIBODY                            0.006        0          3   0.000000  \n",
       "LF_CG_METHOD_DESC                         0.130       65          2   0.970149  \n",
       "LF_CG_NO_CONCLUSION                       0.690      335         23   0.935754  \n",
       "LF_CG_CONCLUSION                          0.284       14        128   0.098592  \n",
       "LF_CG_DISTANCE_SHORT                      0.116       62          9   0.873239  \n",
       "LF_CG_DISTANCE_LONG                       0.114       55          2   0.964912  \n",
       "LF_CG_ALLOWED_DISTANCE                    0.510       18        237   0.070588  \n",
       "LF_CG_NO_VERB                             0.058       29          1   0.966667  \n",
       "LF_CG_BICLUSTER_BINDS                     0.122        8         53   0.131148  \n",
       "LF_CG_BICLUSTER_AGONISM                   0.060        5         25   0.166667  \n",
       "LF_CG_BICLUSTER_ANTAGONISM                0.042        5         16   0.238095  \n",
       "LF_CG_BICLUSTER_INC_EXPRESSION            0.130        7         58   0.107692  \n",
       "LF_CG_BICLUSTER_DEC_EXPRESSION            0.130        8         57   0.123077  \n",
       "LF_CG_BICLUSTER_AFF_EXPRESSION            0.268       11        123   0.082090  \n",
       "LF_CG_BICLUSTER_INHIBITS                  0.092        7         39   0.152174  \n",
       "LF_DG_IS_BIOMARKER                        0.120        2         58   0.033333  \n",
       "...                                         ...      ...        ...        ...  \n",
       "LF_CD_BICLUSTER_DISEASE_ROLE              0.044        0         22   0.000000  \n",
       "LF_CD_BICLUSTER_BIOMARKERS                0.032        0         16   0.000000  \n",
       "LF_GiG_BINDING_IDENTIFICATIONS            0.068        9         25   0.264706  \n",
       "LF_GiG_CELL_IDENTIFICATIONS               0.342      165         13   0.926966  \n",
       "LF_GiG_COMPOUND_IDENTIFICATIONS           0.034       17          0   1.000000  \n",
       "LF_GiG_UPREGULATES                        0.014        7          0   1.000000  \n",
       "LF_GiG_DOWNREGULATES                      0.012        6          0   1.000000  \n",
       "LF_GiG_REGULATION                         0.026       13          0   1.000000  \n",
       "LF_GiG_ASSOCIATION                        0.014        7          0   1.000000  \n",
       "LF_GiG_BOUND_IDENTIFIERS                  0.070        6         29   0.171429  \n",
       "LF_GiG_GENE_IDENTIFIERS                   0.046        2         21   0.086957  \n",
       "LF_GiG_GENE_ADJECTIVE                     0.006        4          0   1.000000  \n",
       "LF_GiG_DIAGNOSIS_IDENTIFIERS              0.000        0          0        NaN  \n",
       "LF_GiG_METHOD_DESC                        0.038       19          0   1.000000  \n",
       "LF_GiG_PARENTHESIS                        0.010        9          0   1.000000  \n",
       "LF_GG_IN_SERIES                           0.172       83          5   0.943182  \n",
       "LF_GiG_NO_CONCLUSION                      0.862      416         28   0.936937  \n",
       "LF_GiG_CONCLUSION                         0.112       18         38   0.321429  \n",
       "LF_GG_DISTANCE_SHORT                      0.056       36          5   0.878049  \n",
       "LF_GG_DISTANCE_LONG                       0.114       55          2   0.964912  \n",
       "LF_GG_ALLOWED_DISTANCE                    0.804       30        372   0.074627  \n",
       "LF_GG_NO_VERB                             0.056       28          2   0.933333  \n",
       "LF_GG_BICLUSTER_BINDING                   0.060        4         26   0.133333  \n",
       "LF_GG_BICLUSTER_ENHANCES                  0.048        4         20   0.166667  \n",
       "LF_GG_BICLUSTER_ACTIVATES                 0.052        2         24   0.076923  \n",
       "LF_GG_BICLUSTER_AFFECTS_EXPRESSION        0.050        2         23   0.080000  \n",
       "LF_GG_BICLUSTER_INCREASES_EXPRESSION      0.054       25          2   0.925926  \n",
       "LF_GG_BICLUSTER_SIGNALING                 0.054        4         23   0.148148  \n",
       "LF_GG_BICLUSTER_IDENTICAL_PROTEIN         0.046       20          3   0.869565  \n",
       "LF_GG_BICLUSTER_CELL_PRODUCTION           0.060       26          4   0.866667  \n",
       "\n",
       "[109 rows x 8 columns]"
      ]
     },
     "execution_count": 15,
     "metadata": {},
     "output_type": "execute_result"
    }
   ],
   "source": [
    "lf_summary(\n",
    "    sparse.coo_matrix(\n",
    "        correct_L_dev\n",
    "    )\n",
    "    .tocsr(), \n",
    "    lf_names=lf_names, \n",
    "    Y=candidate_dfs['dev'].curated_cbg.apply(lambda x: 1 if x> 0 else 2)\n",
    ")"
   ]
  },
  {
   "cell_type": "markdown",
   "metadata": {},
   "source": [
    "# Train Baseline Model"
   ]
  },
  {
   "cell_type": "markdown",
   "metadata": {},
   "source": [
    "This block trains the baseline model (Distant Supervision of CbG Databases) that will be used as a reference to compare against."
   ]
  },
  {
   "cell_type": "code",
   "execution_count": 16,
   "metadata": {
    "ExecuteTime": {
     "end_time": "2019-04-29T03:30:23.883821Z",
     "start_time": "2019-04-29T03:30:23.861662Z"
    }
   },
   "outputs": [],
   "source": [
    "ds_start = 0\n",
    "ds_end = 9\n",
    "regularization_grid = pd.np.round(pd.np.linspace(0.01, 5, num=5), 2)"
   ]
  },
  {
   "cell_type": "code",
   "execution_count": 17,
   "metadata": {
    "ExecuteTime": {
     "end_time": "2019-04-29T03:30:30.056590Z",
     "start_time": "2019-04-29T03:30:23.885227Z"
    }
   },
   "outputs": [],
   "source": [
    "dev_ds_grid, test_ds_grid = train_baseline_model(\n",
    "    correct_L, correct_L_dev, correct_L_test,\n",
    "    list(range(ds_start, ds_end)), regularization_grid,\n",
    "    train_marginal_dir=\"data/random_sampling/CbG/marginals/\"\n",
    ")\n",
    "\n",
    "dev_baseline_marginals = list(dev_ds_grid.values())[0][:,0]\n",
    "test_baseline_marginals = list(test_ds_grid.values())[0][:,0]\n",
    "\n",
    "dev_ds_grid = (\n",
    "    generate_results_df(\n",
    "        dev_ds_grid, \n",
    "        candidate_dfs['dev'].curated_cbg.values\n",
    "    )\n",
    "    .reset_index()\n",
    "    .rename(index=str, columns={0:\"AUPRC\", 1:\"AUROC\", \"index\":\"l2_param\"})\n",
    ")\n",
    "\n",
    "test_ds_grid = (\n",
    "    generate_results_df(\n",
    "        test_ds_grid, \n",
    "        candidate_dfs['test'].curated_cbg.values\n",
    "    )\n",
    "    .reset_index()\n",
    "    .rename(index=str, columns={0:\"AUPRC\", 1:\"AUROC\", \"index\":\"l2_param\"})\n",
    ")"
   ]
  },
  {
   "cell_type": "code",
   "execution_count": 18,
   "metadata": {
    "ExecuteTime": {
     "end_time": "2019-04-29T03:30:30.082775Z",
     "start_time": "2019-04-29T03:30:30.057881Z"
    }
   },
   "outputs": [],
   "source": [
    "best_param = dev_ds_grid.query(\"AUROC==AUROC.max()\").l2_param.values[0]\n",
    "dev_baseline=dev_ds_grid.query(\"l2_param==@best_param\").to_dict('records')\n",
    "dev_baseline[0].update({\"num_lfs\": 0})"
   ]
  },
  {
   "cell_type": "code",
   "execution_count": 19,
   "metadata": {
    "ExecuteTime": {
     "end_time": "2019-04-29T03:30:30.107778Z",
     "start_time": "2019-04-29T03:30:30.084083Z"
    }
   },
   "outputs": [],
   "source": [
    "test_baseline=test_ds_grid.query(\"l2_param==@best_param\").to_dict('records')\n",
    "test_baseline[0].update({\"num_lfs\": 0})"
   ]
  },
  {
   "cell_type": "code",
   "execution_count": 21,
   "metadata": {
    "ExecuteTime": {
     "end_time": "2019-04-29T03:31:42.759065Z",
     "start_time": "2019-04-29T03:31:42.732629Z"
    }
   },
   "outputs": [],
   "source": [
    "dev_baseline_marginals = list(zip(dev_baseline_marginals, candidate_dfs['dev'].curated_cbg.values))\n",
    "test_baseline_marginals = list(zip(test_baseline_marginals, candidate_dfs['test'].curated_cbg.values))"
   ]
  },
  {
   "cell_type": "code",
   "execution_count": 22,
   "metadata": {
    "ExecuteTime": {
     "end_time": "2019-04-29T03:31:45.919320Z",
     "start_time": "2019-04-29T03:31:45.896081Z"
    }
   },
   "outputs": [],
   "source": [
    "count_fraction_correct = lambda x: 1 if (x.marginals > 0.5 and x.label==1) or (x.marginals < 0.5 and x.label==0) else 0"
   ]
  },
  {
   "cell_type": "markdown",
   "metadata": {},
   "source": [
    "# Compound Binds Gene LFS Only"
   ]
  },
  {
   "cell_type": "markdown",
   "metadata": {},
   "source": [
    "This block is designed to determine how many label functions are needed to achieve decent results."
   ]
  },
  {
   "cell_type": "code",
   "execution_count": 23,
   "metadata": {
    "ExecuteTime": {
     "end_time": "2019-04-29T03:31:57.181831Z",
     "start_time": "2019-04-29T03:31:57.159090Z"
    }
   },
   "outputs": [],
   "source": [
    "num_of_samples = 50\n",
    "regularization_grid = pd.np.round(pd.np.linspace(0.01, 5, num=5), 2)"
   ]
  },
  {
   "cell_type": "code",
   "execution_count": 24,
   "metadata": {
    "ExecuteTime": {
     "end_time": "2019-04-29T03:57:17.723441Z",
     "start_time": "2019-04-29T03:31:57.183337Z"
    },
    "scrolled": false
   },
   "outputs": [
    {
     "data": {
      "application/vnd.jupyter.widget-view+json": {
       "model_id": "16d6bcc68712466ab38eb5ff11e71beb",
       "version_major": 2,
       "version_minor": 0
      },
      "text/html": [
       "<p>Failed to display Jupyter Widget of type <code>HBox</code>.</p>\n",
       "<p>\n",
       "  If you're reading this message in the Jupyter Notebook or JupyterLab Notebook, it may mean\n",
       "  that the widgets JavaScript is still loading. If this message persists, it\n",
       "  likely means that the widgets JavaScript library is either not installed or\n",
       "  not enabled. See the <a href=\"https://ipywidgets.readthedocs.io/en/stable/user_install.html\">Jupyter\n",
       "  Widgets Documentation</a> for setup instructions.\n",
       "</p>\n",
       "<p>\n",
       "  If you're reading this message in another frontend (for example, a static\n",
       "  rendering on GitHub or <a href=\"https://nbviewer.jupyter.org/\">NBViewer</a>),\n",
       "  it may mean that your frontend doesn't currently support widgets.\n",
       "</p>\n"
      ],
      "text/plain": [
       "HBox(children=(IntProgress(value=1, bar_style='info', max=1), HTML(value='')))"
      ]
     },
     "metadata": {},
     "output_type": "display_data"
    },
    {
     "name": "stdout",
     "output_type": "stream",
     "text": [
      "\n"
     ]
    },
    {
     "data": {
      "application/vnd.jupyter.widget-view+json": {
       "model_id": "23648c262bae41548841197a1604cada",
       "version_major": 2,
       "version_minor": 0
      },
      "text/html": [
       "<p>Failed to display Jupyter Widget of type <code>HBox</code>.</p>\n",
       "<p>\n",
       "  If you're reading this message in the Jupyter Notebook or JupyterLab Notebook, it may mean\n",
       "  that the widgets JavaScript is still loading. If this message persists, it\n",
       "  likely means that the widgets JavaScript library is either not installed or\n",
       "  not enabled. See the <a href=\"https://ipywidgets.readthedocs.io/en/stable/user_install.html\">Jupyter\n",
       "  Widgets Documentation</a> for setup instructions.\n",
       "</p>\n",
       "<p>\n",
       "  If you're reading this message in another frontend (for example, a static\n",
       "  rendering on GitHub or <a href=\"https://nbviewer.jupyter.org/\">NBViewer</a>),\n",
       "  it may mean that your frontend doesn't currently support widgets.\n",
       "</p>\n"
      ],
      "text/plain": [
       "HBox(children=(IntProgress(value=1, bar_style='info', max=1), HTML(value='')))"
      ]
     },
     "metadata": {},
     "output_type": "display_data"
    },
    {
     "name": "stdout",
     "output_type": "stream",
     "text": [
      "\n"
     ]
    },
    {
     "data": {
      "application/vnd.jupyter.widget-view+json": {
       "model_id": "4d1abdb0a3db480592e54bfaf14104ef",
       "version_major": 2,
       "version_minor": 0
      },
      "text/html": [
       "<p>Failed to display Jupyter Widget of type <code>HBox</code>.</p>\n",
       "<p>\n",
       "  If you're reading this message in the Jupyter Notebook or JupyterLab Notebook, it may mean\n",
       "  that the widgets JavaScript is still loading. If this message persists, it\n",
       "  likely means that the widgets JavaScript library is either not installed or\n",
       "  not enabled. See the <a href=\"https://ipywidgets.readthedocs.io/en/stable/user_install.html\">Jupyter\n",
       "  Widgets Documentation</a> for setup instructions.\n",
       "</p>\n",
       "<p>\n",
       "  If you're reading this message in another frontend (for example, a static\n",
       "  rendering on GitHub or <a href=\"https://nbviewer.jupyter.org/\">NBViewer</a>),\n",
       "  it may mean that your frontend doesn't currently support widgets.\n",
       "</p>\n"
      ],
      "text/plain": [
       "HBox(children=(IntProgress(value=1, bar_style='info', max=1), HTML(value='')))"
      ]
     },
     "metadata": {},
     "output_type": "display_data"
    },
    {
     "name": "stdout",
     "output_type": "stream",
     "text": [
      "\n"
     ]
    },
    {
     "data": {
      "application/vnd.jupyter.widget-view+json": {
       "model_id": "f48be476d83742c6a089fe29e2687360",
       "version_major": 2,
       "version_minor": 0
      },
      "text/html": [
       "<p>Failed to display Jupyter Widget of type <code>HBox</code>.</p>\n",
       "<p>\n",
       "  If you're reading this message in the Jupyter Notebook or JupyterLab Notebook, it may mean\n",
       "  that the widgets JavaScript is still loading. If this message persists, it\n",
       "  likely means that the widgets JavaScript library is either not installed or\n",
       "  not enabled. See the <a href=\"https://ipywidgets.readthedocs.io/en/stable/user_install.html\">Jupyter\n",
       "  Widgets Documentation</a> for setup instructions.\n",
       "</p>\n",
       "<p>\n",
       "  If you're reading this message in another frontend (for example, a static\n",
       "  rendering on GitHub or <a href=\"https://nbviewer.jupyter.org/\">NBViewer</a>),\n",
       "  it may mean that your frontend doesn't currently support widgets.\n",
       "</p>\n"
      ],
      "text/plain": [
       "HBox(children=(IntProgress(value=1, bar_style='info', max=1), HTML(value='')))"
      ]
     },
     "metadata": {},
     "output_type": "display_data"
    },
    {
     "name": "stdout",
     "output_type": "stream",
     "text": [
      "\n"
     ]
    },
    {
     "data": {
      "application/vnd.jupyter.widget-view+json": {
       "model_id": "d3e8e9258409427f9419b5c271f8e5af",
       "version_major": 2,
       "version_minor": 0
      },
      "text/html": [
       "<p>Failed to display Jupyter Widget of type <code>HBox</code>.</p>\n",
       "<p>\n",
       "  If you're reading this message in the Jupyter Notebook or JupyterLab Notebook, it may mean\n",
       "  that the widgets JavaScript is still loading. If this message persists, it\n",
       "  likely means that the widgets JavaScript library is either not installed or\n",
       "  not enabled. See the <a href=\"https://ipywidgets.readthedocs.io/en/stable/user_install.html\">Jupyter\n",
       "  Widgets Documentation</a> for setup instructions.\n",
       "</p>\n",
       "<p>\n",
       "  If you're reading this message in another frontend (for example, a static\n",
       "  rendering on GitHub or <a href=\"https://nbviewer.jupyter.org/\">NBViewer</a>),\n",
       "  it may mean that your frontend doesn't currently support widgets.\n",
       "</p>\n"
      ],
      "text/plain": [
       "HBox(children=(IntProgress(value=1, bar_style='info', max=1), HTML(value='')))"
      ]
     },
     "metadata": {},
     "output_type": "display_data"
    },
    {
     "name": "stdout",
     "output_type": "stream",
     "text": [
      "\n"
     ]
    }
   ],
   "source": [
    "dev_cbg_df = pd.DataFrame(dev_baseline)\n",
    "test_cbg_df = pd.DataFrame(test_baseline)\n",
    "dev_cbg_marginals_df = pd.DataFrame(dev_baseline_marginals, columns=[\"marginals\", \"label\"]).assign(num_lfs=0)\n",
    "test_cbg_marginals_df = pd.DataFrame(test_baseline_marginals, columns=[\"marginals\", \"label\"]).assign(num_lfs=0)\n",
    "\n",
    "cbg_start = ds_end\n",
    "cbg_end = 29\n",
    "\n",
    "range_of_sample_sizes = (\n",
    "    list(range(1, correct_L[:,cbg_start:cbg_end].shape[1], 5)) +\n",
    "    [correct_L[:,cbg_start:cbg_end].shape[1]]\n",
    ")\n",
    "\n",
    "lf_sample_keeper, dev_results_df, test_results_df, dev_marginals_df, test_marginals_df = run_random_additional_lfs(\n",
    "    range_of_sample_sizes=range_of_sample_sizes, \n",
    "    range_of_lf_indicies = list(range(cbg_start, cbg_end+1)),\n",
    "    size_of_sample_pool=cbg_end-cbg_start,\n",
    "    num_of_samples=num_of_samples,\n",
    "    train=correct_L, \n",
    "    dev=correct_L_dev,\n",
    "    dev_labels=candidate_dfs['dev'].curated_cbg.values,\n",
    "    test=correct_L_test,\n",
    "    test_labels=candidate_dfs['test'].curated_cbg.values,\n",
    "    grid=regularization_grid,\n",
    "    label_matricies=label_matricies['train'],\n",
    "    train_marginal_dir='data/random_sampling/CbG/marginals/',\n",
    "    ds_start=ds_start,\n",
    "    ds_end=ds_end,\n",
    ")\n",
    "\n",
    "dev_cbg_df = dev_cbg_df.append(dev_results_df, sort=True)\n",
    "test_cbg_df = test_cbg_df.append(test_results_df, sort=True)\n",
    "dev_cbg_marginals_df = dev_cbg_marginals_df.append(dev_marginals_df, sort=True)\n",
    "test_cbg_marginals_df = test_cbg_marginals_df.append(test_marginals_df, sort=True)"
   ]
  },
  {
   "cell_type": "code",
   "execution_count": 26,
   "metadata": {
    "ExecuteTime": {
     "end_time": "2019-04-29T11:38:47.494006Z",
     "start_time": "2019-04-29T11:38:43.100156Z"
    }
   },
   "outputs": [],
   "source": [
    "dev_cbg_marginals_df = (\n",
    "     dev_cbg_marginals_df\n",
    "     .assign(\n",
    "        frac_correct=(\n",
    "            dev_cbg_marginals_df\n",
    "            .apply(count_fraction_correct,axis=1)\n",
    "            .values\n",
    "        )\n",
    "    )\n",
    "    .groupby([\"label\", \"num_lfs\"])[\"frac_correct\"]\n",
    "    .agg(pd.np.mean)\n",
    "    .reset_index(level=[\"label\", \"num_lfs\"])\n",
    ")"
   ]
  },
  {
   "cell_type": "code",
   "execution_count": 27,
   "metadata": {
    "ExecuteTime": {
     "end_time": "2019-04-29T11:38:51.947893Z",
     "start_time": "2019-04-29T11:38:47.495605Z"
    }
   },
   "outputs": [],
   "source": [
    "test_cbg_marginals_df = (\n",
    "    test_cbg_marginals_df\n",
    "    .assign(\n",
    "        frac_correct=(\n",
    "            test_cbg_marginals_df\n",
    "            .apply(count_fraction_correct, axis=1)\n",
    "            .values\n",
    "        )\n",
    "    )\n",
    "    .groupby([\"label\", \"num_lfs\"])[\"frac_correct\"]\n",
    "    .agg(pd.np.mean)\n",
    "    .reset_index(level=[\"label\", \"num_lfs\"])\n",
    ")"
   ]
  },
  {
   "cell_type": "markdown",
   "metadata": {},
   "source": [
    "## Dev Set Performance (AUPRC, AUROC)"
   ]
  },
  {
   "cell_type": "code",
   "execution_count": 28,
   "metadata": {
    "ExecuteTime": {
     "end_time": "2019-04-29T11:38:53.039281Z",
     "start_time": "2019-04-29T11:38:52.646388Z"
    }
   },
   "outputs": [
    {
     "name": "stderr",
     "output_type": "stream",
     "text": [
      "/home/danich1/anaconda2/envs/snorkeling/lib/python3.6/site-packages/scipy/stats/stats.py:1713: FutureWarning: Using a non-tuple sequence for multidimensional indexing is deprecated; use `arr[tuple(seq)]` instead of `arr[seq]`. In the future this will be interpreted as an array index, `arr[np.array(seq)]`, which will result either in an error or a different result.\n",
      "  return np.add.reduce(sorted[indexer] * weights, axis=axis) / sumval\n"
     ]
    },
    {
     "data": {
      "text/plain": [
       "<matplotlib.axes._subplots.AxesSubplot at 0x7fc1e7d8fd30>"
      ]
     },
     "execution_count": 28,
     "metadata": {},
     "output_type": "execute_result"
    },
    {
     "data": {
      "image/png": "[encoded data removed]",
      "text/plain": [
       "<matplotlib.figure.Figure at 0x7fc1e7dd1d30>"
      ]
     },
     "metadata": {},
     "output_type": "display_data"
    }
   ],
   "source": [
    "fig, axs = plt.subplots(ncols=2, figsize=(10, 5))\n",
    "sns.pointplot(x=\"num_lfs\", y=\"AUPRC\", data=dev_cbg_df, ax=axs[0])\n",
    "sns.pointplot(x=\"num_lfs\", y=\"AUROC\", data=dev_cbg_df, ax=axs[1])"
   ]
  },
  {
   "cell_type": "code",
   "execution_count": 29,
   "metadata": {
    "ExecuteTime": {
     "end_time": "2019-04-29T11:38:53.223766Z",
     "start_time": "2019-04-29T11:38:53.040949Z"
    }
   },
   "outputs": [
    {
     "data": {
      "text/plain": [
       "<matplotlib.axes._subplots.AxesSubplot at 0x7fc1ff086518>"
      ]
     },
     "execution_count": 29,
     "metadata": {},
     "output_type": "execute_result"
    },
    {
     "data": {
      "image/png": "[encoded data removed]",
      "text/plain": [
       "<matplotlib.figure.Figure at 0x7fc1e7dde320>"
      ]
     },
     "metadata": {},
     "output_type": "display_data"
    }
   ],
   "source": [
    "sns.pointplot(x=\"num_lfs\", y=\"frac_correct\", data=dev_cbg_marginals_df, hue=\"label\")"
   ]
  },
  {
   "cell_type": "markdown",
   "metadata": {},
   "source": [
    "## Test Set Performance (AUPRC, AUROC)"
   ]
  },
  {
   "cell_type": "code",
   "execution_count": 30,
   "metadata": {
    "ExecuteTime": {
     "end_time": "2019-04-29T11:38:53.610751Z",
     "start_time": "2019-04-29T11:38:53.225073Z"
    }
   },
   "outputs": [
    {
     "name": "stderr",
     "output_type": "stream",
     "text": [
      "/home/danich1/anaconda2/envs/snorkeling/lib/python3.6/site-packages/scipy/stats/stats.py:1713: FutureWarning: Using a non-tuple sequence for multidimensional indexing is deprecated; use `arr[tuple(seq)]` instead of `arr[seq]`. In the future this will be interpreted as an array index, `arr[np.array(seq)]`, which will result either in an error or a different result.\n",
      "  return np.add.reduce(sorted[indexer] * weights, axis=axis) / sumval\n"
     ]
    },
    {
     "data": {
      "text/plain": [
       "<matplotlib.axes._subplots.AxesSubplot at 0x7fc1e7bd2198>"
      ]
     },
     "execution_count": 30,
     "metadata": {},
     "output_type": "execute_result"
    },
    {
     "data": {
      "image/png": "[encoded data removed]",
      "text/plain": [
       "<matplotlib.figure.Figure at 0x7fc1e7c62da0>"
      ]
     },
     "metadata": {},
     "output_type": "display_data"
    }
   ],
   "source": [
    "fig, axs = plt.subplots(ncols=2, figsize=(10, 5))\n",
    "sns.pointplot(x=\"num_lfs\", y=\"AUPRC\", data=test_cbg_df, ax=axs[0])\n",
    "sns.pointplot(x=\"num_lfs\", y=\"AUROC\", data=test_cbg_df, ax=axs[1])"
   ]
  },
  {
   "cell_type": "code",
   "execution_count": 31,
   "metadata": {
    "ExecuteTime": {
     "end_time": "2019-04-29T11:38:53.791824Z",
     "start_time": "2019-04-29T11:38:53.612270Z"
    }
   },
   "outputs": [
    {
     "data": {
      "text/plain": [
       "<matplotlib.axes._subplots.AxesSubplot at 0x7fc1e7c00630>"
      ]
     },
     "execution_count": 31,
     "metadata": {},
     "output_type": "execute_result"
    },
    {
     "data": {
      "image/png": "[encoded data removed]",
      "text/plain": [
       "<matplotlib.figure.Figure at 0x7fc1e7b977b8>"
      ]
     },
     "metadata": {},
     "output_type": "display_data"
    }
   ],
   "source": [
    "sns.pointplot(x=\"num_lfs\", y=\"frac_correct\", data=test_cbg_marginals_df, hue=\"label\")"
   ]
  },
  {
   "cell_type": "code",
   "execution_count": 32,
   "metadata": {
    "ExecuteTime": {
     "end_time": "2019-04-29T11:38:53.820809Z",
     "start_time": "2019-04-29T11:38:53.793115Z"
    }
   },
   "outputs": [],
   "source": [
    "dev_cbg_df.to_csv(\n",
    "    \"data/random_sampling/CbG/results/dev_sampled_performance.tsv\", \n",
    "    index=False, sep=\"\\t\", float_format=\"%.5g\"\n",
    ")\n",
    "\n",
    "test_cbg_df.to_csv(\n",
    "    \"data/random_sampling/CbG/results/test_sampled_performance.tsv\", \n",
    "    index=False, sep=\"\\t\", float_format=\"%.5g\"\n",
    ")"
   ]
  },
  {
   "cell_type": "code",
   "execution_count": 33,
   "metadata": {
    "ExecuteTime": {
     "end_time": "2019-04-29T11:38:53.879280Z",
     "start_time": "2019-04-29T11:38:53.821990Z"
    }
   },
   "outputs": [],
   "source": [
    "dev_cbg_marginals_df.to_csv(\n",
    "    \"data/random_sampling/CbG/results/dev_sampled_marginals.tsv\", \n",
    "    index=False, sep=\"\\t\", float_format=\"%.5g\"\n",
    ")\n",
    "\n",
    "test_cbg_marginals_df.to_csv(\n",
    "    \"data/random_sampling/CbG/results/test_sampled_marginals.tsv\", \n",
    "    index=False, sep=\"\\t\", float_format=\"%.5g\"\n",
    ")"
   ]
  },
  {
   "cell_type": "markdown",
   "metadata": {},
   "source": [
    "# Using Disease Associates Gene Label Functions to Predict Compound Binds Gene Relations"
   ]
  },
  {
   "cell_type": "markdown",
   "metadata": {},
   "source": [
    "This section determines how well disease associates gene label functions can predict compound binds gene relations."
   ]
  },
  {
   "cell_type": "code",
   "execution_count": 34,
   "metadata": {
    "ExecuteTime": {
     "end_time": "2019-04-29T11:39:06.484654Z",
     "start_time": "2019-04-29T11:39:06.456560Z"
    }
   },
   "outputs": [],
   "source": [
    "num_of_samples = 50\n",
    "regularization_grid = pd.np.round(pd.np.linspace(0.01, 5, num=10), 2)"
   ]
  },
  {
   "cell_type": "code",
   "execution_count": 35,
   "metadata": {
    "ExecuteTime": {
     "end_time": "2019-04-29T12:53:32.929038Z",
     "start_time": "2019-04-29T11:39:08.243658Z"
    }
   },
   "outputs": [
    {
     "data": {
      "application/vnd.jupyter.widget-view+json": {
       "model_id": "7094d8d43fa7473f85499ee4cfcce0de",
       "version_major": 2,
       "version_minor": 0
      },
      "text/html": [
       "<p>Failed to display Jupyter Widget of type <code>HBox</code>.</p>\n",
       "<p>\n",
       "  If you're reading this message in the Jupyter Notebook or JupyterLab Notebook, it may mean\n",
       "  that the widgets JavaScript is still loading. If this message persists, it\n",
       "  likely means that the widgets JavaScript library is either not installed or\n",
       "  not enabled. See the <a href=\"https://ipywidgets.readthedocs.io/en/stable/user_install.html\">Jupyter\n",
       "  Widgets Documentation</a> for setup instructions.\n",
       "</p>\n",
       "<p>\n",
       "  If you're reading this message in another frontend (for example, a static\n",
       "  rendering on GitHub or <a href=\"https://nbviewer.jupyter.org/\">NBViewer</a>),\n",
       "  it may mean that your frontend doesn't currently support widgets.\n",
       "</p>\n"
      ],
      "text/plain": [
       "HBox(children=(IntProgress(value=1, bar_style='info', max=1), HTML(value='')))"
      ]
     },
     "metadata": {},
     "output_type": "display_data"
    },
    {
     "name": "stdout",
     "output_type": "stream",
     "text": [
      "\n"
     ]
    },
    {
     "data": {
      "application/vnd.jupyter.widget-view+json": {
       "model_id": "bac498a1f6774160adf0d0604627a020",
       "version_major": 2,
       "version_minor": 0
      },
      "text/html": [
       "<p>Failed to display Jupyter Widget of type <code>HBox</code>.</p>\n",
       "<p>\n",
       "  If you're reading this message in the Jupyter Notebook or JupyterLab Notebook, it may mean\n",
       "  that the widgets JavaScript is still loading. If this message persists, it\n",
       "  likely means that the widgets JavaScript library is either not installed or\n",
       "  not enabled. See the <a href=\"https://ipywidgets.readthedocs.io/en/stable/user_install.html\">Jupyter\n",
       "  Widgets Documentation</a> for setup instructions.\n",
       "</p>\n",
       "<p>\n",
       "  If you're reading this message in another frontend (for example, a static\n",
       "  rendering on GitHub or <a href=\"https://nbviewer.jupyter.org/\">NBViewer</a>),\n",
       "  it may mean that your frontend doesn't currently support widgets.\n",
       "</p>\n"
      ],
      "text/plain": [
       "HBox(children=(IntProgress(value=1, bar_style='info', max=1), HTML(value='')))"
      ]
     },
     "metadata": {},
     "output_type": "display_data"
    },
    {
     "name": "stdout",
     "output_type": "stream",
     "text": [
      "\n"
     ]
    },
    {
     "data": {
      "application/vnd.jupyter.widget-view+json": {
       "model_id": "70df549df09341bf9e34f5df60e019f2",
       "version_major": 2,
       "version_minor": 0
      },
      "text/html": [
       "<p>Failed to display Jupyter Widget of type <code>HBox</code>.</p>\n",
       "<p>\n",
       "  If you're reading this message in the Jupyter Notebook or JupyterLab Notebook, it may mean\n",
       "  that the widgets JavaScript is still loading. If this message persists, it\n",
       "  likely means that the widgets JavaScript library is either not installed or\n",
       "  not enabled. See the <a href=\"https://ipywidgets.readthedocs.io/en/stable/user_install.html\">Jupyter\n",
       "  Widgets Documentation</a> for setup instructions.\n",
       "</p>\n",
       "<p>\n",
       "  If you're reading this message in another frontend (for example, a static\n",
       "  rendering on GitHub or <a href=\"https://nbviewer.jupyter.org/\">NBViewer</a>),\n",
       "  it may mean that your frontend doesn't currently support widgets.\n",
       "</p>\n"
      ],
      "text/plain": [
       "HBox(children=(IntProgress(value=1, bar_style='info', max=1), HTML(value='')))"
      ]
     },
     "metadata": {},
     "output_type": "display_data"
    },
    {
     "name": "stdout",
     "output_type": "stream",
     "text": [
      "\n"
     ]
    },
    {
     "data": {
      "application/vnd.jupyter.widget-view+json": {
       "model_id": "56d031a7d1d7499587a71ff8943bbbf6",
       "version_major": 2,
       "version_minor": 0
      },
      "text/html": [
       "<p>Failed to display Jupyter Widget of type <code>HBox</code>.</p>\n",
       "<p>\n",
       "  If you're reading this message in the Jupyter Notebook or JupyterLab Notebook, it may mean\n",
       "  that the widgets JavaScript is still loading. If this message persists, it\n",
       "  likely means that the widgets JavaScript library is either not installed or\n",
       "  not enabled. See the <a href=\"https://ipywidgets.readthedocs.io/en/stable/user_install.html\">Jupyter\n",
       "  Widgets Documentation</a> for setup instructions.\n",
       "</p>\n",
       "<p>\n",
       "  If you're reading this message in another frontend (for example, a static\n",
       "  rendering on GitHub or <a href=\"https://nbviewer.jupyter.org/\">NBViewer</a>),\n",
       "  it may mean that your frontend doesn't currently support widgets.\n",
       "</p>\n"
      ],
      "text/plain": [
       "HBox(children=(IntProgress(value=1, bar_style='info', max=1), HTML(value='')))"
      ]
     },
     "metadata": {},
     "output_type": "display_data"
    },
    {
     "name": "stdout",
     "output_type": "stream",
     "text": [
      "\n"
     ]
    },
    {
     "data": {
      "application/vnd.jupyter.widget-view+json": {
       "model_id": "764534048e874321bbb0ec9bf60887d7",
       "version_major": 2,
       "version_minor": 0
      },
      "text/html": [
       "<p>Failed to display Jupyter Widget of type <code>HBox</code>.</p>\n",
       "<p>\n",
       "  If you're reading this message in the Jupyter Notebook or JupyterLab Notebook, it may mean\n",
       "  that the widgets JavaScript is still loading. If this message persists, it\n",
       "  likely means that the widgets JavaScript library is either not installed or\n",
       "  not enabled. See the <a href=\"https://ipywidgets.readthedocs.io/en/stable/user_install.html\">Jupyter\n",
       "  Widgets Documentation</a> for setup instructions.\n",
       "</p>\n",
       "<p>\n",
       "  If you're reading this message in another frontend (for example, a static\n",
       "  rendering on GitHub or <a href=\"https://nbviewer.jupyter.org/\">NBViewer</a>),\n",
       "  it may mean that your frontend doesn't currently support widgets.\n",
       "</p>\n"
      ],
      "text/plain": [
       "HBox(children=(IntProgress(value=1, bar_style='info', max=1), HTML(value='')))"
      ]
     },
     "metadata": {},
     "output_type": "display_data"
    },
    {
     "name": "stdout",
     "output_type": "stream",
     "text": [
      "\n"
     ]
    },
    {
     "data": {
      "application/vnd.jupyter.widget-view+json": {
       "model_id": "79449d12bc2f4305be9e4c451ed06c07",
       "version_major": 2,
       "version_minor": 0
      },
      "text/html": [
       "<p>Failed to display Jupyter Widget of type <code>HBox</code>.</p>\n",
       "<p>\n",
       "  If you're reading this message in the Jupyter Notebook or JupyterLab Notebook, it may mean\n",
       "  that the widgets JavaScript is still loading. If this message persists, it\n",
       "  likely means that the widgets JavaScript library is either not installed or\n",
       "  not enabled. See the <a href=\"https://ipywidgets.readthedocs.io/en/stable/user_install.html\">Jupyter\n",
       "  Widgets Documentation</a> for setup instructions.\n",
       "</p>\n",
       "<p>\n",
       "  If you're reading this message in another frontend (for example, a static\n",
       "  rendering on GitHub or <a href=\"https://nbviewer.jupyter.org/\">NBViewer</a>),\n",
       "  it may mean that your frontend doesn't currently support widgets.\n",
       "</p>\n"
      ],
      "text/plain": [
       "HBox(children=(IntProgress(value=1, bar_style='info', max=1), HTML(value='')))"
      ]
     },
     "metadata": {},
     "output_type": "display_data"
    },
    {
     "name": "stdout",
     "output_type": "stream",
     "text": [
      "\n"
     ]
    },
    {
     "data": {
      "application/vnd.jupyter.widget-view+json": {
       "model_id": "b581a9d3148740b0b58d43e81a0e83f0",
       "version_major": 2,
       "version_minor": 0
      },
      "text/html": [
       "<p>Failed to display Jupyter Widget of type <code>HBox</code>.</p>\n",
       "<p>\n",
       "  If you're reading this message in the Jupyter Notebook or JupyterLab Notebook, it may mean\n",
       "  that the widgets JavaScript is still loading. If this message persists, it\n",
       "  likely means that the widgets JavaScript library is either not installed or\n",
       "  not enabled. See the <a href=\"https://ipywidgets.readthedocs.io/en/stable/user_install.html\">Jupyter\n",
       "  Widgets Documentation</a> for setup instructions.\n",
       "</p>\n",
       "<p>\n",
       "  If you're reading this message in another frontend (for example, a static\n",
       "  rendering on GitHub or <a href=\"https://nbviewer.jupyter.org/\">NBViewer</a>),\n",
       "  it may mean that your frontend doesn't currently support widgets.\n",
       "</p>\n"
      ],
      "text/plain": [
       "HBox(children=(IntProgress(value=1, bar_style='info', max=1), HTML(value='')))"
      ]
     },
     "metadata": {},
     "output_type": "display_data"
    },
    {
     "name": "stdout",
     "output_type": "stream",
     "text": [
      "\n"
     ]
    }
   ],
   "source": [
    "dev_dag_df = pd.DataFrame(dev_baseline)\n",
    "test_dag_df = pd.DataFrame(test_baseline)\n",
    "dev_dag_marginals_df = pd.DataFrame(dev_baseline_marginals, columns=[\"marginals\", \"label\"]).assign(num_lfs=0)\n",
    "test_dag_marginals_df = pd.DataFrame(test_baseline_marginals, columns=[\"marginals\", \"label\"]).assign(num_lfs=0)\n",
    "\n",
    "dag_start = 29\n",
    "dag_end = 59\n",
    "\n",
    "range_of_sample_sizes = (\n",
    "    list(range(1, correct_L[:,dag_start:dag_end].shape[1], 5)) +\n",
    "    [correct_L[:,dag_start:dag_end].shape[1]]\n",
    ")\n",
    "\n",
    "lf_sample_keeper, dev_results_df, test_results_df, dev_marginals_df, test_marginals_df = run_random_additional_lfs(\n",
    "    range_of_sample_sizes=range_of_sample_sizes, \n",
    "    range_of_lf_indicies = list(range(dag_start, dag_end+1)),\n",
    "    size_of_sample_pool=dag_end-dag_start,\n",
    "    num_of_samples=num_of_samples,\n",
    "    train=correct_L, \n",
    "    dev=correct_L_dev,\n",
    "    dev_labels=candidate_dfs['dev'].curated_cbg.values,\n",
    "    test=correct_L_test,\n",
    "    test_labels=candidate_dfs['test'].curated_cbg.values,\n",
    "    grid=regularization_grid,\n",
    "    label_matricies=label_matricies['train'],\n",
    "    train_marginal_dir='data/random_sampling/DaG/marginals/',\n",
    "    ds_start=ds_start,\n",
    "    ds_end=ds_end,\n",
    ")\n",
    "\n",
    "dev_dag_df = dev_dag_df.append(dev_results_df, sort=True)\n",
    "test_dag_df = test_dag_df.append(test_results_df, sort=True)\n",
    "dev_dag_marginals_df = dev_dag_marginals_df.append(dev_marginals_df, sort=True)\n",
    "test_dag_marginals_df = test_dag_marginals_df.append(test_marginals_df, sort=True)"
   ]
  },
  {
   "cell_type": "code",
   "execution_count": 36,
   "metadata": {
    "ExecuteTime": {
     "end_time": "2019-04-29T12:53:39.141812Z",
     "start_time": "2019-04-29T12:53:32.930698Z"
    }
   },
   "outputs": [],
   "source": [
    "dev_dag_marginals_df = (\n",
    "     dev_dag_marginals_df\n",
    "     .assign(\n",
    "        frac_correct=(\n",
    "            dev_dag_marginals_df\n",
    "            .apply(count_fraction_correct,axis=1)\n",
    "            .values\n",
    "        )\n",
    "    )\n",
    "    .groupby([\"label\", \"num_lfs\"])[\"frac_correct\"]\n",
    "    .agg(pd.np.mean)\n",
    "    .reset_index(level=[\"label\", \"num_lfs\"])\n",
    ")"
   ]
  },
  {
   "cell_type": "code",
   "execution_count": 37,
   "metadata": {
    "ExecuteTime": {
     "end_time": "2019-04-29T12:53:45.443350Z",
     "start_time": "2019-04-29T12:53:39.143299Z"
    }
   },
   "outputs": [],
   "source": [
    "test_dag_marginals_df = (\n",
    "    test_dag_marginals_df\n",
    "    .assign(\n",
    "        frac_correct=(\n",
    "            test_dag_marginals_df\n",
    "            .apply(count_fraction_correct, axis=1)\n",
    "            .values\n",
    "        )\n",
    "    )\n",
    "    .groupby([\"label\", \"num_lfs\"])[\"frac_correct\"]\n",
    "    .agg(pd.np.mean)\n",
    "    .reset_index(level=[\"label\", \"num_lfs\"])\n",
    ")"
   ]
  },
  {
   "cell_type": "markdown",
   "metadata": {},
   "source": [
    "## Dev Set Performance (AUPRC, AUROC)"
   ]
  },
  {
   "cell_type": "code",
   "execution_count": 38,
   "metadata": {
    "ExecuteTime": {
     "end_time": "2019-04-29T12:53:45.891809Z",
     "start_time": "2019-04-29T12:53:45.444916Z"
    }
   },
   "outputs": [
    {
     "name": "stderr",
     "output_type": "stream",
     "text": [
      "/home/danich1/anaconda2/envs/snorkeling/lib/python3.6/site-packages/scipy/stats/stats.py:1713: FutureWarning: Using a non-tuple sequence for multidimensional indexing is deprecated; use `arr[tuple(seq)]` instead of `arr[seq]`. In the future this will be interpreted as an array index, `arr[np.array(seq)]`, which will result either in an error or a different result.\n",
      "  return np.add.reduce(sorted[indexer] * weights, axis=axis) / sumval\n"
     ]
    },
    {
     "data": {
      "text/plain": [
       "<matplotlib.axes._subplots.AxesSubplot at 0x7fc1e40abb70>"
      ]
     },
     "execution_count": 38,
     "metadata": {},
     "output_type": "execute_result"
    },
    {
     "data": {
      "image/png": "[encoded data removed]",
      "text/plain": [
       "<matplotlib.figure.Figure at 0x7fc1e7ada668>"
      ]
     },
     "metadata": {},
     "output_type": "display_data"
    }
   ],
   "source": [
    "fig, axs = plt.subplots(ncols=2, figsize=(10, 5))\n",
    "sns.pointplot(x=\"num_lfs\", y=\"AUPRC\", data=dev_dag_df, ax=axs[0])\n",
    "sns.pointplot(x=\"num_lfs\", y=\"AUROC\", data=dev_dag_df, ax=axs[1])"
   ]
  },
  {
   "cell_type": "code",
   "execution_count": 39,
   "metadata": {
    "ExecuteTime": {
     "end_time": "2019-04-29T12:53:48.158813Z",
     "start_time": "2019-04-29T12:53:45.893069Z"
    }
   },
   "outputs": [
    {
     "data": {
      "text/plain": [
       "<matplotlib.axes._subplots.AxesSubplot at 0x7fc1e409bac8>"
      ]
     },
     "execution_count": 39,
     "metadata": {},
     "output_type": "execute_result"
    },
    {
     "data": {
      "image/png": "[encoded data removed]",
      "text/plain": [
       "<matplotlib.figure.Figure at 0x7fc1e4065908>"
      ]
     },
     "metadata": {},
     "output_type": "display_data"
    }
   ],
   "source": [
    "sns.pointplot(x=\"num_lfs\", y=\"frac_correct\", data=dev_dag_marginals_df, hue=\"label\")"
   ]
  },
  {
   "cell_type": "markdown",
   "metadata": {},
   "source": [
    "## Test Set Performance (AUPRC, AUROC)"
   ]
  },
  {
   "cell_type": "code",
   "execution_count": 40,
   "metadata": {
    "ExecuteTime": {
     "end_time": "2019-04-29T12:53:48.603455Z",
     "start_time": "2019-04-29T12:53:48.159983Z"
    }
   },
   "outputs": [
    {
     "name": "stderr",
     "output_type": "stream",
     "text": [
      "/home/danich1/anaconda2/envs/snorkeling/lib/python3.6/site-packages/scipy/stats/stats.py:1713: FutureWarning: Using a non-tuple sequence for multidimensional indexing is deprecated; use `arr[tuple(seq)]` instead of `arr[seq]`. In the future this will be interpreted as an array index, `arr[np.array(seq)]`, which will result either in an error or a different result.\n",
      "  return np.add.reduce(sorted[indexer] * weights, axis=axis) / sumval\n"
     ]
    },
    {
     "data": {
      "text/plain": [
       "<matplotlib.axes._subplots.AxesSubplot at 0x7fc1fec1ac88>"
      ]
     },
     "execution_count": 40,
     "metadata": {},
     "output_type": "execute_result"
    },
    {
     "data": {
      "image/png": "[encoded data removed]",
      "text/plain": [
       "<matplotlib.figure.Figure at 0x7fc1e406bb00>"
      ]
     },
     "metadata": {},
     "output_type": "display_data"
    }
   ],
   "source": [
    "fig, axs = plt.subplots(ncols=2, figsize=(10, 5))\n",
    "sns.pointplot(x=\"num_lfs\", y=\"AUPRC\", data=test_dag_df, ax=axs[0])\n",
    "sns.pointplot(x=\"num_lfs\", y=\"AUROC\", data=test_dag_df, ax=axs[1])"
   ]
  },
  {
   "cell_type": "code",
   "execution_count": 41,
   "metadata": {
    "ExecuteTime": {
     "end_time": "2019-04-29T12:53:48.793109Z",
     "start_time": "2019-04-29T12:53:48.604789Z"
    }
   },
   "outputs": [
    {
     "data": {
      "text/plain": [
       "<matplotlib.axes._subplots.AxesSubplot at 0x7fc1dffacf28>"
      ]
     },
     "execution_count": 41,
     "metadata": {},
     "output_type": "execute_result"
    },
    {
     "data": {
      "image/png": "[encoded data removed]",
      "text/plain": [
       "<matplotlib.figure.Figure at 0x7fc1dffbd630>"
      ]
     },
     "metadata": {},
     "output_type": "display_data"
    }
   ],
   "source": [
    "sns.pointplot(x=\"num_lfs\", y=\"frac_correct\", data=test_dag_marginals_df, hue=\"label\")"
   ]
  },
  {
   "cell_type": "code",
   "execution_count": 42,
   "metadata": {
    "ExecuteTime": {
     "end_time": "2019-04-29T12:53:48.829542Z",
     "start_time": "2019-04-29T12:53:48.794784Z"
    }
   },
   "outputs": [],
   "source": [
    "dev_dag_df.to_csv(\n",
    "    \"data/random_sampling/DaG/results/dev_sampled_performance.tsv\", \n",
    "    index=False, sep=\"\\t\", float_format=\"%.5g\"\n",
    ")\n",
    "\n",
    "test_dag_df.to_csv(\n",
    "    \"data/random_sampling/DaG/results/test_sampled_performance.tsv\", \n",
    "    index=False, sep=\"\\t\", float_format=\"%.5g\"\n",
    ")"
   ]
  },
  {
   "cell_type": "code",
   "execution_count": 43,
   "metadata": {
    "ExecuteTime": {
     "end_time": "2019-04-29T12:53:48.855343Z",
     "start_time": "2019-04-29T12:53:48.830807Z"
    }
   },
   "outputs": [],
   "source": [
    "dev_dag_marginals_df.to_csv(\n",
    "    \"data/random_sampling/DaG/results/dev_sampled_marginals.tsv\", \n",
    "    index=False, sep=\"\\t\", float_format=\"%.5g\"\n",
    ")\n",
    "\n",
    "test_dag_marginals_df.to_csv(\n",
    "    \"data/random_sampling/DaG/results/test_sampled_marginals.tsv\", \n",
    "    index=False, sep=\"\\t\", float_format=\"%.5g\"\n",
    ")"
   ]
  },
  {
   "cell_type": "markdown",
   "metadata": {},
   "source": [
    "# Using Compound Treats Disease Label Functions to Predict Compound Binds Gene Relations"
   ]
  },
  {
   "cell_type": "markdown",
   "metadata": {
    "ExecuteTime": {
     "end_time": "2019-04-16T15:52:10.675188Z",
     "start_time": "2019-04-16T15:52:10.641058Z"
    }
   },
   "source": [
    "This section determines how well compound treats disease label functions can predict compound binds gene relations."
   ]
  },
  {
   "cell_type": "code",
   "execution_count": 44,
   "metadata": {
    "ExecuteTime": {
     "end_time": "2019-04-29T12:53:48.891657Z",
     "start_time": "2019-04-29T12:53:48.856682Z"
    }
   },
   "outputs": [],
   "source": [
    "num_of_samples = 50\n",
    "regularization_grid = pd.np.round(pd.np.linspace(0.01, 5, num=10), 2)"
   ]
  },
  {
   "cell_type": "code",
   "execution_count": 45,
   "metadata": {
    "ExecuteTime": {
     "end_time": "2019-04-29T13:51:45.401643Z",
     "start_time": "2019-04-29T12:53:48.893288Z"
    }
   },
   "outputs": [
    {
     "data": {
      "application/vnd.jupyter.widget-view+json": {
       "model_id": "1f194bd319e24b35bd418268143652c3",
       "version_major": 2,
       "version_minor": 0
      },
      "text/html": [
       "<p>Failed to display Jupyter Widget of type <code>HBox</code>.</p>\n",
       "<p>\n",
       "  If you're reading this message in the Jupyter Notebook or JupyterLab Notebook, it may mean\n",
       "  that the widgets JavaScript is still loading. If this message persists, it\n",
       "  likely means that the widgets JavaScript library is either not installed or\n",
       "  not enabled. See the <a href=\"https://ipywidgets.readthedocs.io/en/stable/user_install.html\">Jupyter\n",
       "  Widgets Documentation</a> for setup instructions.\n",
       "</p>\n",
       "<p>\n",
       "  If you're reading this message in another frontend (for example, a static\n",
       "  rendering on GitHub or <a href=\"https://nbviewer.jupyter.org/\">NBViewer</a>),\n",
       "  it may mean that your frontend doesn't currently support widgets.\n",
       "</p>\n"
      ],
      "text/plain": [
       "HBox(children=(IntProgress(value=1, bar_style='info', max=1), HTML(value='')))"
      ]
     },
     "metadata": {},
     "output_type": "display_data"
    },
    {
     "name": "stdout",
     "output_type": "stream",
     "text": [
      "\n"
     ]
    },
    {
     "data": {
      "application/vnd.jupyter.widget-view+json": {
       "model_id": "bde4912b25cd4e74b0a68597228f9b60",
       "version_major": 2,
       "version_minor": 0
      },
      "text/html": [
       "<p>Failed to display Jupyter Widget of type <code>HBox</code>.</p>\n",
       "<p>\n",
       "  If you're reading this message in the Jupyter Notebook or JupyterLab Notebook, it may mean\n",
       "  that the widgets JavaScript is still loading. If this message persists, it\n",
       "  likely means that the widgets JavaScript library is either not installed or\n",
       "  not enabled. See the <a href=\"https://ipywidgets.readthedocs.io/en/stable/user_install.html\">Jupyter\n",
       "  Widgets Documentation</a> for setup instructions.\n",
       "</p>\n",
       "<p>\n",
       "  If you're reading this message in another frontend (for example, a static\n",
       "  rendering on GitHub or <a href=\"https://nbviewer.jupyter.org/\">NBViewer</a>),\n",
       "  it may mean that your frontend doesn't currently support widgets.\n",
       "</p>\n"
      ],
      "text/plain": [
       "HBox(children=(IntProgress(value=1, bar_style='info', max=1), HTML(value='')))"
      ]
     },
     "metadata": {},
     "output_type": "display_data"
    },
    {
     "name": "stdout",
     "output_type": "stream",
     "text": [
      "\n"
     ]
    },
    {
     "data": {
      "application/vnd.jupyter.widget-view+json": {
       "model_id": "958d0f17098242ada0576e2e70f37d2a",
       "version_major": 2,
       "version_minor": 0
      },
      "text/html": [
       "<p>Failed to display Jupyter Widget of type <code>HBox</code>.</p>\n",
       "<p>\n",
       "  If you're reading this message in the Jupyter Notebook or JupyterLab Notebook, it may mean\n",
       "  that the widgets JavaScript is still loading. If this message persists, it\n",
       "  likely means that the widgets JavaScript library is either not installed or\n",
       "  not enabled. See the <a href=\"https://ipywidgets.readthedocs.io/en/stable/user_install.html\">Jupyter\n",
       "  Widgets Documentation</a> for setup instructions.\n",
       "</p>\n",
       "<p>\n",
       "  If you're reading this message in another frontend (for example, a static\n",
       "  rendering on GitHub or <a href=\"https://nbviewer.jupyter.org/\">NBViewer</a>),\n",
       "  it may mean that your frontend doesn't currently support widgets.\n",
       "</p>\n"
      ],
      "text/plain": [
       "HBox(children=(IntProgress(value=1, bar_style='info', max=1), HTML(value='')))"
      ]
     },
     "metadata": {},
     "output_type": "display_data"
    },
    {
     "name": "stdout",
     "output_type": "stream",
     "text": [
      "\n"
     ]
    },
    {
     "data": {
      "application/vnd.jupyter.widget-view+json": {
       "model_id": "5a679cbb62714d26b7dadf6dbbc5bf93",
       "version_major": 2,
       "version_minor": 0
      },
      "text/html": [
       "<p>Failed to display Jupyter Widget of type <code>HBox</code>.</p>\n",
       "<p>\n",
       "  If you're reading this message in the Jupyter Notebook or JupyterLab Notebook, it may mean\n",
       "  that the widgets JavaScript is still loading. If this message persists, it\n",
       "  likely means that the widgets JavaScript library is either not installed or\n",
       "  not enabled. See the <a href=\"https://ipywidgets.readthedocs.io/en/stable/user_install.html\">Jupyter\n",
       "  Widgets Documentation</a> for setup instructions.\n",
       "</p>\n",
       "<p>\n",
       "  If you're reading this message in another frontend (for example, a static\n",
       "  rendering on GitHub or <a href=\"https://nbviewer.jupyter.org/\">NBViewer</a>),\n",
       "  it may mean that your frontend doesn't currently support widgets.\n",
       "</p>\n"
      ],
      "text/plain": [
       "HBox(children=(IntProgress(value=1, bar_style='info', max=1), HTML(value='')))"
      ]
     },
     "metadata": {},
     "output_type": "display_data"
    },
    {
     "name": "stdout",
     "output_type": "stream",
     "text": [
      "\n"
     ]
    },
    {
     "data": {
      "application/vnd.jupyter.widget-view+json": {
       "model_id": "40b3d9548d88444aa759b68dcbb841da",
       "version_major": 2,
       "version_minor": 0
      },
      "text/html": [
       "<p>Failed to display Jupyter Widget of type <code>HBox</code>.</p>\n",
       "<p>\n",
       "  If you're reading this message in the Jupyter Notebook or JupyterLab Notebook, it may mean\n",
       "  that the widgets JavaScript is still loading. If this message persists, it\n",
       "  likely means that the widgets JavaScript library is either not installed or\n",
       "  not enabled. See the <a href=\"https://ipywidgets.readthedocs.io/en/stable/user_install.html\">Jupyter\n",
       "  Widgets Documentation</a> for setup instructions.\n",
       "</p>\n",
       "<p>\n",
       "  If you're reading this message in another frontend (for example, a static\n",
       "  rendering on GitHub or <a href=\"https://nbviewer.jupyter.org/\">NBViewer</a>),\n",
       "  it may mean that your frontend doesn't currently support widgets.\n",
       "</p>\n"
      ],
      "text/plain": [
       "HBox(children=(IntProgress(value=1, bar_style='info', max=1), HTML(value='')))"
      ]
     },
     "metadata": {},
     "output_type": "display_data"
    },
    {
     "name": "stdout",
     "output_type": "stream",
     "text": [
      "\n"
     ]
    },
    {
     "data": {
      "application/vnd.jupyter.widget-view+json": {
       "model_id": "e99abff86bee4fea85c1a58c69c39c09",
       "version_major": 2,
       "version_minor": 0
      },
      "text/html": [
       "<p>Failed to display Jupyter Widget of type <code>HBox</code>.</p>\n",
       "<p>\n",
       "  If you're reading this message in the Jupyter Notebook or JupyterLab Notebook, it may mean\n",
       "  that the widgets JavaScript is still loading. If this message persists, it\n",
       "  likely means that the widgets JavaScript library is either not installed or\n",
       "  not enabled. See the <a href=\"https://ipywidgets.readthedocs.io/en/stable/user_install.html\">Jupyter\n",
       "  Widgets Documentation</a> for setup instructions.\n",
       "</p>\n",
       "<p>\n",
       "  If you're reading this message in another frontend (for example, a static\n",
       "  rendering on GitHub or <a href=\"https://nbviewer.jupyter.org/\">NBViewer</a>),\n",
       "  it may mean that your frontend doesn't currently support widgets.\n",
       "</p>\n"
      ],
      "text/plain": [
       "HBox(children=(IntProgress(value=1, bar_style='info', max=1), HTML(value='')))"
      ]
     },
     "metadata": {},
     "output_type": "display_data"
    },
    {
     "name": "stdout",
     "output_type": "stream",
     "text": [
      "\n"
     ]
    }
   ],
   "source": [
    "dev_ctd_df = pd.DataFrame(dev_baseline)\n",
    "test_ctd_df = pd.DataFrame(test_baseline)\n",
    "dev_ctd_marginals_df = pd.DataFrame(dev_baseline_marginals, columns=[\"marginals\", \"label\"]).assign(num_lfs=0)\n",
    "test_ctd_marginals_df = pd.DataFrame(test_baseline_marginals, columns=[\"marginals\", \"label\"]).assign(num_lfs=0)\n",
    "\n",
    "ctd_start = 59\n",
    "ctd_end = 81\n",
    "\n",
    "range_of_sample_sizes = (\n",
    "    list(range(1, correct_L[:,ctd_start:ctd_end].shape[1], 5)) +\n",
    "    [correct_L[:,ctd_start:ctd_end].shape[1]]\n",
    ")\n",
    "\n",
    "lf_sample_keeper, dev_results_df, test_results_df, dev_marginals_df, test_marginals_df = run_random_additional_lfs(\n",
    "    range_of_sample_sizes=range_of_sample_sizes, \n",
    "    range_of_lf_indicies = list(range(ctd_start, ctd_end+1)),\n",
    "    size_of_sample_pool=ctd_end-ctd_start,\n",
    "    num_of_samples=num_of_samples,\n",
    "    train=correct_L, \n",
    "    dev=correct_L_dev,\n",
    "    dev_labels=candidate_dfs['dev'].curated_cbg.values,\n",
    "    test=correct_L_test,\n",
    "    test_labels=candidate_dfs['test'].curated_cbg.values,\n",
    "    grid=regularization_grid,\n",
    "    label_matricies=label_matricies['train'],\n",
    "    train_marginal_dir='data/random_sampling/CtD/marginals/',\n",
    "    ds_start=ds_start,\n",
    "    ds_end=ds_end,\n",
    ")\n",
    "\n",
    "dev_ctd_df = dev_ctd_df.append(dev_results_df, sort=True)\n",
    "test_ctd_df = test_ctd_df.append(test_results_df, sort=True)\n",
    "dev_ctd_marginals_df = dev_ctd_marginals_df.append(dev_marginals_df, sort=True)\n",
    "test_ctd_marginals_df = test_ctd_marginals_df.append(test_marginals_df, sort=True)"
   ]
  },
  {
   "cell_type": "code",
   "execution_count": 46,
   "metadata": {
    "ExecuteTime": {
     "end_time": "2019-04-29T13:51:50.768210Z",
     "start_time": "2019-04-29T13:51:45.403298Z"
    }
   },
   "outputs": [],
   "source": [
    "dev_ctd_marginals_df = (\n",
    "     dev_ctd_marginals_df\n",
    "     .assign(\n",
    "        frac_correct=(\n",
    "            dev_ctd_marginals_df\n",
    "            .apply(count_fraction_correct,axis=1)\n",
    "            .values\n",
    "        )\n",
    "    )\n",
    "    .groupby([\"label\", \"num_lfs\"])[\"frac_correct\"]\n",
    "    .agg(pd.np.mean)\n",
    "    .reset_index(level=[\"label\", \"num_lfs\"])\n",
    " )"
   ]
  },
  {
   "cell_type": "code",
   "execution_count": 47,
   "metadata": {
    "ExecuteTime": {
     "end_time": "2019-04-29T13:51:56.175811Z",
     "start_time": "2019-04-29T13:51:50.769610Z"
    }
   },
   "outputs": [],
   "source": [
    "test_ctd_marginals_df = (\n",
    "    test_ctd_marginals_df\n",
    "    .assign(\n",
    "        frac_correct=(\n",
    "            test_ctd_marginals_df\n",
    "            .apply(count_fraction_correct, axis=1)\n",
    "            .values\n",
    "        )\n",
    "    )\n",
    "    .groupby([\"label\", \"num_lfs\"])[\"frac_correct\"]\n",
    "    .agg(pd.np.mean)\n",
    "    .reset_index(level=[\"label\", \"num_lfs\"])\n",
    ")"
   ]
  },
  {
   "cell_type": "markdown",
   "metadata": {},
   "source": [
    "## Dev Set Performance (AUPRC, AUROC)"
   ]
  },
  {
   "cell_type": "code",
   "execution_count": 48,
   "metadata": {
    "ExecuteTime": {
     "end_time": "2019-04-29T13:51:56.596684Z",
     "start_time": "2019-04-29T13:51:56.177286Z"
    }
   },
   "outputs": [
    {
     "name": "stderr",
     "output_type": "stream",
     "text": [
      "/home/danich1/anaconda2/envs/snorkeling/lib/python3.6/site-packages/scipy/stats/stats.py:1713: FutureWarning: Using a non-tuple sequence for multidimensional indexing is deprecated; use `arr[tuple(seq)]` instead of `arr[seq]`. In the future this will be interpreted as an array index, `arr[np.array(seq)]`, which will result either in an error or a different result.\n",
      "  return np.add.reduce(sorted[indexer] * weights, axis=axis) / sumval\n"
     ]
    },
    {
     "data": {
      "text/plain": [
       "<matplotlib.axes._subplots.AxesSubplot at 0x7fc1deab4b00>"
      ]
     },
     "execution_count": 48,
     "metadata": {},
     "output_type": "execute_result"
    },
    {
     "data": {
      "image/png": "[encoded data removed]",
      "text/plain": [
       "<matplotlib.figure.Figure at 0x7fc1fe81e7b8>"
      ]
     },
     "metadata": {},
     "output_type": "display_data"
    }
   ],
   "source": [
    "fig, axs = plt.subplots(ncols=2, figsize=(10, 5))\n",
    "sns.pointplot(x=\"num_lfs\", y=\"AUPRC\", data=dev_ctd_df, ax=axs[0])\n",
    "sns.pointplot(x=\"num_lfs\", y=\"AUROC\", data=dev_ctd_df, ax=axs[1])"
   ]
  },
  {
   "cell_type": "code",
   "execution_count": 49,
   "metadata": {
    "ExecuteTime": {
     "end_time": "2019-04-29T13:51:56.779158Z",
     "start_time": "2019-04-29T13:51:56.598149Z"
    }
   },
   "outputs": [
    {
     "data": {
      "text/plain": [
       "<matplotlib.axes._subplots.AxesSubplot at 0x7fc1dea0bb70>"
      ]
     },
     "execution_count": 49,
     "metadata": {},
     "output_type": "execute_result"
    },
    {
     "data": {
      "image/png": "[encoded data removed]",
      "text/plain": [
       "<matplotlib.figure.Figure at 0x7fc1e7b6f390>"
      ]
     },
     "metadata": {},
     "output_type": "display_data"
    }
   ],
   "source": [
    "sns.pointplot(x=\"num_lfs\", y=\"frac_correct\", data=dev_ctd_marginals_df, hue=\"label\")"
   ]
  },
  {
   "cell_type": "markdown",
   "metadata": {},
   "source": [
    "## Test Set Performance (AUPRC, AUROC)"
   ]
  },
  {
   "cell_type": "code",
   "execution_count": 50,
   "metadata": {
    "ExecuteTime": {
     "end_time": "2019-04-29T13:51:57.205393Z",
     "start_time": "2019-04-29T13:51:56.780435Z"
    }
   },
   "outputs": [
    {
     "name": "stderr",
     "output_type": "stream",
     "text": [
      "/home/danich1/anaconda2/envs/snorkeling/lib/python3.6/site-packages/scipy/stats/stats.py:1713: FutureWarning: Using a non-tuple sequence for multidimensional indexing is deprecated; use `arr[tuple(seq)]` instead of `arr[seq]`. In the future this will be interpreted as an array index, `arr[np.array(seq)]`, which will result either in an error or a different result.\n",
      "  return np.add.reduce(sorted[indexer] * weights, axis=axis) / sumval\n"
     ]
    },
    {
     "data": {
      "text/plain": [
       "<matplotlib.axes._subplots.AxesSubplot at 0x7fc1de96d550>"
      ]
     },
     "execution_count": 50,
     "metadata": {},
     "output_type": "execute_result"
    },
    {
     "data": {
      "image/png": "[encoded data removed]",
      "text/plain": [
       "<matplotlib.figure.Figure at 0x7fc1fe93e358>"
      ]
     },
     "metadata": {},
     "output_type": "display_data"
    }
   ],
   "source": [
    "fig, axs = plt.subplots(ncols=2, figsize=(10, 5))\n",
    "sns.pointplot(x=\"num_lfs\", y=\"AUPRC\", data=test_ctd_df, ax=axs[0])\n",
    "sns.pointplot(x=\"num_lfs\", y=\"AUROC\", data=test_ctd_df, ax=axs[1])"
   ]
  },
  {
   "cell_type": "code",
   "execution_count": 51,
   "metadata": {
    "ExecuteTime": {
     "end_time": "2019-04-29T13:51:57.386662Z",
     "start_time": "2019-04-29T13:51:57.206968Z"
    }
   },
   "outputs": [
    {
     "data": {
      "text/plain": [
       "<matplotlib.axes._subplots.AxesSubplot at 0x7fc1de94e588>"
      ]
     },
     "execution_count": 51,
     "metadata": {},
     "output_type": "execute_result"
    },
    {
     "data": {
      "image/png": "[encoded data removed]",
      "text/plain": [
       "<matplotlib.figure.Figure at 0x7fc1de8e8860>"
      ]
     },
     "metadata": {},
     "output_type": "display_data"
    }
   ],
   "source": [
    "sns.pointplot(x=\"num_lfs\", y=\"frac_correct\", data=test_ctd_marginals_df, hue=\"label\")"
   ]
  },
  {
   "cell_type": "code",
   "execution_count": 52,
   "metadata": {
    "ExecuteTime": {
     "end_time": "2019-04-29T13:51:57.415521Z",
     "start_time": "2019-04-29T13:51:57.388049Z"
    }
   },
   "outputs": [],
   "source": [
    "dev_ctd_df.to_csv(\n",
    "    \"data/random_sampling/CtD/results/dev_sampled_performance.tsv\", \n",
    "    index=False, sep=\"\\t\", float_format=\"%.5g\"\n",
    ")\n",
    "\n",
    "test_ctd_df.to_csv(\n",
    "    \"data/random_sampling/CtD/results/test_sampled_performance.tsv\", \n",
    "    index=False, sep=\"\\t\", float_format=\"%.5g\"\n",
    ")"
   ]
  },
  {
   "cell_type": "code",
   "execution_count": 53,
   "metadata": {
    "ExecuteTime": {
     "end_time": "2019-04-29T13:51:57.441428Z",
     "start_time": "2019-04-29T13:51:57.416883Z"
    }
   },
   "outputs": [],
   "source": [
    "dev_ctd_marginals_df.to_csv(\n",
    "    \"data/random_sampling/CtD/results/dev_sampled_marginals.tsv\", \n",
    "    index=False, sep=\"\\t\", float_format=\"%.5g\"\n",
    ")\n",
    "\n",
    "test_ctd_marginals_df.to_csv(\n",
    "    \"data/random_sampling/CtD/results/test_sampled_marginals.tsv\", \n",
    "    index=False, sep=\"\\t\", float_format=\"%.5g\"\n",
    ")"
   ]
  },
  {
   "cell_type": "markdown",
   "metadata": {},
   "source": [
    "# Using Gene Interacts Gene Label Functions to Predict Compound Binds Gene Relations"
   ]
  },
  {
   "cell_type": "markdown",
   "metadata": {},
   "source": [
    "This section determines how well gene interacts gene label functions can predict compound binds gene relations."
   ]
  },
  {
   "cell_type": "code",
   "execution_count": 54,
   "metadata": {
    "ExecuteTime": {
     "end_time": "2019-04-29T13:51:57.464982Z",
     "start_time": "2019-04-29T13:51:57.442825Z"
    }
   },
   "outputs": [],
   "source": [
    "num_of_samples = 50\n",
    "regularization_grid = pd.np.round(pd.np.linspace(0.01, 5, num=10), 2)"
   ]
  },
  {
   "cell_type": "code",
   "execution_count": 55,
   "metadata": {
    "ExecuteTime": {
     "end_time": "2019-04-29T15:05:51.957220Z",
     "start_time": "2019-04-29T13:51:57.466340Z"
    }
   },
   "outputs": [
    {
     "data": {
      "application/vnd.jupyter.widget-view+json": {
       "model_id": "5b7f73848a924f5196e1d3d0a9ed9d0a",
       "version_major": 2,
       "version_minor": 0
      },
      "text/html": [
       "<p>Failed to display Jupyter Widget of type <code>HBox</code>.</p>\n",
       "<p>\n",
       "  If you're reading this message in the Jupyter Notebook or JupyterLab Notebook, it may mean\n",
       "  that the widgets JavaScript is still loading. If this message persists, it\n",
       "  likely means that the widgets JavaScript library is either not installed or\n",
       "  not enabled. See the <a href=\"https://ipywidgets.readthedocs.io/en/stable/user_install.html\">Jupyter\n",
       "  Widgets Documentation</a> for setup instructions.\n",
       "</p>\n",
       "<p>\n",
       "  If you're reading this message in another frontend (for example, a static\n",
       "  rendering on GitHub or <a href=\"https://nbviewer.jupyter.org/\">NBViewer</a>),\n",
       "  it may mean that your frontend doesn't currently support widgets.\n",
       "</p>\n"
      ],
      "text/plain": [
       "HBox(children=(IntProgress(value=1, bar_style='info', max=1), HTML(value='')))"
      ]
     },
     "metadata": {},
     "output_type": "display_data"
    },
    {
     "name": "stdout",
     "output_type": "stream",
     "text": [
      "\n"
     ]
    },
    {
     "data": {
      "application/vnd.jupyter.widget-view+json": {
       "model_id": "7151f8dabb75477cbaef13b5bb9b281e",
       "version_major": 2,
       "version_minor": 0
      },
      "text/html": [
       "<p>Failed to display Jupyter Widget of type <code>HBox</code>.</p>\n",
       "<p>\n",
       "  If you're reading this message in the Jupyter Notebook or JupyterLab Notebook, it may mean\n",
       "  that the widgets JavaScript is still loading. If this message persists, it\n",
       "  likely means that the widgets JavaScript library is either not installed or\n",
       "  not enabled. See the <a href=\"https://ipywidgets.readthedocs.io/en/stable/user_install.html\">Jupyter\n",
       "  Widgets Documentation</a> for setup instructions.\n",
       "</p>\n",
       "<p>\n",
       "  If you're reading this message in another frontend (for example, a static\n",
       "  rendering on GitHub or <a href=\"https://nbviewer.jupyter.org/\">NBViewer</a>),\n",
       "  it may mean that your frontend doesn't currently support widgets.\n",
       "</p>\n"
      ],
      "text/plain": [
       "HBox(children=(IntProgress(value=1, bar_style='info', max=1), HTML(value='')))"
      ]
     },
     "metadata": {},
     "output_type": "display_data"
    },
    {
     "name": "stdout",
     "output_type": "stream",
     "text": [
      "\n"
     ]
    },
    {
     "data": {
      "application/vnd.jupyter.widget-view+json": {
       "model_id": "532fcd1969bc4dbbbf4595a7f9ac8e5c",
       "version_major": 2,
       "version_minor": 0
      },
      "text/html": [
       "<p>Failed to display Jupyter Widget of type <code>HBox</code>.</p>\n",
       "<p>\n",
       "  If you're reading this message in the Jupyter Notebook or JupyterLab Notebook, it may mean\n",
       "  that the widgets JavaScript is still loading. If this message persists, it\n",
       "  likely means that the widgets JavaScript library is either not installed or\n",
       "  not enabled. See the <a href=\"https://ipywidgets.readthedocs.io/en/stable/user_install.html\">Jupyter\n",
       "  Widgets Documentation</a> for setup instructions.\n",
       "</p>\n",
       "<p>\n",
       "  If you're reading this message in another frontend (for example, a static\n",
       "  rendering on GitHub or <a href=\"https://nbviewer.jupyter.org/\">NBViewer</a>),\n",
       "  it may mean that your frontend doesn't currently support widgets.\n",
       "</p>\n"
      ],
      "text/plain": [
       "HBox(children=(IntProgress(value=1, bar_style='info', max=1), HTML(value='')))"
      ]
     },
     "metadata": {},
     "output_type": "display_data"
    },
    {
     "name": "stdout",
     "output_type": "stream",
     "text": [
      "\n"
     ]
    },
    {
     "data": {
      "application/vnd.jupyter.widget-view+json": {
       "model_id": "e7f4827969134514a5b26dc36e6cd356",
       "version_major": 2,
       "version_minor": 0
      },
      "text/html": [
       "<p>Failed to display Jupyter Widget of type <code>HBox</code>.</p>\n",
       "<p>\n",
       "  If you're reading this message in the Jupyter Notebook or JupyterLab Notebook, it may mean\n",
       "  that the widgets JavaScript is still loading. If this message persists, it\n",
       "  likely means that the widgets JavaScript library is either not installed or\n",
       "  not enabled. See the <a href=\"https://ipywidgets.readthedocs.io/en/stable/user_install.html\">Jupyter\n",
       "  Widgets Documentation</a> for setup instructions.\n",
       "</p>\n",
       "<p>\n",
       "  If you're reading this message in another frontend (for example, a static\n",
       "  rendering on GitHub or <a href=\"https://nbviewer.jupyter.org/\">NBViewer</a>),\n",
       "  it may mean that your frontend doesn't currently support widgets.\n",
       "</p>\n"
      ],
      "text/plain": [
       "HBox(children=(IntProgress(value=1, bar_style='info', max=1), HTML(value='')))"
      ]
     },
     "metadata": {},
     "output_type": "display_data"
    },
    {
     "name": "stdout",
     "output_type": "stream",
     "text": [
      "\n"
     ]
    },
    {
     "data": {
      "application/vnd.jupyter.widget-view+json": {
       "model_id": "eb35e08859df4eb69a15574c80b11cf7",
       "version_major": 2,
       "version_minor": 0
      },
      "text/html": [
       "<p>Failed to display Jupyter Widget of type <code>HBox</code>.</p>\n",
       "<p>\n",
       "  If you're reading this message in the Jupyter Notebook or JupyterLab Notebook, it may mean\n",
       "  that the widgets JavaScript is still loading. If this message persists, it\n",
       "  likely means that the widgets JavaScript library is either not installed or\n",
       "  not enabled. See the <a href=\"https://ipywidgets.readthedocs.io/en/stable/user_install.html\">Jupyter\n",
       "  Widgets Documentation</a> for setup instructions.\n",
       "</p>\n",
       "<p>\n",
       "  If you're reading this message in another frontend (for example, a static\n",
       "  rendering on GitHub or <a href=\"https://nbviewer.jupyter.org/\">NBViewer</a>),\n",
       "  it may mean that your frontend doesn't currently support widgets.\n",
       "</p>\n"
      ],
      "text/plain": [
       "HBox(children=(IntProgress(value=1, bar_style='info', max=1), HTML(value='')))"
      ]
     },
     "metadata": {},
     "output_type": "display_data"
    },
    {
     "name": "stdout",
     "output_type": "stream",
     "text": [
      "\n"
     ]
    },
    {
     "data": {
      "application/vnd.jupyter.widget-view+json": {
       "model_id": "5f6e435c1a0d457a845f13b4ffbffbe0",
       "version_major": 2,
       "version_minor": 0
      },
      "text/html": [
       "<p>Failed to display Jupyter Widget of type <code>HBox</code>.</p>\n",
       "<p>\n",
       "  If you're reading this message in the Jupyter Notebook or JupyterLab Notebook, it may mean\n",
       "  that the widgets JavaScript is still loading. If this message persists, it\n",
       "  likely means that the widgets JavaScript library is either not installed or\n",
       "  not enabled. See the <a href=\"https://ipywidgets.readthedocs.io/en/stable/user_install.html\">Jupyter\n",
       "  Widgets Documentation</a> for setup instructions.\n",
       "</p>\n",
       "<p>\n",
       "  If you're reading this message in another frontend (for example, a static\n",
       "  rendering on GitHub or <a href=\"https://nbviewer.jupyter.org/\">NBViewer</a>),\n",
       "  it may mean that your frontend doesn't currently support widgets.\n",
       "</p>\n"
      ],
      "text/plain": [
       "HBox(children=(IntProgress(value=1, bar_style='info', max=1), HTML(value='')))"
      ]
     },
     "metadata": {},
     "output_type": "display_data"
    },
    {
     "name": "stdout",
     "output_type": "stream",
     "text": [
      "\n"
     ]
    },
    {
     "data": {
      "application/vnd.jupyter.widget-view+json": {
       "model_id": "58f3b426a8404976b7d22dabbd147e96",
       "version_major": 2,
       "version_minor": 0
      },
      "text/html": [
       "<p>Failed to display Jupyter Widget of type <code>HBox</code>.</p>\n",
       "<p>\n",
       "  If you're reading this message in the Jupyter Notebook or JupyterLab Notebook, it may mean\n",
       "  that the widgets JavaScript is still loading. If this message persists, it\n",
       "  likely means that the widgets JavaScript library is either not installed or\n",
       "  not enabled. See the <a href=\"https://ipywidgets.readthedocs.io/en/stable/user_install.html\">Jupyter\n",
       "  Widgets Documentation</a> for setup instructions.\n",
       "</p>\n",
       "<p>\n",
       "  If you're reading this message in another frontend (for example, a static\n",
       "  rendering on GitHub or <a href=\"https://nbviewer.jupyter.org/\">NBViewer</a>),\n",
       "  it may mean that your frontend doesn't currently support widgets.\n",
       "</p>\n"
      ],
      "text/plain": [
       "HBox(children=(IntProgress(value=1, bar_style='info', max=1), HTML(value='')))"
      ]
     },
     "metadata": {},
     "output_type": "display_data"
    },
    {
     "name": "stdout",
     "output_type": "stream",
     "text": [
      "\n"
     ]
    }
   ],
   "source": [
    "dev_gig_df = pd.DataFrame(dev_baseline)\n",
    "test_gig_df = pd.DataFrame(test_baseline)\n",
    "dev_gig_marginals_df = pd.DataFrame(dev_baseline_marginals, columns=[\"marginals\", \"label\"]).assign(num_lfs=0)\n",
    "test_gig_marginals_df = pd.DataFrame(test_baseline_marginals, columns=[\"marginals\", \"label\"]).assign(num_lfs=0)\n",
    "\n",
    "gig_start = 81\n",
    "gig_end = 109\n",
    "\n",
    "range_of_sample_sizes = (\n",
    "    list(range(1, correct_L[:,gig_start:gig_end].shape[1], 5)) +\n",
    "    [correct_L[:,gig_start:gig_end].shape[1]]\n",
    ")\n",
    "\n",
    "lf_sample_keeper, dev_results_df, test_results_df, dev_marginals_df, test_marginals_df = run_random_additional_lfs(\n",
    "    range_of_sample_sizes=range_of_sample_sizes, \n",
    "    range_of_lf_indicies = list(range(gig_start, gig_end+1)),\n",
    "    size_of_sample_pool=gig_end-gig_start,\n",
    "    num_of_samples=num_of_samples,\n",
    "    train=correct_L, \n",
    "    dev=correct_L_dev,\n",
    "    dev_labels=candidate_dfs['dev'].curated_cbg.values,\n",
    "    test=correct_L_test,\n",
    "    test_labels=candidate_dfs['test'].curated_cbg.values,\n",
    "    grid=regularization_grid,\n",
    "    label_matricies=label_matricies['train'],\n",
    "    train_marginal_dir='data/random_sampling/GiG/marginals/',\n",
    "    ds_start=ds_start,\n",
    "    ds_end=ds_end,\n",
    ")\n",
    "\n",
    "dev_gig_df = dev_gig_df.append(dev_results_df, sort=True)\n",
    "test_gig_df = test_gig_df.append(test_results_df, sort=True)\n",
    "dev_gig_marginals_df = dev_gig_marginals_df.append(dev_marginals_df, sort=True)\n",
    "test_gig_marginals_df = test_gig_marginals_df.append(test_marginals_df, sort=True)"
   ]
  },
  {
   "cell_type": "code",
   "execution_count": 56,
   "metadata": {
    "ExecuteTime": {
     "end_time": "2019-04-29T15:05:58.158816Z",
     "start_time": "2019-04-29T15:05:51.961371Z"
    }
   },
   "outputs": [],
   "source": [
    "dev_gig_marginals_df = (\n",
    "     dev_gig_marginals_df\n",
    "     .assign(\n",
    "        frac_correct=(\n",
    "            dev_gig_marginals_df\n",
    "            .apply(count_fraction_correct,axis=1)\n",
    "            .values\n",
    "        )\n",
    "    )\n",
    "    .groupby([\"label\", \"num_lfs\"])[\"frac_correct\"]\n",
    "    .agg(pd.np.mean)\n",
    "    .reset_index(level=[\"label\", \"num_lfs\"])\n",
    " )"
   ]
  },
  {
   "cell_type": "code",
   "execution_count": 57,
   "metadata": {
    "ExecuteTime": {
     "end_time": "2019-04-29T15:06:04.369208Z",
     "start_time": "2019-04-29T15:05:58.160357Z"
    }
   },
   "outputs": [],
   "source": [
    "test_gig_marginals_df = (\n",
    "    test_gig_marginals_df\n",
    "    .assign(\n",
    "        frac_correct=(\n",
    "            test_gig_marginals_df\n",
    "            .apply(count_fraction_correct, axis=1)\n",
    "            .values\n",
    "        )\n",
    "    )\n",
    "    .groupby([\"label\", \"num_lfs\"])[\"frac_correct\"]\n",
    "    .agg(pd.np.mean)\n",
    "    .reset_index(level=[\"label\", \"num_lfs\"])\n",
    ")"
   ]
  },
  {
   "cell_type": "markdown",
   "metadata": {},
   "source": [
    "## Dev Set Performance (AUPRC, AUROC)"
   ]
  },
  {
   "cell_type": "code",
   "execution_count": 58,
   "metadata": {
    "ExecuteTime": {
     "end_time": "2019-04-29T15:06:04.807141Z",
     "start_time": "2019-04-29T15:06:04.370677Z"
    }
   },
   "outputs": [
    {
     "name": "stderr",
     "output_type": "stream",
     "text": [
      "/home/danich1/anaconda2/envs/snorkeling/lib/python3.6/site-packages/scipy/stats/stats.py:1713: FutureWarning: Using a non-tuple sequence for multidimensional indexing is deprecated; use `arr[tuple(seq)]` instead of `arr[seq]`. In the future this will be interpreted as an array index, `arr[np.array(seq)]`, which will result either in an error or a different result.\n",
      "  return np.add.reduce(sorted[indexer] * weights, axis=axis) / sumval\n"
     ]
    },
    {
     "data": {
      "text/plain": [
       "<matplotlib.axes._subplots.AxesSubplot at 0x7fc1dcd2b5f8>"
      ]
     },
     "execution_count": 58,
     "metadata": {},
     "output_type": "execute_result"
    },
    {
     "data": {
      "image/png": "[encoded data removed]",
      "text/plain": [
       "<matplotlib.figure.Figure at 0x7fc1de80f0f0>"
      ]
     },
     "metadata": {},
     "output_type": "display_data"
    }
   ],
   "source": [
    "fig, axs = plt.subplots(ncols=2, figsize=(10, 5))\n",
    "sns.pointplot(x=\"num_lfs\", y=\"AUPRC\", data=dev_gig_df, ax=axs[0])\n",
    "sns.pointplot(x=\"num_lfs\", y=\"AUROC\", data=dev_gig_df, ax=axs[1])"
   ]
  },
  {
   "cell_type": "code",
   "execution_count": 59,
   "metadata": {
    "ExecuteTime": {
     "end_time": "2019-04-29T15:06:05.002256Z",
     "start_time": "2019-04-29T15:06:04.808519Z"
    }
   },
   "outputs": [
    {
     "data": {
      "text/plain": [
       "<matplotlib.axes._subplots.AxesSubplot at 0x7fc1dccadb00>"
      ]
     },
     "execution_count": 59,
     "metadata": {},
     "output_type": "execute_result"
    },
    {
     "data": {
      "image/png": "[encoded data removed]",
      "text/plain": [
       "<matplotlib.figure.Figure at 0x7fc1de8e8ef0>"
      ]
     },
     "metadata": {},
     "output_type": "display_data"
    }
   ],
   "source": [
    "sns.pointplot(x=\"num_lfs\", y=\"frac_correct\", data=dev_gig_marginals_df, hue=\"label\")"
   ]
  },
  {
   "cell_type": "markdown",
   "metadata": {},
   "source": [
    "## Test Set Performance (AUPRC, AUROC)"
   ]
  },
  {
   "cell_type": "code",
   "execution_count": 60,
   "metadata": {
    "ExecuteTime": {
     "end_time": "2019-04-29T15:06:05.455619Z",
     "start_time": "2019-04-29T15:06:05.003698Z"
    }
   },
   "outputs": [
    {
     "name": "stderr",
     "output_type": "stream",
     "text": [
      "/home/danich1/anaconda2/envs/snorkeling/lib/python3.6/site-packages/scipy/stats/stats.py:1713: FutureWarning: Using a non-tuple sequence for multidimensional indexing is deprecated; use `arr[tuple(seq)]` instead of `arr[seq]`. In the future this will be interpreted as an array index, `arr[np.array(seq)]`, which will result either in an error or a different result.\n",
      "  return np.add.reduce(sorted[indexer] * weights, axis=axis) / sumval\n"
     ]
    },
    {
     "data": {
      "text/plain": [
       "<matplotlib.axes._subplots.AxesSubplot at 0x7fc1dcbf1eb8>"
      ]
     },
     "execution_count": 60,
     "metadata": {},
     "output_type": "execute_result"
    },
    {
     "data": {
      "image/png": "[encoded data removed]",
      "text/plain": [
       "<matplotlib.figure.Figure at 0x7fc1dcc2f0b8>"
      ]
     },
     "metadata": {},
     "output_type": "display_data"
    }
   ],
   "source": [
    "fig, axs = plt.subplots(ncols=2, figsize=(10, 5))\n",
    "sns.pointplot(x=\"num_lfs\", y=\"AUPRC\", data=test_gig_df, ax=axs[0])\n",
    "sns.pointplot(x=\"num_lfs\", y=\"AUROC\", data=test_gig_df, ax=axs[1])"
   ]
  },
  {
   "cell_type": "code",
   "execution_count": 61,
   "metadata": {
    "ExecuteTime": {
     "end_time": "2019-04-29T15:06:05.649542Z",
     "start_time": "2019-04-29T15:06:05.457050Z"
    }
   },
   "outputs": [
    {
     "data": {
      "text/plain": [
       "<matplotlib.axes._subplots.AxesSubplot at 0x7fc1dcbd06d8>"
      ]
     },
     "execution_count": 61,
     "metadata": {},
     "output_type": "execute_result"
    },
    {
     "data": {
      "image/png": "[encoded data removed]",
      "text/plain": [
       "<matplotlib.figure.Figure at 0x7fc1dcc3b710>"
      ]
     },
     "metadata": {},
     "output_type": "display_data"
    }
   ],
   "source": [
    "sns.pointplot(x=\"num_lfs\", y=\"frac_correct\", data=test_gig_marginals_df, hue=\"label\")"
   ]
  },
  {
   "cell_type": "code",
   "execution_count": 62,
   "metadata": {
    "ExecuteTime": {
     "end_time": "2019-04-29T15:06:05.678112Z",
     "start_time": "2019-04-29T15:06:05.650934Z"
    }
   },
   "outputs": [],
   "source": [
    "dev_gig_df.to_csv(\n",
    "    \"data/random_sampling/GiG/results/dev_sampled_performance.tsv\", \n",
    "    index=False, sep=\"\\t\", float_format=\"%.5g\"\n",
    ")\n",
    "\n",
    "test_gig_df.to_csv(\n",
    "    \"data/random_sampling/GiG/results/test_sampled_performance.tsv\", \n",
    "    index=False, sep=\"\\t\", float_format=\"%.5g\"\n",
    ")"
   ]
  },
  {
   "cell_type": "code",
   "execution_count": 63,
   "metadata": {
    "ExecuteTime": {
     "end_time": "2019-04-29T15:06:05.704188Z",
     "start_time": "2019-04-29T15:06:05.679249Z"
    }
   },
   "outputs": [],
   "source": [
    "dev_gig_marginals_df.to_csv(\n",
    "    \"data/random_sampling/GiG/results/dev_sampled_marginals.tsv\", \n",
    "    index=False, sep=\"\\t\", float_format=\"%.5g\"\n",
    ")\n",
    "\n",
    "test_gig_marginals_df.to_csv(\n",
    "    \"data/random_sampling/GiG/results/test_sampled_marginals.tsv\", \n",
    "    index=False, sep=\"\\t\", float_format=\"%.5g\"\n",
    ")"
   ]
  },
  {
   "cell_type": "markdown",
   "metadata": {},
   "source": [
    "# All (DaG, GiG, CbG, CtD) Label Functions to Predict Compound Binds Gene Relations"
   ]
  },
  {
   "cell_type": "markdown",
   "metadata": {},
   "source": [
    "This section determines how well all label functions can predict compound binds gene relations."
   ]
  },
  {
   "cell_type": "code",
   "execution_count": 64,
   "metadata": {
    "ExecuteTime": {
     "end_time": "2019-04-29T15:06:05.728016Z",
     "start_time": "2019-04-29T15:06:05.705885Z"
    }
   },
   "outputs": [],
   "source": [
    "num_of_samples = 50\n",
    "regularization_grid = pd.np.round(pd.np.linspace(0.01, 5, num=5), 2)"
   ]
  },
  {
   "cell_type": "code",
   "execution_count": 66,
   "metadata": {
    "ExecuteTime": {
     "end_time": "2019-04-29T22:49:20.070788Z",
     "start_time": "2019-04-29T19:06:09.001360Z"
    }
   },
   "outputs": [
    {
     "data": {
      "application/vnd.jupyter.widget-view+json": {
       "model_id": "a4b5a0020ace497695c2f6bd79f62b1b",
       "version_major": 2,
       "version_minor": 0
      },
      "text/html": [
       "<p>Failed to display Jupyter Widget of type <code>HBox</code>.</p>\n",
       "<p>\n",
       "  If you're reading this message in the Jupyter Notebook or JupyterLab Notebook, it may mean\n",
       "  that the widgets JavaScript is still loading. If this message persists, it\n",
       "  likely means that the widgets JavaScript library is either not installed or\n",
       "  not enabled. See the <a href=\"https://ipywidgets.readthedocs.io/en/stable/user_install.html\">Jupyter\n",
       "  Widgets Documentation</a> for setup instructions.\n",
       "</p>\n",
       "<p>\n",
       "  If you're reading this message in another frontend (for example, a static\n",
       "  rendering on GitHub or <a href=\"https://nbviewer.jupyter.org/\">NBViewer</a>),\n",
       "  it may mean that your frontend doesn't currently support widgets.\n",
       "</p>\n"
      ],
      "text/plain": [
       "HBox(children=(IntProgress(value=1, bar_style='info', max=1), HTML(value='')))"
      ]
     },
     "metadata": {},
     "output_type": "display_data"
    },
    {
     "name": "stdout",
     "output_type": "stream",
     "text": [
      "\n"
     ]
    },
    {
     "data": {
      "application/vnd.jupyter.widget-view+json": {
       "model_id": "1f5b170948104f349ab8ee3360250765",
       "version_major": 2,
       "version_minor": 0
      },
      "text/html": [
       "<p>Failed to display Jupyter Widget of type <code>HBox</code>.</p>\n",
       "<p>\n",
       "  If you're reading this message in the Jupyter Notebook or JupyterLab Notebook, it may mean\n",
       "  that the widgets JavaScript is still loading. If this message persists, it\n",
       "  likely means that the widgets JavaScript library is either not installed or\n",
       "  not enabled. See the <a href=\"https://ipywidgets.readthedocs.io/en/stable/user_install.html\">Jupyter\n",
       "  Widgets Documentation</a> for setup instructions.\n",
       "</p>\n",
       "<p>\n",
       "  If you're reading this message in another frontend (for example, a static\n",
       "  rendering on GitHub or <a href=\"https://nbviewer.jupyter.org/\">NBViewer</a>),\n",
       "  it may mean that your frontend doesn't currently support widgets.\n",
       "</p>\n"
      ],
      "text/plain": [
       "HBox(children=(IntProgress(value=1, bar_style='info', max=1), HTML(value='')))"
      ]
     },
     "metadata": {},
     "output_type": "display_data"
    },
    {
     "name": "stdout",
     "output_type": "stream",
     "text": [
      "\n"
     ]
    },
    {
     "data": {
      "application/vnd.jupyter.widget-view+json": {
       "model_id": "ed88d9f971ac4e9db128d16a377a4653",
       "version_major": 2,
       "version_minor": 0
      },
      "text/html": [
       "<p>Failed to display Jupyter Widget of type <code>HBox</code>.</p>\n",
       "<p>\n",
       "  If you're reading this message in the Jupyter Notebook or JupyterLab Notebook, it may mean\n",
       "  that the widgets JavaScript is still loading. If this message persists, it\n",
       "  likely means that the widgets JavaScript library is either not installed or\n",
       "  not enabled. See the <a href=\"https://ipywidgets.readthedocs.io/en/stable/user_install.html\">Jupyter\n",
       "  Widgets Documentation</a> for setup instructions.\n",
       "</p>\n",
       "<p>\n",
       "  If you're reading this message in another frontend (for example, a static\n",
       "  rendering on GitHub or <a href=\"https://nbviewer.jupyter.org/\">NBViewer</a>),\n",
       "  it may mean that your frontend doesn't currently support widgets.\n",
       "</p>\n"
      ],
      "text/plain": [
       "HBox(children=(IntProgress(value=1, bar_style='info', max=1), HTML(value='')))"
      ]
     },
     "metadata": {},
     "output_type": "display_data"
    },
    {
     "name": "stdout",
     "output_type": "stream",
     "text": [
      "\n"
     ]
    },
    {
     "data": {
      "application/vnd.jupyter.widget-view+json": {
       "model_id": "a7cb7174137343af9e02b0fcf783afcd",
       "version_major": 2,
       "version_minor": 0
      },
      "text/html": [
       "<p>Failed to display Jupyter Widget of type <code>HBox</code>.</p>\n",
       "<p>\n",
       "  If you're reading this message in the Jupyter Notebook or JupyterLab Notebook, it may mean\n",
       "  that the widgets JavaScript is still loading. If this message persists, it\n",
       "  likely means that the widgets JavaScript library is either not installed or\n",
       "  not enabled. See the <a href=\"https://ipywidgets.readthedocs.io/en/stable/user_install.html\">Jupyter\n",
       "  Widgets Documentation</a> for setup instructions.\n",
       "</p>\n",
       "<p>\n",
       "  If you're reading this message in another frontend (for example, a static\n",
       "  rendering on GitHub or <a href=\"https://nbviewer.jupyter.org/\">NBViewer</a>),\n",
       "  it may mean that your frontend doesn't currently support widgets.\n",
       "</p>\n"
      ],
      "text/plain": [
       "HBox(children=(IntProgress(value=1, bar_style='info', max=1), HTML(value='')))"
      ]
     },
     "metadata": {},
     "output_type": "display_data"
    },
    {
     "name": "stdout",
     "output_type": "stream",
     "text": [
      "\n"
     ]
    },
    {
     "data": {
      "application/vnd.jupyter.widget-view+json": {
       "model_id": "f8d39d09ece744f88a2aeeba7baf8b1c",
       "version_major": 2,
       "version_minor": 0
      },
      "text/html": [
       "<p>Failed to display Jupyter Widget of type <code>HBox</code>.</p>\n",
       "<p>\n",
       "  If you're reading this message in the Jupyter Notebook or JupyterLab Notebook, it may mean\n",
       "  that the widgets JavaScript is still loading. If this message persists, it\n",
       "  likely means that the widgets JavaScript library is either not installed or\n",
       "  not enabled. See the <a href=\"https://ipywidgets.readthedocs.io/en/stable/user_install.html\">Jupyter\n",
       "  Widgets Documentation</a> for setup instructions.\n",
       "</p>\n",
       "<p>\n",
       "  If you're reading this message in another frontend (for example, a static\n",
       "  rendering on GitHub or <a href=\"https://nbviewer.jupyter.org/\">NBViewer</a>),\n",
       "  it may mean that your frontend doesn't currently support widgets.\n",
       "</p>\n"
      ],
      "text/plain": [
       "HBox(children=(IntProgress(value=1, bar_style='info', max=1), HTML(value='')))"
      ]
     },
     "metadata": {},
     "output_type": "display_data"
    },
    {
     "name": "stdout",
     "output_type": "stream",
     "text": [
      "\n"
     ]
    },
    {
     "data": {
      "application/vnd.jupyter.widget-view+json": {
       "model_id": "b25ea5c102f64e91a27c922d0c8602e6",
       "version_major": 2,
       "version_minor": 0
      },
      "text/html": [
       "<p>Failed to display Jupyter Widget of type <code>HBox</code>.</p>\n",
       "<p>\n",
       "  If you're reading this message in the Jupyter Notebook or JupyterLab Notebook, it may mean\n",
       "  that the widgets JavaScript is still loading. If this message persists, it\n",
       "  likely means that the widgets JavaScript library is either not installed or\n",
       "  not enabled. See the <a href=\"https://ipywidgets.readthedocs.io/en/stable/user_install.html\">Jupyter\n",
       "  Widgets Documentation</a> for setup instructions.\n",
       "</p>\n",
       "<p>\n",
       "  If you're reading this message in another frontend (for example, a static\n",
       "  rendering on GitHub or <a href=\"https://nbviewer.jupyter.org/\">NBViewer</a>),\n",
       "  it may mean that your frontend doesn't currently support widgets.\n",
       "</p>\n"
      ],
      "text/plain": [
       "HBox(children=(IntProgress(value=1, bar_style='info', max=1), HTML(value='')))"
      ]
     },
     "metadata": {},
     "output_type": "display_data"
    },
    {
     "name": "stdout",
     "output_type": "stream",
     "text": [
      "\n"
     ]
    },
    {
     "data": {
      "application/vnd.jupyter.widget-view+json": {
       "model_id": "f0e11209fd074492a5d70b2f3b2f3862",
       "version_major": 2,
       "version_minor": 0
      },
      "text/html": [
       "<p>Failed to display Jupyter Widget of type <code>HBox</code>.</p>\n",
       "<p>\n",
       "  If you're reading this message in the Jupyter Notebook or JupyterLab Notebook, it may mean\n",
       "  that the widgets JavaScript is still loading. If this message persists, it\n",
       "  likely means that the widgets JavaScript library is either not installed or\n",
       "  not enabled. See the <a href=\"https://ipywidgets.readthedocs.io/en/stable/user_install.html\">Jupyter\n",
       "  Widgets Documentation</a> for setup instructions.\n",
       "</p>\n",
       "<p>\n",
       "  If you're reading this message in another frontend (for example, a static\n",
       "  rendering on GitHub or <a href=\"https://nbviewer.jupyter.org/\">NBViewer</a>),\n",
       "  it may mean that your frontend doesn't currently support widgets.\n",
       "</p>\n"
      ],
      "text/plain": [
       "HBox(children=(IntProgress(value=1, bar_style='info', max=1), HTML(value='')))"
      ]
     },
     "metadata": {},
     "output_type": "display_data"
    },
    {
     "name": "stdout",
     "output_type": "stream",
     "text": [
      "\n"
     ]
    },
    {
     "data": {
      "application/vnd.jupyter.widget-view+json": {
       "model_id": "988511a49d814cacb206a69061080f08",
       "version_major": 2,
       "version_minor": 0
      },
      "text/html": [
       "<p>Failed to display Jupyter Widget of type <code>HBox</code>.</p>\n",
       "<p>\n",
       "  If you're reading this message in the Jupyter Notebook or JupyterLab Notebook, it may mean\n",
       "  that the widgets JavaScript is still loading. If this message persists, it\n",
       "  likely means that the widgets JavaScript library is either not installed or\n",
       "  not enabled. See the <a href=\"https://ipywidgets.readthedocs.io/en/stable/user_install.html\">Jupyter\n",
       "  Widgets Documentation</a> for setup instructions.\n",
       "</p>\n",
       "<p>\n",
       "  If you're reading this message in another frontend (for example, a static\n",
       "  rendering on GitHub or <a href=\"https://nbviewer.jupyter.org/\">NBViewer</a>),\n",
       "  it may mean that your frontend doesn't currently support widgets.\n",
       "</p>\n"
      ],
      "text/plain": [
       "HBox(children=(IntProgress(value=1, bar_style='info', max=1), HTML(value='')))"
      ]
     },
     "metadata": {},
     "output_type": "display_data"
    },
    {
     "name": "stdout",
     "output_type": "stream",
     "text": [
      "\n"
     ]
    },
    {
     "data": {
      "application/vnd.jupyter.widget-view+json": {
       "model_id": "85bfc512bbc243bda417af491ac6a480",
       "version_major": 2,
       "version_minor": 0
      },
      "text/html": [
       "<p>Failed to display Jupyter Widget of type <code>HBox</code>.</p>\n",
       "<p>\n",
       "  If you're reading this message in the Jupyter Notebook or JupyterLab Notebook, it may mean\n",
       "  that the widgets JavaScript is still loading. If this message persists, it\n",
       "  likely means that the widgets JavaScript library is either not installed or\n",
       "  not enabled. See the <a href=\"https://ipywidgets.readthedocs.io/en/stable/user_install.html\">Jupyter\n",
       "  Widgets Documentation</a> for setup instructions.\n",
       "</p>\n",
       "<p>\n",
       "  If you're reading this message in another frontend (for example, a static\n",
       "  rendering on GitHub or <a href=\"https://nbviewer.jupyter.org/\">NBViewer</a>),\n",
       "  it may mean that your frontend doesn't currently support widgets.\n",
       "</p>\n"
      ],
      "text/plain": [
       "HBox(children=(IntProgress(value=1, bar_style='info', max=1), HTML(value='')))"
      ]
     },
     "metadata": {},
     "output_type": "display_data"
    },
    {
     "name": "stdout",
     "output_type": "stream",
     "text": [
      "\n"
     ]
    },
    {
     "data": {
      "application/vnd.jupyter.widget-view+json": {
       "model_id": "e2923a61ceaf4e858c44b40fe164fcd8",
       "version_major": 2,
       "version_minor": 0
      },
      "text/html": [
       "<p>Failed to display Jupyter Widget of type <code>HBox</code>.</p>\n",
       "<p>\n",
       "  If you're reading this message in the Jupyter Notebook or JupyterLab Notebook, it may mean\n",
       "  that the widgets JavaScript is still loading. If this message persists, it\n",
       "  likely means that the widgets JavaScript library is either not installed or\n",
       "  not enabled. See the <a href=\"https://ipywidgets.readthedocs.io/en/stable/user_install.html\">Jupyter\n",
       "  Widgets Documentation</a> for setup instructions.\n",
       "</p>\n",
       "<p>\n",
       "  If you're reading this message in another frontend (for example, a static\n",
       "  rendering on GitHub or <a href=\"https://nbviewer.jupyter.org/\">NBViewer</a>),\n",
       "  it may mean that your frontend doesn't currently support widgets.\n",
       "</p>\n"
      ],
      "text/plain": [
       "HBox(children=(IntProgress(value=1, bar_style='info', max=1), HTML(value='')))"
      ]
     },
     "metadata": {},
     "output_type": "display_data"
    },
    {
     "name": "stdout",
     "output_type": "stream",
     "text": [
      "\n"
     ]
    },
    {
     "data": {
      "application/vnd.jupyter.widget-view+json": {
       "model_id": "629269202fc642a2843105e4693f576b",
       "version_major": 2,
       "version_minor": 0
      },
      "text/html": [
       "<p>Failed to display Jupyter Widget of type <code>HBox</code>.</p>\n",
       "<p>\n",
       "  If you're reading this message in the Jupyter Notebook or JupyterLab Notebook, it may mean\n",
       "  that the widgets JavaScript is still loading. If this message persists, it\n",
       "  likely means that the widgets JavaScript library is either not installed or\n",
       "  not enabled. See the <a href=\"https://ipywidgets.readthedocs.io/en/stable/user_install.html\">Jupyter\n",
       "  Widgets Documentation</a> for setup instructions.\n",
       "</p>\n",
       "<p>\n",
       "  If you're reading this message in another frontend (for example, a static\n",
       "  rendering on GitHub or <a href=\"https://nbviewer.jupyter.org/\">NBViewer</a>),\n",
       "  it may mean that your frontend doesn't currently support widgets.\n",
       "</p>\n"
      ],
      "text/plain": [
       "HBox(children=(IntProgress(value=1, bar_style='info', max=1), HTML(value='')))"
      ]
     },
     "metadata": {},
     "output_type": "display_data"
    },
    {
     "name": "stdout",
     "output_type": "stream",
     "text": [
      "\n"
     ]
    },
    {
     "data": {
      "application/vnd.jupyter.widget-view+json": {
       "model_id": "af024caec1ef4b6aa0d43bcf7b8ca974",
       "version_major": 2,
       "version_minor": 0
      },
      "text/html": [
       "<p>Failed to display Jupyter Widget of type <code>HBox</code>.</p>\n",
       "<p>\n",
       "  If you're reading this message in the Jupyter Notebook or JupyterLab Notebook, it may mean\n",
       "  that the widgets JavaScript is still loading. If this message persists, it\n",
       "  likely means that the widgets JavaScript library is either not installed or\n",
       "  not enabled. See the <a href=\"https://ipywidgets.readthedocs.io/en/stable/user_install.html\">Jupyter\n",
       "  Widgets Documentation</a> for setup instructions.\n",
       "</p>\n",
       "<p>\n",
       "  If you're reading this message in another frontend (for example, a static\n",
       "  rendering on GitHub or <a href=\"https://nbviewer.jupyter.org/\">NBViewer</a>),\n",
       "  it may mean that your frontend doesn't currently support widgets.\n",
       "</p>\n"
      ],
      "text/plain": [
       "HBox(children=(IntProgress(value=1, bar_style='info', max=1), HTML(value='')))"
      ]
     },
     "metadata": {},
     "output_type": "display_data"
    },
    {
     "name": "stdout",
     "output_type": "stream",
     "text": [
      "\n"
     ]
    },
    {
     "data": {
      "application/vnd.jupyter.widget-view+json": {
       "model_id": "b0413e02962242b09225f4593a31ad63",
       "version_major": 2,
       "version_minor": 0
      },
      "text/html": [
       "<p>Failed to display Jupyter Widget of type <code>HBox</code>.</p>\n",
       "<p>\n",
       "  If you're reading this message in the Jupyter Notebook or JupyterLab Notebook, it may mean\n",
       "  that the widgets JavaScript is still loading. If this message persists, it\n",
       "  likely means that the widgets JavaScript library is either not installed or\n",
       "  not enabled. See the <a href=\"https://ipywidgets.readthedocs.io/en/stable/user_install.html\">Jupyter\n",
       "  Widgets Documentation</a> for setup instructions.\n",
       "</p>\n",
       "<p>\n",
       "  If you're reading this message in another frontend (for example, a static\n",
       "  rendering on GitHub or <a href=\"https://nbviewer.jupyter.org/\">NBViewer</a>),\n",
       "  it may mean that your frontend doesn't currently support widgets.\n",
       "</p>\n"
      ],
      "text/plain": [
       "HBox(children=(IntProgress(value=1, bar_style='info', max=1), HTML(value='')))"
      ]
     },
     "metadata": {},
     "output_type": "display_data"
    },
    {
     "name": "stdout",
     "output_type": "stream",
     "text": [
      "\n"
     ]
    },
    {
     "data": {
      "application/vnd.jupyter.widget-view+json": {
       "model_id": "c7e3886c67384d10ae10863cf39fcd7e",
       "version_major": 2,
       "version_minor": 0
      },
      "text/html": [
       "<p>Failed to display Jupyter Widget of type <code>HBox</code>.</p>\n",
       "<p>\n",
       "  If you're reading this message in the Jupyter Notebook or JupyterLab Notebook, it may mean\n",
       "  that the widgets JavaScript is still loading. If this message persists, it\n",
       "  likely means that the widgets JavaScript library is either not installed or\n",
       "  not enabled. See the <a href=\"https://ipywidgets.readthedocs.io/en/stable/user_install.html\">Jupyter\n",
       "  Widgets Documentation</a> for setup instructions.\n",
       "</p>\n",
       "<p>\n",
       "  If you're reading this message in another frontend (for example, a static\n",
       "  rendering on GitHub or <a href=\"https://nbviewer.jupyter.org/\">NBViewer</a>),\n",
       "  it may mean that your frontend doesn't currently support widgets.\n",
       "</p>\n"
      ],
      "text/plain": [
       "HBox(children=(IntProgress(value=1, bar_style='info', max=1), HTML(value='')))"
      ]
     },
     "metadata": {},
     "output_type": "display_data"
    },
    {
     "name": "stdout",
     "output_type": "stream",
     "text": [
      "\n"
     ]
    }
   ],
   "source": [
    "all_dev_result_df = pd.DataFrame(dev_baseline)\n",
    "all_test_result_df = pd.DataFrame(test_baseline)\n",
    "dev_all_marginals_df = pd.DataFrame(dev_baseline_marginals, columns=[\"marginals\", \"label\"]).assign(num_lfs=0)\n",
    "test_all_marginals_df = pd.DataFrame(test_baseline_marginals, columns=[\"marginals\", \"label\"]).assign(num_lfs=0)\n",
    "\n",
    "range_of_sample_sizes = (\n",
    "    list(range(1, correct_L[:,ds_end:].shape[1], 8)) +\n",
    "    [correct_L[:,ds_end:].shape[1]]\n",
    ")\n",
    "\n",
    "lf_sample_keeper, dev_results_df, test_results_df, dev_marginals_df, test_marginals_df = run_random_additional_lfs(\n",
    "    range_of_sample_sizes=range_of_sample_sizes, \n",
    "    range_of_lf_indicies = list(range(ds_end, correct_L.shape[1]+1)),\n",
    "    size_of_sample_pool=correct_L.shape[1]-ds_end,\n",
    "    num_of_samples=num_of_samples,\n",
    "    train=correct_L, \n",
    "    dev=correct_L_dev,\n",
    "    dev_labels=candidate_dfs['dev'].curated_cbg.values,\n",
    "    test=correct_L_test,\n",
    "    test_labels=candidate_dfs['test'].curated_cbg.values,\n",
    "    grid=regularization_grid,\n",
    "    label_matricies=label_matricies['train'],\n",
    "    train_marginal_dir='data/random_sampling/all/',\n",
    "    ds_start=ds_start,\n",
    "    ds_end=ds_end,\n",
    ")\n",
    "\n",
    "all_dev_result_df = all_dev_result_df.append(dev_results_df, sort=True)\n",
    "all_test_result_df = all_test_result_df.append(test_results_df, sort=True)\n",
    "dev_all_marginals_df = dev_all_marginals_df.append(dev_marginals_df, sort=True)\n",
    "test_all_marginals_df = test_all_marginals_df.append(test_marginals_df, sort=True)"
   ]
  },
  {
   "cell_type": "code",
   "execution_count": 67,
   "metadata": {
    "ExecuteTime": {
     "end_time": "2019-04-29T22:49:32.418792Z",
     "start_time": "2019-04-29T22:49:20.072352Z"
    }
   },
   "outputs": [],
   "source": [
    "dev_all_marginals_df = (\n",
    "     dev_all_marginals_df\n",
    "     .assign(\n",
    "        frac_correct=(\n",
    "            dev_all_marginals_df\n",
    "            .apply(count_fraction_correct,axis=1)\n",
    "            .values\n",
    "        )\n",
    "    )\n",
    "    .groupby([\"label\", \"num_lfs\"])[\"frac_correct\"]\n",
    "    .agg(pd.np.mean)\n",
    "    .reset_index(level=[\"label\", \"num_lfs\"])\n",
    " )"
   ]
  },
  {
   "cell_type": "code",
   "execution_count": 68,
   "metadata": {
    "ExecuteTime": {
     "end_time": "2019-04-29T22:49:44.880040Z",
     "start_time": "2019-04-29T22:49:32.420457Z"
    }
   },
   "outputs": [],
   "source": [
    "test_all_marginals_df = (\n",
    "    test_all_marginals_df\n",
    "    .assign(\n",
    "        frac_correct=(\n",
    "            test_all_marginals_df\n",
    "            .apply(count_fraction_correct, axis=1)\n",
    "            .values\n",
    "        )\n",
    "    )\n",
    "    .groupby([\"label\", \"num_lfs\"])[\"frac_correct\"]\n",
    "    .agg(pd.np.mean)\n",
    "    .reset_index(level=[\"label\", \"num_lfs\"])\n",
    ")"
   ]
  },
  {
   "cell_type": "markdown",
   "metadata": {},
   "source": [
    "## Dev Set Performance (AUPRC, AUROC)"
   ]
  },
  {
   "cell_type": "code",
   "execution_count": 69,
   "metadata": {
    "ExecuteTime": {
     "end_time": "2019-04-29T22:49:45.586145Z",
     "start_time": "2019-04-29T22:49:44.881706Z"
    }
   },
   "outputs": [
    {
     "name": "stderr",
     "output_type": "stream",
     "text": [
      "/home/danich1/anaconda2/envs/snorkeling/lib/python3.6/site-packages/scipy/stats/stats.py:1713: FutureWarning: Using a non-tuple sequence for multidimensional indexing is deprecated; use `arr[tuple(seq)]` instead of `arr[seq]`. In the future this will be interpreted as an array index, `arr[np.array(seq)]`, which will result either in an error or a different result.\n",
      "  return np.add.reduce(sorted[indexer] * weights, axis=axis) / sumval\n"
     ]
    },
    {
     "data": {
      "text/plain": [
       "<matplotlib.axes._subplots.AxesSubplot at 0x7fc1d3ed0240>"
      ]
     },
     "execution_count": 69,
     "metadata": {},
     "output_type": "execute_result"
    },
    {
     "data": {
      "image/png": "[encoded data removed]",
      "text/plain": [
       "<matplotlib.figure.Figure at 0x7fc1d5f0f828>"
      ]
     },
     "metadata": {},
     "output_type": "display_data"
    }
   ],
   "source": [
    "fig, axs = plt.subplots(ncols=2, figsize=(13, 5))\n",
    "sns.pointplot(x=\"num_lfs\", y=\"AUPRC\", data=all_dev_result_df, ax=axs[0])\n",
    "sns.pointplot(x=\"num_lfs\", y=\"AUROC\", data=all_dev_result_df, ax=axs[1])"
   ]
  },
  {
   "cell_type": "code",
   "execution_count": 70,
   "metadata": {
    "ExecuteTime": {
     "end_time": "2019-04-29T22:49:45.822006Z",
     "start_time": "2019-04-29T22:49:45.587461Z"
    }
   },
   "outputs": [
    {
     "data": {
      "text/plain": [
       "<matplotlib.axes._subplots.AxesSubplot at 0x7fc1dce8ecc0>"
      ]
     },
     "execution_count": 70,
     "metadata": {},
     "output_type": "execute_result"
    },
    {
     "data": {
      "image/png": "[encoded data removed]",
      "text/plain": [
       "<matplotlib.figure.Figure at 0x7fc1d5afdda0>"
      ]
     },
     "metadata": {},
     "output_type": "display_data"
    }
   ],
   "source": [
    "sns.pointplot(x=\"num_lfs\", y=\"frac_correct\", data=dev_all_marginals_df, hue=\"label\")"
   ]
  },
  {
   "cell_type": "markdown",
   "metadata": {},
   "source": [
    "## Test Set Performance (AUPRC, AUROC)"
   ]
  },
  {
   "cell_type": "code",
   "execution_count": 71,
   "metadata": {
    "ExecuteTime": {
     "end_time": "2019-04-29T22:49:46.515535Z",
     "start_time": "2019-04-29T22:49:45.823308Z"
    }
   },
   "outputs": [
    {
     "name": "stderr",
     "output_type": "stream",
     "text": [
      "/home/danich1/anaconda2/envs/snorkeling/lib/python3.6/site-packages/scipy/stats/stats.py:1713: FutureWarning: Using a non-tuple sequence for multidimensional indexing is deprecated; use `arr[tuple(seq)]` instead of `arr[seq]`. In the future this will be interpreted as an array index, `arr[np.array(seq)]`, which will result either in an error or a different result.\n",
      "  return np.add.reduce(sorted[indexer] * weights, axis=axis) / sumval\n"
     ]
    },
    {
     "data": {
      "text/plain": [
       "<matplotlib.axes._subplots.AxesSubplot at 0x7fc1d3d39f28>"
      ]
     },
     "execution_count": 71,
     "metadata": {},
     "output_type": "execute_result"
    },
    {
     "data": {
      "image/png": "[encoded data removed]",
      "text/plain": [
       "<matplotlib.figure.Figure at 0x7fc1d3d01e10>"
      ]
     },
     "metadata": {},
     "output_type": "display_data"
    }
   ],
   "source": [
    "fig, axs = plt.subplots(ncols=2, figsize=(13, 5))\n",
    "sns.pointplot(x=\"num_lfs\", y=\"AUPRC\", data=all_test_result_df, ax=axs[0])\n",
    "sns.pointplot(x=\"num_lfs\", y=\"AUROC\", data=all_test_result_df, ax=axs[1])"
   ]
  },
  {
   "cell_type": "code",
   "execution_count": 72,
   "metadata": {
    "ExecuteTime": {
     "end_time": "2019-04-29T22:49:46.758150Z",
     "start_time": "2019-04-29T22:49:46.516965Z"
    }
   },
   "outputs": [
    {
     "data": {
      "text/plain": [
       "<matplotlib.axes._subplots.AxesSubplot at 0x7fc1d3c135f8>"
      ]
     },
     "execution_count": 72,
     "metadata": {},
     "output_type": "execute_result"
    },
    {
     "data": {
      "image/png": "[encoded data removed]",
      "text/plain": [
       "<matplotlib.figure.Figure at 0x7fc1d3cc4b00>"
      ]
     },
     "metadata": {},
     "output_type": "display_data"
    }
   ],
   "source": [
    "sns.pointplot(x=\"num_lfs\", y=\"frac_correct\", data=test_all_marginals_df, hue=\"label\")"
   ]
  },
  {
   "cell_type": "code",
   "execution_count": 73,
   "metadata": {
    "ExecuteTime": {
     "end_time": "2019-04-29T22:49:46.789628Z",
     "start_time": "2019-04-29T22:49:46.759886Z"
    }
   },
   "outputs": [],
   "source": [
    "all_dev_result_df.to_csv(\n",
    "    \"data/random_sampling/all/dev_sampled_performance.tsv\", \n",
    "    index=False, sep=\"\\t\", float_format=\"%.5g\"\n",
    ")\n",
    "\n",
    "all_test_result_df.to_csv(\n",
    "    \"data/random_sampling/all/test_sampled_performance.tsv\", \n",
    "    index=False, sep=\"\\t\", float_format=\"%.5g\"\n",
    ")"
   ]
  },
  {
   "cell_type": "code",
   "execution_count": 74,
   "metadata": {
    "ExecuteTime": {
     "end_time": "2019-04-29T22:49:46.816322Z",
     "start_time": "2019-04-29T22:49:46.790964Z"
    }
   },
   "outputs": [],
   "source": [
    "dev_all_marginals_df.to_csv(\n",
    "    \"data/random_sampling/all/dev_sampled_marginals.tsv\", \n",
    "    index=False, sep=\"\\t\", float_format=\"%.5g\"\n",
    ")\n",
    "\n",
    "test_all_marginals_df.to_csv(\n",
    "    \"data/random_sampling/all/test_sampled_marginals.tsv\", \n",
    "    index=False, sep=\"\\t\", float_format=\"%.5g\"\n",
    ")"
   ]
  }
 ],
 "metadata": {
  "kernelspec": {
   "display_name": "Python [conda env:snorkeling]",
   "language": "python",
   "name": "conda-env-snorkeling-py"
  }
 },
 "nbformat": 4,
 "nbformat_minor": 2
}
