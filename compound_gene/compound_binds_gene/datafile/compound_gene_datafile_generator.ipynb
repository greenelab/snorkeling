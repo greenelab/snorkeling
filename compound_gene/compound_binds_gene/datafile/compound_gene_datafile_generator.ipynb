{
 "cells": [
  {
   "cell_type": "markdown",
   "metadata": {},
   "source": [
    "# Generate Compound Binds Gene Candidates"
   ]
  },
  {
   "cell_type": "markdown",
   "metadata": {},
   "source": [
    "This notebook is designed to construct a table that contains compound and gene pairs with various statistics (number of sentences, if contained in hetionet, if the edge has sentences and which training category each pair belongs to)."
   ]
  },
  {
   "cell_type": "code",
   "execution_count": 1,
   "metadata": {
    "ExecuteTime": {
     "end_time": "2019-08-07T15:34:24.836248Z",
     "start_time": "2019-08-07T15:34:24.442210Z"
    }
   },
   "outputs": [],
   "source": [
    "%load_ext autoreload\n",
    "%autoreload 2\n",
    "%matplotlib inline\n",
    "\n",
    "from collections import Counter\n",
    "from itertools import product\n",
    "import os\n",
    "import pickle\n",
    "import sys\n",
    "\n",
    "import pandas as pd"
   ]
  },
  {
   "cell_type": "code",
   "execution_count": 2,
   "metadata": {
    "ExecuteTime": {
     "end_time": "2019-08-07T15:34:24.847182Z",
     "start_time": "2019-08-07T15:34:24.837673Z"
    }
   },
   "outputs": [],
   "source": [
    "#Set up the environment\n",
    "username = \"danich1\"\n",
    "password = \"snorkel\"\n",
    "dbname = \"pubmeddb\"\n",
    "\n",
    "#Path subject to change for different os\n",
    "database_str = \"postgresql+psycopg2://{}:{}@/{}?host=/var/run/postgresql\".format(username, password, dbname)"
   ]
  },
  {
   "cell_type": "code",
   "execution_count": 3,
   "metadata": {
    "ExecuteTime": {
     "end_time": "2019-08-07T15:34:24.873934Z",
     "start_time": "2019-08-07T15:34:24.849094Z"
    }
   },
   "outputs": [],
   "source": [
    "compound_url = \"https://raw.githubusercontent.com/dhimmel/drugbank/7b94454b14a2fa4bb9387cb3b4b9924619cfbd3e/data/drugbank.tsv\"\n",
    "gene_url = \"https://raw.githubusercontent.com/dhimmel/entrez-gene/a7362748a34211e5df6f2d185bb3246279760546/data/genes-human.tsv\"\n",
    "cbg_url = \"https://raw.githubusercontent.com/dhimmel/integrate/93feba1765fbcd76fd79e22f25121f5399629148/compile/CbG-binding.tsv\"\n",
    "crg_url = \"https://raw.githubusercontent.com/dhimmel/lincs/bbc6812b7d19e98637b44373cdfc52f61bce6327/data/consensi/signif/dysreg-drugbank.tsv\""
   ]
  },
  {
   "cell_type": "markdown",
   "metadata": {},
   "source": [
    "## Read in Gene and Compound Entities"
   ]
  },
  {
   "cell_type": "code",
   "execution_count": 4,
   "metadata": {
    "ExecuteTime": {
     "end_time": "2019-08-07T15:34:25.353919Z",
     "start_time": "2019-08-07T15:34:24.875261Z"
    }
   },
   "outputs": [
    {
     "data": {
      "text/html": [
       "<div>\n",
       "<style scoped>\n",
       "    .dataframe tbody tr th:only-of-type {\n",
       "        vertical-align: middle;\n",
       "    }\n",
       "\n",
       "    .dataframe tbody tr th {\n",
       "        vertical-align: top;\n",
       "    }\n",
       "\n",
       "    .dataframe thead th {\n",
       "        text-align: right;\n",
       "    }\n",
       "</style>\n",
       "<table border=\"1\" class=\"dataframe\">\n",
       "  <thead>\n",
       "    <tr style=\"text-align: right;\">\n",
       "      <th></th>\n",
       "      <th>tax_id</th>\n",
       "      <th>entrez_gene_id</th>\n",
       "      <th>gene_symbol</th>\n",
       "      <th>chromosome</th>\n",
       "      <th>map_location</th>\n",
       "      <th>type_of_gene</th>\n",
       "      <th>description</th>\n",
       "    </tr>\n",
       "  </thead>\n",
       "  <tbody>\n",
       "    <tr>\n",
       "      <th>0</th>\n",
       "      <td>9606</td>\n",
       "      <td>1</td>\n",
       "      <td>A1BG</td>\n",
       "      <td>19</td>\n",
       "      <td>19q13.4</td>\n",
       "      <td>protein-coding</td>\n",
       "      <td>alpha-1-B glycoprotein</td>\n",
       "    </tr>\n",
       "    <tr>\n",
       "      <th>1</th>\n",
       "      <td>9606</td>\n",
       "      <td>2</td>\n",
       "      <td>A2M</td>\n",
       "      <td>12</td>\n",
       "      <td>12p13.31</td>\n",
       "      <td>protein-coding</td>\n",
       "      <td>alpha-2-macroglobulin</td>\n",
       "    </tr>\n",
       "  </tbody>\n",
       "</table>\n",
       "</div>"
      ],
      "text/plain": [
       "   tax_id  entrez_gene_id gene_symbol chromosome map_location    type_of_gene  \\\n",
       "0    9606               1        A1BG         19      19q13.4  protein-coding   \n",
       "1    9606               2         A2M         12     12p13.31  protein-coding   \n",
       "\n",
       "              description  \n",
       "0  alpha-1-B glycoprotein  \n",
       "1   alpha-2-macroglobulin  "
      ]
     },
     "execution_count": 4,
     "metadata": {},
     "output_type": "execute_result"
    }
   ],
   "source": [
    "entrez_gene_df = pd.read_table(gene_url).rename(index=str, columns={\"GeneID\": \"entrez_gene_id\", \"Symbol\":\"gene_symbol\"})\n",
    "entrez_gene_df.head(2)"
   ]
  },
  {
   "cell_type": "code",
   "execution_count": 5,
   "metadata": {
    "ExecuteTime": {
     "end_time": "2019-08-07T15:34:25.764169Z",
     "start_time": "2019-08-07T15:34:25.355501Z"
    }
   },
   "outputs": [
    {
     "data": {
      "text/html": [
       "<div>\n",
       "<style scoped>\n",
       "    .dataframe tbody tr th:only-of-type {\n",
       "        vertical-align: middle;\n",
       "    }\n",
       "\n",
       "    .dataframe tbody tr th {\n",
       "        vertical-align: top;\n",
       "    }\n",
       "\n",
       "    .dataframe thead th {\n",
       "        text-align: right;\n",
       "    }\n",
       "</style>\n",
       "<table border=\"1\" class=\"dataframe\">\n",
       "  <thead>\n",
       "    <tr style=\"text-align: right;\">\n",
       "      <th></th>\n",
       "      <th>drugbank_id</th>\n",
       "      <th>drug_name</th>\n",
       "      <th>type</th>\n",
       "      <th>groups</th>\n",
       "      <th>atc_codes</th>\n",
       "      <th>categories</th>\n",
       "      <th>inchikey</th>\n",
       "      <th>inchi</th>\n",
       "      <th>description</th>\n",
       "    </tr>\n",
       "  </thead>\n",
       "  <tbody>\n",
       "    <tr>\n",
       "      <th>0</th>\n",
       "      <td>DB00001</td>\n",
       "      <td>Lepirudin</td>\n",
       "      <td>biotech</td>\n",
       "      <td>approved</td>\n",
       "      <td>B01AE02</td>\n",
       "      <td>Antithrombins|Fibrinolytic Agents</td>\n",
       "      <td>NaN</td>\n",
       "      <td>NaN</td>\n",
       "      <td>Lepirudin is identical to natural hirudin exce...</td>\n",
       "    </tr>\n",
       "    <tr>\n",
       "      <th>1</th>\n",
       "      <td>DB00002</td>\n",
       "      <td>Cetuximab</td>\n",
       "      <td>biotech</td>\n",
       "      <td>approved</td>\n",
       "      <td>L01XC06</td>\n",
       "      <td>Antineoplastic Agents</td>\n",
       "      <td>NaN</td>\n",
       "      <td>NaN</td>\n",
       "      <td>Epidermal growth factor receptor binding FAB. ...</td>\n",
       "    </tr>\n",
       "  </tbody>\n",
       "</table>\n",
       "</div>"
      ],
      "text/plain": [
       "  drugbank_id  drug_name     type    groups atc_codes  \\\n",
       "0     DB00001  Lepirudin  biotech  approved   B01AE02   \n",
       "1     DB00002  Cetuximab  biotech  approved   L01XC06   \n",
       "\n",
       "                          categories inchikey inchi  \\\n",
       "0  Antithrombins|Fibrinolytic Agents      NaN   NaN   \n",
       "1              Antineoplastic Agents      NaN   NaN   \n",
       "\n",
       "                                         description  \n",
       "0  Lepirudin is identical to natural hirudin exce...  \n",
       "1  Epidermal growth factor receptor binding FAB. ...  "
      ]
     },
     "execution_count": 5,
     "metadata": {},
     "output_type": "execute_result"
    }
   ],
   "source": [
    "drugbank_df = pd.read_table(compound_url).rename(index=str, columns={'name':'drug_name'})\n",
    "drugbank_df.head(2)"
   ]
  },
  {
   "cell_type": "markdown",
   "metadata": {},
   "source": [
    "## Read in Compound Binds/Regulates Gene Tables"
   ]
  },
  {
   "cell_type": "code",
   "execution_count": 6,
   "metadata": {
    "ExecuteTime": {
     "end_time": "2019-08-07T15:34:26.010903Z",
     "start_time": "2019-08-07T15:34:25.765659Z"
    },
    "scrolled": true
   },
   "outputs": [
    {
     "data": {
      "text/html": [
       "<div>\n",
       "<style scoped>\n",
       "    .dataframe tbody tr th:only-of-type {\n",
       "        vertical-align: middle;\n",
       "    }\n",
       "\n",
       "    .dataframe tbody tr th {\n",
       "        vertical-align: top;\n",
       "    }\n",
       "\n",
       "    .dataframe thead th {\n",
       "        text-align: right;\n",
       "    }\n",
       "</style>\n",
       "<table border=\"1\" class=\"dataframe\">\n",
       "  <thead>\n",
       "    <tr style=\"text-align: right;\">\n",
       "      <th></th>\n",
       "      <th>drugbank_id</th>\n",
       "      <th>entrez_gene_id</th>\n",
       "      <th>sources</th>\n",
       "      <th>pubmed_ids</th>\n",
       "      <th>actions</th>\n",
       "      <th>affinity_nM</th>\n",
       "      <th>license</th>\n",
       "      <th>urls</th>\n",
       "    </tr>\n",
       "  </thead>\n",
       "  <tbody>\n",
       "    <tr>\n",
       "      <th>0</th>\n",
       "      <td>DB00001</td>\n",
       "      <td>2147</td>\n",
       "      <td>DrugBank (target)</td>\n",
       "      <td>10505536|10912644|11055889|11467439|11752352|1...</td>\n",
       "      <td>inhibitor</td>\n",
       "      <td>NaN</td>\n",
       "      <td>CC BY-NC 4.0</td>\n",
       "      <td>NaN</td>\n",
       "    </tr>\n",
       "    <tr>\n",
       "      <th>1</th>\n",
       "      <td>DB00002</td>\n",
       "      <td>712</td>\n",
       "      <td>DrugBank (target)</td>\n",
       "      <td>17016423|17139284</td>\n",
       "      <td>NaN</td>\n",
       "      <td>NaN</td>\n",
       "      <td>CC BY-NC 4.0</td>\n",
       "      <td>NaN</td>\n",
       "    </tr>\n",
       "  </tbody>\n",
       "</table>\n",
       "</div>"
      ],
      "text/plain": [
       "  drugbank_id  entrez_gene_id            sources  \\\n",
       "0     DB00001            2147  DrugBank (target)   \n",
       "1     DB00002             712  DrugBank (target)   \n",
       "\n",
       "                                          pubmed_ids    actions  affinity_nM  \\\n",
       "0  10505536|10912644|11055889|11467439|11752352|1...  inhibitor          NaN   \n",
       "1                                  17016423|17139284        NaN          NaN   \n",
       "\n",
       "        license urls  \n",
       "0  CC BY-NC 4.0  NaN  \n",
       "1  CC BY-NC 4.0  NaN  "
      ]
     },
     "execution_count": 6,
     "metadata": {},
     "output_type": "execute_result"
    }
   ],
   "source": [
    "compound_binds_gene_df = pd.read_table(cbg_url, dtype={'entrez_gene_id': int})\n",
    "compound_binds_gene_df.head(2)"
   ]
  },
  {
   "cell_type": "code",
   "execution_count": 7,
   "metadata": {
    "ExecuteTime": {
     "end_time": "2019-08-07T15:34:26.540130Z",
     "start_time": "2019-08-07T15:34:26.012926Z"
    }
   },
   "outputs": [
    {
     "data": {
      "text/html": [
       "<div>\n",
       "<style scoped>\n",
       "    .dataframe tbody tr th:only-of-type {\n",
       "        vertical-align: middle;\n",
       "    }\n",
       "\n",
       "    .dataframe tbody tr th {\n",
       "        vertical-align: top;\n",
       "    }\n",
       "\n",
       "    .dataframe thead th {\n",
       "        text-align: right;\n",
       "    }\n",
       "</style>\n",
       "<table border=\"1\" class=\"dataframe\">\n",
       "  <thead>\n",
       "    <tr style=\"text-align: right;\">\n",
       "      <th></th>\n",
       "      <th>drugbank_id</th>\n",
       "      <th>entrez_gene_id</th>\n",
       "      <th>symbol</th>\n",
       "      <th>direction</th>\n",
       "      <th>sources</th>\n",
       "    </tr>\n",
       "  </thead>\n",
       "  <tbody>\n",
       "    <tr>\n",
       "      <th>0</th>\n",
       "      <td>DB00014</td>\n",
       "      <td>6676</td>\n",
       "      <td>SPAG4</td>\n",
       "      <td>up</td>\n",
       "      <td>lincs</td>\n",
       "    </tr>\n",
       "    <tr>\n",
       "      <th>1</th>\n",
       "      <td>DB00091</td>\n",
       "      <td>16</td>\n",
       "      <td>AARS</td>\n",
       "      <td>up</td>\n",
       "      <td>lincs</td>\n",
       "    </tr>\n",
       "  </tbody>\n",
       "</table>\n",
       "</div>"
      ],
      "text/plain": [
       "  drugbank_id  entrez_gene_id symbol direction sources\n",
       "0     DB00014            6676  SPAG4        up   lincs\n",
       "1     DB00091              16   AARS        up   lincs"
      ]
     },
     "execution_count": 7,
     "metadata": {},
     "output_type": "execute_result"
    }
   ],
   "source": [
    "compound_regulates_gene_df = (\n",
    "    pd.read_table(crg_url, dtype={'entrez_gene_id': int})\n",
    "    .assign(sources='lincs')\n",
    "    .drop(['z_score', 'status', 'nlog10_bonferroni_pval'], axis=1)\n",
    "    .rename(index=str, columns={\"perturbagen\":'drugbank_id'})\n",
    ")\n",
    "compound_regulates_gene_df.head(2)"
   ]
  },
  {
   "cell_type": "markdown",
   "metadata": {},
   "source": [
    "## Read in Sentences with Edge Pair"
   ]
  },
  {
   "cell_type": "code",
   "execution_count": 8,
   "metadata": {
    "ExecuteTime": {
     "end_time": "2019-08-07T15:34:36.453301Z",
     "start_time": "2019-08-07T15:34:26.541704Z"
    }
   },
   "outputs": [
    {
     "data": {
      "text/html": [
       "<div>\n",
       "<style scoped>\n",
       "    .dataframe tbody tr th:only-of-type {\n",
       "        vertical-align: middle;\n",
       "    }\n",
       "\n",
       "    .dataframe tbody tr th {\n",
       "        vertical-align: top;\n",
       "    }\n",
       "\n",
       "    .dataframe thead th {\n",
       "        text-align: right;\n",
       "    }\n",
       "</style>\n",
       "<table border=\"1\" class=\"dataframe\">\n",
       "  <thead>\n",
       "    <tr style=\"text-align: right;\">\n",
       "      <th></th>\n",
       "      <th>drugbank_id</th>\n",
       "      <th>entrez_gene_id</th>\n",
       "      <th>n_sentences</th>\n",
       "      <th>drug_name</th>\n",
       "      <th>gene_symbol</th>\n",
       "    </tr>\n",
       "  </thead>\n",
       "  <tbody>\n",
       "    <tr>\n",
       "      <th>0</th>\n",
       "      <td>DB00001</td>\n",
       "      <td>2147</td>\n",
       "      <td>13</td>\n",
       "      <td>Lepirudin</td>\n",
       "      <td>F2</td>\n",
       "    </tr>\n",
       "    <tr>\n",
       "      <th>1</th>\n",
       "      <td>DB00016</td>\n",
       "      <td>2147</td>\n",
       "      <td>1</td>\n",
       "      <td>Epoetin alfa</td>\n",
       "      <td>F2</td>\n",
       "    </tr>\n",
       "  </tbody>\n",
       "</table>\n",
       "</div>"
      ],
      "text/plain": [
       "  drugbank_id  entrez_gene_id  n_sentences     drug_name gene_symbol\n",
       "0     DB00001            2147           13     Lepirudin          F2\n",
       "1     DB00016            2147            1  Epoetin alfa          F2"
      ]
     },
     "execution_count": 8,
     "metadata": {},
     "output_type": "execute_result"
    }
   ],
   "source": [
    "query = '''\n",
    "SELECT \"Compound_cid\" AS drugbank_id, \"Gene_cid\" AS entrez_gene_id, count(*) AS n_sentences\n",
    "FROM compound_gene\n",
    "GROUP BY \"Compound_cid\", \"Gene_cid\";\n",
    "'''\n",
    "\n",
    "compound_gene_sentence_df = (\n",
    "    pd\n",
    "    .read_sql(query, database_str)\n",
    "    .astype({\"entrez_gene_id\":int})\n",
    "    .merge(drugbank_df[[\"drugbank_id\", \"drug_name\"]], on=\"drugbank_id\")\n",
    "    .merge(entrez_gene_df[[\"entrez_gene_id\", \"gene_symbol\"]], on=\"entrez_gene_id\")\n",
    ")\n",
    "compound_gene_sentence_df.head(2)"
   ]
  },
  {
   "cell_type": "markdown",
   "metadata": {},
   "source": [
    "## Merge Edges Into a Unified Table"
   ]
  },
  {
   "cell_type": "code",
   "execution_count": 9,
   "metadata": {
    "ExecuteTime": {
     "end_time": "2019-08-07T15:34:36.750292Z",
     "start_time": "2019-08-07T15:34:36.455131Z"
    }
   },
   "outputs": [
    {
     "data": {
      "text/html": [
       "<div>\n",
       "<style scoped>\n",
       "    .dataframe tbody tr th:only-of-type {\n",
       "        vertical-align: middle;\n",
       "    }\n",
       "\n",
       "    .dataframe tbody tr th {\n",
       "        vertical-align: top;\n",
       "    }\n",
       "\n",
       "    .dataframe thead th {\n",
       "        text-align: right;\n",
       "    }\n",
       "</style>\n",
       "<table border=\"1\" class=\"dataframe\">\n",
       "  <thead>\n",
       "    <tr style=\"text-align: right;\">\n",
       "      <th></th>\n",
       "      <th>drugbank_id</th>\n",
       "      <th>entrez_gene_id</th>\n",
       "      <th>sources</th>\n",
       "      <th>pubmed_ids</th>\n",
       "      <th>actions</th>\n",
       "      <th>affinity_nM</th>\n",
       "      <th>license</th>\n",
       "      <th>urls</th>\n",
       "      <th>n_sentences</th>\n",
       "      <th>drug_name</th>\n",
       "      <th>gene_symbol</th>\n",
       "      <th>hetionet</th>\n",
       "      <th>has_sentence</th>\n",
       "    </tr>\n",
       "  </thead>\n",
       "  <tbody>\n",
       "    <tr>\n",
       "      <th>0</th>\n",
       "      <td>DB00001</td>\n",
       "      <td>2147</td>\n",
       "      <td>DrugBank (target)</td>\n",
       "      <td>10505536|10912644|11055889|11467439|11752352|1...</td>\n",
       "      <td>inhibitor</td>\n",
       "      <td>NaN</td>\n",
       "      <td>CC BY-NC 4.0</td>\n",
       "      <td>NaN</td>\n",
       "      <td>13</td>\n",
       "      <td>Lepirudin</td>\n",
       "      <td>F2</td>\n",
       "      <td>1</td>\n",
       "      <td>1</td>\n",
       "    </tr>\n",
       "    <tr>\n",
       "      <th>1</th>\n",
       "      <td>DB00007</td>\n",
       "      <td>2798</td>\n",
       "      <td>DrugBank (target)</td>\n",
       "      <td>10394541|10687850|15758569|16809153|9625809</td>\n",
       "      <td>agonist</td>\n",
       "      <td>NaN</td>\n",
       "      <td>CC BY-NC 4.0</td>\n",
       "      <td>NaN</td>\n",
       "      <td>27</td>\n",
       "      <td>Leuprolide</td>\n",
       "      <td>GNRHR</td>\n",
       "      <td>1</td>\n",
       "      <td>1</td>\n",
       "    </tr>\n",
       "  </tbody>\n",
       "</table>\n",
       "</div>"
      ],
      "text/plain": [
       "  drugbank_id  entrez_gene_id            sources  \\\n",
       "0     DB00001            2147  DrugBank (target)   \n",
       "1     DB00007            2798  DrugBank (target)   \n",
       "\n",
       "                                          pubmed_ids    actions  affinity_nM  \\\n",
       "0  10505536|10912644|11055889|11467439|11752352|1...  inhibitor          NaN   \n",
       "1        10394541|10687850|15758569|16809153|9625809    agonist          NaN   \n",
       "\n",
       "        license urls  n_sentences   drug_name gene_symbol  hetionet  \\\n",
       "0  CC BY-NC 4.0  NaN           13   Lepirudin          F2         1   \n",
       "1  CC BY-NC 4.0  NaN           27  Leuprolide       GNRHR         1   \n",
       "\n",
       "   has_sentence  \n",
       "0             1  \n",
       "1             1  "
      ]
     },
     "execution_count": 9,
     "metadata": {},
     "output_type": "execute_result"
    }
   ],
   "source": [
    "compound_binds_gene_df = (\n",
    "    compound_binds_gene_df\n",
    "    .merge(compound_gene_sentence_df, on=[\"drugbank_id\", \"entrez_gene_id\"], how=\"right\")\n",
    ")\n",
    "compound_binds_gene_df=(\n",
    "    compound_binds_gene_df\n",
    "    .assign(hetionet=compound_binds_gene_df.sources.notnull().astype(int))\n",
    "    .assign(has_sentence=(compound_binds_gene_df.n_sentences > 0).astype(int))\n",
    ")\n",
    "compound_binds_gene_df.head(2)"
   ]
  },
  {
   "cell_type": "code",
   "execution_count": 10,
   "metadata": {
    "ExecuteTime": {
     "end_time": "2019-08-07T15:34:37.022803Z",
     "start_time": "2019-08-07T15:34:36.751977Z"
    }
   },
   "outputs": [
    {
     "data": {
      "text/html": [
       "<div>\n",
       "<style scoped>\n",
       "    .dataframe tbody tr th:only-of-type {\n",
       "        vertical-align: middle;\n",
       "    }\n",
       "\n",
       "    .dataframe tbody tr th {\n",
       "        vertical-align: top;\n",
       "    }\n",
       "\n",
       "    .dataframe thead th {\n",
       "        text-align: right;\n",
       "    }\n",
       "</style>\n",
       "<table border=\"1\" class=\"dataframe\">\n",
       "  <thead>\n",
       "    <tr style=\"text-align: right;\">\n",
       "      <th></th>\n",
       "      <th>drugbank_id</th>\n",
       "      <th>entrez_gene_id</th>\n",
       "      <th>symbol</th>\n",
       "      <th>direction</th>\n",
       "      <th>sources</th>\n",
       "      <th>n_sentences</th>\n",
       "      <th>drug_name</th>\n",
       "      <th>gene_symbol</th>\n",
       "      <th>hetionet</th>\n",
       "      <th>has_sentence</th>\n",
       "    </tr>\n",
       "  </thead>\n",
       "  <tbody>\n",
       "    <tr>\n",
       "      <th>0</th>\n",
       "      <td>DB00091</td>\n",
       "      <td>207</td>\n",
       "      <td>AKT1</td>\n",
       "      <td>down</td>\n",
       "      <td>lincs</td>\n",
       "      <td>13</td>\n",
       "      <td>Cyclosporine</td>\n",
       "      <td>AKT1</td>\n",
       "      <td>1</td>\n",
       "      <td>1</td>\n",
       "    </tr>\n",
       "    <tr>\n",
       "      <th>1</th>\n",
       "      <td>DB00091</td>\n",
       "      <td>572</td>\n",
       "      <td>BAD</td>\n",
       "      <td>down</td>\n",
       "      <td>lincs</td>\n",
       "      <td>5</td>\n",
       "      <td>Cyclosporine</td>\n",
       "      <td>BAD</td>\n",
       "      <td>1</td>\n",
       "      <td>1</td>\n",
       "    </tr>\n",
       "  </tbody>\n",
       "</table>\n",
       "</div>"
      ],
      "text/plain": [
       "  drugbank_id  entrez_gene_id symbol direction sources  n_sentences  \\\n",
       "0     DB00091             207   AKT1      down   lincs           13   \n",
       "1     DB00091             572    BAD      down   lincs            5   \n",
       "\n",
       "      drug_name gene_symbol  hetionet  has_sentence  \n",
       "0  Cyclosporine        AKT1         1             1  \n",
       "1  Cyclosporine         BAD         1             1  "
      ]
     },
     "execution_count": 10,
     "metadata": {},
     "output_type": "execute_result"
    }
   ],
   "source": [
    "compound_downregulates_gene_df = (\n",
    "    compound_regulates_gene_df\n",
    "    .query(\"direction=='down'\")\n",
    "    .merge(compound_gene_sentence_df, on=[\"drugbank_id\", \"entrez_gene_id\"], how=\"right\")\n",
    ")\n",
    "compound_downregulates_gene_df=(\n",
    "    compound_downregulates_gene_df\n",
    "    .assign(hetionet=compound_downregulates_gene_df.sources.notnull().astype(int))\n",
    "    .assign(has_sentence=(compound_downregulates_gene_df.n_sentences > 0).astype(int))\n",
    ")\n",
    "compound_downregulates_gene_df.head(2)"
   ]
  },
  {
   "cell_type": "code",
   "execution_count": 11,
   "metadata": {
    "ExecuteTime": {
     "end_time": "2019-08-07T15:34:37.245518Z",
     "start_time": "2019-08-07T15:34:37.024552Z"
    }
   },
   "outputs": [
    {
     "data": {
      "text/html": [
       "<div>\n",
       "<style scoped>\n",
       "    .dataframe tbody tr th:only-of-type {\n",
       "        vertical-align: middle;\n",
       "    }\n",
       "\n",
       "    .dataframe tbody tr th {\n",
       "        vertical-align: top;\n",
       "    }\n",
       "\n",
       "    .dataframe thead th {\n",
       "        text-align: right;\n",
       "    }\n",
       "</style>\n",
       "<table border=\"1\" class=\"dataframe\">\n",
       "  <thead>\n",
       "    <tr style=\"text-align: right;\">\n",
       "      <th></th>\n",
       "      <th>drugbank_id</th>\n",
       "      <th>entrez_gene_id</th>\n",
       "      <th>symbol</th>\n",
       "      <th>direction</th>\n",
       "      <th>sources</th>\n",
       "      <th>n_sentences</th>\n",
       "      <th>drug_name</th>\n",
       "      <th>gene_symbol</th>\n",
       "      <th>hetionet</th>\n",
       "      <th>has_sentence</th>\n",
       "    </tr>\n",
       "  </thead>\n",
       "  <tbody>\n",
       "    <tr>\n",
       "      <th>0</th>\n",
       "      <td>DB00091</td>\n",
       "      <td>283</td>\n",
       "      <td>ANG</td>\n",
       "      <td>up</td>\n",
       "      <td>lincs</td>\n",
       "      <td>1</td>\n",
       "      <td>Cyclosporine</td>\n",
       "      <td>ANG</td>\n",
       "      <td>1</td>\n",
       "      <td>1</td>\n",
       "    </tr>\n",
       "    <tr>\n",
       "      <th>1</th>\n",
       "      <td>DB00091</td>\n",
       "      <td>467</td>\n",
       "      <td>ATF3</td>\n",
       "      <td>up</td>\n",
       "      <td>lincs</td>\n",
       "      <td>2</td>\n",
       "      <td>Cyclosporine</td>\n",
       "      <td>ATF3</td>\n",
       "      <td>1</td>\n",
       "      <td>1</td>\n",
       "    </tr>\n",
       "  </tbody>\n",
       "</table>\n",
       "</div>"
      ],
      "text/plain": [
       "  drugbank_id  entrez_gene_id symbol direction sources  n_sentences  \\\n",
       "0     DB00091             283    ANG        up   lincs            1   \n",
       "1     DB00091             467   ATF3        up   lincs            2   \n",
       "\n",
       "      drug_name gene_symbol  hetionet  has_sentence  \n",
       "0  Cyclosporine         ANG         1             1  \n",
       "1  Cyclosporine        ATF3         1             1  "
      ]
     },
     "execution_count": 11,
     "metadata": {},
     "output_type": "execute_result"
    }
   ],
   "source": [
    "compound_upregulates_gene_df = (\n",
    "    compound_regulates_gene_df\n",
    "    .query(\"direction=='up'\")\n",
    "    .merge(compound_gene_sentence_df, on=[\"drugbank_id\", \"entrez_gene_id\"], how=\"right\")\n",
    ")\n",
    "compound_upregulates_gene_df=(\n",
    "    compound_upregulates_gene_df\n",
    "    .assign(hetionet=compound_upregulates_gene_df.sources.notnull().astype(int))\n",
    "    .assign(has_sentence=(compound_upregulates_gene_df.n_sentences > 0).astype(int))\n",
    ")\n",
    "compound_upregulates_gene_df.head(2)"
   ]
  },
  {
   "cell_type": "markdown",
   "metadata": {},
   "source": [
    "## Sort Edges into categories"
   ]
  },
  {
   "cell_type": "code",
   "execution_count": 12,
   "metadata": {
    "ExecuteTime": {
     "end_time": "2019-08-07T15:34:37.258547Z",
     "start_time": "2019-08-07T15:34:37.247800Z"
    }
   },
   "outputs": [],
   "source": [
    "def partitioner(df):\n",
    "    \"\"\"\n",
    "    This function creates a parition rank for the current dataset.\n",
    "    This algorithm assigns a rank [0-1) for each datapoint inside each group (outlined below):\n",
    "        1,1 -in hetionet and has sentences\n",
    "        1,0 - in hetionet and doesn't have sentences\n",
    "        0,1 - not in hetionet and does have sentences\n",
    "        0,0, - not in hetionet and doesn't have sentences\n",
    "        \n",
    "    This ranking will be used in the get split function to assign each datapoint \n",
    "    into its corresponding category (train, dev, test)\n",
    "    \"\"\"\n",
    "    partition_rank = pd.np.linspace(0, 1, num=len(df), endpoint=False)\n",
    "    pd.np.random.shuffle(partition_rank)\n",
    "    df['partition_rank'] = partition_rank\n",
    "    return df"
   ]
  },
  {
   "cell_type": "code",
   "execution_count": 13,
   "metadata": {
    "ExecuteTime": {
     "end_time": "2019-08-07T15:34:37.310116Z",
     "start_time": "2019-08-07T15:34:37.260052Z"
    }
   },
   "outputs": [],
   "source": [
    "def get_split(partition_rank, training=0.7, dev=0.2, test=0.1):\n",
    "    \"\"\"\n",
    "    This function partitions the data into training, dev, and test sets\n",
    "    The partitioning algorithm is as follows:\n",
    "        1. anything less than 0.7 goes into training and receives an appropiate label\n",
    "        2. If not less than 0.7 subtract 0.7 and see if the rank is less than 0.2 if not assign to dev\n",
    "        3. Lastly if the rank is greater than 0.9 (0.7+0.2) assign it to test set.\n",
    "        \n",
    "    return label that corresponds to appropiate dataset cateogories\n",
    "    \"\"\"\n",
    "    if partition_rank < training:\n",
    "        return 6\n",
    "    partition_rank -= training\n",
    "    if partition_rank < dev:\n",
    "        return 7\n",
    "    partition_rank -= dev\n",
    "    assert partition_rank <= test\n",
    "    return 8"
   ]
  },
  {
   "cell_type": "code",
   "execution_count": 14,
   "metadata": {
    "ExecuteTime": {
     "end_time": "2019-08-07T15:34:37.674130Z",
     "start_time": "2019-08-07T15:34:37.311588Z"
    },
    "scrolled": true
   },
   "outputs": [
    {
     "data": {
      "text/html": [
       "<div>\n",
       "<style scoped>\n",
       "    .dataframe tbody tr th:only-of-type {\n",
       "        vertical-align: middle;\n",
       "    }\n",
       "\n",
       "    .dataframe tbody tr th {\n",
       "        vertical-align: top;\n",
       "    }\n",
       "\n",
       "    .dataframe thead th {\n",
       "        text-align: right;\n",
       "    }\n",
       "</style>\n",
       "<table border=\"1\" class=\"dataframe\">\n",
       "  <thead>\n",
       "    <tr style=\"text-align: right;\">\n",
       "      <th></th>\n",
       "      <th>drugbank_id</th>\n",
       "      <th>entrez_gene_id</th>\n",
       "      <th>sources</th>\n",
       "      <th>pubmed_ids</th>\n",
       "      <th>actions</th>\n",
       "      <th>affinity_nM</th>\n",
       "      <th>license</th>\n",
       "      <th>urls</th>\n",
       "      <th>n_sentences</th>\n",
       "      <th>drug_name</th>\n",
       "      <th>gene_symbol</th>\n",
       "      <th>hetionet</th>\n",
       "      <th>has_sentence</th>\n",
       "      <th>partition_rank</th>\n",
       "    </tr>\n",
       "  </thead>\n",
       "  <tbody>\n",
       "    <tr>\n",
       "      <th>0</th>\n",
       "      <td>DB00001</td>\n",
       "      <td>2147</td>\n",
       "      <td>DrugBank (target)</td>\n",
       "      <td>10505536|10912644|11055889|11467439|11752352|1...</td>\n",
       "      <td>inhibitor</td>\n",
       "      <td>NaN</td>\n",
       "      <td>CC BY-NC 4.0</td>\n",
       "      <td>NaN</td>\n",
       "      <td>13</td>\n",
       "      <td>Lepirudin</td>\n",
       "      <td>F2</td>\n",
       "      <td>1</td>\n",
       "      <td>1</td>\n",
       "      <td>0.070972</td>\n",
       "    </tr>\n",
       "    <tr>\n",
       "      <th>1</th>\n",
       "      <td>DB00007</td>\n",
       "      <td>2798</td>\n",
       "      <td>DrugBank (target)</td>\n",
       "      <td>10394541|10687850|15758569|16809153|9625809</td>\n",
       "      <td>agonist</td>\n",
       "      <td>NaN</td>\n",
       "      <td>CC BY-NC 4.0</td>\n",
       "      <td>NaN</td>\n",
       "      <td>27</td>\n",
       "      <td>Leuprolide</td>\n",
       "      <td>GNRHR</td>\n",
       "      <td>1</td>\n",
       "      <td>1</td>\n",
       "      <td>0.936596</td>\n",
       "    </tr>\n",
       "  </tbody>\n",
       "</table>\n",
       "</div>"
      ],
      "text/plain": [
       "  drugbank_id  entrez_gene_id            sources  \\\n",
       "0     DB00001            2147  DrugBank (target)   \n",
       "1     DB00007            2798  DrugBank (target)   \n",
       "\n",
       "                                          pubmed_ids    actions  affinity_nM  \\\n",
       "0  10505536|10912644|11055889|11467439|11752352|1...  inhibitor          NaN   \n",
       "1        10394541|10687850|15758569|16809153|9625809    agonist          NaN   \n",
       "\n",
       "        license urls  n_sentences   drug_name gene_symbol  hetionet  \\\n",
       "0  CC BY-NC 4.0  NaN           13   Lepirudin          F2         1   \n",
       "1  CC BY-NC 4.0  NaN           27  Leuprolide       GNRHR         1   \n",
       "\n",
       "   has_sentence  partition_rank  \n",
       "0             1        0.070972  \n",
       "1             1        0.936596  "
      ]
     },
     "execution_count": 14,
     "metadata": {},
     "output_type": "execute_result"
    }
   ],
   "source": [
    "pd.np.random.seed(100)\n",
    "cbg_map_df = compound_binds_gene_df.groupby(['hetionet', 'has_sentence']).apply(partitioner)\n",
    "cbg_map_df.head(2)"
   ]
  },
  {
   "cell_type": "code",
   "execution_count": 15,
   "metadata": {
    "ExecuteTime": {
     "end_time": "2019-08-07T15:34:37.784976Z",
     "start_time": "2019-08-07T15:34:37.676000Z"
    }
   },
   "outputs": [
    {
     "data": {
      "text/plain": [
       "6    207905\n",
       "7     59401\n",
       "8     29700\n",
       "Name: split, dtype: int64"
      ]
     },
     "execution_count": 15,
     "metadata": {},
     "output_type": "execute_result"
    }
   ],
   "source": [
    "cbg_map_df['split'] = cbg_map_df.partition_rank.map(get_split)\n",
    "cbg_map_df.split.value_counts()"
   ]
  },
  {
   "cell_type": "code",
   "execution_count": 16,
   "metadata": {
    "ExecuteTime": {
     "end_time": "2019-08-07T15:34:37.805995Z",
     "start_time": "2019-08-07T15:34:37.786750Z"
    }
   },
   "outputs": [
    {
     "data": {
      "text/plain": [
       "array(['DrugBank (target)', 'DrugBank (target)|DrugCentral (ChEMBL)',\n",
       "       'DrugBank (transporter)',\n",
       "       'ChEMBL|DrugBank (target)|DrugCentral (literature)',\n",
       "       'ChEMBL|DrugBank (target)|DrugCentral (ChEMBL)',\n",
       "       'DrugBank (enzyme)', 'ChEMBL', 'ChEMBL|DrugBank (transporter)',\n",
       "       'ChEMBL|DrugBank (target)|DrugCentral (ChEMBL)|PDSP Ki',\n",
       "       'DrugCentral (ChEMBL)', 'ChEMBL|DrugCentral (ChEMBL)|PDSP Ki',\n",
       "       'PubChem', 'DrugBank (target)|DrugBank (transporter)',\n",
       "       'DrugBank (carrier)', 'ChEMBL|DrugBank (target)',\n",
       "       'DrugBank (enzyme)|DrugBank (target)', 'BindingDB|ChEMBL',\n",
       "       'ChEMBL|PDSP Ki', 'DrugBank (target)|DrugCentral (ChEMBL)|PDSP Ki',\n",
       "       'ChEMBL|DrugBank (target)|PDSP Ki',\n",
       "       'BindingDB|ChEMBL|DrugBank (target)|DrugCentral (ChEMBL)',\n",
       "       'ChEMBL|DrugBank (enzyme)', 'PDSP Ki',\n",
       "       'ChEMBL|DrugBank (target)|DrugBank (transporter)|DrugCentral (ChEMBL)|PDSP Ki',\n",
       "       'BindingDB|ChEMBL|DrugBank (target)|PDSP Ki',\n",
       "       'DrugBank (target)|DrugCentral (ChEMBL)|DrugCentral (IUPHAR)',\n",
       "       'DrugBank (target)|PDSP Ki',\n",
       "       'ChEMBL|DrugBank (target)|DrugCentral (ChEMBL)|PDSP Ki|US Patent',\n",
       "       'ChEMBL|DrugBank (target)|PDSP Ki|US Patent',\n",
       "       'DrugBank (target)|DrugCentral (IUPHAR)|PDSP Ki',\n",
       "       'ChEMBL|DrugBank (target)|DrugCentral (IUPHAR)|PDSP Ki',\n",
       "       'BindingDB|DrugBank (target)|DrugCentral (ChEMBL)',\n",
       "       'BindingDB|ChEMBL|DrugBank (target)', 'BindingDB',\n",
       "       'DrugBank (target)|DrugCentral (label)', 'DrugCentral (label)',\n",
       "       'DrugCentral (literature)',\n",
       "       'ChEMBL|DrugBank (target)|DrugCentral (ChEMBL)|PubChem',\n",
       "       'BindingDB|ChEMBL|DrugBank (target)|DrugCentral (ChEMBL)|US Patent',\n",
       "       'ChEMBL|DrugBank (target)|US Patent',\n",
       "       'ChEMBL|DrugBank (target)|DrugCentral (ChEMBL)|US Patent',\n",
       "       'BindingDB|DrugBank (target)',\n",
       "       'DrugBank (target)|DrugCentral (literature)', 'ChEMBL|PubChem',\n",
       "       'DrugBank (target)|DrugCentral (ChEMBL)|DrugCentral (IUPHAR)|PDSP Ki',\n",
       "       'DrugBank (enzyme)|DrugBank (target)|DrugCentral (ChEMBL)',\n",
       "       'DrugBank (target)|DrugCentral (IUPHAR)',\n",
       "       'BindingDB|ChEMBL|DrugBank (target)|DrugCentral (IUPHAR)',\n",
       "       'ChEMBL|DrugBank (enzyme)|DrugBank (target)|DrugCentral (label)',\n",
       "       'BindingDB|ChEMBL|DrugBank (target)|DrugCentral (label)',\n",
       "       'ChEMBL|DrugBank (enzyme)|DrugBank (target)|DrugCentral (ChEMBL)',\n",
       "       'DrugBank (target)|DrugCentral (label)|PDSP Ki',\n",
       "       'ChEMBL|DrugBank (target)|PubChem',\n",
       "       'DrugBank (target)|DrugCentral (ChEMBL)|DrugCentral (label)',\n",
       "       'ChEMBL|DrugBank (carrier)',\n",
       "       'ChEMBL|DrugBank (target)|DrugCentral (literature)|PDSP Ki',\n",
       "       'BindingDB|ChEMBL|DrugBank (target)|DrugCentral (ChEMBL)|DrugCentral (label)',\n",
       "       'BindingDB|ChEMBL|DrugCentral (label)',\n",
       "       'ChEMBL|DrugCentral (ChEMBL)', 'DrugBank (enzyme)|US Patent',\n",
       "       'BindingDB|DrugBank (enzyme)|DrugBank (target)|DrugCentral (ChEMBL)',\n",
       "       'BindingDB|ChEMBL|DrugBank (target)|DrugCentral (ChEMBL)|PDSP Ki',\n",
       "       'ChEMBL|DrugBank (target)|DrugCentral (ChEMBL)|DrugCentral (label)',\n",
       "       'BindingDB|ChEMBL|DrugBank (target)|DrugCentral (KEGG DRUG)',\n",
       "       'BindingDB|DrugBank (target)|PDSP Ki',\n",
       "       'BindingDB|DrugBank (target)|DrugCentral (IUPHAR)|PDSP Ki',\n",
       "       'ChEMBL|DrugBank (enzyme)|DrugCentral (label)',\n",
       "       'BindingDB|DrugBank (target)|DrugCentral (ChEMBL)|PDSP Ki',\n",
       "       'BindingDB|ChEMBL|DrugCentral (ChEMBL)',\n",
       "       'BindingDB|DrugCentral (ChEMBL)',\n",
       "       'BindingDB|ChEMBL|DrugBank (target)|DrugCentral (ChEMBL)|DrugCentral (literature)',\n",
       "       'BindingDB|ChEMBL|DrugBank (enzyme)',\n",
       "       'DrugBank (target)|DrugBank (transporter)|DrugCentral (ChEMBL)',\n",
       "       'ChEMBL|DrugBank (enzyme)|DrugBank (target)|DrugCentral (ChEMBL)|PDSP Ki',\n",
       "       'ChEMBL|DrugBank (target)|DrugCentral (label)',\n",
       "       'ChEMBL|DrugBank (target)|DrugCentral (label)|PDSP Ki',\n",
       "       'ChEMBL|DrugBank (transporter)|PDSP Ki',\n",
       "       'ChEMBL|DrugBank (enzyme)|DrugBank (target)|DrugCentral (IUPHAR)',\n",
       "       'ChEMBL|DrugBank (target)|PDSP Ki|PubChem',\n",
       "       'ChEMBL|DrugBank (target)|DrugCentral (ChEMBL)|DrugCentral (literature)',\n",
       "       'DrugCentral (IUPHAR)',\n",
       "       'ChEMBL|DrugBank (target)|DrugCentral (label)|PubChem',\n",
       "       'ChEMBL|DrugCentral (label)|PubChem',\n",
       "       'BindingDB|DrugBank (target)|DrugCentral (IUPHAR)',\n",
       "       'DrugBank (target)|DrugCentral (KEGG DRUG)',\n",
       "       'ChEMBL|DrugBank (target)|DrugBank (transporter)|PDSP Ki',\n",
       "       'ChEMBL|US Patent',\n",
       "       'ChEMBL|DrugBank (target)|DrugCentral (IUPHAR)',\n",
       "       'ChEMBL|DrugCentral (ChEMBL)|PubChem', 'BindingDB|ChEMBL|PDSP Ki',\n",
       "       'BindingDB|ChEMBL|DrugBank (target)|DrugCentral (IUPHAR)|PDSP Ki',\n",
       "       nan], dtype=object)"
      ]
     },
     "execution_count": 16,
     "metadata": {},
     "output_type": "execute_result"
    }
   ],
   "source": [
    "cbg_map_df.sources.unique()"
   ]
  },
  {
   "cell_type": "code",
   "execution_count": 17,
   "metadata": {
    "ExecuteTime": {
     "end_time": "2019-08-07T15:34:37.885065Z",
     "start_time": "2019-08-07T15:34:37.807537Z"
    }
   },
   "outputs": [
    {
     "data": {
      "text/html": [
       "<div>\n",
       "<style scoped>\n",
       "    .dataframe tbody tr th:only-of-type {\n",
       "        vertical-align: middle;\n",
       "    }\n",
       "\n",
       "    .dataframe tbody tr th {\n",
       "        vertical-align: top;\n",
       "    }\n",
       "\n",
       "    .dataframe thead th {\n",
       "        text-align: right;\n",
       "    }\n",
       "</style>\n",
       "<table border=\"1\" class=\"dataframe\">\n",
       "  <thead>\n",
       "    <tr style=\"text-align: right;\">\n",
       "      <th></th>\n",
       "      <th>drugbank_id</th>\n",
       "      <th>drug_name</th>\n",
       "      <th>entrez_gene_id</th>\n",
       "      <th>gene_symbol</th>\n",
       "      <th>sources</th>\n",
       "      <th>n_sentences</th>\n",
       "      <th>hetionet</th>\n",
       "      <th>has_sentence</th>\n",
       "      <th>split</th>\n",
       "      <th>partition_rank</th>\n",
       "    </tr>\n",
       "  </thead>\n",
       "  <tbody>\n",
       "    <tr>\n",
       "      <th>0</th>\n",
       "      <td>DB00001</td>\n",
       "      <td>Lepirudin</td>\n",
       "      <td>2147</td>\n",
       "      <td>F2</td>\n",
       "      <td>DrugBank (target)</td>\n",
       "      <td>13</td>\n",
       "      <td>1</td>\n",
       "      <td>1</td>\n",
       "      <td>6</td>\n",
       "      <td>0.070972</td>\n",
       "    </tr>\n",
       "    <tr>\n",
       "      <th>1</th>\n",
       "      <td>DB00007</td>\n",
       "      <td>Leuprolide</td>\n",
       "      <td>2798</td>\n",
       "      <td>GNRHR</td>\n",
       "      <td>DrugBank (target)</td>\n",
       "      <td>27</td>\n",
       "      <td>1</td>\n",
       "      <td>1</td>\n",
       "      <td>8</td>\n",
       "      <td>0.936596</td>\n",
       "    </tr>\n",
       "  </tbody>\n",
       "</table>\n",
       "</div>"
      ],
      "text/plain": [
       "  drugbank_id   drug_name  entrez_gene_id gene_symbol            sources  \\\n",
       "0     DB00001   Lepirudin            2147          F2  DrugBank (target)   \n",
       "1     DB00007  Leuprolide            2798       GNRHR  DrugBank (target)   \n",
       "\n",
       "   n_sentences  hetionet  has_sentence  split  partition_rank  \n",
       "0           13         1             1      6        0.070972  \n",
       "1           27         1             1      8        0.936596  "
      ]
     },
     "execution_count": 17,
     "metadata": {},
     "output_type": "execute_result"
    }
   ],
   "source": [
    "cbg_map_df = cbg_map_df[[\n",
    "    \"drugbank_id\", \"drug_name\",\n",
    "    \"entrez_gene_id\", \"gene_symbol\",\n",
    "    \"sources\", \"n_sentences\",\n",
    "    \"hetionet\", \"has_sentence\",\n",
    "    \"split\", \"partition_rank\"\n",
    "]]\n",
    "cbg_map_df.head(2)"
   ]
  },
  {
   "cell_type": "code",
   "execution_count": 18,
   "metadata": {
    "ExecuteTime": {
     "end_time": "2019-08-07T15:34:50.236076Z",
     "start_time": "2019-08-07T15:34:37.886731Z"
    }
   },
   "outputs": [],
   "source": [
    "cbg_map_df.to_csv(\"results/compound_binds_gene.tsv.xz\", sep=\"\\t\", compression=\"xz\", index=False)"
   ]
  },
  {
   "cell_type": "code",
   "execution_count": 19,
   "metadata": {
    "ExecuteTime": {
     "end_time": "2019-08-07T15:34:50.512832Z",
     "start_time": "2019-08-07T15:34:50.237574Z"
    },
    "scrolled": true
   },
   "outputs": [
    {
     "data": {
      "text/html": [
       "<div>\n",
       "<style scoped>\n",
       "    .dataframe tbody tr th:only-of-type {\n",
       "        vertical-align: middle;\n",
       "    }\n",
       "\n",
       "    .dataframe tbody tr th {\n",
       "        vertical-align: top;\n",
       "    }\n",
       "\n",
       "    .dataframe thead th {\n",
       "        text-align: right;\n",
       "    }\n",
       "</style>\n",
       "<table border=\"1\" class=\"dataframe\">\n",
       "  <thead>\n",
       "    <tr style=\"text-align: right;\">\n",
       "      <th></th>\n",
       "      <th>drugbank_id</th>\n",
       "      <th>entrez_gene_id</th>\n",
       "      <th>symbol</th>\n",
       "      <th>direction</th>\n",
       "      <th>sources</th>\n",
       "      <th>n_sentences</th>\n",
       "      <th>drug_name</th>\n",
       "      <th>gene_symbol</th>\n",
       "      <th>hetionet</th>\n",
       "      <th>has_sentence</th>\n",
       "      <th>partition_rank</th>\n",
       "    </tr>\n",
       "  </thead>\n",
       "  <tbody>\n",
       "    <tr>\n",
       "      <th>0</th>\n",
       "      <td>DB00091</td>\n",
       "      <td>207</td>\n",
       "      <td>AKT1</td>\n",
       "      <td>down</td>\n",
       "      <td>lincs</td>\n",
       "      <td>13</td>\n",
       "      <td>Cyclosporine</td>\n",
       "      <td>AKT1</td>\n",
       "      <td>1</td>\n",
       "      <td>1</td>\n",
       "      <td>0.130774</td>\n",
       "    </tr>\n",
       "    <tr>\n",
       "      <th>1</th>\n",
       "      <td>DB00091</td>\n",
       "      <td>572</td>\n",
       "      <td>BAD</td>\n",
       "      <td>down</td>\n",
       "      <td>lincs</td>\n",
       "      <td>5</td>\n",
       "      <td>Cyclosporine</td>\n",
       "      <td>BAD</td>\n",
       "      <td>1</td>\n",
       "      <td>1</td>\n",
       "      <td>0.466493</td>\n",
       "    </tr>\n",
       "  </tbody>\n",
       "</table>\n",
       "</div>"
      ],
      "text/plain": [
       "  drugbank_id  entrez_gene_id symbol direction sources  n_sentences  \\\n",
       "0     DB00091             207   AKT1      down   lincs           13   \n",
       "1     DB00091             572    BAD      down   lincs            5   \n",
       "\n",
       "      drug_name gene_symbol  hetionet  has_sentence  partition_rank  \n",
       "0  Cyclosporine        AKT1         1             1        0.130774  \n",
       "1  Cyclosporine         BAD         1             1        0.466493  "
      ]
     },
     "execution_count": 19,
     "metadata": {},
     "output_type": "execute_result"
    }
   ],
   "source": [
    "pd.np.random.seed(100)\n",
    "cdg_map_df = compound_downregulates_gene_df.groupby(['hetionet', 'has_sentence']).apply(partitioner)\n",
    "cdg_map_df.head(2)"
   ]
  },
  {
   "cell_type": "code",
   "execution_count": 20,
   "metadata": {
    "ExecuteTime": {
     "end_time": "2019-08-07T15:34:50.625247Z",
     "start_time": "2019-08-07T15:34:50.514626Z"
    }
   },
   "outputs": [
    {
     "data": {
      "text/plain": [
       "6    207905\n",
       "7     59402\n",
       "8     29699\n",
       "Name: split, dtype: int64"
      ]
     },
     "execution_count": 20,
     "metadata": {},
     "output_type": "execute_result"
    }
   ],
   "source": [
    "cdg_map_df['split'] = cdg_map_df.partition_rank.map(get_split)\n",
    "cdg_map_df.split.value_counts()"
   ]
  },
  {
   "cell_type": "code",
   "execution_count": 21,
   "metadata": {
    "ExecuteTime": {
     "end_time": "2019-08-07T15:34:50.645658Z",
     "start_time": "2019-08-07T15:34:50.626820Z"
    }
   },
   "outputs": [
    {
     "data": {
      "text/plain": [
       "array(['lincs', nan], dtype=object)"
      ]
     },
     "execution_count": 21,
     "metadata": {},
     "output_type": "execute_result"
    }
   ],
   "source": [
    "cdg_map_df.sources.unique()"
   ]
  },
  {
   "cell_type": "code",
   "execution_count": 22,
   "metadata": {
    "ExecuteTime": {
     "end_time": "2019-08-07T15:34:50.683128Z",
     "start_time": "2019-08-07T15:34:50.647356Z"
    }
   },
   "outputs": [
    {
     "data": {
      "text/html": [
       "<div>\n",
       "<style scoped>\n",
       "    .dataframe tbody tr th:only-of-type {\n",
       "        vertical-align: middle;\n",
       "    }\n",
       "\n",
       "    .dataframe tbody tr th {\n",
       "        vertical-align: top;\n",
       "    }\n",
       "\n",
       "    .dataframe thead th {\n",
       "        text-align: right;\n",
       "    }\n",
       "</style>\n",
       "<table border=\"1\" class=\"dataframe\">\n",
       "  <thead>\n",
       "    <tr style=\"text-align: right;\">\n",
       "      <th></th>\n",
       "      <th>drugbank_id</th>\n",
       "      <th>drug_name</th>\n",
       "      <th>entrez_gene_id</th>\n",
       "      <th>gene_symbol</th>\n",
       "      <th>sources</th>\n",
       "      <th>n_sentences</th>\n",
       "      <th>hetionet</th>\n",
       "      <th>has_sentence</th>\n",
       "      <th>split</th>\n",
       "      <th>partition_rank</th>\n",
       "    </tr>\n",
       "  </thead>\n",
       "  <tbody>\n",
       "    <tr>\n",
       "      <th>0</th>\n",
       "      <td>DB00091</td>\n",
       "      <td>Cyclosporine</td>\n",
       "      <td>207</td>\n",
       "      <td>AKT1</td>\n",
       "      <td>lincs</td>\n",
       "      <td>13</td>\n",
       "      <td>1</td>\n",
       "      <td>1</td>\n",
       "      <td>6</td>\n",
       "      <td>0.130774</td>\n",
       "    </tr>\n",
       "    <tr>\n",
       "      <th>1</th>\n",
       "      <td>DB00091</td>\n",
       "      <td>Cyclosporine</td>\n",
       "      <td>572</td>\n",
       "      <td>BAD</td>\n",
       "      <td>lincs</td>\n",
       "      <td>5</td>\n",
       "      <td>1</td>\n",
       "      <td>1</td>\n",
       "      <td>6</td>\n",
       "      <td>0.466493</td>\n",
       "    </tr>\n",
       "  </tbody>\n",
       "</table>\n",
       "</div>"
      ],
      "text/plain": [
       "  drugbank_id     drug_name  entrez_gene_id gene_symbol sources  n_sentences  \\\n",
       "0     DB00091  Cyclosporine             207        AKT1   lincs           13   \n",
       "1     DB00091  Cyclosporine             572         BAD   lincs            5   \n",
       "\n",
       "   hetionet  has_sentence  split  partition_rank  \n",
       "0         1             1      6        0.130774  \n",
       "1         1             1      6        0.466493  "
      ]
     },
     "execution_count": 22,
     "metadata": {},
     "output_type": "execute_result"
    }
   ],
   "source": [
    "cdg_map_df = cdg_map_df[[\n",
    "    \"drugbank_id\", \"drug_name\",\n",
    "    \"entrez_gene_id\", \"gene_symbol\",\n",
    "    \"sources\", \"n_sentences\",\n",
    "    \"hetionet\", \"has_sentence\",\n",
    "    \"split\", \"partition_rank\"\n",
    "]]\n",
    "cdg_map_df.head(2)"
   ]
  },
  {
   "cell_type": "code",
   "execution_count": 23,
   "metadata": {
    "ExecuteTime": {
     "end_time": "2019-08-07T15:35:03.769442Z",
     "start_time": "2019-08-07T15:34:50.686321Z"
    }
   },
   "outputs": [],
   "source": [
    "cdg_map_df.to_csv(\"results/compound_downregulates_gene.tsv.xz\", sep=\"\\t\", compression=\"xz\", index=False)"
   ]
  },
  {
   "cell_type": "code",
   "execution_count": 24,
   "metadata": {
    "ExecuteTime": {
     "end_time": "2019-08-07T15:35:04.047835Z",
     "start_time": "2019-08-07T15:35:03.770782Z"
    },
    "scrolled": true
   },
   "outputs": [
    {
     "data": {
      "text/html": [
       "<div>\n",
       "<style scoped>\n",
       "    .dataframe tbody tr th:only-of-type {\n",
       "        vertical-align: middle;\n",
       "    }\n",
       "\n",
       "    .dataframe tbody tr th {\n",
       "        vertical-align: top;\n",
       "    }\n",
       "\n",
       "    .dataframe thead th {\n",
       "        text-align: right;\n",
       "    }\n",
       "</style>\n",
       "<table border=\"1\" class=\"dataframe\">\n",
       "  <thead>\n",
       "    <tr style=\"text-align: right;\">\n",
       "      <th></th>\n",
       "      <th>drugbank_id</th>\n",
       "      <th>entrez_gene_id</th>\n",
       "      <th>symbol</th>\n",
       "      <th>direction</th>\n",
       "      <th>sources</th>\n",
       "      <th>n_sentences</th>\n",
       "      <th>drug_name</th>\n",
       "      <th>gene_symbol</th>\n",
       "      <th>hetionet</th>\n",
       "      <th>has_sentence</th>\n",
       "      <th>partition_rank</th>\n",
       "    </tr>\n",
       "  </thead>\n",
       "  <tbody>\n",
       "    <tr>\n",
       "      <th>0</th>\n",
       "      <td>DB00091</td>\n",
       "      <td>283</td>\n",
       "      <td>ANG</td>\n",
       "      <td>up</td>\n",
       "      <td>lincs</td>\n",
       "      <td>1</td>\n",
       "      <td>Cyclosporine</td>\n",
       "      <td>ANG</td>\n",
       "      <td>1</td>\n",
       "      <td>1</td>\n",
       "      <td>0.012717</td>\n",
       "    </tr>\n",
       "    <tr>\n",
       "      <th>1</th>\n",
       "      <td>DB00091</td>\n",
       "      <td>467</td>\n",
       "      <td>ATF3</td>\n",
       "      <td>up</td>\n",
       "      <td>lincs</td>\n",
       "      <td>2</td>\n",
       "      <td>Cyclosporine</td>\n",
       "      <td>ATF3</td>\n",
       "      <td>1</td>\n",
       "      <td>1</td>\n",
       "      <td>0.473988</td>\n",
       "    </tr>\n",
       "  </tbody>\n",
       "</table>\n",
       "</div>"
      ],
      "text/plain": [
       "  drugbank_id  entrez_gene_id symbol direction sources  n_sentences  \\\n",
       "0     DB00091             283    ANG        up   lincs            1   \n",
       "1     DB00091             467   ATF3        up   lincs            2   \n",
       "\n",
       "      drug_name gene_symbol  hetionet  has_sentence  partition_rank  \n",
       "0  Cyclosporine         ANG         1             1        0.012717  \n",
       "1  Cyclosporine        ATF3         1             1        0.473988  "
      ]
     },
     "execution_count": 24,
     "metadata": {},
     "output_type": "execute_result"
    }
   ],
   "source": [
    "pd.np.random.seed(100)\n",
    "cug_map_df = compound_upregulates_gene_df.groupby(['hetionet', 'has_sentence']).apply(partitioner)\n",
    "cug_map_df.head(2)"
   ]
  },
  {
   "cell_type": "code",
   "execution_count": 25,
   "metadata": {
    "ExecuteTime": {
     "end_time": "2019-08-07T15:35:04.161621Z",
     "start_time": "2019-08-07T15:35:04.049748Z"
    }
   },
   "outputs": [
    {
     "data": {
      "text/plain": [
       "6    207905\n",
       "7     59401\n",
       "8     29700\n",
       "Name: split, dtype: int64"
      ]
     },
     "execution_count": 25,
     "metadata": {},
     "output_type": "execute_result"
    }
   ],
   "source": [
    "cug_map_df['split'] = cbg_map_df.partition_rank.map(get_split)\n",
    "cug_map_df.split.value_counts()"
   ]
  },
  {
   "cell_type": "code",
   "execution_count": 26,
   "metadata": {
    "ExecuteTime": {
     "end_time": "2019-08-07T15:35:04.183619Z",
     "start_time": "2019-08-07T15:35:04.163786Z"
    }
   },
   "outputs": [
    {
     "data": {
      "text/plain": [
       "array(['lincs', nan], dtype=object)"
      ]
     },
     "execution_count": 26,
     "metadata": {},
     "output_type": "execute_result"
    }
   ],
   "source": [
    "cug_map_df.sources.unique()"
   ]
  },
  {
   "cell_type": "code",
   "execution_count": 27,
   "metadata": {
    "ExecuteTime": {
     "end_time": "2019-08-07T15:35:04.220204Z",
     "start_time": "2019-08-07T15:35:04.185347Z"
    }
   },
   "outputs": [
    {
     "data": {
      "text/html": [
       "<div>\n",
       "<style scoped>\n",
       "    .dataframe tbody tr th:only-of-type {\n",
       "        vertical-align: middle;\n",
       "    }\n",
       "\n",
       "    .dataframe tbody tr th {\n",
       "        vertical-align: top;\n",
       "    }\n",
       "\n",
       "    .dataframe thead th {\n",
       "        text-align: right;\n",
       "    }\n",
       "</style>\n",
       "<table border=\"1\" class=\"dataframe\">\n",
       "  <thead>\n",
       "    <tr style=\"text-align: right;\">\n",
       "      <th></th>\n",
       "      <th>drugbank_id</th>\n",
       "      <th>drug_name</th>\n",
       "      <th>entrez_gene_id</th>\n",
       "      <th>gene_symbol</th>\n",
       "      <th>sources</th>\n",
       "      <th>n_sentences</th>\n",
       "      <th>hetionet</th>\n",
       "      <th>has_sentence</th>\n",
       "      <th>split</th>\n",
       "      <th>partition_rank</th>\n",
       "    </tr>\n",
       "  </thead>\n",
       "  <tbody>\n",
       "    <tr>\n",
       "      <th>0</th>\n",
       "      <td>DB00091</td>\n",
       "      <td>Cyclosporine</td>\n",
       "      <td>283</td>\n",
       "      <td>ANG</td>\n",
       "      <td>lincs</td>\n",
       "      <td>1</td>\n",
       "      <td>1</td>\n",
       "      <td>1</td>\n",
       "      <td>6</td>\n",
       "      <td>0.012717</td>\n",
       "    </tr>\n",
       "    <tr>\n",
       "      <th>1</th>\n",
       "      <td>DB00091</td>\n",
       "      <td>Cyclosporine</td>\n",
       "      <td>467</td>\n",
       "      <td>ATF3</td>\n",
       "      <td>lincs</td>\n",
       "      <td>2</td>\n",
       "      <td>1</td>\n",
       "      <td>1</td>\n",
       "      <td>8</td>\n",
       "      <td>0.473988</td>\n",
       "    </tr>\n",
       "  </tbody>\n",
       "</table>\n",
       "</div>"
      ],
      "text/plain": [
       "  drugbank_id     drug_name  entrez_gene_id gene_symbol sources  n_sentences  \\\n",
       "0     DB00091  Cyclosporine             283         ANG   lincs            1   \n",
       "1     DB00091  Cyclosporine             467        ATF3   lincs            2   \n",
       "\n",
       "   hetionet  has_sentence  split  partition_rank  \n",
       "0         1             1      6        0.012717  \n",
       "1         1             1      8        0.473988  "
      ]
     },
     "execution_count": 27,
     "metadata": {},
     "output_type": "execute_result"
    }
   ],
   "source": [
    "cug_map_df = cug_map_df[[\n",
    "    \"drugbank_id\", \"drug_name\",\n",
    "    \"entrez_gene_id\", \"gene_symbol\",\n",
    "    \"sources\", \"n_sentences\",\n",
    "    \"hetionet\", \"has_sentence\",\n",
    "    \"split\", \"partition_rank\"\n",
    "]]\n",
    "cug_map_df.head(2)"
   ]
  },
  {
   "cell_type": "code",
   "execution_count": 28,
   "metadata": {
    "ExecuteTime": {
     "end_time": "2019-08-07T15:35:16.690342Z",
     "start_time": "2019-08-07T15:35:04.221779Z"
    }
   },
   "outputs": [],
   "source": [
    "cbg_map_df.to_csv(\"results/compound_upregulates_gene.tsv.xz\", sep=\"\\t\", compression=\"xz\", index=False)"
   ]
  }
 ],
 "metadata": {
  "kernelspec": {
   "display_name": "Python [conda env:snorkeling]",
   "language": "python",
   "name": "conda-env-snorkeling-py"
  },
  "language_info": {
   "codemirror_mode": {
    "name": "ipython",
    "version": 3
   },
   "file_extension": ".py",
   "mimetype": "text/x-python",
   "name": "python",
   "nbconvert_exporter": "python",
   "pygments_lexer": "ipython3",
   "version": "3.6.4"
  }
 },
 "nbformat": 4,
 "nbformat_minor": 2
}
