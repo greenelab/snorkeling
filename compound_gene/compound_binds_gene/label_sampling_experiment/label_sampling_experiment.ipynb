{
 "cells": [
  {
   "cell_type": "markdown",
   "metadata": {},
   "source": [
    "# Using Labels from Different Relation Types to Predict Compound Binds Gene Sentences"
   ]
  },
  {
   "cell_type": "markdown",
   "metadata": {},
   "source": [
    "This notebook is designed to predict the compound binds gene (CbG) relation. The first step in this process is to load our pre-labeled annotation matricies (train, dev, and test). These matriceis contain sentences as the rows and the label function output as the columns (features). The working hypothesis here is there are shared information (i.e. similar keywords, same kind of sentence structure) between different relations, which in turn should aid in predicting disease associates gene relations. \n",
    "\n",
    "After loading the matricies, the next step is to train a generative model that will estimate the likelihood of the positive class: $P(\\hat{Y}=1 \\mid \\text{label functions})$. The generative model does this by estimating the parameter $\\mu$. This parameter represents the probability of a label function given the true class: $ P(\\text{label function={0,1,2}} \\mid Y={1 (+) / 0 (-)})$. Once $\\mu$ has been estimated, calculating the likelihood becomes: $P(\\hat{Y}=1 \\mid \\text{label functions}) = (\\prod_{i=1}^{N} P(\\text{label function}_{i} = 1 \\mid \\text{Y} = 1)) * P(Y = 1)$\n",
    "\n",
    "Note: This process doesn't involve any sentence context, so the only information used here are categorical output."
   ]
  },
  {
   "cell_type": "code",
   "execution_count": 1,
   "metadata": {
    "ExecuteTime": {
     "end_time": "2019-11-06T02:06:33.971805Z",
     "start_time": "2019-11-06T02:06:32.854609Z"
    }
   },
   "outputs": [],
   "source": [
    "%load_ext autoreload\n",
    "%autoreload 2\n",
    "%matplotlib inline\n",
    "\n",
    "import glob\n",
    "import sys\n",
    "import os\n",
    "sys.path.append(os.path.abspath('../../../modules'))\n",
    "\n",
    "import pandas as pd\n",
    "from sklearn.metrics import (\n",
    "    precision_recall_curve, \n",
    "    precision_recall_fscore_support, \n",
    "    confusion_matrix, \n",
    "    auc, roc_curve, \n",
    "    average_precision_score\n",
    ")\n",
    "from utils.notebook_utils.train_model_helper import get_model_performance, train_model_random_lfs, sample_lfs\n",
    "from utils.notebook_utils.dataframe_helper import load_candidate_dataframes\n",
    "\n",
    "import plotnine\n",
    "import seaborn as sns\n",
    "import logging\n",
    "\n",
    "logging.basicConfig(filename='logs.log', level='INFO')"
   ]
  },
  {
   "cell_type": "code",
   "execution_count": 2,
   "metadata": {
    "ExecuteTime": {
     "end_time": "2019-11-06T02:06:36.062165Z",
     "start_time": "2019-11-06T02:06:33.973346Z"
    }
   },
   "outputs": [],
   "source": [
    "label_destinations = {\n",
    "    'train':\"../data/label_matricies/train_sparse_matrix.tsv.xz\",\n",
    "    'dev':\"../data/label_matricies/dev_sparse_matrix.tsv.xz\",\n",
    "    'test':\"../data/label_matricies/test_sparse_matrix.tsv.xz\"\n",
    "}\n",
    "label_matricies = {\n",
    "    key:pd.read_csv(label_destinations[key], sep=\"\\t\").to_sparse()\n",
    "    for key in label_destinations\n",
    "}"
   ]
  },
  {
   "cell_type": "code",
   "execution_count": 3,
   "metadata": {
    "ExecuteTime": {
     "end_time": "2019-11-06T02:06:41.472949Z",
     "start_time": "2019-11-06T02:06:36.063650Z"
    }
   },
   "outputs": [],
   "source": [
    "label_matricies['train'] = label_matricies['train'].fillna(-2).to_dense().replace({-1:0, -2:-1})\n",
    "label_matricies['dev'] = label_matricies['dev'].fillna(-2).to_dense().replace({-1:0, -2:-1})\n",
    "label_matricies['test'] = label_matricies['test'].fillna(-2).to_dense().replace({-1:0, -2:-1})"
   ]
  },
  {
   "cell_type": "code",
   "execution_count": 4,
   "metadata": {
    "ExecuteTime": {
     "end_time": "2019-11-06T02:06:41.532754Z",
     "start_time": "2019-11-06T02:06:41.474285Z"
    }
   },
   "outputs": [],
   "source": [
    "correct_L = label_matricies['train'].drop(\"candidate_id\", axis=1).to_numpy()\n",
    "correct_L_dev = label_matricies['dev'].drop(\"candidate_id\", axis=1).to_numpy()\n",
    "correct_L_test = label_matricies['test'].drop(\"candidate_id\", axis=1).to_numpy()"
   ]
  },
  {
   "cell_type": "code",
   "execution_count": 5,
   "metadata": {
    "ExecuteTime": {
     "end_time": "2019-11-06T02:06:41.578805Z",
     "start_time": "2019-11-06T02:06:41.533881Z"
    }
   },
   "outputs": [],
   "source": [
    "spreadsheet_names = {\n",
    "    #'train': 'data/sentences/sentence_labels_train.xlsx',\n",
    "    'dev': '../data/sentences/sentence_labels_dev.xlsx',\n",
    "    'test': '../data/sentences/sentence_labels_test.xlsx'\n",
    "}"
   ]
  },
  {
   "cell_type": "code",
   "execution_count": 6,
   "metadata": {
    "ExecuteTime": {
     "end_time": "2019-11-06T02:06:43.153657Z",
     "start_time": "2019-11-06T02:06:41.579944Z"
    },
    "scrolled": true
   },
   "outputs": [
    {
     "name": "stdout",
     "output_type": "stream",
     "text": [
      "Size of dev set: 500\n",
      "Size of test set: 500\n"
     ]
    }
   ],
   "source": [
    "candidate_dfs = {\n",
    "    key:load_candidate_dataframes(spreadsheet_names[key], \"curated_cbg\")\n",
    "    for key in spreadsheet_names\n",
    "}\n",
    "\n",
    "for key in candidate_dfs:\n",
    "    print(\"Size of {} set: {}\".format(key, candidate_dfs[key].shape[0]))"
   ]
  },
  {
   "cell_type": "code",
   "execution_count": 7,
   "metadata": {
    "ExecuteTime": {
     "end_time": "2019-11-06T02:06:47.340993Z",
     "start_time": "2019-11-06T02:06:43.155022Z"
    }
   },
   "outputs": [
    {
     "data": {
      "application/vnd.jupyter.widget-view+json": {
       "model_id": "591da296dcc94c9da3f349eb236f3b73",
       "version_major": 2,
       "version_minor": 0
      },
      "text/plain": [
       "HBox(children=(IntProgress(value=1, bar_style='info', max=1), HTML(value='')))"
      ]
     },
     "metadata": {},
     "output_type": "display_data"
    },
    {
     "name": "stdout",
     "output_type": "stream",
     "text": [
      "\n"
     ]
    }
   ],
   "source": [
    "baseline_index = list(range(0,9))\n",
    "train_grid_results, dev_grid_results, test_grid_results, models = (\n",
    "    train_model_random_lfs(\n",
    "        [baseline_index], correct_L, \n",
    "        correct_L_dev, candidate_dfs['dev'].curated_cbg, correct_L_test, \n",
    "        pd.np.round(pd.np.linspace(0.01, 5, num=5), 2)\n",
    "    )\n",
    ")"
   ]
  },
  {
   "cell_type": "code",
   "execution_count": 8,
   "metadata": {
    "ExecuteTime": {
     "end_time": "2019-11-06T02:06:53.986956Z",
     "start_time": "2019-11-06T02:06:47.344179Z"
    }
   },
   "outputs": [],
   "source": [
    "(\n",
    "    pd.DataFrame({key:train_grid_results[key][:,1] for key in train_grid_results})\n",
    "    .assign(candidate_id=label_matricies['train'].candidate_id.values)\n",
    "    .to_csv(f\"results/CbG/marginals/baseline_sampled.tsv.xz\", compression=\"xz\", sep=\"\\t\", index=False)\n",
    ")"
   ]
  },
  {
   "cell_type": "code",
   "execution_count": 9,
   "metadata": {
    "ExecuteTime": {
     "end_time": "2019-11-06T02:06:54.012481Z",
     "start_time": "2019-11-06T02:06:53.988462Z"
    }
   },
   "outputs": [
    {
     "data": {
      "text/html": [
       "<div>\n",
       "<style scoped>\n",
       "    .dataframe tbody tr th:only-of-type {\n",
       "        vertical-align: middle;\n",
       "    }\n",
       "\n",
       "    .dataframe tbody tr th {\n",
       "        vertical-align: top;\n",
       "    }\n",
       "\n",
       "    .dataframe thead th {\n",
       "        text-align: right;\n",
       "    }\n",
       "</style>\n",
       "<table border=\"1\" class=\"dataframe\">\n",
       "  <thead>\n",
       "    <tr style=\"text-align: right;\">\n",
       "      <th></th>\n",
       "      <th>aupr</th>\n",
       "      <th>auroc</th>\n",
       "      <th>lf_num</th>\n",
       "      <th>lf_sample</th>\n",
       "    </tr>\n",
       "  </thead>\n",
       "  <tbody>\n",
       "    <tr>\n",
       "      <th>0</th>\n",
       "      <td>0.159903</td>\n",
       "      <td>0.621242</td>\n",
       "      <td>0</td>\n",
       "      <td>0:0,1,2,3,4,5,6,7,8</td>\n",
       "    </tr>\n",
       "  </tbody>\n",
       "</table>\n",
       "</div>"
      ],
      "text/plain": [
       "       aupr     auroc  lf_num            lf_sample\n",
       "0  0.159903  0.621242       0  0:0,1,2,3,4,5,6,7,8"
      ]
     },
     "execution_count": 9,
     "metadata": {},
     "output_type": "execute_result"
    }
   ],
   "source": [
    "dev_baseline_df = get_model_performance(candidate_dfs['dev'].curated_cbg, dev_grid_results, 0)\n",
    "dev_baseline_df.head(2)"
   ]
  },
  {
   "cell_type": "code",
   "execution_count": 10,
   "metadata": {
    "ExecuteTime": {
     "end_time": "2019-11-06T02:06:54.035639Z",
     "start_time": "2019-11-06T02:06:54.013669Z"
    }
   },
   "outputs": [
    {
     "data": {
      "text/html": [
       "<div>\n",
       "<style scoped>\n",
       "    .dataframe tbody tr th:only-of-type {\n",
       "        vertical-align: middle;\n",
       "    }\n",
       "\n",
       "    .dataframe tbody tr th {\n",
       "        vertical-align: top;\n",
       "    }\n",
       "\n",
       "    .dataframe thead th {\n",
       "        text-align: right;\n",
       "    }\n",
       "</style>\n",
       "<table border=\"1\" class=\"dataframe\">\n",
       "  <thead>\n",
       "    <tr style=\"text-align: right;\">\n",
       "      <th></th>\n",
       "      <th>aupr</th>\n",
       "      <th>auroc</th>\n",
       "      <th>lf_num</th>\n",
       "      <th>lf_sample</th>\n",
       "    </tr>\n",
       "  </thead>\n",
       "  <tbody>\n",
       "    <tr>\n",
       "      <th>0</th>\n",
       "      <td>0.290519</td>\n",
       "      <td>0.781794</td>\n",
       "      <td>0</td>\n",
       "      <td>0:0,1,2,3,4,5,6,7,8</td>\n",
       "    </tr>\n",
       "  </tbody>\n",
       "</table>\n",
       "</div>"
      ],
      "text/plain": [
       "       aupr     auroc  lf_num            lf_sample\n",
       "0  0.290519  0.781794       0  0:0,1,2,3,4,5,6,7,8"
      ]
     },
     "execution_count": 10,
     "metadata": {},
     "output_type": "execute_result"
    }
   ],
   "source": [
    "test_baseline_df = get_model_performance(candidate_dfs['test'].curated_cbg, test_grid_results, 0)\n",
    "test_baseline_df.head(2)"
   ]
  },
  {
   "cell_type": "markdown",
   "metadata": {
    "ExecuteTime": {
     "end_time": "2019-10-11T18:40:30.516087Z",
     "start_time": "2019-10-11T18:40:30.495488Z"
    }
   },
   "source": [
    "# Compound Binds Gene Sources Predicts Compound Binds Gene Sentences"
   ]
  },
  {
   "cell_type": "markdown",
   "metadata": {},
   "source": [
    "Here we are using label functions, designed to predict the Compound binds Gene relation, to predict Compound binds Gene sentences. To estimate the performance boost over the baseline model, we implement a label function sampling appoach. The sampling approach works as follows: \n",
    "1. randomly sample X amount of label functions that are not within the database category\n",
    "2. incorporate the sampled label functions with the database label functions\n",
    "3. train the generative model on the combined resources\n",
    "4. use the generative model to predict the tuning set and test set\n",
    "5. Report performance in terms of AUROC and AUPR\n",
    "6. repeat the above process 50 times for each sample size (1, 6, 11, 16, all).\n",
    "\n",
    "Given that these label functions are designed to predict the given relation, we expect that adding more label functions will increase in performance. This means that auroc when sampling 1 label function should be greater than the auroc of the baseline. This trend should continue when sampling 6, 11, 16 and then all of the label functions."
   ]
  },
  {
   "cell_type": "code",
   "execution_count": 11,
   "metadata": {
    "ExecuteTime": {
     "end_time": "2019-11-06T02:06:54.052875Z",
     "start_time": "2019-11-06T02:06:54.036959Z"
    }
   },
   "outputs": [],
   "source": [
    "cbg_start = 9\n",
    "cbg_end = 29\n",
    "\n",
    "#Spaced out number of sampels including total\n",
    "size_of_samples = [1,6,11,16,cbg_end-cbg_start]\n",
    "number_of_samples = 50\n",
    "cbg_lf_range = range(cbg_start, cbg_end)"
   ]
  },
  {
   "cell_type": "code",
   "execution_count": 12,
   "metadata": {
    "ExecuteTime": {
     "end_time": "2019-11-06T02:06:54.070592Z",
     "start_time": "2019-11-06T02:06:54.054016Z"
    }
   },
   "outputs": [],
   "source": [
    "sampled_lfs_dict = {\n",
    "    sample_size:(\n",
    "        sample_lfs(\n",
    "            list(cbg_lf_range),\n",
    "            len(list(cbg_lf_range)), \n",
    "            sample_size, \n",
    "            number_of_samples, \n",
    "            random_state=100\n",
    "        )\n",
    "    )\n",
    "    for sample_size in size_of_samples\n",
    "}"
   ]
  },
  {
   "cell_type": "code",
   "execution_count": 13,
   "metadata": {
    "ExecuteTime": {
     "end_time": "2019-11-06T02:35:08.016037Z",
     "start_time": "2019-11-06T02:06:54.071685Z"
    }
   },
   "outputs": [
    {
     "data": {
      "application/vnd.jupyter.widget-view+json": {
       "model_id": "24dcf92aeddf4f35a44c2fe3ab164131",
       "version_major": 2,
       "version_minor": 0
      },
      "text/plain": [
       "HBox(children=(IntProgress(value=1, bar_style='info', max=1), HTML(value='')))"
      ]
     },
     "metadata": {},
     "output_type": "display_data"
    },
    {
     "name": "stdout",
     "output_type": "stream",
     "text": [
      "\n"
     ]
    },
    {
     "data": {
      "application/vnd.jupyter.widget-view+json": {
       "model_id": "1b1ba1e7be35480a847bf01213b7b578",
       "version_major": 2,
       "version_minor": 0
      },
      "text/plain": [
       "HBox(children=(IntProgress(value=1, bar_style='info', max=1), HTML(value='')))"
      ]
     },
     "metadata": {},
     "output_type": "display_data"
    },
    {
     "name": "stdout",
     "output_type": "stream",
     "text": [
      "\n"
     ]
    },
    {
     "data": {
      "application/vnd.jupyter.widget-view+json": {
       "model_id": "c44c02e82a3144c98e8f348817e82152",
       "version_major": 2,
       "version_minor": 0
      },
      "text/plain": [
       "HBox(children=(IntProgress(value=1, bar_style='info', max=1), HTML(value='')))"
      ]
     },
     "metadata": {},
     "output_type": "display_data"
    },
    {
     "name": "stdout",
     "output_type": "stream",
     "text": [
      "\n"
     ]
    },
    {
     "data": {
      "application/vnd.jupyter.widget-view+json": {
       "model_id": "f029fe143a634199acebc00c9c707391",
       "version_major": 2,
       "version_minor": 0
      },
      "text/plain": [
       "HBox(children=(IntProgress(value=1, bar_style='info', max=1), HTML(value='')))"
      ]
     },
     "metadata": {},
     "output_type": "display_data"
    },
    {
     "name": "stdout",
     "output_type": "stream",
     "text": [
      "\n"
     ]
    },
    {
     "data": {
      "application/vnd.jupyter.widget-view+json": {
       "model_id": "9f81929b35194ae68f3e313e88922679",
       "version_major": 2,
       "version_minor": 0
      },
      "text/plain": [
       "HBox(children=(IntProgress(value=1, bar_style='info', max=1), HTML(value='')))"
      ]
     },
     "metadata": {},
     "output_type": "display_data"
    },
    {
     "name": "stdout",
     "output_type": "stream",
     "text": [
      "\n"
     ]
    }
   ],
   "source": [
    "dev_records = []\n",
    "test_records = []\n",
    "for num_lf in sampled_lfs_dict:\n",
    "    train_grid_results, dev_grid_results, test_grid_results, models = (\n",
    "        train_model_random_lfs(\n",
    "            [baseline_index + sample for sample in sampled_lfs_dict[num_lf]],\n",
    "            correct_L, correct_L_dev, candidate_dfs['dev'].curated_cbg,\n",
    "            correct_L_test,pd.np.round(pd.np.linspace(0.01, 5, num=5), 2)\n",
    "        )\n",
    "    )\n",
    "    \n",
    "    (\n",
    "        pd.DataFrame({key:train_grid_results[key][:,1] for key in train_grid_results})\n",
    "        .assign(candidate_id=label_matricies['train'].candidate_id.values)\n",
    "        .to_csv(f\"results/CbG/marginals/{num_lf}_sampled_train.tsv.xz\", compression=\"xz\", index=False, sep=\"\\t\")\n",
    "    )\n",
    "    (\n",
    "        pd.DataFrame({key:dev_grid_results[key][:,1] for key in dev_grid_results})\n",
    "        .to_csv(f\"results/CbG/marginals/{num_lf}_sampled_dev.tsv\", index=False, sep=\"\\t\")\n",
    "    )\n",
    "    (\n",
    "        pd.DataFrame({key:test_grid_results[key][:,1] for key in test_grid_results})\n",
    "        .to_csv(f\"results/CbG/marginals/{num_lf}_sampled_test.tsv\", index=False, sep=\"\\t\")\n",
    "    )\n",
    "    \n",
    "    (\n",
    "        pd.DataFrame({key:models[key].get_weights() for key in models})\n",
    "        .to_csv(f\"results/CbG/weights/{num_lf}_sampled_weights.tsv\", index=False, sep=\"\\t\")\n",
    "    )\n",
    "    \n",
    "    dev_records.append(get_model_performance(candidate_dfs['dev'].curated_cbg, dev_grid_results, num_lf))\n",
    "    test_records.append(get_model_performance(candidate_dfs['test'].curated_cbg, test_grid_results, num_lf))"
   ]
  },
  {
   "cell_type": "code",
   "execution_count": 14,
   "metadata": {
    "ExecuteTime": {
     "end_time": "2019-11-06T02:35:08.041101Z",
     "start_time": "2019-11-06T02:35:08.017253Z"
    }
   },
   "outputs": [
    {
     "data": {
      "text/html": [
       "<div>\n",
       "<style scoped>\n",
       "    .dataframe tbody tr th:only-of-type {\n",
       "        vertical-align: middle;\n",
       "    }\n",
       "\n",
       "    .dataframe tbody tr th {\n",
       "        vertical-align: top;\n",
       "    }\n",
       "\n",
       "    .dataframe thead th {\n",
       "        text-align: right;\n",
       "    }\n",
       "</style>\n",
       "<table border=\"1\" class=\"dataframe\">\n",
       "  <thead>\n",
       "    <tr style=\"text-align: right;\">\n",
       "      <th></th>\n",
       "      <th>aupr</th>\n",
       "      <th>auroc</th>\n",
       "      <th>lf_num</th>\n",
       "      <th>lf_sample</th>\n",
       "    </tr>\n",
       "  </thead>\n",
       "  <tbody>\n",
       "    <tr>\n",
       "      <th>0</th>\n",
       "      <td>0.159903</td>\n",
       "      <td>0.621242</td>\n",
       "      <td>0</td>\n",
       "      <td>0:0,1,2,3,4,5,6,7,8</td>\n",
       "    </tr>\n",
       "    <tr>\n",
       "      <th>1</th>\n",
       "      <td>0.157828</td>\n",
       "      <td>0.607262</td>\n",
       "      <td>1</td>\n",
       "      <td>0:0,1,2,3,4,5,6,7,8,13</td>\n",
       "    </tr>\n",
       "  </tbody>\n",
       "</table>\n",
       "</div>"
      ],
      "text/plain": [
       "       aupr     auroc  lf_num               lf_sample\n",
       "0  0.159903  0.621242       0     0:0,1,2,3,4,5,6,7,8\n",
       "1  0.157828  0.607262       1  0:0,1,2,3,4,5,6,7,8,13"
      ]
     },
     "execution_count": 14,
     "metadata": {},
     "output_type": "execute_result"
    }
   ],
   "source": [
    "dev_full_results_df = pd.concat([dev_baseline_df] + dev_records).reset_index(drop=True)\n",
    "dev_full_results_df.to_csv(\"results/CbG/results/dev_sampled_results.tsv\", index=False, sep=\"\\t\")\n",
    "dev_full_results_df.head(2)"
   ]
  },
  {
   "cell_type": "code",
   "execution_count": 62,
   "metadata": {
    "ExecuteTime": {
     "end_time": "2019-11-11T15:44:40.246713Z",
     "start_time": "2019-11-11T15:44:39.974715Z"
    }
   },
   "outputs": [
    {
     "data": {
      "text/plain": [
       "<matplotlib.axes._subplots.AxesSubplot at 0x7fdfcb2e37f0>"
      ]
     },
     "execution_count": 62,
     "metadata": {},
     "output_type": "execute_result"
    },
    {
     "data": {
      "image/png": "[encoded data removed]",
      "text/plain": [
       "<Figure size 432x288 with 1 Axes>"
      ]
     },
     "metadata": {
      "needs_background": "light"
     },
     "output_type": "display_data"
    }
   ],
   "source": [
    "sns.pointplot(x='lf_num', y='auroc', data=dev_full_results_df)"
   ]
  },
  {
   "cell_type": "code",
   "execution_count": 63,
   "metadata": {
    "ExecuteTime": {
     "end_time": "2019-11-11T15:44:40.529683Z",
     "start_time": "2019-11-11T15:44:40.247999Z"
    },
    "scrolled": true
   },
   "outputs": [
    {
     "data": {
      "text/plain": [
       "<matplotlib.axes._subplots.AxesSubplot at 0x7fdfcb2420b8>"
      ]
     },
     "execution_count": 63,
     "metadata": {},
     "output_type": "execute_result"
    },
    {
     "data": {
      "image/png": "[encoded data removed]",
      "text/plain": [
       "<Figure size 432x288 with 1 Axes>"
      ]
     },
     "metadata": {
      "needs_background": "light"
     },
     "output_type": "display_data"
    }
   ],
   "source": [
    "sns.pointplot(x='lf_num', y='aupr', data=dev_full_results_df)"
   ]
  },
  {
   "cell_type": "code",
   "execution_count": 15,
   "metadata": {
    "ExecuteTime": {
     "end_time": "2019-11-06T02:35:08.178119Z",
     "start_time": "2019-11-06T02:35:08.042374Z"
    }
   },
   "outputs": [
    {
     "data": {
      "text/html": [
       "<div>\n",
       "<style scoped>\n",
       "    .dataframe tbody tr th:only-of-type {\n",
       "        vertical-align: middle;\n",
       "    }\n",
       "\n",
       "    .dataframe tbody tr th {\n",
       "        vertical-align: top;\n",
       "    }\n",
       "\n",
       "    .dataframe thead th {\n",
       "        text-align: right;\n",
       "    }\n",
       "</style>\n",
       "<table border=\"1\" class=\"dataframe\">\n",
       "  <thead>\n",
       "    <tr style=\"text-align: right;\">\n",
       "      <th></th>\n",
       "      <th>aupr</th>\n",
       "      <th>auroc</th>\n",
       "      <th>lf_num</th>\n",
       "      <th>lf_sample</th>\n",
       "    </tr>\n",
       "  </thead>\n",
       "  <tbody>\n",
       "    <tr>\n",
       "      <th>0</th>\n",
       "      <td>0.290519</td>\n",
       "      <td>0.781794</td>\n",
       "      <td>0</td>\n",
       "      <td>0:0,1,2,3,4,5,6,7,8</td>\n",
       "    </tr>\n",
       "    <tr>\n",
       "      <th>1</th>\n",
       "      <td>0.297187</td>\n",
       "      <td>0.803563</td>\n",
       "      <td>1</td>\n",
       "      <td>0:0,1,2,3,4,5,6,7,8,13</td>\n",
       "    </tr>\n",
       "  </tbody>\n",
       "</table>\n",
       "</div>"
      ],
      "text/plain": [
       "       aupr     auroc  lf_num               lf_sample\n",
       "0  0.290519  0.781794       0     0:0,1,2,3,4,5,6,7,8\n",
       "1  0.297187  0.803563       1  0:0,1,2,3,4,5,6,7,8,13"
      ]
     },
     "execution_count": 15,
     "metadata": {},
     "output_type": "execute_result"
    }
   ],
   "source": [
    "test_full_results_df = pd.concat([test_baseline_df] + test_records).reset_index(drop=True)\n",
    "test_full_results_df.to_csv(\"results/CbG/results/test_sampled_results.tsv\", index=False, sep=\"\\t\")\n",
    "test_full_results_df.head(2)"
   ]
  },
  {
   "cell_type": "code",
   "execution_count": 64,
   "metadata": {
    "ExecuteTime": {
     "end_time": "2019-11-11T15:44:40.246713Z",
     "start_time": "2019-11-11T15:44:39.974715Z"
    }
   },
   "outputs": [
    {
     "data": {
      "text/plain": [
       "<matplotlib.axes._subplots.AxesSubplot at 0x7fdfcb1c1fd0>"
      ]
     },
     "execution_count": 64,
     "metadata": {},
     "output_type": "execute_result"
    },
    {
     "data": {
      "image/png": "[encoded data removed]",
      "text/plain": [
       "<Figure size 432x288 with 1 Axes>"
      ]
     },
     "metadata": {
      "needs_background": "light"
     },
     "output_type": "display_data"
    }
   ],
   "source": [
    "sns.pointplot(x='lf_num', y='auroc', data=test_full_results_df)"
   ]
  },
  {
   "cell_type": "code",
   "execution_count": 65,
   "metadata": {
    "ExecuteTime": {
     "end_time": "2019-11-11T15:44:40.529683Z",
     "start_time": "2019-11-11T15:44:40.247999Z"
    },
    "scrolled": true
   },
   "outputs": [
    {
     "data": {
      "text/plain": [
       "<matplotlib.axes._subplots.AxesSubplot at 0x7fdfcb14db00>"
      ]
     },
     "execution_count": 65,
     "metadata": {},
     "output_type": "execute_result"
    },
    {
     "data": {
      "image/png": "[encoded data removed]",
      "text/plain": [
       "<Figure size 432x288 with 1 Axes>"
      ]
     },
     "metadata": {
      "needs_background": "light"
     },
     "output_type": "display_data"
    }
   ],
   "source": [
    "sns.pointplot(x='lf_num', y='aupr', data=test_full_results_df)"
   ]
  },
  {
   "cell_type": "markdown",
   "metadata": {
    "ExecuteTime": {
     "end_time": "2019-10-11T18:40:30.516087Z",
     "start_time": "2019-10-11T18:40:30.495488Z"
    }
   },
   "source": [
    "# Disease Associates Gene Sources Predicts Compound Binds Gene Sentences"
   ]
  },
  {
   "cell_type": "markdown",
   "metadata": {},
   "source": [
    "Here we are using label functions, designed to predict the Disease Associates Gene relation, to predict Compound binds Gene sentences. To estimate the performance boost over the baseline model, we implement a label function sampling appoach. The sampling approach works as follows: \n",
    "1. randomly sample X amount of label functions that are not within the database category\n",
    "2. incorporate the sampled label functions with the database label functions\n",
    "3. train the generative model on the combined resources\n",
    "4. use the generative model to predict the tuning set and test set\n",
    "5. Report performance in terms of AUROC and AUPR\n",
    "6. repeat the above process 50 times for each sample size (1, 6, 11, 16, all).\n",
    "\n",
    "Given that these label functions are not designed to predict the given relation, we expect that adding more label functions will decrease in performance. This means that auroc when sampling 1 label function should be less than the auroc of the baseline. This trend should continue when sampling 6, 11, 16 and then all of the label functions."
   ]
  },
  {
   "cell_type": "code",
   "execution_count": 16,
   "metadata": {
    "ExecuteTime": {
     "end_time": "2019-11-06T02:35:08.244799Z",
     "start_time": "2019-11-06T02:35:08.182258Z"
    }
   },
   "outputs": [],
   "source": [
    "dag_start = 29\n",
    "dag_end = 59\n",
    "\n",
    "#Spaced out number of sampels including total\n",
    "size_of_samples = [1,6,11,16,dag_end-dag_start]\n",
    "number_of_samples = 50\n",
    "dag_lf_range = range(dag_start, dag_end)"
   ]
  },
  {
   "cell_type": "code",
   "execution_count": 17,
   "metadata": {
    "ExecuteTime": {
     "end_time": "2019-11-06T02:35:08.307584Z",
     "start_time": "2019-11-06T02:35:08.246180Z"
    }
   },
   "outputs": [],
   "source": [
    "sampled_lfs_dict = {\n",
    "    sample_size:(\n",
    "        sample_lfs(\n",
    "            list(dag_lf_range),\n",
    "            len(list(dag_lf_range)), \n",
    "            sample_size, \n",
    "            number_of_samples, \n",
    "            random_state=100\n",
    "        )\n",
    "    )\n",
    "    for sample_size in size_of_samples\n",
    "}"
   ]
  },
  {
   "cell_type": "code",
   "execution_count": 18,
   "metadata": {
    "ExecuteTime": {
     "end_time": "2019-11-06T03:04:29.227968Z",
     "start_time": "2019-11-06T02:35:08.309739Z"
    }
   },
   "outputs": [
    {
     "data": {
      "application/vnd.jupyter.widget-view+json": {
       "model_id": "3ae994f9b49f4c919aa790dee653a675",
       "version_major": 2,
       "version_minor": 0
      },
      "text/plain": [
       "HBox(children=(IntProgress(value=1, bar_style='info', max=1), HTML(value='')))"
      ]
     },
     "metadata": {},
     "output_type": "display_data"
    },
    {
     "name": "stdout",
     "output_type": "stream",
     "text": [
      "\n"
     ]
    },
    {
     "data": {
      "application/vnd.jupyter.widget-view+json": {
       "model_id": "6ac530c5ab134dbbbc3fa417265e070e",
       "version_major": 2,
       "version_minor": 0
      },
      "text/plain": [
       "HBox(children=(IntProgress(value=1, bar_style='info', max=1), HTML(value='')))"
      ]
     },
     "metadata": {},
     "output_type": "display_data"
    },
    {
     "name": "stdout",
     "output_type": "stream",
     "text": [
      "\n"
     ]
    },
    {
     "data": {
      "application/vnd.jupyter.widget-view+json": {
       "model_id": "273349bb46614a10b1ffd6d469818715",
       "version_major": 2,
       "version_minor": 0
      },
      "text/plain": [
       "HBox(children=(IntProgress(value=1, bar_style='info', max=1), HTML(value='')))"
      ]
     },
     "metadata": {},
     "output_type": "display_data"
    },
    {
     "name": "stdout",
     "output_type": "stream",
     "text": [
      "\n"
     ]
    },
    {
     "data": {
      "application/vnd.jupyter.widget-view+json": {
       "model_id": "bb63f7e6902a45f7a14815b8ed544360",
       "version_major": 2,
       "version_minor": 0
      },
      "text/plain": [
       "HBox(children=(IntProgress(value=1, bar_style='info', max=1), HTML(value='')))"
      ]
     },
     "metadata": {},
     "output_type": "display_data"
    },
    {
     "name": "stdout",
     "output_type": "stream",
     "text": [
      "\n"
     ]
    },
    {
     "data": {
      "application/vnd.jupyter.widget-view+json": {
       "model_id": "26810eaa54a84b97827d7487cd2ad68e",
       "version_major": 2,
       "version_minor": 0
      },
      "text/plain": [
       "HBox(children=(IntProgress(value=1, bar_style='info', max=1), HTML(value='')))"
      ]
     },
     "metadata": {},
     "output_type": "display_data"
    },
    {
     "name": "stdout",
     "output_type": "stream",
     "text": [
      "\n"
     ]
    }
   ],
   "source": [
    "dev_records = []\n",
    "test_records = []\n",
    "for num_lf in sampled_lfs_dict:\n",
    "    train_grid_results, dev_grid_results, test_grid_results, models = (\n",
    "        train_model_random_lfs(\n",
    "            [baseline_index + sample for sample in sampled_lfs_dict[num_lf]],\n",
    "            correct_L, correct_L_dev, candidate_dfs['dev'].curated_cbg,\n",
    "            correct_L_test, pd.np.round(pd.np.linspace(0.01, 5, num=5), 2)\n",
    "        )\n",
    "    )\n",
    "    \n",
    "    (\n",
    "        pd.DataFrame({key:train_grid_results[key][:,1] for key in train_grid_results})\n",
    "        .assign(candidate_id=label_matricies['train'].candidate_id.values)\n",
    "        .to_csv(f\"results/DaG/marginals/{num_lf}_sampled_train.tsv.xz\", compression=\"xz\", index=False, sep=\"\\t\")\n",
    "    )\n",
    "    (\n",
    "        pd.DataFrame({key:dev_grid_results[key][:,1] for key in dev_grid_results})\n",
    "        .to_csv(f\"results/DaG/marginals/{num_lf}_sampled_dev.tsv\", index=False, sep=\"\\t\")\n",
    "    )\n",
    "    (\n",
    "        pd.DataFrame({key:test_grid_results[key][:,1] for key in test_grid_results})\n",
    "        .to_csv(f\"results/DaG/marginals/{num_lf}_sampled_test.tsv\", index=False, sep=\"\\t\")\n",
    "    )\n",
    "    \n",
    "    (\n",
    "        pd.DataFrame({key:models[key].get_weights() for key in models})\n",
    "        .to_csv(f\"results/DaG/weights/{num_lf}_sampled_weights.tsv\", index=False, sep=\"\\t\")\n",
    "    )\n",
    "    \n",
    "    dev_records.append(get_model_performance(candidate_dfs['dev'].curated_cbg, dev_grid_results, num_lf))\n",
    "    test_records.append(get_model_performance(candidate_dfs['test'].curated_cbg, test_grid_results, num_lf))"
   ]
  },
  {
   "cell_type": "code",
   "execution_count": 19,
   "metadata": {
    "ExecuteTime": {
     "end_time": "2019-11-06T03:04:29.252910Z",
     "start_time": "2019-11-06T03:04:29.229310Z"
    }
   },
   "outputs": [
    {
     "data": {
      "text/html": [
       "<div>\n",
       "<style scoped>\n",
       "    .dataframe tbody tr th:only-of-type {\n",
       "        vertical-align: middle;\n",
       "    }\n",
       "\n",
       "    .dataframe tbody tr th {\n",
       "        vertical-align: top;\n",
       "    }\n",
       "\n",
       "    .dataframe thead th {\n",
       "        text-align: right;\n",
       "    }\n",
       "</style>\n",
       "<table border=\"1\" class=\"dataframe\">\n",
       "  <thead>\n",
       "    <tr style=\"text-align: right;\">\n",
       "      <th></th>\n",
       "      <th>aupr</th>\n",
       "      <th>auroc</th>\n",
       "      <th>lf_num</th>\n",
       "      <th>lf_sample</th>\n",
       "    </tr>\n",
       "  </thead>\n",
       "  <tbody>\n",
       "    <tr>\n",
       "      <th>0</th>\n",
       "      <td>0.159903</td>\n",
       "      <td>0.621242</td>\n",
       "      <td>0</td>\n",
       "      <td>0:0,1,2,3,4,5,6,7,8</td>\n",
       "    </tr>\n",
       "    <tr>\n",
       "      <th>1</th>\n",
       "      <td>0.160298</td>\n",
       "      <td>0.625182</td>\n",
       "      <td>1</td>\n",
       "      <td>0:0,1,2,3,4,5,6,7,8,44</td>\n",
       "    </tr>\n",
       "  </tbody>\n",
       "</table>\n",
       "</div>"
      ],
      "text/plain": [
       "       aupr     auroc  lf_num               lf_sample\n",
       "0  0.159903  0.621242       0     0:0,1,2,3,4,5,6,7,8\n",
       "1  0.160298  0.625182       1  0:0,1,2,3,4,5,6,7,8,44"
      ]
     },
     "execution_count": 19,
     "metadata": {},
     "output_type": "execute_result"
    }
   ],
   "source": [
    "dev_full_results_df = pd.concat([dev_baseline_df] + dev_records).reset_index(drop=True)\n",
    "dev_full_results_df.to_csv(\"results/DaG/results/dev_sampled_results.tsv\", index=False, sep=\"\\t\")\n",
    "dev_full_results_df.head(2)"
   ]
  },
  {
   "cell_type": "code",
   "execution_count": 57,
   "metadata": {
    "ExecuteTime": {
     "end_time": "2019-11-11T15:44:40.246713Z",
     "start_time": "2019-11-11T15:44:39.974715Z"
    }
   },
   "outputs": [
    {
     "data": {
      "text/plain": [
       "<matplotlib.axes._subplots.AxesSubplot at 0x7fdfcb71a748>"
      ]
     },
     "execution_count": 57,
     "metadata": {},
     "output_type": "execute_result"
    },
    {
     "data": {
      "image/png": "[encoded data removed]",
      "text/plain": [
       "<Figure size 432x288 with 1 Axes>"
      ]
     },
     "metadata": {
      "needs_background": "light"
     },
     "output_type": "display_data"
    }
   ],
   "source": [
    "sns.pointplot(x='lf_num', y='auroc', data=dev_full_results_df)"
   ]
  },
  {
   "cell_type": "code",
   "execution_count": 58,
   "metadata": {
    "ExecuteTime": {
     "end_time": "2019-11-11T15:44:40.529683Z",
     "start_time": "2019-11-11T15:44:40.247999Z"
    },
    "scrolled": false
   },
   "outputs": [
    {
     "data": {
      "text/plain": [
       "<matplotlib.axes._subplots.AxesSubplot at 0x7fdfcb41a828>"
      ]
     },
     "execution_count": 58,
     "metadata": {},
     "output_type": "execute_result"
    },
    {
     "data": {
      "image/png": "[encoded data removed]",
      "text/plain": [
       "<Figure size 432x288 with 1 Axes>"
      ]
     },
     "metadata": {
      "needs_background": "light"
     },
     "output_type": "display_data"
    }
   ],
   "source": [
    "sns.pointplot(x='lf_num', y='aupr', data=dev_full_results_df)"
   ]
  },
  {
   "cell_type": "code",
   "execution_count": 20,
   "metadata": {
    "ExecuteTime": {
     "end_time": "2019-11-06T03:04:29.407188Z",
     "start_time": "2019-11-06T03:04:29.255836Z"
    }
   },
   "outputs": [
    {
     "data": {
      "text/html": [
       "<div>\n",
       "<style scoped>\n",
       "    .dataframe tbody tr th:only-of-type {\n",
       "        vertical-align: middle;\n",
       "    }\n",
       "\n",
       "    .dataframe tbody tr th {\n",
       "        vertical-align: top;\n",
       "    }\n",
       "\n",
       "    .dataframe thead th {\n",
       "        text-align: right;\n",
       "    }\n",
       "</style>\n",
       "<table border=\"1\" class=\"dataframe\">\n",
       "  <thead>\n",
       "    <tr style=\"text-align: right;\">\n",
       "      <th></th>\n",
       "      <th>aupr</th>\n",
       "      <th>auroc</th>\n",
       "      <th>lf_num</th>\n",
       "      <th>lf_sample</th>\n",
       "    </tr>\n",
       "  </thead>\n",
       "  <tbody>\n",
       "    <tr>\n",
       "      <th>0</th>\n",
       "      <td>0.290519</td>\n",
       "      <td>0.781794</td>\n",
       "      <td>0</td>\n",
       "      <td>0:0,1,2,3,4,5,6,7,8</td>\n",
       "    </tr>\n",
       "    <tr>\n",
       "      <th>1</th>\n",
       "      <td>0.290519</td>\n",
       "      <td>0.781794</td>\n",
       "      <td>1</td>\n",
       "      <td>0:0,1,2,3,4,5,6,7,8,44</td>\n",
       "    </tr>\n",
       "  </tbody>\n",
       "</table>\n",
       "</div>"
      ],
      "text/plain": [
       "       aupr     auroc  lf_num               lf_sample\n",
       "0  0.290519  0.781794       0     0:0,1,2,3,4,5,6,7,8\n",
       "1  0.290519  0.781794       1  0:0,1,2,3,4,5,6,7,8,44"
      ]
     },
     "execution_count": 20,
     "metadata": {},
     "output_type": "execute_result"
    }
   ],
   "source": [
    "test_full_results_df = pd.concat([test_baseline_df] + test_records).reset_index(drop=True)\n",
    "test_full_results_df.to_csv(\"results/DaG/results/test_sampled_results.tsv\", index=False, sep=\"\\t\")\n",
    "test_full_results_df.head(2)"
   ]
  },
  {
   "cell_type": "code",
   "execution_count": 59,
   "metadata": {
    "ExecuteTime": {
     "end_time": "2019-11-11T15:44:40.246713Z",
     "start_time": "2019-11-11T15:44:39.974715Z"
    }
   },
   "outputs": [
    {
     "data": {
      "text/plain": [
       "<matplotlib.axes._subplots.AxesSubplot at 0x7fdfcb38e710>"
      ]
     },
     "execution_count": 59,
     "metadata": {},
     "output_type": "execute_result"
    },
    {
     "data": {
      "image/png": "[encoded data removed]",
      "text/plain": [
       "<Figure size 432x288 with 1 Axes>"
      ]
     },
     "metadata": {
      "needs_background": "light"
     },
     "output_type": "display_data"
    }
   ],
   "source": [
    "sns.pointplot(x='lf_num', y='auroc', data=test_full_results_df)"
   ]
  },
  {
   "cell_type": "code",
   "execution_count": 60,
   "metadata": {
    "ExecuteTime": {
     "end_time": "2019-11-11T15:44:40.529683Z",
     "start_time": "2019-11-11T15:44:40.247999Z"
    },
    "scrolled": true
   },
   "outputs": [
    {
     "data": {
      "text/plain": [
       "<matplotlib.axes._subplots.AxesSubplot at 0x7fdfcb2fbba8>"
      ]
     },
     "execution_count": 60,
     "metadata": {},
     "output_type": "execute_result"
    },
    {
     "data": {
      "image/png": "[encoded data removed]",
      "text/plain": [
       "<Figure size 432x288 with 1 Axes>"
      ]
     },
     "metadata": {
      "needs_background": "light"
     },
     "output_type": "display_data"
    }
   ],
   "source": [
    "sns.pointplot(x='lf_num', y='aupr', data=test_full_results_df)"
   ]
  },
  {
   "cell_type": "markdown",
   "metadata": {
    "ExecuteTime": {
     "end_time": "2019-10-11T18:40:30.516087Z",
     "start_time": "2019-10-11T18:40:30.495488Z"
    }
   },
   "source": [
    "# Compound Treats Disease Sources Predicts Compound Binds Gene Sentences"
   ]
  },
  {
   "cell_type": "markdown",
   "metadata": {},
   "source": [
    "Here we are using label functions, designed to predict the Compound treats Disease relation, to predict Compound binds Gene sentences. To estimate the performance boost over the baseline model, we implement a label function sampling appoach. The sampling approach works as follows: \n",
    "1. randomly sample X amount of label functions that are not within the database category\n",
    "2. incorporate the sampled label functions with the database label functions\n",
    "3. train the generative model on the combined resources\n",
    "4. use the generative model to predict the tuning set and test set\n",
    "5. Report performance in terms of AUROC and AUPR\n",
    "6. repeat the above process 50 times for each sample size (1, 6, 11, 16, all).\n",
    "\n",
    "Given that these label functions are not designed to predict the given relation, we expect that adding more label functions will decrease in performance. This means that auroc when sampling 1 label function should be less than the auroc of the baseline. This trend should continue when sampling 6, 11, 16 and then all of the label functions."
   ]
  },
  {
   "cell_type": "code",
   "execution_count": 21,
   "metadata": {
    "ExecuteTime": {
     "end_time": "2019-11-06T03:04:29.482401Z",
     "start_time": "2019-11-06T03:04:29.411529Z"
    }
   },
   "outputs": [],
   "source": [
    "ctd_start = 59\n",
    "ctd_end = 81\n",
    "\n",
    "#Spaced out number of sampels including total\n",
    "size_of_samples = [1,6,11,16,ctd_end-ctd_start]\n",
    "number_of_samples = 50\n",
    "ctd_lf_range = range(ctd_start, ctd_end)"
   ]
  },
  {
   "cell_type": "code",
   "execution_count": 22,
   "metadata": {
    "ExecuteTime": {
     "end_time": "2019-11-06T03:04:29.568555Z",
     "start_time": "2019-11-06T03:04:29.484175Z"
    }
   },
   "outputs": [],
   "source": [
    "sampled_lfs_dict = {\n",
    "    sample_size:(\n",
    "        sample_lfs(\n",
    "            list(ctd_lf_range),\n",
    "            len(list(ctd_lf_range)), \n",
    "            sample_size, \n",
    "            number_of_samples, \n",
    "            random_state=100\n",
    "        )\n",
    "    )\n",
    "    for sample_size in size_of_samples\n",
    "}"
   ]
  },
  {
   "cell_type": "code",
   "execution_count": 23,
   "metadata": {
    "ExecuteTime": {
     "end_time": "2019-11-06T03:32:26.737334Z",
     "start_time": "2019-11-06T03:04:29.573596Z"
    }
   },
   "outputs": [
    {
     "data": {
      "application/vnd.jupyter.widget-view+json": {
       "model_id": "9c63ef49080e4681bca1e0a76465c4a6",
       "version_major": 2,
       "version_minor": 0
      },
      "text/plain": [
       "HBox(children=(IntProgress(value=1, bar_style='info', max=1), HTML(value='')))"
      ]
     },
     "metadata": {},
     "output_type": "display_data"
    },
    {
     "name": "stdout",
     "output_type": "stream",
     "text": [
      "\n"
     ]
    },
    {
     "name": "stderr",
     "output_type": "stream",
     "text": [
      "/home/danich1/anaconda2/envs/snorkel_advanced/lib/python3.6/site-packages/snorkel/labeling/model/label_model.py:358: RuntimeWarning: divide by zero encountered in true_divide\n",
      "  return np.clip(accs / self.coverage, 1e-6, 1.0)\n"
     ]
    },
    {
     "data": {
      "application/vnd.jupyter.widget-view+json": {
       "model_id": "851d34d7243f4c269f087f2c64cd38c8",
       "version_major": 2,
       "version_minor": 0
      },
      "text/plain": [
       "HBox(children=(IntProgress(value=1, bar_style='info', max=1), HTML(value='')))"
      ]
     },
     "metadata": {},
     "output_type": "display_data"
    },
    {
     "name": "stdout",
     "output_type": "stream",
     "text": [
      "\n"
     ]
    },
    {
     "name": "stderr",
     "output_type": "stream",
     "text": [
      "/home/danich1/anaconda2/envs/snorkel_advanced/lib/python3.6/site-packages/snorkel/labeling/model/label_model.py:358: RuntimeWarning: divide by zero encountered in true_divide\n",
      "  return np.clip(accs / self.coverage, 1e-6, 1.0)\n"
     ]
    },
    {
     "data": {
      "application/vnd.jupyter.widget-view+json": {
       "model_id": "ff73c365267a4c0da9ce8d537ca1c826",
       "version_major": 2,
       "version_minor": 0
      },
      "text/plain": [
       "HBox(children=(IntProgress(value=1, bar_style='info', max=1), HTML(value='')))"
      ]
     },
     "metadata": {},
     "output_type": "display_data"
    },
    {
     "name": "stdout",
     "output_type": "stream",
     "text": [
      "\n"
     ]
    },
    {
     "name": "stderr",
     "output_type": "stream",
     "text": [
      "/home/danich1/anaconda2/envs/snorkel_advanced/lib/python3.6/site-packages/snorkel/labeling/model/label_model.py:358: RuntimeWarning: divide by zero encountered in true_divide\n",
      "  return np.clip(accs / self.coverage, 1e-6, 1.0)\n"
     ]
    },
    {
     "data": {
      "application/vnd.jupyter.widget-view+json": {
       "model_id": "94be8d4ed1214a778247f2aed76bab9d",
       "version_major": 2,
       "version_minor": 0
      },
      "text/plain": [
       "HBox(children=(IntProgress(value=1, bar_style='info', max=1), HTML(value='')))"
      ]
     },
     "metadata": {},
     "output_type": "display_data"
    },
    {
     "name": "stdout",
     "output_type": "stream",
     "text": [
      "\n"
     ]
    },
    {
     "name": "stderr",
     "output_type": "stream",
     "text": [
      "/home/danich1/anaconda2/envs/snorkel_advanced/lib/python3.6/site-packages/snorkel/labeling/model/label_model.py:358: RuntimeWarning: divide by zero encountered in true_divide\n",
      "  return np.clip(accs / self.coverage, 1e-6, 1.0)\n"
     ]
    },
    {
     "data": {
      "application/vnd.jupyter.widget-view+json": {
       "model_id": "e0b7d2e4c9ba444f88da042d1e1661a1",
       "version_major": 2,
       "version_minor": 0
      },
      "text/plain": [
       "HBox(children=(IntProgress(value=1, bar_style='info', max=1), HTML(value='')))"
      ]
     },
     "metadata": {},
     "output_type": "display_data"
    },
    {
     "name": "stdout",
     "output_type": "stream",
     "text": [
      "\n"
     ]
    },
    {
     "name": "stderr",
     "output_type": "stream",
     "text": [
      "/home/danich1/anaconda2/envs/snorkel_advanced/lib/python3.6/site-packages/snorkel/labeling/model/label_model.py:358: RuntimeWarning: divide by zero encountered in true_divide\n",
      "  return np.clip(accs / self.coverage, 1e-6, 1.0)\n"
     ]
    }
   ],
   "source": [
    "dev_records = []\n",
    "test_records = []\n",
    "for num_lf in sampled_lfs_dict:\n",
    "    train_grid_results, dev_grid_results, test_grid_results, models = (\n",
    "        train_model_random_lfs(\n",
    "            [baseline_index + sample for sample in sampled_lfs_dict[num_lf]],\n",
    "            correct_L, correct_L_dev, candidate_dfs['dev'].curated_cbg, \n",
    "            correct_L_test,pd.np.round(pd.np.linspace(0.01, 5, num=5), 2)\n",
    "        )\n",
    "    )\n",
    "    \n",
    "    (\n",
    "        pd.DataFrame({key:train_grid_results[key][:,1] for key in train_grid_results})\n",
    "        .assign(candidate_id=label_matricies['train'].candidate_id.values)\n",
    "        .to_csv(f\"results/CtD/marginals/{num_lf}_sampled_train.tsv.xz\", compression=\"xz\", index=False, sep=\"\\t\")\n",
    "    )\n",
    "    (\n",
    "        pd.DataFrame({key:dev_grid_results[key][:,1] for key in dev_grid_results})\n",
    "        .to_csv(f\"results/CtD/marginals/{num_lf}_sampled_dev.tsv\", index=False, sep=\"\\t\")\n",
    "    )\n",
    "    (\n",
    "        pd.DataFrame({key:test_grid_results[key][:,1] for key in test_grid_results})\n",
    "        .to_csv(f\"results/CtD/marginals/{num_lf}_sampled_test.tsv\", index=False, sep=\"\\t\")\n",
    "    )\n",
    "    \n",
    "    (\n",
    "        pd.DataFrame({key:models[key].get_weights() for key in models})\n",
    "        .to_csv(f\"results/CtD/weights/{num_lf}_sampled_weights.tsv\", index=False, sep=\"\\t\")\n",
    "    )\n",
    "    \n",
    "    dev_records.append(get_model_performance(candidate_dfs['dev'].curated_cbg, dev_grid_results, num_lf))\n",
    "    test_records.append(get_model_performance(candidate_dfs['test'].curated_cbg, test_grid_results, num_lf))"
   ]
  },
  {
   "cell_type": "code",
   "execution_count": 24,
   "metadata": {
    "ExecuteTime": {
     "end_time": "2019-11-06T03:32:26.762876Z",
     "start_time": "2019-11-06T03:32:26.738819Z"
    }
   },
   "outputs": [
    {
     "data": {
      "text/html": [
       "<div>\n",
       "<style scoped>\n",
       "    .dataframe tbody tr th:only-of-type {\n",
       "        vertical-align: middle;\n",
       "    }\n",
       "\n",
       "    .dataframe tbody tr th {\n",
       "        vertical-align: top;\n",
       "    }\n",
       "\n",
       "    .dataframe thead th {\n",
       "        text-align: right;\n",
       "    }\n",
       "</style>\n",
       "<table border=\"1\" class=\"dataframe\">\n",
       "  <thead>\n",
       "    <tr style=\"text-align: right;\">\n",
       "      <th></th>\n",
       "      <th>aupr</th>\n",
       "      <th>auroc</th>\n",
       "      <th>lf_num</th>\n",
       "      <th>lf_sample</th>\n",
       "    </tr>\n",
       "  </thead>\n",
       "  <tbody>\n",
       "    <tr>\n",
       "      <th>0</th>\n",
       "      <td>0.159903</td>\n",
       "      <td>0.621242</td>\n",
       "      <td>0</td>\n",
       "      <td>0:0,1,2,3,4,5,6,7,8</td>\n",
       "    </tr>\n",
       "    <tr>\n",
       "      <th>1</th>\n",
       "      <td>0.159581</td>\n",
       "      <td>0.632333</td>\n",
       "      <td>1</td>\n",
       "      <td>0:0,1,2,3,4,5,6,7,8,73</td>\n",
       "    </tr>\n",
       "  </tbody>\n",
       "</table>\n",
       "</div>"
      ],
      "text/plain": [
       "       aupr     auroc  lf_num               lf_sample\n",
       "0  0.159903  0.621242       0     0:0,1,2,3,4,5,6,7,8\n",
       "1  0.159581  0.632333       1  0:0,1,2,3,4,5,6,7,8,73"
      ]
     },
     "execution_count": 24,
     "metadata": {},
     "output_type": "execute_result"
    }
   ],
   "source": [
    "dev_full_results_df = pd.concat([dev_baseline_df] + dev_records).reset_index(drop=True)\n",
    "dev_full_results_df.to_csv(\"results/CtD/results/dev_sampled_results.tsv\", index=False, sep=\"\\t\")\n",
    "dev_full_results_df.head(2)"
   ]
  },
  {
   "cell_type": "code",
   "execution_count": 52,
   "metadata": {
    "ExecuteTime": {
     "end_time": "2019-11-11T15:44:40.246713Z",
     "start_time": "2019-11-11T15:44:39.974715Z"
    }
   },
   "outputs": [
    {
     "data": {
      "text/plain": [
       "<matplotlib.axes._subplots.AxesSubplot at 0x7fdfcb5ef940>"
      ]
     },
     "execution_count": 52,
     "metadata": {},
     "output_type": "execute_result"
    },
    {
     "data": {
      "image/png": "[encoded data removed]",
      "text/plain": [
       "<Figure size 432x288 with 1 Axes>"
      ]
     },
     "metadata": {
      "needs_background": "light"
     },
     "output_type": "display_data"
    }
   ],
   "source": [
    "sns.pointplot(x='lf_num', y='auroc', data=dev_full_results_df)"
   ]
  },
  {
   "cell_type": "code",
   "execution_count": 53,
   "metadata": {
    "ExecuteTime": {
     "end_time": "2019-11-11T15:44:40.529683Z",
     "start_time": "2019-11-11T15:44:40.247999Z"
    },
    "scrolled": true
   },
   "outputs": [
    {
     "data": {
      "text/plain": [
       "<matplotlib.axes._subplots.AxesSubplot at 0x7fdfcb5c6320>"
      ]
     },
     "execution_count": 53,
     "metadata": {},
     "output_type": "execute_result"
    },
    {
     "data": {
      "image/png": "[encoded data removed]",
      "text/plain": [
       "<Figure size 432x288 with 1 Axes>"
      ]
     },
     "metadata": {
      "needs_background": "light"
     },
     "output_type": "display_data"
    }
   ],
   "source": [
    "sns.pointplot(x='lf_num', y='aupr', data=dev_full_results_df)"
   ]
  },
  {
   "cell_type": "code",
   "execution_count": 25,
   "metadata": {
    "ExecuteTime": {
     "end_time": "2019-11-06T03:32:26.888996Z",
     "start_time": "2019-11-06T03:32:26.764205Z"
    }
   },
   "outputs": [
    {
     "data": {
      "text/html": [
       "<div>\n",
       "<style scoped>\n",
       "    .dataframe tbody tr th:only-of-type {\n",
       "        vertical-align: middle;\n",
       "    }\n",
       "\n",
       "    .dataframe tbody tr th {\n",
       "        vertical-align: top;\n",
       "    }\n",
       "\n",
       "    .dataframe thead th {\n",
       "        text-align: right;\n",
       "    }\n",
       "</style>\n",
       "<table border=\"1\" class=\"dataframe\">\n",
       "  <thead>\n",
       "    <tr style=\"text-align: right;\">\n",
       "      <th></th>\n",
       "      <th>aupr</th>\n",
       "      <th>auroc</th>\n",
       "      <th>lf_num</th>\n",
       "      <th>lf_sample</th>\n",
       "    </tr>\n",
       "  </thead>\n",
       "  <tbody>\n",
       "    <tr>\n",
       "      <th>0</th>\n",
       "      <td>0.290519</td>\n",
       "      <td>0.781794</td>\n",
       "      <td>0</td>\n",
       "      <td>0:0,1,2,3,4,5,6,7,8</td>\n",
       "    </tr>\n",
       "    <tr>\n",
       "      <th>1</th>\n",
       "      <td>0.283426</td>\n",
       "      <td>0.797751</td>\n",
       "      <td>1</td>\n",
       "      <td>0:0,1,2,3,4,5,6,7,8,73</td>\n",
       "    </tr>\n",
       "  </tbody>\n",
       "</table>\n",
       "</div>"
      ],
      "text/plain": [
       "       aupr     auroc  lf_num               lf_sample\n",
       "0  0.290519  0.781794       0     0:0,1,2,3,4,5,6,7,8\n",
       "1  0.283426  0.797751       1  0:0,1,2,3,4,5,6,7,8,73"
      ]
     },
     "execution_count": 25,
     "metadata": {},
     "output_type": "execute_result"
    }
   ],
   "source": [
    "test_full_results_df = pd.concat([test_baseline_df] + test_records).reset_index(drop=True)\n",
    "test_full_results_df.to_csv(\"results/CtD/results/test_sampled_results.tsv\", index=False, sep=\"\\t\")\n",
    "test_full_results_df.head(2)"
   ]
  },
  {
   "cell_type": "code",
   "execution_count": 54,
   "metadata": {
    "ExecuteTime": {
     "end_time": "2019-11-11T15:44:40.246713Z",
     "start_time": "2019-11-11T15:44:39.974715Z"
    }
   },
   "outputs": [
    {
     "data": {
      "text/plain": [
       "<matplotlib.axes._subplots.AxesSubplot at 0x7fdfcb5c6ba8>"
      ]
     },
     "execution_count": 54,
     "metadata": {},
     "output_type": "execute_result"
    },
    {
     "data": {
      "image/png": "[encoded data removed]",
      "text/plain": [
       "<Figure size 432x288 with 1 Axes>"
      ]
     },
     "metadata": {
      "needs_background": "light"
     },
     "output_type": "display_data"
    }
   ],
   "source": [
    "sns.pointplot(x='lf_num', y='auroc', data=test_full_results_df)"
   ]
  },
  {
   "cell_type": "code",
   "execution_count": 55,
   "metadata": {
    "ExecuteTime": {
     "end_time": "2019-11-11T15:44:40.529683Z",
     "start_time": "2019-11-11T15:44:40.247999Z"
    },
    "scrolled": true
   },
   "outputs": [
    {
     "data": {
      "text/plain": [
       "<matplotlib.axes._subplots.AxesSubplot at 0x7fdfcb5de6a0>"
      ]
     },
     "execution_count": 55,
     "metadata": {},
     "output_type": "execute_result"
    },
    {
     "data": {
      "image/png": "[encoded data removed]",
      "text/plain": [
       "<Figure size 432x288 with 1 Axes>"
      ]
     },
     "metadata": {
      "needs_background": "light"
     },
     "output_type": "display_data"
    }
   ],
   "source": [
    "sns.pointplot(x='lf_num', y='aupr', data=test_full_results_df)"
   ]
  },
  {
   "cell_type": "markdown",
   "metadata": {
    "ExecuteTime": {
     "end_time": "2019-10-11T18:40:30.516087Z",
     "start_time": "2019-10-11T18:40:30.495488Z"
    }
   },
   "source": [
    "# Gene Interacts Gene Sources Predicts Compound Binds Gene Sentences"
   ]
  },
  {
   "cell_type": "markdown",
   "metadata": {},
   "source": [
    "Here we are using label functions, designed to predict the Gene interacts Gene relation, to predict Compound binds Gene sentences. To estimate the performance boost over the baseline model, we implement a label function sampling appoach. The sampling approach works as follows: \n",
    "1. randomly sample X amount of label functions that are not within the database category\n",
    "2. incorporate the sampled label functions with the database label functions\n",
    "3. train the generative model on the combined resources\n",
    "4. use the generative model to predict the tuning set and test set\n",
    "5. Report performance in terms of AUROC and AUPR\n",
    "6. repeat the above process 50 times for each sample size (1, 6, 11, 16, all).\n",
    "\n",
    "Given the label function source relation (GiG) may share similar termonology, sentence structure and keywords with the target relation (CbG), we expect that adding more label functions will increase performance. This means that auroc when sampling 1 label function should be more than the auroc of the baseline. This trend should continue when sampling 6, 11, 16 and then all of the label functions."
   ]
  },
  {
   "cell_type": "code",
   "execution_count": 26,
   "metadata": {
    "ExecuteTime": {
     "end_time": "2019-11-06T03:32:26.980083Z",
     "start_time": "2019-11-06T03:32:26.892752Z"
    }
   },
   "outputs": [],
   "source": [
    "gig_start = 81\n",
    "gig_end = 109\n",
    "\n",
    "#Spaced out number of sampels including total\n",
    "size_of_samples = [1,6,11,16,gig_end-gig_start]\n",
    "number_of_samples = 50\n",
    "gig_lf_range = range(gig_start, gig_end)"
   ]
  },
  {
   "cell_type": "code",
   "execution_count": 27,
   "metadata": {
    "ExecuteTime": {
     "end_time": "2019-11-06T03:32:27.076047Z",
     "start_time": "2019-11-06T03:32:26.982074Z"
    }
   },
   "outputs": [],
   "source": [
    "sampled_lfs_dict = {\n",
    "    sample_size:(\n",
    "        sample_lfs(\n",
    "            list(gig_lf_range),\n",
    "            len(list(gig_lf_range)), \n",
    "            sample_size, \n",
    "            number_of_samples, \n",
    "            random_state=100\n",
    "        )\n",
    "    )\n",
    "    for sample_size in size_of_samples\n",
    "}"
   ]
  },
  {
   "cell_type": "code",
   "execution_count": 28,
   "metadata": {
    "ExecuteTime": {
     "end_time": "2019-11-06T04:00:39.158429Z",
     "start_time": "2019-11-06T03:32:27.077234Z"
    }
   },
   "outputs": [
    {
     "data": {
      "application/vnd.jupyter.widget-view+json": {
       "model_id": "2331a3d665724edebab71a8f33ca99e9",
       "version_major": 2,
       "version_minor": 0
      },
      "text/plain": [
       "HBox(children=(IntProgress(value=1, bar_style='info', max=1), HTML(value='')))"
      ]
     },
     "metadata": {},
     "output_type": "display_data"
    },
    {
     "name": "stdout",
     "output_type": "stream",
     "text": [
      "\n"
     ]
    },
    {
     "data": {
      "application/vnd.jupyter.widget-view+json": {
       "model_id": "ff28186e3883482eb2f562cc2f732190",
       "version_major": 2,
       "version_minor": 0
      },
      "text/plain": [
       "HBox(children=(IntProgress(value=1, bar_style='info', max=1), HTML(value='')))"
      ]
     },
     "metadata": {},
     "output_type": "display_data"
    },
    {
     "name": "stdout",
     "output_type": "stream",
     "text": [
      "\n"
     ]
    },
    {
     "data": {
      "application/vnd.jupyter.widget-view+json": {
       "model_id": "df60a8a5d5a84fc2a5b6d64508442f85",
       "version_major": 2,
       "version_minor": 0
      },
      "text/plain": [
       "HBox(children=(IntProgress(value=1, bar_style='info', max=1), HTML(value='')))"
      ]
     },
     "metadata": {},
     "output_type": "display_data"
    },
    {
     "name": "stdout",
     "output_type": "stream",
     "text": [
      "\n"
     ]
    },
    {
     "data": {
      "application/vnd.jupyter.widget-view+json": {
       "model_id": "cf7d605d743447a0b9e7f6669789ca71",
       "version_major": 2,
       "version_minor": 0
      },
      "text/plain": [
       "HBox(children=(IntProgress(value=1, bar_style='info', max=1), HTML(value='')))"
      ]
     },
     "metadata": {},
     "output_type": "display_data"
    },
    {
     "name": "stdout",
     "output_type": "stream",
     "text": [
      "\n"
     ]
    },
    {
     "data": {
      "application/vnd.jupyter.widget-view+json": {
       "model_id": "aeada3283a2a4583be89b1bde629c789",
       "version_major": 2,
       "version_minor": 0
      },
      "text/plain": [
       "HBox(children=(IntProgress(value=1, bar_style='info', max=1), HTML(value='')))"
      ]
     },
     "metadata": {},
     "output_type": "display_data"
    },
    {
     "name": "stdout",
     "output_type": "stream",
     "text": [
      "\n"
     ]
    }
   ],
   "source": [
    "dev_records = []\n",
    "test_records = []\n",
    "for num_lf in sampled_lfs_dict:\n",
    "    train_grid_results, dev_grid_results, test_grid_results, models = (\n",
    "        train_model_random_lfs(\n",
    "            [baseline_index + sample for sample in sampled_lfs_dict[num_lf]], \n",
    "            correct_L, correct_L_dev, candidate_dfs['dev'].curated_cbg, \n",
    "            correct_L_test, pd.np.round(pd.np.linspace(0.01, 5, num=5), 2)\n",
    "        )\n",
    "    )\n",
    "    \n",
    "    (\n",
    "        pd.DataFrame({key:train_grid_results[key][:,1] for key in train_grid_results})\n",
    "        .assign(candidate_id=label_matricies['train'].candidate_id.values)\n",
    "        .to_csv(f\"results/GiG/marginals/{num_lf}_sampled_train.tsv.xz\", compression=\"xz\", sep=\"\\t\", index=False)\n",
    "    )\n",
    "    (\n",
    "        pd.DataFrame({key:dev_grid_results[key][:,1] for key in dev_grid_results})\n",
    "        .to_csv(f\"results/GiG/marginals/{num_lf}_sampled_dev.tsv\", sep=\"\\t\", index=False)\n",
    "    )\n",
    "    (\n",
    "        pd.DataFrame({key:test_grid_results[key][:,1] for key in test_grid_results})\n",
    "        .to_csv(f\"results/GiG/marginals/{num_lf}_sampled_test.tsv\", sep=\"\\t\", index=False)\n",
    "    )\n",
    "    \n",
    "    (\n",
    "        pd.DataFrame({key:models[key].get_weights() for key in models})\n",
    "        .to_csv(f\"results/GiG/weights/{num_lf}_sampled_weights.tsv\", sep=\"\\t\", index=False)\n",
    "    )\n",
    "    \n",
    "    dev_records.append(get_model_performance(candidate_dfs['dev'].curated_cbg, dev_grid_results, num_lf))\n",
    "    test_records.append(get_model_performance(candidate_dfs['test'].curated_cbg, test_grid_results, num_lf))"
   ]
  },
  {
   "cell_type": "code",
   "execution_count": 29,
   "metadata": {
    "ExecuteTime": {
     "end_time": "2019-11-06T04:00:39.184402Z",
     "start_time": "2019-11-06T04:00:39.159771Z"
    }
   },
   "outputs": [
    {
     "data": {
      "text/html": [
       "<div>\n",
       "<style scoped>\n",
       "    .dataframe tbody tr th:only-of-type {\n",
       "        vertical-align: middle;\n",
       "    }\n",
       "\n",
       "    .dataframe tbody tr th {\n",
       "        vertical-align: top;\n",
       "    }\n",
       "\n",
       "    .dataframe thead th {\n",
       "        text-align: right;\n",
       "    }\n",
       "</style>\n",
       "<table border=\"1\" class=\"dataframe\">\n",
       "  <thead>\n",
       "    <tr style=\"text-align: right;\">\n",
       "      <th></th>\n",
       "      <th>aupr</th>\n",
       "      <th>auroc</th>\n",
       "      <th>lf_num</th>\n",
       "      <th>lf_sample</th>\n",
       "    </tr>\n",
       "  </thead>\n",
       "  <tbody>\n",
       "    <tr>\n",
       "      <th>0</th>\n",
       "      <td>0.159903</td>\n",
       "      <td>0.621242</td>\n",
       "      <td>0</td>\n",
       "      <td>0:0,1,2,3,4,5,6,7,8</td>\n",
       "    </tr>\n",
       "    <tr>\n",
       "      <th>1</th>\n",
       "      <td>0.186077</td>\n",
       "      <td>0.653727</td>\n",
       "      <td>1</td>\n",
       "      <td>0:0,1,2,3,4,5,6,7,8,95</td>\n",
       "    </tr>\n",
       "  </tbody>\n",
       "</table>\n",
       "</div>"
      ],
      "text/plain": [
       "       aupr     auroc  lf_num               lf_sample\n",
       "0  0.159903  0.621242       0     0:0,1,2,3,4,5,6,7,8\n",
       "1  0.186077  0.653727       1  0:0,1,2,3,4,5,6,7,8,95"
      ]
     },
     "execution_count": 29,
     "metadata": {},
     "output_type": "execute_result"
    }
   ],
   "source": [
    "dev_full_results_df = pd.concat([dev_baseline_df] + dev_records).reset_index(drop=True)\n",
    "dev_full_results_df.to_csv(\"results/GiG/results/dev_sampled_results.tsv\", index=False, sep=\"\\t\")\n",
    "dev_full_results_df.head(2)"
   ]
  },
  {
   "cell_type": "code",
   "execution_count": 44,
   "metadata": {
    "ExecuteTime": {
     "end_time": "2019-11-11T15:44:40.246713Z",
     "start_time": "2019-11-11T15:44:39.974715Z"
    }
   },
   "outputs": [
    {
     "data": {
      "text/plain": [
       "<matplotlib.axes._subplots.AxesSubplot at 0x7fdfccaef828>"
      ]
     },
     "execution_count": 44,
     "metadata": {},
     "output_type": "execute_result"
    },
    {
     "data": {
      "image/png": "[encoded data removed]",
      "text/plain": [
       "<Figure size 432x288 with 1 Axes>"
      ]
     },
     "metadata": {
      "needs_background": "light"
     },
     "output_type": "display_data"
    }
   ],
   "source": [
    "sns.pointplot(x='lf_num', y='auroc', data=dev_full_results_df)"
   ]
  },
  {
   "cell_type": "code",
   "execution_count": 45,
   "metadata": {
    "ExecuteTime": {
     "end_time": "2019-11-11T15:44:40.529683Z",
     "start_time": "2019-11-11T15:44:40.247999Z"
    },
    "scrolled": true
   },
   "outputs": [
    {
     "data": {
      "text/plain": [
       "<matplotlib.axes._subplots.AxesSubplot at 0x7fdfccd03da0>"
      ]
     },
     "execution_count": 45,
     "metadata": {},
     "output_type": "execute_result"
    },
    {
     "data": {
      "image/png": "[encoded data removed]",
      "text/plain": [
       "<Figure size 432x288 with 1 Axes>"
      ]
     },
     "metadata": {
      "needs_background": "light"
     },
     "output_type": "display_data"
    }
   ],
   "source": [
    "sns.pointplot(x='lf_num', y='aupr', data=dev_full_results_df)"
   ]
  },
  {
   "cell_type": "code",
   "execution_count": 30,
   "metadata": {
    "ExecuteTime": {
     "end_time": "2019-11-06T04:00:39.314929Z",
     "start_time": "2019-11-06T04:00:39.185719Z"
    }
   },
   "outputs": [
    {
     "data": {
      "text/html": [
       "<div>\n",
       "<style scoped>\n",
       "    .dataframe tbody tr th:only-of-type {\n",
       "        vertical-align: middle;\n",
       "    }\n",
       "\n",
       "    .dataframe tbody tr th {\n",
       "        vertical-align: top;\n",
       "    }\n",
       "\n",
       "    .dataframe thead th {\n",
       "        text-align: right;\n",
       "    }\n",
       "</style>\n",
       "<table border=\"1\" class=\"dataframe\">\n",
       "  <thead>\n",
       "    <tr style=\"text-align: right;\">\n",
       "      <th></th>\n",
       "      <th>aupr</th>\n",
       "      <th>auroc</th>\n",
       "      <th>lf_num</th>\n",
       "      <th>lf_sample</th>\n",
       "    </tr>\n",
       "  </thead>\n",
       "  <tbody>\n",
       "    <tr>\n",
       "      <th>0</th>\n",
       "      <td>0.290519</td>\n",
       "      <td>0.781794</td>\n",
       "      <td>0</td>\n",
       "      <td>0:0,1,2,3,4,5,6,7,8</td>\n",
       "    </tr>\n",
       "    <tr>\n",
       "      <th>1</th>\n",
       "      <td>0.438062</td>\n",
       "      <td>0.875404</td>\n",
       "      <td>1</td>\n",
       "      <td>0:0,1,2,3,4,5,6,7,8,95</td>\n",
       "    </tr>\n",
       "  </tbody>\n",
       "</table>\n",
       "</div>"
      ],
      "text/plain": [
       "       aupr     auroc  lf_num               lf_sample\n",
       "0  0.290519  0.781794       0     0:0,1,2,3,4,5,6,7,8\n",
       "1  0.438062  0.875404       1  0:0,1,2,3,4,5,6,7,8,95"
      ]
     },
     "execution_count": 30,
     "metadata": {},
     "output_type": "execute_result"
    }
   ],
   "source": [
    "test_full_results_df = pd.concat([test_baseline_df] + test_records).reset_index(drop=True)\n",
    "test_full_results_df.to_csv(\"results/GiG/results/test_sampled_results.tsv\", index=False, sep=\"\\t\")\n",
    "test_full_results_df.head(2)"
   ]
  },
  {
   "cell_type": "code",
   "execution_count": 42,
   "metadata": {
    "ExecuteTime": {
     "end_time": "2019-11-11T15:44:40.246713Z",
     "start_time": "2019-11-11T15:44:39.974715Z"
    },
    "scrolled": true
   },
   "outputs": [
    {
     "data": {
      "text/plain": [
       "<matplotlib.axes._subplots.AxesSubplot at 0x7fdfcc9d9748>"
      ]
     },
     "execution_count": 42,
     "metadata": {},
     "output_type": "execute_result"
    },
    {
     "data": {
      "image/png": "[encoded data removed]",
      "text/plain": [
       "<Figure size 432x288 with 1 Axes>"
      ]
     },
     "metadata": {
      "needs_background": "light"
     },
     "output_type": "display_data"
    }
   ],
   "source": [
    "sns.pointplot(x='lf_num', y='auroc', data=test_full_results_df)"
   ]
  },
  {
   "cell_type": "code",
   "execution_count": 43,
   "metadata": {
    "ExecuteTime": {
     "end_time": "2019-11-11T15:44:40.529683Z",
     "start_time": "2019-11-11T15:44:40.247999Z"
    },
    "scrolled": true
   },
   "outputs": [
    {
     "data": {
      "text/plain": [
       "<matplotlib.axes._subplots.AxesSubplot at 0x7fdfccac3588>"
      ]
     },
     "execution_count": 43,
     "metadata": {},
     "output_type": "execute_result"
    },
    {
     "data": {
      "image/png": "[encoded data removed]",
      "text/plain": [
       "<Figure size 432x288 with 1 Axes>"
      ]
     },
     "metadata": {
      "needs_background": "light"
     },
     "output_type": "display_data"
    }
   ],
   "source": [
    "sns.pointplot(x='lf_num', y='aupr', data=test_full_results_df)"
   ]
  },
  {
   "cell_type": "markdown",
   "metadata": {
    "ExecuteTime": {
     "end_time": "2019-10-11T18:40:30.516087Z",
     "start_time": "2019-10-11T18:40:30.495488Z"
    }
   },
   "source": [
    "# All Sources Predicts Gene Interacts Gene Sentences"
   ]
  },
  {
   "cell_type": "markdown",
   "metadata": {},
   "source": [
    "Here we are using every hand constructed label function to predict Gene interacts Gene sentences. To estimate the performance boost over the baseline model, we implement a label function sampling appoach. The sampling approach works as follows: \n",
    "1. randomly sample X amount of label functions that are not within the database category\n",
    "2. incorporate the sampled label functions with the database label functions\n",
    "3. train the generative model on the combined resources\n",
    "4. use the generative model to predict the tuning set and test set\n",
    "5. Report performance in terms of AUROC and AUPR\n",
    "6. repeat the above process 50 times for each sample size (1, 33, 65, 97, all).\n",
    "\n",
    "Given that some of these label functions are used to predict the given relation, we expect that adding more label functions might slightly increase performance. This means that auroc when sampling 1 label function should be higher than the auroc of the baseline; however, at 33, 65, 97 the auroc should start to decrease as we are adding more irrelevant label functions towards the baseline model."
   ]
  },
  {
   "cell_type": "code",
   "execution_count": 31,
   "metadata": {
    "ExecuteTime": {
     "end_time": "2019-11-06T04:00:39.381846Z",
     "start_time": "2019-11-06T04:00:39.319039Z"
    }
   },
   "outputs": [],
   "source": [
    "all_start = 9\n",
    "all_end = 109\n",
    "\n",
    "#Spaced out number of sampels including total\n",
    "size_of_samples = [1,33,65,97,all_end-all_start]\n",
    "number_of_samples = 50\n",
    "cbg_lf_range = range(all_start, all_end)"
   ]
  },
  {
   "cell_type": "code",
   "execution_count": 32,
   "metadata": {
    "ExecuteTime": {
     "end_time": "2019-11-06T04:00:39.473671Z",
     "start_time": "2019-11-06T04:00:39.383261Z"
    }
   },
   "outputs": [],
   "source": [
    "sampled_lfs_dict = {\n",
    "    sample_size:(\n",
    "        sample_lfs(\n",
    "            list(cbg_lf_range),\n",
    "            len(list(cbg_lf_range)), \n",
    "            sample_size, \n",
    "            number_of_samples, \n",
    "            random_state=100\n",
    "        )\n",
    "    )\n",
    "    for sample_size in size_of_samples\n",
    "}"
   ]
  },
  {
   "cell_type": "code",
   "execution_count": 33,
   "metadata": {
    "ExecuteTime": {
     "end_time": "2019-11-06T05:14:33.660557Z",
     "start_time": "2019-11-06T04:00:39.475981Z"
    }
   },
   "outputs": [
    {
     "data": {
      "application/vnd.jupyter.widget-view+json": {
       "model_id": "553ef9b06cd445928a234baf297d694c",
       "version_major": 2,
       "version_minor": 0
      },
      "text/plain": [
       "HBox(children=(IntProgress(value=1, bar_style='info', max=1), HTML(value='')))"
      ]
     },
     "metadata": {},
     "output_type": "display_data"
    },
    {
     "name": "stdout",
     "output_type": "stream",
     "text": [
      "\n"
     ]
    },
    {
     "data": {
      "application/vnd.jupyter.widget-view+json": {
       "model_id": "a88bec0cf1ed4f139c1e763c94c0fe46",
       "version_major": 2,
       "version_minor": 0
      },
      "text/plain": [
       "HBox(children=(IntProgress(value=1, bar_style='info', max=1), HTML(value='')))"
      ]
     },
     "metadata": {},
     "output_type": "display_data"
    },
    {
     "name": "stdout",
     "output_type": "stream",
     "text": [
      "\n"
     ]
    },
    {
     "name": "stderr",
     "output_type": "stream",
     "text": [
      "/home/danich1/anaconda2/envs/snorkel_advanced/lib/python3.6/site-packages/snorkel/labeling/model/label_model.py:358: RuntimeWarning: divide by zero encountered in true_divide\n",
      "  return np.clip(accs / self.coverage, 1e-6, 1.0)\n"
     ]
    },
    {
     "data": {
      "application/vnd.jupyter.widget-view+json": {
       "model_id": "fd9fa4dd7fc54d29874f5b8d06f100c4",
       "version_major": 2,
       "version_minor": 0
      },
      "text/plain": [
       "HBox(children=(IntProgress(value=1, bar_style='info', max=1), HTML(value='')))"
      ]
     },
     "metadata": {},
     "output_type": "display_data"
    },
    {
     "name": "stdout",
     "output_type": "stream",
     "text": [
      "\n"
     ]
    },
    {
     "name": "stderr",
     "output_type": "stream",
     "text": [
      "/home/danich1/anaconda2/envs/snorkel_advanced/lib/python3.6/site-packages/snorkel/labeling/model/label_model.py:358: RuntimeWarning: divide by zero encountered in true_divide\n",
      "  return np.clip(accs / self.coverage, 1e-6, 1.0)\n"
     ]
    },
    {
     "data": {
      "application/vnd.jupyter.widget-view+json": {
       "model_id": "f537c97fa8294458ac587b81f678bc62",
       "version_major": 2,
       "version_minor": 0
      },
      "text/plain": [
       "HBox(children=(IntProgress(value=1, bar_style='info', max=1), HTML(value='')))"
      ]
     },
     "metadata": {},
     "output_type": "display_data"
    },
    {
     "name": "stdout",
     "output_type": "stream",
     "text": [
      "\n"
     ]
    },
    {
     "name": "stderr",
     "output_type": "stream",
     "text": [
      "/home/danich1/anaconda2/envs/snorkel_advanced/lib/python3.6/site-packages/snorkel/labeling/model/label_model.py:358: RuntimeWarning: divide by zero encountered in true_divide\n",
      "  return np.clip(accs / self.coverage, 1e-6, 1.0)\n"
     ]
    },
    {
     "data": {
      "application/vnd.jupyter.widget-view+json": {
       "model_id": "38f2c29171a0474081ca3730579217b0",
       "version_major": 2,
       "version_minor": 0
      },
      "text/plain": [
       "HBox(children=(IntProgress(value=1, bar_style='info', max=1), HTML(value='')))"
      ]
     },
     "metadata": {},
     "output_type": "display_data"
    },
    {
     "name": "stdout",
     "output_type": "stream",
     "text": [
      "\n"
     ]
    },
    {
     "name": "stderr",
     "output_type": "stream",
     "text": [
      "/home/danich1/anaconda2/envs/snorkel_advanced/lib/python3.6/site-packages/snorkel/labeling/model/label_model.py:358: RuntimeWarning: divide by zero encountered in true_divide\n",
      "  return np.clip(accs / self.coverage, 1e-6, 1.0)\n"
     ]
    }
   ],
   "source": [
    "dev_records = []\n",
    "test_records = []\n",
    "for num_lf in sampled_lfs_dict:\n",
    "    train_grid_results, dev_grid_results, test_grid_results, models = (\n",
    "        train_model_random_lfs(\n",
    "            [baseline_index + sample for sample in sampled_lfs_dict[num_lf]],\n",
    "            correct_L, correct_L_dev, candidate_dfs['dev'].curated_cbg,\n",
    "            correct_L_test, pd.np.round(pd.np.linspace(0.01, 5, num=5), 2)\n",
    "        )\n",
    "    )\n",
    "    \n",
    "    (\n",
    "        pd.DataFrame({key:train_grid_results[key][:,1] for key in train_grid_results})\n",
    "        .assign(candidate_id=label_matricies['train'].candidate_id.values)\n",
    "        .to_csv(f\"results/all/marginals/{num_lf}_sampled_train.tsv.xz\", compression=\"xz\", index=False, sep=\"\\t\")\n",
    "    )\n",
    "    (\n",
    "        pd.DataFrame({key:dev_grid_results[key][:,1] for key in dev_grid_results})\n",
    "        .to_csv(f\"results/all/marginals/{num_lf}_sampled_dev.tsv\", index=False, sep=\"\\t\")\n",
    "    )\n",
    "    (\n",
    "        pd.DataFrame({key:test_grid_results[key][:,1] for key in test_grid_results})\n",
    "        .to_csv(f\"results/all/marginals/{num_lf}_sampled_test.tsv\", index=False, sep=\"\\t\")\n",
    "    )\n",
    "    \n",
    "    (\n",
    "        pd.DataFrame({key:models[key].get_weights() for key in models})\n",
    "        .to_csv(f\"results/all/weights/{num_lf}_sampled_weights.tsv\", index=False, sep=\"\\t\")\n",
    "    )\n",
    "    \n",
    "    dev_records.append(get_model_performance(candidate_dfs['dev'].curated_cbg, dev_grid_results, num_lf))\n",
    "    test_records.append(get_model_performance(candidate_dfs['test'].curated_cbg, test_grid_results, num_lf))"
   ]
  },
  {
   "cell_type": "code",
   "execution_count": 34,
   "metadata": {
    "ExecuteTime": {
     "end_time": "2019-11-06T05:14:33.687032Z",
     "start_time": "2019-11-06T05:14:33.661779Z"
    }
   },
   "outputs": [
    {
     "data": {
      "text/html": [
       "<div>\n",
       "<style scoped>\n",
       "    .dataframe tbody tr th:only-of-type {\n",
       "        vertical-align: middle;\n",
       "    }\n",
       "\n",
       "    .dataframe tbody tr th {\n",
       "        vertical-align: top;\n",
       "    }\n",
       "\n",
       "    .dataframe thead th {\n",
       "        text-align: right;\n",
       "    }\n",
       "</style>\n",
       "<table border=\"1\" class=\"dataframe\">\n",
       "  <thead>\n",
       "    <tr style=\"text-align: right;\">\n",
       "      <th></th>\n",
       "      <th>aupr</th>\n",
       "      <th>auroc</th>\n",
       "      <th>lf_num</th>\n",
       "      <th>lf_sample</th>\n",
       "    </tr>\n",
       "  </thead>\n",
       "  <tbody>\n",
       "    <tr>\n",
       "      <th>0</th>\n",
       "      <td>0.159903</td>\n",
       "      <td>0.621242</td>\n",
       "      <td>0</td>\n",
       "      <td>0:0,1,2,3,4,5,6,7,8</td>\n",
       "    </tr>\n",
       "    <tr>\n",
       "      <th>1</th>\n",
       "      <td>0.125617</td>\n",
       "      <td>0.600928</td>\n",
       "      <td>1</td>\n",
       "      <td>0:0,1,2,3,4,5,6,7,8,59</td>\n",
       "    </tr>\n",
       "  </tbody>\n",
       "</table>\n",
       "</div>"
      ],
      "text/plain": [
       "       aupr     auroc  lf_num               lf_sample\n",
       "0  0.159903  0.621242       0     0:0,1,2,3,4,5,6,7,8\n",
       "1  0.125617  0.600928       1  0:0,1,2,3,4,5,6,7,8,59"
      ]
     },
     "execution_count": 34,
     "metadata": {},
     "output_type": "execute_result"
    }
   ],
   "source": [
    "dev_full_results_df = pd.concat([dev_baseline_df] + dev_records).reset_index(drop=True)\n",
    "dev_full_results_df.to_csv(\"results/all/results/dev_sampled_results.tsv\", index=False, sep=\"\\t\")\n",
    "dev_full_results_df.head(2)"
   ]
  },
  {
   "cell_type": "code",
   "execution_count": 39,
   "metadata": {
    "ExecuteTime": {
     "end_time": "2019-11-11T15:38:24.785254Z",
     "start_time": "2019-11-11T15:38:24.440712Z"
    }
   },
   "outputs": [
    {
     "data": {
      "text/plain": [
       "<matplotlib.axes._subplots.AxesSubplot at 0x7fdfccc13c18>"
      ]
     },
     "execution_count": 39,
     "metadata": {},
     "output_type": "execute_result"
    },
    {
     "data": {
      "image/png": "[encoded data removed]",
      "text/plain": [
       "<Figure size 432x288 with 1 Axes>"
      ]
     },
     "metadata": {
      "needs_background": "light"
     },
     "output_type": "display_data"
    }
   ],
   "source": [
    "sns.pointplot(x='lf_num', y='auroc', data=dev_full_results_df)"
   ]
  },
  {
   "cell_type": "code",
   "execution_count": 40,
   "metadata": {
    "ExecuteTime": {
     "end_time": "2019-11-11T15:38:25.066296Z",
     "start_time": "2019-11-11T15:38:24.786694Z"
    },
    "scrolled": true
   },
   "outputs": [
    {
     "data": {
      "text/plain": [
       "<matplotlib.axes._subplots.AxesSubplot at 0x7fdfccdd0780>"
      ]
     },
     "execution_count": 40,
     "metadata": {},
     "output_type": "execute_result"
    },
    {
     "data": {
      "image/png": "[encoded data removed]",
      "text/plain": [
       "<Figure size 432x288 with 1 Axes>"
      ]
     },
     "metadata": {
      "needs_background": "light"
     },
     "output_type": "display_data"
    }
   ],
   "source": [
    "sns.pointplot(x='lf_num', y='aupr', data=dev_full_results_df)"
   ]
  },
  {
   "cell_type": "code",
   "execution_count": 35,
   "metadata": {
    "ExecuteTime": {
     "end_time": "2019-11-06T05:14:33.801675Z",
     "start_time": "2019-11-06T05:14:33.688174Z"
    }
   },
   "outputs": [
    {
     "data": {
      "text/html": [
       "<div>\n",
       "<style scoped>\n",
       "    .dataframe tbody tr th:only-of-type {\n",
       "        vertical-align: middle;\n",
       "    }\n",
       "\n",
       "    .dataframe tbody tr th {\n",
       "        vertical-align: top;\n",
       "    }\n",
       "\n",
       "    .dataframe thead th {\n",
       "        text-align: right;\n",
       "    }\n",
       "</style>\n",
       "<table border=\"1\" class=\"dataframe\">\n",
       "  <thead>\n",
       "    <tr style=\"text-align: right;\">\n",
       "      <th></th>\n",
       "      <th>aupr</th>\n",
       "      <th>auroc</th>\n",
       "      <th>lf_num</th>\n",
       "      <th>lf_sample</th>\n",
       "    </tr>\n",
       "  </thead>\n",
       "  <tbody>\n",
       "    <tr>\n",
       "      <th>0</th>\n",
       "      <td>0.290519</td>\n",
       "      <td>0.781794</td>\n",
       "      <td>0</td>\n",
       "      <td>0:0,1,2,3,4,5,6,7,8</td>\n",
       "    </tr>\n",
       "    <tr>\n",
       "      <th>1</th>\n",
       "      <td>0.280704</td>\n",
       "      <td>0.776635</td>\n",
       "      <td>1</td>\n",
       "      <td>0:0,1,2,3,4,5,6,7,8,59</td>\n",
       "    </tr>\n",
       "  </tbody>\n",
       "</table>\n",
       "</div>"
      ],
      "text/plain": [
       "       aupr     auroc  lf_num               lf_sample\n",
       "0  0.290519  0.781794       0     0:0,1,2,3,4,5,6,7,8\n",
       "1  0.280704  0.776635       1  0:0,1,2,3,4,5,6,7,8,59"
      ]
     },
     "execution_count": 35,
     "metadata": {},
     "output_type": "execute_result"
    }
   ],
   "source": [
    "test_full_results_df = pd.concat([test_baseline_df] + test_records).reset_index(drop=True)\n",
    "test_full_results_df.to_csv(\"results/all/results/test_sampled_results.tsv\", index=False, sep=\"\\t\")\n",
    "test_full_results_df.head(2)"
   ]
  },
  {
   "cell_type": "code",
   "execution_count": 37,
   "metadata": {
    "ExecuteTime": {
     "end_time": "2019-11-11T15:38:01.559228Z",
     "start_time": "2019-11-11T15:38:01.264025Z"
    }
   },
   "outputs": [
    {
     "data": {
      "text/plain": [
       "<matplotlib.axes._subplots.AxesSubplot at 0x7fdfcca060b8>"
      ]
     },
     "execution_count": 37,
     "metadata": {},
     "output_type": "execute_result"
    },
    {
     "data": {
      "image/png": "[encoded data removed]",
      "text/plain": [
       "<Figure size 432x288 with 1 Axes>"
      ]
     },
     "metadata": {
      "needs_background": "light"
     },
     "output_type": "display_data"
    }
   ],
   "source": [
    "sns.pointplot(x='lf_num', y='auroc', data=test_full_results_df)"
   ]
  },
  {
   "cell_type": "code",
   "execution_count": 38,
   "metadata": {
    "ExecuteTime": {
     "end_time": "2019-11-11T15:38:02.030445Z",
     "start_time": "2019-11-11T15:38:01.747349Z"
    }
   },
   "outputs": [
    {
     "data": {
      "text/plain": [
       "<matplotlib.axes._subplots.AxesSubplot at 0x7fdfccd73cc0>"
      ]
     },
     "execution_count": 38,
     "metadata": {},
     "output_type": "execute_result"
    },
    {
     "data": {
      "image/png": "[encoded data removed]",
      "text/plain": [
       "<Figure size 432x288 with 1 Axes>"
      ]
     },
     "metadata": {
      "needs_background": "light"
     },
     "output_type": "display_data"
    }
   ],
   "source": [
    "sns.pointplot(x='lf_num', y='aupr', data=test_full_results_df)"
   ]
  }
 ],
 "metadata": {
  "kernelspec": {
   "display_name": "Python [conda env:snorkel_advanced]",
   "language": "python",
   "name": "conda-env-snorkel_advanced-py"
  },
  "language_info": {
   "codemirror_mode": {
    "name": "ipython",
    "version": 3
   },
   "file_extension": ".py",
   "mimetype": "text/x-python",
   "name": "python",
   "nbconvert_exporter": "python",
   "pygments_lexer": "ipython3",
   "version": "3.6.7"
  }
 },
 "nbformat": 4,
 "nbformat_minor": 2
}
