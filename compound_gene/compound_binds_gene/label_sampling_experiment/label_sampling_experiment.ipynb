{
 "cells": [
  {
   "cell_type": "markdown",
   "metadata": {},
   "source": [
    "# Using Labels from Different Relation Types to Predict Compound Binds Gene Sentences"
   ]
  },
  {
   "cell_type": "markdown",
   "metadata": {},
   "source": [
    "This notebook is designed to predict the compound binds gene (CbG) relation. The first step in this process is to label our train, dev, and test sentences (split = 6,7,8). We will label these sentences using all of our handcrafted label functions. The working hypothesis here is there are shared information between different relations, which in turn should aid in predicting the compound binds gene relation. After the labeling process, the next step is to train a generative model that will estimate the likelihood of the positive class ($\\hat{Y}$) given our annotated label matrix. **Note**: This process doesn't involve any sentence context, so the only information used here are categorical output."
   ]
  },
  {
   "cell_type": "markdown",
   "metadata": {},
   "source": [
    "## Set up the environment"
   ]
  },
  {
   "cell_type": "code",
   "execution_count": 1,
   "metadata": {
    "ExecuteTime": {
     "end_time": "2019-06-25T20:36:54.064934Z",
     "start_time": "2019-06-25T20:36:51.684551Z"
    }
   },
   "outputs": [],
   "source": [
    "%load_ext autoreload\n",
    "%autoreload 2\n",
    "%matplotlib inline\n",
    "\n",
    "from collections import defaultdict\n",
    "import os\n",
    "import pickle\n",
    "import sys\n",
    "\n",
    "sys.path.append(os.path.abspath('../../../modules'))\n",
    "\n",
    "# Bayesian Optimization\n",
    "from hyperopt import fmin, hp, tpe, Trials\n",
    "\n",
    "from itertools import chain\n",
    "import matplotlib.pyplot as plt\n",
    "import pandas as pd\n",
    "import seaborn as sns\n",
    "from scipy import sparse\n",
    "from sklearn.metrics import roc_curve, auc, f1_score, precision_recall_curve, accuracy_score\n",
    "from tqdm import tqdm_notebook"
   ]
  },
  {
   "cell_type": "code",
   "execution_count": 2,
   "metadata": {
    "ExecuteTime": {
     "end_time": "2019-06-25T20:36:54.942276Z",
     "start_time": "2019-06-25T20:36:54.066810Z"
    }
   },
   "outputs": [],
   "source": [
    "#Set up the environment\n",
    "username = \"danich1\"\n",
    "password = \"snorkel\"\n",
    "dbname = \"pubmeddb\"\n",
    "\n",
    "#Path subject to change for different os\n",
    "database_str = \"postgresql+psycopg2://{}:{}@/{}?host=/var/run/postgresql\".format(username, password, dbname)\n",
    "os.environ['SNORKELDB'] = database_str\n",
    "\n",
    "from snorkel import SnorkelSession\n",
    "session = SnorkelSession()"
   ]
  },
  {
   "cell_type": "code",
   "execution_count": 3,
   "metadata": {
    "ExecuteTime": {
     "end_time": "2019-06-25T20:39:58.425448Z",
     "start_time": "2019-06-25T20:36:54.944196Z"
    }
   },
   "outputs": [
    {
     "name": "stderr",
     "output_type": "stream",
     "text": [
      "/home/danich1/anaconda2/envs/snorkeling/lib/python3.6/site-packages/IPython/core/interactiveshell.py:2903: DtypeWarning: Columns (3) have mixed types. Specify dtype option on import or set low_memory=False.\n",
      "  if self.run_code(code, result):\n"
     ]
    },
    {
     "ename": "KeyboardInterrupt",
     "evalue": "",
     "output_type": "error",
     "traceback": [
      "\u001b[0;31m---------------------------------------------------------------------------\u001b[0m",
      "\u001b[0;31mKeyboardInterrupt\u001b[0m                         Traceback (most recent call last)",
      "\u001b[0;32m<ipython-input-3-66f79d6e9485>\u001b[0m in \u001b[0;36m<module>\u001b[0;34m()\u001b[0m\n\u001b[1;32m     24\u001b[0m \u001b[0;32mfrom\u001b[0m \u001b[0mcompound_gene_lf\u001b[0m \u001b[0;32mimport\u001b[0m \u001b[0mCG_LFS\u001b[0m\u001b[0;34m\u001b[0m\u001b[0m\n\u001b[1;32m     25\u001b[0m \u001b[0;32mfrom\u001b[0m \u001b[0mdisease_gene_lfs\u001b[0m \u001b[0;32mimport\u001b[0m \u001b[0mDG_LFS\u001b[0m\u001b[0;34m\u001b[0m\u001b[0m\n\u001b[0;32m---> 26\u001b[0;31m \u001b[0;32mfrom\u001b[0m \u001b[0mcompound_disease_lf\u001b[0m \u001b[0;32mimport\u001b[0m \u001b[0mCD_LFS\u001b[0m\u001b[0;34m\u001b[0m\u001b[0m\n\u001b[0m\u001b[1;32m     27\u001b[0m \u001b[0;32mfrom\u001b[0m \u001b[0mgene_gene_lf\u001b[0m \u001b[0;32mimport\u001b[0m \u001b[0mGG_LFS\u001b[0m\u001b[0;34m\u001b[0m\u001b[0m\n",
      "\u001b[0;32m~/Documents/snorkeling/compound_disease/compound_treats_disease/data/label_functions/compound_disease_lf.py\u001b[0m in \u001b[0;36m<module>\u001b[0;34m()\u001b[0m\n\u001b[1;32m    396\u001b[0m \"\"\"\n\u001b[1;32m    397\u001b[0m \u001b[0mpath\u001b[0m \u001b[0;34m=\u001b[0m \u001b[0mpathlib\u001b[0m\u001b[0;34m.\u001b[0m\u001b[0mPath\u001b[0m\u001b[0;34m(\u001b[0m\u001b[0m__file__\u001b[0m\u001b[0;34m)\u001b[0m\u001b[0;34m.\u001b[0m\u001b[0mjoinpath\u001b[0m\u001b[0;34m(\u001b[0m\u001b[0;34m\"../../../../../dependency_cluster/chemical_disease_bicluster_results.tsv.xz\"\u001b[0m\u001b[0;34m)\u001b[0m\u001b[0;34m.\u001b[0m\u001b[0mresolve\u001b[0m\u001b[0;34m(\u001b[0m\u001b[0;34m)\u001b[0m\u001b[0;34m\u001b[0m\u001b[0m\n\u001b[0;32m--> 398\u001b[0;31m \u001b[0mbicluster_dep_df\u001b[0m \u001b[0;34m=\u001b[0m \u001b[0mpd\u001b[0m\u001b[0;34m.\u001b[0m\u001b[0mread_table\u001b[0m\u001b[0;34m(\u001b[0m\u001b[0mpath\u001b[0m\u001b[0;34m)\u001b[0m\u001b[0;34m\u001b[0m\u001b[0m\n\u001b[0m\u001b[1;32m    399\u001b[0m \u001b[0mtreatment_base\u001b[0m \u001b[0;34m=\u001b[0m \u001b[0mset\u001b[0m\u001b[0;34m(\u001b[0m\u001b[0;34m[\u001b[0m\u001b[0mtuple\u001b[0m\u001b[0;34m(\u001b[0m\u001b[0mx\u001b[0m\u001b[0;34m)\u001b[0m \u001b[0;32mfor\u001b[0m \u001b[0mx\u001b[0m \u001b[0;32min\u001b[0m \u001b[0mbicluster_dep_df\u001b[0m\u001b[0;34m.\u001b[0m\u001b[0mquery\u001b[0m\u001b[0;34m(\u001b[0m\u001b[0;34m\"T>0\"\u001b[0m\u001b[0;34m)\u001b[0m\u001b[0;34m[\u001b[0m\u001b[0;34m[\u001b[0m\u001b[0;34m\"pubmed_id\"\u001b[0m\u001b[0;34m,\u001b[0m \u001b[0;34m\"sentence_num\"\u001b[0m\u001b[0;34m]\u001b[0m\u001b[0;34m]\u001b[0m\u001b[0;34m.\u001b[0m\u001b[0mvalues\u001b[0m\u001b[0;34m]\u001b[0m\u001b[0;34m)\u001b[0m\u001b[0;34m\u001b[0m\u001b[0m\n\u001b[1;32m    400\u001b[0m \u001b[0minhibits_base\u001b[0m \u001b[0;34m=\u001b[0m \u001b[0mset\u001b[0m\u001b[0;34m(\u001b[0m\u001b[0;34m[\u001b[0m\u001b[0mtuple\u001b[0m\u001b[0;34m(\u001b[0m\u001b[0mx\u001b[0m\u001b[0;34m)\u001b[0m \u001b[0;32mfor\u001b[0m \u001b[0mx\u001b[0m \u001b[0;32min\u001b[0m \u001b[0mbicluster_dep_df\u001b[0m\u001b[0;34m.\u001b[0m\u001b[0mquery\u001b[0m\u001b[0;34m(\u001b[0m\u001b[0;34m\"C>0\"\u001b[0m\u001b[0;34m)\u001b[0m\u001b[0;34m[\u001b[0m\u001b[0;34m[\u001b[0m\u001b[0;34m\"pubmed_id\"\u001b[0m\u001b[0;34m,\u001b[0m \u001b[0;34m\"sentence_num\"\u001b[0m\u001b[0;34m]\u001b[0m\u001b[0;34m]\u001b[0m\u001b[0;34m.\u001b[0m\u001b[0mvalues\u001b[0m\u001b[0;34m]\u001b[0m\u001b[0;34m)\u001b[0m\u001b[0;34m\u001b[0m\u001b[0m\n",
      "\u001b[0;32m~/anaconda2/envs/snorkeling/lib/python3.6/site-packages/pandas/io/parsers.py\u001b[0m in \u001b[0;36mparser_f\u001b[0;34m(filepath_or_buffer, sep, delimiter, header, names, index_col, usecols, squeeze, prefix, mangle_dupe_cols, dtype, engine, converters, true_values, false_values, skipinitialspace, skiprows, nrows, na_values, keep_default_na, na_filter, verbose, skip_blank_lines, parse_dates, infer_datetime_format, keep_date_col, date_parser, dayfirst, iterator, chunksize, compression, thousands, decimal, lineterminator, quotechar, quoting, escapechar, comment, encoding, dialect, tupleize_cols, error_bad_lines, warn_bad_lines, skipfooter, doublequote, delim_whitespace, low_memory, memory_map, float_precision)\u001b[0m\n\u001b[1;32m    676\u001b[0m                     skip_blank_lines=skip_blank_lines)\n\u001b[1;32m    677\u001b[0m \u001b[0;34m\u001b[0m\u001b[0m\n\u001b[0;32m--> 678\u001b[0;31m         \u001b[0;32mreturn\u001b[0m \u001b[0m_read\u001b[0m\u001b[0;34m(\u001b[0m\u001b[0mfilepath_or_buffer\u001b[0m\u001b[0;34m,\u001b[0m \u001b[0mkwds\u001b[0m\u001b[0;34m)\u001b[0m\u001b[0;34m\u001b[0m\u001b[0m\n\u001b[0m\u001b[1;32m    679\u001b[0m \u001b[0;34m\u001b[0m\u001b[0m\n\u001b[1;32m    680\u001b[0m     \u001b[0mparser_f\u001b[0m\u001b[0;34m.\u001b[0m\u001b[0m__name__\u001b[0m \u001b[0;34m=\u001b[0m \u001b[0mname\u001b[0m\u001b[0;34m\u001b[0m\u001b[0m\n",
      "\u001b[0;32m~/anaconda2/envs/snorkeling/lib/python3.6/site-packages/pandas/io/parsers.py\u001b[0m in \u001b[0;36m_read\u001b[0;34m(filepath_or_buffer, kwds)\u001b[0m\n\u001b[1;32m    444\u001b[0m \u001b[0;34m\u001b[0m\u001b[0m\n\u001b[1;32m    445\u001b[0m     \u001b[0;32mtry\u001b[0m\u001b[0;34m:\u001b[0m\u001b[0;34m\u001b[0m\u001b[0m\n\u001b[0;32m--> 446\u001b[0;31m         \u001b[0mdata\u001b[0m \u001b[0;34m=\u001b[0m \u001b[0mparser\u001b[0m\u001b[0;34m.\u001b[0m\u001b[0mread\u001b[0m\u001b[0;34m(\u001b[0m\u001b[0mnrows\u001b[0m\u001b[0;34m)\u001b[0m\u001b[0;34m\u001b[0m\u001b[0m\n\u001b[0m\u001b[1;32m    447\u001b[0m     \u001b[0;32mfinally\u001b[0m\u001b[0;34m:\u001b[0m\u001b[0;34m\u001b[0m\u001b[0m\n\u001b[1;32m    448\u001b[0m         \u001b[0mparser\u001b[0m\u001b[0;34m.\u001b[0m\u001b[0mclose\u001b[0m\u001b[0;34m(\u001b[0m\u001b[0;34m)\u001b[0m\u001b[0;34m\u001b[0m\u001b[0m\n",
      "\u001b[0;32m~/anaconda2/envs/snorkeling/lib/python3.6/site-packages/pandas/io/parsers.py\u001b[0m in \u001b[0;36mread\u001b[0;34m(self, nrows)\u001b[0m\n\u001b[1;32m   1034\u001b[0m                 \u001b[0;32mraise\u001b[0m \u001b[0mValueError\u001b[0m\u001b[0;34m(\u001b[0m\u001b[0;34m'skipfooter not supported for iteration'\u001b[0m\u001b[0;34m)\u001b[0m\u001b[0;34m\u001b[0m\u001b[0m\n\u001b[1;32m   1035\u001b[0m \u001b[0;34m\u001b[0m\u001b[0m\n\u001b[0;32m-> 1036\u001b[0;31m         \u001b[0mret\u001b[0m \u001b[0;34m=\u001b[0m \u001b[0mself\u001b[0m\u001b[0;34m.\u001b[0m\u001b[0m_engine\u001b[0m\u001b[0;34m.\u001b[0m\u001b[0mread\u001b[0m\u001b[0;34m(\u001b[0m\u001b[0mnrows\u001b[0m\u001b[0;34m)\u001b[0m\u001b[0;34m\u001b[0m\u001b[0m\n\u001b[0m\u001b[1;32m   1037\u001b[0m \u001b[0;34m\u001b[0m\u001b[0m\n\u001b[1;32m   1038\u001b[0m         \u001b[0;31m# May alter columns / col_dict\u001b[0m\u001b[0;34m\u001b[0m\u001b[0;34m\u001b[0m\u001b[0m\n",
      "\u001b[0;32m~/anaconda2/envs/snorkeling/lib/python3.6/site-packages/pandas/io/parsers.py\u001b[0m in \u001b[0;36mread\u001b[0;34m(self, nrows)\u001b[0m\n\u001b[1;32m   1846\u001b[0m     \u001b[0;32mdef\u001b[0m \u001b[0mread\u001b[0m\u001b[0;34m(\u001b[0m\u001b[0mself\u001b[0m\u001b[0;34m,\u001b[0m \u001b[0mnrows\u001b[0m\u001b[0;34m=\u001b[0m\u001b[0;32mNone\u001b[0m\u001b[0;34m)\u001b[0m\u001b[0;34m:\u001b[0m\u001b[0;34m\u001b[0m\u001b[0m\n\u001b[1;32m   1847\u001b[0m         \u001b[0;32mtry\u001b[0m\u001b[0;34m:\u001b[0m\u001b[0;34m\u001b[0m\u001b[0m\n\u001b[0;32m-> 1848\u001b[0;31m             \u001b[0mdata\u001b[0m \u001b[0;34m=\u001b[0m \u001b[0mself\u001b[0m\u001b[0;34m.\u001b[0m\u001b[0m_reader\u001b[0m\u001b[0;34m.\u001b[0m\u001b[0mread\u001b[0m\u001b[0;34m(\u001b[0m\u001b[0mnrows\u001b[0m\u001b[0;34m)\u001b[0m\u001b[0;34m\u001b[0m\u001b[0m\n\u001b[0m\u001b[1;32m   1849\u001b[0m         \u001b[0;32mexcept\u001b[0m \u001b[0mStopIteration\u001b[0m\u001b[0;34m:\u001b[0m\u001b[0;34m\u001b[0m\u001b[0m\n\u001b[1;32m   1850\u001b[0m             \u001b[0;32mif\u001b[0m \u001b[0mself\u001b[0m\u001b[0;34m.\u001b[0m\u001b[0m_first_chunk\u001b[0m\u001b[0;34m:\u001b[0m\u001b[0;34m\u001b[0m\u001b[0m\n",
      "\u001b[0;32mpandas/_libs/parsers.pyx\u001b[0m in \u001b[0;36mpandas._libs.parsers.TextReader.read\u001b[0;34m()\u001b[0m\n",
      "\u001b[0;32mpandas/_libs/parsers.pyx\u001b[0m in \u001b[0;36mpandas._libs.parsers.TextReader._read_low_memory\u001b[0;34m()\u001b[0m\n",
      "\u001b[0;32mpandas/_libs/parsers.pyx\u001b[0m in \u001b[0;36mpandas._libs.parsers.TextReader._read_rows\u001b[0;34m()\u001b[0m\n",
      "\u001b[0;32mpandas/_libs/parsers.pyx\u001b[0m in \u001b[0;36mpandas._libs.parsers.TextReader._tokenize_rows\u001b[0;34m()\u001b[0m\n",
      "\u001b[0;32mpandas/_libs/parsers.pyx\u001b[0m in \u001b[0;36mpandas._libs.parsers.raise_parser_error\u001b[0;34m()\u001b[0m\n",
      "\u001b[0;32m~/anaconda2/envs/snorkeling/lib/python3.6/_compression.py\u001b[0m in \u001b[0;36mreadinto\u001b[0;34m(self, b)\u001b[0m\n\u001b[1;32m     66\u001b[0m     \u001b[0;32mdef\u001b[0m \u001b[0mreadinto\u001b[0m\u001b[0;34m(\u001b[0m\u001b[0mself\u001b[0m\u001b[0;34m,\u001b[0m \u001b[0mb\u001b[0m\u001b[0;34m)\u001b[0m\u001b[0;34m:\u001b[0m\u001b[0;34m\u001b[0m\u001b[0m\n\u001b[1;32m     67\u001b[0m         \u001b[0;32mwith\u001b[0m \u001b[0mmemoryview\u001b[0m\u001b[0;34m(\u001b[0m\u001b[0mb\u001b[0m\u001b[0;34m)\u001b[0m \u001b[0;32mas\u001b[0m \u001b[0mview\u001b[0m\u001b[0;34m,\u001b[0m \u001b[0mview\u001b[0m\u001b[0;34m.\u001b[0m\u001b[0mcast\u001b[0m\u001b[0;34m(\u001b[0m\u001b[0;34m\"B\"\u001b[0m\u001b[0;34m)\u001b[0m \u001b[0;32mas\u001b[0m \u001b[0mbyte_view\u001b[0m\u001b[0;34m:\u001b[0m\u001b[0;34m\u001b[0m\u001b[0m\n\u001b[0;32m---> 68\u001b[0;31m             \u001b[0mdata\u001b[0m \u001b[0;34m=\u001b[0m \u001b[0mself\u001b[0m\u001b[0;34m.\u001b[0m\u001b[0mread\u001b[0m\u001b[0;34m(\u001b[0m\u001b[0mlen\u001b[0m\u001b[0;34m(\u001b[0m\u001b[0mbyte_view\u001b[0m\u001b[0;34m)\u001b[0m\u001b[0;34m)\u001b[0m\u001b[0;34m\u001b[0m\u001b[0m\n\u001b[0m\u001b[1;32m     69\u001b[0m             \u001b[0mbyte_view\u001b[0m\u001b[0;34m[\u001b[0m\u001b[0;34m:\u001b[0m\u001b[0mlen\u001b[0m\u001b[0;34m(\u001b[0m\u001b[0mdata\u001b[0m\u001b[0;34m)\u001b[0m\u001b[0;34m]\u001b[0m \u001b[0;34m=\u001b[0m \u001b[0mdata\u001b[0m\u001b[0;34m\u001b[0m\u001b[0m\n\u001b[1;32m     70\u001b[0m         \u001b[0;32mreturn\u001b[0m \u001b[0mlen\u001b[0m\u001b[0;34m(\u001b[0m\u001b[0mdata\u001b[0m\u001b[0;34m)\u001b[0m\u001b[0;34m\u001b[0m\u001b[0m\n",
      "\u001b[0;32m~/anaconda2/envs/snorkeling/lib/python3.6/_compression.py\u001b[0m in \u001b[0;36mread\u001b[0;34m(self, size)\u001b[0m\n\u001b[1;32m    101\u001b[0m                 \u001b[0;32melse\u001b[0m\u001b[0;34m:\u001b[0m\u001b[0;34m\u001b[0m\u001b[0m\n\u001b[1;32m    102\u001b[0m                     \u001b[0mrawblock\u001b[0m \u001b[0;34m=\u001b[0m \u001b[0;34mb\"\"\u001b[0m\u001b[0;34m\u001b[0m\u001b[0m\n\u001b[0;32m--> 103\u001b[0;31m                 \u001b[0mdata\u001b[0m \u001b[0;34m=\u001b[0m \u001b[0mself\u001b[0m\u001b[0;34m.\u001b[0m\u001b[0m_decompressor\u001b[0m\u001b[0;34m.\u001b[0m\u001b[0mdecompress\u001b[0m\u001b[0;34m(\u001b[0m\u001b[0mrawblock\u001b[0m\u001b[0;34m,\u001b[0m \u001b[0msize\u001b[0m\u001b[0;34m)\u001b[0m\u001b[0;34m\u001b[0m\u001b[0m\n\u001b[0m\u001b[1;32m    104\u001b[0m             \u001b[0;32mif\u001b[0m \u001b[0mdata\u001b[0m\u001b[0;34m:\u001b[0m\u001b[0;34m\u001b[0m\u001b[0m\n\u001b[1;32m    105\u001b[0m                 \u001b[0;32mbreak\u001b[0m\u001b[0;34m\u001b[0m\u001b[0m\n",
      "\u001b[0;31mKeyboardInterrupt\u001b[0m: "
     ]
    }
   ],
   "source": [
    "from snorkel.learning.pytorch.rnn.rnn_base import mark_sentence\n",
    "from snorkel.learning.pytorch.rnn.utils import candidate_to_tokens\n",
    "from snorkel.models import Candidate, candidate_subclass\n",
    "\n",
    "from metal.analysis import lf_summary\n",
    "from metal.label_model import LabelModel\n",
    "from metal.utils import plusminus_to_categorical\n",
    "\n",
    "from gensim.models import FastText\n",
    "from gensim.models import KeyedVectors\n",
    "\n",
    "from utils.notebook_utils.label_matrix_helper import label_candidates, get_auc_significant_stats\n",
    "from utils.notebook_utils.dataframe_helper import load_candidate_dataframes, generate_results_df\n",
    "from utils.notebook_utils.plot_helper import plot_curve, plot_label_matrix_heatmap\n",
    "from utils.notebook_utils.train_model_helper import (\n",
    "    train_baseline_model,\n",
    "    run_random_additional_lfs\n",
    ")\n",
    "\n",
    "sys.path.append(os.path.abspath('../data/label_functions'))\n",
    "sys.path.append(os.path.abspath('../../../disease_gene/disease_associates_gene/data/label_functions'))\n",
    "sys.path.append(os.path.abspath('../../../compound_disease/compound_treats_disease/data/label_functions'))\n",
    "sys.path.append(os.path.abspath('../../../gene_gene/gene_interacts_gene/data/label_functions'))\n",
    "from compound_gene_lf import CG_LFS\n",
    "from disease_gene_lfs import DG_LFS\n",
    "from compound_disease_lf import CD_LFS\n",
    "from gene_gene_lf import GG_LFS"
   ]
  },
  {
   "cell_type": "code",
   "execution_count": null,
   "metadata": {
    "ExecuteTime": {
     "end_time": "2019-06-25T20:39:58.426233Z",
     "start_time": "2019-06-25T20:36:51.699Z"
    }
   },
   "outputs": [],
   "source": [
    "CompoundGene = candidate_subclass('CompoundGene', ['Compound', 'Gene'])"
   ]
  },
  {
   "cell_type": "code",
   "execution_count": null,
   "metadata": {
    "ExecuteTime": {
     "end_time": "2019-06-25T20:39:58.427174Z",
     "start_time": "2019-06-25T20:36:51.704Z"
    }
   },
   "outputs": [],
   "source": [
    "quick_load = True"
   ]
  },
  {
   "cell_type": "markdown",
   "metadata": {},
   "source": [
    "## Load the Data and Label the  Sentences"
   ]
  },
  {
   "cell_type": "markdown",
   "metadata": {},
   "source": [
    "This block of code is designed to label the sentences using our label functions. All the sentences are located in our postgres database that is store locally on the lab machine. The labeling process is defined as follows: Given a candidate id, we use the sqlalchemy library to extract a candidate object. Using this object and we pass it through a series of label functions that will output a 1 (positive), -1 (negative) or 0 (abstain) depending on the rule set. Lastly we aggregate the output of these functions into a sparse matrix that the generative model will use. Since these steps are pretty linear, we parallelized this process using python's multithreading library. Despite the optimization, this process can still take about 3 hours to label a set of ~300000 sentences."
   ]
  },
  {
   "cell_type": "code",
   "execution_count": null,
   "metadata": {
    "ExecuteTime": {
     "end_time": "2019-06-25T20:39:58.427782Z",
     "start_time": "2019-06-25T20:36:51.715Z"
    },
    "scrolled": true
   },
   "outputs": [],
   "source": [
    "total_candidates_df = pd.read_table(\"../dataset_statistics/data/all_cbg_candidates.tsv.xz\")\n",
    "total_candidates_df.head(2)"
   ]
  },
  {
   "cell_type": "code",
   "execution_count": null,
   "metadata": {
    "ExecuteTime": {
     "end_time": "2019-06-25T20:39:58.428409Z",
     "start_time": "2019-06-25T20:36:51.716Z"
    }
   },
   "outputs": [],
   "source": [
    "spreadsheet_names = {\n",
    "    #'train': 'data/sentences/sentence_labels_train.xlsx',\n",
    "    'dev': '../data/sentences/sentence_labels_dev.xlsx',\n",
    "    'test': '../data/sentences/sentence_labels_test.xlsx'\n",
    "}"
   ]
  },
  {
   "cell_type": "code",
   "execution_count": null,
   "metadata": {
    "ExecuteTime": {
     "end_time": "2019-06-25T20:39:58.429067Z",
     "start_time": "2019-06-25T20:36:51.720Z"
    }
   },
   "outputs": [],
   "source": [
    "candidate_dfs = {\n",
    "    key:load_candidate_dataframes(spreadsheet_names[key], \"curated_cbg\")\n",
    "    for key in spreadsheet_names\n",
    "}\n",
    "\n",
    "for key in candidate_dfs:\n",
    "    print(\"Size of {} set: {}\".format(key, candidate_dfs[key].shape[0]))"
   ]
  },
  {
   "cell_type": "code",
   "execution_count": null,
   "metadata": {
    "ExecuteTime": {
     "end_time": "2019-06-25T20:39:58.429917Z",
     "start_time": "2019-06-25T20:36:51.723Z"
    }
   },
   "outputs": [],
   "source": [
    "# Write out selected candidates to tsv file\n",
    "(\n",
    "    total_candidates_df\n",
    "    .query(\"split==6\")\n",
    "    [[\"candidate_id\"]]\n",
    "    .sample(680000, random_state=100)\n",
    "    .assign(type=\"train\")\n",
    "    .append(\n",
    "        candidate_dfs[\"dev\"]\n",
    "        .assign(type=\"dev\")\n",
    "        [[\"candidate_id\", \"type\"]]\n",
    "        .append(\n",
    "            candidate_dfs[\"test\"]\n",
    "            .assign(type=\"test\")\n",
    "            [[\"candidate_id\", \"type\"]]\n",
    "        )\n",
    "    )\n",
    "    .to_csv(\n",
    "        \"results/compound_binds_gene_selected_candidates.tsv\",\n",
    "        index=False, sep=\"\\t\"\n",
    "    )\n",
    ")"
   ]
  },
  {
   "cell_type": "code",
   "execution_count": null,
   "metadata": {
    "ExecuteTime": {
     "end_time": "2019-06-25T20:39:58.430518Z",
     "start_time": "2019-06-25T20:36:51.726Z"
    }
   },
   "outputs": [],
   "source": [
    "lfs = (\n",
    "    list(CG_LFS[\"CbG\"].values()) + \n",
    "    list(DG_LFS[\"DaG\"].values())[7:37] + \n",
    "    list(CD_LFS[\"CtD\"].values())[3:25] + \n",
    "    list(GG_LFS[\"GiG\"].values())[9:37]\n",
    ")\n",
    "lf_names = (\n",
    "    list(CG_LFS[\"CbG\"].keys()) + \n",
    "    list(DG_LFS[\"DaG\"].keys())[7:37] + \n",
    "    list(CD_LFS[\"CtD\"].keys())[3:25] + \n",
    "    list(GG_LFS[\"GiG\"].keys())[9:37]\n",
    ")"
   ]
  },
  {
   "cell_type": "code",
   "execution_count": null,
   "metadata": {
    "ExecuteTime": {
     "end_time": "2019-06-25T20:39:58.431090Z",
     "start_time": "2019-06-25T20:36:51.729Z"
    }
   },
   "outputs": [],
   "source": [
    "if not quick_load:\n",
    "    label_matricies = {\n",
    "        'train':label_candidates(\n",
    "            session, \n",
    "            (\n",
    "                total_candidates_df\n",
    "                .query(\"split==6&compound_mention_count==1&gene_mention_count==1\")\n",
    "                .candidate_id\n",
    "                .values\n",
    "                .tolist()\n",
    "            ),\n",
    "            lfs, \n",
    "            lf_names,\n",
    "            num_threads=10,\n",
    "            batch_size=50000,\n",
    "            multitask=False\n",
    "        )\n",
    "    }"
   ]
  },
  {
   "cell_type": "code",
   "execution_count": null,
   "metadata": {
    "ExecuteTime": {
     "end_time": "2019-06-25T20:39:58.432093Z",
     "start_time": "2019-06-25T20:36:51.750Z"
    }
   },
   "outputs": [],
   "source": [
    "if not quick_load:\n",
    "    label_matricies.update({\n",
    "        key:label_candidates(\n",
    "            session, \n",
    "            candidate_dfs[key]['candidate_id'].values.tolist(),\n",
    "            lfs, \n",
    "            lf_names,\n",
    "            num_threads=10,\n",
    "            batch_size=50000,\n",
    "            multitask=False\n",
    "        )\n",
    "        for key in candidate_dfs\n",
    "    })"
   ]
  },
  {
   "cell_type": "code",
   "execution_count": null,
   "metadata": {
    "ExecuteTime": {
     "end_time": "2019-06-25T20:39:58.432831Z",
     "start_time": "2019-06-25T20:36:51.753Z"
    }
   },
   "outputs": [],
   "source": [
    "# Save the label matricies to a file for future loading/error analysis\n",
    "if not quick_load:\n",
    "    (\n",
    "        label_matricies['train']\n",
    "        .sort_values(\"candidate_id\")\n",
    "        .to_csv(\"../data/label_matricies/train_sparse_matrix.tsv.xz\", sep=\"\\t\", index=False)\n",
    "    )\n",
    "    (\n",
    "        label_matricies['dev']\n",
    "        .sort_values(\"candidate_id\")\n",
    "        .to_csv(\"../data/label_matricies/dev_sparse_matrix.tsv.xz\", sep=\"\\t\", index=False)\n",
    "    )\n",
    "    (\n",
    "        label_matricies['test']\n",
    "        .sort_values(\"candidate_id\")\n",
    "        .to_csv(\"../data/label_matricies/test_sparse_matrix.tsv.xz\", sep=\"\\t\", index=False)\n",
    "    )\n",
    "# Quick load the label matricies\n",
    "else:\n",
    "    label_destinations = {\n",
    "        'train':\"../data/label_matricies/train_sparse_matrix.tsv.xz\",\n",
    "        'dev':\"../data/label_matricies/dev_sparse_matrix.tsv.xz\",\n",
    "        'test':\"../data/label_matricies/test_sparse_matrix.tsv.xz\"\n",
    "    }\n",
    "    label_matricies = {\n",
    "        key:pd.read_table(label_destinations[key]).to_sparse()\n",
    "        for key in label_destinations\n",
    "    }"
   ]
  },
  {
   "cell_type": "code",
   "execution_count": null,
   "metadata": {
    "ExecuteTime": {
     "end_time": "2019-06-25T20:39:58.433388Z",
     "start_time": "2019-06-25T20:36:51.756Z"
    },
    "scrolled": true
   },
   "outputs": [],
   "source": [
    "# Important Note Snorkel Metal uses a different coding scheme\n",
    "# than the label functions output. (2 for negative instead of -1).\n",
    "# This step corrects this problem by converting -1s to 2\n",
    "\n",
    "correct_L = plusminus_to_categorical(\n",
    "    label_matricies['train']\n",
    "    .sort_values(\"candidate_id\")\n",
    "    .drop(\"candidate_id\", axis=1)\n",
    "    .to_coo()\n",
    "    .toarray()\n",
    "    .astype(int)\n",
    ")\n",
    "\n",
    "correct_L_dev = plusminus_to_categorical(\n",
    "    label_matricies['dev']\n",
    "    .sort_values(\"candidate_id\")\n",
    "    .drop(\"candidate_id\", axis=1)\n",
    "    .to_coo()\n",
    "    .toarray()\n",
    "    .astype(int)\n",
    ")\n",
    "\n",
    "correct_L_test = plusminus_to_categorical(\n",
    "    label_matricies['test']\n",
    "    .sort_values(\"candidate_id\")\n",
    "    .drop(\"candidate_id\", axis=1)\n",
    "    .to_coo()\n",
    "    .toarray()\n",
    "    .astype(int)\n",
    ")"
   ]
  },
  {
   "cell_type": "code",
   "execution_count": null,
   "metadata": {
    "ExecuteTime": {
     "end_time": "2019-06-25T20:39:58.433941Z",
     "start_time": "2019-06-25T20:36:51.764Z"
    }
   },
   "outputs": [],
   "source": [
    "lf_summary(\n",
    "    sparse.coo_matrix(\n",
    "        correct_L\n",
    "    )\n",
    "    .tocsr(), \n",
    "    lf_names=lf_names\n",
    ")"
   ]
  },
  {
   "cell_type": "code",
   "execution_count": null,
   "metadata": {
    "ExecuteTime": {
     "end_time": "2019-06-25T20:39:58.434582Z",
     "start_time": "2019-06-25T20:36:51.771Z"
    },
    "scrolled": false
   },
   "outputs": [],
   "source": [
    "lf_summary(\n",
    "    sparse.coo_matrix(\n",
    "        correct_L_dev\n",
    "    )\n",
    "    .tocsr(), \n",
    "    lf_names=lf_names, \n",
    "    Y=candidate_dfs['dev'].curated_cbg.apply(lambda x: 1 if x> 0 else 2)\n",
    ")"
   ]
  },
  {
   "cell_type": "markdown",
   "metadata": {},
   "source": [
    "# Train Baseline Model"
   ]
  },
  {
   "cell_type": "markdown",
   "metadata": {},
   "source": [
    "This block trains the baseline model (Distant Supervision of CbG Databases) that will be used as a reference to compare against."
   ]
  },
  {
   "cell_type": "code",
   "execution_count": null,
   "metadata": {
    "ExecuteTime": {
     "end_time": "2019-06-25T20:39:58.435129Z",
     "start_time": "2019-06-25T20:36:51.779Z"
    }
   },
   "outputs": [],
   "source": [
    "ds_start = 0\n",
    "ds_end = 9\n",
    "regularization_grid = pd.np.round(pd.np.linspace(0.01, 5, num=5), 2)"
   ]
  },
  {
   "cell_type": "code",
   "execution_count": null,
   "metadata": {
    "ExecuteTime": {
     "end_time": "2019-06-25T20:39:58.435689Z",
     "start_time": "2019-06-25T20:36:51.783Z"
    }
   },
   "outputs": [],
   "source": [
    "dev_ds_grid, test_ds_grid = train_baseline_model(\n",
    "    correct_L, correct_L_dev, correct_L_test,\n",
    "    list(range(ds_start, ds_end)), regularization_grid,\n",
    "    train_marginal_dir=\"data/random_sampling/CbG/marginals/\"\n",
    ")\n",
    "\n",
    "dev_baseline_marginals = list(dev_ds_grid.values())[0][:,0]\n",
    "test_baseline_marginals = list(test_ds_grid.values())[0][:,0]\n",
    "\n",
    "dev_ds_grid = (\n",
    "    generate_results_df(\n",
    "        dev_ds_grid, \n",
    "        candidate_dfs['dev'].curated_cbg.values\n",
    "    )\n",
    "    .reset_index()\n",
    "    .rename(index=str, columns={0:\"AUPRC\", 1:\"AUROC\", \"index\":\"l2_param\"})\n",
    ")\n",
    "\n",
    "test_ds_grid = (\n",
    "    generate_results_df(\n",
    "        test_ds_grid, \n",
    "        candidate_dfs['test'].curated_cbg.values\n",
    "    )\n",
    "    .reset_index()\n",
    "    .rename(index=str, columns={0:\"AUPRC\", 1:\"AUROC\", \"index\":\"l2_param\"})\n",
    ")"
   ]
  },
  {
   "cell_type": "code",
   "execution_count": null,
   "metadata": {
    "ExecuteTime": {
     "end_time": "2019-06-25T20:39:58.436284Z",
     "start_time": "2019-06-25T20:36:51.786Z"
    }
   },
   "outputs": [],
   "source": [
    "best_param = dev_ds_grid.query(\"AUROC==AUROC.max()\").l2_param.values[0]\n",
    "dev_baseline=dev_ds_grid.query(\"l2_param==@best_param\").to_dict('records')\n",
    "dev_baseline[0].update({\"num_lfs\": 0})"
   ]
  },
  {
   "cell_type": "code",
   "execution_count": null,
   "metadata": {
    "ExecuteTime": {
     "end_time": "2019-06-25T20:39:58.436865Z",
     "start_time": "2019-06-25T20:36:51.788Z"
    }
   },
   "outputs": [],
   "source": [
    "test_baseline=test_ds_grid.query(\"l2_param==@best_param\").to_dict('records')\n",
    "test_baseline[0].update({\"num_lfs\": 0})"
   ]
  },
  {
   "cell_type": "code",
   "execution_count": null,
   "metadata": {
    "ExecuteTime": {
     "end_time": "2019-06-25T20:39:58.437397Z",
     "start_time": "2019-06-25T20:36:51.791Z"
    }
   },
   "outputs": [],
   "source": [
    "dev_baseline_marginals = list(zip(dev_baseline_marginals, candidate_dfs['dev'].curated_cbg.values))\n",
    "test_baseline_marginals = list(zip(test_baseline_marginals, candidate_dfs['test'].curated_cbg.values))"
   ]
  },
  {
   "cell_type": "code",
   "execution_count": null,
   "metadata": {
    "ExecuteTime": {
     "end_time": "2019-06-25T20:39:58.437934Z",
     "start_time": "2019-06-25T20:36:51.792Z"
    }
   },
   "outputs": [],
   "source": [
    "count_fraction_correct = lambda x: 1 if (x.marginals > 0.5 and x.label==1) or (x.marginals < 0.5 and x.label==0) else 0"
   ]
  },
  {
   "cell_type": "markdown",
   "metadata": {},
   "source": [
    "# Compound Binds Gene LFS Only"
   ]
  },
  {
   "cell_type": "markdown",
   "metadata": {},
   "source": [
    "This block is designed to determine how many label functions are needed to achieve decent results."
   ]
  },
  {
   "cell_type": "code",
   "execution_count": null,
   "metadata": {
    "ExecuteTime": {
     "end_time": "2019-06-25T20:39:58.438459Z",
     "start_time": "2019-06-25T20:36:51.799Z"
    }
   },
   "outputs": [],
   "source": [
    "num_of_samples = 50\n",
    "regularization_grid = pd.np.round(pd.np.linspace(0.01, 5, num=5), 2)"
   ]
  },
  {
   "cell_type": "code",
   "execution_count": null,
   "metadata": {
    "ExecuteTime": {
     "end_time": "2019-06-25T20:39:58.438992Z",
     "start_time": "2019-06-25T20:36:51.804Z"
    },
    "scrolled": false
   },
   "outputs": [],
   "source": [
    "dev_cbg_df = pd.DataFrame(dev_baseline)\n",
    "test_cbg_df = pd.DataFrame(test_baseline)\n",
    "dev_cbg_marginals_df = pd.DataFrame(dev_baseline_marginals, columns=[\"marginals\", \"label\"]).assign(num_lfs=0)\n",
    "test_cbg_marginals_df = pd.DataFrame(test_baseline_marginals, columns=[\"marginals\", \"label\"]).assign(num_lfs=0)\n",
    "\n",
    "cbg_start = ds_end\n",
    "cbg_end = 29\n",
    "\n",
    "range_of_sample_sizes = (\n",
    "    list(range(1, correct_L[:,cbg_start:cbg_end].shape[1], 5)) +\n",
    "    [correct_L[:,cbg_start:cbg_end].shape[1]]\n",
    ")\n",
    "\n",
    "lf_sample_keeper, dev_results_df, test_results_df, dev_marginals_df, test_marginals_df = run_random_additional_lfs(\n",
    "    range_of_sample_sizes=range_of_sample_sizes, \n",
    "    range_of_lf_indicies = list(range(cbg_start, cbg_end+1)),\n",
    "    size_of_sample_pool=cbg_end-cbg_start,\n",
    "    num_of_samples=num_of_samples,\n",
    "    train=correct_L, \n",
    "    dev=correct_L_dev,\n",
    "    dev_labels=candidate_dfs['dev'].curated_cbg.values,\n",
    "    test=correct_L_test,\n",
    "    test_labels=candidate_dfs['test'].curated_cbg.values,\n",
    "    grid=regularization_grid,\n",
    "    label_matricies=label_matricies['train'],\n",
    "    train_marginal_dir='data/random_sampling/CbG/marginals/',\n",
    "    ds_start=ds_start,\n",
    "    ds_end=ds_end,\n",
    ")\n",
    "\n",
    "dev_cbg_df = dev_cbg_df.append(dev_results_df, sort=True)\n",
    "test_cbg_df = test_cbg_df.append(test_results_df, sort=True)\n",
    "dev_cbg_marginals_df = dev_cbg_marginals_df.append(dev_marginals_df, sort=True)\n",
    "test_cbg_marginals_df = test_cbg_marginals_df.append(test_marginals_df, sort=True)"
   ]
  },
  {
   "cell_type": "code",
   "execution_count": null,
   "metadata": {
    "ExecuteTime": {
     "end_time": "2019-06-25T20:39:58.439525Z",
     "start_time": "2019-06-25T20:36:51.805Z"
    }
   },
   "outputs": [],
   "source": [
    "dev_cbg_marginals_df = (\n",
    "     dev_cbg_marginals_df\n",
    "     .assign(\n",
    "        frac_correct=(\n",
    "            dev_cbg_marginals_df\n",
    "            .apply(count_fraction_correct,axis=1)\n",
    "            .values\n",
    "        )\n",
    "    )\n",
    "    .groupby([\"label\", \"num_lfs\"])[\"frac_correct\"]\n",
    "    .agg(pd.np.mean)\n",
    "    .reset_index(level=[\"label\", \"num_lfs\"])\n",
    ")"
   ]
  },
  {
   "cell_type": "code",
   "execution_count": null,
   "metadata": {
    "ExecuteTime": {
     "end_time": "2019-06-25T20:39:58.440068Z",
     "start_time": "2019-06-25T20:36:51.807Z"
    }
   },
   "outputs": [],
   "source": [
    "test_cbg_marginals_df = (\n",
    "    test_cbg_marginals_df\n",
    "    .assign(\n",
    "        frac_correct=(\n",
    "            test_cbg_marginals_df\n",
    "            .apply(count_fraction_correct, axis=1)\n",
    "            .values\n",
    "        )\n",
    "    )\n",
    "    .groupby([\"label\", \"num_lfs\"])[\"frac_correct\"]\n",
    "    .agg(pd.np.mean)\n",
    "    .reset_index(level=[\"label\", \"num_lfs\"])\n",
    ")"
   ]
  },
  {
   "cell_type": "markdown",
   "metadata": {},
   "source": [
    "## Dev Set Performance (AUPRC, AUROC)"
   ]
  },
  {
   "cell_type": "code",
   "execution_count": null,
   "metadata": {
    "ExecuteTime": {
     "end_time": "2019-06-25T20:39:58.440616Z",
     "start_time": "2019-06-25T20:36:51.811Z"
    }
   },
   "outputs": [],
   "source": [
    "fig, axs = plt.subplots(ncols=2, figsize=(10, 5))\n",
    "sns.pointplot(x=\"num_lfs\", y=\"AUPRC\", data=dev_cbg_df, ax=axs[0])\n",
    "sns.pointplot(x=\"num_lfs\", y=\"AUROC\", data=dev_cbg_df, ax=axs[1])"
   ]
  },
  {
   "cell_type": "code",
   "execution_count": null,
   "metadata": {
    "ExecuteTime": {
     "end_time": "2019-06-25T20:39:58.441159Z",
     "start_time": "2019-06-25T20:36:51.816Z"
    }
   },
   "outputs": [],
   "source": [
    "sns.pointplot(x=\"num_lfs\", y=\"frac_correct\", data=dev_cbg_marginals_df, hue=\"label\")"
   ]
  },
  {
   "cell_type": "markdown",
   "metadata": {},
   "source": [
    "## Test Set Performance (AUPRC, AUROC)"
   ]
  },
  {
   "cell_type": "code",
   "execution_count": null,
   "metadata": {
    "ExecuteTime": {
     "end_time": "2019-06-25T20:39:58.441697Z",
     "start_time": "2019-06-25T20:36:51.821Z"
    }
   },
   "outputs": [],
   "source": [
    "fig, axs = plt.subplots(ncols=2, figsize=(10, 5))\n",
    "sns.pointplot(x=\"num_lfs\", y=\"AUPRC\", data=test_cbg_df, ax=axs[0])\n",
    "sns.pointplot(x=\"num_lfs\", y=\"AUROC\", data=test_cbg_df, ax=axs[1])"
   ]
  },
  {
   "cell_type": "code",
   "execution_count": null,
   "metadata": {
    "ExecuteTime": {
     "end_time": "2019-06-25T20:39:58.442355Z",
     "start_time": "2019-06-25T20:36:51.823Z"
    }
   },
   "outputs": [],
   "source": [
    "sns.pointplot(x=\"num_lfs\", y=\"frac_correct\", data=test_cbg_marginals_df, hue=\"label\")"
   ]
  },
  {
   "cell_type": "code",
   "execution_count": null,
   "metadata": {
    "ExecuteTime": {
     "end_time": "2019-06-25T20:39:58.442868Z",
     "start_time": "2019-06-25T20:36:51.827Z"
    }
   },
   "outputs": [],
   "source": [
    "dev_cbg_df.to_csv(\n",
    "    \"data/random_sampling/CbG/results/dev_sampled_performance.tsv\", \n",
    "    index=False, sep=\"\\t\", float_format=\"%.5g\"\n",
    ")\n",
    "\n",
    "test_cbg_df.to_csv(\n",
    "    \"data/random_sampling/CbG/results/test_sampled_performance.tsv\", \n",
    "    index=False, sep=\"\\t\", float_format=\"%.5g\"\n",
    ")"
   ]
  },
  {
   "cell_type": "code",
   "execution_count": null,
   "metadata": {
    "ExecuteTime": {
     "end_time": "2019-06-25T20:39:58.443378Z",
     "start_time": "2019-06-25T20:36:51.828Z"
    }
   },
   "outputs": [],
   "source": [
    "dev_cbg_marginals_df.to_csv(\n",
    "    \"data/random_sampling/CbG/results/dev_sampled_marginals.tsv\", \n",
    "    index=False, sep=\"\\t\", float_format=\"%.5g\"\n",
    ")\n",
    "\n",
    "test_cbg_marginals_df.to_csv(\n",
    "    \"data/random_sampling/CbG/results/test_sampled_marginals.tsv\", \n",
    "    index=False, sep=\"\\t\", float_format=\"%.5g\"\n",
    ")"
   ]
  },
  {
   "cell_type": "markdown",
   "metadata": {},
   "source": [
    "# Using Disease Associates Gene Label Functions to Predict Compound Binds Gene Relations"
   ]
  },
  {
   "cell_type": "markdown",
   "metadata": {},
   "source": [
    "This section determines how well disease associates gene label functions can predict compound binds gene relations."
   ]
  },
  {
   "cell_type": "code",
   "execution_count": null,
   "metadata": {
    "ExecuteTime": {
     "end_time": "2019-06-25T20:39:58.443886Z",
     "start_time": "2019-06-25T20:36:51.833Z"
    }
   },
   "outputs": [],
   "source": [
    "num_of_samples = 50\n",
    "regularization_grid = pd.np.round(pd.np.linspace(0.01, 5, num=10), 2)"
   ]
  },
  {
   "cell_type": "code",
   "execution_count": null,
   "metadata": {
    "ExecuteTime": {
     "end_time": "2019-06-25T20:39:58.444534Z",
     "start_time": "2019-06-25T20:36:51.836Z"
    }
   },
   "outputs": [],
   "source": [
    "dev_dag_df = pd.DataFrame(dev_baseline)\n",
    "test_dag_df = pd.DataFrame(test_baseline)\n",
    "dev_dag_marginals_df = pd.DataFrame(dev_baseline_marginals, columns=[\"marginals\", \"label\"]).assign(num_lfs=0)\n",
    "test_dag_marginals_df = pd.DataFrame(test_baseline_marginals, columns=[\"marginals\", \"label\"]).assign(num_lfs=0)\n",
    "\n",
    "dag_start = 29\n",
    "dag_end = 59\n",
    "\n",
    "range_of_sample_sizes = (\n",
    "    list(range(1, correct_L[:,dag_start:dag_end].shape[1], 5)) +\n",
    "    [correct_L[:,dag_start:dag_end].shape[1]]\n",
    ")\n",
    "\n",
    "lf_sample_keeper, dev_results_df, test_results_df, dev_marginals_df, test_marginals_df = run_random_additional_lfs(\n",
    "    range_of_sample_sizes=range_of_sample_sizes, \n",
    "    range_of_lf_indicies = list(range(dag_start, dag_end+1)),\n",
    "    size_of_sample_pool=dag_end-dag_start,\n",
    "    num_of_samples=num_of_samples,\n",
    "    train=correct_L, \n",
    "    dev=correct_L_dev,\n",
    "    dev_labels=candidate_dfs['dev'].curated_cbg.values,\n",
    "    test=correct_L_test,\n",
    "    test_labels=candidate_dfs['test'].curated_cbg.values,\n",
    "    grid=regularization_grid,\n",
    "    label_matricies=label_matricies['train'],\n",
    "    train_marginal_dir='data/random_sampling/DaG/marginals/',\n",
    "    ds_start=ds_start,\n",
    "    ds_end=ds_end,\n",
    ")\n",
    "\n",
    "dev_dag_df = dev_dag_df.append(dev_results_df, sort=True)\n",
    "test_dag_df = test_dag_df.append(test_results_df, sort=True)\n",
    "dev_dag_marginals_df = dev_dag_marginals_df.append(dev_marginals_df, sort=True)\n",
    "test_dag_marginals_df = test_dag_marginals_df.append(test_marginals_df, sort=True)"
   ]
  },
  {
   "cell_type": "code",
   "execution_count": null,
   "metadata": {
    "ExecuteTime": {
     "end_time": "2019-06-25T20:39:58.445116Z",
     "start_time": "2019-06-25T20:36:51.839Z"
    }
   },
   "outputs": [],
   "source": [
    "dev_dag_marginals_df = (\n",
    "     dev_dag_marginals_df\n",
    "     .assign(\n",
    "        frac_correct=(\n",
    "            dev_dag_marginals_df\n",
    "            .apply(count_fraction_correct,axis=1)\n",
    "            .values\n",
    "        )\n",
    "    )\n",
    "    .groupby([\"label\", \"num_lfs\"])[\"frac_correct\"]\n",
    "    .agg(pd.np.mean)\n",
    "    .reset_index(level=[\"label\", \"num_lfs\"])\n",
    ")"
   ]
  },
  {
   "cell_type": "code",
   "execution_count": null,
   "metadata": {
    "ExecuteTime": {
     "end_time": "2019-06-25T20:39:58.445848Z",
     "start_time": "2019-06-25T20:36:51.841Z"
    }
   },
   "outputs": [],
   "source": [
    "test_dag_marginals_df = (\n",
    "    test_dag_marginals_df\n",
    "    .assign(\n",
    "        frac_correct=(\n",
    "            test_dag_marginals_df\n",
    "            .apply(count_fraction_correct, axis=1)\n",
    "            .values\n",
    "        )\n",
    "    )\n",
    "    .groupby([\"label\", \"num_lfs\"])[\"frac_correct\"]\n",
    "    .agg(pd.np.mean)\n",
    "    .reset_index(level=[\"label\", \"num_lfs\"])\n",
    ")"
   ]
  },
  {
   "cell_type": "markdown",
   "metadata": {},
   "source": [
    "## Dev Set Performance (AUPRC, AUROC)"
   ]
  },
  {
   "cell_type": "code",
   "execution_count": null,
   "metadata": {
    "ExecuteTime": {
     "end_time": "2019-06-25T20:39:58.446645Z",
     "start_time": "2019-06-25T20:36:51.844Z"
    }
   },
   "outputs": [],
   "source": [
    "fig, axs = plt.subplots(ncols=2, figsize=(10, 5))\n",
    "sns.pointplot(x=\"num_lfs\", y=\"AUPRC\", data=dev_dag_df, ax=axs[0])\n",
    "sns.pointplot(x=\"num_lfs\", y=\"AUROC\", data=dev_dag_df, ax=axs[1])"
   ]
  },
  {
   "cell_type": "code",
   "execution_count": null,
   "metadata": {
    "ExecuteTime": {
     "end_time": "2019-06-25T20:39:58.447364Z",
     "start_time": "2019-06-25T20:36:51.846Z"
    }
   },
   "outputs": [],
   "source": [
    "sns.pointplot(x=\"num_lfs\", y=\"frac_correct\", data=dev_dag_marginals_df, hue=\"label\")"
   ]
  },
  {
   "cell_type": "markdown",
   "metadata": {},
   "source": [
    "## Test Set Performance (AUPRC, AUROC)"
   ]
  },
  {
   "cell_type": "code",
   "execution_count": null,
   "metadata": {
    "ExecuteTime": {
     "end_time": "2019-06-25T20:39:58.448036Z",
     "start_time": "2019-06-25T20:36:51.851Z"
    }
   },
   "outputs": [],
   "source": [
    "fig, axs = plt.subplots(ncols=2, figsize=(10, 5))\n",
    "sns.pointplot(x=\"num_lfs\", y=\"AUPRC\", data=test_dag_df, ax=axs[0])\n",
    "sns.pointplot(x=\"num_lfs\", y=\"AUROC\", data=test_dag_df, ax=axs[1])"
   ]
  },
  {
   "cell_type": "code",
   "execution_count": null,
   "metadata": {
    "ExecuteTime": {
     "end_time": "2019-06-25T20:39:58.448664Z",
     "start_time": "2019-06-25T20:36:51.854Z"
    }
   },
   "outputs": [],
   "source": [
    "sns.pointplot(x=\"num_lfs\", y=\"frac_correct\", data=test_dag_marginals_df, hue=\"label\")"
   ]
  },
  {
   "cell_type": "code",
   "execution_count": null,
   "metadata": {
    "ExecuteTime": {
     "end_time": "2019-06-25T20:39:58.449312Z",
     "start_time": "2019-06-25T20:36:51.854Z"
    }
   },
   "outputs": [],
   "source": [
    "dev_dag_df.to_csv(\n",
    "    \"data/random_sampling/DaG/results/dev_sampled_performance.tsv\", \n",
    "    index=False, sep=\"\\t\", float_format=\"%.5g\"\n",
    ")\n",
    "\n",
    "test_dag_df.to_csv(\n",
    "    \"data/random_sampling/DaG/results/test_sampled_performance.tsv\", \n",
    "    index=False, sep=\"\\t\", float_format=\"%.5g\"\n",
    ")"
   ]
  },
  {
   "cell_type": "code",
   "execution_count": null,
   "metadata": {
    "ExecuteTime": {
     "end_time": "2019-06-25T20:39:58.449936Z",
     "start_time": "2019-06-25T20:36:51.857Z"
    }
   },
   "outputs": [],
   "source": [
    "dev_dag_marginals_df.to_csv(\n",
    "    \"data/random_sampling/DaG/results/dev_sampled_marginals.tsv\", \n",
    "    index=False, sep=\"\\t\", float_format=\"%.5g\"\n",
    ")\n",
    "\n",
    "test_dag_marginals_df.to_csv(\n",
    "    \"data/random_sampling/DaG/results/test_sampled_marginals.tsv\", \n",
    "    index=False, sep=\"\\t\", float_format=\"%.5g\"\n",
    ")"
   ]
  },
  {
   "cell_type": "markdown",
   "metadata": {},
   "source": [
    "# Using Compound Treats Disease Label Functions to Predict Compound Binds Gene Relations"
   ]
  },
  {
   "cell_type": "markdown",
   "metadata": {
    "ExecuteTime": {
     "end_time": "2019-04-16T15:52:10.675188Z",
     "start_time": "2019-04-16T15:52:10.641058Z"
    }
   },
   "source": [
    "This section determines how well compound treats disease label functions can predict compound binds gene relations."
   ]
  },
  {
   "cell_type": "code",
   "execution_count": null,
   "metadata": {
    "ExecuteTime": {
     "end_time": "2019-06-25T20:39:58.450585Z",
     "start_time": "2019-06-25T20:36:51.861Z"
    }
   },
   "outputs": [],
   "source": [
    "num_of_samples = 50\n",
    "regularization_grid = pd.np.round(pd.np.linspace(0.01, 5, num=10), 2)"
   ]
  },
  {
   "cell_type": "code",
   "execution_count": null,
   "metadata": {
    "ExecuteTime": {
     "end_time": "2019-06-25T20:39:58.451222Z",
     "start_time": "2019-06-25T20:36:51.864Z"
    }
   },
   "outputs": [],
   "source": [
    "dev_ctd_df = pd.DataFrame(dev_baseline)\n",
    "test_ctd_df = pd.DataFrame(test_baseline)\n",
    "dev_ctd_marginals_df = pd.DataFrame(dev_baseline_marginals, columns=[\"marginals\", \"label\"]).assign(num_lfs=0)\n",
    "test_ctd_marginals_df = pd.DataFrame(test_baseline_marginals, columns=[\"marginals\", \"label\"]).assign(num_lfs=0)\n",
    "\n",
    "ctd_start = 59\n",
    "ctd_end = 81\n",
    "\n",
    "range_of_sample_sizes = (\n",
    "    list(range(1, correct_L[:,ctd_start:ctd_end].shape[1], 5)) +\n",
    "    [correct_L[:,ctd_start:ctd_end].shape[1]]\n",
    ")\n",
    "\n",
    "lf_sample_keeper, dev_results_df, test_results_df, dev_marginals_df, test_marginals_df = run_random_additional_lfs(\n",
    "    range_of_sample_sizes=range_of_sample_sizes, \n",
    "    range_of_lf_indicies = list(range(ctd_start, ctd_end+1)),\n",
    "    size_of_sample_pool=ctd_end-ctd_start,\n",
    "    num_of_samples=num_of_samples,\n",
    "    train=correct_L, \n",
    "    dev=correct_L_dev,\n",
    "    dev_labels=candidate_dfs['dev'].curated_cbg.values,\n",
    "    test=correct_L_test,\n",
    "    test_labels=candidate_dfs['test'].curated_cbg.values,\n",
    "    grid=regularization_grid,\n",
    "    label_matricies=label_matricies['train'],\n",
    "    train_marginal_dir='data/random_sampling/CtD/marginals/',\n",
    "    ds_start=ds_start,\n",
    "    ds_end=ds_end,\n",
    ")\n",
    "\n",
    "dev_ctd_df = dev_ctd_df.append(dev_results_df, sort=True)\n",
    "test_ctd_df = test_ctd_df.append(test_results_df, sort=True)\n",
    "dev_ctd_marginals_df = dev_ctd_marginals_df.append(dev_marginals_df, sort=True)\n",
    "test_ctd_marginals_df = test_ctd_marginals_df.append(test_marginals_df, sort=True)"
   ]
  },
  {
   "cell_type": "code",
   "execution_count": null,
   "metadata": {
    "ExecuteTime": {
     "end_time": "2019-06-25T20:39:58.451951Z",
     "start_time": "2019-06-25T20:36:51.867Z"
    }
   },
   "outputs": [],
   "source": [
    "dev_ctd_marginals_df = (\n",
    "     dev_ctd_marginals_df\n",
    "     .assign(\n",
    "        frac_correct=(\n",
    "            dev_ctd_marginals_df\n",
    "            .apply(count_fraction_correct,axis=1)\n",
    "            .values\n",
    "        )\n",
    "    )\n",
    "    .groupby([\"label\", \"num_lfs\"])[\"frac_correct\"]\n",
    "    .agg(pd.np.mean)\n",
    "    .reset_index(level=[\"label\", \"num_lfs\"])\n",
    " )"
   ]
  },
  {
   "cell_type": "code",
   "execution_count": null,
   "metadata": {
    "ExecuteTime": {
     "end_time": "2019-06-25T20:39:58.452717Z",
     "start_time": "2019-06-25T20:36:51.870Z"
    }
   },
   "outputs": [],
   "source": [
    "test_ctd_marginals_df = (\n",
    "    test_ctd_marginals_df\n",
    "    .assign(\n",
    "        frac_correct=(\n",
    "            test_ctd_marginals_df\n",
    "            .apply(count_fraction_correct, axis=1)\n",
    "            .values\n",
    "        )\n",
    "    )\n",
    "    .groupby([\"label\", \"num_lfs\"])[\"frac_correct\"]\n",
    "    .agg(pd.np.mean)\n",
    "    .reset_index(level=[\"label\", \"num_lfs\"])\n",
    ")"
   ]
  },
  {
   "cell_type": "markdown",
   "metadata": {},
   "source": [
    "## Dev Set Performance (AUPRC, AUROC)"
   ]
  },
  {
   "cell_type": "code",
   "execution_count": null,
   "metadata": {
    "ExecuteTime": {
     "end_time": "2019-06-25T20:39:58.453362Z",
     "start_time": "2019-06-25T20:36:51.872Z"
    }
   },
   "outputs": [],
   "source": [
    "fig, axs = plt.subplots(ncols=2, figsize=(10, 5))\n",
    "sns.pointplot(x=\"num_lfs\", y=\"AUPRC\", data=dev_ctd_df, ax=axs[0])\n",
    "sns.pointplot(x=\"num_lfs\", y=\"AUROC\", data=dev_ctd_df, ax=axs[1])"
   ]
  },
  {
   "cell_type": "code",
   "execution_count": null,
   "metadata": {
    "ExecuteTime": {
     "end_time": "2019-06-25T20:39:58.453953Z",
     "start_time": "2019-06-25T20:36:51.874Z"
    }
   },
   "outputs": [],
   "source": [
    "sns.pointplot(x=\"num_lfs\", y=\"frac_correct\", data=dev_ctd_marginals_df, hue=\"label\")"
   ]
  },
  {
   "cell_type": "markdown",
   "metadata": {},
   "source": [
    "## Test Set Performance (AUPRC, AUROC)"
   ]
  },
  {
   "cell_type": "code",
   "execution_count": null,
   "metadata": {
    "ExecuteTime": {
     "end_time": "2019-06-25T20:39:58.454598Z",
     "start_time": "2019-06-25T20:36:51.876Z"
    }
   },
   "outputs": [],
   "source": [
    "fig, axs = plt.subplots(ncols=2, figsize=(10, 5))\n",
    "sns.pointplot(x=\"num_lfs\", y=\"AUPRC\", data=test_ctd_df, ax=axs[0])\n",
    "sns.pointplot(x=\"num_lfs\", y=\"AUROC\", data=test_ctd_df, ax=axs[1])"
   ]
  },
  {
   "cell_type": "code",
   "execution_count": null,
   "metadata": {
    "ExecuteTime": {
     "end_time": "2019-06-25T20:39:58.455211Z",
     "start_time": "2019-06-25T20:36:51.879Z"
    }
   },
   "outputs": [],
   "source": [
    "sns.pointplot(x=\"num_lfs\", y=\"frac_correct\", data=test_ctd_marginals_df, hue=\"label\")"
   ]
  },
  {
   "cell_type": "code",
   "execution_count": null,
   "metadata": {
    "ExecuteTime": {
     "end_time": "2019-06-25T20:39:58.455828Z",
     "start_time": "2019-06-25T20:36:51.879Z"
    }
   },
   "outputs": [],
   "source": [
    "dev_ctd_df.to_csv(\n",
    "    \"data/random_sampling/CtD/results/dev_sampled_performance.tsv\", \n",
    "    index=False, sep=\"\\t\", float_format=\"%.5g\"\n",
    ")\n",
    "\n",
    "test_ctd_df.to_csv(\n",
    "    \"data/random_sampling/CtD/results/test_sampled_performance.tsv\", \n",
    "    index=False, sep=\"\\t\", float_format=\"%.5g\"\n",
    ")"
   ]
  },
  {
   "cell_type": "code",
   "execution_count": null,
   "metadata": {
    "ExecuteTime": {
     "end_time": "2019-06-25T20:39:58.456453Z",
     "start_time": "2019-06-25T20:36:51.881Z"
    }
   },
   "outputs": [],
   "source": [
    "dev_ctd_marginals_df.to_csv(\n",
    "    \"data/random_sampling/CtD/results/dev_sampled_marginals.tsv\", \n",
    "    index=False, sep=\"\\t\", float_format=\"%.5g\"\n",
    ")\n",
    "\n",
    "test_ctd_marginals_df.to_csv(\n",
    "    \"data/random_sampling/CtD/results/test_sampled_marginals.tsv\", \n",
    "    index=False, sep=\"\\t\", float_format=\"%.5g\"\n",
    ")"
   ]
  },
  {
   "cell_type": "markdown",
   "metadata": {},
   "source": [
    "# Using Gene Interacts Gene Label Functions to Predict Compound Binds Gene Relations"
   ]
  },
  {
   "cell_type": "markdown",
   "metadata": {},
   "source": [
    "This section determines how well gene interacts gene label functions can predict compound binds gene relations."
   ]
  },
  {
   "cell_type": "code",
   "execution_count": null,
   "metadata": {
    "ExecuteTime": {
     "end_time": "2019-06-25T20:39:58.457033Z",
     "start_time": "2019-06-25T20:36:51.886Z"
    }
   },
   "outputs": [],
   "source": [
    "num_of_samples = 50\n",
    "regularization_grid = pd.np.round(pd.np.linspace(0.01, 5, num=10), 2)"
   ]
  },
  {
   "cell_type": "code",
   "execution_count": null,
   "metadata": {
    "ExecuteTime": {
     "end_time": "2019-06-25T20:39:58.457679Z",
     "start_time": "2019-06-25T20:36:51.887Z"
    }
   },
   "outputs": [],
   "source": [
    "dev_gig_df = pd.DataFrame(dev_baseline)\n",
    "test_gig_df = pd.DataFrame(test_baseline)\n",
    "dev_gig_marginals_df = pd.DataFrame(dev_baseline_marginals, columns=[\"marginals\", \"label\"]).assign(num_lfs=0)\n",
    "test_gig_marginals_df = pd.DataFrame(test_baseline_marginals, columns=[\"marginals\", \"label\"]).assign(num_lfs=0)\n",
    "\n",
    "gig_start = 81\n",
    "gig_end = 109\n",
    "\n",
    "range_of_sample_sizes = (\n",
    "    list(range(1, correct_L[:,gig_start:gig_end].shape[1], 5)) +\n",
    "    [correct_L[:,gig_start:gig_end].shape[1]]\n",
    ")\n",
    "\n",
    "lf_sample_keeper, dev_results_df, test_results_df, dev_marginals_df, test_marginals_df = run_random_additional_lfs(\n",
    "    range_of_sample_sizes=range_of_sample_sizes, \n",
    "    range_of_lf_indicies = list(range(gig_start, gig_end+1)),\n",
    "    size_of_sample_pool=gig_end-gig_start,\n",
    "    num_of_samples=num_of_samples,\n",
    "    train=correct_L, \n",
    "    dev=correct_L_dev,\n",
    "    dev_labels=candidate_dfs['dev'].curated_cbg.values,\n",
    "    test=correct_L_test,\n",
    "    test_labels=candidate_dfs['test'].curated_cbg.values,\n",
    "    grid=regularization_grid,\n",
    "    label_matricies=label_matricies['train'],\n",
    "    train_marginal_dir='data/random_sampling/GiG/marginals/',\n",
    "    ds_start=ds_start,\n",
    "    ds_end=ds_end,\n",
    ")\n",
    "\n",
    "dev_gig_df = dev_gig_df.append(dev_results_df, sort=True)\n",
    "test_gig_df = test_gig_df.append(test_results_df, sort=True)\n",
    "dev_gig_marginals_df = dev_gig_marginals_df.append(dev_marginals_df, sort=True)\n",
    "test_gig_marginals_df = test_gig_marginals_df.append(test_marginals_df, sort=True)"
   ]
  },
  {
   "cell_type": "code",
   "execution_count": null,
   "metadata": {
    "ExecuteTime": {
     "end_time": "2019-06-25T20:39:58.458382Z",
     "start_time": "2019-06-25T20:36:51.889Z"
    }
   },
   "outputs": [],
   "source": [
    "dev_gig_marginals_df = (\n",
    "     dev_gig_marginals_df\n",
    "     .assign(\n",
    "        frac_correct=(\n",
    "            dev_gig_marginals_df\n",
    "            .apply(count_fraction_correct,axis=1)\n",
    "            .values\n",
    "        )\n",
    "    )\n",
    "    .groupby([\"label\", \"num_lfs\"])[\"frac_correct\"]\n",
    "    .agg(pd.np.mean)\n",
    "    .reset_index(level=[\"label\", \"num_lfs\"])\n",
    " )"
   ]
  },
  {
   "cell_type": "code",
   "execution_count": null,
   "metadata": {
    "ExecuteTime": {
     "end_time": "2019-06-25T20:39:58.459028Z",
     "start_time": "2019-06-25T20:36:51.891Z"
    }
   },
   "outputs": [],
   "source": [
    "test_gig_marginals_df = (\n",
    "    test_gig_marginals_df\n",
    "    .assign(\n",
    "        frac_correct=(\n",
    "            test_gig_marginals_df\n",
    "            .apply(count_fraction_correct, axis=1)\n",
    "            .values\n",
    "        )\n",
    "    )\n",
    "    .groupby([\"label\", \"num_lfs\"])[\"frac_correct\"]\n",
    "    .agg(pd.np.mean)\n",
    "    .reset_index(level=[\"label\", \"num_lfs\"])\n",
    ")"
   ]
  },
  {
   "cell_type": "markdown",
   "metadata": {},
   "source": [
    "## Dev Set Performance (AUPRC, AUROC)"
   ]
  },
  {
   "cell_type": "code",
   "execution_count": null,
   "metadata": {
    "ExecuteTime": {
     "end_time": "2019-06-25T20:39:58.459743Z",
     "start_time": "2019-06-25T20:36:51.893Z"
    }
   },
   "outputs": [],
   "source": [
    "fig, axs = plt.subplots(ncols=2, figsize=(10, 5))\n",
    "sns.pointplot(x=\"num_lfs\", y=\"AUPRC\", data=dev_gig_df, ax=axs[0])\n",
    "sns.pointplot(x=\"num_lfs\", y=\"AUROC\", data=dev_gig_df, ax=axs[1])"
   ]
  },
  {
   "cell_type": "code",
   "execution_count": null,
   "metadata": {
    "ExecuteTime": {
     "end_time": "2019-06-25T20:39:58.460470Z",
     "start_time": "2019-06-25T20:36:51.896Z"
    }
   },
   "outputs": [],
   "source": [
    "sns.pointplot(x=\"num_lfs\", y=\"frac_correct\", data=dev_gig_marginals_df, hue=\"label\")"
   ]
  },
  {
   "cell_type": "markdown",
   "metadata": {},
   "source": [
    "## Test Set Performance (AUPRC, AUROC)"
   ]
  },
  {
   "cell_type": "code",
   "execution_count": null,
   "metadata": {
    "ExecuteTime": {
     "end_time": "2019-06-25T20:39:58.461278Z",
     "start_time": "2019-06-25T20:36:51.898Z"
    }
   },
   "outputs": [],
   "source": [
    "fig, axs = plt.subplots(ncols=2, figsize=(10, 5))\n",
    "sns.pointplot(x=\"num_lfs\", y=\"AUPRC\", data=test_gig_df, ax=axs[0])\n",
    "sns.pointplot(x=\"num_lfs\", y=\"AUROC\", data=test_gig_df, ax=axs[1])"
   ]
  },
  {
   "cell_type": "code",
   "execution_count": null,
   "metadata": {
    "ExecuteTime": {
     "end_time": "2019-06-25T20:39:58.462165Z",
     "start_time": "2019-06-25T20:36:51.900Z"
    }
   },
   "outputs": [],
   "source": [
    "sns.pointplot(x=\"num_lfs\", y=\"frac_correct\", data=test_gig_marginals_df, hue=\"label\")"
   ]
  },
  {
   "cell_type": "code",
   "execution_count": null,
   "metadata": {
    "ExecuteTime": {
     "end_time": "2019-06-25T20:39:58.462929Z",
     "start_time": "2019-06-25T20:36:51.902Z"
    }
   },
   "outputs": [],
   "source": [
    "dev_gig_df.to_csv(\n",
    "    \"data/random_sampling/GiG/results/dev_sampled_performance.tsv\", \n",
    "    index=False, sep=\"\\t\", float_format=\"%.5g\"\n",
    ")\n",
    "\n",
    "test_gig_df.to_csv(\n",
    "    \"data/random_sampling/GiG/results/test_sampled_performance.tsv\", \n",
    "    index=False, sep=\"\\t\", float_format=\"%.5g\"\n",
    ")"
   ]
  },
  {
   "cell_type": "code",
   "execution_count": null,
   "metadata": {
    "ExecuteTime": {
     "end_time": "2019-06-25T20:39:58.463668Z",
     "start_time": "2019-06-25T20:36:51.904Z"
    }
   },
   "outputs": [],
   "source": [
    "dev_gig_marginals_df.to_csv(\n",
    "    \"data/random_sampling/GiG/results/dev_sampled_marginals.tsv\", \n",
    "    index=False, sep=\"\\t\", float_format=\"%.5g\"\n",
    ")\n",
    "\n",
    "test_gig_marginals_df.to_csv(\n",
    "    \"data/random_sampling/GiG/results/test_sampled_marginals.tsv\", \n",
    "    index=False, sep=\"\\t\", float_format=\"%.5g\"\n",
    ")"
   ]
  },
  {
   "cell_type": "markdown",
   "metadata": {},
   "source": [
    "# All (DaG, GiG, CbG, CtD) Label Functions to Predict Compound Binds Gene Relations"
   ]
  },
  {
   "cell_type": "markdown",
   "metadata": {},
   "source": [
    "This section determines how well all label functions can predict compound binds gene relations."
   ]
  },
  {
   "cell_type": "code",
   "execution_count": null,
   "metadata": {
    "ExecuteTime": {
     "end_time": "2019-06-25T20:39:58.464320Z",
     "start_time": "2019-06-25T20:36:51.907Z"
    }
   },
   "outputs": [],
   "source": [
    "num_of_samples = 50\n",
    "regularization_grid = pd.np.round(pd.np.linspace(0.01, 5, num=5), 2)"
   ]
  },
  {
   "cell_type": "code",
   "execution_count": null,
   "metadata": {
    "ExecuteTime": {
     "end_time": "2019-06-25T20:39:58.465047Z",
     "start_time": "2019-06-25T20:36:51.910Z"
    }
   },
   "outputs": [],
   "source": [
    "all_dev_result_df = pd.DataFrame(dev_baseline)\n",
    "all_test_result_df = pd.DataFrame(test_baseline)\n",
    "dev_all_marginals_df = pd.DataFrame(dev_baseline_marginals, columns=[\"marginals\", \"label\"]).assign(num_lfs=0)\n",
    "test_all_marginals_df = pd.DataFrame(test_baseline_marginals, columns=[\"marginals\", \"label\"]).assign(num_lfs=0)\n",
    "\n",
    "range_of_sample_sizes = (\n",
    "    list(range(1, correct_L[:,ds_end:].shape[1], 8)) +\n",
    "    [correct_L[:,ds_end:].shape[1]]\n",
    ")\n",
    "\n",
    "lf_sample_keeper, dev_results_df, test_results_df, dev_marginals_df, test_marginals_df = run_random_additional_lfs(\n",
    "    range_of_sample_sizes=range_of_sample_sizes, \n",
    "    range_of_lf_indicies = list(range(ds_end, correct_L.shape[1]+1)),\n",
    "    size_of_sample_pool=correct_L.shape[1]-ds_end,\n",
    "    num_of_samples=num_of_samples,\n",
    "    train=correct_L, \n",
    "    dev=correct_L_dev,\n",
    "    dev_labels=candidate_dfs['dev'].curated_cbg.values,\n",
    "    test=correct_L_test,\n",
    "    test_labels=candidate_dfs['test'].curated_cbg.values,\n",
    "    grid=regularization_grid,\n",
    "    label_matricies=label_matricies['train'],\n",
    "    train_marginal_dir='data/random_sampling/all/',\n",
    "    ds_start=ds_start,\n",
    "    ds_end=ds_end,\n",
    ")\n",
    "\n",
    "all_dev_result_df = all_dev_result_df.append(dev_results_df, sort=True)\n",
    "all_test_result_df = all_test_result_df.append(test_results_df, sort=True)\n",
    "dev_all_marginals_df = dev_all_marginals_df.append(dev_marginals_df, sort=True)\n",
    "test_all_marginals_df = test_all_marginals_df.append(test_marginals_df, sort=True)"
   ]
  },
  {
   "cell_type": "code",
   "execution_count": null,
   "metadata": {
    "ExecuteTime": {
     "end_time": "2019-06-25T20:39:58.465865Z",
     "start_time": "2019-06-25T20:36:51.912Z"
    }
   },
   "outputs": [],
   "source": [
    "dev_all_marginals_df = (\n",
    "     dev_all_marginals_df\n",
    "     .assign(\n",
    "        frac_correct=(\n",
    "            dev_all_marginals_df\n",
    "            .apply(count_fraction_correct,axis=1)\n",
    "            .values\n",
    "        )\n",
    "    )\n",
    "    .groupby([\"label\", \"num_lfs\"])[\"frac_correct\"]\n",
    "    .agg(pd.np.mean)\n",
    "    .reset_index(level=[\"label\", \"num_lfs\"])\n",
    " )"
   ]
  },
  {
   "cell_type": "code",
   "execution_count": null,
   "metadata": {
    "ExecuteTime": {
     "end_time": "2019-06-25T20:39:58.467160Z",
     "start_time": "2019-06-25T20:36:51.913Z"
    }
   },
   "outputs": [],
   "source": [
    "test_all_marginals_df = (\n",
    "    test_all_marginals_df\n",
    "    .assign(\n",
    "        frac_correct=(\n",
    "            test_all_marginals_df\n",
    "            .apply(count_fraction_correct, axis=1)\n",
    "            .values\n",
    "        )\n",
    "    )\n",
    "    .groupby([\"label\", \"num_lfs\"])[\"frac_correct\"]\n",
    "    .agg(pd.np.mean)\n",
    "    .reset_index(level=[\"label\", \"num_lfs\"])\n",
    ")"
   ]
  },
  {
   "cell_type": "markdown",
   "metadata": {},
   "source": [
    "## Dev Set Performance (AUPRC, AUROC)"
   ]
  },
  {
   "cell_type": "code",
   "execution_count": null,
   "metadata": {
    "ExecuteTime": {
     "end_time": "2019-06-25T20:39:58.468119Z",
     "start_time": "2019-06-25T20:36:51.917Z"
    }
   },
   "outputs": [],
   "source": [
    "fig, axs = plt.subplots(ncols=2, figsize=(13, 5))\n",
    "sns.pointplot(x=\"num_lfs\", y=\"AUPRC\", data=all_dev_result_df, ax=axs[0])\n",
    "sns.pointplot(x=\"num_lfs\", y=\"AUROC\", data=all_dev_result_df, ax=axs[1])"
   ]
  },
  {
   "cell_type": "code",
   "execution_count": null,
   "metadata": {
    "ExecuteTime": {
     "end_time": "2019-06-25T20:39:58.469230Z",
     "start_time": "2019-06-25T20:36:51.918Z"
    }
   },
   "outputs": [],
   "source": [
    "sns.pointplot(x=\"num_lfs\", y=\"frac_correct\", data=dev_all_marginals_df, hue=\"label\")"
   ]
  },
  {
   "cell_type": "markdown",
   "metadata": {},
   "source": [
    "## Test Set Performance (AUPRC, AUROC)"
   ]
  },
  {
   "cell_type": "code",
   "execution_count": null,
   "metadata": {
    "ExecuteTime": {
     "end_time": "2019-06-25T20:39:58.470385Z",
     "start_time": "2019-06-25T20:36:51.921Z"
    }
   },
   "outputs": [],
   "source": [
    "fig, axs = plt.subplots(ncols=2, figsize=(13, 5))\n",
    "sns.pointplot(x=\"num_lfs\", y=\"AUPRC\", data=all_test_result_df, ax=axs[0])\n",
    "sns.pointplot(x=\"num_lfs\", y=\"AUROC\", data=all_test_result_df, ax=axs[1])"
   ]
  },
  {
   "cell_type": "code",
   "execution_count": null,
   "metadata": {
    "ExecuteTime": {
     "end_time": "2019-06-25T20:39:58.471304Z",
     "start_time": "2019-06-25T20:36:51.923Z"
    }
   },
   "outputs": [],
   "source": [
    "sns.pointplot(x=\"num_lfs\", y=\"frac_correct\", data=test_all_marginals_df, hue=\"label\")"
   ]
  },
  {
   "cell_type": "code",
   "execution_count": null,
   "metadata": {
    "ExecuteTime": {
     "end_time": "2019-06-25T20:39:58.472403Z",
     "start_time": "2019-06-25T20:36:51.924Z"
    }
   },
   "outputs": [],
   "source": [
    "all_dev_result_df.to_csv(\n",
    "    \"data/random_sampling/all/dev_sampled_performance.tsv\", \n",
    "    index=False, sep=\"\\t\", float_format=\"%.5g\"\n",
    ")\n",
    "\n",
    "all_test_result_df.to_csv(\n",
    "    \"data/random_sampling/all/test_sampled_performance.tsv\", \n",
    "    index=False, sep=\"\\t\", float_format=\"%.5g\"\n",
    ")"
   ]
  },
  {
   "cell_type": "code",
   "execution_count": null,
   "metadata": {
    "ExecuteTime": {
     "end_time": "2019-06-25T20:39:58.473307Z",
     "start_time": "2019-06-25T20:36:51.926Z"
    }
   },
   "outputs": [],
   "source": [
    "dev_all_marginals_df.to_csv(\n",
    "    \"data/random_sampling/all/dev_sampled_marginals.tsv\", \n",
    "    index=False, sep=\"\\t\", float_format=\"%.5g\"\n",
    ")\n",
    "\n",
    "test_all_marginals_df.to_csv(\n",
    "    \"data/random_sampling/all/test_sampled_marginals.tsv\", \n",
    "    index=False, sep=\"\\t\", float_format=\"%.5g\"\n",
    ")"
   ]
  }
 ],
 "metadata": {
  "kernelspec": {
   "display_name": "Python [conda env:snorkeling]",
   "language": "python",
   "name": "conda-env-snorkeling-py"
  },
  "language_info": {
   "codemirror_mode": {
    "name": "ipython",
    "version": 3
   },
   "file_extension": ".py",
   "mimetype": "text/x-python",
   "name": "python",
   "nbconvert_exporter": "python",
   "pygments_lexer": "ipython3",
   "version": "3.6.4"
  }
 },
 "nbformat": 4,
 "nbformat_minor": 2
}
