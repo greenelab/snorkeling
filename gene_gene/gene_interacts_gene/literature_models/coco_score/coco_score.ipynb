{
 "cells": [
  {
   "cell_type": "markdown",
   "metadata": {},
   "source": [
    "# CoCoScore Implementation"
   ]
  },
  {
   "cell_type": "markdown",
   "metadata": {},
   "source": [
    "This notebook consists of implementing the [CoCoScore](https://www.biorxiv.org/content/10.1101/444398v1) literature model for comparison. We report performance as area under the precision recall curve (AUPR) and area under the receiver operating curve (AUROC). In both cases the greater the area the better the model is."
   ]
  },
  {
   "cell_type": "code",
   "execution_count": 1,
   "metadata": {
    "ExecuteTime": {
     "end_time": "2019-07-20T21:29:40.699937Z",
     "start_time": "2019-07-20T21:29:40.088949Z"
    }
   },
   "outputs": [],
   "source": [
    "%load_ext autoreload\n",
    "%autoreload 2\n",
    "%matplotlib inline\n",
    "\n",
    "from collections import defaultdict\n",
    "import os\n",
    "import pickle\n",
    "import re\n",
    "import sys\n",
    "\n",
    "sys.path.append(os.path.abspath('../../../../modules'))\n",
    "\n",
    "import operator\n",
    "from itertools import chain\n",
    "import matplotlib.pyplot as plt\n",
    "import pandas as pd\n",
    "import seaborn as sns\n",
    "from scipy import sparse\n",
    "from sklearn.linear_model import LogisticRegressionCV\n",
    "from sklearn.metrics import roc_curve, auc, f1_score, precision_recall_curve, accuracy_score, confusion_matrix\n",
    "from tqdm import tqdm_notebook"
   ]
  },
  {
   "cell_type": "code",
   "execution_count": 2,
   "metadata": {
    "ExecuteTime": {
     "end_time": "2019-07-20T21:29:40.851741Z",
     "start_time": "2019-07-20T21:29:40.701454Z"
    }
   },
   "outputs": [],
   "source": [
    "#Set up the environment\n",
    "username = \"danich1\"\n",
    "password = \"snorkel\"\n",
    "dbname = \"pubmeddb\"\n",
    "\n",
    "#Path subject to change for different os\n",
    "database_str = \"postgresql+psycopg2://{}:{}@/{}?host=/var/run/postgresql\".format(username, password, dbname)\n",
    "os.environ['SNORKELDB'] = database_str\n",
    "\n",
    "from snorkel import SnorkelSession\n",
    "session = SnorkelSession()"
   ]
  },
  {
   "cell_type": "code",
   "execution_count": 3,
   "metadata": {
    "ExecuteTime": {
     "end_time": "2019-07-20T21:29:41.631212Z",
     "start_time": "2019-07-20T21:29:40.853255Z"
    }
   },
   "outputs": [],
   "source": [
    "from snorkel.learning.pytorch.rnn.rnn_base import mark_sentence\n",
    "from snorkel.learning.pytorch.rnn.utils import candidate_to_tokens\n",
    "from snorkel.models import Candidate, candidate_subclass\n",
    "\n",
    "from metal.analysis import lf_summary\n",
    "from metal.label_model import LabelModel\n",
    "from metal.utils import plusminus_to_categorical\n",
    "\n",
    "from gensim.models import FastText\n",
    "from gensim.models import KeyedVectors\n",
    "\n",
    "from utils.notebook_utils.label_matrix_helper import label_candidates, get_auc_significant_stats\n",
    "from utils.notebook_utils.dataframe_helper import load_candidate_dataframes, generate_results_df\n",
    "from utils.notebook_utils.plot_helper import plot_curve, plot_label_matrix_heatmap"
   ]
  },
  {
   "cell_type": "code",
   "execution_count": 4,
   "metadata": {
    "ExecuteTime": {
     "end_time": "2019-07-20T21:29:41.658880Z",
     "start_time": "2019-07-20T21:29:41.632755Z"
    }
   },
   "outputs": [],
   "source": [
    "GeneGene = candidate_subclass('GeneGene', ['Gene1', 'Gene2'])"
   ]
  },
  {
   "cell_type": "code",
   "execution_count": 5,
   "metadata": {
    "ExecuteTime": {
     "end_time": "2019-07-20T21:29:41.683354Z",
     "start_time": "2019-07-20T21:29:41.660504Z"
    }
   },
   "outputs": [],
   "source": [
    "quick_load = True"
   ]
  },
  {
   "cell_type": "code",
   "execution_count": 6,
   "metadata": {
    "ExecuteTime": {
     "end_time": "2019-07-20T21:30:53.520659Z",
     "start_time": "2019-07-20T21:29:41.684717Z"
    }
   },
   "outputs": [
    {
     "name": "stderr",
     "output_type": "stream",
     "text": [
      "/home/danich1/anaconda2/envs/snorkeling/lib/python3.6/site-packages/IPython/core/interactiveshell.py:2785: DtypeWarning: Columns (4) have mixed types. Specify dtype option on import or set low_memory=False.\n",
      "  interactivity=interactivity, compiler=compiler, result=result)\n"
     ]
    },
    {
     "data": {
      "text/html": [
       "<div>\n",
       "<style scoped>\n",
       "    .dataframe tbody tr th:only-of-type {\n",
       "        vertical-align: middle;\n",
       "    }\n",
       "\n",
       "    .dataframe tbody tr th {\n",
       "        vertical-align: top;\n",
       "    }\n",
       "\n",
       "    .dataframe thead th {\n",
       "        text-align: right;\n",
       "    }\n",
       "</style>\n",
       "<table border=\"1\" class=\"dataframe\">\n",
       "  <thead>\n",
       "    <tr style=\"text-align: right;\">\n",
       "      <th></th>\n",
       "      <th>gene1_id</th>\n",
       "      <th>gene1_name</th>\n",
       "      <th>gene2_id</th>\n",
       "      <th>gene2_name</th>\n",
       "      <th>sources</th>\n",
       "      <th>n_sentences</th>\n",
       "      <th>hetionet</th>\n",
       "      <th>has_sentence</th>\n",
       "      <th>split</th>\n",
       "      <th>partition_rank</th>\n",
       "      <th>compound_mention_count</th>\n",
       "      <th>disease_mention_count</th>\n",
       "      <th>gene_mention_count</th>\n",
       "      <th>sentence_id</th>\n",
       "      <th>text</th>\n",
       "      <th>sen_length</th>\n",
       "      <th>candidate_id</th>\n",
       "    </tr>\n",
       "  </thead>\n",
       "  <tbody>\n",
       "    <tr>\n",
       "      <th>0</th>\n",
       "      <td>1</td>\n",
       "      <td>A1BG</td>\n",
       "      <td>10321</td>\n",
       "      <td>CRISP3</td>\n",
       "      <td>II_literature|hetio-dag</td>\n",
       "      <td>5</td>\n",
       "      <td>1</td>\n",
       "      <td>1</td>\n",
       "      <td>3</td>\n",
       "      <td>0.436432</td>\n",
       "      <td>0.0</td>\n",
       "      <td>0.0</td>\n",
       "      <td>2</td>\n",
       "      <td>65570963</td>\n",
       "      <td>Human CRISP-3 binds serum alpha(1)B-glycoprote...</td>\n",
       "      <td>11</td>\n",
       "      <td>20992573</td>\n",
       "    </tr>\n",
       "    <tr>\n",
       "      <th>1</th>\n",
       "      <td>1</td>\n",
       "      <td>A1BG</td>\n",
       "      <td>10321</td>\n",
       "      <td>CRISP3</td>\n",
       "      <td>II_literature|hetio-dag</td>\n",
       "      <td>5</td>\n",
       "      <td>1</td>\n",
       "      <td>1</td>\n",
       "      <td>3</td>\n",
       "      <td>0.436432</td>\n",
       "      <td>0.0</td>\n",
       "      <td>0.0</td>\n",
       "      <td>3</td>\n",
       "      <td>65570968</td>\n",
       "      <td>BACKGROUND: CRISP-3 was previously shown to be...</td>\n",
       "      <td>21</td>\n",
       "      <td>20930188</td>\n",
       "    </tr>\n",
       "  </tbody>\n",
       "</table>\n",
       "</div>"
      ],
      "text/plain": [
       "   gene1_id gene1_name  gene2_id gene2_name                  sources  \\\n",
       "0         1       A1BG     10321     CRISP3  II_literature|hetio-dag   \n",
       "1         1       A1BG     10321     CRISP3  II_literature|hetio-dag   \n",
       "\n",
       "   n_sentences  hetionet  has_sentence  split  partition_rank  \\\n",
       "0            5         1             1      3        0.436432   \n",
       "1            5         1             1      3        0.436432   \n",
       "\n",
       "   compound_mention_count  disease_mention_count  gene_mention_count  \\\n",
       "0                     0.0                    0.0                   2   \n",
       "1                     0.0                    0.0                   3   \n",
       "\n",
       "   sentence_id                                               text  sen_length  \\\n",
       "0     65570963  Human CRISP-3 binds serum alpha(1)B-glycoprote...          11   \n",
       "1     65570968  BACKGROUND: CRISP-3 was previously shown to be...          21   \n",
       "\n",
       "   candidate_id  \n",
       "0      20992573  \n",
       "1      20930188  "
      ]
     },
     "execution_count": 6,
     "metadata": {},
     "output_type": "execute_result"
    }
   ],
   "source": [
    "total_candidates_df = pd.read_table(\"../../dataset_statistics/results/all_gig_candidates.tsv.xz\")\n",
    "total_candidates_df.head(2)"
   ]
  },
  {
   "cell_type": "code",
   "execution_count": 7,
   "metadata": {
    "ExecuteTime": {
     "end_time": "2019-07-20T21:30:53.545536Z",
     "start_time": "2019-07-20T21:30:53.523735Z"
    }
   },
   "outputs": [],
   "source": [
    "spreadsheet_names = {\n",
    "    'dev': '../../data/sentences/sentence_labels_dev.xlsx',\n",
    "    'test': '../../data/sentences/sentence_labels_test.xlsx'\n",
    "}"
   ]
  },
  {
   "cell_type": "code",
   "execution_count": 8,
   "metadata": {
    "ExecuteTime": {
     "end_time": "2019-07-20T21:30:54.812439Z",
     "start_time": "2019-07-20T21:30:53.547108Z"
    }
   },
   "outputs": [
    {
     "name": "stdout",
     "output_type": "stream",
     "text": [
      "Size of dev set: 500\n",
      "Size of test set: 500\n"
     ]
    }
   ],
   "source": [
    "candidate_dfs = {\n",
    "    key:load_candidate_dataframes(spreadsheet_names[key], \"curated_gig\")\n",
    "    for key in spreadsheet_names\n",
    "}\n",
    "\n",
    "for key in candidate_dfs:\n",
    "    print(\"Size of {} set: {}\".format(key, candidate_dfs[key].shape[0]))"
   ]
  },
  {
   "cell_type": "code",
   "execution_count": 10,
   "metadata": {
    "ExecuteTime": {
     "end_time": "2019-07-20T21:31:15.730768Z",
     "start_time": "2019-07-20T21:31:13.114704Z"
    }
   },
   "outputs": [
    {
     "data": {
      "text/html": [
       "<div>\n",
       "<style scoped>\n",
       "    .dataframe tbody tr th:only-of-type {\n",
       "        vertical-align: middle;\n",
       "    }\n",
       "\n",
       "    .dataframe tbody tr th {\n",
       "        vertical-align: top;\n",
       "    }\n",
       "\n",
       "    .dataframe thead th {\n",
       "        text-align: right;\n",
       "    }\n",
       "</style>\n",
       "<table border=\"1\" class=\"dataframe\">\n",
       "  <thead>\n",
       "    <tr style=\"text-align: right;\">\n",
       "      <th></th>\n",
       "      <th>pos_class_marginals</th>\n",
       "      <th>neg_class_marginals</th>\n",
       "      <th>candidate_id</th>\n",
       "      <th>labels</th>\n",
       "    </tr>\n",
       "  </thead>\n",
       "  <tbody>\n",
       "    <tr>\n",
       "      <th>0</th>\n",
       "      <td>0.01</td>\n",
       "      <td>0.99</td>\n",
       "      <td>25627</td>\n",
       "      <td>0</td>\n",
       "    </tr>\n",
       "    <tr>\n",
       "      <th>1</th>\n",
       "      <td>0.01</td>\n",
       "      <td>0.99</td>\n",
       "      <td>25628</td>\n",
       "      <td>0</td>\n",
       "    </tr>\n",
       "  </tbody>\n",
       "</table>\n",
       "</div>"
      ],
      "text/plain": [
       "   pos_class_marginals  neg_class_marginals  candidate_id  labels\n",
       "0                 0.01                 0.99         25627       0\n",
       "1                 0.01                 0.99         25628       0"
      ]
     },
     "execution_count": 10,
     "metadata": {},
     "output_type": "execute_result"
    }
   ],
   "source": [
    "distant_supervision_marginals = (\n",
    "    pd.read_table(\"../../label_sampling_experiment/results/GiG/marginals/baseline_marginals.tsv.xz\")\n",
    "    .assign(labels=lambda x: x.pos_class_marginals.apply(lambda y: 1 if y > 0.5 else 0))\n",
    ")\n",
    "distant_supervision_marginals.head(2)"
   ]
  },
  {
   "cell_type": "code",
   "execution_count": 11,
   "metadata": {
    "ExecuteTime": {
     "end_time": "2019-07-20T21:31:15.890836Z",
     "start_time": "2019-07-20T21:31:15.732340Z"
    }
   },
   "outputs": [],
   "source": [
    "word_dict = pd.read_table(\"../../word_vector_experiment/results/gene_interacts_gene_word_dict.tsv\", keep_default_na=False)\n",
    "reverse_word_dict = dict(zip(word_dict.index, word_dict.word))\n",
    "word_dict = dict(zip(word_dict.word, word_dict.index))"
   ]
  },
  {
   "cell_type": "code",
   "execution_count": 12,
   "metadata": {
    "ExecuteTime": {
     "end_time": "2019-07-20T21:31:19.621691Z",
     "start_time": "2019-07-20T21:31:19.114745Z"
    }
   },
   "outputs": [],
   "source": [
    "curated_ids = {}\n",
    "curated_ids['train'] = dict(zip(distant_supervision_marginals.candidate_id, distant_supervision_marginals.labels))\n",
    "curated_ids['dev'] = dict(zip(candidate_dfs['dev'].candidate_id, candidate_dfs['dev'].curated_gig))\n",
    "curated_ids['test'] = dict(zip(candidate_dfs['test'].candidate_id, candidate_dfs['test'].curated_gig))"
   ]
  },
  {
   "cell_type": "code",
   "execution_count": null,
   "metadata": {
    "ExecuteTime": {
     "start_time": "2019-07-20T21:32:48.070Z"
    }
   },
   "outputs": [
    {
     "data": {
      "application/vnd.jupyter.widget-view+json": {
       "model_id": "9fa609d900814bce85df3665f0f51524",
       "version_major": 2,
       "version_minor": 0
      },
      "text/html": [
       "<p>Failed to display Jupyter Widget of type <code>HBox</code>.</p>\n",
       "<p>\n",
       "  If you're reading this message in the Jupyter Notebook or JupyterLab Notebook, it may mean\n",
       "  that the widgets JavaScript is still loading. If this message persists, it\n",
       "  likely means that the widgets JavaScript library is either not installed or\n",
       "  not enabled. See the <a href=\"https://ipywidgets.readthedocs.io/en/stable/user_install.html\">Jupyter\n",
       "  Widgets Documentation</a> for setup instructions.\n",
       "</p>\n",
       "<p>\n",
       "  If you're reading this message in another frontend (for example, a static\n",
       "  rendering on GitHub or <a href=\"https://nbviewer.jupyter.org/\">NBViewer</a>),\n",
       "  it may mean that your frontend doesn't currently support widgets.\n",
       "</p>\n"
      ],
      "text/plain": [
       "HBox(children=(IntProgress(value=1, bar_style='info', max=1), HTML(value='')))"
      ]
     },
     "metadata": {},
     "output_type": "display_data"
    },
    {
     "data": {
      "application/vnd.jupyter.widget-view+json": {
       "model_id": "ee53af65f3014ec39f261e43f89d63d6",
       "version_major": 2,
       "version_minor": 0
      },
      "text/html": [
       "<p>Failed to display Jupyter Widget of type <code>HBox</code>.</p>\n",
       "<p>\n",
       "  If you're reading this message in the Jupyter Notebook or JupyterLab Notebook, it may mean\n",
       "  that the widgets JavaScript is still loading. If this message persists, it\n",
       "  likely means that the widgets JavaScript library is either not installed or\n",
       "  not enabled. See the <a href=\"https://ipywidgets.readthedocs.io/en/stable/user_install.html\">Jupyter\n",
       "  Widgets Documentation</a> for setup instructions.\n",
       "</p>\n",
       "<p>\n",
       "  If you're reading this message in another frontend (for example, a static\n",
       "  rendering on GitHub or <a href=\"https://nbviewer.jupyter.org/\">NBViewer</a>),\n",
       "  it may mean that your frontend doesn't currently support widgets.\n",
       "</p>\n"
      ],
      "text/plain": [
       "HBox(children=(IntProgress(value=1, bar_style='info', max=1), HTML(value='')))"
      ]
     },
     "metadata": {},
     "output_type": "display_data"
    },
    {
     "data": {
      "application/vnd.jupyter.widget-view+json": {
       "model_id": "73d6cafd319c4559b32781df11c1fa76",
       "version_major": 2,
       "version_minor": 0
      },
      "text/html": [
       "<p>Failed to display Jupyter Widget of type <code>HBox</code>.</p>\n",
       "<p>\n",
       "  If you're reading this message in the Jupyter Notebook or JupyterLab Notebook, it may mean\n",
       "  that the widgets JavaScript is still loading. If this message persists, it\n",
       "  likely means that the widgets JavaScript library is either not installed or\n",
       "  not enabled. See the <a href=\"https://ipywidgets.readthedocs.io/en/stable/user_install.html\">Jupyter\n",
       "  Widgets Documentation</a> for setup instructions.\n",
       "</p>\n",
       "<p>\n",
       "  If you're reading this message in another frontend (for example, a static\n",
       "  rendering on GitHub or <a href=\"https://nbviewer.jupyter.org/\">NBViewer</a>),\n",
       "  it may mean that your frontend doesn't currently support widgets.\n",
       "</p>\n"
      ],
      "text/plain": [
       "HBox(children=(IntProgress(value=1, bar_style='info', max=1), HTML(value='')))"
      ]
     },
     "metadata": {},
     "output_type": "display_data"
    }
   ],
   "source": [
    "search_regex = rf'(\\b{word_dict[\"~~[[2\"]}\\b.+\\b{word_dict[\"2]]~~\"]}\\b,)'\n",
    "search_regex += rf'|(\\b{word_dict[\"~~[[1\"]}\\b.+\\b{word_dict[\"1]]~~\"]}\\b,)'\n",
    "\n",
    "all_sentences = pd.read_table(\"../../word_vector_experiment/results/all_embedded_gg_sentences.tsv.xz\", chunksize=1e6)\n",
    "with open(\"training.txt\", \"w\") as train, open(\"dev.txt\", \"w\") as dev:\n",
    "    with open(\"test.txt\", \"w\") as test, open(\"all_gg_sentences.txt\", \"w\") as all_sen:\n",
    "        for chunk in all_sentences:\n",
    "            for index, row in tqdm_notebook(chunk.iterrows()):\n",
    "                cand_str = \",\".join(map(str, row.dropna().astype(int).values))\n",
    "                pruned_str = re.sub(search_regex, \"\", cand_str)\n",
    "                values = list(map(int, pruned_str.split(\",\")))\n",
    "                \n",
    "                if row['candidate_id'] in curated_ids['train']:\n",
    "                    train.write(f\"__label__{curated_ids['train'][row['candidate_id']]}\\t\")\n",
    "                    train.write(\"\\t\".join([reverse_word_dict[val] for val in values[:-2]]))\n",
    "                    train.write(\"\\n\")\n",
    "                    \n",
    "                elif row['candidate_id'] in curated_ids['dev']:\n",
    "                    dev.write(f\"__label__{curated_ids['dev'][row['candidate_id']]}\\t\")\n",
    "                    dev.write(\"\\t\".join([reverse_word_dict[val] for val in values[:-2]]))\n",
    "                    dev.write(\"\\n\")\n",
    "                    \n",
    "                elif row['candidate_id'] in curated_ids['test']:\n",
    "                    test.write(f\"__label__{curated_ids['test'][row['candidate_id']]}\\t\")\n",
    "                    test.write(\"\\t\".join([reverse_word_dict[val] for val in values[:-2]]))\n",
    "                    test.write(\"\\n\")\n",
    "\n",
    "                all_sen.write(f\"__label__{0}\\t\")\n",
    "                all_sen.write(\"\\t\".join([reverse_word_dict[val] for val in values[:-2]]))\n",
    "                all_sen.write(\"\\n\")"
   ]
  },
  {
   "cell_type": "code",
   "execution_count": 16,
   "metadata": {
    "ExecuteTime": {
     "end_time": "2019-07-21T17:16:31.894554Z",
     "start_time": "2019-07-21T17:07:03.903353Z"
    }
   },
   "outputs": [
    {
     "data": {
      "text/plain": [
       "0"
      ]
     },
     "execution_count": 16,
     "metadata": {},
     "output_type": "execute_result"
    }
   ],
   "source": [
    "os.system(\"../../../../../fastText/fasttext supervised -input training.txt -output gig_model -lr 0.005 -epoch 50 -dim 300 -wordNgrams 2\")\n",
    "os.system(\"../../../../../fastText/fasttext predict-prob gig_model.bin dev.txt > dev_predictions.tsv\")\n",
    "os.system(\"../../../../../fastText/fasttext predict-prob gig_model.bin test.txt > test_predictions.tsv\")"
   ]
  },
  {
   "cell_type": "code",
   "execution_count": 19,
   "metadata": {
    "ExecuteTime": {
     "end_time": "2019-07-21T17:18:19.820826Z",
     "start_time": "2019-07-21T17:18:19.794642Z"
    }
   },
   "outputs": [
    {
     "data": {
      "text/plain": [
       "0.09069850973015092"
      ]
     },
     "execution_count": 19,
     "metadata": {},
     "output_type": "execute_result"
    }
   ],
   "source": [
    "precision, recall, _ = precision_recall_curve(\n",
    "    candidate_dfs['dev'].curated_gig,\n",
    "    pd.read_table('dev_predictions.tsv', header=None, sep=\" \")[1]\n",
    ")\n",
    "auc(recall, precision)"
   ]
  },
  {
   "cell_type": "code",
   "execution_count": 20,
   "metadata": {
    "ExecuteTime": {
     "end_time": "2019-07-21T17:18:25.883594Z",
     "start_time": "2019-07-21T17:18:25.719978Z"
    }
   },
   "outputs": [
    {
     "data": {
      "text/plain": [
       "[<matplotlib.lines.Line2D at 0x7f65bc7720f0>]"
      ]
     },
     "execution_count": 20,
     "metadata": {},
     "output_type": "execute_result"
    },
    {
     "data": {
      "image/png": "[encoded data removed]",
      "text/plain": [
       "<matplotlib.figure.Figure at 0x7f6581d58c88>"
      ]
     },
     "metadata": {},
     "output_type": "display_data"
    }
   ],
   "source": [
    "plt.plot(recall, precision)"
   ]
  },
  {
   "cell_type": "code",
   "execution_count": 22,
   "metadata": {
    "ExecuteTime": {
     "end_time": "2019-07-21T17:18:42.397113Z",
     "start_time": "2019-07-21T17:18:42.372534Z"
    }
   },
   "outputs": [
    {
     "data": {
      "text/plain": [
       "0.3853598484848485"
      ]
     },
     "execution_count": 22,
     "metadata": {},
     "output_type": "execute_result"
    }
   ],
   "source": [
    "fpr, tpr, _ = roc_curve(\n",
    "    candidate_dfs['dev'].curated_gig,\n",
    "    pd.read_table('dev_predictions.tsv', header=None, sep=\" \")[1]\n",
    ")\n",
    "auc(fpr, tpr)"
   ]
  },
  {
   "cell_type": "code",
   "execution_count": 23,
   "metadata": {
    "ExecuteTime": {
     "end_time": "2019-07-21T17:18:43.816375Z",
     "start_time": "2019-07-21T17:18:43.689778Z"
    }
   },
   "outputs": [
    {
     "data": {
      "text/plain": [
       "[<matplotlib.lines.Line2D at 0x7f65816277b8>]"
      ]
     },
     "execution_count": 23,
     "metadata": {},
     "output_type": "execute_result"
    },
    {
     "data": {
      "image/png": "[encoded data removed]",
      "text/plain": [
       "<matplotlib.figure.Figure at 0x7f6581757668>"
      ]
     },
     "metadata": {},
     "output_type": "display_data"
    }
   ],
   "source": [
    "plt.plot(fpr, tpr)"
   ]
  },
  {
   "cell_type": "code",
   "execution_count": 27,
   "metadata": {
    "ExecuteTime": {
     "end_time": "2019-07-21T17:22:31.254513Z",
     "start_time": "2019-07-21T17:19:17.626602Z"
    }
   },
   "outputs": [
    {
     "data": {
      "text/plain": [
       "0"
      ]
     },
     "execution_count": 27,
     "metadata": {},
     "output_type": "execute_result"
    }
   ],
   "source": [
    "os.system(\"../../../../../fastText/fasttext predict-prob gig_model.bin all_gg_sentences.txt > all_gg_sentences_predictions.tsv\")"
   ]
  },
  {
   "cell_type": "code",
   "execution_count": 28,
   "metadata": {
    "ExecuteTime": {
     "end_time": "2019-07-21T17:23:43.143415Z",
     "start_time": "2019-07-21T17:22:31.256501Z"
    }
   },
   "outputs": [
    {
     "data": {
      "text/html": [
       "<div>\n",
       "<style scoped>\n",
       "    .dataframe tbody tr th:only-of-type {\n",
       "        vertical-align: middle;\n",
       "    }\n",
       "\n",
       "    .dataframe tbody tr th {\n",
       "        vertical-align: top;\n",
       "    }\n",
       "\n",
       "    .dataframe thead th {\n",
       "        text-align: right;\n",
       "    }\n",
       "</style>\n",
       "<table border=\"1\" class=\"dataframe\">\n",
       "  <thead>\n",
       "    <tr style=\"text-align: right;\">\n",
       "      <th></th>\n",
       "      <th>label</th>\n",
       "      <th>predictions</th>\n",
       "      <th>candidate_id</th>\n",
       "    </tr>\n",
       "  </thead>\n",
       "  <tbody>\n",
       "    <tr>\n",
       "      <th>0</th>\n",
       "      <td>__label__0</td>\n",
       "      <td>0.954450</td>\n",
       "      <td>25627</td>\n",
       "    </tr>\n",
       "    <tr>\n",
       "      <th>1</th>\n",
       "      <td>__label__0</td>\n",
       "      <td>0.971491</td>\n",
       "      <td>25628</td>\n",
       "    </tr>\n",
       "  </tbody>\n",
       "</table>\n",
       "</div>"
      ],
      "text/plain": [
       "        label  predictions  candidate_id\n",
       "0  __label__0     0.954450         25627\n",
       "1  __label__0     0.971491         25628"
      ]
     },
     "execution_count": 28,
     "metadata": {},
     "output_type": "execute_result"
    }
   ],
   "source": [
    "predictions_df = pd.read_table(\"all_gg_sentences_predictions.tsv\", header=None, names=[\"label\", \"predictions\"], sep=\" \")\n",
    "predictions_df['candidate_id'] = pd.read_table(\"../../word_vector_experiment/results/all_embedded_gg_sentences.tsv.xz\", usecols=[\"candidate_id\"]).candidate_id.values\n",
    "predictions_df.head(2)"
   ]
  },
  {
   "cell_type": "code",
   "execution_count": 29,
   "metadata": {
    "ExecuteTime": {
     "end_time": "2019-07-21T17:25:24.161013Z",
     "start_time": "2019-07-21T17:25:18.962715Z"
    }
   },
   "outputs": [
    {
     "data": {
      "text/html": [
       "<div>\n",
       "<style scoped>\n",
       "    .dataframe tbody tr th:only-of-type {\n",
       "        vertical-align: middle;\n",
       "    }\n",
       "\n",
       "    .dataframe tbody tr th {\n",
       "        vertical-align: top;\n",
       "    }\n",
       "\n",
       "    .dataframe thead th {\n",
       "        text-align: right;\n",
       "    }\n",
       "</style>\n",
       "<table border=\"1\" class=\"dataframe\">\n",
       "  <thead>\n",
       "    <tr style=\"text-align: right;\">\n",
       "      <th></th>\n",
       "      <th>gene1_id</th>\n",
       "      <th>gene2_id</th>\n",
       "      <th>candidate_id</th>\n",
       "      <th>predictions</th>\n",
       "    </tr>\n",
       "  </thead>\n",
       "  <tbody>\n",
       "    <tr>\n",
       "      <th>0</th>\n",
       "      <td>1</td>\n",
       "      <td>10321</td>\n",
       "      <td>20930188</td>\n",
       "      <td>0.976340</td>\n",
       "    </tr>\n",
       "    <tr>\n",
       "      <th>1</th>\n",
       "      <td>1</td>\n",
       "      <td>10321</td>\n",
       "      <td>20930177</td>\n",
       "      <td>0.989237</td>\n",
       "    </tr>\n",
       "  </tbody>\n",
       "</table>\n",
       "</div>"
      ],
      "text/plain": [
       "   gene1_id  gene2_id  candidate_id  predictions\n",
       "0         1     10321      20930188     0.976340\n",
       "1         1     10321      20930177     0.989237"
      ]
     },
     "execution_count": 29,
     "metadata": {},
     "output_type": "execute_result"
    }
   ],
   "source": [
    "final_pred_df = (\n",
    "    total_candidates_df\n",
    "    [[\"gene1_id\", \"gene2_id\", \"candidate_id\"]]\n",
    "    .merge(predictions_df[[\"predictions\", \"candidate_id\"]])\n",
    ")\n",
    "final_pred_df.head(2)"
   ]
  },
  {
   "cell_type": "code",
   "execution_count": 30,
   "metadata": {
    "ExecuteTime": {
     "end_time": "2019-07-21T17:25:28.053257Z",
     "start_time": "2019-07-21T17:25:27.234984Z"
    }
   },
   "outputs": [
    {
     "data": {
      "text/html": [
       "<div>\n",
       "<style scoped>\n",
       "    .dataframe tbody tr th:only-of-type {\n",
       "        vertical-align: middle;\n",
       "    }\n",
       "\n",
       "    .dataframe tbody tr th {\n",
       "        vertical-align: top;\n",
       "    }\n",
       "\n",
       "    .dataframe thead th {\n",
       "        text-align: right;\n",
       "    }\n",
       "</style>\n",
       "<table border=\"1\" class=\"dataframe\">\n",
       "  <thead>\n",
       "    <tr style=\"text-align: right;\">\n",
       "      <th></th>\n",
       "      <th>gene1_id</th>\n",
       "      <th>gene2_id</th>\n",
       "      <th>predictions</th>\n",
       "    </tr>\n",
       "  </thead>\n",
       "  <tbody>\n",
       "    <tr>\n",
       "      <th>0</th>\n",
       "      <td>1</td>\n",
       "      <td>1</td>\n",
       "      <td>22.815910</td>\n",
       "    </tr>\n",
       "    <tr>\n",
       "      <th>1</th>\n",
       "      <td>1</td>\n",
       "      <td>2</td>\n",
       "      <td>0.844404</td>\n",
       "    </tr>\n",
       "  </tbody>\n",
       "</table>\n",
       "</div>"
      ],
      "text/plain": [
       "   gene1_id  gene2_id  predictions\n",
       "0         1         1    22.815910\n",
       "1         1         2     0.844404"
      ]
     },
     "execution_count": 30,
     "metadata": {},
     "output_type": "execute_result"
    }
   ],
   "source": [
    "added_scores_df = (\n",
    "    final_pred_df\n",
    "    .groupby([\"gene1_id\", \"gene2_id\"])\n",
    "    .aggregate({\"predictions\": 'sum'})\n",
    "    .reset_index()\n",
    ")\n",
    "added_scores_df.head(2)"
   ]
  },
  {
   "cell_type": "code",
   "execution_count": 33,
   "metadata": {
    "ExecuteTime": {
     "end_time": "2019-07-21T17:26:52.610373Z",
     "start_time": "2019-07-21T17:25:57.253762Z"
    }
   },
   "outputs": [
    {
     "data": {
      "text/html": [
       "<div>\n",
       "<style scoped>\n",
       "    .dataframe tbody tr th:only-of-type {\n",
       "        vertical-align: middle;\n",
       "    }\n",
       "\n",
       "    .dataframe tbody tr th {\n",
       "        vertical-align: top;\n",
       "    }\n",
       "\n",
       "    .dataframe thead th {\n",
       "        text-align: right;\n",
       "    }\n",
       "</style>\n",
       "<table border=\"1\" class=\"dataframe\">\n",
       "  <thead>\n",
       "    <tr style=\"text-align: right;\">\n",
       "      <th></th>\n",
       "      <th>gene1_id</th>\n",
       "      <th>gene2_id</th>\n",
       "      <th>predictions</th>\n",
       "      <th>final_score</th>\n",
       "    </tr>\n",
       "  </thead>\n",
       "  <tbody>\n",
       "    <tr>\n",
       "      <th>0</th>\n",
       "      <td>1</td>\n",
       "      <td>1</td>\n",
       "      <td>22.815910</td>\n",
       "      <td>179.644016</td>\n",
       "    </tr>\n",
       "    <tr>\n",
       "      <th>1</th>\n",
       "      <td>1</td>\n",
       "      <td>2</td>\n",
       "      <td>0.844404</td>\n",
       "      <td>2.177841</td>\n",
       "    </tr>\n",
       "  </tbody>\n",
       "</table>\n",
       "</div>"
      ],
      "text/plain": [
       "   gene1_id  gene2_id  predictions  final_score\n",
       "0         1         1    22.815910   179.644016\n",
       "1         1         2     0.844404     2.177841"
      ]
     },
     "execution_count": 33,
     "metadata": {},
     "output_type": "execute_result"
    }
   ],
   "source": [
    "total_score = added_scores_df.predictions.sum()\n",
    "gene_scores = added_scores_df.groupby(\"gene1_id\").agg({\"predictions\":\"sum\"}).reset_index()\n",
    "gene_scores = dict(zip(gene_scores.gene1_id, gene_scores.predictions))\n",
    "drug_scores = added_scores_df.groupby(\"gene2_id\").agg({\"predictions\":\"sum\"}).reset_index()\n",
    "drug_scores = dict(zip(drug_scores.gene2_id, drug_scores.predictions))\n",
    "\n",
    "alpha=0.65\n",
    "\n",
    "final_scores_df = added_scores_df.assign(\n",
    "    final_score=(\n",
    "        added_scores_df.apply(\n",
    "            lambda x: pd.np.exp(\n",
    "                    alpha*pd.np.log(x['predictions']) + (1-alpha)*(\n",
    "                    pd.np.log(x['predictions']) + pd.np.log(total_score) - \n",
    "                    pd.np.log(gene_scores[x['gene1_id']]) - pd.np.log(drug_scores[x['gene2_id']])\n",
    "                )\n",
    "            ), \n",
    "            axis=1\n",
    "        )\n",
    "    )\n",
    ")\n",
    "final_scores_df.head(2)"
   ]
  },
  {
   "cell_type": "code",
   "execution_count": 35,
   "metadata": {
    "ExecuteTime": {
     "end_time": "2019-07-21T17:30:19.388702Z",
     "start_time": "2019-07-21T17:30:15.815532Z"
    }
   },
   "outputs": [
    {
     "data": {
      "text/html": [
       "<div>\n",
       "<style scoped>\n",
       "    .dataframe tbody tr th:only-of-type {\n",
       "        vertical-align: middle;\n",
       "    }\n",
       "\n",
       "    .dataframe tbody tr th {\n",
       "        vertical-align: top;\n",
       "    }\n",
       "\n",
       "    .dataframe thead th {\n",
       "        text-align: right;\n",
       "    }\n",
       "</style>\n",
       "<table border=\"1\" class=\"dataframe\">\n",
       "  <thead>\n",
       "    <tr style=\"text-align: right;\">\n",
       "      <th></th>\n",
       "      <th>gene1_id</th>\n",
       "      <th>gene2_id</th>\n",
       "      <th>predictions</th>\n",
       "      <th>final_score</th>\n",
       "      <th>hetionet</th>\n",
       "    </tr>\n",
       "  </thead>\n",
       "  <tbody>\n",
       "    <tr>\n",
       "      <th>0</th>\n",
       "      <td>1</td>\n",
       "      <td>1</td>\n",
       "      <td>22.815910</td>\n",
       "      <td>179.644016</td>\n",
       "      <td>0</td>\n",
       "    </tr>\n",
       "    <tr>\n",
       "      <th>34</th>\n",
       "      <td>1</td>\n",
       "      <td>2</td>\n",
       "      <td>0.844404</td>\n",
       "      <td>2.177841</td>\n",
       "      <td>0</td>\n",
       "    </tr>\n",
       "  </tbody>\n",
       "</table>\n",
       "</div>"
      ],
      "text/plain": [
       "    gene1_id  gene2_id  predictions  final_score  hetionet\n",
       "0          1         1    22.815910   179.644016         0\n",
       "34         1         2     0.844404     2.177841         0"
      ]
     },
     "execution_count": 35,
     "metadata": {},
     "output_type": "execute_result"
    }
   ],
   "source": [
    "score_with_labels_df = (\n",
    "    final_scores_df\n",
    "    .merge(\n",
    "        total_candidates_df[[\"gene1_id\", \"gene2_id\", \"hetionet\"]],\n",
    "        on=[\"gene1_id\", \"gene2_id\"]\n",
    "    )\n",
    "    .drop_duplicates()\n",
    ")\n",
    "score_with_labels_df.head(2)"
   ]
  },
  {
   "cell_type": "code",
   "execution_count": 37,
   "metadata": {
    "ExecuteTime": {
     "end_time": "2019-07-21T17:30:31.938656Z",
     "start_time": "2019-07-21T17:30:27.273846Z"
    }
   },
   "outputs": [],
   "source": [
    "score_with_labels_df.drop(\"predictions\", axis=1).to_csv(\"gg_edge_prediction_cocoscore.tsv\", sep=\"\\t\", index=False)"
   ]
  },
  {
   "cell_type": "code",
   "execution_count": 36,
   "metadata": {
    "ExecuteTime": {
     "end_time": "2019-07-21T17:30:19.795829Z",
     "start_time": "2019-07-21T17:30:19.391644Z"
    }
   },
   "outputs": [
    {
     "name": "stdout",
     "output_type": "stream",
     "text": [
      "0.7209766140840459\n",
      "0.09901961330531939\n"
     ]
    }
   ],
   "source": [
    "fpr, tpr, _ = roc_curve(score_with_labels_df.hetionet, score_with_labels_df.final_score)\n",
    "print(auc(fpr, tpr))\n",
    "\n",
    "precision, recall, _ = precision_recall_curve(score_with_labels_df.hetionet, score_with_labels_df.final_score)\n",
    "print(auc(recall, precision))"
   ]
  }
 ],
 "metadata": {
  "kernelspec": {
   "display_name": "Python [conda env:snorkeling]",
   "language": "python",
   "name": "conda-env-snorkeling-py"
  },
  "language_info": {
   "codemirror_mode": {
    "name": "ipython",
    "version": 3
   },
   "file_extension": ".py",
   "mimetype": "text/x-python",
   "name": "python",
   "nbconvert_exporter": "python",
   "pygments_lexer": "ipython3",
   "version": "3.6.4"
  }
 },
 "nbformat": 4,
 "nbformat_minor": 2
}
