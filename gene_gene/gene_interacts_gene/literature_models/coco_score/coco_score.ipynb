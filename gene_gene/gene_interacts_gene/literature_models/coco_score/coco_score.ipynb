{
 "cells": [
  {
   "cell_type": "markdown",
   "metadata": {},
   "source": [
    "# CoCoScore Implementation"
   ]
  },
  {
   "cell_type": "markdown",
   "metadata": {},
   "source": [
    "This notebook consists of implementing the [CoCoScore](https://www.biorxiv.org/content/10.1101/444398v1) literature model for comparison. We report performance as area under the precision recall curve (AUPR) and area under the receiver operating curve (AUROC). In both cases the greater the area the better the model is."
   ]
  },
  {
   "cell_type": "code",
   "execution_count": 1,
   "metadata": {
    "ExecuteTime": {
     "end_time": "2020-01-20T00:14:00.952161Z",
     "start_time": "2020-01-20T00:14:00.366440Z"
    }
   },
   "outputs": [],
   "source": [
    "%load_ext autoreload\n",
    "%autoreload 2\n",
    "%matplotlib inline\n",
    "\n",
    "from collections import defaultdict\n",
    "import os\n",
    "import sys\n",
    "\n",
    "sys.path.append(os.path.abspath('../../../../modules'))\n",
    "\n",
    "import pandas as pd\n",
    "import matplotlib.pyplot as plt\n",
    "from sklearn.metrics import roc_curve, auc, f1_score, precision_recall_curve, accuracy_score, confusion_matrix\n",
    "from tqdm import tqdm_notebook"
   ]
  },
  {
   "cell_type": "code",
   "execution_count": 2,
   "metadata": {
    "ExecuteTime": {
     "end_time": "2020-01-20T00:14:00.963890Z",
     "start_time": "2020-01-20T00:14:00.953487Z"
    }
   },
   "outputs": [],
   "source": [
    "from utils.notebook_utils.dataframe_helper import load_candidate_dataframes"
   ]
  },
  {
   "cell_type": "code",
   "execution_count": null,
   "metadata": {
    "ExecuteTime": {
     "start_time": "2020-01-20T00:14:00.365Z"
    }
   },
   "outputs": [],
   "source": [
    "total_candidates_df = pd.read_csv(\"input/all_gig_candidates.tsv.xz\", sep=\"\\t\").sort_values(\"candidate_id\")\n",
    "total_candidates_df.head(2)"
   ]
  },
  {
   "cell_type": "code",
   "execution_count": null,
   "metadata": {
    "ExecuteTime": {
     "start_time": "2020-01-20T00:14:00.367Z"
    }
   },
   "outputs": [],
   "source": [
    "spreadsheet_names = {\n",
    "    'dev': '../../data/sentences/sentence_labels_dev.xlsx',\n",
    "    'test': '../../data/sentences/sentence_labels_test.xlsx'\n",
    "}"
   ]
  },
  {
   "cell_type": "code",
   "execution_count": null,
   "metadata": {
    "ExecuteTime": {
     "start_time": "2020-01-20T00:14:00.370Z"
    }
   },
   "outputs": [],
   "source": [
    "candidate_dfs = {\n",
    "    key:load_candidate_dataframes(spreadsheet_names[key], \"curated_gig\")\n",
    "    for key in spreadsheet_names\n",
    "}\n",
    "\n",
    "for key in candidate_dfs:\n",
    "    print(\"Size of {} set: {}\".format(key, candidate_dfs[key].shape[0]))"
   ]
  },
  {
   "cell_type": "code",
   "execution_count": null,
   "metadata": {
    "ExecuteTime": {
     "start_time": "2020-01-20T00:14:00.373Z"
    }
   },
   "outputs": [],
   "source": [
    "distant_supervision_marginals = pd.read_csv(\"input/baseline_sampled.tsv.xz\", sep=\"\\t\")\n",
    "distant_supervision_marginals.head(2)"
   ]
  },
  {
   "cell_type": "code",
   "execution_count": null,
   "metadata": {
    "ExecuteTime": {
     "start_time": "2020-01-20T00:14:00.375Z"
    }
   },
   "outputs": [],
   "source": [
    "word_dict = pd.read_csv(\"input/gene_interacts_gene_word_dict.tsv\", sep=\"\\t\").assign(index=lambda x: x.index + 2)\n",
    "word_dict.head()"
   ]
  },
  {
   "cell_type": "code",
   "execution_count": null,
   "metadata": {
    "ExecuteTime": {
     "start_time": "2020-01-20T00:14:00.380Z"
    }
   },
   "outputs": [],
   "source": [
    "reverse_word_dict = dict(zip(word_dict['index'].values.tolist(), word_dict.word))\n",
    "\n",
    "train_marginal_dict = dict(zip(\n",
    "    distant_supervision_marginals.candidate_id, \n",
    "    distant_supervision_marginals[distant_supervision_marginals.columns[0]]\n",
    "))\n",
    "\n",
    "tune_marginal_dict = dict(zip(\n",
    "    candidate_dfs['dev'].candidate_id.values,\n",
    "    candidate_dfs['dev'].curated_gig.values\n",
    "))\n",
    "\n",
    "\n",
    "test_marginal_dict = dict(zip(\n",
    "    candidate_dfs['test'].candidate_id.values,\n",
    "    candidate_dfs['test'].curated_gig.values\n",
    "))"
   ]
  },
  {
   "cell_type": "code",
   "execution_count": null,
   "metadata": {
    "ExecuteTime": {
     "start_time": "2020-01-20T00:14:00.382Z"
    }
   },
   "outputs": [],
   "source": [
    "data_rows = []\n",
    "entity_one_start = word_dict.query(\"word=='~~[[1'\")['index'].values[0]\n",
    "entity_one_end = word_dict.query(\"word=='1]]~~'\")['index'].values[0]\n",
    "\n",
    "entity_two_start = word_dict.query(\"word=='~~[[2'\")['index'].values[0]\n",
    "entity_two_end = word_dict.query(\"word=='2]]~~'\")['index'].values[0]\n",
    "\n",
    "data = pd.read_csv(\n",
    "    \"input/all_embedded_gg_sentences.tsv.xz\", \n",
    "    chunksize=1000000, sep=\"\\t\",\n",
    "    iterator=True\n",
    ")\n",
    "\n",
    "with open(\"output/optimization_data/training.txt\", \"w\") as train:\n",
    "    with open(\"output/optimization_data/tune.txt\", \"w\") as tune:\n",
    "        with open(\"output/optimization_data/test.txt\", \"w\") as test:\n",
    "            with open(\"output/all_gg_sentences.txt\", \"w\") as all_sen:\n",
    "                for df in data:\n",
    "                    for idx, sen_df in tqdm_notebook(df.iterrows()):\n",
    "                        sen = sen_df.iloc[:-2].tolist()\n",
    "                        try:\n",
    "                            # remove entity mentions for coco_score\n",
    "                            del sen[sen.index(entity_one_start): sen.index(entity_one_end)+1]\n",
    "                            del sen[sen.index(entity_two_start): sen.index(entity_two_end)+1]\n",
    "\n",
    "                            embedded_sen = list(map(\n",
    "                                lambda x: reverse_word_dict[x] if x in reverse_word_dict else \"UNK\" if x == 1 else \"\",\n",
    "                                sen\n",
    "                            ))\n",
    "\n",
    "                            cand_id = int(sen_df.iloc[-2])\n",
    "                            if cand_id in train_marginal_dict:\n",
    "                                train.write(\n",
    "                                    f\"__label__{'1' if train_marginal_dict[cand_id]> 0.5 else '0'}\\t\" +\n",
    "                                    \"\\t\".join(embedded_sen)+ \n",
    "                                    \"\\n\"\n",
    "                                )\n",
    "                            if cand_id in tune_marginal_dict:\n",
    "                                tune.write(\n",
    "                                    f\"__label__{int(tune_marginal_dict[cand_id])}\\t\" +\n",
    "                                    \"\\t\".join(embedded_sen)+ \n",
    "                                    \"\\n\"\n",
    "                                )\n",
    "                            if cand_id in test_marginal_dict:\n",
    "                                test.write(\n",
    "                                    f\"__label__{int(test_marginal_dict[cand_id])}\\t\" +\n",
    "                                    \"\\t\".join(embedded_sen)+ \n",
    "                                    \"\\n\"\n",
    "                                )\n",
    "\n",
    "                            all_sen.write(\n",
    "                                    f\"__label__{cand_id}\\t\" +\n",
    "                                    \"\\t\".join(embedded_sen) + \n",
    "                                    \"\\n\"\n",
    "                                )\n",
    "\n",
    "                        except ValueError:\n",
    "                            print(idx)"
   ]
  },
  {
   "cell_type": "code",
   "execution_count": 10,
   "metadata": {
    "ExecuteTime": {
     "end_time": "2020-01-20T03:16:03.619758Z",
     "start_time": "2020-01-20T03:06:29.486545Z"
    }
   },
   "outputs": [
    {
     "data": {
      "text/plain": [
       "0"
      ]
     },
     "execution_count": 10,
     "metadata": {},
     "output_type": "execute_result"
    }
   ],
   "source": [
    "os.system(\n",
    "    \"../../../../../fastText/fasttext supervised \" + \n",
    "    \"-input output/optimization_data/training.txt -output output/gig_model \" +\n",
    "    \"-lr 0.005 -epoch 50 -dim 300 -wordNgrams 2\" \n",
    ")\n",
    "\n",
    "os.system(\n",
    "    \"../../../../../fastText/fasttext predict-prob \"+\n",
    "    \"output/gig_model.bin output/optimization_data/tune.txt \"+\n",
    "    \" > output/optimized_predictions/tune_predictions.tsv\"\n",
    ")\n",
    "\n",
    "os.system(\n",
    "    \"../../../../../fastText/fasttext predict-prob \"+\n",
    "    \"output/gig_model.bin output/optimization_data/test.txt \"+\n",
    "    \" > output/optimized_predictions/test_predictions.tsv\"\n",
    ")"
   ]
  },
  {
   "cell_type": "code",
   "execution_count": 11,
   "metadata": {
    "ExecuteTime": {
     "end_time": "2020-01-20T03:16:11.708293Z",
     "start_time": "2020-01-20T03:16:11.655600Z"
    }
   },
   "outputs": [
    {
     "data": {
      "text/plain": [
       "0.3966689555850803"
      ]
     },
     "execution_count": 11,
     "metadata": {},
     "output_type": "execute_result"
    }
   ],
   "source": [
    "tune_df = (\n",
    "    pd.read_csv(\n",
    "        'output/optimized_predictions/tune_predictions.tsv', \n",
    "        header=None, sep=\" \", \n",
    "        names=[\"label\", \"pred\"]\n",
    "    )\n",
    "    .assign(label=lambda x: x.label.apply(lambda sen: sen[-1]))\n",
    ")\n",
    "\n",
    "precision, recall, _ = precision_recall_curve(\n",
    "    tune_df.label.astype(int).values,\n",
    "    1-tune_df.pred.values\n",
    ")\n",
    "auc(recall, precision)"
   ]
  },
  {
   "cell_type": "code",
   "execution_count": 12,
   "metadata": {
    "ExecuteTime": {
     "end_time": "2020-01-20T03:16:15.818546Z",
     "start_time": "2020-01-20T03:16:15.503171Z"
    }
   },
   "outputs": [
    {
     "data": {
      "text/plain": [
       "[<matplotlib.lines.Line2D at 0x7f1b14be6e48>]"
      ]
     },
     "execution_count": 12,
     "metadata": {},
     "output_type": "execute_result"
    },
    {
     "data": {
      "image/png": "[encoded data removed]",
      "text/plain": [
       "<Figure size 432x288 with 1 Axes>"
      ]
     },
     "metadata": {
      "needs_background": "light"
     },
     "output_type": "display_data"
    }
   ],
   "source": [
    "plt.plot(recall, precision)"
   ]
  },
  {
   "cell_type": "code",
   "execution_count": 13,
   "metadata": {
    "ExecuteTime": {
     "end_time": "2020-01-20T03:16:22.118999Z",
     "start_time": "2020-01-20T03:16:22.100213Z"
    }
   },
   "outputs": [
    {
     "data": {
      "text/plain": [
       "0.7383094043706395"
      ]
     },
     "execution_count": 13,
     "metadata": {},
     "output_type": "execute_result"
    }
   ],
   "source": [
    "fpr, tpr, _ = roc_curve(\n",
    "    tune_df.label.astype(int).values,\n",
    "    1-tune_df.pred.values\n",
    ")\n",
    "auc(fpr, tpr)"
   ]
  },
  {
   "cell_type": "code",
   "execution_count": 14,
   "metadata": {
    "ExecuteTime": {
     "end_time": "2020-01-20T03:16:25.314752Z",
     "start_time": "2020-01-20T03:16:25.190886Z"
    }
   },
   "outputs": [
    {
     "data": {
      "text/plain": [
       "[<matplotlib.lines.Line2D at 0x7f1b14be2a90>]"
      ]
     },
     "execution_count": 14,
     "metadata": {},
     "output_type": "execute_result"
    },
    {
     "data": {
      "image/png": "[encoded data removed]",
      "text/plain": [
       "<Figure size 432x288 with 1 Axes>"
      ]
     },
     "metadata": {
      "needs_background": "light"
     },
     "output_type": "display_data"
    }
   ],
   "source": [
    "plt.plot(fpr, tpr)"
   ]
  },
  {
   "cell_type": "code",
   "execution_count": 17,
   "metadata": {
    "ExecuteTime": {
     "end_time": "2020-01-20T03:22:09.885566Z",
     "start_time": "2020-01-20T03:17:34.772067Z"
    }
   },
   "outputs": [
    {
     "data": {
      "text/plain": [
       "0"
      ]
     },
     "execution_count": 17,
     "metadata": {},
     "output_type": "execute_result"
    }
   ],
   "source": [
    "os.system(\n",
    "    \"../../../../../fastText/fasttext predict-prob \"+\n",
    "    \"output/gig_model.bin output/all_gg_sentences.txt \"+\n",
    "    \"> output/all_gg_sentences_predictions.tsv\"\n",
    ")"
   ]
  },
  {
   "cell_type": "code",
   "execution_count": 20,
   "metadata": {
    "ExecuteTime": {
     "end_time": "2020-01-20T03:26:44.148602Z",
     "start_time": "2020-01-20T03:25:47.213877Z"
    }
   },
   "outputs": [
    {
     "name": "stderr",
     "output_type": "stream",
     "text": [
      "/home/danich1/.local/lib/python3.6/site-packages/ipykernel_launcher.py:3: TqdmDeprecationWarning: This function will be removed in tqdm==5.0.0\n",
      "Please use `tqdm.notebook.tqdm` instead of `tqdm.tqdm_notebook`\n",
      "  This is separate from the ipykernel package so we can avoid doing imports until\n"
     ]
    },
    {
     "data": {
      "application/vnd.jupyter.widget-view+json": {
       "model_id": "d1989b864a774f40a7adebd0bf73840c",
       "version_major": 2,
       "version_minor": 0
      },
      "text/plain": [
       "HBox(children=(IntProgress(value=1, bar_style='info', max=1), HTML(value='')))"
      ]
     },
     "metadata": {},
     "output_type": "display_data"
    },
    {
     "name": "stdout",
     "output_type": "stream",
     "text": [
      "\n"
     ]
    }
   ],
   "source": [
    "cand_ids = []\n",
    "with open(\"output/all_gg_sentences.txt\", \"r\") as f:\n",
    "    for line in tqdm_notebook(f):\n",
    "        cand_ids.append(int(line.split(\"\\t\")[0].split(\"__\")[2]))"
   ]
  },
  {
   "cell_type": "code",
   "execution_count": 21,
   "metadata": {
    "ExecuteTime": {
     "end_time": "2020-01-20T03:27:01.352338Z",
     "start_time": "2020-01-20T03:26:52.987238Z"
    }
   },
   "outputs": [
    {
     "data": {
      "text/html": [
       "<div>\n",
       "<style scoped>\n",
       "    .dataframe tbody tr th:only-of-type {\n",
       "        vertical-align: middle;\n",
       "    }\n",
       "\n",
       "    .dataframe tbody tr th {\n",
       "        vertical-align: top;\n",
       "    }\n",
       "\n",
       "    .dataframe thead th {\n",
       "        text-align: right;\n",
       "    }\n",
       "</style>\n",
       "<table border=\"1\" class=\"dataframe\">\n",
       "  <thead>\n",
       "    <tr style=\"text-align: right;\">\n",
       "      <th></th>\n",
       "      <th>label</th>\n",
       "      <th>coco_pred</th>\n",
       "      <th>candidate_id</th>\n",
       "    </tr>\n",
       "  </thead>\n",
       "  <tbody>\n",
       "    <tr>\n",
       "      <th>0</th>\n",
       "      <td>__label__0</td>\n",
       "      <td>0.033027</td>\n",
       "      <td>25627</td>\n",
       "    </tr>\n",
       "    <tr>\n",
       "      <th>1</th>\n",
       "      <td>__label__0</td>\n",
       "      <td>0.011065</td>\n",
       "      <td>25628</td>\n",
       "    </tr>\n",
       "  </tbody>\n",
       "</table>\n",
       "</div>"
      ],
      "text/plain": [
       "        label  coco_pred  candidate_id\n",
       "0  __label__0   0.033027         25627\n",
       "1  __label__0   0.011065         25628"
      ]
     },
     "execution_count": 21,
     "metadata": {},
     "output_type": "execute_result"
    }
   ],
   "source": [
    "predictions_df = (\n",
    "    pd.read_csv(\n",
    "        \"output/all_gg_sentences_predictions.tsv\", \n",
    "        header=None, sep=\" \",\n",
    "        names=[\"label\", \"coco_pred\"]\n",
    "    )\n",
    "    .assign(candidate_id=cand_ids)\n",
    "    .assign(coco_pred=lambda x: 1 - x.coco_pred)\n",
    "    .assign(coco_pred=lambda x: x.coco_pred.clip(0,1) + 1e-5)\n",
    ")\n",
    "predictions_df.head(2)"
   ]
  },
  {
   "cell_type": "code",
   "execution_count": 22,
   "metadata": {
    "ExecuteTime": {
     "end_time": "2020-01-20T03:27:19.548617Z",
     "start_time": "2020-01-20T03:27:11.406148Z"
    }
   },
   "outputs": [
    {
     "data": {
      "text/html": [
       "<div>\n",
       "<style scoped>\n",
       "    .dataframe tbody tr th:only-of-type {\n",
       "        vertical-align: middle;\n",
       "    }\n",
       "\n",
       "    .dataframe tbody tr th {\n",
       "        vertical-align: top;\n",
       "    }\n",
       "\n",
       "    .dataframe thead th {\n",
       "        text-align: right;\n",
       "    }\n",
       "</style>\n",
       "<table border=\"1\" class=\"dataframe\">\n",
       "  <thead>\n",
       "    <tr style=\"text-align: right;\">\n",
       "      <th></th>\n",
       "      <th>gene1_id</th>\n",
       "      <th>gene2_id</th>\n",
       "      <th>candidate_id</th>\n",
       "      <th>coco_pred</th>\n",
       "    </tr>\n",
       "  </thead>\n",
       "  <tbody>\n",
       "    <tr>\n",
       "      <th>0</th>\n",
       "      <td>2796</td>\n",
       "      <td>2796</td>\n",
       "      <td>25627</td>\n",
       "      <td>0.033027</td>\n",
       "    </tr>\n",
       "    <tr>\n",
       "      <th>1</th>\n",
       "      <td>3976</td>\n",
       "      <td>3976</td>\n",
       "      <td>25628</td>\n",
       "      <td>0.011065</td>\n",
       "    </tr>\n",
       "  </tbody>\n",
       "</table>\n",
       "</div>"
      ],
      "text/plain": [
       "   gene1_id  gene2_id  candidate_id  coco_pred\n",
       "0      2796      2796         25627   0.033027\n",
       "1      3976      3976         25628   0.011065"
      ]
     },
     "execution_count": 22,
     "metadata": {},
     "output_type": "execute_result"
    }
   ],
   "source": [
    "final_pred_df = (\n",
    "    total_candidates_df\n",
    "    [[\"gene1_id\", \"gene2_id\", \"candidate_id\"]]\n",
    "    .merge(predictions_df[[\"coco_pred\", \"candidate_id\"]])\n",
    ")\n",
    "final_pred_df.head(2)"
   ]
  },
  {
   "cell_type": "code",
   "execution_count": 23,
   "metadata": {
    "ExecuteTime": {
     "end_time": "2020-01-20T03:27:26.534380Z",
     "start_time": "2020-01-20T03:27:25.151958Z"
    }
   },
   "outputs": [
    {
     "data": {
      "text/html": [
       "<div>\n",
       "<style scoped>\n",
       "    .dataframe tbody tr th:only-of-type {\n",
       "        vertical-align: middle;\n",
       "    }\n",
       "\n",
       "    .dataframe tbody tr th {\n",
       "        vertical-align: top;\n",
       "    }\n",
       "\n",
       "    .dataframe thead th {\n",
       "        text-align: right;\n",
       "    }\n",
       "</style>\n",
       "<table border=\"1\" class=\"dataframe\">\n",
       "  <thead>\n",
       "    <tr style=\"text-align: right;\">\n",
       "      <th></th>\n",
       "      <th>gene1_id</th>\n",
       "      <th>gene2_id</th>\n",
       "      <th>coco_pred</th>\n",
       "    </tr>\n",
       "  </thead>\n",
       "  <tbody>\n",
       "    <tr>\n",
       "      <th>0</th>\n",
       "      <td>1</td>\n",
       "      <td>1</td>\n",
       "      <td>20.297067</td>\n",
       "    </tr>\n",
       "    <tr>\n",
       "      <th>1</th>\n",
       "      <td>1</td>\n",
       "      <td>2</td>\n",
       "      <td>0.121055</td>\n",
       "    </tr>\n",
       "  </tbody>\n",
       "</table>\n",
       "</div>"
      ],
      "text/plain": [
       "   gene1_id  gene2_id  coco_pred\n",
       "0         1         1  20.297067\n",
       "1         1         2   0.121055"
      ]
     },
     "execution_count": 23,
     "metadata": {},
     "output_type": "execute_result"
    }
   ],
   "source": [
    "added_scores_df = (\n",
    "    final_pred_df\n",
    "    .groupby([\"gene1_id\", \"gene2_id\"])\n",
    "    .aggregate({\"coco_pred\": 'sum'})\n",
    "    .reset_index()\n",
    ")\n",
    "added_scores_df.head(2)"
   ]
  },
  {
   "cell_type": "code",
   "execution_count": 24,
   "metadata": {
    "ExecuteTime": {
     "end_time": "2020-01-20T03:28:25.998411Z",
     "start_time": "2020-01-20T03:27:32.163352Z"
    }
   },
   "outputs": [
    {
     "data": {
      "text/html": [
       "<div>\n",
       "<style scoped>\n",
       "    .dataframe tbody tr th:only-of-type {\n",
       "        vertical-align: middle;\n",
       "    }\n",
       "\n",
       "    .dataframe tbody tr th {\n",
       "        vertical-align: top;\n",
       "    }\n",
       "\n",
       "    .dataframe thead th {\n",
       "        text-align: right;\n",
       "    }\n",
       "</style>\n",
       "<table border=\"1\" class=\"dataframe\">\n",
       "  <thead>\n",
       "    <tr style=\"text-align: right;\">\n",
       "      <th></th>\n",
       "      <th>gene1_id</th>\n",
       "      <th>gene2_id</th>\n",
       "      <th>coco_pred</th>\n",
       "      <th>final_score</th>\n",
       "    </tr>\n",
       "  </thead>\n",
       "  <tbody>\n",
       "    <tr>\n",
       "      <th>0</th>\n",
       "      <td>1</td>\n",
       "      <td>1</td>\n",
       "      <td>20.297067</td>\n",
       "      <td>211.277869</td>\n",
       "    </tr>\n",
       "    <tr>\n",
       "      <th>1</th>\n",
       "      <td>1</td>\n",
       "      <td>2</td>\n",
       "      <td>0.121055</td>\n",
       "      <td>0.393441</td>\n",
       "    </tr>\n",
       "  </tbody>\n",
       "</table>\n",
       "</div>"
      ],
      "text/plain": [
       "   gene1_id  gene2_id  coco_pred  final_score\n",
       "0         1         1  20.297067   211.277869\n",
       "1         1         2   0.121055     0.393441"
      ]
     },
     "execution_count": 24,
     "metadata": {},
     "output_type": "execute_result"
    }
   ],
   "source": [
    "total_score = added_scores_df.coco_pred.sum()\n",
    "gene_scores = added_scores_df.groupby(\"gene1_id\").agg({\"coco_pred\":\"sum\"}).reset_index()\n",
    "gene_scores = dict(zip(gene_scores.gene1_id, gene_scores.coco_pred))\n",
    "drug_scores = added_scores_df.groupby(\"gene2_id\").agg({\"coco_pred\":\"sum\"}).reset_index()\n",
    "drug_scores = dict(zip(drug_scores.gene2_id, drug_scores.coco_pred))\n",
    "\n",
    "alpha=0.65\n",
    "\n",
    "final_scores_df = added_scores_df.assign(\n",
    "    final_score=(\n",
    "        added_scores_df.apply(\n",
    "            lambda x: pd.np.exp(\n",
    "                    alpha*pd.np.log(x['coco_pred']) + (1-alpha)*(\n",
    "                    pd.np.log(x['coco_pred']) + pd.np.log(total_score) - \n",
    "                    pd.np.log(gene_scores[x['gene1_id']]) - pd.np.log(drug_scores[x['gene2_id']])\n",
    "                )\n",
    "            ), \n",
    "            axis=1\n",
    "        )\n",
    "    )\n",
    ")\n",
    "final_scores_df.head(2)"
   ]
  },
  {
   "cell_type": "code",
   "execution_count": 25,
   "metadata": {
    "ExecuteTime": {
     "end_time": "2020-01-20T03:28:39.538261Z",
     "start_time": "2020-01-20T03:28:34.776705Z"
    }
   },
   "outputs": [
    {
     "data": {
      "text/html": [
       "<div>\n",
       "<style scoped>\n",
       "    .dataframe tbody tr th:only-of-type {\n",
       "        vertical-align: middle;\n",
       "    }\n",
       "\n",
       "    .dataframe tbody tr th {\n",
       "        vertical-align: top;\n",
       "    }\n",
       "\n",
       "    .dataframe thead th {\n",
       "        text-align: right;\n",
       "    }\n",
       "</style>\n",
       "<table border=\"1\" class=\"dataframe\">\n",
       "  <thead>\n",
       "    <tr style=\"text-align: right;\">\n",
       "      <th></th>\n",
       "      <th>gene1_id</th>\n",
       "      <th>gene2_id</th>\n",
       "      <th>coco_pred</th>\n",
       "      <th>final_score</th>\n",
       "      <th>hetionet</th>\n",
       "    </tr>\n",
       "  </thead>\n",
       "  <tbody>\n",
       "    <tr>\n",
       "      <th>0</th>\n",
       "      <td>1</td>\n",
       "      <td>1</td>\n",
       "      <td>20.297067</td>\n",
       "      <td>211.277869</td>\n",
       "      <td>0</td>\n",
       "    </tr>\n",
       "    <tr>\n",
       "      <th>240</th>\n",
       "      <td>1</td>\n",
       "      <td>2</td>\n",
       "      <td>0.121055</td>\n",
       "      <td>0.393441</td>\n",
       "      <td>0</td>\n",
       "    </tr>\n",
       "  </tbody>\n",
       "</table>\n",
       "</div>"
      ],
      "text/plain": [
       "     gene1_id  gene2_id  coco_pred  final_score  hetionet\n",
       "0           1         1  20.297067   211.277869         0\n",
       "240         1         2   0.121055     0.393441         0"
      ]
     },
     "execution_count": 25,
     "metadata": {},
     "output_type": "execute_result"
    }
   ],
   "source": [
    "score_with_labels_df = (\n",
    "    final_scores_df\n",
    "    .merge(\n",
    "        total_candidates_df[[\"gene1_id\", \"gene2_id\", \"hetionet\"]],\n",
    "        on=[\"gene1_id\", \"gene2_id\"]\n",
    "    )\n",
    "    .drop_duplicates()\n",
    ")\n",
    "score_with_labels_df.head(2)"
   ]
  },
  {
   "cell_type": "code",
   "execution_count": 26,
   "metadata": {
    "ExecuteTime": {
     "end_time": "2020-01-20T03:28:50.939959Z",
     "start_time": "2020-01-20T03:28:45.174280Z"
    }
   },
   "outputs": [],
   "source": [
    "(\n",
    "    score_with_labels_df\n",
    "    .drop(\"coco_pred\", axis=1)\n",
    "    .rename({\"final_score\": \"coco_score\"})\n",
    "    .to_csv(\"output/gg_edge_prediction_cocoscore.tsv\", sep=\"\\t\", index=False)\n",
    ")"
   ]
  },
  {
   "cell_type": "code",
   "execution_count": 27,
   "metadata": {
    "ExecuteTime": {
     "end_time": "2020-01-20T03:28:57.102811Z",
     "start_time": "2020-01-20T03:28:56.571898Z"
    }
   },
   "outputs": [
    {
     "name": "stdout",
     "output_type": "stream",
     "text": [
      "0.7757905827903091\n",
      "0.12373428012942868\n"
     ]
    }
   ],
   "source": [
    "fpr, tpr, _ = roc_curve(score_with_labels_df.hetionet, score_with_labels_df.final_score)\n",
    "print(auc(fpr, tpr))\n",
    "\n",
    "precision, recall, _ = precision_recall_curve(score_with_labels_df.hetionet, score_with_labels_df.final_score)\n",
    "print(auc(recall, precision))"
   ]
  }
 ],
 "metadata": {
  "kernelspec": {
   "display_name": "Python [conda env:snorkeling]",
   "language": "python",
   "name": "conda-env-snorkeling-py"
  },
  "language_info": {
   "codemirror_mode": {
    "name": "ipython",
    "version": 3
   },
   "file_extension": ".py",
   "mimetype": "text/x-python",
   "name": "python",
   "nbconvert_exporter": "python",
   "pygments_lexer": "ipython3",
   "version": "3.6.7"
  },
  "toc": {
   "base_numbering": 1,
   "nav_menu": {},
   "number_sections": true,
   "sideBar": true,
   "skip_h1_title": false,
   "title_cell": "Table of Contents",
   "title_sidebar": "Contents",
   "toc_cell": false,
   "toc_position": {},
   "toc_section_display": true,
   "toc_window_display": false
  },
  "varInspector": {
   "cols": {
    "lenName": 16,
    "lenType": 16,
    "lenVar": 40
   },
   "kernels_config": {
    "python": {
     "delete_cmd_postfix": "",
     "delete_cmd_prefix": "del ",
     "library": "var_list.py",
     "varRefreshCmd": "print(var_dic_list())"
    },
    "r": {
     "delete_cmd_postfix": ") ",
     "delete_cmd_prefix": "rm(",
     "library": "var_list.r",
     "varRefreshCmd": "cat(var_dic_list()) "
    }
   },
   "types_to_exclude": [
    "module",
    "function",
    "builtin_function_or_method",
    "instance",
    "_Feature"
   ],
   "window_display": false
  }
 },
 "nbformat": 4,
 "nbformat_minor": 2
}
