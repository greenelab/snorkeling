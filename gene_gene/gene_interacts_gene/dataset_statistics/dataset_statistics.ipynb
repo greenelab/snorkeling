{
 "cells": [
  {
   "cell_type": "markdown",
   "metadata": {},
   "source": [
    "# Dataset Statistics for Gene Gene Sentences"
   ]
  },
  {
   "cell_type": "markdown",
   "metadata": {},
   "source": [
    "This notebook is designed to show statistics on the data extracted from pubmed. The following cells below here are needed to set up the environment."
   ]
  },
  {
   "cell_type": "code",
   "execution_count": 1,
   "metadata": {
    "ExecuteTime": {
     "end_time": "2019-03-12T17:05:47.043312Z",
     "start_time": "2019-03-12T17:05:46.544002Z"
    }
   },
   "outputs": [],
   "source": [
    "%load_ext autoreload\n",
    "%autoreload 2\n",
    "%matplotlib inline\n",
    "\n",
    "from collections import Counter\n",
    "from itertools import product\n",
    "import os\n",
    "import pickle\n",
    "import sys\n",
    "\n",
    "sys.path.append(os.path.abspath('../../../modules'))\n",
    "\n",
    "import pandas as pd\n",
    "import matplotlib.pyplot as plt\n",
    "from matplotlib_venn import venn2\n",
    "import seaborn as sns\n",
    "from tqdm import tqdm_notebook\n",
    "\n",
    "sns.set(rc={'figure.figsize':(12,6), \"font.size\":17})"
   ]
  },
  {
   "cell_type": "code",
   "execution_count": 2,
   "metadata": {
    "ExecuteTime": {
     "end_time": "2019-03-12T17:05:47.240748Z",
     "start_time": "2019-03-12T17:05:47.045252Z"
    }
   },
   "outputs": [],
   "source": [
    "#Set up the environment\n",
    "username = \"danich1\"\n",
    "password = \"snorkel\"\n",
    "dbname = \"pubmeddb\"\n",
    "\n",
    "#Path subject to change for different os\n",
    "database_str = \"postgresql+psycopg2://{}:{}@/{}?host=/var/run/postgresql\".format(username, password, dbname)\n",
    "os.environ['SNORKELDB'] = database_str\n",
    "\n",
    "from snorkel import SnorkelSession\n",
    "session = SnorkelSession()"
   ]
  },
  {
   "cell_type": "code",
   "execution_count": 3,
   "metadata": {
    "ExecuteTime": {
     "end_time": "2019-03-12T17:05:47.259099Z",
     "start_time": "2019-03-12T17:05:47.242777Z"
    }
   },
   "outputs": [],
   "source": [
    "from snorkel.models import candidate_subclass, Candidate\n",
    "GeneGene = candidate_subclass('GeneGene', ['Gene1', 'Gene2'])"
   ]
  },
  {
   "cell_type": "code",
   "execution_count": 4,
   "metadata": {
    "ExecuteTime": {
     "end_time": "2019-03-12T17:05:47.285537Z",
     "start_time": "2019-03-12T17:05:47.260621Z"
    }
   },
   "outputs": [],
   "source": [
    "from utils.notebook_utils.dataframe_helper import write_candidates_to_excel, make_sentence_df"
   ]
  },
  {
   "cell_type": "markdown",
   "metadata": {},
   "source": [
    "# Read Full Sentence Table"
   ]
  },
  {
   "cell_type": "markdown",
   "metadata": {},
   "source": [
    "The cells below will read every sentence that contains a gene and disease entity from the sentence table in our postgres database. For time sake majority of the data has already been processed and save as files mentioned below."
   ]
  },
  {
   "cell_type": "code",
   "execution_count": null,
   "metadata": {
    "ExecuteTime": {
     "end_time": "2019-03-11T15:33:40.135171Z",
     "start_time": "2019-03-11T15:23:06.791446Z"
    }
   },
   "outputs": [],
   "source": [
    "sql= '''\n",
    "select id as sentence_id, text, (\n",
    "    char_length(regexp_replace(CAST(words AS TEXT), '[\\u0080-\\u00ff]', '', 'g')) - \n",
    "    char_length(regexp_replace(regexp_replace(CAST(words AS TEXT), '[\\u0080-\\u00ff]', '', 'g'), ',', '','g'))\n",
    ") as sen_length, entity_types \n",
    "from sentence \n",
    "where entity_types::text like '%%Gene%%' or entity_types::text like '%%Gene%%';\n",
    "'''\n",
    "sentence_df = pd.read_sql(sql, database_str)\n",
    "sentence_df.head(2)"
   ]
  },
  {
   "cell_type": "code",
   "execution_count": null,
   "metadata": {
    "ExecuteTime": {
     "end_time": "2019-03-11T15:54:10.091856Z",
     "start_time": "2019-03-11T15:36:00.712948Z"
    }
   },
   "outputs": [],
   "source": [
    "entity_data = []\n",
    "tagging_error_ids = set({})\n",
    "\n",
    "#skip tagging error\n",
    "skip_tag_error = False\n",
    "for index, row in tqdm_notebook(sentence_df.iterrows()):\n",
    "    \n",
    "    #create dictionay for mapping entity types\n",
    "    entity_mapper = {\"sentence_id\": row['sentence_id']}\n",
    "    \n",
    "    #Keep track of previous entity\n",
    "    previous_entity = 'o'\n",
    "    \n",
    "    #For all entitys in a given sentence decide what is tagged\n",
    "    for entity in row['entity_types']:\n",
    "        entity = entity.lower()\n",
    "\n",
    "        #Non-O tag\n",
    "        if entity != 'o' and previous_entity =='o':\n",
    "            #If entity not seen before instanciate it\n",
    "            if entity not in entity_mapper:\n",
    "                entity_mapper[entity] =0\n",
    "            entity_mapper[entity] += 1\n",
    "\n",
    "        # If previous tag was non-O and the current tag does not equal previous\n",
    "        # Then tagging error. e.x. Disease, Gene, Disease instead of Disease, O, Disease\n",
    "        elif entity != previous_entity and entity != 'o':\n",
    "            tagging_error_ids.add(row['sentence_id'])\n",
    "            skip_tag_error = True\n",
    "            break\n",
    "\n",
    "        previous_entity = entity\n",
    "    \n",
    "    # Do not add errors to dataframe\n",
    "    # They will be thrown out\n",
    "    if not skip_tag_error:\n",
    "        entity_data.append(entity_mapper)\n",
    "\n",
    "    skip_tag_error=False\n",
    "    \n",
    "entity_stats_df = pd.DataFrame.from_dict(entity_data).fillna(0)\n",
    "entity_stats_df.head(2)"
   ]
  },
  {
   "cell_type": "code",
   "execution_count": null,
   "metadata": {
    "ExecuteTime": {
     "end_time": "2019-03-11T15:54:11.709660Z",
     "start_time": "2019-03-11T15:54:10.093527Z"
    }
   },
   "outputs": [],
   "source": [
    "tagging_error_df = pd.Series(sorted(list(tagging_error_ids)))\n",
    "tagging_error_df.to_csv(\"data/tagging_error_ids.tsv.xz\", sep=\"\\t\",  index=False, compression=\"xz\")\n",
    "tagging_error_df.head(2)"
   ]
  },
  {
   "cell_type": "code",
   "execution_count": null,
   "metadata": {
    "ExecuteTime": {
     "end_time": "2019-03-11T15:54:11.725109Z",
     "start_time": "2019-03-11T15:54:11.711454Z"
    }
   },
   "outputs": [],
   "source": [
    "print(\n",
    "    \"Total Number of IOB Tagging Errors: {}. Percentage of sentences affected: {:.2f}\".format(\n",
    "        tagging_error_df.shape[0],\n",
    "        100*tagging_error_df.shape[0]/sentence_df.shape[0]\n",
    "    )\n",
    ")"
   ]
  },
  {
   "cell_type": "code",
   "execution_count": null,
   "metadata": {
    "ExecuteTime": {
     "end_time": "2019-03-11T16:22:54.549341Z",
     "start_time": "2019-03-11T15:54:11.726855Z"
    }
   },
   "outputs": [],
   "source": [
    "header = [\"sentence_id\", \"text\", \"sen_length\"]\n",
    "sentence_df[header].to_csv(\"data/sentence_stats.tsv.xz\", sep=\"\\t\", index=False, compression=\"xz\")\n",
    "entity_stats_df.to_csv(\"data/entity_stats.tsv.xz\", sep=\"\\t\",  index=False, compression=\"xz\")"
   ]
  },
  {
   "cell_type": "markdown",
   "metadata": {},
   "source": [
    "# Sentence Counts and Statistics"
   ]
  },
  {
   "cell_type": "markdown",
   "metadata": {},
   "source": [
    "Below is the block of code that contains information about the full distribution of sentences tied to each candidate pair. Multiple sentences can contain more than one co-occuring pair, which results in some sentences being counted more than once."
   ]
  },
  {
   "cell_type": "markdown",
   "metadata": {},
   "source": [
    "## Load and Merge DataFrames"
   ]
  },
  {
   "cell_type": "code",
   "execution_count": 5,
   "metadata": {
    "ExecuteTime": {
     "end_time": "2019-03-12T17:05:56.623390Z",
     "start_time": "2019-03-12T17:05:53.566131Z"
    }
   },
   "outputs": [
    {
     "data": {
      "text/html": [
       "<div>\n",
       "<style scoped>\n",
       "    .dataframe tbody tr th:only-of-type {\n",
       "        vertical-align: middle;\n",
       "    }\n",
       "\n",
       "    .dataframe tbody tr th {\n",
       "        vertical-align: top;\n",
       "    }\n",
       "\n",
       "    .dataframe thead th {\n",
       "        text-align: right;\n",
       "    }\n",
       "</style>\n",
       "<table border=\"1\" class=\"dataframe\">\n",
       "  <thead>\n",
       "    <tr style=\"text-align: right;\">\n",
       "      <th></th>\n",
       "      <th>gene1_id</th>\n",
       "      <th>gene1_name</th>\n",
       "      <th>gene2_id</th>\n",
       "      <th>gene2_name</th>\n",
       "      <th>sources</th>\n",
       "      <th>n_sentences</th>\n",
       "      <th>hetionet</th>\n",
       "      <th>has_sentence</th>\n",
       "      <th>split</th>\n",
       "      <th>partition_rank</th>\n",
       "    </tr>\n",
       "  </thead>\n",
       "  <tbody>\n",
       "    <tr>\n",
       "      <th>0</th>\n",
       "      <td>1</td>\n",
       "      <td>A1BG</td>\n",
       "      <td>10321</td>\n",
       "      <td>CRISP3</td>\n",
       "      <td>II_literature|hetio-dag</td>\n",
       "      <td>5</td>\n",
       "      <td>1</td>\n",
       "      <td>1</td>\n",
       "      <td>3</td>\n",
       "      <td>0.436432</td>\n",
       "    </tr>\n",
       "    <tr>\n",
       "      <th>1</th>\n",
       "      <td>125</td>\n",
       "      <td>ADH1B</td>\n",
       "      <td>10321</td>\n",
       "      <td>CRISP3</td>\n",
       "      <td>NaN</td>\n",
       "      <td>1</td>\n",
       "      <td>0</td>\n",
       "      <td>1</td>\n",
       "      <td>3</td>\n",
       "      <td>0.664368</td>\n",
       "    </tr>\n",
       "  </tbody>\n",
       "</table>\n",
       "</div>"
      ],
      "text/plain": [
       "   gene1_id gene1_name  gene2_id gene2_name                  sources  \\\n",
       "0         1       A1BG     10321     CRISP3  II_literature|hetio-dag   \n",
       "1       125      ADH1B     10321     CRISP3                      NaN   \n",
       "\n",
       "   n_sentences  hetionet  has_sentence  split  partition_rank  \n",
       "0            5         1             1      3        0.436432  \n",
       "1            1         0             1      3        0.664368  "
      ]
     },
     "execution_count": 5,
     "metadata": {},
     "output_type": "execute_result"
    }
   ],
   "source": [
    "entity_level_df = pd.read_table(\"../gene_interacts_gene.tsv.xz\")\n",
    "entity_level_df.head(2)"
   ]
  },
  {
   "cell_type": "code",
   "execution_count": 6,
   "metadata": {
    "ExecuteTime": {
     "end_time": "2019-03-12T17:06:02.143029Z",
     "start_time": "2019-03-12T17:05:56.625072Z"
    }
   },
   "outputs": [
    {
     "data": {
      "text/html": [
       "<div>\n",
       "<style scoped>\n",
       "    .dataframe tbody tr th:only-of-type {\n",
       "        vertical-align: middle;\n",
       "    }\n",
       "\n",
       "    .dataframe tbody tr th {\n",
       "        vertical-align: top;\n",
       "    }\n",
       "\n",
       "    .dataframe thead th {\n",
       "        text-align: right;\n",
       "    }\n",
       "</style>\n",
       "<table border=\"1\" class=\"dataframe\">\n",
       "  <thead>\n",
       "    <tr style=\"text-align: right;\">\n",
       "      <th></th>\n",
       "      <th>compound</th>\n",
       "      <th>disease</th>\n",
       "      <th>gene</th>\n",
       "      <th>sentence_id</th>\n",
       "    </tr>\n",
       "  </thead>\n",
       "  <tbody>\n",
       "    <tr>\n",
       "      <th>0</th>\n",
       "      <td>0.0</td>\n",
       "      <td>1.0</td>\n",
       "      <td>1</td>\n",
       "      <td>50851796</td>\n",
       "    </tr>\n",
       "    <tr>\n",
       "      <th>1</th>\n",
       "      <td>0.0</td>\n",
       "      <td>0.0</td>\n",
       "      <td>1</td>\n",
       "      <td>50851806</td>\n",
       "    </tr>\n",
       "  </tbody>\n",
       "</table>\n",
       "</div>"
      ],
      "text/plain": [
       "   compound  disease  gene  sentence_id\n",
       "0       0.0      1.0     1     50851796\n",
       "1       0.0      0.0     1     50851806"
      ]
     },
     "execution_count": 6,
     "metadata": {},
     "output_type": "execute_result"
    }
   ],
   "source": [
    "entity_stats_df = pd.read_table(\"data/entity_stats.tsv.xz\")\n",
    "entity_stats_df.head(2)"
   ]
  },
  {
   "cell_type": "code",
   "execution_count": 7,
   "metadata": {
    "ExecuteTime": {
     "end_time": "2019-03-12T17:06:57.941037Z",
     "start_time": "2019-03-12T17:06:02.144812Z"
    }
   },
   "outputs": [
    {
     "data": {
      "text/html": [
       "<div>\n",
       "<style scoped>\n",
       "    .dataframe tbody tr th:only-of-type {\n",
       "        vertical-align: middle;\n",
       "    }\n",
       "\n",
       "    .dataframe tbody tr th {\n",
       "        vertical-align: top;\n",
       "    }\n",
       "\n",
       "    .dataframe thead th {\n",
       "        text-align: right;\n",
       "    }\n",
       "</style>\n",
       "<table border=\"1\" class=\"dataframe\">\n",
       "  <thead>\n",
       "    <tr style=\"text-align: right;\">\n",
       "      <th></th>\n",
       "      <th>sentence_id</th>\n",
       "      <th>text</th>\n",
       "      <th>sen_length</th>\n",
       "    </tr>\n",
       "  </thead>\n",
       "  <tbody>\n",
       "    <tr>\n",
       "      <th>0</th>\n",
       "      <td>50851796</td>\n",
       "      <td>In this study we aimed to characterize the vir...</td>\n",
       "      <td>28</td>\n",
       "    </tr>\n",
       "    <tr>\n",
       "      <th>1</th>\n",
       "      <td>50851806</td>\n",
       "      <td>HLA-A2 tetramers were used to identify HBV-spe...</td>\n",
       "      <td>18</td>\n",
       "    </tr>\n",
       "  </tbody>\n",
       "</table>\n",
       "</div>"
      ],
      "text/plain": [
       "   sentence_id                                               text  sen_length\n",
       "0     50851796  In this study we aimed to characterize the vir...          28\n",
       "1     50851806  HLA-A2 tetramers were used to identify HBV-spe...          18"
      ]
     },
     "execution_count": 7,
     "metadata": {},
     "output_type": "execute_result"
    }
   ],
   "source": [
    "sentence_count_df = pd.read_table(\"data/sentence_stats.tsv.xz\")\n",
    "sentence_count_df.head(2)"
   ]
  },
  {
   "cell_type": "code",
   "execution_count": 8,
   "metadata": {
    "ExecuteTime": {
     "end_time": "2019-03-12T17:06:57.956021Z",
     "start_time": "2019-03-12T17:06:57.942752Z"
    }
   },
   "outputs": [],
   "source": [
    "sentence_sql = '''\n",
    "select cand_id, \"Gene1_cid\" as gene1_id, \"Gene2_cid\" as gene2_id, sentence_id from (\n",
    "    select gene_gene.id as \"cand_id\", gene_gene.\"Gene1_id\",\n",
    "    gene_gene.\"Gene1_cid\", gene_gene.\"Gene2_cid\", candidate.split from gene_gene \n",
    "    inner join candidate on gene_gene.id=candidate.id \n",
    "    where split={}\n",
    ") as candidate_splits inner join span on candidate_splits.\"Gene1_id\"=span.id;\n",
    "'''"
   ]
  },
  {
   "cell_type": "code",
   "execution_count": 9,
   "metadata": {
    "ExecuteTime": {
     "end_time": "2019-03-12T17:08:06.240853Z",
     "start_time": "2019-03-12T17:06:57.957631Z"
    }
   },
   "outputs": [
    {
     "data": {
      "text/html": [
       "<div>\n",
       "<style scoped>\n",
       "    .dataframe tbody tr th:only-of-type {\n",
       "        vertical-align: middle;\n",
       "    }\n",
       "\n",
       "    .dataframe tbody tr th {\n",
       "        vertical-align: top;\n",
       "    }\n",
       "\n",
       "    .dataframe thead th {\n",
       "        text-align: right;\n",
       "    }\n",
       "</style>\n",
       "<table border=\"1\" class=\"dataframe\">\n",
       "  <thead>\n",
       "    <tr style=\"text-align: right;\">\n",
       "      <th></th>\n",
       "      <th>cand_id</th>\n",
       "      <th>gene1_id</th>\n",
       "      <th>gene2_id</th>\n",
       "      <th>sentence_id</th>\n",
       "    </tr>\n",
       "  </thead>\n",
       "  <tbody>\n",
       "    <tr>\n",
       "      <th>0</th>\n",
       "      <td>550462</td>\n",
       "      <td>3630</td>\n",
       "      <td>3630</td>\n",
       "      <td>4177301</td>\n",
       "    </tr>\n",
       "    <tr>\n",
       "      <th>1</th>\n",
       "      <td>964979</td>\n",
       "      <td>3558</td>\n",
       "      <td>4155</td>\n",
       "      <td>5709292</td>\n",
       "    </tr>\n",
       "  </tbody>\n",
       "</table>\n",
       "</div>"
      ],
      "text/plain": [
       "   cand_id gene1_id gene2_id  sentence_id\n",
       "0   550462     3630     3630      4177301\n",
       "1   964979     3558     4155      5709292"
      ]
     },
     "execution_count": 9,
     "metadata": {},
     "output_type": "execute_result"
    }
   ],
   "source": [
    "train_candidate_df = pd.read_sql(sentence_sql.format(3), database_str)\n",
    "train_candidate_df.head(2)"
   ]
  },
  {
   "cell_type": "code",
   "execution_count": 10,
   "metadata": {
    "ExecuteTime": {
     "end_time": "2019-03-12T17:09:07.280937Z",
     "start_time": "2019-03-12T17:08:06.242751Z"
    }
   },
   "outputs": [],
   "source": [
    "dev_candidate_df = pd.read_sql(sentence_sql.format(4), database_str)\n",
    "test_candidate_df = pd.read_sql(sentence_sql.format(5), database_str)"
   ]
  },
  {
   "cell_type": "code",
   "execution_count": 11,
   "metadata": {
    "ExecuteTime": {
     "end_time": "2019-03-12T17:09:07.297067Z",
     "start_time": "2019-03-12T17:09:07.282410Z"
    }
   },
   "outputs": [],
   "source": [
    "clean_up_df = lambda x: (\n",
    "        entity_stats_df\n",
    "        .merge(sentence_count_df, on=\"sentence_id\")\n",
    "        .merge(x, on=\"sentence_id\")\n",
    "        .rename(index=str, columns={\n",
    "            \"disease\":\"disease_mention_count\", \n",
    "            \"gene\":\"gene_mention_count\", \n",
    "            \"compound\":\"compound_mention_count\",\n",
    "            \"cand_id\": \"candidate_id\"\n",
    "        })\n",
    "    )"
   ]
  },
  {
   "cell_type": "code",
   "execution_count": 12,
   "metadata": {
    "ExecuteTime": {
     "end_time": "2019-03-12T17:09:44.431467Z",
     "start_time": "2019-03-12T17:09:07.298510Z"
    }
   },
   "outputs": [
    {
     "data": {
      "text/html": [
       "<div>\n",
       "<style scoped>\n",
       "    .dataframe tbody tr th:only-of-type {\n",
       "        vertical-align: middle;\n",
       "    }\n",
       "\n",
       "    .dataframe tbody tr th {\n",
       "        vertical-align: top;\n",
       "    }\n",
       "\n",
       "    .dataframe thead th {\n",
       "        text-align: right;\n",
       "    }\n",
       "</style>\n",
       "<table border=\"1\" class=\"dataframe\">\n",
       "  <thead>\n",
       "    <tr style=\"text-align: right;\">\n",
       "      <th></th>\n",
       "      <th>compound_mention_count</th>\n",
       "      <th>disease_mention_count</th>\n",
       "      <th>gene_mention_count</th>\n",
       "      <th>sentence_id</th>\n",
       "      <th>text</th>\n",
       "      <th>sen_length</th>\n",
       "      <th>candidate_id</th>\n",
       "      <th>gene1_id</th>\n",
       "      <th>gene2_id</th>\n",
       "    </tr>\n",
       "  </thead>\n",
       "  <tbody>\n",
       "    <tr>\n",
       "      <th>0</th>\n",
       "      <td>0.0</td>\n",
       "      <td>0.0</td>\n",
       "      <td>2</td>\n",
       "      <td>50851817</td>\n",
       "      <td>At all time points there was sequestering of H...</td>\n",
       "      <td>33</td>\n",
       "      <td>14633063</td>\n",
       "      <td>925</td>\n",
       "      <td>925</td>\n",
       "    </tr>\n",
       "    <tr>\n",
       "      <th>1</th>\n",
       "      <td>0.0</td>\n",
       "      <td>0.0</td>\n",
       "      <td>2</td>\n",
       "      <td>50851817</td>\n",
       "      <td>At all time points there was sequestering of H...</td>\n",
       "      <td>33</td>\n",
       "      <td>14633058</td>\n",
       "      <td>925</td>\n",
       "      <td>925</td>\n",
       "    </tr>\n",
       "  </tbody>\n",
       "</table>\n",
       "</div>"
      ],
      "text/plain": [
       "   compound_mention_count  disease_mention_count  gene_mention_count  \\\n",
       "0                     0.0                    0.0                   2   \n",
       "1                     0.0                    0.0                   2   \n",
       "\n",
       "   sentence_id                                               text  sen_length  \\\n",
       "0     50851817  At all time points there was sequestering of H...          33   \n",
       "1     50851817  At all time points there was sequestering of H...          33   \n",
       "\n",
       "   candidate_id gene1_id gene2_id  \n",
       "0      14633063      925      925  \n",
       "1      14633058      925      925  "
      ]
     },
     "execution_count": 12,
     "metadata": {},
     "output_type": "execute_result"
    }
   ],
   "source": [
    "train_candidate_df = clean_up_df(train_candidate_df)\n",
    "train_candidate_df.head(2)"
   ]
  },
  {
   "cell_type": "code",
   "execution_count": 13,
   "metadata": {
    "ExecuteTime": {
     "end_time": "2019-03-12T17:10:08.862878Z",
     "start_time": "2019-03-12T17:09:44.433891Z"
    }
   },
   "outputs": [],
   "source": [
    "dev_candidate_df = clean_up_df(dev_candidate_df)\n",
    "test_candidate_df = clean_up_df(test_candidate_df)"
   ]
  },
  {
   "cell_type": "code",
   "execution_count": 14,
   "metadata": {
    "ExecuteTime": {
     "end_time": "2019-03-12T17:10:26.779651Z",
     "start_time": "2019-03-12T17:10:08.864512Z"
    }
   },
   "outputs": [
    {
     "data": {
      "text/html": [
       "<div>\n",
       "<style scoped>\n",
       "    .dataframe tbody tr th:only-of-type {\n",
       "        vertical-align: middle;\n",
       "    }\n",
       "\n",
       "    .dataframe tbody tr th {\n",
       "        vertical-align: top;\n",
       "    }\n",
       "\n",
       "    .dataframe thead th {\n",
       "        text-align: right;\n",
       "    }\n",
       "</style>\n",
       "<table border=\"1\" class=\"dataframe\">\n",
       "  <thead>\n",
       "    <tr style=\"text-align: right;\">\n",
       "      <th></th>\n",
       "      <th>gene1_id</th>\n",
       "      <th>gene1_name</th>\n",
       "      <th>gene2_id</th>\n",
       "      <th>gene2_name</th>\n",
       "      <th>sources</th>\n",
       "      <th>n_sentences</th>\n",
       "      <th>hetionet</th>\n",
       "      <th>has_sentence</th>\n",
       "      <th>split</th>\n",
       "      <th>partition_rank</th>\n",
       "      <th>compound_mention_count</th>\n",
       "      <th>disease_mention_count</th>\n",
       "      <th>gene_mention_count</th>\n",
       "      <th>sentence_id</th>\n",
       "      <th>text</th>\n",
       "      <th>sen_length</th>\n",
       "      <th>candidate_id</th>\n",
       "    </tr>\n",
       "  </thead>\n",
       "  <tbody>\n",
       "    <tr>\n",
       "      <th>0</th>\n",
       "      <td>1</td>\n",
       "      <td>A1BG</td>\n",
       "      <td>10321</td>\n",
       "      <td>CRISP3</td>\n",
       "      <td>II_literature|hetio-dag</td>\n",
       "      <td>5</td>\n",
       "      <td>1</td>\n",
       "      <td>1</td>\n",
       "      <td>3</td>\n",
       "      <td>0.436432</td>\n",
       "      <td>0.0</td>\n",
       "      <td>0.0</td>\n",
       "      <td>2</td>\n",
       "      <td>65570963</td>\n",
       "      <td>Human CRISP-3 binds serum alpha(1)B-glycoprote...</td>\n",
       "      <td>11</td>\n",
       "      <td>20992573</td>\n",
       "    </tr>\n",
       "    <tr>\n",
       "      <th>1</th>\n",
       "      <td>1</td>\n",
       "      <td>A1BG</td>\n",
       "      <td>10321</td>\n",
       "      <td>CRISP3</td>\n",
       "      <td>II_literature|hetio-dag</td>\n",
       "      <td>5</td>\n",
       "      <td>1</td>\n",
       "      <td>1</td>\n",
       "      <td>3</td>\n",
       "      <td>0.436432</td>\n",
       "      <td>0.0</td>\n",
       "      <td>0.0</td>\n",
       "      <td>3</td>\n",
       "      <td>65570968</td>\n",
       "      <td>BACKGROUND: CRISP-3 was previously shown to be...</td>\n",
       "      <td>21</td>\n",
       "      <td>20930188</td>\n",
       "    </tr>\n",
       "  </tbody>\n",
       "</table>\n",
       "</div>"
      ],
      "text/plain": [
       "   gene1_id gene1_name  gene2_id gene2_name                  sources  \\\n",
       "0         1       A1BG     10321     CRISP3  II_literature|hetio-dag   \n",
       "1         1       A1BG     10321     CRISP3  II_literature|hetio-dag   \n",
       "\n",
       "   n_sentences  hetionet  has_sentence  split  partition_rank  \\\n",
       "0            5         1             1      3        0.436432   \n",
       "1            5         1             1      3        0.436432   \n",
       "\n",
       "   compound_mention_count  disease_mention_count  gene_mention_count  \\\n",
       "0                     0.0                    0.0                   2   \n",
       "1                     0.0                    0.0                   3   \n",
       "\n",
       "   sentence_id                                               text  sen_length  \\\n",
       "0     65570963  Human CRISP-3 binds serum alpha(1)B-glycoprote...          11   \n",
       "1     65570968  BACKGROUND: CRISP-3 was previously shown to be...          21   \n",
       "\n",
       "   candidate_id  \n",
       "0      20992573  \n",
       "1      20930188  "
      ]
     },
     "execution_count": 14,
     "metadata": {},
     "output_type": "execute_result"
    }
   ],
   "source": [
    "training_set_df = (\n",
    "    entity_level_df\n",
    "    .query(\"split==3&has_sentence==1\")\n",
    "    .merge(\n",
    "        train_candidate_df.astype({\"gene1_id\":int, \"gene2_id\":int}), \n",
    "        on=[\"gene1_id\", \"gene2_id\"]\n",
    "    )\n",
    ")\n",
    "training_set_df.head(2)"
   ]
  },
  {
   "cell_type": "code",
   "execution_count": 15,
   "metadata": {
    "ExecuteTime": {
     "end_time": "2019-03-12T17:10:32.383840Z",
     "start_time": "2019-03-12T17:10:26.781314Z"
    }
   },
   "outputs": [],
   "source": [
    "dev_set_df = (\n",
    "    entity_level_df\n",
    "    .query(\"split==4&has_sentence==1\")\n",
    "    .merge(\n",
    "        dev_candidate_df.astype({\"gene1_id\":int, \"gene2_id\":int}), \n",
    "        on=[\"gene1_id\", \"gene2_id\"]\n",
    "    )\n",
    ")\n",
    "\n",
    "test_set_df = (\n",
    "    entity_level_df\n",
    "    .query(\"split==5&has_sentence==1\")\n",
    "    .merge(\n",
    "        test_candidate_df.astype({\"gene1_id\":int, \"gene2_id\":int}), \n",
    "        on=[\"gene1_id\", \"gene2_id\"]\n",
    "    )\n",
    ")"
   ]
  },
  {
   "cell_type": "code",
   "execution_count": 16,
   "metadata": {
    "ExecuteTime": {
     "end_time": "2019-03-12T17:10:47.746856Z",
     "start_time": "2019-03-12T17:10:32.385289Z"
    }
   },
   "outputs": [],
   "source": [
    "total_candidates_df = (\n",
    "    training_set_df\n",
    "    .append(dev_set_df)\n",
    "    .append(test_set_df)\n",
    "    .drop_duplicates(\"candidate_id\")\n",
    ")"
   ]
  },
  {
   "cell_type": "code",
   "execution_count": null,
   "metadata": {
    "ExecuteTime": {
     "end_time": "2019-03-11T17:32:25.921093Z",
     "start_time": "2019-03-11T17:31:34.924051Z"
    }
   },
   "outputs": [],
   "source": [
    "dev_candidates = (\n",
    "    session\n",
    "    .query(GeneGene)\n",
    "    .filter(\n",
    "        GeneGene.id.in_(\n",
    "            total_candidates_df\n",
    "            .query(\"split==4\")\n",
    "            .sample(10000, random_state=100)\n",
    "            .candidate_id\n",
    "            .tolist()\n",
    "        )\n",
    "    )\n",
    "    .all()\n",
    ")\n",
    "dev_df = make_sentence_df(dev_candidates)\n",
    "dev_df.head(2)"
   ]
  },
  {
   "cell_type": "code",
   "execution_count": null,
   "metadata": {
    "ExecuteTime": {
     "end_time": "2019-03-11T17:33:23.455655Z",
     "start_time": "2019-03-11T17:32:34.390355Z"
    }
   },
   "outputs": [],
   "source": [
    "test_candidates = (\n",
    "    session\n",
    "    .query(GeneGene)\n",
    "    .filter(\n",
    "        GeneGene.id.in_(\n",
    "            total_candidates_df\n",
    "            .query(\"split==5\")\n",
    "            .sample(10000, random_state=120)\n",
    "            .candidate_id\n",
    "            .tolist()\n",
    "        )\n",
    "    )\n",
    "    .all()\n",
    ")\n",
    "test_df = make_sentence_df(test_candidates)\n",
    "test_df.head(2)"
   ]
  },
  {
   "cell_type": "code",
   "execution_count": null,
   "metadata": {
    "ExecuteTime": {
     "end_time": "2019-03-11T17:33:30.354026Z",
     "start_time": "2019-03-11T17:33:26.376796Z"
    }
   },
   "outputs": [],
   "source": [
    "write_candidates_to_excel(dev_df, \"data/sentence_labels_dev.xlsx\")\n",
    "write_candidates_to_excel(test_df, \"data/sentence_labels_test.xlsx\")"
   ]
  },
  {
   "cell_type": "markdown",
   "metadata": {},
   "source": [
    "## Distribution of Sentence Length"
   ]
  },
  {
   "cell_type": "code",
   "execution_count": 17,
   "metadata": {
    "ExecuteTime": {
     "end_time": "2019-03-12T17:10:50.606015Z",
     "start_time": "2019-03-12T17:10:47.748317Z"
    }
   },
   "outputs": [
    {
     "name": "stderr",
     "output_type": "stream",
     "text": [
      "/home/danich1/anaconda2/envs/snorkeling/lib/python3.6/site-packages/scipy/stats/stats.py:1713: FutureWarning: Using a non-tuple sequence for multidimensional indexing is deprecated; use `arr[tuple(seq)]` instead of `arr[seq]`. In the future this will be interpreted as an array index, `arr[np.array(seq)]`, which will result either in an error or a different result.\n",
      "  return np.add.reduce(sorted[indexer] * weights, axis=axis) / sumval\n"
     ]
    },
    {
     "data": {
      "text/plain": [
       "<matplotlib.axes._subplots.AxesSubplot at 0x7ff215e47048>"
      ]
     },
     "execution_count": 17,
     "metadata": {},
     "output_type": "execute_result"
    },
    {
     "data": {
      "image/png": "[encoded data removed]",
      "text/plain": [
       "<matplotlib.figure.Figure at 0x7ff31c2ff518>"
      ]
     },
     "metadata": {},
     "output_type": "display_data"
    }
   ],
   "source": [
    "sns.distplot(total_candidates_df[\"sen_length\"], rug=False)"
   ]
  },
  {
   "cell_type": "code",
   "execution_count": 18,
   "metadata": {
    "ExecuteTime": {
     "end_time": "2019-03-12T17:10:51.688338Z",
     "start_time": "2019-03-12T17:10:50.607362Z"
    }
   },
   "outputs": [
    {
     "data": {
      "text/plain": [
       "count    13929222\n",
       "mean           44\n",
       "std            27\n",
       "min             2\n",
       "25%            28\n",
       "50%            38\n",
       "75%            53\n",
       "max          1120\n",
       "Name: sen_length, dtype: int64"
      ]
     },
     "execution_count": 18,
     "metadata": {},
     "output_type": "execute_result"
    }
   ],
   "source": [
    "total_candidates_df[\"sen_length\"].describe().astype(int)"
   ]
  },
  {
   "cell_type": "markdown",
   "metadata": {},
   "source": [
    "Something seems fishy about this distribution. The number of words (tokens) for a given sentence is in the thousands range. Intuitively, that doesn't make sense, since the average number of words for a given sentence is 37. Possible reason for this abnormality is a parsing error. Lets take a look at this 1120 word sentence."
   ]
  },
  {
   "cell_type": "code",
   "execution_count": 19,
   "metadata": {
    "ExecuteTime": {
     "end_time": "2019-03-12T17:10:51.807509Z",
     "start_time": "2019-03-12T17:10:51.689993Z"
    }
   },
   "outputs": [
    {
     "data": {
      "text/plain": [
       "'Pooled analysis of (R)-[11C]-verapamil PET data from two European centresM Bauer, M Feldmann, R Karch, W Wadsak, M Zeitlinger, MJ Koepp, M-C Asselin, E Pataraia, O LangerA13 In-vitro and in-vivo characterization of [18F]FE@SNAP and derivatives for the visualization of the melanin concentrating hormone receptor 1M Zeilinger, C Philippe, M Dumanic, F Pichler, J Pilz, M Hacker, W Wadsak, M MitterhauserA14 Reducing time in quality control leads to higher specific radioactivity of short-lived radiotracersL Nics, B Steiner, M Hacker, M Mitterhauser, W WadsakA15 In vitro 11C-erlotinib binding experiments in cancer cell lines with epidermal growth factor receptor mutationsA Traxl, Thomas Wanek, Kushtrim Kryeziu, Severin Mairinger, Johann Stanek, Walter Berger, Claudia Kuntner, Oliver LangerA16 7-[11C]methyl-6-bromopurine, a PET tracer to measure brain Mrp1 function: radiosynthesis and first PET evaluation in miceS Mairinger, T Wanek, A Traxl, M Krohn, J Stanek, T Filip, M Sauberer, C Kuntner, J Pahnke, O LangerA17 18F labeled azidoglucose derivatives as \"click\" agents for pretargeted PET imagingD Svatunek, C Denk, M Wilkovitsch, T Wanek, T Filip, C Kuntner-Hannes, J Fr  hlich, H MikulaA18 Bioorthogonal tools for PET imaging: development of radiolabeled 1,2,4,5-TetrazinesC Denk, D Svatunek, T Wanek, S Mairinger, J Stanek, T Filip, J Fr  hlich, H Mikula, C Kuntner-HannesA19 Preclinical evaluation of [18F]FE@SUPPY- a new PET-tracer for oncologyT Balber, J Singer, J Fazekas, C Rami-Mark, N Berroter  n-Infante, E Jensen-Jarolim, W Wadsak, M Hacker, H Viernstein, M MitterhauserA20 Investigation of Small [18F]-Fluoroalkylazides for Rapid Radiolabeling and In Vivo Click ChemistryC Denk, D Svatunek, B Sohr, H Mikula, J Fr  hlich, T Wanek, C Kuntner-Hannes, T FilipA21 Microfluidic 68Ga-radiolabeling of PSMA-HBED-CC using a flow-through reactorS Pfaff, C Philippe, M Mitterhauser, M Hartenbach, M Hacker, W WadsakA22 Influence of 24-nor-ursodeoxycholic acid on hepatic disposition of [18F]ciprofloxacin measured with positron emission tomographyT Wanek, E Halilbasic, M Visentin, S Mairinger, B Stieger, C Kuntner, M Trauner, O LangerA23 Automated 18F-flumazenil production using chemically resistant disposable cassettesP Lam, M Aistleitner, R Eichinger, C ArtnerA24 Similarities and differences in the synthesis and quality control of 177Lu-DOTA-TATE, 177Lu -HA-DOTA-TATE and 177Lu-DOTA-PSMA (PSMA-617)H Eidherr, C Vraka, A Haug, M Mitterhauser, L Nics, M Hartenbach, M Hacker, W WadsakA25 68Ga- and 177Lu-labelling of PSMA-617H Kvaternik, R M  ller, D Hausberger, C Zink, RM AignerA26 Radiolabelling of liposomes with 67Ga and biodistribution studies after administration by an aerosol inhalation systemU Coss  o, M Asensio, A Montes, S Akhtar, Y te Welscher, R van Nostrum, V G  mez-Vallejo, J LlopA27 Fully automated quantification of DaTscan SPECT: Integration of age and gender differencesF VandeVyver, T Barclay, N Lippens, M TrochA28 Lesion-to-background ratio in co-registered 18F-FET PET/MR imaging - is it a valuable tool to differentiate between low grade and high grade brain tumor?L Hehenwarter, B Egger, J Holzmannhofer, M Rodrigues-Radischat, C PirichA29 [11C]-methionine PET in gliomas - a retrospective data analysis of 166 patientsN P  tsch, I Rausch, D Wilhelm, M Weber, J Furtner, G Karanikas, A W  hrer, M Mitterhauser, M Hacker, T Traub-WeidingerA30 18F-Fluorocholine versus 18F-Fluorodeoxyglucose for PET/CT imaging in patients with relapsed or progressive multiple myeloma: a pilot studyT Cassou-Mounat, S Balogova, V Nataf, M Calzada, V Huchet, K Kerrou, J-Y Devaux, M Mohty, L Garderet, J-N TalbotA31 Prognostic benefit of additional SPECT/CT in sentinel lymph node mapping of breast cancer patientsS Stanzel, G Pregartner, T Schwarz, V Bjelic-Radisic, B Liegl-Atzwanger, R AignerA32 Evaluation of diagnostic value of TOF-18F-FDG PET/CT in patients with suspected pancreatic cancerS Stanzel, F Quehenberger, RM AignerA33 New quantification method for diagnosis of primary hyperpatahyroidism lesions and differential diagnosis vs thyropid nodular disease in dynamic scintigraphyA Koljevi   Markovi  , Milica Jankovi  , V Miler Jerkovi  , M Paska  , G Pupi  , R D  odi  , D Popovi  A34 A rare case of diffuse pancreatic involvement in patient with merkel cell carcinoma detected by 18F-FDGMC Fornito, D FamiliariA35 TSH-stimulated 18F-FDG PET/CT in the diagnosis of recurrent/metastatic radioiodine-negative differentiated thyroid carcinomas in patients with various thyroglobuline levelsP Koranda, H Polzerov  , I Metelkov  , L Henzlov  , R Form  nek, E Buri  nkov  , M Kam  nekA36 Breast Dose from lactation following I131 treatmentWH Thomson, C LewisA37 A new concept for performing SeHCAT studies with the gamma cameraWH Thomson, J O\\'Brien, G James, A NotghiA38 Whole body F-18-FDG-PET and tuberculosis: sensitivity compared to x-ray-CTH Huber, I Stelzm  ller, R Wunn, M Mandl, F Fellner, B Lamprecht, M GabrielA39 Emerging role 18F-FDG PET-CT in the diagnosis and follow-up of the infection in heartware ventricular assist system (HVAD)MC Fornito, G LeonardiA40 Validation of Poisson resampling softwareWH Thomson, J O\\'Brien, G JamesA41 Protection of PET nuclear medicine personnel: problems in satisfying dose limit requirementsJ Hudzietzov  , J Sabol, M F  l  p.'"
      ]
     },
     "execution_count": 19,
     "metadata": {},
     "output_type": "execute_result"
    }
   ],
   "source": [
    "total_candidates_df.query(\"sen_length==1120\").iloc[0][\"text\"]"
   ]
  },
  {
   "cell_type": "code",
   "execution_count": 20,
   "metadata": {
    "ExecuteTime": {
     "end_time": "2019-03-12T17:10:56.021188Z",
     "start_time": "2019-03-12T17:10:51.809946Z"
    }
   },
   "outputs": [
    {
     "name": "stderr",
     "output_type": "stream",
     "text": [
      "/home/danich1/anaconda2/envs/snorkeling/lib/python3.6/site-packages/scipy/stats/stats.py:1713: FutureWarning: Using a non-tuple sequence for multidimensional indexing is deprecated; use `arr[tuple(seq)]` instead of `arr[seq]`. In the future this will be interpreted as an array index, `arr[np.array(seq)]`, which will result either in an error or a different result.\n",
      "  return np.add.reduce(sorted[indexer] * weights, axis=axis) / sumval\n"
     ]
    },
    {
     "data": {
      "text/plain": [
       "<matplotlib.axes._subplots.AxesSubplot at 0x7ff31c2ff358>"
      ]
     },
     "execution_count": 20,
     "metadata": {},
     "output_type": "execute_result"
    },
    {
     "data": {
      "image/png": "[encoded data removed]",
      "text/plain": [
       "<matplotlib.figure.Figure at 0x7ff23fbc6630>"
      ]
     },
     "metadata": {},
     "output_type": "display_data"
    }
   ],
   "source": [
    "sns.distplot(total_candidates_df.query(\"sen_length < 83+1\")[\"sen_length\"], rug=False)"
   ]
  },
  {
   "cell_type": "code",
   "execution_count": 21,
   "metadata": {
    "ExecuteTime": {
     "end_time": "2019-03-12T17:10:58.612403Z",
     "start_time": "2019-03-12T17:10:56.022663Z"
    }
   },
   "outputs": [
    {
     "data": {
      "text/plain": [
       "count    12933682\n",
       "mean           38\n",
       "std            16\n",
       "min             2\n",
       "25%            27\n",
       "50%            36\n",
       "75%            49\n",
       "max            83\n",
       "Name: sen_length, dtype: int64"
      ]
     },
     "execution_count": 21,
     "metadata": {},
     "output_type": "execute_result"
    }
   ],
   "source": [
    "total_candidates_df.query(\"sen_length < 83+1\")[\"sen_length\"].describe().astype(int)"
   ]
  },
  {
   "cell_type": "markdown",
   "metadata": {},
   "source": [
    "This distribution looks a bit more reasonable compared to the above distribution. After filtering out the outliers, we still have a pleathora of sentences on the order of 12.9 million."
   ]
  },
  {
   "cell_type": "code",
   "execution_count": 22,
   "metadata": {
    "ExecuteTime": {
     "end_time": "2019-03-12T17:11:30.534324Z",
     "start_time": "2019-03-12T17:10:58.614117Z"
    }
   },
   "outputs": [
    {
     "name": "stdout",
     "output_type": "stream",
     "text": [
      "Total number of unique candidates before filter: 1283694\n",
      "Total number of unique candidates after filter: 1161808\n",
      "Total number of unique candidates being thrown out: 121886\n"
     ]
    }
   ],
   "source": [
    "before_filter = set([tuple(line) for line in total_candidates_df[[\"gene1_id\", \"gene2_id\"]].values])\n",
    "after_filter = set([tuple(line) for line in total_candidates_df.query(\"sen_length < 83+1\")[[\"gene1_id\", \"gene2_id\"]].values])\n",
    "print(\n",
    "    \"Total number of unique candidates before filter: {}\".format(\n",
    "        total_candidates_df[[\"gene1_id\", \"gene2_id\"]].drop_duplicates().shape[0]\n",
    "    )\n",
    ")\n",
    "print(\n",
    "    \"Total number of unique candidates after filter: {}\".format(\n",
    "        total_candidates_df.query(\"sen_length < 83+1\")[[\"gene1_id\", \"gene2_id\"]].drop_duplicates().shape[0]\n",
    "    )\n",
    ")\n",
    "print(\"Total number of unique candidates being thrown out: {}\".format(len(before_filter.difference(after_filter))))"
   ]
  },
  {
   "cell_type": "code",
   "execution_count": 23,
   "metadata": {
    "ExecuteTime": {
     "end_time": "2019-03-12T17:11:31.805274Z",
     "start_time": "2019-03-12T17:11:30.536181Z"
    }
   },
   "outputs": [],
   "source": [
    "filtered_total_candidates_df = total_candidates_df.query(\"sen_length < 83+1\")"
   ]
  },
  {
   "cell_type": "code",
   "execution_count": 24,
   "metadata": {
    "ExecuteTime": {
     "end_time": "2019-03-12T17:11:35.860405Z",
     "start_time": "2019-03-12T17:11:31.806868Z"
    }
   },
   "outputs": [
    {
     "data": {
      "text/plain": [
       "Text(0.5,1,'# of Unique Sentences in Entire Dataset with Co-Mention Pair in/not in hetionet')"
      ]
     },
     "execution_count": 24,
     "metadata": {},
     "output_type": "execute_result"
    },
    {
     "data": {
      "image/png": "[encoded data removed]",
      "text/plain": [
       "<matplotlib.figure.Figure at 0x7ff243be4240>"
      ]
     },
     "metadata": {},
     "output_type": "display_data"
    }
   ],
   "source": [
    "venn2(\n",
    "    [\n",
    "        set(filtered_total_candidates_df.query(\"hetionet==0\").sentence_id),\n",
    "        set(filtered_total_candidates_df.query(\"hetionet==1\").sentence_id)\n",
    "    ], set_labels=[\"Not In Hetionet\", \"In Hetionet\"])\n",
    "plt.title(\"# of Unique Sentences in Entire Dataset with Co-Mention Pair in/not in hetionet\")"
   ]
  },
  {
   "cell_type": "markdown",
   "metadata": {},
   "source": [
    "# Co-occuring Mentions Sentence Stats"
   ]
  },
  {
   "cell_type": "markdown",
   "metadata": {},
   "source": [
    "This next block contains a visualization about the number of mentions a sentence may contain."
   ]
  },
  {
   "cell_type": "code",
   "execution_count": 25,
   "metadata": {
    "ExecuteTime": {
     "end_time": "2019-03-12T17:11:37.365699Z",
     "start_time": "2019-03-12T17:11:35.862145Z"
    }
   },
   "outputs": [
    {
     "data": {
      "text/plain": [
       "<matplotlib.axes._subplots.AxesSubplot at 0x7ff23ffd7630>"
      ]
     },
     "execution_count": 25,
     "metadata": {},
     "output_type": "execute_result"
    },
    {
     "data": {
      "image/png": "[encoded data removed]",
      "text/plain": [
       "<matplotlib.figure.Figure at 0x7ff24400d358>"
      ]
     },
     "metadata": {},
     "output_type": "display_data"
    }
   ],
   "source": [
    "sns.distplot(\n",
    "    filtered_total_candidates_df\n",
    "    .drop_duplicates(\"sentence_id\")[\"gene_mention_count\"], \n",
    "    kde=False, \n",
    "    rug=False,\n",
    "    bins=20\n",
    ")"
   ]
  },
  {
   "cell_type": "code",
   "execution_count": 26,
   "metadata": {
    "ExecuteTime": {
     "end_time": "2019-03-12T17:11:38.740906Z",
     "start_time": "2019-03-12T17:11:37.373852Z"
    }
   },
   "outputs": [
    {
     "data": {
      "text/plain": [
       "2     1787332\n",
       "3      690090\n",
       "4      319388\n",
       "5      124060\n",
       "6       61925\n",
       "7       26364\n",
       "1       15269\n",
       "8       14147\n",
       "9        7182\n",
       "10       4065\n",
       "11       2142\n",
       "12       1307\n",
       "13        831\n",
       "14        441\n",
       "15        286\n",
       "16        172\n",
       "17        107\n",
       "18         64\n",
       "19         44\n",
       "20         32\n",
       "21         19\n",
       "22         12\n",
       "24          3\n",
       "23          3\n",
       "25          2\n",
       "Name: gene_mention_count, dtype: int64"
      ]
     },
     "execution_count": 26,
     "metadata": {},
     "output_type": "execute_result"
    }
   ],
   "source": [
    "filtered_total_candidates_df.drop_duplicates(\"sentence_id\")[\"gene_mention_count\"].value_counts()"
   ]
  },
  {
   "cell_type": "markdown",
   "metadata": {},
   "source": [
    "The above graph shows the distribution of gene mentions per sentence. Looking above majority of the sentences contain only two unique gene mentions, while a select number of sentences can contain a total of 25 gene mentions. Overall, this is an acceptable distribution, since majority of sentences will have just two mention pairs."
   ]
  },
  {
   "cell_type": "markdown",
   "metadata": {},
   "source": [
    "# Subsampled Set Distributions"
   ]
  },
  {
   "cell_type": "markdown",
   "metadata": {},
   "source": [
    "Take a look at the stratification for each train/dev/test set."
   ]
  },
  {
   "cell_type": "markdown",
   "metadata": {},
   "source": [
    "## Training Set"
   ]
  },
  {
   "cell_type": "markdown",
   "metadata": {},
   "source": [
    "Here the training set covers majority of the characterisitics are the entire dataset. This isn't surprising because a stratified sort was used to allocate candidates."
   ]
  },
  {
   "cell_type": "code",
   "execution_count": 27,
   "metadata": {
    "ExecuteTime": {
     "end_time": "2019-03-12T17:11:41.446344Z",
     "start_time": "2019-03-12T17:11:38.742645Z"
    }
   },
   "outputs": [
    {
     "data": {
      "text/plain": [
       "<matplotlib.axes._subplots.AxesSubplot at 0x7ff247633f60>"
      ]
     },
     "execution_count": 27,
     "metadata": {},
     "output_type": "execute_result"
    },
    {
     "data": {
      "image/png": "[encoded data removed]",
      "text/plain": [
       "<matplotlib.figure.Figure at 0x7ff2472fdda0>"
      ]
     },
     "metadata": {},
     "output_type": "display_data"
    }
   ],
   "source": [
    "sns.distplot(\n",
    "    filtered_total_candidates_df\n",
    "    .query(\"split==3\")\n",
    "    .drop_duplicates(\"sentence_id\")[\"gene_mention_count\"], \n",
    "    kde=False, \n",
    "    rug=False,\n",
    "    bins=20\n",
    ")"
   ]
  },
  {
   "cell_type": "code",
   "execution_count": 28,
   "metadata": {
    "ExecuteTime": {
     "end_time": "2019-03-12T17:11:43.908434Z",
     "start_time": "2019-03-12T17:11:41.447795Z"
    }
   },
   "outputs": [
    {
     "data": {
      "text/plain": [
       "2     1584430\n",
       "3      567033\n",
       "4      249606\n",
       "5       93078\n",
       "6       45594\n",
       "7       18863\n",
       "1       13262\n",
       "8       10092\n",
       "9        5034\n",
       "10       2864\n",
       "11       1501\n",
       "12        919\n",
       "13        583\n",
       "14        310\n",
       "15        200\n",
       "16        130\n",
       "17         82\n",
       "18         46\n",
       "19         35\n",
       "20         21\n",
       "21         14\n",
       "22          9\n",
       "24          2\n",
       "23          2\n",
       "25          1\n",
       "Name: gene_mention_count, dtype: int64"
      ]
     },
     "execution_count": 28,
     "metadata": {},
     "output_type": "execute_result"
    }
   ],
   "source": [
    "filtered_total_candidates_df.query(\"split==3\").drop_duplicates(\"sentence_id\")[\"gene_mention_count\"].value_counts()"
   ]
  },
  {
   "cell_type": "code",
   "execution_count": 29,
   "metadata": {
    "ExecuteTime": {
     "end_time": "2019-03-12T17:11:47.616315Z",
     "start_time": "2019-03-12T17:11:43.910218Z"
    }
   },
   "outputs": [
    {
     "name": "stderr",
     "output_type": "stream",
     "text": [
      "/home/danich1/anaconda2/envs/snorkeling/lib/python3.6/site-packages/scipy/stats/stats.py:1713: FutureWarning: Using a non-tuple sequence for multidimensional indexing is deprecated; use `arr[tuple(seq)]` instead of `arr[seq]`. In the future this will be interpreted as an array index, `arr[np.array(seq)]`, which will result either in an error or a different result.\n",
      "  return np.add.reduce(sorted[indexer] * weights, axis=axis) / sumval\n"
     ]
    },
    {
     "data": {
      "text/plain": [
       "<matplotlib.axes._subplots.AxesSubplot at 0x7ff2496b5c18>"
      ]
     },
     "execution_count": 29,
     "metadata": {},
     "output_type": "execute_result"
    },
    {
     "data": {
      "image/png": "[encoded data removed]",
      "text/plain": [
       "<matplotlib.figure.Figure at 0x7ff2496ca128>"
      ]
     },
     "metadata": {},
     "output_type": "display_data"
    }
   ],
   "source": [
    "sns.distplot(filtered_total_candidates_df.query(\"split==3\")[\"sen_length\"], rug=False)"
   ]
  },
  {
   "cell_type": "markdown",
   "metadata": {},
   "source": [
    "## Dev Set"
   ]
  },
  {
   "cell_type": "markdown",
   "metadata": {},
   "source": [
    "This block contains information on the development set (aka tuning set)."
   ]
  },
  {
   "cell_type": "code",
   "execution_count": 30,
   "metadata": {
    "ExecuteTime": {
     "end_time": "2019-03-12T17:11:48.068208Z",
     "start_time": "2019-03-12T17:11:47.617879Z"
    }
   },
   "outputs": [
    {
     "data": {
      "text/plain": [
       "<matplotlib.axes._subplots.AxesSubplot at 0x7ff249dd6c88>"
      ]
     },
     "execution_count": 30,
     "metadata": {},
     "output_type": "execute_result"
    },
    {
     "data": {
      "image/png": "[encoded data removed]",
      "text/plain": [
       "<matplotlib.figure.Figure at 0x7ff248e88668>"
      ]
     },
     "metadata": {},
     "output_type": "display_data"
    }
   ],
   "source": [
    "sns.distplot(\n",
    "    filtered_total_candidates_df\n",
    "    .query(\"split==4\")\n",
    "    .drop_duplicates(\"sentence_id\")[\"gene_mention_count\"], \n",
    "    kde=False, \n",
    "    rug=False,\n",
    "    bins=20\n",
    ")"
   ]
  },
  {
   "cell_type": "code",
   "execution_count": 31,
   "metadata": {
    "ExecuteTime": {
     "end_time": "2019-03-12T17:11:48.364341Z",
     "start_time": "2019-03-12T17:11:48.069819Z"
    }
   },
   "outputs": [
    {
     "data": {
      "text/plain": [
       "2     161547\n",
       "3      94914\n",
       "4      52055\n",
       "5      22425\n",
       "6      11496\n",
       "7       5197\n",
       "8       2791\n",
       "1       1666\n",
       "9       1484\n",
       "10       854\n",
       "11       439\n",
       "12       265\n",
       "13       171\n",
       "14        85\n",
       "15        64\n",
       "16        28\n",
       "17        14\n",
       "18        12\n",
       "20         8\n",
       "19         6\n",
       "21         4\n",
       "22         3\n",
       "24         1\n",
       "23         1\n",
       "25         1\n",
       "Name: gene_mention_count, dtype: int64"
      ]
     },
     "execution_count": 31,
     "metadata": {},
     "output_type": "execute_result"
    }
   ],
   "source": [
    "filtered_total_candidates_df.query(\"split==4\").drop_duplicates(\"sentence_id\")[\"gene_mention_count\"].value_counts()"
   ]
  },
  {
   "cell_type": "code",
   "execution_count": 32,
   "metadata": {
    "ExecuteTime": {
     "end_time": "2019-03-12T17:11:48.913169Z",
     "start_time": "2019-03-12T17:11:48.366181Z"
    }
   },
   "outputs": [
    {
     "name": "stderr",
     "output_type": "stream",
     "text": [
      "/home/danich1/anaconda2/envs/snorkeling/lib/python3.6/site-packages/scipy/stats/stats.py:1713: FutureWarning: Using a non-tuple sequence for multidimensional indexing is deprecated; use `arr[tuple(seq)]` instead of `arr[seq]`. In the future this will be interpreted as an array index, `arr[np.array(seq)]`, which will result either in an error or a different result.\n",
      "  return np.add.reduce(sorted[indexer] * weights, axis=axis) / sumval\n"
     ]
    },
    {
     "data": {
      "text/plain": [
       "<matplotlib.axes._subplots.AxesSubplot at 0x7ff24e2170f0>"
      ]
     },
     "execution_count": 32,
     "metadata": {},
     "output_type": "execute_result"
    },
    {
     "data": {
      "image/png": "[encoded data removed]",
      "text/plain": [
       "<matplotlib.figure.Figure at 0x7ff24e250ac8>"
      ]
     },
     "metadata": {},
     "output_type": "display_data"
    }
   ],
   "source": [
    "sns.distplot(filtered_total_candidates_df.query(\"split==4\")[\"sen_length\"], rug=False)"
   ]
  },
  {
   "cell_type": "markdown",
   "metadata": {},
   "source": [
    "## Test Set"
   ]
  },
  {
   "cell_type": "markdown",
   "metadata": {},
   "source": [
    "This block contains information on the test set."
   ]
  },
  {
   "cell_type": "code",
   "execution_count": 33,
   "metadata": {
    "ExecuteTime": {
     "end_time": "2019-03-12T17:11:49.220084Z",
     "start_time": "2019-03-12T17:11:48.914852Z"
    }
   },
   "outputs": [
    {
     "data": {
      "text/plain": [
       "<matplotlib.axes._subplots.AxesSubplot at 0x7ff24cd9de80>"
      ]
     },
     "execution_count": 33,
     "metadata": {},
     "output_type": "execute_result"
    },
    {
     "data": {
      "image/png": "[encoded data removed]",
      "text/plain": [
       "<matplotlib.figure.Figure at 0x7ff24c561b70>"
      ]
     },
     "metadata": {},
     "output_type": "display_data"
    }
   ],
   "source": [
    "sns.distplot(\n",
    "    filtered_total_candidates_df\n",
    "    .query(\"split==5\")\n",
    "    .drop_duplicates(\"sentence_id\")[\"gene_mention_count\"], \n",
    "    kde=False, \n",
    "    rug=False,\n",
    "    bins=20\n",
    ")"
   ]
  },
  {
   "cell_type": "code",
   "execution_count": 34,
   "metadata": {
    "ExecuteTime": {
     "end_time": "2019-03-12T17:11:49.372477Z",
     "start_time": "2019-03-12T17:11:49.221454Z"
    }
   },
   "outputs": [
    {
     "data": {
      "text/plain": [
       "2     41355\n",
       "3     28143\n",
       "4     17727\n",
       "5      8557\n",
       "6      4835\n",
       "7      2304\n",
       "8      1264\n",
       "9       664\n",
       "10      347\n",
       "1       341\n",
       "11      202\n",
       "12      123\n",
       "13       77\n",
       "14       46\n",
       "15       22\n",
       "16       14\n",
       "17       11\n",
       "18        6\n",
       "20        3\n",
       "19        3\n",
       "21        1\n",
       "Name: gene_mention_count, dtype: int64"
      ]
     },
     "execution_count": 34,
     "metadata": {},
     "output_type": "execute_result"
    }
   ],
   "source": [
    "filtered_total_candidates_df.query(\"split==5\").drop_duplicates(\"sentence_id\")[\"gene_mention_count\"].value_counts()"
   ]
  },
  {
   "cell_type": "code",
   "execution_count": 35,
   "metadata": {
    "ExecuteTime": {
     "end_time": "2019-03-12T17:11:49.898904Z",
     "start_time": "2019-03-12T17:11:49.374930Z"
    },
    "scrolled": false
   },
   "outputs": [
    {
     "name": "stderr",
     "output_type": "stream",
     "text": [
      "/home/danich1/anaconda2/envs/snorkeling/lib/python3.6/site-packages/scipy/stats/stats.py:1713: FutureWarning: Using a non-tuple sequence for multidimensional indexing is deprecated; use `arr[tuple(seq)]` instead of `arr[seq]`. In the future this will be interpreted as an array index, `arr[np.array(seq)]`, which will result either in an error or a different result.\n",
      "  return np.add.reduce(sorted[indexer] * weights, axis=axis) / sumval\n"
     ]
    },
    {
     "data": {
      "text/plain": [
       "<matplotlib.axes._subplots.AxesSubplot at 0x7ff253204518>"
      ]
     },
     "execution_count": 35,
     "metadata": {},
     "output_type": "execute_result"
    },
    {
     "data": {
      "image/png": "[encoded data removed]",
      "text/plain": [
       "<matplotlib.figure.Figure at 0x7ff25169d320>"
      ]
     },
     "metadata": {},
     "output_type": "display_data"
    }
   ],
   "source": [
    "sns.distplot(filtered_total_candidates_df.query(\"split==5\")[\"sen_length\"], rug=False)"
   ]
  },
  {
   "cell_type": "markdown",
   "metadata": {},
   "source": [
    "In conclusion, the optimal cutoff point in this case would be: **84** tokens/words or smaller depending on algorithm performance. Another important lesson is to analyze one's dataset before undergoing the journey of training a deep learning model. Sentence length is an important factor, when it comes to filtering out the dataset. If ignored, a significant amount of problems will arise. For example, when training a long short term memory network (LSTM), sequence length dictates how many steps the LSTM needs to traverse in order to ultimately calculate the probability of a sentence mentioning a relationship. If the LSTM were to be fed a sentence that contains 1120 words, then the network has 1120 steps to parse through. This takes a significant amount of time (~34 hours+). Plus during backpropogation, the gradient will become very small that the network cannot learn anything useful ([Backpropogation through time](https://en.wikipedia.org/wiki/Backpropagation_through_time)). "
   ]
  }
 ],
 "metadata": {
  "kernelspec": {
   "display_name": "Python [conda env:snorkeling]",
   "language": "python",
   "name": "conda-env-snorkeling-py"
  },
  "language_info": {
   "codemirror_mode": {
    "name": "ipython",
    "version": 3
   },
   "file_extension": ".py",
   "mimetype": "text/x-python",
   "name": "python",
   "nbconvert_exporter": "python",
   "pygments_lexer": "ipython3",
   "version": "3.6.4"
  }
 },
 "nbformat": 4,
 "nbformat_minor": 2
}
