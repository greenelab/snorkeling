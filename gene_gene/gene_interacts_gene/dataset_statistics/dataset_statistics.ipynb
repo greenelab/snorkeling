{
 "cells": [
  {
   "cell_type": "markdown",
   "metadata": {},
   "source": [
    "# Dataset Statistics for Gene Gene Sentences"
   ]
  },
  {
   "cell_type": "markdown",
   "metadata": {},
   "source": [
    "This notebook is designed to show statistics on the data extracted from pubmed. The following cells below here are needed to set up the environment."
   ]
  },
  {
   "cell_type": "code",
   "execution_count": 1,
   "metadata": {
    "ExecuteTime": {
     "end_time": "2020-01-16T21:09:20.547808Z",
     "start_time": "2020-01-16T21:09:19.909333Z"
    }
   },
   "outputs": [],
   "source": [
    "%load_ext autoreload\n",
    "%autoreload 2\n",
    "%matplotlib inline\n",
    "\n",
    "from collections import Counter\n",
    "from itertools import product\n",
    "import os\n",
    "import pickle\n",
    "import sys\n",
    "\n",
    "sys.path.append(os.path.abspath('../../../modules'))\n",
    "\n",
    "import pandas as pd\n",
    "import matplotlib.pyplot as plt\n",
    "import seaborn as sns\n",
    "from tqdm import tqdm_notebook\n",
    "\n",
    "sns.set(rc={'figure.figsize':(12,6), \"font.size\":17})"
   ]
  },
  {
   "cell_type": "code",
   "execution_count": 2,
   "metadata": {
    "ExecuteTime": {
     "end_time": "2020-01-16T21:09:20.724042Z",
     "start_time": "2020-01-16T21:09:20.549229Z"
    }
   },
   "outputs": [],
   "source": [
    "#Set up the environment\n",
    "username = \"danich1\"\n",
    "password = \"snorkel\"\n",
    "dbname = \"pubmeddb\"\n",
    "\n",
    "#Path subject to change for different os\n",
    "database_str = \"postgresql+psycopg2://{}:{}@/{}?host=/var/run/postgresql\".format(username, password, dbname)\n",
    "os.environ['SNORKELDB'] = database_str\n",
    "\n",
    "from snorkel import SnorkelSession\n",
    "session = SnorkelSession()"
   ]
  },
  {
   "cell_type": "code",
   "execution_count": 3,
   "metadata": {
    "ExecuteTime": {
     "end_time": "2020-01-16T21:09:20.743763Z",
     "start_time": "2020-01-16T21:09:20.725916Z"
    }
   },
   "outputs": [],
   "source": [
    "from snorkel.models import candidate_subclass, Candidate\n",
    "GeneGene = candidate_subclass('GeneGene', ['Gene1', 'Gene2'])"
   ]
  },
  {
   "cell_type": "code",
   "execution_count": 4,
   "metadata": {
    "ExecuteTime": {
     "end_time": "2020-01-16T21:09:20.813842Z",
     "start_time": "2020-01-16T21:09:20.745201Z"
    }
   },
   "outputs": [],
   "source": [
    "from utils.notebook_utils.dataframe_helper import write_candidates_to_excel, make_sentence_df"
   ]
  },
  {
   "cell_type": "markdown",
   "metadata": {},
   "source": [
    "## Load and Merge DataFrames"
   ]
  },
  {
   "cell_type": "code",
   "execution_count": 5,
   "metadata": {
    "ExecuteTime": {
     "end_time": "2020-01-16T21:09:23.562200Z",
     "start_time": "2020-01-16T21:09:20.815018Z"
    },
    "scrolled": true
   },
   "outputs": [
    {
     "data": {
      "text/html": [
       "<div>\n",
       "<style scoped>\n",
       "    .dataframe tbody tr th:only-of-type {\n",
       "        vertical-align: middle;\n",
       "    }\n",
       "\n",
       "    .dataframe tbody tr th {\n",
       "        vertical-align: top;\n",
       "    }\n",
       "\n",
       "    .dataframe thead th {\n",
       "        text-align: right;\n",
       "    }\n",
       "</style>\n",
       "<table border=\"1\" class=\"dataframe\">\n",
       "  <thead>\n",
       "    <tr style=\"text-align: right;\">\n",
       "      <th></th>\n",
       "      <th>gene1_id</th>\n",
       "      <th>gene1_name</th>\n",
       "      <th>gene2_id</th>\n",
       "      <th>gene2_name</th>\n",
       "      <th>sources</th>\n",
       "      <th>n_sentences</th>\n",
       "      <th>hetionet</th>\n",
       "      <th>has_sentence</th>\n",
       "      <th>split</th>\n",
       "      <th>partition_rank</th>\n",
       "    </tr>\n",
       "  </thead>\n",
       "  <tbody>\n",
       "    <tr>\n",
       "      <th>0</th>\n",
       "      <td>1</td>\n",
       "      <td>A1BG</td>\n",
       "      <td>10321</td>\n",
       "      <td>CRISP3</td>\n",
       "      <td>II_literature|hetio-dag</td>\n",
       "      <td>5</td>\n",
       "      <td>1</td>\n",
       "      <td>1</td>\n",
       "      <td>3</td>\n",
       "      <td>0.436432</td>\n",
       "    </tr>\n",
       "    <tr>\n",
       "      <th>1</th>\n",
       "      <td>125</td>\n",
       "      <td>ADH1B</td>\n",
       "      <td>10321</td>\n",
       "      <td>CRISP3</td>\n",
       "      <td>NaN</td>\n",
       "      <td>1</td>\n",
       "      <td>0</td>\n",
       "      <td>1</td>\n",
       "      <td>3</td>\n",
       "      <td>0.664368</td>\n",
       "    </tr>\n",
       "  </tbody>\n",
       "</table>\n",
       "</div>"
      ],
      "text/plain": [
       "   gene1_id gene1_name  gene2_id gene2_name                  sources  \\\n",
       "0         1       A1BG     10321     CRISP3  II_literature|hetio-dag   \n",
       "1       125      ADH1B     10321     CRISP3                      NaN   \n",
       "\n",
       "   n_sentences  hetionet  has_sentence  split  partition_rank  \n",
       "0            5         1             1      3        0.436432  \n",
       "1            1         0             1      3        0.664368  "
      ]
     },
     "execution_count": 5,
     "metadata": {},
     "output_type": "execute_result"
    }
   ],
   "source": [
    "edge_level_df = pd.read_table(\"input/gene_interacts_gene.tsv.xz\")\n",
    "edge_level_df.head(2)"
   ]
  },
  {
   "cell_type": "code",
   "execution_count": 8,
   "metadata": {
    "ExecuteTime": {
     "end_time": "2020-01-16T21:41:26.381991Z",
     "start_time": "2020-01-16T21:09:33.228729Z"
    }
   },
   "outputs": [],
   "source": [
    "sql = '''\n",
    "select cand_id as candidate_id, gene1_id, gene2_id, sentence_id, text, array_length(words, 1) as sen_length from (\n",
    "    select cand_id, \"Gene1_cid\" as gene1_id, \"Gene2_cid\" as gene2_id, sentence_id from (\n",
    "        select gene_gene.id as \"cand_id\", gene_gene.\"Gene1_id\",\n",
    "        gene_gene.\"Gene1_cid\", gene_gene.\"Gene2_cid\", candidate.split from gene_gene \n",
    "        inner join candidate on gene_gene.id=candidate.id \n",
    "    ) as candidate_splits inner join span on candidate_splits.\"Gene1_id\"=span.id\n",
    "    ) as candidate_sen inner join sentence on candidate_sen.sentence_id=sentence.id\n",
    "'''\n",
    "candidate_sentence_df = pd.read_sql(sql, database_str).astype({\"gene1_id\":int, \"gene2_id\":int})"
   ]
  },
  {
   "cell_type": "code",
   "execution_count": 11,
   "metadata": {
    "ExecuteTime": {
     "end_time": "2020-01-16T22:02:13.557673Z",
     "start_time": "2020-01-16T22:01:55.859765Z"
    }
   },
   "outputs": [
    {
     "data": {
      "text/html": [
       "<div>\n",
       "<style scoped>\n",
       "    .dataframe tbody tr th:only-of-type {\n",
       "        vertical-align: middle;\n",
       "    }\n",
       "\n",
       "    .dataframe tbody tr th {\n",
       "        vertical-align: top;\n",
       "    }\n",
       "\n",
       "    .dataframe thead th {\n",
       "        text-align: right;\n",
       "    }\n",
       "</style>\n",
       "<table border=\"1\" class=\"dataframe\">\n",
       "  <thead>\n",
       "    <tr style=\"text-align: right;\">\n",
       "      <th></th>\n",
       "      <th>gene1_id</th>\n",
       "      <th>gene1_name</th>\n",
       "      <th>gene2_id</th>\n",
       "      <th>gene2_name</th>\n",
       "      <th>sources</th>\n",
       "      <th>n_sentences</th>\n",
       "      <th>hetionet</th>\n",
       "      <th>has_sentence</th>\n",
       "      <th>split</th>\n",
       "      <th>partition_rank</th>\n",
       "      <th>candidate_id</th>\n",
       "      <th>sentence_id</th>\n",
       "      <th>text</th>\n",
       "      <th>sen_length</th>\n",
       "    </tr>\n",
       "  </thead>\n",
       "  <tbody>\n",
       "    <tr>\n",
       "      <th>0</th>\n",
       "      <td>1</td>\n",
       "      <td>A1BG</td>\n",
       "      <td>10321</td>\n",
       "      <td>CRISP3</td>\n",
       "      <td>II_literature|hetio-dag</td>\n",
       "      <td>5</td>\n",
       "      <td>1</td>\n",
       "      <td>1</td>\n",
       "      <td>3</td>\n",
       "      <td>0.436432</td>\n",
       "      <td>12545979</td>\n",
       "      <td>46021215</td>\n",
       "      <td>Cysteine-rich secretory protein 3 is a ligand ...</td>\n",
       "      <td>13</td>\n",
       "    </tr>\n",
       "    <tr>\n",
       "      <th>1</th>\n",
       "      <td>1</td>\n",
       "      <td>A1BG</td>\n",
       "      <td>10321</td>\n",
       "      <td>CRISP3</td>\n",
       "      <td>II_literature|hetio-dag</td>\n",
       "      <td>5</td>\n",
       "      <td>1</td>\n",
       "      <td>1</td>\n",
       "      <td>3</td>\n",
       "      <td>0.436432</td>\n",
       "      <td>12655176</td>\n",
       "      <td>46021250</td>\n",
       "      <td>We demonstrate that CRISP-3 is a specific and ...</td>\n",
       "      <td>27</td>\n",
       "    </tr>\n",
       "  </tbody>\n",
       "</table>\n",
       "</div>"
      ],
      "text/plain": [
       "   gene1_id gene1_name  gene2_id gene2_name                  sources  \\\n",
       "0         1       A1BG     10321     CRISP3  II_literature|hetio-dag   \n",
       "1         1       A1BG     10321     CRISP3  II_literature|hetio-dag   \n",
       "\n",
       "   n_sentences  hetionet  has_sentence  split  partition_rank  candidate_id  \\\n",
       "0            5         1             1      3        0.436432      12545979   \n",
       "1            5         1             1      3        0.436432      12655176   \n",
       "\n",
       "   sentence_id                                               text  sen_length  \n",
       "0     46021215  Cysteine-rich secretory protein 3 is a ligand ...          13  \n",
       "1     46021250  We demonstrate that CRISP-3 is a specific and ...          27  "
      ]
     },
     "execution_count": 11,
     "metadata": {},
     "output_type": "execute_result"
    }
   ],
   "source": [
    "total_candidates_df = (\n",
    "    edge_level_df\n",
    "    .merge(candidate_sentence_df.astype({\"gene1_id\":int, \"gene2_id\":int}), on=[\"gene1_id\", \"gene2_id\"])\n",
    ")\n",
    "total_candidates_df.head(2)"
   ]
  },
  {
   "cell_type": "code",
   "execution_count": 13,
   "metadata": {
    "ExecuteTime": {
     "end_time": "2020-01-16T22:03:49.295048Z",
     "start_time": "2020-01-16T22:02:53.044926Z"
    }
   },
   "outputs": [
    {
     "data": {
      "application/vnd.jupyter.widget-view+json": {
       "model_id": "9e094f9440014ffbb57f48dbe7f23cb2",
       "version_major": 2,
       "version_minor": 0
      },
      "text/plain": [
       "HBox(children=(FloatProgress(value=0.0, max=10000.0), HTML(value='')))"
      ]
     },
     "metadata": {},
     "output_type": "display_data"
    },
    {
     "name": "stdout",
     "output_type": "stream",
     "text": [
      "\n"
     ]
    },
    {
     "data": {
      "text/html": [
       "<div>\n",
       "<style scoped>\n",
       "    .dataframe tbody tr th:only-of-type {\n",
       "        vertical-align: middle;\n",
       "    }\n",
       "\n",
       "    .dataframe tbody tr th {\n",
       "        vertical-align: top;\n",
       "    }\n",
       "\n",
       "    .dataframe thead th {\n",
       "        text-align: right;\n",
       "    }\n",
       "</style>\n",
       "<table border=\"1\" class=\"dataframe\">\n",
       "  <thead>\n",
       "    <tr style=\"text-align: right;\">\n",
       "      <th></th>\n",
       "      <th>candidate_id</th>\n",
       "      <th>gene1</th>\n",
       "      <th>gene2</th>\n",
       "      <th>gene1_id</th>\n",
       "      <th>gene2_id</th>\n",
       "      <th>sentence</th>\n",
       "    </tr>\n",
       "  </thead>\n",
       "  <tbody>\n",
       "    <tr>\n",
       "      <th>0</th>\n",
       "      <td>26953</td>\n",
       "      <td>proinsulin</td>\n",
       "      <td>Insulin</td>\n",
       "      <td>3630</td>\n",
       "      <td>3630</td>\n",
       "      <td>~~[[2 insulin 2]]~~ , ~~[[1 proinsulin 1]]~~ ,...</td>\n",
       "    </tr>\n",
       "    <tr>\n",
       "      <th>1</th>\n",
       "      <td>27191</td>\n",
       "      <td>Ad2</td>\n",
       "      <td>Ad2</td>\n",
       "      <td>348</td>\n",
       "      <td>348</td>\n",
       "      <td>in both early ~~[[2 ad2 2]]~~ + nd1 and ~~[[1 ...</td>\n",
       "    </tr>\n",
       "  </tbody>\n",
       "</table>\n",
       "</div>"
      ],
      "text/plain": [
       "   candidate_id       gene1    gene2 gene1_id gene2_id  \\\n",
       "0         26953  proinsulin  Insulin     3630     3630   \n",
       "1         27191         Ad2      Ad2      348      348   \n",
       "\n",
       "                                            sentence  \n",
       "0  ~~[[2 insulin 2]]~~ , ~~[[1 proinsulin 1]]~~ ,...  \n",
       "1  in both early ~~[[2 ad2 2]]~~ + nd1 and ~~[[1 ...  "
      ]
     },
     "execution_count": 13,
     "metadata": {},
     "output_type": "execute_result"
    }
   ],
   "source": [
    "dev_candidates = (\n",
    "    session\n",
    "    .query(GeneGene)\n",
    "    .filter(\n",
    "        GeneGene.id.in_(\n",
    "            total_candidates_df\n",
    "            .query(\"split==4\")\n",
    "            .sample(10000, random_state=100)\n",
    "            .candidate_id\n",
    "            .tolist()\n",
    "        )\n",
    "    )\n",
    "    .all()\n",
    ")\n",
    "dev_df = make_sentence_df(dev_candidates)\n",
    "dev_df.head(2)"
   ]
  },
  {
   "cell_type": "code",
   "execution_count": 14,
   "metadata": {
    "ExecuteTime": {
     "end_time": "2020-01-16T22:04:45.189068Z",
     "start_time": "2020-01-16T22:03:51.162002Z"
    }
   },
   "outputs": [
    {
     "data": {
      "application/vnd.jupyter.widget-view+json": {
       "model_id": "01568673aca6491baf8fd56c8569d1be",
       "version_major": 2,
       "version_minor": 0
      },
      "text/plain": [
       "HBox(children=(FloatProgress(value=0.0, max=10000.0), HTML(value='')))"
      ]
     },
     "metadata": {},
     "output_type": "display_data"
    },
    {
     "name": "stdout",
     "output_type": "stream",
     "text": [
      "\n"
     ]
    },
    {
     "data": {
      "text/html": [
       "<div>\n",
       "<style scoped>\n",
       "    .dataframe tbody tr th:only-of-type {\n",
       "        vertical-align: middle;\n",
       "    }\n",
       "\n",
       "    .dataframe tbody tr th {\n",
       "        vertical-align: top;\n",
       "    }\n",
       "\n",
       "    .dataframe thead th {\n",
       "        text-align: right;\n",
       "    }\n",
       "</style>\n",
       "<table border=\"1\" class=\"dataframe\">\n",
       "  <thead>\n",
       "    <tr style=\"text-align: right;\">\n",
       "      <th></th>\n",
       "      <th>candidate_id</th>\n",
       "      <th>gene1</th>\n",
       "      <th>gene2</th>\n",
       "      <th>gene1_id</th>\n",
       "      <th>gene2_id</th>\n",
       "      <th>sentence</th>\n",
       "    </tr>\n",
       "  </thead>\n",
       "  <tbody>\n",
       "    <tr>\n",
       "      <th>0</th>\n",
       "      <td>26171</td>\n",
       "      <td>C-4</td>\n",
       "      <td>C-2</td>\n",
       "      <td>720</td>\n",
       "      <td>717</td>\n",
       "      <td>these results show the importance of the prima...</td>\n",
       "    </tr>\n",
       "    <tr>\n",
       "      <th>1</th>\n",
       "      <td>36030</td>\n",
       "      <td>EF-Tu</td>\n",
       "      <td>EF-Ts</td>\n",
       "      <td>7284</td>\n",
       "      <td>10102</td>\n",
       "      <td>the trypsin-cleaved ~~[[1 ef-tu 1]]~~ still ca...</td>\n",
       "    </tr>\n",
       "  </tbody>\n",
       "</table>\n",
       "</div>"
      ],
      "text/plain": [
       "   candidate_id  gene1  gene2 gene1_id gene2_id  \\\n",
       "0         26171    C-4    C-2      720      717   \n",
       "1         36030  EF-Tu  EF-Ts     7284    10102   \n",
       "\n",
       "                                            sentence  \n",
       "0  these results show the importance of the prima...  \n",
       "1  the trypsin-cleaved ~~[[1 ef-tu 1]]~~ still ca...  "
      ]
     },
     "execution_count": 14,
     "metadata": {},
     "output_type": "execute_result"
    }
   ],
   "source": [
    "test_candidates = (\n",
    "    session\n",
    "    .query(GeneGene)\n",
    "    .filter(\n",
    "        GeneGene.id.in_(\n",
    "            total_candidates_df\n",
    "            .query(\"split==5\")\n",
    "            .sample(10000, random_state=120)\n",
    "            .candidate_id\n",
    "            .tolist()\n",
    "        )\n",
    "    )\n",
    "    .all()\n",
    ")\n",
    "test_df = make_sentence_df(test_candidates)\n",
    "test_df.head(2)"
   ]
  },
  {
   "cell_type": "code",
   "execution_count": 15,
   "metadata": {
    "ExecuteTime": {
     "end_time": "2020-01-16T22:04:48.712320Z",
     "start_time": "2020-01-16T22:04:48.698864Z"
    }
   },
   "outputs": [],
   "source": [
    "#write_candidates_to_excel(dev_df, \"../data/sentence/sentence_labels_dev.xlsx\")\n",
    "#write_candidates_to_excel(test_df, \"../data/sentence/sentence_labels_test.xlsx\")"
   ]
  },
  {
   "cell_type": "markdown",
   "metadata": {},
   "source": [
    "## Distribution of Sentence Length"
   ]
  },
  {
   "cell_type": "code",
   "execution_count": 16,
   "metadata": {
    "ExecuteTime": {
     "end_time": "2020-01-16T22:04:58.491141Z",
     "start_time": "2020-01-16T22:04:52.172905Z"
    }
   },
   "outputs": [
    {
     "data": {
      "text/plain": [
       "<matplotlib.axes._subplots.AxesSubplot at 0x7f0c86e237f0>"
      ]
     },
     "execution_count": 16,
     "metadata": {},
     "output_type": "execute_result"
    },
    {
     "data": {
      "image/png": "[encoded data removed]",
      "text/plain": [
       "<Figure size 432x288 with 1 Axes>"
      ]
     },
     "metadata": {
      "needs_background": "light"
     },
     "output_type": "display_data"
    }
   ],
   "source": [
    "sns.distplot(total_candidates_df[\"sen_length\"], rug=False)"
   ]
  },
  {
   "cell_type": "code",
   "execution_count": 17,
   "metadata": {
    "ExecuteTime": {
     "end_time": "2020-01-16T22:05:02.644877Z",
     "start_time": "2020-01-16T22:05:02.028441Z"
    }
   },
   "outputs": [
    {
     "data": {
      "text/plain": [
       "count    27178228\n",
       "mean           42\n",
       "std            25\n",
       "min             3\n",
       "25%            27\n",
       "50%            37\n",
       "75%            50\n",
       "max          1304\n",
       "Name: sen_length, dtype: int64"
      ]
     },
     "execution_count": 17,
     "metadata": {},
     "output_type": "execute_result"
    }
   ],
   "source": [
    "total_candidates_df[\"sen_length\"].describe().astype(int)"
   ]
  },
  {
   "cell_type": "markdown",
   "metadata": {},
   "source": [
    "Something seems fishy about this distribution. The number of words (tokens) for a given sentence is in the thousands range. Intuitively, that doesn't make sense, since the average number of words for a given sentence is 37. Possible reason for this abnormality is a parsing error. Lets take a look at this 1120 word sentence."
   ]
  },
  {
   "cell_type": "code",
   "execution_count": 18,
   "metadata": {
    "ExecuteTime": {
     "end_time": "2020-01-16T22:05:12.325994Z",
     "start_time": "2020-01-16T22:05:12.245496Z"
    }
   },
   "outputs": [
    {
     "data": {
      "text/plain": [
       "'The synthesis and magnetic properties of 13 new homo- and heterometallic Co(II) complexes containing the artificial amino acid 2-amino-isobutyric acid, aibH, are reported: [Co(II)(4)(aib)(3)(aibH)(3)(NO(3))](NO(3))(4)  2.8CH(3)OH  0.2H(2)O (1  2.8CH(3)OH  0.2H(2)O), {Na(2)[Co(II)(2)(aib)(2)(N(3))(4)(CH(3)OH)(4)]}(n) (2), [Co(II)(6)La(III)(aib)(6)(OH)(3)(NO(3))(2)(H(2)O)(4)(CH(3)CN)(2)]  0.5[La(NO(3))(6)]  0.75(ClO(4))  1.75(NO(3))  3.2CH(3)CN  5.9H(2)O (3  3.2CH(3)CN  5.9H(2)O), [Co(II)(6)Pr(III)(aib)(6)(OH)(3)(NO(3))(3)(CH(3)CN)(6)]  [Pr(NO(3))(5)]  0.41[Pr(NO(3))(3)(ClO(4))(0.5)(H(2)O)(1.5)]  0.59[Co(NO(3))(3)(H(2)O)]  0.2(ClO(4))  0.25H(2)O (4  0.25H(2)O), [Co(II)(6)Nd(III)(aib)(6)(OH)(3)(NO(3))(2.8)(CH(3)OH)(4.7)(H(2)O)(1.5)]  2.7(ClO(4))  0.5(NO(3))  2.26CH(3)OH  0.24H(2)O (5  2.26CH(3)OH  0.24H(2)O), [Co(II)(6)Sm(III)(aib)(6)(OH)(3)(NO(3))(3)(CH(3)CN)(6)]  [Sm(NO(3))(5)]  0.44[Sm(NO(3))(3)(ClO(4))(0.5)(H(2)O)(1.5)]  0.56[Co(NO(3))(3)(H(2)O)]  0.22(ClO(4))  0.3H(2)O (6  0.3H(2)O), [Co(II)(6)Eu(III)(aib)(6)(OH)(3)(NO(3))(3)(CH(3)OH)(4.87)(H(2)O)(1.13)](ClO(4))(2.5)(NO(3))(0.5)  2.43CH(3)OH  0.92H(2)O (7  2.43CH(3)OH  0.92H(2)O), [Co(II)(6)Gd(III)(aib)(6)(OH)(3)(NO(3))(2.9)(CH(3)OH)(4.9)(H(2)O)(1.2)]  2.6(ClO(4))  0.5(NO(3))  2.58CH(3)OH  0.47H(2)O (8  2.58CH(3)OH  0.47H(2)O), [Co(II)(6)Tb(III)(aib)(6)(OH)(3)(NO(3))(3)(CH(3)CN)(6)]  [Tb(NO(3))(5)]  0.034[Tb(NO(3))(3)(ClO(4))(0.5)(H(2)O)(0.5)]  0.656[Co(NO(3))(3)(H(2)O)]  0.343(ClO(4))  0.3H(2)O (9  0.3H(2)O), [Co(II)(6)Dy(III)(aib)(6)(OH)(3)(NO(3))(2.9)(CH(3)OH)(4.92)(H(2)O)(1.18)](ClO(4))(2.6)(NO(3))(0.5)  2.5CH(3)OH  0.5H(2)O (10  2.5CH(3)OH  0.5H(2)O), [Co(II)(6)Ho(III)(aib)(6)(OH)(3)(NO(3))(3)(CH(3)CN)(6)]  0.27[Ho(NO(3))(3)(ClO(4))(0.35)(H(2)O)(0.15)]  0.656[Co(NO(3))(3)(H(2)O)]  0.171(ClO(4)) (11), [Co(II)(6)Er(III)(aib)(6)(OH)(4)(NO(3))(2)(CH(3)CN)(2.5)(H(2)O)(3.5)](ClO(4))(3)  CH(3)CN  0.75H(2)O (12  CH(3)CN  0.75H(2)O), and [Co(II)(6)Tm(III)(aib)(6)(OH)(3)(NO(3))(3)(H(2)O)(6)]  1.48(ClO(4))  1.52(NO(3))  3H(2)O (13  3H(2)O).'"
      ]
     },
     "execution_count": 18,
     "metadata": {},
     "output_type": "execute_result"
    }
   ],
   "source": [
    "total_candidates_df.query(\"sen_length==1304\").iloc[0][\"text\"]"
   ]
  },
  {
   "cell_type": "code",
   "execution_count": 19,
   "metadata": {
    "ExecuteTime": {
     "end_time": "2020-01-16T22:05:30.026395Z",
     "start_time": "2020-01-16T22:05:22.511394Z"
    }
   },
   "outputs": [
    {
     "data": {
      "text/plain": [
       "<matplotlib.axes._subplots.AxesSubplot at 0x7f0d1a8ae128>"
      ]
     },
     "execution_count": 19,
     "metadata": {},
     "output_type": "execute_result"
    },
    {
     "data": {
      "image/png": "[encoded data removed]",
      "text/plain": [
       "<Figure size 432x288 with 1 Axes>"
      ]
     },
     "metadata": {
      "needs_background": "light"
     },
     "output_type": "display_data"
    }
   ],
   "source": [
    "sns.distplot(total_candidates_df.query(\"sen_length < 83+1\")[\"sen_length\"], rug=False)"
   ]
  },
  {
   "cell_type": "code",
   "execution_count": 20,
   "metadata": {
    "ExecuteTime": {
     "end_time": "2020-01-16T22:05:36.589416Z",
     "start_time": "2020-01-16T22:05:33.548976Z"
    },
    "scrolled": true
   },
   "outputs": [
    {
     "data": {
      "text/plain": [
       "count    25657280\n",
       "mean           38\n",
       "std            15\n",
       "min             3\n",
       "25%            27\n",
       "50%            36\n",
       "75%            47\n",
       "max            83\n",
       "Name: sen_length, dtype: int64"
      ]
     },
     "execution_count": 20,
     "metadata": {},
     "output_type": "execute_result"
    }
   ],
   "source": [
    "total_candidates_df.query(\"sen_length < 83+1\")[\"sen_length\"].describe().astype(int)"
   ]
  },
  {
   "cell_type": "markdown",
   "metadata": {},
   "source": [
    "This distribution looks a bit more reasonable compared to the above distribution. After filtering out the outliers, we still have a pleathora of sentences on the order of 12.9 million."
   ]
  },
  {
   "cell_type": "code",
   "execution_count": 21,
   "metadata": {
    "ExecuteTime": {
     "end_time": "2020-01-16T22:45:01.285428Z",
     "start_time": "2020-01-16T22:05:40.074709Z"
    }
   },
   "outputs": [],
   "source": [
    "total_candidates_df.to_csv(\"output/all_gig_candidates.tsv.xz\", sep=\"\\t\", index=False, compression=\"xz\")"
   ]
  },
  {
   "cell_type": "markdown",
   "metadata": {},
   "source": [
    "In conclusion, the optimal cutoff point in this case would be: **84** tokens/words or smaller depending on algorithm performance. Another important lesson is to analyze one's dataset before undergoing the journey of training a deep learning model. Sentence length is an important factor, when it comes to filtering out the dataset. If ignored, a significant amount of problems will arise. For example, when training a long short term memory network (LSTM), sequence length dictates how many steps the LSTM needs to traverse in order to ultimately calculate the probability of a sentence mentioning a relationship. If the LSTM were to be fed a sentence that contains 1120 words, then the network has 1120 steps to parse through. This takes a significant amount of time (~34 hours+). Plus during backpropogation, the gradient will become very small that the network cannot learn anything useful ([Backpropogation through time](https://en.wikipedia.org/wiki/Backpropagation_through_time)). "
   ]
  }
 ],
 "metadata": {
  "kernelspec": {
   "display_name": "Python [conda env:snorkel_db]",
   "language": "python",
   "name": "conda-env-snorkel_db-py"
  },
  "language_info": {
   "codemirror_mode": {
    "name": "ipython",
    "version": 3
   },
   "file_extension": ".py",
   "mimetype": "text/x-python",
   "name": "python",
   "nbconvert_exporter": "python",
   "pygments_lexer": "ipython3",
   "version": "3.6.0"
  },
  "toc": {
   "base_numbering": 1,
   "nav_menu": {},
   "number_sections": true,
   "sideBar": true,
   "skip_h1_title": false,
   "title_cell": "Table of Contents",
   "title_sidebar": "Contents",
   "toc_cell": false,
   "toc_position": {},
   "toc_section_display": true,
   "toc_window_display": false
  },
  "varInspector": {
   "cols": {
    "lenName": 16,
    "lenType": 16,
    "lenVar": 40
   },
   "kernels_config": {
    "python": {
     "delete_cmd_postfix": "",
     "delete_cmd_prefix": "del ",
     "library": "var_list.py",
     "varRefreshCmd": "print(var_dic_list())"
    },
    "r": {
     "delete_cmd_postfix": ") ",
     "delete_cmd_prefix": "rm(",
     "library": "var_list.r",
     "varRefreshCmd": "cat(var_dic_list()) "
    }
   },
   "types_to_exclude": [
    "module",
    "function",
    "builtin_function_or_method",
    "instance",
    "_Feature"
   ],
   "window_display": false
  }
 },
 "nbformat": 4,
 "nbformat_minor": 2
}
