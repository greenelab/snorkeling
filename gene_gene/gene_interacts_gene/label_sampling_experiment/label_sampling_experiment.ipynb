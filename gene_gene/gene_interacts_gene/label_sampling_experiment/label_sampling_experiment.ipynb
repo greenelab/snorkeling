{
 "cells": [
  {
   "cell_type": "markdown",
   "metadata": {},
   "source": [
    "# Using Labels from Different Relation Types to Predict Gene Interacts Gene Sentences"
   ]
  },
  {
   "cell_type": "markdown",
   "metadata": {},
   "source": [
    "This notebook is designed to predict the gene intearcts gene (GiG) relation. The first step in this process is to load our pre-labeled annotation matricies (train, dev, and test). These matriceis contain sentences as the rows and the label function output as the columns (features). The working hypothesis here is there are shared information (i.e. similar keywords, same kind of sentence structure) between different relations, which in turn should aid in predicting disease associates gene relations.\n",
    "\n",
    "After loading the matricies, the next step is to train a generative model that will estimate the likelihood of the positive class: $P(\\hat{Y}=1 \\mid \\text{label functions})$. The generative model does this by estimating the parameter $\\mu$. This parameter represents the probability of a label function given the true class: $ P(\\text{label function={0,1,2}} \\mid Y={1 (+) / 0 (-)})$. Once $\\mu$ has been estimated, calculating the likelihood becomes: $P(\\hat{Y}=1 \\mid \\text{label functions}) = (\\prod_{i=1}^{N} P(\\text{label function}_{i} = 1 \\mid \\text{Y} = 1)) * P(Y = 1)$\n",
    "\n",
    "Note: This process doesn't involve any sentence context, so the only information used here are categorical output."
   ]
  },
  {
   "cell_type": "code",
   "execution_count": 1,
   "metadata": {
    "ExecuteTime": {
     "end_time": "2019-11-06T15:18:07.231003Z",
     "start_time": "2019-11-06T15:18:06.101061Z"
    }
   },
   "outputs": [],
   "source": [
    "%load_ext autoreload\n",
    "%autoreload 2\n",
    "%matplotlib inline\n",
    "\n",
    "import glob\n",
    "import sys\n",
    "import os\n",
    "sys.path.append(os.path.abspath('../../../modules'))\n",
    "\n",
    "import pandas as pd\n",
    "from sklearn.metrics import (\n",
    "    precision_recall_curve, \n",
    "    precision_recall_fscore_support, \n",
    "    confusion_matrix, \n",
    "    auc, roc_curve, \n",
    "    average_precision_score\n",
    ")\n",
    "from utils.notebook_utils.train_model_helper import get_model_performance, train_model_random_lfs, sample_lfs\n",
    "from utils.notebook_utils.dataframe_helper import load_candidate_dataframes\n",
    "\n",
    "import plotnine\n",
    "import seaborn as sns\n",
    "import logging\n",
    "\n",
    "logging.basicConfig(filename='logs.log', level='INFO')"
   ]
  },
  {
   "cell_type": "code",
   "execution_count": 2,
   "metadata": {
    "ExecuteTime": {
     "end_time": "2019-11-06T15:18:21.334529Z",
     "start_time": "2019-11-06T15:18:07.232463Z"
    }
   },
   "outputs": [],
   "source": [
    "label_destinations = {\n",
    "    'train':\"../data/label_matricies/train_sparse_matrix.tsv.xz\",\n",
    "    'dev':\"../data/label_matricies/dev_sparse_matrix.tsv.xz\",\n",
    "    'test':\"../data/label_matricies/test_sparse_matrix.tsv.xz\"\n",
    "}\n",
    "label_matricies = {\n",
    "    key:pd.read_csv(label_destinations[key], sep=\"\\t\").to_sparse()\n",
    "    for key in label_destinations\n",
    "}"
   ]
  },
  {
   "cell_type": "code",
   "execution_count": 3,
   "metadata": {
    "ExecuteTime": {
     "end_time": "2019-11-06T15:19:01.118124Z",
     "start_time": "2019-11-06T15:18:21.336273Z"
    }
   },
   "outputs": [],
   "source": [
    "# Majority of this code was using snorkel metal\n",
    "# Metal use the following encoding for class representation: 0 - abstain, 1 - positive, class 2 - negative class\n",
    "# Upgraded snorkel changed their encoding to be: -1 - abstain, 0 - negative class, 1 - positive class\n",
    "# To save time I'm just converting the label matricies to match the new coding scheme\n",
    "label_matricies['train'] = label_matricies['train'].fillna(-2).to_dense().replace({-1:0, -2:-1})\n",
    "label_matricies['dev'] = label_matricies['dev'].fillna(-2).to_dense().replace({-1:0, -2:-1})\n",
    "label_matricies['test'] = label_matricies['test'].fillna(-2).to_dense().replace({-1:0, -2:-1})"
   ]
  },
  {
   "cell_type": "code",
   "execution_count": 4,
   "metadata": {
    "ExecuteTime": {
     "end_time": "2019-11-06T15:19:01.488807Z",
     "start_time": "2019-11-06T15:19:01.119583Z"
    }
   },
   "outputs": [],
   "source": [
    "correct_L = label_matricies['train'].drop(\"candidate_id\", axis=1).to_numpy()\n",
    "correct_L_dev = label_matricies['dev'].drop(\"candidate_id\", axis=1).to_numpy()\n",
    "correct_L_test = label_matricies['test'].drop(\"candidate_id\", axis=1).to_numpy()"
   ]
  },
  {
   "cell_type": "code",
   "execution_count": 5,
   "metadata": {
    "ExecuteTime": {
     "end_time": "2019-11-06T15:19:01.507288Z",
     "start_time": "2019-11-06T15:19:01.490004Z"
    }
   },
   "outputs": [],
   "source": [
    "spreadsheet_names = {\n",
    "    #'train': 'data/sentences/sentence_labels_train.xlsx',\n",
    "    'dev': '../data/sentences/sentence_labels_dev.xlsx',\n",
    "    'test': '../data/sentences/sentence_labels_test.xlsx'\n",
    "}"
   ]
  },
  {
   "cell_type": "code",
   "execution_count": 6,
   "metadata": {
    "ExecuteTime": {
     "end_time": "2019-11-06T15:19:03.106562Z",
     "start_time": "2019-11-06T15:19:01.508608Z"
    },
    "scrolled": true
   },
   "outputs": [
    {
     "name": "stdout",
     "output_type": "stream",
     "text": [
      "Size of dev set: 500\n",
      "Size of test set: 500\n"
     ]
    }
   ],
   "source": [
    "candidate_dfs = {\n",
    "    key:load_candidate_dataframes(spreadsheet_names[key], \"curated_gig\")\n",
    "    for key in spreadsheet_names\n",
    "}\n",
    "\n",
    "for key in candidate_dfs:\n",
    "    print(\"Size of {} set: {}\".format(key, candidate_dfs[key].shape[0]))"
   ]
  },
  {
   "cell_type": "markdown",
   "metadata": {},
   "source": [
    "## Train the baseline model"
   ]
  },
  {
   "cell_type": "markdown",
   "metadata": {},
   "source": [
    "The baseline model for this experiment is the generative model trained on databases alone (distant supervision). A common solution towards the lack of labels problem is to use databases to effectively label sentences. The caveat is the approach doesn't take sentence context into account, which results in high recall but low precision of targeted relations. By training this model we expect that performance will be modest (~0.5 +/- 0.1 AUROC)."
   ]
  },
  {
   "cell_type": "code",
   "execution_count": 7,
   "metadata": {
    "ExecuteTime": {
     "end_time": "2019-11-06T15:19:11.721141Z",
     "start_time": "2019-11-06T15:19:03.108246Z"
    }
   },
   "outputs": [
    {
     "data": {
      "application/vnd.jupyter.widget-view+json": {
       "model_id": "26c37293114441deba97c6a02cdc4448",
       "version_major": 2,
       "version_minor": 0
      },
      "text/plain": [
       "HBox(children=(IntProgress(value=1, bar_style='info', max=1), HTML(value='')))"
      ]
     },
     "metadata": {},
     "output_type": "display_data"
    },
    {
     "name": "stdout",
     "output_type": "stream",
     "text": [
      "\n"
     ]
    }
   ],
   "source": [
    "baseline_index = list(range(0,8+1))\n",
    "train_grid_results, dev_grid_results, test_grid_results, models = (\n",
    "    train_model_random_lfs(\n",
    "        [baseline_index], correct_L, \n",
    "        correct_L_dev, candidate_dfs['dev'].curated_gig, correct_L_test, \n",
    "        pd.np.round(pd.np.linspace(0.01, 5, num=5), 2)\n",
    "    )\n",
    ")"
   ]
  },
  {
   "cell_type": "code",
   "execution_count": 8,
   "metadata": {
    "ExecuteTime": {
     "end_time": "2019-11-06T15:19:54.763580Z",
     "start_time": "2019-11-06T15:19:11.723216Z"
    }
   },
   "outputs": [],
   "source": [
    "(\n",
    "    pd.DataFrame({key:train_grid_results[key][:,1] for key in train_grid_results})\n",
    "    .assign(candidate_id=label_matricies['train'].candidate_id.values)\n",
    "    .to_csv(f\"results/GiG/marginals/baseline_sampled.tsv.xz\", compression=\"xz\", sep=\"\\t\", index=False)\n",
    ")"
   ]
  },
  {
   "cell_type": "code",
   "execution_count": 9,
   "metadata": {
    "ExecuteTime": {
     "end_time": "2019-11-06T15:19:54.791323Z",
     "start_time": "2019-11-06T15:19:54.765083Z"
    }
   },
   "outputs": [
    {
     "data": {
      "text/html": [
       "<div>\n",
       "<style scoped>\n",
       "    .dataframe tbody tr th:only-of-type {\n",
       "        vertical-align: middle;\n",
       "    }\n",
       "\n",
       "    .dataframe tbody tr th {\n",
       "        vertical-align: top;\n",
       "    }\n",
       "\n",
       "    .dataframe thead th {\n",
       "        text-align: right;\n",
       "    }\n",
       "</style>\n",
       "<table border=\"1\" class=\"dataframe\">\n",
       "  <thead>\n",
       "    <tr style=\"text-align: right;\">\n",
       "      <th></th>\n",
       "      <th>aupr</th>\n",
       "      <th>auroc</th>\n",
       "      <th>lf_num</th>\n",
       "      <th>lf_sample</th>\n",
       "    </tr>\n",
       "  </thead>\n",
       "  <tbody>\n",
       "    <tr>\n",
       "      <th>0</th>\n",
       "      <td>0.18911</td>\n",
       "      <td>0.673485</td>\n",
       "      <td>0</td>\n",
       "      <td>0:0,1,2,3,4,5,6,7,8</td>\n",
       "    </tr>\n",
       "  </tbody>\n",
       "</table>\n",
       "</div>"
      ],
      "text/plain": [
       "      aupr     auroc  lf_num            lf_sample\n",
       "0  0.18911  0.673485       0  0:0,1,2,3,4,5,6,7,8"
      ]
     },
     "execution_count": 9,
     "metadata": {},
     "output_type": "execute_result"
    }
   ],
   "source": [
    "dev_baseline_df = get_model_performance(candidate_dfs['dev'].curated_gig, dev_grid_results, 0)\n",
    "dev_baseline_df.head(2)"
   ]
  },
  {
   "cell_type": "code",
   "execution_count": 10,
   "metadata": {
    "ExecuteTime": {
     "end_time": "2019-11-06T15:19:54.817100Z",
     "start_time": "2019-11-06T15:19:54.792701Z"
    }
   },
   "outputs": [
    {
     "data": {
      "text/html": [
       "<div>\n",
       "<style scoped>\n",
       "    .dataframe tbody tr th:only-of-type {\n",
       "        vertical-align: middle;\n",
       "    }\n",
       "\n",
       "    .dataframe tbody tr th {\n",
       "        vertical-align: top;\n",
       "    }\n",
       "\n",
       "    .dataframe thead th {\n",
       "        text-align: right;\n",
       "    }\n",
       "</style>\n",
       "<table border=\"1\" class=\"dataframe\">\n",
       "  <thead>\n",
       "    <tr style=\"text-align: right;\">\n",
       "      <th></th>\n",
       "      <th>aupr</th>\n",
       "      <th>auroc</th>\n",
       "      <th>lf_num</th>\n",
       "      <th>lf_sample</th>\n",
       "    </tr>\n",
       "  </thead>\n",
       "  <tbody>\n",
       "    <tr>\n",
       "      <th>0</th>\n",
       "      <td>0.30585</td>\n",
       "      <td>0.663729</td>\n",
       "      <td>0</td>\n",
       "      <td>0:0,1,2,3,4,5,6,7,8</td>\n",
       "    </tr>\n",
       "  </tbody>\n",
       "</table>\n",
       "</div>"
      ],
      "text/plain": [
       "      aupr     auroc  lf_num            lf_sample\n",
       "0  0.30585  0.663729       0  0:0,1,2,3,4,5,6,7,8"
      ]
     },
     "execution_count": 10,
     "metadata": {},
     "output_type": "execute_result"
    }
   ],
   "source": [
    "test_baseline_df = get_model_performance(candidate_dfs['test'].curated_gig, test_grid_results, 0)\n",
    "test_baseline_df.head(2)"
   ]
  },
  {
   "cell_type": "markdown",
   "metadata": {
    "ExecuteTime": {
     "end_time": "2019-10-11T18:40:30.516087Z",
     "start_time": "2019-10-11T18:40:30.495488Z"
    }
   },
   "source": [
    "# Gene Interacts Gene Sources Predicts Gene Interacts Gene Sentences"
   ]
  },
  {
   "cell_type": "markdown",
   "metadata": {},
   "source": [
    "Here we are using label functions, designed to predict the Gene Interacts Gene relation, to predict Gene Interacts Gene sentences. To estimate the performance boost over the baseline model, we implement a label function sampling appoach. The sampling approach works as follows: \n",
    "1. randomly sample X amount of label functions that are not within the database category\n",
    "2. incorporate the sampled label functions with the database label functions\n",
    "3. train the generative model on the combined resources\n",
    "4. use the generative model to predict the tuning set and test set\n",
    "5. Report performance in terms of AUROC and AUPR\n",
    "6. repeat the above process 50 times for each sample size (1, 6, 11, 16, all).\n",
    "\n",
    "Given that these label functions are designed to predict the given relation, we expect that adding more label functions will increase in performance. This means that auroc when sampling 1 label function should be greater than the auroc of the baseline. This trend should continue when sampling 6, 11, 16 and then all of the label functions."
   ]
  },
  {
   "cell_type": "code",
   "execution_count": 11,
   "metadata": {
    "ExecuteTime": {
     "end_time": "2019-11-06T15:19:54.836873Z",
     "start_time": "2019-11-06T15:19:54.818385Z"
    }
   },
   "outputs": [],
   "source": [
    "gig_start = 9\n",
    "gig_end = 37\n",
    "\n",
    "#Spaced out number of sampels including total\n",
    "size_of_samples = [1,6,11,16,gig_end-gig_start]\n",
    "number_of_samples = 50\n",
    "gig_lf_range = range(gig_start, gig_end)"
   ]
  },
  {
   "cell_type": "code",
   "execution_count": 12,
   "metadata": {
    "ExecuteTime": {
     "end_time": "2019-11-06T15:19:54.859207Z",
     "start_time": "2019-11-06T15:19:54.838456Z"
    }
   },
   "outputs": [],
   "source": [
    "sampled_lfs_dict = {\n",
    "    sample_size:(\n",
    "        sample_lfs(\n",
    "            list(gig_lf_range),\n",
    "            len(list(gig_lf_range)), \n",
    "            sample_size, \n",
    "            number_of_samples, \n",
    "            random_state=100\n",
    "        )\n",
    "    )\n",
    "    for sample_size in size_of_samples\n",
    "}"
   ]
  },
  {
   "cell_type": "code",
   "execution_count": 13,
   "metadata": {
    "ExecuteTime": {
     "end_time": "2019-11-06T17:04:44.665649Z",
     "start_time": "2019-11-06T15:19:54.860491Z"
    }
   },
   "outputs": [
    {
     "data": {
      "application/vnd.jupyter.widget-view+json": {
       "model_id": "b215307280474456a7be35e0b80ff449",
       "version_major": 2,
       "version_minor": 0
      },
      "text/plain": [
       "HBox(children=(IntProgress(value=1, bar_style='info', max=1), HTML(value='')))"
      ]
     },
     "metadata": {},
     "output_type": "display_data"
    },
    {
     "name": "stdout",
     "output_type": "stream",
     "text": [
      "\n"
     ]
    },
    {
     "name": "stderr",
     "output_type": "stream",
     "text": [
      "/home/danich1/anaconda2/envs/snorkel_advanced/lib/python3.6/site-packages/snorkel/labeling/model/label_model.py:358: RuntimeWarning: divide by zero encountered in true_divide\n",
      "  return np.clip(accs / self.coverage, 1e-6, 1.0)\n"
     ]
    },
    {
     "data": {
      "application/vnd.jupyter.widget-view+json": {
       "model_id": "05206ddb7bac4e9fb2f8a1456f87ca40",
       "version_major": 2,
       "version_minor": 0
      },
      "text/plain": [
       "HBox(children=(IntProgress(value=1, bar_style='info', max=1), HTML(value='')))"
      ]
     },
     "metadata": {},
     "output_type": "display_data"
    },
    {
     "name": "stdout",
     "output_type": "stream",
     "text": [
      "\n"
     ]
    },
    {
     "name": "stderr",
     "output_type": "stream",
     "text": [
      "/home/danich1/anaconda2/envs/snorkel_advanced/lib/python3.6/site-packages/snorkel/labeling/model/label_model.py:358: RuntimeWarning: divide by zero encountered in true_divide\n",
      "  return np.clip(accs / self.coverage, 1e-6, 1.0)\n"
     ]
    },
    {
     "data": {
      "application/vnd.jupyter.widget-view+json": {
       "model_id": "4cb96335be894a38a41e2c2891121578",
       "version_major": 2,
       "version_minor": 0
      },
      "text/plain": [
       "HBox(children=(IntProgress(value=1, bar_style='info', max=1), HTML(value='')))"
      ]
     },
     "metadata": {},
     "output_type": "display_data"
    },
    {
     "name": "stdout",
     "output_type": "stream",
     "text": [
      "\n"
     ]
    },
    {
     "name": "stderr",
     "output_type": "stream",
     "text": [
      "/home/danich1/anaconda2/envs/snorkel_advanced/lib/python3.6/site-packages/snorkel/labeling/model/label_model.py:358: RuntimeWarning: divide by zero encountered in true_divide\n",
      "  return np.clip(accs / self.coverage, 1e-6, 1.0)\n"
     ]
    },
    {
     "data": {
      "application/vnd.jupyter.widget-view+json": {
       "model_id": "3299920f63164a0c89b878f9d49ddc30",
       "version_major": 2,
       "version_minor": 0
      },
      "text/plain": [
       "HBox(children=(IntProgress(value=1, bar_style='info', max=1), HTML(value='')))"
      ]
     },
     "metadata": {},
     "output_type": "display_data"
    },
    {
     "name": "stdout",
     "output_type": "stream",
     "text": [
      "\n"
     ]
    },
    {
     "name": "stderr",
     "output_type": "stream",
     "text": [
      "/home/danich1/anaconda2/envs/snorkel_advanced/lib/python3.6/site-packages/snorkel/labeling/model/label_model.py:358: RuntimeWarning: divide by zero encountered in true_divide\n",
      "  return np.clip(accs / self.coverage, 1e-6, 1.0)\n"
     ]
    },
    {
     "data": {
      "application/vnd.jupyter.widget-view+json": {
       "model_id": "8a2c7cd765c84570b53af3319aec8ceb",
       "version_major": 2,
       "version_minor": 0
      },
      "text/plain": [
       "HBox(children=(IntProgress(value=1, bar_style='info', max=1), HTML(value='')))"
      ]
     },
     "metadata": {},
     "output_type": "display_data"
    },
    {
     "name": "stdout",
     "output_type": "stream",
     "text": [
      "\n"
     ]
    },
    {
     "name": "stderr",
     "output_type": "stream",
     "text": [
      "/home/danich1/anaconda2/envs/snorkel_advanced/lib/python3.6/site-packages/snorkel/labeling/model/label_model.py:358: RuntimeWarning: divide by zero encountered in true_divide\n",
      "  return np.clip(accs / self.coverage, 1e-6, 1.0)\n"
     ]
    }
   ],
   "source": [
    "dev_records = []\n",
    "test_records = []\n",
    "for num_lf in sampled_lfs_dict:\n",
    "    train_grid_results, dev_grid_results, test_grid_results, models = (\n",
    "        train_model_random_lfs(\n",
    "            [baseline_index + sample for sample in sampled_lfs_dict[num_lf]], \n",
    "            correct_L, correct_L_dev, candidate_dfs['dev'].curated_gig, \n",
    "            correct_L_test, pd.np.round(pd.np.linspace(0.01, 5, num=5), 2)\n",
    "        )\n",
    "    )\n",
    "    \n",
    "    (\n",
    "        pd.DataFrame({key:train_grid_results[key][:,1] for key in train_grid_results})\n",
    "        .assign(candidate_id=label_matricies['train'].candidate_id.values)\n",
    "        .to_csv(f\"results/GiG/marginals/{num_lf}_sampled_train.tsv.xz\", compression=\"xz\", sep=\"\\t\", index=False)\n",
    "    )\n",
    "    (\n",
    "        pd.DataFrame({key:dev_grid_results[key][:,1] for key in dev_grid_results})\n",
    "        .to_csv(f\"results/GiG/marginals/{num_lf}_sampled_dev.tsv\", sep=\"\\t\", index=False)\n",
    "    )\n",
    "    (\n",
    "        pd.DataFrame({key:test_grid_results[key][:,1] for key in test_grid_results})\n",
    "        .to_csv(f\"results/GiG/marginals/{num_lf}_sampled_test.tsv\", sep=\"\\t\", index=False)\n",
    "    )\n",
    "    \n",
    "    (\n",
    "        pd.DataFrame({key:models[key].get_weights() for key in models})\n",
    "        .to_csv(f\"results/GiG/weights/{num_lf}_sampled_weights.tsv\", sep=\"\\t\", index=False)\n",
    "    )\n",
    "    \n",
    "    dev_records.append(get_model_performance(candidate_dfs['dev'].curated_gig, dev_grid_results, num_lf))\n",
    "    test_records.append(get_model_performance(candidate_dfs['test'].curated_gig, test_grid_results, num_lf))"
   ]
  },
  {
   "cell_type": "code",
   "execution_count": 14,
   "metadata": {
    "ExecuteTime": {
     "end_time": "2019-11-06T17:04:44.697022Z",
     "start_time": "2019-11-06T17:04:44.667014Z"
    }
   },
   "outputs": [
    {
     "data": {
      "text/html": [
       "<div>\n",
       "<style scoped>\n",
       "    .dataframe tbody tr th:only-of-type {\n",
       "        vertical-align: middle;\n",
       "    }\n",
       "\n",
       "    .dataframe tbody tr th {\n",
       "        vertical-align: top;\n",
       "    }\n",
       "\n",
       "    .dataframe thead th {\n",
       "        text-align: right;\n",
       "    }\n",
       "</style>\n",
       "<table border=\"1\" class=\"dataframe\">\n",
       "  <thead>\n",
       "    <tr style=\"text-align: right;\">\n",
       "      <th></th>\n",
       "      <th>aupr</th>\n",
       "      <th>auroc</th>\n",
       "      <th>lf_num</th>\n",
       "      <th>lf_sample</th>\n",
       "    </tr>\n",
       "  </thead>\n",
       "  <tbody>\n",
       "    <tr>\n",
       "      <th>0</th>\n",
       "      <td>0.189110</td>\n",
       "      <td>0.673485</td>\n",
       "      <td>0</td>\n",
       "      <td>0:0,1,2,3,4,5,6,7,8</td>\n",
       "    </tr>\n",
       "    <tr>\n",
       "      <th>1</th>\n",
       "      <td>0.281758</td>\n",
       "      <td>0.763731</td>\n",
       "      <td>1</td>\n",
       "      <td>0:0,1,2,3,4,5,6,7,8,23</td>\n",
       "    </tr>\n",
       "  </tbody>\n",
       "</table>\n",
       "</div>"
      ],
      "text/plain": [
       "       aupr     auroc  lf_num               lf_sample\n",
       "0  0.189110  0.673485       0     0:0,1,2,3,4,5,6,7,8\n",
       "1  0.281758  0.763731       1  0:0,1,2,3,4,5,6,7,8,23"
      ]
     },
     "execution_count": 14,
     "metadata": {},
     "output_type": "execute_result"
    }
   ],
   "source": [
    "dev_full_results_df = pd.concat([dev_baseline_df] + dev_records).reset_index(drop=True)\n",
    "dev_full_results_df.to_csv(\"results/GiG/results/dev_sampled_results.tsv\", index=False, sep=\"\\t\")\n",
    "dev_full_results_df.head(2)"
   ]
  },
  {
   "cell_type": "code",
   "execution_count": 53,
   "metadata": {
    "ExecuteTime": {
     "end_time": "2019-11-08T18:25:58.344284Z",
     "start_time": "2019-11-08T18:25:58.053423Z"
    },
    "scrolled": true
   },
   "outputs": [
    {
     "data": {
      "text/plain": [
       "<matplotlib.axes._subplots.AxesSubplot at 0x7f4ab4dd6f60>"
      ]
     },
     "execution_count": 53,
     "metadata": {},
     "output_type": "execute_result"
    },
    {
     "data": {
      "image/png": "[encoded data removed]",
      "text/plain": [
       "<Figure size 432x288 with 1 Axes>"
      ]
     },
     "metadata": {
      "needs_background": "light"
     },
     "output_type": "display_data"
    }
   ],
   "source": [
    "sns.pointplot(x='lf_num', y='auroc', data=dev_full_results_df)"
   ]
  },
  {
   "cell_type": "code",
   "execution_count": 54,
   "metadata": {
    "ExecuteTime": {
     "end_time": "2019-11-08T18:25:58.644869Z",
     "start_time": "2019-11-08T18:25:58.345827Z"
    }
   },
   "outputs": [
    {
     "data": {
      "text/plain": [
       "<matplotlib.axes._subplots.AxesSubplot at 0x7f4ab4cb5e80>"
      ]
     },
     "execution_count": 54,
     "metadata": {},
     "output_type": "execute_result"
    },
    {
     "data": {
      "image/png": "[encoded data removed]",
      "text/plain": [
       "<Figure size 432x288 with 1 Axes>"
      ]
     },
     "metadata": {
      "needs_background": "light"
     },
     "output_type": "display_data"
    }
   ],
   "source": [
    "sns.pointplot(x='lf_num', y='aupr', data=dev_full_results_df)"
   ]
  },
  {
   "cell_type": "code",
   "execution_count": 15,
   "metadata": {
    "ExecuteTime": {
     "end_time": "2019-11-06T17:04:44.830918Z",
     "start_time": "2019-11-06T17:04:44.698264Z"
    }
   },
   "outputs": [
    {
     "data": {
      "text/html": [
       "<div>\n",
       "<style scoped>\n",
       "    .dataframe tbody tr th:only-of-type {\n",
       "        vertical-align: middle;\n",
       "    }\n",
       "\n",
       "    .dataframe tbody tr th {\n",
       "        vertical-align: top;\n",
       "    }\n",
       "\n",
       "    .dataframe thead th {\n",
       "        text-align: right;\n",
       "    }\n",
       "</style>\n",
       "<table border=\"1\" class=\"dataframe\">\n",
       "  <thead>\n",
       "    <tr style=\"text-align: right;\">\n",
       "      <th></th>\n",
       "      <th>aupr</th>\n",
       "      <th>auroc</th>\n",
       "      <th>lf_num</th>\n",
       "      <th>lf_sample</th>\n",
       "    </tr>\n",
       "  </thead>\n",
       "  <tbody>\n",
       "    <tr>\n",
       "      <th>0</th>\n",
       "      <td>0.305850</td>\n",
       "      <td>0.663729</td>\n",
       "      <td>0</td>\n",
       "      <td>0:0,1,2,3,4,5,6,7,8</td>\n",
       "    </tr>\n",
       "    <tr>\n",
       "      <th>1</th>\n",
       "      <td>0.305681</td>\n",
       "      <td>0.720752</td>\n",
       "      <td>1</td>\n",
       "      <td>0:0,1,2,3,4,5,6,7,8,23</td>\n",
       "    </tr>\n",
       "  </tbody>\n",
       "</table>\n",
       "</div>"
      ],
      "text/plain": [
       "       aupr     auroc  lf_num               lf_sample\n",
       "0  0.305850  0.663729       0     0:0,1,2,3,4,5,6,7,8\n",
       "1  0.305681  0.720752       1  0:0,1,2,3,4,5,6,7,8,23"
      ]
     },
     "execution_count": 15,
     "metadata": {},
     "output_type": "execute_result"
    }
   ],
   "source": [
    "test_full_results_df = pd.concat([test_baseline_df] + test_records).reset_index(drop=True)\n",
    "test_full_results_df.to_csv(\"results/GiG/results/test_sampled_results.tsv\", index=False, sep=\"\\t\")\n",
    "test_full_results_df.head(2)"
   ]
  },
  {
   "cell_type": "code",
   "execution_count": 57,
   "metadata": {
    "ExecuteTime": {
     "end_time": "2019-11-08T18:25:58.344284Z",
     "start_time": "2019-11-08T18:25:58.053423Z"
    }
   },
   "outputs": [
    {
     "data": {
      "text/plain": [
       "<matplotlib.axes._subplots.AxesSubplot at 0x7f4ab4af8358>"
      ]
     },
     "execution_count": 57,
     "metadata": {},
     "output_type": "execute_result"
    },
    {
     "data": {
      "image/png": "[encoded data removed]",
      "text/plain": [
       "<Figure size 432x288 with 1 Axes>"
      ]
     },
     "metadata": {
      "needs_background": "light"
     },
     "output_type": "display_data"
    }
   ],
   "source": [
    "sns.pointplot(x='lf_num', y='auroc', data=test_full_results_df)"
   ]
  },
  {
   "cell_type": "code",
   "execution_count": 58,
   "metadata": {
    "ExecuteTime": {
     "end_time": "2019-11-08T18:25:58.644869Z",
     "start_time": "2019-11-08T18:25:58.345827Z"
    }
   },
   "outputs": [
    {
     "data": {
      "text/plain": [
       "<matplotlib.axes._subplots.AxesSubplot at 0x7f4ab4a94fd0>"
      ]
     },
     "execution_count": 58,
     "metadata": {},
     "output_type": "execute_result"
    },
    {
     "data": {
      "image/png": "[encoded data removed]",
      "text/plain": [
       "<Figure size 432x288 with 1 Axes>"
      ]
     },
     "metadata": {
      "needs_background": "light"
     },
     "output_type": "display_data"
    }
   ],
   "source": [
    "sns.pointplot(x='lf_num', y='aupr', data=test_full_results_df)"
   ]
  },
  {
   "cell_type": "markdown",
   "metadata": {
    "ExecuteTime": {
     "end_time": "2019-10-11T18:40:30.516087Z",
     "start_time": "2019-10-11T18:40:30.495488Z"
    }
   },
   "source": [
    "# Disease Associates Gene Sources Predicts Gene Interacts Gene Sentences"
   ]
  },
  {
   "cell_type": "markdown",
   "metadata": {},
   "source": [
    "Here we are using label functions, designed to predict the Disease Associates Gene relation, to predict Gene interacts Gene sentences. To estimate the performance boost over the baseline model, we implement a label function sampling appoach. The sampling approach works as follows: \n",
    "1. randomly sample X amount of label functions that are not within the database category\n",
    "2. incorporate the sampled label functions with the database label functions\n",
    "3. train the generative model on the combined resources\n",
    "4. use the generative model to predict the tuning set and test set\n",
    "5. Report performance in terms of AUROC and AUPR\n",
    "6. repeat the above process 50 times for each sample size (1, 6, 11, 16, all).\n",
    "\n",
    "Given that these label functions are not designed to predict the given relation, we expect that adding more label functions will decrease in performance. This means that auroc when sampling 1 label function should be less than the auroc of the baseline. This trend should continue when sampling 6, 11, 16 and then all of the label functions."
   ]
  },
  {
   "cell_type": "code",
   "execution_count": 16,
   "metadata": {
    "ExecuteTime": {
     "end_time": "2019-11-06T17:04:44.896115Z",
     "start_time": "2019-11-06T17:04:44.833609Z"
    }
   },
   "outputs": [],
   "source": [
    "dag_start = 37\n",
    "dag_end = 67\n",
    "\n",
    "#Spaced out number of sampels including total\n",
    "size_of_samples = [1,6,11,16,dag_end-dag_start]\n",
    "number_of_samples = 50\n",
    "dag_lf_range = range(dag_start, dag_end)"
   ]
  },
  {
   "cell_type": "code",
   "execution_count": 17,
   "metadata": {
    "ExecuteTime": {
     "end_time": "2019-11-06T17:04:44.985016Z",
     "start_time": "2019-11-06T17:04:44.900905Z"
    }
   },
   "outputs": [],
   "source": [
    "sampled_lfs_dict = {\n",
    "    sample_size:(\n",
    "        sample_lfs(\n",
    "            list(dag_lf_range),\n",
    "            len(list(dag_lf_range)), \n",
    "            sample_size, \n",
    "            number_of_samples, \n",
    "            random_state=100\n",
    "        )\n",
    "    )\n",
    "    for sample_size in size_of_samples\n",
    "}"
   ]
  },
  {
   "cell_type": "code",
   "execution_count": 18,
   "metadata": {
    "ExecuteTime": {
     "end_time": "2019-11-06T18:51:58.317628Z",
     "start_time": "2019-11-06T17:04:44.986262Z"
    }
   },
   "outputs": [
    {
     "data": {
      "application/vnd.jupyter.widget-view+json": {
       "model_id": "daf0af43a16242b68488adb2c8c31872",
       "version_major": 2,
       "version_minor": 0
      },
      "text/plain": [
       "HBox(children=(IntProgress(value=1, bar_style='info', max=1), HTML(value='')))"
      ]
     },
     "metadata": {},
     "output_type": "display_data"
    },
    {
     "name": "stdout",
     "output_type": "stream",
     "text": [
      "\n"
     ]
    },
    {
     "name": "stderr",
     "output_type": "stream",
     "text": [
      "/home/danich1/anaconda2/envs/snorkel_advanced/lib/python3.6/site-packages/snorkel/labeling/model/label_model.py:358: RuntimeWarning: divide by zero encountered in true_divide\n",
      "  return np.clip(accs / self.coverage, 1e-6, 1.0)\n"
     ]
    },
    {
     "data": {
      "application/vnd.jupyter.widget-view+json": {
       "model_id": "c748215c3fed4116996c82814fdd31a7",
       "version_major": 2,
       "version_minor": 0
      },
      "text/plain": [
       "HBox(children=(IntProgress(value=1, bar_style='info', max=1), HTML(value='')))"
      ]
     },
     "metadata": {},
     "output_type": "display_data"
    },
    {
     "name": "stdout",
     "output_type": "stream",
     "text": [
      "\n"
     ]
    },
    {
     "name": "stderr",
     "output_type": "stream",
     "text": [
      "/home/danich1/anaconda2/envs/snorkel_advanced/lib/python3.6/site-packages/snorkel/labeling/model/label_model.py:358: RuntimeWarning: divide by zero encountered in true_divide\n",
      "  return np.clip(accs / self.coverage, 1e-6, 1.0)\n"
     ]
    },
    {
     "data": {
      "application/vnd.jupyter.widget-view+json": {
       "model_id": "e3c8c9d172c741afafe3c337c9dcb595",
       "version_major": 2,
       "version_minor": 0
      },
      "text/plain": [
       "HBox(children=(IntProgress(value=1, bar_style='info', max=1), HTML(value='')))"
      ]
     },
     "metadata": {},
     "output_type": "display_data"
    },
    {
     "name": "stdout",
     "output_type": "stream",
     "text": [
      "\n"
     ]
    },
    {
     "name": "stderr",
     "output_type": "stream",
     "text": [
      "/home/danich1/anaconda2/envs/snorkel_advanced/lib/python3.6/site-packages/snorkel/labeling/model/label_model.py:358: RuntimeWarning: divide by zero encountered in true_divide\n",
      "  return np.clip(accs / self.coverage, 1e-6, 1.0)\n"
     ]
    },
    {
     "data": {
      "application/vnd.jupyter.widget-view+json": {
       "model_id": "4a9a9aa4ae884bcc83e8e94faa5f4556",
       "version_major": 2,
       "version_minor": 0
      },
      "text/plain": [
       "HBox(children=(IntProgress(value=1, bar_style='info', max=1), HTML(value='')))"
      ]
     },
     "metadata": {},
     "output_type": "display_data"
    },
    {
     "name": "stdout",
     "output_type": "stream",
     "text": [
      "\n"
     ]
    },
    {
     "name": "stderr",
     "output_type": "stream",
     "text": [
      "/home/danich1/anaconda2/envs/snorkel_advanced/lib/python3.6/site-packages/snorkel/labeling/model/label_model.py:358: RuntimeWarning: divide by zero encountered in true_divide\n",
      "  return np.clip(accs / self.coverage, 1e-6, 1.0)\n"
     ]
    },
    {
     "data": {
      "application/vnd.jupyter.widget-view+json": {
       "model_id": "fc57b01b020e45afb026ef8afd259e59",
       "version_major": 2,
       "version_minor": 0
      },
      "text/plain": [
       "HBox(children=(IntProgress(value=1, bar_style='info', max=1), HTML(value='')))"
      ]
     },
     "metadata": {},
     "output_type": "display_data"
    },
    {
     "name": "stdout",
     "output_type": "stream",
     "text": [
      "\n"
     ]
    },
    {
     "name": "stderr",
     "output_type": "stream",
     "text": [
      "/home/danich1/anaconda2/envs/snorkel_advanced/lib/python3.6/site-packages/snorkel/labeling/model/label_model.py:358: RuntimeWarning: divide by zero encountered in true_divide\n",
      "  return np.clip(accs / self.coverage, 1e-6, 1.0)\n"
     ]
    }
   ],
   "source": [
    "dev_records = []\n",
    "test_records = []\n",
    "for num_lf in sampled_lfs_dict:\n",
    "    train_grid_results, dev_grid_results, test_grid_results, models = (\n",
    "        train_model_random_lfs(\n",
    "            [baseline_index + sample for sample in sampled_lfs_dict[num_lf]],\n",
    "            correct_L, correct_L_dev, candidate_dfs['dev'].curated_gig,\n",
    "            correct_L_test, pd.np.round(pd.np.linspace(0.01, 5, num=5), 2)\n",
    "        )\n",
    "    )\n",
    "    \n",
    "    (\n",
    "        pd.DataFrame({key:train_grid_results[key][:,1] for key in train_grid_results})\n",
    "        .assign(candidate_id=label_matricies['train'].candidate_id.values)\n",
    "        .to_csv(f\"results/DaG/marginals/{num_lf}_sampled_train.tsv.xz\", compression=\"xz\", index=False, sep=\"\\t\")\n",
    "    )\n",
    "    (\n",
    "        pd.DataFrame({key:dev_grid_results[key][:,1] for key in dev_grid_results})\n",
    "        .to_csv(f\"results/DaG/marginals/{num_lf}_sampled_dev.tsv\", index=False, sep=\"\\t\")\n",
    "    )\n",
    "    (\n",
    "        pd.DataFrame({key:test_grid_results[key][:,1] for key in test_grid_results})\n",
    "        .to_csv(f\"results/DaG/marginals/{num_lf}_sampled_test.tsv\", index=False, sep=\"\\t\")\n",
    "    )\n",
    "    \n",
    "    (\n",
    "        pd.DataFrame({key:models[key].get_weights() for key in models})\n",
    "        .to_csv(f\"results/DaG/weights/{num_lf}_sampled_weights.tsv\", index=False, sep=\"\\t\")\n",
    "    )\n",
    "    \n",
    "    dev_records.append(get_model_performance(candidate_dfs['dev'].curated_gig, dev_grid_results, num_lf))\n",
    "    test_records.append(get_model_performance(candidate_dfs['test'].curated_gig, test_grid_results, num_lf))"
   ]
  },
  {
   "cell_type": "code",
   "execution_count": 19,
   "metadata": {
    "ExecuteTime": {
     "end_time": "2019-11-06T18:51:58.345732Z",
     "start_time": "2019-11-06T18:51:58.319260Z"
    }
   },
   "outputs": [
    {
     "data": {
      "text/html": [
       "<div>\n",
       "<style scoped>\n",
       "    .dataframe tbody tr th:only-of-type {\n",
       "        vertical-align: middle;\n",
       "    }\n",
       "\n",
       "    .dataframe tbody tr th {\n",
       "        vertical-align: top;\n",
       "    }\n",
       "\n",
       "    .dataframe thead th {\n",
       "        text-align: right;\n",
       "    }\n",
       "</style>\n",
       "<table border=\"1\" class=\"dataframe\">\n",
       "  <thead>\n",
       "    <tr style=\"text-align: right;\">\n",
       "      <th></th>\n",
       "      <th>aupr</th>\n",
       "      <th>auroc</th>\n",
       "      <th>lf_num</th>\n",
       "      <th>lf_sample</th>\n",
       "    </tr>\n",
       "  </thead>\n",
       "  <tbody>\n",
       "    <tr>\n",
       "      <th>0</th>\n",
       "      <td>0.18911</td>\n",
       "      <td>0.673485</td>\n",
       "      <td>0</td>\n",
       "      <td>0:0,1,2,3,4,5,6,7,8</td>\n",
       "    </tr>\n",
       "    <tr>\n",
       "      <th>1</th>\n",
       "      <td>0.18911</td>\n",
       "      <td>0.673485</td>\n",
       "      <td>1</td>\n",
       "      <td>0:0,1,2,3,4,5,6,7,8,52</td>\n",
       "    </tr>\n",
       "  </tbody>\n",
       "</table>\n",
       "</div>"
      ],
      "text/plain": [
       "      aupr     auroc  lf_num               lf_sample\n",
       "0  0.18911  0.673485       0     0:0,1,2,3,4,5,6,7,8\n",
       "1  0.18911  0.673485       1  0:0,1,2,3,4,5,6,7,8,52"
      ]
     },
     "execution_count": 19,
     "metadata": {},
     "output_type": "execute_result"
    }
   ],
   "source": [
    "dev_full_results_df = pd.concat([dev_baseline_df] + dev_records).reset_index(drop=True)\n",
    "dev_full_results_df.to_csv(\"results/DaG/results/dev_sampled_results.tsv\", index=False, sep=\"\\t\")\n",
    "dev_full_results_df.head(2)"
   ]
  },
  {
   "cell_type": "code",
   "execution_count": 60,
   "metadata": {
    "ExecuteTime": {
     "end_time": "2019-11-08T18:25:58.344284Z",
     "start_time": "2019-11-08T18:25:58.053423Z"
    }
   },
   "outputs": [
    {
     "data": {
      "text/plain": [
       "<matplotlib.axes._subplots.AxesSubplot at 0x7f4ab4a69748>"
      ]
     },
     "execution_count": 60,
     "metadata": {},
     "output_type": "execute_result"
    },
    {
     "data": {
      "image/png": "[encoded data removed]",
      "text/plain": [
       "<Figure size 432x288 with 1 Axes>"
      ]
     },
     "metadata": {
      "needs_background": "light"
     },
     "output_type": "display_data"
    }
   ],
   "source": [
    "sns.pointplot(x='lf_num', y='auroc', data=dev_full_results_df)"
   ]
  },
  {
   "cell_type": "code",
   "execution_count": 61,
   "metadata": {
    "ExecuteTime": {
     "end_time": "2019-11-08T18:25:58.644869Z",
     "start_time": "2019-11-08T18:25:58.345827Z"
    }
   },
   "outputs": [
    {
     "data": {
      "text/plain": [
       "<matplotlib.axes._subplots.AxesSubplot at 0x7f4ab49ed400>"
      ]
     },
     "execution_count": 61,
     "metadata": {},
     "output_type": "execute_result"
    },
    {
     "data": {
      "image/png": "[encoded data removed]",
      "text/plain": [
       "<Figure size 432x288 with 1 Axes>"
      ]
     },
     "metadata": {
      "needs_background": "light"
     },
     "output_type": "display_data"
    }
   ],
   "source": [
    "sns.pointplot(x='lf_num', y='aupr', data=dev_full_results_df)"
   ]
  },
  {
   "cell_type": "code",
   "execution_count": 20,
   "metadata": {
    "ExecuteTime": {
     "end_time": "2019-11-06T18:51:58.420157Z",
     "start_time": "2019-11-06T18:51:58.346832Z"
    }
   },
   "outputs": [
    {
     "data": {
      "text/html": [
       "<div>\n",
       "<style scoped>\n",
       "    .dataframe tbody tr th:only-of-type {\n",
       "        vertical-align: middle;\n",
       "    }\n",
       "\n",
       "    .dataframe tbody tr th {\n",
       "        vertical-align: top;\n",
       "    }\n",
       "\n",
       "    .dataframe thead th {\n",
       "        text-align: right;\n",
       "    }\n",
       "</style>\n",
       "<table border=\"1\" class=\"dataframe\">\n",
       "  <thead>\n",
       "    <tr style=\"text-align: right;\">\n",
       "      <th></th>\n",
       "      <th>aupr</th>\n",
       "      <th>auroc</th>\n",
       "      <th>lf_num</th>\n",
       "      <th>lf_sample</th>\n",
       "    </tr>\n",
       "  </thead>\n",
       "  <tbody>\n",
       "    <tr>\n",
       "      <th>0</th>\n",
       "      <td>0.305850</td>\n",
       "      <td>0.663729</td>\n",
       "      <td>0</td>\n",
       "      <td>0:0,1,2,3,4,5,6,7,8</td>\n",
       "    </tr>\n",
       "    <tr>\n",
       "      <th>1</th>\n",
       "      <td>0.305925</td>\n",
       "      <td>0.664303</td>\n",
       "      <td>1</td>\n",
       "      <td>0:0,1,2,3,4,5,6,7,8,52</td>\n",
       "    </tr>\n",
       "  </tbody>\n",
       "</table>\n",
       "</div>"
      ],
      "text/plain": [
       "       aupr     auroc  lf_num               lf_sample\n",
       "0  0.305850  0.663729       0     0:0,1,2,3,4,5,6,7,8\n",
       "1  0.305925  0.664303       1  0:0,1,2,3,4,5,6,7,8,52"
      ]
     },
     "execution_count": 20,
     "metadata": {},
     "output_type": "execute_result"
    }
   ],
   "source": [
    "test_full_results_df = pd.concat([test_baseline_df] + test_records).reset_index(drop=True)\n",
    "test_full_results_df.to_csv(\"results/DaG/results/test_sampled_results.tsv\", index=False, sep=\"\\t\")\n",
    "test_full_results_df.head(2)"
   ]
  },
  {
   "cell_type": "code",
   "execution_count": 62,
   "metadata": {
    "ExecuteTime": {
     "end_time": "2019-11-08T18:25:58.344284Z",
     "start_time": "2019-11-08T18:25:58.053423Z"
    }
   },
   "outputs": [
    {
     "data": {
      "text/plain": [
       "<matplotlib.axes._subplots.AxesSubplot at 0x7f4ab57279e8>"
      ]
     },
     "execution_count": 62,
     "metadata": {},
     "output_type": "execute_result"
    },
    {
     "data": {
      "image/png": "[encoded data removed]",
      "text/plain": [
       "<Figure size 432x288 with 1 Axes>"
      ]
     },
     "metadata": {
      "needs_background": "light"
     },
     "output_type": "display_data"
    }
   ],
   "source": [
    "sns.pointplot(x='lf_num', y='auroc', data=test_full_results_df)"
   ]
  },
  {
   "cell_type": "code",
   "execution_count": 63,
   "metadata": {
    "ExecuteTime": {
     "end_time": "2019-11-08T18:25:58.644869Z",
     "start_time": "2019-11-08T18:25:58.345827Z"
    }
   },
   "outputs": [
    {
     "data": {
      "text/plain": [
       "<matplotlib.axes._subplots.AxesSubplot at 0x7f4ab6be4780>"
      ]
     },
     "execution_count": 63,
     "metadata": {},
     "output_type": "execute_result"
    },
    {
     "data": {
      "image/png": "[encoded data removed]",
      "text/plain": [
       "<Figure size 432x288 with 1 Axes>"
      ]
     },
     "metadata": {
      "needs_background": "light"
     },
     "output_type": "display_data"
    }
   ],
   "source": [
    "sns.pointplot(x='lf_num', y='aupr', data=test_full_results_df)"
   ]
  },
  {
   "cell_type": "markdown",
   "metadata": {
    "ExecuteTime": {
     "end_time": "2019-10-11T18:40:30.516087Z",
     "start_time": "2019-10-11T18:40:30.495488Z"
    }
   },
   "source": [
    "# Compound Treats Disease Sources Predicts Gene Interacts Gene Sentences"
   ]
  },
  {
   "cell_type": "markdown",
   "metadata": {},
   "source": [
    "Here we are using label functions, designed to predict the Compound Treats Disease relation, to predict Gene interacts Gene sentences. To estimate the performance boost over the baseline model, we implement a label function sampling appoach. The sampling approach works as follows: \n",
    "1. randomly sample X amount of label functions that are not within the database category\n",
    "2. incorporate the sampled label functions with the database label functions\n",
    "3. train the generative model on the combined resources\n",
    "4. use the generative model to predict the tuning set and test set\n",
    "5. Report performance in terms of AUROC and AUPR\n",
    "6. repeat the above process 50 times for each sample size (1, 6, 11, 16, all).\n",
    "\n",
    "Given that these label functions are not designed to predict the given relation, we expect that adding more label functions will decrease in performance. This means that auroc when sampling 1 label function should be less than the auroc of the baseline. This trend should continue when sampling 6, 11, 16 and then all of the label functions."
   ]
  },
  {
   "cell_type": "code",
   "execution_count": 21,
   "metadata": {
    "ExecuteTime": {
     "end_time": "2019-11-06T18:51:58.497497Z",
     "start_time": "2019-11-06T18:51:58.421857Z"
    }
   },
   "outputs": [],
   "source": [
    "ctd_start = 67\n",
    "ctd_end = 89\n",
    "\n",
    "#Spaced out number of sampels including total\n",
    "size_of_samples = [1,6,11,16,ctd_end-ctd_start]\n",
    "number_of_samples = 50\n",
    "ctd_lf_range = range(ctd_start, ctd_end)"
   ]
  },
  {
   "cell_type": "code",
   "execution_count": 22,
   "metadata": {
    "ExecuteTime": {
     "end_time": "2019-11-06T18:51:58.571847Z",
     "start_time": "2019-11-06T18:51:58.503049Z"
    }
   },
   "outputs": [],
   "source": [
    "sampled_lfs_dict = {\n",
    "    sample_size:(\n",
    "        sample_lfs(\n",
    "            list(ctd_lf_range),\n",
    "            len(list(ctd_lf_range)), \n",
    "            sample_size, \n",
    "            number_of_samples, \n",
    "            random_state=100\n",
    "        )\n",
    "    )\n",
    "    for sample_size in size_of_samples\n",
    "}"
   ]
  },
  {
   "cell_type": "code",
   "execution_count": 23,
   "metadata": {
    "ExecuteTime": {
     "end_time": "2019-11-06T20:25:45.833685Z",
     "start_time": "2019-11-06T18:51:58.575182Z"
    }
   },
   "outputs": [
    {
     "data": {
      "application/vnd.jupyter.widget-view+json": {
       "model_id": "95a727c463064cf59688c263b31206c5",
       "version_major": 2,
       "version_minor": 0
      },
      "text/plain": [
       "HBox(children=(IntProgress(value=1, bar_style='info', max=1), HTML(value='')))"
      ]
     },
     "metadata": {},
     "output_type": "display_data"
    },
    {
     "name": "stdout",
     "output_type": "stream",
     "text": [
      "\n"
     ]
    },
    {
     "name": "stderr",
     "output_type": "stream",
     "text": [
      "/home/danich1/anaconda2/envs/snorkel_advanced/lib/python3.6/site-packages/snorkel/labeling/model/label_model.py:358: RuntimeWarning: divide by zero encountered in true_divide\n",
      "  return np.clip(accs / self.coverage, 1e-6, 1.0)\n"
     ]
    },
    {
     "data": {
      "application/vnd.jupyter.widget-view+json": {
       "model_id": "73142988c7c94a0eab0cb3692020cd48",
       "version_major": 2,
       "version_minor": 0
      },
      "text/plain": [
       "HBox(children=(IntProgress(value=1, bar_style='info', max=1), HTML(value='')))"
      ]
     },
     "metadata": {},
     "output_type": "display_data"
    },
    {
     "name": "stdout",
     "output_type": "stream",
     "text": [
      "\n"
     ]
    },
    {
     "name": "stderr",
     "output_type": "stream",
     "text": [
      "/home/danich1/anaconda2/envs/snorkel_advanced/lib/python3.6/site-packages/snorkel/labeling/model/label_model.py:358: RuntimeWarning: divide by zero encountered in true_divide\n",
      "  return np.clip(accs / self.coverage, 1e-6, 1.0)\n"
     ]
    },
    {
     "data": {
      "application/vnd.jupyter.widget-view+json": {
       "model_id": "36ec766ba78243bea8aed947eb15c436",
       "version_major": 2,
       "version_minor": 0
      },
      "text/plain": [
       "HBox(children=(IntProgress(value=1, bar_style='info', max=1), HTML(value='')))"
      ]
     },
     "metadata": {},
     "output_type": "display_data"
    },
    {
     "name": "stdout",
     "output_type": "stream",
     "text": [
      "\n"
     ]
    },
    {
     "name": "stderr",
     "output_type": "stream",
     "text": [
      "/home/danich1/anaconda2/envs/snorkel_advanced/lib/python3.6/site-packages/snorkel/labeling/model/label_model.py:358: RuntimeWarning: divide by zero encountered in true_divide\n",
      "  return np.clip(accs / self.coverage, 1e-6, 1.0)\n"
     ]
    },
    {
     "data": {
      "application/vnd.jupyter.widget-view+json": {
       "model_id": "bec1950d730b420d948c80a05f1cd157",
       "version_major": 2,
       "version_minor": 0
      },
      "text/plain": [
       "HBox(children=(IntProgress(value=1, bar_style='info', max=1), HTML(value='')))"
      ]
     },
     "metadata": {},
     "output_type": "display_data"
    },
    {
     "name": "stdout",
     "output_type": "stream",
     "text": [
      "\n"
     ]
    },
    {
     "name": "stderr",
     "output_type": "stream",
     "text": [
      "/home/danich1/anaconda2/envs/snorkel_advanced/lib/python3.6/site-packages/snorkel/labeling/model/label_model.py:358: RuntimeWarning: divide by zero encountered in true_divide\n",
      "  return np.clip(accs / self.coverage, 1e-6, 1.0)\n"
     ]
    },
    {
     "data": {
      "application/vnd.jupyter.widget-view+json": {
       "model_id": "6e0143be8923427494eae8ff8e6a0745",
       "version_major": 2,
       "version_minor": 0
      },
      "text/plain": [
       "HBox(children=(IntProgress(value=1, bar_style='info', max=1), HTML(value='')))"
      ]
     },
     "metadata": {},
     "output_type": "display_data"
    },
    {
     "name": "stdout",
     "output_type": "stream",
     "text": [
      "\n"
     ]
    },
    {
     "name": "stderr",
     "output_type": "stream",
     "text": [
      "/home/danich1/anaconda2/envs/snorkel_advanced/lib/python3.6/site-packages/snorkel/labeling/model/label_model.py:358: RuntimeWarning: divide by zero encountered in true_divide\n",
      "  return np.clip(accs / self.coverage, 1e-6, 1.0)\n"
     ]
    }
   ],
   "source": [
    "dev_records = []\n",
    "test_records = []\n",
    "for num_lf in sampled_lfs_dict:\n",
    "    train_grid_results, dev_grid_results, test_grid_results, models = (\n",
    "        train_model_random_lfs(\n",
    "            [baseline_index + sample for sample in sampled_lfs_dict[num_lf]],\n",
    "            correct_L, correct_L_dev, candidate_dfs['dev'].curated_gig, \n",
    "            correct_L_test,pd.np.round(pd.np.linspace(0.01, 5, num=5), 2)\n",
    "        )\n",
    "    )\n",
    "    \n",
    "    (\n",
    "        pd.DataFrame({key:train_grid_results[key][:,1] for key in train_grid_results})\n",
    "        .assign(candidate_id=label_matricies['train'].candidate_id.values)\n",
    "        .to_csv(f\"results/CtD/marginals/{num_lf}_sampled_train.tsv.xz\", compression=\"xz\", index=False, sep=\"\\t\")\n",
    "    )\n",
    "    (\n",
    "        pd.DataFrame({key:dev_grid_results[key][:,1] for key in dev_grid_results})\n",
    "        .to_csv(f\"results/CtD/marginals/{num_lf}_sampled_dev.tsv\", index=False, sep=\"\\t\")\n",
    "    )\n",
    "    (\n",
    "        pd.DataFrame({key:test_grid_results[key][:,1] for key in test_grid_results})\n",
    "        .to_csv(f\"results/CtD/marginals/{num_lf}_sampled_test.tsv\", index=False, sep=\"\\t\")\n",
    "    )\n",
    "    \n",
    "    (\n",
    "        pd.DataFrame({key:models[key].get_weights() for key in models})\n",
    "        .to_csv(f\"results/CtD/weights/{num_lf}_sampled_weights.tsv\", index=False, sep=\"\\t\")\n",
    "    )\n",
    "    \n",
    "    dev_records.append(get_model_performance(candidate_dfs['dev'].curated_gig, dev_grid_results, num_lf))\n",
    "    test_records.append(get_model_performance(candidate_dfs['test'].curated_gig, test_grid_results, num_lf))"
   ]
  },
  {
   "cell_type": "code",
   "execution_count": 24,
   "metadata": {
    "ExecuteTime": {
     "end_time": "2019-11-06T20:25:45.862072Z",
     "start_time": "2019-11-06T20:25:45.836025Z"
    }
   },
   "outputs": [
    {
     "data": {
      "text/html": [
       "<div>\n",
       "<style scoped>\n",
       "    .dataframe tbody tr th:only-of-type {\n",
       "        vertical-align: middle;\n",
       "    }\n",
       "\n",
       "    .dataframe tbody tr th {\n",
       "        vertical-align: top;\n",
       "    }\n",
       "\n",
       "    .dataframe thead th {\n",
       "        text-align: right;\n",
       "    }\n",
       "</style>\n",
       "<table border=\"1\" class=\"dataframe\">\n",
       "  <thead>\n",
       "    <tr style=\"text-align: right;\">\n",
       "      <th></th>\n",
       "      <th>aupr</th>\n",
       "      <th>auroc</th>\n",
       "      <th>lf_num</th>\n",
       "      <th>lf_sample</th>\n",
       "    </tr>\n",
       "  </thead>\n",
       "  <tbody>\n",
       "    <tr>\n",
       "      <th>0</th>\n",
       "      <td>0.189110</td>\n",
       "      <td>0.673485</td>\n",
       "      <td>0</td>\n",
       "      <td>0:0,1,2,3,4,5,6,7,8</td>\n",
       "    </tr>\n",
       "    <tr>\n",
       "      <th>1</th>\n",
       "      <td>0.191545</td>\n",
       "      <td>0.672746</td>\n",
       "      <td>1</td>\n",
       "      <td>0:0,1,2,3,4,5,6,7,8,81</td>\n",
       "    </tr>\n",
       "  </tbody>\n",
       "</table>\n",
       "</div>"
      ],
      "text/plain": [
       "       aupr     auroc  lf_num               lf_sample\n",
       "0  0.189110  0.673485       0     0:0,1,2,3,4,5,6,7,8\n",
       "1  0.191545  0.672746       1  0:0,1,2,3,4,5,6,7,8,81"
      ]
     },
     "execution_count": 24,
     "metadata": {},
     "output_type": "execute_result"
    }
   ],
   "source": [
    "dev_full_results_df = pd.concat([dev_baseline_df] + dev_records).reset_index(drop=True)\n",
    "dev_full_results_df.to_csv(\"results/CtD/results/dev_sampled_results.tsv\", index=False, sep=\"\\t\")\n",
    "dev_full_results_df.head(2)"
   ]
  },
  {
   "cell_type": "code",
   "execution_count": 65,
   "metadata": {
    "ExecuteTime": {
     "end_time": "2019-11-08T18:25:58.344284Z",
     "start_time": "2019-11-08T18:25:58.053423Z"
    }
   },
   "outputs": [
    {
     "data": {
      "text/plain": [
       "<matplotlib.axes._subplots.AxesSubplot at 0x7f4ab97bcd68>"
      ]
     },
     "execution_count": 65,
     "metadata": {},
     "output_type": "execute_result"
    },
    {
     "data": {
      "image/png": "[encoded data removed]",
      "text/plain": [
       "<Figure size 432x288 with 1 Axes>"
      ]
     },
     "metadata": {
      "needs_background": "light"
     },
     "output_type": "display_data"
    }
   ],
   "source": [
    "sns.pointplot(x='lf_num', y='auroc', data=dev_full_results_df)"
   ]
  },
  {
   "cell_type": "code",
   "execution_count": 66,
   "metadata": {
    "ExecuteTime": {
     "end_time": "2019-11-08T18:25:58.644869Z",
     "start_time": "2019-11-08T18:25:58.345827Z"
    }
   },
   "outputs": [
    {
     "data": {
      "text/plain": [
       "<matplotlib.axes._subplots.AxesSubplot at 0x7f4ab963b128>"
      ]
     },
     "execution_count": 66,
     "metadata": {},
     "output_type": "execute_result"
    },
    {
     "data": {
      "image/png": "[encoded data removed]",
      "text/plain": [
       "<Figure size 432x288 with 1 Axes>"
      ]
     },
     "metadata": {
      "needs_background": "light"
     },
     "output_type": "display_data"
    }
   ],
   "source": [
    "sns.pointplot(x='lf_num', y='aupr', data=dev_full_results_df)"
   ]
  },
  {
   "cell_type": "code",
   "execution_count": 25,
   "metadata": {
    "ExecuteTime": {
     "end_time": "2019-11-06T20:25:45.981385Z",
     "start_time": "2019-11-06T20:25:45.863291Z"
    }
   },
   "outputs": [
    {
     "data": {
      "text/html": [
       "<div>\n",
       "<style scoped>\n",
       "    .dataframe tbody tr th:only-of-type {\n",
       "        vertical-align: middle;\n",
       "    }\n",
       "\n",
       "    .dataframe tbody tr th {\n",
       "        vertical-align: top;\n",
       "    }\n",
       "\n",
       "    .dataframe thead th {\n",
       "        text-align: right;\n",
       "    }\n",
       "</style>\n",
       "<table border=\"1\" class=\"dataframe\">\n",
       "  <thead>\n",
       "    <tr style=\"text-align: right;\">\n",
       "      <th></th>\n",
       "      <th>aupr</th>\n",
       "      <th>auroc</th>\n",
       "      <th>lf_num</th>\n",
       "      <th>lf_sample</th>\n",
       "    </tr>\n",
       "  </thead>\n",
       "  <tbody>\n",
       "    <tr>\n",
       "      <th>0</th>\n",
       "      <td>0.305850</td>\n",
       "      <td>0.663729</td>\n",
       "      <td>0</td>\n",
       "      <td>0:0,1,2,3,4,5,6,7,8</td>\n",
       "    </tr>\n",
       "    <tr>\n",
       "      <th>1</th>\n",
       "      <td>0.307707</td>\n",
       "      <td>0.672403</td>\n",
       "      <td>1</td>\n",
       "      <td>0:0,1,2,3,4,5,6,7,8,81</td>\n",
       "    </tr>\n",
       "  </tbody>\n",
       "</table>\n",
       "</div>"
      ],
      "text/plain": [
       "       aupr     auroc  lf_num               lf_sample\n",
       "0  0.305850  0.663729       0     0:0,1,2,3,4,5,6,7,8\n",
       "1  0.307707  0.672403       1  0:0,1,2,3,4,5,6,7,8,81"
      ]
     },
     "execution_count": 25,
     "metadata": {},
     "output_type": "execute_result"
    }
   ],
   "source": [
    "test_full_results_df = pd.concat([test_baseline_df] + test_records).reset_index(drop=True)\n",
    "test_full_results_df.to_csv(\"results/CtD/results/test_sampled_results.tsv\", index=False, sep=\"\\t\")\n",
    "test_full_results_df.head(2)"
   ]
  },
  {
   "cell_type": "code",
   "execution_count": 67,
   "metadata": {
    "ExecuteTime": {
     "end_time": "2019-11-08T18:25:58.344284Z",
     "start_time": "2019-11-08T18:25:58.053423Z"
    }
   },
   "outputs": [
    {
     "data": {
      "text/plain": [
       "<matplotlib.axes._subplots.AxesSubplot at 0x7f4ab963b5c0>"
      ]
     },
     "execution_count": 67,
     "metadata": {},
     "output_type": "execute_result"
    },
    {
     "data": {
      "image/png": "[encoded data removed]",
      "text/plain": [
       "<Figure size 432x288 with 1 Axes>"
      ]
     },
     "metadata": {
      "needs_background": "light"
     },
     "output_type": "display_data"
    }
   ],
   "source": [
    "sns.pointplot(x='lf_num', y='auroc', data=test_full_results_df)"
   ]
  },
  {
   "cell_type": "code",
   "execution_count": 68,
   "metadata": {
    "ExecuteTime": {
     "end_time": "2019-11-08T18:25:58.644869Z",
     "start_time": "2019-11-08T18:25:58.345827Z"
    }
   },
   "outputs": [
    {
     "data": {
      "text/plain": [
       "<matplotlib.axes._subplots.AxesSubplot at 0x7f4ab48c6f60>"
      ]
     },
     "execution_count": 68,
     "metadata": {},
     "output_type": "execute_result"
    },
    {
     "data": {
      "image/png": "[encoded data removed]",
      "text/plain": [
       "<Figure size 432x288 with 1 Axes>"
      ]
     },
     "metadata": {
      "needs_background": "light"
     },
     "output_type": "display_data"
    }
   ],
   "source": [
    "sns.pointplot(x='lf_num', y='aupr', data=test_full_results_df)"
   ]
  },
  {
   "cell_type": "markdown",
   "metadata": {
    "ExecuteTime": {
     "end_time": "2019-10-11T18:40:30.516087Z",
     "start_time": "2019-10-11T18:40:30.495488Z"
    }
   },
   "source": [
    "# Compound Binds Gene Sources Predicts Gene Interacts Gene Sentences"
   ]
  },
  {
   "cell_type": "markdown",
   "metadata": {},
   "source": [
    "Here we are using label functions, designed to predict the Compound Binds Gene relation, to predict Gene interacts Gene sentences. To estimate the performance boost over the baseline model, we implement a label function sampling appoach. The sampling approach works as follows: \n",
    "1. randomly sample X amount of label functions that are not within the database category\n",
    "2. incorporate the sampled label functions with the database label functions\n",
    "3. train the generative model on the combined resources\n",
    "4. use the generative model to predict the tuning set and test set\n",
    "5. Report performance in terms of AUROC and AUPR\n",
    "6. repeat the above process 50 times for each sample size (1, 6, 11, 16, all).\n",
    "\n",
    "Given that these label functions are not designed to predict the given relation, we expect that adding more label functions will decrease in performance. This means that auroc when sampling 1 label function should be less than the auroc of the baseline. This trend should continue when sampling 6, 11, 16 and then all of the label functions."
   ]
  },
  {
   "cell_type": "code",
   "execution_count": 26,
   "metadata": {
    "ExecuteTime": {
     "end_time": "2019-11-06T20:25:46.025775Z",
     "start_time": "2019-11-06T20:25:45.984358Z"
    }
   },
   "outputs": [],
   "source": [
    "cbg_start = 89\n",
    "cbg_end = 109\n",
    "\n",
    "#Spaced out number of sampels including total\n",
    "size_of_samples = [1,6,11,16,cbg_end-cbg_start]\n",
    "number_of_samples = 50\n",
    "cbg_lf_range = range(cbg_start, cbg_end)"
   ]
  },
  {
   "cell_type": "code",
   "execution_count": 27,
   "metadata": {
    "ExecuteTime": {
     "end_time": "2019-11-06T20:25:46.115023Z",
     "start_time": "2019-11-06T20:25:46.027059Z"
    }
   },
   "outputs": [],
   "source": [
    "sampled_lfs_dict = {\n",
    "    sample_size:(\n",
    "        sample_lfs(\n",
    "            list(cbg_lf_range),\n",
    "            len(list(cbg_lf_range)), \n",
    "            sample_size, \n",
    "            number_of_samples, \n",
    "            random_state=100\n",
    "        )\n",
    "    )\n",
    "    for sample_size in size_of_samples\n",
    "}"
   ]
  },
  {
   "cell_type": "code",
   "execution_count": 28,
   "metadata": {
    "ExecuteTime": {
     "end_time": "2019-11-06T22:01:25.563329Z",
     "start_time": "2019-11-06T20:25:46.120436Z"
    }
   },
   "outputs": [
    {
     "data": {
      "application/vnd.jupyter.widget-view+json": {
       "model_id": "5800ef78616a4b58a5cdb13202ffd370",
       "version_major": 2,
       "version_minor": 0
      },
      "text/plain": [
       "HBox(children=(IntProgress(value=1, bar_style='info', max=1), HTML(value='')))"
      ]
     },
     "metadata": {},
     "output_type": "display_data"
    },
    {
     "name": "stdout",
     "output_type": "stream",
     "text": [
      "\n"
     ]
    },
    {
     "name": "stderr",
     "output_type": "stream",
     "text": [
      "/home/danich1/anaconda2/envs/snorkel_advanced/lib/python3.6/site-packages/snorkel/labeling/model/label_model.py:358: RuntimeWarning: divide by zero encountered in true_divide\n",
      "  return np.clip(accs / self.coverage, 1e-6, 1.0)\n"
     ]
    },
    {
     "data": {
      "application/vnd.jupyter.widget-view+json": {
       "model_id": "0c49836f5b66453a92bfab3481ceddad",
       "version_major": 2,
       "version_minor": 0
      },
      "text/plain": [
       "HBox(children=(IntProgress(value=1, bar_style='info', max=1), HTML(value='')))"
      ]
     },
     "metadata": {},
     "output_type": "display_data"
    },
    {
     "name": "stdout",
     "output_type": "stream",
     "text": [
      "\n"
     ]
    },
    {
     "name": "stderr",
     "output_type": "stream",
     "text": [
      "/home/danich1/anaconda2/envs/snorkel_advanced/lib/python3.6/site-packages/snorkel/labeling/model/label_model.py:358: RuntimeWarning: divide by zero encountered in true_divide\n",
      "  return np.clip(accs / self.coverage, 1e-6, 1.0)\n"
     ]
    },
    {
     "data": {
      "application/vnd.jupyter.widget-view+json": {
       "model_id": "2f85a45ba1024cd39aed1d0d0f356e87",
       "version_major": 2,
       "version_minor": 0
      },
      "text/plain": [
       "HBox(children=(IntProgress(value=1, bar_style='info', max=1), HTML(value='')))"
      ]
     },
     "metadata": {},
     "output_type": "display_data"
    },
    {
     "name": "stdout",
     "output_type": "stream",
     "text": [
      "\n"
     ]
    },
    {
     "name": "stderr",
     "output_type": "stream",
     "text": [
      "/home/danich1/anaconda2/envs/snorkel_advanced/lib/python3.6/site-packages/snorkel/labeling/model/label_model.py:358: RuntimeWarning: divide by zero encountered in true_divide\n",
      "  return np.clip(accs / self.coverage, 1e-6, 1.0)\n"
     ]
    },
    {
     "data": {
      "application/vnd.jupyter.widget-view+json": {
       "model_id": "1dbdc335f72447129c47022d5154ead0",
       "version_major": 2,
       "version_minor": 0
      },
      "text/plain": [
       "HBox(children=(IntProgress(value=1, bar_style='info', max=1), HTML(value='')))"
      ]
     },
     "metadata": {},
     "output_type": "display_data"
    },
    {
     "name": "stdout",
     "output_type": "stream",
     "text": [
      "\n"
     ]
    },
    {
     "name": "stderr",
     "output_type": "stream",
     "text": [
      "/home/danich1/anaconda2/envs/snorkel_advanced/lib/python3.6/site-packages/snorkel/labeling/model/label_model.py:358: RuntimeWarning: divide by zero encountered in true_divide\n",
      "  return np.clip(accs / self.coverage, 1e-6, 1.0)\n"
     ]
    },
    {
     "data": {
      "application/vnd.jupyter.widget-view+json": {
       "model_id": "648db2ef74b446cdbf28a3216c21ef53",
       "version_major": 2,
       "version_minor": 0
      },
      "text/plain": [
       "HBox(children=(IntProgress(value=1, bar_style='info', max=1), HTML(value='')))"
      ]
     },
     "metadata": {},
     "output_type": "display_data"
    },
    {
     "name": "stdout",
     "output_type": "stream",
     "text": [
      "\n"
     ]
    },
    {
     "name": "stderr",
     "output_type": "stream",
     "text": [
      "/home/danich1/anaconda2/envs/snorkel_advanced/lib/python3.6/site-packages/snorkel/labeling/model/label_model.py:358: RuntimeWarning: divide by zero encountered in true_divide\n",
      "  return np.clip(accs / self.coverage, 1e-6, 1.0)\n"
     ]
    }
   ],
   "source": [
    "dev_records = []\n",
    "test_records = []\n",
    "for num_lf in sampled_lfs_dict:\n",
    "    train_grid_results, dev_grid_results, test_grid_results, models = (\n",
    "        train_model_random_lfs(\n",
    "            [baseline_index + sample for sample in sampled_lfs_dict[num_lf]],\n",
    "            correct_L, correct_L_dev, candidate_dfs['dev'].curated_gig,\n",
    "            correct_L_test,pd.np.round(pd.np.linspace(0.01, 5, num=5), 2)\n",
    "        )\n",
    "    )\n",
    "    \n",
    "    (\n",
    "        pd.DataFrame({key:train_grid_results[key][:,1] for key in train_grid_results})\n",
    "        .assign(candidate_id=label_matricies['train'].candidate_id.values)\n",
    "        .to_csv(f\"results/CbG/marginals/{num_lf}_sampled_train.tsv.xz\", compression=\"xz\", index=False, sep=\"\\t\")\n",
    "    )\n",
    "    (\n",
    "        pd.DataFrame({key:dev_grid_results[key][:,1] for key in dev_grid_results})\n",
    "        .to_csv(f\"results/CbG/marginals/{num_lf}_sampled_dev.tsv\", index=False, sep=\"\\t\")\n",
    "    )\n",
    "    (\n",
    "        pd.DataFrame({key:test_grid_results[key][:,1] for key in test_grid_results})\n",
    "        .to_csv(f\"results/CbG/marginals/{num_lf}_sampled_test.tsv\", index=False, sep=\"\\t\")\n",
    "    )\n",
    "    \n",
    "    (\n",
    "        pd.DataFrame({key:models[key].get_weights() for key in models})\n",
    "        .to_csv(f\"results/CbG/weights/{num_lf}_sampled_weights.tsv\", index=False, sep=\"\\t\")\n",
    "    )\n",
    "    \n",
    "    dev_records.append(get_model_performance(candidate_dfs['dev'].curated_gig, dev_grid_results, num_lf))\n",
    "    test_records.append(get_model_performance(candidate_dfs['test'].curated_gig, test_grid_results, num_lf))"
   ]
  },
  {
   "cell_type": "code",
   "execution_count": 29,
   "metadata": {
    "ExecuteTime": {
     "end_time": "2019-11-06T22:01:25.589959Z",
     "start_time": "2019-11-06T22:01:25.564797Z"
    }
   },
   "outputs": [
    {
     "data": {
      "text/html": [
       "<div>\n",
       "<style scoped>\n",
       "    .dataframe tbody tr th:only-of-type {\n",
       "        vertical-align: middle;\n",
       "    }\n",
       "\n",
       "    .dataframe tbody tr th {\n",
       "        vertical-align: top;\n",
       "    }\n",
       "\n",
       "    .dataframe thead th {\n",
       "        text-align: right;\n",
       "    }\n",
       "</style>\n",
       "<table border=\"1\" class=\"dataframe\">\n",
       "  <thead>\n",
       "    <tr style=\"text-align: right;\">\n",
       "      <th></th>\n",
       "      <th>aupr</th>\n",
       "      <th>auroc</th>\n",
       "      <th>lf_num</th>\n",
       "      <th>lf_sample</th>\n",
       "    </tr>\n",
       "  </thead>\n",
       "  <tbody>\n",
       "    <tr>\n",
       "      <th>0</th>\n",
       "      <td>0.189110</td>\n",
       "      <td>0.673485</td>\n",
       "      <td>0</td>\n",
       "      <td>0:0,1,2,3,4,5,6,7,8</td>\n",
       "    </tr>\n",
       "    <tr>\n",
       "      <th>1</th>\n",
       "      <td>0.201782</td>\n",
       "      <td>0.699943</td>\n",
       "      <td>1</td>\n",
       "      <td>0:0,1,2,3,4,5,6,7,8,93</td>\n",
       "    </tr>\n",
       "  </tbody>\n",
       "</table>\n",
       "</div>"
      ],
      "text/plain": [
       "       aupr     auroc  lf_num               lf_sample\n",
       "0  0.189110  0.673485       0     0:0,1,2,3,4,5,6,7,8\n",
       "1  0.201782  0.699943       1  0:0,1,2,3,4,5,6,7,8,93"
      ]
     },
     "execution_count": 29,
     "metadata": {},
     "output_type": "execute_result"
    }
   ],
   "source": [
    "dev_full_results_df = pd.concat([dev_baseline_df] + dev_records).reset_index(drop=True)\n",
    "dev_full_results_df.to_csv(\"results/CbG/results/dev_sampled_results.tsv\", index=False, sep=\"\\t\")\n",
    "dev_full_results_df.head(2)"
   ]
  },
  {
   "cell_type": "code",
   "execution_count": 71,
   "metadata": {
    "ExecuteTime": {
     "end_time": "2019-11-08T18:25:58.344284Z",
     "start_time": "2019-11-08T18:25:58.053423Z"
    }
   },
   "outputs": [
    {
     "data": {
      "text/plain": [
       "<matplotlib.axes._subplots.AxesSubplot at 0x7f4ab963b978>"
      ]
     },
     "execution_count": 71,
     "metadata": {},
     "output_type": "execute_result"
    },
    {
     "data": {
      "image/png": "[encoded data removed]",
      "text/plain": [
       "<Figure size 432x288 with 1 Axes>"
      ]
     },
     "metadata": {
      "needs_background": "light"
     },
     "output_type": "display_data"
    }
   ],
   "source": [
    "sns.pointplot(x='lf_num', y='auroc', data=dev_full_results_df)"
   ]
  },
  {
   "cell_type": "code",
   "execution_count": 72,
   "metadata": {
    "ExecuteTime": {
     "end_time": "2019-11-08T18:25:58.644869Z",
     "start_time": "2019-11-08T18:25:58.345827Z"
    },
    "scrolled": true
   },
   "outputs": [
    {
     "data": {
      "text/plain": [
       "<matplotlib.axes._subplots.AxesSubplot at 0x7f4ab4942240>"
      ]
     },
     "execution_count": 72,
     "metadata": {},
     "output_type": "execute_result"
    },
    {
     "data": {
      "image/png": "[encoded data removed]",
      "text/plain": [
       "<Figure size 432x288 with 1 Axes>"
      ]
     },
     "metadata": {
      "needs_background": "light"
     },
     "output_type": "display_data"
    }
   ],
   "source": [
    "sns.pointplot(x='lf_num', y='aupr', data=dev_full_results_df)"
   ]
  },
  {
   "cell_type": "code",
   "execution_count": 30,
   "metadata": {
    "ExecuteTime": {
     "end_time": "2019-11-06T22:01:25.674966Z",
     "start_time": "2019-11-06T22:01:25.591238Z"
    }
   },
   "outputs": [
    {
     "data": {
      "text/html": [
       "<div>\n",
       "<style scoped>\n",
       "    .dataframe tbody tr th:only-of-type {\n",
       "        vertical-align: middle;\n",
       "    }\n",
       "\n",
       "    .dataframe tbody tr th {\n",
       "        vertical-align: top;\n",
       "    }\n",
       "\n",
       "    .dataframe thead th {\n",
       "        text-align: right;\n",
       "    }\n",
       "</style>\n",
       "<table border=\"1\" class=\"dataframe\">\n",
       "  <thead>\n",
       "    <tr style=\"text-align: right;\">\n",
       "      <th></th>\n",
       "      <th>aupr</th>\n",
       "      <th>auroc</th>\n",
       "      <th>lf_num</th>\n",
       "      <th>lf_sample</th>\n",
       "    </tr>\n",
       "  </thead>\n",
       "  <tbody>\n",
       "    <tr>\n",
       "      <th>0</th>\n",
       "      <td>0.30585</td>\n",
       "      <td>0.663729</td>\n",
       "      <td>0</td>\n",
       "      <td>0:0,1,2,3,4,5,6,7,8</td>\n",
       "    </tr>\n",
       "    <tr>\n",
       "      <th>1</th>\n",
       "      <td>0.31356</td>\n",
       "      <td>0.676980</td>\n",
       "      <td>1</td>\n",
       "      <td>0:0,1,2,3,4,5,6,7,8,93</td>\n",
       "    </tr>\n",
       "  </tbody>\n",
       "</table>\n",
       "</div>"
      ],
      "text/plain": [
       "      aupr     auroc  lf_num               lf_sample\n",
       "0  0.30585  0.663729       0     0:0,1,2,3,4,5,6,7,8\n",
       "1  0.31356  0.676980       1  0:0,1,2,3,4,5,6,7,8,93"
      ]
     },
     "execution_count": 30,
     "metadata": {},
     "output_type": "execute_result"
    }
   ],
   "source": [
    "test_full_results_df = pd.concat([test_baseline_df] + test_records).reset_index(drop=True)\n",
    "test_full_results_df.to_csv(\"results/CbG/results/test_sampled_results.tsv\", index=False, sep=\"\\t\")\n",
    "test_full_results_df.head(2)"
   ]
  },
  {
   "cell_type": "code",
   "execution_count": 73,
   "metadata": {
    "ExecuteTime": {
     "end_time": "2019-11-08T18:25:58.344284Z",
     "start_time": "2019-11-08T18:25:58.053423Z"
    }
   },
   "outputs": [
    {
     "data": {
      "text/plain": [
       "<matplotlib.axes._subplots.AxesSubplot at 0x7f4ab478e940>"
      ]
     },
     "execution_count": 73,
     "metadata": {},
     "output_type": "execute_result"
    },
    {
     "data": {
      "image/png": "[encoded data removed]",
      "text/plain": [
       "<Figure size 432x288 with 1 Axes>"
      ]
     },
     "metadata": {
      "needs_background": "light"
     },
     "output_type": "display_data"
    }
   ],
   "source": [
    "sns.pointplot(x='lf_num', y='auroc', data=test_full_results_df)"
   ]
  },
  {
   "cell_type": "code",
   "execution_count": 74,
   "metadata": {
    "ExecuteTime": {
     "end_time": "2019-11-08T18:25:58.644869Z",
     "start_time": "2019-11-08T18:25:58.345827Z"
    }
   },
   "outputs": [
    {
     "data": {
      "text/plain": [
       "<matplotlib.axes._subplots.AxesSubplot at 0x7f4ab49496d8>"
      ]
     },
     "execution_count": 74,
     "metadata": {},
     "output_type": "execute_result"
    },
    {
     "data": {
      "image/png": "[encoded data removed]",
      "text/plain": [
       "<Figure size 432x288 with 1 Axes>"
      ]
     },
     "metadata": {
      "needs_background": "light"
     },
     "output_type": "display_data"
    }
   ],
   "source": [
    "sns.pointplot(x='lf_num', y='aupr', data=test_full_results_df)"
   ]
  },
  {
   "cell_type": "markdown",
   "metadata": {
    "ExecuteTime": {
     "end_time": "2019-10-11T18:40:30.516087Z",
     "start_time": "2019-10-11T18:40:30.495488Z"
    }
   },
   "source": [
    "# All Sources Predicts Gene Interacts Gene Sentences"
   ]
  },
  {
   "cell_type": "markdown",
   "metadata": {},
   "source": [
    "Here we are using every hand constructed label function to predict Gene interacts Gene sentences. To estimate the performance boost over the baseline model, we implement a label function sampling appoach. The sampling approach works as follows: \n",
    "1. randomly sample X amount of label functions that are not within the database category\n",
    "2. incorporate the sampled label functions with the database label functions\n",
    "3. train the generative model on the combined resources\n",
    "4. use the generative model to predict the tuning set and test set\n",
    "5. Report performance in terms of AUROC and AUPR\n",
    "6. repeat the above process 50 times for each sample size (1, 33, 65, 97, all).\n",
    "\n",
    "Given that some of these label functions are used to predict the given relation, we expect that adding more label functions might slightly increase performance. This means that auroc when sampling 1 label function should be higher than the auroc of the baseline; however, at 33, 65, 97 the auroc should start to decrease as we are adding more irrelevant label functions towards the baseline model."
   ]
  },
  {
   "cell_type": "code",
   "execution_count": 31,
   "metadata": {
    "ExecuteTime": {
     "end_time": "2019-11-06T22:01:25.699222Z",
     "start_time": "2019-11-06T22:01:25.677436Z"
    }
   },
   "outputs": [],
   "source": [
    "all_start = 9\n",
    "all_end = 109\n",
    "\n",
    "#Spaced out number of sampels including total\n",
    "size_of_samples = [1,33,65,97,all_end-all_start]\n",
    "number_of_samples = 50\n",
    "cbg_lf_range = range(all_start, all_end)"
   ]
  },
  {
   "cell_type": "code",
   "execution_count": 32,
   "metadata": {
    "ExecuteTime": {
     "end_time": "2019-11-06T22:01:25.764210Z",
     "start_time": "2019-11-06T22:01:25.700754Z"
    }
   },
   "outputs": [],
   "source": [
    "sampled_lfs_dict = {\n",
    "    sample_size:(\n",
    "        sample_lfs(\n",
    "            list(cbg_lf_range),\n",
    "            len(list(cbg_lf_range)), \n",
    "            sample_size, \n",
    "            number_of_samples, \n",
    "            random_state=100\n",
    "        )\n",
    "    )\n",
    "    for sample_size in size_of_samples\n",
    "}"
   ]
  },
  {
   "cell_type": "code",
   "execution_count": 33,
   "metadata": {
    "ExecuteTime": {
     "end_time": "2019-11-07T03:18:33.917909Z",
     "start_time": "2019-11-06T22:01:25.765995Z"
    }
   },
   "outputs": [
    {
     "data": {
      "application/vnd.jupyter.widget-view+json": {
       "model_id": "7f3262d639c14373ac0ea9e500a36b27",
       "version_major": 2,
       "version_minor": 0
      },
      "text/plain": [
       "HBox(children=(IntProgress(value=1, bar_style='info', max=1), HTML(value='')))"
      ]
     },
     "metadata": {},
     "output_type": "display_data"
    },
    {
     "name": "stdout",
     "output_type": "stream",
     "text": [
      "\n"
     ]
    },
    {
     "name": "stderr",
     "output_type": "stream",
     "text": [
      "/home/danich1/anaconda2/envs/snorkel_advanced/lib/python3.6/site-packages/snorkel/labeling/model/label_model.py:358: RuntimeWarning: divide by zero encountered in true_divide\n",
      "  return np.clip(accs / self.coverage, 1e-6, 1.0)\n"
     ]
    },
    {
     "data": {
      "application/vnd.jupyter.widget-view+json": {
       "model_id": "cd5e87c6bc294262875bddb2df8250a2",
       "version_major": 2,
       "version_minor": 0
      },
      "text/plain": [
       "HBox(children=(IntProgress(value=1, bar_style='info', max=1), HTML(value='')))"
      ]
     },
     "metadata": {},
     "output_type": "display_data"
    },
    {
     "name": "stdout",
     "output_type": "stream",
     "text": [
      "\n"
     ]
    },
    {
     "name": "stderr",
     "output_type": "stream",
     "text": [
      "/home/danich1/anaconda2/envs/snorkel_advanced/lib/python3.6/site-packages/snorkel/labeling/model/label_model.py:358: RuntimeWarning: divide by zero encountered in true_divide\n",
      "  return np.clip(accs / self.coverage, 1e-6, 1.0)\n"
     ]
    },
    {
     "data": {
      "application/vnd.jupyter.widget-view+json": {
       "model_id": "a11a8dd2227247fc8fc9f6f73e5fd56c",
       "version_major": 2,
       "version_minor": 0
      },
      "text/plain": [
       "HBox(children=(IntProgress(value=1, bar_style='info', max=1), HTML(value='')))"
      ]
     },
     "metadata": {},
     "output_type": "display_data"
    },
    {
     "name": "stdout",
     "output_type": "stream",
     "text": [
      "\n"
     ]
    },
    {
     "name": "stderr",
     "output_type": "stream",
     "text": [
      "/home/danich1/anaconda2/envs/snorkel_advanced/lib/python3.6/site-packages/snorkel/labeling/model/label_model.py:358: RuntimeWarning: divide by zero encountered in true_divide\n",
      "  return np.clip(accs / self.coverage, 1e-6, 1.0)\n"
     ]
    },
    {
     "data": {
      "application/vnd.jupyter.widget-view+json": {
       "model_id": "a00daf0ea4ec44539c422ec1ca44f183",
       "version_major": 2,
       "version_minor": 0
      },
      "text/plain": [
       "HBox(children=(IntProgress(value=1, bar_style='info', max=1), HTML(value='')))"
      ]
     },
     "metadata": {},
     "output_type": "display_data"
    },
    {
     "name": "stdout",
     "output_type": "stream",
     "text": [
      "\n"
     ]
    },
    {
     "name": "stderr",
     "output_type": "stream",
     "text": [
      "/home/danich1/anaconda2/envs/snorkel_advanced/lib/python3.6/site-packages/snorkel/labeling/model/label_model.py:358: RuntimeWarning: divide by zero encountered in true_divide\n",
      "  return np.clip(accs / self.coverage, 1e-6, 1.0)\n"
     ]
    },
    {
     "data": {
      "application/vnd.jupyter.widget-view+json": {
       "model_id": "395e1dc6fd5c470a92a629decc49c97c",
       "version_major": 2,
       "version_minor": 0
      },
      "text/plain": [
       "HBox(children=(IntProgress(value=1, bar_style='info', max=1), HTML(value='')))"
      ]
     },
     "metadata": {},
     "output_type": "display_data"
    },
    {
     "name": "stdout",
     "output_type": "stream",
     "text": [
      "\n"
     ]
    },
    {
     "name": "stderr",
     "output_type": "stream",
     "text": [
      "/home/danich1/anaconda2/envs/snorkel_advanced/lib/python3.6/site-packages/snorkel/labeling/model/label_model.py:358: RuntimeWarning: divide by zero encountered in true_divide\n",
      "  return np.clip(accs / self.coverage, 1e-6, 1.0)\n"
     ]
    }
   ],
   "source": [
    "dev_records = []\n",
    "test_records = []\n",
    "for num_lf in sampled_lfs_dict:\n",
    "    train_grid_results, dev_grid_results, test_grid_results, models = (\n",
    "        train_model_random_lfs(\n",
    "            [baseline_index + sample for sample in sampled_lfs_dict[num_lf]],\n",
    "            correct_L, correct_L_dev, candidate_dfs['dev'].curated_gig,\n",
    "            correct_L_test,pd.np.round(pd.np.linspace(0.01, 5, num=5), 2)\n",
    "        )\n",
    "    )\n",
    "    \n",
    "    (\n",
    "        pd.DataFrame({key:train_grid_results[key][:,1] for key in train_grid_results})\n",
    "        .assign(candidate_id=label_matricies['train'].candidate_id.values)\n",
    "        .to_csv(f\"results/all/marginals/{num_lf}_sampled_train.tsv.xz\", compression=\"xz\", index=False, sep=\"\\t\")\n",
    "    )\n",
    "    (\n",
    "        pd.DataFrame({key:dev_grid_results[key][:,1] for key in dev_grid_results})\n",
    "        .to_csv(f\"results/all/marginals/{num_lf}_sampled_dev.tsv\", index=False, sep=\"\\t\")\n",
    "    )\n",
    "    (\n",
    "        pd.DataFrame({key:test_grid_results[key][:,1] for key in test_grid_results})\n",
    "        .to_csv(f\"results/all/marginals/{num_lf}_sampled_test.tsv\", index=False, sep=\"\\t\")\n",
    "    )\n",
    "    \n",
    "    (\n",
    "        pd.DataFrame({key:models[key].get_weights() for key in models})\n",
    "        .to_csv(f\"results/all/weights/{num_lf}_sampled_weights.tsv\", index=False, sep=\"\\t\")\n",
    "    )\n",
    "    \n",
    "    dev_records.append(get_model_performance(candidate_dfs['dev'].curated_gig, dev_grid_results, num_lf))\n",
    "    test_records.append(get_model_performance(candidate_dfs['test'].curated_gig, test_grid_results, num_lf))"
   ]
  },
  {
   "cell_type": "code",
   "execution_count": 34,
   "metadata": {
    "ExecuteTime": {
     "end_time": "2019-11-07T03:18:35.584599Z",
     "start_time": "2019-11-07T03:18:33.963661Z"
    }
   },
   "outputs": [
    {
     "data": {
      "text/html": [
       "<div>\n",
       "<style scoped>\n",
       "    .dataframe tbody tr th:only-of-type {\n",
       "        vertical-align: middle;\n",
       "    }\n",
       "\n",
       "    .dataframe tbody tr th {\n",
       "        vertical-align: top;\n",
       "    }\n",
       "\n",
       "    .dataframe thead th {\n",
       "        text-align: right;\n",
       "    }\n",
       "</style>\n",
       "<table border=\"1\" class=\"dataframe\">\n",
       "  <thead>\n",
       "    <tr style=\"text-align: right;\">\n",
       "      <th></th>\n",
       "      <th>aupr</th>\n",
       "      <th>auroc</th>\n",
       "      <th>lf_num</th>\n",
       "      <th>lf_sample</th>\n",
       "    </tr>\n",
       "  </thead>\n",
       "  <tbody>\n",
       "    <tr>\n",
       "      <th>0</th>\n",
       "      <td>0.18911</td>\n",
       "      <td>0.673485</td>\n",
       "      <td>0</td>\n",
       "      <td>0:0,1,2,3,4,5,6,7,8</td>\n",
       "    </tr>\n",
       "    <tr>\n",
       "      <th>1</th>\n",
       "      <td>0.18322</td>\n",
       "      <td>0.664583</td>\n",
       "      <td>1</td>\n",
       "      <td>0:0,1,2,3,4,5,6,7,8,59</td>\n",
       "    </tr>\n",
       "  </tbody>\n",
       "</table>\n",
       "</div>"
      ],
      "text/plain": [
       "      aupr     auroc  lf_num               lf_sample\n",
       "0  0.18911  0.673485       0     0:0,1,2,3,4,5,6,7,8\n",
       "1  0.18322  0.664583       1  0:0,1,2,3,4,5,6,7,8,59"
      ]
     },
     "execution_count": 34,
     "metadata": {},
     "output_type": "execute_result"
    }
   ],
   "source": [
    "dev_full_results_df = pd.concat([dev_baseline_df] + dev_records).reset_index(drop=True)\n",
    "dev_full_results_df.to_csv(\"results/all/results/dev_sampled_results.tsv\", index=False, sep=\"\\t\")\n",
    "dev_full_results_df.head(2)"
   ]
  },
  {
   "cell_type": "code",
   "execution_count": 48,
   "metadata": {
    "ExecuteTime": {
     "end_time": "2019-11-08T18:19:14.102566Z",
     "start_time": "2019-11-08T18:19:13.820245Z"
    }
   },
   "outputs": [
    {
     "data": {
      "text/plain": [
       "<matplotlib.axes._subplots.AxesSubplot at 0x7f4ab4ef1b00>"
      ]
     },
     "execution_count": 48,
     "metadata": {},
     "output_type": "execute_result"
    },
    {
     "data": {
      "image/png": "[encoded data removed]",
      "text/plain": [
       "<Figure size 432x288 with 1 Axes>"
      ]
     },
     "metadata": {
      "needs_background": "light"
     },
     "output_type": "display_data"
    }
   ],
   "source": [
    "sns.pointplot(x='lf_num', y='auroc', data=dev_full_results_df)"
   ]
  },
  {
   "cell_type": "code",
   "execution_count": 50,
   "metadata": {
    "ExecuteTime": {
     "end_time": "2019-11-08T18:19:42.719718Z",
     "start_time": "2019-11-08T18:19:42.425197Z"
    }
   },
   "outputs": [
    {
     "data": {
      "text/plain": [
       "<matplotlib.axes._subplots.AxesSubplot at 0x7f4ab4ddca90>"
      ]
     },
     "execution_count": 50,
     "metadata": {},
     "output_type": "execute_result"
    },
    {
     "data": {
      "image/png": "[encoded data removed]",
      "text/plain": [
       "<Figure size 432x288 with 1 Axes>"
      ]
     },
     "metadata": {
      "needs_background": "light"
     },
     "output_type": "display_data"
    }
   ],
   "source": [
    "sns.pointplot(x='lf_num', y='aupr', data=dev_full_results_df)"
   ]
  },
  {
   "cell_type": "code",
   "execution_count": 35,
   "metadata": {
    "ExecuteTime": {
     "end_time": "2019-11-07T03:18:35.650411Z",
     "start_time": "2019-11-07T03:18:35.585954Z"
    }
   },
   "outputs": [
    {
     "data": {
      "text/html": [
       "<div>\n",
       "<style scoped>\n",
       "    .dataframe tbody tr th:only-of-type {\n",
       "        vertical-align: middle;\n",
       "    }\n",
       "\n",
       "    .dataframe tbody tr th {\n",
       "        vertical-align: top;\n",
       "    }\n",
       "\n",
       "    .dataframe thead th {\n",
       "        text-align: right;\n",
       "    }\n",
       "</style>\n",
       "<table border=\"1\" class=\"dataframe\">\n",
       "  <thead>\n",
       "    <tr style=\"text-align: right;\">\n",
       "      <th></th>\n",
       "      <th>aupr</th>\n",
       "      <th>auroc</th>\n",
       "      <th>lf_num</th>\n",
       "      <th>lf_sample</th>\n",
       "    </tr>\n",
       "  </thead>\n",
       "  <tbody>\n",
       "    <tr>\n",
       "      <th>0</th>\n",
       "      <td>0.305850</td>\n",
       "      <td>0.663729</td>\n",
       "      <td>0</td>\n",
       "      <td>0:0,1,2,3,4,5,6,7,8</td>\n",
       "    </tr>\n",
       "    <tr>\n",
       "      <th>1</th>\n",
       "      <td>0.318316</td>\n",
       "      <td>0.655785</td>\n",
       "      <td>1</td>\n",
       "      <td>0:0,1,2,3,4,5,6,7,8,59</td>\n",
       "    </tr>\n",
       "  </tbody>\n",
       "</table>\n",
       "</div>"
      ],
      "text/plain": [
       "       aupr     auroc  lf_num               lf_sample\n",
       "0  0.305850  0.663729       0     0:0,1,2,3,4,5,6,7,8\n",
       "1  0.318316  0.655785       1  0:0,1,2,3,4,5,6,7,8,59"
      ]
     },
     "execution_count": 35,
     "metadata": {},
     "output_type": "execute_result"
    }
   ],
   "source": [
    "test_full_results_df = pd.concat([test_baseline_df] + test_records).reset_index(drop=True)\n",
    "test_full_results_df.to_csv(\"results/all/results/test_sampled_results.tsv\", index=False, sep=\"\\t\")\n",
    "test_full_results_df.head(2)"
   ]
  },
  {
   "cell_type": "code",
   "execution_count": 49,
   "metadata": {
    "ExecuteTime": {
     "end_time": "2019-11-08T18:19:16.528894Z",
     "start_time": "2019-11-08T18:19:16.241960Z"
    }
   },
   "outputs": [
    {
     "data": {
      "text/plain": [
       "<matplotlib.axes._subplots.AxesSubplot at 0x7f4bb013fda0>"
      ]
     },
     "execution_count": 49,
     "metadata": {},
     "output_type": "execute_result"
    },
    {
     "data": {
      "image/png": "[encoded data removed]",
      "text/plain": [
       "<Figure size 432x288 with 1 Axes>"
      ]
     },
     "metadata": {
      "needs_background": "light"
     },
     "output_type": "display_data"
    }
   ],
   "source": [
    "sns.pointplot(x='lf_num', y='auroc', data=test_full_results_df)"
   ]
  },
  {
   "cell_type": "code",
   "execution_count": 51,
   "metadata": {
    "ExecuteTime": {
     "end_time": "2019-11-08T18:19:44.575687Z",
     "start_time": "2019-11-08T18:19:44.260378Z"
    }
   },
   "outputs": [
    {
     "data": {
      "text/plain": [
       "<matplotlib.axes._subplots.AxesSubplot at 0x7f4ab4da5da0>"
      ]
     },
     "execution_count": 51,
     "metadata": {},
     "output_type": "execute_result"
    },
    {
     "data": {
      "image/png": "[encoded data removed]",
      "text/plain": [
       "<Figure size 432x288 with 1 Axes>"
      ]
     },
     "metadata": {
      "needs_background": "light"
     },
     "output_type": "display_data"
    }
   ],
   "source": [
    "sns.pointplot(x='lf_num', y='aupr', data=test_full_results_df)"
   ]
  }
 ],
 "metadata": {
  "kernelspec": {
   "display_name": "Python [conda env:snorkel_advanced]",
   "language": "python",
   "name": "conda-env-snorkel_advanced-py"
  },
  "language_info": {
   "codemirror_mode": {
    "name": "ipython",
    "version": 3
   },
   "file_extension": ".py",
   "mimetype": "text/x-python",
   "name": "python",
   "nbconvert_exporter": "python",
   "pygments_lexer": "ipython3",
   "version": "3.6.7"
  }
 },
 "nbformat": 4,
 "nbformat_minor": 2
}
