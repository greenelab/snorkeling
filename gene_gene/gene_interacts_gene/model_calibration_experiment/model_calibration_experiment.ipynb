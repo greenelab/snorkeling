{
 "cells": [
  {
   "cell_type": "code",
   "execution_count": 1,
   "metadata": {
    "ExecuteTime": {
     "end_time": "2020-01-06T16:15:11.155270Z",
     "start_time": "2020-01-06T16:15:10.156143Z"
    }
   },
   "outputs": [],
   "source": [
    "%load_ext autoreload\n",
    "%autoreload 2\n",
    "%matplotlib inline\n",
    "\n",
    "from collections import defaultdict\n",
    "import os\n",
    "import pickle\n",
    "import sys\n",
    "\n",
    "sys.path.append(os.path.abspath('../../../modules'))\n",
    "\n",
    "import plotnine as p9\n",
    "import pandas as pd\n",
    "from tqdm import tqdm_notebook\n",
    "\n",
    "from utils.notebook_utils.dataframe_helper import load_candidate_dataframes, mark_sentence"
   ]
  },
  {
   "cell_type": "code",
   "execution_count": 2,
   "metadata": {
    "ExecuteTime": {
     "end_time": "2020-01-06T16:15:11.345158Z",
     "start_time": "2020-01-06T16:15:11.156672Z"
    }
   },
   "outputs": [],
   "source": [
    "#Set up the environment\n",
    "username = \"danich1\"\n",
    "password = \"snorkel\"\n",
    "dbname = \"pubmeddb\"\n",
    "\n",
    "#Path subject to change for different os\n",
    "database_str = \"postgresql+psycopg2://{}:{}@/{}?host=/var/run/postgresql\".format(username, password, dbname)\n",
    "os.environ['SNORKELDB'] = database_str\n",
    "\n",
    "from snorkel import SnorkelSession\n",
    "session = SnorkelSession()"
   ]
  },
  {
   "cell_type": "code",
   "execution_count": 3,
   "metadata": {
    "ExecuteTime": {
     "end_time": "2020-01-06T16:15:11.752845Z",
     "start_time": "2020-01-06T16:15:11.346670Z"
    }
   },
   "outputs": [],
   "source": [
    "from snorkel.learning.pytorch.rnn.utils import candidate_to_tokens\n",
    "from snorkel.models import Candidate, candidate_subclass"
   ]
  },
  {
   "cell_type": "code",
   "execution_count": 4,
   "metadata": {
    "ExecuteTime": {
     "end_time": "2020-01-06T16:15:11.778031Z",
     "start_time": "2020-01-06T16:15:11.754158Z"
    }
   },
   "outputs": [],
   "source": [
    "GeneGene = candidate_subclass('GeneGene', ['Gene1', 'Gene2'])"
   ]
  },
  {
   "cell_type": "code",
   "execution_count": 5,
   "metadata": {
    "ExecuteTime": {
     "end_time": "2020-01-06T16:15:11.801791Z",
     "start_time": "2020-01-06T16:15:11.779714Z"
    }
   },
   "outputs": [],
   "source": [
    "def tag_sentence(x):\n",
    "    candidates=(\n",
    "        session\n",
    "        .query(GeneGene)\n",
    "        .filter(GeneGene.id.in_(x.candidate_id.astype(int).tolist()))\n",
    "        .all()\n",
    "    )\n",
    "    tagged_sen=[\n",
    "         \" \".join(\n",
    "             mark_sentence(\n",
    "                candidate_to_tokens(cand), \n",
    "                [\n",
    "                        (cand[0].get_word_start(), cand[0].get_word_end(), 1),\n",
    "                        (cand[1].get_word_start(), cand[1].get_word_end(), 2)\n",
    "                ]\n",
    "            )\n",
    "         )\n",
    "        for cand in candidates\n",
    "    ]\n",
    "\n",
    "    return tagged_sen"
   ]
  },
  {
   "cell_type": "code",
   "execution_count": 6,
   "metadata": {
    "ExecuteTime": {
     "end_time": "2020-01-06T16:15:11.871274Z",
     "start_time": "2020-01-06T16:15:11.802984Z"
    }
   },
   "outputs": [],
   "source": [
    "spreadsheet_names = {\n",
    "    #'train': '../data/sentences/sentence_labels_train.xlsx',\n",
    "    'dev': '../data/sentences/sentence_labels_dev.xlsx',\n",
    "    'test': '../data/sentences/sentence_labels_test.xlsx'\n",
    "}"
   ]
  },
  {
   "cell_type": "code",
   "execution_count": 7,
   "metadata": {
    "ExecuteTime": {
     "end_time": "2020-01-06T16:15:13.805452Z",
     "start_time": "2020-01-06T16:15:11.873181Z"
    }
   },
   "outputs": [
    {
     "name": "stdout",
     "output_type": "stream",
     "text": [
      "Size of dev set: 500\n",
      "Size of test set: 500\n"
     ]
    }
   ],
   "source": [
    "candidate_dfs = {\n",
    "    key:load_candidate_dataframes(spreadsheet_names[key], \"curated_gig\")\n",
    "    for key in spreadsheet_names\n",
    "}\n",
    "\n",
    "for key in candidate_dfs:\n",
    "    print(\"Size of {} set: {}\".format(key, candidate_dfs[key].shape[0]))"
   ]
  },
  {
   "cell_type": "code",
   "execution_count": 8,
   "metadata": {
    "ExecuteTime": {
     "end_time": "2020-01-06T16:15:13.840585Z",
     "start_time": "2020-01-06T16:15:13.807710Z"
    }
   },
   "outputs": [
    {
     "data": {
      "text/html": [
       "<div>\n",
       "<style scoped>\n",
       "    .dataframe tbody tr th:only-of-type {\n",
       "        vertical-align: middle;\n",
       "    }\n",
       "\n",
       "    .dataframe tbody tr th {\n",
       "        vertical-align: top;\n",
       "    }\n",
       "\n",
       "    .dataframe thead th {\n",
       "        text-align: right;\n",
       "    }\n",
       "</style>\n",
       "<table border=\"1\" class=\"dataframe\">\n",
       "  <thead>\n",
       "    <tr style=\"text-align: right;\">\n",
       "      <th></th>\n",
       "      <th>uncal</th>\n",
       "      <th>cal</th>\n",
       "      <th>candidate_id</th>\n",
       "    </tr>\n",
       "  </thead>\n",
       "  <tbody>\n",
       "    <tr>\n",
       "      <th>0</th>\n",
       "      <td>0.112766</td>\n",
       "      <td>0.068898</td>\n",
       "      <td>43397</td>\n",
       "    </tr>\n",
       "    <tr>\n",
       "      <th>1</th>\n",
       "      <td>0.118531</td>\n",
       "      <td>0.073606</td>\n",
       "      <td>44812</td>\n",
       "    </tr>\n",
       "  </tbody>\n",
       "</table>\n",
       "</div>"
      ],
      "text/plain": [
       "      uncal       cal  candidate_id\n",
       "0  0.112766  0.068898         43397\n",
       "1  0.118531  0.073606         44812"
      ]
     },
     "execution_count": 8,
     "metadata": {},
     "output_type": "execute_result"
    }
   ],
   "source": [
    "dev_predictions_df = pd.read_table(\"input/calibrated_tune.tsv\")\n",
    "dev_predictions_df.head(2)"
   ]
  },
  {
   "cell_type": "code",
   "execution_count": 9,
   "metadata": {
    "ExecuteTime": {
     "end_time": "2020-01-06T16:15:13.869000Z",
     "start_time": "2020-01-06T16:15:13.842329Z"
    }
   },
   "outputs": [
    {
     "data": {
      "text/html": [
       "<div>\n",
       "<style scoped>\n",
       "    .dataframe tbody tr th:only-of-type {\n",
       "        vertical-align: middle;\n",
       "    }\n",
       "\n",
       "    .dataframe tbody tr th {\n",
       "        vertical-align: top;\n",
       "    }\n",
       "\n",
       "    .dataframe thead th {\n",
       "        text-align: right;\n",
       "    }\n",
       "</style>\n",
       "<table border=\"1\" class=\"dataframe\">\n",
       "  <thead>\n",
       "    <tr style=\"text-align: right;\">\n",
       "      <th></th>\n",
       "      <th>candidate_id</th>\n",
       "      <th>curated_gig</th>\n",
       "    </tr>\n",
       "  </thead>\n",
       "  <tbody>\n",
       "    <tr>\n",
       "      <th>0</th>\n",
       "      <td>43397</td>\n",
       "      <td>0.0</td>\n",
       "    </tr>\n",
       "    <tr>\n",
       "      <th>1</th>\n",
       "      <td>44812</td>\n",
       "      <td>0.0</td>\n",
       "    </tr>\n",
       "  </tbody>\n",
       "</table>\n",
       "</div>"
      ],
      "text/plain": [
       "   candidate_id  curated_gig\n",
       "0         43397          0.0\n",
       "1         44812          0.0"
      ]
     },
     "execution_count": 9,
     "metadata": {},
     "output_type": "execute_result"
    }
   ],
   "source": [
    "dev_labels = pd.read_csv(\"../disc_model_experiment/input/gig_dev_labels.tsv\", sep=\"\\t\")\n",
    "dev_labels.head(2)"
   ]
  },
  {
   "cell_type": "code",
   "execution_count": 10,
   "metadata": {
    "ExecuteTime": {
     "end_time": "2020-01-06T16:16:14.368976Z",
     "start_time": "2020-01-06T16:15:13.870325Z"
    }
   },
   "outputs": [
    {
     "name": "stderr",
     "output_type": "stream",
     "text": [
      "/home/danich1/.local/lib/python3.6/site-packages/IPython/core/interactiveshell.py:3058: DtypeWarning: Columns (4) have mixed types. Specify dtype option on import or set low_memory=False.\n",
      "  interactivity=interactivity, compiler=compiler, result=result)\n"
     ]
    },
    {
     "data": {
      "text/html": [
       "<div>\n",
       "<style scoped>\n",
       "    .dataframe tbody tr th:only-of-type {\n",
       "        vertical-align: middle;\n",
       "    }\n",
       "\n",
       "    .dataframe tbody tr th {\n",
       "        vertical-align: top;\n",
       "    }\n",
       "\n",
       "    .dataframe thead th {\n",
       "        text-align: right;\n",
       "    }\n",
       "</style>\n",
       "<table border=\"1\" class=\"dataframe\">\n",
       "  <thead>\n",
       "    <tr style=\"text-align: right;\">\n",
       "      <th></th>\n",
       "      <th>gene1_id</th>\n",
       "      <th>gene1_name</th>\n",
       "      <th>gene2_id</th>\n",
       "      <th>gene2_name</th>\n",
       "      <th>sources</th>\n",
       "      <th>n_sentences</th>\n",
       "      <th>hetionet</th>\n",
       "      <th>has_sentence</th>\n",
       "      <th>split</th>\n",
       "      <th>partition_rank</th>\n",
       "      <th>compound_mention_count</th>\n",
       "      <th>disease_mention_count</th>\n",
       "      <th>gene_mention_count</th>\n",
       "      <th>sentence_id</th>\n",
       "      <th>text</th>\n",
       "      <th>sen_length</th>\n",
       "      <th>candidate_id</th>\n",
       "    </tr>\n",
       "  </thead>\n",
       "  <tbody>\n",
       "    <tr>\n",
       "      <th>0</th>\n",
       "      <td>1</td>\n",
       "      <td>A1BG</td>\n",
       "      <td>10321</td>\n",
       "      <td>CRISP3</td>\n",
       "      <td>II_literature|hetio-dag</td>\n",
       "      <td>5</td>\n",
       "      <td>1</td>\n",
       "      <td>1</td>\n",
       "      <td>3</td>\n",
       "      <td>0.436432</td>\n",
       "      <td>0.0</td>\n",
       "      <td>0.0</td>\n",
       "      <td>2</td>\n",
       "      <td>65570963</td>\n",
       "      <td>Human CRISP-3 binds serum alpha(1)B-glycoprote...</td>\n",
       "      <td>11</td>\n",
       "      <td>20992573</td>\n",
       "    </tr>\n",
       "    <tr>\n",
       "      <th>1</th>\n",
       "      <td>1</td>\n",
       "      <td>A1BG</td>\n",
       "      <td>10321</td>\n",
       "      <td>CRISP3</td>\n",
       "      <td>II_literature|hetio-dag</td>\n",
       "      <td>5</td>\n",
       "      <td>1</td>\n",
       "      <td>1</td>\n",
       "      <td>3</td>\n",
       "      <td>0.436432</td>\n",
       "      <td>0.0</td>\n",
       "      <td>0.0</td>\n",
       "      <td>3</td>\n",
       "      <td>65570968</td>\n",
       "      <td>BACKGROUND: CRISP-3 was previously shown to be...</td>\n",
       "      <td>21</td>\n",
       "      <td>20930188</td>\n",
       "    </tr>\n",
       "  </tbody>\n",
       "</table>\n",
       "</div>"
      ],
      "text/plain": [
       "   gene1_id gene1_name  gene2_id gene2_name                  sources  \\\n",
       "0         1       A1BG     10321     CRISP3  II_literature|hetio-dag   \n",
       "1         1       A1BG     10321     CRISP3  II_literature|hetio-dag   \n",
       "\n",
       "   n_sentences  hetionet  has_sentence  split  partition_rank  \\\n",
       "0            5         1             1      3        0.436432   \n",
       "1            5         1             1      3        0.436432   \n",
       "\n",
       "   compound_mention_count  disease_mention_count  gene_mention_count  \\\n",
       "0                     0.0                    0.0                   2   \n",
       "1                     0.0                    0.0                   3   \n",
       "\n",
       "   sentence_id                                               text  sen_length  \\\n",
       "0     65570963  Human CRISP-3 binds serum alpha(1)B-glycoprote...          11   \n",
       "1     65570968  BACKGROUND: CRISP-3 was previously shown to be...          21   \n",
       "\n",
       "   candidate_id  \n",
       "0      20992573  \n",
       "1      20930188  "
      ]
     },
     "execution_count": 10,
     "metadata": {},
     "output_type": "execute_result"
    }
   ],
   "source": [
    "total_candidates_df = pd.read_csv(\"../dataset_statistics/results/all_gig_candidates.tsv.xz\", sep=\"\\t\")\n",
    "total_candidates_df.head(2)"
   ]
  },
  {
   "cell_type": "code",
   "execution_count": 11,
   "metadata": {
    "ExecuteTime": {
     "end_time": "2020-01-06T16:16:19.414952Z",
     "start_time": "2020-01-06T16:16:14.370776Z"
    }
   },
   "outputs": [
    {
     "data": {
      "text/html": [
       "<div>\n",
       "<style scoped>\n",
       "    .dataframe tbody tr th:only-of-type {\n",
       "        vertical-align: middle;\n",
       "    }\n",
       "\n",
       "    .dataframe tbody tr th {\n",
       "        vertical-align: top;\n",
       "    }\n",
       "\n",
       "    .dataframe thead th {\n",
       "        text-align: right;\n",
       "    }\n",
       "</style>\n",
       "<table border=\"1\" class=\"dataframe\">\n",
       "  <thead>\n",
       "    <tr style=\"text-align: right;\">\n",
       "      <th></th>\n",
       "      <th>gene1_name</th>\n",
       "      <th>gene2_name</th>\n",
       "      <th>text</th>\n",
       "      <th>candidate_id</th>\n",
       "      <th>uncal</th>\n",
       "      <th>cal</th>\n",
       "      <th>curated_gig</th>\n",
       "    </tr>\n",
       "  </thead>\n",
       "  <tbody>\n",
       "    <tr>\n",
       "      <th>24</th>\n",
       "      <td>PIK3R1</td>\n",
       "      <td>PTEN</td>\n",
       "      <td>both ~~[[2 pten 2]]~~ ( ~~[[1 pi3k 1]]~~ antag...</td>\n",
       "      <td>20146048</td>\n",
       "      <td>0.005029</td>\n",
       "      <td>0.001262</td>\n",
       "      <td>0.0</td>\n",
       "    </tr>\n",
       "    <tr>\n",
       "      <th>49</th>\n",
       "      <td>IFNG</td>\n",
       "      <td>IL10</td>\n",
       "      <td>results : we found weak mrna expression of int...</td>\n",
       "      <td>5820761</td>\n",
       "      <td>0.005194</td>\n",
       "      <td>0.001314</td>\n",
       "      <td>0.0</td>\n",
       "    </tr>\n",
       "  </tbody>\n",
       "</table>\n",
       "</div>"
      ],
      "text/plain": [
       "   gene1_name gene2_name                                               text  \\\n",
       "24     PIK3R1       PTEN  both ~~[[2 pten 2]]~~ ( ~~[[1 pi3k 1]]~~ antag...   \n",
       "49       IFNG       IL10  results : we found weak mrna expression of int...   \n",
       "\n",
       "    candidate_id     uncal       cal  curated_gig  \n",
       "24      20146048  0.005029  0.001262          0.0  \n",
       "49       5820761  0.005194  0.001314          0.0  "
      ]
     },
     "execution_count": 11,
     "metadata": {},
     "output_type": "execute_result"
    }
   ],
   "source": [
    "confidence_score_df = (\n",
    "    total_candidates_df\n",
    "    [[\"gene1_name\", \"gene2_name\", \"text\", \"candidate_id\"]]\n",
    "    .merge(dev_predictions_df, on=\"candidate_id\")\n",
    "    .merge(dev_labels, on=\"candidate_id\")\n",
    "    .sort_values(\"candidate_id\")\n",
    "    .assign(text=lambda x: tag_sentence(x))\n",
    "    .sort_values(\"cal\")\n",
    ")\n",
    "confidence_score_df.head(2)"
   ]
  },
  {
   "cell_type": "code",
   "execution_count": 12,
   "metadata": {
    "ExecuteTime": {
     "end_time": "2020-01-06T16:16:19.443650Z",
     "start_time": "2020-01-06T16:16:19.416844Z"
    }
   },
   "outputs": [],
   "source": [
    "(\n",
    "    confidence_score_df\n",
    "    .head(10)\n",
    "    .sort_values(\"cal\", ascending=False)\n",
    "    .drop([\"candidate_id\", \"curated_gig\"], axis=1)\n",
    "    .round(3)\n",
    "    .to_csv(\"output/bottom_ten_high_confidence_scores.tsv\", sep=\"\\t\", index=False)\n",
    ")"
   ]
  },
  {
   "cell_type": "code",
   "execution_count": 13,
   "metadata": {
    "ExecuteTime": {
     "end_time": "2020-01-06T16:16:19.473030Z",
     "start_time": "2020-01-06T16:16:19.445109Z"
    }
   },
   "outputs": [],
   "source": [
    "(\n",
    "    confidence_score_df\n",
    "    .tail(10)\n",
    "    .sort_values(\"cal\", ascending=False)\n",
    "    .drop([\"candidate_id\", \"curated_gig\"], axis=1)\n",
    "    .round(3)\n",
    "    .to_csv(\"output/top_ten_high_confidence_scores.tsv\", sep=\"\\t\", index=False)\n",
    ")"
   ]
  },
  {
   "cell_type": "code",
   "execution_count": 14,
   "metadata": {
    "ExecuteTime": {
     "end_time": "2020-01-06T16:16:19.503864Z",
     "start_time": "2020-01-06T16:16:19.474233Z"
    }
   },
   "outputs": [],
   "source": [
    "from sklearn.calibration import calibration_curve\n",
    "cnn_y, cnn_x = calibration_curve(confidence_score_df.curated_gig, confidence_score_df.uncal, n_bins=10)\n",
    "all_cnn_y, all_cnn_x = calibration_curve(confidence_score_df.curated_gig, confidence_score_df.cal, n_bins=10)\n",
    "\n",
    "\n",
    "calibration_df = pd.DataFrame.from_records(\n",
    "    list(map(lambda x: {\"predicted\":x[0], \"actual\": x[1], \"model_calibration\":'before'}, zip(cnn_x, cnn_y)))\n",
    "    + list(map(lambda x: {\"predicted\":x[0], \"actual\": x[1], \"model_calibration\":'after'}, zip(all_cnn_x, all_cnn_y)))\n",
    ")\n",
    "calibration_df.to_csv(\"output/ctd_calibration.tsv\", sep=\"\\t\", index=False)"
   ]
  },
  {
   "cell_type": "code",
   "execution_count": 15,
   "metadata": {
    "ExecuteTime": {
     "end_time": "2020-01-06T16:16:20.016537Z",
     "start_time": "2020-01-06T16:16:19.505285Z"
    }
   },
   "outputs": [
    {
     "data": {
      "image/png": "[encoded data removed]",
      "text/plain": [
       "<Figure size 640x480 with 1 Axes>"
      ]
     },
     "metadata": {},
     "output_type": "display_data"
    },
    {
     "data": {
      "text/plain": [
       "<ggplot: (8757041799039)>"
      ]
     },
     "execution_count": 15,
     "metadata": {},
     "output_type": "execute_result"
    }
   ],
   "source": [
    "(\n",
    "    p9.ggplot(calibration_df, p9.aes(x=\"predicted\", y=\"actual\", color=\"model_calibration\"))\n",
    "    + p9.geom_point()\n",
    "    + p9.geom_line(p9.aes(group=\"factor(model_calibration)\"))\n",
    "    + p9.geom_abline(intercept=0, slope=1, linetype='dashed')\n",
    "    + p9.scale_y_continuous(limits=[0,1])\n",
    "    + p9.scale_x_continuous(limits=[0,1])\n",
    "    + p9.theme_bw()\n",
    ")"
   ]
  }
 ],
 "metadata": {
  "kernelspec": {
   "display_name": "Python [conda env:snorkel_db]",
   "language": "python",
   "name": "conda-env-snorkel_db-py"
  },
  "language_info": {
   "codemirror_mode": {
    "name": "ipython",
    "version": 3
   },
   "file_extension": ".py",
   "mimetype": "text/x-python",
   "name": "python",
   "nbconvert_exporter": "python",
   "pygments_lexer": "ipython3",
   "version": "3.6.0"
  },
  "toc": {
   "base_numbering": 1,
   "nav_menu": {},
   "number_sections": true,
   "sideBar": true,
   "skip_h1_title": false,
   "title_cell": "Table of Contents",
   "title_sidebar": "Contents",
   "toc_cell": false,
   "toc_position": {},
   "toc_section_display": true,
   "toc_window_display": false
  },
  "varInspector": {
   "cols": {
    "lenName": 16,
    "lenType": 16,
    "lenVar": 40
   },
   "kernels_config": {
    "python": {
     "delete_cmd_postfix": "",
     "delete_cmd_prefix": "del ",
     "library": "var_list.py",
     "varRefreshCmd": "print(var_dic_list())"
    },
    "r": {
     "delete_cmd_postfix": ") ",
     "delete_cmd_prefix": "rm(",
     "library": "var_list.r",
     "varRefreshCmd": "cat(var_dic_list()) "
    }
   },
   "types_to_exclude": [
    "module",
    "function",
    "builtin_function_or_method",
    "instance",
    "_Feature"
   ],
   "window_display": false
  }
 },
 "nbformat": 4,
 "nbformat_minor": 2
}
