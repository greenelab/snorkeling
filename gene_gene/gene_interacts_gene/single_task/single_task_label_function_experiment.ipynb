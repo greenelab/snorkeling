{
 "cells": [
  {
   "cell_type": "markdown",
   "metadata": {},
   "source": [
    "# Using Labels from Different Relation Types to Predict Gene Interacts Gene Sentences"
   ]
  },
  {
   "cell_type": "markdown",
   "metadata": {},
   "source": [
    "This notebook is designed to predict the gene interacts gene (GiG) relation. The first step in this process is to label our train, dev, and test sentences (split = 3,4,5). We will label these sentences using all of our handcrafted label functions. The working hypothesis here is there are shared information between different relations, which in turn should aid in predicting the gene interacts gene relation. After the labeling process, the next step is to train a generative model that will estimate the likelihood of the positive class ($\\hat{Y}$) given our annotated label matrix. **Note**: This process doesn't involve any sentence context, so the only information used here are categorical output."
   ]
  },
  {
   "cell_type": "markdown",
   "metadata": {},
   "source": [
    "## Set up the environment"
   ]
  },
  {
   "cell_type": "code",
   "execution_count": 1,
   "metadata": {
    "ExecuteTime": {
     "end_time": "2019-05-08T14:37:37.431572Z",
     "start_time": "2019-05-08T14:37:32.579362Z"
    }
   },
   "outputs": [],
   "source": [
    "%load_ext autoreload\n",
    "%autoreload 2\n",
    "%matplotlib inline\n",
    "\n",
    "from collections import defaultdict\n",
    "import os\n",
    "import pickle\n",
    "import sys\n",
    "\n",
    "sys.path.append(os.path.abspath('../../../modules'))\n",
    "\n",
    "# Bayesian Optimization\n",
    "from hyperopt import fmin, hp, tpe, Trials\n",
    "\n",
    "from itertools import chain\n",
    "import matplotlib.pyplot as plt\n",
    "import pandas as pd\n",
    "import seaborn as sns\n",
    "from scipy import sparse\n",
    "from sklearn.metrics import roc_curve, auc, f1_score, precision_recall_curve, accuracy_score\n",
    "from tqdm import tqdm_notebook"
   ]
  },
  {
   "cell_type": "code",
   "execution_count": 2,
   "metadata": {
    "ExecuteTime": {
     "end_time": "2019-05-08T14:37:38.368878Z",
     "start_time": "2019-05-08T14:37:37.433608Z"
    }
   },
   "outputs": [],
   "source": [
    "#Set up the environment\n",
    "username = \"danich1\"\n",
    "password = \"snorkel\"\n",
    "dbname = \"pubmeddb\"\n",
    "\n",
    "#Path subject to change for different os\n",
    "database_str = \"postgresql+psycopg2://{}:{}@/{}?host=/var/run/postgresql\".format(username, password, dbname)\n",
    "os.environ['SNORKELDB'] = database_str\n",
    "\n",
    "from snorkel import SnorkelSession\n",
    "session = SnorkelSession()"
   ]
  },
  {
   "cell_type": "code",
   "execution_count": 3,
   "metadata": {
    "ExecuteTime": {
     "end_time": "2019-05-08T14:42:34.258808Z",
     "start_time": "2019-05-08T14:37:38.370455Z"
    }
   },
   "outputs": [
    {
     "name": "stderr",
     "output_type": "stream",
     "text": [
      "/home/danich1/anaconda2/envs/snorkeling/lib/python3.6/site-packages/IPython/core/interactiveshell.py:2903: DtypeWarning: Columns (3) have mixed types. Specify dtype option on import or set low_memory=False.\n",
      "  if self.run_code(code, result):\n"
     ]
    }
   ],
   "source": [
    "from snorkel.learning.pytorch.rnn.rnn_base import mark_sentence\n",
    "from snorkel.learning.pytorch.rnn.utils import candidate_to_tokens\n",
    "from snorkel.models import Candidate, candidate_subclass\n",
    "\n",
    "from metal.analysis import lf_summary\n",
    "from metal.label_model import LabelModel\n",
    "from metal.utils import plusminus_to_categorical\n",
    "\n",
    "from gensim.models import FastText\n",
    "from gensim.models import KeyedVectors\n",
    "\n",
    "from utils.notebook_utils.label_matrix_helper import label_candidates, get_auc_significant_stats\n",
    "from utils.notebook_utils.dataframe_helper import load_candidate_dataframes, generate_results_df\n",
    "from utils.notebook_utils.plot_helper import plot_curve, plot_label_matrix_heatmap\n",
    "from utils.notebook_utils.train_model_helper import (\n",
    "    train_baseline_model,\n",
    "    run_random_additional_lfs\n",
    ")\n",
    "\n",
    "sys.path.append(os.path.abspath('data/label_functions'))\n",
    "sys.path.append(os.path.abspath('../../../disease_gene/disease_associates_gene/single_task/data/label_functions'))\n",
    "sys.path.append(os.path.abspath('../../../compound_disease/compound_treats_disease/single_task/data/label_functions'))\n",
    "sys.path.append(os.path.abspath('../../../compound_gene/compound_binds_gene/single_task/data/label_functions'))\n",
    "\n",
    "from gene_gene_lf import GG_LFS\n",
    "from disease_gene_lfs import DG_LFS\n",
    "from compound_disease_lf import CD_LFS\n",
    "from compound_gene_lf import CG_LFS"
   ]
  },
  {
   "cell_type": "code",
   "execution_count": 4,
   "metadata": {
    "ExecuteTime": {
     "end_time": "2019-05-08T14:42:34.289569Z",
     "start_time": "2019-05-08T14:42:34.260556Z"
    }
   },
   "outputs": [],
   "source": [
    "GeneGene = candidate_subclass('GeneGene', ['Gene1', 'Gene2'])"
   ]
  },
  {
   "cell_type": "code",
   "execution_count": 5,
   "metadata": {
    "ExecuteTime": {
     "end_time": "2019-05-08T14:42:34.314072Z",
     "start_time": "2019-05-08T14:42:34.291000Z"
    }
   },
   "outputs": [],
   "source": [
    "quick_load = True"
   ]
  },
  {
   "cell_type": "markdown",
   "metadata": {},
   "source": [
    "## Load the Data and Label the  Sentences"
   ]
  },
  {
   "cell_type": "markdown",
   "metadata": {},
   "source": [
    "This block of code is designed to label the sentences using our label functions. All the sentences are located in our postgres database that is store locally on the lab machine. The labeling process is defined as follows: Given a candidate id, we use the sqlalchemy library to extract a candidate object. Using this object and we pass it through a series of label functions that will output a 1 (positive), -1 (negative) or 0 (abstain) depending on the rule set. Lastly we aggregate the output of these functions into a sparse matrix that the generative model will use. Since these steps are pretty linear, we parallelized this process using python's multithreading library. Despite the optimization, this process will take almost 20 hourse for about 2.8 million sentences."
   ]
  },
  {
   "cell_type": "code",
   "execution_count": 6,
   "metadata": {
    "ExecuteTime": {
     "end_time": "2019-05-08T14:43:47.645888Z",
     "start_time": "2019-05-08T14:42:34.315569Z"
    },
    "scrolled": true
   },
   "outputs": [
    {
     "name": "stderr",
     "output_type": "stream",
     "text": [
      "/home/danich1/anaconda2/envs/snorkeling/lib/python3.6/site-packages/IPython/core/interactiveshell.py:2785: DtypeWarning: Columns (4) have mixed types. Specify dtype option on import or set low_memory=False.\n",
      "  interactivity=interactivity, compiler=compiler, result=result)\n"
     ]
    },
    {
     "data": {
      "text/html": [
       "<div>\n",
       "<style scoped>\n",
       "    .dataframe tbody tr th:only-of-type {\n",
       "        vertical-align: middle;\n",
       "    }\n",
       "\n",
       "    .dataframe tbody tr th {\n",
       "        vertical-align: top;\n",
       "    }\n",
       "\n",
       "    .dataframe thead th {\n",
       "        text-align: right;\n",
       "    }\n",
       "</style>\n",
       "<table border=\"1\" class=\"dataframe\">\n",
       "  <thead>\n",
       "    <tr style=\"text-align: right;\">\n",
       "      <th></th>\n",
       "      <th>gene1_id</th>\n",
       "      <th>gene1_name</th>\n",
       "      <th>gene2_id</th>\n",
       "      <th>gene2_name</th>\n",
       "      <th>sources</th>\n",
       "      <th>n_sentences</th>\n",
       "      <th>hetionet</th>\n",
       "      <th>has_sentence</th>\n",
       "      <th>split</th>\n",
       "      <th>partition_rank</th>\n",
       "      <th>compound_mention_count</th>\n",
       "      <th>disease_mention_count</th>\n",
       "      <th>gene_mention_count</th>\n",
       "      <th>sentence_id</th>\n",
       "      <th>text</th>\n",
       "      <th>sen_length</th>\n",
       "      <th>candidate_id</th>\n",
       "    </tr>\n",
       "  </thead>\n",
       "  <tbody>\n",
       "    <tr>\n",
       "      <th>0</th>\n",
       "      <td>1</td>\n",
       "      <td>A1BG</td>\n",
       "      <td>10321</td>\n",
       "      <td>CRISP3</td>\n",
       "      <td>II_literature|hetio-dag</td>\n",
       "      <td>5</td>\n",
       "      <td>1</td>\n",
       "      <td>1</td>\n",
       "      <td>3</td>\n",
       "      <td>0.436432</td>\n",
       "      <td>0.0</td>\n",
       "      <td>0.0</td>\n",
       "      <td>2</td>\n",
       "      <td>65570963</td>\n",
       "      <td>Human CRISP-3 binds serum alpha(1)B-glycoprote...</td>\n",
       "      <td>11</td>\n",
       "      <td>20992573</td>\n",
       "    </tr>\n",
       "    <tr>\n",
       "      <th>1</th>\n",
       "      <td>1</td>\n",
       "      <td>A1BG</td>\n",
       "      <td>10321</td>\n",
       "      <td>CRISP3</td>\n",
       "      <td>II_literature|hetio-dag</td>\n",
       "      <td>5</td>\n",
       "      <td>1</td>\n",
       "      <td>1</td>\n",
       "      <td>3</td>\n",
       "      <td>0.436432</td>\n",
       "      <td>0.0</td>\n",
       "      <td>0.0</td>\n",
       "      <td>3</td>\n",
       "      <td>65570968</td>\n",
       "      <td>BACKGROUND: CRISP-3 was previously shown to be...</td>\n",
       "      <td>21</td>\n",
       "      <td>20930188</td>\n",
       "    </tr>\n",
       "  </tbody>\n",
       "</table>\n",
       "</div>"
      ],
      "text/plain": [
       "   gene1_id gene1_name  gene2_id gene2_name                  sources  \\\n",
       "0         1       A1BG     10321     CRISP3  II_literature|hetio-dag   \n",
       "1         1       A1BG     10321     CRISP3  II_literature|hetio-dag   \n",
       "\n",
       "   n_sentences  hetionet  has_sentence  split  partition_rank  \\\n",
       "0            5         1             1      3        0.436432   \n",
       "1            5         1             1      3        0.436432   \n",
       "\n",
       "   compound_mention_count  disease_mention_count  gene_mention_count  \\\n",
       "0                     0.0                    0.0                   2   \n",
       "1                     0.0                    0.0                   3   \n",
       "\n",
       "   sentence_id                                               text  sen_length  \\\n",
       "0     65570963  Human CRISP-3 binds serum alpha(1)B-glycoprote...          11   \n",
       "1     65570968  BACKGROUND: CRISP-3 was previously shown to be...          21   \n",
       "\n",
       "   candidate_id  \n",
       "0      20992573  \n",
       "1      20930188  "
      ]
     },
     "execution_count": 6,
     "metadata": {},
     "output_type": "execute_result"
    }
   ],
   "source": [
    "total_candidates_df = pd.read_table(\"../dataset_statistics/data/all_gig_candidates.tsv.xz\")\n",
    "total_candidates_df.head(2)"
   ]
  },
  {
   "cell_type": "code",
   "execution_count": 7,
   "metadata": {
    "ExecuteTime": {
     "end_time": "2019-05-08T14:43:47.672410Z",
     "start_time": "2019-05-08T14:43:47.647569Z"
    }
   },
   "outputs": [],
   "source": [
    "spreadsheet_names = {\n",
    "    #'train': 'data/sentences/sentence_labels_train.xlsx',\n",
    "    'dev': 'data/sentences/sentence_labels_dev.xlsx',\n",
    "    'test': 'data/sentences/sentence_labels_test.xlsx'\n",
    "}"
   ]
  },
  {
   "cell_type": "code",
   "execution_count": 8,
   "metadata": {
    "ExecuteTime": {
     "end_time": "2019-05-08T14:43:53.466207Z",
     "start_time": "2019-05-08T14:43:47.674034Z"
    }
   },
   "outputs": [
    {
     "name": "stdout",
     "output_type": "stream",
     "text": [
      "Size of dev set: 500\n",
      "Size of test set: 500\n"
     ]
    }
   ],
   "source": [
    "candidate_dfs = {\n",
    "    key:load_candidate_dataframes(spreadsheet_names[key], \"curated_gig\")\n",
    "    for key in spreadsheet_names\n",
    "}\n",
    "\n",
    "for key in candidate_dfs:\n",
    "    print(\"Size of {} set: {}\".format(key, candidate_dfs[key].shape[0]))"
   ]
  },
  {
   "cell_type": "code",
   "execution_count": 9,
   "metadata": {
    "ExecuteTime": {
     "end_time": "2019-05-08T14:43:53.498222Z",
     "start_time": "2019-05-08T14:43:53.468950Z"
    }
   },
   "outputs": [],
   "source": [
    "lfs = (\n",
    "    list(GG_LFS[\"GiG\"].values()) +\n",
    "    list(DG_LFS[\"DaG\"].values())[7:37] +\n",
    "    list(CD_LFS[\"CtD\"].values())[3:25] + \n",
    "    list(CG_LFS[\"CbG\"].values())[9:29]  \n",
    "    \n",
    ")\n",
    "lf_names = (\n",
    "    list(GG_LFS[\"GiG\"].keys()) +\n",
    "    list(DG_LFS[\"DaG\"].keys())[7:37] + \n",
    "    list(CD_LFS[\"CtD\"].keys())[3:25] +\n",
    "    list(CG_LFS[\"CbG\"].keys())[9:29]  \n",
    ")"
   ]
  },
  {
   "cell_type": "code",
   "execution_count": 10,
   "metadata": {
    "ExecuteTime": {
     "end_time": "2019-05-08T14:43:53.525668Z",
     "start_time": "2019-05-08T14:43:53.500111Z"
    }
   },
   "outputs": [],
   "source": [
    "if not quick_load:\n",
    "    label_matricies = {\n",
    "        'train':label_candidates(\n",
    "            session, \n",
    "            (\n",
    "                total_candidates_df\n",
    "                .query(\"split==3&gene_mention_count==2\")\n",
    "                .candidate_id\n",
    "                .values\n",
    "                .tolist()\n",
    "            ),\n",
    "            lfs, \n",
    "            lf_names,\n",
    "            num_threads=10,\n",
    "            batch_size=50000,\n",
    "            multitask=False\n",
    "        )\n",
    "    }"
   ]
  },
  {
   "cell_type": "code",
   "execution_count": 11,
   "metadata": {
    "ExecuteTime": {
     "end_time": "2019-05-08T14:43:53.553055Z",
     "start_time": "2019-05-08T14:43:53.527286Z"
    }
   },
   "outputs": [],
   "source": [
    "if not quick_load:\n",
    "    label_matricies.update({\n",
    "        key:label_candidates(\n",
    "            session, \n",
    "            candidate_dfs[key]['candidate_id'].values.tolist(),\n",
    "            lfs, \n",
    "            lf_names,\n",
    "            num_threads=10,\n",
    "            batch_size=50000,\n",
    "            multitask=False\n",
    "        )\n",
    "        for key in candidate_dfs\n",
    "    })"
   ]
  },
  {
   "cell_type": "code",
   "execution_count": 12,
   "metadata": {
    "ExecuteTime": {
     "end_time": "2019-05-08T14:44:07.514095Z",
     "start_time": "2019-05-08T14:43:53.554649Z"
    }
   },
   "outputs": [],
   "source": [
    "# Save the label matricies to a file for future loading/error analysis\n",
    "if not quick_load:\n",
    "    (\n",
    "        label_matricies['train']\n",
    "        .sort_values(\"candidate_id\")\n",
    "        .to_csv(\"data/train_sparse_matrix.tsv.xz\", sep=\"\\t\", index=False)\n",
    "    )\n",
    "    (\n",
    "        label_matricies['dev']\n",
    "        .sort_values(\"candidate_id\")\n",
    "        .to_csv(\"data/dev_sparse_matrix.tsv.xz\", sep=\"\\t\", index=False)\n",
    "    )\n",
    "    (\n",
    "        label_matricies['test']\n",
    "        .sort_values(\"candidate_id\")\n",
    "        .to_csv(\"data/test_sparse_matrix.tsv.xz\", sep=\"\\t\", index=False)\n",
    "    )\n",
    "# Quick load the label matricies\n",
    "else:\n",
    "    label_destinations = {\n",
    "        'train':\"data/train_sparse_matrix.tsv.xz\",\n",
    "        'dev':\"data/dev_sparse_matrix.tsv.xz\",\n",
    "        'test':\"data/test_sparse_matrix.tsv.xz\"\n",
    "    }\n",
    "    label_matricies = {\n",
    "        key:pd.read_table(label_destinations[key]).to_sparse()\n",
    "        for key in label_destinations\n",
    "    }"
   ]
  },
  {
   "cell_type": "code",
   "execution_count": 13,
   "metadata": {
    "ExecuteTime": {
     "end_time": "2019-05-08T14:44:27.486686Z",
     "start_time": "2019-05-08T14:44:07.515535Z"
    },
    "scrolled": true
   },
   "outputs": [],
   "source": [
    "# Important Note Snorkel Metal uses a different coding scheme\n",
    "# than the label functions output. (2 for negative instead of -1).\n",
    "# This step corrects this problem by converting -1s to 2\n",
    "\n",
    "correct_L = plusminus_to_categorical(\n",
    "    label_matricies['train']\n",
    "    .sort_values(\"candidate_id\")\n",
    "    .drop(\"candidate_id\", axis=1)\n",
    "    .to_coo()\n",
    "    .toarray()\n",
    "    .astype(int)\n",
    ")\n",
    "\n",
    "correct_L_dev = plusminus_to_categorical(\n",
    "    label_matricies['dev']\n",
    "    .sort_values(\"candidate_id\")\n",
    "    .drop(\"candidate_id\", axis=1)\n",
    "    .to_coo()\n",
    "    .toarray()\n",
    "    .astype(int)\n",
    ")\n",
    "\n",
    "correct_L_test = plusminus_to_categorical(\n",
    "    label_matricies['test']\n",
    "    .sort_values(\"candidate_id\")\n",
    "    .drop(\"candidate_id\", axis=1)\n",
    "    .to_coo()\n",
    "    .toarray()\n",
    "    .astype(int)\n",
    ")"
   ]
  },
  {
   "cell_type": "code",
   "execution_count": 14,
   "metadata": {
    "ExecuteTime": {
     "end_time": "2019-05-08T14:44:52.907180Z",
     "start_time": "2019-05-08T14:44:27.488253Z"
    }
   },
   "outputs": [
    {
     "data": {
      "text/html": [
       "<div>\n",
       "<style scoped>\n",
       "    .dataframe tbody tr th:only-of-type {\n",
       "        vertical-align: middle;\n",
       "    }\n",
       "\n",
       "    .dataframe tbody tr th {\n",
       "        vertical-align: top;\n",
       "    }\n",
       "\n",
       "    .dataframe thead th {\n",
       "        text-align: right;\n",
       "    }\n",
       "</style>\n",
       "<table border=\"1\" class=\"dataframe\">\n",
       "  <thead>\n",
       "    <tr style=\"text-align: right;\">\n",
       "      <th></th>\n",
       "      <th>j</th>\n",
       "      <th>Polarity</th>\n",
       "      <th>Coverage</th>\n",
       "      <th>Overlaps</th>\n",
       "      <th>Conflicts</th>\n",
       "    </tr>\n",
       "  </thead>\n",
       "  <tbody>\n",
       "    <tr>\n",
       "      <th>LF_HETNET_HI_I_05</th>\n",
       "      <td>0</td>\n",
       "      <td>1</td>\n",
       "      <td>0.004701</td>\n",
       "      <td>0.004701</td>\n",
       "      <td>0.004700</td>\n",
       "    </tr>\n",
       "    <tr>\n",
       "      <th>LF_HETNET_VENKATESAN_09</th>\n",
       "      <td>1</td>\n",
       "      <td>1</td>\n",
       "      <td>0.000104</td>\n",
       "      <td>0.000104</td>\n",
       "      <td>0.000104</td>\n",
       "    </tr>\n",
       "    <tr>\n",
       "      <th>LF_HETNET_YU_11</th>\n",
       "      <td>2</td>\n",
       "      <td>1</td>\n",
       "      <td>0.000847</td>\n",
       "      <td>0.000847</td>\n",
       "      <td>0.000847</td>\n",
       "    </tr>\n",
       "    <tr>\n",
       "      <th>LF_HETNET_HI_II_14</th>\n",
       "      <td>3</td>\n",
       "      <td>1</td>\n",
       "      <td>0.013369</td>\n",
       "      <td>0.013369</td>\n",
       "      <td>0.013368</td>\n",
       "    </tr>\n",
       "    <tr>\n",
       "      <th>LF_HETNET_LIT_BM_13</th>\n",
       "      <td>4</td>\n",
       "      <td>1</td>\n",
       "      <td>0.195569</td>\n",
       "      <td>0.195569</td>\n",
       "      <td>0.195541</td>\n",
       "    </tr>\n",
       "    <tr>\n",
       "      <th>LF_HETNET_II_BINARY</th>\n",
       "      <td>5</td>\n",
       "      <td>[]</td>\n",
       "      <td>0.000000</td>\n",
       "      <td>0.000000</td>\n",
       "      <td>0.000000</td>\n",
       "    </tr>\n",
       "    <tr>\n",
       "      <th>LF_HETNET_II_LITERATURE</th>\n",
       "      <td>6</td>\n",
       "      <td>[]</td>\n",
       "      <td>0.000000</td>\n",
       "      <td>0.000000</td>\n",
       "      <td>0.000000</td>\n",
       "    </tr>\n",
       "    <tr>\n",
       "      <th>LF_HETNET_HETIO_DAG</th>\n",
       "      <td>7</td>\n",
       "      <td>1</td>\n",
       "      <td>0.107414</td>\n",
       "      <td>0.107414</td>\n",
       "      <td>0.107401</td>\n",
       "    </tr>\n",
       "    <tr>\n",
       "      <th>LF_HETNET_GiG_ABSENT</th>\n",
       "      <td>8</td>\n",
       "      <td>2</td>\n",
       "      <td>0.741340</td>\n",
       "      <td>0.741340</td>\n",
       "      <td>0.678971</td>\n",
       "    </tr>\n",
       "    <tr>\n",
       "      <th>LF_GiG_BINDING_IDENTIFICATIONS</th>\n",
       "      <td>9</td>\n",
       "      <td>1</td>\n",
       "      <td>0.053853</td>\n",
       "      <td>0.053853</td>\n",
       "      <td>0.053836</td>\n",
       "    </tr>\n",
       "    <tr>\n",
       "      <th>LF_GiG_CELL_IDENTIFICATIONS</th>\n",
       "      <td>10</td>\n",
       "      <td>2</td>\n",
       "      <td>0.394562</td>\n",
       "      <td>0.394562</td>\n",
       "      <td>0.368348</td>\n",
       "    </tr>\n",
       "    <tr>\n",
       "      <th>LF_GiG_COMPOUND_IDENTIFICATIONS</th>\n",
       "      <td>11</td>\n",
       "      <td>2</td>\n",
       "      <td>0.015190</td>\n",
       "      <td>0.015190</td>\n",
       "      <td>0.014983</td>\n",
       "    </tr>\n",
       "    <tr>\n",
       "      <th>LF_GiG_UPREGULATES</th>\n",
       "      <td>12</td>\n",
       "      <td>2</td>\n",
       "      <td>0.012390</td>\n",
       "      <td>0.012390</td>\n",
       "      <td>0.012274</td>\n",
       "    </tr>\n",
       "    <tr>\n",
       "      <th>LF_GiG_DOWNREGULATES</th>\n",
       "      <td>13</td>\n",
       "      <td>2</td>\n",
       "      <td>0.009711</td>\n",
       "      <td>0.009711</td>\n",
       "      <td>0.009600</td>\n",
       "    </tr>\n",
       "    <tr>\n",
       "      <th>LF_GiG_REGULATION</th>\n",
       "      <td>14</td>\n",
       "      <td>2</td>\n",
       "      <td>0.024264</td>\n",
       "      <td>0.024264</td>\n",
       "      <td>0.024024</td>\n",
       "    </tr>\n",
       "    <tr>\n",
       "      <th>LF_GiG_ASSOCIATION</th>\n",
       "      <td>15</td>\n",
       "      <td>2</td>\n",
       "      <td>0.018389</td>\n",
       "      <td>0.018389</td>\n",
       "      <td>0.018273</td>\n",
       "    </tr>\n",
       "    <tr>\n",
       "      <th>LF_GiG_BOUND_IDENTIFIERS</th>\n",
       "      <td>16</td>\n",
       "      <td>1</td>\n",
       "      <td>0.073223</td>\n",
       "      <td>0.073223</td>\n",
       "      <td>0.073213</td>\n",
       "    </tr>\n",
       "    <tr>\n",
       "      <th>LF_GiG_GENE_IDENTIFIERS</th>\n",
       "      <td>17</td>\n",
       "      <td>1</td>\n",
       "      <td>0.124285</td>\n",
       "      <td>0.124285</td>\n",
       "      <td>0.124273</td>\n",
       "    </tr>\n",
       "    <tr>\n",
       "      <th>LF_GiG_GENE_ADJECTIVE</th>\n",
       "      <td>18</td>\n",
       "      <td>2</td>\n",
       "      <td>0.009042</td>\n",
       "      <td>0.009042</td>\n",
       "      <td>0.008821</td>\n",
       "    </tr>\n",
       "    <tr>\n",
       "      <th>LF_GiG_DIAGNOSIS_IDENTIFIERS</th>\n",
       "      <td>19</td>\n",
       "      <td>2</td>\n",
       "      <td>0.000489</td>\n",
       "      <td>0.000489</td>\n",
       "      <td>0.000489</td>\n",
       "    </tr>\n",
       "    <tr>\n",
       "      <th>LF_GiG_METHOD_DESC</th>\n",
       "      <td>20</td>\n",
       "      <td>2</td>\n",
       "      <td>0.016240</td>\n",
       "      <td>0.016240</td>\n",
       "      <td>0.015125</td>\n",
       "    </tr>\n",
       "    <tr>\n",
       "      <th>LF_GiG_PARENTHESIS</th>\n",
       "      <td>21</td>\n",
       "      <td>2</td>\n",
       "      <td>0.175252</td>\n",
       "      <td>0.175252</td>\n",
       "      <td>0.150485</td>\n",
       "    </tr>\n",
       "    <tr>\n",
       "      <th>LF_GG_IN_SERIES</th>\n",
       "      <td>22</td>\n",
       "      <td>2</td>\n",
       "      <td>0.110949</td>\n",
       "      <td>0.110949</td>\n",
       "      <td>0.104086</td>\n",
       "    </tr>\n",
       "    <tr>\n",
       "      <th>LF_GiG_NO_CONCLUSION</th>\n",
       "      <td>23</td>\n",
       "      <td>2</td>\n",
       "      <td>0.869877</td>\n",
       "      <td>0.869877</td>\n",
       "      <td>0.807575</td>\n",
       "    </tr>\n",
       "    <tr>\n",
       "      <th>LF_GiG_CONCLUSION</th>\n",
       "      <td>24</td>\n",
       "      <td>[1, 2]</td>\n",
       "      <td>0.130123</td>\n",
       "      <td>0.130123</td>\n",
       "      <td>0.130021</td>\n",
       "    </tr>\n",
       "    <tr>\n",
       "      <th>LF_GG_DISTANCE_SHORT</th>\n",
       "      <td>25</td>\n",
       "      <td>2</td>\n",
       "      <td>0.359408</td>\n",
       "      <td>0.359408</td>\n",
       "      <td>0.297455</td>\n",
       "    </tr>\n",
       "    <tr>\n",
       "      <th>LF_GG_DISTANCE_LONG</th>\n",
       "      <td>26</td>\n",
       "      <td>2</td>\n",
       "      <td>0.039565</td>\n",
       "      <td>0.039565</td>\n",
       "      <td>0.039150</td>\n",
       "    </tr>\n",
       "    <tr>\n",
       "      <th>LF_GG_ALLOWED_DISTANCE</th>\n",
       "      <td>27</td>\n",
       "      <td>1</td>\n",
       "      <td>0.601027</td>\n",
       "      <td>0.601027</td>\n",
       "      <td>0.600991</td>\n",
       "    </tr>\n",
       "    <tr>\n",
       "      <th>LF_GG_NO_VERB</th>\n",
       "      <td>28</td>\n",
       "      <td>2</td>\n",
       "      <td>0.045944</td>\n",
       "      <td>0.045944</td>\n",
       "      <td>0.042103</td>\n",
       "    </tr>\n",
       "    <tr>\n",
       "      <th>LF_GG_BICLUSTER_BINDING</th>\n",
       "      <td>29</td>\n",
       "      <td>1</td>\n",
       "      <td>0.098012</td>\n",
       "      <td>0.098012</td>\n",
       "      <td>0.098012</td>\n",
       "    </tr>\n",
       "    <tr>\n",
       "      <th>...</th>\n",
       "      <td>...</td>\n",
       "      <td>...</td>\n",
       "      <td>...</td>\n",
       "      <td>...</td>\n",
       "      <td>...</td>\n",
       "    </tr>\n",
       "    <tr>\n",
       "      <th>LF_CD_DISTANCE_LONG</th>\n",
       "      <td>79</td>\n",
       "      <td>2</td>\n",
       "      <td>0.039565</td>\n",
       "      <td>0.039565</td>\n",
       "      <td>0.039150</td>\n",
       "    </tr>\n",
       "    <tr>\n",
       "      <th>LF_CD_ALLOWED_DISTANCE</th>\n",
       "      <td>80</td>\n",
       "      <td>1</td>\n",
       "      <td>0.541899</td>\n",
       "      <td>0.541899</td>\n",
       "      <td>0.541863</td>\n",
       "    </tr>\n",
       "    <tr>\n",
       "      <th>LF_CD_NO_VERB</th>\n",
       "      <td>81</td>\n",
       "      <td>2</td>\n",
       "      <td>0.044014</td>\n",
       "      <td>0.044014</td>\n",
       "      <td>0.040483</td>\n",
       "    </tr>\n",
       "    <tr>\n",
       "      <th>LF_CD_BICLUSTER_TREATMENT</th>\n",
       "      <td>82</td>\n",
       "      <td>1</td>\n",
       "      <td>0.012848</td>\n",
       "      <td>0.012848</td>\n",
       "      <td>0.012848</td>\n",
       "    </tr>\n",
       "    <tr>\n",
       "      <th>LF_CD_BICLUSTER_INHIBITS</th>\n",
       "      <td>83</td>\n",
       "      <td>1</td>\n",
       "      <td>0.011559</td>\n",
       "      <td>0.011559</td>\n",
       "      <td>0.011559</td>\n",
       "    </tr>\n",
       "    <tr>\n",
       "      <th>LF_CD_BICLUSTER_SIDE_EFFECT</th>\n",
       "      <td>84</td>\n",
       "      <td>2</td>\n",
       "      <td>0.011101</td>\n",
       "      <td>0.011101</td>\n",
       "      <td>0.011082</td>\n",
       "    </tr>\n",
       "    <tr>\n",
       "      <th>LF_CD_BICLUSTER_PREVENTS</th>\n",
       "      <td>85</td>\n",
       "      <td>1</td>\n",
       "      <td>0.011398</td>\n",
       "      <td>0.011398</td>\n",
       "      <td>0.011398</td>\n",
       "    </tr>\n",
       "    <tr>\n",
       "      <th>LF_CD_BICLUSTER_ALLEVIATES</th>\n",
       "      <td>86</td>\n",
       "      <td>2</td>\n",
       "      <td>0.010110</td>\n",
       "      <td>0.010110</td>\n",
       "      <td>0.010097</td>\n",
       "    </tr>\n",
       "    <tr>\n",
       "      <th>LF_CD_BICLUSTER_DISEASE_ROLE</th>\n",
       "      <td>87</td>\n",
       "      <td>1</td>\n",
       "      <td>0.011135</td>\n",
       "      <td>0.011135</td>\n",
       "      <td>0.011135</td>\n",
       "    </tr>\n",
       "    <tr>\n",
       "      <th>LF_CD_BICLUSTER_BIOMARKERS</th>\n",
       "      <td>88</td>\n",
       "      <td>1</td>\n",
       "      <td>0.008432</td>\n",
       "      <td>0.008432</td>\n",
       "      <td>0.008432</td>\n",
       "    </tr>\n",
       "    <tr>\n",
       "      <th>LF_CG_BINDING</th>\n",
       "      <td>89</td>\n",
       "      <td>1</td>\n",
       "      <td>0.048624</td>\n",
       "      <td>0.048624</td>\n",
       "      <td>0.048607</td>\n",
       "    </tr>\n",
       "    <tr>\n",
       "      <th>LF_CG_WEAK_BINDING</th>\n",
       "      <td>90</td>\n",
       "      <td>1</td>\n",
       "      <td>0.005102</td>\n",
       "      <td>0.005102</td>\n",
       "      <td>0.005101</td>\n",
       "    </tr>\n",
       "    <tr>\n",
       "      <th>LF_CG_GENE_RECEIVERS</th>\n",
       "      <td>91</td>\n",
       "      <td>1</td>\n",
       "      <td>0.086348</td>\n",
       "      <td>0.086348</td>\n",
       "      <td>0.086331</td>\n",
       "    </tr>\n",
       "    <tr>\n",
       "      <th>LF_CG_ASE_SUFFIX</th>\n",
       "      <td>92</td>\n",
       "      <td>1</td>\n",
       "      <td>0.033861</td>\n",
       "      <td>0.033861</td>\n",
       "      <td>0.033860</td>\n",
       "    </tr>\n",
       "    <tr>\n",
       "      <th>LF_CG_IN_SERIES</th>\n",
       "      <td>93</td>\n",
       "      <td>2</td>\n",
       "      <td>0.110949</td>\n",
       "      <td>0.110949</td>\n",
       "      <td>0.104086</td>\n",
       "    </tr>\n",
       "    <tr>\n",
       "      <th>LF_CG_ANTIBODY</th>\n",
       "      <td>94</td>\n",
       "      <td>1</td>\n",
       "      <td>0.006028</td>\n",
       "      <td>0.006028</td>\n",
       "      <td>0.006027</td>\n",
       "    </tr>\n",
       "    <tr>\n",
       "      <th>LF_CG_METHOD_DESC</th>\n",
       "      <td>95</td>\n",
       "      <td>2</td>\n",
       "      <td>0.102351</td>\n",
       "      <td>0.102351</td>\n",
       "      <td>0.095758</td>\n",
       "    </tr>\n",
       "    <tr>\n",
       "      <th>LF_CG_NO_CONCLUSION</th>\n",
       "      <td>96</td>\n",
       "      <td>2</td>\n",
       "      <td>0.809485</td>\n",
       "      <td>0.809485</td>\n",
       "      <td>0.747117</td>\n",
       "    </tr>\n",
       "    <tr>\n",
       "      <th>LF_CG_CONCLUSION</th>\n",
       "      <td>97</td>\n",
       "      <td>1</td>\n",
       "      <td>0.190515</td>\n",
       "      <td>0.190515</td>\n",
       "      <td>0.190479</td>\n",
       "    </tr>\n",
       "    <tr>\n",
       "      <th>LF_CG_DISTANCE_SHORT</th>\n",
       "      <td>98</td>\n",
       "      <td>2</td>\n",
       "      <td>0.418536</td>\n",
       "      <td>0.418536</td>\n",
       "      <td>0.356583</td>\n",
       "    </tr>\n",
       "    <tr>\n",
       "      <th>LF_CG_DISTANCE_LONG</th>\n",
       "      <td>99</td>\n",
       "      <td>2</td>\n",
       "      <td>0.039565</td>\n",
       "      <td>0.039565</td>\n",
       "      <td>0.039150</td>\n",
       "    </tr>\n",
       "    <tr>\n",
       "      <th>LF_CG_ALLOWED_DISTANCE</th>\n",
       "      <td>100</td>\n",
       "      <td>1</td>\n",
       "      <td>0.352256</td>\n",
       "      <td>0.352256</td>\n",
       "      <td>0.352232</td>\n",
       "    </tr>\n",
       "    <tr>\n",
       "      <th>LF_CG_NO_VERB</th>\n",
       "      <td>101</td>\n",
       "      <td>2</td>\n",
       "      <td>0.044014</td>\n",
       "      <td>0.044014</td>\n",
       "      <td>0.040483</td>\n",
       "    </tr>\n",
       "    <tr>\n",
       "      <th>LF_CG_BICLUSTER_BINDS</th>\n",
       "      <td>102</td>\n",
       "      <td>1</td>\n",
       "      <td>0.031587</td>\n",
       "      <td>0.031587</td>\n",
       "      <td>0.031586</td>\n",
       "    </tr>\n",
       "    <tr>\n",
       "      <th>LF_CG_BICLUSTER_AGONISM</th>\n",
       "      <td>103</td>\n",
       "      <td>1</td>\n",
       "      <td>0.018068</td>\n",
       "      <td>0.018068</td>\n",
       "      <td>0.018067</td>\n",
       "    </tr>\n",
       "    <tr>\n",
       "      <th>LF_CG_BICLUSTER_ANTAGONISM</th>\n",
       "      <td>104</td>\n",
       "      <td>1</td>\n",
       "      <td>0.015022</td>\n",
       "      <td>0.015022</td>\n",
       "      <td>0.015022</td>\n",
       "    </tr>\n",
       "    <tr>\n",
       "      <th>LF_CG_BICLUSTER_INC_EXPRESSION</th>\n",
       "      <td>105</td>\n",
       "      <td>1</td>\n",
       "      <td>0.026702</td>\n",
       "      <td>0.026702</td>\n",
       "      <td>0.026700</td>\n",
       "    </tr>\n",
       "    <tr>\n",
       "      <th>LF_CG_BICLUSTER_DEC_EXPRESSION</th>\n",
       "      <td>106</td>\n",
       "      <td>1</td>\n",
       "      <td>0.030932</td>\n",
       "      <td>0.030932</td>\n",
       "      <td>0.030931</td>\n",
       "    </tr>\n",
       "    <tr>\n",
       "      <th>LF_CG_BICLUSTER_AFF_EXPRESSION</th>\n",
       "      <td>107</td>\n",
       "      <td>1</td>\n",
       "      <td>0.049675</td>\n",
       "      <td>0.049675</td>\n",
       "      <td>0.049673</td>\n",
       "    </tr>\n",
       "    <tr>\n",
       "      <th>LF_CG_BICLUSTER_INHIBITS</th>\n",
       "      <td>108</td>\n",
       "      <td>1</td>\n",
       "      <td>0.025380</td>\n",
       "      <td>0.025380</td>\n",
       "      <td>0.025379</td>\n",
       "    </tr>\n",
       "  </tbody>\n",
       "</table>\n",
       "<p>109 rows × 5 columns</p>\n",
       "</div>"
      ],
      "text/plain": [
       "                                   j Polarity  Coverage  Overlaps  Conflicts\n",
       "LF_HETNET_HI_I_05                  0        1  0.004701  0.004701   0.004700\n",
       "LF_HETNET_VENKATESAN_09            1        1  0.000104  0.000104   0.000104\n",
       "LF_HETNET_YU_11                    2        1  0.000847  0.000847   0.000847\n",
       "LF_HETNET_HI_II_14                 3        1  0.013369  0.013369   0.013368\n",
       "LF_HETNET_LIT_BM_13                4        1  0.195569  0.195569   0.195541\n",
       "LF_HETNET_II_BINARY                5       []  0.000000  0.000000   0.000000\n",
       "LF_HETNET_II_LITERATURE            6       []  0.000000  0.000000   0.000000\n",
       "LF_HETNET_HETIO_DAG                7        1  0.107414  0.107414   0.107401\n",
       "LF_HETNET_GiG_ABSENT               8        2  0.741340  0.741340   0.678971\n",
       "LF_GiG_BINDING_IDENTIFICATIONS     9        1  0.053853  0.053853   0.053836\n",
       "LF_GiG_CELL_IDENTIFICATIONS       10        2  0.394562  0.394562   0.368348\n",
       "LF_GiG_COMPOUND_IDENTIFICATIONS   11        2  0.015190  0.015190   0.014983\n",
       "LF_GiG_UPREGULATES                12        2  0.012390  0.012390   0.012274\n",
       "LF_GiG_DOWNREGULATES              13        2  0.009711  0.009711   0.009600\n",
       "LF_GiG_REGULATION                 14        2  0.024264  0.024264   0.024024\n",
       "LF_GiG_ASSOCIATION                15        2  0.018389  0.018389   0.018273\n",
       "LF_GiG_BOUND_IDENTIFIERS          16        1  0.073223  0.073223   0.073213\n",
       "LF_GiG_GENE_IDENTIFIERS           17        1  0.124285  0.124285   0.124273\n",
       "LF_GiG_GENE_ADJECTIVE             18        2  0.009042  0.009042   0.008821\n",
       "LF_GiG_DIAGNOSIS_IDENTIFIERS      19        2  0.000489  0.000489   0.000489\n",
       "LF_GiG_METHOD_DESC                20        2  0.016240  0.016240   0.015125\n",
       "LF_GiG_PARENTHESIS                21        2  0.175252  0.175252   0.150485\n",
       "LF_GG_IN_SERIES                   22        2  0.110949  0.110949   0.104086\n",
       "LF_GiG_NO_CONCLUSION              23        2  0.869877  0.869877   0.807575\n",
       "LF_GiG_CONCLUSION                 24   [1, 2]  0.130123  0.130123   0.130021\n",
       "LF_GG_DISTANCE_SHORT              25        2  0.359408  0.359408   0.297455\n",
       "LF_GG_DISTANCE_LONG               26        2  0.039565  0.039565   0.039150\n",
       "LF_GG_ALLOWED_DISTANCE            27        1  0.601027  0.601027   0.600991\n",
       "LF_GG_NO_VERB                     28        2  0.045944  0.045944   0.042103\n",
       "LF_GG_BICLUSTER_BINDING           29        1  0.098012  0.098012   0.098012\n",
       "...                              ...      ...       ...       ...        ...\n",
       "LF_CD_DISTANCE_LONG               79        2  0.039565  0.039565   0.039150\n",
       "LF_CD_ALLOWED_DISTANCE            80        1  0.541899  0.541899   0.541863\n",
       "LF_CD_NO_VERB                     81        2  0.044014  0.044014   0.040483\n",
       "LF_CD_BICLUSTER_TREATMENT         82        1  0.012848  0.012848   0.012848\n",
       "LF_CD_BICLUSTER_INHIBITS          83        1  0.011559  0.011559   0.011559\n",
       "LF_CD_BICLUSTER_SIDE_EFFECT       84        2  0.011101  0.011101   0.011082\n",
       "LF_CD_BICLUSTER_PREVENTS          85        1  0.011398  0.011398   0.011398\n",
       "LF_CD_BICLUSTER_ALLEVIATES        86        2  0.010110  0.010110   0.010097\n",
       "LF_CD_BICLUSTER_DISEASE_ROLE      87        1  0.011135  0.011135   0.011135\n",
       "LF_CD_BICLUSTER_BIOMARKERS        88        1  0.008432  0.008432   0.008432\n",
       "LF_CG_BINDING                     89        1  0.048624  0.048624   0.048607\n",
       "LF_CG_WEAK_BINDING                90        1  0.005102  0.005102   0.005101\n",
       "LF_CG_GENE_RECEIVERS              91        1  0.086348  0.086348   0.086331\n",
       "LF_CG_ASE_SUFFIX                  92        1  0.033861  0.033861   0.033860\n",
       "LF_CG_IN_SERIES                   93        2  0.110949  0.110949   0.104086\n",
       "LF_CG_ANTIBODY                    94        1  0.006028  0.006028   0.006027\n",
       "LF_CG_METHOD_DESC                 95        2  0.102351  0.102351   0.095758\n",
       "LF_CG_NO_CONCLUSION               96        2  0.809485  0.809485   0.747117\n",
       "LF_CG_CONCLUSION                  97        1  0.190515  0.190515   0.190479\n",
       "LF_CG_DISTANCE_SHORT              98        2  0.418536  0.418536   0.356583\n",
       "LF_CG_DISTANCE_LONG               99        2  0.039565  0.039565   0.039150\n",
       "LF_CG_ALLOWED_DISTANCE           100        1  0.352256  0.352256   0.352232\n",
       "LF_CG_NO_VERB                    101        2  0.044014  0.044014   0.040483\n",
       "LF_CG_BICLUSTER_BINDS            102        1  0.031587  0.031587   0.031586\n",
       "LF_CG_BICLUSTER_AGONISM          103        1  0.018068  0.018068   0.018067\n",
       "LF_CG_BICLUSTER_ANTAGONISM       104        1  0.015022  0.015022   0.015022\n",
       "LF_CG_BICLUSTER_INC_EXPRESSION   105        1  0.026702  0.026702   0.026700\n",
       "LF_CG_BICLUSTER_DEC_EXPRESSION   106        1  0.030932  0.030932   0.030931\n",
       "LF_CG_BICLUSTER_AFF_EXPRESSION   107        1  0.049675  0.049675   0.049673\n",
       "LF_CG_BICLUSTER_INHIBITS         108        1  0.025380  0.025380   0.025379\n",
       "\n",
       "[109 rows x 5 columns]"
      ]
     },
     "execution_count": 14,
     "metadata": {},
     "output_type": "execute_result"
    }
   ],
   "source": [
    "lf_summary(\n",
    "    sparse.coo_matrix(\n",
    "        correct_L\n",
    "    )\n",
    "    .tocsr(), \n",
    "    lf_names=lf_names\n",
    ")"
   ]
  },
  {
   "cell_type": "code",
   "execution_count": 15,
   "metadata": {
    "ExecuteTime": {
     "end_time": "2019-05-08T14:44:53.030205Z",
     "start_time": "2019-05-08T14:44:52.908499Z"
    },
    "scrolled": false
   },
   "outputs": [
    {
     "name": "stderr",
     "output_type": "stream",
     "text": [
      "/home/danich1/Documents/metal/metal/analysis.py:131: RuntimeWarning: invalid value encountered in true_divide\n",
      "  return 0.5 * (X.sum(axis=0) / (L != 0).sum(axis=0) + 1)\n"
     ]
    },
    {
     "data": {
      "text/html": [
       "<div>\n",
       "<style scoped>\n",
       "    .dataframe tbody tr th:only-of-type {\n",
       "        vertical-align: middle;\n",
       "    }\n",
       "\n",
       "    .dataframe tbody tr th {\n",
       "        vertical-align: top;\n",
       "    }\n",
       "\n",
       "    .dataframe thead th {\n",
       "        text-align: right;\n",
       "    }\n",
       "</style>\n",
       "<table border=\"1\" class=\"dataframe\">\n",
       "  <thead>\n",
       "    <tr style=\"text-align: right;\">\n",
       "      <th></th>\n",
       "      <th>j</th>\n",
       "      <th>Polarity</th>\n",
       "      <th>Coverage</th>\n",
       "      <th>Overlaps</th>\n",
       "      <th>Conflicts</th>\n",
       "      <th>Correct</th>\n",
       "      <th>Incorrect</th>\n",
       "      <th>Emp. Acc.</th>\n",
       "    </tr>\n",
       "  </thead>\n",
       "  <tbody>\n",
       "    <tr>\n",
       "      <th>LF_HETNET_HI_I_05</th>\n",
       "      <td>0</td>\n",
       "      <td>1</td>\n",
       "      <td>0.002</td>\n",
       "      <td>0.002</td>\n",
       "      <td>0.002</td>\n",
       "      <td>0</td>\n",
       "      <td>1</td>\n",
       "      <td>0.000000</td>\n",
       "    </tr>\n",
       "    <tr>\n",
       "      <th>LF_HETNET_VENKATESAN_09</th>\n",
       "      <td>1</td>\n",
       "      <td>[]</td>\n",
       "      <td>0.000</td>\n",
       "      <td>0.000</td>\n",
       "      <td>0.000</td>\n",
       "      <td>0</td>\n",
       "      <td>0</td>\n",
       "      <td>NaN</td>\n",
       "    </tr>\n",
       "    <tr>\n",
       "      <th>LF_HETNET_YU_11</th>\n",
       "      <td>2</td>\n",
       "      <td>1</td>\n",
       "      <td>0.002</td>\n",
       "      <td>0.002</td>\n",
       "      <td>0.002</td>\n",
       "      <td>0</td>\n",
       "      <td>1</td>\n",
       "      <td>0.000000</td>\n",
       "    </tr>\n",
       "    <tr>\n",
       "      <th>LF_HETNET_HI_II_14</th>\n",
       "      <td>3</td>\n",
       "      <td>1</td>\n",
       "      <td>0.006</td>\n",
       "      <td>0.006</td>\n",
       "      <td>0.006</td>\n",
       "      <td>0</td>\n",
       "      <td>3</td>\n",
       "      <td>0.000000</td>\n",
       "    </tr>\n",
       "    <tr>\n",
       "      <th>LF_HETNET_LIT_BM_13</th>\n",
       "      <td>4</td>\n",
       "      <td>1</td>\n",
       "      <td>0.138</td>\n",
       "      <td>0.138</td>\n",
       "      <td>0.138</td>\n",
       "      <td>20</td>\n",
       "      <td>49</td>\n",
       "      <td>0.289855</td>\n",
       "    </tr>\n",
       "    <tr>\n",
       "      <th>LF_HETNET_II_BINARY</th>\n",
       "      <td>5</td>\n",
       "      <td>[]</td>\n",
       "      <td>0.000</td>\n",
       "      <td>0.000</td>\n",
       "      <td>0.000</td>\n",
       "      <td>0</td>\n",
       "      <td>0</td>\n",
       "      <td>NaN</td>\n",
       "    </tr>\n",
       "    <tr>\n",
       "      <th>LF_HETNET_II_LITERATURE</th>\n",
       "      <td>6</td>\n",
       "      <td>[]</td>\n",
       "      <td>0.000</td>\n",
       "      <td>0.000</td>\n",
       "      <td>0.000</td>\n",
       "      <td>0</td>\n",
       "      <td>0</td>\n",
       "      <td>NaN</td>\n",
       "    </tr>\n",
       "    <tr>\n",
       "      <th>LF_HETNET_HETIO_DAG</th>\n",
       "      <td>7</td>\n",
       "      <td>1</td>\n",
       "      <td>0.292</td>\n",
       "      <td>0.292</td>\n",
       "      <td>0.292</td>\n",
       "      <td>35</td>\n",
       "      <td>111</td>\n",
       "      <td>0.239726</td>\n",
       "    </tr>\n",
       "    <tr>\n",
       "      <th>LF_HETNET_GiG_ABSENT</th>\n",
       "      <td>8</td>\n",
       "      <td>2</td>\n",
       "      <td>0.706</td>\n",
       "      <td>0.706</td>\n",
       "      <td>0.654</td>\n",
       "      <td>328</td>\n",
       "      <td>25</td>\n",
       "      <td>0.929178</td>\n",
       "    </tr>\n",
       "    <tr>\n",
       "      <th>LF_GiG_BINDING_IDENTIFICATIONS</th>\n",
       "      <td>9</td>\n",
       "      <td>1</td>\n",
       "      <td>0.182</td>\n",
       "      <td>0.182</td>\n",
       "      <td>0.182</td>\n",
       "      <td>42</td>\n",
       "      <td>49</td>\n",
       "      <td>0.461538</td>\n",
       "    </tr>\n",
       "    <tr>\n",
       "      <th>LF_GiG_CELL_IDENTIFICATIONS</th>\n",
       "      <td>10</td>\n",
       "      <td>2</td>\n",
       "      <td>0.484</td>\n",
       "      <td>0.484</td>\n",
       "      <td>0.456</td>\n",
       "      <td>217</td>\n",
       "      <td>25</td>\n",
       "      <td>0.896694</td>\n",
       "    </tr>\n",
       "    <tr>\n",
       "      <th>LF_GiG_COMPOUND_IDENTIFICATIONS</th>\n",
       "      <td>11</td>\n",
       "      <td>2</td>\n",
       "      <td>0.002</td>\n",
       "      <td>0.002</td>\n",
       "      <td>0.002</td>\n",
       "      <td>1</td>\n",
       "      <td>0</td>\n",
       "      <td>1.000000</td>\n",
       "    </tr>\n",
       "    <tr>\n",
       "      <th>LF_GiG_UPREGULATES</th>\n",
       "      <td>12</td>\n",
       "      <td>2</td>\n",
       "      <td>0.012</td>\n",
       "      <td>0.012</td>\n",
       "      <td>0.012</td>\n",
       "      <td>5</td>\n",
       "      <td>1</td>\n",
       "      <td>0.833333</td>\n",
       "    </tr>\n",
       "    <tr>\n",
       "      <th>LF_GiG_DOWNREGULATES</th>\n",
       "      <td>13</td>\n",
       "      <td>2</td>\n",
       "      <td>0.012</td>\n",
       "      <td>0.012</td>\n",
       "      <td>0.012</td>\n",
       "      <td>5</td>\n",
       "      <td>1</td>\n",
       "      <td>0.833333</td>\n",
       "    </tr>\n",
       "    <tr>\n",
       "      <th>LF_GiG_REGULATION</th>\n",
       "      <td>14</td>\n",
       "      <td>2</td>\n",
       "      <td>0.028</td>\n",
       "      <td>0.028</td>\n",
       "      <td>0.028</td>\n",
       "      <td>12</td>\n",
       "      <td>2</td>\n",
       "      <td>0.857143</td>\n",
       "    </tr>\n",
       "    <tr>\n",
       "      <th>LF_GiG_ASSOCIATION</th>\n",
       "      <td>15</td>\n",
       "      <td>2</td>\n",
       "      <td>0.022</td>\n",
       "      <td>0.022</td>\n",
       "      <td>0.022</td>\n",
       "      <td>10</td>\n",
       "      <td>1</td>\n",
       "      <td>0.909091</td>\n",
       "    </tr>\n",
       "    <tr>\n",
       "      <th>LF_GiG_BOUND_IDENTIFIERS</th>\n",
       "      <td>16</td>\n",
       "      <td>1</td>\n",
       "      <td>0.098</td>\n",
       "      <td>0.098</td>\n",
       "      <td>0.098</td>\n",
       "      <td>13</td>\n",
       "      <td>36</td>\n",
       "      <td>0.265306</td>\n",
       "    </tr>\n",
       "    <tr>\n",
       "      <th>LF_GiG_GENE_IDENTIFIERS</th>\n",
       "      <td>17</td>\n",
       "      <td>1</td>\n",
       "      <td>0.088</td>\n",
       "      <td>0.088</td>\n",
       "      <td>0.088</td>\n",
       "      <td>2</td>\n",
       "      <td>42</td>\n",
       "      <td>0.045455</td>\n",
       "    </tr>\n",
       "    <tr>\n",
       "      <th>LF_GiG_GENE_ADJECTIVE</th>\n",
       "      <td>18</td>\n",
       "      <td>2</td>\n",
       "      <td>0.014</td>\n",
       "      <td>0.014</td>\n",
       "      <td>0.014</td>\n",
       "      <td>7</td>\n",
       "      <td>0</td>\n",
       "      <td>1.000000</td>\n",
       "    </tr>\n",
       "    <tr>\n",
       "      <th>LF_GiG_DIAGNOSIS_IDENTIFIERS</th>\n",
       "      <td>19</td>\n",
       "      <td>[]</td>\n",
       "      <td>0.000</td>\n",
       "      <td>0.000</td>\n",
       "      <td>0.000</td>\n",
       "      <td>0</td>\n",
       "      <td>0</td>\n",
       "      <td>NaN</td>\n",
       "    </tr>\n",
       "    <tr>\n",
       "      <th>LF_GiG_METHOD_DESC</th>\n",
       "      <td>20</td>\n",
       "      <td>2</td>\n",
       "      <td>0.010</td>\n",
       "      <td>0.010</td>\n",
       "      <td>0.010</td>\n",
       "      <td>4</td>\n",
       "      <td>1</td>\n",
       "      <td>0.800000</td>\n",
       "    </tr>\n",
       "    <tr>\n",
       "      <th>LF_GiG_PARENTHESIS</th>\n",
       "      <td>21</td>\n",
       "      <td>2</td>\n",
       "      <td>0.026</td>\n",
       "      <td>0.026</td>\n",
       "      <td>0.026</td>\n",
       "      <td>13</td>\n",
       "      <td>0</td>\n",
       "      <td>1.000000</td>\n",
       "    </tr>\n",
       "    <tr>\n",
       "      <th>LF_GG_IN_SERIES</th>\n",
       "      <td>22</td>\n",
       "      <td>2</td>\n",
       "      <td>0.210</td>\n",
       "      <td>0.210</td>\n",
       "      <td>0.194</td>\n",
       "      <td>99</td>\n",
       "      <td>6</td>\n",
       "      <td>0.942857</td>\n",
       "    </tr>\n",
       "    <tr>\n",
       "      <th>LF_GiG_NO_CONCLUSION</th>\n",
       "      <td>23</td>\n",
       "      <td>2</td>\n",
       "      <td>0.808</td>\n",
       "      <td>0.808</td>\n",
       "      <td>0.756</td>\n",
       "      <td>375</td>\n",
       "      <td>29</td>\n",
       "      <td>0.928218</td>\n",
       "    </tr>\n",
       "    <tr>\n",
       "      <th>LF_GiG_CONCLUSION</th>\n",
       "      <td>24</td>\n",
       "      <td>[1, 2]</td>\n",
       "      <td>0.192</td>\n",
       "      <td>0.192</td>\n",
       "      <td>0.192</td>\n",
       "      <td>36</td>\n",
       "      <td>60</td>\n",
       "      <td>0.375000</td>\n",
       "    </tr>\n",
       "    <tr>\n",
       "      <th>LF_GG_DISTANCE_SHORT</th>\n",
       "      <td>25</td>\n",
       "      <td>2</td>\n",
       "      <td>0.266</td>\n",
       "      <td>0.266</td>\n",
       "      <td>0.214</td>\n",
       "      <td>122</td>\n",
       "      <td>11</td>\n",
       "      <td>0.917293</td>\n",
       "    </tr>\n",
       "    <tr>\n",
       "      <th>LF_GG_DISTANCE_LONG</th>\n",
       "      <td>26</td>\n",
       "      <td>2</td>\n",
       "      <td>0.006</td>\n",
       "      <td>0.006</td>\n",
       "      <td>0.006</td>\n",
       "      <td>3</td>\n",
       "      <td>0</td>\n",
       "      <td>1.000000</td>\n",
       "    </tr>\n",
       "    <tr>\n",
       "      <th>LF_GG_ALLOWED_DISTANCE</th>\n",
       "      <td>27</td>\n",
       "      <td>1</td>\n",
       "      <td>0.728</td>\n",
       "      <td>0.728</td>\n",
       "      <td>0.728</td>\n",
       "      <td>49</td>\n",
       "      <td>315</td>\n",
       "      <td>0.134615</td>\n",
       "    </tr>\n",
       "    <tr>\n",
       "      <th>LF_GG_NO_VERB</th>\n",
       "      <td>28</td>\n",
       "      <td>2</td>\n",
       "      <td>0.034</td>\n",
       "      <td>0.034</td>\n",
       "      <td>0.026</td>\n",
       "      <td>17</td>\n",
       "      <td>0</td>\n",
       "      <td>1.000000</td>\n",
       "    </tr>\n",
       "    <tr>\n",
       "      <th>LF_GG_BICLUSTER_BINDING</th>\n",
       "      <td>29</td>\n",
       "      <td>1</td>\n",
       "      <td>0.306</td>\n",
       "      <td>0.306</td>\n",
       "      <td>0.306</td>\n",
       "      <td>25</td>\n",
       "      <td>128</td>\n",
       "      <td>0.163399</td>\n",
       "    </tr>\n",
       "    <tr>\n",
       "      <th>...</th>\n",
       "      <td>...</td>\n",
       "      <td>...</td>\n",
       "      <td>...</td>\n",
       "      <td>...</td>\n",
       "      <td>...</td>\n",
       "      <td>...</td>\n",
       "      <td>...</td>\n",
       "      <td>...</td>\n",
       "    </tr>\n",
       "    <tr>\n",
       "      <th>LF_CD_DISTANCE_LONG</th>\n",
       "      <td>79</td>\n",
       "      <td>2</td>\n",
       "      <td>0.006</td>\n",
       "      <td>0.006</td>\n",
       "      <td>0.006</td>\n",
       "      <td>3</td>\n",
       "      <td>0</td>\n",
       "      <td>1.000000</td>\n",
       "    </tr>\n",
       "    <tr>\n",
       "      <th>LF_CD_ALLOWED_DISTANCE</th>\n",
       "      <td>80</td>\n",
       "      <td>1</td>\n",
       "      <td>0.640</td>\n",
       "      <td>0.640</td>\n",
       "      <td>0.640</td>\n",
       "      <td>36</td>\n",
       "      <td>284</td>\n",
       "      <td>0.112500</td>\n",
       "    </tr>\n",
       "    <tr>\n",
       "      <th>LF_CD_NO_VERB</th>\n",
       "      <td>81</td>\n",
       "      <td>2</td>\n",
       "      <td>0.048</td>\n",
       "      <td>0.048</td>\n",
       "      <td>0.046</td>\n",
       "      <td>20</td>\n",
       "      <td>4</td>\n",
       "      <td>0.833333</td>\n",
       "    </tr>\n",
       "    <tr>\n",
       "      <th>LF_CD_BICLUSTER_TREATMENT</th>\n",
       "      <td>82</td>\n",
       "      <td>[]</td>\n",
       "      <td>0.000</td>\n",
       "      <td>0.000</td>\n",
       "      <td>0.000</td>\n",
       "      <td>0</td>\n",
       "      <td>0</td>\n",
       "      <td>NaN</td>\n",
       "    </tr>\n",
       "    <tr>\n",
       "      <th>LF_CD_BICLUSTER_INHIBITS</th>\n",
       "      <td>83</td>\n",
       "      <td>[]</td>\n",
       "      <td>0.000</td>\n",
       "      <td>0.000</td>\n",
       "      <td>0.000</td>\n",
       "      <td>0</td>\n",
       "      <td>0</td>\n",
       "      <td>NaN</td>\n",
       "    </tr>\n",
       "    <tr>\n",
       "      <th>LF_CD_BICLUSTER_SIDE_EFFECT</th>\n",
       "      <td>84</td>\n",
       "      <td>[]</td>\n",
       "      <td>0.000</td>\n",
       "      <td>0.000</td>\n",
       "      <td>0.000</td>\n",
       "      <td>0</td>\n",
       "      <td>0</td>\n",
       "      <td>NaN</td>\n",
       "    </tr>\n",
       "    <tr>\n",
       "      <th>LF_CD_BICLUSTER_PREVENTS</th>\n",
       "      <td>85</td>\n",
       "      <td>[]</td>\n",
       "      <td>0.000</td>\n",
       "      <td>0.000</td>\n",
       "      <td>0.000</td>\n",
       "      <td>0</td>\n",
       "      <td>0</td>\n",
       "      <td>NaN</td>\n",
       "    </tr>\n",
       "    <tr>\n",
       "      <th>LF_CD_BICLUSTER_ALLEVIATES</th>\n",
       "      <td>86</td>\n",
       "      <td>[]</td>\n",
       "      <td>0.000</td>\n",
       "      <td>0.000</td>\n",
       "      <td>0.000</td>\n",
       "      <td>0</td>\n",
       "      <td>0</td>\n",
       "      <td>NaN</td>\n",
       "    </tr>\n",
       "    <tr>\n",
       "      <th>LF_CD_BICLUSTER_DISEASE_ROLE</th>\n",
       "      <td>87</td>\n",
       "      <td>[]</td>\n",
       "      <td>0.000</td>\n",
       "      <td>0.000</td>\n",
       "      <td>0.000</td>\n",
       "      <td>0</td>\n",
       "      <td>0</td>\n",
       "      <td>NaN</td>\n",
       "    </tr>\n",
       "    <tr>\n",
       "      <th>LF_CD_BICLUSTER_BIOMARKERS</th>\n",
       "      <td>88</td>\n",
       "      <td>[]</td>\n",
       "      <td>0.000</td>\n",
       "      <td>0.000</td>\n",
       "      <td>0.000</td>\n",
       "      <td>0</td>\n",
       "      <td>0</td>\n",
       "      <td>NaN</td>\n",
       "    </tr>\n",
       "    <tr>\n",
       "      <th>LF_CG_BINDING</th>\n",
       "      <td>89</td>\n",
       "      <td>1</td>\n",
       "      <td>0.132</td>\n",
       "      <td>0.132</td>\n",
       "      <td>0.132</td>\n",
       "      <td>29</td>\n",
       "      <td>37</td>\n",
       "      <td>0.439394</td>\n",
       "    </tr>\n",
       "    <tr>\n",
       "      <th>LF_CG_WEAK_BINDING</th>\n",
       "      <td>90</td>\n",
       "      <td>1</td>\n",
       "      <td>0.006</td>\n",
       "      <td>0.006</td>\n",
       "      <td>0.006</td>\n",
       "      <td>0</td>\n",
       "      <td>3</td>\n",
       "      <td>0.000000</td>\n",
       "    </tr>\n",
       "    <tr>\n",
       "      <th>LF_CG_GENE_RECEIVERS</th>\n",
       "      <td>91</td>\n",
       "      <td>1</td>\n",
       "      <td>0.118</td>\n",
       "      <td>0.118</td>\n",
       "      <td>0.118</td>\n",
       "      <td>13</td>\n",
       "      <td>46</td>\n",
       "      <td>0.220339</td>\n",
       "    </tr>\n",
       "    <tr>\n",
       "      <th>LF_CG_ASE_SUFFIX</th>\n",
       "      <td>92</td>\n",
       "      <td>1</td>\n",
       "      <td>0.022</td>\n",
       "      <td>0.022</td>\n",
       "      <td>0.022</td>\n",
       "      <td>0</td>\n",
       "      <td>11</td>\n",
       "      <td>0.000000</td>\n",
       "    </tr>\n",
       "    <tr>\n",
       "      <th>LF_CG_IN_SERIES</th>\n",
       "      <td>93</td>\n",
       "      <td>2</td>\n",
       "      <td>0.210</td>\n",
       "      <td>0.210</td>\n",
       "      <td>0.194</td>\n",
       "      <td>99</td>\n",
       "      <td>6</td>\n",
       "      <td>0.942857</td>\n",
       "    </tr>\n",
       "    <tr>\n",
       "      <th>LF_CG_ANTIBODY</th>\n",
       "      <td>94</td>\n",
       "      <td>[]</td>\n",
       "      <td>0.000</td>\n",
       "      <td>0.000</td>\n",
       "      <td>0.000</td>\n",
       "      <td>0</td>\n",
       "      <td>0</td>\n",
       "      <td>NaN</td>\n",
       "    </tr>\n",
       "    <tr>\n",
       "      <th>LF_CG_METHOD_DESC</th>\n",
       "      <td>95</td>\n",
       "      <td>2</td>\n",
       "      <td>0.052</td>\n",
       "      <td>0.052</td>\n",
       "      <td>0.044</td>\n",
       "      <td>25</td>\n",
       "      <td>1</td>\n",
       "      <td>0.961538</td>\n",
       "    </tr>\n",
       "    <tr>\n",
       "      <th>LF_CG_NO_CONCLUSION</th>\n",
       "      <td>96</td>\n",
       "      <td>2</td>\n",
       "      <td>0.742</td>\n",
       "      <td>0.742</td>\n",
       "      <td>0.690</td>\n",
       "      <td>346</td>\n",
       "      <td>25</td>\n",
       "      <td>0.932615</td>\n",
       "    </tr>\n",
       "    <tr>\n",
       "      <th>LF_CG_CONCLUSION</th>\n",
       "      <td>97</td>\n",
       "      <td>1</td>\n",
       "      <td>0.258</td>\n",
       "      <td>0.258</td>\n",
       "      <td>0.258</td>\n",
       "      <td>35</td>\n",
       "      <td>94</td>\n",
       "      <td>0.271318</td>\n",
       "    </tr>\n",
       "    <tr>\n",
       "      <th>LF_CG_DISTANCE_SHORT</th>\n",
       "      <td>98</td>\n",
       "      <td>2</td>\n",
       "      <td>0.354</td>\n",
       "      <td>0.354</td>\n",
       "      <td>0.302</td>\n",
       "      <td>153</td>\n",
       "      <td>24</td>\n",
       "      <td>0.864407</td>\n",
       "    </tr>\n",
       "    <tr>\n",
       "      <th>LF_CG_DISTANCE_LONG</th>\n",
       "      <td>99</td>\n",
       "      <td>2</td>\n",
       "      <td>0.006</td>\n",
       "      <td>0.006</td>\n",
       "      <td>0.006</td>\n",
       "      <td>3</td>\n",
       "      <td>0</td>\n",
       "      <td>1.000000</td>\n",
       "    </tr>\n",
       "    <tr>\n",
       "      <th>LF_CG_ALLOWED_DISTANCE</th>\n",
       "      <td>100</td>\n",
       "      <td>1</td>\n",
       "      <td>0.400</td>\n",
       "      <td>0.400</td>\n",
       "      <td>0.400</td>\n",
       "      <td>22</td>\n",
       "      <td>178</td>\n",
       "      <td>0.110000</td>\n",
       "    </tr>\n",
       "    <tr>\n",
       "      <th>LF_CG_NO_VERB</th>\n",
       "      <td>101</td>\n",
       "      <td>2</td>\n",
       "      <td>0.048</td>\n",
       "      <td>0.048</td>\n",
       "      <td>0.046</td>\n",
       "      <td>20</td>\n",
       "      <td>4</td>\n",
       "      <td>0.833333</td>\n",
       "    </tr>\n",
       "    <tr>\n",
       "      <th>LF_CG_BICLUSTER_BINDS</th>\n",
       "      <td>102</td>\n",
       "      <td>1</td>\n",
       "      <td>0.030</td>\n",
       "      <td>0.030</td>\n",
       "      <td>0.030</td>\n",
       "      <td>3</td>\n",
       "      <td>12</td>\n",
       "      <td>0.200000</td>\n",
       "    </tr>\n",
       "    <tr>\n",
       "      <th>LF_CG_BICLUSTER_AGONISM</th>\n",
       "      <td>103</td>\n",
       "      <td>1</td>\n",
       "      <td>0.016</td>\n",
       "      <td>0.016</td>\n",
       "      <td>0.016</td>\n",
       "      <td>1</td>\n",
       "      <td>7</td>\n",
       "      <td>0.125000</td>\n",
       "    </tr>\n",
       "    <tr>\n",
       "      <th>LF_CG_BICLUSTER_ANTAGONISM</th>\n",
       "      <td>104</td>\n",
       "      <td>1</td>\n",
       "      <td>0.014</td>\n",
       "      <td>0.014</td>\n",
       "      <td>0.014</td>\n",
       "      <td>1</td>\n",
       "      <td>6</td>\n",
       "      <td>0.142857</td>\n",
       "    </tr>\n",
       "    <tr>\n",
       "      <th>LF_CG_BICLUSTER_INC_EXPRESSION</th>\n",
       "      <td>105</td>\n",
       "      <td>1</td>\n",
       "      <td>0.022</td>\n",
       "      <td>0.022</td>\n",
       "      <td>0.022</td>\n",
       "      <td>1</td>\n",
       "      <td>10</td>\n",
       "      <td>0.090909</td>\n",
       "    </tr>\n",
       "    <tr>\n",
       "      <th>LF_CG_BICLUSTER_DEC_EXPRESSION</th>\n",
       "      <td>106</td>\n",
       "      <td>1</td>\n",
       "      <td>0.030</td>\n",
       "      <td>0.030</td>\n",
       "      <td>0.030</td>\n",
       "      <td>2</td>\n",
       "      <td>13</td>\n",
       "      <td>0.133333</td>\n",
       "    </tr>\n",
       "    <tr>\n",
       "      <th>LF_CG_BICLUSTER_AFF_EXPRESSION</th>\n",
       "      <td>107</td>\n",
       "      <td>1</td>\n",
       "      <td>0.044</td>\n",
       "      <td>0.044</td>\n",
       "      <td>0.044</td>\n",
       "      <td>4</td>\n",
       "      <td>18</td>\n",
       "      <td>0.181818</td>\n",
       "    </tr>\n",
       "    <tr>\n",
       "      <th>LF_CG_BICLUSTER_INHIBITS</th>\n",
       "      <td>108</td>\n",
       "      <td>1</td>\n",
       "      <td>0.018</td>\n",
       "      <td>0.018</td>\n",
       "      <td>0.018</td>\n",
       "      <td>1</td>\n",
       "      <td>8</td>\n",
       "      <td>0.111111</td>\n",
       "    </tr>\n",
       "  </tbody>\n",
       "</table>\n",
       "<p>109 rows × 8 columns</p>\n",
       "</div>"
      ],
      "text/plain": [
       "                                   j Polarity  Coverage  Overlaps  Conflicts  \\\n",
       "LF_HETNET_HI_I_05                  0        1     0.002     0.002      0.002   \n",
       "LF_HETNET_VENKATESAN_09            1       []     0.000     0.000      0.000   \n",
       "LF_HETNET_YU_11                    2        1     0.002     0.002      0.002   \n",
       "LF_HETNET_HI_II_14                 3        1     0.006     0.006      0.006   \n",
       "LF_HETNET_LIT_BM_13                4        1     0.138     0.138      0.138   \n",
       "LF_HETNET_II_BINARY                5       []     0.000     0.000      0.000   \n",
       "LF_HETNET_II_LITERATURE            6       []     0.000     0.000      0.000   \n",
       "LF_HETNET_HETIO_DAG                7        1     0.292     0.292      0.292   \n",
       "LF_HETNET_GiG_ABSENT               8        2     0.706     0.706      0.654   \n",
       "LF_GiG_BINDING_IDENTIFICATIONS     9        1     0.182     0.182      0.182   \n",
       "LF_GiG_CELL_IDENTIFICATIONS       10        2     0.484     0.484      0.456   \n",
       "LF_GiG_COMPOUND_IDENTIFICATIONS   11        2     0.002     0.002      0.002   \n",
       "LF_GiG_UPREGULATES                12        2     0.012     0.012      0.012   \n",
       "LF_GiG_DOWNREGULATES              13        2     0.012     0.012      0.012   \n",
       "LF_GiG_REGULATION                 14        2     0.028     0.028      0.028   \n",
       "LF_GiG_ASSOCIATION                15        2     0.022     0.022      0.022   \n",
       "LF_GiG_BOUND_IDENTIFIERS          16        1     0.098     0.098      0.098   \n",
       "LF_GiG_GENE_IDENTIFIERS           17        1     0.088     0.088      0.088   \n",
       "LF_GiG_GENE_ADJECTIVE             18        2     0.014     0.014      0.014   \n",
       "LF_GiG_DIAGNOSIS_IDENTIFIERS      19       []     0.000     0.000      0.000   \n",
       "LF_GiG_METHOD_DESC                20        2     0.010     0.010      0.010   \n",
       "LF_GiG_PARENTHESIS                21        2     0.026     0.026      0.026   \n",
       "LF_GG_IN_SERIES                   22        2     0.210     0.210      0.194   \n",
       "LF_GiG_NO_CONCLUSION              23        2     0.808     0.808      0.756   \n",
       "LF_GiG_CONCLUSION                 24   [1, 2]     0.192     0.192      0.192   \n",
       "LF_GG_DISTANCE_SHORT              25        2     0.266     0.266      0.214   \n",
       "LF_GG_DISTANCE_LONG               26        2     0.006     0.006      0.006   \n",
       "LF_GG_ALLOWED_DISTANCE            27        1     0.728     0.728      0.728   \n",
       "LF_GG_NO_VERB                     28        2     0.034     0.034      0.026   \n",
       "LF_GG_BICLUSTER_BINDING           29        1     0.306     0.306      0.306   \n",
       "...                              ...      ...       ...       ...        ...   \n",
       "LF_CD_DISTANCE_LONG               79        2     0.006     0.006      0.006   \n",
       "LF_CD_ALLOWED_DISTANCE            80        1     0.640     0.640      0.640   \n",
       "LF_CD_NO_VERB                     81        2     0.048     0.048      0.046   \n",
       "LF_CD_BICLUSTER_TREATMENT         82       []     0.000     0.000      0.000   \n",
       "LF_CD_BICLUSTER_INHIBITS          83       []     0.000     0.000      0.000   \n",
       "LF_CD_BICLUSTER_SIDE_EFFECT       84       []     0.000     0.000      0.000   \n",
       "LF_CD_BICLUSTER_PREVENTS          85       []     0.000     0.000      0.000   \n",
       "LF_CD_BICLUSTER_ALLEVIATES        86       []     0.000     0.000      0.000   \n",
       "LF_CD_BICLUSTER_DISEASE_ROLE      87       []     0.000     0.000      0.000   \n",
       "LF_CD_BICLUSTER_BIOMARKERS        88       []     0.000     0.000      0.000   \n",
       "LF_CG_BINDING                     89        1     0.132     0.132      0.132   \n",
       "LF_CG_WEAK_BINDING                90        1     0.006     0.006      0.006   \n",
       "LF_CG_GENE_RECEIVERS              91        1     0.118     0.118      0.118   \n",
       "LF_CG_ASE_SUFFIX                  92        1     0.022     0.022      0.022   \n",
       "LF_CG_IN_SERIES                   93        2     0.210     0.210      0.194   \n",
       "LF_CG_ANTIBODY                    94       []     0.000     0.000      0.000   \n",
       "LF_CG_METHOD_DESC                 95        2     0.052     0.052      0.044   \n",
       "LF_CG_NO_CONCLUSION               96        2     0.742     0.742      0.690   \n",
       "LF_CG_CONCLUSION                  97        1     0.258     0.258      0.258   \n",
       "LF_CG_DISTANCE_SHORT              98        2     0.354     0.354      0.302   \n",
       "LF_CG_DISTANCE_LONG               99        2     0.006     0.006      0.006   \n",
       "LF_CG_ALLOWED_DISTANCE           100        1     0.400     0.400      0.400   \n",
       "LF_CG_NO_VERB                    101        2     0.048     0.048      0.046   \n",
       "LF_CG_BICLUSTER_BINDS            102        1     0.030     0.030      0.030   \n",
       "LF_CG_BICLUSTER_AGONISM          103        1     0.016     0.016      0.016   \n",
       "LF_CG_BICLUSTER_ANTAGONISM       104        1     0.014     0.014      0.014   \n",
       "LF_CG_BICLUSTER_INC_EXPRESSION   105        1     0.022     0.022      0.022   \n",
       "LF_CG_BICLUSTER_DEC_EXPRESSION   106        1     0.030     0.030      0.030   \n",
       "LF_CG_BICLUSTER_AFF_EXPRESSION   107        1     0.044     0.044      0.044   \n",
       "LF_CG_BICLUSTER_INHIBITS         108        1     0.018     0.018      0.018   \n",
       "\n",
       "                                 Correct  Incorrect  Emp. Acc.  \n",
       "LF_HETNET_HI_I_05                      0          1   0.000000  \n",
       "LF_HETNET_VENKATESAN_09                0          0        NaN  \n",
       "LF_HETNET_YU_11                        0          1   0.000000  \n",
       "LF_HETNET_HI_II_14                     0          3   0.000000  \n",
       "LF_HETNET_LIT_BM_13                   20         49   0.289855  \n",
       "LF_HETNET_II_BINARY                    0          0        NaN  \n",
       "LF_HETNET_II_LITERATURE                0          0        NaN  \n",
       "LF_HETNET_HETIO_DAG                   35        111   0.239726  \n",
       "LF_HETNET_GiG_ABSENT                 328         25   0.929178  \n",
       "LF_GiG_BINDING_IDENTIFICATIONS        42         49   0.461538  \n",
       "LF_GiG_CELL_IDENTIFICATIONS          217         25   0.896694  \n",
       "LF_GiG_COMPOUND_IDENTIFICATIONS        1          0   1.000000  \n",
       "LF_GiG_UPREGULATES                     5          1   0.833333  \n",
       "LF_GiG_DOWNREGULATES                   5          1   0.833333  \n",
       "LF_GiG_REGULATION                     12          2   0.857143  \n",
       "LF_GiG_ASSOCIATION                    10          1   0.909091  \n",
       "LF_GiG_BOUND_IDENTIFIERS              13         36   0.265306  \n",
       "LF_GiG_GENE_IDENTIFIERS                2         42   0.045455  \n",
       "LF_GiG_GENE_ADJECTIVE                  7          0   1.000000  \n",
       "LF_GiG_DIAGNOSIS_IDENTIFIERS           0          0        NaN  \n",
       "LF_GiG_METHOD_DESC                     4          1   0.800000  \n",
       "LF_GiG_PARENTHESIS                    13          0   1.000000  \n",
       "LF_GG_IN_SERIES                       99          6   0.942857  \n",
       "LF_GiG_NO_CONCLUSION                 375         29   0.928218  \n",
       "LF_GiG_CONCLUSION                     36         60   0.375000  \n",
       "LF_GG_DISTANCE_SHORT                 122         11   0.917293  \n",
       "LF_GG_DISTANCE_LONG                    3          0   1.000000  \n",
       "LF_GG_ALLOWED_DISTANCE                49        315   0.134615  \n",
       "LF_GG_NO_VERB                         17          0   1.000000  \n",
       "LF_GG_BICLUSTER_BINDING               25        128   0.163399  \n",
       "...                                  ...        ...        ...  \n",
       "LF_CD_DISTANCE_LONG                    3          0   1.000000  \n",
       "LF_CD_ALLOWED_DISTANCE                36        284   0.112500  \n",
       "LF_CD_NO_VERB                         20          4   0.833333  \n",
       "LF_CD_BICLUSTER_TREATMENT              0          0        NaN  \n",
       "LF_CD_BICLUSTER_INHIBITS               0          0        NaN  \n",
       "LF_CD_BICLUSTER_SIDE_EFFECT            0          0        NaN  \n",
       "LF_CD_BICLUSTER_PREVENTS               0          0        NaN  \n",
       "LF_CD_BICLUSTER_ALLEVIATES             0          0        NaN  \n",
       "LF_CD_BICLUSTER_DISEASE_ROLE           0          0        NaN  \n",
       "LF_CD_BICLUSTER_BIOMARKERS             0          0        NaN  \n",
       "LF_CG_BINDING                         29         37   0.439394  \n",
       "LF_CG_WEAK_BINDING                     0          3   0.000000  \n",
       "LF_CG_GENE_RECEIVERS                  13         46   0.220339  \n",
       "LF_CG_ASE_SUFFIX                       0         11   0.000000  \n",
       "LF_CG_IN_SERIES                       99          6   0.942857  \n",
       "LF_CG_ANTIBODY                         0          0        NaN  \n",
       "LF_CG_METHOD_DESC                     25          1   0.961538  \n",
       "LF_CG_NO_CONCLUSION                  346         25   0.932615  \n",
       "LF_CG_CONCLUSION                      35         94   0.271318  \n",
       "LF_CG_DISTANCE_SHORT                 153         24   0.864407  \n",
       "LF_CG_DISTANCE_LONG                    3          0   1.000000  \n",
       "LF_CG_ALLOWED_DISTANCE                22        178   0.110000  \n",
       "LF_CG_NO_VERB                         20          4   0.833333  \n",
       "LF_CG_BICLUSTER_BINDS                  3         12   0.200000  \n",
       "LF_CG_BICLUSTER_AGONISM                1          7   0.125000  \n",
       "LF_CG_BICLUSTER_ANTAGONISM             1          6   0.142857  \n",
       "LF_CG_BICLUSTER_INC_EXPRESSION         1         10   0.090909  \n",
       "LF_CG_BICLUSTER_DEC_EXPRESSION         2         13   0.133333  \n",
       "LF_CG_BICLUSTER_AFF_EXPRESSION         4         18   0.181818  \n",
       "LF_CG_BICLUSTER_INHIBITS               1          8   0.111111  \n",
       "\n",
       "[109 rows x 8 columns]"
      ]
     },
     "execution_count": 15,
     "metadata": {},
     "output_type": "execute_result"
    }
   ],
   "source": [
    "lf_summary(\n",
    "    sparse.coo_matrix(\n",
    "        correct_L_dev\n",
    "    )\n",
    "    .tocsr(), \n",
    "    lf_names=lf_names, \n",
    "    Y=candidate_dfs['dev'].curated_gig.apply(lambda x: 1 if x> 0 else 2)\n",
    ")"
   ]
  },
  {
   "cell_type": "markdown",
   "metadata": {},
   "source": [
    "# Train Baseline Model"
   ]
  },
  {
   "cell_type": "markdown",
   "metadata": {},
   "source": [
    "This block trains the baseline model (Distant Supervision of GiG Databases) that will be used as a reference to compare against."
   ]
  },
  {
   "cell_type": "code",
   "execution_count": 16,
   "metadata": {
    "ExecuteTime": {
     "end_time": "2019-05-08T14:44:53.056109Z",
     "start_time": "2019-05-08T14:44:53.031946Z"
    }
   },
   "outputs": [],
   "source": [
    "ds_start = 0\n",
    "ds_end = 9\n",
    "regularization_grid = pd.np.round(pd.np.linspace(0.01, 5, num=5), 2)"
   ]
  },
  {
   "cell_type": "code",
   "execution_count": 17,
   "metadata": {
    "ExecuteTime": {
     "end_time": "2019-05-08T14:45:15.706406Z",
     "start_time": "2019-05-08T14:44:53.057885Z"
    }
   },
   "outputs": [],
   "source": [
    "dev_ds_grid, test_ds_grid = train_baseline_model(\n",
    "    correct_L, correct_L_dev, correct_L_test,\n",
    "    list(range(ds_start, ds_end)), regularization_grid,\n",
    "    train_marginal_dir=\"data/random_sampling/GiG/marginals/\"\n",
    ")\n",
    "\n",
    "dev_baseline_marginals = list(dev_ds_grid.values())[0][:,0]\n",
    "test_baseline_marginals = list(test_ds_grid.values())[0][:,0]\n",
    "\n",
    "dev_ds_grid = (\n",
    "    generate_results_df(\n",
    "        dev_ds_grid, \n",
    "        candidate_dfs['dev'].curated_gig.values\n",
    "    )\n",
    "    .reset_index()\n",
    "    .rename(index=str, columns={0:\"AUPRC\", 1:\"AUROC\", \"index\":\"l2_param\"})\n",
    ")\n",
    "\n",
    "test_ds_grid = (\n",
    "    generate_results_df(\n",
    "        test_ds_grid, \n",
    "        candidate_dfs['test'].curated_gig.values\n",
    "    )\n",
    "    .reset_index()\n",
    "    .rename(index=str, columns={0:\"AUPRC\", 1:\"AUROC\", \"index\":\"l2_param\"})\n",
    ")"
   ]
  },
  {
   "cell_type": "code",
   "execution_count": 18,
   "metadata": {
    "ExecuteTime": {
     "end_time": "2019-05-08T14:45:15.734829Z",
     "start_time": "2019-05-08T14:45:15.708008Z"
    }
   },
   "outputs": [],
   "source": [
    "best_param = dev_ds_grid.query(\"AUROC==AUROC.max()\").l2_param.values[0]\n",
    "dev_baseline=dev_ds_grid.query(\"l2_param==@best_param\").to_dict('records')\n",
    "dev_baseline[0].update({\"num_lfs\": 0})"
   ]
  },
  {
   "cell_type": "code",
   "execution_count": 19,
   "metadata": {
    "ExecuteTime": {
     "end_time": "2019-05-08T14:45:15.826476Z",
     "start_time": "2019-05-08T14:45:15.736899Z"
    }
   },
   "outputs": [],
   "source": [
    "test_baseline=test_ds_grid.query(\"l2_param==@best_param\").to_dict('records')\n",
    "test_baseline[0].update({\"num_lfs\": 0})"
   ]
  },
  {
   "cell_type": "code",
   "execution_count": 20,
   "metadata": {
    "ExecuteTime": {
     "end_time": "2019-05-08T14:45:15.909490Z",
     "start_time": "2019-05-08T14:45:15.832283Z"
    }
   },
   "outputs": [],
   "source": [
    "dev_baseline_marginals = list(zip(dev_baseline_marginals, candidate_dfs['dev'].curated_gig.values))\n",
    "test_baseline_marginals = list(zip(test_baseline_marginals, candidate_dfs['test'].curated_gig.values))"
   ]
  },
  {
   "cell_type": "code",
   "execution_count": 21,
   "metadata": {
    "ExecuteTime": {
     "end_time": "2019-05-08T14:45:15.953918Z",
     "start_time": "2019-05-08T14:45:15.910910Z"
    }
   },
   "outputs": [],
   "source": [
    "count_fraction_correct = lambda x: 1 if (x.marginals > 0.5 and x.label==1) or (x.marginals < 0.5 and x.label==0) else 0"
   ]
  },
  {
   "cell_type": "markdown",
   "metadata": {},
   "source": [
    "# Gene Interacts Gene LFS Only"
   ]
  },
  {
   "cell_type": "markdown",
   "metadata": {
    "ExecuteTime": {
     "start_time": "2019-04-16T15:59:19.481Z"
    }
   },
   "source": [
    "This block is designed to determine how many label functions are needed to achieve decent results."
   ]
  },
  {
   "cell_type": "code",
   "execution_count": 23,
   "metadata": {
    "ExecuteTime": {
     "end_time": "2019-04-29T23:57:39.147698Z",
     "start_time": "2019-04-29T23:57:39.121512Z"
    }
   },
   "outputs": [],
   "source": [
    "num_of_samples = 50\n",
    "regularization_grid = pd.np.round(pd.np.linspace(0.01, 5, num=5), 2)"
   ]
  },
  {
   "cell_type": "code",
   "execution_count": 24,
   "metadata": {
    "ExecuteTime": {
     "end_time": "2019-04-30T02:08:15.173505Z",
     "start_time": "2019-04-29T23:57:39.149111Z"
    },
    "scrolled": false
   },
   "outputs": [
    {
     "data": {
      "application/vnd.jupyter.widget-view+json": {
       "model_id": "b76cdddda4234ec7958f9f1017b29d0f",
       "version_major": 2,
       "version_minor": 0
      },
      "text/html": [
       "<p>Failed to display Jupyter Widget of type <code>HBox</code>.</p>\n",
       "<p>\n",
       "  If you're reading this message in the Jupyter Notebook or JupyterLab Notebook, it may mean\n",
       "  that the widgets JavaScript is still loading. If this message persists, it\n",
       "  likely means that the widgets JavaScript library is either not installed or\n",
       "  not enabled. See the <a href=\"https://ipywidgets.readthedocs.io/en/stable/user_install.html\">Jupyter\n",
       "  Widgets Documentation</a> for setup instructions.\n",
       "</p>\n",
       "<p>\n",
       "  If you're reading this message in another frontend (for example, a static\n",
       "  rendering on GitHub or <a href=\"https://nbviewer.jupyter.org/\">NBViewer</a>),\n",
       "  it may mean that your frontend doesn't currently support widgets.\n",
       "</p>\n"
      ],
      "text/plain": [
       "HBox(children=(IntProgress(value=1, bar_style='info', max=1), HTML(value='')))"
      ]
     },
     "metadata": {},
     "output_type": "display_data"
    },
    {
     "name": "stdout",
     "output_type": "stream",
     "text": [
      "\n"
     ]
    },
    {
     "data": {
      "application/vnd.jupyter.widget-view+json": {
       "model_id": "809846fb94c74c1fbbd7168d29b97883",
       "version_major": 2,
       "version_minor": 0
      },
      "text/html": [
       "<p>Failed to display Jupyter Widget of type <code>HBox</code>.</p>\n",
       "<p>\n",
       "  If you're reading this message in the Jupyter Notebook or JupyterLab Notebook, it may mean\n",
       "  that the widgets JavaScript is still loading. If this message persists, it\n",
       "  likely means that the widgets JavaScript library is either not installed or\n",
       "  not enabled. See the <a href=\"https://ipywidgets.readthedocs.io/en/stable/user_install.html\">Jupyter\n",
       "  Widgets Documentation</a> for setup instructions.\n",
       "</p>\n",
       "<p>\n",
       "  If you're reading this message in another frontend (for example, a static\n",
       "  rendering on GitHub or <a href=\"https://nbviewer.jupyter.org/\">NBViewer</a>),\n",
       "  it may mean that your frontend doesn't currently support widgets.\n",
       "</p>\n"
      ],
      "text/plain": [
       "HBox(children=(IntProgress(value=1, bar_style='info', max=1), HTML(value='')))"
      ]
     },
     "metadata": {},
     "output_type": "display_data"
    },
    {
     "name": "stdout",
     "output_type": "stream",
     "text": [
      "\n"
     ]
    },
    {
     "data": {
      "application/vnd.jupyter.widget-view+json": {
       "model_id": "4e5da8b856974f9596a18e3f9067abbc",
       "version_major": 2,
       "version_minor": 0
      },
      "text/html": [
       "<p>Failed to display Jupyter Widget of type <code>HBox</code>.</p>\n",
       "<p>\n",
       "  If you're reading this message in the Jupyter Notebook or JupyterLab Notebook, it may mean\n",
       "  that the widgets JavaScript is still loading. If this message persists, it\n",
       "  likely means that the widgets JavaScript library is either not installed or\n",
       "  not enabled. See the <a href=\"https://ipywidgets.readthedocs.io/en/stable/user_install.html\">Jupyter\n",
       "  Widgets Documentation</a> for setup instructions.\n",
       "</p>\n",
       "<p>\n",
       "  If you're reading this message in another frontend (for example, a static\n",
       "  rendering on GitHub or <a href=\"https://nbviewer.jupyter.org/\">NBViewer</a>),\n",
       "  it may mean that your frontend doesn't currently support widgets.\n",
       "</p>\n"
      ],
      "text/plain": [
       "HBox(children=(IntProgress(value=1, bar_style='info', max=1), HTML(value='')))"
      ]
     },
     "metadata": {},
     "output_type": "display_data"
    },
    {
     "name": "stdout",
     "output_type": "stream",
     "text": [
      "\n"
     ]
    },
    {
     "data": {
      "application/vnd.jupyter.widget-view+json": {
       "model_id": "7572b9786d524d89982afb33d6403875",
       "version_major": 2,
       "version_minor": 0
      },
      "text/html": [
       "<p>Failed to display Jupyter Widget of type <code>HBox</code>.</p>\n",
       "<p>\n",
       "  If you're reading this message in the Jupyter Notebook or JupyterLab Notebook, it may mean\n",
       "  that the widgets JavaScript is still loading. If this message persists, it\n",
       "  likely means that the widgets JavaScript library is either not installed or\n",
       "  not enabled. See the <a href=\"https://ipywidgets.readthedocs.io/en/stable/user_install.html\">Jupyter\n",
       "  Widgets Documentation</a> for setup instructions.\n",
       "</p>\n",
       "<p>\n",
       "  If you're reading this message in another frontend (for example, a static\n",
       "  rendering on GitHub or <a href=\"https://nbviewer.jupyter.org/\">NBViewer</a>),\n",
       "  it may mean that your frontend doesn't currently support widgets.\n",
       "</p>\n"
      ],
      "text/plain": [
       "HBox(children=(IntProgress(value=1, bar_style='info', max=1), HTML(value='')))"
      ]
     },
     "metadata": {},
     "output_type": "display_data"
    },
    {
     "name": "stdout",
     "output_type": "stream",
     "text": [
      "\n"
     ]
    },
    {
     "data": {
      "application/vnd.jupyter.widget-view+json": {
       "model_id": "977b92afbac64280bd5ff5ba5812f749",
       "version_major": 2,
       "version_minor": 0
      },
      "text/html": [
       "<p>Failed to display Jupyter Widget of type <code>HBox</code>.</p>\n",
       "<p>\n",
       "  If you're reading this message in the Jupyter Notebook or JupyterLab Notebook, it may mean\n",
       "  that the widgets JavaScript is still loading. If this message persists, it\n",
       "  likely means that the widgets JavaScript library is either not installed or\n",
       "  not enabled. See the <a href=\"https://ipywidgets.readthedocs.io/en/stable/user_install.html\">Jupyter\n",
       "  Widgets Documentation</a> for setup instructions.\n",
       "</p>\n",
       "<p>\n",
       "  If you're reading this message in another frontend (for example, a static\n",
       "  rendering on GitHub or <a href=\"https://nbviewer.jupyter.org/\">NBViewer</a>),\n",
       "  it may mean that your frontend doesn't currently support widgets.\n",
       "</p>\n"
      ],
      "text/plain": [
       "HBox(children=(IntProgress(value=1, bar_style='info', max=1), HTML(value='')))"
      ]
     },
     "metadata": {},
     "output_type": "display_data"
    },
    {
     "name": "stdout",
     "output_type": "stream",
     "text": [
      "\n"
     ]
    },
    {
     "data": {
      "application/vnd.jupyter.widget-view+json": {
       "model_id": "566595d9820a4eeb98315dbeb0621ccf",
       "version_major": 2,
       "version_minor": 0
      },
      "text/html": [
       "<p>Failed to display Jupyter Widget of type <code>HBox</code>.</p>\n",
       "<p>\n",
       "  If you're reading this message in the Jupyter Notebook or JupyterLab Notebook, it may mean\n",
       "  that the widgets JavaScript is still loading. If this message persists, it\n",
       "  likely means that the widgets JavaScript library is either not installed or\n",
       "  not enabled. See the <a href=\"https://ipywidgets.readthedocs.io/en/stable/user_install.html\">Jupyter\n",
       "  Widgets Documentation</a> for setup instructions.\n",
       "</p>\n",
       "<p>\n",
       "  If you're reading this message in another frontend (for example, a static\n",
       "  rendering on GitHub or <a href=\"https://nbviewer.jupyter.org/\">NBViewer</a>),\n",
       "  it may mean that your frontend doesn't currently support widgets.\n",
       "</p>\n"
      ],
      "text/plain": [
       "HBox(children=(IntProgress(value=1, bar_style='info', max=1), HTML(value='')))"
      ]
     },
     "metadata": {},
     "output_type": "display_data"
    },
    {
     "name": "stdout",
     "output_type": "stream",
     "text": [
      "\n"
     ]
    },
    {
     "data": {
      "application/vnd.jupyter.widget-view+json": {
       "model_id": "0a9ef29934d04e8eb04b30cba0e43637",
       "version_major": 2,
       "version_minor": 0
      },
      "text/html": [
       "<p>Failed to display Jupyter Widget of type <code>HBox</code>.</p>\n",
       "<p>\n",
       "  If you're reading this message in the Jupyter Notebook or JupyterLab Notebook, it may mean\n",
       "  that the widgets JavaScript is still loading. If this message persists, it\n",
       "  likely means that the widgets JavaScript library is either not installed or\n",
       "  not enabled. See the <a href=\"https://ipywidgets.readthedocs.io/en/stable/user_install.html\">Jupyter\n",
       "  Widgets Documentation</a> for setup instructions.\n",
       "</p>\n",
       "<p>\n",
       "  If you're reading this message in another frontend (for example, a static\n",
       "  rendering on GitHub or <a href=\"https://nbviewer.jupyter.org/\">NBViewer</a>),\n",
       "  it may mean that your frontend doesn't currently support widgets.\n",
       "</p>\n"
      ],
      "text/plain": [
       "HBox(children=(IntProgress(value=1, bar_style='info', max=1), HTML(value='')))"
      ]
     },
     "metadata": {},
     "output_type": "display_data"
    },
    {
     "name": "stdout",
     "output_type": "stream",
     "text": [
      "\n"
     ]
    }
   ],
   "source": [
    "dev_gig_df = pd.DataFrame(dev_baseline)\n",
    "test_gig_df = pd.DataFrame(test_baseline)\n",
    "dev_gig_marginals_df = pd.DataFrame(dev_baseline_marginals, columns=[\"marginals\", \"label\"]).assign(num_lfs=0)\n",
    "test_gig_marginals_df = pd.DataFrame(test_baseline_marginals, columns=[\"marginals\", \"label\"]).assign(num_lfs=0)\n",
    "\n",
    "gig_start = ds_end\n",
    "gig_end = 37\n",
    "range_of_sample_sizes = (\n",
    "    list(range(1, correct_L[:,gig_start:gig_end].shape[1], 5)) +\n",
    "    [correct_L[:,gig_start:gig_end].shape[1]]\n",
    ")\n",
    "\n",
    "lf_sample_keeper, dev_results_df, test_results_df, dev_marginals_df, test_marginals_df = run_random_additional_lfs(\n",
    "    range_of_sample_sizes=range_of_sample_sizes, \n",
    "    range_of_lf_indicies = list(range(gig_start, gig_end+1)),\n",
    "    size_of_sample_pool=gig_end-gig_start, \n",
    "    num_of_samples=num_of_samples,\n",
    "    train=correct_L, \n",
    "    dev=correct_L_dev,\n",
    "    dev_labels=candidate_dfs['dev'].curated_gig.values,\n",
    "    test=correct_L_test,\n",
    "    test_labels=candidate_dfs['test'].curated_gig.values,\n",
    "    grid=regularization_grid,\n",
    "    label_matricies=label_matricies['train'],\n",
    "    train_marginal_dir='data/random_sampling/GiG/marginals/',\n",
    "    ds_start=ds_start,\n",
    "    ds_end=ds_end,\n",
    ")\n",
    "\n",
    "dev_gig_df = dev_gig_df.append(dev_results_df, sort=True)\n",
    "test_gig_df = test_gig_df.append(test_results_df, sort=True)\n",
    "dev_gig_marginals_df = dev_gig_marginals_df.append(dev_marginals_df, sort=True)\n",
    "test_gig_marginals_df = test_gig_marginals_df.append(test_marginals_df, sort=True)"
   ]
  },
  {
   "cell_type": "code",
   "execution_count": 25,
   "metadata": {
    "ExecuteTime": {
     "end_time": "2019-04-30T02:08:21.299345Z",
     "start_time": "2019-04-30T02:08:15.174998Z"
    }
   },
   "outputs": [],
   "source": [
    "dev_gig_marginals_df = (\n",
    "     dev_gig_marginals_df\n",
    "     .assign(\n",
    "        frac_correct=(\n",
    "            dev_gig_marginals_df\n",
    "            .apply(count_fraction_correct,axis=1)\n",
    "            .values\n",
    "        )\n",
    "    )\n",
    "    .groupby([\"label\", \"num_lfs\"])[\"frac_correct\"]\n",
    "    .agg(pd.np.mean)\n",
    "    .reset_index(level=[\"label\", \"num_lfs\"])\n",
    " )"
   ]
  },
  {
   "cell_type": "code",
   "execution_count": 26,
   "metadata": {
    "ExecuteTime": {
     "end_time": "2019-04-30T02:08:27.445858Z",
     "start_time": "2019-04-30T02:08:21.300947Z"
    }
   },
   "outputs": [],
   "source": [
    "test_gig_marginals_df = (\n",
    "    test_gig_marginals_df\n",
    "    .assign(\n",
    "        frac_correct=(\n",
    "            test_gig_marginals_df\n",
    "            .apply(count_fraction_correct, axis=1)\n",
    "            .values\n",
    "        )\n",
    "    )\n",
    "    .groupby([\"label\", \"num_lfs\"])[\"frac_correct\"]\n",
    "    .agg(pd.np.mean)\n",
    "    .reset_index(level=[\"label\", \"num_lfs\"])\n",
    ")"
   ]
  },
  {
   "cell_type": "markdown",
   "metadata": {},
   "source": [
    "## Dev Set Performance (AUPRC, AUROC)"
   ]
  },
  {
   "cell_type": "code",
   "execution_count": 27,
   "metadata": {
    "ExecuteTime": {
     "end_time": "2019-04-30T02:08:27.911684Z",
     "start_time": "2019-04-30T02:08:27.447310Z"
    }
   },
   "outputs": [
    {
     "name": "stderr",
     "output_type": "stream",
     "text": [
      "/home/danich1/anaconda2/envs/snorkeling/lib/python3.6/site-packages/scipy/stats/stats.py:1713: FutureWarning: Using a non-tuple sequence for multidimensional indexing is deprecated; use `arr[tuple(seq)]` instead of `arr[seq]`. In the future this will be interpreted as an array index, `arr[np.array(seq)]`, which will result either in an error or a different result.\n",
      "  return np.add.reduce(sorted[indexer] * weights, axis=axis) / sumval\n"
     ]
    },
    {
     "data": {
      "text/plain": [
       "<matplotlib.axes._subplots.AxesSubplot at 0x7f01b310a128>"
      ]
     },
     "execution_count": 27,
     "metadata": {},
     "output_type": "execute_result"
    },
    {
     "data": {
      "image/png": "[encoded data removed]",
      "text/plain": [
       "<matplotlib.figure.Figure at 0x7f01b319e940>"
      ]
     },
     "metadata": {},
     "output_type": "display_data"
    }
   ],
   "source": [
    "fig, axs = plt.subplots(ncols=2, figsize=(10, 5))\n",
    "sns.pointplot(x=\"num_lfs\", y=\"AUPRC\", data=dev_gig_df, ax=axs[0])\n",
    "sns.pointplot(x=\"num_lfs\", y=\"AUROC\", data=dev_gig_df, ax=axs[1])"
   ]
  },
  {
   "cell_type": "code",
   "execution_count": 28,
   "metadata": {
    "ExecuteTime": {
     "end_time": "2019-04-30T02:08:28.114620Z",
     "start_time": "2019-04-30T02:08:27.913153Z"
    }
   },
   "outputs": [
    {
     "data": {
      "text/plain": [
       "<matplotlib.axes._subplots.AxesSubplot at 0x7f01b1becf60>"
      ]
     },
     "execution_count": 28,
     "metadata": {},
     "output_type": "execute_result"
    },
    {
     "data": {
      "image/png": "[encoded data removed]",
      "text/plain": [
       "<matplotlib.figure.Figure at 0x7f01b319f2b0>"
      ]
     },
     "metadata": {},
     "output_type": "display_data"
    }
   ],
   "source": [
    "sns.pointplot(x=\"num_lfs\", y=\"frac_correct\", data=dev_gig_marginals_df, hue=\"label\")"
   ]
  },
  {
   "cell_type": "markdown",
   "metadata": {},
   "source": [
    "## Test Set Performance (AUPRC, AUROC)"
   ]
  },
  {
   "cell_type": "code",
   "execution_count": 29,
   "metadata": {
    "ExecuteTime": {
     "end_time": "2019-04-30T02:08:28.559910Z",
     "start_time": "2019-04-30T02:08:28.116052Z"
    }
   },
   "outputs": [
    {
     "name": "stderr",
     "output_type": "stream",
     "text": [
      "/home/danich1/anaconda2/envs/snorkeling/lib/python3.6/site-packages/scipy/stats/stats.py:1713: FutureWarning: Using a non-tuple sequence for multidimensional indexing is deprecated; use `arr[tuple(seq)]` instead of `arr[seq]`. In the future this will be interpreted as an array index, `arr[np.array(seq)]`, which will result either in an error or a different result.\n",
      "  return np.add.reduce(sorted[indexer] * weights, axis=axis) / sumval\n"
     ]
    },
    {
     "data": {
      "text/plain": [
       "<matplotlib.axes._subplots.AxesSubplot at 0x7f01b1b484a8>"
      ]
     },
     "execution_count": 29,
     "metadata": {},
     "output_type": "execute_result"
    },
    {
     "data": {
      "image/png": "[encoded data removed]",
      "text/plain": [
       "<matplotlib.figure.Figure at 0x7f01b1c0b048>"
      ]
     },
     "metadata": {},
     "output_type": "display_data"
    }
   ],
   "source": [
    "fig, axs = plt.subplots(ncols=2, figsize=(10, 5))\n",
    "sns.pointplot(x=\"num_lfs\", y=\"AUPRC\", data=test_gig_df, ax=axs[0])\n",
    "sns.pointplot(x=\"num_lfs\", y=\"AUROC\", data=test_gig_df, ax=axs[1])"
   ]
  },
  {
   "cell_type": "code",
   "execution_count": 30,
   "metadata": {
    "ExecuteTime": {
     "end_time": "2019-04-30T02:08:28.749866Z",
     "start_time": "2019-04-30T02:08:28.561294Z"
    }
   },
   "outputs": [
    {
     "data": {
      "text/plain": [
       "<matplotlib.axes._subplots.AxesSubplot at 0x7f01b1b240f0>"
      ]
     },
     "execution_count": 30,
     "metadata": {},
     "output_type": "execute_result"
    },
    {
     "data": {
      "image/png": "[encoded data removed]",
      "text/plain": [
       "<matplotlib.figure.Figure at 0x7f01b1b0cb70>"
      ]
     },
     "metadata": {},
     "output_type": "display_data"
    }
   ],
   "source": [
    "sns.pointplot(x=\"num_lfs\", y=\"frac_correct\", data=test_gig_marginals_df, hue=\"label\")"
   ]
  },
  {
   "cell_type": "code",
   "execution_count": 31,
   "metadata": {
    "ExecuteTime": {
     "end_time": "2019-04-30T02:08:28.779155Z",
     "start_time": "2019-04-30T02:08:28.751206Z"
    }
   },
   "outputs": [],
   "source": [
    "dev_gig_df.to_csv(\n",
    "    \"data/random_sampling/GiG/results/dev_sampled_performance.tsv\", \n",
    "    index=False, sep=\"\\t\", float_format=\"%.5g\"\n",
    ")\n",
    "\n",
    "test_gig_df.to_csv(\n",
    "    \"data/random_sampling/GiG/results/test_sampled_performance.tsv\", \n",
    "    index=False, sep=\"\\t\", float_format=\"%.5g\"\n",
    ")"
   ]
  },
  {
   "cell_type": "code",
   "execution_count": 32,
   "metadata": {
    "ExecuteTime": {
     "end_time": "2019-04-30T02:08:28.835193Z",
     "start_time": "2019-04-30T02:08:28.780421Z"
    }
   },
   "outputs": [],
   "source": [
    "dev_gig_marginals_df.to_csv(\n",
    "    \"data/random_sampling/GiG/results/dev_sampled_marginals.tsv\", \n",
    "    index=False, sep=\"\\t\", float_format=\"%.5g\"\n",
    ")\n",
    "\n",
    "test_gig_marginals_df.to_csv(\n",
    "    \"data/random_sampling/GiG/results/test_sampled_marginals.tsv\", \n",
    "    index=False, sep=\"\\t\", float_format=\"%.5g\"\n",
    ")"
   ]
  },
  {
   "cell_type": "markdown",
   "metadata": {},
   "source": [
    "# Using Disease Associates Gene Label Functions to Predict Gene Interacts Gene Relations"
   ]
  },
  {
   "cell_type": "markdown",
   "metadata": {},
   "source": [
    "This section determines how well disease associates gene label functions can predict gene interacts gene relations."
   ]
  },
  {
   "cell_type": "code",
   "execution_count": 33,
   "metadata": {
    "ExecuteTime": {
     "end_time": "2019-04-30T02:08:28.865021Z",
     "start_time": "2019-04-30T02:08:28.836659Z"
    }
   },
   "outputs": [],
   "source": [
    "num_of_samples = 50\n",
    "regularization_grid = pd.np.round(pd.np.linspace(0.01, 5, num=10), 2)"
   ]
  },
  {
   "cell_type": "code",
   "execution_count": 34,
   "metadata": {
    "ExecuteTime": {
     "end_time": "2019-04-30T05:54:41.147849Z",
     "start_time": "2019-04-30T02:08:28.866962Z"
    }
   },
   "outputs": [
    {
     "data": {
      "application/vnd.jupyter.widget-view+json": {
       "model_id": "3487f3d8eee5467fbfc0f26afb3e9f4a",
       "version_major": 2,
       "version_minor": 0
      },
      "text/html": [
       "<p>Failed to display Jupyter Widget of type <code>HBox</code>.</p>\n",
       "<p>\n",
       "  If you're reading this message in the Jupyter Notebook or JupyterLab Notebook, it may mean\n",
       "  that the widgets JavaScript is still loading. If this message persists, it\n",
       "  likely means that the widgets JavaScript library is either not installed or\n",
       "  not enabled. See the <a href=\"https://ipywidgets.readthedocs.io/en/stable/user_install.html\">Jupyter\n",
       "  Widgets Documentation</a> for setup instructions.\n",
       "</p>\n",
       "<p>\n",
       "  If you're reading this message in another frontend (for example, a static\n",
       "  rendering on GitHub or <a href=\"https://nbviewer.jupyter.org/\">NBViewer</a>),\n",
       "  it may mean that your frontend doesn't currently support widgets.\n",
       "</p>\n"
      ],
      "text/plain": [
       "HBox(children=(IntProgress(value=1, bar_style='info', max=1), HTML(value='')))"
      ]
     },
     "metadata": {},
     "output_type": "display_data"
    },
    {
     "name": "stdout",
     "output_type": "stream",
     "text": [
      "\n"
     ]
    },
    {
     "data": {
      "application/vnd.jupyter.widget-view+json": {
       "model_id": "19532529f3344e059ba3c5e957cf04a9",
       "version_major": 2,
       "version_minor": 0
      },
      "text/html": [
       "<p>Failed to display Jupyter Widget of type <code>HBox</code>.</p>\n",
       "<p>\n",
       "  If you're reading this message in the Jupyter Notebook or JupyterLab Notebook, it may mean\n",
       "  that the widgets JavaScript is still loading. If this message persists, it\n",
       "  likely means that the widgets JavaScript library is either not installed or\n",
       "  not enabled. See the <a href=\"https://ipywidgets.readthedocs.io/en/stable/user_install.html\">Jupyter\n",
       "  Widgets Documentation</a> for setup instructions.\n",
       "</p>\n",
       "<p>\n",
       "  If you're reading this message in another frontend (for example, a static\n",
       "  rendering on GitHub or <a href=\"https://nbviewer.jupyter.org/\">NBViewer</a>),\n",
       "  it may mean that your frontend doesn't currently support widgets.\n",
       "</p>\n"
      ],
      "text/plain": [
       "HBox(children=(IntProgress(value=1, bar_style='info', max=1), HTML(value='')))"
      ]
     },
     "metadata": {},
     "output_type": "display_data"
    },
    {
     "name": "stdout",
     "output_type": "stream",
     "text": [
      "\n"
     ]
    },
    {
     "data": {
      "application/vnd.jupyter.widget-view+json": {
       "model_id": "6f0346c164ab4348b70db4c2fa1bebf4",
       "version_major": 2,
       "version_minor": 0
      },
      "text/html": [
       "<p>Failed to display Jupyter Widget of type <code>HBox</code>.</p>\n",
       "<p>\n",
       "  If you're reading this message in the Jupyter Notebook or JupyterLab Notebook, it may mean\n",
       "  that the widgets JavaScript is still loading. If this message persists, it\n",
       "  likely means that the widgets JavaScript library is either not installed or\n",
       "  not enabled. See the <a href=\"https://ipywidgets.readthedocs.io/en/stable/user_install.html\">Jupyter\n",
       "  Widgets Documentation</a> for setup instructions.\n",
       "</p>\n",
       "<p>\n",
       "  If you're reading this message in another frontend (for example, a static\n",
       "  rendering on GitHub or <a href=\"https://nbviewer.jupyter.org/\">NBViewer</a>),\n",
       "  it may mean that your frontend doesn't currently support widgets.\n",
       "</p>\n"
      ],
      "text/plain": [
       "HBox(children=(IntProgress(value=1, bar_style='info', max=1), HTML(value='')))"
      ]
     },
     "metadata": {},
     "output_type": "display_data"
    },
    {
     "name": "stdout",
     "output_type": "stream",
     "text": [
      "\n"
     ]
    },
    {
     "data": {
      "application/vnd.jupyter.widget-view+json": {
       "model_id": "c25c6fb8dd824d98a69a929824a67e9b",
       "version_major": 2,
       "version_minor": 0
      },
      "text/html": [
       "<p>Failed to display Jupyter Widget of type <code>HBox</code>.</p>\n",
       "<p>\n",
       "  If you're reading this message in the Jupyter Notebook or JupyterLab Notebook, it may mean\n",
       "  that the widgets JavaScript is still loading. If this message persists, it\n",
       "  likely means that the widgets JavaScript library is either not installed or\n",
       "  not enabled. See the <a href=\"https://ipywidgets.readthedocs.io/en/stable/user_install.html\">Jupyter\n",
       "  Widgets Documentation</a> for setup instructions.\n",
       "</p>\n",
       "<p>\n",
       "  If you're reading this message in another frontend (for example, a static\n",
       "  rendering on GitHub or <a href=\"https://nbviewer.jupyter.org/\">NBViewer</a>),\n",
       "  it may mean that your frontend doesn't currently support widgets.\n",
       "</p>\n"
      ],
      "text/plain": [
       "HBox(children=(IntProgress(value=1, bar_style='info', max=1), HTML(value='')))"
      ]
     },
     "metadata": {},
     "output_type": "display_data"
    },
    {
     "name": "stdout",
     "output_type": "stream",
     "text": [
      "\n"
     ]
    },
    {
     "data": {
      "application/vnd.jupyter.widget-view+json": {
       "model_id": "d130ac9385254edeaa3f1fc103119924",
       "version_major": 2,
       "version_minor": 0
      },
      "text/html": [
       "<p>Failed to display Jupyter Widget of type <code>HBox</code>.</p>\n",
       "<p>\n",
       "  If you're reading this message in the Jupyter Notebook or JupyterLab Notebook, it may mean\n",
       "  that the widgets JavaScript is still loading. If this message persists, it\n",
       "  likely means that the widgets JavaScript library is either not installed or\n",
       "  not enabled. See the <a href=\"https://ipywidgets.readthedocs.io/en/stable/user_install.html\">Jupyter\n",
       "  Widgets Documentation</a> for setup instructions.\n",
       "</p>\n",
       "<p>\n",
       "  If you're reading this message in another frontend (for example, a static\n",
       "  rendering on GitHub or <a href=\"https://nbviewer.jupyter.org/\">NBViewer</a>),\n",
       "  it may mean that your frontend doesn't currently support widgets.\n",
       "</p>\n"
      ],
      "text/plain": [
       "HBox(children=(IntProgress(value=1, bar_style='info', max=1), HTML(value='')))"
      ]
     },
     "metadata": {},
     "output_type": "display_data"
    },
    {
     "name": "stdout",
     "output_type": "stream",
     "text": [
      "\n"
     ]
    },
    {
     "data": {
      "application/vnd.jupyter.widget-view+json": {
       "model_id": "8be55dbb3a234beea9d33a0df3222d00",
       "version_major": 2,
       "version_minor": 0
      },
      "text/html": [
       "<p>Failed to display Jupyter Widget of type <code>HBox</code>.</p>\n",
       "<p>\n",
       "  If you're reading this message in the Jupyter Notebook or JupyterLab Notebook, it may mean\n",
       "  that the widgets JavaScript is still loading. If this message persists, it\n",
       "  likely means that the widgets JavaScript library is either not installed or\n",
       "  not enabled. See the <a href=\"https://ipywidgets.readthedocs.io/en/stable/user_install.html\">Jupyter\n",
       "  Widgets Documentation</a> for setup instructions.\n",
       "</p>\n",
       "<p>\n",
       "  If you're reading this message in another frontend (for example, a static\n",
       "  rendering on GitHub or <a href=\"https://nbviewer.jupyter.org/\">NBViewer</a>),\n",
       "  it may mean that your frontend doesn't currently support widgets.\n",
       "</p>\n"
      ],
      "text/plain": [
       "HBox(children=(IntProgress(value=1, bar_style='info', max=1), HTML(value='')))"
      ]
     },
     "metadata": {},
     "output_type": "display_data"
    },
    {
     "name": "stdout",
     "output_type": "stream",
     "text": [
      "\n"
     ]
    },
    {
     "data": {
      "application/vnd.jupyter.widget-view+json": {
       "model_id": "cb677668c50c4d658bc2c35e59f82b57",
       "version_major": 2,
       "version_minor": 0
      },
      "text/html": [
       "<p>Failed to display Jupyter Widget of type <code>HBox</code>.</p>\n",
       "<p>\n",
       "  If you're reading this message in the Jupyter Notebook or JupyterLab Notebook, it may mean\n",
       "  that the widgets JavaScript is still loading. If this message persists, it\n",
       "  likely means that the widgets JavaScript library is either not installed or\n",
       "  not enabled. See the <a href=\"https://ipywidgets.readthedocs.io/en/stable/user_install.html\">Jupyter\n",
       "  Widgets Documentation</a> for setup instructions.\n",
       "</p>\n",
       "<p>\n",
       "  If you're reading this message in another frontend (for example, a static\n",
       "  rendering on GitHub or <a href=\"https://nbviewer.jupyter.org/\">NBViewer</a>),\n",
       "  it may mean that your frontend doesn't currently support widgets.\n",
       "</p>\n"
      ],
      "text/plain": [
       "HBox(children=(IntProgress(value=1, bar_style='info', max=1), HTML(value='')))"
      ]
     },
     "metadata": {},
     "output_type": "display_data"
    },
    {
     "name": "stdout",
     "output_type": "stream",
     "text": [
      "\n"
     ]
    }
   ],
   "source": [
    "dev_dag_df = pd.DataFrame(dev_baseline)\n",
    "test_dag_df = pd.DataFrame(test_baseline)\n",
    "dev_dag_marginals_df = pd.DataFrame(dev_baseline_marginals, columns=[\"marginals\", \"label\"]).assign(num_lfs=0)\n",
    "test_dag_marginals_df = pd.DataFrame(test_baseline_marginals, columns=[\"marginals\", \"label\"]).assign(num_lfs=0)\n",
    "\n",
    "dag_start = 37\n",
    "dag_end = 67\n",
    "\n",
    "range_of_sample_sizes = (\n",
    "    list(range(1, correct_L[:,dag_start:dag_end].shape[1], 5)) +\n",
    "    [correct_L[:,dag_start:dag_end].shape[1]]\n",
    ")\n",
    "\n",
    "lf_sample_keeper, dev_results_df, test_results_df, dev_marginals_df, test_marginals_df = run_random_additional_lfs(\n",
    "    range_of_sample_sizes=range_of_sample_sizes, \n",
    "    range_of_lf_indicies = list(range(dag_start, dag_end+1)),\n",
    "    size_of_sample_pool=dag_end-dag_start, \n",
    "    num_of_samples=num_of_samples,\n",
    "    train=correct_L, \n",
    "    dev=correct_L_dev,\n",
    "    dev_labels=candidate_dfs['dev'].curated_gig.values,\n",
    "    test=correct_L_test,\n",
    "    test_labels=candidate_dfs['test'].curated_gig.values,\n",
    "    grid=regularization_grid,\n",
    "    label_matricies=label_matricies['train'],\n",
    "    train_marginal_dir='data/random_sampling/DaG/marginals/',\n",
    "    ds_start=ds_start,\n",
    "    ds_end=ds_end,\n",
    ")\n",
    "\n",
    "dev_dag_df = dev_dag_df.append(dev_results_df, sort=True)\n",
    "test_dag_df = test_dag_df.append(test_results_df, sort=True)\n",
    "dev_dag_marginals_df = dev_dag_marginals_df.append(dev_marginals_df, sort=True)\n",
    "test_dag_marginals_df = test_dag_marginals_df.append(test_marginals_df, sort=True)"
   ]
  },
  {
   "cell_type": "code",
   "execution_count": 35,
   "metadata": {
    "ExecuteTime": {
     "end_time": "2019-04-30T05:54:47.362213Z",
     "start_time": "2019-04-30T05:54:41.149415Z"
    }
   },
   "outputs": [],
   "source": [
    "dev_dag_marginals_df = (\n",
    "     dev_dag_marginals_df\n",
    "     .assign(\n",
    "        frac_correct=(\n",
    "            dev_dag_marginals_df\n",
    "            .apply(count_fraction_correct,axis=1)\n",
    "            .values\n",
    "        )\n",
    "    )\n",
    "    .groupby([\"label\", \"num_lfs\"])[\"frac_correct\"]\n",
    "    .agg(pd.np.mean)\n",
    "    .reset_index(level=[\"label\", \"num_lfs\"])\n",
    ")"
   ]
  },
  {
   "cell_type": "code",
   "execution_count": 36,
   "metadata": {
    "ExecuteTime": {
     "end_time": "2019-04-30T05:54:53.559597Z",
     "start_time": "2019-04-30T05:54:47.363585Z"
    }
   },
   "outputs": [],
   "source": [
    "test_dag_marginals_df = (\n",
    "    test_dag_marginals_df\n",
    "    .assign(\n",
    "        frac_correct=(\n",
    "            test_dag_marginals_df\n",
    "            .apply(count_fraction_correct, axis=1)\n",
    "            .values\n",
    "        )\n",
    "    )\n",
    "    .groupby([\"label\", \"num_lfs\"])[\"frac_correct\"]\n",
    "    .agg(pd.np.mean)\n",
    "    .reset_index(level=[\"label\", \"num_lfs\"])\n",
    ")"
   ]
  },
  {
   "cell_type": "markdown",
   "metadata": {},
   "source": [
    "## Dev Set Performance (AUPRC, AUROC)"
   ]
  },
  {
   "cell_type": "code",
   "execution_count": 37,
   "metadata": {
    "ExecuteTime": {
     "end_time": "2019-04-30T05:54:54.007037Z",
     "start_time": "2019-04-30T05:54:53.561240Z"
    }
   },
   "outputs": [
    {
     "name": "stderr",
     "output_type": "stream",
     "text": [
      "/home/danich1/anaconda2/envs/snorkeling/lib/python3.6/site-packages/scipy/stats/stats.py:1713: FutureWarning: Using a non-tuple sequence for multidimensional indexing is deprecated; use `arr[tuple(seq)]` instead of `arr[seq]`. In the future this will be interpreted as an array index, `arr[np.array(seq)]`, which will result either in an error or a different result.\n",
      "  return np.add.reduce(sorted[indexer] * weights, axis=axis) / sumval\n"
     ]
    },
    {
     "data": {
      "text/plain": [
       "<matplotlib.axes._subplots.AxesSubplot at 0x7f01b2e59a20>"
      ]
     },
     "execution_count": 37,
     "metadata": {},
     "output_type": "execute_result"
    },
    {
     "data": {
      "image/png": "[encoded data removed]",
      "text/plain": [
       "<matplotlib.figure.Figure at 0x7f01b19f7f98>"
      ]
     },
     "metadata": {},
     "output_type": "display_data"
    }
   ],
   "source": [
    "fig, axs = plt.subplots(ncols=2, figsize=(10, 5))\n",
    "sns.pointplot(x=\"num_lfs\", y=\"AUPRC\", data=dev_dag_df, ax=axs[0])\n",
    "sns.pointplot(x=\"num_lfs\", y=\"AUROC\", data=dev_dag_df, ax=axs[1])"
   ]
  },
  {
   "cell_type": "code",
   "execution_count": 38,
   "metadata": {
    "ExecuteTime": {
     "end_time": "2019-04-30T05:54:54.200776Z",
     "start_time": "2019-04-30T05:54:54.008254Z"
    }
   },
   "outputs": [
    {
     "data": {
      "text/plain": [
       "<matplotlib.axes._subplots.AxesSubplot at 0x7f01b2e4c240>"
      ]
     },
     "execution_count": 38,
     "metadata": {},
     "output_type": "execute_result"
    },
    {
     "data": {
      "image/png": "[encoded data removed]",
      "text/plain": [
       "<matplotlib.figure.Figure at 0x7f01b2dbc390>"
      ]
     },
     "metadata": {},
     "output_type": "display_data"
    }
   ],
   "source": [
    "sns.pointplot(x=\"num_lfs\", y=\"frac_correct\", data=dev_dag_marginals_df, hue=\"label\")"
   ]
  },
  {
   "cell_type": "markdown",
   "metadata": {},
   "source": [
    "## Test Set Performance (AUPRC, AUROC)"
   ]
  },
  {
   "cell_type": "code",
   "execution_count": 39,
   "metadata": {
    "ExecuteTime": {
     "end_time": "2019-04-30T05:54:54.659692Z",
     "start_time": "2019-04-30T05:54:54.202182Z"
    }
   },
   "outputs": [
    {
     "name": "stderr",
     "output_type": "stream",
     "text": [
      "/home/danich1/anaconda2/envs/snorkeling/lib/python3.6/site-packages/scipy/stats/stats.py:1713: FutureWarning: Using a non-tuple sequence for multidimensional indexing is deprecated; use `arr[tuple(seq)]` instead of `arr[seq]`. In the future this will be interpreted as an array index, `arr[np.array(seq)]`, which will result either in an error or a different result.\n",
      "  return np.add.reduce(sorted[indexer] * weights, axis=axis) / sumval\n"
     ]
    },
    {
     "data": {
      "text/plain": [
       "<matplotlib.axes._subplots.AxesSubplot at 0x7f01b30cf9e8>"
      ]
     },
     "execution_count": 39,
     "metadata": {},
     "output_type": "execute_result"
    },
    {
     "data": {
      "image/png": "[encoded data removed]",
      "text/plain": [
       "<matplotlib.figure.Figure at 0x7f01b2dd3d30>"
      ]
     },
     "metadata": {},
     "output_type": "display_data"
    }
   ],
   "source": [
    "fig, axs = plt.subplots(ncols=2, figsize=(10, 5))\n",
    "sns.pointplot(x=\"num_lfs\", y=\"AUPRC\", data=test_dag_df, ax=axs[0])\n",
    "sns.pointplot(x=\"num_lfs\", y=\"AUROC\", data=test_dag_df, ax=axs[1])"
   ]
  },
  {
   "cell_type": "code",
   "execution_count": 40,
   "metadata": {
    "ExecuteTime": {
     "end_time": "2019-04-30T05:54:54.855446Z",
     "start_time": "2019-04-30T05:54:54.661092Z"
    }
   },
   "outputs": [
    {
     "data": {
      "text/plain": [
       "<matplotlib.axes._subplots.AxesSubplot at 0x7f01b2f1f7b8>"
      ]
     },
     "execution_count": 40,
     "metadata": {},
     "output_type": "execute_result"
    },
    {
     "data": {
      "image/png": "[encoded data removed]",
      "text/plain": [
       "<matplotlib.figure.Figure at 0x7f01b1b7e5f8>"
      ]
     },
     "metadata": {},
     "output_type": "display_data"
    }
   ],
   "source": [
    "sns.pointplot(x=\"num_lfs\", y=\"frac_correct\", data=test_dag_marginals_df, hue=\"label\")"
   ]
  },
  {
   "cell_type": "code",
   "execution_count": 41,
   "metadata": {
    "ExecuteTime": {
     "end_time": "2019-04-30T05:54:54.884397Z",
     "start_time": "2019-04-30T05:54:54.856866Z"
    }
   },
   "outputs": [],
   "source": [
    "dev_dag_df.to_csv(\n",
    "    \"data/random_sampling/DaG/results/dev_sampled_performance.tsv\", \n",
    "    index=False, sep=\"\\t\", float_format=\"%.5g\"\n",
    ")\n",
    "\n",
    "test_dag_df.to_csv(\n",
    "    \"data/random_sampling/DaG/results/test_sampled_performance.tsv\", \n",
    "    index=False, sep=\"\\t\", float_format=\"%.5g\"\n",
    ")"
   ]
  },
  {
   "cell_type": "code",
   "execution_count": 42,
   "metadata": {
    "ExecuteTime": {
     "end_time": "2019-04-30T05:54:54.910910Z",
     "start_time": "2019-04-30T05:54:54.885690Z"
    }
   },
   "outputs": [],
   "source": [
    "dev_dag_marginals_df.to_csv(\n",
    "    \"data/random_sampling/DaG/results/dev_sampled_marginals.tsv\", \n",
    "    index=False, sep=\"\\t\", float_format=\"%.5g\"\n",
    ")\n",
    "\n",
    "test_dag_marginals_df.to_csv(\n",
    "    \"data/random_sampling/DaG/results/test_sampled_marginals.tsv\", \n",
    "    index=False, sep=\"\\t\", float_format=\"%.5g\"\n",
    ")"
   ]
  },
  {
   "cell_type": "markdown",
   "metadata": {},
   "source": [
    "# Using Compound Treats Disease Label Functions to Predict Gene Interacts Gene Relations"
   ]
  },
  {
   "cell_type": "markdown",
   "metadata": {
    "ExecuteTime": {
     "start_time": "2019-04-16T16:00:16.397Z"
    }
   },
   "source": [
    "This section determines how well compound treats disease label functions can predict gene interacts gene relations."
   ]
  },
  {
   "cell_type": "code",
   "execution_count": 43,
   "metadata": {
    "ExecuteTime": {
     "end_time": "2019-04-30T05:54:54.934600Z",
     "start_time": "2019-04-30T05:54:54.912512Z"
    }
   },
   "outputs": [],
   "source": [
    "num_of_samples = 50\n",
    "regularization_grid = pd.np.round(pd.np.linspace(0.01, 5, num=10), 2)"
   ]
  },
  {
   "cell_type": "code",
   "execution_count": null,
   "metadata": {
    "ExecuteTime": {
     "start_time": "2019-04-29T23:57:39.169Z"
    }
   },
   "outputs": [
    {
     "data": {
      "application/vnd.jupyter.widget-view+json": {
       "model_id": "18b5535fc21f45b29797ec02492d6ca3",
       "version_major": 2,
       "version_minor": 0
      },
      "text/html": [
       "<p>Failed to display Jupyter Widget of type <code>HBox</code>.</p>\n",
       "<p>\n",
       "  If you're reading this message in the Jupyter Notebook or JupyterLab Notebook, it may mean\n",
       "  that the widgets JavaScript is still loading. If this message persists, it\n",
       "  likely means that the widgets JavaScript library is either not installed or\n",
       "  not enabled. See the <a href=\"https://ipywidgets.readthedocs.io/en/stable/user_install.html\">Jupyter\n",
       "  Widgets Documentation</a> for setup instructions.\n",
       "</p>\n",
       "<p>\n",
       "  If you're reading this message in another frontend (for example, a static\n",
       "  rendering on GitHub or <a href=\"https://nbviewer.jupyter.org/\">NBViewer</a>),\n",
       "  it may mean that your frontend doesn't currently support widgets.\n",
       "</p>\n"
      ],
      "text/plain": [
       "HBox(children=(IntProgress(value=1, bar_style='info', max=1), HTML(value='')))"
      ]
     },
     "metadata": {},
     "output_type": "display_data"
    }
   ],
   "source": [
    "dev_ctd_df = pd.DataFrame(dev_baseline)\n",
    "test_ctd_df = pd.DataFrame(test_baseline)\n",
    "dev_ctd_marginals_df = pd.DataFrame(dev_baseline_marginals, columns=[\"marginals\", \"label\"]).assign(num_lfs=0)\n",
    "test_ctd_marginals_df = pd.DataFrame(test_baseline_marginals, columns=[\"marginals\", \"label\"]).assign(num_lfs=0)\n",
    "\n",
    "ctd_start = 67\n",
    "ctd_end = 89\n",
    "\n",
    "range_of_sample_sizes = (\n",
    "    list(range(1, correct_L[:,ctd_start:ctd_end].shape[1], 5)) +\n",
    "    [correct_L[:,ctd_start:ctd_end].shape[1]]\n",
    ")\n",
    "\n",
    "lf_sample_keeper, dev_results_df, test_results_df, dev_marginals_df, test_marginals_df = run_random_additional_lfs(\n",
    "    range_of_sample_sizes=range_of_sample_sizes, \n",
    "    range_of_lf_indicies = list(range(ctd_start, ctd_end+1)),\n",
    "    size_of_sample_pool=ctd_end-ctd_start,\n",
    "    num_of_samples=num_of_samples,\n",
    "    train=correct_L, \n",
    "    dev=correct_L_dev,\n",
    "    dev_labels=candidate_dfs['dev'].curated_gig.values,\n",
    "    test=correct_L_test,\n",
    "    test_labels=candidate_dfs['test'].curated_gig.values,\n",
    "    grid=regularization_grid,\n",
    "    label_matricies=label_matricies['train'],\n",
    "    train_marginal_dir='data/random_sampling/CtD/marginals/',\n",
    "    ds_start=ds_start,\n",
    "    ds_end=ds_end,\n",
    ")\n",
    "\n",
    "dev_ctd_df = dev_ctd_df.append(dev_results_df, sort=True)\n",
    "test_ctd_df = test_ctd_df.append(test_results_df, sort=True)\n",
    "dev_ctd_marginals_df = dev_ctd_marginals_df.append(dev_marginals_df, sort=True)\n",
    "test_ctd_marginals_df = test_ctd_marginals_df.append(test_marginals_df, sort=True)"
   ]
  },
  {
   "cell_type": "code",
   "execution_count": null,
   "metadata": {
    "ExecuteTime": {
     "start_time": "2019-04-29T23:57:39.170Z"
    }
   },
   "outputs": [],
   "source": [
    "dev_ctd_marginals_df = (\n",
    "     dev_ctd_marginals_df\n",
    "     .assign(\n",
    "        frac_correct=(\n",
    "            dev_ctd_marginals_df\n",
    "            .apply(count_fraction_correct,axis=1)\n",
    "            .values\n",
    "        )\n",
    "    )\n",
    "    .groupby([\"label\", \"num_lfs\"])[\"frac_correct\"]\n",
    "    .agg(pd.np.mean)\n",
    "    .reset_index(level=[\"label\", \"num_lfs\"])\n",
    " )"
   ]
  },
  {
   "cell_type": "code",
   "execution_count": null,
   "metadata": {
    "ExecuteTime": {
     "start_time": "2019-04-29T23:57:39.171Z"
    }
   },
   "outputs": [],
   "source": [
    "test_ctd_marginals_df = (\n",
    "    test_ctd_marginals_df\n",
    "    .assign(\n",
    "        frac_correct=(\n",
    "            test_ctd_marginals_df\n",
    "            .apply(count_fraction_correct, axis=1)\n",
    "            .values\n",
    "        )\n",
    "    )\n",
    "    .groupby([\"label\", \"num_lfs\"])[\"frac_correct\"]\n",
    "    .agg(pd.np.mean)\n",
    "    .reset_index(level=[\"label\", \"num_lfs\"])\n",
    ")"
   ]
  },
  {
   "cell_type": "markdown",
   "metadata": {},
   "source": [
    "## Dev Set Performance (AUPRC, AUROC)"
   ]
  },
  {
   "cell_type": "code",
   "execution_count": null,
   "metadata": {
    "ExecuteTime": {
     "start_time": "2019-04-29T23:57:39.173Z"
    }
   },
   "outputs": [],
   "source": [
    "fig, axs = plt.subplots(ncols=2, figsize=(10, 5))\n",
    "sns.pointplot(x=\"num_lfs\", y=\"AUPRC\", data=dev_ctd_df, ax=axs[0])\n",
    "sns.pointplot(x=\"num_lfs\", y=\"AUROC\", data=dev_ctd_df, ax=axs[1])"
   ]
  },
  {
   "cell_type": "code",
   "execution_count": null,
   "metadata": {
    "ExecuteTime": {
     "start_time": "2019-04-29T23:57:39.174Z"
    }
   },
   "outputs": [],
   "source": [
    "sns.pointplot(x=\"num_lfs\", y=\"frac_correct\", data=dev_ctd_marginals_df, hue=\"label\")"
   ]
  },
  {
   "cell_type": "markdown",
   "metadata": {},
   "source": [
    "## Test Set Performance (AUPRC, AUROC)"
   ]
  },
  {
   "cell_type": "code",
   "execution_count": null,
   "metadata": {
    "ExecuteTime": {
     "start_time": "2019-04-29T23:57:39.176Z"
    }
   },
   "outputs": [],
   "source": [
    "fig, axs = plt.subplots(ncols=2, figsize=(10, 5))\n",
    "sns.pointplot(x=\"num_lfs\", y=\"AUPRC\", data=test_ctd_df, ax=axs[0])\n",
    "sns.pointplot(x=\"num_lfs\", y=\"AUROC\", data=test_ctd_df, ax=axs[1])"
   ]
  },
  {
   "cell_type": "code",
   "execution_count": null,
   "metadata": {
    "ExecuteTime": {
     "start_time": "2019-04-29T23:57:39.177Z"
    }
   },
   "outputs": [],
   "source": [
    "sns.pointplot(x=\"num_lfs\", y=\"frac_correct\", data=test_ctd_marginals_df, hue=\"label\")"
   ]
  },
  {
   "cell_type": "code",
   "execution_count": null,
   "metadata": {
    "ExecuteTime": {
     "start_time": "2019-04-29T23:57:39.178Z"
    }
   },
   "outputs": [],
   "source": [
    "dev_ctd_df.to_csv(\n",
    "    \"data/random_sampling/CtD/results/dev_sampled_performance.tsv\", \n",
    "    index=False, sep=\"\\t\", float_format=\"%.5g\"\n",
    ")\n",
    "\n",
    "test_ctd_df.to_csv(\n",
    "    \"data/random_sampling/CtD/results/test_sampled_performance.tsv\", \n",
    "    index=False, sep=\"\\t\", float_format=\"%.5g\"\n",
    ")"
   ]
  },
  {
   "cell_type": "code",
   "execution_count": null,
   "metadata": {
    "ExecuteTime": {
     "start_time": "2019-04-29T23:57:39.180Z"
    }
   },
   "outputs": [],
   "source": [
    "dev_ctd_marginals_df.to_csv(\n",
    "    \"data/random_sampling/CtD/results/dev_sampled_marginals.tsv\", \n",
    "    index=False, sep=\"\\t\", float_format=\"%.5g\"\n",
    ")\n",
    "\n",
    "test_ctd_marginals_df.to_csv(\n",
    "    \"data/random_sampling/CtD/results/test_sampled_marginals.tsv\", \n",
    "    index=False, sep=\"\\t\", float_format=\"%.5g\"\n",
    ")"
   ]
  },
  {
   "cell_type": "markdown",
   "metadata": {},
   "source": [
    "# Using Compound Binds Gene Label Functions to Predict Gene Interacts Gene Relations"
   ]
  },
  {
   "cell_type": "markdown",
   "metadata": {
    "ExecuteTime": {
     "start_time": "2019-04-16T16:00:41.823Z"
    }
   },
   "source": [
    "This section determines how well compound binds gene label functions can predict gene interacts gene relations."
   ]
  },
  {
   "cell_type": "code",
   "execution_count": null,
   "metadata": {
    "ExecuteTime": {
     "start_time": "2019-04-29T23:57:39.184Z"
    }
   },
   "outputs": [],
   "source": [
    "num_of_samples = 50\n",
    "regularization_grid = pd.np.round(pd.np.linspace(0.01, 5, num=10), 2)"
   ]
  },
  {
   "cell_type": "code",
   "execution_count": null,
   "metadata": {
    "ExecuteTime": {
     "start_time": "2019-04-29T23:57:39.185Z"
    }
   },
   "outputs": [],
   "source": [
    "dev_cbg_df = pd.DataFrame(dev_baseline)\n",
    "test_cbg_df = pd.DataFrame(test_baseline)\n",
    "dev_cbg_marginals_df = pd.DataFrame(dev_baseline_marginals, columns=[\"marginals\", \"label\"]).assign(num_lfs=0)\n",
    "test_cbg_marginals_df = pd.DataFrame(test_baseline_marginals, columns=[\"marginals\", \"label\"]).assign(num_lfs=0)\n",
    "\n",
    "cbg_start = 89\n",
    "cbg_end = 109\n",
    "\n",
    "range_of_sample_sizes = (\n",
    "    list(range(1, correct_L[:,cbg_start:cbg_end].shape[1], 5)) +\n",
    "    [correct_L[:,cbg_start:cbg_end].shape[1]]\n",
    ")\n",
    "\n",
    "lf_sample_keeper, dev_results_df, test_results_df, dev_marginals_df, test_marginals_df = run_random_additional_lfs(\n",
    "    range_of_sample_sizes=range_of_sample_sizes, \n",
    "    range_of_lf_indicies = list(range(cbg_start, cbg_end+1)),\n",
    "    size_of_sample_pool=cbg_end-cbg_start,\n",
    "    num_of_samples=num_of_samples,\n",
    "    train=correct_L, \n",
    "    dev=correct_L_dev,\n",
    "    dev_labels=candidate_dfs['dev'].curated_gig.values,\n",
    "    test=correct_L_test,\n",
    "    test_labels=candidate_dfs['test'].curated_gig.values,\n",
    "    grid=regularization_grid,\n",
    "    label_matricies=label_matricies['train'],\n",
    "    train_marginal_dir='data/random_sampling/CbG/marginals/',\n",
    "    ds_start=ds_start,\n",
    "    ds_end=ds_end,\n",
    ")\n",
    "\n",
    "dev_cbg_df = dev_cbg_df.append(dev_results_df, sort=True)\n",
    "test_cbg_df = test_cbg_df.append(test_results_df, sort=True)\n",
    "dev_cbg_marginals_df = dev_cbg_marginals_df.append(dev_marginals_df, sort=True)\n",
    "test_cbg_marginals_df = test_cbg_marginals_df.append(test_marginals_df, sort=True)"
   ]
  },
  {
   "cell_type": "code",
   "execution_count": null,
   "metadata": {
    "ExecuteTime": {
     "start_time": "2019-04-29T23:57:39.187Z"
    }
   },
   "outputs": [],
   "source": [
    "dev_cbg_marginals_df = (\n",
    "     dev_cbg_marginals_df\n",
    "     .assign(\n",
    "        frac_correct=(\n",
    "            dev_cbg_marginals_df\n",
    "            .apply(count_fraction_correct,axis=1)\n",
    "            .values\n",
    "        )\n",
    "    )\n",
    "    .groupby([\"label\", \"num_lfs\"])[\"frac_correct\"]\n",
    "    .agg(pd.np.mean)\n",
    "    .reset_index(level=[\"label\", \"num_lfs\"])\n",
    ")"
   ]
  },
  {
   "cell_type": "code",
   "execution_count": null,
   "metadata": {
    "ExecuteTime": {
     "start_time": "2019-04-29T23:57:39.188Z"
    }
   },
   "outputs": [],
   "source": [
    "test_cbg_marginals_df = (\n",
    "    test_cbg_marginals_df\n",
    "    .assign(\n",
    "        frac_correct=(\n",
    "            test_cbg_marginals_df\n",
    "            .apply(count_fraction_correct, axis=1)\n",
    "            .values\n",
    "        )\n",
    "    )\n",
    "    .groupby([\"label\", \"num_lfs\"])[\"frac_correct\"]\n",
    "    .agg(pd.np.mean)\n",
    "    .reset_index(level=[\"label\", \"num_lfs\"])\n",
    ")"
   ]
  },
  {
   "cell_type": "markdown",
   "metadata": {},
   "source": [
    "## Dev Set Performance (AUPRC, AUROC)"
   ]
  },
  {
   "cell_type": "code",
   "execution_count": null,
   "metadata": {
    "ExecuteTime": {
     "start_time": "2019-04-29T23:57:39.192Z"
    }
   },
   "outputs": [],
   "source": [
    "fig, axs = plt.subplots(ncols=2, figsize=(10, 5))\n",
    "sns.pointplot(x=\"num_lfs\", y=\"AUPRC\", data=dev_cbg_df, ax=axs[0])\n",
    "sns.pointplot(x=\"num_lfs\", y=\"AUROC\", data=dev_cbg_df, ax=axs[1])"
   ]
  },
  {
   "cell_type": "code",
   "execution_count": null,
   "metadata": {
    "ExecuteTime": {
     "start_time": "2019-04-29T23:57:39.193Z"
    }
   },
   "outputs": [],
   "source": [
    "sns.pointplot(x=\"num_lfs\", y=\"frac_correct\", data=dev_cbg_marginals_df, hue=\"label\")"
   ]
  },
  {
   "cell_type": "markdown",
   "metadata": {},
   "source": [
    "## Test Set Performance (AUPRC, AUROC)"
   ]
  },
  {
   "cell_type": "code",
   "execution_count": null,
   "metadata": {
    "ExecuteTime": {
     "start_time": "2019-04-29T23:57:39.196Z"
    }
   },
   "outputs": [],
   "source": [
    "fig, axs = plt.subplots(ncols=2, figsize=(10, 5))\n",
    "sns.pointplot(x=\"num_lfs\", y=\"AUPRC\", data=test_cbg_df, ax=axs[0])\n",
    "sns.pointplot(x=\"num_lfs\", y=\"AUROC\", data=test_cbg_df, ax=axs[1])"
   ]
  },
  {
   "cell_type": "code",
   "execution_count": null,
   "metadata": {
    "ExecuteTime": {
     "start_time": "2019-04-29T23:57:39.197Z"
    }
   },
   "outputs": [],
   "source": [
    "sns.pointplot(x=\"num_lfs\", y=\"frac_correct\", data=test_cbg_marginals_df, hue=\"label\")"
   ]
  },
  {
   "cell_type": "code",
   "execution_count": null,
   "metadata": {
    "ExecuteTime": {
     "start_time": "2019-04-29T23:57:39.198Z"
    }
   },
   "outputs": [],
   "source": [
    "dev_cbg_df.to_csv(\n",
    "    \"data/random_sampling/CbG/results/dev_sampled_performance.tsv\", \n",
    "    index=False, sep=\"\\t\", float_format=\"%.5g\"\n",
    ")\n",
    "\n",
    "test_cbg_df.to_csv(\n",
    "    \"data/random_sampling/CbG/results/test_sampled_performance.tsv\", \n",
    "    index=False, sep=\"\\t\", float_format=\"%.5g\"\n",
    ")"
   ]
  },
  {
   "cell_type": "code",
   "execution_count": null,
   "metadata": {
    "ExecuteTime": {
     "start_time": "2019-04-29T23:57:39.199Z"
    }
   },
   "outputs": [],
   "source": [
    "dev_cbg_marginals_df.to_csv(\n",
    "    \"data/random_sampling/CbG/results/dev_sampled_marginals.tsv\", \n",
    "    index=False, sep=\"\\t\", float_format=\"%.5g\"\n",
    ")\n",
    "\n",
    "test_cbg_marginals_df.to_csv(\n",
    "    \"data/random_sampling/CbG/results/test_sampled_marginals.tsv\", \n",
    "    index=False, sep=\"\\t\", float_format=\"%.5g\"\n",
    ")"
   ]
  },
  {
   "cell_type": "markdown",
   "metadata": {},
   "source": [
    "# All (DaG, GiG, CbG, CtD) Label Functions to Predict Gene Interacts Gene Relations"
   ]
  },
  {
   "cell_type": "markdown",
   "metadata": {
    "ExecuteTime": {
     "start_time": "2019-04-16T16:01:06.575Z"
    }
   },
   "source": [
    "This section determines how well all label functions can predict gene interacts gene relations."
   ]
  },
  {
   "cell_type": "code",
   "execution_count": 22,
   "metadata": {
    "ExecuteTime": {
     "end_time": "2019-05-08T14:47:17.760463Z",
     "start_time": "2019-05-08T14:47:17.734184Z"
    }
   },
   "outputs": [],
   "source": [
    "num_of_samples = 50\n",
    "regularization_grid = pd.np.round(pd.np.linspace(0.01, 5, num=5), 2)"
   ]
  },
  {
   "cell_type": "code",
   "execution_count": 23,
   "metadata": {
    "ExecuteTime": {
     "end_time": "2019-05-09T01:57:35.382658Z",
     "start_time": "2019-05-08T14:47:17.762026Z"
    }
   },
   "outputs": [
    {
     "data": {
      "application/vnd.jupyter.widget-view+json": {
       "model_id": "118527c53f8c4e0b807e0bf7c8e0cd48",
       "version_major": 2,
       "version_minor": 0
      },
      "text/html": [
       "<p>Failed to display Jupyter Widget of type <code>HBox</code>.</p>\n",
       "<p>\n",
       "  If you're reading this message in the Jupyter Notebook or JupyterLab Notebook, it may mean\n",
       "  that the widgets JavaScript is still loading. If this message persists, it\n",
       "  likely means that the widgets JavaScript library is either not installed or\n",
       "  not enabled. See the <a href=\"https://ipywidgets.readthedocs.io/en/stable/user_install.html\">Jupyter\n",
       "  Widgets Documentation</a> for setup instructions.\n",
       "</p>\n",
       "<p>\n",
       "  If you're reading this message in another frontend (for example, a static\n",
       "  rendering on GitHub or <a href=\"https://nbviewer.jupyter.org/\">NBViewer</a>),\n",
       "  it may mean that your frontend doesn't currently support widgets.\n",
       "</p>\n"
      ],
      "text/plain": [
       "HBox(children=(IntProgress(value=1, bar_style='info', max=1), HTML(value='')))"
      ]
     },
     "metadata": {},
     "output_type": "display_data"
    },
    {
     "name": "stdout",
     "output_type": "stream",
     "text": [
      "\n"
     ]
    },
    {
     "data": {
      "application/vnd.jupyter.widget-view+json": {
       "model_id": "4dc4641cf68744b486e9b1061a5b7d7c",
       "version_major": 2,
       "version_minor": 0
      },
      "text/html": [
       "<p>Failed to display Jupyter Widget of type <code>HBox</code>.</p>\n",
       "<p>\n",
       "  If you're reading this message in the Jupyter Notebook or JupyterLab Notebook, it may mean\n",
       "  that the widgets JavaScript is still loading. If this message persists, it\n",
       "  likely means that the widgets JavaScript library is either not installed or\n",
       "  not enabled. See the <a href=\"https://ipywidgets.readthedocs.io/en/stable/user_install.html\">Jupyter\n",
       "  Widgets Documentation</a> for setup instructions.\n",
       "</p>\n",
       "<p>\n",
       "  If you're reading this message in another frontend (for example, a static\n",
       "  rendering on GitHub or <a href=\"https://nbviewer.jupyter.org/\">NBViewer</a>),\n",
       "  it may mean that your frontend doesn't currently support widgets.\n",
       "</p>\n"
      ],
      "text/plain": [
       "HBox(children=(IntProgress(value=1, bar_style='info', max=1), HTML(value='')))"
      ]
     },
     "metadata": {},
     "output_type": "display_data"
    },
    {
     "name": "stdout",
     "output_type": "stream",
     "text": [
      "\n"
     ]
    },
    {
     "data": {
      "application/vnd.jupyter.widget-view+json": {
       "model_id": "00aa6e80ac164c8f91a7e3ff7c849113",
       "version_major": 2,
       "version_minor": 0
      },
      "text/html": [
       "<p>Failed to display Jupyter Widget of type <code>HBox</code>.</p>\n",
       "<p>\n",
       "  If you're reading this message in the Jupyter Notebook or JupyterLab Notebook, it may mean\n",
       "  that the widgets JavaScript is still loading. If this message persists, it\n",
       "  likely means that the widgets JavaScript library is either not installed or\n",
       "  not enabled. See the <a href=\"https://ipywidgets.readthedocs.io/en/stable/user_install.html\">Jupyter\n",
       "  Widgets Documentation</a> for setup instructions.\n",
       "</p>\n",
       "<p>\n",
       "  If you're reading this message in another frontend (for example, a static\n",
       "  rendering on GitHub or <a href=\"https://nbviewer.jupyter.org/\">NBViewer</a>),\n",
       "  it may mean that your frontend doesn't currently support widgets.\n",
       "</p>\n"
      ],
      "text/plain": [
       "HBox(children=(IntProgress(value=1, bar_style='info', max=1), HTML(value='')))"
      ]
     },
     "metadata": {},
     "output_type": "display_data"
    },
    {
     "name": "stdout",
     "output_type": "stream",
     "text": [
      "\n"
     ]
    },
    {
     "data": {
      "application/vnd.jupyter.widget-view+json": {
       "model_id": "1f65359006c74f9481483d1f3c5f975f",
       "version_major": 2,
       "version_minor": 0
      },
      "text/html": [
       "<p>Failed to display Jupyter Widget of type <code>HBox</code>.</p>\n",
       "<p>\n",
       "  If you're reading this message in the Jupyter Notebook or JupyterLab Notebook, it may mean\n",
       "  that the widgets JavaScript is still loading. If this message persists, it\n",
       "  likely means that the widgets JavaScript library is either not installed or\n",
       "  not enabled. See the <a href=\"https://ipywidgets.readthedocs.io/en/stable/user_install.html\">Jupyter\n",
       "  Widgets Documentation</a> for setup instructions.\n",
       "</p>\n",
       "<p>\n",
       "  If you're reading this message in another frontend (for example, a static\n",
       "  rendering on GitHub or <a href=\"https://nbviewer.jupyter.org/\">NBViewer</a>),\n",
       "  it may mean that your frontend doesn't currently support widgets.\n",
       "</p>\n"
      ],
      "text/plain": [
       "HBox(children=(IntProgress(value=1, bar_style='info', max=1), HTML(value='')))"
      ]
     },
     "metadata": {},
     "output_type": "display_data"
    },
    {
     "name": "stdout",
     "output_type": "stream",
     "text": [
      "\n"
     ]
    },
    {
     "data": {
      "application/vnd.jupyter.widget-view+json": {
       "model_id": "0a603c943786442481d2b29b532529e5",
       "version_major": 2,
       "version_minor": 0
      },
      "text/html": [
       "<p>Failed to display Jupyter Widget of type <code>HBox</code>.</p>\n",
       "<p>\n",
       "  If you're reading this message in the Jupyter Notebook or JupyterLab Notebook, it may mean\n",
       "  that the widgets JavaScript is still loading. If this message persists, it\n",
       "  likely means that the widgets JavaScript library is either not installed or\n",
       "  not enabled. See the <a href=\"https://ipywidgets.readthedocs.io/en/stable/user_install.html\">Jupyter\n",
       "  Widgets Documentation</a> for setup instructions.\n",
       "</p>\n",
       "<p>\n",
       "  If you're reading this message in another frontend (for example, a static\n",
       "  rendering on GitHub or <a href=\"https://nbviewer.jupyter.org/\">NBViewer</a>),\n",
       "  it may mean that your frontend doesn't currently support widgets.\n",
       "</p>\n"
      ],
      "text/plain": [
       "HBox(children=(IntProgress(value=1, bar_style='info', max=1), HTML(value='')))"
      ]
     },
     "metadata": {},
     "output_type": "display_data"
    },
    {
     "name": "stdout",
     "output_type": "stream",
     "text": [
      "\n"
     ]
    },
    {
     "data": {
      "application/vnd.jupyter.widget-view+json": {
       "model_id": "73a2af4943d54502afd44fd02fb71429",
       "version_major": 2,
       "version_minor": 0
      },
      "text/html": [
       "<p>Failed to display Jupyter Widget of type <code>HBox</code>.</p>\n",
       "<p>\n",
       "  If you're reading this message in the Jupyter Notebook or JupyterLab Notebook, it may mean\n",
       "  that the widgets JavaScript is still loading. If this message persists, it\n",
       "  likely means that the widgets JavaScript library is either not installed or\n",
       "  not enabled. See the <a href=\"https://ipywidgets.readthedocs.io/en/stable/user_install.html\">Jupyter\n",
       "  Widgets Documentation</a> for setup instructions.\n",
       "</p>\n",
       "<p>\n",
       "  If you're reading this message in another frontend (for example, a static\n",
       "  rendering on GitHub or <a href=\"https://nbviewer.jupyter.org/\">NBViewer</a>),\n",
       "  it may mean that your frontend doesn't currently support widgets.\n",
       "</p>\n"
      ],
      "text/plain": [
       "HBox(children=(IntProgress(value=1, bar_style='info', max=1), HTML(value='')))"
      ]
     },
     "metadata": {},
     "output_type": "display_data"
    },
    {
     "name": "stdout",
     "output_type": "stream",
     "text": [
      "\n"
     ]
    },
    {
     "data": {
      "application/vnd.jupyter.widget-view+json": {
       "model_id": "27b9b6f934d44f9585f29076718245f1",
       "version_major": 2,
       "version_minor": 0
      },
      "text/html": [
       "<p>Failed to display Jupyter Widget of type <code>HBox</code>.</p>\n",
       "<p>\n",
       "  If you're reading this message in the Jupyter Notebook or JupyterLab Notebook, it may mean\n",
       "  that the widgets JavaScript is still loading. If this message persists, it\n",
       "  likely means that the widgets JavaScript library is either not installed or\n",
       "  not enabled. See the <a href=\"https://ipywidgets.readthedocs.io/en/stable/user_install.html\">Jupyter\n",
       "  Widgets Documentation</a> for setup instructions.\n",
       "</p>\n",
       "<p>\n",
       "  If you're reading this message in another frontend (for example, a static\n",
       "  rendering on GitHub or <a href=\"https://nbviewer.jupyter.org/\">NBViewer</a>),\n",
       "  it may mean that your frontend doesn't currently support widgets.\n",
       "</p>\n"
      ],
      "text/plain": [
       "HBox(children=(IntProgress(value=1, bar_style='info', max=1), HTML(value='')))"
      ]
     },
     "metadata": {},
     "output_type": "display_data"
    },
    {
     "name": "stdout",
     "output_type": "stream",
     "text": [
      "\n"
     ]
    },
    {
     "data": {
      "application/vnd.jupyter.widget-view+json": {
       "model_id": "a4982701a2d0478282d9db14d1742f10",
       "version_major": 2,
       "version_minor": 0
      },
      "text/html": [
       "<p>Failed to display Jupyter Widget of type <code>HBox</code>.</p>\n",
       "<p>\n",
       "  If you're reading this message in the Jupyter Notebook or JupyterLab Notebook, it may mean\n",
       "  that the widgets JavaScript is still loading. If this message persists, it\n",
       "  likely means that the widgets JavaScript library is either not installed or\n",
       "  not enabled. See the <a href=\"https://ipywidgets.readthedocs.io/en/stable/user_install.html\">Jupyter\n",
       "  Widgets Documentation</a> for setup instructions.\n",
       "</p>\n",
       "<p>\n",
       "  If you're reading this message in another frontend (for example, a static\n",
       "  rendering on GitHub or <a href=\"https://nbviewer.jupyter.org/\">NBViewer</a>),\n",
       "  it may mean that your frontend doesn't currently support widgets.\n",
       "</p>\n"
      ],
      "text/plain": [
       "HBox(children=(IntProgress(value=1, bar_style='info', max=1), HTML(value='')))"
      ]
     },
     "metadata": {},
     "output_type": "display_data"
    },
    {
     "name": "stdout",
     "output_type": "stream",
     "text": [
      "\n"
     ]
    },
    {
     "data": {
      "application/vnd.jupyter.widget-view+json": {
       "model_id": "0971a8e4f525450c8aca6414d30812fb",
       "version_major": 2,
       "version_minor": 0
      },
      "text/html": [
       "<p>Failed to display Jupyter Widget of type <code>HBox</code>.</p>\n",
       "<p>\n",
       "  If you're reading this message in the Jupyter Notebook or JupyterLab Notebook, it may mean\n",
       "  that the widgets JavaScript is still loading. If this message persists, it\n",
       "  likely means that the widgets JavaScript library is either not installed or\n",
       "  not enabled. See the <a href=\"https://ipywidgets.readthedocs.io/en/stable/user_install.html\">Jupyter\n",
       "  Widgets Documentation</a> for setup instructions.\n",
       "</p>\n",
       "<p>\n",
       "  If you're reading this message in another frontend (for example, a static\n",
       "  rendering on GitHub or <a href=\"https://nbviewer.jupyter.org/\">NBViewer</a>),\n",
       "  it may mean that your frontend doesn't currently support widgets.\n",
       "</p>\n"
      ],
      "text/plain": [
       "HBox(children=(IntProgress(value=1, bar_style='info', max=1), HTML(value='')))"
      ]
     },
     "metadata": {},
     "output_type": "display_data"
    },
    {
     "name": "stdout",
     "output_type": "stream",
     "text": [
      "\n"
     ]
    },
    {
     "data": {
      "application/vnd.jupyter.widget-view+json": {
       "model_id": "f0a346ce63e84618b5d8029f8508ba9a",
       "version_major": 2,
       "version_minor": 0
      },
      "text/html": [
       "<p>Failed to display Jupyter Widget of type <code>HBox</code>.</p>\n",
       "<p>\n",
       "  If you're reading this message in the Jupyter Notebook or JupyterLab Notebook, it may mean\n",
       "  that the widgets JavaScript is still loading. If this message persists, it\n",
       "  likely means that the widgets JavaScript library is either not installed or\n",
       "  not enabled. See the <a href=\"https://ipywidgets.readthedocs.io/en/stable/user_install.html\">Jupyter\n",
       "  Widgets Documentation</a> for setup instructions.\n",
       "</p>\n",
       "<p>\n",
       "  If you're reading this message in another frontend (for example, a static\n",
       "  rendering on GitHub or <a href=\"https://nbviewer.jupyter.org/\">NBViewer</a>),\n",
       "  it may mean that your frontend doesn't currently support widgets.\n",
       "</p>\n"
      ],
      "text/plain": [
       "HBox(children=(IntProgress(value=1, bar_style='info', max=1), HTML(value='')))"
      ]
     },
     "metadata": {},
     "output_type": "display_data"
    },
    {
     "name": "stdout",
     "output_type": "stream",
     "text": [
      "\n"
     ]
    },
    {
     "data": {
      "application/vnd.jupyter.widget-view+json": {
       "model_id": "0fa3423ec9674ffb9ef4851807f0f216",
       "version_major": 2,
       "version_minor": 0
      },
      "text/html": [
       "<p>Failed to display Jupyter Widget of type <code>HBox</code>.</p>\n",
       "<p>\n",
       "  If you're reading this message in the Jupyter Notebook or JupyterLab Notebook, it may mean\n",
       "  that the widgets JavaScript is still loading. If this message persists, it\n",
       "  likely means that the widgets JavaScript library is either not installed or\n",
       "  not enabled. See the <a href=\"https://ipywidgets.readthedocs.io/en/stable/user_install.html\">Jupyter\n",
       "  Widgets Documentation</a> for setup instructions.\n",
       "</p>\n",
       "<p>\n",
       "  If you're reading this message in another frontend (for example, a static\n",
       "  rendering on GitHub or <a href=\"https://nbviewer.jupyter.org/\">NBViewer</a>),\n",
       "  it may mean that your frontend doesn't currently support widgets.\n",
       "</p>\n"
      ],
      "text/plain": [
       "HBox(children=(IntProgress(value=1, bar_style='info', max=1), HTML(value='')))"
      ]
     },
     "metadata": {},
     "output_type": "display_data"
    },
    {
     "name": "stdout",
     "output_type": "stream",
     "text": [
      "\n"
     ]
    },
    {
     "data": {
      "application/vnd.jupyter.widget-view+json": {
       "model_id": "f13e9ea8c5f54391b6902111895f4f9f",
       "version_major": 2,
       "version_minor": 0
      },
      "text/html": [
       "<p>Failed to display Jupyter Widget of type <code>HBox</code>.</p>\n",
       "<p>\n",
       "  If you're reading this message in the Jupyter Notebook or JupyterLab Notebook, it may mean\n",
       "  that the widgets JavaScript is still loading. If this message persists, it\n",
       "  likely means that the widgets JavaScript library is either not installed or\n",
       "  not enabled. See the <a href=\"https://ipywidgets.readthedocs.io/en/stable/user_install.html\">Jupyter\n",
       "  Widgets Documentation</a> for setup instructions.\n",
       "</p>\n",
       "<p>\n",
       "  If you're reading this message in another frontend (for example, a static\n",
       "  rendering on GitHub or <a href=\"https://nbviewer.jupyter.org/\">NBViewer</a>),\n",
       "  it may mean that your frontend doesn't currently support widgets.\n",
       "</p>\n"
      ],
      "text/plain": [
       "HBox(children=(IntProgress(value=1, bar_style='info', max=1), HTML(value='')))"
      ]
     },
     "metadata": {},
     "output_type": "display_data"
    },
    {
     "name": "stdout",
     "output_type": "stream",
     "text": [
      "\n"
     ]
    },
    {
     "data": {
      "application/vnd.jupyter.widget-view+json": {
       "model_id": "06c61977e04a4af18b9f84a480abd3de",
       "version_major": 2,
       "version_minor": 0
      },
      "text/html": [
       "<p>Failed to display Jupyter Widget of type <code>HBox</code>.</p>\n",
       "<p>\n",
       "  If you're reading this message in the Jupyter Notebook or JupyterLab Notebook, it may mean\n",
       "  that the widgets JavaScript is still loading. If this message persists, it\n",
       "  likely means that the widgets JavaScript library is either not installed or\n",
       "  not enabled. See the <a href=\"https://ipywidgets.readthedocs.io/en/stable/user_install.html\">Jupyter\n",
       "  Widgets Documentation</a> for setup instructions.\n",
       "</p>\n",
       "<p>\n",
       "  If you're reading this message in another frontend (for example, a static\n",
       "  rendering on GitHub or <a href=\"https://nbviewer.jupyter.org/\">NBViewer</a>),\n",
       "  it may mean that your frontend doesn't currently support widgets.\n",
       "</p>\n"
      ],
      "text/plain": [
       "HBox(children=(IntProgress(value=1, bar_style='info', max=1), HTML(value='')))"
      ]
     },
     "metadata": {},
     "output_type": "display_data"
    },
    {
     "name": "stdout",
     "output_type": "stream",
     "text": [
      "\n"
     ]
    },
    {
     "data": {
      "application/vnd.jupyter.widget-view+json": {
       "model_id": "bb888b803b4b481188646689970ac11f",
       "version_major": 2,
       "version_minor": 0
      },
      "text/html": [
       "<p>Failed to display Jupyter Widget of type <code>HBox</code>.</p>\n",
       "<p>\n",
       "  If you're reading this message in the Jupyter Notebook or JupyterLab Notebook, it may mean\n",
       "  that the widgets JavaScript is still loading. If this message persists, it\n",
       "  likely means that the widgets JavaScript library is either not installed or\n",
       "  not enabled. See the <a href=\"https://ipywidgets.readthedocs.io/en/stable/user_install.html\">Jupyter\n",
       "  Widgets Documentation</a> for setup instructions.\n",
       "</p>\n",
       "<p>\n",
       "  If you're reading this message in another frontend (for example, a static\n",
       "  rendering on GitHub or <a href=\"https://nbviewer.jupyter.org/\">NBViewer</a>),\n",
       "  it may mean that your frontend doesn't currently support widgets.\n",
       "</p>\n"
      ],
      "text/plain": [
       "HBox(children=(IntProgress(value=1, bar_style='info', max=1), HTML(value='')))"
      ]
     },
     "metadata": {},
     "output_type": "display_data"
    },
    {
     "name": "stdout",
     "output_type": "stream",
     "text": [
      "\n"
     ]
    }
   ],
   "source": [
    "all_dev_result_df = pd.DataFrame(dev_baseline)\n",
    "all_test_result_df = pd.DataFrame(test_baseline)\n",
    "dev_all_marginals_df = pd.DataFrame(dev_baseline_marginals, columns=[\"marginals\", \"label\"]).assign(num_lfs=0)\n",
    "test_all_marginals_df = pd.DataFrame(test_baseline_marginals, columns=[\"marginals\", \"label\"]).assign(num_lfs=0)\n",
    "\n",
    "range_of_sample_sizes = (\n",
    "    list(range(1, correct_L[:,ds_end:].shape[1], 8)) +\n",
    "    [correct_L[:,ds_end:].shape[1]]\n",
    ")\n",
    "\n",
    "lf_sample_keeper, dev_results_df, test_results_df, dev_marginals_df, test_marginals_df = run_random_additional_lfs(\n",
    "    range_of_sample_sizes=range_of_sample_sizes, \n",
    "    range_of_lf_indicies = list(range(ds_end, correct_L.shape[1]+1)),\n",
    "    size_of_sample_pool=correct_L.shape[1]-ds_end,\n",
    "    num_of_samples=num_of_samples,\n",
    "    train=correct_L, \n",
    "    dev=correct_L_dev,\n",
    "    dev_labels=candidate_dfs['dev'].curated_gig.values,\n",
    "    test=correct_L_test,\n",
    "    test_labels=candidate_dfs['test'].curated_gig.values,\n",
    "    grid=regularization_grid,\n",
    "    label_matricies=label_matricies['train'],\n",
    "    train_marginal_dir='data/random_sampling/all/marginals/',\n",
    "    ds_start=ds_start,\n",
    "    ds_end=ds_end,\n",
    ")\n",
    "\n",
    "all_dev_result_df = all_dev_result_df.append(dev_results_df, sort=True)\n",
    "all_test_result_df = all_test_result_df.append(test_results_df, sort=True)\n",
    "dev_all_marginals_df = dev_all_marginals_df.append(dev_marginals_df, sort=True)\n",
    "test_all_marginals_df = test_all_marginals_df.append(test_marginals_df, sort=True)"
   ]
  },
  {
   "cell_type": "code",
   "execution_count": 27,
   "metadata": {
    "ExecuteTime": {
     "end_time": "2019-05-09T14:34:45.271917Z",
     "start_time": "2019-05-09T14:34:32.934823Z"
    }
   },
   "outputs": [],
   "source": [
    "dev_all_marginals_df = (\n",
    "     dev_all_marginals_df\n",
    "     .assign(\n",
    "        frac_correct=(\n",
    "            dev_all_marginals_df\n",
    "            .apply(count_fraction_correct,axis=1)\n",
    "            .values\n",
    "        )\n",
    "    )\n",
    "    .groupby([\"label\", \"num_lfs\"])[\"frac_correct\"]\n",
    "    .agg(pd.np.mean)\n",
    "    .reset_index(level=[\"label\", \"num_lfs\"])\n",
    " )"
   ]
  },
  {
   "cell_type": "code",
   "execution_count": 28,
   "metadata": {
    "ExecuteTime": {
     "end_time": "2019-05-09T14:34:57.722972Z",
     "start_time": "2019-05-09T14:34:45.273486Z"
    }
   },
   "outputs": [],
   "source": [
    "test_all_marginals_df = (\n",
    "    test_all_marginals_df\n",
    "    .assign(\n",
    "        frac_correct=(\n",
    "            test_all_marginals_df\n",
    "            .apply(count_fraction_correct, axis=1)\n",
    "            .values\n",
    "        )\n",
    "    )\n",
    "    .groupby([\"label\", \"num_lfs\"])[\"frac_correct\"]\n",
    "    .agg(pd.np.mean)\n",
    "    .reset_index(level=[\"label\", \"num_lfs\"])\n",
    ")"
   ]
  },
  {
   "cell_type": "markdown",
   "metadata": {},
   "source": [
    "## Dev Set Performance (AUPRC, AUROC)"
   ]
  },
  {
   "cell_type": "code",
   "execution_count": 29,
   "metadata": {
    "ExecuteTime": {
     "end_time": "2019-05-09T14:35:02.904099Z",
     "start_time": "2019-05-09T14:35:02.223537Z"
    }
   },
   "outputs": [
    {
     "name": "stderr",
     "output_type": "stream",
     "text": [
      "/home/danich1/anaconda2/envs/snorkeling/lib/python3.6/site-packages/scipy/stats/stats.py:1713: FutureWarning: Using a non-tuple sequence for multidimensional indexing is deprecated; use `arr[tuple(seq)]` instead of `arr[seq]`. In the future this will be interpreted as an array index, `arr[np.array(seq)]`, which will result either in an error or a different result.\n",
      "  return np.add.reduce(sorted[indexer] * weights, axis=axis) / sumval\n"
     ]
    },
    {
     "data": {
      "text/plain": [
       "<matplotlib.axes._subplots.AxesSubplot at 0x7f3aa29204a8>"
      ]
     },
     "execution_count": 29,
     "metadata": {},
     "output_type": "execute_result"
    },
    {
     "data": {
      "image/png": "[encoded data removed]",
      "text/plain": [
       "<matplotlib.figure.Figure at 0x7f3aa2751358>"
      ]
     },
     "metadata": {},
     "output_type": "display_data"
    }
   ],
   "source": [
    "fig, axs = plt.subplots(ncols=2, figsize=(10, 5))\n",
    "sns.pointplot(x=\"num_lfs\", y=\"AUPRC\", data=all_dev_result_df, ax=axs[0])\n",
    "sns.pointplot(x=\"num_lfs\", y=\"AUROC\", data=all_dev_result_df, ax=axs[1])"
   ]
  },
  {
   "cell_type": "code",
   "execution_count": 30,
   "metadata": {
    "ExecuteTime": {
     "end_time": "2019-05-09T14:35:04.839695Z",
     "start_time": "2019-05-09T14:35:04.592396Z"
    }
   },
   "outputs": [
    {
     "data": {
      "text/plain": [
       "<matplotlib.axes._subplots.AxesSubplot at 0x7f3a9f1afd30>"
      ]
     },
     "execution_count": 30,
     "metadata": {},
     "output_type": "execute_result"
    },
    {
     "data": {
      "image/png": "[encoded data removed]",
      "text/plain": [
       "<matplotlib.figure.Figure at 0x7f3aa29e7630>"
      ]
     },
     "metadata": {},
     "output_type": "display_data"
    }
   ],
   "source": [
    "sns.pointplot(x=\"num_lfs\", y=\"frac_correct\", data=dev_all_marginals_df, hue=\"label\")"
   ]
  },
  {
   "cell_type": "markdown",
   "metadata": {},
   "source": [
    "## Test Set Performance (AUPRC, AUROC)"
   ]
  },
  {
   "cell_type": "code",
   "execution_count": 31,
   "metadata": {
    "ExecuteTime": {
     "end_time": "2019-05-09T14:35:10.556999Z",
     "start_time": "2019-05-09T14:35:07.815888Z"
    }
   },
   "outputs": [
    {
     "name": "stderr",
     "output_type": "stream",
     "text": [
      "/home/danich1/anaconda2/envs/snorkeling/lib/python3.6/site-packages/scipy/stats/stats.py:1713: FutureWarning: Using a non-tuple sequence for multidimensional indexing is deprecated; use `arr[tuple(seq)]` instead of `arr[seq]`. In the future this will be interpreted as an array index, `arr[np.array(seq)]`, which will result either in an error or a different result.\n",
      "  return np.add.reduce(sorted[indexer] * weights, axis=axis) / sumval\n"
     ]
    },
    {
     "data": {
      "text/plain": [
       "<matplotlib.axes._subplots.AxesSubplot at 0x7f3a9f0bb7b8>"
      ]
     },
     "execution_count": 31,
     "metadata": {},
     "output_type": "execute_result"
    },
    {
     "data": {
      "image/png": "[encoded data removed]",
      "text/plain": [
       "<matplotlib.figure.Figure at 0x7f3a9f144fd0>"
      ]
     },
     "metadata": {},
     "output_type": "display_data"
    }
   ],
   "source": [
    "fig, axs = plt.subplots(ncols=2, figsize=(10, 5))\n",
    "sns.pointplot(x=\"num_lfs\", y=\"AUPRC\", data=all_test_result_df, ax=axs[0])\n",
    "sns.pointplot(x=\"num_lfs\", y=\"AUROC\", data=all_test_result_df, ax=axs[1])"
   ]
  },
  {
   "cell_type": "code",
   "execution_count": 32,
   "metadata": {
    "ExecuteTime": {
     "end_time": "2019-05-09T14:35:10.802823Z",
     "start_time": "2019-05-09T14:35:10.558528Z"
    }
   },
   "outputs": [
    {
     "data": {
      "text/plain": [
       "<matplotlib.axes._subplots.AxesSubplot at 0x7f3a9f0f2940>"
      ]
     },
     "execution_count": 32,
     "metadata": {},
     "output_type": "execute_result"
    },
    {
     "data": {
      "image/png": "[encoded data removed]",
      "text/plain": [
       "<matplotlib.figure.Figure at 0x7f3a9f02d4e0>"
      ]
     },
     "metadata": {},
     "output_type": "display_data"
    }
   ],
   "source": [
    "sns.pointplot(x=\"num_lfs\", y=\"frac_correct\", data=test_all_marginals_df, hue=\"label\")"
   ]
  },
  {
   "cell_type": "code",
   "execution_count": 33,
   "metadata": {
    "ExecuteTime": {
     "end_time": "2019-05-09T14:35:10.844774Z",
     "start_time": "2019-05-09T14:35:10.804473Z"
    }
   },
   "outputs": [],
   "source": [
    "all_dev_result_df.to_csv(\n",
    "    \"data/random_sampling/all/dev_sampled_performance.tsv\", \n",
    "    index=False, sep=\"\\t\", float_format=\"%.5g\"\n",
    ")\n",
    "\n",
    "all_test_result_df.to_csv(\n",
    "    \"data/random_sampling/all/test_sampled_performance.tsv\", \n",
    "    index=False, sep=\"\\t\", float_format=\"%.5g\"\n",
    ")"
   ]
  },
  {
   "cell_type": "code",
   "execution_count": 34,
   "metadata": {
    "ExecuteTime": {
     "end_time": "2019-05-09T14:35:10.889334Z",
     "start_time": "2019-05-09T14:35:10.847130Z"
    }
   },
   "outputs": [],
   "source": [
    "dev_all_marginals_df.to_csv(\n",
    "    \"data/random_sampling/all/dev_sampled_marginals.tsv\", \n",
    "    index=False, sep=\"\\t\", float_format=\"%.5g\"\n",
    ")\n",
    "\n",
    "test_all_marginals_df.to_csv(\n",
    "    \"data/random_sampling/all/test_sampled_marginals.tsv\", \n",
    "    index=False, sep=\"\\t\", float_format=\"%.5g\"\n",
    ")"
   ]
  }
 ],
 "metadata": {
  "kernelspec": {
   "display_name": "Python [conda env:snorkeling]",
   "language": "python",
   "name": "conda-env-snorkeling-py"
  },
  "language_info": {
   "codemirror_mode": {
    "name": "ipython",
    "version": 3
   },
   "file_extension": ".py",
   "mimetype": "text/x-python",
   "name": "python",
   "nbconvert_exporter": "python",
   "pygments_lexer": "ipython3",
   "version": "3.6.4"
  }
 },
 "nbformat": 4,
 "nbformat_minor": 2
}
