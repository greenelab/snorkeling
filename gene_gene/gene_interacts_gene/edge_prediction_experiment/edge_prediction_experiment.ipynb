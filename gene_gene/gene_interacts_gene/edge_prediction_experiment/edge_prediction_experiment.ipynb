{
 "cells": [
  {
   "cell_type": "markdown",
   "metadata": {},
   "source": [
    "# Compound Binds Gene Edge Prediction"
   ]
  },
  {
   "cell_type": "markdown",
   "metadata": {},
   "source": [
    "This notebook is designed to take the next step moving from predicted sentences to edge predictions. After training the discriminator model, each sentences contains a confidence score for the likelihood of mentioning a relationship. Multiple relationships contain multiple sentences, which makes establishing an edge unintuitive. Is taking the max score appropiate for determining existence of an edge? Does taking the mean of each relationship make more sense? The answer towards these questions are shown below."
   ]
  },
  {
   "cell_type": "code",
   "execution_count": 1,
   "metadata": {
    "ExecuteTime": {
     "end_time": "2019-07-21T17:47:55.983868Z",
     "start_time": "2019-07-21T17:47:55.379658Z"
    }
   },
   "outputs": [],
   "source": [
    "%load_ext autoreload\n",
    "%autoreload 2\n",
    "%matplotlib inline\n",
    "\n",
    "import pandas as pd\n",
    "from sklearn.metrics import precision_recall_curve, roc_curve, auc\n",
    "import seaborn as sns\n",
    "import matplotlib.pyplot as plt\n",
    "from tqdm import tqdm_notebook"
   ]
  },
  {
   "cell_type": "code",
   "execution_count": 2,
   "metadata": {
    "ExecuteTime": {
     "end_time": "2019-07-21T17:49:14.240515Z",
     "start_time": "2019-07-21T17:47:55.985251Z"
    }
   },
   "outputs": [
    {
     "name": "stderr",
     "output_type": "stream",
     "text": [
      "/home/danich1/anaconda2/envs/snorkeling/lib/python3.6/site-packages/IPython/core/interactiveshell.py:2785: DtypeWarning: Columns (4) have mixed types. Specify dtype option on import or set low_memory=False.\n",
      "  interactivity=interactivity, compiler=compiler, result=result)\n"
     ]
    },
    {
     "data": {
      "text/html": [
       "<div>\n",
       "<style scoped>\n",
       "    .dataframe tbody tr th:only-of-type {\n",
       "        vertical-align: middle;\n",
       "    }\n",
       "\n",
       "    .dataframe tbody tr th {\n",
       "        vertical-align: top;\n",
       "    }\n",
       "\n",
       "    .dataframe thead th {\n",
       "        text-align: right;\n",
       "    }\n",
       "</style>\n",
       "<table border=\"1\" class=\"dataframe\">\n",
       "  <thead>\n",
       "    <tr style=\"text-align: right;\">\n",
       "      <th></th>\n",
       "      <th>gene1_id</th>\n",
       "      <th>gene1_name</th>\n",
       "      <th>gene2_id</th>\n",
       "      <th>gene2_name</th>\n",
       "      <th>sources</th>\n",
       "      <th>n_sentences</th>\n",
       "      <th>hetionet</th>\n",
       "      <th>has_sentence</th>\n",
       "      <th>split</th>\n",
       "      <th>partition_rank</th>\n",
       "      <th>compound_mention_count</th>\n",
       "      <th>disease_mention_count</th>\n",
       "      <th>gene_mention_count</th>\n",
       "      <th>sentence_id</th>\n",
       "      <th>text</th>\n",
       "      <th>sen_length</th>\n",
       "      <th>candidate_id</th>\n",
       "    </tr>\n",
       "  </thead>\n",
       "  <tbody>\n",
       "    <tr>\n",
       "      <th>10815688</th>\n",
       "      <td>2796</td>\n",
       "      <td>GNRH1</td>\n",
       "      <td>2796</td>\n",
       "      <td>GNRH1</td>\n",
       "      <td>NaN</td>\n",
       "      <td>9310</td>\n",
       "      <td>0</td>\n",
       "      <td>1</td>\n",
       "      <td>3</td>\n",
       "      <td>0.415835</td>\n",
       "      <td>1.0</td>\n",
       "      <td>0.0</td>\n",
       "      <td>2</td>\n",
       "      <td>274809</td>\n",
       "      <td>Correlation between leuteinizing hormone respo...</td>\n",
       "      <td>20</td>\n",
       "      <td>25627</td>\n",
       "    </tr>\n",
       "    <tr>\n",
       "      <th>3285545</th>\n",
       "      <td>3976</td>\n",
       "      <td>LIF</td>\n",
       "      <td>3976</td>\n",
       "      <td>LIF</td>\n",
       "      <td>NaN</td>\n",
       "      <td>2732</td>\n",
       "      <td>0</td>\n",
       "      <td>1</td>\n",
       "      <td>3</td>\n",
       "      <td>0.117900</td>\n",
       "      <td>0.0</td>\n",
       "      <td>0.0</td>\n",
       "      <td>2</td>\n",
       "      <td>622251</td>\n",
       "      <td>The production of heterologous antibodies to t...</td>\n",
       "      <td>17</td>\n",
       "      <td>25628</td>\n",
       "    </tr>\n",
       "  </tbody>\n",
       "</table>\n",
       "</div>"
      ],
      "text/plain": [
       "          gene1_id gene1_name  gene2_id gene2_name sources  n_sentences  \\\n",
       "10815688      2796      GNRH1      2796      GNRH1     NaN         9310   \n",
       "3285545       3976        LIF      3976        LIF     NaN         2732   \n",
       "\n",
       "          hetionet  has_sentence  split  partition_rank  \\\n",
       "10815688         0             1      3        0.415835   \n",
       "3285545          0             1      3        0.117900   \n",
       "\n",
       "          compound_mention_count  disease_mention_count  gene_mention_count  \\\n",
       "10815688                     1.0                    0.0                   2   \n",
       "3285545                      0.0                    0.0                   2   \n",
       "\n",
       "          sentence_id                                               text  \\\n",
       "10815688       274809  Correlation between leuteinizing hormone respo...   \n",
       "3285545        622251  The production of heterologous antibodies to t...   \n",
       "\n",
       "          sen_length  candidate_id  \n",
       "10815688          20         25627  \n",
       "3285545           17         25628  "
      ]
     },
     "execution_count": 2,
     "metadata": {},
     "output_type": "execute_result"
    }
   ],
   "source": [
    "total_candidates_df = (\n",
    "    pd\n",
    "    .read_table(\"../dataset_statistics/results/all_gig_candidates.tsv.xz\")\n",
    "    .sort_values(\"candidate_id\")\n",
    ")\n",
    "total_candidates_df.head(2)"
   ]
  },
  {
   "cell_type": "code",
   "execution_count": 3,
   "metadata": {
    "ExecuteTime": {
     "end_time": "2019-07-21T17:49:22.038836Z",
     "start_time": "2019-07-21T17:49:14.242059Z"
    }
   },
   "outputs": [
    {
     "data": {
      "text/html": [
       "<div>\n",
       "<style scoped>\n",
       "    .dataframe tbody tr th:only-of-type {\n",
       "        vertical-align: middle;\n",
       "    }\n",
       "\n",
       "    .dataframe tbody tr th {\n",
       "        vertical-align: top;\n",
       "    }\n",
       "\n",
       "    .dataframe thead th {\n",
       "        text-align: right;\n",
       "    }\n",
       "</style>\n",
       "<table border=\"1\" class=\"dataframe\">\n",
       "  <thead>\n",
       "    <tr style=\"text-align: right;\">\n",
       "      <th></th>\n",
       "      <th>candidate_id</th>\n",
       "      <th>model_prediction</th>\n",
       "    </tr>\n",
       "  </thead>\n",
       "  <tbody>\n",
       "    <tr>\n",
       "      <th>0</th>\n",
       "      <td>25627</td>\n",
       "      <td>0.402652</td>\n",
       "    </tr>\n",
       "    <tr>\n",
       "      <th>1</th>\n",
       "      <td>25628</td>\n",
       "      <td>0.306613</td>\n",
       "    </tr>\n",
       "  </tbody>\n",
       "</table>\n",
       "</div>"
      ],
      "text/plain": [
       "   candidate_id  model_prediction\n",
       "0         25627          0.402652\n",
       "1         25628          0.306613"
      ]
     },
     "execution_count": 3,
     "metadata": {},
     "output_type": "execute_result"
    }
   ],
   "source": [
    "sentence_prediction_df = (\n",
    "    pd\n",
    "    .read_table(\"results/all_predicted_sentences.tsv.xz\")\n",
    "    .sort_values(\"candidate_id\")\n",
    ")\n",
    "sentence_prediction_df.head(2)"
   ]
  },
  {
   "cell_type": "code",
   "execution_count": 4,
   "metadata": {
    "ExecuteTime": {
     "end_time": "2019-07-21T18:02:22.143867Z",
     "start_time": "2019-07-21T17:49:22.041224Z"
    }
   },
   "outputs": [
    {
     "data": {
      "text/html": [
       "<div>\n",
       "<style scoped>\n",
       "    .dataframe tbody tr th:only-of-type {\n",
       "        vertical-align: middle;\n",
       "    }\n",
       "\n",
       "    .dataframe tbody tr th {\n",
       "        vertical-align: top;\n",
       "    }\n",
       "\n",
       "    .dataframe thead th {\n",
       "        text-align: right;\n",
       "    }\n",
       "</style>\n",
       "<table border=\"1\" class=\"dataframe\">\n",
       "  <thead>\n",
       "    <tr style=\"text-align: right;\">\n",
       "      <th></th>\n",
       "      <th>gene1_id</th>\n",
       "      <th>gene1_name</th>\n",
       "      <th>gene2_id</th>\n",
       "      <th>gene2_name</th>\n",
       "      <th>text</th>\n",
       "      <th>hetionet</th>\n",
       "      <th>candidate_id</th>\n",
       "      <th>model_prediction</th>\n",
       "    </tr>\n",
       "  </thead>\n",
       "  <tbody>\n",
       "    <tr>\n",
       "      <th>0</th>\n",
       "      <td>2796</td>\n",
       "      <td>GNRH1</td>\n",
       "      <td>2796</td>\n",
       "      <td>GNRH1</td>\n",
       "      <td>Correlation between leuteinizing hormone respo...</td>\n",
       "      <td>0</td>\n",
       "      <td>25627</td>\n",
       "      <td>0.402652</td>\n",
       "    </tr>\n",
       "    <tr>\n",
       "      <th>1</th>\n",
       "      <td>3976</td>\n",
       "      <td>LIF</td>\n",
       "      <td>3976</td>\n",
       "      <td>LIF</td>\n",
       "      <td>The production of heterologous antibodies to t...</td>\n",
       "      <td>0</td>\n",
       "      <td>25628</td>\n",
       "      <td>0.306613</td>\n",
       "    </tr>\n",
       "  </tbody>\n",
       "</table>\n",
       "</div>"
      ],
      "text/plain": [
       "   gene1_id gene1_name  gene2_id gene2_name  \\\n",
       "0      2796      GNRH1      2796      GNRH1   \n",
       "1      3976        LIF      3976        LIF   \n",
       "\n",
       "                                                text  hetionet  candidate_id  \\\n",
       "0  Correlation between leuteinizing hormone respo...         0         25627   \n",
       "1  The production of heterologous antibodies to t...         0         25628   \n",
       "\n",
       "   model_prediction  \n",
       "0          0.402652  \n",
       "1          0.306613  "
      ]
     },
     "execution_count": 4,
     "metadata": {},
     "output_type": "execute_result"
    }
   ],
   "source": [
    "# DataFrame that combines likelihood scores with each candidate sentence\n",
    "total_candidates_pred_df = (\n",
    "    total_candidates_df[[\n",
    "    \"gene1_id\", \"gene1_name\", \n",
    "    \"gene2_id\", \"gene2_name\", \n",
    "    \"text\", \"hetionet\",\n",
    "    \"candidate_id\"\n",
    "    ]]\n",
    "    .merge(sentence_prediction_df, on=\"candidate_id\")\n",
    ")\n",
    "total_candidates_pred_df.to_csv(\n",
    "    \"results/combined_predicted_gig_sentences.tsv.xz\", \n",
    "    sep=\"\\t\", index=False, compression=\"xz\"\n",
    ")\n",
    "total_candidates_pred_df.head(2)"
   ]
  },
  {
   "cell_type": "code",
   "execution_count": 5,
   "metadata": {
    "ExecuteTime": {
     "end_time": "2019-07-15T18:16:09.506951Z",
     "start_time": "2019-07-15T18:16:03.350272Z"
    }
   },
   "outputs": [
    {
     "data": {
      "text/html": [
       "<div>\n",
       "<style scoped>\n",
       "    .dataframe tbody tr th:only-of-type {\n",
       "        vertical-align: middle;\n",
       "    }\n",
       "\n",
       "    .dataframe tbody tr th {\n",
       "        vertical-align: top;\n",
       "    }\n",
       "\n",
       "    .dataframe thead tr th {\n",
       "        text-align: left;\n",
       "    }\n",
       "</style>\n",
       "<table border=\"1\" class=\"dataframe\">\n",
       "  <thead>\n",
       "    <tr>\n",
       "      <th></th>\n",
       "      <th>gene1_id</th>\n",
       "      <th>gene2_id</th>\n",
       "      <th colspan=\"3\" halign=\"left\">model_prediction</th>\n",
       "      <th>hetionet</th>\n",
       "      <th>gene1_name</th>\n",
       "      <th>gene2_name</th>\n",
       "    </tr>\n",
       "    <tr>\n",
       "      <th></th>\n",
       "      <th></th>\n",
       "      <th></th>\n",
       "      <th>max</th>\n",
       "      <th>mean</th>\n",
       "      <th>median</th>\n",
       "      <th>max</th>\n",
       "      <th>first</th>\n",
       "      <th>first</th>\n",
       "    </tr>\n",
       "  </thead>\n",
       "  <tbody>\n",
       "    <tr>\n",
       "      <th>0</th>\n",
       "      <td>1</td>\n",
       "      <td>1</td>\n",
       "      <td>0.552136</td>\n",
       "      <td>0.405666</td>\n",
       "      <td>0.424867</td>\n",
       "      <td>0</td>\n",
       "      <td>A1BG</td>\n",
       "      <td>A1BG</td>\n",
       "    </tr>\n",
       "    <tr>\n",
       "      <th>1</th>\n",
       "      <td>1</td>\n",
       "      <td>2</td>\n",
       "      <td>0.394618</td>\n",
       "      <td>0.394618</td>\n",
       "      <td>0.394618</td>\n",
       "      <td>0</td>\n",
       "      <td>A1BG</td>\n",
       "      <td>A2M</td>\n",
       "    </tr>\n",
       "  </tbody>\n",
       "</table>\n",
       "</div>"
      ],
      "text/plain": [
       "  gene1_id gene2_id model_prediction                     hetionet gene1_name  \\\n",
       "                                 max      mean    median      max      first   \n",
       "0        1        1         0.552136  0.405666  0.424867        0       A1BG   \n",
       "1        1        2         0.394618  0.394618  0.394618        0       A1BG   \n",
       "\n",
       "  gene2_name  \n",
       "       first  \n",
       "0       A1BG  \n",
       "1        A2M  "
      ]
     },
     "execution_count": 5,
     "metadata": {},
     "output_type": "execute_result"
    }
   ],
   "source": [
    "# DataFrame that groups gene mentions together and takes\n",
    "# the max, median and mean of each group\n",
    "grouped_candidates_pred_df=(\n",
    "    total_candidates_pred_df\n",
    "    .groupby([\"gene1_id\", \"gene2_id\"], as_index=False)\n",
    "    .agg({\n",
    "        \"model_prediction\": ['max', 'mean', 'median'], \n",
    "        'hetionet': 'max',\n",
    "        \"gene1_name\": 'first',\n",
    "        \"gene2_name\": 'first'\n",
    "    })\n",
    ")\n",
    "grouped_candidates_pred_df.head(2)"
   ]
  },
  {
   "cell_type": "code",
   "execution_count": 6,
   "metadata": {
    "ExecuteTime": {
     "end_time": "2019-07-15T18:16:09.530061Z",
     "start_time": "2019-07-15T18:16:09.509770Z"
    }
   },
   "outputs": [
    {
     "data": {
      "text/html": [
       "<div>\n",
       "<style scoped>\n",
       "    .dataframe tbody tr th:only-of-type {\n",
       "        vertical-align: middle;\n",
       "    }\n",
       "\n",
       "    .dataframe tbody tr th {\n",
       "        vertical-align: top;\n",
       "    }\n",
       "\n",
       "    .dataframe thead th {\n",
       "        text-align: right;\n",
       "    }\n",
       "</style>\n",
       "<table border=\"1\" class=\"dataframe\">\n",
       "  <thead>\n",
       "    <tr style=\"text-align: right;\">\n",
       "      <th></th>\n",
       "      <th>gene1_id</th>\n",
       "      <th>gene2_id</th>\n",
       "      <th>model_prediction_max</th>\n",
       "      <th>model_prediction_mean</th>\n",
       "      <th>model_prediction_median</th>\n",
       "      <th>hetionet</th>\n",
       "      <th>gene1_name</th>\n",
       "      <th>gene2_name</th>\n",
       "    </tr>\n",
       "  </thead>\n",
       "  <tbody>\n",
       "    <tr>\n",
       "      <th>0</th>\n",
       "      <td>1</td>\n",
       "      <td>1</td>\n",
       "      <td>0.552136</td>\n",
       "      <td>0.405666</td>\n",
       "      <td>0.424867</td>\n",
       "      <td>0</td>\n",
       "      <td>A1BG</td>\n",
       "      <td>A1BG</td>\n",
       "    </tr>\n",
       "    <tr>\n",
       "      <th>1</th>\n",
       "      <td>1</td>\n",
       "      <td>2</td>\n",
       "      <td>0.394618</td>\n",
       "      <td>0.394618</td>\n",
       "      <td>0.394618</td>\n",
       "      <td>0</td>\n",
       "      <td>A1BG</td>\n",
       "      <td>A2M</td>\n",
       "    </tr>\n",
       "  </tbody>\n",
       "</table>\n",
       "</div>"
      ],
      "text/plain": [
       "   gene1_id  gene2_id  model_prediction_max  model_prediction_mean  \\\n",
       "0         1         1              0.552136               0.405666   \n",
       "1         1         2              0.394618               0.394618   \n",
       "\n",
       "   model_prediction_median  hetionet gene1_name gene2_name  \n",
       "0                 0.424867         0       A1BG       A1BG  \n",
       "1                 0.394618         0       A1BG        A2M  "
      ]
     },
     "execution_count": 6,
     "metadata": {},
     "output_type": "execute_result"
    }
   ],
   "source": [
    "grouped_candidates_pred_df.columns = [\n",
    "    \"_\".join(col) \n",
    "    if col[1] != '' and col[0] not in ['hetionet', 'gene1_name', 'gene2_name'] else col[0] \n",
    "    for col in grouped_candidates_pred_df.columns.values\n",
    "]\n",
    "grouped_candidates_pred_df.head(2)"
   ]
  },
  {
   "cell_type": "code",
   "execution_count": 7,
   "metadata": {
    "ExecuteTime": {
     "end_time": "2019-07-15T18:16:09.555249Z",
     "start_time": "2019-07-15T18:16:09.531546Z"
    }
   },
   "outputs": [
    {
     "data": {
      "text/plain": [
       "0    1084790\n",
       "1      29558\n",
       "Name: hetionet, dtype: int64"
      ]
     },
     "execution_count": 7,
     "metadata": {},
     "output_type": "execute_result"
    }
   ],
   "source": [
    "grouped_candidates_pred_df.hetionet.value_counts()"
   ]
  },
  {
   "cell_type": "code",
   "execution_count": 8,
   "metadata": {
    "ExecuteTime": {
     "end_time": "2019-07-15T18:16:09.569166Z",
     "start_time": "2019-07-15T18:16:09.556881Z"
    }
   },
   "outputs": [],
   "source": [
    "performance_map = {}"
   ]
  },
  {
   "cell_type": "code",
   "execution_count": 9,
   "metadata": {
    "ExecuteTime": {
     "end_time": "2019-07-15T18:16:09.993517Z",
     "start_time": "2019-07-15T18:16:09.570794Z"
    }
   },
   "outputs": [],
   "source": [
    "precision, recall, pr_threshold = precision_recall_curve(\n",
    "    grouped_candidates_pred_df.hetionet, \n",
    "    grouped_candidates_pred_df.model_prediction_max,\n",
    ")\n",
    "\n",
    "fpr, tpr, roc_threshold = roc_curve(\n",
    "    grouped_candidates_pred_df.hetionet, \n",
    "    grouped_candidates_pred_df.model_prediction_max,\n",
    ")\n",
    "\n",
    "performance_map['max'] = {\n",
    "    \"precision\":precision, \"recall\":recall, \n",
    "    \"pr_threshold\":pr_threshold, \"false_pos\":fpr,\n",
    "    \"true_pos\":tpr, \"roc_threshold\":roc_threshold, \n",
    "}"
   ]
  },
  {
   "cell_type": "code",
   "execution_count": 10,
   "metadata": {
    "ExecuteTime": {
     "end_time": "2019-07-15T18:16:10.404752Z",
     "start_time": "2019-07-15T18:16:09.996828Z"
    }
   },
   "outputs": [],
   "source": [
    "precision, recall, pr_threshold = precision_recall_curve(\n",
    "    grouped_candidates_pred_df.hetionet, \n",
    "    grouped_candidates_pred_df.model_prediction_mean,\n",
    ")\n",
    "\n",
    "fpr, tpr, roc_threshold = roc_curve(\n",
    "    grouped_candidates_pred_df.hetionet, \n",
    "    grouped_candidates_pred_df.model_prediction_mean,\n",
    ")\n",
    "\n",
    "performance_map['mean'] = {\n",
    "    \"precision\":precision, \"recall\":recall, \n",
    "    \"pr_threshold\":pr_threshold, \"false_pos\":fpr,\n",
    "    \"true_pos\":tpr, \"roc_threshold\":roc_threshold, \n",
    "}"
   ]
  },
  {
   "cell_type": "code",
   "execution_count": 11,
   "metadata": {
    "ExecuteTime": {
     "end_time": "2019-07-15T18:16:10.836089Z",
     "start_time": "2019-07-15T18:16:10.408785Z"
    }
   },
   "outputs": [],
   "source": [
    "precision, recall, pr_threshold = precision_recall_curve(\n",
    "    grouped_candidates_pred_df.hetionet, \n",
    "    grouped_candidates_pred_df.model_prediction_median,\n",
    ")\n",
    "\n",
    "fpr, tpr, roc_threshold = roc_curve(\n",
    "    grouped_candidates_pred_df.hetionet, \n",
    "    grouped_candidates_pred_df.model_prediction_median,\n",
    ")\n",
    "\n",
    "performance_map['median'] = {\n",
    "    \"precision\":precision, \"recall\":recall, \n",
    "    \"pr_threshold\":pr_threshold, \"false_pos\":fpr,\n",
    "    \"true_pos\":tpr, \"roc_threshold\":roc_threshold, \n",
    "}"
   ]
  },
  {
   "cell_type": "code",
   "execution_count": 12,
   "metadata": {
    "ExecuteTime": {
     "end_time": "2019-07-15T18:16:11.269446Z",
     "start_time": "2019-07-15T18:16:10.838511Z"
    }
   },
   "outputs": [
    {
     "data": {
      "image/png": "[encoded data removed]",
      "text/plain": [
       "<matplotlib.figure.Figure at 0x7fc0f44e3208>"
      ]
     },
     "metadata": {},
     "output_type": "display_data"
    }
   ],
   "source": [
    "for key in performance_map:\n",
    "    plt.plot(\n",
    "        performance_map[key]['false_pos'], \n",
    "        performance_map[key]['true_pos'], \n",
    "        label=f\"{key}:AUC ({auc(performance_map[key]['false_pos'], performance_map[key]['true_pos']):.3f})\"\n",
    "    )\n",
    "plt.plot([0,1], [0,1], linestyle='--', color='black')\n",
    "plt.legend()\n",
    "plt.show()"
   ]
  },
  {
   "cell_type": "code",
   "execution_count": 13,
   "metadata": {
    "ExecuteTime": {
     "end_time": "2019-07-15T18:16:11.524837Z",
     "start_time": "2019-07-15T18:16:11.271038Z"
    }
   },
   "outputs": [
    {
     "name": "stderr",
     "output_type": "stream",
     "text": [
      "/home/danich1/anaconda2/envs/snorkeling/lib/python3.6/site-packages/ipykernel/__main__.py:18: DeprecationWarning: \n",
      ".ix is deprecated. Please use\n",
      ".loc for label based indexing or\n",
      ".iloc for positional indexing\n",
      "\n",
      "See the documentation here:\n",
      "http://pandas.pydata.org/pandas-docs/stable/indexing.html#ix-indexer-is-deprecated\n"
     ]
    },
    {
     "data": {
      "text/plain": [
       "0.4584722"
      ]
     },
     "execution_count": 13,
     "metadata": {},
     "output_type": "execute_result"
    }
   ],
   "source": [
    "# https://stackoverflow.com/questions/28719067/roc-curve-and-cut-off-point-python\n",
    "def Find_Optimal_Cutoff(target, predicted):\n",
    "    \"\"\" Find the optimal probability cutoff point for a classification model related to event rate\n",
    "    Parameters\n",
    "    ----------\n",
    "    target : Matrix with dependent or target data, where rows are observations\n",
    "\n",
    "    predicted : Matrix with predicted data, where rows are observations\n",
    "\n",
    "    Returns\n",
    "    -------     \n",
    "    list type, with optimal cutoff value\n",
    "\n",
    "    \"\"\"\n",
    "    fpr, tpr, threshold = roc_curve(target, predicted)\n",
    "    i = pd.np.arange(len(tpr)) \n",
    "    roc = pd.DataFrame({'tf' : pd.Series(tpr-(1-fpr), index=i), 'threshold' : pd.Series(threshold, index=i)})\n",
    "    roc_t = roc.ix[(roc.tf-0).abs().argsort()[:1]]\n",
    "\n",
    "    return list(roc_t['threshold']) \n",
    "roc_optimal = Find_Optimal_Cutoff(grouped_candidates_pred_df.hetionet.values, grouped_candidates_pred_df.model_prediction_max)[0]\n",
    "roc_optimal"
   ]
  },
  {
   "cell_type": "code",
   "execution_count": 14,
   "metadata": {
    "ExecuteTime": {
     "end_time": "2019-07-15T18:16:12.453351Z",
     "start_time": "2019-07-15T18:16:11.526346Z"
    }
   },
   "outputs": [
    {
     "data": {
      "image/png": "[encoded data removed]",
      "text/plain": [
       "<matplotlib.figure.Figure at 0x7fc0f63600b8>"
      ]
     },
     "metadata": {},
     "output_type": "display_data"
    }
   ],
   "source": [
    "for key in performance_map:\n",
    "    plt.plot(\n",
    "        performance_map[key]['recall'], \n",
    "        performance_map[key]['precision'], \n",
    "        label=f\"{key}:AUC ({auc(performance_map[key]['recall'], performance_map[key]['precision']):.3f})\"\n",
    "    )\n",
    "\n",
    "plt.legend()\n",
    "plt.show()"
   ]
  },
  {
   "cell_type": "markdown",
   "metadata": {},
   "source": [
    "# Optimal PR-Cutoff"
   ]
  },
  {
   "cell_type": "code",
   "execution_count": 15,
   "metadata": {
    "ExecuteTime": {
     "end_time": "2019-07-15T18:16:12.927751Z",
     "start_time": "2019-07-15T18:16:12.454758Z"
    }
   },
   "outputs": [
    {
     "data": {
      "text/html": [
       "<div>\n",
       "<style scoped>\n",
       "    .dataframe tbody tr th:only-of-type {\n",
       "        vertical-align: middle;\n",
       "    }\n",
       "\n",
       "    .dataframe tbody tr th {\n",
       "        vertical-align: top;\n",
       "    }\n",
       "\n",
       "    .dataframe thead th {\n",
       "        text-align: right;\n",
       "    }\n",
       "</style>\n",
       "<table border=\"1\" class=\"dataframe\">\n",
       "  <thead>\n",
       "    <tr style=\"text-align: right;\">\n",
       "      <th></th>\n",
       "      <th>precision</th>\n",
       "      <th>recall</th>\n",
       "      <th>pr_threshold</th>\n",
       "    </tr>\n",
       "  </thead>\n",
       "  <tbody>\n",
       "    <tr>\n",
       "      <th>983163</th>\n",
       "      <td>0.473684</td>\n",
       "      <td>0.000304</td>\n",
       "      <td>0.606570</td>\n",
       "    </tr>\n",
       "    <tr>\n",
       "      <th>983165</th>\n",
       "      <td>0.470588</td>\n",
       "      <td>0.000271</td>\n",
       "      <td>0.607318</td>\n",
       "    </tr>\n",
       "  </tbody>\n",
       "</table>\n",
       "</div>"
      ],
      "text/plain": [
       "        precision    recall  pr_threshold\n",
       "983163   0.473684  0.000304      0.606570\n",
       "983165   0.470588  0.000271      0.607318"
      ]
     },
     "execution_count": 15,
     "metadata": {},
     "output_type": "execute_result"
    }
   ],
   "source": [
    "threshold_df = (\n",
    "    pd.DataFrame(\n",
    "        list(\n",
    "            zip(\n",
    "                performance_map['max']['precision'], \n",
    "                performance_map['max']['recall'], \n",
    "                performance_map['max']['pr_threshold']\n",
    "            )\n",
    "        ),\n",
    "        columns=[\"precision\", \"recall\", \"pr_threshold\"]\n",
    "    )\n",
    "    .sort_values(\"precision\", ascending=False)\n",
    ")\n",
    "threshold_df.head(2)"
   ]
  },
  {
   "cell_type": "code",
   "execution_count": 16,
   "metadata": {
    "ExecuteTime": {
     "end_time": "2019-07-15T18:16:13.688870Z",
     "start_time": "2019-07-15T18:16:12.929577Z"
    }
   },
   "outputs": [
    {
     "data": {
      "application/vnd.jupyter.widget-view+json": {
       "model_id": "e4f5442810ae42919432b8597bd8f74f",
       "version_major": 2,
       "version_minor": 0
      },
      "text/html": [
       "<p>Failed to display Jupyter Widget of type <code>HBox</code>.</p>\n",
       "<p>\n",
       "  If you're reading this message in the Jupyter Notebook or JupyterLab Notebook, it may mean\n",
       "  that the widgets JavaScript is still loading. If this message persists, it\n",
       "  likely means that the widgets JavaScript library is either not installed or\n",
       "  not enabled. See the <a href=\"https://ipywidgets.readthedocs.io/en/stable/user_install.html\">Jupyter\n",
       "  Widgets Documentation</a> for setup instructions.\n",
       "</p>\n",
       "<p>\n",
       "  If you're reading this message in another frontend (for example, a static\n",
       "  rendering on GitHub or <a href=\"https://nbviewer.jupyter.org/\">NBViewer</a>),\n",
       "  it may mean that your frontend doesn't currently support widgets.\n",
       "</p>\n"
      ],
      "text/plain": [
       "HBox(children=(IntProgress(value=0, max=45), HTML(value='')))"
      ]
     },
     "metadata": {},
     "output_type": "display_data"
    },
    {
     "name": "stdout",
     "output_type": "stream",
     "text": [
      "\n"
     ]
    },
    {
     "data": {
      "text/html": [
       "<div>\n",
       "<style scoped>\n",
       "    .dataframe tbody tr th:only-of-type {\n",
       "        vertical-align: middle;\n",
       "    }\n",
       "\n",
       "    .dataframe tbody tr th {\n",
       "        vertical-align: top;\n",
       "    }\n",
       "\n",
       "    .dataframe thead th {\n",
       "        text-align: right;\n",
       "    }\n",
       "</style>\n",
       "<table border=\"1\" class=\"dataframe\">\n",
       "  <thead>\n",
       "    <tr style=\"text-align: right;\">\n",
       "      <th></th>\n",
       "      <th>edges</th>\n",
       "      <th>in_hetionet</th>\n",
       "      <th>precision</th>\n",
       "      <th>sen_cutoff</th>\n",
       "    </tr>\n",
       "  </thead>\n",
       "  <tbody>\n",
       "    <tr>\n",
       "      <th>0</th>\n",
       "      <td>10</td>\n",
       "      <td>Novel</td>\n",
       "      <td>0.47</td>\n",
       "      <td>0.606570</td>\n",
       "    </tr>\n",
       "    <tr>\n",
       "      <th>1</th>\n",
       "      <td>9</td>\n",
       "      <td>Existing</td>\n",
       "      <td>0.47</td>\n",
       "      <td>0.606570</td>\n",
       "    </tr>\n",
       "    <tr>\n",
       "      <th>2</th>\n",
       "      <td>11</td>\n",
       "      <td>Novel</td>\n",
       "      <td>0.45</td>\n",
       "      <td>0.606469</td>\n",
       "    </tr>\n",
       "    <tr>\n",
       "      <th>3</th>\n",
       "      <td>9</td>\n",
       "      <td>Existing</td>\n",
       "      <td>0.45</td>\n",
       "      <td>0.606469</td>\n",
       "    </tr>\n",
       "    <tr>\n",
       "      <th>4</th>\n",
       "      <td>11</td>\n",
       "      <td>Novel</td>\n",
       "      <td>0.44</td>\n",
       "      <td>0.606469</td>\n",
       "    </tr>\n",
       "    <tr>\n",
       "      <th>5</th>\n",
       "      <td>9</td>\n",
       "      <td>Existing</td>\n",
       "      <td>0.44</td>\n",
       "      <td>0.606469</td>\n",
       "    </tr>\n",
       "    <tr>\n",
       "      <th>6</th>\n",
       "      <td>11</td>\n",
       "      <td>Novel</td>\n",
       "      <td>0.43</td>\n",
       "      <td>0.606469</td>\n",
       "    </tr>\n",
       "    <tr>\n",
       "      <th>7</th>\n",
       "      <td>9</td>\n",
       "      <td>Existing</td>\n",
       "      <td>0.43</td>\n",
       "      <td>0.606469</td>\n",
       "    </tr>\n",
       "    <tr>\n",
       "      <th>8</th>\n",
       "      <td>12</td>\n",
       "      <td>Novel</td>\n",
       "      <td>0.42</td>\n",
       "      <td>0.606251</td>\n",
       "    </tr>\n",
       "    <tr>\n",
       "      <th>9</th>\n",
       "      <td>9</td>\n",
       "      <td>Existing</td>\n",
       "      <td>0.42</td>\n",
       "      <td>0.606251</td>\n",
       "    </tr>\n",
       "  </tbody>\n",
       "</table>\n",
       "</div>"
      ],
      "text/plain": [
       "   edges in_hetionet  precision  sen_cutoff\n",
       "0     10       Novel       0.47    0.606570\n",
       "1      9    Existing       0.47    0.606570\n",
       "2     11       Novel       0.45    0.606469\n",
       "3      9    Existing       0.45    0.606469\n",
       "4     11       Novel       0.44    0.606469\n",
       "5      9    Existing       0.44    0.606469\n",
       "6     11       Novel       0.43    0.606469\n",
       "7      9    Existing       0.43    0.606469\n",
       "8     12       Novel       0.42    0.606251\n",
       "9      9    Existing       0.42    0.606251"
      ]
     },
     "execution_count": 16,
     "metadata": {},
     "output_type": "execute_result"
    }
   ],
   "source": [
    "#precision_thresholds = pd.np.linspace(0,1,num=5)\n",
    "precision_thresholds = threshold_df.round(2).drop_duplicates(\"precision\").precision.values\n",
    "\n",
    "# Add the lowest precision rather than\n",
    "# Keep it zero\n",
    "precision_thresholds = (\n",
    "    pd.np.where(\n",
    "        precision_thresholds==0, \n",
    "        threshold_df.query(\"precision > 0\").precision.min(), \n",
    "        precision_thresholds\n",
    "    )\n",
    ")\n",
    "\n",
    "performance_records = []\n",
    "for precision_cutoff in tqdm_notebook(precision_thresholds):\n",
    "\n",
    "    cutoff = (\n",
    "        threshold_df\n",
    "        .query(\"precision>=@precision_cutoff\")\n",
    "        .pr_threshold\n",
    "        .min()\n",
    "    )\n",
    "    \n",
    "    values_added = (\n",
    "        grouped_candidates_pred_df\n",
    "        .query(\"model_prediction_max >= @cutoff\")\n",
    "        .hetionet\n",
    "        .value_counts()\n",
    "    )\n",
    "    \n",
    "    series_keys = list(values_added.keys())\n",
    "    for key in series_keys:\n",
    "        performance_records.append(\n",
    "           {  \n",
    "               \"edges\": values_added[key], \n",
    "               \"in_hetionet\": \"Existing\" if key == 1 else \"Novel\", \n",
    "               \"precision\": precision_cutoff,\n",
    "               \"sen_cutoff\": cutoff\n",
    "           }\n",
    "        )\n",
    "   \n",
    "    \n",
    "edges_added_df = (\n",
    "    pd\n",
    "    .DataFrame\n",
    "    .from_records(performance_records)\n",
    ")\n",
    "edges_added_df.head(10)"
   ]
  },
  {
   "cell_type": "code",
   "execution_count": 17,
   "metadata": {
    "ExecuteTime": {
     "end_time": "2019-07-15T18:16:14.298525Z",
     "start_time": "2019-07-15T18:16:13.690167Z"
    }
   },
   "outputs": [
    {
     "data": {
      "text/plain": [
       "[None]"
      ]
     },
     "execution_count": 17,
     "metadata": {},
     "output_type": "execute_result"
    },
    {
     "data": {
      "image/png": "[encoded data removed]",
      "text/plain": [
       "<matplotlib.figure.Figure at 0x7fc0f44cf630>"
      ]
     },
     "metadata": {},
     "output_type": "display_data"
    }
   ],
   "source": [
    "ax = sns.scatterplot(x=\"precision\", y=\"edges\", hue=\"in_hetionet\", data=edges_added_df.sort_values(\"in_hetionet\"))\n",
    "ax.set(yscale=\"log\")"
   ]
  },
  {
   "cell_type": "code",
   "execution_count": 18,
   "metadata": {
    "ExecuteTime": {
     "end_time": "2019-07-15T18:16:14.316379Z",
     "start_time": "2019-07-15T18:16:14.300239Z"
    }
   },
   "outputs": [],
   "source": [
    "edges_added_df.to_csv(\"results/precision_gig_edges_added.tsv\", index=False, sep=\"\\t\")"
   ]
  },
  {
   "cell_type": "markdown",
   "metadata": {},
   "source": [
    "# Optimal ROC Cutoff"
   ]
  },
  {
   "cell_type": "code",
   "execution_count": 19,
   "metadata": {
    "ExecuteTime": {
     "end_time": "2019-07-15T18:16:14.425399Z",
     "start_time": "2019-07-15T18:16:14.320539Z"
    }
   },
   "outputs": [
    {
     "data": {
      "text/plain": [
       "0    373207\n",
       "1     19389\n",
       "Name: hetionet, dtype: int64"
      ]
     },
     "execution_count": 19,
     "metadata": {},
     "output_type": "execute_result"
    }
   ],
   "source": [
    "(\n",
    "    grouped_candidates_pred_df\n",
    "    .query(\"model_prediction_max > @roc_optimal\")\n",
    "    .sort_values(\"hetionet\")\n",
    "    .hetionet.value_counts()\n",
    ")"
   ]
  },
  {
   "cell_type": "code",
   "execution_count": 20,
   "metadata": {
    "ExecuteTime": {
     "end_time": "2019-07-15T18:16:14.686860Z",
     "start_time": "2019-07-15T18:16:14.427128Z"
    }
   },
   "outputs": [
    {
     "data": {
      "text/html": [
       "<div>\n",
       "<style scoped>\n",
       "    .dataframe tbody tr th:only-of-type {\n",
       "        vertical-align: middle;\n",
       "    }\n",
       "\n",
       "    .dataframe tbody tr th {\n",
       "        vertical-align: top;\n",
       "    }\n",
       "\n",
       "    .dataframe thead th {\n",
       "        text-align: right;\n",
       "    }\n",
       "</style>\n",
       "<table border=\"1\" class=\"dataframe\">\n",
       "  <thead>\n",
       "    <tr style=\"text-align: right;\">\n",
       "      <th></th>\n",
       "      <th>gene1_id</th>\n",
       "      <th>gene2_id</th>\n",
       "      <th>model_prediction_max</th>\n",
       "      <th>model_prediction_mean</th>\n",
       "      <th>model_prediction_median</th>\n",
       "      <th>hetionet</th>\n",
       "      <th>gene1_name</th>\n",
       "      <th>gene2_name</th>\n",
       "    </tr>\n",
       "  </thead>\n",
       "  <tbody>\n",
       "    <tr>\n",
       "      <th>732106</th>\n",
       "      <td>7157</td>\n",
       "      <td>1019</td>\n",
       "      <td>0.619050</td>\n",
       "      <td>0.464251</td>\n",
       "      <td>0.459271</td>\n",
       "      <td>0</td>\n",
       "      <td>TP53</td>\n",
       "      <td>CDK4</td>\n",
       "    </tr>\n",
       "    <tr>\n",
       "      <th>732115</th>\n",
       "      <td>7157</td>\n",
       "      <td>1029</td>\n",
       "      <td>0.617379</td>\n",
       "      <td>0.449745</td>\n",
       "      <td>0.447838</td>\n",
       "      <td>0</td>\n",
       "      <td>TP53</td>\n",
       "      <td>CDKN2A</td>\n",
       "    </tr>\n",
       "    <tr>\n",
       "      <th>732116</th>\n",
       "      <td>7157</td>\n",
       "      <td>1030</td>\n",
       "      <td>0.617153</td>\n",
       "      <td>0.467886</td>\n",
       "      <td>0.463531</td>\n",
       "      <td>0</td>\n",
       "      <td>TP53</td>\n",
       "      <td>CDKN2B</td>\n",
       "    </tr>\n",
       "    <tr>\n",
       "      <th>131284</th>\n",
       "      <td>1019</td>\n",
       "      <td>7157</td>\n",
       "      <td>0.614665</td>\n",
       "      <td>0.465284</td>\n",
       "      <td>0.461717</td>\n",
       "      <td>0</td>\n",
       "      <td>CDK4</td>\n",
       "      <td>TP53</td>\n",
       "    </tr>\n",
       "    <tr>\n",
       "      <th>137309</th>\n",
       "      <td>1030</td>\n",
       "      <td>7157</td>\n",
       "      <td>0.613657</td>\n",
       "      <td>0.470500</td>\n",
       "      <td>0.469833</td>\n",
       "      <td>0</td>\n",
       "      <td>CDKN2B</td>\n",
       "      <td>TP53</td>\n",
       "    </tr>\n",
       "    <tr>\n",
       "      <th>731975</th>\n",
       "      <td>7157</td>\n",
       "      <td>672</td>\n",
       "      <td>0.611851</td>\n",
       "      <td>0.490360</td>\n",
       "      <td>0.494746</td>\n",
       "      <td>0</td>\n",
       "      <td>TP53</td>\n",
       "      <td>BRCA1</td>\n",
       "    </tr>\n",
       "    <tr>\n",
       "      <th>732947</th>\n",
       "      <td>7157</td>\n",
       "      <td>4221</td>\n",
       "      <td>0.610389</td>\n",
       "      <td>0.477194</td>\n",
       "      <td>0.465591</td>\n",
       "      <td>0</td>\n",
       "      <td>TP53</td>\n",
       "      <td>MEN1</td>\n",
       "    </tr>\n",
       "    <tr>\n",
       "      <th>732837</th>\n",
       "      <td>7157</td>\n",
       "      <td>3845</td>\n",
       "      <td>0.609432</td>\n",
       "      <td>0.462439</td>\n",
       "      <td>0.457615</td>\n",
       "      <td>0</td>\n",
       "      <td>TP53</td>\n",
       "      <td>KRAS</td>\n",
       "    </tr>\n",
       "    <tr>\n",
       "      <th>732353</th>\n",
       "      <td>7157</td>\n",
       "      <td>1956</td>\n",
       "      <td>0.608467</td>\n",
       "      <td>0.463962</td>\n",
       "      <td>0.459518</td>\n",
       "      <td>0</td>\n",
       "      <td>TP53</td>\n",
       "      <td>EGFR</td>\n",
       "    </tr>\n",
       "    <tr>\n",
       "      <th>717438</th>\n",
       "      <td>7067</td>\n",
       "      <td>2099</td>\n",
       "      <td>0.606826</td>\n",
       "      <td>0.555191</td>\n",
       "      <td>0.570603</td>\n",
       "      <td>0</td>\n",
       "      <td>THRA</td>\n",
       "      <td>ESR1</td>\n",
       "    </tr>\n",
       "  </tbody>\n",
       "</table>\n",
       "</div>"
      ],
      "text/plain": [
       "        gene1_id  gene2_id  model_prediction_max  model_prediction_mean  \\\n",
       "732106      7157      1019              0.619050               0.464251   \n",
       "732115      7157      1029              0.617379               0.449745   \n",
       "732116      7157      1030              0.617153               0.467886   \n",
       "131284      1019      7157              0.614665               0.465284   \n",
       "137309      1030      7157              0.613657               0.470500   \n",
       "731975      7157       672              0.611851               0.490360   \n",
       "732947      7157      4221              0.610389               0.477194   \n",
       "732837      7157      3845              0.609432               0.462439   \n",
       "732353      7157      1956              0.608467               0.463962   \n",
       "717438      7067      2099              0.606826               0.555191   \n",
       "\n",
       "        model_prediction_median  hetionet gene1_name gene2_name  \n",
       "732106                 0.459271         0       TP53       CDK4  \n",
       "732115                 0.447838         0       TP53     CDKN2A  \n",
       "732116                 0.463531         0       TP53     CDKN2B  \n",
       "131284                 0.461717         0       CDK4       TP53  \n",
       "137309                 0.469833         0     CDKN2B       TP53  \n",
       "731975                 0.494746         0       TP53      BRCA1  \n",
       "732947                 0.465591         0       TP53       MEN1  \n",
       "732837                 0.457615         0       TP53       KRAS  \n",
       "732353                 0.459518         0       TP53       EGFR  \n",
       "717438                 0.570603         0       THRA       ESR1  "
      ]
     },
     "execution_count": 20,
     "metadata": {},
     "output_type": "execute_result"
    }
   ],
   "source": [
    "(\n",
    "    grouped_candidates_pred_df\n",
    "    .query(\"model_prediction_max > @roc_optimal\")\n",
    "    .sort_values([\"hetionet\", \"model_prediction_max\"], ascending=[True, False])\n",
    "    .head(10)\n",
    ")"
   ]
  }
 ],
 "metadata": {
  "kernelspec": {
   "display_name": "Python [conda env:snorkeling]",
   "language": "python",
   "name": "conda-env-snorkeling-py"
  },
  "language_info": {
   "codemirror_mode": {
    "name": "ipython",
    "version": 3
   },
   "file_extension": ".py",
   "mimetype": "text/x-python",
   "name": "python",
   "nbconvert_exporter": "python",
   "pygments_lexer": "ipython3",
   "version": "3.6.4"
  }
 },
 "nbformat": 4,
 "nbformat_minor": 2
}
