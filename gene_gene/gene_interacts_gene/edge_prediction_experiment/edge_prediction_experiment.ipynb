{
 "cells": [
  {
   "cell_type": "markdown",
   "metadata": {},
   "source": [
    "# Compound Binds Gene Edge Prediction"
   ]
  },
  {
   "cell_type": "markdown",
   "metadata": {},
   "source": [
    "This notebook is designed to take the next step moving from predicted sentences to edge predictions. After training the discriminator model, each sentences contains a confidence score for the likelihood of mentioning a relationship. Multiple relationships contain multiple sentences, which makes establishing an edge unintuitive. Is taking the max score appropiate for determining existence of an edge? Does taking the mean of each relationship make more sense? The answer towards these questions are shown below."
   ]
  },
  {
   "cell_type": "code",
   "execution_count": 1,
   "metadata": {
    "ExecuteTime": {
     "end_time": "2020-01-06T17:14:28.826218Z",
     "start_time": "2020-01-06T17:14:28.241099Z"
    }
   },
   "outputs": [],
   "source": [
    "%load_ext autoreload\n",
    "%autoreload 2\n",
    "%matplotlib inline\n",
    "\n",
    "import pandas as pd\n",
    "from sklearn.metrics import precision_recall_curve, roc_curve, auc\n",
    "import seaborn as sns\n",
    "import matplotlib.pyplot as plt\n",
    "from tqdm import tqdm_notebook"
   ]
  },
  {
   "cell_type": "code",
   "execution_count": 2,
   "metadata": {
    "ExecuteTime": {
     "end_time": "2020-01-06T17:15:44.720290Z",
     "start_time": "2020-01-06T17:14:28.827511Z"
    }
   },
   "outputs": [
    {
     "name": "stderr",
     "output_type": "stream",
     "text": [
      "/home/danich1/.local/lib/python3.6/site-packages/ipykernel_launcher.py:3: FutureWarning: read_table is deprecated, use read_csv instead, passing sep='\\t'.\n",
      "  This is separate from the ipykernel package so we can avoid doing imports until\n",
      "/home/danich1/.local/lib/python3.6/site-packages/IPython/core/interactiveshell.py:3058: DtypeWarning: Columns (4) have mixed types. Specify dtype option on import or set low_memory=False.\n",
      "  interactivity=interactivity, compiler=compiler, result=result)\n"
     ]
    },
    {
     "data": {
      "text/html": [
       "<div>\n",
       "<style scoped>\n",
       "    .dataframe tbody tr th:only-of-type {\n",
       "        vertical-align: middle;\n",
       "    }\n",
       "\n",
       "    .dataframe tbody tr th {\n",
       "        vertical-align: top;\n",
       "    }\n",
       "\n",
       "    .dataframe thead th {\n",
       "        text-align: right;\n",
       "    }\n",
       "</style>\n",
       "<table border=\"1\" class=\"dataframe\">\n",
       "  <thead>\n",
       "    <tr style=\"text-align: right;\">\n",
       "      <th></th>\n",
       "      <th>gene1_id</th>\n",
       "      <th>gene1_name</th>\n",
       "      <th>gene2_id</th>\n",
       "      <th>gene2_name</th>\n",
       "      <th>sources</th>\n",
       "      <th>n_sentences</th>\n",
       "      <th>hetionet</th>\n",
       "      <th>has_sentence</th>\n",
       "      <th>split</th>\n",
       "      <th>partition_rank</th>\n",
       "      <th>compound_mention_count</th>\n",
       "      <th>disease_mention_count</th>\n",
       "      <th>gene_mention_count</th>\n",
       "      <th>sentence_id</th>\n",
       "      <th>text</th>\n",
       "      <th>sen_length</th>\n",
       "      <th>candidate_id</th>\n",
       "    </tr>\n",
       "  </thead>\n",
       "  <tbody>\n",
       "    <tr>\n",
       "      <th>10815688</th>\n",
       "      <td>2796</td>\n",
       "      <td>GNRH1</td>\n",
       "      <td>2796</td>\n",
       "      <td>GNRH1</td>\n",
       "      <td>NaN</td>\n",
       "      <td>9310</td>\n",
       "      <td>0</td>\n",
       "      <td>1</td>\n",
       "      <td>3</td>\n",
       "      <td>0.415835</td>\n",
       "      <td>1.0</td>\n",
       "      <td>0.0</td>\n",
       "      <td>2</td>\n",
       "      <td>274809</td>\n",
       "      <td>Correlation between leuteinizing hormone respo...</td>\n",
       "      <td>20</td>\n",
       "      <td>25627</td>\n",
       "    </tr>\n",
       "    <tr>\n",
       "      <th>3285545</th>\n",
       "      <td>3976</td>\n",
       "      <td>LIF</td>\n",
       "      <td>3976</td>\n",
       "      <td>LIF</td>\n",
       "      <td>NaN</td>\n",
       "      <td>2732</td>\n",
       "      <td>0</td>\n",
       "      <td>1</td>\n",
       "      <td>3</td>\n",
       "      <td>0.117900</td>\n",
       "      <td>0.0</td>\n",
       "      <td>0.0</td>\n",
       "      <td>2</td>\n",
       "      <td>622251</td>\n",
       "      <td>The production of heterologous antibodies to t...</td>\n",
       "      <td>17</td>\n",
       "      <td>25628</td>\n",
       "    </tr>\n",
       "  </tbody>\n",
       "</table>\n",
       "</div>"
      ],
      "text/plain": [
       "          gene1_id gene1_name  gene2_id gene2_name sources  n_sentences  \\\n",
       "10815688      2796      GNRH1      2796      GNRH1     NaN         9310   \n",
       "3285545       3976        LIF      3976        LIF     NaN         2732   \n",
       "\n",
       "          hetionet  has_sentence  split  partition_rank  \\\n",
       "10815688         0             1      3        0.415835   \n",
       "3285545          0             1      3        0.117900   \n",
       "\n",
       "          compound_mention_count  disease_mention_count  gene_mention_count  \\\n",
       "10815688                     1.0                    0.0                   2   \n",
       "3285545                      0.0                    0.0                   2   \n",
       "\n",
       "          sentence_id                                               text  \\\n",
       "10815688       274809  Correlation between leuteinizing hormone respo...   \n",
       "3285545        622251  The production of heterologous antibodies to t...   \n",
       "\n",
       "          sen_length  candidate_id  \n",
       "10815688          20         25627  \n",
       "3285545           17         25628  "
      ]
     },
     "execution_count": 2,
     "metadata": {},
     "output_type": "execute_result"
    }
   ],
   "source": [
    "total_candidates_df = (\n",
    "    pd\n",
    "    .read_table(\"../dataset_statistics/results/all_gig_candidates.tsv.xz\")\n",
    "    .sort_values(\"candidate_id\")\n",
    ")\n",
    "total_candidates_df.head(2)"
   ]
  },
  {
   "cell_type": "code",
   "execution_count": 3,
   "metadata": {
    "ExecuteTime": {
     "end_time": "2020-01-06T17:15:52.199765Z",
     "start_time": "2020-01-06T17:15:44.722059Z"
    }
   },
   "outputs": [
    {
     "name": "stderr",
     "output_type": "stream",
     "text": [
      "/home/danich1/.local/lib/python3.6/site-packages/ipykernel_launcher.py:3: FutureWarning: read_table is deprecated, use read_csv instead, passing sep='\\t'.\n",
      "  This is separate from the ipykernel package so we can avoid doing imports until\n"
     ]
    },
    {
     "data": {
      "text/html": [
       "<div>\n",
       "<style scoped>\n",
       "    .dataframe tbody tr th:only-of-type {\n",
       "        vertical-align: middle;\n",
       "    }\n",
       "\n",
       "    .dataframe tbody tr th {\n",
       "        vertical-align: top;\n",
       "    }\n",
       "\n",
       "    .dataframe thead th {\n",
       "        text-align: right;\n",
       "    }\n",
       "</style>\n",
       "<table border=\"1\" class=\"dataframe\">\n",
       "  <thead>\n",
       "    <tr style=\"text-align: right;\">\n",
       "      <th></th>\n",
       "      <th>candidate_id</th>\n",
       "      <th>pred</th>\n",
       "    </tr>\n",
       "  </thead>\n",
       "  <tbody>\n",
       "    <tr>\n",
       "      <th>0</th>\n",
       "      <td>25627</td>\n",
       "      <td>0.023143</td>\n",
       "    </tr>\n",
       "    <tr>\n",
       "      <th>1</th>\n",
       "      <td>25628</td>\n",
       "      <td>0.000479</td>\n",
       "    </tr>\n",
       "  </tbody>\n",
       "</table>\n",
       "</div>"
      ],
      "text/plain": [
       "   candidate_id      pred\n",
       "0         25627  0.023143\n",
       "1         25628  0.000479"
      ]
     },
     "execution_count": 3,
     "metadata": {},
     "output_type": "execute_result"
    }
   ],
   "source": [
    "sentence_prediction_df = (\n",
    "    pd\n",
    "    .read_table(\"input/all_sentence_pred.tsv.xz\")\n",
    "    .sort_values(\"candidate_id\")\n",
    ")\n",
    "sentence_prediction_df.head(2)"
   ]
  },
  {
   "cell_type": "code",
   "execution_count": 4,
   "metadata": {
    "ExecuteTime": {
     "end_time": "2020-01-06T17:15:58.405186Z",
     "start_time": "2020-01-06T17:15:52.201258Z"
    }
   },
   "outputs": [
    {
     "data": {
      "text/html": [
       "<div>\n",
       "<style scoped>\n",
       "    .dataframe tbody tr th:only-of-type {\n",
       "        vertical-align: middle;\n",
       "    }\n",
       "\n",
       "    .dataframe tbody tr th {\n",
       "        vertical-align: top;\n",
       "    }\n",
       "\n",
       "    .dataframe thead th {\n",
       "        text-align: right;\n",
       "    }\n",
       "</style>\n",
       "<table border=\"1\" class=\"dataframe\">\n",
       "  <thead>\n",
       "    <tr style=\"text-align: right;\">\n",
       "      <th></th>\n",
       "      <th>gene1_id</th>\n",
       "      <th>gene1_name</th>\n",
       "      <th>gene2_id</th>\n",
       "      <th>gene2_name</th>\n",
       "      <th>text</th>\n",
       "      <th>hetionet</th>\n",
       "      <th>candidate_id</th>\n",
       "      <th>split</th>\n",
       "      <th>pred</th>\n",
       "    </tr>\n",
       "  </thead>\n",
       "  <tbody>\n",
       "    <tr>\n",
       "      <th>0</th>\n",
       "      <td>2796</td>\n",
       "      <td>GNRH1</td>\n",
       "      <td>2796</td>\n",
       "      <td>GNRH1</td>\n",
       "      <td>Correlation between leuteinizing hormone respo...</td>\n",
       "      <td>0</td>\n",
       "      <td>25627</td>\n",
       "      <td>3</td>\n",
       "      <td>0.023143</td>\n",
       "    </tr>\n",
       "    <tr>\n",
       "      <th>1</th>\n",
       "      <td>3976</td>\n",
       "      <td>LIF</td>\n",
       "      <td>3976</td>\n",
       "      <td>LIF</td>\n",
       "      <td>The production of heterologous antibodies to t...</td>\n",
       "      <td>0</td>\n",
       "      <td>25628</td>\n",
       "      <td>3</td>\n",
       "      <td>0.000479</td>\n",
       "    </tr>\n",
       "  </tbody>\n",
       "</table>\n",
       "</div>"
      ],
      "text/plain": [
       "   gene1_id gene1_name  gene2_id gene2_name  \\\n",
       "0      2796      GNRH1      2796      GNRH1   \n",
       "1      3976        LIF      3976        LIF   \n",
       "\n",
       "                                                text  hetionet  candidate_id  \\\n",
       "0  Correlation between leuteinizing hormone respo...         0         25627   \n",
       "1  The production of heterologous antibodies to t...         0         25628   \n",
       "\n",
       "   split      pred  \n",
       "0      3  0.023143  \n",
       "1      3  0.000479  "
      ]
     },
     "execution_count": 4,
     "metadata": {},
     "output_type": "execute_result"
    }
   ],
   "source": [
    "# DataFrame that combines likelihood scores with each candidate sentence\n",
    "total_candidates_pred_df = (\n",
    "    total_candidates_df[[\n",
    "    \"gene1_id\", \"gene1_name\", \n",
    "    \"gene2_id\", \"gene2_name\", \n",
    "    \"text\", \"hetionet\",\n",
    "    \"candidate_id\", \"split\"\n",
    "    ]]\n",
    "    .merge(sentence_prediction_df, on=\"candidate_id\")\n",
    ")\n",
    "\n",
    "#total_candidates_pred_df.to_csv(\n",
    "#    \"output/combined_predicted_gig_sentences.tsv.xz\", \n",
    "#    sep=\"\\t\", index=False, compression=\"xz\"\n",
    "#)\n",
    "\n",
    "total_candidates_pred_df.head(2)"
   ]
  },
  {
   "cell_type": "code",
   "execution_count": 8,
   "metadata": {
    "ExecuteTime": {
     "end_time": "2020-01-06T17:19:22.396621Z",
     "start_time": "2020-01-06T17:19:18.627894Z"
    }
   },
   "outputs": [
    {
     "data": {
      "text/html": [
       "<div>\n",
       "<style scoped>\n",
       "    .dataframe tbody tr th:only-of-type {\n",
       "        vertical-align: middle;\n",
       "    }\n",
       "\n",
       "    .dataframe tbody tr th {\n",
       "        vertical-align: top;\n",
       "    }\n",
       "\n",
       "    .dataframe thead tr th {\n",
       "        text-align: left;\n",
       "    }\n",
       "</style>\n",
       "<table border=\"1\" class=\"dataframe\">\n",
       "  <thead>\n",
       "    <tr>\n",
       "      <th></th>\n",
       "      <th>gene1_id</th>\n",
       "      <th>gene2_id</th>\n",
       "      <th colspan=\"3\" halign=\"left\">pred</th>\n",
       "      <th>hetionet</th>\n",
       "      <th>gene1_name</th>\n",
       "      <th>gene2_name</th>\n",
       "      <th>split</th>\n",
       "    </tr>\n",
       "    <tr>\n",
       "      <th></th>\n",
       "      <th></th>\n",
       "      <th></th>\n",
       "      <th>max</th>\n",
       "      <th>mean</th>\n",
       "      <th>median</th>\n",
       "      <th>max</th>\n",
       "      <th>first</th>\n",
       "      <th>first</th>\n",
       "      <th>first</th>\n",
       "    </tr>\n",
       "  </thead>\n",
       "  <tbody>\n",
       "    <tr>\n",
       "      <th>0</th>\n",
       "      <td>1</td>\n",
       "      <td>1</td>\n",
       "      <td>0.487505</td>\n",
       "      <td>0.128683</td>\n",
       "      <td>0.094391</td>\n",
       "      <td>0</td>\n",
       "      <td>A1BG</td>\n",
       "      <td>A1BG</td>\n",
       "      <td>4</td>\n",
       "    </tr>\n",
       "    <tr>\n",
       "      <th>1</th>\n",
       "      <td>1</td>\n",
       "      <td>2</td>\n",
       "      <td>0.033718</td>\n",
       "      <td>0.033718</td>\n",
       "      <td>0.033718</td>\n",
       "      <td>0</td>\n",
       "      <td>A1BG</td>\n",
       "      <td>A2M</td>\n",
       "      <td>3</td>\n",
       "    </tr>\n",
       "  </tbody>\n",
       "</table>\n",
       "</div>"
      ],
      "text/plain": [
       "  gene1_id gene2_id      pred                     hetionet gene1_name  \\\n",
       "                          max      mean    median      max      first   \n",
       "0        1        1  0.487505  0.128683  0.094391        0       A1BG   \n",
       "1        1        2  0.033718  0.033718  0.033718        0       A1BG   \n",
       "\n",
       "  gene2_name split  \n",
       "       first first  \n",
       "0       A1BG     4  \n",
       "1        A2M     3  "
      ]
     },
     "execution_count": 8,
     "metadata": {},
     "output_type": "execute_result"
    }
   ],
   "source": [
    "# DataFrame that groups gene mentions together and takes\n",
    "# the max, median and mean of each group\n",
    "grouped_candidates_pred_df=(\n",
    "    total_candidates_pred_df\n",
    "    .groupby([\"gene1_id\", \"gene2_id\"], as_index=False)\n",
    "    .agg({\n",
    "        \"pred\": ['max', 'mean', 'median'], \n",
    "        'hetionet': 'max',\n",
    "        \"gene1_name\": 'first',\n",
    "        \"gene2_name\": 'first',\n",
    "        \"split\": 'first'\n",
    "    })\n",
    ")\n",
    "grouped_candidates_pred_df.head(2)"
   ]
  },
  {
   "cell_type": "code",
   "execution_count": 9,
   "metadata": {
    "ExecuteTime": {
     "end_time": "2020-01-06T17:19:22.524149Z",
     "start_time": "2020-01-06T17:19:22.504985Z"
    }
   },
   "outputs": [
    {
     "data": {
      "text/html": [
       "<div>\n",
       "<style scoped>\n",
       "    .dataframe tbody tr th:only-of-type {\n",
       "        vertical-align: middle;\n",
       "    }\n",
       "\n",
       "    .dataframe tbody tr th {\n",
       "        vertical-align: top;\n",
       "    }\n",
       "\n",
       "    .dataframe thead th {\n",
       "        text-align: right;\n",
       "    }\n",
       "</style>\n",
       "<table border=\"1\" class=\"dataframe\">\n",
       "  <thead>\n",
       "    <tr style=\"text-align: right;\">\n",
       "      <th></th>\n",
       "      <th>gene1_id</th>\n",
       "      <th>gene2_id</th>\n",
       "      <th>pred_max</th>\n",
       "      <th>pred_mean</th>\n",
       "      <th>pred_median</th>\n",
       "      <th>hetionet</th>\n",
       "      <th>gene1_name</th>\n",
       "      <th>gene2_name</th>\n",
       "      <th>split</th>\n",
       "    </tr>\n",
       "  </thead>\n",
       "  <tbody>\n",
       "    <tr>\n",
       "      <th>0</th>\n",
       "      <td>1</td>\n",
       "      <td>1</td>\n",
       "      <td>0.487505</td>\n",
       "      <td>0.128683</td>\n",
       "      <td>0.094391</td>\n",
       "      <td>0</td>\n",
       "      <td>A1BG</td>\n",
       "      <td>A1BG</td>\n",
       "      <td>4</td>\n",
       "    </tr>\n",
       "    <tr>\n",
       "      <th>1</th>\n",
       "      <td>1</td>\n",
       "      <td>2</td>\n",
       "      <td>0.033718</td>\n",
       "      <td>0.033718</td>\n",
       "      <td>0.033718</td>\n",
       "      <td>0</td>\n",
       "      <td>A1BG</td>\n",
       "      <td>A2M</td>\n",
       "      <td>3</td>\n",
       "    </tr>\n",
       "  </tbody>\n",
       "</table>\n",
       "</div>"
      ],
      "text/plain": [
       "   gene1_id  gene2_id  pred_max  pred_mean  pred_median  hetionet gene1_name  \\\n",
       "0         1         1  0.487505   0.128683     0.094391         0       A1BG   \n",
       "1         1         2  0.033718   0.033718     0.033718         0       A1BG   \n",
       "\n",
       "  gene2_name  split  \n",
       "0       A1BG      4  \n",
       "1        A2M      3  "
      ]
     },
     "execution_count": 9,
     "metadata": {},
     "output_type": "execute_result"
    }
   ],
   "source": [
    "grouped_candidates_pred_df.columns = [\n",
    "    \"_\".join(col) \n",
    "    if col[1] != '' and col[0] not in ['hetionet', 'gene1_name', 'gene2_name', 'split'] else col[0] \n",
    "    for col in grouped_candidates_pred_df.columns.values\n",
    "]\n",
    "grouped_candidates_pred_df.head(2)"
   ]
  },
  {
   "cell_type": "code",
   "execution_count": 10,
   "metadata": {
    "ExecuteTime": {
     "end_time": "2020-01-06T17:19:22.659988Z",
     "start_time": "2020-01-06T17:19:22.630688Z"
    }
   },
   "outputs": [
    {
     "data": {
      "text/html": [
       "<div>\n",
       "<style scoped>\n",
       "    .dataframe tbody tr th:only-of-type {\n",
       "        vertical-align: middle;\n",
       "    }\n",
       "\n",
       "    .dataframe tbody tr th {\n",
       "        vertical-align: top;\n",
       "    }\n",
       "\n",
       "    .dataframe thead th {\n",
       "        text-align: right;\n",
       "    }\n",
       "</style>\n",
       "<table border=\"1\" class=\"dataframe\">\n",
       "  <thead>\n",
       "    <tr style=\"text-align: right;\">\n",
       "      <th></th>\n",
       "      <th>gene1_id</th>\n",
       "      <th>gene2_id</th>\n",
       "      <th>pred_max</th>\n",
       "      <th>pred_mean</th>\n",
       "      <th>pred_median</th>\n",
       "      <th>hetionet</th>\n",
       "      <th>gene1_name</th>\n",
       "      <th>gene2_name</th>\n",
       "    </tr>\n",
       "  </thead>\n",
       "  <tbody>\n",
       "    <tr>\n",
       "      <th>67</th>\n",
       "      <td>2</td>\n",
       "      <td>2</td>\n",
       "      <td>0.950318</td>\n",
       "      <td>0.186167</td>\n",
       "      <td>0.062882</td>\n",
       "      <td>0</td>\n",
       "      <td>A2M</td>\n",
       "      <td>A2M</td>\n",
       "    </tr>\n",
       "    <tr>\n",
       "      <th>107</th>\n",
       "      <td>2</td>\n",
       "      <td>973</td>\n",
       "      <td>0.112824</td>\n",
       "      <td>0.069467</td>\n",
       "      <td>0.069467</td>\n",
       "      <td>0</td>\n",
       "      <td>A2M</td>\n",
       "      <td>CD79A</td>\n",
       "    </tr>\n",
       "  </tbody>\n",
       "</table>\n",
       "</div>"
      ],
      "text/plain": [
       "     gene1_id  gene2_id  pred_max  pred_mean  pred_median  hetionet  \\\n",
       "67          2         2  0.950318   0.186167     0.062882         0   \n",
       "107         2       973  0.112824   0.069467     0.069467         0   \n",
       "\n",
       "    gene1_name gene2_name  \n",
       "67         A2M        A2M  \n",
       "107        A2M      CD79A  "
      ]
     },
     "execution_count": 10,
     "metadata": {},
     "output_type": "execute_result"
    }
   ],
   "source": [
    "grouped_candidates_pred_df = (\n",
    "    grouped_candidates_pred_df\n",
    "    .query(\"split==5\")\n",
    "    .drop(\"split\", axis=1)\n",
    ")\n",
    "grouped_candidates_pred_df.head(2)"
   ]
  },
  {
   "cell_type": "code",
   "execution_count": 11,
   "metadata": {
    "ExecuteTime": {
     "end_time": "2020-01-06T17:21:31.517644Z",
     "start_time": "2020-01-06T17:21:31.495580Z"
    }
   },
   "outputs": [
    {
     "data": {
      "text/plain": [
       "0    30852\n",
       "1     1680\n",
       "Name: hetionet, dtype: int64"
      ]
     },
     "execution_count": 11,
     "metadata": {},
     "output_type": "execute_result"
    }
   ],
   "source": [
    "grouped_candidates_pred_df.hetionet.value_counts()"
   ]
  },
  {
   "cell_type": "code",
   "execution_count": 12,
   "metadata": {
    "ExecuteTime": {
     "end_time": "2020-01-06T17:21:32.650396Z",
     "start_time": "2020-01-06T17:21:32.638393Z"
    }
   },
   "outputs": [],
   "source": [
    "performance_map = {}"
   ]
  },
  {
   "cell_type": "code",
   "execution_count": 14,
   "metadata": {
    "ExecuteTime": {
     "end_time": "2020-01-06T17:22:07.937098Z",
     "start_time": "2020-01-06T17:22:07.914210Z"
    }
   },
   "outputs": [],
   "source": [
    "precision, recall, pr_threshold = precision_recall_curve(\n",
    "    grouped_candidates_pred_df.hetionet, \n",
    "    grouped_candidates_pred_df.pred_max,\n",
    ")\n",
    "\n",
    "fpr, tpr, roc_threshold = roc_curve(\n",
    "    grouped_candidates_pred_df.hetionet, \n",
    "    grouped_candidates_pred_df.pred_max,\n",
    ")\n",
    "\n",
    "performance_map['max'] = {\n",
    "    \"precision\":precision, \"recall\":recall, \n",
    "    \"pr_threshold\":pr_threshold, \"false_pos\":fpr,\n",
    "    \"true_pos\":tpr, \"roc_threshold\":roc_threshold, \n",
    "}"
   ]
  },
  {
   "cell_type": "code",
   "execution_count": 15,
   "metadata": {
    "ExecuteTime": {
     "end_time": "2020-01-06T17:22:08.687779Z",
     "start_time": "2020-01-06T17:22:08.639550Z"
    }
   },
   "outputs": [],
   "source": [
    "precision, recall, pr_threshold = precision_recall_curve(\n",
    "    grouped_candidates_pred_df.hetionet, \n",
    "    grouped_candidates_pred_df.pred_mean,\n",
    ")\n",
    "\n",
    "fpr, tpr, roc_threshold = roc_curve(\n",
    "    grouped_candidates_pred_df.hetionet, \n",
    "    grouped_candidates_pred_df.pred_mean,\n",
    ")\n",
    "\n",
    "performance_map['mean'] = {\n",
    "    \"precision\":precision, \"recall\":recall, \n",
    "    \"pr_threshold\":pr_threshold, \"false_pos\":fpr,\n",
    "    \"true_pos\":tpr, \"roc_threshold\":roc_threshold, \n",
    "}"
   ]
  },
  {
   "cell_type": "code",
   "execution_count": 16,
   "metadata": {
    "ExecuteTime": {
     "end_time": "2020-01-06T17:22:09.302984Z",
     "start_time": "2020-01-06T17:22:09.257446Z"
    }
   },
   "outputs": [],
   "source": [
    "precision, recall, pr_threshold = precision_recall_curve(\n",
    "    grouped_candidates_pred_df.hetionet, \n",
    "    grouped_candidates_pred_df.pred_median,\n",
    ")\n",
    "\n",
    "fpr, tpr, roc_threshold = roc_curve(\n",
    "    grouped_candidates_pred_df.hetionet, \n",
    "    grouped_candidates_pred_df.pred_median,\n",
    ")\n",
    "\n",
    "performance_map['median'] = {\n",
    "    \"precision\":precision, \"recall\":recall, \n",
    "    \"pr_threshold\":pr_threshold, \"false_pos\":fpr,\n",
    "    \"true_pos\":tpr, \"roc_threshold\":roc_threshold, \n",
    "}"
   ]
  },
  {
   "cell_type": "code",
   "execution_count": 17,
   "metadata": {
    "ExecuteTime": {
     "end_time": "2020-01-06T17:22:12.312198Z",
     "start_time": "2020-01-06T17:22:12.161543Z"
    }
   },
   "outputs": [
    {
     "data": {
      "image/png": "[encoded data removed]",
      "text/plain": [
       "<Figure size 432x288 with 1 Axes>"
      ]
     },
     "metadata": {
      "needs_background": "light"
     },
     "output_type": "display_data"
    }
   ],
   "source": [
    "for key in performance_map:\n",
    "    plt.plot(\n",
    "        performance_map[key]['false_pos'], \n",
    "        performance_map[key]['true_pos'], \n",
    "        label=f\"{key}:AUC ({auc(performance_map[key]['false_pos'], performance_map[key]['true_pos']):.3f})\"\n",
    "    )\n",
    "plt.plot([0,1], [0,1], linestyle='--', color='black')\n",
    "plt.legend()\n",
    "plt.show()"
   ]
  },
  {
   "cell_type": "code",
   "execution_count": 18,
   "metadata": {
    "ExecuteTime": {
     "end_time": "2020-01-06T17:23:04.927649Z",
     "start_time": "2020-01-06T17:23:04.904019Z"
    }
   },
   "outputs": [
    {
     "name": "stderr",
     "output_type": "stream",
     "text": [
      "/home/danich1/.local/lib/python3.6/site-packages/ipykernel_launcher.py:18: DeprecationWarning: \n",
      ".ix is deprecated. Please use\n",
      ".loc for label based indexing or\n",
      ".iloc for positional indexing\n",
      "\n",
      "See the documentation here:\n",
      "http://pandas.pydata.org/pandas-docs/stable/indexing.html#ix-indexer-is-deprecated\n"
     ]
    },
    {
     "data": {
      "text/plain": [
       "0.15994045"
      ]
     },
     "execution_count": 18,
     "metadata": {},
     "output_type": "execute_result"
    }
   ],
   "source": [
    "# https://stackoverflow.com/questions/28719067/roc-curve-and-cut-off-point-python\n",
    "def Find_Optimal_Cutoff(target, predicted):\n",
    "    \"\"\" Find the optimal probability cutoff point for a classification model related to event rate\n",
    "    Parameters\n",
    "    ----------\n",
    "    target : Matrix with dependent or target data, where rows are observations\n",
    "\n",
    "    predicted : Matrix with predicted data, where rows are observations\n",
    "\n",
    "    Returns\n",
    "    -------     \n",
    "    list type, with optimal cutoff value\n",
    "\n",
    "    \"\"\"\n",
    "    fpr, tpr, threshold = roc_curve(target, predicted)\n",
    "    i = pd.np.arange(len(tpr)) \n",
    "    roc = pd.DataFrame({'tf' : pd.Series(tpr-(1-fpr), index=i), 'threshold' : pd.Series(threshold, index=i)})\n",
    "    roc_t = roc.ix[(roc.tf-0).abs().argsort()[:1]]\n",
    "\n",
    "    return list(roc_t['threshold']) \n",
    "roc_optimal = Find_Optimal_Cutoff(grouped_candidates_pred_df.hetionet.values, grouped_candidates_pred_df.pred_max)[0]\n",
    "roc_optimal"
   ]
  },
  {
   "cell_type": "code",
   "execution_count": 19,
   "metadata": {
    "ExecuteTime": {
     "end_time": "2020-01-06T17:23:05.954108Z",
     "start_time": "2020-01-06T17:23:05.785163Z"
    }
   },
   "outputs": [
    {
     "data": {
      "image/png": "[encoded data removed]",
      "text/plain": [
       "<Figure size 432x288 with 1 Axes>"
      ]
     },
     "metadata": {
      "needs_background": "light"
     },
     "output_type": "display_data"
    }
   ],
   "source": [
    "for key in performance_map:\n",
    "    plt.plot(\n",
    "        performance_map[key]['recall'], \n",
    "        performance_map[key]['precision'], \n",
    "        label=f\"{key}:AUC ({auc(performance_map[key]['recall'], performance_map[key]['precision']):.3f})\"\n",
    "    )\n",
    "\n",
    "plt.legend()\n",
    "plt.show()"
   ]
  },
  {
   "cell_type": "markdown",
   "metadata": {},
   "source": [
    "# Optimal PR-Cutoff"
   ]
  },
  {
   "cell_type": "code",
   "execution_count": 20,
   "metadata": {
    "ExecuteTime": {
     "end_time": "2020-01-06T17:23:10.525681Z",
     "start_time": "2020-01-06T17:23:10.488770Z"
    }
   },
   "outputs": [
    {
     "data": {
      "text/html": [
       "<div>\n",
       "<style scoped>\n",
       "    .dataframe tbody tr th:only-of-type {\n",
       "        vertical-align: middle;\n",
       "    }\n",
       "\n",
       "    .dataframe tbody tr th {\n",
       "        vertical-align: top;\n",
       "    }\n",
       "\n",
       "    .dataframe thead th {\n",
       "        text-align: right;\n",
       "    }\n",
       "</style>\n",
       "<table border=\"1\" class=\"dataframe\">\n",
       "  <thead>\n",
       "    <tr style=\"text-align: right;\">\n",
       "      <th></th>\n",
       "      <th>precision</th>\n",
       "      <th>recall</th>\n",
       "      <th>pr_threshold</th>\n",
       "    </tr>\n",
       "  </thead>\n",
       "  <tbody>\n",
       "    <tr>\n",
       "      <th>32418</th>\n",
       "      <td>0.250000</td>\n",
       "      <td>0.0125</td>\n",
       "      <td>0.906598</td>\n",
       "    </tr>\n",
       "    <tr>\n",
       "      <th>32417</th>\n",
       "      <td>0.247059</td>\n",
       "      <td>0.0125</td>\n",
       "      <td>0.906542</td>\n",
       "    </tr>\n",
       "  </tbody>\n",
       "</table>\n",
       "</div>"
      ],
      "text/plain": [
       "       precision  recall  pr_threshold\n",
       "32418   0.250000  0.0125      0.906598\n",
       "32417   0.247059  0.0125      0.906542"
      ]
     },
     "execution_count": 20,
     "metadata": {},
     "output_type": "execute_result"
    }
   ],
   "source": [
    "threshold_df = (\n",
    "    pd.DataFrame(\n",
    "        list(\n",
    "            zip(\n",
    "                performance_map['max']['precision'], \n",
    "                performance_map['max']['recall'], \n",
    "                performance_map['max']['pr_threshold']\n",
    "            )\n",
    "        ),\n",
    "        columns=[\"precision\", \"recall\", \"pr_threshold\"]\n",
    "    )\n",
    "    .sort_values(\"precision\", ascending=False)\n",
    ")\n",
    "threshold_df.head(2)"
   ]
  },
  {
   "cell_type": "code",
   "execution_count": 21,
   "metadata": {
    "ExecuteTime": {
     "end_time": "2020-01-06T17:23:11.357022Z",
     "start_time": "2020-01-06T17:23:11.195143Z"
    }
   },
   "outputs": [
    {
     "name": "stderr",
     "output_type": "stream",
     "text": [
      "/home/danich1/.local/lib/python3.6/site-packages/ipykernel_launcher.py:15: TqdmDeprecationWarning: This function will be removed in tqdm==5.0.0\n",
      "Please use `tqdm.notebook.tqdm` instead of `tqdm.tqdm_notebook`\n",
      "  from ipykernel import kernelapp as app\n"
     ]
    },
    {
     "data": {
      "application/vnd.jupyter.widget-view+json": {
       "model_id": "daa2147bdebc46f5ab25dca93ca8ac5c",
       "version_major": 2,
       "version_minor": 0
      },
      "text/plain": [
       "HBox(children=(IntProgress(value=0, max=22), HTML(value='')))"
      ]
     },
     "metadata": {},
     "output_type": "display_data"
    },
    {
     "name": "stdout",
     "output_type": "stream",
     "text": [
      "\n"
     ]
    },
    {
     "data": {
      "text/html": [
       "<div>\n",
       "<style scoped>\n",
       "    .dataframe tbody tr th:only-of-type {\n",
       "        vertical-align: middle;\n",
       "    }\n",
       "\n",
       "    .dataframe tbody tr th {\n",
       "        vertical-align: top;\n",
       "    }\n",
       "\n",
       "    .dataframe thead th {\n",
       "        text-align: right;\n",
       "    }\n",
       "</style>\n",
       "<table border=\"1\" class=\"dataframe\">\n",
       "  <thead>\n",
       "    <tr style=\"text-align: right;\">\n",
       "      <th></th>\n",
       "      <th>edges</th>\n",
       "      <th>in_hetionet</th>\n",
       "      <th>precision</th>\n",
       "      <th>sen_cutoff</th>\n",
       "    </tr>\n",
       "  </thead>\n",
       "  <tbody>\n",
       "    <tr>\n",
       "      <th>0</th>\n",
       "      <td>63</td>\n",
       "      <td>Novel</td>\n",
       "      <td>0.25</td>\n",
       "      <td>0.906598</td>\n",
       "    </tr>\n",
       "    <tr>\n",
       "      <th>1</th>\n",
       "      <td>21</td>\n",
       "      <td>Existing</td>\n",
       "      <td>0.25</td>\n",
       "      <td>0.906598</td>\n",
       "    </tr>\n",
       "    <tr>\n",
       "      <th>2</th>\n",
       "      <td>69</td>\n",
       "      <td>Novel</td>\n",
       "      <td>0.24</td>\n",
       "      <td>0.904841</td>\n",
       "    </tr>\n",
       "    <tr>\n",
       "      <th>3</th>\n",
       "      <td>22</td>\n",
       "      <td>Existing</td>\n",
       "      <td>0.24</td>\n",
       "      <td>0.904841</td>\n",
       "    </tr>\n",
       "    <tr>\n",
       "      <th>4</th>\n",
       "      <td>87</td>\n",
       "      <td>Novel</td>\n",
       "      <td>0.23</td>\n",
       "      <td>0.897680</td>\n",
       "    </tr>\n",
       "    <tr>\n",
       "      <th>5</th>\n",
       "      <td>26</td>\n",
       "      <td>Existing</td>\n",
       "      <td>0.23</td>\n",
       "      <td>0.897680</td>\n",
       "    </tr>\n",
       "    <tr>\n",
       "      <th>6</th>\n",
       "      <td>191</td>\n",
       "      <td>Novel</td>\n",
       "      <td>0.22</td>\n",
       "      <td>0.873789</td>\n",
       "    </tr>\n",
       "    <tr>\n",
       "      <th>7</th>\n",
       "      <td>54</td>\n",
       "      <td>Existing</td>\n",
       "      <td>0.22</td>\n",
       "      <td>0.873789</td>\n",
       "    </tr>\n",
       "    <tr>\n",
       "      <th>8</th>\n",
       "      <td>259</td>\n",
       "      <td>Novel</td>\n",
       "      <td>0.21</td>\n",
       "      <td>0.861675</td>\n",
       "    </tr>\n",
       "    <tr>\n",
       "      <th>9</th>\n",
       "      <td>69</td>\n",
       "      <td>Existing</td>\n",
       "      <td>0.21</td>\n",
       "      <td>0.861675</td>\n",
       "    </tr>\n",
       "  </tbody>\n",
       "</table>\n",
       "</div>"
      ],
      "text/plain": [
       "   edges in_hetionet  precision  sen_cutoff\n",
       "0     63       Novel       0.25    0.906598\n",
       "1     21    Existing       0.25    0.906598\n",
       "2     69       Novel       0.24    0.904841\n",
       "3     22    Existing       0.24    0.904841\n",
       "4     87       Novel       0.23    0.897680\n",
       "5     26    Existing       0.23    0.897680\n",
       "6    191       Novel       0.22    0.873789\n",
       "7     54    Existing       0.22    0.873789\n",
       "8    259       Novel       0.21    0.861675\n",
       "9     69    Existing       0.21    0.861675"
      ]
     },
     "execution_count": 21,
     "metadata": {},
     "output_type": "execute_result"
    }
   ],
   "source": [
    "#precision_thresholds = pd.np.linspace(0,1,num=5)\n",
    "precision_thresholds = threshold_df.round(2).drop_duplicates(\"precision\").precision.values\n",
    "\n",
    "# Add the lowest precision rather than\n",
    "# Keep it zero\n",
    "precision_thresholds = (\n",
    "    pd.np.where(\n",
    "        precision_thresholds==0, \n",
    "        threshold_df.query(\"precision > 0\").precision.min(), \n",
    "        precision_thresholds\n",
    "    )\n",
    ")\n",
    "\n",
    "performance_records = []\n",
    "for precision_cutoff in tqdm_notebook(precision_thresholds):\n",
    "\n",
    "    cutoff = (\n",
    "        threshold_df\n",
    "        .query(\"precision>=@precision_cutoff\")\n",
    "        .pr_threshold\n",
    "        .min()\n",
    "    )\n",
    "    \n",
    "    values_added = (\n",
    "        grouped_candidates_pred_df\n",
    "        .query(\"pred_max >= @cutoff\")\n",
    "        .hetionet\n",
    "        .value_counts()\n",
    "    )\n",
    "    \n",
    "    series_keys = list(values_added.keys())\n",
    "    for key in series_keys:\n",
    "        performance_records.append(\n",
    "           {  \n",
    "               \"edges\": values_added[key], \n",
    "               \"in_hetionet\": \"Existing\" if key == 1 else \"Novel\", \n",
    "               \"precision\": precision_cutoff,\n",
    "               \"sen_cutoff\": cutoff\n",
    "           }\n",
    "        )\n",
    "   \n",
    "    \n",
    "edges_added_df = (\n",
    "    pd\n",
    "    .DataFrame\n",
    "    .from_records(performance_records)\n",
    ")\n",
    "edges_added_df.head(10)"
   ]
  },
  {
   "cell_type": "code",
   "execution_count": 22,
   "metadata": {
    "ExecuteTime": {
     "end_time": "2020-01-06T17:23:22.572753Z",
     "start_time": "2020-01-06T17:23:22.067925Z"
    }
   },
   "outputs": [
    {
     "data": {
      "text/plain": [
       "[None]"
      ]
     },
     "execution_count": 22,
     "metadata": {},
     "output_type": "execute_result"
    },
    {
     "data": {
      "image/png": "[encoded data removed]",
      "text/plain": [
       "<Figure size 432x288 with 1 Axes>"
      ]
     },
     "metadata": {
      "needs_background": "light"
     },
     "output_type": "display_data"
    }
   ],
   "source": [
    "ax = sns.scatterplot(x=\"precision\", y=\"edges\", hue=\"in_hetionet\", data=edges_added_df.sort_values(\"in_hetionet\"))\n",
    "ax.set(yscale=\"log\")"
   ]
  },
  {
   "cell_type": "code",
   "execution_count": 24,
   "metadata": {
    "ExecuteTime": {
     "end_time": "2020-01-06T17:23:31.142497Z",
     "start_time": "2020-01-06T17:23:31.127591Z"
    }
   },
   "outputs": [],
   "source": [
    "edges_added_df.to_csv(\"output/precision_gig_edges_added.tsv\", index=False, sep=\"\\t\")"
   ]
  },
  {
   "cell_type": "markdown",
   "metadata": {},
   "source": [
    "# Optimal ROC Cutoff"
   ]
  },
  {
   "cell_type": "code",
   "execution_count": 25,
   "metadata": {
    "ExecuteTime": {
     "end_time": "2020-01-06T17:23:33.056998Z",
     "start_time": "2020-01-06T17:23:33.039105Z"
    }
   },
   "outputs": [
    {
     "data": {
      "text/plain": [
       "0    11885\n",
       "1     1033\n",
       "Name: hetionet, dtype: int64"
      ]
     },
     "execution_count": 25,
     "metadata": {},
     "output_type": "execute_result"
    }
   ],
   "source": [
    "(\n",
    "    grouped_candidates_pred_df\n",
    "    .query(\"pred_max > @roc_optimal\")\n",
    "    .sort_values(\"hetionet\")\n",
    "    .hetionet.value_counts()\n",
    ")"
   ]
  },
  {
   "cell_type": "code",
   "execution_count": 26,
   "metadata": {
    "ExecuteTime": {
     "end_time": "2020-01-06T17:23:33.560720Z",
     "start_time": "2020-01-06T17:23:33.477140Z"
    }
   },
   "outputs": [
    {
     "data": {
      "text/html": [
       "<div>\n",
       "<style scoped>\n",
       "    .dataframe tbody tr th:only-of-type {\n",
       "        vertical-align: middle;\n",
       "    }\n",
       "\n",
       "    .dataframe tbody tr th {\n",
       "        vertical-align: top;\n",
       "    }\n",
       "\n",
       "    .dataframe thead th {\n",
       "        text-align: right;\n",
       "    }\n",
       "</style>\n",
       "<table border=\"1\" class=\"dataframe\">\n",
       "  <thead>\n",
       "    <tr style=\"text-align: right;\">\n",
       "      <th></th>\n",
       "      <th>gene1_id</th>\n",
       "      <th>gene2_id</th>\n",
       "      <th>pred_max</th>\n",
       "      <th>pred_mean</th>\n",
       "      <th>pred_median</th>\n",
       "      <th>hetionet</th>\n",
       "      <th>gene1_name</th>\n",
       "      <th>gene2_name</th>\n",
       "    </tr>\n",
       "  </thead>\n",
       "  <tbody>\n",
       "    <tr>\n",
       "      <th>607333</th>\n",
       "      <td>7157</td>\n",
       "      <td>2810</td>\n",
       "      <td>0.956390</td>\n",
       "      <td>0.252829</td>\n",
       "      <td>0.178693</td>\n",
       "      <td>0</td>\n",
       "      <td>TP53</td>\n",
       "      <td>SFN</td>\n",
       "    </tr>\n",
       "    <tr>\n",
       "      <th>618644</th>\n",
       "      <td>7299</td>\n",
       "      <td>7299</td>\n",
       "      <td>0.955107</td>\n",
       "      <td>0.350789</td>\n",
       "      <td>0.268351</td>\n",
       "      <td>0</td>\n",
       "      <td>TYR</td>\n",
       "      <td>TYR</td>\n",
       "    </tr>\n",
       "    <tr>\n",
       "      <th>67</th>\n",
       "      <td>2</td>\n",
       "      <td>2</td>\n",
       "      <td>0.950318</td>\n",
       "      <td>0.186167</td>\n",
       "      <td>0.062882</td>\n",
       "      <td>0</td>\n",
       "      <td>A2M</td>\n",
       "      <td>A2M</td>\n",
       "    </tr>\n",
       "    <tr>\n",
       "      <th>851521</th>\n",
       "      <td>79577</td>\n",
       "      <td>846</td>\n",
       "      <td>0.949936</td>\n",
       "      <td>0.934678</td>\n",
       "      <td>0.934678</td>\n",
       "      <td>0</td>\n",
       "      <td>CDC73</td>\n",
       "      <td>CASR</td>\n",
       "    </tr>\n",
       "    <tr>\n",
       "      <th>714571</th>\n",
       "      <td>10165</td>\n",
       "      <td>10165</td>\n",
       "      <td>0.948074</td>\n",
       "      <td>0.382813</td>\n",
       "      <td>0.271189</td>\n",
       "      <td>0</td>\n",
       "      <td>SLC25A13</td>\n",
       "      <td>SLC25A13</td>\n",
       "    </tr>\n",
       "    <tr>\n",
       "      <th>148890</th>\n",
       "      <td>1499</td>\n",
       "      <td>7490</td>\n",
       "      <td>0.945591</td>\n",
       "      <td>0.236648</td>\n",
       "      <td>0.146248</td>\n",
       "      <td>0</td>\n",
       "      <td>CTNNB1</td>\n",
       "      <td>WT1</td>\n",
       "    </tr>\n",
       "    <tr>\n",
       "      <th>300813</th>\n",
       "      <td>3552</td>\n",
       "      <td>3553</td>\n",
       "      <td>0.943410</td>\n",
       "      <td>0.091153</td>\n",
       "      <td>0.026806</td>\n",
       "      <td>0</td>\n",
       "      <td>IL1A</td>\n",
       "      <td>IL1B</td>\n",
       "    </tr>\n",
       "    <tr>\n",
       "      <th>511592</th>\n",
       "      <td>5979</td>\n",
       "      <td>673</td>\n",
       "      <td>0.942609</td>\n",
       "      <td>0.240136</td>\n",
       "      <td>0.105599</td>\n",
       "      <td>0</td>\n",
       "      <td>RET</td>\n",
       "      <td>BRAF</td>\n",
       "    </tr>\n",
       "    <tr>\n",
       "      <th>278212</th>\n",
       "      <td>3291</td>\n",
       "      <td>3291</td>\n",
       "      <td>0.940742</td>\n",
       "      <td>0.367798</td>\n",
       "      <td>0.127536</td>\n",
       "      <td>0</td>\n",
       "      <td>HSD11B2</td>\n",
       "      <td>HSD11B2</td>\n",
       "    </tr>\n",
       "    <tr>\n",
       "      <th>308794</th>\n",
       "      <td>3566</td>\n",
       "      <td>3566</td>\n",
       "      <td>0.937424</td>\n",
       "      <td>0.269356</td>\n",
       "      <td>0.151564</td>\n",
       "      <td>0</td>\n",
       "      <td>IL4R</td>\n",
       "      <td>IL4R</td>\n",
       "    </tr>\n",
       "  </tbody>\n",
       "</table>\n",
       "</div>"
      ],
      "text/plain": [
       "        gene1_id  gene2_id  pred_max  pred_mean  pred_median  hetionet  \\\n",
       "607333      7157      2810  0.956390   0.252829     0.178693         0   \n",
       "618644      7299      7299  0.955107   0.350789     0.268351         0   \n",
       "67             2         2  0.950318   0.186167     0.062882         0   \n",
       "851521     79577       846  0.949936   0.934678     0.934678         0   \n",
       "714571     10165     10165  0.948074   0.382813     0.271189         0   \n",
       "148890      1499      7490  0.945591   0.236648     0.146248         0   \n",
       "300813      3552      3553  0.943410   0.091153     0.026806         0   \n",
       "511592      5979       673  0.942609   0.240136     0.105599         0   \n",
       "278212      3291      3291  0.940742   0.367798     0.127536         0   \n",
       "308794      3566      3566  0.937424   0.269356     0.151564         0   \n",
       "\n",
       "       gene1_name gene2_name  \n",
       "607333       TP53        SFN  \n",
       "618644        TYR        TYR  \n",
       "67            A2M        A2M  \n",
       "851521      CDC73       CASR  \n",
       "714571   SLC25A13   SLC25A13  \n",
       "148890     CTNNB1        WT1  \n",
       "300813       IL1A       IL1B  \n",
       "511592        RET       BRAF  \n",
       "278212    HSD11B2    HSD11B2  \n",
       "308794       IL4R       IL4R  "
      ]
     },
     "execution_count": 26,
     "metadata": {},
     "output_type": "execute_result"
    }
   ],
   "source": [
    "(\n",
    "    grouped_candidates_pred_df\n",
    "    .query(\"pred_max > @roc_optimal\")\n",
    "    .sort_values([\"hetionet\", \"pred_max\"], ascending=[True, False])\n",
    "    .head(10)\n",
    ")"
   ]
  }
 ],
 "metadata": {
  "kernelspec": {
   "display_name": "Python [conda env:snorkeling]",
   "language": "python",
   "name": "conda-env-snorkeling-py"
  },
  "language_info": {
   "codemirror_mode": {
    "name": "ipython",
    "version": 3
   },
   "file_extension": ".py",
   "mimetype": "text/x-python",
   "name": "python",
   "nbconvert_exporter": "python",
   "pygments_lexer": "ipython3",
   "version": "3.6.7"
  },
  "toc": {
   "base_numbering": 1,
   "nav_menu": {},
   "number_sections": true,
   "sideBar": true,
   "skip_h1_title": false,
   "title_cell": "Table of Contents",
   "title_sidebar": "Contents",
   "toc_cell": false,
   "toc_position": {},
   "toc_section_display": true,
   "toc_window_display": false
  },
  "varInspector": {
   "cols": {
    "lenName": 16,
    "lenType": 16,
    "lenVar": 40
   },
   "kernels_config": {
    "python": {
     "delete_cmd_postfix": "",
     "delete_cmd_prefix": "del ",
     "library": "var_list.py",
     "varRefreshCmd": "print(var_dic_list())"
    },
    "r": {
     "delete_cmd_postfix": ") ",
     "delete_cmd_prefix": "rm(",
     "library": "var_list.r",
     "varRefreshCmd": "cat(var_dic_list()) "
    }
   },
   "types_to_exclude": [
    "module",
    "function",
    "builtin_function_or_method",
    "instance",
    "_Feature"
   ],
   "window_display": false
  }
 },
 "nbformat": 4,
 "nbformat_minor": 2
}
