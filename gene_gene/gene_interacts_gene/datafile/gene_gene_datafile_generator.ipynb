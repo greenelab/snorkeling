{
 "cells": [
  {
   "cell_type": "markdown",
   "metadata": {},
   "source": [
    "# Generate Gene Interacts Gene Candidates"
   ]
  },
  {
   "cell_type": "markdown",
   "metadata": {},
   "source": [
    "This notebook is designed to construct a table that contains gene pairs with various statistics (number of sentences, if contained in hetionet, if the edge has sentences and which training category each pair belongs to)."
   ]
  },
  {
   "cell_type": "code",
   "execution_count": 1,
   "metadata": {
    "ExecuteTime": {
     "end_time": "2020-01-16T21:03:52.834496Z",
     "start_time": "2020-01-16T21:03:52.525549Z"
    }
   },
   "outputs": [],
   "source": [
    "%load_ext autoreload\n",
    "%autoreload 2\n",
    "%matplotlib inline\n",
    "\n",
    "from collections import Counter\n",
    "from itertools import product\n",
    "import os\n",
    "import pickle\n",
    "import sys\n",
    "\n",
    "import pandas as pd"
   ]
  },
  {
   "cell_type": "code",
   "execution_count": 2,
   "metadata": {
    "ExecuteTime": {
     "end_time": "2020-01-16T21:03:52.844879Z",
     "start_time": "2020-01-16T21:03:52.835925Z"
    }
   },
   "outputs": [],
   "source": [
    "#Set up the environment\n",
    "username = \"danich1\"\n",
    "password = \"snorkel\"\n",
    "dbname = \"pubmeddb\"\n",
    "\n",
    "#Path subject to change for different os\n",
    "database_str = \"postgresql+psycopg2://{}:{}@/{}?host=/var/run/postgresql\".format(username, password, dbname)"
   ]
  },
  {
   "cell_type": "code",
   "execution_count": 3,
   "metadata": {
    "ExecuteTime": {
     "end_time": "2020-01-16T21:03:52.857778Z",
     "start_time": "2020-01-16T21:03:52.847948Z"
    }
   },
   "outputs": [],
   "source": [
    "gene_url = \"https://raw.githubusercontent.com/dhimmel/entrez-gene/a7362748a34211e5df6f2d185bb3246279760546/data/genes-human.tsv\"\n",
    "ppi_url = \"https://raw.githubusercontent.com/dhimmel/ppi/f6a7edbc8de6ba2d7fe1ef3fee4d89e5b8d0b900/data/ppi-hetio-ind.tsv\""
   ]
  },
  {
   "cell_type": "markdown",
   "metadata": {},
   "source": [
    "## Read in Gene Entities"
   ]
  },
  {
   "cell_type": "code",
   "execution_count": 4,
   "metadata": {
    "ExecuteTime": {
     "end_time": "2020-01-16T21:03:53.535788Z",
     "start_time": "2020-01-16T21:03:52.859340Z"
    }
   },
   "outputs": [
    {
     "name": "stderr",
     "output_type": "stream",
     "text": [
      "/home/danich1/.local/lib/python3.6/site-packages/ipykernel_launcher.py:1: FutureWarning: read_table is deprecated, use read_csv instead, passing sep='\\t'.\n",
      "  \"\"\"Entry point for launching an IPython kernel.\n"
     ]
    },
    {
     "data": {
      "text/html": [
       "<div>\n",
       "<style scoped>\n",
       "    .dataframe tbody tr th:only-of-type {\n",
       "        vertical-align: middle;\n",
       "    }\n",
       "\n",
       "    .dataframe tbody tr th {\n",
       "        vertical-align: top;\n",
       "    }\n",
       "\n",
       "    .dataframe thead th {\n",
       "        text-align: right;\n",
       "    }\n",
       "</style>\n",
       "<table border=\"1\" class=\"dataframe\">\n",
       "  <thead>\n",
       "    <tr style=\"text-align: right;\">\n",
       "      <th></th>\n",
       "      <th>tax_id</th>\n",
       "      <th>entrez_gene_id</th>\n",
       "      <th>Symbol</th>\n",
       "      <th>chromosome</th>\n",
       "      <th>map_location</th>\n",
       "      <th>type_of_gene</th>\n",
       "      <th>description</th>\n",
       "    </tr>\n",
       "  </thead>\n",
       "  <tbody>\n",
       "    <tr>\n",
       "      <th>0</th>\n",
       "      <td>9606</td>\n",
       "      <td>1</td>\n",
       "      <td>A1BG</td>\n",
       "      <td>19</td>\n",
       "      <td>19q13.4</td>\n",
       "      <td>protein-coding</td>\n",
       "      <td>alpha-1-B glycoprotein</td>\n",
       "    </tr>\n",
       "    <tr>\n",
       "      <th>1</th>\n",
       "      <td>9606</td>\n",
       "      <td>2</td>\n",
       "      <td>A2M</td>\n",
       "      <td>12</td>\n",
       "      <td>12p13.31</td>\n",
       "      <td>protein-coding</td>\n",
       "      <td>alpha-2-macroglobulin</td>\n",
       "    </tr>\n",
       "  </tbody>\n",
       "</table>\n",
       "</div>"
      ],
      "text/plain": [
       "   tax_id  entrez_gene_id Symbol chromosome map_location    type_of_gene  \\\n",
       "0    9606               1   A1BG         19      19q13.4  protein-coding   \n",
       "1    9606               2    A2M         12     12p13.31  protein-coding   \n",
       "\n",
       "              description  \n",
       "0  alpha-1-B glycoprotein  \n",
       "1   alpha-2-macroglobulin  "
      ]
     },
     "execution_count": 4,
     "metadata": {},
     "output_type": "execute_result"
    }
   ],
   "source": [
    "entrez_gene_df = pd.read_table(gene_url).rename(index=str, columns={\"GeneID\": \"entrez_gene_id\"})\n",
    "entrez_gene_df.head(2)"
   ]
  },
  {
   "cell_type": "markdown",
   "metadata": {},
   "source": [
    "## Read in Gene Interacts Gene Table"
   ]
  },
  {
   "cell_type": "code",
   "execution_count": 5,
   "metadata": {
    "ExecuteTime": {
     "end_time": "2020-01-16T21:03:54.159267Z",
     "start_time": "2020-01-16T21:03:53.538589Z"
    }
   },
   "outputs": [
    {
     "name": "stderr",
     "output_type": "stream",
     "text": [
      "/home/danich1/.local/lib/python3.6/site-packages/ipykernel_launcher.py:1: FutureWarning: read_table is deprecated, use read_csv instead, passing sep='\\t'.\n",
      "  \"\"\"Entry point for launching an IPython kernel.\n"
     ]
    },
    {
     "data": {
      "text/html": [
       "<div>\n",
       "<style scoped>\n",
       "    .dataframe tbody tr th:only-of-type {\n",
       "        vertical-align: middle;\n",
       "    }\n",
       "\n",
       "    .dataframe tbody tr th {\n",
       "        vertical-align: top;\n",
       "    }\n",
       "\n",
       "    .dataframe thead th {\n",
       "        text-align: right;\n",
       "    }\n",
       "</style>\n",
       "<table border=\"1\" class=\"dataframe\">\n",
       "  <thead>\n",
       "    <tr style=\"text-align: right;\">\n",
       "      <th></th>\n",
       "      <th>gene_0</th>\n",
       "      <th>gene_1</th>\n",
       "      <th>sources</th>\n",
       "      <th>unbiased</th>\n",
       "    </tr>\n",
       "  </thead>\n",
       "  <tbody>\n",
       "    <tr>\n",
       "      <th>0</th>\n",
       "      <td>1</td>\n",
       "      <td>310</td>\n",
       "      <td>hetio-dag</td>\n",
       "      <td>0</td>\n",
       "    </tr>\n",
       "    <tr>\n",
       "      <th>1</th>\n",
       "      <td>1</td>\n",
       "      <td>1026</td>\n",
       "      <td>hetio-dag</td>\n",
       "      <td>0</td>\n",
       "    </tr>\n",
       "  </tbody>\n",
       "</table>\n",
       "</div>"
      ],
      "text/plain": [
       "   gene_0  gene_1    sources  unbiased\n",
       "0       1     310  hetio-dag         0\n",
       "1       1    1026  hetio-dag         0"
      ]
     },
     "execution_count": 5,
     "metadata": {},
     "output_type": "execute_result"
    }
   ],
   "source": [
    "gene_gene_interaction_df = pd.read_table(ppi_url)\n",
    "gene_gene_interaction_df.head(2)"
   ]
  },
  {
   "cell_type": "markdown",
   "metadata": {},
   "source": [
    "## Read in Sentences with Edge Pair"
   ]
  },
  {
   "cell_type": "code",
   "execution_count": 8,
   "metadata": {
    "ExecuteTime": {
     "end_time": "2020-01-16T21:05:51.088043Z",
     "start_time": "2020-01-16T21:04:23.183028Z"
    }
   },
   "outputs": [
    {
     "data": {
      "text/html": [
       "<div>\n",
       "<style scoped>\n",
       "    .dataframe tbody tr th:only-of-type {\n",
       "        vertical-align: middle;\n",
       "    }\n",
       "\n",
       "    .dataframe tbody tr th {\n",
       "        vertical-align: top;\n",
       "    }\n",
       "\n",
       "    .dataframe thead th {\n",
       "        text-align: right;\n",
       "    }\n",
       "</style>\n",
       "<table border=\"1\" class=\"dataframe\">\n",
       "  <thead>\n",
       "    <tr style=\"text-align: right;\">\n",
       "      <th></th>\n",
       "      <th>gene1_id</th>\n",
       "      <th>gene2_id</th>\n",
       "      <th>n_sentences</th>\n",
       "    </tr>\n",
       "  </thead>\n",
       "  <tbody>\n",
       "    <tr>\n",
       "      <th>0</th>\n",
       "      <td>1</td>\n",
       "      <td>1</td>\n",
       "      <td>240</td>\n",
       "    </tr>\n",
       "    <tr>\n",
       "      <th>1</th>\n",
       "      <td>1</td>\n",
       "      <td>10321</td>\n",
       "      <td>5</td>\n",
       "    </tr>\n",
       "  </tbody>\n",
       "</table>\n",
       "</div>"
      ],
      "text/plain": [
       "   gene1_id  gene2_id  n_sentences\n",
       "0         1         1          240\n",
       "1         1     10321            5"
      ]
     },
     "execution_count": 8,
     "metadata": {},
     "output_type": "execute_result"
    }
   ],
   "source": [
    "query = '''\n",
    "SELECT \"Gene1_cid\" AS gene1_id, \"Gene2_cid\" AS gene2_id, count(*) AS n_sentences\n",
    "FROM gene_gene\n",
    "GROUP BY \"Gene1_cid\", \"Gene2_cid\";\n",
    "'''\n",
    "gene_gene_sentence_df = pd.read_sql(query, database_str).astype({\"gene1_id\":int, \"gene2_id\":int})\n",
    "gene_gene_sentence_df.head(2)"
   ]
  },
  {
   "cell_type": "markdown",
   "metadata": {},
   "source": [
    "## Merge Edges Into a Unified Table"
   ]
  },
  {
   "cell_type": "code",
   "execution_count": 9,
   "metadata": {
    "ExecuteTime": {
     "end_time": "2020-01-16T21:07:39.208149Z",
     "start_time": "2020-01-16T21:07:38.642861Z"
    }
   },
   "outputs": [
    {
     "data": {
      "text/html": [
       "<div>\n",
       "<style scoped>\n",
       "    .dataframe tbody tr th:only-of-type {\n",
       "        vertical-align: middle;\n",
       "    }\n",
       "\n",
       "    .dataframe tbody tr th {\n",
       "        vertical-align: top;\n",
       "    }\n",
       "\n",
       "    .dataframe thead th {\n",
       "        text-align: right;\n",
       "    }\n",
       "</style>\n",
       "<table border=\"1\" class=\"dataframe\">\n",
       "  <thead>\n",
       "    <tr style=\"text-align: right;\">\n",
       "      <th></th>\n",
       "      <th>gene1_id</th>\n",
       "      <th>gene2_id</th>\n",
       "      <th>sources</th>\n",
       "      <th>unbiased</th>\n",
       "      <th>n_sentences</th>\n",
       "      <th>hetionet</th>\n",
       "      <th>has_sentence</th>\n",
       "    </tr>\n",
       "  </thead>\n",
       "  <tbody>\n",
       "    <tr>\n",
       "      <th>0</th>\n",
       "      <td>1</td>\n",
       "      <td>10321</td>\n",
       "      <td>II_literature|hetio-dag</td>\n",
       "      <td>0.0</td>\n",
       "      <td>5</td>\n",
       "      <td>1</td>\n",
       "      <td>1</td>\n",
       "    </tr>\n",
       "    <tr>\n",
       "      <th>1</th>\n",
       "      <td>2</td>\n",
       "      <td>348</td>\n",
       "      <td>II_literature|Lit-BM-13|hetio-dag</td>\n",
       "      <td>0.0</td>\n",
       "      <td>298</td>\n",
       "      <td>1</td>\n",
       "      <td>1</td>\n",
       "    </tr>\n",
       "  </tbody>\n",
       "</table>\n",
       "</div>"
      ],
      "text/plain": [
       "   gene1_id  gene2_id                            sources  unbiased  \\\n",
       "0         1     10321            II_literature|hetio-dag       0.0   \n",
       "1         2       348  II_literature|Lit-BM-13|hetio-dag       0.0   \n",
       "\n",
       "   n_sentences  hetionet  has_sentence  \n",
       "0            5         1             1  \n",
       "1          298         1             1  "
      ]
     },
     "execution_count": 9,
     "metadata": {},
     "output_type": "execute_result"
    }
   ],
   "source": [
    "gene_gene_interaction_df = (\n",
    "    gene_gene_interaction_df\n",
    "    .rename(index=str, columns={\"gene_0\":\"gene1_id\", \"gene_1\":\"gene2_id\"})\n",
    "    .merge(gene_gene_sentence_df, on=[\"gene1_id\", \"gene2_id\"], how=\"right\")\n",
    ")\n",
    "gene_gene_interaction_df=(\n",
    "    gene_gene_interaction_df\n",
    "    .assign(hetionet=gene_gene_interaction_df.sources.notnull().astype(int))\n",
    "    .assign(has_sentence=(gene_gene_interaction_df.n_sentences > 0).astype(int))\n",
    ")\n",
    "gene_gene_interaction_df.head(2)"
   ]
  },
  {
   "cell_type": "code",
   "execution_count": 8,
   "metadata": {
    "ExecuteTime": {
     "end_time": "2019-08-07T17:56:57.053149Z",
     "start_time": "2019-08-07T17:56:56.332369Z"
    }
   },
   "outputs": [
    {
     "data": {
      "text/html": [
       "<div>\n",
       "<style scoped>\n",
       "    .dataframe tbody tr th:only-of-type {\n",
       "        vertical-align: middle;\n",
       "    }\n",
       "\n",
       "    .dataframe tbody tr th {\n",
       "        vertical-align: top;\n",
       "    }\n",
       "\n",
       "    .dataframe thead th {\n",
       "        text-align: right;\n",
       "    }\n",
       "</style>\n",
       "<table border=\"1\" class=\"dataframe\">\n",
       "  <thead>\n",
       "    <tr style=\"text-align: right;\">\n",
       "      <th></th>\n",
       "      <th>gene1_id</th>\n",
       "      <th>gene2_id</th>\n",
       "      <th>sources</th>\n",
       "      <th>unbiased</th>\n",
       "      <th>n_sentences</th>\n",
       "      <th>hetionet</th>\n",
       "      <th>has_sentence</th>\n",
       "      <th>gene1_name</th>\n",
       "      <th>gene2_name</th>\n",
       "    </tr>\n",
       "  </thead>\n",
       "  <tbody>\n",
       "    <tr>\n",
       "      <th>0</th>\n",
       "      <td>1</td>\n",
       "      <td>10321</td>\n",
       "      <td>II_literature|hetio-dag</td>\n",
       "      <td>0.0</td>\n",
       "      <td>5</td>\n",
       "      <td>1</td>\n",
       "      <td>1</td>\n",
       "      <td>A1BG</td>\n",
       "      <td>CRISP3</td>\n",
       "    </tr>\n",
       "    <tr>\n",
       "      <th>1</th>\n",
       "      <td>125</td>\n",
       "      <td>10321</td>\n",
       "      <td>NaN</td>\n",
       "      <td>NaN</td>\n",
       "      <td>1</td>\n",
       "      <td>0</td>\n",
       "      <td>1</td>\n",
       "      <td>ADH1B</td>\n",
       "      <td>CRISP3</td>\n",
       "    </tr>\n",
       "  </tbody>\n",
       "</table>\n",
       "</div>"
      ],
      "text/plain": [
       "   gene1_id  gene2_id                  sources  unbiased  n_sentences  \\\n",
       "0         1     10321  II_literature|hetio-dag       0.0            5   \n",
       "1       125     10321                      NaN       NaN            1   \n",
       "\n",
       "   hetionet  has_sentence gene1_name gene2_name  \n",
       "0         1             1       A1BG     CRISP3  \n",
       "1         0             1      ADH1B     CRISP3  "
      ]
     },
     "execution_count": 8,
     "metadata": {},
     "output_type": "execute_result"
    }
   ],
   "source": [
    "gene_gene_interaction_df=(\n",
    "    gene_gene_interaction_df\n",
    "    .merge(\n",
    "        entrez_gene_df[[\"entrez_gene_id\", \"Symbol\"]]\n",
    "        .rename(index=str, columns={\"entrez_gene_id\": \"gene1_id\", \"Symbol\":\"gene1_name\"}), \n",
    "        on=\"gene1_id\"\n",
    "    )\n",
    "    .merge(\n",
    "        entrez_gene_df[[\"entrez_gene_id\", \"Symbol\"]]\n",
    "        .rename(index=str, columns={\"entrez_gene_id\": \"gene2_id\", \"Symbol\":\"gene2_name\"}), \n",
    "        on=\"gene2_id\"\n",
    "    )\n",
    ")\n",
    "gene_gene_interaction_df.head(2)"
   ]
  },
  {
   "cell_type": "markdown",
   "metadata": {},
   "source": [
    "## Sort Edges into categories"
   ]
  },
  {
   "cell_type": "code",
   "execution_count": 9,
   "metadata": {
    "ExecuteTime": {
     "end_time": "2019-08-07T17:56:57.066076Z",
     "start_time": "2019-08-07T17:56:57.054707Z"
    }
   },
   "outputs": [],
   "source": [
    "def partitioner(df):\n",
    "    \"\"\"\n",
    "    This function creates a parition rank for the current dataset.\n",
    "    This algorithm assigns a rank [0-1) for each datapoint inside each group (outlined below):\n",
    "        1,1 -in hetionet and has sentences\n",
    "        1,0 - in hetionet and doesn't have sentences\n",
    "        0,1 - not in hetionet and does have sentences\n",
    "        0,0, - not in hetionet and doesn't have sentences\n",
    "        \n",
    "    This ranking will be used in the get split function to assign each datapoint \n",
    "    into its corresponding category (train, dev, test)\n",
    "    \"\"\"\n",
    "    partition_rank = pd.np.linspace(0, 1, num=len(df), endpoint=False)\n",
    "    pd.np.random.shuffle(partition_rank)\n",
    "    df['partition_rank'] = partition_rank\n",
    "    return df"
   ]
  },
  {
   "cell_type": "code",
   "execution_count": 10,
   "metadata": {
    "ExecuteTime": {
     "end_time": "2019-08-07T17:56:57.134420Z",
     "start_time": "2019-08-07T17:56:57.069403Z"
    }
   },
   "outputs": [],
   "source": [
    "def get_split(partition_rank, training=0.7, dev=0.2, test=0.1):\n",
    "    \"\"\"\n",
    "    This function partitions the data into training, dev, and test sets\n",
    "    The partitioning algorithm is as follows:\n",
    "        1. anything less than 0.7 goes into training and receives an appropiate label\n",
    "        2. If not less than 0.7 subtract 0.7 and see if the rank is less than 0.2 if not assign to dev\n",
    "        3. Lastly if the rank is greater than 0.9 (0.7+0.2) assign it to test set.\n",
    "        \n",
    "    return label that corresponds to appropiate dataset cateogories\n",
    "    \"\"\"\n",
    "    if partition_rank < training:\n",
    "        return 3\n",
    "    partition_rank -= training\n",
    "    if partition_rank < dev:\n",
    "        return 4\n",
    "    partition_rank -= dev\n",
    "    assert partition_rank <= test\n",
    "    return 5"
   ]
  },
  {
   "cell_type": "code",
   "execution_count": 11,
   "metadata": {
    "ExecuteTime": {
     "end_time": "2019-08-07T17:56:58.454858Z",
     "start_time": "2019-08-07T17:56:57.135647Z"
    }
   },
   "outputs": [
    {
     "data": {
      "text/html": [
       "<div>\n",
       "<style scoped>\n",
       "    .dataframe tbody tr th:only-of-type {\n",
       "        vertical-align: middle;\n",
       "    }\n",
       "\n",
       "    .dataframe tbody tr th {\n",
       "        vertical-align: top;\n",
       "    }\n",
       "\n",
       "    .dataframe thead th {\n",
       "        text-align: right;\n",
       "    }\n",
       "</style>\n",
       "<table border=\"1\" class=\"dataframe\">\n",
       "  <thead>\n",
       "    <tr style=\"text-align: right;\">\n",
       "      <th></th>\n",
       "      <th>gene1_id</th>\n",
       "      <th>gene2_id</th>\n",
       "      <th>sources</th>\n",
       "      <th>unbiased</th>\n",
       "      <th>n_sentences</th>\n",
       "      <th>hetionet</th>\n",
       "      <th>has_sentence</th>\n",
       "      <th>gene1_name</th>\n",
       "      <th>gene2_name</th>\n",
       "      <th>partition_rank</th>\n",
       "    </tr>\n",
       "  </thead>\n",
       "  <tbody>\n",
       "    <tr>\n",
       "      <th>0</th>\n",
       "      <td>1</td>\n",
       "      <td>10321</td>\n",
       "      <td>II_literature|hetio-dag</td>\n",
       "      <td>0.0</td>\n",
       "      <td>5</td>\n",
       "      <td>1</td>\n",
       "      <td>1</td>\n",
       "      <td>A1BG</td>\n",
       "      <td>CRISP3</td>\n",
       "      <td>0.436432</td>\n",
       "    </tr>\n",
       "    <tr>\n",
       "      <th>1</th>\n",
       "      <td>125</td>\n",
       "      <td>10321</td>\n",
       "      <td>NaN</td>\n",
       "      <td>NaN</td>\n",
       "      <td>1</td>\n",
       "      <td>0</td>\n",
       "      <td>1</td>\n",
       "      <td>ADH1B</td>\n",
       "      <td>CRISP3</td>\n",
       "      <td>0.664368</td>\n",
       "    </tr>\n",
       "  </tbody>\n",
       "</table>\n",
       "</div>"
      ],
      "text/plain": [
       "   gene1_id  gene2_id                  sources  unbiased  n_sentences  \\\n",
       "0         1     10321  II_literature|hetio-dag       0.0            5   \n",
       "1       125     10321                      NaN       NaN            1   \n",
       "\n",
       "   hetionet  has_sentence gene1_name gene2_name  partition_rank  \n",
       "0         1             1       A1BG     CRISP3        0.436432  \n",
       "1         0             1      ADH1B     CRISP3        0.664368  "
      ]
     },
     "execution_count": 11,
     "metadata": {},
     "output_type": "execute_result"
    }
   ],
   "source": [
    "pd.np.random.seed(100)\n",
    "map_df = gene_gene_interaction_df.groupby(['hetionet', 'has_sentence']).apply(partitioner)\n",
    "map_df.head(2)"
   ]
  },
  {
   "cell_type": "code",
   "execution_count": 12,
   "metadata": {
    "ExecuteTime": {
     "end_time": "2019-08-07T17:56:59.127715Z",
     "start_time": "2019-08-07T17:56:58.456345Z"
    }
   },
   "outputs": [
    {
     "data": {
      "text/plain": [
       "3    1376115\n",
       "4     393176\n",
       "5     196587\n",
       "Name: split, dtype: int64"
      ]
     },
     "execution_count": 12,
     "metadata": {},
     "output_type": "execute_result"
    }
   ],
   "source": [
    "map_df['split'] = map_df.partition_rank.map(get_split)\n",
    "map_df.split.value_counts()"
   ]
  },
  {
   "cell_type": "code",
   "execution_count": 13,
   "metadata": {
    "ExecuteTime": {
     "end_time": "2019-08-07T17:56:59.194355Z",
     "start_time": "2019-08-07T17:56:59.129404Z"
    }
   },
   "outputs": [
    {
     "data": {
      "text/plain": [
       "array(['II_literature|hetio-dag', nan, 'II_literature', 'hetio-dag',\n",
       "       'II_literature|Lit-BM-13|hetio-dag',\n",
       "       'II_binary|II_literature|hetio-dag',\n",
       "       'II_binary|II_literature|Lit-BM-13|hetio-dag',\n",
       "       'II_literature|Lit-BM-13', 'Lit-BM-13|hetio-dag',\n",
       "       'II_binary|II_literature|Lit-BM-13', 'II_binary|II_literature',\n",
       "       'HI-I-05|HI-II-14|II_binary|II_literature|Yu-11|hetio-dag',\n",
       "       'HI-I-05|HI-II-14|II_binary|II_literature|Lit-BM-13',\n",
       "       'HI-II-14|II_binary',\n",
       "       'HI-I-05|II_binary|II_literature|Lit-BM-13|hetio-dag',\n",
       "       'HI-II-14|II_binary|II_literature|Lit-BM-13|hetio-dag',\n",
       "       'HI-I-05|HI-II-14|II_binary|II_literature|Lit-BM-13|Yu-11',\n",
       "       'Lit-BM-13', 'II_binary|hetio-dag',\n",
       "       'HI-II-14|II_binary|II_literature',\n",
       "       'HI-I-05|II_binary|II_literature|hetio-dag',\n",
       "       'HI-II-14|II_binary|II_literature|Lit-BM-13|Yu-11|hetio-dag',\n",
       "       'HI-I-05|HI-II-14|II_binary|II_literature|hetio-dag',\n",
       "       'HI-I-05|HI-II-14|II_binary|II_literature|Lit-BM-13|hetio-dag',\n",
       "       'HI-I-05|HI-II-14|II_binary|II_literature',\n",
       "       'HI-II-14|II_binary|Yu-11',\n",
       "       'HI-I-05|II_binary|II_literature|Lit-BM-13',\n",
       "       'HI-II-14|II_binary|II_literature|Lit-BM-13',\n",
       "       'HI-II-14|II_binary|II_literature|Yu-11|hetio-dag',\n",
       "       'HI-II-14|II_binary|II_literature|hetio-dag',\n",
       "       'II_binary|Lit-BM-13',\n",
       "       'HI-I-05|HI-II-14|II_binary|II_literature|Venkatesan-09|Yu-11',\n",
       "       'HI-I-05|HI-II-14|II_binary|II_literature|Lit-BM-13|Venkatesan-09|Yu-11|hetio-dag',\n",
       "       'HI-II-14|II_binary|Lit-BM-13|hetio-dag',\n",
       "       'HI-I-05|II_binary|II_literature',\n",
       "       'HI-I-05|HI-II-14|II_binary|II_literature|Lit-BM-13|Yu-11|hetio-dag',\n",
       "       'HI-II-14|II_binary|Yu-11|hetio-dag', 'II_binary',\n",
       "       'HI-II-14|II_binary|Lit-BM-13', 'HI-II-14|II_binary|hetio-dag',\n",
       "       'HI-II-14|II_binary|II_literature|Venkatesan-09|hetio-dag',\n",
       "       'HI-I-05|HI-II-14|II_binary|II_literature|Venkatesan-09',\n",
       "       'HI-I-05|II_binary|II_literature|Lit-BM-13|Venkatesan-09|hetio-dag',\n",
       "       'HI-I-05|HI-II-14|II_binary|II_literature|Yu-11',\n",
       "       'HI-II-14|II_binary|Lit-BM-13|Yu-11|hetio-dag',\n",
       "       'HI-I-05|HI-II-14|II_binary|II_literature|Venkatesan-09|hetio-dag',\n",
       "       'HI-II-14|II_binary|II_literature|Lit-BM-13|Yu-11',\n",
       "       'II_binary|Yu-11|hetio-dag', 'II_binary|Lit-BM-13|hetio-dag',\n",
       "       'II_binary|II_literature|Lit-BM-13|Yu-11|hetio-dag',\n",
       "       'HI-II-14|II_binary|II_literature|Yu-11',\n",
       "       'HI-I-05|II_binary|II_literature|Yu-11|hetio-dag',\n",
       "       'II_binary|II_literature|Yu-11|hetio-dag', 'II_binary|Yu-11',\n",
       "       'II_binary|II_literature|Lit-BM-13|Yu-11',\n",
       "       'HI-I-05|II_binary|II_literature|Yu-11',\n",
       "       'II_binary|II_literature|Venkatesan-09|hetio-dag',\n",
       "       'II_binary|Lit-BM-13|Yu-11|hetio-dag',\n",
       "       'HI-II-14|II_binary|II_literature|Lit-BM-13|Venkatesan-09|hetio-dag',\n",
       "       'HI-I-05|HI-II-14|II_binary|II_literature|Lit-BM-13|Venkatesan-09|hetio-dag',\n",
       "       'HI-I-05|II_binary|II_literature|Venkatesan-09',\n",
       "       'HI-II-14|II_binary|Lit-BM-13|Yu-11'], dtype=object)"
      ]
     },
     "execution_count": 13,
     "metadata": {},
     "output_type": "execute_result"
    }
   ],
   "source": [
    "map_df.sources.unique()"
   ]
  },
  {
   "cell_type": "code",
   "execution_count": 14,
   "metadata": {
    "ExecuteTime": {
     "end_time": "2019-08-07T17:56:59.314921Z",
     "start_time": "2019-08-07T17:56:59.195886Z"
    }
   },
   "outputs": [
    {
     "data": {
      "text/html": [
       "<div>\n",
       "<style scoped>\n",
       "    .dataframe tbody tr th:only-of-type {\n",
       "        vertical-align: middle;\n",
       "    }\n",
       "\n",
       "    .dataframe tbody tr th {\n",
       "        vertical-align: top;\n",
       "    }\n",
       "\n",
       "    .dataframe thead th {\n",
       "        text-align: right;\n",
       "    }\n",
       "</style>\n",
       "<table border=\"1\" class=\"dataframe\">\n",
       "  <thead>\n",
       "    <tr style=\"text-align: right;\">\n",
       "      <th></th>\n",
       "      <th>gene1_id</th>\n",
       "      <th>gene1_name</th>\n",
       "      <th>gene2_id</th>\n",
       "      <th>gene2_name</th>\n",
       "      <th>sources</th>\n",
       "      <th>n_sentences</th>\n",
       "      <th>hetionet</th>\n",
       "      <th>has_sentence</th>\n",
       "      <th>split</th>\n",
       "      <th>partition_rank</th>\n",
       "    </tr>\n",
       "  </thead>\n",
       "  <tbody>\n",
       "    <tr>\n",
       "      <th>0</th>\n",
       "      <td>1</td>\n",
       "      <td>A1BG</td>\n",
       "      <td>10321</td>\n",
       "      <td>CRISP3</td>\n",
       "      <td>II_literature|hetio-dag</td>\n",
       "      <td>5</td>\n",
       "      <td>1</td>\n",
       "      <td>1</td>\n",
       "      <td>3</td>\n",
       "      <td>0.436432</td>\n",
       "    </tr>\n",
       "    <tr>\n",
       "      <th>1</th>\n",
       "      <td>125</td>\n",
       "      <td>ADH1B</td>\n",
       "      <td>10321</td>\n",
       "      <td>CRISP3</td>\n",
       "      <td>NaN</td>\n",
       "      <td>1</td>\n",
       "      <td>0</td>\n",
       "      <td>1</td>\n",
       "      <td>3</td>\n",
       "      <td>0.664368</td>\n",
       "    </tr>\n",
       "  </tbody>\n",
       "</table>\n",
       "</div>"
      ],
      "text/plain": [
       "   gene1_id gene1_name  gene2_id gene2_name                  sources  \\\n",
       "0         1       A1BG     10321     CRISP3  II_literature|hetio-dag   \n",
       "1       125      ADH1B     10321     CRISP3                      NaN   \n",
       "\n",
       "   n_sentences  hetionet  has_sentence  split  partition_rank  \n",
       "0            5         1             1      3        0.436432  \n",
       "1            1         0             1      3        0.664368  "
      ]
     },
     "execution_count": 14,
     "metadata": {},
     "output_type": "execute_result"
    }
   ],
   "source": [
    "map_df = map_df[[\n",
    "    \"gene1_id\", \"gene1_name\",\n",
    "    \"gene2_id\", \"gene2_name\",\n",
    "    \"sources\", \"n_sentences\",\n",
    "    \"hetionet\", \"has_sentence\",\n",
    "    \"split\", \"partition_rank\"\n",
    "]]\n",
    "map_df.head(2)"
   ]
  },
  {
   "cell_type": "code",
   "execution_count": 15,
   "metadata": {
    "ExecuteTime": {
     "end_time": "2019-08-07T17:58:22.733823Z",
     "start_time": "2019-08-07T17:56:59.316604Z"
    }
   },
   "outputs": [],
   "source": [
    "map_df.to_csv(\"output/gene_interacts_gene.tsv.xz\", sep=\"\\t\", compression=\"xz\", index=False)"
   ]
  }
 ],
 "metadata": {
  "kernelspec": {
   "display_name": "Python [conda env:snorkeling]",
   "language": "python",
   "name": "conda-env-snorkeling-py"
  },
  "language_info": {
   "codemirror_mode": {
    "name": "ipython",
    "version": 3
   },
   "file_extension": ".py",
   "mimetype": "text/x-python",
   "name": "python",
   "nbconvert_exporter": "python",
   "pygments_lexer": "ipython3",
   "version": "3.6.7"
  },
  "toc": {
   "base_numbering": 1,
   "nav_menu": {},
   "number_sections": true,
   "sideBar": true,
   "skip_h1_title": false,
   "title_cell": "Table of Contents",
   "title_sidebar": "Contents",
   "toc_cell": false,
   "toc_position": {},
   "toc_section_display": true,
   "toc_window_display": false
  },
  "varInspector": {
   "cols": {
    "lenName": 16,
    "lenType": 16,
    "lenVar": 40
   },
   "kernels_config": {
    "python": {
     "delete_cmd_postfix": "",
     "delete_cmd_prefix": "del ",
     "library": "var_list.py",
     "varRefreshCmd": "print(var_dic_list())"
    },
    "r": {
     "delete_cmd_postfix": ") ",
     "delete_cmd_prefix": "rm(",
     "library": "var_list.r",
     "varRefreshCmd": "cat(var_dic_list()) "
    }
   },
   "types_to_exclude": [
    "module",
    "function",
    "builtin_function_or_method",
    "instance",
    "_Feature"
   ],
   "window_display": false
  }
 },
 "nbformat": 4,
 "nbformat_minor": 2
}
