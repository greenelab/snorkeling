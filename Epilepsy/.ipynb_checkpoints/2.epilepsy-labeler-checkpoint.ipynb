{
 "cells": [
  {
   "cell_type": "markdown",
   "metadata": {},
   "source": [
    "# MUST RUN AT THE START OF EVERYTHING"
   ]
  },
  {
   "cell_type": "code",
   "execution_count": null,
   "metadata": {
    "collapsed": false
   },
   "outputs": [],
   "source": [
    "%load_ext autoreload\n",
    "%autoreload 2\n",
    "%matplotlib inline\n",
    "\n",
    "import re\n",
    "import os\n",
    "\n",
    "from snorkel import SnorkelSession\n",
    "from snorkel.annotations import FeatureAnnotator\n",
    "from snorkel.annotations import LabelAnnotator\n",
    "from snorkel.models import candidate_subclass\n",
    "from snorkel.viewer import SentenceNgramViewer\n",
    "from snorkel.lf_helpers import (\n",
    "    get_left_tokens,\n",
    "    get_right_tokens, \n",
    "    get_between_tokens,\n",
    "    get_tagged_text,\n",
    "    get_text_between,\n",
    "    rule_regex_search_tagged_text,\n",
    "    rule_regex_search_btw_AB,\n",
    "    rule_regex_search_btw_BA,\n",
    "    rule_regex_search_before_A,\n",
    "    rule_regex_search_before_B,\n",
    ")\n",
    "import pandas as pd"
   ]
  },
  {
   "cell_type": "code",
   "execution_count": null,
   "metadata": {
    "collapsed": true
   },
   "outputs": [],
   "source": [
    "database_str = \"sqlite:///\" + os.environ['WORKINGPATH'] + \"/Database/epilepsy.db\"\n",
    "os.environ['SNORKELDB'] = database_str\n",
    "\n",
    "\n",
    "session = SnorkelSession()"
   ]
  },
  {
   "cell_type": "code",
   "execution_count": null,
   "metadata": {
    "collapsed": true
   },
   "outputs": [],
   "source": [
    "DiseaseGene = candidate_subclass('DiseaseGene', ['Disease', 'Gene'])"
   ]
  },
  {
   "cell_type": "markdown",
   "metadata": {},
   "source": [
    "# Look at potential Candidates"
   ]
  },
  {
   "cell_type": "markdown",
   "metadata": {},
   "source": [
    "Use this to look at loaded candidates from a given set. The constants represent the index to retrieve the training set, development set and testing set."
   ]
  },
  {
   "cell_type": "code",
   "execution_count": null,
   "metadata": {
    "collapsed": false
   },
   "outputs": [],
   "source": [
    "TRAIN = 0\n",
    "DEV = 1\n",
    "TEST = 2\n",
    "\n",
    "candidates = session.query(DiseaseGene).filter(DiseaseGene.split==TRAIN).all()\n",
    "sv = SentenceNgramViewer(candidates, session)"
   ]
  },
  {
   "cell_type": "code",
   "execution_count": null,
   "metadata": {
    "collapsed": true
   },
   "outputs": [],
   "source": [
    "sv"
   ]
  },
  {
   "cell_type": "markdown",
   "metadata": {},
   "source": [
    "# Label Functions"
   ]
  },
  {
   "cell_type": "markdown",
   "metadata": {},
   "source": [
    "Here is the fundamental part of the project. Below are the label functions that are used to give a candidate a label of 1,0 or -1 which corresponds to correct relation, not sure and incorrection relation. The goal here is to develop functions that can label as many candidates as possible."
   ]
  },
  {
   "cell_type": "code",
   "execution_count": null,
   "metadata": {
    "collapsed": false
   },
   "outputs": [],
   "source": [
    "gene_list = pd.read_csv('epilepsy-genes.tsv',sep=\"\\t\")"
   ]
  },
  {
   "cell_type": "code",
   "execution_count": null,
   "metadata": {
    "collapsed": false
   },
   "outputs": [],
   "source": [
    "variation_words = {\"mutation\", \"mutation-negative\", \"mutation-positive\",\n",
    "                   \"de novo\", \"heterozygous\", \"homozygous\", \"deletion\", \"variants\",\"variant\",\n",
    "                   \"recessive\",\"autosomal\", \"haploinsufficiency\", \"knock-out\", \"genotype\",\n",
    "                  \"null\"}\n",
    "\n",
    "cause_words = {\"cause\", \"caused\", \"maps\", \"due\", \"associated\"}\n",
    "neg_words = {\"serum\", \"intervention\", \"negative\"}\n",
    "\n",
    "related_diseases_symptoms = {\"epileptic encephalopathies\",\"epileptic encephalopathy\", \"seizures\", \"encephalopathy\",\n",
    "                             \"epileptic spasms\", \"myoclonic astatic epilepsy\", \"neurodevelopmental\",\n",
    "                            \"refractory epilepsy\", \"severe myoclonic epilepsy of infancy\",\n",
    "                            \"dravet syndrome\", \"myoclonic-astatic epilepsy\", \"absence epilepsy\", \n",
    "                            \"epilepsies\", \"west syndrome\", \"seizures\", \"autoimmune epilepsy\",\n",
    "                            \"temporal libe epilepsy\"}\n",
    "\n",
    "unrelated_diseases = {\"continguous gene syndrome\", \"X-linked clinical syndrome\", \n",
    "                      \"insulin-dependent diabetes mellitus\", \"stiff-person syndrome\",\n",
    "                     \"vascular syndrome\",\"autophagic vacuolar myopathy\",\"cardiomyopathy\",\n",
    "                     \"Chinese linear nevus sebaceous syndrome\", \"MPPH syndrome\",\n",
    "                     \"hypertrophic cardiomyopathy\", \"mowat-wilson syndrome\", \"hunter syndrome\",\n",
    "                     \"Nephrotic Syndrome\", \"Vici syndrome\"}\n",
    "\n",
    "disese_abbreviations_pos = {\"SMEI\", \"DS\", \"MAE\", \"CS\", \"TLE\", \"ADLTE\", \"EIEE\"}\n",
    "disease_abbreviations_neg = {\"MWS\", \"KDT\", \"TSC\", \"CCHS\", \"IDDM\", \"BPP\", \"NS\"}\n",
    "\n",
    "gene_adj = {\"-related\", \"anti-\", \"-gene\"}\n",
    "model_organisms = {\"mice\", \"zebrafish\", \"drosophila\"}\n",
    "\n",
    "disease_context = {\"patients with\", \"individuals with\", \"cases of\", \"treatment of\"}\n",
    "\n",
    "def LF_abbreviation(c):\n",
    "    \"\"\"\n",
    "    IF {{B}}} {{A}} or vice versa then not a valid relationship\n",
    "    \"\"\"\n",
    "    if len(get_text_between(c)) < 3:\n",
    "        return -1\n",
    "    return 0\n",
    "\n",
    "def LF_is_a(c):\n",
    "    \"\"\"\n",
    "    If {{a}} is a {{B}} or {{B}} is a {{A}}\n",
    "    \"\"\"\n",
    "    return rule_regex_search_btw_AB(c,r'.* is a .*',-1) or rule_regex_search_btw_BA(c,r'is a',-1)\n",
    "\n",
    "def LF_variation(c):\n",
    "    \"\"\"\n",
    "    If variation keyword in close proximity then label as positive\n",
    "    \"\"\"\n",
    "    if len(variation_words.intersection(get_left_tokens(c[1]))) > 0:\n",
    "        return 1\n",
    "    if len(variation_words.intersection(get_right_tokens(c[1]))) > 0:\n",
    "        return 1\n",
    "    return 0\n",
    "\n",
    "def LF_model_organisms(c):\n",
    "    \"\"\"\n",
    "    If mentions model organism then c[1] should be a gene\n",
    "    \"\"\"\n",
    "    if len(model_organisms.intersection(get_left_tokens(c[1]))) > 0:\n",
    "        return 1\n",
    "    if len(model_organisms.intersection(get_left_tokens(c[1]))) > 0:\n",
    "        return 1\n",
    "    return 0\n",
    "\n",
    "def LF_cause(c):\n",
    "    \"\"\"\n",
    "    If the causual keywords are between disease and gene then should be positive predictor\n",
    "    \"\"\"\n",
    "    if len(cause_words.intersection(get_between_tokens(c))) > 0:\n",
    "        return 1\n",
    "    return 0\n",
    "\n",
    "def LF_neg_words(c):\n",
    "    \"\"\"\n",
    "    If it mentions serum or intervention before or after gene then negative \n",
    "    \"\"\"\n",
    "    if len(neg_words.intersection(get_left_tokens(c[1],window=3))) > 0:\n",
    "        return -1\n",
    "    if len(neg_words.intersection(get_right_tokens(c[1],window=3))) > 0:\n",
    "        return -1\n",
    "    return 0\n",
    "\n",
    "def LF_gene(c):\n",
    "    \"\"\"\n",
    "    If candidate has gene word near it\n",
    "    \"\"\"\n",
    "    if \"gene\" in get_left_tokens(c[1]) or \"gene\" in get_right_tokens(c[1]):\n",
    "        return 1\n",
    "    return 0\n",
    "\n",
    "def LF_symptoms(c):\n",
    "    \"\"\"\n",
    "    Add epilepsy specific symptoms\n",
    "    \"\"\"\n",
    "    if c[0].get_span().lower() in related_diseases_symptoms:\n",
    "        return 1\n",
    "    return -1\n",
    "\n",
    "def LF_disease_abbreviations(c):\n",
    "    \"\"\"\n",
    "    Label abbreviations\n",
    "    \"\"\"\n",
    "    if c[0].get_span().lower() in disease_abbreviations_pos:\n",
    "        return 1\n",
    "    if c[0].get_span().lower() in disease_abbreviations_neg:\n",
    "        return -1\n",
    "    return 0\n",
    " \n",
    "def LF_unrelated_disease(c):\n",
    "    \"\"\"\n",
    "    If the disease is completely unrelated remove\n",
    "    \"\"\"\n",
    "    if c[0].get_span() in unrelated_diseases:\n",
    "        return -1\n",
    "    return 0\n",
    "\n",
    "def LF_related_adj(c):\n",
    "    \"\"\"\n",
    "    If there is a GENE with a -related tag next to it, then it might be important.\n",
    "    \"\"\"\n",
    "    for adj in gene_adj:\n",
    "        if adj in c[1].get_span().lower():\n",
    "            return 1\n",
    "    return 0\n",
    "\n",
    "def LF_disease_context(c):\n",
    "    \"\"\"\n",
    "    If mentions cases of or patients with -> disease\n",
    "    \"\"\"\n",
    "    tokens = \"\".join(get_left_tokens(c[1],window=3))\n",
    "    for context in disease_context:\n",
    "        if context in tokens:\n",
    "            return -1\n",
    "    return 0"
   ]
  },
  {
   "cell_type": "markdown",
   "metadata": {},
   "source": [
    "# Distant Supervision"
   ]
  },
  {
   "cell_type": "code",
   "execution_count": null,
   "metadata": {
    "collapsed": true
   },
   "outputs": [],
   "source": [
    "def LF_KB(c):\n",
    "    \"\"\"\n",
    "    If in knowledge base\n",
    "    \"\"\"\n",
    "    if c[0].sentence.entity_cids[c[0].get_word_start()] == \"D004827\":\n",
    "        if \";\" in c[1].sentence.entity_cids[c[1].get_word_start()]:\n",
    "            gene_id = int(c[1].sentence.entity_cids[c[1].get_word_start()].split(\";\")[0])\n",
    "        else:\n",
    "            gene_id = int(c[1].sentence.entity_cids[c[1].get_word_start()])\n",
    "        if gene_id in set(gene_list[gene_list[\"positive\"]==1][\"entrez_gene_id\"]):\n",
    "            return 1\n",
    "    return -1\n",
    "\n",
    "def LF_is_gene(c):\n",
    "    \"\"\"\n",
    "    If the name is a gene\n",
    "    \"\"\"\n",
    "    if c[1].get_span() in set(gene_list[\"gene_name\"]) or c[1].get_span() in set(gene_list[\"gene_symbol\"]):\n",
    "        return 0\n",
    "    return -1"
   ]
  },
  {
   "cell_type": "markdown",
   "metadata": {},
   "source": [
    "# Debug Label Function"
   ]
  },
  {
   "cell_type": "code",
   "execution_count": null,
   "metadata": {
    "collapsed": true
   },
   "outputs": [],
   "source": [
    "def LF_DEBUG(C):\n",
    "    print \"Left Tokens\"\n",
    "    print get_left_tokens(c,window=3)\n",
    "    print\n",
    "    print \"Right Tokens\"\n",
    "    print get_right_tokens(c)\n",
    "    print\n",
    "    print \"Between Tokens\"\n",
    "    print get_between_tokens(c)\n",
    "    print \n",
    "    print \"Tagged Text\"\n",
    "    print get_tagged_text(c)\n",
    "    print re.search(r'{{B}} .* is a .* {{A}}',get_tagged_text(c))\n",
    "    print\n",
    "    print \"Get between Text\"\n",
    "    print get_text_between(c)\n",
    "    print len(get_text_between(c))\n",
    "    print \n",
    "    print \"Parent Text\"\n",
    "    print c.get_parent()\n",
    "    print\n",
    "    return 0"
   ]
  },
  {
   "cell_type": "code",
   "execution_count": null,
   "metadata": {
    "collapsed": false
   },
   "outputs": [],
   "source": [
    "LFs = [\n",
    "    #Distant Supervision\n",
    "    LF_KB, LF_is_gene,\n",
    "    \n",
    "    #Other Label Functions\n",
    "    LF_abbreviation,LF_is_a,\n",
    "    LF_variation,LF_cause,LF_neg_words,\n",
    "    LF_gene, LF_symptoms, LF_is_gene,\n",
    "    LF_model_organisms, LF_unrelated_disease,\n",
    "    LF_related_adj, LF_disease_context\n",
    "]"
   ]
  },
  {
   "cell_type": "markdown",
   "metadata": {},
   "source": [
    "# Test out Label Functions"
   ]
  },
  {
   "cell_type": "code",
   "execution_count": null,
   "metadata": {
    "collapsed": false
   },
   "outputs": [],
   "source": [
    "labeled = []\n",
    "candidates = session.query(DiseaseGene).filter(DiseaseGene.split == 0).all()\n",
    "#candidates = [session.query(DiseaseGene).filter(DiseaseGene.id == ids).one() for ids in [19817,19818,19830,19862,19980,20001,20004]]\n",
    "\n",
    "for c in candidates:\n",
    "    if c[0].get_parent().id != 14264:\n",
    "        continue\n",
    "    print c\n",
    "    print get_tagged_text(c)\n",
    "    print c[1].sentence.entity_cids[c[1].get_word_start()]"
   ]
  },
  {
   "cell_type": "markdown",
   "metadata": {},
   "source": [
    "# Label The Candidates"
   ]
  },
  {
   "cell_type": "markdown",
   "metadata": {},
   "source": [
    "This block of code will run through the label functions and label each candidate in the training and development groups."
   ]
  },
  {
   "cell_type": "code",
   "execution_count": null,
   "metadata": {
    "collapsed": false
   },
   "outputs": [],
   "source": [
    "labeler = LabelAnnotator(f=LFs)\n",
    "\n",
    "%time L_train = labeler.apply(split=0)\n",
    "%time L_dev = labeler.apply_existing(split=1)\n",
    "%time L_test = labeler.apply_existing(split=2)"
   ]
  },
  {
   "cell_type": "code",
   "execution_count": null,
   "metadata": {
    "collapsed": false
   },
   "outputs": [],
   "source": [
    "featurizer = FeatureAnnotator()\n",
    "\n",
    "%time F_train = featurizer.apply(split=0)\n",
    "%time F_dev = featurizer.apply_existing(split=1)\n",
    "%time F_test = featurizer.apply_existing(split=2)"
   ]
  },
  {
   "cell_type": "markdown",
   "metadata": {},
   "source": [
    "# Generate Coverage Stats"
   ]
  },
  {
   "cell_type": "markdown",
   "metadata": {},
   "source": [
    "Before throwing our labels at a machine learning algorithm take a look at some quick stats. The code below will show the coverage of each label function and some other stat things. "
   ]
  },
  {
   "cell_type": "code",
   "execution_count": null,
   "metadata": {
    "collapsed": false
   },
   "outputs": [],
   "source": [
    "print L_train.lf_stats(session, )"
   ]
  },
  {
   "cell_type": "code",
   "execution_count": null,
   "metadata": {
    "collapsed": false
   },
   "outputs": [],
   "source": [
    "print L_train.get_candidate(session,21)\n",
    "print L_train.get_candidate(session,21).get_parent()"
   ]
  },
  {
   "cell_type": "code",
   "execution_count": null,
   "metadata": {
    "collapsed": false
   },
   "outputs": [],
   "source": [
    "print L_train.shape\n",
    "print L_train[L_train < 0].shape\n",
    "print L_train[:,0]"
   ]
  },
  {
   "cell_type": "code",
   "execution_count": null,
   "metadata": {
    "collapsed": false
   },
   "outputs": [],
   "source": [
    "print L_dev.lf_stats(session, )"
   ]
  }
 ],
 "metadata": {
  "anaconda-cloud": {},
  "kernelspec": {
   "display_name": "Python 2",
   "language": "python",
   "name": "python2"
  },
  "language_info": {
   "codemirror_mode": {
    "name": "ipython",
    "version": 2
   },
   "file_extension": ".py",
   "mimetype": "text/x-python",
   "name": "python",
   "nbconvert_exporter": "python",
   "pygments_lexer": "ipython2",
   "version": "2.7.13"
  }
 },
 "nbformat": 4,
 "nbformat_minor": 2
}
